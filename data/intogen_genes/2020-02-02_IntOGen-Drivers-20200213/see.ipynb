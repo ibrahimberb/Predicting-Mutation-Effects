{
 "cells": [
  {
   "cell_type": "markdown",
   "metadata": {
    "collapsed": true,
    "pycharm": {
     "name": "#%% md\n"
    }
   },
   "source": [
    "# IntOGen Driver Genes"
   ]
  },
  {
   "cell_type": "raw",
   "source": [
    "https://www.intogen.org/download"
   ],
   "metadata": {
    "collapsed": false,
    "pycharm": {
     "name": "#%% raw\n"
    }
   }
  },
  {
   "cell_type": "code",
   "execution_count": 1,
   "outputs": [],
   "source": [
    "import pandas as pd"
   ],
   "metadata": {
    "collapsed": false,
    "pycharm": {
     "name": "#%%\n"
    }
   }
  },
  {
   "cell_type": "code",
   "execution_count": 2,
   "outputs": [],
   "source": [
    "INTOGEN_DATA_PATH = \"Compendium_Cancer_Genes.tsv\""
   ],
   "metadata": {
    "collapsed": false,
    "pycharm": {
     "name": "#%%\n"
    }
   }
  },
  {
   "cell_type": "code",
   "execution_count": 3,
   "outputs": [],
   "source": [
    "intogen_data = pd.read_csv(INTOGEN_DATA_PATH, sep=\"\\t\")"
   ],
   "metadata": {
    "collapsed": false,
    "pycharm": {
     "name": "#%%\n"
    }
   }
  },
  {
   "cell_type": "code",
   "execution_count": 5,
   "outputs": [
    {
     "data": {
      "text/plain": "BRCA     224\nPRAD     215\nBLCA     174\nDLBCL    158\nHC       157\n        ... \nLNET       2\nRB         1\nEPD        1\nATRT       1\nHBC        1\nName: CANCER_TYPE, Length: 66, dtype: int64"
     },
     "execution_count": 5,
     "metadata": {},
     "output_type": "execute_result"
    }
   ],
   "source": [
    "intogen_data[\"CANCER_TYPE\"].value_counts()"
   ],
   "metadata": {
    "collapsed": false,
    "pycharm": {
     "name": "#%%\n"
    }
   }
  },
  {
   "cell_type": "code",
   "execution_count": 6,
   "outputs": [
    {
     "data": {
      "text/plain": "  SYMBOL       TRANSCRIPT            COHORT CANCER_TYPE       METHODS  \\\n0  ABCB1  ENST00000622132  ICGC_WGS_ESAD_UK        ESCA  dndscv,cbase   \n1   ABI1  ENST00000376142  ICGC_WGS_ESAD_UK        ESCA     smregions   \n2   ABL1  ENST00000372348     HARTWIG_LIVER          HC   combination   \n3   ABL1  ENST00000372348     TCGA_WXS_UCEC        UCEC   combination   \n4   ABL2  ENST00000502732  ICGC_WGS_BRCA_FR        BRCA   combination   \n\n   MUTATIONS  SAMPLES  %_SAMPLES_COHORT  QVALUE_COMBINATION       ROLE  \\\n0       16.0       14          0.093333            0.000201        Act   \n1        3.0        2          0.013333            0.000107  ambiguous   \n2        3.0        3          0.058824            0.001472        Act   \n3       13.0       10          0.019881            0.006205        Act   \n4        2.0        2          0.027778            0.008338        Act   \n\n   CGC_GENE  CGC_CANCER_GENE           DOMAIN 2D_CLUSTERS 3D_CLUSTERS  \\\n0     False            False              NaN     915:915         NaN   \n1      True            False  PF00018:452:496         NaN         NaN   \n2      True            False              NaN         NaN         NaN   \n3      True            False              NaN         NaN         NaN   \n4      True            False              NaN         NaN         NaN   \n\n   EXCESS_MIS  EXCESS_NON  EXCESS_SPL  \n0    0.973575    0.000000         0.0  \n1    0.906740    0.977878         0.0  \n2    0.920462    0.000000         0.0  \n3    0.565525    0.772649         0.0  \n4    0.863833    0.986215         0.0  ",
      "text/html": "<div>\n<style scoped>\n    .dataframe tbody tr th:only-of-type {\n        vertical-align: middle;\n    }\n\n    .dataframe tbody tr th {\n        vertical-align: top;\n    }\n\n    .dataframe thead th {\n        text-align: right;\n    }\n</style>\n<table border=\"1\" class=\"dataframe\">\n  <thead>\n    <tr style=\"text-align: right;\">\n      <th></th>\n      <th>SYMBOL</th>\n      <th>TRANSCRIPT</th>\n      <th>COHORT</th>\n      <th>CANCER_TYPE</th>\n      <th>METHODS</th>\n      <th>MUTATIONS</th>\n      <th>SAMPLES</th>\n      <th>%_SAMPLES_COHORT</th>\n      <th>QVALUE_COMBINATION</th>\n      <th>ROLE</th>\n      <th>CGC_GENE</th>\n      <th>CGC_CANCER_GENE</th>\n      <th>DOMAIN</th>\n      <th>2D_CLUSTERS</th>\n      <th>3D_CLUSTERS</th>\n      <th>EXCESS_MIS</th>\n      <th>EXCESS_NON</th>\n      <th>EXCESS_SPL</th>\n    </tr>\n  </thead>\n  <tbody>\n    <tr>\n      <th>0</th>\n      <td>ABCB1</td>\n      <td>ENST00000622132</td>\n      <td>ICGC_WGS_ESAD_UK</td>\n      <td>ESCA</td>\n      <td>dndscv,cbase</td>\n      <td>16.0</td>\n      <td>14</td>\n      <td>0.093333</td>\n      <td>0.000201</td>\n      <td>Act</td>\n      <td>False</td>\n      <td>False</td>\n      <td>NaN</td>\n      <td>915:915</td>\n      <td>NaN</td>\n      <td>0.973575</td>\n      <td>0.000000</td>\n      <td>0.0</td>\n    </tr>\n    <tr>\n      <th>1</th>\n      <td>ABI1</td>\n      <td>ENST00000376142</td>\n      <td>ICGC_WGS_ESAD_UK</td>\n      <td>ESCA</td>\n      <td>smregions</td>\n      <td>3.0</td>\n      <td>2</td>\n      <td>0.013333</td>\n      <td>0.000107</td>\n      <td>ambiguous</td>\n      <td>True</td>\n      <td>False</td>\n      <td>PF00018:452:496</td>\n      <td>NaN</td>\n      <td>NaN</td>\n      <td>0.906740</td>\n      <td>0.977878</td>\n      <td>0.0</td>\n    </tr>\n    <tr>\n      <th>2</th>\n      <td>ABL1</td>\n      <td>ENST00000372348</td>\n      <td>HARTWIG_LIVER</td>\n      <td>HC</td>\n      <td>combination</td>\n      <td>3.0</td>\n      <td>3</td>\n      <td>0.058824</td>\n      <td>0.001472</td>\n      <td>Act</td>\n      <td>True</td>\n      <td>False</td>\n      <td>NaN</td>\n      <td>NaN</td>\n      <td>NaN</td>\n      <td>0.920462</td>\n      <td>0.000000</td>\n      <td>0.0</td>\n    </tr>\n    <tr>\n      <th>3</th>\n      <td>ABL1</td>\n      <td>ENST00000372348</td>\n      <td>TCGA_WXS_UCEC</td>\n      <td>UCEC</td>\n      <td>combination</td>\n      <td>13.0</td>\n      <td>10</td>\n      <td>0.019881</td>\n      <td>0.006205</td>\n      <td>Act</td>\n      <td>True</td>\n      <td>False</td>\n      <td>NaN</td>\n      <td>NaN</td>\n      <td>NaN</td>\n      <td>0.565525</td>\n      <td>0.772649</td>\n      <td>0.0</td>\n    </tr>\n    <tr>\n      <th>4</th>\n      <td>ABL2</td>\n      <td>ENST00000502732</td>\n      <td>ICGC_WGS_BRCA_FR</td>\n      <td>BRCA</td>\n      <td>combination</td>\n      <td>2.0</td>\n      <td>2</td>\n      <td>0.027778</td>\n      <td>0.008338</td>\n      <td>Act</td>\n      <td>True</td>\n      <td>False</td>\n      <td>NaN</td>\n      <td>NaN</td>\n      <td>NaN</td>\n      <td>0.863833</td>\n      <td>0.986215</td>\n      <td>0.0</td>\n    </tr>\n  </tbody>\n</table>\n</div>"
     },
     "execution_count": 6,
     "metadata": {},
     "output_type": "execute_result"
    }
   ],
   "source": [
    "intogen_data.head()"
   ],
   "metadata": {
    "collapsed": false,
    "pycharm": {
     "name": "#%%\n"
    }
   }
  },
  {
   "cell_type": "markdown",
   "source": [
    "### All Genes"
   ],
   "metadata": {
    "collapsed": false,
    "pycharm": {
     "name": "#%% md\n"
    }
   }
  },
  {
   "cell_type": "code",
   "execution_count": 8,
   "outputs": [
    {
     "data": {
      "text/plain": "568"
     },
     "execution_count": 8,
     "metadata": {},
     "output_type": "execute_result"
    }
   ],
   "source": [
    "all_genes = sorted(intogen_data[\"SYMBOL\"].unique())\n",
    "len(all_genes)"
   ],
   "metadata": {
    "collapsed": false,
    "pycharm": {
     "name": "#%%\n"
    }
   }
  },
  {
   "cell_type": "markdown",
   "source": [
    "### BRCA Genes"
   ],
   "metadata": {
    "collapsed": false,
    "pycharm": {
     "name": "#%% md\n"
    }
   }
  },
  {
   "cell_type": "code",
   "execution_count": 9,
   "outputs": [
    {
     "data": {
      "text/plain": "99"
     },
     "execution_count": 9,
     "metadata": {},
     "output_type": "execute_result"
    }
   ],
   "source": [
    "brca_genes = sorted(intogen_data[intogen_data[\"CANCER_TYPE\"] == \"BRCA\"][\"SYMBOL\"].unique())\n",
    "len(brca_genes)"
   ],
   "metadata": {
    "collapsed": false,
    "pycharm": {
     "name": "#%%\n"
    }
   }
  },
  {
   "cell_type": "markdown",
   "source": [
    "## Extract genes"
   ],
   "metadata": {
    "collapsed": false,
    "pycharm": {
     "name": "#%% md\n"
    }
   }
  },
  {
   "cell_type": "code",
   "execution_count": 10,
   "outputs": [],
   "source": [
    "from datetime import datetime"
   ],
   "metadata": {
    "collapsed": false,
    "pycharm": {
     "name": "#%%\n"
    }
   }
  },
  {
   "cell_type": "code",
   "execution_count": 12,
   "outputs": [],
   "source": [
    "def extract_genes(genes, cancer_type):\n",
    "    file_date = datetime.today().strftime('%Y-%m-%d')\n",
    "    file_name = f\"{cancer_type}_genes_{file_date}.txt\"\n",
    "    with open(file_name, \"w\") as file:\n",
    "        for gene in genes:\n",
    "            file.write(f\"{gene}\\n\")\n",
    "\n",
    "    print(f\"{cancer_type} - {len(genes)} genes are extracted successfully.\")\n"
   ],
   "metadata": {
    "collapsed": false,
    "pycharm": {
     "name": "#%%\n"
    }
   }
  },
  {
   "cell_type": "code",
   "execution_count": 13,
   "outputs": [
    {
     "name": "stdout",
     "output_type": "stream",
     "text": [
      "all - 568 genes are extracted successfully.\n",
      "BRCA - 99 genes are extracted successfully.\n"
     ]
    }
   ],
   "source": [
    "extract_genes(all_genes, \"all\")\n",
    "extract_genes(brca_genes, \"BRCA\")"
   ],
   "metadata": {
    "collapsed": false,
    "pycharm": {
     "name": "#%%\n"
    }
   }
  },
  {
   "cell_type": "code",
   "execution_count": null,
   "outputs": [],
   "source": [],
   "metadata": {
    "collapsed": false,
    "pycharm": {
     "name": "#%%\n"
    }
   }
  },
  {
   "cell_type": "code",
   "execution_count": null,
   "outputs": [],
   "source": [],
   "metadata": {
    "collapsed": false,
    "pycharm": {
     "name": "#%%\n"
    }
   }
  },
  {
   "cell_type": "code",
   "execution_count": null,
   "outputs": [],
   "source": [],
   "metadata": {
    "collapsed": false,
    "pycharm": {
     "name": "#%%\n"
    }
   }
  },
  {
   "cell_type": "code",
   "execution_count": null,
   "outputs": [],
   "source": [],
   "metadata": {
    "collapsed": false,
    "pycharm": {
     "name": "#%%\n"
    }
   }
  },
  {
   "cell_type": "code",
   "execution_count": null,
   "outputs": [],
   "source": [],
   "metadata": {
    "collapsed": false,
    "pycharm": {
     "name": "#%%\n"
    }
   }
  },
  {
   "cell_type": "code",
   "execution_count": null,
   "outputs": [],
   "source": [],
   "metadata": {
    "collapsed": false,
    "pycharm": {
     "name": "#%%\n"
    }
   }
  }
 ],
 "metadata": {
  "kernelspec": {
   "display_name": "Python 3",
   "language": "python",
   "name": "python3"
  },
  "language_info": {
   "codemirror_mode": {
    "name": "ipython",
    "version": 2
   },
   "file_extension": ".py",
   "mimetype": "text/x-python",
   "name": "python",
   "nbconvert_exporter": "python",
   "pygments_lexer": "ipython2",
   "version": "2.7.6"
  }
 },
 "nbformat": 4,
 "nbformat_minor": 0
}