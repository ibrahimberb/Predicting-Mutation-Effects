{
 "cells": [
  {
   "cell_type": "markdown",
   "source": [
    "# High Confidence Increasing No Effect Mutations"
   ],
   "metadata": {
    "collapsed": false
   }
  },
  {
   "cell_type": "code",
   "execution_count": 1,
   "outputs": [
    {
     "name": "stdout",
     "output_type": "stream",
     "text": [
      "\u001B[32mMarch 28, 2022 12:08:51\u001B[0m\n"
     ]
    }
   ],
   "source": [
    "from datetime import datetime\n",
    "\n",
    "print(\"\\033[32m{}\\033[0m\".format(datetime.now().strftime(\"%B %d, %Y %H:%M:%S\")))"
   ],
   "metadata": {
    "collapsed": false,
    "pycharm": {
     "name": "#%%\n"
    }
   }
  },
  {
   "cell_type": "markdown",
   "source": [
    "**Setup**"
   ],
   "metadata": {
    "collapsed": false
   }
  },
  {
   "cell_type": "code",
   "execution_count": 2,
   "outputs": [],
   "source": [
    "import pandas as pd\n",
    "from pandas import read_csv\n",
    "\n",
    "BRCA_PREDICTION_PATH = \"brca_prediction_2021-11-17/558297b6/predictions_soft_2021-11-17.csv\"\n",
    "COAD_PREDICTION_PATH = \"coad_prediction_2022-01-06/9789393f/predictions_soft_2022-01-06.csv\"\n",
    "ESCA_PREDICTION_PATH = \"esca_prediction_2021-11-17/59544312/predictions_soft_2021-11-17.csv\"\n",
    "GBM_PREDICTION_PATH = \"gbm_prediction_2021-11-17/b9cfc7ea/predictions_soft_2021-11-17.csv\"\n",
    "HNSC_PREDICTION_PATH = \"hnsc_prediction_2021-11-17/53930f30/predictions_soft_2021-11-17.csv\"\n",
    "OV_PREDICTION_PATH = \"ov_prediction_2021-11-17/37bf1637/predictions_soft_2021-11-17.csv\"\n",
    "\n",
    "# Reflect changes in the modules immediately.\n",
    "%load_ext autoreload\n",
    "%autoreload 2"
   ],
   "metadata": {
    "collapsed": false,
    "pycharm": {
     "name": "#%%\n"
    }
   }
  },
  {
   "cell_type": "code",
   "execution_count": 6,
   "outputs": [],
   "source": [
    "brca_prediction_data = read_csv(BRCA_PREDICTION_PATH)\n",
    "coad_prediction_data = read_csv(COAD_PREDICTION_PATH)\n",
    "esca_prediction_data = read_csv(ESCA_PREDICTION_PATH)\n",
    "gbm_prediction_data = read_csv(GBM_PREDICTION_PATH)\n",
    "hnsc_prediction_data = read_csv(HNSC_PREDICTION_PATH)\n",
    "ov_prediction_data = read_csv(OV_PREDICTION_PATH)\n",
    "\n",
    "TCGA_TO_PREDICTION_DATA = {\n",
    "    \"BRCA\": brca_prediction_data,\n",
    "    \"COAD\": coad_prediction_data,\n",
    "    \"ESCA\": esca_prediction_data,\n",
    "    \"GBM\": gbm_prediction_data,\n",
    "    \"HNSC\": hnsc_prediction_data,\n",
    "    \"OV\": ov_prediction_data,\n",
    "}"
   ],
   "metadata": {
    "collapsed": false,
    "pycharm": {
     "name": "#%%\n"
    }
   }
  },
  {
   "cell_type": "code",
   "execution_count": 12,
   "outputs": [],
   "source": [
    "def save_excel_sheet(excel_file_path, tcga_to_prediction_data):\n",
    "\n",
    "    file_date = datetime.today().strftime('%Y-%m-%d')\n",
    "    file_name = f\"{excel_file_path}_{file_date}.xlsx\"\n",
    "\n",
    "    writer = pd.ExcelWriter(file_name, engine='xlsxwriter')\n",
    "\n",
    "    for tcga, tcga_prediction_data in tcga_to_prediction_data.items():\n",
    "        tcga_prediction_data.to_excel(writer, sheet_name=f\"{tcga}\", index=False)\n",
    "\n",
    "    writer.save()\n",
    "    print(f\"File {file_name} exported successfully.\")"
   ],
   "metadata": {
    "collapsed": false,
    "pycharm": {
     "name": "#%%\n"
    }
   }
  },
  {
   "cell_type": "code",
   "execution_count": 13,
   "outputs": [
    {
     "name": "stdout",
     "output_type": "stream",
     "text": [
      "File TCGA_Predictions_Merged_2022-03-28.xlsx exported successfully.\n"
     ]
    }
   ],
   "source": [
    "save_excel_sheet(\"TCGA_Predictions_Merged\", TCGA_TO_PREDICTION_DATA)"
   ],
   "metadata": {
    "collapsed": false,
    "pycharm": {
     "name": "#%%\n"
    }
   }
  },
  {
   "cell_type": "markdown",
   "source": [
    "---"
   ],
   "metadata": {
    "collapsed": false,
    "pycharm": {
     "name": "#%% md\n"
    }
   }
  },
  {
   "cell_type": "code",
   "execution_count": null,
   "outputs": [],
   "source": [],
   "metadata": {
    "collapsed": false,
    "pycharm": {
     "name": "#%%\n"
    }
   }
  },
  {
   "cell_type": "code",
   "execution_count": null,
   "outputs": [],
   "source": [],
   "metadata": {
    "collapsed": false,
    "pycharm": {
     "name": "#%%\n"
    }
   }
  }
 ],
 "metadata": {
  "kernelspec": {
   "display_name": "Python 3",
   "language": "python",
   "name": "python3"
  },
  "language_info": {
   "codemirror_mode": {
    "name": "ipython",
    "version": 2
   },
   "file_extension": ".py",
   "mimetype": "text/x-python",
   "name": "python",
   "nbconvert_exporter": "python",
   "pygments_lexer": "ipython2",
   "version": "2.7.6"
  }
 },
 "nbformat": 4,
 "nbformat_minor": 0
}