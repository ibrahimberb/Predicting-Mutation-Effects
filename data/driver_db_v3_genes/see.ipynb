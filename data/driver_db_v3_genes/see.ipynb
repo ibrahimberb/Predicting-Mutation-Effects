{
 "cells": [
  {
   "cell_type": "markdown",
   "metadata": {
    "collapsed": true,
    "pycharm": {
     "name": "#%% md\n"
    }
   },
   "source": [
    "# DriverDB_v3"
   ]
  },
  {
   "cell_type": "code",
   "execution_count": 24,
   "outputs": [],
   "source": [
    "from typing import List\n",
    "\n",
    "import pandas as pd"
   ],
   "metadata": {
    "collapsed": false,
    "pycharm": {
     "name": "#%%\n"
    }
   }
  },
  {
   "cell_type": "code",
   "execution_count": 25,
   "outputs": [],
   "source": [
    "DATA_PATH = \"mutation_download_tab.txt\""
   ],
   "metadata": {
    "collapsed": false,
    "pycharm": {
     "name": "#%%\n"
    }
   }
  },
  {
   "cell_type": "code",
   "execution_count": 26,
   "outputs": [
    {
     "data": {
      "text/plain": "                        cancer_project cancer_type_abbr            tool  \\\n0    Adrenocortical_carcinoma(TCGA,US)              ACC    activedriver   \n1    Adrenocortical_carcinoma(TCGA,US)              ACC           comet   \n2    Adrenocortical_carcinoma(TCGA,US)              ACC         dendrix   \n3    Adrenocortical_carcinoma(TCGA,US)              ACC        driverml   \n4    Adrenocortical_carcinoma(TCGA,US)              ACC        e-driver   \n..                                 ...              ...             ...   \n367            Uveal_melanoma(TCGA,US)              UVM            msea   \n368            Uveal_melanoma(TCGA,US)              UVM           mutex   \n369            Uveal_melanoma(TCGA,US)              UVM        mutsigcv   \n370            Uveal_melanoma(TCGA,US)              UVM          netbox   \n371            Uveal_melanoma(TCGA,US)              UVM  oncodriveclust   \n\n                                           driver_gene  \n0    APC, USF3, TMCC1, CXXC1, CPS1, KIAA1671, ADNP,...  \n1    ANO2, ANK3, STAB1, CLTB, HUWE1, EPG5, CHD2, RB...  \n2    NLRP12, GOLGA4, NAV3, UNC13C, CMYA5, CCDC168, ...  \n3                      EXPH5, EML6, TP53, MUC4, NUP188  \n4    XIRP2, SVEP1, CSMD3, CCDC168, HMCN1, VWF, GRID...  \n..                                                 ...  \n367                         EIF1AX, SF3B1, GNAQ, GNA11  \n368                                        GNAQ, GNA11  \n369                                       GNA11, HECW2  \n370  BAP1, COL14A1, CYSLTR2, EIF1AX, GNA11, GNAQ, M...  \n371                         GNAQ, GNA11, SF3B1, EIF1AX  \n\n[372 rows x 4 columns]",
      "text/html": "<div>\n<style scoped>\n    .dataframe tbody tr th:only-of-type {\n        vertical-align: middle;\n    }\n\n    .dataframe tbody tr th {\n        vertical-align: top;\n    }\n\n    .dataframe thead th {\n        text-align: right;\n    }\n</style>\n<table border=\"1\" class=\"dataframe\">\n  <thead>\n    <tr style=\"text-align: right;\">\n      <th></th>\n      <th>cancer_project</th>\n      <th>cancer_type_abbr</th>\n      <th>tool</th>\n      <th>driver_gene</th>\n    </tr>\n  </thead>\n  <tbody>\n    <tr>\n      <th>0</th>\n      <td>Adrenocortical_carcinoma(TCGA,US)</td>\n      <td>ACC</td>\n      <td>activedriver</td>\n      <td>APC, USF3, TMCC1, CXXC1, CPS1, KIAA1671, ADNP,...</td>\n    </tr>\n    <tr>\n      <th>1</th>\n      <td>Adrenocortical_carcinoma(TCGA,US)</td>\n      <td>ACC</td>\n      <td>comet</td>\n      <td>ANO2, ANK3, STAB1, CLTB, HUWE1, EPG5, CHD2, RB...</td>\n    </tr>\n    <tr>\n      <th>2</th>\n      <td>Adrenocortical_carcinoma(TCGA,US)</td>\n      <td>ACC</td>\n      <td>dendrix</td>\n      <td>NLRP12, GOLGA4, NAV3, UNC13C, CMYA5, CCDC168, ...</td>\n    </tr>\n    <tr>\n      <th>3</th>\n      <td>Adrenocortical_carcinoma(TCGA,US)</td>\n      <td>ACC</td>\n      <td>driverml</td>\n      <td>EXPH5, EML6, TP53, MUC4, NUP188</td>\n    </tr>\n    <tr>\n      <th>4</th>\n      <td>Adrenocortical_carcinoma(TCGA,US)</td>\n      <td>ACC</td>\n      <td>e-driver</td>\n      <td>XIRP2, SVEP1, CSMD3, CCDC168, HMCN1, VWF, GRID...</td>\n    </tr>\n    <tr>\n      <th>...</th>\n      <td>...</td>\n      <td>...</td>\n      <td>...</td>\n      <td>...</td>\n    </tr>\n    <tr>\n      <th>367</th>\n      <td>Uveal_melanoma(TCGA,US)</td>\n      <td>UVM</td>\n      <td>msea</td>\n      <td>EIF1AX, SF3B1, GNAQ, GNA11</td>\n    </tr>\n    <tr>\n      <th>368</th>\n      <td>Uveal_melanoma(TCGA,US)</td>\n      <td>UVM</td>\n      <td>mutex</td>\n      <td>GNAQ, GNA11</td>\n    </tr>\n    <tr>\n      <th>369</th>\n      <td>Uveal_melanoma(TCGA,US)</td>\n      <td>UVM</td>\n      <td>mutsigcv</td>\n      <td>GNA11, HECW2</td>\n    </tr>\n    <tr>\n      <th>370</th>\n      <td>Uveal_melanoma(TCGA,US)</td>\n      <td>UVM</td>\n      <td>netbox</td>\n      <td>BAP1, COL14A1, CYSLTR2, EIF1AX, GNA11, GNAQ, M...</td>\n    </tr>\n    <tr>\n      <th>371</th>\n      <td>Uveal_melanoma(TCGA,US)</td>\n      <td>UVM</td>\n      <td>oncodriveclust</td>\n      <td>GNAQ, GNA11, SF3B1, EIF1AX</td>\n    </tr>\n  </tbody>\n</table>\n<p>372 rows × 4 columns</p>\n</div>"
     },
     "execution_count": 26,
     "metadata": {},
     "output_type": "execute_result"
    }
   ],
   "source": [
    "driver_data = pd.read_csv(DATA_PATH, sep=\"\\t\")\n",
    "driver_data"
   ],
   "metadata": {
    "collapsed": false,
    "pycharm": {
     "name": "#%%\n"
    }
   }
  },
  {
   "cell_type": "code",
   "execution_count": 49,
   "outputs": [
    {
     "data": {
      "text/plain": "array(['activedriver', 'comet', 'dendrix', 'driverml', 'e-driver', 'ipac',\n       'msea', 'mutsigcv', 'netbox', 'oncodriveclust', 'dawnrank',\n       'drivernet', 'memo', 'mutex'], dtype=object)"
     },
     "execution_count": 49,
     "metadata": {},
     "output_type": "execute_result"
    }
   ],
   "source": [],
   "metadata": {
    "collapsed": false,
    "pycharm": {
     "name": "#%%\n"
    }
   }
  },
  {
   "cell_type": "code",
   "execution_count": null,
   "outputs": [],
   "source": [],
   "metadata": {
    "collapsed": false,
    "pycharm": {
     "name": "#%%\n"
    }
   }
  },
  {
   "cell_type": "code",
   "execution_count": null,
   "outputs": [],
   "source": [],
   "metadata": {
    "collapsed": false,
    "pycharm": {
     "name": "#%%\n"
    }
   }
  },
  {
   "cell_type": "code",
   "execution_count": 58,
   "outputs": [],
   "source": [
    "def get_genes(cancer_type, data, tool=None) -> List[str]:\n",
    "    if tool is None:\n",
    "        if cancer_type == \"all\":\n",
    "            genes = set(data[\"driver_gene\"].apply(lambda x: [gene.strip() for gene in x.split(\",\")]).explode())\n",
    "        else:\n",
    "            data_filtered = data[data[\"cancer_type_abbr\"] == cancer_type].copy()\n",
    "            genes = set(data_filtered[\"driver_gene\"].apply(lambda x: [gene.strip() for gene in x.split(\",\")]).explode())\n",
    "\n",
    "    else:\n",
    "        assert tool in list(driver_data[\"tool\"].unique())\n",
    "        data_tool = data[data[\"tool\"] == tool]\n",
    "        if cancer_type == \"all\":\n",
    "            genes = set(data_tool[\"driver_gene\"].apply(lambda x: [gene.strip() for gene in x.split(\",\")]).explode())\n",
    "        else:\n",
    "            data_filtered = data_tool[data_tool[\"cancer_type_abbr\"] == cancer_type].copy()\n",
    "            genes = set(data_filtered[\"driver_gene\"].apply(lambda x: [gene.strip() for gene in x.split(\",\")]).explode())\n",
    "\n",
    "    return sorted(genes)"
   ],
   "metadata": {
    "collapsed": false,
    "pycharm": {
     "name": "#%%\n"
    }
   }
  },
  {
   "cell_type": "code",
   "execution_count": 51,
   "outputs": [
    {
     "data": {
      "text/plain": "2206"
     },
     "execution_count": 51,
     "metadata": {},
     "output_type": "execute_result"
    }
   ],
   "source": [
    "brca_genes = get_genes(\"BRCA\", driver_data)\n",
    "len(brca_genes)"
   ],
   "metadata": {
    "collapsed": false,
    "pycharm": {
     "name": "#%%\n"
    }
   }
  },
  {
   "cell_type": "code",
   "execution_count": 52,
   "outputs": [
    {
     "data": {
      "text/plain": "14692"
     },
     "execution_count": 52,
     "metadata": {},
     "output_type": "execute_result"
    }
   ],
   "source": [
    "all_genes = get_genes(\"all\", driver_data)\n",
    "len(all_genes)"
   ],
   "metadata": {
    "collapsed": false,
    "pycharm": {
     "name": "#%%\n"
    }
   }
  },
  {
   "cell_type": "markdown",
   "source": [
    "**dawnrank**"
   ],
   "metadata": {
    "collapsed": false,
    "pycharm": {
     "name": "#%% md\n"
    }
   }
  },
  {
   "cell_type": "code",
   "execution_count": 60,
   "outputs": [
    {
     "data": {
      "text/plain": "30"
     },
     "execution_count": 60,
     "metadata": {},
     "output_type": "execute_result"
    }
   ],
   "source": [
    "brca_genes_dawnrank = get_genes(\"BRCA\", driver_data, \"dawnrank\")\n",
    "len(brca_genes_dawnrank)"
   ],
   "metadata": {
    "collapsed": false,
    "pycharm": {
     "name": "#%%\n"
    }
   }
  },
  {
   "cell_type": "code",
   "execution_count": 61,
   "outputs": [
    {
     "data": {
      "text/plain": "295"
     },
     "execution_count": 61,
     "metadata": {},
     "output_type": "execute_result"
    }
   ],
   "source": [
    "all_genes_dawnrank = get_genes(\"all\", driver_data, \"dawnrank\")\n",
    "len(all_genes_dawnrank)"
   ],
   "metadata": {
    "collapsed": false,
    "pycharm": {
     "name": "#%%\n"
    }
   }
  },
  {
   "cell_type": "markdown",
   "source": [
    "**drivernet**"
   ],
   "metadata": {
    "collapsed": false,
    "pycharm": {
     "name": "#%% md\n"
    }
   }
  },
  {
   "cell_type": "code",
   "execution_count": 64,
   "outputs": [
    {
     "name": "stdout",
     "output_type": "stream",
     "text": [
      "119\n"
     ]
    },
    {
     "data": {
      "text/plain": "279"
     },
     "execution_count": 64,
     "metadata": {},
     "output_type": "execute_result"
    }
   ],
   "source": [
    "brca_genes_drivernet = get_genes(\"BRCA\", driver_data, \"drivernet\")\n",
    "print(len(brca_genes_drivernet))\n",
    "\n",
    "all_genes_drivernet = get_genes(\"all\", driver_data, \"drivernet\")\n",
    "len(all_genes_drivernet)"
   ],
   "metadata": {
    "collapsed": false,
    "pycharm": {
     "name": "#%%\n"
    }
   }
  },
  {
   "cell_type": "markdown",
   "source": [
    "**Mutex**"
   ],
   "metadata": {
    "collapsed": false,
    "pycharm": {
     "name": "#%% md\n"
    }
   }
  },
  {
   "cell_type": "code",
   "execution_count": 66,
   "outputs": [
    {
     "name": "stdout",
     "output_type": "stream",
     "text": [
      "18\n"
     ]
    },
    {
     "data": {
      "text/plain": "658"
     },
     "execution_count": 66,
     "metadata": {},
     "output_type": "execute_result"
    }
   ],
   "source": [
    "brca_genes_mutex = get_genes(\"BRCA\", driver_data, \"mutex\")\n",
    "print(len(brca_genes_mutex))\n",
    "\n",
    "all_genes_mutex = get_genes(\"all\", driver_data, \"mutex\")\n",
    "len(all_genes_mutex)"
   ],
   "metadata": {
    "collapsed": false,
    "pycharm": {
     "name": "#%%\n"
    }
   }
  },
  {
   "cell_type": "code",
   "execution_count": null,
   "outputs": [],
   "source": [],
   "metadata": {
    "collapsed": false,
    "pycharm": {
     "name": "#%%\n"
    }
   }
  },
  {
   "cell_type": "code",
   "execution_count": null,
   "outputs": [],
   "source": [],
   "metadata": {
    "collapsed": false,
    "pycharm": {
     "name": "#%%\n"
    }
   }
  },
  {
   "cell_type": "markdown",
   "source": [
    "### Extracting the genes"
   ],
   "metadata": {
    "collapsed": false,
    "pycharm": {
     "name": "#%% md\n"
    }
   }
  },
  {
   "cell_type": "code",
   "execution_count": 44,
   "outputs": [],
   "source": [
    "from datetime import datetime"
   ],
   "metadata": {
    "collapsed": false,
    "pycharm": {
     "name": "#%%\n"
    }
   }
  },
  {
   "cell_type": "code",
   "execution_count": 45,
   "outputs": [],
   "source": [
    "def extract_genes(genes: List, cancer_type):\n",
    "    file_date = datetime.today().strftime('%Y-%m-%d')\n",
    "    file_name = f\"{cancer_type}_genes_{file_date}.txt\"\n",
    "    with open(file_name, \"w\") as file:\n",
    "        for gene in genes:\n",
    "            file.write(f\"{gene}\\n\")\n",
    "\n",
    "    print(f\"{cancer_type} genes are extracted successfully.\")\n"
   ],
   "metadata": {
    "collapsed": false,
    "pycharm": {
     "name": "#%%\n"
    }
   }
  },
  {
   "cell_type": "code",
   "execution_count": null,
   "outputs": [],
   "source": [],
   "metadata": {
    "collapsed": false,
    "pycharm": {
     "name": "#%%\n"
    }
   }
  },
  {
   "cell_type": "code",
   "execution_count": 46,
   "outputs": [
    {
     "name": "stdout",
     "output_type": "stream",
     "text": [
      "all genes are extracted successfully.\n"
     ]
    }
   ],
   "source": [
    "extract_genes(all_genes, \"all\")"
   ],
   "metadata": {
    "collapsed": false,
    "pycharm": {
     "name": "#%%\n"
    }
   }
  },
  {
   "cell_type": "code",
   "execution_count": 47,
   "outputs": [
    {
     "name": "stdout",
     "output_type": "stream",
     "text": [
      "BRCA genes are extracted successfully.\n"
     ]
    }
   ],
   "source": [
    "extract_genes(brca_genes, \"BRCA\")"
   ],
   "metadata": {
    "collapsed": false,
    "pycharm": {
     "name": "#%%\n"
    }
   }
  },
  {
   "cell_type": "code",
   "execution_count": null,
   "outputs": [],
   "source": [],
   "metadata": {
    "collapsed": false,
    "pycharm": {
     "name": "#%%\n"
    }
   }
  },
  {
   "cell_type": "code",
   "execution_count": 62,
   "outputs": [
    {
     "name": "stdout",
     "output_type": "stream",
     "text": [
      "all_dawnrank genes are extracted successfully.\n",
      "BRCA_dawnrank genes are extracted successfully.\n"
     ]
    }
   ],
   "source": [
    "extract_genes(all_genes_dawnrank, \"all_dawnrank\")\n",
    "extract_genes(brca_genes_dawnrank, \"BRCA_dawnrank\")"
   ],
   "metadata": {
    "collapsed": false,
    "pycharm": {
     "name": "#%%\n"
    }
   }
  },
  {
   "cell_type": "code",
   "execution_count": null,
   "outputs": [],
   "source": [],
   "metadata": {
    "collapsed": false,
    "pycharm": {
     "name": "#%%\n"
    }
   }
  },
  {
   "cell_type": "code",
   "execution_count": 65,
   "outputs": [
    {
     "name": "stdout",
     "output_type": "stream",
     "text": [
      "all_drivernet genes are extracted successfully.\n",
      "BRCA_drivernet genes are extracted successfully.\n"
     ]
    }
   ],
   "source": [
    "extract_genes(all_genes_drivernet, \"all_drivernet\")\n",
    "extract_genes(brca_genes_drivernet, \"BRCA_drivernet\")"
   ],
   "metadata": {
    "collapsed": false,
    "pycharm": {
     "name": "#%%\n"
    }
   }
  },
  {
   "cell_type": "code",
   "execution_count": null,
   "outputs": [],
   "source": [],
   "metadata": {
    "collapsed": false,
    "pycharm": {
     "name": "#%%\n"
    }
   }
  },
  {
   "cell_type": "code",
   "execution_count": 67,
   "outputs": [
    {
     "name": "stdout",
     "output_type": "stream",
     "text": [
      "all_mutex genes are extracted successfully.\n",
      "BRCA_mutex genes are extracted successfully.\n"
     ]
    }
   ],
   "source": [
    "extract_genes(all_genes_mutex, \"all_mutex\")\n",
    "extract_genes(brca_genes_mutex, \"BRCA_mutex\")"
   ],
   "metadata": {
    "collapsed": false,
    "pycharm": {
     "name": "#%%\n"
    }
   }
  },
  {
   "cell_type": "code",
   "execution_count": null,
   "outputs": [],
   "source": [],
   "metadata": {
    "collapsed": false,
    "pycharm": {
     "name": "#%%\n"
    }
   }
  },
  {
   "cell_type": "code",
   "execution_count": null,
   "outputs": [],
   "source": [],
   "metadata": {
    "collapsed": false,
    "pycharm": {
     "name": "#%%\n"
    }
   }
  },
  {
   "cell_type": "code",
   "execution_count": null,
   "outputs": [],
   "source": [],
   "metadata": {
    "collapsed": false,
    "pycharm": {
     "name": "#%%\n"
    }
   }
  }
 ],
 "metadata": {
  "kernelspec": {
   "display_name": "Python 3",
   "language": "python",
   "name": "python3"
  },
  "language_info": {
   "codemirror_mode": {
    "name": "ipython",
    "version": 2
   },
   "file_extension": ".py",
   "mimetype": "text/x-python",
   "name": "python",
   "nbconvert_exporter": "python",
   "pygments_lexer": "ipython2",
   "version": "2.7.6"
  }
 },
 "nbformat": 4,
 "nbformat_minor": 0
}