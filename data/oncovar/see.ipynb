{
 "cells": [
  {
   "cell_type": "markdown",
   "metadata": {
    "collapsed": true,
    "pycharm": {
     "name": "#%% md\n"
    }
   },
   "source": [
    "## OncoVar"
   ],
   "execution_count": 1
  },
  {
   "cell_type": "raw",
   "source": [
    "https://oncovar.org/welcome/download"
   ],
   "metadata": {
    "collapsed": false,
    "pycharm": {
     "name": "#%% raw\n"
    }
   }
  },
  {
   "cell_type": "code",
   "execution_count": 2,
   "outputs": [],
   "source": [
    "import pandas as pd"
   ],
   "metadata": {
    "collapsed": false,
    "pycharm": {
     "name": "#%%\n"
    }
   }
  },
  {
   "cell_type": "code",
   "execution_count": 13,
   "outputs": [],
   "source": [
    "ONCOVAR_TCGA_PANCANCER_DATA_PATH = \"TCGA.PanCancer.onco.genes.OncoVar.tsv/TCGA.PanCancer.onco.genes.OncoVar.tsv\"\n",
    "ONCOVAR_TCGA_BRCA_DATA_PATH = \"TCGA.BRCA.onco.genes.OncoVar.tsv/TCGA.BRCA.onco.genes.OncoVar.tsv\""
   ],
   "metadata": {
    "collapsed": false,
    "pycharm": {
     "name": "#%%\n"
    }
   }
  },
  {
   "cell_type": "code",
   "execution_count": 14,
   "outputs": [],
   "source": [
    "oncovar_pancancer_data = pd.read_csv(ONCOVAR_TCGA_PANCANCER_DATA_PATH, sep=\"\\t\")\n",
    "oncovar_brca_data = pd.read_csv(ONCOVAR_TCGA_BRCA_DATA_PATH, sep=\"\\t\")"
   ],
   "metadata": {
    "collapsed": false,
    "pycharm": {
     "name": "#%%\n"
    }
   }
  },
  {
   "cell_type": "code",
   "execution_count": 15,
   "outputs": [
    {
     "data": {
      "text/plain": "                              Cancer Gene_symbol       Ensembl_ID  \\\n0   Breast invasive carcinoma [BRCA]      AKR1C3  ENSG00000196139   \n1   Breast invasive carcinoma [BRCA]        AKT1  ENSG00000142208   \n2   Breast invasive carcinoma [BRCA]    APOBEC3B  ENSG00000179750   \n3   Breast invasive carcinoma [BRCA]     ARHGAP5  ENSG00000100852   \n4   Breast invasive carcinoma [BRCA]      ARID1A  ENSG00000117713   \n..                               ...         ...              ...   \n71  Breast invasive carcinoma [BRCA]     TBL1XR1  ENSG00000177565   \n72  Breast invasive carcinoma [BRCA]        TBX3  ENSG00000135111   \n73  Breast invasive carcinoma [BRCA]        TP53  ENSG00000141510   \n74  Breast invasive carcinoma [BRCA]     ZFP36L1  ENSG00000185650   \n75  Breast invasive carcinoma [BRCA]       ZMYM3  ENSG00000147130   \n\n      Gene_biotype  ENTREZID Onco_gene_OncoVar       P_value           FDR  \\\n0   protein_coding      8644                 Y  2.589538e-04  4.299054e-02   \n1   protein_coding       207                 Y  0.000000e+00  0.000000e+00   \n2   protein_coding      9582                 Y  4.327857e-02  5.965736e-01   \n3   protein_coding       394                 Y  1.848551e-04  3.282383e-02   \n4   protein_coding      8289                 Y  1.219923e-19  3.235173e-17   \n..             ...       ...               ...           ...           ...   \n71  protein_coding     79718                 Y  0.000000e+00  0.000000e+00   \n72  protein_coding      6926                 Y  0.000000e+00  0.000000e+00   \n73  protein_coding      7157                 Y  0.000000e+00  0.000000e+00   \n74  protein_coding       677                 Y  0.000000e+00  0.000000e+00   \n75  protein_coding      9203                 Y  2.449284e-04  4.099539e-02   \n\n    OncoVar_Score CGC  ... CGCPointMut FASMIC MouseMut PMID_29056346  \\\n0        0.711425   N  ...           N      N        N             N   \n1        1.000000   1  ...       Y|Pan  Y|Pan        N         Y|Pan   \n2        0.472787   1  ...           N      N        N             N   \n3        0.732948   N  ...           N      N    Y|Pan         Y|Pan   \n4        1.000000   1  ...       Y|Pan      N    Y|Pan         Y|Pan   \n..            ...  ..  ...         ...    ...      ...           ...   \n71       1.000000   N  ...           N      N        N             N   \n72       1.000000   1  ...           N      N        N         Y|Pan   \n73       1.000000   1  ...       Y|Pan      N    Y|Pan         Y|Pan   \n74       1.000000   N  ...           N      N        N         Y|Pan   \n75       0.715274   2  ...           N      N        N         Y|Pan   \n\n   PMID_29056346_collected_known TCGA_papers DriverDBv3  \\\n0                              N           N          N   \n1                          Y|Pan       Y|Pan         10   \n2                              N           N          N   \n3                          Y|Pan           N          N   \n4                          Y|Pan       Y|Pan          3   \n..                           ...         ...        ...   \n71                         Y|Pan       Y|Pan          1   \n72                         Y|Pan       Y|Pan          5   \n73                         Y|Pan       Y|Pan         12   \n74                         Y|Pan           N          3   \n75                         Y|Pan           N          2   \n\n   Therapeutic_target_in_PMID_30971826 Consensus_Score Driver Level  \n0                                    N              20            4  \n1                                    Y              42            4  \n2                                    N              20            4  \n3                                    N              20            4  \n4                                    N              42            4  \n..                                 ...             ...          ...  \n71                                   N              31            4  \n72                                   Y              42            4  \n73                                   N              32            4  \n74                                   Y              31            4  \n75                                   N              30            4  \n\n[76 rows x 29 columns]",
      "text/html": "<div>\n<style scoped>\n    .dataframe tbody tr th:only-of-type {\n        vertical-align: middle;\n    }\n\n    .dataframe tbody tr th {\n        vertical-align: top;\n    }\n\n    .dataframe thead th {\n        text-align: right;\n    }\n</style>\n<table border=\"1\" class=\"dataframe\">\n  <thead>\n    <tr style=\"text-align: right;\">\n      <th></th>\n      <th>Cancer</th>\n      <th>Gene_symbol</th>\n      <th>Ensembl_ID</th>\n      <th>Gene_biotype</th>\n      <th>ENTREZID</th>\n      <th>Onco_gene_OncoVar</th>\n      <th>P_value</th>\n      <th>FDR</th>\n      <th>OncoVar_Score</th>\n      <th>CGC</th>\n      <th>...</th>\n      <th>CGCPointMut</th>\n      <th>FASMIC</th>\n      <th>MouseMut</th>\n      <th>PMID_29056346</th>\n      <th>PMID_29056346_collected_known</th>\n      <th>TCGA_papers</th>\n      <th>DriverDBv3</th>\n      <th>Therapeutic_target_in_PMID_30971826</th>\n      <th>Consensus_Score</th>\n      <th>Driver Level</th>\n    </tr>\n  </thead>\n  <tbody>\n    <tr>\n      <th>0</th>\n      <td>Breast invasive carcinoma [BRCA]</td>\n      <td>AKR1C3</td>\n      <td>ENSG00000196139</td>\n      <td>protein_coding</td>\n      <td>8644</td>\n      <td>Y</td>\n      <td>2.589538e-04</td>\n      <td>4.299054e-02</td>\n      <td>0.711425</td>\n      <td>N</td>\n      <td>...</td>\n      <td>N</td>\n      <td>N</td>\n      <td>N</td>\n      <td>N</td>\n      <td>N</td>\n      <td>N</td>\n      <td>N</td>\n      <td>N</td>\n      <td>20</td>\n      <td>4</td>\n    </tr>\n    <tr>\n      <th>1</th>\n      <td>Breast invasive carcinoma [BRCA]</td>\n      <td>AKT1</td>\n      <td>ENSG00000142208</td>\n      <td>protein_coding</td>\n      <td>207</td>\n      <td>Y</td>\n      <td>0.000000e+00</td>\n      <td>0.000000e+00</td>\n      <td>1.000000</td>\n      <td>1</td>\n      <td>...</td>\n      <td>Y|Pan</td>\n      <td>Y|Pan</td>\n      <td>N</td>\n      <td>Y|Pan</td>\n      <td>Y|Pan</td>\n      <td>Y|Pan</td>\n      <td>10</td>\n      <td>Y</td>\n      <td>42</td>\n      <td>4</td>\n    </tr>\n    <tr>\n      <th>2</th>\n      <td>Breast invasive carcinoma [BRCA]</td>\n      <td>APOBEC3B</td>\n      <td>ENSG00000179750</td>\n      <td>protein_coding</td>\n      <td>9582</td>\n      <td>Y</td>\n      <td>4.327857e-02</td>\n      <td>5.965736e-01</td>\n      <td>0.472787</td>\n      <td>1</td>\n      <td>...</td>\n      <td>N</td>\n      <td>N</td>\n      <td>N</td>\n      <td>N</td>\n      <td>N</td>\n      <td>N</td>\n      <td>N</td>\n      <td>N</td>\n      <td>20</td>\n      <td>4</td>\n    </tr>\n    <tr>\n      <th>3</th>\n      <td>Breast invasive carcinoma [BRCA]</td>\n      <td>ARHGAP5</td>\n      <td>ENSG00000100852</td>\n      <td>protein_coding</td>\n      <td>394</td>\n      <td>Y</td>\n      <td>1.848551e-04</td>\n      <td>3.282383e-02</td>\n      <td>0.732948</td>\n      <td>N</td>\n      <td>...</td>\n      <td>N</td>\n      <td>N</td>\n      <td>Y|Pan</td>\n      <td>Y|Pan</td>\n      <td>Y|Pan</td>\n      <td>N</td>\n      <td>N</td>\n      <td>N</td>\n      <td>20</td>\n      <td>4</td>\n    </tr>\n    <tr>\n      <th>4</th>\n      <td>Breast invasive carcinoma [BRCA]</td>\n      <td>ARID1A</td>\n      <td>ENSG00000117713</td>\n      <td>protein_coding</td>\n      <td>8289</td>\n      <td>Y</td>\n      <td>1.219923e-19</td>\n      <td>3.235173e-17</td>\n      <td>1.000000</td>\n      <td>1</td>\n      <td>...</td>\n      <td>Y|Pan</td>\n      <td>N</td>\n      <td>Y|Pan</td>\n      <td>Y|Pan</td>\n      <td>Y|Pan</td>\n      <td>Y|Pan</td>\n      <td>3</td>\n      <td>N</td>\n      <td>42</td>\n      <td>4</td>\n    </tr>\n    <tr>\n      <th>...</th>\n      <td>...</td>\n      <td>...</td>\n      <td>...</td>\n      <td>...</td>\n      <td>...</td>\n      <td>...</td>\n      <td>...</td>\n      <td>...</td>\n      <td>...</td>\n      <td>...</td>\n      <td>...</td>\n      <td>...</td>\n      <td>...</td>\n      <td>...</td>\n      <td>...</td>\n      <td>...</td>\n      <td>...</td>\n      <td>...</td>\n      <td>...</td>\n      <td>...</td>\n      <td>...</td>\n    </tr>\n    <tr>\n      <th>71</th>\n      <td>Breast invasive carcinoma [BRCA]</td>\n      <td>TBL1XR1</td>\n      <td>ENSG00000177565</td>\n      <td>protein_coding</td>\n      <td>79718</td>\n      <td>Y</td>\n      <td>0.000000e+00</td>\n      <td>0.000000e+00</td>\n      <td>1.000000</td>\n      <td>N</td>\n      <td>...</td>\n      <td>N</td>\n      <td>N</td>\n      <td>N</td>\n      <td>N</td>\n      <td>Y|Pan</td>\n      <td>Y|Pan</td>\n      <td>1</td>\n      <td>N</td>\n      <td>31</td>\n      <td>4</td>\n    </tr>\n    <tr>\n      <th>72</th>\n      <td>Breast invasive carcinoma [BRCA]</td>\n      <td>TBX3</td>\n      <td>ENSG00000135111</td>\n      <td>protein_coding</td>\n      <td>6926</td>\n      <td>Y</td>\n      <td>0.000000e+00</td>\n      <td>0.000000e+00</td>\n      <td>1.000000</td>\n      <td>1</td>\n      <td>...</td>\n      <td>N</td>\n      <td>N</td>\n      <td>N</td>\n      <td>Y|Pan</td>\n      <td>Y|Pan</td>\n      <td>Y|Pan</td>\n      <td>5</td>\n      <td>Y</td>\n      <td>42</td>\n      <td>4</td>\n    </tr>\n    <tr>\n      <th>73</th>\n      <td>Breast invasive carcinoma [BRCA]</td>\n      <td>TP53</td>\n      <td>ENSG00000141510</td>\n      <td>protein_coding</td>\n      <td>7157</td>\n      <td>Y</td>\n      <td>0.000000e+00</td>\n      <td>0.000000e+00</td>\n      <td>1.000000</td>\n      <td>1</td>\n      <td>...</td>\n      <td>Y|Pan</td>\n      <td>N</td>\n      <td>Y|Pan</td>\n      <td>Y|Pan</td>\n      <td>Y|Pan</td>\n      <td>Y|Pan</td>\n      <td>12</td>\n      <td>N</td>\n      <td>32</td>\n      <td>4</td>\n    </tr>\n    <tr>\n      <th>74</th>\n      <td>Breast invasive carcinoma [BRCA]</td>\n      <td>ZFP36L1</td>\n      <td>ENSG00000185650</td>\n      <td>protein_coding</td>\n      <td>677</td>\n      <td>Y</td>\n      <td>0.000000e+00</td>\n      <td>0.000000e+00</td>\n      <td>1.000000</td>\n      <td>N</td>\n      <td>...</td>\n      <td>N</td>\n      <td>N</td>\n      <td>N</td>\n      <td>Y|Pan</td>\n      <td>Y|Pan</td>\n      <td>N</td>\n      <td>3</td>\n      <td>Y</td>\n      <td>31</td>\n      <td>4</td>\n    </tr>\n    <tr>\n      <th>75</th>\n      <td>Breast invasive carcinoma [BRCA]</td>\n      <td>ZMYM3</td>\n      <td>ENSG00000147130</td>\n      <td>protein_coding</td>\n      <td>9203</td>\n      <td>Y</td>\n      <td>2.449284e-04</td>\n      <td>4.099539e-02</td>\n      <td>0.715274</td>\n      <td>2</td>\n      <td>...</td>\n      <td>N</td>\n      <td>N</td>\n      <td>N</td>\n      <td>Y|Pan</td>\n      <td>Y|Pan</td>\n      <td>N</td>\n      <td>2</td>\n      <td>N</td>\n      <td>30</td>\n      <td>4</td>\n    </tr>\n  </tbody>\n</table>\n<p>76 rows × 29 columns</p>\n</div>"
     },
     "execution_count": 15,
     "metadata": {},
     "output_type": "execute_result"
    }
   ],
   "source": [
    "oncovar_brca_data"
   ],
   "metadata": {
    "collapsed": false,
    "pycharm": {
     "name": "#%%\n"
    }
   }
  },
  {
   "cell_type": "code",
   "execution_count": null,
   "outputs": [],
   "source": [],
   "metadata": {
    "collapsed": false,
    "pycharm": {
     "name": "#%%\n"
    }
   }
  },
  {
   "cell_type": "code",
   "execution_count": 16,
   "outputs": [],
   "source": [
    "pancancer_genes = sorted(oncovar_pancancer_data[\"Gene_symbol\"].unique())\n",
    "brca_genes = sorted(oncovar_brca_data[\"Gene_symbol\"].unique())"
   ],
   "metadata": {
    "collapsed": false,
    "pycharm": {
     "name": "#%%\n"
    }
   }
  },
  {
   "cell_type": "code",
   "execution_count": null,
   "outputs": [],
   "source": [],
   "metadata": {
    "collapsed": false,
    "pycharm": {
     "name": "#%%\n"
    }
   }
  },
  {
   "cell_type": "markdown",
   "source": [
    "## Extract"
   ],
   "metadata": {
    "collapsed": false,
    "pycharm": {
     "name": "#%% md\n"
    }
   }
  },
  {
   "cell_type": "code",
   "execution_count": 17,
   "outputs": [],
   "source": [
    "from datetime import datetime"
   ],
   "metadata": {
    "collapsed": false,
    "pycharm": {
     "name": "#%%\n"
    }
   }
  },
  {
   "cell_type": "code",
   "execution_count": 20,
   "outputs": [],
   "source": [
    "def extract_genes(genes, cancer_type):\n",
    "    file_date = datetime.today().strftime('%Y-%m-%d')\n",
    "    file_name = f\"{cancer_type}_genes_{file_date}.txt\"\n",
    "    with open(file_name, \"w\") as file:\n",
    "        for gene in genes:\n",
    "            file.write(f\"{gene}\\n\")\n",
    "\n",
    "    print(f\"{cancer_type} genes {len(genes)} are extracted successfully.\")\n"
   ],
   "metadata": {
    "collapsed": false,
    "pycharm": {
     "name": "#%%\n"
    }
   }
  },
  {
   "cell_type": "code",
   "execution_count": 21,
   "outputs": [
    {
     "name": "stdout",
     "output_type": "stream",
     "text": [
      "all genes 713 are extracted successfully.\n",
      "breast genes 76 are extracted successfully.\n"
     ]
    }
   ],
   "source": [
    "extract_genes(pancancer_genes, \"all\")\n",
    "extract_genes(brca_genes, \"breast\")"
   ],
   "metadata": {
    "collapsed": false,
    "pycharm": {
     "name": "#%%\n"
    }
   }
  },
  {
   "cell_type": "code",
   "execution_count": null,
   "outputs": [],
   "source": [],
   "metadata": {
    "collapsed": false,
    "pycharm": {
     "name": "#%%\n"
    }
   }
  },
  {
   "cell_type": "code",
   "execution_count": null,
   "outputs": [],
   "source": [],
   "metadata": {
    "collapsed": false,
    "pycharm": {
     "name": "#%%\n"
    }
   }
  },
  {
   "cell_type": "code",
   "execution_count": null,
   "outputs": [],
   "source": [],
   "metadata": {
    "collapsed": false,
    "pycharm": {
     "name": "#%%\n"
    }
   }
  },
  {
   "cell_type": "code",
   "execution_count": null,
   "outputs": [],
   "source": [],
   "metadata": {
    "collapsed": false,
    "pycharm": {
     "name": "#%%\n"
    }
   }
  },
  {
   "cell_type": "code",
   "execution_count": null,
   "outputs": [],
   "source": [],
   "metadata": {
    "collapsed": false,
    "pycharm": {
     "name": "#%%\n"
    }
   }
  },
  {
   "cell_type": "code",
   "execution_count": null,
   "outputs": [],
   "source": [],
   "metadata": {
    "collapsed": false,
    "pycharm": {
     "name": "#%%\n"
    }
   }
  },
  {
   "cell_type": "code",
   "execution_count": null,
   "outputs": [],
   "source": [],
   "metadata": {
    "collapsed": false,
    "pycharm": {
     "name": "#%%\n"
    }
   }
  },
  {
   "cell_type": "code",
   "execution_count": null,
   "outputs": [],
   "source": [],
   "metadata": {
    "collapsed": false,
    "pycharm": {
     "name": "#%%\n"
    }
   }
  },
  {
   "cell_type": "code",
   "execution_count": null,
   "outputs": [],
   "source": [],
   "metadata": {
    "collapsed": false,
    "pycharm": {
     "name": "#%%\n"
    }
   }
  }
 ],
 "metadata": {
  "kernelspec": {
   "display_name": "Python 3",
   "language": "python",
   "name": "python3"
  },
  "language_info": {
   "codemirror_mode": {
    "name": "ipython",
    "version": 2
   },
   "file_extension": ".py",
   "mimetype": "text/x-python",
   "name": "python",
   "nbconvert_exporter": "python",
   "pygments_lexer": "ipython2",
   "version": "2.7.6"
  }
 },
 "nbformat": 4,
 "nbformat_minor": 0
}