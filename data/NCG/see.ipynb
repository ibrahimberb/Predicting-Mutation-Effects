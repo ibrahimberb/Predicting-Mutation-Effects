{
 "cells": [
  {
   "cell_type": "code",
   "execution_count": 1,
   "metadata": {
    "collapsed": true
   },
   "outputs": [],
   "source": [
    "# http://ncg.kcl.ac.uk/download.php"
   ]
  },
  {
   "cell_type": "code",
   "execution_count": 2,
   "outputs": [],
   "source": [
    "import pandas as pd"
   ],
   "metadata": {
    "collapsed": false,
    "pycharm": {
     "name": "#%%\n"
    }
   }
  },
  {
   "cell_type": "code",
   "execution_count": 3,
   "outputs": [],
   "source": [
    "NCG_DATA_PATH = \"NCG_cancerdrivers_annotation_supporting_evidence.tsv\""
   ],
   "metadata": {
    "collapsed": false,
    "pycharm": {
     "name": "#%%\n"
    }
   }
  },
  {
   "cell_type": "code",
   "execution_count": 5,
   "outputs": [],
   "source": [
    "ncg_data = pd.read_csv(NCG_DATA_PATH, sep=\"\\t\")"
   ],
   "metadata": {
    "collapsed": false,
    "pycharm": {
     "name": "#%%\n"
    }
   }
  },
  {
   "cell_type": "code",
   "execution_count": 8,
   "outputs": [
    {
     "data": {
      "text/plain": "         entrez        symbol  pubmed_id                     type  \\\n0            23         ABCF1   31444325                  WGS-WES   \n1            25          ABL1   29625053               Pan-cancer   \n2            25          ABL1   14993899  Canonical Cancer Driver   \n3            25          ABL1   29489755               Pan-cancer   \n4            25          ABL1   23539594  Canonical Cancer Driver   \n...         ...           ...        ...                      ...   \n8881  100423062         IGLL5   31558468                      WGS   \n8882  100423062         IGLL5   31558468                      WGS   \n8883  100423062         IGLL5   32024818                      WGS   \n8884  100505993       TMEM210   27311963                      WGS   \n8885  100533105  C8orf44-SGK3   28362259                      WGS   \n\n                   organ_system primary_site            cancer_type  \\\n0     Hematologic and lymphatic        blood       multiple_myeloma   \n1                      Multiple     multiple       pan-cancer_adult   \n2                      Multiple     multiple                    NaN   \n3                      Multiple     multiple  pan-cancer_paediatric   \n4                      Multiple     multiple                    NaN   \n...                         ...          ...                    ...   \n8881  Hematologic and lymphatic        blood       burkitt lymphoma   \n8882  Hematologic and lymphatic        blood       burkitt lymphoma   \n8883                   Multiple     multiple       pan-cancer_adult   \n8884                   Multiple     multiple       pan-cancer_adult   \n8885                   Multiple     multiple       pan-cancer_adult   \n\n                                   method coding_status    cgc_annotation  \\\n0                                  dNdScv        coding               NaN   \n1                             PanSoftWare        coding  oncogene, fusion   \n2                                       -           NaN  oncogene, fusion   \n3                            GRIN, MutSig        coding  oncogene, fusion   \n4                                       -           NaN  oncogene, fusion   \n...                                   ...           ...               ...   \n8881  MutSigCV, HotNet2, Literature-based     noncoding               NaN   \n8882  MutSigCV, HotNet2, Literature-based        coding               NaN   \n8883                          DriverPower     noncoding               NaN   \n8884                         OncodriveFML     noncoding               NaN   \n8885                            ncdDetect     noncoding               NaN   \n\n     vogelstein_annotation saito_annotation  NCG_oncogene  NCG_tsg  \n0                      NaN              NaN           NaN      NaN  \n1                 Oncogene              NaN           1.0      0.0  \n2                 Oncogene              NaN           1.0      0.0  \n3                 Oncogene              NaN           1.0      0.0  \n4                 Oncogene              NaN           1.0      0.0  \n...                    ...              ...           ...      ...  \n8881                   NaN              NaN           NaN      NaN  \n8882                   NaN              NaN           NaN      NaN  \n8883                   NaN              NaN           NaN      NaN  \n8884                   NaN              NaN           NaN      NaN  \n8885                   NaN              NaN           NaN      NaN  \n\n[8886 rows x 14 columns]",
      "text/html": "<div>\n<style scoped>\n    .dataframe tbody tr th:only-of-type {\n        vertical-align: middle;\n    }\n\n    .dataframe tbody tr th {\n        vertical-align: top;\n    }\n\n    .dataframe thead th {\n        text-align: right;\n    }\n</style>\n<table border=\"1\" class=\"dataframe\">\n  <thead>\n    <tr style=\"text-align: right;\">\n      <th></th>\n      <th>entrez</th>\n      <th>symbol</th>\n      <th>pubmed_id</th>\n      <th>type</th>\n      <th>organ_system</th>\n      <th>primary_site</th>\n      <th>cancer_type</th>\n      <th>method</th>\n      <th>coding_status</th>\n      <th>cgc_annotation</th>\n      <th>vogelstein_annotation</th>\n      <th>saito_annotation</th>\n      <th>NCG_oncogene</th>\n      <th>NCG_tsg</th>\n    </tr>\n  </thead>\n  <tbody>\n    <tr>\n      <th>0</th>\n      <td>23</td>\n      <td>ABCF1</td>\n      <td>31444325</td>\n      <td>WGS-WES</td>\n      <td>Hematologic and lymphatic</td>\n      <td>blood</td>\n      <td>multiple_myeloma</td>\n      <td>dNdScv</td>\n      <td>coding</td>\n      <td>NaN</td>\n      <td>NaN</td>\n      <td>NaN</td>\n      <td>NaN</td>\n      <td>NaN</td>\n    </tr>\n    <tr>\n      <th>1</th>\n      <td>25</td>\n      <td>ABL1</td>\n      <td>29625053</td>\n      <td>Pan-cancer</td>\n      <td>Multiple</td>\n      <td>multiple</td>\n      <td>pan-cancer_adult</td>\n      <td>PanSoftWare</td>\n      <td>coding</td>\n      <td>oncogene, fusion</td>\n      <td>Oncogene</td>\n      <td>NaN</td>\n      <td>1.0</td>\n      <td>0.0</td>\n    </tr>\n    <tr>\n      <th>2</th>\n      <td>25</td>\n      <td>ABL1</td>\n      <td>14993899</td>\n      <td>Canonical Cancer Driver</td>\n      <td>Multiple</td>\n      <td>multiple</td>\n      <td>NaN</td>\n      <td>-</td>\n      <td>NaN</td>\n      <td>oncogene, fusion</td>\n      <td>Oncogene</td>\n      <td>NaN</td>\n      <td>1.0</td>\n      <td>0.0</td>\n    </tr>\n    <tr>\n      <th>3</th>\n      <td>25</td>\n      <td>ABL1</td>\n      <td>29489755</td>\n      <td>Pan-cancer</td>\n      <td>Multiple</td>\n      <td>multiple</td>\n      <td>pan-cancer_paediatric</td>\n      <td>GRIN, MutSig</td>\n      <td>coding</td>\n      <td>oncogene, fusion</td>\n      <td>Oncogene</td>\n      <td>NaN</td>\n      <td>1.0</td>\n      <td>0.0</td>\n    </tr>\n    <tr>\n      <th>4</th>\n      <td>25</td>\n      <td>ABL1</td>\n      <td>23539594</td>\n      <td>Canonical Cancer Driver</td>\n      <td>Multiple</td>\n      <td>multiple</td>\n      <td>NaN</td>\n      <td>-</td>\n      <td>NaN</td>\n      <td>oncogene, fusion</td>\n      <td>Oncogene</td>\n      <td>NaN</td>\n      <td>1.0</td>\n      <td>0.0</td>\n    </tr>\n    <tr>\n      <th>...</th>\n      <td>...</td>\n      <td>...</td>\n      <td>...</td>\n      <td>...</td>\n      <td>...</td>\n      <td>...</td>\n      <td>...</td>\n      <td>...</td>\n      <td>...</td>\n      <td>...</td>\n      <td>...</td>\n      <td>...</td>\n      <td>...</td>\n      <td>...</td>\n    </tr>\n    <tr>\n      <th>8881</th>\n      <td>100423062</td>\n      <td>IGLL5</td>\n      <td>31558468</td>\n      <td>WGS</td>\n      <td>Hematologic and lymphatic</td>\n      <td>blood</td>\n      <td>burkitt lymphoma</td>\n      <td>MutSigCV, HotNet2, Literature-based</td>\n      <td>noncoding</td>\n      <td>NaN</td>\n      <td>NaN</td>\n      <td>NaN</td>\n      <td>NaN</td>\n      <td>NaN</td>\n    </tr>\n    <tr>\n      <th>8882</th>\n      <td>100423062</td>\n      <td>IGLL5</td>\n      <td>31558468</td>\n      <td>WGS</td>\n      <td>Hematologic and lymphatic</td>\n      <td>blood</td>\n      <td>burkitt lymphoma</td>\n      <td>MutSigCV, HotNet2, Literature-based</td>\n      <td>coding</td>\n      <td>NaN</td>\n      <td>NaN</td>\n      <td>NaN</td>\n      <td>NaN</td>\n      <td>NaN</td>\n    </tr>\n    <tr>\n      <th>8883</th>\n      <td>100423062</td>\n      <td>IGLL5</td>\n      <td>32024818</td>\n      <td>WGS</td>\n      <td>Multiple</td>\n      <td>multiple</td>\n      <td>pan-cancer_adult</td>\n      <td>DriverPower</td>\n      <td>noncoding</td>\n      <td>NaN</td>\n      <td>NaN</td>\n      <td>NaN</td>\n      <td>NaN</td>\n      <td>NaN</td>\n    </tr>\n    <tr>\n      <th>8884</th>\n      <td>100505993</td>\n      <td>TMEM210</td>\n      <td>27311963</td>\n      <td>WGS</td>\n      <td>Multiple</td>\n      <td>multiple</td>\n      <td>pan-cancer_adult</td>\n      <td>OncodriveFML</td>\n      <td>noncoding</td>\n      <td>NaN</td>\n      <td>NaN</td>\n      <td>NaN</td>\n      <td>NaN</td>\n      <td>NaN</td>\n    </tr>\n    <tr>\n      <th>8885</th>\n      <td>100533105</td>\n      <td>C8orf44-SGK3</td>\n      <td>28362259</td>\n      <td>WGS</td>\n      <td>Multiple</td>\n      <td>multiple</td>\n      <td>pan-cancer_adult</td>\n      <td>ncdDetect</td>\n      <td>noncoding</td>\n      <td>NaN</td>\n      <td>NaN</td>\n      <td>NaN</td>\n      <td>NaN</td>\n      <td>NaN</td>\n    </tr>\n  </tbody>\n</table>\n<p>8886 rows × 14 columns</p>\n</div>"
     },
     "execution_count": 8,
     "metadata": {},
     "output_type": "execute_result"
    }
   ],
   "source": [
    "ncg_data"
   ],
   "metadata": {
    "collapsed": false,
    "pycharm": {
     "name": "#%%\n"
    }
   }
  },
  {
   "cell_type": "code",
   "execution_count": 7,
   "outputs": [
    {
     "data": {
      "text/plain": "pan-cancer_adult                  2300\nbreast_cancer                      428\nmelanoma                           233\npan-cancer_paediatric              222\nbladder_cancer                     211\n                                  ... \nsalivary_gland_adenocarcinoma        1\nneuroendocrine_tumour                1\nsplenic_marginal_zone_lymphoma       1\nrhabdomyosarcoma                     1\novarian_small-cell_carcinoma         1\nName: cancer_type, Length: 130, dtype: int64"
     },
     "execution_count": 7,
     "metadata": {},
     "output_type": "execute_result"
    }
   ],
   "source": [
    "ncg_data[\"cancer_type\"].value_counts()"
   ],
   "metadata": {
    "collapsed": false,
    "pycharm": {
     "name": "#%%\n"
    }
   }
  },
  {
   "cell_type": "markdown",
   "source": [
    "### Breast genes"
   ],
   "metadata": {
    "collapsed": false,
    "pycharm": {
     "name": "#%% md\n"
    }
   }
  },
  {
   "cell_type": "code",
   "execution_count": 11,
   "outputs": [
    {
     "name": "stdout",
     "output_type": "stream",
     "text": [
      "230\n"
     ]
    }
   ],
   "source": [
    "ncg_data_breast = ncg_data[ncg_data[\"cancer_type\"] == \"breast_cancer\"]\n",
    "breast_genes = sorted(ncg_data_breast[\"symbol\"].unique())\n",
    "print(len(breast_genes))"
   ],
   "metadata": {
    "collapsed": false,
    "pycharm": {
     "name": "#%%\n"
    }
   }
  },
  {
   "cell_type": "code",
   "execution_count": null,
   "outputs": [],
   "source": [],
   "metadata": {
    "collapsed": false,
    "pycharm": {
     "name": "#%%\n"
    }
   }
  },
  {
   "cell_type": "markdown",
   "source": [
    "### All genes"
   ],
   "metadata": {
    "collapsed": false,
    "pycharm": {
     "name": "#%% md\n"
    }
   }
  },
  {
   "cell_type": "code",
   "execution_count": 12,
   "outputs": [
    {
     "name": "stdout",
     "output_type": "stream",
     "text": [
      "3347\n"
     ]
    }
   ],
   "source": [
    "all_genes = sorted(ncg_data[\"symbol\"].unique())\n",
    "print(len(all_genes))"
   ],
   "metadata": {
    "collapsed": false,
    "pycharm": {
     "name": "#%%\n"
    }
   }
  },
  {
   "cell_type": "code",
   "execution_count": null,
   "outputs": [],
   "source": [],
   "metadata": {
    "collapsed": false,
    "pycharm": {
     "name": "#%%\n"
    }
   }
  },
  {
   "cell_type": "markdown",
   "source": [
    "## Extract Genes"
   ],
   "metadata": {
    "collapsed": false,
    "pycharm": {
     "name": "#%% md\n"
    }
   }
  },
  {
   "cell_type": "code",
   "execution_count": 13,
   "outputs": [],
   "source": [
    "from datetime import datetime"
   ],
   "metadata": {
    "collapsed": false,
    "pycharm": {
     "name": "#%%\n"
    }
   }
  },
  {
   "cell_type": "code",
   "execution_count": 14,
   "outputs": [],
   "source": [
    "def extract_genes(genes, cancer_type):\n",
    "    file_date = datetime.today().strftime('%Y-%m-%d')\n",
    "    file_name = f\"{cancer_type}_genes_{file_date}.txt\"\n",
    "    with open(file_name, \"w\") as file:\n",
    "        for gene in genes:\n",
    "            file.write(f\"{gene}\\n\")\n",
    "\n",
    "    print(f\"{cancer_type} genes are extracted successfully.\")\n"
   ],
   "metadata": {
    "collapsed": false,
    "pycharm": {
     "name": "#%%\n"
    }
   }
  },
  {
   "cell_type": "code",
   "execution_count": 15,
   "outputs": [
    {
     "name": "stdout",
     "output_type": "stream",
     "text": [
      "all genes are extracted successfully.\n",
      "breast genes are extracted successfully.\n"
     ]
    }
   ],
   "source": [
    "extract_genes(all_genes, \"all\")\n",
    "extract_genes(breast_genes, \"breast\")"
   ],
   "metadata": {
    "collapsed": false,
    "pycharm": {
     "name": "#%%\n"
    }
   }
  },
  {
   "cell_type": "code",
   "execution_count": null,
   "outputs": [],
   "source": [],
   "metadata": {
    "collapsed": false,
    "pycharm": {
     "name": "#%%\n"
    }
   }
  },
  {
   "cell_type": "code",
   "execution_count": null,
   "outputs": [],
   "source": [],
   "metadata": {
    "collapsed": false,
    "pycharm": {
     "name": "#%%\n"
    }
   }
  },
  {
   "cell_type": "code",
   "execution_count": null,
   "outputs": [],
   "source": [],
   "metadata": {
    "collapsed": false,
    "pycharm": {
     "name": "#%%\n"
    }
   }
  },
  {
   "cell_type": "code",
   "execution_count": null,
   "outputs": [],
   "source": [],
   "metadata": {
    "collapsed": false,
    "pycharm": {
     "name": "#%%\n"
    }
   }
  },
  {
   "cell_type": "code",
   "execution_count": null,
   "outputs": [],
   "source": [],
   "metadata": {
    "collapsed": false,
    "pycharm": {
     "name": "#%%\n"
    }
   }
  },
  {
   "cell_type": "code",
   "execution_count": null,
   "outputs": [],
   "source": [],
   "metadata": {
    "collapsed": false,
    "pycharm": {
     "name": "#%%\n"
    }
   }
  }
 ],
 "metadata": {
  "kernelspec": {
   "display_name": "Python 3",
   "language": "python",
   "name": "python3"
  },
  "language_info": {
   "codemirror_mode": {
    "name": "ipython",
    "version": 2
   },
   "file_extension": ".py",
   "mimetype": "text/x-python",
   "name": "python",
   "nbconvert_exporter": "python",
   "pygments_lexer": "ipython2",
   "version": "2.7.6"
  }
 },
 "nbformat": 4,
 "nbformat_minor": 0
}