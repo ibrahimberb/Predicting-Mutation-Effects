{
 "cells": [
  {
   "cell_type": "code",
   "execution_count": 20,
   "outputs": [],
   "source": [
    "from typing import List\n",
    "\n",
    "import pandas as pd\n",
    "from datetime import datetime"
   ],
   "metadata": {
    "collapsed": false,
    "pycharm": {
     "name": "#%%\n"
    }
   }
  },
  {
   "cell_type": "code",
   "execution_count": 3,
   "outputs": [],
   "source": [
    "DATA_PATH = \"variants.tsv\""
   ],
   "metadata": {
    "collapsed": false,
    "pycharm": {
     "name": "#%%\n"
    }
   }
  },
  {
   "cell_type": "code",
   "execution_count": 8,
   "metadata": {
    "collapsed": true
   },
   "outputs": [
    {
     "data": {
      "text/plain": "                        hgvs chromosome     start      stop read variant  \\\n0  ENST00000361445:c.7514G>C          1  11169361  11169361    C       G   \n1  ENST00000361445:c.7500T>G          1  11169375  11169375    A       C   \n2  ENST00000361445:c.7498A>T          1  11169377  11169377    T       A   \n3  ENST00000361445:c.7255G>A          1  11174420  11174420    C       T   \n4  ENST00000361445:c.6667C>A          1  11182179  11182179    G       T   \n\n  reference_version  gene mutation_type amino_acid  \\\n0            GRCh37  MTOR      missense   p.R2505P   \n1            GRCh37  MTOR      missense   p.I2500M   \n2            GRCh37  MTOR      missense   p.I2500F   \n3            GRCh37  MTOR      missense   p.E2419K   \n4            GRCh37  MTOR      missense   p.Q2223K   \n\n                                            diseases pubmed_sources  \n0                                    renal carcinoma       24631838  \n1  renal clear cell carcinoma,uterine corpus endo...       26619011  \n2  breast cancer,gastric adenocarcinoma,uterine c...       26619011  \n3               urinary bladder urothelial carcinoma       24625776  \n4                                    renal carcinoma       24622468  ",
      "text/html": "<div>\n<style scoped>\n    .dataframe tbody tr th:only-of-type {\n        vertical-align: middle;\n    }\n\n    .dataframe tbody tr th {\n        vertical-align: top;\n    }\n\n    .dataframe thead th {\n        text-align: right;\n    }\n</style>\n<table border=\"1\" class=\"dataframe\">\n  <thead>\n    <tr style=\"text-align: right;\">\n      <th></th>\n      <th>hgvs</th>\n      <th>chromosome</th>\n      <th>start</th>\n      <th>stop</th>\n      <th>read</th>\n      <th>variant</th>\n      <th>reference_version</th>\n      <th>gene</th>\n      <th>mutation_type</th>\n      <th>amino_acid</th>\n      <th>diseases</th>\n      <th>pubmed_sources</th>\n    </tr>\n  </thead>\n  <tbody>\n    <tr>\n      <th>0</th>\n      <td>ENST00000361445:c.7514G&gt;C</td>\n      <td>1</td>\n      <td>11169361</td>\n      <td>11169361</td>\n      <td>C</td>\n      <td>G</td>\n      <td>GRCh37</td>\n      <td>MTOR</td>\n      <td>missense</td>\n      <td>p.R2505P</td>\n      <td>renal carcinoma</td>\n      <td>24631838</td>\n    </tr>\n    <tr>\n      <th>1</th>\n      <td>ENST00000361445:c.7500T&gt;G</td>\n      <td>1</td>\n      <td>11169375</td>\n      <td>11169375</td>\n      <td>A</td>\n      <td>C</td>\n      <td>GRCh37</td>\n      <td>MTOR</td>\n      <td>missense</td>\n      <td>p.I2500M</td>\n      <td>renal clear cell carcinoma,uterine corpus endo...</td>\n      <td>26619011</td>\n    </tr>\n    <tr>\n      <th>2</th>\n      <td>ENST00000361445:c.7498A&gt;T</td>\n      <td>1</td>\n      <td>11169377</td>\n      <td>11169377</td>\n      <td>T</td>\n      <td>A</td>\n      <td>GRCh37</td>\n      <td>MTOR</td>\n      <td>missense</td>\n      <td>p.I2500F</td>\n      <td>breast cancer,gastric adenocarcinoma,uterine c...</td>\n      <td>26619011</td>\n    </tr>\n    <tr>\n      <th>3</th>\n      <td>ENST00000361445:c.7255G&gt;A</td>\n      <td>1</td>\n      <td>11174420</td>\n      <td>11174420</td>\n      <td>C</td>\n      <td>T</td>\n      <td>GRCh37</td>\n      <td>MTOR</td>\n      <td>missense</td>\n      <td>p.E2419K</td>\n      <td>urinary bladder urothelial carcinoma</td>\n      <td>24625776</td>\n    </tr>\n    <tr>\n      <th>4</th>\n      <td>ENST00000361445:c.6667C&gt;A</td>\n      <td>1</td>\n      <td>11182179</td>\n      <td>11182179</td>\n      <td>G</td>\n      <td>T</td>\n      <td>GRCh37</td>\n      <td>MTOR</td>\n      <td>missense</td>\n      <td>p.Q2223K</td>\n      <td>renal carcinoma</td>\n      <td>24622468</td>\n    </tr>\n  </tbody>\n</table>\n</div>"
     },
     "execution_count": 8,
     "metadata": {},
     "output_type": "execute_result"
    }
   ],
   "source": [
    "data = pd.read_csv(DATA_PATH, sep=\"\\t\")\n",
    "data.head()"
   ]
  },
  {
   "cell_type": "markdown",
   "source": [
    "## All genes"
   ],
   "metadata": {
    "collapsed": false,
    "pycharm": {
     "name": "#%% md\n"
    }
   }
  },
  {
   "cell_type": "code",
   "execution_count": 12,
   "outputs": [],
   "source": [
    "all_genes = data[\"gene\"].unique()"
   ],
   "metadata": {
    "collapsed": false,
    "pycharm": {
     "name": "#%%\n"
    }
   }
  },
  {
   "cell_type": "markdown",
   "source": [
    "## Breast genes"
   ],
   "metadata": {
    "collapsed": false
   }
  },
  {
   "cell_type": "code",
   "execution_count": 9,
   "outputs": [],
   "source": [
    "breast_data = data[\n",
    "    data[\"diseases\"].str.contains(\"breast\")\n",
    "]"
   ],
   "metadata": {
    "collapsed": false,
    "pycharm": {
     "name": "#%%\n"
    }
   }
  },
  {
   "cell_type": "code",
   "execution_count": 13,
   "outputs": [],
   "source": [
    "breast_genes = breast_data[\"gene\"].unique()"
   ],
   "metadata": {
    "collapsed": false,
    "pycharm": {
     "name": "#%%\n"
    }
   }
  },
  {
   "cell_type": "code",
   "execution_count": null,
   "outputs": [],
   "source": [],
   "metadata": {
    "collapsed": false,
    "pycharm": {
     "name": "#%%\n"
    }
   }
  },
  {
   "cell_type": "code",
   "execution_count": null,
   "outputs": [],
   "source": [],
   "metadata": {
    "collapsed": false,
    "pycharm": {
     "name": "#%%\n"
    }
   }
  },
  {
   "cell_type": "markdown",
   "source": [
    "## Extract the Genes"
   ],
   "metadata": {
    "collapsed": false,
    "pycharm": {
     "name": "#%% md\n"
    }
   }
  },
  {
   "cell_type": "code",
   "execution_count": 22,
   "outputs": [],
   "source": [
    "def extract_genes(genes: List, cancer_type):\n",
    "    file_date = datetime.today().strftime('%Y-%m-%d')\n",
    "    file_name = f\"{cancer_type}_genes_{file_date}.txt\"\n",
    "    with open(file_name, \"w\") as file:\n",
    "        for gene in genes:\n",
    "            file.write(f\"{gene}\\n\")\n",
    "\n",
    "    print(f\"{cancer_type} genes are extracted successfully.\")\n"
   ],
   "metadata": {
    "collapsed": false,
    "pycharm": {
     "name": "#%%\n"
    }
   }
  },
  {
   "cell_type": "code",
   "execution_count": 23,
   "outputs": [
    {
     "name": "stdout",
     "output_type": "stream",
     "text": [
      "all genes are extracted successfully.\n"
     ]
    }
   ],
   "source": [
    "extract_genes(all_genes, \"all\")"
   ],
   "metadata": {
    "collapsed": false,
    "pycharm": {
     "name": "#%%\n"
    }
   }
  },
  {
   "cell_type": "code",
   "execution_count": 24,
   "outputs": [
    {
     "name": "stdout",
     "output_type": "stream",
     "text": [
      "breast genes are extracted successfully.\n"
     ]
    }
   ],
   "source": [
    "extract_genes(breast_genes, \"breast\")"
   ],
   "metadata": {
    "collapsed": false,
    "pycharm": {
     "name": "#%%\n"
    }
   }
  },
  {
   "cell_type": "code",
   "execution_count": null,
   "outputs": [],
   "source": [],
   "metadata": {
    "collapsed": false,
    "pycharm": {
     "name": "#%%\n"
    }
   }
  },
  {
   "cell_type": "code",
   "execution_count": null,
   "outputs": [],
   "source": [],
   "metadata": {
    "collapsed": false,
    "pycharm": {
     "name": "#%%\n"
    }
   }
  },
  {
   "cell_type": "code",
   "execution_count": null,
   "outputs": [],
   "source": [],
   "metadata": {
    "collapsed": false,
    "pycharm": {
     "name": "#%%\n"
    }
   }
  }
 ],
 "metadata": {
  "kernelspec": {
   "display_name": "Python 3",
   "language": "python",
   "name": "python3"
  },
  "language_info": {
   "codemirror_mode": {
    "name": "ipython",
    "version": 2
   },
   "file_extension": ".py",
   "mimetype": "text/x-python",
   "name": "python",
   "nbconvert_exporter": "python",
   "pygments_lexer": "ipython2",
   "version": "2.7.6"
  }
 },
 "nbformat": 4,
 "nbformat_minor": 0
}