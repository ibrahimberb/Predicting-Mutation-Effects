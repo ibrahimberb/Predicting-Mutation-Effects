{
 "cells": [
  {
   "cell_type": "markdown",
   "id": "1faf96bb-2d37-4d6a-b1ad-459fae4ee667",
   "metadata": {
    "pycharm": {
     "name": "#%% md\n"
    }
   },
   "source": [
    "# Preliminary Data"
   ]
  },
  {
   "cell_type": "markdown",
   "source": [
    "### Setup"
   ],
   "metadata": {
    "collapsed": false
   }
  },
  {
   "cell_type": "code",
   "execution_count": 1,
   "outputs": [
    {
     "name": "stdout",
     "output_type": "stream",
     "text": [
      "\u001B[32mMarch 07, 2022 10:22:46\u001B[0m\n"
     ]
    }
   ],
   "source": [
    "from datetime import datetime\n",
    "\n",
    "print(\"\\033[32m{}\\033[0m\".format(datetime.now().strftime(\"%B %d, %Y %H:%M:%S\")))"
   ],
   "metadata": {
    "collapsed": false,
    "pycharm": {
     "name": "#%%\n"
    }
   }
  },
  {
   "cell_type": "code",
   "execution_count": 2,
   "outputs": [],
   "source": [
    "import pandas as pd\n",
    "from pandas import DataFrame\n",
    "from utils import MostFrequentlyDisruptedPartnersAdder\n",
    "\n",
    "INTERACTIONS_SUMMARY_TABLE_FOLDER_PATH = r\"../dev/interactions_summary_tables\"\n",
    "\n",
    "# Preliminary Data Paths\n",
    "BRCA_PRELIMINARY_DATA_PATH = r\"../../data/predictions_datasets/brca_prediction_2021-11-17/558297b6/brca_preliminary_data_cgc_2021-11-17.xlsx\"\n",
    "COAD_PRELIMINARY_DATA_PATH = r\"../../data/predictions_datasets/coad_prediction_2022-01-06/9789393f/coad_preliminary_data_cgc_2022-02-16.xlsx\"\n",
    "ESCA_PRELIMINARY_DATA_PATH = r\"../../data/predictions_datasets/esca_prediction_2021-11-17/59544312/esca_preliminary_data_cgc_2021-11-17.xlsx\"\n",
    "GBM_PRELIMINARY_DATA_PATH = r\"../../data/predictions_datasets/gbm_prediction_2021-11-17/b9cfc7ea/gbm_preliminary_data_cgc_2021-11-17.xlsx\"\n",
    "HNSC_PRELIMINARY_DATA_PATH = r\"../../data/predictions_datasets/hnsc_prediction_2021-11-17/53930f30/hnsc_preliminary_data_cgc_2021-11-17.xlsx\"\n",
    "OV_PRELIMINARY_DATA_PATH = r\"../../data/predictions_datasets/ov_prediction_2021-11-17/37bf1637/ov_preliminary_data_cgc_2021-11-17.xlsx\"\n",
    "\n",
    "# Reflect changes in the modules immediately.\n",
    "%load_ext autoreload\n",
    "%autoreload 2"
   ],
   "metadata": {
    "collapsed": false,
    "pycharm": {
     "name": "#%%\n"
    }
   }
  },
  {
   "cell_type": "markdown",
   "source": [
    "### Filtering Condition"
   ],
   "metadata": {
    "collapsed": false,
    "pycharm": {
     "name": "#%% md\n"
    }
   }
  },
  {
   "cell_type": "markdown",
   "source": [
    "### Updated:\n",
    "[14:29, 03/03/2022] Hilal Kazan (ABU CS Prof. ): bu tabloda disruptive ratio 0.8 ve üstü desek daha iyi olacak, o zaman sığar sanıyorum\n",
    "[14:29, 03/03/2022] Hilal Kazan (ABU CS Prof. ): COADS Q13748 için TUBA3C gen id'si\n",
    "\n",
    "[15:51, 03/03/2022] Hilal Kazan (ABU CS Prof. ): Tablo 2 ile ilgili birkaç değişiklik\n",
    "[15:51, 03/03/2022] Hilal Kazan (ABU CS Prof. ): COAD'ı BRCA'dan sonraya taşıyalım. Bir de aynı kohort içindeki genleri interface count'a göre sort edelim.\n",
    "[15:51, 03/03/2022] Hilal Kazan (ABU CS Prof. ): Bir de aynı kohort içindeki genleri interface count'a göre sort edelim. yerine şu daha doğru önce disruptive ratio sonra interface count'a göre.\n",
    "[15:52, 03/03/2022] Hilal Kazan (ABU CS Prof. ): Örneğin COAD'da 13 gen 1 disruptive _ratio'ya sahip,\n",
    "[15:52, 03/03/2022] Hilal Kazan (ABU CS Prof. ): bu genler rastgele sıralanmasın, interface count'ı en yüksek olan en yukarıda olsun\n"
   ],
   "metadata": {
    "collapsed": false
   }
  },
  {
   "cell_type": "markdown",
   "source": [
    "[14:54, 04/03/2022] Hilal Kazan (ABU CS Prof. ): patient count'u 1 ve 2 olanları çıkartmak lazım bence\n",
    "[14:54, 04/03/2022] Hilal Kazan (ABU CS Prof. ): bir de nan'ları düzeltelim"
   ],
   "metadata": {
    "collapsed": false,
    "pycharm": {
     "name": "#%% md\n"
    }
   }
  },
  {
   "cell_type": "code",
   "execution_count": 3,
   "outputs": [],
   "source": [
    "def round_decimals(x, n_decimals=2):\n",
    "    if isinstance(x, float):\n",
    "        try:\n",
    "            return round(x, n_decimals)\n",
    "        except TypeError:\n",
    "            print(f\"VALUE X={x}\")\n",
    "    else:\n",
    "        return x"
   ],
   "metadata": {
    "collapsed": false,
    "pycharm": {
     "name": "#%%\n"
    }
   }
  },
  {
   "cell_type": "code",
   "execution_count": 4,
   "outputs": [],
   "source": [
    "def filterer(data, tcga) -> DataFrame:\n",
    "    data_filtered = data.copy()\n",
    "    # Disruptive ratio\n",
    "    data_filtered[\"RATIO_(prev_two_col)\"] = data_filtered[\"NUM_INTERFACE_PATIENTS_DISRUPTIVE_INTERACTOR\"] / data_filtered[\"PATIENT_INTERFACE_COUNT\"]\n",
    "    # Round the ratio values.\n",
    "    data_filtered[\"RATIO_(prev_two_col)\"] = data_filtered[\"RATIO_(prev_two_col)\"].apply(lambda x: round_decimals(x))\n",
    "    # Filtering based on given conditions.\n",
    "    data_filtered = data_filtered[\n",
    "        (data_filtered[\"PATIENT_INTERFACE_COUNT\"] >= 5) &\n",
    "        (data_filtered[\"RATIO_(prev_two_col)\"] >= 0.8)\n",
    "    ].copy()\n",
    "\n",
    "    # Keep only relevant columns\n",
    "    data_filtered = data_filtered[\n",
    "        [\"PROTEIN\", \"GENE\", \"PATIENT_CORE_COUNT\", \"PATIENT_INTERFACE_COUNT\", \"NUM_INTERFACE_PATIENTS_DISRUPTIVE_INTERACTOR\", \"RATIO_(prev_two_col)\", \"NUM_UNIQUE_INTERACTORS\", \"CGC_STATUS\"]\n",
    "    ].copy()\n",
    "\n",
    "    data_filtered.insert(0, \"TCGA\", tcga)\n",
    "\n",
    "    data_filtered = data_filtered.sort_values([\"RATIO_(prev_two_col)\", \"PATIENT_INTERFACE_COUNT\"], ascending=[False, False])\n",
    "\n",
    "    return data_filtered\n"
   ],
   "metadata": {
    "collapsed": false,
    "pycharm": {
     "name": "#%%\n"
    }
   }
  },
  {
   "cell_type": "code",
   "execution_count": 5,
   "outputs": [],
   "source": [
    "brca_preliminary_data = pd.read_excel(BRCA_PRELIMINARY_DATA_PATH)\n",
    "coad_preliminary_data = pd.read_excel(COAD_PRELIMINARY_DATA_PATH)\n",
    "esca_preliminary_data = pd.read_excel(ESCA_PRELIMINARY_DATA_PATH)\n",
    "gbm_preliminary_data = pd.read_excel(GBM_PRELIMINARY_DATA_PATH)\n",
    "hnsc_preliminary_data = pd.read_excel(HNSC_PRELIMINARY_DATA_PATH)\n",
    "ov_preliminary_data = pd.read_excel(OV_PRELIMINARY_DATA_PATH)"
   ],
   "metadata": {
    "collapsed": false,
    "pycharm": {
     "name": "#%%\n"
    }
   }
  },
  {
   "cell_type": "code",
   "execution_count": 6,
   "outputs": [],
   "source": [
    "brca_preliminary_data_filtered = filterer(brca_preliminary_data, \"BRCA\")\n",
    "coad_preliminary_data_filtered = filterer(coad_preliminary_data, \"COAD\")\n",
    "esca_preliminary_data_filtered = filterer(esca_preliminary_data, \"ESCA\")\n",
    "gbm_preliminary_data_filtered = filterer(gbm_preliminary_data, \"GBM\")\n",
    "hnsc_preliminary_data_filtered = filterer(hnsc_preliminary_data, \"HNSC\")\n",
    "ov_preliminary_data_filtered = filterer(ov_preliminary_data, \"OV\")"
   ],
   "metadata": {
    "collapsed": false,
    "pycharm": {
     "name": "#%%\n"
    }
   }
  },
  {
   "cell_type": "code",
   "execution_count": 7,
   "outputs": [],
   "source": [
    "brca_preliminary_data_filtered_updated = MostFrequentlyDisruptedPartnersAdder(\n",
    "    tcga=\"BRCA\",\n",
    "    preliminary_data=brca_preliminary_data_filtered,\n",
    "    interactions_summary_folder_path=INTERACTIONS_SUMMARY_TABLE_FOLDER_PATH,\n",
    ").get_most_frequently_disrupted_partners_added_data()\n",
    "\n",
    "coad_preliminary_data_filtered_updated = MostFrequentlyDisruptedPartnersAdder(\n",
    "    tcga=\"COAD\",\n",
    "    preliminary_data=coad_preliminary_data_filtered,\n",
    "    interactions_summary_folder_path=INTERACTIONS_SUMMARY_TABLE_FOLDER_PATH,\n",
    ").get_most_frequently_disrupted_partners_added_data()\n",
    "\n",
    "esca_preliminary_data_filtered_updated = MostFrequentlyDisruptedPartnersAdder(\n",
    "    tcga=\"ESCA\",\n",
    "    preliminary_data=esca_preliminary_data_filtered,\n",
    "    interactions_summary_folder_path=INTERACTIONS_SUMMARY_TABLE_FOLDER_PATH,\n",
    ").get_most_frequently_disrupted_partners_added_data()\n",
    "\n",
    "gbm_preliminary_data_filtered_updated = MostFrequentlyDisruptedPartnersAdder(\n",
    "    tcga=\"GBM\",\n",
    "    preliminary_data=gbm_preliminary_data_filtered,\n",
    "    interactions_summary_folder_path=INTERACTIONS_SUMMARY_TABLE_FOLDER_PATH,\n",
    ").get_most_frequently_disrupted_partners_added_data()\n",
    "\n",
    "hnsc_preliminary_data_filtered_updated = MostFrequentlyDisruptedPartnersAdder(\n",
    "    tcga=\"HNSC\",\n",
    "    preliminary_data=hnsc_preliminary_data_filtered,\n",
    "    interactions_summary_folder_path=INTERACTIONS_SUMMARY_TABLE_FOLDER_PATH,\n",
    ").get_most_frequently_disrupted_partners_added_data()\n",
    "\n",
    "ov_preliminary_data_filtered_updated = MostFrequentlyDisruptedPartnersAdder(\n",
    "    tcga=\"OV\",\n",
    "    preliminary_data=ov_preliminary_data_filtered,\n",
    "    interactions_summary_folder_path=INTERACTIONS_SUMMARY_TABLE_FOLDER_PATH,\n",
    ").get_most_frequently_disrupted_partners_added_data()"
   ],
   "metadata": {
    "collapsed": false,
    "pycharm": {
     "name": "#%%\n"
    }
   }
  },
  {
   "cell_type": "code",
   "execution_count": 7,
   "outputs": [],
   "source": [],
   "metadata": {
    "collapsed": false,
    "pycharm": {
     "name": "#%%\n"
    }
   }
  },
  {
   "cell_type": "code",
   "execution_count": 8,
   "outputs": [
    {
     "data": {
      "text/plain": "      TCGA PROTEIN    GENE  PATIENT_CORE_COUNT  PATIENT_INTERFACE_COUNT  \\\n2465  BRCA  P42336  PIK3CA                  35                      124   \n1204  BRCA  P04637    TP53                 141                       55   \n3126  BRCA  P68431    H3C1                   1                       13   \n3091  BRCA  P62805    H4C1                   6                       11   \n2534  BRCA  P45985  MAP2K4                   3                        8   \n1201  BRCA  P04626   ERBB2                  12                       14   \n1447  BRCA  P0CG48     UBC                   0                        7   \n\n      NUM_INTERFACE_PATIENTS_DISRUPTIVE_INTERACTOR  RATIO_(prev_two_col)  \\\n2465                                           120                  0.97   \n1204                                            52                  0.95   \n3126                                            12                  0.92   \n3091                                            10                  0.91   \n2534                                             7                  0.88   \n1201                                            12                  0.86   \n1447                                             6                  0.86   \n\n      NUM_UNIQUE_INTERACTORS CGC_STATUS  \n2465                       6          +  \n1204                      17          +  \n3126                      11          -  \n3091                      16          -  \n2534                       7          +  \n1201                      16          +  \n1447                       7          -  ",
      "text/html": "<div>\n<style scoped>\n    .dataframe tbody tr th:only-of-type {\n        vertical-align: middle;\n    }\n\n    .dataframe tbody tr th {\n        vertical-align: top;\n    }\n\n    .dataframe thead th {\n        text-align: right;\n    }\n</style>\n<table border=\"1\" class=\"dataframe\">\n  <thead>\n    <tr style=\"text-align: right;\">\n      <th></th>\n      <th>TCGA</th>\n      <th>PROTEIN</th>\n      <th>GENE</th>\n      <th>PATIENT_CORE_COUNT</th>\n      <th>PATIENT_INTERFACE_COUNT</th>\n      <th>NUM_INTERFACE_PATIENTS_DISRUPTIVE_INTERACTOR</th>\n      <th>RATIO_(prev_two_col)</th>\n      <th>NUM_UNIQUE_INTERACTORS</th>\n      <th>CGC_STATUS</th>\n    </tr>\n  </thead>\n  <tbody>\n    <tr>\n      <th>2465</th>\n      <td>BRCA</td>\n      <td>P42336</td>\n      <td>PIK3CA</td>\n      <td>35</td>\n      <td>124</td>\n      <td>120</td>\n      <td>0.97</td>\n      <td>6</td>\n      <td>+</td>\n    </tr>\n    <tr>\n      <th>1204</th>\n      <td>BRCA</td>\n      <td>P04637</td>\n      <td>TP53</td>\n      <td>141</td>\n      <td>55</td>\n      <td>52</td>\n      <td>0.95</td>\n      <td>17</td>\n      <td>+</td>\n    </tr>\n    <tr>\n      <th>3126</th>\n      <td>BRCA</td>\n      <td>P68431</td>\n      <td>H3C1</td>\n      <td>1</td>\n      <td>13</td>\n      <td>12</td>\n      <td>0.92</td>\n      <td>11</td>\n      <td>-</td>\n    </tr>\n    <tr>\n      <th>3091</th>\n      <td>BRCA</td>\n      <td>P62805</td>\n      <td>H4C1</td>\n      <td>6</td>\n      <td>11</td>\n      <td>10</td>\n      <td>0.91</td>\n      <td>16</td>\n      <td>-</td>\n    </tr>\n    <tr>\n      <th>2534</th>\n      <td>BRCA</td>\n      <td>P45985</td>\n      <td>MAP2K4</td>\n      <td>3</td>\n      <td>8</td>\n      <td>7</td>\n      <td>0.88</td>\n      <td>7</td>\n      <td>+</td>\n    </tr>\n    <tr>\n      <th>1201</th>\n      <td>BRCA</td>\n      <td>P04626</td>\n      <td>ERBB2</td>\n      <td>12</td>\n      <td>14</td>\n      <td>12</td>\n      <td>0.86</td>\n      <td>16</td>\n      <td>+</td>\n    </tr>\n    <tr>\n      <th>1447</th>\n      <td>BRCA</td>\n      <td>P0CG48</td>\n      <td>UBC</td>\n      <td>0</td>\n      <td>7</td>\n      <td>6</td>\n      <td>0.86</td>\n      <td>7</td>\n      <td>-</td>\n    </tr>\n  </tbody>\n</table>\n</div>"
     },
     "execution_count": 8,
     "metadata": {},
     "output_type": "execute_result"
    }
   ],
   "source": [
    "brca_preliminary_data_filtered"
   ],
   "metadata": {
    "collapsed": false,
    "pycharm": {
     "name": "#%%\n"
    }
   }
  },
  {
   "cell_type": "code",
   "execution_count": 8,
   "outputs": [],
   "source": [],
   "metadata": {
    "collapsed": false,
    "pycharm": {
     "name": "#%%\n"
    }
   }
  },
  {
   "cell_type": "code",
   "execution_count": 9,
   "outputs": [
    {
     "data": {
      "text/plain": "       TCGA PROTEIN     GENE  PATIENT_CORE_COUNT  PATIENT_INTERFACE_COUNT  \\\n1489   COAD  P04637     TP53                  97                       49   \n2228   COAD  P19784  CSNK2A2                   2                        9   \n4709   COAD  Q15365    PCBP1                   4                        9   \n212    COAD  O00238   BMPR1B                   2                        6   \n2110   COAD  P16885    PLCG2                   4                        6   \n3870   COAD  P84022    SMAD3                   5                        6   \n7578   COAD  Q96E17    RAB3C                   1                        6   \n2968   COAD  P41743    PRKCI                   2                        5   \n3453   COAD  P53350     PLK1                   5                        5   \n3538   COAD  P55072      VCP                   3                        5   \n3713   COAD  P61586     RHOA                   0                        5   \n4337   COAD  Q13310   PABPC4                   2                        5   \n9855   COAD  Q9UKV0    HDAC9                   7                        5   \n2029   COAD  P15056     BRAF                   3                       52   \n7426   COAD  Q969H0    FBXW7                  13                       25   \n3757   COAD  P62805     H4C1                   5                       16   \n4379   COAD  Q13485    SMAD4                  14                       21   \n2882   COAD  P37173   TGFBR2                   3                        7   \n4431   COAD  Q13748      NaN                  14                        7   \n4783   COAD  Q15796    SMAD2                   3                        7   \n3068   COAD  P45985   MAP2K4                  11                        6   \n10247  COAD  Q9Y463   DYRK1B                   0                        6   \n10463  COAD  Q9Y6R4   MAP3K4                   0                        6   \n1510   COAD  P05107    ITGB2                   5                        5   \n1733   COAD  P09619   PDGFRB                   2                        5   \n3264   COAD  P49902    NT5C2                   1                        5   \n3705   COAD  P61244      MAX                   2                        5   \n4827   COAD  Q16478    GRIK5                  13                        5   \n4865   COAD  Q16659    MAPK6                   2                        5   \n7320   COAD  Q92747   ARPC1A                   3                        5   \n9170   COAD  Q9NRM7    LATS2                   1                        5   \n\n       NUM_INTERFACE_PATIENTS_DISRUPTIVE_INTERACTOR  RATIO_(prev_two_col)  \\\n1489                                             49                  1.00   \n2228                                              9                  1.00   \n4709                                              9                  1.00   \n212                                               6                  1.00   \n2110                                              6                  1.00   \n3870                                              6                  1.00   \n7578                                              6                  1.00   \n2968                                              5                  1.00   \n3453                                              5                  1.00   \n3538                                              5                  1.00   \n3713                                              5                  1.00   \n4337                                              5                  1.00   \n9855                                              5                  1.00   \n2029                                             51                  0.98   \n7426                                             24                  0.96   \n3757                                             15                  0.94   \n4379                                             19                  0.90   \n2882                                              6                  0.86   \n4431                                              6                  0.86   \n4783                                              6                  0.86   \n3068                                              5                  0.83   \n10247                                             5                  0.83   \n10463                                             5                  0.83   \n1510                                              4                  0.80   \n1733                                              4                  0.80   \n3264                                              4                  0.80   \n3705                                              4                  0.80   \n4827                                              4                  0.80   \n4865                                              4                  0.80   \n7320                                              4                  0.80   \n9170                                              4                  0.80   \n\n       NUM_UNIQUE_INTERACTORS CGC_STATUS  \n1489                       19          +  \n2228                       10          -  \n4709                        5          +  \n212                        16          -  \n2110                       14          -  \n3870                        5          +  \n7578                        4          -  \n2968                       13          -  \n3453                       10          -  \n3538                       11          -  \n3713                       41          +  \n4337                        5          -  \n9855                        3          -  \n2029                        3          +  \n7426                        4          +  \n3757                       18          -  \n4379                        5          +  \n2882                        7          +  \n4431                        6          -  \n4783                        8          +  \n3068                       18          +  \n10247                       6          -  \n10463                      14          -  \n1510                        7          -  \n1733                       16          +  \n3264                        1          +  \n3705                       12          +  \n4827                        4          -  \n4865                        4          -  \n7320                        6          -  \n9170                        8          +  ",
      "text/html": "<div>\n<style scoped>\n    .dataframe tbody tr th:only-of-type {\n        vertical-align: middle;\n    }\n\n    .dataframe tbody tr th {\n        vertical-align: top;\n    }\n\n    .dataframe thead th {\n        text-align: right;\n    }\n</style>\n<table border=\"1\" class=\"dataframe\">\n  <thead>\n    <tr style=\"text-align: right;\">\n      <th></th>\n      <th>TCGA</th>\n      <th>PROTEIN</th>\n      <th>GENE</th>\n      <th>PATIENT_CORE_COUNT</th>\n      <th>PATIENT_INTERFACE_COUNT</th>\n      <th>NUM_INTERFACE_PATIENTS_DISRUPTIVE_INTERACTOR</th>\n      <th>RATIO_(prev_two_col)</th>\n      <th>NUM_UNIQUE_INTERACTORS</th>\n      <th>CGC_STATUS</th>\n    </tr>\n  </thead>\n  <tbody>\n    <tr>\n      <th>1489</th>\n      <td>COAD</td>\n      <td>P04637</td>\n      <td>TP53</td>\n      <td>97</td>\n      <td>49</td>\n      <td>49</td>\n      <td>1.00</td>\n      <td>19</td>\n      <td>+</td>\n    </tr>\n    <tr>\n      <th>2228</th>\n      <td>COAD</td>\n      <td>P19784</td>\n      <td>CSNK2A2</td>\n      <td>2</td>\n      <td>9</td>\n      <td>9</td>\n      <td>1.00</td>\n      <td>10</td>\n      <td>-</td>\n    </tr>\n    <tr>\n      <th>4709</th>\n      <td>COAD</td>\n      <td>Q15365</td>\n      <td>PCBP1</td>\n      <td>4</td>\n      <td>9</td>\n      <td>9</td>\n      <td>1.00</td>\n      <td>5</td>\n      <td>+</td>\n    </tr>\n    <tr>\n      <th>212</th>\n      <td>COAD</td>\n      <td>O00238</td>\n      <td>BMPR1B</td>\n      <td>2</td>\n      <td>6</td>\n      <td>6</td>\n      <td>1.00</td>\n      <td>16</td>\n      <td>-</td>\n    </tr>\n    <tr>\n      <th>2110</th>\n      <td>COAD</td>\n      <td>P16885</td>\n      <td>PLCG2</td>\n      <td>4</td>\n      <td>6</td>\n      <td>6</td>\n      <td>1.00</td>\n      <td>14</td>\n      <td>-</td>\n    </tr>\n    <tr>\n      <th>3870</th>\n      <td>COAD</td>\n      <td>P84022</td>\n      <td>SMAD3</td>\n      <td>5</td>\n      <td>6</td>\n      <td>6</td>\n      <td>1.00</td>\n      <td>5</td>\n      <td>+</td>\n    </tr>\n    <tr>\n      <th>7578</th>\n      <td>COAD</td>\n      <td>Q96E17</td>\n      <td>RAB3C</td>\n      <td>1</td>\n      <td>6</td>\n      <td>6</td>\n      <td>1.00</td>\n      <td>4</td>\n      <td>-</td>\n    </tr>\n    <tr>\n      <th>2968</th>\n      <td>COAD</td>\n      <td>P41743</td>\n      <td>PRKCI</td>\n      <td>2</td>\n      <td>5</td>\n      <td>5</td>\n      <td>1.00</td>\n      <td>13</td>\n      <td>-</td>\n    </tr>\n    <tr>\n      <th>3453</th>\n      <td>COAD</td>\n      <td>P53350</td>\n      <td>PLK1</td>\n      <td>5</td>\n      <td>5</td>\n      <td>5</td>\n      <td>1.00</td>\n      <td>10</td>\n      <td>-</td>\n    </tr>\n    <tr>\n      <th>3538</th>\n      <td>COAD</td>\n      <td>P55072</td>\n      <td>VCP</td>\n      <td>3</td>\n      <td>5</td>\n      <td>5</td>\n      <td>1.00</td>\n      <td>11</td>\n      <td>-</td>\n    </tr>\n    <tr>\n      <th>3713</th>\n      <td>COAD</td>\n      <td>P61586</td>\n      <td>RHOA</td>\n      <td>0</td>\n      <td>5</td>\n      <td>5</td>\n      <td>1.00</td>\n      <td>41</td>\n      <td>+</td>\n    </tr>\n    <tr>\n      <th>4337</th>\n      <td>COAD</td>\n      <td>Q13310</td>\n      <td>PABPC4</td>\n      <td>2</td>\n      <td>5</td>\n      <td>5</td>\n      <td>1.00</td>\n      <td>5</td>\n      <td>-</td>\n    </tr>\n    <tr>\n      <th>9855</th>\n      <td>COAD</td>\n      <td>Q9UKV0</td>\n      <td>HDAC9</td>\n      <td>7</td>\n      <td>5</td>\n      <td>5</td>\n      <td>1.00</td>\n      <td>3</td>\n      <td>-</td>\n    </tr>\n    <tr>\n      <th>2029</th>\n      <td>COAD</td>\n      <td>P15056</td>\n      <td>BRAF</td>\n      <td>3</td>\n      <td>52</td>\n      <td>51</td>\n      <td>0.98</td>\n      <td>3</td>\n      <td>+</td>\n    </tr>\n    <tr>\n      <th>7426</th>\n      <td>COAD</td>\n      <td>Q969H0</td>\n      <td>FBXW7</td>\n      <td>13</td>\n      <td>25</td>\n      <td>24</td>\n      <td>0.96</td>\n      <td>4</td>\n      <td>+</td>\n    </tr>\n    <tr>\n      <th>3757</th>\n      <td>COAD</td>\n      <td>P62805</td>\n      <td>H4C1</td>\n      <td>5</td>\n      <td>16</td>\n      <td>15</td>\n      <td>0.94</td>\n      <td>18</td>\n      <td>-</td>\n    </tr>\n    <tr>\n      <th>4379</th>\n      <td>COAD</td>\n      <td>Q13485</td>\n      <td>SMAD4</td>\n      <td>14</td>\n      <td>21</td>\n      <td>19</td>\n      <td>0.90</td>\n      <td>5</td>\n      <td>+</td>\n    </tr>\n    <tr>\n      <th>2882</th>\n      <td>COAD</td>\n      <td>P37173</td>\n      <td>TGFBR2</td>\n      <td>3</td>\n      <td>7</td>\n      <td>6</td>\n      <td>0.86</td>\n      <td>7</td>\n      <td>+</td>\n    </tr>\n    <tr>\n      <th>4431</th>\n      <td>COAD</td>\n      <td>Q13748</td>\n      <td>NaN</td>\n      <td>14</td>\n      <td>7</td>\n      <td>6</td>\n      <td>0.86</td>\n      <td>6</td>\n      <td>-</td>\n    </tr>\n    <tr>\n      <th>4783</th>\n      <td>COAD</td>\n      <td>Q15796</td>\n      <td>SMAD2</td>\n      <td>3</td>\n      <td>7</td>\n      <td>6</td>\n      <td>0.86</td>\n      <td>8</td>\n      <td>+</td>\n    </tr>\n    <tr>\n      <th>3068</th>\n      <td>COAD</td>\n      <td>P45985</td>\n      <td>MAP2K4</td>\n      <td>11</td>\n      <td>6</td>\n      <td>5</td>\n      <td>0.83</td>\n      <td>18</td>\n      <td>+</td>\n    </tr>\n    <tr>\n      <th>10247</th>\n      <td>COAD</td>\n      <td>Q9Y463</td>\n      <td>DYRK1B</td>\n      <td>0</td>\n      <td>6</td>\n      <td>5</td>\n      <td>0.83</td>\n      <td>6</td>\n      <td>-</td>\n    </tr>\n    <tr>\n      <th>10463</th>\n      <td>COAD</td>\n      <td>Q9Y6R4</td>\n      <td>MAP3K4</td>\n      <td>0</td>\n      <td>6</td>\n      <td>5</td>\n      <td>0.83</td>\n      <td>14</td>\n      <td>-</td>\n    </tr>\n    <tr>\n      <th>1510</th>\n      <td>COAD</td>\n      <td>P05107</td>\n      <td>ITGB2</td>\n      <td>5</td>\n      <td>5</td>\n      <td>4</td>\n      <td>0.80</td>\n      <td>7</td>\n      <td>-</td>\n    </tr>\n    <tr>\n      <th>1733</th>\n      <td>COAD</td>\n      <td>P09619</td>\n      <td>PDGFRB</td>\n      <td>2</td>\n      <td>5</td>\n      <td>4</td>\n      <td>0.80</td>\n      <td>16</td>\n      <td>+</td>\n    </tr>\n    <tr>\n      <th>3264</th>\n      <td>COAD</td>\n      <td>P49902</td>\n      <td>NT5C2</td>\n      <td>1</td>\n      <td>5</td>\n      <td>4</td>\n      <td>0.80</td>\n      <td>1</td>\n      <td>+</td>\n    </tr>\n    <tr>\n      <th>3705</th>\n      <td>COAD</td>\n      <td>P61244</td>\n      <td>MAX</td>\n      <td>2</td>\n      <td>5</td>\n      <td>4</td>\n      <td>0.80</td>\n      <td>12</td>\n      <td>+</td>\n    </tr>\n    <tr>\n      <th>4827</th>\n      <td>COAD</td>\n      <td>Q16478</td>\n      <td>GRIK5</td>\n      <td>13</td>\n      <td>5</td>\n      <td>4</td>\n      <td>0.80</td>\n      <td>4</td>\n      <td>-</td>\n    </tr>\n    <tr>\n      <th>4865</th>\n      <td>COAD</td>\n      <td>Q16659</td>\n      <td>MAPK6</td>\n      <td>2</td>\n      <td>5</td>\n      <td>4</td>\n      <td>0.80</td>\n      <td>4</td>\n      <td>-</td>\n    </tr>\n    <tr>\n      <th>7320</th>\n      <td>COAD</td>\n      <td>Q92747</td>\n      <td>ARPC1A</td>\n      <td>3</td>\n      <td>5</td>\n      <td>4</td>\n      <td>0.80</td>\n      <td>6</td>\n      <td>-</td>\n    </tr>\n    <tr>\n      <th>9170</th>\n      <td>COAD</td>\n      <td>Q9NRM7</td>\n      <td>LATS2</td>\n      <td>1</td>\n      <td>5</td>\n      <td>4</td>\n      <td>0.80</td>\n      <td>8</td>\n      <td>+</td>\n    </tr>\n  </tbody>\n</table>\n</div>"
     },
     "execution_count": 9,
     "metadata": {},
     "output_type": "execute_result"
    }
   ],
   "source": [
    "coad_preliminary_data_filtered"
   ],
   "metadata": {
    "collapsed": false,
    "pycharm": {
     "name": "#%%\n"
    }
   }
  },
  {
   "cell_type": "code",
   "execution_count": 10,
   "outputs": [
    {
     "data": {
      "text/plain": "      TCGA PROTEIN  GENE  PATIENT_CORE_COUNT  PATIENT_INTERFACE_COUNT  \\\n627   ESCA  P04637  TP53                  56                       35   \n1571  ESCA  P62805  H4C1                   2                        7   \n\n      NUM_INTERFACE_PATIENTS_DISRUPTIVE_INTERACTOR  RATIO_(prev_two_col)  \\\n627                                             34                  0.97   \n1571                                             6                  0.86   \n\n      NUM_UNIQUE_INTERACTORS CGC_STATUS  \n627                       17          +  \n1571                      11          -  ",
      "text/html": "<div>\n<style scoped>\n    .dataframe tbody tr th:only-of-type {\n        vertical-align: middle;\n    }\n\n    .dataframe tbody tr th {\n        vertical-align: top;\n    }\n\n    .dataframe thead th {\n        text-align: right;\n    }\n</style>\n<table border=\"1\" class=\"dataframe\">\n  <thead>\n    <tr style=\"text-align: right;\">\n      <th></th>\n      <th>TCGA</th>\n      <th>PROTEIN</th>\n      <th>GENE</th>\n      <th>PATIENT_CORE_COUNT</th>\n      <th>PATIENT_INTERFACE_COUNT</th>\n      <th>NUM_INTERFACE_PATIENTS_DISRUPTIVE_INTERACTOR</th>\n      <th>RATIO_(prev_two_col)</th>\n      <th>NUM_UNIQUE_INTERACTORS</th>\n      <th>CGC_STATUS</th>\n    </tr>\n  </thead>\n  <tbody>\n    <tr>\n      <th>627</th>\n      <td>ESCA</td>\n      <td>P04637</td>\n      <td>TP53</td>\n      <td>56</td>\n      <td>35</td>\n      <td>34</td>\n      <td>0.97</td>\n      <td>17</td>\n      <td>+</td>\n    </tr>\n    <tr>\n      <th>1571</th>\n      <td>ESCA</td>\n      <td>P62805</td>\n      <td>H4C1</td>\n      <td>2</td>\n      <td>7</td>\n      <td>6</td>\n      <td>0.86</td>\n      <td>11</td>\n      <td>-</td>\n    </tr>\n  </tbody>\n</table>\n</div>"
     },
     "execution_count": 10,
     "metadata": {},
     "output_type": "execute_result"
    }
   ],
   "source": [
    "esca_preliminary_data_filtered"
   ],
   "metadata": {
    "collapsed": false,
    "pycharm": {
     "name": "#%%\n"
    }
   }
  },
  {
   "cell_type": "code",
   "execution_count": 11,
   "outputs": [
    {
     "data": {
      "text/plain": "     TCGA PROTEIN   GENE  PATIENT_CORE_COUNT  PATIENT_INTERFACE_COUNT  \\\n1050  GBM  P04637   TP53                  52                       35   \n1449  GBM  P15056   BRAF                   1                        5   \n2925  GBM  Q05655  PRKCD                   2                        5   \n\n      NUM_INTERFACE_PATIENTS_DISRUPTIVE_INTERACTOR  RATIO_(prev_two_col)  \\\n1050                                            35                   1.0   \n1449                                             4                   0.8   \n2925                                             4                   0.8   \n\n      NUM_UNIQUE_INTERACTORS CGC_STATUS  \n1050                      19          +  \n1449                       5          +  \n2925                      10          -  ",
      "text/html": "<div>\n<style scoped>\n    .dataframe tbody tr th:only-of-type {\n        vertical-align: middle;\n    }\n\n    .dataframe tbody tr th {\n        vertical-align: top;\n    }\n\n    .dataframe thead th {\n        text-align: right;\n    }\n</style>\n<table border=\"1\" class=\"dataframe\">\n  <thead>\n    <tr style=\"text-align: right;\">\n      <th></th>\n      <th>TCGA</th>\n      <th>PROTEIN</th>\n      <th>GENE</th>\n      <th>PATIENT_CORE_COUNT</th>\n      <th>PATIENT_INTERFACE_COUNT</th>\n      <th>NUM_INTERFACE_PATIENTS_DISRUPTIVE_INTERACTOR</th>\n      <th>RATIO_(prev_two_col)</th>\n      <th>NUM_UNIQUE_INTERACTORS</th>\n      <th>CGC_STATUS</th>\n    </tr>\n  </thead>\n  <tbody>\n    <tr>\n      <th>1050</th>\n      <td>GBM</td>\n      <td>P04637</td>\n      <td>TP53</td>\n      <td>52</td>\n      <td>35</td>\n      <td>35</td>\n      <td>1.0</td>\n      <td>19</td>\n      <td>+</td>\n    </tr>\n    <tr>\n      <th>1449</th>\n      <td>GBM</td>\n      <td>P15056</td>\n      <td>BRAF</td>\n      <td>1</td>\n      <td>5</td>\n      <td>4</td>\n      <td>0.8</td>\n      <td>5</td>\n      <td>+</td>\n    </tr>\n    <tr>\n      <th>2925</th>\n      <td>GBM</td>\n      <td>Q05655</td>\n      <td>PRKCD</td>\n      <td>2</td>\n      <td>5</td>\n      <td>4</td>\n      <td>0.8</td>\n      <td>10</td>\n      <td>-</td>\n    </tr>\n  </tbody>\n</table>\n</div>"
     },
     "execution_count": 11,
     "metadata": {},
     "output_type": "execute_result"
    }
   ],
   "source": [
    "gbm_preliminary_data_filtered"
   ],
   "metadata": {
    "collapsed": false,
    "pycharm": {
     "name": "#%%\n"
    }
   }
  },
  {
   "cell_type": "code",
   "execution_count": 12,
   "outputs": [
    {
     "data": {
      "text/plain": "      TCGA PROTEIN    GENE  PATIENT_CORE_COUNT  PATIENT_INTERFACE_COUNT  \\\n1012  HNSC  P01112    HRAS                   1                       26   \n2792  HNSC  P63000    RAC1                   0                       11   \n1499  HNSC  P15056    BRAF                   0                        6   \n2381  HNSC  P49336    CDK8                   2                        6   \n3410  HNSC  Q14790   CASP8                  13                        5   \n1099  HNSC  P04637    TP53                 134                       59   \n5467  HNSC  Q969H0   FBXW7                   2                       18   \n2220  HNSC  P42336  PIK3CA                  13                       14   \n2236  HNSC  P42771  CDKN2A                   1                       19   \n1754  HNSC  P22607   FGFR3                   0                        6   \n1179  HNSC  P07288    KLK3                   1                        5   \n1908  HNSC  P28827   PTPRM                   9                        5   \n2137  HNSC  P37173  TGFBR2                   7                        5   \n2807  HNSC  P68431    H3C1                   0                        5   \n3562  HNSC  Q16478   GRIK5                   3                        5   \n\n      NUM_INTERFACE_PATIENTS_DISRUPTIVE_INTERACTOR  RATIO_(prev_two_col)  \\\n1012                                            26                  1.00   \n2792                                            11                  1.00   \n1499                                             6                  1.00   \n2381                                             6                  1.00   \n3410                                             5                  1.00   \n1099                                            58                  0.98   \n5467                                            17                  0.94   \n2220                                            13                  0.93   \n2236                                            17                  0.89   \n1754                                             5                  0.83   \n1179                                             4                  0.80   \n1908                                             4                  0.80   \n2137                                             4                  0.80   \n2807                                             4                  0.80   \n3562                                             4                  0.80   \n\n      NUM_UNIQUE_INTERACTORS CGC_STATUS  \n1012                      26          +  \n2792                       8          +  \n1499                       6          +  \n2381                       3          -  \n3410                       5          +  \n1099                      16          +  \n5467                       3          +  \n2220                       5          +  \n2236                      23          +  \n1754                      20          +  \n1179                       5          -  \n1908                       3          -  \n2137                       5          +  \n2807                      11          -  \n3562                       4          -  ",
      "text/html": "<div>\n<style scoped>\n    .dataframe tbody tr th:only-of-type {\n        vertical-align: middle;\n    }\n\n    .dataframe tbody tr th {\n        vertical-align: top;\n    }\n\n    .dataframe thead th {\n        text-align: right;\n    }\n</style>\n<table border=\"1\" class=\"dataframe\">\n  <thead>\n    <tr style=\"text-align: right;\">\n      <th></th>\n      <th>TCGA</th>\n      <th>PROTEIN</th>\n      <th>GENE</th>\n      <th>PATIENT_CORE_COUNT</th>\n      <th>PATIENT_INTERFACE_COUNT</th>\n      <th>NUM_INTERFACE_PATIENTS_DISRUPTIVE_INTERACTOR</th>\n      <th>RATIO_(prev_two_col)</th>\n      <th>NUM_UNIQUE_INTERACTORS</th>\n      <th>CGC_STATUS</th>\n    </tr>\n  </thead>\n  <tbody>\n    <tr>\n      <th>1012</th>\n      <td>HNSC</td>\n      <td>P01112</td>\n      <td>HRAS</td>\n      <td>1</td>\n      <td>26</td>\n      <td>26</td>\n      <td>1.00</td>\n      <td>26</td>\n      <td>+</td>\n    </tr>\n    <tr>\n      <th>2792</th>\n      <td>HNSC</td>\n      <td>P63000</td>\n      <td>RAC1</td>\n      <td>0</td>\n      <td>11</td>\n      <td>11</td>\n      <td>1.00</td>\n      <td>8</td>\n      <td>+</td>\n    </tr>\n    <tr>\n      <th>1499</th>\n      <td>HNSC</td>\n      <td>P15056</td>\n      <td>BRAF</td>\n      <td>0</td>\n      <td>6</td>\n      <td>6</td>\n      <td>1.00</td>\n      <td>6</td>\n      <td>+</td>\n    </tr>\n    <tr>\n      <th>2381</th>\n      <td>HNSC</td>\n      <td>P49336</td>\n      <td>CDK8</td>\n      <td>2</td>\n      <td>6</td>\n      <td>6</td>\n      <td>1.00</td>\n      <td>3</td>\n      <td>-</td>\n    </tr>\n    <tr>\n      <th>3410</th>\n      <td>HNSC</td>\n      <td>Q14790</td>\n      <td>CASP8</td>\n      <td>13</td>\n      <td>5</td>\n      <td>5</td>\n      <td>1.00</td>\n      <td>5</td>\n      <td>+</td>\n    </tr>\n    <tr>\n      <th>1099</th>\n      <td>HNSC</td>\n      <td>P04637</td>\n      <td>TP53</td>\n      <td>134</td>\n      <td>59</td>\n      <td>58</td>\n      <td>0.98</td>\n      <td>16</td>\n      <td>+</td>\n    </tr>\n    <tr>\n      <th>5467</th>\n      <td>HNSC</td>\n      <td>Q969H0</td>\n      <td>FBXW7</td>\n      <td>2</td>\n      <td>18</td>\n      <td>17</td>\n      <td>0.94</td>\n      <td>3</td>\n      <td>+</td>\n    </tr>\n    <tr>\n      <th>2220</th>\n      <td>HNSC</td>\n      <td>P42336</td>\n      <td>PIK3CA</td>\n      <td>13</td>\n      <td>14</td>\n      <td>13</td>\n      <td>0.93</td>\n      <td>5</td>\n      <td>+</td>\n    </tr>\n    <tr>\n      <th>2236</th>\n      <td>HNSC</td>\n      <td>P42771</td>\n      <td>CDKN2A</td>\n      <td>1</td>\n      <td>19</td>\n      <td>17</td>\n      <td>0.89</td>\n      <td>23</td>\n      <td>+</td>\n    </tr>\n    <tr>\n      <th>1754</th>\n      <td>HNSC</td>\n      <td>P22607</td>\n      <td>FGFR3</td>\n      <td>0</td>\n      <td>6</td>\n      <td>5</td>\n      <td>0.83</td>\n      <td>20</td>\n      <td>+</td>\n    </tr>\n    <tr>\n      <th>1179</th>\n      <td>HNSC</td>\n      <td>P07288</td>\n      <td>KLK3</td>\n      <td>1</td>\n      <td>5</td>\n      <td>4</td>\n      <td>0.80</td>\n      <td>5</td>\n      <td>-</td>\n    </tr>\n    <tr>\n      <th>1908</th>\n      <td>HNSC</td>\n      <td>P28827</td>\n      <td>PTPRM</td>\n      <td>9</td>\n      <td>5</td>\n      <td>4</td>\n      <td>0.80</td>\n      <td>3</td>\n      <td>-</td>\n    </tr>\n    <tr>\n      <th>2137</th>\n      <td>HNSC</td>\n      <td>P37173</td>\n      <td>TGFBR2</td>\n      <td>7</td>\n      <td>5</td>\n      <td>4</td>\n      <td>0.80</td>\n      <td>5</td>\n      <td>+</td>\n    </tr>\n    <tr>\n      <th>2807</th>\n      <td>HNSC</td>\n      <td>P68431</td>\n      <td>H3C1</td>\n      <td>0</td>\n      <td>5</td>\n      <td>4</td>\n      <td>0.80</td>\n      <td>11</td>\n      <td>-</td>\n    </tr>\n    <tr>\n      <th>3562</th>\n      <td>HNSC</td>\n      <td>Q16478</td>\n      <td>GRIK5</td>\n      <td>3</td>\n      <td>5</td>\n      <td>4</td>\n      <td>0.80</td>\n      <td>4</td>\n      <td>-</td>\n    </tr>\n  </tbody>\n</table>\n</div>"
     },
     "execution_count": 12,
     "metadata": {},
     "output_type": "execute_result"
    }
   ],
   "source": [
    "hnsc_preliminary_data_filtered"
   ],
   "metadata": {
    "collapsed": false,
    "pycharm": {
     "name": "#%%\n"
    }
   }
  },
  {
   "cell_type": "code",
   "execution_count": 13,
   "outputs": [
    {
     "data": {
      "text/plain": "    TCGA PROTEIN   GENE  PATIENT_CORE_COUNT  PATIENT_INTERFACE_COUNT  \\\n927   OV  P04637   TP53                 147                       80   \n782   OV  O95835  LATS1                   1                        5   \n\n     NUM_INTERFACE_PATIENTS_DISRUPTIVE_INTERACTOR  RATIO_(prev_two_col)  \\\n927                                            80                   1.0   \n782                                             4                   0.8   \n\n     NUM_UNIQUE_INTERACTORS CGC_STATUS  \n927                      19          +  \n782                       7          +  ",
      "text/html": "<div>\n<style scoped>\n    .dataframe tbody tr th:only-of-type {\n        vertical-align: middle;\n    }\n\n    .dataframe tbody tr th {\n        vertical-align: top;\n    }\n\n    .dataframe thead th {\n        text-align: right;\n    }\n</style>\n<table border=\"1\" class=\"dataframe\">\n  <thead>\n    <tr style=\"text-align: right;\">\n      <th></th>\n      <th>TCGA</th>\n      <th>PROTEIN</th>\n      <th>GENE</th>\n      <th>PATIENT_CORE_COUNT</th>\n      <th>PATIENT_INTERFACE_COUNT</th>\n      <th>NUM_INTERFACE_PATIENTS_DISRUPTIVE_INTERACTOR</th>\n      <th>RATIO_(prev_two_col)</th>\n      <th>NUM_UNIQUE_INTERACTORS</th>\n      <th>CGC_STATUS</th>\n    </tr>\n  </thead>\n  <tbody>\n    <tr>\n      <th>927</th>\n      <td>OV</td>\n      <td>P04637</td>\n      <td>TP53</td>\n      <td>147</td>\n      <td>80</td>\n      <td>80</td>\n      <td>1.0</td>\n      <td>19</td>\n      <td>+</td>\n    </tr>\n    <tr>\n      <th>782</th>\n      <td>OV</td>\n      <td>O95835</td>\n      <td>LATS1</td>\n      <td>1</td>\n      <td>5</td>\n      <td>4</td>\n      <td>0.8</td>\n      <td>7</td>\n      <td>+</td>\n    </tr>\n  </tbody>\n</table>\n</div>"
     },
     "execution_count": 13,
     "metadata": {},
     "output_type": "execute_result"
    }
   ],
   "source": [
    "ov_preliminary_data_filtered"
   ],
   "metadata": {
    "collapsed": false,
    "pycharm": {
     "name": "#%%\n"
    }
   }
  },
  {
   "cell_type": "code",
   "execution_count": null,
   "outputs": [],
   "source": [],
   "metadata": {
    "collapsed": false,
    "pycharm": {
     "name": "#%%\n"
    }
   }
  },
  {
   "cell_type": "code",
   "execution_count": 14,
   "outputs": [
    {
     "data": {
      "text/plain": "      TCGA PROTEIN    GENE MOST_FREQUENTLY_DISRUPTED_PARTNER  \\\n2465  BRCA  P42336  PIK3CA              PIK3R1, PIK3R2 (120)   \n1204  BRCA  P04637    TP53            TP53BP2, PPP1R13B (41)   \n3126  BRCA  P68431    H3C1                          DAXX (6)   \n3091  BRCA  P62805    H4C1                          H3C1 (8)   \n2534  BRCA  P45985  MAP2K4                 LRRK2, MAP2K6 (6)   \n1201  BRCA  P04626   ERBB2                         SRPK1 (7)   \n1447  BRCA  P0CG48     UBC                          UBC1 (4)   \n\n      PATIENT_CORE_COUNT  PATIENT_INTERFACE_COUNT  \\\n2465                  35                      124   \n1204                 141                       55   \n3126                   1                       13   \n3091                   6                       11   \n2534                   3                        8   \n1201                  12                       14   \n1447                   0                        7   \n\n      NUM_INTERFACE_PATIENTS_DISRUPTIVE_INTERACTOR  RATIO_(prev_two_col)  \\\n2465                                           120                  0.97   \n1204                                            52                  0.95   \n3126                                            12                  0.92   \n3091                                            10                  0.91   \n2534                                             7                  0.88   \n1201                                            12                  0.86   \n1447                                             6                  0.86   \n\n      NUM_UNIQUE_INTERACTORS CGC_STATUS  \n2465                       6          +  \n1204                      17          +  \n3126                      11          -  \n3091                      16          -  \n2534                       7          +  \n1201                      16          +  \n1447                       7          -  ",
      "text/html": "<div>\n<style scoped>\n    .dataframe tbody tr th:only-of-type {\n        vertical-align: middle;\n    }\n\n    .dataframe tbody tr th {\n        vertical-align: top;\n    }\n\n    .dataframe thead th {\n        text-align: right;\n    }\n</style>\n<table border=\"1\" class=\"dataframe\">\n  <thead>\n    <tr style=\"text-align: right;\">\n      <th></th>\n      <th>TCGA</th>\n      <th>PROTEIN</th>\n      <th>GENE</th>\n      <th>MOST_FREQUENTLY_DISRUPTED_PARTNER</th>\n      <th>PATIENT_CORE_COUNT</th>\n      <th>PATIENT_INTERFACE_COUNT</th>\n      <th>NUM_INTERFACE_PATIENTS_DISRUPTIVE_INTERACTOR</th>\n      <th>RATIO_(prev_two_col)</th>\n      <th>NUM_UNIQUE_INTERACTORS</th>\n      <th>CGC_STATUS</th>\n    </tr>\n  </thead>\n  <tbody>\n    <tr>\n      <th>2465</th>\n      <td>BRCA</td>\n      <td>P42336</td>\n      <td>PIK3CA</td>\n      <td>PIK3R1, PIK3R2 (120)</td>\n      <td>35</td>\n      <td>124</td>\n      <td>120</td>\n      <td>0.97</td>\n      <td>6</td>\n      <td>+</td>\n    </tr>\n    <tr>\n      <th>1204</th>\n      <td>BRCA</td>\n      <td>P04637</td>\n      <td>TP53</td>\n      <td>TP53BP2, PPP1R13B (41)</td>\n      <td>141</td>\n      <td>55</td>\n      <td>52</td>\n      <td>0.95</td>\n      <td>17</td>\n      <td>+</td>\n    </tr>\n    <tr>\n      <th>3126</th>\n      <td>BRCA</td>\n      <td>P68431</td>\n      <td>H3C1</td>\n      <td>DAXX (6)</td>\n      <td>1</td>\n      <td>13</td>\n      <td>12</td>\n      <td>0.92</td>\n      <td>11</td>\n      <td>-</td>\n    </tr>\n    <tr>\n      <th>3091</th>\n      <td>BRCA</td>\n      <td>P62805</td>\n      <td>H4C1</td>\n      <td>H3C1 (8)</td>\n      <td>6</td>\n      <td>11</td>\n      <td>10</td>\n      <td>0.91</td>\n      <td>16</td>\n      <td>-</td>\n    </tr>\n    <tr>\n      <th>2534</th>\n      <td>BRCA</td>\n      <td>P45985</td>\n      <td>MAP2K4</td>\n      <td>LRRK2, MAP2K6 (6)</td>\n      <td>3</td>\n      <td>8</td>\n      <td>7</td>\n      <td>0.88</td>\n      <td>7</td>\n      <td>+</td>\n    </tr>\n    <tr>\n      <th>1201</th>\n      <td>BRCA</td>\n      <td>P04626</td>\n      <td>ERBB2</td>\n      <td>SRPK1 (7)</td>\n      <td>12</td>\n      <td>14</td>\n      <td>12</td>\n      <td>0.86</td>\n      <td>16</td>\n      <td>+</td>\n    </tr>\n    <tr>\n      <th>1447</th>\n      <td>BRCA</td>\n      <td>P0CG48</td>\n      <td>UBC</td>\n      <td>UBC1 (4)</td>\n      <td>0</td>\n      <td>7</td>\n      <td>6</td>\n      <td>0.86</td>\n      <td>7</td>\n      <td>-</td>\n    </tr>\n  </tbody>\n</table>\n</div>"
     },
     "execution_count": 14,
     "metadata": {},
     "output_type": "execute_result"
    }
   ],
   "source": [
    "brca_preliminary_data_filtered_updated"
   ],
   "metadata": {
    "collapsed": false,
    "pycharm": {
     "name": "#%%\n"
    }
   }
  },
  {
   "cell_type": "code",
   "execution_count": 16,
   "outputs": [],
   "source": [],
   "metadata": {
    "collapsed": false,
    "pycharm": {
     "name": "#%%\n"
    }
   }
  },
  {
   "cell_type": "code",
   "execution_count": 15,
   "outputs": [],
   "source": [
    "concated_preliminary_filtered_data_updated = pd.concat(\n",
    "    [\n",
    "        brca_preliminary_data_filtered_updated,\n",
    "        coad_preliminary_data_filtered_updated,\n",
    "        esca_preliminary_data_filtered_updated,\n",
    "        gbm_preliminary_data_filtered_updated,\n",
    "        hnsc_preliminary_data_filtered_updated,\n",
    "        ov_preliminary_data_filtered_updated,\n",
    "    ], ignore_index=True\n",
    ")"
   ],
   "metadata": {
    "collapsed": false,
    "pycharm": {
     "name": "#%%\n"
    }
   }
  },
  {
   "cell_type": "code",
   "execution_count": null,
   "outputs": [],
   "source": [],
   "metadata": {
    "collapsed": false,
    "pycharm": {
     "name": "#%%\n"
    }
   }
  },
  {
   "cell_type": "code",
   "execution_count": 16,
   "outputs": [
    {
     "data": {
      "text/plain": "    TCGA PROTEIN     GENE  MOST_FREQUENTLY_DISRUPTED_PARTNER  \\\n0   BRCA  P42336   PIK3CA               PIK3R1, PIK3R2 (120)   \n1   BRCA  P04637     TP53             TP53BP2, PPP1R13B (41)   \n2   BRCA  P68431     H3C1                           DAXX (6)   \n3   BRCA  P62805     H4C1                           H3C1 (8)   \n4   BRCA  P45985   MAP2K4                  LRRK2, MAP2K6 (6)   \n5   BRCA  P04626    ERBB2                          SRPK1 (7)   \n6   BRCA  P0CG48      UBC                           UBC1 (4)   \n7   COAD  P04637     TP53             TP53BP2, PPP1R13B (41)   \n8   COAD  P19784  CSNK2A2                           PAK1 (4)   \n9   COAD  Q15365    PCBP1           HNRNPK, PCBP2, PCBP4 (9)   \n10  COAD  O00238   BMPR1B                                  -   \n11  COAD  P16885    PLCG2                           LCP2 (3)   \n12  COAD  P84022    SMAD3                  SMAD2, ZFYVE9 (3)   \n13  COAD  Q96E17    RAB3C                   RIMS1, RPH3A (6)   \n14  COAD  P41743    PRKCI                   MARK2, MARK4 (3)   \n15  COAD  P53350     PLK1                    NUAK1, PAK1 (4)   \n16  COAD  P55072      VCP                                  -   \n17  COAD  P61586     RHOA          DOCK7, ARHGDIA, MCF2L (4)   \n18  COAD  Q13310   PABPC4                        HNRNPA1 (4)   \n19  COAD  Q9UKV0    HDAC9                          HDAC3 (4)   \n20  COAD  P15056     BRAF                   LIMK1, PAK2 (50)   \n21  COAD  Q969H0    FBXW7                          MTOR (22)   \n22  COAD  P62805     H4C1                           H3C1 (9)   \n23  COAD  Q13485    SMAD4   SMAD2, DKFZp781O1323, SMAD2 (16)   \n24  COAD  P37173   TGFBR2                        RPS6KB1 (4)   \n25  COAD  Q13748      NaN                                  -   \n26  COAD  Q15796    SMAD2                          SMAD7 (4)   \n27  COAD  P45985   MAP2K4                          MAPK9 (3)   \n28  COAD  Q9Y463   DYRK1B                                  -   \n29  COAD  Q9Y6R4   MAP3K4                                  -   \n30  COAD  P05107    ITGB2                                  -   \n31  COAD  P09619   PDGFRB                                  -   \n32  COAD  P49902    NT5C2                            N/A (4)   \n33  COAD  P61244      MAX                           MXD1 (4)   \n34  COAD  Q16478    GRIK5                          GRID2 (3)   \n35  COAD  Q16659    MAPK6                          AURKA (3)   \n36  COAD  Q92747   ARPC1A                                  -   \n37  COAD  Q9NRM7    LATS2                                  -   \n38  ESCA  P04637     TP53             TP53BP2, PPP1R13B (29)   \n39  ESCA  P62805     H4C1                H3C1, DAXX, nan (3)   \n40   GBM  P04637     TP53             TP53BP2, PPP1R13B (28)   \n41   GBM  P15056     BRAF                    LIMK1, PAK2 (4)   \n42   GBM  Q05655    PRKCD                                  -   \n43  HNSC  P01112     HRAS                    SOS1, SOS2 (25)   \n44  HNSC  P63000     RAC1                       ARHGAP44 (8)   \n45  HNSC  P15056     BRAF                           PAK2 (3)   \n46  HNSC  P49336     CDK8                          EHMT2 (5)   \n47  HNSC  Q14790    CASP8                     CASP7, nan (3)   \n48  HNSC  P04637     TP53                      PPP1R13B (46)   \n49  HNSC  Q969H0    FBXW7                          MTOR (11)   \n50  HNSC  P42336   PIK3CA         PIK3R1, PIK3R2, ZAP70 (13)   \n51  HNSC  P42771   CDKN2A                          CDK4 (15)   \n52  HNSC  P22607    FGFR3  FGF2, FGF6, FGF1, FGF12, FGF8 (4)   \n53  HNSC  P07288     KLK3                       SERPINA1 (4)   \n54  HNSC  P28827    PTPRM                          PTPRK (3)   \n55  HNSC  P37173   TGFBR2                                  -   \n56  HNSC  P68431     H3C1                           H4C1 (3)   \n57  HNSC  Q16478    GRIK5                          GRID2 (3)   \n58    OV  P04637     TP53             TP53BP2, PPP1R13B (60)   \n59    OV  O95835    LATS1                                  -   \n\n    PATIENT_CORE_COUNT  PATIENT_INTERFACE_COUNT  \\\n0                   35                      124   \n1                  141                       55   \n2                    1                       13   \n3                    6                       11   \n4                    3                        8   \n5                   12                       14   \n6                    0                        7   \n7                   97                       49   \n8                    2                        9   \n9                    4                        9   \n10                   2                        6   \n11                   4                        6   \n12                   5                        6   \n13                   1                        6   \n14                   2                        5   \n15                   5                        5   \n16                   3                        5   \n17                   0                        5   \n18                   2                        5   \n19                   7                        5   \n20                   3                       52   \n21                  13                       25   \n22                   5                       16   \n23                  14                       21   \n24                   3                        7   \n25                  14                        7   \n26                   3                        7   \n27                  11                        6   \n28                   0                        6   \n29                   0                        6   \n30                   5                        5   \n31                   2                        5   \n32                   1                        5   \n33                   2                        5   \n34                  13                        5   \n35                   2                        5   \n36                   3                        5   \n37                   1                        5   \n38                  56                       35   \n39                   2                        7   \n40                  52                       35   \n41                   1                        5   \n42                   2                        5   \n43                   1                       26   \n44                   0                       11   \n45                   0                        6   \n46                   2                        6   \n47                  13                        5   \n48                 134                       59   \n49                   2                       18   \n50                  13                       14   \n51                   1                       19   \n52                   0                        6   \n53                   1                        5   \n54                   9                        5   \n55                   7                        5   \n56                   0                        5   \n57                   3                        5   \n58                 147                       80   \n59                   1                        5   \n\n    NUM_INTERFACE_PATIENTS_DISRUPTIVE_INTERACTOR  RATIO_(prev_two_col)  \\\n0                                            120                  0.97   \n1                                             52                  0.95   \n2                                             12                  0.92   \n3                                             10                  0.91   \n4                                              7                  0.88   \n5                                             12                  0.86   \n6                                              6                  0.86   \n7                                             49                  1.00   \n8                                              9                  1.00   \n9                                              9                  1.00   \n10                                             6                  1.00   \n11                                             6                  1.00   \n12                                             6                  1.00   \n13                                             6                  1.00   \n14                                             5                  1.00   \n15                                             5                  1.00   \n16                                             5                  1.00   \n17                                             5                  1.00   \n18                                             5                  1.00   \n19                                             5                  1.00   \n20                                            51                  0.98   \n21                                            24                  0.96   \n22                                            15                  0.94   \n23                                            19                  0.90   \n24                                             6                  0.86   \n25                                             6                  0.86   \n26                                             6                  0.86   \n27                                             5                  0.83   \n28                                             5                  0.83   \n29                                             5                  0.83   \n30                                             4                  0.80   \n31                                             4                  0.80   \n32                                             4                  0.80   \n33                                             4                  0.80   \n34                                             4                  0.80   \n35                                             4                  0.80   \n36                                             4                  0.80   \n37                                             4                  0.80   \n38                                            34                  0.97   \n39                                             6                  0.86   \n40                                            35                  1.00   \n41                                             4                  0.80   \n42                                             4                  0.80   \n43                                            26                  1.00   \n44                                            11                  1.00   \n45                                             6                  1.00   \n46                                             6                  1.00   \n47                                             5                  1.00   \n48                                            58                  0.98   \n49                                            17                  0.94   \n50                                            13                  0.93   \n51                                            17                  0.89   \n52                                             5                  0.83   \n53                                             4                  0.80   \n54                                             4                  0.80   \n55                                             4                  0.80   \n56                                             4                  0.80   \n57                                             4                  0.80   \n58                                            80                  1.00   \n59                                             4                  0.80   \n\n    NUM_UNIQUE_INTERACTORS CGC_STATUS  \n0                        6          +  \n1                       17          +  \n2                       11          -  \n3                       16          -  \n4                        7          +  \n5                       16          +  \n6                        7          -  \n7                       19          +  \n8                       10          -  \n9                        5          +  \n10                      16          -  \n11                      14          -  \n12                       5          +  \n13                       4          -  \n14                      13          -  \n15                      10          -  \n16                      11          -  \n17                      41          +  \n18                       5          -  \n19                       3          -  \n20                       3          +  \n21                       4          +  \n22                      18          -  \n23                       5          +  \n24                       7          +  \n25                       6          -  \n26                       8          +  \n27                      18          +  \n28                       6          -  \n29                      14          -  \n30                       7          -  \n31                      16          +  \n32                       1          +  \n33                      12          +  \n34                       4          -  \n35                       4          -  \n36                       6          -  \n37                       8          +  \n38                      17          +  \n39                      11          -  \n40                      19          +  \n41                       5          +  \n42                      10          -  \n43                      26          +  \n44                       8          +  \n45                       6          +  \n46                       3          -  \n47                       5          +  \n48                      16          +  \n49                       3          +  \n50                       5          +  \n51                      23          +  \n52                      20          +  \n53                       5          -  \n54                       3          -  \n55                       5          +  \n56                      11          -  \n57                       4          -  \n58                      19          +  \n59                       7          +  ",
      "text/html": "<div>\n<style scoped>\n    .dataframe tbody tr th:only-of-type {\n        vertical-align: middle;\n    }\n\n    .dataframe tbody tr th {\n        vertical-align: top;\n    }\n\n    .dataframe thead th {\n        text-align: right;\n    }\n</style>\n<table border=\"1\" class=\"dataframe\">\n  <thead>\n    <tr style=\"text-align: right;\">\n      <th></th>\n      <th>TCGA</th>\n      <th>PROTEIN</th>\n      <th>GENE</th>\n      <th>MOST_FREQUENTLY_DISRUPTED_PARTNER</th>\n      <th>PATIENT_CORE_COUNT</th>\n      <th>PATIENT_INTERFACE_COUNT</th>\n      <th>NUM_INTERFACE_PATIENTS_DISRUPTIVE_INTERACTOR</th>\n      <th>RATIO_(prev_two_col)</th>\n      <th>NUM_UNIQUE_INTERACTORS</th>\n      <th>CGC_STATUS</th>\n    </tr>\n  </thead>\n  <tbody>\n    <tr>\n      <th>0</th>\n      <td>BRCA</td>\n      <td>P42336</td>\n      <td>PIK3CA</td>\n      <td>PIK3R1, PIK3R2 (120)</td>\n      <td>35</td>\n      <td>124</td>\n      <td>120</td>\n      <td>0.97</td>\n      <td>6</td>\n      <td>+</td>\n    </tr>\n    <tr>\n      <th>1</th>\n      <td>BRCA</td>\n      <td>P04637</td>\n      <td>TP53</td>\n      <td>TP53BP2, PPP1R13B (41)</td>\n      <td>141</td>\n      <td>55</td>\n      <td>52</td>\n      <td>0.95</td>\n      <td>17</td>\n      <td>+</td>\n    </tr>\n    <tr>\n      <th>2</th>\n      <td>BRCA</td>\n      <td>P68431</td>\n      <td>H3C1</td>\n      <td>DAXX (6)</td>\n      <td>1</td>\n      <td>13</td>\n      <td>12</td>\n      <td>0.92</td>\n      <td>11</td>\n      <td>-</td>\n    </tr>\n    <tr>\n      <th>3</th>\n      <td>BRCA</td>\n      <td>P62805</td>\n      <td>H4C1</td>\n      <td>H3C1 (8)</td>\n      <td>6</td>\n      <td>11</td>\n      <td>10</td>\n      <td>0.91</td>\n      <td>16</td>\n      <td>-</td>\n    </tr>\n    <tr>\n      <th>4</th>\n      <td>BRCA</td>\n      <td>P45985</td>\n      <td>MAP2K4</td>\n      <td>LRRK2, MAP2K6 (6)</td>\n      <td>3</td>\n      <td>8</td>\n      <td>7</td>\n      <td>0.88</td>\n      <td>7</td>\n      <td>+</td>\n    </tr>\n    <tr>\n      <th>5</th>\n      <td>BRCA</td>\n      <td>P04626</td>\n      <td>ERBB2</td>\n      <td>SRPK1 (7)</td>\n      <td>12</td>\n      <td>14</td>\n      <td>12</td>\n      <td>0.86</td>\n      <td>16</td>\n      <td>+</td>\n    </tr>\n    <tr>\n      <th>6</th>\n      <td>BRCA</td>\n      <td>P0CG48</td>\n      <td>UBC</td>\n      <td>UBC1 (4)</td>\n      <td>0</td>\n      <td>7</td>\n      <td>6</td>\n      <td>0.86</td>\n      <td>7</td>\n      <td>-</td>\n    </tr>\n    <tr>\n      <th>7</th>\n      <td>COAD</td>\n      <td>P04637</td>\n      <td>TP53</td>\n      <td>TP53BP2, PPP1R13B (41)</td>\n      <td>97</td>\n      <td>49</td>\n      <td>49</td>\n      <td>1.00</td>\n      <td>19</td>\n      <td>+</td>\n    </tr>\n    <tr>\n      <th>8</th>\n      <td>COAD</td>\n      <td>P19784</td>\n      <td>CSNK2A2</td>\n      <td>PAK1 (4)</td>\n      <td>2</td>\n      <td>9</td>\n      <td>9</td>\n      <td>1.00</td>\n      <td>10</td>\n      <td>-</td>\n    </tr>\n    <tr>\n      <th>9</th>\n      <td>COAD</td>\n      <td>Q15365</td>\n      <td>PCBP1</td>\n      <td>HNRNPK, PCBP2, PCBP4 (9)</td>\n      <td>4</td>\n      <td>9</td>\n      <td>9</td>\n      <td>1.00</td>\n      <td>5</td>\n      <td>+</td>\n    </tr>\n    <tr>\n      <th>10</th>\n      <td>COAD</td>\n      <td>O00238</td>\n      <td>BMPR1B</td>\n      <td>-</td>\n      <td>2</td>\n      <td>6</td>\n      <td>6</td>\n      <td>1.00</td>\n      <td>16</td>\n      <td>-</td>\n    </tr>\n    <tr>\n      <th>11</th>\n      <td>COAD</td>\n      <td>P16885</td>\n      <td>PLCG2</td>\n      <td>LCP2 (3)</td>\n      <td>4</td>\n      <td>6</td>\n      <td>6</td>\n      <td>1.00</td>\n      <td>14</td>\n      <td>-</td>\n    </tr>\n    <tr>\n      <th>12</th>\n      <td>COAD</td>\n      <td>P84022</td>\n      <td>SMAD3</td>\n      <td>SMAD2, ZFYVE9 (3)</td>\n      <td>5</td>\n      <td>6</td>\n      <td>6</td>\n      <td>1.00</td>\n      <td>5</td>\n      <td>+</td>\n    </tr>\n    <tr>\n      <th>13</th>\n      <td>COAD</td>\n      <td>Q96E17</td>\n      <td>RAB3C</td>\n      <td>RIMS1, RPH3A (6)</td>\n      <td>1</td>\n      <td>6</td>\n      <td>6</td>\n      <td>1.00</td>\n      <td>4</td>\n      <td>-</td>\n    </tr>\n    <tr>\n      <th>14</th>\n      <td>COAD</td>\n      <td>P41743</td>\n      <td>PRKCI</td>\n      <td>MARK2, MARK4 (3)</td>\n      <td>2</td>\n      <td>5</td>\n      <td>5</td>\n      <td>1.00</td>\n      <td>13</td>\n      <td>-</td>\n    </tr>\n    <tr>\n      <th>15</th>\n      <td>COAD</td>\n      <td>P53350</td>\n      <td>PLK1</td>\n      <td>NUAK1, PAK1 (4)</td>\n      <td>5</td>\n      <td>5</td>\n      <td>5</td>\n      <td>1.00</td>\n      <td>10</td>\n      <td>-</td>\n    </tr>\n    <tr>\n      <th>16</th>\n      <td>COAD</td>\n      <td>P55072</td>\n      <td>VCP</td>\n      <td>-</td>\n      <td>3</td>\n      <td>5</td>\n      <td>5</td>\n      <td>1.00</td>\n      <td>11</td>\n      <td>-</td>\n    </tr>\n    <tr>\n      <th>17</th>\n      <td>COAD</td>\n      <td>P61586</td>\n      <td>RHOA</td>\n      <td>DOCK7, ARHGDIA, MCF2L (4)</td>\n      <td>0</td>\n      <td>5</td>\n      <td>5</td>\n      <td>1.00</td>\n      <td>41</td>\n      <td>+</td>\n    </tr>\n    <tr>\n      <th>18</th>\n      <td>COAD</td>\n      <td>Q13310</td>\n      <td>PABPC4</td>\n      <td>HNRNPA1 (4)</td>\n      <td>2</td>\n      <td>5</td>\n      <td>5</td>\n      <td>1.00</td>\n      <td>5</td>\n      <td>-</td>\n    </tr>\n    <tr>\n      <th>19</th>\n      <td>COAD</td>\n      <td>Q9UKV0</td>\n      <td>HDAC9</td>\n      <td>HDAC3 (4)</td>\n      <td>7</td>\n      <td>5</td>\n      <td>5</td>\n      <td>1.00</td>\n      <td>3</td>\n      <td>-</td>\n    </tr>\n    <tr>\n      <th>20</th>\n      <td>COAD</td>\n      <td>P15056</td>\n      <td>BRAF</td>\n      <td>LIMK1, PAK2 (50)</td>\n      <td>3</td>\n      <td>52</td>\n      <td>51</td>\n      <td>0.98</td>\n      <td>3</td>\n      <td>+</td>\n    </tr>\n    <tr>\n      <th>21</th>\n      <td>COAD</td>\n      <td>Q969H0</td>\n      <td>FBXW7</td>\n      <td>MTOR (22)</td>\n      <td>13</td>\n      <td>25</td>\n      <td>24</td>\n      <td>0.96</td>\n      <td>4</td>\n      <td>+</td>\n    </tr>\n    <tr>\n      <th>22</th>\n      <td>COAD</td>\n      <td>P62805</td>\n      <td>H4C1</td>\n      <td>H3C1 (9)</td>\n      <td>5</td>\n      <td>16</td>\n      <td>15</td>\n      <td>0.94</td>\n      <td>18</td>\n      <td>-</td>\n    </tr>\n    <tr>\n      <th>23</th>\n      <td>COAD</td>\n      <td>Q13485</td>\n      <td>SMAD4</td>\n      <td>SMAD2, DKFZp781O1323, SMAD2 (16)</td>\n      <td>14</td>\n      <td>21</td>\n      <td>19</td>\n      <td>0.90</td>\n      <td>5</td>\n      <td>+</td>\n    </tr>\n    <tr>\n      <th>24</th>\n      <td>COAD</td>\n      <td>P37173</td>\n      <td>TGFBR2</td>\n      <td>RPS6KB1 (4)</td>\n      <td>3</td>\n      <td>7</td>\n      <td>6</td>\n      <td>0.86</td>\n      <td>7</td>\n      <td>+</td>\n    </tr>\n    <tr>\n      <th>25</th>\n      <td>COAD</td>\n      <td>Q13748</td>\n      <td>NaN</td>\n      <td>-</td>\n      <td>14</td>\n      <td>7</td>\n      <td>6</td>\n      <td>0.86</td>\n      <td>6</td>\n      <td>-</td>\n    </tr>\n    <tr>\n      <th>26</th>\n      <td>COAD</td>\n      <td>Q15796</td>\n      <td>SMAD2</td>\n      <td>SMAD7 (4)</td>\n      <td>3</td>\n      <td>7</td>\n      <td>6</td>\n      <td>0.86</td>\n      <td>8</td>\n      <td>+</td>\n    </tr>\n    <tr>\n      <th>27</th>\n      <td>COAD</td>\n      <td>P45985</td>\n      <td>MAP2K4</td>\n      <td>MAPK9 (3)</td>\n      <td>11</td>\n      <td>6</td>\n      <td>5</td>\n      <td>0.83</td>\n      <td>18</td>\n      <td>+</td>\n    </tr>\n    <tr>\n      <th>28</th>\n      <td>COAD</td>\n      <td>Q9Y463</td>\n      <td>DYRK1B</td>\n      <td>-</td>\n      <td>0</td>\n      <td>6</td>\n      <td>5</td>\n      <td>0.83</td>\n      <td>6</td>\n      <td>-</td>\n    </tr>\n    <tr>\n      <th>29</th>\n      <td>COAD</td>\n      <td>Q9Y6R4</td>\n      <td>MAP3K4</td>\n      <td>-</td>\n      <td>0</td>\n      <td>6</td>\n      <td>5</td>\n      <td>0.83</td>\n      <td>14</td>\n      <td>-</td>\n    </tr>\n    <tr>\n      <th>30</th>\n      <td>COAD</td>\n      <td>P05107</td>\n      <td>ITGB2</td>\n      <td>-</td>\n      <td>5</td>\n      <td>5</td>\n      <td>4</td>\n      <td>0.80</td>\n      <td>7</td>\n      <td>-</td>\n    </tr>\n    <tr>\n      <th>31</th>\n      <td>COAD</td>\n      <td>P09619</td>\n      <td>PDGFRB</td>\n      <td>-</td>\n      <td>2</td>\n      <td>5</td>\n      <td>4</td>\n      <td>0.80</td>\n      <td>16</td>\n      <td>+</td>\n    </tr>\n    <tr>\n      <th>32</th>\n      <td>COAD</td>\n      <td>P49902</td>\n      <td>NT5C2</td>\n      <td>N/A (4)</td>\n      <td>1</td>\n      <td>5</td>\n      <td>4</td>\n      <td>0.80</td>\n      <td>1</td>\n      <td>+</td>\n    </tr>\n    <tr>\n      <th>33</th>\n      <td>COAD</td>\n      <td>P61244</td>\n      <td>MAX</td>\n      <td>MXD1 (4)</td>\n      <td>2</td>\n      <td>5</td>\n      <td>4</td>\n      <td>0.80</td>\n      <td>12</td>\n      <td>+</td>\n    </tr>\n    <tr>\n      <th>34</th>\n      <td>COAD</td>\n      <td>Q16478</td>\n      <td>GRIK5</td>\n      <td>GRID2 (3)</td>\n      <td>13</td>\n      <td>5</td>\n      <td>4</td>\n      <td>0.80</td>\n      <td>4</td>\n      <td>-</td>\n    </tr>\n    <tr>\n      <th>35</th>\n      <td>COAD</td>\n      <td>Q16659</td>\n      <td>MAPK6</td>\n      <td>AURKA (3)</td>\n      <td>2</td>\n      <td>5</td>\n      <td>4</td>\n      <td>0.80</td>\n      <td>4</td>\n      <td>-</td>\n    </tr>\n    <tr>\n      <th>36</th>\n      <td>COAD</td>\n      <td>Q92747</td>\n      <td>ARPC1A</td>\n      <td>-</td>\n      <td>3</td>\n      <td>5</td>\n      <td>4</td>\n      <td>0.80</td>\n      <td>6</td>\n      <td>-</td>\n    </tr>\n    <tr>\n      <th>37</th>\n      <td>COAD</td>\n      <td>Q9NRM7</td>\n      <td>LATS2</td>\n      <td>-</td>\n      <td>1</td>\n      <td>5</td>\n      <td>4</td>\n      <td>0.80</td>\n      <td>8</td>\n      <td>+</td>\n    </tr>\n    <tr>\n      <th>38</th>\n      <td>ESCA</td>\n      <td>P04637</td>\n      <td>TP53</td>\n      <td>TP53BP2, PPP1R13B (29)</td>\n      <td>56</td>\n      <td>35</td>\n      <td>34</td>\n      <td>0.97</td>\n      <td>17</td>\n      <td>+</td>\n    </tr>\n    <tr>\n      <th>39</th>\n      <td>ESCA</td>\n      <td>P62805</td>\n      <td>H4C1</td>\n      <td>H3C1, DAXX, nan (3)</td>\n      <td>2</td>\n      <td>7</td>\n      <td>6</td>\n      <td>0.86</td>\n      <td>11</td>\n      <td>-</td>\n    </tr>\n    <tr>\n      <th>40</th>\n      <td>GBM</td>\n      <td>P04637</td>\n      <td>TP53</td>\n      <td>TP53BP2, PPP1R13B (28)</td>\n      <td>52</td>\n      <td>35</td>\n      <td>35</td>\n      <td>1.00</td>\n      <td>19</td>\n      <td>+</td>\n    </tr>\n    <tr>\n      <th>41</th>\n      <td>GBM</td>\n      <td>P15056</td>\n      <td>BRAF</td>\n      <td>LIMK1, PAK2 (4)</td>\n      <td>1</td>\n      <td>5</td>\n      <td>4</td>\n      <td>0.80</td>\n      <td>5</td>\n      <td>+</td>\n    </tr>\n    <tr>\n      <th>42</th>\n      <td>GBM</td>\n      <td>Q05655</td>\n      <td>PRKCD</td>\n      <td>-</td>\n      <td>2</td>\n      <td>5</td>\n      <td>4</td>\n      <td>0.80</td>\n      <td>10</td>\n      <td>-</td>\n    </tr>\n    <tr>\n      <th>43</th>\n      <td>HNSC</td>\n      <td>P01112</td>\n      <td>HRAS</td>\n      <td>SOS1, SOS2 (25)</td>\n      <td>1</td>\n      <td>26</td>\n      <td>26</td>\n      <td>1.00</td>\n      <td>26</td>\n      <td>+</td>\n    </tr>\n    <tr>\n      <th>44</th>\n      <td>HNSC</td>\n      <td>P63000</td>\n      <td>RAC1</td>\n      <td>ARHGAP44 (8)</td>\n      <td>0</td>\n      <td>11</td>\n      <td>11</td>\n      <td>1.00</td>\n      <td>8</td>\n      <td>+</td>\n    </tr>\n    <tr>\n      <th>45</th>\n      <td>HNSC</td>\n      <td>P15056</td>\n      <td>BRAF</td>\n      <td>PAK2 (3)</td>\n      <td>0</td>\n      <td>6</td>\n      <td>6</td>\n      <td>1.00</td>\n      <td>6</td>\n      <td>+</td>\n    </tr>\n    <tr>\n      <th>46</th>\n      <td>HNSC</td>\n      <td>P49336</td>\n      <td>CDK8</td>\n      <td>EHMT2 (5)</td>\n      <td>2</td>\n      <td>6</td>\n      <td>6</td>\n      <td>1.00</td>\n      <td>3</td>\n      <td>-</td>\n    </tr>\n    <tr>\n      <th>47</th>\n      <td>HNSC</td>\n      <td>Q14790</td>\n      <td>CASP8</td>\n      <td>CASP7, nan (3)</td>\n      <td>13</td>\n      <td>5</td>\n      <td>5</td>\n      <td>1.00</td>\n      <td>5</td>\n      <td>+</td>\n    </tr>\n    <tr>\n      <th>48</th>\n      <td>HNSC</td>\n      <td>P04637</td>\n      <td>TP53</td>\n      <td>PPP1R13B (46)</td>\n      <td>134</td>\n      <td>59</td>\n      <td>58</td>\n      <td>0.98</td>\n      <td>16</td>\n      <td>+</td>\n    </tr>\n    <tr>\n      <th>49</th>\n      <td>HNSC</td>\n      <td>Q969H0</td>\n      <td>FBXW7</td>\n      <td>MTOR (11)</td>\n      <td>2</td>\n      <td>18</td>\n      <td>17</td>\n      <td>0.94</td>\n      <td>3</td>\n      <td>+</td>\n    </tr>\n    <tr>\n      <th>50</th>\n      <td>HNSC</td>\n      <td>P42336</td>\n      <td>PIK3CA</td>\n      <td>PIK3R1, PIK3R2, ZAP70 (13)</td>\n      <td>13</td>\n      <td>14</td>\n      <td>13</td>\n      <td>0.93</td>\n      <td>5</td>\n      <td>+</td>\n    </tr>\n    <tr>\n      <th>51</th>\n      <td>HNSC</td>\n      <td>P42771</td>\n      <td>CDKN2A</td>\n      <td>CDK4 (15)</td>\n      <td>1</td>\n      <td>19</td>\n      <td>17</td>\n      <td>0.89</td>\n      <td>23</td>\n      <td>+</td>\n    </tr>\n    <tr>\n      <th>52</th>\n      <td>HNSC</td>\n      <td>P22607</td>\n      <td>FGFR3</td>\n      <td>FGF2, FGF6, FGF1, FGF12, FGF8 (4)</td>\n      <td>0</td>\n      <td>6</td>\n      <td>5</td>\n      <td>0.83</td>\n      <td>20</td>\n      <td>+</td>\n    </tr>\n    <tr>\n      <th>53</th>\n      <td>HNSC</td>\n      <td>P07288</td>\n      <td>KLK3</td>\n      <td>SERPINA1 (4)</td>\n      <td>1</td>\n      <td>5</td>\n      <td>4</td>\n      <td>0.80</td>\n      <td>5</td>\n      <td>-</td>\n    </tr>\n    <tr>\n      <th>54</th>\n      <td>HNSC</td>\n      <td>P28827</td>\n      <td>PTPRM</td>\n      <td>PTPRK (3)</td>\n      <td>9</td>\n      <td>5</td>\n      <td>4</td>\n      <td>0.80</td>\n      <td>3</td>\n      <td>-</td>\n    </tr>\n    <tr>\n      <th>55</th>\n      <td>HNSC</td>\n      <td>P37173</td>\n      <td>TGFBR2</td>\n      <td>-</td>\n      <td>7</td>\n      <td>5</td>\n      <td>4</td>\n      <td>0.80</td>\n      <td>5</td>\n      <td>+</td>\n    </tr>\n    <tr>\n      <th>56</th>\n      <td>HNSC</td>\n      <td>P68431</td>\n      <td>H3C1</td>\n      <td>H4C1 (3)</td>\n      <td>0</td>\n      <td>5</td>\n      <td>4</td>\n      <td>0.80</td>\n      <td>11</td>\n      <td>-</td>\n    </tr>\n    <tr>\n      <th>57</th>\n      <td>HNSC</td>\n      <td>Q16478</td>\n      <td>GRIK5</td>\n      <td>GRID2 (3)</td>\n      <td>3</td>\n      <td>5</td>\n      <td>4</td>\n      <td>0.80</td>\n      <td>4</td>\n      <td>-</td>\n    </tr>\n    <tr>\n      <th>58</th>\n      <td>OV</td>\n      <td>P04637</td>\n      <td>TP53</td>\n      <td>TP53BP2, PPP1R13B (60)</td>\n      <td>147</td>\n      <td>80</td>\n      <td>80</td>\n      <td>1.00</td>\n      <td>19</td>\n      <td>+</td>\n    </tr>\n    <tr>\n      <th>59</th>\n      <td>OV</td>\n      <td>O95835</td>\n      <td>LATS1</td>\n      <td>-</td>\n      <td>1</td>\n      <td>5</td>\n      <td>4</td>\n      <td>0.80</td>\n      <td>7</td>\n      <td>+</td>\n    </tr>\n  </tbody>\n</table>\n</div>"
     },
     "execution_count": 16,
     "metadata": {},
     "output_type": "execute_result"
    }
   ],
   "source": [
    "concated_preliminary_filtered_data_updated"
   ],
   "metadata": {
    "collapsed": false,
    "pycharm": {
     "name": "#%%\n"
    }
   }
  },
  {
   "cell_type": "code",
   "execution_count": null,
   "outputs": [],
   "source": [],
   "metadata": {
    "collapsed": false,
    "pycharm": {
     "name": "#%%\n"
    }
   }
  },
  {
   "cell_type": "code",
   "execution_count": 17,
   "outputs": [
    {
     "data": {
      "text/plain": "    TCGA PROTEIN   GENE MOST_FREQUENTLY_DISRUPTED_PARTNER  PATIENT_CORE_COUNT  \\\n39  ESCA  P62805   H4C1               H3C1, DAXX, nan (3)                   2   \n47  HNSC  Q14790  CASP8                    CASP7, nan (3)                  13   \n\n    PATIENT_INTERFACE_COUNT  NUM_INTERFACE_PATIENTS_DISRUPTIVE_INTERACTOR  \\\n39                        7                                             6   \n47                        5                                             5   \n\n    RATIO_(prev_two_col)  NUM_UNIQUE_INTERACTORS CGC_STATUS  \n39                  0.86                      11          -  \n47                  1.00                       5          +  ",
      "text/html": "<div>\n<style scoped>\n    .dataframe tbody tr th:only-of-type {\n        vertical-align: middle;\n    }\n\n    .dataframe tbody tr th {\n        vertical-align: top;\n    }\n\n    .dataframe thead th {\n        text-align: right;\n    }\n</style>\n<table border=\"1\" class=\"dataframe\">\n  <thead>\n    <tr style=\"text-align: right;\">\n      <th></th>\n      <th>TCGA</th>\n      <th>PROTEIN</th>\n      <th>GENE</th>\n      <th>MOST_FREQUENTLY_DISRUPTED_PARTNER</th>\n      <th>PATIENT_CORE_COUNT</th>\n      <th>PATIENT_INTERFACE_COUNT</th>\n      <th>NUM_INTERFACE_PATIENTS_DISRUPTIVE_INTERACTOR</th>\n      <th>RATIO_(prev_two_col)</th>\n      <th>NUM_UNIQUE_INTERACTORS</th>\n      <th>CGC_STATUS</th>\n    </tr>\n  </thead>\n  <tbody>\n    <tr>\n      <th>39</th>\n      <td>ESCA</td>\n      <td>P62805</td>\n      <td>H4C1</td>\n      <td>H3C1, DAXX, nan (3)</td>\n      <td>2</td>\n      <td>7</td>\n      <td>6</td>\n      <td>0.86</td>\n      <td>11</td>\n      <td>-</td>\n    </tr>\n    <tr>\n      <th>47</th>\n      <td>HNSC</td>\n      <td>Q14790</td>\n      <td>CASP8</td>\n      <td>CASP7, nan (3)</td>\n      <td>13</td>\n      <td>5</td>\n      <td>5</td>\n      <td>1.00</td>\n      <td>5</td>\n      <td>+</td>\n    </tr>\n  </tbody>\n</table>\n</div>"
     },
     "execution_count": 17,
     "metadata": {},
     "output_type": "execute_result"
    }
   ],
   "source": [
    "# very few `nan`s so I can fix it by hand.\n",
    "concated_preliminary_filtered_data_updated[\n",
    "    concated_preliminary_filtered_data_updated[\"MOST_FREQUENTLY_DISRUPTED_PARTNER\"].str.contains(\"nan\")\n",
    "]"
   ],
   "metadata": {
    "collapsed": false,
    "pycharm": {
     "name": "#%%\n"
    }
   }
  },
  {
   "cell_type": "code",
   "execution_count": null,
   "outputs": [],
   "source": [],
   "metadata": {
    "collapsed": false,
    "pycharm": {
     "name": "#%%\n"
    }
   }
  },
  {
   "cell_type": "markdown",
   "source": [
    "[14:29, 03/03/2022] Hilal Kazan (ABU CS Prof. ): COADS Q13748 için TUBA3C gen id'si"
   ],
   "metadata": {
    "collapsed": false,
    "pycharm": {
     "name": "#%% md\n"
    }
   }
  },
  {
   "cell_type": "code",
   "execution_count": 23,
   "outputs": [],
   "source": [
    "concated_preliminary_filtered_data_updated.to_clipboard(index=False, float_format='%.2f')"
   ],
   "metadata": {
    "collapsed": false,
    "pycharm": {
     "name": "#%%\n"
    }
   }
  },
  {
   "cell_type": "code",
   "execution_count": null,
   "outputs": [],
   "source": [],
   "metadata": {
    "collapsed": false,
    "pycharm": {
     "name": "#%%\n"
    }
   }
  },
  {
   "cell_type": "code",
   "execution_count": null,
   "outputs": [],
   "source": [],
   "metadata": {
    "collapsed": false,
    "pycharm": {
     "name": "#%%\n"
    }
   }
  },
  {
   "cell_type": "code",
   "execution_count": null,
   "outputs": [],
   "source": [],
   "metadata": {
    "collapsed": false,
    "pycharm": {
     "name": "#%%\n"
    }
   }
  },
  {
   "cell_type": "code",
   "execution_count": null,
   "outputs": [],
   "source": [],
   "metadata": {
    "collapsed": false,
    "pycharm": {
     "name": "#%%\n"
    }
   }
  },
  {
   "cell_type": "code",
   "execution_count": null,
   "outputs": [],
   "source": [],
   "metadata": {
    "collapsed": false,
    "pycharm": {
     "name": "#%%\n"
    }
   }
  },
  {
   "cell_type": "code",
   "execution_count": null,
   "outputs": [],
   "source": [],
   "metadata": {
    "collapsed": false,
    "pycharm": {
     "name": "#%%\n"
    }
   }
  },
  {
   "cell_type": "code",
   "execution_count": null,
   "outputs": [],
   "source": [],
   "metadata": {
    "collapsed": false,
    "pycharm": {
     "name": "#%%\n"
    }
   }
  },
  {
   "cell_type": "markdown",
   "source": [
    "- - -"
   ],
   "metadata": {
    "collapsed": false,
    "pycharm": {
     "name": "#%% md\n"
    }
   }
  },
  {
   "cell_type": "code",
   "execution_count": null,
   "outputs": [],
   "source": [],
   "metadata": {
    "collapsed": false,
    "pycharm": {
     "name": "#%%\n"
    }
   }
  },
  {
   "cell_type": "code",
   "execution_count": 7,
   "outputs": [],
   "source": [],
   "metadata": {
    "collapsed": false,
    "pycharm": {
     "name": "#%%\n"
    }
   }
  },
  {
   "cell_type": "code",
   "execution_count": null,
   "outputs": [],
   "source": [],
   "metadata": {
    "collapsed": false,
    "pycharm": {
     "name": "#%%\n"
    }
   }
  }
 ],
 "metadata": {
  "kernelspec": {
   "display_name": "Predicting-Mutation-Effects",
   "language": "python",
   "name": "predicting-mutation-effects"
  },
  "language_info": {
   "codemirror_mode": {
    "name": "ipython",
    "version": 3
   },
   "file_extension": ".py",
   "mimetype": "text/x-python",
   "name": "python",
   "nbconvert_exporter": "python",
   "pygments_lexer": "ipython3",
   "version": "3.8.10"
  }
 },
 "nbformat": 4,
 "nbformat_minor": 5
}