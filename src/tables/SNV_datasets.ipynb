{
 "cells": [
  {
   "cell_type": "markdown",
   "id": "a30fb0e7-7ff7-4547-994b-7756791af47c",
   "metadata": {},
   "source": [
    "# TCGA SNV Datasets"
   ]
  },
  {
   "cell_type": "markdown",
   "id": "daddb1bd-1eb0-450f-a843-e8e3d85eed71",
   "metadata": {},
   "source": [
    "\n",
    "<b><i class=\"fa fa-folder-o\" area-hidden=\"true\" style=\"color:#1976D2\"> </i>&nbsp; File Location</b><br>\n",
    "<p style=\"background:#F5F5F5; text-indent: 1em;\">\n",
    "<code style=\"background:#F5F5F5; color:#404040; font-weight:bold; font-size:12px\">C:\\Users\\ibrah\\Documents\\GitHub\\Predicting-Mutation-Effects\\src\\tables</code>\n",
    "</p>\n",
    "\n",
    "<b><i class=\"far fa-file\" area-hidden=\"true\" style=\"color:#1976D2\"> </i>&nbsp; File Name</b>\n",
    "<p style=\"background:#F5F5F5; text-indent: 1em;\">\n",
    "<code style=\"background:#F5F5F5; color:#404040; font-weight:bold; font-size:12px\">SNV_datasets.ipynb</code>\n",
    "</p>\n",
    "\n",
    "<b><i class=\"far fa-calendar-alt\" area-hidden=\"true\" style=\"color:#1976D2\"> </i>&nbsp; Last Edited</b>\n",
    "<p style=\"background:#F5F5F5; text-indent: 1em;\">\n",
    "<code style=\"background:#F5F5F5; color:#404040; font-weight:bold; font-size:12px\">October 13th, 2021</code>\n",
    "</p>\n"
   ]
  },
  {
   "cell_type": "markdown",
   "id": "814f003c-1282-471b-8d57-6cf50dae7b67",
   "metadata": {},
   "source": [
    "<div class=\"alert alert-block\" style=\"background-color: #F5F5F5; border: 1px solid; padding: 10px; border-color: #E0E0E0\">\n",
    "    <b><i class=\"fa fa-compass\" aria-hidden=\"true\" style=\"color:#404040\"></i></b>&nbsp; <b style=\"color: #404040\">Purpose </b> <br>\n",
    "<div>\n",
    "   \n",
    "- [ ] Provide information regarding TCGA SNV Datasets.\n",
    "    * BRCA\n",
    "    * COAD\n",
    "    * OV\n",
    "    * ESCA\n",
    "    \n",
    "**Dependent files:**\n",
    "\n",
    "* TCGA SNV Cohort files"
   ]
  },
  {
   "cell_type": "code",
   "execution_count": 1,
   "id": "2b6958cb-979a-4ca6-963a-e9a622d52326",
   "metadata": {},
   "outputs": [],
   "source": [
    "# Change to main directory.\n",
    "import os\n",
    "\n",
    "os.chdir('../')"
   ]
  },
  {
   "cell_type": "code",
   "execution_count": 2,
   "id": "24f90f96-10b4-4cee-958e-883071558b4b",
   "metadata": {},
   "outputs": [],
   "source": [
    "# Common imports\n",
    "import pandas as pd\n",
    "import os.path as op\n",
    "from helpers.helpers_analysis.loaders import load_snv_datasets\n",
    "\n",
    "# Paths\n",
    "## SNVs\n",
    "SNV_COMMON_PATH = \"C:/Users/ibrah/Desktop/SNV_data/SNV_datasets/\"\n",
    "SNV_BRCA_PATH = op.join(SNV_COMMON_PATH, \"SNV_BRCA_hg38_2021-09-22.csv\")\n",
    "SNV_COAD_PATH = op.join(SNV_COMMON_PATH, \"SNV_COAD_hg38_2021-09-22.csv\")\n",
    "SNV_OV_PATH = op.join(SNV_COMMON_PATH, \"SNV_OV_hg38_2021-09-22.csv\")\n",
    "SNV_ESCA_PATH = op.join(SNV_COMMON_PATH, \"SNV_ESCA_hg38_2021-09-22.csv\")"
   ]
  },
  {
   "cell_type": "code",
   "execution_count": 24,
   "id": "dccde82d-56ab-4085-a914-b824ec086c88",
   "metadata": {},
   "outputs": [
    {
     "data": {
      "text/plain": [
       "'ACC'"
      ]
     },
     "execution_count": 24,
     "metadata": {},
     "output_type": "execute_result"
    }
   ],
   "source": [
    "import re\n",
    "\n",
    "pattern = re.compile(r\"^SNV_(\\w+)_hg38_2021-09-22.csv$\")\n"
   ]
  },
  {
   "cell_type": "code",
   "execution_count": 28,
   "id": "184a02fa-9b75-4500-bcea-8e135fcebdb7",
   "metadata": {
    "tags": []
   },
   "outputs": [
    {
     "name": "stdout",
     "output_type": "stream",
     "text": [
      "TCGA: ACC\n",
      "2021-10-14 12:14:30 |\u001b[32m INFO     \u001b[0m| helpers.helpers_analysis.loaders | Loading ACC SNV datasets ..\n",
      "2021-10-14 12:14:30 |\u001b[36m DEBUG    \u001b[0m| helpers.helpers_analysis.loaders | ACC SNV data size: (10747, 121)\n",
      "2021-10-14 12:14:30 |\u001b[36m DEBUG    \u001b[0m| helpers.helpers_analysis.loaders | ACC SNV data processed size: (5392, 121)\n",
      "2021-10-14 12:14:30 |\u001b[32m INFO     \u001b[0m| helpers.helpers_analysis.loaders | ACC SNV datasets are loaded.\n",
      "Number of patients: 92\n",
      "- - -\n",
      "TCGA: BLCA\n",
      "2021-10-14 12:14:30 |\u001b[32m INFO     \u001b[0m| helpers.helpers_analysis.loaders | Loading BLCA SNV datasets ..\n",
      "2021-10-14 12:14:35 |\u001b[36m DEBUG    \u001b[0m| helpers.helpers_analysis.loaders | BLCA SNV data size: (134513, 121)\n",
      "2021-10-14 12:14:35 |\u001b[36m DEBUG    \u001b[0m| helpers.helpers_analysis.loaders | BLCA SNV data processed size: (72788, 121)\n",
      "2021-10-14 12:14:35 |\u001b[32m INFO     \u001b[0m| helpers.helpers_analysis.loaders | BLCA SNV datasets are loaded.\n",
      "Number of patients: 412\n",
      "- - -\n",
      "TCGA: BRCA\n",
      "2021-10-14 12:14:35 |\u001b[32m INFO     \u001b[0m| helpers.helpers_analysis.loaders | Loading BRCA SNV datasets ..\n",
      "2021-10-14 12:14:40 |\u001b[36m DEBUG    \u001b[0m| helpers.helpers_analysis.loaders | BRCA SNV data size: (120988, 121)\n",
      "2021-10-14 12:14:40 |\u001b[36m DEBUG    \u001b[0m| helpers.helpers_analysis.loaders | BRCA SNV data processed size: (60251, 121)\n",
      "2021-10-14 12:14:40 |\u001b[32m INFO     \u001b[0m| helpers.helpers_analysis.loaders | BRCA SNV datasets are loaded.\n",
      "Number of patients: 985\n",
      "- - -\n",
      "TCGA: CESC\n",
      "2021-10-14 12:14:41 |\u001b[32m INFO     \u001b[0m| helpers.helpers_analysis.loaders | Loading CESC SNV datasets ..\n",
      "2021-10-14 12:14:44 |\u001b[36m DEBUG    \u001b[0m| helpers.helpers_analysis.loaders | CESC SNV data size: (103405, 121)\n",
      "2021-10-14 12:14:45 |\u001b[36m DEBUG    \u001b[0m| helpers.helpers_analysis.loaders | CESC SNV data processed size: (45293, 121)\n",
      "2021-10-14 12:14:45 |\u001b[32m INFO     \u001b[0m| helpers.helpers_analysis.loaders | CESC SNV datasets are loaded.\n",
      "Number of patients: 289\n",
      "- - -\n",
      "TCGA: CHOL\n",
      "2021-10-14 12:14:45 |\u001b[32m INFO     \u001b[0m| helpers.helpers_analysis.loaders | Loading CHOL SNV datasets ..\n",
      "2021-10-14 12:14:45 |\u001b[36m DEBUG    \u001b[0m| helpers.helpers_analysis.loaders | CHOL SNV data size: (5503, 121)\n",
      "2021-10-14 12:14:45 |\u001b[36m DEBUG    \u001b[0m| helpers.helpers_analysis.loaders | CHOL SNV data processed size: (2098, 121)\n",
      "2021-10-14 12:14:45 |\u001b[32m INFO     \u001b[0m| helpers.helpers_analysis.loaders | CHOL SNV datasets are loaded.\n",
      "Number of patients: 50\n",
      "- - -\n",
      "TCGA: COAD\n",
      "2021-10-14 12:14:45 |\u001b[32m INFO     \u001b[0m| helpers.helpers_analysis.loaders | Loading COAD SNV datasets ..\n",
      "2021-10-14 12:14:55 |\u001b[36m DEBUG    \u001b[0m| helpers.helpers_analysis.loaders | COAD SNV data size: (264786, 121)\n",
      "2021-10-14 12:14:56 |\u001b[36m DEBUG    \u001b[0m| helpers.helpers_analysis.loaders | COAD SNV data processed size: (126470, 121)\n",
      "2021-10-14 12:14:56 |\u001b[32m INFO     \u001b[0m| helpers.helpers_analysis.loaders | COAD SNV datasets are loaded.\n",
      "Number of patients: 399\n",
      "- - -\n",
      "TCGA: DLBC\n",
      "2021-10-14 12:14:56 |\u001b[32m INFO     \u001b[0m| helpers.helpers_analysis.loaders | Loading DLBC SNV datasets ..\n",
      "2021-10-14 12:14:56 |\u001b[36m DEBUG    \u001b[0m| helpers.helpers_analysis.loaders | DLBC SNV data size: (6406, 121)\n",
      "2021-10-14 12:14:57 |\u001b[36m DEBUG    \u001b[0m| helpers.helpers_analysis.loaders | DLBC SNV data processed size: (3192, 121)\n",
      "2021-10-14 12:14:57 |\u001b[32m INFO     \u001b[0m| helpers.helpers_analysis.loaders | DLBC SNV datasets are loaded.\n",
      "Number of patients: 37\n",
      "- - -\n",
      "TCGA: ESCA\n",
      "2021-10-14 12:14:57 |\u001b[32m INFO     \u001b[0m| helpers.helpers_analysis.loaders | Loading ESCA SNV datasets ..\n",
      "2021-10-14 12:14:58 |\u001b[36m DEBUG    \u001b[0m| helpers.helpers_analysis.loaders | ESCA SNV data size: (45313, 121)\n",
      "2021-10-14 12:14:58 |\u001b[36m DEBUG    \u001b[0m| helpers.helpers_analysis.loaders | ESCA SNV data processed size: (19497, 121)\n",
      "2021-10-14 12:14:58 |\u001b[32m INFO     \u001b[0m| helpers.helpers_analysis.loaders | ESCA SNV datasets are loaded.\n",
      "Number of patients: 184\n",
      "- - -\n",
      "TCGA: GBM\n",
      "2021-10-14 12:14:58 |\u001b[32m INFO     \u001b[0m| helpers.helpers_analysis.loaders | Loading GBM SNV datasets ..\n",
      "2021-10-14 12:15:01 |\u001b[36m DEBUG    \u001b[0m| helpers.helpers_analysis.loaders | GBM SNV data size: (82765, 121)\n",
      "2021-10-14 12:15:01 |\u001b[36m DEBUG    \u001b[0m| helpers.helpers_analysis.loaders | GBM SNV data processed size: (46847, 121)\n",
      "2021-10-14 12:15:02 |\u001b[32m INFO     \u001b[0m| helpers.helpers_analysis.loaders | GBM SNV datasets are loaded.\n",
      "Number of patients: 392\n",
      "- - -\n",
      "TCGA: HNSC\n",
      "2021-10-14 12:15:02 |\u001b[32m INFO     \u001b[0m| helpers.helpers_analysis.loaders | Loading HNSC SNV datasets ..\n",
      "2021-10-14 12:15:05 |\u001b[36m DEBUG    \u001b[0m| helpers.helpers_analysis.loaders | HNSC SNV data size: (102309, 121)\n",
      "2021-10-14 12:15:06 |\u001b[36m DEBUG    \u001b[0m| helpers.helpers_analysis.loaders | HNSC SNV data processed size: (54883, 121)\n",
      "2021-10-14 12:15:06 |\u001b[32m INFO     \u001b[0m| helpers.helpers_analysis.loaders | HNSC SNV datasets are loaded.\n",
      "Number of patients: 507\n",
      "- - -\n",
      "TCGA: KICH\n",
      "2021-10-14 12:15:06 |\u001b[32m INFO     \u001b[0m| helpers.helpers_analysis.loaders | Loading KICH SNV datasets ..\n",
      "2021-10-14 12:15:06 |\u001b[36m DEBUG    \u001b[0m| helpers.helpers_analysis.loaders | KICH SNV data size: (2896, 121)\n",
      "2021-10-14 12:15:06 |\u001b[36m DEBUG    \u001b[0m| helpers.helpers_analysis.loaders | KICH SNV data processed size: (1495, 121)\n",
      "2021-10-14 12:15:06 |\u001b[32m INFO     \u001b[0m| helpers.helpers_analysis.loaders | KICH SNV datasets are loaded.\n",
      "Number of patients: 66\n",
      "- - -\n",
      "TCGA: KIRC\n",
      "2021-10-14 12:15:06 |\u001b[32m INFO     \u001b[0m| helpers.helpers_analysis.loaders | Loading KIRC SNV datasets ..\n",
      "2021-10-14 12:15:07 |\u001b[36m DEBUG    \u001b[0m| helpers.helpers_analysis.loaders | KIRC SNV data size: (26693, 121)\n",
      "2021-10-14 12:15:07 |\u001b[36m DEBUG    \u001b[0m| helpers.helpers_analysis.loaders | KIRC SNV data processed size: (12578, 121)\n",
      "2021-10-14 12:15:07 |\u001b[32m INFO     \u001b[0m| helpers.helpers_analysis.loaders | KIRC SNV datasets are loaded.\n",
      "Number of patients: 336\n",
      "- - -\n",
      "TCGA: KIRP\n",
      "2021-10-14 12:15:07 |\u001b[32m INFO     \u001b[0m| helpers.helpers_analysis.loaders | Loading KIRP SNV datasets ..\n",
      "2021-10-14 12:15:08 |\u001b[36m DEBUG    \u001b[0m| helpers.helpers_analysis.loaders | KIRP SNV data size: (23765, 121)\n",
      "2021-10-14 12:15:08 |\u001b[36m DEBUG    \u001b[0m| helpers.helpers_analysis.loaders | KIRP SNV data processed size: (11353, 121)\n",
      "2021-10-14 12:15:08 |\u001b[32m INFO     \u001b[0m| helpers.helpers_analysis.loaders | KIRP SNV datasets are loaded.\n",
      "Number of patients: 281\n",
      "- - -\n",
      "TCGA: LAML\n",
      "2021-10-14 12:15:08 |\u001b[32m INFO     \u001b[0m| helpers.helpers_analysis.loaders | Loading LAML SNV datasets ..\n",
      "2021-10-14 12:15:08 |\u001b[36m DEBUG    \u001b[0m| helpers.helpers_analysis.loaders | LAML SNV data size: (9905, 121)\n",
      "2021-10-14 12:15:08 |\u001b[36m DEBUG    \u001b[0m| helpers.helpers_analysis.loaders | LAML SNV data processed size: (5272, 121)\n",
      "2021-10-14 12:15:08 |\u001b[32m INFO     \u001b[0m| helpers.helpers_analysis.loaders | LAML SNV datasets are loaded.\n",
      "Number of patients: 139\n",
      "- - -\n",
      "TCGA: LGG\n",
      "2021-10-14 12:15:08 |\u001b[32m INFO     \u001b[0m| helpers.helpers_analysis.loaders | Loading LGG SNV datasets ..\n",
      "2021-10-14 12:15:10 |\u001b[36m DEBUG    \u001b[0m| helpers.helpers_analysis.loaders | LGG SNV data size: (35556, 121)\n",
      "2021-10-14 12:15:10 |\u001b[36m DEBUG    \u001b[0m| helpers.helpers_analysis.loaders | LGG SNV data processed size: (19625, 121)\n",
      "2021-10-14 12:15:10 |\u001b[32m INFO     \u001b[0m| helpers.helpers_analysis.loaders | LGG SNV datasets are loaded.\n",
      "Number of patients: 506\n",
      "- - -\n",
      "TCGA: LIHC\n",
      "2021-10-14 12:15:10 |\u001b[32m INFO     \u001b[0m| helpers.helpers_analysis.loaders | Loading LIHC SNV datasets ..\n",
      "2021-10-14 12:15:12 |\u001b[36m DEBUG    \u001b[0m| helpers.helpers_analysis.loaders | LIHC SNV data size: (54238, 121)\n",
      "2021-10-14 12:15:12 |\u001b[36m DEBUG    \u001b[0m| helpers.helpers_analysis.loaders | LIHC SNV data processed size: (27267, 121)\n",
      "2021-10-14 12:15:12 |\u001b[32m INFO     \u001b[0m| helpers.helpers_analysis.loaders | LIHC SNV datasets are loaded.\n",
      "Number of patients: 363\n",
      "- - -\n",
      "TCGA: LUAD\n",
      "2021-10-14 12:15:12 |\u001b[32m INFO     \u001b[0m| helpers.helpers_analysis.loaders | Loading LUAD SNV datasets ..\n",
      "2021-10-14 12:15:20 |\u001b[36m DEBUG    \u001b[0m| helpers.helpers_analysis.loaders | LUAD SNV data size: (208180, 121)\n",
      "2021-10-14 12:15:20 |\u001b[36m DEBUG    \u001b[0m| helpers.helpers_analysis.loaders | LUAD SNV data processed size: (116631, 121)\n",
      "2021-10-14 12:15:20 |\u001b[32m INFO     \u001b[0m| helpers.helpers_analysis.loaders | LUAD SNV datasets are loaded.\n",
      "Number of patients: 565\n",
      "- - -\n",
      "TCGA: LUSC\n",
      "2021-10-14 12:15:20 |\u001b[32m INFO     \u001b[0m| helpers.helpers_analysis.loaders | Loading LUSC SNV datasets ..\n",
      "2021-10-14 12:15:27 |\u001b[36m DEBUG    \u001b[0m| helpers.helpers_analysis.loaders | LUSC SNV data size: (181116, 121)\n",
      "2021-10-14 12:15:27 |\u001b[36m DEBUG    \u001b[0m| helpers.helpers_analysis.loaders | LUSC SNV data processed size: (99928, 121)\n",
      "2021-10-14 12:15:27 |\u001b[32m INFO     \u001b[0m| helpers.helpers_analysis.loaders | LUSC SNV datasets are loaded.\n",
      "Number of patients: 491\n",
      "- - -\n",
      "TCGA: MESO\n",
      "2021-10-14 12:15:27 |\u001b[32m INFO     \u001b[0m| helpers.helpers_analysis.loaders | Loading MESO SNV datasets ..\n",
      "2021-10-14 12:15:28 |\u001b[36m DEBUG    \u001b[0m| helpers.helpers_analysis.loaders | MESO SNV data size: (3827, 121)\n",
      "2021-10-14 12:15:28 |\u001b[36m DEBUG    \u001b[0m| helpers.helpers_analysis.loaders | MESO SNV data processed size: (1845, 121)\n",
      "2021-10-14 12:15:28 |\u001b[32m INFO     \u001b[0m| helpers.helpers_analysis.loaders | MESO SNV datasets are loaded.\n",
      "Number of patients: 81\n",
      "- - -\n",
      "TCGA: OV\n",
      "2021-10-14 12:15:28 |\u001b[32m INFO     \u001b[0m| helpers.helpers_analysis.loaders | Loading OV SNV datasets ..\n",
      "2021-10-14 12:15:30 |\u001b[36m DEBUG    \u001b[0m| helpers.helpers_analysis.loaders | OV SNV data size: (75168, 121)\n",
      "2021-10-14 12:15:31 |\u001b[36m DEBUG    \u001b[0m| helpers.helpers_analysis.loaders | OV SNV data processed size: (38486, 121)\n",
      "2021-10-14 12:15:31 |\u001b[32m INFO     \u001b[0m| helpers.helpers_analysis.loaders | OV SNV datasets are loaded.\n",
      "Number of patients: 436\n",
      "- - -\n",
      "TCGA: PAAD\n",
      "2021-10-14 12:15:31 |\u001b[32m INFO     \u001b[0m| helpers.helpers_analysis.loaders | Loading PAAD SNV datasets ..\n",
      "2021-10-14 12:15:32 |\u001b[36m DEBUG    \u001b[0m| helpers.helpers_analysis.loaders | PAAD SNV data size: (29959, 121)\n",
      "2021-10-14 12:15:32 |\u001b[36m DEBUG    \u001b[0m| helpers.helpers_analysis.loaders | PAAD SNV data processed size: (16886, 121)\n",
      "2021-10-14 12:15:32 |\u001b[32m INFO     \u001b[0m| helpers.helpers_analysis.loaders | PAAD SNV datasets are loaded.\n",
      "Number of patients: 173\n",
      "- - -\n",
      "TCGA: PCPG\n",
      "2021-10-14 12:15:32 |\u001b[32m INFO     \u001b[0m| helpers.helpers_analysis.loaders | Loading PCPG SNV datasets ..\n",
      "2021-10-14 12:15:32 |\u001b[36m DEBUG    \u001b[0m| helpers.helpers_analysis.loaders | PCPG SNV data size: (2411, 121)\n",
      "2021-10-14 12:15:32 |\u001b[36m DEBUG    \u001b[0m| helpers.helpers_analysis.loaders | PCPG SNV data processed size: (1298, 121)\n",
      "2021-10-14 12:15:32 |\u001b[32m INFO     \u001b[0m| helpers.helpers_analysis.loaders | PCPG SNV datasets are loaded.\n",
      "Number of patients: 178\n",
      "- - -\n",
      "TCGA: PRAD\n",
      "2021-10-14 12:15:32 |\u001b[32m INFO     \u001b[0m| helpers.helpers_analysis.loaders | Loading PRAD SNV datasets ..\n",
      "2021-10-14 12:15:33 |\u001b[36m DEBUG    \u001b[0m| helpers.helpers_analysis.loaders | PRAD SNV data size: (29286, 121)\n",
      "2021-10-14 12:15:33 |\u001b[36m DEBUG    \u001b[0m| helpers.helpers_analysis.loaders | PRAD SNV data processed size: (15884, 121)\n",
      "2021-10-14 12:15:33 |\u001b[32m INFO     \u001b[0m| helpers.helpers_analysis.loaders | PRAD SNV datasets are loaded.\n",
      "Number of patients: 493\n",
      "- - -\n",
      "TCGA: READ\n",
      "2021-10-14 12:15:33 |\u001b[32m INFO     \u001b[0m| helpers.helpers_analysis.loaders | Loading READ SNV datasets ..\n",
      "2021-10-14 12:15:36 |\u001b[36m DEBUG    \u001b[0m| helpers.helpers_analysis.loaders | READ SNV data size: (64804, 121)\n",
      "2021-10-14 12:15:36 |\u001b[36m DEBUG    \u001b[0m| helpers.helpers_analysis.loaders | READ SNV data processed size: (34636, 121)\n",
      "2021-10-14 12:15:36 |\u001b[32m INFO     \u001b[0m| helpers.helpers_analysis.loaders | READ SNV datasets are loaded.\n",
      "Number of patients: 137\n",
      "- - -\n",
      "TCGA: SARC\n",
      "2021-10-14 12:15:36 |\u001b[32m INFO     \u001b[0m| helpers.helpers_analysis.loaders | Loading SARC SNV datasets ..\n",
      "2021-10-14 12:15:37 |\u001b[36m DEBUG    \u001b[0m| helpers.helpers_analysis.loaders | SARC SNV data size: (28159, 121)\n",
      "2021-10-14 12:15:37 |\u001b[36m DEBUG    \u001b[0m| helpers.helpers_analysis.loaders | SARC SNV data processed size: (12205, 121)\n",
      "2021-10-14 12:15:37 |\u001b[32m INFO     \u001b[0m| helpers.helpers_analysis.loaders | SARC SNV datasets are loaded.\n",
      "Number of patients: 237\n",
      "- - -\n",
      "TCGA: SKCM\n",
      "2021-10-14 12:15:37 |\u001b[32m INFO     \u001b[0m| helpers.helpers_analysis.loaders | Loading SKCM SNV datasets ..\n",
      "2021-10-14 12:15:51 |\u001b[36m DEBUG    \u001b[0m| helpers.helpers_analysis.loaders | SKCM SNV data size: (392571, 121)\n",
      "2021-10-14 12:15:52 |\u001b[36m DEBUG    \u001b[0m| helpers.helpers_analysis.loaders | SKCM SNV data processed size: (198598, 121)\n",
      "2021-10-14 12:15:52 |\u001b[32m INFO     \u001b[0m| helpers.helpers_analysis.loaders | SKCM SNV datasets are loaded.\n",
      "Number of patients: 467\n",
      "- - -\n",
      "TCGA: STAD\n",
      "2021-10-14 12:15:52 |\u001b[32m INFO     \u001b[0m| helpers.helpers_analysis.loaders | Loading STAD SNV datasets ..\n",
      "2021-10-14 12:16:01 |\u001b[36m DEBUG    \u001b[0m| helpers.helpers_analysis.loaders | STAD SNV data size: (213144, 121)\n",
      "2021-10-14 12:16:01 |\u001b[36m DEBUG    \u001b[0m| helpers.helpers_analysis.loaders | STAD SNV data processed size: (106093, 121)\n",
      "2021-10-14 12:16:01 |\u001b[32m INFO     \u001b[0m| helpers.helpers_analysis.loaders | STAD SNV datasets are loaded.\n",
      "Number of patients: 437\n",
      "- - -\n",
      "TCGA: TGCT\n",
      "2021-10-14 12:16:01 |\u001b[32m INFO     \u001b[0m| helpers.helpers_analysis.loaders | Loading TGCT SNV datasets ..\n",
      "2021-10-14 12:16:02 |\u001b[36m DEBUG    \u001b[0m| helpers.helpers_analysis.loaders | TGCT SNV data size: (3198, 121)\n",
      "2021-10-14 12:16:02 |\u001b[36m DEBUG    \u001b[0m| helpers.helpers_analysis.loaders | TGCT SNV data processed size: (1606, 121)\n",
      "2021-10-14 12:16:02 |\u001b[32m INFO     \u001b[0m| helpers.helpers_analysis.loaders | TGCT SNV datasets are loaded.\n",
      "Number of patients: 143\n",
      "- - -\n",
      "TCGA: THCA\n",
      "2021-10-14 12:16:02 |\u001b[32m INFO     \u001b[0m| helpers.helpers_analysis.loaders | Loading THCA SNV datasets ..\n",
      "2021-10-14 12:16:02 |\u001b[36m DEBUG    \u001b[0m| helpers.helpers_analysis.loaders | THCA SNV data size: (10899, 121)\n",
      "2021-10-14 12:16:02 |\u001b[36m DEBUG    \u001b[0m| helpers.helpers_analysis.loaders | THCA SNV data processed size: (4302, 121)\n",
      "2021-10-14 12:16:02 |\u001b[32m INFO     \u001b[0m| helpers.helpers_analysis.loaders | THCA SNV datasets are loaded.\n",
      "Number of patients: 489\n",
      "- - -\n",
      "TCGA: THYM\n",
      "2021-10-14 12:16:02 |\u001b[32m INFO     \u001b[0m| helpers.helpers_analysis.loaders | Loading THYM SNV datasets ..\n",
      "2021-10-14 12:16:02 |\u001b[36m DEBUG    \u001b[0m| helpers.helpers_analysis.loaders | THYM SNV data size: (4737, 121)\n",
      "2021-10-14 12:16:02 |\u001b[36m DEBUG    \u001b[0m| helpers.helpers_analysis.loaders | THYM SNV data processed size: (1857, 121)\n",
      "2021-10-14 12:16:02 |\u001b[32m INFO     \u001b[0m| helpers.helpers_analysis.loaders | THYM SNV datasets are loaded.\n",
      "Number of patients: 122\n",
      "- - -\n",
      "TCGA: UCEC\n",
      "2021-10-14 12:16:02 |\u001b[32m INFO     \u001b[0m| helpers.helpers_analysis.loaders | Loading UCEC SNV datasets ..\n",
      "2021-10-14 12:16:36 |\u001b[36m DEBUG    \u001b[0m| helpers.helpers_analysis.loaders | UCEC SNV data size: (886377, 121)\n",
      "2021-10-14 12:16:39 |\u001b[36m DEBUG    \u001b[0m| helpers.helpers_analysis.loaders | UCEC SNV data processed size: (401955, 121)\n",
      "2021-10-14 12:16:39 |\u001b[32m INFO     \u001b[0m| helpers.helpers_analysis.loaders | UCEC SNV datasets are loaded.\n",
      "Number of patients: 530\n",
      "- - -\n",
      "TCGA: UCS\n",
      "2021-10-14 12:16:40 |\u001b[32m INFO     \u001b[0m| helpers.helpers_analysis.loaders | Loading UCS SNV datasets ..\n",
      "2021-10-14 12:16:40 |\u001b[36m DEBUG    \u001b[0m| helpers.helpers_analysis.loaders | UCS SNV data size: (10449, 121)\n",
      "2021-10-14 12:16:40 |\u001b[36m DEBUG    \u001b[0m| helpers.helpers_analysis.loaders | UCS SNV data processed size: (5825, 121)\n",
      "2021-10-14 12:16:40 |\u001b[32m INFO     \u001b[0m| helpers.helpers_analysis.loaders | UCS SNV datasets are loaded.\n",
      "Number of patients: 57\n",
      "- - -\n",
      "TCGA: UVM\n",
      "2021-10-14 12:16:40 |\u001b[32m INFO     \u001b[0m| helpers.helpers_analysis.loaders | Loading UVM SNV datasets ..\n",
      "2021-10-14 12:16:40 |\u001b[36m DEBUG    \u001b[0m| helpers.helpers_analysis.loaders | UVM SNV data size: (1856, 121)\n",
      "2021-10-14 12:16:41 |\u001b[36m DEBUG    \u001b[0m| helpers.helpers_analysis.loaders | UVM SNV data processed size: (1071, 121)\n",
      "2021-10-14 12:16:41 |\u001b[32m INFO     \u001b[0m| helpers.helpers_analysis.loaders | UVM SNV datasets are loaded.\n",
      "Number of patients: 80\n",
      "- - -\n"
     ]
    }
   ],
   "source": [
    "for snv_file in os.listdir(SNV_COMMON_PATH):\n",
    "    snv_path = op.join(SNV_COMMON_PATH, snv_file)\n",
    "    \n",
    "    info = {}\n",
    "    tcga = pattern.match(snv_file).group(1)\n",
    "    \n",
    "    print(f\"TCGA: {tcga}\")\n",
    "    load_snv_datasets(tcga, snv_path, info)\n",
    "    \n",
    "    print(\"Number of patients: {}\".format(\n",
    "        info[f'{tcga}_snv_data_simplified'][\"Tumor_Sample_Barcode\"].nunique()\n",
    "        )\n",
    "    )\n",
    "    \n",
    "    del info\n",
    "    print('- - -')"
   ]
  },
  {
   "cell_type": "code",
   "execution_count": null,
   "id": "2be2ab13-79c0-4c62-8f57-423e97f20044",
   "metadata": {},
   "outputs": [],
   "source": [
    "# head and neck  | HNSC"
   ]
  },
  {
   "cell_type": "code",
   "execution_count": null,
   "id": "5880a30d-4a2e-4532-b8fd-a9a041508538",
   "metadata": {},
   "outputs": [],
   "source": []
  },
  {
   "cell_type": "code",
   "execution_count": null,
   "id": "03adbd59-9803-4202-bef9-1b45b5f49453",
   "metadata": {},
   "outputs": [],
   "source": []
  },
  {
   "cell_type": "code",
   "execution_count": null,
   "id": "b32812d9-b276-418c-91e8-c82b7f1f6012",
   "metadata": {},
   "outputs": [],
   "source": []
  },
  {
   "cell_type": "code",
   "execution_count": null,
   "id": "fb8d124c-0280-44c7-8770-2b48329ff999",
   "metadata": {},
   "outputs": [],
   "source": []
  },
  {
   "cell_type": "code",
   "execution_count": null,
   "id": "8c6db338-54fc-42d0-8860-4aa7e4126e91",
   "metadata": {},
   "outputs": [],
   "source": []
  },
  {
   "cell_type": "code",
   "execution_count": 8,
   "id": "3321ac67-afce-4212-bf59-b7bc19af8e47",
   "metadata": {},
   "outputs": [
    {
     "name": "stdout",
     "output_type": "stream",
     "text": [
      "2021-10-14 11:59:11 |\u001b[32m INFO     \u001b[0m| helpers.helpers_analysis.loaders | Loading ESCA SNV datasets ..\n",
      "2021-10-14 11:59:14 |\u001b[36m DEBUG    \u001b[0m| helpers.helpers_analysis.loaders | ESCA SNV data size: (45313, 121)\n",
      "2021-10-14 11:59:14 |\u001b[36m DEBUG    \u001b[0m| helpers.helpers_analysis.loaders | ESCA SNV data processed size: (19497, 121)\n",
      "2021-10-14 11:59:14 |\u001b[32m INFO     \u001b[0m| helpers.helpers_analysis.loaders | ESCA SNV datasets are loaded.\n"
     ]
    }
   ],
   "source": [
    "esca_info = {}\n",
    "\n",
    "load_snv_datasets(\"ESCA\", SNV_ESCA_PATH, esca_info)"
   ]
  },
  {
   "cell_type": "code",
   "execution_count": 9,
   "id": "41338150-1293-4112-bd92-be6b602a34c5",
   "metadata": {},
   "outputs": [
    {
     "data": {
      "text/plain": [
       "184"
      ]
     },
     "execution_count": 9,
     "metadata": {},
     "output_type": "execute_result"
    }
   ],
   "source": [
    "esca_info[\"ESCA_snv_data_simplified\"][\"Tumor_Sample_Barcode\"].nunique()"
   ]
  },
  {
   "cell_type": "code",
   "execution_count": null,
   "id": "27a41899-aa42-47d5-9c0f-687bfe7f7f34",
   "metadata": {},
   "outputs": [],
   "source": []
  },
  {
   "cell_type": "code",
   "execution_count": null,
   "id": "b29f9671-6d1e-451d-b958-382c986f3355",
   "metadata": {},
   "outputs": [],
   "source": []
  },
  {
   "cell_type": "code",
   "execution_count": null,
   "id": "87088b3b-f3b0-4dbb-8bdf-28aea59b6019",
   "metadata": {},
   "outputs": [],
   "source": []
  },
  {
   "cell_type": "code",
   "execution_count": null,
   "id": "73fb1990-cd84-4105-b946-d396662f09ae",
   "metadata": {},
   "outputs": [],
   "source": []
  },
  {
   "cell_type": "code",
   "execution_count": 11,
   "id": "c86f0ec5-bd93-4573-a775-ff639f5f555b",
   "metadata": {},
   "outputs": [
    {
     "name": "stdout",
     "output_type": "stream",
     "text": [
      "2021-10-14 12:00:01 |\u001b[32m INFO     \u001b[0m| helpers.helpers_analysis.loaders | Loading OV SNV datasets ..\n",
      "2021-10-14 12:00:04 |\u001b[36m DEBUG    \u001b[0m| helpers.helpers_analysis.loaders | OV SNV data size: (75168, 121)\n",
      "2021-10-14 12:00:05 |\u001b[36m DEBUG    \u001b[0m| helpers.helpers_analysis.loaders | OV SNV data processed size: (38486, 121)\n",
      "2021-10-14 12:00:05 |\u001b[32m INFO     \u001b[0m| helpers.helpers_analysis.loaders | OV SNV datasets are loaded.\n"
     ]
    }
   ],
   "source": [
    "ov_info = {}\n",
    "\n",
    "load_snv_datasets(\"OV\", SNV_OV_PATH, ov_info)"
   ]
  },
  {
   "cell_type": "code",
   "execution_count": 12,
   "id": "f4cc6777-68b3-4c10-8124-234a2cb742b4",
   "metadata": {},
   "outputs": [
    {
     "data": {
      "text/plain": [
       "dict_keys(['OV_snv_data', 'OV_snv_data_processed', 'OV_snv_data_simplified'])"
      ]
     },
     "execution_count": 12,
     "metadata": {},
     "output_type": "execute_result"
    }
   ],
   "source": [
    "ov_info.keys()"
   ]
  },
  {
   "cell_type": "code",
   "execution_count": 13,
   "id": "9eb6404c-602c-4507-b35e-efa66dfc3c3e",
   "metadata": {},
   "outputs": [
    {
     "data": {
      "text/plain": [
       "436"
      ]
     },
     "execution_count": 13,
     "metadata": {},
     "output_type": "execute_result"
    }
   ],
   "source": [
    "ov_info[\"OV_snv_data_simplified\"][\"Tumor_Sample_Barcode\"].nunique()"
   ]
  },
  {
   "cell_type": "code",
   "execution_count": null,
   "id": "e671bc8f-e7b1-4143-9572-eddb25766c37",
   "metadata": {},
   "outputs": [],
   "source": []
  },
  {
   "cell_type": "code",
   "execution_count": null,
   "id": "c995536d-68f5-4418-907a-468cfc1cf81c",
   "metadata": {},
   "outputs": [],
   "source": []
  },
  {
   "cell_type": "code",
   "execution_count": 3,
   "id": "6b22d25b-97fb-4d93-bd56-37cc6557835e",
   "metadata": {},
   "outputs": [
    {
     "name": "stdout",
     "output_type": "stream",
     "text": [
      "2021-10-13 12:50:51 |\u001b[32m INFO     \u001b[0m| helpers.helpers_analysis.loaders | Loading BRCA SNV datasets ..\n",
      "2021-10-13 12:50:59 |\u001b[36m DEBUG    \u001b[0m| helpers.helpers_analysis.loaders | BRCA SNV data size: (120988, 121)\n",
      "2021-10-13 12:51:00 |\u001b[36m DEBUG    \u001b[0m| helpers.helpers_analysis.loaders | BRCA SNV data processed size: (60251, 121)\n",
      "2021-10-13 12:51:00 |\u001b[32m INFO     \u001b[0m| helpers.helpers_analysis.loaders | BRCA SNV datasets are loaded.\n"
     ]
    }
   ],
   "source": [
    "brca_info = {}\n",
    "\n",
    "load_snv_datasets(\"BRCA\", SNV_BRCA_PATH, brca_info)"
   ]
  },
  {
   "cell_type": "code",
   "execution_count": 4,
   "id": "4dc21a00-44cf-4c29-b212-76532de0a684",
   "metadata": {},
   "outputs": [
    {
     "data": {
      "text/plain": [
       "dict_keys(['BRCA_snv_data', 'BRCA_snv_data_processed', 'BRCA_snv_data_simplified'])"
      ]
     },
     "execution_count": 4,
     "metadata": {},
     "output_type": "execute_result"
    }
   ],
   "source": [
    "brca_info.keys()"
   ]
  },
  {
   "cell_type": "code",
   "execution_count": 5,
   "id": "4c459dee-5d63-4878-b18d-84d17334ceb8",
   "metadata": {},
   "outputs": [
    {
     "data": {
      "text/plain": [
       "985"
      ]
     },
     "execution_count": 5,
     "metadata": {},
     "output_type": "execute_result"
    }
   ],
   "source": [
    "brca_info[\"BRCA_snv_data_simplified\"][\"Tumor_Sample_Barcode\"].nunique()"
   ]
  },
  {
   "cell_type": "code",
   "execution_count": 6,
   "id": "016f709e-a964-4019-8aaf-3adf8a7406b9",
   "metadata": {},
   "outputs": [
    {
     "data": {
      "text/plain": [
       "(60251, 121)"
      ]
     },
     "execution_count": 6,
     "metadata": {},
     "output_type": "execute_result"
    }
   ],
   "source": [
    "brca_info[\"BRCA_snv_data_processed\"].shape"
   ]
  },
  {
   "cell_type": "code",
   "execution_count": null,
   "id": "6fdcbdfb-c262-4998-b60a-1cc8ed9bbbdc",
   "metadata": {},
   "outputs": [],
   "source": [
    "brca_info[\"BRCA_snv_data_processed\"].shape"
   ]
  },
  {
   "cell_type": "code",
   "execution_count": null,
   "id": "495a8a1e-58bd-4852-9ee4-938c6d870e0c",
   "metadata": {},
   "outputs": [],
   "source": [
    "# fixed NaNs in process_snv function. \n",
    "# I dont think it will effect the AnalysisNotebooks.\n",
    "# Maybe check again"
   ]
  },
  {
   "cell_type": "code",
   "execution_count": null,
   "id": "ae23f29a-e286-4306-abd7-2d7fac2e1581",
   "metadata": {},
   "outputs": [],
   "source": []
  },
  {
   "cell_type": "code",
   "execution_count": 65,
   "id": "f625977f-76c7-44e5-91de-d8dbba497263",
   "metadata": {},
   "outputs": [
    {
     "data": {
      "text/plain": [
       "10001     NaN\n",
       "22023     NaN\n",
       "23858     NaN\n",
       "24553     NaN\n",
       "31592     NaN\n",
       "33109     NaN\n",
       "39631     NaN\n",
       "39721     NaN\n",
       "40455     NaN\n",
       "42600     NaN\n",
       "47764     NaN\n",
       "50848     NaN\n",
       "52557     NaN\n",
       "53450     NaN\n",
       "58942     NaN\n",
       "62918     NaN\n",
       "63387     NaN\n",
       "70351     NaN\n",
       "72207     NaN\n",
       "73784     NaN\n",
       "76011     NaN\n",
       "84340     NaN\n",
       "94251     NaN\n",
       "104306    NaN\n",
       "108604    NaN\n",
       "108682    NaN\n",
       "115583    NaN\n",
       "Name: HGVSp_Short, dtype: object"
      ]
     },
     "execution_count": 65,
     "metadata": {},
     "output_type": "execute_result"
    }
   ],
   "source": [
    "brca_info[\"BRCA_snv_data\"][\n",
    "    (brca_info[\"BRCA_snv_data\"][\"Variant_Classification\"] == \"Missense_Mutation\") &\n",
    "    (brca_info[\"BRCA_snv_data\"][\"HGVSp_Short\"].isna())\n",
    "][\"HGVSp_Short\"]"
   ]
  },
  {
   "cell_type": "code",
   "execution_count": 57,
   "id": "efd98311-6c9a-42ac-a1b7-31de608f8e9b",
   "metadata": {},
   "outputs": [
    {
     "data": {
      "text/plain": [
       "10001     NaN\n",
       "22023     NaN\n",
       "23858     NaN\n",
       "24553     NaN\n",
       "31592     NaN\n",
       "33109     NaN\n",
       "39631     NaN\n",
       "39721     NaN\n",
       "40455     NaN\n",
       "42600     NaN\n",
       "47764     NaN\n",
       "50848     NaN\n",
       "52557     NaN\n",
       "53450     NaN\n",
       "58942     NaN\n",
       "62918     NaN\n",
       "63387     NaN\n",
       "70351     NaN\n",
       "72207     NaN\n",
       "73784     NaN\n",
       "76011     NaN\n",
       "84340     NaN\n",
       "94251     NaN\n",
       "104306    NaN\n",
       "108604    NaN\n",
       "108682    NaN\n",
       "115583    NaN\n",
       "Name: HGVSp_Short, dtype: object"
      ]
     },
     "execution_count": 57,
     "metadata": {},
     "output_type": "execute_result"
    }
   ],
   "source": [
    "brca_info[\"BRCA_snv_data\"][\n",
    "    (brca_info[\"BRCA_snv_data\"][\"Variant_Classification\"] == \"Missense_Mutation\") &\n",
    "    (brca_info[\"BRCA_snv_data\"][\"HGVSp_Short\"].isna())\n",
    "][\"HGVSp_Short\"]"
   ]
  },
  {
   "cell_type": "code",
   "execution_count": null,
   "id": "84a42293-c618-48e7-b5b6-e919c8473a2c",
   "metadata": {},
   "outputs": [],
   "source": []
  },
  {
   "cell_type": "code",
   "execution_count": null,
   "id": "91037381-ac1c-4f00-9019-ea65ba83e04b",
   "metadata": {},
   "outputs": [],
   "source": []
  },
  {
   "cell_type": "code",
   "execution_count": null,
   "id": "faac2339-9546-49ba-bae9-6e31082fd520",
   "metadata": {},
   "outputs": [],
   "source": []
  }
 ],
 "metadata": {
  "kernelspec": {
   "display_name": "Predicting-Mutation-Effects",
   "language": "python",
   "name": "predicting-mutation-effects"
  },
  "language_info": {
   "codemirror_mode": {
    "name": "ipython",
    "version": 3
   },
   "file_extension": ".py",
   "mimetype": "text/x-python",
   "name": "python",
   "nbconvert_exporter": "python",
   "pygments_lexer": "ipython3",
   "version": "3.8.10"
  }
 },
 "nbformat": 4,
 "nbformat_minor": 5
}
