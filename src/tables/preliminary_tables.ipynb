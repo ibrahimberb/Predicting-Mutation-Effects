{
 "cells": [
  {
   "cell_type": "markdown",
   "id": "1faf96bb-2d37-4d6a-b1ad-459fae4ee667",
   "metadata": {
    "pycharm": {
     "name": "#%% md\n"
    }
   },
   "source": [
    "# Preliminary Data"
   ]
  },
  {
   "cell_type": "markdown",
   "source": [
    "### Setup"
   ],
   "metadata": {
    "collapsed": false
   }
  },
  {
   "cell_type": "code",
   "execution_count": 1,
   "outputs": [
    {
     "name": "stdout",
     "output_type": "stream",
     "text": [
      "\u001B[32mMarch 04, 2022 12:38:27\u001B[0m\n"
     ]
    }
   ],
   "source": [
    "from datetime import datetime\n",
    "\n",
    "print(\"\\033[32m{}\\033[0m\".format(datetime.now().strftime(\"%B %d, %Y %H:%M:%S\")))"
   ],
   "metadata": {
    "collapsed": false,
    "pycharm": {
     "name": "#%%\n"
    }
   }
  },
  {
   "cell_type": "code",
   "execution_count": 1,
   "outputs": [],
   "source": [
    "import pandas as pd\n",
    "from pandas import DataFrame\n",
    "\n",
    "# Preliminary Data Paths\n",
    "BRCA_PRELIMINARY_DATA_PATH = r\"../../data/predictions_datasets/brca_prediction_2021-11-17/558297b6/brca_preliminary_data_cgc_2021-11-17.xlsx\"\n",
    "ESCA_PRELIMINARY_DATA_PATH = r\"../../data/predictions_datasets/esca_prediction_2021-11-17/59544312/esca_preliminary_data_cgc_2021-11-17.xlsx\"\n",
    "GBM_PRELIMINARY_DATA_PATH = r\"../../data/predictions_datasets/gbm_prediction_2021-11-17/b9cfc7ea/gbm_preliminary_data_cgc_2021-11-17.xlsx\"\n",
    "HNSC_PRELIMINARY_DATA_PATH = r\"../../data/predictions_datasets/hnsc_prediction_2021-11-17/53930f30/hnsc_preliminary_data_cgc_2021-11-17.xlsx\"\n",
    "OV_PRELIMINARY_DATA_PATH = r\"../../data/predictions_datasets/ov_prediction_2021-11-17/37bf1637/ov_preliminary_data_cgc_2021-11-17.xlsx\"\n",
    "COAD_PRELIMINARY_DATA_PATH = r\"../../data/predictions_datasets/coad_prediction_2022-01-06/9789393f/coad_preliminary_data_cgc_2022-02-16.xlsx\"\n",
    "\n",
    "# Reflect changes in the modules immediately.\n",
    "%load_ext autoreload\n",
    "%autoreload 2"
   ],
   "metadata": {
    "collapsed": false,
    "pycharm": {
     "name": "#%%\n"
    }
   }
  },
  {
   "cell_type": "markdown",
   "source": [
    "### Filtering Condition"
   ],
   "metadata": {
    "collapsed": false,
    "pycharm": {
     "name": "#%% md\n"
    }
   }
  },
  {
   "cell_type": "markdown",
   "source": [
    "### Updated:\n",
    "[16:46, 23/12/2021] Hilal Kazan (ABU CS Prof. ): sonuç olarak LATS1'den bahsetmek istiyorum\n",
    "[16:46, 23/12/2021] Hilal Kazan (ABU CS Prof. ): interface count >=5 yapmamız gerek en güncel halinde"
   ],
   "metadata": {
    "collapsed": false
   }
  },
  {
   "cell_type": "markdown",
   "source": [
    "<s>\n",
    "\n",
    "[11:21, 13/12/2021] Hilal Kazan (ABU CS Prof. ): BRCA ve bütün diğer kohortlar için şu filtreleme daha uygun olacak sanıyorum\n",
    "[11:21, 13/12/2021] Hilal Kazan (ABU CS Prof. ): interaction count > 5\n",
    "[11:21, 13/12/2021] Hilal Kazan (ABU CS Prof. ): disruptive ratio > 0.7\n",
    "\n",
    "    data_filtered = data_filtered[\n",
    "        (data_filtered[\"NUM_INTERFACE_PATIENTS_DISRUPTIVE_INTERACTOR\"] >= 5) &\n",
    "        (data_filtered[\"RATIO_(prev_two_col)\"] >= 0.7)\n",
    "    ].copy()\n",
    "\n",
    "</s>"
   ],
   "metadata": {
    "collapsed": false
   }
  },
  {
   "cell_type": "code",
   "execution_count": 2,
   "outputs": [],
   "source": [
    "def round_decimals(x, n_decimals=2):\n",
    "    if isinstance(x, float):\n",
    "        try:\n",
    "            return round(x, n_decimals)\n",
    "        except TypeError:\n",
    "            print(f\"VALUE X={x}\")\n",
    "    else:\n",
    "        return x"
   ],
   "metadata": {
    "collapsed": false,
    "pycharm": {
     "name": "#%%\n"
    }
   }
  },
  {
   "cell_type": "code",
   "execution_count": 3,
   "outputs": [],
   "source": [
    "def filterer(data, tcga) -> DataFrame:\n",
    "    data_filtered = data.copy()\n",
    "    # Disruptive ratio\n",
    "    data_filtered[\"RATIO_(prev_two_col)\"] = data_filtered[\"NUM_INTERFACE_PATIENTS_DISRUPTIVE_INTERACTOR\"] / data_filtered[\"PATIENT_INTERFACE_COUNT\"]\n",
    "    # Round the ratio values.\n",
    "    data_filtered[\"RATIO_(prev_two_col)\"] = data_filtered[\"RATIO_(prev_two_col)\"].apply(lambda x: round_decimals(x))\n",
    "    # Filtering based on given conditions.\n",
    "    data_filtered = data_filtered[\n",
    "        (data_filtered[\"PATIENT_INTERFACE_COUNT\"] >= 5) &\n",
    "        (data_filtered[\"RATIO_(prev_two_col)\"] >= 0.7)\n",
    "    ].copy()\n",
    "\n",
    "    # Keep only relevant columns\n",
    "    data_filtered = data_filtered[\n",
    "        [\"PROTEIN\", \"GENE\", \"PATIENT_CORE_COUNT\", \"PATIENT_INTERFACE_COUNT\", \"NUM_INTERFACE_PATIENTS_DISRUPTIVE_INTERACTOR\", \"RATIO_(prev_two_col)\", \"NUM_UNIQUE_INTERACTORS\", \"CGC_STATUS\"]\n",
    "    ].copy()\n",
    "\n",
    "    data_filtered.insert(0, \"TCGA\", tcga)\n",
    "\n",
    "    data_filtered = data_filtered.sort_values(\"RATIO_(prev_two_col)\", ascending=False)\n",
    "\n",
    "    return data_filtered\n"
   ],
   "metadata": {
    "collapsed": false,
    "pycharm": {
     "name": "#%%\n"
    }
   }
  },
  {
   "cell_type": "code",
   "execution_count": 4,
   "outputs": [],
   "source": [
    "brca_preliminary_data = pd.read_excel(BRCA_PRELIMINARY_DATA_PATH)\n",
    "esca_preliminary_data = pd.read_excel(ESCA_PRELIMINARY_DATA_PATH)\n",
    "gbm_preliminary_data = pd.read_excel(GBM_PRELIMINARY_DATA_PATH)\n",
    "hnsc_preliminary_data = pd.read_excel(HNSC_PRELIMINARY_DATA_PATH)\n",
    "ov_preliminary_data = pd.read_excel(OV_PRELIMINARY_DATA_PATH)\n",
    "coad_preliminary_data = pd.read_excel(COAD_PRELIMINARY_DATA_PATH)"
   ],
   "metadata": {
    "collapsed": false,
    "pycharm": {
     "name": "#%%\n"
    }
   }
  },
  {
   "cell_type": "code",
   "execution_count": 5,
   "outputs": [],
   "source": [
    "brca_preliminary_data_filtered = filterer(brca_preliminary_data, \"BRCA\")\n",
    "esca_preliminary_data_filtered = filterer(esca_preliminary_data, \"ESCA\")\n",
    "gbm_preliminary_data_filtered = filterer(gbm_preliminary_data, \"GBM\")\n",
    "hnsc_preliminary_data_filtered = filterer(hnsc_preliminary_data, \"HNSC\")\n",
    "ov_preliminary_data_filtered = filterer(ov_preliminary_data, \"OV\")\n",
    "coad_preliminary_data_filtered = filterer(coad_preliminary_data, \"COAD\")"
   ],
   "metadata": {
    "collapsed": false,
    "pycharm": {
     "name": "#%%\n"
    }
   }
  },
  {
   "cell_type": "code",
   "execution_count": 7,
   "outputs": [
    {
     "data": {
      "text/plain": "      TCGA PROTEIN    GENE  PATIENT_CORE_COUNT  PATIENT_INTERFACE_COUNT  \\\n2465  BRCA  P42336  PIK3CA                  35                      124   \n1204  BRCA  P04637    TP53                 141                       55   \n3126  BRCA  P68431    H3C1                   1                       13   \n3091  BRCA  P62805    H4C1                   6                       11   \n2534  BRCA  P45985  MAP2K4                   3                        8   \n1201  BRCA  P04626   ERBB2                  12                       14   \n1447  BRCA  P0CG48     UBC                   0                        7   \n\n      NUM_INTERFACE_PATIENTS_DISRUPTIVE_INTERACTOR  RATIO_(prev_two_col)  \\\n2465                                           120                  0.97   \n1204                                            52                  0.95   \n3126                                            12                  0.92   \n3091                                            10                  0.91   \n2534                                             7                  0.88   \n1201                                            12                  0.86   \n1447                                             6                  0.86   \n\n      NUM_UNIQUE_INTERACTORS CGC_STATUS  \n2465                       6          +  \n1204                      17          +  \n3126                      11          -  \n3091                      16          -  \n2534                       7          +  \n1201                      16          +  \n1447                       7          -  ",
      "text/html": "<div>\n<style scoped>\n    .dataframe tbody tr th:only-of-type {\n        vertical-align: middle;\n    }\n\n    .dataframe tbody tr th {\n        vertical-align: top;\n    }\n\n    .dataframe thead th {\n        text-align: right;\n    }\n</style>\n<table border=\"1\" class=\"dataframe\">\n  <thead>\n    <tr style=\"text-align: right;\">\n      <th></th>\n      <th>TCGA</th>\n      <th>PROTEIN</th>\n      <th>GENE</th>\n      <th>PATIENT_CORE_COUNT</th>\n      <th>PATIENT_INTERFACE_COUNT</th>\n      <th>NUM_INTERFACE_PATIENTS_DISRUPTIVE_INTERACTOR</th>\n      <th>RATIO_(prev_two_col)</th>\n      <th>NUM_UNIQUE_INTERACTORS</th>\n      <th>CGC_STATUS</th>\n    </tr>\n  </thead>\n  <tbody>\n    <tr>\n      <th>2465</th>\n      <td>BRCA</td>\n      <td>P42336</td>\n      <td>PIK3CA</td>\n      <td>35</td>\n      <td>124</td>\n      <td>120</td>\n      <td>0.97</td>\n      <td>6</td>\n      <td>+</td>\n    </tr>\n    <tr>\n      <th>1204</th>\n      <td>BRCA</td>\n      <td>P04637</td>\n      <td>TP53</td>\n      <td>141</td>\n      <td>55</td>\n      <td>52</td>\n      <td>0.95</td>\n      <td>17</td>\n      <td>+</td>\n    </tr>\n    <tr>\n      <th>3126</th>\n      <td>BRCA</td>\n      <td>P68431</td>\n      <td>H3C1</td>\n      <td>1</td>\n      <td>13</td>\n      <td>12</td>\n      <td>0.92</td>\n      <td>11</td>\n      <td>-</td>\n    </tr>\n    <tr>\n      <th>3091</th>\n      <td>BRCA</td>\n      <td>P62805</td>\n      <td>H4C1</td>\n      <td>6</td>\n      <td>11</td>\n      <td>10</td>\n      <td>0.91</td>\n      <td>16</td>\n      <td>-</td>\n    </tr>\n    <tr>\n      <th>2534</th>\n      <td>BRCA</td>\n      <td>P45985</td>\n      <td>MAP2K4</td>\n      <td>3</td>\n      <td>8</td>\n      <td>7</td>\n      <td>0.88</td>\n      <td>7</td>\n      <td>+</td>\n    </tr>\n    <tr>\n      <th>1201</th>\n      <td>BRCA</td>\n      <td>P04626</td>\n      <td>ERBB2</td>\n      <td>12</td>\n      <td>14</td>\n      <td>12</td>\n      <td>0.86</td>\n      <td>16</td>\n      <td>+</td>\n    </tr>\n    <tr>\n      <th>1447</th>\n      <td>BRCA</td>\n      <td>P0CG48</td>\n      <td>UBC</td>\n      <td>0</td>\n      <td>7</td>\n      <td>6</td>\n      <td>0.86</td>\n      <td>7</td>\n      <td>-</td>\n    </tr>\n  </tbody>\n</table>\n</div>"
     },
     "execution_count": 7,
     "metadata": {},
     "output_type": "execute_result"
    }
   ],
   "source": [
    "brca_preliminary_data_filtered"
   ],
   "metadata": {
    "collapsed": false,
    "pycharm": {
     "name": "#%%\n"
    }
   }
  },
  {
   "cell_type": "code",
   "execution_count": 8,
   "outputs": [
    {
     "data": {
      "text/plain": "      TCGA PROTEIN  GENE  PATIENT_CORE_COUNT  PATIENT_INTERFACE_COUNT  \\\n627   ESCA  P04637  TP53                  56                       35   \n1571  ESCA  P62805  H4C1                   2                        7   \n\n      NUM_INTERFACE_PATIENTS_DISRUPTIVE_INTERACTOR  RATIO_(prev_two_col)  \\\n627                                             34                  0.97   \n1571                                             6                  0.86   \n\n      NUM_UNIQUE_INTERACTORS CGC_STATUS  \n627                       17          +  \n1571                      11          -  ",
      "text/html": "<div>\n<style scoped>\n    .dataframe tbody tr th:only-of-type {\n        vertical-align: middle;\n    }\n\n    .dataframe tbody tr th {\n        vertical-align: top;\n    }\n\n    .dataframe thead th {\n        text-align: right;\n    }\n</style>\n<table border=\"1\" class=\"dataframe\">\n  <thead>\n    <tr style=\"text-align: right;\">\n      <th></th>\n      <th>TCGA</th>\n      <th>PROTEIN</th>\n      <th>GENE</th>\n      <th>PATIENT_CORE_COUNT</th>\n      <th>PATIENT_INTERFACE_COUNT</th>\n      <th>NUM_INTERFACE_PATIENTS_DISRUPTIVE_INTERACTOR</th>\n      <th>RATIO_(prev_two_col)</th>\n      <th>NUM_UNIQUE_INTERACTORS</th>\n      <th>CGC_STATUS</th>\n    </tr>\n  </thead>\n  <tbody>\n    <tr>\n      <th>627</th>\n      <td>ESCA</td>\n      <td>P04637</td>\n      <td>TP53</td>\n      <td>56</td>\n      <td>35</td>\n      <td>34</td>\n      <td>0.97</td>\n      <td>17</td>\n      <td>+</td>\n    </tr>\n    <tr>\n      <th>1571</th>\n      <td>ESCA</td>\n      <td>P62805</td>\n      <td>H4C1</td>\n      <td>2</td>\n      <td>7</td>\n      <td>6</td>\n      <td>0.86</td>\n      <td>11</td>\n      <td>-</td>\n    </tr>\n  </tbody>\n</table>\n</div>"
     },
     "execution_count": 8,
     "metadata": {},
     "output_type": "execute_result"
    }
   ],
   "source": [
    "esca_preliminary_data_filtered"
   ],
   "metadata": {
    "collapsed": false,
    "pycharm": {
     "name": "#%%\n"
    }
   }
  },
  {
   "cell_type": "code",
   "execution_count": 9,
   "outputs": [
    {
     "data": {
      "text/plain": "     TCGA PROTEIN   GENE  PATIENT_CORE_COUNT  PATIENT_INTERFACE_COUNT  \\\n1050  GBM  P04637   TP53                  52                       35   \n1449  GBM  P15056   BRAF                   1                        5   \n2925  GBM  Q05655  PRKCD                   2                        5   \n\n      NUM_INTERFACE_PATIENTS_DISRUPTIVE_INTERACTOR  RATIO_(prev_two_col)  \\\n1050                                            35                   1.0   \n1449                                             4                   0.8   \n2925                                             4                   0.8   \n\n      NUM_UNIQUE_INTERACTORS CGC_STATUS  \n1050                      19          +  \n1449                       5          +  \n2925                      10          -  ",
      "text/html": "<div>\n<style scoped>\n    .dataframe tbody tr th:only-of-type {\n        vertical-align: middle;\n    }\n\n    .dataframe tbody tr th {\n        vertical-align: top;\n    }\n\n    .dataframe thead th {\n        text-align: right;\n    }\n</style>\n<table border=\"1\" class=\"dataframe\">\n  <thead>\n    <tr style=\"text-align: right;\">\n      <th></th>\n      <th>TCGA</th>\n      <th>PROTEIN</th>\n      <th>GENE</th>\n      <th>PATIENT_CORE_COUNT</th>\n      <th>PATIENT_INTERFACE_COUNT</th>\n      <th>NUM_INTERFACE_PATIENTS_DISRUPTIVE_INTERACTOR</th>\n      <th>RATIO_(prev_two_col)</th>\n      <th>NUM_UNIQUE_INTERACTORS</th>\n      <th>CGC_STATUS</th>\n    </tr>\n  </thead>\n  <tbody>\n    <tr>\n      <th>1050</th>\n      <td>GBM</td>\n      <td>P04637</td>\n      <td>TP53</td>\n      <td>52</td>\n      <td>35</td>\n      <td>35</td>\n      <td>1.0</td>\n      <td>19</td>\n      <td>+</td>\n    </tr>\n    <tr>\n      <th>1449</th>\n      <td>GBM</td>\n      <td>P15056</td>\n      <td>BRAF</td>\n      <td>1</td>\n      <td>5</td>\n      <td>4</td>\n      <td>0.8</td>\n      <td>5</td>\n      <td>+</td>\n    </tr>\n    <tr>\n      <th>2925</th>\n      <td>GBM</td>\n      <td>Q05655</td>\n      <td>PRKCD</td>\n      <td>2</td>\n      <td>5</td>\n      <td>4</td>\n      <td>0.8</td>\n      <td>10</td>\n      <td>-</td>\n    </tr>\n  </tbody>\n</table>\n</div>"
     },
     "execution_count": 9,
     "metadata": {},
     "output_type": "execute_result"
    }
   ],
   "source": [
    "gbm_preliminary_data_filtered"
   ],
   "metadata": {
    "collapsed": false,
    "pycharm": {
     "name": "#%%\n"
    }
   }
  },
  {
   "cell_type": "code",
   "execution_count": 10,
   "outputs": [
    {
     "data": {
      "text/plain": "      TCGA PROTEIN    GENE  PATIENT_CORE_COUNT  PATIENT_INTERFACE_COUNT  \\\n1012  HNSC  P01112    HRAS                   1                       26   \n3410  HNSC  Q14790   CASP8                  13                        5   \n1499  HNSC  P15056    BRAF                   0                        6   \n2792  HNSC  P63000    RAC1                   0                       11   \n2381  HNSC  P49336    CDK8                   2                        6   \n1099  HNSC  P04637    TP53                 134                       59   \n5467  HNSC  Q969H0   FBXW7                   2                       18   \n2220  HNSC  P42336  PIK3CA                  13                       14   \n2236  HNSC  P42771  CDKN2A                   1                       19   \n1754  HNSC  P22607   FGFR3                   0                        6   \n2137  HNSC  P37173  TGFBR2                   7                        5   \n1908  HNSC  P28827   PTPRM                   9                        5   \n2807  HNSC  P68431    H3C1                   0                        5   \n1179  HNSC  P07288    KLK3                   1                        5   \n3562  HNSC  Q16478   GRIK5                   3                        5   \n4459  HNSC  Q7Z6Z7   HUWE1                   5                        8   \n2783  HNSC  P62805    H4C1                   7                       23   \n\n      NUM_INTERFACE_PATIENTS_DISRUPTIVE_INTERACTOR  RATIO_(prev_two_col)  \\\n1012                                            26                  1.00   \n3410                                             5                  1.00   \n1499                                             6                  1.00   \n2792                                            11                  1.00   \n2381                                             6                  1.00   \n1099                                            58                  0.98   \n5467                                            17                  0.94   \n2220                                            13                  0.93   \n2236                                            17                  0.89   \n1754                                             5                  0.83   \n2137                                             4                  0.80   \n1908                                             4                  0.80   \n2807                                             4                  0.80   \n1179                                             4                  0.80   \n3562                                             4                  0.80   \n4459                                             6                  0.75   \n2783                                            17                  0.74   \n\n      NUM_UNIQUE_INTERACTORS CGC_STATUS  \n1012                      26          +  \n3410                       5          +  \n1499                       6          +  \n2792                       8          +  \n2381                       3          -  \n1099                      16          +  \n5467                       3          +  \n2220                       5          +  \n2236                      23          +  \n1754                      20          +  \n2137                       5          +  \n1908                       3          -  \n2807                      11          -  \n1179                       5          -  \n3562                       4          -  \n4459                       8          -  \n2783                      17          -  ",
      "text/html": "<div>\n<style scoped>\n    .dataframe tbody tr th:only-of-type {\n        vertical-align: middle;\n    }\n\n    .dataframe tbody tr th {\n        vertical-align: top;\n    }\n\n    .dataframe thead th {\n        text-align: right;\n    }\n</style>\n<table border=\"1\" class=\"dataframe\">\n  <thead>\n    <tr style=\"text-align: right;\">\n      <th></th>\n      <th>TCGA</th>\n      <th>PROTEIN</th>\n      <th>GENE</th>\n      <th>PATIENT_CORE_COUNT</th>\n      <th>PATIENT_INTERFACE_COUNT</th>\n      <th>NUM_INTERFACE_PATIENTS_DISRUPTIVE_INTERACTOR</th>\n      <th>RATIO_(prev_two_col)</th>\n      <th>NUM_UNIQUE_INTERACTORS</th>\n      <th>CGC_STATUS</th>\n    </tr>\n  </thead>\n  <tbody>\n    <tr>\n      <th>1012</th>\n      <td>HNSC</td>\n      <td>P01112</td>\n      <td>HRAS</td>\n      <td>1</td>\n      <td>26</td>\n      <td>26</td>\n      <td>1.00</td>\n      <td>26</td>\n      <td>+</td>\n    </tr>\n    <tr>\n      <th>3410</th>\n      <td>HNSC</td>\n      <td>Q14790</td>\n      <td>CASP8</td>\n      <td>13</td>\n      <td>5</td>\n      <td>5</td>\n      <td>1.00</td>\n      <td>5</td>\n      <td>+</td>\n    </tr>\n    <tr>\n      <th>1499</th>\n      <td>HNSC</td>\n      <td>P15056</td>\n      <td>BRAF</td>\n      <td>0</td>\n      <td>6</td>\n      <td>6</td>\n      <td>1.00</td>\n      <td>6</td>\n      <td>+</td>\n    </tr>\n    <tr>\n      <th>2792</th>\n      <td>HNSC</td>\n      <td>P63000</td>\n      <td>RAC1</td>\n      <td>0</td>\n      <td>11</td>\n      <td>11</td>\n      <td>1.00</td>\n      <td>8</td>\n      <td>+</td>\n    </tr>\n    <tr>\n      <th>2381</th>\n      <td>HNSC</td>\n      <td>P49336</td>\n      <td>CDK8</td>\n      <td>2</td>\n      <td>6</td>\n      <td>6</td>\n      <td>1.00</td>\n      <td>3</td>\n      <td>-</td>\n    </tr>\n    <tr>\n      <th>1099</th>\n      <td>HNSC</td>\n      <td>P04637</td>\n      <td>TP53</td>\n      <td>134</td>\n      <td>59</td>\n      <td>58</td>\n      <td>0.98</td>\n      <td>16</td>\n      <td>+</td>\n    </tr>\n    <tr>\n      <th>5467</th>\n      <td>HNSC</td>\n      <td>Q969H0</td>\n      <td>FBXW7</td>\n      <td>2</td>\n      <td>18</td>\n      <td>17</td>\n      <td>0.94</td>\n      <td>3</td>\n      <td>+</td>\n    </tr>\n    <tr>\n      <th>2220</th>\n      <td>HNSC</td>\n      <td>P42336</td>\n      <td>PIK3CA</td>\n      <td>13</td>\n      <td>14</td>\n      <td>13</td>\n      <td>0.93</td>\n      <td>5</td>\n      <td>+</td>\n    </tr>\n    <tr>\n      <th>2236</th>\n      <td>HNSC</td>\n      <td>P42771</td>\n      <td>CDKN2A</td>\n      <td>1</td>\n      <td>19</td>\n      <td>17</td>\n      <td>0.89</td>\n      <td>23</td>\n      <td>+</td>\n    </tr>\n    <tr>\n      <th>1754</th>\n      <td>HNSC</td>\n      <td>P22607</td>\n      <td>FGFR3</td>\n      <td>0</td>\n      <td>6</td>\n      <td>5</td>\n      <td>0.83</td>\n      <td>20</td>\n      <td>+</td>\n    </tr>\n    <tr>\n      <th>2137</th>\n      <td>HNSC</td>\n      <td>P37173</td>\n      <td>TGFBR2</td>\n      <td>7</td>\n      <td>5</td>\n      <td>4</td>\n      <td>0.80</td>\n      <td>5</td>\n      <td>+</td>\n    </tr>\n    <tr>\n      <th>1908</th>\n      <td>HNSC</td>\n      <td>P28827</td>\n      <td>PTPRM</td>\n      <td>9</td>\n      <td>5</td>\n      <td>4</td>\n      <td>0.80</td>\n      <td>3</td>\n      <td>-</td>\n    </tr>\n    <tr>\n      <th>2807</th>\n      <td>HNSC</td>\n      <td>P68431</td>\n      <td>H3C1</td>\n      <td>0</td>\n      <td>5</td>\n      <td>4</td>\n      <td>0.80</td>\n      <td>11</td>\n      <td>-</td>\n    </tr>\n    <tr>\n      <th>1179</th>\n      <td>HNSC</td>\n      <td>P07288</td>\n      <td>KLK3</td>\n      <td>1</td>\n      <td>5</td>\n      <td>4</td>\n      <td>0.80</td>\n      <td>5</td>\n      <td>-</td>\n    </tr>\n    <tr>\n      <th>3562</th>\n      <td>HNSC</td>\n      <td>Q16478</td>\n      <td>GRIK5</td>\n      <td>3</td>\n      <td>5</td>\n      <td>4</td>\n      <td>0.80</td>\n      <td>4</td>\n      <td>-</td>\n    </tr>\n    <tr>\n      <th>4459</th>\n      <td>HNSC</td>\n      <td>Q7Z6Z7</td>\n      <td>HUWE1</td>\n      <td>5</td>\n      <td>8</td>\n      <td>6</td>\n      <td>0.75</td>\n      <td>8</td>\n      <td>-</td>\n    </tr>\n    <tr>\n      <th>2783</th>\n      <td>HNSC</td>\n      <td>P62805</td>\n      <td>H4C1</td>\n      <td>7</td>\n      <td>23</td>\n      <td>17</td>\n      <td>0.74</td>\n      <td>17</td>\n      <td>-</td>\n    </tr>\n  </tbody>\n</table>\n</div>"
     },
     "execution_count": 10,
     "metadata": {},
     "output_type": "execute_result"
    }
   ],
   "source": [
    "hnsc_preliminary_data_filtered"
   ],
   "metadata": {
    "collapsed": false,
    "pycharm": {
     "name": "#%%\n"
    }
   }
  },
  {
   "cell_type": "code",
   "execution_count": 11,
   "outputs": [
    {
     "data": {
      "text/plain": "     TCGA PROTEIN   GENE  PATIENT_CORE_COUNT  PATIENT_INTERFACE_COUNT  \\\n927    OV  P04637   TP53                 147                       80   \n782    OV  O95835  LATS1                   1                        5   \n2436   OV  P62805   H4C1                   8                        8   \n\n      NUM_INTERFACE_PATIENTS_DISRUPTIVE_INTERACTOR  RATIO_(prev_two_col)  \\\n927                                             80                  1.00   \n782                                              4                  0.80   \n2436                                             6                  0.75   \n\n      NUM_UNIQUE_INTERACTORS CGC_STATUS  \n927                       19          +  \n782                        7          +  \n2436                      18          -  ",
      "text/html": "<div>\n<style scoped>\n    .dataframe tbody tr th:only-of-type {\n        vertical-align: middle;\n    }\n\n    .dataframe tbody tr th {\n        vertical-align: top;\n    }\n\n    .dataframe thead th {\n        text-align: right;\n    }\n</style>\n<table border=\"1\" class=\"dataframe\">\n  <thead>\n    <tr style=\"text-align: right;\">\n      <th></th>\n      <th>TCGA</th>\n      <th>PROTEIN</th>\n      <th>GENE</th>\n      <th>PATIENT_CORE_COUNT</th>\n      <th>PATIENT_INTERFACE_COUNT</th>\n      <th>NUM_INTERFACE_PATIENTS_DISRUPTIVE_INTERACTOR</th>\n      <th>RATIO_(prev_two_col)</th>\n      <th>NUM_UNIQUE_INTERACTORS</th>\n      <th>CGC_STATUS</th>\n    </tr>\n  </thead>\n  <tbody>\n    <tr>\n      <th>927</th>\n      <td>OV</td>\n      <td>P04637</td>\n      <td>TP53</td>\n      <td>147</td>\n      <td>80</td>\n      <td>80</td>\n      <td>1.00</td>\n      <td>19</td>\n      <td>+</td>\n    </tr>\n    <tr>\n      <th>782</th>\n      <td>OV</td>\n      <td>O95835</td>\n      <td>LATS1</td>\n      <td>1</td>\n      <td>5</td>\n      <td>4</td>\n      <td>0.80</td>\n      <td>7</td>\n      <td>+</td>\n    </tr>\n    <tr>\n      <th>2436</th>\n      <td>OV</td>\n      <td>P62805</td>\n      <td>H4C1</td>\n      <td>8</td>\n      <td>8</td>\n      <td>6</td>\n      <td>0.75</td>\n      <td>18</td>\n      <td>-</td>\n    </tr>\n  </tbody>\n</table>\n</div>"
     },
     "execution_count": 11,
     "metadata": {},
     "output_type": "execute_result"
    }
   ],
   "source": [
    "ov_preliminary_data_filtered"
   ],
   "metadata": {
    "collapsed": false,
    "pycharm": {
     "name": "#%%\n"
    }
   }
  },
  {
   "cell_type": "code",
   "execution_count": 12,
   "outputs": [
    {
     "data": {
      "text/plain": "       TCGA PROTEIN     GENE  PATIENT_CORE_COUNT  PATIENT_INTERFACE_COUNT  \\\n212    COAD  O00238   BMPR1B                   2                        6   \n3713   COAD  P61586     RHOA                   0                        5   \n9855   COAD  Q9UKV0    HDAC9                   7                        5   \n7578   COAD  Q96E17    RAB3C                   1                        6   \n2110   COAD  P16885    PLCG2                   4                        6   \n2228   COAD  P19784  CSNK2A2                   2                        9   \n4709   COAD  Q15365    PCBP1                   4                        9   \n2968   COAD  P41743    PRKCI                   2                        5   \n4337   COAD  Q13310   PABPC4                   2                        5   \n3870   COAD  P84022    SMAD3                   5                        6   \n1489   COAD  P04637     TP53                  97                       49   \n3453   COAD  P53350     PLK1                   5                        5   \n3538   COAD  P55072      VCP                   3                        5   \n2029   COAD  P15056     BRAF                   3                       52   \n7426   COAD  Q969H0    FBXW7                  13                       25   \n3757   COAD  P62805     H4C1                   5                       16   \n4379   COAD  Q13485    SMAD4                  14                       21   \n4431   COAD  Q13748      NaN                  14                        7   \n2882   COAD  P37173   TGFBR2                   3                        7   \n4783   COAD  Q15796    SMAD2                   3                        7   \n10463  COAD  Q9Y6R4   MAP3K4                   0                        6   \n3068   COAD  P45985   MAP2K4                  11                        6   \n10247  COAD  Q9Y463   DYRK1B                   0                        6   \n1733   COAD  P09619   PDGFRB                   2                        5   \n1510   COAD  P05107    ITGB2                   5                        5   \n9170   COAD  Q9NRM7    LATS2                   1                        5   \n3705   COAD  P61244      MAX                   2                        5   \n7320   COAD  Q92747   ARPC1A                   3                        5   \n3264   COAD  P49902    NT5C2                   1                        5   \n4827   COAD  Q16478    GRIK5                  13                        5   \n4865   COAD  Q16659    MAPK6                   2                        5   \n1637   COAD  P07948      LYN                   3                        8   \n8345   COAD  Q9BXA7   TSSK1B                   7                        7   \n3047   COAD  P43403    ZAP70                   4                        7   \n\n       NUM_INTERFACE_PATIENTS_DISRUPTIVE_INTERACTOR  RATIO_(prev_two_col)  \\\n212                                               6                  1.00   \n3713                                              5                  1.00   \n9855                                              5                  1.00   \n7578                                              6                  1.00   \n2110                                              6                  1.00   \n2228                                              9                  1.00   \n4709                                              9                  1.00   \n2968                                              5                  1.00   \n4337                                              5                  1.00   \n3870                                              6                  1.00   \n1489                                             49                  1.00   \n3453                                              5                  1.00   \n3538                                              5                  1.00   \n2029                                             51                  0.98   \n7426                                             24                  0.96   \n3757                                             15                  0.94   \n4379                                             19                  0.90   \n4431                                              6                  0.86   \n2882                                              6                  0.86   \n4783                                              6                  0.86   \n10463                                             5                  0.83   \n3068                                              5                  0.83   \n10247                                             5                  0.83   \n1733                                              4                  0.80   \n1510                                              4                  0.80   \n9170                                              4                  0.80   \n3705                                              4                  0.80   \n7320                                              4                  0.80   \n3264                                              4                  0.80   \n4827                                              4                  0.80   \n4865                                              4                  0.80   \n1637                                              6                  0.75   \n8345                                              5                  0.71   \n3047                                              5                  0.71   \n\n       NUM_UNIQUE_INTERACTORS CGC_STATUS  \n212                        16          -  \n3713                       41          +  \n9855                        3          -  \n7578                        4          -  \n2110                       14          -  \n2228                       10          -  \n4709                        5          +  \n2968                       13          -  \n4337                        5          -  \n3870                        5          +  \n1489                       19          +  \n3453                       10          -  \n3538                       11          -  \n2029                        3          +  \n7426                        4          +  \n3757                       18          -  \n4379                        5          +  \n4431                        6          -  \n2882                        7          +  \n4783                        8          +  \n10463                      14          -  \n3068                       18          +  \n10247                       6          -  \n1733                       16          +  \n1510                        7          -  \n9170                        8          +  \n3705                       12          +  \n7320                        6          -  \n3264                        1          +  \n4827                        4          -  \n4865                        4          -  \n1637                       14          -  \n8345                        3          -  \n3047                       16          -  ",
      "text/html": "<div>\n<style scoped>\n    .dataframe tbody tr th:only-of-type {\n        vertical-align: middle;\n    }\n\n    .dataframe tbody tr th {\n        vertical-align: top;\n    }\n\n    .dataframe thead th {\n        text-align: right;\n    }\n</style>\n<table border=\"1\" class=\"dataframe\">\n  <thead>\n    <tr style=\"text-align: right;\">\n      <th></th>\n      <th>TCGA</th>\n      <th>PROTEIN</th>\n      <th>GENE</th>\n      <th>PATIENT_CORE_COUNT</th>\n      <th>PATIENT_INTERFACE_COUNT</th>\n      <th>NUM_INTERFACE_PATIENTS_DISRUPTIVE_INTERACTOR</th>\n      <th>RATIO_(prev_two_col)</th>\n      <th>NUM_UNIQUE_INTERACTORS</th>\n      <th>CGC_STATUS</th>\n    </tr>\n  </thead>\n  <tbody>\n    <tr>\n      <th>212</th>\n      <td>COAD</td>\n      <td>O00238</td>\n      <td>BMPR1B</td>\n      <td>2</td>\n      <td>6</td>\n      <td>6</td>\n      <td>1.00</td>\n      <td>16</td>\n      <td>-</td>\n    </tr>\n    <tr>\n      <th>3713</th>\n      <td>COAD</td>\n      <td>P61586</td>\n      <td>RHOA</td>\n      <td>0</td>\n      <td>5</td>\n      <td>5</td>\n      <td>1.00</td>\n      <td>41</td>\n      <td>+</td>\n    </tr>\n    <tr>\n      <th>9855</th>\n      <td>COAD</td>\n      <td>Q9UKV0</td>\n      <td>HDAC9</td>\n      <td>7</td>\n      <td>5</td>\n      <td>5</td>\n      <td>1.00</td>\n      <td>3</td>\n      <td>-</td>\n    </tr>\n    <tr>\n      <th>7578</th>\n      <td>COAD</td>\n      <td>Q96E17</td>\n      <td>RAB3C</td>\n      <td>1</td>\n      <td>6</td>\n      <td>6</td>\n      <td>1.00</td>\n      <td>4</td>\n      <td>-</td>\n    </tr>\n    <tr>\n      <th>2110</th>\n      <td>COAD</td>\n      <td>P16885</td>\n      <td>PLCG2</td>\n      <td>4</td>\n      <td>6</td>\n      <td>6</td>\n      <td>1.00</td>\n      <td>14</td>\n      <td>-</td>\n    </tr>\n    <tr>\n      <th>2228</th>\n      <td>COAD</td>\n      <td>P19784</td>\n      <td>CSNK2A2</td>\n      <td>2</td>\n      <td>9</td>\n      <td>9</td>\n      <td>1.00</td>\n      <td>10</td>\n      <td>-</td>\n    </tr>\n    <tr>\n      <th>4709</th>\n      <td>COAD</td>\n      <td>Q15365</td>\n      <td>PCBP1</td>\n      <td>4</td>\n      <td>9</td>\n      <td>9</td>\n      <td>1.00</td>\n      <td>5</td>\n      <td>+</td>\n    </tr>\n    <tr>\n      <th>2968</th>\n      <td>COAD</td>\n      <td>P41743</td>\n      <td>PRKCI</td>\n      <td>2</td>\n      <td>5</td>\n      <td>5</td>\n      <td>1.00</td>\n      <td>13</td>\n      <td>-</td>\n    </tr>\n    <tr>\n      <th>4337</th>\n      <td>COAD</td>\n      <td>Q13310</td>\n      <td>PABPC4</td>\n      <td>2</td>\n      <td>5</td>\n      <td>5</td>\n      <td>1.00</td>\n      <td>5</td>\n      <td>-</td>\n    </tr>\n    <tr>\n      <th>3870</th>\n      <td>COAD</td>\n      <td>P84022</td>\n      <td>SMAD3</td>\n      <td>5</td>\n      <td>6</td>\n      <td>6</td>\n      <td>1.00</td>\n      <td>5</td>\n      <td>+</td>\n    </tr>\n    <tr>\n      <th>1489</th>\n      <td>COAD</td>\n      <td>P04637</td>\n      <td>TP53</td>\n      <td>97</td>\n      <td>49</td>\n      <td>49</td>\n      <td>1.00</td>\n      <td>19</td>\n      <td>+</td>\n    </tr>\n    <tr>\n      <th>3453</th>\n      <td>COAD</td>\n      <td>P53350</td>\n      <td>PLK1</td>\n      <td>5</td>\n      <td>5</td>\n      <td>5</td>\n      <td>1.00</td>\n      <td>10</td>\n      <td>-</td>\n    </tr>\n    <tr>\n      <th>3538</th>\n      <td>COAD</td>\n      <td>P55072</td>\n      <td>VCP</td>\n      <td>3</td>\n      <td>5</td>\n      <td>5</td>\n      <td>1.00</td>\n      <td>11</td>\n      <td>-</td>\n    </tr>\n    <tr>\n      <th>2029</th>\n      <td>COAD</td>\n      <td>P15056</td>\n      <td>BRAF</td>\n      <td>3</td>\n      <td>52</td>\n      <td>51</td>\n      <td>0.98</td>\n      <td>3</td>\n      <td>+</td>\n    </tr>\n    <tr>\n      <th>7426</th>\n      <td>COAD</td>\n      <td>Q969H0</td>\n      <td>FBXW7</td>\n      <td>13</td>\n      <td>25</td>\n      <td>24</td>\n      <td>0.96</td>\n      <td>4</td>\n      <td>+</td>\n    </tr>\n    <tr>\n      <th>3757</th>\n      <td>COAD</td>\n      <td>P62805</td>\n      <td>H4C1</td>\n      <td>5</td>\n      <td>16</td>\n      <td>15</td>\n      <td>0.94</td>\n      <td>18</td>\n      <td>-</td>\n    </tr>\n    <tr>\n      <th>4379</th>\n      <td>COAD</td>\n      <td>Q13485</td>\n      <td>SMAD4</td>\n      <td>14</td>\n      <td>21</td>\n      <td>19</td>\n      <td>0.90</td>\n      <td>5</td>\n      <td>+</td>\n    </tr>\n    <tr>\n      <th>4431</th>\n      <td>COAD</td>\n      <td>Q13748</td>\n      <td>NaN</td>\n      <td>14</td>\n      <td>7</td>\n      <td>6</td>\n      <td>0.86</td>\n      <td>6</td>\n      <td>-</td>\n    </tr>\n    <tr>\n      <th>2882</th>\n      <td>COAD</td>\n      <td>P37173</td>\n      <td>TGFBR2</td>\n      <td>3</td>\n      <td>7</td>\n      <td>6</td>\n      <td>0.86</td>\n      <td>7</td>\n      <td>+</td>\n    </tr>\n    <tr>\n      <th>4783</th>\n      <td>COAD</td>\n      <td>Q15796</td>\n      <td>SMAD2</td>\n      <td>3</td>\n      <td>7</td>\n      <td>6</td>\n      <td>0.86</td>\n      <td>8</td>\n      <td>+</td>\n    </tr>\n    <tr>\n      <th>10463</th>\n      <td>COAD</td>\n      <td>Q9Y6R4</td>\n      <td>MAP3K4</td>\n      <td>0</td>\n      <td>6</td>\n      <td>5</td>\n      <td>0.83</td>\n      <td>14</td>\n      <td>-</td>\n    </tr>\n    <tr>\n      <th>3068</th>\n      <td>COAD</td>\n      <td>P45985</td>\n      <td>MAP2K4</td>\n      <td>11</td>\n      <td>6</td>\n      <td>5</td>\n      <td>0.83</td>\n      <td>18</td>\n      <td>+</td>\n    </tr>\n    <tr>\n      <th>10247</th>\n      <td>COAD</td>\n      <td>Q9Y463</td>\n      <td>DYRK1B</td>\n      <td>0</td>\n      <td>6</td>\n      <td>5</td>\n      <td>0.83</td>\n      <td>6</td>\n      <td>-</td>\n    </tr>\n    <tr>\n      <th>1733</th>\n      <td>COAD</td>\n      <td>P09619</td>\n      <td>PDGFRB</td>\n      <td>2</td>\n      <td>5</td>\n      <td>4</td>\n      <td>0.80</td>\n      <td>16</td>\n      <td>+</td>\n    </tr>\n    <tr>\n      <th>1510</th>\n      <td>COAD</td>\n      <td>P05107</td>\n      <td>ITGB2</td>\n      <td>5</td>\n      <td>5</td>\n      <td>4</td>\n      <td>0.80</td>\n      <td>7</td>\n      <td>-</td>\n    </tr>\n    <tr>\n      <th>9170</th>\n      <td>COAD</td>\n      <td>Q9NRM7</td>\n      <td>LATS2</td>\n      <td>1</td>\n      <td>5</td>\n      <td>4</td>\n      <td>0.80</td>\n      <td>8</td>\n      <td>+</td>\n    </tr>\n    <tr>\n      <th>3705</th>\n      <td>COAD</td>\n      <td>P61244</td>\n      <td>MAX</td>\n      <td>2</td>\n      <td>5</td>\n      <td>4</td>\n      <td>0.80</td>\n      <td>12</td>\n      <td>+</td>\n    </tr>\n    <tr>\n      <th>7320</th>\n      <td>COAD</td>\n      <td>Q92747</td>\n      <td>ARPC1A</td>\n      <td>3</td>\n      <td>5</td>\n      <td>4</td>\n      <td>0.80</td>\n      <td>6</td>\n      <td>-</td>\n    </tr>\n    <tr>\n      <th>3264</th>\n      <td>COAD</td>\n      <td>P49902</td>\n      <td>NT5C2</td>\n      <td>1</td>\n      <td>5</td>\n      <td>4</td>\n      <td>0.80</td>\n      <td>1</td>\n      <td>+</td>\n    </tr>\n    <tr>\n      <th>4827</th>\n      <td>COAD</td>\n      <td>Q16478</td>\n      <td>GRIK5</td>\n      <td>13</td>\n      <td>5</td>\n      <td>4</td>\n      <td>0.80</td>\n      <td>4</td>\n      <td>-</td>\n    </tr>\n    <tr>\n      <th>4865</th>\n      <td>COAD</td>\n      <td>Q16659</td>\n      <td>MAPK6</td>\n      <td>2</td>\n      <td>5</td>\n      <td>4</td>\n      <td>0.80</td>\n      <td>4</td>\n      <td>-</td>\n    </tr>\n    <tr>\n      <th>1637</th>\n      <td>COAD</td>\n      <td>P07948</td>\n      <td>LYN</td>\n      <td>3</td>\n      <td>8</td>\n      <td>6</td>\n      <td>0.75</td>\n      <td>14</td>\n      <td>-</td>\n    </tr>\n    <tr>\n      <th>8345</th>\n      <td>COAD</td>\n      <td>Q9BXA7</td>\n      <td>TSSK1B</td>\n      <td>7</td>\n      <td>7</td>\n      <td>5</td>\n      <td>0.71</td>\n      <td>3</td>\n      <td>-</td>\n    </tr>\n    <tr>\n      <th>3047</th>\n      <td>COAD</td>\n      <td>P43403</td>\n      <td>ZAP70</td>\n      <td>4</td>\n      <td>7</td>\n      <td>5</td>\n      <td>0.71</td>\n      <td>16</td>\n      <td>-</td>\n    </tr>\n  </tbody>\n</table>\n</div>"
     },
     "execution_count": 12,
     "metadata": {},
     "output_type": "execute_result"
    }
   ],
   "source": [
    "coad_preliminary_data_filtered"
   ],
   "metadata": {
    "collapsed": false,
    "pycharm": {
     "name": "#%%\n"
    }
   }
  },
  {
   "cell_type": "code",
   "execution_count": null,
   "outputs": [],
   "source": [],
   "metadata": {
    "collapsed": false,
    "pycharm": {
     "name": "#%%\n"
    }
   }
  },
  {
   "cell_type": "code",
   "execution_count": null,
   "outputs": [],
   "source": [],
   "metadata": {
    "collapsed": false,
    "pycharm": {
     "name": "#%%\n"
    }
   }
  },
  {
   "cell_type": "code",
   "execution_count": 13,
   "outputs": [],
   "source": [
    "concated_preliminary_filtered_data = pd.concat(\n",
    "    [\n",
    "        brca_preliminary_data_filtered,\n",
    "        esca_preliminary_data_filtered,\n",
    "        gbm_preliminary_data_filtered,\n",
    "        hnsc_preliminary_data_filtered,\n",
    "        ov_preliminary_data_filtered,\n",
    "        coad_preliminary_data_filtered,\n",
    "    ], ignore_index=True\n",
    ")"
   ],
   "metadata": {
    "collapsed": false,
    "pycharm": {
     "name": "#%%\n"
    }
   }
  },
  {
   "cell_type": "code",
   "execution_count": 14,
   "outputs": [
    {
     "data": {
      "text/plain": "    TCGA PROTEIN    GENE  PATIENT_CORE_COUNT  PATIENT_INTERFACE_COUNT  \\\n0   BRCA  P42336  PIK3CA                  35                      124   \n1   BRCA  P04637    TP53                 141                       55   \n2   BRCA  P68431    H3C1                   1                       13   \n3   BRCA  P62805    H4C1                   6                       11   \n4   BRCA  P45985  MAP2K4                   3                        8   \n..   ...     ...     ...                 ...                      ...   \n61  COAD  Q16478   GRIK5                  13                        5   \n62  COAD  Q16659   MAPK6                   2                        5   \n63  COAD  P07948     LYN                   3                        8   \n64  COAD  Q9BXA7  TSSK1B                   7                        7   \n65  COAD  P43403   ZAP70                   4                        7   \n\n    NUM_INTERFACE_PATIENTS_DISRUPTIVE_INTERACTOR  RATIO_(prev_two_col)  \\\n0                                            120                  0.97   \n1                                             52                  0.95   \n2                                             12                  0.92   \n3                                             10                  0.91   \n4                                              7                  0.88   \n..                                           ...                   ...   \n61                                             4                  0.80   \n62                                             4                  0.80   \n63                                             6                  0.75   \n64                                             5                  0.71   \n65                                             5                  0.71   \n\n    NUM_UNIQUE_INTERACTORS CGC_STATUS  \n0                        6          +  \n1                       17          +  \n2                       11          -  \n3                       16          -  \n4                        7          +  \n..                     ...        ...  \n61                       4          -  \n62                       4          -  \n63                      14          -  \n64                       3          -  \n65                      16          -  \n\n[66 rows x 9 columns]",
      "text/html": "<div>\n<style scoped>\n    .dataframe tbody tr th:only-of-type {\n        vertical-align: middle;\n    }\n\n    .dataframe tbody tr th {\n        vertical-align: top;\n    }\n\n    .dataframe thead th {\n        text-align: right;\n    }\n</style>\n<table border=\"1\" class=\"dataframe\">\n  <thead>\n    <tr style=\"text-align: right;\">\n      <th></th>\n      <th>TCGA</th>\n      <th>PROTEIN</th>\n      <th>GENE</th>\n      <th>PATIENT_CORE_COUNT</th>\n      <th>PATIENT_INTERFACE_COUNT</th>\n      <th>NUM_INTERFACE_PATIENTS_DISRUPTIVE_INTERACTOR</th>\n      <th>RATIO_(prev_two_col)</th>\n      <th>NUM_UNIQUE_INTERACTORS</th>\n      <th>CGC_STATUS</th>\n    </tr>\n  </thead>\n  <tbody>\n    <tr>\n      <th>0</th>\n      <td>BRCA</td>\n      <td>P42336</td>\n      <td>PIK3CA</td>\n      <td>35</td>\n      <td>124</td>\n      <td>120</td>\n      <td>0.97</td>\n      <td>6</td>\n      <td>+</td>\n    </tr>\n    <tr>\n      <th>1</th>\n      <td>BRCA</td>\n      <td>P04637</td>\n      <td>TP53</td>\n      <td>141</td>\n      <td>55</td>\n      <td>52</td>\n      <td>0.95</td>\n      <td>17</td>\n      <td>+</td>\n    </tr>\n    <tr>\n      <th>2</th>\n      <td>BRCA</td>\n      <td>P68431</td>\n      <td>H3C1</td>\n      <td>1</td>\n      <td>13</td>\n      <td>12</td>\n      <td>0.92</td>\n      <td>11</td>\n      <td>-</td>\n    </tr>\n    <tr>\n      <th>3</th>\n      <td>BRCA</td>\n      <td>P62805</td>\n      <td>H4C1</td>\n      <td>6</td>\n      <td>11</td>\n      <td>10</td>\n      <td>0.91</td>\n      <td>16</td>\n      <td>-</td>\n    </tr>\n    <tr>\n      <th>4</th>\n      <td>BRCA</td>\n      <td>P45985</td>\n      <td>MAP2K4</td>\n      <td>3</td>\n      <td>8</td>\n      <td>7</td>\n      <td>0.88</td>\n      <td>7</td>\n      <td>+</td>\n    </tr>\n    <tr>\n      <th>...</th>\n      <td>...</td>\n      <td>...</td>\n      <td>...</td>\n      <td>...</td>\n      <td>...</td>\n      <td>...</td>\n      <td>...</td>\n      <td>...</td>\n      <td>...</td>\n    </tr>\n    <tr>\n      <th>61</th>\n      <td>COAD</td>\n      <td>Q16478</td>\n      <td>GRIK5</td>\n      <td>13</td>\n      <td>5</td>\n      <td>4</td>\n      <td>0.80</td>\n      <td>4</td>\n      <td>-</td>\n    </tr>\n    <tr>\n      <th>62</th>\n      <td>COAD</td>\n      <td>Q16659</td>\n      <td>MAPK6</td>\n      <td>2</td>\n      <td>5</td>\n      <td>4</td>\n      <td>0.80</td>\n      <td>4</td>\n      <td>-</td>\n    </tr>\n    <tr>\n      <th>63</th>\n      <td>COAD</td>\n      <td>P07948</td>\n      <td>LYN</td>\n      <td>3</td>\n      <td>8</td>\n      <td>6</td>\n      <td>0.75</td>\n      <td>14</td>\n      <td>-</td>\n    </tr>\n    <tr>\n      <th>64</th>\n      <td>COAD</td>\n      <td>Q9BXA7</td>\n      <td>TSSK1B</td>\n      <td>7</td>\n      <td>7</td>\n      <td>5</td>\n      <td>0.71</td>\n      <td>3</td>\n      <td>-</td>\n    </tr>\n    <tr>\n      <th>65</th>\n      <td>COAD</td>\n      <td>P43403</td>\n      <td>ZAP70</td>\n      <td>4</td>\n      <td>7</td>\n      <td>5</td>\n      <td>0.71</td>\n      <td>16</td>\n      <td>-</td>\n    </tr>\n  </tbody>\n</table>\n<p>66 rows × 9 columns</p>\n</div>"
     },
     "execution_count": 14,
     "metadata": {},
     "output_type": "execute_result"
    }
   ],
   "source": [
    "concated_preliminary_filtered_data"
   ],
   "metadata": {
    "collapsed": false,
    "pycharm": {
     "name": "#%%\n"
    }
   }
  },
  {
   "cell_type": "code",
   "execution_count": 14,
   "outputs": [
    {
     "data": {
      "text/plain": "    TCGA PROTEIN    GENE  PATIENT_CORE_COUNT  PATIENT_INTERFACE_COUNT  \\\n0   BRCA  P42336  PIK3CA                  35                      124   \n1   BRCA  P04637    TP53                 141                       55   \n2   BRCA  P68431    H3C1                   1                       13   \n3   BRCA  P62805    H4C1                   6                       11   \n4   BRCA  P45985  MAP2K4                   3                        8   \n..   ...     ...     ...                 ...                      ...   \n61  COAD  Q16478   GRIK5                  13                        5   \n62  COAD  Q16659   MAPK6                   2                        5   \n63  COAD  P07948     LYN                   3                        8   \n64  COAD  Q9BXA7  TSSK1B                   7                        7   \n65  COAD  P43403   ZAP70                   4                        7   \n\n    NUM_INTERFACE_PATIENTS_DISRUPTIVE_INTERACTOR  RATIO_(prev_two_col)  \\\n0                                            120                  0.97   \n1                                             52                  0.95   \n2                                             12                  0.92   \n3                                             10                  0.91   \n4                                              7                  0.88   \n..                                           ...                   ...   \n61                                             4                  0.80   \n62                                             4                  0.80   \n63                                             6                  0.75   \n64                                             5                  0.71   \n65                                             5                  0.71   \n\n    NUM_UNIQUE_INTERACTORS CGC_STATUS  \n0                        6          +  \n1                       17          +  \n2                       11          -  \n3                       16          -  \n4                        7          +  \n..                     ...        ...  \n61                       4          -  \n62                       4          -  \n63                      14          -  \n64                       3          -  \n65                      16          -  \n\n[66 rows x 9 columns]",
      "text/html": "<div>\n<style scoped>\n    .dataframe tbody tr th:only-of-type {\n        vertical-align: middle;\n    }\n\n    .dataframe tbody tr th {\n        vertical-align: top;\n    }\n\n    .dataframe thead th {\n        text-align: right;\n    }\n</style>\n<table border=\"1\" class=\"dataframe\">\n  <thead>\n    <tr style=\"text-align: right;\">\n      <th></th>\n      <th>TCGA</th>\n      <th>PROTEIN</th>\n      <th>GENE</th>\n      <th>PATIENT_CORE_COUNT</th>\n      <th>PATIENT_INTERFACE_COUNT</th>\n      <th>NUM_INTERFACE_PATIENTS_DISRUPTIVE_INTERACTOR</th>\n      <th>RATIO_(prev_two_col)</th>\n      <th>NUM_UNIQUE_INTERACTORS</th>\n      <th>CGC_STATUS</th>\n    </tr>\n  </thead>\n  <tbody>\n    <tr>\n      <th>0</th>\n      <td>BRCA</td>\n      <td>P42336</td>\n      <td>PIK3CA</td>\n      <td>35</td>\n      <td>124</td>\n      <td>120</td>\n      <td>0.97</td>\n      <td>6</td>\n      <td>+</td>\n    </tr>\n    <tr>\n      <th>1</th>\n      <td>BRCA</td>\n      <td>P04637</td>\n      <td>TP53</td>\n      <td>141</td>\n      <td>55</td>\n      <td>52</td>\n      <td>0.95</td>\n      <td>17</td>\n      <td>+</td>\n    </tr>\n    <tr>\n      <th>2</th>\n      <td>BRCA</td>\n      <td>P68431</td>\n      <td>H3C1</td>\n      <td>1</td>\n      <td>13</td>\n      <td>12</td>\n      <td>0.92</td>\n      <td>11</td>\n      <td>-</td>\n    </tr>\n    <tr>\n      <th>3</th>\n      <td>BRCA</td>\n      <td>P62805</td>\n      <td>H4C1</td>\n      <td>6</td>\n      <td>11</td>\n      <td>10</td>\n      <td>0.91</td>\n      <td>16</td>\n      <td>-</td>\n    </tr>\n    <tr>\n      <th>4</th>\n      <td>BRCA</td>\n      <td>P45985</td>\n      <td>MAP2K4</td>\n      <td>3</td>\n      <td>8</td>\n      <td>7</td>\n      <td>0.88</td>\n      <td>7</td>\n      <td>+</td>\n    </tr>\n    <tr>\n      <th>...</th>\n      <td>...</td>\n      <td>...</td>\n      <td>...</td>\n      <td>...</td>\n      <td>...</td>\n      <td>...</td>\n      <td>...</td>\n      <td>...</td>\n      <td>...</td>\n    </tr>\n    <tr>\n      <th>61</th>\n      <td>COAD</td>\n      <td>Q16478</td>\n      <td>GRIK5</td>\n      <td>13</td>\n      <td>5</td>\n      <td>4</td>\n      <td>0.80</td>\n      <td>4</td>\n      <td>-</td>\n    </tr>\n    <tr>\n      <th>62</th>\n      <td>COAD</td>\n      <td>Q16659</td>\n      <td>MAPK6</td>\n      <td>2</td>\n      <td>5</td>\n      <td>4</td>\n      <td>0.80</td>\n      <td>4</td>\n      <td>-</td>\n    </tr>\n    <tr>\n      <th>63</th>\n      <td>COAD</td>\n      <td>P07948</td>\n      <td>LYN</td>\n      <td>3</td>\n      <td>8</td>\n      <td>6</td>\n      <td>0.75</td>\n      <td>14</td>\n      <td>-</td>\n    </tr>\n    <tr>\n      <th>64</th>\n      <td>COAD</td>\n      <td>Q9BXA7</td>\n      <td>TSSK1B</td>\n      <td>7</td>\n      <td>7</td>\n      <td>5</td>\n      <td>0.71</td>\n      <td>3</td>\n      <td>-</td>\n    </tr>\n    <tr>\n      <th>65</th>\n      <td>COAD</td>\n      <td>P43403</td>\n      <td>ZAP70</td>\n      <td>4</td>\n      <td>7</td>\n      <td>5</td>\n      <td>0.71</td>\n      <td>16</td>\n      <td>-</td>\n    </tr>\n  </tbody>\n</table>\n<p>66 rows × 9 columns</p>\n</div>"
     },
     "execution_count": 14,
     "metadata": {},
     "output_type": "execute_result"
    }
   ],
   "source": [
    "concated_preliminary_filtered_data"
   ],
   "metadata": {
    "collapsed": false,
    "pycharm": {
     "name": "#%%\n"
    }
   }
  },
  {
   "cell_type": "code",
   "execution_count": 12,
   "outputs": [],
   "source": [
    "concated_preliminary_filtered_data.to_clipboard()"
   ],
   "metadata": {
    "collapsed": false,
    "pycharm": {
     "name": "#%%\n"
    }
   }
  },
  {
   "cell_type": "code",
   "execution_count": null,
   "outputs": [],
   "source": [],
   "metadata": {
    "collapsed": false,
    "pycharm": {
     "name": "#%%\n"
    }
   }
  },
  {
   "cell_type": "code",
   "execution_count": null,
   "outputs": [],
   "source": [],
   "metadata": {
    "collapsed": false,
    "pycharm": {
     "name": "#%%\n"
    }
   }
  },
  {
   "cell_type": "code",
   "execution_count": null,
   "outputs": [],
   "source": [],
   "metadata": {
    "collapsed": false,
    "pycharm": {
     "name": "#%%\n"
    }
   }
  },
  {
   "cell_type": "code",
   "execution_count": null,
   "outputs": [],
   "source": [],
   "metadata": {
    "collapsed": false,
    "pycharm": {
     "name": "#%%\n"
    }
   }
  },
  {
   "cell_type": "code",
   "execution_count": null,
   "outputs": [],
   "source": [],
   "metadata": {
    "collapsed": false,
    "pycharm": {
     "name": "#%%\n"
    }
   }
  },
  {
   "cell_type": "code",
   "execution_count": null,
   "outputs": [],
   "source": [],
   "metadata": {
    "collapsed": false,
    "pycharm": {
     "name": "#%%\n"
    }
   }
  },
  {
   "cell_type": "code",
   "execution_count": null,
   "outputs": [],
   "source": [],
   "metadata": {
    "collapsed": false,
    "pycharm": {
     "name": "#%%\n"
    }
   }
  },
  {
   "cell_type": "markdown",
   "source": [
    "- - -"
   ],
   "metadata": {
    "collapsed": false,
    "pycharm": {
     "name": "#%% md\n"
    }
   }
  },
  {
   "cell_type": "code",
   "execution_count": null,
   "outputs": [],
   "source": [],
   "metadata": {
    "collapsed": false,
    "pycharm": {
     "name": "#%%\n"
    }
   }
  },
  {
   "cell_type": "markdown",
   "source": [
    "## Construct Table (Relatively simplified)"
   ],
   "metadata": {
    "collapsed": false,
    "pycharm": {
     "name": "#%% md\n"
    }
   }
  },
  {
   "cell_type": "raw",
   "source": [
    "PATIENT_CORE_COUNT,\n",
    "PATIENT_INTERFACE_COUNT,\n",
    "NUM_INTERFACE_PATIENTS_DISRUPTIVE_INTERACTOR,\n",
    "RATIO\n",
    "NUM_UNIQUE_INTERACTORS\n"
   ],
   "metadata": {
    "collapsed": false,
    "pycharm": {
     "name": "#%% raw\n"
    }
   }
  },
  {
   "cell_type": "code",
   "execution_count": 9,
   "outputs": [],
   "source": [
    "brca_data = preliminary_data_filtered[\n",
    "    [\"GENE\", \"PATIENT_CORE_COUNT\", \"PATIENT_INTERFACE_COUNT\", \"NUM_INTERFACE_PATIENTS_DISRUPTIVE_INTERACTOR\"]\n",
    "].copy()\n",
    "brca_data[\"RATIO_(prev_two_col)\"] = brca_data[\"NUM_INTERFACE_PATIENTS_DISRUPTIVE_INTERACTOR\"] / brca_data[\"PATIENT_INTERFACE_COUNT\"]\n",
    "brca_data[\"RATIO_(prev_two_col)\"] = brca_data[\"RATIO_(prev_two_col)\"].apply(lambda x: round(x, 2))\n",
    "brca_data[\"NUM_UNIQUE_INTERACTORS\"] = preliminary_data_filtered[\"NUM_UNIQUE_INTERACTORS\"]\n",
    "brca_data = brca_data.sort_values(\"RATIO_(prev_two_col)\", ascending=False)"
   ],
   "metadata": {
    "collapsed": false,
    "pycharm": {
     "name": "#%%\n"
    }
   }
  },
  {
   "cell_type": "code",
   "execution_count": 10,
   "outputs": [
    {
     "data": {
      "text/plain": "        GENE  PATIENT_CORE_COUNT  PATIENT_INTERFACE_COUNT  \\\n2465  PIK3CA                  35                      124   \n1204    TP53                 141                       55   \n3126    H3C1                   1                       13   \n3091    H4C1                   6                       11   \n2534  MAP2K4                   3                        8   \n1201   ERBB2                  12                       14   \n1447     UBC                   0                        7   \n\n      NUM_INTERFACE_PATIENTS_DISRUPTIVE_INTERACTOR  RATIO_(prev_two_col)  \\\n2465                                           120                  0.97   \n1204                                            52                  0.95   \n3126                                            12                  0.92   \n3091                                            10                  0.91   \n2534                                             7                  0.88   \n1201                                            12                  0.86   \n1447                                             6                  0.86   \n\n      NUM_UNIQUE_INTERACTORS  \n2465                       6  \n1204                      17  \n3126                      11  \n3091                      16  \n2534                       7  \n1201                      16  \n1447                       7  ",
      "text/html": "<div>\n<style scoped>\n    .dataframe tbody tr th:only-of-type {\n        vertical-align: middle;\n    }\n\n    .dataframe tbody tr th {\n        vertical-align: top;\n    }\n\n    .dataframe thead th {\n        text-align: right;\n    }\n</style>\n<table border=\"1\" class=\"dataframe\">\n  <thead>\n    <tr style=\"text-align: right;\">\n      <th></th>\n      <th>GENE</th>\n      <th>PATIENT_CORE_COUNT</th>\n      <th>PATIENT_INTERFACE_COUNT</th>\n      <th>NUM_INTERFACE_PATIENTS_DISRUPTIVE_INTERACTOR</th>\n      <th>RATIO_(prev_two_col)</th>\n      <th>NUM_UNIQUE_INTERACTORS</th>\n    </tr>\n  </thead>\n  <tbody>\n    <tr>\n      <th>2465</th>\n      <td>PIK3CA</td>\n      <td>35</td>\n      <td>124</td>\n      <td>120</td>\n      <td>0.97</td>\n      <td>6</td>\n    </tr>\n    <tr>\n      <th>1204</th>\n      <td>TP53</td>\n      <td>141</td>\n      <td>55</td>\n      <td>52</td>\n      <td>0.95</td>\n      <td>17</td>\n    </tr>\n    <tr>\n      <th>3126</th>\n      <td>H3C1</td>\n      <td>1</td>\n      <td>13</td>\n      <td>12</td>\n      <td>0.92</td>\n      <td>11</td>\n    </tr>\n    <tr>\n      <th>3091</th>\n      <td>H4C1</td>\n      <td>6</td>\n      <td>11</td>\n      <td>10</td>\n      <td>0.91</td>\n      <td>16</td>\n    </tr>\n    <tr>\n      <th>2534</th>\n      <td>MAP2K4</td>\n      <td>3</td>\n      <td>8</td>\n      <td>7</td>\n      <td>0.88</td>\n      <td>7</td>\n    </tr>\n    <tr>\n      <th>1201</th>\n      <td>ERBB2</td>\n      <td>12</td>\n      <td>14</td>\n      <td>12</td>\n      <td>0.86</td>\n      <td>16</td>\n    </tr>\n    <tr>\n      <th>1447</th>\n      <td>UBC</td>\n      <td>0</td>\n      <td>7</td>\n      <td>6</td>\n      <td>0.86</td>\n      <td>7</td>\n    </tr>\n  </tbody>\n</table>\n</div>"
     },
     "execution_count": 10,
     "metadata": {},
     "output_type": "execute_result"
    }
   ],
   "source": [
    "brca_data"
   ],
   "metadata": {
    "collapsed": false,
    "pycharm": {
     "name": "#%%\n"
    }
   }
  },
  {
   "cell_type": "code",
   "execution_count": 11,
   "outputs": [],
   "source": [
    "brca_data.to_clipboard()"
   ],
   "metadata": {
    "collapsed": false,
    "pycharm": {
     "name": "#%%\n"
    }
   }
  },
  {
   "cell_type": "code",
   "execution_count": null,
   "outputs": [],
   "source": [],
   "metadata": {
    "collapsed": false,
    "pycharm": {
     "name": "#%%\n"
    }
   }
  },
  {
   "cell_type": "code",
   "execution_count": null,
   "outputs": [],
   "source": [],
   "metadata": {
    "collapsed": false,
    "pycharm": {
     "name": "#%%\n"
    }
   }
  },
  {
   "cell_type": "code",
   "execution_count": null,
   "outputs": [],
   "source": [],
   "metadata": {
    "collapsed": false,
    "pycharm": {
     "name": "#%%\n"
    }
   }
  },
  {
   "cell_type": "code",
   "execution_count": 21,
   "outputs": [
    {
     "data": {
      "text/plain": "                    PATIENT_INTERFACE_COUNT  \\\nPATIENT_CORE_COUNT                            \n12                                       14   \n141                                      55   \n0                                         7   \n35                                      124   \n3                                         8   \n6                                        11   \n1                                        13   \n\n                    NUM_INTERFACE_PATIENTS_DISRUPTIVE_INTERACTOR  \\\nPATIENT_CORE_COUNT                                                 \n12                                                            12   \n141                                                           52   \n0                                                              6   \n35                                                           120   \n3                                                              7   \n6                                                             10   \n1                                                             12   \n\n                    RATIO_(prev_two_col)  NUM_UNIQUE_INTERACTORS  \nPATIENT_CORE_COUNT                                                \n12                              0.857143                      16  \n141                             0.945455                      17  \n0                               0.857143                       7  \n35                              0.967742                       6  \n3                               0.875000                       7  \n6                               0.909091                      16  \n1                               0.923077                      11  ",
      "text/html": "<div>\n<style scoped>\n    .dataframe tbody tr th:only-of-type {\n        vertical-align: middle;\n    }\n\n    .dataframe tbody tr th {\n        vertical-align: top;\n    }\n\n    .dataframe thead th {\n        text-align: right;\n    }\n</style>\n<table border=\"1\" class=\"dataframe\">\n  <thead>\n    <tr style=\"text-align: right;\">\n      <th></th>\n      <th>PATIENT_INTERFACE_COUNT</th>\n      <th>NUM_INTERFACE_PATIENTS_DISRUPTIVE_INTERACTOR</th>\n      <th>RATIO_(prev_two_col)</th>\n      <th>NUM_UNIQUE_INTERACTORS</th>\n    </tr>\n    <tr>\n      <th>PATIENT_CORE_COUNT</th>\n      <th></th>\n      <th></th>\n      <th></th>\n      <th></th>\n    </tr>\n  </thead>\n  <tbody>\n    <tr>\n      <th>12</th>\n      <td>14</td>\n      <td>12</td>\n      <td>0.857143</td>\n      <td>16</td>\n    </tr>\n    <tr>\n      <th>141</th>\n      <td>55</td>\n      <td>52</td>\n      <td>0.945455</td>\n      <td>17</td>\n    </tr>\n    <tr>\n      <th>0</th>\n      <td>7</td>\n      <td>6</td>\n      <td>0.857143</td>\n      <td>7</td>\n    </tr>\n    <tr>\n      <th>35</th>\n      <td>124</td>\n      <td>120</td>\n      <td>0.967742</td>\n      <td>6</td>\n    </tr>\n    <tr>\n      <th>3</th>\n      <td>8</td>\n      <td>7</td>\n      <td>0.875000</td>\n      <td>7</td>\n    </tr>\n    <tr>\n      <th>6</th>\n      <td>11</td>\n      <td>10</td>\n      <td>0.909091</td>\n      <td>16</td>\n    </tr>\n    <tr>\n      <th>1</th>\n      <td>13</td>\n      <td>12</td>\n      <td>0.923077</td>\n      <td>11</td>\n    </tr>\n  </tbody>\n</table>\n</div>"
     },
     "execution_count": 21,
     "metadata": {},
     "output_type": "execute_result"
    }
   ],
   "source": [
    "brca_data = brca_data.reset_index(drop=True)\n",
    "brca_data = brca_data.set_index(\"PATIENT_CORE_COUNT\")\n",
    "brca_data"
   ],
   "metadata": {
    "collapsed": false,
    "pycharm": {
     "name": "#%%\n"
    }
   }
  },
  {
   "cell_type": "code",
   "execution_count": 22,
   "outputs": [
    {
     "name": "stdout",
     "output_type": "stream",
     "text": [
      "\\begin{tabular}{lrrrr}\n",
      "\\toprule\n",
      "{} &  PATIENT\\_INTERFACE\\_COUNT &  NUM\\_INTERFACE\\_PATIENTS\\_DISRUPTIVE\\_INTERACTOR &  RATIO\\_(prev\\_two\\_col) &  NUM\\_UNIQUE\\_INTERACTORS \\\\\n",
      "PATIENT\\_CORE\\_COUNT &                          &                                               &                       &                         \\\\\n",
      "\\midrule\n",
      "12                 &                       14 &                                            12 &              0.857143 &                      16 \\\\\n",
      "141                &                       55 &                                            52 &              0.945455 &                      17 \\\\\n",
      "0                  &                        7 &                                             6 &              0.857143 &                       7 \\\\\n",
      "35                 &                      124 &                                           120 &              0.967742 &                       6 \\\\\n",
      "3                  &                        8 &                                             7 &              0.875000 &                       7 \\\\\n",
      "6                  &                       11 &                                            10 &              0.909091 &                      16 \\\\\n",
      "1                  &                       13 &                                            12 &              0.923077 &                      11 \\\\\n",
      "\\bottomrule\n",
      "\\end{tabular}\n",
      "\n"
     ]
    }
   ],
   "source": [
    "print(brca_data.to_latex())"
   ],
   "metadata": {
    "collapsed": false,
    "pycharm": {
     "name": "#%%\n"
    }
   }
  },
  {
   "cell_type": "code",
   "execution_count": 7,
   "outputs": [],
   "source": [],
   "metadata": {
    "collapsed": false,
    "pycharm": {
     "name": "#%%\n"
    }
   }
  },
  {
   "cell_type": "code",
   "execution_count": null,
   "outputs": [],
   "source": [],
   "metadata": {
    "collapsed": false,
    "pycharm": {
     "name": "#%%\n"
    }
   }
  }
 ],
 "metadata": {
  "kernelspec": {
   "display_name": "Predicting-Mutation-Effects",
   "language": "python",
   "name": "predicting-mutation-effects"
  },
  "language_info": {
   "codemirror_mode": {
    "name": "ipython",
    "version": 3
   },
   "file_extension": ".py",
   "mimetype": "text/x-python",
   "name": "python",
   "nbconvert_exporter": "python",
   "pygments_lexer": "ipython3",
   "version": "3.8.10"
  }
 },
 "nbformat": 4,
 "nbformat_minor": 5
}