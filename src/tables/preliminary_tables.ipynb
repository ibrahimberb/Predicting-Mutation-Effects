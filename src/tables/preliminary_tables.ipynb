{
 "cells": [
  {
   "cell_type": "markdown",
   "id": "1faf96bb-2d37-4d6a-b1ad-459fae4ee667",
   "metadata": {
    "pycharm": {
     "name": "#%% md\n"
    }
   },
   "source": [
    "# Preliminary Data"
   ]
  },
  {
   "cell_type": "markdown",
   "source": [
    "### Setup"
   ],
   "metadata": {
    "collapsed": false
   }
  },
  {
   "cell_type": "code",
   "execution_count": 1,
   "outputs": [],
   "source": [
    "import pandas as pd\n",
    "from pandas import DataFrame\n",
    "\n",
    "# Preliminary Data Paths\n",
    "BRCA_PRELIMINARY_DATA_PATH = r\"../../data/predictions_datasets/brca_prediction_2021-11-17/558297b6/brca_preliminary_data_cgc_2021-11-17.xlsx\"\n",
    "ESCA_PRELIMINARY_DATA_PATH = r\"../../data/predictions_datasets/esca_prediction_2021-11-17/59544312/esca_preliminary_data_cgc_2021-11-17.xlsx\"\n",
    "GBM_PRELIMINARY_DATA_PATH = r\"../../data/predictions_datasets/gbm_prediction_2021-11-17/b9cfc7ea/gbm_preliminary_data_cgc_2021-11-17.xlsx\"\n",
    "HNSC_PRELIMINARY_DATA_PATH = r\"../../data/predictions_datasets/hnsc_prediction_2021-11-17/53930f30/hnsc_preliminary_data_cgc_2021-11-17.xlsx\"\n",
    "OV_PRELIMINARY_DATA_PATH = r\"../../data/predictions_datasets/ov_prediction_2021-11-17/37bf1637/ov_preliminary_data_cgc_2021-11-17.xlsx\"\n",
    "\n",
    "# Reflect changes in the modules immediately.\n",
    "%load_ext autoreload\n",
    "%autoreload 2"
   ],
   "metadata": {
    "collapsed": false,
    "pycharm": {
     "name": "#%%\n"
    }
   }
  },
  {
   "cell_type": "markdown",
   "source": [
    "### Filtering Condition"
   ],
   "metadata": {
    "collapsed": false,
    "pycharm": {
     "name": "#%% md\n"
    }
   }
  },
  {
   "cell_type": "markdown",
   "source": [
    "[11:21, 13/12/2021] Hilal Kazan (ABU CS Prof. ): BRCA ve bütün diğer kohortlar için şu filtreleme daha uygun olacak sanıyorum\n",
    "[11:21, 13/12/2021] Hilal Kazan (ABU CS Prof. ): interaction count > 5\n",
    "[11:21, 13/12/2021] Hilal Kazan (ABU CS Prof. ): disruptive ratio > 0.7"
   ],
   "metadata": {
    "collapsed": false
   }
  },
  {
   "cell_type": "code",
   "execution_count": 2,
   "outputs": [],
   "source": [
    "def round_decimals(x, n_decimals=2):\n",
    "    if isinstance(x, float):\n",
    "        try:\n",
    "            return round(x, n_decimals)\n",
    "        except TypeError:\n",
    "            print(f\"VALUE X={x}\")\n",
    "    else:\n",
    "        return x"
   ],
   "metadata": {
    "collapsed": false,
    "pycharm": {
     "name": "#%%\n"
    }
   }
  },
  {
   "cell_type": "code",
   "execution_count": 3,
   "outputs": [],
   "source": [
    "def filterer(data, tcga) -> DataFrame:\n",
    "    data_filtered = data.copy()\n",
    "    # Disruptive ratio\n",
    "    data_filtered[\"RATIO_(prev_two_col)\"] = data_filtered[\"NUM_INTERFACE_PATIENTS_DISRUPTIVE_INTERACTOR\"] / data_filtered[\"PATIENT_INTERFACE_COUNT\"]\n",
    "    # Round the ratio values.\n",
    "    data_filtered[\"RATIO_(prev_two_col)\"] = data_filtered[\"RATIO_(prev_two_col)\"].apply(lambda x: round_decimals(x))\n",
    "    # Filtering based on given conditions.\n",
    "    data_filtered = data_filtered[\n",
    "        (data_filtered[\"NUM_INTERFACE_PATIENTS_DISRUPTIVE_INTERACTOR\"] >= 5) &\n",
    "        (data_filtered[\"RATIO_(prev_two_col)\"] >= 0.7)\n",
    "    ].copy()\n",
    "\n",
    "    # Keep only relevant columns\n",
    "    data_filtered = data_filtered[\n",
    "        [\"PROTEIN\", \"GENE\", \"PATIENT_CORE_COUNT\", \"PATIENT_INTERFACE_COUNT\", \"NUM_INTERFACE_PATIENTS_DISRUPTIVE_INTERACTOR\", \"RATIO_(prev_two_col)\", \"NUM_UNIQUE_INTERACTORS\", \"CGC_STATUS\"]\n",
    "    ].copy()\n",
    "\n",
    "    data_filtered.insert(0, \"TCGA\", tcga)\n",
    "\n",
    "    data_filtered = data_filtered.sort_values(\"RATIO_(prev_two_col)\", ascending=False)\n",
    "\n",
    "    return data_filtered\n"
   ],
   "metadata": {
    "collapsed": false,
    "pycharm": {
     "name": "#%%\n"
    }
   }
  },
  {
   "cell_type": "code",
   "execution_count": 4,
   "outputs": [],
   "source": [
    "brca_preliminary_data = pd.read_excel(BRCA_PRELIMINARY_DATA_PATH)\n",
    "esca_preliminary_data = pd.read_excel(ESCA_PRELIMINARY_DATA_PATH)\n",
    "gbm_preliminary_data = pd.read_excel(GBM_PRELIMINARY_DATA_PATH)\n",
    "hnsc_preliminary_data = pd.read_excel(HNSC_PRELIMINARY_DATA_PATH)\n",
    "ov_preliminary_data = pd.read_excel(OV_PRELIMINARY_DATA_PATH)"
   ],
   "metadata": {
    "collapsed": false,
    "pycharm": {
     "name": "#%%\n"
    }
   }
  },
  {
   "cell_type": "code",
   "execution_count": 5,
   "outputs": [],
   "source": [
    "brca_preliminary_data_filtered = filterer(brca_preliminary_data, \"BRCA\")\n",
    "esca_preliminary_data_filtered = filterer(esca_preliminary_data, \"ESCA\")\n",
    "gbm_preliminary_data_filtered = filterer(gbm_preliminary_data, \"GBM\")\n",
    "hnsc_preliminary_data_filtered = filterer(hnsc_preliminary_data, \"HNSC\")\n",
    "ov_preliminary_data_filtered = filterer(ov_preliminary_data, \"OV\")"
   ],
   "metadata": {
    "collapsed": false,
    "pycharm": {
     "name": "#%%\n"
    }
   }
  },
  {
   "cell_type": "code",
   "execution_count": 6,
   "outputs": [
    {
     "data": {
      "text/plain": "      TCGA PROTEIN    GENE  PATIENT_CORE_COUNT  PATIENT_INTERFACE_COUNT  \\\n2465  BRCA  P42336  PIK3CA                  35                      124   \n1204  BRCA  P04637    TP53                 141                       55   \n3126  BRCA  P68431    H3C1                   1                       13   \n3091  BRCA  P62805    H4C1                   6                       11   \n2534  BRCA  P45985  MAP2K4                   3                        8   \n1201  BRCA  P04626   ERBB2                  12                       14   \n1447  BRCA  P0CG48     UBC                   0                        7   \n\n      NUM_INTERFACE_PATIENTS_DISRUPTIVE_INTERACTOR  RATIO_(prev_two_col)  \\\n2465                                           120                  0.97   \n1204                                            52                  0.95   \n3126                                            12                  0.92   \n3091                                            10                  0.91   \n2534                                             7                  0.88   \n1201                                            12                  0.86   \n1447                                             6                  0.86   \n\n      NUM_UNIQUE_INTERACTORS CGC_STATUS  \n2465                       6          +  \n1204                      17          +  \n3126                      11          -  \n3091                      16          -  \n2534                       7          +  \n1201                      16          +  \n1447                       7          -  ",
      "text/html": "<div>\n<style scoped>\n    .dataframe tbody tr th:only-of-type {\n        vertical-align: middle;\n    }\n\n    .dataframe tbody tr th {\n        vertical-align: top;\n    }\n\n    .dataframe thead th {\n        text-align: right;\n    }\n</style>\n<table border=\"1\" class=\"dataframe\">\n  <thead>\n    <tr style=\"text-align: right;\">\n      <th></th>\n      <th>TCGA</th>\n      <th>PROTEIN</th>\n      <th>GENE</th>\n      <th>PATIENT_CORE_COUNT</th>\n      <th>PATIENT_INTERFACE_COUNT</th>\n      <th>NUM_INTERFACE_PATIENTS_DISRUPTIVE_INTERACTOR</th>\n      <th>RATIO_(prev_two_col)</th>\n      <th>NUM_UNIQUE_INTERACTORS</th>\n      <th>CGC_STATUS</th>\n    </tr>\n  </thead>\n  <tbody>\n    <tr>\n      <th>2465</th>\n      <td>BRCA</td>\n      <td>P42336</td>\n      <td>PIK3CA</td>\n      <td>35</td>\n      <td>124</td>\n      <td>120</td>\n      <td>0.97</td>\n      <td>6</td>\n      <td>+</td>\n    </tr>\n    <tr>\n      <th>1204</th>\n      <td>BRCA</td>\n      <td>P04637</td>\n      <td>TP53</td>\n      <td>141</td>\n      <td>55</td>\n      <td>52</td>\n      <td>0.95</td>\n      <td>17</td>\n      <td>+</td>\n    </tr>\n    <tr>\n      <th>3126</th>\n      <td>BRCA</td>\n      <td>P68431</td>\n      <td>H3C1</td>\n      <td>1</td>\n      <td>13</td>\n      <td>12</td>\n      <td>0.92</td>\n      <td>11</td>\n      <td>-</td>\n    </tr>\n    <tr>\n      <th>3091</th>\n      <td>BRCA</td>\n      <td>P62805</td>\n      <td>H4C1</td>\n      <td>6</td>\n      <td>11</td>\n      <td>10</td>\n      <td>0.91</td>\n      <td>16</td>\n      <td>-</td>\n    </tr>\n    <tr>\n      <th>2534</th>\n      <td>BRCA</td>\n      <td>P45985</td>\n      <td>MAP2K4</td>\n      <td>3</td>\n      <td>8</td>\n      <td>7</td>\n      <td>0.88</td>\n      <td>7</td>\n      <td>+</td>\n    </tr>\n    <tr>\n      <th>1201</th>\n      <td>BRCA</td>\n      <td>P04626</td>\n      <td>ERBB2</td>\n      <td>12</td>\n      <td>14</td>\n      <td>12</td>\n      <td>0.86</td>\n      <td>16</td>\n      <td>+</td>\n    </tr>\n    <tr>\n      <th>1447</th>\n      <td>BRCA</td>\n      <td>P0CG48</td>\n      <td>UBC</td>\n      <td>0</td>\n      <td>7</td>\n      <td>6</td>\n      <td>0.86</td>\n      <td>7</td>\n      <td>-</td>\n    </tr>\n  </tbody>\n</table>\n</div>"
     },
     "execution_count": 6,
     "metadata": {},
     "output_type": "execute_result"
    }
   ],
   "source": [
    "brca_preliminary_data_filtered"
   ],
   "metadata": {
    "collapsed": false,
    "pycharm": {
     "name": "#%%\n"
    }
   }
  },
  {
   "cell_type": "code",
   "execution_count": 7,
   "outputs": [],
   "source": [
    "concated_preliminary_filtered_data = pd.concat(\n",
    "    [\n",
    "        brca_preliminary_data_filtered,\n",
    "        esca_preliminary_data_filtered,\n",
    "        gbm_preliminary_data_filtered,\n",
    "        hnsc_preliminary_data_filtered,\n",
    "        ov_preliminary_data_filtered,\n",
    "    ], ignore_index=True\n",
    ")"
   ],
   "metadata": {
    "collapsed": false,
    "pycharm": {
     "name": "#%%\n"
    }
   }
  },
  {
   "cell_type": "code",
   "execution_count": 8,
   "outputs": [
    {
     "data": {
      "text/plain": "    TCGA PROTEIN    GENE  PATIENT_CORE_COUNT  PATIENT_INTERFACE_COUNT  \\\n0   BRCA  P42336  PIK3CA                  35                      124   \n1   BRCA  P04637    TP53                 141                       55   \n2   BRCA  P68431    H3C1                   1                       13   \n3   BRCA  P62805    H4C1                   6                       11   \n4   BRCA  P45985  MAP2K4                   3                        8   \n5   BRCA  P04626   ERBB2                  12                       14   \n6   BRCA  P0CG48     UBC                   0                        7   \n7   ESCA  P04637    TP53                  56                       35   \n8   ESCA  P62805    H4C1                   2                        7   \n9    GBM  P04637    TP53                  52                       35   \n10  HNSC  P01112    HRAS                   1                       26   \n11  HNSC  P15056    BRAF                   0                        6   \n12  HNSC  P49336    CDK8                   2                        6   \n13  HNSC  P63000    RAC1                   0                       11   \n14  HNSC  Q14790   CASP8                  13                        5   \n15  HNSC  P04637    TP53                 134                       59   \n16  HNSC  Q969H0   FBXW7                   2                       18   \n17  HNSC  P42336  PIK3CA                  13                       14   \n18  HNSC  P42771  CDKN2A                   1                       19   \n19  HNSC  P22607   FGFR3                   0                        6   \n20  HNSC  Q7Z6Z7   HUWE1                   5                        8   \n21  HNSC  P62805    H4C1                   7                       23   \n22    OV  P04637    TP53                 147                       80   \n23    OV  P62805    H4C1                   8                        8   \n\n    NUM_INTERFACE_PATIENTS_DISRUPTIVE_INTERACTOR  RATIO_(prev_two_col)  \\\n0                                            120                  0.97   \n1                                             52                  0.95   \n2                                             12                  0.92   \n3                                             10                  0.91   \n4                                              7                  0.88   \n5                                             12                  0.86   \n6                                              6                  0.86   \n7                                             34                  0.97   \n8                                              6                  0.86   \n9                                             35                  1.00   \n10                                            26                  1.00   \n11                                             6                  1.00   \n12                                             6                  1.00   \n13                                            11                  1.00   \n14                                             5                  1.00   \n15                                            58                  0.98   \n16                                            17                  0.94   \n17                                            13                  0.93   \n18                                            17                  0.89   \n19                                             5                  0.83   \n20                                             6                  0.75   \n21                                            17                  0.74   \n22                                            80                  1.00   \n23                                             6                  0.75   \n\n    NUM_UNIQUE_INTERACTORS CGC_STATUS  \n0                        6          +  \n1                       17          +  \n2                       11          -  \n3                       16          -  \n4                        7          +  \n5                       16          +  \n6                        7          -  \n7                       17          +  \n8                       11          -  \n9                       19          +  \n10                      26          +  \n11                       6          +  \n12                       3          -  \n13                       8          +  \n14                       5          +  \n15                      16          +  \n16                       3          +  \n17                       5          +  \n18                      23          +  \n19                      20          +  \n20                       8          -  \n21                      17          -  \n22                      19          +  \n23                      18          -  ",
      "text/html": "<div>\n<style scoped>\n    .dataframe tbody tr th:only-of-type {\n        vertical-align: middle;\n    }\n\n    .dataframe tbody tr th {\n        vertical-align: top;\n    }\n\n    .dataframe thead th {\n        text-align: right;\n    }\n</style>\n<table border=\"1\" class=\"dataframe\">\n  <thead>\n    <tr style=\"text-align: right;\">\n      <th></th>\n      <th>TCGA</th>\n      <th>PROTEIN</th>\n      <th>GENE</th>\n      <th>PATIENT_CORE_COUNT</th>\n      <th>PATIENT_INTERFACE_COUNT</th>\n      <th>NUM_INTERFACE_PATIENTS_DISRUPTIVE_INTERACTOR</th>\n      <th>RATIO_(prev_two_col)</th>\n      <th>NUM_UNIQUE_INTERACTORS</th>\n      <th>CGC_STATUS</th>\n    </tr>\n  </thead>\n  <tbody>\n    <tr>\n      <th>0</th>\n      <td>BRCA</td>\n      <td>P42336</td>\n      <td>PIK3CA</td>\n      <td>35</td>\n      <td>124</td>\n      <td>120</td>\n      <td>0.97</td>\n      <td>6</td>\n      <td>+</td>\n    </tr>\n    <tr>\n      <th>1</th>\n      <td>BRCA</td>\n      <td>P04637</td>\n      <td>TP53</td>\n      <td>141</td>\n      <td>55</td>\n      <td>52</td>\n      <td>0.95</td>\n      <td>17</td>\n      <td>+</td>\n    </tr>\n    <tr>\n      <th>2</th>\n      <td>BRCA</td>\n      <td>P68431</td>\n      <td>H3C1</td>\n      <td>1</td>\n      <td>13</td>\n      <td>12</td>\n      <td>0.92</td>\n      <td>11</td>\n      <td>-</td>\n    </tr>\n    <tr>\n      <th>3</th>\n      <td>BRCA</td>\n      <td>P62805</td>\n      <td>H4C1</td>\n      <td>6</td>\n      <td>11</td>\n      <td>10</td>\n      <td>0.91</td>\n      <td>16</td>\n      <td>-</td>\n    </tr>\n    <tr>\n      <th>4</th>\n      <td>BRCA</td>\n      <td>P45985</td>\n      <td>MAP2K4</td>\n      <td>3</td>\n      <td>8</td>\n      <td>7</td>\n      <td>0.88</td>\n      <td>7</td>\n      <td>+</td>\n    </tr>\n    <tr>\n      <th>5</th>\n      <td>BRCA</td>\n      <td>P04626</td>\n      <td>ERBB2</td>\n      <td>12</td>\n      <td>14</td>\n      <td>12</td>\n      <td>0.86</td>\n      <td>16</td>\n      <td>+</td>\n    </tr>\n    <tr>\n      <th>6</th>\n      <td>BRCA</td>\n      <td>P0CG48</td>\n      <td>UBC</td>\n      <td>0</td>\n      <td>7</td>\n      <td>6</td>\n      <td>0.86</td>\n      <td>7</td>\n      <td>-</td>\n    </tr>\n    <tr>\n      <th>7</th>\n      <td>ESCA</td>\n      <td>P04637</td>\n      <td>TP53</td>\n      <td>56</td>\n      <td>35</td>\n      <td>34</td>\n      <td>0.97</td>\n      <td>17</td>\n      <td>+</td>\n    </tr>\n    <tr>\n      <th>8</th>\n      <td>ESCA</td>\n      <td>P62805</td>\n      <td>H4C1</td>\n      <td>2</td>\n      <td>7</td>\n      <td>6</td>\n      <td>0.86</td>\n      <td>11</td>\n      <td>-</td>\n    </tr>\n    <tr>\n      <th>9</th>\n      <td>GBM</td>\n      <td>P04637</td>\n      <td>TP53</td>\n      <td>52</td>\n      <td>35</td>\n      <td>35</td>\n      <td>1.00</td>\n      <td>19</td>\n      <td>+</td>\n    </tr>\n    <tr>\n      <th>10</th>\n      <td>HNSC</td>\n      <td>P01112</td>\n      <td>HRAS</td>\n      <td>1</td>\n      <td>26</td>\n      <td>26</td>\n      <td>1.00</td>\n      <td>26</td>\n      <td>+</td>\n    </tr>\n    <tr>\n      <th>11</th>\n      <td>HNSC</td>\n      <td>P15056</td>\n      <td>BRAF</td>\n      <td>0</td>\n      <td>6</td>\n      <td>6</td>\n      <td>1.00</td>\n      <td>6</td>\n      <td>+</td>\n    </tr>\n    <tr>\n      <th>12</th>\n      <td>HNSC</td>\n      <td>P49336</td>\n      <td>CDK8</td>\n      <td>2</td>\n      <td>6</td>\n      <td>6</td>\n      <td>1.00</td>\n      <td>3</td>\n      <td>-</td>\n    </tr>\n    <tr>\n      <th>13</th>\n      <td>HNSC</td>\n      <td>P63000</td>\n      <td>RAC1</td>\n      <td>0</td>\n      <td>11</td>\n      <td>11</td>\n      <td>1.00</td>\n      <td>8</td>\n      <td>+</td>\n    </tr>\n    <tr>\n      <th>14</th>\n      <td>HNSC</td>\n      <td>Q14790</td>\n      <td>CASP8</td>\n      <td>13</td>\n      <td>5</td>\n      <td>5</td>\n      <td>1.00</td>\n      <td>5</td>\n      <td>+</td>\n    </tr>\n    <tr>\n      <th>15</th>\n      <td>HNSC</td>\n      <td>P04637</td>\n      <td>TP53</td>\n      <td>134</td>\n      <td>59</td>\n      <td>58</td>\n      <td>0.98</td>\n      <td>16</td>\n      <td>+</td>\n    </tr>\n    <tr>\n      <th>16</th>\n      <td>HNSC</td>\n      <td>Q969H0</td>\n      <td>FBXW7</td>\n      <td>2</td>\n      <td>18</td>\n      <td>17</td>\n      <td>0.94</td>\n      <td>3</td>\n      <td>+</td>\n    </tr>\n    <tr>\n      <th>17</th>\n      <td>HNSC</td>\n      <td>P42336</td>\n      <td>PIK3CA</td>\n      <td>13</td>\n      <td>14</td>\n      <td>13</td>\n      <td>0.93</td>\n      <td>5</td>\n      <td>+</td>\n    </tr>\n    <tr>\n      <th>18</th>\n      <td>HNSC</td>\n      <td>P42771</td>\n      <td>CDKN2A</td>\n      <td>1</td>\n      <td>19</td>\n      <td>17</td>\n      <td>0.89</td>\n      <td>23</td>\n      <td>+</td>\n    </tr>\n    <tr>\n      <th>19</th>\n      <td>HNSC</td>\n      <td>P22607</td>\n      <td>FGFR3</td>\n      <td>0</td>\n      <td>6</td>\n      <td>5</td>\n      <td>0.83</td>\n      <td>20</td>\n      <td>+</td>\n    </tr>\n    <tr>\n      <th>20</th>\n      <td>HNSC</td>\n      <td>Q7Z6Z7</td>\n      <td>HUWE1</td>\n      <td>5</td>\n      <td>8</td>\n      <td>6</td>\n      <td>0.75</td>\n      <td>8</td>\n      <td>-</td>\n    </tr>\n    <tr>\n      <th>21</th>\n      <td>HNSC</td>\n      <td>P62805</td>\n      <td>H4C1</td>\n      <td>7</td>\n      <td>23</td>\n      <td>17</td>\n      <td>0.74</td>\n      <td>17</td>\n      <td>-</td>\n    </tr>\n    <tr>\n      <th>22</th>\n      <td>OV</td>\n      <td>P04637</td>\n      <td>TP53</td>\n      <td>147</td>\n      <td>80</td>\n      <td>80</td>\n      <td>1.00</td>\n      <td>19</td>\n      <td>+</td>\n    </tr>\n    <tr>\n      <th>23</th>\n      <td>OV</td>\n      <td>P62805</td>\n      <td>H4C1</td>\n      <td>8</td>\n      <td>8</td>\n      <td>6</td>\n      <td>0.75</td>\n      <td>18</td>\n      <td>-</td>\n    </tr>\n  </tbody>\n</table>\n</div>"
     },
     "execution_count": 8,
     "metadata": {},
     "output_type": "execute_result"
    }
   ],
   "source": [
    "concated_preliminary_filtered_data"
   ],
   "metadata": {
    "collapsed": false,
    "pycharm": {
     "name": "#%%\n"
    }
   }
  },
  {
   "cell_type": "code",
   "execution_count": 9,
   "outputs": [],
   "source": [
    "concated_preliminary_filtered_data.to_clipboard()"
   ],
   "metadata": {
    "collapsed": false,
    "pycharm": {
     "name": "#%%\n"
    }
   }
  },
  {
   "cell_type": "code",
   "execution_count": null,
   "outputs": [],
   "source": [],
   "metadata": {
    "collapsed": false,
    "pycharm": {
     "name": "#%%\n"
    }
   }
  },
  {
   "cell_type": "code",
   "execution_count": null,
   "outputs": [],
   "source": [],
   "metadata": {
    "collapsed": false,
    "pycharm": {
     "name": "#%%\n"
    }
   }
  },
  {
   "cell_type": "code",
   "execution_count": null,
   "outputs": [],
   "source": [],
   "metadata": {
    "collapsed": false,
    "pycharm": {
     "name": "#%%\n"
    }
   }
  },
  {
   "cell_type": "code",
   "execution_count": null,
   "outputs": [],
   "source": [],
   "metadata": {
    "collapsed": false,
    "pycharm": {
     "name": "#%%\n"
    }
   }
  },
  {
   "cell_type": "code",
   "execution_count": null,
   "outputs": [],
   "source": [],
   "metadata": {
    "collapsed": false,
    "pycharm": {
     "name": "#%%\n"
    }
   }
  },
  {
   "cell_type": "code",
   "execution_count": null,
   "outputs": [],
   "source": [],
   "metadata": {
    "collapsed": false,
    "pycharm": {
     "name": "#%%\n"
    }
   }
  },
  {
   "cell_type": "code",
   "execution_count": null,
   "outputs": [],
   "source": [],
   "metadata": {
    "collapsed": false,
    "pycharm": {
     "name": "#%%\n"
    }
   }
  },
  {
   "cell_type": "markdown",
   "source": [
    "- - -"
   ],
   "metadata": {
    "collapsed": false,
    "pycharm": {
     "name": "#%% md\n"
    }
   }
  },
  {
   "cell_type": "code",
   "execution_count": null,
   "outputs": [],
   "source": [],
   "metadata": {
    "collapsed": false,
    "pycharm": {
     "name": "#%%\n"
    }
   }
  },
  {
   "cell_type": "markdown",
   "source": [
    "## Construct Table (Relatively simplified)"
   ],
   "metadata": {
    "collapsed": false,
    "pycharm": {
     "name": "#%% md\n"
    }
   }
  },
  {
   "cell_type": "raw",
   "source": [
    "PATIENT_CORE_COUNT,\n",
    "PATIENT_INTERFACE_COUNT,\n",
    "NUM_INTERFACE_PATIENTS_DISRUPTIVE_INTERACTOR,\n",
    "RATIO\n",
    "NUM_UNIQUE_INTERACTORS\n"
   ],
   "metadata": {
    "collapsed": false,
    "pycharm": {
     "name": "#%% raw\n"
    }
   }
  },
  {
   "cell_type": "code",
   "execution_count": 9,
   "outputs": [],
   "source": [
    "brca_data = preliminary_data_filtered[\n",
    "    [\"GENE\", \"PATIENT_CORE_COUNT\", \"PATIENT_INTERFACE_COUNT\", \"NUM_INTERFACE_PATIENTS_DISRUPTIVE_INTERACTOR\"]\n",
    "].copy()\n",
    "brca_data[\"RATIO_(prev_two_col)\"] = brca_data[\"NUM_INTERFACE_PATIENTS_DISRUPTIVE_INTERACTOR\"] / brca_data[\"PATIENT_INTERFACE_COUNT\"]\n",
    "brca_data[\"RATIO_(prev_two_col)\"] = brca_data[\"RATIO_(prev_two_col)\"].apply(lambda x: round(x, 2))\n",
    "brca_data[\"NUM_UNIQUE_INTERACTORS\"] = preliminary_data_filtered[\"NUM_UNIQUE_INTERACTORS\"]\n",
    "brca_data = brca_data.sort_values(\"RATIO_(prev_two_col)\", ascending=False)"
   ],
   "metadata": {
    "collapsed": false,
    "pycharm": {
     "name": "#%%\n"
    }
   }
  },
  {
   "cell_type": "code",
   "execution_count": 10,
   "outputs": [
    {
     "data": {
      "text/plain": "        GENE  PATIENT_CORE_COUNT  PATIENT_INTERFACE_COUNT  \\\n2465  PIK3CA                  35                      124   \n1204    TP53                 141                       55   \n3126    H3C1                   1                       13   \n3091    H4C1                   6                       11   \n2534  MAP2K4                   3                        8   \n1201   ERBB2                  12                       14   \n1447     UBC                   0                        7   \n\n      NUM_INTERFACE_PATIENTS_DISRUPTIVE_INTERACTOR  RATIO_(prev_two_col)  \\\n2465                                           120                  0.97   \n1204                                            52                  0.95   \n3126                                            12                  0.92   \n3091                                            10                  0.91   \n2534                                             7                  0.88   \n1201                                            12                  0.86   \n1447                                             6                  0.86   \n\n      NUM_UNIQUE_INTERACTORS  \n2465                       6  \n1204                      17  \n3126                      11  \n3091                      16  \n2534                       7  \n1201                      16  \n1447                       7  ",
      "text/html": "<div>\n<style scoped>\n    .dataframe tbody tr th:only-of-type {\n        vertical-align: middle;\n    }\n\n    .dataframe tbody tr th {\n        vertical-align: top;\n    }\n\n    .dataframe thead th {\n        text-align: right;\n    }\n</style>\n<table border=\"1\" class=\"dataframe\">\n  <thead>\n    <tr style=\"text-align: right;\">\n      <th></th>\n      <th>GENE</th>\n      <th>PATIENT_CORE_COUNT</th>\n      <th>PATIENT_INTERFACE_COUNT</th>\n      <th>NUM_INTERFACE_PATIENTS_DISRUPTIVE_INTERACTOR</th>\n      <th>RATIO_(prev_two_col)</th>\n      <th>NUM_UNIQUE_INTERACTORS</th>\n    </tr>\n  </thead>\n  <tbody>\n    <tr>\n      <th>2465</th>\n      <td>PIK3CA</td>\n      <td>35</td>\n      <td>124</td>\n      <td>120</td>\n      <td>0.97</td>\n      <td>6</td>\n    </tr>\n    <tr>\n      <th>1204</th>\n      <td>TP53</td>\n      <td>141</td>\n      <td>55</td>\n      <td>52</td>\n      <td>0.95</td>\n      <td>17</td>\n    </tr>\n    <tr>\n      <th>3126</th>\n      <td>H3C1</td>\n      <td>1</td>\n      <td>13</td>\n      <td>12</td>\n      <td>0.92</td>\n      <td>11</td>\n    </tr>\n    <tr>\n      <th>3091</th>\n      <td>H4C1</td>\n      <td>6</td>\n      <td>11</td>\n      <td>10</td>\n      <td>0.91</td>\n      <td>16</td>\n    </tr>\n    <tr>\n      <th>2534</th>\n      <td>MAP2K4</td>\n      <td>3</td>\n      <td>8</td>\n      <td>7</td>\n      <td>0.88</td>\n      <td>7</td>\n    </tr>\n    <tr>\n      <th>1201</th>\n      <td>ERBB2</td>\n      <td>12</td>\n      <td>14</td>\n      <td>12</td>\n      <td>0.86</td>\n      <td>16</td>\n    </tr>\n    <tr>\n      <th>1447</th>\n      <td>UBC</td>\n      <td>0</td>\n      <td>7</td>\n      <td>6</td>\n      <td>0.86</td>\n      <td>7</td>\n    </tr>\n  </tbody>\n</table>\n</div>"
     },
     "execution_count": 10,
     "metadata": {},
     "output_type": "execute_result"
    }
   ],
   "source": [
    "brca_data"
   ],
   "metadata": {
    "collapsed": false,
    "pycharm": {
     "name": "#%%\n"
    }
   }
  },
  {
   "cell_type": "code",
   "execution_count": 11,
   "outputs": [],
   "source": [
    "brca_data.to_clipboard()"
   ],
   "metadata": {
    "collapsed": false,
    "pycharm": {
     "name": "#%%\n"
    }
   }
  },
  {
   "cell_type": "code",
   "execution_count": null,
   "outputs": [],
   "source": [],
   "metadata": {
    "collapsed": false,
    "pycharm": {
     "name": "#%%\n"
    }
   }
  },
  {
   "cell_type": "code",
   "execution_count": null,
   "outputs": [],
   "source": [],
   "metadata": {
    "collapsed": false,
    "pycharm": {
     "name": "#%%\n"
    }
   }
  },
  {
   "cell_type": "code",
   "execution_count": null,
   "outputs": [],
   "source": [],
   "metadata": {
    "collapsed": false,
    "pycharm": {
     "name": "#%%\n"
    }
   }
  },
  {
   "cell_type": "code",
   "execution_count": 21,
   "outputs": [
    {
     "data": {
      "text/plain": "                    PATIENT_INTERFACE_COUNT  \\\nPATIENT_CORE_COUNT                            \n12                                       14   \n141                                      55   \n0                                         7   \n35                                      124   \n3                                         8   \n6                                        11   \n1                                        13   \n\n                    NUM_INTERFACE_PATIENTS_DISRUPTIVE_INTERACTOR  \\\nPATIENT_CORE_COUNT                                                 \n12                                                            12   \n141                                                           52   \n0                                                              6   \n35                                                           120   \n3                                                              7   \n6                                                             10   \n1                                                             12   \n\n                    RATIO_(prev_two_col)  NUM_UNIQUE_INTERACTORS  \nPATIENT_CORE_COUNT                                                \n12                              0.857143                      16  \n141                             0.945455                      17  \n0                               0.857143                       7  \n35                              0.967742                       6  \n3                               0.875000                       7  \n6                               0.909091                      16  \n1                               0.923077                      11  ",
      "text/html": "<div>\n<style scoped>\n    .dataframe tbody tr th:only-of-type {\n        vertical-align: middle;\n    }\n\n    .dataframe tbody tr th {\n        vertical-align: top;\n    }\n\n    .dataframe thead th {\n        text-align: right;\n    }\n</style>\n<table border=\"1\" class=\"dataframe\">\n  <thead>\n    <tr style=\"text-align: right;\">\n      <th></th>\n      <th>PATIENT_INTERFACE_COUNT</th>\n      <th>NUM_INTERFACE_PATIENTS_DISRUPTIVE_INTERACTOR</th>\n      <th>RATIO_(prev_two_col)</th>\n      <th>NUM_UNIQUE_INTERACTORS</th>\n    </tr>\n    <tr>\n      <th>PATIENT_CORE_COUNT</th>\n      <th></th>\n      <th></th>\n      <th></th>\n      <th></th>\n    </tr>\n  </thead>\n  <tbody>\n    <tr>\n      <th>12</th>\n      <td>14</td>\n      <td>12</td>\n      <td>0.857143</td>\n      <td>16</td>\n    </tr>\n    <tr>\n      <th>141</th>\n      <td>55</td>\n      <td>52</td>\n      <td>0.945455</td>\n      <td>17</td>\n    </tr>\n    <tr>\n      <th>0</th>\n      <td>7</td>\n      <td>6</td>\n      <td>0.857143</td>\n      <td>7</td>\n    </tr>\n    <tr>\n      <th>35</th>\n      <td>124</td>\n      <td>120</td>\n      <td>0.967742</td>\n      <td>6</td>\n    </tr>\n    <tr>\n      <th>3</th>\n      <td>8</td>\n      <td>7</td>\n      <td>0.875000</td>\n      <td>7</td>\n    </tr>\n    <tr>\n      <th>6</th>\n      <td>11</td>\n      <td>10</td>\n      <td>0.909091</td>\n      <td>16</td>\n    </tr>\n    <tr>\n      <th>1</th>\n      <td>13</td>\n      <td>12</td>\n      <td>0.923077</td>\n      <td>11</td>\n    </tr>\n  </tbody>\n</table>\n</div>"
     },
     "execution_count": 21,
     "metadata": {},
     "output_type": "execute_result"
    }
   ],
   "source": [
    "brca_data = brca_data.reset_index(drop=True)\n",
    "brca_data = brca_data.set_index(\"PATIENT_CORE_COUNT\")\n",
    "brca_data"
   ],
   "metadata": {
    "collapsed": false,
    "pycharm": {
     "name": "#%%\n"
    }
   }
  },
  {
   "cell_type": "code",
   "execution_count": 22,
   "outputs": [
    {
     "name": "stdout",
     "output_type": "stream",
     "text": [
      "\\begin{tabular}{lrrrr}\n",
      "\\toprule\n",
      "{} &  PATIENT\\_INTERFACE\\_COUNT &  NUM\\_INTERFACE\\_PATIENTS\\_DISRUPTIVE\\_INTERACTOR &  RATIO\\_(prev\\_two\\_col) &  NUM\\_UNIQUE\\_INTERACTORS \\\\\n",
      "PATIENT\\_CORE\\_COUNT &                          &                                               &                       &                         \\\\\n",
      "\\midrule\n",
      "12                 &                       14 &                                            12 &              0.857143 &                      16 \\\\\n",
      "141                &                       55 &                                            52 &              0.945455 &                      17 \\\\\n",
      "0                  &                        7 &                                             6 &              0.857143 &                       7 \\\\\n",
      "35                 &                      124 &                                           120 &              0.967742 &                       6 \\\\\n",
      "3                  &                        8 &                                             7 &              0.875000 &                       7 \\\\\n",
      "6                  &                       11 &                                            10 &              0.909091 &                      16 \\\\\n",
      "1                  &                       13 &                                            12 &              0.923077 &                      11 \\\\\n",
      "\\bottomrule\n",
      "\\end{tabular}\n",
      "\n"
     ]
    }
   ],
   "source": [
    "print(brca_data.to_latex())"
   ],
   "metadata": {
    "collapsed": false,
    "pycharm": {
     "name": "#%%\n"
    }
   }
  },
  {
   "cell_type": "code",
   "execution_count": 7,
   "outputs": [],
   "source": [],
   "metadata": {
    "collapsed": false,
    "pycharm": {
     "name": "#%%\n"
    }
   }
  },
  {
   "cell_type": "code",
   "execution_count": null,
   "outputs": [],
   "source": [],
   "metadata": {
    "collapsed": false,
    "pycharm": {
     "name": "#%%\n"
    }
   }
  }
 ],
 "metadata": {
  "kernelspec": {
   "display_name": "Predicting-Mutation-Effects",
   "language": "python",
   "name": "predicting-mutation-effects"
  },
  "language_info": {
   "codemirror_mode": {
    "name": "ipython",
    "version": 3
   },
   "file_extension": ".py",
   "mimetype": "text/x-python",
   "name": "python",
   "nbconvert_exporter": "python",
   "pygments_lexer": "ipython3",
   "version": "3.8.10"
  }
 },
 "nbformat": 4,
 "nbformat_minor": 5
}