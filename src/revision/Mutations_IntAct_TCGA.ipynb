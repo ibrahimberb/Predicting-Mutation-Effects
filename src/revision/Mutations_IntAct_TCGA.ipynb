{
 "cells": [
  {
   "cell_type": "markdown",
   "source": [
    "# Review\n",
    "\n",
    "_The number of mutations predicted to influence an interaction in the TCGA datasets that were already present in the training set should be mentioned? The author should give the list of the 164 proteins included in the training dataset_."
   ],
   "metadata": {
    "collapsed": false,
    "pycharm": {
     "name": "#%% md\n"
    }
   }
  },
  {
   "cell_type": "code",
   "execution_count": 2,
   "outputs": [
    {
     "name": "stdout",
     "output_type": "stream",
     "text": [
      "\u001B[32mMay 23, 2022 10:51:59\u001B[0m\n"
     ]
    }
   ],
   "source": [
    "from datetime import datetime\n",
    "\n",
    "print(\"\\033[32m{}\\033[0m\".format(datetime.now().strftime(\"%B %d, %Y %H:%M:%S\")))"
   ],
   "metadata": {
    "collapsed": false,
    "pycharm": {
     "name": "#%%\n"
    }
   }
  },
  {
   "cell_type": "code",
   "execution_count": 11,
   "outputs": [],
   "source": [
    "import os\n",
    "\n",
    "os.chdir(\"../\")"
   ],
   "metadata": {
    "collapsed": false,
    "pycharm": {
     "name": "#%%\n"
    }
   }
  },
  {
   "cell_type": "code",
   "execution_count": 25,
   "outputs": [
    {
     "name": "stdout",
     "output_type": "stream",
     "text": [
      "The autoreload extension is already loaded. To reload it, use:\n",
      "  %reload_ext autoreload\n"
     ]
    }
   ],
   "source": [
    "import pandas as pd\n",
    "\n",
    "from src.helpers.helpers_predator.common import load_predator\n",
    "from src.helpers.helpers_analysis.convert_primary_isomer import convert_primary_isomer\n",
    "\n",
    "PREDATOR_PATH = \"PredatorModels/PredatorModel_2021-10-24/04f37897/predator.pkl\"\n",
    "\n",
    "# Reflect changes in the modules immediately.\n",
    "%load_ext autoreload\n",
    "%autoreload 2"
   ],
   "metadata": {
    "collapsed": false,
    "pycharm": {
     "name": "#%%\n"
    }
   }
  },
  {
   "cell_type": "markdown",
   "source": [
    "# Interactions in IntAct data"
   ],
   "metadata": {
    "collapsed": false,
    "pycharm": {
     "name": "#%% md\n"
    }
   }
  },
  {
   "cell_type": "code",
   "execution_count": 15,
   "outputs": [
    {
     "name": "stderr",
     "output_type": "stream",
     "text": [
      "Trying to unpickle estimator DecisionTreeClassifier from version 0.23.2 when using version 0.24.1. This might lead to breaking code or invalid results. Use at your own risk.\n",
      "Trying to unpickle estimator RandomForestClassifier from version 0.23.2 when using version 0.24.1. This might lead to breaking code or invalid results. Use at your own risk.\n"
     ]
    },
    {
     "name": "stdout",
     "output_type": "stream",
     "text": [
      "2022-05-23 11:04:06 |\u001B[32m INFO     \u001B[0m| src.helpers.helpers_predator.common | Predator object PredatorModels/PredatorModel_2021-10-24/04f37897/predator.pkl is loaded successfully.\n"
     ]
    },
    {
     "name": "stderr",
     "output_type": "stream",
     "text": [
      "Trying to unpickle estimator RandomizedSearchCV from version 0.23.2 when using version 0.24.1. This might lead to breaking code or invalid results. Use at your own risk.\n"
     ]
    }
   ],
   "source": [
    "predator = load_predator(PREDATOR_PATH)"
   ],
   "metadata": {
    "collapsed": false,
    "pycharm": {
     "name": "#%%\n"
    }
   }
  },
  {
   "cell_type": "code",
   "execution_count": null,
   "outputs": [],
   "source": [],
   "metadata": {
    "collapsed": false,
    "pycharm": {
     "name": "#%%\n"
    }
   }
  },
  {
   "cell_type": "code",
   "execution_count": 27,
   "outputs": [
    {
     "data": {
      "text/plain": "    UniProt_ID Mutation Interactor_UniProt_ID\n0       Q9BPZ3    F118A                P11940\n1       P01116     Y40C                P50749\n2       Q96QK1    F534D                Q9UBQ0\n3       Q96QK1    F534D              Q9UBQ0-2\n4     O43521-3     G66A                Q07812\n..         ...      ...                   ...\n735     P84243     Q94A              Q9UER7-3\n736     Q96QK1    L589D                Q9UBQ0\n737     Q96QK1    L589D              Q9UBQ0-2\n738     P23297     F72L                P25815\n739     Q15836     L46P                O43752\n\n[740 rows x 3 columns]",
      "text/html": "<div>\n<style scoped>\n    .dataframe tbody tr th:only-of-type {\n        vertical-align: middle;\n    }\n\n    .dataframe tbody tr th {\n        vertical-align: top;\n    }\n\n    .dataframe thead th {\n        text-align: right;\n    }\n</style>\n<table border=\"1\" class=\"dataframe\">\n  <thead>\n    <tr style=\"text-align: right;\">\n      <th></th>\n      <th>UniProt_ID</th>\n      <th>Mutation</th>\n      <th>Interactor_UniProt_ID</th>\n    </tr>\n  </thead>\n  <tbody>\n    <tr>\n      <th>0</th>\n      <td>Q9BPZ3</td>\n      <td>F118A</td>\n      <td>P11940</td>\n    </tr>\n    <tr>\n      <th>1</th>\n      <td>P01116</td>\n      <td>Y40C</td>\n      <td>P50749</td>\n    </tr>\n    <tr>\n      <th>2</th>\n      <td>Q96QK1</td>\n      <td>F534D</td>\n      <td>Q9UBQ0</td>\n    </tr>\n    <tr>\n      <th>3</th>\n      <td>Q96QK1</td>\n      <td>F534D</td>\n      <td>Q9UBQ0-2</td>\n    </tr>\n    <tr>\n      <th>4</th>\n      <td>O43521-3</td>\n      <td>G66A</td>\n      <td>Q07812</td>\n    </tr>\n    <tr>\n      <th>...</th>\n      <td>...</td>\n      <td>...</td>\n      <td>...</td>\n    </tr>\n    <tr>\n      <th>735</th>\n      <td>P84243</td>\n      <td>Q94A</td>\n      <td>Q9UER7-3</td>\n    </tr>\n    <tr>\n      <th>736</th>\n      <td>Q96QK1</td>\n      <td>L589D</td>\n      <td>Q9UBQ0</td>\n    </tr>\n    <tr>\n      <th>737</th>\n      <td>Q96QK1</td>\n      <td>L589D</td>\n      <td>Q9UBQ0-2</td>\n    </tr>\n    <tr>\n      <th>738</th>\n      <td>P23297</td>\n      <td>F72L</td>\n      <td>P25815</td>\n    </tr>\n    <tr>\n      <th>739</th>\n      <td>Q15836</td>\n      <td>L46P</td>\n      <td>O43752</td>\n    </tr>\n  </tbody>\n</table>\n<p>740 rows × 3 columns</p>\n</div>"
     },
     "execution_count": 27,
     "metadata": {},
     "output_type": "execute_result"
    }
   ],
   "source": [
    "intact_data = predator.data_materials[\"train_data_processed\"][[\"UniProt_ID\", \"Mutation\", \"Interactor_UniProt_ID\"]].copy()\n",
    "intact_data"
   ],
   "metadata": {
    "collapsed": false,
    "pycharm": {
     "name": "#%%\n"
    }
   }
  },
  {
   "cell_type": "code",
   "execution_count": 28,
   "outputs": [],
   "source": [
    "intact_data = convert_primary_isomer(\"UniProt_ID\", intact_data)\n",
    "intact_data = convert_primary_isomer(\"Interactor_UniProt_ID\", intact_data)"
   ],
   "metadata": {
    "collapsed": false,
    "pycharm": {
     "name": "#%%\n"
    }
   }
  },
  {
   "cell_type": "code",
   "execution_count": 36,
   "outputs": [
    {
     "data": {
      "text/plain": "    UniProt_ID Mutation Interactor_UniProt_ID\n0       Q9BPZ3    F118A                P11940\n1       P01116     Y40C                P50749\n2       Q96QK1    F534D                Q9UBQ0\n3       O43521     G66A                Q07812\n4       Q13418    Q362H                Q9NVD7\n..         ...      ...                   ...\n434     P35908    L484P                O76015\n435     P84243     Q94A                Q9UER7\n436     Q96QK1    L589D                Q9UBQ0\n437     P23297     F72L                P25815\n438     Q15836     L46P                O43752\n\n[439 rows x 3 columns]",
      "text/html": "<div>\n<style scoped>\n    .dataframe tbody tr th:only-of-type {\n        vertical-align: middle;\n    }\n\n    .dataframe tbody tr th {\n        vertical-align: top;\n    }\n\n    .dataframe thead th {\n        text-align: right;\n    }\n</style>\n<table border=\"1\" class=\"dataframe\">\n  <thead>\n    <tr style=\"text-align: right;\">\n      <th></th>\n      <th>UniProt_ID</th>\n      <th>Mutation</th>\n      <th>Interactor_UniProt_ID</th>\n    </tr>\n  </thead>\n  <tbody>\n    <tr>\n      <th>0</th>\n      <td>Q9BPZ3</td>\n      <td>F118A</td>\n      <td>P11940</td>\n    </tr>\n    <tr>\n      <th>1</th>\n      <td>P01116</td>\n      <td>Y40C</td>\n      <td>P50749</td>\n    </tr>\n    <tr>\n      <th>2</th>\n      <td>Q96QK1</td>\n      <td>F534D</td>\n      <td>Q9UBQ0</td>\n    </tr>\n    <tr>\n      <th>3</th>\n      <td>O43521</td>\n      <td>G66A</td>\n      <td>Q07812</td>\n    </tr>\n    <tr>\n      <th>4</th>\n      <td>Q13418</td>\n      <td>Q362H</td>\n      <td>Q9NVD7</td>\n    </tr>\n    <tr>\n      <th>...</th>\n      <td>...</td>\n      <td>...</td>\n      <td>...</td>\n    </tr>\n    <tr>\n      <th>434</th>\n      <td>P35908</td>\n      <td>L484P</td>\n      <td>O76015</td>\n    </tr>\n    <tr>\n      <th>435</th>\n      <td>P84243</td>\n      <td>Q94A</td>\n      <td>Q9UER7</td>\n    </tr>\n    <tr>\n      <th>436</th>\n      <td>Q96QK1</td>\n      <td>L589D</td>\n      <td>Q9UBQ0</td>\n    </tr>\n    <tr>\n      <th>437</th>\n      <td>P23297</td>\n      <td>F72L</td>\n      <td>P25815</td>\n    </tr>\n    <tr>\n      <th>438</th>\n      <td>Q15836</td>\n      <td>L46P</td>\n      <td>O43752</td>\n    </tr>\n  </tbody>\n</table>\n<p>439 rows × 3 columns</p>\n</div>"
     },
     "execution_count": 36,
     "metadata": {},
     "output_type": "execute_result"
    }
   ],
   "source": [
    "intact_data_unique_interactions = intact_data.drop_duplicates().reset_index(drop=True)\n",
    "intact_data_unique_interactions"
   ],
   "metadata": {
    "collapsed": false,
    "pycharm": {
     "name": "#%%\n"
    }
   }
  },
  {
   "cell_type": "code",
   "execution_count": null,
   "outputs": [],
   "source": [],
   "metadata": {
    "collapsed": false,
    "pycharm": {
     "name": "#%%\n"
    }
   }
  },
  {
   "cell_type": "markdown",
   "source": [
    "# Interactions in TCGA data"
   ],
   "metadata": {
    "collapsed": false,
    "pycharm": {
     "name": "#%% md\n"
    }
   }
  },
  {
   "cell_type": "code",
   "execution_count": 39,
   "outputs": [],
   "source": [
    "# I look for only predicted interactions (remember that we do not have predictions for *all* interactions in a given TCGA cohort)"
   ],
   "metadata": {
    "collapsed": false,
    "pycharm": {
     "name": "#%%\n"
    }
   }
  },
  {
   "cell_type": "code",
   "execution_count": 48,
   "outputs": [],
   "source": [
    "BRCA_PREDICTION_PATH = \"../data/predictions_datasets/brca_prediction_2021-11-17/558297b6/predictions_soft_2021-11-17.csv\"\n",
    "COAD_PREDICTION_PATH = \"../data/predictions_datasets/coad_prediction_2022-01-06/9789393f/predictions_soft_2022-01-06.csv\"\n",
    "ESCA_PREDICTION_PATH = \"../data/predictions_datasets/esca_prediction_2021-11-17/59544312/predictions_soft_2021-11-17.csv\"\n",
    "GBM_PREDICTION_PATH = \"../data/predictions_datasets/gbm_prediction_2021-11-17/b9cfc7ea/predictions_soft_2021-11-17.csv\"\n",
    "HNSC_PREDICTION_PATH = \"../data/predictions_datasets/hnsc_prediction_2021-11-17/53930f30/predictions_soft_2021-11-17.csv\"\n",
    "OV_PREDICTION_PATH = \"../data/predictions_datasets/ov_prediction_2021-11-17/37bf1637/predictions_soft_2021-11-17.csv\""
   ],
   "metadata": {
    "collapsed": false,
    "pycharm": {
     "name": "#%%\n"
    }
   }
  },
  {
   "cell_type": "code",
   "execution_count": 50,
   "outputs": [],
   "source": [
    "brca_predictions = pd.read_csv(BRCA_PREDICTION_PATH)\n",
    "coad_predictions = pd.read_csv(COAD_PREDICTION_PATH)\n",
    "esca_predictions = pd.read_csv(ESCA_PREDICTION_PATH)\n",
    "gbm_predictions = pd.read_csv(GBM_PREDICTION_PATH)\n",
    "hnsc_predictions = pd.read_csv(HNSC_PREDICTION_PATH)\n",
    "ov_predictions = pd.read_csv(OV_PREDICTION_PATH)"
   ],
   "metadata": {
    "collapsed": false,
    "pycharm": {
     "name": "#%%\n"
    }
   }
  },
  {
   "cell_type": "code",
   "execution_count": 51,
   "outputs": [],
   "source": [
    "tcga_predictions = pd.concat(\n",
    "    [\n",
    "        brca_predictions,\n",
    "        coad_predictions,\n",
    "        esca_predictions,\n",
    "        gbm_predictions,\n",
    "        hnsc_predictions,\n",
    "        ov_predictions,\n",
    "    ]\n",
    ")"
   ],
   "metadata": {
    "collapsed": false,
    "pycharm": {
     "name": "#%%\n"
    }
   }
  },
  {
   "cell_type": "code",
   "execution_count": 55,
   "outputs": [
    {
     "data": {
      "text/plain": "     UniProt_ID Mutation Interactor_UniProt_ID\n0        P28062    R216W                P40306\n1        Q15842    E237K                Q14654\n2        Q15842    E237K                P63252\n3        Q9UKS6     R24H                Q9BY11\n4        Q9UKS6     R24H                Q9UNF0\n...         ...      ...                   ...\n2508     P62942    F100L                Q5T7S2\n2509     P42336   H1047R                Q13535\n2510     P42336   H1047R                P27986\n2511     P42336   H1047R                O00459\n2512     P42336   H1047R                P43403\n\n[22169 rows x 3 columns]",
      "text/html": "<div>\n<style scoped>\n    .dataframe tbody tr th:only-of-type {\n        vertical-align: middle;\n    }\n\n    .dataframe tbody tr th {\n        vertical-align: top;\n    }\n\n    .dataframe thead th {\n        text-align: right;\n    }\n</style>\n<table border=\"1\" class=\"dataframe\">\n  <thead>\n    <tr style=\"text-align: right;\">\n      <th></th>\n      <th>UniProt_ID</th>\n      <th>Mutation</th>\n      <th>Interactor_UniProt_ID</th>\n    </tr>\n  </thead>\n  <tbody>\n    <tr>\n      <th>0</th>\n      <td>P28062</td>\n      <td>R216W</td>\n      <td>P40306</td>\n    </tr>\n    <tr>\n      <th>1</th>\n      <td>Q15842</td>\n      <td>E237K</td>\n      <td>Q14654</td>\n    </tr>\n    <tr>\n      <th>2</th>\n      <td>Q15842</td>\n      <td>E237K</td>\n      <td>P63252</td>\n    </tr>\n    <tr>\n      <th>3</th>\n      <td>Q9UKS6</td>\n      <td>R24H</td>\n      <td>Q9BY11</td>\n    </tr>\n    <tr>\n      <th>4</th>\n      <td>Q9UKS6</td>\n      <td>R24H</td>\n      <td>Q9UNF0</td>\n    </tr>\n    <tr>\n      <th>...</th>\n      <td>...</td>\n      <td>...</td>\n      <td>...</td>\n    </tr>\n    <tr>\n      <th>2508</th>\n      <td>P62942</td>\n      <td>F100L</td>\n      <td>Q5T7S2</td>\n    </tr>\n    <tr>\n      <th>2509</th>\n      <td>P42336</td>\n      <td>H1047R</td>\n      <td>Q13535</td>\n    </tr>\n    <tr>\n      <th>2510</th>\n      <td>P42336</td>\n      <td>H1047R</td>\n      <td>P27986</td>\n    </tr>\n    <tr>\n      <th>2511</th>\n      <td>P42336</td>\n      <td>H1047R</td>\n      <td>O00459</td>\n    </tr>\n    <tr>\n      <th>2512</th>\n      <td>P42336</td>\n      <td>H1047R</td>\n      <td>P43403</td>\n    </tr>\n  </tbody>\n</table>\n<p>22169 rows × 3 columns</p>\n</div>"
     },
     "execution_count": 55,
     "metadata": {},
     "output_type": "execute_result"
    }
   ],
   "source": [
    "tcga_interactions = tcga_predictions[[\"UniProt_ID\", \"Mutation\", \"Interactor_UniProt_ID\"]].copy()\n",
    "tcga_interactions"
   ],
   "metadata": {
    "collapsed": false,
    "pycharm": {
     "name": "#%%\n"
    }
   }
  },
  {
   "cell_type": "code",
   "execution_count": 56,
   "outputs": [
    {
     "data": {
      "text/plain": "      UniProt_ID Mutation Interactor_UniProt_ID\n0         P28062    R216W                P40306\n1         Q15842    E237K                Q14654\n2         Q15842    E237K                P63252\n3         Q9UKS6     R24H                Q9BY11\n4         Q9UKS6     R24H                Q9UNF0\n...          ...      ...                   ...\n21245     P24821    T959A                P02751\n21246     P11802    T177I                Q14012\n21247     P11802    T177I                Q16539\n21248     Q86U06    D277H                Q9BWF3\n21249     P20807    I765V                Q8WZ42\n\n[21250 rows x 3 columns]",
      "text/html": "<div>\n<style scoped>\n    .dataframe tbody tr th:only-of-type {\n        vertical-align: middle;\n    }\n\n    .dataframe tbody tr th {\n        vertical-align: top;\n    }\n\n    .dataframe thead th {\n        text-align: right;\n    }\n</style>\n<table border=\"1\" class=\"dataframe\">\n  <thead>\n    <tr style=\"text-align: right;\">\n      <th></th>\n      <th>UniProt_ID</th>\n      <th>Mutation</th>\n      <th>Interactor_UniProt_ID</th>\n    </tr>\n  </thead>\n  <tbody>\n    <tr>\n      <th>0</th>\n      <td>P28062</td>\n      <td>R216W</td>\n      <td>P40306</td>\n    </tr>\n    <tr>\n      <th>1</th>\n      <td>Q15842</td>\n      <td>E237K</td>\n      <td>Q14654</td>\n    </tr>\n    <tr>\n      <th>2</th>\n      <td>Q15842</td>\n      <td>E237K</td>\n      <td>P63252</td>\n    </tr>\n    <tr>\n      <th>3</th>\n      <td>Q9UKS6</td>\n      <td>R24H</td>\n      <td>Q9BY11</td>\n    </tr>\n    <tr>\n      <th>4</th>\n      <td>Q9UKS6</td>\n      <td>R24H</td>\n      <td>Q9UNF0</td>\n    </tr>\n    <tr>\n      <th>...</th>\n      <td>...</td>\n      <td>...</td>\n      <td>...</td>\n    </tr>\n    <tr>\n      <th>21245</th>\n      <td>P24821</td>\n      <td>T959A</td>\n      <td>P02751</td>\n    </tr>\n    <tr>\n      <th>21246</th>\n      <td>P11802</td>\n      <td>T177I</td>\n      <td>Q14012</td>\n    </tr>\n    <tr>\n      <th>21247</th>\n      <td>P11802</td>\n      <td>T177I</td>\n      <td>Q16539</td>\n    </tr>\n    <tr>\n      <th>21248</th>\n      <td>Q86U06</td>\n      <td>D277H</td>\n      <td>Q9BWF3</td>\n    </tr>\n    <tr>\n      <th>21249</th>\n      <td>P20807</td>\n      <td>I765V</td>\n      <td>Q8WZ42</td>\n    </tr>\n  </tbody>\n</table>\n<p>21250 rows × 3 columns</p>\n</div>"
     },
     "execution_count": 56,
     "metadata": {},
     "output_type": "execute_result"
    }
   ],
   "source": [
    "tcga_interactions_unique = tcga_interactions.drop_duplicates().reset_index(drop=True)\n",
    "tcga_interactions_unique"
   ],
   "metadata": {
    "collapsed": false,
    "pycharm": {
     "name": "#%%\n"
    }
   }
  },
  {
   "cell_type": "code",
   "execution_count": null,
   "outputs": [],
   "source": [
    "21250"
   ],
   "metadata": {
    "collapsed": false,
    "pycharm": {
     "name": "#%%\n"
    }
   }
  },
  {
   "cell_type": "code",
   "execution_count": 57,
   "outputs": [
    {
     "data": {
      "text/plain": "  UniProt_ID Mutation Interactor_UniProt_ID\n0     P42773     T69A                Q00534\n1     Q8IYM1    D197N                Q8WYJ6\n2     Q8IYM1    D197N                Q14141\n3     P21860    G284R                P04626",
      "text/html": "<div>\n<style scoped>\n    .dataframe tbody tr th:only-of-type {\n        vertical-align: middle;\n    }\n\n    .dataframe tbody tr th {\n        vertical-align: top;\n    }\n\n    .dataframe thead th {\n        text-align: right;\n    }\n</style>\n<table border=\"1\" class=\"dataframe\">\n  <thead>\n    <tr style=\"text-align: right;\">\n      <th></th>\n      <th>UniProt_ID</th>\n      <th>Mutation</th>\n      <th>Interactor_UniProt_ID</th>\n    </tr>\n  </thead>\n  <tbody>\n    <tr>\n      <th>0</th>\n      <td>P42773</td>\n      <td>T69A</td>\n      <td>Q00534</td>\n    </tr>\n    <tr>\n      <th>1</th>\n      <td>Q8IYM1</td>\n      <td>D197N</td>\n      <td>Q8WYJ6</td>\n    </tr>\n    <tr>\n      <th>2</th>\n      <td>Q8IYM1</td>\n      <td>D197N</td>\n      <td>Q14141</td>\n    </tr>\n    <tr>\n      <th>3</th>\n      <td>P21860</td>\n      <td>G284R</td>\n      <td>P04626</td>\n    </tr>\n  </tbody>\n</table>\n</div>"
     },
     "execution_count": 57,
     "metadata": {},
     "output_type": "execute_result"
    }
   ],
   "source": [
    "pd.merge(intact_data_unique_interactions, tcga_interactions_unique, how='inner')"
   ],
   "metadata": {
    "collapsed": false,
    "pycharm": {
     "name": "#%%\n"
    }
   }
  },
  {
   "cell_type": "code",
   "execution_count": 67,
   "outputs": [
    {
     "name": "stdout",
     "output_type": "stream",
     "text": [
      "|    | UniProt_ID   | Mutation   | Interactor_UniProt_ID   |\n",
      "|---:|:-------------|:-----------|:------------------------|\n",
      "|  0 | P42773       | T69A       | Q00534                  |\n",
      "|  1 | Q8IYM1       | D197N      | Q8WYJ6                  |\n",
      "|  2 | Q8IYM1       | D197N      | Q14141                  |\n",
      "|  3 | P21860       | G284R      | P04626                  |\n"
     ]
    }
   ],
   "source": [
    "print(pd.merge(intact_data_unique_interactions, tcga_interactions_unique, how='inner').to_markdown())"
   ],
   "metadata": {
    "collapsed": false,
    "pycharm": {
     "name": "#%%\n"
    }
   }
  },
  {
   "cell_type": "code",
   "execution_count": 58,
   "outputs": [],
   "source": [
    "def get_array_of_tuples(df):\n",
    "    return list(zip(*map(df.get, df)))\n"
   ],
   "metadata": {
    "collapsed": false,
    "pycharm": {
     "name": "#%%\n"
    }
   }
  },
  {
   "cell_type": "code",
   "execution_count": null,
   "outputs": [],
   "source": [],
   "metadata": {
    "collapsed": false,
    "pycharm": {
     "name": "#%%\n"
    }
   }
  },
  {
   "cell_type": "code",
   "execution_count": 65,
   "outputs": [
    {
     "data": {
      "text/plain": "[('P21860', 'G284R', 'P04626'),\n ('P42773', 'T69A', 'Q00534'),\n ('Q8IYM1', 'D197N', 'Q14141'),\n ('Q8IYM1', 'D197N', 'Q8WYJ6')]"
     },
     "execution_count": 65,
     "metadata": {},
     "output_type": "execute_result"
    }
   ],
   "source": [
    "[interaction for interaction in get_array_of_tuples(tcga_interactions_unique)\n",
    " if interaction in get_array_of_tuples(intact_data_unique_interactions)]"
   ],
   "metadata": {
    "collapsed": false,
    "pycharm": {
     "name": "#%%\n"
    }
   }
  },
  {
   "cell_type": "code",
   "execution_count": null,
   "outputs": [],
   "source": [],
   "metadata": {
    "collapsed": false,
    "pycharm": {
     "name": "#%%\n"
    }
   }
  },
  {
   "cell_type": "code",
   "execution_count": null,
   "outputs": [],
   "source": [],
   "metadata": {
    "collapsed": false,
    "pycharm": {
     "name": "#%%\n"
    }
   }
  },
  {
   "cell_type": "code",
   "execution_count": 64,
   "outputs": [
    {
     "data": {
      "text/plain": "[('Q9BPZ3', 'F118A', 'P11940'),\n ('P01116', 'Y40C', 'P50749'),\n ('Q96QK1', 'F534D', 'Q9UBQ0'),\n ('O43521', 'G66A', 'Q07812'),\n ('Q13418', 'Q362H', 'Q9NVD7'),\n ('Q9BV40', 'L51P', 'Q9UNK0'),\n ('P11802', 'R24C', 'P42772'),\n ('Q9HAU5', 'M1173E', 'Q92900'),\n ('Q969J2', 'G79R', 'Q96IT1'),\n ('Q9UH99', 'S641E', 'Q8WXH0'),\n ('Q9Y4K3', 'L74E', 'P61088'),\n ('P62805', 'R37A', 'Q71DI3'),\n ('P38919', 'R206E', 'O15234'),\n ('Q15013', 'Q83A', 'Q13257'),\n ('Q13241', 'F114A', 'P13747'),\n ('P01112', 'E37G', 'P04049'),\n ('Q53EL6', 'D414A', 'P60842'),\n ('Q99558', 'K430A', 'O14920'),\n ('P42773', 'T69A', 'Q00534'),\n ('O43521', 'G66A', 'Q92843'),\n ('Q13794', 'F32I', 'Q07817'),\n ('Q96F10', 'R126C', 'P21673'),\n ('P61587', 'Y60A', 'O43157'),\n ('Q15019', 'H270D', 'Q14141'),\n ('P04049', 'R89L', 'P15056'),\n ('P50616', 'Y50N', 'Q9UIV1'),\n ('P25815', 'F74V', 'P23297'),\n ('P25815', 'I11A', 'P23297'),\n ('P60891', 'N114S', 'P11908'),\n ('Q9HCG8', 'N174A', 'P38919'),\n ('Q9BZW8', 'E70A', 'P09326'),\n ('P55957', 'D95A', 'Q07817'),\n ('Q16665', 'V336E', 'P27540'),\n ('P46527', 'Y88A', 'P07948'),\n ('P61587', 'L90R', 'O43157'),\n ('Q92900', 'V204D', 'Q9HAU5'),\n ('Q8N5H7', 'L469R', 'P56945'),\n ('P02671', 'C184W', 'P02675'),\n ('P26715', 'V213A', 'P13747'),\n ('P38919', 'H223D', 'P61326'),\n ('Q13241', 'Q112A', 'P17693'),\n ('Q9Y376', 'F178E', 'Q9P289'),\n ('Q9HAU5', 'F1171E', 'Q92900'),\n ('Q13241', 'N160A', 'P17693'),\n ('P07195', 'R172P', 'P00338'),\n ('Q15836', 'L46P', 'Q9UNK0'),\n ('O43521', 'G66E', 'Q07812'),\n ('P15056', 'L515G', 'P04049'),\n ('O14893', 'R213D', 'Q16637'),\n ('Q71DI3', 'M91G', 'P62805'),\n ('Q96QK1', 'N725A', 'Q9UBQ0'),\n ('Q13133', 'K273A', 'Q15788'),\n ('Q8N423', 'Y61A', 'P17693'),\n ('Q9UJM3', 'M346A', 'P00533'),\n ('Q15788', 'L694A', 'Q13133'),\n ('Q13133', 'E441A', 'Q15788'),\n ('Q13257', 'Y199A', 'Q12834'),\n ('P11362', 'P252R', 'P08620'),\n ('Q13241', 'Q112A', 'P13747'),\n ('O00311', 'I99T', 'Q9UBU7'),\n ('O14980', 'F572A', 'O95149'),\n ('Q13241', 'N160A', 'P13747'),\n ('Q9Y4K3', 'L74R', 'P61088'),\n ('P51809', 'L157P', 'O15400'),\n ('Q12918', 'Y201A', 'Q9UHP7'),\n ('Q16611', 'Y110E', 'P55957'),\n ('Q13241', 'T146A', 'P13747'),\n ('P11802', 'R24H', 'P42773'),\n ('P61326', 'D73K', 'Q9BRP8'),\n ('Q96QK1', 'Q586A', 'Q9UBQ0'),\n ('Q9UBQ0', 'W93A', 'Q96QK1'),\n ('Q96QK1', 'R582D', 'Q9UBQ0'),\n ('P01903', 'G53D', 'P28068'),\n ('P56945', 'L787E', 'Q8N5H7'),\n ('Q9BV40', 'L16P', 'O43752'),\n ('Q13257', 'R133A', 'Q12834'),\n ('Q15836', 'T18P', 'O15400'),\n ('P02538', 'I462S', 'P13646'),\n ('Q13794', 'K35E', 'Q92843'),\n ('Q96QK1', 'Y729A', 'Q9UBQ0'),\n ('Q15836', 'V25P', 'O43752'),\n ('Q13241', 'E164A', 'P17693'),\n ('P55211', 'P336S', 'Q13490'),\n ('P52298', 'D107R', 'Q09161'),\n ('Q9NQT4', 'R96Q', 'Q96B26'),\n ('Q8IYM1', 'G169E', 'Q8WYJ6'),\n ('P61326', 'E117R', 'Q9BRP8'),\n ('P46527', 'Y74A', 'P07948'),\n ('Q13418', 'M402A', 'Q9NVD7'),\n ('Q9UBQ0', 'P92G', 'Q96QK1'),\n ('Q12918', 'Y198A', 'Q9UHP7'),\n ('P02538', 'I462S', 'P19012'),\n ('P04637', 'F19A', 'Q09472'),\n ('P60891', 'D183H', 'Q14558'),\n ('Q14457', 'L116A', 'Q16611'),\n ('P01112', 'T35S', 'Q13671'),\n ('P01112', 'Y40C', 'Q13671'),\n ('Q96NA2', 'R255A', 'P51149'),\n ('Q9Y248', 'L150S', 'Q9BRT9'),\n ('Q10567', 'V88D', 'P84077'),\n ('Q96QK1', 'H675D', 'Q9UBQ0'),\n ('Q8IYM1', 'D197N', 'Q8WYJ6'),\n ('Q9HAU4', 'C716A', 'P0CG47'),\n ('O95149', 'N150A', 'O14980'),\n ('Q13794', 'F32I', 'Q92843'),\n ('P63279', 'H20D', 'P61956'),\n ('O95149', 'L4A', 'O14980'),\n ('P51809', 'T129P', 'Q9UNK0'),\n ('Q92797', 'K185A', 'Q9NP77'),\n ('P38919', 'F232R', 'O15234'),\n ('P13646', 'R355H', 'P02538'),\n ('P01903', 'F49S', 'P01911'),\n ('A5PKW4', 'E621K', 'P62330'),\n ('P07195', 'R172H', 'P00338'),\n ('P61587', 'N86R', 'O43157'),\n ('P40692', 'V213M', 'P54278'),\n ('O95149', 'K144D', 'O14980'),\n ('P13747', 'R129A', 'Q13241'),\n ('Q9Y4K3', 'L74H', 'P61088'),\n ('Q9BV40', 'L44P', 'O43752'),\n ('P04637', 'L25A', 'Q09472'),\n ('Q16665', 'Y340T', 'P27540'),\n ('Q16531', 'W561K', 'Q13619'),\n ('Q96QK1', 'F541D', 'Q9UBQ0'),\n ('P13747', 'T235A', 'Q13241'),\n ('Q9BV40', 'L16P', 'Q9UNK0'),\n ('Q16665', 'P564G', 'Q96KS0'),\n ('P11362', 'P252R', 'P09038'),\n ('O14641', 'Y27D', 'O15169'),\n ('O15085', 'R868G', 'P61586'),\n ('P84243', 'G91V', 'P62805'),\n ('O43543', 'V160I', 'O75771'),\n ('O15111', 'K44M', 'P25963'),\n ('P11362', 'P252R', 'P31371'),\n ('P12272', 'I64L', 'Q03431'),\n ('P04637', 'L22A', 'Q09472'),\n ('O15085', 'R872D', 'P61586'),\n ('P61326', 'E68R', 'Q9BRP8'),\n ('Q8NI22', 'D122V', 'P49257'),\n ('Q13257', 'W167A', 'Q12834'),\n ('P01133', 'L996V', 'P00533'),\n ('P01133', 'H980Y', 'P00533'),\n ('Q92900', 'E182R', 'Q9HAU5'),\n ('Q13241', 'N158A', 'P13747'),\n ('P10276', 'P375L', 'P48443'),\n ('Q8IYM1', 'D197N', 'Q14141'),\n ('Q92692', 'F145A', 'Q495A1'),\n ('Q9BV36', 'R35V', 'P51159'),\n ('Q96QK1', 'T629D', 'Q9UBQ0'),\n ('P02489', 'R116C', 'P02511'),\n ('Q9UK55', 'E404A', 'P00742'),\n ('Q10567', 'I85D', 'P84077'),\n ('P02538', 'I462S', 'O76015'),\n ('P13489', 'Y438A', 'P03950'),\n ('O43809', 'Y160A', 'Q16630'),\n ('Q96I25', 'R375A', 'P26368'),\n ('Q96CA5', 'H164R', 'P55211'),\n ('Q9Y2M5', 'L148A', 'Q13618'),\n ('Q16665', 'P564G', 'Q9GZT9'),\n ('Q99558', 'K430A', 'O15111'),\n ('Q8WXD5', 'S25N', 'Q9H840'),\n ('P52294', 'T433M', 'Q9UKX7'),\n ('P84077', 'L77D', 'Q10567'),\n ('Q99814', 'Q322E', 'P27540'),\n ('Q9BV40', 'L44P', 'Q9UNK0'),\n ('P11802', 'R24H', 'P55273'),\n ('P40692', 'F80V', 'P54278'),\n ('Q14457', 'G120E', 'Q07817'),\n ('O43541', 'G471S', 'Q15797'),\n ('Q07812', 'D68R', 'Q07817'),\n ('P61224', 'F64A', 'P47736'),\n ('Q8WXH0', 'Y6878A', 'Q9UH99'),\n ('Q9BV40', 'V20P', 'O15400'),\n ('Q15836', 'L53P', 'Q9UNK0'),\n ('Q16531', 'A400D', 'Q13619'),\n ('O15085', 'D873N', 'P61586'),\n ('P38919', 'R179E', 'O15234'),\n ('P11940', 'K580A', 'Q9BPZ3'),\n ('Q15672', 'L159F', 'P15923'),\n ('Q16611', 'L163V', 'Q07817'),\n ('P25815', 'F74G', 'P23297'),\n ('P11802', 'S52N', 'P42772'),\n ('O00267', 'I194V', 'P63272'),\n ('P51809', 'L157P', 'Q9UNK0'),\n ('Q13133', 'I442A', 'Q15788'),\n ('Q8IXQ5', 'A153T', 'Q13618'),\n ('P11802', 'R24C', 'P55273'),\n ('Q99814', 'Y342T', 'P27540'),\n ('Q9BV40', 'L51P', 'O15400'),\n ('Q8WXH0', 'P6883A', 'Q9UH99'),\n ('P42773', 'F37I', 'Q00534'),\n ('P84243', 'E95A', 'P62805'),\n ('Q495M9', 'E393D', 'Q9Y6N9'),\n ('Q9HCG8', 'N171A', 'P38919'),\n ('P10276', 'P375L', 'P28702'),\n ('P55957', 'G94A', 'Q92843'),\n ('P15056', 'I666R', 'Q02750'),\n ('P63279', 'R17E', 'P61956'),\n ('Q07812', 'M74E', 'Q92843'),\n ('Q14203', 'Q93R', 'P30622'),\n ('O43617', 'K32Q', 'O75865'),\n ('P51809', 'T129P', 'O43752'),\n ('P02538', 'I462S', 'Q15323'),\n ('P61326', 'E72R', 'Q9BRP8'),\n ('Q96AX1', 'Y438P', 'Q9H269'),\n ('O95405', 'A797P', 'P84022'),\n ('O14965', 'G198L', 'Q9NQS7'),\n ('Q9Y376', 'M260E', 'Q9P289'),\n ('P61326', 'E72A', 'Q9BRP8'),\n ('P01133', 'D973Y', 'P00533'),\n ('O43521', 'G66E', 'Q92843'),\n ('Q00534', 'D110N', 'P42773'),\n ('Q96AX1', 'Y438D', 'Q9H269'),\n ('P38919', 'Y205A', 'O15234'),\n ('P62195', 'R258W', 'P43686'),\n ('Q53EL6', 'D253A', 'P60842'),\n ('Q96AX1', 'K429D', 'Q9H269'),\n ('Q13542', 'L59A', 'P06730'),\n ('Q9UBQ0', 'L142D', 'Q96QK1'),\n ('P51587', 'V1532I', 'Q06609'),\n ('P46527', 'Y89A', 'P07948'),\n ('Q15836', 'L46P', 'O15400'),\n ('P16220', 'S142L', 'Q92793'),\n ('P26715', 'Q212A', 'P13747'),\n ('P56945', 'F794R', 'Q8N5H7'),\n ('Q14457', 'F123A', 'Q16611'),\n ('Q9Y2M5', 'I111A', 'Q13618'),\n ('P13646', 'R355H', 'P35908'),\n ('P61224', 'Q63E', 'P47736'),\n ('P16220', 'S142L', 'Q09472'),\n ('P01116', 'K128A', 'P04049'),\n ('P13489', 'Y435A', 'P03950'),\n ('Q9Y570', 'S156A', 'P67775'),\n ('Q15013', 'F191A', 'Q13257'),\n ('P55211', 'P336S', 'P98170'),\n ('P84243', 'G91V', 'Q9UER7'),\n ('O14980', 'F561A', 'O95149'),\n ('O75771', 'R165Q', 'O43543'),\n ('Q15843', 'A72R', 'P62837'),\n ('P55957', 'D95A', 'Q92843'),\n ('Q9Y376', 'R227A', 'O95747'),\n ('Q9Y294', 'D37A', 'P54198'),\n ('P25815', 'I75G', 'P23297'),\n ('Q9Y376', 'R227A', 'Q9UEW8'),\n ('P01903', 'G53H', 'P28068'),\n ('P54727', 'L8A', 'P55036'),\n ('Q8NI22', 'D89A', 'P49257'),\n ('P51809', 'L136P', 'Q9UNK0'),\n ('Q9Y248', 'D24G', 'Q9BRT9'),\n ('P13747', 'T235A', 'P26715'),\n ('P61081', 'N113A', 'Q15843'),\n ('Q15788', 'L693A', 'Q13133'),\n ('O15111', 'S176E', 'P25963'),\n ('O43521', 'G66A', 'P10415'),\n ('Q00987', 'Y489F', 'O15151'),\n ('P40692', 'C77R', 'P54278'),\n ('P15056', 'R509H', 'P04049'),\n ('O15085', 'R867Q', 'P61586'),\n ('P00533', 'L858R', 'Q9NSE2'),\n ('O00311', 'I99L', 'Q9UBU7'),\n ('Q15836', 'L53P', 'O43752'),\n ('P38919', 'T178D', 'O15234'),\n ('Q96QK1', 'R637D', 'Q9UBQ0'),\n ('P23297', 'L12H', 'P25815'),\n ('Q9H334', 'W534R', 'O15409'),\n ('Q13241', 'L162A', 'P17693'),\n ('O15111', 'K44A', 'P25963'),\n ('Q12918', 'E200R', 'Q9UHP7'),\n ('Q13542', 'Y54A', 'P06730'),\n ('Q9BV36', 'R35F', 'P51159'),\n ('P25815', 'F71A', 'P23297'),\n ('P84077', 'I49D', 'Q10567'),\n ('P25815', 'I12A', 'P23297'),\n ('Q9Y4K3', 'I72F', 'P61088'),\n ('P51809', 'L157P', 'O43752'),\n ('P21912', 'R177A', 'P31040'),\n ('Q14203', 'Q93K', 'P30622'),\n ('P01270', 'H63A', 'Q03431'),\n ('P13501', 'E49A', 'P02776'),\n ('P51809', 'T129P', 'O15400'),\n ('P00492', 'P38S', 'Q9NRG1'),\n ('P61326', 'D66R', 'Q9BRP8'),\n ('P02671', 'C184W', 'P02679'),\n ('Q9Y4K3', 'L74K', 'P61088'),\n ('P61587', 'V87R', 'O43157'),\n ('Q9Y248', 'I26T', 'Q9BRT9'),\n ('Q9UBQ0', 'A141D', 'Q96QK1'),\n ('Q9UBQ0', 'G94P', 'Q96QK1'),\n ('Q9BZW8', 'K68A', 'P09326'),\n ('O00311', 'K416T', 'Q9UBU7'),\n ('Q9UJM3', 'Y358A', 'P00533'),\n ('Q9BV40', 'L16P', 'O15400'),\n ('Q9H269', 'R725E', 'Q96AX1'),\n ('Q07812', 'M74R', 'Q92843'),\n ('Q9UBQ0', 'W93D', 'Q96QK1'),\n ('P16144', 'R1281A', 'Q15149'),\n ('P11940', 'K580A', 'Q9H074'),\n ('P11802', 'N41S', 'P42772'),\n ('Q15836', 'V25P', 'O15400'),\n ('Q16665', 'P564G', 'Q9H6Z9'),\n ('Q8IWE4', 'D271A', 'Q13618'),\n ('Q8WXH0', 'L6876A', 'Q9UH99'),\n ('P63272', 'L10V', 'O00267'),\n ('O15085', 'I876M', 'P61586'),\n ('P63279', 'V25M', 'P63165'),\n ('Q8WXD5', 'V57L', 'Q9H840'),\n ('Q96AX1', 'I441K', 'Q9H269'),\n ('Q13241', 'F114A', 'P17693'),\n ('P01903', 'G53H', 'P01911'),\n ('P26715', 'K217A', 'P13747'),\n ('Q92730', 'E48A', 'O43157'),\n ('Q9BV36', 'R35W', 'P51159'),\n ('Q9Y4K3', 'I72K', 'P61088'),\n ('Q99814', 'M338E', 'P27540'),\n ('P11362', 'P252R', 'P10767'),\n ('Q9UJM3', 'F352A', 'P00533'),\n ('P62805', 'R36A', 'Q71DI3'),\n ('P46734', 'T222E', 'Q9Y463'),\n ('P01270', 'K58L', 'Q03431'),\n ('Q9H840', 'R68C', 'Q8WXD5'),\n ('Q99728', 'V695L', 'P38398'),\n ('P54198', 'L464D', 'Q9Y294'),\n ('Q9Y570', 'H349A', 'P67775'),\n ('Q9BV40', 'L44P', 'O15400'),\n ('O00311', 'Q106R', 'Q9UBU7'),\n ('Q9HAU5', 'F1113E', 'Q92900'),\n ('Q15836', 'T18P', 'Q9UNK0'),\n ('P01100', 'K176N', 'P05412'),\n ('Q16531', 'R589E', 'Q13619'),\n ('Q71DI3', 'R64A', 'P62805'),\n ('Q9UBU7', 'L306I', 'O00311'),\n ('Q13241', 'T146A', 'P17693'),\n ('P61587', 'F124Y', 'O43157'),\n ('Q15836', 'L53P', 'O15400'),\n ('Q53EL6', 'E249A', 'P60842'),\n ('Q9HAU5', 'L1174E', 'Q92900'),\n ('P51809', 'L136P', 'O43752'),\n ('O14965', 'G198A', 'Q9NQS7'),\n ('Q9HCG8', 'K172A', 'P38919'),\n ('Q9Y376', 'V224E', 'Q9P289'),\n ('P01112', 'Y40C', 'P04049'),\n ('O14980', 'L525A', 'O95149'),\n ('Q96B26', 'D202V', 'Q9NQT4'),\n ('O14796', 'R31K', 'Q9UN19'),\n ('P63272', 'S65N', 'O00267'),\n ('Q13241', 'N148A', 'P17693'),\n ('Q9H4D5', 'R409W', 'Q9UKK6'),\n ('O14980', 'I521A', 'O95149'),\n ('P35908', 'L484P', 'P13646'),\n ('O43809', 'Y158A', 'Q16630'),\n ('P63000', 'G12V', 'P52757'),\n ('P35908', 'L484P', 'P08727'),\n ('Q07812', 'M74D', 'Q92843'),\n ('P68431', 'S88A', 'Q9UER7'),\n ('P61326', 'K41D', 'P38919'),\n ('Q13241', 'N148A', 'P13747'),\n ('P12272', 'I67A', 'Q03431'),\n ('P40337', 'C162F', 'Q15369'),\n ('O95149', 'Y147A', 'O14980'),\n ('Q9NPD8', 'R60E', 'Q9NW38'),\n ('P42771', 'M53I', 'Q00534'),\n ('Q9Y2M5', 'C146A', 'Q13618'),\n ('P35908', 'L484P', 'P19012'),\n ('Q9UBQ0', 'R104D', 'Q96QK1'),\n ('Q9Y376', 'M260A', 'Q7RTN6'),\n ('Q07820', 'L213A', 'Q07812'),\n ('P11802', 'R24C', 'P42773'),\n ('P61326', 'E20R', 'P38919'),\n ('P15056', 'M517W', 'P04049'),\n ('P56945', 'D797R', 'Q8N5H7'),\n ('Q9BV40', 'V20P', 'O43752'),\n ('P16144', 'R1225H', 'Q15149'),\n ('P48059', 'F42A', 'Q13418'),\n ('P84077', 'H80D', 'Q10567'),\n ('P01133', 'K998R', 'P00533'),\n ('Q16665', 'Q320E', 'P27540'),\n ('O43521', 'G66A', 'Q07817'),\n ('Q9Y3B2', 'P10L', 'Q9NQT4'),\n ('P84243', 'S58A', 'P62805'),\n ('O95149', 'L8A', 'O14980'),\n ('P01903', 'F49S', 'P02686'),\n ('P01270', 'V62A', 'Q03431'),\n ('Q92900', 'V205I', 'Q9HAU5'),\n ('Q9BV40', 'L51P', 'O43752'),\n ('Q14457', 'L116A', 'Q07817'),\n ('Q12918', 'E200A', 'Q9UHP7'),\n ('P84243', 'C111E', 'Q9NVP2'),\n ('P01116', 'E37G', 'P50749'),\n ('Q96I25', 'R375D', 'P26368'),\n ('Q9Y570', 'S156T', 'P67775'),\n ('Q9UH99', 'H628A', 'Q8WXH0'),\n ('Q13241', 'D163A', 'P17693'),\n ('Q8IWE4', 'D241A', 'Q13618'),\n ('P42771', 'M53I', 'P11802'),\n ('Q9BV36', 'R35K', 'P51159'),\n ('P84022', 'T330A', 'O95405'),\n ('Q9UBU9', 'H457A', 'Q9UKK6'),\n ('P26715', 'Q220A', 'P13747'),\n ('O14788', 'R223A', 'Q9Y6Q6'),\n ('Q9H4D5', 'R409W', 'Q9NPJ8'),\n ('P01133', 'K998S', 'P00533'),\n ('P84243', 'G91L', 'Q9UER7'),\n ('Q9UBQ0', 'Y139A', 'Q96QK1'),\n ('P54198', 'I461D', 'Q9Y294'),\n ('P56945', 'F794E', 'Q8N5H7'),\n ('P01133', 'M991S', 'P00533'),\n ('Q13241', 'N158A', 'P17693'),\n ('Q9Y4K3', 'I72D', 'P61088'),\n ('Q96MG7', 'L97A', 'Q8WV22'),\n ('Q15836', 'V25P', 'Q9UNK0'),\n ('Q0P5N6', 'G66D', 'O43924'),\n ('P55957', 'G94A', 'Q07817'),\n ('Q7Z3B4', 'R385K', 'P37198'),\n ('P19429', 'R145Q', 'P02585'),\n ('Q13241', 'L162A', 'P13747'),\n ('P42771', 'R24P', 'P11802'),\n ('Q92900', 'Y184D', 'Q9HAU5'),\n ('Q9UBQ0', 'P92A', 'Q96QK1'),\n ('P51809', 'L136P', 'O15400'),\n ('Q15836', 'T18P', 'O43752'),\n ('P21860', 'G284R', 'P04626'),\n ('P63279', 'C93A', 'Q9UBT2'),\n ('Q99728', 'L44P', 'P38398'),\n ('P38919', 'D154K', 'O15234'),\n ('Q16531', 'I587D', 'Q13619'),\n ('Q9Y4K3', 'D57K', 'P61088'),\n ('P84243', 'G91L', 'P62805'),\n ('Q9BV40', 'V20P', 'Q9UNK0'),\n ('Q8IWE4', 'A265R', 'Q13618'),\n ('O43521', 'G66E', 'Q07817'),\n ('P23297', 'F16A', 'P25815'),\n ('P51587', 'V1532F', 'Q06609'),\n ('P30622', 'K252A', 'Q15691'),\n ('O43521', 'G66E', 'P10415'),\n ('P35908', 'L484P', 'O76015'),\n ('P84243', 'Q94A', 'Q9UER7'),\n ('Q96QK1', 'L589D', 'Q9UBQ0'),\n ('P23297', 'F72L', 'P25815'),\n ('Q15836', 'L46P', 'O43752')]"
     },
     "execution_count": 64,
     "metadata": {},
     "output_type": "execute_result"
    }
   ],
   "source": [
    "get_array_of_tuples(intact_data_unique_interactions)"
   ],
   "metadata": {
    "collapsed": false,
    "pycharm": {
     "name": "#%%\n"
    }
   }
  },
  {
   "cell_type": "code",
   "execution_count": 62,
   "outputs": [
    {
     "data": {
      "text/plain": "[('P28062', 'R216W', 'P40306'),\n ('Q15842', 'E237K', 'Q14654'),\n ('Q15842', 'E237K', 'P63252'),\n ('Q9UKS6', 'R24H', 'Q9BY11'),\n ('Q9UKS6', 'R24H', 'Q9UNF0'),\n ('Q9UKS6', 'R24H', 'Q5TZC3'),\n ('Q9UKS6', 'R24H', 'Q6FIA3'),\n ('O15041', 'E364K', 'Q9Y4D7'),\n ('O43684', 'D117G', 'Q12834'),\n ('Q13418', 'N202K', 'Q9Y243'),\n ('Q13418', 'N202K', 'O15530'),\n ('Q13418', 'N202K', 'P31749'),\n ('Q9UL54', 'V301M', 'P46734'),\n ('Q9UL54', 'V301M', 'P52564'),\n ('P04637', 'R280K', 'P62993'),\n ('P04637', 'R280K', 'Q96KQ4'),\n ('P04637', 'R280K', 'Q8WUF5'),\n ('P04637', 'R280K', 'Q06187'),\n ('Q01196', 'G95R', 'Q13951'),\n ('P48544', 'F343L', 'P48549'),\n ('P01011', 'R255Q', 'P07288'),\n ('P01011', 'R255Q', 'P26927'),\n ('P01011', 'R255Q', 'P20151'),\n ('O14980', 'E571K', 'O95149'),\n ('Q12840', 'G36R', 'O60282'),\n ('Q71DI3', 'E98Q', 'P62805'),\n ('P42336', 'G1049R', 'Q13535'),\n ('Q14469', 'R46Q', 'Q9UBP5'),\n ('Q14469', 'R46Q', 'Q02363'),\n ('Q14469', 'R46Q', 'Q02535'),\n ('P20810', 'D466H', 'P17655'),\n ('P20810', 'D466H', 'P07384'),\n ('P20810', 'D466H', 'B2RDI5'),\n ('P20810', 'D466H', 'B4DWH5'),\n ('P67775', 'E297K', 'Q15173'),\n ('P67775', 'E297K', 'P46531'),\n ('P67775', 'E297K', 'Q15172'),\n ('P67775', 'E297K', 'Q14738'),\n ('P67775', 'E297K', 'Q16537'),\n ('P67775', 'E297K', 'P42773'),\n ('P67775', 'E297K', 'P62136'),\n ('O15111', 'M65I', 'Q13451'),\n ('O15111', 'M65I', 'O43353'),\n ('Q14005', 'S314C', 'Q9UME6'),\n ('Q9H4L4', 'Q399H', 'P61956'),\n ('Q9H4L4', 'Q399H', 'P55854'),\n ('Q9UBN7', 'D567Y', 'Q96DB2'),\n ('Q7RTN6', 'R226G', 'Q15831'),\n ('Q7RTN6', 'R226G', 'Q9Y376'),\n ('Q9HAP6', 'S115L', 'P78352'),\n ('Q9UHP3', 'S507L', 'P54725'),\n ('Q9UHP3', 'S507L', 'Q15843'),\n ('Q9UHP3', 'S507L', 'A8K1J3'),\n ('O14936', 'M507I', 'O14910'),\n ('O14936', 'M507I', 'Q9HAP6'),\n ('O14936', 'M507I', 'Q9NUP9'),\n ('Q96T51', 'V277I', 'P20339'),\n ('Q9NZM3', 'E1016V', 'Q15811'),\n ('P11215', 'F166L', 'Q9NNX6'),\n ('P11215', 'F166L', 'Q9H2X3'),\n ('P05231', 'S49C', 'P40189'),\n ('P05231', 'S49C', 'D6RH03'),\n ('P63096', 'R105C', 'O14924'),\n ('P63096', 'R105C', 'O43566'),\n ('Q9NZM3', 'D787N', 'Q86WN1'),\n ('Q9NZM3', 'D787N', 'Q15811'),\n ('Q9NZM3', 'D787N', 'Q96B97'),\n ('Q9NZM3', 'D787N', 'O75962'),\n ('P42338', 'E1051K', 'P27986'),\n ('P42338', 'E1051K', 'P43403'),\n ('P42338', 'E1051K', 'P12931'),\n ('P42338', 'E1051K', 'Q06187'),\n ('P42338', 'E1051K', 'P62993'),\n ('Q9UQM7', 'D90N', 'Q9C0D5'),\n ('Q9Y2T1', 'D172H', 'Q12834'),\n ('Q96KN2', 'E271K', 'Q96KP4'),\n ('P36896', 'D268E', 'Q04771'),\n ('P84022', 'Q365P', 'Q99717'),\n ('P84022', 'Q365P', 'B7Z5N5'),\n ('P84022', 'Q365P', 'Q53XR6'),\n ('Q01094', 'Y168C', 'Q14188'),\n ('Q01094', 'Y168C', 'B4DLQ9'),\n ('P60709', 'R335P', 'Q8IZ21'),\n ('P40145', 'M1000L', 'P63096'),\n ('P40145', 'M1000L', 'P04899'),\n ('P54646', 'E64D', 'Q96RR4'),\n ('P54646', 'E64D', 'Q99683'),\n ('P54646', 'E64D', 'O95382'),\n ('P54646', 'E64D', 'O60307'),\n ('P54646', 'E64D', 'Q13131'),\n ('P54646', 'R110W', 'O60307'),\n ('O60506', 'R192H', 'Q9NQ94'),\n ('O60506', 'R192H', 'P52272'),\n ('O60506', 'R192H', 'O43390'),\n ('P27482', 'R31C', 'P16298'),\n ('Q96B97', 'T19K', 'P56945'),\n ('P33778', 'E72K', 'Q96QV6'),\n ('P33778', 'E72K', 'P20671'),\n ('P03372', 'P222S', 'Q92731'),\n ('P03372', 'P222S', 'P13056'),\n ('P03372', 'P222S', 'P37231'),\n ('P03372', 'P222S', 'P10827'),\n ('Q9UQQ2', 'R398C', 'P62993'),\n ('Q9UQQ2', 'R398C', 'P12931'),\n ('Q9UQQ2', 'R398C', 'P43403'),\n ('P41002', 'E281D', 'P06493'),\n ('P04637', 'R273L', 'Q13625'),\n ('P04637', 'R273L', 'P62993'),\n ('P04637', 'R273L', 'Q96KQ4'),\n ('P04637', 'R273L', 'Q8WUF5'),\n ('P04637', 'R273L', 'Q06187'),\n ('Q04637', 'R888Q', 'P60842'),\n ('Q04637', 'R888Q', 'Q14240'),\n ('Q13619', 'C94S', 'Q13620'),\n ('Q13619', 'C94S', 'Q14145'),\n ('P12757', 'N214S', 'P12755'),\n ('P62805', 'T74M', 'P84243'),\n ('P62805', 'T74M', 'Q71DI3'),\n ('P62805', 'T74M', 'P49450'),\n ('P62805', 'T74M', 'Q16514'),\n ('P62805', 'T74M', 'P68431'),\n ('Q9UBL9', 'D220E', 'P51575'),\n ('Q9UBL9', 'D220E', 'P56373'),\n ('P19957', 'A84T', 'Q9UNI1'),\n ('Q9Y6R1', 'I391V', 'Q9Y6M7'),\n ('P15056', 'A569D', 'Q15349'),\n ('P15056', 'A569D', 'Q13233'),\n ('P15056', 'A569D', 'Q8IVT5'),\n ('P15056', 'A569D', 'P27361'),\n ('P15056', 'A569D', 'P10398'),\n ('P15056', 'A569D', 'P53667'),\n ('P15056', 'A569D', 'P04049'),\n ('P01112', 'G12C', 'Q12967'),\n ('P01112', 'G12C', 'O95267'),\n ('P01112', 'G12C', 'Q8TDF6'),\n ('P01112', 'G12C', 'Q9UJ41'),\n ('P01112', 'G12C', 'Q8IV61'),\n ('P01112', 'G12C', 'O15211'),\n ('P01112', 'G12C', 'Q9Y4G8'),\n ('P01112', 'G12C', 'Q8IZJ4'),\n ('P01112', 'G12C', 'Q13671'),\n ('P01112', 'G12C', 'Q13905'),\n ('P01112', 'G12C', 'P55196'),\n ('P01112', 'G12C', 'Q9P212'),\n ('P01112', 'G12C', 'Q13972'),\n ('P01112', 'G12C', 'Q9NZL6'),\n ('P01112', 'G12C', 'Q07890'),\n ('P01112', 'G12C', 'Q07889'),\n ('P01112', 'G12C', 'B7Z2W5'),\n ('P01112', 'G12C', 'B7ZM61'),\n ('P01112', 'G12C', 'G5E9C8'),\n ('P01112', 'G12C', 'Q6PCE1'),\n ('P05981', 'G94V', 'P08709'),\n ('P05981', 'G94V', 'P14210'),\n ('Q06141', 'W158C', 'P05451'),\n ('A0AVT1', 'L719I', 'P61077'),\n ('Q02388', 'E492K', 'P02751'),\n ('P54762', 'R682H', 'P09619'),\n ('O14933', 'P45A', 'O60260'),\n ('Q96DX5', 'S257P', 'Q15369'),\n ('Q9Y2Z0', 'K241N', 'K9JA46'),\n ('Q07889', 'T200A', 'P01112'),\n ('Q07889', 'T200A', 'P62070'),\n ('Q07889', 'T200A', 'O14807'),\n ('Q07889', 'T200A', 'P10301'),\n ('P68431', 'V118M', 'P04908'),\n ('P68431', 'V118M', 'P62805'),\n ('P68431', 'V118M', 'P16104'),\n ('P68431', 'V118M', 'P0C0S8'),\n ('P68431', 'V118M', 'O75367'),\n ('P68431', 'V118M', 'P0C0S5'),\n ('P11802', 'K155Q', 'P38936'),\n ('Q13951', 'Q67H', 'Q01196'),\n ('Q13951', 'Q67H', 'Q13950'),\n ('Q13951', 'Q67H', 'Q13761'),\n ('Q4KMG0', 'T56S', 'Q9BWV1'),\n ('Q7L576', 'V1019M', 'Q9Y2A7'),\n ('Q15375', 'R895G', 'P29320'),\n ('Q15375', 'R895G', 'P29317'),\n ('Q15375', 'R895G', 'P07947'),\n ('P62807', 'S125F', 'P16104'),\n ('P0DI81', 'F40L', 'Q9Y296'),\n ('Q02246', 'S334W', 'Q12860'),\n ('Q92736', 'E1052K', 'P21817'),\n ('Q92736', 'E1052K', 'Q15413'),\n ('P35221', 'E432Q', 'P18206'),\n ('P35221', 'E432Q', 'B3KXA2'),\n ('P04908', 'E93K', 'P06899'),\n ('P00747', 'D665H', 'P08697'),\n ('P00747', 'D665H', 'P00450'),\n ('P00747', 'D665H', 'Q9UIV8'),\n ('P98164', 'N3887K', 'P30533'),\n ('P47900', 'I216F', 'P30542'),\n ('Q14183', 'Y343C', 'O14795'),\n ('P13637', 'V642I', 'P05023'),\n ('P13637', 'V642I', 'P50993'),\n ('P13637', 'V642I', 'Q13733'),\n ('Q9BZL6', 'D759E', 'O60229'),\n ('P04629', 'R583H', 'Q07912'),\n ('P04629', 'R583H', 'P27361'),\n ('Q92736', 'A118V', 'Q15413'),\n ('Q92736', 'A118V', 'Q14643'),\n ('Q9Y2U5', 'E404K', 'Q99683'),\n ('P42680', 'G269D', 'Q92569'),\n ('P42680', 'G269D', 'P51813'),\n ('P42680', 'G269D', 'O00459'),\n ('Q14565', 'T277I', 'Q06609'),\n ('Q14565', 'T277I', 'B4DMW6'),\n ('Q96RT1', 'E1316K', 'P78352'),\n ('Q9H422', 'D201N', 'P53671'),\n ('P61224', 'S17C', 'O00522'),\n ('P61224', 'S17C', 'Q13905'),\n ('P61224', 'S17C', 'Q12967'),\n ('P61224', 'S17C', 'O95398'),\n ('P61224', 'S17C', 'A4D1F7'),\n ('Q13087', 'T449M', 'P07237'),\n ('Q6P2Q9', 'E2173K', 'Q9NR30'),\n ('Q9UM47', 'D1905H', 'O15111'),\n ('Q9UM47', 'D1905H', 'Q06330'),\n ('Q13322', 'P448L', 'Q02750'),\n ('Q9H0K1', 'G170D', 'Q13131'),\n ('Q9H0K1', 'G170D', 'Q13418'),\n ('Q13951', 'R35P', 'Q01196'),\n ('Q9H7P9', 'R285C', 'P60953'),\n ('Q9H7P9', 'R285C', 'P63000'),\n ('Q9H7P9', 'R285C', 'P61586'),\n ('Q05655', 'Y525N', 'P46108'),\n ('Q05655', 'Y525N', 'P27361'),\n ('Q05655', 'Y525N', 'Q16539'),\n ('Q05655', 'Y525N', 'P36507'),\n ('Q05655', 'Y525N', 'Q9P0J1'),\n ('Q9UBT2', 'L266M', 'P63279'),\n ('Q9UBT2', 'L266M', 'P63146'),\n ('Q8N264', 'T290M', 'P60953'),\n ('P05771', 'A509V', 'Q9NSE2'),\n ('P05771', 'A509V', 'P06493'),\n ('P05129', 'R205Q', 'P07948'),\n ('P05129', 'R205Q', 'Q8N3E9'),\n ('P05129', 'R205Q', 'P16885'),\n ('P05129', 'R205Q', 'P12931'),\n ('P05129', 'R205Q', 'P46108'),\n ('O96017', 'R346C', 'O43293'),\n ('O96017', 'R346C', 'O15297'),\n ('Q13233', 'S1434R', 'P51617'),\n ('Q13233', 'S1434R', 'Q92918'),\n ('Q13233', 'S1434R', 'Q12851'),\n ('P07332', 'V625F', 'Q02790'),\n ('Q12756', 'R526W', 'Q9Y2X7'),\n ('P32246', 'H189Y', 'P30411'),\n ('Q8TD08', 'L245F', 'P24941'),\n ('Q8WXH5', 'M415I', 'Q15369'),\n ('P04626', 'V842I', 'Q13153'),\n ('Q9NTU7', 'R158H', 'Q6UW01'),\n ('Q9NVA2', 'R137C', 'Q16181'),\n ('Q9P0L2', 'A223V', 'Q13131'),\n ('Q9P0L2', 'A223V', 'Q7KZI7'),\n ('Q8N680', 'M80K', 'Q9Y2K1'),\n ('P01574', 'C38Y', 'P48551'),\n ('O14578', 'H169N', 'P19105'),\n ('Q8NFM4', 'I924M', 'O95622'),\n ('Q9BUF5', 'R391H', 'Q8WXI3'),\n ('Q9BUF5', 'R391H', 'Q13418'),\n ('Q9BUF5', 'R391H', 'P19838'),\n ('Q9BUF5', 'R391H', 'Q00653'),\n ('Q9BUF5', 'R391H', 'P68371'),\n ('Q9BUF5', 'R391H', 'Q71U36'),\n ('Q09472', 'A327V', 'Q99967'),\n ('Q09472', 'A327V', 'Q99966'),\n ('Q09472', 'A327V', 'D9ZGF1'),\n ('P37173', 'E485K', 'P27986'),\n ('P37173', 'E485K', 'Q13153'),\n ('P21673', 'L148M', 'Q96F10'),\n ('P21673', 'L148M', 'I3L0W4'),\n ('P21673', 'L148M', 'Q6ICU9'),\n ('P04637', 'R273H', 'Q13625'),\n ('P04637', 'R273H', 'P62993'),\n ('P04637', 'R273H', 'Q96KQ4'),\n ('P04637', 'R273H', 'Q8WUF5'),\n ('P04637', 'R273H', 'Q06187'),\n ('P01106', 'E416K', 'Q99583'),\n ('P01106', 'E416K', 'P50539'),\n ('P01106', 'E416K', 'P61244'),\n ('P01106', 'E416K', 'Q8TAX8'),\n ('Q9BXB1', 'Q180R', 'O60469'),\n ('P04637', 'C176F', 'O15350'),\n ('P04637', 'C176F', 'Q96KQ7'),\n ('O43791', 'D201H', 'Q05516'),\n ('O60346', 'I1326V', 'P49841'),\n ('O60346', 'I1326V', 'P05771'),\n ('O60346', 'I1326V', 'Q7KZI7'),\n ('O60346', 'I1326V', 'P31749'),\n ('O95704', 'M408V', 'P05067'),\n ('O95704', 'M408V', 'P51693'),\n ('O95704', 'M408V', 'Q06481'),\n ('O95704', 'M408V', 'B4DGD0'),\n ('O95704', 'M408V', 'B4DJT9'),\n ('O95704', 'M408V', 'B4E3I5'),\n ('O95704', 'M408V', 'E9PEV0'),\n ('O95704', 'M408V', 'E9PG40'),\n ('P54646', 'G159V', 'Q96RR4'),\n ('P54646', 'G159V', 'Q15831'),\n ('P54646', 'G159V', 'Q8IYT8'),\n ('P54646', 'G159V', 'Q99683'),\n ('P54646', 'G159V', 'O95382'),\n ('P54646', 'G159V', 'Q13131'),\n ('Q17RB8', 'T453I', 'P38398'),\n ('Q17RB8', 'T453I', 'Q9BV68'),\n ('Q17RB8', 'T453I', 'Q9UPQ4'),\n ('Q13077', 'L336V', 'Q9Y4K3'),\n ('Q13077', 'L336V', 'Q12933'),\n ('O14745', 'R198G', 'Q5T2W1'),\n ('Q9BRZ2', 'D17Y', 'Q99496'),\n ('Q93063', 'D547E', 'Q16394'),\n ('P36507', 'G83S', 'Q05655'),\n ('P36507', 'G83S', 'Q02750'),\n ('P15529', 'C35G', 'P01024'),\n ('O43521', 'R153P', 'Q16548'),\n ('O43521', 'R153P', 'Q07817'),\n ('O43521', 'R153P', 'Q92843'),\n ('O43521', 'R153P', 'Q07812'),\n ('O43521', 'R153P', 'P10415'),\n ('O43521', 'R153P', 'Q16611'),\n ('O43521', 'R153P', 'Q07820'),\n ('O43521', 'R153P', 'C8YZ26'),\n ('P08476', 'W338R', 'P09529'),\n ('P08476', 'W338R', 'P19883'),\n ('P08476', 'W338R', 'P21674'),\n ('P08476', 'W338R', 'O95633'),\n ('Q9BYG5', 'E214K', 'Q8TEW0'),\n ('Q9BYG5', 'E214K', 'Q8TEW8'),\n ('Q9BYG5', 'E214K', 'Q8N3R9'),\n ('P45985', 'S251I', 'Q5S007'),\n ('P45985', 'S251I', 'P52564'),\n ('Q15389', 'I304V', 'O15123'),\n ('P36871', 'I77M', 'Q96G03'),\n ('P02549', 'R60Q', 'Q59FP5'),\n ('Q02156', 'E407K', 'P15056'),\n ('Q14790', 'A404V', 'P42575'),\n ('Q14790', 'A404V', 'P49662'),\n ('Q14790', 'A404V', 'P55211'),\n ('Q99879', 'S88L', 'P16104'),\n ('Q12899', 'D21H', 'P61077'),\n ('P62714', 'L309R', 'Q9UIC8'),\n ('P62714', 'L309R', 'P46531'),\n ('P62714', 'L309R', 'P67775'),\n ('P62714', 'L309R', 'Q15172'),\n ('P62714', 'L309R', 'Q15173'),\n ('P62714', 'L309R', 'Q14738'),\n ('P62714', 'L309R', 'Q16537'),\n ('P62714', 'L309R', 'Q13362'),\n ('P62714', 'L309R', 'Q8WZ74'),\n ('P62714', 'L309R', 'Q8WWX0'),\n ('P62714', 'L309R', 'P60510'),\n ('P67936', 'R146P', 'P09493'),\n ('P67936', 'R146P', 'P07951'),\n ('P67936', 'R146P', 'P06753'),\n ('P67936', 'R146P', 'B7Z596'),\n ('P67936', 'R146P', 'B7Z722'),\n ('P67936', 'R146P', 'D9YZV4'),\n ('P67936', 'R146P', 'D9YZV5'),\n ('P67936', 'R146P', 'D9YZV7'),\n ('P67936', 'R146P', 'F5H7S3'),\n ('P67936', 'R146P', 'H7BYY1'),\n ('P67936', 'R146P', 'Q6ZN40'),\n ('O94813', 'T590M', 'Q9HCK4'),\n ('O94813', 'T590M', 'Q8WZ75'),\n ('O94813', 'T590M', 'Q9Y6N7'),\n ('Q15139', 'V822L', 'O15264'),\n ('Q15139', 'V822L', 'P12931'),\n ('Q15139', 'V822L', 'P45984'),\n ('P17538', 'D236N', 'P01009'),\n ('P17538', 'D236N', 'P08697'),\n ('P17538', 'D236N', 'P05067'),\n ('P17538', 'D236N', 'P01011'),\n ('Q15750', 'R336C', 'O14920'),\n ('P17947', 'R171L', 'Q01892'),\n ('P17947', 'R171L', 'P50549'),\n ('P17947', 'R171L', 'P19838'),\n ('P17947', 'R171L', 'P11308'),\n ('P07332', 'W726R', 'P10721'),\n ('Q14678', 'T1269M', 'P34947'),\n ('Q9NQ75', 'D8V', 'P46108'),\n ('P04637', 'R273C', 'Q13625'),\n ('P04637', 'R273C', 'P62993'),\n ('P04637', 'R273C', 'Q96KQ4'),\n ('P04637', 'R273C', 'Q8WUF5'),\n ('P04637', 'R273C', 'Q06187'),\n ('Q01543', 'A366T', 'P19419'),\n ('Q01543', 'A366T', 'P41212'),\n ('Q01543', 'A366T', 'P11831'),\n ('Q01543', 'A366T', 'P11308'),\n ('Q969H0', 'R465C', 'P42345'),\n ('O14802', 'T1046I', 'O95602'),\n ('Q13277', 'Y60C', 'B7Z425'),\n ('Q13277', 'Y60C', 'Q12846'),\n ('P04637', 'R248Q', 'Q13625'),\n ('P04637', 'R248Q', 'P62993'),\n ('P04637', 'R248Q', 'Q9H3D4'),\n ('P04637', 'R248Q', 'Q96KQ4'),\n ('P04637', 'R248Q', 'Q8WUF5'),\n ('P04637', 'R248Q', 'P07948'),\n ('P04637', 'R248Q', 'Q06187'),\n ('P04637', 'R248Q', 'H2EHT1'),\n ('P04637', 'R248Q', 'K7PPA8'),\n ('P05107', 'V415I', 'P20701'),\n ('Q13203', 'I230V', 'Q14324'),\n ('Q13203', 'I230V', 'Q8WZ42'),\n ('Q53EL6', 'G308A', 'P60842'),\n ('Q99962', 'A113V', 'Q99961'),\n ('Q99962', 'A113V', 'Q99963'),\n ('Q99962', 'A113V', 'Q6FGM0'),\n ('Q99962', 'A113V', 'Q7Z376'),\n ('Q99962', 'A113V', 'Q8IZ09'),\n ('O00141', 'K137N', 'Q9HC98'),\n ('O00141', 'K137N', 'O15530'),\n ('O00141', 'K137N', 'P49841'),\n ('O00141', 'K137N', 'P04049'),\n ('P42684', 'E455Q', 'Q5S007'),\n ('O95819', 'E198K', 'P51617'),\n ('O95819', 'E198K', 'Q96BR1'),\n ('O95819', 'E225Q', 'Q02156'),\n ('O95819', 'E225Q', 'Q96BR1'),\n ('O15143', 'D358N', 'Q9P1U1'),\n ('O15143', 'D358N', 'P61158'),\n ('P49356', 'D125H', 'P49354'),\n ('O95714', 'E4758Q', 'P61088'),\n ('O95714', 'E4758Q', 'P61077'),\n ('P06733', 'G156S', 'P13929'),\n ('Q14790', 'R233W', 'P55210'),\n ('Q14790', 'R233W', 'B4DWA2'),\n ('P40926', 'A252S', 'Q6ZMR3'),\n ('P52701', 'G1299C', 'P43246'),\n ('P52701', 'G1299C', 'P20585'),\n ('P52701', 'G1299C', 'E9PHA6'),\n ('P98160', 'V3446M', 'P35555'),\n ('P30041', 'M116I', 'P32119'),\n ('O15144', 'R279H', 'P59998'),\n ('Q6PIL6', 'P198T', 'Q9NS61'),\n ('Q9H172', 'N287T', 'P45844'),\n ('O76015', 'R354H', 'B4DRS2'),\n ('O76015', 'R354H', 'P48668'),\n ('O76015', 'R354H', 'P04259'),\n ('O76015', 'R354H', 'P13647'),\n ('O76015', 'R354H', 'P35908'),\n ('O76015', 'R354H', 'P78385'),\n ('O76015', 'R354H', 'Q14533'),\n ('P26038', 'R100H', 'P61586'),\n ('Q16288', 'R582W', 'Q07912'),\n ('P04637', 'P27S', 'Q92793'),\n ('P04637', 'P27S', 'Q09472'),\n ('P04626', 'E405D', 'P21860'),\n ('Q01892', 'L169R', 'P17947'),\n ('P12830', 'E243K', 'P22223'),\n ('P04264', 'A436V', 'P13645'),\n ('P04264', 'A436V', 'P35527'),\n ('P04264', 'A436V', 'B3KVF5'),\n ('P04264', 'A436V', 'P19012'),\n ('P04264', 'A436V', 'Q14525'),\n ('Q14155', 'R452Q', 'P60953'),\n ('Q14155', 'R452Q', 'P63000'),\n ('Q14155', 'R452Q', 'Q5S007'),\n ('O95782', 'R341P', 'Q96CW1'),\n ('Q8WXG8', 'K96R', 'P25815'),\n ('Q13547', 'E203G', 'O15379'),\n ('Q13547', 'E203G', 'Q9UQL6'),\n ('Q13547', 'E203G', 'Q92769'),\n ('O00217', 'E129K', 'O75489'),\n ('P51812', 'R158C', 'Q13164'),\n ('P51812', 'R158C', 'Q16539'),\n ('P51812', 'R158C', 'P25963'),\n ('P22894', 'H221N', 'P16035'),\n ('Q9UKX5', 'I267T', 'P04275'),\n ('Q9UPQ7', 'H273R', 'Q8N448'),\n ('P56945', 'Y747H', 'Q8N5H7'),\n ('P56945', 'Y747H', 'O75815'),\n ('P56945', 'Y747H', 'Q9BRG2'),\n ('P56945', 'Y747H', 'B3KNL6'),\n ('P56945', 'Y747H', 'B3KP06'),\n ('P56945', 'Y747H', 'B4DG32'),\n ('P13797', 'E396K', 'O75369'),\n ('P19429', 'R136Q', 'P45379'),\n ('P19429', 'R136Q', 'P10916'),\n ('P19429', 'R136Q', 'P02585'),\n ('P19429', 'R136Q', 'Q6FH91'),\n ('Q9P1U1', 'D59N', 'O15144'),\n ('Q9NRY4', 'P1402T', 'P61586'),\n ('Q9NRY4', 'P1402T', 'Q92730'),\n ('Q9NRY4', 'P1402T', 'P52198'),\n ('Q9NRY4', 'P1402T', 'P61587'),\n ('Q9Y6Q9', 'L1060F', 'P45481'),\n ('Q9Y6Q9', 'L1060F', 'Q92793'),\n ('Q9Y6Q9', 'L1060F', 'Q09472'),\n ('Q15717', 'E123Q', 'Q15233'),\n ('Q15717', 'E123Q', 'P11940'),\n ('Q15717', 'E123Q', 'Q13310'),\n ('Q15717', 'E123Q', 'Q96PK6'),\n ('Q15717', 'E123Q', 'A0AV96'),\n ('Q15717', 'E123Q', 'O95319'),\n ('Q15717', 'E123Q', 'Q96EP5'),\n ('Q13951', 'N63I', 'Q13950'),\n ('Q13951', 'N63I', 'Q13761'),\n ('P25103', 'V66L', 'P34981'),\n ('P07225', 'S172C', 'P00747'),\n ('P07225', 'S172C', 'P04070'),\n ('A0AVT1', 'Q793H', 'Q9H832'),\n ('P63252', 'A131T', 'Q14654'),\n ('P63252', 'A131T', 'Q15842'),\n ('P17787', 'G125S', 'P43681'),\n ('Q8NER5', 'R230I', 'Q04771'),\n ('O43424', 'R768G', 'P42262'),\n ('O43424', 'R768G', 'Q13002'),\n ('O43424', 'R768G', 'Q16478'),\n ('O43424', 'R768Q', 'P42262'),\n ('O43424', 'R768Q', 'Q13002'),\n ('O43424', 'R768Q', 'Q16478'),\n ('P15056', 'L537S', 'P53667'),\n ('Q01638', 'S164L', 'O95760'),\n ('P24534', 'I225M', 'P68104'),\n ('P24534', 'I225M', 'Q05639'),\n ('Q9BW62', 'M432I', 'B3KUK7'),\n ('Q13131', 'I241M', 'Q8TDC3'),\n ('Q13131', 'I241M', 'Q8IWQ3'),\n ('Q13131', 'I241M', 'P41240'),\n ('Q13131', 'I241M', 'P54646'),\n ('Q13131', 'I241M', 'Q8N5S9'),\n ('Q13131', 'I241M', 'P78362'),\n ('Q13131', 'I241M', 'Q8IYT8'),\n ('Q13131', 'I241M', 'O60285'),\n ('Q13131', 'I241M', 'Q9Y2K2'),\n ('Q13131', 'I241M', 'Q9NRH2'),\n ('P10589', 'A351T', 'P03372'),\n ('P10589', 'A351T', 'P41235'),\n ('P68431', 'E106Q', 'P04908'),\n ('P68431', 'E106Q', 'P62805'),\n ('P68431', 'E106Q', 'Q9UER7'),\n ('P68431', 'E106Q', 'Q16777'),\n ('P68431', 'E106Q', 'P16104'),\n ('P68431', 'E106Q', 'P0C0S8'),\n ('P68431', 'E106Q', 'O75367'),\n ('P68431', 'E106Q', 'P0C0S5'),\n ('P62807', 'E72Q', 'P16104'),\n ('Q8IY33', 'L96F', 'P12814'),\n ('Q8IY33', 'L96F', 'P35609'),\n ('O75582', 'E548K', 'Q9UK32'),\n ('O75582', 'E548K', 'Q15418'),\n ('O75582', 'E548K', 'Q15759'),\n ('O75582', 'E548K', 'O75676'),\n ('O75582', 'E548K', 'L7RSM2'),\n ('P08069', 'D300G', 'P04626'),\n ('P08069', 'D300G', 'P00533'),\n ('Q13829', 'R75H', 'Q8WZ19'),\n ('Q9H832', 'E219D', 'O15205'),\n ('P27348', 'T71I', 'P31947'),\n ('P27037', 'P308R', 'Q13873'),\n ('Q08209', 'E363Q', 'P63098'),\n ('Q08209', 'E363Q', 'E7ETZ0'),\n ('O00635', 'I29M', 'B2R862'),\n ('P68431', 'E106K', 'P04908'),\n ('P68431', 'E106K', 'P62805'),\n ('P68431', 'E106K', 'Q9UER7'),\n ('P68431', 'E106K', 'Q16777'),\n ('P68431', 'E106K', 'P16104'),\n ('P68431', 'E106K', 'P0C0S8'),\n ('P68431', 'E106K', 'O75367'),\n ('P68431', 'E106K', 'P0C0S5'),\n ('Q9UBF2', 'Q78H', 'P40616'),\n ('Q9UNI1', 'S103N', 'P01011'),\n ('Q9UNI1', 'S103N', 'P19957'),\n ('Q00537', 'R307T', 'P29317'),\n ('Q8NFX7', 'Q167H', 'Q16623'),\n ('Q8IVU3', 'G110E', 'Q5GLZ8'),\n ('Q99712', 'R133H', 'Q9NPI9'),\n ('Q15700', 'S269L', 'Q12959'),\n ('P32297', 'R110H', 'P30926'),\n ('P10398', 'Q412H', 'Q8NE63'),\n ('Q12905', 'L304I', 'Q12906'),\n ('O14827', 'P389S', 'P01116'),\n ('Q5M7Z0', 'W402L', 'P62837'),\n ('Q5M7Z0', 'W402L', 'Q5VVX9'),\n ('Q8NI35', 'M1436K', 'O95049'),\n ('O75360', 'R69W', 'Q9UBX0'),\n ('Q5HYK7', 'E594K', 'Q7Z6J0'),\n ('Q5HYK7', 'E594K', 'Q96B97'),\n ('Q02763', 'R867K', 'Q14451'),\n ('Q02763', 'R867K', 'Q14449'),\n ('Q02763', 'R867K', 'P35590'),\n ('P07384', 'R473C', 'P20810'),\n ('P55283', 'S195Y', 'P19022'),\n ('Q9HAV4', 'L638P', 'B4DV51'),\n ('P62308', 'G58E', 'P14678'),\n ('P62308', 'G58E', 'P62306'),\n ('Q8TBB1', 'K276N', 'Q9UPQ7'),\n ('O95835', 'E957Q', 'Q96KQ4'),\n ('O95835', 'E957Q', 'P06493'),\n ('O95835', 'E957Q', 'Q13188'),\n ('O95835', 'E957Q', 'Q96GD4'),\n ('O95835', 'E957Q', 'O14974'),\n ('O95835', 'E957Q', 'Q15286'),\n ('O95835', 'E957Q', 'P63000'),\n ('O95835', 'E957Q', 'P04049'),\n ('O95835', 'E957Q', 'Q13043'),\n ('Q16665', 'P805A', 'Q9NWT6'),\n ('P61956', 'D26N', 'Q9UBE0'),\n ('P61956', 'D26N', 'Q9GZZ9'),\n ('P61956', 'D26N', 'P49792'),\n ('P61956', 'D26N', 'Q13569'),\n ('P61956', 'D26N', 'P22314'),\n ('Q8TBX8', 'Q64H', 'O14986'),\n ('Q8TBX8', 'Q64H', 'Q99755'),\n ('Q13873', 'A235V', 'P27037'),\n ('Q02153', 'E368K', 'Q02108'),\n ('Q969J2', 'F101L', 'H0UIA5'),\n ('Q969J2', 'F101L', 'P57086'),\n ('Q969J2', 'F101L', 'Q0VAP0'),\n ('Q969J2', 'F101L', 'Q96IT1'),\n ('Q969J2', 'F101L', 'Q9NX65'),\n ('Q9UGC6', 'S150T', 'P08754'),\n ('Q9UGC6', 'S150T', 'P63096'),\n ('Q9UGC6', 'S150T', 'Q5TZX1'),\n ('P51813', 'S638L', 'P04626'),\n ('P51813', 'S638L', 'P00533'),\n ('Q15642', 'G543V', 'P07948'),\n ('Q15642', 'G543V', 'P12931'),\n ('O14544', 'S405F', 'Q15369'),\n ('Q16512', 'R833H', 'Q15759'),\n ('Q16512', 'R833H', 'P53778'),\n ('Q16512', 'R833H', 'Q16539'),\n ('Q16512', 'R833H', 'P61586'),\n ('Q16512', 'R833H', 'Q9BVT0'),\n ('O95760', 'D149N', 'Q01638'),\n ('Q9Y5X4', 'E384Q', 'P19793'),\n ('Q9Y5X4', 'E384Q', 'P11473'),\n ('P16066', 'G680V', 'Q13976'),\n ('Q96J84', 'L337F', 'O60500'),\n ('Q9NZM3', 'G234W', 'P36873'),\n ('O15144', 'D148N', 'P63261'),\n ('Q99967', 'D254N', 'Q92793'),\n ('Q99967', 'D254N', 'Q09472'),\n ('Q99967', 'D254N', 'Q7Z6C1'),\n ('Q02410', 'D754H', 'Q12959'),\n ('Q3MII6', 'D336E', 'P61019'),\n ('O00506', 'I270M', 'P62158'),\n ('O43424', 'S568F', 'Q16478'),\n ('P68431', 'E74K', 'P62805'),\n ('O75832', 'N12K', 'P11802'),\n ('Q16539', 'K248N', 'P20339'),\n ('Q13131', 'V35G', 'Q8TDC3'),\n ('Q13131', 'V35G', 'Q8IWQ3'),\n ('Q13131', 'V35G', 'P41240'),\n ('Q13131', 'V35G', 'P57059'),\n ('Q13131', 'V35G', 'Q9H0K1'),\n ('Q13131', 'V35G', 'P54646'),\n ('Q13131', 'V35G', 'Q8N5S9'),\n ('Q13131', 'V35G', 'O43318'),\n ('Q13131', 'V35G', 'P78362'),\n ('Q13131', 'V35G', 'Q9UM73'),\n ('Q13131', 'V35G', 'O60285'),\n ('Q13131', 'V35G', 'Q9H093'),\n ('Q13131', 'V35G', 'Q9Y2K2'),\n ('Q13131', 'V35G', 'Q9NRH2'),\n ('Q13131', 'V35G', 'Q15831'),\n ('P01133', 'K757R', 'Q15113'),\n ('P01133', 'K757R', 'P00747'),\n ('Q00534', 'H139Q', 'P20248'),\n ('Q00534', 'H139Q', 'P11802'),\n ('Q00534', 'H139Q', 'P50613'),\n ('Q00534', 'H139Q', 'Q15078'),\n ('Q00534', 'H139Q', 'Q9ULW0'),\n ('P15170', 'F250L', 'Q8IYD1'),\n ('Q16478', 'Q129H', 'O43424'),\n ('Q16478', 'Q129H', 'P42262'),\n ('Q16478', 'Q129H', 'Q13002'),\n ('Q16478', 'Q129H', 'Q13003'),\n ('Q07812', 'I133M', 'Q07817'),\n ('Q07812', 'I133M', 'P10415'),\n ('Q07812', 'I133M', 'Q16548'),\n ('Q07812', 'I133M', 'Q16611'),\n ('Q07812', 'I133M', 'Q07820'),\n ('Q07812', 'I133M', 'C8YZ26'),\n ('A0FGR9', 'R806C', 'Q9BSJ8'),\n ('Q15382', 'G29S', 'P01112'),\n ('Q06187', 'R332H', 'P62993'),\n ('Q06187', 'R332H', 'Q08881'),\n ('Q06187', 'R332H', 'P43405'),\n ('Q06187', 'R332H', 'P19174'),\n ('Q06187', 'R332H', 'O14492'),\n ('Q06187', 'R332H', 'P42680'),\n ('P10242', 'E306K', 'Q92793'),\n ('Q8IZP0', 'S119L', 'Q9Y2A7'),\n ('O43790', 'E388D', 'B3KVF5'),\n ('O43790', 'E388D', 'P19012'),\n ('P54652', 'G167E', 'P11142'),\n ('P17081', 'L171F', 'Q8NF50'),\n ('P62837', 'F31L', 'Q7Z6Z7'),\n ('P62837', 'F31L', 'Q96J02'),\n ('P62837', 'F31L', 'O00237'),\n ('P62837', 'F31L', 'Q9H0F5'),\n ('P62837', 'F31L', 'Q96PU5'),\n ('P62837', 'F31L', 'P46934'),\n ('O95835', 'E753D', 'P53667'),\n ('O95835', 'E753D', 'P04049'),\n ('O00522', 'Q272H', 'P61224'),\n ('O00522', 'Q272H', 'P62834'),\n ('P35226', 'D77H', 'Q3KNV8'),\n ('P35226', 'D77H', 'P35227'),\n ('P35226', 'D77H', 'Q06587'),\n ('P35226', 'D77H', 'P14373'),\n ('P35226', 'D77H', 'Q9Y508'),\n ('P35226', 'D77H', 'Q14258'),\n ('P35226', 'D77H', 'Q99496'),\n ('P35226', 'D77H', 'Q86UV6'),\n ('P35226', 'D77H', 'Q9BZR9'),\n ('Q7LDG7', 'E376K', 'P01116'),\n ('Q9Y616', 'E438K', 'Q16288'),\n ('Q15843', 'I26M', 'Q92995'),\n ('Q9Y5X4', 'L378F', 'P19793'),\n ('Q15147', 'L406V', 'Q9BRC7'),\n ('Q15427', 'F120L', 'Q14103'),\n ('P10643', 'D547H', 'P01031'),\n ('P49790', 'N671I', 'P62826'),\n ('P43405', 'V55M', 'P46109'),\n ('P43405', 'V55M', 'Q06187'),\n ('Q07954', 'D48N', 'P30533'),\n ('P04637', 'R248W', 'Q13625'),\n ('P04637', 'R248W', 'P62993'),\n ('P04637', 'R248W', 'Q9H3D4'),\n ('P04637', 'R248W', 'Q96KQ4'),\n ('P04637', 'R248W', 'Q8WUF5'),\n ('P04637', 'R248W', 'P07948'),\n ('P04637', 'R248W', 'Q06187'),\n ('P04637', 'R248W', 'H2EHT1'),\n ('P04637', 'R248W', 'K7PPA8'),\n ('P22314', 'M996I', 'Q9Y385'),\n ('P22314', 'M996I', 'P68036'),\n ('P22314', 'M996I', 'P49427'),\n ('P22314', 'M996I', 'Q712K3'),\n ('P22314', 'M996I', 'P63279'),\n ('P22314', 'M996I', 'P61088'),\n ('P22314', 'M996I', 'P51668'),\n ('P22314', 'M996I', 'P62837'),\n ('P22314', 'M996I', 'P61077'),\n ('P22314', 'M996I', 'P51965'),\n ('P22314', 'M996I', 'Q96LR5'),\n ('P22314', 'M996I', 'Q969T4'),\n ('P22314', 'M996I', 'P62253'),\n ('P22314', 'M996I', 'P60604'),\n ('P22314', 'M996I', 'Q8N2K1'),\n ('P14616', 'R1157C', 'P27986'),\n ('Q9UKX5', 'H275L', 'P05107'),\n ('Q9UKX5', 'H275L', 'P04275'),\n ('P62714', 'R268H', 'Q9UIC8'),\n ('P62714', 'R268H', 'P67775'),\n ('P62714', 'R268H', 'Q15172'),\n ('P62714', 'R268H', 'Q15173'),\n ('P62714', 'R268H', 'Q14738'),\n ('P62714', 'R268H', 'Q16537'),\n ('P62714', 'R268H', 'Q13362'),\n ('P62714', 'R268H', 'Q9Y570'),\n ('P62714', 'R268H', 'P60510'),\n ('P62826', 'G68D', 'Q8TD19'),\n ('P62826', 'G68D', 'P18754'),\n ('P62826', 'G68D', 'O95398'),\n ('P62826', 'G68D', 'Q5T081'),\n ('Q99549', 'A658V', 'Q9H9B1'),\n ('Q86SG6', 'R226W', 'Q04771'),\n ('P04626', 'L755S', 'Q96SB4'),\n ('P42345', 'E2388Q', 'P00519'),\n ('O00629', 'E455Q', 'Q9UKX7'),\n ('Q13546', 'A270S', 'P41743'),\n ('P22626', 'E42Q', 'P09651'),\n ('P22626', 'E42Q', 'P51991'),\n ('P22626', 'E42Q', 'Q99729'),\n ('Q8IWI9', 'L2403V', 'P61244'),\n ('Q8IWI9', 'L2403V', 'Q8TAX8'),\n ('Q9BYV6', 'H44R', 'Q8N5U6'),\n ('Q9BYV6', 'H44R', 'P14373'),\n ('Q07820', 'D242N', 'P55957'),\n ('Q07820', 'D242N', 'A8ASI8'),\n ('Q07820', 'D242N', 'B3KT21'),\n ('P61024', 'L37R', 'Q13309'),\n ('P61024', 'L37R', 'P33552'),\n ('Q15286', 'F45L', 'P63000'),\n ('P05771', 'D365N', 'P00533'),\n ('Q9UQB3', 'H690Y', 'P19022'),\n ('O00522', 'R426K', 'Q9HBA0'),\n ('O00522', 'R426K', 'P53355'),\n ('P07948', 'K209N', 'Q9UQ26'),\n ('P07948', 'K209N', 'O14492'),\n ('Q9UKK9', 'E103K', 'O95989'),\n ('Q9UQ80', 'R243K', 'P50579'),\n ('P52566', 'E154D', 'Q15669'),\n ('P52566', 'E154D', 'P60763'),\n ('P52566', 'E154D', 'Q6ICP4'),\n ('P10145', 'E65K', 'Q92583'),\n ('Q96E17', 'A98D', 'Q86UR5'),\n ('Q96E17', 'A98D', 'Q9UNE2'),\n ('Q96E17', 'A98D', 'Q9UQ26'),\n ('Q96E17', 'A98D', 'Q9Y2J0'),\n ('P0CG48', 'R454T', 'P21734'),\n ('P0CG48', 'R454T', 'P61077'),\n ('P0CG48', 'R454T', 'P09936'),\n ('P0CG48', 'R454T', 'P15374'),\n ('P84022', 'A382V', 'P12757'),\n ('P84022', 'A382V', 'P12755'),\n ('P04626', 'L755M', 'Q96SB4'),\n ('P04626', 'L755W', 'Q96SB4'),\n ('Q13347', 'R230C', 'Q13371'),\n ('Q13347', 'R230C', 'P20941'),\n ('P62807', 'E114K', 'P16104'),\n ('Q12965', 'G654V', 'P50570'),\n ('O14980', 'R712K', 'O95149'),\n ('P61073', 'S144R', 'P51681'),\n ('Q8N5V2', 'E456A', 'P63000'),\n ('Q8N5V2', 'E456A', 'P15153'),\n ('P18084', 'Y197H', 'Q9UKX5'),\n ('P18084', 'Y197H', 'P08648'),\n ('P41743', 'F582C', 'Q13163'),\n ('P41743', 'F582C', 'P19838'),\n ('P41743', 'F582C', 'P51617'),\n ('Q9NPH3', 'I155N', 'P27930'),\n ('Q9NPH3', 'I155N', 'P14778'),\n ('Q13257', 'I91N', 'O43683'),\n ('Q13257', 'I91N', 'Q9Y6D9'),\n ('P27986', 'G644C', 'Q15464'),\n ('P27986', 'G644C', 'P29353'),\n ('P27986', 'G644C', 'Q9UKW4'),\n ('P27986', 'G644C', 'P19174'),\n ('P27986', 'G644C', 'P16885'),\n ('P27986', 'H669Q', 'Q9UN19'),\n ('P27986', 'H669Q', 'Q13094'),\n ('P27986', 'H669Q', 'P29353'),\n ('P27986', 'H669Q', 'Q92835'),\n ('P27986', 'H669Q', 'P19174'),\n ('P27986', 'H669Q', 'P16885'),\n ('P21728', 'I205T', 'P29275'),\n ('P21728', 'I205T', 'P13945'),\n ('P21728', 'I205T', 'P30542'),\n ('Q05397', 'R550W', 'Q9ULH1'),\n ('Q05397', 'R550W', 'P29323'),\n ('Q05397', 'R550W', 'Q14451'),\n ('Q05397', 'R550W', 'P49841'),\n ('Q05397', 'R550W', 'P07949'),\n ('Q05397', 'R550W', 'P35968'),\n ('Q05397', 'R550W', 'P35916'),\n ('Q05397', 'R550W', 'P51813'),\n ('Q05397', 'R550W', 'P29317'),\n ('Q05397', 'R550W', 'P09769'),\n ('Q05397', 'R550W', 'P09619'),\n ('Q05397', 'R550W', 'O75962'),\n ('Q9UDY2', 'G23C', 'A0PJK8'),\n ('P51153', 'Y77H', 'Q5R372'),\n ('P49760', 'H238Q', 'P78362'),\n ('P01225', 'Y94H', 'P01215'),\n ('P01225', 'Y94H', 'Q6I9S8'),\n ('P56373', 'I322T', 'Q9UBL9'),\n ('Q9Y572', 'Q237K', 'O14974'),\n ('Q9Y572', 'Q237K', 'Q9P0K7'),\n ('Q16548', 'L99R', 'Q07812'),\n ('Q16548', 'L99R', 'Q16611'),\n ('Q16548', 'L99R', 'Q9UMX3'),\n ('Q9NWB1', 'T179A', 'Q5SZQ8'),\n ('Q7L7X3', 'F20L', 'Q13043'),\n ('P12956', 'E294D', 'P13010'),\n ('Q9P2N7', 'D162G', 'Q13618'),\n ('P00451', 'H1938R', 'P00742'),\n ('P51671', 'D71N', 'Q92583'),\n ('P51671', 'D71N', 'Q6I9T4'),\n ('P10415', 'T96N', 'Q13794'),\n ('Q9NPJ1', 'R3H', 'Q6ZW61'),\n ('Q9NPJ1', 'R3H', 'P50991'),\n ('Q8IYM1', 'R266W', 'Q14141'),\n ('Q8IYM1', 'R266W', 'J3KNL2'),\n ('Q8IYM1', 'R266W', 'Q8WYJ6'),\n ('Q13620', 'R369Q', 'Q86VP6'),\n ('Q13620', 'R369Q', 'Q13618'),\n ('Q53G59', 'C511W', 'Q9UH77'),\n ('Q8TBC4', 'D150H', 'P61081'),\n ('P50613', 'D92N', 'P38936'),\n ('P50613', 'D92N', 'P46527'),\n ('Q16778', 'I40M', 'Q16777'),\n ('P56704', 'S209L', 'Q14332'),\n ('P56704', 'S209L', 'Q9ULV1'),\n ('P56704', 'S209L', 'Q9H461'),\n ('P56704', 'S209L', 'O00144'),\n ('P56704', 'S209L', 'Q8N474'),\n ('P56704', 'S209L', 'Q96HF1'),\n ('P56704', 'S209L', 'Q9UP38'),\n ('O43353', 'D446H', 'Q9Y239'),\n ('P14927', 'R49K', 'P31930'),\n ('P19793', 'G343C', 'Q9Y5X4'),\n ('Q02078', 'T20S', 'Q14814'),\n ('Q12846', 'E39K', 'P61764'),\n ('P42081', 'D37N', 'P33681'),\n ('O14936', 'I823M', 'Q12959'),\n ('Q5JSH3', 'P657A', 'P55735'),\n ('P19429', 'K117R', 'P45379'),\n ('P19429', 'K117R', 'Q15607'),\n ('P43034', 'M201I', 'P61964'),\n ('P18075', 'V391G', 'Q7Z4P5'),\n ('P42680', 'I397M', 'Q06187'),\n ('P42680', 'I397M', 'P51813'),\n ('P42680', 'I397M', 'O60674'),\n ('P43146', 'P330L', 'Q9Y6N7'),\n ('P62805', 'D69Y', 'Q9UER7'),\n ('P62805', 'D69Y', 'Q16514'),\n ('P62805', 'D69Y', 'P06899'),\n ('P62805', 'D69Y', 'Q16778'),\n ('P62805', 'D69Y', 'B4E1C1'),\n ('P62805', 'D69Y', 'Q53F85'),\n ('Q5S007', 'S1954F', 'Q38SD2'),\n ('Q5S007', 'S1954F', 'P24844'),\n ('Q5S007', 'S1954F', 'Q9P0K7'),\n ('Q5S007', 'S1954F', 'Q9NZT1'),\n ('Q5TCY1', 'V36M', 'Q6IQ55'),\n ('Q01196', 'G108D', 'Q13951'),\n ('Q12879', 'G322W', 'Q05586'),\n ('Q9Y297', 'R460T', 'Q9UM11'),\n ('Q9Y297', 'R460T', 'O15169'),\n ('Q9Y297', 'R460T', 'Q9UKB1'),\n ('Q7LDG7', 'R114Q', 'P62834'),\n ('Q7LDG7', 'R114Q', 'P62070'),\n ('P18433', 'E264K', 'P28827'),\n ('P04637', 'H179Q', 'Q13625'),\n ('P04637', 'H179Q', 'Q9H9B1'),\n ('P04637', 'H179Q', 'Q9H3D4'),\n ('P04637', 'H179Q', 'O15350'),\n ('P04637', 'H179Q', 'Q96KQ4'),\n ('P04637', 'H179Q', 'Q99728'),\n ('P04637', 'H179Q', 'O75832'),\n ('P04637', 'H179Q', 'Q9ULT8'),\n ('P04637', 'H179Q', 'Q96KQ7'),\n ('P04637', 'H179Q', 'H2EHT1'),\n ('P04637', 'H179Q', 'K7PPA8'),\n ('Q15413', 'G340D', 'Q92736'),\n ('Q13485', 'R361H', 'B7Z5N5'),\n ('Q13485', 'R361H', 'Q68DB7'),\n ('Q13485', 'R361H', 'Q53XR6'),\n ('Q86XS8', 'E269Q', 'P61088'),\n ('Q86XS8', 'E269Q', 'Q9H832'),\n ('Q13546', 'D147N', 'P48729'),\n ('P30926', 'S403F', 'P30532'),\n ('P30926', 'S403F', 'P32297'),\n ('Q15796', 'F356C', 'P12757'),\n ('Q15796', 'F356C', 'P12755'),\n ('Q6UWE0', 'E674Q', 'P62837'),\n ('Q6UWE0', 'E674Q', 'P61077'),\n ('Q6UWE0', 'E674Q', 'Q96B02'),\n ('Q6UWE0', 'E674Q', 'P51668'),\n ('Q6UWE0', 'E674Q', 'P62256'),\n ('P01137', 'N344I', 'P12643'),\n ('P01137', 'N344I', 'P12645'),\n ('P54652', 'D398N', 'Q92598'),\n ('O43747', 'S360L', 'P53680'),\n ('O43747', 'S360L', 'P61966'),\n ('O43747', 'S360L', 'B7Z3M9'),\n ('P62805', 'R36Q', 'Q71DI3'),\n ('P62805', 'R36Q', 'P49450'),\n ('P62805', 'R36Q', 'P68431'),\n ('O60383', 'C382Y', 'O95972'),\n ('P08134', 'E142K', 'Q14164'),\n ('P37231', 'L242V', 'Q15788'),\n ('P37231', 'L242V', 'D2KUA6'),\n ('Q05397', 'R597L', 'P60953'),\n ('Q05397', 'R597L', 'P46108'),\n ('Q05397', 'R597L', 'Q14451'),\n ('Q05397', 'R597L', 'P06213'),\n ('Q05397', 'R597L', 'P63000'),\n ('Q05397', 'R597L', 'P41240'),\n ('Q05397', 'R597L', 'O60674'),\n ('Q05397', 'R597L', 'Q13546'),\n ('Q05397', 'R597L', 'O14508'),\n ('Q8IYU2', 'N690I', 'P68036'),\n ('Q13087', 'S264R', 'P07237'),\n ('Q92569', 'A368V', 'P52735'),\n ('Q96GW7', 'N801I', 'Q92752'),\n ('Q9Y2H5', 'S142C', 'Q9HAU0'),\n ('Q9BX67', 'R191H', 'P57087'),\n ('P36897', 'F396L', 'Q9UIK4'),\n ('P36897', 'F396L', 'P23443'),\n ('P01031', 'A1530V', 'P01024'),\n ('P28482', 'E81K', 'Q13115'),\n ('Q9NPH3', 'N188T', 'P27930'),\n ('Q9NPH3', 'N188T', 'P01584'),\n ('Q9NPH3', 'N188T', 'P14778'),\n ('A0AVT1', 'K991N', 'P68036'),\n ('A0AVT1', 'K991N', 'Q9H832'),\n ('A0AVT1', 'K991N', 'P51668'),\n ('A0AVT1', 'K991N', 'P62837'),\n ('A0AVT1', 'K991N', 'P61077'),\n ('A0AVT1', 'K991N', 'P60604'),\n ('A0AVT1', 'K991N', 'Q16763'),\n ('O15520', 'T86I', 'D2CGD1'),\n ('O15520', 'T86I', 'D3DRD5'),\n ('P62805', 'N26K', 'P84243'),\n ('P62805', 'N26K', 'Q16695'),\n ('P62805', 'N26K', 'Q71DI3'),\n ('P62805', 'N26K', 'P49450'),\n ('P62805', 'N26K', 'P68431'),\n ('Q9Y2I6', 'V228F', 'P53350'),\n ('P51965', 'P164R', 'Q9UII4'),\n ...]"
     },
     "execution_count": 62,
     "metadata": {},
     "output_type": "execute_result"
    }
   ],
   "source": [
    "get_array_of_tuples(tcga_interactions_unique)"
   ],
   "metadata": {
    "collapsed": false,
    "pycharm": {
     "name": "#%%\n"
    }
   }
  },
  {
   "cell_type": "code",
   "execution_count": null,
   "outputs": [],
   "source": [],
   "metadata": {
    "collapsed": false,
    "pycharm": {
     "name": "#%%\n"
    }
   }
  },
  {
   "cell_type": "code",
   "execution_count": null,
   "outputs": [],
   "source": [],
   "metadata": {
    "collapsed": false,
    "pycharm": {
     "name": "#%%\n"
    }
   }
  },
  {
   "cell_type": "code",
   "execution_count": null,
   "outputs": [],
   "source": [],
   "metadata": {
    "collapsed": false,
    "pycharm": {
     "name": "#%%\n"
    }
   }
  },
  {
   "cell_type": "code",
   "execution_count": null,
   "outputs": [],
   "source": [],
   "metadata": {
    "collapsed": false,
    "pycharm": {
     "name": "#%%\n"
    }
   }
  }
 ],
 "metadata": {
  "kernelspec": {
   "display_name": "Python 3",
   "language": "python",
   "name": "python3"
  },
  "language_info": {
   "codemirror_mode": {
    "name": "ipython",
    "version": 2
   },
   "file_extension": ".py",
   "mimetype": "text/x-python",
   "name": "python",
   "nbconvert_exporter": "python",
   "pygments_lexer": "ipython2",
   "version": "2.7.6"
  }
 },
 "nbformat": 4,
 "nbformat_minor": 0
}