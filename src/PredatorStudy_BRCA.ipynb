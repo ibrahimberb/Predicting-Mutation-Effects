{
 "cells": [
  {
   "cell_type": "markdown",
   "id": "b0eea2f9-919a-44d2-970f-da295e7b77c5",
   "metadata": {
    "tags": []
   },
   "source": [
    "# PREDATOR: **PRED**icting the imp**A**ct of cancer somatic mu**T**ations on pr**O**tein-protein inte**R**actions\n"
   ]
  },
  {
   "cell_type": "markdown",
   "id": "0fc1bee2-776f-46dc-9aa7-80e979b941df",
   "metadata": {},
   "source": [
    "## BRCA"
   ]
  },
  {
   "cell_type": "markdown",
   "id": "f412b89c-b553-4606-95fb-d30520f77b97",
   "metadata": {},
   "source": [
    "\n",
    "<b><i class=\"fa fa-folder-o\" area-hidden=\"true\" style=\"color:#1976D2\"> </i>&nbsp; File Location</b><br>\n",
    "<p style=\"background:#F5F5F5; text-indent: 1em;\">\n",
    "<code style=\"background:#F5F5F5; color:#404040; font-weight:bold; font-size:12px\">C:\\Users\\ibrah\\Documents\\GitHub\\Predicting-Mutation-Effects\\src</code>\n",
    "</p>\n",
    "\n",
    "<b><i class=\"far fa-file\" area-hidden=\"true\" style=\"color:#1976D2\"> </i>&nbsp; File Name</b>\n",
    "<p style=\"background:#F5F5F5; text-indent: 1em;\">\n",
    "<code style=\"background:#F5F5F5; color:#404040; font-weight:bold; font-size:12px\">PredatorStudy_BRCA.ipynb</code>\n",
    "</p>\n",
    "\n",
    "<b><i class=\"far fa-calendar-alt\" area-hidden=\"true\" style=\"color:#1976D2\"> </i>&nbsp; Last Edited</b>\n",
    "<p style=\"background:#F5F5F5; text-indent: 1em;\">\n",
    "<code style=\"background:#F5F5F5; color:#404040; font-weight:bold; font-size:12px\">October 10th, 2021</code>\n",
    "</p>\n"
   ]
  },
  {
   "cell_type": "markdown",
   "id": "8931daec-0e11-43e2-8a68-098571c3cc4e",
   "metadata": {},
   "source": [
    "<div class=\"alert alert-block\" style=\"background-color: #F5F5F5; border: 1px solid; padding: 10px; border-color: #E0E0E0\">\n",
    "    <b><i class=\"fa fa-compass\" aria-hidden=\"true\" style=\"color:#404040\"></i></b>&nbsp; <b style=\"color: #404040\">Purpose </b> <br>\n",
    "<div>\n",
    "   \n",
    "- [x] Apply on Cancer Datasets\n",
    "    > BRCA\n",
    "    \n",
    "**Dependent files:**\n",
    "\n",
    "* Target (Cancer) data: \n",
    "    - *BRCA_Interface.txt*"
   ]
  },
  {
   "cell_type": "code",
   "execution_count": 1,
   "id": "3f602602-ac27-4390-9521-9bcdc73f06ef",
   "metadata": {},
   "outputs": [],
   "source": [
    "# Common imports\n",
    "import pandas as pd\n",
    "import numpy as np\n",
    "import matplotlib.pyplot as plt\n",
    "import seaborn as sns\n",
    "\n",
    "import os\n",
    "import os.path as op\n",
    "import sys\n",
    "import random\n",
    "from pathlib import Path\n",
    "\n",
    "from pprint import pprint\n",
    "from IPython.display import display\n",
    "from tqdm.notebook import tqdm\n",
    "\n",
    "from helpers.helpers_predator.displayers import (\n",
    "    display_label_counts, \n",
    "    display_labels, \n",
    "    visualize_label_counts,\n",
    "    display_data,\n",
    ")\n",
    "\n",
    "from helpers.helpers_predator.visualizers import (\n",
    "    visualize_sampled_train_datasets_label_counts\n",
    ")\n",
    "\n",
    "from helpers.helpers_predator.common import load_predator\n",
    "from helpers.helpers_predator.common import export_data\n",
    "\n",
    "# PATHS\n",
    "BRCA_PATH = Path(r\"../../My-ELASPIC-Web-API/Elaspic_Results/Merged_Results/BRCA_Interface_2021-09-28.txt\")\n",
    "PREDATOR_MODEL_PATH = Path(r\"PredatorModels/PredatorModel_2021-10-10/ffa0e9d0/predator.pkl\")\n",
    "PREDICTIONS_DATASETS_FOLDER_PATH = \"../data/predictions_datasets/\"\n",
    "\n",
    "# Reflect changes in the modules immediately.\n",
    "%load_ext autoreload\n",
    "%autoreload 2"
   ]
  },
  {
   "cell_type": "markdown",
   "id": "c47b1edb-758c-460e-acf7-4f864330d19b",
   "metadata": {},
   "source": [
    "## Load the Predator"
   ]
  },
  {
   "cell_type": "code",
   "execution_count": 2,
   "id": "0c164c31-9b7e-4366-8336-50cbc80bf9c7",
   "metadata": {},
   "outputs": [
    {
     "name": "stdout",
     "output_type": "stream",
     "text": [
      "2021-10-10 23:46:44 |\u001b[32m INFO     \u001b[0m| helpers.helpers_predator.common | Predator object PredatorModels\\PredatorModel_2021-10-10\\ffa0e9d0\\predator.pkl is loaded successfully.\n"
     ]
    }
   ],
   "source": [
    "predator = load_predator(PREDATOR_MODEL_PATH)"
   ]
  },
  {
   "cell_type": "markdown",
   "id": "60f783e4-28bb-4543-9d35-42c4b17b37b8",
   "metadata": {},
   "source": [
    "## Prediction TCGA on Cancer Dataset: BRCA"
   ]
  },
  {
   "cell_type": "code",
   "execution_count": 3,
   "id": "c27cc976-e356-4271-85e9-f23c9366dc67",
   "metadata": {},
   "outputs": [
    {
     "name": "stdout",
     "output_type": "stream",
     "text": [
      "2021-10-10 23:46:44 |\u001b[36m DEBUG    \u001b[0m| helpers.helpers_predator.data_materials | Initialize `brca` ..\n",
      "2021-10-10 23:46:44 |\u001b[36m DEBUG    \u001b[0m| helpers.helpers_predator.data_materials | Initialize `target_brca_data` ..\n",
      "2021-10-10 23:46:45 |\u001b[36m DEBUG    \u001b[0m| helpers.helpers_predator.data_materials | Initializing target data materials ..\n",
      "2021-10-10 23:46:45 |\u001b[36m DEBUG    \u001b[0m| helpers.helpers_predator.data_materials | Determined features: ['Provean_score', 'EL2_score', 'Final_ddG', 'Interactor_alignment_score', 'Matrix_score', 'Solvent_accessibility_wt', 'Solvent_accessibility_mut', 'van_der_waals_mut', 'Interactor_template_sequence_identity', 'Model/DOPE_score']\n",
      "2021-10-10 23:46:45 |\u001b[36m DEBUG    \u001b[0m| helpers.helpers_predator.data_materials | Declaring Xs_brca data materials  ..\n"
     ]
    }
   ],
   "source": [
    "predator.initialize_target_data_materials(\n",
    "    tcga_code_path_pairs=[('brca', BRCA_PATH)]\n",
    ")"
   ]
  },
  {
   "cell_type": "markdown",
   "id": "245b2b8c-0c70-4cd5-9a09-b3428cf0b048",
   "metadata": {
    "tags": []
   },
   "source": [
    "#### TCGA Cancer Datasets"
   ]
  },
  {
   "cell_type": "markdown",
   "id": "4ab061ec-37b5-4651-a5c0-1f1238e7a08a",
   "metadata": {},
   "source": [
    "##### BRCA"
   ]
  },
  {
   "cell_type": "code",
   "execution_count": 4,
   "id": "342221d3-8e16-42eb-9801-20a3efed64f5",
   "metadata": {},
   "outputs": [
    {
     "name": "stdout",
     "output_type": "stream",
     "text": [
      "\u001b[36mData dimensions: (7467, 103)\u001b[0m\n"
     ]
    },
    {
     "data": {
      "text/html": [
       "<div>\n",
       "<style scoped>\n",
       "    .dataframe tbody tr th:only-of-type {\n",
       "        vertical-align: middle;\n",
       "    }\n",
       "\n",
       "    .dataframe tbody tr th {\n",
       "        vertical-align: top;\n",
       "    }\n",
       "\n",
       "    .dataframe thead th {\n",
       "        text-align: right;\n",
       "    }\n",
       "</style>\n",
       "<table border=\"1\" class=\"dataframe\">\n",
       "  <thead>\n",
       "    <tr style=\"text-align: right;\">\n",
       "      <th></th>\n",
       "      <th>Input_identifier</th>\n",
       "      <th>UniProt_ID</th>\n",
       "      <th>Mutation</th>\n",
       "      <th>Status</th>\n",
       "      <th>Type</th>\n",
       "      <th>COSMIC_mut_ID</th>\n",
       "      <th>ClinVar_mut_ID</th>\n",
       "      <th>UniProt_mut_ID</th>\n",
       "      <th>Domain_name</th>\n",
       "      <th>Domain_clan</th>\n",
       "      <th>...</th>\n",
       "      <th>number_of_residues_mut</th>\n",
       "      <th>IntraclashesEnergy1_wt</th>\n",
       "      <th>IntraclashesEnergy1_mut</th>\n",
       "      <th>IntraclashesEnergy2_wt</th>\n",
       "      <th>IntraclashesEnergy2_mut</th>\n",
       "      <th>Interface_hydrophobic_area</th>\n",
       "      <th>Interface_hydrophilic_area</th>\n",
       "      <th>Interface_total_area</th>\n",
       "      <th>Interface_contact_distance_wt</th>\n",
       "      <th>Interface_contact_distance_mut</th>\n",
       "    </tr>\n",
       "  </thead>\n",
       "  <tbody>\n",
       "    <tr>\n",
       "      <th>0</th>\n",
       "      <td>P28062</td>\n",
       "      <td>P28062</td>\n",
       "      <td>R216W</td>\n",
       "      <td>done</td>\n",
       "      <td>interface</td>\n",
       "      <td>COSM451277</td>\n",
       "      <td>-</td>\n",
       "      <td>-</td>\n",
       "      <td>Proteasome</td>\n",
       "      <td>Proteasome</td>\n",
       "      <td>...</td>\n",
       "      <td>417.0</td>\n",
       "      <td>156.750</td>\n",
       "      <td>156.868</td>\n",
       "      <td>49.1868</td>\n",
       "      <td>49.1868</td>\n",
       "      <td>566.065</td>\n",
       "      <td>367.205</td>\n",
       "      <td>933.27</td>\n",
       "      <td>5.37939</td>\n",
       "      <td>3.28969</td>\n",
       "    </tr>\n",
       "    <tr>\n",
       "      <th>1</th>\n",
       "      <td>Q15842</td>\n",
       "      <td>Q15842</td>\n",
       "      <td>E237K</td>\n",
       "      <td>done</td>\n",
       "      <td>interface</td>\n",
       "      <td>COSM430893</td>\n",
       "      <td>-</td>\n",
       "      <td>-</td>\n",
       "      <td>IRK</td>\n",
       "      <td>IRK</td>\n",
       "      <td>...</td>\n",
       "      <td>684.0</td>\n",
       "      <td>131.720</td>\n",
       "      <td>131.479</td>\n",
       "      <td>129.5260</td>\n",
       "      <td>129.5260</td>\n",
       "      <td>None</td>\n",
       "      <td>None</td>\n",
       "      <td>None</td>\n",
       "      <td>2.48410</td>\n",
       "      <td>2.92169</td>\n",
       "    </tr>\n",
       "    <tr>\n",
       "      <th>2</th>\n",
       "      <td>Q15842</td>\n",
       "      <td>Q15842</td>\n",
       "      <td>E237K</td>\n",
       "      <td>done</td>\n",
       "      <td>interface</td>\n",
       "      <td>COSM430893</td>\n",
       "      <td>-</td>\n",
       "      <td>-</td>\n",
       "      <td>IRK</td>\n",
       "      <td>IRK</td>\n",
       "      <td>...</td>\n",
       "      <td>678.0</td>\n",
       "      <td>142.706</td>\n",
       "      <td>142.107</td>\n",
       "      <td>99.1151</td>\n",
       "      <td>99.1190</td>\n",
       "      <td>None</td>\n",
       "      <td>624.35</td>\n",
       "      <td>None</td>\n",
       "      <td>2.70474</td>\n",
       "      <td>3.18529</td>\n",
       "    </tr>\n",
       "  </tbody>\n",
       "</table>\n",
       "<p>3 rows × 103 columns</p>\n",
       "</div>"
      ],
      "text/plain": [
       "  Input_identifier UniProt_ID Mutation Status       Type COSMIC_mut_ID  \\\n",
       "0           P28062     P28062    R216W   done  interface    COSM451277   \n",
       "1           Q15842     Q15842    E237K   done  interface    COSM430893   \n",
       "2           Q15842     Q15842    E237K   done  interface    COSM430893   \n",
       "\n",
       "  ClinVar_mut_ID UniProt_mut_ID Domain_name Domain_clan  ...  \\\n",
       "0              -              -  Proteasome  Proteasome  ...   \n",
       "1              -              -         IRK         IRK  ...   \n",
       "2              -              -         IRK         IRK  ...   \n",
       "\n",
       "  number_of_residues_mut IntraclashesEnergy1_wt  IntraclashesEnergy1_mut  \\\n",
       "0                  417.0                156.750                  156.868   \n",
       "1                  684.0                131.720                  131.479   \n",
       "2                  678.0                142.706                  142.107   \n",
       "\n",
       "   IntraclashesEnergy2_wt IntraclashesEnergy2_mut Interface_hydrophobic_area  \\\n",
       "0                 49.1868                 49.1868                    566.065   \n",
       "1                129.5260                129.5260                       None   \n",
       "2                 99.1151                 99.1190                       None   \n",
       "\n",
       "  Interface_hydrophilic_area Interface_total_area  \\\n",
       "0                    367.205               933.27   \n",
       "1                       None                 None   \n",
       "2                     624.35                 None   \n",
       "\n",
       "  Interface_contact_distance_wt  Interface_contact_distance_mut  \n",
       "0                       5.37939                         3.28969  \n",
       "1                       2.48410                         2.92169  \n",
       "2                       2.70474                         3.18529  \n",
       "\n",
       "[3 rows x 103 columns]"
      ]
     },
     "metadata": {},
     "output_type": "display_data"
    }
   ],
   "source": [
    "display_data(predator.data_materials[\"brca\"])"
   ]
  },
  {
   "cell_type": "markdown",
   "id": "a22d630d-e0a0-4417-aa64-0df18f8f3a63",
   "metadata": {
    "tags": []
   },
   "source": [
    "#### Preprocessed TCGA Cancer Datasets"
   ]
  },
  {
   "cell_type": "markdown",
   "id": "ca038a01-2691-4943-9d7e-55a41661f3cc",
   "metadata": {},
   "source": [
    "##### BRCA"
   ]
  },
  {
   "cell_type": "code",
   "execution_count": 5,
   "id": "67f55bd2-c25a-4d6c-ba5b-08957cf03852",
   "metadata": {},
   "outputs": [
    {
     "name": "stdout",
     "output_type": "stream",
     "text": [
      "\u001b[36mData dimensions: (7467, 61)\u001b[0m\n"
     ]
    },
    {
     "data": {
      "text/html": [
       "<div>\n",
       "<style scoped>\n",
       "    .dataframe tbody tr th:only-of-type {\n",
       "        vertical-align: middle;\n",
       "    }\n",
       "\n",
       "    .dataframe tbody tr th {\n",
       "        vertical-align: top;\n",
       "    }\n",
       "\n",
       "    .dataframe thead th {\n",
       "        text-align: right;\n",
       "    }\n",
       "</style>\n",
       "<table border=\"1\" class=\"dataframe\">\n",
       "  <thead>\n",
       "    <tr style=\"text-align: right;\">\n",
       "      <th></th>\n",
       "      <th>UniProt_ID</th>\n",
       "      <th>Mutation</th>\n",
       "      <th>Interactor_UniProt_ID</th>\n",
       "      <th>Template_sequence_identity</th>\n",
       "      <th>Alignment_score</th>\n",
       "      <th>Interactor_template_sequence_identity</th>\n",
       "      <th>Interactor_alignment_score</th>\n",
       "      <th>Final_ddG</th>\n",
       "      <th>ProtBert_score</th>\n",
       "      <th>ProteinSolver_score</th>\n",
       "      <th>...</th>\n",
       "      <th>number_of_residues_mut</th>\n",
       "      <th>IntraclashesEnergy1_wt</th>\n",
       "      <th>IntraclashesEnergy1_mut</th>\n",
       "      <th>IntraclashesEnergy2_wt</th>\n",
       "      <th>IntraclashesEnergy2_mut</th>\n",
       "      <th>Interface_hydrophobic_area</th>\n",
       "      <th>Interface_hydrophilic_area</th>\n",
       "      <th>Interface_total_area</th>\n",
       "      <th>Interface_contact_distance_wt</th>\n",
       "      <th>Interface_contact_distance_mut</th>\n",
       "    </tr>\n",
       "  </thead>\n",
       "  <tbody>\n",
       "    <tr>\n",
       "      <th>0</th>\n",
       "      <td>P28062</td>\n",
       "      <td>R216W</td>\n",
       "      <td>P40306</td>\n",
       "      <td>0.2406</td>\n",
       "      <td>0.246427</td>\n",
       "      <td>0.8858</td>\n",
       "      <td>0.823800</td>\n",
       "      <td>0.789252</td>\n",
       "      <td>0.441485</td>\n",
       "      <td>0.077736</td>\n",
       "      <td>...</td>\n",
       "      <td>417.0</td>\n",
       "      <td>156.750</td>\n",
       "      <td>156.868</td>\n",
       "      <td>49.1868</td>\n",
       "      <td>49.1868</td>\n",
       "      <td>566.065</td>\n",
       "      <td>367.205</td>\n",
       "      <td>933.27</td>\n",
       "      <td>5.37939</td>\n",
       "      <td>3.28969</td>\n",
       "    </tr>\n",
       "    <tr>\n",
       "      <th>1</th>\n",
       "      <td>Q15842</td>\n",
       "      <td>E237K</td>\n",
       "      <td>Q14654</td>\n",
       "      <td>0.4663</td>\n",
       "      <td>0.441520</td>\n",
       "      <td>0.4623</td>\n",
       "      <td>0.472829</td>\n",
       "      <td>2.112660</td>\n",
       "      <td>0.986541</td>\n",
       "      <td>0.235649</td>\n",
       "      <td>...</td>\n",
       "      <td>684.0</td>\n",
       "      <td>131.720</td>\n",
       "      <td>131.479</td>\n",
       "      <td>129.5260</td>\n",
       "      <td>129.5260</td>\n",
       "      <td>0.000</td>\n",
       "      <td>0.000</td>\n",
       "      <td>0.00</td>\n",
       "      <td>2.48410</td>\n",
       "      <td>2.92169</td>\n",
       "    </tr>\n",
       "    <tr>\n",
       "      <th>2</th>\n",
       "      <td>Q15842</td>\n",
       "      <td>E237K</td>\n",
       "      <td>P63252</td>\n",
       "      <td>0.4663</td>\n",
       "      <td>0.441520</td>\n",
       "      <td>0.5380</td>\n",
       "      <td>0.535672</td>\n",
       "      <td>2.342750</td>\n",
       "      <td>0.990924</td>\n",
       "      <td>0.130527</td>\n",
       "      <td>...</td>\n",
       "      <td>678.0</td>\n",
       "      <td>142.706</td>\n",
       "      <td>142.107</td>\n",
       "      <td>99.1151</td>\n",
       "      <td>99.1190</td>\n",
       "      <td>0.000</td>\n",
       "      <td>624.350</td>\n",
       "      <td>0.00</td>\n",
       "      <td>2.70474</td>\n",
       "      <td>3.18529</td>\n",
       "    </tr>\n",
       "  </tbody>\n",
       "</table>\n",
       "<p>3 rows × 61 columns</p>\n",
       "</div>"
      ],
      "text/plain": [
       "  UniProt_ID Mutation Interactor_UniProt_ID  Template_sequence_identity  \\\n",
       "0     P28062    R216W                P40306                      0.2406   \n",
       "1     Q15842    E237K                Q14654                      0.4663   \n",
       "2     Q15842    E237K                P63252                      0.4663   \n",
       "\n",
       "   Alignment_score  Interactor_template_sequence_identity  \\\n",
       "0         0.246427                                 0.8858   \n",
       "1         0.441520                                 0.4623   \n",
       "2         0.441520                                 0.5380   \n",
       "\n",
       "   Interactor_alignment_score  Final_ddG  ProtBert_score  ProteinSolver_score  \\\n",
       "0                    0.823800   0.789252        0.441485             0.077736   \n",
       "1                    0.472829   2.112660        0.986541             0.235649   \n",
       "2                    0.535672   2.342750        0.990924             0.130527   \n",
       "\n",
       "   ...  number_of_residues_mut  IntraclashesEnergy1_wt  \\\n",
       "0  ...                   417.0                 156.750   \n",
       "1  ...                   684.0                 131.720   \n",
       "2  ...                   678.0                 142.706   \n",
       "\n",
       "   IntraclashesEnergy1_mut  IntraclashesEnergy2_wt  IntraclashesEnergy2_mut  \\\n",
       "0                  156.868                 49.1868                  49.1868   \n",
       "1                  131.479                129.5260                 129.5260   \n",
       "2                  142.107                 99.1151                  99.1190   \n",
       "\n",
       "   Interface_hydrophobic_area  Interface_hydrophilic_area  \\\n",
       "0                     566.065                     367.205   \n",
       "1                       0.000                       0.000   \n",
       "2                       0.000                     624.350   \n",
       "\n",
       "   Interface_total_area  Interface_contact_distance_wt  \\\n",
       "0                933.27                        5.37939   \n",
       "1                  0.00                        2.48410   \n",
       "2                  0.00                        2.70474   \n",
       "\n",
       "   Interface_contact_distance_mut  \n",
       "0                         3.28969  \n",
       "1                         2.92169  \n",
       "2                         3.18529  \n",
       "\n",
       "[3 rows x 61 columns]"
      ]
     },
     "metadata": {},
     "output_type": "display_data"
    }
   ],
   "source": [
    "display_data(predator.data_materials[\"target_brca_data\"])"
   ]
  },
  {
   "cell_type": "markdown",
   "id": "76d7a628-93f0-4d78-a936-bed2a7316948",
   "metadata": {
    "tags": []
   },
   "source": [
    "### Voting mode: `hard`"
   ]
  },
  {
   "cell_type": "code",
   "execution_count": 6,
   "id": "0cae289c-0631-4d5c-8346-b0da97d970dd",
   "metadata": {
    "scrolled": true,
    "tags": []
   },
   "outputs": [
    {
     "name": "stdout",
     "output_type": "stream",
     "text": [
      "2021-10-10 23:46:45 |\u001b[36m DEBUG    \u001b[0m| Predator | Predicting on cancer datasets ..\n",
      "2021-10-10 23:46:45 |\u001b[36m DEBUG    \u001b[0m| helpers.helpers_predator.models | Initializing EnsambledVotingClassifier.\n",
      "2021-10-10 23:46:45 |\u001b[36m DEBUG    \u001b[0m| helpers.helpers_predator.models | Voting mode: hard\n",
      "2021-10-10 23:46:45 |\u001b[36m DEBUG    \u001b[0m| helpers.helpers_predator.predictions | Initializing: PredictionsHard\n",
      "2021-10-10 23:46:45 |\u001b[36m DEBUG    \u001b[0m| Predator | Predicting on brca cohort ..\n",
      "2021-10-10 23:46:45 |\u001b[36m DEBUG    \u001b[0m| helpers.helpers_predator.models | Current estimator: RandomForestClassifier(class_weight='balanced', max_depth=2, max_features=None,\n",
      "                       min_samples_split=5, n_estimators=50, random_state=1)\n",
      "2021-10-10 23:46:45 |\u001b[36m DEBUG    \u001b[0m| helpers.helpers_predator.models | X shape: (7467, 10)\n",
      "2021-10-10 23:46:45 |\u001b[36m DEBUG    \u001b[0m| helpers.helpers_predator.models | Current estimator: RandomForestClassifier(max_depth=5, n_estimators=10, random_state=2)\n",
      "2021-10-10 23:46:45 |\u001b[36m DEBUG    \u001b[0m| helpers.helpers_predator.models | X shape: (7467, 10)\n",
      "2021-10-10 23:46:45 |\u001b[36m DEBUG    \u001b[0m| helpers.helpers_predator.models | Current estimator: RandomForestClassifier(class_weight='balanced', max_depth=10,\n",
      "                       max_features='sqrt', min_samples_split=5,\n",
      "                       n_estimators=25, random_state=3)\n",
      "2021-10-10 23:46:45 |\u001b[36m DEBUG    \u001b[0m| helpers.helpers_predator.models | X shape: (7467, 10)\n",
      "2021-10-10 23:46:45 |\u001b[36m DEBUG    \u001b[0m| helpers.helpers_predator.models | Current estimator: RandomForestClassifier(class_weight='balanced', max_depth=10, max_features=None,\n",
      "                       min_samples_split=5, n_estimators=75, random_state=4)\n",
      "2021-10-10 23:46:45 |\u001b[36m DEBUG    \u001b[0m| helpers.helpers_predator.models | X shape: (7467, 10)\n",
      "2021-10-10 23:46:45 |\u001b[36m DEBUG    \u001b[0m| helpers.helpers_predator.models | Current estimator: RandomForestClassifier(class_weight='balanced', max_depth=10,\n",
      "                       max_features='sqrt', n_estimators=25, random_state=5)\n",
      "2021-10-10 23:46:45 |\u001b[36m DEBUG    \u001b[0m| helpers.helpers_predator.models | X shape: (7467, 10)\n",
      "2021-10-10 23:46:46 |\u001b[36m DEBUG    \u001b[0m| helpers.helpers_predator.models | Current estimator: RandomForestClassifier(max_depth=2, min_samples_split=5, n_estimators=200,\n",
      "                       random_state=6)\n",
      "2021-10-10 23:46:46 |\u001b[36m DEBUG    \u001b[0m| helpers.helpers_predator.models | X shape: (7467, 10)\n",
      "2021-10-10 23:46:46 |\u001b[36m DEBUG    \u001b[0m| helpers.helpers_predator.models | Current estimator: RandomForestClassifier(max_depth=5, min_samples_split=5, n_estimators=10,\n",
      "                       random_state=7)\n",
      "2021-10-10 23:46:46 |\u001b[36m DEBUG    \u001b[0m| helpers.helpers_predator.models | X shape: (7467, 10)\n",
      "2021-10-10 23:46:46 |\u001b[36m DEBUG    \u001b[0m| helpers.helpers_predator.models | Current estimator: RandomForestClassifier(max_depth=5, max_features='sqrt', min_samples_split=5,\n",
      "                       n_estimators=400, random_state=8)\n",
      "2021-10-10 23:46:46 |\u001b[36m DEBUG    \u001b[0m| helpers.helpers_predator.models | X shape: (7467, 10)\n",
      "2021-10-10 23:46:46 |\u001b[36m DEBUG    \u001b[0m| helpers.helpers_predator.models | Current estimator: RandomForestClassifier(class_weight='balanced', max_depth=2,\n",
      "                       min_samples_split=5, n_estimators=50, random_state=10)\n",
      "2021-10-10 23:46:46 |\u001b[36m DEBUG    \u001b[0m| helpers.helpers_predator.models | X shape: (7467, 10)\n",
      "2021-10-10 23:46:46 |\u001b[36m DEBUG    \u001b[0m| helpers.helpers_predator.models | Current estimator: RandomForestClassifier(class_weight='balanced', max_depth=5, max_features=None,\n",
      "                       n_estimators=200, random_state=12)\n",
      "2021-10-10 23:46:46 |\u001b[36m DEBUG    \u001b[0m| helpers.helpers_predator.models | X shape: (7467, 10)\n",
      "2021-10-10 23:46:46 |\u001b[36m DEBUG    \u001b[0m| helpers.helpers_predator.models | Current estimator: RandomForestClassifier(class_weight='balanced', max_depth=5, max_features=None,\n",
      "                       min_samples_split=5, n_estimators=200, random_state=13)\n",
      "2021-10-10 23:46:46 |\u001b[36m DEBUG    \u001b[0m| helpers.helpers_predator.models | X shape: (7467, 10)\n",
      "2021-10-10 23:46:46 |\u001b[36m DEBUG    \u001b[0m| helpers.helpers_predator.models | Current estimator: RandomForestClassifier(class_weight='balanced', max_depth=10,\n",
      "                       max_features='sqrt', min_samples_split=5,\n",
      "                       n_estimators=400, random_state=17)\n",
      "2021-10-10 23:46:46 |\u001b[36m DEBUG    \u001b[0m| helpers.helpers_predator.models | X shape: (7467, 10)\n",
      "2021-10-10 23:46:47 |\u001b[36m DEBUG    \u001b[0m| helpers.helpers_predator.models | Current estimator: RandomForestClassifier(class_weight='balanced', max_depth=5, n_estimators=10,\n",
      "                       random_state=18)\n",
      "2021-10-10 23:46:47 |\u001b[36m DEBUG    \u001b[0m| helpers.helpers_predator.models | X shape: (7467, 10)\n",
      "2021-10-10 23:46:47 |\u001b[36m DEBUG    \u001b[0m| helpers.helpers_predator.models | Current estimator: RandomForestClassifier(class_weight='balanced', max_depth=10,\n",
      "                       max_features='sqrt', n_estimators=25, random_state=20)\n",
      "2021-10-10 23:46:47 |\u001b[36m DEBUG    \u001b[0m| helpers.helpers_predator.models | X shape: (7467, 10)\n",
      "2021-10-10 23:46:47 |\u001b[36m DEBUG    \u001b[0m| helpers.helpers_predator.models | Current estimator: RandomForestClassifier(max_depth=5, max_features=None, n_estimators=200,\n",
      "                       random_state=21)\n",
      "2021-10-10 23:46:47 |\u001b[36m DEBUG    \u001b[0m| helpers.helpers_predator.models | X shape: (7467, 10)\n",
      "2021-10-10 23:46:47 |\u001b[36m DEBUG    \u001b[0m| helpers.helpers_predator.models | Current estimator: RandomForestClassifier(class_weight='balanced', max_depth=10, max_features=None,\n",
      "                       n_estimators=200, random_state=22)\n",
      "2021-10-10 23:46:47 |\u001b[36m DEBUG    \u001b[0m| helpers.helpers_predator.models | X shape: (7467, 10)\n",
      "2021-10-10 23:46:47 |\u001b[36m DEBUG    \u001b[0m| helpers.helpers_predator.models | Current estimator: RandomForestClassifier(class_weight='balanced', max_depth=5, max_features=None,\n",
      "                       min_samples_split=5, n_estimators=400, random_state=23)\n",
      "2021-10-10 23:46:47 |\u001b[36m DEBUG    \u001b[0m| helpers.helpers_predator.models | X shape: (7467, 10)\n",
      "2021-10-10 23:46:47 |\u001b[36m DEBUG    \u001b[0m| helpers.helpers_predator.models | Current estimator: RandomForestClassifier(max_depth=2, max_features=None, min_samples_split=5,\n",
      "                       n_estimators=25, random_state=24)\n",
      "2021-10-10 23:46:47 |\u001b[36m DEBUG    \u001b[0m| helpers.helpers_predator.models | X shape: (7467, 10)\n",
      "2021-10-10 23:46:47 |\u001b[36m DEBUG    \u001b[0m| helpers.helpers_predator.models | Current estimator: RandomForestClassifier(max_depth=2, n_estimators=400, random_state=25)\n",
      "2021-10-10 23:46:47 |\u001b[36m DEBUG    \u001b[0m| helpers.helpers_predator.models | X shape: (7467, 10)\n",
      "2021-10-10 23:46:47 |\u001b[36m DEBUG    \u001b[0m| helpers.helpers_predator.models | Current estimator: RandomForestClassifier(class_weight='balanced', max_depth=5,\n",
      "                       min_samples_split=5, random_state=26)\n",
      "2021-10-10 23:46:47 |\u001b[36m DEBUG    \u001b[0m| helpers.helpers_predator.models | X shape: (7467, 10)\n",
      "2021-10-10 23:46:47 |\u001b[36m DEBUG    \u001b[0m| helpers.helpers_predator.models | Current estimator: RandomForestClassifier(class_weight='balanced', max_depth=2,\n",
      "                       max_features='sqrt', n_estimators=200, random_state=27)\n",
      "2021-10-10 23:46:47 |\u001b[36m DEBUG    \u001b[0m| helpers.helpers_predator.models | X shape: (7467, 10)\n",
      "2021-10-10 23:46:48 |\u001b[36m DEBUG    \u001b[0m| helpers.helpers_predator.models | Current estimator: RandomForestClassifier(class_weight='balanced', max_depth=2, n_estimators=25,\n",
      "                       random_state=28)\n",
      "2021-10-10 23:46:48 |\u001b[36m DEBUG    \u001b[0m| helpers.helpers_predator.models | X shape: (7467, 10)\n",
      "2021-10-10 23:46:48 |\u001b[36m DEBUG    \u001b[0m| helpers.helpers_predator.models | Current estimator: RandomForestClassifier(max_depth=10, n_estimators=75, random_state=29)\n",
      "2021-10-10 23:46:48 |\u001b[36m DEBUG    \u001b[0m| helpers.helpers_predator.models | X shape: (7467, 10)\n",
      "2021-10-10 23:46:48 |\u001b[36m DEBUG    \u001b[0m| helpers.helpers_predator.models | Current estimator: RandomForestClassifier(class_weight='balanced', max_depth=2, max_features=None,\n",
      "                       min_samples_split=5, n_estimators=50, random_state=30)\n",
      "2021-10-10 23:46:48 |\u001b[36m DEBUG    \u001b[0m| helpers.helpers_predator.models | X shape: (7467, 10)\n",
      "2021-10-10 23:46:48 |\u001b[36m DEBUG    \u001b[0m| helpers.helpers_predator.models | Current estimator: RandomForestClassifier(max_depth=10, n_estimators=10, random_state=31)\n",
      "2021-10-10 23:46:48 |\u001b[36m DEBUG    \u001b[0m| helpers.helpers_predator.models | X shape: (7467, 10)\n",
      "2021-10-10 23:46:48 |\u001b[36m DEBUG    \u001b[0m| helpers.helpers_predator.models | Current estimator: RandomForestClassifier(max_depth=10, n_estimators=200, random_state=32)\n",
      "2021-10-10 23:46:48 |\u001b[36m DEBUG    \u001b[0m| helpers.helpers_predator.models | X shape: (7467, 10)\n",
      "2021-10-10 23:46:48 |\u001b[36m DEBUG    \u001b[0m| helpers.helpers_predator.models | Current estimator: RandomForestClassifier(class_weight='balanced', max_depth=2,\n",
      "                       max_features='sqrt', n_estimators=400, random_state=33)\n",
      "2021-10-10 23:46:48 |\u001b[36m DEBUG    \u001b[0m| helpers.helpers_predator.models | X shape: (7467, 10)\n",
      "2021-10-10 23:46:48 |\u001b[36m DEBUG    \u001b[0m| helpers.helpers_predator.models | Current estimator: RandomForestClassifier(max_depth=5, max_features=None, n_estimators=200,\n",
      "                       random_state=35)\n",
      "2021-10-10 23:46:48 |\u001b[36m DEBUG    \u001b[0m| helpers.helpers_predator.models | X shape: (7467, 10)\n",
      "2021-10-10 23:46:48 |\u001b[36m DEBUG    \u001b[0m| helpers.helpers_predator.models | Current estimator: RandomForestClassifier(max_depth=2, min_samples_split=5, n_estimators=10,\n",
      "                       random_state=36)\n",
      "2021-10-10 23:46:48 |\u001b[36m DEBUG    \u001b[0m| helpers.helpers_predator.models | X shape: (7467, 10)\n",
      "2021-10-10 23:46:48 |\u001b[36m DEBUG    \u001b[0m| helpers.helpers_predator.models | Current estimator: RandomForestClassifier(max_depth=2, max_features='sqrt', n_estimators=75,\n",
      "                       random_state=37)\n",
      "2021-10-10 23:46:48 |\u001b[36m DEBUG    \u001b[0m| helpers.helpers_predator.models | X shape: (7467, 10)\n",
      "2021-10-10 23:46:48 |\u001b[36m DEBUG    \u001b[0m| helpers.helpers_predator.models | Current estimator: RandomForestClassifier(max_depth=2, min_samples_split=5, random_state=39)\n",
      "2021-10-10 23:46:48 |\u001b[36m DEBUG    \u001b[0m| helpers.helpers_predator.models | X shape: (7467, 10)\n",
      "2021-10-10 23:46:48 |\u001b[36m DEBUG    \u001b[0m| helpers.helpers_predator.models | Current estimator: RandomForestClassifier(class_weight='balanced', max_depth=5, max_features=None,\n",
      "                       n_estimators=10, random_state=40)\n",
      "2021-10-10 23:46:48 |\u001b[36m DEBUG    \u001b[0m| helpers.helpers_predator.models | X shape: (7467, 10)\n",
      "2021-10-10 23:46:48 |\u001b[36m DEBUG    \u001b[0m| helpers.helpers_predator.models | Current estimator: RandomForestClassifier(class_weight='balanced', max_depth=5,\n",
      "                       max_features='sqrt', min_samples_split=5,\n",
      "                       n_estimators=200, random_state=43)\n",
      "2021-10-10 23:46:48 |\u001b[36m DEBUG    \u001b[0m| helpers.helpers_predator.models | X shape: (7467, 10)\n",
      "2021-10-10 23:46:48 |\u001b[36m DEBUG    \u001b[0m| helpers.helpers_predator.models | Current estimator: RandomForestClassifier(class_weight='balanced', max_depth=2,\n",
      "                       max_features='sqrt', n_estimators=400, random_state=44)\n",
      "2021-10-10 23:46:48 |\u001b[36m DEBUG    \u001b[0m| helpers.helpers_predator.models | X shape: (7467, 10)\n",
      "2021-10-10 23:46:49 |\u001b[36m DEBUG    \u001b[0m| helpers.helpers_predator.models | Current estimator: RandomForestClassifier(max_depth=5, max_features='sqrt', min_samples_split=5,\n",
      "                       n_estimators=10, random_state=46)\n",
      "2021-10-10 23:46:49 |\u001b[36m DEBUG    \u001b[0m| helpers.helpers_predator.models | X shape: (7467, 10)\n",
      "2021-10-10 23:46:49 |\u001b[36m DEBUG    \u001b[0m| helpers.helpers_predator.models | Current estimator: RandomForestClassifier(class_weight='balanced', max_depth=2, n_estimators=10,\n",
      "                       random_state=48)\n",
      "2021-10-10 23:46:49 |\u001b[36m DEBUG    \u001b[0m| helpers.helpers_predator.models | X shape: (7467, 10)\n",
      "2021-10-10 23:46:49 |\u001b[36m DEBUG    \u001b[0m| helpers.helpers_predator.models | Current estimator: RandomForestClassifier(max_depth=5, min_samples_split=5, n_estimators=25,\n",
      "                       random_state=50)\n",
      "2021-10-10 23:46:49 |\u001b[36m DEBUG    \u001b[0m| helpers.helpers_predator.models | X shape: (7467, 10)\n",
      "2021-10-10 23:46:49 |\u001b[36m DEBUG    \u001b[0m| helpers.helpers_predator.predictions | PredictionsHard\n",
      "2021-10-10 23:46:49 |\u001b[36m DEBUG    \u001b[0m| helpers.helpers_predator.predictions | Predicting on brca cohort ..\n",
      "2021-10-10 23:46:49 |\u001b[36m DEBUG    \u001b[0m| helpers.helpers_predator.predictions | Adding key `brca` to self.predictions\n"
     ]
    }
   ],
   "source": [
    "predator.predict(voting='hard')"
   ]
  },
  {
   "cell_type": "code",
   "execution_count": 7,
   "id": "575746f0-47ad-4823-868a-c50d34abcd64",
   "metadata": {},
   "outputs": [
    {
     "data": {
      "text/plain": [
       "[array([0, 1, 1, ..., 0, 1, 1], dtype=int64),\n",
       " array([0, 1, 0, ..., 1, 1, 0], dtype=int64),\n",
       " array([1, 1, 0, ..., 0, 1, 1], dtype=int64)]"
      ]
     },
     "execution_count": 7,
     "metadata": {},
     "output_type": "execute_result"
    }
   ],
   "source": [
    "# Predictions for first 10 experiment.\n",
    "predator.predictions[\"brca\"][:3]"
   ]
  },
  {
   "cell_type": "code",
   "execution_count": 8,
   "id": "f8ebc4ec-288a-425d-9666-e76477da03e1",
   "metadata": {},
   "outputs": [
    {
     "name": "stdout",
     "output_type": "stream",
     "text": [
      "2021-10-10 23:46:49 |\u001b[36m DEBUG    \u001b[0m| helpers.helpers_predator.predictions | Initializing value counts ..\n"
     ]
    },
    {
     "data": {
      "image/png": "[encoded data removed]",
      "text/plain": [
       "<Figure size 1080x360 with 1 Axes>"
      ]
     },
     "metadata": {},
     "output_type": "display_data"
    }
   ],
   "source": [
    "predator.predictions.plot_predictions_distributions(\"brca\")"
   ]
  },
  {
   "cell_type": "markdown",
   "id": "c7e6a31c-112e-4326-9695-170f0d351686",
   "metadata": {},
   "source": [
    "#### Predictions Post Processing"
   ]
  },
  {
   "cell_type": "markdown",
   "id": "1154368b-92d9-4f38-bb7a-e8df24832d26",
   "metadata": {},
   "source": [
    "Post processing of predictions involves following steps:"
   ]
  },
  {
   "cell_type": "markdown",
   "id": "1087d5dd-55a0-4f50-9f28-6205d8fd7f86",
   "metadata": {},
   "source": [
    "##### 1. Merging Predictions with SNV Data"
   ]
  },
  {
   "cell_type": "markdown",
   "id": "897fbfad-2af1-47c4-91b2-278910ebe11a",
   "metadata": {},
   "source": [
    "The prediction column is merged with SNV data for each experiment.\n",
    "\n",
    "$\\text{For each experiment } n: $\n",
    "\n",
    "$$\n",
    "  \\textit{(Prediction Merged Data)}_n = \\underbrace{[\\textit{Predictions}_n]}_\\text{0, 1 or \"NoVote\"} + \n",
    "      \\underbrace{[\\textit{Protein }] [\\textit{Mutation }] [\\textit{Interactor }]}_\\text{Cancer Data Triplets} + \\underbrace{[\\textit{Features }] }_\\text{Elaspic}\n",
    "$$\n"
   ]
  },
  {
   "cell_type": "markdown",
   "id": "250b052e-bafa-4f57-92f0-907700feac18",
   "metadata": {
    "tags": []
   },
   "source": [
    "##### 2. Convert to 1-isomer: `Interactor_UniProt_ID`"
   ]
  },
  {
   "cell_type": "markdown",
   "id": "886a6ad1-d8ff-4e01-be6e-d4accc48af84",
   "metadata": {},
   "source": [
    "$\\textit{Interactor_UniProt_ID}$ column contains isomer proteins. Here, we convert them into primary isoform representation (i.e. without dashes)."
   ]
  },
  {
   "cell_type": "markdown",
   "id": "d6454a4c-7d65-4a6d-b13c-81109332a588",
   "metadata": {},
   "source": [
    "| Interactor_UniProt_ID |\n",
    "--------------\n",
    "| P38936     |\n",
    "| P16473     |\n",
    "| P16473-2   |\n",
    "| P19793     |"
   ]
  },
  {
   "cell_type": "markdown",
   "id": "6dbc27ff-9cf6-48f8-81a5-a189354632d7",
   "metadata": {},
   "source": [
    "##### 3. Dropping Invalid Predictions"
   ]
  },
  {
   "cell_type": "markdown",
   "id": "e8cd9d26-1d3d-4ca7-a861-66e39d64d39a",
   "metadata": {},
   "source": [
    "Entries which predicted as both `Decreasing` and `Increasing+NoEff` are dropped."
   ]
  },
  {
   "cell_type": "markdown",
   "id": "534ad651-bd88-4f53-9eeb-4c107596e129",
   "metadata": {},
   "source": [
    "Due to having different features for the same $\\textit{(protein, mutation, interactor)}$ triplet from ELASPIC, the triplet $\\textit{(protein, mutation, interactor)}$ may be classified both 0 and 1. We drop such instances."
   ]
  },
  {
   "cell_type": "code",
   "execution_count": 9,
   "id": "23602ccf-41ff-4dc7-afec-39b9959b4588",
   "metadata": {
    "scrolled": true,
    "tags": []
   },
   "outputs": [
    {
     "name": "stdout",
     "output_type": "stream",
     "text": [
      "2021-10-10 23:46:50 |\u001b[36m DEBUG    \u001b[0m| helpers.helpers_predator.predictions | PredictionsHard\n",
      "2021-10-10 23:46:50 |\u001b[36m DEBUG    \u001b[0m| helpers.helpers_predator.predictions | Post processing predictions for cohort brca ..\n",
      "2021-10-10 23:46:50 |\u001b[36m DEBUG    \u001b[0m| helpers.helpers_predator.predictions | Merging predictions with brca cancer dataset ..\n",
      "2021-10-10 23:46:50 |\u001b[36m DEBUG    \u001b[0m| helpers.helpers_predator.predictions | Handling valid and invalid entries ..\n"
     ]
    },
    {
     "data": {
      "application/vnd.jupyter.widget-view+json": {
       "model_id": "c3ececb431604dca8224e25d0a526805",
       "version_major": 2,
       "version_minor": 0
      },
      "text/plain": [
       "  0%|          | 0/37 [00:00<?, ?it/s]"
      ]
     },
     "metadata": {},
     "output_type": "display_data"
    },
    {
     "name": "stdout",
     "output_type": "stream",
     "text": [
      "2021-10-10 23:47:12 |\u001b[36m DEBUG    \u001b[0m| helpers.helpers_predator.predictions_utils | Removed entries first five rows (of 466): \n",
      "   PREDICTION PROTEIN MUTATION INTERACTOR\n",
      "0           1  Q9UBN7    D567Y     Q96DB2\n",
      "1           0  Q9UBN7    D567Y     Q96DB2\n",
      "2           0  Q15413   G2795S     Q92736\n",
      "3           0  Q15413   G2795S     Q92736\n",
      "4           0  Q15413   G2795S     Q92736\n",
      "2021-10-10 23:47:31 |\u001b[36m DEBUG    \u001b[0m| helpers.helpers_predator.predictions_utils | Removed entries first five rows (of 1082): \n",
      "   PREDICTION PROTEIN MUTATION INTERACTOR\n",
      "0           0  P04637    R280K     Q13625\n",
      "1           1  P04637    R280K     Q13625\n",
      "2           1  P04637    R280K     Q13625\n",
      "3           0  P04637    R280K     P62993\n",
      "4           0  P04637    R280K     P62993\n",
      "2021-10-10 23:47:55 |\u001b[36m DEBUG    \u001b[0m| helpers.helpers_predator.predictions_utils | Removed entries first five rows (of 1229): \n",
      "   PREDICTION PROTEIN MUTATION INTERACTOR\n",
      "0           1  Q9Y616    F419L     Q16288\n",
      "1           0  Q9Y616    F419L     Q16288\n",
      "2           0  P04637    R280K     Q13625\n",
      "3           1  P04637    R280K     Q13625\n",
      "4           1  P04637    R280K     Q13625\n",
      "2021-10-10 23:48:16 |\u001b[36m DEBUG    \u001b[0m| helpers.helpers_predator.predictions_utils | Removed entries first five rows (of 1124): \n",
      "   PREDICTION PROTEIN MUTATION INTERACTOR\n",
      "0           0  Q13418    N202K     O15530\n",
      "1           0  Q13418    N202K     O15530\n",
      "2           1  Q13418    N202K     O15530\n",
      "3           1  Q9Y616    F419L     Q16288\n",
      "4           0  Q9Y616    F419L     Q16288\n",
      "2021-10-10 23:48:37 |\u001b[36m DEBUG    \u001b[0m| helpers.helpers_predator.predictions_utils | Removed entries first five rows (of 1002): \n",
      "   PREDICTION PROTEIN MUTATION INTERACTOR\n",
      "0           1  Q9Y616    F419L     Q16288\n",
      "1           0  Q9Y616    F419L     Q16288\n",
      "2           0  Q9H4L4    Q399H     P61956\n",
      "3           1  Q9H4L4    Q399H     P61956\n",
      "4           1  Q9UBN7    D567Y     Q96DB2\n",
      "2021-10-10 23:48:57 |\u001b[36m DEBUG    \u001b[0m| helpers.helpers_predator.predictions_utils | Removed entries first five rows (of 576): \n",
      "   PREDICTION PROTEIN MUTATION INTERACTOR\n",
      "0           1  Q9Y616    F419L     Q16288\n",
      "1           0  Q9Y616    F419L     Q16288\n",
      "2           1  Q9UL54    V301M     P46734\n",
      "3           1  Q9UL54    V301M     P46734\n",
      "4           0  Q9UL54    V301M     P46734\n",
      "2021-10-10 23:49:21 |\u001b[36m DEBUG    \u001b[0m| helpers.helpers_predator.predictions_utils | Removed entries first five rows (of 1006): \n",
      "   PREDICTION PROTEIN MUTATION INTERACTOR\n",
      "0           1  Q9UL54    V301M     P46734\n",
      "1           1  Q9UL54    V301M     P46734\n",
      "2           0  Q9UL54    V301M     P46734\n",
      "3           0  P04637    R280K     Q13625\n",
      "4           1  P04637    R280K     Q13625\n",
      "2021-10-10 23:49:43 |\u001b[36m DEBUG    \u001b[0m| helpers.helpers_predator.predictions_utils | Removed entries first five rows (of 849): \n",
      "   PREDICTION PROTEIN MUTATION INTERACTOR\n",
      "0           1  Q9Y616    F419L     Q16288\n",
      "1           0  Q9Y616    F419L     Q16288\n",
      "2           1  Q9UL54    V301M     P46734\n",
      "3           1  Q9UL54    V301M     P46734\n",
      "4           0  Q9UL54    V301M     P46734\n",
      "2021-10-10 23:50:06 |\u001b[36m DEBUG    \u001b[0m| helpers.helpers_predator.predictions_utils | Removed entries first five rows (of 485): \n",
      "   PREDICTION PROTEIN MUTATION INTERACTOR\n",
      "0           1  Q9UKS6     R24H     Q9UNF0\n",
      "1           0  Q9UKS6     R24H     Q9UNF0\n",
      "2           0  Q14469     R46Q     Q96HZ4\n",
      "3           1  Q14469     R46Q     Q96HZ4\n",
      "4           1  Q14469     R46Q     Q96HZ4\n",
      "2021-10-10 23:50:31 |\u001b[36m DEBUG    \u001b[0m| helpers.helpers_predator.predictions_utils | Removed entries first five rows (of 1013): \n",
      "   PREDICTION PROTEIN MUTATION INTERACTOR\n",
      "0           1  Q9Y616    F419L     Q16288\n",
      "1           0  Q9Y616    F419L     Q16288\n",
      "2           0  P04637    R280K     Q13625\n",
      "3           1  P04637    R280K     Q13625\n",
      "4           1  P04637    R280K     Q13625\n",
      "2021-10-10 23:50:54 |\u001b[36m DEBUG    \u001b[0m| helpers.helpers_predator.predictions_utils | Removed entries first five rows (of 836): \n",
      "   PREDICTION PROTEIN MUTATION INTERACTOR\n",
      "0           1  Q9Y616    F419L     Q16288\n",
      "1           0  Q9Y616    F419L     Q16288\n",
      "2           1  Q9UL54    V301M     P46734\n",
      "3           1  Q9UL54    V301M     P46734\n",
      "4           0  Q9UL54    V301M     P46734\n",
      "2021-10-10 23:51:16 |\u001b[36m DEBUG    \u001b[0m| helpers.helpers_predator.predictions_utils | Removed entries first five rows (of 838): \n",
      "   PREDICTION PROTEIN MUTATION INTERACTOR\n",
      "0           1  Q9Y616    F419L     Q16288\n",
      "1           0  Q9Y616    F419L     Q16288\n",
      "2           0  P04637    R280K     Q13625\n",
      "3           1  P04637    R280K     Q13625\n",
      "4           1  P04637    R280K     Q13625\n",
      "2021-10-10 23:51:38 |\u001b[36m DEBUG    \u001b[0m| helpers.helpers_predator.predictions_utils | Removed entries first five rows (of 987): \n",
      "   PREDICTION PROTEIN MUTATION INTERACTOR\n",
      "0           1  Q9Y616    F419L     Q16288\n",
      "1           0  Q9Y616    F419L     Q16288\n",
      "2           1  Q9UL54    V301M     P46734\n",
      "3           1  Q9UL54    V301M     P46734\n",
      "4           0  Q9UL54    V301M     P46734\n",
      "2021-10-10 23:51:58 |\u001b[36m DEBUG    \u001b[0m| helpers.helpers_predator.predictions_utils | Removed entries first five rows (of 1086): \n",
      "   PREDICTION PROTEIN MUTATION INTERACTOR\n",
      "0           1  Q9Y616    F419L     Q16288\n",
      "1           0  Q9Y616    F419L     Q16288\n",
      "2           1  Q9UL54    V301M     P46734\n",
      "3           1  Q9UL54    V301M     P46734\n",
      "4           0  Q9UL54    V301M     P46734\n",
      "2021-10-10 23:52:20 |\u001b[36m DEBUG    \u001b[0m| helpers.helpers_predator.predictions_utils | Removed entries first five rows (of 1011): \n",
      "   PREDICTION PROTEIN MUTATION INTERACTOR\n",
      "0           1  Q9Y616    F419L     Q16288\n",
      "1           0  Q9Y616    F419L     Q16288\n",
      "2           0  P04637    R280K     Q13625\n",
      "3           1  P04637    R280K     Q13625\n",
      "4           1  P04637    R280K     Q13625\n",
      "2021-10-10 23:52:43 |\u001b[36m DEBUG    \u001b[0m| helpers.helpers_predator.predictions_utils | Removed entries first five rows (of 1182): \n",
      "   PREDICTION PROTEIN MUTATION INTERACTOR\n",
      "0           1  Q9Y616    F419L     Q16288\n",
      "1           0  Q9Y616    F419L     Q16288\n",
      "2           1  Q9UL54    V301M     P46734\n",
      "3           1  Q9UL54    V301M     P46734\n",
      "4           0  Q9UL54    V301M     P46734\n",
      "2021-10-10 23:53:03 |\u001b[36m DEBUG    \u001b[0m| helpers.helpers_predator.predictions_utils | Removed entries first five rows (of 1114): \n",
      "   PREDICTION PROTEIN MUTATION INTERACTOR\n",
      "0           1  Q9Y616    F419L     Q16288\n",
      "1           0  Q9Y616    F419L     Q16288\n",
      "2           1  Q9UL54    V301M     P46734\n",
      "3           1  Q9UL54    V301M     P46734\n",
      "4           0  Q9UL54    V301M     P46734\n",
      "2021-10-10 23:53:23 |\u001b[36m DEBUG    \u001b[0m| helpers.helpers_predator.predictions_utils | Removed entries first five rows (of 460): \n",
      "   PREDICTION PROTEIN MUTATION INTERACTOR\n",
      "0           0  P04637    R280K     Q13625\n",
      "1           1  P04637    R280K     Q13625\n",
      "2           1  P04637    R280K     Q13625\n",
      "3           0  P04637    R280K     P62993\n",
      "4           0  P04637    R280K     P62993\n",
      "2021-10-10 23:53:47 |\u001b[36m DEBUG    \u001b[0m| helpers.helpers_predator.predictions_utils | Removed entries first five rows (of 710): \n",
      "   PREDICTION PROTEIN MUTATION INTERACTOR\n",
      "0           1  Q9UL54    V301M     P46734\n",
      "1           1  Q9UL54    V301M     P46734\n",
      "2           0  Q9UL54    V301M     P46734\n",
      "3           0  P04637    R280K     Q13625\n",
      "4           1  P04637    R280K     Q13625\n",
      "2021-10-10 23:54:07 |\u001b[36m DEBUG    \u001b[0m| helpers.helpers_predator.predictions_utils | Removed entries first five rows (of 838): \n",
      "   PREDICTION PROTEIN MUTATION INTERACTOR\n",
      "0           0  P04637    R280K     Q13625\n",
      "1           1  P04637    R280K     Q13625\n",
      "2           1  P04637    R280K     Q13625\n",
      "3           0  Q9H4L4    Q399H     P61956\n",
      "4           1  Q9H4L4    Q399H     P61956\n",
      "2021-10-10 23:54:26 |\u001b[36m DEBUG    \u001b[0m| helpers.helpers_predator.predictions_utils | Removed entries first five rows (of 952): \n",
      "   PREDICTION PROTEIN MUTATION INTERACTOR\n",
      "0           1  Q9Y616    F419L     Q16288\n",
      "1           0  Q9Y616    F419L     Q16288\n",
      "2           0  P04637    R280K     Q13625\n",
      "3           1  P04637    R280K     Q13625\n",
      "4           1  P04637    R280K     Q13625\n",
      "2021-10-10 23:54:49 |\u001b[36m DEBUG    \u001b[0m| helpers.helpers_predator.predictions_utils | Removed entries first five rows (of 991): \n",
      "   PREDICTION PROTEIN MUTATION INTERACTOR\n",
      "0           1  Q9Y616    F419L     Q16288\n",
      "1           0  Q9Y616    F419L     Q16288\n",
      "2           0  P04637    R280K     Q13625\n",
      "3           1  P04637    R280K     Q13625\n",
      "4           1  P04637    R280K     Q13625\n",
      "2021-10-10 23:55:10 |\u001b[36m DEBUG    \u001b[0m| helpers.helpers_predator.predictions_utils | Removed entries first five rows (of 1086): \n",
      "   PREDICTION PROTEIN MUTATION INTERACTOR\n",
      "0           1  Q9Y616    F419L     Q16288\n",
      "1           0  Q9Y616    F419L     Q16288\n",
      "2           0  P04637    R280K     Q13625\n",
      "3           1  P04637    R280K     Q13625\n",
      "4           1  P04637    R280K     Q13625\n",
      "2021-10-10 23:55:29 |\u001b[36m DEBUG    \u001b[0m| helpers.helpers_predator.predictions_utils | Removed entries first five rows (of 560): \n",
      "   PREDICTION PROTEIN MUTATION INTERACTOR\n",
      "0           1  Q9Y616    F419L     Q16288\n",
      "1           0  Q9Y616    F419L     Q16288\n",
      "2           0  P67775    E297K     Q14738\n",
      "3           1  P67775    E297K     Q14738\n",
      "4           0  Q15413   G2795S     Q92736\n",
      "2021-10-10 23:55:50 |\u001b[36m DEBUG    \u001b[0m| helpers.helpers_predator.predictions_utils | Removed entries first five rows (of 1123): \n",
      "   PREDICTION PROTEIN MUTATION INTERACTOR\n",
      "0           1  Q9UKS6     R24H     Q9UNF0\n",
      "1           0  Q9UKS6     R24H     Q9UNF0\n",
      "2           1  Q13418    N202K     O15530\n",
      "3           1  Q13418    N202K     O15530\n",
      "4           0  Q13418    N202K     O15530\n",
      "2021-10-10 23:56:13 |\u001b[36m DEBUG    \u001b[0m| helpers.helpers_predator.predictions_utils | Removed entries first five rows (of 952): \n",
      "   PREDICTION PROTEIN MUTATION INTERACTOR\n",
      "0           1  Q9Y616    F419L     Q16288\n",
      "1           0  Q9Y616    F419L     Q16288\n",
      "2           0  P04637    R280K     Q13625\n",
      "3           1  P04637    R280K     Q13625\n",
      "4           1  P04637    R280K     Q13625\n",
      "2021-10-10 23:56:33 |\u001b[36m DEBUG    \u001b[0m| helpers.helpers_predator.predictions_utils | Removed entries first five rows (of 649): \n",
      "   PREDICTION PROTEIN MUTATION INTERACTOR\n",
      "0           0  P04637    R280K     Q13625\n",
      "1           1  P04637    R280K     Q13625\n",
      "2           1  P04637    R280K     Q13625\n",
      "3           1  P20810    D466H     P17655\n",
      "4           0  P20810    D466H     P17655\n",
      "2021-10-10 23:56:53 |\u001b[36m DEBUG    \u001b[0m| helpers.helpers_predator.predictions_utils | Removed entries first five rows (of 1030): \n",
      "   PREDICTION PROTEIN MUTATION INTERACTOR\n",
      "0           1  Q9Y616    F419L     Q16288\n",
      "1           0  Q9Y616    F419L     Q16288\n",
      "2           1  Q9UL54    V301M     P46734\n",
      "3           1  Q9UL54    V301M     P46734\n",
      "4           0  Q9UL54    V301M     P46734\n",
      "2021-10-10 23:57:17 |\u001b[36m DEBUG    \u001b[0m| helpers.helpers_predator.predictions_utils | Removed entries first five rows (of 792): \n",
      "   PREDICTION PROTEIN MUTATION INTERACTOR\n",
      "0           1  Q13418    N202K     Q9Y243\n",
      "1           0  Q13418    N202K     Q9Y243\n",
      "2           1  Q9Y616    F419L     Q16288\n",
      "3           0  Q9Y616    F419L     Q16288\n",
      "4           0  P04637    R280K     Q13625\n",
      "2021-10-10 23:57:39 |\u001b[36m DEBUG    \u001b[0m| helpers.helpers_predator.predictions_utils | Removed entries first five rows (of 380): \n",
      "   PREDICTION PROTEIN MUTATION INTERACTOR\n",
      "0           1  Q9UL54    V301M     P46734\n",
      "1           1  Q9UL54    V301M     P46734\n",
      "2           0  Q9UL54    V301M     P46734\n",
      "3           0  P04637    R280K     Q13625\n",
      "4           1  P04637    R280K     Q13625\n",
      "2021-10-10 23:57:59 |\u001b[36m DEBUG    \u001b[0m| helpers.helpers_predator.predictions_utils | Removed entries first five rows (of 725): \n",
      "   PREDICTION PROTEIN MUTATION INTERACTOR\n",
      "0           0  P04637    R280K     Q13625\n",
      "1           1  P04637    R280K     Q13625\n",
      "2           1  P04637    R280K     Q13625\n",
      "3           1  P42336   G1049R     Q13535\n",
      "4           0  P42336   G1049R     Q13535\n",
      "2021-10-10 23:58:20 |\u001b[36m DEBUG    \u001b[0m| helpers.helpers_predator.predictions_utils | Removed entries first five rows (of 1103): \n",
      "   PREDICTION PROTEIN MUTATION INTERACTOR\n",
      "0           1  Q9Y616    F419L     Q16288\n",
      "1           0  Q9Y616    F419L     Q16288\n",
      "2           0  P04637    R280K     Q13625\n",
      "3           1  P04637    R280K     Q13625\n",
      "4           1  P04637    R280K     Q13625\n",
      "2021-10-10 23:58:40 |\u001b[36m DEBUG    \u001b[0m| helpers.helpers_predator.predictions_utils | Removed entries first five rows (of 794): \n",
      "   PREDICTION PROTEIN MUTATION INTERACTOR\n",
      "0           0  P04637    R280K     Q13625\n",
      "1           1  P04637    R280K     Q13625\n",
      "2           1  P04637    R280K     Q13625\n",
      "3           0  P67775    E297K     Q14738\n",
      "4           1  P67775    E297K     Q14738\n",
      "2021-10-10 23:59:01 |\u001b[36m DEBUG    \u001b[0m| helpers.helpers_predator.predictions_utils | Removed entries first five rows (of 782): \n",
      "   PREDICTION PROTEIN MUTATION INTERACTOR\n",
      "0           1  Q9UKS6     R24H     Q9UNF0\n",
      "1           0  Q9UKS6     R24H     Q9UNF0\n",
      "2           0  P04637    R280K     Q13625\n",
      "3           1  P04637    R280K     Q13625\n",
      "4           1  P04637    R280K     Q13625\n",
      "2021-10-10 23:59:22 |\u001b[36m DEBUG    \u001b[0m| helpers.helpers_predator.predictions_utils | Removed entries first five rows (of 1456): \n",
      "   PREDICTION PROTEIN MUTATION INTERACTOR\n",
      "0           1  Q9Y616    F419L     Q16288\n",
      "1           0  Q9Y616    F419L     Q16288\n",
      "2           1  Q9UL54    V301M     P46734\n",
      "3           1  Q9UL54    V301M     P46734\n",
      "4           0  Q9UL54    V301M     P46734\n",
      "2021-10-10 23:59:43 |\u001b[36m DEBUG    \u001b[0m| helpers.helpers_predator.predictions_utils | Removed entries first five rows (of 818): \n",
      "   PREDICTION PROTEIN MUTATION INTERACTOR\n",
      "0           1  Q9Y616    F419L     Q16288\n",
      "1           0  Q9Y616    F419L     Q16288\n",
      "2           0  P04637    R280K     Q13625\n",
      "3           1  P04637    R280K     Q13625\n",
      "4           1  P04637    R280K     Q13625\n",
      "2021-10-11 00:00:04 |\u001b[36m DEBUG    \u001b[0m| helpers.helpers_predator.predictions_utils | Removed entries first five rows (of 838): \n",
      "   PREDICTION PROTEIN MUTATION INTERACTOR\n",
      "0           0  P04637    R280K     Q13625\n",
      "1           1  P04637    R280K     Q13625\n",
      "2           1  P04637    R280K     Q13625\n",
      "3           0  Q14469     R46Q     Q96HZ4\n",
      "4           1  Q14469     R46Q     Q96HZ4\n",
      "2021-10-11 00:00:04 |\u001b[36m DEBUG    \u001b[0m| helpers.helpers_predator.predictions | Preparing finalized prediction datasets for brca ..\n",
      "2021-10-11 00:00:04 |\u001b[36m DEBUG    \u001b[0m| helpers.helpers_predator.predictions | Post processing completed for brca.\n"
     ]
    }
   ],
   "source": [
    "predator.predictions_post_process()"
   ]
  },
  {
   "cell_type": "code",
   "execution_count": 10,
   "id": "9b199266-30fa-4d19-aea7-e646f074241b",
   "metadata": {},
   "outputs": [
    {
     "name": "stdout",
     "output_type": "stream",
     "text": [
      "\u001b[36mData dimensions: (7467, 104)\u001b[0m\n"
     ]
    },
    {
     "data": {
      "text/html": [
       "<div>\n",
       "<style scoped>\n",
       "    .dataframe tbody tr th:only-of-type {\n",
       "        vertical-align: middle;\n",
       "    }\n",
       "\n",
       "    .dataframe tbody tr th {\n",
       "        vertical-align: top;\n",
       "    }\n",
       "\n",
       "    .dataframe thead th {\n",
       "        text-align: right;\n",
       "    }\n",
       "</style>\n",
       "<table border=\"1\" class=\"dataframe\">\n",
       "  <thead>\n",
       "    <tr style=\"text-align: right;\">\n",
       "      <th></th>\n",
       "      <th>Prediction</th>\n",
       "      <th>Input_identifier</th>\n",
       "      <th>UniProt_ID</th>\n",
       "      <th>Mutation</th>\n",
       "      <th>Status</th>\n",
       "      <th>Type</th>\n",
       "      <th>COSMIC_mut_ID</th>\n",
       "      <th>ClinVar_mut_ID</th>\n",
       "      <th>UniProt_mut_ID</th>\n",
       "      <th>Domain_name</th>\n",
       "      <th>...</th>\n",
       "      <th>number_of_residues_mut</th>\n",
       "      <th>IntraclashesEnergy1_wt</th>\n",
       "      <th>IntraclashesEnergy1_mut</th>\n",
       "      <th>IntraclashesEnergy2_wt</th>\n",
       "      <th>IntraclashesEnergy2_mut</th>\n",
       "      <th>Interface_hydrophobic_area</th>\n",
       "      <th>Interface_hydrophilic_area</th>\n",
       "      <th>Interface_total_area</th>\n",
       "      <th>Interface_contact_distance_wt</th>\n",
       "      <th>Interface_contact_distance_mut</th>\n",
       "    </tr>\n",
       "  </thead>\n",
       "  <tbody>\n",
       "    <tr>\n",
       "      <th>0</th>\n",
       "      <td>0</td>\n",
       "      <td>P28062</td>\n",
       "      <td>P28062</td>\n",
       "      <td>R216W</td>\n",
       "      <td>done</td>\n",
       "      <td>interface</td>\n",
       "      <td>COSM451277</td>\n",
       "      <td>-</td>\n",
       "      <td>-</td>\n",
       "      <td>Proteasome</td>\n",
       "      <td>...</td>\n",
       "      <td>417.0</td>\n",
       "      <td>156.750</td>\n",
       "      <td>156.868</td>\n",
       "      <td>49.1868</td>\n",
       "      <td>49.1868</td>\n",
       "      <td>566.065</td>\n",
       "      <td>367.205</td>\n",
       "      <td>933.27</td>\n",
       "      <td>5.37939</td>\n",
       "      <td>3.28969</td>\n",
       "    </tr>\n",
       "    <tr>\n",
       "      <th>1</th>\n",
       "      <td>1</td>\n",
       "      <td>Q15842</td>\n",
       "      <td>Q15842</td>\n",
       "      <td>E237K</td>\n",
       "      <td>done</td>\n",
       "      <td>interface</td>\n",
       "      <td>COSM430893</td>\n",
       "      <td>-</td>\n",
       "      <td>-</td>\n",
       "      <td>IRK</td>\n",
       "      <td>...</td>\n",
       "      <td>684.0</td>\n",
       "      <td>131.720</td>\n",
       "      <td>131.479</td>\n",
       "      <td>129.5260</td>\n",
       "      <td>129.5260</td>\n",
       "      <td>None</td>\n",
       "      <td>None</td>\n",
       "      <td>None</td>\n",
       "      <td>2.48410</td>\n",
       "      <td>2.92169</td>\n",
       "    </tr>\n",
       "    <tr>\n",
       "      <th>2</th>\n",
       "      <td>1</td>\n",
       "      <td>Q15842</td>\n",
       "      <td>Q15842</td>\n",
       "      <td>E237K</td>\n",
       "      <td>done</td>\n",
       "      <td>interface</td>\n",
       "      <td>COSM430893</td>\n",
       "      <td>-</td>\n",
       "      <td>-</td>\n",
       "      <td>IRK</td>\n",
       "      <td>...</td>\n",
       "      <td>678.0</td>\n",
       "      <td>142.706</td>\n",
       "      <td>142.107</td>\n",
       "      <td>99.1151</td>\n",
       "      <td>99.1190</td>\n",
       "      <td>None</td>\n",
       "      <td>624.35</td>\n",
       "      <td>None</td>\n",
       "      <td>2.70474</td>\n",
       "      <td>3.18529</td>\n",
       "    </tr>\n",
       "  </tbody>\n",
       "</table>\n",
       "<p>3 rows × 104 columns</p>\n",
       "</div>"
      ],
      "text/plain": [
       "   Prediction Input_identifier UniProt_ID Mutation Status       Type  \\\n",
       "0           0           P28062     P28062    R216W   done  interface   \n",
       "1           1           Q15842     Q15842    E237K   done  interface   \n",
       "2           1           Q15842     Q15842    E237K   done  interface   \n",
       "\n",
       "  COSMIC_mut_ID ClinVar_mut_ID UniProt_mut_ID Domain_name  ...  \\\n",
       "0    COSM451277              -              -  Proteasome  ...   \n",
       "1    COSM430893              -              -         IRK  ...   \n",
       "2    COSM430893              -              -         IRK  ...   \n",
       "\n",
       "  number_of_residues_mut IntraclashesEnergy1_wt IntraclashesEnergy1_mut  \\\n",
       "0                  417.0                156.750                 156.868   \n",
       "1                  684.0                131.720                 131.479   \n",
       "2                  678.0                142.706                 142.107   \n",
       "\n",
       "   IntraclashesEnergy2_wt  IntraclashesEnergy2_mut Interface_hydrophobic_area  \\\n",
       "0                 49.1868                  49.1868                    566.065   \n",
       "1                129.5260                 129.5260                       None   \n",
       "2                 99.1151                  99.1190                       None   \n",
       "\n",
       "  Interface_hydrophilic_area Interface_total_area  \\\n",
       "0                    367.205               933.27   \n",
       "1                       None                 None   \n",
       "2                     624.35                 None   \n",
       "\n",
       "  Interface_contact_distance_wt Interface_contact_distance_mut  \n",
       "0                       5.37939                        3.28969  \n",
       "1                       2.48410                        2.92169  \n",
       "2                       2.70474                        3.18529  \n",
       "\n",
       "[3 rows x 104 columns]"
      ]
     },
     "metadata": {},
     "output_type": "display_data"
    }
   ],
   "source": [
    "display_data(predator.predictions[\"brca_predicted_datasets\"][0])"
   ]
  },
  {
   "cell_type": "code",
   "execution_count": 11,
   "id": "c98a4d19-2d34-4529-9102-227fc8a87d9a",
   "metadata": {},
   "outputs": [
    {
     "data": {
      "image/png": "[encoded data removed]",
      "text/plain": [
       "<Figure size 1080x360 with 1 Axes>"
      ]
     },
     "metadata": {},
     "output_type": "display_data"
    }
   ],
   "source": [
    "predator.predictions.plot_distribution_valid_vs_invalid(\"brca\")"
   ]
  },
  {
   "cell_type": "code",
   "execution_count": 12,
   "id": "47b7e1d1-fa11-42ff-b369-8e41fd6d0971",
   "metadata": {},
   "outputs": [
    {
     "name": "stdout",
     "output_type": "stream",
     "text": [
      "2021-10-11 00:00:05 |\u001b[36m DEBUG    \u001b[0m| helpers.helpers_predator.predictions | Plotting number of finalized predictions per model.\n",
      "Note that following plot shows the number of (protein, mutation, interactor) triplets which had valid prediction.\n"
     ]
    },
    {
     "data": {
      "image/png": "[encoded data removed]",
      "text/plain": [
       "<Figure size 1080x360 with 1 Axes>"
      ]
     },
     "metadata": {},
     "output_type": "display_data"
    }
   ],
   "source": [
    "predator.predictions.plot_num_finalized_predictions(\"brca\")"
   ]
  },
  {
   "cell_type": "code",
   "execution_count": 13,
   "id": "c81b9a04-65a3-43ec-bd76-49a252f6445d",
   "metadata": {
    "scrolled": true,
    "tags": []
   },
   "outputs": [
    {
     "name": "stdout",
     "output_type": "stream",
     "text": [
      "2021-10-11 00:00:06 |\u001b[36m DEBUG    \u001b[0m| helpers.helpers_predator.predictions | PredictionsHard\n",
      "2021-10-11 00:00:06 |\u001b[36m DEBUG    \u001b[0m| helpers.helpers_predator.predictions | Preparing ensemble prediction data for brca ..\n"
     ]
    },
    {
     "data": {
      "application/vnd.jupyter.widget-view+json": {
       "model_id": "ee6247673bce48899db40b40d58c6cb0",
       "version_major": 2,
       "version_minor": 0
      },
      "text/plain": [
       "  0%|          | 0/3985 [00:00<?, ?it/s]"
      ]
     },
     "metadata": {},
     "output_type": "display_data"
    },
    {
     "name": "stdout",
     "output_type": "stream",
     "text": [
      "2021-10-11 00:04:36 |\u001b[36m DEBUG    \u001b[0m| helpers.helpers_predator.predictions | Ensemble prediction data for brca is prepared.\n",
      "2021-10-11 00:04:36 |\u001b[36m DEBUG    \u001b[0m| helpers.helpers_predator.predictions | Resulting prediction data is available for brca.\n",
      "Accessible from predictions.['brca_prediction_results']\n",
      "2021-10-11 00:04:36 |\u001b[36m DEBUG    \u001b[0m| helpers.helpers_predator.predictions | Resulting prediction data (no_votes dropped) is available for brca.\n",
      "Accessible from predictions.['brca_prediction_results_no_votes_dropped']\n"
     ]
    }
   ],
   "source": [
    "predator.prepare_ensemble_prediction_data()"
   ]
  },
  {
   "cell_type": "code",
   "execution_count": 14,
   "id": "4f9eae38-ddf4-4856-9977-4c27c8a788da",
   "metadata": {},
   "outputs": [
    {
     "name": "stdout",
     "output_type": "stream",
     "text": [
      "\u001b[36mData dimensions: (3985, 7)\u001b[0m\n"
     ]
    },
    {
     "data": {
      "text/html": [
       "<div>\n",
       "<style scoped>\n",
       "    .dataframe tbody tr th:only-of-type {\n",
       "        vertical-align: middle;\n",
       "    }\n",
       "\n",
       "    .dataframe tbody tr th {\n",
       "        vertical-align: top;\n",
       "    }\n",
       "\n",
       "    .dataframe thead th {\n",
       "        text-align: right;\n",
       "    }\n",
       "</style>\n",
       "<table border=\"1\" class=\"dataframe\">\n",
       "  <thead>\n",
       "    <tr style=\"text-align: right;\">\n",
       "      <th></th>\n",
       "      <th>UniProt_ID</th>\n",
       "      <th>Mutation</th>\n",
       "      <th>Interactor_UniProt_ID</th>\n",
       "      <th>Num_preds_0</th>\n",
       "      <th>Num_preds_1</th>\n",
       "      <th>Num_preds_NO_VOTE</th>\n",
       "      <th>VOTED_PREDICTION</th>\n",
       "    </tr>\n",
       "  </thead>\n",
       "  <tbody>\n",
       "    <tr>\n",
       "      <th>0</th>\n",
       "      <td>P28062</td>\n",
       "      <td>R216W</td>\n",
       "      <td>P40306</td>\n",
       "      <td>24</td>\n",
       "      <td>13</td>\n",
       "      <td>0</td>\n",
       "      <td>0</td>\n",
       "    </tr>\n",
       "    <tr>\n",
       "      <th>1</th>\n",
       "      <td>Q15842</td>\n",
       "      <td>E237K</td>\n",
       "      <td>Q14654</td>\n",
       "      <td>21</td>\n",
       "      <td>16</td>\n",
       "      <td>0</td>\n",
       "      <td>0</td>\n",
       "    </tr>\n",
       "    <tr>\n",
       "      <th>2</th>\n",
       "      <td>Q15842</td>\n",
       "      <td>E237K</td>\n",
       "      <td>P63252</td>\n",
       "      <td>25</td>\n",
       "      <td>12</td>\n",
       "      <td>0</td>\n",
       "      <td>0</td>\n",
       "    </tr>\n",
       "  </tbody>\n",
       "</table>\n",
       "</div>"
      ],
      "text/plain": [
       "  UniProt_ID Mutation Interactor_UniProt_ID  Num_preds_0  Num_preds_1  \\\n",
       "0     P28062    R216W                P40306           24           13   \n",
       "1     Q15842    E237K                Q14654           21           16   \n",
       "2     Q15842    E237K                P63252           25           12   \n",
       "\n",
       "   Num_preds_NO_VOTE VOTED_PREDICTION  \n",
       "0                  0                0  \n",
       "1                  0                0  \n",
       "2                  0                0  "
      ]
     },
     "metadata": {},
     "output_type": "display_data"
    }
   ],
   "source": [
    "display_data(predator.predictions[\"brca_ensemble_prediction_data\"])"
   ]
  },
  {
   "cell_type": "code",
   "execution_count": 15,
   "id": "50b403be-c1e1-418b-af90-9704641988ce",
   "metadata": {},
   "outputs": [
    {
     "name": "stdout",
     "output_type": "stream",
     "text": [
      "\u001b[36mData dimensions: (7467, 103)\u001b[0m\n"
     ]
    },
    {
     "data": {
      "text/html": [
       "<div>\n",
       "<style scoped>\n",
       "    .dataframe tbody tr th:only-of-type {\n",
       "        vertical-align: middle;\n",
       "    }\n",
       "\n",
       "    .dataframe tbody tr th {\n",
       "        vertical-align: top;\n",
       "    }\n",
       "\n",
       "    .dataframe thead th {\n",
       "        text-align: right;\n",
       "    }\n",
       "</style>\n",
       "<table border=\"1\" class=\"dataframe\">\n",
       "  <thead>\n",
       "    <tr style=\"text-align: right;\">\n",
       "      <th></th>\n",
       "      <th>Input_identifier</th>\n",
       "      <th>UniProt_ID</th>\n",
       "      <th>Mutation</th>\n",
       "      <th>Status</th>\n",
       "      <th>Type</th>\n",
       "      <th>COSMIC_mut_ID</th>\n",
       "      <th>ClinVar_mut_ID</th>\n",
       "      <th>UniProt_mut_ID</th>\n",
       "      <th>Domain_name</th>\n",
       "      <th>Domain_clan</th>\n",
       "      <th>...</th>\n",
       "      <th>number_of_residues_mut</th>\n",
       "      <th>IntraclashesEnergy1_wt</th>\n",
       "      <th>IntraclashesEnergy1_mut</th>\n",
       "      <th>IntraclashesEnergy2_wt</th>\n",
       "      <th>IntraclashesEnergy2_mut</th>\n",
       "      <th>Interface_hydrophobic_area</th>\n",
       "      <th>Interface_hydrophilic_area</th>\n",
       "      <th>Interface_total_area</th>\n",
       "      <th>Interface_contact_distance_wt</th>\n",
       "      <th>Interface_contact_distance_mut</th>\n",
       "    </tr>\n",
       "  </thead>\n",
       "  <tbody>\n",
       "    <tr>\n",
       "      <th>0</th>\n",
       "      <td>P28062</td>\n",
       "      <td>P28062</td>\n",
       "      <td>R216W</td>\n",
       "      <td>done</td>\n",
       "      <td>interface</td>\n",
       "      <td>COSM451277</td>\n",
       "      <td>-</td>\n",
       "      <td>-</td>\n",
       "      <td>Proteasome</td>\n",
       "      <td>Proteasome</td>\n",
       "      <td>...</td>\n",
       "      <td>417.0</td>\n",
       "      <td>156.750</td>\n",
       "      <td>156.868</td>\n",
       "      <td>49.1868</td>\n",
       "      <td>49.1868</td>\n",
       "      <td>566.065</td>\n",
       "      <td>367.205</td>\n",
       "      <td>933.27</td>\n",
       "      <td>5.37939</td>\n",
       "      <td>3.28969</td>\n",
       "    </tr>\n",
       "    <tr>\n",
       "      <th>1</th>\n",
       "      <td>Q15842</td>\n",
       "      <td>Q15842</td>\n",
       "      <td>E237K</td>\n",
       "      <td>done</td>\n",
       "      <td>interface</td>\n",
       "      <td>COSM430893</td>\n",
       "      <td>-</td>\n",
       "      <td>-</td>\n",
       "      <td>IRK</td>\n",
       "      <td>IRK</td>\n",
       "      <td>...</td>\n",
       "      <td>684.0</td>\n",
       "      <td>131.720</td>\n",
       "      <td>131.479</td>\n",
       "      <td>129.5260</td>\n",
       "      <td>129.5260</td>\n",
       "      <td>None</td>\n",
       "      <td>None</td>\n",
       "      <td>None</td>\n",
       "      <td>2.48410</td>\n",
       "      <td>2.92169</td>\n",
       "    </tr>\n",
       "    <tr>\n",
       "      <th>2</th>\n",
       "      <td>Q15842</td>\n",
       "      <td>Q15842</td>\n",
       "      <td>E237K</td>\n",
       "      <td>done</td>\n",
       "      <td>interface</td>\n",
       "      <td>COSM430893</td>\n",
       "      <td>-</td>\n",
       "      <td>-</td>\n",
       "      <td>IRK</td>\n",
       "      <td>IRK</td>\n",
       "      <td>...</td>\n",
       "      <td>678.0</td>\n",
       "      <td>142.706</td>\n",
       "      <td>142.107</td>\n",
       "      <td>99.1151</td>\n",
       "      <td>99.1190</td>\n",
       "      <td>None</td>\n",
       "      <td>624.35</td>\n",
       "      <td>None</td>\n",
       "      <td>2.70474</td>\n",
       "      <td>3.18529</td>\n",
       "    </tr>\n",
       "  </tbody>\n",
       "</table>\n",
       "<p>3 rows × 103 columns</p>\n",
       "</div>"
      ],
      "text/plain": [
       "  Input_identifier UniProt_ID Mutation Status       Type COSMIC_mut_ID  \\\n",
       "0           P28062     P28062    R216W   done  interface    COSM451277   \n",
       "1           Q15842     Q15842    E237K   done  interface    COSM430893   \n",
       "2           Q15842     Q15842    E237K   done  interface    COSM430893   \n",
       "\n",
       "  ClinVar_mut_ID UniProt_mut_ID Domain_name Domain_clan  ...  \\\n",
       "0              -              -  Proteasome  Proteasome  ...   \n",
       "1              -              -         IRK         IRK  ...   \n",
       "2              -              -         IRK         IRK  ...   \n",
       "\n",
       "  number_of_residues_mut IntraclashesEnergy1_wt  IntraclashesEnergy1_mut  \\\n",
       "0                  417.0                156.750                  156.868   \n",
       "1                  684.0                131.720                  131.479   \n",
       "2                  678.0                142.706                  142.107   \n",
       "\n",
       "   IntraclashesEnergy2_wt IntraclashesEnergy2_mut Interface_hydrophobic_area  \\\n",
       "0                 49.1868                 49.1868                    566.065   \n",
       "1                129.5260                129.5260                       None   \n",
       "2                 99.1151                 99.1190                       None   \n",
       "\n",
       "  Interface_hydrophilic_area Interface_total_area  \\\n",
       "0                    367.205               933.27   \n",
       "1                       None                 None   \n",
       "2                     624.35                 None   \n",
       "\n",
       "  Interface_contact_distance_wt  Interface_contact_distance_mut  \n",
       "0                       5.37939                         3.28969  \n",
       "1                       2.48410                         2.92169  \n",
       "2                       2.70474                         3.18529  \n",
       "\n",
       "[3 rows x 103 columns]"
      ]
     },
     "metadata": {},
     "output_type": "display_data"
    }
   ],
   "source": [
    "display_data(predator.data_materials[\"brca\"])"
   ]
  },
  {
   "cell_type": "code",
   "execution_count": 16,
   "id": "92baf990-79ae-4e3f-a5fa-c0d6c1173150",
   "metadata": {},
   "outputs": [
    {
     "name": "stdout",
     "output_type": "stream",
     "text": [
      "\u001b[36mData dimensions: (7467, 10)\u001b[0m\n"
     ]
    },
    {
     "data": {
      "text/html": [
       "<div>\n",
       "<style scoped>\n",
       "    .dataframe tbody tr th:only-of-type {\n",
       "        vertical-align: middle;\n",
       "    }\n",
       "\n",
       "    .dataframe tbody tr th {\n",
       "        vertical-align: top;\n",
       "    }\n",
       "\n",
       "    .dataframe thead th {\n",
       "        text-align: right;\n",
       "    }\n",
       "</style>\n",
       "<table border=\"1\" class=\"dataframe\">\n",
       "  <thead>\n",
       "    <tr style=\"text-align: right;\">\n",
       "      <th></th>\n",
       "      <th>Provean_score</th>\n",
       "      <th>EL2_score</th>\n",
       "      <th>Final_ddG</th>\n",
       "      <th>Interactor_alignment_score</th>\n",
       "      <th>Matrix_score</th>\n",
       "      <th>Solvent_accessibility_wt</th>\n",
       "      <th>Solvent_accessibility_mut</th>\n",
       "      <th>van_der_waals_mut</th>\n",
       "      <th>Interactor_template_sequence_identity</th>\n",
       "      <th>Model/DOPE_score</th>\n",
       "    </tr>\n",
       "  </thead>\n",
       "  <tbody>\n",
       "    <tr>\n",
       "      <th>0</th>\n",
       "      <td>-6.335</td>\n",
       "      <td>1.142869</td>\n",
       "      <td>0.789252</td>\n",
       "      <td>0.823800</td>\n",
       "      <td>-4.0</td>\n",
       "      <td>70.4880</td>\n",
       "      <td>66.3922</td>\n",
       "      <td>-22.0706</td>\n",
       "      <td>0.8858</td>\n",
       "      <td>-0.103731</td>\n",
       "    </tr>\n",
       "    <tr>\n",
       "      <th>1</th>\n",
       "      <td>-3.934</td>\n",
       "      <td>2.435212</td>\n",
       "      <td>2.112660</td>\n",
       "      <td>0.472829</td>\n",
       "      <td>1.0</td>\n",
       "      <td>85.3259</td>\n",
       "      <td>100.2340</td>\n",
       "      <td>-42.9531</td>\n",
       "      <td>0.4623</td>\n",
       "      <td>0.750751</td>\n",
       "    </tr>\n",
       "    <tr>\n",
       "      <th>2</th>\n",
       "      <td>-3.934</td>\n",
       "      <td>2.151470</td>\n",
       "      <td>2.342750</td>\n",
       "      <td>0.535672</td>\n",
       "      <td>1.0</td>\n",
       "      <td>85.2024</td>\n",
       "      <td>97.7820</td>\n",
       "      <td>-48.3449</td>\n",
       "      <td>0.5380</td>\n",
       "      <td>0.902388</td>\n",
       "    </tr>\n",
       "  </tbody>\n",
       "</table>\n",
       "</div>"
      ],
      "text/plain": [
       "   Provean_score  EL2_score  Final_ddG  Interactor_alignment_score  \\\n",
       "0         -6.335   1.142869   0.789252                    0.823800   \n",
       "1         -3.934   2.435212   2.112660                    0.472829   \n",
       "2         -3.934   2.151470   2.342750                    0.535672   \n",
       "\n",
       "   Matrix_score  Solvent_accessibility_wt  Solvent_accessibility_mut  \\\n",
       "0          -4.0                   70.4880                    66.3922   \n",
       "1           1.0                   85.3259                   100.2340   \n",
       "2           1.0                   85.2024                    97.7820   \n",
       "\n",
       "   van_der_waals_mut  Interactor_template_sequence_identity  Model/DOPE_score  \n",
       "0           -22.0706                                 0.8858         -0.103731  \n",
       "1           -42.9531                                 0.4623          0.750751  \n",
       "2           -48.3449                                 0.5380          0.902388  "
      ]
     },
     "metadata": {},
     "output_type": "display_data"
    }
   ],
   "source": [
    "display_data(predator.data_materials[\"Xs_brca\"][0])"
   ]
  },
  {
   "cell_type": "code",
   "execution_count": 17,
   "id": "626956d7-8559-47b9-8b4f-5a003565d469",
   "metadata": {},
   "outputs": [
    {
     "data": {
      "image/png": "[encoded data removed]",
      "text/plain": [
       "<Figure size 432x288 with 1 Axes>"
      ]
     },
     "metadata": {},
     "output_type": "display_data"
    }
   ],
   "source": [
    "predator.predictions.plot_ensemble_prediction_distribution(\"brca\")"
   ]
  },
  {
   "cell_type": "code",
   "execution_count": 18,
   "id": "ede7c311-a2af-4777-881f-f4971a3e94d3",
   "metadata": {},
   "outputs": [
    {
     "name": "stdout",
     "output_type": "stream",
     "text": [
      "\u001b[36mData dimensions: (3985, 4)\u001b[0m\n"
     ]
    },
    {
     "data": {
      "text/html": [
       "<div>\n",
       "<style scoped>\n",
       "    .dataframe tbody tr th:only-of-type {\n",
       "        vertical-align: middle;\n",
       "    }\n",
       "\n",
       "    .dataframe tbody tr th {\n",
       "        vertical-align: top;\n",
       "    }\n",
       "\n",
       "    .dataframe thead th {\n",
       "        text-align: right;\n",
       "    }\n",
       "</style>\n",
       "<table border=\"1\" class=\"dataframe\">\n",
       "  <thead>\n",
       "    <tr style=\"text-align: right;\">\n",
       "      <th></th>\n",
       "      <th>UniProt_ID</th>\n",
       "      <th>Mutation</th>\n",
       "      <th>Interactor_UniProt_ID</th>\n",
       "      <th>Prediction</th>\n",
       "    </tr>\n",
       "  </thead>\n",
       "  <tbody>\n",
       "    <tr>\n",
       "      <th>0</th>\n",
       "      <td>P28062</td>\n",
       "      <td>R216W</td>\n",
       "      <td>P40306</td>\n",
       "      <td>0</td>\n",
       "    </tr>\n",
       "    <tr>\n",
       "      <th>1</th>\n",
       "      <td>Q15842</td>\n",
       "      <td>E237K</td>\n",
       "      <td>Q14654</td>\n",
       "      <td>0</td>\n",
       "    </tr>\n",
       "    <tr>\n",
       "      <th>2</th>\n",
       "      <td>Q15842</td>\n",
       "      <td>E237K</td>\n",
       "      <td>P63252</td>\n",
       "      <td>0</td>\n",
       "    </tr>\n",
       "  </tbody>\n",
       "</table>\n",
       "</div>"
      ],
      "text/plain": [
       "  UniProt_ID Mutation Interactor_UniProt_ID Prediction\n",
       "0     P28062    R216W                P40306          0\n",
       "1     Q15842    E237K                Q14654          0\n",
       "2     Q15842    E237K                P63252          0"
      ]
     },
     "metadata": {},
     "output_type": "display_data"
    }
   ],
   "source": [
    "brca_prediction_results_hard = predator.predictions[\"brca_prediction_results\"]\n",
    "display_data(brca_prediction_results_hard)"
   ]
  },
  {
   "cell_type": "code",
   "execution_count": 19,
   "id": "e3eca490-fb77-40e7-bf33-6c81b695a224",
   "metadata": {},
   "outputs": [],
   "source": [
    "brca_ensemble_prediction_data_hard = predator.predictions[\"brca_ensemble_prediction_data\"]"
   ]
  },
  {
   "cell_type": "code",
   "execution_count": 20,
   "id": "2b6d9841-4616-486a-a29d-2ec7b6f0f824",
   "metadata": {},
   "outputs": [
    {
     "name": "stdout",
     "output_type": "stream",
     "text": [
      "\u001b[36mData dimensions: (3833, 4)\u001b[0m\n"
     ]
    },
    {
     "data": {
      "text/html": [
       "<div>\n",
       "<style scoped>\n",
       "    .dataframe tbody tr th:only-of-type {\n",
       "        vertical-align: middle;\n",
       "    }\n",
       "\n",
       "    .dataframe tbody tr th {\n",
       "        vertical-align: top;\n",
       "    }\n",
       "\n",
       "    .dataframe thead th {\n",
       "        text-align: right;\n",
       "    }\n",
       "</style>\n",
       "<table border=\"1\" class=\"dataframe\">\n",
       "  <thead>\n",
       "    <tr style=\"text-align: right;\">\n",
       "      <th></th>\n",
       "      <th>UniProt_ID</th>\n",
       "      <th>Mutation</th>\n",
       "      <th>Interactor_UniProt_ID</th>\n",
       "      <th>Prediction</th>\n",
       "    </tr>\n",
       "  </thead>\n",
       "  <tbody>\n",
       "    <tr>\n",
       "      <th>0</th>\n",
       "      <td>P28062</td>\n",
       "      <td>R216W</td>\n",
       "      <td>P40306</td>\n",
       "      <td>0</td>\n",
       "    </tr>\n",
       "    <tr>\n",
       "      <th>1</th>\n",
       "      <td>Q15842</td>\n",
       "      <td>E237K</td>\n",
       "      <td>Q14654</td>\n",
       "      <td>0</td>\n",
       "    </tr>\n",
       "    <tr>\n",
       "      <th>2</th>\n",
       "      <td>Q15842</td>\n",
       "      <td>E237K</td>\n",
       "      <td>P63252</td>\n",
       "      <td>0</td>\n",
       "    </tr>\n",
       "  </tbody>\n",
       "</table>\n",
       "</div>"
      ],
      "text/plain": [
       "  UniProt_ID Mutation Interactor_UniProt_ID Prediction\n",
       "0     P28062    R216W                P40306          0\n",
       "1     Q15842    E237K                Q14654          0\n",
       "2     Q15842    E237K                P63252          0"
      ]
     },
     "metadata": {},
     "output_type": "display_data"
    }
   ],
   "source": [
    "brca_prediction_results_hard_no_votes_dropped = predator.predictions[\"brca_prediction_results_no_votes_dropped\"]\n",
    "display_data(brca_prediction_results_hard_no_votes_dropped)"
   ]
  },
  {
   "cell_type": "code",
   "execution_count": 21,
   "id": "13e87397-5e05-482f-a621-fde4e934e914",
   "metadata": {},
   "outputs": [
    {
     "name": "stdout",
     "output_type": "stream",
     "text": [
      "\u001b[36mLabel counts:\n",
      "Disrupting                1908\n",
      "Increasing + No Effect    1925\n",
      "Name: Prediction, dtype: int64\u001b[0m\n"
     ]
    },
    {
     "data": {
      "image/png": "[encoded data removed]",
      "text/plain": [
       "<Figure size 432x288 with 1 Axes>"
      ]
     },
     "metadata": {},
     "output_type": "display_data"
    }
   ],
   "source": [
    "visualize_label_counts(brca_prediction_results_hard_no_votes_dropped, 'Prediction')"
   ]
  },
  {
   "cell_type": "markdown",
   "id": "6cd1cc76-b56f-4789-b3b9-bf907fe7399e",
   "metadata": {
    "tags": []
   },
   "source": [
    "### Voting mode: `soft`"
   ]
  },
  {
   "cell_type": "code",
   "execution_count": 22,
   "id": "44e95ef5-2482-4d0d-93fa-305004853f7c",
   "metadata": {},
   "outputs": [
    {
     "name": "stdout",
     "output_type": "stream",
     "text": [
      "2021-10-11 00:04:38 |\u001b[36m DEBUG    \u001b[0m| helpers.helpers_predator.data_materials | Initialize `brca` ..\n",
      "2021-10-11 00:04:38 |\u001b[36m DEBUG    \u001b[0m| helpers.helpers_predator.data_materials | Initialize `target_brca_data` ..\n",
      "2021-10-11 00:04:38 |\u001b[36m DEBUG    \u001b[0m| helpers.helpers_predator.data_materials | Initializing target data materials ..\n",
      "2021-10-11 00:04:38 |\u001b[36m DEBUG    \u001b[0m| helpers.helpers_predator.data_materials | Determined features: ['Provean_score', 'EL2_score', 'Final_ddG', 'Interactor_alignment_score', 'Matrix_score', 'Solvent_accessibility_wt', 'Solvent_accessibility_mut', 'van_der_waals_mut', 'Interactor_template_sequence_identity', 'Model/DOPE_score']\n",
      "2021-10-11 00:04:38 |\u001b[36m DEBUG    \u001b[0m| helpers.helpers_predator.data_materials | Declaring Xs_brca data materials  ..\n"
     ]
    }
   ],
   "source": [
    "predator.initialize_target_data_materials(\n",
    "    tcga_code_path_pairs=[('brca', BRCA_PATH)]\n",
    ")"
   ]
  },
  {
   "cell_type": "code",
   "execution_count": 23,
   "id": "323fbd63-7e32-471f-8cee-4b0abf9d82dc",
   "metadata": {
    "scrolled": true,
    "tags": []
   },
   "outputs": [
    {
     "name": "stdout",
     "output_type": "stream",
     "text": [
      "2021-10-11 00:04:38 |\u001b[36m DEBUG    \u001b[0m| Predator | Predicting on cancer datasets ..\n",
      "2021-10-11 00:04:38 |\u001b[36m DEBUG    \u001b[0m| helpers.helpers_predator.models | Initializing EnsambledVotingClassifier.\n",
      "2021-10-11 00:04:38 |\u001b[36m DEBUG    \u001b[0m| helpers.helpers_predator.models | Voting mode: soft\n",
      "2021-10-11 00:04:38 |\u001b[36m DEBUG    \u001b[0m| helpers.helpers_predator.predictions | Initializing: PredictionsSoft\n",
      "2021-10-11 00:04:38 |\u001b[36m DEBUG    \u001b[0m| Predator | Predicting on brca cohort ..\n",
      "2021-10-11 00:04:38 |\u001b[36m DEBUG    \u001b[0m| helpers.helpers_predator.models | Current estimator: RandomForestClassifier(class_weight='balanced', max_depth=2, max_features=None,\n",
      "                       min_samples_split=5, n_estimators=50, random_state=1)\n",
      "2021-10-11 00:04:38 |\u001b[36m DEBUG    \u001b[0m| helpers.helpers_predator.models | X shape: (7467, 10)\n",
      "2021-10-11 00:04:38 |\u001b[36m DEBUG    \u001b[0m| helpers.helpers_predator.models | Current estimator: RandomForestClassifier(max_depth=5, n_estimators=10, random_state=2)\n",
      "2021-10-11 00:04:38 |\u001b[36m DEBUG    \u001b[0m| helpers.helpers_predator.models | X shape: (7467, 10)\n",
      "2021-10-11 00:04:38 |\u001b[36m DEBUG    \u001b[0m| helpers.helpers_predator.models | Current estimator: RandomForestClassifier(class_weight='balanced', max_depth=10,\n",
      "                       max_features='sqrt', min_samples_split=5,\n",
      "                       n_estimators=25, random_state=3)\n",
      "2021-10-11 00:04:38 |\u001b[36m DEBUG    \u001b[0m| helpers.helpers_predator.models | X shape: (7467, 10)\n",
      "2021-10-11 00:04:38 |\u001b[36m DEBUG    \u001b[0m| helpers.helpers_predator.models | Current estimator: RandomForestClassifier(class_weight='balanced', max_depth=10, max_features=None,\n",
      "                       min_samples_split=5, n_estimators=75, random_state=4)\n",
      "2021-10-11 00:04:38 |\u001b[36m DEBUG    \u001b[0m| helpers.helpers_predator.models | X shape: (7467, 10)\n",
      "2021-10-11 00:04:38 |\u001b[36m DEBUG    \u001b[0m| helpers.helpers_predator.models | Current estimator: RandomForestClassifier(class_weight='balanced', max_depth=10,\n",
      "                       max_features='sqrt', n_estimators=25, random_state=5)\n",
      "2021-10-11 00:04:38 |\u001b[36m DEBUG    \u001b[0m| helpers.helpers_predator.models | X shape: (7467, 10)\n",
      "2021-10-11 00:04:38 |\u001b[36m DEBUG    \u001b[0m| helpers.helpers_predator.models | Current estimator: RandomForestClassifier(max_depth=2, min_samples_split=5, n_estimators=200,\n",
      "                       random_state=6)\n",
      "2021-10-11 00:04:38 |\u001b[36m DEBUG    \u001b[0m| helpers.helpers_predator.models | X shape: (7467, 10)\n",
      "2021-10-11 00:04:38 |\u001b[36m DEBUG    \u001b[0m| helpers.helpers_predator.models | Current estimator: RandomForestClassifier(max_depth=5, min_samples_split=5, n_estimators=10,\n",
      "                       random_state=7)\n",
      "2021-10-11 00:04:38 |\u001b[36m DEBUG    \u001b[0m| helpers.helpers_predator.models | X shape: (7467, 10)\n",
      "2021-10-11 00:04:38 |\u001b[36m DEBUG    \u001b[0m| helpers.helpers_predator.models | Current estimator: RandomForestClassifier(max_depth=5, max_features='sqrt', min_samples_split=5,\n",
      "                       n_estimators=400, random_state=8)\n",
      "2021-10-11 00:04:38 |\u001b[36m DEBUG    \u001b[0m| helpers.helpers_predator.models | X shape: (7467, 10)\n",
      "2021-10-11 00:04:39 |\u001b[36m DEBUG    \u001b[0m| helpers.helpers_predator.models | Current estimator: RandomForestClassifier(class_weight='balanced', max_depth=2,\n",
      "                       min_samples_split=5, n_estimators=50, random_state=10)\n",
      "2021-10-11 00:04:39 |\u001b[36m DEBUG    \u001b[0m| helpers.helpers_predator.models | X shape: (7467, 10)\n",
      "2021-10-11 00:04:39 |\u001b[36m DEBUG    \u001b[0m| helpers.helpers_predator.models | Current estimator: RandomForestClassifier(class_weight='balanced', max_depth=5, max_features=None,\n",
      "                       n_estimators=200, random_state=12)\n",
      "2021-10-11 00:04:39 |\u001b[36m DEBUG    \u001b[0m| helpers.helpers_predator.models | X shape: (7467, 10)\n",
      "2021-10-11 00:04:39 |\u001b[36m DEBUG    \u001b[0m| helpers.helpers_predator.models | Current estimator: RandomForestClassifier(class_weight='balanced', max_depth=5, max_features=None,\n",
      "                       min_samples_split=5, n_estimators=200, random_state=13)\n",
      "2021-10-11 00:04:39 |\u001b[36m DEBUG    \u001b[0m| helpers.helpers_predator.models | X shape: (7467, 10)\n",
      "2021-10-11 00:04:39 |\u001b[36m DEBUG    \u001b[0m| helpers.helpers_predator.models | Current estimator: RandomForestClassifier(class_weight='balanced', max_depth=10,\n",
      "                       max_features='sqrt', min_samples_split=5,\n",
      "                       n_estimators=400, random_state=17)\n",
      "2021-10-11 00:04:39 |\u001b[36m DEBUG    \u001b[0m| helpers.helpers_predator.models | X shape: (7467, 10)\n",
      "2021-10-11 00:04:39 |\u001b[36m DEBUG    \u001b[0m| helpers.helpers_predator.models | Current estimator: RandomForestClassifier(class_weight='balanced', max_depth=5, n_estimators=10,\n",
      "                       random_state=18)\n",
      "2021-10-11 00:04:39 |\u001b[36m DEBUG    \u001b[0m| helpers.helpers_predator.models | X shape: (7467, 10)\n",
      "2021-10-11 00:04:39 |\u001b[36m DEBUG    \u001b[0m| helpers.helpers_predator.models | Current estimator: RandomForestClassifier(class_weight='balanced', max_depth=10,\n",
      "                       max_features='sqrt', n_estimators=25, random_state=20)\n",
      "2021-10-11 00:04:39 |\u001b[36m DEBUG    \u001b[0m| helpers.helpers_predator.models | X shape: (7467, 10)\n",
      "2021-10-11 00:04:39 |\u001b[36m DEBUG    \u001b[0m| helpers.helpers_predator.models | Current estimator: RandomForestClassifier(max_depth=5, max_features=None, n_estimators=200,\n",
      "                       random_state=21)\n",
      "2021-10-11 00:04:39 |\u001b[36m DEBUG    \u001b[0m| helpers.helpers_predator.models | X shape: (7467, 10)\n",
      "2021-10-11 00:04:39 |\u001b[36m DEBUG    \u001b[0m| helpers.helpers_predator.models | Current estimator: RandomForestClassifier(class_weight='balanced', max_depth=10, max_features=None,\n",
      "                       n_estimators=200, random_state=22)\n",
      "2021-10-11 00:04:39 |\u001b[36m DEBUG    \u001b[0m| helpers.helpers_predator.models | X shape: (7467, 10)\n",
      "2021-10-11 00:04:39 |\u001b[36m DEBUG    \u001b[0m| helpers.helpers_predator.models | Current estimator: RandomForestClassifier(class_weight='balanced', max_depth=5, max_features=None,\n",
      "                       min_samples_split=5, n_estimators=400, random_state=23)\n",
      "2021-10-11 00:04:39 |\u001b[36m DEBUG    \u001b[0m| helpers.helpers_predator.models | X shape: (7467, 10)\n",
      "2021-10-11 00:04:40 |\u001b[36m DEBUG    \u001b[0m| helpers.helpers_predator.models | Current estimator: RandomForestClassifier(max_depth=2, max_features=None, min_samples_split=5,\n",
      "                       n_estimators=25, random_state=24)\n",
      "2021-10-11 00:04:40 |\u001b[36m DEBUG    \u001b[0m| helpers.helpers_predator.models | X shape: (7467, 10)\n",
      "2021-10-11 00:04:40 |\u001b[36m DEBUG    \u001b[0m| helpers.helpers_predator.models | Current estimator: RandomForestClassifier(max_depth=2, n_estimators=400, random_state=25)\n",
      "2021-10-11 00:04:40 |\u001b[36m DEBUG    \u001b[0m| helpers.helpers_predator.models | X shape: (7467, 10)\n",
      "2021-10-11 00:04:40 |\u001b[36m DEBUG    \u001b[0m| helpers.helpers_predator.models | Current estimator: RandomForestClassifier(class_weight='balanced', max_depth=5,\n",
      "                       min_samples_split=5, random_state=26)\n",
      "2021-10-11 00:04:40 |\u001b[36m DEBUG    \u001b[0m| helpers.helpers_predator.models | X shape: (7467, 10)\n",
      "2021-10-11 00:04:40 |\u001b[36m DEBUG    \u001b[0m| helpers.helpers_predator.models | Current estimator: RandomForestClassifier(class_weight='balanced', max_depth=2,\n",
      "                       max_features='sqrt', n_estimators=200, random_state=27)\n",
      "2021-10-11 00:04:40 |\u001b[36m DEBUG    \u001b[0m| helpers.helpers_predator.models | X shape: (7467, 10)\n",
      "2021-10-11 00:04:40 |\u001b[36m DEBUG    \u001b[0m| helpers.helpers_predator.models | Current estimator: RandomForestClassifier(class_weight='balanced', max_depth=2, n_estimators=25,\n",
      "                       random_state=28)\n",
      "2021-10-11 00:04:40 |\u001b[36m DEBUG    \u001b[0m| helpers.helpers_predator.models | X shape: (7467, 10)\n",
      "2021-10-11 00:04:40 |\u001b[36m DEBUG    \u001b[0m| helpers.helpers_predator.models | Current estimator: RandomForestClassifier(max_depth=10, n_estimators=75, random_state=29)\n",
      "2021-10-11 00:04:40 |\u001b[36m DEBUG    \u001b[0m| helpers.helpers_predator.models | X shape: (7467, 10)\n",
      "2021-10-11 00:04:40 |\u001b[36m DEBUG    \u001b[0m| helpers.helpers_predator.models | Current estimator: RandomForestClassifier(class_weight='balanced', max_depth=2, max_features=None,\n",
      "                       min_samples_split=5, n_estimators=50, random_state=30)\n",
      "2021-10-11 00:04:40 |\u001b[36m DEBUG    \u001b[0m| helpers.helpers_predator.models | X shape: (7467, 10)\n",
      "2021-10-11 00:04:40 |\u001b[36m DEBUG    \u001b[0m| helpers.helpers_predator.models | Current estimator: RandomForestClassifier(max_depth=10, n_estimators=10, random_state=31)\n",
      "2021-10-11 00:04:40 |\u001b[36m DEBUG    \u001b[0m| helpers.helpers_predator.models | X shape: (7467, 10)\n",
      "2021-10-11 00:04:40 |\u001b[36m DEBUG    \u001b[0m| helpers.helpers_predator.models | Current estimator: RandomForestClassifier(max_depth=10, n_estimators=200, random_state=32)\n",
      "2021-10-11 00:04:40 |\u001b[36m DEBUG    \u001b[0m| helpers.helpers_predator.models | X shape: (7467, 10)\n",
      "2021-10-11 00:04:40 |\u001b[36m DEBUG    \u001b[0m| helpers.helpers_predator.models | Current estimator: RandomForestClassifier(class_weight='balanced', max_depth=2,\n",
      "                       max_features='sqrt', n_estimators=400, random_state=33)\n",
      "2021-10-11 00:04:40 |\u001b[36m DEBUG    \u001b[0m| helpers.helpers_predator.models | X shape: (7467, 10)\n",
      "2021-10-11 00:04:40 |\u001b[36m DEBUG    \u001b[0m| helpers.helpers_predator.models | Current estimator: RandomForestClassifier(max_depth=5, max_features=None, n_estimators=200,\n",
      "                       random_state=35)\n",
      "2021-10-11 00:04:40 |\u001b[36m DEBUG    \u001b[0m| helpers.helpers_predator.models | X shape: (7467, 10)\n",
      "2021-10-11 00:04:41 |\u001b[36m DEBUG    \u001b[0m| helpers.helpers_predator.models | Current estimator: RandomForestClassifier(max_depth=2, min_samples_split=5, n_estimators=10,\n",
      "                       random_state=36)\n",
      "2021-10-11 00:04:41 |\u001b[36m DEBUG    \u001b[0m| helpers.helpers_predator.models | X shape: (7467, 10)\n",
      "2021-10-11 00:04:41 |\u001b[36m DEBUG    \u001b[0m| helpers.helpers_predator.models | Current estimator: RandomForestClassifier(max_depth=2, max_features='sqrt', n_estimators=75,\n",
      "                       random_state=37)\n",
      "2021-10-11 00:04:41 |\u001b[36m DEBUG    \u001b[0m| helpers.helpers_predator.models | X shape: (7467, 10)\n",
      "2021-10-11 00:04:41 |\u001b[36m DEBUG    \u001b[0m| helpers.helpers_predator.models | Current estimator: RandomForestClassifier(max_depth=2, min_samples_split=5, random_state=39)\n",
      "2021-10-11 00:04:41 |\u001b[36m DEBUG    \u001b[0m| helpers.helpers_predator.models | X shape: (7467, 10)\n",
      "2021-10-11 00:04:41 |\u001b[36m DEBUG    \u001b[0m| helpers.helpers_predator.models | Current estimator: RandomForestClassifier(class_weight='balanced', max_depth=5, max_features=None,\n",
      "                       n_estimators=10, random_state=40)\n",
      "2021-10-11 00:04:41 |\u001b[36m DEBUG    \u001b[0m| helpers.helpers_predator.models | X shape: (7467, 10)\n",
      "2021-10-11 00:04:41 |\u001b[36m DEBUG    \u001b[0m| helpers.helpers_predator.models | Current estimator: RandomForestClassifier(class_weight='balanced', max_depth=5,\n",
      "                       max_features='sqrt', min_samples_split=5,\n",
      "                       n_estimators=200, random_state=43)\n",
      "2021-10-11 00:04:41 |\u001b[36m DEBUG    \u001b[0m| helpers.helpers_predator.models | X shape: (7467, 10)\n",
      "2021-10-11 00:04:41 |\u001b[36m DEBUG    \u001b[0m| helpers.helpers_predator.models | Current estimator: RandomForestClassifier(class_weight='balanced', max_depth=2,\n",
      "                       max_features='sqrt', n_estimators=400, random_state=44)\n",
      "2021-10-11 00:04:41 |\u001b[36m DEBUG    \u001b[0m| helpers.helpers_predator.models | X shape: (7467, 10)\n",
      "2021-10-11 00:04:41 |\u001b[36m DEBUG    \u001b[0m| helpers.helpers_predator.models | Current estimator: RandomForestClassifier(max_depth=5, max_features='sqrt', min_samples_split=5,\n",
      "                       n_estimators=10, random_state=46)\n",
      "2021-10-11 00:04:41 |\u001b[36m DEBUG    \u001b[0m| helpers.helpers_predator.models | X shape: (7467, 10)\n",
      "2021-10-11 00:04:41 |\u001b[36m DEBUG    \u001b[0m| helpers.helpers_predator.models | Current estimator: RandomForestClassifier(class_weight='balanced', max_depth=2, n_estimators=10,\n",
      "                       random_state=48)\n",
      "2021-10-11 00:04:41 |\u001b[36m DEBUG    \u001b[0m| helpers.helpers_predator.models | X shape: (7467, 10)\n",
      "2021-10-11 00:04:41 |\u001b[36m DEBUG    \u001b[0m| helpers.helpers_predator.models | Current estimator: RandomForestClassifier(max_depth=5, min_samples_split=5, n_estimators=25,\n",
      "                       random_state=50)\n",
      "2021-10-11 00:04:41 |\u001b[36m DEBUG    \u001b[0m| helpers.helpers_predator.models | X shape: (7467, 10)\n",
      "2021-10-11 00:04:41 |\u001b[36m DEBUG    \u001b[0m| helpers.helpers_predator.predictions | PredictionsSoft\n",
      "2021-10-11 00:04:41 |\u001b[36m DEBUG    \u001b[0m| helpers.helpers_predator.predictions | Predicting probabilities on brca cohort ..\n",
      "2021-10-11 00:04:41 |\u001b[36m DEBUG    \u001b[0m| helpers.helpers_predator.predictions | Adding key `brca_prob` to self.predictions\n"
     ]
    }
   ],
   "source": [
    "predator.predict(voting='soft')"
   ]
  },
  {
   "cell_type": "code",
   "execution_count": 24,
   "id": "341a1a27-928b-47ae-9d45-69ec13771b81",
   "metadata": {},
   "outputs": [
    {
     "data": {
      "text/plain": [
       "dict_keys(['brca_prob'])"
      ]
     },
     "execution_count": 24,
     "metadata": {},
     "output_type": "execute_result"
    }
   ],
   "source": [
    "predator.predictions.keys()"
   ]
  },
  {
   "cell_type": "code",
   "execution_count": 25,
   "id": "d7054f49-ad45-408f-88b4-0e608fc81e81",
   "metadata": {},
   "outputs": [
    {
     "data": {
      "text/plain": [
       "[array([[0.5657182 , 0.4342818 ],\n",
       "        [0.46165948, 0.53834052],\n",
       "        [0.48798707, 0.51201293],\n",
       "        ...,\n",
       "        [0.6465034 , 0.3534966 ],\n",
       "        [0.39057652, 0.60942348],\n",
       "        [0.37586509, 0.62413491]]),\n",
       " array([[0.70114979, 0.29885021],\n",
       "        [0.40337838, 0.59662162],\n",
       "        [0.50337838, 0.49662162],\n",
       "        ...,\n",
       "        [0.49054834, 0.50945166],\n",
       "        [0.46314916, 0.53685084],\n",
       "        [0.62164343, 0.37835657]]),\n",
       " array([[0.4283978 , 0.5716022 ],\n",
       "        [0.39545943, 0.60454057],\n",
       "        [0.53185632, 0.46814368],\n",
       "        ...,\n",
       "        [0.80138574, 0.19861426],\n",
       "        [0.46901171, 0.53098829],\n",
       "        [0.2723316 , 0.7276684 ]])]"
      ]
     },
     "execution_count": 25,
     "metadata": {},
     "output_type": "execute_result"
    }
   ],
   "source": [
    "# Predictions for first 10 experiment.\n",
    "predator.predictions[\"brca_prob\"][:3]"
   ]
  },
  {
   "cell_type": "markdown",
   "id": "83e49c0d-9f61-4f48-a23d-8a21e9875041",
   "metadata": {},
   "source": [
    "#### Predictions Post Processing"
   ]
  },
  {
   "cell_type": "markdown",
   "id": "3d18567f-1748-4446-bb12-8062515f02bd",
   "metadata": {},
   "source": [
    "Post processing of predictions involves following steps:"
   ]
  },
  {
   "cell_type": "markdown",
   "id": "45aad6d0-0e73-413e-8b32-fbcb2bcc5426",
   "metadata": {},
   "source": [
    "##### 1. Merging Predictions with SNV Data"
   ]
  },
  {
   "cell_type": "markdown",
   "id": "ba9bda7c-5736-4c44-8663-ec63927976db",
   "metadata": {},
   "source": [
    "The prediction column is merged with SNV data for each experiment.\n",
    "\n",
    "$\\text{For each experiment } n: $\n",
    "\n",
    "$$\n",
    "  \\textit{(Prediction Merged Data)}_n = \\underbrace{[\\textit{Predictions}_n]}_\\text{Probs Percentages} + \n",
    "      \\underbrace{[\\textit{Protein }] [\\textit{Mutation }] [\\textit{Interactor }]}_\\text{Cancer Data Triplets} + \\underbrace{[\\textit{Features }] }_\\text{Elaspic}\n",
    "$$\n"
   ]
  },
  {
   "cell_type": "markdown",
   "id": "8b14c7d7-914f-40af-b695-b962c33ed9ee",
   "metadata": {
    "tags": []
   },
   "source": [
    "##### 2. Convert to 1-isomer: `Interactor_UniProt_ID`"
   ]
  },
  {
   "cell_type": "markdown",
   "id": "36c9284b-0d5d-4c41-b2d9-7274d9141f6a",
   "metadata": {},
   "source": [
    "$\\textit{Interactor_UniProt_ID}$ column contains isomer proteins. Here, we convert them into primary isoform representation (i.e. without dashes)."
   ]
  },
  {
   "cell_type": "markdown",
   "id": "2314ef86-e11b-43ce-a9ee-8d3d39420d3d",
   "metadata": {},
   "source": [
    "| Interactor_UniProt_ID |\n",
    "--------------\n",
    "| P38936     |\n",
    "| P16473     |\n",
    "| P16473-2   |\n",
    "| P19793     |"
   ]
  },
  {
   "cell_type": "markdown",
   "id": "ac37c712-d832-4450-8852-a9df5712c194",
   "metadata": {},
   "source": [
    "##### 3. Dropping Invalid Predictions"
   ]
  },
  {
   "cell_type": "markdown",
   "id": "10c61eb3-a920-4665-b976-a0a32490e8bb",
   "metadata": {},
   "source": [
    "--- todo  add documentation"
   ]
  },
  {
   "cell_type": "code",
   "execution_count": 26,
   "id": "ee5ffd8b-af50-481e-b90f-fc0548568727",
   "metadata": {
    "scrolled": true,
    "tags": []
   },
   "outputs": [
    {
     "name": "stdout",
     "output_type": "stream",
     "text": [
      "2021-10-11 00:04:41 |\u001b[36m DEBUG    \u001b[0m| helpers.helpers_predator.predictions | PredictionsSoft\n",
      "2021-10-11 00:04:41 |\u001b[36m DEBUG    \u001b[0m| helpers.helpers_predator.predictions | Post processing predictions for cohort brca ..\n",
      "2021-10-11 00:04:41 |\u001b[36m DEBUG    \u001b[0m| helpers.helpers_predator.predictions | PredictionsSoft\n",
      "2021-10-11 00:04:41 |\u001b[36m DEBUG    \u001b[0m| helpers.helpers_predator.predictions | Merging predictions with brca cancer dataset ..\n",
      "2021-10-11 00:04:41 |\u001b[36m DEBUG    \u001b[0m| helpers.helpers_predator.predictions | Handling valid and invalid entries ..\n"
     ]
    },
    {
     "data": {
      "application/vnd.jupyter.widget-view+json": {
       "model_id": "92b8fed331ba419cacd6f495b18355d4",
       "version_major": 2,
       "version_minor": 0
      },
      "text/plain": [
       "  0%|          | 0/37 [00:00<?, ?it/s]"
      ]
     },
     "metadata": {},
     "output_type": "display_data"
    },
    {
     "name": "stdout",
     "output_type": "stream",
     "text": [
      "2021-10-11 00:05:03 |\u001b[36m DEBUG    \u001b[0m| helpers.helpers_predator.predictions_utils | Removed entries first five rows (of 466): \n",
      "   PREDICTION PROTEIN MUTATION INTERACTOR\n",
      "0    0.522040  Q9UBN7    D567Y     Q96DB2\n",
      "1    0.392023  Q9UBN7    D567Y     Q96DB2\n",
      "2    0.479254  Q15413   G2795S     Q92736\n",
      "3    0.485835  Q15413   G2795S     Q92736\n",
      "4    0.452390  Q15413   G2795S     Q92736\n",
      "2021-10-11 00:05:25 |\u001b[36m DEBUG    \u001b[0m| helpers.helpers_predator.predictions_utils | Removed entries first five rows (of 1082): \n",
      "   PREDICTION PROTEIN MUTATION INTERACTOR\n",
      "0    0.253626  P04637    R280K     Q13625\n",
      "1    0.701587  P04637    R280K     Q13625\n",
      "2    0.701587  P04637    R280K     Q13625\n",
      "3    0.335123  P04637    R280K     P62993\n",
      "4    0.335123  P04637    R280K     P62993\n",
      "2021-10-11 00:05:46 |\u001b[36m DEBUG    \u001b[0m| helpers.helpers_predator.predictions_utils | Removed entries first five rows (of 1229): \n",
      "   PREDICTION PROTEIN MUTATION INTERACTOR\n",
      "0    0.767970  Q9Y616    F419L     Q16288\n",
      "1    0.474737  Q9Y616    F419L     Q16288\n",
      "2    0.205706  P04637    R280K     Q13625\n",
      "3    0.660339  P04637    R280K     Q13625\n",
      "4    0.660339  P04637    R280K     Q13625\n",
      "2021-10-11 00:06:11 |\u001b[36m DEBUG    \u001b[0m| helpers.helpers_predator.predictions_utils | Removed entries first five rows (of 1124): \n",
      "   PREDICTION PROTEIN MUTATION INTERACTOR\n",
      "0    0.474057  Q13418    N202K     O15530\n",
      "1    0.474057  Q13418    N202K     O15530\n",
      "2    0.592866  Q13418    N202K     O15530\n",
      "3    0.650195  Q9Y616    F419L     Q16288\n",
      "4    0.330772  Q9Y616    F419L     Q16288\n",
      "2021-10-11 00:06:35 |\u001b[36m DEBUG    \u001b[0m| helpers.helpers_predator.predictions_utils | Removed entries first five rows (of 1002): \n",
      "   PREDICTION PROTEIN MUTATION INTERACTOR\n",
      "0    0.593548  Q9Y616    F419L     Q16288\n",
      "1    0.353548  Q9Y616    F419L     Q16288\n",
      "2    0.440000  Q9H4L4    Q399H     P61956\n",
      "3    0.720000  Q9H4L4    Q399H     P61956\n",
      "4    0.600000  Q9UBN7    D567Y     Q96DB2\n",
      "2021-10-11 00:06:57 |\u001b[36m DEBUG    \u001b[0m| helpers.helpers_predator.predictions_utils | Removed entries first five rows (of 576): \n",
      "   PREDICTION PROTEIN MUTATION INTERACTOR\n",
      "0    0.553011  Q9Y616    F419L     Q16288\n",
      "1    0.463834  Q9Y616    F419L     Q16288\n",
      "2    0.514677  Q9UL54    V301M     P46734\n",
      "3    0.514677  Q9UL54    V301M     P46734\n",
      "4    0.461787  Q9UL54    V301M     P46734\n",
      "2021-10-11 00:07:19 |\u001b[36m DEBUG    \u001b[0m| helpers.helpers_predator.predictions_utils | Removed entries first five rows (of 1006): \n",
      "   PREDICTION PROTEIN MUTATION INTERACTOR\n",
      "0    0.621054  Q9UL54    V301M     P46734\n",
      "1    0.621054  Q9UL54    V301M     P46734\n",
      "2    0.464993  Q9UL54    V301M     P46734\n",
      "3    0.382349  P04637    R280K     Q13625\n",
      "4    0.699073  P04637    R280K     Q13625\n",
      "2021-10-11 00:07:41 |\u001b[36m DEBUG    \u001b[0m| helpers.helpers_predator.predictions_utils | Removed entries first five rows (of 849): \n",
      "   PREDICTION PROTEIN MUTATION INTERACTOR\n",
      "0    0.578539  Q9Y616    F419L     Q16288\n",
      "1    0.283828  Q9Y616    F419L     Q16288\n",
      "2    0.538831  Q9UL54    V301M     P46734\n",
      "3    0.538831  Q9UL54    V301M     P46734\n",
      "4    0.407459  Q9UL54    V301M     P46734\n",
      "2021-10-11 00:08:04 |\u001b[36m DEBUG    \u001b[0m| helpers.helpers_predator.predictions_utils | Removed entries first five rows (of 485): \n",
      "   PREDICTION PROTEIN MUTATION INTERACTOR\n",
      "0    0.510141  Q9UKS6     R24H     Q9UNF0\n",
      "1    0.464374  Q9UKS6     R24H     Q9UNF0\n",
      "2    0.498465  Q14469     R46Q     Q96HZ4\n",
      "3    0.567641  Q14469     R46Q     Q96HZ4\n",
      "4    0.616726  Q14469     R46Q     Q96HZ4\n",
      "2021-10-11 00:08:27 |\u001b[36m DEBUG    \u001b[0m| helpers.helpers_predator.predictions_utils | Removed entries first five rows (of 1013): \n",
      "   PREDICTION PROTEIN MUTATION INTERACTOR\n",
      "0    0.775024  Q9Y616    F419L     Q16288\n",
      "1    0.432976  Q9Y616    F419L     Q16288\n",
      "2    0.341223  P04637    R280K     Q13625\n",
      "3    0.562604  P04637    R280K     Q13625\n",
      "4    0.562604  P04637    R280K     Q13625\n",
      "2021-10-11 00:08:49 |\u001b[36m DEBUG    \u001b[0m| helpers.helpers_predator.predictions_utils | Removed entries first five rows (of 836): \n",
      "   PREDICTION PROTEIN MUTATION INTERACTOR\n",
      "0    0.613301  Q9Y616    F419L     Q16288\n",
      "1    0.435911  Q9Y616    F419L     Q16288\n",
      "2    0.643247  Q9UL54    V301M     P46734\n",
      "3    0.643247  Q9UL54    V301M     P46734\n",
      "4    0.480470  Q9UL54    V301M     P46734\n",
      "2021-10-11 00:09:12 |\u001b[36m DEBUG    \u001b[0m| helpers.helpers_predator.predictions_utils | Removed entries first five rows (of 838): \n",
      "   PREDICTION PROTEIN MUTATION INTERACTOR\n",
      "0    0.524971  Q9Y616    F419L     Q16288\n",
      "1    0.348362  Q9Y616    F419L     Q16288\n",
      "2    0.397748  P04637    R280K     Q13625\n",
      "3    0.572635  P04637    R280K     Q13625\n",
      "4    0.572635  P04637    R280K     Q13625\n",
      "2021-10-11 00:09:34 |\u001b[36m DEBUG    \u001b[0m| helpers.helpers_predator.predictions_utils | Removed entries first five rows (of 987): \n",
      "   PREDICTION PROTEIN MUTATION INTERACTOR\n",
      "0    0.644887  Q9Y616    F419L     Q16288\n",
      "1    0.138120  Q9Y616    F419L     Q16288\n",
      "2    0.536818  Q9UL54    V301M     P46734\n",
      "3    0.536818  Q9UL54    V301M     P46734\n",
      "4    0.336818  Q9UL54    V301M     P46734\n",
      "2021-10-11 00:09:55 |\u001b[36m DEBUG    \u001b[0m| helpers.helpers_predator.predictions_utils | Removed entries first five rows (of 1086): \n",
      "   PREDICTION PROTEIN MUTATION INTERACTOR\n",
      "0        0.68  Q9Y616    F419L     Q16288\n",
      "1        0.48  Q9Y616    F419L     Q16288\n",
      "2        0.76  Q9UL54    V301M     P46734\n",
      "3        0.76  Q9UL54    V301M     P46734\n",
      "4        0.48  Q9UL54    V301M     P46734\n",
      "2021-10-11 00:10:18 |\u001b[36m DEBUG    \u001b[0m| helpers.helpers_predator.predictions_utils | Removed entries first five rows (of 1011): \n",
      "   PREDICTION PROTEIN MUTATION INTERACTOR\n",
      "0    0.816797  Q9Y616    F419L     Q16288\n",
      "1    0.474359  Q9Y616    F419L     Q16288\n",
      "2    0.308872  P04637    R280K     Q13625\n",
      "3    0.803818  P04637    R280K     Q13625\n",
      "4    0.803818  P04637    R280K     Q13625\n",
      "2021-10-11 00:10:40 |\u001b[36m DEBUG    \u001b[0m| helpers.helpers_predator.predictions_utils | Removed entries first five rows (of 1182): \n",
      "   PREDICTION PROTEIN MUTATION INTERACTOR\n",
      "0    0.722623  Q9Y616    F419L     Q16288\n",
      "1    0.294452  Q9Y616    F419L     Q16288\n",
      "2    0.625000  Q9UL54    V301M     P46734\n",
      "3    0.625000  Q9UL54    V301M     P46734\n",
      "4    0.494194  Q9UL54    V301M     P46734\n",
      "2021-10-11 00:11:10 |\u001b[36m DEBUG    \u001b[0m| helpers.helpers_predator.predictions_utils | Removed entries first five rows (of 1114): \n",
      "   PREDICTION PROTEIN MUTATION INTERACTOR\n",
      "0    0.692101  Q9Y616    F419L     Q16288\n",
      "1    0.245379  Q9Y616    F419L     Q16288\n",
      "2    0.638981  Q9UL54    V301M     P46734\n",
      "3    0.638981  Q9UL54    V301M     P46734\n",
      "4    0.455361  Q9UL54    V301M     P46734\n",
      "2021-10-11 00:11:38 |\u001b[36m DEBUG    \u001b[0m| helpers.helpers_predator.predictions_utils | Removed entries first five rows (of 460): \n",
      "   PREDICTION PROTEIN MUTATION INTERACTOR\n",
      "0    0.359969  P04637    R280K     Q13625\n",
      "1    0.767214  P04637    R280K     Q13625\n",
      "2    0.767214  P04637    R280K     Q13625\n",
      "3    0.420738  P04637    R280K     P62993\n",
      "4    0.439654  P04637    R280K     P62993\n",
      "2021-10-11 00:12:00 |\u001b[36m DEBUG    \u001b[0m| helpers.helpers_predator.predictions_utils | Removed entries first five rows (of 710): \n",
      "   PREDICTION PROTEIN MUTATION INTERACTOR\n",
      "0    0.517217  Q9UL54    V301M     P46734\n",
      "1    0.517217  Q9UL54    V301M     P46734\n",
      "2    0.492593  Q9UL54    V301M     P46734\n",
      "3    0.407158  P04637    R280K     Q13625\n",
      "4    0.550257  P04637    R280K     Q13625\n",
      "2021-10-11 00:12:21 |\u001b[36m DEBUG    \u001b[0m| helpers.helpers_predator.predictions_utils | Removed entries first five rows (of 838): \n",
      "   PREDICTION PROTEIN MUTATION INTERACTOR\n",
      "0    0.371743  P04637    R280K     Q13625\n",
      "1    0.620632  P04637    R280K     Q13625\n",
      "2    0.620632  P04637    R280K     Q13625\n",
      "3    0.482233  Q9H4L4    Q399H     P61956\n",
      "4    0.802338  Q9H4L4    Q399H     P61956\n",
      "2021-10-11 00:12:42 |\u001b[36m DEBUG    \u001b[0m| helpers.helpers_predator.predictions_utils | Removed entries first five rows (of 952): \n",
      "   PREDICTION PROTEIN MUTATION INTERACTOR\n",
      "0    0.598248  Q9Y616    F419L     Q16288\n",
      "1    0.449426  Q9Y616    F419L     Q16288\n",
      "2    0.357616  P04637    R280K     Q13625\n",
      "3    0.538908  P04637    R280K     Q13625\n",
      "4    0.538908  P04637    R280K     Q13625\n",
      "2021-10-11 00:13:05 |\u001b[36m DEBUG    \u001b[0m| helpers.helpers_predator.predictions_utils | Removed entries first five rows (of 991): \n",
      "   PREDICTION PROTEIN MUTATION INTERACTOR\n",
      "0    0.614443  Q9Y616    F419L     Q16288\n",
      "1    0.342966  Q9Y616    F419L     Q16288\n",
      "2    0.475140  P04637    R280K     Q13625\n",
      "3    0.653670  P04637    R280K     Q13625\n",
      "4    0.653670  P04637    R280K     Q13625\n",
      "2021-10-11 00:13:27 |\u001b[36m DEBUG    \u001b[0m| helpers.helpers_predator.predictions_utils | Removed entries first five rows (of 1086): \n",
      "   PREDICTION PROTEIN MUTATION INTERACTOR\n",
      "0    0.573333  Q9Y616    F419L     Q16288\n",
      "1    0.248000  Q9Y616    F419L     Q16288\n",
      "2    0.280000  P04637    R280K     Q13625\n",
      "3    0.693333  P04637    R280K     Q13625\n",
      "4    0.693333  P04637    R280K     Q13625\n",
      "2021-10-11 00:13:49 |\u001b[36m DEBUG    \u001b[0m| helpers.helpers_predator.predictions_utils | Removed entries first five rows (of 560): \n",
      "   PREDICTION PROTEIN MUTATION INTERACTOR\n",
      "0    0.642067  Q9Y616    F419L     Q16288\n",
      "1    0.453734  Q9Y616    F419L     Q16288\n",
      "2    0.387844  P67775    E297K     Q14738\n",
      "3    0.657847  P67775    E297K     Q14738\n",
      "4    0.488857  Q15413   G2795S     Q92736\n",
      "2021-10-11 00:14:13 |\u001b[36m DEBUG    \u001b[0m| helpers.helpers_predator.predictions_utils | Removed entries first five rows (of 1123): \n",
      "   PREDICTION PROTEIN MUTATION INTERACTOR\n",
      "0         0.6  Q9UKS6     R24H     Q9UNF0\n",
      "1         0.4  Q9UKS6     R24H     Q9UNF0\n",
      "2         0.6  Q13418    N202K     O15530\n",
      "3         0.6  Q13418    N202K     O15530\n",
      "4         0.5  Q13418    N202K     O15530\n",
      "2021-10-11 00:14:36 |\u001b[36m DEBUG    \u001b[0m| helpers.helpers_predator.predictions_utils | Removed entries first five rows (of 952): \n",
      "   PREDICTION PROTEIN MUTATION INTERACTOR\n",
      "0    0.669329  Q9Y616    F419L     Q16288\n",
      "1    0.365000  Q9Y616    F419L     Q16288\n",
      "2    0.345000  P04637    R280K     Q13625\n",
      "3    0.685000  P04637    R280K     Q13625\n",
      "4    0.685000  P04637    R280K     Q13625\n",
      "2021-10-11 00:14:58 |\u001b[36m DEBUG    \u001b[0m| helpers.helpers_predator.predictions_utils | Removed entries first five rows (of 649): \n",
      "   PREDICTION PROTEIN MUTATION INTERACTOR\n",
      "0    0.450266  P04637    R280K     Q13625\n",
      "1    0.677804  P04637    R280K     Q13625\n",
      "2    0.677804  P04637    R280K     Q13625\n",
      "3    0.549189  P20810    D466H     P17655\n",
      "4    0.463813  P20810    D466H     P17655\n",
      "2021-10-11 00:15:20 |\u001b[36m DEBUG    \u001b[0m| helpers.helpers_predator.predictions_utils | Removed entries first five rows (of 1030): \n",
      "   PREDICTION PROTEIN MUTATION INTERACTOR\n",
      "0    0.651274  Q9Y616    F419L     Q16288\n",
      "1    0.249396  Q9Y616    F419L     Q16288\n",
      "2    0.562659  Q9UL54    V301M     P46734\n",
      "3    0.562659  Q9UL54    V301M     P46734\n",
      "4    0.391594  Q9UL54    V301M     P46734\n",
      "2021-10-11 00:15:42 |\u001b[36m DEBUG    \u001b[0m| helpers.helpers_predator.predictions_utils | Removed entries first five rows (of 792): \n",
      "   PREDICTION PROTEIN MUTATION INTERACTOR\n",
      "0    0.666091  Q13418    N202K     Q9Y243\n",
      "1    0.477896  Q13418    N202K     Q9Y243\n",
      "2    0.592772  Q9Y616    F419L     Q16288\n",
      "3    0.424142  Q9Y616    F419L     Q16288\n",
      "4    0.161481  P04637    R280K     Q13625\n",
      "2021-10-11 00:16:04 |\u001b[36m DEBUG    \u001b[0m| helpers.helpers_predator.predictions_utils | Removed entries first five rows (of 380): \n",
      "   PREDICTION PROTEIN MUTATION INTERACTOR\n",
      "0    0.505491  Q9UL54    V301M     P46734\n",
      "1    0.505491  Q9UL54    V301M     P46734\n",
      "2    0.418113  Q9UL54    V301M     P46734\n",
      "3    0.475122  P04637    R280K     Q13625\n",
      "4    0.630361  P04637    R280K     Q13625\n",
      "2021-10-11 00:16:28 |\u001b[36m DEBUG    \u001b[0m| helpers.helpers_predator.predictions_utils | Removed entries first five rows (of 725): \n",
      "   PREDICTION PROTEIN MUTATION INTERACTOR\n",
      "0    0.438375  P04637    R280K     Q13625\n",
      "1    0.568028  P04637    R280K     Q13625\n",
      "2    0.568028  P04637    R280K     Q13625\n",
      "3    0.515544  P42336   G1049R     Q13535\n",
      "4    0.493232  P42336   G1049R     Q13535\n",
      "2021-10-11 00:16:50 |\u001b[36m DEBUG    \u001b[0m| helpers.helpers_predator.predictions_utils | Removed entries first five rows (of 1103): \n",
      "   PREDICTION PROTEIN MUTATION INTERACTOR\n",
      "0    0.622063  Q9Y616    F419L     Q16288\n",
      "1    0.445249  Q9Y616    F419L     Q16288\n",
      "2    0.402542  P04637    R280K     Q13625\n",
      "3    0.599779  P04637    R280K     Q13625\n",
      "4    0.599779  P04637    R280K     Q13625\n",
      "2021-10-11 00:17:11 |\u001b[36m DEBUG    \u001b[0m| helpers.helpers_predator.predictions_utils | Removed entries first five rows (of 794): \n",
      "   PREDICTION PROTEIN MUTATION INTERACTOR\n",
      "0    0.370900  P04637    R280K     Q13625\n",
      "1    0.598264  P04637    R280K     Q13625\n",
      "2    0.598264  P04637    R280K     Q13625\n",
      "3    0.417772  P67775    E297K     Q14738\n",
      "4    0.578587  P67775    E297K     Q14738\n",
      "2021-10-11 00:17:33 |\u001b[36m DEBUG    \u001b[0m| helpers.helpers_predator.predictions_utils | Removed entries first five rows (of 782): \n",
      "   PREDICTION PROTEIN MUTATION INTERACTOR\n",
      "0    0.506811  Q9UKS6     R24H     Q9UNF0\n",
      "1    0.439146  Q9UKS6     R24H     Q9UNF0\n",
      "2    0.475834  P04637    R280K     Q13625\n",
      "3    0.629407  P04637    R280K     Q13625\n",
      "4    0.629407  P04637    R280K     Q13625\n",
      "2021-10-11 00:17:55 |\u001b[36m DEBUG    \u001b[0m| helpers.helpers_predator.predictions_utils | Removed entries first five rows (of 1456): \n",
      "   PREDICTION PROTEIN MUTATION INTERACTOR\n",
      "0    0.622451  Q9Y616    F419L     Q16288\n",
      "1    0.011782  Q9Y616    F419L     Q16288\n",
      "2    0.617328  Q9UL54    V301M     P46734\n",
      "3    0.617328  Q9UL54    V301M     P46734\n",
      "4    0.450661  Q9UL54    V301M     P46734\n",
      "2021-10-11 00:18:16 |\u001b[36m DEBUG    \u001b[0m| helpers.helpers_predator.predictions_utils | Removed entries first five rows (of 818): \n",
      "   PREDICTION PROTEIN MUTATION INTERACTOR\n",
      "0    0.562192  Q9Y616    F419L     Q16288\n",
      "1    0.310396  Q9Y616    F419L     Q16288\n",
      "2    0.453706  P04637    R280K     Q13625\n",
      "3    0.726585  P04637    R280K     Q13625\n",
      "4    0.726585  P04637    R280K     Q13625\n",
      "2021-10-11 00:18:39 |\u001b[36m DEBUG    \u001b[0m| helpers.helpers_predator.predictions_utils | Removed entries first five rows (of 838): \n",
      "   PREDICTION PROTEIN MUTATION INTERACTOR\n",
      "0    0.321127  P04637    R280K     Q13625\n",
      "1    0.676617  P04637    R280K     Q13625\n",
      "2    0.676617  P04637    R280K     Q13625\n",
      "3    0.429836  Q14469     R46Q     Q96HZ4\n",
      "4    0.557863  Q14469     R46Q     Q96HZ4\n",
      "2021-10-11 00:18:39 |\u001b[36m DEBUG    \u001b[0m| helpers.helpers_predator.predictions | Preparing finalized prediction datasets for brca ..\n",
      "2021-10-11 00:18:39 |\u001b[36m DEBUG    \u001b[0m| helpers.helpers_predator.predictions | Post processing completed for brca.\n"
     ]
    }
   ],
   "source": [
    "predator.predictions_post_process()"
   ]
  },
  {
   "cell_type": "code",
   "execution_count": 27,
   "id": "90683791-df42-47a8-ae9d-6c6ba08bcafd",
   "metadata": {},
   "outputs": [
    {
     "data": {
      "text/plain": [
       "dict_keys(['brca_prob', 'brca_predicted_probs_datasets', 'brca_predicted_valid_datasets', 'brca_predicted_invalid_datasets', 'brca_finalized_prediction_dataframes'])"
      ]
     },
     "execution_count": 27,
     "metadata": {},
     "output_type": "execute_result"
    }
   ],
   "source": [
    "predator.predictions.keys()"
   ]
  },
  {
   "cell_type": "code",
   "execution_count": 28,
   "id": "fcf61287-2498-4b53-ac75-1f6baceed2a3",
   "metadata": {},
   "outputs": [
    {
     "name": "stdout",
     "output_type": "stream",
     "text": [
      "\u001b[36mData dimensions: (7467, 104)\u001b[0m\n"
     ]
    },
    {
     "data": {
      "text/html": [
       "<div>\n",
       "<style scoped>\n",
       "    .dataframe tbody tr th:only-of-type {\n",
       "        vertical-align: middle;\n",
       "    }\n",
       "\n",
       "    .dataframe tbody tr th {\n",
       "        vertical-align: top;\n",
       "    }\n",
       "\n",
       "    .dataframe thead th {\n",
       "        text-align: right;\n",
       "    }\n",
       "</style>\n",
       "<table border=\"1\" class=\"dataframe\">\n",
       "  <thead>\n",
       "    <tr style=\"text-align: right;\">\n",
       "      <th></th>\n",
       "      <th>Prediction</th>\n",
       "      <th>Input_identifier</th>\n",
       "      <th>UniProt_ID</th>\n",
       "      <th>Mutation</th>\n",
       "      <th>Status</th>\n",
       "      <th>Type</th>\n",
       "      <th>COSMIC_mut_ID</th>\n",
       "      <th>ClinVar_mut_ID</th>\n",
       "      <th>UniProt_mut_ID</th>\n",
       "      <th>Domain_name</th>\n",
       "      <th>...</th>\n",
       "      <th>number_of_residues_mut</th>\n",
       "      <th>IntraclashesEnergy1_wt</th>\n",
       "      <th>IntraclashesEnergy1_mut</th>\n",
       "      <th>IntraclashesEnergy2_wt</th>\n",
       "      <th>IntraclashesEnergy2_mut</th>\n",
       "      <th>Interface_hydrophobic_area</th>\n",
       "      <th>Interface_hydrophilic_area</th>\n",
       "      <th>Interface_total_area</th>\n",
       "      <th>Interface_contact_distance_wt</th>\n",
       "      <th>Interface_contact_distance_mut</th>\n",
       "    </tr>\n",
       "  </thead>\n",
       "  <tbody>\n",
       "    <tr>\n",
       "      <th>0</th>\n",
       "      <td>0.434282</td>\n",
       "      <td>P28062</td>\n",
       "      <td>P28062</td>\n",
       "      <td>R216W</td>\n",
       "      <td>done</td>\n",
       "      <td>interface</td>\n",
       "      <td>COSM451277</td>\n",
       "      <td>-</td>\n",
       "      <td>-</td>\n",
       "      <td>Proteasome</td>\n",
       "      <td>...</td>\n",
       "      <td>417.0</td>\n",
       "      <td>156.750</td>\n",
       "      <td>156.868</td>\n",
       "      <td>49.1868</td>\n",
       "      <td>49.1868</td>\n",
       "      <td>566.065</td>\n",
       "      <td>367.205</td>\n",
       "      <td>933.27</td>\n",
       "      <td>5.37939</td>\n",
       "      <td>3.28969</td>\n",
       "    </tr>\n",
       "    <tr>\n",
       "      <th>1</th>\n",
       "      <td>0.538341</td>\n",
       "      <td>Q15842</td>\n",
       "      <td>Q15842</td>\n",
       "      <td>E237K</td>\n",
       "      <td>done</td>\n",
       "      <td>interface</td>\n",
       "      <td>COSM430893</td>\n",
       "      <td>-</td>\n",
       "      <td>-</td>\n",
       "      <td>IRK</td>\n",
       "      <td>...</td>\n",
       "      <td>684.0</td>\n",
       "      <td>131.720</td>\n",
       "      <td>131.479</td>\n",
       "      <td>129.5260</td>\n",
       "      <td>129.5260</td>\n",
       "      <td>None</td>\n",
       "      <td>None</td>\n",
       "      <td>None</td>\n",
       "      <td>2.48410</td>\n",
       "      <td>2.92169</td>\n",
       "    </tr>\n",
       "    <tr>\n",
       "      <th>2</th>\n",
       "      <td>0.512013</td>\n",
       "      <td>Q15842</td>\n",
       "      <td>Q15842</td>\n",
       "      <td>E237K</td>\n",
       "      <td>done</td>\n",
       "      <td>interface</td>\n",
       "      <td>COSM430893</td>\n",
       "      <td>-</td>\n",
       "      <td>-</td>\n",
       "      <td>IRK</td>\n",
       "      <td>...</td>\n",
       "      <td>678.0</td>\n",
       "      <td>142.706</td>\n",
       "      <td>142.107</td>\n",
       "      <td>99.1151</td>\n",
       "      <td>99.1190</td>\n",
       "      <td>None</td>\n",
       "      <td>624.35</td>\n",
       "      <td>None</td>\n",
       "      <td>2.70474</td>\n",
       "      <td>3.18529</td>\n",
       "    </tr>\n",
       "  </tbody>\n",
       "</table>\n",
       "<p>3 rows × 104 columns</p>\n",
       "</div>"
      ],
      "text/plain": [
       "   Prediction Input_identifier UniProt_ID Mutation Status       Type  \\\n",
       "0    0.434282           P28062     P28062    R216W   done  interface   \n",
       "1    0.538341           Q15842     Q15842    E237K   done  interface   \n",
       "2    0.512013           Q15842     Q15842    E237K   done  interface   \n",
       "\n",
       "  COSMIC_mut_ID ClinVar_mut_ID UniProt_mut_ID Domain_name  ...  \\\n",
       "0    COSM451277              -              -  Proteasome  ...   \n",
       "1    COSM430893              -              -         IRK  ...   \n",
       "2    COSM430893              -              -         IRK  ...   \n",
       "\n",
       "  number_of_residues_mut IntraclashesEnergy1_wt IntraclashesEnergy1_mut  \\\n",
       "0                  417.0                156.750                 156.868   \n",
       "1                  684.0                131.720                 131.479   \n",
       "2                  678.0                142.706                 142.107   \n",
       "\n",
       "   IntraclashesEnergy2_wt  IntraclashesEnergy2_mut Interface_hydrophobic_area  \\\n",
       "0                 49.1868                  49.1868                    566.065   \n",
       "1                129.5260                 129.5260                       None   \n",
       "2                 99.1151                  99.1190                       None   \n",
       "\n",
       "  Interface_hydrophilic_area Interface_total_area  \\\n",
       "0                    367.205               933.27   \n",
       "1                       None                 None   \n",
       "2                     624.35                 None   \n",
       "\n",
       "  Interface_contact_distance_wt Interface_contact_distance_mut  \n",
       "0                       5.37939                        3.28969  \n",
       "1                       2.48410                        2.92169  \n",
       "2                       2.70474                        3.18529  \n",
       "\n",
       "[3 rows x 104 columns]"
      ]
     },
     "metadata": {},
     "output_type": "display_data"
    }
   ],
   "source": [
    "display_data(predator.predictions[\"brca_predicted_probs_datasets\"][0])"
   ]
  },
  {
   "cell_type": "code",
   "execution_count": 29,
   "id": "a603e902-b663-49e2-92c5-e6167cc06699",
   "metadata": {},
   "outputs": [
    {
     "data": {
      "image/png": "[encoded data removed]",
      "text/plain": [
       "<Figure size 1080x360 with 1 Axes>"
      ]
     },
     "metadata": {},
     "output_type": "display_data"
    }
   ],
   "source": [
    "predator.predictions.plot_distribution_valid_vs_invalid(\"brca\")"
   ]
  },
  {
   "cell_type": "code",
   "execution_count": 31,
   "id": "77147287-c7ce-4771-b0ed-e45479644ccb",
   "metadata": {},
   "outputs": [
    {
     "name": "stdout",
     "output_type": "stream",
     "text": [
      "2021-10-11 00:18:40 |\u001b[36m DEBUG    \u001b[0m| helpers.helpers_predator.predictions | Plotting number of finalized predictions per model.\n",
      "Note that following plot shows the number of (protein, mutation, interactor) triplets which had valid prediction.\n"
     ]
    },
    {
     "data": {
      "image/png": "[encoded data removed]",
      "text/plain": [
       "<Figure size 1080x360 with 1 Axes>"
      ]
     },
     "metadata": {},
     "output_type": "display_data"
    }
   ],
   "source": [
    "predator.predictions.plot_num_finalized_predictions(\"brca\")"
   ]
  },
  {
   "cell_type": "code",
   "execution_count": 32,
   "id": "a0762893-11a8-43c7-8b93-1b214a1a85e4",
   "metadata": {},
   "outputs": [
    {
     "name": "stdout",
     "output_type": "stream",
     "text": [
      "\u001b[36mData dimensions: (5223, 4)\u001b[0m\n"
     ]
    },
    {
     "data": {
      "text/html": [
       "<div>\n",
       "<style scoped>\n",
       "    .dataframe tbody tr th:only-of-type {\n",
       "        vertical-align: middle;\n",
       "    }\n",
       "\n",
       "    .dataframe tbody tr th {\n",
       "        vertical-align: top;\n",
       "    }\n",
       "\n",
       "    .dataframe thead th {\n",
       "        text-align: right;\n",
       "    }\n",
       "</style>\n",
       "<table border=\"1\" class=\"dataframe\">\n",
       "  <thead>\n",
       "    <tr style=\"text-align: right;\">\n",
       "      <th></th>\n",
       "      <th>Prediction</th>\n",
       "      <th>UniProt_ID</th>\n",
       "      <th>Mutation</th>\n",
       "      <th>Interactor_UniProt_ID</th>\n",
       "    </tr>\n",
       "  </thead>\n",
       "  <tbody>\n",
       "    <tr>\n",
       "      <th>0</th>\n",
       "      <td>0.434282</td>\n",
       "      <td>P28062</td>\n",
       "      <td>R216W</td>\n",
       "      <td>P40306</td>\n",
       "    </tr>\n",
       "    <tr>\n",
       "      <th>1</th>\n",
       "      <td>0.538341</td>\n",
       "      <td>Q15842</td>\n",
       "      <td>E237K</td>\n",
       "      <td>Q14654</td>\n",
       "    </tr>\n",
       "    <tr>\n",
       "      <th>2</th>\n",
       "      <td>0.512013</td>\n",
       "      <td>Q15842</td>\n",
       "      <td>E237K</td>\n",
       "      <td>P63252</td>\n",
       "    </tr>\n",
       "  </tbody>\n",
       "</table>\n",
       "</div>"
      ],
      "text/plain": [
       "   Prediction UniProt_ID Mutation Interactor_UniProt_ID\n",
       "0    0.434282     P28062    R216W                P40306\n",
       "1    0.538341     Q15842    E237K                Q14654\n",
       "2    0.512013     Q15842    E237K                P63252"
      ]
     },
     "metadata": {},
     "output_type": "display_data"
    }
   ],
   "source": [
    "display_data(predator.predictions['brca_finalized_prediction_dataframes'][0])"
   ]
  },
  {
   "cell_type": "code",
   "execution_count": 33,
   "id": "7fab8dc7-62ea-4cba-bdfa-0a8187a53a27",
   "metadata": {
    "scrolled": true,
    "tags": []
   },
   "outputs": [
    {
     "name": "stdout",
     "output_type": "stream",
     "text": [
      "2021-10-11 00:18:41 |\u001b[32m INFO     \u001b[0m| helpers.helpers_predator.predictions | PredictionsSoft\n",
      "2021-10-11 00:18:41 |\u001b[32m INFO     \u001b[0m| helpers.helpers_predator.predictions | Preparing ensemble prediction data for brca taking median ..\n"
     ]
    },
    {
     "data": {
      "application/vnd.jupyter.widget-view+json": {
       "model_id": "511a1c4ca9074463a171dab4895d4222",
       "version_major": 2,
       "version_minor": 0
      },
      "text/plain": [
       "  0%|          | 0/37 [00:00<?, ?it/s]"
      ]
     },
     "metadata": {},
     "output_type": "display_data"
    },
    {
     "name": "stdout",
     "output_type": "stream",
     "text": [
      "2021-10-11 00:23:41 |\u001b[36m DEBUG    \u001b[0m| helpers.helpers_predator.predictions | Prediction probabilities data for brca is prepared.\n",
      "Accessible from `brca_predictions_prob_data`.\n",
      "2021-10-11 00:23:41 |\u001b[36m DEBUG    \u001b[0m| helpers.helpers_predator.predictions | Ensemble prediction data for brca is prepared.\n",
      "Accessible from `brca_ensemble_prediction_data`.\n",
      "2021-10-11 00:23:41 |\u001b[36m DEBUG    \u001b[0m| helpers.helpers_predator.predictions | Resulting prediction data is available for brca.\n",
      "Accessible from predictions.['brca_prediction_results']\n",
      "2021-10-11 00:23:41 |\u001b[36m DEBUG    \u001b[0m| helpers.helpers_predator.predictions | Resulting prediction data (no_votes dropped) is available for brca.\n",
      "Accessible from predictions.['brca_prediction_results_no_votes_dropped']\n"
     ]
    }
   ],
   "source": [
    "predator.prepare_ensemble_prediction_data()"
   ]
  },
  {
   "cell_type": "code",
   "execution_count": 34,
   "id": "0ffd0f8a-b82f-4733-9a31-2d350402fecb",
   "metadata": {},
   "outputs": [
    {
     "name": "stdout",
     "output_type": "stream",
     "text": [
      "\u001b[36mData dimensions: (3985, 39)\u001b[0m\n"
     ]
    },
    {
     "data": {
      "text/html": [
       "<div>\n",
       "<style scoped>\n",
       "    .dataframe tbody tr th:only-of-type {\n",
       "        vertical-align: middle;\n",
       "    }\n",
       "\n",
       "    .dataframe tbody tr th {\n",
       "        vertical-align: top;\n",
       "    }\n",
       "\n",
       "    .dataframe thead th {\n",
       "        text-align: right;\n",
       "    }\n",
       "</style>\n",
       "<table border=\"1\" class=\"dataframe\">\n",
       "  <thead>\n",
       "    <tr style=\"text-align: right;\">\n",
       "      <th></th>\n",
       "      <th>Trial 0</th>\n",
       "      <th>Trial 1</th>\n",
       "      <th>Trial 2</th>\n",
       "      <th>Trial 3</th>\n",
       "      <th>Trial 4</th>\n",
       "      <th>Trial 5</th>\n",
       "      <th>Trial 6</th>\n",
       "      <th>Trial 7</th>\n",
       "      <th>Trial 8</th>\n",
       "      <th>Trial 9</th>\n",
       "      <th>...</th>\n",
       "      <th>Trial 29</th>\n",
       "      <th>Trial 30</th>\n",
       "      <th>Trial 31</th>\n",
       "      <th>Trial 32</th>\n",
       "      <th>Trial 33</th>\n",
       "      <th>Trial 34</th>\n",
       "      <th>Trial 35</th>\n",
       "      <th>Trial 36</th>\n",
       "      <th>PROB_1s_AVG</th>\n",
       "      <th>VOTED_PREDICTION</th>\n",
       "    </tr>\n",
       "  </thead>\n",
       "  <tbody>\n",
       "    <tr>\n",
       "      <th>0</th>\n",
       "      <td>0.434282</td>\n",
       "      <td>0.29885</td>\n",
       "      <td>0.571602</td>\n",
       "      <td>0.53894</td>\n",
       "      <td>0.88</td>\n",
       "      <td>0.406419</td>\n",
       "      <td>0.145854</td>\n",
       "      <td>0.345603</td>\n",
       "      <td>0.479683</td>\n",
       "      <td>0.617099</td>\n",
       "      <td>...</td>\n",
       "      <td>0.273818</td>\n",
       "      <td>0.26762</td>\n",
       "      <td>0.749085</td>\n",
       "      <td>0.45756</td>\n",
       "      <td>0.492516</td>\n",
       "      <td>0.477967</td>\n",
       "      <td>0.481381</td>\n",
       "      <td>0.329417</td>\n",
       "      <td>0.47282</td>\n",
       "      <td>0</td>\n",
       "    </tr>\n",
       "    <tr>\n",
       "      <th>1</th>\n",
       "      <td>0.538341</td>\n",
       "      <td>0.596622</td>\n",
       "      <td>0.604541</td>\n",
       "      <td>0.3387</td>\n",
       "      <td>0.44</td>\n",
       "      <td>0.40567</td>\n",
       "      <td>0.547424</td>\n",
       "      <td>0.606576</td>\n",
       "      <td>0.495839</td>\n",
       "      <td>0.326261</td>\n",
       "      <td>...</td>\n",
       "      <td>0.461963</td>\n",
       "      <td>0.459715</td>\n",
       "      <td>0.150756</td>\n",
       "      <td>0.450595</td>\n",
       "      <td>0.48094</td>\n",
       "      <td>0.358333</td>\n",
       "      <td>0.428704</td>\n",
       "      <td>0.504303</td>\n",
       "      <td>0.48094</td>\n",
       "      <td>0</td>\n",
       "    </tr>\n",
       "    <tr>\n",
       "      <th>2</th>\n",
       "      <td>0.512013</td>\n",
       "      <td>0.496622</td>\n",
       "      <td>0.468144</td>\n",
       "      <td>0.273154</td>\n",
       "      <td>0.4</td>\n",
       "      <td>0.399012</td>\n",
       "      <td>0.618258</td>\n",
       "      <td>0.566063</td>\n",
       "      <td>0.483061</td>\n",
       "      <td>0.258612</td>\n",
       "      <td>...</td>\n",
       "      <td>0.436928</td>\n",
       "      <td>0.452293</td>\n",
       "      <td>0.150756</td>\n",
       "      <td>0.447027</td>\n",
       "      <td>0.469733</td>\n",
       "      <td>0.258333</td>\n",
       "      <td>0.518077</td>\n",
       "      <td>0.401226</td>\n",
       "      <td>0.46814</td>\n",
       "      <td>0</td>\n",
       "    </tr>\n",
       "  </tbody>\n",
       "</table>\n",
       "<p>3 rows × 39 columns</p>\n",
       "</div>"
      ],
      "text/plain": [
       "    Trial 0   Trial 1   Trial 2   Trial 3 Trial 4   Trial 5   Trial 6  \\\n",
       "0  0.434282   0.29885  0.571602   0.53894    0.88  0.406419  0.145854   \n",
       "1  0.538341  0.596622  0.604541    0.3387    0.44   0.40567  0.547424   \n",
       "2  0.512013  0.496622  0.468144  0.273154     0.4  0.399012  0.618258   \n",
       "\n",
       "    Trial 7   Trial 8   Trial 9  ...  Trial 29  Trial 30  Trial 31  Trial 32  \\\n",
       "0  0.345603  0.479683  0.617099  ...  0.273818   0.26762  0.749085   0.45756   \n",
       "1  0.606576  0.495839  0.326261  ...  0.461963  0.459715  0.150756  0.450595   \n",
       "2  0.566063  0.483061  0.258612  ...  0.436928  0.452293  0.150756  0.447027   \n",
       "\n",
       "   Trial 33  Trial 34  Trial 35  Trial 36 PROB_1s_AVG VOTED_PREDICTION  \n",
       "0  0.492516  0.477967  0.481381  0.329417     0.47282                0  \n",
       "1   0.48094  0.358333  0.428704  0.504303     0.48094                0  \n",
       "2  0.469733  0.258333  0.518077  0.401226     0.46814                0  \n",
       "\n",
       "[3 rows x 39 columns]"
      ]
     },
     "metadata": {},
     "output_type": "display_data"
    }
   ],
   "source": [
    "display_data(predator.predictions['brca_predictions_prob_data'])"
   ]
  },
  {
   "cell_type": "code",
   "execution_count": 35,
   "id": "f2b38467-e658-4ed6-9ac0-6de1f1017ce7",
   "metadata": {},
   "outputs": [
    {
     "data": {
      "image/png": "[encoded data removed]",
      "text/plain": [
       "<Figure size 432x288 with 1 Axes>"
      ]
     },
     "metadata": {},
     "output_type": "display_data"
    }
   ],
   "source": [
    "predator.predictions.plot_ensemble_prediction_distribution(\"brca\")"
   ]
  },
  {
   "cell_type": "code",
   "execution_count": 36,
   "id": "c454d6a9-5c73-4fe6-b609-e7b160e2ddb8",
   "metadata": {},
   "outputs": [
    {
     "name": "stdout",
     "output_type": "stream",
     "text": [
      "\u001b[36mData dimensions: (3985, 4)\u001b[0m\n"
     ]
    },
    {
     "data": {
      "text/html": [
       "<div>\n",
       "<style scoped>\n",
       "    .dataframe tbody tr th:only-of-type {\n",
       "        vertical-align: middle;\n",
       "    }\n",
       "\n",
       "    .dataframe tbody tr th {\n",
       "        vertical-align: top;\n",
       "    }\n",
       "\n",
       "    .dataframe thead th {\n",
       "        text-align: right;\n",
       "    }\n",
       "</style>\n",
       "<table border=\"1\" class=\"dataframe\">\n",
       "  <thead>\n",
       "    <tr style=\"text-align: right;\">\n",
       "      <th></th>\n",
       "      <th>UniProt_ID</th>\n",
       "      <th>Mutation</th>\n",
       "      <th>Interactor_UniProt_ID</th>\n",
       "      <th>Prediction</th>\n",
       "    </tr>\n",
       "  </thead>\n",
       "  <tbody>\n",
       "    <tr>\n",
       "      <th>0</th>\n",
       "      <td>P28062</td>\n",
       "      <td>R216W</td>\n",
       "      <td>P40306</td>\n",
       "      <td>0</td>\n",
       "    </tr>\n",
       "    <tr>\n",
       "      <th>1</th>\n",
       "      <td>Q15842</td>\n",
       "      <td>E237K</td>\n",
       "      <td>Q14654</td>\n",
       "      <td>0</td>\n",
       "    </tr>\n",
       "    <tr>\n",
       "      <th>2</th>\n",
       "      <td>Q15842</td>\n",
       "      <td>E237K</td>\n",
       "      <td>P63252</td>\n",
       "      <td>0</td>\n",
       "    </tr>\n",
       "  </tbody>\n",
       "</table>\n",
       "</div>"
      ],
      "text/plain": [
       "  UniProt_ID Mutation Interactor_UniProt_ID Prediction\n",
       "0     P28062    R216W                P40306          0\n",
       "1     Q15842    E237K                Q14654          0\n",
       "2     Q15842    E237K                P63252          0"
      ]
     },
     "metadata": {},
     "output_type": "display_data"
    }
   ],
   "source": [
    "brca_prediction_results_soft = predator.predictions['brca_prediction_results']\n",
    "display_data(brca_prediction_results_soft)"
   ]
  },
  {
   "cell_type": "code",
   "execution_count": 37,
   "id": "569c4dd1-e2d9-40d0-b7c0-1cc177adfabb",
   "metadata": {},
   "outputs": [
    {
     "name": "stdout",
     "output_type": "stream",
     "text": [
      "\u001b[36mData dimensions: (3882, 4)\u001b[0m\n"
     ]
    },
    {
     "data": {
      "text/html": [
       "<div>\n",
       "<style scoped>\n",
       "    .dataframe tbody tr th:only-of-type {\n",
       "        vertical-align: middle;\n",
       "    }\n",
       "\n",
       "    .dataframe tbody tr th {\n",
       "        vertical-align: top;\n",
       "    }\n",
       "\n",
       "    .dataframe thead th {\n",
       "        text-align: right;\n",
       "    }\n",
       "</style>\n",
       "<table border=\"1\" class=\"dataframe\">\n",
       "  <thead>\n",
       "    <tr style=\"text-align: right;\">\n",
       "      <th></th>\n",
       "      <th>UniProt_ID</th>\n",
       "      <th>Mutation</th>\n",
       "      <th>Interactor_UniProt_ID</th>\n",
       "      <th>Prediction</th>\n",
       "    </tr>\n",
       "  </thead>\n",
       "  <tbody>\n",
       "    <tr>\n",
       "      <th>0</th>\n",
       "      <td>P28062</td>\n",
       "      <td>R216W</td>\n",
       "      <td>P40306</td>\n",
       "      <td>0</td>\n",
       "    </tr>\n",
       "    <tr>\n",
       "      <th>1</th>\n",
       "      <td>Q15842</td>\n",
       "      <td>E237K</td>\n",
       "      <td>Q14654</td>\n",
       "      <td>0</td>\n",
       "    </tr>\n",
       "    <tr>\n",
       "      <th>2</th>\n",
       "      <td>Q15842</td>\n",
       "      <td>E237K</td>\n",
       "      <td>P63252</td>\n",
       "      <td>0</td>\n",
       "    </tr>\n",
       "  </tbody>\n",
       "</table>\n",
       "</div>"
      ],
      "text/plain": [
       "  UniProt_ID Mutation Interactor_UniProt_ID Prediction\n",
       "0     P28062    R216W                P40306          0\n",
       "1     Q15842    E237K                Q14654          0\n",
       "2     Q15842    E237K                P63252          0"
      ]
     },
     "metadata": {},
     "output_type": "display_data"
    }
   ],
   "source": [
    "brca_prediction_results_soft_no_votes_dropped = predator.predictions[\"brca_prediction_results_no_votes_dropped\"]\n",
    "display_data(brca_prediction_results_soft_no_votes_dropped)"
   ]
  },
  {
   "cell_type": "code",
   "execution_count": 38,
   "id": "d1100263-ae65-405f-a13d-896927fdc1c5",
   "metadata": {},
   "outputs": [
    {
     "name": "stdout",
     "output_type": "stream",
     "text": [
      "\u001b[36mLabel counts:\n",
      "Disrupting                1934\n",
      "Increasing + No Effect    1948\n",
      "Name: Prediction, dtype: int64\u001b[0m\n"
     ]
    },
    {
     "data": {
      "image/png": "[encoded data removed]",
      "text/plain": [
       "<Figure size 432x288 with 1 Axes>"
      ]
     },
     "metadata": {},
     "output_type": "display_data"
    }
   ],
   "source": [
    "visualize_label_counts(brca_prediction_results_soft_no_votes_dropped, 'Prediction')"
   ]
  },
  {
   "cell_type": "code",
   "execution_count": 39,
   "id": "37c0a11a-e87e-40af-ba8a-8a28b82d956d",
   "metadata": {},
   "outputs": [],
   "source": [
    "brca_ensemble_prediction_data_soft = predator.predictions[\"brca_ensemble_prediction_data\"]"
   ]
  },
  {
   "cell_type": "code",
   "execution_count": 40,
   "id": "e4995e62-dfd6-4b54-bd6c-67a62eefb6a6",
   "metadata": {},
   "outputs": [],
   "source": [
    "brca_predictions_prob_data_soft = predator.predictions[\"brca_predictions_prob_data\"]"
   ]
  },
  {
   "cell_type": "markdown",
   "id": "d67ab239-1c4d-404e-b272-a271751dd607",
   "metadata": {},
   "source": [
    "## Exporting Predictions"
   ]
  },
  {
   "cell_type": "code",
   "execution_count": 41,
   "id": "9a94b745-4a6d-46d4-a559-4fe47bc2a7b3",
   "metadata": {},
   "outputs": [
    {
     "name": "stdout",
     "output_type": "stream",
     "text": [
      "\u001b[36mData dimensions: (3882, 4)\u001b[0m\n"
     ]
    },
    {
     "data": {
      "text/html": [
       "<div>\n",
       "<style scoped>\n",
       "    .dataframe tbody tr th:only-of-type {\n",
       "        vertical-align: middle;\n",
       "    }\n",
       "\n",
       "    .dataframe tbody tr th {\n",
       "        vertical-align: top;\n",
       "    }\n",
       "\n",
       "    .dataframe thead th {\n",
       "        text-align: right;\n",
       "    }\n",
       "</style>\n",
       "<table border=\"1\" class=\"dataframe\">\n",
       "  <thead>\n",
       "    <tr style=\"text-align: right;\">\n",
       "      <th></th>\n",
       "      <th>UniProt_ID</th>\n",
       "      <th>Mutation</th>\n",
       "      <th>Interactor_UniProt_ID</th>\n",
       "      <th>Prediction</th>\n",
       "    </tr>\n",
       "  </thead>\n",
       "  <tbody>\n",
       "    <tr>\n",
       "      <th>0</th>\n",
       "      <td>P28062</td>\n",
       "      <td>R216W</td>\n",
       "      <td>P40306</td>\n",
       "      <td>0</td>\n",
       "    </tr>\n",
       "    <tr>\n",
       "      <th>1</th>\n",
       "      <td>Q15842</td>\n",
       "      <td>E237K</td>\n",
       "      <td>Q14654</td>\n",
       "      <td>0</td>\n",
       "    </tr>\n",
       "    <tr>\n",
       "      <th>2</th>\n",
       "      <td>Q15842</td>\n",
       "      <td>E237K</td>\n",
       "      <td>P63252</td>\n",
       "      <td>0</td>\n",
       "    </tr>\n",
       "  </tbody>\n",
       "</table>\n",
       "</div>"
      ],
      "text/plain": [
       "  UniProt_ID Mutation Interactor_UniProt_ID Prediction\n",
       "0     P28062    R216W                P40306          0\n",
       "1     Q15842    E237K                Q14654          0\n",
       "2     Q15842    E237K                P63252          0"
      ]
     },
     "metadata": {},
     "output_type": "display_data"
    }
   ],
   "source": [
    "# brca_prediction_results = brca_prediction_results_hard_no_votes_dropped\n",
    "brca_prediction_results = brca_prediction_results_soft_no_votes_dropped\n",
    "display_data(brca_prediction_results)"
   ]
  },
  {
   "cell_type": "code",
   "execution_count": 43,
   "id": "59517c95-9287-4f96-800b-1a38efe5ff2b",
   "metadata": {},
   "outputs": [
    {
     "name": "stdout",
     "output_type": "stream",
     "text": [
      "2021-10-11 11:49:58 |\u001b[36m DEBUG    \u001b[0m| helpers.helpers_predator.common | Folder with ID 2311f534 is created.\n",
      "2021-10-11 11:49:58 |\u001b[36m DEBUG    \u001b[0m| helpers.helpers_predator.common | Exporting data predictions at location ../data/predictions_datasets/ in folder brca_prediction_2021-10-11\\2311f534..\n",
      "2021-10-11 11:49:58 |\u001b[32m INFO     \u001b[0m| helpers.helpers_predator.common | ../data/predictions_datasets/brca_prediction_2021-10-11\\2311f534\\predictions_soft_2021-10-11.csv is exported successfully.\n",
      "2021-10-11 11:49:58 |\u001b[32m INFO     \u001b[0m| helpers.helpers_predator.common | Config is exported.\n"
     ]
    }
   ],
   "source": [
    "predator.export_prediction(\n",
    "    tcga=\"brca\",\n",
    "    data=brca_prediction_results,\n",
    "    file_name=\"predictions\",\n",
    "    folder_path=PREDICTIONS_DATASETS_FOLDER_PATH,\n",
    "    voting=\"soft\",\n",
    "    overwrite=False,\n",
    "    file_extension='csv'\n",
    ")"
   ]
  },
  {
   "cell_type": "markdown",
   "id": "6ecc002b-2ec4-4a66-9dfa-30e5c4c107f8",
   "metadata": {},
   "source": [
    "---"
   ]
  },
  {
   "cell_type": "code",
   "execution_count": null,
   "id": "76fbe1ea-9846-42b2-a1d5-a09a1d928a4f",
   "metadata": {},
   "outputs": [],
   "source": []
  }
 ],
 "metadata": {
  "kernelspec": {
   "display_name": "Predicting-Mutation-Effects",
   "language": "python",
   "name": "predicting-mutation-effects"
  },
  "language_info": {
   "codemirror_mode": {
    "name": "ipython",
    "version": 3
   },
   "file_extension": ".py",
   "mimetype": "text/x-python",
   "name": "python",
   "nbconvert_exporter": "python",
   "pygments_lexer": "ipython3",
   "version": "3.8.10"
  },
  "toc-autonumbering": false
 },
 "nbformat": 4,
 "nbformat_minor": 5
}
