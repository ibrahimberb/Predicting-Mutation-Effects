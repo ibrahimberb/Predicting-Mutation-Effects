{
 "cells": [
  {
   "cell_type": "markdown",
   "id": "b0eea2f9-919a-44d2-970f-da295e7b77c5",
   "metadata": {
    "tags": []
   },
   "source": [
    "# PREDATOR: **PRED**icting the imp**A**ct of cancer somatic mu**T**ations on pr**O**tein-protein inte**R**actions\n"
   ]
  },
  {
   "cell_type": "markdown",
   "id": "0fc1bee2-776f-46dc-9aa7-80e979b941df",
   "metadata": {},
   "source": [
    "## OV"
   ]
  },
  {
   "cell_type": "markdown",
   "id": "f412b89c-b553-4606-95fb-d30520f77b97",
   "metadata": {},
   "source": [
    "\n",
    "<b><i class=\"fa fa-folder-o\" area-hidden=\"true\" style=\"color:#1976D2\"> </i>&nbsp; File Location</b><br>\n",
    "<p style=\"background:#F5F5F5; text-indent: 1em;\">\n",
    "<code style=\"background:#F5F5F5; color:#404040; font-weight:bold; font-size:12px\">C:\\Users\\ibrah\\Documents\\GitHub\\Predicting-Mutation-Effects\\src</code>\n",
    "</p>\n",
    "\n",
    "<b><i class=\"far fa-file\" area-hidden=\"true\" style=\"color:#1976D2\"> </i>&nbsp; File Name</b>\n",
    "<p style=\"background:#F5F5F5; text-indent: 1em;\">\n",
    "<code style=\"background:#F5F5F5; color:#404040; font-weight:bold; font-size:12px\">PredatorStudy_OV.ipynb</code>\n",
    "</p>\n",
    "\n",
    "<b><i class=\"far fa-calendar-alt\" area-hidden=\"true\" style=\"color:#1976D2\"> </i>&nbsp; Last Edited</b>\n",
    "<p style=\"background:#F5F5F5; text-indent: 1em;\">\n",
    "<code style=\"background:#F5F5F5; color:#404040; font-weight:bold; font-size:12px\">October 11th, 2021</code>\n",
    "</p>\n"
   ]
  },
  {
   "cell_type": "markdown",
   "id": "8931daec-0e11-43e2-8a68-098571c3cc4e",
   "metadata": {},
   "source": [
    "<div class=\"alert alert-block\" style=\"background-color: #F5F5F5; border: 1px solid; padding: 10px; border-color: #E0E0E0\">\n",
    "    <b><i class=\"fa fa-compass\" aria-hidden=\"true\" style=\"color:#404040\"></i></b>&nbsp; <b style=\"color: #404040\">Purpose </b> <br>\n",
    "<div>\n",
    "    \n",
    "- [x] Apply on Cancer Datasets\n",
    "    > OV\n",
    "\n",
    "* Target (Cancer) data: \n",
    "    - *OV_Interface.txt*"
   ]
  },
  {
   "cell_type": "code",
   "execution_count": 1,
   "id": "3f602602-ac27-4390-9521-9bcdc73f06ef",
   "metadata": {},
   "outputs": [],
   "source": [
    "# Common imports\n",
    "import pandas as pd\n",
    "import numpy as np\n",
    "import matplotlib.pyplot as plt\n",
    "import seaborn as sns\n",
    "\n",
    "import os\n",
    "import os.path as op\n",
    "import sys\n",
    "import random\n",
    "from pathlib import Path\n",
    "\n",
    "from pprint import pprint\n",
    "from IPython.display import display\n",
    "from tqdm.notebook import tqdm\n",
    "\n",
    "from helpers.helpers_predator.displayers import (\n",
    "    display_label_counts, \n",
    "    display_labels, \n",
    "    visualize_label_counts,\n",
    "    display_data,\n",
    ")\n",
    "\n",
    "from helpers.helpers_predator.visualizers import (\n",
    "    visualize_sampled_train_datasets_label_counts\n",
    ")\n",
    "\n",
    "from helpers.helpers_predator.common import load_predator\n",
    "from helpers.helpers_predator.common import export_data\n",
    "\n",
    "# PATHS\n",
    "OV_PATH = Path(r\"../../My-ELASPIC-Web-API/Elaspic_Results/Merged_Results/OV_Interface_2021-09-28.txt\")\n",
    "PREDATOR_MODEL_PATH = Path(r\"PredatorModels/PredatorModel_2021-10-10/ffa0e9d0/predator.pkl\")\n",
    "PREDICTIONS_DATASETS_FOLDER_PATH = \"../data/predictions_datasets/\"\n",
    "\n",
    "# Reflect changes in the modules immediately.\n",
    "%load_ext autoreload\n",
    "%autoreload 2"
   ]
  },
  {
   "cell_type": "markdown",
   "id": "c47b1edb-758c-460e-acf7-4f864330d19b",
   "metadata": {},
   "source": [
    "## Load the Predator"
   ]
  },
  {
   "cell_type": "code",
   "execution_count": 2,
   "id": "0c164c31-9b7e-4366-8336-50cbc80bf9c7",
   "metadata": {},
   "outputs": [
    {
     "name": "stdout",
     "output_type": "stream",
     "text": [
      "2021-10-11 00:32:18 |\u001b[32m INFO     \u001b[0m| helpers.helpers_predator.common | Predator object PredatorModels\\PredatorModel_2021-10-10\\ffa0e9d0\\predator.pkl is loaded successfully.\n"
     ]
    }
   ],
   "source": [
    "predator = load_predator(PREDATOR_MODEL_PATH)"
   ]
  },
  {
   "cell_type": "markdown",
   "id": "60f783e4-28bb-4543-9d35-42c4b17b37b8",
   "metadata": {},
   "source": [
    "## Prediction TCGA on Cancer Dataset: OV"
   ]
  },
  {
   "cell_type": "code",
   "execution_count": 3,
   "id": "c27cc976-e356-4271-85e9-f23c9366dc67",
   "metadata": {},
   "outputs": [
    {
     "name": "stdout",
     "output_type": "stream",
     "text": [
      "2021-10-11 00:32:18 |\u001b[36m DEBUG    \u001b[0m| helpers.helpers_predator.data_materials | Initialize `ov` ..\n",
      "2021-10-11 00:32:18 |\u001b[36m DEBUG    \u001b[0m| helpers.helpers_predator.data_materials | Initialize `target_ov_data` ..\n",
      "2021-10-11 00:32:18 |\u001b[36m DEBUG    \u001b[0m| helpers.helpers_predator.data_materials | Initializing target data materials ..\n",
      "2021-10-11 00:32:18 |\u001b[36m DEBUG    \u001b[0m| helpers.helpers_predator.data_materials | Determined features: ['Provean_score', 'EL2_score', 'Final_ddG', 'Interactor_alignment_score', 'Matrix_score', 'Solvent_accessibility_wt', 'Solvent_accessibility_mut', 'van_der_waals_mut', 'Interactor_template_sequence_identity', 'Model/DOPE_score']\n",
      "2021-10-11 00:32:18 |\u001b[36m DEBUG    \u001b[0m| helpers.helpers_predator.data_materials | Declaring Xs_ov data materials  ..\n"
     ]
    }
   ],
   "source": [
    "predator.initialize_target_data_materials(\n",
    "    tcga_code_path_pairs=[('ov', OV_PATH)]\n",
    ")"
   ]
  },
  {
   "cell_type": "markdown",
   "id": "245b2b8c-0c70-4cd5-9a09-b3428cf0b048",
   "metadata": {
    "tags": []
   },
   "source": [
    "#### TCGA Cancer Datasets"
   ]
  },
  {
   "cell_type": "markdown",
   "id": "4ab061ec-37b5-4651-a5c0-1f1238e7a08a",
   "metadata": {},
   "source": [
    "##### OV"
   ]
  },
  {
   "cell_type": "code",
   "execution_count": 4,
   "id": "342221d3-8e16-42eb-9801-20a3efed64f5",
   "metadata": {},
   "outputs": [
    {
     "name": "stdout",
     "output_type": "stream",
     "text": [
      "\u001b[36mData dimensions: (5086, 103)\u001b[0m\n"
     ]
    },
    {
     "data": {
      "text/html": [
       "<div>\n",
       "<style scoped>\n",
       "    .dataframe tbody tr th:only-of-type {\n",
       "        vertical-align: middle;\n",
       "    }\n",
       "\n",
       "    .dataframe tbody tr th {\n",
       "        vertical-align: top;\n",
       "    }\n",
       "\n",
       "    .dataframe thead th {\n",
       "        text-align: right;\n",
       "    }\n",
       "</style>\n",
       "<table border=\"1\" class=\"dataframe\">\n",
       "  <thead>\n",
       "    <tr style=\"text-align: right;\">\n",
       "      <th></th>\n",
       "      <th>Input_identifier</th>\n",
       "      <th>UniProt_ID</th>\n",
       "      <th>Mutation</th>\n",
       "      <th>Status</th>\n",
       "      <th>Type</th>\n",
       "      <th>COSMIC_mut_ID</th>\n",
       "      <th>ClinVar_mut_ID</th>\n",
       "      <th>UniProt_mut_ID</th>\n",
       "      <th>Domain_name</th>\n",
       "      <th>Domain_clan</th>\n",
       "      <th>...</th>\n",
       "      <th>number_of_residues_mut</th>\n",
       "      <th>IntraclashesEnergy1_wt</th>\n",
       "      <th>IntraclashesEnergy1_mut</th>\n",
       "      <th>IntraclashesEnergy2_wt</th>\n",
       "      <th>IntraclashesEnergy2_mut</th>\n",
       "      <th>Interface_hydrophobic_area</th>\n",
       "      <th>Interface_hydrophilic_area</th>\n",
       "      <th>Interface_total_area</th>\n",
       "      <th>Interface_contact_distance_wt</th>\n",
       "      <th>Interface_contact_distance_mut</th>\n",
       "    </tr>\n",
       "  </thead>\n",
       "  <tbody>\n",
       "    <tr>\n",
       "      <th>0</th>\n",
       "      <td>P08134</td>\n",
       "      <td>P08134</td>\n",
       "      <td>D59E</td>\n",
       "      <td>done</td>\n",
       "      <td>interface</td>\n",
       "      <td>COSM72427</td>\n",
       "      <td>-</td>\n",
       "      <td>-</td>\n",
       "      <td>Ras</td>\n",
       "      <td>Ras</td>\n",
       "      <td>...</td>\n",
       "      <td>388.0</td>\n",
       "      <td>53.3423</td>\n",
       "      <td>55.3148</td>\n",
       "      <td>37.8150</td>\n",
       "      <td>37.8150</td>\n",
       "      <td>719.095</td>\n",
       "      <td>461.785</td>\n",
       "      <td>1180.88</td>\n",
       "      <td>3.18062</td>\n",
       "      <td>3.18062</td>\n",
       "    </tr>\n",
       "    <tr>\n",
       "      <th>1</th>\n",
       "      <td>P08134</td>\n",
       "      <td>P08134</td>\n",
       "      <td>D59E</td>\n",
       "      <td>done</td>\n",
       "      <td>interface</td>\n",
       "      <td>COSM72427</td>\n",
       "      <td>-</td>\n",
       "      <td>-</td>\n",
       "      <td>Ras</td>\n",
       "      <td>Ras</td>\n",
       "      <td>...</td>\n",
       "      <td>344.0</td>\n",
       "      <td>62.3140</td>\n",
       "      <td>63.0691</td>\n",
       "      <td>32.5038</td>\n",
       "      <td>32.5038</td>\n",
       "      <td>598.71</td>\n",
       "      <td>417.74</td>\n",
       "      <td>1016.46</td>\n",
       "      <td>3.80414</td>\n",
       "      <td>3.80414</td>\n",
       "    </tr>\n",
       "    <tr>\n",
       "      <th>2</th>\n",
       "      <td>P62993</td>\n",
       "      <td>P62993</td>\n",
       "      <td>A3V</td>\n",
       "      <td>done</td>\n",
       "      <td>interface</td>\n",
       "      <td>-</td>\n",
       "      <td>-</td>\n",
       "      <td>-</td>\n",
       "      <td>SH3_1</td>\n",
       "      <td>SH3_1</td>\n",
       "      <td>...</td>\n",
       "      <td>280.0</td>\n",
       "      <td>23.2774</td>\n",
       "      <td>24.5177</td>\n",
       "      <td>122.5120</td>\n",
       "      <td>122.5120</td>\n",
       "      <td>170.81</td>\n",
       "      <td>120.515</td>\n",
       "      <td>291.325</td>\n",
       "      <td>4.63364</td>\n",
       "      <td>4.63364</td>\n",
       "    </tr>\n",
       "  </tbody>\n",
       "</table>\n",
       "<p>3 rows × 103 columns</p>\n",
       "</div>"
      ],
      "text/plain": [
       "  Input_identifier UniProt_ID Mutation Status       Type COSMIC_mut_ID  \\\n",
       "0           P08134     P08134     D59E   done  interface     COSM72427   \n",
       "1           P08134     P08134     D59E   done  interface     COSM72427   \n",
       "2           P62993     P62993      A3V   done  interface             -   \n",
       "\n",
       "  ClinVar_mut_ID UniProt_mut_ID Domain_name Domain_clan  ...  \\\n",
       "0              -              -         Ras         Ras  ...   \n",
       "1              -              -         Ras         Ras  ...   \n",
       "2              -              -       SH3_1       SH3_1  ...   \n",
       "\n",
       "  number_of_residues_mut IntraclashesEnergy1_wt  IntraclashesEnergy1_mut  \\\n",
       "0                  388.0                53.3423                  55.3148   \n",
       "1                  344.0                62.3140                  63.0691   \n",
       "2                  280.0                23.2774                  24.5177   \n",
       "\n",
       "   IntraclashesEnergy2_wt IntraclashesEnergy2_mut Interface_hydrophobic_area  \\\n",
       "0                 37.8150                 37.8150                    719.095   \n",
       "1                 32.5038                 32.5038                     598.71   \n",
       "2                122.5120                122.5120                     170.81   \n",
       "\n",
       "  Interface_hydrophilic_area Interface_total_area  \\\n",
       "0                    461.785              1180.88   \n",
       "1                     417.74              1016.46   \n",
       "2                    120.515              291.325   \n",
       "\n",
       "  Interface_contact_distance_wt  Interface_contact_distance_mut  \n",
       "0                       3.18062                         3.18062  \n",
       "1                       3.80414                         3.80414  \n",
       "2                       4.63364                         4.63364  \n",
       "\n",
       "[3 rows x 103 columns]"
      ]
     },
     "metadata": {},
     "output_type": "display_data"
    }
   ],
   "source": [
    "display_data(predator.data_materials[\"ov\"])"
   ]
  },
  {
   "cell_type": "markdown",
   "id": "a22d630d-e0a0-4417-aa64-0df18f8f3a63",
   "metadata": {
    "tags": []
   },
   "source": [
    "#### Preprocessed TCGA Cancer Datasets"
   ]
  },
  {
   "cell_type": "markdown",
   "id": "ca038a01-2691-4943-9d7e-55a41661f3cc",
   "metadata": {},
   "source": [
    "##### OV"
   ]
  },
  {
   "cell_type": "code",
   "execution_count": 5,
   "id": "67f55bd2-c25a-4d6c-ba5b-08957cf03852",
   "metadata": {},
   "outputs": [
    {
     "name": "stdout",
     "output_type": "stream",
     "text": [
      "\u001b[36mData dimensions: (5086, 61)\u001b[0m\n"
     ]
    },
    {
     "data": {
      "text/html": [
       "<div>\n",
       "<style scoped>\n",
       "    .dataframe tbody tr th:only-of-type {\n",
       "        vertical-align: middle;\n",
       "    }\n",
       "\n",
       "    .dataframe tbody tr th {\n",
       "        vertical-align: top;\n",
       "    }\n",
       "\n",
       "    .dataframe thead th {\n",
       "        text-align: right;\n",
       "    }\n",
       "</style>\n",
       "<table border=\"1\" class=\"dataframe\">\n",
       "  <thead>\n",
       "    <tr style=\"text-align: right;\">\n",
       "      <th></th>\n",
       "      <th>UniProt_ID</th>\n",
       "      <th>Mutation</th>\n",
       "      <th>Interactor_UniProt_ID</th>\n",
       "      <th>Template_sequence_identity</th>\n",
       "      <th>Alignment_score</th>\n",
       "      <th>Interactor_template_sequence_identity</th>\n",
       "      <th>Interactor_alignment_score</th>\n",
       "      <th>Final_ddG</th>\n",
       "      <th>ProtBert_score</th>\n",
       "      <th>ProteinSolver_score</th>\n",
       "      <th>...</th>\n",
       "      <th>number_of_residues_mut</th>\n",
       "      <th>IntraclashesEnergy1_wt</th>\n",
       "      <th>IntraclashesEnergy1_mut</th>\n",
       "      <th>IntraclashesEnergy2_wt</th>\n",
       "      <th>IntraclashesEnergy2_mut</th>\n",
       "      <th>Interface_hydrophobic_area</th>\n",
       "      <th>Interface_hydrophilic_area</th>\n",
       "      <th>Interface_total_area</th>\n",
       "      <th>Interface_contact_distance_wt</th>\n",
       "      <th>Interface_contact_distance_mut</th>\n",
       "    </tr>\n",
       "  </thead>\n",
       "  <tbody>\n",
       "    <tr>\n",
       "      <th>0</th>\n",
       "      <td>P08134</td>\n",
       "      <td>D59E</td>\n",
       "      <td>P52565</td>\n",
       "      <td>0.9263</td>\n",
       "      <td>0.915529</td>\n",
       "      <td>0.9394</td>\n",
       "      <td>0.914711</td>\n",
       "      <td>1.492640</td>\n",
       "      <td>0.999329</td>\n",
       "      <td>0.046801</td>\n",
       "      <td>...</td>\n",
       "      <td>388.0</td>\n",
       "      <td>53.3423</td>\n",
       "      <td>55.3148</td>\n",
       "      <td>37.8150</td>\n",
       "      <td>37.8150</td>\n",
       "      <td>719.095</td>\n",
       "      <td>461.785</td>\n",
       "      <td>1180.880</td>\n",
       "      <td>3.18062</td>\n",
       "      <td>3.18062</td>\n",
       "    </tr>\n",
       "    <tr>\n",
       "      <th>1</th>\n",
       "      <td>P08134</td>\n",
       "      <td>D59E</td>\n",
       "      <td>P52565-2</td>\n",
       "      <td>0.9263</td>\n",
       "      <td>0.915529</td>\n",
       "      <td>0.7222</td>\n",
       "      <td>0.708487</td>\n",
       "      <td>0.762694</td>\n",
       "      <td>0.999029</td>\n",
       "      <td>0.004062</td>\n",
       "      <td>...</td>\n",
       "      <td>344.0</td>\n",
       "      <td>62.3140</td>\n",
       "      <td>63.0691</td>\n",
       "      <td>32.5038</td>\n",
       "      <td>32.5038</td>\n",
       "      <td>598.710</td>\n",
       "      <td>417.740</td>\n",
       "      <td>1016.460</td>\n",
       "      <td>3.80414</td>\n",
       "      <td>3.80414</td>\n",
       "    </tr>\n",
       "    <tr>\n",
       "      <th>2</th>\n",
       "      <td>P62993</td>\n",
       "      <td>A3V</td>\n",
       "      <td>Q9H8V3-2</td>\n",
       "      <td>0.4444</td>\n",
       "      <td>0.463595</td>\n",
       "      <td>0.2792</td>\n",
       "      <td>0.262235</td>\n",
       "      <td>1.964490</td>\n",
       "      <td>-0.080548</td>\n",
       "      <td>0.456549</td>\n",
       "      <td>...</td>\n",
       "      <td>280.0</td>\n",
       "      <td>23.2774</td>\n",
       "      <td>24.5177</td>\n",
       "      <td>122.5120</td>\n",
       "      <td>122.5120</td>\n",
       "      <td>170.810</td>\n",
       "      <td>120.515</td>\n",
       "      <td>291.325</td>\n",
       "      <td>4.63364</td>\n",
       "      <td>4.63364</td>\n",
       "    </tr>\n",
       "  </tbody>\n",
       "</table>\n",
       "<p>3 rows × 61 columns</p>\n",
       "</div>"
      ],
      "text/plain": [
       "  UniProt_ID Mutation Interactor_UniProt_ID  Template_sequence_identity  \\\n",
       "0     P08134     D59E                P52565                      0.9263   \n",
       "1     P08134     D59E              P52565-2                      0.9263   \n",
       "2     P62993      A3V              Q9H8V3-2                      0.4444   \n",
       "\n",
       "   Alignment_score  Interactor_template_sequence_identity  \\\n",
       "0         0.915529                                 0.9394   \n",
       "1         0.915529                                 0.7222   \n",
       "2         0.463595                                 0.2792   \n",
       "\n",
       "   Interactor_alignment_score  Final_ddG  ProtBert_score  ProteinSolver_score  \\\n",
       "0                    0.914711   1.492640        0.999329             0.046801   \n",
       "1                    0.708487   0.762694        0.999029             0.004062   \n",
       "2                    0.262235   1.964490       -0.080548             0.456549   \n",
       "\n",
       "   ...  number_of_residues_mut  IntraclashesEnergy1_wt  \\\n",
       "0  ...                   388.0                 53.3423   \n",
       "1  ...                   344.0                 62.3140   \n",
       "2  ...                   280.0                 23.2774   \n",
       "\n",
       "   IntraclashesEnergy1_mut  IntraclashesEnergy2_wt  IntraclashesEnergy2_mut  \\\n",
       "0                  55.3148                 37.8150                  37.8150   \n",
       "1                  63.0691                 32.5038                  32.5038   \n",
       "2                  24.5177                122.5120                 122.5120   \n",
       "\n",
       "   Interface_hydrophobic_area  Interface_hydrophilic_area  \\\n",
       "0                     719.095                     461.785   \n",
       "1                     598.710                     417.740   \n",
       "2                     170.810                     120.515   \n",
       "\n",
       "   Interface_total_area  Interface_contact_distance_wt  \\\n",
       "0              1180.880                        3.18062   \n",
       "1              1016.460                        3.80414   \n",
       "2               291.325                        4.63364   \n",
       "\n",
       "   Interface_contact_distance_mut  \n",
       "0                         3.18062  \n",
       "1                         3.80414  \n",
       "2                         4.63364  \n",
       "\n",
       "[3 rows x 61 columns]"
      ]
     },
     "metadata": {},
     "output_type": "display_data"
    }
   ],
   "source": [
    "display_data(predator.data_materials[\"target_ov_data\"])"
   ]
  },
  {
   "cell_type": "markdown",
   "id": "76d7a628-93f0-4d78-a936-bed2a7316948",
   "metadata": {
    "tags": []
   },
   "source": [
    "### Voting mode: `hard`"
   ]
  },
  {
   "cell_type": "code",
   "execution_count": 6,
   "id": "0cae289c-0631-4d5c-8346-b0da97d970dd",
   "metadata": {
    "scrolled": true,
    "tags": []
   },
   "outputs": [
    {
     "name": "stdout",
     "output_type": "stream",
     "text": [
      "2021-10-11 00:32:19 |\u001b[36m DEBUG    \u001b[0m| Predator | Predicting on cancer datasets ..\n",
      "2021-10-11 00:32:19 |\u001b[36m DEBUG    \u001b[0m| helpers.helpers_predator.models | Initializing EnsambledVotingClassifier.\n",
      "2021-10-11 00:32:19 |\u001b[36m DEBUG    \u001b[0m| helpers.helpers_predator.models | Voting mode: hard\n",
      "2021-10-11 00:32:19 |\u001b[36m DEBUG    \u001b[0m| helpers.helpers_predator.predictions | Initializing: PredictionsHard\n",
      "2021-10-11 00:32:19 |\u001b[36m DEBUG    \u001b[0m| Predator | Predicting on ov cohort ..\n",
      "2021-10-11 00:32:19 |\u001b[36m DEBUG    \u001b[0m| helpers.helpers_predator.models | Current estimator: RandomForestClassifier(class_weight='balanced', max_depth=2, max_features=None,\n",
      "                       min_samples_split=5, n_estimators=50, random_state=1)\n",
      "2021-10-11 00:32:19 |\u001b[36m DEBUG    \u001b[0m| helpers.helpers_predator.models | X shape: (5086, 10)\n",
      "2021-10-11 00:32:19 |\u001b[36m DEBUG    \u001b[0m| helpers.helpers_predator.models | Current estimator: RandomForestClassifier(max_depth=5, n_estimators=10, random_state=2)\n",
      "2021-10-11 00:32:19 |\u001b[36m DEBUG    \u001b[0m| helpers.helpers_predator.models | X shape: (5086, 10)\n",
      "2021-10-11 00:32:19 |\u001b[36m DEBUG    \u001b[0m| helpers.helpers_predator.models | Current estimator: RandomForestClassifier(class_weight='balanced', max_depth=10,\n",
      "                       max_features='sqrt', min_samples_split=5,\n",
      "                       n_estimators=25, random_state=3)\n",
      "2021-10-11 00:32:19 |\u001b[36m DEBUG    \u001b[0m| helpers.helpers_predator.models | X shape: (5086, 10)\n",
      "2021-10-11 00:32:19 |\u001b[36m DEBUG    \u001b[0m| helpers.helpers_predator.models | Current estimator: RandomForestClassifier(class_weight='balanced', max_depth=10, max_features=None,\n",
      "                       min_samples_split=5, n_estimators=75, random_state=4)\n",
      "2021-10-11 00:32:19 |\u001b[36m DEBUG    \u001b[0m| helpers.helpers_predator.models | X shape: (5086, 10)\n",
      "2021-10-11 00:32:19 |\u001b[36m DEBUG    \u001b[0m| helpers.helpers_predator.models | Current estimator: RandomForestClassifier(class_weight='balanced', max_depth=10,\n",
      "                       max_features='sqrt', n_estimators=25, random_state=5)\n",
      "2021-10-11 00:32:19 |\u001b[36m DEBUG    \u001b[0m| helpers.helpers_predator.models | X shape: (5086, 10)\n",
      "2021-10-11 00:32:19 |\u001b[36m DEBUG    \u001b[0m| helpers.helpers_predator.models | Current estimator: RandomForestClassifier(max_depth=2, min_samples_split=5, n_estimators=200,\n",
      "                       random_state=6)\n",
      "2021-10-11 00:32:19 |\u001b[36m DEBUG    \u001b[0m| helpers.helpers_predator.models | X shape: (5086, 10)\n",
      "2021-10-11 00:32:19 |\u001b[36m DEBUG    \u001b[0m| helpers.helpers_predator.models | Current estimator: RandomForestClassifier(max_depth=5, min_samples_split=5, n_estimators=10,\n",
      "                       random_state=7)\n",
      "2021-10-11 00:32:19 |\u001b[36m DEBUG    \u001b[0m| helpers.helpers_predator.models | X shape: (5086, 10)\n",
      "2021-10-11 00:32:19 |\u001b[36m DEBUG    \u001b[0m| helpers.helpers_predator.models | Current estimator: RandomForestClassifier(max_depth=5, max_features='sqrt', min_samples_split=5,\n",
      "                       n_estimators=400, random_state=8)\n",
      "2021-10-11 00:32:19 |\u001b[36m DEBUG    \u001b[0m| helpers.helpers_predator.models | X shape: (5086, 10)\n",
      "2021-10-11 00:32:19 |\u001b[36m DEBUG    \u001b[0m| helpers.helpers_predator.models | Current estimator: RandomForestClassifier(class_weight='balanced', max_depth=2,\n",
      "                       min_samples_split=5, n_estimators=50, random_state=10)\n",
      "2021-10-11 00:32:19 |\u001b[36m DEBUG    \u001b[0m| helpers.helpers_predator.models | X shape: (5086, 10)\n",
      "2021-10-11 00:32:19 |\u001b[36m DEBUG    \u001b[0m| helpers.helpers_predator.models | Current estimator: RandomForestClassifier(class_weight='balanced', max_depth=5, max_features=None,\n",
      "                       n_estimators=200, random_state=12)\n",
      "2021-10-11 00:32:19 |\u001b[36m DEBUG    \u001b[0m| helpers.helpers_predator.models | X shape: (5086, 10)\n",
      "2021-10-11 00:32:19 |\u001b[36m DEBUG    \u001b[0m| helpers.helpers_predator.models | Current estimator: RandomForestClassifier(class_weight='balanced', max_depth=5, max_features=None,\n",
      "                       min_samples_split=5, n_estimators=200, random_state=13)\n",
      "2021-10-11 00:32:19 |\u001b[36m DEBUG    \u001b[0m| helpers.helpers_predator.models | X shape: (5086, 10)\n",
      "2021-10-11 00:32:20 |\u001b[36m DEBUG    \u001b[0m| helpers.helpers_predator.models | Current estimator: RandomForestClassifier(class_weight='balanced', max_depth=10,\n",
      "                       max_features='sqrt', min_samples_split=5,\n",
      "                       n_estimators=400, random_state=17)\n",
      "2021-10-11 00:32:20 |\u001b[36m DEBUG    \u001b[0m| helpers.helpers_predator.models | X shape: (5086, 10)\n",
      "2021-10-11 00:32:20 |\u001b[36m DEBUG    \u001b[0m| helpers.helpers_predator.models | Current estimator: RandomForestClassifier(class_weight='balanced', max_depth=5, n_estimators=10,\n",
      "                       random_state=18)\n",
      "2021-10-11 00:32:20 |\u001b[36m DEBUG    \u001b[0m| helpers.helpers_predator.models | X shape: (5086, 10)\n",
      "2021-10-11 00:32:20 |\u001b[36m DEBUG    \u001b[0m| helpers.helpers_predator.models | Current estimator: RandomForestClassifier(class_weight='balanced', max_depth=10,\n",
      "                       max_features='sqrt', n_estimators=25, random_state=20)\n",
      "2021-10-11 00:32:20 |\u001b[36m DEBUG    \u001b[0m| helpers.helpers_predator.models | X shape: (5086, 10)\n",
      "2021-10-11 00:32:20 |\u001b[36m DEBUG    \u001b[0m| helpers.helpers_predator.models | Current estimator: RandomForestClassifier(max_depth=5, max_features=None, n_estimators=200,\n",
      "                       random_state=21)\n",
      "2021-10-11 00:32:20 |\u001b[36m DEBUG    \u001b[0m| helpers.helpers_predator.models | X shape: (5086, 10)\n",
      "2021-10-11 00:32:20 |\u001b[36m DEBUG    \u001b[0m| helpers.helpers_predator.models | Current estimator: RandomForestClassifier(class_weight='balanced', max_depth=10, max_features=None,\n",
      "                       n_estimators=200, random_state=22)\n",
      "2021-10-11 00:32:20 |\u001b[36m DEBUG    \u001b[0m| helpers.helpers_predator.models | X shape: (5086, 10)\n",
      "2021-10-11 00:32:20 |\u001b[36m DEBUG    \u001b[0m| helpers.helpers_predator.models | Current estimator: RandomForestClassifier(class_weight='balanced', max_depth=5, max_features=None,\n",
      "                       min_samples_split=5, n_estimators=400, random_state=23)\n",
      "2021-10-11 00:32:20 |\u001b[36m DEBUG    \u001b[0m| helpers.helpers_predator.models | X shape: (5086, 10)\n",
      "2021-10-11 00:32:20 |\u001b[36m DEBUG    \u001b[0m| helpers.helpers_predator.models | Current estimator: RandomForestClassifier(max_depth=2, max_features=None, min_samples_split=5,\n",
      "                       n_estimators=25, random_state=24)\n",
      "2021-10-11 00:32:20 |\u001b[36m DEBUG    \u001b[0m| helpers.helpers_predator.models | X shape: (5086, 10)\n",
      "2021-10-11 00:32:20 |\u001b[36m DEBUG    \u001b[0m| helpers.helpers_predator.models | Current estimator: RandomForestClassifier(max_depth=2, n_estimators=400, random_state=25)\n",
      "2021-10-11 00:32:20 |\u001b[36m DEBUG    \u001b[0m| helpers.helpers_predator.models | X shape: (5086, 10)\n",
      "2021-10-11 00:32:20 |\u001b[36m DEBUG    \u001b[0m| helpers.helpers_predator.models | Current estimator: RandomForestClassifier(class_weight='balanced', max_depth=5,\n",
      "                       min_samples_split=5, random_state=26)\n",
      "2021-10-11 00:32:20 |\u001b[36m DEBUG    \u001b[0m| helpers.helpers_predator.models | X shape: (5086, 10)\n",
      "2021-10-11 00:32:21 |\u001b[36m DEBUG    \u001b[0m| helpers.helpers_predator.models | Current estimator: RandomForestClassifier(class_weight='balanced', max_depth=2,\n",
      "                       max_features='sqrt', n_estimators=200, random_state=27)\n",
      "2021-10-11 00:32:21 |\u001b[36m DEBUG    \u001b[0m| helpers.helpers_predator.models | X shape: (5086, 10)\n",
      "2021-10-11 00:32:21 |\u001b[36m DEBUG    \u001b[0m| helpers.helpers_predator.models | Current estimator: RandomForestClassifier(class_weight='balanced', max_depth=2, n_estimators=25,\n",
      "                       random_state=28)\n",
      "2021-10-11 00:32:21 |\u001b[36m DEBUG    \u001b[0m| helpers.helpers_predator.models | X shape: (5086, 10)\n",
      "2021-10-11 00:32:21 |\u001b[36m DEBUG    \u001b[0m| helpers.helpers_predator.models | Current estimator: RandomForestClassifier(max_depth=10, n_estimators=75, random_state=29)\n",
      "2021-10-11 00:32:21 |\u001b[36m DEBUG    \u001b[0m| helpers.helpers_predator.models | X shape: (5086, 10)\n",
      "2021-10-11 00:32:21 |\u001b[36m DEBUG    \u001b[0m| helpers.helpers_predator.models | Current estimator: RandomForestClassifier(class_weight='balanced', max_depth=2, max_features=None,\n",
      "                       min_samples_split=5, n_estimators=50, random_state=30)\n",
      "2021-10-11 00:32:21 |\u001b[36m DEBUG    \u001b[0m| helpers.helpers_predator.models | X shape: (5086, 10)\n",
      "2021-10-11 00:32:21 |\u001b[36m DEBUG    \u001b[0m| helpers.helpers_predator.models | Current estimator: RandomForestClassifier(max_depth=10, n_estimators=10, random_state=31)\n",
      "2021-10-11 00:32:21 |\u001b[36m DEBUG    \u001b[0m| helpers.helpers_predator.models | X shape: (5086, 10)\n",
      "2021-10-11 00:32:21 |\u001b[36m DEBUG    \u001b[0m| helpers.helpers_predator.models | Current estimator: RandomForestClassifier(max_depth=10, n_estimators=200, random_state=32)\n",
      "2021-10-11 00:32:21 |\u001b[36m DEBUG    \u001b[0m| helpers.helpers_predator.models | X shape: (5086, 10)\n",
      "2021-10-11 00:32:21 |\u001b[36m DEBUG    \u001b[0m| helpers.helpers_predator.models | Current estimator: RandomForestClassifier(class_weight='balanced', max_depth=2,\n",
      "                       max_features='sqrt', n_estimators=400, random_state=33)\n",
      "2021-10-11 00:32:21 |\u001b[36m DEBUG    \u001b[0m| helpers.helpers_predator.models | X shape: (5086, 10)\n",
      "2021-10-11 00:32:21 |\u001b[36m DEBUG    \u001b[0m| helpers.helpers_predator.models | Current estimator: RandomForestClassifier(max_depth=5, max_features=None, n_estimators=200,\n",
      "                       random_state=35)\n",
      "2021-10-11 00:32:21 |\u001b[36m DEBUG    \u001b[0m| helpers.helpers_predator.models | X shape: (5086, 10)\n",
      "2021-10-11 00:32:21 |\u001b[36m DEBUG    \u001b[0m| helpers.helpers_predator.models | Current estimator: RandomForestClassifier(max_depth=2, min_samples_split=5, n_estimators=10,\n",
      "                       random_state=36)\n",
      "2021-10-11 00:32:21 |\u001b[36m DEBUG    \u001b[0m| helpers.helpers_predator.models | X shape: (5086, 10)\n",
      "2021-10-11 00:32:21 |\u001b[36m DEBUG    \u001b[0m| helpers.helpers_predator.models | Current estimator: RandomForestClassifier(max_depth=2, max_features='sqrt', n_estimators=75,\n",
      "                       random_state=37)\n",
      "2021-10-11 00:32:21 |\u001b[36m DEBUG    \u001b[0m| helpers.helpers_predator.models | X shape: (5086, 10)\n",
      "2021-10-11 00:32:21 |\u001b[36m DEBUG    \u001b[0m| helpers.helpers_predator.models | Current estimator: RandomForestClassifier(max_depth=2, min_samples_split=5, random_state=39)\n",
      "2021-10-11 00:32:21 |\u001b[36m DEBUG    \u001b[0m| helpers.helpers_predator.models | X shape: (5086, 10)\n",
      "2021-10-11 00:32:21 |\u001b[36m DEBUG    \u001b[0m| helpers.helpers_predator.models | Current estimator: RandomForestClassifier(class_weight='balanced', max_depth=5, max_features=None,\n",
      "                       n_estimators=10, random_state=40)\n",
      "2021-10-11 00:32:21 |\u001b[36m DEBUG    \u001b[0m| helpers.helpers_predator.models | X shape: (5086, 10)\n",
      "2021-10-11 00:32:21 |\u001b[36m DEBUG    \u001b[0m| helpers.helpers_predator.models | Current estimator: RandomForestClassifier(class_weight='balanced', max_depth=5,\n",
      "                       max_features='sqrt', min_samples_split=5,\n",
      "                       n_estimators=200, random_state=43)\n",
      "2021-10-11 00:32:21 |\u001b[36m DEBUG    \u001b[0m| helpers.helpers_predator.models | X shape: (5086, 10)\n",
      "2021-10-11 00:32:21 |\u001b[36m DEBUG    \u001b[0m| helpers.helpers_predator.models | Current estimator: RandomForestClassifier(class_weight='balanced', max_depth=2,\n",
      "                       max_features='sqrt', n_estimators=400, random_state=44)\n",
      "2021-10-11 00:32:21 |\u001b[36m DEBUG    \u001b[0m| helpers.helpers_predator.models | X shape: (5086, 10)\n",
      "2021-10-11 00:32:21 |\u001b[36m DEBUG    \u001b[0m| helpers.helpers_predator.models | Current estimator: RandomForestClassifier(max_depth=5, max_features='sqrt', min_samples_split=5,\n",
      "                       n_estimators=10, random_state=46)\n",
      "2021-10-11 00:32:21 |\u001b[36m DEBUG    \u001b[0m| helpers.helpers_predator.models | X shape: (5086, 10)\n",
      "2021-10-11 00:32:21 |\u001b[36m DEBUG    \u001b[0m| helpers.helpers_predator.models | Current estimator: RandomForestClassifier(class_weight='balanced', max_depth=2, n_estimators=10,\n",
      "                       random_state=48)\n",
      "2021-10-11 00:32:21 |\u001b[36m DEBUG    \u001b[0m| helpers.helpers_predator.models | X shape: (5086, 10)\n",
      "2021-10-11 00:32:21 |\u001b[36m DEBUG    \u001b[0m| helpers.helpers_predator.models | Current estimator: RandomForestClassifier(max_depth=5, min_samples_split=5, n_estimators=25,\n",
      "                       random_state=50)\n",
      "2021-10-11 00:32:21 |\u001b[36m DEBUG    \u001b[0m| helpers.helpers_predator.models | X shape: (5086, 10)\n",
      "2021-10-11 00:32:21 |\u001b[36m DEBUG    \u001b[0m| helpers.helpers_predator.predictions | PredictionsHard\n",
      "2021-10-11 00:32:21 |\u001b[36m DEBUG    \u001b[0m| helpers.helpers_predator.predictions | Predicting on ov cohort ..\n",
      "2021-10-11 00:32:21 |\u001b[36m DEBUG    \u001b[0m| helpers.helpers_predator.predictions | Adding key `ov` to self.predictions\n"
     ]
    }
   ],
   "source": [
    "predator.predict(voting='hard')"
   ]
  },
  {
   "cell_type": "code",
   "execution_count": 7,
   "id": "575746f0-47ad-4823-868a-c50d34abcd64",
   "metadata": {},
   "outputs": [
    {
     "data": {
      "text/plain": [
       "[array([0, 0, 1, ..., 0, 0, 0], dtype=int64),\n",
       " array([0, 0, 1, ..., 0, 0, 0], dtype=int64),\n",
       " array([0, 0, 1, ..., 0, 0, 0], dtype=int64)]"
      ]
     },
     "execution_count": 7,
     "metadata": {},
     "output_type": "execute_result"
    }
   ],
   "source": [
    "# Predictions for first 10 experiment.\n",
    "predator.predictions[\"ov\"][:3]"
   ]
  },
  {
   "cell_type": "code",
   "execution_count": 8,
   "id": "f8ebc4ec-288a-425d-9666-e76477da03e1",
   "metadata": {},
   "outputs": [
    {
     "name": "stdout",
     "output_type": "stream",
     "text": [
      "2021-10-11 00:32:22 |\u001b[36m DEBUG    \u001b[0m| helpers.helpers_predator.predictions | Initializing value counts ..\n"
     ]
    },
    {
     "data": {
      "image/png": "[encoded data removed]",
      "text/plain": [
       "<Figure size 1080x360 with 1 Axes>"
      ]
     },
     "metadata": {},
     "output_type": "display_data"
    }
   ],
   "source": [
    "predator.predictions.plot_predictions_distributions(\"ov\")"
   ]
  },
  {
   "cell_type": "markdown",
   "id": "c7e6a31c-112e-4326-9695-170f0d351686",
   "metadata": {},
   "source": [
    "#### Predictions Post Processing"
   ]
  },
  {
   "cell_type": "markdown",
   "id": "1154368b-92d9-4f38-bb7a-e8df24832d26",
   "metadata": {},
   "source": [
    "Post processing of predictions involves following steps:"
   ]
  },
  {
   "cell_type": "markdown",
   "id": "1087d5dd-55a0-4f50-9f28-6205d8fd7f86",
   "metadata": {},
   "source": [
    "##### 1. Merging Predictions with SNV Data"
   ]
  },
  {
   "cell_type": "markdown",
   "id": "897fbfad-2af1-47c4-91b2-278910ebe11a",
   "metadata": {},
   "source": [
    "The prediction column is merged with SNV data for each experiment.\n",
    "\n",
    "$\\text{For each experiment } n: $\n",
    "\n",
    "$$\n",
    "  \\textit{(Prediction Merged Data)}_n = \\underbrace{[\\textit{Predictions}_n]}_\\text{0, 1 or \"NoVote\"} + \n",
    "      \\underbrace{[\\textit{Protein }] [\\textit{Mutation }] [\\textit{Interactor }]}_\\text{Cancer Data Triplets} + \\underbrace{[\\textit{Features }] }_\\text{Elaspic}\n",
    "$$\n"
   ]
  },
  {
   "cell_type": "markdown",
   "id": "250b052e-bafa-4f57-92f0-907700feac18",
   "metadata": {
    "tags": []
   },
   "source": [
    "##### 2. Convert to 1-isomer: `Interactor_UniProt_ID`"
   ]
  },
  {
   "cell_type": "markdown",
   "id": "886a6ad1-d8ff-4e01-be6e-d4accc48af84",
   "metadata": {},
   "source": [
    "$\\textit{Interactor_UniProt_ID}$ column contains isomer proteins. Here, we convert them into primary isoform representation (i.e. without dashes)."
   ]
  },
  {
   "cell_type": "markdown",
   "id": "d6454a4c-7d65-4a6d-b13c-81109332a588",
   "metadata": {},
   "source": [
    "| Interactor_UniProt_ID |\n",
    "--------------\n",
    "| P38936     |\n",
    "| P16473     |\n",
    "| P16473-2   |\n",
    "| P19793     |"
   ]
  },
  {
   "cell_type": "markdown",
   "id": "6dbc27ff-9cf6-48f8-81a5-a189354632d7",
   "metadata": {},
   "source": [
    "##### 3. Dropping Invalid Predictions"
   ]
  },
  {
   "cell_type": "markdown",
   "id": "e8cd9d26-1d3d-4ca7-a861-66e39d64d39a",
   "metadata": {},
   "source": [
    "Entries which predicted as both `Decreasing` and `Increasing+NoEff` are dropped."
   ]
  },
  {
   "cell_type": "markdown",
   "id": "534ad651-bd88-4f53-9eeb-4c107596e129",
   "metadata": {},
   "source": [
    "Due to having different features for the same $\\textit{(protein, mutation, interactor)}$ triplet from ELASPIC, the triplet $\\textit{(protein, mutation, interactor)}$ may be classified both 0 and 1. We drop such instances."
   ]
  },
  {
   "cell_type": "code",
   "execution_count": 9,
   "id": "23602ccf-41ff-4dc7-afec-39b9959b4588",
   "metadata": {
    "scrolled": true,
    "tags": []
   },
   "outputs": [
    {
     "name": "stdout",
     "output_type": "stream",
     "text": [
      "2021-10-11 00:32:23 |\u001b[36m DEBUG    \u001b[0m| helpers.helpers_predator.predictions | PredictionsHard\n",
      "2021-10-11 00:32:23 |\u001b[36m DEBUG    \u001b[0m| helpers.helpers_predator.predictions | Post processing predictions for cohort ov ..\n",
      "2021-10-11 00:32:23 |\u001b[36m DEBUG    \u001b[0m| helpers.helpers_predator.predictions | Merging predictions with ov cancer dataset ..\n",
      "2021-10-11 00:32:23 |\u001b[36m DEBUG    \u001b[0m| helpers.helpers_predator.predictions | Handling valid and invalid entries ..\n"
     ]
    },
    {
     "data": {
      "application/vnd.jupyter.widget-view+json": {
       "model_id": "2626fdff34374253be6e92e31fa9d7f5",
       "version_major": 2,
       "version_minor": 0
      },
      "text/plain": [
       "  0%|          | 0/37 [00:00<?, ?it/s]"
      ]
     },
     "metadata": {},
     "output_type": "display_data"
    },
    {
     "name": "stdout",
     "output_type": "stream",
     "text": [
      "2021-10-11 00:32:34 |\u001b[36m DEBUG    \u001b[0m| helpers.helpers_predator.predictions_utils | Removed entries first five rows (of 359): \n",
      "   PREDICTION PROTEIN MUTATION INTERACTOR\n",
      "0           0  O75175    Q684H     Q9NZN8\n",
      "1           1  O75175    Q684H     Q9NZN8\n",
      "2           1  O75175    Q684H     Q9NZN8\n",
      "3           1  O75175    Q684H     Q9NZN8\n",
      "4           1  O75175    Q684H     Q9NZN8\n",
      "2021-10-11 00:32:46 |\u001b[36m DEBUG    \u001b[0m| helpers.helpers_predator.predictions_utils | Removed entries first five rows (of 776): \n",
      "   PREDICTION PROTEIN MUTATION INTERACTOR\n",
      "0           0  O75175    Q684H     Q9NZN8\n",
      "1           0  O75175    Q684H     Q9NZN8\n",
      "2           0  O75175    Q684H     Q9NZN8\n",
      "3           1  O75175    Q684H     Q9NZN8\n",
      "4           0  O75175    Q684H     Q9NZN8\n",
      "2021-10-11 00:32:58 |\u001b[36m DEBUG    \u001b[0m| helpers.helpers_predator.predictions_utils | Removed entries first five rows (of 730): \n",
      "   PREDICTION PROTEIN MUTATION INTERACTOR\n",
      "0           1  P07332    N695H     P08581\n",
      "1           0  P07332    N695H     P08581\n",
      "2           0  Q14814     K31T     Q02078\n",
      "3           0  Q14814     K31T     Q06413\n",
      "4           0  Q14814     K31T     Q06413\n",
      "2021-10-11 00:33:11 |\u001b[36m DEBUG    \u001b[0m| helpers.helpers_predator.predictions_utils | Removed entries first five rows (of 734): \n",
      "   PREDICTION PROTEIN MUTATION INTERACTOR\n",
      "0           1  P07332    N695H     P08581\n",
      "1           0  P07332    N695H     P08581\n",
      "2           1  P07900    E205D     Q9UHD1\n",
      "3           0  P07900    E205D     Q9UHD1\n",
      "4           0  Q14814     K31T     Q02078\n",
      "2021-10-11 00:33:24 |\u001b[36m DEBUG    \u001b[0m| helpers.helpers_predator.predictions_utils | Removed entries first five rows (of 788): \n",
      "   PREDICTION PROTEIN MUTATION INTERACTOR\n",
      "0           0  P00742    I451M     P10646\n",
      "1           0  P00742    I451M     P10646\n",
      "2           0  P00742    I451M     P10646\n",
      "3           1  P00742    I451M     P10646\n",
      "4           1  P00742    I451M     P10646\n",
      "2021-10-11 00:33:37 |\u001b[36m DEBUG    \u001b[0m| helpers.helpers_predator.predictions_utils | Removed entries first five rows (of 286): \n",
      "   PREDICTION PROTEIN MUTATION INTERACTOR\n",
      "0           0  P04637    R248Q     P62993\n",
      "1           0  P04637    R248Q     P62993\n",
      "2           0  P04637    R248Q     P62993\n",
      "3           1  P04637    R248Q     P62993\n",
      "4           1  Q15019    T186N     Q99719\n",
      "2021-10-11 00:33:50 |\u001b[36m DEBUG    \u001b[0m| helpers.helpers_predator.predictions_utils | Removed entries first five rows (of 724): \n",
      "   PREDICTION PROTEIN MUTATION INTERACTOR\n",
      "0           0  Q14814     K31T     Q02078\n",
      "1           0  Q14814     K31T     Q06413\n",
      "2           0  Q14814     K31T     Q06413\n",
      "3           0  Q14814     K31T     Q06413\n",
      "4           0  Q14814     K31T     Q06413\n",
      "2021-10-11 00:34:01 |\u001b[36m DEBUG    \u001b[0m| helpers.helpers_predator.predictions_utils | Removed entries first five rows (of 560): \n",
      "   PREDICTION PROTEIN MUTATION INTERACTOR\n",
      "0           1  Q9Y6Q5    R251C     Q9BXS5\n",
      "1           0  Q9Y6Q5    R251C     Q9BXS5\n",
      "2           0  Q9HC16    R215P     Q8IUX4\n",
      "3           1  Q9HC16    R215P     Q8IUX4\n",
      "4           1  P15374    N223S     P0CG48\n",
      "2021-10-11 00:34:12 |\u001b[36m DEBUG    \u001b[0m| helpers.helpers_predator.predictions_utils | Removed entries first five rows (of 361): \n",
      "   PREDICTION PROTEIN MUTATION INTERACTOR\n",
      "0           0  Q14814     K31T     Q02078\n",
      "1           1  Q14814     K31T     Q02078\n",
      "2           0  Q14814     K31T     Q02078\n",
      "3           1  Q14814     K31T     Q02078\n",
      "4           0  Q14814     K31T     Q02078\n",
      "2021-10-11 00:34:23 |\u001b[36m DEBUG    \u001b[0m| helpers.helpers_predator.predictions_utils | Removed entries first five rows (of 710): \n",
      "   PREDICTION PROTEIN MUTATION INTERACTOR\n",
      "0           1  P00742    I451M     P10646\n",
      "1           0  P00742    I451M     P10646\n",
      "2           0  P00742    I451M     P10646\n",
      "3           0  P00742    I451M     P10646\n",
      "4           0  P00742    I451M     P10646\n",
      "2021-10-11 00:34:34 |\u001b[36m DEBUG    \u001b[0m| helpers.helpers_predator.predictions_utils | Removed entries first five rows (of 534): \n",
      "   PREDICTION PROTEIN MUTATION INTERACTOR\n",
      "0           1  P07332    N695H     P08581\n",
      "1           0  P07332    N695H     P08581\n",
      "2           1  Q14814     K31T     Q02078\n",
      "3           1  Q14814     K31T     Q02078\n",
      "4           0  Q14814     K31T     Q02078\n",
      "2021-10-11 00:34:45 |\u001b[36m DEBUG    \u001b[0m| helpers.helpers_predator.predictions_utils | Removed entries first five rows (of 580): \n",
      "   PREDICTION PROTEIN MUTATION INTERACTOR\n",
      "0           0  Q9NQ66    E539K     Q15147\n",
      "1           1  Q9NQ66    E539K     Q15147\n",
      "2           1  Q9NQ66    E539K     Q15147\n",
      "3           0  Q14814     K31T     Q02078\n",
      "4           0  Q14814     K31T     Q02078\n",
      "2021-10-11 00:34:55 |\u001b[36m DEBUG    \u001b[0m| helpers.helpers_predator.predictions_utils | Removed entries first five rows (of 624): \n",
      "   PREDICTION PROTEIN MUTATION INTERACTOR\n",
      "0           0  Q9NQ66    E539K     Q15147\n",
      "1           1  Q9NQ66    E539K     Q15147\n",
      "2           1  Q9NQ66    E539K     Q15147\n",
      "3           0  Q14814     K31T     Q02078\n",
      "4           0  Q14814     K31T     Q06413\n",
      "2021-10-11 00:35:07 |\u001b[36m DEBUG    \u001b[0m| helpers.helpers_predator.predictions_utils | Removed entries first five rows (of 654): \n",
      "   PREDICTION PROTEIN MUTATION INTERACTOR\n",
      "0           1  P07332    N695H     P08581\n",
      "1           0  P07332    N695H     P08581\n",
      "2           0  Q9NQ66    E539K     Q15147\n",
      "3           1  Q9NQ66    E539K     Q15147\n",
      "4           1  Q9NQ66    E539K     Q15147\n",
      "2021-10-11 00:35:22 |\u001b[36m DEBUG    \u001b[0m| helpers.helpers_predator.predictions_utils | Removed entries first five rows (of 701): \n",
      "   PREDICTION PROTEIN MUTATION INTERACTOR\n",
      "0           0  Q14814     K31T     Q02078\n",
      "1           0  Q14814     K31T     Q06413\n",
      "2           0  Q14814     K31T     Q06413\n",
      "3           0  Q14814     K31T     Q06413\n",
      "4           0  Q14814     K31T     Q06413\n",
      "2021-10-11 00:35:33 |\u001b[36m DEBUG    \u001b[0m| helpers.helpers_predator.predictions_utils | Removed entries first five rows (of 623): \n",
      "   PREDICTION PROTEIN MUTATION INTERACTOR\n",
      "0           1  P07332    N695H     P08581\n",
      "1           0  P07332    N695H     P08581\n",
      "2           1  P07900    E205D     Q9UHD1\n",
      "3           0  P07900    E205D     Q9UHD1\n",
      "4           0  Q14814     K31T     Q02078\n",
      "2021-10-11 00:35:44 |\u001b[36m DEBUG    \u001b[0m| helpers.helpers_predator.predictions_utils | Removed entries first five rows (of 630): \n",
      "   PREDICTION PROTEIN MUTATION INTERACTOR\n",
      "0           1  P07332    N695H     P08581\n",
      "1           0  P07332    N695H     P08581\n",
      "2           0  Q14814     K31T     Q02078\n",
      "3           0  Q14814     K31T     Q06413\n",
      "4           0  Q14814     K31T     Q06413\n",
      "2021-10-11 00:35:56 |\u001b[36m DEBUG    \u001b[0m| helpers.helpers_predator.predictions_utils | Removed entries first five rows (of 338): \n",
      "   PREDICTION PROTEIN MUTATION INTERACTOR\n",
      "0           0  P00742    I451M     P10646\n",
      "1           0  P00742    I451M     P10646\n",
      "2           0  P00742    I451M     P10646\n",
      "3           1  P00742    I451M     P10646\n",
      "4           1  P00742    I451M     P10646\n",
      "2021-10-11 00:36:09 |\u001b[36m DEBUG    \u001b[0m| helpers.helpers_predator.predictions_utils | Removed entries first five rows (of 326): \n",
      "   PREDICTION PROTEIN MUTATION INTERACTOR\n",
      "0           0  P04637    R248Q     P62993\n",
      "1           0  P04637    R248Q     P62993\n",
      "2           0  P04637    R248Q     P62993\n",
      "3           1  P04637    R248Q     P62993\n",
      "4           1  Q15019    T186N     Q99719\n",
      "2021-10-11 00:36:20 |\u001b[36m DEBUG    \u001b[0m| helpers.helpers_predator.predictions_utils | Removed entries first five rows (of 651): \n",
      "   PREDICTION PROTEIN MUTATION INTERACTOR\n",
      "0           1  P07332    N695H     P08581\n",
      "1           0  P07332    N695H     P08581\n",
      "2           0  Q14814     K31T     Q02078\n",
      "3           0  Q14814     K31T     Q06413\n",
      "4           0  Q14814     K31T     Q06413\n",
      "2021-10-11 00:36:31 |\u001b[36m DEBUG    \u001b[0m| helpers.helpers_predator.predictions_utils | Removed entries first five rows (of 563): \n",
      "   PREDICTION PROTEIN MUTATION INTERACTOR\n",
      "0           1  P07332    N695H     P08581\n",
      "1           0  P07332    N695H     P08581\n",
      "2           0  Q14814     K31T     Q02078\n",
      "3           1  Q14814     K31T     Q02078\n",
      "4           0  Q14814     K31T     Q02078\n",
      "2021-10-11 00:36:42 |\u001b[36m DEBUG    \u001b[0m| helpers.helpers_predator.predictions_utils | Removed entries first five rows (of 707): \n",
      "   PREDICTION PROTEIN MUTATION INTERACTOR\n",
      "0           0  P08134     D59E     P52565\n",
      "1           1  P08134     D59E     P52565\n",
      "2           0  O75175    Q684H     Q9NZN8\n",
      "3           0  O75175    Q684H     Q9NZN8\n",
      "4           0  O75175    Q684H     Q9NZN8\n",
      "2021-10-11 00:36:53 |\u001b[36m DEBUG    \u001b[0m| helpers.helpers_predator.predictions_utils | Removed entries first five rows (of 732): \n",
      "   PREDICTION PROTEIN MUTATION INTERACTOR\n",
      "0           1  P07332    N695H     P08581\n",
      "1           0  P07332    N695H     P08581\n",
      "2           0  Q9NRM7    K672I     Q96GD4\n",
      "3           1  Q9NRM7    K672I     Q96GD4\n",
      "4           0  Q9NRM7    K672I     Q96GD4\n",
      "2021-10-11 00:37:04 |\u001b[36m DEBUG    \u001b[0m| helpers.helpers_predator.predictions_utils | Removed entries first five rows (of 365): \n",
      "   PREDICTION PROTEIN MUTATION INTERACTOR\n",
      "0           1  P07332    N695H     P08581\n",
      "1           0  P07332    N695H     P08581\n",
      "2           0  Q14814     K31T     Q02078\n",
      "3           0  Q14814     K31T     Q06413\n",
      "4           0  Q14814     K31T     Q06413\n",
      "2021-10-11 00:37:16 |\u001b[36m DEBUG    \u001b[0m| helpers.helpers_predator.predictions_utils | Removed entries first five rows (of 717): \n",
      "   PREDICTION PROTEIN MUTATION INTERACTOR\n",
      "0           0  Q9NQ66    E539K     Q15147\n",
      "1           1  Q9NQ66    E539K     Q15147\n",
      "2           1  Q9NQ66    E539K     Q15147\n",
      "3           1  P07900    E205D     Q9UHD1\n",
      "4           0  P07900    E205D     Q9UHD1\n",
      "2021-10-11 00:37:27 |\u001b[36m DEBUG    \u001b[0m| helpers.helpers_predator.predictions_utils | Removed entries first five rows (of 633): \n",
      "   PREDICTION PROTEIN MUTATION INTERACTOR\n",
      "0           1  P07332    N695H     P08581\n",
      "1           0  P07332    N695H     P08581\n",
      "2           0  Q14814     K31T     Q02078\n",
      "3           0  Q14814     K31T     Q06413\n",
      "4           0  Q14814     K31T     Q06413\n",
      "2021-10-11 00:37:38 |\u001b[36m DEBUG    \u001b[0m| helpers.helpers_predator.predictions_utils | Removed entries first five rows (of 356): \n",
      "   PREDICTION PROTEIN MUTATION INTERACTOR\n",
      "0           1  P62805     N65D     Q9UER7\n",
      "1           0  P62805     N65D     Q9UER7\n",
      "2           1  P62805     N65D     Q9UER7\n",
      "3           0  P04637    H179Y     Q9H9B1\n",
      "4           1  P04637    H179Y     Q9H9B1\n",
      "2021-10-11 00:37:50 |\u001b[36m DEBUG    \u001b[0m| helpers.helpers_predator.predictions_utils | Removed entries first five rows (of 597): \n",
      "   PREDICTION PROTEIN MUTATION INTERACTOR\n",
      "0           1  P07332    N695H     P08581\n",
      "1           0  P07332    N695H     P08581\n",
      "2           1  Q9Y6Q5    R251C     Q9BXS5\n",
      "3           0  Q9Y6Q5    R251C     Q9BXS5\n",
      "4           0  Q14814     K31T     Q02078\n",
      "2021-10-11 00:38:01 |\u001b[36m DEBUG    \u001b[0m| helpers.helpers_predator.predictions_utils | Removed entries first five rows (of 517): \n",
      "   PREDICTION PROTEIN MUTATION INTERACTOR\n",
      "0           0  P04637    R248Q     P62993\n",
      "1           0  P04637    R248Q     P62993\n",
      "2           1  P04637    R248Q     P62993\n",
      "3           1  P04637    R248Q     P62993\n",
      "4           0  Q9HC16    R215P     Q8IUX4\n",
      "2021-10-11 00:38:12 |\u001b[36m DEBUG    \u001b[0m| helpers.helpers_predator.predictions_utils | Removed entries first five rows (of 224): \n",
      "   PREDICTION PROTEIN MUTATION INTERACTOR\n",
      "0           1  Q15019    T186N     Q99719\n",
      "1           0  Q15019    T186N     Q99719\n",
      "2           1  Q15019    T186N     Q9UHD8\n",
      "3           1  Q15019    T186N     Q9UHD8\n",
      "4           1  Q15019    T186N     Q9UHD8\n",
      "2021-10-11 00:38:24 |\u001b[36m DEBUG    \u001b[0m| helpers.helpers_predator.predictions_utils | Removed entries first five rows (of 397): \n",
      "   PREDICTION PROTEIN MUTATION INTERACTOR\n",
      "0           1  P00742    I451M     P10646\n",
      "1           0  P00742    I451M     P10646\n",
      "2           0  P00742    I451M     P10646\n",
      "3           1  P00742    I451M     P10646\n",
      "4           1  P00742    I451M     P10646\n",
      "2021-10-11 00:38:35 |\u001b[36m DEBUG    \u001b[0m| helpers.helpers_predator.predictions_utils | Removed entries first five rows (of 788): \n",
      "   PREDICTION PROTEIN MUTATION INTERACTOR\n",
      "0           0  O75175    Q684H     Q9NZN8\n",
      "1           0  O75175    Q684H     Q9NZN8\n",
      "2           0  O75175    Q684H     Q9NZN8\n",
      "3           1  O75175    Q684H     Q9NZN8\n",
      "4           0  O75175    Q684H     Q9NZN8\n",
      "2021-10-11 00:38:46 |\u001b[36m DEBUG    \u001b[0m| helpers.helpers_predator.predictions_utils | Removed entries first five rows (of 538): \n",
      "   PREDICTION PROTEIN MUTATION INTERACTOR\n",
      "0           1  P00742    I451M     P10646\n",
      "1           0  P00742    I451M     P10646\n",
      "2           0  P00742    I451M     P10646\n",
      "3           0  P00742    I451M     P10646\n",
      "4           0  P00742    I451M     P10646\n",
      "2021-10-11 00:38:57 |\u001b[36m DEBUG    \u001b[0m| helpers.helpers_predator.predictions_utils | Removed entries first five rows (of 518): \n",
      "   PREDICTION PROTEIN MUTATION INTERACTOR\n",
      "0           0  Q14814     K31T     Q02078\n",
      "1           0  Q14814     K31T     Q06413\n",
      "2           0  Q14814     K31T     Q06413\n",
      "3           0  Q14814     K31T     Q06413\n",
      "4           0  Q14814     K31T     Q06413\n",
      "2021-10-11 00:39:08 |\u001b[36m DEBUG    \u001b[0m| helpers.helpers_predator.predictions_utils | Removed entries first five rows (of 902): \n",
      "   PREDICTION PROTEIN MUTATION INTERACTOR\n",
      "0           0  Q9NQ66    E539K     Q15147\n",
      "1           1  Q9NQ66    E539K     Q15147\n",
      "2           1  Q9NQ66    E539K     Q15147\n",
      "3           1  Q9NRM7    K672I     Q96GD4\n",
      "4           0  Q9NRM7    K672I     Q96GD4\n",
      "2021-10-11 00:39:19 |\u001b[36m DEBUG    \u001b[0m| helpers.helpers_predator.predictions_utils | Removed entries first five rows (of 469): \n",
      "   PREDICTION PROTEIN MUTATION INTERACTOR\n",
      "0           0  P34897    F501V     P34896\n",
      "1           1  P34897    F501V     P34896\n",
      "2           1  P62805     N65D     Q9UER7\n",
      "3           0  P62805     N65D     Q9UER7\n",
      "4           1  P62805     N65D     Q9UER7\n",
      "2021-10-11 00:39:31 |\u001b[36m DEBUG    \u001b[0m| helpers.helpers_predator.predictions_utils | Removed entries first five rows (of 547): \n",
      "   PREDICTION PROTEIN MUTATION INTERACTOR\n",
      "0           1  P07332    N695H     P08581\n",
      "1           0  P07332    N695H     P08581\n",
      "2           1  P07900    E205D     Q9UHD1\n",
      "3           0  P07900    E205D     Q9UHD1\n",
      "4           0  Q14814     K31T     Q02078\n",
      "2021-10-11 00:39:31 |\u001b[36m DEBUG    \u001b[0m| helpers.helpers_predator.predictions | Preparing finalized prediction datasets for ov ..\n",
      "2021-10-11 00:39:31 |\u001b[36m DEBUG    \u001b[0m| helpers.helpers_predator.predictions | Post processing completed for ov.\n"
     ]
    }
   ],
   "source": [
    "predator.predictions_post_process()"
   ]
  },
  {
   "cell_type": "code",
   "execution_count": 10,
   "id": "9b199266-30fa-4d19-aea7-e646f074241b",
   "metadata": {},
   "outputs": [
    {
     "name": "stdout",
     "output_type": "stream",
     "text": [
      "\u001b[36mData dimensions: (5086, 104)\u001b[0m\n"
     ]
    },
    {
     "data": {
      "text/html": [
       "<div>\n",
       "<style scoped>\n",
       "    .dataframe tbody tr th:only-of-type {\n",
       "        vertical-align: middle;\n",
       "    }\n",
       "\n",
       "    .dataframe tbody tr th {\n",
       "        vertical-align: top;\n",
       "    }\n",
       "\n",
       "    .dataframe thead th {\n",
       "        text-align: right;\n",
       "    }\n",
       "</style>\n",
       "<table border=\"1\" class=\"dataframe\">\n",
       "  <thead>\n",
       "    <tr style=\"text-align: right;\">\n",
       "      <th></th>\n",
       "      <th>Prediction</th>\n",
       "      <th>Input_identifier</th>\n",
       "      <th>UniProt_ID</th>\n",
       "      <th>Mutation</th>\n",
       "      <th>Status</th>\n",
       "      <th>Type</th>\n",
       "      <th>COSMIC_mut_ID</th>\n",
       "      <th>ClinVar_mut_ID</th>\n",
       "      <th>UniProt_mut_ID</th>\n",
       "      <th>Domain_name</th>\n",
       "      <th>...</th>\n",
       "      <th>number_of_residues_mut</th>\n",
       "      <th>IntraclashesEnergy1_wt</th>\n",
       "      <th>IntraclashesEnergy1_mut</th>\n",
       "      <th>IntraclashesEnergy2_wt</th>\n",
       "      <th>IntraclashesEnergy2_mut</th>\n",
       "      <th>Interface_hydrophobic_area</th>\n",
       "      <th>Interface_hydrophilic_area</th>\n",
       "      <th>Interface_total_area</th>\n",
       "      <th>Interface_contact_distance_wt</th>\n",
       "      <th>Interface_contact_distance_mut</th>\n",
       "    </tr>\n",
       "  </thead>\n",
       "  <tbody>\n",
       "    <tr>\n",
       "      <th>0</th>\n",
       "      <td>0</td>\n",
       "      <td>P08134</td>\n",
       "      <td>P08134</td>\n",
       "      <td>D59E</td>\n",
       "      <td>done</td>\n",
       "      <td>interface</td>\n",
       "      <td>COSM72427</td>\n",
       "      <td>-</td>\n",
       "      <td>-</td>\n",
       "      <td>Ras</td>\n",
       "      <td>...</td>\n",
       "      <td>388.0</td>\n",
       "      <td>53.3423</td>\n",
       "      <td>55.3148</td>\n",
       "      <td>37.8150</td>\n",
       "      <td>37.8150</td>\n",
       "      <td>719.095</td>\n",
       "      <td>461.785</td>\n",
       "      <td>1180.88</td>\n",
       "      <td>3.18062</td>\n",
       "      <td>3.18062</td>\n",
       "    </tr>\n",
       "    <tr>\n",
       "      <th>1</th>\n",
       "      <td>0</td>\n",
       "      <td>P08134</td>\n",
       "      <td>P08134</td>\n",
       "      <td>D59E</td>\n",
       "      <td>done</td>\n",
       "      <td>interface</td>\n",
       "      <td>COSM72427</td>\n",
       "      <td>-</td>\n",
       "      <td>-</td>\n",
       "      <td>Ras</td>\n",
       "      <td>...</td>\n",
       "      <td>344.0</td>\n",
       "      <td>62.3140</td>\n",
       "      <td>63.0691</td>\n",
       "      <td>32.5038</td>\n",
       "      <td>32.5038</td>\n",
       "      <td>598.71</td>\n",
       "      <td>417.74</td>\n",
       "      <td>1016.46</td>\n",
       "      <td>3.80414</td>\n",
       "      <td>3.80414</td>\n",
       "    </tr>\n",
       "    <tr>\n",
       "      <th>2</th>\n",
       "      <td>1</td>\n",
       "      <td>P62993</td>\n",
       "      <td>P62993</td>\n",
       "      <td>A3V</td>\n",
       "      <td>done</td>\n",
       "      <td>interface</td>\n",
       "      <td>-</td>\n",
       "      <td>-</td>\n",
       "      <td>-</td>\n",
       "      <td>SH3_1</td>\n",
       "      <td>...</td>\n",
       "      <td>280.0</td>\n",
       "      <td>23.2774</td>\n",
       "      <td>24.5177</td>\n",
       "      <td>122.5120</td>\n",
       "      <td>122.5120</td>\n",
       "      <td>170.81</td>\n",
       "      <td>120.515</td>\n",
       "      <td>291.325</td>\n",
       "      <td>4.63364</td>\n",
       "      <td>4.63364</td>\n",
       "    </tr>\n",
       "  </tbody>\n",
       "</table>\n",
       "<p>3 rows × 104 columns</p>\n",
       "</div>"
      ],
      "text/plain": [
       "   Prediction Input_identifier UniProt_ID Mutation Status       Type  \\\n",
       "0           0           P08134     P08134     D59E   done  interface   \n",
       "1           0           P08134     P08134     D59E   done  interface   \n",
       "2           1           P62993     P62993      A3V   done  interface   \n",
       "\n",
       "  COSMIC_mut_ID ClinVar_mut_ID UniProt_mut_ID Domain_name  ...  \\\n",
       "0     COSM72427              -              -         Ras  ...   \n",
       "1     COSM72427              -              -         Ras  ...   \n",
       "2             -              -              -       SH3_1  ...   \n",
       "\n",
       "  number_of_residues_mut IntraclashesEnergy1_wt IntraclashesEnergy1_mut  \\\n",
       "0                  388.0                53.3423                 55.3148   \n",
       "1                  344.0                62.3140                 63.0691   \n",
       "2                  280.0                23.2774                 24.5177   \n",
       "\n",
       "   IntraclashesEnergy2_wt  IntraclashesEnergy2_mut Interface_hydrophobic_area  \\\n",
       "0                 37.8150                  37.8150                    719.095   \n",
       "1                 32.5038                  32.5038                     598.71   \n",
       "2                122.5120                 122.5120                     170.81   \n",
       "\n",
       "  Interface_hydrophilic_area Interface_total_area  \\\n",
       "0                    461.785              1180.88   \n",
       "1                     417.74              1016.46   \n",
       "2                    120.515              291.325   \n",
       "\n",
       "  Interface_contact_distance_wt Interface_contact_distance_mut  \n",
       "0                       3.18062                        3.18062  \n",
       "1                       3.80414                        3.80414  \n",
       "2                       4.63364                        4.63364  \n",
       "\n",
       "[3 rows x 104 columns]"
      ]
     },
     "metadata": {},
     "output_type": "display_data"
    }
   ],
   "source": [
    "display_data(predator.predictions[\"ov_predicted_datasets\"][0])"
   ]
  },
  {
   "cell_type": "code",
   "execution_count": 11,
   "id": "c98a4d19-2d34-4529-9102-227fc8a87d9a",
   "metadata": {},
   "outputs": [
    {
     "data": {
      "image/png": "[encoded data removed]",
      "text/plain": [
       "<Figure size 1080x360 with 1 Axes>"
      ]
     },
     "metadata": {},
     "output_type": "display_data"
    }
   ],
   "source": [
    "predator.predictions.plot_distribution_valid_vs_invalid(\"ov\")"
   ]
  },
  {
   "cell_type": "code",
   "execution_count": 12,
   "id": "47b7e1d1-fa11-42ff-b369-8e41fd6d0971",
   "metadata": {},
   "outputs": [
    {
     "name": "stdout",
     "output_type": "stream",
     "text": [
      "2021-10-11 00:39:32 |\u001b[36m DEBUG    \u001b[0m| helpers.helpers_predator.predictions | Plotting number of finalized predictions per model.\n",
      "Note that following plot shows the number of (protein, mutation, interactor) triplets which had valid prediction.\n"
     ]
    },
    {
     "data": {
      "image/png": "[encoded data removed]",
      "text/plain": [
       "<Figure size 1080x360 with 1 Axes>"
      ]
     },
     "metadata": {},
     "output_type": "display_data"
    }
   ],
   "source": [
    "predator.predictions.plot_num_finalized_predictions(\"ov\")"
   ]
  },
  {
   "cell_type": "code",
   "execution_count": 13,
   "id": "c81b9a04-65a3-43ec-bd76-49a252f6445d",
   "metadata": {
    "scrolled": true,
    "tags": []
   },
   "outputs": [
    {
     "name": "stdout",
     "output_type": "stream",
     "text": [
      "2021-10-11 00:39:32 |\u001b[36m DEBUG    \u001b[0m| helpers.helpers_predator.predictions | PredictionsHard\n",
      "2021-10-11 00:39:32 |\u001b[36m DEBUG    \u001b[0m| helpers.helpers_predator.predictions | Preparing ensemble prediction data for ov ..\n"
     ]
    },
    {
     "data": {
      "application/vnd.jupyter.widget-view+json": {
       "model_id": "c6a7fa880f3f41618f394ec936f2fb47",
       "version_major": 2,
       "version_minor": 0
      },
      "text/plain": [
       "  0%|          | 0/2578 [00:00<?, ?it/s]"
      ]
     },
     "metadata": {},
     "output_type": "display_data"
    },
    {
     "name": "stdout",
     "output_type": "stream",
     "text": [
      "2021-10-11 00:41:59 |\u001b[36m DEBUG    \u001b[0m| helpers.helpers_predator.predictions | Ensemble prediction data for ov is prepared.\n",
      "2021-10-11 00:41:59 |\u001b[36m DEBUG    \u001b[0m| helpers.helpers_predator.predictions | Resulting prediction data is available for ov.\n",
      "Accessible from predictions.['ov_prediction_results']\n",
      "2021-10-11 00:41:59 |\u001b[36m DEBUG    \u001b[0m| helpers.helpers_predator.predictions | Resulting prediction data (no_votes dropped) is available for ov.\n",
      "Accessible from predictions.['ov_prediction_results_no_votes_dropped']\n"
     ]
    }
   ],
   "source": [
    "predator.prepare_ensemble_prediction_data()"
   ]
  },
  {
   "cell_type": "code",
   "execution_count": 14,
   "id": "4f9eae38-ddf4-4856-9977-4c27c8a788da",
   "metadata": {},
   "outputs": [
    {
     "name": "stdout",
     "output_type": "stream",
     "text": [
      "\u001b[36mData dimensions: (2578, 7)\u001b[0m\n"
     ]
    },
    {
     "data": {
      "text/html": [
       "<div>\n",
       "<style scoped>\n",
       "    .dataframe tbody tr th:only-of-type {\n",
       "        vertical-align: middle;\n",
       "    }\n",
       "\n",
       "    .dataframe tbody tr th {\n",
       "        vertical-align: top;\n",
       "    }\n",
       "\n",
       "    .dataframe thead th {\n",
       "        text-align: right;\n",
       "    }\n",
       "</style>\n",
       "<table border=\"1\" class=\"dataframe\">\n",
       "  <thead>\n",
       "    <tr style=\"text-align: right;\">\n",
       "      <th></th>\n",
       "      <th>UniProt_ID</th>\n",
       "      <th>Mutation</th>\n",
       "      <th>Interactor_UniProt_ID</th>\n",
       "      <th>Num_preds_0</th>\n",
       "      <th>Num_preds_1</th>\n",
       "      <th>Num_preds_NO_VOTE</th>\n",
       "      <th>VOTED_PREDICTION</th>\n",
       "    </tr>\n",
       "  </thead>\n",
       "  <tbody>\n",
       "    <tr>\n",
       "      <th>0</th>\n",
       "      <td>P08134</td>\n",
       "      <td>D59E</td>\n",
       "      <td>P52565</td>\n",
       "      <td>36</td>\n",
       "      <td>0</td>\n",
       "      <td>1</td>\n",
       "      <td>0</td>\n",
       "    </tr>\n",
       "    <tr>\n",
       "      <th>1</th>\n",
       "      <td>P62993</td>\n",
       "      <td>A3V</td>\n",
       "      <td>Q9H8V3</td>\n",
       "      <td>24</td>\n",
       "      <td>13</td>\n",
       "      <td>0</td>\n",
       "      <td>0</td>\n",
       "    </tr>\n",
       "    <tr>\n",
       "      <th>2</th>\n",
       "      <td>P62993</td>\n",
       "      <td>A3V</td>\n",
       "      <td>Q14155</td>\n",
       "      <td>17</td>\n",
       "      <td>20</td>\n",
       "      <td>0</td>\n",
       "      <td>1</td>\n",
       "    </tr>\n",
       "  </tbody>\n",
       "</table>\n",
       "</div>"
      ],
      "text/plain": [
       "  UniProt_ID Mutation Interactor_UniProt_ID  Num_preds_0  Num_preds_1  \\\n",
       "0     P08134     D59E                P52565           36            0   \n",
       "1     P62993      A3V                Q9H8V3           24           13   \n",
       "2     P62993      A3V                Q14155           17           20   \n",
       "\n",
       "   Num_preds_NO_VOTE VOTED_PREDICTION  \n",
       "0                  1                0  \n",
       "1                  0                0  \n",
       "2                  0                1  "
      ]
     },
     "metadata": {},
     "output_type": "display_data"
    }
   ],
   "source": [
    "display_data(predator.predictions[\"ov_ensemble_prediction_data\"])"
   ]
  },
  {
   "cell_type": "code",
   "execution_count": 15,
   "id": "50b403be-c1e1-418b-af90-9704641988ce",
   "metadata": {},
   "outputs": [
    {
     "name": "stdout",
     "output_type": "stream",
     "text": [
      "\u001b[36mData dimensions: (5086, 103)\u001b[0m\n"
     ]
    },
    {
     "data": {
      "text/html": [
       "<div>\n",
       "<style scoped>\n",
       "    .dataframe tbody tr th:only-of-type {\n",
       "        vertical-align: middle;\n",
       "    }\n",
       "\n",
       "    .dataframe tbody tr th {\n",
       "        vertical-align: top;\n",
       "    }\n",
       "\n",
       "    .dataframe thead th {\n",
       "        text-align: right;\n",
       "    }\n",
       "</style>\n",
       "<table border=\"1\" class=\"dataframe\">\n",
       "  <thead>\n",
       "    <tr style=\"text-align: right;\">\n",
       "      <th></th>\n",
       "      <th>Input_identifier</th>\n",
       "      <th>UniProt_ID</th>\n",
       "      <th>Mutation</th>\n",
       "      <th>Status</th>\n",
       "      <th>Type</th>\n",
       "      <th>COSMIC_mut_ID</th>\n",
       "      <th>ClinVar_mut_ID</th>\n",
       "      <th>UniProt_mut_ID</th>\n",
       "      <th>Domain_name</th>\n",
       "      <th>Domain_clan</th>\n",
       "      <th>...</th>\n",
       "      <th>number_of_residues_mut</th>\n",
       "      <th>IntraclashesEnergy1_wt</th>\n",
       "      <th>IntraclashesEnergy1_mut</th>\n",
       "      <th>IntraclashesEnergy2_wt</th>\n",
       "      <th>IntraclashesEnergy2_mut</th>\n",
       "      <th>Interface_hydrophobic_area</th>\n",
       "      <th>Interface_hydrophilic_area</th>\n",
       "      <th>Interface_total_area</th>\n",
       "      <th>Interface_contact_distance_wt</th>\n",
       "      <th>Interface_contact_distance_mut</th>\n",
       "    </tr>\n",
       "  </thead>\n",
       "  <tbody>\n",
       "    <tr>\n",
       "      <th>0</th>\n",
       "      <td>P08134</td>\n",
       "      <td>P08134</td>\n",
       "      <td>D59E</td>\n",
       "      <td>done</td>\n",
       "      <td>interface</td>\n",
       "      <td>COSM72427</td>\n",
       "      <td>-</td>\n",
       "      <td>-</td>\n",
       "      <td>Ras</td>\n",
       "      <td>Ras</td>\n",
       "      <td>...</td>\n",
       "      <td>388.0</td>\n",
       "      <td>53.3423</td>\n",
       "      <td>55.3148</td>\n",
       "      <td>37.8150</td>\n",
       "      <td>37.8150</td>\n",
       "      <td>719.095</td>\n",
       "      <td>461.785</td>\n",
       "      <td>1180.88</td>\n",
       "      <td>3.18062</td>\n",
       "      <td>3.18062</td>\n",
       "    </tr>\n",
       "    <tr>\n",
       "      <th>1</th>\n",
       "      <td>P08134</td>\n",
       "      <td>P08134</td>\n",
       "      <td>D59E</td>\n",
       "      <td>done</td>\n",
       "      <td>interface</td>\n",
       "      <td>COSM72427</td>\n",
       "      <td>-</td>\n",
       "      <td>-</td>\n",
       "      <td>Ras</td>\n",
       "      <td>Ras</td>\n",
       "      <td>...</td>\n",
       "      <td>344.0</td>\n",
       "      <td>62.3140</td>\n",
       "      <td>63.0691</td>\n",
       "      <td>32.5038</td>\n",
       "      <td>32.5038</td>\n",
       "      <td>598.71</td>\n",
       "      <td>417.74</td>\n",
       "      <td>1016.46</td>\n",
       "      <td>3.80414</td>\n",
       "      <td>3.80414</td>\n",
       "    </tr>\n",
       "    <tr>\n",
       "      <th>2</th>\n",
       "      <td>P62993</td>\n",
       "      <td>P62993</td>\n",
       "      <td>A3V</td>\n",
       "      <td>done</td>\n",
       "      <td>interface</td>\n",
       "      <td>-</td>\n",
       "      <td>-</td>\n",
       "      <td>-</td>\n",
       "      <td>SH3_1</td>\n",
       "      <td>SH3_1</td>\n",
       "      <td>...</td>\n",
       "      <td>280.0</td>\n",
       "      <td>23.2774</td>\n",
       "      <td>24.5177</td>\n",
       "      <td>122.5120</td>\n",
       "      <td>122.5120</td>\n",
       "      <td>170.81</td>\n",
       "      <td>120.515</td>\n",
       "      <td>291.325</td>\n",
       "      <td>4.63364</td>\n",
       "      <td>4.63364</td>\n",
       "    </tr>\n",
       "  </tbody>\n",
       "</table>\n",
       "<p>3 rows × 103 columns</p>\n",
       "</div>"
      ],
      "text/plain": [
       "  Input_identifier UniProt_ID Mutation Status       Type COSMIC_mut_ID  \\\n",
       "0           P08134     P08134     D59E   done  interface     COSM72427   \n",
       "1           P08134     P08134     D59E   done  interface     COSM72427   \n",
       "2           P62993     P62993      A3V   done  interface             -   \n",
       "\n",
       "  ClinVar_mut_ID UniProt_mut_ID Domain_name Domain_clan  ...  \\\n",
       "0              -              -         Ras         Ras  ...   \n",
       "1              -              -         Ras         Ras  ...   \n",
       "2              -              -       SH3_1       SH3_1  ...   \n",
       "\n",
       "  number_of_residues_mut IntraclashesEnergy1_wt  IntraclashesEnergy1_mut  \\\n",
       "0                  388.0                53.3423                  55.3148   \n",
       "1                  344.0                62.3140                  63.0691   \n",
       "2                  280.0                23.2774                  24.5177   \n",
       "\n",
       "   IntraclashesEnergy2_wt IntraclashesEnergy2_mut Interface_hydrophobic_area  \\\n",
       "0                 37.8150                 37.8150                    719.095   \n",
       "1                 32.5038                 32.5038                     598.71   \n",
       "2                122.5120                122.5120                     170.81   \n",
       "\n",
       "  Interface_hydrophilic_area Interface_total_area  \\\n",
       "0                    461.785              1180.88   \n",
       "1                     417.74              1016.46   \n",
       "2                    120.515              291.325   \n",
       "\n",
       "  Interface_contact_distance_wt  Interface_contact_distance_mut  \n",
       "0                       3.18062                         3.18062  \n",
       "1                       3.80414                         3.80414  \n",
       "2                       4.63364                         4.63364  \n",
       "\n",
       "[3 rows x 103 columns]"
      ]
     },
     "metadata": {},
     "output_type": "display_data"
    }
   ],
   "source": [
    "display_data(predator.data_materials[\"ov\"])"
   ]
  },
  {
   "cell_type": "code",
   "execution_count": 16,
   "id": "92baf990-79ae-4e3f-a5fa-c0d6c1173150",
   "metadata": {},
   "outputs": [
    {
     "name": "stdout",
     "output_type": "stream",
     "text": [
      "\u001b[36mData dimensions: (5086, 10)\u001b[0m\n"
     ]
    },
    {
     "data": {
      "text/html": [
       "<div>\n",
       "<style scoped>\n",
       "    .dataframe tbody tr th:only-of-type {\n",
       "        vertical-align: middle;\n",
       "    }\n",
       "\n",
       "    .dataframe tbody tr th {\n",
       "        vertical-align: top;\n",
       "    }\n",
       "\n",
       "    .dataframe thead th {\n",
       "        text-align: right;\n",
       "    }\n",
       "</style>\n",
       "<table border=\"1\" class=\"dataframe\">\n",
       "  <thead>\n",
       "    <tr style=\"text-align: right;\">\n",
       "      <th></th>\n",
       "      <th>Provean_score</th>\n",
       "      <th>EL2_score</th>\n",
       "      <th>Final_ddG</th>\n",
       "      <th>Interactor_alignment_score</th>\n",
       "      <th>Matrix_score</th>\n",
       "      <th>Solvent_accessibility_wt</th>\n",
       "      <th>Solvent_accessibility_mut</th>\n",
       "      <th>van_der_waals_mut</th>\n",
       "      <th>Interactor_template_sequence_identity</th>\n",
       "      <th>Model/DOPE_score</th>\n",
       "    </tr>\n",
       "  </thead>\n",
       "  <tbody>\n",
       "    <tr>\n",
       "      <th>0</th>\n",
       "      <td>-3.575</td>\n",
       "      <td>2.100875</td>\n",
       "      <td>1.492640</td>\n",
       "      <td>0.914711</td>\n",
       "      <td>1.0</td>\n",
       "      <td>2.776620</td>\n",
       "      <td>2.114950</td>\n",
       "      <td>-29.31280</td>\n",
       "      <td>0.9394</td>\n",
       "      <td>-0.933072</td>\n",
       "    </tr>\n",
       "    <tr>\n",
       "      <th>1</th>\n",
       "      <td>-3.575</td>\n",
       "      <td>2.286398</td>\n",
       "      <td>0.762694</td>\n",
       "      <td>0.708487</td>\n",
       "      <td>1.0</td>\n",
       "      <td>2.382430</td>\n",
       "      <td>2.153380</td>\n",
       "      <td>-22.65540</td>\n",
       "      <td>0.7222</td>\n",
       "      <td>-0.573655</td>\n",
       "    </tr>\n",
       "    <tr>\n",
       "      <th>2</th>\n",
       "      <td>-3.110</td>\n",
       "      <td>-1.475353</td>\n",
       "      <td>1.964490</td>\n",
       "      <td>0.262235</td>\n",
       "      <td>0.0</td>\n",
       "      <td>0.394442</td>\n",
       "      <td>0.281167</td>\n",
       "      <td>-6.95953</td>\n",
       "      <td>0.2792</td>\n",
       "      <td>-0.590484</td>\n",
       "    </tr>\n",
       "  </tbody>\n",
       "</table>\n",
       "</div>"
      ],
      "text/plain": [
       "   Provean_score  EL2_score  Final_ddG  Interactor_alignment_score  \\\n",
       "0         -3.575   2.100875   1.492640                    0.914711   \n",
       "1         -3.575   2.286398   0.762694                    0.708487   \n",
       "2         -3.110  -1.475353   1.964490                    0.262235   \n",
       "\n",
       "   Matrix_score  Solvent_accessibility_wt  Solvent_accessibility_mut  \\\n",
       "0           1.0                  2.776620                   2.114950   \n",
       "1           1.0                  2.382430                   2.153380   \n",
       "2           0.0                  0.394442                   0.281167   \n",
       "\n",
       "   van_der_waals_mut  Interactor_template_sequence_identity  Model/DOPE_score  \n",
       "0          -29.31280                                 0.9394         -0.933072  \n",
       "1          -22.65540                                 0.7222         -0.573655  \n",
       "2           -6.95953                                 0.2792         -0.590484  "
      ]
     },
     "metadata": {},
     "output_type": "display_data"
    }
   ],
   "source": [
    "display_data(predator.data_materials[\"Xs_ov\"][0])"
   ]
  },
  {
   "cell_type": "code",
   "execution_count": 17,
   "id": "626956d7-8559-47b9-8b4f-5a003565d469",
   "metadata": {},
   "outputs": [
    {
     "data": {
      "image/png": "[encoded data removed]",
      "text/plain": [
       "<Figure size 432x288 with 1 Axes>"
      ]
     },
     "metadata": {},
     "output_type": "display_data"
    }
   ],
   "source": [
    "predator.predictions.plot_ensemble_prediction_distribution(\"ov\")"
   ]
  },
  {
   "cell_type": "code",
   "execution_count": 18,
   "id": "ede7c311-a2af-4777-881f-f4971a3e94d3",
   "metadata": {},
   "outputs": [
    {
     "name": "stdout",
     "output_type": "stream",
     "text": [
      "\u001b[36mData dimensions: (2578, 4)\u001b[0m\n"
     ]
    },
    {
     "data": {
      "text/html": [
       "<div>\n",
       "<style scoped>\n",
       "    .dataframe tbody tr th:only-of-type {\n",
       "        vertical-align: middle;\n",
       "    }\n",
       "\n",
       "    .dataframe tbody tr th {\n",
       "        vertical-align: top;\n",
       "    }\n",
       "\n",
       "    .dataframe thead th {\n",
       "        text-align: right;\n",
       "    }\n",
       "</style>\n",
       "<table border=\"1\" class=\"dataframe\">\n",
       "  <thead>\n",
       "    <tr style=\"text-align: right;\">\n",
       "      <th></th>\n",
       "      <th>UniProt_ID</th>\n",
       "      <th>Mutation</th>\n",
       "      <th>Interactor_UniProt_ID</th>\n",
       "      <th>Prediction</th>\n",
       "    </tr>\n",
       "  </thead>\n",
       "  <tbody>\n",
       "    <tr>\n",
       "      <th>0</th>\n",
       "      <td>P08134</td>\n",
       "      <td>D59E</td>\n",
       "      <td>P52565</td>\n",
       "      <td>0</td>\n",
       "    </tr>\n",
       "    <tr>\n",
       "      <th>1</th>\n",
       "      <td>P62993</td>\n",
       "      <td>A3V</td>\n",
       "      <td>Q9H8V3</td>\n",
       "      <td>0</td>\n",
       "    </tr>\n",
       "    <tr>\n",
       "      <th>2</th>\n",
       "      <td>P62993</td>\n",
       "      <td>A3V</td>\n",
       "      <td>Q14155</td>\n",
       "      <td>1</td>\n",
       "    </tr>\n",
       "  </tbody>\n",
       "</table>\n",
       "</div>"
      ],
      "text/plain": [
       "  UniProt_ID Mutation Interactor_UniProt_ID Prediction\n",
       "0     P08134     D59E                P52565          0\n",
       "1     P62993      A3V                Q9H8V3          0\n",
       "2     P62993      A3V                Q14155          1"
      ]
     },
     "metadata": {},
     "output_type": "display_data"
    }
   ],
   "source": [
    "ov_prediction_results_hard = predator.predictions[\"ov_prediction_results\"]\n",
    "display_data(ov_prediction_results_hard)"
   ]
  },
  {
   "cell_type": "code",
   "execution_count": 19,
   "id": "e3eca490-fb77-40e7-bf33-6c81b695a224",
   "metadata": {},
   "outputs": [],
   "source": [
    "ov_ensemble_prediction_data_hard = predator.predictions[\"ov_ensemble_prediction_data\"]"
   ]
  },
  {
   "cell_type": "code",
   "execution_count": 20,
   "id": "2b6d9841-4616-486a-a29d-2ec7b6f0f824",
   "metadata": {},
   "outputs": [
    {
     "name": "stdout",
     "output_type": "stream",
     "text": [
      "\u001b[36mData dimensions: (2481, 4)\u001b[0m\n"
     ]
    },
    {
     "data": {
      "text/html": [
       "<div>\n",
       "<style scoped>\n",
       "    .dataframe tbody tr th:only-of-type {\n",
       "        vertical-align: middle;\n",
       "    }\n",
       "\n",
       "    .dataframe tbody tr th {\n",
       "        vertical-align: top;\n",
       "    }\n",
       "\n",
       "    .dataframe thead th {\n",
       "        text-align: right;\n",
       "    }\n",
       "</style>\n",
       "<table border=\"1\" class=\"dataframe\">\n",
       "  <thead>\n",
       "    <tr style=\"text-align: right;\">\n",
       "      <th></th>\n",
       "      <th>UniProt_ID</th>\n",
       "      <th>Mutation</th>\n",
       "      <th>Interactor_UniProt_ID</th>\n",
       "      <th>Prediction</th>\n",
       "    </tr>\n",
       "  </thead>\n",
       "  <tbody>\n",
       "    <tr>\n",
       "      <th>0</th>\n",
       "      <td>P08134</td>\n",
       "      <td>D59E</td>\n",
       "      <td>P52565</td>\n",
       "      <td>0</td>\n",
       "    </tr>\n",
       "    <tr>\n",
       "      <th>1</th>\n",
       "      <td>P62993</td>\n",
       "      <td>A3V</td>\n",
       "      <td>Q9H8V3</td>\n",
       "      <td>0</td>\n",
       "    </tr>\n",
       "    <tr>\n",
       "      <th>2</th>\n",
       "      <td>P62993</td>\n",
       "      <td>A3V</td>\n",
       "      <td>Q14155</td>\n",
       "      <td>1</td>\n",
       "    </tr>\n",
       "  </tbody>\n",
       "</table>\n",
       "</div>"
      ],
      "text/plain": [
       "  UniProt_ID Mutation Interactor_UniProt_ID Prediction\n",
       "0     P08134     D59E                P52565          0\n",
       "1     P62993      A3V                Q9H8V3          0\n",
       "2     P62993      A3V                Q14155          1"
      ]
     },
     "metadata": {},
     "output_type": "display_data"
    }
   ],
   "source": [
    "ov_prediction_results_hard_no_votes_dropped = predator.predictions[\"ov_prediction_results_no_votes_dropped\"]\n",
    "display_data(ov_prediction_results_hard_no_votes_dropped)"
   ]
  },
  {
   "cell_type": "code",
   "execution_count": 21,
   "id": "13e87397-5e05-482f-a621-fde4e934e914",
   "metadata": {},
   "outputs": [
    {
     "name": "stdout",
     "output_type": "stream",
     "text": [
      "\u001b[36mLabel counts:\n",
      "Disrupting                1392\n",
      "Increasing + No Effect    1089\n",
      "Name: Prediction, dtype: int64\u001b[0m\n"
     ]
    },
    {
     "data": {
      "image/png": "[encoded data removed]",
      "text/plain": [
       "<Figure size 432x288 with 1 Axes>"
      ]
     },
     "metadata": {},
     "output_type": "display_data"
    }
   ],
   "source": [
    "visualize_label_counts(ov_prediction_results_hard_no_votes_dropped, 'Prediction')"
   ]
  },
  {
   "cell_type": "markdown",
   "id": "6cd1cc76-b56f-4789-b3b9-bf907fe7399e",
   "metadata": {
    "tags": []
   },
   "source": [
    "### Voting mode: `soft`"
   ]
  },
  {
   "cell_type": "code",
   "execution_count": 22,
   "id": "44e95ef5-2482-4d0d-93fa-305004853f7c",
   "metadata": {},
   "outputs": [
    {
     "name": "stdout",
     "output_type": "stream",
     "text": [
      "2021-10-11 00:42:00 |\u001b[36m DEBUG    \u001b[0m| helpers.helpers_predator.data_materials | Initialize `ov` ..\n",
      "2021-10-11 00:42:00 |\u001b[36m DEBUG    \u001b[0m| helpers.helpers_predator.data_materials | Initialize `target_ov_data` ..\n",
      "2021-10-11 00:42:00 |\u001b[36m DEBUG    \u001b[0m| helpers.helpers_predator.data_materials | Initializing target data materials ..\n",
      "2021-10-11 00:42:00 |\u001b[36m DEBUG    \u001b[0m| helpers.helpers_predator.data_materials | Determined features: ['Provean_score', 'EL2_score', 'Final_ddG', 'Interactor_alignment_score', 'Matrix_score', 'Solvent_accessibility_wt', 'Solvent_accessibility_mut', 'van_der_waals_mut', 'Interactor_template_sequence_identity', 'Model/DOPE_score']\n",
      "2021-10-11 00:42:00 |\u001b[36m DEBUG    \u001b[0m| helpers.helpers_predator.data_materials | Declaring Xs_ov data materials  ..\n"
     ]
    }
   ],
   "source": [
    "predator.initialize_target_data_materials(\n",
    "    tcga_code_path_pairs=[('ov', OV_PATH)]\n",
    ")"
   ]
  },
  {
   "cell_type": "code",
   "execution_count": 23,
   "id": "323fbd63-7e32-471f-8cee-4b0abf9d82dc",
   "metadata": {
    "scrolled": true,
    "tags": []
   },
   "outputs": [
    {
     "name": "stdout",
     "output_type": "stream",
     "text": [
      "2021-10-11 00:42:00 |\u001b[36m DEBUG    \u001b[0m| Predator | Predicting on cancer datasets ..\n",
      "2021-10-11 00:42:00 |\u001b[36m DEBUG    \u001b[0m| helpers.helpers_predator.models | Initializing EnsambledVotingClassifier.\n",
      "2021-10-11 00:42:00 |\u001b[36m DEBUG    \u001b[0m| helpers.helpers_predator.models | Voting mode: soft\n",
      "2021-10-11 00:42:00 |\u001b[36m DEBUG    \u001b[0m| helpers.helpers_predator.predictions | Initializing: PredictionsSoft\n",
      "2021-10-11 00:42:00 |\u001b[36m DEBUG    \u001b[0m| Predator | Predicting on ov cohort ..\n",
      "2021-10-11 00:42:00 |\u001b[36m DEBUG    \u001b[0m| helpers.helpers_predator.models | Current estimator: RandomForestClassifier(class_weight='balanced', max_depth=2, max_features=None,\n",
      "                       min_samples_split=5, n_estimators=50, random_state=1)\n",
      "2021-10-11 00:42:00 |\u001b[36m DEBUG    \u001b[0m| helpers.helpers_predator.models | X shape: (5086, 10)\n",
      "2021-10-11 00:42:00 |\u001b[36m DEBUG    \u001b[0m| helpers.helpers_predator.models | Current estimator: RandomForestClassifier(max_depth=5, n_estimators=10, random_state=2)\n",
      "2021-10-11 00:42:00 |\u001b[36m DEBUG    \u001b[0m| helpers.helpers_predator.models | X shape: (5086, 10)\n",
      "2021-10-11 00:42:00 |\u001b[36m DEBUG    \u001b[0m| helpers.helpers_predator.models | Current estimator: RandomForestClassifier(class_weight='balanced', max_depth=10,\n",
      "                       max_features='sqrt', min_samples_split=5,\n",
      "                       n_estimators=25, random_state=3)\n",
      "2021-10-11 00:42:00 |\u001b[36m DEBUG    \u001b[0m| helpers.helpers_predator.models | X shape: (5086, 10)\n",
      "2021-10-11 00:42:00 |\u001b[36m DEBUG    \u001b[0m| helpers.helpers_predator.models | Current estimator: RandomForestClassifier(class_weight='balanced', max_depth=10, max_features=None,\n",
      "                       min_samples_split=5, n_estimators=75, random_state=4)\n",
      "2021-10-11 00:42:00 |\u001b[36m DEBUG    \u001b[0m| helpers.helpers_predator.models | X shape: (5086, 10)\n",
      "2021-10-11 00:42:00 |\u001b[36m DEBUG    \u001b[0m| helpers.helpers_predator.models | Current estimator: RandomForestClassifier(class_weight='balanced', max_depth=10,\n",
      "                       max_features='sqrt', n_estimators=25, random_state=5)\n",
      "2021-10-11 00:42:00 |\u001b[36m DEBUG    \u001b[0m| helpers.helpers_predator.models | X shape: (5086, 10)\n",
      "2021-10-11 00:42:00 |\u001b[36m DEBUG    \u001b[0m| helpers.helpers_predator.models | Current estimator: RandomForestClassifier(max_depth=2, min_samples_split=5, n_estimators=200,\n",
      "                       random_state=6)\n",
      "2021-10-11 00:42:00 |\u001b[36m DEBUG    \u001b[0m| helpers.helpers_predator.models | X shape: (5086, 10)\n",
      "2021-10-11 00:42:00 |\u001b[36m DEBUG    \u001b[0m| helpers.helpers_predator.models | Current estimator: RandomForestClassifier(max_depth=5, min_samples_split=5, n_estimators=10,\n",
      "                       random_state=7)\n",
      "2021-10-11 00:42:00 |\u001b[36m DEBUG    \u001b[0m| helpers.helpers_predator.models | X shape: (5086, 10)\n",
      "2021-10-11 00:42:00 |\u001b[36m DEBUG    \u001b[0m| helpers.helpers_predator.models | Current estimator: RandomForestClassifier(max_depth=5, max_features='sqrt', min_samples_split=5,\n",
      "                       n_estimators=400, random_state=8)\n",
      "2021-10-11 00:42:00 |\u001b[36m DEBUG    \u001b[0m| helpers.helpers_predator.models | X shape: (5086, 10)\n",
      "2021-10-11 00:42:01 |\u001b[36m DEBUG    \u001b[0m| helpers.helpers_predator.models | Current estimator: RandomForestClassifier(class_weight='balanced', max_depth=2,\n",
      "                       min_samples_split=5, n_estimators=50, random_state=10)\n",
      "2021-10-11 00:42:01 |\u001b[36m DEBUG    \u001b[0m| helpers.helpers_predator.models | X shape: (5086, 10)\n",
      "2021-10-11 00:42:01 |\u001b[36m DEBUG    \u001b[0m| helpers.helpers_predator.models | Current estimator: RandomForestClassifier(class_weight='balanced', max_depth=5, max_features=None,\n",
      "                       n_estimators=200, random_state=12)\n",
      "2021-10-11 00:42:01 |\u001b[36m DEBUG    \u001b[0m| helpers.helpers_predator.models | X shape: (5086, 10)\n",
      "2021-10-11 00:42:01 |\u001b[36m DEBUG    \u001b[0m| helpers.helpers_predator.models | Current estimator: RandomForestClassifier(class_weight='balanced', max_depth=5, max_features=None,\n",
      "                       min_samples_split=5, n_estimators=200, random_state=13)\n",
      "2021-10-11 00:42:01 |\u001b[36m DEBUG    \u001b[0m| helpers.helpers_predator.models | X shape: (5086, 10)\n",
      "2021-10-11 00:42:01 |\u001b[36m DEBUG    \u001b[0m| helpers.helpers_predator.models | Current estimator: RandomForestClassifier(class_weight='balanced', max_depth=10,\n",
      "                       max_features='sqrt', min_samples_split=5,\n",
      "                       n_estimators=400, random_state=17)\n",
      "2021-10-11 00:42:01 |\u001b[36m DEBUG    \u001b[0m| helpers.helpers_predator.models | X shape: (5086, 10)\n",
      "2021-10-11 00:42:01 |\u001b[36m DEBUG    \u001b[0m| helpers.helpers_predator.models | Current estimator: RandomForestClassifier(class_weight='balanced', max_depth=5, n_estimators=10,\n",
      "                       random_state=18)\n",
      "2021-10-11 00:42:01 |\u001b[36m DEBUG    \u001b[0m| helpers.helpers_predator.models | X shape: (5086, 10)\n",
      "2021-10-11 00:42:01 |\u001b[36m DEBUG    \u001b[0m| helpers.helpers_predator.models | Current estimator: RandomForestClassifier(class_weight='balanced', max_depth=10,\n",
      "                       max_features='sqrt', n_estimators=25, random_state=20)\n",
      "2021-10-11 00:42:01 |\u001b[36m DEBUG    \u001b[0m| helpers.helpers_predator.models | X shape: (5086, 10)\n",
      "2021-10-11 00:42:01 |\u001b[36m DEBUG    \u001b[0m| helpers.helpers_predator.models | Current estimator: RandomForestClassifier(max_depth=5, max_features=None, n_estimators=200,\n",
      "                       random_state=21)\n",
      "2021-10-11 00:42:01 |\u001b[36m DEBUG    \u001b[0m| helpers.helpers_predator.models | X shape: (5086, 10)\n",
      "2021-10-11 00:42:01 |\u001b[36m DEBUG    \u001b[0m| helpers.helpers_predator.models | Current estimator: RandomForestClassifier(class_weight='balanced', max_depth=10, max_features=None,\n",
      "                       n_estimators=200, random_state=22)\n",
      "2021-10-11 00:42:01 |\u001b[36m DEBUG    \u001b[0m| helpers.helpers_predator.models | X shape: (5086, 10)\n",
      "2021-10-11 00:42:01 |\u001b[36m DEBUG    \u001b[0m| helpers.helpers_predator.models | Current estimator: RandomForestClassifier(class_weight='balanced', max_depth=5, max_features=None,\n",
      "                       min_samples_split=5, n_estimators=400, random_state=23)\n",
      "2021-10-11 00:42:01 |\u001b[36m DEBUG    \u001b[0m| helpers.helpers_predator.models | X shape: (5086, 10)\n",
      "2021-10-11 00:42:01 |\u001b[36m DEBUG    \u001b[0m| helpers.helpers_predator.models | Current estimator: RandomForestClassifier(max_depth=2, max_features=None, min_samples_split=5,\n",
      "                       n_estimators=25, random_state=24)\n",
      "2021-10-11 00:42:01 |\u001b[36m DEBUG    \u001b[0m| helpers.helpers_predator.models | X shape: (5086, 10)\n",
      "2021-10-11 00:42:01 |\u001b[36m DEBUG    \u001b[0m| helpers.helpers_predator.models | Current estimator: RandomForestClassifier(max_depth=2, n_estimators=400, random_state=25)\n",
      "2021-10-11 00:42:01 |\u001b[36m DEBUG    \u001b[0m| helpers.helpers_predator.models | X shape: (5086, 10)\n",
      "2021-10-11 00:42:02 |\u001b[36m DEBUG    \u001b[0m| helpers.helpers_predator.models | Current estimator: RandomForestClassifier(class_weight='balanced', max_depth=5,\n",
      "                       min_samples_split=5, random_state=26)\n",
      "2021-10-11 00:42:02 |\u001b[36m DEBUG    \u001b[0m| helpers.helpers_predator.models | X shape: (5086, 10)\n",
      "2021-10-11 00:42:02 |\u001b[36m DEBUG    \u001b[0m| helpers.helpers_predator.models | Current estimator: RandomForestClassifier(class_weight='balanced', max_depth=2,\n",
      "                       max_features='sqrt', n_estimators=200, random_state=27)\n",
      "2021-10-11 00:42:02 |\u001b[36m DEBUG    \u001b[0m| helpers.helpers_predator.models | X shape: (5086, 10)\n",
      "2021-10-11 00:42:02 |\u001b[36m DEBUG    \u001b[0m| helpers.helpers_predator.models | Current estimator: RandomForestClassifier(class_weight='balanced', max_depth=2, n_estimators=25,\n",
      "                       random_state=28)\n",
      "2021-10-11 00:42:02 |\u001b[36m DEBUG    \u001b[0m| helpers.helpers_predator.models | X shape: (5086, 10)\n",
      "2021-10-11 00:42:02 |\u001b[36m DEBUG    \u001b[0m| helpers.helpers_predator.models | Current estimator: RandomForestClassifier(max_depth=10, n_estimators=75, random_state=29)\n",
      "2021-10-11 00:42:02 |\u001b[36m DEBUG    \u001b[0m| helpers.helpers_predator.models | X shape: (5086, 10)\n",
      "2021-10-11 00:42:02 |\u001b[36m DEBUG    \u001b[0m| helpers.helpers_predator.models | Current estimator: RandomForestClassifier(class_weight='balanced', max_depth=2, max_features=None,\n",
      "                       min_samples_split=5, n_estimators=50, random_state=30)\n",
      "2021-10-11 00:42:02 |\u001b[36m DEBUG    \u001b[0m| helpers.helpers_predator.models | X shape: (5086, 10)\n",
      "2021-10-11 00:42:02 |\u001b[36m DEBUG    \u001b[0m| helpers.helpers_predator.models | Current estimator: RandomForestClassifier(max_depth=10, n_estimators=10, random_state=31)\n",
      "2021-10-11 00:42:02 |\u001b[36m DEBUG    \u001b[0m| helpers.helpers_predator.models | X shape: (5086, 10)\n",
      "2021-10-11 00:42:02 |\u001b[36m DEBUG    \u001b[0m| helpers.helpers_predator.models | Current estimator: RandomForestClassifier(max_depth=10, n_estimators=200, random_state=32)\n",
      "2021-10-11 00:42:02 |\u001b[36m DEBUG    \u001b[0m| helpers.helpers_predator.models | X shape: (5086, 10)\n",
      "2021-10-11 00:42:02 |\u001b[36m DEBUG    \u001b[0m| helpers.helpers_predator.models | Current estimator: RandomForestClassifier(class_weight='balanced', max_depth=2,\n",
      "                       max_features='sqrt', n_estimators=400, random_state=33)\n",
      "2021-10-11 00:42:02 |\u001b[36m DEBUG    \u001b[0m| helpers.helpers_predator.models | X shape: (5086, 10)\n",
      "2021-10-11 00:42:02 |\u001b[36m DEBUG    \u001b[0m| helpers.helpers_predator.models | Current estimator: RandomForestClassifier(max_depth=5, max_features=None, n_estimators=200,\n",
      "                       random_state=35)\n",
      "2021-10-11 00:42:02 |\u001b[36m DEBUG    \u001b[0m| helpers.helpers_predator.models | X shape: (5086, 10)\n",
      "2021-10-11 00:42:02 |\u001b[36m DEBUG    \u001b[0m| helpers.helpers_predator.models | Current estimator: RandomForestClassifier(max_depth=2, min_samples_split=5, n_estimators=10,\n",
      "                       random_state=36)\n",
      "2021-10-11 00:42:02 |\u001b[36m DEBUG    \u001b[0m| helpers.helpers_predator.models | X shape: (5086, 10)\n",
      "2021-10-11 00:42:02 |\u001b[36m DEBUG    \u001b[0m| helpers.helpers_predator.models | Current estimator: RandomForestClassifier(max_depth=2, max_features='sqrt', n_estimators=75,\n",
      "                       random_state=37)\n",
      "2021-10-11 00:42:02 |\u001b[36m DEBUG    \u001b[0m| helpers.helpers_predator.models | X shape: (5086, 10)\n",
      "2021-10-11 00:42:02 |\u001b[36m DEBUG    \u001b[0m| helpers.helpers_predator.models | Current estimator: RandomForestClassifier(max_depth=2, min_samples_split=5, random_state=39)\n",
      "2021-10-11 00:42:02 |\u001b[36m DEBUG    \u001b[0m| helpers.helpers_predator.models | X shape: (5086, 10)\n",
      "2021-10-11 00:42:02 |\u001b[36m DEBUG    \u001b[0m| helpers.helpers_predator.models | Current estimator: RandomForestClassifier(class_weight='balanced', max_depth=5, max_features=None,\n",
      "                       n_estimators=10, random_state=40)\n",
      "2021-10-11 00:42:02 |\u001b[36m DEBUG    \u001b[0m| helpers.helpers_predator.models | X shape: (5086, 10)\n",
      "2021-10-11 00:42:02 |\u001b[36m DEBUG    \u001b[0m| helpers.helpers_predator.models | Current estimator: RandomForestClassifier(class_weight='balanced', max_depth=5,\n",
      "                       max_features='sqrt', min_samples_split=5,\n",
      "                       n_estimators=200, random_state=43)\n",
      "2021-10-11 00:42:02 |\u001b[36m DEBUG    \u001b[0m| helpers.helpers_predator.models | X shape: (5086, 10)\n",
      "2021-10-11 00:42:02 |\u001b[36m DEBUG    \u001b[0m| helpers.helpers_predator.models | Current estimator: RandomForestClassifier(class_weight='balanced', max_depth=2,\n",
      "                       max_features='sqrt', n_estimators=400, random_state=44)\n",
      "2021-10-11 00:42:02 |\u001b[36m DEBUG    \u001b[0m| helpers.helpers_predator.models | X shape: (5086, 10)\n",
      "2021-10-11 00:42:03 |\u001b[36m DEBUG    \u001b[0m| helpers.helpers_predator.models | Current estimator: RandomForestClassifier(max_depth=5, max_features='sqrt', min_samples_split=5,\n",
      "                       n_estimators=10, random_state=46)\n",
      "2021-10-11 00:42:03 |\u001b[36m DEBUG    \u001b[0m| helpers.helpers_predator.models | X shape: (5086, 10)\n",
      "2021-10-11 00:42:03 |\u001b[36m DEBUG    \u001b[0m| helpers.helpers_predator.models | Current estimator: RandomForestClassifier(class_weight='balanced', max_depth=2, n_estimators=10,\n",
      "                       random_state=48)\n",
      "2021-10-11 00:42:03 |\u001b[36m DEBUG    \u001b[0m| helpers.helpers_predator.models | X shape: (5086, 10)\n",
      "2021-10-11 00:42:03 |\u001b[36m DEBUG    \u001b[0m| helpers.helpers_predator.models | Current estimator: RandomForestClassifier(max_depth=5, min_samples_split=5, n_estimators=25,\n",
      "                       random_state=50)\n",
      "2021-10-11 00:42:03 |\u001b[36m DEBUG    \u001b[0m| helpers.helpers_predator.models | X shape: (5086, 10)\n",
      "2021-10-11 00:42:03 |\u001b[36m DEBUG    \u001b[0m| helpers.helpers_predator.predictions | PredictionsSoft\n",
      "2021-10-11 00:42:03 |\u001b[36m DEBUG    \u001b[0m| helpers.helpers_predator.predictions | Predicting probabilities on ov cohort ..\n",
      "2021-10-11 00:42:03 |\u001b[36m DEBUG    \u001b[0m| helpers.helpers_predator.predictions | Adding key `ov_prob` to self.predictions\n"
     ]
    }
   ],
   "source": [
    "predator.predict(voting='soft')"
   ]
  },
  {
   "cell_type": "code",
   "execution_count": 24,
   "id": "341a1a27-928b-47ae-9d45-69ec13771b81",
   "metadata": {},
   "outputs": [
    {
     "data": {
      "text/plain": [
       "dict_keys(['ov_prob'])"
      ]
     },
     "execution_count": 24,
     "metadata": {},
     "output_type": "execute_result"
    }
   ],
   "source": [
    "predator.predictions.keys()"
   ]
  },
  {
   "cell_type": "code",
   "execution_count": 25,
   "id": "d7054f49-ad45-408f-88b4-0e608fc81e81",
   "metadata": {},
   "outputs": [
    {
     "data": {
      "text/plain": [
       "[array([[0.74189909, 0.25810091],\n",
       "        [0.68663109, 0.31336891],\n",
       "        [0.45038587, 0.54961413],\n",
       "        ...,\n",
       "        [0.71643212, 0.28356788],\n",
       "        [0.6309161 , 0.3690839 ],\n",
       "        [0.71118139, 0.28881861]]),\n",
       " array([[0.6125699 , 0.3874301 ],\n",
       "        [0.73938666, 0.26061334],\n",
       "        [0.46093971, 0.53906029],\n",
       "        ...,\n",
       "        [0.83785925, 0.16214075],\n",
       "        [0.74708342, 0.25291658],\n",
       "        [0.66366035, 0.33633965]]),\n",
       " array([[0.83003883, 0.16996117],\n",
       "        [0.96933555, 0.03066445],\n",
       "        [0.42633114, 0.57366886],\n",
       "        ...,\n",
       "        [0.83897755, 0.16102245],\n",
       "        [0.83606272, 0.16393728],\n",
       "        [0.83606272, 0.16393728]])]"
      ]
     },
     "execution_count": 25,
     "metadata": {},
     "output_type": "execute_result"
    }
   ],
   "source": [
    "# Predictions for first 10 experiment.\n",
    "predator.predictions[\"ov_prob\"][:3]"
   ]
  },
  {
   "cell_type": "markdown",
   "id": "83e49c0d-9f61-4f48-a23d-8a21e9875041",
   "metadata": {},
   "source": [
    "#### Predictions Post Processing"
   ]
  },
  {
   "cell_type": "markdown",
   "id": "3d18567f-1748-4446-bb12-8062515f02bd",
   "metadata": {},
   "source": [
    "Post processing of predictions involves following steps:"
   ]
  },
  {
   "cell_type": "markdown",
   "id": "45aad6d0-0e73-413e-8b32-fbcb2bcc5426",
   "metadata": {},
   "source": [
    "##### 1. Merging Predictions with SNV Data"
   ]
  },
  {
   "cell_type": "markdown",
   "id": "ba9bda7c-5736-4c44-8663-ec63927976db",
   "metadata": {},
   "source": [
    "The prediction column is merged with SNV data for each experiment.\n",
    "\n",
    "$\\text{For each experiment } n: $\n",
    "\n",
    "$$\n",
    "  \\textit{(Prediction Merged Data)}_n = \\underbrace{[\\textit{Predictions}_n]}_\\text{Probs Percentages} + \n",
    "      \\underbrace{[\\textit{Protein }] [\\textit{Mutation }] [\\textit{Interactor }]}_\\text{Cancer Data Triplets} + \\underbrace{[\\textit{Features }] }_\\text{Elaspic}\n",
    "$$\n"
   ]
  },
  {
   "cell_type": "markdown",
   "id": "8b14c7d7-914f-40af-b695-b962c33ed9ee",
   "metadata": {
    "tags": []
   },
   "source": [
    "##### 2. Convert to 1-isomer: `Interactor_UniProt_ID`"
   ]
  },
  {
   "cell_type": "markdown",
   "id": "36c9284b-0d5d-4c41-b2d9-7274d9141f6a",
   "metadata": {},
   "source": [
    "$\\textit{Interactor_UniProt_ID}$ column contains isomer proteins. Here, we convert them into primary isoform representation (i.e. without dashes)."
   ]
  },
  {
   "cell_type": "markdown",
   "id": "2314ef86-e11b-43ce-a9ee-8d3d39420d3d",
   "metadata": {},
   "source": [
    "| Interactor_UniProt_ID |\n",
    "--------------\n",
    "| P38936     |\n",
    "| P16473     |\n",
    "| P16473-2   |\n",
    "| P19793     |"
   ]
  },
  {
   "cell_type": "markdown",
   "id": "ac37c712-d832-4450-8852-a9df5712c194",
   "metadata": {},
   "source": [
    "##### 3. Dropping Invalid Predictions"
   ]
  },
  {
   "cell_type": "markdown",
   "id": "10c61eb3-a920-4665-b976-a0a32490e8bb",
   "metadata": {},
   "source": [
    "--- todo  add documentation"
   ]
  },
  {
   "cell_type": "code",
   "execution_count": 26,
   "id": "ee5ffd8b-af50-481e-b90f-fc0548568727",
   "metadata": {
    "scrolled": true,
    "tags": []
   },
   "outputs": [
    {
     "name": "stdout",
     "output_type": "stream",
     "text": [
      "2021-10-11 00:42:03 |\u001b[36m DEBUG    \u001b[0m| helpers.helpers_predator.predictions | PredictionsSoft\n",
      "2021-10-11 00:42:03 |\u001b[36m DEBUG    \u001b[0m| helpers.helpers_predator.predictions | Post processing predictions for cohort ov ..\n",
      "2021-10-11 00:42:03 |\u001b[36m DEBUG    \u001b[0m| helpers.helpers_predator.predictions | PredictionsSoft\n",
      "2021-10-11 00:42:03 |\u001b[36m DEBUG    \u001b[0m| helpers.helpers_predator.predictions | Merging predictions with ov cancer dataset ..\n",
      "2021-10-11 00:42:03 |\u001b[36m DEBUG    \u001b[0m| helpers.helpers_predator.predictions | Handling valid and invalid entries ..\n"
     ]
    },
    {
     "data": {
      "application/vnd.jupyter.widget-view+json": {
       "model_id": "1e43cf8a44b14ff29c80d67eea9d5b03",
       "version_major": 2,
       "version_minor": 0
      },
      "text/plain": [
       "  0%|          | 0/37 [00:00<?, ?it/s]"
      ]
     },
     "metadata": {},
     "output_type": "display_data"
    },
    {
     "name": "stdout",
     "output_type": "stream",
     "text": [
      "2021-10-11 00:42:15 |\u001b[36m DEBUG    \u001b[0m| helpers.helpers_predator.predictions_utils | Removed entries first five rows (of 359): \n",
      "   PREDICTION PROTEIN MUTATION INTERACTOR\n",
      "0    0.465187  O75175    Q684H     Q9NZN8\n",
      "1    0.553470  O75175    Q684H     Q9NZN8\n",
      "2    0.537381  O75175    Q684H     Q9NZN8\n",
      "3    0.526089  O75175    Q684H     Q9NZN8\n",
      "4    0.553470  O75175    Q684H     Q9NZN8\n",
      "2021-10-11 00:42:27 |\u001b[36m DEBUG    \u001b[0m| helpers.helpers_predator.predictions_utils | Removed entries first five rows (of 776): \n",
      "   PREDICTION PROTEIN MUTATION INTERACTOR\n",
      "0    0.255194  O75175    Q684H     Q9NZN8\n",
      "1    0.452007  O75175    Q684H     Q9NZN8\n",
      "2    0.383825  O75175    Q684H     Q9NZN8\n",
      "3    0.513785  O75175    Q684H     Q9NZN8\n",
      "4    0.452007  O75175    Q684H     Q9NZN8\n",
      "2021-10-11 00:42:40 |\u001b[36m DEBUG    \u001b[0m| helpers.helpers_predator.predictions_utils | Removed entries first five rows (of 730): \n",
      "   PREDICTION PROTEIN MUTATION INTERACTOR\n",
      "0    0.593597  P07332    N695H     P08581\n",
      "1    0.417783  P07332    N695H     P08581\n",
      "2    0.438297  Q14814     K31T     Q02078\n",
      "3    0.451835  Q14814     K31T     Q06413\n",
      "4    0.451835  Q14814     K31T     Q06413\n",
      "2021-10-11 00:42:52 |\u001b[36m DEBUG    \u001b[0m| helpers.helpers_predator.predictions_utils | Removed entries first five rows (of 734): \n",
      "   PREDICTION PROTEIN MUTATION INTERACTOR\n",
      "0    0.672614  P07332    N695H     P08581\n",
      "1    0.280241  P07332    N695H     P08581\n",
      "2    0.547205  P07900    E205D     Q9UHD1\n",
      "3    0.413176  P07900    E205D     Q9UHD1\n",
      "4    0.457876  Q14814     K31T     Q02078\n",
      "2021-10-11 00:43:05 |\u001b[36m DEBUG    \u001b[0m| helpers.helpers_predator.predictions_utils | Removed entries first five rows (of 788): \n",
      "   PREDICTION PROTEIN MUTATION INTERACTOR\n",
      "0        0.48  P00742    I451M     P10646\n",
      "1        0.48  P00742    I451M     P10646\n",
      "2        0.48  P00742    I451M     P10646\n",
      "3        0.56  P00742    I451M     P10646\n",
      "4        0.56  P00742    I451M     P10646\n",
      "2021-10-11 00:43:18 |\u001b[36m DEBUG    \u001b[0m| helpers.helpers_predator.predictions_utils | Removed entries first five rows (of 286): \n",
      "   PREDICTION PROTEIN MUTATION INTERACTOR\n",
      "0    0.342889  P04637    R248Q     P62993\n",
      "1    0.335082  P04637    R248Q     P62993\n",
      "2    0.345661  P04637    R248Q     P62993\n",
      "3    0.517331  P04637    R248Q     P62993\n",
      "4    0.627188  Q15019    T186N     Q99719\n",
      "2021-10-11 00:43:30 |\u001b[36m DEBUG    \u001b[0m| helpers.helpers_predator.predictions_utils | Removed entries first five rows (of 724): \n",
      "   PREDICTION PROTEIN MUTATION INTERACTOR\n",
      "0    0.434944  Q14814     K31T     Q02078\n",
      "1    0.387368  Q14814     K31T     Q06413\n",
      "2    0.387368  Q14814     K31T     Q06413\n",
      "3    0.387368  Q14814     K31T     Q06413\n",
      "4    0.387368  Q14814     K31T     Q06413\n",
      "2021-10-11 00:43:42 |\u001b[36m DEBUG    \u001b[0m| helpers.helpers_predator.predictions_utils | Removed entries first five rows (of 560): \n",
      "   PREDICTION PROTEIN MUTATION INTERACTOR\n",
      "0    0.526932  Q9Y6Q5    R251C     Q9BXS5\n",
      "1    0.462334  Q9Y6Q5    R251C     Q9BXS5\n",
      "2    0.400635  Q9HC16    R215P     Q8IUX4\n",
      "3    0.512473  Q9HC16    R215P     Q8IUX4\n",
      "4    0.664590  P15374    N223S     P0CG48\n",
      "2021-10-11 00:43:54 |\u001b[36m DEBUG    \u001b[0m| helpers.helpers_predator.predictions_utils | Removed entries first five rows (of 361): \n",
      "   PREDICTION PROTEIN MUTATION INTERACTOR\n",
      "0    0.449085  Q14814     K31T     Q02078\n",
      "1    0.519923  Q14814     K31T     Q02078\n",
      "2    0.381316  Q14814     K31T     Q02078\n",
      "3    0.519923  Q14814     K31T     Q02078\n",
      "4    0.381316  Q14814     K31T     Q02078\n",
      "2021-10-11 00:44:06 |\u001b[36m DEBUG    \u001b[0m| helpers.helpers_predator.predictions_utils | Removed entries first five rows (of 710): \n",
      "   PREDICTION PROTEIN MUTATION INTERACTOR\n",
      "0    0.512884  P00742    I451M     P10646\n",
      "1    0.492219  P00742    I451M     P10646\n",
      "2    0.492219  P00742    I451M     P10646\n",
      "3    0.490195  P00742    I451M     P10646\n",
      "4    0.490195  P00742    I451M     P10646\n",
      "2021-10-11 00:44:18 |\u001b[36m DEBUG    \u001b[0m| helpers.helpers_predator.predictions_utils | Removed entries first five rows (of 534): \n",
      "   PREDICTION PROTEIN MUTATION INTERACTOR\n",
      "0    0.561154  P07332    N695H     P08581\n",
      "1    0.450596  P07332    N695H     P08581\n",
      "2    0.612256  Q14814     K31T     Q02078\n",
      "3    0.655821  Q14814     K31T     Q02078\n",
      "4    0.394927  Q14814     K31T     Q02078\n",
      "2021-10-11 00:44:30 |\u001b[36m DEBUG    \u001b[0m| helpers.helpers_predator.predictions_utils | Removed entries first five rows (of 580): \n",
      "   PREDICTION PROTEIN MUTATION INTERACTOR\n",
      "0    0.458676  Q9NQ66    E539K     Q15147\n",
      "1    0.654767  Q9NQ66    E539K     Q15147\n",
      "2    0.687626  Q9NQ66    E539K     Q15147\n",
      "3    0.445000  Q14814     K31T     Q02078\n",
      "4    0.493786  Q14814     K31T     Q02078\n",
      "2021-10-11 00:44:42 |\u001b[36m DEBUG    \u001b[0m| helpers.helpers_predator.predictions_utils | Removed entries first five rows (of 624): \n",
      "   PREDICTION PROTEIN MUTATION INTERACTOR\n",
      "0    0.450207  Q9NQ66    E539K     Q15147\n",
      "1    0.634314  Q9NQ66    E539K     Q15147\n",
      "2    0.634314  Q9NQ66    E539K     Q15147\n",
      "3    0.434020  Q14814     K31T     Q02078\n",
      "4    0.363727  Q14814     K31T     Q06413\n",
      "2021-10-11 00:44:54 |\u001b[36m DEBUG    \u001b[0m| helpers.helpers_predator.predictions_utils | Removed entries first five rows (of 654): \n",
      "   PREDICTION PROTEIN MUTATION INTERACTOR\n",
      "0        0.76  P07332    N695H     P08581\n",
      "1        0.48  P07332    N695H     P08581\n",
      "2        0.48  Q9NQ66    E539K     Q15147\n",
      "3        0.60  Q9NQ66    E539K     Q15147\n",
      "4        0.56  Q9NQ66    E539K     Q15147\n",
      "2021-10-11 00:45:06 |\u001b[36m DEBUG    \u001b[0m| helpers.helpers_predator.predictions_utils | Removed entries first five rows (of 701): \n",
      "   PREDICTION PROTEIN MUTATION INTERACTOR\n",
      "0    0.496946  Q14814     K31T     Q02078\n",
      "1    0.487539  Q14814     K31T     Q06413\n",
      "2    0.487539  Q14814     K31T     Q06413\n",
      "3    0.487539  Q14814     K31T     Q06413\n",
      "4    0.487539  Q14814     K31T     Q06413\n",
      "2021-10-11 00:45:19 |\u001b[36m DEBUG    \u001b[0m| helpers.helpers_predator.predictions_utils | Removed entries first five rows (of 623): \n",
      "   PREDICTION PROTEIN MUTATION INTERACTOR\n",
      "0    0.667763  P07332    N695H     P08581\n",
      "1    0.340000  P07332    N695H     P08581\n",
      "2    0.545000  P07900    E205D     Q9UHD1\n",
      "3    0.470000  P07900    E205D     Q9UHD1\n",
      "4    0.325000  Q14814     K31T     Q02078\n",
      "2021-10-11 00:45:32 |\u001b[36m DEBUG    \u001b[0m| helpers.helpers_predator.predictions_utils | Removed entries first five rows (of 630): \n",
      "   PREDICTION PROTEIN MUTATION INTERACTOR\n",
      "0    0.630544  P07332    N695H     P08581\n",
      "1    0.248486  P07332    N695H     P08581\n",
      "2    0.433085  Q14814     K31T     Q02078\n",
      "3    0.323142  Q14814     K31T     Q06413\n",
      "4    0.323142  Q14814     K31T     Q06413\n",
      "2021-10-11 00:45:44 |\u001b[36m DEBUG    \u001b[0m| helpers.helpers_predator.predictions_utils | Removed entries first five rows (of 338): \n",
      "   PREDICTION PROTEIN MUTATION INTERACTOR\n",
      "0    0.436465  P00742    I451M     P10646\n",
      "1    0.424316  P00742    I451M     P10646\n",
      "2    0.424316  P00742    I451M     P10646\n",
      "3    0.518303  P00742    I451M     P10646\n",
      "4    0.518303  P00742    I451M     P10646\n",
      "2021-10-11 00:45:56 |\u001b[36m DEBUG    \u001b[0m| helpers.helpers_predator.predictions_utils | Removed entries first five rows (of 326): \n",
      "   PREDICTION PROTEIN MUTATION INTERACTOR\n",
      "0    0.416683  P04637    R248Q     P62993\n",
      "1    0.416683  P04637    R248Q     P62993\n",
      "2    0.410030  P04637    R248Q     P62993\n",
      "3    0.535458  P04637    R248Q     P62993\n",
      "4    0.613290  Q15019    T186N     Q99719\n",
      "2021-10-11 00:46:09 |\u001b[36m DEBUG    \u001b[0m| helpers.helpers_predator.predictions_utils | Removed entries first five rows (of 651): \n",
      "   PREDICTION PROTEIN MUTATION INTERACTOR\n",
      "0    0.573773  P07332    N695H     P08581\n",
      "1    0.499489  P07332    N695H     P08581\n",
      "2    0.367900  Q14814     K31T     Q02078\n",
      "3    0.339185  Q14814     K31T     Q06413\n",
      "4    0.339185  Q14814     K31T     Q06413\n",
      "2021-10-11 00:46:21 |\u001b[36m DEBUG    \u001b[0m| helpers.helpers_predator.predictions_utils | Removed entries first five rows (of 563): \n",
      "   PREDICTION PROTEIN MUTATION INTERACTOR\n",
      "0    0.613985  P07332    N695H     P08581\n",
      "1    0.482172  P07332    N695H     P08581\n",
      "2    0.383257  Q14814     K31T     Q02078\n",
      "3    0.511695  Q14814     K31T     Q02078\n",
      "4    0.343370  Q14814     K31T     Q02078\n",
      "2021-10-11 00:46:33 |\u001b[36m DEBUG    \u001b[0m| helpers.helpers_predator.predictions_utils | Removed entries first five rows (of 707): \n",
      "   PREDICTION PROTEIN MUTATION INTERACTOR\n",
      "0    0.432052  P08134     D59E     P52565\n",
      "1    0.523765  P08134     D59E     P52565\n",
      "2    0.406445  O75175    Q684H     Q9NZN8\n",
      "3    0.482324  O75175    Q684H     Q9NZN8\n",
      "4    0.436674  O75175    Q684H     Q9NZN8\n",
      "2021-10-11 00:46:45 |\u001b[36m DEBUG    \u001b[0m| helpers.helpers_predator.predictions_utils | Removed entries first five rows (of 732): \n",
      "   PREDICTION PROTEIN MUTATION INTERACTOR\n",
      "0    0.573333  P07332    N695H     P08581\n",
      "1    0.320000  P07332    N695H     P08581\n",
      "2    0.480000  Q9NRM7    K672I     Q96GD4\n",
      "3    0.533333  Q9NRM7    K672I     Q96GD4\n",
      "4    0.480000  Q9NRM7    K672I     Q96GD4\n",
      "2021-10-11 00:46:57 |\u001b[36m DEBUG    \u001b[0m| helpers.helpers_predator.predictions_utils | Removed entries first five rows (of 365): \n",
      "   PREDICTION PROTEIN MUTATION INTERACTOR\n",
      "0    0.561462  P07332    N695H     P08581\n",
      "1    0.491209  P07332    N695H     P08581\n",
      "2    0.372929  Q14814     K31T     Q02078\n",
      "3    0.325964  Q14814     K31T     Q06413\n",
      "4    0.325964  Q14814     K31T     Q06413\n",
      "2021-10-11 00:47:10 |\u001b[36m DEBUG    \u001b[0m| helpers.helpers_predator.predictions_utils | Removed entries first five rows (of 717): \n",
      "   PREDICTION PROTEIN MUTATION INTERACTOR\n",
      "0         0.5  Q9NQ66    E539K     Q15147\n",
      "1         0.6  Q9NQ66    E539K     Q15147\n",
      "2         0.6  Q9NQ66    E539K     Q15147\n",
      "3         0.6  P07900    E205D     Q9UHD1\n",
      "4         0.4  P07900    E205D     Q9UHD1\n",
      "2021-10-11 00:47:22 |\u001b[36m DEBUG    \u001b[0m| helpers.helpers_predator.predictions_utils | Removed entries first five rows (of 633): \n",
      "   PREDICTION PROTEIN MUTATION INTERACTOR\n",
      "0    0.546349  P07332    N695H     P08581\n",
      "1    0.366349  P07332    N695H     P08581\n",
      "2    0.496125  Q14814     K31T     Q02078\n",
      "3    0.385000  Q14814     K31T     Q06413\n",
      "4    0.385000  Q14814     K31T     Q06413\n",
      "2021-10-11 00:47:34 |\u001b[36m DEBUG    \u001b[0m| helpers.helpers_predator.predictions_utils | Removed entries first five rows (of 356): \n",
      "   PREDICTION PROTEIN MUTATION INTERACTOR\n",
      "0    0.543577  P62805     N65D     Q9UER7\n",
      "1    0.466836  P62805     N65D     Q9UER7\n",
      "2    0.541249  P62805     N65D     Q9UER7\n",
      "3    0.375719  P04637    H179Y     Q9H9B1\n",
      "4    0.520459  P04637    H179Y     Q9H9B1\n",
      "2021-10-11 00:47:47 |\u001b[36m DEBUG    \u001b[0m| helpers.helpers_predator.predictions_utils | Removed entries first five rows (of 597): \n",
      "   PREDICTION PROTEIN MUTATION INTERACTOR\n",
      "0    0.566377  P07332    N695H     P08581\n",
      "1    0.416775  P07332    N695H     P08581\n",
      "2    0.581474  Q9Y6Q5    R251C     Q9BXS5\n",
      "3    0.488228  Q9Y6Q5    R251C     Q9BXS5\n",
      "4    0.417954  Q14814     K31T     Q02078\n",
      "2021-10-11 00:47:59 |\u001b[36m DEBUG    \u001b[0m| helpers.helpers_predator.predictions_utils | Removed entries first five rows (of 517): \n",
      "   PREDICTION PROTEIN MUTATION INTERACTOR\n",
      "0    0.356973  P04637    R248Q     P62993\n",
      "1    0.356973  P04637    R248Q     P62993\n",
      "2    0.528717  P04637    R248Q     P62993\n",
      "3    0.669916  P04637    R248Q     P62993\n",
      "4    0.481255  Q9HC16    R215P     Q8IUX4\n",
      "2021-10-11 00:48:11 |\u001b[36m DEBUG    \u001b[0m| helpers.helpers_predator.predictions_utils | Removed entries first five rows (of 224): \n",
      "   PREDICTION PROTEIN MUTATION INTERACTOR\n",
      "0    0.584538  Q15019    T186N     Q99719\n",
      "1    0.463706  Q15019    T186N     Q99719\n",
      "2    0.595561  Q15019    T186N     Q9UHD8\n",
      "3    0.595561  Q15019    T186N     Q9UHD8\n",
      "4    0.529849  Q15019    T186N     Q9UHD8\n",
      "2021-10-11 00:48:25 |\u001b[36m DEBUG    \u001b[0m| helpers.helpers_predator.predictions_utils | Removed entries first five rows (of 397): \n",
      "   PREDICTION PROTEIN MUTATION INTERACTOR\n",
      "0    0.548928  P00742    I451M     P10646\n",
      "1    0.481793  P00742    I451M     P10646\n",
      "2    0.481793  P00742    I451M     P10646\n",
      "3    0.561092  P00742    I451M     P10646\n",
      "4    0.561092  P00742    I451M     P10646\n",
      "2021-10-11 00:48:38 |\u001b[36m DEBUG    \u001b[0m| helpers.helpers_predator.predictions_utils | Removed entries first five rows (of 788): \n",
      "   PREDICTION PROTEIN MUTATION INTERACTOR\n",
      "0    0.100000  O75175    Q684H     Q9NZN8\n",
      "1    0.461864  O75175    Q684H     Q9NZN8\n",
      "2    0.218440  O75175    Q684H     Q9NZN8\n",
      "3    0.550214  O75175    Q684H     Q9NZN8\n",
      "4    0.461864  O75175    Q684H     Q9NZN8\n",
      "2021-10-11 00:48:51 |\u001b[36m DEBUG    \u001b[0m| helpers.helpers_predator.predictions_utils | Removed entries first five rows (of 538): \n",
      "   PREDICTION PROTEIN MUTATION INTERACTOR\n",
      "0    0.504388  P00742    I451M     P10646\n",
      "1    0.478144  P00742    I451M     P10646\n",
      "2    0.478144  P00742    I451M     P10646\n",
      "3    0.467948  P00742    I451M     P10646\n",
      "4    0.467948  P00742    I451M     P10646\n",
      "2021-10-11 00:49:03 |\u001b[36m DEBUG    \u001b[0m| helpers.helpers_predator.predictions_utils | Removed entries first five rows (of 518): \n",
      "   PREDICTION PROTEIN MUTATION INTERACTOR\n",
      "0    0.397747  Q14814     K31T     Q02078\n",
      "1    0.356401  Q14814     K31T     Q06413\n",
      "2    0.356401  Q14814     K31T     Q06413\n",
      "3    0.356401  Q14814     K31T     Q06413\n",
      "4    0.356401  Q14814     K31T     Q06413\n",
      "2021-10-11 00:49:15 |\u001b[36m DEBUG    \u001b[0m| helpers.helpers_predator.predictions_utils | Removed entries first five rows (of 902): \n",
      "   PREDICTION PROTEIN MUTATION INTERACTOR\n",
      "0    0.483462  Q9NQ66    E539K     Q15147\n",
      "1    0.836373  Q9NQ66    E539K     Q15147\n",
      "2    0.736373  Q9NQ66    E539K     Q15147\n",
      "3    0.596794  Q9NRM7    K672I     Q96GD4\n",
      "4    0.450365  Q9NRM7    K672I     Q96GD4\n",
      "2021-10-11 00:49:28 |\u001b[36m DEBUG    \u001b[0m| helpers.helpers_predator.predictions_utils | Removed entries first five rows (of 469): \n",
      "   PREDICTION PROTEIN MUTATION INTERACTOR\n",
      "0    0.328439  P34897    F501V     P34896\n",
      "1    0.542089  P34897    F501V     P34896\n",
      "2    0.515892  P62805     N65D     Q9UER7\n",
      "3    0.427648  P62805     N65D     Q9UER7\n",
      "4    0.515892  P62805     N65D     Q9UER7\n",
      "2021-10-11 00:49:40 |\u001b[36m DEBUG    \u001b[0m| helpers.helpers_predator.predictions_utils | Removed entries first five rows (of 547): \n",
      "   PREDICTION PROTEIN MUTATION INTERACTOR\n",
      "0    0.653822  P07332    N695H     P08581\n",
      "1    0.446641  P07332    N695H     P08581\n",
      "2    0.576688  P07900    E205D     Q9UHD1\n",
      "3    0.441688  P07900    E205D     Q9UHD1\n",
      "4    0.255379  Q14814     K31T     Q02078\n",
      "2021-10-11 00:49:40 |\u001b[36m DEBUG    \u001b[0m| helpers.helpers_predator.predictions | Preparing finalized prediction datasets for ov ..\n",
      "2021-10-11 00:49:40 |\u001b[36m DEBUG    \u001b[0m| helpers.helpers_predator.predictions | Post processing completed for ov.\n"
     ]
    }
   ],
   "source": [
    "predator.predictions_post_process()"
   ]
  },
  {
   "cell_type": "code",
   "execution_count": 27,
   "id": "90683791-df42-47a8-ae9d-6c6ba08bcafd",
   "metadata": {},
   "outputs": [
    {
     "data": {
      "text/plain": [
       "dict_keys(['ov_prob', 'ov_predicted_probs_datasets', 'ov_predicted_valid_datasets', 'ov_predicted_invalid_datasets', 'ov_finalized_prediction_dataframes'])"
      ]
     },
     "execution_count": 27,
     "metadata": {},
     "output_type": "execute_result"
    }
   ],
   "source": [
    "predator.predictions.keys()"
   ]
  },
  {
   "cell_type": "code",
   "execution_count": 28,
   "id": "fcf61287-2498-4b53-ac75-1f6baceed2a3",
   "metadata": {},
   "outputs": [
    {
     "name": "stdout",
     "output_type": "stream",
     "text": [
      "\u001b[36mData dimensions: (5086, 104)\u001b[0m\n"
     ]
    },
    {
     "data": {
      "text/html": [
       "<div>\n",
       "<style scoped>\n",
       "    .dataframe tbody tr th:only-of-type {\n",
       "        vertical-align: middle;\n",
       "    }\n",
       "\n",
       "    .dataframe tbody tr th {\n",
       "        vertical-align: top;\n",
       "    }\n",
       "\n",
       "    .dataframe thead th {\n",
       "        text-align: right;\n",
       "    }\n",
       "</style>\n",
       "<table border=\"1\" class=\"dataframe\">\n",
       "  <thead>\n",
       "    <tr style=\"text-align: right;\">\n",
       "      <th></th>\n",
       "      <th>Prediction</th>\n",
       "      <th>Input_identifier</th>\n",
       "      <th>UniProt_ID</th>\n",
       "      <th>Mutation</th>\n",
       "      <th>Status</th>\n",
       "      <th>Type</th>\n",
       "      <th>COSMIC_mut_ID</th>\n",
       "      <th>ClinVar_mut_ID</th>\n",
       "      <th>UniProt_mut_ID</th>\n",
       "      <th>Domain_name</th>\n",
       "      <th>...</th>\n",
       "      <th>number_of_residues_mut</th>\n",
       "      <th>IntraclashesEnergy1_wt</th>\n",
       "      <th>IntraclashesEnergy1_mut</th>\n",
       "      <th>IntraclashesEnergy2_wt</th>\n",
       "      <th>IntraclashesEnergy2_mut</th>\n",
       "      <th>Interface_hydrophobic_area</th>\n",
       "      <th>Interface_hydrophilic_area</th>\n",
       "      <th>Interface_total_area</th>\n",
       "      <th>Interface_contact_distance_wt</th>\n",
       "      <th>Interface_contact_distance_mut</th>\n",
       "    </tr>\n",
       "  </thead>\n",
       "  <tbody>\n",
       "    <tr>\n",
       "      <th>0</th>\n",
       "      <td>0.258101</td>\n",
       "      <td>P08134</td>\n",
       "      <td>P08134</td>\n",
       "      <td>D59E</td>\n",
       "      <td>done</td>\n",
       "      <td>interface</td>\n",
       "      <td>COSM72427</td>\n",
       "      <td>-</td>\n",
       "      <td>-</td>\n",
       "      <td>Ras</td>\n",
       "      <td>...</td>\n",
       "      <td>388.0</td>\n",
       "      <td>53.3423</td>\n",
       "      <td>55.3148</td>\n",
       "      <td>37.8150</td>\n",
       "      <td>37.8150</td>\n",
       "      <td>719.095</td>\n",
       "      <td>461.785</td>\n",
       "      <td>1180.88</td>\n",
       "      <td>3.18062</td>\n",
       "      <td>3.18062</td>\n",
       "    </tr>\n",
       "    <tr>\n",
       "      <th>1</th>\n",
       "      <td>0.313369</td>\n",
       "      <td>P08134</td>\n",
       "      <td>P08134</td>\n",
       "      <td>D59E</td>\n",
       "      <td>done</td>\n",
       "      <td>interface</td>\n",
       "      <td>COSM72427</td>\n",
       "      <td>-</td>\n",
       "      <td>-</td>\n",
       "      <td>Ras</td>\n",
       "      <td>...</td>\n",
       "      <td>344.0</td>\n",
       "      <td>62.3140</td>\n",
       "      <td>63.0691</td>\n",
       "      <td>32.5038</td>\n",
       "      <td>32.5038</td>\n",
       "      <td>598.71</td>\n",
       "      <td>417.74</td>\n",
       "      <td>1016.46</td>\n",
       "      <td>3.80414</td>\n",
       "      <td>3.80414</td>\n",
       "    </tr>\n",
       "    <tr>\n",
       "      <th>2</th>\n",
       "      <td>0.549614</td>\n",
       "      <td>P62993</td>\n",
       "      <td>P62993</td>\n",
       "      <td>A3V</td>\n",
       "      <td>done</td>\n",
       "      <td>interface</td>\n",
       "      <td>-</td>\n",
       "      <td>-</td>\n",
       "      <td>-</td>\n",
       "      <td>SH3_1</td>\n",
       "      <td>...</td>\n",
       "      <td>280.0</td>\n",
       "      <td>23.2774</td>\n",
       "      <td>24.5177</td>\n",
       "      <td>122.5120</td>\n",
       "      <td>122.5120</td>\n",
       "      <td>170.81</td>\n",
       "      <td>120.515</td>\n",
       "      <td>291.325</td>\n",
       "      <td>4.63364</td>\n",
       "      <td>4.63364</td>\n",
       "    </tr>\n",
       "  </tbody>\n",
       "</table>\n",
       "<p>3 rows × 104 columns</p>\n",
       "</div>"
      ],
      "text/plain": [
       "   Prediction Input_identifier UniProt_ID Mutation Status       Type  \\\n",
       "0    0.258101           P08134     P08134     D59E   done  interface   \n",
       "1    0.313369           P08134     P08134     D59E   done  interface   \n",
       "2    0.549614           P62993     P62993      A3V   done  interface   \n",
       "\n",
       "  COSMIC_mut_ID ClinVar_mut_ID UniProt_mut_ID Domain_name  ...  \\\n",
       "0     COSM72427              -              -         Ras  ...   \n",
       "1     COSM72427              -              -         Ras  ...   \n",
       "2             -              -              -       SH3_1  ...   \n",
       "\n",
       "  number_of_residues_mut IntraclashesEnergy1_wt IntraclashesEnergy1_mut  \\\n",
       "0                  388.0                53.3423                 55.3148   \n",
       "1                  344.0                62.3140                 63.0691   \n",
       "2                  280.0                23.2774                 24.5177   \n",
       "\n",
       "   IntraclashesEnergy2_wt  IntraclashesEnergy2_mut Interface_hydrophobic_area  \\\n",
       "0                 37.8150                  37.8150                    719.095   \n",
       "1                 32.5038                  32.5038                     598.71   \n",
       "2                122.5120                 122.5120                     170.81   \n",
       "\n",
       "  Interface_hydrophilic_area Interface_total_area  \\\n",
       "0                    461.785              1180.88   \n",
       "1                     417.74              1016.46   \n",
       "2                    120.515              291.325   \n",
       "\n",
       "  Interface_contact_distance_wt Interface_contact_distance_mut  \n",
       "0                       3.18062                        3.18062  \n",
       "1                       3.80414                        3.80414  \n",
       "2                       4.63364                        4.63364  \n",
       "\n",
       "[3 rows x 104 columns]"
      ]
     },
     "metadata": {},
     "output_type": "display_data"
    }
   ],
   "source": [
    "display_data(predator.predictions[\"ov_predicted_probs_datasets\"][0])"
   ]
  },
  {
   "cell_type": "code",
   "execution_count": 29,
   "id": "a603e902-b663-49e2-92c5-e6167cc06699",
   "metadata": {},
   "outputs": [
    {
     "data": {
      "image/png": "[encoded data removed]",
      "text/plain": [
       "<Figure size 1080x360 with 1 Axes>"
      ]
     },
     "metadata": {},
     "output_type": "display_data"
    }
   ],
   "source": [
    "predator.predictions.plot_distribution_valid_vs_invalid(\"ov\")"
   ]
  },
  {
   "cell_type": "code",
   "execution_count": 31,
   "id": "77147287-c7ce-4771-b0ed-e45479644ccb",
   "metadata": {},
   "outputs": [
    {
     "name": "stdout",
     "output_type": "stream",
     "text": [
      "2021-10-11 00:49:41 |\u001b[36m DEBUG    \u001b[0m| helpers.helpers_predator.predictions | Plotting number of finalized predictions per model.\n",
      "Note that following plot shows the number of (protein, mutation, interactor) triplets which had valid prediction.\n"
     ]
    },
    {
     "data": {
      "image/png": "[encoded data removed]",
      "text/plain": [
       "<Figure size 1080x360 with 1 Axes>"
      ]
     },
     "metadata": {},
     "output_type": "display_data"
    }
   ],
   "source": [
    "predator.predictions.plot_num_finalized_predictions(\"ov\")"
   ]
  },
  {
   "cell_type": "code",
   "execution_count": 32,
   "id": "a0762893-11a8-43c7-8b93-1b214a1a85e4",
   "metadata": {},
   "outputs": [
    {
     "name": "stdout",
     "output_type": "stream",
     "text": [
      "\u001b[36mData dimensions: (3337, 4)\u001b[0m\n"
     ]
    },
    {
     "data": {
      "text/html": [
       "<div>\n",
       "<style scoped>\n",
       "    .dataframe tbody tr th:only-of-type {\n",
       "        vertical-align: middle;\n",
       "    }\n",
       "\n",
       "    .dataframe tbody tr th {\n",
       "        vertical-align: top;\n",
       "    }\n",
       "\n",
       "    .dataframe thead th {\n",
       "        text-align: right;\n",
       "    }\n",
       "</style>\n",
       "<table border=\"1\" class=\"dataframe\">\n",
       "  <thead>\n",
       "    <tr style=\"text-align: right;\">\n",
       "      <th></th>\n",
       "      <th>Prediction</th>\n",
       "      <th>UniProt_ID</th>\n",
       "      <th>Mutation</th>\n",
       "      <th>Interactor_UniProt_ID</th>\n",
       "    </tr>\n",
       "  </thead>\n",
       "  <tbody>\n",
       "    <tr>\n",
       "      <th>0</th>\n",
       "      <td>0.258101</td>\n",
       "      <td>P08134</td>\n",
       "      <td>D59E</td>\n",
       "      <td>P52565</td>\n",
       "    </tr>\n",
       "    <tr>\n",
       "      <th>1</th>\n",
       "      <td>0.313369</td>\n",
       "      <td>P08134</td>\n",
       "      <td>D59E</td>\n",
       "      <td>P52565</td>\n",
       "    </tr>\n",
       "    <tr>\n",
       "      <th>2</th>\n",
       "      <td>0.549614</td>\n",
       "      <td>P62993</td>\n",
       "      <td>A3V</td>\n",
       "      <td>Q9H8V3</td>\n",
       "    </tr>\n",
       "  </tbody>\n",
       "</table>\n",
       "</div>"
      ],
      "text/plain": [
       "   Prediction UniProt_ID Mutation Interactor_UniProt_ID\n",
       "0    0.258101     P08134     D59E                P52565\n",
       "1    0.313369     P08134     D59E                P52565\n",
       "2    0.549614     P62993      A3V                Q9H8V3"
      ]
     },
     "metadata": {},
     "output_type": "display_data"
    }
   ],
   "source": [
    "display_data(predator.predictions['ov_finalized_prediction_dataframes'][0])"
   ]
  },
  {
   "cell_type": "code",
   "execution_count": 33,
   "id": "7fab8dc7-62ea-4cba-bdfa-0a8187a53a27",
   "metadata": {
    "scrolled": true,
    "tags": []
   },
   "outputs": [
    {
     "name": "stdout",
     "output_type": "stream",
     "text": [
      "2021-10-11 00:49:42 |\u001b[32m INFO     \u001b[0m| helpers.helpers_predator.predictions | PredictionsSoft\n",
      "2021-10-11 00:49:42 |\u001b[32m INFO     \u001b[0m| helpers.helpers_predator.predictions | Preparing ensemble prediction data for ov taking median ..\n"
     ]
    },
    {
     "data": {
      "application/vnd.jupyter.widget-view+json": {
       "model_id": "a76cca75b5d34589afe7c0f573db990e",
       "version_major": 2,
       "version_minor": 0
      },
      "text/plain": [
       "  0%|          | 0/37 [00:00<?, ?it/s]"
      ]
     },
     "metadata": {},
     "output_type": "display_data"
    },
    {
     "name": "stdout",
     "output_type": "stream",
     "text": [
      "2021-10-11 00:52:31 |\u001b[36m DEBUG    \u001b[0m| helpers.helpers_predator.predictions | Prediction probabilities data for ov is prepared.\n",
      "Accessible from `ov_predictions_prob_data`.\n",
      "2021-10-11 00:52:31 |\u001b[36m DEBUG    \u001b[0m| helpers.helpers_predator.predictions | Ensemble prediction data for ov is prepared.\n",
      "Accessible from `ov_ensemble_prediction_data`.\n",
      "2021-10-11 00:52:31 |\u001b[36m DEBUG    \u001b[0m| helpers.helpers_predator.predictions | Resulting prediction data is available for ov.\n",
      "Accessible from predictions.['ov_prediction_results']\n",
      "2021-10-11 00:52:31 |\u001b[36m DEBUG    \u001b[0m| helpers.helpers_predator.predictions | Resulting prediction data (no_votes dropped) is available for ov.\n",
      "Accessible from predictions.['ov_prediction_results_no_votes_dropped']\n"
     ]
    }
   ],
   "source": [
    "predator.prepare_ensemble_prediction_data()"
   ]
  },
  {
   "cell_type": "code",
   "execution_count": 34,
   "id": "0ffd0f8a-b82f-4733-9a31-2d350402fecb",
   "metadata": {},
   "outputs": [
    {
     "name": "stdout",
     "output_type": "stream",
     "text": [
      "\u001b[36mData dimensions: (2578, 39)\u001b[0m\n"
     ]
    },
    {
     "data": {
      "text/html": [
       "<div>\n",
       "<style scoped>\n",
       "    .dataframe tbody tr th:only-of-type {\n",
       "        vertical-align: middle;\n",
       "    }\n",
       "\n",
       "    .dataframe tbody tr th {\n",
       "        vertical-align: top;\n",
       "    }\n",
       "\n",
       "    .dataframe thead th {\n",
       "        text-align: right;\n",
       "    }\n",
       "</style>\n",
       "<table border=\"1\" class=\"dataframe\">\n",
       "  <thead>\n",
       "    <tr style=\"text-align: right;\">\n",
       "      <th></th>\n",
       "      <th>Trial 0</th>\n",
       "      <th>Trial 1</th>\n",
       "      <th>Trial 2</th>\n",
       "      <th>Trial 3</th>\n",
       "      <th>Trial 4</th>\n",
       "      <th>Trial 5</th>\n",
       "      <th>Trial 6</th>\n",
       "      <th>Trial 7</th>\n",
       "      <th>Trial 8</th>\n",
       "      <th>Trial 9</th>\n",
       "      <th>...</th>\n",
       "      <th>Trial 29</th>\n",
       "      <th>Trial 30</th>\n",
       "      <th>Trial 31</th>\n",
       "      <th>Trial 32</th>\n",
       "      <th>Trial 33</th>\n",
       "      <th>Trial 34</th>\n",
       "      <th>Trial 35</th>\n",
       "      <th>Trial 36</th>\n",
       "      <th>PROB_1s_AVG</th>\n",
       "      <th>VOTED_PREDICTION</th>\n",
       "    </tr>\n",
       "  </thead>\n",
       "  <tbody>\n",
       "    <tr>\n",
       "      <th>0</th>\n",
       "      <td>0.285735</td>\n",
       "      <td>0.324022</td>\n",
       "      <td>0.100313</td>\n",
       "      <td>0.183961</td>\n",
       "      <td>0.34</td>\n",
       "      <td>0.33657</td>\n",
       "      <td>0.249208</td>\n",
       "      <td>0.203588</td>\n",
       "      <td>0.461873</td>\n",
       "      <td>0.196921</td>\n",
       "      <td>...</td>\n",
       "      <td>0.327551</td>\n",
       "      <td>0.289581</td>\n",
       "      <td>0.113124</td>\n",
       "      <td>0.226729</td>\n",
       "      <td>0.454805</td>\n",
       "      <td>0.34616</td>\n",
       "      <td>0.459367</td>\n",
       "      <td>0.303253</td>\n",
       "      <td>0.26787</td>\n",
       "      <td>0</td>\n",
       "    </tr>\n",
       "    <tr>\n",
       "      <th>1</th>\n",
       "      <td>0.549614</td>\n",
       "      <td>0.53906</td>\n",
       "      <td>0.573669</td>\n",
       "      <td>0.536013</td>\n",
       "      <td>0.32</td>\n",
       "      <td>0.416451</td>\n",
       "      <td>0.545645</td>\n",
       "      <td>0.378409</td>\n",
       "      <td>0.595046</td>\n",
       "      <td>0.524716</td>\n",
       "      <td>...</td>\n",
       "      <td>0.458546</td>\n",
       "      <td>0.359192</td>\n",
       "      <td>0.328969</td>\n",
       "      <td>0.306549</td>\n",
       "      <td>0.53143</td>\n",
       "      <td>0.413095</td>\n",
       "      <td>0.499573</td>\n",
       "      <td>0.405714</td>\n",
       "      <td>0.45855</td>\n",
       "      <td>0</td>\n",
       "    </tr>\n",
       "    <tr>\n",
       "      <th>2</th>\n",
       "      <td>0.554122</td>\n",
       "      <td>0.613663</td>\n",
       "      <td>0.498702</td>\n",
       "      <td>0.242433</td>\n",
       "      <td>0.28</td>\n",
       "      <td>0.495152</td>\n",
       "      <td>0.725</td>\n",
       "      <td>0.503368</td>\n",
       "      <td>0.623617</td>\n",
       "      <td>0.421751</td>\n",
       "      <td>...</td>\n",
       "      <td>0.562074</td>\n",
       "      <td>0.490024</td>\n",
       "      <td>0.491228</td>\n",
       "      <td>0.342821</td>\n",
       "      <td>0.633458</td>\n",
       "      <td>0.6</td>\n",
       "      <td>0.61922</td>\n",
       "      <td>0.435556</td>\n",
       "      <td>0.50337</td>\n",
       "      <td>1</td>\n",
       "    </tr>\n",
       "  </tbody>\n",
       "</table>\n",
       "<p>3 rows × 39 columns</p>\n",
       "</div>"
      ],
      "text/plain": [
       "    Trial 0   Trial 1   Trial 2   Trial 3 Trial 4   Trial 5   Trial 6  \\\n",
       "0  0.285735  0.324022  0.100313  0.183961    0.34   0.33657  0.249208   \n",
       "1  0.549614   0.53906  0.573669  0.536013    0.32  0.416451  0.545645   \n",
       "2  0.554122  0.613663  0.498702  0.242433    0.28  0.495152     0.725   \n",
       "\n",
       "    Trial 7   Trial 8   Trial 9  ...  Trial 29  Trial 30  Trial 31  Trial 32  \\\n",
       "0  0.203588  0.461873  0.196921  ...  0.327551  0.289581  0.113124  0.226729   \n",
       "1  0.378409  0.595046  0.524716  ...  0.458546  0.359192  0.328969  0.306549   \n",
       "2  0.503368  0.623617  0.421751  ...  0.562074  0.490024  0.491228  0.342821   \n",
       "\n",
       "   Trial 33  Trial 34  Trial 35  Trial 36 PROB_1s_AVG VOTED_PREDICTION  \n",
       "0  0.454805   0.34616  0.459367  0.303253     0.26787                0  \n",
       "1   0.53143  0.413095  0.499573  0.405714     0.45855                0  \n",
       "2  0.633458       0.6   0.61922  0.435556     0.50337                1  \n",
       "\n",
       "[3 rows x 39 columns]"
      ]
     },
     "metadata": {},
     "output_type": "display_data"
    }
   ],
   "source": [
    "display_data(predator.predictions['ov_predictions_prob_data'])"
   ]
  },
  {
   "cell_type": "code",
   "execution_count": 35,
   "id": "f2b38467-e658-4ed6-9ac0-6de1f1017ce7",
   "metadata": {},
   "outputs": [
    {
     "data": {
      "image/png": "[encoded data removed]",
      "text/plain": [
       "<Figure size 432x288 with 1 Axes>"
      ]
     },
     "metadata": {},
     "output_type": "display_data"
    }
   ],
   "source": [
    "predator.predictions.plot_ensemble_prediction_distribution(\"ov\")"
   ]
  },
  {
   "cell_type": "code",
   "execution_count": 36,
   "id": "c454d6a9-5c73-4fe6-b609-e7b160e2ddb8",
   "metadata": {},
   "outputs": [
    {
     "name": "stdout",
     "output_type": "stream",
     "text": [
      "\u001b[36mData dimensions: (2578, 4)\u001b[0m\n"
     ]
    },
    {
     "data": {
      "text/html": [
       "<div>\n",
       "<style scoped>\n",
       "    .dataframe tbody tr th:only-of-type {\n",
       "        vertical-align: middle;\n",
       "    }\n",
       "\n",
       "    .dataframe tbody tr th {\n",
       "        vertical-align: top;\n",
       "    }\n",
       "\n",
       "    .dataframe thead th {\n",
       "        text-align: right;\n",
       "    }\n",
       "</style>\n",
       "<table border=\"1\" class=\"dataframe\">\n",
       "  <thead>\n",
       "    <tr style=\"text-align: right;\">\n",
       "      <th></th>\n",
       "      <th>UniProt_ID</th>\n",
       "      <th>Mutation</th>\n",
       "      <th>Interactor_UniProt_ID</th>\n",
       "      <th>Prediction</th>\n",
       "    </tr>\n",
       "  </thead>\n",
       "  <tbody>\n",
       "    <tr>\n",
       "      <th>0</th>\n",
       "      <td>P08134</td>\n",
       "      <td>D59E</td>\n",
       "      <td>P52565</td>\n",
       "      <td>0</td>\n",
       "    </tr>\n",
       "    <tr>\n",
       "      <th>1</th>\n",
       "      <td>P62993</td>\n",
       "      <td>A3V</td>\n",
       "      <td>Q9H8V3</td>\n",
       "      <td>0</td>\n",
       "    </tr>\n",
       "    <tr>\n",
       "      <th>2</th>\n",
       "      <td>P62993</td>\n",
       "      <td>A3V</td>\n",
       "      <td>Q14155</td>\n",
       "      <td>1</td>\n",
       "    </tr>\n",
       "  </tbody>\n",
       "</table>\n",
       "</div>"
      ],
      "text/plain": [
       "  UniProt_ID Mutation Interactor_UniProt_ID Prediction\n",
       "0     P08134     D59E                P52565          0\n",
       "1     P62993      A3V                Q9H8V3          0\n",
       "2     P62993      A3V                Q14155          1"
      ]
     },
     "metadata": {},
     "output_type": "display_data"
    }
   ],
   "source": [
    "ov_prediction_results_soft = predator.predictions['ov_prediction_results']\n",
    "display_data(ov_prediction_results_soft)"
   ]
  },
  {
   "cell_type": "code",
   "execution_count": 37,
   "id": "569c4dd1-e2d9-40d0-b7c0-1cc177adfabb",
   "metadata": {},
   "outputs": [
    {
     "name": "stdout",
     "output_type": "stream",
     "text": [
      "\u001b[36mData dimensions: (2520, 4)\u001b[0m\n"
     ]
    },
    {
     "data": {
      "text/html": [
       "<div>\n",
       "<style scoped>\n",
       "    .dataframe tbody tr th:only-of-type {\n",
       "        vertical-align: middle;\n",
       "    }\n",
       "\n",
       "    .dataframe tbody tr th {\n",
       "        vertical-align: top;\n",
       "    }\n",
       "\n",
       "    .dataframe thead th {\n",
       "        text-align: right;\n",
       "    }\n",
       "</style>\n",
       "<table border=\"1\" class=\"dataframe\">\n",
       "  <thead>\n",
       "    <tr style=\"text-align: right;\">\n",
       "      <th></th>\n",
       "      <th>UniProt_ID</th>\n",
       "      <th>Mutation</th>\n",
       "      <th>Interactor_UniProt_ID</th>\n",
       "      <th>Prediction</th>\n",
       "    </tr>\n",
       "  </thead>\n",
       "  <tbody>\n",
       "    <tr>\n",
       "      <th>0</th>\n",
       "      <td>P08134</td>\n",
       "      <td>D59E</td>\n",
       "      <td>P52565</td>\n",
       "      <td>0</td>\n",
       "    </tr>\n",
       "    <tr>\n",
       "      <th>1</th>\n",
       "      <td>P62993</td>\n",
       "      <td>A3V</td>\n",
       "      <td>Q9H8V3</td>\n",
       "      <td>0</td>\n",
       "    </tr>\n",
       "    <tr>\n",
       "      <th>2</th>\n",
       "      <td>P62993</td>\n",
       "      <td>A3V</td>\n",
       "      <td>Q14155</td>\n",
       "      <td>1</td>\n",
       "    </tr>\n",
       "  </tbody>\n",
       "</table>\n",
       "</div>"
      ],
      "text/plain": [
       "  UniProt_ID Mutation Interactor_UniProt_ID Prediction\n",
       "0     P08134     D59E                P52565          0\n",
       "1     P62993      A3V                Q9H8V3          0\n",
       "2     P62993      A3V                Q14155          1"
      ]
     },
     "metadata": {},
     "output_type": "display_data"
    }
   ],
   "source": [
    "ov_prediction_results_soft_no_votes_dropped = predator.predictions[\"ov_prediction_results_no_votes_dropped\"]\n",
    "display_data(ov_prediction_results_soft_no_votes_dropped)"
   ]
  },
  {
   "cell_type": "code",
   "execution_count": 38,
   "id": "d1100263-ae65-405f-a13d-896927fdc1c5",
   "metadata": {},
   "outputs": [
    {
     "name": "stdout",
     "output_type": "stream",
     "text": [
      "\u001b[36mLabel counts:\n",
      "Disrupting                1410\n",
      "Increasing + No Effect    1110\n",
      "Name: Prediction, dtype: int64\u001b[0m\n"
     ]
    },
    {
     "data": {
      "image/png": "[encoded data removed]",
      "text/plain": [
       "<Figure size 432x288 with 1 Axes>"
      ]
     },
     "metadata": {},
     "output_type": "display_data"
    }
   ],
   "source": [
    "visualize_label_counts(ov_prediction_results_soft_no_votes_dropped, 'Prediction')"
   ]
  },
  {
   "cell_type": "code",
   "execution_count": 39,
   "id": "37c0a11a-e87e-40af-ba8a-8a28b82d956d",
   "metadata": {},
   "outputs": [],
   "source": [
    "ov_ensemble_prediction_data_soft = predator.predictions[\"ov_ensemble_prediction_data\"]"
   ]
  },
  {
   "cell_type": "code",
   "execution_count": 40,
   "id": "e4995e62-dfd6-4b54-bd6c-67a62eefb6a6",
   "metadata": {},
   "outputs": [],
   "source": [
    "ov_predictions_prob_data_soft = predator.predictions[\"ov_predictions_prob_data\"]"
   ]
  },
  {
   "cell_type": "markdown",
   "id": "d67ab239-1c4d-404e-b272-a271751dd607",
   "metadata": {},
   "source": [
    "## Exporting Predictions"
   ]
  },
  {
   "cell_type": "code",
   "execution_count": 41,
   "id": "9a94b745-4a6d-46d4-a559-4fe47bc2a7b3",
   "metadata": {},
   "outputs": [
    {
     "name": "stdout",
     "output_type": "stream",
     "text": [
      "\u001b[36mData dimensions: (2520, 4)\u001b[0m\n"
     ]
    },
    {
     "data": {
      "text/html": [
       "<div>\n",
       "<style scoped>\n",
       "    .dataframe tbody tr th:only-of-type {\n",
       "        vertical-align: middle;\n",
       "    }\n",
       "\n",
       "    .dataframe tbody tr th {\n",
       "        vertical-align: top;\n",
       "    }\n",
       "\n",
       "    .dataframe thead th {\n",
       "        text-align: right;\n",
       "    }\n",
       "</style>\n",
       "<table border=\"1\" class=\"dataframe\">\n",
       "  <thead>\n",
       "    <tr style=\"text-align: right;\">\n",
       "      <th></th>\n",
       "      <th>UniProt_ID</th>\n",
       "      <th>Mutation</th>\n",
       "      <th>Interactor_UniProt_ID</th>\n",
       "      <th>Prediction</th>\n",
       "    </tr>\n",
       "  </thead>\n",
       "  <tbody>\n",
       "    <tr>\n",
       "      <th>0</th>\n",
       "      <td>P08134</td>\n",
       "      <td>D59E</td>\n",
       "      <td>P52565</td>\n",
       "      <td>0</td>\n",
       "    </tr>\n",
       "    <tr>\n",
       "      <th>1</th>\n",
       "      <td>P62993</td>\n",
       "      <td>A3V</td>\n",
       "      <td>Q9H8V3</td>\n",
       "      <td>0</td>\n",
       "    </tr>\n",
       "    <tr>\n",
       "      <th>2</th>\n",
       "      <td>P62993</td>\n",
       "      <td>A3V</td>\n",
       "      <td>Q14155</td>\n",
       "      <td>1</td>\n",
       "    </tr>\n",
       "  </tbody>\n",
       "</table>\n",
       "</div>"
      ],
      "text/plain": [
       "  UniProt_ID Mutation Interactor_UniProt_ID Prediction\n",
       "0     P08134     D59E                P52565          0\n",
       "1     P62993      A3V                Q9H8V3          0\n",
       "2     P62993      A3V                Q14155          1"
      ]
     },
     "metadata": {},
     "output_type": "display_data"
    }
   ],
   "source": [
    "# ov_prediction_results = ov_prediction_results_hard_no_votes_dropped\n",
    "ov_prediction_results = ov_prediction_results_soft_no_votes_dropped\n",
    "display_data(ov_prediction_results)"
   ]
  },
  {
   "cell_type": "code",
   "execution_count": 42,
   "id": "59517c95-9287-4f96-800b-1a38efe5ff2b",
   "metadata": {},
   "outputs": [
    {
     "name": "stdout",
     "output_type": "stream",
     "text": [
      "2021-10-11 00:52:33 |\u001b[36m DEBUG    \u001b[0m| helpers.helpers_predator.common | Folder with ID 38a5aa80 is created.\n",
      "2021-10-11 00:52:33 |\u001b[36m DEBUG    \u001b[0m| helpers.helpers_predator.common | Exporting data predictions at location ../data/predictions_datasets/ in folder ov_prediction_2021-10-11\\38a5aa80..\n",
      "2021-10-11 00:52:33 |\u001b[32m INFO     \u001b[0m| helpers.helpers_predator.common | ../data/predictions_datasets/ov_prediction_2021-10-11\\38a5aa80\\predictions_soft_2021-10-11.csv is exported successfully.\n",
      "2021-10-11 00:52:33 |\u001b[32m INFO     \u001b[0m| helpers.helpers_predator.common | Config is exported.\n"
     ]
    }
   ],
   "source": [
    "predator.export_prediction(\n",
    "    tcga=\"ov\",\n",
    "    data=ov_prediction_results,\n",
    "    file_name=\"predictions\",\n",
    "    folder_path=PREDICTIONS_DATASETS_FOLDER_PATH,\n",
    "    voting=\"soft\",\n",
    "    overwrite=False,\n",
    "    file_extension='csv'\n",
    ")"
   ]
  },
  {
   "cell_type": "markdown",
   "id": "6ecc002b-2ec4-4a66-9dfa-30e5c4c107f8",
   "metadata": {},
   "source": [
    "---"
   ]
  },
  {
   "cell_type": "code",
   "execution_count": null,
   "id": "76fbe1ea-9846-42b2-a1d5-a09a1d928a4f",
   "metadata": {},
   "outputs": [],
   "source": []
  }
 ],
 "metadata": {
  "kernelspec": {
   "display_name": "Predicting-Mutation-Effects",
   "language": "python",
   "name": "predicting-mutation-effects"
  },
  "language_info": {
   "codemirror_mode": {
    "name": "ipython",
    "version": 3
   },
   "file_extension": ".py",
   "mimetype": "text/x-python",
   "name": "python",
   "nbconvert_exporter": "python",
   "pygments_lexer": "ipython3",
   "version": "3.8.10"
  },
  "toc-autonumbering": false
 },
 "nbformat": 4,
 "nbformat_minor": 5
}
