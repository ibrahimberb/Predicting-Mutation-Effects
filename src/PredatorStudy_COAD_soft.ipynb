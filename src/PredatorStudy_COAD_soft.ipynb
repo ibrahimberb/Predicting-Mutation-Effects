{
 "cells": [
  {
   "cell_type": "markdown",
   "id": "b0eea2f9-919a-44d2-970f-da295e7b77c5",
   "metadata": {
    "tags": []
   },
   "source": [
    "# PREDATOR: **PRED**icting the imp**A**ct of cancer somatic mu**T**ations on pr**O**tein-protein inte**R**actions\n"
   ]
  },
  {
   "cell_type": "markdown",
   "id": "0fc1bee2-776f-46dc-9aa7-80e979b941df",
   "metadata": {},
   "source": [
    "## COAD"
   ]
  },
  {
   "cell_type": "markdown",
   "id": "f412b89c-b553-4606-95fb-d30520f77b97",
   "metadata": {},
   "source": [
    "\n",
    "<b><i class=\"fa fa-folder-o\" area-hidden=\"true\" style=\"color:#1976D2\"> </i>&nbsp; File Location</b><br>\n",
    "<p style=\"background:#F5F5F5; text-indent: 1em;\">\n",
    "<code style=\"background:#F5F5F5; color:#404040; font-weight:bold; font-size:12px\">C:\\Users\\ibrah\\Documents\\GitHub\\Predicting-Mutation-Effects\\src</code>\n",
    "</p>\n",
    "\n",
    "<b><i class=\"far fa-file\" area-hidden=\"true\" style=\"color:#1976D2\"> </i>&nbsp; File Name</b>\n",
    "<p style=\"background:#F5F5F5; text-indent: 1em;\">\n",
    "<code style=\"background:#F5F5F5; color:#404040; font-weight:bold; font-size:12px\">PredatorStudy_COAD_soft.ipynb</code>\n",
    "</p>\n",
    "\n",
    "<b><i class=\"far fa-calendar-alt\" area-hidden=\"true\" style=\"color:#1976D2\"> </i>&nbsp; Last Edited</b>\n",
    "<p style=\"background:#F5F5F5; text-indent: 1em;\">\n",
    "<code style=\"background:#F5F5F5; color:#404040; font-weight:bold; font-size:12px\">November 17th, 2021</code>\n",
    "</p>\n"
   ]
  },
  {
   "cell_type": "markdown",
   "id": "8931daec-0e11-43e2-8a68-098571c3cc4e",
   "metadata": {},
   "source": [
    "<div class=\"alert alert-block\" style=\"background-color: #F5F5F5; border: 1px solid; padding: 10px; border-color: #E0E0E0\">\n",
    "    <b><i class=\"fa fa-compass\" aria-hidden=\"true\" style=\"color:#404040\"></i></b>&nbsp; <b style=\"color: #404040\">Purpose </b> <br>\n",
    "<div>\n",
    "   \n",
    "- [x] Apply on Cancer Datasets\n",
    "    > COAD\n",
    "    \n",
    "**Dependent files:**\n",
    "\n",
    "* Target (Cancer) data: \n",
    "    - *COAD_Interface.txt*"
   ]
  },
  {
   "cell_type": "code",
   "execution_count": 1,
   "id": "3f602602-ac27-4390-9521-9bcdc73f06ef",
   "metadata": {},
   "outputs": [],
   "source": [
    "# Common imports\n",
    "import pandas as pd\n",
    "import numpy as np\n",
    "import matplotlib.pyplot as plt\n",
    "import seaborn as sns\n",
    "\n",
    "import os\n",
    "import os.path as op\n",
    "import sys\n",
    "import random\n",
    "from pathlib import Path\n",
    "\n",
    "from pprint import pprint\n",
    "from IPython.display import display\n",
    "from tqdm.notebook import tqdm\n",
    "\n",
    "from helpers.helpers_predator.displayers import (\n",
    "    display_label_counts, \n",
    "    display_labels, \n",
    "    visualize_label_counts,\n",
    "    display_data,\n",
    ")\n",
    "\n",
    "from helpers.helpers_predator.visualizers import (\n",
    "    visualize_sampled_train_datasets_label_counts\n",
    ")\n",
    "\n",
    "from helpers.helpers_predator.common import load_predator\n",
    "from helpers.helpers_predator.common import export_data\n",
    "\n",
    "# PATHS\n",
    "COAD_PATH = Path(r\"../../My-ELASPIC-Web-API/Elaspic_Results/Merged_Results/COAD_Interface_2022-01-06.txt\")\n",
    "PREDATOR_MODEL_PATH = Path(r\"PredatorModels/PredatorModel_2021-10-24/04f37897/predator.pkl\")\n",
    "PREDICTIONS_DATASETS_FOLDER_PATH = \"../data/predictions_datasets/\"\n",
    "\n",
    "# Reflect changes in the modules immediately.\n",
    "%load_ext autoreload\n",
    "%autoreload 2"
   ]
  },
  {
   "cell_type": "markdown",
   "id": "c47b1edb-758c-460e-acf7-4f864330d19b",
   "metadata": {},
   "source": [
    "## Load the Predator"
   ]
  },
  {
   "cell_type": "code",
   "execution_count": 2,
   "id": "0c164c31-9b7e-4366-8336-50cbc80bf9c7",
   "metadata": {},
   "outputs": [
    {
     "name": "stdout",
     "output_type": "stream",
     "text": [
      "2022-01-06 12:03:41 |\u001b[32m INFO     \u001b[0m| helpers.helpers_predator.common | Predator object PredatorModels\\PredatorModel_2021-10-24\\04f37897\\predator.pkl is loaded successfully.\n"
     ]
    }
   ],
   "source": [
    "predator = load_predator(PREDATOR_MODEL_PATH)"
   ]
  },
  {
   "cell_type": "markdown",
   "id": "60f783e4-28bb-4543-9d35-42c4b17b37b8",
   "metadata": {},
   "source": [
    "## Prediction TCGA on Cancer Dataset: COAD"
   ]
  },
  {
   "cell_type": "code",
   "execution_count": 3,
   "id": "c27cc976-e356-4271-85e9-f23c9366dc67",
   "metadata": {},
   "outputs": [
    {
     "name": "stdout",
     "output_type": "stream",
     "text": [
      "2022-01-06 12:03:43 |\u001b[36m DEBUG    \u001b[0m| helpers.helpers_predator.data_materials | Initialize `coad` ..\n",
      "2022-01-06 12:03:43 |\u001b[36m DEBUG    \u001b[0m| helpers.helpers_predator.data_materials | Initialize `target_coad_data` ..\n",
      "2022-01-06 12:03:43 |\u001b[36m DEBUG    \u001b[0m| helpers.helpers_predator.data_materials | Initializing target data materials ..\n",
      "2022-01-06 12:03:43 |\u001b[36m DEBUG    \u001b[0m| helpers.helpers_predator.data_materials | Determined features: ['Provean_score', 'EL2_score', 'Final_ddG', 'Interactor_alignment_score', 'Solvent_accessibility_wt', 'Matrix_score', 'Solvent_accessibility_mut', 'van_der_waals_mut', 'Interactor_template_sequence_identity', 'solvation_polar_wt']\n",
      "2022-01-06 12:03:43 |\u001b[36m DEBUG    \u001b[0m| helpers.helpers_predator.data_materials | Declaring Xs_coad data materials  ..\n"
     ]
    }
   ],
   "source": [
    "predator.initialize_target_data_materials(\n",
    "    tcga_code_path_pairs=[('coad', COAD_PATH)]\n",
    ")"
   ]
  },
  {
   "cell_type": "markdown",
   "id": "245b2b8c-0c70-4cd5-9a09-b3428cf0b048",
   "metadata": {
    "tags": []
   },
   "source": [
    "#### TCGA Cancer Datasets"
   ]
  },
  {
   "cell_type": "markdown",
   "id": "4ab061ec-37b5-4651-a5c0-1f1238e7a08a",
   "metadata": {},
   "source": [
    "##### COAD"
   ]
  },
  {
   "cell_type": "code",
   "execution_count": 4,
   "id": "342221d3-8e16-42eb-9801-20a3efed64f5",
   "metadata": {},
   "outputs": [
    {
     "name": "stdout",
     "output_type": "stream",
     "text": [
      "\u001b[36mData dimensions: (14822, 103)\u001b[0m\n"
     ]
    },
    {
     "data": {
      "text/html": [
       "<div>\n",
       "<style scoped>\n",
       "    .dataframe tbody tr th:only-of-type {\n",
       "        vertical-align: middle;\n",
       "    }\n",
       "\n",
       "    .dataframe tbody tr th {\n",
       "        vertical-align: top;\n",
       "    }\n",
       "\n",
       "    .dataframe thead th {\n",
       "        text-align: right;\n",
       "    }\n",
       "</style>\n",
       "<table border=\"1\" class=\"dataframe\">\n",
       "  <thead>\n",
       "    <tr style=\"text-align: right;\">\n",
       "      <th></th>\n",
       "      <th>Input_identifier</th>\n",
       "      <th>UniProt_ID</th>\n",
       "      <th>Mutation</th>\n",
       "      <th>Status</th>\n",
       "      <th>Type</th>\n",
       "      <th>COSMIC_mut_ID</th>\n",
       "      <th>ClinVar_mut_ID</th>\n",
       "      <th>UniProt_mut_ID</th>\n",
       "      <th>Domain_name</th>\n",
       "      <th>Domain_clan</th>\n",
       "      <th>...</th>\n",
       "      <th>number_of_residues_mut</th>\n",
       "      <th>IntraclashesEnergy1_wt</th>\n",
       "      <th>IntraclashesEnergy1_mut</th>\n",
       "      <th>IntraclashesEnergy2_wt</th>\n",
       "      <th>IntraclashesEnergy2_mut</th>\n",
       "      <th>Interface_hydrophobic_area</th>\n",
       "      <th>Interface_hydrophilic_area</th>\n",
       "      <th>Interface_total_area</th>\n",
       "      <th>Interface_contact_distance_wt</th>\n",
       "      <th>Interface_contact_distance_mut</th>\n",
       "    </tr>\n",
       "  </thead>\n",
       "  <tbody>\n",
       "    <tr>\n",
       "      <th>0</th>\n",
       "      <td>P62873</td>\n",
       "      <td>P62873</td>\n",
       "      <td>S334I</td>\n",
       "      <td>done</td>\n",
       "      <td>interface</td>\n",
       "      <td>-</td>\n",
       "      <td>-</td>\n",
       "      <td>-</td>\n",
       "      <td>WD40</td>\n",
       "      <td>Beta_propeller</td>\n",
       "      <td>...</td>\n",
       "      <td>567.0</td>\n",
       "      <td>128.711</td>\n",
       "      <td>135.025</td>\n",
       "      <td>73.3808</td>\n",
       "      <td>73.3852</td>\n",
       "      <td>894.75</td>\n",
       "      <td>661.58</td>\n",
       "      <td>1556.32</td>\n",
       "      <td>6.34896</td>\n",
       "      <td>3.64695</td>\n",
       "    </tr>\n",
       "    <tr>\n",
       "      <th>1</th>\n",
       "      <td>Q9BXB4</td>\n",
       "      <td>Q9BXB4</td>\n",
       "      <td>N590D</td>\n",
       "      <td>done</td>\n",
       "      <td>interface</td>\n",
       "      <td>COSM273062</td>\n",
       "      <td>-</td>\n",
       "      <td>-</td>\n",
       "      <td>Oxysterol_BP</td>\n",
       "      <td>Oxysterol_BP</td>\n",
       "      <td>...</td>\n",
       "      <td>742.0</td>\n",
       "      <td>464.479</td>\n",
       "      <td>464.478</td>\n",
       "      <td>199.2630</td>\n",
       "      <td>199.2630</td>\n",
       "      <td>514.015</td>\n",
       "      <td>268.27</td>\n",
       "      <td>782.285</td>\n",
       "      <td>5.08133</td>\n",
       "      <td>3.32753</td>\n",
       "    </tr>\n",
       "    <tr>\n",
       "      <th>2</th>\n",
       "      <td>Q9BXB4</td>\n",
       "      <td>Q9BXB4</td>\n",
       "      <td>N590D</td>\n",
       "      <td>done</td>\n",
       "      <td>interface</td>\n",
       "      <td>COSM273062</td>\n",
       "      <td>-</td>\n",
       "      <td>-</td>\n",
       "      <td>Oxysterol_BP</td>\n",
       "      <td>Oxysterol_BP</td>\n",
       "      <td>...</td>\n",
       "      <td>742.0</td>\n",
       "      <td>464.479</td>\n",
       "      <td>464.478</td>\n",
       "      <td>199.2630</td>\n",
       "      <td>199.2630</td>\n",
       "      <td>514.015</td>\n",
       "      <td>268.27</td>\n",
       "      <td>782.285</td>\n",
       "      <td>5.08133</td>\n",
       "      <td>3.32753</td>\n",
       "    </tr>\n",
       "  </tbody>\n",
       "</table>\n",
       "<p>3 rows × 103 columns</p>\n",
       "</div>"
      ],
      "text/plain": [
       "  Input_identifier UniProt_ID Mutation Status       Type COSMIC_mut_ID  \\\n",
       "0           P62873     P62873    S334I   done  interface             -   \n",
       "1           Q9BXB4     Q9BXB4    N590D   done  interface    COSM273062   \n",
       "2           Q9BXB4     Q9BXB4    N590D   done  interface    COSM273062   \n",
       "\n",
       "  ClinVar_mut_ID UniProt_mut_ID   Domain_name     Domain_clan  ...  \\\n",
       "0              -              -          WD40  Beta_propeller  ...   \n",
       "1              -              -  Oxysterol_BP    Oxysterol_BP  ...   \n",
       "2              -              -  Oxysterol_BP    Oxysterol_BP  ...   \n",
       "\n",
       "  number_of_residues_mut IntraclashesEnergy1_wt  IntraclashesEnergy1_mut  \\\n",
       "0                  567.0                128.711                  135.025   \n",
       "1                  742.0                464.479                  464.478   \n",
       "2                  742.0                464.479                  464.478   \n",
       "\n",
       "   IntraclashesEnergy2_wt IntraclashesEnergy2_mut Interface_hydrophobic_area  \\\n",
       "0                 73.3808                 73.3852                     894.75   \n",
       "1                199.2630                199.2630                    514.015   \n",
       "2                199.2630                199.2630                    514.015   \n",
       "\n",
       "  Interface_hydrophilic_area Interface_total_area  \\\n",
       "0                     661.58              1556.32   \n",
       "1                     268.27              782.285   \n",
       "2                     268.27              782.285   \n",
       "\n",
       "  Interface_contact_distance_wt  Interface_contact_distance_mut  \n",
       "0                       6.34896                         3.64695  \n",
       "1                       5.08133                         3.32753  \n",
       "2                       5.08133                         3.32753  \n",
       "\n",
       "[3 rows x 103 columns]"
      ]
     },
     "metadata": {},
     "output_type": "display_data"
    }
   ],
   "source": [
    "display_data(predator.data_materials[\"coad\"])"
   ]
  },
  {
   "cell_type": "markdown",
   "id": "a22d630d-e0a0-4417-aa64-0df18f8f3a63",
   "metadata": {
    "tags": []
   },
   "source": [
    "#### Preprocessed TCGA Cancer Datasets"
   ]
  },
  {
   "cell_type": "markdown",
   "id": "ca038a01-2691-4943-9d7e-55a41661f3cc",
   "metadata": {},
   "source": [
    "##### COAD"
   ]
  },
  {
   "cell_type": "code",
   "execution_count": 5,
   "id": "67f55bd2-c25a-4d6c-ba5b-08957cf03852",
   "metadata": {},
   "outputs": [
    {
     "name": "stdout",
     "output_type": "stream",
     "text": [
      "\u001b[36mData dimensions: (14822, 61)\u001b[0m\n"
     ]
    },
    {
     "data": {
      "text/html": [
       "<div>\n",
       "<style scoped>\n",
       "    .dataframe tbody tr th:only-of-type {\n",
       "        vertical-align: middle;\n",
       "    }\n",
       "\n",
       "    .dataframe tbody tr th {\n",
       "        vertical-align: top;\n",
       "    }\n",
       "\n",
       "    .dataframe thead th {\n",
       "        text-align: right;\n",
       "    }\n",
       "</style>\n",
       "<table border=\"1\" class=\"dataframe\">\n",
       "  <thead>\n",
       "    <tr style=\"text-align: right;\">\n",
       "      <th></th>\n",
       "      <th>UniProt_ID</th>\n",
       "      <th>Mutation</th>\n",
       "      <th>Interactor_UniProt_ID</th>\n",
       "      <th>Template_sequence_identity</th>\n",
       "      <th>Alignment_score</th>\n",
       "      <th>Interactor_template_sequence_identity</th>\n",
       "      <th>Interactor_alignment_score</th>\n",
       "      <th>Final_ddG</th>\n",
       "      <th>ProtBert_score</th>\n",
       "      <th>ProteinSolver_score</th>\n",
       "      <th>...</th>\n",
       "      <th>number_of_residues_mut</th>\n",
       "      <th>IntraclashesEnergy1_wt</th>\n",
       "      <th>IntraclashesEnergy1_mut</th>\n",
       "      <th>IntraclashesEnergy2_wt</th>\n",
       "      <th>IntraclashesEnergy2_mut</th>\n",
       "      <th>Interface_hydrophobic_area</th>\n",
       "      <th>Interface_hydrophilic_area</th>\n",
       "      <th>Interface_total_area</th>\n",
       "      <th>Interface_contact_distance_wt</th>\n",
       "      <th>Interface_contact_distance_mut</th>\n",
       "    </tr>\n",
       "  </thead>\n",
       "  <tbody>\n",
       "    <tr>\n",
       "      <th>0</th>\n",
       "      <td>P62873</td>\n",
       "      <td>S334I</td>\n",
       "      <td>Q13371</td>\n",
       "      <td>0.9971</td>\n",
       "      <td>0.997245</td>\n",
       "      <td>0.4626</td>\n",
       "      <td>0.417706</td>\n",
       "      <td>0.674524</td>\n",
       "      <td>0.962441</td>\n",
       "      <td>0.018744</td>\n",
       "      <td>...</td>\n",
       "      <td>567.0</td>\n",
       "      <td>128.711</td>\n",
       "      <td>135.025</td>\n",
       "      <td>73.3808</td>\n",
       "      <td>73.3852</td>\n",
       "      <td>894.750</td>\n",
       "      <td>661.58</td>\n",
       "      <td>1556.320</td>\n",
       "      <td>6.34896</td>\n",
       "      <td>3.64695</td>\n",
       "    </tr>\n",
       "    <tr>\n",
       "      <th>1</th>\n",
       "      <td>Q9BXB4</td>\n",
       "      <td>N590D</td>\n",
       "      <td>Q96SU4</td>\n",
       "      <td>0.2949</td>\n",
       "      <td>0.330155</td>\n",
       "      <td>0.3590</td>\n",
       "      <td>0.367350</td>\n",
       "      <td>1.239310</td>\n",
       "      <td>0.122305</td>\n",
       "      <td>0.004189</td>\n",
       "      <td>...</td>\n",
       "      <td>742.0</td>\n",
       "      <td>464.479</td>\n",
       "      <td>464.478</td>\n",
       "      <td>199.2630</td>\n",
       "      <td>199.2630</td>\n",
       "      <td>514.015</td>\n",
       "      <td>268.27</td>\n",
       "      <td>782.285</td>\n",
       "      <td>5.08133</td>\n",
       "      <td>3.32753</td>\n",
       "    </tr>\n",
       "    <tr>\n",
       "      <th>2</th>\n",
       "      <td>Q9BXB4</td>\n",
       "      <td>N590D</td>\n",
       "      <td>Q96SU4-3</td>\n",
       "      <td>0.2949</td>\n",
       "      <td>0.330155</td>\n",
       "      <td>0.3590</td>\n",
       "      <td>0.367350</td>\n",
       "      <td>1.239310</td>\n",
       "      <td>0.122305</td>\n",
       "      <td>0.004189</td>\n",
       "      <td>...</td>\n",
       "      <td>742.0</td>\n",
       "      <td>464.479</td>\n",
       "      <td>464.478</td>\n",
       "      <td>199.2630</td>\n",
       "      <td>199.2630</td>\n",
       "      <td>514.015</td>\n",
       "      <td>268.27</td>\n",
       "      <td>782.285</td>\n",
       "      <td>5.08133</td>\n",
       "      <td>3.32753</td>\n",
       "    </tr>\n",
       "  </tbody>\n",
       "</table>\n",
       "<p>3 rows × 61 columns</p>\n",
       "</div>"
      ],
      "text/plain": [
       "  UniProt_ID Mutation Interactor_UniProt_ID  Template_sequence_identity  \\\n",
       "0     P62873    S334I                Q13371                      0.9971   \n",
       "1     Q9BXB4    N590D                Q96SU4                      0.2949   \n",
       "2     Q9BXB4    N590D              Q96SU4-3                      0.2949   \n",
       "\n",
       "   Alignment_score  Interactor_template_sequence_identity  \\\n",
       "0         0.997245                                 0.4626   \n",
       "1         0.330155                                 0.3590   \n",
       "2         0.330155                                 0.3590   \n",
       "\n",
       "   Interactor_alignment_score  Final_ddG  ProtBert_score  ProteinSolver_score  \\\n",
       "0                    0.417706   0.674524        0.962441             0.018744   \n",
       "1                    0.367350   1.239310        0.122305             0.004189   \n",
       "2                    0.367350   1.239310        0.122305             0.004189   \n",
       "\n",
       "   ...  number_of_residues_mut  IntraclashesEnergy1_wt  \\\n",
       "0  ...                   567.0                 128.711   \n",
       "1  ...                   742.0                 464.479   \n",
       "2  ...                   742.0                 464.479   \n",
       "\n",
       "   IntraclashesEnergy1_mut  IntraclashesEnergy2_wt  IntraclashesEnergy2_mut  \\\n",
       "0                  135.025                 73.3808                  73.3852   \n",
       "1                  464.478                199.2630                 199.2630   \n",
       "2                  464.478                199.2630                 199.2630   \n",
       "\n",
       "   Interface_hydrophobic_area  Interface_hydrophilic_area  \\\n",
       "0                     894.750                      661.58   \n",
       "1                     514.015                      268.27   \n",
       "2                     514.015                      268.27   \n",
       "\n",
       "   Interface_total_area  Interface_contact_distance_wt  \\\n",
       "0              1556.320                        6.34896   \n",
       "1               782.285                        5.08133   \n",
       "2               782.285                        5.08133   \n",
       "\n",
       "   Interface_contact_distance_mut  \n",
       "0                         3.64695  \n",
       "1                         3.32753  \n",
       "2                         3.32753  \n",
       "\n",
       "[3 rows x 61 columns]"
      ]
     },
     "metadata": {},
     "output_type": "display_data"
    }
   ],
   "source": [
    "display_data(predator.data_materials[\"target_coad_data\"])"
   ]
  },
  {
   "cell_type": "markdown",
   "id": "6cd1cc76-b56f-4789-b3b9-bf907fe7399e",
   "metadata": {
    "tags": []
   },
   "source": [
    "### Voting mode: `soft`"
   ]
  },
  {
   "cell_type": "code",
   "execution_count": 6,
   "id": "44e95ef5-2482-4d0d-93fa-305004853f7c",
   "metadata": {},
   "outputs": [
    {
     "name": "stdout",
     "output_type": "stream",
     "text": [
      "2022-01-06 12:03:46 |\u001b[36m DEBUG    \u001b[0m| helpers.helpers_predator.data_materials | Initialize `coad` ..\n",
      "2022-01-06 12:03:46 |\u001b[36m DEBUG    \u001b[0m| helpers.helpers_predator.data_materials | Initialize `target_coad_data` ..\n",
      "2022-01-06 12:03:46 |\u001b[36m DEBUG    \u001b[0m| helpers.helpers_predator.data_materials | Initializing target data materials ..\n",
      "2022-01-06 12:03:46 |\u001b[36m DEBUG    \u001b[0m| helpers.helpers_predator.data_materials | Determined features: ['Provean_score', 'EL2_score', 'Final_ddG', 'Interactor_alignment_score', 'Solvent_accessibility_wt', 'Matrix_score', 'Solvent_accessibility_mut', 'van_der_waals_mut', 'Interactor_template_sequence_identity', 'solvation_polar_wt']\n",
      "2022-01-06 12:03:46 |\u001b[36m DEBUG    \u001b[0m| helpers.helpers_predator.data_materials | Declaring Xs_coad data materials  ..\n"
     ]
    }
   ],
   "source": [
    "predator.initialize_target_data_materials(\n",
    "    tcga_code_path_pairs=[('coad', COAD_PATH)]\n",
    ")"
   ]
  },
  {
   "cell_type": "code",
   "execution_count": 7,
   "id": "323fbd63-7e32-471f-8cee-4b0abf9d82dc",
   "metadata": {
    "scrolled": true,
    "tags": []
   },
   "outputs": [
    {
     "name": "stdout",
     "output_type": "stream",
     "text": [
      "2022-01-06 12:03:47 |\u001b[36m DEBUG    \u001b[0m| Predator | Predicting on cancer datasets ..\n",
      "2022-01-06 12:03:47 |\u001b[36m DEBUG    \u001b[0m| helpers.helpers_predator.models | Initializing EnsambledVotingClassifier.\n",
      "2022-01-06 12:03:47 |\u001b[36m DEBUG    \u001b[0m| helpers.helpers_predator.models | Voting mode: soft\n",
      "2022-01-06 12:03:47 |\u001b[36m DEBUG    \u001b[0m| helpers.helpers_predator.predictions | Initializing: PredictionsSoft\n",
      "2022-01-06 12:03:47 |\u001b[36m DEBUG    \u001b[0m| Predator | Predicting on coad cohort ..\n",
      "2022-01-06 12:03:47 |\u001b[36m DEBUG    \u001b[0m| helpers.helpers_predator.models | Current estimator: RandomForestClassifier(bootstrap=False, class_weight='balanced', max_depth=4,\n",
      "                       max_features='sqrt', n_estimators=600,\n",
      "                       random_state=14593)\n",
      "2022-01-06 12:03:47 |\u001b[36m DEBUG    \u001b[0m| helpers.helpers_predator.models | X shape: (14822, 10)\n",
      "2022-01-06 12:03:47 |\u001b[36m DEBUG    \u001b[0m| helpers.helpers_predator.models | Current estimator: RandomForestClassifier(bootstrap=False, max_depth=8, max_features=None,\n",
      "                       min_samples_leaf=2, n_estimators=480, random_state=3279)\n",
      "2022-01-06 12:03:47 |\u001b[36m DEBUG    \u001b[0m| helpers.helpers_predator.models | X shape: (14822, 10)\n",
      "2022-01-06 12:03:48 |\u001b[36m DEBUG    \u001b[0m| helpers.helpers_predator.models | Current estimator: RandomForestClassifier(class_weight='balanced', max_depth=11,\n",
      "                       min_samples_split=5, n_estimators=120,\n",
      "                       random_state=36049)\n",
      "2022-01-06 12:03:48 |\u001b[36m DEBUG    \u001b[0m| helpers.helpers_predator.models | X shape: (14822, 10)\n",
      "2022-01-06 12:03:48 |\u001b[36m DEBUG    \u001b[0m| helpers.helpers_predator.models | Current estimator: RandomForestClassifier(class_weight='balanced', max_depth=3,\n",
      "                       max_features='sqrt', min_samples_leaf=4, n_estimators=40,\n",
      "                       random_state=18290)\n",
      "2022-01-06 12:03:48 |\u001b[36m DEBUG    \u001b[0m| helpers.helpers_predator.models | X shape: (14822, 10)\n",
      "2022-01-06 12:03:48 |\u001b[36m DEBUG    \u001b[0m| helpers.helpers_predator.models | Current estimator: RandomForestClassifier(bootstrap=False, max_depth=11, max_features='sqrt',\n",
      "                       min_samples_split=5, n_estimators=460,\n",
      "                       random_state=96531)\n",
      "2022-01-06 12:03:48 |\u001b[36m DEBUG    \u001b[0m| helpers.helpers_predator.models | X shape: (14822, 10)\n",
      "2022-01-06 12:03:49 |\u001b[36m DEBUG    \u001b[0m| helpers.helpers_predator.models | Current estimator: RandomForestClassifier(class_weight='balanced', max_depth=12,\n",
      "                       min_samples_leaf=4, min_samples_split=5, n_estimators=80,\n",
      "                       random_state=13435)\n",
      "2022-01-06 12:03:49 |\u001b[36m DEBUG    \u001b[0m| helpers.helpers_predator.models | X shape: (14822, 10)\n",
      "2022-01-06 12:03:49 |\u001b[36m DEBUG    \u001b[0m| helpers.helpers_predator.models | Current estimator: RandomForestClassifier(class_weight='balanced', max_depth=2,\n",
      "                       min_samples_split=5, n_estimators=500,\n",
      "                       random_state=88697)\n",
      "2022-01-06 12:03:49 |\u001b[36m DEBUG    \u001b[0m| helpers.helpers_predator.models | X shape: (14822, 10)\n",
      "2022-01-06 12:03:49 |\u001b[36m DEBUG    \u001b[0m| helpers.helpers_predator.models | Current estimator: RandomForestClassifier(bootstrap=False, class_weight='balanced', max_depth=7,\n",
      "                       max_features='sqrt', min_samples_leaf=2,\n",
      "                       min_samples_split=5, n_estimators=280,\n",
      "                       random_state=97081)\n",
      "2022-01-06 12:03:49 |\u001b[36m DEBUG    \u001b[0m| helpers.helpers_predator.models | X shape: (14822, 10)\n",
      "2022-01-06 12:03:49 |\u001b[36m DEBUG    \u001b[0m| helpers.helpers_predator.models | Current estimator: RandomForestClassifier(bootstrap=False, max_depth=3, max_features='sqrt',\n",
      "                       min_samples_leaf=2, n_estimators=60, random_state=71483)\n",
      "2022-01-06 12:03:49 |\u001b[36m DEBUG    \u001b[0m| helpers.helpers_predator.models | X shape: (14822, 10)\n",
      "2022-01-06 12:03:49 |\u001b[36m DEBUG    \u001b[0m| helpers.helpers_predator.models | Current estimator: RandomForestClassifier(class_weight='balanced', max_depth=2,\n",
      "                       max_features='sqrt', min_samples_leaf=4,\n",
      "                       n_estimators=440, random_state=11396)\n",
      "2022-01-06 12:03:49 |\u001b[36m DEBUG    \u001b[0m| helpers.helpers_predator.models | X shape: (14822, 10)\n",
      "2022-01-06 12:03:50 |\u001b[36m DEBUG    \u001b[0m| helpers.helpers_predator.models | Current estimator: RandomForestClassifier(bootstrap=False, max_depth=6, min_samples_leaf=2,\n",
      "                       min_samples_split=5, n_estimators=80,\n",
      "                       random_state=77398)\n",
      "2022-01-06 12:03:50 |\u001b[36m DEBUG    \u001b[0m| helpers.helpers_predator.models | X shape: (14822, 10)\n",
      "2022-01-06 12:03:50 |\u001b[36m DEBUG    \u001b[0m| helpers.helpers_predator.models | Current estimator: RandomForestClassifier(max_depth=8, max_features='sqrt', min_samples_split=5,\n",
      "                       n_estimators=20, random_state=55303)\n",
      "2022-01-06 12:03:50 |\u001b[36m DEBUG    \u001b[0m| helpers.helpers_predator.models | X shape: (14822, 10)\n",
      "2022-01-06 12:03:50 |\u001b[36m DEBUG    \u001b[0m| helpers.helpers_predator.models | Current estimator: RandomForestClassifier(class_weight='balanced', max_depth=4,\n",
      "                       min_samples_split=5, random_state=4166)\n",
      "2022-01-06 12:03:50 |\u001b[36m DEBUG    \u001b[0m| helpers.helpers_predator.models | X shape: (14822, 10)\n",
      "2022-01-06 12:03:50 |\u001b[36m DEBUG    \u001b[0m| helpers.helpers_predator.models | Current estimator: RandomForestClassifier(bootstrap=False, max_depth=13, max_features='sqrt',\n",
      "                       min_samples_split=5, n_estimators=380,\n",
      "                       random_state=12281)\n",
      "2022-01-06 12:03:50 |\u001b[36m DEBUG    \u001b[0m| helpers.helpers_predator.models | X shape: (14822, 10)\n",
      "2022-01-06 12:03:51 |\u001b[36m DEBUG    \u001b[0m| helpers.helpers_predator.models | Current estimator: RandomForestClassifier(bootstrap=False, class_weight='balanced', max_depth=4,\n",
      "                       max_features='sqrt', n_estimators=10,\n",
      "                       random_state=28658)\n",
      "2022-01-06 12:03:51 |\u001b[36m DEBUG    \u001b[0m| helpers.helpers_predator.models | X shape: (14822, 10)\n",
      "2022-01-06 12:03:51 |\u001b[36m DEBUG    \u001b[0m| helpers.helpers_predator.models | Current estimator: RandomForestClassifier(class_weight='balanced', max_depth=3, min_samples_leaf=2,\n",
      "                       n_estimators=30, random_state=30496)\n",
      "2022-01-06 12:03:51 |\u001b[36m DEBUG    \u001b[0m| helpers.helpers_predator.models | X shape: (14822, 10)\n",
      "2022-01-06 12:03:51 |\u001b[36m DEBUG    \u001b[0m| helpers.helpers_predator.models | Current estimator: RandomForestClassifier(class_weight='balanced', max_depth=11,\n",
      "                       min_samples_leaf=4, n_estimators=120,\n",
      "                       random_state=66238)\n",
      "2022-01-06 12:03:51 |\u001b[36m DEBUG    \u001b[0m| helpers.helpers_predator.models | X shape: (14822, 10)\n",
      "2022-01-06 12:03:51 |\u001b[36m DEBUG    \u001b[0m| helpers.helpers_predator.models | Current estimator: RandomForestClassifier(class_weight='balanced', max_depth=2,\n",
      "                       max_features='sqrt', n_estimators=340,\n",
      "                       random_state=3479)\n",
      "2022-01-06 12:03:51 |\u001b[36m DEBUG    \u001b[0m| helpers.helpers_predator.models | X shape: (14822, 10)\n",
      "2022-01-06 12:03:51 |\u001b[36m DEBUG    \u001b[0m| helpers.helpers_predator.models | Current estimator: RandomForestClassifier(class_weight='balanced', max_depth=3,\n",
      "                       max_features='sqrt', min_samples_leaf=4,\n",
      "                       n_estimators=480, random_state=26063)\n",
      "2022-01-06 12:03:51 |\u001b[36m DEBUG    \u001b[0m| helpers.helpers_predator.models | X shape: (14822, 10)\n",
      "2022-01-06 12:03:51 |\u001b[36m DEBUG    \u001b[0m| helpers.helpers_predator.models | Current estimator: RandomForestClassifier(class_weight='balanced', max_depth=3, min_samples_leaf=2,\n",
      "                       n_estimators=560, random_state=85182)\n",
      "2022-01-06 12:03:51 |\u001b[36m DEBUG    \u001b[0m| helpers.helpers_predator.models | X shape: (14822, 10)\n",
      "2022-01-06 12:03:52 |\u001b[36m DEBUG    \u001b[0m| helpers.helpers_predator.models | Current estimator: RandomForestClassifier(class_weight='balanced', max_depth=13,\n",
      "                       min_samples_leaf=4, min_samples_split=5, n_estimators=40,\n",
      "                       random_state=91925)\n",
      "2022-01-06 12:03:52 |\u001b[36m DEBUG    \u001b[0m| helpers.helpers_predator.models | X shape: (14822, 10)\n",
      "2022-01-06 12:03:52 |\u001b[36m DEBUG    \u001b[0m| helpers.helpers_predator.models | Current estimator: RandomForestClassifier(class_weight='balanced', max_depth=2, min_samples_leaf=4,\n",
      "                       min_samples_split=5, n_estimators=280,\n",
      "                       random_state=54988)\n",
      "2022-01-06 12:03:52 |\u001b[36m DEBUG    \u001b[0m| helpers.helpers_predator.models | X shape: (14822, 10)\n",
      "2022-01-06 12:03:52 |\u001b[36m DEBUG    \u001b[0m| helpers.helpers_predator.models | Current estimator: RandomForestClassifier(class_weight='balanced', max_depth=11,\n",
      "                       max_features='sqrt', min_samples_leaf=2,\n",
      "                       min_samples_split=5, n_estimators=360,\n",
      "                       random_state=58879)\n",
      "2022-01-06 12:03:52 |\u001b[36m DEBUG    \u001b[0m| helpers.helpers_predator.models | X shape: (14822, 10)\n",
      "2022-01-06 12:03:53 |\u001b[36m DEBUG    \u001b[0m| helpers.helpers_predator.models | Current estimator: RandomForestClassifier(max_depth=7, n_estimators=20, random_state=77237)\n",
      "2022-01-06 12:03:53 |\u001b[36m DEBUG    \u001b[0m| helpers.helpers_predator.models | X shape: (14822, 10)\n",
      "2022-01-06 12:03:53 |\u001b[36m DEBUG    \u001b[0m| helpers.helpers_predator.models | Current estimator: RandomForestClassifier(bootstrap=False, max_depth=14, min_samples_leaf=4,\n",
      "                       min_samples_split=5, n_estimators=20, random_state=852)\n",
      "2022-01-06 12:03:53 |\u001b[36m DEBUG    \u001b[0m| helpers.helpers_predator.models | X shape: (14822, 10)\n",
      "2022-01-06 12:03:53 |\u001b[36m DEBUG    \u001b[0m| helpers.helpers_predator.models | Current estimator: RandomForestClassifier(class_weight='balanced', max_depth=8,\n",
      "                       max_features='sqrt', min_samples_leaf=4,\n",
      "                       min_samples_split=5, n_estimators=520,\n",
      "                       random_state=99459)\n",
      "2022-01-06 12:03:53 |\u001b[36m DEBUG    \u001b[0m| helpers.helpers_predator.models | X shape: (14822, 10)\n",
      "2022-01-06 12:03:53 |\u001b[36m DEBUG    \u001b[0m| helpers.helpers_predator.models | Current estimator: RandomForestClassifier(class_weight='balanced', max_depth=6, min_samples_leaf=4,\n",
      "                       min_samples_split=5, n_estimators=260,\n",
      "                       random_state=20927)\n",
      "2022-01-06 12:03:53 |\u001b[36m DEBUG    \u001b[0m| helpers.helpers_predator.models | X shape: (14822, 10)\n",
      "2022-01-06 12:03:54 |\u001b[36m DEBUG    \u001b[0m| helpers.helpers_predator.models | Current estimator: RandomForestClassifier(max_depth=9, min_samples_leaf=4, n_estimators=580,\n",
      "                       random_state=55393)\n",
      "2022-01-06 12:03:54 |\u001b[36m DEBUG    \u001b[0m| helpers.helpers_predator.models | X shape: (14822, 10)\n",
      "2022-01-06 12:03:54 |\u001b[36m DEBUG    \u001b[0m| helpers.helpers_predator.models | Current estimator: RandomForestClassifier(bootstrap=False, class_weight='balanced', max_depth=7,\n",
      "                       min_samples_split=5, n_estimators=140,\n",
      "                       random_state=36422)\n",
      "2022-01-06 12:03:54 |\u001b[36m DEBUG    \u001b[0m| helpers.helpers_predator.models | X shape: (14822, 10)\n",
      "2022-01-06 12:03:54 |\u001b[36m DEBUG    \u001b[0m| helpers.helpers_predator.models | Current estimator: RandomForestClassifier(bootstrap=False, max_depth=11, n_estimators=540,\n",
      "                       random_state=20380)\n",
      "2022-01-06 12:03:54 |\u001b[36m DEBUG    \u001b[0m| helpers.helpers_predator.models | X shape: (14822, 10)\n",
      "2022-01-06 12:03:55 |\u001b[36m DEBUG    \u001b[0m| helpers.helpers_predator.models | Current estimator: RandomForestClassifier(class_weight='balanced', max_depth=8, min_samples_leaf=2,\n",
      "                       n_estimators=5, random_state=28222)\n",
      "2022-01-06 12:03:55 |\u001b[36m DEBUG    \u001b[0m| helpers.helpers_predator.models | X shape: (14822, 10)\n",
      "2022-01-06 12:03:55 |\u001b[36m DEBUG    \u001b[0m| helpers.helpers_predator.models | Current estimator: RandomForestClassifier(class_weight='balanced', max_depth=6,\n",
      "                       min_samples_split=5, n_estimators=560,\n",
      "                       random_state=44119)\n",
      "2022-01-06 12:03:55 |\u001b[36m DEBUG    \u001b[0m| helpers.helpers_predator.models | X shape: (14822, 10)\n",
      "2022-01-06 12:03:56 |\u001b[36m DEBUG    \u001b[0m| helpers.helpers_predator.models | Current estimator: RandomForestClassifier(class_weight='balanced', max_depth=10,\n",
      "                       max_features='sqrt', min_samples_leaf=4,\n",
      "                       n_estimators=320, random_state=13397)\n",
      "2022-01-06 12:03:56 |\u001b[36m DEBUG    \u001b[0m| helpers.helpers_predator.models | X shape: (14822, 10)\n",
      "2022-01-06 12:03:56 |\u001b[36m DEBUG    \u001b[0m| helpers.helpers_predator.models | Current estimator: RandomForestClassifier(class_weight='balanced', max_depth=3,\n",
      "                       max_features='sqrt', min_samples_split=5,\n",
      "                       n_estimators=120, random_state=12157)\n",
      "2022-01-06 12:03:56 |\u001b[36m DEBUG    \u001b[0m| helpers.helpers_predator.models | X shape: (14822, 10)\n",
      "2022-01-06 12:03:56 |\u001b[36m DEBUG    \u001b[0m| helpers.helpers_predator.models | Current estimator: RandomForestClassifier(bootstrap=False, class_weight='balanced', max_depth=2,\n",
      "                       min_samples_split=5, n_estimators=360,\n",
      "                       random_state=49798)\n",
      "2022-01-06 12:03:56 |\u001b[36m DEBUG    \u001b[0m| helpers.helpers_predator.models | X shape: (14822, 10)\n",
      "2022-01-06 12:03:57 |\u001b[36m DEBUG    \u001b[0m| helpers.helpers_predator.models | Current estimator: RandomForestClassifier(bootstrap=False, class_weight='balanced', max_depth=2,\n",
      "                       min_samples_leaf=2, min_samples_split=5, n_estimators=40,\n",
      "                       random_state=12677)\n",
      "2022-01-06 12:03:57 |\u001b[36m DEBUG    \u001b[0m| helpers.helpers_predator.models | X shape: (14822, 10)\n",
      "2022-01-06 12:03:57 |\u001b[36m DEBUG    \u001b[0m| helpers.helpers_predator.models | Current estimator: RandomForestClassifier(bootstrap=False, class_weight='balanced', max_depth=5,\n",
      "                       min_samples_leaf=4, min_samples_split=5,\n",
      "                       n_estimators=120, random_state=47053)\n",
      "2022-01-06 12:03:57 |\u001b[36m DEBUG    \u001b[0m| helpers.helpers_predator.models | X shape: (14822, 10)\n",
      "2022-01-06 12:03:57 |\u001b[36m DEBUG    \u001b[0m| helpers.helpers_predator.predictions | PredictionsSoft\n",
      "2022-01-06 12:03:57 |\u001b[36m DEBUG    \u001b[0m| helpers.helpers_predator.predictions | Predicting probabilities on coad cohort ..\n",
      "2022-01-06 12:03:57 |\u001b[36m DEBUG    \u001b[0m| helpers.helpers_predator.predictions | Adding key `coad_prob` to self.predictions\n"
     ]
    }
   ],
   "source": [
    "predator.predict(voting='soft')"
   ]
  },
  {
   "cell_type": "code",
   "execution_count": 8,
   "id": "341a1a27-928b-47ae-9d45-69ec13771b81",
   "metadata": {},
   "outputs": [
    {
     "data": {
      "text/plain": [
       "dict_keys(['coad_prob'])"
      ]
     },
     "execution_count": 8,
     "metadata": {},
     "output_type": "execute_result"
    }
   ],
   "source": [
    "predator.predictions.keys()"
   ]
  },
  {
   "cell_type": "code",
   "execution_count": 9,
   "id": "d7054f49-ad45-408f-88b4-0e608fc81e81",
   "metadata": {},
   "outputs": [
    {
     "data": {
      "text/plain": [
       "[array([[0.51624061, 0.48375939],\n",
       "        [0.58793882, 0.41206118],\n",
       "        [0.58793882, 0.41206118],\n",
       "        ...,\n",
       "        [0.59864732, 0.40135268],\n",
       "        [0.46419437, 0.53580563],\n",
       "        [0.12757215, 0.87242785]]),\n",
       " array([[1.        , 0.        ],\n",
       "        [0.        , 1.        ],\n",
       "        [0.        , 1.        ],\n",
       "        ...,\n",
       "        [0.55208333, 0.44791667],\n",
       "        [1.        , 0.        ],\n",
       "        [0.        , 1.        ]]),\n",
       " array([[0.67044367, 0.32955633],\n",
       "        [0.44107857, 0.55892143],\n",
       "        [0.44107857, 0.55892143],\n",
       "        ...,\n",
       "        [0.6940426 , 0.3059574 ],\n",
       "        [0.68545928, 0.31454072],\n",
       "        [0.27290631, 0.72709369]])]"
      ]
     },
     "execution_count": 9,
     "metadata": {},
     "output_type": "execute_result"
    }
   ],
   "source": [
    "# Predictions for first 10 experiment.\n",
    "predator.predictions[\"coad_prob\"][:3]"
   ]
  },
  {
   "cell_type": "markdown",
   "id": "83e49c0d-9f61-4f48-a23d-8a21e9875041",
   "metadata": {},
   "source": [
    "#### Predictions Post Processing"
   ]
  },
  {
   "cell_type": "markdown",
   "id": "3d18567f-1748-4446-bb12-8062515f02bd",
   "metadata": {},
   "source": [
    "Post processing of predictions involves following steps:"
   ]
  },
  {
   "cell_type": "markdown",
   "id": "45aad6d0-0e73-413e-8b32-fbcb2bcc5426",
   "metadata": {},
   "source": [
    "##### 1. Merging Predictions with SNV Data"
   ]
  },
  {
   "cell_type": "markdown",
   "id": "ba9bda7c-5736-4c44-8663-ec63927976db",
   "metadata": {},
   "source": [
    "The prediction column is merged with SNV data for each experiment.\n",
    "\n",
    "$\\text{For each experiment } n: $\n",
    "\n",
    "$$\n",
    "  \\textit{(Prediction Merged Data)}_n = \\underbrace{[\\textit{Predictions}_n]}_\\text{Probs Percentages} + \n",
    "      \\underbrace{[\\textit{Protein }] [\\textit{Mutation }] [\\textit{Interactor }]}_\\text{Cancer Data Triplets} + \\underbrace{[\\textit{Features }] }_\\text{Elaspic}\n",
    "$$\n"
   ]
  },
  {
   "cell_type": "markdown",
   "id": "8b14c7d7-914f-40af-b695-b962c33ed9ee",
   "metadata": {
    "tags": []
   },
   "source": [
    "##### 2. Convert to 1-isomer: `Interactor_UniProt_ID`"
   ]
  },
  {
   "cell_type": "markdown",
   "id": "36c9284b-0d5d-4c41-b2d9-7274d9141f6a",
   "metadata": {},
   "source": [
    "$\\textit{Interactor_UniProt_ID}$ column contains isomer proteins. Here, we convert them into primary isoform representation (i.e. without dashes)."
   ]
  },
  {
   "cell_type": "markdown",
   "id": "2314ef86-e11b-43ce-a9ee-8d3d39420d3d",
   "metadata": {},
   "source": [
    "| Interactor_UniProt_ID |\n",
    "--------------\n",
    "| P38936     |\n",
    "| P16473     |\n",
    "| P16473-2   |\n",
    "| P19793     |"
   ]
  },
  {
   "cell_type": "markdown",
   "id": "ac37c712-d832-4450-8852-a9df5712c194",
   "metadata": {},
   "source": [
    "##### 3. Dropping Invalid Predictions"
   ]
  },
  {
   "cell_type": "markdown",
   "id": "43293304-9ddf-4e94-b624-8ce6c9034fe1",
   "metadata": {},
   "source": [
    "Entries whose predicted class-1 probability lies in both `Decreasing` and `Increasing+NoEff` are dropped."
   ]
  },
  {
   "cell_type": "markdown",
   "id": "0d57de49-9962-47a8-8a2d-96a42df2295a",
   "metadata": {},
   "source": [
    "Due to having different features for the same $\\textit{(protein, mutation, interactor)}$ triplet from ELASPIC, the triplet $\\textit{(protein, mutation, interactor)}$ may contain class-1 probability prediction of both lower than 0.50 and higher than 50. We drop such instances."
   ]
  },
  {
   "cell_type": "code",
   "execution_count": 10,
   "id": "ee5ffd8b-af50-481e-b90f-fc0548568727",
   "metadata": {
    "scrolled": true,
    "tags": []
   },
   "outputs": [
    {
     "name": "stdout",
     "output_type": "stream",
     "text": [
      "2022-01-06 12:03:57 |\u001b[36m DEBUG    \u001b[0m| helpers.helpers_predator.predictions | PredictionsSoft\n",
      "2022-01-06 12:03:57 |\u001b[36m DEBUG    \u001b[0m| helpers.helpers_predator.predictions | Post processing predictions for cohort coad ..\n",
      "2022-01-06 12:03:57 |\u001b[36m DEBUG    \u001b[0m| helpers.helpers_predator.predictions | PredictionsSoft\n",
      "2022-01-06 12:03:57 |\u001b[36m DEBUG    \u001b[0m| helpers.helpers_predator.predictions | Merging predictions with coad cancer dataset ..\n",
      "2022-01-06 12:03:58 |\u001b[36m DEBUG    \u001b[0m| helpers.helpers_predator.predictions | Handling valid and invalid entries ..\n"
     ]
    },
    {
     "data": {
      "application/vnd.jupyter.widget-view+json": {
       "model_id": "0d734dd6f17641ae8d11c1f3fe71a26f",
       "version_major": 2,
       "version_minor": 0
      },
      "text/plain": [
       "  0%|          | 0/37 [00:00<?, ?it/s]"
      ]
     },
     "metadata": {},
     "output_type": "display_data"
    },
    {
     "name": "stdout",
     "output_type": "stream",
     "text": [
      "2022-01-06 12:05:13 |\u001b[36m DEBUG    \u001b[0m| helpers.helpers_predator.predictions_utils | Removed entries first five rows (of 2015): \n",
      "   PREDICTION PROTEIN MUTATION INTERACTOR\n",
      "0    0.428544  O75843     M91T     P56377\n",
      "1    0.542760  O75843     M91T     P56377\n",
      "2    0.484187  P05362     M91T     P20701\n",
      "3    0.599244  P05362     M91T     P20701\n",
      "4    0.619415  P05362     M91T     P20701\n",
      "2022-01-06 12:06:27 |\u001b[36m DEBUG    \u001b[0m| helpers.helpers_predator.predictions_utils | Removed entries first five rows (of 2162): \n",
      "   PREDICTION PROTEIN MUTATION INTERACTOR\n",
      "0    1.000000  P15056    V600E     P53667\n",
      "1    0.000000  P15056    V600E     P53667\n",
      "2    1.000000  P15056    V600E     P53667\n",
      "3    0.447917  Q9UK17     A16T     Q9NS61\n",
      "4    0.447917  Q9UK17     A16T     Q9NS61\n",
      "2022-01-06 12:07:56 |\u001b[36m DEBUG    \u001b[0m| helpers.helpers_predator.predictions_utils | Removed entries first five rows (of 1993): \n",
      "   PREDICTION PROTEIN MUTATION INTERACTOR\n",
      "0    0.473489  P61224     T35M     Q12967\n",
      "1    0.557060  P61224     T35M     Q12967\n",
      "2    0.495835  P61224     T35M     Q12967\n",
      "3    0.490715  P05107    P192H     Q9UKX5\n",
      "4    0.517331  P05107    P192H     P20701\n",
      "2022-01-06 12:09:22 |\u001b[36m DEBUG    \u001b[0m| helpers.helpers_predator.predictions_utils | Removed entries first five rows (of 1657): \n",
      "   PREDICTION PROTEIN MUTATION INTERACTOR\n",
      "0    0.434868  P15056    V600E     P53667\n",
      "1    0.507388  P15056    V600E     P53667\n",
      "2    0.434868  P15056    V600E     P53667\n",
      "3    0.479456  P05362     M91T     P20701\n",
      "4    0.478481  P05362     M91T     P20701\n",
      "2022-01-06 12:10:44 |\u001b[36m DEBUG    \u001b[0m| helpers.helpers_predator.predictions_utils | Removed entries first five rows (of 2162): \n",
      "   PREDICTION PROTEIN MUTATION INTERACTOR\n",
      "0    0.543675  P61224     T35M     Q12967\n",
      "1    0.726775  P61224     T35M     Q12967\n",
      "2    0.499819  P61224     T35M     Q12967\n",
      "3    0.496739  P05362     M91T     P20701\n",
      "4    0.540580  P05362     M91T     P20701\n",
      "2022-01-06 12:11:50 |\u001b[36m DEBUG    \u001b[0m| helpers.helpers_predator.predictions_utils | Removed entries first five rows (of 1612): \n",
      "   PREDICTION PROTEIN MUTATION INTERACTOR\n",
      "0    0.515506  P15056    V600E     P53667\n",
      "1    0.499109  P15056    V600E     P53667\n",
      "2    0.515506  P15056    V600E     P53667\n",
      "3    0.518445  P05107    P192H     Q9UKX5\n",
      "4    0.505323  P05107    P192H     P20701\n",
      "2022-01-06 12:13:21 |\u001b[36m DEBUG    \u001b[0m| helpers.helpers_predator.predictions_utils | Removed entries first five rows (of 1779): \n",
      "   PREDICTION PROTEIN MUTATION INTERACTOR\n",
      "0    0.499409  P15056    V600E     P53667\n",
      "1    0.537964  P15056    V600E     P53667\n",
      "2    0.499409  P15056    V600E     P53667\n",
      "3    0.420141  Q9UK17     A16T     Q9NS61\n",
      "4    0.420141  Q9UK17     A16T     Q9NS61\n",
      "2022-01-06 12:14:42 |\u001b[36m DEBUG    \u001b[0m| helpers.helpers_predator.predictions_utils | Removed entries first five rows (of 2356): \n",
      "   PREDICTION PROTEIN MUTATION INTERACTOR\n",
      "0    0.451932  P15056    V600E     P53667\n",
      "1    0.505629  P15056    V600E     P53667\n",
      "2    0.451932  P15056    V600E     P53667\n",
      "3    0.520799  P61224     T35M     Q12967\n",
      "4    0.632257  P61224     T35M     Q12967\n",
      "2022-01-06 12:16:02 |\u001b[36m DEBUG    \u001b[0m| helpers.helpers_predator.predictions_utils | Removed entries first five rows (of 1352): \n",
      "   PREDICTION PROTEIN MUTATION INTERACTOR\n",
      "0    0.520379  P61224     T35M     Q13905\n",
      "1    0.486639  P61224     T35M     Q13905\n",
      "2    0.496758  P61224     T35M     Q13905\n",
      "3    0.573487  P05107    P192H     Q9UKX5\n",
      "4    0.195502  P05107    P192H     Q9UKX5\n",
      "2022-01-06 12:17:23 |\u001b[36m DEBUG    \u001b[0m| helpers.helpers_predator.predictions_utils | Removed entries first five rows (of 2219): \n",
      "   PREDICTION PROTEIN MUTATION INTERACTOR\n",
      "0    0.481488  P15056    V600E     P53667\n",
      "1    0.525038  P15056    V600E     P53667\n",
      "2    0.481488  P15056    V600E     P53667\n",
      "3    0.636770  P05107    P192H     Q9UKX5\n",
      "4    0.450069  P05107    P192H     Q9UKX5\n",
      "2022-01-06 12:18:41 |\u001b[36m DEBUG    \u001b[0m| helpers.helpers_predator.predictions_utils | Removed entries first five rows (of 1910): \n",
      "   PREDICTION PROTEIN MUTATION INTERACTOR\n",
      "0    0.562781  P15056    V600E     P53667\n",
      "1    0.446425  P15056    V600E     P53667\n",
      "2    0.562781  P15056    V600E     P53667\n",
      "3    0.495384  P61224     T35M     O95398\n",
      "4    0.519582  P61224     T35M     O95398\n",
      "2022-01-06 12:19:58 |\u001b[36m DEBUG    \u001b[0m| helpers.helpers_predator.predictions_utils | Removed entries first five rows (of 2023): \n",
      "   PREDICTION PROTEIN MUTATION INTERACTOR\n",
      "0    0.528333  P61224     T35M     Q13905\n",
      "1    0.477976  P61224     T35M     Q13905\n",
      "2    0.664286  P61224     T35M     Q13905\n",
      "3    0.416667  P05362     M91T     P20701\n",
      "4    0.513333  P05362     M91T     P20701\n",
      "2022-01-06 12:21:16 |\u001b[36m DEBUG    \u001b[0m| helpers.helpers_predator.predictions_utils | Removed entries first five rows (of 1601): \n",
      "   PREDICTION PROTEIN MUTATION INTERACTOR\n",
      "0    0.407577  Q9UK17     A16T     Q9NS61\n",
      "1    0.407577  Q9UK17     A16T     Q9NS61\n",
      "2    0.439605  Q9UK17     A16T     Q9NS61\n",
      "3    0.486466  Q9UK17     A16T     Q9NS61\n",
      "4    0.486466  Q9UK17     A16T     Q9NS61\n",
      "2022-01-06 12:22:33 |\u001b[36m DEBUG    \u001b[0m| helpers.helpers_predator.predictions_utils | Removed entries first five rows (of 1755): \n",
      "   PREDICTION PROTEIN MUTATION INTERACTOR\n",
      "0    0.569518  P61224     T35M     Q13905\n",
      "1    0.474342  P61224     T35M     Q13905\n",
      "2    0.553070  P61224     T35M     Q13905\n",
      "3    0.593640  P05107    P192H     Q9UKX5\n",
      "4    0.255921  P05107    P192H     Q9UKX5\n",
      "2022-01-06 12:23:52 |\u001b[36m DEBUG    \u001b[0m| helpers.helpers_predator.predictions_utils | Removed entries first five rows (of 2703): \n",
      "   PREDICTION PROTEIN MUTATION INTERACTOR\n",
      "0    0.167091  P61224     T35M     Q8WWW0\n",
      "1    0.167091  P61224     T35M     Q8WWW0\n",
      "2    0.651714  P61224     T35M     Q8WWW0\n",
      "3    0.414225  O75843     M91T     P56377\n",
      "4    0.655801  O75843     M91T     P56377\n",
      "2022-01-06 12:25:09 |\u001b[36m DEBUG    \u001b[0m| helpers.helpers_predator.predictions_utils | Removed entries first five rows (of 1507): \n",
      "   PREDICTION PROTEIN MUTATION INTERACTOR\n",
      "0    0.439477  P15056    V600E     P53667\n",
      "1    0.559875  P15056    V600E     P53667\n",
      "2    0.439477  P15056    V600E     P53667\n",
      "3    0.426087  Q9UK17     A16T     Q9NS61\n",
      "4    0.426087  Q9UK17     A16T     Q9NS61\n",
      "2022-01-06 12:26:27 |\u001b[36m DEBUG    \u001b[0m| helpers.helpers_predator.predictions_utils | Removed entries first five rows (of 1836): \n",
      "   PREDICTION PROTEIN MUTATION INTERACTOR\n",
      "0    0.534924  P05107    P192H     Q9UKX5\n",
      "1    0.378584  P05107    P192H     Q9UKX5\n",
      "2    0.414890  P05107    P192H     Q9UKX5\n",
      "3    0.482624  P05107    P192H     Q13683\n",
      "4    0.437086  P05107    P192H     Q13683\n",
      "2022-01-06 12:27:47 |\u001b[36m DEBUG    \u001b[0m| helpers.helpers_predator.predictions_utils | Removed entries first five rows (of 1643): \n",
      "   PREDICTION PROTEIN MUTATION INTERACTOR\n",
      "0    0.422479  P15056    V600E     P53667\n",
      "1    0.500370  P15056    V600E     P53667\n",
      "2    0.422479  P15056    V600E     P53667\n",
      "3    0.559416  P61224     T35M     Q12967\n",
      "4    0.495617  P61224     T35M     Q12967\n",
      "2022-01-06 12:29:08 |\u001b[36m DEBUG    \u001b[0m| helpers.helpers_predator.predictions_utils | Removed entries first five rows (of 1594): \n",
      "   PREDICTION PROTEIN MUTATION INTERACTOR\n",
      "0    0.483953  P15056    V600E     P53667\n",
      "1    0.542526  P15056    V600E     P53667\n",
      "2    0.483953  P15056    V600E     P53667\n",
      "3    0.422308  O75843     M91T     P56377\n",
      "4    0.580065  O75843     M91T     P56377\n",
      "2022-01-06 12:30:23 |\u001b[36m DEBUG    \u001b[0m| helpers.helpers_predator.predictions_utils | Removed entries first five rows (of 2227): \n",
      "   PREDICTION PROTEIN MUTATION INTERACTOR\n",
      "0    0.490785  P15056    V600E     P53667\n",
      "1    0.543188  P15056    V600E     P53667\n",
      "2    0.490785  P15056    V600E     P53667\n",
      "3    0.273700  Q9UK17     A16T     Q9NS61\n",
      "4    0.273700  Q9UK17     A16T     Q9NS61\n",
      "2022-01-06 12:31:47 |\u001b[36m DEBUG    \u001b[0m| helpers.helpers_predator.predictions_utils | Removed entries first five rows (of 1804): \n",
      "   PREDICTION PROTEIN MUTATION INTERACTOR\n",
      "0    0.382768  P15056    V600E     P53667\n",
      "1    0.559478  P15056    V600E     P53667\n",
      "2    0.382768  P15056    V600E     P53667\n",
      "3    0.711079  P05107    P192H     Q9UKX5\n",
      "4    0.600469  P05107    P192H     P20701\n",
      "2022-01-06 12:33:09 |\u001b[36m DEBUG    \u001b[0m| helpers.helpers_predator.predictions_utils | Removed entries first five rows (of 1377): \n",
      "   PREDICTION PROTEIN MUTATION INTERACTOR\n",
      "0    0.441746  Q9UK17     A16T     Q9NS61\n",
      "1    0.441746  Q9UK17     A16T     Q9NS61\n",
      "2    0.538017  Q9UK17     A16T     Q9NS61\n",
      "3    0.484674  Q9UK17     A16T     Q9NS61\n",
      "4    0.484674  Q9UK17     A16T     Q9NS61\n",
      "2022-01-06 12:34:23 |\u001b[36m DEBUG    \u001b[0m| helpers.helpers_predator.predictions_utils | Removed entries first five rows (of 1753): \n",
      "   PREDICTION PROTEIN MUTATION INTERACTOR\n",
      "0    0.564793  P61224     T35M     Q12967\n",
      "1    0.487634  P61224     T35M     Q12967\n",
      "2    0.513761  P61224     T35M     Q12967\n",
      "3    0.672849  P05107    P192H     Q9UKX5\n",
      "4    0.532136  P05107    P192H     P20701\n",
      "2022-01-06 12:35:28 |\u001b[36m DEBUG    \u001b[0m| helpers.helpers_predator.predictions_utils | Removed entries first five rows (of 2183): \n",
      "   PREDICTION PROTEIN MUTATION INTERACTOR\n",
      "0    0.513776  P15056    V600E     P53667\n",
      "1    0.362466  P15056    V600E     P53667\n",
      "2    0.513776  P15056    V600E     P53667\n",
      "3    0.573869  P61224     T35M     Q8WWW0\n",
      "4    0.573869  P61224     T35M     Q8WWW0\n",
      "2022-01-06 12:36:34 |\u001b[36m DEBUG    \u001b[0m| helpers.helpers_predator.predictions_utils | Removed entries first five rows (of 2045): \n",
      "   PREDICTION PROTEIN MUTATION INTERACTOR\n",
      "0    0.534286  P61224     T35M     Q13905\n",
      "1    0.426071  P61224     T35M     Q13905\n",
      "2    0.436429  P61224     T35M     Q13905\n",
      "3    0.409286  P05107    P192H     Q9UKX5\n",
      "4    0.149286  P05107    P192H     Q9UKX5\n",
      "2022-01-06 12:37:38 |\u001b[36m DEBUG    \u001b[0m| helpers.helpers_predator.predictions_utils | Removed entries first five rows (of 1772): \n",
      "   PREDICTION PROTEIN MUTATION INTERACTOR\n",
      "0    0.453769  P15056    V600E     P53667\n",
      "1    0.516617  P15056    V600E     P53667\n",
      "2    0.453769  P15056    V600E     P53667\n",
      "3    0.493012  P05362     M91T     P20701\n",
      "4    0.547938  P05362     M91T     P20701\n",
      "2022-01-06 12:38:42 |\u001b[36m DEBUG    \u001b[0m| helpers.helpers_predator.predictions_utils | Removed entries first five rows (of 1767): \n",
      "   PREDICTION PROTEIN MUTATION INTERACTOR\n",
      "0    0.490821  P05362     M91T     P20701\n",
      "1    0.528671  P05362     M91T     P20701\n",
      "2    0.546208  P05362     M91T     P20701\n",
      "3    0.686900  P05107    P192H     Q9UKX5\n",
      "4    0.650533  P05107    P192H     P20701\n",
      "2022-01-06 12:39:45 |\u001b[36m DEBUG    \u001b[0m| helpers.helpers_predator.predictions_utils | Removed entries first five rows (of 1404): \n",
      "   PREDICTION PROTEIN MUTATION INTERACTOR\n",
      "0    0.531083  P61224     T35M     Q13905\n",
      "1    0.464261  P61224     T35M     Q13905\n",
      "2    0.489533  P61224     T35M     Q13905\n",
      "3    0.541088  P05107    P192H     Q9UKX5\n",
      "4    0.582657  P05107    P192H     P20701\n",
      "2022-01-06 12:40:48 |\u001b[36m DEBUG    \u001b[0m| helpers.helpers_predator.predictions_utils | Removed entries first five rows (of 1652): \n",
      "   PREDICTION PROTEIN MUTATION INTERACTOR\n",
      "0    0.466523  P15056    V600E     P53667\n",
      "1    0.576909  P15056    V600E     P53667\n",
      "2    0.466523  P15056    V600E     P53667\n",
      "3    0.446635  Q9UK17     A16T     Q9NS61\n",
      "4    0.446635  Q9UK17     A16T     Q9NS61\n",
      "2022-01-06 12:41:52 |\u001b[36m DEBUG    \u001b[0m| helpers.helpers_predator.predictions_utils | Removed entries first five rows (of 1658): \n",
      "   PREDICTION PROTEIN MUTATION INTERACTOR\n",
      "0    0.671295  P05107    P192H     Q9UKX5\n",
      "1    0.227778  P05107    P192H     Q9UKX5\n",
      "2    0.527204  P05107    P192H     Q9UKX5\n",
      "3    0.657812  P05107    P192H     Q13683\n",
      "4    0.425188  P05107    P192H     Q13683\n",
      "2022-01-06 12:42:54 |\u001b[36m DEBUG    \u001b[0m| helpers.helpers_predator.predictions_utils | Removed entries first five rows (of 2551): \n",
      "   PREDICTION PROTEIN MUTATION INTERACTOR\n",
      "0    0.124390  Q9UK17     A16T     Q9NS61\n",
      "1    0.124390  Q9UK17     A16T     Q9NS61\n",
      "2    0.573617  Q9UK17     A16T     Q9NS61\n",
      "3    0.373617  Q9UK17     A16T     Q9NS61\n",
      "4    0.373617  Q9UK17     A16T     Q9NS61\n",
      "2022-01-06 12:43:57 |\u001b[36m DEBUG    \u001b[0m| helpers.helpers_predator.predictions_utils | Removed entries first five rows (of 1875): \n",
      "   PREDICTION PROTEIN MUTATION INTERACTOR\n",
      "0    0.367827  P15056    V600E     P53667\n",
      "1    0.507653  P15056    V600E     P53667\n",
      "2    0.367827  P15056    V600E     P53667\n",
      "3    0.490278  P05362     M91T     P20701\n",
      "4    0.510543  P05362     M91T     P20701\n",
      "2022-01-06 12:44:58 |\u001b[36m DEBUG    \u001b[0m| helpers.helpers_predator.predictions_utils | Removed entries first five rows (of 1819): \n",
      "   PREDICTION PROTEIN MUTATION INTERACTOR\n",
      "0    0.617336  P05107    P192H     Q9UKX5\n",
      "1    0.538050  P05107    P192H     P20701\n",
      "2    0.438316  P05107    P192H     P20701\n",
      "3    0.388776  P05107    P192H     Q9UKX5\n",
      "4    0.567274  P05107    P192H     Q9UKX5\n",
      "2022-01-06 12:46:00 |\u001b[36m DEBUG    \u001b[0m| helpers.helpers_predator.predictions_utils | Removed entries first five rows (of 1686): \n",
      "   PREDICTION PROTEIN MUTATION INTERACTOR\n",
      "0    0.596708  P05107    P192H     Q9UKX5\n",
      "1    0.536034  P05107    P192H     P20701\n",
      "2    0.418322  P05107    P192H     P20701\n",
      "3    0.335721  P05107    P192H     Q9UKX5\n",
      "4    0.483472  P05107    P192H     Q9UKX5\n",
      "2022-01-06 12:47:00 |\u001b[36m DEBUG    \u001b[0m| helpers.helpers_predator.predictions_utils | Removed entries first five rows (of 845): \n",
      "   PREDICTION PROTEIN MUTATION INTERACTOR\n",
      "0    0.507951  P61224     T35M     Q12967\n",
      "1    0.479430  P61224     T35M     Q12967\n",
      "2    0.507951  P61224     T35M     Q12967\n",
      "3    0.532079  P05107    P192H     Q9UKX5\n",
      "4    0.355382  P05107    P192H     Q9UKX5\n",
      "2022-01-06 12:48:02 |\u001b[36m DEBUG    \u001b[0m| helpers.helpers_predator.predictions_utils | Removed entries first five rows (of 1793): \n",
      "   PREDICTION PROTEIN MUTATION INTERACTOR\n",
      "0    0.409592  Q9UK17     A16T     Q9NS61\n",
      "1    0.409592  Q9UK17     A16T     Q9NS61\n",
      "2    0.548298  Q9UK17     A16T     Q9NS61\n",
      "3    0.578413  Q9UK17     A16T     Q9NS61\n",
      "4    0.578413  Q9UK17     A16T     Q9NS61\n",
      "2022-01-06 12:49:04 |\u001b[36m DEBUG    \u001b[0m| helpers.helpers_predator.predictions_utils | Removed entries first five rows (of 1931): \n",
      "   PREDICTION PROTEIN MUTATION INTERACTOR\n",
      "0    0.496046  P15056    V600E     P53667\n",
      "1    0.589187  P15056    V600E     P53667\n",
      "2    0.496046  P15056    V600E     P53667\n",
      "3    0.300605  Q9UK17     A16T     Q9NS61\n",
      "4    0.300605  Q9UK17     A16T     Q9NS61\n",
      "2022-01-06 12:49:04 |\u001b[36m DEBUG    \u001b[0m| helpers.helpers_predator.predictions | Preparing finalized prediction datasets for coad ..\n",
      "2022-01-06 12:49:04 |\u001b[36m DEBUG    \u001b[0m| helpers.helpers_predator.predictions | Post processing completed for coad.\n"
     ]
    }
   ],
   "source": [
    "predator.predictions_post_process()"
   ]
  },
  {
   "cell_type": "code",
   "execution_count": 11,
   "id": "90683791-df42-47a8-ae9d-6c6ba08bcafd",
   "metadata": {},
   "outputs": [
    {
     "data": {
      "text/plain": [
       "dict_keys(['coad_prob', 'coad_predicted_probs_datasets', 'coad_predicted_valid_datasets', 'coad_predicted_invalid_datasets', 'coad_finalized_prediction_dataframes'])"
      ]
     },
     "execution_count": 11,
     "metadata": {},
     "output_type": "execute_result"
    }
   ],
   "source": [
    "predator.predictions.keys()"
   ]
  },
  {
   "cell_type": "code",
   "execution_count": 12,
   "id": "fcf61287-2498-4b53-ac75-1f6baceed2a3",
   "metadata": {},
   "outputs": [
    {
     "name": "stdout",
     "output_type": "stream",
     "text": [
      "\u001b[36mData dimensions: (14822, 104)\u001b[0m\n"
     ]
    },
    {
     "data": {
      "text/html": [
       "<div>\n",
       "<style scoped>\n",
       "    .dataframe tbody tr th:only-of-type {\n",
       "        vertical-align: middle;\n",
       "    }\n",
       "\n",
       "    .dataframe tbody tr th {\n",
       "        vertical-align: top;\n",
       "    }\n",
       "\n",
       "    .dataframe thead th {\n",
       "        text-align: right;\n",
       "    }\n",
       "</style>\n",
       "<table border=\"1\" class=\"dataframe\">\n",
       "  <thead>\n",
       "    <tr style=\"text-align: right;\">\n",
       "      <th></th>\n",
       "      <th>Prediction</th>\n",
       "      <th>Input_identifier</th>\n",
       "      <th>UniProt_ID</th>\n",
       "      <th>Mutation</th>\n",
       "      <th>Status</th>\n",
       "      <th>Type</th>\n",
       "      <th>COSMIC_mut_ID</th>\n",
       "      <th>ClinVar_mut_ID</th>\n",
       "      <th>UniProt_mut_ID</th>\n",
       "      <th>Domain_name</th>\n",
       "      <th>...</th>\n",
       "      <th>number_of_residues_mut</th>\n",
       "      <th>IntraclashesEnergy1_wt</th>\n",
       "      <th>IntraclashesEnergy1_mut</th>\n",
       "      <th>IntraclashesEnergy2_wt</th>\n",
       "      <th>IntraclashesEnergy2_mut</th>\n",
       "      <th>Interface_hydrophobic_area</th>\n",
       "      <th>Interface_hydrophilic_area</th>\n",
       "      <th>Interface_total_area</th>\n",
       "      <th>Interface_contact_distance_wt</th>\n",
       "      <th>Interface_contact_distance_mut</th>\n",
       "    </tr>\n",
       "  </thead>\n",
       "  <tbody>\n",
       "    <tr>\n",
       "      <th>0</th>\n",
       "      <td>0.483759</td>\n",
       "      <td>P62873</td>\n",
       "      <td>P62873</td>\n",
       "      <td>S334I</td>\n",
       "      <td>done</td>\n",
       "      <td>interface</td>\n",
       "      <td>-</td>\n",
       "      <td>-</td>\n",
       "      <td>-</td>\n",
       "      <td>WD40</td>\n",
       "      <td>...</td>\n",
       "      <td>567.0</td>\n",
       "      <td>128.711</td>\n",
       "      <td>135.025</td>\n",
       "      <td>73.3808</td>\n",
       "      <td>73.3852</td>\n",
       "      <td>894.75</td>\n",
       "      <td>661.58</td>\n",
       "      <td>1556.32</td>\n",
       "      <td>6.34896</td>\n",
       "      <td>3.64695</td>\n",
       "    </tr>\n",
       "    <tr>\n",
       "      <th>1</th>\n",
       "      <td>0.412061</td>\n",
       "      <td>Q9BXB4</td>\n",
       "      <td>Q9BXB4</td>\n",
       "      <td>N590D</td>\n",
       "      <td>done</td>\n",
       "      <td>interface</td>\n",
       "      <td>COSM273062</td>\n",
       "      <td>-</td>\n",
       "      <td>-</td>\n",
       "      <td>Oxysterol_BP</td>\n",
       "      <td>...</td>\n",
       "      <td>742.0</td>\n",
       "      <td>464.479</td>\n",
       "      <td>464.478</td>\n",
       "      <td>199.2630</td>\n",
       "      <td>199.2630</td>\n",
       "      <td>514.015</td>\n",
       "      <td>268.27</td>\n",
       "      <td>782.285</td>\n",
       "      <td>5.08133</td>\n",
       "      <td>3.32753</td>\n",
       "    </tr>\n",
       "    <tr>\n",
       "      <th>2</th>\n",
       "      <td>0.412061</td>\n",
       "      <td>Q9BXB4</td>\n",
       "      <td>Q9BXB4</td>\n",
       "      <td>N590D</td>\n",
       "      <td>done</td>\n",
       "      <td>interface</td>\n",
       "      <td>COSM273062</td>\n",
       "      <td>-</td>\n",
       "      <td>-</td>\n",
       "      <td>Oxysterol_BP</td>\n",
       "      <td>...</td>\n",
       "      <td>742.0</td>\n",
       "      <td>464.479</td>\n",
       "      <td>464.478</td>\n",
       "      <td>199.2630</td>\n",
       "      <td>199.2630</td>\n",
       "      <td>514.015</td>\n",
       "      <td>268.27</td>\n",
       "      <td>782.285</td>\n",
       "      <td>5.08133</td>\n",
       "      <td>3.32753</td>\n",
       "    </tr>\n",
       "  </tbody>\n",
       "</table>\n",
       "<p>3 rows × 104 columns</p>\n",
       "</div>"
      ],
      "text/plain": [
       "   Prediction Input_identifier UniProt_ID Mutation Status       Type  \\\n",
       "0    0.483759           P62873     P62873    S334I   done  interface   \n",
       "1    0.412061           Q9BXB4     Q9BXB4    N590D   done  interface   \n",
       "2    0.412061           Q9BXB4     Q9BXB4    N590D   done  interface   \n",
       "\n",
       "  COSMIC_mut_ID ClinVar_mut_ID UniProt_mut_ID   Domain_name  ...  \\\n",
       "0             -              -              -          WD40  ...   \n",
       "1    COSM273062              -              -  Oxysterol_BP  ...   \n",
       "2    COSM273062              -              -  Oxysterol_BP  ...   \n",
       "\n",
       "  number_of_residues_mut IntraclashesEnergy1_wt IntraclashesEnergy1_mut  \\\n",
       "0                  567.0                128.711                 135.025   \n",
       "1                  742.0                464.479                 464.478   \n",
       "2                  742.0                464.479                 464.478   \n",
       "\n",
       "   IntraclashesEnergy2_wt  IntraclashesEnergy2_mut Interface_hydrophobic_area  \\\n",
       "0                 73.3808                  73.3852                     894.75   \n",
       "1                199.2630                 199.2630                    514.015   \n",
       "2                199.2630                 199.2630                    514.015   \n",
       "\n",
       "  Interface_hydrophilic_area Interface_total_area  \\\n",
       "0                     661.58              1556.32   \n",
       "1                     268.27              782.285   \n",
       "2                     268.27              782.285   \n",
       "\n",
       "  Interface_contact_distance_wt Interface_contact_distance_mut  \n",
       "0                       6.34896                        3.64695  \n",
       "1                       5.08133                        3.32753  \n",
       "2                       5.08133                        3.32753  \n",
       "\n",
       "[3 rows x 104 columns]"
      ]
     },
     "metadata": {},
     "output_type": "display_data"
    }
   ],
   "source": [
    "display_data(predator.predictions[\"coad_predicted_probs_datasets\"][0])"
   ]
  },
  {
   "cell_type": "code",
   "execution_count": 13,
   "id": "a603e902-b663-49e2-92c5-e6167cc06699",
   "metadata": {},
   "outputs": [
    {
     "data": {
      "image/png": "[encoded data removed]",
      "text/plain": [
       "<Figure size 1080x360 with 1 Axes>"
      ]
     },
     "metadata": {
      "needs_background": "light"
     },
     "output_type": "display_data"
    }
   ],
   "source": [
    "predator.predictions.plot_distribution_valid_vs_invalid(\"coad\")"
   ]
  },
  {
   "cell_type": "code",
   "execution_count": 14,
   "id": "77147287-c7ce-4771-b0ed-e45479644ccb",
   "metadata": {},
   "outputs": [
    {
     "name": "stdout",
     "output_type": "stream",
     "text": [
      "2022-01-06 12:49:05 |\u001b[36m DEBUG    \u001b[0m| helpers.helpers_predator.predictions | Plotting number of finalized predictions per model.\n",
      "Note that following plot shows the number of (protein, mutation, interactor) triplets which had valid prediction.\n"
     ]
    },
    {
     "data": {
      "image/png": "[encoded data removed]",
      "text/plain": [
       "<Figure size 1080x360 with 1 Axes>"
      ]
     },
     "metadata": {
      "needs_background": "light"
     },
     "output_type": "display_data"
    }
   ],
   "source": [
    "predator.predictions.plot_num_finalized_predictions(\"coad\")"
   ]
  },
  {
   "cell_type": "code",
   "execution_count": 15,
   "id": "a0762893-11a8-43c7-8b93-1b214a1a85e4",
   "metadata": {},
   "outputs": [
    {
     "name": "stdout",
     "output_type": "stream",
     "text": [
      "\u001b[36mData dimensions: (10178, 4)\u001b[0m\n"
     ]
    },
    {
     "data": {
      "text/html": [
       "<div>\n",
       "<style scoped>\n",
       "    .dataframe tbody tr th:only-of-type {\n",
       "        vertical-align: middle;\n",
       "    }\n",
       "\n",
       "    .dataframe tbody tr th {\n",
       "        vertical-align: top;\n",
       "    }\n",
       "\n",
       "    .dataframe thead th {\n",
       "        text-align: right;\n",
       "    }\n",
       "</style>\n",
       "<table border=\"1\" class=\"dataframe\">\n",
       "  <thead>\n",
       "    <tr style=\"text-align: right;\">\n",
       "      <th></th>\n",
       "      <th>Prediction</th>\n",
       "      <th>UniProt_ID</th>\n",
       "      <th>Mutation</th>\n",
       "      <th>Interactor_UniProt_ID</th>\n",
       "    </tr>\n",
       "  </thead>\n",
       "  <tbody>\n",
       "    <tr>\n",
       "      <th>0</th>\n",
       "      <td>0.483759</td>\n",
       "      <td>P62873</td>\n",
       "      <td>S334I</td>\n",
       "      <td>Q13371</td>\n",
       "    </tr>\n",
       "    <tr>\n",
       "      <th>1</th>\n",
       "      <td>0.412061</td>\n",
       "      <td>Q9BXB4</td>\n",
       "      <td>N590D</td>\n",
       "      <td>Q96SU4</td>\n",
       "    </tr>\n",
       "    <tr>\n",
       "      <th>2</th>\n",
       "      <td>0.242782</td>\n",
       "      <td>P35251</td>\n",
       "      <td>V921A</td>\n",
       "      <td>P35250</td>\n",
       "    </tr>\n",
       "  </tbody>\n",
       "</table>\n",
       "</div>"
      ],
      "text/plain": [
       "   Prediction UniProt_ID Mutation Interactor_UniProt_ID\n",
       "0    0.483759     P62873    S334I                Q13371\n",
       "1    0.412061     Q9BXB4    N590D                Q96SU4\n",
       "2    0.242782     P35251    V921A                P35250"
      ]
     },
     "metadata": {},
     "output_type": "display_data"
    }
   ],
   "source": [
    "display_data(predator.predictions['coad_finalized_prediction_dataframes'][0])"
   ]
  },
  {
   "cell_type": "code",
   "execution_count": 16,
   "id": "7fab8dc7-62ea-4cba-bdfa-0a8187a53a27",
   "metadata": {
    "scrolled": true,
    "tags": []
   },
   "outputs": [
    {
     "name": "stdout",
     "output_type": "stream",
     "text": [
      "2022-01-06 12:49:06 |\u001b[32m INFO     \u001b[0m| helpers.helpers_predator.predictions | PredictionsSoft\n",
      "2022-01-06 12:49:06 |\u001b[32m INFO     \u001b[0m| helpers.helpers_predator.predictions | Preparing ensemble prediction data for coad taking median ..\n"
     ]
    },
    {
     "data": {
      "application/vnd.jupyter.widget-view+json": {
       "model_id": "3280b3d9d0724c52a0a90925e65eff26",
       "version_major": 2,
       "version_minor": 0
      },
      "text/plain": [
       "  0%|          | 0/37 [00:00<?, ?it/s]"
      ]
     },
     "metadata": {},
     "output_type": "display_data"
    },
    {
     "name": "stdout",
     "output_type": "stream",
     "text": [
      "2022-01-06 13:03:26 |\u001b[36m DEBUG    \u001b[0m| helpers.helpers_predator.predictions | Prediction probabilities data for coad is prepared.\n",
      "Accessible from `coad_predictions_prob_data`.\n",
      "2022-01-06 13:03:26 |\u001b[36m DEBUG    \u001b[0m| helpers.helpers_predator.predictions | Ensemble prediction data for coad is prepared.\n",
      "Accessible from `coad_ensemble_prediction_data`.\n",
      "2022-01-06 13:03:26 |\u001b[36m DEBUG    \u001b[0m| helpers.helpers_predator.predictions | Resulting prediction data is available for coad.\n",
      "Accessible from predictions.['coad_prediction_results']\n",
      "2022-01-06 13:03:26 |\u001b[36m DEBUG    \u001b[0m| helpers.helpers_predator.predictions | Resulting prediction data (no_votes dropped) is available for coad.\n",
      "Accessible from predictions.['coad_prediction_results_no_votes_dropped']\n"
     ]
    }
   ],
   "source": [
    "predator.prepare_ensemble_prediction_data()"
   ]
  },
  {
   "cell_type": "code",
   "execution_count": 17,
   "id": "0ffd0f8a-b82f-4733-9a31-2d350402fecb",
   "metadata": {},
   "outputs": [
    {
     "name": "stdout",
     "output_type": "stream",
     "text": [
      "\u001b[36mData dimensions: (7816, 39)\u001b[0m\n"
     ]
    },
    {
     "data": {
      "text/html": [
       "<div>\n",
       "<style scoped>\n",
       "    .dataframe tbody tr th:only-of-type {\n",
       "        vertical-align: middle;\n",
       "    }\n",
       "\n",
       "    .dataframe tbody tr th {\n",
       "        vertical-align: top;\n",
       "    }\n",
       "\n",
       "    .dataframe thead th {\n",
       "        text-align: right;\n",
       "    }\n",
       "</style>\n",
       "<table border=\"1\" class=\"dataframe\">\n",
       "  <thead>\n",
       "    <tr style=\"text-align: right;\">\n",
       "      <th></th>\n",
       "      <th>Trial 0</th>\n",
       "      <th>Trial 1</th>\n",
       "      <th>Trial 2</th>\n",
       "      <th>Trial 3</th>\n",
       "      <th>Trial 4</th>\n",
       "      <th>Trial 5</th>\n",
       "      <th>Trial 6</th>\n",
       "      <th>Trial 7</th>\n",
       "      <th>Trial 8</th>\n",
       "      <th>Trial 9</th>\n",
       "      <th>...</th>\n",
       "      <th>Trial 29</th>\n",
       "      <th>Trial 30</th>\n",
       "      <th>Trial 31</th>\n",
       "      <th>Trial 32</th>\n",
       "      <th>Trial 33</th>\n",
       "      <th>Trial 34</th>\n",
       "      <th>Trial 35</th>\n",
       "      <th>Trial 36</th>\n",
       "      <th>PROB_1s_AVG</th>\n",
       "      <th>VOTED_PREDICTION</th>\n",
       "    </tr>\n",
       "  </thead>\n",
       "  <tbody>\n",
       "    <tr>\n",
       "      <th>0</th>\n",
       "      <td>0.483759</td>\n",
       "      <td>0.0</td>\n",
       "      <td>0.329556</td>\n",
       "      <td>0.43915</td>\n",
       "      <td>0.330858</td>\n",
       "      <td>0.561663</td>\n",
       "      <td>0.537679</td>\n",
       "      <td>0.55166</td>\n",
       "      <td>0.423441</td>\n",
       "      <td>0.504008</td>\n",
       "      <td>...</td>\n",
       "      <td>0.587467</td>\n",
       "      <td>0.884314</td>\n",
       "      <td>0.467926</td>\n",
       "      <td>0.500629</td>\n",
       "      <td>0.486272</td>\n",
       "      <td>0.476457</td>\n",
       "      <td>0.481496</td>\n",
       "      <td>0.606687</td>\n",
       "      <td>0.48376</td>\n",
       "      <td>0</td>\n",
       "    </tr>\n",
       "    <tr>\n",
       "      <th>1</th>\n",
       "      <td>0.412061</td>\n",
       "      <td>1.0</td>\n",
       "      <td>0.558921</td>\n",
       "      <td>0.653305</td>\n",
       "      <td>0.549252</td>\n",
       "      <td>0.681219</td>\n",
       "      <td>0.657425</td>\n",
       "      <td>0.618794</td>\n",
       "      <td>0.397983</td>\n",
       "      <td>0.536708</td>\n",
       "      <td>...</td>\n",
       "      <td>0.752778</td>\n",
       "      <td>0.366304</td>\n",
       "      <td>0.721878</td>\n",
       "      <td>0.599993</td>\n",
       "      <td>0.641604</td>\n",
       "      <td>0.688001</td>\n",
       "      <td>0.620979</td>\n",
       "      <td>0.638958</td>\n",
       "      <td>0.6416</td>\n",
       "      <td>1</td>\n",
       "    </tr>\n",
       "    <tr>\n",
       "      <th>2</th>\n",
       "      <td>0.242782</td>\n",
       "      <td>0.0</td>\n",
       "      <td>0.14892</td>\n",
       "      <td>0.251699</td>\n",
       "      <td>0.098007</td>\n",
       "      <td>0.366685</td>\n",
       "      <td>0.395311</td>\n",
       "      <td>0.201517</td>\n",
       "      <td>0.18895</td>\n",
       "      <td>0.394472</td>\n",
       "      <td>...</td>\n",
       "      <td>0.27963</td>\n",
       "      <td>0.173617</td>\n",
       "      <td>0.193992</td>\n",
       "      <td>0.355712</td>\n",
       "      <td>0.329133</td>\n",
       "      <td>0.551711</td>\n",
       "      <td>0.551203</td>\n",
       "      <td>0.157557</td>\n",
       "      <td>0.2517</td>\n",
       "      <td>0</td>\n",
       "    </tr>\n",
       "  </tbody>\n",
       "</table>\n",
       "<p>3 rows × 39 columns</p>\n",
       "</div>"
      ],
      "text/plain": [
       "    Trial 0 Trial 1   Trial 2   Trial 3   Trial 4   Trial 5   Trial 6  \\\n",
       "0  0.483759     0.0  0.329556   0.43915  0.330858  0.561663  0.537679   \n",
       "1  0.412061     1.0  0.558921  0.653305  0.549252  0.681219  0.657425   \n",
       "2  0.242782     0.0   0.14892  0.251699  0.098007  0.366685  0.395311   \n",
       "\n",
       "    Trial 7   Trial 8   Trial 9  ...  Trial 29  Trial 30  Trial 31  Trial 32  \\\n",
       "0   0.55166  0.423441  0.504008  ...  0.587467  0.884314  0.467926  0.500629   \n",
       "1  0.618794  0.397983  0.536708  ...  0.752778  0.366304  0.721878  0.599993   \n",
       "2  0.201517   0.18895  0.394472  ...   0.27963  0.173617  0.193992  0.355712   \n",
       "\n",
       "   Trial 33  Trial 34  Trial 35  Trial 36 PROB_1s_AVG VOTED_PREDICTION  \n",
       "0  0.486272  0.476457  0.481496  0.606687     0.48376                0  \n",
       "1  0.641604  0.688001  0.620979  0.638958      0.6416                1  \n",
       "2  0.329133  0.551711  0.551203  0.157557      0.2517                0  \n",
       "\n",
       "[3 rows x 39 columns]"
      ]
     },
     "metadata": {},
     "output_type": "display_data"
    }
   ],
   "source": [
    "display_data(predator.predictions['coad_predictions_prob_data'])"
   ]
  },
  {
   "cell_type": "code",
   "execution_count": 18,
   "id": "f2b38467-e658-4ed6-9ac0-6de1f1017ce7",
   "metadata": {},
   "outputs": [
    {
     "data": {
      "image/png": "[encoded data removed]",
      "text/plain": [
       "<Figure size 432x288 with 1 Axes>"
      ]
     },
     "metadata": {
      "needs_background": "light"
     },
     "output_type": "display_data"
    }
   ],
   "source": [
    "predator.predictions.plot_ensemble_prediction_distribution(\"coad\")"
   ]
  },
  {
   "cell_type": "code",
   "execution_count": 19,
   "id": "c454d6a9-5c73-4fe6-b609-e7b160e2ddb8",
   "metadata": {},
   "outputs": [
    {
     "name": "stdout",
     "output_type": "stream",
     "text": [
      "\u001b[36mData dimensions: (7816, 4)\u001b[0m\n"
     ]
    },
    {
     "data": {
      "text/html": [
       "<div>\n",
       "<style scoped>\n",
       "    .dataframe tbody tr th:only-of-type {\n",
       "        vertical-align: middle;\n",
       "    }\n",
       "\n",
       "    .dataframe tbody tr th {\n",
       "        vertical-align: top;\n",
       "    }\n",
       "\n",
       "    .dataframe thead th {\n",
       "        text-align: right;\n",
       "    }\n",
       "</style>\n",
       "<table border=\"1\" class=\"dataframe\">\n",
       "  <thead>\n",
       "    <tr style=\"text-align: right;\">\n",
       "      <th></th>\n",
       "      <th>UniProt_ID</th>\n",
       "      <th>Mutation</th>\n",
       "      <th>Interactor_UniProt_ID</th>\n",
       "      <th>Prediction</th>\n",
       "    </tr>\n",
       "  </thead>\n",
       "  <tbody>\n",
       "    <tr>\n",
       "      <th>0</th>\n",
       "      <td>P62873</td>\n",
       "      <td>S334I</td>\n",
       "      <td>Q13371</td>\n",
       "      <td>0</td>\n",
       "    </tr>\n",
       "    <tr>\n",
       "      <th>1</th>\n",
       "      <td>Q9BXB4</td>\n",
       "      <td>N590D</td>\n",
       "      <td>Q96SU4</td>\n",
       "      <td>1</td>\n",
       "    </tr>\n",
       "    <tr>\n",
       "      <th>2</th>\n",
       "      <td>P35251</td>\n",
       "      <td>V921A</td>\n",
       "      <td>P35250</td>\n",
       "      <td>0</td>\n",
       "    </tr>\n",
       "  </tbody>\n",
       "</table>\n",
       "</div>"
      ],
      "text/plain": [
       "  UniProt_ID Mutation Interactor_UniProt_ID Prediction\n",
       "0     P62873    S334I                Q13371          0\n",
       "1     Q9BXB4    N590D                Q96SU4          1\n",
       "2     P35251    V921A                P35250          0"
      ]
     },
     "metadata": {},
     "output_type": "display_data"
    }
   ],
   "source": [
    "coad_prediction_results_soft = predator.predictions['coad_prediction_results']\n",
    "display_data(coad_prediction_results_soft)"
   ]
  },
  {
   "cell_type": "code",
   "execution_count": 20,
   "id": "569c4dd1-e2d9-40d0-b7c0-1cc177adfabb",
   "metadata": {},
   "outputs": [
    {
     "name": "stdout",
     "output_type": "stream",
     "text": [
      "\u001b[36mData dimensions: (7517, 4)\u001b[0m\n"
     ]
    },
    {
     "data": {
      "text/html": [
       "<div>\n",
       "<style scoped>\n",
       "    .dataframe tbody tr th:only-of-type {\n",
       "        vertical-align: middle;\n",
       "    }\n",
       "\n",
       "    .dataframe tbody tr th {\n",
       "        vertical-align: top;\n",
       "    }\n",
       "\n",
       "    .dataframe thead th {\n",
       "        text-align: right;\n",
       "    }\n",
       "</style>\n",
       "<table border=\"1\" class=\"dataframe\">\n",
       "  <thead>\n",
       "    <tr style=\"text-align: right;\">\n",
       "      <th></th>\n",
       "      <th>UniProt_ID</th>\n",
       "      <th>Mutation</th>\n",
       "      <th>Interactor_UniProt_ID</th>\n",
       "      <th>Prediction</th>\n",
       "    </tr>\n",
       "  </thead>\n",
       "  <tbody>\n",
       "    <tr>\n",
       "      <th>0</th>\n",
       "      <td>P62873</td>\n",
       "      <td>S334I</td>\n",
       "      <td>Q13371</td>\n",
       "      <td>0</td>\n",
       "    </tr>\n",
       "    <tr>\n",
       "      <th>1</th>\n",
       "      <td>Q9BXB4</td>\n",
       "      <td>N590D</td>\n",
       "      <td>Q96SU4</td>\n",
       "      <td>1</td>\n",
       "    </tr>\n",
       "    <tr>\n",
       "      <th>2</th>\n",
       "      <td>P35251</td>\n",
       "      <td>V921A</td>\n",
       "      <td>P35250</td>\n",
       "      <td>0</td>\n",
       "    </tr>\n",
       "  </tbody>\n",
       "</table>\n",
       "</div>"
      ],
      "text/plain": [
       "  UniProt_ID Mutation Interactor_UniProt_ID Prediction\n",
       "0     P62873    S334I                Q13371          0\n",
       "1     Q9BXB4    N590D                Q96SU4          1\n",
       "2     P35251    V921A                P35250          0"
      ]
     },
     "metadata": {},
     "output_type": "display_data"
    }
   ],
   "source": [
    "coad_prediction_results_soft_no_votes_dropped = predator.predictions[\"coad_prediction_results_no_votes_dropped\"]\n",
    "display_data(coad_prediction_results_soft_no_votes_dropped)"
   ]
  },
  {
   "cell_type": "code",
   "execution_count": 21,
   "id": "d1100263-ae65-405f-a13d-896927fdc1c5",
   "metadata": {},
   "outputs": [
    {
     "name": "stdout",
     "output_type": "stream",
     "text": [
      "\u001b[36mLabel counts:\n",
      "Disrupting                3726\n",
      "Increasing + No Effect    3791\n",
      "Name: Prediction, dtype: int64\u001b[0m\n"
     ]
    },
    {
     "data": {
      "image/png": "[encoded data removed]",
      "text/plain": [
       "<Figure size 432x288 with 1 Axes>"
      ]
     },
     "metadata": {},
     "output_type": "display_data"
    }
   ],
   "source": [
    "visualize_label_counts(coad_prediction_results_soft_no_votes_dropped, 'Prediction')"
   ]
  },
  {
   "cell_type": "code",
   "execution_count": 22,
   "id": "37c0a11a-e87e-40af-ba8a-8a28b82d956d",
   "metadata": {},
   "outputs": [],
   "source": [
    "coad_ensemble_prediction_data_soft = predator.predictions[\"coad_ensemble_prediction_data\"]"
   ]
  },
  {
   "cell_type": "code",
   "execution_count": 23,
   "id": "e4995e62-dfd6-4b54-bd6c-67a62eefb6a6",
   "metadata": {},
   "outputs": [],
   "source": [
    "coad_predictions_prob_data_soft = predator.predictions[\"coad_predictions_prob_data\"]"
   ]
  },
  {
   "cell_type": "code",
   "execution_count": null,
   "id": "dabc60aa-0a63-4016-bbef-4f8788b625ed",
   "metadata": {},
   "outputs": [],
   "source": []
  },
  {
   "cell_type": "code",
   "execution_count": 24,
   "id": "a84ab98c-1e29-413a-8c6e-514b747fd38f",
   "metadata": {},
   "outputs": [],
   "source": [
    "def add_median_probabilities(prediction_results, predictions_prob_data):\n",
    "    assert len(prediction_results) == len(predictions_prob_data)\n",
    "    prediction_results_with_probabilities = prediction_results.copy()\n",
    "    prediction_results_with_probabilities[\"Median_Probability\"] = predictions_prob_data[\"PROB_1s_AVG\"]\n",
    "    return prediction_results_with_probabilities"
   ]
  },
  {
   "cell_type": "code",
   "execution_count": 25,
   "id": "b8955db8-7279-4644-acb9-6297e6e1c43c",
   "metadata": {},
   "outputs": [
    {
     "data": {
      "text/html": [
       "<div>\n",
       "<style scoped>\n",
       "    .dataframe tbody tr th:only-of-type {\n",
       "        vertical-align: middle;\n",
       "    }\n",
       "\n",
       "    .dataframe tbody tr th {\n",
       "        vertical-align: top;\n",
       "    }\n",
       "\n",
       "    .dataframe thead th {\n",
       "        text-align: right;\n",
       "    }\n",
       "</style>\n",
       "<table border=\"1\" class=\"dataframe\">\n",
       "  <thead>\n",
       "    <tr style=\"text-align: right;\">\n",
       "      <th></th>\n",
       "      <th>UniProt_ID</th>\n",
       "      <th>Mutation</th>\n",
       "      <th>Interactor_UniProt_ID</th>\n",
       "      <th>Prediction</th>\n",
       "      <th>Median_Probability</th>\n",
       "    </tr>\n",
       "  </thead>\n",
       "  <tbody>\n",
       "    <tr>\n",
       "      <th>0</th>\n",
       "      <td>P62873</td>\n",
       "      <td>S334I</td>\n",
       "      <td>Q13371</td>\n",
       "      <td>0</td>\n",
       "      <td>0.48376</td>\n",
       "    </tr>\n",
       "    <tr>\n",
       "      <th>1</th>\n",
       "      <td>Q9BXB4</td>\n",
       "      <td>N590D</td>\n",
       "      <td>Q96SU4</td>\n",
       "      <td>1</td>\n",
       "      <td>0.6416</td>\n",
       "    </tr>\n",
       "    <tr>\n",
       "      <th>2</th>\n",
       "      <td>P35251</td>\n",
       "      <td>V921A</td>\n",
       "      <td>P35250</td>\n",
       "      <td>0</td>\n",
       "      <td>0.2517</td>\n",
       "    </tr>\n",
       "    <tr>\n",
       "      <th>3</th>\n",
       "      <td>P08123</td>\n",
       "      <td>K1248N</td>\n",
       "      <td>P25940</td>\n",
       "      <td>1</td>\n",
       "      <td>0.78179</td>\n",
       "    </tr>\n",
       "    <tr>\n",
       "      <th>4</th>\n",
       "      <td>P15056</td>\n",
       "      <td>V600E</td>\n",
       "      <td>P53667</td>\n",
       "      <td>0</td>\n",
       "      <td>0.43582</td>\n",
       "    </tr>\n",
       "  </tbody>\n",
       "</table>\n",
       "</div>"
      ],
      "text/plain": [
       "  UniProt_ID Mutation Interactor_UniProt_ID Prediction Median_Probability\n",
       "0     P62873    S334I                Q13371          0            0.48376\n",
       "1     Q9BXB4    N590D                Q96SU4          1             0.6416\n",
       "2     P35251    V921A                P35250          0             0.2517\n",
       "3     P08123   K1248N                P25940          1            0.78179\n",
       "4     P15056    V600E                P53667          0            0.43582"
      ]
     },
     "execution_count": 25,
     "metadata": {},
     "output_type": "execute_result"
    }
   ],
   "source": [
    "coad_prediction_results_soft_with_median_probs = add_median_probabilities(\n",
    "    prediction_results=predator.predictions[\"coad_prediction_results\"],\n",
    "    predictions_prob_data=predator.predictions[\"coad_predictions_prob_data\"]\n",
    ")\n",
    "coad_prediction_results_soft_with_median_probs.head()"
   ]
  },
  {
   "cell_type": "code",
   "execution_count": 26,
   "id": "5328bf48-72fa-4a0c-86c5-76e0939b0e5c",
   "metadata": {},
   "outputs": [],
   "source": [
    "coad_prediction_results_soft_no_votes_dropped_with_median_probabilities = coad_prediction_results_soft_with_median_probs[\n",
    "    coad_prediction_results_soft_with_median_probs['Prediction'].isin([0, 1])\n",
    "]"
   ]
  },
  {
   "cell_type": "code",
   "execution_count": 27,
   "id": "5040e7d0-4bd2-4197-8a21-58bfd68b6c76",
   "metadata": {},
   "outputs": [
    {
     "data": {
      "text/plain": [
       "7517"
      ]
     },
     "execution_count": 27,
     "metadata": {},
     "output_type": "execute_result"
    }
   ],
   "source": [
    "len(coad_prediction_results_soft_no_votes_dropped_with_median_probabilities)"
   ]
  },
  {
   "cell_type": "code",
   "execution_count": null,
   "id": "15a48147-a670-4b25-bbfc-9a43654be0a1",
   "metadata": {},
   "outputs": [],
   "source": []
  },
  {
   "cell_type": "markdown",
   "id": "412859ae-c188-410e-85ef-7df91b9d2b89",
   "metadata": {},
   "source": [
    "## Exporting Predictions"
   ]
  },
  {
   "cell_type": "code",
   "execution_count": 28,
   "id": "4042b8ce-498b-4c6c-b964-bbf7632e4ae6",
   "metadata": {},
   "outputs": [
    {
     "name": "stdout",
     "output_type": "stream",
     "text": [
      "\u001b[36mData dimensions: (7517, 5)\u001b[0m\n"
     ]
    },
    {
     "data": {
      "text/html": [
       "<div>\n",
       "<style scoped>\n",
       "    .dataframe tbody tr th:only-of-type {\n",
       "        vertical-align: middle;\n",
       "    }\n",
       "\n",
       "    .dataframe tbody tr th {\n",
       "        vertical-align: top;\n",
       "    }\n",
       "\n",
       "    .dataframe thead th {\n",
       "        text-align: right;\n",
       "    }\n",
       "</style>\n",
       "<table border=\"1\" class=\"dataframe\">\n",
       "  <thead>\n",
       "    <tr style=\"text-align: right;\">\n",
       "      <th></th>\n",
       "      <th>UniProt_ID</th>\n",
       "      <th>Mutation</th>\n",
       "      <th>Interactor_UniProt_ID</th>\n",
       "      <th>Prediction</th>\n",
       "      <th>Median_Probability</th>\n",
       "    </tr>\n",
       "  </thead>\n",
       "  <tbody>\n",
       "    <tr>\n",
       "      <th>0</th>\n",
       "      <td>P62873</td>\n",
       "      <td>S334I</td>\n",
       "      <td>Q13371</td>\n",
       "      <td>0</td>\n",
       "      <td>0.48376</td>\n",
       "    </tr>\n",
       "    <tr>\n",
       "      <th>1</th>\n",
       "      <td>Q9BXB4</td>\n",
       "      <td>N590D</td>\n",
       "      <td>Q96SU4</td>\n",
       "      <td>1</td>\n",
       "      <td>0.6416</td>\n",
       "    </tr>\n",
       "    <tr>\n",
       "      <th>2</th>\n",
       "      <td>P35251</td>\n",
       "      <td>V921A</td>\n",
       "      <td>P35250</td>\n",
       "      <td>0</td>\n",
       "      <td>0.2517</td>\n",
       "    </tr>\n",
       "  </tbody>\n",
       "</table>\n",
       "</div>"
      ],
      "text/plain": [
       "  UniProt_ID Mutation Interactor_UniProt_ID Prediction Median_Probability\n",
       "0     P62873    S334I                Q13371          0            0.48376\n",
       "1     Q9BXB4    N590D                Q96SU4          1             0.6416\n",
       "2     P35251    V921A                P35250          0             0.2517"
      ]
     },
     "metadata": {},
     "output_type": "display_data"
    }
   ],
   "source": [
    "# coad_prediction_results = coad_prediction_results_hard_no_votes_dropped\n",
    "# coad_prediction_results = coad_prediction_results_soft_no_votes_dropped\n",
    "coad_prediction_results = coad_prediction_results_soft_no_votes_dropped_with_median_probabilities\n",
    "display_data(coad_prediction_results)"
   ]
  },
  {
   "cell_type": "code",
   "execution_count": 29,
   "id": "4ab9fbc1-d3d2-4424-99ac-aa5515070d71",
   "metadata": {},
   "outputs": [
    {
     "name": "stdout",
     "output_type": "stream",
     "text": [
      "2022-01-06 13:09:30 |\u001b[36m DEBUG    \u001b[0m| helpers.helpers_predator.common | Folder with ID 9789393f is created.\n",
      "2022-01-06 13:09:30 |\u001b[36m DEBUG    \u001b[0m| helpers.helpers_predator.common | Exporting data predictions at location ../data/predictions_datasets/ in folder coad_prediction_2022-01-06\\9789393f..\n",
      "2022-01-06 13:09:30 |\u001b[32m INFO     \u001b[0m| helpers.helpers_predator.common | ../data/predictions_datasets/coad_prediction_2022-01-06\\9789393f\\predictions_soft_2022-01-06.csv is exported successfully.\n",
      "2022-01-06 13:09:30 |\u001b[32m INFO     \u001b[0m| helpers.helpers_predator.common | Config is exported.\n"
     ]
    }
   ],
   "source": [
    "predator.export_prediction(\n",
    "    tcga=\"coad\",\n",
    "    data=coad_prediction_results,\n",
    "    file_name=\"predictions\",\n",
    "    folder_path=PREDICTIONS_DATASETS_FOLDER_PATH,\n",
    "    voting=\"soft\",\n",
    "    overwrite=False,\n",
    "    file_extension='csv'\n",
    ")"
   ]
  },
  {
   "cell_type": "markdown",
   "id": "fbc616a5-ce63-4b93-a858-b3d22fdce070",
   "metadata": {},
   "source": [
    "---"
   ]
  },
  {
   "cell_type": "code",
   "execution_count": null,
   "id": "2159ade9-870c-4676-94f2-4d1f4b09beee",
   "metadata": {},
   "outputs": [],
   "source": []
  }
 ],
 "metadata": {
  "kernelspec": {
   "display_name": "Predicting-Mutation-Effects",
   "language": "python",
   "name": "predicting-mutation-effects"
  },
  "language_info": {
   "codemirror_mode": {
    "name": "ipython",
    "version": 3
   },
   "file_extension": ".py",
   "mimetype": "text/x-python",
   "name": "python",
   "nbconvert_exporter": "python",
   "pygments_lexer": "ipython3",
   "version": "3.8.10"
  },
  "toc-autonumbering": false
 },
 "nbformat": 4,
 "nbformat_minor": 5
}
