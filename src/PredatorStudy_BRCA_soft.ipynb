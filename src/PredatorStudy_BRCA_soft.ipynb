{
 "cells": [
  {
   "cell_type": "markdown",
   "id": "b0eea2f9-919a-44d2-970f-da295e7b77c5",
   "metadata": {
    "tags": []
   },
   "source": [
    "# PREDATOR: **PRED**icting the imp**A**ct of cancer somatic mu**T**ations on pr**O**tein-protein inte**R**actions\n"
   ]
  },
  {
   "cell_type": "markdown",
   "id": "0fc1bee2-776f-46dc-9aa7-80e979b941df",
   "metadata": {},
   "source": [
    "## BRCA"
   ]
  },
  {
   "cell_type": "markdown",
   "id": "f412b89c-b553-4606-95fb-d30520f77b97",
   "metadata": {},
   "source": [
    "\n",
    "<b><i class=\"fa fa-folder-o\" area-hidden=\"true\" style=\"color:#1976D2\"> </i>&nbsp; File Location</b><br>\n",
    "<p style=\"background:#F5F5F5; text-indent: 1em;\">\n",
    "<code style=\"background:#F5F5F5; color:#404040; font-weight:bold; font-size:12px\">C:\\Users\\ibrah\\Documents\\GitHub\\Predicting-Mutation-Effects\\src</code>\n",
    "</p>\n",
    "\n",
    "<b><i class=\"far fa-file\" area-hidden=\"true\" style=\"color:#1976D2\"> </i>&nbsp; File Name</b>\n",
    "<p style=\"background:#F5F5F5; text-indent: 1em;\">\n",
    "<code style=\"background:#F5F5F5; color:#404040; font-weight:bold; font-size:12px\">PredatorStudy_BRCA_soft.ipynb</code>\n",
    "</p>\n",
    "\n",
    "<b><i class=\"far fa-calendar-alt\" area-hidden=\"true\" style=\"color:#1976D2\"> </i>&nbsp; Last Edited</b>\n",
    "<p style=\"background:#F5F5F5; text-indent: 1em;\">\n",
    "<code style=\"background:#F5F5F5; color:#404040; font-weight:bold; font-size:12px\">November 11th, 2021</code>\n",
    "</p>\n"
   ]
  },
  {
   "cell_type": "markdown",
   "id": "8931daec-0e11-43e2-8a68-098571c3cc4e",
   "metadata": {},
   "source": [
    "<div class=\"alert alert-block\" style=\"background-color: #F5F5F5; border: 1px solid; padding: 10px; border-color: #E0E0E0\">\n",
    "    <b><i class=\"fa fa-compass\" aria-hidden=\"true\" style=\"color:#404040\"></i></b>&nbsp; <b style=\"color: #404040\">Purpose </b> <br>\n",
    "<div>\n",
    "   \n",
    "- [x] Apply on Cancer Datasets\n",
    "    > BRCA\n",
    "    \n",
    "**Dependent files:**\n",
    "\n",
    "* Target (Cancer) data: \n",
    "    - *BRCA_Interface.txt*"
   ]
  },
  {
   "cell_type": "code",
   "execution_count": 1,
   "id": "3f602602-ac27-4390-9521-9bcdc73f06ef",
   "metadata": {},
   "outputs": [],
   "source": [
    "# Common imports\n",
    "import pandas as pd\n",
    "import numpy as np\n",
    "import matplotlib.pyplot as plt\n",
    "import seaborn as sns\n",
    "\n",
    "import os\n",
    "import os.path as op\n",
    "import sys\n",
    "import random\n",
    "from pathlib import Path\n",
    "\n",
    "from pprint import pprint\n",
    "from IPython.display import display\n",
    "from tqdm.notebook import tqdm\n",
    "\n",
    "from helpers.helpers_predator.displayers import (\n",
    "    display_label_counts, \n",
    "    display_labels, \n",
    "    visualize_label_counts,\n",
    "    display_data,\n",
    ")\n",
    "\n",
    "from helpers.helpers_predator.visualizers import (\n",
    "    visualize_sampled_train_datasets_label_counts\n",
    ")\n",
    "\n",
    "from helpers.helpers_predator.common import load_predator\n",
    "from helpers.helpers_predator.common import export_data\n",
    "\n",
    "# PATHS\n",
    "BRCA_PATH = Path(r\"../../My-ELASPIC-Web-API/Elaspic_Results/Merged_Results/BRCA_Interface_2021-09-28.txt\")\n",
    "PREDATOR_MODEL_PATH = Path(r\"PredatorModels/PredatorModel_2021-10-24/04f37897/predator.pkl\")\n",
    "PREDICTIONS_DATASETS_FOLDER_PATH = \"../data/predictions_datasets/\"\n",
    "\n",
    "# Reflect changes in the modules immediately.\n",
    "%load_ext autoreload\n",
    "%autoreload 2"
   ]
  },
  {
   "cell_type": "markdown",
   "id": "c47b1edb-758c-460e-acf7-4f864330d19b",
   "metadata": {},
   "source": [
    "## Load the Predator"
   ]
  },
  {
   "cell_type": "code",
   "execution_count": 2,
   "id": "0c164c31-9b7e-4366-8336-50cbc80bf9c7",
   "metadata": {},
   "outputs": [
    {
     "name": "stdout",
     "output_type": "stream",
     "text": [
      "2021-11-11 20:26:02 |\u001b[32m INFO     \u001b[0m| helpers.helpers_predator.common | Predator object PredatorModels\\PredatorModel_2021-10-24\\04f37897\\predator.pkl is loaded successfully.\n"
     ]
    }
   ],
   "source": [
    "predator = load_predator(PREDATOR_MODEL_PATH)"
   ]
  },
  {
   "cell_type": "markdown",
   "id": "60f783e4-28bb-4543-9d35-42c4b17b37b8",
   "metadata": {},
   "source": [
    "## Prediction TCGA on Cancer Dataset: BRCA"
   ]
  },
  {
   "cell_type": "code",
   "execution_count": 3,
   "id": "c27cc976-e356-4271-85e9-f23c9366dc67",
   "metadata": {},
   "outputs": [
    {
     "name": "stdout",
     "output_type": "stream",
     "text": [
      "2021-11-11 20:26:02 |\u001b[36m DEBUG    \u001b[0m| helpers.helpers_predator.data_materials | Initialize `brca` ..\n",
      "2021-11-11 20:26:02 |\u001b[36m DEBUG    \u001b[0m| helpers.helpers_predator.data_materials | Initialize `target_brca_data` ..\n",
      "2021-11-11 20:26:02 |\u001b[36m DEBUG    \u001b[0m| helpers.helpers_predator.data_materials | Initializing target data materials ..\n",
      "2021-11-11 20:26:02 |\u001b[36m DEBUG    \u001b[0m| helpers.helpers_predator.data_materials | Determined features: ['Provean_score', 'EL2_score', 'Final_ddG', 'Interactor_alignment_score', 'Solvent_accessibility_wt', 'Matrix_score', 'Solvent_accessibility_mut', 'van_der_waals_mut', 'Interactor_template_sequence_identity', 'solvation_polar_wt']\n",
      "2021-11-11 20:26:02 |\u001b[36m DEBUG    \u001b[0m| helpers.helpers_predator.data_materials | Declaring Xs_brca data materials  ..\n"
     ]
    }
   ],
   "source": [
    "predator.initialize_target_data_materials(\n",
    "    tcga_code_path_pairs=[('brca', BRCA_PATH)]\n",
    ")"
   ]
  },
  {
   "cell_type": "markdown",
   "id": "245b2b8c-0c70-4cd5-9a09-b3428cf0b048",
   "metadata": {
    "tags": []
   },
   "source": [
    "#### TCGA Cancer Datasets"
   ]
  },
  {
   "cell_type": "markdown",
   "id": "4ab061ec-37b5-4651-a5c0-1f1238e7a08a",
   "metadata": {},
   "source": [
    "##### BRCA"
   ]
  },
  {
   "cell_type": "code",
   "execution_count": 4,
   "id": "342221d3-8e16-42eb-9801-20a3efed64f5",
   "metadata": {},
   "outputs": [
    {
     "name": "stdout",
     "output_type": "stream",
     "text": [
      "\u001b[36mData dimensions: (7467, 103)\u001b[0m\n"
     ]
    },
    {
     "data": {
      "text/html": [
       "<div>\n",
       "<style scoped>\n",
       "    .dataframe tbody tr th:only-of-type {\n",
       "        vertical-align: middle;\n",
       "    }\n",
       "\n",
       "    .dataframe tbody tr th {\n",
       "        vertical-align: top;\n",
       "    }\n",
       "\n",
       "    .dataframe thead th {\n",
       "        text-align: right;\n",
       "    }\n",
       "</style>\n",
       "<table border=\"1\" class=\"dataframe\">\n",
       "  <thead>\n",
       "    <tr style=\"text-align: right;\">\n",
       "      <th></th>\n",
       "      <th>Input_identifier</th>\n",
       "      <th>UniProt_ID</th>\n",
       "      <th>Mutation</th>\n",
       "      <th>Status</th>\n",
       "      <th>Type</th>\n",
       "      <th>COSMIC_mut_ID</th>\n",
       "      <th>ClinVar_mut_ID</th>\n",
       "      <th>UniProt_mut_ID</th>\n",
       "      <th>Domain_name</th>\n",
       "      <th>Domain_clan</th>\n",
       "      <th>...</th>\n",
       "      <th>number_of_residues_mut</th>\n",
       "      <th>IntraclashesEnergy1_wt</th>\n",
       "      <th>IntraclashesEnergy1_mut</th>\n",
       "      <th>IntraclashesEnergy2_wt</th>\n",
       "      <th>IntraclashesEnergy2_mut</th>\n",
       "      <th>Interface_hydrophobic_area</th>\n",
       "      <th>Interface_hydrophilic_area</th>\n",
       "      <th>Interface_total_area</th>\n",
       "      <th>Interface_contact_distance_wt</th>\n",
       "      <th>Interface_contact_distance_mut</th>\n",
       "    </tr>\n",
       "  </thead>\n",
       "  <tbody>\n",
       "    <tr>\n",
       "      <th>0</th>\n",
       "      <td>P28062</td>\n",
       "      <td>P28062</td>\n",
       "      <td>R216W</td>\n",
       "      <td>done</td>\n",
       "      <td>interface</td>\n",
       "      <td>COSM451277</td>\n",
       "      <td>-</td>\n",
       "      <td>-</td>\n",
       "      <td>Proteasome</td>\n",
       "      <td>Proteasome</td>\n",
       "      <td>...</td>\n",
       "      <td>417.0</td>\n",
       "      <td>156.750</td>\n",
       "      <td>156.868</td>\n",
       "      <td>49.1868</td>\n",
       "      <td>49.1868</td>\n",
       "      <td>566.065</td>\n",
       "      <td>367.205</td>\n",
       "      <td>933.27</td>\n",
       "      <td>5.37939</td>\n",
       "      <td>3.28969</td>\n",
       "    </tr>\n",
       "    <tr>\n",
       "      <th>1</th>\n",
       "      <td>Q15842</td>\n",
       "      <td>Q15842</td>\n",
       "      <td>E237K</td>\n",
       "      <td>done</td>\n",
       "      <td>interface</td>\n",
       "      <td>COSM430893</td>\n",
       "      <td>-</td>\n",
       "      <td>-</td>\n",
       "      <td>IRK</td>\n",
       "      <td>IRK</td>\n",
       "      <td>...</td>\n",
       "      <td>684.0</td>\n",
       "      <td>131.720</td>\n",
       "      <td>131.479</td>\n",
       "      <td>129.5260</td>\n",
       "      <td>129.5260</td>\n",
       "      <td>None</td>\n",
       "      <td>None</td>\n",
       "      <td>None</td>\n",
       "      <td>2.48410</td>\n",
       "      <td>2.92169</td>\n",
       "    </tr>\n",
       "    <tr>\n",
       "      <th>2</th>\n",
       "      <td>Q15842</td>\n",
       "      <td>Q15842</td>\n",
       "      <td>E237K</td>\n",
       "      <td>done</td>\n",
       "      <td>interface</td>\n",
       "      <td>COSM430893</td>\n",
       "      <td>-</td>\n",
       "      <td>-</td>\n",
       "      <td>IRK</td>\n",
       "      <td>IRK</td>\n",
       "      <td>...</td>\n",
       "      <td>678.0</td>\n",
       "      <td>142.706</td>\n",
       "      <td>142.107</td>\n",
       "      <td>99.1151</td>\n",
       "      <td>99.1190</td>\n",
       "      <td>None</td>\n",
       "      <td>624.35</td>\n",
       "      <td>None</td>\n",
       "      <td>2.70474</td>\n",
       "      <td>3.18529</td>\n",
       "    </tr>\n",
       "  </tbody>\n",
       "</table>\n",
       "<p>3 rows × 103 columns</p>\n",
       "</div>"
      ],
      "text/plain": [
       "  Input_identifier UniProt_ID Mutation Status       Type COSMIC_mut_ID  \\\n",
       "0           P28062     P28062    R216W   done  interface    COSM451277   \n",
       "1           Q15842     Q15842    E237K   done  interface    COSM430893   \n",
       "2           Q15842     Q15842    E237K   done  interface    COSM430893   \n",
       "\n",
       "  ClinVar_mut_ID UniProt_mut_ID Domain_name Domain_clan  ...  \\\n",
       "0              -              -  Proteasome  Proteasome  ...   \n",
       "1              -              -         IRK         IRK  ...   \n",
       "2              -              -         IRK         IRK  ...   \n",
       "\n",
       "  number_of_residues_mut IntraclashesEnergy1_wt  IntraclashesEnergy1_mut  \\\n",
       "0                  417.0                156.750                  156.868   \n",
       "1                  684.0                131.720                  131.479   \n",
       "2                  678.0                142.706                  142.107   \n",
       "\n",
       "   IntraclashesEnergy2_wt IntraclashesEnergy2_mut Interface_hydrophobic_area  \\\n",
       "0                 49.1868                 49.1868                    566.065   \n",
       "1                129.5260                129.5260                       None   \n",
       "2                 99.1151                 99.1190                       None   \n",
       "\n",
       "  Interface_hydrophilic_area Interface_total_area  \\\n",
       "0                    367.205               933.27   \n",
       "1                       None                 None   \n",
       "2                     624.35                 None   \n",
       "\n",
       "  Interface_contact_distance_wt  Interface_contact_distance_mut  \n",
       "0                       5.37939                         3.28969  \n",
       "1                       2.48410                         2.92169  \n",
       "2                       2.70474                         3.18529  \n",
       "\n",
       "[3 rows x 103 columns]"
      ]
     },
     "metadata": {},
     "output_type": "display_data"
    }
   ],
   "source": [
    "display_data(predator.data_materials[\"brca\"])"
   ]
  },
  {
   "cell_type": "markdown",
   "id": "a22d630d-e0a0-4417-aa64-0df18f8f3a63",
   "metadata": {
    "tags": []
   },
   "source": [
    "#### Preprocessed TCGA Cancer Datasets"
   ]
  },
  {
   "cell_type": "markdown",
   "id": "ca038a01-2691-4943-9d7e-55a41661f3cc",
   "metadata": {},
   "source": [
    "##### BRCA"
   ]
  },
  {
   "cell_type": "code",
   "execution_count": 5,
   "id": "67f55bd2-c25a-4d6c-ba5b-08957cf03852",
   "metadata": {},
   "outputs": [
    {
     "name": "stdout",
     "output_type": "stream",
     "text": [
      "\u001b[36mData dimensions: (7467, 61)\u001b[0m\n"
     ]
    },
    {
     "data": {
      "text/html": [
       "<div>\n",
       "<style scoped>\n",
       "    .dataframe tbody tr th:only-of-type {\n",
       "        vertical-align: middle;\n",
       "    }\n",
       "\n",
       "    .dataframe tbody tr th {\n",
       "        vertical-align: top;\n",
       "    }\n",
       "\n",
       "    .dataframe thead th {\n",
       "        text-align: right;\n",
       "    }\n",
       "</style>\n",
       "<table border=\"1\" class=\"dataframe\">\n",
       "  <thead>\n",
       "    <tr style=\"text-align: right;\">\n",
       "      <th></th>\n",
       "      <th>UniProt_ID</th>\n",
       "      <th>Mutation</th>\n",
       "      <th>Interactor_UniProt_ID</th>\n",
       "      <th>Template_sequence_identity</th>\n",
       "      <th>Alignment_score</th>\n",
       "      <th>Interactor_template_sequence_identity</th>\n",
       "      <th>Interactor_alignment_score</th>\n",
       "      <th>Final_ddG</th>\n",
       "      <th>ProtBert_score</th>\n",
       "      <th>ProteinSolver_score</th>\n",
       "      <th>...</th>\n",
       "      <th>number_of_residues_mut</th>\n",
       "      <th>IntraclashesEnergy1_wt</th>\n",
       "      <th>IntraclashesEnergy1_mut</th>\n",
       "      <th>IntraclashesEnergy2_wt</th>\n",
       "      <th>IntraclashesEnergy2_mut</th>\n",
       "      <th>Interface_hydrophobic_area</th>\n",
       "      <th>Interface_hydrophilic_area</th>\n",
       "      <th>Interface_total_area</th>\n",
       "      <th>Interface_contact_distance_wt</th>\n",
       "      <th>Interface_contact_distance_mut</th>\n",
       "    </tr>\n",
       "  </thead>\n",
       "  <tbody>\n",
       "    <tr>\n",
       "      <th>0</th>\n",
       "      <td>P28062</td>\n",
       "      <td>R216W</td>\n",
       "      <td>P40306</td>\n",
       "      <td>0.2406</td>\n",
       "      <td>0.246427</td>\n",
       "      <td>0.8858</td>\n",
       "      <td>0.823800</td>\n",
       "      <td>0.789252</td>\n",
       "      <td>0.441485</td>\n",
       "      <td>0.077736</td>\n",
       "      <td>...</td>\n",
       "      <td>417.0</td>\n",
       "      <td>156.750</td>\n",
       "      <td>156.868</td>\n",
       "      <td>49.1868</td>\n",
       "      <td>49.1868</td>\n",
       "      <td>566.065</td>\n",
       "      <td>367.205</td>\n",
       "      <td>933.27</td>\n",
       "      <td>5.37939</td>\n",
       "      <td>3.28969</td>\n",
       "    </tr>\n",
       "    <tr>\n",
       "      <th>1</th>\n",
       "      <td>Q15842</td>\n",
       "      <td>E237K</td>\n",
       "      <td>Q14654</td>\n",
       "      <td>0.4663</td>\n",
       "      <td>0.441520</td>\n",
       "      <td>0.4623</td>\n",
       "      <td>0.472829</td>\n",
       "      <td>2.112660</td>\n",
       "      <td>0.986541</td>\n",
       "      <td>0.235649</td>\n",
       "      <td>...</td>\n",
       "      <td>684.0</td>\n",
       "      <td>131.720</td>\n",
       "      <td>131.479</td>\n",
       "      <td>129.5260</td>\n",
       "      <td>129.5260</td>\n",
       "      <td>0.000</td>\n",
       "      <td>0.000</td>\n",
       "      <td>0.00</td>\n",
       "      <td>2.48410</td>\n",
       "      <td>2.92169</td>\n",
       "    </tr>\n",
       "    <tr>\n",
       "      <th>2</th>\n",
       "      <td>Q15842</td>\n",
       "      <td>E237K</td>\n",
       "      <td>P63252</td>\n",
       "      <td>0.4663</td>\n",
       "      <td>0.441520</td>\n",
       "      <td>0.5380</td>\n",
       "      <td>0.535672</td>\n",
       "      <td>2.342750</td>\n",
       "      <td>0.990924</td>\n",
       "      <td>0.130527</td>\n",
       "      <td>...</td>\n",
       "      <td>678.0</td>\n",
       "      <td>142.706</td>\n",
       "      <td>142.107</td>\n",
       "      <td>99.1151</td>\n",
       "      <td>99.1190</td>\n",
       "      <td>0.000</td>\n",
       "      <td>624.350</td>\n",
       "      <td>0.00</td>\n",
       "      <td>2.70474</td>\n",
       "      <td>3.18529</td>\n",
       "    </tr>\n",
       "  </tbody>\n",
       "</table>\n",
       "<p>3 rows × 61 columns</p>\n",
       "</div>"
      ],
      "text/plain": [
       "  UniProt_ID Mutation Interactor_UniProt_ID  Template_sequence_identity  \\\n",
       "0     P28062    R216W                P40306                      0.2406   \n",
       "1     Q15842    E237K                Q14654                      0.4663   \n",
       "2     Q15842    E237K                P63252                      0.4663   \n",
       "\n",
       "   Alignment_score  Interactor_template_sequence_identity  \\\n",
       "0         0.246427                                 0.8858   \n",
       "1         0.441520                                 0.4623   \n",
       "2         0.441520                                 0.5380   \n",
       "\n",
       "   Interactor_alignment_score  Final_ddG  ProtBert_score  ProteinSolver_score  \\\n",
       "0                    0.823800   0.789252        0.441485             0.077736   \n",
       "1                    0.472829   2.112660        0.986541             0.235649   \n",
       "2                    0.535672   2.342750        0.990924             0.130527   \n",
       "\n",
       "   ...  number_of_residues_mut  IntraclashesEnergy1_wt  \\\n",
       "0  ...                   417.0                 156.750   \n",
       "1  ...                   684.0                 131.720   \n",
       "2  ...                   678.0                 142.706   \n",
       "\n",
       "   IntraclashesEnergy1_mut  IntraclashesEnergy2_wt  IntraclashesEnergy2_mut  \\\n",
       "0                  156.868                 49.1868                  49.1868   \n",
       "1                  131.479                129.5260                 129.5260   \n",
       "2                  142.107                 99.1151                  99.1190   \n",
       "\n",
       "   Interface_hydrophobic_area  Interface_hydrophilic_area  \\\n",
       "0                     566.065                     367.205   \n",
       "1                       0.000                       0.000   \n",
       "2                       0.000                     624.350   \n",
       "\n",
       "   Interface_total_area  Interface_contact_distance_wt  \\\n",
       "0                933.27                        5.37939   \n",
       "1                  0.00                        2.48410   \n",
       "2                  0.00                        2.70474   \n",
       "\n",
       "   Interface_contact_distance_mut  \n",
       "0                         3.28969  \n",
       "1                         2.92169  \n",
       "2                         3.18529  \n",
       "\n",
       "[3 rows x 61 columns]"
      ]
     },
     "metadata": {},
     "output_type": "display_data"
    }
   ],
   "source": [
    "display_data(predator.data_materials[\"target_brca_data\"])"
   ]
  },
  {
   "cell_type": "markdown",
   "id": "6cd1cc76-b56f-4789-b3b9-bf907fe7399e",
   "metadata": {
    "tags": []
   },
   "source": [
    "### Voting mode: `soft`"
   ]
  },
  {
   "cell_type": "code",
   "execution_count": 6,
   "id": "44e95ef5-2482-4d0d-93fa-305004853f7c",
   "metadata": {},
   "outputs": [
    {
     "name": "stdout",
     "output_type": "stream",
     "text": [
      "2021-11-11 20:26:02 |\u001b[36m DEBUG    \u001b[0m| helpers.helpers_predator.data_materials | Initialize `brca` ..\n",
      "2021-11-11 20:26:02 |\u001b[36m DEBUG    \u001b[0m| helpers.helpers_predator.data_materials | Initialize `target_brca_data` ..\n",
      "2021-11-11 20:26:03 |\u001b[36m DEBUG    \u001b[0m| helpers.helpers_predator.data_materials | Initializing target data materials ..\n",
      "2021-11-11 20:26:03 |\u001b[36m DEBUG    \u001b[0m| helpers.helpers_predator.data_materials | Determined features: ['Provean_score', 'EL2_score', 'Final_ddG', 'Interactor_alignment_score', 'Solvent_accessibility_wt', 'Matrix_score', 'Solvent_accessibility_mut', 'van_der_waals_mut', 'Interactor_template_sequence_identity', 'solvation_polar_wt']\n",
      "2021-11-11 20:26:03 |\u001b[36m DEBUG    \u001b[0m| helpers.helpers_predator.data_materials | Declaring Xs_brca data materials  ..\n"
     ]
    }
   ],
   "source": [
    "predator.initialize_target_data_materials(\n",
    "    tcga_code_path_pairs=[('brca', BRCA_PATH)]\n",
    ")"
   ]
  },
  {
   "cell_type": "code",
   "execution_count": 7,
   "id": "323fbd63-7e32-471f-8cee-4b0abf9d82dc",
   "metadata": {
    "scrolled": true,
    "tags": []
   },
   "outputs": [
    {
     "name": "stdout",
     "output_type": "stream",
     "text": [
      "2021-11-11 20:26:03 |\u001b[36m DEBUG    \u001b[0m| Predator | Predicting on cancer datasets ..\n",
      "2021-11-11 20:26:03 |\u001b[36m DEBUG    \u001b[0m| helpers.helpers_predator.models | Initializing EnsambledVotingClassifier.\n",
      "2021-11-11 20:26:03 |\u001b[36m DEBUG    \u001b[0m| helpers.helpers_predator.models | Voting mode: soft\n",
      "2021-11-11 20:26:03 |\u001b[36m DEBUG    \u001b[0m| helpers.helpers_predator.predictions | Initializing: PredictionsSoft\n",
      "2021-11-11 20:26:03 |\u001b[36m DEBUG    \u001b[0m| Predator | Predicting on brca cohort ..\n",
      "2021-11-11 20:26:03 |\u001b[36m DEBUG    \u001b[0m| helpers.helpers_predator.models | Current estimator: RandomForestClassifier(bootstrap=False, class_weight='balanced', max_depth=4,\n",
      "                       max_features='sqrt', n_estimators=600,\n",
      "                       random_state=14593)\n",
      "2021-11-11 20:26:03 |\u001b[36m DEBUG    \u001b[0m| helpers.helpers_predator.models | X shape: (7467, 10)\n",
      "2021-11-11 20:26:03 |\u001b[36m DEBUG    \u001b[0m| helpers.helpers_predator.models | Current estimator: RandomForestClassifier(bootstrap=False, max_depth=8, max_features=None,\n",
      "                       min_samples_leaf=2, n_estimators=480, random_state=3279)\n",
      "2021-11-11 20:26:03 |\u001b[36m DEBUG    \u001b[0m| helpers.helpers_predator.models | X shape: (7467, 10)\n",
      "2021-11-11 20:26:03 |\u001b[36m DEBUG    \u001b[0m| helpers.helpers_predator.models | Current estimator: RandomForestClassifier(class_weight='balanced', max_depth=11,\n",
      "                       min_samples_split=5, n_estimators=120,\n",
      "                       random_state=36049)\n",
      "2021-11-11 20:26:03 |\u001b[36m DEBUG    \u001b[0m| helpers.helpers_predator.models | X shape: (7467, 10)\n",
      "2021-11-11 20:26:04 |\u001b[36m DEBUG    \u001b[0m| helpers.helpers_predator.models | Current estimator: RandomForestClassifier(class_weight='balanced', max_depth=3,\n",
      "                       max_features='sqrt', min_samples_leaf=4, n_estimators=40,\n",
      "                       random_state=18290)\n",
      "2021-11-11 20:26:04 |\u001b[36m DEBUG    \u001b[0m| helpers.helpers_predator.models | X shape: (7467, 10)\n",
      "2021-11-11 20:26:04 |\u001b[36m DEBUG    \u001b[0m| helpers.helpers_predator.models | Current estimator: RandomForestClassifier(bootstrap=False, max_depth=11, max_features='sqrt',\n",
      "                       min_samples_split=5, n_estimators=460,\n",
      "                       random_state=96531)\n",
      "2021-11-11 20:26:04 |\u001b[36m DEBUG    \u001b[0m| helpers.helpers_predator.models | X shape: (7467, 10)\n",
      "2021-11-11 20:26:04 |\u001b[36m DEBUG    \u001b[0m| helpers.helpers_predator.models | Current estimator: RandomForestClassifier(class_weight='balanced', max_depth=12,\n",
      "                       min_samples_leaf=4, min_samples_split=5, n_estimators=80,\n",
      "                       random_state=13435)\n",
      "2021-11-11 20:26:04 |\u001b[36m DEBUG    \u001b[0m| helpers.helpers_predator.models | X shape: (7467, 10)\n",
      "2021-11-11 20:26:04 |\u001b[36m DEBUG    \u001b[0m| helpers.helpers_predator.models | Current estimator: RandomForestClassifier(class_weight='balanced', max_depth=2,\n",
      "                       min_samples_split=5, n_estimators=500,\n",
      "                       random_state=88697)\n",
      "2021-11-11 20:26:04 |\u001b[36m DEBUG    \u001b[0m| helpers.helpers_predator.models | X shape: (7467, 10)\n",
      "2021-11-11 20:26:04 |\u001b[36m DEBUG    \u001b[0m| helpers.helpers_predator.models | Current estimator: RandomForestClassifier(bootstrap=False, class_weight='balanced', max_depth=7,\n",
      "                       max_features='sqrt', min_samples_leaf=2,\n",
      "                       min_samples_split=5, n_estimators=280,\n",
      "                       random_state=97081)\n",
      "2021-11-11 20:26:04 |\u001b[36m DEBUG    \u001b[0m| helpers.helpers_predator.models | X shape: (7467, 10)\n",
      "2021-11-11 20:26:04 |\u001b[36m DEBUG    \u001b[0m| helpers.helpers_predator.models | Current estimator: RandomForestClassifier(bootstrap=False, max_depth=3, max_features='sqrt',\n",
      "                       min_samples_leaf=2, n_estimators=60, random_state=71483)\n",
      "2021-11-11 20:26:04 |\u001b[36m DEBUG    \u001b[0m| helpers.helpers_predator.models | X shape: (7467, 10)\n",
      "2021-11-11 20:26:04 |\u001b[36m DEBUG    \u001b[0m| helpers.helpers_predator.models | Current estimator: RandomForestClassifier(class_weight='balanced', max_depth=2,\n",
      "                       max_features='sqrt', min_samples_leaf=4,\n",
      "                       n_estimators=440, random_state=11396)\n",
      "2021-11-11 20:26:04 |\u001b[36m DEBUG    \u001b[0m| helpers.helpers_predator.models | X shape: (7467, 10)\n",
      "2021-11-11 20:26:05 |\u001b[36m DEBUG    \u001b[0m| helpers.helpers_predator.models | Current estimator: RandomForestClassifier(bootstrap=False, max_depth=6, min_samples_leaf=2,\n",
      "                       min_samples_split=5, n_estimators=80,\n",
      "                       random_state=77398)\n",
      "2021-11-11 20:26:05 |\u001b[36m DEBUG    \u001b[0m| helpers.helpers_predator.models | X shape: (7467, 10)\n",
      "2021-11-11 20:26:05 |\u001b[36m DEBUG    \u001b[0m| helpers.helpers_predator.models | Current estimator: RandomForestClassifier(max_depth=8, max_features='sqrt', min_samples_split=5,\n",
      "                       n_estimators=20, random_state=55303)\n",
      "2021-11-11 20:26:05 |\u001b[36m DEBUG    \u001b[0m| helpers.helpers_predator.models | X shape: (7467, 10)\n",
      "2021-11-11 20:26:05 |\u001b[36m DEBUG    \u001b[0m| helpers.helpers_predator.models | Current estimator: RandomForestClassifier(class_weight='balanced', max_depth=4,\n",
      "                       min_samples_split=5, random_state=4166)\n",
      "2021-11-11 20:26:05 |\u001b[36m DEBUG    \u001b[0m| helpers.helpers_predator.models | X shape: (7467, 10)\n",
      "2021-11-11 20:26:05 |\u001b[36m DEBUG    \u001b[0m| helpers.helpers_predator.models | Current estimator: RandomForestClassifier(bootstrap=False, max_depth=13, max_features='sqrt',\n",
      "                       min_samples_split=5, n_estimators=380,\n",
      "                       random_state=12281)\n",
      "2021-11-11 20:26:05 |\u001b[36m DEBUG    \u001b[0m| helpers.helpers_predator.models | X shape: (7467, 10)\n",
      "2021-11-11 20:26:05 |\u001b[36m DEBUG    \u001b[0m| helpers.helpers_predator.models | Current estimator: RandomForestClassifier(bootstrap=False, class_weight='balanced', max_depth=4,\n",
      "                       max_features='sqrt', n_estimators=10,\n",
      "                       random_state=28658)\n",
      "2021-11-11 20:26:05 |\u001b[36m DEBUG    \u001b[0m| helpers.helpers_predator.models | X shape: (7467, 10)\n",
      "2021-11-11 20:26:05 |\u001b[36m DEBUG    \u001b[0m| helpers.helpers_predator.models | Current estimator: RandomForestClassifier(class_weight='balanced', max_depth=3, min_samples_leaf=2,\n",
      "                       n_estimators=30, random_state=30496)\n",
      "2021-11-11 20:26:05 |\u001b[36m DEBUG    \u001b[0m| helpers.helpers_predator.models | X shape: (7467, 10)\n",
      "2021-11-11 20:26:05 |\u001b[36m DEBUG    \u001b[0m| helpers.helpers_predator.models | Current estimator: RandomForestClassifier(class_weight='balanced', max_depth=11,\n",
      "                       min_samples_leaf=4, n_estimators=120,\n",
      "                       random_state=66238)\n",
      "2021-11-11 20:26:05 |\u001b[36m DEBUG    \u001b[0m| helpers.helpers_predator.models | X shape: (7467, 10)\n",
      "2021-11-11 20:26:05 |\u001b[36m DEBUG    \u001b[0m| helpers.helpers_predator.models | Current estimator: RandomForestClassifier(class_weight='balanced', max_depth=2,\n",
      "                       max_features='sqrt', n_estimators=340,\n",
      "                       random_state=3479)\n",
      "2021-11-11 20:26:05 |\u001b[36m DEBUG    \u001b[0m| helpers.helpers_predator.models | X shape: (7467, 10)\n",
      "2021-11-11 20:26:05 |\u001b[36m DEBUG    \u001b[0m| helpers.helpers_predator.models | Current estimator: RandomForestClassifier(class_weight='balanced', max_depth=3,\n",
      "                       max_features='sqrt', min_samples_leaf=4,\n",
      "                       n_estimators=480, random_state=26063)\n",
      "2021-11-11 20:26:05 |\u001b[36m DEBUG    \u001b[0m| helpers.helpers_predator.models | X shape: (7467, 10)\n",
      "2021-11-11 20:26:06 |\u001b[36m DEBUG    \u001b[0m| helpers.helpers_predator.models | Current estimator: RandomForestClassifier(class_weight='balanced', max_depth=3, min_samples_leaf=2,\n",
      "                       n_estimators=560, random_state=85182)\n",
      "2021-11-11 20:26:06 |\u001b[36m DEBUG    \u001b[0m| helpers.helpers_predator.models | X shape: (7467, 10)\n",
      "2021-11-11 20:26:06 |\u001b[36m DEBUG    \u001b[0m| helpers.helpers_predator.models | Current estimator: RandomForestClassifier(class_weight='balanced', max_depth=13,\n",
      "                       min_samples_leaf=4, min_samples_split=5, n_estimators=40,\n",
      "                       random_state=91925)\n",
      "2021-11-11 20:26:06 |\u001b[36m DEBUG    \u001b[0m| helpers.helpers_predator.models | X shape: (7467, 10)\n",
      "2021-11-11 20:26:06 |\u001b[36m DEBUG    \u001b[0m| helpers.helpers_predator.models | Current estimator: RandomForestClassifier(class_weight='balanced', max_depth=2, min_samples_leaf=4,\n",
      "                       min_samples_split=5, n_estimators=280,\n",
      "                       random_state=54988)\n",
      "2021-11-11 20:26:06 |\u001b[36m DEBUG    \u001b[0m| helpers.helpers_predator.models | X shape: (7467, 10)\n",
      "2021-11-11 20:26:06 |\u001b[36m DEBUG    \u001b[0m| helpers.helpers_predator.models | Current estimator: RandomForestClassifier(class_weight='balanced', max_depth=11,\n",
      "                       max_features='sqrt', min_samples_leaf=2,\n",
      "                       min_samples_split=5, n_estimators=360,\n",
      "                       random_state=58879)\n",
      "2021-11-11 20:26:06 |\u001b[36m DEBUG    \u001b[0m| helpers.helpers_predator.models | X shape: (7467, 10)\n",
      "2021-11-11 20:26:06 |\u001b[36m DEBUG    \u001b[0m| helpers.helpers_predator.models | Current estimator: RandomForestClassifier(max_depth=7, n_estimators=20, random_state=77237)\n",
      "2021-11-11 20:26:06 |\u001b[36m DEBUG    \u001b[0m| helpers.helpers_predator.models | X shape: (7467, 10)\n",
      "2021-11-11 20:26:06 |\u001b[36m DEBUG    \u001b[0m| helpers.helpers_predator.models | Current estimator: RandomForestClassifier(bootstrap=False, max_depth=14, min_samples_leaf=4,\n",
      "                       min_samples_split=5, n_estimators=20, random_state=852)\n",
      "2021-11-11 20:26:06 |\u001b[36m DEBUG    \u001b[0m| helpers.helpers_predator.models | X shape: (7467, 10)\n",
      "2021-11-11 20:26:07 |\u001b[36m DEBUG    \u001b[0m| helpers.helpers_predator.models | Current estimator: RandomForestClassifier(class_weight='balanced', max_depth=8,\n",
      "                       max_features='sqrt', min_samples_leaf=4,\n",
      "                       min_samples_split=5, n_estimators=520,\n",
      "                       random_state=99459)\n",
      "2021-11-11 20:26:07 |\u001b[36m DEBUG    \u001b[0m| helpers.helpers_predator.models | X shape: (7467, 10)\n",
      "2021-11-11 20:26:07 |\u001b[36m DEBUG    \u001b[0m| helpers.helpers_predator.models | Current estimator: RandomForestClassifier(class_weight='balanced', max_depth=6, min_samples_leaf=4,\n",
      "                       min_samples_split=5, n_estimators=260,\n",
      "                       random_state=20927)\n",
      "2021-11-11 20:26:07 |\u001b[36m DEBUG    \u001b[0m| helpers.helpers_predator.models | X shape: (7467, 10)\n",
      "2021-11-11 20:26:07 |\u001b[36m DEBUG    \u001b[0m| helpers.helpers_predator.models | Current estimator: RandomForestClassifier(max_depth=9, min_samples_leaf=4, n_estimators=580,\n",
      "                       random_state=55393)\n",
      "2021-11-11 20:26:07 |\u001b[36m DEBUG    \u001b[0m| helpers.helpers_predator.models | X shape: (7467, 10)\n",
      "2021-11-11 20:26:07 |\u001b[36m DEBUG    \u001b[0m| helpers.helpers_predator.models | Current estimator: RandomForestClassifier(bootstrap=False, class_weight='balanced', max_depth=7,\n",
      "                       min_samples_split=5, n_estimators=140,\n",
      "                       random_state=36422)\n",
      "2021-11-11 20:26:07 |\u001b[36m DEBUG    \u001b[0m| helpers.helpers_predator.models | X shape: (7467, 10)\n",
      "2021-11-11 20:26:07 |\u001b[36m DEBUG    \u001b[0m| helpers.helpers_predator.models | Current estimator: RandomForestClassifier(bootstrap=False, max_depth=11, n_estimators=540,\n",
      "                       random_state=20380)\n",
      "2021-11-11 20:26:07 |\u001b[36m DEBUG    \u001b[0m| helpers.helpers_predator.models | X shape: (7467, 10)\n",
      "2021-11-11 20:26:08 |\u001b[36m DEBUG    \u001b[0m| helpers.helpers_predator.models | Current estimator: RandomForestClassifier(class_weight='balanced', max_depth=8, min_samples_leaf=2,\n",
      "                       n_estimators=5, random_state=28222)\n",
      "2021-11-11 20:26:08 |\u001b[36m DEBUG    \u001b[0m| helpers.helpers_predator.models | X shape: (7467, 10)\n",
      "2021-11-11 20:26:08 |\u001b[36m DEBUG    \u001b[0m| helpers.helpers_predator.models | Current estimator: RandomForestClassifier(class_weight='balanced', max_depth=6,\n",
      "                       min_samples_split=5, n_estimators=560,\n",
      "                       random_state=44119)\n",
      "2021-11-11 20:26:08 |\u001b[36m DEBUG    \u001b[0m| helpers.helpers_predator.models | X shape: (7467, 10)\n",
      "2021-11-11 20:26:08 |\u001b[36m DEBUG    \u001b[0m| helpers.helpers_predator.models | Current estimator: RandomForestClassifier(class_weight='balanced', max_depth=10,\n",
      "                       max_features='sqrt', min_samples_leaf=4,\n",
      "                       n_estimators=320, random_state=13397)\n",
      "2021-11-11 20:26:08 |\u001b[36m DEBUG    \u001b[0m| helpers.helpers_predator.models | X shape: (7467, 10)\n",
      "2021-11-11 20:26:08 |\u001b[36m DEBUG    \u001b[0m| helpers.helpers_predator.models | Current estimator: RandomForestClassifier(class_weight='balanced', max_depth=3,\n",
      "                       max_features='sqrt', min_samples_split=5,\n",
      "                       n_estimators=120, random_state=12157)\n",
      "2021-11-11 20:26:08 |\u001b[36m DEBUG    \u001b[0m| helpers.helpers_predator.models | X shape: (7467, 10)\n",
      "2021-11-11 20:26:08 |\u001b[36m DEBUG    \u001b[0m| helpers.helpers_predator.models | Current estimator: RandomForestClassifier(bootstrap=False, class_weight='balanced', max_depth=2,\n",
      "                       min_samples_split=5, n_estimators=360,\n",
      "                       random_state=49798)\n",
      "2021-11-11 20:26:08 |\u001b[36m DEBUG    \u001b[0m| helpers.helpers_predator.models | X shape: (7467, 10)\n",
      "2021-11-11 20:26:09 |\u001b[36m DEBUG    \u001b[0m| helpers.helpers_predator.models | Current estimator: RandomForestClassifier(bootstrap=False, class_weight='balanced', max_depth=2,\n",
      "                       min_samples_leaf=2, min_samples_split=5, n_estimators=40,\n",
      "                       random_state=12677)\n",
      "2021-11-11 20:26:09 |\u001b[36m DEBUG    \u001b[0m| helpers.helpers_predator.models | X shape: (7467, 10)\n",
      "2021-11-11 20:26:09 |\u001b[36m DEBUG    \u001b[0m| helpers.helpers_predator.models | Current estimator: RandomForestClassifier(bootstrap=False, class_weight='balanced', max_depth=5,\n",
      "                       min_samples_leaf=4, min_samples_split=5,\n",
      "                       n_estimators=120, random_state=47053)\n",
      "2021-11-11 20:26:09 |\u001b[36m DEBUG    \u001b[0m| helpers.helpers_predator.models | X shape: (7467, 10)\n",
      "2021-11-11 20:26:09 |\u001b[36m DEBUG    \u001b[0m| helpers.helpers_predator.predictions | PredictionsSoft\n",
      "2021-11-11 20:26:09 |\u001b[36m DEBUG    \u001b[0m| helpers.helpers_predator.predictions | Predicting probabilities on brca cohort ..\n",
      "2021-11-11 20:26:09 |\u001b[36m DEBUG    \u001b[0m| helpers.helpers_predator.predictions | Adding key `brca_prob` to self.predictions\n"
     ]
    }
   ],
   "source": [
    "predator.predict(voting='soft')"
   ]
  },
  {
   "cell_type": "code",
   "execution_count": 8,
   "id": "341a1a27-928b-47ae-9d45-69ec13771b81",
   "metadata": {},
   "outputs": [
    {
     "data": {
      "text/plain": [
       "dict_keys(['brca_prob'])"
      ]
     },
     "execution_count": 8,
     "metadata": {},
     "output_type": "execute_result"
    }
   ],
   "source": [
    "predator.predictions.keys()"
   ]
  },
  {
   "cell_type": "code",
   "execution_count": 9,
   "id": "d7054f49-ad45-408f-88b4-0e608fc81e81",
   "metadata": {},
   "outputs": [
    {
     "data": {
      "text/plain": [
       "[array([[0.31207333, 0.68792667],\n",
       "        [0.51557159, 0.48442841],\n",
       "        [0.52629418, 0.47370582],\n",
       "        ...,\n",
       "        [0.68223966, 0.31776034],\n",
       "        [0.46583942, 0.53416058],\n",
       "        [0.41515479, 0.58484521]]),\n",
       " array([[1.    , 0.    ],\n",
       "        [0.5   , 0.5   ],\n",
       "        [0.5   , 0.5   ],\n",
       "        ...,\n",
       "        [0.    , 1.    ],\n",
       "        [0.5   , 0.5   ],\n",
       "        [0.3375, 0.6625]]),\n",
       " array([[0.25538061, 0.74461939],\n",
       "        [0.56166173, 0.43833827],\n",
       "        [0.62112679, 0.37887321],\n",
       "        ...,\n",
       "        [0.80609406, 0.19390594],\n",
       "        [0.67198327, 0.32801673],\n",
       "        [0.4230575 , 0.5769425 ]])]"
      ]
     },
     "execution_count": 9,
     "metadata": {},
     "output_type": "execute_result"
    }
   ],
   "source": [
    "# Predictions for first 10 experiment.\n",
    "predator.predictions[\"brca_prob\"][:3]"
   ]
  },
  {
   "cell_type": "markdown",
   "id": "83e49c0d-9f61-4f48-a23d-8a21e9875041",
   "metadata": {},
   "source": [
    "#### Predictions Post Processing"
   ]
  },
  {
   "cell_type": "markdown",
   "id": "3d18567f-1748-4446-bb12-8062515f02bd",
   "metadata": {},
   "source": [
    "Post processing of predictions involves following steps:"
   ]
  },
  {
   "cell_type": "markdown",
   "id": "45aad6d0-0e73-413e-8b32-fbcb2bcc5426",
   "metadata": {},
   "source": [
    "##### 1. Merging Predictions with SNV Data"
   ]
  },
  {
   "cell_type": "markdown",
   "id": "ba9bda7c-5736-4c44-8663-ec63927976db",
   "metadata": {},
   "source": [
    "The prediction column is merged with SNV data for each experiment.\n",
    "\n",
    "$\\text{For each experiment } n: $\n",
    "\n",
    "$$\n",
    "  \\textit{(Prediction Merged Data)}_n = \\underbrace{[\\textit{Predictions}_n]}_\\text{Probs Percentages} + \n",
    "      \\underbrace{[\\textit{Protein }] [\\textit{Mutation }] [\\textit{Interactor }]}_\\text{Cancer Data Triplets} + \\underbrace{[\\textit{Features }] }_\\text{Elaspic}\n",
    "$$\n"
   ]
  },
  {
   "cell_type": "markdown",
   "id": "8b14c7d7-914f-40af-b695-b962c33ed9ee",
   "metadata": {
    "tags": []
   },
   "source": [
    "##### 2. Convert to 1-isomer: `Interactor_UniProt_ID`"
   ]
  },
  {
   "cell_type": "markdown",
   "id": "36c9284b-0d5d-4c41-b2d9-7274d9141f6a",
   "metadata": {},
   "source": [
    "$\\textit{Interactor_UniProt_ID}$ column contains isomer proteins. Here, we convert them into primary isoform representation (i.e. without dashes)."
   ]
  },
  {
   "cell_type": "markdown",
   "id": "2314ef86-e11b-43ce-a9ee-8d3d39420d3d",
   "metadata": {},
   "source": [
    "| Interactor_UniProt_ID |\n",
    "--------------\n",
    "| P38936     |\n",
    "| P16473     |\n",
    "| P16473-2   |\n",
    "| P19793     |"
   ]
  },
  {
   "cell_type": "markdown",
   "id": "ac37c712-d832-4450-8852-a9df5712c194",
   "metadata": {},
   "source": [
    "##### 3. Dropping Invalid Predictions"
   ]
  },
  {
   "cell_type": "markdown",
   "id": "43293304-9ddf-4e94-b624-8ce6c9034fe1",
   "metadata": {},
   "source": [
    "Entries whose predicted class-1 probability lies in both `Decreasing` and `Increasing+NoEff` are dropped."
   ]
  },
  {
   "cell_type": "markdown",
   "id": "0d57de49-9962-47a8-8a2d-96a42df2295a",
   "metadata": {},
   "source": [
    "Due to having different features for the same $\\textit{(protein, mutation, interactor)}$ triplet from ELASPIC, the triplet $\\textit{(protein, mutation, interactor)}$ may contain class-1 probability prediction of both lower than 0.50 and higher than 50. We drop such instances."
   ]
  },
  {
   "cell_type": "code",
   "execution_count": 10,
   "id": "ee5ffd8b-af50-481e-b90f-fc0548568727",
   "metadata": {
    "scrolled": true,
    "tags": []
   },
   "outputs": [
    {
     "name": "stdout",
     "output_type": "stream",
     "text": [
      "2021-11-11 20:26:09 |\u001b[36m DEBUG    \u001b[0m| helpers.helpers_predator.predictions | PredictionsSoft\n",
      "2021-11-11 20:26:09 |\u001b[36m DEBUG    \u001b[0m| helpers.helpers_predator.predictions | Post processing predictions for cohort brca ..\n",
      "2021-11-11 20:26:09 |\u001b[36m DEBUG    \u001b[0m| helpers.helpers_predator.predictions | PredictionsSoft\n",
      "2021-11-11 20:26:09 |\u001b[36m DEBUG    \u001b[0m| helpers.helpers_predator.predictions | Merging predictions with brca cancer dataset ..\n",
      "2021-11-11 20:26:09 |\u001b[36m DEBUG    \u001b[0m| helpers.helpers_predator.predictions | Handling valid and invalid entries ..\n"
     ]
    },
    {
     "data": {
      "application/vnd.jupyter.widget-view+json": {
       "model_id": "fb0bec8a92364e049c7833fc02db7c6a",
       "version_major": 2,
       "version_minor": 0
      },
      "text/plain": [
       "  0%|          | 0/37 [00:00<?, ?it/s]"
      ]
     },
     "metadata": {},
     "output_type": "display_data"
    },
    {
     "name": "stdout",
     "output_type": "stream",
     "text": [
      "2021-11-11 20:26:31 |\u001b[36m DEBUG    \u001b[0m| helpers.helpers_predator.predictions_utils | Removed entries first five rows (of 981): \n",
      "   PREDICTION PROTEIN MUTATION INTERACTOR\n",
      "0    0.658070  Q9Y616    F419L     Q16288\n",
      "1    0.386894  Q9Y616    F419L     Q16288\n",
      "2    0.337170  P04637    R280K     Q13625\n",
      "3    0.715480  P04637    R280K     Q13625\n",
      "4    0.715480  P04637    R280K     Q13625\n",
      "2021-11-11 20:26:58 |\u001b[36m DEBUG    \u001b[0m| helpers.helpers_predator.predictions_utils | Removed entries first five rows (of 1035): \n",
      "   PREDICTION PROTEIN MUTATION INTERACTOR\n",
      "0      0.6625  Q9Y616    F419L     Q16288\n",
      "1      0.0000  Q9Y616    F419L     Q16288\n",
      "2      1.0000  Q9UL54    V301M     P46734\n",
      "3      1.0000  Q9UL54    V301M     P46734\n",
      "4      0.0000  Q9UL54    V301M     P46734\n",
      "2021-11-11 20:27:25 |\u001b[36m DEBUG    \u001b[0m| helpers.helpers_predator.predictions_utils | Removed entries first five rows (of 931): \n",
      "   PREDICTION PROTEIN MUTATION INTERACTOR\n",
      "0    0.503014  Q9UKS6     R24H     Q9UNF0\n",
      "1    0.401699  Q9UKS6     R24H     Q9UNF0\n",
      "2    0.599123  Q9Y616    F419L     Q16288\n",
      "3    0.376998  Q9Y616    F419L     Q16288\n",
      "4    0.541270  Q9UL54    V301M     P46734\n",
      "2021-11-11 20:27:50 |\u001b[36m DEBUG    \u001b[0m| helpers.helpers_predator.predictions_utils | Removed entries first five rows (of 886): \n",
      "   PREDICTION PROTEIN MUTATION INTERACTOR\n",
      "0    0.494883  Q9UL54    V301M     P46734\n",
      "1    0.494883  Q9UL54    V301M     P46734\n",
      "2    0.528737  Q9UL54    V301M     P46734\n",
      "3    0.389216  P04637    R280K     Q13625\n",
      "4    0.552673  P04637    R280K     Q13625\n",
      "2021-11-11 20:28:19 |\u001b[36m DEBUG    \u001b[0m| helpers.helpers_predator.predictions_utils | Removed entries first five rows (of 1088): \n",
      "   PREDICTION PROTEIN MUTATION INTERACTOR\n",
      "0    0.620543  Q9Y616    F419L     Q16288\n",
      "1    0.430374  Q9Y616    F419L     Q16288\n",
      "2    0.453080  P04637    R280K     Q13625\n",
      "3    0.639855  P04637    R280K     Q13625\n",
      "4    0.639855  P04637    R280K     Q13625\n",
      "2021-11-11 20:28:43 |\u001b[36m DEBUG    \u001b[0m| helpers.helpers_predator.predictions_utils | Removed entries first five rows (of 822): \n",
      "   PREDICTION PROTEIN MUTATION INTERACTOR\n",
      "0    0.533006  Q9Y616    F419L     Q16288\n",
      "1    0.434185  Q9Y616    F419L     Q16288\n",
      "2    0.391613  P60709    R335P     Q8IZ21\n",
      "3    0.500931  P60709    R335P     Q8IZ21\n",
      "4    0.500931  P60709    R335P     Q8IZ21\n",
      "2021-11-11 20:29:04 |\u001b[36m DEBUG    \u001b[0m| helpers.helpers_predator.predictions_utils | Removed entries first five rows (of 939): \n",
      "   PREDICTION PROTEIN MUTATION INTERACTOR\n",
      "0    0.513460  Q9UKS6     R24H     Q9UNF0\n",
      "1    0.473099  Q9UKS6     R24H     Q9UNF0\n",
      "2    0.635644  Q9Y616    F419L     Q16288\n",
      "3    0.475571  Q9Y616    F419L     Q16288\n",
      "4    0.461707  P04637    R280K     Q13625\n",
      "2021-11-11 20:29:35 |\u001b[36m DEBUG    \u001b[0m| helpers.helpers_predator.predictions_utils | Removed entries first five rows (of 1071): \n",
      "   PREDICTION PROTEIN MUTATION INTERACTOR\n",
      "0    0.546148  Q9UKS6     R24H     Q9UNF0\n",
      "1    0.356838  Q9UKS6     R24H     Q9UNF0\n",
      "2    0.360384  Q13418    N202K     O15530\n",
      "3    0.360384  Q13418    N202K     O15530\n",
      "4    0.633002  Q13418    N202K     O15530\n",
      "2021-11-11 20:30:06 |\u001b[36m DEBUG    \u001b[0m| helpers.helpers_predator.predictions_utils | Removed entries first five rows (of 675): \n",
      "   PREDICTION PROTEIN MUTATION INTERACTOR\n",
      "0    0.715886  Q13418    N202K     Q9Y243\n",
      "1    0.440093  Q13418    N202K     Q9Y243\n",
      "2    0.334554  P04637    R280K     P62993\n",
      "3    0.334554  P04637    R280K     P62993\n",
      "4    0.532916  P04637    R280K     P62993\n",
      "2021-11-11 20:30:36 |\u001b[36m DEBUG    \u001b[0m| helpers.helpers_predator.predictions_utils | Removed entries first five rows (of 1051): \n",
      "   PREDICTION PROTEIN MUTATION INTERACTOR\n",
      "0    0.596160  Q9Y616    F419L     Q16288\n",
      "1    0.418510  Q9Y616    F419L     Q16288\n",
      "2    0.406865  P04637    R280K     Q13625\n",
      "3    0.663436  P04637    R280K     Q13625\n",
      "4    0.663436  P04637    R280K     Q13625\n",
      "2021-11-11 20:31:06 |\u001b[36m DEBUG    \u001b[0m| helpers.helpers_predator.predictions_utils | Removed entries first five rows (of 938): \n",
      "   PREDICTION PROTEIN MUTATION INTERACTOR\n",
      "0    0.542641  Q9UKS6     R24H     Q9UNF0\n",
      "1    0.388214  Q9UKS6     R24H     Q9UNF0\n",
      "2    0.482034  Q13418    N202K     Q9Y243\n",
      "3    0.476964  Q13418    N202K     O15530\n",
      "4    0.476964  Q13418    N202K     O15530\n",
      "2021-11-11 20:31:39 |\u001b[36m DEBUG    \u001b[0m| helpers.helpers_predator.predictions_utils | Removed entries first five rows (of 1099): \n",
      "   PREDICTION PROTEIN MUTATION INTERACTOR\n",
      "0    0.541667  P04637    R280K     P62993\n",
      "1    0.541667  P04637    R280K     P62993\n",
      "2    0.441667  P04637    R280K     P62993\n",
      "3    0.379167  P04637    R280K     P62993\n",
      "4    0.700000  P67775    E297K     Q15173\n",
      "2021-11-11 20:32:08 |\u001b[36m DEBUG    \u001b[0m| helpers.helpers_predator.predictions_utils | Removed entries first five rows (of 748): \n",
      "   PREDICTION PROTEIN MUTATION INTERACTOR\n",
      "0    0.537554  Q9UKS6     R24H     Q9UNF0\n",
      "1    0.499067  Q9UKS6     R24H     Q9UNF0\n",
      "2    0.558105  Q9Y616    F419L     Q16288\n",
      "3    0.439640  Q9Y616    F419L     Q16288\n",
      "4    0.449198  Q14469     R46Q     Q96HZ4\n",
      "2021-11-11 20:32:35 |\u001b[36m DEBUG    \u001b[0m| helpers.helpers_predator.predictions_utils | Removed entries first five rows (of 875): \n",
      "   PREDICTION PROTEIN MUTATION INTERACTOR\n",
      "0    0.535965  Q9UKS6     R24H     Q9UNF0\n",
      "1    0.481360  Q9UKS6     R24H     Q9UNF0\n",
      "2    0.637061  Q9Y616    F419L     Q16288\n",
      "3    0.322149  Q9Y616    F419L     Q16288\n",
      "4    0.459430  Q14469     R46Q     Q96HZ4\n",
      "2021-11-11 20:33:05 |\u001b[36m DEBUG    \u001b[0m| helpers.helpers_predator.predictions_utils | Removed entries first five rows (of 1212): \n",
      "   PREDICTION PROTEIN MUTATION INTERACTOR\n",
      "0    0.661849  Q9UKS6     R24H     Q9UNF0\n",
      "1    0.473015  Q9UKS6     R24H     Q9UNF0\n",
      "2    0.418342  Q13418    N202K     Q9Y243\n",
      "3    0.878449  Q13418    N202K     Q9Y243\n",
      "4    0.830065  Q9Y616    F419L     Q16288\n",
      "2021-11-11 20:33:40 |\u001b[36m DEBUG    \u001b[0m| helpers.helpers_predator.predictions_utils | Removed entries first five rows (of 720): \n",
      "   PREDICTION PROTEIN MUTATION INTERACTOR\n",
      "0    0.695464  Q9Y616    F419L     Q16288\n",
      "1    0.355062  Q9Y616    F419L     Q16288\n",
      "2    0.473771  P04637    R280K     Q13625\n",
      "3    0.632666  P04637    R280K     Q13625\n",
      "4    0.632666  P04637    R280K     Q13625\n",
      "2021-11-11 20:34:14 |\u001b[36m DEBUG    \u001b[0m| helpers.helpers_predator.predictions_utils | Removed entries first five rows (of 760): \n",
      "   PREDICTION PROTEIN MUTATION INTERACTOR\n",
      "0    0.622538  Q9UL54    V301M     P46734\n",
      "1    0.622538  Q9UL54    V301M     P46734\n",
      "2    0.492232  Q9UL54    V301M     P46734\n",
      "3    0.374101  P04637    R280K     Q13625\n",
      "4    0.701632  P04637    R280K     Q13625\n",
      "2021-11-11 20:34:44 |\u001b[36m DEBUG    \u001b[0m| helpers.helpers_predator.predictions_utils | Removed entries first five rows (of 783): \n",
      "   PREDICTION PROTEIN MUTATION INTERACTOR\n",
      "0    0.523524  Q9UKS6     R24H     Q9UNF0\n",
      "1    0.466884  Q9UKS6     R24H     Q9UNF0\n",
      "2    0.539722  Q9Y616    F419L     Q16288\n",
      "3    0.483740  Q9Y616    F419L     Q16288\n",
      "4    0.402224  P04637    R280K     Q13625\n",
      "2021-11-11 20:35:16 |\u001b[36m DEBUG    \u001b[0m| helpers.helpers_predator.predictions_utils | Removed entries first five rows (of 809): \n",
      "   PREDICTION PROTEIN MUTATION INTERACTOR\n",
      "0    0.505026  Q9UKS6     R24H     Q9UNF0\n",
      "1    0.409420  Q9UKS6     R24H     Q9UNF0\n",
      "2    0.441144  P04637    R280K     Q13625\n",
      "3    0.611841  P04637    R280K     Q13625\n",
      "4    0.611841  P04637    R280K     Q13625\n",
      "2021-11-11 20:35:49 |\u001b[36m DEBUG    \u001b[0m| helpers.helpers_predator.predictions_utils | Removed entries first five rows (of 1153): \n",
      "   PREDICTION PROTEIN MUTATION INTERACTOR\n",
      "0    0.682837  Q9Y616    F419L     Q16288\n",
      "1    0.319253  Q9Y616    F419L     Q16288\n",
      "2    0.342375  P04637    R280K     Q13625\n",
      "3    0.705971  P04637    R280K     Q13625\n",
      "4    0.705971  P04637    R280K     Q13625\n",
      "2021-11-11 20:36:20 |\u001b[36m DEBUG    \u001b[0m| helpers.helpers_predator.predictions_utils | Removed entries first five rows (of 866): \n",
      "   PREDICTION PROTEIN MUTATION INTERACTOR\n",
      "0    0.559475  Q9UKS6     R24H     Q9UNF0\n",
      "1    0.473309  Q9UKS6     R24H     Q9UNF0\n",
      "2    0.477804  Q13418    N202K     O15530\n",
      "3    0.477804  Q13418    N202K     O15530\n",
      "4    0.641706  Q13418    N202K     O15530\n",
      "2021-11-11 20:36:52 |\u001b[36m DEBUG    \u001b[0m| helpers.helpers_predator.predictions_utils | Removed entries first five rows (of 637): \n",
      "   PREDICTION PROTEIN MUTATION INTERACTOR\n",
      "0    0.517678  Q9UKS6     R24H     Q9UNF0\n",
      "1    0.485655  Q9UKS6     R24H     Q9UNF0\n",
      "2    0.458664  P04637    R280K     Q13625\n",
      "3    0.668102  P04637    R280K     Q13625\n",
      "4    0.668102  P04637    R280K     Q13625\n",
      "2021-11-11 20:37:15 |\u001b[36m DEBUG    \u001b[0m| helpers.helpers_predator.predictions_utils | Removed entries first five rows (of 843): \n",
      "   PREDICTION PROTEIN MUTATION INTERACTOR\n",
      "0    0.638950  Q9Y616    F419L     Q16288\n",
      "1    0.445759  Q9Y616    F419L     Q16288\n",
      "2    0.449775  P04637    R280K     Q13625\n",
      "3    0.687246  P04637    R280K     Q13625\n",
      "4    0.687246  P04637    R280K     Q13625\n",
      "2021-11-11 20:37:41 |\u001b[36m DEBUG    \u001b[0m| helpers.helpers_predator.predictions_utils | Removed entries first five rows (of 1043): \n",
      "   PREDICTION PROTEIN MUTATION INTERACTOR\n",
      "0    0.642168  Q9Y616    F419L     Q16288\n",
      "1    0.276686  Q9Y616    F419L     Q16288\n",
      "2    0.400000  P04637    R280K     Q13625\n",
      "3    0.547619  P04637    R280K     Q13625\n",
      "4    0.547619  P04637    R280K     Q13625\n",
      "2021-11-11 20:38:13 |\u001b[36m DEBUG    \u001b[0m| helpers.helpers_predator.predictions_utils | Removed entries first five rows (of 967): \n",
      "   PREDICTION PROTEIN MUTATION INTERACTOR\n",
      "0    0.650952  Q9Y616    F419L     Q16288\n",
      "1    0.301429  Q9Y616    F419L     Q16288\n",
      "2    0.348214  P04637    R280K     Q13625\n",
      "3    0.727500  P04637    R280K     Q13625\n",
      "4    0.727500  P04637    R280K     Q13625\n",
      "2021-11-11 20:38:49 |\u001b[36m DEBUG    \u001b[0m| helpers.helpers_predator.predictions_utils | Removed entries first five rows (of 916): \n",
      "   PREDICTION PROTEIN MUTATION INTERACTOR\n",
      "0    0.600816  Q9Y616    F419L     Q16288\n",
      "1    0.423628  Q9Y616    F419L     Q16288\n",
      "2    0.540198  Q9UL54    V301M     P46734\n",
      "3    0.540198  Q9UL54    V301M     P46734\n",
      "4    0.452894  Q9UL54    V301M     P46734\n",
      "2021-11-11 20:39:22 |\u001b[36m DEBUG    \u001b[0m| helpers.helpers_predator.predictions_utils | Removed entries first five rows (of 908): \n",
      "   PREDICTION PROTEIN MUTATION INTERACTOR\n",
      "0    0.464646  Q9Y616    F419L     Q16288\n",
      "1    0.523805  Q9Y616    F419L     Q16288\n",
      "2    0.540635  Q9UL54    V301M     P46734\n",
      "3    0.540635  Q9UL54    V301M     P46734\n",
      "4    0.428041  Q9UL54    V301M     P46734\n",
      "2021-11-11 20:39:47 |\u001b[36m DEBUG    \u001b[0m| helpers.helpers_predator.predictions_utils | Removed entries first five rows (of 726): \n",
      "   PREDICTION PROTEIN MUTATION INTERACTOR\n",
      "0    0.374849  P04637    R280K     Q13625\n",
      "1    0.614614  P04637    R280K     Q13625\n",
      "2    0.614614  P04637    R280K     Q13625\n",
      "3    0.506109  P67775    E297K     Q15173\n",
      "4    0.373707  P67775    E297K     Q13362\n",
      "2021-11-11 20:40:20 |\u001b[36m DEBUG    \u001b[0m| helpers.helpers_predator.predictions_utils | Removed entries first five rows (of 741): \n",
      "   PREDICTION PROTEIN MUTATION INTERACTOR\n",
      "0    0.503939  Q9UKS6     R24H     Q9UNF0\n",
      "1    0.319032  Q9UKS6     R24H     Q9UNF0\n",
      "2    0.688531  Q9Y616    F419L     Q16288\n",
      "3    0.314931  Q9Y616    F419L     Q16288\n",
      "4    0.439562  Q14469     R46Q     Q96HZ4\n",
      "2021-11-11 20:40:49 |\u001b[36m DEBUG    \u001b[0m| helpers.helpers_predator.predictions_utils | Removed entries first five rows (of 858): \n",
      "   PREDICTION PROTEIN MUTATION INTERACTOR\n",
      "0    0.687654  Q9Y616    F419L     Q16288\n",
      "1    0.429394  Q9Y616    F419L     Q16288\n",
      "2    0.677476  Q9UL54    V301M     P46734\n",
      "3    0.677476  Q9UL54    V301M     P46734\n",
      "4    0.497384  Q9UL54    V301M     P46734\n",
      "2021-11-11 20:41:16 |\u001b[36m DEBUG    \u001b[0m| helpers.helpers_predator.predictions_utils | Removed entries first five rows (of 1267): \n",
      "   PREDICTION PROTEIN MUTATION INTERACTOR\n",
      "0     0.32439  Q13418    N202K     O15530\n",
      "1     0.32439  Q13418    N202K     O15530\n",
      "2     0.80000  Q13418    N202K     O15530\n",
      "3     1.00000  Q9Y616    F419L     Q16288\n",
      "4     0.20000  Q9Y616    F419L     Q16288\n",
      "2021-11-11 20:41:46 |\u001b[36m DEBUG    \u001b[0m| helpers.helpers_predator.predictions_utils | Removed entries first five rows (of 931): \n",
      "   PREDICTION PROTEIN MUTATION INTERACTOR\n",
      "0    0.639189  Q9Y616    F419L     Q16288\n",
      "1    0.399401  Q9Y616    F419L     Q16288\n",
      "2    0.506855  P20810    D466H     P17655\n",
      "3    0.293993  P20810    D466H     P17655\n",
      "4    0.293993  P20810    D466H     P17655\n",
      "2021-11-11 20:42:19 |\u001b[36m DEBUG    \u001b[0m| helpers.helpers_predator.predictions_utils | Removed entries first five rows (of 946): \n",
      "   PREDICTION PROTEIN MUTATION INTERACTOR\n",
      "0    0.506215  Q9UKS6     R24H     Q9UNF0\n",
      "1    0.433834  Q9UKS6     R24H     Q9UNF0\n",
      "2    0.437538  P04637    R280K     Q13625\n",
      "3    0.704829  P04637    R280K     Q13625\n",
      "4    0.704829  P04637    R280K     Q13625\n",
      "2021-11-11 20:42:47 |\u001b[36m DEBUG    \u001b[0m| helpers.helpers_predator.predictions_utils | Removed entries first five rows (of 847): \n",
      "   PREDICTION PROTEIN MUTATION INTERACTOR\n",
      "0    0.515163  Q9UKS6     R24H     Q9UNF0\n",
      "1    0.467228  Q9UKS6     R24H     Q9UNF0\n",
      "2    0.605274  Q9Y616    F419L     Q16288\n",
      "3    0.401732  Q9Y616    F419L     Q16288\n",
      "4    0.584397  Q9UL54    V301M     P46734\n",
      "2021-11-11 20:43:17 |\u001b[36m DEBUG    \u001b[0m| helpers.helpers_predator.predictions_utils | Removed entries first five rows (of 445): \n",
      "   PREDICTION PROTEIN MUTATION INTERACTOR\n",
      "0    0.510486  Q9UKS6     R24H     Q9UNF0\n",
      "1    0.480863  Q9UKS6     R24H     Q9UNF0\n",
      "2    0.519074  Q14469     R46Q     Q96HZ4\n",
      "3    0.482727  Q14469     R46Q     Q96HZ4\n",
      "4    0.607753  Q14469     R46Q     Q96HZ4\n",
      "2021-11-11 20:43:47 |\u001b[36m DEBUG    \u001b[0m| helpers.helpers_predator.predictions_utils | Removed entries first five rows (of 829): \n",
      "   PREDICTION PROTEIN MUTATION INTERACTOR\n",
      "0    0.565182  Q9Y616    F419L     Q16288\n",
      "1    0.362831  Q9Y616    F419L     Q16288\n",
      "2    0.420572  P04637    R280K     Q13625\n",
      "3    0.720686  P04637    R280K     Q13625\n",
      "4    0.720686  P04637    R280K     Q13625\n",
      "2021-11-11 20:44:18 |\u001b[36m DEBUG    \u001b[0m| helpers.helpers_predator.predictions_utils | Removed entries first five rows (of 1051): \n",
      "   PREDICTION PROTEIN MUTATION INTERACTOR\n",
      "0    0.536324  Q9UKS6     R24H     Q9UNF0\n",
      "1    0.456356  Q9UKS6     R24H     Q9UNF0\n",
      "2    0.528771  Q9UL54    V301M     P46734\n",
      "3    0.528771  Q9UL54    V301M     P46734\n",
      "4    0.402071  Q9UL54    V301M     P46734\n",
      "2021-11-11 20:44:18 |\u001b[36m DEBUG    \u001b[0m| helpers.helpers_predator.predictions | Preparing finalized prediction datasets for brca ..\n",
      "2021-11-11 20:44:18 |\u001b[36m DEBUG    \u001b[0m| helpers.helpers_predator.predictions | Post processing completed for brca.\n"
     ]
    }
   ],
   "source": [
    "predator.predictions_post_process()"
   ]
  },
  {
   "cell_type": "code",
   "execution_count": 11,
   "id": "90683791-df42-47a8-ae9d-6c6ba08bcafd",
   "metadata": {},
   "outputs": [
    {
     "data": {
      "text/plain": [
       "dict_keys(['brca_prob', 'brca_predicted_probs_datasets', 'brca_predicted_valid_datasets', 'brca_predicted_invalid_datasets', 'brca_finalized_prediction_dataframes'])"
      ]
     },
     "execution_count": 11,
     "metadata": {},
     "output_type": "execute_result"
    }
   ],
   "source": [
    "predator.predictions.keys()"
   ]
  },
  {
   "cell_type": "code",
   "execution_count": 12,
   "id": "fcf61287-2498-4b53-ac75-1f6baceed2a3",
   "metadata": {},
   "outputs": [
    {
     "name": "stdout",
     "output_type": "stream",
     "text": [
      "\u001b[36mData dimensions: (7467, 104)\u001b[0m\n"
     ]
    },
    {
     "data": {
      "text/html": [
       "<div>\n",
       "<style scoped>\n",
       "    .dataframe tbody tr th:only-of-type {\n",
       "        vertical-align: middle;\n",
       "    }\n",
       "\n",
       "    .dataframe tbody tr th {\n",
       "        vertical-align: top;\n",
       "    }\n",
       "\n",
       "    .dataframe thead th {\n",
       "        text-align: right;\n",
       "    }\n",
       "</style>\n",
       "<table border=\"1\" class=\"dataframe\">\n",
       "  <thead>\n",
       "    <tr style=\"text-align: right;\">\n",
       "      <th></th>\n",
       "      <th>Prediction</th>\n",
       "      <th>Input_identifier</th>\n",
       "      <th>UniProt_ID</th>\n",
       "      <th>Mutation</th>\n",
       "      <th>Status</th>\n",
       "      <th>Type</th>\n",
       "      <th>COSMIC_mut_ID</th>\n",
       "      <th>ClinVar_mut_ID</th>\n",
       "      <th>UniProt_mut_ID</th>\n",
       "      <th>Domain_name</th>\n",
       "      <th>...</th>\n",
       "      <th>number_of_residues_mut</th>\n",
       "      <th>IntraclashesEnergy1_wt</th>\n",
       "      <th>IntraclashesEnergy1_mut</th>\n",
       "      <th>IntraclashesEnergy2_wt</th>\n",
       "      <th>IntraclashesEnergy2_mut</th>\n",
       "      <th>Interface_hydrophobic_area</th>\n",
       "      <th>Interface_hydrophilic_area</th>\n",
       "      <th>Interface_total_area</th>\n",
       "      <th>Interface_contact_distance_wt</th>\n",
       "      <th>Interface_contact_distance_mut</th>\n",
       "    </tr>\n",
       "  </thead>\n",
       "  <tbody>\n",
       "    <tr>\n",
       "      <th>0</th>\n",
       "      <td>0.687927</td>\n",
       "      <td>P28062</td>\n",
       "      <td>P28062</td>\n",
       "      <td>R216W</td>\n",
       "      <td>done</td>\n",
       "      <td>interface</td>\n",
       "      <td>COSM451277</td>\n",
       "      <td>-</td>\n",
       "      <td>-</td>\n",
       "      <td>Proteasome</td>\n",
       "      <td>...</td>\n",
       "      <td>417.0</td>\n",
       "      <td>156.750</td>\n",
       "      <td>156.868</td>\n",
       "      <td>49.1868</td>\n",
       "      <td>49.1868</td>\n",
       "      <td>566.065</td>\n",
       "      <td>367.205</td>\n",
       "      <td>933.27</td>\n",
       "      <td>5.37939</td>\n",
       "      <td>3.28969</td>\n",
       "    </tr>\n",
       "    <tr>\n",
       "      <th>1</th>\n",
       "      <td>0.484428</td>\n",
       "      <td>Q15842</td>\n",
       "      <td>Q15842</td>\n",
       "      <td>E237K</td>\n",
       "      <td>done</td>\n",
       "      <td>interface</td>\n",
       "      <td>COSM430893</td>\n",
       "      <td>-</td>\n",
       "      <td>-</td>\n",
       "      <td>IRK</td>\n",
       "      <td>...</td>\n",
       "      <td>684.0</td>\n",
       "      <td>131.720</td>\n",
       "      <td>131.479</td>\n",
       "      <td>129.5260</td>\n",
       "      <td>129.5260</td>\n",
       "      <td>None</td>\n",
       "      <td>None</td>\n",
       "      <td>None</td>\n",
       "      <td>2.48410</td>\n",
       "      <td>2.92169</td>\n",
       "    </tr>\n",
       "    <tr>\n",
       "      <th>2</th>\n",
       "      <td>0.473706</td>\n",
       "      <td>Q15842</td>\n",
       "      <td>Q15842</td>\n",
       "      <td>E237K</td>\n",
       "      <td>done</td>\n",
       "      <td>interface</td>\n",
       "      <td>COSM430893</td>\n",
       "      <td>-</td>\n",
       "      <td>-</td>\n",
       "      <td>IRK</td>\n",
       "      <td>...</td>\n",
       "      <td>678.0</td>\n",
       "      <td>142.706</td>\n",
       "      <td>142.107</td>\n",
       "      <td>99.1151</td>\n",
       "      <td>99.1190</td>\n",
       "      <td>None</td>\n",
       "      <td>624.35</td>\n",
       "      <td>None</td>\n",
       "      <td>2.70474</td>\n",
       "      <td>3.18529</td>\n",
       "    </tr>\n",
       "  </tbody>\n",
       "</table>\n",
       "<p>3 rows × 104 columns</p>\n",
       "</div>"
      ],
      "text/plain": [
       "   Prediction Input_identifier UniProt_ID Mutation Status       Type  \\\n",
       "0    0.687927           P28062     P28062    R216W   done  interface   \n",
       "1    0.484428           Q15842     Q15842    E237K   done  interface   \n",
       "2    0.473706           Q15842     Q15842    E237K   done  interface   \n",
       "\n",
       "  COSMIC_mut_ID ClinVar_mut_ID UniProt_mut_ID Domain_name  ...  \\\n",
       "0    COSM451277              -              -  Proteasome  ...   \n",
       "1    COSM430893              -              -         IRK  ...   \n",
       "2    COSM430893              -              -         IRK  ...   \n",
       "\n",
       "  number_of_residues_mut IntraclashesEnergy1_wt IntraclashesEnergy1_mut  \\\n",
       "0                  417.0                156.750                 156.868   \n",
       "1                  684.0                131.720                 131.479   \n",
       "2                  678.0                142.706                 142.107   \n",
       "\n",
       "   IntraclashesEnergy2_wt  IntraclashesEnergy2_mut Interface_hydrophobic_area  \\\n",
       "0                 49.1868                  49.1868                    566.065   \n",
       "1                129.5260                 129.5260                       None   \n",
       "2                 99.1151                  99.1190                       None   \n",
       "\n",
       "  Interface_hydrophilic_area Interface_total_area  \\\n",
       "0                    367.205               933.27   \n",
       "1                       None                 None   \n",
       "2                     624.35                 None   \n",
       "\n",
       "  Interface_contact_distance_wt Interface_contact_distance_mut  \n",
       "0                       5.37939                        3.28969  \n",
       "1                       2.48410                        2.92169  \n",
       "2                       2.70474                        3.18529  \n",
       "\n",
       "[3 rows x 104 columns]"
      ]
     },
     "metadata": {},
     "output_type": "display_data"
    }
   ],
   "source": [
    "display_data(predator.predictions[\"brca_predicted_probs_datasets\"][0])"
   ]
  },
  {
   "cell_type": "code",
   "execution_count": 13,
   "id": "a603e902-b663-49e2-92c5-e6167cc06699",
   "metadata": {},
   "outputs": [
    {
     "data": {
      "image/png": "[encoded data removed]",
      "text/plain": [
       "<Figure size 1080x360 with 1 Axes>"
      ]
     },
     "metadata": {
      "needs_background": "light"
     },
     "output_type": "display_data"
    }
   ],
   "source": [
    "predator.predictions.plot_distribution_valid_vs_invalid(\"brca\")"
   ]
  },
  {
   "cell_type": "code",
   "execution_count": 14,
   "id": "77147287-c7ce-4771-b0ed-e45479644ccb",
   "metadata": {},
   "outputs": [
    {
     "name": "stdout",
     "output_type": "stream",
     "text": [
      "2021-11-11 20:44:20 |\u001b[36m DEBUG    \u001b[0m| helpers.helpers_predator.predictions | Plotting number of finalized predictions per model.\n",
      "Note that following plot shows the number of (protein, mutation, interactor) triplets which had valid prediction.\n"
     ]
    },
    {
     "data": {
      "image/png": "[encoded data removed]",
      "text/plain": [
       "<Figure size 1080x360 with 1 Axes>"
      ]
     },
     "metadata": {
      "needs_background": "light"
     },
     "output_type": "display_data"
    }
   ],
   "source": [
    "predator.predictions.plot_num_finalized_predictions(\"brca\")"
   ]
  },
  {
   "cell_type": "code",
   "execution_count": 15,
   "id": "a0762893-11a8-43c7-8b93-1b214a1a85e4",
   "metadata": {},
   "outputs": [
    {
     "name": "stdout",
     "output_type": "stream",
     "text": [
      "\u001b[36mData dimensions: (5183, 4)\u001b[0m\n"
     ]
    },
    {
     "data": {
      "text/html": [
       "<div>\n",
       "<style scoped>\n",
       "    .dataframe tbody tr th:only-of-type {\n",
       "        vertical-align: middle;\n",
       "    }\n",
       "\n",
       "    .dataframe tbody tr th {\n",
       "        vertical-align: top;\n",
       "    }\n",
       "\n",
       "    .dataframe thead th {\n",
       "        text-align: right;\n",
       "    }\n",
       "</style>\n",
       "<table border=\"1\" class=\"dataframe\">\n",
       "  <thead>\n",
       "    <tr style=\"text-align: right;\">\n",
       "      <th></th>\n",
       "      <th>Prediction</th>\n",
       "      <th>UniProt_ID</th>\n",
       "      <th>Mutation</th>\n",
       "      <th>Interactor_UniProt_ID</th>\n",
       "    </tr>\n",
       "  </thead>\n",
       "  <tbody>\n",
       "    <tr>\n",
       "      <th>0</th>\n",
       "      <td>0.687927</td>\n",
       "      <td>P28062</td>\n",
       "      <td>R216W</td>\n",
       "      <td>P40306</td>\n",
       "    </tr>\n",
       "    <tr>\n",
       "      <th>1</th>\n",
       "      <td>0.484428</td>\n",
       "      <td>Q15842</td>\n",
       "      <td>E237K</td>\n",
       "      <td>Q14654</td>\n",
       "    </tr>\n",
       "    <tr>\n",
       "      <th>2</th>\n",
       "      <td>0.473706</td>\n",
       "      <td>Q15842</td>\n",
       "      <td>E237K</td>\n",
       "      <td>P63252</td>\n",
       "    </tr>\n",
       "  </tbody>\n",
       "</table>\n",
       "</div>"
      ],
      "text/plain": [
       "   Prediction UniProt_ID Mutation Interactor_UniProt_ID\n",
       "0    0.687927     P28062    R216W                P40306\n",
       "1    0.484428     Q15842    E237K                Q14654\n",
       "2    0.473706     Q15842    E237K                P63252"
      ]
     },
     "metadata": {},
     "output_type": "display_data"
    }
   ],
   "source": [
    "display_data(predator.predictions['brca_finalized_prediction_dataframes'][0])"
   ]
  },
  {
   "cell_type": "code",
   "execution_count": 16,
   "id": "7fab8dc7-62ea-4cba-bdfa-0a8187a53a27",
   "metadata": {
    "scrolled": true,
    "tags": []
   },
   "outputs": [
    {
     "name": "stdout",
     "output_type": "stream",
     "text": [
      "2021-11-11 20:44:20 |\u001b[32m INFO     \u001b[0m| helpers.helpers_predator.predictions | PredictionsSoft\n",
      "2021-11-11 20:44:20 |\u001b[32m INFO     \u001b[0m| helpers.helpers_predator.predictions | Preparing ensemble prediction data for brca taking median ..\n"
     ]
    },
    {
     "data": {
      "application/vnd.jupyter.widget-view+json": {
       "model_id": "991e59cbe46f45f6a24ec47593fc97de",
       "version_major": 2,
       "version_minor": 0
      },
      "text/plain": [
       "  0%|          | 0/37 [00:00<?, ?it/s]"
      ]
     },
     "metadata": {},
     "output_type": "display_data"
    },
    {
     "name": "stdout",
     "output_type": "stream",
     "text": [
      "2021-11-11 20:52:17 |\u001b[36m DEBUG    \u001b[0m| helpers.helpers_predator.predictions | Prediction probabilities data for brca is prepared.\n",
      "Accessible from `brca_predictions_prob_data`.\n",
      "2021-11-11 20:52:17 |\u001b[36m DEBUG    \u001b[0m| helpers.helpers_predator.predictions | Ensemble prediction data for brca is prepared.\n",
      "Accessible from `brca_ensemble_prediction_data`.\n",
      "2021-11-11 20:52:17 |\u001b[36m DEBUG    \u001b[0m| helpers.helpers_predator.predictions | Resulting prediction data is available for brca.\n",
      "Accessible from predictions.['brca_prediction_results']\n",
      "2021-11-11 20:52:17 |\u001b[36m DEBUG    \u001b[0m| helpers.helpers_predator.predictions | Resulting prediction data (no_votes dropped) is available for brca.\n",
      "Accessible from predictions.['brca_prediction_results_no_votes_dropped']\n"
     ]
    }
   ],
   "source": [
    "predator.prepare_ensemble_prediction_data()"
   ]
  },
  {
   "cell_type": "code",
   "execution_count": 17,
   "id": "0ffd0f8a-b82f-4733-9a31-2d350402fecb",
   "metadata": {},
   "outputs": [
    {
     "name": "stdout",
     "output_type": "stream",
     "text": [
      "\u001b[36mData dimensions: (3985, 39)\u001b[0m\n"
     ]
    },
    {
     "data": {
      "text/html": [
       "<div>\n",
       "<style scoped>\n",
       "    .dataframe tbody tr th:only-of-type {\n",
       "        vertical-align: middle;\n",
       "    }\n",
       "\n",
       "    .dataframe tbody tr th {\n",
       "        vertical-align: top;\n",
       "    }\n",
       "\n",
       "    .dataframe thead th {\n",
       "        text-align: right;\n",
       "    }\n",
       "</style>\n",
       "<table border=\"1\" class=\"dataframe\">\n",
       "  <thead>\n",
       "    <tr style=\"text-align: right;\">\n",
       "      <th></th>\n",
       "      <th>Trial 0</th>\n",
       "      <th>Trial 1</th>\n",
       "      <th>Trial 2</th>\n",
       "      <th>Trial 3</th>\n",
       "      <th>Trial 4</th>\n",
       "      <th>Trial 5</th>\n",
       "      <th>Trial 6</th>\n",
       "      <th>Trial 7</th>\n",
       "      <th>Trial 8</th>\n",
       "      <th>Trial 9</th>\n",
       "      <th>...</th>\n",
       "      <th>Trial 29</th>\n",
       "      <th>Trial 30</th>\n",
       "      <th>Trial 31</th>\n",
       "      <th>Trial 32</th>\n",
       "      <th>Trial 33</th>\n",
       "      <th>Trial 34</th>\n",
       "      <th>Trial 35</th>\n",
       "      <th>Trial 36</th>\n",
       "      <th>PROB_1s_AVG</th>\n",
       "      <th>VOTED_PREDICTION</th>\n",
       "    </tr>\n",
       "  </thead>\n",
       "  <tbody>\n",
       "    <tr>\n",
       "      <th>0</th>\n",
       "      <td>0.687927</td>\n",
       "      <td>0.0</td>\n",
       "      <td>0.744619</td>\n",
       "      <td>0.661794</td>\n",
       "      <td>0.77877</td>\n",
       "      <td>0.409717</td>\n",
       "      <td>0.52508</td>\n",
       "      <td>0.667998</td>\n",
       "      <td>0.457932</td>\n",
       "      <td>0.548571</td>\n",
       "      <td>...</td>\n",
       "      <td>0.407393</td>\n",
       "      <td>0.677672</td>\n",
       "      <td>0.644282</td>\n",
       "      <td>0.648854</td>\n",
       "      <td>0.520715</td>\n",
       "      <td>0.433647</td>\n",
       "      <td>0.608671</td>\n",
       "      <td>0.533072</td>\n",
       "      <td>0.55345</td>\n",
       "      <td>1</td>\n",
       "    </tr>\n",
       "    <tr>\n",
       "      <th>1</th>\n",
       "      <td>0.484428</td>\n",
       "      <td>0.5</td>\n",
       "      <td>0.438338</td>\n",
       "      <td>0.56447</td>\n",
       "      <td>0.540543</td>\n",
       "      <td>0.424724</td>\n",
       "      <td>0.453792</td>\n",
       "      <td>0.38312</td>\n",
       "      <td>0.41145</td>\n",
       "      <td>0.483677</td>\n",
       "      <td>...</td>\n",
       "      <td>0.491898</td>\n",
       "      <td>0.566304</td>\n",
       "      <td>0.564276</td>\n",
       "      <td>0.495411</td>\n",
       "      <td>0.395133</td>\n",
       "      <td>0.474974</td>\n",
       "      <td>0.475675</td>\n",
       "      <td>0.434741</td>\n",
       "      <td>0.48443</td>\n",
       "      <td>0</td>\n",
       "    </tr>\n",
       "    <tr>\n",
       "      <th>2</th>\n",
       "      <td>0.473706</td>\n",
       "      <td>0.5</td>\n",
       "      <td>0.378873</td>\n",
       "      <td>0.504237</td>\n",
       "      <td>0.464638</td>\n",
       "      <td>0.396814</td>\n",
       "      <td>0.445907</td>\n",
       "      <td>0.381273</td>\n",
       "      <td>0.381446</td>\n",
       "      <td>0.476872</td>\n",
       "      <td>...</td>\n",
       "      <td>0.47963</td>\n",
       "      <td>0.566304</td>\n",
       "      <td>0.560347</td>\n",
       "      <td>0.495198</td>\n",
       "      <td>0.372764</td>\n",
       "      <td>0.472045</td>\n",
       "      <td>0.475675</td>\n",
       "      <td>0.427009</td>\n",
       "      <td>0.47205</td>\n",
       "      <td>0</td>\n",
       "    </tr>\n",
       "  </tbody>\n",
       "</table>\n",
       "<p>3 rows × 39 columns</p>\n",
       "</div>"
      ],
      "text/plain": [
       "    Trial 0 Trial 1   Trial 2   Trial 3   Trial 4   Trial 5   Trial 6  \\\n",
       "0  0.687927     0.0  0.744619  0.661794   0.77877  0.409717   0.52508   \n",
       "1  0.484428     0.5  0.438338   0.56447  0.540543  0.424724  0.453792   \n",
       "2  0.473706     0.5  0.378873  0.504237  0.464638  0.396814  0.445907   \n",
       "\n",
       "    Trial 7   Trial 8   Trial 9  ...  Trial 29  Trial 30  Trial 31  Trial 32  \\\n",
       "0  0.667998  0.457932  0.548571  ...  0.407393  0.677672  0.644282  0.648854   \n",
       "1   0.38312   0.41145  0.483677  ...  0.491898  0.566304  0.564276  0.495411   \n",
       "2  0.381273  0.381446  0.476872  ...   0.47963  0.566304  0.560347  0.495198   \n",
       "\n",
       "   Trial 33  Trial 34  Trial 35  Trial 36 PROB_1s_AVG VOTED_PREDICTION  \n",
       "0  0.520715  0.433647  0.608671  0.533072     0.55345                1  \n",
       "1  0.395133  0.474974  0.475675  0.434741     0.48443                0  \n",
       "2  0.372764  0.472045  0.475675  0.427009     0.47205                0  \n",
       "\n",
       "[3 rows x 39 columns]"
      ]
     },
     "metadata": {},
     "output_type": "display_data"
    }
   ],
   "source": [
    "display_data(predator.predictions['brca_predictions_prob_data'])"
   ]
  },
  {
   "cell_type": "code",
   "execution_count": 18,
   "id": "f2b38467-e658-4ed6-9ac0-6de1f1017ce7",
   "metadata": {},
   "outputs": [
    {
     "data": {
      "image/png": "[encoded data removed]",
      "text/plain": [
       "<Figure size 432x288 with 1 Axes>"
      ]
     },
     "metadata": {
      "needs_background": "light"
     },
     "output_type": "display_data"
    }
   ],
   "source": [
    "predator.predictions.plot_ensemble_prediction_distribution(\"brca\")"
   ]
  },
  {
   "cell_type": "code",
   "execution_count": 19,
   "id": "c454d6a9-5c73-4fe6-b609-e7b160e2ddb8",
   "metadata": {},
   "outputs": [
    {
     "name": "stdout",
     "output_type": "stream",
     "text": [
      "\u001b[36mData dimensions: (3985, 4)\u001b[0m\n"
     ]
    },
    {
     "data": {
      "text/html": [
       "<div>\n",
       "<style scoped>\n",
       "    .dataframe tbody tr th:only-of-type {\n",
       "        vertical-align: middle;\n",
       "    }\n",
       "\n",
       "    .dataframe tbody tr th {\n",
       "        vertical-align: top;\n",
       "    }\n",
       "\n",
       "    .dataframe thead th {\n",
       "        text-align: right;\n",
       "    }\n",
       "</style>\n",
       "<table border=\"1\" class=\"dataframe\">\n",
       "  <thead>\n",
       "    <tr style=\"text-align: right;\">\n",
       "      <th></th>\n",
       "      <th>UniProt_ID</th>\n",
       "      <th>Mutation</th>\n",
       "      <th>Interactor_UniProt_ID</th>\n",
       "      <th>Prediction</th>\n",
       "    </tr>\n",
       "  </thead>\n",
       "  <tbody>\n",
       "    <tr>\n",
       "      <th>0</th>\n",
       "      <td>P28062</td>\n",
       "      <td>R216W</td>\n",
       "      <td>P40306</td>\n",
       "      <td>1</td>\n",
       "    </tr>\n",
       "    <tr>\n",
       "      <th>1</th>\n",
       "      <td>Q15842</td>\n",
       "      <td>E237K</td>\n",
       "      <td>Q14654</td>\n",
       "      <td>0</td>\n",
       "    </tr>\n",
       "    <tr>\n",
       "      <th>2</th>\n",
       "      <td>Q15842</td>\n",
       "      <td>E237K</td>\n",
       "      <td>P63252</td>\n",
       "      <td>0</td>\n",
       "    </tr>\n",
       "  </tbody>\n",
       "</table>\n",
       "</div>"
      ],
      "text/plain": [
       "  UniProt_ID Mutation Interactor_UniProt_ID Prediction\n",
       "0     P28062    R216W                P40306          1\n",
       "1     Q15842    E237K                Q14654          0\n",
       "2     Q15842    E237K                P63252          0"
      ]
     },
     "metadata": {},
     "output_type": "display_data"
    }
   ],
   "source": [
    "brca_prediction_results_soft = predator.predictions['brca_prediction_results']\n",
    "display_data(brca_prediction_results_soft)"
   ]
  },
  {
   "cell_type": "code",
   "execution_count": 20,
   "id": "569c4dd1-e2d9-40d0-b7c0-1cc177adfabb",
   "metadata": {},
   "outputs": [
    {
     "name": "stdout",
     "output_type": "stream",
     "text": [
      "\u001b[36mData dimensions: (3854, 4)\u001b[0m\n"
     ]
    },
    {
     "data": {
      "text/html": [
       "<div>\n",
       "<style scoped>\n",
       "    .dataframe tbody tr th:only-of-type {\n",
       "        vertical-align: middle;\n",
       "    }\n",
       "\n",
       "    .dataframe tbody tr th {\n",
       "        vertical-align: top;\n",
       "    }\n",
       "\n",
       "    .dataframe thead th {\n",
       "        text-align: right;\n",
       "    }\n",
       "</style>\n",
       "<table border=\"1\" class=\"dataframe\">\n",
       "  <thead>\n",
       "    <tr style=\"text-align: right;\">\n",
       "      <th></th>\n",
       "      <th>UniProt_ID</th>\n",
       "      <th>Mutation</th>\n",
       "      <th>Interactor_UniProt_ID</th>\n",
       "      <th>Prediction</th>\n",
       "    </tr>\n",
       "  </thead>\n",
       "  <tbody>\n",
       "    <tr>\n",
       "      <th>0</th>\n",
       "      <td>P28062</td>\n",
       "      <td>R216W</td>\n",
       "      <td>P40306</td>\n",
       "      <td>1</td>\n",
       "    </tr>\n",
       "    <tr>\n",
       "      <th>1</th>\n",
       "      <td>Q15842</td>\n",
       "      <td>E237K</td>\n",
       "      <td>Q14654</td>\n",
       "      <td>0</td>\n",
       "    </tr>\n",
       "    <tr>\n",
       "      <th>2</th>\n",
       "      <td>Q15842</td>\n",
       "      <td>E237K</td>\n",
       "      <td>P63252</td>\n",
       "      <td>0</td>\n",
       "    </tr>\n",
       "  </tbody>\n",
       "</table>\n",
       "</div>"
      ],
      "text/plain": [
       "  UniProt_ID Mutation Interactor_UniProt_ID Prediction\n",
       "0     P28062    R216W                P40306          1\n",
       "1     Q15842    E237K                Q14654          0\n",
       "2     Q15842    E237K                P63252          0"
      ]
     },
     "metadata": {},
     "output_type": "display_data"
    }
   ],
   "source": [
    "brca_prediction_results_soft_no_votes_dropped = predator.predictions[\"brca_prediction_results_no_votes_dropped\"]\n",
    "display_data(brca_prediction_results_soft_no_votes_dropped)"
   ]
  },
  {
   "cell_type": "code",
   "execution_count": 21,
   "id": "d1100263-ae65-405f-a13d-896927fdc1c5",
   "metadata": {},
   "outputs": [
    {
     "name": "stdout",
     "output_type": "stream",
     "text": [
      "\u001b[36mLabel counts:\n",
      "Disrupting                1851\n",
      "Increasing + No Effect    2003\n",
      "Name: Prediction, dtype: int64\u001b[0m\n"
     ]
    },
    {
     "data": {
      "image/png": "[encoded data removed]",
      "text/plain": [
       "<Figure size 432x288 with 1 Axes>"
      ]
     },
     "metadata": {},
     "output_type": "display_data"
    }
   ],
   "source": [
    "visualize_label_counts(brca_prediction_results_soft_no_votes_dropped, 'Prediction')"
   ]
  },
  {
   "cell_type": "code",
   "execution_count": 22,
   "id": "37c0a11a-e87e-40af-ba8a-8a28b82d956d",
   "metadata": {},
   "outputs": [],
   "source": [
    "brca_ensemble_prediction_data_soft = predator.predictions[\"brca_ensemble_prediction_data\"]"
   ]
  },
  {
   "cell_type": "code",
   "execution_count": 23,
   "id": "e4995e62-dfd6-4b54-bd6c-67a62eefb6a6",
   "metadata": {},
   "outputs": [],
   "source": [
    "brca_predictions_prob_data_soft = predator.predictions[\"brca_predictions_prob_data\"]"
   ]
  },
  {
   "cell_type": "code",
   "execution_count": null,
   "id": "f024fc9b-c4b1-4b79-8893-08638e7e90d3",
   "metadata": {},
   "outputs": [],
   "source": []
  },
  {
   "cell_type": "code",
   "execution_count": 24,
   "id": "a84ab98c-1e29-413a-8c6e-514b747fd38f",
   "metadata": {},
   "outputs": [],
   "source": [
    "def add_median_probabilities(prediction_results, predictions_prob_data):\n",
    "    assert len(prediction_results) == len(predictions_prob_data)\n",
    "    prediction_results_with_probabilities = prediction_results.copy()\n",
    "    prediction_results_with_probabilities[\"Median_Probability\"] = predictions_prob_data[\"PROB_1s_AVG\"]\n",
    "    return prediction_results_with_probabilities"
   ]
  },
  {
   "cell_type": "code",
   "execution_count": 25,
   "id": "b8955db8-7279-4644-acb9-6297e6e1c43c",
   "metadata": {},
   "outputs": [
    {
     "data": {
      "text/html": [
       "<div>\n",
       "<style scoped>\n",
       "    .dataframe tbody tr th:only-of-type {\n",
       "        vertical-align: middle;\n",
       "    }\n",
       "\n",
       "    .dataframe tbody tr th {\n",
       "        vertical-align: top;\n",
       "    }\n",
       "\n",
       "    .dataframe thead th {\n",
       "        text-align: right;\n",
       "    }\n",
       "</style>\n",
       "<table border=\"1\" class=\"dataframe\">\n",
       "  <thead>\n",
       "    <tr style=\"text-align: right;\">\n",
       "      <th></th>\n",
       "      <th>UniProt_ID</th>\n",
       "      <th>Mutation</th>\n",
       "      <th>Interactor_UniProt_ID</th>\n",
       "      <th>Prediction</th>\n",
       "      <th>Median_Probability</th>\n",
       "    </tr>\n",
       "  </thead>\n",
       "  <tbody>\n",
       "    <tr>\n",
       "      <th>0</th>\n",
       "      <td>P28062</td>\n",
       "      <td>R216W</td>\n",
       "      <td>P40306</td>\n",
       "      <td>1</td>\n",
       "      <td>0.55345</td>\n",
       "    </tr>\n",
       "    <tr>\n",
       "      <th>1</th>\n",
       "      <td>Q15842</td>\n",
       "      <td>E237K</td>\n",
       "      <td>Q14654</td>\n",
       "      <td>0</td>\n",
       "      <td>0.48443</td>\n",
       "    </tr>\n",
       "    <tr>\n",
       "      <th>2</th>\n",
       "      <td>Q15842</td>\n",
       "      <td>E237K</td>\n",
       "      <td>P63252</td>\n",
       "      <td>0</td>\n",
       "      <td>0.47205</td>\n",
       "    </tr>\n",
       "    <tr>\n",
       "      <th>3</th>\n",
       "      <td>Q9UKS6</td>\n",
       "      <td>R24H</td>\n",
       "      <td>Q9BY11</td>\n",
       "      <td>0</td>\n",
       "      <td>0.49584</td>\n",
       "    </tr>\n",
       "    <tr>\n",
       "      <th>4</th>\n",
       "      <td>Q9UKS6</td>\n",
       "      <td>R24H</td>\n",
       "      <td>Q9UNF0</td>\n",
       "      <td>0</td>\n",
       "      <td>0.41309</td>\n",
       "    </tr>\n",
       "  </tbody>\n",
       "</table>\n",
       "</div>"
      ],
      "text/plain": [
       "  UniProt_ID Mutation Interactor_UniProt_ID Prediction Median_Probability\n",
       "0     P28062    R216W                P40306          1            0.55345\n",
       "1     Q15842    E237K                Q14654          0            0.48443\n",
       "2     Q15842    E237K                P63252          0            0.47205\n",
       "3     Q9UKS6     R24H                Q9BY11          0            0.49584\n",
       "4     Q9UKS6     R24H                Q9UNF0          0            0.41309"
      ]
     },
     "execution_count": 25,
     "metadata": {},
     "output_type": "execute_result"
    }
   ],
   "source": [
    "brca_prediction_results_soft_with_median_probs = add_median_probabilities(\n",
    "    prediction_results=predator.predictions[\"brca_prediction_results\"],\n",
    "    predictions_prob_data=predator.predictions[\"brca_predictions_prob_data\"]\n",
    ")\n",
    "brca_prediction_results_soft_with_median_probs.head()"
   ]
  },
  {
   "cell_type": "code",
   "execution_count": 26,
   "id": "5328bf48-72fa-4a0c-86c5-76e0939b0e5c",
   "metadata": {},
   "outputs": [],
   "source": [
    "brca_prediction_results_soft_no_votes_dropped_with_median_probabilities = brca_prediction_results_soft_with_median_probs[\n",
    "    brca_prediction_results_soft_with_median_probs['Prediction'].isin([0, 1])\n",
    "]"
   ]
  },
  {
   "cell_type": "code",
   "execution_count": 27,
   "id": "5040e7d0-4bd2-4197-8a21-58bfd68b6c76",
   "metadata": {},
   "outputs": [
    {
     "data": {
      "text/plain": [
       "3854"
      ]
     },
     "execution_count": 27,
     "metadata": {},
     "output_type": "execute_result"
    }
   ],
   "source": [
    "len(brca_prediction_results_soft_no_votes_dropped_with_median_probabilities)"
   ]
  },
  {
   "cell_type": "markdown",
   "id": "412859ae-c188-410e-85ef-7df91b9d2b89",
   "metadata": {},
   "source": [
    "## Exporting Predictions"
   ]
  },
  {
   "cell_type": "code",
   "execution_count": 28,
   "id": "4042b8ce-498b-4c6c-b964-bbf7632e4ae6",
   "metadata": {},
   "outputs": [
    {
     "name": "stdout",
     "output_type": "stream",
     "text": [
      "\u001b[36mData dimensions: (3854, 5)\u001b[0m\n"
     ]
    },
    {
     "data": {
      "text/html": [
       "<div>\n",
       "<style scoped>\n",
       "    .dataframe tbody tr th:only-of-type {\n",
       "        vertical-align: middle;\n",
       "    }\n",
       "\n",
       "    .dataframe tbody tr th {\n",
       "        vertical-align: top;\n",
       "    }\n",
       "\n",
       "    .dataframe thead th {\n",
       "        text-align: right;\n",
       "    }\n",
       "</style>\n",
       "<table border=\"1\" class=\"dataframe\">\n",
       "  <thead>\n",
       "    <tr style=\"text-align: right;\">\n",
       "      <th></th>\n",
       "      <th>UniProt_ID</th>\n",
       "      <th>Mutation</th>\n",
       "      <th>Interactor_UniProt_ID</th>\n",
       "      <th>Prediction</th>\n",
       "      <th>Median_Probability</th>\n",
       "    </tr>\n",
       "  </thead>\n",
       "  <tbody>\n",
       "    <tr>\n",
       "      <th>0</th>\n",
       "      <td>P28062</td>\n",
       "      <td>R216W</td>\n",
       "      <td>P40306</td>\n",
       "      <td>1</td>\n",
       "      <td>0.55345</td>\n",
       "    </tr>\n",
       "    <tr>\n",
       "      <th>1</th>\n",
       "      <td>Q15842</td>\n",
       "      <td>E237K</td>\n",
       "      <td>Q14654</td>\n",
       "      <td>0</td>\n",
       "      <td>0.48443</td>\n",
       "    </tr>\n",
       "    <tr>\n",
       "      <th>2</th>\n",
       "      <td>Q15842</td>\n",
       "      <td>E237K</td>\n",
       "      <td>P63252</td>\n",
       "      <td>0</td>\n",
       "      <td>0.47205</td>\n",
       "    </tr>\n",
       "  </tbody>\n",
       "</table>\n",
       "</div>"
      ],
      "text/plain": [
       "  UniProt_ID Mutation Interactor_UniProt_ID Prediction Median_Probability\n",
       "0     P28062    R216W                P40306          1            0.55345\n",
       "1     Q15842    E237K                Q14654          0            0.48443\n",
       "2     Q15842    E237K                P63252          0            0.47205"
      ]
     },
     "metadata": {},
     "output_type": "display_data"
    }
   ],
   "source": [
    "# brca_prediction_results = brca_prediction_results_hard_no_votes_dropped\n",
    "# brca_prediction_results = brca_prediction_results_soft_no_votes_dropped\n",
    "brca_prediction_results = brca_prediction_results_soft_no_votes_dropped_with_median_probabilities\n",
    "display_data(brca_prediction_results)"
   ]
  },
  {
   "cell_type": "code",
   "execution_count": 29,
   "id": "4ab9fbc1-d3d2-4424-99ac-aa5515070d71",
   "metadata": {},
   "outputs": [
    {
     "name": "stdout",
     "output_type": "stream",
     "text": [
      "2021-11-11 20:52:20 |\u001b[36m DEBUG    \u001b[0m| helpers.helpers_predator.common | Folder with ID 8859d2cb is created.\n",
      "2021-11-11 20:52:20 |\u001b[36m DEBUG    \u001b[0m| helpers.helpers_predator.common | Exporting data predictions at location ../data/predictions_datasets/ in folder brca_prediction_2021-11-11\\8859d2cb..\n",
      "2021-11-11 20:52:20 |\u001b[32m INFO     \u001b[0m| helpers.helpers_predator.common | ../data/predictions_datasets/brca_prediction_2021-11-11\\8859d2cb\\predictions_soft_2021-11-11.csv is exported successfully.\n",
      "2021-11-11 20:52:20 |\u001b[32m INFO     \u001b[0m| helpers.helpers_predator.common | Config is exported.\n"
     ]
    }
   ],
   "source": [
    "predator.export_prediction(\n",
    "    tcga=\"brca\",\n",
    "    data=brca_prediction_results,\n",
    "    file_name=\"predictions\",\n",
    "    folder_path=PREDICTIONS_DATASETS_FOLDER_PATH,\n",
    "    voting=\"soft\",\n",
    "    overwrite=False,\n",
    "    file_extension='csv'\n",
    ")"
   ]
  },
  {
   "cell_type": "markdown",
   "id": "fbc616a5-ce63-4b93-a858-b3d22fdce070",
   "metadata": {},
   "source": [
    "---"
   ]
  },
  {
   "cell_type": "code",
   "execution_count": null,
   "id": "2159ade9-870c-4676-94f2-4d1f4b09beee",
   "metadata": {},
   "outputs": [],
   "source": []
  }
 ],
 "metadata": {
  "kernelspec": {
   "display_name": "Predicting-Mutation-Effects",
   "language": "python",
   "name": "predicting-mutation-effects"
  },
  "language_info": {
   "codemirror_mode": {
    "name": "ipython",
    "version": 3
   },
   "file_extension": ".py",
   "mimetype": "text/x-python",
   "name": "python",
   "nbconvert_exporter": "python",
   "pygments_lexer": "ipython3",
   "version": "3.8.10"
  },
  "toc-autonumbering": false
 },
 "nbformat": 4,
 "nbformat_minor": 5
}
