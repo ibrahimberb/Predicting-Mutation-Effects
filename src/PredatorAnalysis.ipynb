{
 "cells": [
  {
   "cell_type": "markdown",
   "id": "47d0ba35-75cb-4a07-a9dc-20212869fef8",
   "metadata": {
    "tags": []
   },
   "source": [
    "# Predator Analysis\n"
   ]
  },
  {
   "cell_type": "markdown",
   "id": "2d3de01a-71e1-4483-a2ee-370a903780fb",
   "metadata": {},
   "source": [
    "\n",
    "<b><i class=\"fa fa-folder-o\" area-hidden=\"true\" style=\"color:#1976D2\"> </i>&nbsp; File Location</b><br>\n",
    "<p style=\"background:#F5F5F5; text-indent: 1em;\">\n",
    "<code style=\"background:#F5F5F5; color:#404040; font-weight:bold; font-size:12px\">C:\\Users\\ibrah\\Documents\\GitHub\\Predicting-Mutation-Effects\\src</code>\n",
    "</p>\n",
    "\n",
    "<b><i class=\"far fa-file\" area-hidden=\"true\" style=\"color:#1976D2\"> </i>&nbsp; File Name</b>\n",
    "<p style=\"background:#F5F5F5; text-indent: 1em;\">\n",
    "<code style=\"background:#F5F5F5; color:#404040; font-weight:bold; font-size:12px\">PredatorAnalysis.ipynb</code>\n",
    "</p>\n",
    "\n",
    "<b><i class=\"far fa-calendar-alt\" area-hidden=\"true\" style=\"color:#1976D2\"> </i>&nbsp; Last Edited</b>\n",
    "<p style=\"background:#F5F5F5; text-indent: 1em;\">\n",
    "<code style=\"background:#F5F5F5; color:#404040; font-weight:bold; font-size:12px\">September 7th, 2021</code>\n",
    "</p>\n"
   ]
  },
  {
   "cell_type": "markdown",
   "id": "a5d29b9a-c1e3-4f86-8f31-08a5f22f66b7",
   "metadata": {},
   "source": [
    "<div class=\"alert alert-block\" style=\"background-color: #F5F5F5; border: 1px solid; padding: 10px; border-color: #E0E0E0\">\n",
    "    <b><i class=\"fa fa-compass\" aria-hidden=\"true\" style=\"color:#404040\"></i></b>&nbsp; <b style=\"color: #404040\">Purpose </b> <br>\n",
    "<div>\n",
    "\n",
    "TBA"
   ]
  },
  {
   "cell_type": "code",
   "execution_count": 1,
   "id": "43ad6326-9dac-4edd-a6ea-a9f383433ca0",
   "metadata": {},
   "outputs": [],
   "source": [
    "from IPython.display import display"
   ]
  },
  {
   "cell_type": "code",
   "execution_count": 5,
   "id": "370e12d5-0cb1-4bfc-a459-11a2cd415a4c",
   "metadata": {},
   "outputs": [
    {
     "name": "stdout",
     "output_type": "stream",
     "text": [
      "The autoreload extension is already loaded. To reload it, use:\n",
      "  %reload_ext autoreload\n"
     ]
    }
   ],
   "source": [
    "# Paths\n",
    "## SNVs\n",
    "SNV_COMMON_PATH = \"C:/Users/ibrah/Desktop/TUSEB_Study/Data_Collection_and_Filtering/SNV/\"\n",
    "SNV_BRCA_PATH = SNV_COMMON_PATH + \"SNV_BRCA_hg38.csv\"\n",
    "\n",
    "## PREDICTIONS_DATASETS\n",
    "# PREDICTIONS_COMMON_PATH = \"../data/predictions_datasets/ML_6_shap_SPSM/\"\n",
    "# PREDICTION_BRCA_PATH = PREDICTIONS_COMMON_PATH + \"___.csv\"\n",
    "### PREDICTION_REDUCED_DATASETS\n",
    "\n",
    "PREDICTIONS_COMMON_PATH = \"../data/predictions_datasets/\"\n",
    "# PREDICTION_BRCA_REDUCED_PATH = PREDICTIONS_COMMON_PATH + \"predictions_uh_2021-09-07.csv\"  # temp\n",
    "PREDICTION_BRCA_REDUCED_PATH = PREDICTIONS_COMMON_PATH + \"ML_6_shap_SPSM/brca_predicted_reduced_data_shap_top-11_2021-07-27.csv\"\n",
    "\n",
    "## ELASPIC_RESULTS_DATASETS\n",
    "ELASPIC_RESULTS_COMMON_PATH = \"../data/\"  # elaspic_results_datasets\n",
    "BRCA_CORE_PATH = ELASPIC_RESULTS_COMMON_PATH + \"BRCA_CORE_A2.txt\"\n",
    "BRCA_INTERFACE_PATH = ELASPIC_RESULTS_COMMON_PATH + \"BRCA_INTERFACE_A2.txt\"\n",
    "\n",
    "# CANCER MINE GENES\n",
    "CANCER_MINE_ALL_PATH = \"../data/cancer_mine_genes/all_genes_2021-07-18.txt\"\n",
    "CANCER_MINE_BREAST_PATH = \"../data/cancer_mine_genes/breast_genes_2021-07-18.txt\"\n",
    "\n",
    "# Reflect changes in the modules immediately.\n",
    "%load_ext autoreload\n",
    "%autoreload 2"
   ]
  },
  {
   "cell_type": "code",
   "execution_count": 6,
   "id": "f0c5f7bb-d385-4a65-81e0-1b74b141ef7a",
   "metadata": {},
   "outputs": [],
   "source": [
    "from PredatorAnalysis import PredatorAnalysis"
   ]
  },
  {
   "cell_type": "code",
   "execution_count": 7,
   "id": "56f0ecb2-ca27-4f84-8dd8-475eb649f779",
   "metadata": {
    "scrolled": true,
    "tags": []
   },
   "outputs": [
    {
     "name": "stdout",
     "output_type": "stream",
     "text": [
      "2021-09-07 22:56:35 |\u001b[32m INFO     \u001b[0m| helpers.helpers_analysis.loaders | Loading brca SNV datasets ..\n",
      "2021-09-07 22:56:40 |\u001b[36m DEBUG    \u001b[0m| helpers.helpers_analysis.loaders | brca SNV data size: (120988, 121)\n",
      "2021-09-07 22:56:40 |\u001b[36m DEBUG    \u001b[0m| helpers.helpers_analysis.loaders | brca SNV data processed size: (60278, 121)\n",
      "2021-09-07 22:56:40 |\u001b[32m INFO     \u001b[0m| helpers.helpers_analysis.loaders | brca SNV datasets are loaded.\n",
      "2021-09-07 22:56:40 |\u001b[32m INFO     \u001b[0m| helpers.helpers_analysis.loaders | Loading brca PREDICTION dataset ..\n",
      "2021-09-07 22:56:40 |\u001b[36m DEBUG    \u001b[0m| helpers.helpers_analysis.loaders | brca PREDICTION data shape: (2292, 4)\n",
      "2021-09-07 22:56:40 |\u001b[32m INFO     \u001b[0m| helpers.helpers_analysis.loaders | brca PREDICTION dataset is loaded.\n",
      "2021-09-07 22:56:40 |\u001b[32m INFO     \u001b[0m| helpers.helpers_analysis.loaders | Loading brca ELASPIC datasets ..\n",
      "2021-09-07 22:56:40 |\u001b[36m DEBUG    \u001b[0m| helpers.helpers_analysis.loaders | Loading ELASPIC CORE data materials ..\n",
      "2021-09-07 22:56:40 |\u001b[36m DEBUG    \u001b[0m| helpers.helpers_analysis.loaders | brca ELASPIC CORE data size: (12383, 103)\n",
      "2021-09-07 22:56:40 |\u001b[36m DEBUG    \u001b[0m| helpers.helpers_analysis.loaders | Loading ELASPIC INTERFACE data materials ..\n",
      "2021-09-07 22:56:40 |\u001b[36m DEBUG    \u001b[0m| helpers.helpers_analysis.loaders | brca ELASPIC INTERFACE data size: (4452, 103)\n",
      "2021-09-07 22:56:40 |\u001b[36m DEBUG    \u001b[0m| helpers.helpers_analysis.preprocessing | 2004 duplicated entries are removed.\n",
      "2021-09-07 22:56:40 |\u001b[36m DEBUG    \u001b[0m| helpers.helpers_analysis.loaders | Loading brca ELASPIC CORE & INTERFACE COMBINED data ..\n",
      "2021-09-07 22:56:40 |\u001b[36m DEBUG    \u001b[0m| helpers.helpers_analysis.loaders | \n",
      "ELASPIC CORE DATA\n",
      "(12383, 3)\n",
      "  UniProt_ID Mutation Interactor_UniProt_ID\n",
      "0     P35367    M206V                     -\n",
      "1     Q96RQ3     R66H                     -\n",
      "2     O00203    R227H                     -\n",
      "2021-09-07 22:56:40 |\u001b[36m DEBUG    \u001b[0m| helpers.helpers_analysis.loaders | \n",
      "ELASPIC INTERFACE DATA\n",
      "(2448, 3)\n",
      "  UniProt_ID Mutation Interactor_UniProt_ID\n",
      "0     Q9UKS6     R24H                Q9BY11\n",
      "1     Q9UKS6     R24H                Q9UNF0\n",
      "2     Q9UKS6     R24H                Q5TZC3\n",
      "2021-09-07 22:56:40 |\u001b[36m DEBUG    \u001b[0m| helpers.helpers_analysis.loaders | Combined data shape: (14831, 3)\n",
      "2021-09-07 22:56:40 |\u001b[32m INFO     \u001b[0m| helpers.helpers_analysis.loaders | brca ELASPIC datasets are loaded.\n",
      "2021-09-07 22:56:40 |\u001b[32m INFO     \u001b[0m| helpers.helpers_analysis.loaders | Loading reference dataset cancermine for TCGA brca ..\n",
      "2021-09-07 22:56:40 |\u001b[36m DEBUG    \u001b[0m| helpers.helpers_analysis.loaders | Loading Cancermine reference dataset cohort brca ..\n",
      "2021-09-07 22:56:40 |\u001b[36m DEBUG    \u001b[0m| helpers.helpers_analysis.loaders | Number of genes: 345\n",
      "2021-09-07 22:56:40 |\u001b[36m DEBUG    \u001b[0m| helpers.helpers_analysis.loaders | First five genes: ['ERBB2', 'MYC', 'BRCA1', 'TP53', 'EGFR']\n",
      "2021-09-07 22:56:40 |\u001b[36m DEBUG    \u001b[0m| helpers.helpers_analysis.loaders | Loading Cancermine reference dataset cohort all ..\n",
      "2021-09-07 22:56:40 |\u001b[36m DEBUG    \u001b[0m| helpers.helpers_analysis.loaders | Number of genes: 1024\n",
      "2021-09-07 22:56:40 |\u001b[36m DEBUG    \u001b[0m| helpers.helpers_analysis.loaders | First five genes: ['ERBB2', 'ABL1', 'EGFR', 'KRAS', 'BRAF']\n",
      "2021-09-07 22:56:40 |\u001b[32m INFO     \u001b[0m| helpers.helpers_analysis.loaders | cancermine reference datasets loaded.\n"
     ]
    }
   ],
   "source": [
    "predator_analysis = PredatorAnalysis(\n",
    "    tcga=\"brca\",\n",
    "    snv_path=SNV_BRCA_PATH,\n",
    "    prediction_data_path=PREDICTION_BRCA_REDUCED_PATH,\n",
    "    elaspic_core_path=BRCA_CORE_PATH,\n",
    "    elaspic_interface_path=BRCA_INTERFACE_PATH,\n",
    "    reference_data_name=\"cancermine\",\n",
    "    reference_data_paths=[CANCER_MINE_BREAST_PATH, CANCER_MINE_ALL_PATH],\n",
    ")"
   ]
  },
  {
   "cell_type": "markdown",
   "id": "68ea899e-c18c-4db5-8409-ab1b812e8ac9",
   "metadata": {},
   "source": [
    "# Datasets"
   ]
  },
  {
   "cell_type": "markdown",
   "id": "18d56c31-b835-421a-a0ef-d062ccd4b43d",
   "metadata": {},
   "source": [
    "##  1. SNV Datasets"
   ]
  },
  {
   "cell_type": "code",
   "execution_count": 8,
   "id": "3a8d2d95-f15d-448a-8bdf-991d0bd20fc9",
   "metadata": {},
   "outputs": [
    {
     "name": "stdout",
     "output_type": "stream",
     "text": [
      "(120988, 121)\n"
     ]
    }
   ],
   "source": [
    "# Original SNV Dataset\n",
    "print(predator_analysis.data_materials[\"brca_snv_data\"].shape)"
   ]
  },
  {
   "cell_type": "code",
   "execution_count": 9,
   "id": "0e3f5a13-0acc-4480-98e6-6f389a131af8",
   "metadata": {},
   "outputs": [
    {
     "name": "stdout",
     "output_type": "stream",
     "text": [
      "(60278, 121)\n"
     ]
    }
   ],
   "source": [
    "# Processed SNV Dataset\n",
    "print(predator_analysis.data_materials[\"brca_snv_data_processed\"].shape)"
   ]
  },
  {
   "cell_type": "code",
   "execution_count": 10,
   "id": "8195d0ba-3363-48b7-93c9-c84766b8d37f",
   "metadata": {},
   "outputs": [
    {
     "name": "stdout",
     "output_type": "stream",
     "text": [
      "(60278, 4)\n"
     ]
    },
    {
     "data": {
      "text/html": [
       "<div>\n",
       "<style scoped>\n",
       "    .dataframe tbody tr th:only-of-type {\n",
       "        vertical-align: middle;\n",
       "    }\n",
       "\n",
       "    .dataframe tbody tr th {\n",
       "        vertical-align: top;\n",
       "    }\n",
       "\n",
       "    .dataframe thead th {\n",
       "        text-align: right;\n",
       "    }\n",
       "</style>\n",
       "<table border=\"1\" class=\"dataframe\">\n",
       "  <thead>\n",
       "    <tr style=\"text-align: right;\">\n",
       "      <th></th>\n",
       "      <th>Hugo_Symbol</th>\n",
       "      <th>SWISSPROT</th>\n",
       "      <th>HGVSp_Short</th>\n",
       "      <th>Tumor_Sample_Barcode</th>\n",
       "    </tr>\n",
       "  </thead>\n",
       "  <tbody>\n",
       "    <tr>\n",
       "      <th>0</th>\n",
       "      <td>USP24</td>\n",
       "      <td>Q9UPU5</td>\n",
       "      <td>I342V</td>\n",
       "      <td>TCGA-D8-A1XY</td>\n",
       "    </tr>\n",
       "    <tr>\n",
       "      <th>1</th>\n",
       "      <td>ERICH3</td>\n",
       "      <td>Q5RHP9</td>\n",
       "      <td>E1406K</td>\n",
       "      <td>TCGA-D8-A1XY</td>\n",
       "    </tr>\n",
       "    <tr>\n",
       "      <th>2</th>\n",
       "      <td>SPHKAP</td>\n",
       "      <td>Q2M3C7</td>\n",
       "      <td>R1372S</td>\n",
       "      <td>TCGA-D8-A1XY</td>\n",
       "    </tr>\n",
       "  </tbody>\n",
       "</table>\n",
       "</div>"
      ],
      "text/plain": [
       "  Hugo_Symbol SWISSPROT HGVSp_Short Tumor_Sample_Barcode\n",
       "0       USP24    Q9UPU5       I342V         TCGA-D8-A1XY\n",
       "1      ERICH3    Q5RHP9      E1406K         TCGA-D8-A1XY\n",
       "2      SPHKAP    Q2M3C7      R1372S         TCGA-D8-A1XY"
      ]
     },
     "execution_count": 10,
     "metadata": {},
     "output_type": "execute_result"
    }
   ],
   "source": [
    "# Simplified SNV Dataset\n",
    "print(predator_analysis.data_materials[\"brca_snv_data_simplified\"].shape)\n",
    "predator_analysis.data_materials[\"brca_snv_data_simplified\"].head(3)"
   ]
  },
  {
   "cell_type": "markdown",
   "id": "651257be-0a3a-4b0e-a45f-c357d6570266",
   "metadata": {},
   "source": [
    "## 2. ELASPIC Results Datasets"
   ]
  },
  {
   "cell_type": "markdown",
   "id": "8d0b4e83-b07a-4b2b-a378-f58a9403a151",
   "metadata": {
    "tags": []
   },
   "source": [
    "### 2.1. `Core` Datasets"
   ]
  },
  {
   "cell_type": "code",
   "execution_count": 11,
   "id": "2e3af5c4-7ed9-4626-a034-b105cade5b21",
   "metadata": {},
   "outputs": [
    {
     "name": "stdout",
     "output_type": "stream",
     "text": [
      "(12383, 103)\n"
     ]
    },
    {
     "data": {
      "text/html": [
       "<div>\n",
       "<style scoped>\n",
       "    .dataframe tbody tr th:only-of-type {\n",
       "        vertical-align: middle;\n",
       "    }\n",
       "\n",
       "    .dataframe tbody tr th {\n",
       "        vertical-align: top;\n",
       "    }\n",
       "\n",
       "    .dataframe thead th {\n",
       "        text-align: right;\n",
       "    }\n",
       "</style>\n",
       "<table border=\"1\" class=\"dataframe\">\n",
       "  <thead>\n",
       "    <tr style=\"text-align: right;\">\n",
       "      <th></th>\n",
       "      <th>Input_identifier</th>\n",
       "      <th>UniProt_ID</th>\n",
       "      <th>Mutation</th>\n",
       "      <th>Status</th>\n",
       "      <th>Type</th>\n",
       "      <th>COSMIC_mut_ID</th>\n",
       "      <th>ClinVar_mut_ID</th>\n",
       "      <th>UniProt_mut_ID</th>\n",
       "      <th>Domain_name</th>\n",
       "      <th>Domain_clan</th>\n",
       "      <th>...</th>\n",
       "      <th>number_of_residues_mut</th>\n",
       "      <th>IntraclashesEnergy1_wt</th>\n",
       "      <th>IntraclashesEnergy1_mut</th>\n",
       "      <th>IntraclashesEnergy2_wt</th>\n",
       "      <th>IntraclashesEnergy2_mut</th>\n",
       "      <th>Interface_hydrophobic_area</th>\n",
       "      <th>Interface_hydrophilic_area</th>\n",
       "      <th>Interface_total_area</th>\n",
       "      <th>Interface_contact_distance_wt</th>\n",
       "      <th>Interface_contact_distance_mut</th>\n",
       "    </tr>\n",
       "  </thead>\n",
       "  <tbody>\n",
       "    <tr>\n",
       "      <th>0</th>\n",
       "      <td>P35367</td>\n",
       "      <td>P35367</td>\n",
       "      <td>M206V</td>\n",
       "      <td>done</td>\n",
       "      <td>core</td>\n",
       "      <td>COSM1484451</td>\n",
       "      <td>-</td>\n",
       "      <td>-</td>\n",
       "      <td>7tm_1</td>\n",
       "      <td>7tm_1</td>\n",
       "      <td>...</td>\n",
       "      <td>458.0</td>\n",
       "      <td>-</td>\n",
       "      <td>-</td>\n",
       "      <td>-</td>\n",
       "      <td>-</td>\n",
       "      <td>-</td>\n",
       "      <td>-</td>\n",
       "      <td>-</td>\n",
       "      <td>-</td>\n",
       "      <td>-</td>\n",
       "    </tr>\n",
       "    <tr>\n",
       "      <th>1</th>\n",
       "      <td>Q96RQ3</td>\n",
       "      <td>Q96RQ3</td>\n",
       "      <td>R66H</td>\n",
       "      <td>done</td>\n",
       "      <td>core</td>\n",
       "      <td>COSM1041745</td>\n",
       "      <td>-</td>\n",
       "      <td>-</td>\n",
       "      <td>CPSase_L_chain+CPSase_L_D2+Biotin_carb_C</td>\n",
       "      <td>CPSase_L_chain+CPSase_L_D2+Biotin_carb_C</td>\n",
       "      <td>...</td>\n",
       "      <td>574.0</td>\n",
       "      <td>-</td>\n",
       "      <td>-</td>\n",
       "      <td>-</td>\n",
       "      <td>-</td>\n",
       "      <td>-</td>\n",
       "      <td>-</td>\n",
       "      <td>-</td>\n",
       "      <td>-</td>\n",
       "      <td>-</td>\n",
       "    </tr>\n",
       "    <tr>\n",
       "      <th>2</th>\n",
       "      <td>O00203</td>\n",
       "      <td>O00203</td>\n",
       "      <td>R227H</td>\n",
       "      <td>done</td>\n",
       "      <td>core</td>\n",
       "      <td>COSM1438700</td>\n",
       "      <td>-</td>\n",
       "      <td>-</td>\n",
       "      <td>Adaptin_N</td>\n",
       "      <td>Adaptin_N</td>\n",
       "      <td>...</td>\n",
       "      <td>618.0</td>\n",
       "      <td>-</td>\n",
       "      <td>-</td>\n",
       "      <td>-</td>\n",
       "      <td>-</td>\n",
       "      <td>-</td>\n",
       "      <td>-</td>\n",
       "      <td>-</td>\n",
       "      <td>-</td>\n",
       "      <td>-</td>\n",
       "    </tr>\n",
       "  </tbody>\n",
       "</table>\n",
       "<p>3 rows × 103 columns</p>\n",
       "</div>"
      ],
      "text/plain": [
       "  Input_identifier UniProt_ID Mutation Status  Type COSMIC_mut_ID  \\\n",
       "0           P35367     P35367    M206V   done  core   COSM1484451   \n",
       "1           Q96RQ3     Q96RQ3     R66H   done  core   COSM1041745   \n",
       "2           O00203     O00203    R227H   done  core   COSM1438700   \n",
       "\n",
       "  ClinVar_mut_ID UniProt_mut_ID                               Domain_name  \\\n",
       "0              -              -                                     7tm_1   \n",
       "1              -              -  CPSase_L_chain+CPSase_L_D2+Biotin_carb_C   \n",
       "2              -              -                                 Adaptin_N   \n",
       "\n",
       "                                Domain_clan  ... number_of_residues_mut  \\\n",
       "0                                     7tm_1  ...                  458.0   \n",
       "1  CPSase_L_chain+CPSase_L_D2+Biotin_carb_C  ...                  574.0   \n",
       "2                                 Adaptin_N  ...                  618.0   \n",
       "\n",
       "  IntraclashesEnergy1_wt  IntraclashesEnergy1_mut  IntraclashesEnergy2_wt  \\\n",
       "0                      -                        -                       -   \n",
       "1                      -                        -                       -   \n",
       "2                      -                        -                       -   \n",
       "\n",
       "  IntraclashesEnergy2_mut Interface_hydrophobic_area  \\\n",
       "0                       -                          -   \n",
       "1                       -                          -   \n",
       "2                       -                          -   \n",
       "\n",
       "  Interface_hydrophilic_area Interface_total_area  \\\n",
       "0                          -                    -   \n",
       "1                          -                    -   \n",
       "2                          -                    -   \n",
       "\n",
       "  Interface_contact_distance_wt Interface_contact_distance_mut  \n",
       "0                             -                              -  \n",
       "1                             -                              -  \n",
       "2                             -                              -  \n",
       "\n",
       "[3 rows x 103 columns]"
      ]
     },
     "execution_count": 11,
     "metadata": {},
     "output_type": "execute_result"
    }
   ],
   "source": [
    "# Core data \n",
    "print(predator_analysis.data_materials[\"brca_elaspic_core_data\"].shape)\n",
    "predator_analysis.data_materials[\"brca_elaspic_core_data\"].head(3)"
   ]
  },
  {
   "cell_type": "code",
   "execution_count": 12,
   "id": "69922cec-c16f-4f3f-ae7e-c9d1dae9fa7a",
   "metadata": {},
   "outputs": [
    {
     "name": "stdout",
     "output_type": "stream",
     "text": [
      "(12383, 3)\n"
     ]
    },
    {
     "data": {
      "text/html": [
       "<div>\n",
       "<style scoped>\n",
       "    .dataframe tbody tr th:only-of-type {\n",
       "        vertical-align: middle;\n",
       "    }\n",
       "\n",
       "    .dataframe tbody tr th {\n",
       "        vertical-align: top;\n",
       "    }\n",
       "\n",
       "    .dataframe thead th {\n",
       "        text-align: right;\n",
       "    }\n",
       "</style>\n",
       "<table border=\"1\" class=\"dataframe\">\n",
       "  <thead>\n",
       "    <tr style=\"text-align: right;\">\n",
       "      <th></th>\n",
       "      <th>UniProt_ID</th>\n",
       "      <th>Mutation</th>\n",
       "      <th>Interactor_UniProt_ID</th>\n",
       "    </tr>\n",
       "  </thead>\n",
       "  <tbody>\n",
       "    <tr>\n",
       "      <th>0</th>\n",
       "      <td>P35367</td>\n",
       "      <td>M206V</td>\n",
       "      <td>-</td>\n",
       "    </tr>\n",
       "    <tr>\n",
       "      <th>1</th>\n",
       "      <td>Q96RQ3</td>\n",
       "      <td>R66H</td>\n",
       "      <td>-</td>\n",
       "    </tr>\n",
       "    <tr>\n",
       "      <th>2</th>\n",
       "      <td>O00203</td>\n",
       "      <td>R227H</td>\n",
       "      <td>-</td>\n",
       "    </tr>\n",
       "  </tbody>\n",
       "</table>\n",
       "</div>"
      ],
      "text/plain": [
       "  UniProt_ID Mutation Interactor_UniProt_ID\n",
       "0     P35367    M206V                     -\n",
       "1     Q96RQ3     R66H                     -\n",
       "2     O00203    R227H                     -"
      ]
     },
     "execution_count": 12,
     "metadata": {},
     "output_type": "execute_result"
    }
   ],
   "source": [
    "# Core data simplified\n",
    "print(predator_analysis.data_materials[\"brca_elaspic_core_data_simplified\"].shape)\n",
    "predator_analysis.data_materials[\"brca_elaspic_core_data_simplified\"].head(3)"
   ]
  },
  {
   "cell_type": "markdown",
   "id": "508ca64d-00eb-4b23-adee-52e3cc6f3774",
   "metadata": {},
   "source": [
    "### 2.2 `Interface` Datasets"
   ]
  },
  {
   "cell_type": "code",
   "execution_count": 13,
   "id": "792c6c8b-2dbe-43a0-9433-422fa42a3822",
   "metadata": {},
   "outputs": [
    {
     "name": "stdout",
     "output_type": "stream",
     "text": [
      "(4452, 103)\n"
     ]
    },
    {
     "data": {
      "text/html": [
       "<div>\n",
       "<style scoped>\n",
       "    .dataframe tbody tr th:only-of-type {\n",
       "        vertical-align: middle;\n",
       "    }\n",
       "\n",
       "    .dataframe tbody tr th {\n",
       "        vertical-align: top;\n",
       "    }\n",
       "\n",
       "    .dataframe thead th {\n",
       "        text-align: right;\n",
       "    }\n",
       "</style>\n",
       "<table border=\"1\" class=\"dataframe\">\n",
       "  <thead>\n",
       "    <tr style=\"text-align: right;\">\n",
       "      <th></th>\n",
       "      <th>Input_identifier</th>\n",
       "      <th>UniProt_ID</th>\n",
       "      <th>Mutation</th>\n",
       "      <th>Status</th>\n",
       "      <th>Type</th>\n",
       "      <th>COSMIC_mut_ID</th>\n",
       "      <th>ClinVar_mut_ID</th>\n",
       "      <th>UniProt_mut_ID</th>\n",
       "      <th>Domain_name</th>\n",
       "      <th>Domain_clan</th>\n",
       "      <th>...</th>\n",
       "      <th>number_of_residues_mut</th>\n",
       "      <th>IntraclashesEnergy1_wt</th>\n",
       "      <th>IntraclashesEnergy1_mut</th>\n",
       "      <th>IntraclashesEnergy2_wt</th>\n",
       "      <th>IntraclashesEnergy2_mut</th>\n",
       "      <th>Interface_hydrophobic_area</th>\n",
       "      <th>Interface_hydrophilic_area</th>\n",
       "      <th>Interface_total_area</th>\n",
       "      <th>Interface_contact_distance_wt</th>\n",
       "      <th>Interface_contact_distance_mut</th>\n",
       "    </tr>\n",
       "  </thead>\n",
       "  <tbody>\n",
       "    <tr>\n",
       "      <th>0</th>\n",
       "      <td>Q9UKS6</td>\n",
       "      <td>Q9UKS6</td>\n",
       "      <td>R24H</td>\n",
       "      <td>done</td>\n",
       "      <td>interface</td>\n",
       "      <td>-</td>\n",
       "      <td>-</td>\n",
       "      <td>-</td>\n",
       "      <td>FCH</td>\n",
       "      <td>FCH</td>\n",
       "      <td>...</td>\n",
       "      <td>571.0</td>\n",
       "      <td>58.4741</td>\n",
       "      <td>57.8248</td>\n",
       "      <td>44.4473</td>\n",
       "      <td>44.4473</td>\n",
       "      <td>1524.89</td>\n",
       "      <td>732.135</td>\n",
       "      <td>2257.02</td>\n",
       "      <td>3.01412</td>\n",
       "      <td>3.16742</td>\n",
       "    </tr>\n",
       "    <tr>\n",
       "      <th>1</th>\n",
       "      <td>Q9UKS6</td>\n",
       "      <td>Q9UKS6</td>\n",
       "      <td>R24H</td>\n",
       "      <td>done</td>\n",
       "      <td>interface</td>\n",
       "      <td>-</td>\n",
       "      <td>-</td>\n",
       "      <td>-</td>\n",
       "      <td>FCH</td>\n",
       "      <td>FCH</td>\n",
       "      <td>...</td>\n",
       "      <td>565.0</td>\n",
       "      <td>56.4873</td>\n",
       "      <td>56.3099</td>\n",
       "      <td>69.6442</td>\n",
       "      <td>69.6442</td>\n",
       "      <td>1500.95</td>\n",
       "      <td>795.265</td>\n",
       "      <td>2296.21</td>\n",
       "      <td>3.26366</td>\n",
       "      <td>4.98813</td>\n",
       "    </tr>\n",
       "    <tr>\n",
       "      <th>2</th>\n",
       "      <td>Q9UKS6</td>\n",
       "      <td>Q9UKS6</td>\n",
       "      <td>R24H</td>\n",
       "      <td>done</td>\n",
       "      <td>interface</td>\n",
       "      <td>-</td>\n",
       "      <td>-</td>\n",
       "      <td>-</td>\n",
       "      <td>FCH</td>\n",
       "      <td>FCH</td>\n",
       "      <td>...</td>\n",
       "      <td>565.0</td>\n",
       "      <td>62.2267</td>\n",
       "      <td>62.0808</td>\n",
       "      <td>67.3261</td>\n",
       "      <td>67.3261</td>\n",
       "      <td>1555.45</td>\n",
       "      <td>776.3</td>\n",
       "      <td>2331.75</td>\n",
       "      <td>3.55240</td>\n",
       "      <td>4.79224</td>\n",
       "    </tr>\n",
       "  </tbody>\n",
       "</table>\n",
       "<p>3 rows × 103 columns</p>\n",
       "</div>"
      ],
      "text/plain": [
       "  Input_identifier UniProt_ID Mutation Status       Type COSMIC_mut_ID  \\\n",
       "0           Q9UKS6     Q9UKS6     R24H   done  interface             -   \n",
       "1           Q9UKS6     Q9UKS6     R24H   done  interface             -   \n",
       "2           Q9UKS6     Q9UKS6     R24H   done  interface             -   \n",
       "\n",
       "  ClinVar_mut_ID UniProt_mut_ID Domain_name Domain_clan  ...  \\\n",
       "0              -              -         FCH         FCH  ...   \n",
       "1              -              -         FCH         FCH  ...   \n",
       "2              -              -         FCH         FCH  ...   \n",
       "\n",
       "  number_of_residues_mut IntraclashesEnergy1_wt  IntraclashesEnergy1_mut  \\\n",
       "0                  571.0                58.4741                  57.8248   \n",
       "1                  565.0                56.4873                  56.3099   \n",
       "2                  565.0                62.2267                  62.0808   \n",
       "\n",
       "   IntraclashesEnergy2_wt IntraclashesEnergy2_mut Interface_hydrophobic_area  \\\n",
       "0                 44.4473                 44.4473                    1524.89   \n",
       "1                 69.6442                 69.6442                    1500.95   \n",
       "2                 67.3261                 67.3261                    1555.45   \n",
       "\n",
       "  Interface_hydrophilic_area Interface_total_area  \\\n",
       "0                    732.135              2257.02   \n",
       "1                    795.265              2296.21   \n",
       "2                      776.3              2331.75   \n",
       "\n",
       "  Interface_contact_distance_wt  Interface_contact_distance_mut  \n",
       "0                       3.01412                         3.16742  \n",
       "1                       3.26366                         4.98813  \n",
       "2                       3.55240                         4.79224  \n",
       "\n",
       "[3 rows x 103 columns]"
      ]
     },
     "execution_count": 13,
     "metadata": {},
     "output_type": "execute_result"
    }
   ],
   "source": [
    "print(predator_analysis.data_materials[\"brca_elaspic_interface_data\"].shape)\n",
    "predator_analysis.data_materials[\"brca_elaspic_interface_data\"].head(3)  ## <-- i was here"
   ]
  },
  {
   "cell_type": "code",
   "execution_count": 14,
   "id": "16ba8b39-d7e7-450f-98ca-21e5073a8008",
   "metadata": {},
   "outputs": [
    {
     "name": "stdout",
     "output_type": "stream",
     "text": [
      "(2448, 3)\n"
     ]
    },
    {
     "data": {
      "text/html": [
       "<div>\n",
       "<style scoped>\n",
       "    .dataframe tbody tr th:only-of-type {\n",
       "        vertical-align: middle;\n",
       "    }\n",
       "\n",
       "    .dataframe tbody tr th {\n",
       "        vertical-align: top;\n",
       "    }\n",
       "\n",
       "    .dataframe thead th {\n",
       "        text-align: right;\n",
       "    }\n",
       "</style>\n",
       "<table border=\"1\" class=\"dataframe\">\n",
       "  <thead>\n",
       "    <tr style=\"text-align: right;\">\n",
       "      <th></th>\n",
       "      <th>UniProt_ID</th>\n",
       "      <th>Mutation</th>\n",
       "      <th>Interactor_UniProt_ID</th>\n",
       "    </tr>\n",
       "  </thead>\n",
       "  <tbody>\n",
       "    <tr>\n",
       "      <th>0</th>\n",
       "      <td>Q9UKS6</td>\n",
       "      <td>R24H</td>\n",
       "      <td>Q9BY11</td>\n",
       "    </tr>\n",
       "    <tr>\n",
       "      <th>1</th>\n",
       "      <td>Q9UKS6</td>\n",
       "      <td>R24H</td>\n",
       "      <td>Q9UNF0</td>\n",
       "    </tr>\n",
       "    <tr>\n",
       "      <th>2</th>\n",
       "      <td>Q9UKS6</td>\n",
       "      <td>R24H</td>\n",
       "      <td>Q5TZC3</td>\n",
       "    </tr>\n",
       "  </tbody>\n",
       "</table>\n",
       "</div>"
      ],
      "text/plain": [
       "  UniProt_ID Mutation Interactor_UniProt_ID\n",
       "0     Q9UKS6     R24H                Q9BY11\n",
       "1     Q9UKS6     R24H                Q9UNF0\n",
       "2     Q9UKS6     R24H                Q5TZC3"
      ]
     },
     "execution_count": 14,
     "metadata": {},
     "output_type": "execute_result"
    }
   ],
   "source": [
    "print(predator_analysis.data_materials[\"brca_elaspic_interface_processed_data\"].shape)\n",
    "predator_analysis.data_materials[\"brca_elaspic_interface_processed_data\"].head(3)"
   ]
  },
  {
   "cell_type": "markdown",
   "id": "3fbdf5c0-a27f-4fab-ae51-d99403444452",
   "metadata": {},
   "source": [
    "### 2.3. ELASPIC `Core` and `Interface` Combined"
   ]
  },
  {
   "cell_type": "markdown",
   "id": "bd1af091-08d9-41e6-b8e2-4ab6c1e9b973",
   "metadata": {},
   "source": [
    "Combine two dataframes:\n",
    "+ *brca_elaspic_core_data_simplified*\n",
    "+ *brca_interface_processed*"
   ]
  },
  {
   "cell_type": "code",
   "execution_count": 15,
   "id": "e9039603-76c5-4193-9596-e5ce5e61d189",
   "metadata": {},
   "outputs": [
    {
     "name": "stdout",
     "output_type": "stream",
     "text": [
      "ELASPIC CORE DATA\n"
     ]
    },
    {
     "data": {
      "text/html": [
       "<div>\n",
       "<style scoped>\n",
       "    .dataframe tbody tr th:only-of-type {\n",
       "        vertical-align: middle;\n",
       "    }\n",
       "\n",
       "    .dataframe tbody tr th {\n",
       "        vertical-align: top;\n",
       "    }\n",
       "\n",
       "    .dataframe thead th {\n",
       "        text-align: right;\n",
       "    }\n",
       "</style>\n",
       "<table border=\"1\" class=\"dataframe\">\n",
       "  <thead>\n",
       "    <tr style=\"text-align: right;\">\n",
       "      <th></th>\n",
       "      <th>UniProt_ID</th>\n",
       "      <th>Mutation</th>\n",
       "      <th>Interactor_UniProt_ID</th>\n",
       "    </tr>\n",
       "  </thead>\n",
       "  <tbody>\n",
       "    <tr>\n",
       "      <th>0</th>\n",
       "      <td>P35367</td>\n",
       "      <td>M206V</td>\n",
       "      <td>-</td>\n",
       "    </tr>\n",
       "    <tr>\n",
       "      <th>1</th>\n",
       "      <td>Q96RQ3</td>\n",
       "      <td>R66H</td>\n",
       "      <td>-</td>\n",
       "    </tr>\n",
       "    <tr>\n",
       "      <th>2</th>\n",
       "      <td>O00203</td>\n",
       "      <td>R227H</td>\n",
       "      <td>-</td>\n",
       "    </tr>\n",
       "  </tbody>\n",
       "</table>\n",
       "</div>"
      ],
      "text/plain": [
       "  UniProt_ID Mutation Interactor_UniProt_ID\n",
       "0     P35367    M206V                     -\n",
       "1     Q96RQ3     R66H                     -\n",
       "2     O00203    R227H                     -"
      ]
     },
     "metadata": {},
     "output_type": "display_data"
    },
    {
     "name": "stdout",
     "output_type": "stream",
     "text": [
      "Data dimensions: (12383, 3)\n",
      "\n",
      "ELASPIC INTERFACE DATA\n"
     ]
    },
    {
     "data": {
      "text/html": [
       "<div>\n",
       "<style scoped>\n",
       "    .dataframe tbody tr th:only-of-type {\n",
       "        vertical-align: middle;\n",
       "    }\n",
       "\n",
       "    .dataframe tbody tr th {\n",
       "        vertical-align: top;\n",
       "    }\n",
       "\n",
       "    .dataframe thead th {\n",
       "        text-align: right;\n",
       "    }\n",
       "</style>\n",
       "<table border=\"1\" class=\"dataframe\">\n",
       "  <thead>\n",
       "    <tr style=\"text-align: right;\">\n",
       "      <th></th>\n",
       "      <th>UniProt_ID</th>\n",
       "      <th>Mutation</th>\n",
       "      <th>Interactor_UniProt_ID</th>\n",
       "    </tr>\n",
       "  </thead>\n",
       "  <tbody>\n",
       "    <tr>\n",
       "      <th>0</th>\n",
       "      <td>Q9UKS6</td>\n",
       "      <td>R24H</td>\n",
       "      <td>Q9BY11</td>\n",
       "    </tr>\n",
       "    <tr>\n",
       "      <th>1</th>\n",
       "      <td>Q9UKS6</td>\n",
       "      <td>R24H</td>\n",
       "      <td>Q9UNF0</td>\n",
       "    </tr>\n",
       "    <tr>\n",
       "      <th>2</th>\n",
       "      <td>Q9UKS6</td>\n",
       "      <td>R24H</td>\n",
       "      <td>Q5TZC3</td>\n",
       "    </tr>\n",
       "  </tbody>\n",
       "</table>\n",
       "</div>"
      ],
      "text/plain": [
       "  UniProt_ID Mutation Interactor_UniProt_ID\n",
       "0     Q9UKS6     R24H                Q9BY11\n",
       "1     Q9UKS6     R24H                Q9UNF0\n",
       "2     Q9UKS6     R24H                Q5TZC3"
      ]
     },
     "metadata": {},
     "output_type": "display_data"
    },
    {
     "name": "stdout",
     "output_type": "stream",
     "text": [
      "Data dimensions: (2448, 3)\n"
     ]
    }
   ],
   "source": [
    "print('ELASPIC CORE DATA')\n",
    "display(predator_analysis.data_materials[\"brca_elaspic_core_data_simplified\"].head(3))\n",
    "print('Data dimensions:', predator_analysis.data_materials[\"brca_elaspic_core_data_simplified\"].shape)\n",
    "\n",
    "print('\\nELASPIC INTERFACE DATA')\n",
    "display(predator_analysis.data_materials[\"brca_elaspic_interface_processed_data\"].head(3))\n",
    "print('Data dimensions:', predator_analysis.data_materials[\"brca_elaspic_interface_processed_data\"].shape)"
   ]
  },
  {
   "cell_type": "code",
   "execution_count": 16,
   "id": "9f22e7db-6bd5-4855-90ff-8a917904f05d",
   "metadata": {},
   "outputs": [
    {
     "name": "stdout",
     "output_type": "stream",
     "text": [
      "(14831, 3)\n"
     ]
    },
    {
     "data": {
      "text/html": [
       "<div>\n",
       "<style scoped>\n",
       "    .dataframe tbody tr th:only-of-type {\n",
       "        vertical-align: middle;\n",
       "    }\n",
       "\n",
       "    .dataframe tbody tr th {\n",
       "        vertical-align: top;\n",
       "    }\n",
       "\n",
       "    .dataframe thead th {\n",
       "        text-align: right;\n",
       "    }\n",
       "</style>\n",
       "<table border=\"1\" class=\"dataframe\">\n",
       "  <thead>\n",
       "    <tr style=\"text-align: right;\">\n",
       "      <th></th>\n",
       "      <th>UniProt_ID</th>\n",
       "      <th>Mutation</th>\n",
       "      <th>Interactor_UniProt_ID</th>\n",
       "    </tr>\n",
       "  </thead>\n",
       "  <tbody>\n",
       "    <tr>\n",
       "      <th>0</th>\n",
       "      <td>P35367</td>\n",
       "      <td>M206V</td>\n",
       "      <td>-</td>\n",
       "    </tr>\n",
       "    <tr>\n",
       "      <th>1</th>\n",
       "      <td>Q96RQ3</td>\n",
       "      <td>R66H</td>\n",
       "      <td>-</td>\n",
       "    </tr>\n",
       "    <tr>\n",
       "      <th>2</th>\n",
       "      <td>O00203</td>\n",
       "      <td>R227H</td>\n",
       "      <td>-</td>\n",
       "    </tr>\n",
       "  </tbody>\n",
       "</table>\n",
       "</div>"
      ],
      "text/plain": [
       "  UniProt_ID Mutation Interactor_UniProt_ID\n",
       "0     P35367    M206V                     -\n",
       "1     Q96RQ3     R66H                     -\n",
       "2     O00203    R227H                     -"
      ]
     },
     "execution_count": 16,
     "metadata": {},
     "output_type": "execute_result"
    }
   ],
   "source": [
    "# ELASPIC Core and Interface Combined\n",
    "print(predator_analysis.data_materials[\"brca_elaspic_core_and_interface_data\"].shape)\n",
    "predator_analysis.data_materials[\"brca_elaspic_core_and_interface_data\"].head(3)"
   ]
  },
  {
   "cell_type": "markdown",
   "id": "61328066-277a-42cc-b048-73410c1ace44",
   "metadata": {},
   "source": [
    "## 3. Prediction Datasets"
   ]
  },
  {
   "cell_type": "markdown",
   "id": "43ad9341-9da4-48bc-8da9-d9972da8e9b9",
   "metadata": {},
   "source": [
    "**Note**: For now, prediction data contains all the rows in interface data. It is because we used prediction probabilities, hence made a prediction for each row, without reducing any. However, if it is decided to drop some entries due to invalid prediction case, these datasets will not be the same."
   ]
  },
  {
   "cell_type": "code",
   "execution_count": 17,
   "id": "f11a461a-9357-4afa-82ec-c4ec99d2b208",
   "metadata": {},
   "outputs": [
    {
     "name": "stdout",
     "output_type": "stream",
     "text": [
      "(2292, 4)\n"
     ]
    },
    {
     "data": {
      "text/html": [
       "<div>\n",
       "<style scoped>\n",
       "    .dataframe tbody tr th:only-of-type {\n",
       "        vertical-align: middle;\n",
       "    }\n",
       "\n",
       "    .dataframe tbody tr th {\n",
       "        vertical-align: top;\n",
       "    }\n",
       "\n",
       "    .dataframe thead th {\n",
       "        text-align: right;\n",
       "    }\n",
       "</style>\n",
       "<table border=\"1\" class=\"dataframe\">\n",
       "  <thead>\n",
       "    <tr style=\"text-align: right;\">\n",
       "      <th></th>\n",
       "      <th>Predictions</th>\n",
       "      <th>UniProt_ID</th>\n",
       "      <th>Mutation</th>\n",
       "      <th>Interactor_UniProt_ID</th>\n",
       "    </tr>\n",
       "  </thead>\n",
       "  <tbody>\n",
       "    <tr>\n",
       "      <th>0</th>\n",
       "      <td>0</td>\n",
       "      <td>Q9UKS6</td>\n",
       "      <td>R24H</td>\n",
       "      <td>Q9BY11</td>\n",
       "    </tr>\n",
       "    <tr>\n",
       "      <th>1</th>\n",
       "      <td>1</td>\n",
       "      <td>Q9UKS6</td>\n",
       "      <td>R24H</td>\n",
       "      <td>Q5TZC3</td>\n",
       "    </tr>\n",
       "    <tr>\n",
       "      <th>2</th>\n",
       "      <td>0</td>\n",
       "      <td>Q9UKS6</td>\n",
       "      <td>R24H</td>\n",
       "      <td>Q6FIA3</td>\n",
       "    </tr>\n",
       "  </tbody>\n",
       "</table>\n",
       "</div>"
      ],
      "text/plain": [
       "   Predictions UniProt_ID Mutation Interactor_UniProt_ID\n",
       "0            0     Q9UKS6     R24H                Q9BY11\n",
       "1            1     Q9UKS6     R24H                Q5TZC3\n",
       "2            0     Q9UKS6     R24H                Q6FIA3"
      ]
     },
     "execution_count": 17,
     "metadata": {},
     "output_type": "execute_result"
    }
   ],
   "source": [
    "print(predator_analysis.data_materials[\"brca_prediction_data\"].shape)\n",
    "predator_analysis.data_materials[\"brca_prediction_data\"].head(3)"
   ]
  },
  {
   "cell_type": "markdown",
   "id": "e54fad61-de3b-4fd4-859e-e5a37de47633",
   "metadata": {},
   "source": [
    "## 4. CancerMine Genes"
   ]
  },
  {
   "cell_type": "code",
   "execution_count": 18,
   "id": "7d1fbd14-3992-4570-91f1-ccd12ad4dacf",
   "metadata": {},
   "outputs": [
    {
     "name": "stdout",
     "output_type": "stream",
     "text": [
      "345\n"
     ]
    },
    {
     "data": {
      "text/plain": [
       "['ERBB2', 'MYC', 'BRCA1', 'TP53', 'EGFR']"
      ]
     },
     "execution_count": 18,
     "metadata": {},
     "output_type": "execute_result"
    }
   ],
   "source": [
    "print(len(predator_analysis.data_materials['cancermine_brca_genes']))\n",
    "predator_analysis.data_materials['cancermine_brca_genes'][:5]"
   ]
  },
  {
   "cell_type": "code",
   "execution_count": 19,
   "id": "217ca543-33a5-4a25-ad02-3f09f2d34742",
   "metadata": {},
   "outputs": [
    {
     "name": "stdout",
     "output_type": "stream",
     "text": [
      "1024\n"
     ]
    },
    {
     "data": {
      "text/plain": [
       "['ERBB2', 'ABL1', 'EGFR', 'KRAS', 'BRAF']"
      ]
     },
     "execution_count": 19,
     "metadata": {},
     "output_type": "execute_result"
    }
   ],
   "source": [
    "print(len(predator_analysis.data_materials['cancermine_all_genes']))\n",
    "predator_analysis.data_materials['cancermine_all_genes'][:5]"
   ]
  },
  {
   "cell_type": "markdown",
   "id": "22213c7e-766a-4d19-af7e-094b29cdc51c",
   "metadata": {
    "tags": []
   },
   "source": [
    "# Prepare Analysis"
   ]
  },
  {
   "cell_type": "code",
   "execution_count": 20,
   "id": "09150552-24ee-4488-84a5-9714f00c84b5",
   "metadata": {},
   "outputs": [
    {
     "name": "stdout",
     "output_type": "stream",
     "text": [
      "2021-09-07 22:56:50 |\u001b[36m DEBUG    \u001b[0m| PredatorAnalysis | brca_elaspic_proteins loaded.\n",
      "2021-09-07 22:56:50 |\u001b[36m DEBUG    \u001b[0m| PredatorAnalysis | Number of proteins in ELASPIC brca: 6859\n"
     ]
    },
    {
     "data": {
      "application/vnd.jupyter.widget-view+json": {
       "model_id": "88a185118a9e49d7a2c0a2df4ff57aa7",
       "version_major": 2,
       "version_minor": 0
      },
      "text/plain": [
       "  0%|          | 0/6859 [00:00<?, ?it/s]"
      ]
     },
     "metadata": {},
     "output_type": "display_data"
    },
    {
     "name": "stdout",
     "output_type": "stream",
     "text": [
      "Number of exceptional cases: 17\n",
      "Exceptional cases: [('A6NI47', []), ('P01889', []), ('P04745', ['AMY1A', 'AMY1C']), ('P04908', ['HIST1H2AB', 'HIST1H2AE']), ('P0C0S8', ['HIST1H2AL', 'HIST1H2AG', 'HIST1H2AK', 'HIST1H2AM', 'HIST1H2AI']), ('P12532', ['CKMT1B', 'CKMT1A']), ('P30480', []), ('P30486', []), ('P62805', ['HIST1H4F', 'HIST1H4H', 'HIST1H4E', 'HIST1H4L', 'HIST1H4J', 'HIST1H4K', 'HIST1H4D', 'HIST4H4', 'HIST1H4B']), ('P62807', ['HIST1H2BC', 'HIST1H2BG', 'HIST1H2BE', 'HIST1H2BF', 'HIST1H2BI']), ('P68431', ['HIST1H3B', 'HIST1H3D', 'HIST1H3F', 'HIST1H3E', 'HIST1H3J', 'HIST1H3A', 'HIST1H3I', 'HIST1H3G', 'HIST1H3C']), ('Q13748', ['TUBA3C', 'TUBA3D']), ('Q29836', []), ('Q31610', []), ('Q31612', []), ('Q5VU13', ['VSIG8', 'C1orf204']), ('Q6S5H5', [])]\n",
      "2021-09-07 22:57:38 |\u001b[36m DEBUG    \u001b[0m| PredatorAnalysis | brca_protein_to_gene_dict loaded.\n"
     ]
    },
    {
     "data": {
      "application/vnd.jupyter.widget-view+json": {
       "model_id": "1755f4a491e1469ba550b4bd4d80837a",
       "version_major": 2,
       "version_minor": 0
      },
      "text/plain": [
       "  0%|          | 0/6859 [00:00<?, ?it/s]"
      ]
     },
     "metadata": {},
     "output_type": "display_data"
    },
    {
     "name": "stdout",
     "output_type": "stream",
     "text": [
      "0 \t A0AV96 \t 0\n",
      "1 \t A0AVF1 \t 0\n",
      "2 \t A0AVI2 \t 0\n",
      "3 \t A0AVT1 \t 9\n",
      "4 \t A0FGR9 \t 0\n",
      "2021-09-07 22:57:43 |\u001b[36m DEBUG    \u001b[0m| PredatorAnalysis | brca_protein_to_num_elaspic_interface_entries loaded.\n"
     ]
    },
    {
     "data": {
      "application/vnd.jupyter.widget-view+json": {
       "model_id": "2c3d5ec7397e42ff89d9621fac13ea55",
       "version_major": 2,
       "version_minor": 0
      },
      "text/plain": [
       "  0%|          | 0/6859 [00:00<?, ?it/s]"
      ]
     },
     "metadata": {},
     "output_type": "display_data"
    },
    {
     "name": "stdout",
     "output_type": "stream",
     "text": [
      "0 \t A0AV96 \t 0\n",
      "1 \t A0AVF1 \t 0\n",
      "2 \t A0AVI2 \t 0\n",
      "3 \t A0AVT1 \t 7\n",
      "4 \t A0FGR9 \t 0\n",
      "2021-09-07 22:57:47 |\u001b[36m DEBUG    \u001b[0m| PredatorAnalysis | brca_protein_to_num_unique_interactors loaded.\n",
      "2021-09-07 22:57:47 |\u001b[36m DEBUG    \u001b[0m| PredatorAnalysis | Number of patients in brca: 985.\n"
     ]
    }
   ],
   "source": [
    "predator_analysis.prepare_analysis()"
   ]
  },
  {
   "cell_type": "markdown",
   "id": "bf73c7eb-af69-4c40-900d-8f7b85943dee",
   "metadata": {},
   "source": [
    "## 1. Proteins"
   ]
  },
  {
   "cell_type": "markdown",
   "id": "adb8e3b7-dfc5-4d7f-8dea-0c7fba0376ec",
   "metadata": {},
   "source": [
    "$\\textit{Proteins} = \\textit{ELASPIC Results Core Proteins} + \\textit{ELASPIC Results Interface Proteins}$"
   ]
  },
  {
   "cell_type": "code",
   "execution_count": 21,
   "id": "cb780920-befa-40ea-b295-1936adef9d45",
   "metadata": {},
   "outputs": [
    {
     "name": "stdout",
     "output_type": "stream",
     "text": [
      "Number of proteins in ELASPIC BRCA: 6859\n"
     ]
    }
   ],
   "source": [
    "print('Number of proteins in ELASPIC BRCA:', len(predator_analysis.data_materials[\"brca_elaspic_proteins\"]))"
   ]
  },
  {
   "cell_type": "markdown",
   "id": "98ab5325-a584-4611-b98f-b83c3b6fd7c4",
   "metadata": {},
   "source": [
    "## 2.Genes"
   ]
  },
  {
   "cell_type": "code",
   "execution_count": 22,
   "id": "4ae31b72-618d-4a0a-b57e-f2cc747d3e9e",
   "metadata": {},
   "outputs": [
    {
     "data": {
      "text/plain": [
       "[('A0AV96', 'RBM47'),\n",
       " ('A0AVF1', 'TTC26'),\n",
       " ('A0AVI2', 'FER1L5'),\n",
       " ('A0AVT1', 'UBA6'),\n",
       " ('A0FGR9', 'ESYT3')]"
      ]
     },
     "execution_count": 22,
     "metadata": {},
     "output_type": "execute_result"
    }
   ],
   "source": [
    "# First 5 elements in protein to gene dictionary\n",
    "list(predator_analysis.data_materials[\"brca_protein_to_gene_dict\"].items())[:5]"
   ]
  },
  {
   "cell_type": "markdown",
   "id": "5796f851-9a11-415e-b415-c5584374fe98",
   "metadata": {},
   "source": [
    "## 3. ELASPIC Number of Interface Entries"
   ]
  },
  {
   "cell_type": "code",
   "execution_count": 23,
   "id": "67c47f2c-0149-44de-a7c5-0c4415dcfc29",
   "metadata": {
    "tags": []
   },
   "outputs": [
    {
     "data": {
      "text/plain": [
       "[('A0AV96', 0), ('A0AVF1', 0), ('A0AVI2', 0), ('A0AVT1', 9), ('A0FGR9', 0)]"
      ]
     },
     "execution_count": 23,
     "metadata": {},
     "output_type": "execute_result"
    }
   ],
   "source": [
    "list(predator_analysis.data_materials[\"brca_protein_to_num_elaspic_interface_entries\"].items())[:5]"
   ]
  },
  {
   "cell_type": "code",
   "execution_count": 24,
   "id": "d4f48ae2-8c81-423c-a7ba-e62470abbcbc",
   "metadata": {},
   "outputs": [
    {
     "data": {
      "text/plain": [
       "76"
      ]
     },
     "execution_count": 24,
     "metadata": {},
     "output_type": "execute_result"
    }
   ],
   "source": [
    "# TP53\n",
    "predator_analysis.data_materials[\"brca_protein_to_num_elaspic_interface_entries\"][\"P04637\"]  # 76"
   ]
  },
  {
   "cell_type": "markdown",
   "id": "05c64601-83b7-4065-ac8d-0073396d35e4",
   "metadata": {
    "tags": []
   },
   "source": [
    "## 4. ELASPIC Number of Unique Interactors"
   ]
  },
  {
   "cell_type": "code",
   "execution_count": 25,
   "id": "2336bf46-d54d-4c37-97e3-143c5504605a",
   "metadata": {
    "tags": []
   },
   "outputs": [
    {
     "data": {
      "text/plain": [
       "[('A0AV96', 0), ('A0AVF1', 0), ('A0AVI2', 0), ('A0AVT1', 7), ('A0FGR9', 0)]"
      ]
     },
     "execution_count": 25,
     "metadata": {},
     "output_type": "execute_result"
    }
   ],
   "source": [
    "list(predator_analysis.data_materials[\"brca_protein_to_num_unique_interactors\"].items())[:5]"
   ]
  },
  {
   "cell_type": "code",
   "execution_count": 26,
   "id": "9007a623-6f79-4a4c-8afc-35d0ff29d7ac",
   "metadata": {},
   "outputs": [
    {
     "data": {
      "text/plain": [
       "15"
      ]
     },
     "execution_count": 26,
     "metadata": {},
     "output_type": "execute_result"
    }
   ],
   "source": [
    "# TP53\n",
    "predator_analysis.data_materials[\"brca_protein_to_num_unique_interactors\"][\"P04637\"]  # 76"
   ]
  },
  {
   "cell_type": "markdown",
   "id": "540a87b7-6480-4b91-91d9-dddfe1ec58f5",
   "metadata": {
    "tags": []
   },
   "source": [
    "## 5. Patients"
   ]
  },
  {
   "cell_type": "code",
   "execution_count": 27,
   "id": "147eca05-11eb-4ee6-94c5-8c5dc3bf76d3",
   "metadata": {},
   "outputs": [
    {
     "name": "stdout",
     "output_type": "stream",
     "text": [
      "Number of patients 985.\n"
     ]
    }
   ],
   "source": [
    "print(f'Number of patients {len(predator_analysis.data_materials[\"brca_patients\"])}.')  # 985."
   ]
  },
  {
   "cell_type": "markdown",
   "id": "90ccba85-bcbc-4434-857a-df018a76b014",
   "metadata": {},
   "source": [
    "# Analysis Table Construction"
   ]
  },
  {
   "cell_type": "code",
   "execution_count": 31,
   "id": "b5a45cea-d80d-4cc0-b069-b6e4b1b8eaca",
   "metadata": {},
   "outputs": [
    {
     "name": "stdout",
     "output_type": "stream",
     "text": [
      "2021-09-07 23:00:47 |\u001b[36m DEBUG    \u001b[0m| PredatorAnalysis | Adding `PROTEIN` column ..\n",
      "2021-09-07 23:00:47 |\u001b[36m DEBUG    \u001b[0m| PredatorAnalysis | Adding `GENE` column ..\n",
      "2021-09-07 23:00:47 |\u001b[36m DEBUG    \u001b[0m| PredatorAnalysis | Adding `NUM_ELASPIC_INTERFACE_ENTRIES` column ..\n",
      "2021-09-07 23:00:47 |\u001b[36m DEBUG    \u001b[0m| PredatorAnalysis | Adding `NUM_DISRUPTIVE_ENTRIES` column ..\n",
      "2021-09-07 23:00:52 |\u001b[36m DEBUG    \u001b[0m| PredatorAnalysis | Adding `NUM_INCR_NOEFF_ENTRIES` column ..\n",
      "2021-09-07 23:00:58 |\u001b[36m DEBUG    \u001b[0m| PredatorAnalysis | Adding `NUM_UNIQUE_INTERACTORS` column ..\n",
      "2021-09-07 23:00:58 |\u001b[36m DEBUG    \u001b[0m| PredatorAnalysis | Adding `PATIENT_CORE_COUNT` column ..\n"
     ]
    },
    {
     "data": {
      "application/vnd.jupyter.widget-view+json": {
       "model_id": "e3fe7cc966a44409a6a24e8e4f8bddc2",
       "version_major": 2,
       "version_minor": 0
      },
      "text/plain": [
       "  0%|          | 0/985 [00:00<?, ?it/s]"
      ]
     },
     "metadata": {},
     "output_type": "display_data"
    },
    {
     "name": "stdout",
     "output_type": "stream",
     "text": [
      "2021-09-07 23:05:12 |\u001b[36m DEBUG    \u001b[0m| PredatorAnalysis | Adding `PATIENT_INTERFACE_COUNT` column ..\n"
     ]
    },
    {
     "data": {
      "application/vnd.jupyter.widget-view+json": {
       "model_id": "07e1ced8e0a2475b9d037dcd68c6a6d1",
       "version_major": 2,
       "version_minor": 0
      },
      "text/plain": [
       "  0%|          | 0/985 [00:00<?, ?it/s]"
      ]
     },
     "metadata": {},
     "output_type": "display_data"
    },
    {
     "name": "stdout",
     "output_type": "stream",
     "text": [
      "2021-09-07 23:09:28 |\u001b[36m DEBUG    \u001b[0m| PredatorAnalysis | Adding `BASELINE` and `OUR_METHOD` columns ..\n",
      "Adding +0 when `core_flag=1`\n"
     ]
    },
    {
     "data": {
      "application/vnd.jupyter.widget-view+json": {
       "model_id": "548d58abf2da4296a28c4257610c09b1",
       "version_major": 2,
       "version_minor": 0
      },
      "text/plain": [
       "  0%|          | 0/985 [00:00<?, ?it/s]"
      ]
     },
     "metadata": {},
     "output_type": "display_data"
    },
    {
     "name": "stdout",
     "output_type": "stream",
     "text": [
      "2021-09-07 23:13:51 |\u001b[36m DEBUG    \u001b[0m| PredatorAnalysis | Adding `OUR_METHOD / BASELINE` column ..\n",
      "2021-09-07 23:13:51 |\u001b[36m DEBUG    \u001b[0m| PredatorAnalysis | Adding `ELASPIC_COVERAGE` column ..\n"
     ]
    },
    {
     "data": {
      "application/vnd.jupyter.widget-view+json": {
       "model_id": "66f3f52ec7974c35b56856768548f2e2",
       "version_major": 2,
       "version_minor": 0
      },
      "text/plain": [
       "  0%|          | 0/985 [00:00<?, ?it/s]"
      ]
     },
     "metadata": {},
     "output_type": "display_data"
    },
    {
     "name": "stdout",
     "output_type": "stream",
     "text": [
      "2021-09-07 23:16:49 |\u001b[36m DEBUG    \u001b[0m| PredatorAnalysis | Adding Reference Dataset Columns: General and Cohort Specific columns ..\n",
      "2021-09-07 23:16:49 |\u001b[36m DEBUG    \u001b[0m| PredatorAnalysis | brca_preliminary_data is constructed.\n"
     ]
    }
   ],
   "source": [
    "predator_analysis.construct_analysis_table()"
   ]
  },
  {
   "cell_type": "code",
   "execution_count": 32,
   "id": "12e31889-1a88-4136-931a-6e416be3b023",
   "metadata": {},
   "outputs": [
    {
     "data": {
      "text/html": [
       "<div>\n",
       "<style scoped>\n",
       "    .dataframe tbody tr th:only-of-type {\n",
       "        vertical-align: middle;\n",
       "    }\n",
       "\n",
       "    .dataframe tbody tr th {\n",
       "        vertical-align: top;\n",
       "    }\n",
       "\n",
       "    .dataframe thead th {\n",
       "        text-align: right;\n",
       "    }\n",
       "</style>\n",
       "<table border=\"1\" class=\"dataframe\">\n",
       "  <thead>\n",
       "    <tr style=\"text-align: right;\">\n",
       "      <th></th>\n",
       "      <th>PROTEIN</th>\n",
       "      <th>GENE</th>\n",
       "      <th>NUM_ELASPIC_INTERFACE_ENTRIES</th>\n",
       "      <th>NUM_DISRUPTIVE_ENTRIES</th>\n",
       "      <th>NUM_INCR_NOEFF_ENTRIES</th>\n",
       "      <th>NUM_UNIQUE_INTERACTORS</th>\n",
       "      <th>PATIENT_CORE_COUNT</th>\n",
       "      <th>PATIENT_INTERFACE_COUNT</th>\n",
       "      <th>BASELINE</th>\n",
       "      <th>OUR_METHOD</th>\n",
       "      <th>OUR_METHOD/BASELINE</th>\n",
       "      <th>ELASPIC_COVERAGE</th>\n",
       "      <th>CancerMine_STATUS</th>\n",
       "      <th>CancerMine_STATUS (BRCA)</th>\n",
       "    </tr>\n",
       "  </thead>\n",
       "  <tbody>\n",
       "    <tr>\n",
       "      <th>0</th>\n",
       "      <td>A0AV96</td>\n",
       "      <td>RBM47</td>\n",
       "      <td>0</td>\n",
       "      <td>0</td>\n",
       "      <td>0</td>\n",
       "      <td>0</td>\n",
       "      <td>2</td>\n",
       "      <td>0</td>\n",
       "      <td>0</td>\n",
       "      <td>0</td>\n",
       "      <td>NaN</td>\n",
       "      <td>2</td>\n",
       "      <td>-</td>\n",
       "      <td>-</td>\n",
       "    </tr>\n",
       "    <tr>\n",
       "      <th>1</th>\n",
       "      <td>A0AVF1</td>\n",
       "      <td>TTC26</td>\n",
       "      <td>0</td>\n",
       "      <td>0</td>\n",
       "      <td>0</td>\n",
       "      <td>0</td>\n",
       "      <td>1</td>\n",
       "      <td>0</td>\n",
       "      <td>0</td>\n",
       "      <td>0</td>\n",
       "      <td>NaN</td>\n",
       "      <td>1</td>\n",
       "      <td>-</td>\n",
       "      <td>-</td>\n",
       "    </tr>\n",
       "    <tr>\n",
       "      <th>2</th>\n",
       "      <td>A0AVI2</td>\n",
       "      <td>FER1L5</td>\n",
       "      <td>0</td>\n",
       "      <td>0</td>\n",
       "      <td>0</td>\n",
       "      <td>0</td>\n",
       "      <td>5</td>\n",
       "      <td>0</td>\n",
       "      <td>0</td>\n",
       "      <td>0</td>\n",
       "      <td>NaN</td>\n",
       "      <td>5</td>\n",
       "      <td>-</td>\n",
       "      <td>-</td>\n",
       "    </tr>\n",
       "    <tr>\n",
       "      <th>3</th>\n",
       "      <td>A0AVT1</td>\n",
       "      <td>UBA6</td>\n",
       "      <td>9</td>\n",
       "      <td>7</td>\n",
       "      <td>2</td>\n",
       "      <td>7</td>\n",
       "      <td>3</td>\n",
       "      <td>3</td>\n",
       "      <td>9</td>\n",
       "      <td>7</td>\n",
       "      <td>0.777778</td>\n",
       "      <td>6</td>\n",
       "      <td>-</td>\n",
       "      <td>-</td>\n",
       "    </tr>\n",
       "    <tr>\n",
       "      <th>4</th>\n",
       "      <td>A0FGR9</td>\n",
       "      <td>ESYT3</td>\n",
       "      <td>0</td>\n",
       "      <td>0</td>\n",
       "      <td>0</td>\n",
       "      <td>0</td>\n",
       "      <td>1</td>\n",
       "      <td>0</td>\n",
       "      <td>0</td>\n",
       "      <td>0</td>\n",
       "      <td>NaN</td>\n",
       "      <td>1</td>\n",
       "      <td>-</td>\n",
       "      <td>-</td>\n",
       "    </tr>\n",
       "    <tr>\n",
       "      <th>...</th>\n",
       "      <td>...</td>\n",
       "      <td>...</td>\n",
       "      <td>...</td>\n",
       "      <td>...</td>\n",
       "      <td>...</td>\n",
       "      <td>...</td>\n",
       "      <td>...</td>\n",
       "      <td>...</td>\n",
       "      <td>...</td>\n",
       "      <td>...</td>\n",
       "      <td>...</td>\n",
       "      <td>...</td>\n",
       "      <td>...</td>\n",
       "      <td>...</td>\n",
       "    </tr>\n",
       "    <tr>\n",
       "      <th>6854</th>\n",
       "      <td>Q9Y6X2</td>\n",
       "      <td>PIAS3</td>\n",
       "      <td>0</td>\n",
       "      <td>0</td>\n",
       "      <td>0</td>\n",
       "      <td>0</td>\n",
       "      <td>1</td>\n",
       "      <td>0</td>\n",
       "      <td>0</td>\n",
       "      <td>0</td>\n",
       "      <td>NaN</td>\n",
       "      <td>1</td>\n",
       "      <td>-</td>\n",
       "      <td>-</td>\n",
       "    </tr>\n",
       "    <tr>\n",
       "      <th>6855</th>\n",
       "      <td>Q9Y6X5</td>\n",
       "      <td>ENPP4</td>\n",
       "      <td>0</td>\n",
       "      <td>0</td>\n",
       "      <td>0</td>\n",
       "      <td>0</td>\n",
       "      <td>4</td>\n",
       "      <td>0</td>\n",
       "      <td>0</td>\n",
       "      <td>0</td>\n",
       "      <td>NaN</td>\n",
       "      <td>4</td>\n",
       "      <td>-</td>\n",
       "      <td>-</td>\n",
       "    </tr>\n",
       "    <tr>\n",
       "      <th>6856</th>\n",
       "      <td>Q9Y6X6</td>\n",
       "      <td>MYO16</td>\n",
       "      <td>2</td>\n",
       "      <td>1</td>\n",
       "      <td>1</td>\n",
       "      <td>2</td>\n",
       "      <td>5</td>\n",
       "      <td>1</td>\n",
       "      <td>2</td>\n",
       "      <td>1</td>\n",
       "      <td>0.500000</td>\n",
       "      <td>6</td>\n",
       "      <td>-</td>\n",
       "      <td>-</td>\n",
       "    </tr>\n",
       "    <tr>\n",
       "      <th>6857</th>\n",
       "      <td>Q9Y6Y0</td>\n",
       "      <td>IVNS1ABP</td>\n",
       "      <td>0</td>\n",
       "      <td>0</td>\n",
       "      <td>0</td>\n",
       "      <td>0</td>\n",
       "      <td>1</td>\n",
       "      <td>0</td>\n",
       "      <td>0</td>\n",
       "      <td>0</td>\n",
       "      <td>NaN</td>\n",
       "      <td>1</td>\n",
       "      <td>-</td>\n",
       "      <td>-</td>\n",
       "    </tr>\n",
       "    <tr>\n",
       "      <th>6858</th>\n",
       "      <td>Q9Y6Z7</td>\n",
       "      <td>COLEC10</td>\n",
       "      <td>0</td>\n",
       "      <td>0</td>\n",
       "      <td>0</td>\n",
       "      <td>0</td>\n",
       "      <td>1</td>\n",
       "      <td>0</td>\n",
       "      <td>0</td>\n",
       "      <td>0</td>\n",
       "      <td>NaN</td>\n",
       "      <td>1</td>\n",
       "      <td>-</td>\n",
       "      <td>-</td>\n",
       "    </tr>\n",
       "  </tbody>\n",
       "</table>\n",
       "<p>6859 rows × 14 columns</p>\n",
       "</div>"
      ],
      "text/plain": [
       "     PROTEIN      GENE  NUM_ELASPIC_INTERFACE_ENTRIES  NUM_DISRUPTIVE_ENTRIES  \\\n",
       "0     A0AV96     RBM47                              0                       0   \n",
       "1     A0AVF1     TTC26                              0                       0   \n",
       "2     A0AVI2    FER1L5                              0                       0   \n",
       "3     A0AVT1      UBA6                              9                       7   \n",
       "4     A0FGR9     ESYT3                              0                       0   \n",
       "...      ...       ...                            ...                     ...   \n",
       "6854  Q9Y6X2     PIAS3                              0                       0   \n",
       "6855  Q9Y6X5     ENPP4                              0                       0   \n",
       "6856  Q9Y6X6     MYO16                              2                       1   \n",
       "6857  Q9Y6Y0  IVNS1ABP                              0                       0   \n",
       "6858  Q9Y6Z7   COLEC10                              0                       0   \n",
       "\n",
       "      NUM_INCR_NOEFF_ENTRIES  NUM_UNIQUE_INTERACTORS  PATIENT_CORE_COUNT  \\\n",
       "0                          0                       0                   2   \n",
       "1                          0                       0                   1   \n",
       "2                          0                       0                   5   \n",
       "3                          2                       7                   3   \n",
       "4                          0                       0                   1   \n",
       "...                      ...                     ...                 ...   \n",
       "6854                       0                       0                   1   \n",
       "6855                       0                       0                   4   \n",
       "6856                       1                       2                   5   \n",
       "6857                       0                       0                   1   \n",
       "6858                       0                       0                   1   \n",
       "\n",
       "      PATIENT_INTERFACE_COUNT  BASELINE  OUR_METHOD  OUR_METHOD/BASELINE  \\\n",
       "0                           0         0           0                  NaN   \n",
       "1                           0         0           0                  NaN   \n",
       "2                           0         0           0                  NaN   \n",
       "3                           3         9           7             0.777778   \n",
       "4                           0         0           0                  NaN   \n",
       "...                       ...       ...         ...                  ...   \n",
       "6854                        0         0           0                  NaN   \n",
       "6855                        0         0           0                  NaN   \n",
       "6856                        1         2           1             0.500000   \n",
       "6857                        0         0           0                  NaN   \n",
       "6858                        0         0           0                  NaN   \n",
       "\n",
       "      ELASPIC_COVERAGE CancerMine_STATUS CancerMine_STATUS (BRCA)  \n",
       "0                    2                 -                        -  \n",
       "1                    1                 -                        -  \n",
       "2                    5                 -                        -  \n",
       "3                    6                 -                        -  \n",
       "4                    1                 -                        -  \n",
       "...                ...               ...                      ...  \n",
       "6854                 1                 -                        -  \n",
       "6855                 4                 -                        -  \n",
       "6856                 6                 -                        -  \n",
       "6857                 1                 -                        -  \n",
       "6858                 1                 -                        -  \n",
       "\n",
       "[6859 rows x 14 columns]"
      ]
     },
     "execution_count": 32,
     "metadata": {},
     "output_type": "execute_result"
    }
   ],
   "source": [
    "predator_analysis.data_materials[\"brca_preliminary_data\"]"
   ]
  },
  {
   "cell_type": "code",
   "execution_count": 34,
   "id": "4c3a0610-5d0d-48a4-af0d-97f4784c9260",
   "metadata": {},
   "outputs": [],
   "source": [
    "predator_analysis.data_materials[\"brca_preliminary_data\"].to_csv(\"PredatorAnalysis_2021-09-07.csv\")"
   ]
  },
  {
   "cell_type": "code",
   "execution_count": null,
   "id": "06cead2d-575f-4f26-9212-72bf8e6cf204",
   "metadata": {},
   "outputs": [],
   "source": []
  },
  {
   "cell_type": "code",
   "execution_count": null,
   "id": "fc3dc56b-3b0c-4bac-a0ee-401300a0e172",
   "metadata": {},
   "outputs": [],
   "source": []
  },
  {
   "cell_type": "code",
   "execution_count": null,
   "id": "5dd7fbf8-c90b-42ed-8ad8-1ee31fc6d3c7",
   "metadata": {},
   "outputs": [],
   "source": []
  },
  {
   "cell_type": "code",
   "execution_count": null,
   "id": "4e8860db-ab43-4515-8027-c72707c1ec00",
   "metadata": {},
   "outputs": [],
   "source": []
  },
  {
   "cell_type": "code",
   "execution_count": null,
   "id": "fb1cbbe3-df60-40c7-b562-2e42a6b0838d",
   "metadata": {},
   "outputs": [],
   "source": []
  },
  {
   "cell_type": "code",
   "execution_count": null,
   "id": "c1967c03-b582-43e7-a371-5ba782ba47d6",
   "metadata": {},
   "outputs": [],
   "source": []
  },
  {
   "cell_type": "code",
   "execution_count": null,
   "id": "9ffdb10c-5e5a-473f-9608-43c01e797600",
   "metadata": {},
   "outputs": [],
   "source": []
  },
  {
   "cell_type": "code",
   "execution_count": null,
   "id": "230dde32-acb3-4b91-8767-5c2814345ffd",
   "metadata": {},
   "outputs": [],
   "source": []
  },
  {
   "cell_type": "markdown",
   "id": "c37c3c92-dbd9-464b-8d87-b4af204fc14b",
   "metadata": {
    "tags": []
   },
   "source": [
    "# Run Analysis"
   ]
  },
  {
   "cell_type": "markdown",
   "id": "9250c648-af50-43e6-9986-663486b06482",
   "metadata": {
    "tags": []
   },
   "source": [
    "# ROC Curve Analysis"
   ]
  },
  {
   "cell_type": "code",
   "execution_count": 4,
   "id": "47319f19-bd98-44ef-98a3-fffc6459a086",
   "metadata": {},
   "outputs": [
    {
     "name": "stdout",
     "output_type": "stream",
     "text": [
      "2021-09-07 11:13:43 |\u001b[36m DEBUG    \u001b[0m| helpers_analysis.loaders loaders | Hello there!\n"
     ]
    }
   ],
   "source": [
    "from helpers_analysis import loaders"
   ]
  },
  {
   "cell_type": "code",
   "execution_count": null,
   "id": "77a1fdf9-7922-4cb7-8c21-78710e3fae9b",
   "metadata": {},
   "outputs": [],
   "source": []
  },
  {
   "cell_type": "code",
   "execution_count": null,
   "id": "0f6b3801-c473-48c2-9de8-3e9f50260b1c",
   "metadata": {},
   "outputs": [],
   "source": []
  }
 ],
 "metadata": {
  "kernelspec": {
   "display_name": "Predicting-Mutation-Effects",
   "language": "python",
   "name": "predicting-mutation-effects"
  },
  "language_info": {
   "codemirror_mode": {
    "name": "ipython",
    "version": 3
   },
   "file_extension": ".py",
   "mimetype": "text/x-python",
   "name": "python",
   "nbconvert_exporter": "python",
   "pygments_lexer": "ipython3",
   "version": "3.8.10"
  }
 },
 "nbformat": 4,
 "nbformat_minor": 5
}
