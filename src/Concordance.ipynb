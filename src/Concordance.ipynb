{
 "cells": [
  {
   "cell_type": "code",
   "execution_count": 1,
   "id": "a5772dc6-0ff8-4f6a-a791-fe1f6d27d654",
   "metadata": {},
   "outputs": [],
   "source": [
    "import pandas as pd\n",
    "from sklearn.datasets import load_wine"
   ]
  },
  {
   "cell_type": "code",
   "execution_count": 2,
   "id": "8c926a5b-6e5e-46a3-8bfb-86f4bfcff487",
   "metadata": {},
   "outputs": [
    {
     "name": "stdout",
     "output_type": "stream",
     "text": [
      "(178, 14)\n"
     ]
    },
    {
     "data": {
      "text/html": [
       "<div>\n",
       "<style scoped>\n",
       "    .dataframe tbody tr th:only-of-type {\n",
       "        vertical-align: middle;\n",
       "    }\n",
       "\n",
       "    .dataframe tbody tr th {\n",
       "        vertical-align: top;\n",
       "    }\n",
       "\n",
       "    .dataframe thead th {\n",
       "        text-align: right;\n",
       "    }\n",
       "</style>\n",
       "<table border=\"1\" class=\"dataframe\">\n",
       "  <thead>\n",
       "    <tr style=\"text-align: right;\">\n",
       "      <th></th>\n",
       "      <th>alcohol</th>\n",
       "      <th>malic_acid</th>\n",
       "      <th>ash</th>\n",
       "      <th>alcalinity_of_ash</th>\n",
       "      <th>magnesium</th>\n",
       "      <th>total_phenols</th>\n",
       "      <th>flavanoids</th>\n",
       "      <th>nonflavanoid_phenols</th>\n",
       "      <th>proanthocyanins</th>\n",
       "      <th>color_intensity</th>\n",
       "      <th>hue</th>\n",
       "      <th>od280/od315_of_diluted_wines</th>\n",
       "      <th>proline</th>\n",
       "      <th>target</th>\n",
       "    </tr>\n",
       "  </thead>\n",
       "  <tbody>\n",
       "    <tr>\n",
       "      <th>0</th>\n",
       "      <td>14.23</td>\n",
       "      <td>1.71</td>\n",
       "      <td>2.43</td>\n",
       "      <td>15.6</td>\n",
       "      <td>127.0</td>\n",
       "      <td>2.80</td>\n",
       "      <td>3.06</td>\n",
       "      <td>0.28</td>\n",
       "      <td>2.29</td>\n",
       "      <td>5.64</td>\n",
       "      <td>1.04</td>\n",
       "      <td>3.92</td>\n",
       "      <td>1065.0</td>\n",
       "      <td>0</td>\n",
       "    </tr>\n",
       "    <tr>\n",
       "      <th>1</th>\n",
       "      <td>13.20</td>\n",
       "      <td>1.78</td>\n",
       "      <td>2.14</td>\n",
       "      <td>11.2</td>\n",
       "      <td>100.0</td>\n",
       "      <td>2.65</td>\n",
       "      <td>2.76</td>\n",
       "      <td>0.26</td>\n",
       "      <td>1.28</td>\n",
       "      <td>4.38</td>\n",
       "      <td>1.05</td>\n",
       "      <td>3.40</td>\n",
       "      <td>1050.0</td>\n",
       "      <td>0</td>\n",
       "    </tr>\n",
       "    <tr>\n",
       "      <th>2</th>\n",
       "      <td>13.16</td>\n",
       "      <td>2.36</td>\n",
       "      <td>2.67</td>\n",
       "      <td>18.6</td>\n",
       "      <td>101.0</td>\n",
       "      <td>2.80</td>\n",
       "      <td>3.24</td>\n",
       "      <td>0.30</td>\n",
       "      <td>2.81</td>\n",
       "      <td>5.68</td>\n",
       "      <td>1.03</td>\n",
       "      <td>3.17</td>\n",
       "      <td>1185.0</td>\n",
       "      <td>0</td>\n",
       "    </tr>\n",
       "    <tr>\n",
       "      <th>3</th>\n",
       "      <td>14.37</td>\n",
       "      <td>1.95</td>\n",
       "      <td>2.50</td>\n",
       "      <td>16.8</td>\n",
       "      <td>113.0</td>\n",
       "      <td>3.85</td>\n",
       "      <td>3.49</td>\n",
       "      <td>0.24</td>\n",
       "      <td>2.18</td>\n",
       "      <td>7.80</td>\n",
       "      <td>0.86</td>\n",
       "      <td>3.45</td>\n",
       "      <td>1480.0</td>\n",
       "      <td>0</td>\n",
       "    </tr>\n",
       "    <tr>\n",
       "      <th>4</th>\n",
       "      <td>13.24</td>\n",
       "      <td>2.59</td>\n",
       "      <td>2.87</td>\n",
       "      <td>21.0</td>\n",
       "      <td>118.0</td>\n",
       "      <td>2.80</td>\n",
       "      <td>2.69</td>\n",
       "      <td>0.39</td>\n",
       "      <td>1.82</td>\n",
       "      <td>4.32</td>\n",
       "      <td>1.04</td>\n",
       "      <td>2.93</td>\n",
       "      <td>735.0</td>\n",
       "      <td>0</td>\n",
       "    </tr>\n",
       "  </tbody>\n",
       "</table>\n",
       "</div>"
      ],
      "text/plain": [
       "   alcohol  malic_acid   ash  alcalinity_of_ash  magnesium  total_phenols  \\\n",
       "0    14.23        1.71  2.43               15.6      127.0           2.80   \n",
       "1    13.20        1.78  2.14               11.2      100.0           2.65   \n",
       "2    13.16        2.36  2.67               18.6      101.0           2.80   \n",
       "3    14.37        1.95  2.50               16.8      113.0           3.85   \n",
       "4    13.24        2.59  2.87               21.0      118.0           2.80   \n",
       "\n",
       "   flavanoids  nonflavanoid_phenols  proanthocyanins  color_intensity   hue  \\\n",
       "0        3.06                  0.28             2.29             5.64  1.04   \n",
       "1        2.76                  0.26             1.28             4.38  1.05   \n",
       "2        3.24                  0.30             2.81             5.68  1.03   \n",
       "3        3.49                  0.24             2.18             7.80  0.86   \n",
       "4        2.69                  0.39             1.82             4.32  1.04   \n",
       "\n",
       "   od280/od315_of_diluted_wines  proline  target  \n",
       "0                          3.92   1065.0       0  \n",
       "1                          3.40   1050.0       0  \n",
       "2                          3.17   1185.0       0  \n",
       "3                          3.45   1480.0       0  \n",
       "4                          2.93    735.0       0  "
      ]
     },
     "execution_count": 2,
     "metadata": {},
     "output_type": "execute_result"
    }
   ],
   "source": [
    "data = load_wine(as_frame=True)\n",
    "wine_data = data.frame\n",
    "print(wine_data.shape)\n",
    "wine_data.head()"
   ]
  },
  {
   "cell_type": "code",
   "execution_count": 3,
   "id": "ceb33643-db53-4aee-ac6b-259e1f5eb06d",
   "metadata": {},
   "outputs": [
    {
     "name": "stdout",
     "output_type": "stream",
     "text": [
      "(130, 14)\n"
     ]
    },
    {
     "data": {
      "text/html": [
       "<div>\n",
       "<style scoped>\n",
       "    .dataframe tbody tr th:only-of-type {\n",
       "        vertical-align: middle;\n",
       "    }\n",
       "\n",
       "    .dataframe tbody tr th {\n",
       "        vertical-align: top;\n",
       "    }\n",
       "\n",
       "    .dataframe thead th {\n",
       "        text-align: right;\n",
       "    }\n",
       "</style>\n",
       "<table border=\"1\" class=\"dataframe\">\n",
       "  <thead>\n",
       "    <tr style=\"text-align: right;\">\n",
       "      <th></th>\n",
       "      <th>alcohol</th>\n",
       "      <th>malic_acid</th>\n",
       "      <th>ash</th>\n",
       "      <th>alcalinity_of_ash</th>\n",
       "      <th>magnesium</th>\n",
       "      <th>total_phenols</th>\n",
       "      <th>flavanoids</th>\n",
       "      <th>nonflavanoid_phenols</th>\n",
       "      <th>proanthocyanins</th>\n",
       "      <th>color_intensity</th>\n",
       "      <th>hue</th>\n",
       "      <th>od280/od315_of_diluted_wines</th>\n",
       "      <th>proline</th>\n",
       "      <th>target</th>\n",
       "    </tr>\n",
       "  </thead>\n",
       "  <tbody>\n",
       "    <tr>\n",
       "      <th>0</th>\n",
       "      <td>14.23</td>\n",
       "      <td>1.71</td>\n",
       "      <td>2.43</td>\n",
       "      <td>15.6</td>\n",
       "      <td>127.0</td>\n",
       "      <td>2.80</td>\n",
       "      <td>3.06</td>\n",
       "      <td>0.28</td>\n",
       "      <td>2.29</td>\n",
       "      <td>5.64</td>\n",
       "      <td>1.04</td>\n",
       "      <td>3.92</td>\n",
       "      <td>1065.0</td>\n",
       "      <td>0</td>\n",
       "    </tr>\n",
       "    <tr>\n",
       "      <th>1</th>\n",
       "      <td>13.20</td>\n",
       "      <td>1.78</td>\n",
       "      <td>2.14</td>\n",
       "      <td>11.2</td>\n",
       "      <td>100.0</td>\n",
       "      <td>2.65</td>\n",
       "      <td>2.76</td>\n",
       "      <td>0.26</td>\n",
       "      <td>1.28</td>\n",
       "      <td>4.38</td>\n",
       "      <td>1.05</td>\n",
       "      <td>3.40</td>\n",
       "      <td>1050.0</td>\n",
       "      <td>0</td>\n",
       "    </tr>\n",
       "    <tr>\n",
       "      <th>2</th>\n",
       "      <td>13.16</td>\n",
       "      <td>2.36</td>\n",
       "      <td>2.67</td>\n",
       "      <td>18.6</td>\n",
       "      <td>101.0</td>\n",
       "      <td>2.80</td>\n",
       "      <td>3.24</td>\n",
       "      <td>0.30</td>\n",
       "      <td>2.81</td>\n",
       "      <td>5.68</td>\n",
       "      <td>1.03</td>\n",
       "      <td>3.17</td>\n",
       "      <td>1185.0</td>\n",
       "      <td>0</td>\n",
       "    </tr>\n",
       "    <tr>\n",
       "      <th>3</th>\n",
       "      <td>14.37</td>\n",
       "      <td>1.95</td>\n",
       "      <td>2.50</td>\n",
       "      <td>16.8</td>\n",
       "      <td>113.0</td>\n",
       "      <td>3.85</td>\n",
       "      <td>3.49</td>\n",
       "      <td>0.24</td>\n",
       "      <td>2.18</td>\n",
       "      <td>7.80</td>\n",
       "      <td>0.86</td>\n",
       "      <td>3.45</td>\n",
       "      <td>1480.0</td>\n",
       "      <td>0</td>\n",
       "    </tr>\n",
       "    <tr>\n",
       "      <th>4</th>\n",
       "      <td>13.24</td>\n",
       "      <td>2.59</td>\n",
       "      <td>2.87</td>\n",
       "      <td>21.0</td>\n",
       "      <td>118.0</td>\n",
       "      <td>2.80</td>\n",
       "      <td>2.69</td>\n",
       "      <td>0.39</td>\n",
       "      <td>1.82</td>\n",
       "      <td>4.32</td>\n",
       "      <td>1.04</td>\n",
       "      <td>2.93</td>\n",
       "      <td>735.0</td>\n",
       "      <td>0</td>\n",
       "    </tr>\n",
       "  </tbody>\n",
       "</table>\n",
       "</div>"
      ],
      "text/plain": [
       "   alcohol  malic_acid   ash  alcalinity_of_ash  magnesium  total_phenols  \\\n",
       "0    14.23        1.71  2.43               15.6      127.0           2.80   \n",
       "1    13.20        1.78  2.14               11.2      100.0           2.65   \n",
       "2    13.16        2.36  2.67               18.6      101.0           2.80   \n",
       "3    14.37        1.95  2.50               16.8      113.0           3.85   \n",
       "4    13.24        2.59  2.87               21.0      118.0           2.80   \n",
       "\n",
       "   flavanoids  nonflavanoid_phenols  proanthocyanins  color_intensity   hue  \\\n",
       "0        3.06                  0.28             2.29             5.64  1.04   \n",
       "1        2.76                  0.26             1.28             4.38  1.05   \n",
       "2        3.24                  0.30             2.81             5.68  1.03   \n",
       "3        3.49                  0.24             2.18             7.80  0.86   \n",
       "4        2.69                  0.39             1.82             4.32  1.04   \n",
       "\n",
       "   od280/od315_of_diluted_wines  proline  target  \n",
       "0                          3.92   1065.0       0  \n",
       "1                          3.40   1050.0       0  \n",
       "2                          3.17   1185.0       0  \n",
       "3                          3.45   1480.0       0  \n",
       "4                          2.93    735.0       0  "
      ]
     },
     "execution_count": 3,
     "metadata": {},
     "output_type": "execute_result"
    }
   ],
   "source": [
    "wine_data = wine_data[wine_data['target'].isin([0, 1])]\n",
    "print(wine_data.shape)\n",
    "wine_data.head()"
   ]
  },
  {
   "cell_type": "code",
   "execution_count": 4,
   "id": "f1e5e2a2-05ea-4da8-a98e-7ce2d6f0fac8",
   "metadata": {},
   "outputs": [
    {
     "data": {
      "text/plain": [
       "1    71\n",
       "0    59\n",
       "Name: target, dtype: int64"
      ]
     },
     "execution_count": 4,
     "metadata": {},
     "output_type": "execute_result"
    }
   ],
   "source": [
    "wine_data['target'].value_counts()"
   ]
  },
  {
   "cell_type": "code",
   "execution_count": 5,
   "id": "5c90d366-46d8-454f-90c1-63c2cf48ac1d",
   "metadata": {},
   "outputs": [],
   "source": [
    "X = wine_data.drop('target', axis='columns')\n",
    "y = wine_data['target'].copy()"
   ]
  },
  {
   "cell_type": "code",
   "execution_count": 6,
   "id": "1b18a98f-4943-4608-ba08-a76158ee0bd7",
   "metadata": {},
   "outputs": [],
   "source": [
    "from sklearn.model_selection import train_test_split"
   ]
  },
  {
   "cell_type": "code",
   "execution_count": 12,
   "id": "ffdec025-2880-4f88-b143-2edf4c1315c6",
   "metadata": {},
   "outputs": [
    {
     "data": {
      "text/plain": [
       "((104, 13), (26, 13), (104,), (26,))"
      ]
     },
     "execution_count": 12,
     "metadata": {},
     "output_type": "execute_result"
    }
   ],
   "source": [
    "X_train, X_test, y_train, y_test = train_test_split(X, y, test_size=0.2, random_state=42, stratify=y)\n",
    "X_train.shape, X_test.shape, y_train.shape, y_test.shape, "
   ]
  },
  {
   "cell_type": "code",
   "execution_count": 13,
   "id": "280b32a4-08bc-4326-bfa7-df7a4af99804",
   "metadata": {},
   "outputs": [],
   "source": [
    "from sklearn.ensemble import RandomForestClassifier\n",
    "from sklearn.model_selection import cross_val_predict\n",
    "from sklearn.model_selection import cross_val_score"
   ]
  },
  {
   "cell_type": "code",
   "execution_count": 14,
   "id": "46d4bca7-1fe9-4186-9a10-0f098b82731a",
   "metadata": {},
   "outputs": [],
   "source": [
    "clf = RandomForestClassifier(random_state=42)"
   ]
  },
  {
   "cell_type": "code",
   "execution_count": 15,
   "id": "57fe04cd-6c02-4836-aae8-629d519d75ea",
   "metadata": {},
   "outputs": [],
   "source": [
    "from helpers.machine_learning_utils import cross_validation_options"
   ]
  },
  {
   "cell_type": "code",
   "execution_count": 16,
   "id": "a13dc7fa-9097-4d0a-a212-c640620fe88c",
   "metadata": {},
   "outputs": [],
   "source": [
    "cv_option_param, n_jobs_param = cross_validation_options('skf_10')"
   ]
  },
  {
   "cell_type": "code",
   "execution_count": 17,
   "id": "cec89981-869c-41e1-9f00-a9e29f15aa12",
   "metadata": {},
   "outputs": [],
   "source": [
    "y_pred = cross_val_predict(clf, X_train, y_train, cv=cv_option_param, n_jobs=n_jobs_param)"
   ]
  },
  {
   "cell_type": "code",
   "execution_count": 18,
   "id": "3d1a7e6e-9ffa-45b5-8e6b-e73860501b91",
   "metadata": {},
   "outputs": [],
   "source": [
    "from sklearn.metrics import accuracy_score, balanced_accuracy_score"
   ]
  },
  {
   "cell_type": "code",
   "execution_count": 19,
   "id": "2c55c750-60ba-4236-8175-3972afc79353",
   "metadata": {},
   "outputs": [
    {
     "name": "stdout",
     "output_type": "stream",
     "text": [
      "accuracy_score: 0.990\n",
      "balanced_accuracy_score: 0.991\n"
     ]
    }
   ],
   "source": [
    "print(\"accuracy_score: {:.3f}\".format(accuracy_score(y_train, y_pred)))\n",
    "print(\"balanced_accuracy_score: {:.3f}\".format(balanced_accuracy_score(y_train, y_pred)))"
   ]
  },
  {
   "cell_type": "code",
   "execution_count": 20,
   "id": "adb54ce0-4fb9-429d-83a5-e88f5700b969",
   "metadata": {},
   "outputs": [
    {
     "data": {
      "text/plain": [
       "0.99"
      ]
     },
     "execution_count": 20,
     "metadata": {},
     "output_type": "execute_result"
    }
   ],
   "source": [
    "cross_val_score(clf, X_train, y_train, cv=cv_option_param, n_jobs=n_jobs_param).mean()"
   ]
  },
  {
   "cell_type": "code",
   "execution_count": null,
   "id": "e394847d-9109-44d2-aa91-eef010b11946",
   "metadata": {},
   "outputs": [],
   "source": []
  },
  {
   "cell_type": "code",
   "execution_count": 21,
   "id": "9dc54cfb-2929-47b0-87a9-97d0a5d4658e",
   "metadata": {},
   "outputs": [
    {
     "data": {
      "text/plain": [
       "RandomForestClassifier(random_state=42)"
      ]
     },
     "execution_count": 21,
     "metadata": {},
     "output_type": "execute_result"
    }
   ],
   "source": [
    "final_clf = RandomForestClassifier(random_state=42)\n",
    "final_clf.fit(X_train, y_train)"
   ]
  },
  {
   "cell_type": "code",
   "execution_count": 22,
   "id": "3a82b2a1-1e43-42cf-a034-5af379f3061d",
   "metadata": {},
   "outputs": [
    {
     "data": {
      "text/plain": [
       "array([0, 1])"
      ]
     },
     "execution_count": 22,
     "metadata": {},
     "output_type": "execute_result"
    }
   ],
   "source": [
    "final_clf.classes_"
   ]
  },
  {
   "cell_type": "code",
   "execution_count": 23,
   "id": "1901e1e9-c31b-4b45-9a19-29ec86f0f517",
   "metadata": {},
   "outputs": [
    {
     "data": {
      "text/html": [
       "<div>\n",
       "<style scoped>\n",
       "    .dataframe tbody tr th:only-of-type {\n",
       "        vertical-align: middle;\n",
       "    }\n",
       "\n",
       "    .dataframe tbody tr th {\n",
       "        vertical-align: top;\n",
       "    }\n",
       "\n",
       "    .dataframe thead th {\n",
       "        text-align: right;\n",
       "    }\n",
       "</style>\n",
       "<table border=\"1\" class=\"dataframe\">\n",
       "  <thead>\n",
       "    <tr style=\"text-align: right;\">\n",
       "      <th></th>\n",
       "      <th>Prob. 0</th>\n",
       "      <th>Prob. 1</th>\n",
       "    </tr>\n",
       "  </thead>\n",
       "  <tbody>\n",
       "    <tr>\n",
       "      <th>0</th>\n",
       "      <td>0.82</td>\n",
       "      <td>0.18</td>\n",
       "    </tr>\n",
       "    <tr>\n",
       "      <th>1</th>\n",
       "      <td>0.96</td>\n",
       "      <td>0.04</td>\n",
       "    </tr>\n",
       "    <tr>\n",
       "      <th>2</th>\n",
       "      <td>0.00</td>\n",
       "      <td>1.00</td>\n",
       "    </tr>\n",
       "    <tr>\n",
       "      <th>3</th>\n",
       "      <td>0.04</td>\n",
       "      <td>0.96</td>\n",
       "    </tr>\n",
       "    <tr>\n",
       "      <th>4</th>\n",
       "      <td>0.21</td>\n",
       "      <td>0.79</td>\n",
       "    </tr>\n",
       "  </tbody>\n",
       "</table>\n",
       "</div>"
      ],
      "text/plain": [
       "   Prob. 0  Prob. 1\n",
       "0     0.82     0.18\n",
       "1     0.96     0.04\n",
       "2     0.00     1.00\n",
       "3     0.04     0.96\n",
       "4     0.21     0.79"
      ]
     },
     "execution_count": 23,
     "metadata": {},
     "output_type": "execute_result"
    }
   ],
   "source": [
    "pd.DataFrame(final_clf.predict_proba(X_test), columns=['Prob. 0', 'Prob. 1']).head()"
   ]
  },
  {
   "cell_type": "code",
   "execution_count": null,
   "id": "83658422-c4b1-4c6b-8ece-080f544d7ee9",
   "metadata": {},
   "outputs": [],
   "source": []
  },
  {
   "cell_type": "code",
   "execution_count": null,
   "id": "94f03a24-621a-4306-9953-dd15bd160986",
   "metadata": {},
   "outputs": [],
   "source": []
  },
  {
   "cell_type": "code",
   "execution_count": 64,
   "id": "61519d1a-6e8b-4e80-9acf-fb4bb2d61ead",
   "metadata": {},
   "outputs": [
    {
     "data": {
      "text/html": [
       "<div>\n",
       "<style scoped>\n",
       "    .dataframe tbody tr th:only-of-type {\n",
       "        vertical-align: middle;\n",
       "    }\n",
       "\n",
       "    .dataframe tbody tr th {\n",
       "        vertical-align: top;\n",
       "    }\n",
       "\n",
       "    .dataframe thead th {\n",
       "        text-align: right;\n",
       "    }\n",
       "</style>\n",
       "<table border=\"1\" class=\"dataframe\">\n",
       "  <thead>\n",
       "    <tr style=\"text-align: right;\">\n",
       "      <th></th>\n",
       "      <th>alcohol</th>\n",
       "      <th>malic_acid</th>\n",
       "      <th>ash</th>\n",
       "      <th>alcalinity_of_ash</th>\n",
       "      <th>magnesium</th>\n",
       "      <th>total_phenols</th>\n",
       "      <th>flavanoids</th>\n",
       "      <th>nonflavanoid_phenols</th>\n",
       "      <th>proanthocyanins</th>\n",
       "      <th>color_intensity</th>\n",
       "      <th>hue</th>\n",
       "      <th>od280/od315_of_diluted_wines</th>\n",
       "      <th>proline</th>\n",
       "    </tr>\n",
       "  </thead>\n",
       "  <tbody>\n",
       "    <tr>\n",
       "      <th>0</th>\n",
       "      <td>13.07</td>\n",
       "      <td>1.50</td>\n",
       "      <td>2.10</td>\n",
       "      <td>15.5</td>\n",
       "      <td>98.0</td>\n",
       "      <td>2.40</td>\n",
       "      <td>2.64</td>\n",
       "      <td>0.28</td>\n",
       "      <td>1.37</td>\n",
       "      <td>3.70</td>\n",
       "      <td>1.18</td>\n",
       "      <td>2.69</td>\n",
       "      <td>1020.0</td>\n",
       "    </tr>\n",
       "    <tr>\n",
       "      <th>1</th>\n",
       "      <td>13.72</td>\n",
       "      <td>1.43</td>\n",
       "      <td>2.50</td>\n",
       "      <td>16.7</td>\n",
       "      <td>108.0</td>\n",
       "      <td>3.40</td>\n",
       "      <td>3.67</td>\n",
       "      <td>0.19</td>\n",
       "      <td>2.04</td>\n",
       "      <td>6.80</td>\n",
       "      <td>0.89</td>\n",
       "      <td>2.87</td>\n",
       "      <td>1285.0</td>\n",
       "    </tr>\n",
       "    <tr>\n",
       "      <th>2</th>\n",
       "      <td>12.42</td>\n",
       "      <td>2.55</td>\n",
       "      <td>2.27</td>\n",
       "      <td>22.0</td>\n",
       "      <td>90.0</td>\n",
       "      <td>1.68</td>\n",
       "      <td>1.84</td>\n",
       "      <td>0.66</td>\n",
       "      <td>1.42</td>\n",
       "      <td>2.70</td>\n",
       "      <td>0.86</td>\n",
       "      <td>3.30</td>\n",
       "      <td>315.0</td>\n",
       "    </tr>\n",
       "    <tr>\n",
       "      <th>3</th>\n",
       "      <td>11.62</td>\n",
       "      <td>1.99</td>\n",
       "      <td>2.28</td>\n",
       "      <td>18.0</td>\n",
       "      <td>98.0</td>\n",
       "      <td>3.02</td>\n",
       "      <td>2.26</td>\n",
       "      <td>0.17</td>\n",
       "      <td>1.35</td>\n",
       "      <td>3.25</td>\n",
       "      <td>1.16</td>\n",
       "      <td>2.96</td>\n",
       "      <td>345.0</td>\n",
       "    </tr>\n",
       "    <tr>\n",
       "      <th>4</th>\n",
       "      <td>11.56</td>\n",
       "      <td>2.05</td>\n",
       "      <td>3.23</td>\n",
       "      <td>28.5</td>\n",
       "      <td>119.0</td>\n",
       "      <td>3.18</td>\n",
       "      <td>5.08</td>\n",
       "      <td>0.47</td>\n",
       "      <td>1.87</td>\n",
       "      <td>6.00</td>\n",
       "      <td>0.93</td>\n",
       "      <td>3.69</td>\n",
       "      <td>465.0</td>\n",
       "    </tr>\n",
       "  </tbody>\n",
       "</table>\n",
       "</div>"
      ],
      "text/plain": [
       "   alcohol  malic_acid   ash  alcalinity_of_ash  magnesium  total_phenols  \\\n",
       "0    13.07        1.50  2.10               15.5       98.0           2.40   \n",
       "1    13.72        1.43  2.50               16.7      108.0           3.40   \n",
       "2    12.42        2.55  2.27               22.0       90.0           1.68   \n",
       "3    11.62        1.99  2.28               18.0       98.0           3.02   \n",
       "4    11.56        2.05  3.23               28.5      119.0           3.18   \n",
       "\n",
       "   flavanoids  nonflavanoid_phenols  proanthocyanins  color_intensity   hue  \\\n",
       "0        2.64                  0.28             1.37             3.70  1.18   \n",
       "1        3.67                  0.19             2.04             6.80  0.89   \n",
       "2        1.84                  0.66             1.42             2.70  0.86   \n",
       "3        2.26                  0.17             1.35             3.25  1.16   \n",
       "4        5.08                  0.47             1.87             6.00  0.93   \n",
       "\n",
       "   od280/od315_of_diluted_wines  proline  \n",
       "0                          2.69   1020.0  \n",
       "1                          2.87   1285.0  \n",
       "2                          3.30    315.0  \n",
       "3                          2.96    345.0  \n",
       "4                          3.69    465.0  "
      ]
     },
     "execution_count": 64,
     "metadata": {},
     "output_type": "execute_result"
    }
   ],
   "source": [
    "X_test_concordance = X_test.copy()\n",
    "X_test_concordance.reset_index(drop=True, inplace=True)\n",
    "X_test_concordance.head()"
   ]
  },
  {
   "cell_type": "code",
   "execution_count": 24,
   "id": "a3015e08-7de3-451c-97f7-769159c9b384",
   "metadata": {},
   "outputs": [
    {
     "data": {
      "text/plain": [
       "1    14\n",
       "0    12\n",
       "Name: target, dtype: int64"
      ]
     },
     "execution_count": 24,
     "metadata": {},
     "output_type": "execute_result"
    }
   ],
   "source": [
    "y_test.value_counts()"
   ]
  },
  {
   "cell_type": "code",
   "execution_count": 127,
   "id": "4d1b96f4-e4a1-4f12-a9cf-2f28fa872e91",
   "metadata": {},
   "outputs": [
    {
     "data": {
      "text/plain": [
       "0    0\n",
       "1    0\n",
       "2    1\n",
       "3    1\n",
       "4    1\n",
       "Name: target, dtype: int32"
      ]
     },
     "execution_count": 127,
     "metadata": {},
     "output_type": "execute_result"
    }
   ],
   "source": [
    "y_test_concordance = y_test.reset_index(drop=True)\n",
    "y_test_concordance[:5]"
   ]
  },
  {
   "cell_type": "code",
   "execution_count": 128,
   "id": "72e476ad-8886-41b1-b81f-fc8ee95c92d7",
   "metadata": {},
   "outputs": [
    {
     "name": "stdout",
     "output_type": "stream",
     "text": [
      "Int64Index([0, 1, 5, 8, 10], dtype='int64')\n",
      "Int64Index([2, 3, 4, 6, 7], dtype='int64')\n"
     ]
    }
   ],
   "source": [
    "indices_0 = y_test_concordance[y_test_concordance==0].index\n",
    "indices_1 = y_test_concordance[y_test_concordance==1].index\n",
    "print(indices_0[:5])\n",
    "print(indices_1[:5])"
   ]
  },
  {
   "cell_type": "code",
   "execution_count": null,
   "id": "727763ed-7c3e-4411-84f7-50426117cc21",
   "metadata": {},
   "outputs": [],
   "source": []
  },
  {
   "cell_type": "code",
   "execution_count": 129,
   "id": "268f186b-bfdb-49e8-a19c-d1de66f77d23",
   "metadata": {},
   "outputs": [],
   "source": [
    "pairs = set()\n",
    "for index_0 in indices_0:\n",
    "    for index_1 in indices_1:\n",
    "        pairs.add((index_1, index_0))"
   ]
  },
  {
   "cell_type": "code",
   "execution_count": 130,
   "id": "eb049fd4-c466-44a0-b893-a499cb40d210",
   "metadata": {},
   "outputs": [
    {
     "data": {
      "text/plain": [
       "True"
      ]
     },
     "execution_count": 130,
     "metadata": {},
     "output_type": "execute_result"
    }
   ],
   "source": [
    "len(pairs) == 14 * 12"
   ]
  },
  {
   "cell_type": "code",
   "execution_count": null,
   "id": "2b8891fa-8c06-464a-a345-93153e47e1a1",
   "metadata": {},
   "outputs": [],
   "source": []
  },
  {
   "cell_type": "code",
   "execution_count": 131,
   "id": "078509a4-67d1-4f1b-b636-163070925f4e",
   "metadata": {},
   "outputs": [],
   "source": [
    "prediction_probabilities_1 = pd.DataFrame(final_clf.predict_proba(X_test_concordance), columns=['Prob. 0', 'Prob. 1'])['Prob. 1']"
   ]
  },
  {
   "cell_type": "code",
   "execution_count": 132,
   "id": "56720375-68f4-4044-a540-1d70f1c0f720",
   "metadata": {},
   "outputs": [
    {
     "data": {
      "text/plain": [
       "0.94"
      ]
     },
     "execution_count": 132,
     "metadata": {},
     "output_type": "execute_result"
    }
   ],
   "source": [
    "# Probability of 1.\n",
    "final_clf.predict_proba(X_test_concordance.iloc[[6], :])[0][1]"
   ]
  },
  {
   "cell_type": "code",
   "execution_count": 133,
   "id": "5ea25e4a-64bc-458e-a674-49aef592905e",
   "metadata": {},
   "outputs": [
    {
     "data": {
      "text/plain": [
       "0.02"
      ]
     },
     "execution_count": 133,
     "metadata": {},
     "output_type": "execute_result"
    }
   ],
   "source": [
    "# Probability of 1.\n",
    "final_clf.predict_proba(X_test_concordance.iloc[[8], :])[0][1]"
   ]
  },
  {
   "cell_type": "code",
   "execution_count": null,
   "id": "cf932ff8-cef5-4117-8304-2f92573cba52",
   "metadata": {},
   "outputs": [],
   "source": []
  },
  {
   "cell_type": "code",
   "execution_count": 134,
   "id": "d2c9d969-ee09-452b-b613-771e29fe659f",
   "metadata": {},
   "outputs": [
    {
     "data": {
      "text/html": [
       "<div>\n",
       "<style scoped>\n",
       "    .dataframe tbody tr th:only-of-type {\n",
       "        vertical-align: middle;\n",
       "    }\n",
       "\n",
       "    .dataframe tbody tr th {\n",
       "        vertical-align: top;\n",
       "    }\n",
       "\n",
       "    .dataframe thead th {\n",
       "        text-align: right;\n",
       "    }\n",
       "</style>\n",
       "<table border=\"1\" class=\"dataframe\">\n",
       "  <thead>\n",
       "    <tr style=\"text-align: right;\">\n",
       "      <th></th>\n",
       "      <th>target</th>\n",
       "      <th>Prob. 1</th>\n",
       "    </tr>\n",
       "  </thead>\n",
       "  <tbody>\n",
       "    <tr>\n",
       "      <th>0</th>\n",
       "      <td>0</td>\n",
       "      <td>0.18</td>\n",
       "    </tr>\n",
       "    <tr>\n",
       "      <th>1</th>\n",
       "      <td>0</td>\n",
       "      <td>0.04</td>\n",
       "    </tr>\n",
       "    <tr>\n",
       "      <th>2</th>\n",
       "      <td>1</td>\n",
       "      <td>1.00</td>\n",
       "    </tr>\n",
       "    <tr>\n",
       "      <th>3</th>\n",
       "      <td>1</td>\n",
       "      <td>0.96</td>\n",
       "    </tr>\n",
       "    <tr>\n",
       "      <th>4</th>\n",
       "      <td>1</td>\n",
       "      <td>0.79</td>\n",
       "    </tr>\n",
       "    <tr>\n",
       "      <th>5</th>\n",
       "      <td>0</td>\n",
       "      <td>0.00</td>\n",
       "    </tr>\n",
       "    <tr>\n",
       "      <th>6</th>\n",
       "      <td>1</td>\n",
       "      <td>0.94</td>\n",
       "    </tr>\n",
       "    <tr>\n",
       "      <th>7</th>\n",
       "      <td>1</td>\n",
       "      <td>0.91</td>\n",
       "    </tr>\n",
       "    <tr>\n",
       "      <th>8</th>\n",
       "      <td>0</td>\n",
       "      <td>0.02</td>\n",
       "    </tr>\n",
       "    <tr>\n",
       "      <th>9</th>\n",
       "      <td>1</td>\n",
       "      <td>0.75</td>\n",
       "    </tr>\n",
       "    <tr>\n",
       "      <th>10</th>\n",
       "      <td>0</td>\n",
       "      <td>0.01</td>\n",
       "    </tr>\n",
       "    <tr>\n",
       "      <th>11</th>\n",
       "      <td>1</td>\n",
       "      <td>0.98</td>\n",
       "    </tr>\n",
       "    <tr>\n",
       "      <th>12</th>\n",
       "      <td>1</td>\n",
       "      <td>0.98</td>\n",
       "    </tr>\n",
       "    <tr>\n",
       "      <th>13</th>\n",
       "      <td>0</td>\n",
       "      <td>0.02</td>\n",
       "    </tr>\n",
       "    <tr>\n",
       "      <th>14</th>\n",
       "      <td>1</td>\n",
       "      <td>0.71</td>\n",
       "    </tr>\n",
       "    <tr>\n",
       "      <th>15</th>\n",
       "      <td>0</td>\n",
       "      <td>0.00</td>\n",
       "    </tr>\n",
       "    <tr>\n",
       "      <th>16</th>\n",
       "      <td>0</td>\n",
       "      <td>0.01</td>\n",
       "    </tr>\n",
       "    <tr>\n",
       "      <th>17</th>\n",
       "      <td>0</td>\n",
       "      <td>0.02</td>\n",
       "    </tr>\n",
       "    <tr>\n",
       "      <th>18</th>\n",
       "      <td>0</td>\n",
       "      <td>0.01</td>\n",
       "    </tr>\n",
       "    <tr>\n",
       "      <th>19</th>\n",
       "      <td>1</td>\n",
       "      <td>0.98</td>\n",
       "    </tr>\n",
       "    <tr>\n",
       "      <th>20</th>\n",
       "      <td>1</td>\n",
       "      <td>1.00</td>\n",
       "    </tr>\n",
       "    <tr>\n",
       "      <th>21</th>\n",
       "      <td>1</td>\n",
       "      <td>0.93</td>\n",
       "    </tr>\n",
       "    <tr>\n",
       "      <th>22</th>\n",
       "      <td>0</td>\n",
       "      <td>0.01</td>\n",
       "    </tr>\n",
       "    <tr>\n",
       "      <th>23</th>\n",
       "      <td>1</td>\n",
       "      <td>1.00</td>\n",
       "    </tr>\n",
       "    <tr>\n",
       "      <th>24</th>\n",
       "      <td>0</td>\n",
       "      <td>0.06</td>\n",
       "    </tr>\n",
       "    <tr>\n",
       "      <th>25</th>\n",
       "      <td>1</td>\n",
       "      <td>1.00</td>\n",
       "    </tr>\n",
       "  </tbody>\n",
       "</table>\n",
       "</div>"
      ],
      "text/plain": [
       "    target  Prob. 1\n",
       "0        0     0.18\n",
       "1        0     0.04\n",
       "2        1     1.00\n",
       "3        1     0.96\n",
       "4        1     0.79\n",
       "5        0     0.00\n",
       "6        1     0.94\n",
       "7        1     0.91\n",
       "8        0     0.02\n",
       "9        1     0.75\n",
       "10       0     0.01\n",
       "11       1     0.98\n",
       "12       1     0.98\n",
       "13       0     0.02\n",
       "14       1     0.71\n",
       "15       0     0.00\n",
       "16       0     0.01\n",
       "17       0     0.02\n",
       "18       0     0.01\n",
       "19       1     0.98\n",
       "20       1     1.00\n",
       "21       1     0.93\n",
       "22       0     0.01\n",
       "23       1     1.00\n",
       "24       0     0.06\n",
       "25       1     1.00"
      ]
     },
     "execution_count": 134,
     "metadata": {},
     "output_type": "execute_result"
    }
   ],
   "source": [
    "prediction_probabilites_data = pd.concat([pd.DataFrame(y_test_concordance), pd.DataFrame(prediction_probabilities_1)], axis='columns')\n",
    "prediction_probabilites_data"
   ]
  },
  {
   "cell_type": "markdown",
   "id": "4121c1ba-f722-4f9a-8a2b-555cae856fa9",
   "metadata": {},
   "source": [
    "All probabilities indicating the probability of being class 1."
   ]
  },
  {
   "cell_type": "code",
   "execution_count": 135,
   "id": "b21fc1f5-99ff-4a3a-aef4-83ce8f91c38a",
   "metadata": {},
   "outputs": [
    {
     "data": {
      "text/html": [
       "<div>\n",
       "<style scoped>\n",
       "    .dataframe tbody tr th:only-of-type {\n",
       "        vertical-align: middle;\n",
       "    }\n",
       "\n",
       "    .dataframe tbody tr th {\n",
       "        vertical-align: top;\n",
       "    }\n",
       "\n",
       "    .dataframe thead th {\n",
       "        text-align: right;\n",
       "    }\n",
       "</style>\n",
       "<table border=\"1\" class=\"dataframe\">\n",
       "  <thead>\n",
       "    <tr style=\"text-align: right;\">\n",
       "      <th></th>\n",
       "      <th>PAIR (1, 0)</th>\n",
       "    </tr>\n",
       "  </thead>\n",
       "  <tbody>\n",
       "    <tr>\n",
       "      <th>0</th>\n",
       "      <td>(2, 0)</td>\n",
       "    </tr>\n",
       "    <tr>\n",
       "      <th>1</th>\n",
       "      <td>(2, 1)</td>\n",
       "    </tr>\n",
       "    <tr>\n",
       "      <th>2</th>\n",
       "      <td>(2, 5)</td>\n",
       "    </tr>\n",
       "    <tr>\n",
       "      <th>3</th>\n",
       "      <td>(2, 8)</td>\n",
       "    </tr>\n",
       "    <tr>\n",
       "      <th>4</th>\n",
       "      <td>(2, 10)</td>\n",
       "    </tr>\n",
       "  </tbody>\n",
       "</table>\n",
       "</div>"
      ],
      "text/plain": [
       "  PAIR (1, 0)\n",
       "0      (2, 0)\n",
       "1      (2, 1)\n",
       "2      (2, 5)\n",
       "3      (2, 8)\n",
       "4     (2, 10)"
      ]
     },
     "execution_count": 135,
     "metadata": {},
     "output_type": "execute_result"
    }
   ],
   "source": [
    "concordance_calculation_table = pd.DataFrame({'PAIR (1, 0)': sorted(pairs)})\n",
    "concordance_calculation_table.head()"
   ]
  },
  {
   "cell_type": "code",
   "execution_count": 136,
   "id": "19d4df68-4d80-4189-bd55-5eac46bfcd94",
   "metadata": {},
   "outputs": [],
   "source": [
    "pairs_probabilities = []\n",
    "for pair in pairs:\n",
    "    one_ix, zero_ix = pair\n",
    "    pairs_probabilities.append((prediction_probabilites_data.iloc[one_ix]['Prob. 1'],\n",
    "                                prediction_probabilites_data.iloc[zero_ix]['Prob. 1']))"
   ]
  },
  {
   "cell_type": "code",
   "execution_count": 137,
   "id": "fc43408e-2153-4fa1-a5fa-cc1bd58c9246",
   "metadata": {},
   "outputs": [
    {
     "data": {
      "text/html": [
       "<div>\n",
       "<style scoped>\n",
       "    .dataframe tbody tr th:only-of-type {\n",
       "        vertical-align: middle;\n",
       "    }\n",
       "\n",
       "    .dataframe tbody tr th {\n",
       "        vertical-align: top;\n",
       "    }\n",
       "\n",
       "    .dataframe thead th {\n",
       "        text-align: right;\n",
       "    }\n",
       "</style>\n",
       "<table border=\"1\" class=\"dataframe\">\n",
       "  <thead>\n",
       "    <tr style=\"text-align: right;\">\n",
       "      <th></th>\n",
       "      <th>PAIR (1, 0)</th>\n",
       "      <th>PROBABILITIES (1, 0)</th>\n",
       "    </tr>\n",
       "  </thead>\n",
       "  <tbody>\n",
       "    <tr>\n",
       "      <th>0</th>\n",
       "      <td>(2, 0)</td>\n",
       "      <td>(0.94, 0.01)</td>\n",
       "    </tr>\n",
       "    <tr>\n",
       "      <th>1</th>\n",
       "      <td>(2, 1)</td>\n",
       "      <td>(0.79, 0.18)</td>\n",
       "    </tr>\n",
       "    <tr>\n",
       "      <th>2</th>\n",
       "      <td>(2, 5)</td>\n",
       "      <td>(0.93, 0.01)</td>\n",
       "    </tr>\n",
       "    <tr>\n",
       "      <th>3</th>\n",
       "      <td>(2, 8)</td>\n",
       "      <td>(0.91, 0.02)</td>\n",
       "    </tr>\n",
       "    <tr>\n",
       "      <th>4</th>\n",
       "      <td>(2, 10)</td>\n",
       "      <td>(0.98, 0.18)</td>\n",
       "    </tr>\n",
       "  </tbody>\n",
       "</table>\n",
       "</div>"
      ],
      "text/plain": [
       "  PAIR (1, 0) PROBABILITIES (1, 0)\n",
       "0      (2, 0)         (0.94, 0.01)\n",
       "1      (2, 1)         (0.79, 0.18)\n",
       "2      (2, 5)         (0.93, 0.01)\n",
       "3      (2, 8)         (0.91, 0.02)\n",
       "4     (2, 10)         (0.98, 0.18)"
      ]
     },
     "execution_count": 137,
     "metadata": {},
     "output_type": "execute_result"
    }
   ],
   "source": [
    "concordance_calculation_table['PROBABILITIES (1, 0)'] = pairs_probabilities\n",
    "concordance_calculation_table.head()"
   ]
  },
  {
   "cell_type": "code",
   "execution_count": null,
   "id": "64873355-07ae-4350-8919-22cce79c2ba6",
   "metadata": {},
   "outputs": [],
   "source": []
  },
  {
   "cell_type": "code",
   "execution_count": null,
   "id": "1edf5f57-7ed5-49b1-8a6b-2f8378d7530a",
   "metadata": {},
   "outputs": [],
   "source": []
  },
  {
   "cell_type": "code",
   "execution_count": null,
   "id": "7895462b-eb24-402e-ab0c-1fe03dc29df6",
   "metadata": {},
   "outputs": [],
   "source": []
  },
  {
   "cell_type": "code",
   "execution_count": null,
   "id": "854749c4-545a-449b-a6f6-65d02781063e",
   "metadata": {},
   "outputs": [],
   "source": []
  },
  {
   "cell_type": "code",
   "execution_count": null,
   "id": "b05b701a-5292-4a66-84f2-2fd64f63cd5e",
   "metadata": {},
   "outputs": [],
   "source": []
  },
  {
   "cell_type": "markdown",
   "id": "e82f2dc2-1040-445e-bd85-34e035408f0f",
   "metadata": {},
   "source": [
    "============================================================================================"
   ]
  },
  {
   "cell_type": "code",
   "execution_count": 1,
   "id": "6c405060-7b16-4bd6-828c-050947871f03",
   "metadata": {},
   "outputs": [],
   "source": [
    "import pandas as pd\n",
    "import numpy as np\n",
    "from tqdm.notebook import tqdm\n",
    "\n",
    "from helpers.construct_data import prepare_data_spsm\n",
    "\n",
    "from sklearn.model_selection import train_test_split"
   ]
  },
  {
   "cell_type": "code",
   "execution_count": 2,
   "id": "1636985b-4a25-4a9e-88ff-34093df84a1f",
   "metadata": {},
   "outputs": [],
   "source": [
    "NUM_EXPERIMENT_RUN = 200"
   ]
  },
  {
   "cell_type": "code",
   "execution_count": 3,
   "id": "274e8d4c-9086-45c2-8c24-f5bab6872632",
   "metadata": {},
   "outputs": [
    {
     "name": "stdout",
     "output_type": "stream",
     "text": [
      "(740, 62)\n"
     ]
    },
    {
     "data": {
      "text/html": [
       "<div>\n",
       "<style scoped>\n",
       "    .dataframe tbody tr th:only-of-type {\n",
       "        vertical-align: middle;\n",
       "    }\n",
       "\n",
       "    .dataframe tbody tr th {\n",
       "        vertical-align: top;\n",
       "    }\n",
       "\n",
       "    .dataframe thead th {\n",
       "        text-align: right;\n",
       "    }\n",
       "</style>\n",
       "<table border=\"1\" class=\"dataframe\">\n",
       "  <thead>\n",
       "    <tr style=\"text-align: right;\">\n",
       "      <th></th>\n",
       "      <th>Mutation_Effect_Label</th>\n",
       "      <th>UniProt_ID</th>\n",
       "      <th>Mutation</th>\n",
       "      <th>Interactor_UniProt_ID</th>\n",
       "      <th>Template_sequence_identity</th>\n",
       "      <th>Alignment_score</th>\n",
       "      <th>Interactor_template_sequence_identity</th>\n",
       "      <th>Interactor_alignment_score</th>\n",
       "      <th>Final_ddG</th>\n",
       "      <th>ProtBert_score</th>\n",
       "      <th>...</th>\n",
       "      <th>number_of_residues_mut</th>\n",
       "      <th>IntraclashesEnergy1_wt</th>\n",
       "      <th>IntraclashesEnergy1_mut</th>\n",
       "      <th>IntraclashesEnergy2_wt</th>\n",
       "      <th>IntraclashesEnergy2_mut</th>\n",
       "      <th>Interface_hydrophobic_area</th>\n",
       "      <th>Interface_hydrophilic_area</th>\n",
       "      <th>Interface_total_area</th>\n",
       "      <th>Interface_contact_distance_wt</th>\n",
       "      <th>Interface_contact_distance_mut</th>\n",
       "    </tr>\n",
       "  </thead>\n",
       "  <tbody>\n",
       "    <tr>\n",
       "      <th>0</th>\n",
       "      <td>0</td>\n",
       "      <td>Q9BPZ3</td>\n",
       "      <td>F118A</td>\n",
       "      <td>P11940</td>\n",
       "      <td>1.0000</td>\n",
       "      <td>1.000000</td>\n",
       "      <td>1.0000</td>\n",
       "      <td>0.968750</td>\n",
       "      <td>1.219700</td>\n",
       "      <td>-0.092273</td>\n",
       "      <td>...</td>\n",
       "      <td>118.0</td>\n",
       "      <td>5.30636</td>\n",
       "      <td>3.79101</td>\n",
       "      <td>52.4675</td>\n",
       "      <td>52.4675</td>\n",
       "      <td>427.775</td>\n",
       "      <td>194.715</td>\n",
       "      <td>622.495</td>\n",
       "      <td>3.35293</td>\n",
       "      <td>3.35293</td>\n",
       "    </tr>\n",
       "    <tr>\n",
       "      <th>1</th>\n",
       "      <td>0</td>\n",
       "      <td>P01116</td>\n",
       "      <td>Y40C</td>\n",
       "      <td>P50749</td>\n",
       "      <td>0.9277</td>\n",
       "      <td>0.931315</td>\n",
       "      <td>0.3553</td>\n",
       "      <td>0.172500</td>\n",
       "      <td>2.076950</td>\n",
       "      <td>0.998749</td>\n",
       "      <td>...</td>\n",
       "      <td>329.0</td>\n",
       "      <td>47.61770</td>\n",
       "      <td>47.21160</td>\n",
       "      <td>70.2902</td>\n",
       "      <td>70.2461</td>\n",
       "      <td>464.470</td>\n",
       "      <td>400.030</td>\n",
       "      <td>864.505</td>\n",
       "      <td>3.07827</td>\n",
       "      <td>3.59123</td>\n",
       "    </tr>\n",
       "    <tr>\n",
       "      <th>2</th>\n",
       "      <td>0</td>\n",
       "      <td>Q96QK1</td>\n",
       "      <td>F534D</td>\n",
       "      <td>Q9UBQ0</td>\n",
       "      <td>1.0000</td>\n",
       "      <td>0.360743</td>\n",
       "      <td>1.0000</td>\n",
       "      <td>0.994505</td>\n",
       "      <td>2.695710</td>\n",
       "      <td>0.288297</td>\n",
       "      <td>...</td>\n",
       "      <td>453.0</td>\n",
       "      <td>68.21080</td>\n",
       "      <td>68.19710</td>\n",
       "      <td>59.2321</td>\n",
       "      <td>59.1774</td>\n",
       "      <td>510.690</td>\n",
       "      <td>298.820</td>\n",
       "      <td>809.510</td>\n",
       "      <td>3.03938</td>\n",
       "      <td>3.24435</td>\n",
       "    </tr>\n",
       "    <tr>\n",
       "      <th>3</th>\n",
       "      <td>0</td>\n",
       "      <td>Q96QK1</td>\n",
       "      <td>F534D</td>\n",
       "      <td>Q9UBQ0-2</td>\n",
       "      <td>1.0000</td>\n",
       "      <td>0.360743</td>\n",
       "      <td>1.0000</td>\n",
       "      <td>0.973118</td>\n",
       "      <td>2.695710</td>\n",
       "      <td>0.288297</td>\n",
       "      <td>...</td>\n",
       "      <td>453.0</td>\n",
       "      <td>68.21080</td>\n",
       "      <td>68.19710</td>\n",
       "      <td>59.2321</td>\n",
       "      <td>59.1774</td>\n",
       "      <td>510.690</td>\n",
       "      <td>298.820</td>\n",
       "      <td>809.510</td>\n",
       "      <td>3.03938</td>\n",
       "      <td>3.24435</td>\n",
       "    </tr>\n",
       "    <tr>\n",
       "      <th>4</th>\n",
       "      <td>0</td>\n",
       "      <td>O43521-3</td>\n",
       "      <td>G66A</td>\n",
       "      <td>Q07812</td>\n",
       "      <td>1.0000</td>\n",
       "      <td>0.714286</td>\n",
       "      <td>0.3007</td>\n",
       "      <td>0.222028</td>\n",
       "      <td>0.683334</td>\n",
       "      <td>-0.051025</td>\n",
       "      <td>...</td>\n",
       "      <td>202.0</td>\n",
       "      <td>3.74828</td>\n",
       "      <td>3.76142</td>\n",
       "      <td>41.5937</td>\n",
       "      <td>41.5937</td>\n",
       "      <td>405.510</td>\n",
       "      <td>273.740</td>\n",
       "      <td>679.245</td>\n",
       "      <td>3.37301</td>\n",
       "      <td>3.22505</td>\n",
       "    </tr>\n",
       "  </tbody>\n",
       "</table>\n",
       "<p>5 rows × 62 columns</p>\n",
       "</div>"
      ],
      "text/plain": [
       "   Mutation_Effect_Label UniProt_ID Mutation Interactor_UniProt_ID  \\\n",
       "0                      0     Q9BPZ3    F118A                P11940   \n",
       "1                      0     P01116     Y40C                P50749   \n",
       "2                      0     Q96QK1    F534D                Q9UBQ0   \n",
       "3                      0     Q96QK1    F534D              Q9UBQ0-2   \n",
       "4                      0   O43521-3     G66A                Q07812   \n",
       "\n",
       "   Template_sequence_identity  Alignment_score  \\\n",
       "0                      1.0000         1.000000   \n",
       "1                      0.9277         0.931315   \n",
       "2                      1.0000         0.360743   \n",
       "3                      1.0000         0.360743   \n",
       "4                      1.0000         0.714286   \n",
       "\n",
       "   Interactor_template_sequence_identity  Interactor_alignment_score  \\\n",
       "0                                 1.0000                    0.968750   \n",
       "1                                 0.3553                    0.172500   \n",
       "2                                 1.0000                    0.994505   \n",
       "3                                 1.0000                    0.973118   \n",
       "4                                 0.3007                    0.222028   \n",
       "\n",
       "   Final_ddG  ProtBert_score  ...  number_of_residues_mut  \\\n",
       "0   1.219700       -0.092273  ...                   118.0   \n",
       "1   2.076950        0.998749  ...                   329.0   \n",
       "2   2.695710        0.288297  ...                   453.0   \n",
       "3   2.695710        0.288297  ...                   453.0   \n",
       "4   0.683334       -0.051025  ...                   202.0   \n",
       "\n",
       "   IntraclashesEnergy1_wt  IntraclashesEnergy1_mut  IntraclashesEnergy2_wt  \\\n",
       "0                 5.30636                  3.79101                 52.4675   \n",
       "1                47.61770                 47.21160                 70.2902   \n",
       "2                68.21080                 68.19710                 59.2321   \n",
       "3                68.21080                 68.19710                 59.2321   \n",
       "4                 3.74828                  3.76142                 41.5937   \n",
       "\n",
       "   IntraclashesEnergy2_mut  Interface_hydrophobic_area  \\\n",
       "0                  52.4675                     427.775   \n",
       "1                  70.2461                     464.470   \n",
       "2                  59.1774                     510.690   \n",
       "3                  59.1774                     510.690   \n",
       "4                  41.5937                     405.510   \n",
       "\n",
       "   Interface_hydrophilic_area  Interface_total_area  \\\n",
       "0                     194.715               622.495   \n",
       "1                     400.030               864.505   \n",
       "2                     298.820               809.510   \n",
       "3                     298.820               809.510   \n",
       "4                     273.740               679.245   \n",
       "\n",
       "   Interface_contact_distance_wt  Interface_contact_distance_mut  \n",
       "0                        3.35293                         3.35293  \n",
       "1                        3.07827                         3.59123  \n",
       "2                        3.03938                         3.24435  \n",
       "3                        3.03938                         3.24435  \n",
       "4                        3.37301                         3.22505  \n",
       "\n",
       "[5 rows x 62 columns]"
      ]
     },
     "execution_count": 3,
     "metadata": {},
     "output_type": "execute_result"
    }
   ],
   "source": [
    "mutations = pd.read_csv('processed_data_740.csv')\n",
    "print(mutations.shape)\n",
    "mutations.head()"
   ]
  },
  {
   "cell_type": "code",
   "execution_count": 4,
   "id": "bf3082ba-4508-41f9-9e2e-a24c5e4d4099",
   "metadata": {},
   "outputs": [
    {
     "data": {
      "application/vnd.jupyter.widget-view+json": {
       "model_id": "a6c04f3564f54518accef665337f2ac1",
       "version_major": 2,
       "version_minor": 0
      },
      "text/plain": [
       "  0%|          | 0/200 [00:00<?, ?it/s]"
      ]
     },
     "metadata": {},
     "output_type": "display_data"
    }
   ],
   "source": [
    "train_dataframes = []\n",
    "for i in tqdm(range(NUM_EXPERIMENT_RUN)):\n",
    "    train_dataframes.append(prepare_data_spsm(mutations, random_seed=i))"
   ]
  },
  {
   "cell_type": "code",
   "execution_count": 5,
   "id": "e825e157-fe7a-463e-b33b-483a90e38d1a",
   "metadata": {},
   "outputs": [
    {
     "data": {
      "application/vnd.jupyter.widget-view+json": {
       "model_id": "505563f8ed5348caa23d99c6e168fcab",
       "version_major": 2,
       "version_minor": 0
      },
      "text/plain": [
       "  0%|          | 0/200 [00:00<?, ?it/s]"
      ]
     },
     "metadata": {},
     "output_type": "display_data"
    }
   ],
   "source": [
    "Xs = []\n",
    "ys = []\n",
    "Xs_train = []\n",
    "Xs_test = []\n",
    "ys_train = []\n",
    "ys_test = []\n",
    "\n",
    "for train_data in tqdm(train_dataframes):\n",
    "    X = train_data.drop(['Mutation_Effect_Label', 'UniProt_ID', 'Mutation', 'Interactor_UniProt_ID'], axis='columns')\n",
    "    y = train_data['Mutation_Effect_Label'].copy()\n",
    "    X_train, X_test, y_train, y_test = train_test_split(X, y, test_size=0.2, random_state=np.random.randint(1_000_000))\n",
    "    Xs.append(X)\n",
    "    ys.append(y)\n",
    "    Xs_train.append(X_train)\n",
    "    Xs_test.append(X_test)\n",
    "    ys_train.append(y_train)\n",
    "    ys_test.append(y_test)\n",
    "    "
   ]
  },
  {
   "cell_type": "code",
   "execution_count": 6,
   "id": "a7154fd6-75a4-4be0-bfc4-78c95040897f",
   "metadata": {},
   "outputs": [],
   "source": [
    "from helpers.machine_learning_utils import cross_validation_options\n",
    "from sklearn.ensemble import RandomForestClassifier\n",
    "from sklearn.model_selection import cross_val_score"
   ]
  },
  {
   "cell_type": "code",
   "execution_count": 7,
   "id": "7698e81a-b019-47a2-a61b-2653cc560d26",
   "metadata": {},
   "outputs": [],
   "source": [
    "hsf = ['Provean_score',\n",
    " 'EL2_score',\n",
    " 'Final_ddG',\n",
    " 'Matrix_score',\n",
    " 'Interactor_alignment_score',\n",
    " 'Model/DOPE_score',\n",
    " 'Solvent_accessibility_wt',\n",
    " 'van_der_waals_mut',\n",
    " 'Interactor_template_sequence_identity',\n",
    " 'Solvent_accessibility_mut']"
   ]
  },
  {
   "cell_type": "code",
   "execution_count": 8,
   "id": "03d424f3-2fbb-435e-b356-58f2979114be",
   "metadata": {
    "scrolled": true,
    "tags": []
   },
   "outputs": [
    {
     "data": {
      "application/vnd.jupyter.widget-view+json": {
       "model_id": "dd048888f62d49b39f3f7d6d71dba389",
       "version_major": 2,
       "version_minor": 0
      },
      "text/plain": [
       "  0%|          | 0/200 [00:00<?, ?it/s]"
      ]
     },
     "metadata": {},
     "output_type": "display_data"
    },
    {
     "name": "stdout",
     "output_type": "stream",
     "text": [
      "0.701 \t 0.684 \t False\n",
      "0.692 \t 0.730 \t True\n",
      "0.644 \t 0.654 \t True\n",
      "0.706 \t 0.696 \t False\n",
      "0.672 \t 0.655 \t False\n",
      "0.640 \t 0.702 \t True\n",
      "0.683 \t 0.683 \t True\n",
      "0.713 \t 0.719 \t True\n",
      "0.695 \t 0.707 \t True\n",
      "0.656 \t 0.657 \t True\n",
      "0.636 \t 0.633 \t False\n",
      "0.600 \t 0.656 \t True\n",
      "0.613 \t 0.713 \t True\n",
      "0.643 \t 0.727 \t True\n",
      "0.690 \t 0.690 \t False\n",
      "0.653 \t 0.727 \t True\n",
      "0.688 \t 0.728 \t True\n",
      "0.683 \t 0.719 \t True\n",
      "0.640 \t 0.671 \t True\n",
      "0.646 \t 0.682 \t True\n",
      "0.541 \t 0.664 \t True\n",
      "0.605 \t 0.647 \t True\n",
      "0.625 \t 0.666 \t True\n",
      "0.657 \t 0.663 \t True\n",
      "0.606 \t 0.687 \t True\n",
      "0.644 \t 0.645 \t True\n",
      "0.680 \t 0.677 \t False\n",
      "0.663 \t 0.697 \t True\n",
      "0.579 \t 0.634 \t True\n",
      "0.627 \t 0.628 \t True\n",
      "0.685 \t 0.717 \t True\n",
      "0.675 \t 0.688 \t True\n",
      "0.654 \t 0.640 \t False\n",
      "0.637 \t 0.658 \t True\n",
      "0.646 \t 0.646 \t True\n",
      "0.679 \t 0.658 \t False\n",
      "0.690 \t 0.687 \t False\n",
      "0.685 \t 0.734 \t True\n",
      "0.660 \t 0.682 \t True\n",
      "0.609 \t 0.667 \t True\n",
      "0.706 \t 0.685 \t False\n",
      "0.619 \t 0.610 \t False\n",
      "0.598 \t 0.625 \t True\n",
      "0.688 \t 0.693 \t True\n",
      "0.586 \t 0.646 \t True\n",
      "0.599 \t 0.709 \t True\n",
      "0.676 \t 0.689 \t True\n",
      "0.603 \t 0.656 \t True\n",
      "0.645 \t 0.651 \t True\n",
      "0.612 \t 0.644 \t True\n",
      "0.690 \t 0.721 \t True\n",
      "0.660 \t 0.718 \t True\n",
      "0.697 \t 0.681 \t False\n",
      "0.646 \t 0.699 \t True\n",
      "0.609 \t 0.647 \t True\n",
      "0.652 \t 0.706 \t True\n",
      "0.684 \t 0.748 \t True\n",
      "0.710 \t 0.678 \t False\n",
      "0.613 \t 0.656 \t True\n",
      "0.686 \t 0.682 \t False\n",
      "0.663 \t 0.671 \t True\n",
      "0.549 \t 0.651 \t True\n",
      "0.638 \t 0.699 \t True\n",
      "0.649 \t 0.764 \t True\n",
      "0.630 \t 0.705 \t True\n",
      "0.628 \t 0.632 \t True\n",
      "0.630 \t 0.742 \t True\n",
      "0.644 \t 0.688 \t True\n",
      "0.660 \t 0.698 \t True\n",
      "0.678 \t 0.687 \t True\n",
      "0.676 \t 0.738 \t True\n",
      "0.667 \t 0.683 \t True\n",
      "0.603 \t 0.636 \t True\n",
      "0.617 \t 0.682 \t True\n",
      "0.681 \t 0.711 \t True\n",
      "0.656 \t 0.605 \t False\n",
      "0.674 \t 0.737 \t True\n",
      "0.643 \t 0.702 \t True\n",
      "0.637 \t 0.698 \t True\n",
      "0.609 \t 0.678 \t True\n",
      "0.685 \t 0.698 \t True\n",
      "0.573 \t 0.593 \t True\n",
      "0.712 \t 0.640 \t False\n",
      "0.675 \t 0.717 \t True\n",
      "0.664 \t 0.713 \t True\n",
      "0.707 \t 0.699 \t False\n",
      "0.605 \t 0.722 \t True\n",
      "0.641 \t 0.689 \t True\n",
      "0.631 \t 0.698 \t True\n",
      "0.716 \t 0.751 \t True\n",
      "0.635 \t 0.683 \t True\n",
      "0.685 \t 0.699 \t True\n",
      "0.631 \t 0.618 \t False\n",
      "0.612 \t 0.653 \t True\n",
      "0.638 \t 0.697 \t True\n",
      "0.622 \t 0.663 \t True\n",
      "0.644 \t 0.680 \t True\n",
      "0.657 \t 0.677 \t True\n",
      "0.646 \t 0.641 \t False\n",
      "0.593 \t 0.657 \t True\n",
      "0.656 \t 0.695 \t True\n",
      "0.679 \t 0.702 \t True\n",
      "0.669 \t 0.661 \t False\n",
      "0.615 \t 0.683 \t True\n",
      "0.624 \t 0.673 \t True\n",
      "0.559 \t 0.595 \t True\n",
      "0.683 \t 0.715 \t True\n",
      "0.642 \t 0.668 \t True\n",
      "0.532 \t 0.652 \t True\n",
      "0.641 \t 0.682 \t True\n",
      "0.674 \t 0.702 \t True\n",
      "0.677 \t 0.750 \t True\n",
      "0.621 \t 0.666 \t True\n",
      "0.693 \t 0.711 \t True\n",
      "0.579 \t 0.673 \t True\n",
      "0.716 \t 0.717 \t True\n",
      "0.567 \t 0.699 \t True\n",
      "0.615 \t 0.639 \t True\n",
      "0.699 \t 0.684 \t False\n",
      "0.711 \t 0.744 \t True\n",
      "0.715 \t 0.708 \t False\n",
      "0.650 \t 0.702 \t True\n",
      "0.634 \t 0.697 \t True\n",
      "0.665 \t 0.671 \t True\n",
      "0.627 \t 0.699 \t True\n",
      "0.645 \t 0.677 \t True\n",
      "0.637 \t 0.682 \t True\n",
      "0.691 \t 0.659 \t False\n",
      "0.592 \t 0.690 \t True\n",
      "0.651 \t 0.685 \t True\n",
      "0.623 \t 0.621 \t False\n",
      "0.622 \t 0.635 \t True\n",
      "0.669 \t 0.703 \t True\n",
      "0.714 \t 0.721 \t True\n",
      "0.679 \t 0.682 \t True\n",
      "0.687 \t 0.707 \t True\n",
      "0.630 \t 0.658 \t True\n",
      "0.594 \t 0.641 \t True\n",
      "0.702 \t 0.746 \t True\n",
      "0.610 \t 0.702 \t True\n",
      "0.606 \t 0.688 \t True\n",
      "0.635 \t 0.770 \t True\n",
      "0.587 \t 0.633 \t True\n",
      "0.655 \t 0.706 \t True\n",
      "0.662 \t 0.727 \t True\n",
      "0.718 \t 0.760 \t True\n",
      "0.665 \t 0.644 \t False\n",
      "0.597 \t 0.634 \t True\n",
      "0.623 \t 0.671 \t True\n",
      "0.592 \t 0.596 \t True\n",
      "0.633 \t 0.676 \t True\n",
      "0.630 \t 0.675 \t True\n",
      "0.589 \t 0.654 \t True\n",
      "0.607 \t 0.596 \t False\n",
      "0.599 \t 0.653 \t True\n",
      "0.668 \t 0.688 \t True\n",
      "0.610 \t 0.693 \t True\n",
      "0.704 \t 0.691 \t False\n",
      "0.728 \t 0.724 \t False\n",
      "0.721 \t 0.648 \t False\n",
      "0.655 \t 0.718 \t True\n",
      "0.670 \t 0.708 \t True\n",
      "0.655 \t 0.683 \t True\n",
      "0.636 \t 0.653 \t True\n",
      "0.642 \t 0.704 \t True\n",
      "0.655 \t 0.654 \t False\n",
      "0.679 \t 0.651 \t False\n",
      "0.628 \t 0.656 \t True\n",
      "0.619 \t 0.680 \t True\n",
      "0.642 \t 0.674 \t True\n",
      "0.672 \t 0.773 \t True\n",
      "0.682 \t 0.687 \t True\n",
      "0.682 \t 0.686 \t True\n",
      "0.569 \t 0.674 \t True\n",
      "0.631 \t 0.720 \t True\n",
      "0.698 \t 0.757 \t True\n",
      "0.643 \t 0.712 \t True\n",
      "0.674 \t 0.713 \t True\n",
      "0.642 \t 0.680 \t True\n",
      "0.667 \t 0.763 \t True\n",
      "0.646 \t 0.629 \t False\n",
      "0.674 \t 0.676 \t True\n",
      "0.587 \t 0.586 \t False\n",
      "0.640 \t 0.636 \t False\n",
      "0.614 \t 0.619 \t True\n",
      "0.693 \t 0.707 \t True\n",
      "0.608 \t 0.680 \t True\n",
      "0.670 \t 0.620 \t False\n",
      "0.623 \t 0.584 \t False\n",
      "0.609 \t 0.702 \t True\n",
      "0.621 \t 0.641 \t True\n",
      "0.671 \t 0.689 \t True\n",
      "0.701 \t 0.714 \t True\n",
      "0.638 \t 0.712 \t True\n",
      "0.616 \t 0.655 \t True\n",
      "0.657 \t 0.733 \t True\n",
      "0.658 \t 0.705 \t True\n",
      "0.665 \t 0.682 \t True\n",
      "0.741 \t 0.720 \t False\n",
      "0.648 \t 0.678 \t True\n"
     ]
    }
   ],
   "source": [
    "results_benchmark_entries = []\n",
    "for i in tqdm(range(NUM_EXPERIMENT_RUN)):\n",
    "    cv_option_param, n_jobs_param = cross_validation_options('skf_10', 1)\n",
    "    clf = RandomForestClassifier(random_state=np.random.randint(1_000_000))\n",
    "    scores_avg = cross_val_score(clf, Xs_train[i], ys_train[i], cv=cv_option_param, n_jobs=n_jobs_param, scoring='balanced_accuracy').mean()\n",
    "    scores_avg_hsf = cross_val_score(clf, Xs_train[i][hsf], ys_train[i], cv=cv_option_param, n_jobs=n_jobs_param, scoring='balanced_accuracy').mean()\n",
    "    print(\"{:.3f} \\t {:.3f} \\t {}\".format(scores_avg, scores_avg_hsf, (scores_avg < scores_avg_hsf)))\n",
    "    results_benchmark_entries.append((round(scores_avg, 3), round(scores_avg_hsf, 3), (scores_avg < scores_avg_hsf)))"
   ]
  },
  {
   "cell_type": "code",
   "execution_count": 9,
   "id": "c095fd20-5007-461f-a06a-d27a09351add",
   "metadata": {},
   "outputs": [
    {
     "data": {
      "text/html": [
       "<div>\n",
       "<style scoped>\n",
       "    .dataframe tbody tr th:only-of-type {\n",
       "        vertical-align: middle;\n",
       "    }\n",
       "\n",
       "    .dataframe tbody tr th {\n",
       "        vertical-align: top;\n",
       "    }\n",
       "\n",
       "    .dataframe thead th {\n",
       "        text-align: right;\n",
       "    }\n",
       "</style>\n",
       "<table border=\"1\" class=\"dataframe\">\n",
       "  <thead>\n",
       "    <tr style=\"text-align: right;\">\n",
       "      <th></th>\n",
       "      <th>All_columns</th>\n",
       "      <th>Selected_columns</th>\n",
       "      <th>Improvement</th>\n",
       "    </tr>\n",
       "  </thead>\n",
       "  <tbody>\n",
       "    <tr>\n",
       "      <th>0</th>\n",
       "      <td>0.701</td>\n",
       "      <td>0.684</td>\n",
       "      <td>False</td>\n",
       "    </tr>\n",
       "    <tr>\n",
       "      <th>1</th>\n",
       "      <td>0.692</td>\n",
       "      <td>0.730</td>\n",
       "      <td>True</td>\n",
       "    </tr>\n",
       "    <tr>\n",
       "      <th>2</th>\n",
       "      <td>0.644</td>\n",
       "      <td>0.654</td>\n",
       "      <td>True</td>\n",
       "    </tr>\n",
       "    <tr>\n",
       "      <th>3</th>\n",
       "      <td>0.706</td>\n",
       "      <td>0.696</td>\n",
       "      <td>False</td>\n",
       "    </tr>\n",
       "    <tr>\n",
       "      <th>4</th>\n",
       "      <td>0.672</td>\n",
       "      <td>0.655</td>\n",
       "      <td>False</td>\n",
       "    </tr>\n",
       "  </tbody>\n",
       "</table>\n",
       "</div>"
      ],
      "text/plain": [
       "   All_columns  Selected_columns  Improvement\n",
       "0        0.701             0.684        False\n",
       "1        0.692             0.730         True\n",
       "2        0.644             0.654         True\n",
       "3        0.706             0.696        False\n",
       "4        0.672             0.655        False"
      ]
     },
     "execution_count": 9,
     "metadata": {},
     "output_type": "execute_result"
    }
   ],
   "source": [
    "results_benchmark_data = pd.DataFrame(results_benchmark_entries, columns=['All_columns', 'Selected_columns', 'Improvement'])\n",
    "results_benchmark_data.head()"
   ]
  },
  {
   "cell_type": "code",
   "execution_count": 10,
   "id": "ad9b6955-2511-499e-aa81-1e4413b3c926",
   "metadata": {},
   "outputs": [
    {
     "data": {
      "text/plain": [
       "True     163\n",
       "False     37\n",
       "Name: Improvement, dtype: int64"
      ]
     },
     "execution_count": 10,
     "metadata": {},
     "output_type": "execute_result"
    }
   ],
   "source": [
    "results_benchmark_data['Improvement'].value_counts()"
   ]
  },
  {
   "cell_type": "code",
   "execution_count": null,
   "id": "891fc25b-67b4-4960-a9ff-d18c1f43f3d2",
   "metadata": {},
   "outputs": [],
   "source": []
  },
  {
   "cell_type": "code",
   "execution_count": null,
   "id": "b4c440d6-ce34-42f6-a4a4-349e4488ba6f",
   "metadata": {},
   "outputs": [],
   "source": []
  },
  {
   "cell_type": "code",
   "execution_count": 34,
   "id": "2ff98543-e47c-4369-9f39-520f15529c40",
   "metadata": {},
   "outputs": [],
   "source": [
    "from sklearn.model_selection import LeaveOneOut\n",
    "from sklearn.model_selection import StratifiedKFold\n",
    "from sklearn.model_selection import KFold"
   ]
  },
  {
   "cell_type": "code",
   "execution_count": 14,
   "id": "8624d700-7b82-4057-809e-642097bc475a",
   "metadata": {},
   "outputs": [],
   "source": []
  },
  {
   "cell_type": "code",
   "execution_count": 83,
   "id": "bd896034-44d1-49ce-a421-1fe3aca01971",
   "metadata": {},
   "outputs": [],
   "source": [
    "def evaluate_cv(X, y, cv, selected_features):\n",
    "    \n",
    "    if selected_features:\n",
    "        X = X[selected_features]\n",
    "        \n",
    "    print(f'COLUMNS: {list(X.columns)}')\n",
    "    \n",
    "    scores = cross_val_score(RandomForestClassifier(random_state=42), \n",
    "                             X, y, cv=cv, \n",
    "                             n_jobs=-1, scoring='balanced_accuracy')\n",
    "\n",
    "    print(f'SCORES:')\n",
    "    print(scores)\n",
    "    print('AVG: {:.4}'.format(scores.mean()))"
   ]
  },
  {
   "cell_type": "code",
   "execution_count": 84,
   "id": "e20f48f6-b871-4e06-816d-7e3b4683f2f8",
   "metadata": {},
   "outputs": [],
   "source": [
    "def compare_feature_selection_with_default_features(X, y, cv, selected_features=hsf):\n",
    "    evaluate_cv(X, y, cv, None)\n",
    "    print('\\n')\n",
    "    evaluate_cv(X, y, cv, hsf)"
   ]
  },
  {
   "cell_type": "code",
   "execution_count": 85,
   "id": "7d6cf5b2-ff9a-44ad-8d27-bc3e029f673f",
   "metadata": {},
   "outputs": [],
   "source": [
    "X_train_sample = Xs_train[0]\n",
    "y_train_sample = ys_train[0]"
   ]
  },
  {
   "cell_type": "code",
   "execution_count": 86,
   "id": "f4c8a369-32cf-4b6e-9177-ee5c01cc37d3",
   "metadata": {},
   "outputs": [],
   "source": [
    "X_sample = Xs[0]\n",
    "y_sample = ys[0]"
   ]
  },
  {
   "cell_type": "code",
   "execution_count": 87,
   "id": "74cdbee0-2c03-462a-9009-fb4359ab9525",
   "metadata": {},
   "outputs": [
    {
     "name": "stdout",
     "output_type": "stream",
     "text": [
      "COLUMNS: ['Template_sequence_identity', 'Alignment_score', 'Interactor_template_sequence_identity', 'Interactor_alignment_score', 'Final_ddG', 'ProtBert_score', 'ProteinSolver_score', 'EL2_score', 'Model/DOPE_score', 'Provean_score', 'Matrix_score', 'Solvent_accessibility_wt', 'Solvent_accessibility_mut', 'pcv_vdW_wt', 'pcv_vdW_mut', 'pcv_vdW_self_wt', 'pcv_vdW_self_mut', 'dg_wt', 'backbone_hbond_wt', 'sidechain_hbond_wt', 'van_der_waals_wt', 'electrostatics_wt', 'solvation_polar_wt', 'solvation_hydrophobic_wt', 'van_der_waals_clashes_wt', 'entropy_sidechain_wt', 'entropy_mainchain_wt', 'torsional_clash_wt', 'backbone_clash_wt', 'helix_dipole_wt', 'electrostatic_kon_wt', 'energy_ionisation_wt', 'number_of_residues_wt', 'dg_mut', 'backbone_hbond_mut', 'sidechain_hbond_mut', 'van_der_waals_mut', 'electrostatics_mut', 'solvation_polar_mut', 'solvation_hydrophobic_mut', 'van_der_waals_clashes_mut', 'entropy_sidechain_mut', 'entropy_mainchain_mut', 'torsional_clash_mut', 'backbone_clash_mut', 'helix_dipole_mut', 'electrostatic_kon_mut', 'energy_ionisation_mut', 'number_of_residues_mut', 'IntraclashesEnergy1_wt', 'IntraclashesEnergy1_mut', 'IntraclashesEnergy2_wt', 'IntraclashesEnergy2_mut', 'Interface_hydrophobic_area', 'Interface_hydrophilic_area', 'Interface_total_area', 'Interface_contact_distance_wt', 'Interface_contact_distance_mut']\n",
      "SCORES:\n",
      "[1. 1. 1. 1. 1. 0. 1. 1. 1. 1. 0. 1. 1. 1. 1. 0. 1. 1. 1. 0. 1. 1. 1. 1.\n",
      " 1. 1. 0. 0. 1. 0. 1. 1. 1. 1. 1. 1. 1. 1. 1. 1. 1. 1. 1. 0. 1. 1. 0. 0.\n",
      " 1. 1. 1. 1. 0. 1. 1. 1. 0. 1. 1. 0. 1. 1. 1. 1. 0. 0. 1. 0. 1. 1. 1. 1.\n",
      " 1. 0. 1. 1. 0. 1. 1. 1. 0. 0. 1. 0. 0. 1. 1. 1. 1. 1. 1. 0. 1. 1. 1. 0.\n",
      " 1. 1. 1. 1. 0. 0. 0. 1. 1. 1. 0. 1. 1. 0. 1. 1. 1. 1. 1. 1. 0. 0. 0. 1.\n",
      " 1. 1. 1. 1. 1. 1. 1. 1. 1. 1. 1.]\n",
      "AVG: 0.7557\n",
      "\n",
      "\n",
      "COLUMNS: ['Provean_score', 'EL2_score', 'Final_ddG', 'Matrix_score', 'Interactor_alignment_score', 'Model/DOPE_score', 'Solvent_accessibility_wt', 'van_der_waals_mut', 'Interactor_template_sequence_identity', 'Solvent_accessibility_mut']\n",
      "SCORES:\n",
      "[1. 0. 1. 1. 1. 1. 1. 1. 1. 1. 0. 1. 1. 1. 1. 0. 1. 1. 1. 0. 1. 1. 1. 1.\n",
      " 1. 1. 0. 0. 1. 0. 1. 1. 0. 1. 1. 1. 1. 0. 1. 1. 1. 0. 1. 0. 1. 1. 0. 0.\n",
      " 1. 1. 1. 1. 0. 0. 1. 1. 0. 1. 1. 0. 1. 1. 1. 1. 0. 0. 1. 0. 1. 1. 1. 1.\n",
      " 1. 0. 1. 1. 1. 1. 1. 1. 1. 1. 1. 0. 0. 1. 1. 1. 1. 1. 1. 1. 1. 1. 1. 0.\n",
      " 1. 1. 1. 1. 0. 0. 0. 1. 0. 1. 1. 1. 1. 0. 1. 1. 1. 1. 1. 1. 1. 0. 0. 1.\n",
      " 1. 1. 1. 1. 0. 1. 1. 1. 1. 1. 1.]\n",
      "AVG: 0.7557\n"
     ]
    }
   ],
   "source": [
    "compare_feature_selection_with_default_features(X_train_sample, y_train_sample, LeaveOneOut())"
   ]
  },
  {
   "cell_type": "code",
   "execution_count": 88,
   "id": "3a12bfe1-519b-4f53-aadb-3be977bb8d6d",
   "metadata": {},
   "outputs": [
    {
     "name": "stdout",
     "output_type": "stream",
     "text": [
      "COLUMNS: ['Template_sequence_identity', 'Alignment_score', 'Interactor_template_sequence_identity', 'Interactor_alignment_score', 'Final_ddG', 'ProtBert_score', 'ProteinSolver_score', 'EL2_score', 'Model/DOPE_score', 'Provean_score', 'Matrix_score', 'Solvent_accessibility_wt', 'Solvent_accessibility_mut', 'pcv_vdW_wt', 'pcv_vdW_mut', 'pcv_vdW_self_wt', 'pcv_vdW_self_mut', 'dg_wt', 'backbone_hbond_wt', 'sidechain_hbond_wt', 'van_der_waals_wt', 'electrostatics_wt', 'solvation_polar_wt', 'solvation_hydrophobic_wt', 'van_der_waals_clashes_wt', 'entropy_sidechain_wt', 'entropy_mainchain_wt', 'torsional_clash_wt', 'backbone_clash_wt', 'helix_dipole_wt', 'electrostatic_kon_wt', 'energy_ionisation_wt', 'number_of_residues_wt', 'dg_mut', 'backbone_hbond_mut', 'sidechain_hbond_mut', 'van_der_waals_mut', 'electrostatics_mut', 'solvation_polar_mut', 'solvation_hydrophobic_mut', 'van_der_waals_clashes_mut', 'entropy_sidechain_mut', 'entropy_mainchain_mut', 'torsional_clash_mut', 'backbone_clash_mut', 'helix_dipole_mut', 'electrostatic_kon_mut', 'energy_ionisation_mut', 'number_of_residues_mut', 'IntraclashesEnergy1_wt', 'IntraclashesEnergy1_mut', 'IntraclashesEnergy2_wt', 'IntraclashesEnergy2_mut', 'Interface_hydrophobic_area', 'Interface_hydrophilic_area', 'Interface_total_area', 'Interface_contact_distance_wt', 'Interface_contact_distance_mut']\n",
      "SCORES:\n",
      "[1. 1. 1. 1. 1. 1. 0. 1. 1. 1. 1. 1. 1. 1. 0. 1. 1. 1. 1. 1. 1. 0. 0. 1.\n",
      " 0. 1. 0. 1. 0. 1. 1. 1. 0. 1. 1. 0. 1. 0. 1. 1. 1. 1. 1. 1. 1. 1. 1. 0.\n",
      " 0. 1. 1. 0. 0. 1. 1. 0. 1. 0. 0. 1. 0. 1. 1. 1. 1. 1. 1. 1. 0. 1. 1. 1.\n",
      " 0. 0. 1. 1. 1. 1. 1. 1. 0. 0. 1. 1. 1. 1. 0. 0. 0. 0. 1. 1. 1. 1. 1. 0.\n",
      " 1. 1. 1. 0. 1. 1. 1. 1. 1. 1. 1. 1. 1. 1. 1. 1. 1. 0. 1. 1. 0. 0. 1. 1.\n",
      " 0. 1. 1. 1. 0. 0. 1. 1. 0. 0. 1. 0. 1. 1. 1. 1. 1. 0. 0. 1. 1. 1. 1. 1.\n",
      " 0. 1. 1. 0. 1. 1. 1. 1. 1. 1. 1. 0. 1. 1. 1. 1. 1. 1. 1. 1.]\n",
      "AVG: 0.7378\n",
      "\n",
      "\n",
      "COLUMNS: ['Provean_score', 'EL2_score', 'Final_ddG', 'Matrix_score', 'Interactor_alignment_score', 'Model/DOPE_score', 'Solvent_accessibility_wt', 'van_der_waals_mut', 'Interactor_template_sequence_identity', 'Solvent_accessibility_mut']\n",
      "SCORES:\n",
      "[1. 0. 1. 1. 1. 1. 1. 1. 1. 1. 1. 1. 1. 1. 0. 1. 1. 1. 1. 1. 1. 1. 0. 1.\n",
      " 0. 1. 0. 1. 0. 1. 1. 1. 0. 1. 1. 0. 1. 0. 1. 1. 1. 1. 1. 1. 1. 1. 1. 0.\n",
      " 0. 1. 1. 0. 0. 1. 1. 0. 1. 0. 1. 1. 0. 0. 1. 1. 1. 1. 1. 1. 0. 1. 1. 0.\n",
      " 0. 0. 1. 1. 1. 0. 1. 1. 1. 1. 1. 1. 1. 1. 0. 0. 0. 0. 1. 1. 1. 1. 1. 0.\n",
      " 1. 1. 1. 0. 1. 0. 1. 1. 1. 1. 1. 1. 1. 1. 1. 1. 1. 1. 1. 1. 1. 0. 1. 1.\n",
      " 0. 1. 1. 1. 0. 0. 1. 1. 0. 0. 1. 0. 1. 1. 1. 1. 1. 0. 0. 1. 1. 1. 1. 1.\n",
      " 1. 1. 0. 1. 1. 1. 1. 1. 0. 1. 0. 0. 1. 1. 1. 1. 1. 1. 1. 1.]\n",
      "AVG: 0.7439\n"
     ]
    }
   ],
   "source": [
    "compare_feature_selection_with_default_features(X_sample, y_sample, LeaveOneOut())"
   ]
  },
  {
   "cell_type": "code",
   "execution_count": 89,
   "id": "3e7027d3-ea4f-4881-b413-54ba9e030665",
   "metadata": {},
   "outputs": [
    {
     "name": "stdout",
     "output_type": "stream",
     "text": [
      "COLUMNS: ['Template_sequence_identity', 'Alignment_score', 'Interactor_template_sequence_identity', 'Interactor_alignment_score', 'Final_ddG', 'ProtBert_score', 'ProteinSolver_score', 'EL2_score', 'Model/DOPE_score', 'Provean_score', 'Matrix_score', 'Solvent_accessibility_wt', 'Solvent_accessibility_mut', 'pcv_vdW_wt', 'pcv_vdW_mut', 'pcv_vdW_self_wt', 'pcv_vdW_self_mut', 'dg_wt', 'backbone_hbond_wt', 'sidechain_hbond_wt', 'van_der_waals_wt', 'electrostatics_wt', 'solvation_polar_wt', 'solvation_hydrophobic_wt', 'van_der_waals_clashes_wt', 'entropy_sidechain_wt', 'entropy_mainchain_wt', 'torsional_clash_wt', 'backbone_clash_wt', 'helix_dipole_wt', 'electrostatic_kon_wt', 'energy_ionisation_wt', 'number_of_residues_wt', 'dg_mut', 'backbone_hbond_mut', 'sidechain_hbond_mut', 'van_der_waals_mut', 'electrostatics_mut', 'solvation_polar_mut', 'solvation_hydrophobic_mut', 'van_der_waals_clashes_mut', 'entropy_sidechain_mut', 'entropy_mainchain_mut', 'torsional_clash_mut', 'backbone_clash_mut', 'helix_dipole_mut', 'electrostatic_kon_mut', 'energy_ionisation_mut', 'number_of_residues_mut', 'IntraclashesEnergy1_wt', 'IntraclashesEnergy1_mut', 'IntraclashesEnergy2_wt', 'IntraclashesEnergy2_mut', 'Interface_hydrophobic_area', 'Interface_hydrophilic_area', 'Interface_total_area', 'Interface_contact_distance_wt', 'Interface_contact_distance_mut']\n",
      "SCORES:\n",
      "[0.69047619 0.66883117]\n",
      "AVG: 0.6797\n",
      "\n",
      "\n",
      "COLUMNS: ['Provean_score', 'EL2_score', 'Final_ddG', 'Matrix_score', 'Interactor_alignment_score', 'Model/DOPE_score', 'Solvent_accessibility_wt', 'van_der_waals_mut', 'Interactor_template_sequence_identity', 'Solvent_accessibility_mut']\n",
      "SCORES:\n",
      "[0.70634921 0.70725108]\n",
      "AVG: 0.7068\n"
     ]
    }
   ],
   "source": [
    "compare_feature_selection_with_default_features(X_train_sample, y_train_sample, StratifiedKFold(shuffle=True, n_splits=2))"
   ]
  },
  {
   "cell_type": "code",
   "execution_count": 90,
   "id": "e011ced1-1b6f-45fa-bfb6-878eaa84188e",
   "metadata": {},
   "outputs": [
    {
     "name": "stdout",
     "output_type": "stream",
     "text": [
      "COLUMNS: ['Template_sequence_identity', 'Alignment_score', 'Interactor_template_sequence_identity', 'Interactor_alignment_score', 'Final_ddG', 'ProtBert_score', 'ProteinSolver_score', 'EL2_score', 'Model/DOPE_score', 'Provean_score', 'Matrix_score', 'Solvent_accessibility_wt', 'Solvent_accessibility_mut', 'pcv_vdW_wt', 'pcv_vdW_mut', 'pcv_vdW_self_wt', 'pcv_vdW_self_mut', 'dg_wt', 'backbone_hbond_wt', 'sidechain_hbond_wt', 'van_der_waals_wt', 'electrostatics_wt', 'solvation_polar_wt', 'solvation_hydrophobic_wt', 'van_der_waals_clashes_wt', 'entropy_sidechain_wt', 'entropy_mainchain_wt', 'torsional_clash_wt', 'backbone_clash_wt', 'helix_dipole_wt', 'electrostatic_kon_wt', 'energy_ionisation_wt', 'number_of_residues_wt', 'dg_mut', 'backbone_hbond_mut', 'sidechain_hbond_mut', 'van_der_waals_mut', 'electrostatics_mut', 'solvation_polar_mut', 'solvation_hydrophobic_mut', 'van_der_waals_clashes_mut', 'entropy_sidechain_mut', 'entropy_mainchain_mut', 'torsional_clash_mut', 'backbone_clash_mut', 'helix_dipole_mut', 'electrostatic_kon_mut', 'energy_ionisation_mut', 'number_of_residues_mut', 'IntraclashesEnergy1_wt', 'IntraclashesEnergy1_mut', 'IntraclashesEnergy2_wt', 'IntraclashesEnergy2_mut', 'Interface_hydrophobic_area', 'Interface_hydrophilic_area', 'Interface_total_area', 'Interface_contact_distance_wt', 'Interface_contact_distance_mut']\n",
      "SCORES:\n",
      "[0.68584656 0.64085882]\n",
      "AVG: 0.6634\n",
      "\n",
      "\n",
      "COLUMNS: ['Provean_score', 'EL2_score', 'Final_ddG', 'Matrix_score', 'Interactor_alignment_score', 'Model/DOPE_score', 'Solvent_accessibility_wt', 'van_der_waals_mut', 'Interactor_template_sequence_identity', 'Solvent_accessibility_mut']\n",
      "SCORES:\n",
      "[0.73875661 0.7192583 ]\n",
      "AVG: 0.729\n"
     ]
    }
   ],
   "source": [
    "compare_feature_selection_with_default_features(X_sample, y_sample, StratifiedKFold(shuffle=True, n_splits=2))"
   ]
  },
  {
   "cell_type": "code",
   "execution_count": 91,
   "id": "0587591b-9e0e-4b54-916a-b6f56cce87c6",
   "metadata": {},
   "outputs": [
    {
     "ename": "TypeError",
     "evalue": "compare_feature_selection_with_default_features() missing 2 required positional arguments: 'y' and 'cv'",
     "output_type": "error",
     "traceback": [
      "\u001b[1;31m---------------------------------------------------------------------------\u001b[0m",
      "\u001b[1;31mTypeError\u001b[0m                                 Traceback (most recent call last)",
      "\u001b[1;32m~\\AppData\\Local\\Temp/ipykernel_73412/2840457058.py\u001b[0m in \u001b[0;36m<module>\u001b[1;34m\u001b[0m\n\u001b[1;32m----> 1\u001b[1;33m \u001b[0mcompare_feature_selection_with_default_features\u001b[0m\u001b[1;33m(\u001b[0m\u001b[0mStratifiedKFold\u001b[0m\u001b[1;33m(\u001b[0m\u001b[0mshuffle\u001b[0m\u001b[1;33m=\u001b[0m\u001b[1;32mTrue\u001b[0m\u001b[1;33m,\u001b[0m \u001b[0mn_splits\u001b[0m\u001b[1;33m=\u001b[0m\u001b[1;36m10\u001b[0m\u001b[1;33m)\u001b[0m\u001b[1;33m)\u001b[0m\u001b[1;33m\u001b[0m\u001b[1;33m\u001b[0m\u001b[0m\n\u001b[0m",
      "\u001b[1;31mTypeError\u001b[0m: compare_feature_selection_with_default_features() missing 2 required positional arguments: 'y' and 'cv'"
     ]
    }
   ],
   "source": [
    "compare_feature_selection_with_default_features(StratifiedKFold(shuffle=True, n_splits=10))"
   ]
  },
  {
   "cell_type": "code",
   "execution_count": null,
   "id": "fc13a4be-9a79-46ce-a32b-4fcc86c40641",
   "metadata": {},
   "outputs": [],
   "source": [
    "compare_feature_selection_with_default_features(StratifiedKFold(shuffle=True, n_splits=20))"
   ]
  },
  {
   "cell_type": "code",
   "execution_count": null,
   "id": "da1cfd68-8567-40ca-8603-9ac2175fd2f7",
   "metadata": {},
   "outputs": [],
   "source": []
  },
  {
   "cell_type": "code",
   "execution_count": null,
   "id": "0aa0780e-bab5-4775-bf69-2a87448f8d73",
   "metadata": {},
   "outputs": [],
   "source": []
  },
  {
   "cell_type": "code",
   "execution_count": null,
   "id": "360c67b7-5440-4c8f-9e9a-3fa7903ac64c",
   "metadata": {},
   "outputs": [],
   "source": []
  },
  {
   "cell_type": "code",
   "execution_count": 48,
   "id": "b8435bf0-cb52-420a-9f7e-328f6c6b8885",
   "metadata": {},
   "outputs": [
    {
     "name": "stdout",
     "output_type": "stream",
     "text": [
      "COLUMNS: ['Template_sequence_identity', 'Alignment_score', 'Interactor_template_sequence_identity', 'Interactor_alignment_score', 'Final_ddG', 'ProtBert_score', 'ProteinSolver_score', 'EL2_score', 'Model/DOPE_score', 'Provean_score', 'Matrix_score', 'Solvent_accessibility_wt', 'Solvent_accessibility_mut', 'pcv_vdW_wt', 'pcv_vdW_mut', 'pcv_vdW_self_wt', 'pcv_vdW_self_mut', 'dg_wt', 'backbone_hbond_wt', 'sidechain_hbond_wt', 'van_der_waals_wt', 'electrostatics_wt', 'solvation_polar_wt', 'solvation_hydrophobic_wt', 'van_der_waals_clashes_wt', 'entropy_sidechain_wt', 'entropy_mainchain_wt', 'torsional_clash_wt', 'backbone_clash_wt', 'helix_dipole_wt', 'electrostatic_kon_wt', 'energy_ionisation_wt', 'number_of_residues_wt', 'dg_mut', 'backbone_hbond_mut', 'sidechain_hbond_mut', 'van_der_waals_mut', 'electrostatics_mut', 'solvation_polar_mut', 'solvation_hydrophobic_mut', 'van_der_waals_clashes_mut', 'entropy_sidechain_mut', 'entropy_mainchain_mut', 'torsional_clash_mut', 'backbone_clash_mut', 'helix_dipole_mut', 'electrostatic_kon_mut', 'energy_ionisation_mut', 'number_of_residues_mut', 'IntraclashesEnergy1_wt', 'IntraclashesEnergy1_mut', 'IntraclashesEnergy2_wt', 'IntraclashesEnergy2_mut', 'Interface_hydrophobic_area', 'Interface_hydrophilic_area', 'Interface_total_area', 'Interface_contact_distance_wt', 'Interface_contact_distance_mut']\n",
      "SCORES:\n",
      "[1. 1. 1. 1. 1. 0. 1. 1. 1. 1. 0. 1. 1. 1. 1. 0. 1. 1. 1. 0. 1. 1. 1. 1.\n",
      " 1. 1. 0. 0. 1. 0. 1. 1. 1. 1. 1. 1. 1. 1. 1. 1. 1. 1. 1. 0. 1. 1. 0. 0.\n",
      " 1. 1. 1. 1. 0. 1. 1. 1. 0. 1. 1. 0. 1. 1. 1. 1. 0. 0. 1. 0. 1. 1. 1. 1.\n",
      " 1. 0. 1. 1. 0. 1. 1. 1. 0. 0. 1. 0. 0. 1. 1. 1. 1. 1. 1. 0. 1. 1. 1. 0.\n",
      " 1. 1. 1. 1. 0. 0. 0. 1. 1. 1. 0. 1. 1. 0. 1. 1. 1. 1. 1. 1. 0. 0. 0. 1.\n",
      " 1. 1. 1. 1. 1. 1. 1. 1. 1. 1. 1.]\n",
      "AVG: 0.7557251908396947\n"
     ]
    }
   ],
   "source": [
    "evaluate_cv(LeaveOneOut(), None)"
   ]
  },
  {
   "cell_type": "code",
   "execution_count": 49,
   "id": "fa1d4c6a-747c-46a5-b9bb-ca3b78247e81",
   "metadata": {},
   "outputs": [
    {
     "name": "stdout",
     "output_type": "stream",
     "text": [
      "COLUMNS: ['Provean_score', 'EL2_score', 'Final_ddG', 'Matrix_score', 'Interactor_alignment_score', 'Model/DOPE_score', 'Solvent_accessibility_wt', 'van_der_waals_mut', 'Interactor_template_sequence_identity', 'Solvent_accessibility_mut']\n",
      "SCORES:\n",
      "[1. 0. 1. 1. 1. 1. 1. 1. 1. 1. 0. 1. 1. 1. 1. 0. 1. 1. 1. 0. 1. 1. 1. 1.\n",
      " 1. 1. 0. 0. 1. 0. 1. 1. 0. 1. 1. 1. 1. 0. 1. 1. 1. 0. 1. 0. 1. 1. 0. 0.\n",
      " 1. 1. 1. 1. 0. 0. 1. 1. 0. 1. 1. 0. 1. 1. 1. 1. 0. 0. 1. 0. 1. 1. 1. 1.\n",
      " 1. 0. 1. 1. 1. 1. 1. 1. 1. 1. 1. 0. 0. 1. 1. 1. 1. 1. 1. 1. 1. 1. 1. 0.\n",
      " 1. 1. 1. 1. 0. 0. 0. 1. 0. 1. 1. 1. 1. 0. 1. 1. 1. 1. 1. 1. 1. 0. 0. 1.\n",
      " 1. 1. 1. 1. 0. 1. 1. 1. 1. 1. 1.]\n",
      "AVG: 0.7557251908396947\n"
     ]
    }
   ],
   "source": [
    "evaluate_cv(LeaveOneOut(), hsf)"
   ]
  },
  {
   "cell_type": "code",
   "execution_count": null,
   "id": "ed1886d1-3cbd-4b9b-9ade-a661dd0f35c4",
   "metadata": {},
   "outputs": [],
   "source": []
  },
  {
   "cell_type": "code",
   "execution_count": null,
   "id": "2de072dc-fa58-4d48-b3b4-dfa1a781fe54",
   "metadata": {},
   "outputs": [],
   "source": []
  },
  {
   "cell_type": "code",
   "execution_count": null,
   "id": "c120fc7c-6305-44f0-ae42-9aa5358481d8",
   "metadata": {},
   "outputs": [],
   "source": []
  },
  {
   "cell_type": "code",
   "execution_count": 26,
   "id": "e24687a7-f759-457a-85f7-6d232d3b4429",
   "metadata": {},
   "outputs": [
    {
     "name": "stdout",
     "output_type": "stream",
     "text": [
      "SCORES:\n",
      "[0.64444444 0.58603896]\n",
      "AVG: 0.6152417027417028\n"
     ]
    }
   ],
   "source": [
    "evaluate_cv(StratifiedKFold(shuffle=True, n_splits=2))"
   ]
  },
  {
   "cell_type": "code",
   "execution_count": 27,
   "id": "c02cb7f3-90e9-4609-bbb3-d417274349a6",
   "metadata": {},
   "outputs": [
    {
     "name": "stdout",
     "output_type": "stream",
     "text": [
      "SCORES:\n",
      "[0.80555556 0.8125     0.75       0.50694444 0.58169935]\n",
      "AVG: 0.6913398692810457\n"
     ]
    }
   ],
   "source": [
    "evaluate_cv(StratifiedKFold(shuffle=True, n_splits=5))"
   ]
  },
  {
   "cell_type": "code",
   "execution_count": 28,
   "id": "ed2dd7ed-4070-47c1-ace3-1212b670a660",
   "metadata": {},
   "outputs": [
    {
     "name": "stdout",
     "output_type": "stream",
     "text": [
      "SCORES:\n",
      "[0.7        0.75       0.625      0.875      0.56944444 0.625\n",
      " 0.625      0.56944444 0.75       0.7375    ]\n",
      "AVG: 0.6826388888888888\n"
     ]
    }
   ],
   "source": [
    "evaluate_cv(StratifiedKFold(shuffle=True, n_splits=10))"
   ]
  },
  {
   "cell_type": "code",
   "execution_count": 29,
   "id": "e2976c2a-afbf-40da-be88-32621252b43f",
   "metadata": {},
   "outputs": [
    {
     "name": "stdout",
     "output_type": "stream",
     "text": [
      "SCORES:\n",
      "[0.65       1.         0.75       0.4        0.4        0.75\n",
      " 1.         0.5        1.         0.83333333 0.83333333 0.75\n",
      " 0.75       0.75       0.75       0.5        0.5        0.5\n",
      " 1.         0.5       ]\n",
      "AVG: 0.7058333333333333\n"
     ]
    }
   ],
   "source": [
    "evaluate_cv(StratifiedKFold(shuffle=True, n_splits=20))"
   ]
  },
  {
   "cell_type": "code",
   "execution_count": 30,
   "id": "ede8bb31-8f66-41e3-8774-c168312be156",
   "metadata": {},
   "outputs": [
    {
     "name": "stdout",
     "output_type": "stream",
     "text": [
      "SCORES:\n",
      "[0.33333333 0.5        0.5        0.75       0.75       0.75\n",
      " 0.75       1.         1.         0.75       0.75       0.5\n",
      " 0.5        1.         0.5        0.5        1.         1.\n",
      " 0.5        0.5        1.         0.5        0.5        0.5\n",
      " 0.83333333 1.         1.         0.5        0.33333333 0.75      ]\n",
      "AVG: 0.6916666666666665\n"
     ]
    }
   ],
   "source": [
    "evaluate_cv(StratifiedKFold(shuffle=True, n_splits=30))"
   ]
  },
  {
   "cell_type": "code",
   "execution_count": 31,
   "id": "ce4e91d1-75f8-4b68-b5cb-db0f2e7d213f",
   "metadata": {},
   "outputs": [
    {
     "name": "stdout",
     "output_type": "stream",
     "text": [
      "SCORES:\n",
      "[0.5        0.5        0.5        0.5        1.         1.\n",
      " 0.66666667 1.         0.83333333 1.         0.75       1.\n",
      " 1.         0.5        1.         1.         0.5        0.5\n",
      " 0.5        1.         0.75       0.5        0.5        0.5\n",
      " 0.5        0.75       0.5        1.         1.         0.5\n",
      " 1.         1.         1.         0.5        0.5        0.5\n",
      " 0.5        0.5        0.5        0.5       ]\n",
      "AVG: 0.70625\n"
     ]
    }
   ],
   "source": [
    "evaluate_cv(StratifiedKFold(shuffle=True, n_splits=40))"
   ]
  },
  {
   "cell_type": "code",
   "execution_count": 33,
   "id": "0850eb57-255c-438c-b36b-b14008710cbb",
   "metadata": {},
   "outputs": [
    {
     "name": "stdout",
     "output_type": "stream",
     "text": [
      "SCORES:\n",
      "[0.5        0.83333333 0.5        1.         0.5        1.\n",
      " 0.5        0.5        1.         1.         1.         0.5\n",
      " 1.         0.5        0.5        0.75       1.         1.\n",
      " 0.5        0.5        0.5        0.5        0.5        0.5\n",
      " 1.         1.         0.5        1.         1.         0.5\n",
      " 1.         0.25       1.         1.         0.5        1.\n",
      " 0.5        1.         1.         0.5        0.5        0.25      ]\n",
      "AVG: 0.7162698412698413\n"
     ]
    }
   ],
   "source": [
    "evaluate_cv(StratifiedKFold(shuffle=True, n_splits=42))"
   ]
  },
  {
   "cell_type": "code",
   "execution_count": 35,
   "id": "4e9b4dec-9f96-469e-8c06-69fe7b86b617",
   "metadata": {},
   "outputs": [
    {
     "name": "stdout",
     "output_type": "stream",
     "text": [
      "SCORES:\n",
      "[0.66666667 1.         0.33333333 0.33333333 1.         1.\n",
      " 1.         0.75       0.66666667 0.66666667 0.5        1.\n",
      " 0.5        1.         1.         0.66666667 0.5        1.\n",
      " 0.75       1.         0.5        0.5        0.5        0.75\n",
      " 1.         0.5        0.5        1.         0.5        1.\n",
      " 0.66666667 1.         1.         0.5        1.         0.5\n",
      " 1.         0.5        1.         0.5        1.         1.\n",
      " 1.         1.         1.         1.         1.         1.\n",
      " 1.         0.5       ]\n",
      "AVG: 0.785\n"
     ]
    }
   ],
   "source": [
    "evaluate_cv(KFold(shuffle=True, n_splits=50))"
   ]
  },
  {
   "cell_type": "code",
   "execution_count": 36,
   "id": "9dff9f33-5295-4e20-8c67-4b3197015092",
   "metadata": {},
   "outputs": [
    {
     "name": "stdout",
     "output_type": "stream",
     "text": [
      "SCORES:\n",
      "[1.  1.  1.  1.  0.5 1.  0.  0.5 1.  0.5 1.  0.5 1.  1.  1.  0.5 0.5 0.5\n",
      " 1.  1.  1.  0.5 1.  0.5 0.5 0.5 1.  0.5 0.5 1.  1.  1.  1.  0.  1.  1.\n",
      " 1.  1.  1.  1.  1.  1.  1.  1.  1.  0.  1.  1.  1.  1.  1.  1.  1.  0.\n",
      " 1.  1.  0.  1.  1.  1.  1.  1.  1.  1.  0.  1.  1.  1.  1.  0.  1.  1.\n",
      " 0.  0.  0.  1.  1.  1.  0.  1.  1.  1.  1.  1.  1.  1.  1.  0.  1.  1.\n",
      " 1.  0.  1.  1.  0.  1.  0.  1.  1.  1. ]\n",
      "AVG: 0.785\n"
     ]
    }
   ],
   "source": [
    "evaluate_cv(KFold(shuffle=True, n_splits=100))"
   ]
  },
  {
   "cell_type": "code",
   "execution_count": 40,
   "id": "fc3df82c-d63e-4afc-9fc4-3e24f3916c21",
   "metadata": {},
   "outputs": [
    {
     "name": "stdout",
     "output_type": "stream",
     "text": [
      "SCORES:\n",
      "[0.5        0.25       1.         0.66666667 1.         0.66666667\n",
      " 1.         1.         1.         1.         1.         0.5\n",
      " 0.5        1.         1.         1.         1.         0.5\n",
      " 1.         0.5        0.5        0.5        1.         1.\n",
      " 1.         0.5        1.         0.5        0.5        1.\n",
      " 1.         1.         0.5        0.5        1.         0.5\n",
      " 1.         0.5        0.5        0.5        1.         0.\n",
      " 0.5        0.5        0.5        1.         1.         1.\n",
      " 1.         1.         1.         1.         1.         0.5\n",
      " 0.5        0.5        1.         1.         1.         0.5       ]\n",
      "AVG: 0.7680555555555555\n"
     ]
    }
   ],
   "source": [
    "evaluate_cv(KFold(shuffle=True, n_splits=60))"
   ]
  },
  {
   "cell_type": "code",
   "execution_count": null,
   "id": "30f89629-4aa4-4449-97e5-06c5eeac59f8",
   "metadata": {},
   "outputs": [],
   "source": []
  },
  {
   "cell_type": "code",
   "execution_count": null,
   "id": "2418d8f6-f4b8-4b47-b321-04c82aa9723b",
   "metadata": {},
   "outputs": [],
   "source": []
  },
  {
   "cell_type": "code",
   "execution_count": null,
   "id": "5ca9d9ba-6c6a-46d9-af2a-0dff2313b134",
   "metadata": {},
   "outputs": [],
   "source": []
  },
  {
   "cell_type": "code",
   "execution_count": null,
   "id": "d38df91f-316b-4e1c-a2b7-d17cc49a0748",
   "metadata": {},
   "outputs": [],
   "source": []
  },
  {
   "cell_type": "code",
   "execution_count": 37,
   "id": "aae3a45c-c833-42f2-926a-04785f1aa6bd",
   "metadata": {},
   "outputs": [
    {
     "data": {
      "text/plain": [
       "131"
      ]
     },
     "execution_count": 37,
     "metadata": {},
     "output_type": "execute_result"
    }
   ],
   "source": [
    "len(X_train_sample)"
   ]
  },
  {
   "cell_type": "code",
   "execution_count": null,
   "id": "3af81fa7-f83c-4cd6-8afd-88ebcb65d3d2",
   "metadata": {},
   "outputs": [],
   "source": []
  },
  {
   "cell_type": "code",
   "execution_count": null,
   "id": "aac79849-88fa-4714-b47e-d4f7fb945e99",
   "metadata": {},
   "outputs": [],
   "source": []
  },
  {
   "cell_type": "code",
   "execution_count": null,
   "id": "b7f40e4f-8b75-45f9-b33c-a21b57267860",
   "metadata": {},
   "outputs": [],
   "source": []
  },
  {
   "cell_type": "code",
   "execution_count": 15,
   "id": "22652583-6809-40f5-b371-bfdeea5d797d",
   "metadata": {},
   "outputs": [
    {
     "data": {
      "text/plain": [
       "array([1., 1., 1., 1., 1., 0., 1., 1., 1., 1., 0., 1., 1., 1., 1., 0., 1.,\n",
       "       1., 1., 0., 1., 1., 1., 1., 1., 1., 0., 0., 1., 0., 1., 1., 1., 1.,\n",
       "       1., 1., 1., 1., 1., 1., 1., 1., 1., 0., 1., 1., 0., 0., 1., 1., 1.,\n",
       "       1., 0., 1., 1., 1., 0., 1., 1., 0., 1., 1., 1., 1., 0., 0., 1., 0.,\n",
       "       1., 1., 1., 1., 1., 0., 1., 1., 0., 1., 1., 1., 0., 0., 1., 0., 0.,\n",
       "       1., 1., 1., 1., 1., 1., 0., 1., 1., 1., 0., 1., 1., 1., 1., 0., 0.,\n",
       "       0., 1., 1., 1., 0., 1., 1., 0., 1., 1., 1., 1., 1., 1., 0., 0., 0.,\n",
       "       1., 1., 1., 1., 1., 1., 1., 1., 1., 1., 1., 1.])"
      ]
     },
     "execution_count": 15,
     "metadata": {},
     "output_type": "execute_result"
    }
   ],
   "source": [
    "scores = cross_val_score(RandomForestClassifier(random_state=42), \n",
    "                             X_train_sample, y_train_sample, cv=LeaveOneOut(), \n",
    "                             n_jobs=-1, scoring='balanced_accuracy')\n",
    "\n",
    "scores"
   ]
  },
  {
   "cell_type": "code",
   "execution_count": 16,
   "id": "c9d12528-e6b1-4e5d-a1b4-587cdde8ff0a",
   "metadata": {},
   "outputs": [
    {
     "data": {
      "text/plain": [
       "0.7557251908396947"
      ]
     },
     "execution_count": 16,
     "metadata": {},
     "output_type": "execute_result"
    }
   ],
   "source": [
    "scores.mean()"
   ]
  },
  {
   "cell_type": "code",
   "execution_count": 18,
   "id": "0e45b294-51e0-4c9e-98ca-c0c53c8f3bdc",
   "metadata": {},
   "outputs": [],
   "source": []
  },
  {
   "cell_type": "code",
   "execution_count": 19,
   "id": "d3872e5c-7f09-4193-8498-6c7854eef523",
   "metadata": {},
   "outputs": [
    {
     "data": {
      "text/plain": [
       "array([0.7       , 0.625     , 0.56944444, 0.81944444, 0.69444444,\n",
       "       0.5       , 0.875     , 0.75      , 0.75      , 0.5375    ])"
      ]
     },
     "execution_count": 19,
     "metadata": {},
     "output_type": "execute_result"
    }
   ],
   "source": [
    "scores = cross_val_score(RandomForestClassifier(random_state=42), \n",
    "                             X_train_sample, y_train_sample, cv=StratifiedKFold(shuffle=True, n_splits=10), \n",
    "                             n_jobs=-1, scoring='balanced_accuracy')\n",
    "\n",
    "scores"
   ]
  },
  {
   "cell_type": "code",
   "execution_count": 16,
   "id": "8af89799-9bcb-4ed2-a506-7fcfd7e7daef",
   "metadata": {},
   "outputs": [
    {
     "data": {
      "text/plain": [
       "0.7557251908396947"
      ]
     },
     "execution_count": 16,
     "metadata": {},
     "output_type": "execute_result"
    }
   ],
   "source": [
    "scores.mean()"
   ]
  },
  {
   "cell_type": "code",
   "execution_count": null,
   "id": "461f04b2-0dee-42d5-a9a0-2b892356e773",
   "metadata": {},
   "outputs": [],
   "source": [
    "cv = LeaveOneOut()\n",
    "# create model\n",
    "model = RandomForestClassifier(random_state=1)\n",
    "# evaluate model\n",
    "scores = cross_val_score(model, X, y, scoring='accuracy', cv=cv, n_jobs=-1)\n",
    "# report performance\n",
    "print('Accuracy: %.3f (%.3f)' % (mean(scores), std(scores)))"
   ]
  },
  {
   "cell_type": "code",
   "execution_count": 95,
   "id": "f5dc9c5f-ce38-4d33-97ed-aa703dcaad11",
   "metadata": {},
   "outputs": [],
   "source": []
  },
  {
   "cell_type": "code",
   "execution_count": 96,
   "id": "834d2238-d010-477d-98ad-4d20e8824910",
   "metadata": {},
   "outputs": [],
   "source": []
  },
  {
   "cell_type": "code",
   "execution_count": 97,
   "id": "8c5f57d6-8150-41aa-b683-e5ef8ff64257",
   "metadata": {},
   "outputs": [],
   "source": []
  },
  {
   "cell_type": "code",
   "execution_count": 98,
   "id": "6b582ba9-4f0c-4dbf-b8e2-bfc1704d18dc",
   "metadata": {},
   "outputs": [],
   "source": [
    "y_pred = cross_val_predict(clf, X_train, y_train, cv=cv_option_param, n_jobs=n_jobs_param)"
   ]
  },
  {
   "cell_type": "code",
   "execution_count": 99,
   "id": "71eab7ec-ec0a-4bb0-9ad7-a115290aff3f",
   "metadata": {},
   "outputs": [],
   "source": [
    "from sklearn.metrics import accuracy_score, balanced_accuracy_score"
   ]
  },
  {
   "cell_type": "code",
   "execution_count": 100,
   "id": "7afe8887-3d3a-493b-8424-369b89b58d4f",
   "metadata": {},
   "outputs": [
    {
     "name": "stdout",
     "output_type": "stream",
     "text": [
      "accuracy_score: 0.702\n",
      "balanced_accuracy_score: 0.646\n"
     ]
    }
   ],
   "source": [
    "print(\"accuracy_score: {:.3f}\".format(accuracy_score(y_train, y_pred)))\n",
    "print(\"balanced_accuracy_score: {:.3f}\".format(balanced_accuracy_score(y_train, y_pred)))"
   ]
  },
  {
   "cell_type": "code",
   "execution_count": 101,
   "id": "7cd7f520-482d-4405-8ad8-d4b84a361b7a",
   "metadata": {},
   "outputs": [
    {
     "data": {
      "text/plain": [
       "0.7401098901098901"
      ]
     },
     "execution_count": 101,
     "metadata": {},
     "output_type": "execute_result"
    }
   ],
   "source": []
  },
  {
   "cell_type": "code",
   "execution_count": 102,
   "id": "fe274de1-ae62-4c7f-9e81-71f018ed7f9b",
   "metadata": {},
   "outputs": [
    {
     "data": {
      "text/plain": [
       "0.6348611111111111"
      ]
     },
     "execution_count": 102,
     "metadata": {},
     "output_type": "execute_result"
    }
   ],
   "source": []
  },
  {
   "cell_type": "code",
   "execution_count": null,
   "id": "00058a60-9aa2-4cc4-b813-974c0cf6c9fa",
   "metadata": {},
   "outputs": [],
   "source": []
  },
  {
   "cell_type": "code",
   "execution_count": 105,
   "id": "a3ac28b9-8a7e-4ad6-9ae4-68991147f93d",
   "metadata": {},
   "outputs": [],
   "source": [
    "selected_columns = ['EL2_score', 'Provean_score', 'Final_ddG', 'Solvent_accessibility_mut', 'Solvent_accessibility_wt']"
   ]
  },
  {
   "cell_type": "code",
   "execution_count": null,
   "id": "b47dddd1-4e06-4f4e-8166-8e8fa735a4a5",
   "metadata": {},
   "outputs": [],
   "source": []
  },
  {
   "cell_type": "code",
   "execution_count": 108,
   "id": "defde575-ba96-4862-b9b7-913ceafe859c",
   "metadata": {},
   "outputs": [],
   "source": [
    "X = train_data[selected_columns]\n",
    "y = train_data['Mutation_Effect_Label'].copy()"
   ]
  },
  {
   "cell_type": "code",
   "execution_count": 109,
   "id": "886bbd1b-dd80-48fc-bbce-fbd5984c9cf0",
   "metadata": {},
   "outputs": [
    {
     "data": {
      "text/plain": [
       "((131, 5), (33, 5), (131,), (33,))"
      ]
     },
     "execution_count": 109,
     "metadata": {},
     "output_type": "execute_result"
    }
   ],
   "source": [
    "X_train, X_test, y_train, y_test = train_test_split(X, y, test_size=0.2, random_state=42)\n",
    "X_train.shape, X_test.shape, y_train.shape, y_test.shape"
   ]
  },
  {
   "cell_type": "code",
   "execution_count": null,
   "id": "fcd5f262-6e3e-49ba-810f-73f2c623ba1c",
   "metadata": {},
   "outputs": [],
   "source": []
  },
  {
   "cell_type": "code",
   "execution_count": 110,
   "id": "12820675-041d-4bb7-8139-34a2b34fbc9a",
   "metadata": {},
   "outputs": [],
   "source": [
    "clf = RandomForestClassifier(random_state=42)"
   ]
  },
  {
   "cell_type": "code",
   "execution_count": 111,
   "id": "5300e073-2368-46e8-b78c-3213edef7088",
   "metadata": {},
   "outputs": [],
   "source": [
    "from helpers.machine_learning_utils import cross_validation_options"
   ]
  },
  {
   "cell_type": "code",
   "execution_count": 112,
   "id": "6d3ff50d-8e12-40d2-8cd3-6079d721d616",
   "metadata": {},
   "outputs": [],
   "source": [
    "cv_option_param, n_jobs_param = cross_validation_options('skf_10')"
   ]
  },
  {
   "cell_type": "code",
   "execution_count": 113,
   "id": "3f977c4c-0b9b-4b62-975c-5acf420f82b4",
   "metadata": {},
   "outputs": [],
   "source": [
    "y_pred = cross_val_predict(clf, X_train, y_train, cv=cv_option_param, n_jobs=n_jobs_param)"
   ]
  },
  {
   "cell_type": "code",
   "execution_count": 114,
   "id": "bf89ed92-72c4-4429-8c86-42fafde85bd3",
   "metadata": {},
   "outputs": [],
   "source": [
    "from sklearn.metrics import accuracy_score, balanced_accuracy_score"
   ]
  },
  {
   "cell_type": "code",
   "execution_count": 115,
   "id": "c45c1efc-79ee-449d-843e-73642aabb8fb",
   "metadata": {},
   "outputs": [
    {
     "name": "stdout",
     "output_type": "stream",
     "text": [
      "accuracy_score: 0.740\n",
      "balanced_accuracy_score: 0.690\n"
     ]
    }
   ],
   "source": [
    "print(\"accuracy_score: {:.3f}\".format(accuracy_score(y_train, y_pred)))\n",
    "print(\"balanced_accuracy_score: {:.3f}\".format(balanced_accuracy_score(y_train, y_pred)))"
   ]
  },
  {
   "cell_type": "code",
   "execution_count": 116,
   "id": "e9599018-7368-4c3a-bcb1-cbe630382beb",
   "metadata": {},
   "outputs": [
    {
     "data": {
      "text/plain": [
       "0.754945054945055"
      ]
     },
     "execution_count": 116,
     "metadata": {},
     "output_type": "execute_result"
    }
   ],
   "source": [
    "cross_val_score(clf, X_train, y_train, cv=cv_option_param, n_jobs=n_jobs_param).mean()"
   ]
  },
  {
   "cell_type": "code",
   "execution_count": 117,
   "id": "50309011-eb2e-4fdc-bb7b-2c5eb789d2e4",
   "metadata": {},
   "outputs": [
    {
     "data": {
      "text/plain": [
       "0.6827777777777778"
      ]
     },
     "execution_count": 117,
     "metadata": {},
     "output_type": "execute_result"
    }
   ],
   "source": [
    "cross_val_score(clf, X_train, y_train, cv=cv_option_param, n_jobs=n_jobs_param, scoring='balanced_accuracy').mean()"
   ]
  },
  {
   "cell_type": "code",
   "execution_count": null,
   "id": "3b760878-011b-4ece-a959-968d7c836c85",
   "metadata": {},
   "outputs": [],
   "source": []
  },
  {
   "cell_type": "code",
   "execution_count": null,
   "id": "42ec44cb-b03c-430d-8222-a9132537b557",
   "metadata": {},
   "outputs": [],
   "source": []
  },
  {
   "cell_type": "code",
   "execution_count": null,
   "id": "4486f0d0-7b08-415c-bc83-b5ee27ed3be6",
   "metadata": {},
   "outputs": [],
   "source": []
  },
  {
   "cell_type": "markdown",
   "id": "278145a3-9bc9-4a3c-8f55-3e5628dffbb1",
   "metadata": {},
   "source": [
    "# Prediction Probabilities"
   ]
  },
  {
   "cell_type": "code",
   "execution_count": 93,
   "id": "21c74294-7f20-4b1b-acca-256c451f86d2",
   "metadata": {},
   "outputs": [],
   "source": [
    "from sklearn.model_selection import cross_val_predict"
   ]
  },
  {
   "cell_type": "code",
   "execution_count": null,
   "id": "7aea3e6d-79d5-4e69-8adf-5e1bd7a1a9bc",
   "metadata": {},
   "outputs": [],
   "source": []
  },
  {
   "cell_type": "code",
   "execution_count": null,
   "id": "a91719e4-9860-4a1d-beb4-bcf9cd00998f",
   "metadata": {},
   "outputs": [],
   "source": []
  },
  {
   "cell_type": "code",
   "execution_count": null,
   "id": "095dba0e-e8fc-4321-bb4e-bd13e3bc1081",
   "metadata": {},
   "outputs": [],
   "source": []
  },
  {
   "cell_type": "code",
   "execution_count": null,
   "id": "d0c8de15-607e-48ad-a16f-e51cb5bd76c4",
   "metadata": {},
   "outputs": [],
   "source": []
  },
  {
   "cell_type": "code",
   "execution_count": null,
   "id": "3899075a-32f9-458a-a591-52f33997d3ca",
   "metadata": {},
   "outputs": [],
   "source": []
  }
 ],
 "metadata": {
  "kernelspec": {
   "display_name": "Predicting-Mutation-Effects",
   "language": "python",
   "name": "predicting-mutation-effects"
  },
  "language_info": {
   "codemirror_mode": {
    "name": "ipython",
    "version": 3
   },
   "file_extension": ".py",
   "mimetype": "text/x-python",
   "name": "python",
   "nbconvert_exporter": "python",
   "pygments_lexer": "ipython3",
   "version": "3.8.10"
  }
 },
 "nbformat": 4,
 "nbformat_minor": 5
}
