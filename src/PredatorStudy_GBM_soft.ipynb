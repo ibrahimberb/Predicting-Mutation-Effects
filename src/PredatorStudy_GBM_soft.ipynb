{
 "cells": [
  {
   "cell_type": "markdown",
   "id": "b0eea2f9-919a-44d2-970f-da295e7b77c5",
   "metadata": {
    "tags": []
   },
   "source": [
    "# PREDATOR: **PRED**icting the imp**A**ct of cancer somatic mu**T**ations on pr**O**tein-protein inte**R**actions\n"
   ]
  },
  {
   "cell_type": "markdown",
   "id": "0fc1bee2-776f-46dc-9aa7-80e979b941df",
   "metadata": {},
   "source": [
    "## GBM"
   ]
  },
  {
   "cell_type": "markdown",
   "id": "f412b89c-b553-4606-95fb-d30520f77b97",
   "metadata": {},
   "source": [
    "\n",
    "<b><i class=\"fa fa-folder-o\" area-hidden=\"true\" style=\"color:#1976D2\"> </i>&nbsp; File Location</b><br>\n",
    "<p style=\"background:#F5F5F5; text-indent: 1em;\">\n",
    "<code style=\"background:#F5F5F5; color:#404040; font-weight:bold; font-size:12px\">C:\\Users\\ibrah\\Documents\\GitHub\\Predicting-Mutation-Effects\\src</code>\n",
    "</p>\n",
    "\n",
    "<b><i class=\"far fa-file\" area-hidden=\"true\" style=\"color:#1976D2\"> </i>&nbsp; File Name</b>\n",
    "<p style=\"background:#F5F5F5; text-indent: 1em;\">\n",
    "<code style=\"background:#F5F5F5; color:#404040; font-weight:bold; font-size:12px\">PredatorStudy_GBM_soft.ipynb</code>\n",
    "</p>\n",
    "\n",
    "<b><i class=\"far fa-calendar-alt\" area-hidden=\"true\" style=\"color:#1976D2\"> </i>&nbsp; Last Edited</b>\n",
    "<p style=\"background:#F5F5F5; text-indent: 1em;\">\n",
    "<code style=\"background:#F5F5F5; color:#404040; font-weight:bold; font-size:12px\">November 17th, 2021</code>\n",
    "</p>\n"
   ]
  },
  {
   "cell_type": "markdown",
   "id": "8931daec-0e11-43e2-8a68-098571c3cc4e",
   "metadata": {},
   "source": [
    "<div class=\"alert alert-block\" style=\"background-color: #F5F5F5; border: 1px solid; padding: 10px; border-color: #E0E0E0\">\n",
    "    <b><i class=\"fa fa-compass\" aria-hidden=\"true\" style=\"color:#404040\"></i></b>&nbsp; <b style=\"color: #404040\">Purpose </b> <br>\n",
    "<div>\n",
    "   \n",
    "- [x] Apply on Cancer Datasets\n",
    "    > GBM\n",
    "    \n",
    "**Dependent files:**\n",
    "\n",
    "* Target (Cancer) data: \n",
    "    - *GBM_Interface.txt*"
   ]
  },
  {
   "cell_type": "code",
   "execution_count": 1,
   "id": "3f602602-ac27-4390-9521-9bcdc73f06ef",
   "metadata": {},
   "outputs": [],
   "source": [
    "# Common imports\n",
    "import pandas as pd\n",
    "import numpy as np\n",
    "import matplotlib.pyplot as plt\n",
    "import seaborn as sns\n",
    "\n",
    "import os\n",
    "import os.path as op\n",
    "import sys\n",
    "import random\n",
    "from pathlib import Path\n",
    "\n",
    "from pprint import pprint\n",
    "from IPython.display import display\n",
    "from tqdm.notebook import tqdm\n",
    "\n",
    "from helpers.helpers_predator.displayers import (\n",
    "    display_label_counts, \n",
    "    display_labels, \n",
    "    visualize_label_counts,\n",
    "    display_data,\n",
    ")\n",
    "\n",
    "from helpers.helpers_predator.visualizers import (\n",
    "    visualize_sampled_train_datasets_label_counts\n",
    ")\n",
    "\n",
    "from helpers.helpers_predator.common import load_predator\n",
    "from helpers.helpers_predator.common import export_data\n",
    "\n",
    "# PATHS\n",
    "GBM_PATH = Path(r\"../../My-ELASPIC-Web-API/Elaspic_Results/Merged_Results/GBM_Interface_2021-11-17.txt\")\n",
    "PREDATOR_MODEL_PATH = Path(r\"PredatorModels/PredatorModel_2021-10-24/04f37897/predator.pkl\")\n",
    "PREDICTIONS_DATASETS_FOLDER_PATH = \"../data/predictions_datasets/\"\n",
    "\n",
    "# Reflect changes in the modules immediately.\n",
    "%load_ext autoreload\n",
    "%autoreload 2"
   ]
  },
  {
   "cell_type": "markdown",
   "id": "c47b1edb-758c-460e-acf7-4f864330d19b",
   "metadata": {},
   "source": [
    "## Load the Predator"
   ]
  },
  {
   "cell_type": "code",
   "execution_count": 2,
   "id": "0c164c31-9b7e-4366-8336-50cbc80bf9c7",
   "metadata": {},
   "outputs": [
    {
     "name": "stdout",
     "output_type": "stream",
     "text": [
      "2021-11-17 16:30:14 |\u001b[32m INFO     \u001b[0m| helpers.helpers_predator.common | Predator object PredatorModels\\PredatorModel_2021-10-24\\04f37897\\predator.pkl is loaded successfully.\n"
     ]
    }
   ],
   "source": [
    "predator = load_predator(PREDATOR_MODEL_PATH)"
   ]
  },
  {
   "cell_type": "markdown",
   "id": "60f783e4-28bb-4543-9d35-42c4b17b37b8",
   "metadata": {},
   "source": [
    "## Prediction TCGA on Cancer Dataset: GBM"
   ]
  },
  {
   "cell_type": "code",
   "execution_count": 3,
   "id": "c27cc976-e356-4271-85e9-f23c9366dc67",
   "metadata": {},
   "outputs": [
    {
     "name": "stdout",
     "output_type": "stream",
     "text": [
      "2021-11-17 16:30:14 |\u001b[36m DEBUG    \u001b[0m| helpers.helpers_predator.data_materials | Initialize `gbm` ..\n",
      "2021-11-17 16:30:14 |\u001b[36m DEBUG    \u001b[0m| helpers.helpers_predator.data_materials | Initialize `target_gbm_data` ..\n",
      "2021-11-17 16:30:14 |\u001b[36m DEBUG    \u001b[0m| helpers.helpers_predator.data_materials | Initializing target data materials ..\n",
      "2021-11-17 16:30:14 |\u001b[36m DEBUG    \u001b[0m| helpers.helpers_predator.data_materials | Determined features: ['Provean_score', 'EL2_score', 'Final_ddG', 'Interactor_alignment_score', 'Solvent_accessibility_wt', 'Matrix_score', 'Solvent_accessibility_mut', 'van_der_waals_mut', 'Interactor_template_sequence_identity', 'solvation_polar_wt']\n",
      "2021-11-17 16:30:14 |\u001b[36m DEBUG    \u001b[0m| helpers.helpers_predator.data_materials | Declaring Xs_gbm data materials  ..\n"
     ]
    }
   ],
   "source": [
    "predator.initialize_target_data_materials(\n",
    "    tcga_code_path_pairs=[('gbm', GBM_PATH)]\n",
    ")"
   ]
  },
  {
   "cell_type": "markdown",
   "id": "245b2b8c-0c70-4cd5-9a09-b3428cf0b048",
   "metadata": {
    "tags": []
   },
   "source": [
    "#### TCGA Cancer Datasets"
   ]
  },
  {
   "cell_type": "markdown",
   "id": "4ab061ec-37b5-4651-a5c0-1f1238e7a08a",
   "metadata": {},
   "source": [
    "##### GBM"
   ]
  },
  {
   "cell_type": "code",
   "execution_count": 4,
   "id": "342221d3-8e16-42eb-9801-20a3efed64f5",
   "metadata": {},
   "outputs": [
    {
     "name": "stdout",
     "output_type": "stream",
     "text": [
      "\u001b[36mData dimensions: (5631, 103)\u001b[0m\n"
     ]
    },
    {
     "data": {
      "text/html": [
       "<div>\n",
       "<style scoped>\n",
       "    .dataframe tbody tr th:only-of-type {\n",
       "        vertical-align: middle;\n",
       "    }\n",
       "\n",
       "    .dataframe tbody tr th {\n",
       "        vertical-align: top;\n",
       "    }\n",
       "\n",
       "    .dataframe thead th {\n",
       "        text-align: right;\n",
       "    }\n",
       "</style>\n",
       "<table border=\"1\" class=\"dataframe\">\n",
       "  <thead>\n",
       "    <tr style=\"text-align: right;\">\n",
       "      <th></th>\n",
       "      <th>Input_identifier</th>\n",
       "      <th>UniProt_ID</th>\n",
       "      <th>Mutation</th>\n",
       "      <th>Status</th>\n",
       "      <th>Type</th>\n",
       "      <th>COSMIC_mut_ID</th>\n",
       "      <th>ClinVar_mut_ID</th>\n",
       "      <th>UniProt_mut_ID</th>\n",
       "      <th>Domain_name</th>\n",
       "      <th>Domain_clan</th>\n",
       "      <th>...</th>\n",
       "      <th>number_of_residues_mut</th>\n",
       "      <th>IntraclashesEnergy1_wt</th>\n",
       "      <th>IntraclashesEnergy1_mut</th>\n",
       "      <th>IntraclashesEnergy2_wt</th>\n",
       "      <th>IntraclashesEnergy2_mut</th>\n",
       "      <th>Interface_hydrophobic_area</th>\n",
       "      <th>Interface_hydrophilic_area</th>\n",
       "      <th>Interface_total_area</th>\n",
       "      <th>Interface_contact_distance_wt</th>\n",
       "      <th>Interface_contact_distance_mut</th>\n",
       "    </tr>\n",
       "  </thead>\n",
       "  <tbody>\n",
       "    <tr>\n",
       "      <th>0</th>\n",
       "      <td>P46734</td>\n",
       "      <td>P46734</td>\n",
       "      <td>K200E</td>\n",
       "      <td>done</td>\n",
       "      <td>interface</td>\n",
       "      <td>-</td>\n",
       "      <td>-</td>\n",
       "      <td>-</td>\n",
       "      <td>Pkinase</td>\n",
       "      <td>Pkinase</td>\n",
       "      <td>...</td>\n",
       "      <td>640.0</td>\n",
       "      <td>140.8630</td>\n",
       "      <td>140.8620</td>\n",
       "      <td>115.263</td>\n",
       "      <td>115.263</td>\n",
       "      <td>522.24</td>\n",
       "      <td>286.075</td>\n",
       "      <td>808.315</td>\n",
       "      <td>2.74325</td>\n",
       "      <td>2.74325</td>\n",
       "    </tr>\n",
       "    <tr>\n",
       "      <th>1</th>\n",
       "      <td>P46734</td>\n",
       "      <td>P46734</td>\n",
       "      <td>K200E</td>\n",
       "      <td>done</td>\n",
       "      <td>interface</td>\n",
       "      <td>-</td>\n",
       "      <td>-</td>\n",
       "      <td>-</td>\n",
       "      <td>Pkinase</td>\n",
       "      <td>Pkinase</td>\n",
       "      <td>...</td>\n",
       "      <td>596.0</td>\n",
       "      <td>88.7587</td>\n",
       "      <td>88.7927</td>\n",
       "      <td>264.825</td>\n",
       "      <td>264.825</td>\n",
       "      <td>None</td>\n",
       "      <td>None</td>\n",
       "      <td>None</td>\n",
       "      <td>3.68021</td>\n",
       "      <td>3.59315</td>\n",
       "    </tr>\n",
       "    <tr>\n",
       "      <th>2</th>\n",
       "      <td>P46734</td>\n",
       "      <td>P46734</td>\n",
       "      <td>K200E</td>\n",
       "      <td>done</td>\n",
       "      <td>interface</td>\n",
       "      <td>-</td>\n",
       "      <td>-</td>\n",
       "      <td>-</td>\n",
       "      <td>Pkinase</td>\n",
       "      <td>Pkinase</td>\n",
       "      <td>...</td>\n",
       "      <td>622.0</td>\n",
       "      <td>252.2520</td>\n",
       "      <td>252.2990</td>\n",
       "      <td>112.394</td>\n",
       "      <td>112.522</td>\n",
       "      <td>None</td>\n",
       "      <td>None</td>\n",
       "      <td>None</td>\n",
       "      <td>2.95347</td>\n",
       "      <td>2.95347</td>\n",
       "    </tr>\n",
       "  </tbody>\n",
       "</table>\n",
       "<p>3 rows × 103 columns</p>\n",
       "</div>"
      ],
      "text/plain": [
       "  Input_identifier UniProt_ID Mutation Status       Type COSMIC_mut_ID  \\\n",
       "0           P46734     P46734    K200E   done  interface             -   \n",
       "1           P46734     P46734    K200E   done  interface             -   \n",
       "2           P46734     P46734    K200E   done  interface             -   \n",
       "\n",
       "  ClinVar_mut_ID UniProt_mut_ID Domain_name Domain_clan  ...  \\\n",
       "0              -              -     Pkinase     Pkinase  ...   \n",
       "1              -              -     Pkinase     Pkinase  ...   \n",
       "2              -              -     Pkinase     Pkinase  ...   \n",
       "\n",
       "  number_of_residues_mut IntraclashesEnergy1_wt  IntraclashesEnergy1_mut  \\\n",
       "0                  640.0               140.8630                 140.8620   \n",
       "1                  596.0                88.7587                  88.7927   \n",
       "2                  622.0               252.2520                 252.2990   \n",
       "\n",
       "   IntraclashesEnergy2_wt IntraclashesEnergy2_mut Interface_hydrophobic_area  \\\n",
       "0                 115.263                 115.263                     522.24   \n",
       "1                 264.825                 264.825                       None   \n",
       "2                 112.394                 112.522                       None   \n",
       "\n",
       "  Interface_hydrophilic_area Interface_total_area  \\\n",
       "0                    286.075              808.315   \n",
       "1                       None                 None   \n",
       "2                       None                 None   \n",
       "\n",
       "  Interface_contact_distance_wt  Interface_contact_distance_mut  \n",
       "0                       2.74325                         2.74325  \n",
       "1                       3.68021                         3.59315  \n",
       "2                       2.95347                         2.95347  \n",
       "\n",
       "[3 rows x 103 columns]"
      ]
     },
     "metadata": {},
     "output_type": "display_data"
    }
   ],
   "source": [
    "display_data(predator.data_materials[\"gbm\"])"
   ]
  },
  {
   "cell_type": "markdown",
   "id": "a22d630d-e0a0-4417-aa64-0df18f8f3a63",
   "metadata": {
    "tags": []
   },
   "source": [
    "#### Preprocessed TCGA Cancer Datasets"
   ]
  },
  {
   "cell_type": "markdown",
   "id": "ca038a01-2691-4943-9d7e-55a41661f3cc",
   "metadata": {},
   "source": [
    "##### GBM"
   ]
  },
  {
   "cell_type": "code",
   "execution_count": 5,
   "id": "67f55bd2-c25a-4d6c-ba5b-08957cf03852",
   "metadata": {},
   "outputs": [
    {
     "name": "stdout",
     "output_type": "stream",
     "text": [
      "\u001b[36mData dimensions: (5631, 61)\u001b[0m\n"
     ]
    },
    {
     "data": {
      "text/html": [
       "<div>\n",
       "<style scoped>\n",
       "    .dataframe tbody tr th:only-of-type {\n",
       "        vertical-align: middle;\n",
       "    }\n",
       "\n",
       "    .dataframe tbody tr th {\n",
       "        vertical-align: top;\n",
       "    }\n",
       "\n",
       "    .dataframe thead th {\n",
       "        text-align: right;\n",
       "    }\n",
       "</style>\n",
       "<table border=\"1\" class=\"dataframe\">\n",
       "  <thead>\n",
       "    <tr style=\"text-align: right;\">\n",
       "      <th></th>\n",
       "      <th>UniProt_ID</th>\n",
       "      <th>Mutation</th>\n",
       "      <th>Interactor_UniProt_ID</th>\n",
       "      <th>Template_sequence_identity</th>\n",
       "      <th>Alignment_score</th>\n",
       "      <th>Interactor_template_sequence_identity</th>\n",
       "      <th>Interactor_alignment_score</th>\n",
       "      <th>Final_ddG</th>\n",
       "      <th>ProtBert_score</th>\n",
       "      <th>ProteinSolver_score</th>\n",
       "      <th>...</th>\n",
       "      <th>number_of_residues_mut</th>\n",
       "      <th>IntraclashesEnergy1_wt</th>\n",
       "      <th>IntraclashesEnergy1_mut</th>\n",
       "      <th>IntraclashesEnergy2_wt</th>\n",
       "      <th>IntraclashesEnergy2_mut</th>\n",
       "      <th>Interface_hydrophobic_area</th>\n",
       "      <th>Interface_hydrophilic_area</th>\n",
       "      <th>Interface_total_area</th>\n",
       "      <th>Interface_contact_distance_wt</th>\n",
       "      <th>Interface_contact_distance_mut</th>\n",
       "    </tr>\n",
       "  </thead>\n",
       "  <tbody>\n",
       "    <tr>\n",
       "      <th>0</th>\n",
       "      <td>P46734</td>\n",
       "      <td>K200E</td>\n",
       "      <td>P27361</td>\n",
       "      <td>0.2593</td>\n",
       "      <td>0.265785</td>\n",
       "      <td>0.8757</td>\n",
       "      <td>0.857142</td>\n",
       "      <td>0.461337</td>\n",
       "      <td>0.276329</td>\n",
       "      <td>0.154538</td>\n",
       "      <td>...</td>\n",
       "      <td>640.0</td>\n",
       "      <td>140.8630</td>\n",
       "      <td>140.8620</td>\n",
       "      <td>115.263</td>\n",
       "      <td>115.263</td>\n",
       "      <td>522.24</td>\n",
       "      <td>286.075</td>\n",
       "      <td>808.315</td>\n",
       "      <td>2.74325</td>\n",
       "      <td>2.74325</td>\n",
       "    </tr>\n",
       "    <tr>\n",
       "      <th>1</th>\n",
       "      <td>P46734</td>\n",
       "      <td>K200E</td>\n",
       "      <td>P27361-2</td>\n",
       "      <td>0.8112</td>\n",
       "      <td>0.806540</td>\n",
       "      <td>0.2959</td>\n",
       "      <td>0.253635</td>\n",
       "      <td>-0.891666</td>\n",
       "      <td>0.259010</td>\n",
       "      <td>-0.033457</td>\n",
       "      <td>...</td>\n",
       "      <td>596.0</td>\n",
       "      <td>88.7587</td>\n",
       "      <td>88.7927</td>\n",
       "      <td>264.825</td>\n",
       "      <td>264.825</td>\n",
       "      <td>0.00</td>\n",
       "      <td>0.000</td>\n",
       "      <td>0.000</td>\n",
       "      <td>3.68021</td>\n",
       "      <td>3.59315</td>\n",
       "    </tr>\n",
       "    <tr>\n",
       "      <th>2</th>\n",
       "      <td>P46734</td>\n",
       "      <td>K200E</td>\n",
       "      <td>P27361-3</td>\n",
       "      <td>0.2593</td>\n",
       "      <td>0.265785</td>\n",
       "      <td>0.8675</td>\n",
       "      <td>0.827016</td>\n",
       "      <td>0.677915</td>\n",
       "      <td>0.274909</td>\n",
       "      <td>0.204851</td>\n",
       "      <td>...</td>\n",
       "      <td>622.0</td>\n",
       "      <td>252.2520</td>\n",
       "      <td>252.2990</td>\n",
       "      <td>112.394</td>\n",
       "      <td>112.522</td>\n",
       "      <td>0.00</td>\n",
       "      <td>0.000</td>\n",
       "      <td>0.000</td>\n",
       "      <td>2.95347</td>\n",
       "      <td>2.95347</td>\n",
       "    </tr>\n",
       "  </tbody>\n",
       "</table>\n",
       "<p>3 rows × 61 columns</p>\n",
       "</div>"
      ],
      "text/plain": [
       "  UniProt_ID Mutation Interactor_UniProt_ID  Template_sequence_identity  \\\n",
       "0     P46734    K200E                P27361                      0.2593   \n",
       "1     P46734    K200E              P27361-2                      0.8112   \n",
       "2     P46734    K200E              P27361-3                      0.2593   \n",
       "\n",
       "   Alignment_score  Interactor_template_sequence_identity  \\\n",
       "0         0.265785                                 0.8757   \n",
       "1         0.806540                                 0.2959   \n",
       "2         0.265785                                 0.8675   \n",
       "\n",
       "   Interactor_alignment_score  Final_ddG  ProtBert_score  ProteinSolver_score  \\\n",
       "0                    0.857142   0.461337        0.276329             0.154538   \n",
       "1                    0.253635  -0.891666        0.259010            -0.033457   \n",
       "2                    0.827016   0.677915        0.274909             0.204851   \n",
       "\n",
       "   ...  number_of_residues_mut  IntraclashesEnergy1_wt  \\\n",
       "0  ...                   640.0                140.8630   \n",
       "1  ...                   596.0                 88.7587   \n",
       "2  ...                   622.0                252.2520   \n",
       "\n",
       "   IntraclashesEnergy1_mut  IntraclashesEnergy2_wt  IntraclashesEnergy2_mut  \\\n",
       "0                 140.8620                 115.263                  115.263   \n",
       "1                  88.7927                 264.825                  264.825   \n",
       "2                 252.2990                 112.394                  112.522   \n",
       "\n",
       "   Interface_hydrophobic_area  Interface_hydrophilic_area  \\\n",
       "0                      522.24                     286.075   \n",
       "1                        0.00                       0.000   \n",
       "2                        0.00                       0.000   \n",
       "\n",
       "   Interface_total_area  Interface_contact_distance_wt  \\\n",
       "0               808.315                        2.74325   \n",
       "1                 0.000                        3.68021   \n",
       "2                 0.000                        2.95347   \n",
       "\n",
       "   Interface_contact_distance_mut  \n",
       "0                         2.74325  \n",
       "1                         3.59315  \n",
       "2                         2.95347  \n",
       "\n",
       "[3 rows x 61 columns]"
      ]
     },
     "metadata": {},
     "output_type": "display_data"
    }
   ],
   "source": [
    "display_data(predator.data_materials[\"target_gbm_data\"])"
   ]
  },
  {
   "cell_type": "markdown",
   "id": "6cd1cc76-b56f-4789-b3b9-bf907fe7399e",
   "metadata": {
    "tags": []
   },
   "source": [
    "### Voting mode: `soft`"
   ]
  },
  {
   "cell_type": "code",
   "execution_count": 6,
   "id": "44e95ef5-2482-4d0d-93fa-305004853f7c",
   "metadata": {},
   "outputs": [
    {
     "name": "stdout",
     "output_type": "stream",
     "text": [
      "2021-11-17 16:30:18 |\u001b[36m DEBUG    \u001b[0m| helpers.helpers_predator.data_materials | Initialize `gbm` ..\n",
      "2021-11-17 16:30:18 |\u001b[36m DEBUG    \u001b[0m| helpers.helpers_predator.data_materials | Initialize `target_gbm_data` ..\n",
      "2021-11-17 16:30:19 |\u001b[36m DEBUG    \u001b[0m| helpers.helpers_predator.data_materials | Initializing target data materials ..\n",
      "2021-11-17 16:30:19 |\u001b[36m DEBUG    \u001b[0m| helpers.helpers_predator.data_materials | Determined features: ['Provean_score', 'EL2_score', 'Final_ddG', 'Interactor_alignment_score', 'Solvent_accessibility_wt', 'Matrix_score', 'Solvent_accessibility_mut', 'van_der_waals_mut', 'Interactor_template_sequence_identity', 'solvation_polar_wt']\n",
      "2021-11-17 16:30:19 |\u001b[36m DEBUG    \u001b[0m| helpers.helpers_predator.data_materials | Declaring Xs_gbm data materials  ..\n"
     ]
    }
   ],
   "source": [
    "predator.initialize_target_data_materials(\n",
    "    tcga_code_path_pairs=[('gbm', GBM_PATH)]\n",
    ")"
   ]
  },
  {
   "cell_type": "code",
   "execution_count": 7,
   "id": "323fbd63-7e32-471f-8cee-4b0abf9d82dc",
   "metadata": {
    "scrolled": true,
    "tags": []
   },
   "outputs": [
    {
     "name": "stdout",
     "output_type": "stream",
     "text": [
      "2021-11-17 16:30:19 |\u001b[36m DEBUG    \u001b[0m| Predator | Predicting on cancer datasets ..\n",
      "2021-11-17 16:30:19 |\u001b[36m DEBUG    \u001b[0m| helpers.helpers_predator.models | Initializing EnsambledVotingClassifier.\n",
      "2021-11-17 16:30:19 |\u001b[36m DEBUG    \u001b[0m| helpers.helpers_predator.models | Voting mode: soft\n",
      "2021-11-17 16:30:19 |\u001b[36m DEBUG    \u001b[0m| helpers.helpers_predator.predictions | Initializing: PredictionsSoft\n",
      "2021-11-17 16:30:19 |\u001b[36m DEBUG    \u001b[0m| Predator | Predicting on gbm cohort ..\n",
      "2021-11-17 16:30:19 |\u001b[36m DEBUG    \u001b[0m| helpers.helpers_predator.models | Current estimator: RandomForestClassifier(bootstrap=False, class_weight='balanced', max_depth=4,\n",
      "                       max_features='sqrt', n_estimators=600,\n",
      "                       random_state=14593)\n",
      "2021-11-17 16:30:19 |\u001b[36m DEBUG    \u001b[0m| helpers.helpers_predator.models | X shape: (5631, 10)\n",
      "2021-11-17 16:30:19 |\u001b[36m DEBUG    \u001b[0m| helpers.helpers_predator.models | Current estimator: RandomForestClassifier(bootstrap=False, max_depth=8, max_features=None,\n",
      "                       min_samples_leaf=2, n_estimators=480, random_state=3279)\n",
      "2021-11-17 16:30:19 |\u001b[36m DEBUG    \u001b[0m| helpers.helpers_predator.models | X shape: (5631, 10)\n",
      "2021-11-17 16:30:20 |\u001b[36m DEBUG    \u001b[0m| helpers.helpers_predator.models | Current estimator: RandomForestClassifier(class_weight='balanced', max_depth=11,\n",
      "                       min_samples_split=5, n_estimators=120,\n",
      "                       random_state=36049)\n",
      "2021-11-17 16:30:20 |\u001b[36m DEBUG    \u001b[0m| helpers.helpers_predator.models | X shape: (5631, 10)\n",
      "2021-11-17 16:30:20 |\u001b[36m DEBUG    \u001b[0m| helpers.helpers_predator.models | Current estimator: RandomForestClassifier(class_weight='balanced', max_depth=3,\n",
      "                       max_features='sqrt', min_samples_leaf=4, n_estimators=40,\n",
      "                       random_state=18290)\n",
      "2021-11-17 16:30:20 |\u001b[36m DEBUG    \u001b[0m| helpers.helpers_predator.models | X shape: (5631, 10)\n",
      "2021-11-17 16:30:20 |\u001b[36m DEBUG    \u001b[0m| helpers.helpers_predator.models | Current estimator: RandomForestClassifier(bootstrap=False, max_depth=11, max_features='sqrt',\n",
      "                       min_samples_split=5, n_estimators=460,\n",
      "                       random_state=96531)\n",
      "2021-11-17 16:30:20 |\u001b[36m DEBUG    \u001b[0m| helpers.helpers_predator.models | X shape: (5631, 10)\n",
      "2021-11-17 16:30:20 |\u001b[36m DEBUG    \u001b[0m| helpers.helpers_predator.models | Current estimator: RandomForestClassifier(class_weight='balanced', max_depth=12,\n",
      "                       min_samples_leaf=4, min_samples_split=5, n_estimators=80,\n",
      "                       random_state=13435)\n",
      "2021-11-17 16:30:20 |\u001b[36m DEBUG    \u001b[0m| helpers.helpers_predator.models | X shape: (5631, 10)\n",
      "2021-11-17 16:30:20 |\u001b[36m DEBUG    \u001b[0m| helpers.helpers_predator.models | Current estimator: RandomForestClassifier(class_weight='balanced', max_depth=2,\n",
      "                       min_samples_split=5, n_estimators=500,\n",
      "                       random_state=88697)\n",
      "2021-11-17 16:30:20 |\u001b[36m DEBUG    \u001b[0m| helpers.helpers_predator.models | X shape: (5631, 10)\n",
      "2021-11-17 16:30:21 |\u001b[36m DEBUG    \u001b[0m| helpers.helpers_predator.models | Current estimator: RandomForestClassifier(bootstrap=False, class_weight='balanced', max_depth=7,\n",
      "                       max_features='sqrt', min_samples_leaf=2,\n",
      "                       min_samples_split=5, n_estimators=280,\n",
      "                       random_state=97081)\n",
      "2021-11-17 16:30:21 |\u001b[36m DEBUG    \u001b[0m| helpers.helpers_predator.models | X shape: (5631, 10)\n",
      "2021-11-17 16:30:21 |\u001b[36m DEBUG    \u001b[0m| helpers.helpers_predator.models | Current estimator: RandomForestClassifier(bootstrap=False, max_depth=3, max_features='sqrt',\n",
      "                       min_samples_leaf=2, n_estimators=60, random_state=71483)\n",
      "2021-11-17 16:30:21 |\u001b[36m DEBUG    \u001b[0m| helpers.helpers_predator.models | X shape: (5631, 10)\n",
      "2021-11-17 16:30:21 |\u001b[36m DEBUG    \u001b[0m| helpers.helpers_predator.models | Current estimator: RandomForestClassifier(class_weight='balanced', max_depth=2,\n",
      "                       max_features='sqrt', min_samples_leaf=4,\n",
      "                       n_estimators=440, random_state=11396)\n",
      "2021-11-17 16:30:21 |\u001b[36m DEBUG    \u001b[0m| helpers.helpers_predator.models | X shape: (5631, 10)\n",
      "2021-11-17 16:30:21 |\u001b[36m DEBUG    \u001b[0m| helpers.helpers_predator.models | Current estimator: RandomForestClassifier(bootstrap=False, max_depth=6, min_samples_leaf=2,\n",
      "                       min_samples_split=5, n_estimators=80,\n",
      "                       random_state=77398)\n",
      "2021-11-17 16:30:21 |\u001b[36m DEBUG    \u001b[0m| helpers.helpers_predator.models | X shape: (5631, 10)\n",
      "2021-11-17 16:30:21 |\u001b[36m DEBUG    \u001b[0m| helpers.helpers_predator.models | Current estimator: RandomForestClassifier(max_depth=8, max_features='sqrt', min_samples_split=5,\n",
      "                       n_estimators=20, random_state=55303)\n",
      "2021-11-17 16:30:21 |\u001b[36m DEBUG    \u001b[0m| helpers.helpers_predator.models | X shape: (5631, 10)\n",
      "2021-11-17 16:30:21 |\u001b[36m DEBUG    \u001b[0m| helpers.helpers_predator.models | Current estimator: RandomForestClassifier(class_weight='balanced', max_depth=4,\n",
      "                       min_samples_split=5, random_state=4166)\n",
      "2021-11-17 16:30:21 |\u001b[36m DEBUG    \u001b[0m| helpers.helpers_predator.models | X shape: (5631, 10)\n",
      "2021-11-17 16:30:21 |\u001b[36m DEBUG    \u001b[0m| helpers.helpers_predator.models | Current estimator: RandomForestClassifier(bootstrap=False, max_depth=13, max_features='sqrt',\n",
      "                       min_samples_split=5, n_estimators=380,\n",
      "                       random_state=12281)\n",
      "2021-11-17 16:30:21 |\u001b[36m DEBUG    \u001b[0m| helpers.helpers_predator.models | X shape: (5631, 10)\n",
      "2021-11-17 16:30:22 |\u001b[36m DEBUG    \u001b[0m| helpers.helpers_predator.models | Current estimator: RandomForestClassifier(bootstrap=False, class_weight='balanced', max_depth=4,\n",
      "                       max_features='sqrt', n_estimators=10,\n",
      "                       random_state=28658)\n",
      "2021-11-17 16:30:22 |\u001b[36m DEBUG    \u001b[0m| helpers.helpers_predator.models | X shape: (5631, 10)\n",
      "2021-11-17 16:30:22 |\u001b[36m DEBUG    \u001b[0m| helpers.helpers_predator.models | Current estimator: RandomForestClassifier(class_weight='balanced', max_depth=3, min_samples_leaf=2,\n",
      "                       n_estimators=30, random_state=30496)\n",
      "2021-11-17 16:30:22 |\u001b[36m DEBUG    \u001b[0m| helpers.helpers_predator.models | X shape: (5631, 10)\n",
      "2021-11-17 16:30:22 |\u001b[36m DEBUG    \u001b[0m| helpers.helpers_predator.models | Current estimator: RandomForestClassifier(class_weight='balanced', max_depth=11,\n",
      "                       min_samples_leaf=4, n_estimators=120,\n",
      "                       random_state=66238)\n",
      "2021-11-17 16:30:22 |\u001b[36m DEBUG    \u001b[0m| helpers.helpers_predator.models | X shape: (5631, 10)\n",
      "2021-11-17 16:30:22 |\u001b[36m DEBUG    \u001b[0m| helpers.helpers_predator.models | Current estimator: RandomForestClassifier(class_weight='balanced', max_depth=2,\n",
      "                       max_features='sqrt', n_estimators=340,\n",
      "                       random_state=3479)\n",
      "2021-11-17 16:30:22 |\u001b[36m DEBUG    \u001b[0m| helpers.helpers_predator.models | X shape: (5631, 10)\n",
      "2021-11-17 16:30:22 |\u001b[36m DEBUG    \u001b[0m| helpers.helpers_predator.models | Current estimator: RandomForestClassifier(class_weight='balanced', max_depth=3,\n",
      "                       max_features='sqrt', min_samples_leaf=4,\n",
      "                       n_estimators=480, random_state=26063)\n",
      "2021-11-17 16:30:22 |\u001b[36m DEBUG    \u001b[0m| helpers.helpers_predator.models | X shape: (5631, 10)\n",
      "2021-11-17 16:30:22 |\u001b[36m DEBUG    \u001b[0m| helpers.helpers_predator.models | Current estimator: RandomForestClassifier(class_weight='balanced', max_depth=3, min_samples_leaf=2,\n",
      "                       n_estimators=560, random_state=85182)\n",
      "2021-11-17 16:30:22 |\u001b[36m DEBUG    \u001b[0m| helpers.helpers_predator.models | X shape: (5631, 10)\n",
      "2021-11-17 16:30:22 |\u001b[36m DEBUG    \u001b[0m| helpers.helpers_predator.models | Current estimator: RandomForestClassifier(class_weight='balanced', max_depth=13,\n",
      "                       min_samples_leaf=4, min_samples_split=5, n_estimators=40,\n",
      "                       random_state=91925)\n",
      "2021-11-17 16:30:22 |\u001b[36m DEBUG    \u001b[0m| helpers.helpers_predator.models | X shape: (5631, 10)\n",
      "2021-11-17 16:30:22 |\u001b[36m DEBUG    \u001b[0m| helpers.helpers_predator.models | Current estimator: RandomForestClassifier(class_weight='balanced', max_depth=2, min_samples_leaf=4,\n",
      "                       min_samples_split=5, n_estimators=280,\n",
      "                       random_state=54988)\n",
      "2021-11-17 16:30:22 |\u001b[36m DEBUG    \u001b[0m| helpers.helpers_predator.models | X shape: (5631, 10)\n",
      "2021-11-17 16:30:23 |\u001b[36m DEBUG    \u001b[0m| helpers.helpers_predator.models | Current estimator: RandomForestClassifier(class_weight='balanced', max_depth=11,\n",
      "                       max_features='sqrt', min_samples_leaf=2,\n",
      "                       min_samples_split=5, n_estimators=360,\n",
      "                       random_state=58879)\n",
      "2021-11-17 16:30:23 |\u001b[36m DEBUG    \u001b[0m| helpers.helpers_predator.models | X shape: (5631, 10)\n",
      "2021-11-17 16:30:23 |\u001b[36m DEBUG    \u001b[0m| helpers.helpers_predator.models | Current estimator: RandomForestClassifier(max_depth=7, n_estimators=20, random_state=77237)\n",
      "2021-11-17 16:30:23 |\u001b[36m DEBUG    \u001b[0m| helpers.helpers_predator.models | X shape: (5631, 10)\n",
      "2021-11-17 16:30:23 |\u001b[36m DEBUG    \u001b[0m| helpers.helpers_predator.models | Current estimator: RandomForestClassifier(bootstrap=False, max_depth=14, min_samples_leaf=4,\n",
      "                       min_samples_split=5, n_estimators=20, random_state=852)\n",
      "2021-11-17 16:30:23 |\u001b[36m DEBUG    \u001b[0m| helpers.helpers_predator.models | X shape: (5631, 10)\n",
      "2021-11-17 16:30:23 |\u001b[36m DEBUG    \u001b[0m| helpers.helpers_predator.models | Current estimator: RandomForestClassifier(class_weight='balanced', max_depth=8,\n",
      "                       max_features='sqrt', min_samples_leaf=4,\n",
      "                       min_samples_split=5, n_estimators=520,\n",
      "                       random_state=99459)\n",
      "2021-11-17 16:30:23 |\u001b[36m DEBUG    \u001b[0m| helpers.helpers_predator.models | X shape: (5631, 10)\n",
      "2021-11-17 16:30:23 |\u001b[36m DEBUG    \u001b[0m| helpers.helpers_predator.models | Current estimator: RandomForestClassifier(class_weight='balanced', max_depth=6, min_samples_leaf=4,\n",
      "                       min_samples_split=5, n_estimators=260,\n",
      "                       random_state=20927)\n",
      "2021-11-17 16:30:23 |\u001b[36m DEBUG    \u001b[0m| helpers.helpers_predator.models | X shape: (5631, 10)\n",
      "2021-11-17 16:30:23 |\u001b[36m DEBUG    \u001b[0m| helpers.helpers_predator.models | Current estimator: RandomForestClassifier(max_depth=9, min_samples_leaf=4, n_estimators=580,\n",
      "                       random_state=55393)\n",
      "2021-11-17 16:30:23 |\u001b[36m DEBUG    \u001b[0m| helpers.helpers_predator.models | X shape: (5631, 10)\n",
      "2021-11-17 16:30:24 |\u001b[36m DEBUG    \u001b[0m| helpers.helpers_predator.models | Current estimator: RandomForestClassifier(bootstrap=False, class_weight='balanced', max_depth=7,\n",
      "                       min_samples_split=5, n_estimators=140,\n",
      "                       random_state=36422)\n",
      "2021-11-17 16:30:24 |\u001b[36m DEBUG    \u001b[0m| helpers.helpers_predator.models | X shape: (5631, 10)\n",
      "2021-11-17 16:30:24 |\u001b[36m DEBUG    \u001b[0m| helpers.helpers_predator.models | Current estimator: RandomForestClassifier(bootstrap=False, max_depth=11, n_estimators=540,\n",
      "                       random_state=20380)\n",
      "2021-11-17 16:30:24 |\u001b[36m DEBUG    \u001b[0m| helpers.helpers_predator.models | X shape: (5631, 10)\n",
      "2021-11-17 16:30:24 |\u001b[36m DEBUG    \u001b[0m| helpers.helpers_predator.models | Current estimator: RandomForestClassifier(class_weight='balanced', max_depth=8, min_samples_leaf=2,\n",
      "                       n_estimators=5, random_state=28222)\n",
      "2021-11-17 16:30:24 |\u001b[36m DEBUG    \u001b[0m| helpers.helpers_predator.models | X shape: (5631, 10)\n",
      "2021-11-17 16:30:24 |\u001b[36m DEBUG    \u001b[0m| helpers.helpers_predator.models | Current estimator: RandomForestClassifier(class_weight='balanced', max_depth=6,\n",
      "                       min_samples_split=5, n_estimators=560,\n",
      "                       random_state=44119)\n",
      "2021-11-17 16:30:24 |\u001b[36m DEBUG    \u001b[0m| helpers.helpers_predator.models | X shape: (5631, 10)\n",
      "2021-11-17 16:30:25 |\u001b[36m DEBUG    \u001b[0m| helpers.helpers_predator.models | Current estimator: RandomForestClassifier(class_weight='balanced', max_depth=10,\n",
      "                       max_features='sqrt', min_samples_leaf=4,\n",
      "                       n_estimators=320, random_state=13397)\n",
      "2021-11-17 16:30:25 |\u001b[36m DEBUG    \u001b[0m| helpers.helpers_predator.models | X shape: (5631, 10)\n",
      "2021-11-17 16:30:25 |\u001b[36m DEBUG    \u001b[0m| helpers.helpers_predator.models | Current estimator: RandomForestClassifier(class_weight='balanced', max_depth=3,\n",
      "                       max_features='sqrt', min_samples_split=5,\n",
      "                       n_estimators=120, random_state=12157)\n",
      "2021-11-17 16:30:25 |\u001b[36m DEBUG    \u001b[0m| helpers.helpers_predator.models | X shape: (5631, 10)\n",
      "2021-11-17 16:30:25 |\u001b[36m DEBUG    \u001b[0m| helpers.helpers_predator.models | Current estimator: RandomForestClassifier(bootstrap=False, class_weight='balanced', max_depth=2,\n",
      "                       min_samples_split=5, n_estimators=360,\n",
      "                       random_state=49798)\n",
      "2021-11-17 16:30:25 |\u001b[36m DEBUG    \u001b[0m| helpers.helpers_predator.models | X shape: (5631, 10)\n",
      "2021-11-17 16:30:25 |\u001b[36m DEBUG    \u001b[0m| helpers.helpers_predator.models | Current estimator: RandomForestClassifier(bootstrap=False, class_weight='balanced', max_depth=2,\n",
      "                       min_samples_leaf=2, min_samples_split=5, n_estimators=40,\n",
      "                       random_state=12677)\n",
      "2021-11-17 16:30:25 |\u001b[36m DEBUG    \u001b[0m| helpers.helpers_predator.models | X shape: (5631, 10)\n",
      "2021-11-17 16:30:25 |\u001b[36m DEBUG    \u001b[0m| helpers.helpers_predator.models | Current estimator: RandomForestClassifier(bootstrap=False, class_weight='balanced', max_depth=5,\n",
      "                       min_samples_leaf=4, min_samples_split=5,\n",
      "                       n_estimators=120, random_state=47053)\n",
      "2021-11-17 16:30:25 |\u001b[36m DEBUG    \u001b[0m| helpers.helpers_predator.models | X shape: (5631, 10)\n",
      "2021-11-17 16:30:25 |\u001b[36m DEBUG    \u001b[0m| helpers.helpers_predator.predictions | PredictionsSoft\n",
      "2021-11-17 16:30:25 |\u001b[36m DEBUG    \u001b[0m| helpers.helpers_predator.predictions | Predicting probabilities on gbm cohort ..\n",
      "2021-11-17 16:30:25 |\u001b[36m DEBUG    \u001b[0m| helpers.helpers_predator.predictions | Adding key `gbm_prob` to self.predictions\n"
     ]
    }
   ],
   "source": [
    "predator.predict(voting='soft')"
   ]
  },
  {
   "cell_type": "code",
   "execution_count": 8,
   "id": "341a1a27-928b-47ae-9d45-69ec13771b81",
   "metadata": {},
   "outputs": [
    {
     "data": {
      "text/plain": [
       "dict_keys(['gbm_prob'])"
      ]
     },
     "execution_count": 8,
     "metadata": {},
     "output_type": "execute_result"
    }
   ],
   "source": [
    "predator.predictions.keys()"
   ]
  },
  {
   "cell_type": "code",
   "execution_count": 9,
   "id": "d7054f49-ad45-408f-88b4-0e608fc81e81",
   "metadata": {},
   "outputs": [
    {
     "data": {
      "text/plain": [
       "[array([[0.11967573, 0.88032427],\n",
       "        [0.0630133 , 0.9369867 ],\n",
       "        [0.27737624, 0.72262376],\n",
       "        ...,\n",
       "        [0.22982215, 0.77017785],\n",
       "        [0.30870252, 0.69129748],\n",
       "        [0.30870252, 0.69129748]]),\n",
       " array([[0., 1.],\n",
       "        [0., 1.],\n",
       "        [0., 1.],\n",
       "        ...,\n",
       "        [0., 1.],\n",
       "        [0., 1.],\n",
       "        [0., 1.]]),\n",
       " array([[0.1420087 , 0.8579913 ],\n",
       "        [0.06653289, 0.93346711],\n",
       "        [0.21731218, 0.78268782],\n",
       "        ...,\n",
       "        [0.18322258, 0.81677742],\n",
       "        [0.24238148, 0.75761852],\n",
       "        [0.24238148, 0.75761852]])]"
      ]
     },
     "execution_count": 9,
     "metadata": {},
     "output_type": "execute_result"
    }
   ],
   "source": [
    "# Predictions for first 10 experiment.\n",
    "predator.predictions[\"gbm_prob\"][:3]"
   ]
  },
  {
   "cell_type": "markdown",
   "id": "83e49c0d-9f61-4f48-a23d-8a21e9875041",
   "metadata": {},
   "source": [
    "#### Predictions Post Processing"
   ]
  },
  {
   "cell_type": "markdown",
   "id": "3d18567f-1748-4446-bb12-8062515f02bd",
   "metadata": {},
   "source": [
    "Post processing of predictions involves following steps:"
   ]
  },
  {
   "cell_type": "markdown",
   "id": "45aad6d0-0e73-413e-8b32-fbcb2bcc5426",
   "metadata": {},
   "source": [
    "##### 1. Merging Predictions with SNV Data"
   ]
  },
  {
   "cell_type": "markdown",
   "id": "ba9bda7c-5736-4c44-8663-ec63927976db",
   "metadata": {},
   "source": [
    "The prediction column is merged with SNV data for each experiment.\n",
    "\n",
    "$\\text{For each experiment } n: $\n",
    "\n",
    "$$\n",
    "  \\textit{(Prediction Merged Data)}_n = \\underbrace{[\\textit{Predictions}_n]}_\\text{Probs Percentages} + \n",
    "      \\underbrace{[\\textit{Protein }] [\\textit{Mutation }] [\\textit{Interactor }]}_\\text{Cancer Data Triplets} + \\underbrace{[\\textit{Features }] }_\\text{Elaspic}\n",
    "$$\n"
   ]
  },
  {
   "cell_type": "markdown",
   "id": "8b14c7d7-914f-40af-b695-b962c33ed9ee",
   "metadata": {
    "tags": []
   },
   "source": [
    "##### 2. Convert to 1-isomer: `Interactor_UniProt_ID`"
   ]
  },
  {
   "cell_type": "markdown",
   "id": "36c9284b-0d5d-4c41-b2d9-7274d9141f6a",
   "metadata": {},
   "source": [
    "$\\textit{Interactor_UniProt_ID}$ column contains isomer proteins. Here, we convert them into primary isoform representation (i.e. without dashes)."
   ]
  },
  {
   "cell_type": "markdown",
   "id": "2314ef86-e11b-43ce-a9ee-8d3d39420d3d",
   "metadata": {},
   "source": [
    "| Interactor_UniProt_ID |\n",
    "--------------\n",
    "| P38936     |\n",
    "| P16473     |\n",
    "| P16473-2   |\n",
    "| P19793     |"
   ]
  },
  {
   "cell_type": "markdown",
   "id": "ac37c712-d832-4450-8852-a9df5712c194",
   "metadata": {},
   "source": [
    "##### 3. Dropping Invalid Predictions"
   ]
  },
  {
   "cell_type": "markdown",
   "id": "43293304-9ddf-4e94-b624-8ce6c9034fe1",
   "metadata": {},
   "source": [
    "Entries whose predicted class-1 probability lies in both `Decreasing` and `Increasing+NoEff` are dropped."
   ]
  },
  {
   "cell_type": "markdown",
   "id": "0d57de49-9962-47a8-8a2d-96a42df2295a",
   "metadata": {},
   "source": [
    "Due to having different features for the same $\\textit{(protein, mutation, interactor)}$ triplet from ELASPIC, the triplet $\\textit{(protein, mutation, interactor)}$ may contain class-1 probability prediction of both lower than 0.50 and higher than 50. We drop such instances."
   ]
  },
  {
   "cell_type": "code",
   "execution_count": 10,
   "id": "ee5ffd8b-af50-481e-b90f-fc0548568727",
   "metadata": {
    "scrolled": true,
    "tags": []
   },
   "outputs": [
    {
     "name": "stdout",
     "output_type": "stream",
     "text": [
      "2021-11-17 16:30:26 |\u001b[36m DEBUG    \u001b[0m| helpers.helpers_predator.predictions | PredictionsSoft\n",
      "2021-11-17 16:30:26 |\u001b[36m DEBUG    \u001b[0m| helpers.helpers_predator.predictions | Post processing predictions for cohort gbm ..\n",
      "2021-11-17 16:30:26 |\u001b[36m DEBUG    \u001b[0m| helpers.helpers_predator.predictions | PredictionsSoft\n",
      "2021-11-17 16:30:26 |\u001b[36m DEBUG    \u001b[0m| helpers.helpers_predator.predictions | Merging predictions with gbm cancer dataset ..\n",
      "2021-11-17 16:30:26 |\u001b[36m DEBUG    \u001b[0m| helpers.helpers_predator.predictions | Handling valid and invalid entries ..\n"
     ]
    },
    {
     "data": {
      "application/vnd.jupyter.widget-view+json": {
       "model_id": "ed16d91760a84040b65d4f302bc456de",
       "version_major": 2,
       "version_minor": 0
      },
      "text/plain": [
       "  0%|          | 0/37 [00:00<?, ?it/s]"
      ]
     },
     "metadata": {},
     "output_type": "display_data"
    },
    {
     "name": "stdout",
     "output_type": "stream",
     "text": [
      "2021-11-17 16:30:45 |\u001b[36m DEBUG    \u001b[0m| helpers.helpers_predator.predictions_utils | Removed entries first five rows (of 691): \n",
      "   PREDICTION PROTEIN MUTATION INTERACTOR\n",
      "0    0.464825  Q9BV40     F58C     O00161\n",
      "1    0.601354  Q9BV40     F58C     O00161\n",
      "2    0.511218  P51148     Q21P     Q9H1K0\n",
      "3    0.028335  P51148     Q21P     Q9H1K0\n",
      "4    0.619133  P62993    F182S     Q5TCZ1\n",
      "2021-11-17 16:31:10 |\u001b[36m DEBUG    \u001b[0m| helpers.helpers_predator.predictions_utils | Removed entries first five rows (of 816): \n",
      "   PREDICTION PROTEIN MUTATION INTERACTOR\n",
      "0    0.000000  Q9BV40     F58C     Q16623\n",
      "1    0.646875  Q9BV40     F58C     Q16623\n",
      "2    0.500000  P00747    C607S     P48307\n",
      "3    0.500000  P00747    C607S     P48307\n",
      "4    1.000000  P00747    C607S     P48307\n",
      "2021-11-17 16:31:35 |\u001b[36m DEBUG    \u001b[0m| helpers.helpers_predator.predictions_utils | Removed entries first five rows (of 761): \n",
      "   PREDICTION PROTEIN MUTATION INTERACTOR\n",
      "0    0.528237  Q969V5    V303G     P51965\n",
      "1    0.298234  Q969V5    V303G     P51965\n",
      "2    0.188128  Q969V5    V303G     P51965\n",
      "3    0.490199  P09936    E211K     P0CG47\n",
      "4    0.260335  P09936    E211K     P0CG47\n",
      "2021-11-17 16:31:57 |\u001b[36m DEBUG    \u001b[0m| helpers.helpers_predator.predictions_utils | Removed entries first five rows (of 641): \n",
      "   PREDICTION PROTEIN MUTATION INTERACTOR\n",
      "0    0.489050  P09936    E211K     P0CG47\n",
      "1    0.329558  P09936    E211K     P0CG47\n",
      "2    0.541071  P09936    E211K     P0CG47\n",
      "3    0.387665  Q9BV40     F58C     O00161\n",
      "4    0.567215  Q9BV40     F58C     O00161\n",
      "2021-11-17 16:32:20 |\u001b[36m DEBUG    \u001b[0m| helpers.helpers_predator.predictions_utils | Removed entries first five rows (of 821): \n",
      "   PREDICTION PROTEIN MUTATION INTERACTOR\n",
      "0    0.412307  P09936    E211K     P0CG47\n",
      "1    0.233877  P09936    E211K     P0CG47\n",
      "2    0.526825  P09936    E211K     P0CG47\n",
      "3    0.717495  Q969K4    N142K     Q13618\n",
      "4    0.426816  Q969K4    N142K     Q13618\n",
      "2021-11-17 16:32:44 |\u001b[36m DEBUG    \u001b[0m| helpers.helpers_predator.predictions_utils | Removed entries first five rows (of 588): \n",
      "   PREDICTION PROTEIN MUTATION INTERACTOR\n",
      "0    0.542145  P09936    E211K     P0CG47\n",
      "1    0.355987  P09936    E211K     P0CG47\n",
      "2    0.605247  P09936    E211K     P0CG47\n",
      "3    0.470406  P00747    C607S     Q9UIV8\n",
      "4    0.561557  P00747    C607S     Q9UIV8\n",
      "2021-11-17 16:33:07 |\u001b[36m DEBUG    \u001b[0m| helpers.helpers_predator.predictions_utils | Removed entries first five rows (of 681): \n",
      "   PREDICTION PROTEIN MUTATION INTERACTOR\n",
      "0    0.624660  P09936    E211K     P0CG47\n",
      "1    0.466122  P09936    E211K     P0CG47\n",
      "2    0.648415  P09936    E211K     P0CG47\n",
      "3    0.359061  Q9BV40     F58C     O00161\n",
      "4    0.504590  Q9BV40     F58C     O00161\n",
      "2021-11-17 16:33:31 |\u001b[36m DEBUG    \u001b[0m| helpers.helpers_predator.predictions_utils | Removed entries first five rows (of 820): \n",
      "   PREDICTION PROTEIN MUTATION INTERACTOR\n",
      "0    0.849330  P09936    E211K     P0CG47\n",
      "1    0.404897  P09936    E211K     P0CG47\n",
      "2    0.876654  P09936    E211K     P0CG47\n",
      "3    0.526086  P42261    A103V     P48058\n",
      "4    0.488923  P42261    A103V     P48058\n",
      "2021-11-17 16:33:52 |\u001b[36m DEBUG    \u001b[0m| helpers.helpers_predator.predictions_utils | Removed entries first five rows (of 604): \n",
      "   PREDICTION PROTEIN MUTATION INTERACTOR\n",
      "0    0.521821  P09936    E211K     P0CG48\n",
      "1    0.412637  P09936    E211K     P0CG48\n",
      "2    0.452871  P09936    E211K     P0CG48\n",
      "3    0.452871  P09936    E211K     P0CG48\n",
      "4    0.491842  P09936    E211K     P0CG48\n",
      "2021-11-17 16:34:13 |\u001b[36m DEBUG    \u001b[0m| helpers.helpers_predator.predictions_utils | Removed entries first five rows (of 741): \n",
      "   PREDICTION PROTEIN MUTATION INTERACTOR\n",
      "0    0.353143  P04637    R248W     Q9H3D4\n",
      "1    0.531375  P04637    R248W     Q9H3D4\n",
      "2    0.531375  P04637    R248W     Q9H3D4\n",
      "3    0.353143  P04637    R248W     Q9H3D4\n",
      "4    0.353143  P04637    R248W     Q9H3D4\n",
      "2021-11-17 16:34:34 |\u001b[36m DEBUG    \u001b[0m| helpers.helpers_predator.predictions_utils | Removed entries first five rows (of 735): \n",
      "   PREDICTION PROTEIN MUTATION INTERACTOR\n",
      "0    0.744364  P09936    E211K     P0CG48\n",
      "1    0.692489  P09936    E211K     P0CG48\n",
      "2    0.720032  P09936    E211K     P0CG48\n",
      "3    0.720032  P09936    E211K     P0CG48\n",
      "4    0.488537  P09936    E211K     P0CG48\n",
      "2021-11-17 16:34:54 |\u001b[36m DEBUG    \u001b[0m| helpers.helpers_predator.predictions_utils | Removed entries first five rows (of 693): \n",
      "   PREDICTION PROTEIN MUTATION INTERACTOR\n",
      "0    0.646429  Q969K4    N142K     Q13618\n",
      "1    0.396429  Q969K4    N142K     Q13618\n",
      "2    0.825000  Q969K4    N142K     Q13618\n",
      "3    0.495833  Q9BV40     F58C     P32856\n",
      "4    0.439167  Q9BV40     F58C     P32856\n",
      "2021-11-17 16:35:17 |\u001b[36m DEBUG    \u001b[0m| helpers.helpers_predator.predictions_utils | Removed entries first five rows (of 539): \n",
      "   PREDICTION PROTEIN MUTATION INTERACTOR\n",
      "0    0.574059  P09936    E211K     P0CG47\n",
      "1    0.317598  P09936    E211K     P0CG47\n",
      "2    0.635569  P09936    E211K     P0CG47\n",
      "3    0.536870  Q9BV40     F58C     P32856\n",
      "4    0.477018  Q9BV40     F58C     P32856\n",
      "2021-11-17 16:35:41 |\u001b[36m DEBUG    \u001b[0m| helpers.helpers_predator.predictions_utils | Removed entries first five rows (of 667): \n",
      "   PREDICTION PROTEIN MUTATION INTERACTOR\n",
      "0    0.492763  P09936    E211K     P0CG47\n",
      "1    0.351096  P09936    E211K     P0CG47\n",
      "2    0.552193  P09936    E211K     P0CG47\n",
      "3    0.214474  Q9BV40     F58C     Q16623\n",
      "4    0.383772  Q9BV40     F58C     O00161\n",
      "2021-11-17 16:36:07 |\u001b[36m DEBUG    \u001b[0m| helpers.helpers_predator.predictions_utils | Removed entries first five rows (of 966): \n",
      "   PREDICTION PROTEIN MUTATION INTERACTOR\n",
      "0    0.878449  P09936    E211K     P0CG48\n",
      "1    0.878449  P09936    E211K     P0CG48\n",
      "2    0.878449  P09936    E211K     P0CG48\n",
      "3    0.878449  P09936    E211K     P0CG48\n",
      "4    0.417011  P09936    E211K     P0CG48\n",
      "2021-11-17 16:36:33 |\u001b[36m DEBUG    \u001b[0m| helpers.helpers_predator.predictions_utils | Removed entries first five rows (of 545): \n",
      "   PREDICTION PROTEIN MUTATION INTERACTOR\n",
      "0    0.644402  P09936    E211K     P0CG47\n",
      "1    0.425965  P09936    E211K     P0CG47\n",
      "2    0.694805  P09936    E211K     P0CG47\n",
      "3    0.416272  Q9BV40     F58C     Q16623\n",
      "4    0.438847  Q9BV40     F58C     P61266\n",
      "2021-11-17 16:36:56 |\u001b[36m DEBUG    \u001b[0m| helpers.helpers_predator.predictions_utils | Removed entries first five rows (of 612): \n",
      "   PREDICTION PROTEIN MUTATION INTERACTOR\n",
      "0    0.522439  P09936    E211K     P0CG47\n",
      "1    0.311423  P09936    E211K     P0CG47\n",
      "2    0.623401  P09936    E211K     P0CG47\n",
      "3    0.556786  Q9GZV9     H52Y     P21802\n",
      "4    0.588942  Q9GZV9     H52Y     P21802\n",
      "2021-11-17 16:37:22 |\u001b[36m DEBUG    \u001b[0m| helpers.helpers_predator.predictions_utils | Removed entries first five rows (of 540): \n",
      "   PREDICTION PROTEIN MUTATION INTERACTOR\n",
      "0    0.638776  P09936    E211K     P0CG47\n",
      "1    0.485083  P09936    E211K     P0CG47\n",
      "2    0.650006  P09936    E211K     P0CG47\n",
      "3    0.536382  Q13542     R63S     P06730\n",
      "4    0.254393  Q13542     R63S     P06730\n",
      "2021-11-17 16:37:45 |\u001b[36m DEBUG    \u001b[0m| helpers.helpers_predator.predictions_utils | Removed entries first five rows (of 625): \n",
      "   PREDICTION PROTEIN MUTATION INTERACTOR\n",
      "0    0.604783  P09936    E211K     P0CG47\n",
      "1    0.446682  P09936    E211K     P0CG47\n",
      "2    0.622236  P09936    E211K     P0CG47\n",
      "3    0.366458  Q9BV40     F58C     O00161\n",
      "4    0.531192  Q9BV40     F58C     O00161\n",
      "2021-11-17 16:38:11 |\u001b[36m DEBUG    \u001b[0m| helpers.helpers_predator.predictions_utils | Removed entries first five rows (of 795): \n",
      "   PREDICTION PROTEIN MUTATION INTERACTOR\n",
      "0    0.780108  P09936    E211K     P0CG48\n",
      "1    0.772362  P09936    E211K     P0CG48\n",
      "2    0.820521  P09936    E211K     P0CG48\n",
      "3    0.820521  P09936    E211K     P0CG48\n",
      "4    0.496338  P09936    E211K     P0CG48\n",
      "2021-11-17 16:38:33 |\u001b[36m DEBUG    \u001b[0m| helpers.helpers_predator.predictions_utils | Removed entries first five rows (of 631): \n",
      "   PREDICTION PROTEIN MUTATION INTERACTOR\n",
      "0    0.675945  P09936    E211K     P0CG47\n",
      "1    0.466641  P09936    E211K     P0CG47\n",
      "2    0.762989  P09936    E211K     P0CG47\n",
      "3    0.244223  Q9BV40     F58C     O00161\n",
      "4    0.570725  Q9BV40     F58C     O00161\n",
      "2021-11-17 16:38:56 |\u001b[36m DEBUG    \u001b[0m| helpers.helpers_predator.predictions_utils | Removed entries first five rows (of 520): \n",
      "   PREDICTION PROTEIN MUTATION INTERACTOR\n",
      "0    0.624870  P09936    E211K     P0CG47\n",
      "1    0.496066  P09936    E211K     P0CG47\n",
      "2    0.639215  P09936    E211K     P0CG47\n",
      "3    0.596757  Q9GZV9     H52Y     P21802\n",
      "4    0.569883  Q9GZV9     H52Y     P21802\n",
      "2021-11-17 16:39:23 |\u001b[36m DEBUG    \u001b[0m| helpers.helpers_predator.predictions_utils | Removed entries first five rows (of 539): \n",
      "   PREDICTION PROTEIN MUTATION INTERACTOR\n",
      "0    0.503387  P09936    E211K     P0CG47\n",
      "1    0.291910  P09936    E211K     P0CG47\n",
      "2    0.598162  P09936    E211K     P0CG47\n",
      "3    0.531337  Q9BV40     F58C     P32856\n",
      "4    0.496860  Q9BV40     F58C     P32856\n",
      "2021-11-17 16:39:49 |\u001b[36m DEBUG    \u001b[0m| helpers.helpers_predator.predictions_utils | Removed entries first five rows (of 843): \n",
      "   PREDICTION PROTEIN MUTATION INTERACTOR\n",
      "0    0.793565  P09936    E211K     P0CG48\n",
      "1    0.532692  P09936    E211K     P0CG48\n",
      "2    0.676241  P09936    E211K     P0CG48\n",
      "3    0.676241  P09936    E211K     P0CG48\n",
      "4    0.462534  P09936    E211K     P0CG48\n",
      "2021-11-17 16:40:16 |\u001b[36m DEBUG    \u001b[0m| helpers.helpers_predator.predictions_utils | Removed entries first five rows (of 732): \n",
      "   PREDICTION PROTEIN MUTATION INTERACTOR\n",
      "0    0.350833  Q969K4    N142K     Q13618\n",
      "1    0.313571  Q969K4    N142K     Q13618\n",
      "2    0.751548  Q969K4    N142K     Q13618\n",
      "3    0.420952  Q9BV40     F58C     P61266\n",
      "4    0.281429  Q9BV40     F58C     O00161\n",
      "2021-11-17 16:40:44 |\u001b[36m DEBUG    \u001b[0m| helpers.helpers_predator.predictions_utils | Removed entries first five rows (of 589): \n",
      "   PREDICTION PROTEIN MUTATION INTERACTOR\n",
      "0    0.566431  P09936    E211K     P0CG47\n",
      "1    0.333183  P09936    E211K     P0CG47\n",
      "2    0.637223  P09936    E211K     P0CG47\n",
      "3    0.670767  Q8IYM1    F116L     Q14141\n",
      "4    0.670767  Q8IYM1    F116L     Q14141\n",
      "2021-11-17 16:41:14 |\u001b[36m DEBUG    \u001b[0m| helpers.helpers_predator.predictions_utils | Removed entries first five rows (of 560): \n",
      "   PREDICTION PROTEIN MUTATION INTERACTOR\n",
      "0    0.493161  P09936    E211K     P0CG47\n",
      "1    0.374103  P09936    E211K     P0CG47\n",
      "2    0.531564  P09936    E211K     P0CG47\n",
      "3    0.470200  Q9BV40     F58C     P61266\n",
      "4    0.525602  Q9BV40     F58C     P61266\n",
      "2021-11-17 16:41:39 |\u001b[36m DEBUG    \u001b[0m| helpers.helpers_predator.predictions_utils | Removed entries first five rows (of 494): \n",
      "   PREDICTION PROTEIN MUTATION INTERACTOR\n",
      "0    0.422954  P09936    E211K     P0CG47\n",
      "1    0.304798  P09936    E211K     P0CG47\n",
      "2    0.505045  P09936    E211K     P0CG47\n",
      "3    0.401932  Q9BV40     F58C     P61266\n",
      "4    0.304994  Q9BV40     F58C     O00161\n",
      "2021-11-17 16:42:05 |\u001b[36m DEBUG    \u001b[0m| helpers.helpers_predator.predictions_utils | Removed entries first five rows (of 648): \n",
      "   PREDICTION PROTEIN MUTATION INTERACTOR\n",
      "0    0.494800  Q9GZV9     H52Y     P21802\n",
      "1    0.558864  Q9GZV9     H52Y     P21802\n",
      "2    0.558864  Q9GZV9     H52Y     P21802\n",
      "3    0.558864  Q9GZV9     H52Y     P21802\n",
      "4    0.558864  Q9GZV9     H52Y     P21802\n",
      "2021-11-17 16:42:29 |\u001b[36m DEBUG    \u001b[0m| helpers.helpers_predator.predictions_utils | Removed entries first five rows (of 618): \n",
      "   PREDICTION PROTEIN MUTATION INTERACTOR\n",
      "0    0.609259  P09936    E211K     P0CG47\n",
      "1    0.404938  P09936    E211K     P0CG47\n",
      "2    0.730363  P09936    E211K     P0CG47\n",
      "3    0.445199  Q9BV40     F58C     Q13277\n",
      "4    0.502249  Q9BV40     F58C     Q13277\n",
      "2021-11-17 16:42:55 |\u001b[36m DEBUG    \u001b[0m| helpers.helpers_predator.predictions_utils | Removed entries first five rows (of 861): \n",
      "   PREDICTION PROTEIN MUTATION INTERACTOR\n",
      "0    0.547907  Q969V5    V303G     P51965\n",
      "1    0.166304  Q969V5    V303G     P51965\n",
      "2    0.000000  Q969V5    V303G     P51965\n",
      "3    0.800000  P09936    E211K     P0CG48\n",
      "4    1.000000  P09936    E211K     P0CG48\n",
      "2021-11-17 16:43:19 |\u001b[36m DEBUG    \u001b[0m| helpers.helpers_predator.predictions_utils | Removed entries first five rows (of 620): \n",
      "   PREDICTION PROTEIN MUTATION INTERACTOR\n",
      "0    0.544786  P09936    E211K     P0CG47\n",
      "1    0.355478  P09936    E211K     P0CG47\n",
      "2    0.587399  P09936    E211K     P0CG47\n",
      "3    0.543285  Q9BV40     F58C     P32856\n",
      "4    0.230223  Q9BV40     F58C     O00161\n",
      "2021-11-17 16:43:45 |\u001b[36m DEBUG    \u001b[0m| helpers.helpers_predator.predictions_utils | Removed entries first five rows (of 592): \n",
      "   PREDICTION PROTEIN MUTATION INTERACTOR\n",
      "0    0.526538  P09936    E211K     P0CG47\n",
      "1    0.356600  P09936    E211K     P0CG47\n",
      "2    0.583185  P09936    E211K     P0CG47\n",
      "3    0.391554  Q9BV40     F58C     P61266\n",
      "4    0.320638  Q9BV40     F58C     O00161\n",
      "2021-11-17 16:44:10 |\u001b[36m DEBUG    \u001b[0m| helpers.helpers_predator.predictions_utils | Removed entries first five rows (of 571): \n",
      "   PREDICTION PROTEIN MUTATION INTERACTOR\n",
      "0    0.664866  P09936    E211K     P0CG47\n",
      "1    0.424427  P09936    E211K     P0CG47\n",
      "2    0.716869  P09936    E211K     P0CG47\n",
      "3    0.438388  Q9BV40     F58C     P32856\n",
      "4    0.295676  Q9BV40     F58C     O00161\n",
      "2021-11-17 16:44:36 |\u001b[36m DEBUG    \u001b[0m| helpers.helpers_predator.predictions_utils | Removed entries first five rows (of 339): \n",
      "   PREDICTION PROTEIN MUTATION INTERACTOR\n",
      "0    0.609114  P62993    F182S     Q5TCZ1\n",
      "1    0.480321  P62993    F182S     Q5TCZ1\n",
      "2    0.609114  P62993    F182S     Q5TCZ1\n",
      "3    0.622515  P62993    F182S     Q5TCZ1\n",
      "4    0.493783  P22607    K650E     Q14289\n",
      "2021-11-17 16:45:00 |\u001b[36m DEBUG    \u001b[0m| helpers.helpers_predator.predictions_utils | Removed entries first five rows (of 650): \n",
      "   PREDICTION PROTEIN MUTATION INTERACTOR\n",
      "0    0.620979  P09936    E211K     P0CG47\n",
      "1    0.393366  P09936    E211K     P0CG47\n",
      "2    0.620979  P09936    E211K     P0CG47\n",
      "3    0.487561  Q969K4    N142K     Q13618\n",
      "4    0.480569  Q969K4    N142K     Q13618\n",
      "2021-11-17 16:45:24 |\u001b[36m DEBUG    \u001b[0m| helpers.helpers_predator.predictions_utils | Removed entries first five rows (of 773): \n",
      "   PREDICTION PROTEIN MUTATION INTERACTOR\n",
      "0    0.637069  P09936    E211K     P0CG47\n",
      "1    0.409850  P09936    E211K     P0CG47\n",
      "2    0.662354  P09936    E211K     P0CG47\n",
      "3    0.219746  Q9BV40     F58C     O15400\n",
      "4    0.612213  Q9BV40     F58C     O15400\n",
      "2021-11-17 16:45:24 |\u001b[36m DEBUG    \u001b[0m| helpers.helpers_predator.predictions | Preparing finalized prediction datasets for gbm ..\n",
      "2021-11-17 16:45:24 |\u001b[36m DEBUG    \u001b[0m| helpers.helpers_predator.predictions | Post processing completed for gbm.\n"
     ]
    }
   ],
   "source": [
    "predator.predictions_post_process()"
   ]
  },
  {
   "cell_type": "code",
   "execution_count": 11,
   "id": "90683791-df42-47a8-ae9d-6c6ba08bcafd",
   "metadata": {},
   "outputs": [
    {
     "data": {
      "text/plain": [
       "dict_keys(['gbm_prob', 'gbm_predicted_probs_datasets', 'gbm_predicted_valid_datasets', 'gbm_predicted_invalid_datasets', 'gbm_finalized_prediction_dataframes'])"
      ]
     },
     "execution_count": 11,
     "metadata": {},
     "output_type": "execute_result"
    }
   ],
   "source": [
    "predator.predictions.keys()"
   ]
  },
  {
   "cell_type": "code",
   "execution_count": 12,
   "id": "fcf61287-2498-4b53-ac75-1f6baceed2a3",
   "metadata": {},
   "outputs": [
    {
     "name": "stdout",
     "output_type": "stream",
     "text": [
      "\u001b[36mData dimensions: (5631, 104)\u001b[0m\n"
     ]
    },
    {
     "data": {
      "text/html": [
       "<div>\n",
       "<style scoped>\n",
       "    .dataframe tbody tr th:only-of-type {\n",
       "        vertical-align: middle;\n",
       "    }\n",
       "\n",
       "    .dataframe tbody tr th {\n",
       "        vertical-align: top;\n",
       "    }\n",
       "\n",
       "    .dataframe thead th {\n",
       "        text-align: right;\n",
       "    }\n",
       "</style>\n",
       "<table border=\"1\" class=\"dataframe\">\n",
       "  <thead>\n",
       "    <tr style=\"text-align: right;\">\n",
       "      <th></th>\n",
       "      <th>Prediction</th>\n",
       "      <th>Input_identifier</th>\n",
       "      <th>UniProt_ID</th>\n",
       "      <th>Mutation</th>\n",
       "      <th>Status</th>\n",
       "      <th>Type</th>\n",
       "      <th>COSMIC_mut_ID</th>\n",
       "      <th>ClinVar_mut_ID</th>\n",
       "      <th>UniProt_mut_ID</th>\n",
       "      <th>Domain_name</th>\n",
       "      <th>...</th>\n",
       "      <th>number_of_residues_mut</th>\n",
       "      <th>IntraclashesEnergy1_wt</th>\n",
       "      <th>IntraclashesEnergy1_mut</th>\n",
       "      <th>IntraclashesEnergy2_wt</th>\n",
       "      <th>IntraclashesEnergy2_mut</th>\n",
       "      <th>Interface_hydrophobic_area</th>\n",
       "      <th>Interface_hydrophilic_area</th>\n",
       "      <th>Interface_total_area</th>\n",
       "      <th>Interface_contact_distance_wt</th>\n",
       "      <th>Interface_contact_distance_mut</th>\n",
       "    </tr>\n",
       "  </thead>\n",
       "  <tbody>\n",
       "    <tr>\n",
       "      <th>0</th>\n",
       "      <td>0.880324</td>\n",
       "      <td>P46734</td>\n",
       "      <td>P46734</td>\n",
       "      <td>K200E</td>\n",
       "      <td>done</td>\n",
       "      <td>interface</td>\n",
       "      <td>-</td>\n",
       "      <td>-</td>\n",
       "      <td>-</td>\n",
       "      <td>Pkinase</td>\n",
       "      <td>...</td>\n",
       "      <td>640.0</td>\n",
       "      <td>140.8630</td>\n",
       "      <td>140.8620</td>\n",
       "      <td>115.263</td>\n",
       "      <td>115.263</td>\n",
       "      <td>522.24</td>\n",
       "      <td>286.075</td>\n",
       "      <td>808.315</td>\n",
       "      <td>2.74325</td>\n",
       "      <td>2.74325</td>\n",
       "    </tr>\n",
       "    <tr>\n",
       "      <th>1</th>\n",
       "      <td>0.936987</td>\n",
       "      <td>P46734</td>\n",
       "      <td>P46734</td>\n",
       "      <td>K200E</td>\n",
       "      <td>done</td>\n",
       "      <td>interface</td>\n",
       "      <td>-</td>\n",
       "      <td>-</td>\n",
       "      <td>-</td>\n",
       "      <td>Pkinase</td>\n",
       "      <td>...</td>\n",
       "      <td>596.0</td>\n",
       "      <td>88.7587</td>\n",
       "      <td>88.7927</td>\n",
       "      <td>264.825</td>\n",
       "      <td>264.825</td>\n",
       "      <td>None</td>\n",
       "      <td>None</td>\n",
       "      <td>None</td>\n",
       "      <td>3.68021</td>\n",
       "      <td>3.59315</td>\n",
       "    </tr>\n",
       "    <tr>\n",
       "      <th>2</th>\n",
       "      <td>0.722624</td>\n",
       "      <td>P46734</td>\n",
       "      <td>P46734</td>\n",
       "      <td>K200E</td>\n",
       "      <td>done</td>\n",
       "      <td>interface</td>\n",
       "      <td>-</td>\n",
       "      <td>-</td>\n",
       "      <td>-</td>\n",
       "      <td>Pkinase</td>\n",
       "      <td>...</td>\n",
       "      <td>622.0</td>\n",
       "      <td>252.2520</td>\n",
       "      <td>252.2990</td>\n",
       "      <td>112.394</td>\n",
       "      <td>112.522</td>\n",
       "      <td>None</td>\n",
       "      <td>None</td>\n",
       "      <td>None</td>\n",
       "      <td>2.95347</td>\n",
       "      <td>2.95347</td>\n",
       "    </tr>\n",
       "  </tbody>\n",
       "</table>\n",
       "<p>3 rows × 104 columns</p>\n",
       "</div>"
      ],
      "text/plain": [
       "   Prediction Input_identifier UniProt_ID Mutation Status       Type  \\\n",
       "0    0.880324           P46734     P46734    K200E   done  interface   \n",
       "1    0.936987           P46734     P46734    K200E   done  interface   \n",
       "2    0.722624           P46734     P46734    K200E   done  interface   \n",
       "\n",
       "  COSMIC_mut_ID ClinVar_mut_ID UniProt_mut_ID Domain_name  ...  \\\n",
       "0             -              -              -     Pkinase  ...   \n",
       "1             -              -              -     Pkinase  ...   \n",
       "2             -              -              -     Pkinase  ...   \n",
       "\n",
       "  number_of_residues_mut IntraclashesEnergy1_wt IntraclashesEnergy1_mut  \\\n",
       "0                  640.0               140.8630                140.8620   \n",
       "1                  596.0                88.7587                 88.7927   \n",
       "2                  622.0               252.2520                252.2990   \n",
       "\n",
       "   IntraclashesEnergy2_wt  IntraclashesEnergy2_mut Interface_hydrophobic_area  \\\n",
       "0                 115.263                  115.263                     522.24   \n",
       "1                 264.825                  264.825                       None   \n",
       "2                 112.394                  112.522                       None   \n",
       "\n",
       "  Interface_hydrophilic_area Interface_total_area  \\\n",
       "0                    286.075              808.315   \n",
       "1                       None                 None   \n",
       "2                       None                 None   \n",
       "\n",
       "  Interface_contact_distance_wt Interface_contact_distance_mut  \n",
       "0                       2.74325                        2.74325  \n",
       "1                       3.68021                        3.59315  \n",
       "2                       2.95347                        2.95347  \n",
       "\n",
       "[3 rows x 104 columns]"
      ]
     },
     "metadata": {},
     "output_type": "display_data"
    }
   ],
   "source": [
    "display_data(predator.predictions[\"gbm_predicted_probs_datasets\"][0])"
   ]
  },
  {
   "cell_type": "code",
   "execution_count": 13,
   "id": "a603e902-b663-49e2-92c5-e6167cc06699",
   "metadata": {},
   "outputs": [
    {
     "data": {
      "image/png": "[encoded data removed]",
      "text/plain": [
       "<Figure size 1080x360 with 1 Axes>"
      ]
     },
     "metadata": {
      "needs_background": "light"
     },
     "output_type": "display_data"
    }
   ],
   "source": [
    "predator.predictions.plot_distribution_valid_vs_invalid(\"gbm\")"
   ]
  },
  {
   "cell_type": "code",
   "execution_count": 14,
   "id": "77147287-c7ce-4771-b0ed-e45479644ccb",
   "metadata": {},
   "outputs": [
    {
     "name": "stdout",
     "output_type": "stream",
     "text": [
      "2021-11-17 16:45:26 |\u001b[36m DEBUG    \u001b[0m| helpers.helpers_predator.predictions | Plotting number of finalized predictions per model.\n",
      "Note that following plot shows the number of (protein, mutation, interactor) triplets which had valid prediction.\n"
     ]
    },
    {
     "data": {
      "image/png": "[encoded data removed]",
      "text/plain": [
       "<Figure size 1080x360 with 1 Axes>"
      ]
     },
     "metadata": {
      "needs_background": "light"
     },
     "output_type": "display_data"
    }
   ],
   "source": [
    "predator.predictions.plot_num_finalized_predictions(\"gbm\")"
   ]
  },
  {
   "cell_type": "code",
   "execution_count": 15,
   "id": "a0762893-11a8-43c7-8b93-1b214a1a85e4",
   "metadata": {},
   "outputs": [
    {
     "name": "stdout",
     "output_type": "stream",
     "text": [
      "\u001b[36mData dimensions: (3898, 4)\u001b[0m\n"
     ]
    },
    {
     "data": {
      "text/html": [
       "<div>\n",
       "<style scoped>\n",
       "    .dataframe tbody tr th:only-of-type {\n",
       "        vertical-align: middle;\n",
       "    }\n",
       "\n",
       "    .dataframe tbody tr th {\n",
       "        vertical-align: top;\n",
       "    }\n",
       "\n",
       "    .dataframe thead th {\n",
       "        text-align: right;\n",
       "    }\n",
       "</style>\n",
       "<table border=\"1\" class=\"dataframe\">\n",
       "  <thead>\n",
       "    <tr style=\"text-align: right;\">\n",
       "      <th></th>\n",
       "      <th>Prediction</th>\n",
       "      <th>UniProt_ID</th>\n",
       "      <th>Mutation</th>\n",
       "      <th>Interactor_UniProt_ID</th>\n",
       "    </tr>\n",
       "  </thead>\n",
       "  <tbody>\n",
       "    <tr>\n",
       "      <th>0</th>\n",
       "      <td>0.880324</td>\n",
       "      <td>P46734</td>\n",
       "      <td>K200E</td>\n",
       "      <td>P27361</td>\n",
       "    </tr>\n",
       "    <tr>\n",
       "      <th>1</th>\n",
       "      <td>0.936987</td>\n",
       "      <td>P46734</td>\n",
       "      <td>K200E</td>\n",
       "      <td>P27361</td>\n",
       "    </tr>\n",
       "    <tr>\n",
       "      <th>2</th>\n",
       "      <td>0.722624</td>\n",
       "      <td>P46734</td>\n",
       "      <td>K200E</td>\n",
       "      <td>P27361</td>\n",
       "    </tr>\n",
       "  </tbody>\n",
       "</table>\n",
       "</div>"
      ],
      "text/plain": [
       "   Prediction UniProt_ID Mutation Interactor_UniProt_ID\n",
       "0    0.880324     P46734    K200E                P27361\n",
       "1    0.936987     P46734    K200E                P27361\n",
       "2    0.722624     P46734    K200E                P27361"
      ]
     },
     "metadata": {},
     "output_type": "display_data"
    }
   ],
   "source": [
    "display_data(predator.predictions['gbm_finalized_prediction_dataframes'][0])"
   ]
  },
  {
   "cell_type": "code",
   "execution_count": 16,
   "id": "7fab8dc7-62ea-4cba-bdfa-0a8187a53a27",
   "metadata": {
    "scrolled": true,
    "tags": []
   },
   "outputs": [
    {
     "name": "stdout",
     "output_type": "stream",
     "text": [
      "2021-11-17 16:45:27 |\u001b[32m INFO     \u001b[0m| helpers.helpers_predator.predictions | PredictionsSoft\n",
      "2021-11-17 16:45:27 |\u001b[32m INFO     \u001b[0m| helpers.helpers_predator.predictions | Preparing ensemble prediction data for gbm taking median ..\n"
     ]
    },
    {
     "data": {
      "application/vnd.jupyter.widget-view+json": {
       "model_id": "a6cdb771c06c406f8e1430a36eb43bf0",
       "version_major": 2,
       "version_minor": 0
      },
      "text/plain": [
       "  0%|          | 0/37 [00:00<?, ?it/s]"
      ]
     },
     "metadata": {},
     "output_type": "display_data"
    },
    {
     "name": "stdout",
     "output_type": "stream",
     "text": [
      "2021-11-17 16:52:10 |\u001b[36m DEBUG    \u001b[0m| helpers.helpers_predator.predictions | Prediction probabilities data for gbm is prepared.\n",
      "Accessible from `gbm_predictions_prob_data`.\n",
      "2021-11-17 16:52:10 |\u001b[36m DEBUG    \u001b[0m| helpers.helpers_predator.predictions | Ensemble prediction data for gbm is prepared.\n",
      "Accessible from `gbm_ensemble_prediction_data`.\n",
      "2021-11-17 16:52:10 |\u001b[36m DEBUG    \u001b[0m| helpers.helpers_predator.predictions | Resulting prediction data is available for gbm.\n",
      "Accessible from predictions.['gbm_prediction_results']\n",
      "2021-11-17 16:52:10 |\u001b[36m DEBUG    \u001b[0m| helpers.helpers_predator.predictions | Resulting prediction data (no_votes dropped) is available for gbm.\n",
      "Accessible from predictions.['gbm_prediction_results_no_votes_dropped']\n"
     ]
    }
   ],
   "source": [
    "predator.prepare_ensemble_prediction_data()"
   ]
  },
  {
   "cell_type": "code",
   "execution_count": 17,
   "id": "0ffd0f8a-b82f-4733-9a31-2d350402fecb",
   "metadata": {},
   "outputs": [
    {
     "name": "stdout",
     "output_type": "stream",
     "text": [
      "\u001b[36mData dimensions: (3032, 39)\u001b[0m\n"
     ]
    },
    {
     "data": {
      "text/html": [
       "<div>\n",
       "<style scoped>\n",
       "    .dataframe tbody tr th:only-of-type {\n",
       "        vertical-align: middle;\n",
       "    }\n",
       "\n",
       "    .dataframe tbody tr th {\n",
       "        vertical-align: top;\n",
       "    }\n",
       "\n",
       "    .dataframe thead th {\n",
       "        text-align: right;\n",
       "    }\n",
       "</style>\n",
       "<table border=\"1\" class=\"dataframe\">\n",
       "  <thead>\n",
       "    <tr style=\"text-align: right;\">\n",
       "      <th></th>\n",
       "      <th>Trial 0</th>\n",
       "      <th>Trial 1</th>\n",
       "      <th>Trial 2</th>\n",
       "      <th>Trial 3</th>\n",
       "      <th>Trial 4</th>\n",
       "      <th>Trial 5</th>\n",
       "      <th>Trial 6</th>\n",
       "      <th>Trial 7</th>\n",
       "      <th>Trial 8</th>\n",
       "      <th>Trial 9</th>\n",
       "      <th>...</th>\n",
       "      <th>Trial 29</th>\n",
       "      <th>Trial 30</th>\n",
       "      <th>Trial 31</th>\n",
       "      <th>Trial 32</th>\n",
       "      <th>Trial 33</th>\n",
       "      <th>Trial 34</th>\n",
       "      <th>Trial 35</th>\n",
       "      <th>Trial 36</th>\n",
       "      <th>PROB_1s_AVG</th>\n",
       "      <th>VOTED_PREDICTION</th>\n",
       "    </tr>\n",
       "  </thead>\n",
       "  <tbody>\n",
       "    <tr>\n",
       "      <th>0</th>\n",
       "      <td>0.846645</td>\n",
       "      <td>1.0</td>\n",
       "      <td>0.858049</td>\n",
       "      <td>0.765066</td>\n",
       "      <td>0.795043</td>\n",
       "      <td>0.846373</td>\n",
       "      <td>0.791089</td>\n",
       "      <td>0.847025</td>\n",
       "      <td>0.672545</td>\n",
       "      <td>0.738855</td>\n",
       "      <td>...</td>\n",
       "      <td>0.844444</td>\n",
       "      <td>0.722101</td>\n",
       "      <td>0.805508</td>\n",
       "      <td>0.764524</td>\n",
       "      <td>0.839221</td>\n",
       "      <td>0.836098</td>\n",
       "      <td>0.786694</td>\n",
       "      <td>0.864899</td>\n",
       "      <td>0.8174</td>\n",
       "      <td>1</td>\n",
       "    </tr>\n",
       "    <tr>\n",
       "      <th>1</th>\n",
       "      <td>0.958112</td>\n",
       "      <td>1.0</td>\n",
       "      <td>0.923585</td>\n",
       "      <td>0.838551</td>\n",
       "      <td>0.965036</td>\n",
       "      <td>0.939348</td>\n",
       "      <td>0.840953</td>\n",
       "      <td>0.979777</td>\n",
       "      <td>0.800082</td>\n",
       "      <td>0.824042</td>\n",
       "      <td>...</td>\n",
       "      <td>0.997222</td>\n",
       "      <td>1.0</td>\n",
       "      <td>0.923768</td>\n",
       "      <td>0.943153</td>\n",
       "      <td>0.88706</td>\n",
       "      <td>0.842702</td>\n",
       "      <td>0.840259</td>\n",
       "      <td>0.933477</td>\n",
       "      <td>0.9181</td>\n",
       "      <td>1</td>\n",
       "    </tr>\n",
       "    <tr>\n",
       "      <th>2</th>\n",
       "      <td>0.895405</td>\n",
       "      <td>0.314583</td>\n",
       "      <td>0.861221</td>\n",
       "      <td>0.852036</td>\n",
       "      <td>0.842754</td>\n",
       "      <td>0.927404</td>\n",
       "      <td>0.82115</td>\n",
       "      <td>0.945364</td>\n",
       "      <td>0.596322</td>\n",
       "      <td>0.776608</td>\n",
       "      <td>...</td>\n",
       "      <td>0.872222</td>\n",
       "      <td>0.92439</td>\n",
       "      <td>0.847524</td>\n",
       "      <td>0.894536</td>\n",
       "      <td>0.843537</td>\n",
       "      <td>0.842702</td>\n",
       "      <td>0.806321</td>\n",
       "      <td>0.830031</td>\n",
       "      <td>0.84646</td>\n",
       "      <td>1</td>\n",
       "    </tr>\n",
       "  </tbody>\n",
       "</table>\n",
       "<p>3 rows × 39 columns</p>\n",
       "</div>"
      ],
      "text/plain": [
       "    Trial 0   Trial 1   Trial 2   Trial 3   Trial 4   Trial 5   Trial 6  \\\n",
       "0  0.846645       1.0  0.858049  0.765066  0.795043  0.846373  0.791089   \n",
       "1  0.958112       1.0  0.923585  0.838551  0.965036  0.939348  0.840953   \n",
       "2  0.895405  0.314583  0.861221  0.852036  0.842754  0.927404   0.82115   \n",
       "\n",
       "    Trial 7   Trial 8   Trial 9  ...  Trial 29  Trial 30  Trial 31  Trial 32  \\\n",
       "0  0.847025  0.672545  0.738855  ...  0.844444  0.722101  0.805508  0.764524   \n",
       "1  0.979777  0.800082  0.824042  ...  0.997222       1.0  0.923768  0.943153   \n",
       "2  0.945364  0.596322  0.776608  ...  0.872222   0.92439  0.847524  0.894536   \n",
       "\n",
       "   Trial 33  Trial 34  Trial 35  Trial 36 PROB_1s_AVG VOTED_PREDICTION  \n",
       "0  0.839221  0.836098  0.786694  0.864899      0.8174                1  \n",
       "1   0.88706  0.842702  0.840259  0.933477      0.9181                1  \n",
       "2  0.843537  0.842702  0.806321  0.830031     0.84646                1  \n",
       "\n",
       "[3 rows x 39 columns]"
      ]
     },
     "metadata": {},
     "output_type": "display_data"
    }
   ],
   "source": [
    "display_data(predator.predictions['gbm_predictions_prob_data'])"
   ]
  },
  {
   "cell_type": "code",
   "execution_count": 18,
   "id": "f2b38467-e658-4ed6-9ac0-6de1f1017ce7",
   "metadata": {},
   "outputs": [
    {
     "data": {
      "image/png": "[encoded data removed]",
      "text/plain": [
       "<Figure size 432x288 with 1 Axes>"
      ]
     },
     "metadata": {
      "needs_background": "light"
     },
     "output_type": "display_data"
    }
   ],
   "source": [
    "predator.predictions.plot_ensemble_prediction_distribution(\"gbm\")"
   ]
  },
  {
   "cell_type": "code",
   "execution_count": 19,
   "id": "c454d6a9-5c73-4fe6-b609-e7b160e2ddb8",
   "metadata": {},
   "outputs": [
    {
     "name": "stdout",
     "output_type": "stream",
     "text": [
      "\u001b[36mData dimensions: (3032, 4)\u001b[0m\n"
     ]
    },
    {
     "data": {
      "text/html": [
       "<div>\n",
       "<style scoped>\n",
       "    .dataframe tbody tr th:only-of-type {\n",
       "        vertical-align: middle;\n",
       "    }\n",
       "\n",
       "    .dataframe tbody tr th {\n",
       "        vertical-align: top;\n",
       "    }\n",
       "\n",
       "    .dataframe thead th {\n",
       "        text-align: right;\n",
       "    }\n",
       "</style>\n",
       "<table border=\"1\" class=\"dataframe\">\n",
       "  <thead>\n",
       "    <tr style=\"text-align: right;\">\n",
       "      <th></th>\n",
       "      <th>UniProt_ID</th>\n",
       "      <th>Mutation</th>\n",
       "      <th>Interactor_UniProt_ID</th>\n",
       "      <th>Prediction</th>\n",
       "    </tr>\n",
       "  </thead>\n",
       "  <tbody>\n",
       "    <tr>\n",
       "      <th>0</th>\n",
       "      <td>P46734</td>\n",
       "      <td>K200E</td>\n",
       "      <td>P27361</td>\n",
       "      <td>1</td>\n",
       "    </tr>\n",
       "    <tr>\n",
       "      <th>1</th>\n",
       "      <td>P46734</td>\n",
       "      <td>K200E</td>\n",
       "      <td>Q16512</td>\n",
       "      <td>1</td>\n",
       "    </tr>\n",
       "    <tr>\n",
       "      <th>2</th>\n",
       "      <td>P46734</td>\n",
       "      <td>K200E</td>\n",
       "      <td>Q5S007</td>\n",
       "      <td>1</td>\n",
       "    </tr>\n",
       "  </tbody>\n",
       "</table>\n",
       "</div>"
      ],
      "text/plain": [
       "  UniProt_ID Mutation Interactor_UniProt_ID Prediction\n",
       "0     P46734    K200E                P27361          1\n",
       "1     P46734    K200E                Q16512          1\n",
       "2     P46734    K200E                Q5S007          1"
      ]
     },
     "metadata": {},
     "output_type": "display_data"
    }
   ],
   "source": [
    "gbm_prediction_results_soft = predator.predictions['gbm_prediction_results']\n",
    "display_data(gbm_prediction_results_soft)"
   ]
  },
  {
   "cell_type": "code",
   "execution_count": 20,
   "id": "569c4dd1-e2d9-40d0-b7c0-1cc177adfabb",
   "metadata": {},
   "outputs": [
    {
     "name": "stdout",
     "output_type": "stream",
     "text": [
      "\u001b[36mData dimensions: (2945, 4)\u001b[0m\n"
     ]
    },
    {
     "data": {
      "text/html": [
       "<div>\n",
       "<style scoped>\n",
       "    .dataframe tbody tr th:only-of-type {\n",
       "        vertical-align: middle;\n",
       "    }\n",
       "\n",
       "    .dataframe tbody tr th {\n",
       "        vertical-align: top;\n",
       "    }\n",
       "\n",
       "    .dataframe thead th {\n",
       "        text-align: right;\n",
       "    }\n",
       "</style>\n",
       "<table border=\"1\" class=\"dataframe\">\n",
       "  <thead>\n",
       "    <tr style=\"text-align: right;\">\n",
       "      <th></th>\n",
       "      <th>UniProt_ID</th>\n",
       "      <th>Mutation</th>\n",
       "      <th>Interactor_UniProt_ID</th>\n",
       "      <th>Prediction</th>\n",
       "    </tr>\n",
       "  </thead>\n",
       "  <tbody>\n",
       "    <tr>\n",
       "      <th>0</th>\n",
       "      <td>P46734</td>\n",
       "      <td>K200E</td>\n",
       "      <td>P27361</td>\n",
       "      <td>1</td>\n",
       "    </tr>\n",
       "    <tr>\n",
       "      <th>1</th>\n",
       "      <td>P46734</td>\n",
       "      <td>K200E</td>\n",
       "      <td>Q16512</td>\n",
       "      <td>1</td>\n",
       "    </tr>\n",
       "    <tr>\n",
       "      <th>2</th>\n",
       "      <td>P46734</td>\n",
       "      <td>K200E</td>\n",
       "      <td>Q5S007</td>\n",
       "      <td>1</td>\n",
       "    </tr>\n",
       "  </tbody>\n",
       "</table>\n",
       "</div>"
      ],
      "text/plain": [
       "  UniProt_ID Mutation Interactor_UniProt_ID Prediction\n",
       "0     P46734    K200E                P27361          1\n",
       "1     P46734    K200E                Q16512          1\n",
       "2     P46734    K200E                Q5S007          1"
      ]
     },
     "metadata": {},
     "output_type": "display_data"
    }
   ],
   "source": [
    "gbm_prediction_results_soft_no_votes_dropped = predator.predictions[\"gbm_prediction_results_no_votes_dropped\"]\n",
    "display_data(gbm_prediction_results_soft_no_votes_dropped)"
   ]
  },
  {
   "cell_type": "code",
   "execution_count": 21,
   "id": "d1100263-ae65-405f-a13d-896927fdc1c5",
   "metadata": {},
   "outputs": [
    {
     "name": "stdout",
     "output_type": "stream",
     "text": [
      "\u001b[36mLabel counts:\n",
      "Disrupting                1418\n",
      "Increasing + No Effect    1527\n",
      "Name: Prediction, dtype: int64\u001b[0m\n"
     ]
    },
    {
     "data": {
      "image/png": "[encoded data removed]",
      "text/plain": [
       "<Figure size 432x288 with 1 Axes>"
      ]
     },
     "metadata": {},
     "output_type": "display_data"
    }
   ],
   "source": [
    "visualize_label_counts(gbm_prediction_results_soft_no_votes_dropped, 'Prediction')"
   ]
  },
  {
   "cell_type": "code",
   "execution_count": 22,
   "id": "37c0a11a-e87e-40af-ba8a-8a28b82d956d",
   "metadata": {},
   "outputs": [],
   "source": [
    "gbm_ensemble_prediction_data_soft = predator.predictions[\"gbm_ensemble_prediction_data\"]"
   ]
  },
  {
   "cell_type": "code",
   "execution_count": 23,
   "id": "e4995e62-dfd6-4b54-bd6c-67a62eefb6a6",
   "metadata": {},
   "outputs": [],
   "source": [
    "gbm_predictions_prob_data_soft = predator.predictions[\"gbm_predictions_prob_data\"]"
   ]
  },
  {
   "cell_type": "code",
   "execution_count": null,
   "id": "dabc60aa-0a63-4016-bbef-4f8788b625ed",
   "metadata": {},
   "outputs": [],
   "source": []
  },
  {
   "cell_type": "code",
   "execution_count": 24,
   "id": "a84ab98c-1e29-413a-8c6e-514b747fd38f",
   "metadata": {},
   "outputs": [],
   "source": [
    "def add_median_probabilities(prediction_results, predictions_prob_data):\n",
    "    assert len(prediction_results) == len(predictions_prob_data)\n",
    "    prediction_results_with_probabilities = prediction_results.copy()\n",
    "    prediction_results_with_probabilities[\"Median_Probability\"] = predictions_prob_data[\"PROB_1s_AVG\"]\n",
    "    return prediction_results_with_probabilities"
   ]
  },
  {
   "cell_type": "code",
   "execution_count": 25,
   "id": "b8955db8-7279-4644-acb9-6297e6e1c43c",
   "metadata": {},
   "outputs": [
    {
     "data": {
      "text/html": [
       "<div>\n",
       "<style scoped>\n",
       "    .dataframe tbody tr th:only-of-type {\n",
       "        vertical-align: middle;\n",
       "    }\n",
       "\n",
       "    .dataframe tbody tr th {\n",
       "        vertical-align: top;\n",
       "    }\n",
       "\n",
       "    .dataframe thead th {\n",
       "        text-align: right;\n",
       "    }\n",
       "</style>\n",
       "<table border=\"1\" class=\"dataframe\">\n",
       "  <thead>\n",
       "    <tr style=\"text-align: right;\">\n",
       "      <th></th>\n",
       "      <th>UniProt_ID</th>\n",
       "      <th>Mutation</th>\n",
       "      <th>Interactor_UniProt_ID</th>\n",
       "      <th>Prediction</th>\n",
       "      <th>Median_Probability</th>\n",
       "    </tr>\n",
       "  </thead>\n",
       "  <tbody>\n",
       "    <tr>\n",
       "      <th>0</th>\n",
       "      <td>P46734</td>\n",
       "      <td>K200E</td>\n",
       "      <td>P27361</td>\n",
       "      <td>1</td>\n",
       "      <td>0.8174</td>\n",
       "    </tr>\n",
       "    <tr>\n",
       "      <th>1</th>\n",
       "      <td>P46734</td>\n",
       "      <td>K200E</td>\n",
       "      <td>Q16512</td>\n",
       "      <td>1</td>\n",
       "      <td>0.9181</td>\n",
       "    </tr>\n",
       "    <tr>\n",
       "      <th>2</th>\n",
       "      <td>P46734</td>\n",
       "      <td>K200E</td>\n",
       "      <td>Q5S007</td>\n",
       "      <td>1</td>\n",
       "      <td>0.84646</td>\n",
       "    </tr>\n",
       "    <tr>\n",
       "      <th>3</th>\n",
       "      <td>P46734</td>\n",
       "      <td>K200E</td>\n",
       "      <td>Q9Y2U5</td>\n",
       "      <td>1</td>\n",
       "      <td>0.8072</td>\n",
       "    </tr>\n",
       "    <tr>\n",
       "      <th>4</th>\n",
       "      <td>P46734</td>\n",
       "      <td>K200E</td>\n",
       "      <td>Q99759</td>\n",
       "      <td>1</td>\n",
       "      <td>0.85617</td>\n",
       "    </tr>\n",
       "  </tbody>\n",
       "</table>\n",
       "</div>"
      ],
      "text/plain": [
       "  UniProt_ID Mutation Interactor_UniProt_ID Prediction Median_Probability\n",
       "0     P46734    K200E                P27361          1             0.8174\n",
       "1     P46734    K200E                Q16512          1             0.9181\n",
       "2     P46734    K200E                Q5S007          1            0.84646\n",
       "3     P46734    K200E                Q9Y2U5          1             0.8072\n",
       "4     P46734    K200E                Q99759          1            0.85617"
      ]
     },
     "execution_count": 25,
     "metadata": {},
     "output_type": "execute_result"
    }
   ],
   "source": [
    "gbm_prediction_results_soft_with_median_probs = add_median_probabilities(\n",
    "    prediction_results=predator.predictions[\"gbm_prediction_results\"],\n",
    "    predictions_prob_data=predator.predictions[\"gbm_predictions_prob_data\"]\n",
    ")\n",
    "gbm_prediction_results_soft_with_median_probs.head()"
   ]
  },
  {
   "cell_type": "code",
   "execution_count": 26,
   "id": "5328bf48-72fa-4a0c-86c5-76e0939b0e5c",
   "metadata": {},
   "outputs": [],
   "source": [
    "gbm_prediction_results_soft_no_votes_dropped_with_median_probabilities = gbm_prediction_results_soft_with_median_probs[\n",
    "    gbm_prediction_results_soft_with_median_probs['Prediction'].isin([0, 1])\n",
    "]"
   ]
  },
  {
   "cell_type": "code",
   "execution_count": 27,
   "id": "5040e7d0-4bd2-4197-8a21-58bfd68b6c76",
   "metadata": {},
   "outputs": [
    {
     "data": {
      "text/plain": [
       "2945"
      ]
     },
     "execution_count": 27,
     "metadata": {},
     "output_type": "execute_result"
    }
   ],
   "source": [
    "len(gbm_prediction_results_soft_no_votes_dropped_with_median_probabilities)"
   ]
  },
  {
   "cell_type": "code",
   "execution_count": null,
   "id": "b7a25147-be61-4e87-be52-840ae207d3c2",
   "metadata": {},
   "outputs": [],
   "source": []
  },
  {
   "cell_type": "markdown",
   "id": "412859ae-c188-410e-85ef-7df91b9d2b89",
   "metadata": {},
   "source": [
    "## Exporting Predictions"
   ]
  },
  {
   "cell_type": "code",
   "execution_count": 28,
   "id": "4042b8ce-498b-4c6c-b964-bbf7632e4ae6",
   "metadata": {},
   "outputs": [
    {
     "name": "stdout",
     "output_type": "stream",
     "text": [
      "\u001b[36mData dimensions: (2945, 5)\u001b[0m\n"
     ]
    },
    {
     "data": {
      "text/html": [
       "<div>\n",
       "<style scoped>\n",
       "    .dataframe tbody tr th:only-of-type {\n",
       "        vertical-align: middle;\n",
       "    }\n",
       "\n",
       "    .dataframe tbody tr th {\n",
       "        vertical-align: top;\n",
       "    }\n",
       "\n",
       "    .dataframe thead th {\n",
       "        text-align: right;\n",
       "    }\n",
       "</style>\n",
       "<table border=\"1\" class=\"dataframe\">\n",
       "  <thead>\n",
       "    <tr style=\"text-align: right;\">\n",
       "      <th></th>\n",
       "      <th>UniProt_ID</th>\n",
       "      <th>Mutation</th>\n",
       "      <th>Interactor_UniProt_ID</th>\n",
       "      <th>Prediction</th>\n",
       "      <th>Median_Probability</th>\n",
       "    </tr>\n",
       "  </thead>\n",
       "  <tbody>\n",
       "    <tr>\n",
       "      <th>0</th>\n",
       "      <td>P46734</td>\n",
       "      <td>K200E</td>\n",
       "      <td>P27361</td>\n",
       "      <td>1</td>\n",
       "      <td>0.8174</td>\n",
       "    </tr>\n",
       "    <tr>\n",
       "      <th>1</th>\n",
       "      <td>P46734</td>\n",
       "      <td>K200E</td>\n",
       "      <td>Q16512</td>\n",
       "      <td>1</td>\n",
       "      <td>0.9181</td>\n",
       "    </tr>\n",
       "    <tr>\n",
       "      <th>2</th>\n",
       "      <td>P46734</td>\n",
       "      <td>K200E</td>\n",
       "      <td>Q5S007</td>\n",
       "      <td>1</td>\n",
       "      <td>0.84646</td>\n",
       "    </tr>\n",
       "  </tbody>\n",
       "</table>\n",
       "</div>"
      ],
      "text/plain": [
       "  UniProt_ID Mutation Interactor_UniProt_ID Prediction Median_Probability\n",
       "0     P46734    K200E                P27361          1             0.8174\n",
       "1     P46734    K200E                Q16512          1             0.9181\n",
       "2     P46734    K200E                Q5S007          1            0.84646"
      ]
     },
     "metadata": {},
     "output_type": "display_data"
    }
   ],
   "source": [
    "# gbm_prediction_results = gbm_prediction_results_hard_no_votes_dropped\n",
    "# gbm_prediction_results = gbm_prediction_results_soft_no_votes_dropped\n",
    "gbm_prediction_results = gbm_prediction_results_soft_no_votes_dropped_with_median_probabilities\n",
    "display_data(gbm_prediction_results)"
   ]
  },
  {
   "cell_type": "code",
   "execution_count": 29,
   "id": "4ab9fbc1-d3d2-4424-99ac-aa5515070d71",
   "metadata": {},
   "outputs": [
    {
     "name": "stdout",
     "output_type": "stream",
     "text": [
      "2021-11-17 16:52:27 |\u001b[36m DEBUG    \u001b[0m| helpers.helpers_predator.common | Folder with ID b9cfc7ea is created.\n",
      "2021-11-17 16:52:27 |\u001b[36m DEBUG    \u001b[0m| helpers.helpers_predator.common | Exporting data predictions at location ../data/predictions_datasets/ in folder gbm_prediction_2021-11-17\\b9cfc7ea..\n",
      "2021-11-17 16:52:27 |\u001b[32m INFO     \u001b[0m| helpers.helpers_predator.common | ../data/predictions_datasets/gbm_prediction_2021-11-17\\b9cfc7ea\\predictions_soft_2021-11-17.csv is exported successfully.\n",
      "2021-11-17 16:52:27 |\u001b[32m INFO     \u001b[0m| helpers.helpers_predator.common | Config is exported.\n"
     ]
    }
   ],
   "source": [
    "predator.export_prediction(\n",
    "    tcga=\"gbm\",\n",
    "    data=gbm_prediction_results,\n",
    "    file_name=\"predictions\",\n",
    "    folder_path=PREDICTIONS_DATASETS_FOLDER_PATH,\n",
    "    voting=\"soft\",\n",
    "    overwrite=False,\n",
    "    file_extension='csv'\n",
    ")"
   ]
  },
  {
   "cell_type": "markdown",
   "id": "fbc616a5-ce63-4b93-a858-b3d22fdce070",
   "metadata": {},
   "source": [
    "---"
   ]
  },
  {
   "cell_type": "code",
   "execution_count": null,
   "id": "2159ade9-870c-4676-94f2-4d1f4b09beee",
   "metadata": {},
   "outputs": [],
   "source": []
  }
 ],
 "metadata": {
  "kernelspec": {
   "display_name": "Predicting-Mutation-Effects",
   "language": "python",
   "name": "predicting-mutation-effects"
  },
  "language_info": {
   "codemirror_mode": {
    "name": "ipython",
    "version": 3
   },
   "file_extension": ".py",
   "mimetype": "text/x-python",
   "name": "python",
   "nbconvert_exporter": "python",
   "pygments_lexer": "ipython3",
   "version": "3.8.10"
  },
  "toc-autonumbering": false
 },
 "nbformat": 4,
 "nbformat_minor": 5
}
