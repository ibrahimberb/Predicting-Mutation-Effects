{
 "cells": [
  {
   "cell_type": "code",
   "execution_count": 1,
   "id": "19ff4a85-87c3-4a98-84fb-24496c7b6fbe",
   "metadata": {},
   "outputs": [],
   "source": [
    "# Common imports\n",
    "import pandas as pd\n",
    "import numpy as np\n",
    "import matplotlib.pyplot as plt\n",
    "import seaborn as sns\n",
    "\n",
    "import os\n",
    "import sys\n",
    "import random\n",
    "\n",
    "from pprint import pprint\n",
    "from IPython.display import display\n",
    "from tqdm.notebook import tqdm\n",
    "\n",
    "from helpers.helpers_predator.displayers import display_label_counts, display_labels, visualize_label_counts\n",
    "from helpers.helpers_predator.visualizers import (\n",
    "    visualize_sampled_train_datasets_label_counts\n",
    ")\n",
    "\n",
    "NUM_EXPERIMENT_REPEAT = 10_000 # 10, 25, 50\n",
    "\n",
    "SEED = 42\n",
    "random.seed(SEED)\n",
    "random_seeds = random.sample(range(1, 99999), NUM_EXPERIMENT_REPEAT)\n",
    "\n",
    "# PATHS\n",
    "PROJECT_COMMON_FILE_DIR = \"../data/\"\n",
    "MUTATIONS_PATH = \"training_data_M1.txt\"\n",
    "INITIAL_COLUMNS_PATH = \"../data/initial_columns_59.csv\"\n",
    "BRCA_PATH = \"../data/BRCA_INTERFACE_A2.txt\"\n",
    "\n",
    "# Reflect changes in the modules immediately.\n",
    "%load_ext autoreload\n",
    "%autoreload 2"
   ]
  },
  {
   "cell_type": "code",
   "execution_count": 2,
   "id": "0780e188-07bf-4d5a-9d92-77fe0d1a5bd8",
   "metadata": {},
   "outputs": [],
   "source": [
    "from Predator import Predator"
   ]
  },
  {
   "cell_type": "code",
   "execution_count": 3,
   "id": "938dd0f6-908c-4ff1-bcd3-9237f2ed64fe",
   "metadata": {},
   "outputs": [
    {
     "name": "stdout",
     "output_type": "stream",
     "text": [
      "2021-09-24 14:21:20 |\u001b[36m DEBUG    \u001b[0m| Predator | Initializing Predator ..\n",
      "2021-09-24 14:21:20 |\u001b[36m DEBUG    \u001b[0m| helpers.helpers_predator.data_materials | Initialize `train_data` ..\n",
      "2021-09-24 14:21:20 |\u001b[36m DEBUG    \u001b[0m| helpers.helpers_predator.data_materials | Initialize `train_data_processed` ..\n",
      "2021-09-24 14:21:20 |\u001b[36m DEBUG    \u001b[0m| helpers.helpers_predator.data_materials | Initialize `brca` ..\n",
      "2021-09-24 14:21:20 |\u001b[36m DEBUG    \u001b[0m| helpers.helpers_predator.data_materials | Initialize `target_brca_data` ..\n"
     ]
    }
   ],
   "source": [
    "predator = Predator(\n",
    "    project_common_file_dir=PROJECT_COMMON_FILE_DIR, \n",
    "    mutations_path=MUTATIONS_PATH, \n",
    "    tcga_code_path_pairs=[('brca', BRCA_PATH)],\n",
    "    initial_columns_path=INITIAL_COLUMNS_PATH, \n",
    "    n_experiment=NUM_EXPERIMENT_REPEAT,\n",
    "    eliminate_models=False\n",
    ")"
   ]
  },
  {
   "cell_type": "markdown",
   "id": "30b94e14-ad3e-4884-9282-fe0c1d3781fc",
   "metadata": {
    "tags": []
   },
   "source": [
    "## Datasets"
   ]
  },
  {
   "cell_type": "markdown",
   "id": "63e371ef-71a3-49d4-81dd-3d14b9d27037",
   "metadata": {
    "tags": []
   },
   "source": [
    "### Original Datasets"
   ]
  },
  {
   "cell_type": "markdown",
   "id": "1d6329cf-01ed-4bb8-942b-78047854a56f",
   "metadata": {
    "tags": []
   },
   "source": [
    "#### 1. Training Data: Mutations"
   ]
  },
  {
   "cell_type": "code",
   "execution_count": 4,
   "id": "f1731af1-b433-41ff-9f62-4ceff926f54f",
   "metadata": {},
   "outputs": [
    {
     "data": {
      "text/html": [
       "<div>\n",
       "<style scoped>\n",
       "    .dataframe tbody tr th:only-of-type {\n",
       "        vertical-align: middle;\n",
       "    }\n",
       "\n",
       "    .dataframe tbody tr th {\n",
       "        vertical-align: top;\n",
       "    }\n",
       "\n",
       "    .dataframe thead th {\n",
       "        text-align: right;\n",
       "    }\n",
       "</style>\n",
       "<table border=\"1\" class=\"dataframe\">\n",
       "  <thead>\n",
       "    <tr style=\"text-align: right;\">\n",
       "      <th></th>\n",
       "      <th>Mutation_Effect_Label</th>\n",
       "      <th>Input_identifier</th>\n",
       "      <th>UniProt_ID</th>\n",
       "      <th>Mutation</th>\n",
       "      <th>Status</th>\n",
       "      <th>Type</th>\n",
       "      <th>COSMIC_mut_ID</th>\n",
       "      <th>ClinVar_mut_ID</th>\n",
       "      <th>UniProt_mut_ID</th>\n",
       "      <th>Domain_name</th>\n",
       "      <th>...</th>\n",
       "      <th>number_of_residues_mut</th>\n",
       "      <th>IntraclashesEnergy1_wt</th>\n",
       "      <th>IntraclashesEnergy1_mut</th>\n",
       "      <th>IntraclashesEnergy2_wt</th>\n",
       "      <th>IntraclashesEnergy2_mut</th>\n",
       "      <th>Interface_hydrophobic_area</th>\n",
       "      <th>Interface_hydrophilic_area</th>\n",
       "      <th>Interface_total_area</th>\n",
       "      <th>Interface_contact_distance_wt</th>\n",
       "      <th>Interface_contact_distance_mut</th>\n",
       "    </tr>\n",
       "  </thead>\n",
       "  <tbody>\n",
       "    <tr>\n",
       "      <th>0</th>\n",
       "      <td>mutation decreasing rate(MI:1130)</td>\n",
       "      <td>P63000</td>\n",
       "      <td>P63000</td>\n",
       "      <td>Q61L</td>\n",
       "      <td>done</td>\n",
       "      <td>interface</td>\n",
       "      <td>-</td>\n",
       "      <td>-</td>\n",
       "      <td>-</td>\n",
       "      <td>Ras</td>\n",
       "      <td>...</td>\n",
       "      <td>378.0</td>\n",
       "      <td>40.0165</td>\n",
       "      <td>40.2638</td>\n",
       "      <td>61.9441</td>\n",
       "      <td>61.9441</td>\n",
       "      <td>None</td>\n",
       "      <td>None</td>\n",
       "      <td>None</td>\n",
       "      <td>3.7681</td>\n",
       "      <td>3.21627</td>\n",
       "    </tr>\n",
       "    <tr>\n",
       "      <th>1</th>\n",
       "      <td>mutation decreasing rate(MI:1130)</td>\n",
       "      <td>P63000</td>\n",
       "      <td>P63000</td>\n",
       "      <td>Q61L</td>\n",
       "      <td>done</td>\n",
       "      <td>interface</td>\n",
       "      <td>-</td>\n",
       "      <td>-</td>\n",
       "      <td>-</td>\n",
       "      <td>Ras</td>\n",
       "      <td>...</td>\n",
       "      <td>378.0</td>\n",
       "      <td>40.0165</td>\n",
       "      <td>40.2638</td>\n",
       "      <td>61.9441</td>\n",
       "      <td>61.9441</td>\n",
       "      <td>None</td>\n",
       "      <td>None</td>\n",
       "      <td>None</td>\n",
       "      <td>3.7681</td>\n",
       "      <td>3.21627</td>\n",
       "    </tr>\n",
       "    <tr>\n",
       "      <th>2</th>\n",
       "      <td>mutation decreasing rate(MI:1130)</td>\n",
       "      <td>P63000</td>\n",
       "      <td>P63000</td>\n",
       "      <td>Q61L</td>\n",
       "      <td>done</td>\n",
       "      <td>interface</td>\n",
       "      <td>-</td>\n",
       "      <td>-</td>\n",
       "      <td>-</td>\n",
       "      <td>Ras</td>\n",
       "      <td>...</td>\n",
       "      <td>378.0</td>\n",
       "      <td>40.0165</td>\n",
       "      <td>40.2638</td>\n",
       "      <td>61.9441</td>\n",
       "      <td>61.9441</td>\n",
       "      <td>None</td>\n",
       "      <td>None</td>\n",
       "      <td>None</td>\n",
       "      <td>3.7681</td>\n",
       "      <td>3.21627</td>\n",
       "    </tr>\n",
       "  </tbody>\n",
       "</table>\n",
       "<p>3 rows × 104 columns</p>\n",
       "</div>"
      ],
      "text/plain": [
       "               Mutation_Effect_Label Input_identifier UniProt_ID Mutation  \\\n",
       "0  mutation decreasing rate(MI:1130)           P63000     P63000     Q61L   \n",
       "1  mutation decreasing rate(MI:1130)           P63000     P63000     Q61L   \n",
       "2  mutation decreasing rate(MI:1130)           P63000     P63000     Q61L   \n",
       "\n",
       "  Status       Type COSMIC_mut_ID ClinVar_mut_ID UniProt_mut_ID Domain_name  \\\n",
       "0   done  interface             -              -              -         Ras   \n",
       "1   done  interface             -              -              -         Ras   \n",
       "2   done  interface             -              -              -         Ras   \n",
       "\n",
       "   ... number_of_residues_mut IntraclashesEnergy1_wt IntraclashesEnergy1_mut  \\\n",
       "0  ...                  378.0                40.0165                 40.2638   \n",
       "1  ...                  378.0                40.0165                 40.2638   \n",
       "2  ...                  378.0                40.0165                 40.2638   \n",
       "\n",
       "   IntraclashesEnergy2_wt  IntraclashesEnergy2_mut Interface_hydrophobic_area  \\\n",
       "0                 61.9441                  61.9441                       None   \n",
       "1                 61.9441                  61.9441                       None   \n",
       "2                 61.9441                  61.9441                       None   \n",
       "\n",
       "  Interface_hydrophilic_area Interface_total_area  \\\n",
       "0                       None                 None   \n",
       "1                       None                 None   \n",
       "2                       None                 None   \n",
       "\n",
       "  Interface_contact_distance_wt Interface_contact_distance_mut  \n",
       "0                        3.7681                        3.21627  \n",
       "1                        3.7681                        3.21627  \n",
       "2                        3.7681                        3.21627  \n",
       "\n",
       "[3 rows x 104 columns]"
      ]
     },
     "execution_count": 4,
     "metadata": {},
     "output_type": "execute_result"
    }
   ],
   "source": [
    "predator.data_materials[\"train_data\"].head(3)"
   ]
  },
  {
   "cell_type": "markdown",
   "id": "72dd0a10-ac42-432d-8049-a914d721f2f2",
   "metadata": {},
   "source": [
    "====="
   ]
  },
  {
   "cell_type": "code",
   "execution_count": 5,
   "id": "bb1473ad-21ba-4333-b8c0-4eb6805147b9",
   "metadata": {},
   "outputs": [
    {
     "data": {
      "text/html": [
       "<div>\n",
       "<style scoped>\n",
       "    .dataframe tbody tr th:only-of-type {\n",
       "        vertical-align: middle;\n",
       "    }\n",
       "\n",
       "    .dataframe tbody tr th {\n",
       "        vertical-align: top;\n",
       "    }\n",
       "\n",
       "    .dataframe thead th {\n",
       "        text-align: right;\n",
       "    }\n",
       "</style>\n",
       "<table border=\"1\" class=\"dataframe\">\n",
       "  <thead>\n",
       "    <tr style=\"text-align: right;\">\n",
       "      <th></th>\n",
       "      <th>Mutation_Effect_Label</th>\n",
       "      <th>UniProt_ID</th>\n",
       "      <th>Mutation</th>\n",
       "      <th>Interactor_UniProt_ID</th>\n",
       "    </tr>\n",
       "  </thead>\n",
       "  <tbody>\n",
       "    <tr>\n",
       "      <th>0</th>\n",
       "      <td>0</td>\n",
       "      <td>Q9BPZ3</td>\n",
       "      <td>F118A</td>\n",
       "      <td>P11940</td>\n",
       "    </tr>\n",
       "    <tr>\n",
       "      <th>1</th>\n",
       "      <td>0</td>\n",
       "      <td>P01116</td>\n",
       "      <td>Y40C</td>\n",
       "      <td>P50749</td>\n",
       "    </tr>\n",
       "    <tr>\n",
       "      <th>2</th>\n",
       "      <td>0</td>\n",
       "      <td>Q96QK1</td>\n",
       "      <td>F534D</td>\n",
       "      <td>Q9UBQ0</td>\n",
       "    </tr>\n",
       "    <tr>\n",
       "      <th>3</th>\n",
       "      <td>0</td>\n",
       "      <td>Q96QK1</td>\n",
       "      <td>F534D</td>\n",
       "      <td>Q9UBQ0-2</td>\n",
       "    </tr>\n",
       "    <tr>\n",
       "      <th>4</th>\n",
       "      <td>0</td>\n",
       "      <td>O43521-3</td>\n",
       "      <td>G66A</td>\n",
       "      <td>Q07812</td>\n",
       "    </tr>\n",
       "    <tr>\n",
       "      <th>...</th>\n",
       "      <td>...</td>\n",
       "      <td>...</td>\n",
       "      <td>...</td>\n",
       "      <td>...</td>\n",
       "    </tr>\n",
       "    <tr>\n",
       "      <th>735</th>\n",
       "      <td>0</td>\n",
       "      <td>P84243</td>\n",
       "      <td>Q94A</td>\n",
       "      <td>Q9UER7-3</td>\n",
       "    </tr>\n",
       "    <tr>\n",
       "      <th>736</th>\n",
       "      <td>0</td>\n",
       "      <td>Q96QK1</td>\n",
       "      <td>L589D</td>\n",
       "      <td>Q9UBQ0</td>\n",
       "    </tr>\n",
       "    <tr>\n",
       "      <th>737</th>\n",
       "      <td>0</td>\n",
       "      <td>Q96QK1</td>\n",
       "      <td>L589D</td>\n",
       "      <td>Q9UBQ0-2</td>\n",
       "    </tr>\n",
       "    <tr>\n",
       "      <th>738</th>\n",
       "      <td>0</td>\n",
       "      <td>P23297</td>\n",
       "      <td>F72L</td>\n",
       "      <td>P25815</td>\n",
       "    </tr>\n",
       "    <tr>\n",
       "      <th>739</th>\n",
       "      <td>0</td>\n",
       "      <td>Q15836</td>\n",
       "      <td>L46P</td>\n",
       "      <td>O43752</td>\n",
       "    </tr>\n",
       "  </tbody>\n",
       "</table>\n",
       "<p>740 rows × 4 columns</p>\n",
       "</div>"
      ],
      "text/plain": [
       "     Mutation_Effect_Label UniProt_ID Mutation Interactor_UniProt_ID\n",
       "0                        0     Q9BPZ3    F118A                P11940\n",
       "1                        0     P01116     Y40C                P50749\n",
       "2                        0     Q96QK1    F534D                Q9UBQ0\n",
       "3                        0     Q96QK1    F534D              Q9UBQ0-2\n",
       "4                        0   O43521-3     G66A                Q07812\n",
       "..                     ...        ...      ...                   ...\n",
       "735                      0     P84243     Q94A              Q9UER7-3\n",
       "736                      0     Q96QK1    L589D                Q9UBQ0\n",
       "737                      0     Q96QK1    L589D              Q9UBQ0-2\n",
       "738                      0     P23297     F72L                P25815\n",
       "739                      0     Q15836     L46P                O43752\n",
       "\n",
       "[740 rows x 4 columns]"
      ]
     },
     "execution_count": 5,
     "metadata": {},
     "output_type": "execute_result"
    }
   ],
   "source": [
    "df = predator.data_materials[\"train_data_processed\"][[\"Mutation_Effect_Label\", \"UniProt_ID\", \"Mutation\", \"Interactor_UniProt_ID\"]]\n",
    "df"
   ]
  },
  {
   "cell_type": "code",
   "execution_count": 6,
   "id": "27cc2362-2a30-415d-a748-afebd0412f2c",
   "metadata": {},
   "outputs": [
    {
     "data": {
      "text/plain": [
       "164"
      ]
     },
     "execution_count": 6,
     "metadata": {},
     "output_type": "execute_result"
    }
   ],
   "source": [
    "df['UniProt_ID'].nunique()"
   ]
  },
  {
   "cell_type": "code",
   "execution_count": 7,
   "id": "a6ec8583-a643-4237-932e-8367e6b57974",
   "metadata": {},
   "outputs": [],
   "source": [
    "df2 = df[[\"UniProt_ID\", \"Mutation\", \"Interactor_UniProt_ID\"]].copy()"
   ]
  },
  {
   "cell_type": "code",
   "execution_count": 8,
   "id": "1fe38bfa-27be-4c65-ad4f-4a3779b873a7",
   "metadata": {},
   "outputs": [],
   "source": [
    "df3 = df[[\"Mutation_Effect_Label\", \"UniProt_ID\", \"Mutation\", \"Interactor_UniProt_ID\"]].copy()"
   ]
  },
  {
   "cell_type": "code",
   "execution_count": null,
   "id": "9b2002c6-a878-4bb1-9b82-51dd936f626e",
   "metadata": {},
   "outputs": [],
   "source": []
  },
  {
   "cell_type": "code",
   "execution_count": 9,
   "id": "6382b9bd-fbac-475f-b7d0-a84e05154944",
   "metadata": {},
   "outputs": [
    {
     "data": {
      "text/plain": [
       "111"
      ]
     },
     "execution_count": 9,
     "metadata": {},
     "output_type": "execute_result"
    }
   ],
   "source": [
    "df3[df3[\"Mutation_Effect_Label\"] == 0]['UniProt_ID'].nunique()"
   ]
  },
  {
   "cell_type": "code",
   "execution_count": 10,
   "id": "7f4b4857-eaca-4806-9395-cc79e0f65269",
   "metadata": {},
   "outputs": [
    {
     "data": {
      "text/plain": [
       "65"
      ]
     },
     "execution_count": 10,
     "metadata": {},
     "output_type": "execute_result"
    }
   ],
   "source": [
    "df3[df3[\"Mutation_Effect_Label\"] == 1]['UniProt_ID'].nunique()"
   ]
  },
  {
   "cell_type": "code",
   "execution_count": 11,
   "id": "487f7eb0-8103-4756-9435-5296d706e47a",
   "metadata": {},
   "outputs": [
    {
     "data": {
      "text/plain": [
       "176"
      ]
     },
     "execution_count": 11,
     "metadata": {},
     "output_type": "execute_result"
    }
   ],
   "source": [
    "111+65"
   ]
  },
  {
   "cell_type": "code",
   "execution_count": 12,
   "id": "b8cdd1d2-be58-4f61-8395-b41845861b3e",
   "metadata": {},
   "outputs": [
    {
     "name": "stdout",
     "output_type": "stream",
     "text": [
      "164\n"
     ]
    },
    {
     "data": {
      "text/plain": [
       "['Q9BPZ3', 'P01116', 'Q96QK1', 'O43521-3', 'Q13418']"
      ]
     },
     "execution_count": 12,
     "metadata": {},
     "output_type": "execute_result"
    }
   ],
   "source": [
    "unique_proteins = list(df['UniProt_ID'].unique())\n",
    "print(len(unique_proteins))\n",
    "unique_proteins[:5]"
   ]
  },
  {
   "cell_type": "code",
   "execution_count": 13,
   "id": "2ea5e832-16bf-4175-a334-627cef432f1e",
   "metadata": {},
   "outputs": [
    {
     "name": "stdout",
     "output_type": "stream",
     "text": [
      "12\n"
     ]
    },
    {
     "data": {
      "text/plain": [
       "['Q13418',\n",
       " 'P11802',\n",
       " 'Q13241',\n",
       " 'P42773',\n",
       " 'P61587',\n",
       " 'Q71DI3',\n",
       " 'Q12918',\n",
       " 'P01903',\n",
       " 'P63279',\n",
       " 'O15111',\n",
       " 'P51587',\n",
       " 'P42771']"
      ]
     },
     "execution_count": 13,
     "metadata": {},
     "output_type": "execute_result"
    }
   ],
   "source": [
    "proteins_with_two_labels = []\n",
    "for protein in unique_proteins:\n",
    "    if df[df['UniProt_ID'] == protein]['Mutation_Effect_Label'].nunique() > 1:\n",
    "        proteins_with_two_labels.append(protein)\n",
    "        \n",
    "print(len(proteins_with_two_labels))\n",
    "proteins_with_two_labels"
   ]
  },
  {
   "cell_type": "code",
   "execution_count": 14,
   "id": "b7845797-5471-489e-9c03-ac57f896068d",
   "metadata": {},
   "outputs": [
    {
     "name": "stdout",
     "output_type": "stream",
     "text": [
      "0    106\n",
      "1     58\n",
      "Name: Mutation_Effect_Label, dtype: int64\n"
     ]
    },
    {
     "data": {
      "text/html": [
       "<div>\n",
       "<style scoped>\n",
       "    .dataframe tbody tr th:only-of-type {\n",
       "        vertical-align: middle;\n",
       "    }\n",
       "\n",
       "    .dataframe tbody tr th {\n",
       "        vertical-align: top;\n",
       "    }\n",
       "\n",
       "    .dataframe thead th {\n",
       "        text-align: right;\n",
       "    }\n",
       "</style>\n",
       "<table border=\"1\" class=\"dataframe\">\n",
       "  <thead>\n",
       "    <tr style=\"text-align: right;\">\n",
       "      <th></th>\n",
       "      <th>Mutation_Effect_Label</th>\n",
       "      <th>UniProt_ID</th>\n",
       "      <th>Mutation</th>\n",
       "      <th>Interactor_UniProt_ID</th>\n",
       "    </tr>\n",
       "  </thead>\n",
       "  <tbody>\n",
       "    <tr>\n",
       "      <th>0</th>\n",
       "      <td>0</td>\n",
       "      <td>Q9BPZ3</td>\n",
       "      <td>F118A</td>\n",
       "      <td>P11940</td>\n",
       "    </tr>\n",
       "    <tr>\n",
       "      <th>1</th>\n",
       "      <td>0</td>\n",
       "      <td>P01116</td>\n",
       "      <td>Y40C</td>\n",
       "      <td>P50749</td>\n",
       "    </tr>\n",
       "    <tr>\n",
       "      <th>2</th>\n",
       "      <td>0</td>\n",
       "      <td>Q96QK1</td>\n",
       "      <td>R637D</td>\n",
       "      <td>Q9UBQ0</td>\n",
       "    </tr>\n",
       "    <tr>\n",
       "      <th>3</th>\n",
       "      <td>0</td>\n",
       "      <td>O43521-3</td>\n",
       "      <td>G66A</td>\n",
       "      <td>P10415</td>\n",
       "    </tr>\n",
       "    <tr>\n",
       "      <th>4</th>\n",
       "      <td>1</td>\n",
       "      <td>Q13418</td>\n",
       "      <td>Q362H</td>\n",
       "      <td>Q9NVD7</td>\n",
       "    </tr>\n",
       "    <tr>\n",
       "      <th>...</th>\n",
       "      <td>...</td>\n",
       "      <td>...</td>\n",
       "      <td>...</td>\n",
       "      <td>...</td>\n",
       "    </tr>\n",
       "    <tr>\n",
       "      <th>159</th>\n",
       "      <td>0</td>\n",
       "      <td>Q0P5N6</td>\n",
       "      <td>G66D</td>\n",
       "      <td>O43924</td>\n",
       "    </tr>\n",
       "    <tr>\n",
       "      <th>160</th>\n",
       "      <td>1</td>\n",
       "      <td>Q7Z3B4</td>\n",
       "      <td>R385K</td>\n",
       "      <td>P37198</td>\n",
       "    </tr>\n",
       "    <tr>\n",
       "      <th>161</th>\n",
       "      <td>1</td>\n",
       "      <td>P19429</td>\n",
       "      <td>R145Q</td>\n",
       "      <td>P02585</td>\n",
       "    </tr>\n",
       "    <tr>\n",
       "      <th>162</th>\n",
       "      <td>1</td>\n",
       "      <td>P21860</td>\n",
       "      <td>G284R</td>\n",
       "      <td>P04626</td>\n",
       "    </tr>\n",
       "    <tr>\n",
       "      <th>163</th>\n",
       "      <td>0</td>\n",
       "      <td>P30622-2</td>\n",
       "      <td>K252A</td>\n",
       "      <td>Q15691</td>\n",
       "    </tr>\n",
       "  </tbody>\n",
       "</table>\n",
       "<p>164 rows × 4 columns</p>\n",
       "</div>"
      ],
      "text/plain": [
       "     Mutation_Effect_Label UniProt_ID Mutation Interactor_UniProt_ID\n",
       "0                        0     Q9BPZ3    F118A                P11940\n",
       "1                        0     P01116     Y40C                P50749\n",
       "2                        0     Q96QK1    R637D                Q9UBQ0\n",
       "3                        0   O43521-3     G66A                P10415\n",
       "4                        1     Q13418    Q362H                Q9NVD7\n",
       "..                     ...        ...      ...                   ...\n",
       "159                      0     Q0P5N6     G66D                O43924\n",
       "160                      1     Q7Z3B4    R385K                P37198\n",
       "161                      1     P19429    R145Q                P02585\n",
       "162                      1     P21860    G284R                P04626\n",
       "163                      0   P30622-2    K252A                Q15691\n",
       "\n",
       "[164 rows x 4 columns]"
      ]
     },
     "execution_count": 14,
     "metadata": {},
     "output_type": "execute_result"
    }
   ],
   "source": [
    "sampled_entries = []\n",
    "for protein in unique_proteins:\n",
    "    sampled_entry = df[df['UniProt_ID'] == protein].sample()\n",
    "    sampled_entries.append(sampled_entry)\n",
    "\n",
    "sampled_data = pd.concat(sampled_entries, axis=0)\n",
    "sampled_data.reset_index(drop=True, inplace=True)\n",
    "print(sampled_data[\"Mutation_Effect_Label\"].value_counts())\n",
    "sampled_data"
   ]
  },
  {
   "cell_type": "code",
   "execution_count": 15,
   "id": "8783a924-5910-43a2-bf57-1f8ad49bcb57",
   "metadata": {},
   "outputs": [
    {
     "data": {
      "text/html": [
       "<div>\n",
       "<style scoped>\n",
       "    .dataframe tbody tr th:only-of-type {\n",
       "        vertical-align: middle;\n",
       "    }\n",
       "\n",
       "    .dataframe tbody tr th {\n",
       "        vertical-align: top;\n",
       "    }\n",
       "\n",
       "    .dataframe thead th {\n",
       "        text-align: right;\n",
       "    }\n",
       "</style>\n",
       "<table border=\"1\" class=\"dataframe\">\n",
       "  <thead>\n",
       "    <tr style=\"text-align: right;\">\n",
       "      <th></th>\n",
       "      <th>Mutation_Effect_Label</th>\n",
       "      <th>UniProt_ID</th>\n",
       "      <th>Mutation</th>\n",
       "      <th>Interactor_UniProt_ID</th>\n",
       "    </tr>\n",
       "  </thead>\n",
       "  <tbody>\n",
       "    <tr>\n",
       "      <th>11</th>\n",
       "      <td>1</td>\n",
       "      <td>Q13418</td>\n",
       "      <td>Q362H</td>\n",
       "      <td>Q9NVD7</td>\n",
       "    </tr>\n",
       "    <tr>\n",
       "      <th>150</th>\n",
       "      <td>0</td>\n",
       "      <td>Q13418</td>\n",
       "      <td>M402A</td>\n",
       "      <td>Q9NVD7</td>\n",
       "    </tr>\n",
       "  </tbody>\n",
       "</table>\n",
       "</div>"
      ],
      "text/plain": [
       "     Mutation_Effect_Label UniProt_ID Mutation Interactor_UniProt_ID\n",
       "11                       1     Q13418    Q362H                Q9NVD7\n",
       "150                      0     Q13418    M402A                Q9NVD7"
      ]
     },
     "execution_count": 15,
     "metadata": {},
     "output_type": "execute_result"
    }
   ],
   "source": [
    "df[df['UniProt_ID'] == \"Q13418\"]"
   ]
  },
  {
   "cell_type": "code",
   "execution_count": null,
   "id": "ed3fa867-843f-461e-8300-919f5e7e2389",
   "metadata": {},
   "outputs": [],
   "source": []
  },
  {
   "cell_type": "code",
   "execution_count": null,
   "id": "24129907-e529-42fc-a2d1-54e4f0fde441",
   "metadata": {},
   "outputs": [],
   "source": []
  },
  {
   "cell_type": "code",
   "execution_count": 16,
   "id": "93ed3fd3-0845-46a7-95ff-1e750fa3abf1",
   "metadata": {},
   "outputs": [
    {
     "data": {
      "text/html": [
       "<div>\n",
       "<style scoped>\n",
       "    .dataframe tbody tr th:only-of-type {\n",
       "        vertical-align: middle;\n",
       "    }\n",
       "\n",
       "    .dataframe tbody tr th {\n",
       "        vertical-align: top;\n",
       "    }\n",
       "\n",
       "    .dataframe thead th {\n",
       "        text-align: right;\n",
       "    }\n",
       "</style>\n",
       "<table border=\"1\" class=\"dataframe\">\n",
       "  <thead>\n",
       "    <tr style=\"text-align: right;\">\n",
       "      <th></th>\n",
       "      <th>Mutation_Effect_Label</th>\n",
       "      <th>UniProt_ID</th>\n",
       "      <th>Mutation</th>\n",
       "      <th>Interactor_UniProt_ID</th>\n",
       "    </tr>\n",
       "  </thead>\n",
       "  <tbody>\n",
       "    <tr>\n",
       "      <th>0</th>\n",
       "      <td>0</td>\n",
       "      <td>Q9BPZ3</td>\n",
       "      <td>F118A</td>\n",
       "      <td>P11940</td>\n",
       "    </tr>\n",
       "    <tr>\n",
       "      <th>1</th>\n",
       "      <td>0</td>\n",
       "      <td>P01116</td>\n",
       "      <td>Y40C</td>\n",
       "      <td>P50749</td>\n",
       "    </tr>\n",
       "    <tr>\n",
       "      <th>2</th>\n",
       "      <td>0</td>\n",
       "      <td>Q96QK1</td>\n",
       "      <td>F534D</td>\n",
       "      <td>Q9UBQ0</td>\n",
       "    </tr>\n",
       "    <tr>\n",
       "      <th>3</th>\n",
       "      <td>0</td>\n",
       "      <td>Q96QK1</td>\n",
       "      <td>F534D</td>\n",
       "      <td>Q9UBQ0-2</td>\n",
       "    </tr>\n",
       "    <tr>\n",
       "      <th>4</th>\n",
       "      <td>0</td>\n",
       "      <td>O43521-3</td>\n",
       "      <td>G66A</td>\n",
       "      <td>Q07812</td>\n",
       "    </tr>\n",
       "    <tr>\n",
       "      <th>...</th>\n",
       "      <td>...</td>\n",
       "      <td>...</td>\n",
       "      <td>...</td>\n",
       "      <td>...</td>\n",
       "    </tr>\n",
       "    <tr>\n",
       "      <th>735</th>\n",
       "      <td>0</td>\n",
       "      <td>P84243</td>\n",
       "      <td>Q94A</td>\n",
       "      <td>Q9UER7-3</td>\n",
       "    </tr>\n",
       "    <tr>\n",
       "      <th>736</th>\n",
       "      <td>0</td>\n",
       "      <td>Q96QK1</td>\n",
       "      <td>L589D</td>\n",
       "      <td>Q9UBQ0</td>\n",
       "    </tr>\n",
       "    <tr>\n",
       "      <th>737</th>\n",
       "      <td>0</td>\n",
       "      <td>Q96QK1</td>\n",
       "      <td>L589D</td>\n",
       "      <td>Q9UBQ0-2</td>\n",
       "    </tr>\n",
       "    <tr>\n",
       "      <th>738</th>\n",
       "      <td>0</td>\n",
       "      <td>P23297</td>\n",
       "      <td>F72L</td>\n",
       "      <td>P25815</td>\n",
       "    </tr>\n",
       "    <tr>\n",
       "      <th>739</th>\n",
       "      <td>0</td>\n",
       "      <td>Q15836</td>\n",
       "      <td>L46P</td>\n",
       "      <td>O43752</td>\n",
       "    </tr>\n",
       "  </tbody>\n",
       "</table>\n",
       "<p>740 rows × 4 columns</p>\n",
       "</div>"
      ],
      "text/plain": [
       "     Mutation_Effect_Label UniProt_ID Mutation Interactor_UniProt_ID\n",
       "0                        0     Q9BPZ3    F118A                P11940\n",
       "1                        0     P01116     Y40C                P50749\n",
       "2                        0     Q96QK1    F534D                Q9UBQ0\n",
       "3                        0     Q96QK1    F534D              Q9UBQ0-2\n",
       "4                        0   O43521-3     G66A                Q07812\n",
       "..                     ...        ...      ...                   ...\n",
       "735                      0     P84243     Q94A              Q9UER7-3\n",
       "736                      0     Q96QK1    L589D                Q9UBQ0\n",
       "737                      0     Q96QK1    L589D              Q9UBQ0-2\n",
       "738                      0     P23297     F72L                P25815\n",
       "739                      0     Q15836     L46P                O43752\n",
       "\n",
       "[740 rows x 4 columns]"
      ]
     },
     "execution_count": 16,
     "metadata": {},
     "output_type": "execute_result"
    }
   ],
   "source": [
    "df3"
   ]
  },
  {
   "cell_type": "code",
   "execution_count": 17,
   "id": "08bac6fc-2d3f-4bed-862b-8b492529e35c",
   "metadata": {},
   "outputs": [
    {
     "data": {
      "text/html": [
       "<div>\n",
       "<style scoped>\n",
       "    .dataframe tbody tr th:only-of-type {\n",
       "        vertical-align: middle;\n",
       "    }\n",
       "\n",
       "    .dataframe tbody tr th {\n",
       "        vertical-align: top;\n",
       "    }\n",
       "\n",
       "    .dataframe thead th {\n",
       "        text-align: right;\n",
       "    }\n",
       "</style>\n",
       "<table border=\"1\" class=\"dataframe\">\n",
       "  <thead>\n",
       "    <tr style=\"text-align: right;\">\n",
       "      <th></th>\n",
       "      <th>Mutation_Effect_Label</th>\n",
       "      <th>UniProt_ID</th>\n",
       "      <th>Mutation</th>\n",
       "      <th>Interactor_UniProt_ID</th>\n",
       "    </tr>\n",
       "  </thead>\n",
       "  <tbody>\n",
       "    <tr>\n",
       "      <th>172</th>\n",
       "      <td>0</td>\n",
       "      <td>Q9HAU4</td>\n",
       "      <td>C716A</td>\n",
       "      <td>P0CG47</td>\n",
       "    </tr>\n",
       "    <tr>\n",
       "      <th>233</th>\n",
       "      <td>1</td>\n",
       "      <td>P01133</td>\n",
       "      <td>H980Y</td>\n",
       "      <td>P00533-3</td>\n",
       "    </tr>\n",
       "    <tr>\n",
       "      <th>334</th>\n",
       "      <td>1</td>\n",
       "      <td>Q14203</td>\n",
       "      <td>Q93R</td>\n",
       "      <td>P30622</td>\n",
       "    </tr>\n",
       "    <tr>\n",
       "      <th>336</th>\n",
       "      <td>1</td>\n",
       "      <td>Q14203</td>\n",
       "      <td>Q93R</td>\n",
       "      <td>P30622-1</td>\n",
       "    </tr>\n",
       "    <tr>\n",
       "      <th>338</th>\n",
       "      <td>1</td>\n",
       "      <td>Q14203</td>\n",
       "      <td>Q93R</td>\n",
       "      <td>P30622-2</td>\n",
       "    </tr>\n",
       "    <tr>\n",
       "      <th>372</th>\n",
       "      <td>0</td>\n",
       "      <td>Q13542</td>\n",
       "      <td>L59A</td>\n",
       "      <td>P06730-2</td>\n",
       "    </tr>\n",
       "    <tr>\n",
       "      <th>456</th>\n",
       "      <td>0</td>\n",
       "      <td>Q13542</td>\n",
       "      <td>Y54A</td>\n",
       "      <td>P06730-2</td>\n",
       "    </tr>\n",
       "    <tr>\n",
       "      <th>470</th>\n",
       "      <td>1</td>\n",
       "      <td>Q14203</td>\n",
       "      <td>Q93K</td>\n",
       "      <td>P30622</td>\n",
       "    </tr>\n",
       "    <tr>\n",
       "      <th>472</th>\n",
       "      <td>1</td>\n",
       "      <td>Q14203</td>\n",
       "      <td>Q93K</td>\n",
       "      <td>P30622-1</td>\n",
       "    </tr>\n",
       "    <tr>\n",
       "      <th>474</th>\n",
       "      <td>1</td>\n",
       "      <td>Q14203</td>\n",
       "      <td>Q93K</td>\n",
       "      <td>P30622-2</td>\n",
       "    </tr>\n",
       "    <tr>\n",
       "      <th>633</th>\n",
       "      <td>1</td>\n",
       "      <td>P01133</td>\n",
       "      <td>K998R</td>\n",
       "      <td>P00533-3</td>\n",
       "    </tr>\n",
       "    <tr>\n",
       "      <th>683</th>\n",
       "      <td>1</td>\n",
       "      <td>P01133</td>\n",
       "      <td>K998S</td>\n",
       "      <td>P00533-3</td>\n",
       "    </tr>\n",
       "    <tr>\n",
       "      <th>703</th>\n",
       "      <td>1</td>\n",
       "      <td>P19429</td>\n",
       "      <td>R145Q</td>\n",
       "      <td>P02585</td>\n",
       "    </tr>\n",
       "  </tbody>\n",
       "</table>\n",
       "</div>"
      ],
      "text/plain": [
       "     Mutation_Effect_Label UniProt_ID Mutation Interactor_UniProt_ID\n",
       "172                      0     Q9HAU4    C716A                P0CG47\n",
       "233                      1     P01133    H980Y              P00533-3\n",
       "334                      1     Q14203     Q93R                P30622\n",
       "336                      1     Q14203     Q93R              P30622-1\n",
       "338                      1     Q14203     Q93R              P30622-2\n",
       "372                      0     Q13542     L59A              P06730-2\n",
       "456                      0     Q13542     Y54A              P06730-2\n",
       "470                      1     Q14203     Q93K                P30622\n",
       "472                      1     Q14203     Q93K              P30622-1\n",
       "474                      1     Q14203     Q93K              P30622-2\n",
       "633                      1     P01133    K998R              P00533-3\n",
       "683                      1     P01133    K998S              P00533-3\n",
       "703                      1     P19429    R145Q                P02585"
      ]
     },
     "execution_count": 17,
     "metadata": {},
     "output_type": "execute_result"
    }
   ],
   "source": [
    "df3[df3.duplicated()]"
   ]
  },
  {
   "cell_type": "code",
   "execution_count": 18,
   "id": "0da43887-520d-4779-98ed-8f1abdbfc1f1",
   "metadata": {},
   "outputs": [
    {
     "data": {
      "text/plain": [
       "(13, 3)"
      ]
     },
     "execution_count": 18,
     "metadata": {},
     "output_type": "execute_result"
    }
   ],
   "source": [
    "df2[df2.duplicated()].shape"
   ]
  },
  {
   "cell_type": "markdown",
   "id": "82fe282d-22f2-4f4b-bd55-73c0438e4b22",
   "metadata": {},
   "source": [
    "====="
   ]
  },
  {
   "cell_type": "code",
   "execution_count": 19,
   "id": "0c53ddcd-db18-49c4-9a82-b889a6d34375",
   "metadata": {},
   "outputs": [
    {
     "data": {
      "text/plain": [
       "177"
      ]
     },
     "execution_count": 19,
     "metadata": {},
     "output_type": "execute_result"
    }
   ],
   "source": [
    "164+13"
   ]
  },
  {
   "cell_type": "code",
   "execution_count": null,
   "id": "13c728f3-95bc-43b8-95d1-d2e184ed8750",
   "metadata": {},
   "outputs": [],
   "source": []
  },
  {
   "cell_type": "code",
   "execution_count": null,
   "id": "23e199ef-2fe1-463e-8bbc-2d3484f79148",
   "metadata": {},
   "outputs": [],
   "source": []
  },
  {
   "cell_type": "code",
   "execution_count": null,
   "id": "4979debf-9490-4f4e-9d60-56f006f2b7d6",
   "metadata": {},
   "outputs": [],
   "source": []
  },
  {
   "cell_type": "code",
   "execution_count": null,
   "id": "e2e5cedb-b68e-48d4-acc9-d65c1ab5e29e",
   "metadata": {},
   "outputs": [],
   "source": []
  },
  {
   "cell_type": "code",
   "execution_count": null,
   "id": "b81d534f-bb4d-47c2-ac98-8d5379efa6fb",
   "metadata": {},
   "outputs": [],
   "source": []
  },
  {
   "cell_type": "code",
   "execution_count": 41,
   "id": "53d5913e-6ba9-4494-b34f-8a58ffeaa552",
   "metadata": {},
   "outputs": [
    {
     "name": "stdout",
     "output_type": "stream",
     "text": [
      "164\n"
     ]
    },
    {
     "data": {
      "text/plain": [
       "['Q9BPZ3', 'P01116', 'Q96QK1', 'O43521-3', 'Q13418']"
      ]
     },
     "execution_count": 41,
     "metadata": {},
     "output_type": "execute_result"
    }
   ],
   "source": [
    "unique_proteins = list(df['UniProt_ID'].unique())\n",
    "print(len(unique_proteins))\n",
    "unique_proteins[:5]"
   ]
  },
  {
   "cell_type": "code",
   "execution_count": null,
   "id": "0782d9f2-50cb-47c3-965e-4d720dde039c",
   "metadata": {},
   "outputs": [
    {
     "name": "stdout",
     "output_type": "stream",
     "text": [
      "12\n"
     ]
    },
    {
     "data": {
      "text/plain": [
       "['Q13418',\n",
       " 'P11802',\n",
       " 'Q13241',\n",
       " 'P42773',\n",
       " 'P61587',\n",
       " 'Q71DI3',\n",
       " 'Q12918',\n",
       " 'P01903',\n",
       " 'P63279',\n",
       " 'O15111',\n",
       " 'P51587',\n",
       " 'P42771']"
      ]
     },
     "execution_count": 42,
     "metadata": {},
     "output_type": "execute_result"
    }
   ],
   "source": [
    "proteins_with_two_labels = []\n",
    "for protein in unique_proteins:\n",
    "    if df[df['UniProt_ID'] == protein]['Mutation_Effect_Label'].nunique() > 1:\n",
    "        proteins_with_two_labels.append(protein)\n",
    "        \n",
    "print(len(proteins_with_two_labels))\n",
    "proteins_with_two_labels"
   ]
  },
  {
   "cell_type": "code",
   "execution_count": 21,
   "id": "3394b8e6-ac07-4ecd-97b0-89bfbd08685f",
   "metadata": {},
   "outputs": [
    {
     "ename": "KeyError",
     "evalue": "'sampled_train_data_list'",
     "output_type": "error",
     "traceback": [
      "\u001b[1;31m---------------------------------------------------------------------------\u001b[0m",
      "\u001b[1;31mKeyError\u001b[0m                                  Traceback (most recent call last)",
      "\u001b[1;32m~\\AppData\\Local\\Temp/ipykernel_28844/4217098851.py\u001b[0m in \u001b[0;36m<module>\u001b[1;34m\u001b[0m\n\u001b[0;32m      6\u001b[0m \u001b[1;33m\u001b[0m\u001b[0m\n\u001b[0;32m      7\u001b[0m \u001b[1;32mfor\u001b[0m \u001b[0mi\u001b[0m \u001b[1;32min\u001b[0m \u001b[0mrange\u001b[0m\u001b[1;33m(\u001b[0m\u001b[0mpredator\u001b[0m\u001b[1;33m.\u001b[0m\u001b[0mn_experiment\u001b[0m\u001b[1;33m)\u001b[0m\u001b[1;33m:\u001b[0m\u001b[1;33m\u001b[0m\u001b[1;33m\u001b[0m\u001b[0m\n\u001b[1;32m----> 8\u001b[1;33m     \u001b[0mval\u001b[0m \u001b[1;33m=\u001b[0m \u001b[0mpredator\u001b[0m\u001b[1;33m.\u001b[0m\u001b[0mdata_materials\u001b[0m\u001b[1;33m[\u001b[0m\u001b[1;34m\"sampled_train_data_list\"\u001b[0m\u001b[1;33m]\u001b[0m\u001b[1;33m[\u001b[0m\u001b[0mi\u001b[0m\u001b[1;33m]\u001b[0m\u001b[1;33m[\u001b[0m\u001b[1;34m'Mutation_Effect_Label'\u001b[0m\u001b[1;33m]\u001b[0m\u001b[1;33m.\u001b[0m\u001b[0mvalue_counts\u001b[0m\u001b[1;33m(\u001b[0m\u001b[1;33m)\u001b[0m\u001b[1;33m[\u001b[0m\u001b[1;36m0\u001b[0m\u001b[1;33m]\u001b[0m\u001b[1;33m\u001b[0m\u001b[1;33m\u001b[0m\u001b[0m\n\u001b[0m\u001b[0;32m      9\u001b[0m     \u001b[0mmin_val_count\u001b[0m \u001b[1;33m=\u001b[0m \u001b[0mmin\u001b[0m\u001b[1;33m(\u001b[0m\u001b[0mmin_val_count\u001b[0m\u001b[1;33m,\u001b[0m \u001b[0mval\u001b[0m\u001b[1;33m)\u001b[0m\u001b[1;33m\u001b[0m\u001b[1;33m\u001b[0m\u001b[0m\n\u001b[0;32m     10\u001b[0m     \u001b[0mmax_val_count\u001b[0m \u001b[1;33m=\u001b[0m \u001b[0mmax\u001b[0m\u001b[1;33m(\u001b[0m\u001b[0mmax_val_count\u001b[0m\u001b[1;33m,\u001b[0m \u001b[0mval\u001b[0m\u001b[1;33m)\u001b[0m\u001b[1;33m\u001b[0m\u001b[1;33m\u001b[0m\u001b[0m\n",
      "\u001b[1;31mKeyError\u001b[0m: 'sampled_train_data_list'"
     ]
    }
   ],
   "source": [
    "min_val_count_class_0 = float('+inf')\n",
    "max_val_count_class_0 = float('-inf')\n",
    "\n",
    "min_val_count_class_1 = float('+inf')\n",
    "max_val_count_class_1 = float('-inf')\n",
    "\n",
    "for i in range(predator.n_experiment):\n",
    "    val = predator.data_materials[\"sampled_train_data_list\"][i]['Mutation_Effect_Label'].value_counts()[0]\n",
    "    min_val_count = min(min_val_count, val)\n",
    "    max_val_count = max(max_val_count, val)\n",
    "    \n",
    "print(min_val_count)\n",
    "print(max_val_count)"
   ]
  },
  {
   "cell_type": "code",
   "execution_count": null,
   "id": "38d55d93-b80d-4f77-99dd-f18455105f65",
   "metadata": {},
   "outputs": [],
   "source": []
  },
  {
   "cell_type": "code",
   "execution_count": null,
   "id": "953795fa-f080-4f5b-9691-e3131283a33d",
   "metadata": {},
   "outputs": [],
   "source": []
  },
  {
   "cell_type": "code",
   "execution_count": null,
   "id": "f4de81c8-bd0d-42bf-87b9-9a05feb34bec",
   "metadata": {},
   "outputs": [],
   "source": []
  }
 ],
 "metadata": {
  "kernelspec": {
   "display_name": "Predicting-Mutation-Effects",
   "language": "python",
   "name": "predicting-mutation-effects"
  },
  "language_info": {
   "codemirror_mode": {
    "name": "ipython",
    "version": 3
   },
   "file_extension": ".py",
   "mimetype": "text/x-python",
   "name": "python",
   "nbconvert_exporter": "python",
   "pygments_lexer": "ipython3",
   "version": "3.8.10"
  }
 },
 "nbformat": 4,
 "nbformat_minor": 5
}
