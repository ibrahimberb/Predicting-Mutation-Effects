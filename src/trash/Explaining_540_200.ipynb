{
 "cells": [
  {
   "cell_type": "markdown",
   "id": "b0eea2f9-919a-44d2-970f-da295e7b77c5",
   "metadata": {
    "tags": []
   },
   "source": [
    "# Exlaining 540 and 200\n"
   ]
  },
  {
   "cell_type": "code",
   "execution_count": 1,
   "id": "3f602602-ac27-4390-9521-9bcdc73f06ef",
   "metadata": {},
   "outputs": [],
   "source": [
    "# Common imports\n",
    "import pandas as pd\n",
    "import numpy as np\n",
    "import matplotlib.pyplot as plt\n",
    "import seaborn as sns\n",
    "\n",
    "import os\n",
    "import sys\n",
    "import random\n",
    "from pathlib import Path\n",
    "\n",
    "from pprint import pprint\n",
    "from IPython.display import display\n",
    "from tqdm.notebook import tqdm\n",
    "\n",
    "from helpers.helpers_predator.displayers import (\n",
    "    display_label_counts, \n",
    "    display_labels, \n",
    "    visualize_label_counts,\n",
    "    display_data,\n",
    ")\n",
    "from helpers.helpers_predator.visualizers import (\n",
    "    visualize_sampled_train_datasets_label_counts\n",
    ")\n",
    "\n",
    "NUM_EXPERIMENT_REPEAT = 50 # 10, 25, 50\n",
    "\n",
    "SEED = 42\n",
    "random.seed(SEED)\n",
    "random_seeds = random.sample(range(1, 99999), NUM_EXPERIMENT_REPEAT)\n",
    "\n",
    "# PATHS\n",
    "PROJECT_COMMON_FILE_DIR = \"../data/\"\n",
    "MUTATIONS_PATH = \"training_data_M1.txt\"\n",
    "INITIAL_COLUMNS_PATH = \"../data/initial_columns_59.csv\"\n",
    "\n",
    "# Reflect changes in the modules immediately.\n",
    "%load_ext autoreload\n",
    "%autoreload 2"
   ]
  },
  {
   "cell_type": "code",
   "execution_count": 2,
   "id": "fe253deb-cefe-4725-adba-2331e7303f9f",
   "metadata": {},
   "outputs": [],
   "source": [
    "from Predator import Predator"
   ]
  },
  {
   "cell_type": "code",
   "execution_count": 3,
   "id": "a61b18f7-31c7-495f-95c7-9bd19a34faaf",
   "metadata": {},
   "outputs": [
    {
     "name": "stdout",
     "output_type": "stream",
     "text": [
      "2021-10-18 10:40:43 |\u001b[36m DEBUG    \u001b[0m| Predator | Initializing Predator ..\n",
      "2021-10-18 10:40:43 |\u001b[36m DEBUG    \u001b[0m| helpers.helpers_predator.data_materials | Initialize `train_data` ..\n",
      "2021-10-18 10:40:43 |\u001b[36m DEBUG    \u001b[0m| helpers.helpers_predator.data_materials | Initialize `train_data_processed` ..\n"
     ]
    }
   ],
   "source": [
    "predator = Predator(\n",
    "    project_common_file_dir=PROJECT_COMMON_FILE_DIR, \n",
    "    mutations_path=MUTATIONS_PATH, \n",
    "    initial_columns_path=INITIAL_COLUMNS_PATH, \n",
    "    n_experiment=NUM_EXPERIMENT_REPEAT,\n",
    "    eliminate_models=True\n",
    ")"
   ]
  },
  {
   "cell_type": "markdown",
   "id": "e05ff42e-e37c-4d08-9231-858ca58755c8",
   "metadata": {
    "tags": []
   },
   "source": [
    "## Datasets"
   ]
  },
  {
   "cell_type": "markdown",
   "id": "51f9ec90-43e6-4f14-a127-2666e4fdb477",
   "metadata": {
    "tags": []
   },
   "source": [
    "### Original Datasets"
   ]
  },
  {
   "cell_type": "markdown",
   "id": "449f1e59-05e4-4c5e-a9b8-1e793adbfade",
   "metadata": {
    "tags": []
   },
   "source": [
    "#### 1. Training Data: Mutations"
   ]
  },
  {
   "cell_type": "code",
   "execution_count": 4,
   "id": "a88426c5-96e5-4f27-995d-219664aa31c8",
   "metadata": {},
   "outputs": [
    {
     "name": "stdout",
     "output_type": "stream",
     "text": [
      "\u001b[36mData dimensions: (1101, 104)\u001b[0m\n"
     ]
    },
    {
     "data": {
      "text/html": [
       "<div>\n",
       "<style scoped>\n",
       "    .dataframe tbody tr th:only-of-type {\n",
       "        vertical-align: middle;\n",
       "    }\n",
       "\n",
       "    .dataframe tbody tr th {\n",
       "        vertical-align: top;\n",
       "    }\n",
       "\n",
       "    .dataframe thead th {\n",
       "        text-align: right;\n",
       "    }\n",
       "</style>\n",
       "<table border=\"1\" class=\"dataframe\">\n",
       "  <thead>\n",
       "    <tr style=\"text-align: right;\">\n",
       "      <th></th>\n",
       "      <th>Mutation_Effect_Label</th>\n",
       "      <th>Input_identifier</th>\n",
       "      <th>UniProt_ID</th>\n",
       "      <th>Mutation</th>\n",
       "      <th>Status</th>\n",
       "      <th>Type</th>\n",
       "      <th>COSMIC_mut_ID</th>\n",
       "      <th>ClinVar_mut_ID</th>\n",
       "      <th>UniProt_mut_ID</th>\n",
       "      <th>Domain_name</th>\n",
       "      <th>...</th>\n",
       "      <th>number_of_residues_mut</th>\n",
       "      <th>IntraclashesEnergy1_wt</th>\n",
       "      <th>IntraclashesEnergy1_mut</th>\n",
       "      <th>IntraclashesEnergy2_wt</th>\n",
       "      <th>IntraclashesEnergy2_mut</th>\n",
       "      <th>Interface_hydrophobic_area</th>\n",
       "      <th>Interface_hydrophilic_area</th>\n",
       "      <th>Interface_total_area</th>\n",
       "      <th>Interface_contact_distance_wt</th>\n",
       "      <th>Interface_contact_distance_mut</th>\n",
       "    </tr>\n",
       "  </thead>\n",
       "  <tbody>\n",
       "    <tr>\n",
       "      <th>0</th>\n",
       "      <td>mutation decreasing rate(MI:1130)</td>\n",
       "      <td>P63000</td>\n",
       "      <td>P63000</td>\n",
       "      <td>Q61L</td>\n",
       "      <td>done</td>\n",
       "      <td>interface</td>\n",
       "      <td>-</td>\n",
       "      <td>-</td>\n",
       "      <td>-</td>\n",
       "      <td>Ras</td>\n",
       "      <td>...</td>\n",
       "      <td>378.0</td>\n",
       "      <td>40.0165</td>\n",
       "      <td>40.2638</td>\n",
       "      <td>61.9441</td>\n",
       "      <td>61.9441</td>\n",
       "      <td>None</td>\n",
       "      <td>None</td>\n",
       "      <td>None</td>\n",
       "      <td>3.7681</td>\n",
       "      <td>3.21627</td>\n",
       "    </tr>\n",
       "    <tr>\n",
       "      <th>1</th>\n",
       "      <td>mutation decreasing rate(MI:1130)</td>\n",
       "      <td>P63000</td>\n",
       "      <td>P63000</td>\n",
       "      <td>Q61L</td>\n",
       "      <td>done</td>\n",
       "      <td>interface</td>\n",
       "      <td>-</td>\n",
       "      <td>-</td>\n",
       "      <td>-</td>\n",
       "      <td>Ras</td>\n",
       "      <td>...</td>\n",
       "      <td>378.0</td>\n",
       "      <td>40.0165</td>\n",
       "      <td>40.2638</td>\n",
       "      <td>61.9441</td>\n",
       "      <td>61.9441</td>\n",
       "      <td>None</td>\n",
       "      <td>None</td>\n",
       "      <td>None</td>\n",
       "      <td>3.7681</td>\n",
       "      <td>3.21627</td>\n",
       "    </tr>\n",
       "    <tr>\n",
       "      <th>2</th>\n",
       "      <td>mutation decreasing rate(MI:1130)</td>\n",
       "      <td>P63000</td>\n",
       "      <td>P63000</td>\n",
       "      <td>Q61L</td>\n",
       "      <td>done</td>\n",
       "      <td>interface</td>\n",
       "      <td>-</td>\n",
       "      <td>-</td>\n",
       "      <td>-</td>\n",
       "      <td>Ras</td>\n",
       "      <td>...</td>\n",
       "      <td>378.0</td>\n",
       "      <td>40.0165</td>\n",
       "      <td>40.2638</td>\n",
       "      <td>61.9441</td>\n",
       "      <td>61.9441</td>\n",
       "      <td>None</td>\n",
       "      <td>None</td>\n",
       "      <td>None</td>\n",
       "      <td>3.7681</td>\n",
       "      <td>3.21627</td>\n",
       "    </tr>\n",
       "  </tbody>\n",
       "</table>\n",
       "<p>3 rows × 104 columns</p>\n",
       "</div>"
      ],
      "text/plain": [
       "               Mutation_Effect_Label Input_identifier UniProt_ID Mutation  \\\n",
       "0  mutation decreasing rate(MI:1130)           P63000     P63000     Q61L   \n",
       "1  mutation decreasing rate(MI:1130)           P63000     P63000     Q61L   \n",
       "2  mutation decreasing rate(MI:1130)           P63000     P63000     Q61L   \n",
       "\n",
       "  Status       Type COSMIC_mut_ID ClinVar_mut_ID UniProt_mut_ID Domain_name  \\\n",
       "0   done  interface             -              -              -         Ras   \n",
       "1   done  interface             -              -              -         Ras   \n",
       "2   done  interface             -              -              -         Ras   \n",
       "\n",
       "   ... number_of_residues_mut IntraclashesEnergy1_wt IntraclashesEnergy1_mut  \\\n",
       "0  ...                  378.0                40.0165                 40.2638   \n",
       "1  ...                  378.0                40.0165                 40.2638   \n",
       "2  ...                  378.0                40.0165                 40.2638   \n",
       "\n",
       "   IntraclashesEnergy2_wt  IntraclashesEnergy2_mut Interface_hydrophobic_area  \\\n",
       "0                 61.9441                  61.9441                       None   \n",
       "1                 61.9441                  61.9441                       None   \n",
       "2                 61.9441                  61.9441                       None   \n",
       "\n",
       "  Interface_hydrophilic_area Interface_total_area  \\\n",
       "0                       None                 None   \n",
       "1                       None                 None   \n",
       "2                       None                 None   \n",
       "\n",
       "  Interface_contact_distance_wt Interface_contact_distance_mut  \n",
       "0                        3.7681                        3.21627  \n",
       "1                        3.7681                        3.21627  \n",
       "2                        3.7681                        3.21627  \n",
       "\n",
       "[3 rows x 104 columns]"
      ]
     },
     "metadata": {},
     "output_type": "display_data"
    }
   ],
   "source": [
    "display_data(predator.data_materials[\"train_data\"])"
   ]
  },
  {
   "cell_type": "code",
   "execution_count": 5,
   "id": "ce651c01-92e2-46d5-99cd-02b5926debca",
   "metadata": {},
   "outputs": [
    {
     "data": {
      "text/plain": [
       "mutation disrupting(MI:0573)             268\n",
       "mutation decreasing(MI:0119)             210\n",
       "mutation disrupting strength(MI:1128)    198\n",
       "mutation decreasing strength(MI:1133)    128\n",
       "mutation with no effect(MI:2226)         118\n",
       "disrupting                                69\n",
       "mutation increasing(MI:0382)              57\n",
       "mutation increasing strength(MI:1132)     24\n",
       "mutation decreasing rate(MI:1130)         21\n",
       "mutation disrupting rate(MI:1129)          5\n",
       "mutation causing(MI:2227)                  2\n",
       "mutation increasing rate(MI:1131)          1\n",
       "Name: Mutation_Effect_Label, dtype: int64"
      ]
     },
     "execution_count": 5,
     "metadata": {},
     "output_type": "execute_result"
    }
   ],
   "source": [
    "predator.data_materials[\"train_data\"][\"Mutation_Effect_Label\"].value_counts()"
   ]
  },
  {
   "cell_type": "code",
   "execution_count": null,
   "id": "1c6a46b5-e274-45c1-acf7-f781a186239b",
   "metadata": {},
   "outputs": [],
   "source": []
  },
  {
   "cell_type": "markdown",
   "id": "071cdac9-207f-4508-a963-aadc378a0067",
   "metadata": {},
   "source": [
    "# Excluding `decreasing` and `causing` cases."
   ]
  },
  {
   "cell_type": "code",
   "execution_count": 12,
   "id": "9f024d7c-5be2-4e28-8537-b61a57d52752",
   "metadata": {},
   "outputs": [
    {
     "data": {
      "text/plain": [
       "740"
      ]
     },
     "execution_count": 12,
     "metadata": {},
     "output_type": "execute_result"
    }
   ],
   "source": [
    "S = predator.data_materials[\"train_data\"][\"Mutation_Effect_Label\"].value_counts()\n",
    "S[~S.index.isin([\"mutation decreasing strength(MI:1133)\", \"mutation decreasing(MI:0119)\", \"mutation decreasing rate(MI:1130)\", \"mutation causing(MI:2227)\"])].sum()"
   ]
  },
  {
   "cell_type": "code",
   "execution_count": 27,
   "id": "4dab30a8-1389-4e47-88b2-79c7b3018523",
   "metadata": {},
   "outputs": [],
   "source": [
    "# in another words .. "
   ]
  },
  {
   "cell_type": "code",
   "execution_count": 25,
   "id": "8309ded5-fd68-471d-b5ad-ce90f47b0a9e",
   "metadata": {},
   "outputs": [],
   "source": [
    "def foo(x):\n",
    "    if \"decreasing\" in x:\n",
    "        return False\n",
    "    if \"causing\" in x:\n",
    "        return False\n",
    "    return True"
   ]
  },
  {
   "cell_type": "code",
   "execution_count": 26,
   "id": "80c261f7-d1e3-4bf8-bd0a-76e0aabd793a",
   "metadata": {},
   "outputs": [
    {
     "data": {
      "text/plain": [
       "740"
      ]
     },
     "execution_count": 26,
     "metadata": {},
     "output_type": "execute_result"
    }
   ],
   "source": [
    "S = predator.data_materials[\"train_data\"][\"Mutation_Effect_Label\"].value_counts()\n",
    "S[list(map(foo, S.index))].sum()"
   ]
  },
  {
   "cell_type": "code",
   "execution_count": null,
   "id": "8c58b8bf-d2d1-48de-8434-ad2730603300",
   "metadata": {},
   "outputs": [],
   "source": []
  },
  {
   "cell_type": "markdown",
   "id": "088e513c-8eeb-4d7d-ae8e-431685f65ba6",
   "metadata": {
    "tags": []
   },
   "source": [
    "#### 1. Preprocessed Training Data "
   ]
  },
  {
   "cell_type": "code",
   "execution_count": 5,
   "id": "743c940a-33f2-4439-af77-3bf471c886ee",
   "metadata": {},
   "outputs": [
    {
     "name": "stdout",
     "output_type": "stream",
     "text": [
      "\u001b[36mData dimensions: (740, 62)\u001b[0m\n"
     ]
    },
    {
     "data": {
      "text/html": [
       "<div>\n",
       "<style scoped>\n",
       "    .dataframe tbody tr th:only-of-type {\n",
       "        vertical-align: middle;\n",
       "    }\n",
       "\n",
       "    .dataframe tbody tr th {\n",
       "        vertical-align: top;\n",
       "    }\n",
       "\n",
       "    .dataframe thead th {\n",
       "        text-align: right;\n",
       "    }\n",
       "</style>\n",
       "<table border=\"1\" class=\"dataframe\">\n",
       "  <thead>\n",
       "    <tr style=\"text-align: right;\">\n",
       "      <th></th>\n",
       "      <th>Mutation_Effect_Label</th>\n",
       "      <th>UniProt_ID</th>\n",
       "      <th>Mutation</th>\n",
       "      <th>Interactor_UniProt_ID</th>\n",
       "      <th>Template_sequence_identity</th>\n",
       "      <th>Alignment_score</th>\n",
       "      <th>Interactor_template_sequence_identity</th>\n",
       "      <th>Interactor_alignment_score</th>\n",
       "      <th>Final_ddG</th>\n",
       "      <th>ProtBert_score</th>\n",
       "      <th>...</th>\n",
       "      <th>number_of_residues_mut</th>\n",
       "      <th>IntraclashesEnergy1_wt</th>\n",
       "      <th>IntraclashesEnergy1_mut</th>\n",
       "      <th>IntraclashesEnergy2_wt</th>\n",
       "      <th>IntraclashesEnergy2_mut</th>\n",
       "      <th>Interface_hydrophobic_area</th>\n",
       "      <th>Interface_hydrophilic_area</th>\n",
       "      <th>Interface_total_area</th>\n",
       "      <th>Interface_contact_distance_wt</th>\n",
       "      <th>Interface_contact_distance_mut</th>\n",
       "    </tr>\n",
       "  </thead>\n",
       "  <tbody>\n",
       "    <tr>\n",
       "      <th>0</th>\n",
       "      <td>0</td>\n",
       "      <td>Q9BPZ3</td>\n",
       "      <td>F118A</td>\n",
       "      <td>P11940</td>\n",
       "      <td>1.0000</td>\n",
       "      <td>1.000000</td>\n",
       "      <td>1.0000</td>\n",
       "      <td>0.968750</td>\n",
       "      <td>1.21970</td>\n",
       "      <td>-0.092273</td>\n",
       "      <td>...</td>\n",
       "      <td>118.0</td>\n",
       "      <td>5.30636</td>\n",
       "      <td>3.79101</td>\n",
       "      <td>52.4675</td>\n",
       "      <td>52.4675</td>\n",
       "      <td>427.775</td>\n",
       "      <td>194.715</td>\n",
       "      <td>622.495</td>\n",
       "      <td>3.35293</td>\n",
       "      <td>3.35293</td>\n",
       "    </tr>\n",
       "    <tr>\n",
       "      <th>1</th>\n",
       "      <td>0</td>\n",
       "      <td>P01116</td>\n",
       "      <td>Y40C</td>\n",
       "      <td>P50749</td>\n",
       "      <td>0.9277</td>\n",
       "      <td>0.931315</td>\n",
       "      <td>0.3553</td>\n",
       "      <td>0.172500</td>\n",
       "      <td>2.07695</td>\n",
       "      <td>0.998749</td>\n",
       "      <td>...</td>\n",
       "      <td>329.0</td>\n",
       "      <td>47.61770</td>\n",
       "      <td>47.21160</td>\n",
       "      <td>70.2902</td>\n",
       "      <td>70.2461</td>\n",
       "      <td>464.470</td>\n",
       "      <td>400.030</td>\n",
       "      <td>864.505</td>\n",
       "      <td>3.07827</td>\n",
       "      <td>3.59123</td>\n",
       "    </tr>\n",
       "    <tr>\n",
       "      <th>2</th>\n",
       "      <td>0</td>\n",
       "      <td>Q96QK1</td>\n",
       "      <td>F534D</td>\n",
       "      <td>Q9UBQ0</td>\n",
       "      <td>1.0000</td>\n",
       "      <td>0.360743</td>\n",
       "      <td>1.0000</td>\n",
       "      <td>0.994505</td>\n",
       "      <td>2.69571</td>\n",
       "      <td>0.288297</td>\n",
       "      <td>...</td>\n",
       "      <td>453.0</td>\n",
       "      <td>68.21080</td>\n",
       "      <td>68.19710</td>\n",
       "      <td>59.2321</td>\n",
       "      <td>59.1774</td>\n",
       "      <td>510.690</td>\n",
       "      <td>298.820</td>\n",
       "      <td>809.510</td>\n",
       "      <td>3.03938</td>\n",
       "      <td>3.24435</td>\n",
       "    </tr>\n",
       "  </tbody>\n",
       "</table>\n",
       "<p>3 rows × 62 columns</p>\n",
       "</div>"
      ],
      "text/plain": [
       "   Mutation_Effect_Label UniProt_ID Mutation Interactor_UniProt_ID  \\\n",
       "0                      0     Q9BPZ3    F118A                P11940   \n",
       "1                      0     P01116     Y40C                P50749   \n",
       "2                      0     Q96QK1    F534D                Q9UBQ0   \n",
       "\n",
       "   Template_sequence_identity  Alignment_score  \\\n",
       "0                      1.0000         1.000000   \n",
       "1                      0.9277         0.931315   \n",
       "2                      1.0000         0.360743   \n",
       "\n",
       "   Interactor_template_sequence_identity  Interactor_alignment_score  \\\n",
       "0                                 1.0000                    0.968750   \n",
       "1                                 0.3553                    0.172500   \n",
       "2                                 1.0000                    0.994505   \n",
       "\n",
       "   Final_ddG  ProtBert_score  ...  number_of_residues_mut  \\\n",
       "0    1.21970       -0.092273  ...                   118.0   \n",
       "1    2.07695        0.998749  ...                   329.0   \n",
       "2    2.69571        0.288297  ...                   453.0   \n",
       "\n",
       "   IntraclashesEnergy1_wt  IntraclashesEnergy1_mut  IntraclashesEnergy2_wt  \\\n",
       "0                 5.30636                  3.79101                 52.4675   \n",
       "1                47.61770                 47.21160                 70.2902   \n",
       "2                68.21080                 68.19710                 59.2321   \n",
       "\n",
       "   IntraclashesEnergy2_mut  Interface_hydrophobic_area  \\\n",
       "0                  52.4675                     427.775   \n",
       "1                  70.2461                     464.470   \n",
       "2                  59.1774                     510.690   \n",
       "\n",
       "   Interface_hydrophilic_area  Interface_total_area  \\\n",
       "0                     194.715               622.495   \n",
       "1                     400.030               864.505   \n",
       "2                     298.820               809.510   \n",
       "\n",
       "   Interface_contact_distance_wt  Interface_contact_distance_mut  \n",
       "0                        3.35293                         3.35293  \n",
       "1                        3.07827                         3.59123  \n",
       "2                        3.03938                         3.24435  \n",
       "\n",
       "[3 rows x 62 columns]"
      ]
     },
     "metadata": {},
     "output_type": "display_data"
    }
   ],
   "source": [
    "display_data(predator.data_materials[\"train_data_processed\"])"
   ]
  },
  {
   "cell_type": "code",
   "execution_count": 6,
   "id": "aa80dc47-7f01-4a64-b90c-86bde26c02aa",
   "metadata": {},
   "outputs": [
    {
     "name": "stdout",
     "output_type": "stream",
     "text": [
      "\u001b[36mLabel counts:\n",
      "Disrupting                540\n",
      "Increasing + No Effect    200\n",
      "Name: Mutation_Effect_Label, dtype: int64\u001b[0m\n"
     ]
    },
    {
     "data": {
      "text/html": [
       "<div>\n",
       "<style scoped>\n",
       "    .dataframe tbody tr th:only-of-type {\n",
       "        vertical-align: middle;\n",
       "    }\n",
       "\n",
       "    .dataframe tbody tr th {\n",
       "        vertical-align: top;\n",
       "    }\n",
       "\n",
       "    .dataframe thead th {\n",
       "        text-align: right;\n",
       "    }\n",
       "</style>\n",
       "<table border=\"1\" class=\"dataframe\">\n",
       "  <thead>\n",
       "    <tr style=\"text-align: right;\">\n",
       "      <th></th>\n",
       "      <th>Mutation_Effect_Label</th>\n",
       "      <th>Counts</th>\n",
       "    </tr>\n",
       "  </thead>\n",
       "  <tbody>\n",
       "    <tr>\n",
       "      <th>Disrupting</th>\n",
       "      <td>0</td>\n",
       "      <td>540</td>\n",
       "    </tr>\n",
       "    <tr>\n",
       "      <th>Increasing + No Effect</th>\n",
       "      <td>1</td>\n",
       "      <td>200</td>\n",
       "    </tr>\n",
       "  </tbody>\n",
       "</table>\n",
       "</div>"
      ],
      "text/plain": [
       "                        Mutation_Effect_Label  Counts\n",
       "Disrupting                                  0     540\n",
       "Increasing + No Effect                      1     200"
      ]
     },
     "metadata": {},
     "output_type": "display_data"
    },
    {
     "data": {
      "image/png": "[encoded data removed]",
      "text/plain": [
       "<Figure size 432x288 with 1 Axes>"
      ]
     },
     "metadata": {},
     "output_type": "display_data"
    }
   ],
   "source": [
    "visualize_label_counts(predator.data_materials[\"train_data_processed\"])\n",
    "display_label_counts(predator.data_materials[\"train_data_processed\"])"
   ]
  }
 ],
 "metadata": {
  "kernelspec": {
   "display_name": "Predicting-Mutation-Effects",
   "language": "python",
   "name": "predicting-mutation-effects"
  },
  "language_info": {
   "codemirror_mode": {
    "name": "ipython",
    "version": 3
   },
   "file_extension": ".py",
   "mimetype": "text/x-python",
   "name": "python",
   "nbconvert_exporter": "python",
   "pygments_lexer": "ipython3",
   "version": "3.8.10"
  },
  "toc-autonumbering": false
 },
 "nbformat": 4,
 "nbformat_minor": 5
}
