{
 "cells": [
  {
   "cell_type": "markdown",
   "id": "b0eea2f9-919a-44d2-970f-da295e7b77c5",
   "metadata": {
    "tags": []
   },
   "source": [
    "# PREDATOR: **PRED**icting the imp**A**ct of cancer somatic mu**T**ations on pr**O**tein-protein inte**R**actions\n"
   ]
  },
  {
   "cell_type": "markdown",
   "id": "0fc1bee2-776f-46dc-9aa7-80e979b941df",
   "metadata": {},
   "source": [
    "## OV"
   ]
  },
  {
   "cell_type": "markdown",
   "id": "f412b89c-b553-4606-95fb-d30520f77b97",
   "metadata": {},
   "source": [
    "\n",
    "<b><i class=\"fa fa-folder-o\" area-hidden=\"true\" style=\"color:#1976D2\"> </i>&nbsp; File Location</b><br>\n",
    "<p style=\"background:#F5F5F5; text-indent: 1em;\">\n",
    "<code style=\"background:#F5F5F5; color:#404040; font-weight:bold; font-size:12px\">C:\\Users\\ibrah\\Documents\\GitHub\\Predicting-Mutation-Effects\\src</code>\n",
    "</p>\n",
    "\n",
    "<b><i class=\"far fa-file\" area-hidden=\"true\" style=\"color:#1976D2\"> </i>&nbsp; File Name</b>\n",
    "<p style=\"background:#F5F5F5; text-indent: 1em;\">\n",
    "<code style=\"background:#F5F5F5; color:#404040; font-weight:bold; font-size:12px\">PredatorStudy_OV.ipynb</code>\n",
    "</p>\n",
    "\n",
    "<b><i class=\"far fa-calendar-alt\" area-hidden=\"true\" style=\"color:#1976D2\"> </i>&nbsp; Last Edited</b>\n",
    "<p style=\"background:#F5F5F5; text-indent: 1em;\">\n",
    "<code style=\"background:#F5F5F5; color:#404040; font-weight:bold; font-size:12px\">October 25th, 2021</code>\n",
    "</p>\n"
   ]
  },
  {
   "cell_type": "markdown",
   "id": "8931daec-0e11-43e2-8a68-098571c3cc4e",
   "metadata": {},
   "source": [
    "<div class=\"alert alert-block\" style=\"background-color: #F5F5F5; border: 1px solid; padding: 10px; border-color: #E0E0E0\">\n",
    "    <b><i class=\"fa fa-compass\" aria-hidden=\"true\" style=\"color:#404040\"></i></b>&nbsp; <b style=\"color: #404040\">Purpose </b> <br>\n",
    "<div>\n",
    "    \n",
    "- [x] Apply on Cancer Datasets\n",
    "    > OV\n",
    "\n",
    "* Target (Cancer) data: \n",
    "    - *OV_Interface.txt*"
   ]
  },
  {
   "cell_type": "code",
   "execution_count": 1,
   "id": "3f602602-ac27-4390-9521-9bcdc73f06ef",
   "metadata": {},
   "outputs": [],
   "source": [
    "# Common imports\n",
    "import pandas as pd\n",
    "import numpy as np\n",
    "import matplotlib.pyplot as plt\n",
    "import seaborn as sns\n",
    "\n",
    "import os\n",
    "import os.path as op\n",
    "import sys\n",
    "import random\n",
    "from pathlib import Path\n",
    "\n",
    "from pprint import pprint\n",
    "from IPython.display import display\n",
    "from tqdm.notebook import tqdm\n",
    "\n",
    "from helpers.helpers_predator.displayers import (\n",
    "    display_label_counts, \n",
    "    display_labels, \n",
    "    visualize_label_counts,\n",
    "    display_data,\n",
    ")\n",
    "\n",
    "from helpers.helpers_predator.visualizers import (\n",
    "    visualize_sampled_train_datasets_label_counts\n",
    ")\n",
    "\n",
    "from helpers.helpers_predator.common import load_predator\n",
    "from helpers.helpers_predator.common import export_data\n",
    "\n",
    "# PATHS\n",
    "OV_PATH = Path(r\"../../My-ELASPIC-Web-API/Elaspic_Results/Merged_Results/OV_Interface_2021-09-28.txt\")\n",
    "PREDATOR_MODEL_PATH = Path(r\"PredatorModels/PredatorModel_2021-10-24/04f37897/predator.pkl\")\n",
    "PREDICTIONS_DATASETS_FOLDER_PATH = \"../data/predictions_datasets/\"\n",
    "\n",
    "# Reflect changes in the modules immediately.\n",
    "%load_ext autoreload\n",
    "%autoreload 2"
   ]
  },
  {
   "cell_type": "markdown",
   "id": "c47b1edb-758c-460e-acf7-4f864330d19b",
   "metadata": {},
   "source": [
    "## Load the Predator"
   ]
  },
  {
   "cell_type": "code",
   "execution_count": 2,
   "id": "a93bc356-1ba3-49b1-8c33-0e730cc8a313",
   "metadata": {},
   "outputs": [
    {
     "name": "stdout",
     "output_type": "stream",
     "text": [
      "2021-10-25 12:13:03 |\u001b[32m INFO     \u001b[0m| helpers.helpers_predator.common | Predator object PredatorModels\\PredatorModel_2021-10-24\\04f37897\\predator.pkl is loaded successfully.\n"
     ]
    }
   ],
   "source": [
    "predator = load_predator(PREDATOR_MODEL_PATH)"
   ]
  },
  {
   "cell_type": "markdown",
   "id": "60f783e4-28bb-4543-9d35-42c4b17b37b8",
   "metadata": {},
   "source": [
    "## Prediction TCGA on Cancer Dataset: OV"
   ]
  },
  {
   "cell_type": "code",
   "execution_count": 3,
   "id": "c27cc976-e356-4271-85e9-f23c9366dc67",
   "metadata": {},
   "outputs": [
    {
     "name": "stdout",
     "output_type": "stream",
     "text": [
      "2021-10-25 12:13:15 |\u001b[36m DEBUG    \u001b[0m| helpers.helpers_predator.data_materials | Initialize `ov` ..\n",
      "2021-10-25 12:13:15 |\u001b[36m DEBUG    \u001b[0m| helpers.helpers_predator.data_materials | Initialize `target_ov_data` ..\n",
      "2021-10-25 12:13:15 |\u001b[36m DEBUG    \u001b[0m| helpers.helpers_predator.data_materials | Initializing target data materials ..\n",
      "2021-10-25 12:13:15 |\u001b[36m DEBUG    \u001b[0m| helpers.helpers_predator.data_materials | Determined features: ['Provean_score', 'EL2_score', 'Final_ddG', 'Interactor_alignment_score', 'Solvent_accessibility_wt', 'Matrix_score', 'Solvent_accessibility_mut', 'van_der_waals_mut', 'Interactor_template_sequence_identity', 'solvation_polar_wt']\n",
      "2021-10-25 12:13:15 |\u001b[36m DEBUG    \u001b[0m| helpers.helpers_predator.data_materials | Declaring Xs_ov data materials  ..\n"
     ]
    }
   ],
   "source": [
    "predator.initialize_target_data_materials(\n",
    "    tcga_code_path_pairs=[('ov', OV_PATH)]\n",
    ")"
   ]
  },
  {
   "cell_type": "markdown",
   "id": "245b2b8c-0c70-4cd5-9a09-b3428cf0b048",
   "metadata": {
    "tags": []
   },
   "source": [
    "#### TCGA Cancer Datasets"
   ]
  },
  {
   "cell_type": "markdown",
   "id": "4ab061ec-37b5-4651-a5c0-1f1238e7a08a",
   "metadata": {},
   "source": [
    "##### OV"
   ]
  },
  {
   "cell_type": "code",
   "execution_count": 4,
   "id": "342221d3-8e16-42eb-9801-20a3efed64f5",
   "metadata": {},
   "outputs": [
    {
     "name": "stdout",
     "output_type": "stream",
     "text": [
      "\u001b[36mData dimensions: (5086, 103)\u001b[0m\n"
     ]
    },
    {
     "data": {
      "text/html": [
       "<div>\n",
       "<style scoped>\n",
       "    .dataframe tbody tr th:only-of-type {\n",
       "        vertical-align: middle;\n",
       "    }\n",
       "\n",
       "    .dataframe tbody tr th {\n",
       "        vertical-align: top;\n",
       "    }\n",
       "\n",
       "    .dataframe thead th {\n",
       "        text-align: right;\n",
       "    }\n",
       "</style>\n",
       "<table border=\"1\" class=\"dataframe\">\n",
       "  <thead>\n",
       "    <tr style=\"text-align: right;\">\n",
       "      <th></th>\n",
       "      <th>Input_identifier</th>\n",
       "      <th>UniProt_ID</th>\n",
       "      <th>Mutation</th>\n",
       "      <th>Status</th>\n",
       "      <th>Type</th>\n",
       "      <th>COSMIC_mut_ID</th>\n",
       "      <th>ClinVar_mut_ID</th>\n",
       "      <th>UniProt_mut_ID</th>\n",
       "      <th>Domain_name</th>\n",
       "      <th>Domain_clan</th>\n",
       "      <th>...</th>\n",
       "      <th>number_of_residues_mut</th>\n",
       "      <th>IntraclashesEnergy1_wt</th>\n",
       "      <th>IntraclashesEnergy1_mut</th>\n",
       "      <th>IntraclashesEnergy2_wt</th>\n",
       "      <th>IntraclashesEnergy2_mut</th>\n",
       "      <th>Interface_hydrophobic_area</th>\n",
       "      <th>Interface_hydrophilic_area</th>\n",
       "      <th>Interface_total_area</th>\n",
       "      <th>Interface_contact_distance_wt</th>\n",
       "      <th>Interface_contact_distance_mut</th>\n",
       "    </tr>\n",
       "  </thead>\n",
       "  <tbody>\n",
       "    <tr>\n",
       "      <th>0</th>\n",
       "      <td>P08134</td>\n",
       "      <td>P08134</td>\n",
       "      <td>D59E</td>\n",
       "      <td>done</td>\n",
       "      <td>interface</td>\n",
       "      <td>COSM72427</td>\n",
       "      <td>-</td>\n",
       "      <td>-</td>\n",
       "      <td>Ras</td>\n",
       "      <td>Ras</td>\n",
       "      <td>...</td>\n",
       "      <td>388.0</td>\n",
       "      <td>53.3423</td>\n",
       "      <td>55.3148</td>\n",
       "      <td>37.8150</td>\n",
       "      <td>37.8150</td>\n",
       "      <td>719.095</td>\n",
       "      <td>461.785</td>\n",
       "      <td>1180.88</td>\n",
       "      <td>3.18062</td>\n",
       "      <td>3.18062</td>\n",
       "    </tr>\n",
       "    <tr>\n",
       "      <th>1</th>\n",
       "      <td>P08134</td>\n",
       "      <td>P08134</td>\n",
       "      <td>D59E</td>\n",
       "      <td>done</td>\n",
       "      <td>interface</td>\n",
       "      <td>COSM72427</td>\n",
       "      <td>-</td>\n",
       "      <td>-</td>\n",
       "      <td>Ras</td>\n",
       "      <td>Ras</td>\n",
       "      <td>...</td>\n",
       "      <td>344.0</td>\n",
       "      <td>62.3140</td>\n",
       "      <td>63.0691</td>\n",
       "      <td>32.5038</td>\n",
       "      <td>32.5038</td>\n",
       "      <td>598.71</td>\n",
       "      <td>417.74</td>\n",
       "      <td>1016.46</td>\n",
       "      <td>3.80414</td>\n",
       "      <td>3.80414</td>\n",
       "    </tr>\n",
       "    <tr>\n",
       "      <th>2</th>\n",
       "      <td>P62993</td>\n",
       "      <td>P62993</td>\n",
       "      <td>A3V</td>\n",
       "      <td>done</td>\n",
       "      <td>interface</td>\n",
       "      <td>-</td>\n",
       "      <td>-</td>\n",
       "      <td>-</td>\n",
       "      <td>SH3_1</td>\n",
       "      <td>SH3_1</td>\n",
       "      <td>...</td>\n",
       "      <td>280.0</td>\n",
       "      <td>23.2774</td>\n",
       "      <td>24.5177</td>\n",
       "      <td>122.5120</td>\n",
       "      <td>122.5120</td>\n",
       "      <td>170.81</td>\n",
       "      <td>120.515</td>\n",
       "      <td>291.325</td>\n",
       "      <td>4.63364</td>\n",
       "      <td>4.63364</td>\n",
       "    </tr>\n",
       "  </tbody>\n",
       "</table>\n",
       "<p>3 rows × 103 columns</p>\n",
       "</div>"
      ],
      "text/plain": [
       "  Input_identifier UniProt_ID Mutation Status       Type COSMIC_mut_ID  \\\n",
       "0           P08134     P08134     D59E   done  interface     COSM72427   \n",
       "1           P08134     P08134     D59E   done  interface     COSM72427   \n",
       "2           P62993     P62993      A3V   done  interface             -   \n",
       "\n",
       "  ClinVar_mut_ID UniProt_mut_ID Domain_name Domain_clan  ...  \\\n",
       "0              -              -         Ras         Ras  ...   \n",
       "1              -              -         Ras         Ras  ...   \n",
       "2              -              -       SH3_1       SH3_1  ...   \n",
       "\n",
       "  number_of_residues_mut IntraclashesEnergy1_wt  IntraclashesEnergy1_mut  \\\n",
       "0                  388.0                53.3423                  55.3148   \n",
       "1                  344.0                62.3140                  63.0691   \n",
       "2                  280.0                23.2774                  24.5177   \n",
       "\n",
       "   IntraclashesEnergy2_wt IntraclashesEnergy2_mut Interface_hydrophobic_area  \\\n",
       "0                 37.8150                 37.8150                    719.095   \n",
       "1                 32.5038                 32.5038                     598.71   \n",
       "2                122.5120                122.5120                     170.81   \n",
       "\n",
       "  Interface_hydrophilic_area Interface_total_area  \\\n",
       "0                    461.785              1180.88   \n",
       "1                     417.74              1016.46   \n",
       "2                    120.515              291.325   \n",
       "\n",
       "  Interface_contact_distance_wt  Interface_contact_distance_mut  \n",
       "0                       3.18062                         3.18062  \n",
       "1                       3.80414                         3.80414  \n",
       "2                       4.63364                         4.63364  \n",
       "\n",
       "[3 rows x 103 columns]"
      ]
     },
     "metadata": {},
     "output_type": "display_data"
    }
   ],
   "source": [
    "display_data(predator.data_materials[\"ov\"])"
   ]
  },
  {
   "cell_type": "markdown",
   "id": "a22d630d-e0a0-4417-aa64-0df18f8f3a63",
   "metadata": {
    "tags": []
   },
   "source": [
    "#### Preprocessed TCGA Cancer Datasets"
   ]
  },
  {
   "cell_type": "markdown",
   "id": "ca038a01-2691-4943-9d7e-55a41661f3cc",
   "metadata": {},
   "source": [
    "##### OV"
   ]
  },
  {
   "cell_type": "code",
   "execution_count": 5,
   "id": "67f55bd2-c25a-4d6c-ba5b-08957cf03852",
   "metadata": {},
   "outputs": [
    {
     "name": "stdout",
     "output_type": "stream",
     "text": [
      "\u001b[36mData dimensions: (5086, 61)\u001b[0m\n"
     ]
    },
    {
     "data": {
      "text/html": [
       "<div>\n",
       "<style scoped>\n",
       "    .dataframe tbody tr th:only-of-type {\n",
       "        vertical-align: middle;\n",
       "    }\n",
       "\n",
       "    .dataframe tbody tr th {\n",
       "        vertical-align: top;\n",
       "    }\n",
       "\n",
       "    .dataframe thead th {\n",
       "        text-align: right;\n",
       "    }\n",
       "</style>\n",
       "<table border=\"1\" class=\"dataframe\">\n",
       "  <thead>\n",
       "    <tr style=\"text-align: right;\">\n",
       "      <th></th>\n",
       "      <th>UniProt_ID</th>\n",
       "      <th>Mutation</th>\n",
       "      <th>Interactor_UniProt_ID</th>\n",
       "      <th>Template_sequence_identity</th>\n",
       "      <th>Alignment_score</th>\n",
       "      <th>Interactor_template_sequence_identity</th>\n",
       "      <th>Interactor_alignment_score</th>\n",
       "      <th>Final_ddG</th>\n",
       "      <th>ProtBert_score</th>\n",
       "      <th>ProteinSolver_score</th>\n",
       "      <th>...</th>\n",
       "      <th>number_of_residues_mut</th>\n",
       "      <th>IntraclashesEnergy1_wt</th>\n",
       "      <th>IntraclashesEnergy1_mut</th>\n",
       "      <th>IntraclashesEnergy2_wt</th>\n",
       "      <th>IntraclashesEnergy2_mut</th>\n",
       "      <th>Interface_hydrophobic_area</th>\n",
       "      <th>Interface_hydrophilic_area</th>\n",
       "      <th>Interface_total_area</th>\n",
       "      <th>Interface_contact_distance_wt</th>\n",
       "      <th>Interface_contact_distance_mut</th>\n",
       "    </tr>\n",
       "  </thead>\n",
       "  <tbody>\n",
       "    <tr>\n",
       "      <th>0</th>\n",
       "      <td>P08134</td>\n",
       "      <td>D59E</td>\n",
       "      <td>P52565</td>\n",
       "      <td>0.9263</td>\n",
       "      <td>0.915529</td>\n",
       "      <td>0.9394</td>\n",
       "      <td>0.914711</td>\n",
       "      <td>1.492640</td>\n",
       "      <td>0.999329</td>\n",
       "      <td>0.046801</td>\n",
       "      <td>...</td>\n",
       "      <td>388.0</td>\n",
       "      <td>53.3423</td>\n",
       "      <td>55.3148</td>\n",
       "      <td>37.8150</td>\n",
       "      <td>37.8150</td>\n",
       "      <td>719.095</td>\n",
       "      <td>461.785</td>\n",
       "      <td>1180.880</td>\n",
       "      <td>3.18062</td>\n",
       "      <td>3.18062</td>\n",
       "    </tr>\n",
       "    <tr>\n",
       "      <th>1</th>\n",
       "      <td>P08134</td>\n",
       "      <td>D59E</td>\n",
       "      <td>P52565-2</td>\n",
       "      <td>0.9263</td>\n",
       "      <td>0.915529</td>\n",
       "      <td>0.7222</td>\n",
       "      <td>0.708487</td>\n",
       "      <td>0.762694</td>\n",
       "      <td>0.999029</td>\n",
       "      <td>0.004062</td>\n",
       "      <td>...</td>\n",
       "      <td>344.0</td>\n",
       "      <td>62.3140</td>\n",
       "      <td>63.0691</td>\n",
       "      <td>32.5038</td>\n",
       "      <td>32.5038</td>\n",
       "      <td>598.710</td>\n",
       "      <td>417.740</td>\n",
       "      <td>1016.460</td>\n",
       "      <td>3.80414</td>\n",
       "      <td>3.80414</td>\n",
       "    </tr>\n",
       "    <tr>\n",
       "      <th>2</th>\n",
       "      <td>P62993</td>\n",
       "      <td>A3V</td>\n",
       "      <td>Q9H8V3-2</td>\n",
       "      <td>0.4444</td>\n",
       "      <td>0.463595</td>\n",
       "      <td>0.2792</td>\n",
       "      <td>0.262235</td>\n",
       "      <td>1.964490</td>\n",
       "      <td>-0.080548</td>\n",
       "      <td>0.456549</td>\n",
       "      <td>...</td>\n",
       "      <td>280.0</td>\n",
       "      <td>23.2774</td>\n",
       "      <td>24.5177</td>\n",
       "      <td>122.5120</td>\n",
       "      <td>122.5120</td>\n",
       "      <td>170.810</td>\n",
       "      <td>120.515</td>\n",
       "      <td>291.325</td>\n",
       "      <td>4.63364</td>\n",
       "      <td>4.63364</td>\n",
       "    </tr>\n",
       "  </tbody>\n",
       "</table>\n",
       "<p>3 rows × 61 columns</p>\n",
       "</div>"
      ],
      "text/plain": [
       "  UniProt_ID Mutation Interactor_UniProt_ID  Template_sequence_identity  \\\n",
       "0     P08134     D59E                P52565                      0.9263   \n",
       "1     P08134     D59E              P52565-2                      0.9263   \n",
       "2     P62993      A3V              Q9H8V3-2                      0.4444   \n",
       "\n",
       "   Alignment_score  Interactor_template_sequence_identity  \\\n",
       "0         0.915529                                 0.9394   \n",
       "1         0.915529                                 0.7222   \n",
       "2         0.463595                                 0.2792   \n",
       "\n",
       "   Interactor_alignment_score  Final_ddG  ProtBert_score  ProteinSolver_score  \\\n",
       "0                    0.914711   1.492640        0.999329             0.046801   \n",
       "1                    0.708487   0.762694        0.999029             0.004062   \n",
       "2                    0.262235   1.964490       -0.080548             0.456549   \n",
       "\n",
       "   ...  number_of_residues_mut  IntraclashesEnergy1_wt  \\\n",
       "0  ...                   388.0                 53.3423   \n",
       "1  ...                   344.0                 62.3140   \n",
       "2  ...                   280.0                 23.2774   \n",
       "\n",
       "   IntraclashesEnergy1_mut  IntraclashesEnergy2_wt  IntraclashesEnergy2_mut  \\\n",
       "0                  55.3148                 37.8150                  37.8150   \n",
       "1                  63.0691                 32.5038                  32.5038   \n",
       "2                  24.5177                122.5120                 122.5120   \n",
       "\n",
       "   Interface_hydrophobic_area  Interface_hydrophilic_area  \\\n",
       "0                     719.095                     461.785   \n",
       "1                     598.710                     417.740   \n",
       "2                     170.810                     120.515   \n",
       "\n",
       "   Interface_total_area  Interface_contact_distance_wt  \\\n",
       "0              1180.880                        3.18062   \n",
       "1              1016.460                        3.80414   \n",
       "2               291.325                        4.63364   \n",
       "\n",
       "   Interface_contact_distance_mut  \n",
       "0                         3.18062  \n",
       "1                         3.80414  \n",
       "2                         4.63364  \n",
       "\n",
       "[3 rows x 61 columns]"
      ]
     },
     "metadata": {},
     "output_type": "display_data"
    }
   ],
   "source": [
    "display_data(predator.data_materials[\"target_ov_data\"])"
   ]
  },
  {
   "cell_type": "markdown",
   "id": "76d7a628-93f0-4d78-a936-bed2a7316948",
   "metadata": {
    "tags": []
   },
   "source": [
    "### Voting mode: `hard`"
   ]
  },
  {
   "cell_type": "code",
   "execution_count": 6,
   "id": "0cae289c-0631-4d5c-8346-b0da97d970dd",
   "metadata": {
    "scrolled": true,
    "tags": []
   },
   "outputs": [
    {
     "name": "stdout",
     "output_type": "stream",
     "text": [
      "2021-10-25 12:13:58 |\u001b[36m DEBUG    \u001b[0m| Predator | Predicting on cancer datasets ..\n",
      "2021-10-25 12:13:58 |\u001b[36m DEBUG    \u001b[0m| helpers.helpers_predator.models | Initializing EnsambledVotingClassifier.\n",
      "2021-10-25 12:13:58 |\u001b[36m DEBUG    \u001b[0m| helpers.helpers_predator.models | Voting mode: hard\n",
      "2021-10-25 12:13:58 |\u001b[36m DEBUG    \u001b[0m| helpers.helpers_predator.predictions | Initializing: PredictionsHard\n",
      "2021-10-25 12:13:58 |\u001b[36m DEBUG    \u001b[0m| Predator | Predicting on ov cohort ..\n",
      "2021-10-25 12:13:58 |\u001b[36m DEBUG    \u001b[0m| helpers.helpers_predator.models | Current estimator: RandomForestClassifier(bootstrap=False, class_weight='balanced', max_depth=4,\n",
      "                       max_features='sqrt', n_estimators=600,\n",
      "                       random_state=14593)\n",
      "2021-10-25 12:13:58 |\u001b[36m DEBUG    \u001b[0m| helpers.helpers_predator.models | X shape: (5086, 10)\n",
      "2021-10-25 12:13:58 |\u001b[36m DEBUG    \u001b[0m| helpers.helpers_predator.models | Current estimator: RandomForestClassifier(bootstrap=False, max_depth=8, max_features=None,\n",
      "                       min_samples_leaf=2, n_estimators=480, random_state=3279)\n",
      "2021-10-25 12:13:58 |\u001b[36m DEBUG    \u001b[0m| helpers.helpers_predator.models | X shape: (5086, 10)\n",
      "2021-10-25 12:13:58 |\u001b[36m DEBUG    \u001b[0m| helpers.helpers_predator.models | Current estimator: RandomForestClassifier(class_weight='balanced', max_depth=11,\n",
      "                       min_samples_split=5, n_estimators=120,\n",
      "                       random_state=36049)\n",
      "2021-10-25 12:13:58 |\u001b[36m DEBUG    \u001b[0m| helpers.helpers_predator.models | X shape: (5086, 10)\n",
      "2021-10-25 12:13:58 |\u001b[36m DEBUG    \u001b[0m| helpers.helpers_predator.models | Current estimator: RandomForestClassifier(class_weight='balanced', max_depth=3,\n",
      "                       max_features='sqrt', min_samples_leaf=4, n_estimators=40,\n",
      "                       random_state=18290)\n",
      "2021-10-25 12:13:58 |\u001b[36m DEBUG    \u001b[0m| helpers.helpers_predator.models | X shape: (5086, 10)\n",
      "2021-10-25 12:13:58 |\u001b[36m DEBUG    \u001b[0m| helpers.helpers_predator.models | Current estimator: RandomForestClassifier(bootstrap=False, max_depth=11, max_features='sqrt',\n",
      "                       min_samples_split=5, n_estimators=460,\n",
      "                       random_state=96531)\n",
      "2021-10-25 12:13:58 |\u001b[36m DEBUG    \u001b[0m| helpers.helpers_predator.models | X shape: (5086, 10)\n",
      "2021-10-25 12:13:59 |\u001b[36m DEBUG    \u001b[0m| helpers.helpers_predator.models | Current estimator: RandomForestClassifier(class_weight='balanced', max_depth=12,\n",
      "                       min_samples_leaf=4, min_samples_split=5, n_estimators=80,\n",
      "                       random_state=13435)\n",
      "2021-10-25 12:13:59 |\u001b[36m DEBUG    \u001b[0m| helpers.helpers_predator.models | X shape: (5086, 10)\n",
      "2021-10-25 12:13:59 |\u001b[36m DEBUG    \u001b[0m| helpers.helpers_predator.models | Current estimator: RandomForestClassifier(class_weight='balanced', max_depth=2,\n",
      "                       min_samples_split=5, n_estimators=500,\n",
      "                       random_state=88697)\n",
      "2021-10-25 12:13:59 |\u001b[36m DEBUG    \u001b[0m| helpers.helpers_predator.models | X shape: (5086, 10)\n",
      "2021-10-25 12:13:59 |\u001b[36m DEBUG    \u001b[0m| helpers.helpers_predator.models | Current estimator: RandomForestClassifier(bootstrap=False, class_weight='balanced', max_depth=7,\n",
      "                       max_features='sqrt', min_samples_leaf=2,\n",
      "                       min_samples_split=5, n_estimators=280,\n",
      "                       random_state=97081)\n",
      "2021-10-25 12:13:59 |\u001b[36m DEBUG    \u001b[0m| helpers.helpers_predator.models | X shape: (5086, 10)\n",
      "2021-10-25 12:13:59 |\u001b[36m DEBUG    \u001b[0m| helpers.helpers_predator.models | Current estimator: RandomForestClassifier(bootstrap=False, max_depth=3, max_features='sqrt',\n",
      "                       min_samples_leaf=2, n_estimators=60, random_state=71483)\n",
      "2021-10-25 12:13:59 |\u001b[36m DEBUG    \u001b[0m| helpers.helpers_predator.models | X shape: (5086, 10)\n",
      "2021-10-25 12:13:59 |\u001b[36m DEBUG    \u001b[0m| helpers.helpers_predator.models | Current estimator: RandomForestClassifier(class_weight='balanced', max_depth=2,\n",
      "                       max_features='sqrt', min_samples_leaf=4,\n",
      "                       n_estimators=440, random_state=11396)\n",
      "2021-10-25 12:13:59 |\u001b[36m DEBUG    \u001b[0m| helpers.helpers_predator.models | X shape: (5086, 10)\n",
      "2021-10-25 12:13:59 |\u001b[36m DEBUG    \u001b[0m| helpers.helpers_predator.models | Current estimator: RandomForestClassifier(bootstrap=False, max_depth=6, min_samples_leaf=2,\n",
      "                       min_samples_split=5, n_estimators=80,\n",
      "                       random_state=77398)\n",
      "2021-10-25 12:13:59 |\u001b[36m DEBUG    \u001b[0m| helpers.helpers_predator.models | X shape: (5086, 10)\n",
      "2021-10-25 12:13:59 |\u001b[36m DEBUG    \u001b[0m| helpers.helpers_predator.models | Current estimator: RandomForestClassifier(max_depth=8, max_features='sqrt', min_samples_split=5,\n",
      "                       n_estimators=20, random_state=55303)\n",
      "2021-10-25 12:13:59 |\u001b[36m DEBUG    \u001b[0m| helpers.helpers_predator.models | X shape: (5086, 10)\n",
      "2021-10-25 12:13:59 |\u001b[36m DEBUG    \u001b[0m| helpers.helpers_predator.models | Current estimator: RandomForestClassifier(class_weight='balanced', max_depth=4,\n",
      "                       min_samples_split=5, random_state=4166)\n",
      "2021-10-25 12:13:59 |\u001b[36m DEBUG    \u001b[0m| helpers.helpers_predator.models | X shape: (5086, 10)\n",
      "2021-10-25 12:13:59 |\u001b[36m DEBUG    \u001b[0m| helpers.helpers_predator.models | Current estimator: RandomForestClassifier(bootstrap=False, max_depth=13, max_features='sqrt',\n",
      "                       min_samples_split=5, n_estimators=380,\n",
      "                       random_state=12281)\n",
      "2021-10-25 12:13:59 |\u001b[36m DEBUG    \u001b[0m| helpers.helpers_predator.models | X shape: (5086, 10)\n",
      "2021-10-25 12:14:00 |\u001b[36m DEBUG    \u001b[0m| helpers.helpers_predator.models | Current estimator: RandomForestClassifier(bootstrap=False, class_weight='balanced', max_depth=4,\n",
      "                       max_features='sqrt', n_estimators=10,\n",
      "                       random_state=28658)\n",
      "2021-10-25 12:14:00 |\u001b[36m DEBUG    \u001b[0m| helpers.helpers_predator.models | X shape: (5086, 10)\n",
      "2021-10-25 12:14:00 |\u001b[36m DEBUG    \u001b[0m| helpers.helpers_predator.models | Current estimator: RandomForestClassifier(class_weight='balanced', max_depth=3, min_samples_leaf=2,\n",
      "                       n_estimators=30, random_state=30496)\n",
      "2021-10-25 12:14:00 |\u001b[36m DEBUG    \u001b[0m| helpers.helpers_predator.models | X shape: (5086, 10)\n",
      "2021-10-25 12:14:00 |\u001b[36m DEBUG    \u001b[0m| helpers.helpers_predator.models | Current estimator: RandomForestClassifier(class_weight='balanced', max_depth=11,\n",
      "                       min_samples_leaf=4, n_estimators=120,\n",
      "                       random_state=66238)\n",
      "2021-10-25 12:14:00 |\u001b[36m DEBUG    \u001b[0m| helpers.helpers_predator.models | X shape: (5086, 10)\n",
      "2021-10-25 12:14:00 |\u001b[36m DEBUG    \u001b[0m| helpers.helpers_predator.models | Current estimator: RandomForestClassifier(class_weight='balanced', max_depth=2,\n",
      "                       max_features='sqrt', n_estimators=340,\n",
      "                       random_state=3479)\n",
      "2021-10-25 12:14:00 |\u001b[36m DEBUG    \u001b[0m| helpers.helpers_predator.models | X shape: (5086, 10)\n",
      "2021-10-25 12:14:00 |\u001b[36m DEBUG    \u001b[0m| helpers.helpers_predator.models | Current estimator: RandomForestClassifier(class_weight='balanced', max_depth=3,\n",
      "                       max_features='sqrt', min_samples_leaf=4,\n",
      "                       n_estimators=480, random_state=26063)\n",
      "2021-10-25 12:14:00 |\u001b[36m DEBUG    \u001b[0m| helpers.helpers_predator.models | X shape: (5086, 10)\n",
      "2021-10-25 12:14:00 |\u001b[36m DEBUG    \u001b[0m| helpers.helpers_predator.models | Current estimator: RandomForestClassifier(class_weight='balanced', max_depth=3, min_samples_leaf=2,\n",
      "                       n_estimators=560, random_state=85182)\n",
      "2021-10-25 12:14:00 |\u001b[36m DEBUG    \u001b[0m| helpers.helpers_predator.models | X shape: (5086, 10)\n",
      "2021-10-25 12:14:00 |\u001b[36m DEBUG    \u001b[0m| helpers.helpers_predator.models | Current estimator: RandomForestClassifier(class_weight='balanced', max_depth=13,\n",
      "                       min_samples_leaf=4, min_samples_split=5, n_estimators=40,\n",
      "                       random_state=91925)\n",
      "2021-10-25 12:14:00 |\u001b[36m DEBUG    \u001b[0m| helpers.helpers_predator.models | X shape: (5086, 10)\n",
      "2021-10-25 12:14:00 |\u001b[36m DEBUG    \u001b[0m| helpers.helpers_predator.models | Current estimator: RandomForestClassifier(class_weight='balanced', max_depth=2, min_samples_leaf=4,\n",
      "                       min_samples_split=5, n_estimators=280,\n",
      "                       random_state=54988)\n",
      "2021-10-25 12:14:00 |\u001b[36m DEBUG    \u001b[0m| helpers.helpers_predator.models | X shape: (5086, 10)\n",
      "2021-10-25 12:14:00 |\u001b[36m DEBUG    \u001b[0m| helpers.helpers_predator.models | Current estimator: RandomForestClassifier(class_weight='balanced', max_depth=11,\n",
      "                       max_features='sqrt', min_samples_leaf=2,\n",
      "                       min_samples_split=5, n_estimators=360,\n",
      "                       random_state=58879)\n",
      "2021-10-25 12:14:00 |\u001b[36m DEBUG    \u001b[0m| helpers.helpers_predator.models | X shape: (5086, 10)\n",
      "2021-10-25 12:14:01 |\u001b[36m DEBUG    \u001b[0m| helpers.helpers_predator.models | Current estimator: RandomForestClassifier(max_depth=7, n_estimators=20, random_state=77237)\n",
      "2021-10-25 12:14:01 |\u001b[36m DEBUG    \u001b[0m| helpers.helpers_predator.models | X shape: (5086, 10)\n",
      "2021-10-25 12:14:01 |\u001b[36m DEBUG    \u001b[0m| helpers.helpers_predator.models | Current estimator: RandomForestClassifier(bootstrap=False, max_depth=14, min_samples_leaf=4,\n",
      "                       min_samples_split=5, n_estimators=20, random_state=852)\n",
      "2021-10-25 12:14:01 |\u001b[36m DEBUG    \u001b[0m| helpers.helpers_predator.models | X shape: (5086, 10)\n",
      "2021-10-25 12:14:01 |\u001b[36m DEBUG    \u001b[0m| helpers.helpers_predator.models | Current estimator: RandomForestClassifier(class_weight='balanced', max_depth=8,\n",
      "                       max_features='sqrt', min_samples_leaf=4,\n",
      "                       min_samples_split=5, n_estimators=520,\n",
      "                       random_state=99459)\n",
      "2021-10-25 12:14:01 |\u001b[36m DEBUG    \u001b[0m| helpers.helpers_predator.models | X shape: (5086, 10)\n",
      "2021-10-25 12:14:01 |\u001b[36m DEBUG    \u001b[0m| helpers.helpers_predator.models | Current estimator: RandomForestClassifier(class_weight='balanced', max_depth=6, min_samples_leaf=4,\n",
      "                       min_samples_split=5, n_estimators=260,\n",
      "                       random_state=20927)\n",
      "2021-10-25 12:14:01 |\u001b[36m DEBUG    \u001b[0m| helpers.helpers_predator.models | X shape: (5086, 10)\n",
      "2021-10-25 12:14:01 |\u001b[36m DEBUG    \u001b[0m| helpers.helpers_predator.models | Current estimator: RandomForestClassifier(max_depth=9, min_samples_leaf=4, n_estimators=580,\n",
      "                       random_state=55393)\n",
      "2021-10-25 12:14:01 |\u001b[36m DEBUG    \u001b[0m| helpers.helpers_predator.models | X shape: (5086, 10)\n",
      "2021-10-25 12:14:01 |\u001b[36m DEBUG    \u001b[0m| helpers.helpers_predator.models | Current estimator: RandomForestClassifier(bootstrap=False, class_weight='balanced', max_depth=7,\n",
      "                       min_samples_split=5, n_estimators=140,\n",
      "                       random_state=36422)\n",
      "2021-10-25 12:14:01 |\u001b[36m DEBUG    \u001b[0m| helpers.helpers_predator.models | X shape: (5086, 10)\n",
      "2021-10-25 12:14:01 |\u001b[36m DEBUG    \u001b[0m| helpers.helpers_predator.models | Current estimator: RandomForestClassifier(bootstrap=False, max_depth=11, n_estimators=540,\n",
      "                       random_state=20380)\n",
      "2021-10-25 12:14:01 |\u001b[36m DEBUG    \u001b[0m| helpers.helpers_predator.models | X shape: (5086, 10)\n",
      "2021-10-25 12:14:02 |\u001b[36m DEBUG    \u001b[0m| helpers.helpers_predator.models | Current estimator: RandomForestClassifier(class_weight='balanced', max_depth=8, min_samples_leaf=2,\n",
      "                       n_estimators=5, random_state=28222)\n",
      "2021-10-25 12:14:02 |\u001b[36m DEBUG    \u001b[0m| helpers.helpers_predator.models | X shape: (5086, 10)\n",
      "2021-10-25 12:14:02 |\u001b[36m DEBUG    \u001b[0m| helpers.helpers_predator.models | Current estimator: RandomForestClassifier(class_weight='balanced', max_depth=6,\n",
      "                       min_samples_split=5, n_estimators=560,\n",
      "                       random_state=44119)\n",
      "2021-10-25 12:14:02 |\u001b[36m DEBUG    \u001b[0m| helpers.helpers_predator.models | X shape: (5086, 10)\n",
      "2021-10-25 12:14:02 |\u001b[36m DEBUG    \u001b[0m| helpers.helpers_predator.models | Current estimator: RandomForestClassifier(class_weight='balanced', max_depth=10,\n",
      "                       max_features='sqrt', min_samples_leaf=4,\n",
      "                       n_estimators=320, random_state=13397)\n",
      "2021-10-25 12:14:02 |\u001b[36m DEBUG    \u001b[0m| helpers.helpers_predator.models | X shape: (5086, 10)\n",
      "2021-10-25 12:14:02 |\u001b[36m DEBUG    \u001b[0m| helpers.helpers_predator.models | Current estimator: RandomForestClassifier(class_weight='balanced', max_depth=3,\n",
      "                       max_features='sqrt', min_samples_split=5,\n",
      "                       n_estimators=120, random_state=12157)\n",
      "2021-10-25 12:14:02 |\u001b[36m DEBUG    \u001b[0m| helpers.helpers_predator.models | X shape: (5086, 10)\n",
      "2021-10-25 12:14:02 |\u001b[36m DEBUG    \u001b[0m| helpers.helpers_predator.models | Current estimator: RandomForestClassifier(bootstrap=False, class_weight='balanced', max_depth=2,\n",
      "                       min_samples_split=5, n_estimators=360,\n",
      "                       random_state=49798)\n",
      "2021-10-25 12:14:02 |\u001b[36m DEBUG    \u001b[0m| helpers.helpers_predator.models | X shape: (5086, 10)\n",
      "2021-10-25 12:14:02 |\u001b[36m DEBUG    \u001b[0m| helpers.helpers_predator.models | Current estimator: RandomForestClassifier(bootstrap=False, class_weight='balanced', max_depth=2,\n",
      "                       min_samples_leaf=2, min_samples_split=5, n_estimators=40,\n",
      "                       random_state=12677)\n",
      "2021-10-25 12:14:02 |\u001b[36m DEBUG    \u001b[0m| helpers.helpers_predator.models | X shape: (5086, 10)\n",
      "2021-10-25 12:14:02 |\u001b[36m DEBUG    \u001b[0m| helpers.helpers_predator.models | Current estimator: RandomForestClassifier(bootstrap=False, class_weight='balanced', max_depth=5,\n",
      "                       min_samples_leaf=4, min_samples_split=5,\n",
      "                       n_estimators=120, random_state=47053)\n",
      "2021-10-25 12:14:02 |\u001b[36m DEBUG    \u001b[0m| helpers.helpers_predator.models | X shape: (5086, 10)\n",
      "2021-10-25 12:14:02 |\u001b[36m DEBUG    \u001b[0m| helpers.helpers_predator.predictions | PredictionsHard\n",
      "2021-10-25 12:14:02 |\u001b[36m DEBUG    \u001b[0m| helpers.helpers_predator.predictions | Predicting on ov cohort ..\n",
      "2021-10-25 12:14:02 |\u001b[36m DEBUG    \u001b[0m| helpers.helpers_predator.predictions | Adding key `ov` to self.predictions\n"
     ]
    }
   ],
   "source": [
    "predator.predict(voting='hard')"
   ]
  },
  {
   "cell_type": "code",
   "execution_count": 7,
   "id": "575746f0-47ad-4823-868a-c50d34abcd64",
   "metadata": {},
   "outputs": [
    {
     "data": {
      "text/plain": [
       "[array([0, 0, 0, ..., 0, 0, 0], dtype=int64),\n",
       " array([0, 0, 1, ..., 0, 1, 1], dtype=int64),\n",
       " array([0, 0, 0, ..., 0, 0, 0], dtype=int64)]"
      ]
     },
     "execution_count": 7,
     "metadata": {},
     "output_type": "execute_result"
    }
   ],
   "source": [
    "# Predictions for first 10 experiment.\n",
    "predator.predictions[\"ov\"][:3]"
   ]
  },
  {
   "cell_type": "code",
   "execution_count": 8,
   "id": "f8ebc4ec-288a-425d-9666-e76477da03e1",
   "metadata": {},
   "outputs": [
    {
     "name": "stdout",
     "output_type": "stream",
     "text": [
      "2021-10-25 12:14:07 |\u001b[36m DEBUG    \u001b[0m| helpers.helpers_predator.predictions | Initializing value counts ..\n"
     ]
    },
    {
     "data": {
      "image/png": "[encoded data removed]",
      "text/plain": [
       "<Figure size 1080x360 with 1 Axes>"
      ]
     },
     "metadata": {},
     "output_type": "display_data"
    }
   ],
   "source": [
    "predator.predictions.plot_predictions_distributions(\"ov\")"
   ]
  },
  {
   "cell_type": "markdown",
   "id": "c7e6a31c-112e-4326-9695-170f0d351686",
   "metadata": {},
   "source": [
    "#### Predictions Post Processing"
   ]
  },
  {
   "cell_type": "markdown",
   "id": "1154368b-92d9-4f38-bb7a-e8df24832d26",
   "metadata": {},
   "source": [
    "Post processing of predictions involves following steps:"
   ]
  },
  {
   "cell_type": "markdown",
   "id": "1087d5dd-55a0-4f50-9f28-6205d8fd7f86",
   "metadata": {},
   "source": [
    "##### 1. Merging Predictions with SNV Data"
   ]
  },
  {
   "cell_type": "markdown",
   "id": "897fbfad-2af1-47c4-91b2-278910ebe11a",
   "metadata": {},
   "source": [
    "The prediction column is merged with SNV data for each experiment.\n",
    "\n",
    "$\\text{For each experiment } n: $\n",
    "\n",
    "$$\n",
    "  \\textit{(Prediction Merged Data)}_n = \\underbrace{[\\textit{Predictions}_n]}_\\text{0, 1 or \"NoVote\"} + \n",
    "      \\underbrace{[\\textit{Protein }] [\\textit{Mutation }] [\\textit{Interactor }]}_\\text{Cancer Data Triplets} + \\underbrace{[\\textit{Features }] }_\\text{Elaspic}\n",
    "$$\n"
   ]
  },
  {
   "cell_type": "markdown",
   "id": "250b052e-bafa-4f57-92f0-907700feac18",
   "metadata": {
    "tags": []
   },
   "source": [
    "##### 2. Convert to 1-isomer: `Interactor_UniProt_ID`"
   ]
  },
  {
   "cell_type": "markdown",
   "id": "886a6ad1-d8ff-4e01-be6e-d4accc48af84",
   "metadata": {},
   "source": [
    "$\\textit{Interactor_UniProt_ID}$ column contains isomer proteins. Here, we convert them into primary isoform representation (i.e. without dashes)."
   ]
  },
  {
   "cell_type": "markdown",
   "id": "d6454a4c-7d65-4a6d-b13c-81109332a588",
   "metadata": {},
   "source": [
    "| Interactor_UniProt_ID |\n",
    "--------------\n",
    "| P38936     |\n",
    "| P16473     |\n",
    "| P16473-2   |\n",
    "| P19793     |"
   ]
  },
  {
   "cell_type": "markdown",
   "id": "6dbc27ff-9cf6-48f8-81a5-a189354632d7",
   "metadata": {},
   "source": [
    "##### 3. Dropping Invalid Predictions"
   ]
  },
  {
   "cell_type": "markdown",
   "id": "e8cd9d26-1d3d-4ca7-a861-66e39d64d39a",
   "metadata": {},
   "source": [
    "Entries which predicted as both `Decreasing` and `Increasing+NoEff` are dropped."
   ]
  },
  {
   "cell_type": "markdown",
   "id": "534ad651-bd88-4f53-9eeb-4c107596e129",
   "metadata": {},
   "source": [
    "Due to having different features for the same $\\textit{(protein, mutation, interactor)}$ triplet from ELASPIC, the triplet $\\textit{(protein, mutation, interactor)}$ may be classified both 0 and 1. We drop such instances."
   ]
  },
  {
   "cell_type": "code",
   "execution_count": 9,
   "id": "23602ccf-41ff-4dc7-afec-39b9959b4588",
   "metadata": {
    "scrolled": true,
    "tags": []
   },
   "outputs": [
    {
     "name": "stdout",
     "output_type": "stream",
     "text": [
      "2021-10-25 12:14:14 |\u001b[36m DEBUG    \u001b[0m| helpers.helpers_predator.predictions | PredictionsHard\n",
      "2021-10-25 12:14:14 |\u001b[36m DEBUG    \u001b[0m| helpers.helpers_predator.predictions | Post processing predictions for cohort ov ..\n",
      "2021-10-25 12:14:14 |\u001b[36m DEBUG    \u001b[0m| helpers.helpers_predator.predictions | Merging predictions with ov cancer dataset ..\n",
      "2021-10-25 12:14:14 |\u001b[36m DEBUG    \u001b[0m| helpers.helpers_predator.predictions | Handling valid and invalid entries ..\n"
     ]
    },
    {
     "data": {
      "application/vnd.jupyter.widget-view+json": {
       "model_id": "02738d30742149bb8635642238a9c382",
       "version_major": 2,
       "version_minor": 0
      },
      "text/plain": [
       "  0%|          | 0/37 [00:00<?, ?it/s]"
      ]
     },
     "metadata": {},
     "output_type": "display_data"
    },
    {
     "name": "stdout",
     "output_type": "stream",
     "text": [
      "2021-10-25 12:14:25 |\u001b[36m DEBUG    \u001b[0m| helpers.helpers_predator.predictions_utils | Removed entries first five rows (of 655): \n",
      "   PREDICTION PROTEIN MUTATION INTERACTOR\n",
      "0           1  P00742    I451M     P10646\n",
      "1           0  P00742    I451M     P10646\n",
      "2           0  P00742    I451M     P10646\n",
      "3           1  P00742    I451M     P10646\n",
      "4           1  P00742    I451M     P10646\n",
      "2021-10-25 12:14:36 |\u001b[36m DEBUG    \u001b[0m| helpers.helpers_predator.predictions_utils | Removed entries first five rows (of 611): \n",
      "   PREDICTION PROTEIN MUTATION INTERACTOR\n",
      "0           0  Q14814     K31T     Q02078\n",
      "1           1  Q14814     K31T     Q02078\n",
      "2           0  Q14814     K31T     Q02078\n",
      "3           1  Q14814     K31T     Q02078\n",
      "4           0  Q14814     K31T     Q02078\n",
      "2021-10-25 12:14:47 |\u001b[36m DEBUG    \u001b[0m| helpers.helpers_predator.predictions_utils | Removed entries first five rows (of 582): \n",
      "   PREDICTION PROTEIN MUTATION INTERACTOR\n",
      "0           0  Q9NQ66    E539K     Q15147\n",
      "1           1  Q9NQ66    E539K     Q15147\n",
      "2           1  Q9NQ66    E539K     Q15147\n",
      "3           1  Q9Y6Q5    R251C     Q9BXS5\n",
      "4           0  Q9Y6Q5    R251C     Q9BXS5\n",
      "2021-10-25 12:14:59 |\u001b[36m DEBUG    \u001b[0m| helpers.helpers_predator.predictions_utils | Removed entries first five rows (of 474): \n",
      "   PREDICTION PROTEIN MUTATION INTERACTOR\n",
      "0           1  P07332    N695H     P08581\n",
      "1           0  P07332    N695H     P08581\n",
      "2           1  Q14814     K31T     Q02078\n",
      "3           0  Q14814     K31T     Q06413\n",
      "4           0  Q14814     K31T     Q06413\n",
      "2021-10-25 12:15:10 |\u001b[36m DEBUG    \u001b[0m| helpers.helpers_predator.predictions_utils | Removed entries first five rows (of 695): \n",
      "   PREDICTION PROTEIN MUTATION INTERACTOR\n",
      "0           1  P07332    N695H     P08581\n",
      "1           0  P07332    N695H     P08581\n",
      "2           0  Q9NQ66    E539K     Q15147\n",
      "3           1  Q9NQ66    E539K     Q15147\n",
      "4           1  Q9NQ66    E539K     Q15147\n",
      "2021-10-25 12:15:21 |\u001b[36m DEBUG    \u001b[0m| helpers.helpers_predator.predictions_utils | Removed entries first five rows (of 467): \n",
      "   PREDICTION PROTEIN MUTATION INTERACTOR\n",
      "0           0  P62805     N65D     Q9UER7\n",
      "1           1  P62805     N65D     Q9UER7\n",
      "2           0  P62805     N65D     Q9UER7\n",
      "3           0  P04637    H179Y     Q9H9B1\n",
      "4           1  P04637    H179Y     Q9H9B1\n",
      "2021-10-25 12:15:32 |\u001b[36m DEBUG    \u001b[0m| helpers.helpers_predator.predictions_utils | Removed entries first five rows (of 482): \n",
      "   PREDICTION PROTEIN MUTATION INTERACTOR\n",
      "0           0  O75175    Q684H     Q9NZN8\n",
      "1           0  O75175    Q684H     Q9NZN8\n",
      "2           0  O75175    Q684H     Q9NZN8\n",
      "3           1  O75175    Q684H     Q9NZN8\n",
      "4           0  O75175    Q684H     Q9NZN8\n",
      "2021-10-25 12:15:44 |\u001b[36m DEBUG    \u001b[0m| helpers.helpers_predator.predictions_utils | Removed entries first five rows (of 732): \n",
      "   PREDICTION PROTEIN MUTATION INTERACTOR\n",
      "0           1  P07332    N695H     P08581\n",
      "1           0  P07332    N695H     P08581\n",
      "2           1  Q14814     K31T     Q02078\n",
      "3           0  Q14814     K31T     Q06413\n",
      "4           0  Q14814     K31T     Q06413\n",
      "2021-10-25 12:15:56 |\u001b[36m DEBUG    \u001b[0m| helpers.helpers_predator.predictions_utils | Removed entries first five rows (of 445): \n",
      "   PREDICTION PROTEIN MUTATION INTERACTOR\n",
      "0           0  Q9NQ66    E539K     Q15147\n",
      "1           1  Q9NQ66    E539K     Q15147\n",
      "2           1  Q9NQ66    E539K     Q15147\n",
      "3           1  P35609     P85H     Q13557\n",
      "4           1  P35609     P85H     Q13557\n",
      "2021-10-25 12:16:07 |\u001b[36m DEBUG    \u001b[0m| helpers.helpers_predator.predictions_utils | Removed entries first five rows (of 707): \n",
      "   PREDICTION PROTEIN MUTATION INTERACTOR\n",
      "0           0  Q14814     K31T     Q02078\n",
      "1           0  Q14814     K31T     Q06413\n",
      "2           0  Q14814     K31T     Q06413\n",
      "3           0  Q14814     K31T     Q06413\n",
      "4           0  Q14814     K31T     Q06413\n",
      "2021-10-25 12:16:20 |\u001b[36m DEBUG    \u001b[0m| helpers.helpers_predator.predictions_utils | Removed entries first five rows (of 571): \n",
      "   PREDICTION PROTEIN MUTATION INTERACTOR\n",
      "0           1  Q9Y6Q5    R251C     Q9BXS5\n",
      "1           0  Q9Y6Q5    R251C     Q9BXS5\n",
      "2           0  Q14814     K31T     Q02078\n",
      "3           1  Q14814     K31T     Q02078\n",
      "4           0  Q14814     K31T     Q02078\n",
      "2021-10-25 12:16:31 |\u001b[36m DEBUG    \u001b[0m| helpers.helpers_predator.predictions_utils | Removed entries first five rows (of 504): \n",
      "   PREDICTION PROTEIN MUTATION INTERACTOR\n",
      "0           1  P00742    I451M     P10646\n",
      "1           0  P00742    I451M     P10646\n",
      "2           0  P00742    I451M     P10646\n",
      "3           1  P00742    I451M     P10646\n",
      "4           1  P00742    I451M     P10646\n",
      "2021-10-25 12:16:43 |\u001b[36m DEBUG    \u001b[0m| helpers.helpers_predator.predictions_utils | Removed entries first five rows (of 430): \n",
      "   PREDICTION PROTEIN MUTATION INTERACTOR\n",
      "0           0  Q14814     K31T     Q02078\n",
      "1           0  Q14814     K31T     Q06413\n",
      "2           0  Q14814     K31T     Q06413\n",
      "3           0  Q14814     K31T     Q06413\n",
      "4           0  Q14814     K31T     Q06413\n",
      "2021-10-25 12:16:53 |\u001b[36m DEBUG    \u001b[0m| helpers.helpers_predator.predictions_utils | Removed entries first five rows (of 558): \n",
      "   PREDICTION PROTEIN MUTATION INTERACTOR\n",
      "0           0  Q14814     K31T     Q02078\n",
      "1           0  Q14814     K31T     Q06413\n",
      "2           0  Q14814     K31T     Q06413\n",
      "3           0  Q14814     K31T     Q06413\n",
      "4           0  Q14814     K31T     Q06413\n",
      "2021-10-25 12:17:04 |\u001b[36m DEBUG    \u001b[0m| helpers.helpers_predator.predictions_utils | Removed entries first five rows (of 851): \n",
      "   PREDICTION PROTEIN MUTATION INTERACTOR\n",
      "0           0  O75175    Q684H     Q9NZN8\n",
      "1           1  O75175    Q684H     Q9NZN8\n",
      "2           1  O75175    Q684H     Q9NZN8\n",
      "3           1  O75175    Q684H     Q9NZN8\n",
      "4           1  O75175    Q684H     Q9NZN8\n",
      "2021-10-25 12:17:15 |\u001b[36m DEBUG    \u001b[0m| helpers.helpers_predator.predictions_utils | Removed entries first five rows (of 377): \n",
      "   PREDICTION PROTEIN MUTATION INTERACTOR\n",
      "0           0  Q14814     K31T     Q02078\n",
      "1           1  Q14814     K31T     Q02078\n",
      "2           0  Q14814     K31T     Q02078\n",
      "3           1  Q14814     K31T     Q02078\n",
      "4           0  Q14814     K31T     Q02078\n",
      "2021-10-25 12:17:25 |\u001b[36m DEBUG    \u001b[0m| helpers.helpers_predator.predictions_utils | Removed entries first five rows (of 488): \n",
      "   PREDICTION PROTEIN MUTATION INTERACTOR\n",
      "0           1  P07332    N695H     P08581\n",
      "1           0  P07332    N695H     P08581\n",
      "2           0  Q14814     K31T     Q06413\n",
      "3           0  Q14814     K31T     Q06413\n",
      "4           0  Q14814     K31T     Q06413\n",
      "2021-10-25 12:17:36 |\u001b[36m DEBUG    \u001b[0m| helpers.helpers_predator.predictions_utils | Removed entries first five rows (of 440): \n",
      "   PREDICTION PROTEIN MUTATION INTERACTOR\n",
      "0           1  P07332    N695H     P08581\n",
      "1           0  P07332    N695H     P08581\n",
      "2           0  Q14814     K31T     Q02078\n",
      "3           0  Q14814     K31T     Q06413\n",
      "4           0  Q14814     K31T     Q06413\n",
      "2021-10-25 12:17:47 |\u001b[36m DEBUG    \u001b[0m| helpers.helpers_predator.predictions_utils | Removed entries first five rows (of 475): \n",
      "   PREDICTION PROTEIN MUTATION INTERACTOR\n",
      "0           1  P07332    N695H     P08581\n",
      "1           0  P07332    N695H     P08581\n",
      "2           0  Q14814     K31T     Q02078\n",
      "3           0  Q14814     K31T     Q02078\n",
      "4           0  Q14814     K31T     Q02078\n",
      "2021-10-25 12:17:57 |\u001b[36m DEBUG    \u001b[0m| helpers.helpers_predator.predictions_utils | Removed entries first five rows (of 644): \n",
      "   PREDICTION PROTEIN MUTATION INTERACTOR\n",
      "0           0  O75175    Q684H     Q9NZN8\n",
      "1           1  O75175    Q684H     Q9NZN8\n",
      "2           0  O75175    Q684H     Q9NZN8\n",
      "3           1  O75175    Q684H     Q9NZN8\n",
      "4           1  O75175    Q684H     Q9NZN8\n",
      "2021-10-25 12:18:08 |\u001b[36m DEBUG    \u001b[0m| helpers.helpers_predator.predictions_utils | Removed entries first five rows (of 531): \n",
      "   PREDICTION PROTEIN MUTATION INTERACTOR\n",
      "0           1  P07332    N695H     P08581\n",
      "1           0  P07332    N695H     P08581\n",
      "2           1  Q9NQ66    E539K     Q15147\n",
      "3           0  Q9NQ66    E539K     Q15147\n",
      "4           0  Q9NQ66    E539K     Q15147\n",
      "2021-10-25 12:18:18 |\u001b[36m DEBUG    \u001b[0m| helpers.helpers_predator.predictions_utils | Removed entries first five rows (of 362): \n",
      "   PREDICTION PROTEIN MUTATION INTERACTOR\n",
      "0           0  P08134     D59E     P52565\n",
      "1           1  P08134     D59E     P52565\n",
      "2           0  O75175    Q684H     Q9NZN8\n",
      "3           0  O75175    Q684H     Q9NZN8\n",
      "4           0  O75175    Q684H     Q9NZN8\n",
      "2021-10-25 12:18:29 |\u001b[36m DEBUG    \u001b[0m| helpers.helpers_predator.predictions_utils | Removed entries first five rows (of 479): \n",
      "   PREDICTION PROTEIN MUTATION INTERACTOR\n",
      "0           0  P34897    F501V     P34896\n",
      "1           1  P34897    F501V     P34896\n",
      "2           0  P04637    R248Q     P62993\n",
      "3           0  P04637    R248Q     P62993\n",
      "4           0  P04637    R248Q     P62993\n",
      "2021-10-25 12:18:40 |\u001b[36m DEBUG    \u001b[0m| helpers.helpers_predator.predictions_utils | Removed entries first five rows (of 685): \n",
      "   PREDICTION PROTEIN MUTATION INTERACTOR\n",
      "0           1  P00742    I451M     P10646\n",
      "1           0  P00742    I451M     P10646\n",
      "2           0  P00742    I451M     P10646\n",
      "3           1  P00742    I451M     P10646\n",
      "4           1  P00742    I451M     P10646\n",
      "2021-10-25 12:18:50 |\u001b[36m DEBUG    \u001b[0m| helpers.helpers_predator.predictions_utils | Removed entries first five rows (of 601): \n",
      "   PREDICTION PROTEIN MUTATION INTERACTOR\n",
      "0           1  Q14814     K31T     Q02078\n",
      "1           1  Q14814     K31T     Q02078\n",
      "2           0  Q14814     K31T     Q02078\n",
      "3           1  Q14814     K31T     Q02078\n",
      "4           0  Q14814     K31T     Q02078\n",
      "2021-10-25 12:19:01 |\u001b[36m DEBUG    \u001b[0m| helpers.helpers_predator.predictions_utils | Removed entries first five rows (of 497): \n",
      "   PREDICTION PROTEIN MUTATION INTERACTOR\n",
      "0           1  P07332    N695H     P08581\n",
      "1           0  P07332    N695H     P08581\n",
      "2           0  Q14814     K31T     Q02078\n",
      "3           0  Q14814     K31T     Q06413\n",
      "4           0  Q14814     K31T     Q06413\n",
      "2021-10-25 12:19:11 |\u001b[36m DEBUG    \u001b[0m| helpers.helpers_predator.predictions_utils | Removed entries first five rows (of 597): \n",
      "   PREDICTION PROTEIN MUTATION INTERACTOR\n",
      "0           1  P07332    N695H     P08581\n",
      "1           0  P07332    N695H     P08581\n",
      "2           1  Q9Y6Q5    R251C     Q9BXS5\n",
      "3           0  Q9Y6Q5    R251C     Q9BXS5\n",
      "4           1  Q14814     K31T     Q02078\n",
      "2021-10-25 12:19:22 |\u001b[36m DEBUG    \u001b[0m| helpers.helpers_predator.predictions_utils | Removed entries first five rows (of 403): \n",
      "   PREDICTION PROTEIN MUTATION INTERACTOR\n",
      "0           1  P00742    I451M     P10646\n",
      "1           1  P00742    I451M     P10646\n",
      "2           1  P00742    I451M     P10646\n",
      "3           0  P00742    I451M     P10646\n",
      "4           0  P00742    I451M     P10646\n",
      "2021-10-25 12:19:33 |\u001b[36m DEBUG    \u001b[0m| helpers.helpers_predator.predictions_utils | Removed entries first five rows (of 444): \n",
      "   PREDICTION PROTEIN MUTATION INTERACTOR\n",
      "0           0  Q9NQ66    E539K     Q15147\n",
      "1           1  Q9NQ66    E539K     Q15147\n",
      "2           1  Q9NQ66    E539K     Q15147\n",
      "3           0  Q14814     K31T     Q02078\n",
      "4           1  Q14814     K31T     Q02078\n",
      "2021-10-25 12:19:43 |\u001b[36m DEBUG    \u001b[0m| helpers.helpers_predator.predictions_utils | Removed entries first five rows (of 491): \n",
      "   PREDICTION PROTEIN MUTATION INTERACTOR\n",
      "0           0  O75175    Q684H     Q9NZN8\n",
      "1           1  O75175    Q684H     Q9NZN8\n",
      "2           0  O75175    Q684H     Q9NZN8\n",
      "3           0  O75175    Q684H     Q9NZN8\n",
      "4           1  O75175    Q684H     Q9NZN8\n",
      "2021-10-25 12:19:54 |\u001b[36m DEBUG    \u001b[0m| helpers.helpers_predator.predictions_utils | Removed entries first five rows (of 733): \n",
      "   PREDICTION PROTEIN MUTATION INTERACTOR\n",
      "0           1  Q14814     K31T     Q02078\n",
      "1           1  Q14814     K31T     Q02078\n",
      "2           0  Q14814     K31T     Q02078\n",
      "3           1  Q14814     K31T     Q02078\n",
      "4           0  Q14814     K31T     Q02078\n",
      "2021-10-25 12:20:05 |\u001b[36m DEBUG    \u001b[0m| helpers.helpers_predator.predictions_utils | Removed entries first five rows (of 546): \n",
      "   PREDICTION PROTEIN MUTATION INTERACTOR\n",
      "0           0  Q9NQ66    E539K     Q15147\n",
      "1           1  Q9NQ66    E539K     Q15147\n",
      "2           1  Q9NQ66    E539K     Q15147\n",
      "3           1  Q9Y6Q5    R251C     Q9BXS5\n",
      "4           0  Q9Y6Q5    R251C     Q9BXS5\n",
      "2021-10-25 12:20:16 |\u001b[36m DEBUG    \u001b[0m| helpers.helpers_predator.predictions_utils | Removed entries first five rows (of 553): \n",
      "   PREDICTION PROTEIN MUTATION INTERACTOR\n",
      "0           1  P07332    N695H     P08581\n",
      "1           0  P07332    N695H     P08581\n",
      "2           0  Q14814     K31T     Q02078\n",
      "3           0  Q14814     K31T     Q06413\n",
      "4           0  Q14814     K31T     Q06413\n",
      "2021-10-25 12:20:26 |\u001b[36m DEBUG    \u001b[0m| helpers.helpers_predator.predictions_utils | Removed entries first five rows (of 518): \n",
      "   PREDICTION PROTEIN MUTATION INTERACTOR\n",
      "0           0  Q14814     K31T     Q02078\n",
      "1           0  Q14814     K31T     Q06413\n",
      "2           0  Q14814     K31T     Q06413\n",
      "3           0  Q14814     K31T     Q06413\n",
      "4           0  Q14814     K31T     Q06413\n",
      "2021-10-25 12:20:37 |\u001b[36m DEBUG    \u001b[0m| helpers.helpers_predator.predictions_utils | Removed entries first five rows (of 303): \n",
      "   PREDICTION PROTEIN MUTATION INTERACTOR\n",
      "0           0  O75175    Q684H     Q9NZN8\n",
      "1           1  O75175    Q684H     Q9NZN8\n",
      "2           1  O75175    Q684H     Q9NZN8\n",
      "3           1  O75175    Q684H     Q9NZN8\n",
      "4           1  O75175    Q684H     Q9NZN8\n",
      "2021-10-25 12:20:47 |\u001b[36m DEBUG    \u001b[0m| helpers.helpers_predator.predictions_utils | Removed entries first five rows (of 545): \n",
      "   PREDICTION PROTEIN MUTATION INTERACTOR\n",
      "0           1  Q9Y6Q5    R251C     Q9BXS5\n",
      "1           0  Q9Y6Q5    R251C     Q9BXS5\n",
      "2           0  Q14814     K31T     Q02078\n",
      "3           0  Q14814     K31T     Q06413\n",
      "4           0  Q14814     K31T     Q06413\n",
      "2021-10-25 12:20:59 |\u001b[36m DEBUG    \u001b[0m| helpers.helpers_predator.predictions_utils | Removed entries first five rows (of 547): \n",
      "   PREDICTION PROTEIN MUTATION INTERACTOR\n",
      "0           1  P07332    N695H     P08581\n",
      "1           0  P07332    N695H     P08581\n",
      "2           0  Q9NQ66    E539K     Q15147\n",
      "3           1  Q9NQ66    E539K     Q15147\n",
      "4           1  Q9NQ66    E539K     Q15147\n",
      "2021-10-25 12:20:59 |\u001b[36m DEBUG    \u001b[0m| helpers.helpers_predator.predictions | Preparing finalized prediction datasets for ov ..\n",
      "2021-10-25 12:20:59 |\u001b[36m DEBUG    \u001b[0m| helpers.helpers_predator.predictions | Post processing completed for ov.\n"
     ]
    }
   ],
   "source": [
    "predator.predictions_post_process()"
   ]
  },
  {
   "cell_type": "code",
   "execution_count": 10,
   "id": "9b199266-30fa-4d19-aea7-e646f074241b",
   "metadata": {},
   "outputs": [
    {
     "name": "stdout",
     "output_type": "stream",
     "text": [
      "\u001b[36mData dimensions: (5086, 104)\u001b[0m\n"
     ]
    },
    {
     "data": {
      "text/html": [
       "<div>\n",
       "<style scoped>\n",
       "    .dataframe tbody tr th:only-of-type {\n",
       "        vertical-align: middle;\n",
       "    }\n",
       "\n",
       "    .dataframe tbody tr th {\n",
       "        vertical-align: top;\n",
       "    }\n",
       "\n",
       "    .dataframe thead th {\n",
       "        text-align: right;\n",
       "    }\n",
       "</style>\n",
       "<table border=\"1\" class=\"dataframe\">\n",
       "  <thead>\n",
       "    <tr style=\"text-align: right;\">\n",
       "      <th></th>\n",
       "      <th>Prediction</th>\n",
       "      <th>Input_identifier</th>\n",
       "      <th>UniProt_ID</th>\n",
       "      <th>Mutation</th>\n",
       "      <th>Status</th>\n",
       "      <th>Type</th>\n",
       "      <th>COSMIC_mut_ID</th>\n",
       "      <th>ClinVar_mut_ID</th>\n",
       "      <th>UniProt_mut_ID</th>\n",
       "      <th>Domain_name</th>\n",
       "      <th>...</th>\n",
       "      <th>number_of_residues_mut</th>\n",
       "      <th>IntraclashesEnergy1_wt</th>\n",
       "      <th>IntraclashesEnergy1_mut</th>\n",
       "      <th>IntraclashesEnergy2_wt</th>\n",
       "      <th>IntraclashesEnergy2_mut</th>\n",
       "      <th>Interface_hydrophobic_area</th>\n",
       "      <th>Interface_hydrophilic_area</th>\n",
       "      <th>Interface_total_area</th>\n",
       "      <th>Interface_contact_distance_wt</th>\n",
       "      <th>Interface_contact_distance_mut</th>\n",
       "    </tr>\n",
       "  </thead>\n",
       "  <tbody>\n",
       "    <tr>\n",
       "      <th>0</th>\n",
       "      <td>0</td>\n",
       "      <td>P08134</td>\n",
       "      <td>P08134</td>\n",
       "      <td>D59E</td>\n",
       "      <td>done</td>\n",
       "      <td>interface</td>\n",
       "      <td>COSM72427</td>\n",
       "      <td>-</td>\n",
       "      <td>-</td>\n",
       "      <td>Ras</td>\n",
       "      <td>...</td>\n",
       "      <td>388.0</td>\n",
       "      <td>53.3423</td>\n",
       "      <td>55.3148</td>\n",
       "      <td>37.8150</td>\n",
       "      <td>37.8150</td>\n",
       "      <td>719.095</td>\n",
       "      <td>461.785</td>\n",
       "      <td>1180.88</td>\n",
       "      <td>3.18062</td>\n",
       "      <td>3.18062</td>\n",
       "    </tr>\n",
       "    <tr>\n",
       "      <th>1</th>\n",
       "      <td>0</td>\n",
       "      <td>P08134</td>\n",
       "      <td>P08134</td>\n",
       "      <td>D59E</td>\n",
       "      <td>done</td>\n",
       "      <td>interface</td>\n",
       "      <td>COSM72427</td>\n",
       "      <td>-</td>\n",
       "      <td>-</td>\n",
       "      <td>Ras</td>\n",
       "      <td>...</td>\n",
       "      <td>344.0</td>\n",
       "      <td>62.3140</td>\n",
       "      <td>63.0691</td>\n",
       "      <td>32.5038</td>\n",
       "      <td>32.5038</td>\n",
       "      <td>598.71</td>\n",
       "      <td>417.74</td>\n",
       "      <td>1016.46</td>\n",
       "      <td>3.80414</td>\n",
       "      <td>3.80414</td>\n",
       "    </tr>\n",
       "    <tr>\n",
       "      <th>2</th>\n",
       "      <td>0</td>\n",
       "      <td>P62993</td>\n",
       "      <td>P62993</td>\n",
       "      <td>A3V</td>\n",
       "      <td>done</td>\n",
       "      <td>interface</td>\n",
       "      <td>-</td>\n",
       "      <td>-</td>\n",
       "      <td>-</td>\n",
       "      <td>SH3_1</td>\n",
       "      <td>...</td>\n",
       "      <td>280.0</td>\n",
       "      <td>23.2774</td>\n",
       "      <td>24.5177</td>\n",
       "      <td>122.5120</td>\n",
       "      <td>122.5120</td>\n",
       "      <td>170.81</td>\n",
       "      <td>120.515</td>\n",
       "      <td>291.325</td>\n",
       "      <td>4.63364</td>\n",
       "      <td>4.63364</td>\n",
       "    </tr>\n",
       "  </tbody>\n",
       "</table>\n",
       "<p>3 rows × 104 columns</p>\n",
       "</div>"
      ],
      "text/plain": [
       "   Prediction Input_identifier UniProt_ID Mutation Status       Type  \\\n",
       "0           0           P08134     P08134     D59E   done  interface   \n",
       "1           0           P08134     P08134     D59E   done  interface   \n",
       "2           0           P62993     P62993      A3V   done  interface   \n",
       "\n",
       "  COSMIC_mut_ID ClinVar_mut_ID UniProt_mut_ID Domain_name  ...  \\\n",
       "0     COSM72427              -              -         Ras  ...   \n",
       "1     COSM72427              -              -         Ras  ...   \n",
       "2             -              -              -       SH3_1  ...   \n",
       "\n",
       "  number_of_residues_mut IntraclashesEnergy1_wt IntraclashesEnergy1_mut  \\\n",
       "0                  388.0                53.3423                 55.3148   \n",
       "1                  344.0                62.3140                 63.0691   \n",
       "2                  280.0                23.2774                 24.5177   \n",
       "\n",
       "   IntraclashesEnergy2_wt  IntraclashesEnergy2_mut Interface_hydrophobic_area  \\\n",
       "0                 37.8150                  37.8150                    719.095   \n",
       "1                 32.5038                  32.5038                     598.71   \n",
       "2                122.5120                 122.5120                     170.81   \n",
       "\n",
       "  Interface_hydrophilic_area Interface_total_area  \\\n",
       "0                    461.785              1180.88   \n",
       "1                     417.74              1016.46   \n",
       "2                    120.515              291.325   \n",
       "\n",
       "  Interface_contact_distance_wt Interface_contact_distance_mut  \n",
       "0                       3.18062                        3.18062  \n",
       "1                       3.80414                        3.80414  \n",
       "2                       4.63364                        4.63364  \n",
       "\n",
       "[3 rows x 104 columns]"
      ]
     },
     "metadata": {},
     "output_type": "display_data"
    }
   ],
   "source": [
    "display_data(predator.predictions[\"ov_predicted_datasets\"][0])"
   ]
  },
  {
   "cell_type": "code",
   "execution_count": 11,
   "id": "c98a4d19-2d34-4529-9102-227fc8a87d9a",
   "metadata": {},
   "outputs": [
    {
     "data": {
      "image/png": "[encoded data removed]",
      "text/plain": [
       "<Figure size 1080x360 with 1 Axes>"
      ]
     },
     "metadata": {},
     "output_type": "display_data"
    }
   ],
   "source": [
    "predator.predictions.plot_distribution_valid_vs_invalid(\"ov\")"
   ]
  },
  {
   "cell_type": "code",
   "execution_count": 12,
   "id": "47b7e1d1-fa11-42ff-b369-8e41fd6d0971",
   "metadata": {},
   "outputs": [
    {
     "name": "stdout",
     "output_type": "stream",
     "text": [
      "2021-10-25 12:21:00 |\u001b[36m DEBUG    \u001b[0m| helpers.helpers_predator.predictions | Plotting number of finalized predictions per model.\n",
      "Note that following plot shows the number of (protein, mutation, interactor) triplets which had valid prediction.\n"
     ]
    },
    {
     "data": {
      "image/png": "[encoded data removed]",
      "text/plain": [
       "<Figure size 1080x360 with 1 Axes>"
      ]
     },
     "metadata": {},
     "output_type": "display_data"
    }
   ],
   "source": [
    "predator.predictions.plot_num_finalized_predictions(\"ov\")"
   ]
  },
  {
   "cell_type": "code",
   "execution_count": 13,
   "id": "c81b9a04-65a3-43ec-bd76-49a252f6445d",
   "metadata": {
    "scrolled": true,
    "tags": []
   },
   "outputs": [
    {
     "name": "stdout",
     "output_type": "stream",
     "text": [
      "2021-10-25 12:21:01 |\u001b[36m DEBUG    \u001b[0m| helpers.helpers_predator.predictions | PredictionsHard\n",
      "2021-10-25 12:21:01 |\u001b[36m DEBUG    \u001b[0m| helpers.helpers_predator.predictions | Preparing ensemble prediction data for ov ..\n"
     ]
    },
    {
     "data": {
      "application/vnd.jupyter.widget-view+json": {
       "model_id": "073ff89a649c49eea5e4b2ee405a45b9",
       "version_major": 2,
       "version_minor": 0
      },
      "text/plain": [
       "  0%|          | 0/2578 [00:00<?, ?it/s]"
      ]
     },
     "metadata": {},
     "output_type": "display_data"
    },
    {
     "name": "stdout",
     "output_type": "stream",
     "text": [
      "2021-10-25 12:23:21 |\u001b[36m DEBUG    \u001b[0m| helpers.helpers_predator.predictions | Ensemble prediction data for ov is prepared.\n",
      "2021-10-25 12:23:21 |\u001b[36m DEBUG    \u001b[0m| helpers.helpers_predator.predictions | Resulting prediction data is available for ov.\n",
      "Accessible from predictions.['ov_prediction_results']\n",
      "2021-10-25 12:23:21 |\u001b[36m DEBUG    \u001b[0m| helpers.helpers_predator.predictions | Resulting prediction data (no_votes dropped) is available for ov.\n",
      "Accessible from predictions.['ov_prediction_results_no_votes_dropped']\n"
     ]
    }
   ],
   "source": [
    "predator.prepare_ensemble_prediction_data()"
   ]
  },
  {
   "cell_type": "code",
   "execution_count": 14,
   "id": "4f9eae38-ddf4-4856-9977-4c27c8a788da",
   "metadata": {},
   "outputs": [
    {
     "name": "stdout",
     "output_type": "stream",
     "text": [
      "\u001b[36mData dimensions: (2578, 7)\u001b[0m\n"
     ]
    },
    {
     "data": {
      "text/html": [
       "<div>\n",
       "<style scoped>\n",
       "    .dataframe tbody tr th:only-of-type {\n",
       "        vertical-align: middle;\n",
       "    }\n",
       "\n",
       "    .dataframe tbody tr th {\n",
       "        vertical-align: top;\n",
       "    }\n",
       "\n",
       "    .dataframe thead th {\n",
       "        text-align: right;\n",
       "    }\n",
       "</style>\n",
       "<table border=\"1\" class=\"dataframe\">\n",
       "  <thead>\n",
       "    <tr style=\"text-align: right;\">\n",
       "      <th></th>\n",
       "      <th>UniProt_ID</th>\n",
       "      <th>Mutation</th>\n",
       "      <th>Interactor_UniProt_ID</th>\n",
       "      <th>Num_preds_0</th>\n",
       "      <th>Num_preds_1</th>\n",
       "      <th>Num_preds_NO_VOTE</th>\n",
       "      <th>VOTED_PREDICTION</th>\n",
       "    </tr>\n",
       "  </thead>\n",
       "  <tbody>\n",
       "    <tr>\n",
       "      <th>0</th>\n",
       "      <td>P08134</td>\n",
       "      <td>D59E</td>\n",
       "      <td>P52565</td>\n",
       "      <td>36</td>\n",
       "      <td>0</td>\n",
       "      <td>1</td>\n",
       "      <td>0</td>\n",
       "    </tr>\n",
       "    <tr>\n",
       "      <th>1</th>\n",
       "      <td>P62993</td>\n",
       "      <td>A3V</td>\n",
       "      <td>Q9H8V3</td>\n",
       "      <td>26</td>\n",
       "      <td>11</td>\n",
       "      <td>0</td>\n",
       "      <td>0</td>\n",
       "    </tr>\n",
       "    <tr>\n",
       "      <th>2</th>\n",
       "      <td>P62993</td>\n",
       "      <td>A3V</td>\n",
       "      <td>Q14155</td>\n",
       "      <td>17</td>\n",
       "      <td>20</td>\n",
       "      <td>0</td>\n",
       "      <td>1</td>\n",
       "    </tr>\n",
       "  </tbody>\n",
       "</table>\n",
       "</div>"
      ],
      "text/plain": [
       "  UniProt_ID Mutation Interactor_UniProt_ID  Num_preds_0  Num_preds_1  \\\n",
       "0     P08134     D59E                P52565           36            0   \n",
       "1     P62993      A3V                Q9H8V3           26           11   \n",
       "2     P62993      A3V                Q14155           17           20   \n",
       "\n",
       "   Num_preds_NO_VOTE VOTED_PREDICTION  \n",
       "0                  1                0  \n",
       "1                  0                0  \n",
       "2                  0                1  "
      ]
     },
     "metadata": {},
     "output_type": "display_data"
    }
   ],
   "source": [
    "display_data(predator.predictions[\"ov_ensemble_prediction_data\"])"
   ]
  },
  {
   "cell_type": "code",
   "execution_count": 15,
   "id": "50b403be-c1e1-418b-af90-9704641988ce",
   "metadata": {},
   "outputs": [
    {
     "name": "stdout",
     "output_type": "stream",
     "text": [
      "\u001b[36mData dimensions: (5086, 103)\u001b[0m\n"
     ]
    },
    {
     "data": {
      "text/html": [
       "<div>\n",
       "<style scoped>\n",
       "    .dataframe tbody tr th:only-of-type {\n",
       "        vertical-align: middle;\n",
       "    }\n",
       "\n",
       "    .dataframe tbody tr th {\n",
       "        vertical-align: top;\n",
       "    }\n",
       "\n",
       "    .dataframe thead th {\n",
       "        text-align: right;\n",
       "    }\n",
       "</style>\n",
       "<table border=\"1\" class=\"dataframe\">\n",
       "  <thead>\n",
       "    <tr style=\"text-align: right;\">\n",
       "      <th></th>\n",
       "      <th>Input_identifier</th>\n",
       "      <th>UniProt_ID</th>\n",
       "      <th>Mutation</th>\n",
       "      <th>Status</th>\n",
       "      <th>Type</th>\n",
       "      <th>COSMIC_mut_ID</th>\n",
       "      <th>ClinVar_mut_ID</th>\n",
       "      <th>UniProt_mut_ID</th>\n",
       "      <th>Domain_name</th>\n",
       "      <th>Domain_clan</th>\n",
       "      <th>...</th>\n",
       "      <th>number_of_residues_mut</th>\n",
       "      <th>IntraclashesEnergy1_wt</th>\n",
       "      <th>IntraclashesEnergy1_mut</th>\n",
       "      <th>IntraclashesEnergy2_wt</th>\n",
       "      <th>IntraclashesEnergy2_mut</th>\n",
       "      <th>Interface_hydrophobic_area</th>\n",
       "      <th>Interface_hydrophilic_area</th>\n",
       "      <th>Interface_total_area</th>\n",
       "      <th>Interface_contact_distance_wt</th>\n",
       "      <th>Interface_contact_distance_mut</th>\n",
       "    </tr>\n",
       "  </thead>\n",
       "  <tbody>\n",
       "    <tr>\n",
       "      <th>0</th>\n",
       "      <td>P08134</td>\n",
       "      <td>P08134</td>\n",
       "      <td>D59E</td>\n",
       "      <td>done</td>\n",
       "      <td>interface</td>\n",
       "      <td>COSM72427</td>\n",
       "      <td>-</td>\n",
       "      <td>-</td>\n",
       "      <td>Ras</td>\n",
       "      <td>Ras</td>\n",
       "      <td>...</td>\n",
       "      <td>388.0</td>\n",
       "      <td>53.3423</td>\n",
       "      <td>55.3148</td>\n",
       "      <td>37.8150</td>\n",
       "      <td>37.8150</td>\n",
       "      <td>719.095</td>\n",
       "      <td>461.785</td>\n",
       "      <td>1180.88</td>\n",
       "      <td>3.18062</td>\n",
       "      <td>3.18062</td>\n",
       "    </tr>\n",
       "    <tr>\n",
       "      <th>1</th>\n",
       "      <td>P08134</td>\n",
       "      <td>P08134</td>\n",
       "      <td>D59E</td>\n",
       "      <td>done</td>\n",
       "      <td>interface</td>\n",
       "      <td>COSM72427</td>\n",
       "      <td>-</td>\n",
       "      <td>-</td>\n",
       "      <td>Ras</td>\n",
       "      <td>Ras</td>\n",
       "      <td>...</td>\n",
       "      <td>344.0</td>\n",
       "      <td>62.3140</td>\n",
       "      <td>63.0691</td>\n",
       "      <td>32.5038</td>\n",
       "      <td>32.5038</td>\n",
       "      <td>598.71</td>\n",
       "      <td>417.74</td>\n",
       "      <td>1016.46</td>\n",
       "      <td>3.80414</td>\n",
       "      <td>3.80414</td>\n",
       "    </tr>\n",
       "    <tr>\n",
       "      <th>2</th>\n",
       "      <td>P62993</td>\n",
       "      <td>P62993</td>\n",
       "      <td>A3V</td>\n",
       "      <td>done</td>\n",
       "      <td>interface</td>\n",
       "      <td>-</td>\n",
       "      <td>-</td>\n",
       "      <td>-</td>\n",
       "      <td>SH3_1</td>\n",
       "      <td>SH3_1</td>\n",
       "      <td>...</td>\n",
       "      <td>280.0</td>\n",
       "      <td>23.2774</td>\n",
       "      <td>24.5177</td>\n",
       "      <td>122.5120</td>\n",
       "      <td>122.5120</td>\n",
       "      <td>170.81</td>\n",
       "      <td>120.515</td>\n",
       "      <td>291.325</td>\n",
       "      <td>4.63364</td>\n",
       "      <td>4.63364</td>\n",
       "    </tr>\n",
       "  </tbody>\n",
       "</table>\n",
       "<p>3 rows × 103 columns</p>\n",
       "</div>"
      ],
      "text/plain": [
       "  Input_identifier UniProt_ID Mutation Status       Type COSMIC_mut_ID  \\\n",
       "0           P08134     P08134     D59E   done  interface     COSM72427   \n",
       "1           P08134     P08134     D59E   done  interface     COSM72427   \n",
       "2           P62993     P62993      A3V   done  interface             -   \n",
       "\n",
       "  ClinVar_mut_ID UniProt_mut_ID Domain_name Domain_clan  ...  \\\n",
       "0              -              -         Ras         Ras  ...   \n",
       "1              -              -         Ras         Ras  ...   \n",
       "2              -              -       SH3_1       SH3_1  ...   \n",
       "\n",
       "  number_of_residues_mut IntraclashesEnergy1_wt  IntraclashesEnergy1_mut  \\\n",
       "0                  388.0                53.3423                  55.3148   \n",
       "1                  344.0                62.3140                  63.0691   \n",
       "2                  280.0                23.2774                  24.5177   \n",
       "\n",
       "   IntraclashesEnergy2_wt IntraclashesEnergy2_mut Interface_hydrophobic_area  \\\n",
       "0                 37.8150                 37.8150                    719.095   \n",
       "1                 32.5038                 32.5038                     598.71   \n",
       "2                122.5120                122.5120                     170.81   \n",
       "\n",
       "  Interface_hydrophilic_area Interface_total_area  \\\n",
       "0                    461.785              1180.88   \n",
       "1                     417.74              1016.46   \n",
       "2                    120.515              291.325   \n",
       "\n",
       "  Interface_contact_distance_wt  Interface_contact_distance_mut  \n",
       "0                       3.18062                         3.18062  \n",
       "1                       3.80414                         3.80414  \n",
       "2                       4.63364                         4.63364  \n",
       "\n",
       "[3 rows x 103 columns]"
      ]
     },
     "metadata": {},
     "output_type": "display_data"
    }
   ],
   "source": [
    "display_data(predator.data_materials[\"ov\"])"
   ]
  },
  {
   "cell_type": "code",
   "execution_count": 16,
   "id": "92baf990-79ae-4e3f-a5fa-c0d6c1173150",
   "metadata": {},
   "outputs": [
    {
     "name": "stdout",
     "output_type": "stream",
     "text": [
      "\u001b[36mData dimensions: (5086, 10)\u001b[0m\n"
     ]
    },
    {
     "data": {
      "text/html": [
       "<div>\n",
       "<style scoped>\n",
       "    .dataframe tbody tr th:only-of-type {\n",
       "        vertical-align: middle;\n",
       "    }\n",
       "\n",
       "    .dataframe tbody tr th {\n",
       "        vertical-align: top;\n",
       "    }\n",
       "\n",
       "    .dataframe thead th {\n",
       "        text-align: right;\n",
       "    }\n",
       "</style>\n",
       "<table border=\"1\" class=\"dataframe\">\n",
       "  <thead>\n",
       "    <tr style=\"text-align: right;\">\n",
       "      <th></th>\n",
       "      <th>Provean_score</th>\n",
       "      <th>EL2_score</th>\n",
       "      <th>Final_ddG</th>\n",
       "      <th>Interactor_alignment_score</th>\n",
       "      <th>Solvent_accessibility_wt</th>\n",
       "      <th>Matrix_score</th>\n",
       "      <th>Solvent_accessibility_mut</th>\n",
       "      <th>van_der_waals_mut</th>\n",
       "      <th>Interactor_template_sequence_identity</th>\n",
       "      <th>solvation_polar_wt</th>\n",
       "    </tr>\n",
       "  </thead>\n",
       "  <tbody>\n",
       "    <tr>\n",
       "      <th>0</th>\n",
       "      <td>-3.575</td>\n",
       "      <td>2.100875</td>\n",
       "      <td>1.492640</td>\n",
       "      <td>0.914711</td>\n",
       "      <td>2.776620</td>\n",
       "      <td>1.0</td>\n",
       "      <td>2.114950</td>\n",
       "      <td>-29.31280</td>\n",
       "      <td>0.9394</td>\n",
       "      <td>40.8143</td>\n",
       "    </tr>\n",
       "    <tr>\n",
       "      <th>1</th>\n",
       "      <td>-3.575</td>\n",
       "      <td>2.286398</td>\n",
       "      <td>0.762694</td>\n",
       "      <td>0.708487</td>\n",
       "      <td>2.382430</td>\n",
       "      <td>1.0</td>\n",
       "      <td>2.153380</td>\n",
       "      <td>-22.65540</td>\n",
       "      <td>0.7222</td>\n",
       "      <td>28.3003</td>\n",
       "    </tr>\n",
       "    <tr>\n",
       "      <th>2</th>\n",
       "      <td>-3.110</td>\n",
       "      <td>-1.475353</td>\n",
       "      <td>1.964490</td>\n",
       "      <td>0.262235</td>\n",
       "      <td>0.394442</td>\n",
       "      <td>0.0</td>\n",
       "      <td>0.281167</td>\n",
       "      <td>-6.95953</td>\n",
       "      <td>0.2792</td>\n",
       "      <td>12.8650</td>\n",
       "    </tr>\n",
       "  </tbody>\n",
       "</table>\n",
       "</div>"
      ],
      "text/plain": [
       "   Provean_score  EL2_score  Final_ddG  Interactor_alignment_score  \\\n",
       "0         -3.575   2.100875   1.492640                    0.914711   \n",
       "1         -3.575   2.286398   0.762694                    0.708487   \n",
       "2         -3.110  -1.475353   1.964490                    0.262235   \n",
       "\n",
       "   Solvent_accessibility_wt  Matrix_score  Solvent_accessibility_mut  \\\n",
       "0                  2.776620           1.0                   2.114950   \n",
       "1                  2.382430           1.0                   2.153380   \n",
       "2                  0.394442           0.0                   0.281167   \n",
       "\n",
       "   van_der_waals_mut  Interactor_template_sequence_identity  \\\n",
       "0          -29.31280                                 0.9394   \n",
       "1          -22.65540                                 0.7222   \n",
       "2           -6.95953                                 0.2792   \n",
       "\n",
       "   solvation_polar_wt  \n",
       "0             40.8143  \n",
       "1             28.3003  \n",
       "2             12.8650  "
      ]
     },
     "metadata": {},
     "output_type": "display_data"
    }
   ],
   "source": [
    "display_data(predator.data_materials[\"Xs_ov\"][0])"
   ]
  },
  {
   "cell_type": "code",
   "execution_count": 17,
   "id": "626956d7-8559-47b9-8b4f-5a003565d469",
   "metadata": {},
   "outputs": [
    {
     "data": {
      "image/png": "[encoded data removed]",
      "text/plain": [
       "<Figure size 432x288 with 1 Axes>"
      ]
     },
     "metadata": {},
     "output_type": "display_data"
    }
   ],
   "source": [
    "predator.predictions.plot_ensemble_prediction_distribution(\"ov\")"
   ]
  },
  {
   "cell_type": "code",
   "execution_count": 18,
   "id": "ede7c311-a2af-4777-881f-f4971a3e94d3",
   "metadata": {},
   "outputs": [
    {
     "name": "stdout",
     "output_type": "stream",
     "text": [
      "\u001b[36mData dimensions: (2578, 4)\u001b[0m\n"
     ]
    },
    {
     "data": {
      "text/html": [
       "<div>\n",
       "<style scoped>\n",
       "    .dataframe tbody tr th:only-of-type {\n",
       "        vertical-align: middle;\n",
       "    }\n",
       "\n",
       "    .dataframe tbody tr th {\n",
       "        vertical-align: top;\n",
       "    }\n",
       "\n",
       "    .dataframe thead th {\n",
       "        text-align: right;\n",
       "    }\n",
       "</style>\n",
       "<table border=\"1\" class=\"dataframe\">\n",
       "  <thead>\n",
       "    <tr style=\"text-align: right;\">\n",
       "      <th></th>\n",
       "      <th>UniProt_ID</th>\n",
       "      <th>Mutation</th>\n",
       "      <th>Interactor_UniProt_ID</th>\n",
       "      <th>Prediction</th>\n",
       "    </tr>\n",
       "  </thead>\n",
       "  <tbody>\n",
       "    <tr>\n",
       "      <th>0</th>\n",
       "      <td>P08134</td>\n",
       "      <td>D59E</td>\n",
       "      <td>P52565</td>\n",
       "      <td>0</td>\n",
       "    </tr>\n",
       "    <tr>\n",
       "      <th>1</th>\n",
       "      <td>P62993</td>\n",
       "      <td>A3V</td>\n",
       "      <td>Q9H8V3</td>\n",
       "      <td>0</td>\n",
       "    </tr>\n",
       "    <tr>\n",
       "      <th>2</th>\n",
       "      <td>P62993</td>\n",
       "      <td>A3V</td>\n",
       "      <td>Q14155</td>\n",
       "      <td>1</td>\n",
       "    </tr>\n",
       "  </tbody>\n",
       "</table>\n",
       "</div>"
      ],
      "text/plain": [
       "  UniProt_ID Mutation Interactor_UniProt_ID Prediction\n",
       "0     P08134     D59E                P52565          0\n",
       "1     P62993      A3V                Q9H8V3          0\n",
       "2     P62993      A3V                Q14155          1"
      ]
     },
     "metadata": {},
     "output_type": "display_data"
    }
   ],
   "source": [
    "ov_prediction_results_hard = predator.predictions[\"ov_prediction_results\"]\n",
    "display_data(ov_prediction_results_hard)"
   ]
  },
  {
   "cell_type": "code",
   "execution_count": 19,
   "id": "e3eca490-fb77-40e7-bf33-6c81b695a224",
   "metadata": {},
   "outputs": [],
   "source": [
    "ov_ensemble_prediction_data_hard = predator.predictions[\"ov_ensemble_prediction_data\"]"
   ]
  },
  {
   "cell_type": "code",
   "execution_count": 20,
   "id": "2b6d9841-4616-486a-a29d-2ec7b6f0f824",
   "metadata": {},
   "outputs": [
    {
     "name": "stdout",
     "output_type": "stream",
     "text": [
      "\u001b[36mData dimensions: (2482, 4)\u001b[0m\n"
     ]
    },
    {
     "data": {
      "text/html": [
       "<div>\n",
       "<style scoped>\n",
       "    .dataframe tbody tr th:only-of-type {\n",
       "        vertical-align: middle;\n",
       "    }\n",
       "\n",
       "    .dataframe tbody tr th {\n",
       "        vertical-align: top;\n",
       "    }\n",
       "\n",
       "    .dataframe thead th {\n",
       "        text-align: right;\n",
       "    }\n",
       "</style>\n",
       "<table border=\"1\" class=\"dataframe\">\n",
       "  <thead>\n",
       "    <tr style=\"text-align: right;\">\n",
       "      <th></th>\n",
       "      <th>UniProt_ID</th>\n",
       "      <th>Mutation</th>\n",
       "      <th>Interactor_UniProt_ID</th>\n",
       "      <th>Prediction</th>\n",
       "    </tr>\n",
       "  </thead>\n",
       "  <tbody>\n",
       "    <tr>\n",
       "      <th>0</th>\n",
       "      <td>P08134</td>\n",
       "      <td>D59E</td>\n",
       "      <td>P52565</td>\n",
       "      <td>0</td>\n",
       "    </tr>\n",
       "    <tr>\n",
       "      <th>1</th>\n",
       "      <td>P62993</td>\n",
       "      <td>A3V</td>\n",
       "      <td>Q9H8V3</td>\n",
       "      <td>0</td>\n",
       "    </tr>\n",
       "    <tr>\n",
       "      <th>2</th>\n",
       "      <td>P62993</td>\n",
       "      <td>A3V</td>\n",
       "      <td>Q14155</td>\n",
       "      <td>1</td>\n",
       "    </tr>\n",
       "  </tbody>\n",
       "</table>\n",
       "</div>"
      ],
      "text/plain": [
       "  UniProt_ID Mutation Interactor_UniProt_ID Prediction\n",
       "0     P08134     D59E                P52565          0\n",
       "1     P62993      A3V                Q9H8V3          0\n",
       "2     P62993      A3V                Q14155          1"
      ]
     },
     "metadata": {},
     "output_type": "display_data"
    }
   ],
   "source": [
    "ov_prediction_results_hard_no_votes_dropped = predator.predictions[\"ov_prediction_results_no_votes_dropped\"]\n",
    "display_data(ov_prediction_results_hard_no_votes_dropped)"
   ]
  },
  {
   "cell_type": "code",
   "execution_count": 21,
   "id": "13e87397-5e05-482f-a621-fde4e934e914",
   "metadata": {},
   "outputs": [
    {
     "name": "stdout",
     "output_type": "stream",
     "text": [
      "\u001b[36mLabel counts:\n",
      "Disrupting                1318\n",
      "Increasing + No Effect    1164\n",
      "Name: Prediction, dtype: int64\u001b[0m\n"
     ]
    },
    {
     "data": {
      "image/png": "[encoded data removed]",
      "text/plain": [
       "<Figure size 432x288 with 1 Axes>"
      ]
     },
     "metadata": {},
     "output_type": "display_data"
    }
   ],
   "source": [
    "visualize_label_counts(ov_prediction_results_hard_no_votes_dropped, 'Prediction')"
   ]
  },
  {
   "cell_type": "markdown",
   "id": "6cd1cc76-b56f-4789-b3b9-bf907fe7399e",
   "metadata": {
    "tags": []
   },
   "source": [
    "### Voting mode: `soft`"
   ]
  },
  {
   "cell_type": "code",
   "execution_count": 22,
   "id": "44e95ef5-2482-4d0d-93fa-305004853f7c",
   "metadata": {},
   "outputs": [
    {
     "name": "stdout",
     "output_type": "stream",
     "text": [
      "2021-10-25 12:24:22 |\u001b[36m DEBUG    \u001b[0m| helpers.helpers_predator.data_materials | Initialize `ov` ..\n",
      "2021-10-25 12:24:22 |\u001b[36m DEBUG    \u001b[0m| helpers.helpers_predator.data_materials | Initialize `target_ov_data` ..\n",
      "2021-10-25 12:24:22 |\u001b[36m DEBUG    \u001b[0m| helpers.helpers_predator.data_materials | Initializing target data materials ..\n",
      "2021-10-25 12:24:22 |\u001b[36m DEBUG    \u001b[0m| helpers.helpers_predator.data_materials | Determined features: ['Provean_score', 'EL2_score', 'Final_ddG', 'Interactor_alignment_score', 'Solvent_accessibility_wt', 'Matrix_score', 'Solvent_accessibility_mut', 'van_der_waals_mut', 'Interactor_template_sequence_identity', 'solvation_polar_wt']\n",
      "2021-10-25 12:24:22 |\u001b[36m DEBUG    \u001b[0m| helpers.helpers_predator.data_materials | Declaring Xs_ov data materials  ..\n"
     ]
    }
   ],
   "source": [
    "predator.initialize_target_data_materials(\n",
    "    tcga_code_path_pairs=[('ov', OV_PATH)]\n",
    ")"
   ]
  },
  {
   "cell_type": "code",
   "execution_count": 23,
   "id": "323fbd63-7e32-471f-8cee-4b0abf9d82dc",
   "metadata": {
    "scrolled": true,
    "tags": []
   },
   "outputs": [
    {
     "name": "stdout",
     "output_type": "stream",
     "text": [
      "2021-10-25 12:24:24 |\u001b[36m DEBUG    \u001b[0m| Predator | Predicting on cancer datasets ..\n",
      "2021-10-25 12:24:24 |\u001b[36m DEBUG    \u001b[0m| helpers.helpers_predator.models | Initializing EnsambledVotingClassifier.\n",
      "2021-10-25 12:24:24 |\u001b[36m DEBUG    \u001b[0m| helpers.helpers_predator.models | Voting mode: soft\n",
      "2021-10-25 12:24:24 |\u001b[36m DEBUG    \u001b[0m| helpers.helpers_predator.predictions | Initializing: PredictionsSoft\n",
      "2021-10-25 12:24:24 |\u001b[36m DEBUG    \u001b[0m| Predator | Predicting on ov cohort ..\n",
      "2021-10-25 12:24:24 |\u001b[36m DEBUG    \u001b[0m| helpers.helpers_predator.models | Current estimator: RandomForestClassifier(bootstrap=False, class_weight='balanced', max_depth=4,\n",
      "                       max_features='sqrt', n_estimators=600,\n",
      "                       random_state=14593)\n",
      "2021-10-25 12:24:24 |\u001b[36m DEBUG    \u001b[0m| helpers.helpers_predator.models | X shape: (5086, 10)\n",
      "2021-10-25 12:24:24 |\u001b[36m DEBUG    \u001b[0m| helpers.helpers_predator.models | Current estimator: RandomForestClassifier(bootstrap=False, max_depth=8, max_features=None,\n",
      "                       min_samples_leaf=2, n_estimators=480, random_state=3279)\n",
      "2021-10-25 12:24:24 |\u001b[36m DEBUG    \u001b[0m| helpers.helpers_predator.models | X shape: (5086, 10)\n",
      "2021-10-25 12:24:24 |\u001b[36m DEBUG    \u001b[0m| helpers.helpers_predator.models | Current estimator: RandomForestClassifier(class_weight='balanced', max_depth=11,\n",
      "                       min_samples_split=5, n_estimators=120,\n",
      "                       random_state=36049)\n",
      "2021-10-25 12:24:24 |\u001b[36m DEBUG    \u001b[0m| helpers.helpers_predator.models | X shape: (5086, 10)\n",
      "2021-10-25 12:24:25 |\u001b[36m DEBUG    \u001b[0m| helpers.helpers_predator.models | Current estimator: RandomForestClassifier(class_weight='balanced', max_depth=3,\n",
      "                       max_features='sqrt', min_samples_leaf=4, n_estimators=40,\n",
      "                       random_state=18290)\n",
      "2021-10-25 12:24:25 |\u001b[36m DEBUG    \u001b[0m| helpers.helpers_predator.models | X shape: (5086, 10)\n",
      "2021-10-25 12:24:25 |\u001b[36m DEBUG    \u001b[0m| helpers.helpers_predator.models | Current estimator: RandomForestClassifier(bootstrap=False, max_depth=11, max_features='sqrt',\n",
      "                       min_samples_split=5, n_estimators=460,\n",
      "                       random_state=96531)\n",
      "2021-10-25 12:24:25 |\u001b[36m DEBUG    \u001b[0m| helpers.helpers_predator.models | X shape: (5086, 10)\n",
      "2021-10-25 12:24:25 |\u001b[36m DEBUG    \u001b[0m| helpers.helpers_predator.models | Current estimator: RandomForestClassifier(class_weight='balanced', max_depth=12,\n",
      "                       min_samples_leaf=4, min_samples_split=5, n_estimators=80,\n",
      "                       random_state=13435)\n",
      "2021-10-25 12:24:25 |\u001b[36m DEBUG    \u001b[0m| helpers.helpers_predator.models | X shape: (5086, 10)\n",
      "2021-10-25 12:24:25 |\u001b[36m DEBUG    \u001b[0m| helpers.helpers_predator.models | Current estimator: RandomForestClassifier(class_weight='balanced', max_depth=2,\n",
      "                       min_samples_split=5, n_estimators=500,\n",
      "                       random_state=88697)\n",
      "2021-10-25 12:24:25 |\u001b[36m DEBUG    \u001b[0m| helpers.helpers_predator.models | X shape: (5086, 10)\n",
      "2021-10-25 12:24:25 |\u001b[36m DEBUG    \u001b[0m| helpers.helpers_predator.models | Current estimator: RandomForestClassifier(bootstrap=False, class_weight='balanced', max_depth=7,\n",
      "                       max_features='sqrt', min_samples_leaf=2,\n",
      "                       min_samples_split=5, n_estimators=280,\n",
      "                       random_state=97081)\n",
      "2021-10-25 12:24:25 |\u001b[36m DEBUG    \u001b[0m| helpers.helpers_predator.models | X shape: (5086, 10)\n",
      "2021-10-25 12:24:25 |\u001b[36m DEBUG    \u001b[0m| helpers.helpers_predator.models | Current estimator: RandomForestClassifier(bootstrap=False, max_depth=3, max_features='sqrt',\n",
      "                       min_samples_leaf=2, n_estimators=60, random_state=71483)\n",
      "2021-10-25 12:24:25 |\u001b[36m DEBUG    \u001b[0m| helpers.helpers_predator.models | X shape: (5086, 10)\n",
      "2021-10-25 12:24:25 |\u001b[36m DEBUG    \u001b[0m| helpers.helpers_predator.models | Current estimator: RandomForestClassifier(class_weight='balanced', max_depth=2,\n",
      "                       max_features='sqrt', min_samples_leaf=4,\n",
      "                       n_estimators=440, random_state=11396)\n",
      "2021-10-25 12:24:25 |\u001b[36m DEBUG    \u001b[0m| helpers.helpers_predator.models | X shape: (5086, 10)\n",
      "2021-10-25 12:24:25 |\u001b[36m DEBUG    \u001b[0m| helpers.helpers_predator.models | Current estimator: RandomForestClassifier(bootstrap=False, max_depth=6, min_samples_leaf=2,\n",
      "                       min_samples_split=5, n_estimators=80,\n",
      "                       random_state=77398)\n",
      "2021-10-25 12:24:25 |\u001b[36m DEBUG    \u001b[0m| helpers.helpers_predator.models | X shape: (5086, 10)\n",
      "2021-10-25 12:24:25 |\u001b[36m DEBUG    \u001b[0m| helpers.helpers_predator.models | Current estimator: RandomForestClassifier(max_depth=8, max_features='sqrt', min_samples_split=5,\n",
      "                       n_estimators=20, random_state=55303)\n",
      "2021-10-25 12:24:25 |\u001b[36m DEBUG    \u001b[0m| helpers.helpers_predator.models | X shape: (5086, 10)\n",
      "2021-10-25 12:24:26 |\u001b[36m DEBUG    \u001b[0m| helpers.helpers_predator.models | Current estimator: RandomForestClassifier(class_weight='balanced', max_depth=4,\n",
      "                       min_samples_split=5, random_state=4166)\n",
      "2021-10-25 12:24:26 |\u001b[36m DEBUG    \u001b[0m| helpers.helpers_predator.models | X shape: (5086, 10)\n",
      "2021-10-25 12:24:26 |\u001b[36m DEBUG    \u001b[0m| helpers.helpers_predator.models | Current estimator: RandomForestClassifier(bootstrap=False, max_depth=13, max_features='sqrt',\n",
      "                       min_samples_split=5, n_estimators=380,\n",
      "                       random_state=12281)\n",
      "2021-10-25 12:24:26 |\u001b[36m DEBUG    \u001b[0m| helpers.helpers_predator.models | X shape: (5086, 10)\n",
      "2021-10-25 12:24:26 |\u001b[36m DEBUG    \u001b[0m| helpers.helpers_predator.models | Current estimator: RandomForestClassifier(bootstrap=False, class_weight='balanced', max_depth=4,\n",
      "                       max_features='sqrt', n_estimators=10,\n",
      "                       random_state=28658)\n",
      "2021-10-25 12:24:26 |\u001b[36m DEBUG    \u001b[0m| helpers.helpers_predator.models | X shape: (5086, 10)\n",
      "2021-10-25 12:24:26 |\u001b[36m DEBUG    \u001b[0m| helpers.helpers_predator.models | Current estimator: RandomForestClassifier(class_weight='balanced', max_depth=3, min_samples_leaf=2,\n",
      "                       n_estimators=30, random_state=30496)\n",
      "2021-10-25 12:24:26 |\u001b[36m DEBUG    \u001b[0m| helpers.helpers_predator.models | X shape: (5086, 10)\n",
      "2021-10-25 12:24:26 |\u001b[36m DEBUG    \u001b[0m| helpers.helpers_predator.models | Current estimator: RandomForestClassifier(class_weight='balanced', max_depth=11,\n",
      "                       min_samples_leaf=4, n_estimators=120,\n",
      "                       random_state=66238)\n",
      "2021-10-25 12:24:26 |\u001b[36m DEBUG    \u001b[0m| helpers.helpers_predator.models | X shape: (5086, 10)\n",
      "2021-10-25 12:24:26 |\u001b[36m DEBUG    \u001b[0m| helpers.helpers_predator.models | Current estimator: RandomForestClassifier(class_weight='balanced', max_depth=2,\n",
      "                       max_features='sqrt', n_estimators=340,\n",
      "                       random_state=3479)\n",
      "2021-10-25 12:24:26 |\u001b[36m DEBUG    \u001b[0m| helpers.helpers_predator.models | X shape: (5086, 10)\n",
      "2021-10-25 12:24:26 |\u001b[36m DEBUG    \u001b[0m| helpers.helpers_predator.models | Current estimator: RandomForestClassifier(class_weight='balanced', max_depth=3,\n",
      "                       max_features='sqrt', min_samples_leaf=4,\n",
      "                       n_estimators=480, random_state=26063)\n",
      "2021-10-25 12:24:26 |\u001b[36m DEBUG    \u001b[0m| helpers.helpers_predator.models | X shape: (5086, 10)\n",
      "2021-10-25 12:24:26 |\u001b[36m DEBUG    \u001b[0m| helpers.helpers_predator.models | Current estimator: RandomForestClassifier(class_weight='balanced', max_depth=3, min_samples_leaf=2,\n",
      "                       n_estimators=560, random_state=85182)\n",
      "2021-10-25 12:24:26 |\u001b[36m DEBUG    \u001b[0m| helpers.helpers_predator.models | X shape: (5086, 10)\n",
      "2021-10-25 12:24:26 |\u001b[36m DEBUG    \u001b[0m| helpers.helpers_predator.models | Current estimator: RandomForestClassifier(class_weight='balanced', max_depth=13,\n",
      "                       min_samples_leaf=4, min_samples_split=5, n_estimators=40,\n",
      "                       random_state=91925)\n",
      "2021-10-25 12:24:26 |\u001b[36m DEBUG    \u001b[0m| helpers.helpers_predator.models | X shape: (5086, 10)\n",
      "2021-10-25 12:24:26 |\u001b[36m DEBUG    \u001b[0m| helpers.helpers_predator.models | Current estimator: RandomForestClassifier(class_weight='balanced', max_depth=2, min_samples_leaf=4,\n",
      "                       min_samples_split=5, n_estimators=280,\n",
      "                       random_state=54988)\n",
      "2021-10-25 12:24:26 |\u001b[36m DEBUG    \u001b[0m| helpers.helpers_predator.models | X shape: (5086, 10)\n",
      "2021-10-25 12:24:27 |\u001b[36m DEBUG    \u001b[0m| helpers.helpers_predator.models | Current estimator: RandomForestClassifier(class_weight='balanced', max_depth=11,\n",
      "                       max_features='sqrt', min_samples_leaf=2,\n",
      "                       min_samples_split=5, n_estimators=360,\n",
      "                       random_state=58879)\n",
      "2021-10-25 12:24:27 |\u001b[36m DEBUG    \u001b[0m| helpers.helpers_predator.models | X shape: (5086, 10)\n",
      "2021-10-25 12:24:27 |\u001b[36m DEBUG    \u001b[0m| helpers.helpers_predator.models | Current estimator: RandomForestClassifier(max_depth=7, n_estimators=20, random_state=77237)\n",
      "2021-10-25 12:24:27 |\u001b[36m DEBUG    \u001b[0m| helpers.helpers_predator.models | X shape: (5086, 10)\n",
      "2021-10-25 12:24:27 |\u001b[36m DEBUG    \u001b[0m| helpers.helpers_predator.models | Current estimator: RandomForestClassifier(bootstrap=False, max_depth=14, min_samples_leaf=4,\n",
      "                       min_samples_split=5, n_estimators=20, random_state=852)\n",
      "2021-10-25 12:24:27 |\u001b[36m DEBUG    \u001b[0m| helpers.helpers_predator.models | X shape: (5086, 10)\n",
      "2021-10-25 12:24:27 |\u001b[36m DEBUG    \u001b[0m| helpers.helpers_predator.models | Current estimator: RandomForestClassifier(class_weight='balanced', max_depth=8,\n",
      "                       max_features='sqrt', min_samples_leaf=4,\n",
      "                       min_samples_split=5, n_estimators=520,\n",
      "                       random_state=99459)\n",
      "2021-10-25 12:24:27 |\u001b[36m DEBUG    \u001b[0m| helpers.helpers_predator.models | X shape: (5086, 10)\n",
      "2021-10-25 12:24:27 |\u001b[36m DEBUG    \u001b[0m| helpers.helpers_predator.models | Current estimator: RandomForestClassifier(class_weight='balanced', max_depth=6, min_samples_leaf=4,\n",
      "                       min_samples_split=5, n_estimators=260,\n",
      "                       random_state=20927)\n",
      "2021-10-25 12:24:27 |\u001b[36m DEBUG    \u001b[0m| helpers.helpers_predator.models | X shape: (5086, 10)\n",
      "2021-10-25 12:24:27 |\u001b[36m DEBUG    \u001b[0m| helpers.helpers_predator.models | Current estimator: RandomForestClassifier(max_depth=9, min_samples_leaf=4, n_estimators=580,\n",
      "                       random_state=55393)\n",
      "2021-10-25 12:24:27 |\u001b[36m DEBUG    \u001b[0m| helpers.helpers_predator.models | X shape: (5086, 10)\n",
      "2021-10-25 12:24:27 |\u001b[36m DEBUG    \u001b[0m| helpers.helpers_predator.models | Current estimator: RandomForestClassifier(bootstrap=False, class_weight='balanced', max_depth=7,\n",
      "                       min_samples_split=5, n_estimators=140,\n",
      "                       random_state=36422)\n",
      "2021-10-25 12:24:27 |\u001b[36m DEBUG    \u001b[0m| helpers.helpers_predator.models | X shape: (5086, 10)\n",
      "2021-10-25 12:24:27 |\u001b[36m DEBUG    \u001b[0m| helpers.helpers_predator.models | Current estimator: RandomForestClassifier(bootstrap=False, max_depth=11, n_estimators=540,\n",
      "                       random_state=20380)\n",
      "2021-10-25 12:24:27 |\u001b[36m DEBUG    \u001b[0m| helpers.helpers_predator.models | X shape: (5086, 10)\n",
      "2021-10-25 12:24:28 |\u001b[36m DEBUG    \u001b[0m| helpers.helpers_predator.models | Current estimator: RandomForestClassifier(class_weight='balanced', max_depth=8, min_samples_leaf=2,\n",
      "                       n_estimators=5, random_state=28222)\n",
      "2021-10-25 12:24:28 |\u001b[36m DEBUG    \u001b[0m| helpers.helpers_predator.models | X shape: (5086, 10)\n",
      "2021-10-25 12:24:28 |\u001b[36m DEBUG    \u001b[0m| helpers.helpers_predator.models | Current estimator: RandomForestClassifier(class_weight='balanced', max_depth=6,\n",
      "                       min_samples_split=5, n_estimators=560,\n",
      "                       random_state=44119)\n",
      "2021-10-25 12:24:28 |\u001b[36m DEBUG    \u001b[0m| helpers.helpers_predator.models | X shape: (5086, 10)\n",
      "2021-10-25 12:24:28 |\u001b[36m DEBUG    \u001b[0m| helpers.helpers_predator.models | Current estimator: RandomForestClassifier(class_weight='balanced', max_depth=10,\n",
      "                       max_features='sqrt', min_samples_leaf=4,\n",
      "                       n_estimators=320, random_state=13397)\n",
      "2021-10-25 12:24:28 |\u001b[36m DEBUG    \u001b[0m| helpers.helpers_predator.models | X shape: (5086, 10)\n",
      "2021-10-25 12:24:28 |\u001b[36m DEBUG    \u001b[0m| helpers.helpers_predator.models | Current estimator: RandomForestClassifier(class_weight='balanced', max_depth=3,\n",
      "                       max_features='sqrt', min_samples_split=5,\n",
      "                       n_estimators=120, random_state=12157)\n",
      "2021-10-25 12:24:28 |\u001b[36m DEBUG    \u001b[0m| helpers.helpers_predator.models | X shape: (5086, 10)\n",
      "2021-10-25 12:24:28 |\u001b[36m DEBUG    \u001b[0m| helpers.helpers_predator.models | Current estimator: RandomForestClassifier(bootstrap=False, class_weight='balanced', max_depth=2,\n",
      "                       min_samples_split=5, n_estimators=360,\n",
      "                       random_state=49798)\n",
      "2021-10-25 12:24:28 |\u001b[36m DEBUG    \u001b[0m| helpers.helpers_predator.models | X shape: (5086, 10)\n",
      "2021-10-25 12:24:28 |\u001b[36m DEBUG    \u001b[0m| helpers.helpers_predator.models | Current estimator: RandomForestClassifier(bootstrap=False, class_weight='balanced', max_depth=2,\n",
      "                       min_samples_leaf=2, min_samples_split=5, n_estimators=40,\n",
      "                       random_state=12677)\n",
      "2021-10-25 12:24:28 |\u001b[36m DEBUG    \u001b[0m| helpers.helpers_predator.models | X shape: (5086, 10)\n",
      "2021-10-25 12:24:28 |\u001b[36m DEBUG    \u001b[0m| helpers.helpers_predator.models | Current estimator: RandomForestClassifier(bootstrap=False, class_weight='balanced', max_depth=5,\n",
      "                       min_samples_leaf=4, min_samples_split=5,\n",
      "                       n_estimators=120, random_state=47053)\n",
      "2021-10-25 12:24:28 |\u001b[36m DEBUG    \u001b[0m| helpers.helpers_predator.models | X shape: (5086, 10)\n",
      "2021-10-25 12:24:28 |\u001b[36m DEBUG    \u001b[0m| helpers.helpers_predator.predictions | PredictionsSoft\n",
      "2021-10-25 12:24:28 |\u001b[36m DEBUG    \u001b[0m| helpers.helpers_predator.predictions | Predicting probabilities on ov cohort ..\n",
      "2021-10-25 12:24:28 |\u001b[36m DEBUG    \u001b[0m| helpers.helpers_predator.predictions | Adding key `ov_prob` to self.predictions\n"
     ]
    }
   ],
   "source": [
    "predator.predict(voting='soft')"
   ]
  },
  {
   "cell_type": "code",
   "execution_count": 24,
   "id": "341a1a27-928b-47ae-9d45-69ec13771b81",
   "metadata": {},
   "outputs": [
    {
     "data": {
      "text/plain": [
       "dict_keys(['ov_prob'])"
      ]
     },
     "execution_count": 24,
     "metadata": {},
     "output_type": "execute_result"
    }
   ],
   "source": [
    "predator.predictions.keys()"
   ]
  },
  {
   "cell_type": "code",
   "execution_count": 25,
   "id": "d7054f49-ad45-408f-88b4-0e608fc81e81",
   "metadata": {},
   "outputs": [
    {
     "data": {
      "text/plain": [
       "[array([[0.59952734, 0.40047266],\n",
       "        [0.63188723, 0.36811277],\n",
       "        [0.52475222, 0.47524778],\n",
       "        ...,\n",
       "        [0.68599119, 0.31400881],\n",
       "        [0.59550771, 0.40449229],\n",
       "        [0.60373599, 0.39626401]]),\n",
       " array([[1.        , 0.        ],\n",
       "        [1.        , 0.        ],\n",
       "        [0.43333333, 0.56666667],\n",
       "        ...,\n",
       "        [0.5       , 0.5       ],\n",
       "        [0.        , 1.        ],\n",
       "        [0.        , 1.        ]]),\n",
       " array([[0.78724328, 0.21275672],\n",
       "        [0.82463448, 0.17536552],\n",
       "        [0.6362759 , 0.3637241 ],\n",
       "        ...,\n",
       "        [0.70852745, 0.29147255],\n",
       "        [0.55637676, 0.44362324],\n",
       "        [0.71934887, 0.28065113]])]"
      ]
     },
     "execution_count": 25,
     "metadata": {},
     "output_type": "execute_result"
    }
   ],
   "source": [
    "# Predictions for first 10 experiment.\n",
    "predator.predictions[\"ov_prob\"][:3]"
   ]
  },
  {
   "cell_type": "markdown",
   "id": "83e49c0d-9f61-4f48-a23d-8a21e9875041",
   "metadata": {},
   "source": [
    "#### Predictions Post Processing"
   ]
  },
  {
   "cell_type": "markdown",
   "id": "3d18567f-1748-4446-bb12-8062515f02bd",
   "metadata": {},
   "source": [
    "Post processing of predictions involves following steps:"
   ]
  },
  {
   "cell_type": "markdown",
   "id": "45aad6d0-0e73-413e-8b32-fbcb2bcc5426",
   "metadata": {},
   "source": [
    "##### 1. Merging Predictions with SNV Data"
   ]
  },
  {
   "cell_type": "markdown",
   "id": "ba9bda7c-5736-4c44-8663-ec63927976db",
   "metadata": {},
   "source": [
    "The prediction column is merged with SNV data for each experiment.\n",
    "\n",
    "$\\text{For each experiment } n: $\n",
    "\n",
    "$$\n",
    "  \\textit{(Prediction Merged Data)}_n = \\underbrace{[\\textit{Predictions}_n]}_\\text{Probs Percentages} + \n",
    "      \\underbrace{[\\textit{Protein }] [\\textit{Mutation }] [\\textit{Interactor }]}_\\text{Cancer Data Triplets} + \\underbrace{[\\textit{Features }] }_\\text{Elaspic}\n",
    "$$\n"
   ]
  },
  {
   "cell_type": "markdown",
   "id": "8b14c7d7-914f-40af-b695-b962c33ed9ee",
   "metadata": {
    "tags": []
   },
   "source": [
    "##### 2. Convert to 1-isomer: `Interactor_UniProt_ID`"
   ]
  },
  {
   "cell_type": "markdown",
   "id": "36c9284b-0d5d-4c41-b2d9-7274d9141f6a",
   "metadata": {},
   "source": [
    "$\\textit{Interactor_UniProt_ID}$ column contains isomer proteins. Here, we convert them into primary isoform representation (i.e. without dashes)."
   ]
  },
  {
   "cell_type": "markdown",
   "id": "2314ef86-e11b-43ce-a9ee-8d3d39420d3d",
   "metadata": {},
   "source": [
    "| Interactor_UniProt_ID |\n",
    "--------------\n",
    "| P38936     |\n",
    "| P16473     |\n",
    "| P16473-2   |\n",
    "| P19793     |"
   ]
  },
  {
   "cell_type": "markdown",
   "id": "ac37c712-d832-4450-8852-a9df5712c194",
   "metadata": {},
   "source": [
    "##### 3. Dropping Invalid Predictions"
   ]
  },
  {
   "cell_type": "markdown",
   "id": "b0070463-25c2-40ca-8de7-1373d6f6721d",
   "metadata": {},
   "source": [
    "Entries whose predicted class-1 probability lies in both `Decreasing` and `Increasing+NoEff` are dropped."
   ]
  },
  {
   "cell_type": "markdown",
   "id": "e7d2ea0c-5864-4a45-b2da-c41c27903fbe",
   "metadata": {},
   "source": [
    "Due to having different features for the same $\\textit{(protein, mutation, interactor)}$ triplet from ELASPIC, the triplet $\\textit{(protein, mutation, interactor)}$ may contain class-1 probability prediction of both lower than 0.50 and higher than 50. We drop such instances."
   ]
  },
  {
   "cell_type": "code",
   "execution_count": 26,
   "id": "ee5ffd8b-af50-481e-b90f-fc0548568727",
   "metadata": {
    "scrolled": true,
    "tags": []
   },
   "outputs": [
    {
     "name": "stdout",
     "output_type": "stream",
     "text": [
      "2021-10-25 12:24:41 |\u001b[36m DEBUG    \u001b[0m| helpers.helpers_predator.predictions | PredictionsSoft\n",
      "2021-10-25 12:24:41 |\u001b[36m DEBUG    \u001b[0m| helpers.helpers_predator.predictions | Post processing predictions for cohort ov ..\n",
      "2021-10-25 12:24:41 |\u001b[36m DEBUG    \u001b[0m| helpers.helpers_predator.predictions | PredictionsSoft\n",
      "2021-10-25 12:24:41 |\u001b[36m DEBUG    \u001b[0m| helpers.helpers_predator.predictions | Merging predictions with ov cancer dataset ..\n",
      "2021-10-25 12:24:41 |\u001b[36m DEBUG    \u001b[0m| helpers.helpers_predator.predictions | Handling valid and invalid entries ..\n"
     ]
    },
    {
     "data": {
      "application/vnd.jupyter.widget-view+json": {
       "model_id": "554b0065601a4d3b9214f0a4ef19d42d",
       "version_major": 2,
       "version_minor": 0
      },
      "text/plain": [
       "  0%|          | 0/37 [00:00<?, ?it/s]"
      ]
     },
     "metadata": {},
     "output_type": "display_data"
    },
    {
     "name": "stdout",
     "output_type": "stream",
     "text": [
      "2021-10-25 12:24:53 |\u001b[36m DEBUG    \u001b[0m| helpers.helpers_predator.predictions_utils | Removed entries first five rows (of 655): \n",
      "   PREDICTION PROTEIN MUTATION INTERACTOR\n",
      "0    0.539514  P00742    I451M     P10646\n",
      "1    0.449693  P00742    I451M     P10646\n",
      "2    0.449693  P00742    I451M     P10646\n",
      "3    0.537670  P00742    I451M     P10646\n",
      "4    0.537670  P00742    I451M     P10646\n",
      "2021-10-25 12:25:05 |\u001b[36m DEBUG    \u001b[0m| helpers.helpers_predator.predictions_utils | Removed entries first five rows (of 611): \n",
      "   PREDICTION PROTEIN MUTATION INTERACTOR\n",
      "0         0.0  Q14814     K31T     Q02078\n",
      "1         1.0  Q14814     K31T     Q02078\n",
      "2         0.0  Q14814     K31T     Q02078\n",
      "3         1.0  Q14814     K31T     Q02078\n",
      "4         0.0  Q14814     K31T     Q02078\n",
      "2021-10-25 12:25:17 |\u001b[36m DEBUG    \u001b[0m| helpers.helpers_predator.predictions_utils | Removed entries first five rows (of 582): \n",
      "   PREDICTION PROTEIN MUTATION INTERACTOR\n",
      "0    0.440924  Q9NQ66    E539K     Q15147\n",
      "1    0.514262  Q9NQ66    E539K     Q15147\n",
      "2    0.522595  Q9NQ66    E539K     Q15147\n",
      "3    0.510702  Q9Y6Q5    R251C     Q9BXS5\n",
      "4    0.379158  Q9Y6Q5    R251C     Q9BXS5\n",
      "2021-10-25 12:25:31 |\u001b[36m DEBUG    \u001b[0m| helpers.helpers_predator.predictions_utils | Removed entries first five rows (of 474): \n",
      "   PREDICTION PROTEIN MUTATION INTERACTOR\n",
      "0    0.617086  P07332    N695H     P08581\n",
      "1    0.465244  P07332    N695H     P08581\n",
      "2    0.565864  Q14814     K31T     Q02078\n",
      "3    0.497343  Q14814     K31T     Q06413\n",
      "4    0.497343  Q14814     K31T     Q06413\n",
      "2021-10-25 12:25:45 |\u001b[36m DEBUG    \u001b[0m| helpers.helpers_predator.predictions_utils | Removed entries first five rows (of 695): \n",
      "   PREDICTION PROTEIN MUTATION INTERACTOR\n",
      "0    0.514730  P07332    N695H     P08581\n",
      "1    0.218297  P07332    N695H     P08581\n",
      "2    0.469384  Q9NQ66    E539K     Q15147\n",
      "3    0.522645  Q9NQ66    E539K     Q15147\n",
      "4    0.529348  Q9NQ66    E539K     Q15147\n",
      "2021-10-25 12:25:59 |\u001b[36m DEBUG    \u001b[0m| helpers.helpers_predator.predictions_utils | Removed entries first five rows (of 467): \n",
      "   PREDICTION PROTEIN MUTATION INTERACTOR\n",
      "0    0.484546  P62805     N65D     Q9UER7\n",
      "1    0.517680  P62805     N65D     Q9UER7\n",
      "2    0.484546  P62805     N65D     Q9UER7\n",
      "3    0.403518  P04637    H179Y     Q9H9B1\n",
      "4    0.506687  P04637    H179Y     Q9H9B1\n",
      "2021-10-25 12:26:11 |\u001b[36m DEBUG    \u001b[0m| helpers.helpers_predator.predictions_utils | Removed entries first five rows (of 482): \n",
      "   PREDICTION PROTEIN MUTATION INTERACTOR\n",
      "0    0.458458  O75175    Q684H     Q9NZN8\n",
      "1    0.488167  O75175    Q684H     Q9NZN8\n",
      "2    0.466132  O75175    Q684H     Q9NZN8\n",
      "3    0.503953  O75175    Q684H     Q9NZN8\n",
      "4    0.488167  O75175    Q684H     Q9NZN8\n",
      "2021-10-25 12:26:23 |\u001b[36m DEBUG    \u001b[0m| helpers.helpers_predator.predictions_utils | Removed entries first five rows (of 732): \n",
      "   PREDICTION PROTEIN MUTATION INTERACTOR\n",
      "0    0.728039  P07332    N695H     P08581\n",
      "1    0.452984  P07332    N695H     P08581\n",
      "2    0.650610  Q14814     K31T     Q02078\n",
      "3    0.494713  Q14814     K31T     Q06413\n",
      "4    0.494713  Q14814     K31T     Q06413\n",
      "2021-10-25 12:26:35 |\u001b[36m DEBUG    \u001b[0m| helpers.helpers_predator.predictions_utils | Removed entries first five rows (of 445): \n",
      "   PREDICTION PROTEIN MUTATION INTERACTOR\n",
      "0    0.390384  Q9NQ66    E539K     Q15147\n",
      "1    0.553046  Q9NQ66    E539K     Q15147\n",
      "2    0.572962  Q9NQ66    E539K     Q15147\n",
      "3    0.520750  P35609     P85H     Q13557\n",
      "4    0.520750  P35609     P85H     Q13557\n",
      "2021-10-25 12:26:47 |\u001b[36m DEBUG    \u001b[0m| helpers.helpers_predator.predictions_utils | Removed entries first five rows (of 707): \n",
      "   PREDICTION PROTEIN MUTATION INTERACTOR\n",
      "0    0.368700  Q14814     K31T     Q02078\n",
      "1    0.370763  Q14814     K31T     Q06413\n",
      "2    0.370763  Q14814     K31T     Q06413\n",
      "3    0.370763  Q14814     K31T     Q06413\n",
      "4    0.370763  Q14814     K31T     Q06413\n",
      "2021-10-25 12:26:59 |\u001b[36m DEBUG    \u001b[0m| helpers.helpers_predator.predictions_utils | Removed entries first five rows (of 571): \n",
      "   PREDICTION PROTEIN MUTATION INTERACTOR\n",
      "0    0.504915  Q9Y6Q5    R251C     Q9BXS5\n",
      "1    0.473901  Q9Y6Q5    R251C     Q9BXS5\n",
      "2    0.389441  Q14814     K31T     Q02078\n",
      "3    0.539224  Q14814     K31T     Q02078\n",
      "4    0.209375  Q14814     K31T     Q02078\n",
      "2021-10-25 12:27:11 |\u001b[36m DEBUG    \u001b[0m| helpers.helpers_predator.predictions_utils | Removed entries first five rows (of 504): \n",
      "   PREDICTION PROTEIN MUTATION INTERACTOR\n",
      "0    0.521429  P00742    I451M     P10646\n",
      "1    0.340179  P00742    I451M     P10646\n",
      "2    0.340179  P00742    I451M     P10646\n",
      "3    0.521429  P00742    I451M     P10646\n",
      "4    0.521429  P00742    I451M     P10646\n",
      "2021-10-25 12:27:23 |\u001b[36m DEBUG    \u001b[0m| helpers.helpers_predator.predictions_utils | Removed entries first five rows (of 430): \n",
      "   PREDICTION PROTEIN MUTATION INTERACTOR\n",
      "0    0.430541  Q14814     K31T     Q02078\n",
      "1    0.424437  Q14814     K31T     Q06413\n",
      "2    0.424437  Q14814     K31T     Q06413\n",
      "3    0.424437  Q14814     K31T     Q06413\n",
      "4    0.424437  Q14814     K31T     Q06413\n",
      "2021-10-25 12:27:35 |\u001b[36m DEBUG    \u001b[0m| helpers.helpers_predator.predictions_utils | Removed entries first five rows (of 558): \n",
      "   PREDICTION PROTEIN MUTATION INTERACTOR\n",
      "0    0.472281  Q14814     K31T     Q02078\n",
      "1    0.335965  Q14814     K31T     Q06413\n",
      "2    0.335965  Q14814     K31T     Q06413\n",
      "3    0.335965  Q14814     K31T     Q06413\n",
      "4    0.335965  Q14814     K31T     Q06413\n",
      "2021-10-25 12:27:47 |\u001b[36m DEBUG    \u001b[0m| helpers.helpers_predator.predictions_utils | Removed entries first five rows (of 851): \n",
      "   PREDICTION PROTEIN MUTATION INTERACTOR\n",
      "0    0.401560  O75175    Q684H     Q9NZN8\n",
      "1    0.595530  O75175    Q684H     Q9NZN8\n",
      "2    0.538758  O75175    Q684H     Q9NZN8\n",
      "3    0.632725  O75175    Q684H     Q9NZN8\n",
      "4    0.595530  O75175    Q684H     Q9NZN8\n",
      "2021-10-25 12:27:58 |\u001b[36m DEBUG    \u001b[0m| helpers.helpers_predator.predictions_utils | Removed entries first five rows (of 377): \n",
      "   PREDICTION PROTEIN MUTATION INTERACTOR\n",
      "0    0.444929  Q14814     K31T     Q02078\n",
      "1    0.509833  Q14814     K31T     Q02078\n",
      "2    0.161356  Q14814     K31T     Q02078\n",
      "3    0.500750  Q14814     K31T     Q02078\n",
      "4    0.161356  Q14814     K31T     Q02078\n",
      "2021-10-25 12:28:10 |\u001b[36m DEBUG    \u001b[0m| helpers.helpers_predator.predictions_utils | Removed entries first five rows (of 488): \n",
      "   PREDICTION PROTEIN MUTATION INTERACTOR\n",
      "0    0.619213  P07332    N695H     P08581\n",
      "1    0.381776  P07332    N695H     P08581\n",
      "2    0.328412  Q14814     K31T     Q06413\n",
      "3    0.328412  Q14814     K31T     Q06413\n",
      "4    0.328412  Q14814     K31T     Q06413\n",
      "2021-10-25 12:28:22 |\u001b[36m DEBUG    \u001b[0m| helpers.helpers_predator.predictions_utils | Removed entries first five rows (of 440): \n",
      "   PREDICTION PROTEIN MUTATION INTERACTOR\n",
      "0    0.639745  P07332    N695H     P08581\n",
      "1    0.440041  P07332    N695H     P08581\n",
      "2    0.462724  Q14814     K31T     Q02078\n",
      "3    0.461433  Q14814     K31T     Q06413\n",
      "4    0.461433  Q14814     K31T     Q06413\n",
      "2021-10-25 12:28:34 |\u001b[36m DEBUG    \u001b[0m| helpers.helpers_predator.predictions_utils | Removed entries first five rows (of 475): \n",
      "   PREDICTION PROTEIN MUTATION INTERACTOR\n",
      "0    0.666729  P07332    N695H     P08581\n",
      "1    0.459652  P07332    N695H     P08581\n",
      "2    0.370873  Q14814     K31T     Q02078\n",
      "3    0.493678  Q14814     K31T     Q02078\n",
      "4    0.263165  Q14814     K31T     Q02078\n",
      "2021-10-25 12:28:45 |\u001b[36m DEBUG    \u001b[0m| helpers.helpers_predator.predictions_utils | Removed entries first five rows (of 644): \n",
      "   PREDICTION PROTEIN MUTATION INTERACTOR\n",
      "0    0.451468  O75175    Q684H     Q9NZN8\n",
      "1    0.520435  O75175    Q684H     Q9NZN8\n",
      "2    0.463863  O75175    Q684H     Q9NZN8\n",
      "3    0.501514  O75175    Q684H     Q9NZN8\n",
      "4    0.520435  O75175    Q684H     Q9NZN8\n",
      "2021-10-25 12:28:57 |\u001b[36m DEBUG    \u001b[0m| helpers.helpers_predator.predictions_utils | Removed entries first five rows (of 531): \n",
      "   PREDICTION PROTEIN MUTATION INTERACTOR\n",
      "0    0.572385  P07332    N695H     P08581\n",
      "1    0.414452  P07332    N695H     P08581\n",
      "2    0.509759  Q9NQ66    E539K     Q15147\n",
      "3    0.499842  Q9NQ66    E539K     Q15147\n",
      "4    0.494871  Q9NQ66    E539K     Q15147\n",
      "2021-10-25 12:29:09 |\u001b[36m DEBUG    \u001b[0m| helpers.helpers_predator.predictions_utils | Removed entries first five rows (of 362): \n",
      "   PREDICTION PROTEIN MUTATION INTERACTOR\n",
      "0    0.490087  P08134     D59E     P52565\n",
      "1    0.571593  P08134     D59E     P52565\n",
      "2    0.437151  O75175    Q684H     Q9NZN8\n",
      "3    0.467955  O75175    Q684H     Q9NZN8\n",
      "4    0.452093  O75175    Q684H     Q9NZN8\n",
      "2021-10-25 12:29:21 |\u001b[36m DEBUG    \u001b[0m| helpers.helpers_predator.predictions_utils | Removed entries first five rows (of 479): \n",
      "   PREDICTION PROTEIN MUTATION INTERACTOR\n",
      "0    0.221701  P34897    F501V     P34896\n",
      "1    0.503894  P34897    F501V     P34896\n",
      "2    0.473515  P04637    R248Q     P62993\n",
      "3    0.472207  P04637    R248Q     P62993\n",
      "4    0.482495  P04637    R248Q     P62993\n",
      "2021-10-25 12:29:32 |\u001b[36m DEBUG    \u001b[0m| helpers.helpers_predator.predictions_utils | Removed entries first five rows (of 685): \n",
      "   PREDICTION PROTEIN MUTATION INTERACTOR\n",
      "0    0.564286  P00742    I451M     P10646\n",
      "1    0.489286  P00742    I451M     P10646\n",
      "2    0.489286  P00742    I451M     P10646\n",
      "3    0.514286  P00742    I451M     P10646\n",
      "4    0.514286  P00742    I451M     P10646\n",
      "2021-10-25 12:29:45 |\u001b[36m DEBUG    \u001b[0m| helpers.helpers_predator.predictions_utils | Removed entries first five rows (of 601): \n",
      "   PREDICTION PROTEIN MUTATION INTERACTOR\n",
      "0    0.572143  Q14814     K31T     Q02078\n",
      "1    0.550595  Q14814     K31T     Q02078\n",
      "2    0.355952  Q14814     K31T     Q02078\n",
      "3    0.518095  Q14814     K31T     Q02078\n",
      "4    0.355952  Q14814     K31T     Q02078\n",
      "2021-10-25 12:29:58 |\u001b[36m DEBUG    \u001b[0m| helpers.helpers_predator.predictions_utils | Removed entries first five rows (of 497): \n",
      "   PREDICTION PROTEIN MUTATION INTERACTOR\n",
      "0    0.652431  P07332    N695H     P08581\n",
      "1    0.495189  P07332    N695H     P08581\n",
      "2    0.382008  Q14814     K31T     Q02078\n",
      "3    0.341718  Q14814     K31T     Q06413\n",
      "4    0.341718  Q14814     K31T     Q06413\n",
      "2021-10-25 12:30:12 |\u001b[36m DEBUG    \u001b[0m| helpers.helpers_predator.predictions_utils | Removed entries first five rows (of 597): \n",
      "   PREDICTION PROTEIN MUTATION INTERACTOR\n",
      "0    0.574953  P07332    N695H     P08581\n",
      "1    0.429401  P07332    N695H     P08581\n",
      "2    0.536596  Q9Y6Q5    R251C     Q9BXS5\n",
      "3    0.448551  Q9Y6Q5    R251C     Q9BXS5\n",
      "4    0.541643  Q14814     K31T     Q02078\n",
      "2021-10-25 12:30:31 |\u001b[36m DEBUG    \u001b[0m| helpers.helpers_predator.predictions_utils | Removed entries first five rows (of 403): \n",
      "   PREDICTION PROTEIN MUTATION INTERACTOR\n",
      "0    0.520101  P00742    I451M     P10646\n",
      "1    0.500353  P00742    I451M     P10646\n",
      "2    0.500353  P00742    I451M     P10646\n",
      "3    0.493631  P00742    I451M     P10646\n",
      "4    0.493631  P00742    I451M     P10646\n",
      "2021-10-25 12:30:46 |\u001b[36m DEBUG    \u001b[0m| helpers.helpers_predator.predictions_utils | Removed entries first five rows (of 444): \n",
      "   PREDICTION PROTEIN MUTATION INTERACTOR\n",
      "0    0.422565  Q9NQ66    E539K     Q15147\n",
      "1    0.572411  Q9NQ66    E539K     Q15147\n",
      "2    0.584515  Q9NQ66    E539K     Q15147\n",
      "3    0.297989  Q14814     K31T     Q02078\n",
      "4    0.505497  Q14814     K31T     Q02078\n",
      "2021-10-25 12:31:00 |\u001b[36m DEBUG    \u001b[0m| helpers.helpers_predator.predictions_utils | Removed entries first five rows (of 491): \n",
      "   PREDICTION PROTEIN MUTATION INTERACTOR\n",
      "0    0.272582  O75175    Q684H     Q9NZN8\n",
      "1    0.504833  O75175    Q684H     Q9NZN8\n",
      "2    0.315746  O75175    Q684H     Q9NZN8\n",
      "3    0.268242  O75175    Q684H     Q9NZN8\n",
      "4    0.504833  O75175    Q684H     Q9NZN8\n",
      "2021-10-25 12:31:16 |\u001b[36m DEBUG    \u001b[0m| helpers.helpers_predator.predictions_utils | Removed entries first five rows (of 733): \n",
      "   PREDICTION PROTEIN MUTATION INTERACTOR\n",
      "0    0.623741  Q14814     K31T     Q02078\n",
      "1    0.800000  Q14814     K31T     Q02078\n",
      "2    0.414656  Q14814     K31T     Q02078\n",
      "3    0.899351  Q14814     K31T     Q02078\n",
      "4    0.414656  Q14814     K31T     Q02078\n",
      "2021-10-25 12:31:34 |\u001b[36m DEBUG    \u001b[0m| helpers.helpers_predator.predictions_utils | Removed entries first five rows (of 546): \n",
      "   PREDICTION PROTEIN MUTATION INTERACTOR\n",
      "0    0.482481  Q9NQ66    E539K     Q15147\n",
      "1    0.649148  Q9NQ66    E539K     Q15147\n",
      "2    0.629161  Q9NQ66    E539K     Q15147\n",
      "3    0.512593  Q9Y6Q5    R251C     Q9BXS5\n",
      "4    0.470473  Q9Y6Q5    R251C     Q9BXS5\n",
      "2021-10-25 12:31:50 |\u001b[36m DEBUG    \u001b[0m| helpers.helpers_predator.predictions_utils | Removed entries first five rows (of 553): \n",
      "   PREDICTION PROTEIN MUTATION INTERACTOR\n",
      "0    0.606414  P07332    N695H     P08581\n",
      "1    0.430686  P07332    N695H     P08581\n",
      "2    0.463666  Q14814     K31T     Q02078\n",
      "3    0.343260  Q14814     K31T     Q06413\n",
      "4    0.343260  Q14814     K31T     Q06413\n",
      "2021-10-25 12:32:03 |\u001b[36m DEBUG    \u001b[0m| helpers.helpers_predator.predictions_utils | Removed entries first five rows (of 518): \n",
      "   PREDICTION PROTEIN MUTATION INTERACTOR\n",
      "0    0.439842  Q14814     K31T     Q02078\n",
      "1    0.420564  Q14814     K31T     Q06413\n",
      "2    0.420564  Q14814     K31T     Q06413\n",
      "3    0.420564  Q14814     K31T     Q06413\n",
      "4    0.420564  Q14814     K31T     Q06413\n",
      "2021-10-25 12:32:16 |\u001b[36m DEBUG    \u001b[0m| helpers.helpers_predator.predictions_utils | Removed entries first five rows (of 303): \n",
      "   PREDICTION PROTEIN MUTATION INTERACTOR\n",
      "0    0.465259  O75175    Q684H     Q9NZN8\n",
      "1    0.572558  O75175    Q684H     Q9NZN8\n",
      "2    0.570584  O75175    Q684H     Q9NZN8\n",
      "3    0.559880  O75175    Q684H     Q9NZN8\n",
      "4    0.572558  O75175    Q684H     Q9NZN8\n",
      "2021-10-25 12:32:28 |\u001b[36m DEBUG    \u001b[0m| helpers.helpers_predator.predictions_utils | Removed entries first five rows (of 545): \n",
      "   PREDICTION PROTEIN MUTATION INTERACTOR\n",
      "0    0.505365  Q9Y6Q5    R251C     Q9BXS5\n",
      "1    0.447772  Q9Y6Q5    R251C     Q9BXS5\n",
      "2    0.413571  Q14814     K31T     Q02078\n",
      "3    0.471877  Q14814     K31T     Q06413\n",
      "4    0.471877  Q14814     K31T     Q06413\n",
      "2021-10-25 12:32:40 |\u001b[36m DEBUG    \u001b[0m| helpers.helpers_predator.predictions_utils | Removed entries first five rows (of 547): \n",
      "   PREDICTION PROTEIN MUTATION INTERACTOR\n",
      "0    0.662066  P07332    N695H     P08581\n",
      "1    0.375607  P07332    N695H     P08581\n",
      "2    0.491237  Q9NQ66    E539K     Q15147\n",
      "3    0.541802  Q9NQ66    E539K     Q15147\n",
      "4    0.529540  Q9NQ66    E539K     Q15147\n",
      "2021-10-25 12:32:40 |\u001b[36m DEBUG    \u001b[0m| helpers.helpers_predator.predictions | Preparing finalized prediction datasets for ov ..\n",
      "2021-10-25 12:32:41 |\u001b[36m DEBUG    \u001b[0m| helpers.helpers_predator.predictions | Post processing completed for ov.\n"
     ]
    }
   ],
   "source": [
    "predator.predictions_post_process()"
   ]
  },
  {
   "cell_type": "code",
   "execution_count": 27,
   "id": "90683791-df42-47a8-ae9d-6c6ba08bcafd",
   "metadata": {},
   "outputs": [
    {
     "data": {
      "text/plain": [
       "dict_keys(['ov_prob', 'ov_predicted_probs_datasets', 'ov_predicted_valid_datasets', 'ov_predicted_invalid_datasets', 'ov_finalized_prediction_dataframes'])"
      ]
     },
     "execution_count": 27,
     "metadata": {},
     "output_type": "execute_result"
    }
   ],
   "source": [
    "predator.predictions.keys()"
   ]
  },
  {
   "cell_type": "code",
   "execution_count": 28,
   "id": "fcf61287-2498-4b53-ac75-1f6baceed2a3",
   "metadata": {},
   "outputs": [
    {
     "name": "stdout",
     "output_type": "stream",
     "text": [
      "\u001b[36mData dimensions: (5086, 104)\u001b[0m\n"
     ]
    },
    {
     "data": {
      "text/html": [
       "<div>\n",
       "<style scoped>\n",
       "    .dataframe tbody tr th:only-of-type {\n",
       "        vertical-align: middle;\n",
       "    }\n",
       "\n",
       "    .dataframe tbody tr th {\n",
       "        vertical-align: top;\n",
       "    }\n",
       "\n",
       "    .dataframe thead th {\n",
       "        text-align: right;\n",
       "    }\n",
       "</style>\n",
       "<table border=\"1\" class=\"dataframe\">\n",
       "  <thead>\n",
       "    <tr style=\"text-align: right;\">\n",
       "      <th></th>\n",
       "      <th>Prediction</th>\n",
       "      <th>Input_identifier</th>\n",
       "      <th>UniProt_ID</th>\n",
       "      <th>Mutation</th>\n",
       "      <th>Status</th>\n",
       "      <th>Type</th>\n",
       "      <th>COSMIC_mut_ID</th>\n",
       "      <th>ClinVar_mut_ID</th>\n",
       "      <th>UniProt_mut_ID</th>\n",
       "      <th>Domain_name</th>\n",
       "      <th>...</th>\n",
       "      <th>number_of_residues_mut</th>\n",
       "      <th>IntraclashesEnergy1_wt</th>\n",
       "      <th>IntraclashesEnergy1_mut</th>\n",
       "      <th>IntraclashesEnergy2_wt</th>\n",
       "      <th>IntraclashesEnergy2_mut</th>\n",
       "      <th>Interface_hydrophobic_area</th>\n",
       "      <th>Interface_hydrophilic_area</th>\n",
       "      <th>Interface_total_area</th>\n",
       "      <th>Interface_contact_distance_wt</th>\n",
       "      <th>Interface_contact_distance_mut</th>\n",
       "    </tr>\n",
       "  </thead>\n",
       "  <tbody>\n",
       "    <tr>\n",
       "      <th>0</th>\n",
       "      <td>0.400473</td>\n",
       "      <td>P08134</td>\n",
       "      <td>P08134</td>\n",
       "      <td>D59E</td>\n",
       "      <td>done</td>\n",
       "      <td>interface</td>\n",
       "      <td>COSM72427</td>\n",
       "      <td>-</td>\n",
       "      <td>-</td>\n",
       "      <td>Ras</td>\n",
       "      <td>...</td>\n",
       "      <td>388.0</td>\n",
       "      <td>53.3423</td>\n",
       "      <td>55.3148</td>\n",
       "      <td>37.8150</td>\n",
       "      <td>37.8150</td>\n",
       "      <td>719.095</td>\n",
       "      <td>461.785</td>\n",
       "      <td>1180.88</td>\n",
       "      <td>3.18062</td>\n",
       "      <td>3.18062</td>\n",
       "    </tr>\n",
       "    <tr>\n",
       "      <th>1</th>\n",
       "      <td>0.368113</td>\n",
       "      <td>P08134</td>\n",
       "      <td>P08134</td>\n",
       "      <td>D59E</td>\n",
       "      <td>done</td>\n",
       "      <td>interface</td>\n",
       "      <td>COSM72427</td>\n",
       "      <td>-</td>\n",
       "      <td>-</td>\n",
       "      <td>Ras</td>\n",
       "      <td>...</td>\n",
       "      <td>344.0</td>\n",
       "      <td>62.3140</td>\n",
       "      <td>63.0691</td>\n",
       "      <td>32.5038</td>\n",
       "      <td>32.5038</td>\n",
       "      <td>598.71</td>\n",
       "      <td>417.74</td>\n",
       "      <td>1016.46</td>\n",
       "      <td>3.80414</td>\n",
       "      <td>3.80414</td>\n",
       "    </tr>\n",
       "    <tr>\n",
       "      <th>2</th>\n",
       "      <td>0.475248</td>\n",
       "      <td>P62993</td>\n",
       "      <td>P62993</td>\n",
       "      <td>A3V</td>\n",
       "      <td>done</td>\n",
       "      <td>interface</td>\n",
       "      <td>-</td>\n",
       "      <td>-</td>\n",
       "      <td>-</td>\n",
       "      <td>SH3_1</td>\n",
       "      <td>...</td>\n",
       "      <td>280.0</td>\n",
       "      <td>23.2774</td>\n",
       "      <td>24.5177</td>\n",
       "      <td>122.5120</td>\n",
       "      <td>122.5120</td>\n",
       "      <td>170.81</td>\n",
       "      <td>120.515</td>\n",
       "      <td>291.325</td>\n",
       "      <td>4.63364</td>\n",
       "      <td>4.63364</td>\n",
       "    </tr>\n",
       "  </tbody>\n",
       "</table>\n",
       "<p>3 rows × 104 columns</p>\n",
       "</div>"
      ],
      "text/plain": [
       "   Prediction Input_identifier UniProt_ID Mutation Status       Type  \\\n",
       "0    0.400473           P08134     P08134     D59E   done  interface   \n",
       "1    0.368113           P08134     P08134     D59E   done  interface   \n",
       "2    0.475248           P62993     P62993      A3V   done  interface   \n",
       "\n",
       "  COSMIC_mut_ID ClinVar_mut_ID UniProt_mut_ID Domain_name  ...  \\\n",
       "0     COSM72427              -              -         Ras  ...   \n",
       "1     COSM72427              -              -         Ras  ...   \n",
       "2             -              -              -       SH3_1  ...   \n",
       "\n",
       "  number_of_residues_mut IntraclashesEnergy1_wt IntraclashesEnergy1_mut  \\\n",
       "0                  388.0                53.3423                 55.3148   \n",
       "1                  344.0                62.3140                 63.0691   \n",
       "2                  280.0                23.2774                 24.5177   \n",
       "\n",
       "   IntraclashesEnergy2_wt  IntraclashesEnergy2_mut Interface_hydrophobic_area  \\\n",
       "0                 37.8150                  37.8150                    719.095   \n",
       "1                 32.5038                  32.5038                     598.71   \n",
       "2                122.5120                 122.5120                     170.81   \n",
       "\n",
       "  Interface_hydrophilic_area Interface_total_area  \\\n",
       "0                    461.785              1180.88   \n",
       "1                     417.74              1016.46   \n",
       "2                    120.515              291.325   \n",
       "\n",
       "  Interface_contact_distance_wt Interface_contact_distance_mut  \n",
       "0                       3.18062                        3.18062  \n",
       "1                       3.80414                        3.80414  \n",
       "2                       4.63364                        4.63364  \n",
       "\n",
       "[3 rows x 104 columns]"
      ]
     },
     "metadata": {},
     "output_type": "display_data"
    }
   ],
   "source": [
    "display_data(predator.predictions[\"ov_predicted_probs_datasets\"][0])"
   ]
  },
  {
   "cell_type": "code",
   "execution_count": 29,
   "id": "a603e902-b663-49e2-92c5-e6167cc06699",
   "metadata": {},
   "outputs": [
    {
     "data": {
      "image/png": "[encoded data removed]",
      "text/plain": [
       "<Figure size 1080x360 with 1 Axes>"
      ]
     },
     "metadata": {},
     "output_type": "display_data"
    }
   ],
   "source": [
    "predator.predictions.plot_distribution_valid_vs_invalid(\"ov\")"
   ]
  },
  {
   "cell_type": "code",
   "execution_count": 30,
   "id": "77147287-c7ce-4771-b0ed-e45479644ccb",
   "metadata": {},
   "outputs": [
    {
     "name": "stdout",
     "output_type": "stream",
     "text": [
      "2021-10-25 12:33:39 |\u001b[36m DEBUG    \u001b[0m| helpers.helpers_predator.predictions | Plotting number of finalized predictions per model.\n",
      "Note that following plot shows the number of (protein, mutation, interactor) triplets which had valid prediction.\n"
     ]
    },
    {
     "data": {
      "image/png": "[encoded data removed]",
      "text/plain": [
       "<Figure size 1080x360 with 1 Axes>"
      ]
     },
     "metadata": {},
     "output_type": "display_data"
    }
   ],
   "source": [
    "predator.predictions.plot_num_finalized_predictions(\"ov\")"
   ]
  },
  {
   "cell_type": "code",
   "execution_count": 31,
   "id": "a0762893-11a8-43c7-8b93-1b214a1a85e4",
   "metadata": {},
   "outputs": [
    {
     "name": "stdout",
     "output_type": "stream",
     "text": [
      "\u001b[36mData dimensions: (3354, 4)\u001b[0m\n"
     ]
    },
    {
     "data": {
      "text/html": [
       "<div>\n",
       "<style scoped>\n",
       "    .dataframe tbody tr th:only-of-type {\n",
       "        vertical-align: middle;\n",
       "    }\n",
       "\n",
       "    .dataframe tbody tr th {\n",
       "        vertical-align: top;\n",
       "    }\n",
       "\n",
       "    .dataframe thead th {\n",
       "        text-align: right;\n",
       "    }\n",
       "</style>\n",
       "<table border=\"1\" class=\"dataframe\">\n",
       "  <thead>\n",
       "    <tr style=\"text-align: right;\">\n",
       "      <th></th>\n",
       "      <th>Prediction</th>\n",
       "      <th>UniProt_ID</th>\n",
       "      <th>Mutation</th>\n",
       "      <th>Interactor_UniProt_ID</th>\n",
       "    </tr>\n",
       "  </thead>\n",
       "  <tbody>\n",
       "    <tr>\n",
       "      <th>0</th>\n",
       "      <td>0.400473</td>\n",
       "      <td>P08134</td>\n",
       "      <td>D59E</td>\n",
       "      <td>P52565</td>\n",
       "    </tr>\n",
       "    <tr>\n",
       "      <th>1</th>\n",
       "      <td>0.368113</td>\n",
       "      <td>P08134</td>\n",
       "      <td>D59E</td>\n",
       "      <td>P52565</td>\n",
       "    </tr>\n",
       "    <tr>\n",
       "      <th>2</th>\n",
       "      <td>0.475248</td>\n",
       "      <td>P62993</td>\n",
       "      <td>A3V</td>\n",
       "      <td>Q9H8V3</td>\n",
       "    </tr>\n",
       "  </tbody>\n",
       "</table>\n",
       "</div>"
      ],
      "text/plain": [
       "   Prediction UniProt_ID Mutation Interactor_UniProt_ID\n",
       "0    0.400473     P08134     D59E                P52565\n",
       "1    0.368113     P08134     D59E                P52565\n",
       "2    0.475248     P62993      A3V                Q9H8V3"
      ]
     },
     "metadata": {},
     "output_type": "display_data"
    }
   ],
   "source": [
    "display_data(predator.predictions['ov_finalized_prediction_dataframes'][0])"
   ]
  },
  {
   "cell_type": "code",
   "execution_count": 32,
   "id": "7fab8dc7-62ea-4cba-bdfa-0a8187a53a27",
   "metadata": {
    "scrolled": true,
    "tags": []
   },
   "outputs": [
    {
     "name": "stdout",
     "output_type": "stream",
     "text": [
      "2021-10-25 12:33:41 |\u001b[32m INFO     \u001b[0m| helpers.helpers_predator.predictions | PredictionsSoft\n",
      "2021-10-25 12:33:41 |\u001b[32m INFO     \u001b[0m| helpers.helpers_predator.predictions | Preparing ensemble prediction data for ov taking median ..\n"
     ]
    },
    {
     "data": {
      "application/vnd.jupyter.widget-view+json": {
       "model_id": "e967d76f81144d6d835a675cbc04b01f",
       "version_major": 2,
       "version_minor": 0
      },
      "text/plain": [
       "  0%|          | 0/37 [00:00<?, ?it/s]"
      ]
     },
     "metadata": {},
     "output_type": "display_data"
    },
    {
     "name": "stdout",
     "output_type": "stream",
     "text": [
      "2021-10-25 12:36:51 |\u001b[36m DEBUG    \u001b[0m| helpers.helpers_predator.predictions | Prediction probabilities data for ov is prepared.\n",
      "Accessible from `ov_predictions_prob_data`.\n",
      "2021-10-25 12:36:51 |\u001b[36m DEBUG    \u001b[0m| helpers.helpers_predator.predictions | Ensemble prediction data for ov is prepared.\n",
      "Accessible from `ov_ensemble_prediction_data`.\n",
      "2021-10-25 12:36:51 |\u001b[36m DEBUG    \u001b[0m| helpers.helpers_predator.predictions | Resulting prediction data is available for ov.\n",
      "Accessible from predictions.['ov_prediction_results']\n",
      "2021-10-25 12:36:51 |\u001b[36m DEBUG    \u001b[0m| helpers.helpers_predator.predictions | Resulting prediction data (no_votes dropped) is available for ov.\n",
      "Accessible from predictions.['ov_prediction_results_no_votes_dropped']\n"
     ]
    }
   ],
   "source": [
    "predator.prepare_ensemble_prediction_data()"
   ]
  },
  {
   "cell_type": "code",
   "execution_count": 33,
   "id": "0ffd0f8a-b82f-4733-9a31-2d350402fecb",
   "metadata": {},
   "outputs": [
    {
     "name": "stdout",
     "output_type": "stream",
     "text": [
      "\u001b[36mData dimensions: (2578, 39)\u001b[0m\n"
     ]
    },
    {
     "data": {
      "text/html": [
       "<div>\n",
       "<style scoped>\n",
       "    .dataframe tbody tr th:only-of-type {\n",
       "        vertical-align: middle;\n",
       "    }\n",
       "\n",
       "    .dataframe tbody tr th {\n",
       "        vertical-align: top;\n",
       "    }\n",
       "\n",
       "    .dataframe thead th {\n",
       "        text-align: right;\n",
       "    }\n",
       "</style>\n",
       "<table border=\"1\" class=\"dataframe\">\n",
       "  <thead>\n",
       "    <tr style=\"text-align: right;\">\n",
       "      <th></th>\n",
       "      <th>Trial 0</th>\n",
       "      <th>Trial 1</th>\n",
       "      <th>Trial 2</th>\n",
       "      <th>Trial 3</th>\n",
       "      <th>Trial 4</th>\n",
       "      <th>Trial 5</th>\n",
       "      <th>Trial 6</th>\n",
       "      <th>Trial 7</th>\n",
       "      <th>Trial 8</th>\n",
       "      <th>Trial 9</th>\n",
       "      <th>...</th>\n",
       "      <th>Trial 29</th>\n",
       "      <th>Trial 30</th>\n",
       "      <th>Trial 31</th>\n",
       "      <th>Trial 32</th>\n",
       "      <th>Trial 33</th>\n",
       "      <th>Trial 34</th>\n",
       "      <th>Trial 35</th>\n",
       "      <th>Trial 36</th>\n",
       "      <th>PROB_1s_AVG</th>\n",
       "      <th>VOTED_PREDICTION</th>\n",
       "    </tr>\n",
       "  </thead>\n",
       "  <tbody>\n",
       "    <tr>\n",
       "      <th>0</th>\n",
       "      <td>0.384293</td>\n",
       "      <td>0</td>\n",
       "      <td>0.194061</td>\n",
       "      <td>0.349944</td>\n",
       "      <td>0.170285</td>\n",
       "      <td>0.350122</td>\n",
       "      <td>0.464967</td>\n",
       "      <td>0.118365</td>\n",
       "      <td>0.233145</td>\n",
       "      <td>0.387556</td>\n",
       "      <td>...</td>\n",
       "      <td>0.151618</td>\n",
       "      <td>0.197612</td>\n",
       "      <td>0.218545</td>\n",
       "      <td>0.419339</td>\n",
       "      <td>0.370928</td>\n",
       "      <td>0.356374</td>\n",
       "      <td>0.312893</td>\n",
       "      <td>0.329366</td>\n",
       "      <td>0.28821</td>\n",
       "      <td>0</td>\n",
       "    </tr>\n",
       "    <tr>\n",
       "      <th>1</th>\n",
       "      <td>0.475248</td>\n",
       "      <td>0.566667</td>\n",
       "      <td>0.363724</td>\n",
       "      <td>0.487851</td>\n",
       "      <td>0.533333</td>\n",
       "      <td>0.588556</td>\n",
       "      <td>0.443974</td>\n",
       "      <td>0.277278</td>\n",
       "      <td>0.443032</td>\n",
       "      <td>0.453923</td>\n",
       "      <td>...</td>\n",
       "      <td>0.611111</td>\n",
       "      <td>0.573617</td>\n",
       "      <td>0.348948</td>\n",
       "      <td>0.595144</td>\n",
       "      <td>0.436047</td>\n",
       "      <td>0.553531</td>\n",
       "      <td>0.433921</td>\n",
       "      <td>0.506438</td>\n",
       "      <td>0.44397</td>\n",
       "      <td>0</td>\n",
       "    </tr>\n",
       "    <tr>\n",
       "      <th>2</th>\n",
       "      <td>0.561579</td>\n",
       "      <td>0.566667</td>\n",
       "      <td>0.310791</td>\n",
       "      <td>0.483148</td>\n",
       "      <td>0.603261</td>\n",
       "      <td>0.701266</td>\n",
       "      <td>0.51214</td>\n",
       "      <td>0.309409</td>\n",
       "      <td>0.614093</td>\n",
       "      <td>0.567638</td>\n",
       "      <td>...</td>\n",
       "      <td>0.644444</td>\n",
       "      <td>0.373617</td>\n",
       "      <td>0.360463</td>\n",
       "      <td>0.639978</td>\n",
       "      <td>0.541017</td>\n",
       "      <td>0.683096</td>\n",
       "      <td>0.640331</td>\n",
       "      <td>0.423847</td>\n",
       "      <td>0.51214</td>\n",
       "      <td>1</td>\n",
       "    </tr>\n",
       "  </tbody>\n",
       "</table>\n",
       "<p>3 rows × 39 columns</p>\n",
       "</div>"
      ],
      "text/plain": [
       "    Trial 0   Trial 1   Trial 2   Trial 3   Trial 4   Trial 5   Trial 6  \\\n",
       "0  0.384293         0  0.194061  0.349944  0.170285  0.350122  0.464967   \n",
       "1  0.475248  0.566667  0.363724  0.487851  0.533333  0.588556  0.443974   \n",
       "2  0.561579  0.566667  0.310791  0.483148  0.603261  0.701266   0.51214   \n",
       "\n",
       "    Trial 7   Trial 8   Trial 9  ...  Trial 29  Trial 30  Trial 31  Trial 32  \\\n",
       "0  0.118365  0.233145  0.387556  ...  0.151618  0.197612  0.218545  0.419339   \n",
       "1  0.277278  0.443032  0.453923  ...  0.611111  0.573617  0.348948  0.595144   \n",
       "2  0.309409  0.614093  0.567638  ...  0.644444  0.373617  0.360463  0.639978   \n",
       "\n",
       "   Trial 33  Trial 34  Trial 35  Trial 36 PROB_1s_AVG VOTED_PREDICTION  \n",
       "0  0.370928  0.356374  0.312893  0.329366     0.28821                0  \n",
       "1  0.436047  0.553531  0.433921  0.506438     0.44397                0  \n",
       "2  0.541017  0.683096  0.640331  0.423847     0.51214                1  \n",
       "\n",
       "[3 rows x 39 columns]"
      ]
     },
     "metadata": {},
     "output_type": "display_data"
    }
   ],
   "source": [
    "display_data(predator.predictions['ov_predictions_prob_data'])"
   ]
  },
  {
   "cell_type": "code",
   "execution_count": 34,
   "id": "f2b38467-e658-4ed6-9ac0-6de1f1017ce7",
   "metadata": {},
   "outputs": [
    {
     "data": {
      "image/png": "[encoded data removed]",
      "text/plain": [
       "<Figure size 432x288 with 1 Axes>"
      ]
     },
     "metadata": {},
     "output_type": "display_data"
    }
   ],
   "source": [
    "predator.predictions.plot_ensemble_prediction_distribution(\"ov\")"
   ]
  },
  {
   "cell_type": "code",
   "execution_count": 35,
   "id": "c454d6a9-5c73-4fe6-b609-e7b160e2ddb8",
   "metadata": {},
   "outputs": [
    {
     "name": "stdout",
     "output_type": "stream",
     "text": [
      "\u001b[36mData dimensions: (2578, 4)\u001b[0m\n"
     ]
    },
    {
     "data": {
      "text/html": [
       "<div>\n",
       "<style scoped>\n",
       "    .dataframe tbody tr th:only-of-type {\n",
       "        vertical-align: middle;\n",
       "    }\n",
       "\n",
       "    .dataframe tbody tr th {\n",
       "        vertical-align: top;\n",
       "    }\n",
       "\n",
       "    .dataframe thead th {\n",
       "        text-align: right;\n",
       "    }\n",
       "</style>\n",
       "<table border=\"1\" class=\"dataframe\">\n",
       "  <thead>\n",
       "    <tr style=\"text-align: right;\">\n",
       "      <th></th>\n",
       "      <th>UniProt_ID</th>\n",
       "      <th>Mutation</th>\n",
       "      <th>Interactor_UniProt_ID</th>\n",
       "      <th>Prediction</th>\n",
       "    </tr>\n",
       "  </thead>\n",
       "  <tbody>\n",
       "    <tr>\n",
       "      <th>0</th>\n",
       "      <td>P08134</td>\n",
       "      <td>D59E</td>\n",
       "      <td>P52565</td>\n",
       "      <td>0</td>\n",
       "    </tr>\n",
       "    <tr>\n",
       "      <th>1</th>\n",
       "      <td>P62993</td>\n",
       "      <td>A3V</td>\n",
       "      <td>Q9H8V3</td>\n",
       "      <td>0</td>\n",
       "    </tr>\n",
       "    <tr>\n",
       "      <th>2</th>\n",
       "      <td>P62993</td>\n",
       "      <td>A3V</td>\n",
       "      <td>Q14155</td>\n",
       "      <td>1</td>\n",
       "    </tr>\n",
       "  </tbody>\n",
       "</table>\n",
       "</div>"
      ],
      "text/plain": [
       "  UniProt_ID Mutation Interactor_UniProt_ID Prediction\n",
       "0     P08134     D59E                P52565          0\n",
       "1     P62993      A3V                Q9H8V3          0\n",
       "2     P62993      A3V                Q14155          1"
      ]
     },
     "metadata": {},
     "output_type": "display_data"
    }
   ],
   "source": [
    "ov_prediction_results_soft = predator.predictions['ov_prediction_results']\n",
    "display_data(ov_prediction_results_soft)"
   ]
  },
  {
   "cell_type": "code",
   "execution_count": 36,
   "id": "569c4dd1-e2d9-40d0-b7c0-1cc177adfabb",
   "metadata": {},
   "outputs": [
    {
     "name": "stdout",
     "output_type": "stream",
     "text": [
      "\u001b[36mData dimensions: (2509, 4)\u001b[0m\n"
     ]
    },
    {
     "data": {
      "text/html": [
       "<div>\n",
       "<style scoped>\n",
       "    .dataframe tbody tr th:only-of-type {\n",
       "        vertical-align: middle;\n",
       "    }\n",
       "\n",
       "    .dataframe tbody tr th {\n",
       "        vertical-align: top;\n",
       "    }\n",
       "\n",
       "    .dataframe thead th {\n",
       "        text-align: right;\n",
       "    }\n",
       "</style>\n",
       "<table border=\"1\" class=\"dataframe\">\n",
       "  <thead>\n",
       "    <tr style=\"text-align: right;\">\n",
       "      <th></th>\n",
       "      <th>UniProt_ID</th>\n",
       "      <th>Mutation</th>\n",
       "      <th>Interactor_UniProt_ID</th>\n",
       "      <th>Prediction</th>\n",
       "    </tr>\n",
       "  </thead>\n",
       "  <tbody>\n",
       "    <tr>\n",
       "      <th>0</th>\n",
       "      <td>P08134</td>\n",
       "      <td>D59E</td>\n",
       "      <td>P52565</td>\n",
       "      <td>0</td>\n",
       "    </tr>\n",
       "    <tr>\n",
       "      <th>1</th>\n",
       "      <td>P62993</td>\n",
       "      <td>A3V</td>\n",
       "      <td>Q9H8V3</td>\n",
       "      <td>0</td>\n",
       "    </tr>\n",
       "    <tr>\n",
       "      <th>2</th>\n",
       "      <td>P62993</td>\n",
       "      <td>A3V</td>\n",
       "      <td>Q14155</td>\n",
       "      <td>1</td>\n",
       "    </tr>\n",
       "  </tbody>\n",
       "</table>\n",
       "</div>"
      ],
      "text/plain": [
       "  UniProt_ID Mutation Interactor_UniProt_ID Prediction\n",
       "0     P08134     D59E                P52565          0\n",
       "1     P62993      A3V                Q9H8V3          0\n",
       "2     P62993      A3V                Q14155          1"
      ]
     },
     "metadata": {},
     "output_type": "display_data"
    }
   ],
   "source": [
    "ov_prediction_results_soft_no_votes_dropped = predator.predictions[\"ov_prediction_results_no_votes_dropped\"]\n",
    "display_data(ov_prediction_results_soft_no_votes_dropped)"
   ]
  },
  {
   "cell_type": "code",
   "execution_count": 37,
   "id": "f6b37226-566a-4366-9a51-57490bfc2f2b",
   "metadata": {},
   "outputs": [
    {
     "name": "stdout",
     "output_type": "stream",
     "text": [
      "\u001b[36mLabel counts:\n",
      "Disrupting                1331\n",
      "Increasing + No Effect    1178\n",
      "Name: Prediction, dtype: int64\u001b[0m\n"
     ]
    },
    {
     "data": {
      "image/png": "[encoded data removed]",
      "text/plain": [
       "<Figure size 432x288 with 1 Axes>"
      ]
     },
     "metadata": {},
     "output_type": "display_data"
    }
   ],
   "source": [
    "visualize_label_counts(ov_prediction_results_soft_no_votes_dropped, 'Prediction')"
   ]
  },
  {
   "cell_type": "code",
   "execution_count": 38,
   "id": "37c0a11a-e87e-40af-ba8a-8a28b82d956d",
   "metadata": {},
   "outputs": [],
   "source": [
    "ov_ensemble_prediction_data_soft = predator.predictions[\"ov_ensemble_prediction_data\"]"
   ]
  },
  {
   "cell_type": "code",
   "execution_count": 39,
   "id": "e4995e62-dfd6-4b54-bd6c-67a62eefb6a6",
   "metadata": {},
   "outputs": [],
   "source": [
    "ov_predictions_prob_data_soft = predator.predictions[\"ov_predictions_prob_data\"]"
   ]
  },
  {
   "cell_type": "markdown",
   "id": "d67ab239-1c4d-404e-b272-a271751dd607",
   "metadata": {},
   "source": [
    "## Exporting Predictions"
   ]
  },
  {
   "cell_type": "code",
   "execution_count": 40,
   "id": "9a94b745-4a6d-46d4-a559-4fe47bc2a7b3",
   "metadata": {},
   "outputs": [
    {
     "name": "stdout",
     "output_type": "stream",
     "text": [
      "\u001b[36mData dimensions: (2509, 4)\u001b[0m\n"
     ]
    },
    {
     "data": {
      "text/html": [
       "<div>\n",
       "<style scoped>\n",
       "    .dataframe tbody tr th:only-of-type {\n",
       "        vertical-align: middle;\n",
       "    }\n",
       "\n",
       "    .dataframe tbody tr th {\n",
       "        vertical-align: top;\n",
       "    }\n",
       "\n",
       "    .dataframe thead th {\n",
       "        text-align: right;\n",
       "    }\n",
       "</style>\n",
       "<table border=\"1\" class=\"dataframe\">\n",
       "  <thead>\n",
       "    <tr style=\"text-align: right;\">\n",
       "      <th></th>\n",
       "      <th>UniProt_ID</th>\n",
       "      <th>Mutation</th>\n",
       "      <th>Interactor_UniProt_ID</th>\n",
       "      <th>Prediction</th>\n",
       "    </tr>\n",
       "  </thead>\n",
       "  <tbody>\n",
       "    <tr>\n",
       "      <th>0</th>\n",
       "      <td>P08134</td>\n",
       "      <td>D59E</td>\n",
       "      <td>P52565</td>\n",
       "      <td>0</td>\n",
       "    </tr>\n",
       "    <tr>\n",
       "      <th>1</th>\n",
       "      <td>P62993</td>\n",
       "      <td>A3V</td>\n",
       "      <td>Q9H8V3</td>\n",
       "      <td>0</td>\n",
       "    </tr>\n",
       "    <tr>\n",
       "      <th>2</th>\n",
       "      <td>P62993</td>\n",
       "      <td>A3V</td>\n",
       "      <td>Q14155</td>\n",
       "      <td>1</td>\n",
       "    </tr>\n",
       "  </tbody>\n",
       "</table>\n",
       "</div>"
      ],
      "text/plain": [
       "  UniProt_ID Mutation Interactor_UniProt_ID Prediction\n",
       "0     P08134     D59E                P52565          0\n",
       "1     P62993      A3V                Q9H8V3          0\n",
       "2     P62993      A3V                Q14155          1"
      ]
     },
     "metadata": {},
     "output_type": "display_data"
    }
   ],
   "source": [
    "# ov_prediction_results = ov_prediction_results_hard_no_votes_dropped\n",
    "ov_prediction_results = ov_prediction_results_soft_no_votes_dropped\n",
    "display_data(ov_prediction_results)"
   ]
  },
  {
   "cell_type": "code",
   "execution_count": 43,
   "id": "b262c305-ca60-46dc-85aa-7690ac89c5d3",
   "metadata": {},
   "outputs": [
    {
     "name": "stdout",
     "output_type": "stream",
     "text": [
      "2021-11-06 13:16:19 |\u001b[36m DEBUG    \u001b[0m| helpers.helpers_predator.common | Folder with ID 7c3ce671 is created.\n",
      "2021-11-06 13:16:19 |\u001b[36m DEBUG    \u001b[0m| helpers.helpers_predator.common | Exporting data predictions at location ../data/predictions_datasets/ in folder ov_prediction_2021-11-06\\7c3ce671..\n",
      "2021-11-06 13:16:20 |\u001b[32m INFO     \u001b[0m| helpers.helpers_predator.common | ../data/predictions_datasets/ov_prediction_2021-11-06\\7c3ce671\\predictions_soft_2021-11-06.csv is exported successfully.\n",
      "2021-11-06 13:16:20 |\u001b[32m INFO     \u001b[0m| helpers.helpers_predator.common | Config is exported.\n"
     ]
    }
   ],
   "source": [
    "predator.export_prediction(\n",
    "    tcga=\"ov\",\n",
    "    data=ov_prediction_results,\n",
    "    file_name=\"predictions\",\n",
    "    folder_path=PREDICTIONS_DATASETS_FOLDER_PATH,\n",
    "    voting=\"soft\",\n",
    "    overwrite=False,\n",
    "    file_extension='csv'\n",
    ")"
   ]
  },
  {
   "cell_type": "markdown",
   "id": "6ecc002b-2ec4-4a66-9dfa-30e5c4c107f8",
   "metadata": {},
   "source": [
    "---"
   ]
  },
  {
   "cell_type": "code",
   "execution_count": null,
   "id": "76fbe1ea-9846-42b2-a1d5-a09a1d928a4f",
   "metadata": {},
   "outputs": [],
   "source": []
  }
 ],
 "metadata": {
  "kernelspec": {
   "display_name": "Predicting-Mutation-Effects",
   "language": "python",
   "name": "predicting-mutation-effects"
  },
  "language_info": {
   "codemirror_mode": {
    "name": "ipython",
    "version": 3
   },
   "file_extension": ".py",
   "mimetype": "text/x-python",
   "name": "python",
   "nbconvert_exporter": "python",
   "pygments_lexer": "ipython3",
   "version": "3.8.10"
  },
  "toc-autonumbering": false
 },
 "nbformat": 4,
 "nbformat_minor": 5
}
