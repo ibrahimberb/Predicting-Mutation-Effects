{
 "cells": [
  {
   "cell_type": "markdown",
   "metadata": {},
   "source": [
    "# Prediction of Mutation Effect"
   ]
  },
  {
   "cell_type": "markdown",
   "metadata": {},
   "source": [
    "\n",
    "<b><i class=\"fa fa-folder-o\" area-hidden=\"true\" style=\"color:#1976D2\"> </i>&nbsp; File Location</b><br>\n",
    "<p style=\"background:#F5F5F5; text-indent: 1em;\">\n",
    "<code style=\"background:#F5F5F5; color:#404040; font-weight:bold\">C:\\Users\\ibrah\\Desktop\\TUSEB_Study\\Prediction_of_Mutation_Effects\\Machine_Learning\\ML_7</code>\n",
    "</p>\n",
    "\n",
    "<b><i class=\"far fa-file\" area-hidden=\"true\" style=\"color:#1976D2\"> </i>&nbsp; File Name</b>\n",
    "<p style=\"background:#F5F5F5; text-indent: 1em;\">\n",
    "<code style=\"background:#F5F5F5; color:#404040; font-weight:bold\">01_Single_protein_single_position.ipynb</code>\n",
    "</p>\n",
    "\n",
    "<b><i class=\"far fa-calendar-alt\" area-hidden=\"true\" style=\"color:#1976D2\"> </i>&nbsp; Last Edited</b>\n",
    "<p style=\"background:#F5F5F5; text-indent: 1em;\">\n",
    "<code style=\"background:#F5F5F5; color:#404040; font-weight:bold\">July 9th, 2021</code>\n",
    "</p>\n"
   ]
  },
  {
   "cell_type": "markdown",
   "metadata": {},
   "source": [
    "<div class=\"alert alert-block\" style=\"background-color: #F5F5F5; border: 1px solid; padding: 10px; border-color: #E0E0E0\">\n",
    "    <b><i class=\"fa fa-compass\" aria-hidden=\"true\" style=\"color:#404040\"></i></b>&nbsp; <b style=\"color: #404040\">Purpose </b> <br>\n",
    "<div>\n",
    "\n",
    "    \n",
    "- [x] $\\textit{mutation effect label}$ prediction using Random Forest algorithm.\n",
    "    \n",
    "\n",
    "- [x] Classification will be $\\textit{Disrupting vs (No effect + Increasing)}$.\n",
    "    > $\\textit{Disrupting} → 0$\\\n",
    "    > $\\textit{No effect + Increasing} → 1$\\\n",
    "    > $\\textit{Decreasing} → \\textit{ignored}$\n",
    "    \n",
    "    \n",
    "- [x] Evaluate the performane of the model.\n",
    "    \n",
    "- [x] Training set will be consisting of one type of gene.\\\n",
    "    I have tried with 5 features. Results are not that good.\n",
    "    \n",
    "    \n",
    "**Dependent files:**\n",
    "* Training (mutations) data:\n",
    "    - *training_data_M1.txt*\n"
   ]
  },
  {
   "cell_type": "markdown",
   "metadata": {},
   "source": [
    "## Setup"
   ]
  },
  {
   "cell_type": "code",
   "execution_count": 2,
   "metadata": {},
   "outputs": [],
   "source": [
    "# Common imports\n",
    "import pandas as pd\n",
    "import numpy as np\n",
    "import matplotlib.pyplot as plt\n",
    "import os\n",
    "import sys\n",
    "import seaborn as sns\n",
    "from IPython.display import display\n",
    "\n",
    "# To make this notebook's output stable across runs\n",
    "# np.random.seed(42)\n",
    "\n",
    "# PATHS\n",
    "PROJECT_COMMON_FILE_DIR = \"../ML_common_files/\"\n",
    "MUTATIONS_PATH = \"training_data_M1.txt\"\n",
    "\n",
    "def print_annotation(s):\n",
    "    print(f\"\\n{s}\\n{'-' * len(s)}\")\n",
    "\n",
    "def get_file_path(filename):\n",
    "    return os.path.join(PROJECT_COMMON_FILE_DIR, filename)\n"
   ]
  },
  {
   "cell_type": "markdown",
   "metadata": {},
   "source": [
    "## Reading the Datasets"
   ]
  },
  {
   "cell_type": "markdown",
   "metadata": {},
   "source": [
    "### 1. Training Data: Mutations"
   ]
  },
  {
   "cell_type": "code",
   "execution_count": 3,
   "metadata": {},
   "outputs": [
    {
     "name": "stdout",
     "output_type": "stream",
     "text": [
      "\n",
      "Size of dataframe: (1101, 104)\n",
      "------------------------------\n"
     ]
    },
    {
     "data": {
      "text/html": [
       "<div>\n",
       "<style scoped>\n",
       "    .dataframe tbody tr th:only-of-type {\n",
       "        vertical-align: middle;\n",
       "    }\n",
       "\n",
       "    .dataframe tbody tr th {\n",
       "        vertical-align: top;\n",
       "    }\n",
       "\n",
       "    .dataframe thead th {\n",
       "        text-align: right;\n",
       "    }\n",
       "</style>\n",
       "<table border=\"1\" class=\"dataframe\">\n",
       "  <thead>\n",
       "    <tr style=\"text-align: right;\">\n",
       "      <th></th>\n",
       "      <th>Mutation_Effect_Label</th>\n",
       "      <th>Input_identifier</th>\n",
       "      <th>UniProt_ID</th>\n",
       "      <th>Mutation</th>\n",
       "      <th>Status</th>\n",
       "      <th>Type</th>\n",
       "      <th>COSMIC_mut_ID</th>\n",
       "      <th>ClinVar_mut_ID</th>\n",
       "      <th>UniProt_mut_ID</th>\n",
       "      <th>Domain_name</th>\n",
       "      <th>...</th>\n",
       "      <th>number_of_residues_mut</th>\n",
       "      <th>IntraclashesEnergy1_wt</th>\n",
       "      <th>IntraclashesEnergy1_mut</th>\n",
       "      <th>IntraclashesEnergy2_wt</th>\n",
       "      <th>IntraclashesEnergy2_mut</th>\n",
       "      <th>Interface_hydrophobic_area</th>\n",
       "      <th>Interface_hydrophilic_area</th>\n",
       "      <th>Interface_total_area</th>\n",
       "      <th>Interface_contact_distance_wt</th>\n",
       "      <th>Interface_contact_distance_mut</th>\n",
       "    </tr>\n",
       "  </thead>\n",
       "  <tbody>\n",
       "    <tr>\n",
       "      <th>0</th>\n",
       "      <td>mutation decreasing rate(MI:1130)</td>\n",
       "      <td>P63000</td>\n",
       "      <td>P63000</td>\n",
       "      <td>Q61L</td>\n",
       "      <td>done</td>\n",
       "      <td>interface</td>\n",
       "      <td>-</td>\n",
       "      <td>-</td>\n",
       "      <td>-</td>\n",
       "      <td>Ras</td>\n",
       "      <td>...</td>\n",
       "      <td>378.0</td>\n",
       "      <td>40.0165</td>\n",
       "      <td>40.2638</td>\n",
       "      <td>61.9441</td>\n",
       "      <td>61.9441</td>\n",
       "      <td>None</td>\n",
       "      <td>None</td>\n",
       "      <td>None</td>\n",
       "      <td>3.7681</td>\n",
       "      <td>3.21627</td>\n",
       "    </tr>\n",
       "    <tr>\n",
       "      <th>1</th>\n",
       "      <td>mutation decreasing rate(MI:1130)</td>\n",
       "      <td>P63000</td>\n",
       "      <td>P63000</td>\n",
       "      <td>Q61L</td>\n",
       "      <td>done</td>\n",
       "      <td>interface</td>\n",
       "      <td>-</td>\n",
       "      <td>-</td>\n",
       "      <td>-</td>\n",
       "      <td>Ras</td>\n",
       "      <td>...</td>\n",
       "      <td>378.0</td>\n",
       "      <td>40.0165</td>\n",
       "      <td>40.2638</td>\n",
       "      <td>61.9441</td>\n",
       "      <td>61.9441</td>\n",
       "      <td>None</td>\n",
       "      <td>None</td>\n",
       "      <td>None</td>\n",
       "      <td>3.7681</td>\n",
       "      <td>3.21627</td>\n",
       "    </tr>\n",
       "    <tr>\n",
       "      <th>2</th>\n",
       "      <td>mutation decreasing rate(MI:1130)</td>\n",
       "      <td>P63000</td>\n",
       "      <td>P63000</td>\n",
       "      <td>Q61L</td>\n",
       "      <td>done</td>\n",
       "      <td>interface</td>\n",
       "      <td>-</td>\n",
       "      <td>-</td>\n",
       "      <td>-</td>\n",
       "      <td>Ras</td>\n",
       "      <td>...</td>\n",
       "      <td>378.0</td>\n",
       "      <td>40.0165</td>\n",
       "      <td>40.2638</td>\n",
       "      <td>61.9441</td>\n",
       "      <td>61.9441</td>\n",
       "      <td>None</td>\n",
       "      <td>None</td>\n",
       "      <td>None</td>\n",
       "      <td>3.7681</td>\n",
       "      <td>3.21627</td>\n",
       "    </tr>\n",
       "    <tr>\n",
       "      <th>3</th>\n",
       "      <td>mutation decreasing rate(MI:1130)</td>\n",
       "      <td>P63000</td>\n",
       "      <td>P63000</td>\n",
       "      <td>Q61L</td>\n",
       "      <td>done</td>\n",
       "      <td>interface</td>\n",
       "      <td>-</td>\n",
       "      <td>-</td>\n",
       "      <td>-</td>\n",
       "      <td>Ras</td>\n",
       "      <td>...</td>\n",
       "      <td>378.0</td>\n",
       "      <td>40.0165</td>\n",
       "      <td>40.2638</td>\n",
       "      <td>61.9441</td>\n",
       "      <td>61.9441</td>\n",
       "      <td>None</td>\n",
       "      <td>None</td>\n",
       "      <td>None</td>\n",
       "      <td>3.7681</td>\n",
       "      <td>3.21627</td>\n",
       "    </tr>\n",
       "    <tr>\n",
       "      <th>4</th>\n",
       "      <td>mutation decreasing rate(MI:1130)</td>\n",
       "      <td>P63000</td>\n",
       "      <td>P63000</td>\n",
       "      <td>Q61L</td>\n",
       "      <td>done</td>\n",
       "      <td>interface</td>\n",
       "      <td>-</td>\n",
       "      <td>-</td>\n",
       "      <td>-</td>\n",
       "      <td>Ras</td>\n",
       "      <td>...</td>\n",
       "      <td>378.0</td>\n",
       "      <td>40.0165</td>\n",
       "      <td>40.2638</td>\n",
       "      <td>61.9441</td>\n",
       "      <td>61.9441</td>\n",
       "      <td>None</td>\n",
       "      <td>None</td>\n",
       "      <td>None</td>\n",
       "      <td>3.7681</td>\n",
       "      <td>3.21627</td>\n",
       "    </tr>\n",
       "  </tbody>\n",
       "</table>\n",
       "<p>5 rows × 104 columns</p>\n",
       "</div>"
      ],
      "text/plain": [
       "               Mutation_Effect_Label Input_identifier UniProt_ID Mutation  \\\n",
       "0  mutation decreasing rate(MI:1130)           P63000     P63000     Q61L   \n",
       "1  mutation decreasing rate(MI:1130)           P63000     P63000     Q61L   \n",
       "2  mutation decreasing rate(MI:1130)           P63000     P63000     Q61L   \n",
       "3  mutation decreasing rate(MI:1130)           P63000     P63000     Q61L   \n",
       "4  mutation decreasing rate(MI:1130)           P63000     P63000     Q61L   \n",
       "\n",
       "  Status       Type COSMIC_mut_ID ClinVar_mut_ID UniProt_mut_ID Domain_name  \\\n",
       "0   done  interface             -              -              -         Ras   \n",
       "1   done  interface             -              -              -         Ras   \n",
       "2   done  interface             -              -              -         Ras   \n",
       "3   done  interface             -              -              -         Ras   \n",
       "4   done  interface             -              -              -         Ras   \n",
       "\n",
       "   ... number_of_residues_mut IntraclashesEnergy1_wt IntraclashesEnergy1_mut  \\\n",
       "0  ...                  378.0                40.0165                 40.2638   \n",
       "1  ...                  378.0                40.0165                 40.2638   \n",
       "2  ...                  378.0                40.0165                 40.2638   \n",
       "3  ...                  378.0                40.0165                 40.2638   \n",
       "4  ...                  378.0                40.0165                 40.2638   \n",
       "\n",
       "   IntraclashesEnergy2_wt  IntraclashesEnergy2_mut Interface_hydrophobic_area  \\\n",
       "0                 61.9441                  61.9441                       None   \n",
       "1                 61.9441                  61.9441                       None   \n",
       "2                 61.9441                  61.9441                       None   \n",
       "3                 61.9441                  61.9441                       None   \n",
       "4                 61.9441                  61.9441                       None   \n",
       "\n",
       "  Interface_hydrophilic_area Interface_total_area  \\\n",
       "0                       None                 None   \n",
       "1                       None                 None   \n",
       "2                       None                 None   \n",
       "3                       None                 None   \n",
       "4                       None                 None   \n",
       "\n",
       "  Interface_contact_distance_wt Interface_contact_distance_mut  \n",
       "0                        3.7681                        3.21627  \n",
       "1                        3.7681                        3.21627  \n",
       "2                        3.7681                        3.21627  \n",
       "3                        3.7681                        3.21627  \n",
       "4                        3.7681                        3.21627  \n",
       "\n",
       "[5 rows x 104 columns]"
      ]
     },
     "execution_count": 3,
     "metadata": {},
     "output_type": "execute_result"
    }
   ],
   "source": [
    "# Read Training Data\n",
    "mutations = pd.read_csv(get_file_path(MUTATIONS_PATH), sep='\\t')\n",
    "\n",
    "# Size of dataframe\n",
    "print_annotation(f\"Size of dataframe: {mutations.shape}\")\n",
    "\n",
    "# First 5 entries\n",
    "mutations.head()"
   ]
  },
  {
   "cell_type": "markdown",
   "metadata": {},
   "source": [
    "## Data Cleaning"
   ]
  },
  {
   "cell_type": "markdown",
   "metadata": {},
   "source": [
    "### Select column names"
   ]
  },
  {
   "cell_type": "code",
   "execution_count": 4,
   "metadata": {},
   "outputs": [],
   "source": [
    "selected_columns = ['Mutation_Effect_Label', 'UniProt_ID', 'Mutation', 'Interactor_UniProt_ID']\\\n",
    "                 + ['Template_sequence_identity', 'Alignment_score', 'ProtBert_score', 'Provean_score', 'Matrix_score']        "
   ]
  },
  {
   "cell_type": "markdown",
   "metadata": {},
   "source": [
    "### Reduce Columns"
   ]
  },
  {
   "cell_type": "markdown",
   "metadata": {},
   "source": [
    "#### Train (Mutations) Data"
   ]
  },
  {
   "cell_type": "code",
   "execution_count": 5,
   "metadata": {},
   "outputs": [
    {
     "name": "stdout",
     "output_type": "stream",
     "text": [
      "\n",
      "Size of dataframe: (1101, 9)\n",
      "----------------------------\n"
     ]
    },
    {
     "data": {
      "text/html": [
       "<div>\n",
       "<style scoped>\n",
       "    .dataframe tbody tr th:only-of-type {\n",
       "        vertical-align: middle;\n",
       "    }\n",
       "\n",
       "    .dataframe tbody tr th {\n",
       "        vertical-align: top;\n",
       "    }\n",
       "\n",
       "    .dataframe thead th {\n",
       "        text-align: right;\n",
       "    }\n",
       "</style>\n",
       "<table border=\"1\" class=\"dataframe\">\n",
       "  <thead>\n",
       "    <tr style=\"text-align: right;\">\n",
       "      <th></th>\n",
       "      <th>Mutation_Effect_Label</th>\n",
       "      <th>UniProt_ID</th>\n",
       "      <th>Mutation</th>\n",
       "      <th>Interactor_UniProt_ID</th>\n",
       "      <th>Template_sequence_identity</th>\n",
       "      <th>Alignment_score</th>\n",
       "      <th>ProtBert_score</th>\n",
       "      <th>Provean_score</th>\n",
       "      <th>Matrix_score</th>\n",
       "    </tr>\n",
       "  </thead>\n",
       "  <tbody>\n",
       "    <tr>\n",
       "      <th>0</th>\n",
       "      <td>mutation decreasing rate(MI:1130)</td>\n",
       "      <td>P63000</td>\n",
       "      <td>Q61L</td>\n",
       "      <td>Q14155</td>\n",
       "      <td>1.0</td>\n",
       "      <td>0.921875</td>\n",
       "      <td>0.9981741060182685</td>\n",
       "      <td>-6.338</td>\n",
       "      <td>-3.0</td>\n",
       "    </tr>\n",
       "    <tr>\n",
       "      <th>1</th>\n",
       "      <td>mutation decreasing rate(MI:1130)</td>\n",
       "      <td>P63000</td>\n",
       "      <td>Q61L</td>\n",
       "      <td>Q14155-1</td>\n",
       "      <td>1.0</td>\n",
       "      <td>0.921875</td>\n",
       "      <td>0.9981741060182685</td>\n",
       "      <td>-6.338</td>\n",
       "      <td>-3.0</td>\n",
       "    </tr>\n",
       "    <tr>\n",
       "      <th>2</th>\n",
       "      <td>mutation decreasing rate(MI:1130)</td>\n",
       "      <td>P63000</td>\n",
       "      <td>Q61L</td>\n",
       "      <td>Q14155-2</td>\n",
       "      <td>1.0</td>\n",
       "      <td>0.921875</td>\n",
       "      <td>0.9981741060182685</td>\n",
       "      <td>-6.338</td>\n",
       "      <td>-3.0</td>\n",
       "    </tr>\n",
       "    <tr>\n",
       "      <th>3</th>\n",
       "      <td>mutation decreasing rate(MI:1130)</td>\n",
       "      <td>P63000</td>\n",
       "      <td>Q61L</td>\n",
       "      <td>Q14155-3</td>\n",
       "      <td>1.0</td>\n",
       "      <td>0.921875</td>\n",
       "      <td>0.9981741060182685</td>\n",
       "      <td>-6.338</td>\n",
       "      <td>-3.0</td>\n",
       "    </tr>\n",
       "    <tr>\n",
       "      <th>4</th>\n",
       "      <td>mutation decreasing rate(MI:1130)</td>\n",
       "      <td>P63000</td>\n",
       "      <td>Q61L</td>\n",
       "      <td>Q14155-5</td>\n",
       "      <td>1.0</td>\n",
       "      <td>0.921875</td>\n",
       "      <td>0.9981741060182685</td>\n",
       "      <td>-6.338</td>\n",
       "      <td>-3.0</td>\n",
       "    </tr>\n",
       "  </tbody>\n",
       "</table>\n",
       "</div>"
      ],
      "text/plain": [
       "               Mutation_Effect_Label UniProt_ID Mutation  \\\n",
       "0  mutation decreasing rate(MI:1130)     P63000     Q61L   \n",
       "1  mutation decreasing rate(MI:1130)     P63000     Q61L   \n",
       "2  mutation decreasing rate(MI:1130)     P63000     Q61L   \n",
       "3  mutation decreasing rate(MI:1130)     P63000     Q61L   \n",
       "4  mutation decreasing rate(MI:1130)     P63000     Q61L   \n",
       "\n",
       "  Interactor_UniProt_ID  Template_sequence_identity  Alignment_score  \\\n",
       "0                Q14155                         1.0         0.921875   \n",
       "1              Q14155-1                         1.0         0.921875   \n",
       "2              Q14155-2                         1.0         0.921875   \n",
       "3              Q14155-3                         1.0         0.921875   \n",
       "4              Q14155-5                         1.0         0.921875   \n",
       "\n",
       "       ProtBert_score  Provean_score  Matrix_score  \n",
       "0  0.9981741060182685         -6.338          -3.0  \n",
       "1  0.9981741060182685         -6.338          -3.0  \n",
       "2  0.9981741060182685         -6.338          -3.0  \n",
       "3  0.9981741060182685         -6.338          -3.0  \n",
       "4  0.9981741060182685         -6.338          -3.0  "
      ]
     },
     "execution_count": 5,
     "metadata": {},
     "output_type": "execute_result"
    }
   ],
   "source": [
    "# Declare train data using selected column names\n",
    "train_data = mutations[selected_columns].copy()\n",
    "\n",
    "# Size of dataframe\n",
    "print_annotation(f\"Size of dataframe: {train_data.shape}\")\n",
    "\n",
    "# First 5 entries\n",
    "train_data.head()"
   ]
  },
  {
   "cell_type": "code",
   "execution_count": 6,
   "metadata": {},
   "outputs": [],
   "source": [
    "# Dropping the duplicates\n",
    "train_data.drop_duplicates(keep=\"first\", inplace=True)"
   ]
  },
  {
   "cell_type": "markdown",
   "metadata": {},
   "source": [
    "Ensuring that there is no duplicated row."
   ]
  },
  {
   "cell_type": "code",
   "execution_count": 7,
   "metadata": {},
   "outputs": [
    {
     "data": {
      "text/plain": [
       "True"
      ]
     },
     "execution_count": 7,
     "metadata": {},
     "output_type": "execute_result"
    }
   ],
   "source": [
    "train_data[train_data.duplicated()].empty  # True, duplicate is empty"
   ]
  },
  {
   "cell_type": "code",
   "execution_count": 8,
   "metadata": {},
   "outputs": [
    {
     "data": {
      "text/plain": [
       "(1098, 9)"
      ]
     },
     "execution_count": 8,
     "metadata": {},
     "output_type": "execute_result"
    }
   ],
   "source": [
    "train_data.shape"
   ]
  },
  {
   "cell_type": "markdown",
   "metadata": {},
   "source": [
    "## Data Preprocessing"
   ]
  },
  {
   "cell_type": "markdown",
   "metadata": {},
   "source": [
    "* [x] Not all selected columns are interpreted as numeric, so coerce them to numeric."
   ]
  },
  {
   "cell_type": "markdown",
   "metadata": {},
   "source": [
    "### Mutation Effect Label Binning"
   ]
  },
  {
   "cell_type": "markdown",
   "metadata": {},
   "source": [
    "Mutation Effect label binning is only applied to train_data.\n",
    "\n",
    "* [x] Apply Label binning.\n",
    "    > $\\textit{Disruptive} → 0$\\\n",
    "    > $\\textit{No effect + Increasing} → 1$\\\n",
    "    > $\\textit{Decreasing} → \\textit{ignored}$\n"
   ]
  },
  {
   "cell_type": "code",
   "execution_count": 9,
   "metadata": {},
   "outputs": [],
   "source": [
    "def display_label_counts(data_param):\n",
    "    \"\"\"\n",
    "    Display a dataframe that contains label categories and their counts.\n",
    "    \"\"\"\n",
    "    label_counts = pd.DataFrame(data_param[\"Mutation_Effect_Label\"].value_counts())\n",
    "    label_counts.reset_index(inplace=True)\n",
    "    label_counts.columns = [\"Mutation_Effect_Label\", \"Counts\"]\n",
    "    label_counts.rename(index={0: 'Disrupting', 1: 'Increasing + No Effect'}, inplace=True)\n",
    "    display(label_counts)"
   ]
  },
  {
   "cell_type": "code",
   "execution_count": 10,
   "metadata": {},
   "outputs": [],
   "source": [
    "def display_labels(data_param):\n",
    "    \"\"\"\n",
    "    Display a dataframe that contains label categories.\n",
    "    \"\"\"\n",
    "    label_counts = pd.DataFrame(data_param[\"Mutation_Effect_Label\"].value_counts().index)\n",
    "    label_counts.columns = [\"Mutation_Effect_Label\"]\n",
    "    display(label_counts)"
   ]
  },
  {
   "cell_type": "markdown",
   "metadata": {},
   "source": [
    "For $\\textit{mutation effect label}$ we have following categories:"
   ]
  },
  {
   "cell_type": "code",
   "execution_count": 11,
   "metadata": {},
   "outputs": [
    {
     "data": {
      "text/html": [
       "<div>\n",
       "<style scoped>\n",
       "    .dataframe tbody tr th:only-of-type {\n",
       "        vertical-align: middle;\n",
       "    }\n",
       "\n",
       "    .dataframe tbody tr th {\n",
       "        vertical-align: top;\n",
       "    }\n",
       "\n",
       "    .dataframe thead th {\n",
       "        text-align: right;\n",
       "    }\n",
       "</style>\n",
       "<table border=\"1\" class=\"dataframe\">\n",
       "  <thead>\n",
       "    <tr style=\"text-align: right;\">\n",
       "      <th></th>\n",
       "      <th>Mutation_Effect_Label</th>\n",
       "    </tr>\n",
       "  </thead>\n",
       "  <tbody>\n",
       "    <tr>\n",
       "      <th>0</th>\n",
       "      <td>mutation disrupting(MI:0573)</td>\n",
       "    </tr>\n",
       "    <tr>\n",
       "      <th>1</th>\n",
       "      <td>mutation decreasing(MI:0119)</td>\n",
       "    </tr>\n",
       "    <tr>\n",
       "      <th>2</th>\n",
       "      <td>mutation disrupting strength(MI:1128)</td>\n",
       "    </tr>\n",
       "    <tr>\n",
       "      <th>3</th>\n",
       "      <td>mutation decreasing strength(MI:1133)</td>\n",
       "    </tr>\n",
       "    <tr>\n",
       "      <th>4</th>\n",
       "      <td>mutation with no effect(MI:2226)</td>\n",
       "    </tr>\n",
       "    <tr>\n",
       "      <th>5</th>\n",
       "      <td>disrupting</td>\n",
       "    </tr>\n",
       "    <tr>\n",
       "      <th>6</th>\n",
       "      <td>mutation increasing(MI:0382)</td>\n",
       "    </tr>\n",
       "    <tr>\n",
       "      <th>7</th>\n",
       "      <td>mutation increasing strength(MI:1132)</td>\n",
       "    </tr>\n",
       "    <tr>\n",
       "      <th>8</th>\n",
       "      <td>mutation decreasing rate(MI:1130)</td>\n",
       "    </tr>\n",
       "    <tr>\n",
       "      <th>9</th>\n",
       "      <td>mutation disrupting rate(MI:1129)</td>\n",
       "    </tr>\n",
       "    <tr>\n",
       "      <th>10</th>\n",
       "      <td>mutation causing(MI:2227)</td>\n",
       "    </tr>\n",
       "    <tr>\n",
       "      <th>11</th>\n",
       "      <td>mutation increasing rate(MI:1131)</td>\n",
       "    </tr>\n",
       "  </tbody>\n",
       "</table>\n",
       "</div>"
      ],
      "text/plain": [
       "                    Mutation_Effect_Label\n",
       "0            mutation disrupting(MI:0573)\n",
       "1            mutation decreasing(MI:0119)\n",
       "2   mutation disrupting strength(MI:1128)\n",
       "3   mutation decreasing strength(MI:1133)\n",
       "4        mutation with no effect(MI:2226)\n",
       "5                              disrupting\n",
       "6            mutation increasing(MI:0382)\n",
       "7   mutation increasing strength(MI:1132)\n",
       "8       mutation decreasing rate(MI:1130)\n",
       "9       mutation disrupting rate(MI:1129)\n",
       "10              mutation causing(MI:2227)\n",
       "11      mutation increasing rate(MI:1131)"
      ]
     },
     "metadata": {},
     "output_type": "display_data"
    }
   ],
   "source": [
    "# Displaying possible label categories.\n",
    "display_labels(train_data)"
   ]
  },
  {
   "cell_type": "markdown",
   "metadata": {},
   "source": [
    "Applying binning operation on $\\textit{mutation effect label}$ column in $\\textit{mutations}$ data with described rule below \\\n",
    "    - $\\textit{Disrupting} → 0$\\\n",
    "    - $\\textit{No effect + Increasing} → 1$\\\n",
    "    - $\\textit{Decreasing} → \\textit{dropped}$\\\n",
    "    - $\\textit{Causing} → \\textit{dropped}$\\\n",
    "yields following data frame:"
   ]
  },
  {
   "cell_type": "code",
   "execution_count": 12,
   "metadata": {},
   "outputs": [],
   "source": [
    "labels_to_bins = { \n",
    "    \"mutation disrupting(MI:0573)\": 0,\n",
    "    \"mutation decreasing(MI:0119)\": \"IGNORED\",\n",
    "    \"mutation disrupting strength(MI:1128)\": 0,\n",
    "    \"mutation decreasing strength(MI:1133)\": \"IGNORED\",\n",
    "    \"mutation with no effect(MI:2226)\": 1,\n",
    "    \"disrupting\": 0,\n",
    "    \"mutation increasing(MI:0382)\": 1,\n",
    "    \"mutation increasing strength(MI:1132)\": 1,\n",
    "    \"mutation decreasing rate(MI:1130)\": \"IGNORED\",\n",
    "    \"mutation disrupting rate(MI:1129)\": 0,\n",
    "    \"mutation causing(MI:2227)\": \"IGNORED\",\n",
    "    \"mutation increasing rate(MI:1131)\": 1}\n",
    "\n",
    "replace_map = {\"Mutation_Effect_Label\": labels_to_bins}"
   ]
  },
  {
   "cell_type": "code",
   "execution_count": 13,
   "metadata": {},
   "outputs": [
    {
     "name": "stdout",
     "output_type": "stream",
     "text": [
      "\n",
      "Size of dataframe before binning: (1098, 9)\n",
      "-------------------------------------------\n",
      "\n",
      "Size of dataframe after binning: (740, 9)\n",
      "-----------------------------------------\n"
     ]
    },
    {
     "data": {
      "text/html": [
       "<div>\n",
       "<style scoped>\n",
       "    .dataframe tbody tr th:only-of-type {\n",
       "        vertical-align: middle;\n",
       "    }\n",
       "\n",
       "    .dataframe tbody tr th {\n",
       "        vertical-align: top;\n",
       "    }\n",
       "\n",
       "    .dataframe thead th {\n",
       "        text-align: right;\n",
       "    }\n",
       "</style>\n",
       "<table border=\"1\" class=\"dataframe\">\n",
       "  <thead>\n",
       "    <tr style=\"text-align: right;\">\n",
       "      <th></th>\n",
       "      <th>Mutation_Effect_Label</th>\n",
       "      <th>UniProt_ID</th>\n",
       "      <th>Mutation</th>\n",
       "      <th>Interactor_UniProt_ID</th>\n",
       "      <th>Template_sequence_identity</th>\n",
       "      <th>Alignment_score</th>\n",
       "      <th>ProtBert_score</th>\n",
       "      <th>Provean_score</th>\n",
       "      <th>Matrix_score</th>\n",
       "    </tr>\n",
       "  </thead>\n",
       "  <tbody>\n",
       "    <tr>\n",
       "      <th>0</th>\n",
       "      <td>0</td>\n",
       "      <td>Q9BPZ3</td>\n",
       "      <td>F118A</td>\n",
       "      <td>P11940</td>\n",
       "      <td>1.0000</td>\n",
       "      <td>1.000000</td>\n",
       "      <td>-0.09227252565324306</td>\n",
       "      <td>-5.895</td>\n",
       "      <td>-3.0</td>\n",
       "    </tr>\n",
       "    <tr>\n",
       "      <th>1</th>\n",
       "      <td>0</td>\n",
       "      <td>P01116</td>\n",
       "      <td>Y40C</td>\n",
       "      <td>P50749</td>\n",
       "      <td>0.9277</td>\n",
       "      <td>0.931315</td>\n",
       "      <td>0.998749150385265</td>\n",
       "      <td>-8.175</td>\n",
       "      <td>-3.0</td>\n",
       "    </tr>\n",
       "    <tr>\n",
       "      <th>2</th>\n",
       "      <td>0</td>\n",
       "      <td>Q96QK1</td>\n",
       "      <td>F534D</td>\n",
       "      <td>Q9UBQ0</td>\n",
       "      <td>1.0000</td>\n",
       "      <td>0.360743</td>\n",
       "      <td>0.2882971949657076</td>\n",
       "      <td>-7.553</td>\n",
       "      <td>-4.0</td>\n",
       "    </tr>\n",
       "    <tr>\n",
       "      <th>3</th>\n",
       "      <td>0</td>\n",
       "      <td>Q96QK1</td>\n",
       "      <td>F534D</td>\n",
       "      <td>Q9UBQ0-2</td>\n",
       "      <td>1.0000</td>\n",
       "      <td>0.360743</td>\n",
       "      <td>0.2882971949657076</td>\n",
       "      <td>-7.553</td>\n",
       "      <td>-4.0</td>\n",
       "    </tr>\n",
       "    <tr>\n",
       "      <th>4</th>\n",
       "      <td>0</td>\n",
       "      <td>O43521-3</td>\n",
       "      <td>G66A</td>\n",
       "      <td>Q07812</td>\n",
       "      <td>1.0000</td>\n",
       "      <td>0.714286</td>\n",
       "      <td>-0.051025405526161194</td>\n",
       "      <td>-4.158</td>\n",
       "      <td>0.0</td>\n",
       "    </tr>\n",
       "  </tbody>\n",
       "</table>\n",
       "</div>"
      ],
      "text/plain": [
       "  Mutation_Effect_Label UniProt_ID Mutation Interactor_UniProt_ID  \\\n",
       "0                     0     Q9BPZ3    F118A                P11940   \n",
       "1                     0     P01116     Y40C                P50749   \n",
       "2                     0     Q96QK1    F534D                Q9UBQ0   \n",
       "3                     0     Q96QK1    F534D              Q9UBQ0-2   \n",
       "4                     0   O43521-3     G66A                Q07812   \n",
       "\n",
       "   Template_sequence_identity  Alignment_score         ProtBert_score  \\\n",
       "0                      1.0000         1.000000   -0.09227252565324306   \n",
       "1                      0.9277         0.931315      0.998749150385265   \n",
       "2                      1.0000         0.360743     0.2882971949657076   \n",
       "3                      1.0000         0.360743     0.2882971949657076   \n",
       "4                      1.0000         0.714286  -0.051025405526161194   \n",
       "\n",
       "   Provean_score  Matrix_score  \n",
       "0         -5.895          -3.0  \n",
       "1         -8.175          -3.0  \n",
       "2         -7.553          -4.0  \n",
       "3         -7.553          -4.0  \n",
       "4         -4.158           0.0  "
      ]
     },
     "execution_count": 13,
     "metadata": {},
     "output_type": "execute_result"
    }
   ],
   "source": [
    "# Size of dataframe before binning.\n",
    "print_annotation(f\"Size of dataframe before binning: {train_data.shape}\")\n",
    "\n",
    "# Modifications will be done on train_data_binned.\n",
    "train_data_binned = train_data.copy()\n",
    "\n",
    "# Replace the labels as described above.\n",
    "train_data_binned.replace(replace_map, inplace=True)\n",
    "\n",
    "# Drop the entries with \"IGNORED\": 'mutation cusing' in this case.\n",
    "train_data_binned = train_data_binned[train_data_binned[\"Mutation_Effect_Label\"] != \"IGNORED\"]\n",
    "\n",
    "# Reset index of the dataframe to avoid any possible errors\n",
    "train_data_binned.reset_index(drop=True, inplace=True)\n",
    "\n",
    "# Size of dataframe after binning.\n",
    "print_annotation(f\"Size of dataframe after binning: {train_data_binned.shape}\")\n",
    "\n",
    "# First 5 rows of binned data.\n",
    "train_data_binned.head()"
   ]
  },
  {
   "cell_type": "markdown",
   "metadata": {},
   "source": [
    "Confirming replacement of values are properly done. $\\textit{Mutation_Effect_Label}$ only contains of $0$ or $1$."
   ]
  },
  {
   "cell_type": "code",
   "execution_count": 14,
   "metadata": {},
   "outputs": [
    {
     "data": {
      "text/plain": [
       "0    540\n",
       "1    200\n",
       "Name: Mutation_Effect_Label, dtype: int64"
      ]
     },
     "execution_count": 14,
     "metadata": {},
     "output_type": "execute_result"
    }
   ],
   "source": [
    "train_data_binned[\"Mutation_Effect_Label\"].value_counts()"
   ]
  },
  {
   "cell_type": "markdown",
   "metadata": {},
   "source": [
    "### Type Coercion"
   ]
  },
  {
   "cell_type": "markdown",
   "metadata": {},
   "source": [
    "Some columns have been interpreted as `object` type, eventhough they are actually numeric."
   ]
  },
  {
   "cell_type": "code",
   "execution_count": 15,
   "metadata": {},
   "outputs": [
    {
     "data": {
      "text/plain": [
       "{dtype('float64'), dtype('O')}"
      ]
     },
     "execution_count": 15,
     "metadata": {},
     "output_type": "execute_result"
    }
   ],
   "source": [
    "# Train (mutations) data\n",
    "set(train_data_binned.dtypes)"
   ]
  },
  {
   "cell_type": "markdown",
   "metadata": {},
   "source": [
    "These non-numeric interpereted columns will be coerced. $\\textit{NaN}$ values will be converted to $0$."
   ]
  },
  {
   "cell_type": "code",
   "execution_count": 16,
   "metadata": {},
   "outputs": [],
   "source": [
    "# Get column names where its type is *not* int or float, i.e. whose type is object.\n",
    "coerce_numeric_cols = set([cname for cname in train_data_binned.columns if train_data_binned[cname].dtype not in ['int64', 'float64']])\n",
    "#                         + [cname for cname in target_brca_data.columns if target_brca_data[cname].dtype not in ['int64', 'float64']]) # \\ \n",
    "#                         + [cname for cname in target_coad_data.columns if target_coad_data[cname].dtype not in ['int64', 'float64']]\\\n",
    "#                         + [cname for cname in target_ov_data.columns if target_ov_data[cname].dtype not in ['int64', 'float64']])\n",
    "\n",
    "# Remove target variable from the list\n",
    "coerce_numeric_cols = coerce_numeric_cols - {\"Mutation_Effect_Label\", \"UniProt_ID\", \"Mutation\", \"Interactor_UniProt_ID\"}\n",
    "\n",
    "for cname in coerce_numeric_cols:\n",
    "    train_data_binned[cname] = pd.to_numeric(train_data_binned[cname], errors='coerce')\n",
    "#     target_brca_data[cname] = pd.to_numeric(target_brca_data[cname], errors='coerce')\n",
    "#     target_coad_data[cname] = pd.to_numeric(target_coad_data[cname], errors='coerce')\n",
    "#     target_ov_data[cname] = pd.to_numeric(target_ov_data[cname], errors='coerce')\n",
    "    \n",
    "train_data_binned.fillna(0, inplace=True)\n",
    "# target_brca_data.fillna(0, inplace=True)\n",
    "# target_coad_data.fillna(0, inplace=True)\n",
    "# target_ov_data.fillna(0, inplace=True)"
   ]
  },
  {
   "cell_type": "markdown",
   "metadata": {},
   "source": [
    "Now all columns are interpreted as numeric type, except \"_UniProt_ID_\", \"_Mutation_\", \"_Interactor_UniProt_ID_\""
   ]
  },
  {
   "cell_type": "code",
   "execution_count": 17,
   "metadata": {},
   "outputs": [
    {
     "data": {
      "text/plain": [
       "{dtype('int64'), dtype('float64'), dtype('O')}"
      ]
     },
     "execution_count": 17,
     "metadata": {},
     "output_type": "execute_result"
    }
   ],
   "source": [
    "# Train (mutations) data\n",
    "set(train_data_binned.dtypes)"
   ]
  },
  {
   "cell_type": "code",
   "execution_count": 18,
   "metadata": {},
   "outputs": [
    {
     "data": {
      "text/plain": [
       "Mutation_Effect_Label           int64\n",
       "UniProt_ID                     object\n",
       "Mutation                       object\n",
       "Interactor_UniProt_ID          object\n",
       "Template_sequence_identity    float64\n",
       "Alignment_score               float64\n",
       "ProtBert_score                float64\n",
       "Provean_score                 float64\n",
       "Matrix_score                  float64\n",
       "dtype: object"
      ]
     },
     "execution_count": 18,
     "metadata": {},
     "output_type": "execute_result"
    }
   ],
   "source": [
    "train_data_binned.dtypes"
   ]
  },
  {
   "cell_type": "markdown",
   "metadata": {},
   "source": [
    "### Processed train data and Label Counts"
   ]
  },
  {
   "cell_type": "code",
   "execution_count": 19,
   "metadata": {},
   "outputs": [],
   "source": [
    "def visualize_label_counts(data_param, label_name_param=\"Mutation_Effect_Label\"):\n",
    "    sns.set(style=\"white\", font_scale=1.15)  # white, dark, whitegrid, darkgrid, ticks\n",
    "    ax = sns.barplot(x=data_param[label_name_param].value_counts().index, \n",
    "                     y=data_param[label_name_param].value_counts(),\n",
    "                     palette=\"ch:s=-.2,r=.6\")\n",
    "    ax.set_title('Disrupting vs Increasing & No Effect')  # ch:s=-.2,r=.6, ocean\n",
    "    ax.set_ylabel('Value counts')\n",
    "    ax.set_xticklabels(['Distrupting', 'Increasing + No Effect']);"
   ]
  },
  {
   "cell_type": "markdown",
   "metadata": {},
   "source": [
    "From now on, training data is refered as `data_processed`."
   ]
  },
  {
   "cell_type": "code",
   "execution_count": 20,
   "metadata": {},
   "outputs": [
    {
     "name": "stdout",
     "output_type": "stream",
     "text": [
      "\n",
      "Size of processed data: (740, 9)\n",
      "--------------------------------\n"
     ]
    },
    {
     "data": {
      "text/html": [
       "<div>\n",
       "<style scoped>\n",
       "    .dataframe tbody tr th:only-of-type {\n",
       "        vertical-align: middle;\n",
       "    }\n",
       "\n",
       "    .dataframe tbody tr th {\n",
       "        vertical-align: top;\n",
       "    }\n",
       "\n",
       "    .dataframe thead th {\n",
       "        text-align: right;\n",
       "    }\n",
       "</style>\n",
       "<table border=\"1\" class=\"dataframe\">\n",
       "  <thead>\n",
       "    <tr style=\"text-align: right;\">\n",
       "      <th></th>\n",
       "      <th>Mutation_Effect_Label</th>\n",
       "      <th>UniProt_ID</th>\n",
       "      <th>Mutation</th>\n",
       "      <th>Interactor_UniProt_ID</th>\n",
       "      <th>Template_sequence_identity</th>\n",
       "      <th>Alignment_score</th>\n",
       "      <th>ProtBert_score</th>\n",
       "      <th>Provean_score</th>\n",
       "      <th>Matrix_score</th>\n",
       "    </tr>\n",
       "  </thead>\n",
       "  <tbody>\n",
       "    <tr>\n",
       "      <th>0</th>\n",
       "      <td>0</td>\n",
       "      <td>Q9BPZ3</td>\n",
       "      <td>F118A</td>\n",
       "      <td>P11940</td>\n",
       "      <td>1.0000</td>\n",
       "      <td>1.000000</td>\n",
       "      <td>-0.092273</td>\n",
       "      <td>-5.895</td>\n",
       "      <td>-3.0</td>\n",
       "    </tr>\n",
       "    <tr>\n",
       "      <th>1</th>\n",
       "      <td>0</td>\n",
       "      <td>P01116</td>\n",
       "      <td>Y40C</td>\n",
       "      <td>P50749</td>\n",
       "      <td>0.9277</td>\n",
       "      <td>0.931315</td>\n",
       "      <td>0.998749</td>\n",
       "      <td>-8.175</td>\n",
       "      <td>-3.0</td>\n",
       "    </tr>\n",
       "    <tr>\n",
       "      <th>2</th>\n",
       "      <td>0</td>\n",
       "      <td>Q96QK1</td>\n",
       "      <td>F534D</td>\n",
       "      <td>Q9UBQ0</td>\n",
       "      <td>1.0000</td>\n",
       "      <td>0.360743</td>\n",
       "      <td>0.288297</td>\n",
       "      <td>-7.553</td>\n",
       "      <td>-4.0</td>\n",
       "    </tr>\n",
       "    <tr>\n",
       "      <th>3</th>\n",
       "      <td>0</td>\n",
       "      <td>Q96QK1</td>\n",
       "      <td>F534D</td>\n",
       "      <td>Q9UBQ0-2</td>\n",
       "      <td>1.0000</td>\n",
       "      <td>0.360743</td>\n",
       "      <td>0.288297</td>\n",
       "      <td>-7.553</td>\n",
       "      <td>-4.0</td>\n",
       "    </tr>\n",
       "    <tr>\n",
       "      <th>4</th>\n",
       "      <td>0</td>\n",
       "      <td>O43521-3</td>\n",
       "      <td>G66A</td>\n",
       "      <td>Q07812</td>\n",
       "      <td>1.0000</td>\n",
       "      <td>0.714286</td>\n",
       "      <td>-0.051025</td>\n",
       "      <td>-4.158</td>\n",
       "      <td>0.0</td>\n",
       "    </tr>\n",
       "  </tbody>\n",
       "</table>\n",
       "</div>"
      ],
      "text/plain": [
       "   Mutation_Effect_Label UniProt_ID Mutation Interactor_UniProt_ID  \\\n",
       "0                      0     Q9BPZ3    F118A                P11940   \n",
       "1                      0     P01116     Y40C                P50749   \n",
       "2                      0     Q96QK1    F534D                Q9UBQ0   \n",
       "3                      0     Q96QK1    F534D              Q9UBQ0-2   \n",
       "4                      0   O43521-3     G66A                Q07812   \n",
       "\n",
       "   Template_sequence_identity  Alignment_score  ProtBert_score  Provean_score  \\\n",
       "0                      1.0000         1.000000       -0.092273         -5.895   \n",
       "1                      0.9277         0.931315        0.998749         -8.175   \n",
       "2                      1.0000         0.360743        0.288297         -7.553   \n",
       "3                      1.0000         0.360743        0.288297         -7.553   \n",
       "4                      1.0000         0.714286       -0.051025         -4.158   \n",
       "\n",
       "   Matrix_score  \n",
       "0          -3.0  \n",
       "1          -3.0  \n",
       "2          -4.0  \n",
       "3          -4.0  \n",
       "4           0.0  "
      ]
     },
     "execution_count": 20,
     "metadata": {},
     "output_type": "execute_result"
    }
   ],
   "source": [
    "# Declaing `data_processed`.\n",
    "data_processed = train_data_binned.copy()\n",
    "\n",
    "# Size of processed data.\n",
    "print_annotation(f\"Size of processed data: {data_processed.shape}\")\n",
    "\n",
    "# First 5 rows of binned data.\n",
    "data_processed.head()"
   ]
  },
  {
   "cell_type": "code",
   "execution_count": 21,
   "metadata": {},
   "outputs": [
    {
     "data": {
      "image/png": "[encoded data removed]",
      "text/plain": [
       "<Figure size 432x288 with 1 Axes>"
      ]
     },
     "metadata": {},
     "output_type": "display_data"
    }
   ],
   "source": [
    "visualize_label_counts(data_processed)"
   ]
  },
  {
   "cell_type": "code",
   "execution_count": 22,
   "metadata": {},
   "outputs": [
    {
     "data": {
      "text/html": [
       "<div>\n",
       "<style scoped>\n",
       "    .dataframe tbody tr th:only-of-type {\n",
       "        vertical-align: middle;\n",
       "    }\n",
       "\n",
       "    .dataframe tbody tr th {\n",
       "        vertical-align: top;\n",
       "    }\n",
       "\n",
       "    .dataframe thead th {\n",
       "        text-align: right;\n",
       "    }\n",
       "</style>\n",
       "<table border=\"1\" class=\"dataframe\">\n",
       "  <thead>\n",
       "    <tr style=\"text-align: right;\">\n",
       "      <th></th>\n",
       "      <th>Mutation_Effect_Label</th>\n",
       "      <th>Counts</th>\n",
       "    </tr>\n",
       "  </thead>\n",
       "  <tbody>\n",
       "    <tr>\n",
       "      <th>Disrupting</th>\n",
       "      <td>0</td>\n",
       "      <td>540</td>\n",
       "    </tr>\n",
       "    <tr>\n",
       "      <th>Increasing + No Effect</th>\n",
       "      <td>1</td>\n",
       "      <td>200</td>\n",
       "    </tr>\n",
       "  </tbody>\n",
       "</table>\n",
       "</div>"
      ],
      "text/plain": [
       "                        Mutation_Effect_Label  Counts\n",
       "Disrupting                                  0     540\n",
       "Increasing + No Effect                      1     200"
      ]
     },
     "metadata": {},
     "output_type": "display_data"
    }
   ],
   "source": [
    "display_label_counts(data_processed)"
   ]
  },
  {
   "cell_type": "markdown",
   "metadata": {},
   "source": [
    "## Data Creation with Unique Proteins"
   ]
  },
  {
   "cell_type": "markdown",
   "metadata": {},
   "source": [
    "Here, we desire training data to have one occurance of each protein in `UniProt_ID` column."
   ]
  },
  {
   "cell_type": "code",
   "execution_count": 23,
   "metadata": {},
   "outputs": [
    {
     "name": "stdout",
     "output_type": "stream",
     "text": [
      "Number of `unique_proteins`: 164\n",
      "['Q9BPZ3', 'P01116', 'Q96QK1', 'O43521-3', 'Q13418']\n"
     ]
    }
   ],
   "source": [
    "# Get the unique proteins from `UniProt_ID` column.\n",
    "unique_proteins = list(data_processed['UniProt_ID'].unique())\n",
    "\n",
    "# Number of unique_proteins\n",
    "print('Number of `unique_proteins`:', len(unique_proteins))\n",
    "\n",
    "# First five proteins\n",
    "print(unique_proteins[:5])"
   ]
  },
  {
   "cell_type": "markdown",
   "metadata": {},
   "source": [
    "There are $164$ unique proteins in `UniProt_ID` column. Now, we will re-construct the training data where it will have $164$ rows, i.e. one row for each unique protein. In the case where multiple row option possible, we randomly select one."
   ]
  },
  {
   "cell_type": "code",
   "execution_count": 24,
   "metadata": {},
   "outputs": [],
   "source": [
    "sampled_row_dataframes = []\n",
    "for unique_protein in unique_proteins:\n",
    "    sampled_row_dataframes.append(data_processed[data_processed['UniProt_ID'] == unique_protein].sample())"
   ]
  },
  {
   "cell_type": "code",
   "execution_count": 25,
   "metadata": {},
   "outputs": [
    {
     "name": "stdout",
     "output_type": "stream",
     "text": [
      "\n",
      "Dimensions of sampled_dataframe: (164, 9)\n",
      "-----------------------------------------\n"
     ]
    },
    {
     "data": {
      "text/html": [
       "<div>\n",
       "<style scoped>\n",
       "    .dataframe tbody tr th:only-of-type {\n",
       "        vertical-align: middle;\n",
       "    }\n",
       "\n",
       "    .dataframe tbody tr th {\n",
       "        vertical-align: top;\n",
       "    }\n",
       "\n",
       "    .dataframe thead th {\n",
       "        text-align: right;\n",
       "    }\n",
       "</style>\n",
       "<table border=\"1\" class=\"dataframe\">\n",
       "  <thead>\n",
       "    <tr style=\"text-align: right;\">\n",
       "      <th></th>\n",
       "      <th>Mutation_Effect_Label</th>\n",
       "      <th>UniProt_ID</th>\n",
       "      <th>Mutation</th>\n",
       "      <th>Interactor_UniProt_ID</th>\n",
       "      <th>Template_sequence_identity</th>\n",
       "      <th>Alignment_score</th>\n",
       "      <th>ProtBert_score</th>\n",
       "      <th>Provean_score</th>\n",
       "      <th>Matrix_score</th>\n",
       "    </tr>\n",
       "  </thead>\n",
       "  <tbody>\n",
       "    <tr>\n",
       "      <th>0</th>\n",
       "      <td>0</td>\n",
       "      <td>Q9BPZ3</td>\n",
       "      <td>F118A</td>\n",
       "      <td>P11940</td>\n",
       "      <td>1.0000</td>\n",
       "      <td>1.000000</td>\n",
       "      <td>-0.092273</td>\n",
       "      <td>-5.895</td>\n",
       "      <td>-3.0</td>\n",
       "    </tr>\n",
       "    <tr>\n",
       "      <th>1</th>\n",
       "      <td>0</td>\n",
       "      <td>P01116</td>\n",
       "      <td>E37G</td>\n",
       "      <td>P50749</td>\n",
       "      <td>0.9277</td>\n",
       "      <td>0.931315</td>\n",
       "      <td>0.999487</td>\n",
       "      <td>-5.816</td>\n",
       "      <td>-3.0</td>\n",
       "    </tr>\n",
       "    <tr>\n",
       "      <th>2</th>\n",
       "      <td>0</td>\n",
       "      <td>Q96QK1</td>\n",
       "      <td>F541D</td>\n",
       "      <td>Q9UBQ0-2</td>\n",
       "      <td>1.0000</td>\n",
       "      <td>0.360743</td>\n",
       "      <td>0.002166</td>\n",
       "      <td>-4.606</td>\n",
       "      <td>-4.0</td>\n",
       "    </tr>\n",
       "    <tr>\n",
       "      <th>3</th>\n",
       "      <td>0</td>\n",
       "      <td>O43521-3</td>\n",
       "      <td>G66E</td>\n",
       "      <td>Q07812-4</td>\n",
       "      <td>1.0000</td>\n",
       "      <td>0.657143</td>\n",
       "      <td>-0.029202</td>\n",
       "      <td>-6.236</td>\n",
       "      <td>-3.0</td>\n",
       "    </tr>\n",
       "    <tr>\n",
       "      <th>4</th>\n",
       "      <td>1</td>\n",
       "      <td>Q13418</td>\n",
       "      <td>Q362H</td>\n",
       "      <td>Q9NVD7</td>\n",
       "      <td>0.9925</td>\n",
       "      <td>0.971054</td>\n",
       "      <td>0.206189</td>\n",
       "      <td>-3.940</td>\n",
       "      <td>1.0</td>\n",
       "    </tr>\n",
       "  </tbody>\n",
       "</table>\n",
       "</div>"
      ],
      "text/plain": [
       "   Mutation_Effect_Label UniProt_ID Mutation Interactor_UniProt_ID  \\\n",
       "0                      0     Q9BPZ3    F118A                P11940   \n",
       "1                      0     P01116     E37G                P50749   \n",
       "2                      0     Q96QK1    F541D              Q9UBQ0-2   \n",
       "3                      0   O43521-3     G66E              Q07812-4   \n",
       "4                      1     Q13418    Q362H                Q9NVD7   \n",
       "\n",
       "   Template_sequence_identity  Alignment_score  ProtBert_score  Provean_score  \\\n",
       "0                      1.0000         1.000000       -0.092273         -5.895   \n",
       "1                      0.9277         0.931315        0.999487         -5.816   \n",
       "2                      1.0000         0.360743        0.002166         -4.606   \n",
       "3                      1.0000         0.657143       -0.029202         -6.236   \n",
       "4                      0.9925         0.971054        0.206189         -3.940   \n",
       "\n",
       "   Matrix_score  \n",
       "0          -3.0  \n",
       "1          -3.0  \n",
       "2          -4.0  \n",
       "3          -3.0  \n",
       "4           1.0  "
      ]
     },
     "execution_count": 25,
     "metadata": {},
     "output_type": "execute_result"
    }
   ],
   "source": [
    "# Merge row dataframes into single dataframe, stack rows on top of each other.\n",
    "sampled_train_data = pd.concat(sampled_row_dataframes)\n",
    "\n",
    "# Reset index of the dataframe to avoid any possible errors\n",
    "sampled_train_data.reset_index(drop=True, inplace=True)\n",
    "\n",
    "# Dimensions of dataframe\n",
    "print_annotation(f\"Dimensions of sampled_dataframe: {sampled_train_data.shape}\")\n",
    "\n",
    "# First five entries\n",
    "sampled_train_data.head()"
   ]
  },
  {
   "cell_type": "code",
   "execution_count": 26,
   "metadata": {},
   "outputs": [
    {
     "data": {
      "image/png": "[encoded data removed]",
      "text/plain": [
       "<Figure size 432x288 with 1 Axes>"
      ]
     },
     "metadata": {},
     "output_type": "display_data"
    }
   ],
   "source": [
    "visualize_label_counts(sampled_train_data)"
   ]
  },
  {
   "cell_type": "code",
   "execution_count": 27,
   "metadata": {},
   "outputs": [
    {
     "data": {
      "text/html": [
       "<div>\n",
       "<style scoped>\n",
       "    .dataframe tbody tr th:only-of-type {\n",
       "        vertical-align: middle;\n",
       "    }\n",
       "\n",
       "    .dataframe tbody tr th {\n",
       "        vertical-align: top;\n",
       "    }\n",
       "\n",
       "    .dataframe thead th {\n",
       "        text-align: right;\n",
       "    }\n",
       "</style>\n",
       "<table border=\"1\" class=\"dataframe\">\n",
       "  <thead>\n",
       "    <tr style=\"text-align: right;\">\n",
       "      <th></th>\n",
       "      <th>Mutation_Effect_Label</th>\n",
       "      <th>Counts</th>\n",
       "    </tr>\n",
       "  </thead>\n",
       "  <tbody>\n",
       "    <tr>\n",
       "      <th>Disrupting</th>\n",
       "      <td>0</td>\n",
       "      <td>106</td>\n",
       "    </tr>\n",
       "    <tr>\n",
       "      <th>Increasing + No Effect</th>\n",
       "      <td>1</td>\n",
       "      <td>58</td>\n",
       "    </tr>\n",
       "  </tbody>\n",
       "</table>\n",
       "</div>"
      ],
      "text/plain": [
       "                        Mutation_Effect_Label  Counts\n",
       "Disrupting                                  0     106\n",
       "Increasing + No Effect                      1      58"
      ]
     },
     "metadata": {},
     "output_type": "display_data"
    }
   ],
   "source": [
    "display_label_counts(sampled_train_data)"
   ]
  },
  {
   "cell_type": "markdown",
   "metadata": {},
   "source": [
    "## Prepare the Train Data for Machine Learning Algorithms"
   ]
  },
  {
   "cell_type": "markdown",
   "metadata": {},
   "source": [
    "Remove \"_UniProt_ID_\", \"_Mutation_\", \"_Interactor_UniProt_ID_\" columns, since they are not feature columns."
   ]
  },
  {
   "cell_type": "code",
   "execution_count": 28,
   "metadata": {},
   "outputs": [],
   "source": [
    "sampled_train_data = sampled_train_data.drop([\"UniProt_ID\", \"Mutation\", \"Interactor_UniProt_ID\"], axis='columns')"
   ]
  },
  {
   "cell_type": "markdown",
   "metadata": {},
   "source": [
    "### Shuffle the data"
   ]
  },
  {
   "cell_type": "code",
   "execution_count": 29,
   "metadata": {},
   "outputs": [],
   "source": [
    "# Shuffle the rows in data_prepared:\n",
    "data_prepared = sampled_train_data.sample(frac=1, random_state=96).reset_index(drop=True).copy()"
   ]
  },
  {
   "cell_type": "markdown",
   "metadata": {},
   "source": [
    "### Train and Validation variables"
   ]
  },
  {
   "cell_type": "markdown",
   "metadata": {},
   "source": [
    "Splitting `data_prepared` into training set and validation set using random splitting:"
   ]
  },
  {
   "cell_type": "code",
   "execution_count": 30,
   "metadata": {},
   "outputs": [
    {
     "name": "stdout",
     "output_type": "stream",
     "text": [
      "(131, 6) (33, 6)\n"
     ]
    }
   ],
   "source": [
    "from sklearn.model_selection import train_test_split\n",
    "\n",
    "random_train_set, random_valid_set = train_test_split(\n",
    "    data_prepared, test_size=0.2, random_state=42)\n",
    "\n",
    "print(random_train_set.shape, random_valid_set.shape)"
   ]
  },
  {
   "cell_type": "code",
   "execution_count": 31,
   "metadata": {},
   "outputs": [
    {
     "data": {
      "text/html": [
       "<div>\n",
       "<style scoped>\n",
       "    .dataframe tbody tr th:only-of-type {\n",
       "        vertical-align: middle;\n",
       "    }\n",
       "\n",
       "    .dataframe tbody tr th {\n",
       "        vertical-align: top;\n",
       "    }\n",
       "\n",
       "    .dataframe thead th {\n",
       "        text-align: right;\n",
       "    }\n",
       "</style>\n",
       "<table border=\"1\" class=\"dataframe\">\n",
       "  <thead>\n",
       "    <tr style=\"text-align: right;\">\n",
       "      <th></th>\n",
       "      <th>Mutation_Effect_Label</th>\n",
       "      <th>Template_sequence_identity</th>\n",
       "      <th>Alignment_score</th>\n",
       "      <th>ProtBert_score</th>\n",
       "      <th>Provean_score</th>\n",
       "      <th>Matrix_score</th>\n",
       "    </tr>\n",
       "  </thead>\n",
       "  <tbody>\n",
       "    <tr>\n",
       "      <th>84</th>\n",
       "      <td>0</td>\n",
       "      <td>0.3020</td>\n",
       "      <td>0.182182</td>\n",
       "      <td>0.084937</td>\n",
       "      <td>-4.047</td>\n",
       "      <td>-2.0</td>\n",
       "    </tr>\n",
       "    <tr>\n",
       "      <th>2</th>\n",
       "      <td>0</td>\n",
       "      <td>0.4419</td>\n",
       "      <td>0.258090</td>\n",
       "      <td>0.281697</td>\n",
       "      <td>-6.168</td>\n",
       "      <td>-3.0</td>\n",
       "    </tr>\n",
       "    <tr>\n",
       "      <th>94</th>\n",
       "      <td>1</td>\n",
       "      <td>1.0000</td>\n",
       "      <td>0.421622</td>\n",
       "      <td>0.794942</td>\n",
       "      <td>-4.400</td>\n",
       "      <td>-3.0</td>\n",
       "    </tr>\n",
       "    <tr>\n",
       "      <th>45</th>\n",
       "      <td>1</td>\n",
       "      <td>0.9865</td>\n",
       "      <td>0.987175</td>\n",
       "      <td>0.127309</td>\n",
       "      <td>-1.327</td>\n",
       "      <td>1.0</td>\n",
       "    </tr>\n",
       "    <tr>\n",
       "      <th>42</th>\n",
       "      <td>0</td>\n",
       "      <td>0.5104</td>\n",
       "      <td>0.405917</td>\n",
       "      <td>0.934410</td>\n",
       "      <td>-4.729</td>\n",
       "      <td>-1.0</td>\n",
       "    </tr>\n",
       "  </tbody>\n",
       "</table>\n",
       "</div>"
      ],
      "text/plain": [
       "    Mutation_Effect_Label  Template_sequence_identity  Alignment_score  \\\n",
       "84                      0                      0.3020         0.182182   \n",
       "2                       0                      0.4419         0.258090   \n",
       "94                      1                      1.0000         0.421622   \n",
       "45                      1                      0.9865         0.987175   \n",
       "42                      0                      0.5104         0.405917   \n",
       "\n",
       "    ProtBert_score  Provean_score  Matrix_score  \n",
       "84        0.084937         -4.047          -2.0  \n",
       "2         0.281697         -6.168          -3.0  \n",
       "94        0.794942         -4.400          -3.0  \n",
       "45        0.127309         -1.327           1.0  \n",
       "42        0.934410         -4.729          -1.0  "
      ]
     },
     "execution_count": 31,
     "metadata": {},
     "output_type": "execute_result"
    }
   ],
   "source": [
    "random_train_set.head()"
   ]
  },
  {
   "cell_type": "markdown",
   "metadata": {},
   "source": [
    "Splitting `train_data` into training set and validation set using stratified random splitting, we get something like (with `random_state=42` in shuffle):\n",
    "```python\n",
    ">>> train_index\n",
    "array([513, 676, 164, 520,  23], dtype=int64)\n",
    "```\n",
    "**Note:** Due to the shuffling, it may change when different `random_state` is provided in shuffling."
   ]
  },
  {
   "cell_type": "markdown",
   "metadata": {},
   "source": [
    "StratifiedShuffleSplit and StratifiedKFold returns the *different* permutation of numbers. The following cell contains `n_splits=1`, meaning that it is used for generation of a sequence of numbers in a random order."
   ]
  },
  {
   "cell_type": "code",
   "execution_count": 32,
   "metadata": {},
   "outputs": [],
   "source": [
    "from sklearn.model_selection import StratifiedShuffleSplit\n",
    "\n",
    "split = StratifiedShuffleSplit(n_splits=1, test_size=0.2, random_state=42)\n",
    "for train_index, valid_index in split.split(data_prepared, data_prepared[\"Mutation_Effect_Label\"]):\n",
    "    strat_train_set = data_prepared.iloc[train_index]\n",
    "    strat_valid_set = data_prepared.iloc[valid_index]"
   ]
  },
  {
   "cell_type": "code",
   "execution_count": 33,
   "metadata": {},
   "outputs": [
    {
     "data": {
      "text/plain": [
       "array([ 80,  10,  17, 107,  59], dtype=int64)"
      ]
     },
     "execution_count": 33,
     "metadata": {},
     "output_type": "execute_result"
    }
   ],
   "source": [
    "train_index[:5]"
   ]
  },
  {
   "cell_type": "code",
   "execution_count": 34,
   "metadata": {},
   "outputs": [
    {
     "data": {
      "text/html": [
       "<div>\n",
       "<style scoped>\n",
       "    .dataframe tbody tr th:only-of-type {\n",
       "        vertical-align: middle;\n",
       "    }\n",
       "\n",
       "    .dataframe tbody tr th {\n",
       "        vertical-align: top;\n",
       "    }\n",
       "\n",
       "    .dataframe thead th {\n",
       "        text-align: right;\n",
       "    }\n",
       "</style>\n",
       "<table border=\"1\" class=\"dataframe\">\n",
       "  <thead>\n",
       "    <tr style=\"text-align: right;\">\n",
       "      <th></th>\n",
       "      <th>Mutation_Effect_Label</th>\n",
       "      <th>Template_sequence_identity</th>\n",
       "      <th>Alignment_score</th>\n",
       "      <th>ProtBert_score</th>\n",
       "      <th>Provean_score</th>\n",
       "      <th>Matrix_score</th>\n",
       "    </tr>\n",
       "  </thead>\n",
       "  <tbody>\n",
       "    <tr>\n",
       "      <th>80</th>\n",
       "      <td>0</td>\n",
       "      <td>0.3095</td>\n",
       "      <td>0.201429</td>\n",
       "      <td>0.996520</td>\n",
       "      <td>-4.523</td>\n",
       "      <td>-2.0</td>\n",
       "    </tr>\n",
       "    <tr>\n",
       "      <th>10</th>\n",
       "      <td>1</td>\n",
       "      <td>0.2604</td>\n",
       "      <td>0.269226</td>\n",
       "      <td>0.430199</td>\n",
       "      <td>-3.223</td>\n",
       "      <td>-1.0</td>\n",
       "    </tr>\n",
       "    <tr>\n",
       "      <th>17</th>\n",
       "      <td>0</td>\n",
       "      <td>1.0000</td>\n",
       "      <td>0.821429</td>\n",
       "      <td>-0.006916</td>\n",
       "      <td>-2.854</td>\n",
       "      <td>-3.0</td>\n",
       "    </tr>\n",
       "    <tr>\n",
       "      <th>107</th>\n",
       "      <td>0</td>\n",
       "      <td>1.0000</td>\n",
       "      <td>0.862069</td>\n",
       "      <td>0.031112</td>\n",
       "      <td>-10.620</td>\n",
       "      <td>-3.0</td>\n",
       "    </tr>\n",
       "    <tr>\n",
       "      <th>59</th>\n",
       "      <td>1</td>\n",
       "      <td>0.8624</td>\n",
       "      <td>0.861377</td>\n",
       "      <td>-0.063936</td>\n",
       "      <td>-7.998</td>\n",
       "      <td>-2.0</td>\n",
       "    </tr>\n",
       "  </tbody>\n",
       "</table>\n",
       "</div>"
      ],
      "text/plain": [
       "     Mutation_Effect_Label  Template_sequence_identity  Alignment_score  \\\n",
       "80                       0                      0.3095         0.201429   \n",
       "10                       1                      0.2604         0.269226   \n",
       "17                       0                      1.0000         0.821429   \n",
       "107                      0                      1.0000         0.862069   \n",
       "59                       1                      0.8624         0.861377   \n",
       "\n",
       "     ProtBert_score  Provean_score  Matrix_score  \n",
       "80         0.996520         -4.523          -2.0  \n",
       "10         0.430199         -3.223          -1.0  \n",
       "17        -0.006916         -2.854          -3.0  \n",
       "107        0.031112        -10.620          -3.0  \n",
       "59        -0.063936         -7.998          -2.0  "
      ]
     },
     "execution_count": 34,
     "metadata": {},
     "output_type": "execute_result"
    }
   ],
   "source": [
    "strat_train_set.head()"
   ]
  },
  {
   "cell_type": "code",
   "execution_count": 35,
   "metadata": {},
   "outputs": [
    {
     "data": {
      "text/plain": [
       "((131, 6), (33, 6))"
      ]
     },
     "execution_count": 35,
     "metadata": {},
     "output_type": "execute_result"
    }
   ],
   "source": [
    "strat_train_set.shape, strat_valid_set.shape"
   ]
  },
  {
   "cell_type": "code",
   "execution_count": 36,
   "metadata": {},
   "outputs": [
    {
     "data": {
      "text/html": [
       "<div>\n",
       "<style scoped>\n",
       "    .dataframe tbody tr th:only-of-type {\n",
       "        vertical-align: middle;\n",
       "    }\n",
       "\n",
       "    .dataframe tbody tr th {\n",
       "        vertical-align: top;\n",
       "    }\n",
       "\n",
       "    .dataframe thead th {\n",
       "        text-align: right;\n",
       "    }\n",
       "</style>\n",
       "<table border=\"1\" class=\"dataframe\">\n",
       "  <thead>\n",
       "    <tr style=\"text-align: right;\">\n",
       "      <th></th>\n",
       "      <th>Overall</th>\n",
       "      <th>Stratified</th>\n",
       "      <th>Random</th>\n",
       "      <th>Rand. %error</th>\n",
       "      <th>Strat. %error</th>\n",
       "    </tr>\n",
       "  </thead>\n",
       "  <tbody>\n",
       "    <tr>\n",
       "      <th>Disruptive</th>\n",
       "      <td>0.646341</td>\n",
       "      <td>0.636364</td>\n",
       "      <td>0.69697</td>\n",
       "      <td>7.833047</td>\n",
       "      <td>-1.543739</td>\n",
       "    </tr>\n",
       "    <tr>\n",
       "      <th>Increasing + No Effect</th>\n",
       "      <td>0.353659</td>\n",
       "      <td>0.363636</td>\n",
       "      <td>0.30303</td>\n",
       "      <td>-14.315569</td>\n",
       "      <td>2.821317</td>\n",
       "    </tr>\n",
       "  </tbody>\n",
       "</table>\n",
       "</div>"
      ],
      "text/plain": [
       "                         Overall  Stratified   Random  Rand. %error  \\\n",
       "Disruptive              0.646341    0.636364  0.69697      7.833047   \n",
       "Increasing + No Effect  0.353659    0.363636  0.30303    -14.315569   \n",
       "\n",
       "                        Strat. %error  \n",
       "Disruptive                  -1.543739  \n",
       "Increasing + No Effect       2.821317  "
      ]
     },
     "execution_count": 36,
     "metadata": {},
     "output_type": "execute_result"
    }
   ],
   "source": [
    "def label_proportions(data_param):\n",
    "    return data_param[\"Mutation_Effect_Label\"].value_counts() / len(data_param)\n",
    "\n",
    "compare_props = pd.DataFrame({\n",
    "    \"Overall\": label_proportions(data_prepared),\n",
    "    \"Stratified\": label_proportions(strat_valid_set),\n",
    "    \"Random\": label_proportions(random_valid_set)\n",
    "}).sort_index()\n",
    "compare_props[\"Rand. %error\"] = 100 * compare_props[\"Random\"] / compare_props[\"Overall\"] - 100\n",
    "compare_props[\"Strat. %error\"] = 100 * compare_props[\"Stratified\"] / compare_props[\"Overall\"] - 100\n",
    "compare_props.rename(index={0: 'Disruptive', 1: 'Increasing + No Effect'}, inplace=True)\n",
    "compare_props"
   ]
  },
  {
   "cell_type": "markdown",
   "metadata": {},
   "source": [
    "Splitting data randomly results in representativeness error, therefore, `strat_train_set` and `strat_valid_set` can be used."
   ]
  },
  {
   "cell_type": "markdown",
   "metadata": {},
   "source": [
    "### Declare `X_train`, `y_train`, `X_valid`, `y_valid`"
   ]
  },
  {
   "cell_type": "code",
   "execution_count": 37,
   "metadata": {},
   "outputs": [],
   "source": [
    "# All data, i.e. data_prepared\n",
    "X = data_prepared.drop([\"Mutation_Effect_Label\"], axis=\"columns\")\n",
    "y = data_prepared[\"Mutation_Effect_Label\"].copy()"
   ]
  },
  {
   "cell_type": "code",
   "execution_count": 38,
   "metadata": {},
   "outputs": [
    {
     "name": "stdout",
     "output_type": "stream",
     "text": [
      "(131, 5) (131,)\n",
      "(33, 5) (33,)\n"
     ]
    }
   ],
   "source": [
    "# Stratified version\n",
    "X_train = strat_train_set.drop([\"Mutation_Effect_Label\"], axis=\"columns\")\n",
    "y_train = strat_train_set[\"Mutation_Effect_Label\"].copy()\n",
    "X_valid = strat_valid_set.drop([\"Mutation_Effect_Label\"], axis=\"columns\")\n",
    "y_valid = strat_valid_set[\"Mutation_Effect_Label\"].copy()\n",
    "# Printing their shapes\n",
    "print(X_train.shape, y_train.shape)\n",
    "print(X_valid.shape, y_valid.shape)"
   ]
  },
  {
   "cell_type": "code",
   "execution_count": 39,
   "metadata": {},
   "outputs": [
    {
     "name": "stdout",
     "output_type": "stream",
     "text": [
      "(131, 5) (131,)\n",
      "(33, 5) (33,)\n"
     ]
    }
   ],
   "source": [
    "# Randomized version\n",
    "X_train_random = random_train_set.drop([\"Mutation_Effect_Label\"], axis=\"columns\")\n",
    "y_train_random = random_train_set[\"Mutation_Effect_Label\"].copy()\n",
    "X_valid_random = random_valid_set.drop([\"Mutation_Effect_Label\"], axis=\"columns\")\n",
    "y_valid_random = random_valid_set[\"Mutation_Effect_Label\"].copy()\n",
    "# Printing their shapes\n",
    "print(X_train.shape, y_train.shape)\n",
    "print(X_valid.shape, y_valid.shape)"
   ]
  },
  {
   "cell_type": "markdown",
   "metadata": {},
   "source": [
    "# Machine Learning Utils"
   ]
  },
  {
   "cell_type": "code",
   "execution_count": 40,
   "metadata": {},
   "outputs": [],
   "source": [
    "# Imports\n",
    "from sklearn.ensemble import RandomForestClassifier\n",
    "from sklearn.model_selection import cross_val_score\n",
    "from sklearn.model_selection import cross_val_predict\n",
    "from sklearn.model_selection import KFold\n",
    "from sklearn.model_selection import StratifiedKFold\n",
    "from sklearn.metrics import accuracy_score\n",
    "from sklearn.metrics import balanced_accuracy_score\n",
    "from sklearn.metrics import confusion_matrix\n",
    "from sklearn.metrics import plot_confusion_matrix\n",
    "from sklearn.metrics import classification_report\n",
    "from itertools import combinations\n",
    "import seaborn as sns"
   ]
  },
  {
   "cell_type": "code",
   "execution_count": 41,
   "metadata": {},
   "outputs": [],
   "source": [
    "def cross_validation_options(cv_option_param, n_jobs_param=-1):\n",
    "    \"\"\"\n",
    "    A helper function that returns (my) desired cv_option and n_jobs.\n",
    "    \"\"\"\n",
    "    \n",
    "    # Options for cross-validation cv= parameter.\n",
    "    if isinstance(cv_option_param, int):\n",
    "        cv_option_param = cv_option_param\n",
    "    elif cv_option_param == \"skf_5\":\n",
    "        cv_option_param = StratifiedKFold(shuffle=True, n_splits=5)\n",
    "    elif cv_option_param == \"skf_10\":\n",
    "        cv_option_param = StratifiedKFold(shuffle=True, n_splits=10)\n",
    "    elif cv_option_param == \"kf_5\":\n",
    "        cv_option_param = KFold(shuffle=True, n_splits=5)\n",
    "    elif cv_option_param == \"kf_10\":\n",
    "        cv_option_param = KFold(shuffle=True, n_splits=10)\n",
    "    else:\n",
    "        raise ValueError(\"cv_option value error!\")\n",
    "        \n",
    "    # Option for j_jobs:\n",
    "    n_jobs_param = -1\n",
    "    \n",
    "    return cv_option_param, n_jobs_param"
   ]
  },
  {
   "cell_type": "markdown",
   "metadata": {},
   "source": [
    "# Classification: Initial Insights"
   ]
  },
  {
   "cell_type": "code",
   "execution_count": 42,
   "metadata": {},
   "outputs": [],
   "source": [
    "attributes = list(X.columns)\n",
    "\n",
    "# Plotting feature importance in barplot\n",
    "def plot_feature_importances(feature_importances):\n",
    "    feature_imp_series = pd.Series(feature_importances,\n",
    "                               index = attributes).sort_values(ascending=False)\n",
    "\n",
    "    plt.figure(figsize=(5, 20))\n",
    "    sns.set(style=\"white\", font_scale=1.15)  # white, dark, whitegrid, darkgrid, ticks\n",
    "    sns.barplot(x=feature_imp_series, y=feature_imp_series.index, palette=\"ch:s=-.2,r=.6\")\n",
    "    plt.xlabel('Feature Importance Scores')\n",
    "    plt.ylabel('Variables')\n",
    "    plt.title('Feature Importances')\n",
    "    plt.show()\n",
    "    \n",
    "    \n",
    "# Plotting top n feature importance in barplot\n",
    "def plot_top_feature_importances(feature_importances, top_n=10, figsize=None):\n",
    "    feature_imp_series = pd.Series(feature_importances,\n",
    "                               index = attributes).sort_values(ascending=False)\n",
    "    \n",
    "    figsize = (5 , top_n//3) if not figsize else (5, 5)\n",
    "    \n",
    "    sns.set(style=\"white\", font_scale=1.15)  # white, dark, whitegrid, darkgrid, ticks\n",
    "    feature_imp_series_top_n = feature_imp_series[:top_n]\n",
    "    plt.figure(figsize=figsize)\n",
    "    sns.barplot(x=feature_imp_series_top_n, y=feature_imp_series_top_n.index, palette=\"ch:s=-.2,r=.6\")\n",
    "    plt.xlabel('Feature Importance Scores')\n",
    "    plt.ylabel('Variables')\n",
    "    plt.title('Feature Importances (top {})'.format(top_n))\n",
    "    plt.show()"
   ]
  },
  {
   "cell_type": "markdown",
   "metadata": {},
   "source": [
    "### Initial Scoring"
   ]
  },
  {
   "cell_type": "code",
   "execution_count": 49,
   "metadata": {},
   "outputs": [
    {
     "name": "stdout",
     "output_type": "stream",
     "text": [
      "Balanced accuracy score : 0.6369\n",
      "Accuracy score\t\t: 0.6970\n"
     ]
    }
   ],
   "source": [
    "# Initial scoring: X_train, y_train with prediction of X_valid\n",
    "forest_clf_inital = RandomForestClassifier(random_state=42)\n",
    "\n",
    "forest_clf_inital.fit(X_train, y_train)\n",
    "\n",
    "forest_predictions = forest_clf_inital.predict(X_valid)\n",
    "\n",
    "print(\"Balanced accuracy score : {:.4f}\".format(balanced_accuracy_score(y_valid, forest_predictions)))\n",
    "print(\"Accuracy score\\t\\t: {:.4f}\".format(accuracy_score(y_valid, forest_predictions)))"
   ]
  },
  {
   "cell_type": "markdown",
   "metadata": {},
   "source": [
    "### Initial Feature Importance"
   ]
  },
  {
   "cell_type": "code",
   "execution_count": 50,
   "metadata": {},
   "outputs": [],
   "source": [
    "attributes = list(X.columns)"
   ]
  },
  {
   "cell_type": "code",
   "execution_count": 51,
   "metadata": {
    "tags": []
   },
   "outputs": [],
   "source": [
    "# plot_feature_importances(forest_clf_inital.feature_importances_)"
   ]
  },
  {
   "cell_type": "code",
   "execution_count": 52,
   "metadata": {
    "tags": []
   },
   "outputs": [
    {
     "data": {
      "image/png": "[encoded data removed]",
      "text/plain": [
       "<Figure size 360x360 with 1 Axes>"
      ]
     },
     "metadata": {},
     "output_type": "display_data"
    }
   ],
   "source": [
    "plot_top_feature_importances(forest_clf_inital.feature_importances_, top_n=10, \n",
    "                             figsize=(5,5))"
   ]
  },
  {
   "cell_type": "code",
   "execution_count": 53,
   "metadata": {},
   "outputs": [
    {
     "data": {
      "text/plain": [
       "array([0.15759622, 0.18677042, 0.19522885, 0.32392222, 0.13648229])"
      ]
     },
     "execution_count": 53,
     "metadata": {},
     "output_type": "execute_result"
    }
   ],
   "source": [
    "forest_clf_inital.feature_importances_"
   ]
  },
  {
   "cell_type": "markdown",
   "metadata": {},
   "source": [
    "# Classification"
   ]
  },
  {
   "cell_type": "markdown",
   "metadata": {},
   "source": [
    "## Initial Insights"
   ]
  },
  {
   "cell_type": "code",
   "execution_count": 54,
   "metadata": {},
   "outputs": [],
   "source": [
    "# Imports\n",
    "from sklearn.ensemble import RandomForestClassifier\n",
    "from sklearn.metrics import accuracy_score\n",
    "from sklearn.metrics import balanced_accuracy_score\n",
    "from sklearn.ensemble import RandomForestClassifier\n",
    "from sklearn.metrics import accuracy_score\n",
    "from sklearn.metrics import balanced_accuracy_score\n",
    "from sklearn.model_selection import cross_val_score\n",
    "from sklearn.model_selection import KFold\n",
    "from sklearn.model_selection import StratifiedKFold"
   ]
  },
  {
   "cell_type": "code",
   "execution_count": 55,
   "metadata": {},
   "outputs": [],
   "source": [
    "feature_columns = list(data_prepared.columns)[1:]\n",
    "\n",
    "# Plotting feature importance in barplot\n",
    "def plot_feature_importances(feature_importances):\n",
    "    attributes = feature_columns\n",
    "    feature_imp_series = pd.Series(feature_importances,\n",
    "                               index = attributes).sort_values(ascending=False)\n",
    "\n",
    "    plt.figure(figsize=(5, 20))\n",
    "    sns.set(style=\"white\", font_scale=1.15)  # white, dark, whitegrid, darkgrid, ticks\n",
    "    sns.barplot(x=feature_imp_series, y=feature_imp_series.index, palette=\"ch:s=-.2,r=.6\")\n",
    "    plt.xlabel('Feature Importance Scores')\n",
    "    plt.ylabel('Variables')\n",
    "    plt.title('Feature Importances')\n",
    "    plt.show()\n",
    "    \n",
    "    \n",
    "# Plotting top n feature importance in barplot\n",
    "def plot_top_feature_importances(feature_importances, top_n=10, figsize=None):\n",
    "    attributes = feature_columns\n",
    "    feature_imp_series = pd.Series(feature_importances,\n",
    "                               index = attributes).sort_values(ascending=False)\n",
    "    \n",
    "    figsize = (5 , top_n//3) if not figsize else (5, 5)\n",
    "    \n",
    "    sns.set(style=\"white\", font_scale=1.15)  # white, dark, whitegrid, darkgrid, ticks\n",
    "    feature_imp_series_top_n = feature_imp_series[:top_n]\n",
    "    plt.figure(figsize=figsize)\n",
    "    sns.barplot(x=feature_imp_series_top_n, y=feature_imp_series_top_n.index, palette=\"ch:s=-.2,r=.6\")\n",
    "    plt.xlabel('Feature Importance Scores')\n",
    "    plt.ylabel('Variables')\n",
    "    plt.title('Feature Importances (top {})'.format(top_n))\n",
    "    plt.show()"
   ]
  },
  {
   "cell_type": "code",
   "execution_count": 56,
   "metadata": {},
   "outputs": [
    {
     "name": "stdout",
     "output_type": "stream",
     "text": [
      "Balanced accuracy score : 0.6369\n",
      "Accuracy score\t\t: 0.6970\n"
     ]
    }
   ],
   "source": [
    "# Initial scoring: X_train, y_train with prediction of X_valid\n",
    "forest_clf_inital = RandomForestClassifier(random_state=42)\n",
    "\n",
    "forest_clf_inital.fit(X_train, y_train)\n",
    "\n",
    "forest_predictions = forest_clf_inital.predict(X_valid)\n",
    "\n",
    "print(\"Balanced accuracy score : {:.4f}\".format(balanced_accuracy_score(y_valid, forest_predictions)))\n",
    "print(\"Accuracy score\\t\\t: {:.4f}\".format(accuracy_score(y_valid, forest_predictions)))"
   ]
  },
  {
   "cell_type": "code",
   "execution_count": 57,
   "metadata": {},
   "outputs": [],
   "source": [
    "def evaluate_cross_val(X_train_param, y_train_param, cv_option_param):\n",
    "        \n",
    "    # Cross Validation options\n",
    "    cv_option, n_jobs = cross_validation_options(cv_option_param, -1)\n",
    "    \n",
    "    # Model\n",
    "    forest_clf = RandomForestClassifier(random_state=42)\n",
    "    \n",
    "    # Cross-validation Accuracy and Balanced Accuracy Scores\n",
    "    forest_scores_bas = cross_val_score(forest_clf, \n",
    "                                        X_train_param, y_train_param,\n",
    "                                        cv=cv_option, scoring=\"balanced_accuracy\", n_jobs=n_jobs)\n",
    "\n",
    "    forest_scores_as = cross_val_score(forest_clf, \n",
    "                                       X_train_param, y_train_param,\n",
    "                                       cv=cv_option, scoring=\"accuracy\", n_jobs=n_jobs)\n",
    "    \n",
    "    # Print scores and averages\n",
    "    print(\"Balanced accuracy score AVG : {:.4f}\".format(forest_scores_bas.mean()))\n",
    "#     print(forest_scores_bas)\n",
    "    print(\"Accuracy score AVG          : {:.4f}\".format(forest_scores_as.mean()))\n",
    "#     print(forest_scores_as)"
   ]
  },
  {
   "cell_type": "code",
   "execution_count": 58,
   "metadata": {},
   "outputs": [
    {
     "name": "stdout",
     "output_type": "stream",
     "text": [
      "Balanced accuracy score AVG : 0.6532\n",
      "Accuracy score AVG          : 0.6945\n"
     ]
    }
   ],
   "source": [
    "evaluate_cross_val(X, y, \"skf_10\")"
   ]
  },
  {
   "cell_type": "code",
   "execution_count": 59,
   "metadata": {},
   "outputs": [
    {
     "name": "stdout",
     "output_type": "stream",
     "text": [
      "Balanced accuracy score AVG : 0.6520\n",
      "Accuracy score AVG          : 0.7096\n"
     ]
    }
   ],
   "source": [
    "evaluate_cross_val(X, y, \"skf_10\")"
   ]
  },
  {
   "cell_type": "code",
   "execution_count": 60,
   "metadata": {},
   "outputs": [
    {
     "name": "stdout",
     "output_type": "stream",
     "text": [
      "Balanced accuracy score AVG : 0.6329\n",
      "Accuracy score AVG          : 0.7254\n"
     ]
    }
   ],
   "source": [
    "evaluate_cross_val(X, y, \"skf_10\")"
   ]
  },
  {
   "cell_type": "code",
   "execution_count": 61,
   "metadata": {},
   "outputs": [
    {
     "name": "stdout",
     "output_type": "stream",
     "text": [
      "Balanced accuracy score AVG : 0.6294\n",
      "Accuracy score AVG          : 0.6954\n"
     ]
    }
   ],
   "source": [
    "evaluate_cross_val(X_train, y_train, \"skf_5\")"
   ]
  },
  {
   "cell_type": "code",
   "execution_count": 62,
   "metadata": {},
   "outputs": [
    {
     "name": "stdout",
     "output_type": "stream",
     "text": [
      "Balanced accuracy score AVG : 0.6645\n",
      "Accuracy score AVG          : 0.6831\n"
     ]
    }
   ],
   "source": [
    "evaluate_cross_val(X, y, \"skf_10\")"
   ]
  },
  {
   "cell_type": "code",
   "execution_count": 63,
   "metadata": {},
   "outputs": [],
   "source": [
    "from sklearn.metrics import plot_confusion_matrix\n",
    "from sklearn.metrics import confusion_matrix\n",
    "from sklearn.model_selection import cross_val_predict\n",
    "from sklearn.metrics import classification_report\n",
    "import seaborn as sns\n",
    "\n",
    "def cross_val_confusion_matrix_via(model_param, X_train_param, y_train_param,\n",
    "                                   return_report=False):\n",
    "    \n",
    "    skf = StratifiedKFold(shuffle=True, n_splits=10)\n",
    "    y_pred_temp = cross_val_predict(model_param, X_train_param, y_train_param, cv=skf)\n",
    "    \n",
    "    label_names = [\"Disrupting\", \"NoEffect+Increasing\"]\n",
    "       \n",
    "    sns.heatmap(confusion_matrix(y_train_param, y_pred_temp), annot=True, fmt=\"d\", xticklabels=label_names, yticklabels=label_names)\n",
    "    plt.title(r'$\\mathbf{Confusion\\ Matrix}$', fontsize=16, fontweight='bold')\n",
    "    plt.ylabel('Actual', fontsize=16, fontweight='bold')\n",
    "    plt.xlabel('Predicted', fontsize=16, fontweight='bold')\n",
    "    plt.show()\n",
    "    \n",
    "    if return_report:\n",
    "        print(classification_report(y_train_param, y_pred_temp, target_names=label_names))\n",
    "  "
   ]
  },
  {
   "cell_type": "code",
   "execution_count": 64,
   "metadata": {
    "tags": []
   },
   "outputs": [
    {
     "data": {
      "image/png": "[encoded data removed]",
      "text/plain": [
       "<Figure size 432x288 with 2 Axes>"
      ]
     },
     "metadata": {},
     "output_type": "display_data"
    },
    {
     "name": "stdout",
     "output_type": "stream",
     "text": [
      "                     precision    recall  f1-score   support\n",
      "\n",
      "         Disrupting       0.74      0.91      0.81       106\n",
      "NoEffect+Increasing       0.71      0.41      0.52        58\n",
      "\n",
      "           accuracy                           0.73       164\n",
      "          macro avg       0.72      0.66      0.67       164\n",
      "       weighted avg       0.73      0.73      0.71       164\n",
      "\n"
     ]
    }
   ],
   "source": [
    "cross_val_confusion_matrix_via(RandomForestClassifier(random_state=42),\n",
    "                               X, y, return_report=True)"
   ]
  },
  {
   "cell_type": "markdown",
   "metadata": {},
   "source": [
    "## Exhoustively Selected Features"
   ]
  },
  {
   "cell_type": "code",
   "execution_count": 65,
   "metadata": {},
   "outputs": [],
   "source": [
    "# X_mfs = X[['EL2_score', 'Provean_score', 'Matrix_score', 'Final_ddG']]\n",
    "# X_Alignment_score = X[['Alignment_score']]\n",
    "# X_Provean_score = X[['Provean_score']]\n",
    "# X_selected_11 = X[['Template_sequence_identity', 'Alignment_score', 'Interactor_template_sequence_identity', 'Interactor_alignment_score', 'Final_ddG', 'ProtBert_score', 'ProteinSolver_score', 'EL2_score', 'Model/DOPE_score', 'Provean_score', 'Matrix_score']]\n",
    "\n",
    "# # 3\n",
    "# X_selected_exhaustive_3_1 = X[['Template_sequence_identity', 'Alignment_score', 'Provean_score']]\n",
    "# X_selected_exhaustive_3_2 = X[['Template_sequence_identity', 'Provean_score', 'Matrix_score']]\n",
    "\n",
    "# # 4\n",
    "# X_selected_exhaustive_4_1 = X[['Template_sequence_identity', 'Alignment_score', 'ProtBert_score', 'Matrix_score']]\n",
    "# X_selected_exhaustive_4_2 = X[['Template_sequence_identity', 'ProtBert_score', 'Provean_score', 'Matrix_score']]\n",
    "# X_selected_exhaustive_4_3 = X[['Alignment_score', 'ProtBert_score', 'Provean_score', 'Matrix_score']]\n",
    "\n",
    "# # 5\n",
    "# X_selected_exhaustive_5 = X[['Template_sequence_identity', 'Alignment_score', 'ProtBert_score', 'Provean_score', 'Matrix_score']]"
   ]
  },
  {
   "cell_type": "code",
   "execution_count": 92,
   "metadata": {},
   "outputs": [],
   "source": [
    "# X_benchmark_feature_names_dataframes =\\\n",
    "# [(\"X_Alignment_score\", X_Alignment_score), \n",
    "#  (\"X_Provean_score\", X_Provean_score), \n",
    "#  (\"X_selected_11\", X_selected_11), \n",
    "#  (\"X_selected_exhaustive_3_1\", X_selected_exhaustive_3_1), \n",
    "#  (\"X_selected_exhaustive_3_2\", X_selected_exhaustive_3_2), \n",
    "#  (\"X_selected_exhaustive_4_1\", X_selected_exhaustive_4_1), \n",
    "#  (\"X_selected_exhaustive_4_2\", X_selected_exhaustive_4_2), \n",
    "#  (\"X_selected_exhaustive_4_3\", X_selected_exhaustive_4_3), \n",
    "#  (\"X_selected_exhaustive_5\", X_selected_exhaustive_5),  \n",
    "#  (\"X_mfs\", X_mfs), \n",
    "#  ('X', X)]"
   ]
  },
  {
   "cell_type": "code",
   "execution_count": 67,
   "metadata": {},
   "outputs": [],
   "source": [
    "X_benchmark_feature_names_dataframes = [(\"X\", X)]"
   ]
  },
  {
   "cell_type": "markdown",
   "metadata": {},
   "source": [
    "## Evaluation Metrics"
   ]
  },
  {
   "cell_type": "code",
   "execution_count": 68,
   "metadata": {},
   "outputs": [],
   "source": [
    "from sklearn.model_selection import RepeatedStratifiedKFold"
   ]
  },
  {
   "cell_type": "code",
   "execution_count": 69,
   "metadata": {},
   "outputs": [],
   "source": [
    "def cross_val_score_feature_comparison(X_param, y_param, scoring_param):\n",
    "    \n",
    "    return(round(cross_val_score(RandomForestClassifier(), \n",
    "                                X_param, y_param, \n",
    "                                cv=RepeatedStratifiedKFold(n_splits=10, n_repeats=10), \n",
    "                                scoring=scoring_param, n_jobs=-1).mean(), 4))"
   ]
  },
  {
   "cell_type": "markdown",
   "metadata": {},
   "source": [
    "In calculation of scores, cross-validation is repeated 10 times, which yields a total of 100 folds."
   ]
  },
  {
   "cell_type": "markdown",
   "metadata": {},
   "source": [
    "### Scores"
   ]
  },
  {
   "cell_type": "markdown",
   "metadata": {},
   "source": [
    "#### F1 score"
   ]
  },
  {
   "cell_type": "code",
   "execution_count": 70,
   "metadata": {},
   "outputs": [
    {
     "name": "stdout",
     "output_type": "stream",
     "text": [
      "X                           : 0.5049\n"
     ]
    }
   ],
   "source": [
    "# Testing F1 score\n",
    "f1_scores_comparison = []\n",
    "for X_item_name, X_item in X_benchmark_feature_names_dataframes:\n",
    "    scores = cross_val_score_feature_comparison(X_item, y, \"f1\")\n",
    "    f1_scores_comparison.append(scores)\n",
    "    print(\"{: <28}: {}\".format(X_item_name, scores))"
   ]
  },
  {
   "cell_type": "markdown",
   "metadata": {},
   "source": [
    "#### balanced_accuracy score"
   ]
  },
  {
   "cell_type": "code",
   "execution_count": 71,
   "metadata": {},
   "outputs": [
    {
     "name": "stdout",
     "output_type": "stream",
     "text": [
      "X                           : 0.6513\n"
     ]
    }
   ],
   "source": [
    "# Testing balanced_accuracy score\n",
    "balanced_acc_scores_comparison = []\n",
    "for X_item_name, X_item in X_benchmark_feature_names_dataframes:\n",
    "    scores = cross_val_score_feature_comparison(X_item, y, \"balanced_accuracy\")\n",
    "    balanced_acc_scores_comparison.append(scores)\n",
    "    print(\"{: <28}: {}\".format(X_item_name, scores))"
   ]
  },
  {
   "cell_type": "markdown",
   "metadata": {},
   "source": [
    "#### accuracy score"
   ]
  },
  {
   "cell_type": "code",
   "execution_count": 72,
   "metadata": {},
   "outputs": [
    {
     "name": "stdout",
     "output_type": "stream",
     "text": [
      "X                        : 0.7046\n"
     ]
    }
   ],
   "source": [
    "# Testing accuracy score\n",
    "acc_scores_comparison = []\n",
    "for X_item_name, X_item in X_benchmark_feature_names_dataframes:\n",
    "    scores = cross_val_score_feature_comparison(X_item, y, \"accuracy\")\n",
    "    acc_scores_comparison.append(scores)\n",
    "    print(\"{: <25}: {}\".format(X_item_name, scores))"
   ]
  },
  {
   "cell_type": "markdown",
   "metadata": {},
   "source": [
    "#### f1-macro score"
   ]
  },
  {
   "cell_type": "code",
   "execution_count": 73,
   "metadata": {},
   "outputs": [
    {
     "name": "stdout",
     "output_type": "stream",
     "text": [
      "X                        : 0.6602\n"
     ]
    }
   ],
   "source": [
    "# Testing f1-macro score\n",
    "f1_macro_scores_comparison = []\n",
    "for X_item_name, X_item in X_benchmark_feature_names_dataframes:\n",
    "    scores = cross_val_score_feature_comparison(X_item, y, \"f1_macro\")\n",
    "    f1_macro_scores_comparison.append(scores)\n",
    "    print(\"{: <25}: {}\".format(X_item_name, scores))"
   ]
  },
  {
   "cell_type": "markdown",
   "metadata": {},
   "source": [
    "#### f1-micro score"
   ]
  },
  {
   "cell_type": "code",
   "execution_count": 74,
   "metadata": {},
   "outputs": [
    {
     "name": "stdout",
     "output_type": "stream",
     "text": [
      "X                        : 0.7198\n"
     ]
    }
   ],
   "source": [
    "# Testing f1-micro score\n",
    "f1_micro_scores_comparison = []\n",
    "for X_item_name, X_item in X_benchmark_feature_names_dataframes:\n",
    "    scores = cross_val_score_feature_comparison(X_item, y, \"f1_micro\")\n",
    "    f1_micro_scores_comparison.append(scores)\n",
    "    print(\"{: <25}: {}\".format(X_item_name, scores))"
   ]
  },
  {
   "cell_type": "markdown",
   "metadata": {},
   "source": [
    "#### precision score"
   ]
  },
  {
   "cell_type": "code",
   "execution_count": 75,
   "metadata": {},
   "outputs": [
    {
     "name": "stdout",
     "output_type": "stream",
     "text": [
      "X                        : 0.66\n"
     ]
    }
   ],
   "source": [
    "# Testing precision score\n",
    "precision_scores_comparison = []\n",
    "for X_item_name, X_item in X_benchmark_feature_names_dataframes:\n",
    "    scores = cross_val_score_feature_comparison(X_item, y, \"precision\")\n",
    "    precision_scores_comparison.append(scores)\n",
    "    print(\"{: <25}: {}\".format(X_item_name, scores))"
   ]
  },
  {
   "cell_type": "markdown",
   "metadata": {},
   "source": [
    "#### recall score"
   ]
  },
  {
   "cell_type": "code",
   "execution_count": 76,
   "metadata": {},
   "outputs": [
    {
     "name": "stdout",
     "output_type": "stream",
     "text": [
      "X                        : 0.45\n"
     ]
    }
   ],
   "source": [
    "# Testing recall score\n",
    "recall_scores_comparison = []\n",
    "for X_item_name, X_item in X_benchmark_feature_names_dataframes:\n",
    "    scores = cross_val_score_feature_comparison(X_item, y, \"recall\")\n",
    "    recall_scores_comparison.append(scores)\n",
    "    print(\"{: <25}: {}\".format(X_item_name, scores))"
   ]
  },
  {
   "cell_type": "markdown",
   "metadata": {},
   "source": [
    "#### roc auc"
   ]
  },
  {
   "cell_type": "code",
   "execution_count": 77,
   "metadata": {},
   "outputs": [
    {
     "name": "stdout",
     "output_type": "stream",
     "text": [
      "X                        : 0.7303\n"
     ]
    }
   ],
   "source": [
    "# Testing roc auc score\n",
    "roc_auc_scores_comparison = []\n",
    "for X_item_name, X_item in X_benchmark_feature_names_dataframes:\n",
    "    scores = cross_val_score_feature_comparison(X_item, y, \"roc_auc\")\n",
    "    roc_auc_scores_comparison.append(scores)\n",
    "    print(\"{: <25}: {}\".format(X_item_name, scores))"
   ]
  },
  {
   "cell_type": "markdown",
   "metadata": {},
   "source": [
    "#### precision_macro"
   ]
  },
  {
   "cell_type": "code",
   "execution_count": 78,
   "metadata": {},
   "outputs": [
    {
     "name": "stdout",
     "output_type": "stream",
     "text": [
      "X                        : 0.6937\n"
     ]
    }
   ],
   "source": [
    "# Testing precision_macro score\n",
    "precision_macro_scores_comparison = []\n",
    "for X_item_name, X_item in X_benchmark_feature_names_dataframes:\n",
    "    scores = cross_val_score_feature_comparison(X_item, y, \"precision_macro\")\n",
    "    precision_macro_scores_comparison.append(scores)\n",
    "    print(\"{: <25}: {}\".format(X_item_name, scores))"
   ]
  },
  {
   "cell_type": "markdown",
   "metadata": {},
   "source": [
    "#### precision_micro"
   ]
  },
  {
   "cell_type": "code",
   "execution_count": 79,
   "metadata": {},
   "outputs": [
    {
     "name": "stdout",
     "output_type": "stream",
     "text": [
      "X                        : 0.7164\n"
     ]
    }
   ],
   "source": [
    "# Testing precision_micro score\n",
    "precision_micro_scores_comparison = []\n",
    "for X_item_name, X_item in X_benchmark_feature_names_dataframes:\n",
    "    scores = cross_val_score_feature_comparison(X_item, y, \"precision_micro\")\n",
    "    precision_micro_scores_comparison.append(scores)\n",
    "    print(\"{: <25}: {}\".format(X_item_name, scores))"
   ]
  },
  {
   "cell_type": "markdown",
   "metadata": {},
   "source": [
    "### Scores Table"
   ]
  },
  {
   "cell_type": "code",
   "execution_count": 80,
   "metadata": {},
   "outputs": [],
   "source": [
    "scoring_metrics_table =\\\n",
    "pd.DataFrame({\n",
    "    \"F1\": f1_scores_comparison,\n",
    "    \"Balanced Acc\": balanced_acc_scores_comparison,\n",
    "    \"Accuracy\": acc_scores_comparison,\n",
    "    \"F1 Macro\": f1_macro_scores_comparison,\n",
    "    \"F1 Micro\": f1_micro_scores_comparison,\n",
    "    \"Precision\": precision_scores_comparison,\n",
    "    \"Recall\": recall_scores_comparison,\n",
    "    \"ROC_AUC\": roc_auc_scores_comparison,\n",
    "    \"Precision Macro\": precision_macro_scores_comparison,\n",
    "    \"Precision Micro\": precision_micro_scores_comparison,\n",
    "}, index=[e[0] for e in X_benchmark_feature_names_dataframes])"
   ]
  },
  {
   "cell_type": "code",
   "execution_count": 81,
   "metadata": {},
   "outputs": [
    {
     "data": {
      "text/html": [
       "<div>\n",
       "<style scoped>\n",
       "    .dataframe tbody tr th:only-of-type {\n",
       "        vertical-align: middle;\n",
       "    }\n",
       "\n",
       "    .dataframe tbody tr th {\n",
       "        vertical-align: top;\n",
       "    }\n",
       "\n",
       "    .dataframe thead th {\n",
       "        text-align: right;\n",
       "    }\n",
       "</style>\n",
       "<table border=\"1\" class=\"dataframe\">\n",
       "  <thead>\n",
       "    <tr style=\"text-align: right;\">\n",
       "      <th></th>\n",
       "      <th>F1</th>\n",
       "      <th>Balanced Acc</th>\n",
       "      <th>Accuracy</th>\n",
       "      <th>F1 Macro</th>\n",
       "      <th>F1 Micro</th>\n",
       "      <th>Precision</th>\n",
       "      <th>Recall</th>\n",
       "      <th>ROC_AUC</th>\n",
       "      <th>Precision Macro</th>\n",
       "      <th>Precision Micro</th>\n",
       "    </tr>\n",
       "  </thead>\n",
       "  <tbody>\n",
       "    <tr>\n",
       "      <th>X</th>\n",
       "      <td>0.5049</td>\n",
       "      <td>0.6513</td>\n",
       "      <td>0.7046</td>\n",
       "      <td>0.6602</td>\n",
       "      <td>0.7198</td>\n",
       "      <td>0.66</td>\n",
       "      <td>0.45</td>\n",
       "      <td>0.7303</td>\n",
       "      <td>0.6937</td>\n",
       "      <td>0.7164</td>\n",
       "    </tr>\n",
       "  </tbody>\n",
       "</table>\n",
       "</div>"
      ],
      "text/plain": [
       "       F1  Balanced Acc  Accuracy  F1 Macro  F1 Micro  Precision  Recall  \\\n",
       "X  0.5049        0.6513    0.7046    0.6602    0.7198       0.66    0.45   \n",
       "\n",
       "   ROC_AUC  Precision Macro  Precision Micro  \n",
       "X   0.7303           0.6937           0.7164  "
      ]
     },
     "execution_count": 81,
     "metadata": {},
     "output_type": "execute_result"
    }
   ],
   "source": [
    "scoring_metrics_table"
   ]
  },
  {
   "cell_type": "code",
   "execution_count": null,
   "metadata": {},
   "outputs": [],
   "source": [
    "# Copy for pasting Excel sheet.\n",
    "scoring_metrics_table.to_clipboard()"
   ]
  },
  {
   "cell_type": "markdown",
   "metadata": {},
   "source": [
    "#### Matthews Corr Coeff (Additional)"
   ]
  },
  {
   "cell_type": "code",
   "execution_count": 69,
   "metadata": {},
   "outputs": [],
   "source": [
    "from sklearn.metrics import matthews_corrcoef"
   ]
  },
  {
   "cell_type": "code",
   "execution_count": 70,
   "metadata": {},
   "outputs": [],
   "source": [
    "def benchmark_matthews_corrcoef(X_train_param, y_train_param,\n",
    "                                X_valid_param, y_valid_param):\n",
    "    \"\"\"\n",
    "    Evaluate matthews corrcoef of given input on RandomForestClassifier.\n",
    "    \"\"\"\n",
    "    clf = RandomForestClassifier()\n",
    "    clf.fit(X_train_param, y_train_param)\n",
    "    preds = clf.predict(X_valid_param)\n",
    "    print(\"MCC: {:.4f}\".format(matthews_corrcoef(y_valid_param, preds)))"
   ]
  },
  {
   "cell_type": "code",
   "execution_count": 71,
   "metadata": {},
   "outputs": [],
   "source": [
    "X_train_Alignment_score = X_train[['Alignment_score']]\n",
    "X_train_Provean_score = X_train[['Provean_score']]\n",
    "X_train_selected_11 = X_train[['Template_sequence_identity', 'Alignment_score', 'Interactor_template_sequence_identity', 'Interactor_alignment_score', 'Final_ddG', 'ProtBert_score', 'ProteinSolver_score', 'EL2_score', 'Model/DOPE_score', 'Provean_score', 'Matrix_score']]\n",
    "X_train_selected_exhaustive_3_1 = X_train[['Template_sequence_identity', 'Alignment_score', 'Provean_score']]\n",
    "X_train_selected_exhaustive_5 = X_train[['Template_sequence_identity', 'Alignment_score', 'ProtBert_score', 'Provean_score', 'Matrix_score']]"
   ]
  },
  {
   "cell_type": "code",
   "execution_count": 72,
   "metadata": {},
   "outputs": [],
   "source": [
    "X_valid_Alignment_score = X_valid[['Alignment_score']]\n",
    "X_valid_Provean_score = X_valid[['Provean_score']]\n",
    "X_valid_selected_11 = X_valid[['Template_sequence_identity', 'Alignment_score', 'Interactor_template_sequence_identity', 'Interactor_alignment_score', 'Final_ddG', 'ProtBert_score', 'ProteinSolver_score', 'EL2_score', 'Model/DOPE_score', 'Provean_score', 'Matrix_score']]\n",
    "X_valid_selected_exhaustive_3_1 = X_valid[['Template_sequence_identity', 'Alignment_score', 'Provean_score']]\n",
    "X_valid_selected_exhaustive_5 = X_valid[['Template_sequence_identity', 'Alignment_score', 'ProtBert_score', 'Provean_score', 'Matrix_score']]"
   ]
  },
  {
   "cell_type": "code",
   "execution_count": 73,
   "metadata": {},
   "outputs": [
    {
     "name": "stdout",
     "output_type": "stream",
     "text": [
      "MCC: 0.7522\n"
     ]
    }
   ],
   "source": [
    "benchmark_matthews_corrcoef(X_train, y_train, X_valid, y_valid)"
   ]
  },
  {
   "cell_type": "code",
   "execution_count": 74,
   "metadata": {},
   "outputs": [
    {
     "name": "stdout",
     "output_type": "stream",
     "text": [
      "MCC: 0.7066\n"
     ]
    }
   ],
   "source": [
    "benchmark_matthews_corrcoef(X_train_Provean_score, y_train, X_valid_Provean_score, y_valid)"
   ]
  },
  {
   "cell_type": "code",
   "execution_count": 75,
   "metadata": {},
   "outputs": [
    {
     "name": "stdout",
     "output_type": "stream",
     "text": [
      "MCC: 0.7891\n"
     ]
    }
   ],
   "source": [
    "benchmark_matthews_corrcoef(X_train_selected_11, y_train, X_valid_selected_11, y_valid)"
   ]
  },
  {
   "cell_type": "code",
   "execution_count": 76,
   "metadata": {},
   "outputs": [
    {
     "name": "stdout",
     "output_type": "stream",
     "text": [
      "MCC: 0.8613\n"
     ]
    }
   ],
   "source": [
    "benchmark_matthews_corrcoef(X_train_selected_exhaustive_3_1, y_train, \n",
    "                            X_valid_selected_exhaustive_3_1, y_valid)"
   ]
  },
  {
   "cell_type": "code",
   "execution_count": 77,
   "metadata": {},
   "outputs": [
    {
     "name": "stdout",
     "output_type": "stream",
     "text": [
      "MCC: 0.8961\n"
     ]
    }
   ],
   "source": [
    "benchmark_matthews_corrcoef(X_train_selected_exhaustive_5, y_train, \n",
    "                            X_valid_selected_exhaustive_5, y_valid)"
   ]
  },
  {
   "cell_type": "markdown",
   "metadata": {},
   "source": [
    "### Confusion Matrices"
   ]
  },
  {
   "cell_type": "code",
   "execution_count": 79,
   "metadata": {
    "tags": []
   },
   "outputs": [
    {
     "data": {
      "image/png": "[encoded data removed]",
      "text/plain": [
       "<Figure size 432x288 with 2 Axes>"
      ]
     },
     "metadata": {},
     "output_type": "display_data"
    },
    {
     "name": "stdout",
     "output_type": "stream",
     "text": [
      "                     precision    recall  f1-score   support\n",
      "\n",
      "         Disrupting       0.92      0.93      0.93       540\n",
      "NoEffect+Increasing       0.81      0.78      0.79       200\n",
      "\n",
      "           accuracy                           0.89       740\n",
      "          macro avg       0.86      0.86      0.86       740\n",
      "       weighted avg       0.89      0.89      0.89       740\n",
      "\n"
     ]
    }
   ],
   "source": [
    "# X_Provean_score\n",
    "cross_val_confusion_matrix_via(RandomForestClassifier(random_state=42),\n",
    "                               X_Provean_score, y, return_report=True)"
   ]
  },
  {
   "cell_type": "code",
   "execution_count": 80,
   "metadata": {
    "tags": []
   },
   "outputs": [
    {
     "data": {
      "image/png": "[encoded data removed]",
      "text/plain": [
       "<Figure size 432x288 with 2 Axes>"
      ]
     },
     "metadata": {},
     "output_type": "display_data"
    }
   ],
   "source": [
    "# X_selected_exhaustive_5\n",
    "cross_val_confusion_matrix_via(RandomForestClassifier(random_state=42),\n",
    "                               X_selected_exhaustive_5, y)"
   ]
  },
  {
   "cell_type": "code",
   "execution_count": 81,
   "metadata": {
    "tags": []
   },
   "outputs": [
    {
     "data": {
      "image/png": "[encoded data removed]",
      "text/plain": [
       "<Figure size 432x288 with 2 Axes>"
      ]
     },
     "metadata": {},
     "output_type": "display_data"
    },
    {
     "name": "stdout",
     "output_type": "stream",
     "text": [
      "                     precision    recall  f1-score   support\n",
      "\n",
      "         Disrupting       0.96      0.98      0.97       540\n",
      "NoEffect+Increasing       0.93      0.88      0.90       200\n",
      "\n",
      "           accuracy                           0.95       740\n",
      "          macro avg       0.94      0.93      0.94       740\n",
      "       weighted avg       0.95      0.95      0.95       740\n",
      "\n"
     ]
    }
   ],
   "source": [
    "# X_selected_exhaustive_3_1\n",
    "cross_val_confusion_matrix_via(RandomForestClassifier(random_state=42),\n",
    "                               X_selected_exhaustive_3_1, y, return_report=True)"
   ]
  },
  {
   "cell_type": "code",
   "execution_count": 82,
   "metadata": {
    "tags": []
   },
   "outputs": [
    {
     "data": {
      "image/png": "[encoded data removed]",
      "text/plain": [
       "<Figure size 432x288 with 2 Axes>"
      ]
     },
     "metadata": {},
     "output_type": "display_data"
    }
   ],
   "source": [
    "# X\n",
    "cross_val_confusion_matrix_via(RandomForestClassifier(random_state=42),\n",
    "                               X, y)"
   ]
  },
  {
   "cell_type": "markdown",
   "metadata": {},
   "source": [
    "### Cross Val Scores"
   ]
  },
  {
   "cell_type": "code",
   "execution_count": 83,
   "metadata": {},
   "outputs": [
    {
     "name": "stdout",
     "output_type": "stream",
     "text": [
      "Balanced accuracy score AVG : 0.6438\n",
      "Accuracy score AVG          : 0.7076\n"
     ]
    }
   ],
   "source": [
    "evaluate_cross_val(X, y, \"skf_5\")"
   ]
  },
  {
   "cell_type": "code",
   "execution_count": 84,
   "metadata": {},
   "outputs": [
    {
     "name": "stdout",
     "output_type": "stream",
     "text": [
      "Balanced accuracy score AVG : 0.6767\n",
      "Accuracy score AVG          : 0.6952\n"
     ]
    }
   ],
   "source": [
    "evaluate_cross_val(X, y, \"skf_10\")"
   ]
  },
  {
   "cell_type": "code",
   "execution_count": null,
   "metadata": {},
   "outputs": [],
   "source": []
  },
  {
   "cell_type": "code",
   "execution_count": null,
   "metadata": {},
   "outputs": [],
   "source": []
  },
  {
   "cell_type": "code",
   "execution_count": 84,
   "metadata": {},
   "outputs": [
    {
     "name": "stdout",
     "output_type": "stream",
     "text": [
      "Balanced accuracy score AVG : 0.9202\n",
      "Accuracy score AVG          : 0.9338\n"
     ]
    }
   ],
   "source": [
    "evaluate_cross_val(X_selected_exhaustive_3_1, y, \"skf_10\")"
   ]
  },
  {
   "cell_type": "code",
   "execution_count": 85,
   "metadata": {},
   "outputs": [
    {
     "name": "stdout",
     "output_type": "stream",
     "text": [
      "Balanced accuracy score AVG : 0.9073\n",
      "Accuracy score AVG          : 0.9338\n"
     ]
    }
   ],
   "source": [
    "evaluate_cross_val(X_selected_exhaustive_5, y, \"skf_10\")"
   ]
  },
  {
   "cell_type": "code",
   "execution_count": 86,
   "metadata": {},
   "outputs": [
    {
     "name": "stdout",
     "output_type": "stream",
     "text": [
      "Balanced accuracy score AVG : 0.8495\n",
      "Accuracy score AVG          : 0.9081\n"
     ]
    }
   ],
   "source": [
    "evaluate_cross_val(X, y, \"skf_10\")"
   ]
  },
  {
   "cell_type": "code",
   "execution_count": null,
   "metadata": {},
   "outputs": [],
   "source": []
  },
  {
   "cell_type": "markdown",
   "metadata": {},
   "source": [
    "# Fine Tuning"
   ]
  },
  {
   "cell_type": "code",
   "execution_count": 87,
   "metadata": {},
   "outputs": [],
   "source": [
    "from sklearn.model_selection import GridSearchCV\n",
    "from sklearn.model_selection import RandomizedSearchCV"
   ]
  },
  {
   "cell_type": "code",
   "execution_count": 88,
   "metadata": {},
   "outputs": [],
   "source": [
    "def plot_top_feature_importances_final(feature_importances, attributes_param, top_n=10, figsize=None):\n",
    "    feature_imp_series = pd.Series(feature_importances,\n",
    "                                   index = attributes_param).sort_values(ascending=False)\n",
    "    \n",
    "    figsize = (5 , top_n//3) if not figsize else (5, 5)\n",
    "    \n",
    "    sns.set(style=\"white\", font_scale=1.15)  # white, dark, whitegrid, darkgrid, ticks\n",
    "    feature_imp_series_top_n = feature_imp_series[:top_n]\n",
    "    plt.figure(figsize=figsize)\n",
    "    sns.barplot(x=feature_imp_series_top_n, y=feature_imp_series_top_n.index, palette=\"ch:s=-.2,r=.6\")\n",
    "    plt.xlabel('Feature Importance Scores')\n",
    "    plt.ylabel('Variables')\n",
    "    plt.title('Feature Importances (top {})'.format(top_n))\n",
    "    plt.show()"
   ]
  },
  {
   "cell_type": "code",
   "execution_count": 95,
   "metadata": {},
   "outputs": [
    {
     "name": "stdout",
     "output_type": "stream",
     "text": [
      "Fitting 10 folds for each of 10 candidates, totalling 100 fits\n"
     ]
    },
    {
     "data": {
      "text/plain": [
       "{'n_estimators': 1000,\n",
       " 'max_features': 'sqrt',\n",
       " 'max_depth': 70,\n",
       " 'bootstrap': False}"
      ]
     },
     "execution_count": 95,
     "metadata": {},
     "output_type": "execute_result"
    }
   ],
   "source": [
    "param_grid_randomized  = {'bootstrap': [True, False],\n",
    "                          'max_depth': [10, 20, 30, 40, 50, 60, 70, 80, 90, 100],\n",
    "                          'max_features': ['auto', 'sqrt'],\n",
    "                          'n_estimators': [200, 400, 600, 800, 1000, 1200, 1400, 1600, 1800, 2000]}\n",
    "                         \n",
    "forest_clf = RandomForestClassifier()\n",
    "# forest_clf = RandomForestClassifier(random_state=42)\n",
    "\n",
    "randomized_search = RandomizedSearchCV(forest_clf, param_grid_randomized, n_iter=10,\n",
    "                                       # random_state=42,    \n",
    "                                       cv=RepeatedStratifiedKFold(n_splits=10, n_repeats=1, random_state=42), \n",
    "                                       scoring='balanced_accuracy', \n",
    "                                       return_train_score=True, n_jobs=-1, verbose=2)\n",
    "\n",
    "randomized_search.fit(X_train_selected_exhaustive_5, y_train)\n",
    "randomized_search.best_params_"
   ]
  },
  {
   "cell_type": "code",
   "execution_count": 96,
   "metadata": {},
   "outputs": [
    {
     "data": {
      "text/plain": [
       "0.9056752114164904"
      ]
     },
     "execution_count": 96,
     "metadata": {},
     "output_type": "execute_result"
    }
   ],
   "source": [
    "randomized_search.best_score_"
   ]
  },
  {
   "cell_type": "code",
   "execution_count": 97,
   "metadata": {},
   "outputs": [
    {
     "data": {
      "text/plain": [
       "RandomForestClassifier(bootstrap=False, max_depth=70, max_features='sqrt',\n",
       "                       n_estimators=1000)"
      ]
     },
     "execution_count": 97,
     "metadata": {},
     "output_type": "execute_result"
    }
   ],
   "source": [
    "final_model = randomized_search.best_estimator_\n",
    "final_model"
   ]
  },
  {
   "cell_type": "markdown",
   "metadata": {},
   "source": [
    "# Final Evalution"
   ]
  },
  {
   "cell_type": "markdown",
   "metadata": {},
   "source": [
    "**Default Model with `X_train_selected_exhaustive_3_5`**"
   ]
  },
  {
   "cell_type": "code",
   "execution_count": 98,
   "metadata": {},
   "outputs": [
    {
     "data": {
      "image/png": "[encoded data removed]",
      "text/plain": [
       "<Figure size 432x288 with 2 Axes>"
      ]
     },
     "metadata": {},
     "output_type": "display_data"
    },
    {
     "name": "stdout",
     "output_type": "stream",
     "text": [
      "Balanced accuracy score : 0.9375\n",
      "Accuracy score\t\t: 0.9662\n"
     ]
    }
   ],
   "source": [
    "# Final scoring comparison: X_train_selected_exhaustive_5, y_train with prediction of X_valid_selected_exhaustive_5\n",
    "forest_clf = RandomForestClassifier(random_state=42)\n",
    "\n",
    "forest_clf.fit(X_train_selected_exhaustive_5, y_train)\n",
    "\n",
    "forest_predictions = forest_clf.predict(X_valid_selected_exhaustive_5)\n",
    "\n",
    "plot_confusion_matrix(forest_clf, X_valid_selected_exhaustive_5, y_valid)\n",
    "plt.show()\n",
    "\n",
    "print(\"Balanced accuracy score : {:.4f}\".format(balanced_accuracy_score(y_valid, forest_predictions)))\n",
    "print(\"Accuracy score\\t\\t: {:.4f}\".format(accuracy_score(y_valid, forest_predictions)))"
   ]
  },
  {
   "cell_type": "markdown",
   "metadata": {},
   "source": [
    " "
   ]
  },
  {
   "cell_type": "markdown",
   "metadata": {},
   "source": [
    "**Hyper-param Tuned Model with `X_train_selected_exhaustive_5`**"
   ]
  },
  {
   "cell_type": "code",
   "execution_count": 99,
   "metadata": {},
   "outputs": [
    {
     "data": {
      "image/png": "[encoded data removed]",
      "text/plain": [
       "<Figure size 432x288 with 2 Axes>"
      ]
     },
     "metadata": {},
     "output_type": "display_data"
    },
    {
     "name": "stdout",
     "output_type": "stream",
     "text": [
      "Balanced accuracy score : 0.9500\n",
      "Accuracy score\t\t: 0.9730\n"
     ]
    }
   ],
   "source": [
    "# Final scoring comparison: X_train_selected_exhaustive_5, y_train with prediction of X_valid_selected_exhaustive_5\n",
    "forest_clf = randomized_search.best_estimator_\n",
    "\n",
    "forest_clf.fit(X_train_selected_exhaustive_5, y_train)\n",
    "\n",
    "forest_predictions = forest_clf.predict(X_valid_selected_exhaustive_5)\n",
    "\n",
    "plot_confusion_matrix(forest_clf, X_valid_selected_exhaustive_5, y_valid)\n",
    "plt.show()\n",
    "\n",
    "print(\"Balanced accuracy score : {:.4f}\".format(balanced_accuracy_score(y_valid, forest_predictions)))\n",
    "print(\"Accuracy score\\t\\t: {:.4f}\".format(accuracy_score(y_valid, forest_predictions)))"
   ]
  },
  {
   "cell_type": "markdown",
   "metadata": {},
   "source": [
    " "
   ]
  },
  {
   "cell_type": "markdown",
   "metadata": {},
   "source": [
    "  "
   ]
  },
  {
   "cell_type": "code",
   "execution_count": 100,
   "metadata": {},
   "outputs": [],
   "source": [
    "def evaluate_cross_val_avg_via(model_param, X_train_param, y_train_param,\n",
    "                               plot_param=True, repeation_param=10):\n",
    "    \n",
    "    # Options for cross-validation cv= parameter.\n",
    "    cv_option, n_jobs = cross_validation_options(\"skf_10\", -1)\n",
    "    repeation=repeation_param\n",
    "    \n",
    "    forest_scores_bas, forest_scores_as = [], []\n",
    "    \n",
    "    for i in range(repeation):\n",
    "        \n",
    "        # Cross-validation Accuracy and Balanced Accuracy Scores\n",
    "        forest_scores_bas.append(cross_val_score(model_param, \n",
    "                                            X_train_param, y_train_param,\n",
    "                                            cv=cv_option, \n",
    "                                            scoring=\"balanced_accuracy\", n_jobs=n_jobs))\n",
    "\n",
    "        forest_scores_as.append(cross_val_score(model_param, \n",
    "                                           X_train_param, y_train_param,\n",
    "                                           cv=cv_option, \n",
    "                                           scoring=\"accuracy\", n_jobs=n_jobs))\n",
    "\n",
    "        # # Print scores and averages\n",
    "        # print(\"Balanced accuracy score AVG : {:.4f}\".format(forest_scores_bas[i].mean()))\n",
    "        # print(\"Accuracy score AVG          : {:.4f}\".format(forest_scores_as[i].mean()))\n",
    "        \n",
    "    if plot_param:\n",
    "        plt.plot(range(1, len(forest_scores_as) + 1), np.array(forest_scores_as).mean(axis=1), \"+\", color='#265191', alpha=0.5, label=\"Accuracy_Scores\")\n",
    "        plt.plot(range(1, len(forest_scores_bas) + 1), np.array(forest_scores_bas).mean(axis=1), \".\", color='#9F2945', alpha=0.5, label=\"Balanced_Accuracy_Scores\")\n",
    "\n",
    "        plt.ylim(0.70, 1)\n",
    "        plt.xticks(range(1, 11))\n",
    "        plt.legend()\n",
    "        plt.xlabel(\"Repetitions\")\n",
    "        plt.ylabel(\"Scores AVG\")\n",
    "        plt.title(\"Accuracy and Balanced Accuracy AVG Scores per Repetition\")\n",
    "        plt.show();"
   ]
  },
  {
   "cell_type": "code",
   "execution_count": 101,
   "metadata": {},
   "outputs": [
    {
     "data": {
      "image/png": "[encoded data removed]",
      "text/plain": [
       "<Figure size 432x288 with 1 Axes>"
      ]
     },
     "metadata": {},
     "output_type": "display_data"
    }
   ],
   "source": [
    "evaluate_cross_val_avg_via(randomized_search.best_estimator_, X_Provean_score, y)"
   ]
  },
  {
   "cell_type": "code",
   "execution_count": 102,
   "metadata": {},
   "outputs": [
    {
     "data": {
      "image/png": "[encoded data removed]",
      "text/plain": [
       "<Figure size 432x288 with 1 Axes>"
      ]
     },
     "metadata": {},
     "output_type": "display_data"
    }
   ],
   "source": [
    "evaluate_cross_val_avg_via(randomized_search.best_estimator_, X, y)"
   ]
  },
  {
   "cell_type": "code",
   "execution_count": 103,
   "metadata": {},
   "outputs": [
    {
     "data": {
      "image/png": "[encoded data removed]",
      "text/plain": [
       "<Figure size 432x288 with 1 Axes>"
      ]
     },
     "metadata": {},
     "output_type": "display_data"
    }
   ],
   "source": [
    "evaluate_cross_val_avg_via(randomized_search.best_estimator_, X_selected_exhaustive_3_1, y)"
   ]
  },
  {
   "cell_type": "code",
   "execution_count": 104,
   "metadata": {},
   "outputs": [
    {
     "data": {
      "image/png": "[encoded data removed]",
      "text/plain": [
       "<Figure size 432x288 with 1 Axes>"
      ]
     },
     "metadata": {},
     "output_type": "display_data"
    }
   ],
   "source": [
    "evaluate_cross_val_avg_via(randomized_search.best_estimator_, X_selected_exhaustive_5, y)"
   ]
  },
  {
   "cell_type": "code",
   "execution_count": 105,
   "metadata": {},
   "outputs": [
    {
     "data": {
      "image/png": "[encoded data removed]",
      "text/plain": [
       "<Figure size 432x288 with 1 Axes>"
      ]
     },
     "metadata": {},
     "output_type": "display_data"
    }
   ],
   "source": [
    "evaluate_cross_val_avg_via(RandomForestClassifier(), X_selected_exhaustive_3_1, y)"
   ]
  },
  {
   "cell_type": "code",
   "execution_count": 106,
   "metadata": {},
   "outputs": [
    {
     "data": {
      "image/png": "[encoded data removed]",
      "text/plain": [
       "<Figure size 432x288 with 1 Axes>"
      ]
     },
     "metadata": {},
     "output_type": "display_data"
    }
   ],
   "source": [
    "evaluate_cross_val_avg_via(RandomForestClassifier(), X_selected_exhaustive_5, y)"
   ]
  },
  {
   "cell_type": "markdown",
   "metadata": {},
   "source": [
    "## Final Models"
   ]
  },
  {
   "cell_type": "markdown",
   "metadata": {},
   "source": [
    "# **CHECK HERE???** **CHECK HERE???** **CHECK HERE???** **CHECK HERE???** **CHECK HERE???**"
   ]
  },
  {
   "cell_type": "markdown",
   "metadata": {},
   "source": [
    "**Model I: ???**"
   ]
  },
  {
   "cell_type": "code",
   "execution_count": 107,
   "metadata": {},
   "outputs": [],
   "source": [
    "final_model_randomized = randomized_search.best_estimator_"
   ]
  },
  {
   "cell_type": "code",
   "execution_count": 108,
   "metadata": {},
   "outputs": [
    {
     "data": {
      "text/plain": [
       "0.95"
      ]
     },
     "execution_count": 108,
     "metadata": {},
     "output_type": "execute_result"
    }
   ],
   "source": [
    "balanced_accuracy_score(y_valid, final_model_randomized.predict(X_valid_selected_exhaustive_5))"
   ]
  },
  {
   "cell_type": "markdown",
   "metadata": {},
   "source": [
    "**Model II: *RandomForestClassifier* fitted with whole train data**"
   ]
  },
  {
   "cell_type": "code",
   "execution_count": 109,
   "metadata": {},
   "outputs": [
    {
     "data": {
      "text/plain": [
       "RandomForestClassifier(random_state=42)"
      ]
     },
     "execution_count": 109,
     "metadata": {},
     "output_type": "execute_result"
    }
   ],
   "source": [
    "final_model_forest = RandomForestClassifier(random_state=42)\n",
    "\n",
    "final_model_forest.fit(X_selected_exhaustive_5, y)"
   ]
  },
  {
   "cell_type": "markdown",
   "metadata": {},
   "source": [
    "## Final Features and Importances"
   ]
  },
  {
   "cell_type": "code",
   "execution_count": 110,
   "metadata": {},
   "outputs": [],
   "source": [
    "def plot_top_feature_importances_final_2(feature_importances, attributes_param):\n",
    "    attributes = feature_columns\n",
    "    feature_imp_series = pd.Series(feature_importances,\n",
    "                                    index = attributes_param).sort_values(ascending=False)\n",
    "\n",
    "    plt.figure(figsize=(5, 3))\n",
    "    sns.set(style=\"white\", font_scale=1.15)  # white, dark, whitegrid, darkgrid, ticks\n",
    "    sns.barplot(x=feature_imp_series, y=feature_imp_series.index, palette=\"ch:s=-.2,r=.6\")\n",
    "    plt.xlabel('Feature Importances')\n",
    "    plt.ylabel('Features')\n",
    "    plt.title('Feature Importances of Selected Features')\n",
    "    plt.show()"
   ]
  },
  {
   "cell_type": "code",
   "execution_count": 111,
   "metadata": {},
   "outputs": [
    {
     "data": {
      "image/png": "[encoded data removed]",
      "text/plain": [
       "<Figure size 360x216 with 1 Axes>"
      ]
     },
     "metadata": {},
     "output_type": "display_data"
    }
   ],
   "source": [
    "plot_top_feature_importances_final_2(randomized_search.best_estimator_.feature_importances_, X_selected_exhaustive_5.columns)"
   ]
  },
  {
   "cell_type": "code",
   "execution_count": null,
   "metadata": {},
   "outputs": [],
   "source": []
  }
 ],
 "metadata": {
  "kernelspec": {
   "display_name": "Python (MyVenvML)",
   "language": "python",
   "name": "myvenvml"
  },
  "language_info": {
   "codemirror_mode": {
    "name": "ipython",
    "version": 3
   },
   "file_extension": ".py",
   "mimetype": "text/x-python",
   "name": "python",
   "nbconvert_exporter": "python",
   "pygments_lexer": "ipython3",
   "version": "3.9.4"
  }
 },
 "nbformat": 4,
 "nbformat_minor": 4
}
