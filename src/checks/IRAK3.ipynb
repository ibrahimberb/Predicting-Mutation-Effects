{
 "cells": [
  {
   "cell_type": "markdown",
   "id": "e1fc36f7-7b82-492f-8391-2958fdeeffa7",
   "metadata": {
    "tags": []
   },
   "source": [
    "# IRAK3 in BRCA"
   ]
  },
  {
   "cell_type": "code",
   "execution_count": 1,
   "id": "8c382ea0-ac4e-4c84-85a9-de00dda04103",
   "metadata": {},
   "outputs": [],
   "source": [
    "import os\n",
    "\n",
    "os.chdir('../')"
   ]
  },
  {
   "cell_type": "code",
   "execution_count": 2,
   "id": "ba24939b-fcef-4de6-ac8c-c628b9508edf",
   "metadata": {},
   "outputs": [],
   "source": [
    "import pandas as pd\n",
    "from tqdm.notebook import tqdm"
   ]
  },
  {
   "cell_type": "code",
   "execution_count": 3,
   "id": "1dd2354d-a43b-4056-845a-ffe9ef14081d",
   "metadata": {},
   "outputs": [],
   "source": [
    "ELASPIC_RESULTS_COMMON_PATH = \"../../My-ELASPIC-Web-API/Elaspic_Results/Merged_Results/\"  # elaspic_results_datasets\n",
    "BRCA_CORE_PATH = ELASPIC_RESULTS_COMMON_PATH + \"BRCA_Core_2021-09-28.txt\"\n",
    "BRCA_INTERFACE_PATH = ELASPIC_RESULTS_COMMON_PATH + \"BRCA_Interface_2021-09-28.txt\"\n",
    "SNV_COMMON_PATH = \"C:/Users/ibrah/Desktop/TUSEB_Study/Data_Collection_and_Filtering/SNV/\"\n",
    "SNV_BRCA_PATH = SNV_COMMON_PATH + \"SNV_BRCA_hg38.csv\""
   ]
  },
  {
   "cell_type": "code",
   "execution_count": 4,
   "id": "baf2369d-e47c-4e0f-b01f-4649e66e589b",
   "metadata": {},
   "outputs": [
    {
     "name": "stdout",
     "output_type": "stream",
     "text": [
      "(120988, 121)\n"
     ]
    },
    {
     "data": {
      "text/html": [
       "<div>\n",
       "<style scoped>\n",
       "    .dataframe tbody tr th:only-of-type {\n",
       "        vertical-align: middle;\n",
       "    }\n",
       "\n",
       "    .dataframe tbody tr th {\n",
       "        vertical-align: top;\n",
       "    }\n",
       "\n",
       "    .dataframe thead th {\n",
       "        text-align: right;\n",
       "    }\n",
       "</style>\n",
       "<table border=\"1\" class=\"dataframe\">\n",
       "  <thead>\n",
       "    <tr style=\"text-align: right;\">\n",
       "      <th></th>\n",
       "      <th>Unnamed: 0</th>\n",
       "      <th>Hugo_Symbol</th>\n",
       "      <th>Entrez_Gene_Id</th>\n",
       "      <th>Center</th>\n",
       "      <th>NCBI_Build</th>\n",
       "      <th>Chromosome</th>\n",
       "      <th>Start_Position</th>\n",
       "      <th>End_Position</th>\n",
       "      <th>Strand</th>\n",
       "      <th>Variant_Classification</th>\n",
       "      <th>...</th>\n",
       "      <th>FILTER</th>\n",
       "      <th>CONTEXT</th>\n",
       "      <th>src_vcf_id</th>\n",
       "      <th>tumor_bam_uuid</th>\n",
       "      <th>normal_bam_uuid</th>\n",
       "      <th>case_id</th>\n",
       "      <th>GDC_FILTER</th>\n",
       "      <th>COSMIC</th>\n",
       "      <th>MC3_Overlap</th>\n",
       "      <th>GDC_Validation_Status</th>\n",
       "    </tr>\n",
       "  </thead>\n",
       "  <tbody>\n",
       "    <tr>\n",
       "      <th>0</th>\n",
       "      <td>1</td>\n",
       "      <td>USP24</td>\n",
       "      <td>23358</td>\n",
       "      <td>WUGSC</td>\n",
       "      <td>GRCh38</td>\n",
       "      <td>chr1</td>\n",
       "      <td>55159655</td>\n",
       "      <td>55159655</td>\n",
       "      <td>+</td>\n",
       "      <td>Missense_Mutation</td>\n",
       "      <td>...</td>\n",
       "      <td>panel_of_normals</td>\n",
       "      <td>CTGGATTGTAG</td>\n",
       "      <td>d083d669-6646-463b-853e-c58da8d06439</td>\n",
       "      <td>4374e19d-c5e7-49cf-8707-05ae5aeb7369</td>\n",
       "      <td>aadee87c-6a68-4580-bd10-64ac273b1e3d</td>\n",
       "      <td>0130d616-885e-4a6c-9d03-2f17dd692a05</td>\n",
       "      <td>common_in_exac;gdc_pon</td>\n",
       "      <td>NaN</td>\n",
       "      <td>True</td>\n",
       "      <td>Unknown</td>\n",
       "    </tr>\n",
       "    <tr>\n",
       "      <th>1</th>\n",
       "      <td>2</td>\n",
       "      <td>ERICH3</td>\n",
       "      <td>127254</td>\n",
       "      <td>WUGSC</td>\n",
       "      <td>GRCh38</td>\n",
       "      <td>chr1</td>\n",
       "      <td>74571494</td>\n",
       "      <td>74571494</td>\n",
       "      <td>+</td>\n",
       "      <td>Missense_Mutation</td>\n",
       "      <td>...</td>\n",
       "      <td>PASS</td>\n",
       "      <td>TTCCTCTACCA</td>\n",
       "      <td>d083d669-6646-463b-853e-c58da8d06439</td>\n",
       "      <td>4374e19d-c5e7-49cf-8707-05ae5aeb7369</td>\n",
       "      <td>aadee87c-6a68-4580-bd10-64ac273b1e3d</td>\n",
       "      <td>0130d616-885e-4a6c-9d03-2f17dd692a05</td>\n",
       "      <td>NaN</td>\n",
       "      <td>COSM1474194</td>\n",
       "      <td>True</td>\n",
       "      <td>Unknown</td>\n",
       "    </tr>\n",
       "    <tr>\n",
       "      <th>2</th>\n",
       "      <td>3</td>\n",
       "      <td>KIF26B</td>\n",
       "      <td>55083</td>\n",
       "      <td>WUGSC</td>\n",
       "      <td>GRCh38</td>\n",
       "      <td>chr1</td>\n",
       "      <td>245419680</td>\n",
       "      <td>245419680</td>\n",
       "      <td>+</td>\n",
       "      <td>Silent</td>\n",
       "      <td>...</td>\n",
       "      <td>PASS</td>\n",
       "      <td>GCCTCGCAGGG</td>\n",
       "      <td>d083d669-6646-463b-853e-c58da8d06439</td>\n",
       "      <td>4374e19d-c5e7-49cf-8707-05ae5aeb7369</td>\n",
       "      <td>aadee87c-6a68-4580-bd10-64ac273b1e3d</td>\n",
       "      <td>0130d616-885e-4a6c-9d03-2f17dd692a05</td>\n",
       "      <td>NaN</td>\n",
       "      <td>COSM1473725;COSM1473726</td>\n",
       "      <td>True</td>\n",
       "      <td>Unknown</td>\n",
       "    </tr>\n",
       "  </tbody>\n",
       "</table>\n",
       "<p>3 rows × 121 columns</p>\n",
       "</div>"
      ],
      "text/plain": [
       "   Unnamed: 0 Hugo_Symbol  Entrez_Gene_Id Center NCBI_Build Chromosome  \\\n",
       "0           1       USP24           23358  WUGSC     GRCh38       chr1   \n",
       "1           2      ERICH3          127254  WUGSC     GRCh38       chr1   \n",
       "2           3      KIF26B           55083  WUGSC     GRCh38       chr1   \n",
       "\n",
       "   Start_Position  End_Position Strand Variant_Classification  ...  \\\n",
       "0        55159655      55159655      +      Missense_Mutation  ...   \n",
       "1        74571494      74571494      +      Missense_Mutation  ...   \n",
       "2       245419680     245419680      +                 Silent  ...   \n",
       "\n",
       "             FILTER      CONTEXT                            src_vcf_id  \\\n",
       "0  panel_of_normals  CTGGATTGTAG  d083d669-6646-463b-853e-c58da8d06439   \n",
       "1              PASS  TTCCTCTACCA  d083d669-6646-463b-853e-c58da8d06439   \n",
       "2              PASS  GCCTCGCAGGG  d083d669-6646-463b-853e-c58da8d06439   \n",
       "\n",
       "                         tumor_bam_uuid                       normal_bam_uuid  \\\n",
       "0  4374e19d-c5e7-49cf-8707-05ae5aeb7369  aadee87c-6a68-4580-bd10-64ac273b1e3d   \n",
       "1  4374e19d-c5e7-49cf-8707-05ae5aeb7369  aadee87c-6a68-4580-bd10-64ac273b1e3d   \n",
       "2  4374e19d-c5e7-49cf-8707-05ae5aeb7369  aadee87c-6a68-4580-bd10-64ac273b1e3d   \n",
       "\n",
       "                                case_id              GDC_FILTER  \\\n",
       "0  0130d616-885e-4a6c-9d03-2f17dd692a05  common_in_exac;gdc_pon   \n",
       "1  0130d616-885e-4a6c-9d03-2f17dd692a05                     NaN   \n",
       "2  0130d616-885e-4a6c-9d03-2f17dd692a05                     NaN   \n",
       "\n",
       "                    COSMIC  MC3_Overlap  GDC_Validation_Status  \n",
       "0                      NaN         True                Unknown  \n",
       "1              COSM1474194         True                Unknown  \n",
       "2  COSM1473725;COSM1473726         True                Unknown  \n",
       "\n",
       "[3 rows x 121 columns]"
      ]
     },
     "execution_count": 4,
     "metadata": {},
     "output_type": "execute_result"
    }
   ],
   "source": [
    "brca_snv = pd.read_csv(SNV_BRCA_PATH, low_memory=False)\n",
    "print(brca_snv.shape)\n",
    "brca_snv.head(3)"
   ]
  },
  {
   "cell_type": "code",
   "execution_count": 5,
   "id": "46b804dc-0e38-4c1d-8f13-2e00bc1f5da5",
   "metadata": {},
   "outputs": [
    {
     "name": "stdout",
     "output_type": "stream",
     "text": [
      "(19357, 103)\n"
     ]
    },
    {
     "data": {
      "text/html": [
       "<div>\n",
       "<style scoped>\n",
       "    .dataframe tbody tr th:only-of-type {\n",
       "        vertical-align: middle;\n",
       "    }\n",
       "\n",
       "    .dataframe tbody tr th {\n",
       "        vertical-align: top;\n",
       "    }\n",
       "\n",
       "    .dataframe thead th {\n",
       "        text-align: right;\n",
       "    }\n",
       "</style>\n",
       "<table border=\"1\" class=\"dataframe\">\n",
       "  <thead>\n",
       "    <tr style=\"text-align: right;\">\n",
       "      <th></th>\n",
       "      <th>Input_identifier</th>\n",
       "      <th>UniProt_ID</th>\n",
       "      <th>Mutation</th>\n",
       "      <th>Status</th>\n",
       "      <th>Type</th>\n",
       "      <th>COSMIC_mut_ID</th>\n",
       "      <th>ClinVar_mut_ID</th>\n",
       "      <th>UniProt_mut_ID</th>\n",
       "      <th>Domain_name</th>\n",
       "      <th>Domain_clan</th>\n",
       "      <th>...</th>\n",
       "      <th>number_of_residues_mut</th>\n",
       "      <th>IntraclashesEnergy1_wt</th>\n",
       "      <th>IntraclashesEnergy1_mut</th>\n",
       "      <th>IntraclashesEnergy2_wt</th>\n",
       "      <th>IntraclashesEnergy2_mut</th>\n",
       "      <th>Interface_hydrophobic_area</th>\n",
       "      <th>Interface_hydrophilic_area</th>\n",
       "      <th>Interface_total_area</th>\n",
       "      <th>Interface_contact_distance_wt</th>\n",
       "      <th>Interface_contact_distance_mut</th>\n",
       "    </tr>\n",
       "  </thead>\n",
       "  <tbody>\n",
       "    <tr>\n",
       "      <th>0</th>\n",
       "      <td>P35367</td>\n",
       "      <td>P35367</td>\n",
       "      <td>M206V</td>\n",
       "      <td>done</td>\n",
       "      <td>core</td>\n",
       "      <td>COSM1484451</td>\n",
       "      <td>-</td>\n",
       "      <td>-</td>\n",
       "      <td>7tm_1</td>\n",
       "      <td>7tm_1</td>\n",
       "      <td>...</td>\n",
       "      <td>458.0</td>\n",
       "      <td>-</td>\n",
       "      <td>-</td>\n",
       "      <td>-</td>\n",
       "      <td>-</td>\n",
       "      <td>-</td>\n",
       "      <td>-</td>\n",
       "      <td>-</td>\n",
       "      <td>-</td>\n",
       "      <td>-</td>\n",
       "    </tr>\n",
       "    <tr>\n",
       "      <th>1</th>\n",
       "      <td>Q96RQ3</td>\n",
       "      <td>Q96RQ3</td>\n",
       "      <td>R66H</td>\n",
       "      <td>done</td>\n",
       "      <td>core</td>\n",
       "      <td>COSM1041745</td>\n",
       "      <td>-</td>\n",
       "      <td>-</td>\n",
       "      <td>CPSase_L_chain+CPSase_L_D2+Biotin_carb_C</td>\n",
       "      <td>CPSase_L_chain+CPSase_L_D2+Biotin_carb_C</td>\n",
       "      <td>...</td>\n",
       "      <td>574.0</td>\n",
       "      <td>-</td>\n",
       "      <td>-</td>\n",
       "      <td>-</td>\n",
       "      <td>-</td>\n",
       "      <td>-</td>\n",
       "      <td>-</td>\n",
       "      <td>-</td>\n",
       "      <td>-</td>\n",
       "      <td>-</td>\n",
       "    </tr>\n",
       "    <tr>\n",
       "      <th>2</th>\n",
       "      <td>O00203</td>\n",
       "      <td>O00203</td>\n",
       "      <td>R227H</td>\n",
       "      <td>done</td>\n",
       "      <td>core</td>\n",
       "      <td>COSM1438700</td>\n",
       "      <td>-</td>\n",
       "      <td>-</td>\n",
       "      <td>Adaptin_N</td>\n",
       "      <td>Adaptin_N</td>\n",
       "      <td>...</td>\n",
       "      <td>618.0</td>\n",
       "      <td>-</td>\n",
       "      <td>-</td>\n",
       "      <td>-</td>\n",
       "      <td>-</td>\n",
       "      <td>-</td>\n",
       "      <td>-</td>\n",
       "      <td>-</td>\n",
       "      <td>-</td>\n",
       "      <td>-</td>\n",
       "    </tr>\n",
       "  </tbody>\n",
       "</table>\n",
       "<p>3 rows × 103 columns</p>\n",
       "</div>"
      ],
      "text/plain": [
       "  Input_identifier UniProt_ID Mutation Status  Type COSMIC_mut_ID  \\\n",
       "0           P35367     P35367    M206V   done  core   COSM1484451   \n",
       "1           Q96RQ3     Q96RQ3     R66H   done  core   COSM1041745   \n",
       "2           O00203     O00203    R227H   done  core   COSM1438700   \n",
       "\n",
       "  ClinVar_mut_ID UniProt_mut_ID                               Domain_name  \\\n",
       "0              -              -                                     7tm_1   \n",
       "1              -              -  CPSase_L_chain+CPSase_L_D2+Biotin_carb_C   \n",
       "2              -              -                                 Adaptin_N   \n",
       "\n",
       "                                Domain_clan  ... number_of_residues_mut  \\\n",
       "0                                     7tm_1  ...                  458.0   \n",
       "1  CPSase_L_chain+CPSase_L_D2+Biotin_carb_C  ...                  574.0   \n",
       "2                                 Adaptin_N  ...                  618.0   \n",
       "\n",
       "  IntraclashesEnergy1_wt  IntraclashesEnergy1_mut  IntraclashesEnergy2_wt  \\\n",
       "0                      -                        -                       -   \n",
       "1                      -                        -                       -   \n",
       "2                      -                        -                       -   \n",
       "\n",
       "  IntraclashesEnergy2_mut Interface_hydrophobic_area  \\\n",
       "0                       -                          -   \n",
       "1                       -                          -   \n",
       "2                       -                          -   \n",
       "\n",
       "  Interface_hydrophilic_area Interface_total_area  \\\n",
       "0                          -                    -   \n",
       "1                          -                    -   \n",
       "2                          -                    -   \n",
       "\n",
       "  Interface_contact_distance_wt Interface_contact_distance_mut  \n",
       "0                             -                              -  \n",
       "1                             -                              -  \n",
       "2                             -                              -  \n",
       "\n",
       "[3 rows x 103 columns]"
      ]
     },
     "execution_count": 5,
     "metadata": {},
     "output_type": "execute_result"
    }
   ],
   "source": [
    "brca_core_data_original = pd.read_csv(BRCA_CORE_PATH, sep='\\t', low_memory=False)\n",
    "print(brca_core_data_original.shape)\n",
    "brca_core_data_original.head(3)"
   ]
  },
  {
   "cell_type": "code",
   "execution_count": 6,
   "id": "b79ddff8-90b1-4060-ab70-8537cedc32d9",
   "metadata": {},
   "outputs": [
    {
     "name": "stdout",
     "output_type": "stream",
     "text": [
      "(7467, 103)\n"
     ]
    },
    {
     "data": {
      "text/html": [
       "<div>\n",
       "<style scoped>\n",
       "    .dataframe tbody tr th:only-of-type {\n",
       "        vertical-align: middle;\n",
       "    }\n",
       "\n",
       "    .dataframe tbody tr th {\n",
       "        vertical-align: top;\n",
       "    }\n",
       "\n",
       "    .dataframe thead th {\n",
       "        text-align: right;\n",
       "    }\n",
       "</style>\n",
       "<table border=\"1\" class=\"dataframe\">\n",
       "  <thead>\n",
       "    <tr style=\"text-align: right;\">\n",
       "      <th></th>\n",
       "      <th>Input_identifier</th>\n",
       "      <th>UniProt_ID</th>\n",
       "      <th>Mutation</th>\n",
       "      <th>Status</th>\n",
       "      <th>Type</th>\n",
       "      <th>COSMIC_mut_ID</th>\n",
       "      <th>ClinVar_mut_ID</th>\n",
       "      <th>UniProt_mut_ID</th>\n",
       "      <th>Domain_name</th>\n",
       "      <th>Domain_clan</th>\n",
       "      <th>...</th>\n",
       "      <th>number_of_residues_mut</th>\n",
       "      <th>IntraclashesEnergy1_wt</th>\n",
       "      <th>IntraclashesEnergy1_mut</th>\n",
       "      <th>IntraclashesEnergy2_wt</th>\n",
       "      <th>IntraclashesEnergy2_mut</th>\n",
       "      <th>Interface_hydrophobic_area</th>\n",
       "      <th>Interface_hydrophilic_area</th>\n",
       "      <th>Interface_total_area</th>\n",
       "      <th>Interface_contact_distance_wt</th>\n",
       "      <th>Interface_contact_distance_mut</th>\n",
       "    </tr>\n",
       "  </thead>\n",
       "  <tbody>\n",
       "    <tr>\n",
       "      <th>0</th>\n",
       "      <td>P28062</td>\n",
       "      <td>P28062</td>\n",
       "      <td>R216W</td>\n",
       "      <td>done</td>\n",
       "      <td>interface</td>\n",
       "      <td>COSM451277</td>\n",
       "      <td>-</td>\n",
       "      <td>-</td>\n",
       "      <td>Proteasome</td>\n",
       "      <td>Proteasome</td>\n",
       "      <td>...</td>\n",
       "      <td>417.0</td>\n",
       "      <td>156.750</td>\n",
       "      <td>156.868</td>\n",
       "      <td>49.1868</td>\n",
       "      <td>49.1868</td>\n",
       "      <td>566.065</td>\n",
       "      <td>367.205</td>\n",
       "      <td>933.27</td>\n",
       "      <td>5.37939</td>\n",
       "      <td>3.28969</td>\n",
       "    </tr>\n",
       "    <tr>\n",
       "      <th>1</th>\n",
       "      <td>Q15842</td>\n",
       "      <td>Q15842</td>\n",
       "      <td>E237K</td>\n",
       "      <td>done</td>\n",
       "      <td>interface</td>\n",
       "      <td>COSM430893</td>\n",
       "      <td>-</td>\n",
       "      <td>-</td>\n",
       "      <td>IRK</td>\n",
       "      <td>IRK</td>\n",
       "      <td>...</td>\n",
       "      <td>684.0</td>\n",
       "      <td>131.720</td>\n",
       "      <td>131.479</td>\n",
       "      <td>129.5260</td>\n",
       "      <td>129.5260</td>\n",
       "      <td>None</td>\n",
       "      <td>None</td>\n",
       "      <td>None</td>\n",
       "      <td>2.48410</td>\n",
       "      <td>2.92169</td>\n",
       "    </tr>\n",
       "    <tr>\n",
       "      <th>2</th>\n",
       "      <td>Q15842</td>\n",
       "      <td>Q15842</td>\n",
       "      <td>E237K</td>\n",
       "      <td>done</td>\n",
       "      <td>interface</td>\n",
       "      <td>COSM430893</td>\n",
       "      <td>-</td>\n",
       "      <td>-</td>\n",
       "      <td>IRK</td>\n",
       "      <td>IRK</td>\n",
       "      <td>...</td>\n",
       "      <td>678.0</td>\n",
       "      <td>142.706</td>\n",
       "      <td>142.107</td>\n",
       "      <td>99.1151</td>\n",
       "      <td>99.1190</td>\n",
       "      <td>None</td>\n",
       "      <td>624.35</td>\n",
       "      <td>None</td>\n",
       "      <td>2.70474</td>\n",
       "      <td>3.18529</td>\n",
       "    </tr>\n",
       "  </tbody>\n",
       "</table>\n",
       "<p>3 rows × 103 columns</p>\n",
       "</div>"
      ],
      "text/plain": [
       "  Input_identifier UniProt_ID Mutation Status       Type COSMIC_mut_ID  \\\n",
       "0           P28062     P28062    R216W   done  interface    COSM451277   \n",
       "1           Q15842     Q15842    E237K   done  interface    COSM430893   \n",
       "2           Q15842     Q15842    E237K   done  interface    COSM430893   \n",
       "\n",
       "  ClinVar_mut_ID UniProt_mut_ID Domain_name Domain_clan  ...  \\\n",
       "0              -              -  Proteasome  Proteasome  ...   \n",
       "1              -              -         IRK         IRK  ...   \n",
       "2              -              -         IRK         IRK  ...   \n",
       "\n",
       "  number_of_residues_mut IntraclashesEnergy1_wt  IntraclashesEnergy1_mut  \\\n",
       "0                  417.0                156.750                  156.868   \n",
       "1                  684.0                131.720                  131.479   \n",
       "2                  678.0                142.706                  142.107   \n",
       "\n",
       "   IntraclashesEnergy2_wt IntraclashesEnergy2_mut Interface_hydrophobic_area  \\\n",
       "0                 49.1868                 49.1868                    566.065   \n",
       "1                129.5260                129.5260                       None   \n",
       "2                 99.1151                 99.1190                       None   \n",
       "\n",
       "  Interface_hydrophilic_area Interface_total_area  \\\n",
       "0                    367.205               933.27   \n",
       "1                       None                 None   \n",
       "2                     624.35                 None   \n",
       "\n",
       "  Interface_contact_distance_wt  Interface_contact_distance_mut  \n",
       "0                       5.37939                         3.28969  \n",
       "1                       2.48410                         2.92169  \n",
       "2                       2.70474                         3.18529  \n",
       "\n",
       "[3 rows x 103 columns]"
      ]
     },
     "execution_count": 6,
     "metadata": {},
     "output_type": "execute_result"
    }
   ],
   "source": [
    "brca_interface_data_original = pd.read_csv(BRCA_INTERFACE_PATH, sep='\\t', low_memory=False)\n",
    "print(brca_interface_data_original.shape)\n",
    "brca_interface_data_original.head(3)"
   ]
  },
  {
   "cell_type": "markdown",
   "id": "9a6fcb1d-f213-4db1-9176-5b71e1d772ed",
   "metadata": {},
   "source": [
    "## Number of patients that has only interface mutations for protein \"IRAK3\""
   ]
  },
  {
   "cell_type": "code",
   "execution_count": 8,
   "id": "b5a4349c-70de-435c-ad0a-299ed3315c52",
   "metadata": {},
   "outputs": [],
   "source": [
    "from helpers.helpers_analysis.get_patient_protein_to_mutations_dict import get_patient_protein_to_mutations_dict\n",
    "from helpers.helpers_analysis.preprocessing import process_snv"
   ]
  },
  {
   "cell_type": "code",
   "execution_count": 7,
   "id": "2df885ca-a2dc-4b47-97a9-eabbd6453ae3",
   "metadata": {},
   "outputs": [
    {
     "name": "stdout",
     "output_type": "stream",
     "text": [
      "Number of BRCA patients: 986\n"
     ]
    },
    {
     "data": {
      "text/plain": [
       "['TCGA-3C-AAAU', 'TCGA-3C-AALI', 'TCGA-3C-AALJ']"
      ]
     },
     "execution_count": 7,
     "metadata": {},
     "output_type": "execute_result"
    }
   ],
   "source": [
    "brca_patients_original = sorted(brca_snv[\"Tumor_Sample_Barcode\"].unique())\n",
    "brca_patients_original = [patient[:12] for patient in brca_patients_original]\n",
    "print(f\"Number of BRCA patients: {len(brca_patients_original)}\")\n",
    "brca_patients_original[:3]"
   ]
  },
  {
   "cell_type": "code",
   "execution_count": 9,
   "id": "304ac633-f84d-46fa-a5b2-7f3577484e4d",
   "metadata": {},
   "outputs": [
    {
     "name": "stdout",
     "output_type": "stream",
     "text": [
      "(60251, 4)\n"
     ]
    },
    {
     "data": {
      "text/html": [
       "<div>\n",
       "<style scoped>\n",
       "    .dataframe tbody tr th:only-of-type {\n",
       "        vertical-align: middle;\n",
       "    }\n",
       "\n",
       "    .dataframe tbody tr th {\n",
       "        vertical-align: top;\n",
       "    }\n",
       "\n",
       "    .dataframe thead th {\n",
       "        text-align: right;\n",
       "    }\n",
       "</style>\n",
       "<table border=\"1\" class=\"dataframe\">\n",
       "  <thead>\n",
       "    <tr style=\"text-align: right;\">\n",
       "      <th></th>\n",
       "      <th>Hugo_Symbol</th>\n",
       "      <th>SWISSPROT</th>\n",
       "      <th>HGVSp_Short</th>\n",
       "      <th>Tumor_Sample_Barcode</th>\n",
       "    </tr>\n",
       "  </thead>\n",
       "  <tbody>\n",
       "    <tr>\n",
       "      <th>0</th>\n",
       "      <td>USP24</td>\n",
       "      <td>Q9UPU5</td>\n",
       "      <td>I342V</td>\n",
       "      <td>TCGA-D8-A1XY</td>\n",
       "    </tr>\n",
       "    <tr>\n",
       "      <th>1</th>\n",
       "      <td>ERICH3</td>\n",
       "      <td>Q5RHP9</td>\n",
       "      <td>E1406K</td>\n",
       "      <td>TCGA-D8-A1XY</td>\n",
       "    </tr>\n",
       "    <tr>\n",
       "      <th>2</th>\n",
       "      <td>SPHKAP</td>\n",
       "      <td>Q2M3C7</td>\n",
       "      <td>R1372S</td>\n",
       "      <td>TCGA-D8-A1XY</td>\n",
       "    </tr>\n",
       "  </tbody>\n",
       "</table>\n",
       "</div>"
      ],
      "text/plain": [
       "  Hugo_Symbol SWISSPROT HGVSp_Short Tumor_Sample_Barcode\n",
       "0       USP24    Q9UPU5       I342V         TCGA-D8-A1XY\n",
       "1      ERICH3    Q5RHP9      E1406K         TCGA-D8-A1XY\n",
       "2      SPHKAP    Q2M3C7      R1372S         TCGA-D8-A1XY"
      ]
     },
     "execution_count": 9,
     "metadata": {},
     "output_type": "execute_result"
    }
   ],
   "source": [
    "brca_snv_processed = process_snv(brca_snv)\n",
    "brca_snv_simplified = brca_snv_processed[[\"Hugo_Symbol\", \"SWISSPROT\", \"HGVSp_Short\", \"Tumor_Sample_Barcode\"]].copy()\n",
    "brca_snv_simplified[\"Tumor_Sample_Barcode\"] = brca_snv_simplified[\"Tumor_Sample_Barcode\"].apply(lambda x: x[:12])\n",
    "print(brca_snv_simplified.shape)\n",
    "brca_snv_simplified.head(3)"
   ]
  },
  {
   "cell_type": "code",
   "execution_count": 13,
   "id": "919834c9-d167-44df-b8a6-6c4ae647f6d8",
   "metadata": {},
   "outputs": [
    {
     "name": "stdout",
     "output_type": "stream",
     "text": [
      "Number of BRCA patients: 985\n"
     ]
    },
    {
     "data": {
      "text/plain": [
       "['TCGA-3C-AAAU', 'TCGA-3C-AALI', 'TCGA-3C-AALJ']"
      ]
     },
     "execution_count": 13,
     "metadata": {},
     "output_type": "execute_result"
    }
   ],
   "source": [
    "brca_patients_actual = sorted(brca_snv_simplified[\"Tumor_Sample_Barcode\"].unique())\n",
    "brca_patients_actual = [patient[:12] for patient in brca_patients_actual]\n",
    "print(f\"Number of BRCA patients: {len(brca_patients_actual)}\")\n",
    "brca_patients_actual[:3]"
   ]
  },
  {
   "cell_type": "code",
   "execution_count": null,
   "id": "8812991b-fd97-495c-87af-420ba3fb0327",
   "metadata": {},
   "outputs": [],
   "source": []
  },
  {
   "cell_type": "code",
   "execution_count": null,
   "id": "69f8bd44-b5c0-42ae-9fad-6800e51491ae",
   "metadata": {},
   "outputs": [],
   "source": []
  },
  {
   "cell_type": "code",
   "execution_count": 11,
   "id": "11dbb6d8-07af-4bb0-8a40-cb848db0311b",
   "metadata": {},
   "outputs": [
    {
     "data": {
      "application/vnd.jupyter.widget-view+json": {
       "model_id": "236f0f189f864f14b98ab9f45e4ec9d8",
       "version_major": 2,
       "version_minor": 0
      },
      "text/plain": [
       "  0%|          | 0/986 [00:00<?, ?it/s]"
      ]
     },
     "metadata": {},
     "output_type": "display_data"
    },
    {
     "name": "stdout",
     "output_type": "stream",
     "text": [
      "TCGA-AC-A2FK\n"
     ]
    }
   ],
   "source": [
    "for patient in tqdm(brca_patients_original):\n",
    "    patient_snv = brca_snv_simplified[\n",
    "        brca_snv_simplified[\"Tumor_Sample_Barcode\"] == patient\n",
    "    ]\n",
    "    \n",
    "    if patient_snv.empty:\n",
    "        print(patient)"
   ]
  },
  {
   "cell_type": "code",
   "execution_count": 14,
   "id": "044b34b7-c02a-4d69-8f4d-bbae50d78318",
   "metadata": {},
   "outputs": [
    {
     "data": {
      "application/vnd.jupyter.widget-view+json": {
       "model_id": "c734a88dbe8248edbca96b4ef6ebf4f6",
       "version_major": 2,
       "version_minor": 0
      },
      "text/plain": [
       "  0%|          | 0/985 [00:00<?, ?it/s]"
      ]
     },
     "metadata": {},
     "output_type": "display_data"
    }
   ],
   "source": [
    "for patient in tqdm(brca_patients_actual):\n",
    "    patient_snv = brca_snv_simplified[\n",
    "        brca_snv_simplified[\"Tumor_Sample_Barcode\"] == patient\n",
    "    ]\n",
    "    \n",
    "    if patient_snv.empty:\n",
    "        print(patient)"
   ]
  },
  {
   "cell_type": "code",
   "execution_count": 19,
   "id": "f4df4fff-07c1-4808-a868-f6d49b4d42c3",
   "metadata": {},
   "outputs": [],
   "source": [
    "def get_patient_snv(patient, snv_data_param):\n",
    "    patient_snv = snv_data_param[\n",
    "        snv_data_param[\"Tumor_Sample_Barcode\"] == patient\n",
    "    ]\n",
    "    \n",
    "    return patient_snv"
   ]
  },
  {
   "cell_type": "code",
   "execution_count": null,
   "id": "f9462d13-802e-4821-9b86-c6ad74027c00",
   "metadata": {},
   "outputs": [],
   "source": []
  },
  {
   "cell_type": "code",
   "execution_count": 20,
   "id": "3df0f9a7-45c2-45df-9870-c7f5dd414179",
   "metadata": {},
   "outputs": [
    {
     "data": {
      "application/vnd.jupyter.widget-view+json": {
       "model_id": "f9e75b6633ee4142867d3700f45fbe94",
       "version_major": 2,
       "version_minor": 0
      },
      "text/plain": [
       "  0%|          | 0/985 [00:00<?, ?it/s]"
      ]
     },
     "metadata": {},
     "output_type": "display_data"
    }
   ],
   "source": [
    "for patient in tqdm(brca_patients_actual):\n",
    "    patient_snv = get_patient_snv(patient, brca_snv_simplified)\n",
    "    \n",
    "    if patient_snv.empty:\n",
    "        print(patient)"
   ]
  },
  {
   "cell_type": "code",
   "execution_count": null,
   "id": "a9e3f042-1f22-452a-b52d-8e614208e7d6",
   "metadata": {},
   "outputs": [],
   "source": []
  },
  {
   "cell_type": "code",
   "execution_count": null,
   "id": "4640335b-38a5-4c6b-9a56-4f43481648c9",
   "metadata": {},
   "outputs": [],
   "source": [
    "\tQ9C0D5:TANC1\n"
   ]
  },
  {
   "cell_type": "code",
   "execution_count": 81,
   "id": "238050dd-b0bc-41f9-b4f3-a01a1ee3986a",
   "metadata": {},
   "outputs": [
    {
     "data": {
      "text/plain": [
       "'TCGA-A1-A0SF'"
      ]
     },
     "execution_count": 81,
     "metadata": {},
     "output_type": "execute_result"
    }
   ],
   "source": [
    "brca_patients_actual[10]"
   ]
  },
  {
   "cell_type": "code",
   "execution_count": 93,
   "id": "659b2770-978e-446f-8e38-1f49739a4d93",
   "metadata": {
    "scrolled": true,
    "tags": []
   },
   "outputs": [
    {
     "name": "stdout",
     "output_type": "stream",
     "text": [
      "TCGA-AN-A0FF\n"
     ]
    },
    {
     "data": {
      "text/html": [
       "<div>\n",
       "<style scoped>\n",
       "    .dataframe tbody tr th:only-of-type {\n",
       "        vertical-align: middle;\n",
       "    }\n",
       "\n",
       "    .dataframe tbody tr th {\n",
       "        vertical-align: top;\n",
       "    }\n",
       "\n",
       "    .dataframe thead th {\n",
       "        text-align: right;\n",
       "    }\n",
       "</style>\n",
       "<table border=\"1\" class=\"dataframe\">\n",
       "  <thead>\n",
       "    <tr style=\"text-align: right;\">\n",
       "      <th></th>\n",
       "      <th>Hugo_Symbol</th>\n",
       "      <th>SWISSPROT</th>\n",
       "      <th>HGVSp_Short</th>\n",
       "      <th>Tumor_Sample_Barcode</th>\n",
       "    </tr>\n",
       "  </thead>\n",
       "  <tbody>\n",
       "    <tr>\n",
       "      <th>3201</th>\n",
       "      <td>UBA6</td>\n",
       "      <td>A0AVT1</td>\n",
       "      <td>T222M</td>\n",
       "      <td>TCGA-AN-A0FF</td>\n",
       "    </tr>\n",
       "  </tbody>\n",
       "</table>\n",
       "</div>"
      ],
      "text/plain": [
       "     Hugo_Symbol SWISSPROT HGVSp_Short Tumor_Sample_Barcode\n",
       "3201        UBA6    A0AVT1       T222M         TCGA-AN-A0FF"
      ]
     },
     "metadata": {},
     "output_type": "display_data"
    },
    {
     "name": "stdout",
     "output_type": "stream",
     "text": [
      "TCGA-AO-A03O\n"
     ]
    },
    {
     "data": {
      "text/html": [
       "<div>\n",
       "<style scoped>\n",
       "    .dataframe tbody tr th:only-of-type {\n",
       "        vertical-align: middle;\n",
       "    }\n",
       "\n",
       "    .dataframe tbody tr th {\n",
       "        vertical-align: top;\n",
       "    }\n",
       "\n",
       "    .dataframe thead th {\n",
       "        text-align: right;\n",
       "    }\n",
       "</style>\n",
       "<table border=\"1\" class=\"dataframe\">\n",
       "  <thead>\n",
       "    <tr style=\"text-align: right;\">\n",
       "      <th></th>\n",
       "      <th>Hugo_Symbol</th>\n",
       "      <th>SWISSPROT</th>\n",
       "      <th>HGVSp_Short</th>\n",
       "      <th>Tumor_Sample_Barcode</th>\n",
       "    </tr>\n",
       "  </thead>\n",
       "  <tbody>\n",
       "    <tr>\n",
       "      <th>21048</th>\n",
       "      <td>UBA6</td>\n",
       "      <td>A0AVT1</td>\n",
       "      <td>S138F</td>\n",
       "      <td>TCGA-AO-A03O</td>\n",
       "    </tr>\n",
       "  </tbody>\n",
       "</table>\n",
       "</div>"
      ],
      "text/plain": [
       "      Hugo_Symbol SWISSPROT HGVSp_Short Tumor_Sample_Barcode\n",
       "21048        UBA6    A0AVT1       S138F         TCGA-AO-A03O"
      ]
     },
     "metadata": {},
     "output_type": "display_data"
    },
    {
     "name": "stdout",
     "output_type": "stream",
     "text": [
      "TCGA-AR-A0TX\n"
     ]
    },
    {
     "data": {
      "text/html": [
       "<div>\n",
       "<style scoped>\n",
       "    .dataframe tbody tr th:only-of-type {\n",
       "        vertical-align: middle;\n",
       "    }\n",
       "\n",
       "    .dataframe tbody tr th {\n",
       "        vertical-align: top;\n",
       "    }\n",
       "\n",
       "    .dataframe thead th {\n",
       "        text-align: right;\n",
       "    }\n",
       "</style>\n",
       "<table border=\"1\" class=\"dataframe\">\n",
       "  <thead>\n",
       "    <tr style=\"text-align: right;\">\n",
       "      <th></th>\n",
       "      <th>Hugo_Symbol</th>\n",
       "      <th>SWISSPROT</th>\n",
       "      <th>HGVSp_Short</th>\n",
       "      <th>Tumor_Sample_Barcode</th>\n",
       "    </tr>\n",
       "  </thead>\n",
       "  <tbody>\n",
       "    <tr>\n",
       "      <th>6093</th>\n",
       "      <td>UBA6</td>\n",
       "      <td>A0AVT1</td>\n",
       "      <td>Q167H</td>\n",
       "      <td>TCGA-AR-A0TX</td>\n",
       "    </tr>\n",
       "  </tbody>\n",
       "</table>\n",
       "</div>"
      ],
      "text/plain": [
       "     Hugo_Symbol SWISSPROT HGVSp_Short Tumor_Sample_Barcode\n",
       "6093        UBA6    A0AVT1       Q167H         TCGA-AR-A0TX"
      ]
     },
     "metadata": {},
     "output_type": "display_data"
    },
    {
     "name": "stdout",
     "output_type": "stream",
     "text": [
      "TCGA-AR-A0TY\n"
     ]
    },
    {
     "data": {
      "text/html": [
       "<div>\n",
       "<style scoped>\n",
       "    .dataframe tbody tr th:only-of-type {\n",
       "        vertical-align: middle;\n",
       "    }\n",
       "\n",
       "    .dataframe tbody tr th {\n",
       "        vertical-align: top;\n",
       "    }\n",
       "\n",
       "    .dataframe thead th {\n",
       "        text-align: right;\n",
       "    }\n",
       "</style>\n",
       "<table border=\"1\" class=\"dataframe\">\n",
       "  <thead>\n",
       "    <tr style=\"text-align: right;\">\n",
       "      <th></th>\n",
       "      <th>Hugo_Symbol</th>\n",
       "      <th>SWISSPROT</th>\n",
       "      <th>HGVSp_Short</th>\n",
       "      <th>Tumor_Sample_Barcode</th>\n",
       "    </tr>\n",
       "  </thead>\n",
       "  <tbody>\n",
       "    <tr>\n",
       "      <th>20693</th>\n",
       "      <td>UBA6</td>\n",
       "      <td>A0AVT1</td>\n",
       "      <td>K991N</td>\n",
       "      <td>TCGA-AR-A0TY</td>\n",
       "    </tr>\n",
       "  </tbody>\n",
       "</table>\n",
       "</div>"
      ],
      "text/plain": [
       "      Hugo_Symbol SWISSPROT HGVSp_Short Tumor_Sample_Barcode\n",
       "20693        UBA6    A0AVT1       K991N         TCGA-AR-A0TY"
      ]
     },
     "metadata": {},
     "output_type": "display_data"
    },
    {
     "name": "stdout",
     "output_type": "stream",
     "text": [
      "TCGA-BH-A1F8\n"
     ]
    },
    {
     "data": {
      "text/html": [
       "<div>\n",
       "<style scoped>\n",
       "    .dataframe tbody tr th:only-of-type {\n",
       "        vertical-align: middle;\n",
       "    }\n",
       "\n",
       "    .dataframe tbody tr th {\n",
       "        vertical-align: top;\n",
       "    }\n",
       "\n",
       "    .dataframe thead th {\n",
       "        text-align: right;\n",
       "    }\n",
       "</style>\n",
       "<table border=\"1\" class=\"dataframe\">\n",
       "  <thead>\n",
       "    <tr style=\"text-align: right;\">\n",
       "      <th></th>\n",
       "      <th>Hugo_Symbol</th>\n",
       "      <th>SWISSPROT</th>\n",
       "      <th>HGVSp_Short</th>\n",
       "      <th>Tumor_Sample_Barcode</th>\n",
       "    </tr>\n",
       "  </thead>\n",
       "  <tbody>\n",
       "    <tr>\n",
       "      <th>33280</th>\n",
       "      <td>UBA6</td>\n",
       "      <td>A0AVT1</td>\n",
       "      <td>T1017A</td>\n",
       "      <td>TCGA-BH-A1F8</td>\n",
       "    </tr>\n",
       "  </tbody>\n",
       "</table>\n",
       "</div>"
      ],
      "text/plain": [
       "      Hugo_Symbol SWISSPROT HGVSp_Short Tumor_Sample_Barcode\n",
       "33280        UBA6    A0AVT1      T1017A         TCGA-BH-A1F8"
      ]
     },
     "metadata": {},
     "output_type": "display_data"
    },
    {
     "name": "stdout",
     "output_type": "stream",
     "text": [
      "TCGA-C8-A26Y\n"
     ]
    },
    {
     "data": {
      "text/html": [
       "<div>\n",
       "<style scoped>\n",
       "    .dataframe tbody tr th:only-of-type {\n",
       "        vertical-align: middle;\n",
       "    }\n",
       "\n",
       "    .dataframe tbody tr th {\n",
       "        vertical-align: top;\n",
       "    }\n",
       "\n",
       "    .dataframe thead th {\n",
       "        text-align: right;\n",
       "    }\n",
       "</style>\n",
       "<table border=\"1\" class=\"dataframe\">\n",
       "  <thead>\n",
       "    <tr style=\"text-align: right;\">\n",
       "      <th></th>\n",
       "      <th>Hugo_Symbol</th>\n",
       "      <th>SWISSPROT</th>\n",
       "      <th>HGVSp_Short</th>\n",
       "      <th>Tumor_Sample_Barcode</th>\n",
       "    </tr>\n",
       "  </thead>\n",
       "  <tbody>\n",
       "    <tr>\n",
       "      <th>19042</th>\n",
       "      <td>UBA6</td>\n",
       "      <td>A0AVT1</td>\n",
       "      <td>G440E</td>\n",
       "      <td>TCGA-C8-A26Y</td>\n",
       "    </tr>\n",
       "  </tbody>\n",
       "</table>\n",
       "</div>"
      ],
      "text/plain": [
       "      Hugo_Symbol SWISSPROT HGVSp_Short Tumor_Sample_Barcode\n",
       "19042        UBA6    A0AVT1       G440E         TCGA-C8-A26Y"
      ]
     },
     "metadata": {},
     "output_type": "display_data"
    },
    {
     "name": "stdout",
     "output_type": "stream",
     "text": [
      "TCGA-E9-A1ND\n"
     ]
    },
    {
     "data": {
      "text/html": [
       "<div>\n",
       "<style scoped>\n",
       "    .dataframe tbody tr th:only-of-type {\n",
       "        vertical-align: middle;\n",
       "    }\n",
       "\n",
       "    .dataframe tbody tr th {\n",
       "        vertical-align: top;\n",
       "    }\n",
       "\n",
       "    .dataframe thead th {\n",
       "        text-align: right;\n",
       "    }\n",
       "</style>\n",
       "<table border=\"1\" class=\"dataframe\">\n",
       "  <thead>\n",
       "    <tr style=\"text-align: right;\">\n",
       "      <th></th>\n",
       "      <th>Hugo_Symbol</th>\n",
       "      <th>SWISSPROT</th>\n",
       "      <th>HGVSp_Short</th>\n",
       "      <th>Tumor_Sample_Barcode</th>\n",
       "    </tr>\n",
       "  </thead>\n",
       "  <tbody>\n",
       "    <tr>\n",
       "      <th>14775</th>\n",
       "      <td>UBA6</td>\n",
       "      <td>A0AVT1</td>\n",
       "      <td>Q793H</td>\n",
       "      <td>TCGA-E9-A1ND</td>\n",
       "    </tr>\n",
       "  </tbody>\n",
       "</table>\n",
       "</div>"
      ],
      "text/plain": [
       "      Hugo_Symbol SWISSPROT HGVSp_Short Tumor_Sample_Barcode\n",
       "14775        UBA6    A0AVT1       Q793H         TCGA-E9-A1ND"
      ]
     },
     "metadata": {},
     "output_type": "display_data"
    },
    {
     "name": "stdout",
     "output_type": "stream",
     "text": [
      "TCGA-E9-A22E\n"
     ]
    },
    {
     "data": {
      "text/html": [
       "<div>\n",
       "<style scoped>\n",
       "    .dataframe tbody tr th:only-of-type {\n",
       "        vertical-align: middle;\n",
       "    }\n",
       "\n",
       "    .dataframe tbody tr th {\n",
       "        vertical-align: top;\n",
       "    }\n",
       "\n",
       "    .dataframe thead th {\n",
       "        text-align: right;\n",
       "    }\n",
       "</style>\n",
       "<table border=\"1\" class=\"dataframe\">\n",
       "  <thead>\n",
       "    <tr style=\"text-align: right;\">\n",
       "      <th></th>\n",
       "      <th>Hugo_Symbol</th>\n",
       "      <th>SWISSPROT</th>\n",
       "      <th>HGVSp_Short</th>\n",
       "      <th>Tumor_Sample_Barcode</th>\n",
       "    </tr>\n",
       "  </thead>\n",
       "  <tbody>\n",
       "    <tr>\n",
       "      <th>9768</th>\n",
       "      <td>UBA6</td>\n",
       "      <td>A0AVT1</td>\n",
       "      <td>L719I</td>\n",
       "      <td>TCGA-E9-A22E</td>\n",
       "    </tr>\n",
       "  </tbody>\n",
       "</table>\n",
       "</div>"
      ],
      "text/plain": [
       "     Hugo_Symbol SWISSPROT HGVSp_Short Tumor_Sample_Barcode\n",
       "9768        UBA6    A0AVT1       L719I         TCGA-E9-A22E"
      ]
     },
     "metadata": {},
     "output_type": "display_data"
    },
    {
     "name": "stdout",
     "output_type": "stream",
     "text": [
      "TCGA-EW-A1IZ\n"
     ]
    },
    {
     "data": {
      "text/html": [
       "<div>\n",
       "<style scoped>\n",
       "    .dataframe tbody tr th:only-of-type {\n",
       "        vertical-align: middle;\n",
       "    }\n",
       "\n",
       "    .dataframe tbody tr th {\n",
       "        vertical-align: top;\n",
       "    }\n",
       "\n",
       "    .dataframe thead th {\n",
       "        text-align: right;\n",
       "    }\n",
       "</style>\n",
       "<table border=\"1\" class=\"dataframe\">\n",
       "  <thead>\n",
       "    <tr style=\"text-align: right;\">\n",
       "      <th></th>\n",
       "      <th>Hugo_Symbol</th>\n",
       "      <th>SWISSPROT</th>\n",
       "      <th>HGVSp_Short</th>\n",
       "      <th>Tumor_Sample_Barcode</th>\n",
       "    </tr>\n",
       "  </thead>\n",
       "  <tbody>\n",
       "    <tr>\n",
       "      <th>35208</th>\n",
       "      <td>UBA6</td>\n",
       "      <td>A0AVT1</td>\n",
       "      <td>R341H</td>\n",
       "      <td>TCGA-EW-A1IZ</td>\n",
       "    </tr>\n",
       "  </tbody>\n",
       "</table>\n",
       "</div>"
      ],
      "text/plain": [
       "      Hugo_Symbol SWISSPROT HGVSp_Short Tumor_Sample_Barcode\n",
       "35208        UBA6    A0AVT1       R341H         TCGA-EW-A1IZ"
      ]
     },
     "metadata": {},
     "output_type": "display_data"
    }
   ],
   "source": [
    "for patient in brca_patients_actual:\n",
    "    if not get_patient_snv(patient, brca_snv_simplified)[\n",
    "        get_patient_snv(patient, brca_snv_simplified)[\"SWISSPROT\"] == \"A0AVT1\"\n",
    "    ].empty:\n",
    "        print(patient)\n",
    "        display(\n",
    "            get_this_protein_from_this_patient_snv(\n",
    "                \"A0AVT1\", get_patient_snv(patient, brca_snv_simplified)\n",
    "            )\n",
    "        )"
   ]
  },
  {
   "cell_type": "code",
   "execution_count": 98,
   "id": "876ead8b-1307-4416-b1c6-8731ffca2383",
   "metadata": {
    "scrolled": true,
    "tags": []
   },
   "outputs": [
    {
     "name": "stdout",
     "output_type": "stream",
     "text": [
      "TCGA-A1-A0SO\n"
     ]
    },
    {
     "data": {
      "text/html": [
       "<div>\n",
       "<style scoped>\n",
       "    .dataframe tbody tr th:only-of-type {\n",
       "        vertical-align: middle;\n",
       "    }\n",
       "\n",
       "    .dataframe tbody tr th {\n",
       "        vertical-align: top;\n",
       "    }\n",
       "\n",
       "    .dataframe thead th {\n",
       "        text-align: right;\n",
       "    }\n",
       "</style>\n",
       "<table border=\"1\" class=\"dataframe\">\n",
       "  <thead>\n",
       "    <tr style=\"text-align: right;\">\n",
       "      <th></th>\n",
       "      <th>Hugo_Symbol</th>\n",
       "      <th>SWISSPROT</th>\n",
       "      <th>HGVSp_Short</th>\n",
       "      <th>Tumor_Sample_Barcode</th>\n",
       "    </tr>\n",
       "  </thead>\n",
       "  <tbody>\n",
       "    <tr>\n",
       "      <th>21204</th>\n",
       "      <td>TANC1</td>\n",
       "      <td>Q9C0D5</td>\n",
       "      <td>A1396P</td>\n",
       "      <td>TCGA-A1-A0SO</td>\n",
       "    </tr>\n",
       "  </tbody>\n",
       "</table>\n",
       "</div>"
      ],
      "text/plain": [
       "      Hugo_Symbol SWISSPROT HGVSp_Short Tumor_Sample_Barcode\n",
       "21204       TANC1    Q9C0D5      A1396P         TCGA-A1-A0SO"
      ]
     },
     "metadata": {},
     "output_type": "display_data"
    },
    {
     "name": "stdout",
     "output_type": "stream",
     "text": [
      "TCGA-A2-A04P\n"
     ]
    },
    {
     "data": {
      "text/html": [
       "<div>\n",
       "<style scoped>\n",
       "    .dataframe tbody tr th:only-of-type {\n",
       "        vertical-align: middle;\n",
       "    }\n",
       "\n",
       "    .dataframe tbody tr th {\n",
       "        vertical-align: top;\n",
       "    }\n",
       "\n",
       "    .dataframe thead th {\n",
       "        text-align: right;\n",
       "    }\n",
       "</style>\n",
       "<table border=\"1\" class=\"dataframe\">\n",
       "  <thead>\n",
       "    <tr style=\"text-align: right;\">\n",
       "      <th></th>\n",
       "      <th>Hugo_Symbol</th>\n",
       "      <th>SWISSPROT</th>\n",
       "      <th>HGVSp_Short</th>\n",
       "      <th>Tumor_Sample_Barcode</th>\n",
       "    </tr>\n",
       "  </thead>\n",
       "  <tbody>\n",
       "    <tr>\n",
       "      <th>28676</th>\n",
       "      <td>TANC1</td>\n",
       "      <td>Q9C0D5</td>\n",
       "      <td>M811I</td>\n",
       "      <td>TCGA-A2-A04P</td>\n",
       "    </tr>\n",
       "  </tbody>\n",
       "</table>\n",
       "</div>"
      ],
      "text/plain": [
       "      Hugo_Symbol SWISSPROT HGVSp_Short Tumor_Sample_Barcode\n",
       "28676       TANC1    Q9C0D5       M811I         TCGA-A2-A04P"
      ]
     },
     "metadata": {},
     "output_type": "display_data"
    },
    {
     "name": "stdout",
     "output_type": "stream",
     "text": [
      "TCGA-AN-A046\n"
     ]
    },
    {
     "data": {
      "text/html": [
       "<div>\n",
       "<style scoped>\n",
       "    .dataframe tbody tr th:only-of-type {\n",
       "        vertical-align: middle;\n",
       "    }\n",
       "\n",
       "    .dataframe tbody tr th {\n",
       "        vertical-align: top;\n",
       "    }\n",
       "\n",
       "    .dataframe thead th {\n",
       "        text-align: right;\n",
       "    }\n",
       "</style>\n",
       "<table border=\"1\" class=\"dataframe\">\n",
       "  <thead>\n",
       "    <tr style=\"text-align: right;\">\n",
       "      <th></th>\n",
       "      <th>Hugo_Symbol</th>\n",
       "      <th>SWISSPROT</th>\n",
       "      <th>HGVSp_Short</th>\n",
       "      <th>Tumor_Sample_Barcode</th>\n",
       "    </tr>\n",
       "  </thead>\n",
       "  <tbody>\n",
       "    <tr>\n",
       "      <th>43824</th>\n",
       "      <td>TANC1</td>\n",
       "      <td>Q9C0D5</td>\n",
       "      <td>A1087T</td>\n",
       "      <td>TCGA-AN-A046</td>\n",
       "    </tr>\n",
       "    <tr>\n",
       "      <th>43825</th>\n",
       "      <td>TANC1</td>\n",
       "      <td>Q9C0D5</td>\n",
       "      <td>R1346Q</td>\n",
       "      <td>TCGA-AN-A046</td>\n",
       "    </tr>\n",
       "  </tbody>\n",
       "</table>\n",
       "</div>"
      ],
      "text/plain": [
       "      Hugo_Symbol SWISSPROT HGVSp_Short Tumor_Sample_Barcode\n",
       "43824       TANC1    Q9C0D5      A1087T         TCGA-AN-A046\n",
       "43825       TANC1    Q9C0D5      R1346Q         TCGA-AN-A046"
      ]
     },
     "metadata": {},
     "output_type": "display_data"
    },
    {
     "name": "stdout",
     "output_type": "stream",
     "text": [
      "TCGA-AQ-A04H\n"
     ]
    },
    {
     "data": {
      "text/html": [
       "<div>\n",
       "<style scoped>\n",
       "    .dataframe tbody tr th:only-of-type {\n",
       "        vertical-align: middle;\n",
       "    }\n",
       "\n",
       "    .dataframe tbody tr th {\n",
       "        vertical-align: top;\n",
       "    }\n",
       "\n",
       "    .dataframe thead th {\n",
       "        text-align: right;\n",
       "    }\n",
       "</style>\n",
       "<table border=\"1\" class=\"dataframe\">\n",
       "  <thead>\n",
       "    <tr style=\"text-align: right;\">\n",
       "      <th></th>\n",
       "      <th>Hugo_Symbol</th>\n",
       "      <th>SWISSPROT</th>\n",
       "      <th>HGVSp_Short</th>\n",
       "      <th>Tumor_Sample_Barcode</th>\n",
       "    </tr>\n",
       "  </thead>\n",
       "  <tbody>\n",
       "    <tr>\n",
       "      <th>14082</th>\n",
       "      <td>TANC1</td>\n",
       "      <td>Q9C0D5</td>\n",
       "      <td>R1346Q</td>\n",
       "      <td>TCGA-AQ-A04H</td>\n",
       "    </tr>\n",
       "  </tbody>\n",
       "</table>\n",
       "</div>"
      ],
      "text/plain": [
       "      Hugo_Symbol SWISSPROT HGVSp_Short Tumor_Sample_Barcode\n",
       "14082       TANC1    Q9C0D5      R1346Q         TCGA-AQ-A04H"
      ]
     },
     "metadata": {},
     "output_type": "display_data"
    },
    {
     "name": "stdout",
     "output_type": "stream",
     "text": [
      "TCGA-D8-A1XK\n"
     ]
    },
    {
     "data": {
      "text/html": [
       "<div>\n",
       "<style scoped>\n",
       "    .dataframe tbody tr th:only-of-type {\n",
       "        vertical-align: middle;\n",
       "    }\n",
       "\n",
       "    .dataframe tbody tr th {\n",
       "        vertical-align: top;\n",
       "    }\n",
       "\n",
       "    .dataframe thead th {\n",
       "        text-align: right;\n",
       "    }\n",
       "</style>\n",
       "<table border=\"1\" class=\"dataframe\">\n",
       "  <thead>\n",
       "    <tr style=\"text-align: right;\">\n",
       "      <th></th>\n",
       "      <th>Hugo_Symbol</th>\n",
       "      <th>SWISSPROT</th>\n",
       "      <th>HGVSp_Short</th>\n",
       "      <th>Tumor_Sample_Barcode</th>\n",
       "    </tr>\n",
       "  </thead>\n",
       "  <tbody>\n",
       "    <tr>\n",
       "      <th>1106</th>\n",
       "      <td>TANC1</td>\n",
       "      <td>Q9C0D5</td>\n",
       "      <td>I226N</td>\n",
       "      <td>TCGA-D8-A1XK</td>\n",
       "    </tr>\n",
       "  </tbody>\n",
       "</table>\n",
       "</div>"
      ],
      "text/plain": [
       "     Hugo_Symbol SWISSPROT HGVSp_Short Tumor_Sample_Barcode\n",
       "1106       TANC1    Q9C0D5       I226N         TCGA-D8-A1XK"
      ]
     },
     "metadata": {},
     "output_type": "display_data"
    },
    {
     "name": "stdout",
     "output_type": "stream",
     "text": [
      "TCGA-E2-A14Z\n"
     ]
    },
    {
     "data": {
      "text/html": [
       "<div>\n",
       "<style scoped>\n",
       "    .dataframe tbody tr th:only-of-type {\n",
       "        vertical-align: middle;\n",
       "    }\n",
       "\n",
       "    .dataframe tbody tr th {\n",
       "        vertical-align: top;\n",
       "    }\n",
       "\n",
       "    .dataframe thead th {\n",
       "        text-align: right;\n",
       "    }\n",
       "</style>\n",
       "<table border=\"1\" class=\"dataframe\">\n",
       "  <thead>\n",
       "    <tr style=\"text-align: right;\">\n",
       "      <th></th>\n",
       "      <th>Hugo_Symbol</th>\n",
       "      <th>SWISSPROT</th>\n",
       "      <th>HGVSp_Short</th>\n",
       "      <th>Tumor_Sample_Barcode</th>\n",
       "    </tr>\n",
       "  </thead>\n",
       "  <tbody>\n",
       "    <tr>\n",
       "      <th>49967</th>\n",
       "      <td>TANC1</td>\n",
       "      <td>Q9C0D5</td>\n",
       "      <td>L1826V</td>\n",
       "      <td>TCGA-E2-A14Z</td>\n",
       "    </tr>\n",
       "  </tbody>\n",
       "</table>\n",
       "</div>"
      ],
      "text/plain": [
       "      Hugo_Symbol SWISSPROT HGVSp_Short Tumor_Sample_Barcode\n",
       "49967       TANC1    Q9C0D5      L1826V         TCGA-E2-A14Z"
      ]
     },
     "metadata": {},
     "output_type": "display_data"
    },
    {
     "name": "stdout",
     "output_type": "stream",
     "text": [
      "TCGA-E2-A1L7\n"
     ]
    },
    {
     "data": {
      "text/html": [
       "<div>\n",
       "<style scoped>\n",
       "    .dataframe tbody tr th:only-of-type {\n",
       "        vertical-align: middle;\n",
       "    }\n",
       "\n",
       "    .dataframe tbody tr th {\n",
       "        vertical-align: top;\n",
       "    }\n",
       "\n",
       "    .dataframe thead th {\n",
       "        text-align: right;\n",
       "    }\n",
       "</style>\n",
       "<table border=\"1\" class=\"dataframe\">\n",
       "  <thead>\n",
       "    <tr style=\"text-align: right;\">\n",
       "      <th></th>\n",
       "      <th>Hugo_Symbol</th>\n",
       "      <th>SWISSPROT</th>\n",
       "      <th>HGVSp_Short</th>\n",
       "      <th>Tumor_Sample_Barcode</th>\n",
       "    </tr>\n",
       "  </thead>\n",
       "  <tbody>\n",
       "    <tr>\n",
       "      <th>13127</th>\n",
       "      <td>TANC1</td>\n",
       "      <td>Q9C0D5</td>\n",
       "      <td>A288V</td>\n",
       "      <td>TCGA-E2-A1L7</td>\n",
       "    </tr>\n",
       "  </tbody>\n",
       "</table>\n",
       "</div>"
      ],
      "text/plain": [
       "      Hugo_Symbol SWISSPROT HGVSp_Short Tumor_Sample_Barcode\n",
       "13127       TANC1    Q9C0D5       A288V         TCGA-E2-A1L7"
      ]
     },
     "metadata": {},
     "output_type": "display_data"
    },
    {
     "name": "stdout",
     "output_type": "stream",
     "text": [
      "TCGA-EW-A1J5\n"
     ]
    },
    {
     "data": {
      "text/html": [
       "<div>\n",
       "<style scoped>\n",
       "    .dataframe tbody tr th:only-of-type {\n",
       "        vertical-align: middle;\n",
       "    }\n",
       "\n",
       "    .dataframe tbody tr th {\n",
       "        vertical-align: top;\n",
       "    }\n",
       "\n",
       "    .dataframe thead th {\n",
       "        text-align: right;\n",
       "    }\n",
       "</style>\n",
       "<table border=\"1\" class=\"dataframe\">\n",
       "  <thead>\n",
       "    <tr style=\"text-align: right;\">\n",
       "      <th></th>\n",
       "      <th>Hugo_Symbol</th>\n",
       "      <th>SWISSPROT</th>\n",
       "      <th>HGVSp_Short</th>\n",
       "      <th>Tumor_Sample_Barcode</th>\n",
       "    </tr>\n",
       "  </thead>\n",
       "  <tbody>\n",
       "    <tr>\n",
       "      <th>29767</th>\n",
       "      <td>TANC1</td>\n",
       "      <td>Q9C0D5</td>\n",
       "      <td>E752Q</td>\n",
       "      <td>TCGA-EW-A1J5</td>\n",
       "    </tr>\n",
       "  </tbody>\n",
       "</table>\n",
       "</div>"
      ],
      "text/plain": [
       "      Hugo_Symbol SWISSPROT HGVSp_Short Tumor_Sample_Barcode\n",
       "29767       TANC1    Q9C0D5       E752Q         TCGA-EW-A1J5"
      ]
     },
     "metadata": {},
     "output_type": "display_data"
    }
   ],
   "source": [
    "for patient in brca_patients_actual:\n",
    "    if not get_patient_snv(patient, brca_snv_simplified)[\n",
    "        get_patient_snv(patient, brca_snv_simplified)[\"SWISSPROT\"] == \"Q9C0D5\"\n",
    "    ].empty:\n",
    "        print(patient)\n",
    "        display(\n",
    "            get_this_protein_from_this_patient_snv(\n",
    "                \"Q9C0D5\", get_patient_snv(patient, brca_snv_simplified)\n",
    "            )\n",
    "        )"
   ]
  },
  {
   "cell_type": "code",
   "execution_count": 96,
   "id": "da9e8fed-9ac0-4495-9e73-853ea69e3be0",
   "metadata": {
    "scrolled": true,
    "tags": []
   },
   "outputs": [
    {
     "name": "stdout",
     "output_type": "stream",
     "text": [
      "\n",
      " 1  -  TCGA-A1-A0SI\n"
     ]
    },
    {
     "data": {
      "text/html": [
       "<div>\n",
       "<style scoped>\n",
       "    .dataframe tbody tr th:only-of-type {\n",
       "        vertical-align: middle;\n",
       "    }\n",
       "\n",
       "    .dataframe tbody tr th {\n",
       "        vertical-align: top;\n",
       "    }\n",
       "\n",
       "    .dataframe thead th {\n",
       "        text-align: right;\n",
       "    }\n",
       "</style>\n",
       "<table border=\"1\" class=\"dataframe\">\n",
       "  <thead>\n",
       "    <tr style=\"text-align: right;\">\n",
       "      <th></th>\n",
       "      <th>Hugo_Symbol</th>\n",
       "      <th>SWISSPROT</th>\n",
       "      <th>HGVSp_Short</th>\n",
       "      <th>Tumor_Sample_Barcode</th>\n",
       "    </tr>\n",
       "  </thead>\n",
       "  <tbody>\n",
       "    <tr>\n",
       "      <th>42737</th>\n",
       "      <td>TP53</td>\n",
       "      <td>P04637</td>\n",
       "      <td>R175H</td>\n",
       "      <td>TCGA-A1-A0SI</td>\n",
       "    </tr>\n",
       "  </tbody>\n",
       "</table>\n",
       "</div>"
      ],
      "text/plain": [
       "      Hugo_Symbol SWISSPROT HGVSp_Short Tumor_Sample_Barcode\n",
       "42737        TP53    P04637       R175H         TCGA-A1-A0SI"
      ]
     },
     "metadata": {},
     "output_type": "display_data"
    },
    {
     "name": "stdout",
     "output_type": "stream",
     "text": [
      "\n",
      " 2  -  TCGA-A1-A0SK\n"
     ]
    },
    {
     "data": {
      "text/html": [
       "<div>\n",
       "<style scoped>\n",
       "    .dataframe tbody tr th:only-of-type {\n",
       "        vertical-align: middle;\n",
       "    }\n",
       "\n",
       "    .dataframe tbody tr th {\n",
       "        vertical-align: top;\n",
       "    }\n",
       "\n",
       "    .dataframe thead th {\n",
       "        text-align: right;\n",
       "    }\n",
       "</style>\n",
       "<table border=\"1\" class=\"dataframe\">\n",
       "  <thead>\n",
       "    <tr style=\"text-align: right;\">\n",
       "      <th></th>\n",
       "      <th>Hugo_Symbol</th>\n",
       "      <th>SWISSPROT</th>\n",
       "      <th>HGVSp_Short</th>\n",
       "      <th>Tumor_Sample_Barcode</th>\n",
       "    </tr>\n",
       "  </thead>\n",
       "  <tbody>\n",
       "    <tr>\n",
       "      <th>28572</th>\n",
       "      <td>TP53</td>\n",
       "      <td>P04637</td>\n",
       "      <td>M133K</td>\n",
       "      <td>TCGA-A1-A0SK</td>\n",
       "    </tr>\n",
       "  </tbody>\n",
       "</table>\n",
       "</div>"
      ],
      "text/plain": [
       "      Hugo_Symbol SWISSPROT HGVSp_Short Tumor_Sample_Barcode\n",
       "28572        TP53    P04637       M133K         TCGA-A1-A0SK"
      ]
     },
     "metadata": {},
     "output_type": "display_data"
    },
    {
     "name": "stdout",
     "output_type": "stream",
     "text": [
      "\n",
      " 3  -  TCGA-A1-A0SO\n"
     ]
    },
    {
     "data": {
      "text/html": [
       "<div>\n",
       "<style scoped>\n",
       "    .dataframe tbody tr th:only-of-type {\n",
       "        vertical-align: middle;\n",
       "    }\n",
       "\n",
       "    .dataframe tbody tr th {\n",
       "        vertical-align: top;\n",
       "    }\n",
       "\n",
       "    .dataframe thead th {\n",
       "        text-align: right;\n",
       "    }\n",
       "</style>\n",
       "<table border=\"1\" class=\"dataframe\">\n",
       "  <thead>\n",
       "    <tr style=\"text-align: right;\">\n",
       "      <th></th>\n",
       "      <th>Hugo_Symbol</th>\n",
       "      <th>SWISSPROT</th>\n",
       "      <th>HGVSp_Short</th>\n",
       "      <th>Tumor_Sample_Barcode</th>\n",
       "    </tr>\n",
       "  </thead>\n",
       "  <tbody>\n",
       "    <tr>\n",
       "      <th>21332</th>\n",
       "      <td>TP53</td>\n",
       "      <td>P04637</td>\n",
       "      <td>Y220C</td>\n",
       "      <td>TCGA-A1-A0SO</td>\n",
       "    </tr>\n",
       "  </tbody>\n",
       "</table>\n",
       "</div>"
      ],
      "text/plain": [
       "      Hugo_Symbol SWISSPROT HGVSp_Short Tumor_Sample_Barcode\n",
       "21332        TP53    P04637       Y220C         TCGA-A1-A0SO"
      ]
     },
     "metadata": {},
     "output_type": "display_data"
    },
    {
     "name": "stdout",
     "output_type": "stream",
     "text": [
      "\n",
      " 4  -  TCGA-A2-A04T\n"
     ]
    },
    {
     "data": {
      "text/html": [
       "<div>\n",
       "<style scoped>\n",
       "    .dataframe tbody tr th:only-of-type {\n",
       "        vertical-align: middle;\n",
       "    }\n",
       "\n",
       "    .dataframe tbody tr th {\n",
       "        vertical-align: top;\n",
       "    }\n",
       "\n",
       "    .dataframe thead th {\n",
       "        text-align: right;\n",
       "    }\n",
       "</style>\n",
       "<table border=\"1\" class=\"dataframe\">\n",
       "  <thead>\n",
       "    <tr style=\"text-align: right;\">\n",
       "      <th></th>\n",
       "      <th>Hugo_Symbol</th>\n",
       "      <th>SWISSPROT</th>\n",
       "      <th>HGVSp_Short</th>\n",
       "      <th>Tumor_Sample_Barcode</th>\n",
       "    </tr>\n",
       "  </thead>\n",
       "  <tbody>\n",
       "    <tr>\n",
       "      <th>21151</th>\n",
       "      <td>TP53</td>\n",
       "      <td>P04637</td>\n",
       "      <td>R273H</td>\n",
       "      <td>TCGA-A2-A04T</td>\n",
       "    </tr>\n",
       "    <tr>\n",
       "      <th>21152</th>\n",
       "      <td>TP53</td>\n",
       "      <td>P04637</td>\n",
       "      <td>D208G</td>\n",
       "      <td>TCGA-A2-A04T</td>\n",
       "    </tr>\n",
       "  </tbody>\n",
       "</table>\n",
       "</div>"
      ],
      "text/plain": [
       "      Hugo_Symbol SWISSPROT HGVSp_Short Tumor_Sample_Barcode\n",
       "21151        TP53    P04637       R273H         TCGA-A2-A04T\n",
       "21152        TP53    P04637       D208G         TCGA-A2-A04T"
      ]
     },
     "metadata": {},
     "output_type": "display_data"
    },
    {
     "name": "stdout",
     "output_type": "stream",
     "text": [
      "\n",
      " 5  -  TCGA-A2-A04W\n"
     ]
    },
    {
     "data": {
      "text/html": [
       "<div>\n",
       "<style scoped>\n",
       "    .dataframe tbody tr th:only-of-type {\n",
       "        vertical-align: middle;\n",
       "    }\n",
       "\n",
       "    .dataframe tbody tr th {\n",
       "        vertical-align: top;\n",
       "    }\n",
       "\n",
       "    .dataframe thead th {\n",
       "        text-align: right;\n",
       "    }\n",
       "</style>\n",
       "<table border=\"1\" class=\"dataframe\">\n",
       "  <thead>\n",
       "    <tr style=\"text-align: right;\">\n",
       "      <th></th>\n",
       "      <th>Hugo_Symbol</th>\n",
       "      <th>SWISSPROT</th>\n",
       "      <th>HGVSp_Short</th>\n",
       "      <th>Tumor_Sample_Barcode</th>\n",
       "    </tr>\n",
       "  </thead>\n",
       "  <tbody>\n",
       "    <tr>\n",
       "      <th>24027</th>\n",
       "      <td>TP53</td>\n",
       "      <td>P04637</td>\n",
       "      <td>V272M</td>\n",
       "      <td>TCGA-A2-A04W</td>\n",
       "    </tr>\n",
       "  </tbody>\n",
       "</table>\n",
       "</div>"
      ],
      "text/plain": [
       "      Hugo_Symbol SWISSPROT HGVSp_Short Tumor_Sample_Barcode\n",
       "24027        TP53    P04637       V272M         TCGA-A2-A04W"
      ]
     },
     "metadata": {},
     "output_type": "display_data"
    },
    {
     "name": "stdout",
     "output_type": "stream",
     "text": [
      "\n",
      " 6  -  TCGA-A2-A0CL\n"
     ]
    },
    {
     "data": {
      "text/html": [
       "<div>\n",
       "<style scoped>\n",
       "    .dataframe tbody tr th:only-of-type {\n",
       "        vertical-align: middle;\n",
       "    }\n",
       "\n",
       "    .dataframe tbody tr th {\n",
       "        vertical-align: top;\n",
       "    }\n",
       "\n",
       "    .dataframe thead th {\n",
       "        text-align: right;\n",
       "    }\n",
       "</style>\n",
       "<table border=\"1\" class=\"dataframe\">\n",
       "  <thead>\n",
       "    <tr style=\"text-align: right;\">\n",
       "      <th></th>\n",
       "      <th>Hugo_Symbol</th>\n",
       "      <th>SWISSPROT</th>\n",
       "      <th>HGVSp_Short</th>\n",
       "      <th>Tumor_Sample_Barcode</th>\n",
       "    </tr>\n",
       "  </thead>\n",
       "  <tbody>\n",
       "    <tr>\n",
       "      <th>9046</th>\n",
       "      <td>TP53</td>\n",
       "      <td>P04637</td>\n",
       "      <td>R273L</td>\n",
       "      <td>TCGA-A2-A0CL</td>\n",
       "    </tr>\n",
       "  </tbody>\n",
       "</table>\n",
       "</div>"
      ],
      "text/plain": [
       "     Hugo_Symbol SWISSPROT HGVSp_Short Tumor_Sample_Barcode\n",
       "9046        TP53    P04637       R273L         TCGA-A2-A0CL"
      ]
     },
     "metadata": {},
     "output_type": "display_data"
    },
    {
     "name": "stdout",
     "output_type": "stream",
     "text": [
      "\n",
      " 7  -  TCGA-A2-A0EY\n"
     ]
    },
    {
     "data": {
      "text/html": [
       "<div>\n",
       "<style scoped>\n",
       "    .dataframe tbody tr th:only-of-type {\n",
       "        vertical-align: middle;\n",
       "    }\n",
       "\n",
       "    .dataframe tbody tr th {\n",
       "        vertical-align: top;\n",
       "    }\n",
       "\n",
       "    .dataframe thead th {\n",
       "        text-align: right;\n",
       "    }\n",
       "</style>\n",
       "<table border=\"1\" class=\"dataframe\">\n",
       "  <thead>\n",
       "    <tr style=\"text-align: right;\">\n",
       "      <th></th>\n",
       "      <th>Hugo_Symbol</th>\n",
       "      <th>SWISSPROT</th>\n",
       "      <th>HGVSp_Short</th>\n",
       "      <th>Tumor_Sample_Barcode</th>\n",
       "    </tr>\n",
       "  </thead>\n",
       "  <tbody>\n",
       "    <tr>\n",
       "      <th>48664</th>\n",
       "      <td>TP53</td>\n",
       "      <td>P04637</td>\n",
       "      <td>Y234C</td>\n",
       "      <td>TCGA-A2-A0EY</td>\n",
       "    </tr>\n",
       "  </tbody>\n",
       "</table>\n",
       "</div>"
      ],
      "text/plain": [
       "      Hugo_Symbol SWISSPROT HGVSp_Short Tumor_Sample_Barcode\n",
       "48664        TP53    P04637       Y234C         TCGA-A2-A0EY"
      ]
     },
     "metadata": {},
     "output_type": "display_data"
    },
    {
     "name": "stdout",
     "output_type": "stream",
     "text": [
      "\n",
      " 8  -  TCGA-A2-A0ST\n"
     ]
    },
    {
     "data": {
      "text/html": [
       "<div>\n",
       "<style scoped>\n",
       "    .dataframe tbody tr th:only-of-type {\n",
       "        vertical-align: middle;\n",
       "    }\n",
       "\n",
       "    .dataframe tbody tr th {\n",
       "        vertical-align: top;\n",
       "    }\n",
       "\n",
       "    .dataframe thead th {\n",
       "        text-align: right;\n",
       "    }\n",
       "</style>\n",
       "<table border=\"1\" class=\"dataframe\">\n",
       "  <thead>\n",
       "    <tr style=\"text-align: right;\">\n",
       "      <th></th>\n",
       "      <th>Hugo_Symbol</th>\n",
       "      <th>SWISSPROT</th>\n",
       "      <th>HGVSp_Short</th>\n",
       "      <th>Tumor_Sample_Barcode</th>\n",
       "    </tr>\n",
       "  </thead>\n",
       "  <tbody>\n",
       "    <tr>\n",
       "      <th>34110</th>\n",
       "      <td>TP53</td>\n",
       "      <td>P04637</td>\n",
       "      <td>Y163C</td>\n",
       "      <td>TCGA-A2-A0ST</td>\n",
       "    </tr>\n",
       "  </tbody>\n",
       "</table>\n",
       "</div>"
      ],
      "text/plain": [
       "      Hugo_Symbol SWISSPROT HGVSp_Short Tumor_Sample_Barcode\n",
       "34110        TP53    P04637       Y163C         TCGA-A2-A0ST"
      ]
     },
     "metadata": {},
     "output_type": "display_data"
    },
    {
     "name": "stdout",
     "output_type": "stream",
     "text": [
      "\n",
      " 9  -  TCGA-A2-A0SW\n"
     ]
    },
    {
     "data": {
      "text/html": [
       "<div>\n",
       "<style scoped>\n",
       "    .dataframe tbody tr th:only-of-type {\n",
       "        vertical-align: middle;\n",
       "    }\n",
       "\n",
       "    .dataframe tbody tr th {\n",
       "        vertical-align: top;\n",
       "    }\n",
       "\n",
       "    .dataframe thead th {\n",
       "        text-align: right;\n",
       "    }\n",
       "</style>\n",
       "<table border=\"1\" class=\"dataframe\">\n",
       "  <thead>\n",
       "    <tr style=\"text-align: right;\">\n",
       "      <th></th>\n",
       "      <th>Hugo_Symbol</th>\n",
       "      <th>SWISSPROT</th>\n",
       "      <th>HGVSp_Short</th>\n",
       "      <th>Tumor_Sample_Barcode</th>\n",
       "    </tr>\n",
       "  </thead>\n",
       "  <tbody>\n",
       "    <tr>\n",
       "      <th>37019</th>\n",
       "      <td>TP53</td>\n",
       "      <td>P04637</td>\n",
       "      <td>R273C</td>\n",
       "      <td>TCGA-A2-A0SW</td>\n",
       "    </tr>\n",
       "  </tbody>\n",
       "</table>\n",
       "</div>"
      ],
      "text/plain": [
       "      Hugo_Symbol SWISSPROT HGVSp_Short Tumor_Sample_Barcode\n",
       "37019        TP53    P04637       R273C         TCGA-A2-A0SW"
      ]
     },
     "metadata": {},
     "output_type": "display_data"
    },
    {
     "name": "stdout",
     "output_type": "stream",
     "text": [
      "\n",
      " 10  -  TCGA-A2-A0SX\n"
     ]
    },
    {
     "data": {
      "text/html": [
       "<div>\n",
       "<style scoped>\n",
       "    .dataframe tbody tr th:only-of-type {\n",
       "        vertical-align: middle;\n",
       "    }\n",
       "\n",
       "    .dataframe tbody tr th {\n",
       "        vertical-align: top;\n",
       "    }\n",
       "\n",
       "    .dataframe thead th {\n",
       "        text-align: right;\n",
       "    }\n",
       "</style>\n",
       "<table border=\"1\" class=\"dataframe\">\n",
       "  <thead>\n",
       "    <tr style=\"text-align: right;\">\n",
       "      <th></th>\n",
       "      <th>Hugo_Symbol</th>\n",
       "      <th>SWISSPROT</th>\n",
       "      <th>HGVSp_Short</th>\n",
       "      <th>Tumor_Sample_Barcode</th>\n",
       "    </tr>\n",
       "  </thead>\n",
       "  <tbody>\n",
       "    <tr>\n",
       "      <th>9936</th>\n",
       "      <td>TP53</td>\n",
       "      <td>P04637</td>\n",
       "      <td>G199V</td>\n",
       "      <td>TCGA-A2-A0SX</td>\n",
       "    </tr>\n",
       "  </tbody>\n",
       "</table>\n",
       "</div>"
      ],
      "text/plain": [
       "     Hugo_Symbol SWISSPROT HGVSp_Short Tumor_Sample_Barcode\n",
       "9936        TP53    P04637       G199V         TCGA-A2-A0SX"
      ]
     },
     "metadata": {},
     "output_type": "display_data"
    },
    {
     "name": "stdout",
     "output_type": "stream",
     "text": [
      "\n",
      " 11  -  TCGA-A2-A0T1\n"
     ]
    },
    {
     "data": {
      "text/html": [
       "<div>\n",
       "<style scoped>\n",
       "    .dataframe tbody tr th:only-of-type {\n",
       "        vertical-align: middle;\n",
       "    }\n",
       "\n",
       "    .dataframe tbody tr th {\n",
       "        vertical-align: top;\n",
       "    }\n",
       "\n",
       "    .dataframe thead th {\n",
       "        text-align: right;\n",
       "    }\n",
       "</style>\n",
       "<table border=\"1\" class=\"dataframe\">\n",
       "  <thead>\n",
       "    <tr style=\"text-align: right;\">\n",
       "      <th></th>\n",
       "      <th>Hugo_Symbol</th>\n",
       "      <th>SWISSPROT</th>\n",
       "      <th>HGVSp_Short</th>\n",
       "      <th>Tumor_Sample_Barcode</th>\n",
       "    </tr>\n",
       "  </thead>\n",
       "  <tbody>\n",
       "    <tr>\n",
       "      <th>12811</th>\n",
       "      <td>TP53</td>\n",
       "      <td>P04637</td>\n",
       "      <td>R273C</td>\n",
       "      <td>TCGA-A2-A0T1</td>\n",
       "    </tr>\n",
       "  </tbody>\n",
       "</table>\n",
       "</div>"
      ],
      "text/plain": [
       "      Hugo_Symbol SWISSPROT HGVSp_Short Tumor_Sample_Barcode\n",
       "12811        TP53    P04637       R273C         TCGA-A2-A0T1"
      ]
     },
     "metadata": {},
     "output_type": "display_data"
    },
    {
     "name": "stdout",
     "output_type": "stream",
     "text": [
      "\n",
      " 12  -  TCGA-A2-A0T2\n"
     ]
    },
    {
     "data": {
      "text/html": [
       "<div>\n",
       "<style scoped>\n",
       "    .dataframe tbody tr th:only-of-type {\n",
       "        vertical-align: middle;\n",
       "    }\n",
       "\n",
       "    .dataframe tbody tr th {\n",
       "        vertical-align: top;\n",
       "    }\n",
       "\n",
       "    .dataframe thead th {\n",
       "        text-align: right;\n",
       "    }\n",
       "</style>\n",
       "<table border=\"1\" class=\"dataframe\">\n",
       "  <thead>\n",
       "    <tr style=\"text-align: right;\">\n",
       "      <th></th>\n",
       "      <th>Hugo_Symbol</th>\n",
       "      <th>SWISSPROT</th>\n",
       "      <th>HGVSp_Short</th>\n",
       "      <th>Tumor_Sample_Barcode</th>\n",
       "    </tr>\n",
       "  </thead>\n",
       "  <tbody>\n",
       "    <tr>\n",
       "      <th>11166</th>\n",
       "      <td>TP53</td>\n",
       "      <td>P04637</td>\n",
       "      <td>Y220C</td>\n",
       "      <td>TCGA-A2-A0T2</td>\n",
       "    </tr>\n",
       "  </tbody>\n",
       "</table>\n",
       "</div>"
      ],
      "text/plain": [
       "      Hugo_Symbol SWISSPROT HGVSp_Short Tumor_Sample_Barcode\n",
       "11166        TP53    P04637       Y220C         TCGA-A2-A0T2"
      ]
     },
     "metadata": {},
     "output_type": "display_data"
    },
    {
     "name": "stdout",
     "output_type": "stream",
     "text": [
      "\n",
      " 13  -  TCGA-A2-A0YH\n"
     ]
    },
    {
     "data": {
      "text/html": [
       "<div>\n",
       "<style scoped>\n",
       "    .dataframe tbody tr th:only-of-type {\n",
       "        vertical-align: middle;\n",
       "    }\n",
       "\n",
       "    .dataframe tbody tr th {\n",
       "        vertical-align: top;\n",
       "    }\n",
       "\n",
       "    .dataframe thead th {\n",
       "        text-align: right;\n",
       "    }\n",
       "</style>\n",
       "<table border=\"1\" class=\"dataframe\">\n",
       "  <thead>\n",
       "    <tr style=\"text-align: right;\">\n",
       "      <th></th>\n",
       "      <th>Hugo_Symbol</th>\n",
       "      <th>SWISSPROT</th>\n",
       "      <th>HGVSp_Short</th>\n",
       "      <th>Tumor_Sample_Barcode</th>\n",
       "    </tr>\n",
       "  </thead>\n",
       "  <tbody>\n",
       "    <tr>\n",
       "      <th>3098</th>\n",
       "      <td>TP53</td>\n",
       "      <td>P04637</td>\n",
       "      <td>P278L</td>\n",
       "      <td>TCGA-A2-A0YH</td>\n",
       "    </tr>\n",
       "  </tbody>\n",
       "</table>\n",
       "</div>"
      ],
      "text/plain": [
       "     Hugo_Symbol SWISSPROT HGVSp_Short Tumor_Sample_Barcode\n",
       "3098        TP53    P04637       P278L         TCGA-A2-A0YH"
      ]
     },
     "metadata": {},
     "output_type": "display_data"
    },
    {
     "name": "stdout",
     "output_type": "stream",
     "text": [
      "\n",
      " 14  -  TCGA-A2-A0YT\n"
     ]
    },
    {
     "data": {
      "text/html": [
       "<div>\n",
       "<style scoped>\n",
       "    .dataframe tbody tr th:only-of-type {\n",
       "        vertical-align: middle;\n",
       "    }\n",
       "\n",
       "    .dataframe tbody tr th {\n",
       "        vertical-align: top;\n",
       "    }\n",
       "\n",
       "    .dataframe thead th {\n",
       "        text-align: right;\n",
       "    }\n",
       "</style>\n",
       "<table border=\"1\" class=\"dataframe\">\n",
       "  <thead>\n",
       "    <tr style=\"text-align: right;\">\n",
       "      <th></th>\n",
       "      <th>Hugo_Symbol</th>\n",
       "      <th>SWISSPROT</th>\n",
       "      <th>HGVSp_Short</th>\n",
       "      <th>Tumor_Sample_Barcode</th>\n",
       "    </tr>\n",
       "  </thead>\n",
       "  <tbody>\n",
       "    <tr>\n",
       "      <th>26628</th>\n",
       "      <td>TP53</td>\n",
       "      <td>P04637</td>\n",
       "      <td>I255S</td>\n",
       "      <td>TCGA-A2-A0YT</td>\n",
       "    </tr>\n",
       "  </tbody>\n",
       "</table>\n",
       "</div>"
      ],
      "text/plain": [
       "      Hugo_Symbol SWISSPROT HGVSp_Short Tumor_Sample_Barcode\n",
       "26628        TP53    P04637       I255S         TCGA-A2-A0YT"
      ]
     },
     "metadata": {},
     "output_type": "display_data"
    },
    {
     "name": "stdout",
     "output_type": "stream",
     "text": [
      "\n",
      " 15  -  TCGA-A2-A3XT\n"
     ]
    },
    {
     "data": {
      "text/html": [
       "<div>\n",
       "<style scoped>\n",
       "    .dataframe tbody tr th:only-of-type {\n",
       "        vertical-align: middle;\n",
       "    }\n",
       "\n",
       "    .dataframe tbody tr th {\n",
       "        vertical-align: top;\n",
       "    }\n",
       "\n",
       "    .dataframe thead th {\n",
       "        text-align: right;\n",
       "    }\n",
       "</style>\n",
       "<table border=\"1\" class=\"dataframe\">\n",
       "  <thead>\n",
       "    <tr style=\"text-align: right;\">\n",
       "      <th></th>\n",
       "      <th>Hugo_Symbol</th>\n",
       "      <th>SWISSPROT</th>\n",
       "      <th>HGVSp_Short</th>\n",
       "      <th>Tumor_Sample_Barcode</th>\n",
       "    </tr>\n",
       "  </thead>\n",
       "  <tbody>\n",
       "    <tr>\n",
       "      <th>43131</th>\n",
       "      <td>TP53</td>\n",
       "      <td>P04637</td>\n",
       "      <td>C135R</td>\n",
       "      <td>TCGA-A2-A3XT</td>\n",
       "    </tr>\n",
       "  </tbody>\n",
       "</table>\n",
       "</div>"
      ],
      "text/plain": [
       "      Hugo_Symbol SWISSPROT HGVSp_Short Tumor_Sample_Barcode\n",
       "43131        TP53    P04637       C135R         TCGA-A2-A3XT"
      ]
     },
     "metadata": {},
     "output_type": "display_data"
    },
    {
     "name": "stdout",
     "output_type": "stream",
     "text": [
      "\n",
      " 16  -  TCGA-A2-A3XV\n"
     ]
    },
    {
     "data": {
      "text/html": [
       "<div>\n",
       "<style scoped>\n",
       "    .dataframe tbody tr th:only-of-type {\n",
       "        vertical-align: middle;\n",
       "    }\n",
       "\n",
       "    .dataframe tbody tr th {\n",
       "        vertical-align: top;\n",
       "    }\n",
       "\n",
       "    .dataframe thead th {\n",
       "        text-align: right;\n",
       "    }\n",
       "</style>\n",
       "<table border=\"1\" class=\"dataframe\">\n",
       "  <thead>\n",
       "    <tr style=\"text-align: right;\">\n",
       "      <th></th>\n",
       "      <th>Hugo_Symbol</th>\n",
       "      <th>SWISSPROT</th>\n",
       "      <th>HGVSp_Short</th>\n",
       "      <th>Tumor_Sample_Barcode</th>\n",
       "    </tr>\n",
       "  </thead>\n",
       "  <tbody>\n",
       "    <tr>\n",
       "      <th>22547</th>\n",
       "      <td>TP53</td>\n",
       "      <td>P04637</td>\n",
       "      <td>C135F</td>\n",
       "      <td>TCGA-A2-A3XV</td>\n",
       "    </tr>\n",
       "  </tbody>\n",
       "</table>\n",
       "</div>"
      ],
      "text/plain": [
       "      Hugo_Symbol SWISSPROT HGVSp_Short Tumor_Sample_Barcode\n",
       "22547        TP53    P04637       C135F         TCGA-A2-A3XV"
      ]
     },
     "metadata": {},
     "output_type": "display_data"
    },
    {
     "name": "stdout",
     "output_type": "stream",
     "text": [
      "\n",
      " 17  -  TCGA-A2-A3XX\n"
     ]
    },
    {
     "data": {
      "text/html": [
       "<div>\n",
       "<style scoped>\n",
       "    .dataframe tbody tr th:only-of-type {\n",
       "        vertical-align: middle;\n",
       "    }\n",
       "\n",
       "    .dataframe tbody tr th {\n",
       "        vertical-align: top;\n",
       "    }\n",
       "\n",
       "    .dataframe thead th {\n",
       "        text-align: right;\n",
       "    }\n",
       "</style>\n",
       "<table border=\"1\" class=\"dataframe\">\n",
       "  <thead>\n",
       "    <tr style=\"text-align: right;\">\n",
       "      <th></th>\n",
       "      <th>Hugo_Symbol</th>\n",
       "      <th>SWISSPROT</th>\n",
       "      <th>HGVSp_Short</th>\n",
       "      <th>Tumor_Sample_Barcode</th>\n",
       "    </tr>\n",
       "  </thead>\n",
       "  <tbody>\n",
       "    <tr>\n",
       "      <th>23792</th>\n",
       "      <td>TP53</td>\n",
       "      <td>P04637</td>\n",
       "      <td>L111P</td>\n",
       "      <td>TCGA-A2-A3XX</td>\n",
       "    </tr>\n",
       "  </tbody>\n",
       "</table>\n",
       "</div>"
      ],
      "text/plain": [
       "      Hugo_Symbol SWISSPROT HGVSp_Short Tumor_Sample_Barcode\n",
       "23792        TP53    P04637       L111P         TCGA-A2-A3XX"
      ]
     },
     "metadata": {},
     "output_type": "display_data"
    },
    {
     "name": "stdout",
     "output_type": "stream",
     "text": [
      "\n",
      " 18  -  TCGA-A2-A4S1\n"
     ]
    },
    {
     "data": {
      "text/html": [
       "<div>\n",
       "<style scoped>\n",
       "    .dataframe tbody tr th:only-of-type {\n",
       "        vertical-align: middle;\n",
       "    }\n",
       "\n",
       "    .dataframe tbody tr th {\n",
       "        vertical-align: top;\n",
       "    }\n",
       "\n",
       "    .dataframe thead th {\n",
       "        text-align: right;\n",
       "    }\n",
       "</style>\n",
       "<table border=\"1\" class=\"dataframe\">\n",
       "  <thead>\n",
       "    <tr style=\"text-align: right;\">\n",
       "      <th></th>\n",
       "      <th>Hugo_Symbol</th>\n",
       "      <th>SWISSPROT</th>\n",
       "      <th>HGVSp_Short</th>\n",
       "      <th>Tumor_Sample_Barcode</th>\n",
       "    </tr>\n",
       "  </thead>\n",
       "  <tbody>\n",
       "    <tr>\n",
       "      <th>26016</th>\n",
       "      <td>TP53</td>\n",
       "      <td>P04637</td>\n",
       "      <td>R280S</td>\n",
       "      <td>TCGA-A2-A4S1</td>\n",
       "    </tr>\n",
       "  </tbody>\n",
       "</table>\n",
       "</div>"
      ],
      "text/plain": [
       "      Hugo_Symbol SWISSPROT HGVSp_Short Tumor_Sample_Barcode\n",
       "26016        TP53    P04637       R280S         TCGA-A2-A4S1"
      ]
     },
     "metadata": {},
     "output_type": "display_data"
    },
    {
     "name": "stdout",
     "output_type": "stream",
     "text": [
      "\n",
      " 19  -  TCGA-A2-A4S3\n"
     ]
    },
    {
     "data": {
      "text/html": [
       "<div>\n",
       "<style scoped>\n",
       "    .dataframe tbody tr th:only-of-type {\n",
       "        vertical-align: middle;\n",
       "    }\n",
       "\n",
       "    .dataframe tbody tr th {\n",
       "        vertical-align: top;\n",
       "    }\n",
       "\n",
       "    .dataframe thead th {\n",
       "        text-align: right;\n",
       "    }\n",
       "</style>\n",
       "<table border=\"1\" class=\"dataframe\">\n",
       "  <thead>\n",
       "    <tr style=\"text-align: right;\">\n",
       "      <th></th>\n",
       "      <th>Hugo_Symbol</th>\n",
       "      <th>SWISSPROT</th>\n",
       "      <th>HGVSp_Short</th>\n",
       "      <th>Tumor_Sample_Barcode</th>\n",
       "    </tr>\n",
       "  </thead>\n",
       "  <tbody>\n",
       "    <tr>\n",
       "      <th>24520</th>\n",
       "      <td>TP53</td>\n",
       "      <td>P04637</td>\n",
       "      <td>K132E</td>\n",
       "      <td>TCGA-A2-A4S3</td>\n",
       "    </tr>\n",
       "  </tbody>\n",
       "</table>\n",
       "</div>"
      ],
      "text/plain": [
       "      Hugo_Symbol SWISSPROT HGVSp_Short Tumor_Sample_Barcode\n",
       "24520        TP53    P04637       K132E         TCGA-A2-A4S3"
      ]
     },
     "metadata": {},
     "output_type": "display_data"
    },
    {
     "name": "stdout",
     "output_type": "stream",
     "text": [
      "\n",
      " 20  -  TCGA-A7-A0CE\n"
     ]
    },
    {
     "data": {
      "text/html": [
       "<div>\n",
       "<style scoped>\n",
       "    .dataframe tbody tr th:only-of-type {\n",
       "        vertical-align: middle;\n",
       "    }\n",
       "\n",
       "    .dataframe tbody tr th {\n",
       "        vertical-align: top;\n",
       "    }\n",
       "\n",
       "    .dataframe thead th {\n",
       "        text-align: right;\n",
       "    }\n",
       "</style>\n",
       "<table border=\"1\" class=\"dataframe\">\n",
       "  <thead>\n",
       "    <tr style=\"text-align: right;\">\n",
       "      <th></th>\n",
       "      <th>Hugo_Symbol</th>\n",
       "      <th>SWISSPROT</th>\n",
       "      <th>HGVSp_Short</th>\n",
       "      <th>Tumor_Sample_Barcode</th>\n",
       "    </tr>\n",
       "  </thead>\n",
       "  <tbody>\n",
       "    <tr>\n",
       "      <th>2533</th>\n",
       "      <td>TP53</td>\n",
       "      <td>P04637</td>\n",
       "      <td>T155P</td>\n",
       "      <td>TCGA-A7-A0CE</td>\n",
       "    </tr>\n",
       "  </tbody>\n",
       "</table>\n",
       "</div>"
      ],
      "text/plain": [
       "     Hugo_Symbol SWISSPROT HGVSp_Short Tumor_Sample_Barcode\n",
       "2533        TP53    P04637       T155P         TCGA-A7-A0CE"
      ]
     },
     "metadata": {},
     "output_type": "display_data"
    },
    {
     "name": "stdout",
     "output_type": "stream",
     "text": [
      "\n",
      " 21  -  TCGA-A7-A0CJ\n"
     ]
    },
    {
     "data": {
      "text/html": [
       "<div>\n",
       "<style scoped>\n",
       "    .dataframe tbody tr th:only-of-type {\n",
       "        vertical-align: middle;\n",
       "    }\n",
       "\n",
       "    .dataframe tbody tr th {\n",
       "        vertical-align: top;\n",
       "    }\n",
       "\n",
       "    .dataframe thead th {\n",
       "        text-align: right;\n",
       "    }\n",
       "</style>\n",
       "<table border=\"1\" class=\"dataframe\">\n",
       "  <thead>\n",
       "    <tr style=\"text-align: right;\">\n",
       "      <th></th>\n",
       "      <th>Hugo_Symbol</th>\n",
       "      <th>SWISSPROT</th>\n",
       "      <th>HGVSp_Short</th>\n",
       "      <th>Tumor_Sample_Barcode</th>\n",
       "    </tr>\n",
       "  </thead>\n",
       "  <tbody>\n",
       "    <tr>\n",
       "      <th>56549</th>\n",
       "      <td>TP53</td>\n",
       "      <td>P04637</td>\n",
       "      <td>R175H</td>\n",
       "      <td>TCGA-A7-A0CJ</td>\n",
       "    </tr>\n",
       "  </tbody>\n",
       "</table>\n",
       "</div>"
      ],
      "text/plain": [
       "      Hugo_Symbol SWISSPROT HGVSp_Short Tumor_Sample_Barcode\n",
       "56549        TP53    P04637       R175H         TCGA-A7-A0CJ"
      ]
     },
     "metadata": {},
     "output_type": "display_data"
    },
    {
     "name": "stdout",
     "output_type": "stream",
     "text": [
      "\n",
      " 22  -  TCGA-A7-A0DA\n"
     ]
    },
    {
     "data": {
      "text/html": [
       "<div>\n",
       "<style scoped>\n",
       "    .dataframe tbody tr th:only-of-type {\n",
       "        vertical-align: middle;\n",
       "    }\n",
       "\n",
       "    .dataframe tbody tr th {\n",
       "        vertical-align: top;\n",
       "    }\n",
       "\n",
       "    .dataframe thead th {\n",
       "        text-align: right;\n",
       "    }\n",
       "</style>\n",
       "<table border=\"1\" class=\"dataframe\">\n",
       "  <thead>\n",
       "    <tr style=\"text-align: right;\">\n",
       "      <th></th>\n",
       "      <th>Hugo_Symbol</th>\n",
       "      <th>SWISSPROT</th>\n",
       "      <th>HGVSp_Short</th>\n",
       "      <th>Tumor_Sample_Barcode</th>\n",
       "    </tr>\n",
       "  </thead>\n",
       "  <tbody>\n",
       "    <tr>\n",
       "      <th>21736</th>\n",
       "      <td>TP53</td>\n",
       "      <td>P04637</td>\n",
       "      <td>I195T</td>\n",
       "      <td>TCGA-A7-A0DA</td>\n",
       "    </tr>\n",
       "  </tbody>\n",
       "</table>\n",
       "</div>"
      ],
      "text/plain": [
       "      Hugo_Symbol SWISSPROT HGVSp_Short Tumor_Sample_Barcode\n",
       "21736        TP53    P04637       I195T         TCGA-A7-A0DA"
      ]
     },
     "metadata": {},
     "output_type": "display_data"
    },
    {
     "name": "stdout",
     "output_type": "stream",
     "text": [
      "\n",
      " 23  -  TCGA-A7-A13E\n"
     ]
    },
    {
     "data": {
      "text/html": [
       "<div>\n",
       "<style scoped>\n",
       "    .dataframe tbody tr th:only-of-type {\n",
       "        vertical-align: middle;\n",
       "    }\n",
       "\n",
       "    .dataframe tbody tr th {\n",
       "        vertical-align: top;\n",
       "    }\n",
       "\n",
       "    .dataframe thead th {\n",
       "        text-align: right;\n",
       "    }\n",
       "</style>\n",
       "<table border=\"1\" class=\"dataframe\">\n",
       "  <thead>\n",
       "    <tr style=\"text-align: right;\">\n",
       "      <th></th>\n",
       "      <th>Hugo_Symbol</th>\n",
       "      <th>SWISSPROT</th>\n",
       "      <th>HGVSp_Short</th>\n",
       "      <th>Tumor_Sample_Barcode</th>\n",
       "    </tr>\n",
       "  </thead>\n",
       "  <tbody>\n",
       "    <tr>\n",
       "      <th>15996</th>\n",
       "      <td>TP53</td>\n",
       "      <td>P04637</td>\n",
       "      <td>R175H</td>\n",
       "      <td>TCGA-A7-A13E</td>\n",
       "    </tr>\n",
       "  </tbody>\n",
       "</table>\n",
       "</div>"
      ],
      "text/plain": [
       "      Hugo_Symbol SWISSPROT HGVSp_Short Tumor_Sample_Barcode\n",
       "15996        TP53    P04637       R175H         TCGA-A7-A13E"
      ]
     },
     "metadata": {},
     "output_type": "display_data"
    },
    {
     "name": "stdout",
     "output_type": "stream",
     "text": [
      "\n",
      " 24  -  TCGA-A7-A26F\n"
     ]
    },
    {
     "data": {
      "text/html": [
       "<div>\n",
       "<style scoped>\n",
       "    .dataframe tbody tr th:only-of-type {\n",
       "        vertical-align: middle;\n",
       "    }\n",
       "\n",
       "    .dataframe tbody tr th {\n",
       "        vertical-align: top;\n",
       "    }\n",
       "\n",
       "    .dataframe thead th {\n",
       "        text-align: right;\n",
       "    }\n",
       "</style>\n",
       "<table border=\"1\" class=\"dataframe\">\n",
       "  <thead>\n",
       "    <tr style=\"text-align: right;\">\n",
       "      <th></th>\n",
       "      <th>Hugo_Symbol</th>\n",
       "      <th>SWISSPROT</th>\n",
       "      <th>HGVSp_Short</th>\n",
       "      <th>Tumor_Sample_Barcode</th>\n",
       "    </tr>\n",
       "  </thead>\n",
       "  <tbody>\n",
       "    <tr>\n",
       "      <th>3898</th>\n",
       "      <td>TP53</td>\n",
       "      <td>P04637</td>\n",
       "      <td>C176F</td>\n",
       "      <td>TCGA-A7-A26F</td>\n",
       "    </tr>\n",
       "  </tbody>\n",
       "</table>\n",
       "</div>"
      ],
      "text/plain": [
       "     Hugo_Symbol SWISSPROT HGVSp_Short Tumor_Sample_Barcode\n",
       "3898        TP53    P04637       C176F         TCGA-A7-A26F"
      ]
     },
     "metadata": {},
     "output_type": "display_data"
    },
    {
     "name": "stdout",
     "output_type": "stream",
     "text": [
      "\n",
      " 25  -  TCGA-A7-A26G\n"
     ]
    },
    {
     "data": {
      "text/html": [
       "<div>\n",
       "<style scoped>\n",
       "    .dataframe tbody tr th:only-of-type {\n",
       "        vertical-align: middle;\n",
       "    }\n",
       "\n",
       "    .dataframe tbody tr th {\n",
       "        vertical-align: top;\n",
       "    }\n",
       "\n",
       "    .dataframe thead th {\n",
       "        text-align: right;\n",
       "    }\n",
       "</style>\n",
       "<table border=\"1\" class=\"dataframe\">\n",
       "  <thead>\n",
       "    <tr style=\"text-align: right;\">\n",
       "      <th></th>\n",
       "      <th>Hugo_Symbol</th>\n",
       "      <th>SWISSPROT</th>\n",
       "      <th>HGVSp_Short</th>\n",
       "      <th>Tumor_Sample_Barcode</th>\n",
       "    </tr>\n",
       "  </thead>\n",
       "  <tbody>\n",
       "    <tr>\n",
       "      <th>31657</th>\n",
       "      <td>TP53</td>\n",
       "      <td>P04637</td>\n",
       "      <td>Y220H</td>\n",
       "      <td>TCGA-A7-A26G</td>\n",
       "    </tr>\n",
       "  </tbody>\n",
       "</table>\n",
       "</div>"
      ],
      "text/plain": [
       "      Hugo_Symbol SWISSPROT HGVSp_Short Tumor_Sample_Barcode\n",
       "31657        TP53    P04637       Y220H         TCGA-A7-A26G"
      ]
     },
     "metadata": {},
     "output_type": "display_data"
    },
    {
     "name": "stdout",
     "output_type": "stream",
     "text": [
      "\n",
      " 26  -  TCGA-A7-A26I\n"
     ]
    },
    {
     "data": {
      "text/html": [
       "<div>\n",
       "<style scoped>\n",
       "    .dataframe tbody tr th:only-of-type {\n",
       "        vertical-align: middle;\n",
       "    }\n",
       "\n",
       "    .dataframe tbody tr th {\n",
       "        vertical-align: top;\n",
       "    }\n",
       "\n",
       "    .dataframe thead th {\n",
       "        text-align: right;\n",
       "    }\n",
       "</style>\n",
       "<table border=\"1\" class=\"dataframe\">\n",
       "  <thead>\n",
       "    <tr style=\"text-align: right;\">\n",
       "      <th></th>\n",
       "      <th>Hugo_Symbol</th>\n",
       "      <th>SWISSPROT</th>\n",
       "      <th>HGVSp_Short</th>\n",
       "      <th>Tumor_Sample_Barcode</th>\n",
       "    </tr>\n",
       "  </thead>\n",
       "  <tbody>\n",
       "    <tr>\n",
       "      <th>23749</th>\n",
       "      <td>TP53</td>\n",
       "      <td>P04637</td>\n",
       "      <td>G266E</td>\n",
       "      <td>TCGA-A7-A26I</td>\n",
       "    </tr>\n",
       "  </tbody>\n",
       "</table>\n",
       "</div>"
      ],
      "text/plain": [
       "      Hugo_Symbol SWISSPROT HGVSp_Short Tumor_Sample_Barcode\n",
       "23749        TP53    P04637       G266E         TCGA-A7-A26I"
      ]
     },
     "metadata": {},
     "output_type": "display_data"
    },
    {
     "name": "stdout",
     "output_type": "stream",
     "text": [
      "\n",
      " 27  -  TCGA-A7-A4SD\n"
     ]
    },
    {
     "data": {
      "text/html": [
       "<div>\n",
       "<style scoped>\n",
       "    .dataframe tbody tr th:only-of-type {\n",
       "        vertical-align: middle;\n",
       "    }\n",
       "\n",
       "    .dataframe tbody tr th {\n",
       "        vertical-align: top;\n",
       "    }\n",
       "\n",
       "    .dataframe thead th {\n",
       "        text-align: right;\n",
       "    }\n",
       "</style>\n",
       "<table border=\"1\" class=\"dataframe\">\n",
       "  <thead>\n",
       "    <tr style=\"text-align: right;\">\n",
       "      <th></th>\n",
       "      <th>Hugo_Symbol</th>\n",
       "      <th>SWISSPROT</th>\n",
       "      <th>HGVSp_Short</th>\n",
       "      <th>Tumor_Sample_Barcode</th>\n",
       "    </tr>\n",
       "  </thead>\n",
       "  <tbody>\n",
       "    <tr>\n",
       "      <th>33710</th>\n",
       "      <td>TP53</td>\n",
       "      <td>P04637</td>\n",
       "      <td>M237I</td>\n",
       "      <td>TCGA-A7-A4SD</td>\n",
       "    </tr>\n",
       "  </tbody>\n",
       "</table>\n",
       "</div>"
      ],
      "text/plain": [
       "      Hugo_Symbol SWISSPROT HGVSp_Short Tumor_Sample_Barcode\n",
       "33710        TP53    P04637       M237I         TCGA-A7-A4SD"
      ]
     },
     "metadata": {},
     "output_type": "display_data"
    },
    {
     "name": "stdout",
     "output_type": "stream",
     "text": [
      "\n",
      " 28  -  TCGA-A7-A6VW\n"
     ]
    },
    {
     "data": {
      "text/html": [
       "<div>\n",
       "<style scoped>\n",
       "    .dataframe tbody tr th:only-of-type {\n",
       "        vertical-align: middle;\n",
       "    }\n",
       "\n",
       "    .dataframe tbody tr th {\n",
       "        vertical-align: top;\n",
       "    }\n",
       "\n",
       "    .dataframe thead th {\n",
       "        text-align: right;\n",
       "    }\n",
       "</style>\n",
       "<table border=\"1\" class=\"dataframe\">\n",
       "  <thead>\n",
       "    <tr style=\"text-align: right;\">\n",
       "      <th></th>\n",
       "      <th>Hugo_Symbol</th>\n",
       "      <th>SWISSPROT</th>\n",
       "      <th>HGVSp_Short</th>\n",
       "      <th>Tumor_Sample_Barcode</th>\n",
       "    </tr>\n",
       "  </thead>\n",
       "  <tbody>\n",
       "    <tr>\n",
       "      <th>4695</th>\n",
       "      <td>TP53</td>\n",
       "      <td>P04637</td>\n",
       "      <td>H179R</td>\n",
       "      <td>TCGA-A7-A6VW</td>\n",
       "    </tr>\n",
       "  </tbody>\n",
       "</table>\n",
       "</div>"
      ],
      "text/plain": [
       "     Hugo_Symbol SWISSPROT HGVSp_Short Tumor_Sample_Barcode\n",
       "4695        TP53    P04637       H179R         TCGA-A7-A6VW"
      ]
     },
     "metadata": {},
     "output_type": "display_data"
    },
    {
     "name": "stdout",
     "output_type": "stream",
     "text": [
      "\n",
      " 29  -  TCGA-A7-A6VX\n"
     ]
    },
    {
     "data": {
      "text/html": [
       "<div>\n",
       "<style scoped>\n",
       "    .dataframe tbody tr th:only-of-type {\n",
       "        vertical-align: middle;\n",
       "    }\n",
       "\n",
       "    .dataframe tbody tr th {\n",
       "        vertical-align: top;\n",
       "    }\n",
       "\n",
       "    .dataframe thead th {\n",
       "        text-align: right;\n",
       "    }\n",
       "</style>\n",
       "<table border=\"1\" class=\"dataframe\">\n",
       "  <thead>\n",
       "    <tr style=\"text-align: right;\">\n",
       "      <th></th>\n",
       "      <th>Hugo_Symbol</th>\n",
       "      <th>SWISSPROT</th>\n",
       "      <th>HGVSp_Short</th>\n",
       "      <th>Tumor_Sample_Barcode</th>\n",
       "    </tr>\n",
       "  </thead>\n",
       "  <tbody>\n",
       "    <tr>\n",
       "      <th>4782</th>\n",
       "      <td>TP53</td>\n",
       "      <td>P04637</td>\n",
       "      <td>P250L</td>\n",
       "      <td>TCGA-A7-A6VX</td>\n",
       "    </tr>\n",
       "  </tbody>\n",
       "</table>\n",
       "</div>"
      ],
      "text/plain": [
       "     Hugo_Symbol SWISSPROT HGVSp_Short Tumor_Sample_Barcode\n",
       "4782        TP53    P04637       P250L         TCGA-A7-A6VX"
      ]
     },
     "metadata": {},
     "output_type": "display_data"
    },
    {
     "name": "stdout",
     "output_type": "stream",
     "text": [
      "\n",
      " 30  -  TCGA-A8-A06O\n"
     ]
    },
    {
     "data": {
      "text/html": [
       "<div>\n",
       "<style scoped>\n",
       "    .dataframe tbody tr th:only-of-type {\n",
       "        vertical-align: middle;\n",
       "    }\n",
       "\n",
       "    .dataframe tbody tr th {\n",
       "        vertical-align: top;\n",
       "    }\n",
       "\n",
       "    .dataframe thead th {\n",
       "        text-align: right;\n",
       "    }\n",
       "</style>\n",
       "<table border=\"1\" class=\"dataframe\">\n",
       "  <thead>\n",
       "    <tr style=\"text-align: right;\">\n",
       "      <th></th>\n",
       "      <th>Hugo_Symbol</th>\n",
       "      <th>SWISSPROT</th>\n",
       "      <th>HGVSp_Short</th>\n",
       "      <th>Tumor_Sample_Barcode</th>\n",
       "    </tr>\n",
       "  </thead>\n",
       "  <tbody>\n",
       "    <tr>\n",
       "      <th>22182</th>\n",
       "      <td>TP53</td>\n",
       "      <td>P04637</td>\n",
       "      <td>G279E</td>\n",
       "      <td>TCGA-A8-A06O</td>\n",
       "    </tr>\n",
       "  </tbody>\n",
       "</table>\n",
       "</div>"
      ],
      "text/plain": [
       "      Hugo_Symbol SWISSPROT HGVSp_Short Tumor_Sample_Barcode\n",
       "22182        TP53    P04637       G279E         TCGA-A8-A06O"
      ]
     },
     "metadata": {},
     "output_type": "display_data"
    },
    {
     "name": "stdout",
     "output_type": "stream",
     "text": [
      "\n",
      " 31  -  TCGA-A8-A06Q\n"
     ]
    },
    {
     "data": {
      "text/html": [
       "<div>\n",
       "<style scoped>\n",
       "    .dataframe tbody tr th:only-of-type {\n",
       "        vertical-align: middle;\n",
       "    }\n",
       "\n",
       "    .dataframe tbody tr th {\n",
       "        vertical-align: top;\n",
       "    }\n",
       "\n",
       "    .dataframe thead th {\n",
       "        text-align: right;\n",
       "    }\n",
       "</style>\n",
       "<table border=\"1\" class=\"dataframe\">\n",
       "  <thead>\n",
       "    <tr style=\"text-align: right;\">\n",
       "      <th></th>\n",
       "      <th>Hugo_Symbol</th>\n",
       "      <th>SWISSPROT</th>\n",
       "      <th>HGVSp_Short</th>\n",
       "      <th>Tumor_Sample_Barcode</th>\n",
       "    </tr>\n",
       "  </thead>\n",
       "  <tbody>\n",
       "    <tr>\n",
       "      <th>54576</th>\n",
       "      <td>TP53</td>\n",
       "      <td>P04637</td>\n",
       "      <td>C238Y</td>\n",
       "      <td>TCGA-A8-A06Q</td>\n",
       "    </tr>\n",
       "  </tbody>\n",
       "</table>\n",
       "</div>"
      ],
      "text/plain": [
       "      Hugo_Symbol SWISSPROT HGVSp_Short Tumor_Sample_Barcode\n",
       "54576        TP53    P04637       C238Y         TCGA-A8-A06Q"
      ]
     },
     "metadata": {},
     "output_type": "display_data"
    },
    {
     "name": "stdout",
     "output_type": "stream",
     "text": [
      "\n",
      " 32  -  TCGA-A8-A079\n"
     ]
    },
    {
     "data": {
      "text/html": [
       "<div>\n",
       "<style scoped>\n",
       "    .dataframe tbody tr th:only-of-type {\n",
       "        vertical-align: middle;\n",
       "    }\n",
       "\n",
       "    .dataframe tbody tr th {\n",
       "        vertical-align: top;\n",
       "    }\n",
       "\n",
       "    .dataframe thead th {\n",
       "        text-align: right;\n",
       "    }\n",
       "</style>\n",
       "<table border=\"1\" class=\"dataframe\">\n",
       "  <thead>\n",
       "    <tr style=\"text-align: right;\">\n",
       "      <th></th>\n",
       "      <th>Hugo_Symbol</th>\n",
       "      <th>SWISSPROT</th>\n",
       "      <th>HGVSp_Short</th>\n",
       "      <th>Tumor_Sample_Barcode</th>\n",
       "    </tr>\n",
       "  </thead>\n",
       "  <tbody>\n",
       "    <tr>\n",
       "      <th>58490</th>\n",
       "      <td>TP53</td>\n",
       "      <td>P04637</td>\n",
       "      <td>S215I</td>\n",
       "      <td>TCGA-A8-A079</td>\n",
       "    </tr>\n",
       "  </tbody>\n",
       "</table>\n",
       "</div>"
      ],
      "text/plain": [
       "      Hugo_Symbol SWISSPROT HGVSp_Short Tumor_Sample_Barcode\n",
       "58490        TP53    P04637       S215I         TCGA-A8-A079"
      ]
     },
     "metadata": {},
     "output_type": "display_data"
    },
    {
     "name": "stdout",
     "output_type": "stream",
     "text": [
      "\n",
      " 33  -  TCGA-A8-A07W\n"
     ]
    },
    {
     "data": {
      "text/html": [
       "<div>\n",
       "<style scoped>\n",
       "    .dataframe tbody tr th:only-of-type {\n",
       "        vertical-align: middle;\n",
       "    }\n",
       "\n",
       "    .dataframe tbody tr th {\n",
       "        vertical-align: top;\n",
       "    }\n",
       "\n",
       "    .dataframe thead th {\n",
       "        text-align: right;\n",
       "    }\n",
       "</style>\n",
       "<table border=\"1\" class=\"dataframe\">\n",
       "  <thead>\n",
       "    <tr style=\"text-align: right;\">\n",
       "      <th></th>\n",
       "      <th>Hugo_Symbol</th>\n",
       "      <th>SWISSPROT</th>\n",
       "      <th>HGVSp_Short</th>\n",
       "      <th>Tumor_Sample_Barcode</th>\n",
       "    </tr>\n",
       "  </thead>\n",
       "  <tbody>\n",
       "    <tr>\n",
       "      <th>54832</th>\n",
       "      <td>TP53</td>\n",
       "      <td>P04637</td>\n",
       "      <td>H179R</td>\n",
       "      <td>TCGA-A8-A07W</td>\n",
       "    </tr>\n",
       "  </tbody>\n",
       "</table>\n",
       "</div>"
      ],
      "text/plain": [
       "      Hugo_Symbol SWISSPROT HGVSp_Short Tumor_Sample_Barcode\n",
       "54832        TP53    P04637       H179R         TCGA-A8-A07W"
      ]
     },
     "metadata": {},
     "output_type": "display_data"
    },
    {
     "name": "stdout",
     "output_type": "stream",
     "text": [
      "\n",
      " 34  -  TCGA-A8-A081\n"
     ]
    },
    {
     "data": {
      "text/html": [
       "<div>\n",
       "<style scoped>\n",
       "    .dataframe tbody tr th:only-of-type {\n",
       "        vertical-align: middle;\n",
       "    }\n",
       "\n",
       "    .dataframe tbody tr th {\n",
       "        vertical-align: top;\n",
       "    }\n",
       "\n",
       "    .dataframe thead th {\n",
       "        text-align: right;\n",
       "    }\n",
       "</style>\n",
       "<table border=\"1\" class=\"dataframe\">\n",
       "  <thead>\n",
       "    <tr style=\"text-align: right;\">\n",
       "      <th></th>\n",
       "      <th>Hugo_Symbol</th>\n",
       "      <th>SWISSPROT</th>\n",
       "      <th>HGVSp_Short</th>\n",
       "      <th>Tumor_Sample_Barcode</th>\n",
       "    </tr>\n",
       "  </thead>\n",
       "  <tbody>\n",
       "    <tr>\n",
       "      <th>26423</th>\n",
       "      <td>TP53</td>\n",
       "      <td>P04637</td>\n",
       "      <td>C141Y</td>\n",
       "      <td>TCGA-A8-A081</td>\n",
       "    </tr>\n",
       "  </tbody>\n",
       "</table>\n",
       "</div>"
      ],
      "text/plain": [
       "      Hugo_Symbol SWISSPROT HGVSp_Short Tumor_Sample_Barcode\n",
       "26423        TP53    P04637       C141Y         TCGA-A8-A081"
      ]
     },
     "metadata": {},
     "output_type": "display_data"
    },
    {
     "name": "stdout",
     "output_type": "stream",
     "text": [
      "\n",
      " 35  -  TCGA-A8-A08X\n"
     ]
    },
    {
     "data": {
      "text/html": [
       "<div>\n",
       "<style scoped>\n",
       "    .dataframe tbody tr th:only-of-type {\n",
       "        vertical-align: middle;\n",
       "    }\n",
       "\n",
       "    .dataframe tbody tr th {\n",
       "        vertical-align: top;\n",
       "    }\n",
       "\n",
       "    .dataframe thead th {\n",
       "        text-align: right;\n",
       "    }\n",
       "</style>\n",
       "<table border=\"1\" class=\"dataframe\">\n",
       "  <thead>\n",
       "    <tr style=\"text-align: right;\">\n",
       "      <th></th>\n",
       "      <th>Hugo_Symbol</th>\n",
       "      <th>SWISSPROT</th>\n",
       "      <th>HGVSp_Short</th>\n",
       "      <th>Tumor_Sample_Barcode</th>\n",
       "    </tr>\n",
       "  </thead>\n",
       "  <tbody>\n",
       "    <tr>\n",
       "      <th>33540</th>\n",
       "      <td>TP53</td>\n",
       "      <td>P04637</td>\n",
       "      <td>C176F</td>\n",
       "      <td>TCGA-A8-A08X</td>\n",
       "    </tr>\n",
       "  </tbody>\n",
       "</table>\n",
       "</div>"
      ],
      "text/plain": [
       "      Hugo_Symbol SWISSPROT HGVSp_Short Tumor_Sample_Barcode\n",
       "33540        TP53    P04637       C176F         TCGA-A8-A08X"
      ]
     },
     "metadata": {},
     "output_type": "display_data"
    },
    {
     "name": "stdout",
     "output_type": "stream",
     "text": [
      "\n",
      " 36  -  TCGA-A8-A092\n"
     ]
    },
    {
     "data": {
      "text/html": [
       "<div>\n",
       "<style scoped>\n",
       "    .dataframe tbody tr th:only-of-type {\n",
       "        vertical-align: middle;\n",
       "    }\n",
       "\n",
       "    .dataframe tbody tr th {\n",
       "        vertical-align: top;\n",
       "    }\n",
       "\n",
       "    .dataframe thead th {\n",
       "        text-align: right;\n",
       "    }\n",
       "</style>\n",
       "<table border=\"1\" class=\"dataframe\">\n",
       "  <thead>\n",
       "    <tr style=\"text-align: right;\">\n",
       "      <th></th>\n",
       "      <th>Hugo_Symbol</th>\n",
       "      <th>SWISSPROT</th>\n",
       "      <th>HGVSp_Short</th>\n",
       "      <th>Tumor_Sample_Barcode</th>\n",
       "    </tr>\n",
       "  </thead>\n",
       "  <tbody>\n",
       "    <tr>\n",
       "      <th>17404</th>\n",
       "      <td>TP53</td>\n",
       "      <td>P04637</td>\n",
       "      <td>C238Y</td>\n",
       "      <td>TCGA-A8-A092</td>\n",
       "    </tr>\n",
       "  </tbody>\n",
       "</table>\n",
       "</div>"
      ],
      "text/plain": [
       "      Hugo_Symbol SWISSPROT HGVSp_Short Tumor_Sample_Barcode\n",
       "17404        TP53    P04637       C238Y         TCGA-A8-A092"
      ]
     },
     "metadata": {},
     "output_type": "display_data"
    },
    {
     "name": "stdout",
     "output_type": "stream",
     "text": [
      "\n",
      " 37  -  TCGA-A8-A09N\n"
     ]
    },
    {
     "data": {
      "text/html": [
       "<div>\n",
       "<style scoped>\n",
       "    .dataframe tbody tr th:only-of-type {\n",
       "        vertical-align: middle;\n",
       "    }\n",
       "\n",
       "    .dataframe tbody tr th {\n",
       "        vertical-align: top;\n",
       "    }\n",
       "\n",
       "    .dataframe thead th {\n",
       "        text-align: right;\n",
       "    }\n",
       "</style>\n",
       "<table border=\"1\" class=\"dataframe\">\n",
       "  <thead>\n",
       "    <tr style=\"text-align: right;\">\n",
       "      <th></th>\n",
       "      <th>Hugo_Symbol</th>\n",
       "      <th>SWISSPROT</th>\n",
       "      <th>HGVSp_Short</th>\n",
       "      <th>Tumor_Sample_Barcode</th>\n",
       "    </tr>\n",
       "  </thead>\n",
       "  <tbody>\n",
       "    <tr>\n",
       "      <th>1938</th>\n",
       "      <td>TP53</td>\n",
       "      <td>P04637</td>\n",
       "      <td>H193R</td>\n",
       "      <td>TCGA-A8-A09N</td>\n",
       "    </tr>\n",
       "  </tbody>\n",
       "</table>\n",
       "</div>"
      ],
      "text/plain": [
       "     Hugo_Symbol SWISSPROT HGVSp_Short Tumor_Sample_Barcode\n",
       "1938        TP53    P04637       H193R         TCGA-A8-A09N"
      ]
     },
     "metadata": {},
     "output_type": "display_data"
    },
    {
     "name": "stdout",
     "output_type": "stream",
     "text": [
      "\n",
      " 38  -  TCGA-A8-A09X\n"
     ]
    },
    {
     "data": {
      "text/html": [
       "<div>\n",
       "<style scoped>\n",
       "    .dataframe tbody tr th:only-of-type {\n",
       "        vertical-align: middle;\n",
       "    }\n",
       "\n",
       "    .dataframe tbody tr th {\n",
       "        vertical-align: top;\n",
       "    }\n",
       "\n",
       "    .dataframe thead th {\n",
       "        text-align: right;\n",
       "    }\n",
       "</style>\n",
       "<table border=\"1\" class=\"dataframe\">\n",
       "  <thead>\n",
       "    <tr style=\"text-align: right;\">\n",
       "      <th></th>\n",
       "      <th>Hugo_Symbol</th>\n",
       "      <th>SWISSPROT</th>\n",
       "      <th>HGVSp_Short</th>\n",
       "      <th>Tumor_Sample_Barcode</th>\n",
       "    </tr>\n",
       "  </thead>\n",
       "  <tbody>\n",
       "    <tr>\n",
       "      <th>22237</th>\n",
       "      <td>TP53</td>\n",
       "      <td>P04637</td>\n",
       "      <td>M246I</td>\n",
       "      <td>TCGA-A8-A09X</td>\n",
       "    </tr>\n",
       "  </tbody>\n",
       "</table>\n",
       "</div>"
      ],
      "text/plain": [
       "      Hugo_Symbol SWISSPROT HGVSp_Short Tumor_Sample_Barcode\n",
       "22237        TP53    P04637       M246I         TCGA-A8-A09X"
      ]
     },
     "metadata": {},
     "output_type": "display_data"
    },
    {
     "name": "stdout",
     "output_type": "stream",
     "text": [
      "\n",
      " 39  -  TCGA-AC-A2BK\n"
     ]
    },
    {
     "data": {
      "text/html": [
       "<div>\n",
       "<style scoped>\n",
       "    .dataframe tbody tr th:only-of-type {\n",
       "        vertical-align: middle;\n",
       "    }\n",
       "\n",
       "    .dataframe tbody tr th {\n",
       "        vertical-align: top;\n",
       "    }\n",
       "\n",
       "    .dataframe thead th {\n",
       "        text-align: right;\n",
       "    }\n",
       "</style>\n",
       "<table border=\"1\" class=\"dataframe\">\n",
       "  <thead>\n",
       "    <tr style=\"text-align: right;\">\n",
       "      <th></th>\n",
       "      <th>Hugo_Symbol</th>\n",
       "      <th>SWISSPROT</th>\n",
       "      <th>HGVSp_Short</th>\n",
       "      <th>Tumor_Sample_Barcode</th>\n",
       "    </tr>\n",
       "  </thead>\n",
       "  <tbody>\n",
       "    <tr>\n",
       "      <th>57035</th>\n",
       "      <td>TP53</td>\n",
       "      <td>P04637</td>\n",
       "      <td>S215I</td>\n",
       "      <td>TCGA-AC-A2BK</td>\n",
       "    </tr>\n",
       "  </tbody>\n",
       "</table>\n",
       "</div>"
      ],
      "text/plain": [
       "      Hugo_Symbol SWISSPROT HGVSp_Short Tumor_Sample_Barcode\n",
       "57035        TP53    P04637       S215I         TCGA-AC-A2BK"
      ]
     },
     "metadata": {},
     "output_type": "display_data"
    },
    {
     "name": "stdout",
     "output_type": "stream",
     "text": [
      "\n",
      " 40  -  TCGA-AC-A2QH\n"
     ]
    },
    {
     "data": {
      "text/html": [
       "<div>\n",
       "<style scoped>\n",
       "    .dataframe tbody tr th:only-of-type {\n",
       "        vertical-align: middle;\n",
       "    }\n",
       "\n",
       "    .dataframe tbody tr th {\n",
       "        vertical-align: top;\n",
       "    }\n",
       "\n",
       "    .dataframe thead th {\n",
       "        text-align: right;\n",
       "    }\n",
       "</style>\n",
       "<table border=\"1\" class=\"dataframe\">\n",
       "  <thead>\n",
       "    <tr style=\"text-align: right;\">\n",
       "      <th></th>\n",
       "      <th>Hugo_Symbol</th>\n",
       "      <th>SWISSPROT</th>\n",
       "      <th>HGVSp_Short</th>\n",
       "      <th>Tumor_Sample_Barcode</th>\n",
       "    </tr>\n",
       "  </thead>\n",
       "  <tbody>\n",
       "    <tr>\n",
       "      <th>37179</th>\n",
       "      <td>TP53</td>\n",
       "      <td>P04637</td>\n",
       "      <td>D281Y</td>\n",
       "      <td>TCGA-AC-A2QH</td>\n",
       "    </tr>\n",
       "  </tbody>\n",
       "</table>\n",
       "</div>"
      ],
      "text/plain": [
       "      Hugo_Symbol SWISSPROT HGVSp_Short Tumor_Sample_Barcode\n",
       "37179        TP53    P04637       D281Y         TCGA-AC-A2QH"
      ]
     },
     "metadata": {},
     "output_type": "display_data"
    },
    {
     "name": "stdout",
     "output_type": "stream",
     "text": [
      "\n",
      " 41  -  TCGA-AC-A5EH\n"
     ]
    },
    {
     "data": {
      "text/html": [
       "<div>\n",
       "<style scoped>\n",
       "    .dataframe tbody tr th:only-of-type {\n",
       "        vertical-align: middle;\n",
       "    }\n",
       "\n",
       "    .dataframe tbody tr th {\n",
       "        vertical-align: top;\n",
       "    }\n",
       "\n",
       "    .dataframe thead th {\n",
       "        text-align: right;\n",
       "    }\n",
       "</style>\n",
       "<table border=\"1\" class=\"dataframe\">\n",
       "  <thead>\n",
       "    <tr style=\"text-align: right;\">\n",
       "      <th></th>\n",
       "      <th>Hugo_Symbol</th>\n",
       "      <th>SWISSPROT</th>\n",
       "      <th>HGVSp_Short</th>\n",
       "      <th>Tumor_Sample_Barcode</th>\n",
       "    </tr>\n",
       "  </thead>\n",
       "  <tbody>\n",
       "    <tr>\n",
       "      <th>5470</th>\n",
       "      <td>TP53</td>\n",
       "      <td>P04637</td>\n",
       "      <td>L194R</td>\n",
       "      <td>TCGA-AC-A5EH</td>\n",
       "    </tr>\n",
       "  </tbody>\n",
       "</table>\n",
       "</div>"
      ],
      "text/plain": [
       "     Hugo_Symbol SWISSPROT HGVSp_Short Tumor_Sample_Barcode\n",
       "5470        TP53    P04637       L194R         TCGA-AC-A5EH"
      ]
     },
     "metadata": {},
     "output_type": "display_data"
    },
    {
     "name": "stdout",
     "output_type": "stream",
     "text": [
      "\n",
      " 42  -  TCGA-AC-A5XU\n"
     ]
    },
    {
     "data": {
      "text/html": [
       "<div>\n",
       "<style scoped>\n",
       "    .dataframe tbody tr th:only-of-type {\n",
       "        vertical-align: middle;\n",
       "    }\n",
       "\n",
       "    .dataframe tbody tr th {\n",
       "        vertical-align: top;\n",
       "    }\n",
       "\n",
       "    .dataframe thead th {\n",
       "        text-align: right;\n",
       "    }\n",
       "</style>\n",
       "<table border=\"1\" class=\"dataframe\">\n",
       "  <thead>\n",
       "    <tr style=\"text-align: right;\">\n",
       "      <th></th>\n",
       "      <th>Hugo_Symbol</th>\n",
       "      <th>SWISSPROT</th>\n",
       "      <th>HGVSp_Short</th>\n",
       "      <th>Tumor_Sample_Barcode</th>\n",
       "    </tr>\n",
       "  </thead>\n",
       "  <tbody>\n",
       "    <tr>\n",
       "      <th>33163</th>\n",
       "      <td>TP53</td>\n",
       "      <td>P04637</td>\n",
       "      <td>R342P</td>\n",
       "      <td>TCGA-AC-A5XU</td>\n",
       "    </tr>\n",
       "  </tbody>\n",
       "</table>\n",
       "</div>"
      ],
      "text/plain": [
       "      Hugo_Symbol SWISSPROT HGVSp_Short Tumor_Sample_Barcode\n",
       "33163        TP53    P04637       R342P         TCGA-AC-A5XU"
      ]
     },
     "metadata": {},
     "output_type": "display_data"
    },
    {
     "name": "stdout",
     "output_type": "stream",
     "text": [
      "\n",
      " 43  -  TCGA-AC-A62X\n"
     ]
    },
    {
     "data": {
      "text/html": [
       "<div>\n",
       "<style scoped>\n",
       "    .dataframe tbody tr th:only-of-type {\n",
       "        vertical-align: middle;\n",
       "    }\n",
       "\n",
       "    .dataframe tbody tr th {\n",
       "        vertical-align: top;\n",
       "    }\n",
       "\n",
       "    .dataframe thead th {\n",
       "        text-align: right;\n",
       "    }\n",
       "</style>\n",
       "<table border=\"1\" class=\"dataframe\">\n",
       "  <thead>\n",
       "    <tr style=\"text-align: right;\">\n",
       "      <th></th>\n",
       "      <th>Hugo_Symbol</th>\n",
       "      <th>SWISSPROT</th>\n",
       "      <th>HGVSp_Short</th>\n",
       "      <th>Tumor_Sample_Barcode</th>\n",
       "    </tr>\n",
       "  </thead>\n",
       "  <tbody>\n",
       "    <tr>\n",
       "      <th>8778</th>\n",
       "      <td>TP53</td>\n",
       "      <td>P04637</td>\n",
       "      <td>I195T</td>\n",
       "      <td>TCGA-AC-A62X</td>\n",
       "    </tr>\n",
       "  </tbody>\n",
       "</table>\n",
       "</div>"
      ],
      "text/plain": [
       "     Hugo_Symbol SWISSPROT HGVSp_Short Tumor_Sample_Barcode\n",
       "8778        TP53    P04637       I195T         TCGA-AC-A62X"
      ]
     },
     "metadata": {},
     "output_type": "display_data"
    },
    {
     "name": "stdout",
     "output_type": "stream",
     "text": [
      "\n",
      " 44  -  TCGA-AC-A6IW\n"
     ]
    },
    {
     "data": {
      "text/html": [
       "<div>\n",
       "<style scoped>\n",
       "    .dataframe tbody tr th:only-of-type {\n",
       "        vertical-align: middle;\n",
       "    }\n",
       "\n",
       "    .dataframe tbody tr th {\n",
       "        vertical-align: top;\n",
       "    }\n",
       "\n",
       "    .dataframe thead th {\n",
       "        text-align: right;\n",
       "    }\n",
       "</style>\n",
       "<table border=\"1\" class=\"dataframe\">\n",
       "  <thead>\n",
       "    <tr style=\"text-align: right;\">\n",
       "      <th></th>\n",
       "      <th>Hugo_Symbol</th>\n",
       "      <th>SWISSPROT</th>\n",
       "      <th>HGVSp_Short</th>\n",
       "      <th>Tumor_Sample_Barcode</th>\n",
       "    </tr>\n",
       "  </thead>\n",
       "  <tbody>\n",
       "    <tr>\n",
       "      <th>12657</th>\n",
       "      <td>TP53</td>\n",
       "      <td>P04637</td>\n",
       "      <td>R175H</td>\n",
       "      <td>TCGA-AC-A6IW</td>\n",
       "    </tr>\n",
       "  </tbody>\n",
       "</table>\n",
       "</div>"
      ],
      "text/plain": [
       "      Hugo_Symbol SWISSPROT HGVSp_Short Tumor_Sample_Barcode\n",
       "12657        TP53    P04637       R175H         TCGA-AC-A6IW"
      ]
     },
     "metadata": {},
     "output_type": "display_data"
    },
    {
     "name": "stdout",
     "output_type": "stream",
     "text": [
      "\n",
      " 45  -  TCGA-AC-A7VC\n"
     ]
    },
    {
     "data": {
      "text/html": [
       "<div>\n",
       "<style scoped>\n",
       "    .dataframe tbody tr th:only-of-type {\n",
       "        vertical-align: middle;\n",
       "    }\n",
       "\n",
       "    .dataframe tbody tr th {\n",
       "        vertical-align: top;\n",
       "    }\n",
       "\n",
       "    .dataframe thead th {\n",
       "        text-align: right;\n",
       "    }\n",
       "</style>\n",
       "<table border=\"1\" class=\"dataframe\">\n",
       "  <thead>\n",
       "    <tr style=\"text-align: right;\">\n",
       "      <th></th>\n",
       "      <th>Hugo_Symbol</th>\n",
       "      <th>SWISSPROT</th>\n",
       "      <th>HGVSp_Short</th>\n",
       "      <th>Tumor_Sample_Barcode</th>\n",
       "    </tr>\n",
       "  </thead>\n",
       "  <tbody>\n",
       "    <tr>\n",
       "      <th>42370</th>\n",
       "      <td>TP53</td>\n",
       "      <td>P04637</td>\n",
       "      <td>P278S</td>\n",
       "      <td>TCGA-AC-A7VC</td>\n",
       "    </tr>\n",
       "  </tbody>\n",
       "</table>\n",
       "</div>"
      ],
      "text/plain": [
       "      Hugo_Symbol SWISSPROT HGVSp_Short Tumor_Sample_Barcode\n",
       "42370        TP53    P04637       P278S         TCGA-AC-A7VC"
      ]
     },
     "metadata": {},
     "output_type": "display_data"
    },
    {
     "name": "stdout",
     "output_type": "stream",
     "text": [
      "\n",
      " 46  -  TCGA-AN-A046\n"
     ]
    },
    {
     "data": {
      "text/html": [
       "<div>\n",
       "<style scoped>\n",
       "    .dataframe tbody tr th:only-of-type {\n",
       "        vertical-align: middle;\n",
       "    }\n",
       "\n",
       "    .dataframe tbody tr th {\n",
       "        vertical-align: top;\n",
       "    }\n",
       "\n",
       "    .dataframe thead th {\n",
       "        text-align: right;\n",
       "    }\n",
       "</style>\n",
       "<table border=\"1\" class=\"dataframe\">\n",
       "  <thead>\n",
       "    <tr style=\"text-align: right;\">\n",
       "      <th></th>\n",
       "      <th>Hugo_Symbol</th>\n",
       "      <th>SWISSPROT</th>\n",
       "      <th>HGVSp_Short</th>\n",
       "      <th>Tumor_Sample_Barcode</th>\n",
       "    </tr>\n",
       "  </thead>\n",
       "  <tbody>\n",
       "    <tr>\n",
       "      <th>46498</th>\n",
       "      <td>TP53</td>\n",
       "      <td>P04637</td>\n",
       "      <td>E11K</td>\n",
       "      <td>TCGA-AN-A046</td>\n",
       "    </tr>\n",
       "  </tbody>\n",
       "</table>\n",
       "</div>"
      ],
      "text/plain": [
       "      Hugo_Symbol SWISSPROT HGVSp_Short Tumor_Sample_Barcode\n",
       "46498        TP53    P04637        E11K         TCGA-AN-A046"
      ]
     },
     "metadata": {},
     "output_type": "display_data"
    },
    {
     "name": "stdout",
     "output_type": "stream",
     "text": [
      "\n",
      " 47  -  TCGA-AN-A04C\n"
     ]
    },
    {
     "data": {
      "text/html": [
       "<div>\n",
       "<style scoped>\n",
       "    .dataframe tbody tr th:only-of-type {\n",
       "        vertical-align: middle;\n",
       "    }\n",
       "\n",
       "    .dataframe tbody tr th {\n",
       "        vertical-align: top;\n",
       "    }\n",
       "\n",
       "    .dataframe thead th {\n",
       "        text-align: right;\n",
       "    }\n",
       "</style>\n",
       "<table border=\"1\" class=\"dataframe\">\n",
       "  <thead>\n",
       "    <tr style=\"text-align: right;\">\n",
       "      <th></th>\n",
       "      <th>Hugo_Symbol</th>\n",
       "      <th>SWISSPROT</th>\n",
       "      <th>HGVSp_Short</th>\n",
       "      <th>Tumor_Sample_Barcode</th>\n",
       "    </tr>\n",
       "  </thead>\n",
       "  <tbody>\n",
       "    <tr>\n",
       "      <th>34187</th>\n",
       "      <td>TP53</td>\n",
       "      <td>P04637</td>\n",
       "      <td>H179R</td>\n",
       "      <td>TCGA-AN-A04C</td>\n",
       "    </tr>\n",
       "  </tbody>\n",
       "</table>\n",
       "</div>"
      ],
      "text/plain": [
       "      Hugo_Symbol SWISSPROT HGVSp_Short Tumor_Sample_Barcode\n",
       "34187        TP53    P04637       H179R         TCGA-AN-A04C"
      ]
     },
     "metadata": {},
     "output_type": "display_data"
    },
    {
     "name": "stdout",
     "output_type": "stream",
     "text": [
      "\n",
      " 48  -  TCGA-AN-A0AL\n"
     ]
    },
    {
     "data": {
      "text/html": [
       "<div>\n",
       "<style scoped>\n",
       "    .dataframe tbody tr th:only-of-type {\n",
       "        vertical-align: middle;\n",
       "    }\n",
       "\n",
       "    .dataframe tbody tr th {\n",
       "        vertical-align: top;\n",
       "    }\n",
       "\n",
       "    .dataframe thead th {\n",
       "        text-align: right;\n",
       "    }\n",
       "</style>\n",
       "<table border=\"1\" class=\"dataframe\">\n",
       "  <thead>\n",
       "    <tr style=\"text-align: right;\">\n",
       "      <th></th>\n",
       "      <th>Hugo_Symbol</th>\n",
       "      <th>SWISSPROT</th>\n",
       "      <th>HGVSp_Short</th>\n",
       "      <th>Tumor_Sample_Barcode</th>\n",
       "    </tr>\n",
       "  </thead>\n",
       "  <tbody>\n",
       "    <tr>\n",
       "      <th>56384</th>\n",
       "      <td>TP53</td>\n",
       "      <td>P04637</td>\n",
       "      <td>R175H</td>\n",
       "      <td>TCGA-AN-A0AL</td>\n",
       "    </tr>\n",
       "  </tbody>\n",
       "</table>\n",
       "</div>"
      ],
      "text/plain": [
       "      Hugo_Symbol SWISSPROT HGVSp_Short Tumor_Sample_Barcode\n",
       "56384        TP53    P04637       R175H         TCGA-AN-A0AL"
      ]
     },
     "metadata": {},
     "output_type": "display_data"
    },
    {
     "name": "stdout",
     "output_type": "stream",
     "text": [
      "\n",
      " 49  -  TCGA-AN-A0FT\n"
     ]
    },
    {
     "data": {
      "text/html": [
       "<div>\n",
       "<style scoped>\n",
       "    .dataframe tbody tr th:only-of-type {\n",
       "        vertical-align: middle;\n",
       "    }\n",
       "\n",
       "    .dataframe tbody tr th {\n",
       "        vertical-align: top;\n",
       "    }\n",
       "\n",
       "    .dataframe thead th {\n",
       "        text-align: right;\n",
       "    }\n",
       "</style>\n",
       "<table border=\"1\" class=\"dataframe\">\n",
       "  <thead>\n",
       "    <tr style=\"text-align: right;\">\n",
       "      <th></th>\n",
       "      <th>Hugo_Symbol</th>\n",
       "      <th>SWISSPROT</th>\n",
       "      <th>HGVSp_Short</th>\n",
       "      <th>Tumor_Sample_Barcode</th>\n",
       "    </tr>\n",
       "  </thead>\n",
       "  <tbody>\n",
       "    <tr>\n",
       "      <th>52375</th>\n",
       "      <td>TP53</td>\n",
       "      <td>P04637</td>\n",
       "      <td>H193R</td>\n",
       "      <td>TCGA-AN-A0FT</td>\n",
       "    </tr>\n",
       "  </tbody>\n",
       "</table>\n",
       "</div>"
      ],
      "text/plain": [
       "      Hugo_Symbol SWISSPROT HGVSp_Short Tumor_Sample_Barcode\n",
       "52375        TP53    P04637       H193R         TCGA-AN-A0FT"
      ]
     },
     "metadata": {},
     "output_type": "display_data"
    },
    {
     "name": "stdout",
     "output_type": "stream",
     "text": [
      "\n",
      " 50  -  TCGA-AN-A0FV\n"
     ]
    },
    {
     "data": {
      "text/html": [
       "<div>\n",
       "<style scoped>\n",
       "    .dataframe tbody tr th:only-of-type {\n",
       "        vertical-align: middle;\n",
       "    }\n",
       "\n",
       "    .dataframe tbody tr th {\n",
       "        vertical-align: top;\n",
       "    }\n",
       "\n",
       "    .dataframe thead th {\n",
       "        text-align: right;\n",
       "    }\n",
       "</style>\n",
       "<table border=\"1\" class=\"dataframe\">\n",
       "  <thead>\n",
       "    <tr style=\"text-align: right;\">\n",
       "      <th></th>\n",
       "      <th>Hugo_Symbol</th>\n",
       "      <th>SWISSPROT</th>\n",
       "      <th>HGVSp_Short</th>\n",
       "      <th>Tumor_Sample_Barcode</th>\n",
       "    </tr>\n",
       "  </thead>\n",
       "  <tbody>\n",
       "    <tr>\n",
       "      <th>53506</th>\n",
       "      <td>TP53</td>\n",
       "      <td>P04637</td>\n",
       "      <td>L252P</td>\n",
       "      <td>TCGA-AN-A0FV</td>\n",
       "    </tr>\n",
       "  </tbody>\n",
       "</table>\n",
       "</div>"
      ],
      "text/plain": [
       "      Hugo_Symbol SWISSPROT HGVSp_Short Tumor_Sample_Barcode\n",
       "53506        TP53    P04637       L252P         TCGA-AN-A0FV"
      ]
     },
     "metadata": {},
     "output_type": "display_data"
    },
    {
     "name": "stdout",
     "output_type": "stream",
     "text": [
      "\n",
      " 51  -  TCGA-AN-A0FX\n"
     ]
    },
    {
     "data": {
      "text/html": [
       "<div>\n",
       "<style scoped>\n",
       "    .dataframe tbody tr th:only-of-type {\n",
       "        vertical-align: middle;\n",
       "    }\n",
       "\n",
       "    .dataframe tbody tr th {\n",
       "        vertical-align: top;\n",
       "    }\n",
       "\n",
       "    .dataframe thead th {\n",
       "        text-align: right;\n",
       "    }\n",
       "</style>\n",
       "<table border=\"1\" class=\"dataframe\">\n",
       "  <thead>\n",
       "    <tr style=\"text-align: right;\">\n",
       "      <th></th>\n",
       "      <th>Hugo_Symbol</th>\n",
       "      <th>SWISSPROT</th>\n",
       "      <th>HGVSp_Short</th>\n",
       "      <th>Tumor_Sample_Barcode</th>\n",
       "    </tr>\n",
       "  </thead>\n",
       "  <tbody>\n",
       "    <tr>\n",
       "      <th>25215</th>\n",
       "      <td>TP53</td>\n",
       "      <td>P04637</td>\n",
       "      <td>R248W</td>\n",
       "      <td>TCGA-AN-A0FX</td>\n",
       "    </tr>\n",
       "  </tbody>\n",
       "</table>\n",
       "</div>"
      ],
      "text/plain": [
       "      Hugo_Symbol SWISSPROT HGVSp_Short Tumor_Sample_Barcode\n",
       "25215        TP53    P04637       R248W         TCGA-AN-A0FX"
      ]
     },
     "metadata": {},
     "output_type": "display_data"
    },
    {
     "name": "stdout",
     "output_type": "stream",
     "text": [
      "\n",
      " 52  -  TCGA-AN-A0FY\n"
     ]
    },
    {
     "data": {
      "text/html": [
       "<div>\n",
       "<style scoped>\n",
       "    .dataframe tbody tr th:only-of-type {\n",
       "        vertical-align: middle;\n",
       "    }\n",
       "\n",
       "    .dataframe tbody tr th {\n",
       "        vertical-align: top;\n",
       "    }\n",
       "\n",
       "    .dataframe thead th {\n",
       "        text-align: right;\n",
       "    }\n",
       "</style>\n",
       "<table border=\"1\" class=\"dataframe\">\n",
       "  <thead>\n",
       "    <tr style=\"text-align: right;\">\n",
       "      <th></th>\n",
       "      <th>Hugo_Symbol</th>\n",
       "      <th>SWISSPROT</th>\n",
       "      <th>HGVSp_Short</th>\n",
       "      <th>Tumor_Sample_Barcode</th>\n",
       "    </tr>\n",
       "  </thead>\n",
       "  <tbody>\n",
       "    <tr>\n",
       "      <th>51930</th>\n",
       "      <td>TP53</td>\n",
       "      <td>P04637</td>\n",
       "      <td>V173M</td>\n",
       "      <td>TCGA-AN-A0FY</td>\n",
       "    </tr>\n",
       "  </tbody>\n",
       "</table>\n",
       "</div>"
      ],
      "text/plain": [
       "      Hugo_Symbol SWISSPROT HGVSp_Short Tumor_Sample_Barcode\n",
       "51930        TP53    P04637       V173M         TCGA-AN-A0FY"
      ]
     },
     "metadata": {},
     "output_type": "display_data"
    },
    {
     "name": "stdout",
     "output_type": "stream",
     "text": [
      "\n",
      " 53  -  TCGA-AO-A03O\n"
     ]
    },
    {
     "data": {
      "text/html": [
       "<div>\n",
       "<style scoped>\n",
       "    .dataframe tbody tr th:only-of-type {\n",
       "        vertical-align: middle;\n",
       "    }\n",
       "\n",
       "    .dataframe tbody tr th {\n",
       "        vertical-align: top;\n",
       "    }\n",
       "\n",
       "    .dataframe thead th {\n",
       "        text-align: right;\n",
       "    }\n",
       "</style>\n",
       "<table border=\"1\" class=\"dataframe\">\n",
       "  <thead>\n",
       "    <tr style=\"text-align: right;\">\n",
       "      <th></th>\n",
       "      <th>Hugo_Symbol</th>\n",
       "      <th>SWISSPROT</th>\n",
       "      <th>HGVSp_Short</th>\n",
       "      <th>Tumor_Sample_Barcode</th>\n",
       "    </tr>\n",
       "  </thead>\n",
       "  <tbody>\n",
       "    <tr>\n",
       "      <th>21081</th>\n",
       "      <td>TP53</td>\n",
       "      <td>P04637</td>\n",
       "      <td>R175H</td>\n",
       "      <td>TCGA-AO-A03O</td>\n",
       "    </tr>\n",
       "  </tbody>\n",
       "</table>\n",
       "</div>"
      ],
      "text/plain": [
       "      Hugo_Symbol SWISSPROT HGVSp_Short Tumor_Sample_Barcode\n",
       "21081        TP53    P04637       R175H         TCGA-AO-A03O"
      ]
     },
     "metadata": {},
     "output_type": "display_data"
    },
    {
     "name": "stdout",
     "output_type": "stream",
     "text": [
      "\n",
      " 54  -  TCGA-AO-A03R\n"
     ]
    },
    {
     "data": {
      "text/html": [
       "<div>\n",
       "<style scoped>\n",
       "    .dataframe tbody tr th:only-of-type {\n",
       "        vertical-align: middle;\n",
       "    }\n",
       "\n",
       "    .dataframe tbody tr th {\n",
       "        vertical-align: top;\n",
       "    }\n",
       "\n",
       "    .dataframe thead th {\n",
       "        text-align: right;\n",
       "    }\n",
       "</style>\n",
       "<table border=\"1\" class=\"dataframe\">\n",
       "  <thead>\n",
       "    <tr style=\"text-align: right;\">\n",
       "      <th></th>\n",
       "      <th>Hugo_Symbol</th>\n",
       "      <th>SWISSPROT</th>\n",
       "      <th>HGVSp_Short</th>\n",
       "      <th>Tumor_Sample_Barcode</th>\n",
       "    </tr>\n",
       "  </thead>\n",
       "  <tbody>\n",
       "    <tr>\n",
       "      <th>1880</th>\n",
       "      <td>TP53</td>\n",
       "      <td>P04637</td>\n",
       "      <td>L265R</td>\n",
       "      <td>TCGA-AO-A03R</td>\n",
       "    </tr>\n",
       "  </tbody>\n",
       "</table>\n",
       "</div>"
      ],
      "text/plain": [
       "     Hugo_Symbol SWISSPROT HGVSp_Short Tumor_Sample_Barcode\n",
       "1880        TP53    P04637       L265R         TCGA-AO-A03R"
      ]
     },
     "metadata": {},
     "output_type": "display_data"
    },
    {
     "name": "stdout",
     "output_type": "stream",
     "text": [
      "\n",
      " 55  -  TCGA-AO-A03V\n"
     ]
    },
    {
     "data": {
      "text/html": [
       "<div>\n",
       "<style scoped>\n",
       "    .dataframe tbody tr th:only-of-type {\n",
       "        vertical-align: middle;\n",
       "    }\n",
       "\n",
       "    .dataframe tbody tr th {\n",
       "        vertical-align: top;\n",
       "    }\n",
       "\n",
       "    .dataframe thead th {\n",
       "        text-align: right;\n",
       "    }\n",
       "</style>\n",
       "<table border=\"1\" class=\"dataframe\">\n",
       "  <thead>\n",
       "    <tr style=\"text-align: right;\">\n",
       "      <th></th>\n",
       "      <th>Hugo_Symbol</th>\n",
       "      <th>SWISSPROT</th>\n",
       "      <th>HGVSp_Short</th>\n",
       "      <th>Tumor_Sample_Barcode</th>\n",
       "    </tr>\n",
       "  </thead>\n",
       "  <tbody>\n",
       "    <tr>\n",
       "      <th>5220</th>\n",
       "      <td>TP53</td>\n",
       "      <td>P04637</td>\n",
       "      <td>G245D</td>\n",
       "      <td>TCGA-AO-A03V</td>\n",
       "    </tr>\n",
       "  </tbody>\n",
       "</table>\n",
       "</div>"
      ],
      "text/plain": [
       "     Hugo_Symbol SWISSPROT HGVSp_Short Tumor_Sample_Barcode\n",
       "5220        TP53    P04637       G245D         TCGA-AO-A03V"
      ]
     },
     "metadata": {},
     "output_type": "display_data"
    },
    {
     "name": "stdout",
     "output_type": "stream",
     "text": [
      "\n",
      " 56  -  TCGA-AO-A0J2\n"
     ]
    },
    {
     "data": {
      "text/html": [
       "<div>\n",
       "<style scoped>\n",
       "    .dataframe tbody tr th:only-of-type {\n",
       "        vertical-align: middle;\n",
       "    }\n",
       "\n",
       "    .dataframe tbody tr th {\n",
       "        vertical-align: top;\n",
       "    }\n",
       "\n",
       "    .dataframe thead th {\n",
       "        text-align: right;\n",
       "    }\n",
       "</style>\n",
       "<table border=\"1\" class=\"dataframe\">\n",
       "  <thead>\n",
       "    <tr style=\"text-align: right;\">\n",
       "      <th></th>\n",
       "      <th>Hugo_Symbol</th>\n",
       "      <th>SWISSPROT</th>\n",
       "      <th>HGVSp_Short</th>\n",
       "      <th>Tumor_Sample_Barcode</th>\n",
       "    </tr>\n",
       "  </thead>\n",
       "  <tbody>\n",
       "    <tr>\n",
       "      <th>56742</th>\n",
       "      <td>TP53</td>\n",
       "      <td>P04637</td>\n",
       "      <td>R175H</td>\n",
       "      <td>TCGA-AO-A0J2</td>\n",
       "    </tr>\n",
       "  </tbody>\n",
       "</table>\n",
       "</div>"
      ],
      "text/plain": [
       "      Hugo_Symbol SWISSPROT HGVSp_Short Tumor_Sample_Barcode\n",
       "56742        TP53    P04637       R175H         TCGA-AO-A0J2"
      ]
     },
     "metadata": {},
     "output_type": "display_data"
    },
    {
     "name": "stdout",
     "output_type": "stream",
     "text": [
      "\n",
      " 57  -  TCGA-AO-A0J4\n"
     ]
    },
    {
     "data": {
      "text/html": [
       "<div>\n",
       "<style scoped>\n",
       "    .dataframe tbody tr th:only-of-type {\n",
       "        vertical-align: middle;\n",
       "    }\n",
       "\n",
       "    .dataframe tbody tr th {\n",
       "        vertical-align: top;\n",
       "    }\n",
       "\n",
       "    .dataframe thead th {\n",
       "        text-align: right;\n",
       "    }\n",
       "</style>\n",
       "<table border=\"1\" class=\"dataframe\">\n",
       "  <thead>\n",
       "    <tr style=\"text-align: right;\">\n",
       "      <th></th>\n",
       "      <th>Hugo_Symbol</th>\n",
       "      <th>SWISSPROT</th>\n",
       "      <th>HGVSp_Short</th>\n",
       "      <th>Tumor_Sample_Barcode</th>\n",
       "    </tr>\n",
       "  </thead>\n",
       "  <tbody>\n",
       "    <tr>\n",
       "      <th>57786</th>\n",
       "      <td>TP53</td>\n",
       "      <td>P04637</td>\n",
       "      <td>R282W</td>\n",
       "      <td>TCGA-AO-A0J4</td>\n",
       "    </tr>\n",
       "  </tbody>\n",
       "</table>\n",
       "</div>"
      ],
      "text/plain": [
       "      Hugo_Symbol SWISSPROT HGVSp_Short Tumor_Sample_Barcode\n",
       "57786        TP53    P04637       R282W         TCGA-AO-A0J4"
      ]
     },
     "metadata": {},
     "output_type": "display_data"
    },
    {
     "name": "stdout",
     "output_type": "stream",
     "text": [
      "\n",
      " 58  -  TCGA-AO-A0JD\n"
     ]
    },
    {
     "data": {
      "text/html": [
       "<div>\n",
       "<style scoped>\n",
       "    .dataframe tbody tr th:only-of-type {\n",
       "        vertical-align: middle;\n",
       "    }\n",
       "\n",
       "    .dataframe tbody tr th {\n",
       "        vertical-align: top;\n",
       "    }\n",
       "\n",
       "    .dataframe thead th {\n",
       "        text-align: right;\n",
       "    }\n",
       "</style>\n",
       "<table border=\"1\" class=\"dataframe\">\n",
       "  <thead>\n",
       "    <tr style=\"text-align: right;\">\n",
       "      <th></th>\n",
       "      <th>Hugo_Symbol</th>\n",
       "      <th>SWISSPROT</th>\n",
       "      <th>HGVSp_Short</th>\n",
       "      <th>Tumor_Sample_Barcode</th>\n",
       "    </tr>\n",
       "  </thead>\n",
       "  <tbody>\n",
       "    <tr>\n",
       "      <th>42022</th>\n",
       "      <td>TP53</td>\n",
       "      <td>P04637</td>\n",
       "      <td>H193L</td>\n",
       "      <td>TCGA-AO-A0JD</td>\n",
       "    </tr>\n",
       "  </tbody>\n",
       "</table>\n",
       "</div>"
      ],
      "text/plain": [
       "      Hugo_Symbol SWISSPROT HGVSp_Short Tumor_Sample_Barcode\n",
       "42022        TP53    P04637       H193L         TCGA-AO-A0JD"
      ]
     },
     "metadata": {},
     "output_type": "display_data"
    },
    {
     "name": "stdout",
     "output_type": "stream",
     "text": [
      "\n",
      " 59  -  TCGA-AO-A0JE\n"
     ]
    },
    {
     "data": {
      "text/html": [
       "<div>\n",
       "<style scoped>\n",
       "    .dataframe tbody tr th:only-of-type {\n",
       "        vertical-align: middle;\n",
       "    }\n",
       "\n",
       "    .dataframe tbody tr th {\n",
       "        vertical-align: top;\n",
       "    }\n",
       "\n",
       "    .dataframe thead th {\n",
       "        text-align: right;\n",
       "    }\n",
       "</style>\n",
       "<table border=\"1\" class=\"dataframe\">\n",
       "  <thead>\n",
       "    <tr style=\"text-align: right;\">\n",
       "      <th></th>\n",
       "      <th>Hugo_Symbol</th>\n",
       "      <th>SWISSPROT</th>\n",
       "      <th>HGVSp_Short</th>\n",
       "      <th>Tumor_Sample_Barcode</th>\n",
       "    </tr>\n",
       "  </thead>\n",
       "  <tbody>\n",
       "    <tr>\n",
       "      <th>35420</th>\n",
       "      <td>TP53</td>\n",
       "      <td>P04637</td>\n",
       "      <td>Y220C</td>\n",
       "      <td>TCGA-AO-A0JE</td>\n",
       "    </tr>\n",
       "  </tbody>\n",
       "</table>\n",
       "</div>"
      ],
      "text/plain": [
       "      Hugo_Symbol SWISSPROT HGVSp_Short Tumor_Sample_Barcode\n",
       "35420        TP53    P04637       Y220C         TCGA-AO-A0JE"
      ]
     },
     "metadata": {},
     "output_type": "display_data"
    },
    {
     "name": "stdout",
     "output_type": "stream",
     "text": [
      "\n",
      " 60  -  TCGA-AQ-A04H\n"
     ]
    },
    {
     "data": {
      "text/html": [
       "<div>\n",
       "<style scoped>\n",
       "    .dataframe tbody tr th:only-of-type {\n",
       "        vertical-align: middle;\n",
       "    }\n",
       "\n",
       "    .dataframe tbody tr th {\n",
       "        vertical-align: top;\n",
       "    }\n",
       "\n",
       "    .dataframe thead th {\n",
       "        text-align: right;\n",
       "    }\n",
       "</style>\n",
       "<table border=\"1\" class=\"dataframe\">\n",
       "  <thead>\n",
       "    <tr style=\"text-align: right;\">\n",
       "      <th></th>\n",
       "      <th>Hugo_Symbol</th>\n",
       "      <th>SWISSPROT</th>\n",
       "      <th>HGVSp_Short</th>\n",
       "      <th>Tumor_Sample_Barcode</th>\n",
       "    </tr>\n",
       "  </thead>\n",
       "  <tbody>\n",
       "    <tr>\n",
       "      <th>14112</th>\n",
       "      <td>TP53</td>\n",
       "      <td>P04637</td>\n",
       "      <td>V197G</td>\n",
       "      <td>TCGA-AQ-A04H</td>\n",
       "    </tr>\n",
       "  </tbody>\n",
       "</table>\n",
       "</div>"
      ],
      "text/plain": [
       "      Hugo_Symbol SWISSPROT HGVSp_Short Tumor_Sample_Barcode\n",
       "14112        TP53    P04637       V197G         TCGA-AQ-A04H"
      ]
     },
     "metadata": {},
     "output_type": "display_data"
    },
    {
     "name": "stdout",
     "output_type": "stream",
     "text": [
      "\n",
      " 61  -  TCGA-AQ-A04J\n"
     ]
    },
    {
     "data": {
      "text/html": [
       "<div>\n",
       "<style scoped>\n",
       "    .dataframe tbody tr th:only-of-type {\n",
       "        vertical-align: middle;\n",
       "    }\n",
       "\n",
       "    .dataframe tbody tr th {\n",
       "        vertical-align: top;\n",
       "    }\n",
       "\n",
       "    .dataframe thead th {\n",
       "        text-align: right;\n",
       "    }\n",
       "</style>\n",
       "<table border=\"1\" class=\"dataframe\">\n",
       "  <thead>\n",
       "    <tr style=\"text-align: right;\">\n",
       "      <th></th>\n",
       "      <th>Hugo_Symbol</th>\n",
       "      <th>SWISSPROT</th>\n",
       "      <th>HGVSp_Short</th>\n",
       "      <th>Tumor_Sample_Barcode</th>\n",
       "    </tr>\n",
       "  </thead>\n",
       "  <tbody>\n",
       "    <tr>\n",
       "      <th>17078</th>\n",
       "      <td>TP53</td>\n",
       "      <td>P04637</td>\n",
       "      <td>L111P</td>\n",
       "      <td>TCGA-AQ-A04J</td>\n",
       "    </tr>\n",
       "  </tbody>\n",
       "</table>\n",
       "</div>"
      ],
      "text/plain": [
       "      Hugo_Symbol SWISSPROT HGVSp_Short Tumor_Sample_Barcode\n",
       "17078        TP53    P04637       L111P         TCGA-AQ-A04J"
      ]
     },
     "metadata": {},
     "output_type": "display_data"
    },
    {
     "name": "stdout",
     "output_type": "stream",
     "text": [
      "\n",
      " 62  -  TCGA-AR-A0TP\n"
     ]
    },
    {
     "data": {
      "text/html": [
       "<div>\n",
       "<style scoped>\n",
       "    .dataframe tbody tr th:only-of-type {\n",
       "        vertical-align: middle;\n",
       "    }\n",
       "\n",
       "    .dataframe tbody tr th {\n",
       "        vertical-align: top;\n",
       "    }\n",
       "\n",
       "    .dataframe thead th {\n",
       "        text-align: right;\n",
       "    }\n",
       "</style>\n",
       "<table border=\"1\" class=\"dataframe\">\n",
       "  <thead>\n",
       "    <tr style=\"text-align: right;\">\n",
       "      <th></th>\n",
       "      <th>Hugo_Symbol</th>\n",
       "      <th>SWISSPROT</th>\n",
       "      <th>HGVSp_Short</th>\n",
       "      <th>Tumor_Sample_Barcode</th>\n",
       "    </tr>\n",
       "  </thead>\n",
       "  <tbody>\n",
       "    <tr>\n",
       "      <th>5306</th>\n",
       "      <td>TP53</td>\n",
       "      <td>P04637</td>\n",
       "      <td>R273P</td>\n",
       "      <td>TCGA-AR-A0TP</td>\n",
       "    </tr>\n",
       "  </tbody>\n",
       "</table>\n",
       "</div>"
      ],
      "text/plain": [
       "     Hugo_Symbol SWISSPROT HGVSp_Short Tumor_Sample_Barcode\n",
       "5306        TP53    P04637       R273P         TCGA-AR-A0TP"
      ]
     },
     "metadata": {},
     "output_type": "display_data"
    },
    {
     "name": "stdout",
     "output_type": "stream",
     "text": [
      "\n",
      " 63  -  TCGA-AR-A0TV\n"
     ]
    },
    {
     "data": {
      "text/html": [
       "<div>\n",
       "<style scoped>\n",
       "    .dataframe tbody tr th:only-of-type {\n",
       "        vertical-align: middle;\n",
       "    }\n",
       "\n",
       "    .dataframe tbody tr th {\n",
       "        vertical-align: top;\n",
       "    }\n",
       "\n",
       "    .dataframe thead th {\n",
       "        text-align: right;\n",
       "    }\n",
       "</style>\n",
       "<table border=\"1\" class=\"dataframe\">\n",
       "  <thead>\n",
       "    <tr style=\"text-align: right;\">\n",
       "      <th></th>\n",
       "      <th>Hugo_Symbol</th>\n",
       "      <th>SWISSPROT</th>\n",
       "      <th>HGVSp_Short</th>\n",
       "      <th>Tumor_Sample_Barcode</th>\n",
       "    </tr>\n",
       "  </thead>\n",
       "  <tbody>\n",
       "    <tr>\n",
       "      <th>49301</th>\n",
       "      <td>TP53</td>\n",
       "      <td>P04637</td>\n",
       "      <td>V216M</td>\n",
       "      <td>TCGA-AR-A0TV</td>\n",
       "    </tr>\n",
       "  </tbody>\n",
       "</table>\n",
       "</div>"
      ],
      "text/plain": [
       "      Hugo_Symbol SWISSPROT HGVSp_Short Tumor_Sample_Barcode\n",
       "49301        TP53    P04637       V216M         TCGA-AR-A0TV"
      ]
     },
     "metadata": {},
     "output_type": "display_data"
    },
    {
     "name": "stdout",
     "output_type": "stream",
     "text": [
      "\n",
      " 64  -  TCGA-AR-A0TX\n"
     ]
    },
    {
     "data": {
      "text/html": [
       "<div>\n",
       "<style scoped>\n",
       "    .dataframe tbody tr th:only-of-type {\n",
       "        vertical-align: middle;\n",
       "    }\n",
       "\n",
       "    .dataframe tbody tr th {\n",
       "        vertical-align: top;\n",
       "    }\n",
       "\n",
       "    .dataframe thead th {\n",
       "        text-align: right;\n",
       "    }\n",
       "</style>\n",
       "<table border=\"1\" class=\"dataframe\">\n",
       "  <thead>\n",
       "    <tr style=\"text-align: right;\">\n",
       "      <th></th>\n",
       "      <th>Hugo_Symbol</th>\n",
       "      <th>SWISSPROT</th>\n",
       "      <th>HGVSp_Short</th>\n",
       "      <th>Tumor_Sample_Barcode</th>\n",
       "    </tr>\n",
       "  </thead>\n",
       "  <tbody>\n",
       "    <tr>\n",
       "      <th>6205</th>\n",
       "      <td>TP53</td>\n",
       "      <td>P04637</td>\n",
       "      <td>Y205C</td>\n",
       "      <td>TCGA-AR-A0TX</td>\n",
       "    </tr>\n",
       "  </tbody>\n",
       "</table>\n",
       "</div>"
      ],
      "text/plain": [
       "     Hugo_Symbol SWISSPROT HGVSp_Short Tumor_Sample_Barcode\n",
       "6205        TP53    P04637       Y205C         TCGA-AR-A0TX"
      ]
     },
     "metadata": {},
     "output_type": "display_data"
    },
    {
     "name": "stdout",
     "output_type": "stream",
     "text": [
      "\n",
      " 65  -  TCGA-AR-A0U0\n"
     ]
    },
    {
     "data": {
      "text/html": [
       "<div>\n",
       "<style scoped>\n",
       "    .dataframe tbody tr th:only-of-type {\n",
       "        vertical-align: middle;\n",
       "    }\n",
       "\n",
       "    .dataframe tbody tr th {\n",
       "        vertical-align: top;\n",
       "    }\n",
       "\n",
       "    .dataframe thead th {\n",
       "        text-align: right;\n",
       "    }\n",
       "</style>\n",
       "<table border=\"1\" class=\"dataframe\">\n",
       "  <thead>\n",
       "    <tr style=\"text-align: right;\">\n",
       "      <th></th>\n",
       "      <th>Hugo_Symbol</th>\n",
       "      <th>SWISSPROT</th>\n",
       "      <th>HGVSp_Short</th>\n",
       "      <th>Tumor_Sample_Barcode</th>\n",
       "    </tr>\n",
       "  </thead>\n",
       "  <tbody>\n",
       "    <tr>\n",
       "      <th>50231</th>\n",
       "      <td>TP53</td>\n",
       "      <td>P04637</td>\n",
       "      <td>L194R</td>\n",
       "      <td>TCGA-AR-A0U0</td>\n",
       "    </tr>\n",
       "  </tbody>\n",
       "</table>\n",
       "</div>"
      ],
      "text/plain": [
       "      Hugo_Symbol SWISSPROT HGVSp_Short Tumor_Sample_Barcode\n",
       "50231        TP53    P04637       L194R         TCGA-AR-A0U0"
      ]
     },
     "metadata": {},
     "output_type": "display_data"
    },
    {
     "name": "stdout",
     "output_type": "stream",
     "text": [
      "\n",
      " 66  -  TCGA-AR-A0U1\n"
     ]
    },
    {
     "data": {
      "text/html": [
       "<div>\n",
       "<style scoped>\n",
       "    .dataframe tbody tr th:only-of-type {\n",
       "        vertical-align: middle;\n",
       "    }\n",
       "\n",
       "    .dataframe tbody tr th {\n",
       "        vertical-align: top;\n",
       "    }\n",
       "\n",
       "    .dataframe thead th {\n",
       "        text-align: right;\n",
       "    }\n",
       "</style>\n",
       "<table border=\"1\" class=\"dataframe\">\n",
       "  <thead>\n",
       "    <tr style=\"text-align: right;\">\n",
       "      <th></th>\n",
       "      <th>Hugo_Symbol</th>\n",
       "      <th>SWISSPROT</th>\n",
       "      <th>HGVSp_Short</th>\n",
       "      <th>Tumor_Sample_Barcode</th>\n",
       "    </tr>\n",
       "  </thead>\n",
       "  <tbody>\n",
       "    <tr>\n",
       "      <th>56143</th>\n",
       "      <td>TP53</td>\n",
       "      <td>P04637</td>\n",
       "      <td>Y220C</td>\n",
       "      <td>TCGA-AR-A0U1</td>\n",
       "    </tr>\n",
       "  </tbody>\n",
       "</table>\n",
       "</div>"
      ],
      "text/plain": [
       "      Hugo_Symbol SWISSPROT HGVSp_Short Tumor_Sample_Barcode\n",
       "56143        TP53    P04637       Y220C         TCGA-AR-A0U1"
      ]
     },
     "metadata": {},
     "output_type": "display_data"
    },
    {
     "name": "stdout",
     "output_type": "stream",
     "text": [
      "\n",
      " 67  -  TCGA-AR-A0U2\n"
     ]
    },
    {
     "data": {
      "text/html": [
       "<div>\n",
       "<style scoped>\n",
       "    .dataframe tbody tr th:only-of-type {\n",
       "        vertical-align: middle;\n",
       "    }\n",
       "\n",
       "    .dataframe tbody tr th {\n",
       "        vertical-align: top;\n",
       "    }\n",
       "\n",
       "    .dataframe thead th {\n",
       "        text-align: right;\n",
       "    }\n",
       "</style>\n",
       "<table border=\"1\" class=\"dataframe\">\n",
       "  <thead>\n",
       "    <tr style=\"text-align: right;\">\n",
       "      <th></th>\n",
       "      <th>Hugo_Symbol</th>\n",
       "      <th>SWISSPROT</th>\n",
       "      <th>HGVSp_Short</th>\n",
       "      <th>Tumor_Sample_Barcode</th>\n",
       "    </tr>\n",
       "  </thead>\n",
       "  <tbody>\n",
       "    <tr>\n",
       "      <th>4341</th>\n",
       "      <td>TP53</td>\n",
       "      <td>P04637</td>\n",
       "      <td>C176F</td>\n",
       "      <td>TCGA-AR-A0U2</td>\n",
       "    </tr>\n",
       "  </tbody>\n",
       "</table>\n",
       "</div>"
      ],
      "text/plain": [
       "     Hugo_Symbol SWISSPROT HGVSp_Short Tumor_Sample_Barcode\n",
       "4341        TP53    P04637       C176F         TCGA-AR-A0U2"
      ]
     },
     "metadata": {},
     "output_type": "display_data"
    },
    {
     "name": "stdout",
     "output_type": "stream",
     "text": [
      "\n",
      " 68  -  TCGA-AR-A1AI\n"
     ]
    },
    {
     "data": {
      "text/html": [
       "<div>\n",
       "<style scoped>\n",
       "    .dataframe tbody tr th:only-of-type {\n",
       "        vertical-align: middle;\n",
       "    }\n",
       "\n",
       "    .dataframe tbody tr th {\n",
       "        vertical-align: top;\n",
       "    }\n",
       "\n",
       "    .dataframe thead th {\n",
       "        text-align: right;\n",
       "    }\n",
       "</style>\n",
       "<table border=\"1\" class=\"dataframe\">\n",
       "  <thead>\n",
       "    <tr style=\"text-align: right;\">\n",
       "      <th></th>\n",
       "      <th>Hugo_Symbol</th>\n",
       "      <th>SWISSPROT</th>\n",
       "      <th>HGVSp_Short</th>\n",
       "      <th>Tumor_Sample_Barcode</th>\n",
       "    </tr>\n",
       "  </thead>\n",
       "  <tbody>\n",
       "    <tr>\n",
       "      <th>50373</th>\n",
       "      <td>TP53</td>\n",
       "      <td>P04637</td>\n",
       "      <td>F270I</td>\n",
       "      <td>TCGA-AR-A1AI</td>\n",
       "    </tr>\n",
       "  </tbody>\n",
       "</table>\n",
       "</div>"
      ],
      "text/plain": [
       "      Hugo_Symbol SWISSPROT HGVSp_Short Tumor_Sample_Barcode\n",
       "50373        TP53    P04637       F270I         TCGA-AR-A1AI"
      ]
     },
     "metadata": {},
     "output_type": "display_data"
    },
    {
     "name": "stdout",
     "output_type": "stream",
     "text": [
      "\n",
      " 69  -  TCGA-AR-A1AJ\n"
     ]
    },
    {
     "data": {
      "text/html": [
       "<div>\n",
       "<style scoped>\n",
       "    .dataframe tbody tr th:only-of-type {\n",
       "        vertical-align: middle;\n",
       "    }\n",
       "\n",
       "    .dataframe tbody tr th {\n",
       "        vertical-align: top;\n",
       "    }\n",
       "\n",
       "    .dataframe thead th {\n",
       "        text-align: right;\n",
       "    }\n",
       "</style>\n",
       "<table border=\"1\" class=\"dataframe\">\n",
       "  <thead>\n",
       "    <tr style=\"text-align: right;\">\n",
       "      <th></th>\n",
       "      <th>Hugo_Symbol</th>\n",
       "      <th>SWISSPROT</th>\n",
       "      <th>HGVSp_Short</th>\n",
       "      <th>Tumor_Sample_Barcode</th>\n",
       "    </tr>\n",
       "  </thead>\n",
       "  <tbody>\n",
       "    <tr>\n",
       "      <th>12539</th>\n",
       "      <td>TP53</td>\n",
       "      <td>P04637</td>\n",
       "      <td>R273H</td>\n",
       "      <td>TCGA-AR-A1AJ</td>\n",
       "    </tr>\n",
       "  </tbody>\n",
       "</table>\n",
       "</div>"
      ],
      "text/plain": [
       "      Hugo_Symbol SWISSPROT HGVSp_Short Tumor_Sample_Barcode\n",
       "12539        TP53    P04637       R273H         TCGA-AR-A1AJ"
      ]
     },
     "metadata": {},
     "output_type": "display_data"
    },
    {
     "name": "stdout",
     "output_type": "stream",
     "text": [
      "\n",
      " 70  -  TCGA-AR-A1AS\n"
     ]
    },
    {
     "data": {
      "text/html": [
       "<div>\n",
       "<style scoped>\n",
       "    .dataframe tbody tr th:only-of-type {\n",
       "        vertical-align: middle;\n",
       "    }\n",
       "\n",
       "    .dataframe tbody tr th {\n",
       "        vertical-align: top;\n",
       "    }\n",
       "\n",
       "    .dataframe thead th {\n",
       "        text-align: right;\n",
       "    }\n",
       "</style>\n",
       "<table border=\"1\" class=\"dataframe\">\n",
       "  <thead>\n",
       "    <tr style=\"text-align: right;\">\n",
       "      <th></th>\n",
       "      <th>Hugo_Symbol</th>\n",
       "      <th>SWISSPROT</th>\n",
       "      <th>HGVSp_Short</th>\n",
       "      <th>Tumor_Sample_Barcode</th>\n",
       "    </tr>\n",
       "  </thead>\n",
       "  <tbody>\n",
       "    <tr>\n",
       "      <th>38395</th>\n",
       "      <td>TP53</td>\n",
       "      <td>P04637</td>\n",
       "      <td>R175H</td>\n",
       "      <td>TCGA-AR-A1AS</td>\n",
       "    </tr>\n",
       "  </tbody>\n",
       "</table>\n",
       "</div>"
      ],
      "text/plain": [
       "      Hugo_Symbol SWISSPROT HGVSp_Short Tumor_Sample_Barcode\n",
       "38395        TP53    P04637       R175H         TCGA-AR-A1AS"
      ]
     },
     "metadata": {},
     "output_type": "display_data"
    },
    {
     "name": "stdout",
     "output_type": "stream",
     "text": [
      "\n",
      " 71  -  TCGA-AR-A1AW\n"
     ]
    },
    {
     "data": {
      "text/html": [
       "<div>\n",
       "<style scoped>\n",
       "    .dataframe tbody tr th:only-of-type {\n",
       "        vertical-align: middle;\n",
       "    }\n",
       "\n",
       "    .dataframe tbody tr th {\n",
       "        vertical-align: top;\n",
       "    }\n",
       "\n",
       "    .dataframe thead th {\n",
       "        text-align: right;\n",
       "    }\n",
       "</style>\n",
       "<table border=\"1\" class=\"dataframe\">\n",
       "  <thead>\n",
       "    <tr style=\"text-align: right;\">\n",
       "      <th></th>\n",
       "      <th>Hugo_Symbol</th>\n",
       "      <th>SWISSPROT</th>\n",
       "      <th>HGVSp_Short</th>\n",
       "      <th>Tumor_Sample_Barcode</th>\n",
       "    </tr>\n",
       "  </thead>\n",
       "  <tbody>\n",
       "    <tr>\n",
       "      <th>31681</th>\n",
       "      <td>TP53</td>\n",
       "      <td>P04637</td>\n",
       "      <td>R273C</td>\n",
       "      <td>TCGA-AR-A1AW</td>\n",
       "    </tr>\n",
       "  </tbody>\n",
       "</table>\n",
       "</div>"
      ],
      "text/plain": [
       "      Hugo_Symbol SWISSPROT HGVSp_Short Tumor_Sample_Barcode\n",
       "31681        TP53    P04637       R273C         TCGA-AR-A1AW"
      ]
     },
     "metadata": {},
     "output_type": "display_data"
    },
    {
     "name": "stdout",
     "output_type": "stream",
     "text": [
      "\n",
      " 72  -  TCGA-AR-A1AX\n"
     ]
    },
    {
     "data": {
      "text/html": [
       "<div>\n",
       "<style scoped>\n",
       "    .dataframe tbody tr th:only-of-type {\n",
       "        vertical-align: middle;\n",
       "    }\n",
       "\n",
       "    .dataframe tbody tr th {\n",
       "        vertical-align: top;\n",
       "    }\n",
       "\n",
       "    .dataframe thead th {\n",
       "        text-align: right;\n",
       "    }\n",
       "</style>\n",
       "<table border=\"1\" class=\"dataframe\">\n",
       "  <thead>\n",
       "    <tr style=\"text-align: right;\">\n",
       "      <th></th>\n",
       "      <th>Hugo_Symbol</th>\n",
       "      <th>SWISSPROT</th>\n",
       "      <th>HGVSp_Short</th>\n",
       "      <th>Tumor_Sample_Barcode</th>\n",
       "    </tr>\n",
       "  </thead>\n",
       "  <tbody>\n",
       "    <tr>\n",
       "      <th>30906</th>\n",
       "      <td>TP53</td>\n",
       "      <td>P04637</td>\n",
       "      <td>L111Q</td>\n",
       "      <td>TCGA-AR-A1AX</td>\n",
       "    </tr>\n",
       "  </tbody>\n",
       "</table>\n",
       "</div>"
      ],
      "text/plain": [
       "      Hugo_Symbol SWISSPROT HGVSp_Short Tumor_Sample_Barcode\n",
       "30906        TP53    P04637       L111Q         TCGA-AR-A1AX"
      ]
     },
     "metadata": {},
     "output_type": "display_data"
    },
    {
     "name": "stdout",
     "output_type": "stream",
     "text": [
      "\n",
      " 73  -  TCGA-AR-A24P\n"
     ]
    },
    {
     "data": {
      "text/html": [
       "<div>\n",
       "<style scoped>\n",
       "    .dataframe tbody tr th:only-of-type {\n",
       "        vertical-align: middle;\n",
       "    }\n",
       "\n",
       "    .dataframe tbody tr th {\n",
       "        vertical-align: top;\n",
       "    }\n",
       "\n",
       "    .dataframe thead th {\n",
       "        text-align: right;\n",
       "    }\n",
       "</style>\n",
       "<table border=\"1\" class=\"dataframe\">\n",
       "  <thead>\n",
       "    <tr style=\"text-align: right;\">\n",
       "      <th></th>\n",
       "      <th>Hugo_Symbol</th>\n",
       "      <th>SWISSPROT</th>\n",
       "      <th>HGVSp_Short</th>\n",
       "      <th>Tumor_Sample_Barcode</th>\n",
       "    </tr>\n",
       "  </thead>\n",
       "  <tbody>\n",
       "    <tr>\n",
       "      <th>15868</th>\n",
       "      <td>TP53</td>\n",
       "      <td>P04637</td>\n",
       "      <td>Y234C</td>\n",
       "      <td>TCGA-AR-A24P</td>\n",
       "    </tr>\n",
       "  </tbody>\n",
       "</table>\n",
       "</div>"
      ],
      "text/plain": [
       "      Hugo_Symbol SWISSPROT HGVSp_Short Tumor_Sample_Barcode\n",
       "15868        TP53    P04637       Y234C         TCGA-AR-A24P"
      ]
     },
     "metadata": {},
     "output_type": "display_data"
    },
    {
     "name": "stdout",
     "output_type": "stream",
     "text": [
      "\n",
      " 74  -  TCGA-AR-A24S\n"
     ]
    },
    {
     "data": {
      "text/html": [
       "<div>\n",
       "<style scoped>\n",
       "    .dataframe tbody tr th:only-of-type {\n",
       "        vertical-align: middle;\n",
       "    }\n",
       "\n",
       "    .dataframe tbody tr th {\n",
       "        vertical-align: top;\n",
       "    }\n",
       "\n",
       "    .dataframe thead th {\n",
       "        text-align: right;\n",
       "    }\n",
       "</style>\n",
       "<table border=\"1\" class=\"dataframe\">\n",
       "  <thead>\n",
       "    <tr style=\"text-align: right;\">\n",
       "      <th></th>\n",
       "      <th>Hugo_Symbol</th>\n",
       "      <th>SWISSPROT</th>\n",
       "      <th>HGVSp_Short</th>\n",
       "      <th>Tumor_Sample_Barcode</th>\n",
       "    </tr>\n",
       "  </thead>\n",
       "  <tbody>\n",
       "    <tr>\n",
       "      <th>38462</th>\n",
       "      <td>TP53</td>\n",
       "      <td>P04637</td>\n",
       "      <td>D281V</td>\n",
       "      <td>TCGA-AR-A24S</td>\n",
       "    </tr>\n",
       "  </tbody>\n",
       "</table>\n",
       "</div>"
      ],
      "text/plain": [
       "      Hugo_Symbol SWISSPROT HGVSp_Short Tumor_Sample_Barcode\n",
       "38462        TP53    P04637       D281V         TCGA-AR-A24S"
      ]
     },
     "metadata": {},
     "output_type": "display_data"
    },
    {
     "name": "stdout",
     "output_type": "stream",
     "text": [
      "\n",
      " 75  -  TCGA-AR-A24T\n"
     ]
    },
    {
     "data": {
      "text/html": [
       "<div>\n",
       "<style scoped>\n",
       "    .dataframe tbody tr th:only-of-type {\n",
       "        vertical-align: middle;\n",
       "    }\n",
       "\n",
       "    .dataframe tbody tr th {\n",
       "        vertical-align: top;\n",
       "    }\n",
       "\n",
       "    .dataframe thead th {\n",
       "        text-align: right;\n",
       "    }\n",
       "</style>\n",
       "<table border=\"1\" class=\"dataframe\">\n",
       "  <thead>\n",
       "    <tr style=\"text-align: right;\">\n",
       "      <th></th>\n",
       "      <th>Hugo_Symbol</th>\n",
       "      <th>SWISSPROT</th>\n",
       "      <th>HGVSp_Short</th>\n",
       "      <th>Tumor_Sample_Barcode</th>\n",
       "    </tr>\n",
       "  </thead>\n",
       "  <tbody>\n",
       "    <tr>\n",
       "      <th>11691</th>\n",
       "      <td>TP53</td>\n",
       "      <td>P04637</td>\n",
       "      <td>R273H</td>\n",
       "      <td>TCGA-AR-A24T</td>\n",
       "    </tr>\n",
       "  </tbody>\n",
       "</table>\n",
       "</div>"
      ],
      "text/plain": [
       "      Hugo_Symbol SWISSPROT HGVSp_Short Tumor_Sample_Barcode\n",
       "11691        TP53    P04637       R273H         TCGA-AR-A24T"
      ]
     },
     "metadata": {},
     "output_type": "display_data"
    },
    {
     "name": "stdout",
     "output_type": "stream",
     "text": [
      "\n",
      " 76  -  TCGA-AR-A251\n"
     ]
    },
    {
     "data": {
      "text/html": [
       "<div>\n",
       "<style scoped>\n",
       "    .dataframe tbody tr th:only-of-type {\n",
       "        vertical-align: middle;\n",
       "    }\n",
       "\n",
       "    .dataframe tbody tr th {\n",
       "        vertical-align: top;\n",
       "    }\n",
       "\n",
       "    .dataframe thead th {\n",
       "        text-align: right;\n",
       "    }\n",
       "</style>\n",
       "<table border=\"1\" class=\"dataframe\">\n",
       "  <thead>\n",
       "    <tr style=\"text-align: right;\">\n",
       "      <th></th>\n",
       "      <th>Hugo_Symbol</th>\n",
       "      <th>SWISSPROT</th>\n",
       "      <th>HGVSp_Short</th>\n",
       "      <th>Tumor_Sample_Barcode</th>\n",
       "    </tr>\n",
       "  </thead>\n",
       "  <tbody>\n",
       "    <tr>\n",
       "      <th>8887</th>\n",
       "      <td>TP53</td>\n",
       "      <td>P04637</td>\n",
       "      <td>E285K</td>\n",
       "      <td>TCGA-AR-A251</td>\n",
       "    </tr>\n",
       "  </tbody>\n",
       "</table>\n",
       "</div>"
      ],
      "text/plain": [
       "     Hugo_Symbol SWISSPROT HGVSp_Short Tumor_Sample_Barcode\n",
       "8887        TP53    P04637       E285K         TCGA-AR-A251"
      ]
     },
     "metadata": {},
     "output_type": "display_data"
    },
    {
     "name": "stdout",
     "output_type": "stream",
     "text": [
      "\n",
      " 77  -  TCGA-AR-A2LH\n"
     ]
    },
    {
     "data": {
      "text/html": [
       "<div>\n",
       "<style scoped>\n",
       "    .dataframe tbody tr th:only-of-type {\n",
       "        vertical-align: middle;\n",
       "    }\n",
       "\n",
       "    .dataframe tbody tr th {\n",
       "        vertical-align: top;\n",
       "    }\n",
       "\n",
       "    .dataframe thead th {\n",
       "        text-align: right;\n",
       "    }\n",
       "</style>\n",
       "<table border=\"1\" class=\"dataframe\">\n",
       "  <thead>\n",
       "    <tr style=\"text-align: right;\">\n",
       "      <th></th>\n",
       "      <th>Hugo_Symbol</th>\n",
       "      <th>SWISSPROT</th>\n",
       "      <th>HGVSp_Short</th>\n",
       "      <th>Tumor_Sample_Barcode</th>\n",
       "    </tr>\n",
       "  </thead>\n",
       "  <tbody>\n",
       "    <tr>\n",
       "      <th>21550</th>\n",
       "      <td>TP53</td>\n",
       "      <td>P04637</td>\n",
       "      <td>R273H</td>\n",
       "      <td>TCGA-AR-A2LH</td>\n",
       "    </tr>\n",
       "  </tbody>\n",
       "</table>\n",
       "</div>"
      ],
      "text/plain": [
       "      Hugo_Symbol SWISSPROT HGVSp_Short Tumor_Sample_Barcode\n",
       "21550        TP53    P04637       R273H         TCGA-AR-A2LH"
      ]
     },
     "metadata": {},
     "output_type": "display_data"
    },
    {
     "name": "stdout",
     "output_type": "stream",
     "text": [
      "\n",
      " 78  -  TCGA-B6-A0I1\n"
     ]
    },
    {
     "data": {
      "text/html": [
       "<div>\n",
       "<style scoped>\n",
       "    .dataframe tbody tr th:only-of-type {\n",
       "        vertical-align: middle;\n",
       "    }\n",
       "\n",
       "    .dataframe tbody tr th {\n",
       "        vertical-align: top;\n",
       "    }\n",
       "\n",
       "    .dataframe thead th {\n",
       "        text-align: right;\n",
       "    }\n",
       "</style>\n",
       "<table border=\"1\" class=\"dataframe\">\n",
       "  <thead>\n",
       "    <tr style=\"text-align: right;\">\n",
       "      <th></th>\n",
       "      <th>Hugo_Symbol</th>\n",
       "      <th>SWISSPROT</th>\n",
       "      <th>HGVSp_Short</th>\n",
       "      <th>Tumor_Sample_Barcode</th>\n",
       "    </tr>\n",
       "  </thead>\n",
       "  <tbody>\n",
       "    <tr>\n",
       "      <th>4908</th>\n",
       "      <td>TP53</td>\n",
       "      <td>P04637</td>\n",
       "      <td>R248Q</td>\n",
       "      <td>TCGA-B6-A0I1</td>\n",
       "    </tr>\n",
       "  </tbody>\n",
       "</table>\n",
       "</div>"
      ],
      "text/plain": [
       "     Hugo_Symbol SWISSPROT HGVSp_Short Tumor_Sample_Barcode\n",
       "4908        TP53    P04637       R248Q         TCGA-B6-A0I1"
      ]
     },
     "metadata": {},
     "output_type": "display_data"
    },
    {
     "name": "stdout",
     "output_type": "stream",
     "text": [
      "\n",
      " 79  -  TCGA-B6-A0I9\n"
     ]
    },
    {
     "data": {
      "text/html": [
       "<div>\n",
       "<style scoped>\n",
       "    .dataframe tbody tr th:only-of-type {\n",
       "        vertical-align: middle;\n",
       "    }\n",
       "\n",
       "    .dataframe tbody tr th {\n",
       "        vertical-align: top;\n",
       "    }\n",
       "\n",
       "    .dataframe thead th {\n",
       "        text-align: right;\n",
       "    }\n",
       "</style>\n",
       "<table border=\"1\" class=\"dataframe\">\n",
       "  <thead>\n",
       "    <tr style=\"text-align: right;\">\n",
       "      <th></th>\n",
       "      <th>Hugo_Symbol</th>\n",
       "      <th>SWISSPROT</th>\n",
       "      <th>HGVSp_Short</th>\n",
       "      <th>Tumor_Sample_Barcode</th>\n",
       "    </tr>\n",
       "  </thead>\n",
       "  <tbody>\n",
       "    <tr>\n",
       "      <th>57521</th>\n",
       "      <td>TP53</td>\n",
       "      <td>P04637</td>\n",
       "      <td>C135Y</td>\n",
       "      <td>TCGA-B6-A0I9</td>\n",
       "    </tr>\n",
       "  </tbody>\n",
       "</table>\n",
       "</div>"
      ],
      "text/plain": [
       "      Hugo_Symbol SWISSPROT HGVSp_Short Tumor_Sample_Barcode\n",
       "57521        TP53    P04637       C135Y         TCGA-B6-A0I9"
      ]
     },
     "metadata": {},
     "output_type": "display_data"
    },
    {
     "name": "stdout",
     "output_type": "stream",
     "text": [
      "\n",
      " 80  -  TCGA-B6-A0IJ\n"
     ]
    },
    {
     "data": {
      "text/html": [
       "<div>\n",
       "<style scoped>\n",
       "    .dataframe tbody tr th:only-of-type {\n",
       "        vertical-align: middle;\n",
       "    }\n",
       "\n",
       "    .dataframe tbody tr th {\n",
       "        vertical-align: top;\n",
       "    }\n",
       "\n",
       "    .dataframe thead th {\n",
       "        text-align: right;\n",
       "    }\n",
       "</style>\n",
       "<table border=\"1\" class=\"dataframe\">\n",
       "  <thead>\n",
       "    <tr style=\"text-align: right;\">\n",
       "      <th></th>\n",
       "      <th>Hugo_Symbol</th>\n",
       "      <th>SWISSPROT</th>\n",
       "      <th>HGVSp_Short</th>\n",
       "      <th>Tumor_Sample_Barcode</th>\n",
       "    </tr>\n",
       "  </thead>\n",
       "  <tbody>\n",
       "    <tr>\n",
       "      <th>11982</th>\n",
       "      <td>TP53</td>\n",
       "      <td>P04637</td>\n",
       "      <td>Y220C</td>\n",
       "      <td>TCGA-B6-A0IJ</td>\n",
       "    </tr>\n",
       "  </tbody>\n",
       "</table>\n",
       "</div>"
      ],
      "text/plain": [
       "      Hugo_Symbol SWISSPROT HGVSp_Short Tumor_Sample_Barcode\n",
       "11982        TP53    P04637       Y220C         TCGA-B6-A0IJ"
      ]
     },
     "metadata": {},
     "output_type": "display_data"
    },
    {
     "name": "stdout",
     "output_type": "stream",
     "text": [
      "\n",
      " 81  -  TCGA-B6-A0IK\n"
     ]
    },
    {
     "data": {
      "text/html": [
       "<div>\n",
       "<style scoped>\n",
       "    .dataframe tbody tr th:only-of-type {\n",
       "        vertical-align: middle;\n",
       "    }\n",
       "\n",
       "    .dataframe tbody tr th {\n",
       "        vertical-align: top;\n",
       "    }\n",
       "\n",
       "    .dataframe thead th {\n",
       "        text-align: right;\n",
       "    }\n",
       "</style>\n",
       "<table border=\"1\" class=\"dataframe\">\n",
       "  <thead>\n",
       "    <tr style=\"text-align: right;\">\n",
       "      <th></th>\n",
       "      <th>Hugo_Symbol</th>\n",
       "      <th>SWISSPROT</th>\n",
       "      <th>HGVSp_Short</th>\n",
       "      <th>Tumor_Sample_Barcode</th>\n",
       "    </tr>\n",
       "  </thead>\n",
       "  <tbody>\n",
       "    <tr>\n",
       "      <th>48981</th>\n",
       "      <td>TP53</td>\n",
       "      <td>P04637</td>\n",
       "      <td>L194R</td>\n",
       "      <td>TCGA-B6-A0IK</td>\n",
       "    </tr>\n",
       "  </tbody>\n",
       "</table>\n",
       "</div>"
      ],
      "text/plain": [
       "      Hugo_Symbol SWISSPROT HGVSp_Short Tumor_Sample_Barcode\n",
       "48981        TP53    P04637       L194R         TCGA-B6-A0IK"
      ]
     },
     "metadata": {},
     "output_type": "display_data"
    },
    {
     "name": "stdout",
     "output_type": "stream",
     "text": [
      "\n",
      " 82  -  TCGA-B6-A0RH\n"
     ]
    },
    {
     "data": {
      "text/html": [
       "<div>\n",
       "<style scoped>\n",
       "    .dataframe tbody tr th:only-of-type {\n",
       "        vertical-align: middle;\n",
       "    }\n",
       "\n",
       "    .dataframe tbody tr th {\n",
       "        vertical-align: top;\n",
       "    }\n",
       "\n",
       "    .dataframe thead th {\n",
       "        text-align: right;\n",
       "    }\n",
       "</style>\n",
       "<table border=\"1\" class=\"dataframe\">\n",
       "  <thead>\n",
       "    <tr style=\"text-align: right;\">\n",
       "      <th></th>\n",
       "      <th>Hugo_Symbol</th>\n",
       "      <th>SWISSPROT</th>\n",
       "      <th>HGVSp_Short</th>\n",
       "      <th>Tumor_Sample_Barcode</th>\n",
       "    </tr>\n",
       "  </thead>\n",
       "  <tbody>\n",
       "    <tr>\n",
       "      <th>12754</th>\n",
       "      <td>TP53</td>\n",
       "      <td>P04637</td>\n",
       "      <td>Y220S</td>\n",
       "      <td>TCGA-B6-A0RH</td>\n",
       "    </tr>\n",
       "  </tbody>\n",
       "</table>\n",
       "</div>"
      ],
      "text/plain": [
       "      Hugo_Symbol SWISSPROT HGVSp_Short Tumor_Sample_Barcode\n",
       "12754        TP53    P04637       Y220S         TCGA-B6-A0RH"
      ]
     },
     "metadata": {},
     "output_type": "display_data"
    },
    {
     "name": "stdout",
     "output_type": "stream",
     "text": [
      "\n",
      " 83  -  TCGA-B6-A0RS\n"
     ]
    },
    {
     "data": {
      "text/html": [
       "<div>\n",
       "<style scoped>\n",
       "    .dataframe tbody tr th:only-of-type {\n",
       "        vertical-align: middle;\n",
       "    }\n",
       "\n",
       "    .dataframe tbody tr th {\n",
       "        vertical-align: top;\n",
       "    }\n",
       "\n",
       "    .dataframe thead th {\n",
       "        text-align: right;\n",
       "    }\n",
       "</style>\n",
       "<table border=\"1\" class=\"dataframe\">\n",
       "  <thead>\n",
       "    <tr style=\"text-align: right;\">\n",
       "      <th></th>\n",
       "      <th>Hugo_Symbol</th>\n",
       "      <th>SWISSPROT</th>\n",
       "      <th>HGVSp_Short</th>\n",
       "      <th>Tumor_Sample_Barcode</th>\n",
       "    </tr>\n",
       "  </thead>\n",
       "  <tbody>\n",
       "    <tr>\n",
       "      <th>33447</th>\n",
       "      <td>TP53</td>\n",
       "      <td>P04637</td>\n",
       "      <td>R273C</td>\n",
       "      <td>TCGA-B6-A0RS</td>\n",
       "    </tr>\n",
       "  </tbody>\n",
       "</table>\n",
       "</div>"
      ],
      "text/plain": [
       "      Hugo_Symbol SWISSPROT HGVSp_Short Tumor_Sample_Barcode\n",
       "33447        TP53    P04637       R273C         TCGA-B6-A0RS"
      ]
     },
     "metadata": {},
     "output_type": "display_data"
    },
    {
     "name": "stdout",
     "output_type": "stream",
     "text": [
      "\n",
      " 84  -  TCGA-B6-A0RT\n"
     ]
    },
    {
     "data": {
      "text/html": [
       "<div>\n",
       "<style scoped>\n",
       "    .dataframe tbody tr th:only-of-type {\n",
       "        vertical-align: middle;\n",
       "    }\n",
       "\n",
       "    .dataframe tbody tr th {\n",
       "        vertical-align: top;\n",
       "    }\n",
       "\n",
       "    .dataframe thead th {\n",
       "        text-align: right;\n",
       "    }\n",
       "</style>\n",
       "<table border=\"1\" class=\"dataframe\">\n",
       "  <thead>\n",
       "    <tr style=\"text-align: right;\">\n",
       "      <th></th>\n",
       "      <th>Hugo_Symbol</th>\n",
       "      <th>SWISSPROT</th>\n",
       "      <th>HGVSp_Short</th>\n",
       "      <th>Tumor_Sample_Barcode</th>\n",
       "    </tr>\n",
       "  </thead>\n",
       "  <tbody>\n",
       "    <tr>\n",
       "      <th>29006</th>\n",
       "      <td>TP53</td>\n",
       "      <td>P04637</td>\n",
       "      <td>P278T</td>\n",
       "      <td>TCGA-B6-A0RT</td>\n",
       "    </tr>\n",
       "  </tbody>\n",
       "</table>\n",
       "</div>"
      ],
      "text/plain": [
       "      Hugo_Symbol SWISSPROT HGVSp_Short Tumor_Sample_Barcode\n",
       "29006        TP53    P04637       P278T         TCGA-B6-A0RT"
      ]
     },
     "metadata": {},
     "output_type": "display_data"
    },
    {
     "name": "stdout",
     "output_type": "stream",
     "text": [
      "\n",
      " 85  -  TCGA-B6-A0WX\n"
     ]
    },
    {
     "data": {
      "text/html": [
       "<div>\n",
       "<style scoped>\n",
       "    .dataframe tbody tr th:only-of-type {\n",
       "        vertical-align: middle;\n",
       "    }\n",
       "\n",
       "    .dataframe tbody tr th {\n",
       "        vertical-align: top;\n",
       "    }\n",
       "\n",
       "    .dataframe thead th {\n",
       "        text-align: right;\n",
       "    }\n",
       "</style>\n",
       "<table border=\"1\" class=\"dataframe\">\n",
       "  <thead>\n",
       "    <tr style=\"text-align: right;\">\n",
       "      <th></th>\n",
       "      <th>Hugo_Symbol</th>\n",
       "      <th>SWISSPROT</th>\n",
       "      <th>HGVSp_Short</th>\n",
       "      <th>Tumor_Sample_Barcode</th>\n",
       "    </tr>\n",
       "  </thead>\n",
       "  <tbody>\n",
       "    <tr>\n",
       "      <th>53203</th>\n",
       "      <td>TP53</td>\n",
       "      <td>P04637</td>\n",
       "      <td>R248W</td>\n",
       "      <td>TCGA-B6-A0WX</td>\n",
       "    </tr>\n",
       "  </tbody>\n",
       "</table>\n",
       "</div>"
      ],
      "text/plain": [
       "      Hugo_Symbol SWISSPROT HGVSp_Short Tumor_Sample_Barcode\n",
       "53203        TP53    P04637       R248W         TCGA-B6-A0WX"
      ]
     },
     "metadata": {},
     "output_type": "display_data"
    },
    {
     "name": "stdout",
     "output_type": "stream",
     "text": [
      "\n",
      " 86  -  TCGA-B6-A1KN\n"
     ]
    },
    {
     "data": {
      "text/html": [
       "<div>\n",
       "<style scoped>\n",
       "    .dataframe tbody tr th:only-of-type {\n",
       "        vertical-align: middle;\n",
       "    }\n",
       "\n",
       "    .dataframe tbody tr th {\n",
       "        vertical-align: top;\n",
       "    }\n",
       "\n",
       "    .dataframe thead th {\n",
       "        text-align: right;\n",
       "    }\n",
       "</style>\n",
       "<table border=\"1\" class=\"dataframe\">\n",
       "  <thead>\n",
       "    <tr style=\"text-align: right;\">\n",
       "      <th></th>\n",
       "      <th>Hugo_Symbol</th>\n",
       "      <th>SWISSPROT</th>\n",
       "      <th>HGVSp_Short</th>\n",
       "      <th>Tumor_Sample_Barcode</th>\n",
       "    </tr>\n",
       "  </thead>\n",
       "  <tbody>\n",
       "    <tr>\n",
       "      <th>19602</th>\n",
       "      <td>TP53</td>\n",
       "      <td>P04637</td>\n",
       "      <td>L265P</td>\n",
       "      <td>TCGA-B6-A1KN</td>\n",
       "    </tr>\n",
       "  </tbody>\n",
       "</table>\n",
       "</div>"
      ],
      "text/plain": [
       "      Hugo_Symbol SWISSPROT HGVSp_Short Tumor_Sample_Barcode\n",
       "19602        TP53    P04637       L265P         TCGA-B6-A1KN"
      ]
     },
     "metadata": {},
     "output_type": "display_data"
    },
    {
     "name": "stdout",
     "output_type": "stream",
     "text": [
      "\n",
      " 87  -  TCGA-B6-A401\n"
     ]
    },
    {
     "data": {
      "text/html": [
       "<div>\n",
       "<style scoped>\n",
       "    .dataframe tbody tr th:only-of-type {\n",
       "        vertical-align: middle;\n",
       "    }\n",
       "\n",
       "    .dataframe tbody tr th {\n",
       "        vertical-align: top;\n",
       "    }\n",
       "\n",
       "    .dataframe thead th {\n",
       "        text-align: right;\n",
       "    }\n",
       "</style>\n",
       "<table border=\"1\" class=\"dataframe\">\n",
       "  <thead>\n",
       "    <tr style=\"text-align: right;\">\n",
       "      <th></th>\n",
       "      <th>Hugo_Symbol</th>\n",
       "      <th>SWISSPROT</th>\n",
       "      <th>HGVSp_Short</th>\n",
       "      <th>Tumor_Sample_Barcode</th>\n",
       "    </tr>\n",
       "  </thead>\n",
       "  <tbody>\n",
       "    <tr>\n",
       "      <th>23906</th>\n",
       "      <td>TP53</td>\n",
       "      <td>P04637</td>\n",
       "      <td>R175H</td>\n",
       "      <td>TCGA-B6-A401</td>\n",
       "    </tr>\n",
       "  </tbody>\n",
       "</table>\n",
       "</div>"
      ],
      "text/plain": [
       "      Hugo_Symbol SWISSPROT HGVSp_Short Tumor_Sample_Barcode\n",
       "23906        TP53    P04637       R175H         TCGA-B6-A401"
      ]
     },
     "metadata": {},
     "output_type": "display_data"
    },
    {
     "name": "stdout",
     "output_type": "stream",
     "text": [
      "\n",
      " 88  -  TCGA-BH-A0AV\n"
     ]
    },
    {
     "data": {
      "text/html": [
       "<div>\n",
       "<style scoped>\n",
       "    .dataframe tbody tr th:only-of-type {\n",
       "        vertical-align: middle;\n",
       "    }\n",
       "\n",
       "    .dataframe tbody tr th {\n",
       "        vertical-align: top;\n",
       "    }\n",
       "\n",
       "    .dataframe thead th {\n",
       "        text-align: right;\n",
       "    }\n",
       "</style>\n",
       "<table border=\"1\" class=\"dataframe\">\n",
       "  <thead>\n",
       "    <tr style=\"text-align: right;\">\n",
       "      <th></th>\n",
       "      <th>Hugo_Symbol</th>\n",
       "      <th>SWISSPROT</th>\n",
       "      <th>HGVSp_Short</th>\n",
       "      <th>Tumor_Sample_Barcode</th>\n",
       "    </tr>\n",
       "  </thead>\n",
       "  <tbody>\n",
       "    <tr>\n",
       "      <th>55996</th>\n",
       "      <td>TP53</td>\n",
       "      <td>P04637</td>\n",
       "      <td>R248Q</td>\n",
       "      <td>TCGA-BH-A0AV</td>\n",
       "    </tr>\n",
       "  </tbody>\n",
       "</table>\n",
       "</div>"
      ],
      "text/plain": [
       "      Hugo_Symbol SWISSPROT HGVSp_Short Tumor_Sample_Barcode\n",
       "55996        TP53    P04637       R248Q         TCGA-BH-A0AV"
      ]
     },
     "metadata": {},
     "output_type": "display_data"
    },
    {
     "name": "stdout",
     "output_type": "stream",
     "text": [
      "\n",
      " 89  -  TCGA-BH-A0AW\n"
     ]
    },
    {
     "data": {
      "text/html": [
       "<div>\n",
       "<style scoped>\n",
       "    .dataframe tbody tr th:only-of-type {\n",
       "        vertical-align: middle;\n",
       "    }\n",
       "\n",
       "    .dataframe tbody tr th {\n",
       "        vertical-align: top;\n",
       "    }\n",
       "\n",
       "    .dataframe thead th {\n",
       "        text-align: right;\n",
       "    }\n",
       "</style>\n",
       "<table border=\"1\" class=\"dataframe\">\n",
       "  <thead>\n",
       "    <tr style=\"text-align: right;\">\n",
       "      <th></th>\n",
       "      <th>Hugo_Symbol</th>\n",
       "      <th>SWISSPROT</th>\n",
       "      <th>HGVSp_Short</th>\n",
       "      <th>Tumor_Sample_Barcode</th>\n",
       "    </tr>\n",
       "  </thead>\n",
       "  <tbody>\n",
       "    <tr>\n",
       "      <th>32883</th>\n",
       "      <td>TP53</td>\n",
       "      <td>P04637</td>\n",
       "      <td>F270S</td>\n",
       "      <td>TCGA-BH-A0AW</td>\n",
       "    </tr>\n",
       "  </tbody>\n",
       "</table>\n",
       "</div>"
      ],
      "text/plain": [
       "      Hugo_Symbol SWISSPROT HGVSp_Short Tumor_Sample_Barcode\n",
       "32883        TP53    P04637       F270S         TCGA-BH-A0AW"
      ]
     },
     "metadata": {},
     "output_type": "display_data"
    },
    {
     "name": "stdout",
     "output_type": "stream",
     "text": [
      "\n",
      " 90  -  TCGA-BH-A0B0\n"
     ]
    },
    {
     "data": {
      "text/html": [
       "<div>\n",
       "<style scoped>\n",
       "    .dataframe tbody tr th:only-of-type {\n",
       "        vertical-align: middle;\n",
       "    }\n",
       "\n",
       "    .dataframe tbody tr th {\n",
       "        vertical-align: top;\n",
       "    }\n",
       "\n",
       "    .dataframe thead th {\n",
       "        text-align: right;\n",
       "    }\n",
       "</style>\n",
       "<table border=\"1\" class=\"dataframe\">\n",
       "  <thead>\n",
       "    <tr style=\"text-align: right;\">\n",
       "      <th></th>\n",
       "      <th>Hugo_Symbol</th>\n",
       "      <th>SWISSPROT</th>\n",
       "      <th>HGVSp_Short</th>\n",
       "      <th>Tumor_Sample_Barcode</th>\n",
       "    </tr>\n",
       "  </thead>\n",
       "  <tbody>\n",
       "    <tr>\n",
       "      <th>16624</th>\n",
       "      <td>TP53</td>\n",
       "      <td>P04637</td>\n",
       "      <td>R175H</td>\n",
       "      <td>TCGA-BH-A0B0</td>\n",
       "    </tr>\n",
       "  </tbody>\n",
       "</table>\n",
       "</div>"
      ],
      "text/plain": [
       "      Hugo_Symbol SWISSPROT HGVSp_Short Tumor_Sample_Barcode\n",
       "16624        TP53    P04637       R175H         TCGA-BH-A0B0"
      ]
     },
     "metadata": {},
     "output_type": "display_data"
    },
    {
     "name": "stdout",
     "output_type": "stream",
     "text": [
      "\n",
      " 91  -  TCGA-BH-A0B3\n"
     ]
    },
    {
     "data": {
      "text/html": [
       "<div>\n",
       "<style scoped>\n",
       "    .dataframe tbody tr th:only-of-type {\n",
       "        vertical-align: middle;\n",
       "    }\n",
       "\n",
       "    .dataframe tbody tr th {\n",
       "        vertical-align: top;\n",
       "    }\n",
       "\n",
       "    .dataframe thead th {\n",
       "        text-align: right;\n",
       "    }\n",
       "</style>\n",
       "<table border=\"1\" class=\"dataframe\">\n",
       "  <thead>\n",
       "    <tr style=\"text-align: right;\">\n",
       "      <th></th>\n",
       "      <th>Hugo_Symbol</th>\n",
       "      <th>SWISSPROT</th>\n",
       "      <th>HGVSp_Short</th>\n",
       "      <th>Tumor_Sample_Barcode</th>\n",
       "    </tr>\n",
       "  </thead>\n",
       "  <tbody>\n",
       "    <tr>\n",
       "      <th>34870</th>\n",
       "      <td>TP53</td>\n",
       "      <td>P04637</td>\n",
       "      <td>V216M</td>\n",
       "      <td>TCGA-BH-A0B3</td>\n",
       "    </tr>\n",
       "  </tbody>\n",
       "</table>\n",
       "</div>"
      ],
      "text/plain": [
       "      Hugo_Symbol SWISSPROT HGVSp_Short Tumor_Sample_Barcode\n",
       "34870        TP53    P04637       V216M         TCGA-BH-A0B3"
      ]
     },
     "metadata": {},
     "output_type": "display_data"
    },
    {
     "name": "stdout",
     "output_type": "stream",
     "text": [
      "\n",
      " 92  -  TCGA-BH-A0B9\n"
     ]
    },
    {
     "data": {
      "text/html": [
       "<div>\n",
       "<style scoped>\n",
       "    .dataframe tbody tr th:only-of-type {\n",
       "        vertical-align: middle;\n",
       "    }\n",
       "\n",
       "    .dataframe tbody tr th {\n",
       "        vertical-align: top;\n",
       "    }\n",
       "\n",
       "    .dataframe thead th {\n",
       "        text-align: right;\n",
       "    }\n",
       "</style>\n",
       "<table border=\"1\" class=\"dataframe\">\n",
       "  <thead>\n",
       "    <tr style=\"text-align: right;\">\n",
       "      <th></th>\n",
       "      <th>Hugo_Symbol</th>\n",
       "      <th>SWISSPROT</th>\n",
       "      <th>HGVSp_Short</th>\n",
       "      <th>Tumor_Sample_Barcode</th>\n",
       "    </tr>\n",
       "  </thead>\n",
       "  <tbody>\n",
       "    <tr>\n",
       "      <th>11145</th>\n",
       "      <td>TP53</td>\n",
       "      <td>P04637</td>\n",
       "      <td>P278T</td>\n",
       "      <td>TCGA-BH-A0B9</td>\n",
       "    </tr>\n",
       "  </tbody>\n",
       "</table>\n",
       "</div>"
      ],
      "text/plain": [
       "      Hugo_Symbol SWISSPROT HGVSp_Short Tumor_Sample_Barcode\n",
       "11145        TP53    P04637       P278T         TCGA-BH-A0B9"
      ]
     },
     "metadata": {},
     "output_type": "display_data"
    },
    {
     "name": "stdout",
     "output_type": "stream",
     "text": [
      "\n",
      " 93  -  TCGA-BH-A0BC\n"
     ]
    },
    {
     "data": {
      "text/html": [
       "<div>\n",
       "<style scoped>\n",
       "    .dataframe tbody tr th:only-of-type {\n",
       "        vertical-align: middle;\n",
       "    }\n",
       "\n",
       "    .dataframe tbody tr th {\n",
       "        vertical-align: top;\n",
       "    }\n",
       "\n",
       "    .dataframe thead th {\n",
       "        text-align: right;\n",
       "    }\n",
       "</style>\n",
       "<table border=\"1\" class=\"dataframe\">\n",
       "  <thead>\n",
       "    <tr style=\"text-align: right;\">\n",
       "      <th></th>\n",
       "      <th>Hugo_Symbol</th>\n",
       "      <th>SWISSPROT</th>\n",
       "      <th>HGVSp_Short</th>\n",
       "      <th>Tumor_Sample_Barcode</th>\n",
       "    </tr>\n",
       "  </thead>\n",
       "  <tbody>\n",
       "    <tr>\n",
       "      <th>54367</th>\n",
       "      <td>TP53</td>\n",
       "      <td>P04637</td>\n",
       "      <td>R248W</td>\n",
       "      <td>TCGA-BH-A0BC</td>\n",
       "    </tr>\n",
       "  </tbody>\n",
       "</table>\n",
       "</div>"
      ],
      "text/plain": [
       "      Hugo_Symbol SWISSPROT HGVSp_Short Tumor_Sample_Barcode\n",
       "54367        TP53    P04637       R248W         TCGA-BH-A0BC"
      ]
     },
     "metadata": {},
     "output_type": "display_data"
    },
    {
     "name": "stdout",
     "output_type": "stream",
     "text": [
      "\n",
      " 94  -  TCGA-BH-A0BF\n"
     ]
    },
    {
     "data": {
      "text/html": [
       "<div>\n",
       "<style scoped>\n",
       "    .dataframe tbody tr th:only-of-type {\n",
       "        vertical-align: middle;\n",
       "    }\n",
       "\n",
       "    .dataframe tbody tr th {\n",
       "        vertical-align: top;\n",
       "    }\n",
       "\n",
       "    .dataframe thead th {\n",
       "        text-align: right;\n",
       "    }\n",
       "</style>\n",
       "<table border=\"1\" class=\"dataframe\">\n",
       "  <thead>\n",
       "    <tr style=\"text-align: right;\">\n",
       "      <th></th>\n",
       "      <th>Hugo_Symbol</th>\n",
       "      <th>SWISSPROT</th>\n",
       "      <th>HGVSp_Short</th>\n",
       "      <th>Tumor_Sample_Barcode</th>\n",
       "    </tr>\n",
       "  </thead>\n",
       "  <tbody>\n",
       "    <tr>\n",
       "      <th>34469</th>\n",
       "      <td>TP53</td>\n",
       "      <td>P04637</td>\n",
       "      <td>G245S</td>\n",
       "      <td>TCGA-BH-A0BF</td>\n",
       "    </tr>\n",
       "  </tbody>\n",
       "</table>\n",
       "</div>"
      ],
      "text/plain": [
       "      Hugo_Symbol SWISSPROT HGVSp_Short Tumor_Sample_Barcode\n",
       "34469        TP53    P04637       G245S         TCGA-BH-A0BF"
      ]
     },
     "metadata": {},
     "output_type": "display_data"
    },
    {
     "name": "stdout",
     "output_type": "stream",
     "text": [
      "\n",
      " 95  -  TCGA-BH-A0BL\n"
     ]
    },
    {
     "data": {
      "text/html": [
       "<div>\n",
       "<style scoped>\n",
       "    .dataframe tbody tr th:only-of-type {\n",
       "        vertical-align: middle;\n",
       "    }\n",
       "\n",
       "    .dataframe tbody tr th {\n",
       "        vertical-align: top;\n",
       "    }\n",
       "\n",
       "    .dataframe thead th {\n",
       "        text-align: right;\n",
       "    }\n",
       "</style>\n",
       "<table border=\"1\" class=\"dataframe\">\n",
       "  <thead>\n",
       "    <tr style=\"text-align: right;\">\n",
       "      <th></th>\n",
       "      <th>Hugo_Symbol</th>\n",
       "      <th>SWISSPROT</th>\n",
       "      <th>HGVSp_Short</th>\n",
       "      <th>Tumor_Sample_Barcode</th>\n",
       "    </tr>\n",
       "  </thead>\n",
       "  <tbody>\n",
       "    <tr>\n",
       "      <th>56600</th>\n",
       "      <td>TP53</td>\n",
       "      <td>P04637</td>\n",
       "      <td>P151H</td>\n",
       "      <td>TCGA-BH-A0BL</td>\n",
       "    </tr>\n",
       "  </tbody>\n",
       "</table>\n",
       "</div>"
      ],
      "text/plain": [
       "      Hugo_Symbol SWISSPROT HGVSp_Short Tumor_Sample_Barcode\n",
       "56600        TP53    P04637       P151H         TCGA-BH-A0BL"
      ]
     },
     "metadata": {},
     "output_type": "display_data"
    },
    {
     "name": "stdout",
     "output_type": "stream",
     "text": [
      "\n",
      " 96  -  TCGA-BH-A0BP\n"
     ]
    },
    {
     "data": {
      "text/html": [
       "<div>\n",
       "<style scoped>\n",
       "    .dataframe tbody tr th:only-of-type {\n",
       "        vertical-align: middle;\n",
       "    }\n",
       "\n",
       "    .dataframe tbody tr th {\n",
       "        vertical-align: top;\n",
       "    }\n",
       "\n",
       "    .dataframe thead th {\n",
       "        text-align: right;\n",
       "    }\n",
       "</style>\n",
       "<table border=\"1\" class=\"dataframe\">\n",
       "  <thead>\n",
       "    <tr style=\"text-align: right;\">\n",
       "      <th></th>\n",
       "      <th>Hugo_Symbol</th>\n",
       "      <th>SWISSPROT</th>\n",
       "      <th>HGVSp_Short</th>\n",
       "      <th>Tumor_Sample_Barcode</th>\n",
       "    </tr>\n",
       "  </thead>\n",
       "  <tbody>\n",
       "    <tr>\n",
       "      <th>16416</th>\n",
       "      <td>TP53</td>\n",
       "      <td>P04637</td>\n",
       "      <td>K132N</td>\n",
       "      <td>TCGA-BH-A0BP</td>\n",
       "    </tr>\n",
       "  </tbody>\n",
       "</table>\n",
       "</div>"
      ],
      "text/plain": [
       "      Hugo_Symbol SWISSPROT HGVSp_Short Tumor_Sample_Barcode\n",
       "16416        TP53    P04637       K132N         TCGA-BH-A0BP"
      ]
     },
     "metadata": {},
     "output_type": "display_data"
    },
    {
     "name": "stdout",
     "output_type": "stream",
     "text": [
      "\n",
      " 97  -  TCGA-BH-A0BR\n"
     ]
    },
    {
     "data": {
      "text/html": [
       "<div>\n",
       "<style scoped>\n",
       "    .dataframe tbody tr th:only-of-type {\n",
       "        vertical-align: middle;\n",
       "    }\n",
       "\n",
       "    .dataframe tbody tr th {\n",
       "        vertical-align: top;\n",
       "    }\n",
       "\n",
       "    .dataframe thead th {\n",
       "        text-align: right;\n",
       "    }\n",
       "</style>\n",
       "<table border=\"1\" class=\"dataframe\">\n",
       "  <thead>\n",
       "    <tr style=\"text-align: right;\">\n",
       "      <th></th>\n",
       "      <th>Hugo_Symbol</th>\n",
       "      <th>SWISSPROT</th>\n",
       "      <th>HGVSp_Short</th>\n",
       "      <th>Tumor_Sample_Barcode</th>\n",
       "    </tr>\n",
       "  </thead>\n",
       "  <tbody>\n",
       "    <tr>\n",
       "      <th>2968</th>\n",
       "      <td>TP53</td>\n",
       "      <td>P04637</td>\n",
       "      <td>V274F</td>\n",
       "      <td>TCGA-BH-A0BR</td>\n",
       "    </tr>\n",
       "  </tbody>\n",
       "</table>\n",
       "</div>"
      ],
      "text/plain": [
       "     Hugo_Symbol SWISSPROT HGVSp_Short Tumor_Sample_Barcode\n",
       "2968        TP53    P04637       V274F         TCGA-BH-A0BR"
      ]
     },
     "metadata": {},
     "output_type": "display_data"
    },
    {
     "name": "stdout",
     "output_type": "stream",
     "text": [
      "\n",
      " 98  -  TCGA-BH-A0BT\n"
     ]
    },
    {
     "data": {
      "text/html": [
       "<div>\n",
       "<style scoped>\n",
       "    .dataframe tbody tr th:only-of-type {\n",
       "        vertical-align: middle;\n",
       "    }\n",
       "\n",
       "    .dataframe tbody tr th {\n",
       "        vertical-align: top;\n",
       "    }\n",
       "\n",
       "    .dataframe thead th {\n",
       "        text-align: right;\n",
       "    }\n",
       "</style>\n",
       "<table border=\"1\" class=\"dataframe\">\n",
       "  <thead>\n",
       "    <tr style=\"text-align: right;\">\n",
       "      <th></th>\n",
       "      <th>Hugo_Symbol</th>\n",
       "      <th>SWISSPROT</th>\n",
       "      <th>HGVSp_Short</th>\n",
       "      <th>Tumor_Sample_Barcode</th>\n",
       "    </tr>\n",
       "  </thead>\n",
       "  <tbody>\n",
       "    <tr>\n",
       "      <th>14750</th>\n",
       "      <td>TP53</td>\n",
       "      <td>P04637</td>\n",
       "      <td>R158G</td>\n",
       "      <td>TCGA-BH-A0BT</td>\n",
       "    </tr>\n",
       "  </tbody>\n",
       "</table>\n",
       "</div>"
      ],
      "text/plain": [
       "      Hugo_Symbol SWISSPROT HGVSp_Short Tumor_Sample_Barcode\n",
       "14750        TP53    P04637       R158G         TCGA-BH-A0BT"
      ]
     },
     "metadata": {},
     "output_type": "display_data"
    },
    {
     "name": "stdout",
     "output_type": "stream",
     "text": [
      "\n",
      " 99  -  TCGA-BH-A0C3\n"
     ]
    },
    {
     "data": {
      "text/html": [
       "<div>\n",
       "<style scoped>\n",
       "    .dataframe tbody tr th:only-of-type {\n",
       "        vertical-align: middle;\n",
       "    }\n",
       "\n",
       "    .dataframe tbody tr th {\n",
       "        vertical-align: top;\n",
       "    }\n",
       "\n",
       "    .dataframe thead th {\n",
       "        text-align: right;\n",
       "    }\n",
       "</style>\n",
       "<table border=\"1\" class=\"dataframe\">\n",
       "  <thead>\n",
       "    <tr style=\"text-align: right;\">\n",
       "      <th></th>\n",
       "      <th>Hugo_Symbol</th>\n",
       "      <th>SWISSPROT</th>\n",
       "      <th>HGVSp_Short</th>\n",
       "      <th>Tumor_Sample_Barcode</th>\n",
       "    </tr>\n",
       "  </thead>\n",
       "  <tbody>\n",
       "    <tr>\n",
       "      <th>49722</th>\n",
       "      <td>TP53</td>\n",
       "      <td>P04637</td>\n",
       "      <td>G187S</td>\n",
       "      <td>TCGA-BH-A0C3</td>\n",
       "    </tr>\n",
       "  </tbody>\n",
       "</table>\n",
       "</div>"
      ],
      "text/plain": [
       "      Hugo_Symbol SWISSPROT HGVSp_Short Tumor_Sample_Barcode\n",
       "49722        TP53    P04637       G187S         TCGA-BH-A0C3"
      ]
     },
     "metadata": {},
     "output_type": "display_data"
    },
    {
     "name": "stdout",
     "output_type": "stream",
     "text": [
      "\n",
      " 100  -  TCGA-BH-A0DL\n"
     ]
    },
    {
     "data": {
      "text/html": [
       "<div>\n",
       "<style scoped>\n",
       "    .dataframe tbody tr th:only-of-type {\n",
       "        vertical-align: middle;\n",
       "    }\n",
       "\n",
       "    .dataframe tbody tr th {\n",
       "        vertical-align: top;\n",
       "    }\n",
       "\n",
       "    .dataframe thead th {\n",
       "        text-align: right;\n",
       "    }\n",
       "</style>\n",
       "<table border=\"1\" class=\"dataframe\">\n",
       "  <thead>\n",
       "    <tr style=\"text-align: right;\">\n",
       "      <th></th>\n",
       "      <th>Hugo_Symbol</th>\n",
       "      <th>SWISSPROT</th>\n",
       "      <th>HGVSp_Short</th>\n",
       "      <th>Tumor_Sample_Barcode</th>\n",
       "    </tr>\n",
       "  </thead>\n",
       "  <tbody>\n",
       "    <tr>\n",
       "      <th>34608</th>\n",
       "      <td>TP53</td>\n",
       "      <td>P04637</td>\n",
       "      <td>E286A</td>\n",
       "      <td>TCGA-BH-A0DL</td>\n",
       "    </tr>\n",
       "  </tbody>\n",
       "</table>\n",
       "</div>"
      ],
      "text/plain": [
       "      Hugo_Symbol SWISSPROT HGVSp_Short Tumor_Sample_Barcode\n",
       "34608        TP53    P04637       E286A         TCGA-BH-A0DL"
      ]
     },
     "metadata": {},
     "output_type": "display_data"
    },
    {
     "name": "stdout",
     "output_type": "stream",
     "text": [
      "\n",
      " 101  -  TCGA-BH-A0DZ\n"
     ]
    },
    {
     "data": {
      "text/html": [
       "<div>\n",
       "<style scoped>\n",
       "    .dataframe tbody tr th:only-of-type {\n",
       "        vertical-align: middle;\n",
       "    }\n",
       "\n",
       "    .dataframe tbody tr th {\n",
       "        vertical-align: top;\n",
       "    }\n",
       "\n",
       "    .dataframe thead th {\n",
       "        text-align: right;\n",
       "    }\n",
       "</style>\n",
       "<table border=\"1\" class=\"dataframe\">\n",
       "  <thead>\n",
       "    <tr style=\"text-align: right;\">\n",
       "      <th></th>\n",
       "      <th>Hugo_Symbol</th>\n",
       "      <th>SWISSPROT</th>\n",
       "      <th>HGVSp_Short</th>\n",
       "      <th>Tumor_Sample_Barcode</th>\n",
       "    </tr>\n",
       "  </thead>\n",
       "  <tbody>\n",
       "    <tr>\n",
       "      <th>56926</th>\n",
       "      <td>TP53</td>\n",
       "      <td>P04637</td>\n",
       "      <td>E258Q</td>\n",
       "      <td>TCGA-BH-A0DZ</td>\n",
       "    </tr>\n",
       "  </tbody>\n",
       "</table>\n",
       "</div>"
      ],
      "text/plain": [
       "      Hugo_Symbol SWISSPROT HGVSp_Short Tumor_Sample_Barcode\n",
       "56926        TP53    P04637       E258Q         TCGA-BH-A0DZ"
      ]
     },
     "metadata": {},
     "output_type": "display_data"
    },
    {
     "name": "stdout",
     "output_type": "stream",
     "text": [
      "\n",
      " 102  -  TCGA-BH-A0E0\n"
     ]
    },
    {
     "data": {
      "text/html": [
       "<div>\n",
       "<style scoped>\n",
       "    .dataframe tbody tr th:only-of-type {\n",
       "        vertical-align: middle;\n",
       "    }\n",
       "\n",
       "    .dataframe tbody tr th {\n",
       "        vertical-align: top;\n",
       "    }\n",
       "\n",
       "    .dataframe thead th {\n",
       "        text-align: right;\n",
       "    }\n",
       "</style>\n",
       "<table border=\"1\" class=\"dataframe\">\n",
       "  <thead>\n",
       "    <tr style=\"text-align: right;\">\n",
       "      <th></th>\n",
       "      <th>Hugo_Symbol</th>\n",
       "      <th>SWISSPROT</th>\n",
       "      <th>HGVSp_Short</th>\n",
       "      <th>Tumor_Sample_Barcode</th>\n",
       "    </tr>\n",
       "  </thead>\n",
       "  <tbody>\n",
       "    <tr>\n",
       "      <th>55099</th>\n",
       "      <td>TP53</td>\n",
       "      <td>P04637</td>\n",
       "      <td>R175H</td>\n",
       "      <td>TCGA-BH-A0E0</td>\n",
       "    </tr>\n",
       "  </tbody>\n",
       "</table>\n",
       "</div>"
      ],
      "text/plain": [
       "      Hugo_Symbol SWISSPROT HGVSp_Short Tumor_Sample_Barcode\n",
       "55099        TP53    P04637       R175H         TCGA-BH-A0E0"
      ]
     },
     "metadata": {},
     "output_type": "display_data"
    },
    {
     "name": "stdout",
     "output_type": "stream",
     "text": [
      "\n",
      " 103  -  TCGA-BH-A0EB\n"
     ]
    },
    {
     "data": {
      "text/html": [
       "<div>\n",
       "<style scoped>\n",
       "    .dataframe tbody tr th:only-of-type {\n",
       "        vertical-align: middle;\n",
       "    }\n",
       "\n",
       "    .dataframe tbody tr th {\n",
       "        vertical-align: top;\n",
       "    }\n",
       "\n",
       "    .dataframe thead th {\n",
       "        text-align: right;\n",
       "    }\n",
       "</style>\n",
       "<table border=\"1\" class=\"dataframe\">\n",
       "  <thead>\n",
       "    <tr style=\"text-align: right;\">\n",
       "      <th></th>\n",
       "      <th>Hugo_Symbol</th>\n",
       "      <th>SWISSPROT</th>\n",
       "      <th>HGVSp_Short</th>\n",
       "      <th>Tumor_Sample_Barcode</th>\n",
       "    </tr>\n",
       "  </thead>\n",
       "  <tbody>\n",
       "    <tr>\n",
       "      <th>51887</th>\n",
       "      <td>TP53</td>\n",
       "      <td>P04637</td>\n",
       "      <td>C176F</td>\n",
       "      <td>TCGA-BH-A0EB</td>\n",
       "    </tr>\n",
       "  </tbody>\n",
       "</table>\n",
       "</div>"
      ],
      "text/plain": [
       "      Hugo_Symbol SWISSPROT HGVSp_Short Tumor_Sample_Barcode\n",
       "51887        TP53    P04637       C176F         TCGA-BH-A0EB"
      ]
     },
     "metadata": {},
     "output_type": "display_data"
    },
    {
     "name": "stdout",
     "output_type": "stream",
     "text": [
      "\n",
      " 104  -  TCGA-BH-A0GY\n"
     ]
    },
    {
     "data": {
      "text/html": [
       "<div>\n",
       "<style scoped>\n",
       "    .dataframe tbody tr th:only-of-type {\n",
       "        vertical-align: middle;\n",
       "    }\n",
       "\n",
       "    .dataframe tbody tr th {\n",
       "        vertical-align: top;\n",
       "    }\n",
       "\n",
       "    .dataframe thead th {\n",
       "        text-align: right;\n",
       "    }\n",
       "</style>\n",
       "<table border=\"1\" class=\"dataframe\">\n",
       "  <thead>\n",
       "    <tr style=\"text-align: right;\">\n",
       "      <th></th>\n",
       "      <th>Hugo_Symbol</th>\n",
       "      <th>SWISSPROT</th>\n",
       "      <th>HGVSp_Short</th>\n",
       "      <th>Tumor_Sample_Barcode</th>\n",
       "    </tr>\n",
       "  </thead>\n",
       "  <tbody>\n",
       "    <tr>\n",
       "      <th>5265</th>\n",
       "      <td>TP53</td>\n",
       "      <td>P04637</td>\n",
       "      <td>R175H</td>\n",
       "      <td>TCGA-BH-A0GY</td>\n",
       "    </tr>\n",
       "  </tbody>\n",
       "</table>\n",
       "</div>"
      ],
      "text/plain": [
       "     Hugo_Symbol SWISSPROT HGVSp_Short Tumor_Sample_Barcode\n",
       "5265        TP53    P04637       R175H         TCGA-BH-A0GY"
      ]
     },
     "metadata": {},
     "output_type": "display_data"
    },
    {
     "name": "stdout",
     "output_type": "stream",
     "text": [
      "\n",
      " 105  -  TCGA-BH-A0H7\n"
     ]
    },
    {
     "data": {
      "text/html": [
       "<div>\n",
       "<style scoped>\n",
       "    .dataframe tbody tr th:only-of-type {\n",
       "        vertical-align: middle;\n",
       "    }\n",
       "\n",
       "    .dataframe tbody tr th {\n",
       "        vertical-align: top;\n",
       "    }\n",
       "\n",
       "    .dataframe thead th {\n",
       "        text-align: right;\n",
       "    }\n",
       "</style>\n",
       "<table border=\"1\" class=\"dataframe\">\n",
       "  <thead>\n",
       "    <tr style=\"text-align: right;\">\n",
       "      <th></th>\n",
       "      <th>Hugo_Symbol</th>\n",
       "      <th>SWISSPROT</th>\n",
       "      <th>HGVSp_Short</th>\n",
       "      <th>Tumor_Sample_Barcode</th>\n",
       "    </tr>\n",
       "  </thead>\n",
       "  <tbody>\n",
       "    <tr>\n",
       "      <th>9600</th>\n",
       "      <td>TP53</td>\n",
       "      <td>P04637</td>\n",
       "      <td>G245D</td>\n",
       "      <td>TCGA-BH-A0H7</td>\n",
       "    </tr>\n",
       "  </tbody>\n",
       "</table>\n",
       "</div>"
      ],
      "text/plain": [
       "     Hugo_Symbol SWISSPROT HGVSp_Short Tumor_Sample_Barcode\n",
       "9600        TP53    P04637       G245D         TCGA-BH-A0H7"
      ]
     },
     "metadata": {},
     "output_type": "display_data"
    },
    {
     "name": "stdout",
     "output_type": "stream",
     "text": [
      "\n",
      " 106  -  TCGA-BH-A0HX\n"
     ]
    },
    {
     "data": {
      "text/html": [
       "<div>\n",
       "<style scoped>\n",
       "    .dataframe tbody tr th:only-of-type {\n",
       "        vertical-align: middle;\n",
       "    }\n",
       "\n",
       "    .dataframe tbody tr th {\n",
       "        vertical-align: top;\n",
       "    }\n",
       "\n",
       "    .dataframe thead th {\n",
       "        text-align: right;\n",
       "    }\n",
       "</style>\n",
       "<table border=\"1\" class=\"dataframe\">\n",
       "  <thead>\n",
       "    <tr style=\"text-align: right;\">\n",
       "      <th></th>\n",
       "      <th>Hugo_Symbol</th>\n",
       "      <th>SWISSPROT</th>\n",
       "      <th>HGVSp_Short</th>\n",
       "      <th>Tumor_Sample_Barcode</th>\n",
       "    </tr>\n",
       "  </thead>\n",
       "  <tbody>\n",
       "    <tr>\n",
       "      <th>15752</th>\n",
       "      <td>TP53</td>\n",
       "      <td>P04637</td>\n",
       "      <td>C135W</td>\n",
       "      <td>TCGA-BH-A0HX</td>\n",
       "    </tr>\n",
       "  </tbody>\n",
       "</table>\n",
       "</div>"
      ],
      "text/plain": [
       "      Hugo_Symbol SWISSPROT HGVSp_Short Tumor_Sample_Barcode\n",
       "15752        TP53    P04637       C135W         TCGA-BH-A0HX"
      ]
     },
     "metadata": {},
     "output_type": "display_data"
    },
    {
     "name": "stdout",
     "output_type": "stream",
     "text": [
      "\n",
      " 107  -  TCGA-BH-A0HY\n"
     ]
    },
    {
     "data": {
      "text/html": [
       "<div>\n",
       "<style scoped>\n",
       "    .dataframe tbody tr th:only-of-type {\n",
       "        vertical-align: middle;\n",
       "    }\n",
       "\n",
       "    .dataframe tbody tr th {\n",
       "        vertical-align: top;\n",
       "    }\n",
       "\n",
       "    .dataframe thead th {\n",
       "        text-align: right;\n",
       "    }\n",
       "</style>\n",
       "<table border=\"1\" class=\"dataframe\">\n",
       "  <thead>\n",
       "    <tr style=\"text-align: right;\">\n",
       "      <th></th>\n",
       "      <th>Hugo_Symbol</th>\n",
       "      <th>SWISSPROT</th>\n",
       "      <th>HGVSp_Short</th>\n",
       "      <th>Tumor_Sample_Barcode</th>\n",
       "    </tr>\n",
       "  </thead>\n",
       "  <tbody>\n",
       "    <tr>\n",
       "      <th>38132</th>\n",
       "      <td>TP53</td>\n",
       "      <td>P04637</td>\n",
       "      <td>G245D</td>\n",
       "      <td>TCGA-BH-A0HY</td>\n",
       "    </tr>\n",
       "  </tbody>\n",
       "</table>\n",
       "</div>"
      ],
      "text/plain": [
       "      Hugo_Symbol SWISSPROT HGVSp_Short Tumor_Sample_Barcode\n",
       "38132        TP53    P04637       G245D         TCGA-BH-A0HY"
      ]
     },
     "metadata": {},
     "output_type": "display_data"
    },
    {
     "name": "stdout",
     "output_type": "stream",
     "text": [
      "\n",
      " 108  -  TCGA-BH-A0WA\n"
     ]
    },
    {
     "data": {
      "text/html": [
       "<div>\n",
       "<style scoped>\n",
       "    .dataframe tbody tr th:only-of-type {\n",
       "        vertical-align: middle;\n",
       "    }\n",
       "\n",
       "    .dataframe tbody tr th {\n",
       "        vertical-align: top;\n",
       "    }\n",
       "\n",
       "    .dataframe thead th {\n",
       "        text-align: right;\n",
       "    }\n",
       "</style>\n",
       "<table border=\"1\" class=\"dataframe\">\n",
       "  <thead>\n",
       "    <tr style=\"text-align: right;\">\n",
       "      <th></th>\n",
       "      <th>Hugo_Symbol</th>\n",
       "      <th>SWISSPROT</th>\n",
       "      <th>HGVSp_Short</th>\n",
       "      <th>Tumor_Sample_Barcode</th>\n",
       "    </tr>\n",
       "  </thead>\n",
       "  <tbody>\n",
       "    <tr>\n",
       "      <th>24279</th>\n",
       "      <td>TP53</td>\n",
       "      <td>P04637</td>\n",
       "      <td>S241C</td>\n",
       "      <td>TCGA-BH-A0WA</td>\n",
       "    </tr>\n",
       "  </tbody>\n",
       "</table>\n",
       "</div>"
      ],
      "text/plain": [
       "      Hugo_Symbol SWISSPROT HGVSp_Short Tumor_Sample_Barcode\n",
       "24279        TP53    P04637       S241C         TCGA-BH-A0WA"
      ]
     },
     "metadata": {},
     "output_type": "display_data"
    },
    {
     "name": "stdout",
     "output_type": "stream",
     "text": [
      "\n",
      " 109  -  TCGA-BH-A18T\n"
     ]
    },
    {
     "data": {
      "text/html": [
       "<div>\n",
       "<style scoped>\n",
       "    .dataframe tbody tr th:only-of-type {\n",
       "        vertical-align: middle;\n",
       "    }\n",
       "\n",
       "    .dataframe tbody tr th {\n",
       "        vertical-align: top;\n",
       "    }\n",
       "\n",
       "    .dataframe thead th {\n",
       "        text-align: right;\n",
       "    }\n",
       "</style>\n",
       "<table border=\"1\" class=\"dataframe\">\n",
       "  <thead>\n",
       "    <tr style=\"text-align: right;\">\n",
       "      <th></th>\n",
       "      <th>Hugo_Symbol</th>\n",
       "      <th>SWISSPROT</th>\n",
       "      <th>HGVSp_Short</th>\n",
       "      <th>Tumor_Sample_Barcode</th>\n",
       "    </tr>\n",
       "  </thead>\n",
       "  <tbody>\n",
       "    <tr>\n",
       "      <th>59550</th>\n",
       "      <td>TP53</td>\n",
       "      <td>P04637</td>\n",
       "      <td>Y107D</td>\n",
       "      <td>TCGA-BH-A18T</td>\n",
       "    </tr>\n",
       "  </tbody>\n",
       "</table>\n",
       "</div>"
      ],
      "text/plain": [
       "      Hugo_Symbol SWISSPROT HGVSp_Short Tumor_Sample_Barcode\n",
       "59550        TP53    P04637       Y107D         TCGA-BH-A18T"
      ]
     },
     "metadata": {},
     "output_type": "display_data"
    },
    {
     "name": "stdout",
     "output_type": "stream",
     "text": [
      "\n",
      " 110  -  TCGA-BH-A1EY\n"
     ]
    },
    {
     "data": {
      "text/html": [
       "<div>\n",
       "<style scoped>\n",
       "    .dataframe tbody tr th:only-of-type {\n",
       "        vertical-align: middle;\n",
       "    }\n",
       "\n",
       "    .dataframe tbody tr th {\n",
       "        vertical-align: top;\n",
       "    }\n",
       "\n",
       "    .dataframe thead th {\n",
       "        text-align: right;\n",
       "    }\n",
       "</style>\n",
       "<table border=\"1\" class=\"dataframe\">\n",
       "  <thead>\n",
       "    <tr style=\"text-align: right;\">\n",
       "      <th></th>\n",
       "      <th>Hugo_Symbol</th>\n",
       "      <th>SWISSPROT</th>\n",
       "      <th>HGVSp_Short</th>\n",
       "      <th>Tumor_Sample_Barcode</th>\n",
       "    </tr>\n",
       "  </thead>\n",
       "  <tbody>\n",
       "    <tr>\n",
       "      <th>12834</th>\n",
       "      <td>TP53</td>\n",
       "      <td>P04637</td>\n",
       "      <td>Y126C</td>\n",
       "      <td>TCGA-BH-A1EY</td>\n",
       "    </tr>\n",
       "  </tbody>\n",
       "</table>\n",
       "</div>"
      ],
      "text/plain": [
       "      Hugo_Symbol SWISSPROT HGVSp_Short Tumor_Sample_Barcode\n",
       "12834        TP53    P04637       Y126C         TCGA-BH-A1EY"
      ]
     },
     "metadata": {},
     "output_type": "display_data"
    },
    {
     "name": "stdout",
     "output_type": "stream",
     "text": [
      "\n",
      " 111  -  TCGA-BH-A1F2\n"
     ]
    },
    {
     "data": {
      "text/html": [
       "<div>\n",
       "<style scoped>\n",
       "    .dataframe tbody tr th:only-of-type {\n",
       "        vertical-align: middle;\n",
       "    }\n",
       "\n",
       "    .dataframe tbody tr th {\n",
       "        vertical-align: top;\n",
       "    }\n",
       "\n",
       "    .dataframe thead th {\n",
       "        text-align: right;\n",
       "    }\n",
       "</style>\n",
       "<table border=\"1\" class=\"dataframe\">\n",
       "  <thead>\n",
       "    <tr style=\"text-align: right;\">\n",
       "      <th></th>\n",
       "      <th>Hugo_Symbol</th>\n",
       "      <th>SWISSPROT</th>\n",
       "      <th>HGVSp_Short</th>\n",
       "      <th>Tumor_Sample_Barcode</th>\n",
       "    </tr>\n",
       "  </thead>\n",
       "  <tbody>\n",
       "    <tr>\n",
       "      <th>36839</th>\n",
       "      <td>TP53</td>\n",
       "      <td>P04637</td>\n",
       "      <td>E285K</td>\n",
       "      <td>TCGA-BH-A1F2</td>\n",
       "    </tr>\n",
       "  </tbody>\n",
       "</table>\n",
       "</div>"
      ],
      "text/plain": [
       "      Hugo_Symbol SWISSPROT HGVSp_Short Tumor_Sample_Barcode\n",
       "36839        TP53    P04637       E285K         TCGA-BH-A1F2"
      ]
     },
     "metadata": {},
     "output_type": "display_data"
    },
    {
     "name": "stdout",
     "output_type": "stream",
     "text": [
      "\n",
      " 112  -  TCGA-BH-A1F6\n"
     ]
    },
    {
     "data": {
      "text/html": [
       "<div>\n",
       "<style scoped>\n",
       "    .dataframe tbody tr th:only-of-type {\n",
       "        vertical-align: middle;\n",
       "    }\n",
       "\n",
       "    .dataframe tbody tr th {\n",
       "        vertical-align: top;\n",
       "    }\n",
       "\n",
       "    .dataframe thead th {\n",
       "        text-align: right;\n",
       "    }\n",
       "</style>\n",
       "<table border=\"1\" class=\"dataframe\">\n",
       "  <thead>\n",
       "    <tr style=\"text-align: right;\">\n",
       "      <th></th>\n",
       "      <th>Hugo_Symbol</th>\n",
       "      <th>SWISSPROT</th>\n",
       "      <th>HGVSp_Short</th>\n",
       "      <th>Tumor_Sample_Barcode</th>\n",
       "    </tr>\n",
       "  </thead>\n",
       "  <tbody>\n",
       "    <tr>\n",
       "      <th>14148</th>\n",
       "      <td>TP53</td>\n",
       "      <td>P04637</td>\n",
       "      <td>S127P</td>\n",
       "      <td>TCGA-BH-A1F6</td>\n",
       "    </tr>\n",
       "  </tbody>\n",
       "</table>\n",
       "</div>"
      ],
      "text/plain": [
       "      Hugo_Symbol SWISSPROT HGVSp_Short Tumor_Sample_Barcode\n",
       "14148        TP53    P04637       S127P         TCGA-BH-A1F6"
      ]
     },
     "metadata": {},
     "output_type": "display_data"
    },
    {
     "name": "stdout",
     "output_type": "stream",
     "text": [
      "\n",
      " 113  -  TCGA-BH-A1FD\n"
     ]
    },
    {
     "data": {
      "text/html": [
       "<div>\n",
       "<style scoped>\n",
       "    .dataframe tbody tr th:only-of-type {\n",
       "        vertical-align: middle;\n",
       "    }\n",
       "\n",
       "    .dataframe tbody tr th {\n",
       "        vertical-align: top;\n",
       "    }\n",
       "\n",
       "    .dataframe thead th {\n",
       "        text-align: right;\n",
       "    }\n",
       "</style>\n",
       "<table border=\"1\" class=\"dataframe\">\n",
       "  <thead>\n",
       "    <tr style=\"text-align: right;\">\n",
       "      <th></th>\n",
       "      <th>Hugo_Symbol</th>\n",
       "      <th>SWISSPROT</th>\n",
       "      <th>HGVSp_Short</th>\n",
       "      <th>Tumor_Sample_Barcode</th>\n",
       "    </tr>\n",
       "  </thead>\n",
       "  <tbody>\n",
       "    <tr>\n",
       "      <th>31978</th>\n",
       "      <td>TP53</td>\n",
       "      <td>P04637</td>\n",
       "      <td>V173L</td>\n",
       "      <td>TCGA-BH-A1FD</td>\n",
       "    </tr>\n",
       "  </tbody>\n",
       "</table>\n",
       "</div>"
      ],
      "text/plain": [
       "      Hugo_Symbol SWISSPROT HGVSp_Short Tumor_Sample_Barcode\n",
       "31978        TP53    P04637       V173L         TCGA-BH-A1FD"
      ]
     },
     "metadata": {},
     "output_type": "display_data"
    },
    {
     "name": "stdout",
     "output_type": "stream",
     "text": [
      "\n",
      " 114  -  TCGA-BH-A1FE\n"
     ]
    },
    {
     "data": {
      "text/html": [
       "<div>\n",
       "<style scoped>\n",
       "    .dataframe tbody tr th:only-of-type {\n",
       "        vertical-align: middle;\n",
       "    }\n",
       "\n",
       "    .dataframe tbody tr th {\n",
       "        vertical-align: top;\n",
       "    }\n",
       "\n",
       "    .dataframe thead th {\n",
       "        text-align: right;\n",
       "    }\n",
       "</style>\n",
       "<table border=\"1\" class=\"dataframe\">\n",
       "  <thead>\n",
       "    <tr style=\"text-align: right;\">\n",
       "      <th></th>\n",
       "      <th>Hugo_Symbol</th>\n",
       "      <th>SWISSPROT</th>\n",
       "      <th>HGVSp_Short</th>\n",
       "      <th>Tumor_Sample_Barcode</th>\n",
       "    </tr>\n",
       "  </thead>\n",
       "  <tbody>\n",
       "    <tr>\n",
       "      <th>29710</th>\n",
       "      <td>TP53</td>\n",
       "      <td>P04637</td>\n",
       "      <td>N247I</td>\n",
       "      <td>TCGA-BH-A1FE</td>\n",
       "    </tr>\n",
       "  </tbody>\n",
       "</table>\n",
       "</div>"
      ],
      "text/plain": [
       "      Hugo_Symbol SWISSPROT HGVSp_Short Tumor_Sample_Barcode\n",
       "29710        TP53    P04637       N247I         TCGA-BH-A1FE"
      ]
     },
     "metadata": {},
     "output_type": "display_data"
    },
    {
     "name": "stdout",
     "output_type": "stream",
     "text": [
      "\n",
      " 115  -  TCGA-BH-A1FN\n"
     ]
    },
    {
     "data": {
      "text/html": [
       "<div>\n",
       "<style scoped>\n",
       "    .dataframe tbody tr th:only-of-type {\n",
       "        vertical-align: middle;\n",
       "    }\n",
       "\n",
       "    .dataframe tbody tr th {\n",
       "        vertical-align: top;\n",
       "    }\n",
       "\n",
       "    .dataframe thead th {\n",
       "        text-align: right;\n",
       "    }\n",
       "</style>\n",
       "<table border=\"1\" class=\"dataframe\">\n",
       "  <thead>\n",
       "    <tr style=\"text-align: right;\">\n",
       "      <th></th>\n",
       "      <th>Hugo_Symbol</th>\n",
       "      <th>SWISSPROT</th>\n",
       "      <th>HGVSp_Short</th>\n",
       "      <th>Tumor_Sample_Barcode</th>\n",
       "    </tr>\n",
       "  </thead>\n",
       "  <tbody>\n",
       "    <tr>\n",
       "      <th>47964</th>\n",
       "      <td>TP53</td>\n",
       "      <td>P04637</td>\n",
       "      <td>R280T</td>\n",
       "      <td>TCGA-BH-A1FN</td>\n",
       "    </tr>\n",
       "  </tbody>\n",
       "</table>\n",
       "</div>"
      ],
      "text/plain": [
       "      Hugo_Symbol SWISSPROT HGVSp_Short Tumor_Sample_Barcode\n",
       "47964        TP53    P04637       R280T         TCGA-BH-A1FN"
      ]
     },
     "metadata": {},
     "output_type": "display_data"
    },
    {
     "name": "stdout",
     "output_type": "stream",
     "text": [
      "\n",
      " 116  -  TCGA-BH-A1FU\n"
     ]
    },
    {
     "data": {
      "text/html": [
       "<div>\n",
       "<style scoped>\n",
       "    .dataframe tbody tr th:only-of-type {\n",
       "        vertical-align: middle;\n",
       "    }\n",
       "\n",
       "    .dataframe tbody tr th {\n",
       "        vertical-align: top;\n",
       "    }\n",
       "\n",
       "    .dataframe thead th {\n",
       "        text-align: right;\n",
       "    }\n",
       "</style>\n",
       "<table border=\"1\" class=\"dataframe\">\n",
       "  <thead>\n",
       "    <tr style=\"text-align: right;\">\n",
       "      <th></th>\n",
       "      <th>Hugo_Symbol</th>\n",
       "      <th>SWISSPROT</th>\n",
       "      <th>HGVSp_Short</th>\n",
       "      <th>Tumor_Sample_Barcode</th>\n",
       "    </tr>\n",
       "  </thead>\n",
       "  <tbody>\n",
       "    <tr>\n",
       "      <th>50716</th>\n",
       "      <td>TP53</td>\n",
       "      <td>P04637</td>\n",
       "      <td>R175H</td>\n",
       "      <td>TCGA-BH-A1FU</td>\n",
       "    </tr>\n",
       "  </tbody>\n",
       "</table>\n",
       "</div>"
      ],
      "text/plain": [
       "      Hugo_Symbol SWISSPROT HGVSp_Short Tumor_Sample_Barcode\n",
       "50716        TP53    P04637       R175H         TCGA-BH-A1FU"
      ]
     },
     "metadata": {},
     "output_type": "display_data"
    },
    {
     "name": "stdout",
     "output_type": "stream",
     "text": [
      "\n",
      " 117  -  TCGA-BH-A203\n"
     ]
    },
    {
     "data": {
      "text/html": [
       "<div>\n",
       "<style scoped>\n",
       "    .dataframe tbody tr th:only-of-type {\n",
       "        vertical-align: middle;\n",
       "    }\n",
       "\n",
       "    .dataframe tbody tr th {\n",
       "        vertical-align: top;\n",
       "    }\n",
       "\n",
       "    .dataframe thead th {\n",
       "        text-align: right;\n",
       "    }\n",
       "</style>\n",
       "<table border=\"1\" class=\"dataframe\">\n",
       "  <thead>\n",
       "    <tr style=\"text-align: right;\">\n",
       "      <th></th>\n",
       "      <th>Hugo_Symbol</th>\n",
       "      <th>SWISSPROT</th>\n",
       "      <th>HGVSp_Short</th>\n",
       "      <th>Tumor_Sample_Barcode</th>\n",
       "    </tr>\n",
       "  </thead>\n",
       "  <tbody>\n",
       "    <tr>\n",
       "      <th>7448</th>\n",
       "      <td>TP53</td>\n",
       "      <td>P04637</td>\n",
       "      <td>R273H</td>\n",
       "      <td>TCGA-BH-A203</td>\n",
       "    </tr>\n",
       "  </tbody>\n",
       "</table>\n",
       "</div>"
      ],
      "text/plain": [
       "     Hugo_Symbol SWISSPROT HGVSp_Short Tumor_Sample_Barcode\n",
       "7448        TP53    P04637       R273H         TCGA-BH-A203"
      ]
     },
     "metadata": {},
     "output_type": "display_data"
    },
    {
     "name": "stdout",
     "output_type": "stream",
     "text": [
      "\n",
      " 118  -  TCGA-BH-A5IZ\n"
     ]
    },
    {
     "data": {
      "text/html": [
       "<div>\n",
       "<style scoped>\n",
       "    .dataframe tbody tr th:only-of-type {\n",
       "        vertical-align: middle;\n",
       "    }\n",
       "\n",
       "    .dataframe tbody tr th {\n",
       "        vertical-align: top;\n",
       "    }\n",
       "\n",
       "    .dataframe thead th {\n",
       "        text-align: right;\n",
       "    }\n",
       "</style>\n",
       "<table border=\"1\" class=\"dataframe\">\n",
       "  <thead>\n",
       "    <tr style=\"text-align: right;\">\n",
       "      <th></th>\n",
       "      <th>Hugo_Symbol</th>\n",
       "      <th>SWISSPROT</th>\n",
       "      <th>HGVSp_Short</th>\n",
       "      <th>Tumor_Sample_Barcode</th>\n",
       "    </tr>\n",
       "  </thead>\n",
       "  <tbody>\n",
       "    <tr>\n",
       "      <th>14376</th>\n",
       "      <td>TP53</td>\n",
       "      <td>P04637</td>\n",
       "      <td>R273H</td>\n",
       "      <td>TCGA-BH-A5IZ</td>\n",
       "    </tr>\n",
       "  </tbody>\n",
       "</table>\n",
       "</div>"
      ],
      "text/plain": [
       "      Hugo_Symbol SWISSPROT HGVSp_Short Tumor_Sample_Barcode\n",
       "14376        TP53    P04637       R273H         TCGA-BH-A5IZ"
      ]
     },
     "metadata": {},
     "output_type": "display_data"
    },
    {
     "name": "stdout",
     "output_type": "stream",
     "text": [
      "\n",
      " 119  -  TCGA-C8-A12K\n"
     ]
    },
    {
     "data": {
      "text/html": [
       "<div>\n",
       "<style scoped>\n",
       "    .dataframe tbody tr th:only-of-type {\n",
       "        vertical-align: middle;\n",
       "    }\n",
       "\n",
       "    .dataframe tbody tr th {\n",
       "        vertical-align: top;\n",
       "    }\n",
       "\n",
       "    .dataframe thead th {\n",
       "        text-align: right;\n",
       "    }\n",
       "</style>\n",
       "<table border=\"1\" class=\"dataframe\">\n",
       "  <thead>\n",
       "    <tr style=\"text-align: right;\">\n",
       "      <th></th>\n",
       "      <th>Hugo_Symbol</th>\n",
       "      <th>SWISSPROT</th>\n",
       "      <th>HGVSp_Short</th>\n",
       "      <th>Tumor_Sample_Barcode</th>\n",
       "    </tr>\n",
       "  </thead>\n",
       "  <tbody>\n",
       "    <tr>\n",
       "      <th>5091</th>\n",
       "      <td>TP53</td>\n",
       "      <td>P04637</td>\n",
       "      <td>I195T</td>\n",
       "      <td>TCGA-C8-A12K</td>\n",
       "    </tr>\n",
       "  </tbody>\n",
       "</table>\n",
       "</div>"
      ],
      "text/plain": [
       "     Hugo_Symbol SWISSPROT HGVSp_Short Tumor_Sample_Barcode\n",
       "5091        TP53    P04637       I195T         TCGA-C8-A12K"
      ]
     },
     "metadata": {},
     "output_type": "display_data"
    },
    {
     "name": "stdout",
     "output_type": "stream",
     "text": [
      "\n",
      " 120  -  TCGA-C8-A12L\n"
     ]
    },
    {
     "data": {
      "text/html": [
       "<div>\n",
       "<style scoped>\n",
       "    .dataframe tbody tr th:only-of-type {\n",
       "        vertical-align: middle;\n",
       "    }\n",
       "\n",
       "    .dataframe tbody tr th {\n",
       "        vertical-align: top;\n",
       "    }\n",
       "\n",
       "    .dataframe thead th {\n",
       "        text-align: right;\n",
       "    }\n",
       "</style>\n",
       "<table border=\"1\" class=\"dataframe\">\n",
       "  <thead>\n",
       "    <tr style=\"text-align: right;\">\n",
       "      <th></th>\n",
       "      <th>Hugo_Symbol</th>\n",
       "      <th>SWISSPROT</th>\n",
       "      <th>HGVSp_Short</th>\n",
       "      <th>Tumor_Sample_Barcode</th>\n",
       "    </tr>\n",
       "  </thead>\n",
       "  <tbody>\n",
       "    <tr>\n",
       "      <th>32761</th>\n",
       "      <td>TP53</td>\n",
       "      <td>P04637</td>\n",
       "      <td>C238F</td>\n",
       "      <td>TCGA-C8-A12L</td>\n",
       "    </tr>\n",
       "  </tbody>\n",
       "</table>\n",
       "</div>"
      ],
      "text/plain": [
       "      Hugo_Symbol SWISSPROT HGVSp_Short Tumor_Sample_Barcode\n",
       "32761        TP53    P04637       C238F         TCGA-C8-A12L"
      ]
     },
     "metadata": {},
     "output_type": "display_data"
    },
    {
     "name": "stdout",
     "output_type": "stream",
     "text": [
      "\n",
      " 121  -  TCGA-C8-A12O\n"
     ]
    },
    {
     "data": {
      "text/html": [
       "<div>\n",
       "<style scoped>\n",
       "    .dataframe tbody tr th:only-of-type {\n",
       "        vertical-align: middle;\n",
       "    }\n",
       "\n",
       "    .dataframe tbody tr th {\n",
       "        vertical-align: top;\n",
       "    }\n",
       "\n",
       "    .dataframe thead th {\n",
       "        text-align: right;\n",
       "    }\n",
       "</style>\n",
       "<table border=\"1\" class=\"dataframe\">\n",
       "  <thead>\n",
       "    <tr style=\"text-align: right;\">\n",
       "      <th></th>\n",
       "      <th>Hugo_Symbol</th>\n",
       "      <th>SWISSPROT</th>\n",
       "      <th>HGVSp_Short</th>\n",
       "      <th>Tumor_Sample_Barcode</th>\n",
       "    </tr>\n",
       "  </thead>\n",
       "  <tbody>\n",
       "    <tr>\n",
       "      <th>49653</th>\n",
       "      <td>TP53</td>\n",
       "      <td>P04637</td>\n",
       "      <td>R273H</td>\n",
       "      <td>TCGA-C8-A12O</td>\n",
       "    </tr>\n",
       "  </tbody>\n",
       "</table>\n",
       "</div>"
      ],
      "text/plain": [
       "      Hugo_Symbol SWISSPROT HGVSp_Short Tumor_Sample_Barcode\n",
       "49653        TP53    P04637       R273H         TCGA-C8-A12O"
      ]
     },
     "metadata": {},
     "output_type": "display_data"
    },
    {
     "name": "stdout",
     "output_type": "stream",
     "text": [
      "\n",
      " 122  -  TCGA-C8-A12P\n"
     ]
    },
    {
     "data": {
      "text/html": [
       "<div>\n",
       "<style scoped>\n",
       "    .dataframe tbody tr th:only-of-type {\n",
       "        vertical-align: middle;\n",
       "    }\n",
       "\n",
       "    .dataframe tbody tr th {\n",
       "        vertical-align: top;\n",
       "    }\n",
       "\n",
       "    .dataframe thead th {\n",
       "        text-align: right;\n",
       "    }\n",
       "</style>\n",
       "<table border=\"1\" class=\"dataframe\">\n",
       "  <thead>\n",
       "    <tr style=\"text-align: right;\">\n",
       "      <th></th>\n",
       "      <th>Hugo_Symbol</th>\n",
       "      <th>SWISSPROT</th>\n",
       "      <th>HGVSp_Short</th>\n",
       "      <th>Tumor_Sample_Barcode</th>\n",
       "    </tr>\n",
       "  </thead>\n",
       "  <tbody>\n",
       "    <tr>\n",
       "      <th>17747</th>\n",
       "      <td>TP53</td>\n",
       "      <td>P04637</td>\n",
       "      <td>R248W</td>\n",
       "      <td>TCGA-C8-A12P</td>\n",
       "    </tr>\n",
       "  </tbody>\n",
       "</table>\n",
       "</div>"
      ],
      "text/plain": [
       "      Hugo_Symbol SWISSPROT HGVSp_Short Tumor_Sample_Barcode\n",
       "17747        TP53    P04637       R248W         TCGA-C8-A12P"
      ]
     },
     "metadata": {},
     "output_type": "display_data"
    },
    {
     "name": "stdout",
     "output_type": "stream",
     "text": [
      "\n",
      " 123  -  TCGA-C8-A12Q\n"
     ]
    },
    {
     "data": {
      "text/html": [
       "<div>\n",
       "<style scoped>\n",
       "    .dataframe tbody tr th:only-of-type {\n",
       "        vertical-align: middle;\n",
       "    }\n",
       "\n",
       "    .dataframe tbody tr th {\n",
       "        vertical-align: top;\n",
       "    }\n",
       "\n",
       "    .dataframe thead th {\n",
       "        text-align: right;\n",
       "    }\n",
       "</style>\n",
       "<table border=\"1\" class=\"dataframe\">\n",
       "  <thead>\n",
       "    <tr style=\"text-align: right;\">\n",
       "      <th></th>\n",
       "      <th>Hugo_Symbol</th>\n",
       "      <th>SWISSPROT</th>\n",
       "      <th>HGVSp_Short</th>\n",
       "      <th>Tumor_Sample_Barcode</th>\n",
       "    </tr>\n",
       "  </thead>\n",
       "  <tbody>\n",
       "    <tr>\n",
       "      <th>50594</th>\n",
       "      <td>TP53</td>\n",
       "      <td>P04637</td>\n",
       "      <td>Y205N</td>\n",
       "      <td>TCGA-C8-A12Q</td>\n",
       "    </tr>\n",
       "  </tbody>\n",
       "</table>\n",
       "</div>"
      ],
      "text/plain": [
       "      Hugo_Symbol SWISSPROT HGVSp_Short Tumor_Sample_Barcode\n",
       "50594        TP53    P04637       Y205N         TCGA-C8-A12Q"
      ]
     },
     "metadata": {},
     "output_type": "display_data"
    },
    {
     "name": "stdout",
     "output_type": "stream",
     "text": [
      "\n",
      " 124  -  TCGA-C8-A12W\n"
     ]
    },
    {
     "data": {
      "text/html": [
       "<div>\n",
       "<style scoped>\n",
       "    .dataframe tbody tr th:only-of-type {\n",
       "        vertical-align: middle;\n",
       "    }\n",
       "\n",
       "    .dataframe tbody tr th {\n",
       "        vertical-align: top;\n",
       "    }\n",
       "\n",
       "    .dataframe thead th {\n",
       "        text-align: right;\n",
       "    }\n",
       "</style>\n",
       "<table border=\"1\" class=\"dataframe\">\n",
       "  <thead>\n",
       "    <tr style=\"text-align: right;\">\n",
       "      <th></th>\n",
       "      <th>Hugo_Symbol</th>\n",
       "      <th>SWISSPROT</th>\n",
       "      <th>HGVSp_Short</th>\n",
       "      <th>Tumor_Sample_Barcode</th>\n",
       "    </tr>\n",
       "  </thead>\n",
       "  <tbody>\n",
       "    <tr>\n",
       "      <th>2600</th>\n",
       "      <td>TP53</td>\n",
       "      <td>P04637</td>\n",
       "      <td>H193Y</td>\n",
       "      <td>TCGA-C8-A12W</td>\n",
       "    </tr>\n",
       "  </tbody>\n",
       "</table>\n",
       "</div>"
      ],
      "text/plain": [
       "     Hugo_Symbol SWISSPROT HGVSp_Short Tumor_Sample_Barcode\n",
       "2600        TP53    P04637       H193Y         TCGA-C8-A12W"
      ]
     },
     "metadata": {},
     "output_type": "display_data"
    },
    {
     "name": "stdout",
     "output_type": "stream",
     "text": [
      "\n",
      " 125  -  TCGA-C8-A12Z\n"
     ]
    },
    {
     "data": {
      "text/html": [
       "<div>\n",
       "<style scoped>\n",
       "    .dataframe tbody tr th:only-of-type {\n",
       "        vertical-align: middle;\n",
       "    }\n",
       "\n",
       "    .dataframe tbody tr th {\n",
       "        vertical-align: top;\n",
       "    }\n",
       "\n",
       "    .dataframe thead th {\n",
       "        text-align: right;\n",
       "    }\n",
       "</style>\n",
       "<table border=\"1\" class=\"dataframe\">\n",
       "  <thead>\n",
       "    <tr style=\"text-align: right;\">\n",
       "      <th></th>\n",
       "      <th>Hugo_Symbol</th>\n",
       "      <th>SWISSPROT</th>\n",
       "      <th>HGVSp_Short</th>\n",
       "      <th>Tumor_Sample_Barcode</th>\n",
       "    </tr>\n",
       "  </thead>\n",
       "  <tbody>\n",
       "    <tr>\n",
       "      <th>48751</th>\n",
       "      <td>TP53</td>\n",
       "      <td>P04637</td>\n",
       "      <td>R342P</td>\n",
       "      <td>TCGA-C8-A12Z</td>\n",
       "    </tr>\n",
       "  </tbody>\n",
       "</table>\n",
       "</div>"
      ],
      "text/plain": [
       "      Hugo_Symbol SWISSPROT HGVSp_Short Tumor_Sample_Barcode\n",
       "48751        TP53    P04637       R342P         TCGA-C8-A12Z"
      ]
     },
     "metadata": {},
     "output_type": "display_data"
    },
    {
     "name": "stdout",
     "output_type": "stream",
     "text": [
      "\n",
      " 126  -  TCGA-C8-A131\n"
     ]
    },
    {
     "data": {
      "text/html": [
       "<div>\n",
       "<style scoped>\n",
       "    .dataframe tbody tr th:only-of-type {\n",
       "        vertical-align: middle;\n",
       "    }\n",
       "\n",
       "    .dataframe tbody tr th {\n",
       "        vertical-align: top;\n",
       "    }\n",
       "\n",
       "    .dataframe thead th {\n",
       "        text-align: right;\n",
       "    }\n",
       "</style>\n",
       "<table border=\"1\" class=\"dataframe\">\n",
       "  <thead>\n",
       "    <tr style=\"text-align: right;\">\n",
       "      <th></th>\n",
       "      <th>Hugo_Symbol</th>\n",
       "      <th>SWISSPROT</th>\n",
       "      <th>HGVSp_Short</th>\n",
       "      <th>Tumor_Sample_Barcode</th>\n",
       "    </tr>\n",
       "  </thead>\n",
       "  <tbody>\n",
       "    <tr>\n",
       "      <th>21926</th>\n",
       "      <td>TP53</td>\n",
       "      <td>P04637</td>\n",
       "      <td>R175H</td>\n",
       "      <td>TCGA-C8-A131</td>\n",
       "    </tr>\n",
       "  </tbody>\n",
       "</table>\n",
       "</div>"
      ],
      "text/plain": [
       "      Hugo_Symbol SWISSPROT HGVSp_Short Tumor_Sample_Barcode\n",
       "21926        TP53    P04637       R175H         TCGA-C8-A131"
      ]
     },
     "metadata": {},
     "output_type": "display_data"
    },
    {
     "name": "stdout",
     "output_type": "stream",
     "text": [
      "\n",
      " 127  -  TCGA-C8-A134\n"
     ]
    },
    {
     "data": {
      "text/html": [
       "<div>\n",
       "<style scoped>\n",
       "    .dataframe tbody tr th:only-of-type {\n",
       "        vertical-align: middle;\n",
       "    }\n",
       "\n",
       "    .dataframe tbody tr th {\n",
       "        vertical-align: top;\n",
       "    }\n",
       "\n",
       "    .dataframe thead th {\n",
       "        text-align: right;\n",
       "    }\n",
       "</style>\n",
       "<table border=\"1\" class=\"dataframe\">\n",
       "  <thead>\n",
       "    <tr style=\"text-align: right;\">\n",
       "      <th></th>\n",
       "      <th>Hugo_Symbol</th>\n",
       "      <th>SWISSPROT</th>\n",
       "      <th>HGVSp_Short</th>\n",
       "      <th>Tumor_Sample_Barcode</th>\n",
       "    </tr>\n",
       "  </thead>\n",
       "  <tbody>\n",
       "    <tr>\n",
       "      <th>5380</th>\n",
       "      <td>TP53</td>\n",
       "      <td>P04637</td>\n",
       "      <td>R273H</td>\n",
       "      <td>TCGA-C8-A134</td>\n",
       "    </tr>\n",
       "  </tbody>\n",
       "</table>\n",
       "</div>"
      ],
      "text/plain": [
       "     Hugo_Symbol SWISSPROT HGVSp_Short Tumor_Sample_Barcode\n",
       "5380        TP53    P04637       R273H         TCGA-C8-A134"
      ]
     },
     "metadata": {},
     "output_type": "display_data"
    },
    {
     "name": "stdout",
     "output_type": "stream",
     "text": [
      "\n",
      " 128  -  TCGA-C8-A1HF\n"
     ]
    },
    {
     "data": {
      "text/html": [
       "<div>\n",
       "<style scoped>\n",
       "    .dataframe tbody tr th:only-of-type {\n",
       "        vertical-align: middle;\n",
       "    }\n",
       "\n",
       "    .dataframe tbody tr th {\n",
       "        vertical-align: top;\n",
       "    }\n",
       "\n",
       "    .dataframe thead th {\n",
       "        text-align: right;\n",
       "    }\n",
       "</style>\n",
       "<table border=\"1\" class=\"dataframe\">\n",
       "  <thead>\n",
       "    <tr style=\"text-align: right;\">\n",
       "      <th></th>\n",
       "      <th>Hugo_Symbol</th>\n",
       "      <th>SWISSPROT</th>\n",
       "      <th>HGVSp_Short</th>\n",
       "      <th>Tumor_Sample_Barcode</th>\n",
       "    </tr>\n",
       "  </thead>\n",
       "  <tbody>\n",
       "    <tr>\n",
       "      <th>36038</th>\n",
       "      <td>TP53</td>\n",
       "      <td>P04637</td>\n",
       "      <td>H179Y</td>\n",
       "      <td>TCGA-C8-A1HF</td>\n",
       "    </tr>\n",
       "  </tbody>\n",
       "</table>\n",
       "</div>"
      ],
      "text/plain": [
       "      Hugo_Symbol SWISSPROT HGVSp_Short Tumor_Sample_Barcode\n",
       "36038        TP53    P04637       H179Y         TCGA-C8-A1HF"
      ]
     },
     "metadata": {},
     "output_type": "display_data"
    },
    {
     "name": "stdout",
     "output_type": "stream",
     "text": [
      "\n",
      " 129  -  TCGA-C8-A1HG\n"
     ]
    },
    {
     "data": {
      "text/html": [
       "<div>\n",
       "<style scoped>\n",
       "    .dataframe tbody tr th:only-of-type {\n",
       "        vertical-align: middle;\n",
       "    }\n",
       "\n",
       "    .dataframe tbody tr th {\n",
       "        vertical-align: top;\n",
       "    }\n",
       "\n",
       "    .dataframe thead th {\n",
       "        text-align: right;\n",
       "    }\n",
       "</style>\n",
       "<table border=\"1\" class=\"dataframe\">\n",
       "  <thead>\n",
       "    <tr style=\"text-align: right;\">\n",
       "      <th></th>\n",
       "      <th>Hugo_Symbol</th>\n",
       "      <th>SWISSPROT</th>\n",
       "      <th>HGVSp_Short</th>\n",
       "      <th>Tumor_Sample_Barcode</th>\n",
       "    </tr>\n",
       "  </thead>\n",
       "  <tbody>\n",
       "    <tr>\n",
       "      <th>43164</th>\n",
       "      <td>TP53</td>\n",
       "      <td>P04637</td>\n",
       "      <td>C141R</td>\n",
       "      <td>TCGA-C8-A1HG</td>\n",
       "    </tr>\n",
       "  </tbody>\n",
       "</table>\n",
       "</div>"
      ],
      "text/plain": [
       "      Hugo_Symbol SWISSPROT HGVSp_Short Tumor_Sample_Barcode\n",
       "43164        TP53    P04637       C141R         TCGA-C8-A1HG"
      ]
     },
     "metadata": {},
     "output_type": "display_data"
    },
    {
     "name": "stdout",
     "output_type": "stream",
     "text": [
      "\n",
      " 130  -  TCGA-C8-A1HM\n"
     ]
    },
    {
     "data": {
      "text/html": [
       "<div>\n",
       "<style scoped>\n",
       "    .dataframe tbody tr th:only-of-type {\n",
       "        vertical-align: middle;\n",
       "    }\n",
       "\n",
       "    .dataframe tbody tr th {\n",
       "        vertical-align: top;\n",
       "    }\n",
       "\n",
       "    .dataframe thead th {\n",
       "        text-align: right;\n",
       "    }\n",
       "</style>\n",
       "<table border=\"1\" class=\"dataframe\">\n",
       "  <thead>\n",
       "    <tr style=\"text-align: right;\">\n",
       "      <th></th>\n",
       "      <th>Hugo_Symbol</th>\n",
       "      <th>SWISSPROT</th>\n",
       "      <th>HGVSp_Short</th>\n",
       "      <th>Tumor_Sample_Barcode</th>\n",
       "    </tr>\n",
       "  </thead>\n",
       "  <tbody>\n",
       "    <tr>\n",
       "      <th>53087</th>\n",
       "      <td>TP53</td>\n",
       "      <td>P04637</td>\n",
       "      <td>L194P</td>\n",
       "      <td>TCGA-C8-A1HM</td>\n",
       "    </tr>\n",
       "  </tbody>\n",
       "</table>\n",
       "</div>"
      ],
      "text/plain": [
       "      Hugo_Symbol SWISSPROT HGVSp_Short Tumor_Sample_Barcode\n",
       "53087        TP53    P04637       L194P         TCGA-C8-A1HM"
      ]
     },
     "metadata": {},
     "output_type": "display_data"
    },
    {
     "name": "stdout",
     "output_type": "stream",
     "text": [
      "\n",
      " 131  -  TCGA-C8-A26V\n"
     ]
    },
    {
     "data": {
      "text/html": [
       "<div>\n",
       "<style scoped>\n",
       "    .dataframe tbody tr th:only-of-type {\n",
       "        vertical-align: middle;\n",
       "    }\n",
       "\n",
       "    .dataframe tbody tr th {\n",
       "        vertical-align: top;\n",
       "    }\n",
       "\n",
       "    .dataframe thead th {\n",
       "        text-align: right;\n",
       "    }\n",
       "</style>\n",
       "<table border=\"1\" class=\"dataframe\">\n",
       "  <thead>\n",
       "    <tr style=\"text-align: right;\">\n",
       "      <th></th>\n",
       "      <th>Hugo_Symbol</th>\n",
       "      <th>SWISSPROT</th>\n",
       "      <th>HGVSp_Short</th>\n",
       "      <th>Tumor_Sample_Barcode</th>\n",
       "    </tr>\n",
       "  </thead>\n",
       "  <tbody>\n",
       "    <tr>\n",
       "      <th>21874</th>\n",
       "      <td>TP53</td>\n",
       "      <td>P04637</td>\n",
       "      <td>I232S</td>\n",
       "      <td>TCGA-C8-A26V</td>\n",
       "    </tr>\n",
       "  </tbody>\n",
       "</table>\n",
       "</div>"
      ],
      "text/plain": [
       "      Hugo_Symbol SWISSPROT HGVSp_Short Tumor_Sample_Barcode\n",
       "21874        TP53    P04637       I232S         TCGA-C8-A26V"
      ]
     },
     "metadata": {},
     "output_type": "display_data"
    },
    {
     "name": "stdout",
     "output_type": "stream",
     "text": [
      "\n",
      " 132  -  TCGA-C8-A26W\n"
     ]
    },
    {
     "data": {
      "text/html": [
       "<div>\n",
       "<style scoped>\n",
       "    .dataframe tbody tr th:only-of-type {\n",
       "        vertical-align: middle;\n",
       "    }\n",
       "\n",
       "    .dataframe tbody tr th {\n",
       "        vertical-align: top;\n",
       "    }\n",
       "\n",
       "    .dataframe thead th {\n",
       "        text-align: right;\n",
       "    }\n",
       "</style>\n",
       "<table border=\"1\" class=\"dataframe\">\n",
       "  <thead>\n",
       "    <tr style=\"text-align: right;\">\n",
       "      <th></th>\n",
       "      <th>Hugo_Symbol</th>\n",
       "      <th>SWISSPROT</th>\n",
       "      <th>HGVSp_Short</th>\n",
       "      <th>Tumor_Sample_Barcode</th>\n",
       "    </tr>\n",
       "  </thead>\n",
       "  <tbody>\n",
       "    <tr>\n",
       "      <th>11500</th>\n",
       "      <td>TP53</td>\n",
       "      <td>P04637</td>\n",
       "      <td>R273L</td>\n",
       "      <td>TCGA-C8-A26W</td>\n",
       "    </tr>\n",
       "  </tbody>\n",
       "</table>\n",
       "</div>"
      ],
      "text/plain": [
       "      Hugo_Symbol SWISSPROT HGVSp_Short Tumor_Sample_Barcode\n",
       "11500        TP53    P04637       R273L         TCGA-C8-A26W"
      ]
     },
     "metadata": {},
     "output_type": "display_data"
    },
    {
     "name": "stdout",
     "output_type": "stream",
     "text": [
      "\n",
      " 133  -  TCGA-C8-A26X\n"
     ]
    },
    {
     "data": {
      "text/html": [
       "<div>\n",
       "<style scoped>\n",
       "    .dataframe tbody tr th:only-of-type {\n",
       "        vertical-align: middle;\n",
       "    }\n",
       "\n",
       "    .dataframe tbody tr th {\n",
       "        vertical-align: top;\n",
       "    }\n",
       "\n",
       "    .dataframe thead th {\n",
       "        text-align: right;\n",
       "    }\n",
       "</style>\n",
       "<table border=\"1\" class=\"dataframe\">\n",
       "  <thead>\n",
       "    <tr style=\"text-align: right;\">\n",
       "      <th></th>\n",
       "      <th>Hugo_Symbol</th>\n",
       "      <th>SWISSPROT</th>\n",
       "      <th>HGVSp_Short</th>\n",
       "      <th>Tumor_Sample_Barcode</th>\n",
       "    </tr>\n",
       "  </thead>\n",
       "  <tbody>\n",
       "    <tr>\n",
       "      <th>50939</th>\n",
       "      <td>TP53</td>\n",
       "      <td>P04637</td>\n",
       "      <td>V173M</td>\n",
       "      <td>TCGA-C8-A26X</td>\n",
       "    </tr>\n",
       "  </tbody>\n",
       "</table>\n",
       "</div>"
      ],
      "text/plain": [
       "      Hugo_Symbol SWISSPROT HGVSp_Short Tumor_Sample_Barcode\n",
       "50939        TP53    P04637       V173M         TCGA-C8-A26X"
      ]
     },
     "metadata": {},
     "output_type": "display_data"
    },
    {
     "name": "stdout",
     "output_type": "stream",
     "text": [
      "\n",
      " 134  -  TCGA-C8-A275\n"
     ]
    },
    {
     "data": {
      "text/html": [
       "<div>\n",
       "<style scoped>\n",
       "    .dataframe tbody tr th:only-of-type {\n",
       "        vertical-align: middle;\n",
       "    }\n",
       "\n",
       "    .dataframe tbody tr th {\n",
       "        vertical-align: top;\n",
       "    }\n",
       "\n",
       "    .dataframe thead th {\n",
       "        text-align: right;\n",
       "    }\n",
       "</style>\n",
       "<table border=\"1\" class=\"dataframe\">\n",
       "  <thead>\n",
       "    <tr style=\"text-align: right;\">\n",
       "      <th></th>\n",
       "      <th>Hugo_Symbol</th>\n",
       "      <th>SWISSPROT</th>\n",
       "      <th>HGVSp_Short</th>\n",
       "      <th>Tumor_Sample_Barcode</th>\n",
       "    </tr>\n",
       "  </thead>\n",
       "  <tbody>\n",
       "    <tr>\n",
       "      <th>53820</th>\n",
       "      <td>TP53</td>\n",
       "      <td>P04637</td>\n",
       "      <td>G266E</td>\n",
       "      <td>TCGA-C8-A275</td>\n",
       "    </tr>\n",
       "  </tbody>\n",
       "</table>\n",
       "</div>"
      ],
      "text/plain": [
       "      Hugo_Symbol SWISSPROT HGVSp_Short Tumor_Sample_Barcode\n",
       "53820        TP53    P04637       G266E         TCGA-C8-A275"
      ]
     },
     "metadata": {},
     "output_type": "display_data"
    },
    {
     "name": "stdout",
     "output_type": "stream",
     "text": [
      "\n",
      " 135  -  TCGA-C8-A278\n"
     ]
    },
    {
     "data": {
      "text/html": [
       "<div>\n",
       "<style scoped>\n",
       "    .dataframe tbody tr th:only-of-type {\n",
       "        vertical-align: middle;\n",
       "    }\n",
       "\n",
       "    .dataframe tbody tr th {\n",
       "        vertical-align: top;\n",
       "    }\n",
       "\n",
       "    .dataframe thead th {\n",
       "        text-align: right;\n",
       "    }\n",
       "</style>\n",
       "<table border=\"1\" class=\"dataframe\">\n",
       "  <thead>\n",
       "    <tr style=\"text-align: right;\">\n",
       "      <th></th>\n",
       "      <th>Hugo_Symbol</th>\n",
       "      <th>SWISSPROT</th>\n",
       "      <th>HGVSp_Short</th>\n",
       "      <th>Tumor_Sample_Barcode</th>\n",
       "    </tr>\n",
       "  </thead>\n",
       "  <tbody>\n",
       "    <tr>\n",
       "      <th>36300</th>\n",
       "      <td>TP53</td>\n",
       "      <td>P04637</td>\n",
       "      <td>H168P</td>\n",
       "      <td>TCGA-C8-A278</td>\n",
       "    </tr>\n",
       "  </tbody>\n",
       "</table>\n",
       "</div>"
      ],
      "text/plain": [
       "      Hugo_Symbol SWISSPROT HGVSp_Short Tumor_Sample_Barcode\n",
       "36300        TP53    P04637       H168P         TCGA-C8-A278"
      ]
     },
     "metadata": {},
     "output_type": "display_data"
    },
    {
     "name": "stdout",
     "output_type": "stream",
     "text": [
      "\n",
      " 136  -  TCGA-C8-A27A\n"
     ]
    },
    {
     "data": {
      "text/html": [
       "<div>\n",
       "<style scoped>\n",
       "    .dataframe tbody tr th:only-of-type {\n",
       "        vertical-align: middle;\n",
       "    }\n",
       "\n",
       "    .dataframe tbody tr th {\n",
       "        vertical-align: top;\n",
       "    }\n",
       "\n",
       "    .dataframe thead th {\n",
       "        text-align: right;\n",
       "    }\n",
       "</style>\n",
       "<table border=\"1\" class=\"dataframe\">\n",
       "  <thead>\n",
       "    <tr style=\"text-align: right;\">\n",
       "      <th></th>\n",
       "      <th>Hugo_Symbol</th>\n",
       "      <th>SWISSPROT</th>\n",
       "      <th>HGVSp_Short</th>\n",
       "      <th>Tumor_Sample_Barcode</th>\n",
       "    </tr>\n",
       "  </thead>\n",
       "  <tbody>\n",
       "    <tr>\n",
       "      <th>24757</th>\n",
       "      <td>TP53</td>\n",
       "      <td>P04637</td>\n",
       "      <td>G199V</td>\n",
       "      <td>TCGA-C8-A27A</td>\n",
       "    </tr>\n",
       "  </tbody>\n",
       "</table>\n",
       "</div>"
      ],
      "text/plain": [
       "      Hugo_Symbol SWISSPROT HGVSp_Short Tumor_Sample_Barcode\n",
       "24757        TP53    P04637       G199V         TCGA-C8-A27A"
      ]
     },
     "metadata": {},
     "output_type": "display_data"
    },
    {
     "name": "stdout",
     "output_type": "stream",
     "text": [
      "\n",
      " 137  -  TCGA-C8-A27B\n"
     ]
    },
    {
     "data": {
      "text/html": [
       "<div>\n",
       "<style scoped>\n",
       "    .dataframe tbody tr th:only-of-type {\n",
       "        vertical-align: middle;\n",
       "    }\n",
       "\n",
       "    .dataframe tbody tr th {\n",
       "        vertical-align: top;\n",
       "    }\n",
       "\n",
       "    .dataframe thead th {\n",
       "        text-align: right;\n",
       "    }\n",
       "</style>\n",
       "<table border=\"1\" class=\"dataframe\">\n",
       "  <thead>\n",
       "    <tr style=\"text-align: right;\">\n",
       "      <th></th>\n",
       "      <th>Hugo_Symbol</th>\n",
       "      <th>SWISSPROT</th>\n",
       "      <th>HGVSp_Short</th>\n",
       "      <th>Tumor_Sample_Barcode</th>\n",
       "    </tr>\n",
       "  </thead>\n",
       "  <tbody>\n",
       "    <tr>\n",
       "      <th>5581</th>\n",
       "      <td>TP53</td>\n",
       "      <td>P04637</td>\n",
       "      <td>H193R</td>\n",
       "      <td>TCGA-C8-A27B</td>\n",
       "    </tr>\n",
       "  </tbody>\n",
       "</table>\n",
       "</div>"
      ],
      "text/plain": [
       "     Hugo_Symbol SWISSPROT HGVSp_Short Tumor_Sample_Barcode\n",
       "5581        TP53    P04637       H193R         TCGA-C8-A27B"
      ]
     },
     "metadata": {},
     "output_type": "display_data"
    },
    {
     "name": "stdout",
     "output_type": "stream",
     "text": [
      "\n",
      " 138  -  TCGA-D8-A13Z\n"
     ]
    },
    {
     "data": {
      "text/html": [
       "<div>\n",
       "<style scoped>\n",
       "    .dataframe tbody tr th:only-of-type {\n",
       "        vertical-align: middle;\n",
       "    }\n",
       "\n",
       "    .dataframe tbody tr th {\n",
       "        vertical-align: top;\n",
       "    }\n",
       "\n",
       "    .dataframe thead th {\n",
       "        text-align: right;\n",
       "    }\n",
       "</style>\n",
       "<table border=\"1\" class=\"dataframe\">\n",
       "  <thead>\n",
       "    <tr style=\"text-align: right;\">\n",
       "      <th></th>\n",
       "      <th>Hugo_Symbol</th>\n",
       "      <th>SWISSPROT</th>\n",
       "      <th>HGVSp_Short</th>\n",
       "      <th>Tumor_Sample_Barcode</th>\n",
       "    </tr>\n",
       "  </thead>\n",
       "  <tbody>\n",
       "    <tr>\n",
       "      <th>34261</th>\n",
       "      <td>TP53</td>\n",
       "      <td>P04637</td>\n",
       "      <td>C141Y</td>\n",
       "      <td>TCGA-D8-A13Z</td>\n",
       "    </tr>\n",
       "  </tbody>\n",
       "</table>\n",
       "</div>"
      ],
      "text/plain": [
       "      Hugo_Symbol SWISSPROT HGVSp_Short Tumor_Sample_Barcode\n",
       "34261        TP53    P04637       C141Y         TCGA-D8-A13Z"
      ]
     },
     "metadata": {},
     "output_type": "display_data"
    },
    {
     "name": "stdout",
     "output_type": "stream",
     "text": [
      "\n",
      " 139  -  TCGA-D8-A142\n"
     ]
    },
    {
     "data": {
      "text/html": [
       "<div>\n",
       "<style scoped>\n",
       "    .dataframe tbody tr th:only-of-type {\n",
       "        vertical-align: middle;\n",
       "    }\n",
       "\n",
       "    .dataframe tbody tr th {\n",
       "        vertical-align: top;\n",
       "    }\n",
       "\n",
       "    .dataframe thead th {\n",
       "        text-align: right;\n",
       "    }\n",
       "</style>\n",
       "<table border=\"1\" class=\"dataframe\">\n",
       "  <thead>\n",
       "    <tr style=\"text-align: right;\">\n",
       "      <th></th>\n",
       "      <th>Hugo_Symbol</th>\n",
       "      <th>SWISSPROT</th>\n",
       "      <th>HGVSp_Short</th>\n",
       "      <th>Tumor_Sample_Barcode</th>\n",
       "    </tr>\n",
       "  </thead>\n",
       "  <tbody>\n",
       "    <tr>\n",
       "      <th>9358</th>\n",
       "      <td>TP53</td>\n",
       "      <td>P04637</td>\n",
       "      <td>P278A</td>\n",
       "      <td>TCGA-D8-A142</td>\n",
       "    </tr>\n",
       "  </tbody>\n",
       "</table>\n",
       "</div>"
      ],
      "text/plain": [
       "     Hugo_Symbol SWISSPROT HGVSp_Short Tumor_Sample_Barcode\n",
       "9358        TP53    P04637       P278A         TCGA-D8-A142"
      ]
     },
     "metadata": {},
     "output_type": "display_data"
    },
    {
     "name": "stdout",
     "output_type": "stream",
     "text": [
      "\n",
      " 140  -  TCGA-D8-A147\n"
     ]
    },
    {
     "data": {
      "text/html": [
       "<div>\n",
       "<style scoped>\n",
       "    .dataframe tbody tr th:only-of-type {\n",
       "        vertical-align: middle;\n",
       "    }\n",
       "\n",
       "    .dataframe tbody tr th {\n",
       "        vertical-align: top;\n",
       "    }\n",
       "\n",
       "    .dataframe thead th {\n",
       "        text-align: right;\n",
       "    }\n",
       "</style>\n",
       "<table border=\"1\" class=\"dataframe\">\n",
       "  <thead>\n",
       "    <tr style=\"text-align: right;\">\n",
       "      <th></th>\n",
       "      <th>Hugo_Symbol</th>\n",
       "      <th>SWISSPROT</th>\n",
       "      <th>HGVSp_Short</th>\n",
       "      <th>Tumor_Sample_Barcode</th>\n",
       "    </tr>\n",
       "  </thead>\n",
       "  <tbody>\n",
       "    <tr>\n",
       "      <th>11822</th>\n",
       "      <td>TP53</td>\n",
       "      <td>P04637</td>\n",
       "      <td>C176F</td>\n",
       "      <td>TCGA-D8-A147</td>\n",
       "    </tr>\n",
       "  </tbody>\n",
       "</table>\n",
       "</div>"
      ],
      "text/plain": [
       "      Hugo_Symbol SWISSPROT HGVSp_Short Tumor_Sample_Barcode\n",
       "11822        TP53    P04637       C176F         TCGA-D8-A147"
      ]
     },
     "metadata": {},
     "output_type": "display_data"
    },
    {
     "name": "stdout",
     "output_type": "stream",
     "text": [
      "\n",
      " 141  -  TCGA-D8-A1J9\n"
     ]
    },
    {
     "data": {
      "text/html": [
       "<div>\n",
       "<style scoped>\n",
       "    .dataframe tbody tr th:only-of-type {\n",
       "        vertical-align: middle;\n",
       "    }\n",
       "\n",
       "    .dataframe tbody tr th {\n",
       "        vertical-align: top;\n",
       "    }\n",
       "\n",
       "    .dataframe thead th {\n",
       "        text-align: right;\n",
       "    }\n",
       "</style>\n",
       "<table border=\"1\" class=\"dataframe\">\n",
       "  <thead>\n",
       "    <tr style=\"text-align: right;\">\n",
       "      <th></th>\n",
       "      <th>Hugo_Symbol</th>\n",
       "      <th>SWISSPROT</th>\n",
       "      <th>HGVSp_Short</th>\n",
       "      <th>Tumor_Sample_Barcode</th>\n",
       "    </tr>\n",
       "  </thead>\n",
       "  <tbody>\n",
       "    <tr>\n",
       "      <th>12458</th>\n",
       "      <td>TP53</td>\n",
       "      <td>P04637</td>\n",
       "      <td>V173L</td>\n",
       "      <td>TCGA-D8-A1J9</td>\n",
       "    </tr>\n",
       "  </tbody>\n",
       "</table>\n",
       "</div>"
      ],
      "text/plain": [
       "      Hugo_Symbol SWISSPROT HGVSp_Short Tumor_Sample_Barcode\n",
       "12458        TP53    P04637       V173L         TCGA-D8-A1J9"
      ]
     },
     "metadata": {},
     "output_type": "display_data"
    },
    {
     "name": "stdout",
     "output_type": "stream",
     "text": [
      "\n",
      " 142  -  TCGA-D8-A1JF\n"
     ]
    },
    {
     "data": {
      "text/html": [
       "<div>\n",
       "<style scoped>\n",
       "    .dataframe tbody tr th:only-of-type {\n",
       "        vertical-align: middle;\n",
       "    }\n",
       "\n",
       "    .dataframe tbody tr th {\n",
       "        vertical-align: top;\n",
       "    }\n",
       "\n",
       "    .dataframe thead th {\n",
       "        text-align: right;\n",
       "    }\n",
       "</style>\n",
       "<table border=\"1\" class=\"dataframe\">\n",
       "  <thead>\n",
       "    <tr style=\"text-align: right;\">\n",
       "      <th></th>\n",
       "      <th>Hugo_Symbol</th>\n",
       "      <th>SWISSPROT</th>\n",
       "      <th>HGVSp_Short</th>\n",
       "      <th>Tumor_Sample_Barcode</th>\n",
       "    </tr>\n",
       "  </thead>\n",
       "  <tbody>\n",
       "    <tr>\n",
       "      <th>23175</th>\n",
       "      <td>TP53</td>\n",
       "      <td>P04637</td>\n",
       "      <td>H179R</td>\n",
       "      <td>TCGA-D8-A1JF</td>\n",
       "    </tr>\n",
       "  </tbody>\n",
       "</table>\n",
       "</div>"
      ],
      "text/plain": [
       "      Hugo_Symbol SWISSPROT HGVSp_Short Tumor_Sample_Barcode\n",
       "23175        TP53    P04637       H179R         TCGA-D8-A1JF"
      ]
     },
     "metadata": {},
     "output_type": "display_data"
    },
    {
     "name": "stdout",
     "output_type": "stream",
     "text": [
      "\n",
      " 143  -  TCGA-D8-A1JJ\n"
     ]
    },
    {
     "data": {
      "text/html": [
       "<div>\n",
       "<style scoped>\n",
       "    .dataframe tbody tr th:only-of-type {\n",
       "        vertical-align: middle;\n",
       "    }\n",
       "\n",
       "    .dataframe tbody tr th {\n",
       "        vertical-align: top;\n",
       "    }\n",
       "\n",
       "    .dataframe thead th {\n",
       "        text-align: right;\n",
       "    }\n",
       "</style>\n",
       "<table border=\"1\" class=\"dataframe\">\n",
       "  <thead>\n",
       "    <tr style=\"text-align: right;\">\n",
       "      <th></th>\n",
       "      <th>Hugo_Symbol</th>\n",
       "      <th>SWISSPROT</th>\n",
       "      <th>HGVSp_Short</th>\n",
       "      <th>Tumor_Sample_Barcode</th>\n",
       "    </tr>\n",
       "  </thead>\n",
       "  <tbody>\n",
       "    <tr>\n",
       "      <th>57620</th>\n",
       "      <td>TP53</td>\n",
       "      <td>P04637</td>\n",
       "      <td>C141Y</td>\n",
       "      <td>TCGA-D8-A1JJ</td>\n",
       "    </tr>\n",
       "  </tbody>\n",
       "</table>\n",
       "</div>"
      ],
      "text/plain": [
       "      Hugo_Symbol SWISSPROT HGVSp_Short Tumor_Sample_Barcode\n",
       "57620        TP53    P04637       C141Y         TCGA-D8-A1JJ"
      ]
     },
     "metadata": {},
     "output_type": "display_data"
    },
    {
     "name": "stdout",
     "output_type": "stream",
     "text": [
      "\n",
      " 144  -  TCGA-D8-A1JL\n"
     ]
    },
    {
     "data": {
      "text/html": [
       "<div>\n",
       "<style scoped>\n",
       "    .dataframe tbody tr th:only-of-type {\n",
       "        vertical-align: middle;\n",
       "    }\n",
       "\n",
       "    .dataframe tbody tr th {\n",
       "        vertical-align: top;\n",
       "    }\n",
       "\n",
       "    .dataframe thead th {\n",
       "        text-align: right;\n",
       "    }\n",
       "</style>\n",
       "<table border=\"1\" class=\"dataframe\">\n",
       "  <thead>\n",
       "    <tr style=\"text-align: right;\">\n",
       "      <th></th>\n",
       "      <th>Hugo_Symbol</th>\n",
       "      <th>SWISSPROT</th>\n",
       "      <th>HGVSp_Short</th>\n",
       "      <th>Tumor_Sample_Barcode</th>\n",
       "    </tr>\n",
       "  </thead>\n",
       "  <tbody>\n",
       "    <tr>\n",
       "      <th>33675</th>\n",
       "      <td>TP53</td>\n",
       "      <td>P04637</td>\n",
       "      <td>H193L</td>\n",
       "      <td>TCGA-D8-A1JL</td>\n",
       "    </tr>\n",
       "  </tbody>\n",
       "</table>\n",
       "</div>"
      ],
      "text/plain": [
       "      Hugo_Symbol SWISSPROT HGVSp_Short Tumor_Sample_Barcode\n",
       "33675        TP53    P04637       H193L         TCGA-D8-A1JL"
      ]
     },
     "metadata": {},
     "output_type": "display_data"
    },
    {
     "name": "stdout",
     "output_type": "stream",
     "text": [
      "\n",
      " 145  -  TCGA-D8-A1JM\n"
     ]
    },
    {
     "data": {
      "text/html": [
       "<div>\n",
       "<style scoped>\n",
       "    .dataframe tbody tr th:only-of-type {\n",
       "        vertical-align: middle;\n",
       "    }\n",
       "\n",
       "    .dataframe tbody tr th {\n",
       "        vertical-align: top;\n",
       "    }\n",
       "\n",
       "    .dataframe thead th {\n",
       "        text-align: right;\n",
       "    }\n",
       "</style>\n",
       "<table border=\"1\" class=\"dataframe\">\n",
       "  <thead>\n",
       "    <tr style=\"text-align: right;\">\n",
       "      <th></th>\n",
       "      <th>Hugo_Symbol</th>\n",
       "      <th>SWISSPROT</th>\n",
       "      <th>HGVSp_Short</th>\n",
       "      <th>Tumor_Sample_Barcode</th>\n",
       "    </tr>\n",
       "  </thead>\n",
       "  <tbody>\n",
       "    <tr>\n",
       "      <th>31712</th>\n",
       "      <td>TP53</td>\n",
       "      <td>P04637</td>\n",
       "      <td>R273H</td>\n",
       "      <td>TCGA-D8-A1JM</td>\n",
       "    </tr>\n",
       "  </tbody>\n",
       "</table>\n",
       "</div>"
      ],
      "text/plain": [
       "      Hugo_Symbol SWISSPROT HGVSp_Short Tumor_Sample_Barcode\n",
       "31712        TP53    P04637       R273H         TCGA-D8-A1JM"
      ]
     },
     "metadata": {},
     "output_type": "display_data"
    },
    {
     "name": "stdout",
     "output_type": "stream",
     "text": [
      "\n",
      " 146  -  TCGA-D8-A1X5\n"
     ]
    },
    {
     "data": {
      "text/html": [
       "<div>\n",
       "<style scoped>\n",
       "    .dataframe tbody tr th:only-of-type {\n",
       "        vertical-align: middle;\n",
       "    }\n",
       "\n",
       "    .dataframe tbody tr th {\n",
       "        vertical-align: top;\n",
       "    }\n",
       "\n",
       "    .dataframe thead th {\n",
       "        text-align: right;\n",
       "    }\n",
       "</style>\n",
       "<table border=\"1\" class=\"dataframe\">\n",
       "  <thead>\n",
       "    <tr style=\"text-align: right;\">\n",
       "      <th></th>\n",
       "      <th>Hugo_Symbol</th>\n",
       "      <th>SWISSPROT</th>\n",
       "      <th>HGVSp_Short</th>\n",
       "      <th>Tumor_Sample_Barcode</th>\n",
       "    </tr>\n",
       "  </thead>\n",
       "  <tbody>\n",
       "    <tr>\n",
       "      <th>26202</th>\n",
       "      <td>TP53</td>\n",
       "      <td>P04637</td>\n",
       "      <td>C238F</td>\n",
       "      <td>TCGA-D8-A1X5</td>\n",
       "    </tr>\n",
       "  </tbody>\n",
       "</table>\n",
       "</div>"
      ],
      "text/plain": [
       "      Hugo_Symbol SWISSPROT HGVSp_Short Tumor_Sample_Barcode\n",
       "26202        TP53    P04637       C238F         TCGA-D8-A1X5"
      ]
     },
     "metadata": {},
     "output_type": "display_data"
    },
    {
     "name": "stdout",
     "output_type": "stream",
     "text": [
      "\n",
      " 147  -  TCGA-D8-A1XJ\n"
     ]
    },
    {
     "data": {
      "text/html": [
       "<div>\n",
       "<style scoped>\n",
       "    .dataframe tbody tr th:only-of-type {\n",
       "        vertical-align: middle;\n",
       "    }\n",
       "\n",
       "    .dataframe tbody tr th {\n",
       "        vertical-align: top;\n",
       "    }\n",
       "\n",
       "    .dataframe thead th {\n",
       "        text-align: right;\n",
       "    }\n",
       "</style>\n",
       "<table border=\"1\" class=\"dataframe\">\n",
       "  <thead>\n",
       "    <tr style=\"text-align: right;\">\n",
       "      <th></th>\n",
       "      <th>Hugo_Symbol</th>\n",
       "      <th>SWISSPROT</th>\n",
       "      <th>HGVSp_Short</th>\n",
       "      <th>Tumor_Sample_Barcode</th>\n",
       "    </tr>\n",
       "  </thead>\n",
       "  <tbody>\n",
       "    <tr>\n",
       "      <th>14248</th>\n",
       "      <td>TP53</td>\n",
       "      <td>P04637</td>\n",
       "      <td>R282G</td>\n",
       "      <td>TCGA-D8-A1XJ</td>\n",
       "    </tr>\n",
       "  </tbody>\n",
       "</table>\n",
       "</div>"
      ],
      "text/plain": [
       "      Hugo_Symbol SWISSPROT HGVSp_Short Tumor_Sample_Barcode\n",
       "14248        TP53    P04637       R282G         TCGA-D8-A1XJ"
      ]
     },
     "metadata": {},
     "output_type": "display_data"
    },
    {
     "name": "stdout",
     "output_type": "stream",
     "text": [
      "\n",
      " 148  -  TCGA-D8-A1XL\n"
     ]
    },
    {
     "data": {
      "text/html": [
       "<div>\n",
       "<style scoped>\n",
       "    .dataframe tbody tr th:only-of-type {\n",
       "        vertical-align: middle;\n",
       "    }\n",
       "\n",
       "    .dataframe tbody tr th {\n",
       "        vertical-align: top;\n",
       "    }\n",
       "\n",
       "    .dataframe thead th {\n",
       "        text-align: right;\n",
       "    }\n",
       "</style>\n",
       "<table border=\"1\" class=\"dataframe\">\n",
       "  <thead>\n",
       "    <tr style=\"text-align: right;\">\n",
       "      <th></th>\n",
       "      <th>Hugo_Symbol</th>\n",
       "      <th>SWISSPROT</th>\n",
       "      <th>HGVSp_Short</th>\n",
       "      <th>Tumor_Sample_Barcode</th>\n",
       "    </tr>\n",
       "  </thead>\n",
       "  <tbody>\n",
       "    <tr>\n",
       "      <th>41924</th>\n",
       "      <td>TP53</td>\n",
       "      <td>P04637</td>\n",
       "      <td>R248W</td>\n",
       "      <td>TCGA-D8-A1XL</td>\n",
       "    </tr>\n",
       "  </tbody>\n",
       "</table>\n",
       "</div>"
      ],
      "text/plain": [
       "      Hugo_Symbol SWISSPROT HGVSp_Short Tumor_Sample_Barcode\n",
       "41924        TP53    P04637       R248W         TCGA-D8-A1XL"
      ]
     },
     "metadata": {},
     "output_type": "display_data"
    },
    {
     "name": "stdout",
     "output_type": "stream",
     "text": [
      "\n",
      " 149  -  TCGA-D8-A1XT\n"
     ]
    },
    {
     "data": {
      "text/html": [
       "<div>\n",
       "<style scoped>\n",
       "    .dataframe tbody tr th:only-of-type {\n",
       "        vertical-align: middle;\n",
       "    }\n",
       "\n",
       "    .dataframe tbody tr th {\n",
       "        vertical-align: top;\n",
       "    }\n",
       "\n",
       "    .dataframe thead th {\n",
       "        text-align: right;\n",
       "    }\n",
       "</style>\n",
       "<table border=\"1\" class=\"dataframe\">\n",
       "  <thead>\n",
       "    <tr style=\"text-align: right;\">\n",
       "      <th></th>\n",
       "      <th>Hugo_Symbol</th>\n",
       "      <th>SWISSPROT</th>\n",
       "      <th>HGVSp_Short</th>\n",
       "      <th>Tumor_Sample_Barcode</th>\n",
       "    </tr>\n",
       "  </thead>\n",
       "  <tbody>\n",
       "    <tr>\n",
       "      <th>57405</th>\n",
       "      <td>TP53</td>\n",
       "      <td>P04637</td>\n",
       "      <td>A276P</td>\n",
       "      <td>TCGA-D8-A1XT</td>\n",
       "    </tr>\n",
       "  </tbody>\n",
       "</table>\n",
       "</div>"
      ],
      "text/plain": [
       "      Hugo_Symbol SWISSPROT HGVSp_Short Tumor_Sample_Barcode\n",
       "57405        TP53    P04637       A276P         TCGA-D8-A1XT"
      ]
     },
     "metadata": {},
     "output_type": "display_data"
    },
    {
     "name": "stdout",
     "output_type": "stream",
     "text": [
      "\n",
      " 150  -  TCGA-D8-A1XW\n"
     ]
    },
    {
     "data": {
      "text/html": [
       "<div>\n",
       "<style scoped>\n",
       "    .dataframe tbody tr th:only-of-type {\n",
       "        vertical-align: middle;\n",
       "    }\n",
       "\n",
       "    .dataframe tbody tr th {\n",
       "        vertical-align: top;\n",
       "    }\n",
       "\n",
       "    .dataframe thead th {\n",
       "        text-align: right;\n",
       "    }\n",
       "</style>\n",
       "<table border=\"1\" class=\"dataframe\">\n",
       "  <thead>\n",
       "    <tr style=\"text-align: right;\">\n",
       "      <th></th>\n",
       "      <th>Hugo_Symbol</th>\n",
       "      <th>SWISSPROT</th>\n",
       "      <th>HGVSp_Short</th>\n",
       "      <th>Tumor_Sample_Barcode</th>\n",
       "    </tr>\n",
       "  </thead>\n",
       "  <tbody>\n",
       "    <tr>\n",
       "      <th>23848</th>\n",
       "      <td>TP53</td>\n",
       "      <td>P04637</td>\n",
       "      <td>Y126N</td>\n",
       "      <td>TCGA-D8-A1XW</td>\n",
       "    </tr>\n",
       "  </tbody>\n",
       "</table>\n",
       "</div>"
      ],
      "text/plain": [
       "      Hugo_Symbol SWISSPROT HGVSp_Short Tumor_Sample_Barcode\n",
       "23848        TP53    P04637       Y126N         TCGA-D8-A1XW"
      ]
     },
     "metadata": {},
     "output_type": "display_data"
    },
    {
     "name": "stdout",
     "output_type": "stream",
     "text": [
      "\n",
      " 151  -  TCGA-D8-A27N\n"
     ]
    },
    {
     "data": {
      "text/html": [
       "<div>\n",
       "<style scoped>\n",
       "    .dataframe tbody tr th:only-of-type {\n",
       "        vertical-align: middle;\n",
       "    }\n",
       "\n",
       "    .dataframe tbody tr th {\n",
       "        vertical-align: top;\n",
       "    }\n",
       "\n",
       "    .dataframe thead th {\n",
       "        text-align: right;\n",
       "    }\n",
       "</style>\n",
       "<table border=\"1\" class=\"dataframe\">\n",
       "  <thead>\n",
       "    <tr style=\"text-align: right;\">\n",
       "      <th></th>\n",
       "      <th>Hugo_Symbol</th>\n",
       "      <th>SWISSPROT</th>\n",
       "      <th>HGVSp_Short</th>\n",
       "      <th>Tumor_Sample_Barcode</th>\n",
       "    </tr>\n",
       "  </thead>\n",
       "  <tbody>\n",
       "    <tr>\n",
       "      <th>32924</th>\n",
       "      <td>TP53</td>\n",
       "      <td>P04637</td>\n",
       "      <td>R175H</td>\n",
       "      <td>TCGA-D8-A27N</td>\n",
       "    </tr>\n",
       "  </tbody>\n",
       "</table>\n",
       "</div>"
      ],
      "text/plain": [
       "      Hugo_Symbol SWISSPROT HGVSp_Short Tumor_Sample_Barcode\n",
       "32924        TP53    P04637       R175H         TCGA-D8-A27N"
      ]
     },
     "metadata": {},
     "output_type": "display_data"
    },
    {
     "name": "stdout",
     "output_type": "stream",
     "text": [
      "\n",
      " 152  -  TCGA-E2-A14P\n"
     ]
    },
    {
     "data": {
      "text/html": [
       "<div>\n",
       "<style scoped>\n",
       "    .dataframe tbody tr th:only-of-type {\n",
       "        vertical-align: middle;\n",
       "    }\n",
       "\n",
       "    .dataframe tbody tr th {\n",
       "        vertical-align: top;\n",
       "    }\n",
       "\n",
       "    .dataframe thead th {\n",
       "        text-align: right;\n",
       "    }\n",
       "</style>\n",
       "<table border=\"1\" class=\"dataframe\">\n",
       "  <thead>\n",
       "    <tr style=\"text-align: right;\">\n",
       "      <th></th>\n",
       "      <th>Hugo_Symbol</th>\n",
       "      <th>SWISSPROT</th>\n",
       "      <th>HGVSp_Short</th>\n",
       "      <th>Tumor_Sample_Barcode</th>\n",
       "    </tr>\n",
       "  </thead>\n",
       "  <tbody>\n",
       "    <tr>\n",
       "      <th>24801</th>\n",
       "      <td>TP53</td>\n",
       "      <td>P04637</td>\n",
       "      <td>V157F</td>\n",
       "      <td>TCGA-E2-A14P</td>\n",
       "    </tr>\n",
       "  </tbody>\n",
       "</table>\n",
       "</div>"
      ],
      "text/plain": [
       "      Hugo_Symbol SWISSPROT HGVSp_Short Tumor_Sample_Barcode\n",
       "24801        TP53    P04637       V157F         TCGA-E2-A14P"
      ]
     },
     "metadata": {},
     "output_type": "display_data"
    },
    {
     "name": "stdout",
     "output_type": "stream",
     "text": [
      "\n",
      " 153  -  TCGA-E2-A14R\n"
     ]
    },
    {
     "data": {
      "text/html": [
       "<div>\n",
       "<style scoped>\n",
       "    .dataframe tbody tr th:only-of-type {\n",
       "        vertical-align: middle;\n",
       "    }\n",
       "\n",
       "    .dataframe tbody tr th {\n",
       "        vertical-align: top;\n",
       "    }\n",
       "\n",
       "    .dataframe thead th {\n",
       "        text-align: right;\n",
       "    }\n",
       "</style>\n",
       "<table border=\"1\" class=\"dataframe\">\n",
       "  <thead>\n",
       "    <tr style=\"text-align: right;\">\n",
       "      <th></th>\n",
       "      <th>Hugo_Symbol</th>\n",
       "      <th>SWISSPROT</th>\n",
       "      <th>HGVSp_Short</th>\n",
       "      <th>Tumor_Sample_Barcode</th>\n",
       "    </tr>\n",
       "  </thead>\n",
       "  <tbody>\n",
       "    <tr>\n",
       "      <th>9904</th>\n",
       "      <td>TP53</td>\n",
       "      <td>P04637</td>\n",
       "      <td>I195T</td>\n",
       "      <td>TCGA-E2-A14R</td>\n",
       "    </tr>\n",
       "  </tbody>\n",
       "</table>\n",
       "</div>"
      ],
      "text/plain": [
       "     Hugo_Symbol SWISSPROT HGVSp_Short Tumor_Sample_Barcode\n",
       "9904        TP53    P04637       I195T         TCGA-E2-A14R"
      ]
     },
     "metadata": {},
     "output_type": "display_data"
    },
    {
     "name": "stdout",
     "output_type": "stream",
     "text": [
      "\n",
      " 154  -  TCGA-E2-A14Y\n"
     ]
    },
    {
     "data": {
      "text/html": [
       "<div>\n",
       "<style scoped>\n",
       "    .dataframe tbody tr th:only-of-type {\n",
       "        vertical-align: middle;\n",
       "    }\n",
       "\n",
       "    .dataframe tbody tr th {\n",
       "        vertical-align: top;\n",
       "    }\n",
       "\n",
       "    .dataframe thead th {\n",
       "        text-align: right;\n",
       "    }\n",
       "</style>\n",
       "<table border=\"1\" class=\"dataframe\">\n",
       "  <thead>\n",
       "    <tr style=\"text-align: right;\">\n",
       "      <th></th>\n",
       "      <th>Hugo_Symbol</th>\n",
       "      <th>SWISSPROT</th>\n",
       "      <th>HGVSp_Short</th>\n",
       "      <th>Tumor_Sample_Barcode</th>\n",
       "    </tr>\n",
       "  </thead>\n",
       "  <tbody>\n",
       "    <tr>\n",
       "      <th>57086</th>\n",
       "      <td>TP53</td>\n",
       "      <td>P04637</td>\n",
       "      <td>Q136E</td>\n",
       "      <td>TCGA-E2-A14Y</td>\n",
       "    </tr>\n",
       "  </tbody>\n",
       "</table>\n",
       "</div>"
      ],
      "text/plain": [
       "      Hugo_Symbol SWISSPROT HGVSp_Short Tumor_Sample_Barcode\n",
       "57086        TP53    P04637       Q136E         TCGA-E2-A14Y"
      ]
     },
     "metadata": {},
     "output_type": "display_data"
    },
    {
     "name": "stdout",
     "output_type": "stream",
     "text": [
      "\n",
      " 155  -  TCGA-E2-A14Z\n"
     ]
    },
    {
     "data": {
      "text/html": [
       "<div>\n",
       "<style scoped>\n",
       "    .dataframe tbody tr th:only-of-type {\n",
       "        vertical-align: middle;\n",
       "    }\n",
       "\n",
       "    .dataframe tbody tr th {\n",
       "        vertical-align: top;\n",
       "    }\n",
       "\n",
       "    .dataframe thead th {\n",
       "        text-align: right;\n",
       "    }\n",
       "</style>\n",
       "<table border=\"1\" class=\"dataframe\">\n",
       "  <thead>\n",
       "    <tr style=\"text-align: right;\">\n",
       "      <th></th>\n",
       "      <th>Hugo_Symbol</th>\n",
       "      <th>SWISSPROT</th>\n",
       "      <th>HGVSp_Short</th>\n",
       "      <th>Tumor_Sample_Barcode</th>\n",
       "    </tr>\n",
       "  </thead>\n",
       "  <tbody>\n",
       "    <tr>\n",
       "      <th>49999</th>\n",
       "      <td>TP53</td>\n",
       "      <td>P04637</td>\n",
       "      <td>R282W</td>\n",
       "      <td>TCGA-E2-A14Z</td>\n",
       "    </tr>\n",
       "  </tbody>\n",
       "</table>\n",
       "</div>"
      ],
      "text/plain": [
       "      Hugo_Symbol SWISSPROT HGVSp_Short Tumor_Sample_Barcode\n",
       "49999        TP53    P04637       R282W         TCGA-E2-A14Z"
      ]
     },
     "metadata": {},
     "output_type": "display_data"
    },
    {
     "name": "stdout",
     "output_type": "stream",
     "text": [
      "\n",
      " 156  -  TCGA-E2-A152\n"
     ]
    },
    {
     "data": {
      "text/html": [
       "<div>\n",
       "<style scoped>\n",
       "    .dataframe tbody tr th:only-of-type {\n",
       "        vertical-align: middle;\n",
       "    }\n",
       "\n",
       "    .dataframe tbody tr th {\n",
       "        vertical-align: top;\n",
       "    }\n",
       "\n",
       "    .dataframe thead th {\n",
       "        text-align: right;\n",
       "    }\n",
       "</style>\n",
       "<table border=\"1\" class=\"dataframe\">\n",
       "  <thead>\n",
       "    <tr style=\"text-align: right;\">\n",
       "      <th></th>\n",
       "      <th>Hugo_Symbol</th>\n",
       "      <th>SWISSPROT</th>\n",
       "      <th>HGVSp_Short</th>\n",
       "      <th>Tumor_Sample_Barcode</th>\n",
       "    </tr>\n",
       "  </thead>\n",
       "  <tbody>\n",
       "    <tr>\n",
       "      <th>19951</th>\n",
       "      <td>TP53</td>\n",
       "      <td>P04637</td>\n",
       "      <td>K132E</td>\n",
       "      <td>TCGA-E2-A152</td>\n",
       "    </tr>\n",
       "  </tbody>\n",
       "</table>\n",
       "</div>"
      ],
      "text/plain": [
       "      Hugo_Symbol SWISSPROT HGVSp_Short Tumor_Sample_Barcode\n",
       "19951        TP53    P04637       K132E         TCGA-E2-A152"
      ]
     },
     "metadata": {},
     "output_type": "display_data"
    },
    {
     "name": "stdout",
     "output_type": "stream",
     "text": [
      "\n",
      " 157  -  TCGA-E2-A158\n"
     ]
    },
    {
     "data": {
      "text/html": [
       "<div>\n",
       "<style scoped>\n",
       "    .dataframe tbody tr th:only-of-type {\n",
       "        vertical-align: middle;\n",
       "    }\n",
       "\n",
       "    .dataframe tbody tr th {\n",
       "        vertical-align: top;\n",
       "    }\n",
       "\n",
       "    .dataframe thead th {\n",
       "        text-align: right;\n",
       "    }\n",
       "</style>\n",
       "<table border=\"1\" class=\"dataframe\">\n",
       "  <thead>\n",
       "    <tr style=\"text-align: right;\">\n",
       "      <th></th>\n",
       "      <th>Hugo_Symbol</th>\n",
       "      <th>SWISSPROT</th>\n",
       "      <th>HGVSp_Short</th>\n",
       "      <th>Tumor_Sample_Barcode</th>\n",
       "    </tr>\n",
       "  </thead>\n",
       "  <tbody>\n",
       "    <tr>\n",
       "      <th>34344</th>\n",
       "      <td>TP53</td>\n",
       "      <td>P04637</td>\n",
       "      <td>I195T</td>\n",
       "      <td>TCGA-E2-A158</td>\n",
       "    </tr>\n",
       "  </tbody>\n",
       "</table>\n",
       "</div>"
      ],
      "text/plain": [
       "      Hugo_Symbol SWISSPROT HGVSp_Short Tumor_Sample_Barcode\n",
       "34344        TP53    P04637       I195T         TCGA-E2-A158"
      ]
     },
     "metadata": {},
     "output_type": "display_data"
    },
    {
     "name": "stdout",
     "output_type": "stream",
     "text": [
      "\n",
      " 158  -  TCGA-E2-A159\n"
     ]
    },
    {
     "data": {
      "text/html": [
       "<div>\n",
       "<style scoped>\n",
       "    .dataframe tbody tr th:only-of-type {\n",
       "        vertical-align: middle;\n",
       "    }\n",
       "\n",
       "    .dataframe tbody tr th {\n",
       "        vertical-align: top;\n",
       "    }\n",
       "\n",
       "    .dataframe thead th {\n",
       "        text-align: right;\n",
       "    }\n",
       "</style>\n",
       "<table border=\"1\" class=\"dataframe\">\n",
       "  <thead>\n",
       "    <tr style=\"text-align: right;\">\n",
       "      <th></th>\n",
       "      <th>Hugo_Symbol</th>\n",
       "      <th>SWISSPROT</th>\n",
       "      <th>HGVSp_Short</th>\n",
       "      <th>Tumor_Sample_Barcode</th>\n",
       "    </tr>\n",
       "  </thead>\n",
       "  <tbody>\n",
       "    <tr>\n",
       "      <th>10051</th>\n",
       "      <td>TP53</td>\n",
       "      <td>P04637</td>\n",
       "      <td>V216M</td>\n",
       "      <td>TCGA-E2-A159</td>\n",
       "    </tr>\n",
       "  </tbody>\n",
       "</table>\n",
       "</div>"
      ],
      "text/plain": [
       "      Hugo_Symbol SWISSPROT HGVSp_Short Tumor_Sample_Barcode\n",
       "10051        TP53    P04637       V216M         TCGA-E2-A159"
      ]
     },
     "metadata": {},
     "output_type": "display_data"
    },
    {
     "name": "stdout",
     "output_type": "stream",
     "text": [
      "\n",
      " 159  -  TCGA-E2-A15E\n"
     ]
    },
    {
     "data": {
      "text/html": [
       "<div>\n",
       "<style scoped>\n",
       "    .dataframe tbody tr th:only-of-type {\n",
       "        vertical-align: middle;\n",
       "    }\n",
       "\n",
       "    .dataframe tbody tr th {\n",
       "        vertical-align: top;\n",
       "    }\n",
       "\n",
       "    .dataframe thead th {\n",
       "        text-align: right;\n",
       "    }\n",
       "</style>\n",
       "<table border=\"1\" class=\"dataframe\">\n",
       "  <thead>\n",
       "    <tr style=\"text-align: right;\">\n",
       "      <th></th>\n",
       "      <th>Hugo_Symbol</th>\n",
       "      <th>SWISSPROT</th>\n",
       "      <th>HGVSp_Short</th>\n",
       "      <th>Tumor_Sample_Barcode</th>\n",
       "    </tr>\n",
       "  </thead>\n",
       "  <tbody>\n",
       "    <tr>\n",
       "      <th>2257</th>\n",
       "      <td>TP53</td>\n",
       "      <td>P04637</td>\n",
       "      <td>H193R</td>\n",
       "      <td>TCGA-E2-A15E</td>\n",
       "    </tr>\n",
       "  </tbody>\n",
       "</table>\n",
       "</div>"
      ],
      "text/plain": [
       "     Hugo_Symbol SWISSPROT HGVSp_Short Tumor_Sample_Barcode\n",
       "2257        TP53    P04637       H193R         TCGA-E2-A15E"
      ]
     },
     "metadata": {},
     "output_type": "display_data"
    },
    {
     "name": "stdout",
     "output_type": "stream",
     "text": [
      "\n",
      " 160  -  TCGA-E2-A15M\n"
     ]
    },
    {
     "data": {
      "text/html": [
       "<div>\n",
       "<style scoped>\n",
       "    .dataframe tbody tr th:only-of-type {\n",
       "        vertical-align: middle;\n",
       "    }\n",
       "\n",
       "    .dataframe tbody tr th {\n",
       "        vertical-align: top;\n",
       "    }\n",
       "\n",
       "    .dataframe thead th {\n",
       "        text-align: right;\n",
       "    }\n",
       "</style>\n",
       "<table border=\"1\" class=\"dataframe\">\n",
       "  <thead>\n",
       "    <tr style=\"text-align: right;\">\n",
       "      <th></th>\n",
       "      <th>Hugo_Symbol</th>\n",
       "      <th>SWISSPROT</th>\n",
       "      <th>HGVSp_Short</th>\n",
       "      <th>Tumor_Sample_Barcode</th>\n",
       "    </tr>\n",
       "  </thead>\n",
       "  <tbody>\n",
       "    <tr>\n",
       "      <th>16068</th>\n",
       "      <td>TP53</td>\n",
       "      <td>P04637</td>\n",
       "      <td>L130V</td>\n",
       "      <td>TCGA-E2-A15M</td>\n",
       "    </tr>\n",
       "  </tbody>\n",
       "</table>\n",
       "</div>"
      ],
      "text/plain": [
       "      Hugo_Symbol SWISSPROT HGVSp_Short Tumor_Sample_Barcode\n",
       "16068        TP53    P04637       L130V         TCGA-E2-A15M"
      ]
     },
     "metadata": {},
     "output_type": "display_data"
    },
    {
     "name": "stdout",
     "output_type": "stream",
     "text": [
      "\n",
      " 161  -  TCGA-E2-A1B0\n"
     ]
    },
    {
     "data": {
      "text/html": [
       "<div>\n",
       "<style scoped>\n",
       "    .dataframe tbody tr th:only-of-type {\n",
       "        vertical-align: middle;\n",
       "    }\n",
       "\n",
       "    .dataframe tbody tr th {\n",
       "        vertical-align: top;\n",
       "    }\n",
       "\n",
       "    .dataframe thead th {\n",
       "        text-align: right;\n",
       "    }\n",
       "</style>\n",
       "<table border=\"1\" class=\"dataframe\">\n",
       "  <thead>\n",
       "    <tr style=\"text-align: right;\">\n",
       "      <th></th>\n",
       "      <th>Hugo_Symbol</th>\n",
       "      <th>SWISSPROT</th>\n",
       "      <th>HGVSp_Short</th>\n",
       "      <th>Tumor_Sample_Barcode</th>\n",
       "    </tr>\n",
       "  </thead>\n",
       "  <tbody>\n",
       "    <tr>\n",
       "      <th>34137</th>\n",
       "      <td>TP53</td>\n",
       "      <td>P04637</td>\n",
       "      <td>K132N</td>\n",
       "      <td>TCGA-E2-A1B0</td>\n",
       "    </tr>\n",
       "  </tbody>\n",
       "</table>\n",
       "</div>"
      ],
      "text/plain": [
       "      Hugo_Symbol SWISSPROT HGVSp_Short Tumor_Sample_Barcode\n",
       "34137        TP53    P04637       K132N         TCGA-E2-A1B0"
      ]
     },
     "metadata": {},
     "output_type": "display_data"
    },
    {
     "name": "stdout",
     "output_type": "stream",
     "text": [
      "\n",
      " 162  -  TCGA-E2-A1B1\n"
     ]
    },
    {
     "data": {
      "text/html": [
       "<div>\n",
       "<style scoped>\n",
       "    .dataframe tbody tr th:only-of-type {\n",
       "        vertical-align: middle;\n",
       "    }\n",
       "\n",
       "    .dataframe tbody tr th {\n",
       "        vertical-align: top;\n",
       "    }\n",
       "\n",
       "    .dataframe thead th {\n",
       "        text-align: right;\n",
       "    }\n",
       "</style>\n",
       "<table border=\"1\" class=\"dataframe\">\n",
       "  <thead>\n",
       "    <tr style=\"text-align: right;\">\n",
       "      <th></th>\n",
       "      <th>Hugo_Symbol</th>\n",
       "      <th>SWISSPROT</th>\n",
       "      <th>HGVSp_Short</th>\n",
       "      <th>Tumor_Sample_Barcode</th>\n",
       "    </tr>\n",
       "  </thead>\n",
       "  <tbody>\n",
       "    <tr>\n",
       "      <th>13552</th>\n",
       "      <td>TP53</td>\n",
       "      <td>P04637</td>\n",
       "      <td>P27S</td>\n",
       "      <td>TCGA-E2-A1B1</td>\n",
       "    </tr>\n",
       "  </tbody>\n",
       "</table>\n",
       "</div>"
      ],
      "text/plain": [
       "      Hugo_Symbol SWISSPROT HGVSp_Short Tumor_Sample_Barcode\n",
       "13552        TP53    P04637        P27S         TCGA-E2-A1B1"
      ]
     },
     "metadata": {},
     "output_type": "display_data"
    },
    {
     "name": "stdout",
     "output_type": "stream",
     "text": [
      "\n",
      " 163  -  TCGA-E2-A1IN\n"
     ]
    },
    {
     "data": {
      "text/html": [
       "<div>\n",
       "<style scoped>\n",
       "    .dataframe tbody tr th:only-of-type {\n",
       "        vertical-align: middle;\n",
       "    }\n",
       "\n",
       "    .dataframe tbody tr th {\n",
       "        vertical-align: top;\n",
       "    }\n",
       "\n",
       "    .dataframe thead th {\n",
       "        text-align: right;\n",
       "    }\n",
       "</style>\n",
       "<table border=\"1\" class=\"dataframe\">\n",
       "  <thead>\n",
       "    <tr style=\"text-align: right;\">\n",
       "      <th></th>\n",
       "      <th>Hugo_Symbol</th>\n",
       "      <th>SWISSPROT</th>\n",
       "      <th>HGVSp_Short</th>\n",
       "      <th>Tumor_Sample_Barcode</th>\n",
       "    </tr>\n",
       "  </thead>\n",
       "  <tbody>\n",
       "    <tr>\n",
       "      <th>22472</th>\n",
       "      <td>TP53</td>\n",
       "      <td>P04637</td>\n",
       "      <td>V157G</td>\n",
       "      <td>TCGA-E2-A1IN</td>\n",
       "    </tr>\n",
       "  </tbody>\n",
       "</table>\n",
       "</div>"
      ],
      "text/plain": [
       "      Hugo_Symbol SWISSPROT HGVSp_Short Tumor_Sample_Barcode\n",
       "22472        TP53    P04637       V157G         TCGA-E2-A1IN"
      ]
     },
     "metadata": {},
     "output_type": "display_data"
    },
    {
     "name": "stdout",
     "output_type": "stream",
     "text": [
      "\n",
      " 164  -  TCGA-E2-A1L7\n"
     ]
    },
    {
     "data": {
      "text/html": [
       "<div>\n",
       "<style scoped>\n",
       "    .dataframe tbody tr th:only-of-type {\n",
       "        vertical-align: middle;\n",
       "    }\n",
       "\n",
       "    .dataframe tbody tr th {\n",
       "        vertical-align: top;\n",
       "    }\n",
       "\n",
       "    .dataframe thead th {\n",
       "        text-align: right;\n",
       "    }\n",
       "</style>\n",
       "<table border=\"1\" class=\"dataframe\">\n",
       "  <thead>\n",
       "    <tr style=\"text-align: right;\">\n",
       "      <th></th>\n",
       "      <th>Hugo_Symbol</th>\n",
       "      <th>SWISSPROT</th>\n",
       "      <th>HGVSp_Short</th>\n",
       "      <th>Tumor_Sample_Barcode</th>\n",
       "    </tr>\n",
       "  </thead>\n",
       "  <tbody>\n",
       "    <tr>\n",
       "      <th>13158</th>\n",
       "      <td>TP53</td>\n",
       "      <td>P04637</td>\n",
       "      <td>I255F</td>\n",
       "      <td>TCGA-E2-A1L7</td>\n",
       "    </tr>\n",
       "  </tbody>\n",
       "</table>\n",
       "</div>"
      ],
      "text/plain": [
       "      Hugo_Symbol SWISSPROT HGVSp_Short Tumor_Sample_Barcode\n",
       "13158        TP53    P04637       I255F         TCGA-E2-A1L7"
      ]
     },
     "metadata": {},
     "output_type": "display_data"
    },
    {
     "name": "stdout",
     "output_type": "stream",
     "text": [
      "\n",
      " 165  -  TCGA-E2-A1LH\n"
     ]
    },
    {
     "data": {
      "text/html": [
       "<div>\n",
       "<style scoped>\n",
       "    .dataframe tbody tr th:only-of-type {\n",
       "        vertical-align: middle;\n",
       "    }\n",
       "\n",
       "    .dataframe tbody tr th {\n",
       "        vertical-align: top;\n",
       "    }\n",
       "\n",
       "    .dataframe thead th {\n",
       "        text-align: right;\n",
       "    }\n",
       "</style>\n",
       "<table border=\"1\" class=\"dataframe\">\n",
       "  <thead>\n",
       "    <tr style=\"text-align: right;\">\n",
       "      <th></th>\n",
       "      <th>Hugo_Symbol</th>\n",
       "      <th>SWISSPROT</th>\n",
       "      <th>HGVSp_Short</th>\n",
       "      <th>Tumor_Sample_Barcode</th>\n",
       "    </tr>\n",
       "  </thead>\n",
       "  <tbody>\n",
       "    <tr>\n",
       "      <th>35999</th>\n",
       "      <td>TP53</td>\n",
       "      <td>P04637</td>\n",
       "      <td>K132T</td>\n",
       "      <td>TCGA-E2-A1LH</td>\n",
       "    </tr>\n",
       "  </tbody>\n",
       "</table>\n",
       "</div>"
      ],
      "text/plain": [
       "      Hugo_Symbol SWISSPROT HGVSp_Short Tumor_Sample_Barcode\n",
       "35999        TP53    P04637       K132T         TCGA-E2-A1LH"
      ]
     },
     "metadata": {},
     "output_type": "display_data"
    },
    {
     "name": "stdout",
     "output_type": "stream",
     "text": [
      "\n",
      " 166  -  TCGA-E2-A1LS\n"
     ]
    },
    {
     "data": {
      "text/html": [
       "<div>\n",
       "<style scoped>\n",
       "    .dataframe tbody tr th:only-of-type {\n",
       "        vertical-align: middle;\n",
       "    }\n",
       "\n",
       "    .dataframe tbody tr th {\n",
       "        vertical-align: top;\n",
       "    }\n",
       "\n",
       "    .dataframe thead th {\n",
       "        text-align: right;\n",
       "    }\n",
       "</style>\n",
       "<table border=\"1\" class=\"dataframe\">\n",
       "  <thead>\n",
       "    <tr style=\"text-align: right;\">\n",
       "      <th></th>\n",
       "      <th>Hugo_Symbol</th>\n",
       "      <th>SWISSPROT</th>\n",
       "      <th>HGVSp_Short</th>\n",
       "      <th>Tumor_Sample_Barcode</th>\n",
       "    </tr>\n",
       "  </thead>\n",
       "  <tbody>\n",
       "    <tr>\n",
       "      <th>52551</th>\n",
       "      <td>TP53</td>\n",
       "      <td>P04637</td>\n",
       "      <td>E286K</td>\n",
       "      <td>TCGA-E2-A1LS</td>\n",
       "    </tr>\n",
       "  </tbody>\n",
       "</table>\n",
       "</div>"
      ],
      "text/plain": [
       "      Hugo_Symbol SWISSPROT HGVSp_Short Tumor_Sample_Barcode\n",
       "52551        TP53    P04637       E286K         TCGA-E2-A1LS"
      ]
     },
     "metadata": {},
     "output_type": "display_data"
    },
    {
     "name": "stdout",
     "output_type": "stream",
     "text": [
      "\n",
      " 167  -  TCGA-E2-A573\n"
     ]
    },
    {
     "data": {
      "text/html": [
       "<div>\n",
       "<style scoped>\n",
       "    .dataframe tbody tr th:only-of-type {\n",
       "        vertical-align: middle;\n",
       "    }\n",
       "\n",
       "    .dataframe tbody tr th {\n",
       "        vertical-align: top;\n",
       "    }\n",
       "\n",
       "    .dataframe thead th {\n",
       "        text-align: right;\n",
       "    }\n",
       "</style>\n",
       "<table border=\"1\" class=\"dataframe\">\n",
       "  <thead>\n",
       "    <tr style=\"text-align: right;\">\n",
       "      <th></th>\n",
       "      <th>Hugo_Symbol</th>\n",
       "      <th>SWISSPROT</th>\n",
       "      <th>HGVSp_Short</th>\n",
       "      <th>Tumor_Sample_Barcode</th>\n",
       "    </tr>\n",
       "  </thead>\n",
       "  <tbody>\n",
       "    <tr>\n",
       "      <th>56464</th>\n",
       "      <td>TP53</td>\n",
       "      <td>P04637</td>\n",
       "      <td>Y220C</td>\n",
       "      <td>TCGA-E2-A573</td>\n",
       "    </tr>\n",
       "  </tbody>\n",
       "</table>\n",
       "</div>"
      ],
      "text/plain": [
       "      Hugo_Symbol SWISSPROT HGVSp_Short Tumor_Sample_Barcode\n",
       "56464        TP53    P04637       Y220C         TCGA-E2-A573"
      ]
     },
     "metadata": {},
     "output_type": "display_data"
    },
    {
     "name": "stdout",
     "output_type": "stream",
     "text": [
      "\n",
      " 168  -  TCGA-E2-A574\n"
     ]
    },
    {
     "data": {
      "text/html": [
       "<div>\n",
       "<style scoped>\n",
       "    .dataframe tbody tr th:only-of-type {\n",
       "        vertical-align: middle;\n",
       "    }\n",
       "\n",
       "    .dataframe tbody tr th {\n",
       "        vertical-align: top;\n",
       "    }\n",
       "\n",
       "    .dataframe thead th {\n",
       "        text-align: right;\n",
       "    }\n",
       "</style>\n",
       "<table border=\"1\" class=\"dataframe\">\n",
       "  <thead>\n",
       "    <tr style=\"text-align: right;\">\n",
       "      <th></th>\n",
       "      <th>Hugo_Symbol</th>\n",
       "      <th>SWISSPROT</th>\n",
       "      <th>HGVSp_Short</th>\n",
       "      <th>Tumor_Sample_Barcode</th>\n",
       "    </tr>\n",
       "  </thead>\n",
       "  <tbody>\n",
       "    <tr>\n",
       "      <th>12960</th>\n",
       "      <td>TP53</td>\n",
       "      <td>P04637</td>\n",
       "      <td>R248Q</td>\n",
       "      <td>TCGA-E2-A574</td>\n",
       "    </tr>\n",
       "  </tbody>\n",
       "</table>\n",
       "</div>"
      ],
      "text/plain": [
       "      Hugo_Symbol SWISSPROT HGVSp_Short Tumor_Sample_Barcode\n",
       "12960        TP53    P04637       R248Q         TCGA-E2-A574"
      ]
     },
     "metadata": {},
     "output_type": "display_data"
    },
    {
     "name": "stdout",
     "output_type": "stream",
     "text": [
      "\n",
      " 169  -  TCGA-E2-A9RU\n"
     ]
    },
    {
     "data": {
      "text/html": [
       "<div>\n",
       "<style scoped>\n",
       "    .dataframe tbody tr th:only-of-type {\n",
       "        vertical-align: middle;\n",
       "    }\n",
       "\n",
       "    .dataframe tbody tr th {\n",
       "        vertical-align: top;\n",
       "    }\n",
       "\n",
       "    .dataframe thead th {\n",
       "        text-align: right;\n",
       "    }\n",
       "</style>\n",
       "<table border=\"1\" class=\"dataframe\">\n",
       "  <thead>\n",
       "    <tr style=\"text-align: right;\">\n",
       "      <th></th>\n",
       "      <th>Hugo_Symbol</th>\n",
       "      <th>SWISSPROT</th>\n",
       "      <th>HGVSp_Short</th>\n",
       "      <th>Tumor_Sample_Barcode</th>\n",
       "    </tr>\n",
       "  </thead>\n",
       "  <tbody>\n",
       "    <tr>\n",
       "      <th>25486</th>\n",
       "      <td>TP53</td>\n",
       "      <td>P04637</td>\n",
       "      <td>F113C</td>\n",
       "      <td>TCGA-E2-A9RU</td>\n",
       "    </tr>\n",
       "  </tbody>\n",
       "</table>\n",
       "</div>"
      ],
      "text/plain": [
       "      Hugo_Symbol SWISSPROT HGVSp_Short Tumor_Sample_Barcode\n",
       "25486        TP53    P04637       F113C         TCGA-E2-A9RU"
      ]
     },
     "metadata": {},
     "output_type": "display_data"
    },
    {
     "name": "stdout",
     "output_type": "stream",
     "text": [
      "\n",
      " 170  -  TCGA-E9-A1N5\n"
     ]
    },
    {
     "data": {
      "text/html": [
       "<div>\n",
       "<style scoped>\n",
       "    .dataframe tbody tr th:only-of-type {\n",
       "        vertical-align: middle;\n",
       "    }\n",
       "\n",
       "    .dataframe tbody tr th {\n",
       "        vertical-align: top;\n",
       "    }\n",
       "\n",
       "    .dataframe thead th {\n",
       "        text-align: right;\n",
       "    }\n",
       "</style>\n",
       "<table border=\"1\" class=\"dataframe\">\n",
       "  <thead>\n",
       "    <tr style=\"text-align: right;\">\n",
       "      <th></th>\n",
       "      <th>Hugo_Symbol</th>\n",
       "      <th>SWISSPROT</th>\n",
       "      <th>HGVSp_Short</th>\n",
       "      <th>Tumor_Sample_Barcode</th>\n",
       "    </tr>\n",
       "  </thead>\n",
       "  <tbody>\n",
       "    <tr>\n",
       "      <th>57553</th>\n",
       "      <td>TP53</td>\n",
       "      <td>P04637</td>\n",
       "      <td>H193R</td>\n",
       "      <td>TCGA-E9-A1N5</td>\n",
       "    </tr>\n",
       "  </tbody>\n",
       "</table>\n",
       "</div>"
      ],
      "text/plain": [
       "      Hugo_Symbol SWISSPROT HGVSp_Short Tumor_Sample_Barcode\n",
       "57553        TP53    P04637       H193R         TCGA-E9-A1N5"
      ]
     },
     "metadata": {},
     "output_type": "display_data"
    },
    {
     "name": "stdout",
     "output_type": "stream",
     "text": [
      "\n",
      " 171  -  TCGA-E9-A1NC\n"
     ]
    },
    {
     "data": {
      "text/html": [
       "<div>\n",
       "<style scoped>\n",
       "    .dataframe tbody tr th:only-of-type {\n",
       "        vertical-align: middle;\n",
       "    }\n",
       "\n",
       "    .dataframe tbody tr th {\n",
       "        vertical-align: top;\n",
       "    }\n",
       "\n",
       "    .dataframe thead th {\n",
       "        text-align: right;\n",
       "    }\n",
       "</style>\n",
       "<table border=\"1\" class=\"dataframe\">\n",
       "  <thead>\n",
       "    <tr style=\"text-align: right;\">\n",
       "      <th></th>\n",
       "      <th>Hugo_Symbol</th>\n",
       "      <th>SWISSPROT</th>\n",
       "      <th>HGVSp_Short</th>\n",
       "      <th>Tumor_Sample_Barcode</th>\n",
       "    </tr>\n",
       "  </thead>\n",
       "  <tbody>\n",
       "    <tr>\n",
       "      <th>52814</th>\n",
       "      <td>TP53</td>\n",
       "      <td>P04637</td>\n",
       "      <td>R273H</td>\n",
       "      <td>TCGA-E9-A1NC</td>\n",
       "    </tr>\n",
       "  </tbody>\n",
       "</table>\n",
       "</div>"
      ],
      "text/plain": [
       "      Hugo_Symbol SWISSPROT HGVSp_Short Tumor_Sample_Barcode\n",
       "52814        TP53    P04637       R273H         TCGA-E9-A1NC"
      ]
     },
     "metadata": {},
     "output_type": "display_data"
    },
    {
     "name": "stdout",
     "output_type": "stream",
     "text": [
      "\n",
      " 172  -  TCGA-E9-A1ND\n"
     ]
    },
    {
     "data": {
      "text/html": [
       "<div>\n",
       "<style scoped>\n",
       "    .dataframe tbody tr th:only-of-type {\n",
       "        vertical-align: middle;\n",
       "    }\n",
       "\n",
       "    .dataframe tbody tr th {\n",
       "        vertical-align: top;\n",
       "    }\n",
       "\n",
       "    .dataframe thead th {\n",
       "        text-align: right;\n",
       "    }\n",
       "</style>\n",
       "<table border=\"1\" class=\"dataframe\">\n",
       "  <thead>\n",
       "    <tr style=\"text-align: right;\">\n",
       "      <th></th>\n",
       "      <th>Hugo_Symbol</th>\n",
       "      <th>SWISSPROT</th>\n",
       "      <th>HGVSp_Short</th>\n",
       "      <th>Tumor_Sample_Barcode</th>\n",
       "    </tr>\n",
       "  </thead>\n",
       "  <tbody>\n",
       "    <tr>\n",
       "      <th>14812</th>\n",
       "      <td>TP53</td>\n",
       "      <td>P04637</td>\n",
       "      <td>Y220C</td>\n",
       "      <td>TCGA-E9-A1ND</td>\n",
       "    </tr>\n",
       "  </tbody>\n",
       "</table>\n",
       "</div>"
      ],
      "text/plain": [
       "      Hugo_Symbol SWISSPROT HGVSp_Short Tumor_Sample_Barcode\n",
       "14812        TP53    P04637       Y220C         TCGA-E9-A1ND"
      ]
     },
     "metadata": {},
     "output_type": "display_data"
    },
    {
     "name": "stdout",
     "output_type": "stream",
     "text": [
      "\n",
      " 173  -  TCGA-E9-A1NF\n"
     ]
    },
    {
     "data": {
      "text/html": [
       "<div>\n",
       "<style scoped>\n",
       "    .dataframe tbody tr th:only-of-type {\n",
       "        vertical-align: middle;\n",
       "    }\n",
       "\n",
       "    .dataframe tbody tr th {\n",
       "        vertical-align: top;\n",
       "    }\n",
       "\n",
       "    .dataframe thead th {\n",
       "        text-align: right;\n",
       "    }\n",
       "</style>\n",
       "<table border=\"1\" class=\"dataframe\">\n",
       "  <thead>\n",
       "    <tr style=\"text-align: right;\">\n",
       "      <th></th>\n",
       "      <th>Hugo_Symbol</th>\n",
       "      <th>SWISSPROT</th>\n",
       "      <th>HGVSp_Short</th>\n",
       "      <th>Tumor_Sample_Barcode</th>\n",
       "    </tr>\n",
       "  </thead>\n",
       "  <tbody>\n",
       "    <tr>\n",
       "      <th>14186</th>\n",
       "      <td>TP53</td>\n",
       "      <td>P04637</td>\n",
       "      <td>F113C</td>\n",
       "      <td>TCGA-E9-A1NF</td>\n",
       "    </tr>\n",
       "  </tbody>\n",
       "</table>\n",
       "</div>"
      ],
      "text/plain": [
       "      Hugo_Symbol SWISSPROT HGVSp_Short Tumor_Sample_Barcode\n",
       "14186        TP53    P04637       F113C         TCGA-E9-A1NF"
      ]
     },
     "metadata": {},
     "output_type": "display_data"
    },
    {
     "name": "stdout",
     "output_type": "stream",
     "text": [
      "\n",
      " 174  -  TCGA-E9-A1RB\n"
     ]
    },
    {
     "data": {
      "text/html": [
       "<div>\n",
       "<style scoped>\n",
       "    .dataframe tbody tr th:only-of-type {\n",
       "        vertical-align: middle;\n",
       "    }\n",
       "\n",
       "    .dataframe tbody tr th {\n",
       "        vertical-align: top;\n",
       "    }\n",
       "\n",
       "    .dataframe thead th {\n",
       "        text-align: right;\n",
       "    }\n",
       "</style>\n",
       "<table border=\"1\" class=\"dataframe\">\n",
       "  <thead>\n",
       "    <tr style=\"text-align: right;\">\n",
       "      <th></th>\n",
       "      <th>Hugo_Symbol</th>\n",
       "      <th>SWISSPROT</th>\n",
       "      <th>HGVSp_Short</th>\n",
       "      <th>Tumor_Sample_Barcode</th>\n",
       "    </tr>\n",
       "  </thead>\n",
       "  <tbody>\n",
       "    <tr>\n",
       "      <th>54342</th>\n",
       "      <td>TP53</td>\n",
       "      <td>P04637</td>\n",
       "      <td>E286Q</td>\n",
       "      <td>TCGA-E9-A1RB</td>\n",
       "    </tr>\n",
       "  </tbody>\n",
       "</table>\n",
       "</div>"
      ],
      "text/plain": [
       "      Hugo_Symbol SWISSPROT HGVSp_Short Tumor_Sample_Barcode\n",
       "54342        TP53    P04637       E286Q         TCGA-E9-A1RB"
      ]
     },
     "metadata": {},
     "output_type": "display_data"
    },
    {
     "name": "stdout",
     "output_type": "stream",
     "text": [
      "\n",
      " 175  -  TCGA-E9-A22E\n"
     ]
    },
    {
     "data": {
      "text/html": [
       "<div>\n",
       "<style scoped>\n",
       "    .dataframe tbody tr th:only-of-type {\n",
       "        vertical-align: middle;\n",
       "    }\n",
       "\n",
       "    .dataframe tbody tr th {\n",
       "        vertical-align: top;\n",
       "    }\n",
       "\n",
       "    .dataframe thead th {\n",
       "        text-align: right;\n",
       "    }\n",
       "</style>\n",
       "<table border=\"1\" class=\"dataframe\">\n",
       "  <thead>\n",
       "    <tr style=\"text-align: right;\">\n",
       "      <th></th>\n",
       "      <th>Hugo_Symbol</th>\n",
       "      <th>SWISSPROT</th>\n",
       "      <th>HGVSp_Short</th>\n",
       "      <th>Tumor_Sample_Barcode</th>\n",
       "    </tr>\n",
       "  </thead>\n",
       "  <tbody>\n",
       "    <tr>\n",
       "      <th>9807</th>\n",
       "      <td>TP53</td>\n",
       "      <td>P04637</td>\n",
       "      <td>G245S</td>\n",
       "      <td>TCGA-E9-A22E</td>\n",
       "    </tr>\n",
       "  </tbody>\n",
       "</table>\n",
       "</div>"
      ],
      "text/plain": [
       "     Hugo_Symbol SWISSPROT HGVSp_Short Tumor_Sample_Barcode\n",
       "9807        TP53    P04637       G245S         TCGA-E9-A22E"
      ]
     },
     "metadata": {},
     "output_type": "display_data"
    },
    {
     "name": "stdout",
     "output_type": "stream",
     "text": [
      "\n",
      " 176  -  TCGA-E9-A243\n"
     ]
    },
    {
     "data": {
      "text/html": [
       "<div>\n",
       "<style scoped>\n",
       "    .dataframe tbody tr th:only-of-type {\n",
       "        vertical-align: middle;\n",
       "    }\n",
       "\n",
       "    .dataframe tbody tr th {\n",
       "        vertical-align: top;\n",
       "    }\n",
       "\n",
       "    .dataframe thead th {\n",
       "        text-align: right;\n",
       "    }\n",
       "</style>\n",
       "<table border=\"1\" class=\"dataframe\">\n",
       "  <thead>\n",
       "    <tr style=\"text-align: right;\">\n",
       "      <th></th>\n",
       "      <th>Hugo_Symbol</th>\n",
       "      <th>SWISSPROT</th>\n",
       "      <th>HGVSp_Short</th>\n",
       "      <th>Tumor_Sample_Barcode</th>\n",
       "    </tr>\n",
       "  </thead>\n",
       "  <tbody>\n",
       "    <tr>\n",
       "      <th>9733</th>\n",
       "      <td>TP53</td>\n",
       "      <td>P04637</td>\n",
       "      <td>Y220S</td>\n",
       "      <td>TCGA-E9-A243</td>\n",
       "    </tr>\n",
       "  </tbody>\n",
       "</table>\n",
       "</div>"
      ],
      "text/plain": [
       "     Hugo_Symbol SWISSPROT HGVSp_Short Tumor_Sample_Barcode\n",
       "9733        TP53    P04637       Y220S         TCGA-E9-A243"
      ]
     },
     "metadata": {},
     "output_type": "display_data"
    },
    {
     "name": "stdout",
     "output_type": "stream",
     "text": [
      "\n",
      " 177  -  TCGA-E9-A244\n"
     ]
    },
    {
     "data": {
      "text/html": [
       "<div>\n",
       "<style scoped>\n",
       "    .dataframe tbody tr th:only-of-type {\n",
       "        vertical-align: middle;\n",
       "    }\n",
       "\n",
       "    .dataframe tbody tr th {\n",
       "        vertical-align: top;\n",
       "    }\n",
       "\n",
       "    .dataframe thead th {\n",
       "        text-align: right;\n",
       "    }\n",
       "</style>\n",
       "<table border=\"1\" class=\"dataframe\">\n",
       "  <thead>\n",
       "    <tr style=\"text-align: right;\">\n",
       "      <th></th>\n",
       "      <th>Hugo_Symbol</th>\n",
       "      <th>SWISSPROT</th>\n",
       "      <th>HGVSp_Short</th>\n",
       "      <th>Tumor_Sample_Barcode</th>\n",
       "    </tr>\n",
       "  </thead>\n",
       "  <tbody>\n",
       "    <tr>\n",
       "      <th>24652</th>\n",
       "      <td>TP53</td>\n",
       "      <td>P04637</td>\n",
       "      <td>R175H</td>\n",
       "      <td>TCGA-E9-A244</td>\n",
       "    </tr>\n",
       "  </tbody>\n",
       "</table>\n",
       "</div>"
      ],
      "text/plain": [
       "      Hugo_Symbol SWISSPROT HGVSp_Short Tumor_Sample_Barcode\n",
       "24652        TP53    P04637       R175H         TCGA-E9-A244"
      ]
     },
     "metadata": {},
     "output_type": "display_data"
    },
    {
     "name": "stdout",
     "output_type": "stream",
     "text": [
      "\n",
      " 178  -  TCGA-E9-A5FL\n"
     ]
    },
    {
     "data": {
      "text/html": [
       "<div>\n",
       "<style scoped>\n",
       "    .dataframe tbody tr th:only-of-type {\n",
       "        vertical-align: middle;\n",
       "    }\n",
       "\n",
       "    .dataframe tbody tr th {\n",
       "        vertical-align: top;\n",
       "    }\n",
       "\n",
       "    .dataframe thead th {\n",
       "        text-align: right;\n",
       "    }\n",
       "</style>\n",
       "<table border=\"1\" class=\"dataframe\">\n",
       "  <thead>\n",
       "    <tr style=\"text-align: right;\">\n",
       "      <th></th>\n",
       "      <th>Hugo_Symbol</th>\n",
       "      <th>SWISSPROT</th>\n",
       "      <th>HGVSp_Short</th>\n",
       "      <th>Tumor_Sample_Barcode</th>\n",
       "    </tr>\n",
       "  </thead>\n",
       "  <tbody>\n",
       "    <tr>\n",
       "      <th>48286</th>\n",
       "      <td>TP53</td>\n",
       "      <td>P04637</td>\n",
       "      <td>H193R</td>\n",
       "      <td>TCGA-E9-A5FL</td>\n",
       "    </tr>\n",
       "  </tbody>\n",
       "</table>\n",
       "</div>"
      ],
      "text/plain": [
       "      Hugo_Symbol SWISSPROT HGVSp_Short Tumor_Sample_Barcode\n",
       "48286        TP53    P04637       H193R         TCGA-E9-A5FL"
      ]
     },
     "metadata": {},
     "output_type": "display_data"
    },
    {
     "name": "stdout",
     "output_type": "stream",
     "text": [
      "\n",
      " 179  -  TCGA-EW-A1P1\n"
     ]
    },
    {
     "data": {
      "text/html": [
       "<div>\n",
       "<style scoped>\n",
       "    .dataframe tbody tr th:only-of-type {\n",
       "        vertical-align: middle;\n",
       "    }\n",
       "\n",
       "    .dataframe tbody tr th {\n",
       "        vertical-align: top;\n",
       "    }\n",
       "\n",
       "    .dataframe thead th {\n",
       "        text-align: right;\n",
       "    }\n",
       "</style>\n",
       "<table border=\"1\" class=\"dataframe\">\n",
       "  <thead>\n",
       "    <tr style=\"text-align: right;\">\n",
       "      <th></th>\n",
       "      <th>Hugo_Symbol</th>\n",
       "      <th>SWISSPROT</th>\n",
       "      <th>HGVSp_Short</th>\n",
       "      <th>Tumor_Sample_Barcode</th>\n",
       "    </tr>\n",
       "  </thead>\n",
       "  <tbody>\n",
       "    <tr>\n",
       "      <th>36591</th>\n",
       "      <td>TP53</td>\n",
       "      <td>P04637</td>\n",
       "      <td>R273H</td>\n",
       "      <td>TCGA-EW-A1P1</td>\n",
       "    </tr>\n",
       "  </tbody>\n",
       "</table>\n",
       "</div>"
      ],
      "text/plain": [
       "      Hugo_Symbol SWISSPROT HGVSp_Short Tumor_Sample_Barcode\n",
       "36591        TP53    P04637       R273H         TCGA-EW-A1P1"
      ]
     },
     "metadata": {},
     "output_type": "display_data"
    },
    {
     "name": "stdout",
     "output_type": "stream",
     "text": [
      "\n",
      " 180  -  TCGA-EW-A1P4\n"
     ]
    },
    {
     "data": {
      "text/html": [
       "<div>\n",
       "<style scoped>\n",
       "    .dataframe tbody tr th:only-of-type {\n",
       "        vertical-align: middle;\n",
       "    }\n",
       "\n",
       "    .dataframe tbody tr th {\n",
       "        vertical-align: top;\n",
       "    }\n",
       "\n",
       "    .dataframe thead th {\n",
       "        text-align: right;\n",
       "    }\n",
       "</style>\n",
       "<table border=\"1\" class=\"dataframe\">\n",
       "  <thead>\n",
       "    <tr style=\"text-align: right;\">\n",
       "      <th></th>\n",
       "      <th>Hugo_Symbol</th>\n",
       "      <th>SWISSPROT</th>\n",
       "      <th>HGVSp_Short</th>\n",
       "      <th>Tumor_Sample_Barcode</th>\n",
       "    </tr>\n",
       "  </thead>\n",
       "  <tbody>\n",
       "    <tr>\n",
       "      <th>31786</th>\n",
       "      <td>TP53</td>\n",
       "      <td>P04637</td>\n",
       "      <td>H179R</td>\n",
       "      <td>TCGA-EW-A1P4</td>\n",
       "    </tr>\n",
       "  </tbody>\n",
       "</table>\n",
       "</div>"
      ],
      "text/plain": [
       "      Hugo_Symbol SWISSPROT HGVSp_Short Tumor_Sample_Barcode\n",
       "31786        TP53    P04637       H179R         TCGA-EW-A1P4"
      ]
     },
     "metadata": {},
     "output_type": "display_data"
    },
    {
     "name": "stdout",
     "output_type": "stream",
     "text": [
      "\n",
      " 181  -  TCGA-EW-A1P8\n"
     ]
    },
    {
     "data": {
      "text/html": [
       "<div>\n",
       "<style scoped>\n",
       "    .dataframe tbody tr th:only-of-type {\n",
       "        vertical-align: middle;\n",
       "    }\n",
       "\n",
       "    .dataframe tbody tr th {\n",
       "        vertical-align: top;\n",
       "    }\n",
       "\n",
       "    .dataframe thead th {\n",
       "        text-align: right;\n",
       "    }\n",
       "</style>\n",
       "<table border=\"1\" class=\"dataframe\">\n",
       "  <thead>\n",
       "    <tr style=\"text-align: right;\">\n",
       "      <th></th>\n",
       "      <th>Hugo_Symbol</th>\n",
       "      <th>SWISSPROT</th>\n",
       "      <th>HGVSp_Short</th>\n",
       "      <th>Tumor_Sample_Barcode</th>\n",
       "    </tr>\n",
       "  </thead>\n",
       "  <tbody>\n",
       "    <tr>\n",
       "      <th>32516</th>\n",
       "      <td>TP53</td>\n",
       "      <td>P04637</td>\n",
       "      <td>R282W</td>\n",
       "      <td>TCGA-EW-A1P8</td>\n",
       "    </tr>\n",
       "  </tbody>\n",
       "</table>\n",
       "</div>"
      ],
      "text/plain": [
       "      Hugo_Symbol SWISSPROT HGVSp_Short Tumor_Sample_Barcode\n",
       "32516        TP53    P04637       R282W         TCGA-EW-A1P8"
      ]
     },
     "metadata": {},
     "output_type": "display_data"
    },
    {
     "name": "stdout",
     "output_type": "stream",
     "text": [
      "\n",
      " 182  -  TCGA-EW-A1PB\n"
     ]
    },
    {
     "data": {
      "text/html": [
       "<div>\n",
       "<style scoped>\n",
       "    .dataframe tbody tr th:only-of-type {\n",
       "        vertical-align: middle;\n",
       "    }\n",
       "\n",
       "    .dataframe tbody tr th {\n",
       "        vertical-align: top;\n",
       "    }\n",
       "\n",
       "    .dataframe thead th {\n",
       "        text-align: right;\n",
       "    }\n",
       "</style>\n",
       "<table border=\"1\" class=\"dataframe\">\n",
       "  <thead>\n",
       "    <tr style=\"text-align: right;\">\n",
       "      <th></th>\n",
       "      <th>Hugo_Symbol</th>\n",
       "      <th>SWISSPROT</th>\n",
       "      <th>HGVSp_Short</th>\n",
       "      <th>Tumor_Sample_Barcode</th>\n",
       "    </tr>\n",
       "  </thead>\n",
       "  <tbody>\n",
       "    <tr>\n",
       "      <th>59704</th>\n",
       "      <td>TP53</td>\n",
       "      <td>P04637</td>\n",
       "      <td>Y163C</td>\n",
       "      <td>TCGA-EW-A1PB</td>\n",
       "    </tr>\n",
       "  </tbody>\n",
       "</table>\n",
       "</div>"
      ],
      "text/plain": [
       "      Hugo_Symbol SWISSPROT HGVSp_Short Tumor_Sample_Barcode\n",
       "59704        TP53    P04637       Y163C         TCGA-EW-A1PB"
      ]
     },
     "metadata": {},
     "output_type": "display_data"
    },
    {
     "name": "stdout",
     "output_type": "stream",
     "text": [
      "\n",
      " 183  -  TCGA-EW-A2FR\n"
     ]
    },
    {
     "data": {
      "text/html": [
       "<div>\n",
       "<style scoped>\n",
       "    .dataframe tbody tr th:only-of-type {\n",
       "        vertical-align: middle;\n",
       "    }\n",
       "\n",
       "    .dataframe tbody tr th {\n",
       "        vertical-align: top;\n",
       "    }\n",
       "\n",
       "    .dataframe thead th {\n",
       "        text-align: right;\n",
       "    }\n",
       "</style>\n",
       "<table border=\"1\" class=\"dataframe\">\n",
       "  <thead>\n",
       "    <tr style=\"text-align: right;\">\n",
       "      <th></th>\n",
       "      <th>Hugo_Symbol</th>\n",
       "      <th>SWISSPROT</th>\n",
       "      <th>HGVSp_Short</th>\n",
       "      <th>Tumor_Sample_Barcode</th>\n",
       "    </tr>\n",
       "  </thead>\n",
       "  <tbody>\n",
       "    <tr>\n",
       "      <th>13607</th>\n",
       "      <td>TP53</td>\n",
       "      <td>P04637</td>\n",
       "      <td>R175H</td>\n",
       "      <td>TCGA-EW-A2FR</td>\n",
       "    </tr>\n",
       "  </tbody>\n",
       "</table>\n",
       "</div>"
      ],
      "text/plain": [
       "      Hugo_Symbol SWISSPROT HGVSp_Short Tumor_Sample_Barcode\n",
       "13607        TP53    P04637       R175H         TCGA-EW-A2FR"
      ]
     },
     "metadata": {},
     "output_type": "display_data"
    },
    {
     "name": "stdout",
     "output_type": "stream",
     "text": [
      "\n",
      " 184  -  TCGA-EW-A6S9\n"
     ]
    },
    {
     "data": {
      "text/html": [
       "<div>\n",
       "<style scoped>\n",
       "    .dataframe tbody tr th:only-of-type {\n",
       "        vertical-align: middle;\n",
       "    }\n",
       "\n",
       "    .dataframe tbody tr th {\n",
       "        vertical-align: top;\n",
       "    }\n",
       "\n",
       "    .dataframe thead th {\n",
       "        text-align: right;\n",
       "    }\n",
       "</style>\n",
       "<table border=\"1\" class=\"dataframe\">\n",
       "  <thead>\n",
       "    <tr style=\"text-align: right;\">\n",
       "      <th></th>\n",
       "      <th>Hugo_Symbol</th>\n",
       "      <th>SWISSPROT</th>\n",
       "      <th>HGVSp_Short</th>\n",
       "      <th>Tumor_Sample_Barcode</th>\n",
       "    </tr>\n",
       "  </thead>\n",
       "  <tbody>\n",
       "    <tr>\n",
       "      <th>49628</th>\n",
       "      <td>TP53</td>\n",
       "      <td>P04637</td>\n",
       "      <td>H179R</td>\n",
       "      <td>TCGA-EW-A6S9</td>\n",
       "    </tr>\n",
       "  </tbody>\n",
       "</table>\n",
       "</div>"
      ],
      "text/plain": [
       "      Hugo_Symbol SWISSPROT HGVSp_Short Tumor_Sample_Barcode\n",
       "49628        TP53    P04637       H179R         TCGA-EW-A6S9"
      ]
     },
     "metadata": {},
     "output_type": "display_data"
    },
    {
     "name": "stdout",
     "output_type": "stream",
     "text": [
      "\n",
      " 185  -  TCGA-EW-A6SB\n"
     ]
    },
    {
     "data": {
      "text/html": [
       "<div>\n",
       "<style scoped>\n",
       "    .dataframe tbody tr th:only-of-type {\n",
       "        vertical-align: middle;\n",
       "    }\n",
       "\n",
       "    .dataframe tbody tr th {\n",
       "        vertical-align: top;\n",
       "    }\n",
       "\n",
       "    .dataframe thead th {\n",
       "        text-align: right;\n",
       "    }\n",
       "</style>\n",
       "<table border=\"1\" class=\"dataframe\">\n",
       "  <thead>\n",
       "    <tr style=\"text-align: right;\">\n",
       "      <th></th>\n",
       "      <th>Hugo_Symbol</th>\n",
       "      <th>SWISSPROT</th>\n",
       "      <th>HGVSp_Short</th>\n",
       "      <th>Tumor_Sample_Barcode</th>\n",
       "    </tr>\n",
       "  </thead>\n",
       "  <tbody>\n",
       "    <tr>\n",
       "      <th>59458</th>\n",
       "      <td>TP53</td>\n",
       "      <td>P04637</td>\n",
       "      <td>R282W</td>\n",
       "      <td>TCGA-EW-A6SB</td>\n",
       "    </tr>\n",
       "  </tbody>\n",
       "</table>\n",
       "</div>"
      ],
      "text/plain": [
       "      Hugo_Symbol SWISSPROT HGVSp_Short Tumor_Sample_Barcode\n",
       "59458        TP53    P04637       R282W         TCGA-EW-A6SB"
      ]
     },
     "metadata": {},
     "output_type": "display_data"
    },
    {
     "name": "stdout",
     "output_type": "stream",
     "text": [
      "\n",
      " 186  -  TCGA-GM-A2DD\n"
     ]
    },
    {
     "data": {
      "text/html": [
       "<div>\n",
       "<style scoped>\n",
       "    .dataframe tbody tr th:only-of-type {\n",
       "        vertical-align: middle;\n",
       "    }\n",
       "\n",
       "    .dataframe tbody tr th {\n",
       "        vertical-align: top;\n",
       "    }\n",
       "\n",
       "    .dataframe thead th {\n",
       "        text-align: right;\n",
       "    }\n",
       "</style>\n",
       "<table border=\"1\" class=\"dataframe\">\n",
       "  <thead>\n",
       "    <tr style=\"text-align: right;\">\n",
       "      <th></th>\n",
       "      <th>Hugo_Symbol</th>\n",
       "      <th>SWISSPROT</th>\n",
       "      <th>HGVSp_Short</th>\n",
       "      <th>Tumor_Sample_Barcode</th>\n",
       "    </tr>\n",
       "  </thead>\n",
       "  <tbody>\n",
       "    <tr>\n",
       "      <th>33511</th>\n",
       "      <td>TP53</td>\n",
       "      <td>P04637</td>\n",
       "      <td>R175H</td>\n",
       "      <td>TCGA-GM-A2DD</td>\n",
       "    </tr>\n",
       "  </tbody>\n",
       "</table>\n",
       "</div>"
      ],
      "text/plain": [
       "      Hugo_Symbol SWISSPROT HGVSp_Short Tumor_Sample_Barcode\n",
       "33511        TP53    P04637       R175H         TCGA-GM-A2DD"
      ]
     },
     "metadata": {},
     "output_type": "display_data"
    },
    {
     "name": "stdout",
     "output_type": "stream",
     "text": [
      "\n",
      " 187  -  TCGA-GM-A2DH\n"
     ]
    },
    {
     "data": {
      "text/html": [
       "<div>\n",
       "<style scoped>\n",
       "    .dataframe tbody tr th:only-of-type {\n",
       "        vertical-align: middle;\n",
       "    }\n",
       "\n",
       "    .dataframe tbody tr th {\n",
       "        vertical-align: top;\n",
       "    }\n",
       "\n",
       "    .dataframe thead th {\n",
       "        text-align: right;\n",
       "    }\n",
       "</style>\n",
       "<table border=\"1\" class=\"dataframe\">\n",
       "  <thead>\n",
       "    <tr style=\"text-align: right;\">\n",
       "      <th></th>\n",
       "      <th>Hugo_Symbol</th>\n",
       "      <th>SWISSPROT</th>\n",
       "      <th>HGVSp_Short</th>\n",
       "      <th>Tumor_Sample_Barcode</th>\n",
       "    </tr>\n",
       "  </thead>\n",
       "  <tbody>\n",
       "    <tr>\n",
       "      <th>3779</th>\n",
       "      <td>TP53</td>\n",
       "      <td>P04637</td>\n",
       "      <td>T253S</td>\n",
       "      <td>TCGA-GM-A2DH</td>\n",
       "    </tr>\n",
       "  </tbody>\n",
       "</table>\n",
       "</div>"
      ],
      "text/plain": [
       "     Hugo_Symbol SWISSPROT HGVSp_Short Tumor_Sample_Barcode\n",
       "3779        TP53    P04637       T253S         TCGA-GM-A2DH"
      ]
     },
     "metadata": {},
     "output_type": "display_data"
    },
    {
     "name": "stdout",
     "output_type": "stream",
     "text": [
      "\n",
      " 188  -  TCGA-GM-A2DL\n"
     ]
    },
    {
     "data": {
      "text/html": [
       "<div>\n",
       "<style scoped>\n",
       "    .dataframe tbody tr th:only-of-type {\n",
       "        vertical-align: middle;\n",
       "    }\n",
       "\n",
       "    .dataframe tbody tr th {\n",
       "        vertical-align: top;\n",
       "    }\n",
       "\n",
       "    .dataframe thead th {\n",
       "        text-align: right;\n",
       "    }\n",
       "</style>\n",
       "<table border=\"1\" class=\"dataframe\">\n",
       "  <thead>\n",
       "    <tr style=\"text-align: right;\">\n",
       "      <th></th>\n",
       "      <th>Hugo_Symbol</th>\n",
       "      <th>SWISSPROT</th>\n",
       "      <th>HGVSp_Short</th>\n",
       "      <th>Tumor_Sample_Barcode</th>\n",
       "    </tr>\n",
       "  </thead>\n",
       "  <tbody>\n",
       "    <tr>\n",
       "      <th>34387</th>\n",
       "      <td>TP53</td>\n",
       "      <td>P04637</td>\n",
       "      <td>D281E</td>\n",
       "      <td>TCGA-GM-A2DL</td>\n",
       "    </tr>\n",
       "  </tbody>\n",
       "</table>\n",
       "</div>"
      ],
      "text/plain": [
       "      Hugo_Symbol SWISSPROT HGVSp_Short Tumor_Sample_Barcode\n",
       "34387        TP53    P04637       D281E         TCGA-GM-A2DL"
      ]
     },
     "metadata": {},
     "output_type": "display_data"
    },
    {
     "name": "stdout",
     "output_type": "stream",
     "text": [
      "\n",
      " 189  -  TCGA-LD-A74U\n"
     ]
    },
    {
     "data": {
      "text/html": [
       "<div>\n",
       "<style scoped>\n",
       "    .dataframe tbody tr th:only-of-type {\n",
       "        vertical-align: middle;\n",
       "    }\n",
       "\n",
       "    .dataframe tbody tr th {\n",
       "        vertical-align: top;\n",
       "    }\n",
       "\n",
       "    .dataframe thead th {\n",
       "        text-align: right;\n",
       "    }\n",
       "</style>\n",
       "<table border=\"1\" class=\"dataframe\">\n",
       "  <thead>\n",
       "    <tr style=\"text-align: right;\">\n",
       "      <th></th>\n",
       "      <th>Hugo_Symbol</th>\n",
       "      <th>SWISSPROT</th>\n",
       "      <th>HGVSp_Short</th>\n",
       "      <th>Tumor_Sample_Barcode</th>\n",
       "    </tr>\n",
       "  </thead>\n",
       "  <tbody>\n",
       "    <tr>\n",
       "      <th>354</th>\n",
       "      <td>TP53</td>\n",
       "      <td>P04637</td>\n",
       "      <td>R280K</td>\n",
       "      <td>TCGA-LD-A74U</td>\n",
       "    </tr>\n",
       "  </tbody>\n",
       "</table>\n",
       "</div>"
      ],
      "text/plain": [
       "    Hugo_Symbol SWISSPROT HGVSp_Short Tumor_Sample_Barcode\n",
       "354        TP53    P04637       R280K         TCGA-LD-A74U"
      ]
     },
     "metadata": {},
     "output_type": "display_data"
    },
    {
     "name": "stdout",
     "output_type": "stream",
     "text": [
      "\n",
      " 190  -  TCGA-LD-A7W5\n"
     ]
    },
    {
     "data": {
      "text/html": [
       "<div>\n",
       "<style scoped>\n",
       "    .dataframe tbody tr th:only-of-type {\n",
       "        vertical-align: middle;\n",
       "    }\n",
       "\n",
       "    .dataframe tbody tr th {\n",
       "        vertical-align: top;\n",
       "    }\n",
       "\n",
       "    .dataframe thead th {\n",
       "        text-align: right;\n",
       "    }\n",
       "</style>\n",
       "<table border=\"1\" class=\"dataframe\">\n",
       "  <thead>\n",
       "    <tr style=\"text-align: right;\">\n",
       "      <th></th>\n",
       "      <th>Hugo_Symbol</th>\n",
       "      <th>SWISSPROT</th>\n",
       "      <th>HGVSp_Short</th>\n",
       "      <th>Tumor_Sample_Barcode</th>\n",
       "    </tr>\n",
       "  </thead>\n",
       "  <tbody>\n",
       "    <tr>\n",
       "      <th>53359</th>\n",
       "      <td>TP53</td>\n",
       "      <td>P04637</td>\n",
       "      <td>L257R</td>\n",
       "      <td>TCGA-LD-A7W5</td>\n",
       "    </tr>\n",
       "  </tbody>\n",
       "</table>\n",
       "</div>"
      ],
      "text/plain": [
       "      Hugo_Symbol SWISSPROT HGVSp_Short Tumor_Sample_Barcode\n",
       "53359        TP53    P04637       L257R         TCGA-LD-A7W5"
      ]
     },
     "metadata": {},
     "output_type": "display_data"
    },
    {
     "name": "stdout",
     "output_type": "stream",
     "text": [
      "\n",
      " 191  -  TCGA-LL-A5YO\n"
     ]
    },
    {
     "data": {
      "text/html": [
       "<div>\n",
       "<style scoped>\n",
       "    .dataframe tbody tr th:only-of-type {\n",
       "        vertical-align: middle;\n",
       "    }\n",
       "\n",
       "    .dataframe tbody tr th {\n",
       "        vertical-align: top;\n",
       "    }\n",
       "\n",
       "    .dataframe thead th {\n",
       "        text-align: right;\n",
       "    }\n",
       "</style>\n",
       "<table border=\"1\" class=\"dataframe\">\n",
       "  <thead>\n",
       "    <tr style=\"text-align: right;\">\n",
       "      <th></th>\n",
       "      <th>Hugo_Symbol</th>\n",
       "      <th>SWISSPROT</th>\n",
       "      <th>HGVSp_Short</th>\n",
       "      <th>Tumor_Sample_Barcode</th>\n",
       "    </tr>\n",
       "  </thead>\n",
       "  <tbody>\n",
       "    <tr>\n",
       "      <th>2633</th>\n",
       "      <td>TP53</td>\n",
       "      <td>P04637</td>\n",
       "      <td>L194R</td>\n",
       "      <td>TCGA-LL-A5YO</td>\n",
       "    </tr>\n",
       "  </tbody>\n",
       "</table>\n",
       "</div>"
      ],
      "text/plain": [
       "     Hugo_Symbol SWISSPROT HGVSp_Short Tumor_Sample_Barcode\n",
       "2633        TP53    P04637       L194R         TCGA-LL-A5YO"
      ]
     },
     "metadata": {},
     "output_type": "display_data"
    },
    {
     "name": "stdout",
     "output_type": "stream",
     "text": [
      "\n",
      " 192  -  TCGA-LL-A5YP\n"
     ]
    },
    {
     "data": {
      "text/html": [
       "<div>\n",
       "<style scoped>\n",
       "    .dataframe tbody tr th:only-of-type {\n",
       "        vertical-align: middle;\n",
       "    }\n",
       "\n",
       "    .dataframe tbody tr th {\n",
       "        vertical-align: top;\n",
       "    }\n",
       "\n",
       "    .dataframe thead th {\n",
       "        text-align: right;\n",
       "    }\n",
       "</style>\n",
       "<table border=\"1\" class=\"dataframe\">\n",
       "  <thead>\n",
       "    <tr style=\"text-align: right;\">\n",
       "      <th></th>\n",
       "      <th>Hugo_Symbol</th>\n",
       "      <th>SWISSPROT</th>\n",
       "      <th>HGVSp_Short</th>\n",
       "      <th>Tumor_Sample_Barcode</th>\n",
       "    </tr>\n",
       "  </thead>\n",
       "  <tbody>\n",
       "    <tr>\n",
       "      <th>42304</th>\n",
       "      <td>TP53</td>\n",
       "      <td>P04637</td>\n",
       "      <td>R280K</td>\n",
       "      <td>TCGA-LL-A5YP</td>\n",
       "    </tr>\n",
       "  </tbody>\n",
       "</table>\n",
       "</div>"
      ],
      "text/plain": [
       "      Hugo_Symbol SWISSPROT HGVSp_Short Tumor_Sample_Barcode\n",
       "42304        TP53    P04637       R280K         TCGA-LL-A5YP"
      ]
     },
     "metadata": {},
     "output_type": "display_data"
    },
    {
     "name": "stdout",
     "output_type": "stream",
     "text": [
      "\n",
      " 193  -  TCGA-LL-A6FR\n"
     ]
    },
    {
     "data": {
      "text/html": [
       "<div>\n",
       "<style scoped>\n",
       "    .dataframe tbody tr th:only-of-type {\n",
       "        vertical-align: middle;\n",
       "    }\n",
       "\n",
       "    .dataframe tbody tr th {\n",
       "        vertical-align: top;\n",
       "    }\n",
       "\n",
       "    .dataframe thead th {\n",
       "        text-align: right;\n",
       "    }\n",
       "</style>\n",
       "<table border=\"1\" class=\"dataframe\">\n",
       "  <thead>\n",
       "    <tr style=\"text-align: right;\">\n",
       "      <th></th>\n",
       "      <th>Hugo_Symbol</th>\n",
       "      <th>SWISSPROT</th>\n",
       "      <th>HGVSp_Short</th>\n",
       "      <th>Tumor_Sample_Barcode</th>\n",
       "    </tr>\n",
       "  </thead>\n",
       "  <tbody>\n",
       "    <tr>\n",
       "      <th>32787</th>\n",
       "      <td>TP53</td>\n",
       "      <td>P04637</td>\n",
       "      <td>R273H</td>\n",
       "      <td>TCGA-LL-A6FR</td>\n",
       "    </tr>\n",
       "  </tbody>\n",
       "</table>\n",
       "</div>"
      ],
      "text/plain": [
       "      Hugo_Symbol SWISSPROT HGVSp_Short Tumor_Sample_Barcode\n",
       "32787        TP53    P04637       R273H         TCGA-LL-A6FR"
      ]
     },
     "metadata": {},
     "output_type": "display_data"
    },
    {
     "name": "stdout",
     "output_type": "stream",
     "text": [
      "\n",
      " 194  -  TCGA-LL-A8F5\n"
     ]
    },
    {
     "data": {
      "text/html": [
       "<div>\n",
       "<style scoped>\n",
       "    .dataframe tbody tr th:only-of-type {\n",
       "        vertical-align: middle;\n",
       "    }\n",
       "\n",
       "    .dataframe tbody tr th {\n",
       "        vertical-align: top;\n",
       "    }\n",
       "\n",
       "    .dataframe thead th {\n",
       "        text-align: right;\n",
       "    }\n",
       "</style>\n",
       "<table border=\"1\" class=\"dataframe\">\n",
       "  <thead>\n",
       "    <tr style=\"text-align: right;\">\n",
       "      <th></th>\n",
       "      <th>Hugo_Symbol</th>\n",
       "      <th>SWISSPROT</th>\n",
       "      <th>HGVSp_Short</th>\n",
       "      <th>Tumor_Sample_Barcode</th>\n",
       "    </tr>\n",
       "  </thead>\n",
       "  <tbody>\n",
       "    <tr>\n",
       "      <th>21454</th>\n",
       "      <td>TP53</td>\n",
       "      <td>P04637</td>\n",
       "      <td>R273L</td>\n",
       "      <td>TCGA-LL-A8F5</td>\n",
       "    </tr>\n",
       "  </tbody>\n",
       "</table>\n",
       "</div>"
      ],
      "text/plain": [
       "      Hugo_Symbol SWISSPROT HGVSp_Short Tumor_Sample_Barcode\n",
       "21454        TP53    P04637       R273L         TCGA-LL-A8F5"
      ]
     },
     "metadata": {},
     "output_type": "display_data"
    },
    {
     "name": "stdout",
     "output_type": "stream",
     "text": [
      "\n",
      " 195  -  TCGA-OL-A5D6\n"
     ]
    },
    {
     "data": {
      "text/html": [
       "<div>\n",
       "<style scoped>\n",
       "    .dataframe tbody tr th:only-of-type {\n",
       "        vertical-align: middle;\n",
       "    }\n",
       "\n",
       "    .dataframe tbody tr th {\n",
       "        vertical-align: top;\n",
       "    }\n",
       "\n",
       "    .dataframe thead th {\n",
       "        text-align: right;\n",
       "    }\n",
       "</style>\n",
       "<table border=\"1\" class=\"dataframe\">\n",
       "  <thead>\n",
       "    <tr style=\"text-align: right;\">\n",
       "      <th></th>\n",
       "      <th>Hugo_Symbol</th>\n",
       "      <th>SWISSPROT</th>\n",
       "      <th>HGVSp_Short</th>\n",
       "      <th>Tumor_Sample_Barcode</th>\n",
       "    </tr>\n",
       "  </thead>\n",
       "  <tbody>\n",
       "    <tr>\n",
       "      <th>56029</th>\n",
       "      <td>TP53</td>\n",
       "      <td>P04637</td>\n",
       "      <td>C242G</td>\n",
       "      <td>TCGA-OL-A5D6</td>\n",
       "    </tr>\n",
       "  </tbody>\n",
       "</table>\n",
       "</div>"
      ],
      "text/plain": [
       "      Hugo_Symbol SWISSPROT HGVSp_Short Tumor_Sample_Barcode\n",
       "56029        TP53    P04637       C242G         TCGA-OL-A5D6"
      ]
     },
     "metadata": {},
     "output_type": "display_data"
    },
    {
     "name": "stdout",
     "output_type": "stream",
     "text": [
      "\n",
      " 196  -  TCGA-OL-A5D7\n"
     ]
    },
    {
     "data": {
      "text/html": [
       "<div>\n",
       "<style scoped>\n",
       "    .dataframe tbody tr th:only-of-type {\n",
       "        vertical-align: middle;\n",
       "    }\n",
       "\n",
       "    .dataframe tbody tr th {\n",
       "        vertical-align: top;\n",
       "    }\n",
       "\n",
       "    .dataframe thead th {\n",
       "        text-align: right;\n",
       "    }\n",
       "</style>\n",
       "<table border=\"1\" class=\"dataframe\">\n",
       "  <thead>\n",
       "    <tr style=\"text-align: right;\">\n",
       "      <th></th>\n",
       "      <th>Hugo_Symbol</th>\n",
       "      <th>SWISSPROT</th>\n",
       "      <th>HGVSp_Short</th>\n",
       "      <th>Tumor_Sample_Barcode</th>\n",
       "    </tr>\n",
       "  </thead>\n",
       "  <tbody>\n",
       "    <tr>\n",
       "      <th>33001</th>\n",
       "      <td>TP53</td>\n",
       "      <td>P04637</td>\n",
       "      <td>V272M</td>\n",
       "      <td>TCGA-OL-A5D7</td>\n",
       "    </tr>\n",
       "  </tbody>\n",
       "</table>\n",
       "</div>"
      ],
      "text/plain": [
       "      Hugo_Symbol SWISSPROT HGVSp_Short Tumor_Sample_Barcode\n",
       "33001        TP53    P04637       V272M         TCGA-OL-A5D7"
      ]
     },
     "metadata": {},
     "output_type": "display_data"
    },
    {
     "name": "stdout",
     "output_type": "stream",
     "text": [
      "\n",
      " 197  -  TCGA-OL-A5RY\n"
     ]
    },
    {
     "data": {
      "text/html": [
       "<div>\n",
       "<style scoped>\n",
       "    .dataframe tbody tr th:only-of-type {\n",
       "        vertical-align: middle;\n",
       "    }\n",
       "\n",
       "    .dataframe tbody tr th {\n",
       "        vertical-align: top;\n",
       "    }\n",
       "\n",
       "    .dataframe thead th {\n",
       "        text-align: right;\n",
       "    }\n",
       "</style>\n",
       "<table border=\"1\" class=\"dataframe\">\n",
       "  <thead>\n",
       "    <tr style=\"text-align: right;\">\n",
       "      <th></th>\n",
       "      <th>Hugo_Symbol</th>\n",
       "      <th>SWISSPROT</th>\n",
       "      <th>HGVSp_Short</th>\n",
       "      <th>Tumor_Sample_Barcode</th>\n",
       "    </tr>\n",
       "  </thead>\n",
       "  <tbody>\n",
       "    <tr>\n",
       "      <th>19821</th>\n",
       "      <td>TP53</td>\n",
       "      <td>P04637</td>\n",
       "      <td>H179Q</td>\n",
       "      <td>TCGA-OL-A5RY</td>\n",
       "    </tr>\n",
       "  </tbody>\n",
       "</table>\n",
       "</div>"
      ],
      "text/plain": [
       "      Hugo_Symbol SWISSPROT HGVSp_Short Tumor_Sample_Barcode\n",
       "19821        TP53    P04637       H179Q         TCGA-OL-A5RY"
      ]
     },
     "metadata": {},
     "output_type": "display_data"
    },
    {
     "name": "stdout",
     "output_type": "stream",
     "text": [
      "\n",
      " 198  -  TCGA-OL-A6VO\n"
     ]
    },
    {
     "data": {
      "text/html": [
       "<div>\n",
       "<style scoped>\n",
       "    .dataframe tbody tr th:only-of-type {\n",
       "        vertical-align: middle;\n",
       "    }\n",
       "\n",
       "    .dataframe tbody tr th {\n",
       "        vertical-align: top;\n",
       "    }\n",
       "\n",
       "    .dataframe thead th {\n",
       "        text-align: right;\n",
       "    }\n",
       "</style>\n",
       "<table border=\"1\" class=\"dataframe\">\n",
       "  <thead>\n",
       "    <tr style=\"text-align: right;\">\n",
       "      <th></th>\n",
       "      <th>Hugo_Symbol</th>\n",
       "      <th>SWISSPROT</th>\n",
       "      <th>HGVSp_Short</th>\n",
       "      <th>Tumor_Sample_Barcode</th>\n",
       "    </tr>\n",
       "  </thead>\n",
       "  <tbody>\n",
       "    <tr>\n",
       "      <th>59479</th>\n",
       "      <td>TP53</td>\n",
       "      <td>P04637</td>\n",
       "      <td>V157D</td>\n",
       "      <td>TCGA-OL-A6VO</td>\n",
       "    </tr>\n",
       "  </tbody>\n",
       "</table>\n",
       "</div>"
      ],
      "text/plain": [
       "      Hugo_Symbol SWISSPROT HGVSp_Short Tumor_Sample_Barcode\n",
       "59479        TP53    P04637       V157D         TCGA-OL-A6VO"
      ]
     },
     "metadata": {},
     "output_type": "display_data"
    },
    {
     "name": "stdout",
     "output_type": "stream",
     "text": [
      "\n",
      " 199  -  TCGA-PE-A5DE\n"
     ]
    },
    {
     "data": {
      "text/html": [
       "<div>\n",
       "<style scoped>\n",
       "    .dataframe tbody tr th:only-of-type {\n",
       "        vertical-align: middle;\n",
       "    }\n",
       "\n",
       "    .dataframe tbody tr th {\n",
       "        vertical-align: top;\n",
       "    }\n",
       "\n",
       "    .dataframe thead th {\n",
       "        text-align: right;\n",
       "    }\n",
       "</style>\n",
       "<table border=\"1\" class=\"dataframe\">\n",
       "  <thead>\n",
       "    <tr style=\"text-align: right;\">\n",
       "      <th></th>\n",
       "      <th>Hugo_Symbol</th>\n",
       "      <th>SWISSPROT</th>\n",
       "      <th>HGVSp_Short</th>\n",
       "      <th>Tumor_Sample_Barcode</th>\n",
       "    </tr>\n",
       "  </thead>\n",
       "  <tbody>\n",
       "    <tr>\n",
       "      <th>60013</th>\n",
       "      <td>TP53</td>\n",
       "      <td>P04637</td>\n",
       "      <td>M169I</td>\n",
       "      <td>TCGA-PE-A5DE</td>\n",
       "    </tr>\n",
       "  </tbody>\n",
       "</table>\n",
       "</div>"
      ],
      "text/plain": [
       "      Hugo_Symbol SWISSPROT HGVSp_Short Tumor_Sample_Barcode\n",
       "60013        TP53    P04637       M169I         TCGA-PE-A5DE"
      ]
     },
     "metadata": {},
     "output_type": "display_data"
    },
    {
     "name": "stdout",
     "output_type": "stream",
     "text": [
      "\n",
      " 200  -  TCGA-PL-A8LV\n"
     ]
    },
    {
     "data": {
      "text/html": [
       "<div>\n",
       "<style scoped>\n",
       "    .dataframe tbody tr th:only-of-type {\n",
       "        vertical-align: middle;\n",
       "    }\n",
       "\n",
       "    .dataframe tbody tr th {\n",
       "        vertical-align: top;\n",
       "    }\n",
       "\n",
       "    .dataframe thead th {\n",
       "        text-align: right;\n",
       "    }\n",
       "</style>\n",
       "<table border=\"1\" class=\"dataframe\">\n",
       "  <thead>\n",
       "    <tr style=\"text-align: right;\">\n",
       "      <th></th>\n",
       "      <th>Hugo_Symbol</th>\n",
       "      <th>SWISSPROT</th>\n",
       "      <th>HGVSp_Short</th>\n",
       "      <th>Tumor_Sample_Barcode</th>\n",
       "    </tr>\n",
       "  </thead>\n",
       "  <tbody>\n",
       "    <tr>\n",
       "      <th>34749</th>\n",
       "      <td>TP53</td>\n",
       "      <td>P04637</td>\n",
       "      <td>C275Y</td>\n",
       "      <td>TCGA-PL-A8LV</td>\n",
       "    </tr>\n",
       "  </tbody>\n",
       "</table>\n",
       "</div>"
      ],
      "text/plain": [
       "      Hugo_Symbol SWISSPROT HGVSp_Short Tumor_Sample_Barcode\n",
       "34749        TP53    P04637       C275Y         TCGA-PL-A8LV"
      ]
     },
     "metadata": {},
     "output_type": "display_data"
    },
    {
     "name": "stdout",
     "output_type": "stream",
     "text": [
      "\n",
      " 201  -  TCGA-PL-A8LZ\n"
     ]
    },
    {
     "data": {
      "text/html": [
       "<div>\n",
       "<style scoped>\n",
       "    .dataframe tbody tr th:only-of-type {\n",
       "        vertical-align: middle;\n",
       "    }\n",
       "\n",
       "    .dataframe tbody tr th {\n",
       "        vertical-align: top;\n",
       "    }\n",
       "\n",
       "    .dataframe thead th {\n",
       "        text-align: right;\n",
       "    }\n",
       "</style>\n",
       "<table border=\"1\" class=\"dataframe\">\n",
       "  <thead>\n",
       "    <tr style=\"text-align: right;\">\n",
       "      <th></th>\n",
       "      <th>Hugo_Symbol</th>\n",
       "      <th>SWISSPROT</th>\n",
       "      <th>HGVSp_Short</th>\n",
       "      <th>Tumor_Sample_Barcode</th>\n",
       "    </tr>\n",
       "  </thead>\n",
       "  <tbody>\n",
       "    <tr>\n",
       "      <th>8965</th>\n",
       "      <td>TP53</td>\n",
       "      <td>P04637</td>\n",
       "      <td>R175H</td>\n",
       "      <td>TCGA-PL-A8LZ</td>\n",
       "    </tr>\n",
       "  </tbody>\n",
       "</table>\n",
       "</div>"
      ],
      "text/plain": [
       "     Hugo_Symbol SWISSPROT HGVSp_Short Tumor_Sample_Barcode\n",
       "8965        TP53    P04637       R175H         TCGA-PL-A8LZ"
      ]
     },
     "metadata": {},
     "output_type": "display_data"
    },
    {
     "name": "stdout",
     "output_type": "stream",
     "text": [
      "\n",
      " 202  -  TCGA-S3-AA0Z\n"
     ]
    },
    {
     "data": {
      "text/html": [
       "<div>\n",
       "<style scoped>\n",
       "    .dataframe tbody tr th:only-of-type {\n",
       "        vertical-align: middle;\n",
       "    }\n",
       "\n",
       "    .dataframe tbody tr th {\n",
       "        vertical-align: top;\n",
       "    }\n",
       "\n",
       "    .dataframe thead th {\n",
       "        text-align: right;\n",
       "    }\n",
       "</style>\n",
       "<table border=\"1\" class=\"dataframe\">\n",
       "  <thead>\n",
       "    <tr style=\"text-align: right;\">\n",
       "      <th></th>\n",
       "      <th>Hugo_Symbol</th>\n",
       "      <th>SWISSPROT</th>\n",
       "      <th>HGVSp_Short</th>\n",
       "      <th>Tumor_Sample_Barcode</th>\n",
       "    </tr>\n",
       "  </thead>\n",
       "  <tbody>\n",
       "    <tr>\n",
       "      <th>9267</th>\n",
       "      <td>TP53</td>\n",
       "      <td>P04637</td>\n",
       "      <td>S127Y</td>\n",
       "      <td>TCGA-S3-AA0Z</td>\n",
       "    </tr>\n",
       "  </tbody>\n",
       "</table>\n",
       "</div>"
      ],
      "text/plain": [
       "     Hugo_Symbol SWISSPROT HGVSp_Short Tumor_Sample_Barcode\n",
       "9267        TP53    P04637       S127Y         TCGA-S3-AA0Z"
      ]
     },
     "metadata": {},
     "output_type": "display_data"
    },
    {
     "name": "stdout",
     "output_type": "stream",
     "text": [
      "\n",
      " 203  -  TCGA-UU-A93S\n"
     ]
    },
    {
     "data": {
      "text/html": [
       "<div>\n",
       "<style scoped>\n",
       "    .dataframe tbody tr th:only-of-type {\n",
       "        vertical-align: middle;\n",
       "    }\n",
       "\n",
       "    .dataframe tbody tr th {\n",
       "        vertical-align: top;\n",
       "    }\n",
       "\n",
       "    .dataframe thead th {\n",
       "        text-align: right;\n",
       "    }\n",
       "</style>\n",
       "<table border=\"1\" class=\"dataframe\">\n",
       "  <thead>\n",
       "    <tr style=\"text-align: right;\">\n",
       "      <th></th>\n",
       "      <th>Hugo_Symbol</th>\n",
       "      <th>SWISSPROT</th>\n",
       "      <th>HGVSp_Short</th>\n",
       "      <th>Tumor_Sample_Barcode</th>\n",
       "    </tr>\n",
       "  </thead>\n",
       "  <tbody>\n",
       "    <tr>\n",
       "      <th>26343</th>\n",
       "      <td>TP53</td>\n",
       "      <td>P04637</td>\n",
       "      <td>Q136P</td>\n",
       "      <td>TCGA-UU-A93S</td>\n",
       "    </tr>\n",
       "  </tbody>\n",
       "</table>\n",
       "</div>"
      ],
      "text/plain": [
       "      Hugo_Symbol SWISSPROT HGVSp_Short Tumor_Sample_Barcode\n",
       "26343        TP53    P04637       Q136P         TCGA-UU-A93S"
      ]
     },
     "metadata": {},
     "output_type": "display_data"
    },
    {
     "name": "stdout",
     "output_type": "stream",
     "text": [
      "\n",
      " 204  -  TCGA-Z7-A8R6\n"
     ]
    },
    {
     "data": {
      "text/html": [
       "<div>\n",
       "<style scoped>\n",
       "    .dataframe tbody tr th:only-of-type {\n",
       "        vertical-align: middle;\n",
       "    }\n",
       "\n",
       "    .dataframe tbody tr th {\n",
       "        vertical-align: top;\n",
       "    }\n",
       "\n",
       "    .dataframe thead th {\n",
       "        text-align: right;\n",
       "    }\n",
       "</style>\n",
       "<table border=\"1\" class=\"dataframe\">\n",
       "  <thead>\n",
       "    <tr style=\"text-align: right;\">\n",
       "      <th></th>\n",
       "      <th>Hugo_Symbol</th>\n",
       "      <th>SWISSPROT</th>\n",
       "      <th>HGVSp_Short</th>\n",
       "      <th>Tumor_Sample_Barcode</th>\n",
       "    </tr>\n",
       "  </thead>\n",
       "  <tbody>\n",
       "    <tr>\n",
       "      <th>23359</th>\n",
       "      <td>TP53</td>\n",
       "      <td>P04637</td>\n",
       "      <td>E285K</td>\n",
       "      <td>TCGA-Z7-A8R6</td>\n",
       "    </tr>\n",
       "  </tbody>\n",
       "</table>\n",
       "</div>"
      ],
      "text/plain": [
       "      Hugo_Symbol SWISSPROT HGVSp_Short Tumor_Sample_Barcode\n",
       "23359        TP53    P04637       E285K         TCGA-Z7-A8R6"
      ]
     },
     "metadata": {},
     "output_type": "display_data"
    }
   ],
   "source": [
    "i = 0\n",
    "for patient in brca_patients_actual:\n",
    "    if not get_patient_snv(patient, brca_snv_simplified)[\n",
    "        get_patient_snv(patient, brca_snv_simplified)[\"SWISSPROT\"] == \"P04637\"\n",
    "    ].empty:\n",
    "        i += 1\n",
    "        print('\\n', i, ' - ', patient)\n",
    "        display(\n",
    "            get_this_protein_from_this_patient_snv(\n",
    "                \"P04637\", get_patient_snv(patient, brca_snv_simplified)\n",
    "            )\n",
    "        )"
   ]
  },
  {
   "cell_type": "code",
   "execution_count": null,
   "id": "0354e679-2adb-400b-a7b9-7df99b7501a3",
   "metadata": {},
   "outputs": [],
   "source": []
  },
  {
   "cell_type": "code",
   "execution_count": null,
   "id": "048c9916-103c-4b15-b7be-572a881a4c7e",
   "metadata": {},
   "outputs": [],
   "source": []
  },
  {
   "cell_type": "code",
   "execution_count": 87,
   "id": "baee804a-69c8-4f9d-be8a-a06604251c41",
   "metadata": {},
   "outputs": [],
   "source": [
    "def get_this_protein_from_this_patient_snv(protein, patient_snv):\n",
    "    data = patient_snv[\n",
    "        patient_snv[\"SWISSPROT\"] == protein\n",
    "    ]\n",
    "    \n",
    "    return data"
   ]
  },
  {
   "cell_type": "code",
   "execution_count": 90,
   "id": "98c93049-40cf-47dd-b8b6-ce88ff612578",
   "metadata": {},
   "outputs": [
    {
     "data": {
      "text/html": [
       "<div>\n",
       "<style scoped>\n",
       "    .dataframe tbody tr th:only-of-type {\n",
       "        vertical-align: middle;\n",
       "    }\n",
       "\n",
       "    .dataframe tbody tr th {\n",
       "        vertical-align: top;\n",
       "    }\n",
       "\n",
       "    .dataframe thead th {\n",
       "        text-align: right;\n",
       "    }\n",
       "</style>\n",
       "<table border=\"1\" class=\"dataframe\">\n",
       "  <thead>\n",
       "    <tr style=\"text-align: right;\">\n",
       "      <th></th>\n",
       "      <th>Hugo_Symbol</th>\n",
       "      <th>SWISSPROT</th>\n",
       "      <th>HGVSp_Short</th>\n",
       "      <th>Tumor_Sample_Barcode</th>\n",
       "    </tr>\n",
       "  </thead>\n",
       "  <tbody>\n",
       "    <tr>\n",
       "      <th>3201</th>\n",
       "      <td>UBA6</td>\n",
       "      <td>A0AVT1</td>\n",
       "      <td>T222M</td>\n",
       "      <td>TCGA-AN-A0FF</td>\n",
       "    </tr>\n",
       "  </tbody>\n",
       "</table>\n",
       "</div>"
      ],
      "text/plain": [
       "     Hugo_Symbol SWISSPROT HGVSp_Short Tumor_Sample_Barcode\n",
       "3201        UBA6    A0AVT1       T222M         TCGA-AN-A0FF"
      ]
     },
     "execution_count": 90,
     "metadata": {},
     "output_type": "execute_result"
    }
   ],
   "source": [
    "get_this_protein_from_this_patient_snv(\n",
    "    \"A0AVT1\", get_patient_snv(\"TCGA-AN-A0FF\", brca_snv_simplified)\n",
    ")"
   ]
  },
  {
   "cell_type": "code",
   "execution_count": 91,
   "id": "ba16da5d-244b-40c2-8c61-d671d112190c",
   "metadata": {},
   "outputs": [
    {
     "data": {
      "text/html": [
       "<div>\n",
       "<style scoped>\n",
       "    .dataframe tbody tr th:only-of-type {\n",
       "        vertical-align: middle;\n",
       "    }\n",
       "\n",
       "    .dataframe tbody tr th {\n",
       "        vertical-align: top;\n",
       "    }\n",
       "\n",
       "    .dataframe thead th {\n",
       "        text-align: right;\n",
       "    }\n",
       "</style>\n",
       "<table border=\"1\" class=\"dataframe\">\n",
       "  <thead>\n",
       "    <tr style=\"text-align: right;\">\n",
       "      <th></th>\n",
       "      <th>Hugo_Symbol</th>\n",
       "      <th>SWISSPROT</th>\n",
       "      <th>HGVSp_Short</th>\n",
       "      <th>Tumor_Sample_Barcode</th>\n",
       "    </tr>\n",
       "  </thead>\n",
       "  <tbody>\n",
       "    <tr>\n",
       "      <th>21048</th>\n",
       "      <td>UBA6</td>\n",
       "      <td>A0AVT1</td>\n",
       "      <td>S138F</td>\n",
       "      <td>TCGA-AO-A03O</td>\n",
       "    </tr>\n",
       "  </tbody>\n",
       "</table>\n",
       "</div>"
      ],
      "text/plain": [
       "      Hugo_Symbol SWISSPROT HGVSp_Short Tumor_Sample_Barcode\n",
       "21048        UBA6    A0AVT1       S138F         TCGA-AO-A03O"
      ]
     },
     "execution_count": 91,
     "metadata": {},
     "output_type": "execute_result"
    }
   ],
   "source": [
    "get_this_protein_from_this_patient_snv(\n",
    "    \"A0AVT1\", get_patient_snv(\"TCGA-AO-A03O\", brca_snv_simplified)\n",
    ")"
   ]
  },
  {
   "cell_type": "code",
   "execution_count": null,
   "id": "d3b76fec-c4d8-464a-a8fb-43566311644e",
   "metadata": {},
   "outputs": [],
   "source": []
  },
  {
   "cell_type": "code",
   "execution_count": null,
   "id": "230bd9f8-c412-4464-b610-53339ee29c26",
   "metadata": {},
   "outputs": [],
   "source": []
  },
  {
   "cell_type": "code",
   "execution_count": null,
   "id": "8e9d6c6a-966f-4479-9ad0-08f05062910c",
   "metadata": {},
   "outputs": [],
   "source": []
  },
  {
   "cell_type": "code",
   "execution_count": null,
   "id": "9ea2c7ee-6123-4752-8473-973c44d04767",
   "metadata": {},
   "outputs": [],
   "source": []
  },
  {
   "cell_type": "code",
   "execution_count": 90,
   "id": "54522345-53ef-41c3-8e19-fc7b7ae85982",
   "metadata": {},
   "outputs": [
    {
     "data": {
      "text/html": [
       "<div>\n",
       "<style scoped>\n",
       "    .dataframe tbody tr th:only-of-type {\n",
       "        vertical-align: middle;\n",
       "    }\n",
       "\n",
       "    .dataframe tbody tr th {\n",
       "        vertical-align: top;\n",
       "    }\n",
       "\n",
       "    .dataframe thead th {\n",
       "        text-align: right;\n",
       "    }\n",
       "</style>\n",
       "<table border=\"1\" class=\"dataframe\">\n",
       "  <thead>\n",
       "    <tr style=\"text-align: right;\">\n",
       "      <th></th>\n",
       "      <th>Hugo_Symbol</th>\n",
       "      <th>SWISSPROT</th>\n",
       "      <th>HGVSp_Short</th>\n",
       "      <th>Tumor_Sample_Barcode</th>\n",
       "    </tr>\n",
       "  </thead>\n",
       "  <tbody>\n",
       "    <tr>\n",
       "      <th>3201</th>\n",
       "      <td>UBA6</td>\n",
       "      <td>A0AVT1</td>\n",
       "      <td>T222M</td>\n",
       "      <td>TCGA-AN-A0FF</td>\n",
       "    </tr>\n",
       "  </tbody>\n",
       "</table>\n",
       "</div>"
      ],
      "text/plain": [
       "     Hugo_Symbol SWISSPROT HGVSp_Short Tumor_Sample_Barcode\n",
       "3201        UBA6    A0AVT1       T222M         TCGA-AN-A0FF"
      ]
     },
     "execution_count": 90,
     "metadata": {},
     "output_type": "execute_result"
    }
   ],
   "source": [
    "get_this_protein_from_this_patient_snv(\n",
    "    \"A0AVT1\", get_patient_snv(\"TCGA-AN-A0FF\", brca_snv_simplified)\n",
    ")"
   ]
  },
  {
   "cell_type": "code",
   "execution_count": null,
   "id": "8a2a6e59-a431-423b-9485-05ad509550cb",
   "metadata": {},
   "outputs": [],
   "source": []
  },
  {
   "cell_type": "code",
   "execution_count": null,
   "id": "4ea325a2-d2aa-4385-bb77-f9403f2085d9",
   "metadata": {},
   "outputs": [],
   "source": []
  },
  {
   "cell_type": "code",
   "execution_count": null,
   "id": "052c7eae-d13a-4648-8373-5765f1d3501e",
   "metadata": {},
   "outputs": [],
   "source": []
  },
  {
   "cell_type": "code",
   "execution_count": null,
   "id": "f6ead217-5f5a-48d2-a8f0-355a327f4924",
   "metadata": {},
   "outputs": [],
   "source": []
  },
  {
   "cell_type": "code",
   "execution_count": null,
   "id": "15607a42-3975-4bf9-b000-cd67cbec8019",
   "metadata": {},
   "outputs": [],
   "source": []
  },
  {
   "cell_type": "code",
   "execution_count": 66,
   "id": "302d9b12-b182-4cf3-be67-885aac13306a",
   "metadata": {},
   "outputs": [
    {
     "data": {
      "text/html": [
       "<div>\n",
       "<style scoped>\n",
       "    .dataframe tbody tr th:only-of-type {\n",
       "        vertical-align: middle;\n",
       "    }\n",
       "\n",
       "    .dataframe tbody tr th {\n",
       "        vertical-align: top;\n",
       "    }\n",
       "\n",
       "    .dataframe thead th {\n",
       "        text-align: right;\n",
       "    }\n",
       "</style>\n",
       "<table border=\"1\" class=\"dataframe\">\n",
       "  <thead>\n",
       "    <tr style=\"text-align: right;\">\n",
       "      <th></th>\n",
       "      <th>Hugo_Symbol</th>\n",
       "      <th>SWISSPROT</th>\n",
       "      <th>HGVSp_Short</th>\n",
       "      <th>Tumor_Sample_Barcode</th>\n",
       "    </tr>\n",
       "  </thead>\n",
       "  <tbody>\n",
       "    <tr>\n",
       "      <th>43824</th>\n",
       "      <td>TANC1</td>\n",
       "      <td>Q9C0D5</td>\n",
       "      <td>A1087T</td>\n",
       "      <td>TCGA-AN-A046</td>\n",
       "    </tr>\n",
       "    <tr>\n",
       "      <th>43825</th>\n",
       "      <td>TANC1</td>\n",
       "      <td>Q9C0D5</td>\n",
       "      <td>R1346Q</td>\n",
       "      <td>TCGA-AN-A046</td>\n",
       "    </tr>\n",
       "  </tbody>\n",
       "</table>\n",
       "</div>"
      ],
      "text/plain": [
       "      Hugo_Symbol SWISSPROT HGVSp_Short Tumor_Sample_Barcode\n",
       "43824       TANC1    Q9C0D5      A1087T         TCGA-AN-A046\n",
       "43825       TANC1    Q9C0D5      R1346Q         TCGA-AN-A046"
      ]
     },
     "execution_count": 66,
     "metadata": {},
     "output_type": "execute_result"
    }
   ],
   "source": [
    "snv_TCGA_AN_A046 = get_patient_snv(\"TCGA-AN-A046\", brca_snv_simplified)\n",
    "snv_TCGA_AN_A046[\n",
    "    snv_TCGA_AN_A046[\"SWISSPROT\"] == \"Q9C0D5\"\n",
    "]"
   ]
  },
  {
   "cell_type": "code",
   "execution_count": null,
   "id": "cddf355a-f1f3-46f9-8358-382a04e4b214",
   "metadata": {},
   "outputs": [],
   "source": []
  },
  {
   "cell_type": "code",
   "execution_count": null,
   "id": "4da70b11-8be3-489f-81ba-28ded691119f",
   "metadata": {},
   "outputs": [],
   "source": []
  },
  {
   "cell_type": "code",
   "execution_count": 67,
   "id": "f9169fc3-cbbb-4bc5-b9a6-de766a13bac1",
   "metadata": {},
   "outputs": [
    {
     "data": {
      "text/plain": [
       "False"
      ]
     },
     "execution_count": 67,
     "metadata": {},
     "output_type": "execute_result"
    }
   ],
   "source": [
    "is_core(\"Q9C0D5\", \"A1087T\", brca_core_data_original)"
   ]
  },
  {
   "cell_type": "code",
   "execution_count": 68,
   "id": "45dc648b-0713-4321-8a3c-472ed7bb7b4e",
   "metadata": {},
   "outputs": [
    {
     "data": {
      "text/plain": [
       "True"
      ]
     },
     "execution_count": 68,
     "metadata": {},
     "output_type": "execute_result"
    }
   ],
   "source": [
    "is_core(\"Q9C0D5\", \"R1346Q\", brca_core_data_original)"
   ]
  },
  {
   "cell_type": "code",
   "execution_count": 74,
   "id": "748e30e3-776f-48e5-9a18-df75986d05e0",
   "metadata": {},
   "outputs": [
    {
     "data": {
      "text/html": [
       "<div>\n",
       "<style scoped>\n",
       "    .dataframe tbody tr th:only-of-type {\n",
       "        vertical-align: middle;\n",
       "    }\n",
       "\n",
       "    .dataframe tbody tr th {\n",
       "        vertical-align: top;\n",
       "    }\n",
       "\n",
       "    .dataframe thead th {\n",
       "        text-align: right;\n",
       "    }\n",
       "</style>\n",
       "<table border=\"1\" class=\"dataframe\">\n",
       "  <thead>\n",
       "    <tr style=\"text-align: right;\">\n",
       "      <th></th>\n",
       "      <th>UniProt_ID</th>\n",
       "      <th>Mutation</th>\n",
       "      <th>Interactor_UniProt_ID</th>\n",
       "    </tr>\n",
       "  </thead>\n",
       "  <tbody>\n",
       "    <tr>\n",
       "      <th>5170</th>\n",
       "      <td>Q9C0D5</td>\n",
       "      <td>A1087T</td>\n",
       "      <td>O14936</td>\n",
       "    </tr>\n",
       "    <tr>\n",
       "      <th>5171</th>\n",
       "      <td>Q9C0D5</td>\n",
       "      <td>A1087T</td>\n",
       "      <td>O14936-2</td>\n",
       "    </tr>\n",
       "    <tr>\n",
       "      <th>5172</th>\n",
       "      <td>Q9C0D5</td>\n",
       "      <td>A1087T</td>\n",
       "      <td>O14936-3</td>\n",
       "    </tr>\n",
       "    <tr>\n",
       "      <th>5173</th>\n",
       "      <td>Q9C0D5</td>\n",
       "      <td>A1087T</td>\n",
       "      <td>O14936-4</td>\n",
       "    </tr>\n",
       "    <tr>\n",
       "      <th>5174</th>\n",
       "      <td>Q9C0D5</td>\n",
       "      <td>A1087T</td>\n",
       "      <td>O14936-6</td>\n",
       "    </tr>\n",
       "    <tr>\n",
       "      <th>5175</th>\n",
       "      <td>Q9C0D5</td>\n",
       "      <td>A1087T</td>\n",
       "      <td>Q9UQM7</td>\n",
       "    </tr>\n",
       "    <tr>\n",
       "      <th>5176</th>\n",
       "      <td>Q9C0D5</td>\n",
       "      <td>A1087T</td>\n",
       "      <td>Q9UQM7-2</td>\n",
       "    </tr>\n",
       "  </tbody>\n",
       "</table>\n",
       "</div>"
      ],
      "text/plain": [
       "     UniProt_ID Mutation Interactor_UniProt_ID\n",
       "5170     Q9C0D5   A1087T                O14936\n",
       "5171     Q9C0D5   A1087T              O14936-2\n",
       "5172     Q9C0D5   A1087T              O14936-3\n",
       "5173     Q9C0D5   A1087T              O14936-4\n",
       "5174     Q9C0D5   A1087T              O14936-6\n",
       "5175     Q9C0D5   A1087T                Q9UQM7\n",
       "5176     Q9C0D5   A1087T              Q9UQM7-2"
      ]
     },
     "execution_count": 74,
     "metadata": {},
     "output_type": "execute_result"
    }
   ],
   "source": [
    "brca_interface_data_original[\n",
    "    (brca_interface_data_original[\"UniProt_ID\"] == \"Q9C0D5\") &\n",
    "    (brca_interface_data_original[\"Mutation\"] == \"A1087T\")\n",
    "][[\"UniProt_ID\", \"Mutation\", \"Interactor_UniProt_ID\"]]"
   ]
  },
  {
   "cell_type": "code",
   "execution_count": 76,
   "id": "d5f0d150-5e74-4b3b-b997-a1b745d03293",
   "metadata": {},
   "outputs": [
    {
     "data": {
      "text/html": [
       "<div>\n",
       "<style scoped>\n",
       "    .dataframe tbody tr th:only-of-type {\n",
       "        vertical-align: middle;\n",
       "    }\n",
       "\n",
       "    .dataframe tbody tr th {\n",
       "        vertical-align: top;\n",
       "    }\n",
       "\n",
       "    .dataframe thead th {\n",
       "        text-align: right;\n",
       "    }\n",
       "</style>\n",
       "<table border=\"1\" class=\"dataframe\">\n",
       "  <thead>\n",
       "    <tr style=\"text-align: right;\">\n",
       "      <th></th>\n",
       "      <th>UniProt_ID</th>\n",
       "      <th>Mutation</th>\n",
       "      <th>Interactor_UniProt_ID</th>\n",
       "    </tr>\n",
       "  </thead>\n",
       "  <tbody>\n",
       "  </tbody>\n",
       "</table>\n",
       "</div>"
      ],
      "text/plain": [
       "Empty DataFrame\n",
       "Columns: [UniProt_ID, Mutation, Interactor_UniProt_ID]\n",
       "Index: []"
      ]
     },
     "execution_count": 76,
     "metadata": {},
     "output_type": "execute_result"
    }
   ],
   "source": [
    "brca_core_data_original[\n",
    "    (brca_core_data_original[\"UniProt_ID\"] == \"Q9C0D5\") &\n",
    "    (brca_core_data_original[\"Mutation\"] == \"A1087T\")\n",
    "][[\"UniProt_ID\", \"Mutation\", \"Interactor_UniProt_ID\"]]"
   ]
  },
  {
   "cell_type": "code",
   "execution_count": null,
   "id": "7f74fed6-eb6d-4921-a8cc-86d712d906c5",
   "metadata": {},
   "outputs": [],
   "source": []
  },
  {
   "cell_type": "code",
   "execution_count": 75,
   "id": "f4d411a9-e142-4420-b114-3ce73449aac7",
   "metadata": {},
   "outputs": [
    {
     "data": {
      "text/html": [
       "<div>\n",
       "<style scoped>\n",
       "    .dataframe tbody tr th:only-of-type {\n",
       "        vertical-align: middle;\n",
       "    }\n",
       "\n",
       "    .dataframe tbody tr th {\n",
       "        vertical-align: top;\n",
       "    }\n",
       "\n",
       "    .dataframe thead th {\n",
       "        text-align: right;\n",
       "    }\n",
       "</style>\n",
       "<table border=\"1\" class=\"dataframe\">\n",
       "  <thead>\n",
       "    <tr style=\"text-align: right;\">\n",
       "      <th></th>\n",
       "      <th>UniProt_ID</th>\n",
       "      <th>Mutation</th>\n",
       "      <th>Interactor_UniProt_ID</th>\n",
       "    </tr>\n",
       "  </thead>\n",
       "  <tbody>\n",
       "  </tbody>\n",
       "</table>\n",
       "</div>"
      ],
      "text/plain": [
       "Empty DataFrame\n",
       "Columns: [UniProt_ID, Mutation, Interactor_UniProt_ID]\n",
       "Index: []"
      ]
     },
     "execution_count": 75,
     "metadata": {},
     "output_type": "execute_result"
    }
   ],
   "source": [
    "brca_interface_data_original[\n",
    "    (brca_interface_data_original[\"UniProt_ID\"] == \"Q9C0D5\") &\n",
    "    (brca_interface_data_original[\"Mutation\"] == \"R1346Q\")\n",
    "][[\"UniProt_ID\", \"Mutation\", \"Interactor_UniProt_ID\"]]"
   ]
  },
  {
   "cell_type": "code",
   "execution_count": 77,
   "id": "a5f8cea5-daa7-4142-ad8b-0cba35ff09f8",
   "metadata": {},
   "outputs": [
    {
     "data": {
      "text/html": [
       "<div>\n",
       "<style scoped>\n",
       "    .dataframe tbody tr th:only-of-type {\n",
       "        vertical-align: middle;\n",
       "    }\n",
       "\n",
       "    .dataframe tbody tr th {\n",
       "        vertical-align: top;\n",
       "    }\n",
       "\n",
       "    .dataframe thead th {\n",
       "        text-align: right;\n",
       "    }\n",
       "</style>\n",
       "<table border=\"1\" class=\"dataframe\">\n",
       "  <thead>\n",
       "    <tr style=\"text-align: right;\">\n",
       "      <th></th>\n",
       "      <th>UniProt_ID</th>\n",
       "      <th>Mutation</th>\n",
       "      <th>Interactor_UniProt_ID</th>\n",
       "    </tr>\n",
       "  </thead>\n",
       "  <tbody>\n",
       "    <tr>\n",
       "      <th>12517</th>\n",
       "      <td>Q9C0D5</td>\n",
       "      <td>R1346Q</td>\n",
       "      <td>-</td>\n",
       "    </tr>\n",
       "  </tbody>\n",
       "</table>\n",
       "</div>"
      ],
      "text/plain": [
       "      UniProt_ID Mutation Interactor_UniProt_ID\n",
       "12517     Q9C0D5   R1346Q                     -"
      ]
     },
     "execution_count": 77,
     "metadata": {},
     "output_type": "execute_result"
    }
   ],
   "source": [
    "brca_core_data_original[\n",
    "    (brca_core_data_original[\"UniProt_ID\"] == \"Q9C0D5\") &\n",
    "    (brca_core_data_original[\"Mutation\"] == \"R1346Q\")\n",
    "][[\"UniProt_ID\", \"Mutation\", \"Interactor_UniProt_ID\"]]"
   ]
  },
  {
   "cell_type": "code",
   "execution_count": null,
   "id": "738d77d4-52c8-4790-a5f2-dc2e18d24680",
   "metadata": {},
   "outputs": [],
   "source": []
  },
  {
   "cell_type": "code",
   "execution_count": 101,
   "id": "74249736-cc01-45a1-ba88-c0e775a93b16",
   "metadata": {
    "jupyter": {
     "source_hidden": true
    },
    "tags": []
   },
   "outputs": [],
   "source": [
    "tp53_patient_interaction_data_patients = set(\n",
    "    [\n",
    "        \"TCGA-LD-A74U\",\n",
    "        \"TCGA-A7-A26F\",\n",
    "        \"TCGA-AR-A0U2\",\n",
    "        \"TCGA-A7-A6VW\",\n",
    "        \"TCGA-A7-A6VX\",\n",
    "        \"TCGA-B6-A0I1\",\n",
    "        \"TCGA-AR-A0TP\",\n",
    "        \"TCGA-C8-A134\",\n",
    "        \"TCGA-BH-A203\",\n",
    "        \"TCGA-A2-A0CL\",\n",
    "        \"TCGA-C8-A26W\",\n",
    "        \"TCGA-AR-A24T\",\n",
    "        \"TCGA-D8-A147\",\n",
    "        \"TCGA-AR-A1AJ\",\n",
    "        \"TCGA-A2-A0T1\",\n",
    "        \"TCGA-E2-A574\",\n",
    "        \"TCGA-E2-A1B1\",\n",
    "        \"TCGA-BH-A5IZ\",\n",
    "        \"TCGA-C8-A12P\",\n",
    "        \"TCGA-OL-A5RY\",\n",
    "        \"TCGA-A2-A04T\",\n",
    "        \"TCGA-LL-A8F5\",\n",
    "        \"TCGA-AR-A2LH\",\n",
    "        \"TCGA-A8-A09X\",\n",
    "        \"TCGA-D8-A1JF\",\n",
    "        \"TCGA-BH-A0WA\",\n",
    "        \"TCGA-AN-A0FX\",\n",
    "        \"TCGA-A2-A4S1\",\n",
    "        \"TCGA-UU-A93S\",\n",
    "        \"TCGA-BH-A1FE\",\n",
    "        \"TCGA-AR-A1AW\",\n",
    "        \"TCGA-D8-A1JM\",\n",
    "        \"TCGA-EW-A1P4\",\n",
    "        \"TCGA-LL-A6FR\",\n",
    "        \"TCGA-B6-A0RS\",\n",
    "        \"TCGA-A8-A08X\",\n",
    "        \"TCGA-AN-A04C\",\n",
    "        \"TCGA-PL-A8LV\",\n",
    "        \"TCGA-C8-A1HF\",\n",
    "        \"TCGA-C8-A278\",\n",
    "        \"TCGA-EW-A1P1\",\n",
    "        \"TCGA-A2-A0SW\",\n",
    "        \"TCGA-D8-A1XL\",\n",
    "        \"TCGA-LL-A5YP\",\n",
    "        \"TCGA-BH-A1FN\",\n",
    "        \"TCGA-EW-A6S9\",\n",
    "        \"TCGA-C8-A12O\",\n",
    "        \"TCGA-BH-A0C3\",\n",
    "        \"TCGA-BH-A0EB\",\n",
    "        \"TCGA-E9-A1NC\",\n",
    "        \"TCGA-B6-A0WX\",\n",
    "        \"TCGA-BH-A0BC\",\n",
    "        \"TCGA-A8-A07W\",\n",
    "        \"TCGA-BH-A0AV\",\n",
    "        \"TCGA-OL-A5D6\",\n",
    "        \"TCGA-D8-A1XT\"\n",
    "    ]\n",
    ")"
   ]
  },
  {
   "cell_type": "code",
   "execution_count": 102,
   "id": "baafb8dc-6fb9-413e-93bd-7c4751bdea39",
   "metadata": {},
   "outputs": [
    {
     "name": "stdout",
     "output_type": "stream",
     "text": [
      "56\n"
     ]
    }
   ],
   "source": [
    "print(len(tp53_patient_interaction_data_patients))"
   ]
  },
  {
   "cell_type": "code",
   "execution_count": 103,
   "id": "c401cb2c-fc9e-4a0c-8d0a-08d68e23ce6f",
   "metadata": {
    "jupyter": {
     "source_hidden": true
    },
    "tags": []
   },
   "outputs": [],
   "source": [
    "tp53_patients_patient_interface_count = set(\n",
    "    [\n",
    "        \"TCGA-A2-A0CL\",\n",
    "        \"TCGA-A2-A0SW\",\n",
    "        \"TCGA-A2-A0T1\",\n",
    "        \"TCGA-A2-A4S1\",\n",
    "        \"TCGA-A7-A26F\",\n",
    "        \"TCGA-A7-A6VW\",\n",
    "        \"TCGA-A7-A6VX\",\n",
    "        \"TCGA-A8-A07W\",\n",
    "        \"TCGA-A8-A08X\",\n",
    "        \"TCGA-A8-A09X\",\n",
    "        \"TCGA-AN-A04C\",\n",
    "        \"TCGA-AN-A0FX\",\n",
    "        \"TCGA-AR-A0TP\",\n",
    "        \"TCGA-AR-A0U2\",\n",
    "        \"TCGA-AR-A1AJ\",\n",
    "        \"TCGA-AR-A1AW\",\n",
    "        \"TCGA-AR-A24T\",\n",
    "        \"TCGA-AR-A2LH\",\n",
    "        \"TCGA-B6-A0I1\",\n",
    "        \"TCGA-B6-A0RS\",\n",
    "        \"TCGA-B6-A0WX\",\n",
    "        \"TCGA-BH-A0AV\",\n",
    "        \"TCGA-BH-A0BC\",\n",
    "        \"TCGA-BH-A0C3\",\n",
    "        \"TCGA-BH-A0EB\",\n",
    "        \"TCGA-BH-A0WA\",\n",
    "        \"TCGA-BH-A1FE\",\n",
    "        \"TCGA-BH-A1FN\",\n",
    "        \"TCGA-BH-A203\",\n",
    "        \"TCGA-BH-A5IZ\",\n",
    "        \"TCGA-C8-A12O\",\n",
    "        \"TCGA-C8-A12P\",\n",
    "        \"TCGA-C8-A134\",\n",
    "        \"TCGA-C8-A1HF\",\n",
    "        \"TCGA-C8-A26W\",\n",
    "        \"TCGA-C8-A278\",\n",
    "        \"TCGA-D8-A147\",\n",
    "        \"TCGA-D8-A1JF\",\n",
    "        \"TCGA-D8-A1JM\",\n",
    "        \"TCGA-D8-A1XL\",\n",
    "        \"TCGA-D8-A1XT\",\n",
    "        \"TCGA-E2-A1B1\",\n",
    "        \"TCGA-E2-A574\",\n",
    "        \"TCGA-E9-A1NC\",\n",
    "        \"TCGA-EW-A1P1\",\n",
    "        \"TCGA-EW-A1P4\",\n",
    "        \"TCGA-EW-A6S9\",\n",
    "        \"TCGA-LD-A74U\",\n",
    "        \"TCGA-LL-A5YP\",\n",
    "        \"TCGA-LL-A6FR\",\n",
    "        \"TCGA-LL-A8F5\",\n",
    "        \"TCGA-OL-A5D6\",\n",
    "        \"TCGA-OL-A5RY\",\n",
    "        \"TCGA-PL-A8LV\",\n",
    "        \"TCGA-UU-A93S\",\n",
    "    ]\n",
    ")"
   ]
  },
  {
   "cell_type": "code",
   "execution_count": 104,
   "id": "847aa54e-0ed7-4b11-be0d-1567abb65b67",
   "metadata": {},
   "outputs": [
    {
     "name": "stdout",
     "output_type": "stream",
     "text": [
      "55\n"
     ]
    }
   ],
   "source": [
    "print(len(tp53_patients_patient_interface_count))"
   ]
  },
  {
   "cell_type": "code",
   "execution_count": 126,
   "id": "78133cd3-3a0d-4c2a-8d1f-ad608ee6bd90",
   "metadata": {},
   "outputs": [
    {
     "data": {
      "text/plain": [
       "{'TCGA-A2-A04T'}"
      ]
     },
     "execution_count": 126,
     "metadata": {},
     "output_type": "execute_result"
    }
   ],
   "source": [
    "tp53_patient_interaction_data_patients - tp53_patients_patient_interface_count"
   ]
  },
  {
   "cell_type": "code",
   "execution_count": 110,
   "id": "4b28d29f-c128-46b5-a9b8-cb6691f2f600",
   "metadata": {},
   "outputs": [
    {
     "data": {
      "text/plain": [
       "{'TCGA-A2-A04T'}"
      ]
     },
     "execution_count": 110,
     "metadata": {},
     "output_type": "execute_result"
    }
   ],
   "source": [
    "tp53_patient_interaction_data_patients ^ tp53_patients_patient_interface_count"
   ]
  },
  {
   "cell_type": "code",
   "execution_count": 111,
   "id": "989e065b-df42-443a-a085-d57dc78cf8fe",
   "metadata": {},
   "outputs": [
    {
     "data": {
      "text/html": [
       "<div>\n",
       "<style scoped>\n",
       "    .dataframe tbody tr th:only-of-type {\n",
       "        vertical-align: middle;\n",
       "    }\n",
       "\n",
       "    .dataframe tbody tr th {\n",
       "        vertical-align: top;\n",
       "    }\n",
       "\n",
       "    .dataframe thead th {\n",
       "        text-align: right;\n",
       "    }\n",
       "</style>\n",
       "<table border=\"1\" class=\"dataframe\">\n",
       "  <thead>\n",
       "    <tr style=\"text-align: right;\">\n",
       "      <th></th>\n",
       "      <th>Hugo_Symbol</th>\n",
       "      <th>SWISSPROT</th>\n",
       "      <th>HGVSp_Short</th>\n",
       "      <th>Tumor_Sample_Barcode</th>\n",
       "    </tr>\n",
       "  </thead>\n",
       "  <tbody>\n",
       "    <tr>\n",
       "      <th>21151</th>\n",
       "      <td>TP53</td>\n",
       "      <td>P04637</td>\n",
       "      <td>R273H</td>\n",
       "      <td>TCGA-A2-A04T</td>\n",
       "    </tr>\n",
       "    <tr>\n",
       "      <th>21152</th>\n",
       "      <td>TP53</td>\n",
       "      <td>P04637</td>\n",
       "      <td>D208G</td>\n",
       "      <td>TCGA-A2-A04T</td>\n",
       "    </tr>\n",
       "  </tbody>\n",
       "</table>\n",
       "</div>"
      ],
      "text/plain": [
       "      Hugo_Symbol SWISSPROT HGVSp_Short Tumor_Sample_Barcode\n",
       "21151        TP53    P04637       R273H         TCGA-A2-A04T\n",
       "21152        TP53    P04637       D208G         TCGA-A2-A04T"
      ]
     },
     "execution_count": 111,
     "metadata": {},
     "output_type": "execute_result"
    }
   ],
   "source": [
    "get_this_protein_from_this_patient_snv(\n",
    "    \"P04637\", \n",
    "    get_patient_snv(\"TCGA-A2-A04T\", brca_snv_simplified)\n",
    ")"
   ]
  },
  {
   "cell_type": "code",
   "execution_count": null,
   "id": "e1c55505-1f75-485d-916b-956059e48a41",
   "metadata": {},
   "outputs": [],
   "source": []
  },
  {
   "cell_type": "code",
   "execution_count": null,
   "id": "52d18ae1-ccf9-47d9-8b73-e397bf9c33c8",
   "metadata": {},
   "outputs": [],
   "source": [
    "'TCGA-A2-A04T'\n",
    "\"TCGA-A7-A6VX\""
   ]
  },
  {
   "cell_type": "code",
   "execution_count": null,
   "id": "7f49db57-f2bc-4945-b79f-1211cd93fd83",
   "metadata": {},
   "outputs": [],
   "source": []
  },
  {
   "cell_type": "code",
   "execution_count": 122,
   "id": "aa097aed-a9a8-4b87-9672-8f80bbb1e2e7",
   "metadata": {},
   "outputs": [
    {
     "data": {
      "text/html": [
       "<div>\n",
       "<style scoped>\n",
       "    .dataframe tbody tr th:only-of-type {\n",
       "        vertical-align: middle;\n",
       "    }\n",
       "\n",
       "    .dataframe tbody tr th {\n",
       "        vertical-align: top;\n",
       "    }\n",
       "\n",
       "    .dataframe thead th {\n",
       "        text-align: right;\n",
       "    }\n",
       "</style>\n",
       "<table border=\"1\" class=\"dataframe\">\n",
       "  <thead>\n",
       "    <tr style=\"text-align: right;\">\n",
       "      <th></th>\n",
       "      <th>Hugo_Symbol</th>\n",
       "      <th>SWISSPROT</th>\n",
       "      <th>HGVSp_Short</th>\n",
       "      <th>Tumor_Sample_Barcode</th>\n",
       "    </tr>\n",
       "  </thead>\n",
       "  <tbody>\n",
       "    <tr>\n",
       "      <th>4782</th>\n",
       "      <td>TP53</td>\n",
       "      <td>P04637</td>\n",
       "      <td>P250L</td>\n",
       "      <td>TCGA-A7-A6VX</td>\n",
       "    </tr>\n",
       "  </tbody>\n",
       "</table>\n",
       "</div>"
      ],
      "text/plain": [
       "     Hugo_Symbol SWISSPROT HGVSp_Short Tumor_Sample_Barcode\n",
       "4782        TP53    P04637       P250L         TCGA-A7-A6VX"
      ]
     },
     "execution_count": 122,
     "metadata": {},
     "output_type": "execute_result"
    }
   ],
   "source": [
    "get_this_protein_from_this_patient_snv(\n",
    "    \"P04637\", \n",
    "    get_patient_snv(\"TCGA-A7-A6VX\", brca_snv_simplified)\n",
    ")"
   ]
  },
  {
   "cell_type": "code",
   "execution_count": 125,
   "id": "aaf2a548-6bd2-4c61-b8d2-ab5c6300bed7",
   "metadata": {},
   "outputs": [
    {
     "data": {
      "text/plain": [
       "False"
      ]
     },
     "execution_count": 125,
     "metadata": {},
     "output_type": "execute_result"
    }
   ],
   "source": [
    "is_core(\"P04637\", \"P250L\", brca_core_data_original)"
   ]
  },
  {
   "cell_type": "code",
   "execution_count": null,
   "id": "97b1e228-39ee-4407-ad29-5b4d726acdc4",
   "metadata": {},
   "outputs": [],
   "source": []
  },
  {
   "cell_type": "code",
   "execution_count": null,
   "id": "87a3b99c-957c-4f75-bf34-4d4bc25c6681",
   "metadata": {},
   "outputs": [],
   "source": []
  },
  {
   "cell_type": "code",
   "execution_count": null,
   "id": "bfaec3e0-f25a-4334-a7d5-6dc3addb9c11",
   "metadata": {},
   "outputs": [],
   "source": []
  },
  {
   "cell_type": "code",
   "execution_count": 116,
   "id": "24298400-82e7-4f1c-8010-f156c5c88f7a",
   "metadata": {},
   "outputs": [],
   "source": [
    "patient_protein_mutation_to_C_I_status = dict()"
   ]
  },
  {
   "cell_type": "code",
   "execution_count": null,
   "id": "c7f0a433-0258-4127-9522-ab8ecf8748f1",
   "metadata": {},
   "outputs": [],
   "source": []
  },
  {
   "cell_type": "code",
   "execution_count": null,
   "id": "adb91639-b71a-4d79-80a0-37c4ce3f02e3",
   "metadata": {},
   "outputs": [],
   "source": []
  },
  {
   "cell_type": "code",
   "execution_count": 119,
   "id": "d09e5629-471a-4fe8-a851-a01ac77f6c47",
   "metadata": {},
   "outputs": [
    {
     "data": {
      "text/plain": [
       "defaultdict(list,\n",
       "            {'Q86SQ9': ['T278I'],\n",
       "             'Q5TEC3': ['P34T'],\n",
       "             'P57771': ['R71C'],\n",
       "             'P08603': ['S1126L'],\n",
       "             'Q9Y6M5': ['P288R'],\n",
       "             'Q5VWZ2': ['G6W'],\n",
       "             'Q8IY50': ['A104P'],\n",
       "             'Q99698': ['Q3352P'],\n",
       "             'Q12836': ['A112E'],\n",
       "             'Q99814': ['P232T'],\n",
       "             'P17081': ['T205M'],\n",
       "             'Q6PI47': ['N423Y'],\n",
       "             'P35503': ['P195S'],\n",
       "             'P43251': ['V337M'],\n",
       "             'P49221': ['T316I'],\n",
       "             'Q9H5V8': ['C587F'],\n",
       "             'P42336': ['H1047Y'],\n",
       "             'P02765': ['G292V'],\n",
       "             'Q6T311': ['L79S'],\n",
       "             'Q7L099': ['L4V'],\n",
       "             'Q8WXG9': ['E110K'],\n",
       "             'Q9NU22': ['L423F'],\n",
       "             'P17029': ['L77V'],\n",
       "             'Q6ZU65': ['Q495K'],\n",
       "             'Q6ZMT4': ['N518S'],\n",
       "             'Q6IF42': ['P57R'],\n",
       "             'O60934': ['S213L'],\n",
       "             'Q99575': ['F1017L'],\n",
       "             'Q9NX95': ['S188W'],\n",
       "             'Q99678': ['R24L'],\n",
       "             'Q15397': ['K436Q'],\n",
       "             'Q96PU4': ['G106R'],\n",
       "             'Q5VYK3': ['T429S'],\n",
       "             'Q05193': ['V124F'],\n",
       "             'Q9H694': ['L405S'],\n",
       "             'Q12851': ['S755C'],\n",
       "             'Q14392': ['Y324C'],\n",
       "             'Q9P2H0': ['S547C'],\n",
       "             'O75969': ['S282R'],\n",
       "             'Q3KR16': ['R767P'],\n",
       "             'P02812': ['G105E'],\n",
       "             'Q6ZN18': ['S238N'],\n",
       "             'P35908': ['D234N'],\n",
       "             'Q8IVL0': ['M2156V'],\n",
       "             'P11586': ['P270A'],\n",
       "             'Q9P219': ['E1332Q'],\n",
       "             'Q9BVQ7': ['L484R'],\n",
       "             'Q8TDJ6': ['V586L'],\n",
       "             'P04637': ['R273H', 'D208G'],\n",
       "             'Q8NFA0': ['D558H'],\n",
       "             'Q10472': ['Q522H'],\n",
       "             'P43146': ['P1086L'],\n",
       "             'P17024': ['M36I'],\n",
       "             'O95571': ['G123W'],\n",
       "             'Q9UIE0': ['E88G'],\n",
       "             'Q9P2U7': ['T352I'],\n",
       "             'P28340': ['V312M'],\n",
       "             'Q14324': ['D263H'],\n",
       "             'Q9Y336': ['N280I'],\n",
       "             'O14972': ['T265N'],\n",
       "             'Q9P0X4': ['E1927D'],\n",
       "             'Q9UN30': ['I9V'],\n",
       "             'Q8NG27': ['H57Q'],\n",
       "             'O00398': ['A104S'],\n",
       "             'Q5H943': ['N34H'],\n",
       "             'O43719': ['E205K'],\n",
       "             'Q8IV76': ['R546W']})"
      ]
     },
     "execution_count": 119,
     "metadata": {},
     "output_type": "execute_result"
    }
   ],
   "source": [
    "get_patient_protein_to_mutations_dict(get_patient_snv(\"TCGA-A2-A04T\", brca_snv_simplified))"
   ]
  },
  {
   "cell_type": "code",
   "execution_count": null,
   "id": "5e852e0a-0f43-447d-8b68-46f20d3bdfa3",
   "metadata": {},
   "outputs": [],
   "source": []
  },
  {
   "cell_type": "code",
   "execution_count": null,
   "id": "e3a6d821-7c5f-4b88-a72a-b80366d0d999",
   "metadata": {},
   "outputs": [],
   "source": []
  },
  {
   "cell_type": "code",
   "execution_count": null,
   "id": "2aca1ddb-86a9-48f8-af39-8d044513d63f",
   "metadata": {},
   "outputs": [],
   "source": []
  },
  {
   "cell_type": "code",
   "execution_count": null,
   "id": "7751584d-3054-471a-a96c-9eaf25880f44",
   "metadata": {},
   "outputs": [],
   "source": []
  },
  {
   "cell_type": "code",
   "execution_count": null,
   "id": "f2f5e863-27d1-4d33-96ac-2b85fa69f397",
   "metadata": {},
   "outputs": [],
   "source": [
    "is_core()"
   ]
  },
  {
   "cell_type": "code",
   "execution_count": null,
   "id": "3a042016-0afb-45fe-840e-4dc865d7968f",
   "metadata": {},
   "outputs": [],
   "source": []
  },
  {
   "cell_type": "code",
   "execution_count": 117,
   "id": "79d66538-1afd-469d-abea-dbad9027320e",
   "metadata": {},
   "outputs": [
    {
     "data": {
      "text/html": [
       "<div>\n",
       "<style scoped>\n",
       "    .dataframe tbody tr th:only-of-type {\n",
       "        vertical-align: middle;\n",
       "    }\n",
       "\n",
       "    .dataframe tbody tr th {\n",
       "        vertical-align: top;\n",
       "    }\n",
       "\n",
       "    .dataframe thead th {\n",
       "        text-align: right;\n",
       "    }\n",
       "</style>\n",
       "<table border=\"1\" class=\"dataframe\">\n",
       "  <thead>\n",
       "    <tr style=\"text-align: right;\">\n",
       "      <th></th>\n",
       "      <th>Hugo_Symbol</th>\n",
       "      <th>SWISSPROT</th>\n",
       "      <th>HGVSp_Short</th>\n",
       "      <th>Tumor_Sample_Barcode</th>\n",
       "    </tr>\n",
       "  </thead>\n",
       "  <tbody>\n",
       "    <tr>\n",
       "      <th>21151</th>\n",
       "      <td>TP53</td>\n",
       "      <td>P04637</td>\n",
       "      <td>R273H</td>\n",
       "      <td>TCGA-A2-A04T</td>\n",
       "    </tr>\n",
       "    <tr>\n",
       "      <th>21152</th>\n",
       "      <td>TP53</td>\n",
       "      <td>P04637</td>\n",
       "      <td>D208G</td>\n",
       "      <td>TCGA-A2-A04T</td>\n",
       "    </tr>\n",
       "  </tbody>\n",
       "</table>\n",
       "</div>"
      ],
      "text/plain": [
       "      Hugo_Symbol SWISSPROT HGVSp_Short Tumor_Sample_Barcode\n",
       "21151        TP53    P04637       R273H         TCGA-A2-A04T\n",
       "21152        TP53    P04637       D208G         TCGA-A2-A04T"
      ]
     },
     "execution_count": 117,
     "metadata": {},
     "output_type": "execute_result"
    }
   ],
   "source": [
    "get_this_protein_from_this_patient_snv(\n",
    "    \"P04637\", \n",
    "    get_patient_snv(\"TCGA-A2-A04T\", brca_snv_simplified)\n",
    ")"
   ]
  },
  {
   "cell_type": "code",
   "execution_count": null,
   "id": "be18cb83-8079-4033-975d-53df7e644cb3",
   "metadata": {},
   "outputs": [],
   "source": []
  },
  {
   "cell_type": "code",
   "execution_count": null,
   "id": "f4fe7e54-6405-466d-a8ac-6524c6ce4828",
   "metadata": {},
   "outputs": [],
   "source": []
  },
  {
   "cell_type": "code",
   "execution_count": null,
   "id": "b83e8b45-226e-40e5-b47a-e13807e8b427",
   "metadata": {},
   "outputs": [],
   "source": []
  },
  {
   "cell_type": "code",
   "execution_count": null,
   "id": "c8f2495d-d33a-4bb4-b9d0-7ee54d92adc7",
   "metadata": {},
   "outputs": [],
   "source": []
  },
  {
   "cell_type": "code",
   "execution_count": null,
   "id": "36eb57d2-fde6-41f1-a73e-4be344254687",
   "metadata": {},
   "outputs": [],
   "source": []
  },
  {
   "cell_type": "code",
   "execution_count": null,
   "id": "7a359b6e-0891-4c81-ae8a-a9f579d48010",
   "metadata": {},
   "outputs": [],
   "source": []
  },
  {
   "cell_type": "code",
   "execution_count": 112,
   "id": "7ff0b269-5fb9-4b5b-b8b9-1804fc6fbef2",
   "metadata": {},
   "outputs": [
    {
     "data": {
      "text/plain": [
       "False"
      ]
     },
     "execution_count": 112,
     "metadata": {},
     "output_type": "execute_result"
    }
   ],
   "source": [
    "is_core(\"P04637\", \"R273H\", brca_core_data_original)"
   ]
  },
  {
   "cell_type": "code",
   "execution_count": 113,
   "id": "d2a2199b-f91c-4c72-b9f9-78442321b181",
   "metadata": {},
   "outputs": [
    {
     "data": {
      "text/plain": [
       "True"
      ]
     },
     "execution_count": 113,
     "metadata": {},
     "output_type": "execute_result"
    }
   ],
   "source": [
    "is_core(\"P04637\", \"D208G\", brca_core_data_original)"
   ]
  },
  {
   "cell_type": "code",
   "execution_count": null,
   "id": "2f8f3422-46ae-4633-a7a4-19d4976afa31",
   "metadata": {},
   "outputs": [],
   "source": []
  },
  {
   "cell_type": "code",
   "execution_count": null,
   "id": "c99ca9d7-9e38-4819-9b81-a7130e4d6a98",
   "metadata": {},
   "outputs": [],
   "source": []
  },
  {
   "cell_type": "code",
   "execution_count": null,
   "id": "3161b491-b007-48f0-9ffd-3444355169cf",
   "metadata": {},
   "outputs": [],
   "source": []
  },
  {
   "cell_type": "code",
   "execution_count": null,
   "id": "b5e9a235-4964-4a67-af17-71f15bd43133",
   "metadata": {},
   "outputs": [],
   "source": []
  },
  {
   "cell_type": "code",
   "execution_count": 106,
   "id": "504bf3a0-d2e5-45ac-bfc4-6b2c2ddd8404",
   "metadata": {},
   "outputs": [
    {
     "data": {
      "text/html": [
       "<div>\n",
       "<style scoped>\n",
       "    .dataframe tbody tr th:only-of-type {\n",
       "        vertical-align: middle;\n",
       "    }\n",
       "\n",
       "    .dataframe tbody tr th {\n",
       "        vertical-align: top;\n",
       "    }\n",
       "\n",
       "    .dataframe thead th {\n",
       "        text-align: right;\n",
       "    }\n",
       "</style>\n",
       "<table border=\"1\" class=\"dataframe\">\n",
       "  <thead>\n",
       "    <tr style=\"text-align: right;\">\n",
       "      <th></th>\n",
       "      <th>Hugo_Symbol</th>\n",
       "      <th>SWISSPROT</th>\n",
       "      <th>HGVSp_Short</th>\n",
       "      <th>Tumor_Sample_Barcode</th>\n",
       "    </tr>\n",
       "  </thead>\n",
       "  <tbody>\n",
       "    <tr>\n",
       "      <th>21103</th>\n",
       "      <td>DHDDS</td>\n",
       "      <td>Q86SQ9</td>\n",
       "      <td>T278I</td>\n",
       "      <td>TCGA-A2-A04T</td>\n",
       "    </tr>\n",
       "    <tr>\n",
       "      <th>21104</th>\n",
       "      <td>ZNF697</td>\n",
       "      <td>Q5TEC3</td>\n",
       "      <td>P34T</td>\n",
       "      <td>TCGA-A2-A04T</td>\n",
       "    </tr>\n",
       "    <tr>\n",
       "      <th>21105</th>\n",
       "      <td>RGS8</td>\n",
       "      <td>P57771</td>\n",
       "      <td>R71C</td>\n",
       "      <td>TCGA-A2-A04T</td>\n",
       "    </tr>\n",
       "    <tr>\n",
       "      <th>21106</th>\n",
       "      <td>CFH</td>\n",
       "      <td>P08603</td>\n",
       "      <td>S1126L</td>\n",
       "      <td>TCGA-A2-A04T</td>\n",
       "    </tr>\n",
       "    <tr>\n",
       "      <th>21107</th>\n",
       "      <td>SLC30A1</td>\n",
       "      <td>Q9Y6M5</td>\n",
       "      <td>P288R</td>\n",
       "      <td>TCGA-A2-A04T</td>\n",
       "    </tr>\n",
       "    <tr>\n",
       "      <th>...</th>\n",
       "      <td>...</td>\n",
       "      <td>...</td>\n",
       "      <td>...</td>\n",
       "      <td>...</td>\n",
       "    </tr>\n",
       "    <tr>\n",
       "      <th>21166</th>\n",
       "      <td>PJA1</td>\n",
       "      <td>Q8NG27</td>\n",
       "      <td>H57Q</td>\n",
       "      <td>TCGA-A2-A04T</td>\n",
       "    </tr>\n",
       "    <tr>\n",
       "      <th>21167</th>\n",
       "      <td>P2RY10</td>\n",
       "      <td>O00398</td>\n",
       "      <td>A104S</td>\n",
       "      <td>TCGA-A2-A04T</td>\n",
       "    </tr>\n",
       "    <tr>\n",
       "      <th>21168</th>\n",
       "      <td>CT83</td>\n",
       "      <td>Q5H943</td>\n",
       "      <td>N34H</td>\n",
       "      <td>TCGA-A2-A04T</td>\n",
       "    </tr>\n",
       "    <tr>\n",
       "      <th>21169</th>\n",
       "      <td>HTATSF1</td>\n",
       "      <td>O43719</td>\n",
       "      <td>E205K</td>\n",
       "      <td>TCGA-A2-A04T</td>\n",
       "    </tr>\n",
       "    <tr>\n",
       "      <th>21170</th>\n",
       "      <td>PASD1</td>\n",
       "      <td>Q8IV76</td>\n",
       "      <td>R546W</td>\n",
       "      <td>TCGA-A2-A04T</td>\n",
       "    </tr>\n",
       "  </tbody>\n",
       "</table>\n",
       "<p>68 rows × 4 columns</p>\n",
       "</div>"
      ],
      "text/plain": [
       "      Hugo_Symbol SWISSPROT HGVSp_Short Tumor_Sample_Barcode\n",
       "21103       DHDDS    Q86SQ9       T278I         TCGA-A2-A04T\n",
       "21104      ZNF697    Q5TEC3        P34T         TCGA-A2-A04T\n",
       "21105        RGS8    P57771        R71C         TCGA-A2-A04T\n",
       "21106         CFH    P08603      S1126L         TCGA-A2-A04T\n",
       "21107     SLC30A1    Q9Y6M5       P288R         TCGA-A2-A04T\n",
       "...           ...       ...         ...                  ...\n",
       "21166        PJA1    Q8NG27        H57Q         TCGA-A2-A04T\n",
       "21167      P2RY10    O00398       A104S         TCGA-A2-A04T\n",
       "21168        CT83    Q5H943        N34H         TCGA-A2-A04T\n",
       "21169     HTATSF1    O43719       E205K         TCGA-A2-A04T\n",
       "21170       PASD1    Q8IV76       R546W         TCGA-A2-A04T\n",
       "\n",
       "[68 rows x 4 columns]"
      ]
     },
     "execution_count": 106,
     "metadata": {},
     "output_type": "execute_result"
    }
   ],
   "source": [
    "get_patient_snv(\"TCGA-A2-A04T\", brca_snv_simplified)"
   ]
  },
  {
   "cell_type": "code",
   "execution_count": null,
   "id": "430f3901-4823-4e68-abc7-2d0c82469352",
   "metadata": {},
   "outputs": [],
   "source": []
  },
  {
   "cell_type": "code",
   "execution_count": null,
   "id": "20f911ff-df13-4e5d-ac55-536aef6ff2c7",
   "metadata": {},
   "outputs": [],
   "source": []
  },
  {
   "cell_type": "code",
   "execution_count": null,
   "id": "2c1f8a7a-89ca-4c32-8fb5-9dbd69d65b66",
   "metadata": {},
   "outputs": [],
   "source": []
  },
  {
   "cell_type": "code",
   "execution_count": null,
   "id": "65882627-e5ff-499f-ba36-53da96516a6b",
   "metadata": {},
   "outputs": [],
   "source": []
  },
  {
   "cell_type": "code",
   "execution_count": null,
   "id": "f2a90130-9f42-4272-85b7-afe036b0405d",
   "metadata": {},
   "outputs": [],
   "source": []
  },
  {
   "cell_type": "code",
   "execution_count": 21,
   "id": "7c3e035d-acc3-4d29-b768-73762d19eacd",
   "metadata": {},
   "outputs": [
    {
     "data": {
      "text/plain": [
       "'TCGA-3C-AALK'"
      ]
     },
     "execution_count": 21,
     "metadata": {},
     "output_type": "execute_result"
    }
   ],
   "source": [
    "brca_patients_actual[3]"
   ]
  },
  {
   "cell_type": "code",
   "execution_count": null,
   "id": "097b9424-6324-4d94-bcea-2b8bed5578ba",
   "metadata": {},
   "outputs": [],
   "source": []
  },
  {
   "cell_type": "code",
   "execution_count": null,
   "id": "092eca89-7f60-415e-a15a-3facfc1be3d2",
   "metadata": {},
   "outputs": [],
   "source": []
  },
  {
   "cell_type": "code",
   "execution_count": 15,
   "id": "e1ee80d6-7e20-412f-99d1-6960992e2587",
   "metadata": {},
   "outputs": [
    {
     "data": {
      "text/plain": [
       "'TCGA-A1-A0SH'"
      ]
     },
     "execution_count": 15,
     "metadata": {},
     "output_type": "execute_result"
    }
   ],
   "source": [
    "brca_patients_actual[12]"
   ]
  },
  {
   "cell_type": "code",
   "execution_count": null,
   "id": "16323bba-ff8f-4a34-bc5a-ddccd647e60a",
   "metadata": {},
   "outputs": [],
   "source": []
  },
  {
   "cell_type": "code",
   "execution_count": null,
   "id": "6a3fcefb-4c73-4060-b1fc-8098ef630066",
   "metadata": {},
   "outputs": [],
   "source": []
  },
  {
   "cell_type": "code",
   "execution_count": 61,
   "id": "2d765441-6429-4943-a201-c2983fd21649",
   "metadata": {},
   "outputs": [],
   "source": [
    "from collections import defaultdict"
   ]
  },
  {
   "cell_type": "code",
   "execution_count": 62,
   "id": "95703666-74cd-4907-8d62-e4b6a0cc5a16",
   "metadata": {},
   "outputs": [],
   "source": [
    "proteins_to_num_interface_only_patients = defaultdict(int)"
   ]
  },
  {
   "cell_type": "code",
   "execution_count": 64,
   "id": "60613546-92a3-463c-bd7f-8f006545a2d4",
   "metadata": {},
   "outputs": [
    {
     "data": {
      "text/plain": [
       "defaultdict(int, {})"
      ]
     },
     "execution_count": 64,
     "metadata": {},
     "output_type": "execute_result"
    }
   ],
   "source": [
    "proteins_to_num_interface_only_patients"
   ]
  },
  {
   "cell_type": "code",
   "execution_count": null,
   "id": "eb70ee33-94ce-41de-9ab1-7c709c962d2a",
   "metadata": {},
   "outputs": [],
   "source": []
  },
  {
   "cell_type": "code",
   "execution_count": 42,
   "id": "318d238b-0fec-49d3-8af4-c33546a8a073",
   "metadata": {},
   "outputs": [
    {
     "data": {
      "application/vnd.jupyter.widget-view+json": {
       "model_id": "45f783302d864e0baffaaba892ef0fd1",
       "version_major": 2,
       "version_minor": 0
      },
      "text/plain": [
       "  0%|          | 0/1 [00:00<?, ?it/s]"
      ]
     },
     "metadata": {},
     "output_type": "display_data"
    },
    {
     "name": "stdout",
     "output_type": "stream",
     "text": [
      "Patient: TCGA-3C-AAAU\n"
     ]
    }
   ],
   "source": [
    "for brca_patient in tqdm(brca_patients_actual[:1]):\n",
    "    print(f\"Patient: {brca_patient}\")\n",
    "    brca_patient_snv = get_patient_snv(brca_patient, brca_snv_simplified)\n",
    "    brca_patient_protein_to_mutations = get_patient_protein_to_mutations_dict(brca_patient_snv)\n",
    "    \n",
    "    for protein, mutations in brca_patient_protein_to_mutations:\n",
    "        for mutation in mutations:\n",
    "            if core_found_mutations()\n",
    "\n",
    "    proteins_to_num_interface_only_patients"
   ]
  },
  {
   "cell_type": "code",
   "execution_count": null,
   "id": "5f0aa93c-f643-46d7-9db0-4a8243b22f9c",
   "metadata": {},
   "outputs": [],
   "source": []
  },
  {
   "cell_type": "code",
   "execution_count": null,
   "id": "68a29354-6ea7-4c3b-89ea-669f8565b360",
   "metadata": {},
   "outputs": [],
   "source": []
  },
  {
   "cell_type": "code",
   "execution_count": 45,
   "id": "83c2262c-9e9a-447d-ade7-39adf132bf01",
   "metadata": {},
   "outputs": [],
   "source": [
    "from helpers.helpers_analysis.is_core import is_core"
   ]
  },
  {
   "cell_type": "code",
   "execution_count": null,
   "id": "fdab455e-308b-4497-b3f3-62d7913671e4",
   "metadata": {},
   "outputs": [],
   "source": [
    "def check_core_found(protein, mutation, core_data):\n",
    "    "
   ]
  },
  {
   "cell_type": "code",
   "execution_count": null,
   "id": "195f33dd-c721-4684-a7a0-ea571ca116c4",
   "metadata": {},
   "outputs": [],
   "source": [
    "is_core()"
   ]
  },
  {
   "cell_type": "code",
   "execution_count": null,
   "id": "dba1170f-9af1-4fb4-a556-668a21b76b56",
   "metadata": {},
   "outputs": [],
   "source": []
  },
  {
   "cell_type": "code",
   "execution_count": 44,
   "id": "c48d277d-9921-463c-a5bd-4ab6ebd39e9e",
   "metadata": {},
   "outputs": [
    {
     "data": {
      "text/plain": [
       "defaultdict(list,\n",
       "            {'Q5TEC3': ['R435W'],\n",
       "             'Q8N5C6': ['D491G'],\n",
       "             'O60315': ['S890N'],\n",
       "             'P00747': ['V291L'],\n",
       "             'Q9UDT6': ['A576V'],\n",
       "             'Q9UKM7': ['G536D'],\n",
       "             'Q9HCU0': ['E678K'],\n",
       "             'Q8TD10': ['M298V'],\n",
       "             'Q6ZMP0': ['L733V'],\n",
       "             'P01137': ['A360V'],\n",
       "             'Q8NFZ8': ['D310Y'],\n",
       "             'Q07020': ['T39N'],\n",
       "             'O15488': ['A155V'],\n",
       "             'Q96NR3': ['E869G']})"
      ]
     },
     "execution_count": 44,
     "metadata": {},
     "output_type": "execute_result"
    }
   ],
   "source": [
    "for protein, mutations in brca_patient_protein_to_mutations:\n",
    "    for mutation in mutations:\n",
    "        if core_found_mutations()"
   ]
  },
  {
   "cell_type": "code",
   "execution_count": null,
   "id": "f52722e1-0199-41de-b450-3625f8b51dec",
   "metadata": {},
   "outputs": [],
   "source": []
  },
  {
   "cell_type": "code",
   "execution_count": null,
   "id": "c3e1486d-1e53-40b0-b4bc-a80712c4878f",
   "metadata": {},
   "outputs": [],
   "source": []
  },
  {
   "cell_type": "code",
   "execution_count": null,
   "id": "0c442c74-909b-4072-9a79-62c916044aa8",
   "metadata": {},
   "outputs": [],
   "source": []
  },
  {
   "cell_type": "code",
   "execution_count": 23,
   "id": "97f97c53-a68f-47b9-a9bc-8c8f5669477e",
   "metadata": {},
   "outputs": [
    {
     "data": {
      "text/plain": [
       "defaultdict(list,\n",
       "            {'Q96E39': ['P160R'],\n",
       "             'P49189': ['R454Q'],\n",
       "             'Q8N801': ['V112L'],\n",
       "             'Q5CZC0': ['C5812R'],\n",
       "             'P25025': ['E300K'],\n",
       "             'Q8IV35': ['R360H'],\n",
       "             'P42336': ['E542K', 'M1004I'],\n",
       "             'Q6P2P2': ['I165V'],\n",
       "             'Q9NRA1': ['H306Y'],\n",
       "             'Q9BZI1': ['A357V'],\n",
       "             'Q9Y6N8': ['V320M'],\n",
       "             'P20810': ['I369T'],\n",
       "             'Q9Y5F2': ['S696L'],\n",
       "             'Q6ZN57': ['R234I'],\n",
       "             'Q99880': ['L4V'],\n",
       "             'P35442': ['T16M'],\n",
       "             'Q8IZS6': ['Y186C'],\n",
       "             'Q7L9B9': ['S102N'],\n",
       "             'O75127': ['R40Q'],\n",
       "             'Q5H8C1': ['R507C'],\n",
       "             'Q6NSJ0': ['P701L'],\n",
       "             'Q14929': ['E76D'],\n",
       "             'Q9P2V4': ['R20Q'],\n",
       "             'Q05940': ['P114T'],\n",
       "             'Q8NC01': ['M172I'],\n",
       "             'P42226': ['L745V'],\n",
       "             'O43592': ['I840N'],\n",
       "             'O15040': ['R843C'],\n",
       "             'O75376': ['P7S'],\n",
       "             'Q8NFA0': ['D277N'],\n",
       "             'Q9HBT6': ['E233K'],\n",
       "             'Q14246': ['L257F'],\n",
       "             'B7Z6K7': ['H213Y'],\n",
       "             'Q9H4G0': ['S820C'],\n",
       "             'O43526': ['L203M'],\n",
       "             'Q2NKQ1': ['E748D'],\n",
       "             'Q5TIA1': ['I383T'],\n",
       "             'Q7Z6Z7': ['A889T']})"
      ]
     },
     "execution_count": 23,
     "metadata": {},
     "output_type": "execute_result"
    }
   ],
   "source": [
    "get_patient_protein_to_mutations_dict(\n",
    "    get_patient_snv(\"TCGA-3C-AALK\", brca_snv_simplified)\n",
    ")"
   ]
  },
  {
   "cell_type": "code",
   "execution_count": null,
   "id": "73943fdc-6e32-4b2d-a6e5-ba7fa1010118",
   "metadata": {},
   "outputs": [],
   "source": []
  },
  {
   "cell_type": "code",
   "execution_count": null,
   "id": "f131719b-ac27-4ce4-8904-c4cff3912702",
   "metadata": {},
   "outputs": [],
   "source": []
  },
  {
   "cell_type": "code",
   "execution_count": null,
   "id": "7d5341d5-23e3-4ffa-8f74-ec2bb7aa5a87",
   "metadata": {},
   "outputs": [],
   "source": []
  },
  {
   "cell_type": "code",
   "execution_count": null,
   "id": "dd142c9e-5a52-4905-ba2c-a1069945c64d",
   "metadata": {},
   "outputs": [],
   "source": []
  },
  {
   "cell_type": "code",
   "execution_count": null,
   "id": "5f420f60-0321-4dfc-9be1-057fe2ec208a",
   "metadata": {},
   "outputs": [],
   "source": []
  },
  {
   "cell_type": "code",
   "execution_count": 3,
   "id": "41b01fa0-c1ca-461e-a34b-a34a96089614",
   "metadata": {},
   "outputs": [],
   "source": [
    "from helpers.helpers_analysis.is_core import is_core"
   ]
  },
  {
   "cell_type": "code",
   "execution_count": null,
   "id": "f9c318f8-e667-4afc-aa7a-dba41c70eebb",
   "metadata": {},
   "outputs": [],
   "source": []
  },
  {
   "cell_type": "code",
   "execution_count": null,
   "id": "f4ce5103-c30b-4df5-a207-c4f9c984ad4b",
   "metadata": {},
   "outputs": [],
   "source": []
  },
  {
   "cell_type": "code",
   "execution_count": null,
   "id": "f01b3f06-a4c2-41d6-a479-b93548733790",
   "metadata": {},
   "outputs": [],
   "source": []
  },
  {
   "cell_type": "code",
   "execution_count": null,
   "id": "5ed7ca75-c187-4821-bd8b-ae01eeba4da8",
   "metadata": {},
   "outputs": [],
   "source": []
  },
  {
   "cell_type": "code",
   "execution_count": null,
   "id": "cdac1c0b-ab00-420d-8d6b-3414bca313d3",
   "metadata": {},
   "outputs": [],
   "source": []
  },
  {
   "cell_type": "code",
   "execution_count": null,
   "id": "9c94b687-bd94-45c2-9590-e859c6bee80f",
   "metadata": {},
   "outputs": [],
   "source": []
  },
  {
   "cell_type": "code",
   "execution_count": null,
   "id": "c5043ea8-e7ec-49af-8089-4d47476cbe88",
   "metadata": {},
   "outputs": [],
   "source": []
  },
  {
   "cell_type": "code",
   "execution_count": null,
   "id": "d060c594-637a-4b9e-98b5-d412719370e5",
   "metadata": {},
   "outputs": [],
   "source": []
  },
  {
   "cell_type": "code",
   "execution_count": null,
   "id": "03f2498b-eccb-4dc6-acb1-8a23ac6a0bd3",
   "metadata": {},
   "outputs": [],
   "source": []
  }
 ],
 "metadata": {
  "kernelspec": {
   "display_name": "Predicting-Mutation-Effects",
   "language": "python",
   "name": "predicting-mutation-effects"
  },
  "language_info": {
   "codemirror_mode": {
    "name": "ipython",
    "version": 3
   },
   "file_extension": ".py",
   "mimetype": "text/x-python",
   "name": "python",
   "nbconvert_exporter": "python",
   "pygments_lexer": "ipython3",
   "version": "3.8.10"
  }
 },
 "nbformat": 4,
 "nbformat_minor": 5
}
