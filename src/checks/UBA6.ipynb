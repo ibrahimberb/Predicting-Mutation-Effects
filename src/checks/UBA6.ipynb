{
 "cells": [
  {
   "cell_type": "markdown",
   "id": "c52ee778-ef81-428c-badb-525248fd462a",
   "metadata": {},
   "source": [
    "# UBA6"
   ]
  },
  {
   "cell_type": "code",
   "execution_count": 22,
   "id": "04ddbc9c-80bd-45e7-a757-adaa8814e178",
   "metadata": {},
   "outputs": [],
   "source": [
    "import os\n",
    "\n",
    "os.chdir('../')"
   ]
  },
  {
   "cell_type": "code",
   "execution_count": 23,
   "id": "b7cd66ba-6130-47d1-868f-65d76d120d12",
   "metadata": {},
   "outputs": [],
   "source": [
    "from IPython.display import display\n",
    "from PredatorAnalysis import PredatorAnalysis\n",
    "\n",
    "# Paths\n",
    "## SNVs\n",
    "SNV_COMMON_PATH = \"C:/Users/ibrah/Desktop/TUSEB_Study/Data_Collection_and_Filtering/SNV/\"\n",
    "SNV_BRCA_PATH = SNV_COMMON_PATH + \"SNV_BRCA_hg38.csv\"\n",
    "\n",
    "PREDICTION_ID = \"632d9021/\"\n",
    "PREDICTIONS_COMMON_PATH = \"../data/predictions_datasets/brca_prediction_2021-10-26/\" + PREDICTION_ID\n",
    "PREDICTION_BRCA_REDUCED_PATH = PREDICTIONS_COMMON_PATH + \"predictions_soft_2021-10-26.csv\"\n",
    "\n",
    "ELASPIC_RESULTS_COMMON_PATH = \"../../My-ELASPIC-Web-API/Elaspic_Results/Merged_Results/\"  # elaspic_results_datasets\n",
    "BRCA_CORE_PATH = ELASPIC_RESULTS_COMMON_PATH + \"BRCA_Core_2021-09-28.txt\"\n",
    "BRCA_INTERFACE_PATH = ELASPIC_RESULTS_COMMON_PATH + \"BRCA_Interface_2021-09-28.txt\"\n",
    "\n",
    "# CANCER MINE GENES\n",
    "CANCER_MINE_ALL_PATH = \"../data/cancer_mine_genes/all_genes_2021-10-26.txt\"\n",
    "CANCER_MINE_BREAST_PATH = \"../data/cancer_mine_genes/breast_genes_2021-10-26.txt\"\n",
    "\n",
    "# Reflect changes in the modules immediately.\n",
    "%load_ext autoreload\n",
    "%autoreload 2"
   ]
  },
  {
   "cell_type": "code",
   "execution_count": 24,
   "id": "24b1f728-f37c-4d19-8e2e-8956689886a3",
   "metadata": {
    "scrolled": true,
    "tags": []
   },
   "outputs": [
    {
     "name": "stdout",
     "output_type": "stream",
     "text": [
      "2021-11-02 13:01:52 |\u001b[32m INFO     \u001b[0m| PredatorAnalysis |  - - Predator Analysis - - \n",
      "2021-11-02 13:01:52 |\u001b[32m INFO     \u001b[0m| PredatorAnalysis | TCGA: brca\n",
      "2021-11-02 13:01:52 |\u001b[32m INFO     \u001b[0m| PredatorAnalysis | PREDICTION ID: 632d9021/\n",
      "2021-11-02 13:01:52 |\u001b[32m INFO     \u001b[0m| helpers.helpers_analysis.loaders | Loading brca SNV datasets ..\n",
      "2021-11-02 13:01:57 |\u001b[36m DEBUG    \u001b[0m| helpers.helpers_analysis.loaders | brca SNV data size: (120988, 121)\n",
      "2021-11-02 13:01:57 |\u001b[36m DEBUG    \u001b[0m| helpers.helpers_analysis.loaders | brca SNV data processed size: (60251, 121)\n",
      "2021-11-02 13:01:57 |\u001b[32m INFO     \u001b[0m| helpers.helpers_analysis.loaders | brca SNV datasets are loaded.\n",
      "2021-11-02 13:01:57 |\u001b[32m INFO     \u001b[0m| helpers.helpers_analysis.loaders | Loading brca Prediction dataset ..\n",
      "2021-11-02 13:01:57 |\u001b[36m DEBUG    \u001b[0m| helpers.helpers_analysis.loaders | brca Prediction data shape: (3854, 4)\n",
      "2021-11-02 13:01:57 |\u001b[32m INFO     \u001b[0m| helpers.helpers_analysis.loaders | brca Prediction dataset is loaded.\n",
      "2021-11-02 13:01:57 |\u001b[32m INFO     \u001b[0m| helpers.helpers_analysis.loaders | Loading brca ELASPIC datasets ..\n",
      "2021-11-02 13:01:57 |\u001b[36m DEBUG    \u001b[0m| helpers.helpers_analysis.loaders | Loading ELASPIC CORE data materials ..\n",
      "2021-11-02 13:01:58 |\u001b[36m DEBUG    \u001b[0m| helpers.helpers_analysis.loaders | brca ELASPIC CORE data size: (19345, 103)\n",
      "2021-11-02 13:01:58 |\u001b[36m DEBUG    \u001b[0m| helpers.helpers_analysis.loaders | Loading ELASPIC INTERFACE data materials ..\n",
      "2021-11-02 13:01:58 |\u001b[36m DEBUG    \u001b[0m| helpers.helpers_analysis.loaders | brca ELASPIC INTERFACE data size: (7453, 103)\n",
      "2021-11-02 13:01:58 |\u001b[36m DEBUG    \u001b[0m| helpers.helpers_analysis.preprocessing | 3468 duplicated entries are removed.\n",
      "2021-11-02 13:01:58 |\u001b[36m DEBUG    \u001b[0m| helpers.helpers_analysis.loaders | Loading brca ELASPIC CORE & INTERFACE COMBINED data ..\n",
      "2021-11-02 13:01:58 |\u001b[36m DEBUG    \u001b[0m| helpers.helpers_analysis.loaders | \n",
      "ELASPIC CORE DATA\n",
      "(19336, 3)\n",
      "  UniProt_ID Mutation Interactor_UniProt_ID\n",
      "0     P35367    M206V                     -\n",
      "1     Q96RQ3     R66H                     -\n",
      "2     O00203    R227H                     -\n",
      "2021-11-02 13:01:58 |\u001b[36m DEBUG    \u001b[0m| helpers.helpers_analysis.loaders | \n",
      "ELASPIC INTERFACE DATA\n",
      "(3985, 3)\n",
      "  UniProt_ID Mutation Interactor_UniProt_ID\n",
      "0     P28062    R216W                P40306\n",
      "1     Q15842    E237K                Q14654\n",
      "2     Q15842    E237K                P63252\n",
      "2021-11-02 13:01:58 |\u001b[36m DEBUG    \u001b[0m| helpers.helpers_analysis.loaders | Combined data shape: (23321, 3)\n",
      "2021-11-02 13:01:58 |\u001b[32m INFO     \u001b[0m| helpers.helpers_analysis.loaders | brca ELASPIC datasets are loaded.\n",
      "2021-11-02 13:01:58 |\u001b[32m INFO     \u001b[0m| helpers.helpers_analysis.loaders | Loading reference dataset cancermine for TCGA brca ..\n",
      "2021-11-02 13:01:58 |\u001b[36m DEBUG    \u001b[0m| helpers.helpers_analysis.loaders | Loading Cancermine reference dataset cohort brca ..\n",
      "2021-11-02 13:01:58 |\u001b[36m DEBUG    \u001b[0m| helpers.helpers_analysis.loaders | Number of genes: 349\n",
      "2021-11-02 13:01:58 |\u001b[36m DEBUG    \u001b[0m| helpers.helpers_analysis.loaders | First five genes: ['ERBB2', 'MYC', 'BRCA1', 'TP53', 'EGFR']\n",
      "2021-11-02 13:01:58 |\u001b[36m DEBUG    \u001b[0m| helpers.helpers_analysis.loaders | Loading Cancermine reference dataset cohort all ..\n",
      "2021-11-02 13:01:58 |\u001b[36m DEBUG    \u001b[0m| helpers.helpers_analysis.loaders | Number of genes: 1024\n",
      "2021-11-02 13:01:58 |\u001b[36m DEBUG    \u001b[0m| helpers.helpers_analysis.loaders | First five genes: ['ERBB2', 'ABL1', 'EGFR', 'KRAS', 'BRAF']\n",
      "2021-11-02 13:01:58 |\u001b[32m INFO     \u001b[0m| helpers.helpers_analysis.loaders | cancermine reference datasets loaded.\n"
     ]
    }
   ],
   "source": [
    "predator_analysis = PredatorAnalysis(\n",
    "    tcga=\"brca\",\n",
    "    snv_path=SNV_BRCA_PATH,\n",
    "    prediction_data_path=PREDICTION_BRCA_REDUCED_PATH,\n",
    "    prediction_id=PREDICTION_ID,\n",
    "    elaspic_core_path=BRCA_CORE_PATH,\n",
    "    elaspic_interface_path=BRCA_INTERFACE_PATH,\n",
    "    reference_data_name=\"cancermine\",\n",
    "    reference_data_spec_cohort_path=CANCER_MINE_BREAST_PATH,\n",
    "    reference_data_path=CANCER_MINE_ALL_PATH\n",
    ")"
   ]
  },
  {
   "cell_type": "code",
   "execution_count": 25,
   "id": "850b193a-05d8-47b1-882b-97939d7172b1",
   "metadata": {},
   "outputs": [
    {
     "name": "stdout",
     "output_type": "stream",
     "text": [
      "(60251, 4)\n"
     ]
    },
    {
     "data": {
      "text/html": [
       "<div>\n",
       "<style scoped>\n",
       "    .dataframe tbody tr th:only-of-type {\n",
       "        vertical-align: middle;\n",
       "    }\n",
       "\n",
       "    .dataframe tbody tr th {\n",
       "        vertical-align: top;\n",
       "    }\n",
       "\n",
       "    .dataframe thead th {\n",
       "        text-align: right;\n",
       "    }\n",
       "</style>\n",
       "<table border=\"1\" class=\"dataframe\">\n",
       "  <thead>\n",
       "    <tr style=\"text-align: right;\">\n",
       "      <th></th>\n",
       "      <th>Hugo_Symbol</th>\n",
       "      <th>SWISSPROT</th>\n",
       "      <th>HGVSp_Short</th>\n",
       "      <th>Tumor_Sample_Barcode</th>\n",
       "    </tr>\n",
       "  </thead>\n",
       "  <tbody>\n",
       "    <tr>\n",
       "      <th>0</th>\n",
       "      <td>USP24</td>\n",
       "      <td>Q9UPU5</td>\n",
       "      <td>I342V</td>\n",
       "      <td>TCGA-D8-A1XY</td>\n",
       "    </tr>\n",
       "    <tr>\n",
       "      <th>1</th>\n",
       "      <td>ERICH3</td>\n",
       "      <td>Q5RHP9</td>\n",
       "      <td>E1406K</td>\n",
       "      <td>TCGA-D8-A1XY</td>\n",
       "    </tr>\n",
       "    <tr>\n",
       "      <th>2</th>\n",
       "      <td>SPHKAP</td>\n",
       "      <td>Q2M3C7</td>\n",
       "      <td>R1372S</td>\n",
       "      <td>TCGA-D8-A1XY</td>\n",
       "    </tr>\n",
       "  </tbody>\n",
       "</table>\n",
       "</div>"
      ],
      "text/plain": [
       "  Hugo_Symbol SWISSPROT HGVSp_Short Tumor_Sample_Barcode\n",
       "0       USP24    Q9UPU5       I342V         TCGA-D8-A1XY\n",
       "1      ERICH3    Q5RHP9      E1406K         TCGA-D8-A1XY\n",
       "2      SPHKAP    Q2M3C7      R1372S         TCGA-D8-A1XY"
      ]
     },
     "execution_count": 25,
     "metadata": {},
     "output_type": "execute_result"
    }
   ],
   "source": [
    "# Simplified SNV Dataset\n",
    "print(predator_analysis.data_materials[\"brca_snv_data_simplified\"].shape)\n",
    "predator_analysis.data_materials[\"brca_snv_data_simplified\"].head(3)"
   ]
  },
  {
   "cell_type": "code",
   "execution_count": 26,
   "id": "0ab58d6b-b049-4f39-9572-e8128deb0cd9",
   "metadata": {
    "scrolled": true,
    "tags": []
   },
   "outputs": [
    {
     "name": "stdout",
     "output_type": "stream",
     "text": [
      "2021-11-02 13:02:28 |\u001b[36m DEBUG    \u001b[0m| PredatorAnalysis | brca_elaspic_proteins loaded.\n",
      "2021-11-02 13:02:28 |\u001b[36m DEBUG    \u001b[0m| PredatorAnalysis | Number of proteins in ELASPIC brca: 8423\n"
     ]
    },
    {
     "data": {
      "application/vnd.jupyter.widget-view+json": {
       "model_id": "c9c33d89e12243d2972db1a33a3e3331",
       "version_major": 2,
       "version_minor": 0
      },
      "text/plain": [
       "  0%|          | 0/8423 [00:00<?, ?it/s]"
      ]
     },
     "metadata": {},
     "output_type": "display_data"
    },
    {
     "name": "stdout",
     "output_type": "stream",
     "text": [
      "Number of exceptional cases: 9\n",
      "Exceptional cases: [('P04745', ['AMY1A', 'AMY1C']), ('P04908', ['HIST1H2AB', 'HIST1H2AE']), ('P0C0S8', ['HIST1H2AL', 'HIST1H2AG', 'HIST1H2AK', 'HIST1H2AM', 'HIST1H2AI']), ('P12532', ['CKMT1B', 'CKMT1A']), ('P62805', ['HIST1H4F', 'HIST1H4H', 'HIST1H4E', 'HIST1H4L', 'HIST1H4J', 'HIST1H4K', 'HIST1H4D', 'HIST4H4', 'HIST1H4B']), ('P62807', ['HIST1H2BC', 'HIST1H2BG', 'HIST1H2BE', 'HIST1H2BF', 'HIST1H2BI']), ('P68431', ['HIST1H3B', 'HIST1H3D', 'HIST1H3F', 'HIST1H3E', 'HIST1H3J', 'HIST1H3A', 'HIST1H3I', 'HIST1H3G', 'HIST1H3C']), ('Q13748', ['TUBA3C', 'TUBA3D']), ('Q5VU13', ['VSIG8', 'C1orf204'])]\n",
      "2021-11-02 13:03:19 |\u001b[36m DEBUG    \u001b[0m| PredatorAnalysis | brca_protein_to_gene_dict loaded.\n"
     ]
    },
    {
     "data": {
      "application/vnd.jupyter.widget-view+json": {
       "model_id": "e23c3fe05c984d3fb7d5a6c84acebaa2",
       "version_major": 2,
       "version_minor": 0
      },
      "text/plain": [
       "  0%|          | 0/8423 [00:00<?, ?it/s]"
      ]
     },
     "metadata": {},
     "output_type": "display_data"
    },
    {
     "name": "stdout",
     "output_type": "stream",
     "text": [
      "0 \t A0AV96 \t 0\n",
      "1 \t A0AVI2 \t 0\n",
      "2 \t A0AVT1 \t 14\n",
      "3 \t A0FGR9 \t 2\n",
      "4 \t A0PJE2 \t 0\n",
      "2021-11-02 13:03:25 |\u001b[36m DEBUG    \u001b[0m| PredatorAnalysis | brca_protein_to_num_elaspic_interface_entries loaded.\n"
     ]
    },
    {
     "data": {
      "application/vnd.jupyter.widget-view+json": {
       "model_id": "d2a514b199994ad19ab17bcc4b428e72",
       "version_major": 2,
       "version_minor": 0
      },
      "text/plain": [
       "  0%|          | 0/8423 [00:00<?, ?it/s]"
      ]
     },
     "metadata": {},
     "output_type": "display_data"
    },
    {
     "name": "stdout",
     "output_type": "stream",
     "text": [
      "0 \t A0AV96 \t 0\n",
      "1 \t A0AVI2 \t 0\n",
      "2 \t A0AVT1 \t 7\n",
      "3 \t A0FGR9 \t 1\n",
      "4 \t A0PJE2 \t 0\n",
      "2021-11-02 13:03:31 |\u001b[36m DEBUG    \u001b[0m| PredatorAnalysis | brca_protein_to_num_unique_interactors loaded.\n",
      "2021-11-02 13:03:31 |\u001b[36m DEBUG    \u001b[0m| PredatorAnalysis | Number of patients in brca: 985.\n"
     ]
    }
   ],
   "source": [
    "predator_analysis.prepare_analysis()"
   ]
  },
  {
   "cell_type": "code",
   "execution_count": 27,
   "id": "da85d058-623c-4712-8965-d74dda7b2691",
   "metadata": {},
   "outputs": [
    {
     "name": "stdout",
     "output_type": "stream",
     "text": [
      "Number of proteins in ELASPIC BRCA: 8423\n"
     ]
    }
   ],
   "source": [
    "print('Number of proteins in ELASPIC BRCA:', len(predator_analysis.data_materials[\"brca_elaspic_proteins\"]))"
   ]
  },
  {
   "cell_type": "code",
   "execution_count": 28,
   "id": "c949c233-7bbf-4a1e-9d01-a876d7064eaf",
   "metadata": {},
   "outputs": [
    {
     "name": "stdout",
     "output_type": "stream",
     "text": [
      "Number of patients in BRCA: 985\n"
     ]
    }
   ],
   "source": [
    "print('Number of patients in BRCA:', len(predator_analysis.data_materials[\"brca_patients\"]))"
   ]
  },
  {
   "cell_type": "code",
   "execution_count": null,
   "id": "f93dbd82-a643-447d-af13-84f25fb65c6b",
   "metadata": {},
   "outputs": [],
   "source": [
    "\n"
   ]
  },
  {
   "cell_type": "code",
   "execution_count": null,
   "id": "9ab2e2ce-d971-4ebb-8246-0b0d398655f1",
   "metadata": {},
   "outputs": [],
   "source": []
  },
  {
   "cell_type": "code",
   "execution_count": null,
   "id": "c3cd92f7-e136-408f-952f-52327b8fe653",
   "metadata": {},
   "outputs": [],
   "source": []
  },
  {
   "cell_type": "code",
   "execution_count": 56,
   "id": "f49e6459-fce9-47c1-a75f-6e04d334677d",
   "metadata": {},
   "outputs": [],
   "source": [
    "from helpers.helpers_analysis.get_patient_protein_to_mutations_dict import get_patient_protein_to_mutations_dict\n",
    "from helpers.helpers_analysis.is_in_elaspic import is_in_elaspic\n",
    "from helpers.helpers_analysis.is_core import is_core"
   ]
  },
  {
   "cell_type": "code",
   "execution_count": null,
   "id": "bbe3ff11-3366-4429-9412-d5b3f217be60",
   "metadata": {},
   "outputs": [],
   "source": [
    "is_in_elaspic()"
   ]
  },
  {
   "cell_type": "code",
   "execution_count": 45,
   "id": "2e7d8063-e1b0-40f2-a8b2-aaa50530e7f6",
   "metadata": {},
   "outputs": [],
   "source": [
    "from tqdm.notebook import tqdm"
   ]
  },
  {
   "cell_type": "code",
   "execution_count": 47,
   "id": "09a9ace1-729e-468a-86f8-e1e1c707fbb8",
   "metadata": {},
   "outputs": [
    {
     "data": {
      "application/vnd.jupyter.widget-view+json": {
       "model_id": "64e2f7f8365a46ab95c6e123774dcbef",
       "version_major": 2,
       "version_minor": 0
      },
      "text/plain": [
       "  0%|          | 0/985 [00:00<?, ?it/s]"
      ]
     },
     "metadata": {},
     "output_type": "display_data"
    }
   ],
   "source": [
    "pats = set()\n",
    "for patient in tqdm(predator_analysis.data_materials[\"brca_patients\"]):\n",
    "    patient_snv = predator_analysis.data_materials[\"brca_snv_data_simplified\"][\n",
    "        predator_analysis.data_materials[\"brca_snv_data_simplified\"][\"Tumor_Sample_Barcode\"] == patient\n",
    "    ]\n",
    "    patient_protein_to_mutations = get_patient_protein_to_mutations_dict(patient_snv)\n",
    "    for protein, mutations in patient_protein_to_mutations.items():\n",
    "        for mutation in mutations:\n",
    "            in_elaspic = is_in_elaspic(\n",
    "                protein, \n",
    "                mutation, \n",
    "                elaspic_core_data=predator_analysis.data_materials[\"brca_elaspic_core_data_simplified\"],\n",
    "                elaspic_interface_data=predator_analysis.data_materials[\"brca_elaspic_interface_processed_data\"]\n",
    "            )\n",
    "            \n",
    "            if in_elaspic:             \n",
    "                if \"A0AVT1\" in patient_protein_to_mutations:\n",
    "                    pats.add(patient)"
   ]
  },
  {
   "cell_type": "code",
   "execution_count": 49,
   "id": "58ce9548-3071-41aa-b243-eec83a425dc3",
   "metadata": {},
   "outputs": [
    {
     "data": {
      "text/plain": [
       "{'TCGA-AN-A0FF',\n",
       " 'TCGA-AO-A03O',\n",
       " 'TCGA-AR-A0TX',\n",
       " 'TCGA-AR-A0TY',\n",
       " 'TCGA-BH-A1F8',\n",
       " 'TCGA-C8-A26Y',\n",
       " 'TCGA-E9-A1ND',\n",
       " 'TCGA-E9-A22E',\n",
       " 'TCGA-EW-A1IZ'}"
      ]
     },
     "execution_count": 49,
     "metadata": {},
     "output_type": "execute_result"
    }
   ],
   "source": [
    "pats"
   ]
  },
  {
   "cell_type": "code",
   "execution_count": 53,
   "id": "6eee8197-0760-4a24-81cf-0828de84a554",
   "metadata": {},
   "outputs": [],
   "source": [
    "preliminary_data = predator_analysis.data_materials[\"brca_preliminary_data\"]"
   ]
  },
  {
   "cell_type": "code",
   "execution_count": 51,
   "id": "749700d7-9a65-46d2-a22b-c826fb3b022f",
   "metadata": {
    "scrolled": true,
    "tags": []
   },
   "outputs": [
    {
     "name": "stdout",
     "output_type": "stream",
     "text": [
      "2021-11-02 14:04:04 |\u001b[36m DEBUG    \u001b[0m| PredatorAnalysis | Adding `PROTEIN` column ..\n",
      "2021-11-02 14:04:04 |\u001b[36m DEBUG    \u001b[0m| PredatorAnalysis | Adding `GENE` column ..\n",
      "2021-11-02 14:04:04 |\u001b[36m DEBUG    \u001b[0m| PredatorAnalysis | Adding `NUM_ELASPIC_INTERFACE_ENTRIES` column ..\n",
      "2021-11-02 14:04:04 |\u001b[36m DEBUG    \u001b[0m| PredatorAnalysis | Adding `NUM_DISRUPTIVE_ENTRIES` column ..\n",
      "2021-11-02 14:04:12 |\u001b[36m DEBUG    \u001b[0m| PredatorAnalysis | Adding `NUM_INCR_NOEFF_ENTRIES` column ..\n",
      "2021-11-02 14:04:22 |\u001b[36m DEBUG    \u001b[0m| PredatorAnalysis | Adding `NUM_UNIQUE_INTERACTORS` column ..\n",
      "2021-11-02 14:04:22 |\u001b[36m DEBUG    \u001b[0m| PredatorAnalysis | Adding `PATIENT_CORE_COUNT` column ..\n"
     ]
    },
    {
     "data": {
      "application/vnd.jupyter.widget-view+json": {
       "model_id": "a2a15fee35d7485080b186fd1323a46d",
       "version_major": 2,
       "version_minor": 0
      },
      "text/plain": [
       "  0%|          | 0/985 [00:00<?, ?it/s]"
      ]
     },
     "metadata": {},
     "output_type": "display_data"
    },
    {
     "name": "stdout",
     "output_type": "stream",
     "text": [
      "2021-11-02 14:10:42 |\u001b[36m DEBUG    \u001b[0m| PredatorAnalysis | Adding `PATIENT_INTERFACE_COUNT` column ..\n"
     ]
    },
    {
     "data": {
      "application/vnd.jupyter.widget-view+json": {
       "model_id": "e80646d1ef83410fb270ddcfc9d8ce49",
       "version_major": 2,
       "version_minor": 0
      },
      "text/plain": [
       "  0%|          | 0/985 [00:00<?, ?it/s]"
      ]
     },
     "metadata": {},
     "output_type": "display_data"
    },
    {
     "name": "stdout",
     "output_type": "stream",
     "text": [
      "2021-11-02 14:17:18 |\u001b[36m DEBUG    \u001b[0m| PredatorAnalysis | Adding `BASELINE` and `OUR_METHOD` columns ..\n",
      "Adding +0 when `core_flag=1`\n"
     ]
    },
    {
     "data": {
      "application/vnd.jupyter.widget-view+json": {
       "model_id": "d0fde90947ab41e2bfb716876e1dff72",
       "version_major": 2,
       "version_minor": 0
      },
      "text/plain": [
       "  0%|          | 0/985 [00:00<?, ?it/s]"
      ]
     },
     "metadata": {},
     "output_type": "display_data"
    },
    {
     "name": "stdout",
     "output_type": "stream",
     "text": [
      "2021-11-02 14:23:33 |\u001b[36m DEBUG    \u001b[0m| PredatorAnalysis | Adding `OUR_METHOD / BASELINE` column ..\n",
      "2021-11-02 14:23:33 |\u001b[36m DEBUG    \u001b[0m| PredatorAnalysis | Adding `ELASPIC_COVERAGE` column ..\n"
     ]
    },
    {
     "data": {
      "application/vnd.jupyter.widget-view+json": {
       "model_id": "b19e51abc8db456f89f5e1b86267c6f3",
       "version_major": 2,
       "version_minor": 0
      },
      "text/plain": [
       "  0%|          | 0/985 [00:00<?, ?it/s]"
      ]
     },
     "metadata": {},
     "output_type": "display_data"
    },
    {
     "name": "stdout",
     "output_type": "stream",
     "text": [
      "2021-11-02 14:27:36 |\u001b[36m DEBUG    \u001b[0m| PredatorAnalysis | Adding Reference Dataset Columns: General and Cohort Specific columns ..\n",
      "2021-11-02 14:27:36 |\u001b[36m DEBUG    \u001b[0m| PredatorAnalysis | brca_preliminary_data is constructed.\n"
     ]
    }
   ],
   "source": [
    "predator_analysis.construct_analysis_table()"
   ]
  },
  {
   "cell_type": "code",
   "execution_count": null,
   "id": "76d48f89-6604-4754-ad16-bc8f3513361a",
   "metadata": {},
   "outputs": [],
   "source": []
  },
  {
   "cell_type": "code",
   "execution_count": null,
   "id": "2820fb64-89ea-4f3d-aeaa-de0538913687",
   "metadata": {},
   "outputs": [],
   "source": []
  },
  {
   "cell_type": "code",
   "execution_count": null,
   "id": "77e0490f-9fc3-459f-813d-ee48a8e04650",
   "metadata": {},
   "outputs": [],
   "source": []
  },
  {
   "cell_type": "code",
   "execution_count": 94,
   "id": "54d1e25c-1161-4326-bda3-dfdd9612e93a",
   "metadata": {},
   "outputs": [],
   "source": [
    "def add_patient_interface_count(preliminary_data, snv_data, elaspic_core_data, elaspic_interface_data):\n",
    "    \"\"\"\n",
    "    Given a tcga preliminary_data data, add number of patients that only interface mutation occurred\n",
    "    for each protein as a new column.\n",
    "\n",
    "    Parameters\n",
    "    ----------\n",
    "        preliminary_data : <DataFrame>\n",
    "            Preliminary data which `PATIENT_INTERFACE_COUNT` column will be to be added on.\n",
    "\n",
    "        snv_data : <DataFrame>\n",
    "            An SNV dataframe, we use the processed version of SNV.\n",
    "\n",
    "        elaspic_core_data : <DataFrame>\n",
    "            The ELASPIC results file that contains only the `core` type entries.\n",
    "\n",
    "        elaspic_interface_data : <DataFrame>\n",
    "            The ELASPIC results file that contains only the `interface` type entries. It will be used to\n",
    "            check if a specific (protein, mutation) pair is an interface via `is_interface` function.\n",
    "\n",
    "    Returns\n",
    "    -------\n",
    "        None. Modifies the dataframe.\n",
    "    \"\"\"\n",
    "\n",
    "    # Initialize the `proteins_to_patient_interface_counts_dict` dictionary with proteins in preliminary_data in\n",
    "    # correct order, and the default values of 0.\n",
    "    proteins_to_patient_interface_counts_dict = dict.fromkeys(list(preliminary_data['PROTEIN']), 0)\n",
    "\n",
    "    # Get the patient IDs.\n",
    "    patients = list(snv_data['Tumor_Sample_Barcode'].unique())\n",
    "\n",
    "    for patient in tqdm(patients):\n",
    "\n",
    "        # Patient filtered dataframe: Filter SNV file for current patient.\n",
    "        patient_snv_data = snv_data[snv_data[\"Tumor_Sample_Barcode\"] == patient]\n",
    "\n",
    "        for protein, mutations in get_patient_protein_to_mutations_dict(patient_snv_data).items():\n",
    "            \n",
    "            if protein != \"P04637\":\n",
    "                continue\n",
    "\n",
    "            core_flag = 'N/A'\n",
    "            # print(protein, mutations)\n",
    "            for mutation in mutations:\n",
    "\n",
    "                # Check if (protein.mutation) is in ELASPIC.\n",
    "                if is_in_elaspic(protein, mutation, elaspic_core_data, elaspic_interface_data):\n",
    "                    # print(f'{protein}.{mutation} IS IN ELASPIC.')\n",
    "\n",
    "                    if is_core(protein, mutation, elaspic_core_data):\n",
    "                        # print(' → core found!')\n",
    "                        core_flag = 1\n",
    "                        break\n",
    "\n",
    "                    else:\n",
    "                        # print(' → interface found!')\n",
    "                        core_flag = 0\n",
    "\n",
    "                else:\n",
    "                    # print(f'{protein}.{mutation} IS NOT IN ELASPIC.')\n",
    "                    # print(f'CORE_FLAG = {core_flag}')\n",
    "                    continue\n",
    "\n",
    "            if core_flag == 0:\n",
    "                # Adding the corresponding gene counter\n",
    "                print(f\"adding patient: {patient} -- protein: {protein}\")\n",
    "                proteins_to_patient_interface_counts_dict[protein] += 1\n",
    "\n",
    "    # Add the column\n",
    "    preliminary_data['PATIENT_INTERFACE_COUNT2'] = list(proteins_to_patient_interface_counts_dict.values())\n"
   ]
  },
  {
   "cell_type": "code",
   "execution_count": 92,
   "id": "c820ef52-d170-4c12-899f-7c240b31bf1e",
   "metadata": {},
   "outputs": [],
   "source": [
    "def add_patient_core_count(preliminary_data, snv_data, elaspic_core_data, elaspic_interface_data):\n",
    "\n",
    "    # Initialize the `proteins_to_patient_interface_counts_dict` dictionary with proteins in preliminary_data in\n",
    "    # correct order, and the default values of 0.\n",
    "    proteins_to_patient_interface_counts_dict = dict.fromkeys(list(preliminary_data['PROTEIN']), 0)\n",
    "\n",
    "    # Get the patient IDs.\n",
    "    patients = list(snv_data['Tumor_Sample_Barcode'].unique())\n",
    "\n",
    "    for patient in tqdm(patients):\n",
    "\n",
    "        # Patient filtered dataframe: Filter SNV file for current patient.\n",
    "        patient_snv_data = snv_data[snv_data[\"Tumor_Sample_Barcode\"] == patient]\n",
    "\n",
    "        for protein, mutations in get_patient_protein_to_mutations_dict(patient_snv_data).items():\n",
    "            \n",
    "            if protein != \"P04637\":\n",
    "                continue\n",
    "\n",
    "            core_flag = 'N/A'\n",
    "            # print(protein, mutations)\n",
    "            for mutation in mutations:\n",
    "\n",
    "                # Check if (protein.mutation) is in ELASPIC.\n",
    "                if is_in_elaspic(protein, mutation, elaspic_core_data, elaspic_interface_data):\n",
    "                    # print(f'{protein}.{mutation} IS IN ELASPIC.')\n",
    "\n",
    "                    if is_core(protein, mutation, elaspic_core_data):\n",
    "                        # print(' → core found!')\n",
    "                        core_flag = 1\n",
    "                        break\n",
    "\n",
    "                    else:\n",
    "                        # print(' → interface found!')\n",
    "                        core_flag = 0\n",
    "\n",
    "                else:\n",
    "                    # print(f'{protein}.{mutation} IS NOT IN ELASPIC.')\n",
    "                    # print(f'CORE_FLAG = {core_flag}')\n",
    "                    continue\n",
    "\n",
    "            if core_flag == 1:\n",
    "                # Adding the corresponding gene counter\n",
    "                print(f\"adding patient: {patient} -- protein: {protein}\")\n",
    "                proteins_to_patient_interface_counts_dict[protein] += 1\n",
    "\n",
    "    # Add the column\n",
    "    return list(proteins_to_patient_interface_counts_dict.values())\n"
   ]
  },
  {
   "cell_type": "code",
   "execution_count": 77,
   "id": "7b204da1-8830-44ce-ad13-7eefa18a8a7e",
   "metadata": {},
   "outputs": [],
   "source": [
    "def add_patient_core_count2(preliminary_data, snv_data, elaspic_core_data, elaspic_interface_data):\n",
    "\n",
    "    # Initialize the `proteins_to_patient_interface_counts_dict` dictionary with proteins in preliminary_data in\n",
    "    # correct order, and the default values of 0.\n",
    "    proteins_to_patient_interface_counts_dict = dict.fromkeys(list(preliminary_data['PROTEIN']), 0)\n",
    "\n",
    "    # Get the patient IDs.\n",
    "    patients = list(snv_data['Tumor_Sample_Barcode'].unique())\n",
    "\n",
    "    for patient in tqdm(patients):\n",
    "\n",
    "        # Patient filtered dataframe: Filter SNV file for current patient.\n",
    "        patient_snv_data = snv_data[snv_data[\"Tumor_Sample_Barcode\"] == patient]\n",
    "\n",
    "        for protein, mutations in get_patient_protein_to_mutations_dict(patient_snv_data).items():\n",
    "            \n",
    "#             if protein != \"A0AVT1\":\n",
    "#                 continue\n",
    "\n",
    "            core_flag = 'N/A'\n",
    "            # print(protein, mutations)\n",
    "            for mutation in mutations:\n",
    "\n",
    "                # Check if (protein.mutation) is in ELASPIC.\n",
    "                if is_in_elaspic(protein, mutation, elaspic_core_data, elaspic_interface_data):\n",
    "                    # print(f'{protein}.{mutation} IS IN ELASPIC.')\n",
    "\n",
    "                    if is_core(protein, mutation, elaspic_core_data):\n",
    "                        # print(' → core found!')\n",
    "                        core_flag = 1\n",
    "                        break\n",
    "\n",
    "#                     else:\n",
    "#                         # print(' → interface found!')\n",
    "#                         core_flag = 0\n",
    "\n",
    "                else:\n",
    "                    # print(f'{protein}.{mutation} IS NOT IN ELASPIC.')\n",
    "                    # print(f'CORE_FLAG = {core_flag}')\n",
    "                    continue\n",
    "\n",
    "            if core_flag == 1:\n",
    "                # Adding the corresponding gene counter\n",
    "#                 print(f\"adding patient: {patient} -- protein: {protein}\")\n",
    "                proteins_to_patient_interface_counts_dict[protein] += 1\n",
    "\n",
    "    # Add the column\n",
    "    return list(proteins_to_patient_interface_counts_dict.values())\n"
   ]
  },
  {
   "cell_type": "code",
   "execution_count": 104,
   "id": "cbb32a1c-e3b3-4052-ae95-b6aa85a7801f",
   "metadata": {},
   "outputs": [],
   "source": [
    "def add_patient_elaspic_count(preliminary_data, snv_data, elaspic_core_data, elaspic_interface_data):\n",
    "\n",
    "    # Initialize the `proteins_to_patient_interface_counts_dict` dictionary with proteins in preliminary_data in\n",
    "    # correct order, and the default values of 0.\n",
    "    proteins_to_patient_interface_counts_dict = dict.fromkeys(list(preliminary_data['PROTEIN']), 0)\n",
    "\n",
    "    # Get the patient IDs.\n",
    "    patients = list(snv_data['Tumor_Sample_Barcode'].unique())\n",
    "    \n",
    "    patients_TP53 = set()\n",
    "\n",
    "    for patient in tqdm(patients):\n",
    "\n",
    "        # Patient filtered dataframe: Filter SNV file for current patient.\n",
    "        patient_snv_data = snv_data[snv_data[\"Tumor_Sample_Barcode\"] == patient]\n",
    "\n",
    "        for protein, mutations in get_patient_protein_to_mutations_dict(patient_snv_data).items():\n",
    "            \n",
    "            if protein != \"P04637\":\n",
    "                continue\n",
    "\n",
    "            patient_flag = 'N/A'\n",
    "            # print(protein, mutations)\n",
    "            for mutation in mutations:\n",
    "\n",
    "                # Check if (protein.mutation) is in ELASPIC.\n",
    "                if is_in_elaspic(protein, mutation, elaspic_core_data, elaspic_interface_data):\n",
    "                    # print(f'{protein}.{mutation} IS IN ELASPIC.')\n",
    "                    patient_flag = 1\n",
    "                    break\n",
    "\n",
    "                else:\n",
    "                    # print(f'{protein}.{mutation} IS NOT IN ELASPIC.')\n",
    "                    # print(f'CORE_FLAG = {core_flag}')\n",
    "                    continue\n",
    "\n",
    "            if patient_flag == 1:\n",
    "                # Adding the corresponding gene counter\n",
    "                print(f\"adding patient: {patient} -- protein: {protein}\")\n",
    "                patients_TP53.add(patient)\n",
    "#                 proteins_to_patient_interface_counts_dict[protein] += 1\n",
    "\n",
    "    # Add the column\n",
    "#     return list(proteins_to_patient_interface_counts_dict.values())\n",
    "    \n",
    "    print(f\"NUMBER OF PATIENTS TP53 {len(patients_TP53)}\")\n",
    "    return patients_TP53\n"
   ]
  },
  {
   "cell_type": "code",
   "execution_count": null,
   "id": "2f2a9216-5634-4d5a-9283-62cce7014145",
   "metadata": {},
   "outputs": [],
   "source": []
  },
  {
   "cell_type": "code",
   "execution_count": null,
   "id": "1a609337-9f65-4167-a137-39c0f5119f88",
   "metadata": {},
   "outputs": [],
   "source": []
  },
  {
   "cell_type": "code",
   "execution_count": 78,
   "id": "737b8804-aef7-4ba8-8a22-7088ada9bffe",
   "metadata": {},
   "outputs": [
    {
     "data": {
      "application/vnd.jupyter.widget-view+json": {
       "model_id": "917f8e923152499590f063428e5924ed",
       "version_major": 2,
       "version_minor": 0
      },
      "text/plain": [
       "  0%|          | 0/985 [00:00<?, ?it/s]"
      ]
     },
     "metadata": {},
     "output_type": "display_data"
    },
    {
     "data": {
      "application/vnd.jupyter.widget-view+json": {
       "model_id": "1fa2b270142b46fe8c861e8f4a93f693",
       "version_major": 2,
       "version_minor": 0
      },
      "text/plain": [
       "  0%|          | 0/985 [00:00<?, ?it/s]"
      ]
     },
     "metadata": {},
     "output_type": "display_data"
    }
   ],
   "source": [
    "a = add_patient_core_count(\n",
    "    preliminary_data, \n",
    "    predator_analysis.data_materials[\"brca_snv_data_simplified\"],\n",
    "    elaspic_core_data=predator_analysis.data_materials[\"brca_elaspic_core_data_simplified\"],\n",
    "    elaspic_interface_data=predator_analysis.data_materials[\"brca_elaspic_interface_processed_data\"]\n",
    ")\n",
    "\n",
    "b = add_patient_core_count2(\n",
    "    preliminary_data, \n",
    "    predator_analysis.data_materials[\"brca_snv_data_simplified\"],\n",
    "    elaspic_core_data=predator_analysis.data_materials[\"brca_elaspic_core_data_simplified\"],\n",
    "    elaspic_interface_data=predator_analysis.data_materials[\"brca_elaspic_interface_processed_data\"]\n",
    ")"
   ]
  },
  {
   "cell_type": "code",
   "execution_count": 79,
   "id": "53a44c2e-e39d-4ad9-9f5b-c0e0df6a9c59",
   "metadata": {},
   "outputs": [
    {
     "data": {
      "text/plain": [
       "True"
      ]
     },
     "execution_count": 79,
     "metadata": {},
     "output_type": "execute_result"
    }
   ],
   "source": [
    "a == b"
   ]
  },
  {
   "cell_type": "code",
   "execution_count": null,
   "id": "cf700b45-25d5-4945-96f6-4f0aaab9376f",
   "metadata": {},
   "outputs": [],
   "source": [
    "P68036:UBE2L3,Q9H832:UBE2Z,P51668:UBE2D1,P62837:UBE2D2,P61077:UBE2D3,P60604:UBE2G2,Q16763:UBE2S\n",
    "P68036:UBE2L3,                           P62837:UBE2D2,              P60604:UBE2G2,Q16763:UBE2S\n",
    "                                                       P61077:UBE2D3"
   ]
  },
  {
   "cell_type": "code",
   "execution_count": null,
   "id": "32a85359-c556-4eee-8524-529cfe1c2a69",
   "metadata": {},
   "outputs": [],
   "source": []
  },
  {
   "cell_type": "code",
   "execution_count": null,
   "id": "425dc0a9-b53c-4388-9c35-6df8cf1839cd",
   "metadata": {},
   "outputs": [],
   "source": []
  },
  {
   "cell_type": "code",
   "execution_count": 66,
   "id": "06ed713b-b6a0-461b-be23-82ec939c8737",
   "metadata": {},
   "outputs": [
    {
     "data": {
      "application/vnd.jupyter.widget-view+json": {
       "model_id": "6026862ba74a4d019136ed6be2028a3d",
       "version_major": 2,
       "version_minor": 0
      },
      "text/plain": [
       "  0%|          | 0/985 [00:00<?, ?it/s]"
      ]
     },
     "metadata": {},
     "output_type": "display_data"
    },
    {
     "name": "stdout",
     "output_type": "stream",
     "text": [
      "adding patient: TCGA-E9-A22E -- protein: A0AVT1\n",
      "adding patient: TCGA-E9-A1ND -- protein: A0AVT1\n",
      "adding patient: TCGA-AR-A0TY -- protein: A0AVT1\n",
      "adding patient: TCGA-BH-A1F8 -- protein: A0AVT1\n",
      "adding patient: TCGA-EW-A1IZ -- protein: A0AVT1\n"
     ]
    }
   ],
   "source": [
    "add_patient_interface_count(\n",
    "    preliminary_data, \n",
    "    predator_analysis.data_materials[\"brca_snv_data_simplified\"],\n",
    "    elaspic_core_data=predator_analysis.data_materials[\"brca_elaspic_core_data_simplified\"],\n",
    "    elaspic_interface_data=predator_analysis.data_materials[\"brca_elaspic_interface_processed_data\"]\n",
    ")"
   ]
  },
  {
   "cell_type": "code",
   "execution_count": 105,
   "id": "027056e1-7810-47e1-b50e-0c993edc77d3",
   "metadata": {
    "scrolled": true,
    "tags": []
   },
   "outputs": [
    {
     "data": {
      "application/vnd.jupyter.widget-view+json": {
       "model_id": "79ccdf027bb144dd9c9bca2ba4cdf90b",
       "version_major": 2,
       "version_minor": 0
      },
      "text/plain": [
       "  0%|          | 0/985 [00:00<?, ?it/s]"
      ]
     },
     "metadata": {},
     "output_type": "display_data"
    },
    {
     "name": "stdout",
     "output_type": "stream",
     "text": [
      "adding patient: TCGA-LD-A74U -- protein: P04637\n",
      "adding patient: TCGA-A8-A09N -- protein: P04637\n",
      "adding patient: TCGA-E2-A15E -- protein: P04637\n",
      "adding patient: TCGA-A7-A0CE -- protein: P04637\n",
      "adding patient: TCGA-C8-A12W -- protein: P04637\n",
      "adding patient: TCGA-LL-A5YO -- protein: P04637\n",
      "adding patient: TCGA-BH-A0BR -- protein: P04637\n",
      "adding patient: TCGA-A2-A0YH -- protein: P04637\n",
      "adding patient: TCGA-GM-A2DH -- protein: P04637\n",
      "adding patient: TCGA-A7-A26F -- protein: P04637\n",
      "adding patient: TCGA-AR-A0U2 -- protein: P04637\n",
      "adding patient: TCGA-A7-A6VW -- protein: P04637\n",
      "adding patient: TCGA-A7-A6VX -- protein: P04637\n",
      "adding patient: TCGA-B6-A0I1 -- protein: P04637\n",
      "adding patient: TCGA-C8-A12K -- protein: P04637\n",
      "adding patient: TCGA-AO-A03V -- protein: P04637\n",
      "adding patient: TCGA-BH-A0GY -- protein: P04637\n",
      "adding patient: TCGA-AR-A0TP -- protein: P04637\n",
      "adding patient: TCGA-C8-A134 -- protein: P04637\n",
      "adding patient: TCGA-AC-A5EH -- protein: P04637\n",
      "adding patient: TCGA-C8-A27B -- protein: P04637\n",
      "adding patient: TCGA-AR-A0TX -- protein: P04637\n",
      "adding patient: TCGA-BH-A203 -- protein: P04637\n",
      "adding patient: TCGA-AC-A62X -- protein: P04637\n",
      "adding patient: TCGA-AR-A251 -- protein: P04637\n",
      "adding patient: TCGA-PL-A8LZ -- protein: P04637\n",
      "adding patient: TCGA-A2-A0CL -- protein: P04637\n",
      "adding patient: TCGA-S3-AA0Z -- protein: P04637\n",
      "adding patient: TCGA-D8-A142 -- protein: P04637\n",
      "adding patient: TCGA-BH-A0H7 -- protein: P04637\n",
      "adding patient: TCGA-E9-A243 -- protein: P04637\n",
      "adding patient: TCGA-E9-A22E -- protein: P04637\n",
      "adding patient: TCGA-E2-A14R -- protein: P04637\n",
      "adding patient: TCGA-A2-A0SX -- protein: P04637\n",
      "adding patient: TCGA-E2-A159 -- protein: P04637\n",
      "adding patient: TCGA-BH-A0B9 -- protein: P04637\n",
      "adding patient: TCGA-A2-A0T2 -- protein: P04637\n",
      "adding patient: TCGA-C8-A26W -- protein: P04637\n",
      "adding patient: TCGA-AR-A24T -- protein: P04637\n",
      "adding patient: TCGA-D8-A147 -- protein: P04637\n",
      "adding patient: TCGA-B6-A0IJ -- protein: P04637\n",
      "adding patient: TCGA-D8-A1J9 -- protein: P04637\n",
      "adding patient: TCGA-AR-A1AJ -- protein: P04637\n",
      "adding patient: TCGA-AC-A6IW -- protein: P04637\n",
      "adding patient: TCGA-B6-A0RH -- protein: P04637\n",
      "adding patient: TCGA-A2-A0T1 -- protein: P04637\n",
      "adding patient: TCGA-BH-A1EY -- protein: P04637\n",
      "adding patient: TCGA-E2-A574 -- protein: P04637\n",
      "adding patient: TCGA-E2-A1L7 -- protein: P04637\n",
      "adding patient: TCGA-E2-A1B1 -- protein: P04637\n",
      "adding patient: TCGA-EW-A2FR -- protein: P04637\n",
      "adding patient: TCGA-AQ-A04H -- protein: P04637\n",
      "adding patient: TCGA-BH-A1F6 -- protein: P04637\n",
      "adding patient: TCGA-E9-A1NF -- protein: P04637\n",
      "adding patient: TCGA-D8-A1XJ -- protein: P04637\n",
      "adding patient: TCGA-BH-A5IZ -- protein: P04637\n",
      "adding patient: TCGA-BH-A0BT -- protein: P04637\n",
      "adding patient: TCGA-E9-A1ND -- protein: P04637\n",
      "adding patient: TCGA-BH-A0HX -- protein: P04637\n",
      "adding patient: TCGA-AR-A24P -- protein: P04637\n",
      "adding patient: TCGA-A7-A13E -- protein: P04637\n",
      "adding patient: TCGA-E2-A15M -- protein: P04637\n",
      "adding patient: TCGA-BH-A0BP -- protein: P04637\n",
      "adding patient: TCGA-BH-A0B0 -- protein: P04637\n",
      "adding patient: TCGA-AQ-A04J -- protein: P04637\n",
      "adding patient: TCGA-A8-A092 -- protein: P04637\n",
      "adding patient: TCGA-C8-A12P -- protein: P04637\n",
      "adding patient: TCGA-OL-A5RY -- protein: P04637\n",
      "adding patient: TCGA-E2-A152 -- protein: P04637\n",
      "adding patient: TCGA-AO-A03O -- protein: P04637\n",
      "adding patient: TCGA-A2-A04T -- protein: P04637\n",
      "adding patient: TCGA-A1-A0SO -- protein: P04637\n",
      "adding patient: TCGA-LL-A8F5 -- protein: P04637\n",
      "adding patient: TCGA-AR-A2LH -- protein: P04637\n",
      "adding patient: TCGA-A7-A0DA -- protein: P04637\n",
      "adding patient: TCGA-C8-A26V -- protein: P04637\n",
      "adding patient: TCGA-C8-A131 -- protein: P04637\n",
      "adding patient: TCGA-A8-A06O -- protein: P04637\n",
      "adding patient: TCGA-A8-A09X -- protein: P04637\n",
      "adding patient: TCGA-E2-A1IN -- protein: P04637\n",
      "adding patient: TCGA-A2-A3XV -- protein: P04637\n",
      "adding patient: TCGA-D8-A1JF -- protein: P04637\n",
      "adding patient: TCGA-Z7-A8R6 -- protein: P04637\n",
      "adding patient: TCGA-A2-A3XX -- protein: P04637\n",
      "adding patient: TCGA-D8-A1XW -- protein: P04637\n",
      "adding patient: TCGA-B6-A401 -- protein: P04637\n",
      "adding patient: TCGA-A2-A04W -- protein: P04637\n",
      "adding patient: TCGA-BH-A0WA -- protein: P04637\n",
      "adding patient: TCGA-A2-A4S3 -- protein: P04637\n",
      "adding patient: TCGA-E9-A244 -- protein: P04637\n",
      "adding patient: TCGA-C8-A27A -- protein: P04637\n",
      "adding patient: TCGA-E2-A14P -- protein: P04637\n",
      "adding patient: TCGA-AN-A0FX -- protein: P04637\n",
      "adding patient: TCGA-E2-A9RU -- protein: P04637\n",
      "adding patient: TCGA-A2-A4S1 -- protein: P04637\n",
      "adding patient: TCGA-D8-A1X5 -- protein: P04637\n",
      "adding patient: TCGA-UU-A93S -- protein: P04637\n",
      "adding patient: TCGA-A8-A081 -- protein: P04637\n",
      "adding patient: TCGA-A2-A0YT -- protein: P04637\n",
      "adding patient: TCGA-A1-A0SK -- protein: P04637\n",
      "adding patient: TCGA-B6-A0RT -- protein: P04637\n",
      "adding patient: TCGA-BH-A1FE -- protein: P04637\n",
      "adding patient: TCGA-AR-A1AX -- protein: P04637\n",
      "adding patient: TCGA-A7-A26G -- protein: P04637\n",
      "adding patient: TCGA-AR-A1AW -- protein: P04637\n",
      "adding patient: TCGA-D8-A1JM -- protein: P04637\n",
      "adding patient: TCGA-EW-A1P4 -- protein: P04637\n",
      "adding patient: TCGA-BH-A1FD -- protein: P04637\n",
      "adding patient: TCGA-EW-A1P8 -- protein: P04637\n",
      "adding patient: TCGA-C8-A12L -- protein: P04637\n",
      "adding patient: TCGA-LL-A6FR -- protein: P04637\n",
      "adding patient: TCGA-D8-A27N -- protein: P04637\n",
      "adding patient: TCGA-OL-A5D7 -- protein: P04637\n",
      "adding patient: TCGA-AC-A5XU -- protein: P04637\n",
      "adding patient: TCGA-B6-A0RS -- protein: P04637\n",
      "adding patient: TCGA-GM-A2DD -- protein: P04637\n",
      "adding patient: TCGA-A8-A08X -- protein: P04637\n",
      "adding patient: TCGA-D8-A1JL -- protein: P04637\n",
      "adding patient: TCGA-A7-A4SD -- protein: P04637\n",
      "adding patient: TCGA-A2-A0ST -- protein: P04637\n",
      "adding patient: TCGA-E2-A1B0 -- protein: P04637\n",
      "adding patient: TCGA-AN-A04C -- protein: P04637\n",
      "adding patient: TCGA-D8-A13Z -- protein: P04637\n",
      "adding patient: TCGA-E2-A158 -- protein: P04637\n",
      "adding patient: TCGA-GM-A2DL -- protein: P04637\n",
      "adding patient: TCGA-BH-A0BF -- protein: P04637\n",
      "adding patient: TCGA-BH-A0DL -- protein: P04637\n",
      "adding patient: TCGA-PL-A8LV -- protein: P04637\n",
      "adding patient: TCGA-BH-A0B3 -- protein: P04637\n",
      "adding patient: TCGA-AO-A0JE -- protein: P04637\n",
      "adding patient: TCGA-E2-A1LH -- protein: P04637\n",
      "adding patient: TCGA-C8-A1HF -- protein: P04637\n",
      "adding patient: TCGA-C8-A278 -- protein: P04637\n",
      "adding patient: TCGA-EW-A1P1 -- protein: P04637\n",
      "adding patient: TCGA-BH-A1F2 -- protein: P04637\n",
      "adding patient: TCGA-A2-A0SW -- protein: P04637\n",
      "adding patient: TCGA-AC-A2QH -- protein: P04637\n",
      "adding patient: TCGA-BH-A0HY -- protein: P04637\n",
      "adding patient: TCGA-AR-A1AS -- protein: P04637\n",
      "adding patient: TCGA-AR-A24S -- protein: P04637\n",
      "adding patient: TCGA-D8-A1XL -- protein: P04637\n",
      "adding patient: TCGA-AO-A0JD -- protein: P04637\n",
      "adding patient: TCGA-LL-A5YP -- protein: P04637\n",
      "adding patient: TCGA-AC-A7VC -- protein: P04637\n",
      "adding patient: TCGA-A1-A0SI -- protein: P04637\n",
      "adding patient: TCGA-A2-A3XT -- protein: P04637\n",
      "adding patient: TCGA-C8-A1HG -- protein: P04637\n",
      "adding patient: TCGA-BH-A1FN -- protein: P04637\n",
      "adding patient: TCGA-E9-A5FL -- protein: P04637\n",
      "adding patient: TCGA-A2-A0EY -- protein: P04637\n",
      "adding patient: TCGA-C8-A12Z -- protein: P04637\n",
      "adding patient: TCGA-B6-A0IK -- protein: P04637\n",
      "adding patient: TCGA-AR-A0TV -- protein: P04637\n",
      "adding patient: TCGA-EW-A6S9 -- protein: P04637\n",
      "adding patient: TCGA-C8-A12O -- protein: P04637\n",
      "adding patient: TCGA-BH-A0C3 -- protein: P04637\n",
      "adding patient: TCGA-E2-A14Z -- protein: P04637\n",
      "adding patient: TCGA-AR-A0U0 -- protein: P04637\n",
      "adding patient: TCGA-AR-A1AI -- protein: P04637\n",
      "adding patient: TCGA-C8-A12Q -- protein: P04637\n",
      "adding patient: TCGA-BH-A1FU -- protein: P04637\n",
      "adding patient: TCGA-C8-A26X -- protein: P04637\n",
      "adding patient: TCGA-BH-A0EB -- protein: P04637\n",
      "adding patient: TCGA-AN-A0FY -- protein: P04637\n",
      "adding patient: TCGA-AN-A0FT -- protein: P04637\n",
      "adding patient: TCGA-E2-A1LS -- protein: P04637\n",
      "adding patient: TCGA-E9-A1NC -- protein: P04637\n",
      "adding patient: TCGA-B6-A0WX -- protein: P04637\n",
      "adding patient: TCGA-LD-A7W5 -- protein: P04637\n",
      "adding patient: TCGA-AN-A0FV -- protein: P04637\n",
      "adding patient: TCGA-E9-A1RB -- protein: P04637\n",
      "adding patient: TCGA-BH-A0BC -- protein: P04637\n",
      "adding patient: TCGA-A8-A06Q -- protein: P04637\n",
      "adding patient: TCGA-A8-A07W -- protein: P04637\n",
      "adding patient: TCGA-BH-A0E0 -- protein: P04637\n",
      "adding patient: TCGA-BH-A0AV -- protein: P04637\n",
      "adding patient: TCGA-OL-A5D6 -- protein: P04637\n",
      "adding patient: TCGA-AR-A0U1 -- protein: P04637\n",
      "adding patient: TCGA-AN-A0AL -- protein: P04637\n",
      "adding patient: TCGA-E2-A573 -- protein: P04637\n",
      "adding patient: TCGA-A7-A0CJ -- protein: P04637\n",
      "adding patient: TCGA-BH-A0BL -- protein: P04637\n",
      "adding patient: TCGA-AO-A0J2 -- protein: P04637\n",
      "adding patient: TCGA-BH-A0DZ -- protein: P04637\n",
      "adding patient: TCGA-AC-A2BK -- protein: P04637\n",
      "adding patient: TCGA-D8-A1XT -- protein: P04637\n",
      "adding patient: TCGA-B6-A0I9 -- protein: P04637\n",
      "adding patient: TCGA-E9-A1N5 -- protein: P04637\n",
      "adding patient: TCGA-D8-A1JJ -- protein: P04637\n",
      "adding patient: TCGA-AO-A0J4 -- protein: P04637\n",
      "adding patient: TCGA-A8-A079 -- protein: P04637\n",
      "adding patient: TCGA-EW-A6SB -- protein: P04637\n",
      "adding patient: TCGA-OL-A6VO -- protein: P04637\n",
      "adding patient: TCGA-EW-A1PB -- protein: P04637\n",
      "adding patient: TCGA-PE-A5DE -- protein: P04637\n",
      "NUMBER OF PATIENTS TP53 195\n"
     ]
    },
    {
     "data": {
      "text/plain": [
       "{'TCGA-A1-A0SI',\n",
       " 'TCGA-A1-A0SK',\n",
       " 'TCGA-A1-A0SO',\n",
       " 'TCGA-A2-A04T',\n",
       " 'TCGA-A2-A04W',\n",
       " 'TCGA-A2-A0CL',\n",
       " 'TCGA-A2-A0EY',\n",
       " 'TCGA-A2-A0ST',\n",
       " 'TCGA-A2-A0SW',\n",
       " 'TCGA-A2-A0SX',\n",
       " 'TCGA-A2-A0T1',\n",
       " 'TCGA-A2-A0T2',\n",
       " 'TCGA-A2-A0YH',\n",
       " 'TCGA-A2-A0YT',\n",
       " 'TCGA-A2-A3XT',\n",
       " 'TCGA-A2-A3XV',\n",
       " 'TCGA-A2-A3XX',\n",
       " 'TCGA-A2-A4S1',\n",
       " 'TCGA-A2-A4S3',\n",
       " 'TCGA-A7-A0CE',\n",
       " 'TCGA-A7-A0CJ',\n",
       " 'TCGA-A7-A0DA',\n",
       " 'TCGA-A7-A13E',\n",
       " 'TCGA-A7-A26F',\n",
       " 'TCGA-A7-A26G',\n",
       " 'TCGA-A7-A4SD',\n",
       " 'TCGA-A7-A6VW',\n",
       " 'TCGA-A7-A6VX',\n",
       " 'TCGA-A8-A06O',\n",
       " 'TCGA-A8-A06Q',\n",
       " 'TCGA-A8-A079',\n",
       " 'TCGA-A8-A07W',\n",
       " 'TCGA-A8-A081',\n",
       " 'TCGA-A8-A08X',\n",
       " 'TCGA-A8-A092',\n",
       " 'TCGA-A8-A09N',\n",
       " 'TCGA-A8-A09X',\n",
       " 'TCGA-AC-A2BK',\n",
       " 'TCGA-AC-A2QH',\n",
       " 'TCGA-AC-A5EH',\n",
       " 'TCGA-AC-A5XU',\n",
       " 'TCGA-AC-A62X',\n",
       " 'TCGA-AC-A6IW',\n",
       " 'TCGA-AC-A7VC',\n",
       " 'TCGA-AN-A04C',\n",
       " 'TCGA-AN-A0AL',\n",
       " 'TCGA-AN-A0FT',\n",
       " 'TCGA-AN-A0FV',\n",
       " 'TCGA-AN-A0FX',\n",
       " 'TCGA-AN-A0FY',\n",
       " 'TCGA-AO-A03O',\n",
       " 'TCGA-AO-A03V',\n",
       " 'TCGA-AO-A0J2',\n",
       " 'TCGA-AO-A0J4',\n",
       " 'TCGA-AO-A0JD',\n",
       " 'TCGA-AO-A0JE',\n",
       " 'TCGA-AQ-A04H',\n",
       " 'TCGA-AQ-A04J',\n",
       " 'TCGA-AR-A0TP',\n",
       " 'TCGA-AR-A0TV',\n",
       " 'TCGA-AR-A0TX',\n",
       " 'TCGA-AR-A0U0',\n",
       " 'TCGA-AR-A0U1',\n",
       " 'TCGA-AR-A0U2',\n",
       " 'TCGA-AR-A1AI',\n",
       " 'TCGA-AR-A1AJ',\n",
       " 'TCGA-AR-A1AS',\n",
       " 'TCGA-AR-A1AW',\n",
       " 'TCGA-AR-A1AX',\n",
       " 'TCGA-AR-A24P',\n",
       " 'TCGA-AR-A24S',\n",
       " 'TCGA-AR-A24T',\n",
       " 'TCGA-AR-A251',\n",
       " 'TCGA-AR-A2LH',\n",
       " 'TCGA-B6-A0I1',\n",
       " 'TCGA-B6-A0I9',\n",
       " 'TCGA-B6-A0IJ',\n",
       " 'TCGA-B6-A0IK',\n",
       " 'TCGA-B6-A0RH',\n",
       " 'TCGA-B6-A0RS',\n",
       " 'TCGA-B6-A0RT',\n",
       " 'TCGA-B6-A0WX',\n",
       " 'TCGA-B6-A401',\n",
       " 'TCGA-BH-A0AV',\n",
       " 'TCGA-BH-A0B0',\n",
       " 'TCGA-BH-A0B3',\n",
       " 'TCGA-BH-A0B9',\n",
       " 'TCGA-BH-A0BC',\n",
       " 'TCGA-BH-A0BF',\n",
       " 'TCGA-BH-A0BL',\n",
       " 'TCGA-BH-A0BP',\n",
       " 'TCGA-BH-A0BR',\n",
       " 'TCGA-BH-A0BT',\n",
       " 'TCGA-BH-A0C3',\n",
       " 'TCGA-BH-A0DL',\n",
       " 'TCGA-BH-A0DZ',\n",
       " 'TCGA-BH-A0E0',\n",
       " 'TCGA-BH-A0EB',\n",
       " 'TCGA-BH-A0GY',\n",
       " 'TCGA-BH-A0H7',\n",
       " 'TCGA-BH-A0HX',\n",
       " 'TCGA-BH-A0HY',\n",
       " 'TCGA-BH-A0WA',\n",
       " 'TCGA-BH-A1EY',\n",
       " 'TCGA-BH-A1F2',\n",
       " 'TCGA-BH-A1F6',\n",
       " 'TCGA-BH-A1FD',\n",
       " 'TCGA-BH-A1FE',\n",
       " 'TCGA-BH-A1FN',\n",
       " 'TCGA-BH-A1FU',\n",
       " 'TCGA-BH-A203',\n",
       " 'TCGA-BH-A5IZ',\n",
       " 'TCGA-C8-A12K',\n",
       " 'TCGA-C8-A12L',\n",
       " 'TCGA-C8-A12O',\n",
       " 'TCGA-C8-A12P',\n",
       " 'TCGA-C8-A12Q',\n",
       " 'TCGA-C8-A12W',\n",
       " 'TCGA-C8-A12Z',\n",
       " 'TCGA-C8-A131',\n",
       " 'TCGA-C8-A134',\n",
       " 'TCGA-C8-A1HF',\n",
       " 'TCGA-C8-A1HG',\n",
       " 'TCGA-C8-A26V',\n",
       " 'TCGA-C8-A26W',\n",
       " 'TCGA-C8-A26X',\n",
       " 'TCGA-C8-A278',\n",
       " 'TCGA-C8-A27A',\n",
       " 'TCGA-C8-A27B',\n",
       " 'TCGA-D8-A13Z',\n",
       " 'TCGA-D8-A142',\n",
       " 'TCGA-D8-A147',\n",
       " 'TCGA-D8-A1J9',\n",
       " 'TCGA-D8-A1JF',\n",
       " 'TCGA-D8-A1JJ',\n",
       " 'TCGA-D8-A1JL',\n",
       " 'TCGA-D8-A1JM',\n",
       " 'TCGA-D8-A1X5',\n",
       " 'TCGA-D8-A1XJ',\n",
       " 'TCGA-D8-A1XL',\n",
       " 'TCGA-D8-A1XT',\n",
       " 'TCGA-D8-A1XW',\n",
       " 'TCGA-D8-A27N',\n",
       " 'TCGA-E2-A14P',\n",
       " 'TCGA-E2-A14R',\n",
       " 'TCGA-E2-A14Z',\n",
       " 'TCGA-E2-A152',\n",
       " 'TCGA-E2-A158',\n",
       " 'TCGA-E2-A159',\n",
       " 'TCGA-E2-A15E',\n",
       " 'TCGA-E2-A15M',\n",
       " 'TCGA-E2-A1B0',\n",
       " 'TCGA-E2-A1B1',\n",
       " 'TCGA-E2-A1IN',\n",
       " 'TCGA-E2-A1L7',\n",
       " 'TCGA-E2-A1LH',\n",
       " 'TCGA-E2-A1LS',\n",
       " 'TCGA-E2-A573',\n",
       " 'TCGA-E2-A574',\n",
       " 'TCGA-E2-A9RU',\n",
       " 'TCGA-E9-A1N5',\n",
       " 'TCGA-E9-A1NC',\n",
       " 'TCGA-E9-A1ND',\n",
       " 'TCGA-E9-A1NF',\n",
       " 'TCGA-E9-A1RB',\n",
       " 'TCGA-E9-A22E',\n",
       " 'TCGA-E9-A243',\n",
       " 'TCGA-E9-A244',\n",
       " 'TCGA-E9-A5FL',\n",
       " 'TCGA-EW-A1P1',\n",
       " 'TCGA-EW-A1P4',\n",
       " 'TCGA-EW-A1P8',\n",
       " 'TCGA-EW-A1PB',\n",
       " 'TCGA-EW-A2FR',\n",
       " 'TCGA-EW-A6S9',\n",
       " 'TCGA-EW-A6SB',\n",
       " 'TCGA-GM-A2DD',\n",
       " 'TCGA-GM-A2DH',\n",
       " 'TCGA-GM-A2DL',\n",
       " 'TCGA-LD-A74U',\n",
       " 'TCGA-LD-A7W5',\n",
       " 'TCGA-LL-A5YO',\n",
       " 'TCGA-LL-A5YP',\n",
       " 'TCGA-LL-A6FR',\n",
       " 'TCGA-LL-A8F5',\n",
       " 'TCGA-OL-A5D6',\n",
       " 'TCGA-OL-A5D7',\n",
       " 'TCGA-OL-A5RY',\n",
       " 'TCGA-OL-A6VO',\n",
       " 'TCGA-PE-A5DE',\n",
       " 'TCGA-PL-A8LV',\n",
       " 'TCGA-PL-A8LZ',\n",
       " 'TCGA-S3-AA0Z',\n",
       " 'TCGA-UU-A93S',\n",
       " 'TCGA-Z7-A8R6'}"
      ]
     },
     "execution_count": 105,
     "metadata": {},
     "output_type": "execute_result"
    }
   ],
   "source": [
    "add_patient_elaspic_count(\n",
    "    preliminary_data, \n",
    "    predator_analysis.data_materials[\"brca_snv_data_simplified\"],\n",
    "    elaspic_core_data=predator_analysis.data_materials[\"brca_elaspic_core_data_simplified\"],\n",
    "    elaspic_interface_data=predator_analysis.data_materials[\"brca_elaspic_interface_processed_data\"]\n",
    ")"
   ]
  },
  {
   "cell_type": "markdown",
   "id": "d359b458-c5ba-4a5e-92e5-33f1326f3029",
   "metadata": {},
   "source": [
    "adding patient: TCGA-LD-A74U -- protein: P04637\n",
    "adding patient: TCGA-A8-A09N -- protein: P04637\n",
    "adding patient: TCGA-E2-A15E -- protein: P04637\n",
    "adding patient: TCGA-A7-A0CE -- protein: P04637\n",
    "adding patient: TCGA-C8-A12W -- protein: P04637\n",
    "adding patient: TCGA-LL-A5YO -- protein: P04637\n",
    "adding patient: TCGA-BH-A0BR -- protein: P04637\n",
    "adding patient: TCGA-A2-A0YH -- protein: P04637\n",
    "adding patient: TCGA-GM-A2DH -- protein: P04637\n",
    "adding patient: TCGA-A7-A26F -- protein: P04637\n",
    "adding patient: TCGA-AR-A0U2 -- protein: P04637\n",
    "adding patient: TCGA-A7-A6VW -- protein: P04637\n",
    "adding patient: TCGA-A7-A6VX -- protein: P04637\n",
    "adding patient: TCGA-B6-A0I1 -- protein: P04637\n",
    "adding patient: TCGA-C8-A12K -- protein: P04637\n",
    "adding patient: TCGA-AO-A03V -- protein: P04637\n",
    "adding patient: TCGA-BH-A0GY -- protein: P04637\n",
    "adding patient: TCGA-AR-A0TP -- protein: P04637\n",
    "adding patient: TCGA-C8-A134 -- protein: P04637\n",
    "adding patient: TCGA-AC-A5EH -- protein: P04637\n",
    "adding patient: TCGA-C8-A27B -- protein: P04637\n",
    "adding patient: TCGA-AR-A0TX -- protein: P04637\n",
    "adding patient: TCGA-BH-A203 -- protein: P04637\n",
    "adding patient: TCGA-AC-A62X -- protein: P04637\n",
    "adding patient: TCGA-AR-A251 -- protein: P04637\n",
    "adding patient: TCGA-PL-A8LZ -- protein: P04637\n",
    "adding patient: TCGA-A2-A0CL -- protein: P04637\n",
    "adding patient: TCGA-S3-AA0Z -- protein: P04637\n",
    "adding patient: TCGA-D8-A142 -- protein: P04637\n",
    "adding patient: TCGA-BH-A0H7 -- protein: P04637\n",
    "adding patient: TCGA-E9-A243 -- protein: P04637\n",
    "adding patient: TCGA-E9-A22E -- protein: P04637\n",
    "adding patient: TCGA-E2-A14R -- protein: P04637\n",
    "adding patient: TCGA-A2-A0SX -- protein: P04637\n",
    "adding patient: TCGA-E2-A159 -- protein: P04637\n",
    "adding patient: TCGA-BH-A0B9 -- protein: P04637\n",
    "adding patient: TCGA-A2-A0T2 -- protein: P04637\n",
    "adding patient: TCGA-C8-A26W -- protein: P04637\n",
    "adding patient: TCGA-AR-A24T -- protein: P04637\n",
    "adding patient: TCGA-D8-A147 -- protein: P04637\n",
    "adding patient: TCGA-B6-A0IJ -- protein: P04637\n",
    "adding patient: TCGA-D8-A1J9 -- protein: P04637\n",
    "adding patient: TCGA-AR-A1AJ -- protein: P04637\n",
    "adding patient: TCGA-AC-A6IW -- protein: P04637\n",
    "adding patient: TCGA-B6-A0RH -- protein: P04637\n",
    "adding patient: TCGA-A2-A0T1 -- protein: P04637\n",
    "adding patient: TCGA-BH-A1EY -- protein: P04637\n",
    "adding patient: TCGA-E2-A574 -- protein: P04637\n",
    "adding patient: TCGA-E2-A1L7 -- protein: P04637\n",
    "adding patient: TCGA-E2-A1B1 -- protein: P04637\n",
    "adding patient: TCGA-EW-A2FR -- protein: P04637\n",
    "adding patient: TCGA-AQ-A04H -- protein: P04637\n",
    "adding patient: TCGA-BH-A1F6 -- protein: P04637\n",
    "adding patient: TCGA-E9-A1NF -- protein: P04637\n",
    "adding patient: TCGA-D8-A1XJ -- protein: P04637\n",
    "adding patient: TCGA-BH-A5IZ -- protein: P04637\n",
    "adding patient: TCGA-BH-A0BT -- protein: P04637\n",
    "adding patient: TCGA-E9-A1ND -- protein: P04637\n",
    "adding patient: TCGA-BH-A0HX -- protein: P04637\n",
    "adding patient: TCGA-AR-A24P -- protein: P04637\n",
    "adding patient: TCGA-A7-A13E -- protein: P04637\n",
    "adding patient: TCGA-E2-A15M -- protein: P04637\n",
    "adding patient: TCGA-BH-A0BP -- protein: P04637\n",
    "adding patient: TCGA-BH-A0B0 -- protein: P04637\n",
    "adding patient: TCGA-AQ-A04J -- protein: P04637\n",
    "adding patient: TCGA-A8-A092 -- protein: P04637\n",
    "adding patient: TCGA-C8-A12P -- protein: P04637\n",
    "adding patient: TCGA-OL-A5RY -- protein: P04637\n",
    "adding patient: TCGA-E2-A152 -- protein: P04637\n",
    "adding patient: TCGA-AO-A03O -- protein: P04637\n",
    "adding patient: TCGA-A2-A04T -- protein: P04637\n",
    "adding patient: TCGA-A1-A0SO -- protein: P04637\n",
    "adding patient: TCGA-LL-A8F5 -- protein: P04637\n",
    "adding patient: TCGA-AR-A2LH -- protein: P04637\n",
    "adding patient: TCGA-A7-A0DA -- protein: P04637\n",
    "adding patient: TCGA-C8-A26V -- protein: P04637\n",
    "adding patient: TCGA-C8-A131 -- protein: P04637\n",
    "adding patient: TCGA-A8-A06O -- protein: P04637\n",
    "adding patient: TCGA-A8-A09X -- protein: P04637\n",
    "adding patient: TCGA-E2-A1IN -- protein: P04637\n",
    "adding patient: TCGA-A2-A3XV -- protein: P04637\n",
    "adding patient: TCGA-D8-A1JF -- protein: P04637\n",
    "adding patient: TCGA-Z7-A8R6 -- protein: P04637\n",
    "adding patient: TCGA-A2-A3XX -- protein: P04637\n",
    "adding patient: TCGA-D8-A1XW -- protein: P04637\n",
    "adding patient: TCGA-B6-A401 -- protein: P04637\n",
    "adding patient: TCGA-A2-A04W -- protein: P04637\n",
    "adding patient: TCGA-BH-A0WA -- protein: P04637\n",
    "adding patient: TCGA-A2-A4S3 -- protein: P04637\n",
    "adding patient: TCGA-E9-A244 -- protein: P04637\n",
    "adding patient: TCGA-C8-A27A -- protein: P04637\n",
    "adding patient: TCGA-E2-A14P -- protein: P04637\n",
    "adding patient: TCGA-AN-A0FX -- protein: P04637\n",
    "adding patient: TCGA-E2-A9RU -- protein: P04637\n",
    "adding patient: TCGA-A2-A4S1 -- protein: P04637\n",
    "adding patient: TCGA-D8-A1X5 -- protein: P04637\n",
    "adding patient: TCGA-UU-A93S -- protein: P04637\n",
    "adding patient: TCGA-A8-A081 -- protein: P04637\n",
    "adding patient: TCGA-A2-A0YT -- protein: P04637\n",
    "adding patient: TCGA-A1-A0SK -- protein: P04637\n",
    "adding patient: TCGA-B6-A0RT -- protein: P04637\n",
    "adding patient: TCGA-BH-A1FE -- protein: P04637\n",
    "adding patient: TCGA-AR-A1AX -- protein: P04637\n",
    "adding patient: TCGA-A7-A26G -- protein: P04637\n",
    "adding patient: TCGA-AR-A1AW -- protein: P04637\n",
    "adding patient: TCGA-D8-A1JM -- protein: P04637\n",
    "adding patient: TCGA-EW-A1P4 -- protein: P04637\n",
    "adding patient: TCGA-BH-A1FD -- protein: P04637\n",
    "adding patient: TCGA-EW-A1P8 -- protein: P04637\n",
    "adding patient: TCGA-C8-A12L -- protein: P04637\n",
    "adding patient: TCGA-LL-A6FR -- protein: P04637\n",
    "adding patient: TCGA-D8-A27N -- protein: P04637\n",
    "adding patient: TCGA-OL-A5D7 -- protein: P04637\n",
    "adding patient: TCGA-AC-A5XU -- protein: P04637\n",
    "adding patient: TCGA-B6-A0RS -- protein: P04637\n",
    "adding patient: TCGA-GM-A2DD -- protein: P04637\n",
    "adding patient: TCGA-A8-A08X -- protein: P04637\n",
    "adding patient: TCGA-D8-A1JL -- protein: P04637\n",
    "adding patient: TCGA-A7-A4SD -- protein: P04637\n",
    "adding patient: TCGA-A2-A0ST -- protein: P04637\n",
    "adding patient: TCGA-E2-A1B0 -- protein: P04637\n",
    "adding patient: TCGA-AN-A04C -- protein: P04637\n",
    "adding patient: TCGA-D8-A13Z -- protein: P04637\n",
    "adding patient: TCGA-E2-A158 -- protein: P04637\n",
    "adding patient: TCGA-GM-A2DL -- protein: P04637\n",
    "adding patient: TCGA-BH-A0BF -- protein: P04637\n",
    "adding patient: TCGA-BH-A0DL -- protein: P04637\n",
    "adding patient: TCGA-PL-A8LV -- protein: P04637\n",
    "adding patient: TCGA-BH-A0B3 -- protein: P04637\n",
    "adding patient: TCGA-AO-A0JE -- protein: P04637\n",
    "adding patient: TCGA-E2-A1LH -- protein: P04637\n",
    "adding patient: TCGA-C8-A1HF -- protein: P04637\n",
    "adding patient: TCGA-C8-A278 -- protein: P04637\n",
    "adding patient: TCGA-EW-A1P1 -- protein: P04637\n",
    "adding patient: TCGA-BH-A1F2 -- protein: P04637\n",
    "adding patient: TCGA-A2-A0SW -- protein: P04637\n",
    "adding patient: TCGA-AC-A2QH -- protein: P04637\n",
    "adding patient: TCGA-BH-A0HY -- protein: P04637\n",
    "adding patient: TCGA-AR-A1AS -- protein: P04637\n",
    "adding patient: TCGA-AR-A24S -- protein: P04637\n",
    "adding patient: TCGA-D8-A1XL -- protein: P04637\n",
    "adding patient: TCGA-AO-A0JD -- protein: P04637\n",
    "adding patient: TCGA-LL-A5YP -- protein: P04637\n",
    "adding patient: TCGA-AC-A7VC -- protein: P04637\n",
    "adding patient: TCGA-A1-A0SI -- protein: P04637\n",
    "adding patient: TCGA-A2-A3XT -- protein: P04637\n",
    "adding patient: TCGA-C8-A1HG -- protein: P04637\n",
    "adding patient: TCGA-BH-A1FN -- protein: P04637\n",
    "adding patient: TCGA-E9-A5FL -- protein: P04637\n",
    "adding patient: TCGA-A2-A0EY -- protein: P04637\n",
    "adding patient: TCGA-C8-A12Z -- protein: P04637\n",
    "adding patient: TCGA-B6-A0IK -- protein: P04637\n",
    "adding patient: TCGA-AR-A0TV -- protein: P04637\n",
    "adding patient: TCGA-EW-A6S9 -- protein: P04637\n",
    "adding patient: TCGA-C8-A12O -- protein: P04637\n",
    "adding patient: TCGA-BH-A0C3 -- protein: P04637\n",
    "adding patient: TCGA-E2-A14Z -- protein: P04637\n",
    "adding patient: TCGA-AR-A0U0 -- protein: P04637\n",
    "adding patient: TCGA-AR-A1AI -- protein: P04637\n",
    "adding patient: TCGA-C8-A12Q -- protein: P04637\n",
    "adding patient: TCGA-BH-A1FU -- protein: P04637\n",
    "adding patient: TCGA-C8-A26X -- protein: P04637\n",
    "adding patient: TCGA-BH-A0EB -- protein: P04637\n",
    "adding patient: TCGA-AN-A0FY -- protein: P04637\n",
    "adding patient: TCGA-AN-A0FT -- protein: P04637\n",
    "adding patient: TCGA-E2-A1LS -- protein: P04637\n",
    "adding patient: TCGA-E9-A1NC -- protein: P04637\n",
    "adding patient: TCGA-B6-A0WX -- protein: P04637\n",
    "adding patient: TCGA-LD-A7W5 -- protein: P04637\n",
    "adding patient: TCGA-AN-A0FV -- protein: P04637\n",
    "adding patient: TCGA-E9-A1RB -- protein: P04637\n",
    "adding patient: TCGA-BH-A0BC -- protein: P04637\n",
    "adding patient: TCGA-A8-A06Q -- protein: P04637\n",
    "adding patient: TCGA-A8-A07W -- protein: P04637\n",
    "adding patient: TCGA-BH-A0E0 -- protein: P04637\n",
    "adding patient: TCGA-BH-A0AV -- protein: P04637\n",
    "adding patient: TCGA-OL-A5D6 -- protein: P04637\n",
    "adding patient: TCGA-AR-A0U1 -- protein: P04637\n",
    "adding patient: TCGA-AN-A0AL -- protein: P04637\n",
    "adding patient: TCGA-E2-A573 -- protein: P04637\n",
    "adding patient: TCGA-A7-A0CJ -- protein: P04637\n",
    "adding patient: TCGA-BH-A0BL -- protein: P04637\n",
    "adding patient: TCGA-AO-A0J2 -- protein: P04637\n",
    "adding patient: TCGA-BH-A0DZ -- protein: P04637\n",
    "adding patient: TCGA-AC-A2BK -- protein: P04637\n",
    "adding patient: TCGA-D8-A1XT -- protein: P04637\n",
    "adding patient: TCGA-B6-A0I9 -- protein: P04637\n",
    "adding patient: TCGA-E9-A1N5 -- protein: P04637\n",
    "adding patient: TCGA-D8-A1JJ -- protein: P04637\n",
    "adding patient: TCGA-AO-A0J4 -- protein: P04637\n",
    "adding patient: TCGA-A8-A079 -- protein: P04637\n",
    "adding patient: TCGA-EW-A6SB -- protein: P04637\n",
    "adding patient: TCGA-OL-A6VO -- protein: P04637\n",
    "adding patient: TCGA-EW-A1PB -- protein: P04637\n",
    "adding patient: TCGA-PE-A5DE -- protein: P04637"
   ]
  },
  {
   "cell_type": "code",
   "execution_count": null,
   "id": "8b3ad39a-f839-40d8-9b99-907895724aa0",
   "metadata": {},
   "outputs": [],
   "source": []
  },
  {
   "cell_type": "code",
   "execution_count": null,
   "id": "bad05366-7edb-4134-8d06-5cea65a17ea6",
   "metadata": {},
   "outputs": [],
   "source": []
  },
  {
   "cell_type": "code",
   "execution_count": null,
   "id": "5afaa0a1-d625-48a8-bcdc-4e0e49c2e732",
   "metadata": {},
   "outputs": [],
   "source": []
  },
  {
   "cell_type": "code",
   "execution_count": 80,
   "id": "27a93444-3090-44dd-913c-67ce511f0cc9",
   "metadata": {},
   "outputs": [],
   "source": [
    "snv_TCGA_E9_A22E = predator_analysis.data_materials[\"brca_snv_data_simplified\"][\n",
    "    predator_analysis.data_materials[\"brca_snv_data_simplified\"][\"Tumor_Sample_Barcode\"] == \"TCGA-E9-A22E\"\n",
    "]"
   ]
  },
  {
   "cell_type": "code",
   "execution_count": null,
   "id": "d353eb58-7564-440b-a731-5d9413b8454f",
   "metadata": {},
   "outputs": [],
   "source": []
  },
  {
   "cell_type": "code",
   "execution_count": 95,
   "id": "21f17c35-7c1e-4aa6-ba2a-7146fbf223c1",
   "metadata": {},
   "outputs": [
    {
     "data": {
      "application/vnd.jupyter.widget-view+json": {
       "model_id": "884180371e564a3c882bc9fe0495f523",
       "version_major": 2,
       "version_minor": 0
      },
      "text/plain": [
       "  0%|          | 0/985 [00:00<?, ?it/s]"
      ]
     },
     "metadata": {},
     "output_type": "display_data"
    },
    {
     "name": "stdout",
     "output_type": "stream",
     "text": [
      "adding patient: TCGA-LD-A74U -- protein: P04637\n",
      "adding patient: TCGA-A7-A26F -- protein: P04637\n",
      "adding patient: TCGA-AR-A0U2 -- protein: P04637\n",
      "adding patient: TCGA-A7-A6VW -- protein: P04637\n",
      "adding patient: TCGA-A7-A6VX -- protein: P04637\n",
      "adding patient: TCGA-B6-A0I1 -- protein: P04637\n",
      "adding patient: TCGA-AR-A0TP -- protein: P04637\n",
      "adding patient: TCGA-C8-A134 -- protein: P04637\n",
      "adding patient: TCGA-BH-A203 -- protein: P04637\n",
      "adding patient: TCGA-A2-A0CL -- protein: P04637\n",
      "adding patient: TCGA-C8-A26W -- protein: P04637\n",
      "adding patient: TCGA-AR-A24T -- protein: P04637\n",
      "adding patient: TCGA-D8-A147 -- protein: P04637\n",
      "adding patient: TCGA-AR-A1AJ -- protein: P04637\n",
      "adding patient: TCGA-A2-A0T1 -- protein: P04637\n",
      "adding patient: TCGA-E2-A574 -- protein: P04637\n",
      "adding patient: TCGA-E2-A1B1 -- protein: P04637\n",
      "adding patient: TCGA-BH-A5IZ -- protein: P04637\n",
      "adding patient: TCGA-C8-A12P -- protein: P04637\n",
      "adding patient: TCGA-OL-A5RY -- protein: P04637\n",
      "adding patient: TCGA-LL-A8F5 -- protein: P04637\n",
      "adding patient: TCGA-AR-A2LH -- protein: P04637\n",
      "adding patient: TCGA-A8-A09X -- protein: P04637\n",
      "adding patient: TCGA-D8-A1JF -- protein: P04637\n",
      "adding patient: TCGA-BH-A0WA -- protein: P04637\n",
      "adding patient: TCGA-AN-A0FX -- protein: P04637\n",
      "adding patient: TCGA-A2-A4S1 -- protein: P04637\n",
      "adding patient: TCGA-UU-A93S -- protein: P04637\n",
      "adding patient: TCGA-BH-A1FE -- protein: P04637\n",
      "adding patient: TCGA-AR-A1AW -- protein: P04637\n",
      "adding patient: TCGA-D8-A1JM -- protein: P04637\n",
      "adding patient: TCGA-EW-A1P4 -- protein: P04637\n",
      "adding patient: TCGA-LL-A6FR -- protein: P04637\n",
      "adding patient: TCGA-B6-A0RS -- protein: P04637\n",
      "adding patient: TCGA-A8-A08X -- protein: P04637\n",
      "adding patient: TCGA-AN-A04C -- protein: P04637\n",
      "adding patient: TCGA-PL-A8LV -- protein: P04637\n",
      "adding patient: TCGA-C8-A1HF -- protein: P04637\n",
      "adding patient: TCGA-C8-A278 -- protein: P04637\n",
      "adding patient: TCGA-EW-A1P1 -- protein: P04637\n",
      "adding patient: TCGA-A2-A0SW -- protein: P04637\n",
      "adding patient: TCGA-D8-A1XL -- protein: P04637\n",
      "adding patient: TCGA-LL-A5YP -- protein: P04637\n",
      "adding patient: TCGA-BH-A1FN -- protein: P04637\n",
      "adding patient: TCGA-EW-A6S9 -- protein: P04637\n",
      "adding patient: TCGA-C8-A12O -- protein: P04637\n",
      "adding patient: TCGA-BH-A0C3 -- protein: P04637\n",
      "adding patient: TCGA-BH-A0EB -- protein: P04637\n",
      "adding patient: TCGA-E9-A1NC -- protein: P04637\n",
      "adding patient: TCGA-B6-A0WX -- protein: P04637\n",
      "adding patient: TCGA-BH-A0BC -- protein: P04637\n",
      "adding patient: TCGA-A8-A07W -- protein: P04637\n",
      "adding patient: TCGA-BH-A0AV -- protein: P04637\n",
      "adding patient: TCGA-OL-A5D6 -- protein: P04637\n",
      "adding patient: TCGA-D8-A1XT -- protein: P04637\n"
     ]
    }
   ],
   "source": [
    "add_patient_interface_count(\n",
    "    preliminary_data, \n",
    "    predator_analysis.data_materials[\"brca_snv_data_simplified\"],\n",
    "    elaspic_core_data=predator_analysis.data_materials[\"brca_elaspic_core_data_simplified\"],\n",
    "    elaspic_interface_data=predator_analysis.data_materials[\"brca_elaspic_interface_processed_data\"]\n",
    ")"
   ]
  },
  {
   "cell_type": "code",
   "execution_count": 71,
   "id": "f78a4620-33c7-408c-9ae8-8a7793f375c6",
   "metadata": {},
   "outputs": [
    {
     "data": {
      "application/vnd.jupyter.widget-view+json": {
       "model_id": "6e35e61014374513bb3e0e20f9492795",
       "version_major": 2,
       "version_minor": 0
      },
      "text/plain": [
       "  0%|          | 0/985 [00:00<?, ?it/s]"
      ]
     },
     "metadata": {},
     "output_type": "display_data"
    },
    {
     "name": "stdout",
     "output_type": "stream",
     "text": [
      "adding patient: TCGA-AN-A0FF -- protein: A0AVT1\n",
      "adding patient: TCGA-AR-A0TX -- protein: A0AVT1\n",
      "adding patient: TCGA-C8-A26Y -- protein: A0AVT1\n",
      "adding patient: TCGA-AO-A03O -- protein: A0AVT1\n"
     ]
    }
   ],
   "source": [
    "add_patient_core_count(\n",
    "    preliminary_data, \n",
    "    predator_analysis.data_materials[\"brca_snv_data_simplified\"],\n",
    "    elaspic_core_data=predator_analysis.data_materials[\"brca_elaspic_core_data_simplified\"],\n",
    "    elaspic_interface_data=predator_analysis.data_materials[\"brca_elaspic_interface_processed_data\"]\n",
    ")"
   ]
  },
  {
   "cell_type": "code",
   "execution_count": null,
   "id": "2f2916ff-94af-4c11-9c71-2e043a184998",
   "metadata": {},
   "outputs": [],
   "source": []
  },
  {
   "cell_type": "code",
   "execution_count": null,
   "id": "a350e6d7-5c5c-4a4c-bdd5-e6a11aa82ff1",
   "metadata": {},
   "outputs": [],
   "source": []
  },
  {
   "cell_type": "code",
   "execution_count": 85,
   "id": "9e0891a9-3e74-4172-8ebd-b1b12c246696",
   "metadata": {},
   "outputs": [
    {
     "data": {
      "text/plain": [
       "['L719I']"
      ]
     },
     "execution_count": 85,
     "metadata": {},
     "output_type": "execute_result"
    }
   ],
   "source": [
    "get_patient_protein_to_mutations_dict(snv_TCGA_E9_A22E)[\"A0AVT1\"]"
   ]
  },
  {
   "cell_type": "code",
   "execution_count": null,
   "id": "67035741-34ad-4fed-baca-a2220c512b7a",
   "metadata": {},
   "outputs": [],
   "source": []
  },
  {
   "cell_type": "code",
   "execution_count": 89,
   "id": "543842b8-a61b-459a-a4fc-1bbe1c2ebeaf",
   "metadata": {},
   "outputs": [
    {
     "ename": "AttributeError",
     "evalue": "'DataFrame' object has no attribute 'H'",
     "output_type": "error",
     "traceback": [
      "\u001b[1;31m---------------------------------------------------------------------------\u001b[0m",
      "\u001b[1;31mAttributeError\u001b[0m                            Traceback (most recent call last)",
      "\u001b[1;32m~\\AppData\\Local\\Temp/ipykernel_57552/2122075005.py\u001b[0m in \u001b[0;36m<module>\u001b[1;34m\u001b[0m\n\u001b[1;32m----> 1\u001b[1;33m \u001b[0mpredator_analysis\u001b[0m\u001b[1;33m.\u001b[0m\u001b[0mdata_materials\u001b[0m\u001b[1;33m[\u001b[0m\u001b[1;34m\"brca_snv_data\"\u001b[0m\u001b[1;33m]\u001b[0m\u001b[1;33m.\u001b[0m\u001b[0mH\u001b[0m\u001b[1;33m\u001b[0m\u001b[1;33m\u001b[0m\u001b[0m\n\u001b[0m",
      "\u001b[1;32m~\\anaconda3\\envs\\Predicting-Mutation-Effects\\lib\\site-packages\\pandas\\core\\generic.py\u001b[0m in \u001b[0;36m__getattr__\u001b[1;34m(self, name)\u001b[0m\n\u001b[0;32m   5137\u001b[0m             \u001b[1;32mif\u001b[0m \u001b[0mself\u001b[0m\u001b[1;33m.\u001b[0m\u001b[0m_info_axis\u001b[0m\u001b[1;33m.\u001b[0m\u001b[0m_can_hold_identifiers_and_holds_name\u001b[0m\u001b[1;33m(\u001b[0m\u001b[0mname\u001b[0m\u001b[1;33m)\u001b[0m\u001b[1;33m:\u001b[0m\u001b[1;33m\u001b[0m\u001b[1;33m\u001b[0m\u001b[0m\n\u001b[0;32m   5138\u001b[0m                 \u001b[1;32mreturn\u001b[0m \u001b[0mself\u001b[0m\u001b[1;33m[\u001b[0m\u001b[0mname\u001b[0m\u001b[1;33m]\u001b[0m\u001b[1;33m\u001b[0m\u001b[1;33m\u001b[0m\u001b[0m\n\u001b[1;32m-> 5139\u001b[1;33m             \u001b[1;32mreturn\u001b[0m \u001b[0mobject\u001b[0m\u001b[1;33m.\u001b[0m\u001b[0m__getattribute__\u001b[0m\u001b[1;33m(\u001b[0m\u001b[0mself\u001b[0m\u001b[1;33m,\u001b[0m \u001b[0mname\u001b[0m\u001b[1;33m)\u001b[0m\u001b[1;33m\u001b[0m\u001b[1;33m\u001b[0m\u001b[0m\n\u001b[0m\u001b[0;32m   5140\u001b[0m \u001b[1;33m\u001b[0m\u001b[0m\n\u001b[0;32m   5141\u001b[0m     \u001b[1;32mdef\u001b[0m \u001b[0m__setattr__\u001b[0m\u001b[1;33m(\u001b[0m\u001b[0mself\u001b[0m\u001b[1;33m,\u001b[0m \u001b[0mname\u001b[0m\u001b[1;33m:\u001b[0m \u001b[0mstr\u001b[0m\u001b[1;33m,\u001b[0m \u001b[0mvalue\u001b[0m\u001b[1;33m)\u001b[0m \u001b[1;33m->\u001b[0m \u001b[1;32mNone\u001b[0m\u001b[1;33m:\u001b[0m\u001b[1;33m\u001b[0m\u001b[1;33m\u001b[0m\u001b[0m\n",
      "\u001b[1;31mAttributeError\u001b[0m: 'DataFrame' object has no attribute 'H'"
     ]
    }
   ],
   "source": [
    "predator_analysis.data_materials[\"brca_snv_data\"].HGVSp_Short"
   ]
  },
  {
   "cell_type": "code",
   "execution_count": 91,
   "id": "7b4de00c-1f17-41b3-9a98-12626902c7c2",
   "metadata": {},
   "outputs": [
    {
     "data": {
      "text/plain": [
       "786      D1578H\n",
       "8419     E2650Q\n",
       "9432     Q1811L\n",
       "10405     P527T\n",
       "12207    C3304S\n",
       "13611     D366N\n",
       "13800    E3175K\n",
       "19490    D1355Y\n",
       "24070       D2E\n",
       "27162     S879F\n",
       "28730    Q3206E\n",
       "29693    E1158Q\n",
       "29694    K1191N\n",
       "33091    E3177Q\n",
       "33114    D1344H\n",
       "40666     D687H\n",
       "40667    D1033H\n",
       "42740       E9Q\n",
       "46059     K985I\n",
       "46060    E3342K\n",
       "46555    L1098I\n",
       "47706    E2175Q\n",
       "48845     D596N\n",
       "48846    T1499I\n",
       "50365    R2336C\n",
       "54622    S1027I\n",
       "57789      V83F\n",
       "58389     S915C\n",
       "60020    E1419K\n",
       "60131    G1788V\n",
       "Name: HGVSp_Short, dtype: object"
      ]
     },
     "execution_count": 91,
     "metadata": {},
     "output_type": "execute_result"
    }
   ],
   "source": [
    "predator_analysis.data_materials[\"brca_snv_data_simplified\"][\n",
    "    predator_analysis.data_materials[\"brca_snv_data_simplified\"][\"Hugo_Symbol\"].str.contains(\"BRCA\")\n",
    "][\"HGVSp_Short\"]"
   ]
  },
  {
   "cell_type": "code",
   "execution_count": null,
   "id": "d3941278-e5f4-4e97-8aa1-35b7ef84eac1",
   "metadata": {},
   "outputs": [],
   "source": []
  },
  {
   "cell_type": "code",
   "execution_count": null,
   "id": "9d1481a4-2e4b-4b56-a5dd-348ea7b00954",
   "metadata": {},
   "outputs": [],
   "source": [
    "'TCGA-AN-A0FF',\n",
    "'TCGA-AO-A03O',\n",
    "'TCGA-AR-A0TX',\n",
    "'TCGA-AR-A0TY',\n",
    "'TCGA-BH-A1F8',\n",
    "'TCGA-C8-A26Y',\n",
    "'TCGA-E9-A1ND',\n",
    "'TCGA-E9-A22E',\n",
    "'TCGA-EW-A1IZ'"
   ]
  },
  {
   "cell_type": "code",
   "execution_count": 48,
   "id": "70ae2e47-6dd3-406c-a393-3362c43afea2",
   "metadata": {},
   "outputs": [
    {
     "data": {
      "text/plain": [
       "False"
      ]
     },
     "execution_count": 48,
     "metadata": {},
     "output_type": "execute_result"
    }
   ],
   "source": [
    "\"A0AVT1\" in patient_protein_to_mutations"
   ]
  },
  {
   "cell_type": "code",
   "execution_count": null,
   "id": "356d8003-e163-4873-b5ba-dfe90c011004",
   "metadata": {},
   "outputs": [],
   "source": [
    "TCGA-AN-A0FF\n",
    "TCGA-AR-A0TX\n",
    "TCGA-E9-A22E\n",
    "TCGA-E9-A1ND\n",
    "TCGA-C8-A26Y\n",
    "TCGA-AR-A0TY\n",
    "TCGA-AO-A03O\n",
    "TCGA-BH-A1F8\n",
    "TCGA-EW-A1IZ"
   ]
  },
  {
   "cell_type": "code",
   "execution_count": null,
   "id": "00ea8864-43e2-4f6a-8ef8-a5b4865dc3b8",
   "metadata": {},
   "outputs": [],
   "source": []
  },
  {
   "cell_type": "code",
   "execution_count": null,
   "id": "abe2e52a-605d-4232-abd3-bc8fcd90d571",
   "metadata": {},
   "outputs": [],
   "source": []
  },
  {
   "cell_type": "code",
   "execution_count": null,
   "id": "b46eb4a4-912f-427f-a611-062fac404903",
   "metadata": {},
   "outputs": [],
   "source": []
  },
  {
   "cell_type": "code",
   "execution_count": null,
   "id": "ca3e943a-88c7-41af-b496-2838111566ec",
   "metadata": {},
   "outputs": [],
   "source": []
  },
  {
   "cell_type": "code",
   "execution_count": null,
   "id": "324daa77-213a-4037-b444-1d38e78e9a5c",
   "metadata": {},
   "outputs": [],
   "source": []
  },
  {
   "cell_type": "code",
   "execution_count": null,
   "id": "fd494740-58bf-4974-ac34-50976792ac75",
   "metadata": {},
   "outputs": [],
   "source": []
  },
  {
   "cell_type": "code",
   "execution_count": 2,
   "id": "cec6850f-64a9-4078-9f79-4ff169ac9e43",
   "metadata": {},
   "outputs": [],
   "source": [
    "import os.path as op\n",
    "import pandas as pd\n",
    "\n",
    "SNV_COMMON_PATH = \"C:/Users/ibrah/Desktop/SNV_data/SNV_datasets/\"\n",
    "BRCA_SNV_PATH = op.join(SNV_COMMON_PATH, \"SNV_BRCA_hg38_2021-09-22.csv\")"
   ]
  },
  {
   "cell_type": "code",
   "execution_count": 4,
   "id": "66574615-6717-4d21-b5e4-fed7eda5c6fa",
   "metadata": {},
   "outputs": [],
   "source": [
    "brca_snv = pd.read_csv(BRCA_SNV_PATH, low_memory=False)"
   ]
  },
  {
   "cell_type": "code",
   "execution_count": 6,
   "id": "38a57198-20fd-44db-9eb0-c5e9d8264eaa",
   "metadata": {},
   "outputs": [
    {
     "data": {
      "text/html": [
       "<div>\n",
       "<style scoped>\n",
       "    .dataframe tbody tr th:only-of-type {\n",
       "        vertical-align: middle;\n",
       "    }\n",
       "\n",
       "    .dataframe tbody tr th {\n",
       "        vertical-align: top;\n",
       "    }\n",
       "\n",
       "    .dataframe thead th {\n",
       "        text-align: right;\n",
       "    }\n",
       "</style>\n",
       "<table border=\"1\" class=\"dataframe\">\n",
       "  <thead>\n",
       "    <tr style=\"text-align: right;\">\n",
       "      <th></th>\n",
       "      <th>Unnamed: 0</th>\n",
       "      <th>Hugo_Symbol</th>\n",
       "      <th>Entrez_Gene_Id</th>\n",
       "      <th>Center</th>\n",
       "      <th>NCBI_Build</th>\n",
       "      <th>Chromosome</th>\n",
       "      <th>Start_Position</th>\n",
       "      <th>End_Position</th>\n",
       "      <th>Strand</th>\n",
       "      <th>Variant_Classification</th>\n",
       "      <th>...</th>\n",
       "      <th>FILTER</th>\n",
       "      <th>CONTEXT</th>\n",
       "      <th>src_vcf_id</th>\n",
       "      <th>tumor_bam_uuid</th>\n",
       "      <th>normal_bam_uuid</th>\n",
       "      <th>case_id</th>\n",
       "      <th>GDC_FILTER</th>\n",
       "      <th>COSMIC</th>\n",
       "      <th>MC3_Overlap</th>\n",
       "      <th>GDC_Validation_Status</th>\n",
       "    </tr>\n",
       "  </thead>\n",
       "  <tbody>\n",
       "    <tr>\n",
       "      <th>0</th>\n",
       "      <td>1</td>\n",
       "      <td>USP24</td>\n",
       "      <td>23358</td>\n",
       "      <td>WUGSC</td>\n",
       "      <td>GRCh38</td>\n",
       "      <td>chr1</td>\n",
       "      <td>55159655</td>\n",
       "      <td>55159655</td>\n",
       "      <td>+</td>\n",
       "      <td>Missense_Mutation</td>\n",
       "      <td>...</td>\n",
       "      <td>panel_of_normals</td>\n",
       "      <td>CTGGATTGTAG</td>\n",
       "      <td>d083d669-6646-463b-853e-c58da8d06439</td>\n",
       "      <td>4374e19d-c5e7-49cf-8707-05ae5aeb7369</td>\n",
       "      <td>aadee87c-6a68-4580-bd10-64ac273b1e3d</td>\n",
       "      <td>0130d616-885e-4a6c-9d03-2f17dd692a05</td>\n",
       "      <td>common_in_exac;gdc_pon</td>\n",
       "      <td>NaN</td>\n",
       "      <td>True</td>\n",
       "      <td>Unknown</td>\n",
       "    </tr>\n",
       "    <tr>\n",
       "      <th>1</th>\n",
       "      <td>2</td>\n",
       "      <td>ERICH3</td>\n",
       "      <td>127254</td>\n",
       "      <td>WUGSC</td>\n",
       "      <td>GRCh38</td>\n",
       "      <td>chr1</td>\n",
       "      <td>74571494</td>\n",
       "      <td>74571494</td>\n",
       "      <td>+</td>\n",
       "      <td>Missense_Mutation</td>\n",
       "      <td>...</td>\n",
       "      <td>PASS</td>\n",
       "      <td>TTCCTCTACCA</td>\n",
       "      <td>d083d669-6646-463b-853e-c58da8d06439</td>\n",
       "      <td>4374e19d-c5e7-49cf-8707-05ae5aeb7369</td>\n",
       "      <td>aadee87c-6a68-4580-bd10-64ac273b1e3d</td>\n",
       "      <td>0130d616-885e-4a6c-9d03-2f17dd692a05</td>\n",
       "      <td>NaN</td>\n",
       "      <td>COSM1474194</td>\n",
       "      <td>True</td>\n",
       "      <td>Unknown</td>\n",
       "    </tr>\n",
       "  </tbody>\n",
       "</table>\n",
       "<p>2 rows × 121 columns</p>\n",
       "</div>"
      ],
      "text/plain": [
       "   Unnamed: 0 Hugo_Symbol  Entrez_Gene_Id Center NCBI_Build Chromosome  \\\n",
       "0           1       USP24           23358  WUGSC     GRCh38       chr1   \n",
       "1           2      ERICH3          127254  WUGSC     GRCh38       chr1   \n",
       "\n",
       "   Start_Position  End_Position Strand Variant_Classification  ...  \\\n",
       "0        55159655      55159655      +      Missense_Mutation  ...   \n",
       "1        74571494      74571494      +      Missense_Mutation  ...   \n",
       "\n",
       "             FILTER      CONTEXT                            src_vcf_id  \\\n",
       "0  panel_of_normals  CTGGATTGTAG  d083d669-6646-463b-853e-c58da8d06439   \n",
       "1              PASS  TTCCTCTACCA  d083d669-6646-463b-853e-c58da8d06439   \n",
       "\n",
       "                         tumor_bam_uuid                       normal_bam_uuid  \\\n",
       "0  4374e19d-c5e7-49cf-8707-05ae5aeb7369  aadee87c-6a68-4580-bd10-64ac273b1e3d   \n",
       "1  4374e19d-c5e7-49cf-8707-05ae5aeb7369  aadee87c-6a68-4580-bd10-64ac273b1e3d   \n",
       "\n",
       "                                case_id              GDC_FILTER       COSMIC  \\\n",
       "0  0130d616-885e-4a6c-9d03-2f17dd692a05  common_in_exac;gdc_pon          NaN   \n",
       "1  0130d616-885e-4a6c-9d03-2f17dd692a05                     NaN  COSM1474194   \n",
       "\n",
       "   MC3_Overlap  GDC_Validation_Status  \n",
       "0         True                Unknown  \n",
       "1         True                Unknown  \n",
       "\n",
       "[2 rows x 121 columns]"
      ]
     },
     "execution_count": 6,
     "metadata": {},
     "output_type": "execute_result"
    }
   ],
   "source": [
    "brca_snv.head(2)"
   ]
  },
  {
   "cell_type": "code",
   "execution_count": 13,
   "id": "7c10a314-8dc0-40e7-aff7-364248534818",
   "metadata": {},
   "outputs": [
    {
     "data": {
      "text/plain": [
       "['Tumor_Sample_Barcode',\n",
       " 'Matched_Norm_Sample_Barcode',\n",
       " 'Tumor_Sample_UUID',\n",
       " 'Matched_Norm_Sample_UUID']"
      ]
     },
     "execution_count": 13,
     "metadata": {},
     "output_type": "execute_result"
    }
   ],
   "source": [
    "[e for e in brca_snv.columns if \"Sample\" in e]"
   ]
  },
  {
   "cell_type": "code",
   "execution_count": 18,
   "id": "d47f7372-3e2d-43d8-b8f0-d288e144ca28",
   "metadata": {},
   "outputs": [
    {
     "name": "stdout",
     "output_type": "stream",
     "text": [
      "15\n"
     ]
    },
    {
     "data": {
      "text/plain": [
       "['TCGA-AN-A0FF-01A-11W-A050-09',\n",
       " 'TCGA-AR-A0TX-01A-11D-A099-09',\n",
       " 'TCGA-E9-A22E-01A-11D-A159-09',\n",
       " 'TCGA-E9-A1ND-01A-11D-A142-09',\n",
       " 'TCGA-C8-A26Y-01A-11D-A16D-09',\n",
       " 'TCGA-AR-A0TY-01A-12W-A12T-09',\n",
       " 'TCGA-AO-A03O-01A-11W-A019-09',\n",
       " 'TCGA-BH-A0DP-01A-21W-A071-09',\n",
       " 'TCGA-BH-A1F8-01A-11D-A13L-09',\n",
       " 'TCGA-EW-A1IZ-01A-11D-A188-09',\n",
       " 'TCGA-AR-A0TU-01A-31D-A10G-09',\n",
       " 'TCGA-BH-A0BA-01A-11W-A071-09',\n",
       " 'TCGA-BH-A0HA-01A-11D-A12Q-09',\n",
       " 'TCGA-OL-A5DA-01A-11D-A27P-09',\n",
       " 'TCGA-AN-A0AK-01A-21W-A019-09']"
      ]
     },
     "execution_count": 18,
     "metadata": {},
     "output_type": "execute_result"
    }
   ],
   "source": [
    "uba6_patients = list(brca_snv[brca_snv[\"Hugo_Symbol\"] == \"UBA6\"][\"Tumor_Sample_Barcode\"].unique())\n",
    "print(len(uba6_patients))\n",
    "uba6_patients"
   ]
  },
  {
   "cell_type": "code",
   "execution_count": 19,
   "id": "e1692dd4-077b-4d86-839f-8a2330dc30d6",
   "metadata": {},
   "outputs": [
    {
     "data": {
      "text/plain": [
       "[('P04745', ['AMY1A', 'AMY1C']),\n",
       " ('P04908', ['HIST1H2AB', 'HIST1H2AE']),\n",
       " ('P0C0S8', ['HIST1H2AL', 'HIST1H2AG', 'HIST1H2AK', 'HIST1H2AM', 'HIST1H2AI']),\n",
       " ('P12532', ['CKMT1B', 'CKMT1A']),\n",
       " ('P62805',\n",
       "  ['HIST1H4F',\n",
       "   'HIST1H4H',\n",
       "   'HIST1H4E',\n",
       "   'HIST1H4L',\n",
       "   'HIST1H4J',\n",
       "   'HIST1H4K',\n",
       "   'HIST1H4D',\n",
       "   'HIST4H4',\n",
       "   'HIST1H4B']),\n",
       " ('P62807', ['HIST1H2BC', 'HIST1H2BG', 'HIST1H2BE', 'HIST1H2BF', 'HIST1H2BI']),\n",
       " ('P68431',\n",
       "  ['HIST1H3B',\n",
       "   'HIST1H3D',\n",
       "   'HIST1H3F',\n",
       "   'HIST1H3E',\n",
       "   'HIST1H3J',\n",
       "   'HIST1H3A',\n",
       "   'HIST1H3I',\n",
       "   'HIST1H3G',\n",
       "   'HIST1H3C']),\n",
       " ('Q13748', ['TUBA3C', 'TUBA3D']),\n",
       " ('Q5VU13', ['VSIG8', 'C1orf204'])]"
      ]
     },
     "execution_count": 19,
     "metadata": {},
     "output_type": "execute_result"
    }
   ],
   "source": [
    "[('P04745', ['AMY1A', 'AMY1C']), ('P04908', ['HIST1H2AB', 'HIST1H2AE']), ('P0C0S8', ['HIST1H2AL', 'HIST1H2AG', 'HIST1H2AK', 'HIST1H2AM', 'HIST1H2AI']), ('P12532', ['CKMT1B', 'CKMT1A']), ('P62805', ['HIST1H4F', 'HIST1H4H', 'HIST1H4E', 'HIST1H4L', 'HIST1H4J', 'HIST1H4K', 'HIST1H4D', 'HIST4H4', 'HIST1H4B']), ('P62807', ['HIST1H2BC', 'HIST1H2BG', 'HIST1H2BE', 'HIST1H2BF', 'HIST1H2BI']), ('P68431', ['HIST1H3B', 'HIST1H3D', 'HIST1H3F', 'HIST1H3E', 'HIST1H3J', 'HIST1H3A', 'HIST1H3I', 'HIST1H3G', 'HIST1H3C']), ('Q13748', ['TUBA3C', 'TUBA3D']), ('Q5VU13', ['VSIG8', 'C1orf204'])]"
   ]
  },
  {
   "cell_type": "code",
   "execution_count": null,
   "id": "3a09428f-a801-47b5-9876-29885d038081",
   "metadata": {},
   "outputs": [],
   "source": []
  },
  {
   "cell_type": "code",
   "execution_count": null,
   "id": "62150261-36bf-4f8e-91c4-04a4830eb07d",
   "metadata": {},
   "outputs": [],
   "source": []
  },
  {
   "cell_type": "code",
   "execution_count": null,
   "id": "bc14988c-bb51-42bf-be35-9dfa086846cf",
   "metadata": {},
   "outputs": [],
   "source": []
  },
  {
   "cell_type": "code",
   "execution_count": null,
   "id": "115e68c0-db66-4741-95c4-60dfa43cce4a",
   "metadata": {},
   "outputs": [],
   "source": []
  },
  {
   "cell_type": "code",
   "execution_count": null,
   "id": "0d99a472-02f8-4b70-8c2c-95231c70f424",
   "metadata": {},
   "outputs": [],
   "source": []
  }
 ],
 "metadata": {
  "kernelspec": {
   "display_name": "Predicting-Mutation-Effects",
   "language": "python",
   "name": "predicting-mutation-effects"
  },
  "language_info": {
   "codemirror_mode": {
    "name": "ipython",
    "version": 3
   },
   "file_extension": ".py",
   "mimetype": "text/x-python",
   "name": "python",
   "nbconvert_exporter": "python",
   "pygments_lexer": "ipython3",
   "version": "3.8.10"
  }
 },
 "nbformat": 4,
 "nbformat_minor": 5
}
