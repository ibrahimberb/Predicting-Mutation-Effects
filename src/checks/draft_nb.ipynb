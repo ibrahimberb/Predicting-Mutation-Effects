{
 "cells": [
  {
   "cell_type": "code",
   "execution_count": 5,
   "id": "215eb3e6-cbac-4c50-b17d-3b590b7a29e4",
   "metadata": {},
   "outputs": [
    {
     "data": {
      "text/html": [
       "<div>\n",
       "<style scoped>\n",
       "    .dataframe tbody tr th:only-of-type {\n",
       "        vertical-align: middle;\n",
       "    }\n",
       "\n",
       "    .dataframe tbody tr th {\n",
       "        vertical-align: top;\n",
       "    }\n",
       "\n",
       "    .dataframe thead th {\n",
       "        text-align: right;\n",
       "    }\n",
       "</style>\n",
       "<table border=\"1\" class=\"dataframe\">\n",
       "  <thead>\n",
       "    <tr style=\"text-align: right;\">\n",
       "      <th></th>\n",
       "      <th>PROTEIN</th>\n",
       "      <th>PATIENT</th>\n",
       "      <th>C_I_STATUS</th>\n",
       "    </tr>\n",
       "  </thead>\n",
       "  <tbody>\n",
       "    <tr>\n",
       "      <th>0</th>\n",
       "      <td>Q5TEC3</td>\n",
       "      <td>TCGA-3C-AAAU</td>\n",
       "      <td>C</td>\n",
       "    </tr>\n",
       "    <tr>\n",
       "      <th>1</th>\n",
       "      <td>Q8N5C6</td>\n",
       "      <td>TCGA-3C-AAAU</td>\n",
       "      <td>C</td>\n",
       "    </tr>\n",
       "    <tr>\n",
       "      <th>2</th>\n",
       "      <td>O60315</td>\n",
       "      <td>TCGA-3C-AAAU</td>\n",
       "      <td>C</td>\n",
       "    </tr>\n",
       "    <tr>\n",
       "      <th>3</th>\n",
       "      <td>P00747</td>\n",
       "      <td>TCGA-3C-AAAU</td>\n",
       "      <td>C</td>\n",
       "    </tr>\n",
       "    <tr>\n",
       "      <th>4</th>\n",
       "      <td>Q9UDT6</td>\n",
       "      <td>TCGA-3C-AAAU</td>\n",
       "      <td>C</td>\n",
       "    </tr>\n",
       "  </tbody>\n",
       "</table>\n",
       "</div>"
      ],
      "text/plain": [
       "  PROTEIN       PATIENT C_I_STATUS\n",
       "0  Q5TEC3  TCGA-3C-AAAU          C\n",
       "1  Q8N5C6  TCGA-3C-AAAU          C\n",
       "2  O60315  TCGA-3C-AAAU          C\n",
       "3  P00747  TCGA-3C-AAAU          C\n",
       "4  Q9UDT6  TCGA-3C-AAAU          C"
      ]
     },
     "metadata": {},
     "output_type": "display_data"
    }
   ],
   "source": [
    "import pickle\n",
    "import pandas as pd\n",
    "from IPython.display import display\n",
    "\n",
    "with open(\"brca_patient_protein_mutation_to_C_I_status.pickle\", 'rb') as inp:\n",
    "    brca_patient_protein_mutation_to_C_I_status = pickle.load(inp)\n",
    "\n",
    "# print(brca_patient_protein_mutation_to_C_I_status)\n",
    "\n",
    "data = pd.DataFrame(\n",
    "    brca_patient_protein_mutation_to_C_I_status.keys(),\n",
    "    columns=[\"PROTEIN\", \"PATIENT\"]\n",
    ")\n",
    "data[\"C_I_STATUS\"] = brca_patient_protein_mutation_to_C_I_status.values()\n",
    "display(data.head())"
   ]
  },
  {
   "cell_type": "code",
   "execution_count": 6,
   "id": "81544b3e-612c-4b0d-a964-c8ee61742bb6",
   "metadata": {},
   "outputs": [
    {
     "name": "stdout",
     "output_type": "stream",
     "text": [
      "C    56189\n",
      "I     1695\n",
      "Name: C_I_STATUS, dtype: int64\n"
     ]
    }
   ],
   "source": [
    "print(data[\"C_I_STATUS\"].value_counts())"
   ]
  },
  {
   "cell_type": "code",
   "execution_count": null,
   "id": "bf19175f-7474-4fc2-8ac6-d58c00117691",
   "metadata": {},
   "outputs": [],
   "source": [
    "'TCGA-A2-A04T'\n",
    "\"TCGA-A7-A6VX\""
   ]
  },
  {
   "cell_type": "code",
   "execution_count": 8,
   "id": "716beeb3-719b-437f-b3df-418b267df67e",
   "metadata": {},
   "outputs": [
    {
     "data": {
      "text/html": [
       "<div>\n",
       "<style scoped>\n",
       "    .dataframe tbody tr th:only-of-type {\n",
       "        vertical-align: middle;\n",
       "    }\n",
       "\n",
       "    .dataframe tbody tr th {\n",
       "        vertical-align: top;\n",
       "    }\n",
       "\n",
       "    .dataframe thead th {\n",
       "        text-align: right;\n",
       "    }\n",
       "</style>\n",
       "<table border=\"1\" class=\"dataframe\">\n",
       "  <thead>\n",
       "    <tr style=\"text-align: right;\">\n",
       "      <th></th>\n",
       "      <th>PROTEIN</th>\n",
       "      <th>PATIENT</th>\n",
       "      <th>C_I_STATUS</th>\n",
       "    </tr>\n",
       "  </thead>\n",
       "  <tbody>\n",
       "    <tr>\n",
       "      <th>2337</th>\n",
       "      <td>P04637</td>\n",
       "      <td>TCGA-A2-A04T</td>\n",
       "      <td>C</td>\n",
       "    </tr>\n",
       "  </tbody>\n",
       "</table>\n",
       "</div>"
      ],
      "text/plain": [
       "     PROTEIN       PATIENT C_I_STATUS\n",
       "2337  P04637  TCGA-A2-A04T          C"
      ]
     },
     "execution_count": 8,
     "metadata": {},
     "output_type": "execute_result"
    }
   ],
   "source": [
    "data[\n",
    "    (data[\"PROTEIN\"] == \"P04637\") &\n",
    "    (data[\"PATIENT\"] == \"TCGA-A2-A04T\")\n",
    "]"
   ]
  },
  {
   "cell_type": "code",
   "execution_count": 9,
   "id": "def22f6e-900d-4bb0-a0f0-db87460a6d2d",
   "metadata": {},
   "outputs": [
    {
     "data": {
      "text/html": [
       "<div>\n",
       "<style scoped>\n",
       "    .dataframe tbody tr th:only-of-type {\n",
       "        vertical-align: middle;\n",
       "    }\n",
       "\n",
       "    .dataframe tbody tr th {\n",
       "        vertical-align: top;\n",
       "    }\n",
       "\n",
       "    .dataframe thead th {\n",
       "        text-align: right;\n",
       "    }\n",
       "</style>\n",
       "<table border=\"1\" class=\"dataframe\">\n",
       "  <thead>\n",
       "    <tr style=\"text-align: right;\">\n",
       "      <th></th>\n",
       "      <th>PROTEIN</th>\n",
       "      <th>PATIENT</th>\n",
       "      <th>C_I_STATUS</th>\n",
       "    </tr>\n",
       "  </thead>\n",
       "  <tbody>\n",
       "    <tr>\n",
       "      <th>7445</th>\n",
       "      <td>P04637</td>\n",
       "      <td>TCGA-A7-A6VX</td>\n",
       "      <td>I</td>\n",
       "    </tr>\n",
       "  </tbody>\n",
       "</table>\n",
       "</div>"
      ],
      "text/plain": [
       "     PROTEIN       PATIENT C_I_STATUS\n",
       "7445  P04637  TCGA-A7-A6VX          I"
      ]
     },
     "execution_count": 9,
     "metadata": {},
     "output_type": "execute_result"
    }
   ],
   "source": [
    "data[\n",
    "    (data[\"PROTEIN\"] == \"P04637\") &\n",
    "    (data[\"PATIENT\"] == \"TCGA-A7-A6VX\")\n",
    "]"
   ]
  },
  {
   "cell_type": "code",
   "execution_count": null,
   "id": "34894209-6f5b-4dca-85dd-63e5d692364a",
   "metadata": {},
   "outputs": [],
   "source": []
  },
  {
   "cell_type": "code",
   "execution_count": 12,
   "id": "f9583d89-72e4-4a1f-a2bc-e710ac178dac",
   "metadata": {},
   "outputs": [
    {
     "data": {
      "text/plain": [
       "(55, 3)"
      ]
     },
     "execution_count": 12,
     "metadata": {},
     "output_type": "execute_result"
    }
   ],
   "source": [
    "data[\n",
    "    (data[\"PROTEIN\"] == \"P04637\") &\n",
    "    (data[\"C_I_STATUS\"] == \"I\")\n",
    "].shape"
   ]
  },
  {
   "cell_type": "code",
   "execution_count": null,
   "id": "88bb1f80-ea48-4672-b8eb-85a46a68d15c",
   "metadata": {},
   "outputs": [],
   "source": []
  },
  {
   "cell_type": "code",
   "execution_count": null,
   "id": "e7e4bbe3-57e4-4bee-894a-c702757751ea",
   "metadata": {},
   "outputs": [],
   "source": []
  }
 ],
 "metadata": {
  "kernelspec": {
   "display_name": "Predicting-Mutation-Effects",
   "language": "python",
   "name": "predicting-mutation-effects"
  },
  "language_info": {
   "codemirror_mode": {
    "name": "ipython",
    "version": 3
   },
   "file_extension": ".py",
   "mimetype": "text/x-python",
   "name": "python",
   "nbconvert_exporter": "python",
   "pygments_lexer": "ipython3",
   "version": "3.8.10"
  }
 },
 "nbformat": 4,
 "nbformat_minor": 5
}
