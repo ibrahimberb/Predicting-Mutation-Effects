{
 "cells": [
  {
   "cell_type": "markdown",
   "source": [
    "# Original IntAct Data: Instances That Change Based on Interactor"
   ],
   "metadata": {
    "collapsed": false
   }
  },
  {
   "cell_type": "code",
   "execution_count": 1,
   "outputs": [
    {
     "name": "stdout",
     "output_type": "stream",
     "text": [
      "\u001B[32mMarch 16, 2022 18:47:19\u001B[0m\n"
     ]
    }
   ],
   "source": [
    "from datetime import datetime\n",
    "\n",
    "from src.helpers.helpers_predator.preprocessing import mutation_effect_label_binner\n",
    "\n",
    "print(\"\\033[32m{}\\033[0m\".format(datetime.now().strftime(\"%B %d, %Y %H:%M:%S\")))"
   ],
   "metadata": {
    "collapsed": false,
    "pycharm": {
     "name": "#%%\n"
    }
   }
  },
  {
   "cell_type": "code",
   "execution_count": 2,
   "outputs": [],
   "source": [
    "import pandas as pd\n",
    "\n",
    "# INTACT_DATA_PATH = r\"C:\\Users\\ibrah\\Desktop\\TUSEB_Study\\Prediction_of_Mutation_Effects\\Intact_Mutation_Dataset\\mutations.tsv\"\n",
    "INTACT_DATA_PATH = r\"C:\\Users\\ibrah\\Desktop\\Spaceship\\Reproducable_science\\tasks_IntAct_2021-10-18\\processed_data_v3.1.csv\"\n",
    "\n",
    "# Reflect changes in the modules immediately.\n",
    "%load_ext autoreload\n",
    "%autoreload 2"
   ],
   "metadata": {
    "collapsed": false,
    "pycharm": {
     "name": "#%%\n"
    }
   }
  },
  {
   "cell_type": "code",
   "execution_count": 3,
   "outputs": [],
   "source": [
    "intact_data = pd.read_csv(INTACT_DATA_PATH)"
   ],
   "metadata": {
    "collapsed": false,
    "pycharm": {
     "name": "#%%\n"
    }
   }
  },
  {
   "cell_type": "code",
   "execution_count": 4,
   "outputs": [
    {
     "data": {
      "text/plain": "                  Mutation Effect Label Affected Protein AC Mutation  \\\n0             mutation causing(MI:2227)            Q06124-2    D425A   \n1             mutation causing(MI:2227)            Q06124-2    C459S   \n2             mutation causing(MI:2227)            Q06124-2    Y279C   \n3             mutation causing(MI:2227)              P04264    L161P   \n4             mutation causing(MI:2227)              P45381    E285A   \n...                                 ...                 ...      ...   \n36165  mutation with no effect(MI:2226)              P0C0S8     K14R   \n36166  mutation with no effect(MI:2226)              P01024    R712W   \n36167  mutation with no effect(MI:2226)              P18074    R683W   \n36168  mutation with no effect(MI:2226)            P36776-1    P676S   \n36169  mutation with no effect(MI:2226)              O00329    Y524S   \n\n      Interaction Participant  \n0                      Q6P1J9  \n1                      Q6P1J9  \n2                      Q6P1J9  \n3                      P37198  \n4                      Q14145  \n...                       ...  \n36165                  Q12888  \n36166                  P15529  \n36167                  P24928  \n36168                  Q00059  \n36169                  P27986  \n\n[36170 rows x 4 columns]",
      "text/html": "<div>\n<style scoped>\n    .dataframe tbody tr th:only-of-type {\n        vertical-align: middle;\n    }\n\n    .dataframe tbody tr th {\n        vertical-align: top;\n    }\n\n    .dataframe thead th {\n        text-align: right;\n    }\n</style>\n<table border=\"1\" class=\"dataframe\">\n  <thead>\n    <tr style=\"text-align: right;\">\n      <th></th>\n      <th>Mutation Effect Label</th>\n      <th>Affected Protein AC</th>\n      <th>Mutation</th>\n      <th>Interaction Participant</th>\n    </tr>\n  </thead>\n  <tbody>\n    <tr>\n      <th>0</th>\n      <td>mutation causing(MI:2227)</td>\n      <td>Q06124-2</td>\n      <td>D425A</td>\n      <td>Q6P1J9</td>\n    </tr>\n    <tr>\n      <th>1</th>\n      <td>mutation causing(MI:2227)</td>\n      <td>Q06124-2</td>\n      <td>C459S</td>\n      <td>Q6P1J9</td>\n    </tr>\n    <tr>\n      <th>2</th>\n      <td>mutation causing(MI:2227)</td>\n      <td>Q06124-2</td>\n      <td>Y279C</td>\n      <td>Q6P1J9</td>\n    </tr>\n    <tr>\n      <th>3</th>\n      <td>mutation causing(MI:2227)</td>\n      <td>P04264</td>\n      <td>L161P</td>\n      <td>P37198</td>\n    </tr>\n    <tr>\n      <th>4</th>\n      <td>mutation causing(MI:2227)</td>\n      <td>P45381</td>\n      <td>E285A</td>\n      <td>Q14145</td>\n    </tr>\n    <tr>\n      <th>...</th>\n      <td>...</td>\n      <td>...</td>\n      <td>...</td>\n      <td>...</td>\n    </tr>\n    <tr>\n      <th>36165</th>\n      <td>mutation with no effect(MI:2226)</td>\n      <td>P0C0S8</td>\n      <td>K14R</td>\n      <td>Q12888</td>\n    </tr>\n    <tr>\n      <th>36166</th>\n      <td>mutation with no effect(MI:2226)</td>\n      <td>P01024</td>\n      <td>R712W</td>\n      <td>P15529</td>\n    </tr>\n    <tr>\n      <th>36167</th>\n      <td>mutation with no effect(MI:2226)</td>\n      <td>P18074</td>\n      <td>R683W</td>\n      <td>P24928</td>\n    </tr>\n    <tr>\n      <th>36168</th>\n      <td>mutation with no effect(MI:2226)</td>\n      <td>P36776-1</td>\n      <td>P676S</td>\n      <td>Q00059</td>\n    </tr>\n    <tr>\n      <th>36169</th>\n      <td>mutation with no effect(MI:2226)</td>\n      <td>O00329</td>\n      <td>Y524S</td>\n      <td>P27986</td>\n    </tr>\n  </tbody>\n</table>\n<p>36170 rows × 4 columns</p>\n</div>"
     },
     "execution_count": 4,
     "metadata": {},
     "output_type": "execute_result"
    }
   ],
   "source": [
    "intact_data"
   ],
   "metadata": {
    "collapsed": false,
    "pycharm": {
     "name": "#%%\n"
    }
   }
  },
  {
   "cell_type": "code",
   "execution_count": 5,
   "outputs": [],
   "source": [
    "from src.helpers.helpers_analysis.convert_primary_isomer import convert_primary_isomer"
   ],
   "metadata": {
    "collapsed": false,
    "pycharm": {
     "name": "#%%\n"
    }
   }
  },
  {
   "cell_type": "code",
   "execution_count": 6,
   "outputs": [],
   "source": [
    "intact_data = convert_primary_isomer(\"Affected Protein AC\", intact_data)\n",
    "intact_data = convert_primary_isomer(\"Interaction Participant\", intact_data)"
   ],
   "metadata": {
    "collapsed": false,
    "pycharm": {
     "name": "#%%\n"
    }
   }
  },
  {
   "cell_type": "code",
   "execution_count": 7,
   "outputs": [
    {
     "data": {
      "text/plain": "                  Mutation Effect Label Affected Protein AC Mutation  \\\n0             mutation causing(MI:2227)              Q06124    D425A   \n1             mutation causing(MI:2227)              Q06124    C459S   \n2             mutation causing(MI:2227)              Q06124    Y279C   \n3             mutation causing(MI:2227)              P04264    L161P   \n4             mutation causing(MI:2227)              P45381    E285A   \n...                                 ...                 ...      ...   \n36165  mutation with no effect(MI:2226)              P0C0S8     K14R   \n36166  mutation with no effect(MI:2226)              P01024    R712W   \n36167  mutation with no effect(MI:2226)              P18074    R683W   \n36168  mutation with no effect(MI:2226)              P36776    P676S   \n36169  mutation with no effect(MI:2226)              O00329    Y524S   \n\n      Interaction Participant  \n0                      Q6P1J9  \n1                      Q6P1J9  \n2                      Q6P1J9  \n3                      P37198  \n4                      Q14145  \n...                       ...  \n36165                  Q12888  \n36166                  P15529  \n36167                  P24928  \n36168                  Q00059  \n36169                  P27986  \n\n[36170 rows x 4 columns]",
      "text/html": "<div>\n<style scoped>\n    .dataframe tbody tr th:only-of-type {\n        vertical-align: middle;\n    }\n\n    .dataframe tbody tr th {\n        vertical-align: top;\n    }\n\n    .dataframe thead th {\n        text-align: right;\n    }\n</style>\n<table border=\"1\" class=\"dataframe\">\n  <thead>\n    <tr style=\"text-align: right;\">\n      <th></th>\n      <th>Mutation Effect Label</th>\n      <th>Affected Protein AC</th>\n      <th>Mutation</th>\n      <th>Interaction Participant</th>\n    </tr>\n  </thead>\n  <tbody>\n    <tr>\n      <th>0</th>\n      <td>mutation causing(MI:2227)</td>\n      <td>Q06124</td>\n      <td>D425A</td>\n      <td>Q6P1J9</td>\n    </tr>\n    <tr>\n      <th>1</th>\n      <td>mutation causing(MI:2227)</td>\n      <td>Q06124</td>\n      <td>C459S</td>\n      <td>Q6P1J9</td>\n    </tr>\n    <tr>\n      <th>2</th>\n      <td>mutation causing(MI:2227)</td>\n      <td>Q06124</td>\n      <td>Y279C</td>\n      <td>Q6P1J9</td>\n    </tr>\n    <tr>\n      <th>3</th>\n      <td>mutation causing(MI:2227)</td>\n      <td>P04264</td>\n      <td>L161P</td>\n      <td>P37198</td>\n    </tr>\n    <tr>\n      <th>4</th>\n      <td>mutation causing(MI:2227)</td>\n      <td>P45381</td>\n      <td>E285A</td>\n      <td>Q14145</td>\n    </tr>\n    <tr>\n      <th>...</th>\n      <td>...</td>\n      <td>...</td>\n      <td>...</td>\n      <td>...</td>\n    </tr>\n    <tr>\n      <th>36165</th>\n      <td>mutation with no effect(MI:2226)</td>\n      <td>P0C0S8</td>\n      <td>K14R</td>\n      <td>Q12888</td>\n    </tr>\n    <tr>\n      <th>36166</th>\n      <td>mutation with no effect(MI:2226)</td>\n      <td>P01024</td>\n      <td>R712W</td>\n      <td>P15529</td>\n    </tr>\n    <tr>\n      <th>36167</th>\n      <td>mutation with no effect(MI:2226)</td>\n      <td>P18074</td>\n      <td>R683W</td>\n      <td>P24928</td>\n    </tr>\n    <tr>\n      <th>36168</th>\n      <td>mutation with no effect(MI:2226)</td>\n      <td>P36776</td>\n      <td>P676S</td>\n      <td>Q00059</td>\n    </tr>\n    <tr>\n      <th>36169</th>\n      <td>mutation with no effect(MI:2226)</td>\n      <td>O00329</td>\n      <td>Y524S</td>\n      <td>P27986</td>\n    </tr>\n  </tbody>\n</table>\n<p>36170 rows × 4 columns</p>\n</div>"
     },
     "execution_count": 7,
     "metadata": {},
     "output_type": "execute_result"
    }
   ],
   "source": [
    "intact_data"
   ],
   "metadata": {
    "collapsed": false,
    "pycharm": {
     "name": "#%%\n"
    }
   }
  },
  {
   "cell_type": "code",
   "execution_count": 8,
   "outputs": [
    {
     "data": {
      "text/plain": "      Mutation Effect Label Affected Protein AC Mutation  \\\n0                         0              Q15208     R41A   \n1                         0              P54198    R460A   \n2                         0              P54198    R459A   \n3                         0              P54198    I461D   \n4                         0              P54198    L464D   \n...                     ...                 ...      ...   \n30334                     1              P0C0S8     K14R   \n30335                     1              P01024    R712W   \n30336                     1              P18074    R683W   \n30337                     1              P36776    P676S   \n30338                     1              O00329    Y524S   \n\n      Interaction Participant  \n0                      Q9H8S9  \n1                      Q9Y294  \n2                      Q9Y294  \n3                      Q9Y294  \n4                      Q9Y294  \n...                       ...  \n30334                  Q12888  \n30335                  P15529  \n30336                  P24928  \n30337                  Q00059  \n30338                  P27986  \n\n[30339 rows x 4 columns]",
      "text/html": "<div>\n<style scoped>\n    .dataframe tbody tr th:only-of-type {\n        vertical-align: middle;\n    }\n\n    .dataframe tbody tr th {\n        vertical-align: top;\n    }\n\n    .dataframe thead th {\n        text-align: right;\n    }\n</style>\n<table border=\"1\" class=\"dataframe\">\n  <thead>\n    <tr style=\"text-align: right;\">\n      <th></th>\n      <th>Mutation Effect Label</th>\n      <th>Affected Protein AC</th>\n      <th>Mutation</th>\n      <th>Interaction Participant</th>\n    </tr>\n  </thead>\n  <tbody>\n    <tr>\n      <th>0</th>\n      <td>0</td>\n      <td>Q15208</td>\n      <td>R41A</td>\n      <td>Q9H8S9</td>\n    </tr>\n    <tr>\n      <th>1</th>\n      <td>0</td>\n      <td>P54198</td>\n      <td>R460A</td>\n      <td>Q9Y294</td>\n    </tr>\n    <tr>\n      <th>2</th>\n      <td>0</td>\n      <td>P54198</td>\n      <td>R459A</td>\n      <td>Q9Y294</td>\n    </tr>\n    <tr>\n      <th>3</th>\n      <td>0</td>\n      <td>P54198</td>\n      <td>I461D</td>\n      <td>Q9Y294</td>\n    </tr>\n    <tr>\n      <th>4</th>\n      <td>0</td>\n      <td>P54198</td>\n      <td>L464D</td>\n      <td>Q9Y294</td>\n    </tr>\n    <tr>\n      <th>...</th>\n      <td>...</td>\n      <td>...</td>\n      <td>...</td>\n      <td>...</td>\n    </tr>\n    <tr>\n      <th>30334</th>\n      <td>1</td>\n      <td>P0C0S8</td>\n      <td>K14R</td>\n      <td>Q12888</td>\n    </tr>\n    <tr>\n      <th>30335</th>\n      <td>1</td>\n      <td>P01024</td>\n      <td>R712W</td>\n      <td>P15529</td>\n    </tr>\n    <tr>\n      <th>30336</th>\n      <td>1</td>\n      <td>P18074</td>\n      <td>R683W</td>\n      <td>P24928</td>\n    </tr>\n    <tr>\n      <th>30337</th>\n      <td>1</td>\n      <td>P36776</td>\n      <td>P676S</td>\n      <td>Q00059</td>\n    </tr>\n    <tr>\n      <th>30338</th>\n      <td>1</td>\n      <td>O00329</td>\n      <td>Y524S</td>\n      <td>P27986</td>\n    </tr>\n  </tbody>\n</table>\n<p>30339 rows × 4 columns</p>\n</div>"
     },
     "execution_count": 8,
     "metadata": {},
     "output_type": "execute_result"
    }
   ],
   "source": [
    "intact_data = mutation_effect_label_binner(intact_data, \"Mutation Effect Label\")\n",
    "intact_data"
   ],
   "metadata": {
    "collapsed": false,
    "pycharm": {
     "name": "#%%\n"
    }
   }
  },
  {
   "cell_type": "code",
   "execution_count": 9,
   "outputs": [
    {
     "data": {
      "text/plain": "<Figure size 432x288 with 1 Axes>",
      "image/png": "[encoded data removed]"
     },
     "metadata": {
      "needs_background": "light"
     },
     "output_type": "display_data"
    }
   ],
   "source": [
    "intact_data[\"Mutation Effect Label\"].value_counts().plot(kind=\"bar\");"
   ],
   "metadata": {
    "collapsed": false,
    "pycharm": {
     "name": "#%%\n"
    }
   }
  },
  {
   "cell_type": "code",
   "execution_count": 9,
   "outputs": [],
   "source": [],
   "metadata": {
    "collapsed": false,
    "pycharm": {
     "name": "#%%\n"
    }
   }
  },
  {
   "cell_type": "code",
   "execution_count": 10,
   "outputs": [],
   "source": [
    "ans = (\n",
    "    intact_data.loc[intact_data[[\"Affected Protein AC\", \"Mutation\"]].duplicated(keep=False)]\n",
    "        .drop_duplicates()\n",
    "        .groupby([\"Affected Protein AC\", \"Mutation\"])\n",
    "        .filter(lambda x: x[\"Mutation Effect Label\"].nunique() > 1)\n",
    ")"
   ],
   "metadata": {
    "collapsed": false,
    "pycharm": {
     "name": "#%%\n"
    }
   }
  },
  {
   "cell_type": "code",
   "execution_count": 11,
   "outputs": [],
   "source": [
    "ans = ans.sort_values(by=[\"Affected Protein AC\", \"Mutation\"])"
   ],
   "metadata": {
    "collapsed": false,
    "pycharm": {
     "name": "#%%\n"
    }
   }
  },
  {
   "cell_type": "code",
   "execution_count": 12,
   "outputs": [
    {
     "data": {
      "text/plain": "      Mutation Effect Label Affected Protein AC Mutation  \\\n5198                      0          A0A0C4DFT7     E24G   \n5899                      0          A0A0C4DFT7     E24G   \n16621                     1          A0A0C4DFT7     E24G   \n4503                      0          A0A0C4DFT7     R50W   \n5905                      0          A0A0C4DFT7     R50W   \n...                     ...                 ...      ...   \n10415                     1              Q9Y5W5    I155R   \n5583                      0              Q9Y6H1     T61I   \n11466                     1              Q9Y6H1     T61I   \n6921                      0              Q9Y6W8    Y180F   \n28282                     1              Q9Y6W8    Y180F   \n\n      Interaction Participant  \n5198                   O43765  \n5899                   Q14145  \n16621                  O43889  \n4503                   O43765  \n5905                   Q14145  \n...                       ...  \n10415                  O00755  \n5583                   Q8WYQ3  \n11466                  Q8WYQ3  \n6921                   P27986  \n28282                  Q9UHD2  \n\n[3079 rows x 4 columns]",
      "text/html": "<div>\n<style scoped>\n    .dataframe tbody tr th:only-of-type {\n        vertical-align: middle;\n    }\n\n    .dataframe tbody tr th {\n        vertical-align: top;\n    }\n\n    .dataframe thead th {\n        text-align: right;\n    }\n</style>\n<table border=\"1\" class=\"dataframe\">\n  <thead>\n    <tr style=\"text-align: right;\">\n      <th></th>\n      <th>Mutation Effect Label</th>\n      <th>Affected Protein AC</th>\n      <th>Mutation</th>\n      <th>Interaction Participant</th>\n    </tr>\n  </thead>\n  <tbody>\n    <tr>\n      <th>5198</th>\n      <td>0</td>\n      <td>A0A0C4DFT7</td>\n      <td>E24G</td>\n      <td>O43765</td>\n    </tr>\n    <tr>\n      <th>5899</th>\n      <td>0</td>\n      <td>A0A0C4DFT7</td>\n      <td>E24G</td>\n      <td>Q14145</td>\n    </tr>\n    <tr>\n      <th>16621</th>\n      <td>1</td>\n      <td>A0A0C4DFT7</td>\n      <td>E24G</td>\n      <td>O43889</td>\n    </tr>\n    <tr>\n      <th>4503</th>\n      <td>0</td>\n      <td>A0A0C4DFT7</td>\n      <td>R50W</td>\n      <td>O43765</td>\n    </tr>\n    <tr>\n      <th>5905</th>\n      <td>0</td>\n      <td>A0A0C4DFT7</td>\n      <td>R50W</td>\n      <td>Q14145</td>\n    </tr>\n    <tr>\n      <th>...</th>\n      <td>...</td>\n      <td>...</td>\n      <td>...</td>\n      <td>...</td>\n    </tr>\n    <tr>\n      <th>10415</th>\n      <td>1</td>\n      <td>Q9Y5W5</td>\n      <td>I155R</td>\n      <td>O00755</td>\n    </tr>\n    <tr>\n      <th>5583</th>\n      <td>0</td>\n      <td>Q9Y6H1</td>\n      <td>T61I</td>\n      <td>Q8WYQ3</td>\n    </tr>\n    <tr>\n      <th>11466</th>\n      <td>1</td>\n      <td>Q9Y6H1</td>\n      <td>T61I</td>\n      <td>Q8WYQ3</td>\n    </tr>\n    <tr>\n      <th>6921</th>\n      <td>0</td>\n      <td>Q9Y6W8</td>\n      <td>Y180F</td>\n      <td>P27986</td>\n    </tr>\n    <tr>\n      <th>28282</th>\n      <td>1</td>\n      <td>Q9Y6W8</td>\n      <td>Y180F</td>\n      <td>Q9UHD2</td>\n    </tr>\n  </tbody>\n</table>\n<p>3079 rows × 4 columns</p>\n</div>"
     },
     "execution_count": 12,
     "metadata": {},
     "output_type": "execute_result"
    }
   ],
   "source": [
    "ans"
   ],
   "metadata": {
    "collapsed": false,
    "pycharm": {
     "name": "#%%\n"
    }
   }
  },
  {
   "cell_type": "code",
   "execution_count": 13,
   "outputs": [],
   "source": [
    "ans = ans[\n",
    "    ~ans[[\"Affected Protein AC\", \"Mutation\", \"Interaction Participant\"]].duplicated(keep=False)\n",
    "].copy()"
   ],
   "metadata": {
    "collapsed": false,
    "pycharm": {
     "name": "#%%\n"
    }
   }
  },
  {
   "cell_type": "code",
   "execution_count": 14,
   "outputs": [
    {
     "data": {
      "text/plain": "      Mutation Effect Label Affected Protein AC Mutation  \\\n5198                      0          A0A0C4DFT7     E24G   \n5899                      0          A0A0C4DFT7     E24G   \n16621                     1          A0A0C4DFT7     E24G   \n4503                      0          A0A0C4DFT7     R50W   \n5905                      0          A0A0C4DFT7     R50W   \n...                     ...                 ...      ...   \n1200                      0              Q9Y530    D125A   \n2147                      0              Q9Y5W5    I155R   \n10415                     1              Q9Y5W5    I155R   \n6921                      0              Q9Y6W8    Y180F   \n28282                     1              Q9Y6W8    Y180F   \n\n      Interaction Participant  \n5198                   O43765  \n5899                   Q14145  \n16621                  O43889  \n4503                   O43765  \n5905                   Q14145  \n...                       ...  \n1200                   Q53GL7  \n2147                   P41221  \n10415                  O00755  \n6921                   P27986  \n28282                  Q9UHD2  \n\n[2753 rows x 4 columns]",
      "text/html": "<div>\n<style scoped>\n    .dataframe tbody tr th:only-of-type {\n        vertical-align: middle;\n    }\n\n    .dataframe tbody tr th {\n        vertical-align: top;\n    }\n\n    .dataframe thead th {\n        text-align: right;\n    }\n</style>\n<table border=\"1\" class=\"dataframe\">\n  <thead>\n    <tr style=\"text-align: right;\">\n      <th></th>\n      <th>Mutation Effect Label</th>\n      <th>Affected Protein AC</th>\n      <th>Mutation</th>\n      <th>Interaction Participant</th>\n    </tr>\n  </thead>\n  <tbody>\n    <tr>\n      <th>5198</th>\n      <td>0</td>\n      <td>A0A0C4DFT7</td>\n      <td>E24G</td>\n      <td>O43765</td>\n    </tr>\n    <tr>\n      <th>5899</th>\n      <td>0</td>\n      <td>A0A0C4DFT7</td>\n      <td>E24G</td>\n      <td>Q14145</td>\n    </tr>\n    <tr>\n      <th>16621</th>\n      <td>1</td>\n      <td>A0A0C4DFT7</td>\n      <td>E24G</td>\n      <td>O43889</td>\n    </tr>\n    <tr>\n      <th>4503</th>\n      <td>0</td>\n      <td>A0A0C4DFT7</td>\n      <td>R50W</td>\n      <td>O43765</td>\n    </tr>\n    <tr>\n      <th>5905</th>\n      <td>0</td>\n      <td>A0A0C4DFT7</td>\n      <td>R50W</td>\n      <td>Q14145</td>\n    </tr>\n    <tr>\n      <th>...</th>\n      <td>...</td>\n      <td>...</td>\n      <td>...</td>\n      <td>...</td>\n    </tr>\n    <tr>\n      <th>1200</th>\n      <td>0</td>\n      <td>Q9Y530</td>\n      <td>D125A</td>\n      <td>Q53GL7</td>\n    </tr>\n    <tr>\n      <th>2147</th>\n      <td>0</td>\n      <td>Q9Y5W5</td>\n      <td>I155R</td>\n      <td>P41221</td>\n    </tr>\n    <tr>\n      <th>10415</th>\n      <td>1</td>\n      <td>Q9Y5W5</td>\n      <td>I155R</td>\n      <td>O00755</td>\n    </tr>\n    <tr>\n      <th>6921</th>\n      <td>0</td>\n      <td>Q9Y6W8</td>\n      <td>Y180F</td>\n      <td>P27986</td>\n    </tr>\n    <tr>\n      <th>28282</th>\n      <td>1</td>\n      <td>Q9Y6W8</td>\n      <td>Y180F</td>\n      <td>Q9UHD2</td>\n    </tr>\n  </tbody>\n</table>\n<p>2753 rows × 4 columns</p>\n</div>"
     },
     "execution_count": 14,
     "metadata": {},
     "output_type": "execute_result"
    }
   ],
   "source": [
    "ans"
   ],
   "metadata": {
    "collapsed": false,
    "pycharm": {
     "name": "#%%\n"
    }
   }
  },
  {
   "cell_type": "code",
   "execution_count": null,
   "outputs": [],
   "source": [],
   "metadata": {
    "collapsed": false,
    "pycharm": {
     "name": "#%%\n"
    }
   }
  },
  {
   "cell_type": "code",
   "execution_count": 15,
   "outputs": [],
   "source": [
    "ans.to_csv(\"OriginalIntActDifferentEffectDifferentPartner.csv\", index=False)"
   ],
   "metadata": {
    "collapsed": false,
    "pycharm": {
     "name": "#%%\n"
    }
   }
  },
  {
   "cell_type": "code",
   "execution_count": null,
   "outputs": [],
   "source": [],
   "metadata": {
    "collapsed": false,
    "pycharm": {
     "name": "#%%\n"
    }
   }
  },
  {
   "cell_type": "code",
   "execution_count": null,
   "outputs": [],
   "source": [],
   "metadata": {
    "collapsed": false,
    "pycharm": {
     "name": "#%%\n"
    }
   }
  }
 ],
 "metadata": {
  "kernelspec": {
   "display_name": "Python 3",
   "language": "python",
   "name": "python3"
  },
  "language_info": {
   "codemirror_mode": {
    "name": "ipython",
    "version": 2
   },
   "file_extension": ".py",
   "mimetype": "text/x-python",
   "name": "python",
   "nbconvert_exporter": "python",
   "pygments_lexer": "ipython2",
   "version": "2.7.6"
  }
 },
 "nbformat": 4,
 "nbformat_minor": 0
}