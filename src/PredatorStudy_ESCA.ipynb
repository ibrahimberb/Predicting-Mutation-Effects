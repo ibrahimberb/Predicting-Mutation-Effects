{
 "cells": [
  {
   "cell_type": "markdown",
   "id": "b0eea2f9-919a-44d2-970f-da295e7b77c5",
   "metadata": {
    "tags": []
   },
   "source": [
    "# PREDATOR: **PRED**icting the imp**A**ct of cancer somatic mu**T**ations on pr**O**tein-protein inte**R**actions\n"
   ]
  },
  {
   "cell_type": "markdown",
   "id": "0fc1bee2-776f-46dc-9aa7-80e979b941df",
   "metadata": {
    "tags": []
   },
   "source": [
    "## ESCA"
   ]
  },
  {
   "cell_type": "markdown",
   "id": "f412b89c-b553-4606-95fb-d30520f77b97",
   "metadata": {},
   "source": [
    "\n",
    "<b><i class=\"fa fa-folder-o\" area-hidden=\"true\" style=\"color:#1976D2\"> </i>&nbsp; File Location</b><br>\n",
    "<p style=\"background:#F5F5F5; text-indent: 1em;\">\n",
    "<code style=\"background:#F5F5F5; color:#404040; font-weight:bold; font-size:12px\">C:\\Users\\ibrah\\Documents\\GitHub\\Predicting-Mutation-Effects\\src</code>\n",
    "</p>\n",
    "\n",
    "<b><i class=\"far fa-file\" area-hidden=\"true\" style=\"color:#1976D2\"> </i>&nbsp; File Name</b>\n",
    "<p style=\"background:#F5F5F5; text-indent: 1em;\">\n",
    "<code style=\"background:#F5F5F5; color:#404040; font-weight:bold; font-size:12px\">PredatorStudy_ESCA.ipynb</code>\n",
    "</p>\n",
    "\n",
    "<b><i class=\"far fa-calendar-alt\" area-hidden=\"true\" style=\"color:#1976D2\"> </i>&nbsp; Last Edited</b>\n",
    "<p style=\"background:#F5F5F5; text-indent: 1em;\">\n",
    "<code style=\"background:#F5F5F5; color:#404040; font-weight:bold; font-size:12px\">November 2nd, 2021</code>\n",
    "</p>\n"
   ]
  },
  {
   "cell_type": "markdown",
   "id": "8931daec-0e11-43e2-8a68-098571c3cc4e",
   "metadata": {},
   "source": [
    "<div class=\"alert alert-block\" style=\"background-color: #F5F5F5; border: 1px solid; padding: 10px; border-color: #E0E0E0\">\n",
    "    <b><i class=\"fa fa-compass\" aria-hidden=\"true\" style=\"color:#404040\"></i></b>&nbsp; <b style=\"color: #404040\">Purpose </b> <br>\n",
    "<div>\n",
    "    \n",
    "- [x] Apply on Cancer Datasets\n",
    "    > ESCA\n",
    "\n",
    "* Target (Cancer) data: \n",
    "    - *ESCA_Interface.txt*"
   ]
  },
  {
   "cell_type": "code",
   "execution_count": 1,
   "id": "3f602602-ac27-4390-9521-9bcdc73f06ef",
   "metadata": {},
   "outputs": [],
   "source": [
    "# Common imports\n",
    "import pandas as pd\n",
    "import numpy as np\n",
    "import matplotlib.pyplot as plt\n",
    "import seaborn as sns\n",
    "\n",
    "import os\n",
    "import os.path as op\n",
    "import sys\n",
    "import random\n",
    "from pathlib import Path\n",
    "\n",
    "from pprint import pprint\n",
    "from IPython.display import display\n",
    "from tqdm.notebook import tqdm\n",
    "\n",
    "from helpers.helpers_predator.displayers import (\n",
    "    display_label_counts, \n",
    "    display_labels, \n",
    "    visualize_label_counts,\n",
    "    display_data,\n",
    ")\n",
    "\n",
    "from helpers.helpers_predator.visualizers import (\n",
    "    visualize_sampled_train_datasets_label_counts\n",
    ")\n",
    "\n",
    "from helpers.helpers_predator.common import load_predator\n",
    "from helpers.helpers_predator.common import export_data\n",
    "\n",
    "# PATHS\n",
    "ESCA_PATH = Path(r\"../../My-ELASPIC-Web-API/Elaspic_Results/Merged_Results/ESCA_Interface_2021-11-02.txt\")\n",
    "PREDATOR_MODEL_PATH = Path(r\"PredatorModels/PredatorModel_2021-10-24/04f37897/predator.pkl\")\n",
    "PREDICTIONS_DATASETS_FOLDER_PATH = \"../data/predictions_datasets/\"\n",
    "\n",
    "# Reflect changes in the modules immediately.\n",
    "%load_ext autoreload\n",
    "%autoreload 2"
   ]
  },
  {
   "cell_type": "markdown",
   "id": "c47b1edb-758c-460e-acf7-4f864330d19b",
   "metadata": {},
   "source": [
    "## Load the Predator"
   ]
  },
  {
   "cell_type": "code",
   "execution_count": 2,
   "id": "a93bc356-1ba3-49b1-8c33-0e730cc8a313",
   "metadata": {},
   "outputs": [
    {
     "name": "stdout",
     "output_type": "stream",
     "text": [
      "2021-11-02 10:11:16 |\u001b[32m INFO     \u001b[0m| helpers.helpers_predator.common | Predator object PredatorModels\\PredatorModel_2021-10-24\\04f37897\\predator.pkl is loaded successfully.\n"
     ]
    }
   ],
   "source": [
    "predator = load_predator(PREDATOR_MODEL_PATH)"
   ]
  },
  {
   "cell_type": "markdown",
   "id": "60f783e4-28bb-4543-9d35-42c4b17b37b8",
   "metadata": {},
   "source": [
    "## Prediction TCGA on Cancer Dataset: ESCA"
   ]
  },
  {
   "cell_type": "code",
   "execution_count": 3,
   "id": "c27cc976-e356-4271-85e9-f23c9366dc67",
   "metadata": {},
   "outputs": [
    {
     "name": "stdout",
     "output_type": "stream",
     "text": [
      "2021-11-02 10:11:29 |\u001b[36m DEBUG    \u001b[0m| helpers.helpers_predator.data_materials | Initialize `esca` ..\n",
      "2021-11-02 10:11:29 |\u001b[36m DEBUG    \u001b[0m| helpers.helpers_predator.data_materials | Initialize `target_esca_data` ..\n",
      "2021-11-02 10:11:29 |\u001b[36m DEBUG    \u001b[0m| helpers.helpers_predator.data_materials | Initializing target data materials ..\n",
      "2021-11-02 10:11:29 |\u001b[36m DEBUG    \u001b[0m| helpers.helpers_predator.data_materials | Determined features: ['Provean_score', 'EL2_score', 'Final_ddG', 'Interactor_alignment_score', 'Solvent_accessibility_wt', 'Matrix_score', 'Solvent_accessibility_mut', 'van_der_waals_mut', 'Interactor_template_sequence_identity', 'solvation_polar_wt']\n",
      "2021-11-02 10:11:29 |\u001b[36m DEBUG    \u001b[0m| helpers.helpers_predator.data_materials | Declaring Xs_esca data materials  ..\n"
     ]
    }
   ],
   "source": [
    "predator.initialize_target_data_materials(\n",
    "    tcga_code_path_pairs=[('esca', ESCA_PATH)]\n",
    ")"
   ]
  },
  {
   "cell_type": "markdown",
   "id": "245b2b8c-0c70-4cd5-9a09-b3428cf0b048",
   "metadata": {
    "tags": []
   },
   "source": [
    "#### TCGA Cancer Datasets"
   ]
  },
  {
   "cell_type": "markdown",
   "id": "4ab061ec-37b5-4651-a5c0-1f1238e7a08a",
   "metadata": {},
   "source": [
    "##### ESCA"
   ]
  },
  {
   "cell_type": "code",
   "execution_count": 4,
   "id": "342221d3-8e16-42eb-9801-20a3efed64f5",
   "metadata": {},
   "outputs": [
    {
     "name": "stdout",
     "output_type": "stream",
     "text": [
      "\u001b[36mData dimensions: (2435, 103)\u001b[0m\n"
     ]
    },
    {
     "data": {
      "text/html": [
       "<div>\n",
       "<style scoped>\n",
       "    .dataframe tbody tr th:only-of-type {\n",
       "        vertical-align: middle;\n",
       "    }\n",
       "\n",
       "    .dataframe tbody tr th {\n",
       "        vertical-align: top;\n",
       "    }\n",
       "\n",
       "    .dataframe thead th {\n",
       "        text-align: right;\n",
       "    }\n",
       "</style>\n",
       "<table border=\"1\" class=\"dataframe\">\n",
       "  <thead>\n",
       "    <tr style=\"text-align: right;\">\n",
       "      <th></th>\n",
       "      <th>Input_identifier</th>\n",
       "      <th>UniProt_ID</th>\n",
       "      <th>Mutation</th>\n",
       "      <th>Status</th>\n",
       "      <th>Type</th>\n",
       "      <th>COSMIC_mut_ID</th>\n",
       "      <th>ClinVar_mut_ID</th>\n",
       "      <th>UniProt_mut_ID</th>\n",
       "      <th>Domain_name</th>\n",
       "      <th>Domain_clan</th>\n",
       "      <th>...</th>\n",
       "      <th>number_of_residues_mut</th>\n",
       "      <th>IntraclashesEnergy1_wt</th>\n",
       "      <th>IntraclashesEnergy1_mut</th>\n",
       "      <th>IntraclashesEnergy2_wt</th>\n",
       "      <th>IntraclashesEnergy2_mut</th>\n",
       "      <th>Interface_hydrophobic_area</th>\n",
       "      <th>Interface_hydrophilic_area</th>\n",
       "      <th>Interface_total_area</th>\n",
       "      <th>Interface_contact_distance_wt</th>\n",
       "      <th>Interface_contact_distance_mut</th>\n",
       "    </tr>\n",
       "  </thead>\n",
       "  <tbody>\n",
       "    <tr>\n",
       "      <th>0</th>\n",
       "      <td>P61088</td>\n",
       "      <td>P61088</td>\n",
       "      <td>E61K</td>\n",
       "      <td>done</td>\n",
       "      <td>interface</td>\n",
       "      <td>-</td>\n",
       "      <td>-</td>\n",
       "      <td>-</td>\n",
       "      <td>UQ_con</td>\n",
       "      <td>UQ_con</td>\n",
       "      <td>...</td>\n",
       "      <td>254.0</td>\n",
       "      <td>33.4527</td>\n",
       "      <td>33.4511</td>\n",
       "      <td>40.0177</td>\n",
       "      <td>40.0114</td>\n",
       "      <td>319.225</td>\n",
       "      <td>201.86</td>\n",
       "      <td>521.085</td>\n",
       "      <td>2.612</td>\n",
       "      <td>4.42118</td>\n",
       "    </tr>\n",
       "    <tr>\n",
       "      <th>1</th>\n",
       "      <td>P61088</td>\n",
       "      <td>P61088</td>\n",
       "      <td>E61K</td>\n",
       "      <td>done</td>\n",
       "      <td>interface</td>\n",
       "      <td>-</td>\n",
       "      <td>-</td>\n",
       "      <td>-</td>\n",
       "      <td>UQ_con</td>\n",
       "      <td>UQ_con</td>\n",
       "      <td>...</td>\n",
       "      <td>254.0</td>\n",
       "      <td>33.4527</td>\n",
       "      <td>33.4511</td>\n",
       "      <td>40.0177</td>\n",
       "      <td>40.0114</td>\n",
       "      <td>319.225</td>\n",
       "      <td>201.86</td>\n",
       "      <td>521.085</td>\n",
       "      <td>2.612</td>\n",
       "      <td>4.42118</td>\n",
       "    </tr>\n",
       "    <tr>\n",
       "      <th>2</th>\n",
       "      <td>P61088</td>\n",
       "      <td>P61088</td>\n",
       "      <td>E61K</td>\n",
       "      <td>done</td>\n",
       "      <td>interface</td>\n",
       "      <td>-</td>\n",
       "      <td>-</td>\n",
       "      <td>-</td>\n",
       "      <td>UQ_con</td>\n",
       "      <td>UQ_con</td>\n",
       "      <td>...</td>\n",
       "      <td>254.0</td>\n",
       "      <td>33.4527</td>\n",
       "      <td>33.4511</td>\n",
       "      <td>40.0177</td>\n",
       "      <td>40.0114</td>\n",
       "      <td>319.225</td>\n",
       "      <td>201.86</td>\n",
       "      <td>521.085</td>\n",
       "      <td>2.612</td>\n",
       "      <td>4.42118</td>\n",
       "    </tr>\n",
       "  </tbody>\n",
       "</table>\n",
       "<p>3 rows × 103 columns</p>\n",
       "</div>"
      ],
      "text/plain": [
       "  Input_identifier UniProt_ID Mutation Status       Type COSMIC_mut_ID  \\\n",
       "0           P61088     P61088     E61K   done  interface             -   \n",
       "1           P61088     P61088     E61K   done  interface             -   \n",
       "2           P61088     P61088     E61K   done  interface             -   \n",
       "\n",
       "  ClinVar_mut_ID UniProt_mut_ID Domain_name Domain_clan  ...  \\\n",
       "0              -              -      UQ_con      UQ_con  ...   \n",
       "1              -              -      UQ_con      UQ_con  ...   \n",
       "2              -              -      UQ_con      UQ_con  ...   \n",
       "\n",
       "  number_of_residues_mut IntraclashesEnergy1_wt  IntraclashesEnergy1_mut  \\\n",
       "0                  254.0                33.4527                  33.4511   \n",
       "1                  254.0                33.4527                  33.4511   \n",
       "2                  254.0                33.4527                  33.4511   \n",
       "\n",
       "   IntraclashesEnergy2_wt IntraclashesEnergy2_mut Interface_hydrophobic_area  \\\n",
       "0                 40.0177                 40.0114                    319.225   \n",
       "1                 40.0177                 40.0114                    319.225   \n",
       "2                 40.0177                 40.0114                    319.225   \n",
       "\n",
       "  Interface_hydrophilic_area Interface_total_area  \\\n",
       "0                     201.86              521.085   \n",
       "1                     201.86              521.085   \n",
       "2                     201.86              521.085   \n",
       "\n",
       "  Interface_contact_distance_wt  Interface_contact_distance_mut  \n",
       "0                         2.612                         4.42118  \n",
       "1                         2.612                         4.42118  \n",
       "2                         2.612                         4.42118  \n",
       "\n",
       "[3 rows x 103 columns]"
      ]
     },
     "metadata": {},
     "output_type": "display_data"
    }
   ],
   "source": [
    "display_data(predator.data_materials[\"esca\"])"
   ]
  },
  {
   "cell_type": "markdown",
   "id": "a22d630d-e0a0-4417-aa64-0df18f8f3a63",
   "metadata": {
    "tags": []
   },
   "source": [
    "#### Preprocessed TCGA Cancer Datasets"
   ]
  },
  {
   "cell_type": "markdown",
   "id": "ca038a01-2691-4943-9d7e-55a41661f3cc",
   "metadata": {},
   "source": [
    "##### ESCA"
   ]
  },
  {
   "cell_type": "code",
   "execution_count": 5,
   "id": "67f55bd2-c25a-4d6c-ba5b-08957cf03852",
   "metadata": {},
   "outputs": [
    {
     "name": "stdout",
     "output_type": "stream",
     "text": [
      "\u001b[36mData dimensions: (2435, 61)\u001b[0m\n"
     ]
    },
    {
     "data": {
      "text/html": [
       "<div>\n",
       "<style scoped>\n",
       "    .dataframe tbody tr th:only-of-type {\n",
       "        vertical-align: middle;\n",
       "    }\n",
       "\n",
       "    .dataframe tbody tr th {\n",
       "        vertical-align: top;\n",
       "    }\n",
       "\n",
       "    .dataframe thead th {\n",
       "        text-align: right;\n",
       "    }\n",
       "</style>\n",
       "<table border=\"1\" class=\"dataframe\">\n",
       "  <thead>\n",
       "    <tr style=\"text-align: right;\">\n",
       "      <th></th>\n",
       "      <th>UniProt_ID</th>\n",
       "      <th>Mutation</th>\n",
       "      <th>Interactor_UniProt_ID</th>\n",
       "      <th>Template_sequence_identity</th>\n",
       "      <th>Alignment_score</th>\n",
       "      <th>Interactor_template_sequence_identity</th>\n",
       "      <th>Interactor_alignment_score</th>\n",
       "      <th>Final_ddG</th>\n",
       "      <th>ProtBert_score</th>\n",
       "      <th>ProteinSolver_score</th>\n",
       "      <th>...</th>\n",
       "      <th>number_of_residues_mut</th>\n",
       "      <th>IntraclashesEnergy1_wt</th>\n",
       "      <th>IntraclashesEnergy1_mut</th>\n",
       "      <th>IntraclashesEnergy2_wt</th>\n",
       "      <th>IntraclashesEnergy2_mut</th>\n",
       "      <th>Interface_hydrophobic_area</th>\n",
       "      <th>Interface_hydrophilic_area</th>\n",
       "      <th>Interface_total_area</th>\n",
       "      <th>Interface_contact_distance_wt</th>\n",
       "      <th>Interface_contact_distance_mut</th>\n",
       "    </tr>\n",
       "  </thead>\n",
       "  <tbody>\n",
       "    <tr>\n",
       "      <th>0</th>\n",
       "      <td>P61088</td>\n",
       "      <td>E61K</td>\n",
       "      <td>P38398</td>\n",
       "      <td>1.0</td>\n",
       "      <td>0.973684</td>\n",
       "      <td>0.3913</td>\n",
       "      <td>0.188348</td>\n",
       "      <td>0.828693</td>\n",
       "      <td>0.5699</td>\n",
       "      <td>0.06335</td>\n",
       "      <td>...</td>\n",
       "      <td>254.0</td>\n",
       "      <td>33.4527</td>\n",
       "      <td>33.4511</td>\n",
       "      <td>40.0177</td>\n",
       "      <td>40.0114</td>\n",
       "      <td>319.225</td>\n",
       "      <td>201.86</td>\n",
       "      <td>521.085</td>\n",
       "      <td>2.612</td>\n",
       "      <td>4.42118</td>\n",
       "    </tr>\n",
       "    <tr>\n",
       "      <th>1</th>\n",
       "      <td>P61088</td>\n",
       "      <td>E61K</td>\n",
       "      <td>P38398-3</td>\n",
       "      <td>1.0</td>\n",
       "      <td>0.973684</td>\n",
       "      <td>0.3913</td>\n",
       "      <td>0.188348</td>\n",
       "      <td>0.828693</td>\n",
       "      <td>0.5699</td>\n",
       "      <td>0.06335</td>\n",
       "      <td>...</td>\n",
       "      <td>254.0</td>\n",
       "      <td>33.4527</td>\n",
       "      <td>33.4511</td>\n",
       "      <td>40.0177</td>\n",
       "      <td>40.0114</td>\n",
       "      <td>319.225</td>\n",
       "      <td>201.86</td>\n",
       "      <td>521.085</td>\n",
       "      <td>2.612</td>\n",
       "      <td>4.42118</td>\n",
       "    </tr>\n",
       "    <tr>\n",
       "      <th>2</th>\n",
       "      <td>P61088</td>\n",
       "      <td>E61K</td>\n",
       "      <td>P38398-5</td>\n",
       "      <td>1.0</td>\n",
       "      <td>0.973684</td>\n",
       "      <td>0.3913</td>\n",
       "      <td>0.188348</td>\n",
       "      <td>0.828693</td>\n",
       "      <td>0.5699</td>\n",
       "      <td>0.06335</td>\n",
       "      <td>...</td>\n",
       "      <td>254.0</td>\n",
       "      <td>33.4527</td>\n",
       "      <td>33.4511</td>\n",
       "      <td>40.0177</td>\n",
       "      <td>40.0114</td>\n",
       "      <td>319.225</td>\n",
       "      <td>201.86</td>\n",
       "      <td>521.085</td>\n",
       "      <td>2.612</td>\n",
       "      <td>4.42118</td>\n",
       "    </tr>\n",
       "  </tbody>\n",
       "</table>\n",
       "<p>3 rows × 61 columns</p>\n",
       "</div>"
      ],
      "text/plain": [
       "  UniProt_ID Mutation Interactor_UniProt_ID  Template_sequence_identity  \\\n",
       "0     P61088     E61K                P38398                         1.0   \n",
       "1     P61088     E61K              P38398-3                         1.0   \n",
       "2     P61088     E61K              P38398-5                         1.0   \n",
       "\n",
       "   Alignment_score  Interactor_template_sequence_identity  \\\n",
       "0         0.973684                                 0.3913   \n",
       "1         0.973684                                 0.3913   \n",
       "2         0.973684                                 0.3913   \n",
       "\n",
       "   Interactor_alignment_score  Final_ddG  ProtBert_score  ProteinSolver_score  \\\n",
       "0                    0.188348   0.828693          0.5699              0.06335   \n",
       "1                    0.188348   0.828693          0.5699              0.06335   \n",
       "2                    0.188348   0.828693          0.5699              0.06335   \n",
       "\n",
       "   ...  number_of_residues_mut  IntraclashesEnergy1_wt  \\\n",
       "0  ...                   254.0                 33.4527   \n",
       "1  ...                   254.0                 33.4527   \n",
       "2  ...                   254.0                 33.4527   \n",
       "\n",
       "   IntraclashesEnergy1_mut  IntraclashesEnergy2_wt  IntraclashesEnergy2_mut  \\\n",
       "0                  33.4511                 40.0177                  40.0114   \n",
       "1                  33.4511                 40.0177                  40.0114   \n",
       "2                  33.4511                 40.0177                  40.0114   \n",
       "\n",
       "   Interface_hydrophobic_area  Interface_hydrophilic_area  \\\n",
       "0                     319.225                      201.86   \n",
       "1                     319.225                      201.86   \n",
       "2                     319.225                      201.86   \n",
       "\n",
       "   Interface_total_area  Interface_contact_distance_wt  \\\n",
       "0               521.085                          2.612   \n",
       "1               521.085                          2.612   \n",
       "2               521.085                          2.612   \n",
       "\n",
       "   Interface_contact_distance_mut  \n",
       "0                         4.42118  \n",
       "1                         4.42118  \n",
       "2                         4.42118  \n",
       "\n",
       "[3 rows x 61 columns]"
      ]
     },
     "metadata": {},
     "output_type": "display_data"
    }
   ],
   "source": [
    "display_data(predator.data_materials[\"target_esca_data\"])"
   ]
  },
  {
   "cell_type": "markdown",
   "id": "76d7a628-93f0-4d78-a936-bed2a7316948",
   "metadata": {
    "tags": []
   },
   "source": [
    "### Voting mode: `hard`"
   ]
  },
  {
   "cell_type": "code",
   "execution_count": 6,
   "id": "e0887101-63bb-4f7b-8166-c58fd44ca24b",
   "metadata": {
    "scrolled": true,
    "tags": []
   },
   "outputs": [
    {
     "name": "stdout",
     "output_type": "stream",
     "text": [
      "2021-11-02 10:11:55 |\u001b[36m DEBUG    \u001b[0m| Predator | Predicting on cancer datasets ..\n",
      "2021-11-02 10:11:55 |\u001b[36m DEBUG    \u001b[0m| helpers.helpers_predator.models | Initializing EnsambledVotingClassifier.\n",
      "2021-11-02 10:11:55 |\u001b[36m DEBUG    \u001b[0m| helpers.helpers_predator.models | Voting mode: hard\n",
      "2021-11-02 10:11:55 |\u001b[36m DEBUG    \u001b[0m| helpers.helpers_predator.predictions | Initializing: PredictionsHard\n",
      "2021-11-02 10:11:55 |\u001b[36m DEBUG    \u001b[0m| Predator | Predicting on esca cohort ..\n",
      "2021-11-02 10:11:56 |\u001b[36m DEBUG    \u001b[0m| helpers.helpers_predator.models | Current estimator: RandomForestClassifier(bootstrap=False, class_weight='balanced', max_depth=4,\n",
      "                       max_features='sqrt', n_estimators=600,\n",
      "                       random_state=14593)\n",
      "2021-11-02 10:11:56 |\u001b[36m DEBUG    \u001b[0m| helpers.helpers_predator.models | X shape: (2435, 10)\n",
      "2021-11-02 10:11:56 |\u001b[36m DEBUG    \u001b[0m| helpers.helpers_predator.models | Current estimator: RandomForestClassifier(bootstrap=False, max_depth=8, max_features=None,\n",
      "                       min_samples_leaf=2, n_estimators=480, random_state=3279)\n",
      "2021-11-02 10:11:56 |\u001b[36m DEBUG    \u001b[0m| helpers.helpers_predator.models | X shape: (2435, 10)\n",
      "2021-11-02 10:11:56 |\u001b[36m DEBUG    \u001b[0m| helpers.helpers_predator.models | Current estimator: RandomForestClassifier(class_weight='balanced', max_depth=11,\n",
      "                       min_samples_split=5, n_estimators=120,\n",
      "                       random_state=36049)\n",
      "2021-11-02 10:11:56 |\u001b[36m DEBUG    \u001b[0m| helpers.helpers_predator.models | X shape: (2435, 10)\n",
      "2021-11-02 10:11:56 |\u001b[36m DEBUG    \u001b[0m| helpers.helpers_predator.models | Current estimator: RandomForestClassifier(class_weight='balanced', max_depth=3,\n",
      "                       max_features='sqrt', min_samples_leaf=4, n_estimators=40,\n",
      "                       random_state=18290)\n",
      "2021-11-02 10:11:56 |\u001b[36m DEBUG    \u001b[0m| helpers.helpers_predator.models | X shape: (2435, 10)\n",
      "2021-11-02 10:11:56 |\u001b[36m DEBUG    \u001b[0m| helpers.helpers_predator.models | Current estimator: RandomForestClassifier(bootstrap=False, max_depth=11, max_features='sqrt',\n",
      "                       min_samples_split=5, n_estimators=460,\n",
      "                       random_state=96531)\n",
      "2021-11-02 10:11:56 |\u001b[36m DEBUG    \u001b[0m| helpers.helpers_predator.models | X shape: (2435, 10)\n",
      "2021-11-02 10:11:56 |\u001b[36m DEBUG    \u001b[0m| helpers.helpers_predator.models | Current estimator: RandomForestClassifier(class_weight='balanced', max_depth=12,\n",
      "                       min_samples_leaf=4, min_samples_split=5, n_estimators=80,\n",
      "                       random_state=13435)\n",
      "2021-11-02 10:11:56 |\u001b[36m DEBUG    \u001b[0m| helpers.helpers_predator.models | X shape: (2435, 10)\n",
      "2021-11-02 10:11:56 |\u001b[36m DEBUG    \u001b[0m| helpers.helpers_predator.models | Current estimator: RandomForestClassifier(class_weight='balanced', max_depth=2,\n",
      "                       min_samples_split=5, n_estimators=500,\n",
      "                       random_state=88697)\n",
      "2021-11-02 10:11:56 |\u001b[36m DEBUG    \u001b[0m| helpers.helpers_predator.models | X shape: (2435, 10)\n",
      "2021-11-02 10:11:56 |\u001b[36m DEBUG    \u001b[0m| helpers.helpers_predator.models | Current estimator: RandomForestClassifier(bootstrap=False, class_weight='balanced', max_depth=7,\n",
      "                       max_features='sqrt', min_samples_leaf=2,\n",
      "                       min_samples_split=5, n_estimators=280,\n",
      "                       random_state=97081)\n",
      "2021-11-02 10:11:56 |\u001b[36m DEBUG    \u001b[0m| helpers.helpers_predator.models | X shape: (2435, 10)\n",
      "2021-11-02 10:11:56 |\u001b[36m DEBUG    \u001b[0m| helpers.helpers_predator.models | Current estimator: RandomForestClassifier(bootstrap=False, max_depth=3, max_features='sqrt',\n",
      "                       min_samples_leaf=2, n_estimators=60, random_state=71483)\n",
      "2021-11-02 10:11:56 |\u001b[36m DEBUG    \u001b[0m| helpers.helpers_predator.models | X shape: (2435, 10)\n",
      "2021-11-02 10:11:56 |\u001b[36m DEBUG    \u001b[0m| helpers.helpers_predator.models | Current estimator: RandomForestClassifier(class_weight='balanced', max_depth=2,\n",
      "                       max_features='sqrt', min_samples_leaf=4,\n",
      "                       n_estimators=440, random_state=11396)\n",
      "2021-11-02 10:11:56 |\u001b[36m DEBUG    \u001b[0m| helpers.helpers_predator.models | X shape: (2435, 10)\n",
      "2021-11-02 10:11:56 |\u001b[36m DEBUG    \u001b[0m| helpers.helpers_predator.models | Current estimator: RandomForestClassifier(bootstrap=False, max_depth=6, min_samples_leaf=2,\n",
      "                       min_samples_split=5, n_estimators=80,\n",
      "                       random_state=77398)\n",
      "2021-11-02 10:11:56 |\u001b[36m DEBUG    \u001b[0m| helpers.helpers_predator.models | X shape: (2435, 10)\n",
      "2021-11-02 10:11:57 |\u001b[36m DEBUG    \u001b[0m| helpers.helpers_predator.models | Current estimator: RandomForestClassifier(max_depth=8, max_features='sqrt', min_samples_split=5,\n",
      "                       n_estimators=20, random_state=55303)\n",
      "2021-11-02 10:11:57 |\u001b[36m DEBUG    \u001b[0m| helpers.helpers_predator.models | X shape: (2435, 10)\n",
      "2021-11-02 10:11:57 |\u001b[36m DEBUG    \u001b[0m| helpers.helpers_predator.models | Current estimator: RandomForestClassifier(class_weight='balanced', max_depth=4,\n",
      "                       min_samples_split=5, random_state=4166)\n",
      "2021-11-02 10:11:57 |\u001b[36m DEBUG    \u001b[0m| helpers.helpers_predator.models | X shape: (2435, 10)\n",
      "2021-11-02 10:11:57 |\u001b[36m DEBUG    \u001b[0m| helpers.helpers_predator.models | Current estimator: RandomForestClassifier(bootstrap=False, max_depth=13, max_features='sqrt',\n",
      "                       min_samples_split=5, n_estimators=380,\n",
      "                       random_state=12281)\n",
      "2021-11-02 10:11:57 |\u001b[36m DEBUG    \u001b[0m| helpers.helpers_predator.models | X shape: (2435, 10)\n",
      "2021-11-02 10:11:57 |\u001b[36m DEBUG    \u001b[0m| helpers.helpers_predator.models | Current estimator: RandomForestClassifier(bootstrap=False, class_weight='balanced', max_depth=4,\n",
      "                       max_features='sqrt', n_estimators=10,\n",
      "                       random_state=28658)\n",
      "2021-11-02 10:11:57 |\u001b[36m DEBUG    \u001b[0m| helpers.helpers_predator.models | X shape: (2435, 10)\n",
      "2021-11-02 10:11:57 |\u001b[36m DEBUG    \u001b[0m| helpers.helpers_predator.models | Current estimator: RandomForestClassifier(class_weight='balanced', max_depth=3, min_samples_leaf=2,\n",
      "                       n_estimators=30, random_state=30496)\n",
      "2021-11-02 10:11:57 |\u001b[36m DEBUG    \u001b[0m| helpers.helpers_predator.models | X shape: (2435, 10)\n",
      "2021-11-02 10:11:57 |\u001b[36m DEBUG    \u001b[0m| helpers.helpers_predator.models | Current estimator: RandomForestClassifier(class_weight='balanced', max_depth=11,\n",
      "                       min_samples_leaf=4, n_estimators=120,\n",
      "                       random_state=66238)\n",
      "2021-11-02 10:11:57 |\u001b[36m DEBUG    \u001b[0m| helpers.helpers_predator.models | X shape: (2435, 10)\n",
      "2021-11-02 10:11:57 |\u001b[36m DEBUG    \u001b[0m| helpers.helpers_predator.models | Current estimator: RandomForestClassifier(class_weight='balanced', max_depth=2,\n",
      "                       max_features='sqrt', n_estimators=340,\n",
      "                       random_state=3479)\n",
      "2021-11-02 10:11:57 |\u001b[36m DEBUG    \u001b[0m| helpers.helpers_predator.models | X shape: (2435, 10)\n",
      "2021-11-02 10:11:57 |\u001b[36m DEBUG    \u001b[0m| helpers.helpers_predator.models | Current estimator: RandomForestClassifier(class_weight='balanced', max_depth=3,\n",
      "                       max_features='sqrt', min_samples_leaf=4,\n",
      "                       n_estimators=480, random_state=26063)\n",
      "2021-11-02 10:11:57 |\u001b[36m DEBUG    \u001b[0m| helpers.helpers_predator.models | X shape: (2435, 10)\n",
      "2021-11-02 10:11:57 |\u001b[36m DEBUG    \u001b[0m| helpers.helpers_predator.models | Current estimator: RandomForestClassifier(class_weight='balanced', max_depth=3, min_samples_leaf=2,\n",
      "                       n_estimators=560, random_state=85182)\n",
      "2021-11-02 10:11:57 |\u001b[36m DEBUG    \u001b[0m| helpers.helpers_predator.models | X shape: (2435, 10)\n",
      "2021-11-02 10:11:57 |\u001b[36m DEBUG    \u001b[0m| helpers.helpers_predator.models | Current estimator: RandomForestClassifier(class_weight='balanced', max_depth=13,\n",
      "                       min_samples_leaf=4, min_samples_split=5, n_estimators=40,\n",
      "                       random_state=91925)\n",
      "2021-11-02 10:11:57 |\u001b[36m DEBUG    \u001b[0m| helpers.helpers_predator.models | X shape: (2435, 10)\n",
      "2021-11-02 10:11:57 |\u001b[36m DEBUG    \u001b[0m| helpers.helpers_predator.models | Current estimator: RandomForestClassifier(class_weight='balanced', max_depth=2, min_samples_leaf=4,\n",
      "                       min_samples_split=5, n_estimators=280,\n",
      "                       random_state=54988)\n",
      "2021-11-02 10:11:57 |\u001b[36m DEBUG    \u001b[0m| helpers.helpers_predator.models | X shape: (2435, 10)\n",
      "2021-11-02 10:11:57 |\u001b[36m DEBUG    \u001b[0m| helpers.helpers_predator.models | Current estimator: RandomForestClassifier(class_weight='balanced', max_depth=11,\n",
      "                       max_features='sqrt', min_samples_leaf=2,\n",
      "                       min_samples_split=5, n_estimators=360,\n",
      "                       random_state=58879)\n",
      "2021-11-02 10:11:57 |\u001b[36m DEBUG    \u001b[0m| helpers.helpers_predator.models | X shape: (2435, 10)\n",
      "2021-11-02 10:11:57 |\u001b[36m DEBUG    \u001b[0m| helpers.helpers_predator.models | Current estimator: RandomForestClassifier(max_depth=7, n_estimators=20, random_state=77237)\n",
      "2021-11-02 10:11:57 |\u001b[36m DEBUG    \u001b[0m| helpers.helpers_predator.models | X shape: (2435, 10)\n",
      "2021-11-02 10:11:57 |\u001b[36m DEBUG    \u001b[0m| helpers.helpers_predator.models | Current estimator: RandomForestClassifier(bootstrap=False, max_depth=14, min_samples_leaf=4,\n",
      "                       min_samples_split=5, n_estimators=20, random_state=852)\n",
      "2021-11-02 10:11:57 |\u001b[36m DEBUG    \u001b[0m| helpers.helpers_predator.models | X shape: (2435, 10)\n",
      "2021-11-02 10:11:57 |\u001b[36m DEBUG    \u001b[0m| helpers.helpers_predator.models | Current estimator: RandomForestClassifier(class_weight='balanced', max_depth=8,\n",
      "                       max_features='sqrt', min_samples_leaf=4,\n",
      "                       min_samples_split=5, n_estimators=520,\n",
      "                       random_state=99459)\n",
      "2021-11-02 10:11:57 |\u001b[36m DEBUG    \u001b[0m| helpers.helpers_predator.models | X shape: (2435, 10)\n",
      "2021-11-02 10:11:57 |\u001b[36m DEBUG    \u001b[0m| helpers.helpers_predator.models | Current estimator: RandomForestClassifier(class_weight='balanced', max_depth=6, min_samples_leaf=4,\n",
      "                       min_samples_split=5, n_estimators=260,\n",
      "                       random_state=20927)\n",
      "2021-11-02 10:11:57 |\u001b[36m DEBUG    \u001b[0m| helpers.helpers_predator.models | X shape: (2435, 10)\n",
      "2021-11-02 10:11:58 |\u001b[36m DEBUG    \u001b[0m| helpers.helpers_predator.models | Current estimator: RandomForestClassifier(max_depth=9, min_samples_leaf=4, n_estimators=580,\n",
      "                       random_state=55393)\n",
      "2021-11-02 10:11:58 |\u001b[36m DEBUG    \u001b[0m| helpers.helpers_predator.models | X shape: (2435, 10)\n",
      "2021-11-02 10:11:58 |\u001b[36m DEBUG    \u001b[0m| helpers.helpers_predator.models | Current estimator: RandomForestClassifier(bootstrap=False, class_weight='balanced', max_depth=7,\n",
      "                       min_samples_split=5, n_estimators=140,\n",
      "                       random_state=36422)\n",
      "2021-11-02 10:11:58 |\u001b[36m DEBUG    \u001b[0m| helpers.helpers_predator.models | X shape: (2435, 10)\n",
      "2021-11-02 10:11:58 |\u001b[36m DEBUG    \u001b[0m| helpers.helpers_predator.models | Current estimator: RandomForestClassifier(bootstrap=False, max_depth=11, n_estimators=540,\n",
      "                       random_state=20380)\n",
      "2021-11-02 10:11:58 |\u001b[36m DEBUG    \u001b[0m| helpers.helpers_predator.models | X shape: (2435, 10)\n",
      "2021-11-02 10:11:58 |\u001b[36m DEBUG    \u001b[0m| helpers.helpers_predator.models | Current estimator: RandomForestClassifier(class_weight='balanced', max_depth=8, min_samples_leaf=2,\n",
      "                       n_estimators=5, random_state=28222)\n",
      "2021-11-02 10:11:58 |\u001b[36m DEBUG    \u001b[0m| helpers.helpers_predator.models | X shape: (2435, 10)\n",
      "2021-11-02 10:11:58 |\u001b[36m DEBUG    \u001b[0m| helpers.helpers_predator.models | Current estimator: RandomForestClassifier(class_weight='balanced', max_depth=6,\n",
      "                       min_samples_split=5, n_estimators=560,\n",
      "                       random_state=44119)\n",
      "2021-11-02 10:11:58 |\u001b[36m DEBUG    \u001b[0m| helpers.helpers_predator.models | X shape: (2435, 10)\n",
      "2021-11-02 10:11:58 |\u001b[36m DEBUG    \u001b[0m| helpers.helpers_predator.models | Current estimator: RandomForestClassifier(class_weight='balanced', max_depth=10,\n",
      "                       max_features='sqrt', min_samples_leaf=4,\n",
      "                       n_estimators=320, random_state=13397)\n",
      "2021-11-02 10:11:58 |\u001b[36m DEBUG    \u001b[0m| helpers.helpers_predator.models | X shape: (2435, 10)\n",
      "2021-11-02 10:11:58 |\u001b[36m DEBUG    \u001b[0m| helpers.helpers_predator.models | Current estimator: RandomForestClassifier(class_weight='balanced', max_depth=3,\n",
      "                       max_features='sqrt', min_samples_split=5,\n",
      "                       n_estimators=120, random_state=12157)\n",
      "2021-11-02 10:11:58 |\u001b[36m DEBUG    \u001b[0m| helpers.helpers_predator.models | X shape: (2435, 10)\n",
      "2021-11-02 10:11:58 |\u001b[36m DEBUG    \u001b[0m| helpers.helpers_predator.models | Current estimator: RandomForestClassifier(bootstrap=False, class_weight='balanced', max_depth=2,\n",
      "                       min_samples_split=5, n_estimators=360,\n",
      "                       random_state=49798)\n",
      "2021-11-02 10:11:58 |\u001b[36m DEBUG    \u001b[0m| helpers.helpers_predator.models | X shape: (2435, 10)\n",
      "2021-11-02 10:11:58 |\u001b[36m DEBUG    \u001b[0m| helpers.helpers_predator.models | Current estimator: RandomForestClassifier(bootstrap=False, class_weight='balanced', max_depth=2,\n",
      "                       min_samples_leaf=2, min_samples_split=5, n_estimators=40,\n",
      "                       random_state=12677)\n",
      "2021-11-02 10:11:58 |\u001b[36m DEBUG    \u001b[0m| helpers.helpers_predator.models | X shape: (2435, 10)\n",
      "2021-11-02 10:11:58 |\u001b[36m DEBUG    \u001b[0m| helpers.helpers_predator.models | Current estimator: RandomForestClassifier(bootstrap=False, class_weight='balanced', max_depth=5,\n",
      "                       min_samples_leaf=4, min_samples_split=5,\n",
      "                       n_estimators=120, random_state=47053)\n",
      "2021-11-02 10:11:58 |\u001b[36m DEBUG    \u001b[0m| helpers.helpers_predator.models | X shape: (2435, 10)\n",
      "2021-11-02 10:11:58 |\u001b[36m DEBUG    \u001b[0m| helpers.helpers_predator.predictions | PredictionsHard\n",
      "2021-11-02 10:11:58 |\u001b[36m DEBUG    \u001b[0m| helpers.helpers_predator.predictions | Predicting on esca cohort ..\n",
      "2021-11-02 10:11:58 |\u001b[36m DEBUG    \u001b[0m| helpers.helpers_predator.predictions | Adding key `esca` to self.predictions\n"
     ]
    }
   ],
   "source": [
    "predator.predict(voting='hard')"
   ]
  },
  {
   "cell_type": "code",
   "execution_count": 7,
   "id": "575746f0-47ad-4823-868a-c50d34abcd64",
   "metadata": {},
   "outputs": [
    {
     "data": {
      "text/plain": [
       "[array([1, 1, 1, ..., 1, 1, 1], dtype=int64),\n",
       " array([0, 0, 0, ..., 0, 1, 1], dtype=int64),\n",
       " array([1, 1, 1, ..., 0, 1, 1], dtype=int64)]"
      ]
     },
     "execution_count": 7,
     "metadata": {},
     "output_type": "execute_result"
    }
   ],
   "source": [
    "# Predictions for first 10 experiment.\n",
    "predator.predictions[\"esca\"][:3]"
   ]
  },
  {
   "cell_type": "code",
   "execution_count": 8,
   "id": "f8ebc4ec-288a-425d-9666-e76477da03e1",
   "metadata": {},
   "outputs": [
    {
     "name": "stdout",
     "output_type": "stream",
     "text": [
      "2021-11-02 10:12:24 |\u001b[36m DEBUG    \u001b[0m| helpers.helpers_predator.predictions | Initializing value counts ..\n"
     ]
    },
    {
     "data": {
      "image/png": "[encoded data removed]",
      "text/plain": [
       "<Figure size 1080x360 with 1 Axes>"
      ]
     },
     "metadata": {},
     "output_type": "display_data"
    }
   ],
   "source": [
    "predator.predictions.plot_predictions_distributions(\"esca\")"
   ]
  },
  {
   "cell_type": "markdown",
   "id": "c7e6a31c-112e-4326-9695-170f0d351686",
   "metadata": {},
   "source": [
    "#### Predictions Post Processing"
   ]
  },
  {
   "cell_type": "markdown",
   "id": "1154368b-92d9-4f38-bb7a-e8df24832d26",
   "metadata": {},
   "source": [
    "Post processing of predictions involves following steps:"
   ]
  },
  {
   "cell_type": "markdown",
   "id": "1087d5dd-55a0-4f50-9f28-6205d8fd7f86",
   "metadata": {},
   "source": [
    "##### 1. Merging Predictions with SNV Data"
   ]
  },
  {
   "cell_type": "markdown",
   "id": "897fbfad-2af1-47c4-91b2-278910ebe11a",
   "metadata": {},
   "source": [
    "The prediction column is merged with SNV data for each experiment.\n",
    "\n",
    "$\\text{For each experiment } n: $\n",
    "\n",
    "$$\n",
    "  \\textit{(Prediction Merged Data)}_n = \\underbrace{[\\textit{Predictions}_n]}_\\text{0, 1 or \"NoVote\"} + \n",
    "      \\underbrace{[\\textit{Protein }] [\\textit{Mutation }] [\\textit{Interactor }]}_\\text{Cancer Data Triplets} + \\underbrace{[\\textit{Features }] }_\\text{Elaspic}\n",
    "$$\n"
   ]
  },
  {
   "cell_type": "markdown",
   "id": "250b052e-bafa-4f57-92f0-907700feac18",
   "metadata": {
    "tags": []
   },
   "source": [
    "##### 2. Convert to 1-isomer: `Interactor_UniProt_ID`"
   ]
  },
  {
   "cell_type": "markdown",
   "id": "886a6ad1-d8ff-4e01-be6e-d4accc48af84",
   "metadata": {},
   "source": [
    "$\\textit{Interactor_UniProt_ID}$ column contains isomer proteins. Here, we convert them into primary isoform representation (i.e. without dashes)."
   ]
  },
  {
   "cell_type": "markdown",
   "id": "d6454a4c-7d65-4a6d-b13c-81109332a588",
   "metadata": {},
   "source": [
    "| Interactor_UniProt_ID |\n",
    "--------------\n",
    "| P38936     |\n",
    "| P16473     |\n",
    "| P16473-2   |\n",
    "| P19793     |"
   ]
  },
  {
   "cell_type": "markdown",
   "id": "6dbc27ff-9cf6-48f8-81a5-a189354632d7",
   "metadata": {},
   "source": [
    "##### 3. Dropping Invalid Predictions"
   ]
  },
  {
   "cell_type": "markdown",
   "id": "e8cd9d26-1d3d-4ca7-a861-66e39d64d39a",
   "metadata": {},
   "source": [
    "Entries which predicted as both `Decreasing` and `Increasing+NoEff` are dropped."
   ]
  },
  {
   "cell_type": "markdown",
   "id": "534ad651-bd88-4f53-9eeb-4c107596e129",
   "metadata": {},
   "source": [
    "Due to having different features for the same $\\textit{(protein, mutation, interactor)}$ triplet from ELASPIC, the triplet $\\textit{(protein, mutation, interactor)}$ may be classified both 0 and 1. We drop such instances."
   ]
  },
  {
   "cell_type": "code",
   "execution_count": 9,
   "id": "23602ccf-41ff-4dc7-afec-39b9959b4588",
   "metadata": {
    "scrolled": true,
    "tags": []
   },
   "outputs": [
    {
     "name": "stdout",
     "output_type": "stream",
     "text": [
      "2021-11-02 10:12:32 |\u001b[36m DEBUG    \u001b[0m| helpers.helpers_predator.predictions | PredictionsHard\n",
      "2021-11-02 10:12:32 |\u001b[36m DEBUG    \u001b[0m| helpers.helpers_predator.predictions | Post processing predictions for cohort esca ..\n",
      "2021-11-02 10:12:32 |\u001b[36m DEBUG    \u001b[0m| helpers.helpers_predator.predictions | Merging predictions with esca cancer dataset ..\n",
      "2021-11-02 10:12:32 |\u001b[36m DEBUG    \u001b[0m| helpers.helpers_predator.predictions | Handling valid and invalid entries ..\n"
     ]
    },
    {
     "data": {
      "application/vnd.jupyter.widget-view+json": {
       "model_id": "d740acd300bf4153b4ae60d0cbd24896",
       "version_major": 2,
       "version_minor": 0
      },
      "text/plain": [
       "  0%|          | 0/37 [00:00<?, ?it/s]"
      ]
     },
     "metadata": {},
     "output_type": "display_data"
    },
    {
     "name": "stdout",
     "output_type": "stream",
     "text": [
      "2021-11-02 10:12:37 |\u001b[36m DEBUG    \u001b[0m| helpers.helpers_predator.predictions_utils | Removed entries first five rows (of 367): \n",
      "   PREDICTION PROTEIN MUTATION INTERACTOR\n",
      "0           1  P61088     E61K     O95628\n",
      "1           0  P61088     E61K     O95628\n",
      "2           0  P61088     E61K     O95628\n",
      "3           0  P61088     E61K     O95628\n",
      "4           0  P61088     E61K     O95628\n",
      "2021-11-02 10:12:41 |\u001b[36m DEBUG    \u001b[0m| helpers.helpers_predator.predictions_utils | Removed entries first five rows (of 335): \n",
      "   PREDICTION PROTEIN MUTATION INTERACTOR\n",
      "0           1  P61088     E61K     Q96PU5\n",
      "1           0  P61088     E61K     Q96PU5\n",
      "2           0  P61088     E61K     Q96PU5\n",
      "3           0  P61088     E61K     Q96PU5\n",
      "4           0  P61088     E61K     Q96PU5\n",
      "2021-11-02 10:12:46 |\u001b[36m DEBUG    \u001b[0m| helpers.helpers_predator.predictions_utils | Removed entries first five rows (of 307): \n",
      "   PREDICTION PROTEIN MUTATION INTERACTOR\n",
      "0           1  P61088     E61K     O95628\n",
      "1           1  P61088     E61K     O95628\n",
      "2           1  P61088     E61K     O95628\n",
      "3           0  P61088     E61K     O95628\n",
      "4           1  P61088     E61K     O95628\n",
      "2021-11-02 10:12:50 |\u001b[36m DEBUG    \u001b[0m| helpers.helpers_predator.predictions_utils | Removed entries first five rows (of 298): \n",
      "   PREDICTION PROTEIN MUTATION INTERACTOR\n",
      "0           1  P61088     E61K     O95628\n",
      "1           1  P61088     E61K     O95628\n",
      "2           1  P61088     E61K     O95628\n",
      "3           0  P61088     E61K     O95628\n",
      "4           1  P61088     E61K     O95628\n",
      "2021-11-02 10:12:55 |\u001b[36m DEBUG    \u001b[0m| helpers.helpers_predator.predictions_utils | Removed entries first five rows (of 388): \n",
      "   PREDICTION PROTEIN MUTATION INTERACTOR\n",
      "0           1  P61088     E61K     Q96PU5\n",
      "1           1  P61088     E61K     Q96PU5\n",
      "2           1  P61088     E61K     Q96PU5\n",
      "3           1  P61088     E61K     Q96PU5\n",
      "4           0  P61088     E61K     Q96PU5\n",
      "2021-11-02 10:12:58 |\u001b[36m DEBUG    \u001b[0m| helpers.helpers_predator.predictions_utils | Removed entries first five rows (of 257): \n",
      "   PREDICTION PROTEIN MUTATION INTERACTOR\n",
      "0           1  P61088     E61K     O95628\n",
      "1           1  P61088     E61K     O95628\n",
      "2           1  P61088     E61K     O95628\n",
      "3           0  P61088     E61K     O95628\n",
      "4           1  P61088     E61K     O95628\n",
      "2021-11-02 10:13:03 |\u001b[36m DEBUG    \u001b[0m| helpers.helpers_predator.predictions_utils | Removed entries first five rows (of 343): \n",
      "   PREDICTION PROTEIN MUTATION INTERACTOR\n",
      "0           1  P61088     E61K     O95628\n",
      "1           1  P61088     E61K     O95628\n",
      "2           1  P61088     E61K     O95628\n",
      "3           0  P61088     E61K     O95628\n",
      "4           1  P61088     E61K     O95628\n",
      "2021-11-02 10:13:07 |\u001b[36m DEBUG    \u001b[0m| helpers.helpers_predator.predictions_utils | Removed entries first five rows (of 428): \n",
      "   PREDICTION PROTEIN MUTATION INTERACTOR\n",
      "0           1  P61088     E61K     O95628\n",
      "1           1  P61088     E61K     O95628\n",
      "2           1  P61088     E61K     O95628\n",
      "3           0  P61088     E61K     O95628\n",
      "4           1  P61088     E61K     O95628\n",
      "2021-11-02 10:13:12 |\u001b[36m DEBUG    \u001b[0m| helpers.helpers_predator.predictions_utils | Removed entries first five rows (of 174): \n",
      "   PREDICTION PROTEIN MUTATION INTERACTOR\n",
      "0           0  P00749    R199K     P00747\n",
      "1           1  P00749    R199K     P00747\n",
      "2           1  O43791    A216T     Q05516\n",
      "3           0  O43791    A216T     Q05516\n",
      "4           0  P63000     I33F     Q68EM7\n",
      "2021-11-02 10:13:16 |\u001b[36m DEBUG    \u001b[0m| helpers.helpers_predator.predictions_utils | Removed entries first five rows (of 352): \n",
      "   PREDICTION PROTEIN MUTATION INTERACTOR\n",
      "0           1  P61088     E61K     O95628\n",
      "1           0  P61088     E61K     O95628\n",
      "2           0  P61088     E61K     O95628\n",
      "3           0  P61088     E61K     O95628\n",
      "4           0  P61088     E61K     O95628\n",
      "2021-11-02 10:13:21 |\u001b[36m DEBUG    \u001b[0m| helpers.helpers_predator.predictions_utils | Removed entries first five rows (of 342): \n",
      "   PREDICTION PROTEIN MUTATION INTERACTOR\n",
      "0           1  P61088     E61K     O95628\n",
      "1           1  P61088     E61K     O95628\n",
      "2           1  P61088     E61K     O95628\n",
      "3           0  P61088     E61K     O95628\n",
      "4           1  P61088     E61K     O95628\n",
      "2021-11-02 10:13:24 |\u001b[36m DEBUG    \u001b[0m| helpers.helpers_predator.predictions_utils | Removed entries first five rows (of 289): \n",
      "   PREDICTION PROTEIN MUTATION INTERACTOR\n",
      "0           1  P61088     E61K     O95628\n",
      "1           1  P61088     E61K     O95628\n",
      "2           1  P61088     E61K     O95628\n",
      "3           0  P61088     E61K     O95628\n",
      "4           1  P61088     E61K     O95628\n",
      "2021-11-02 10:13:29 |\u001b[36m DEBUG    \u001b[0m| helpers.helpers_predator.predictions_utils | Removed entries first five rows (of 279): \n",
      "   PREDICTION PROTEIN MUTATION INTERACTOR\n",
      "0           1  P61088     E61K     O95628\n",
      "1           1  P61088     E61K     O95628\n",
      "2           1  P61088     E61K     O95628\n",
      "3           0  P61088     E61K     O95628\n",
      "4           1  P61088     E61K     O95628\n",
      "2021-11-02 10:13:33 |\u001b[36m DEBUG    \u001b[0m| helpers.helpers_predator.predictions_utils | Removed entries first five rows (of 256): \n",
      "   PREDICTION PROTEIN MUTATION INTERACTOR\n",
      "0           1  P61088     E61K     O95628\n",
      "1           1  P61088     E61K     O95628\n",
      "2           1  P61088     E61K     O95628\n",
      "3           0  P61088     E61K     O95628\n",
      "4           1  P61088     E61K     O95628\n",
      "2021-11-02 10:13:37 |\u001b[36m DEBUG    \u001b[0m| helpers.helpers_predator.predictions_utils | Removed entries first five rows (of 405): \n",
      "   PREDICTION PROTEIN MUTATION INTERACTOR\n",
      "0           1  P61088     E61K     O95628\n",
      "1           0  P61088     E61K     O95628\n",
      "2           0  P61088     E61K     O95628\n",
      "3           0  P61088     E61K     O95628\n",
      "4           0  P61088     E61K     O95628\n",
      "2021-11-02 10:13:41 |\u001b[36m DEBUG    \u001b[0m| helpers.helpers_predator.predictions_utils | Removed entries first five rows (of 267): \n",
      "   PREDICTION PROTEIN MUTATION INTERACTOR\n",
      "0           1  P61088     E61K     O95628\n",
      "1           0  P61088     E61K     O95628\n",
      "2           0  P61088     E61K     O95628\n",
      "3           0  P61088     E61K     O95628\n",
      "4           0  P61088     E61K     O95628\n",
      "2021-11-02 10:13:46 |\u001b[36m DEBUG    \u001b[0m| helpers.helpers_predator.predictions_utils | Removed entries first five rows (of 330): \n",
      "   PREDICTION PROTEIN MUTATION INTERACTOR\n",
      "0           1  P61088     E61K     O95628\n",
      "1           1  P61088     E61K     O95628\n",
      "2           1  P61088     E61K     O95628\n",
      "3           0  P61088     E61K     O95628\n",
      "4           1  P61088     E61K     O95628\n",
      "2021-11-02 10:13:50 |\u001b[36m DEBUG    \u001b[0m| helpers.helpers_predator.predictions_utils | Removed entries first five rows (of 301): \n",
      "   PREDICTION PROTEIN MUTATION INTERACTOR\n",
      "0           1  P61088     E61K     O95628\n",
      "1           0  P61088     E61K     O95628\n",
      "2           0  P61088     E61K     O95628\n",
      "3           0  P61088     E61K     O95628\n",
      "4           0  P61088     E61K     O95628\n",
      "2021-11-02 10:13:54 |\u001b[36m DEBUG    \u001b[0m| helpers.helpers_predator.predictions_utils | Removed entries first five rows (of 338): \n",
      "   PREDICTION PROTEIN MUTATION INTERACTOR\n",
      "0           1  P61088     E61K     O95628\n",
      "1           1  P61088     E61K     O95628\n",
      "2           1  P61088     E61K     O95628\n",
      "3           0  P61088     E61K     O95628\n",
      "4           1  P61088     E61K     O95628\n",
      "2021-11-02 10:13:57 |\u001b[36m DEBUG    \u001b[0m| helpers.helpers_predator.predictions_utils | Removed entries first five rows (of 380): \n",
      "   PREDICTION PROTEIN MUTATION INTERACTOR\n",
      "0           1  P61088     E61K     O95628\n",
      "1           0  P61088     E61K     O95628\n",
      "2           0  P61088     E61K     O95628\n",
      "3           0  P61088     E61K     O95628\n",
      "4           0  P61088     E61K     O95628\n",
      "2021-11-02 10:14:02 |\u001b[36m DEBUG    \u001b[0m| helpers.helpers_predator.predictions_utils | Removed entries first five rows (of 341): \n",
      "   PREDICTION PROTEIN MUTATION INTERACTOR\n",
      "0           1  P61088     E61K     O95628\n",
      "1           0  P61088     E61K     O95628\n",
      "2           0  P61088     E61K     O95628\n",
      "3           0  P61088     E61K     O95628\n",
      "4           0  P61088     E61K     O95628\n",
      "2021-11-02 10:14:05 |\u001b[36m DEBUG    \u001b[0m| helpers.helpers_predator.predictions_utils | Removed entries first five rows (of 239): \n",
      "   PREDICTION PROTEIN MUTATION INTERACTOR\n",
      "0           1  P61088     E61K     O95628\n",
      "1           1  P61088     E61K     O95628\n",
      "2           1  P61088     E61K     O95628\n",
      "3           0  P61088     E61K     O95628\n",
      "4           1  P61088     E61K     O95628\n",
      "2021-11-02 10:14:09 |\u001b[36m DEBUG    \u001b[0m| helpers.helpers_predator.predictions_utils | Removed entries first five rows (of 297): \n",
      "   PREDICTION PROTEIN MUTATION INTERACTOR\n",
      "0           1  P61088     E61K     O95628\n",
      "1           0  P61088     E61K     O95628\n",
      "2           0  P61088     E61K     O95628\n",
      "3           0  P61088     E61K     O95628\n",
      "4           0  P61088     E61K     O95628\n",
      "2021-11-02 10:14:13 |\u001b[36m DEBUG    \u001b[0m| helpers.helpers_predator.predictions_utils | Removed entries first five rows (of 372): \n",
      "   PREDICTION PROTEIN MUTATION INTERACTOR\n",
      "0           1  P61088     E61K     O95628\n",
      "1           0  P61088     E61K     O95628\n",
      "2           0  P61088     E61K     O95628\n",
      "3           0  P61088     E61K     O95628\n",
      "4           0  P61088     E61K     O95628\n",
      "2021-11-02 10:14:17 |\u001b[36m DEBUG    \u001b[0m| helpers.helpers_predator.predictions_utils | Removed entries first five rows (of 306): \n",
      "   PREDICTION PROTEIN MUTATION INTERACTOR\n",
      "0           1  P61088     E61K     O95628\n",
      "1           0  P61088     E61K     O95628\n",
      "2           0  P61088     E61K     O95628\n",
      "3           0  P61088     E61K     O95628\n",
      "4           0  P61088     E61K     O95628\n",
      "2021-11-02 10:14:21 |\u001b[36m DEBUG    \u001b[0m| helpers.helpers_predator.predictions_utils | Removed entries first five rows (of 303): \n",
      "   PREDICTION PROTEIN MUTATION INTERACTOR\n",
      "0           1  P61088     E61K     O95628\n",
      "1           0  P61088     E61K     O95628\n",
      "2           0  P61088     E61K     O95628\n",
      "3           0  P61088     E61K     O95628\n",
      "4           0  P61088     E61K     O95628\n",
      "2021-11-02 10:14:25 |\u001b[36m DEBUG    \u001b[0m| helpers.helpers_predator.predictions_utils | Removed entries first five rows (of 294): \n",
      "   PREDICTION PROTEIN MUTATION INTERACTOR\n",
      "0           1  P61088     E61K     O95628\n",
      "1           1  P61088     E61K     O95628\n",
      "2           1  P61088     E61K     O95628\n",
      "3           0  P61088     E61K     O95628\n",
      "4           1  P61088     E61K     O95628\n",
      "2021-11-02 10:14:29 |\u001b[36m DEBUG    \u001b[0m| helpers.helpers_predator.predictions_utils | Removed entries first five rows (of 246): \n",
      "   PREDICTION PROTEIN MUTATION INTERACTOR\n",
      "0           1  P61088     E61K     Q96PU5\n",
      "1           1  P61088     E61K     Q96PU5\n",
      "2           1  P61088     E61K     Q96PU5\n",
      "3           1  P61088     E61K     Q96PU5\n",
      "4           0  P61088     E61K     Q96PU5\n",
      "2021-11-02 10:14:33 |\u001b[36m DEBUG    \u001b[0m| helpers.helpers_predator.predictions_utils | Removed entries first five rows (of 329): \n",
      "   PREDICTION PROTEIN MUTATION INTERACTOR\n",
      "0           0  P00749    R199K     P00747\n",
      "1           1  P00749    R199K     P00747\n",
      "2           0  P07947    D167H     P02751\n",
      "3           0  P07947    D167H     P02751\n",
      "4           1  P07947    D167H     P02751\n",
      "2021-11-02 10:14:37 |\u001b[36m DEBUG    \u001b[0m| helpers.helpers_predator.predictions_utils | Removed entries first five rows (of 321): \n",
      "   PREDICTION PROTEIN MUTATION INTERACTOR\n",
      "0           1  P61088     E61K     O95628\n",
      "1           0  P61088     E61K     O95628\n",
      "2           0  P61088     E61K     O95628\n",
      "3           0  P61088     E61K     O95628\n",
      "4           0  P61088     E61K     O95628\n",
      "2021-11-02 10:14:41 |\u001b[36m DEBUG    \u001b[0m| helpers.helpers_predator.predictions_utils | Removed entries first five rows (of 428): \n",
      "   PREDICTION PROTEIN MUTATION INTERACTOR\n",
      "0           1  P61088     E61K     O95628\n",
      "1           0  P61088     E61K     O95628\n",
      "2           0  P61088     E61K     O95628\n",
      "3           0  P61088     E61K     O95628\n",
      "4           0  P61088     E61K     O95628\n",
      "2021-11-02 10:14:45 |\u001b[36m DEBUG    \u001b[0m| helpers.helpers_predator.predictions_utils | Removed entries first five rows (of 333): \n",
      "   PREDICTION PROTEIN MUTATION INTERACTOR\n",
      "0           1  P61088     E61K     O95628\n",
      "1           1  P61088     E61K     O95628\n",
      "2           1  P61088     E61K     O95628\n",
      "3           0  P61088     E61K     O95628\n",
      "4           1  P61088     E61K     O95628\n",
      "2021-11-02 10:14:50 |\u001b[36m DEBUG    \u001b[0m| helpers.helpers_predator.predictions_utils | Removed entries first five rows (of 303): \n",
      "   PREDICTION PROTEIN MUTATION INTERACTOR\n",
      "0           1  P61088     E61K     O95628\n",
      "1           0  P61088     E61K     O95628\n",
      "2           0  P61088     E61K     O95628\n",
      "3           0  P61088     E61K     O95628\n",
      "4           0  P61088     E61K     O95628\n",
      "2021-11-02 10:14:53 |\u001b[36m DEBUG    \u001b[0m| helpers.helpers_predator.predictions_utils | Removed entries first five rows (of 241): \n",
      "   PREDICTION PROTEIN MUTATION INTERACTOR\n",
      "0           1  P61088     E61K     O95628\n",
      "1           1  P61088     E61K     O95628\n",
      "2           1  P61088     E61K     O95628\n",
      "3           0  P61088     E61K     O95628\n",
      "4           1  P61088     E61K     O95628\n",
      "2021-11-02 10:14:58 |\u001b[36m DEBUG    \u001b[0m| helpers.helpers_predator.predictions_utils | Removed entries first five rows (of 143): \n",
      "   PREDICTION PROTEIN MUTATION INTERACTOR\n",
      "0           0  O14807     D67N     Q92565\n",
      "1           0  O14807     D67N     Q8TEU7\n",
      "2           0  O14807     D67N     Q8TEU7\n",
      "3           1  O14807     D67N     Q8TEU7\n",
      "4           1  O14807     D67N     Q8TEU7\n",
      "2021-11-02 10:15:02 |\u001b[36m DEBUG    \u001b[0m| helpers.helpers_predator.predictions_utils | Removed entries first five rows (of 224): \n",
      "   PREDICTION PROTEIN MUTATION INTERACTOR\n",
      "0           1  P61088     E61K     O95628\n",
      "1           0  P61088     E61K     O95628\n",
      "2           0  P61088     E61K     O95628\n",
      "3           0  P61088     E61K     O95628\n",
      "4           0  P61088     E61K     O95628\n",
      "2021-11-02 10:15:07 |\u001b[36m DEBUG    \u001b[0m| helpers.helpers_predator.predictions_utils | Removed entries first five rows (of 355): \n",
      "   PREDICTION PROTEIN MUTATION INTERACTOR\n",
      "0           1  P61088     E61K     O95628\n",
      "1           0  P61088     E61K     O95628\n",
      "2           0  P61088     E61K     O95628\n",
      "3           0  P61088     E61K     O95628\n",
      "4           0  P61088     E61K     O95628\n",
      "2021-11-02 10:15:07 |\u001b[36m DEBUG    \u001b[0m| helpers.helpers_predator.predictions | Preparing finalized prediction datasets for esca ..\n",
      "2021-11-02 10:15:07 |\u001b[36m DEBUG    \u001b[0m| helpers.helpers_predator.predictions | Post processing completed for esca.\n"
     ]
    }
   ],
   "source": [
    "predator.predictions_post_process()"
   ]
  },
  {
   "cell_type": "code",
   "execution_count": 10,
   "id": "9b199266-30fa-4d19-aea7-e646f074241b",
   "metadata": {},
   "outputs": [
    {
     "name": "stdout",
     "output_type": "stream",
     "text": [
      "\u001b[36mData dimensions: (2435, 104)\u001b[0m\n"
     ]
    },
    {
     "data": {
      "text/html": [
       "<div>\n",
       "<style scoped>\n",
       "    .dataframe tbody tr th:only-of-type {\n",
       "        vertical-align: middle;\n",
       "    }\n",
       "\n",
       "    .dataframe tbody tr th {\n",
       "        vertical-align: top;\n",
       "    }\n",
       "\n",
       "    .dataframe thead th {\n",
       "        text-align: right;\n",
       "    }\n",
       "</style>\n",
       "<table border=\"1\" class=\"dataframe\">\n",
       "  <thead>\n",
       "    <tr style=\"text-align: right;\">\n",
       "      <th></th>\n",
       "      <th>Prediction</th>\n",
       "      <th>Input_identifier</th>\n",
       "      <th>UniProt_ID</th>\n",
       "      <th>Mutation</th>\n",
       "      <th>Status</th>\n",
       "      <th>Type</th>\n",
       "      <th>COSMIC_mut_ID</th>\n",
       "      <th>ClinVar_mut_ID</th>\n",
       "      <th>UniProt_mut_ID</th>\n",
       "      <th>Domain_name</th>\n",
       "      <th>...</th>\n",
       "      <th>number_of_residues_mut</th>\n",
       "      <th>IntraclashesEnergy1_wt</th>\n",
       "      <th>IntraclashesEnergy1_mut</th>\n",
       "      <th>IntraclashesEnergy2_wt</th>\n",
       "      <th>IntraclashesEnergy2_mut</th>\n",
       "      <th>Interface_hydrophobic_area</th>\n",
       "      <th>Interface_hydrophilic_area</th>\n",
       "      <th>Interface_total_area</th>\n",
       "      <th>Interface_contact_distance_wt</th>\n",
       "      <th>Interface_contact_distance_mut</th>\n",
       "    </tr>\n",
       "  </thead>\n",
       "  <tbody>\n",
       "    <tr>\n",
       "      <th>0</th>\n",
       "      <td>1</td>\n",
       "      <td>P61088</td>\n",
       "      <td>P61088</td>\n",
       "      <td>E61K</td>\n",
       "      <td>done</td>\n",
       "      <td>interface</td>\n",
       "      <td>-</td>\n",
       "      <td>-</td>\n",
       "      <td>-</td>\n",
       "      <td>UQ_con</td>\n",
       "      <td>...</td>\n",
       "      <td>254.0</td>\n",
       "      <td>33.4527</td>\n",
       "      <td>33.4511</td>\n",
       "      <td>40.0177</td>\n",
       "      <td>40.0114</td>\n",
       "      <td>319.225</td>\n",
       "      <td>201.86</td>\n",
       "      <td>521.085</td>\n",
       "      <td>2.612</td>\n",
       "      <td>4.42118</td>\n",
       "    </tr>\n",
       "    <tr>\n",
       "      <th>1</th>\n",
       "      <td>1</td>\n",
       "      <td>P61088</td>\n",
       "      <td>P61088</td>\n",
       "      <td>E61K</td>\n",
       "      <td>done</td>\n",
       "      <td>interface</td>\n",
       "      <td>-</td>\n",
       "      <td>-</td>\n",
       "      <td>-</td>\n",
       "      <td>UQ_con</td>\n",
       "      <td>...</td>\n",
       "      <td>254.0</td>\n",
       "      <td>33.4527</td>\n",
       "      <td>33.4511</td>\n",
       "      <td>40.0177</td>\n",
       "      <td>40.0114</td>\n",
       "      <td>319.225</td>\n",
       "      <td>201.86</td>\n",
       "      <td>521.085</td>\n",
       "      <td>2.612</td>\n",
       "      <td>4.42118</td>\n",
       "    </tr>\n",
       "    <tr>\n",
       "      <th>2</th>\n",
       "      <td>1</td>\n",
       "      <td>P61088</td>\n",
       "      <td>P61088</td>\n",
       "      <td>E61K</td>\n",
       "      <td>done</td>\n",
       "      <td>interface</td>\n",
       "      <td>-</td>\n",
       "      <td>-</td>\n",
       "      <td>-</td>\n",
       "      <td>UQ_con</td>\n",
       "      <td>...</td>\n",
       "      <td>254.0</td>\n",
       "      <td>33.4527</td>\n",
       "      <td>33.4511</td>\n",
       "      <td>40.0177</td>\n",
       "      <td>40.0114</td>\n",
       "      <td>319.225</td>\n",
       "      <td>201.86</td>\n",
       "      <td>521.085</td>\n",
       "      <td>2.612</td>\n",
       "      <td>4.42118</td>\n",
       "    </tr>\n",
       "  </tbody>\n",
       "</table>\n",
       "<p>3 rows × 104 columns</p>\n",
       "</div>"
      ],
      "text/plain": [
       "   Prediction Input_identifier UniProt_ID Mutation Status       Type  \\\n",
       "0           1           P61088     P61088     E61K   done  interface   \n",
       "1           1           P61088     P61088     E61K   done  interface   \n",
       "2           1           P61088     P61088     E61K   done  interface   \n",
       "\n",
       "  COSMIC_mut_ID ClinVar_mut_ID UniProt_mut_ID Domain_name  ...  \\\n",
       "0             -              -              -      UQ_con  ...   \n",
       "1             -              -              -      UQ_con  ...   \n",
       "2             -              -              -      UQ_con  ...   \n",
       "\n",
       "  number_of_residues_mut IntraclashesEnergy1_wt IntraclashesEnergy1_mut  \\\n",
       "0                  254.0                33.4527                 33.4511   \n",
       "1                  254.0                33.4527                 33.4511   \n",
       "2                  254.0                33.4527                 33.4511   \n",
       "\n",
       "   IntraclashesEnergy2_wt  IntraclashesEnergy2_mut Interface_hydrophobic_area  \\\n",
       "0                 40.0177                  40.0114                    319.225   \n",
       "1                 40.0177                  40.0114                    319.225   \n",
       "2                 40.0177                  40.0114                    319.225   \n",
       "\n",
       "  Interface_hydrophilic_area Interface_total_area  \\\n",
       "0                     201.86              521.085   \n",
       "1                     201.86              521.085   \n",
       "2                     201.86              521.085   \n",
       "\n",
       "  Interface_contact_distance_wt Interface_contact_distance_mut  \n",
       "0                         2.612                        4.42118  \n",
       "1                         2.612                        4.42118  \n",
       "2                         2.612                        4.42118  \n",
       "\n",
       "[3 rows x 104 columns]"
      ]
     },
     "metadata": {},
     "output_type": "display_data"
    }
   ],
   "source": [
    "display_data(predator.predictions[\"esca_predicted_datasets\"][0])"
   ]
  },
  {
   "cell_type": "code",
   "execution_count": 11,
   "id": "c98a4d19-2d34-4529-9102-227fc8a87d9a",
   "metadata": {},
   "outputs": [
    {
     "data": {
      "image/png": "[encoded data removed]",
      "text/plain": [
       "<Figure size 1080x360 with 1 Axes>"
      ]
     },
     "metadata": {},
     "output_type": "display_data"
    }
   ],
   "source": [
    "predator.predictions.plot_distribution_valid_vs_invalid(\"esca\")"
   ]
  },
  {
   "cell_type": "code",
   "execution_count": 12,
   "id": "47b7e1d1-fa11-42ff-b369-8e41fd6d0971",
   "metadata": {},
   "outputs": [
    {
     "name": "stdout",
     "output_type": "stream",
     "text": [
      "2021-11-02 10:15:38 |\u001b[36m DEBUG    \u001b[0m| helpers.helpers_predator.predictions | Plotting number of finalized predictions per model.\n",
      "Note that following plot shows the number of (protein, mutation, interactor) triplets which had valid prediction.\n"
     ]
    },
    {
     "data": {
      "image/png": "[encoded data removed]",
      "text/plain": [
       "<Figure size 1080x360 with 1 Axes>"
      ]
     },
     "metadata": {},
     "output_type": "display_data"
    }
   ],
   "source": [
    "predator.predictions.plot_num_finalized_predictions(\"esca\")"
   ]
  },
  {
   "cell_type": "code",
   "execution_count": 13,
   "id": "c81b9a04-65a3-43ec-bd76-49a252f6445d",
   "metadata": {
    "scrolled": true,
    "tags": []
   },
   "outputs": [
    {
     "name": "stdout",
     "output_type": "stream",
     "text": [
      "2021-11-02 10:15:52 |\u001b[36m DEBUG    \u001b[0m| helpers.helpers_predator.predictions | PredictionsHard\n",
      "2021-11-02 10:15:52 |\u001b[36m DEBUG    \u001b[0m| helpers.helpers_predator.predictions | Preparing ensemble prediction data for esca ..\n"
     ]
    },
    {
     "data": {
      "application/vnd.jupyter.widget-view+json": {
       "model_id": "e070d66fc26644f5b3b32add15737155",
       "version_major": 2,
       "version_minor": 0
      },
      "text/plain": [
       "  0%|          | 0/1230 [00:00<?, ?it/s]"
      ]
     },
     "metadata": {},
     "output_type": "display_data"
    },
    {
     "name": "stdout",
     "output_type": "stream",
     "text": [
      "2021-11-02 10:16:45 |\u001b[36m DEBUG    \u001b[0m| helpers.helpers_predator.predictions | Ensemble prediction data for esca is prepared.\n",
      "2021-11-02 10:16:45 |\u001b[36m DEBUG    \u001b[0m| helpers.helpers_predator.predictions | Resulting prediction data is available for esca.\n",
      "Accessible from predictions.['esca_prediction_results']\n",
      "2021-11-02 10:16:45 |\u001b[36m DEBUG    \u001b[0m| helpers.helpers_predator.predictions | Resulting prediction data (no_votes dropped) is available for esca.\n",
      "Accessible from predictions.['esca_prediction_results_no_votes_dropped']\n"
     ]
    }
   ],
   "source": [
    "predator.prepare_ensemble_prediction_data()"
   ]
  },
  {
   "cell_type": "code",
   "execution_count": 14,
   "id": "4f9eae38-ddf4-4856-9977-4c27c8a788da",
   "metadata": {},
   "outputs": [
    {
     "name": "stdout",
     "output_type": "stream",
     "text": [
      "\u001b[36mData dimensions: (1230, 7)\u001b[0m\n"
     ]
    },
    {
     "data": {
      "text/html": [
       "<div>\n",
       "<style scoped>\n",
       "    .dataframe tbody tr th:only-of-type {\n",
       "        vertical-align: middle;\n",
       "    }\n",
       "\n",
       "    .dataframe tbody tr th {\n",
       "        vertical-align: top;\n",
       "    }\n",
       "\n",
       "    .dataframe thead th {\n",
       "        text-align: right;\n",
       "    }\n",
       "</style>\n",
       "<table border=\"1\" class=\"dataframe\">\n",
       "  <thead>\n",
       "    <tr style=\"text-align: right;\">\n",
       "      <th></th>\n",
       "      <th>UniProt_ID</th>\n",
       "      <th>Mutation</th>\n",
       "      <th>Interactor_UniProt_ID</th>\n",
       "      <th>Num_preds_0</th>\n",
       "      <th>Num_preds_1</th>\n",
       "      <th>Num_preds_NO_VOTE</th>\n",
       "      <th>VOTED_PREDICTION</th>\n",
       "    </tr>\n",
       "  </thead>\n",
       "  <tbody>\n",
       "    <tr>\n",
       "      <th>0</th>\n",
       "      <td>P61088</td>\n",
       "      <td>E61K</td>\n",
       "      <td>P38398</td>\n",
       "      <td>10</td>\n",
       "      <td>27</td>\n",
       "      <td>0</td>\n",
       "      <td>1</td>\n",
       "    </tr>\n",
       "    <tr>\n",
       "      <th>1</th>\n",
       "      <td>P61088</td>\n",
       "      <td>E61K</td>\n",
       "      <td>O95628</td>\n",
       "      <td>4</td>\n",
       "      <td>2</td>\n",
       "      <td>31</td>\n",
       "      <td>NO_VOTE</td>\n",
       "    </tr>\n",
       "    <tr>\n",
       "      <th>2</th>\n",
       "      <td>P61088</td>\n",
       "      <td>E61K</td>\n",
       "      <td>Q96PU5</td>\n",
       "      <td>0</td>\n",
       "      <td>34</td>\n",
       "      <td>3</td>\n",
       "      <td>1</td>\n",
       "    </tr>\n",
       "  </tbody>\n",
       "</table>\n",
       "</div>"
      ],
      "text/plain": [
       "  UniProt_ID Mutation Interactor_UniProt_ID  Num_preds_0  Num_preds_1  \\\n",
       "0     P61088     E61K                P38398           10           27   \n",
       "1     P61088     E61K                O95628            4            2   \n",
       "2     P61088     E61K                Q96PU5            0           34   \n",
       "\n",
       "   Num_preds_NO_VOTE VOTED_PREDICTION  \n",
       "0                  0                1  \n",
       "1                 31          NO_VOTE  \n",
       "2                  3                1  "
      ]
     },
     "metadata": {},
     "output_type": "display_data"
    }
   ],
   "source": [
    "display_data(predator.predictions[\"esca_ensemble_prediction_data\"])"
   ]
  },
  {
   "cell_type": "code",
   "execution_count": 15,
   "id": "50b403be-c1e1-418b-af90-9704641988ce",
   "metadata": {},
   "outputs": [
    {
     "name": "stdout",
     "output_type": "stream",
     "text": [
      "\u001b[36mData dimensions: (2435, 103)\u001b[0m\n"
     ]
    },
    {
     "data": {
      "text/html": [
       "<div>\n",
       "<style scoped>\n",
       "    .dataframe tbody tr th:only-of-type {\n",
       "        vertical-align: middle;\n",
       "    }\n",
       "\n",
       "    .dataframe tbody tr th {\n",
       "        vertical-align: top;\n",
       "    }\n",
       "\n",
       "    .dataframe thead th {\n",
       "        text-align: right;\n",
       "    }\n",
       "</style>\n",
       "<table border=\"1\" class=\"dataframe\">\n",
       "  <thead>\n",
       "    <tr style=\"text-align: right;\">\n",
       "      <th></th>\n",
       "      <th>Input_identifier</th>\n",
       "      <th>UniProt_ID</th>\n",
       "      <th>Mutation</th>\n",
       "      <th>Status</th>\n",
       "      <th>Type</th>\n",
       "      <th>COSMIC_mut_ID</th>\n",
       "      <th>ClinVar_mut_ID</th>\n",
       "      <th>UniProt_mut_ID</th>\n",
       "      <th>Domain_name</th>\n",
       "      <th>Domain_clan</th>\n",
       "      <th>...</th>\n",
       "      <th>number_of_residues_mut</th>\n",
       "      <th>IntraclashesEnergy1_wt</th>\n",
       "      <th>IntraclashesEnergy1_mut</th>\n",
       "      <th>IntraclashesEnergy2_wt</th>\n",
       "      <th>IntraclashesEnergy2_mut</th>\n",
       "      <th>Interface_hydrophobic_area</th>\n",
       "      <th>Interface_hydrophilic_area</th>\n",
       "      <th>Interface_total_area</th>\n",
       "      <th>Interface_contact_distance_wt</th>\n",
       "      <th>Interface_contact_distance_mut</th>\n",
       "    </tr>\n",
       "  </thead>\n",
       "  <tbody>\n",
       "    <tr>\n",
       "      <th>0</th>\n",
       "      <td>P61088</td>\n",
       "      <td>P61088</td>\n",
       "      <td>E61K</td>\n",
       "      <td>done</td>\n",
       "      <td>interface</td>\n",
       "      <td>-</td>\n",
       "      <td>-</td>\n",
       "      <td>-</td>\n",
       "      <td>UQ_con</td>\n",
       "      <td>UQ_con</td>\n",
       "      <td>...</td>\n",
       "      <td>254.0</td>\n",
       "      <td>33.4527</td>\n",
       "      <td>33.4511</td>\n",
       "      <td>40.0177</td>\n",
       "      <td>40.0114</td>\n",
       "      <td>319.225</td>\n",
       "      <td>201.86</td>\n",
       "      <td>521.085</td>\n",
       "      <td>2.612</td>\n",
       "      <td>4.42118</td>\n",
       "    </tr>\n",
       "    <tr>\n",
       "      <th>1</th>\n",
       "      <td>P61088</td>\n",
       "      <td>P61088</td>\n",
       "      <td>E61K</td>\n",
       "      <td>done</td>\n",
       "      <td>interface</td>\n",
       "      <td>-</td>\n",
       "      <td>-</td>\n",
       "      <td>-</td>\n",
       "      <td>UQ_con</td>\n",
       "      <td>UQ_con</td>\n",
       "      <td>...</td>\n",
       "      <td>254.0</td>\n",
       "      <td>33.4527</td>\n",
       "      <td>33.4511</td>\n",
       "      <td>40.0177</td>\n",
       "      <td>40.0114</td>\n",
       "      <td>319.225</td>\n",
       "      <td>201.86</td>\n",
       "      <td>521.085</td>\n",
       "      <td>2.612</td>\n",
       "      <td>4.42118</td>\n",
       "    </tr>\n",
       "    <tr>\n",
       "      <th>2</th>\n",
       "      <td>P61088</td>\n",
       "      <td>P61088</td>\n",
       "      <td>E61K</td>\n",
       "      <td>done</td>\n",
       "      <td>interface</td>\n",
       "      <td>-</td>\n",
       "      <td>-</td>\n",
       "      <td>-</td>\n",
       "      <td>UQ_con</td>\n",
       "      <td>UQ_con</td>\n",
       "      <td>...</td>\n",
       "      <td>254.0</td>\n",
       "      <td>33.4527</td>\n",
       "      <td>33.4511</td>\n",
       "      <td>40.0177</td>\n",
       "      <td>40.0114</td>\n",
       "      <td>319.225</td>\n",
       "      <td>201.86</td>\n",
       "      <td>521.085</td>\n",
       "      <td>2.612</td>\n",
       "      <td>4.42118</td>\n",
       "    </tr>\n",
       "  </tbody>\n",
       "</table>\n",
       "<p>3 rows × 103 columns</p>\n",
       "</div>"
      ],
      "text/plain": [
       "  Input_identifier UniProt_ID Mutation Status       Type COSMIC_mut_ID  \\\n",
       "0           P61088     P61088     E61K   done  interface             -   \n",
       "1           P61088     P61088     E61K   done  interface             -   \n",
       "2           P61088     P61088     E61K   done  interface             -   \n",
       "\n",
       "  ClinVar_mut_ID UniProt_mut_ID Domain_name Domain_clan  ...  \\\n",
       "0              -              -      UQ_con      UQ_con  ...   \n",
       "1              -              -      UQ_con      UQ_con  ...   \n",
       "2              -              -      UQ_con      UQ_con  ...   \n",
       "\n",
       "  number_of_residues_mut IntraclashesEnergy1_wt  IntraclashesEnergy1_mut  \\\n",
       "0                  254.0                33.4527                  33.4511   \n",
       "1                  254.0                33.4527                  33.4511   \n",
       "2                  254.0                33.4527                  33.4511   \n",
       "\n",
       "   IntraclashesEnergy2_wt IntraclashesEnergy2_mut Interface_hydrophobic_area  \\\n",
       "0                 40.0177                 40.0114                    319.225   \n",
       "1                 40.0177                 40.0114                    319.225   \n",
       "2                 40.0177                 40.0114                    319.225   \n",
       "\n",
       "  Interface_hydrophilic_area Interface_total_area  \\\n",
       "0                     201.86              521.085   \n",
       "1                     201.86              521.085   \n",
       "2                     201.86              521.085   \n",
       "\n",
       "  Interface_contact_distance_wt  Interface_contact_distance_mut  \n",
       "0                         2.612                         4.42118  \n",
       "1                         2.612                         4.42118  \n",
       "2                         2.612                         4.42118  \n",
       "\n",
       "[3 rows x 103 columns]"
      ]
     },
     "metadata": {},
     "output_type": "display_data"
    }
   ],
   "source": [
    "display_data(predator.data_materials[\"esca\"])"
   ]
  },
  {
   "cell_type": "code",
   "execution_count": 16,
   "id": "92baf990-79ae-4e3f-a5fa-c0d6c1173150",
   "metadata": {},
   "outputs": [
    {
     "name": "stdout",
     "output_type": "stream",
     "text": [
      "\u001b[36mData dimensions: (2435, 10)\u001b[0m\n"
     ]
    },
    {
     "data": {
      "text/html": [
       "<div>\n",
       "<style scoped>\n",
       "    .dataframe tbody tr th:only-of-type {\n",
       "        vertical-align: middle;\n",
       "    }\n",
       "\n",
       "    .dataframe tbody tr th {\n",
       "        vertical-align: top;\n",
       "    }\n",
       "\n",
       "    .dataframe thead th {\n",
       "        text-align: right;\n",
       "    }\n",
       "</style>\n",
       "<table border=\"1\" class=\"dataframe\">\n",
       "  <thead>\n",
       "    <tr style=\"text-align: right;\">\n",
       "      <th></th>\n",
       "      <th>Provean_score</th>\n",
       "      <th>EL2_score</th>\n",
       "      <th>Final_ddG</th>\n",
       "      <th>Interactor_alignment_score</th>\n",
       "      <th>Solvent_accessibility_wt</th>\n",
       "      <th>Matrix_score</th>\n",
       "      <th>Solvent_accessibility_mut</th>\n",
       "      <th>van_der_waals_mut</th>\n",
       "      <th>Interactor_template_sequence_identity</th>\n",
       "      <th>solvation_polar_wt</th>\n",
       "    </tr>\n",
       "  </thead>\n",
       "  <tbody>\n",
       "    <tr>\n",
       "      <th>0</th>\n",
       "      <td>-3.292</td>\n",
       "      <td>1.72386</td>\n",
       "      <td>0.828693</td>\n",
       "      <td>0.188348</td>\n",
       "      <td>61.3633</td>\n",
       "      <td>1.0</td>\n",
       "      <td>75.0112</td>\n",
       "      <td>-11.6184</td>\n",
       "      <td>0.3913</td>\n",
       "      <td>15.7578</td>\n",
       "    </tr>\n",
       "    <tr>\n",
       "      <th>1</th>\n",
       "      <td>-3.292</td>\n",
       "      <td>1.72386</td>\n",
       "      <td>0.828693</td>\n",
       "      <td>0.188348</td>\n",
       "      <td>61.3633</td>\n",
       "      <td>1.0</td>\n",
       "      <td>75.0112</td>\n",
       "      <td>-11.6184</td>\n",
       "      <td>0.3913</td>\n",
       "      <td>15.7578</td>\n",
       "    </tr>\n",
       "    <tr>\n",
       "      <th>2</th>\n",
       "      <td>-3.292</td>\n",
       "      <td>1.72386</td>\n",
       "      <td>0.828693</td>\n",
       "      <td>0.188348</td>\n",
       "      <td>61.3633</td>\n",
       "      <td>1.0</td>\n",
       "      <td>75.0112</td>\n",
       "      <td>-11.6184</td>\n",
       "      <td>0.3913</td>\n",
       "      <td>15.7578</td>\n",
       "    </tr>\n",
       "  </tbody>\n",
       "</table>\n",
       "</div>"
      ],
      "text/plain": [
       "   Provean_score  EL2_score  Final_ddG  Interactor_alignment_score  \\\n",
       "0         -3.292    1.72386   0.828693                    0.188348   \n",
       "1         -3.292    1.72386   0.828693                    0.188348   \n",
       "2         -3.292    1.72386   0.828693                    0.188348   \n",
       "\n",
       "   Solvent_accessibility_wt  Matrix_score  Solvent_accessibility_mut  \\\n",
       "0                   61.3633           1.0                    75.0112   \n",
       "1                   61.3633           1.0                    75.0112   \n",
       "2                   61.3633           1.0                    75.0112   \n",
       "\n",
       "   van_der_waals_mut  Interactor_template_sequence_identity  \\\n",
       "0           -11.6184                                 0.3913   \n",
       "1           -11.6184                                 0.3913   \n",
       "2           -11.6184                                 0.3913   \n",
       "\n",
       "   solvation_polar_wt  \n",
       "0             15.7578  \n",
       "1             15.7578  \n",
       "2             15.7578  "
      ]
     },
     "metadata": {},
     "output_type": "display_data"
    }
   ],
   "source": [
    "display_data(predator.data_materials[\"Xs_esca\"][0])"
   ]
  },
  {
   "cell_type": "code",
   "execution_count": 17,
   "id": "626956d7-8559-47b9-8b4f-5a003565d469",
   "metadata": {},
   "outputs": [
    {
     "data": {
      "image/png": "[encoded data removed]",
      "text/plain": [
       "<Figure size 432x288 with 1 Axes>"
      ]
     },
     "metadata": {},
     "output_type": "display_data"
    }
   ],
   "source": [
    "predator.predictions.plot_ensemble_prediction_distribution(\"esca\")"
   ]
  },
  {
   "cell_type": "code",
   "execution_count": 18,
   "id": "ede7c311-a2af-4777-881f-f4971a3e94d3",
   "metadata": {},
   "outputs": [
    {
     "name": "stdout",
     "output_type": "stream",
     "text": [
      "\u001b[36mData dimensions: (1230, 4)\u001b[0m\n"
     ]
    },
    {
     "data": {
      "text/html": [
       "<div>\n",
       "<style scoped>\n",
       "    .dataframe tbody tr th:only-of-type {\n",
       "        vertical-align: middle;\n",
       "    }\n",
       "\n",
       "    .dataframe tbody tr th {\n",
       "        vertical-align: top;\n",
       "    }\n",
       "\n",
       "    .dataframe thead th {\n",
       "        text-align: right;\n",
       "    }\n",
       "</style>\n",
       "<table border=\"1\" class=\"dataframe\">\n",
       "  <thead>\n",
       "    <tr style=\"text-align: right;\">\n",
       "      <th></th>\n",
       "      <th>UniProt_ID</th>\n",
       "      <th>Mutation</th>\n",
       "      <th>Interactor_UniProt_ID</th>\n",
       "      <th>Prediction</th>\n",
       "    </tr>\n",
       "  </thead>\n",
       "  <tbody>\n",
       "    <tr>\n",
       "      <th>0</th>\n",
       "      <td>P61088</td>\n",
       "      <td>E61K</td>\n",
       "      <td>P38398</td>\n",
       "      <td>1</td>\n",
       "    </tr>\n",
       "    <tr>\n",
       "      <th>1</th>\n",
       "      <td>P61088</td>\n",
       "      <td>E61K</td>\n",
       "      <td>O95628</td>\n",
       "      <td>NO_VOTE</td>\n",
       "    </tr>\n",
       "    <tr>\n",
       "      <th>2</th>\n",
       "      <td>P61088</td>\n",
       "      <td>E61K</td>\n",
       "      <td>Q96PU5</td>\n",
       "      <td>1</td>\n",
       "    </tr>\n",
       "  </tbody>\n",
       "</table>\n",
       "</div>"
      ],
      "text/plain": [
       "  UniProt_ID Mutation Interactor_UniProt_ID Prediction\n",
       "0     P61088     E61K                P38398          1\n",
       "1     P61088     E61K                O95628    NO_VOTE\n",
       "2     P61088     E61K                Q96PU5          1"
      ]
     },
     "metadata": {},
     "output_type": "display_data"
    }
   ],
   "source": [
    "ov_prediction_results_hard = predator.predictions[\"esca_prediction_results\"]\n",
    "display_data(ov_prediction_results_hard)"
   ]
  },
  {
   "cell_type": "code",
   "execution_count": 19,
   "id": "e3eca490-fb77-40e7-bf33-6c81b695a224",
   "metadata": {},
   "outputs": [],
   "source": [
    "ov_ensemble_prediction_data_hard = predator.predictions[\"esca_ensemble_prediction_data\"]"
   ]
  },
  {
   "cell_type": "code",
   "execution_count": 20,
   "id": "2b6d9841-4616-486a-a29d-2ec7b6f0f824",
   "metadata": {},
   "outputs": [
    {
     "name": "stdout",
     "output_type": "stream",
     "text": [
      "\u001b[36mData dimensions: (1173, 4)\u001b[0m\n"
     ]
    },
    {
     "data": {
      "text/html": [
       "<div>\n",
       "<style scoped>\n",
       "    .dataframe tbody tr th:only-of-type {\n",
       "        vertical-align: middle;\n",
       "    }\n",
       "\n",
       "    .dataframe tbody tr th {\n",
       "        vertical-align: top;\n",
       "    }\n",
       "\n",
       "    .dataframe thead th {\n",
       "        text-align: right;\n",
       "    }\n",
       "</style>\n",
       "<table border=\"1\" class=\"dataframe\">\n",
       "  <thead>\n",
       "    <tr style=\"text-align: right;\">\n",
       "      <th></th>\n",
       "      <th>UniProt_ID</th>\n",
       "      <th>Mutation</th>\n",
       "      <th>Interactor_UniProt_ID</th>\n",
       "      <th>Prediction</th>\n",
       "    </tr>\n",
       "  </thead>\n",
       "  <tbody>\n",
       "    <tr>\n",
       "      <th>0</th>\n",
       "      <td>P61088</td>\n",
       "      <td>E61K</td>\n",
       "      <td>P38398</td>\n",
       "      <td>1</td>\n",
       "    </tr>\n",
       "    <tr>\n",
       "      <th>2</th>\n",
       "      <td>P61088</td>\n",
       "      <td>E61K</td>\n",
       "      <td>Q96PU5</td>\n",
       "      <td>1</td>\n",
       "    </tr>\n",
       "    <tr>\n",
       "      <th>3</th>\n",
       "      <td>P61088</td>\n",
       "      <td>E61K</td>\n",
       "      <td>Q9Y4L5</td>\n",
       "      <td>1</td>\n",
       "    </tr>\n",
       "  </tbody>\n",
       "</table>\n",
       "</div>"
      ],
      "text/plain": [
       "  UniProt_ID Mutation Interactor_UniProt_ID Prediction\n",
       "0     P61088     E61K                P38398          1\n",
       "2     P61088     E61K                Q96PU5          1\n",
       "3     P61088     E61K                Q9Y4L5          1"
      ]
     },
     "metadata": {},
     "output_type": "display_data"
    }
   ],
   "source": [
    "ov_prediction_results_hard_no_votes_dropped = predator.predictions[\"esca_prediction_results_no_votes_dropped\"]\n",
    "display_data(ov_prediction_results_hard_no_votes_dropped)"
   ]
  },
  {
   "cell_type": "code",
   "execution_count": 21,
   "id": "13e87397-5e05-482f-a621-fde4e934e914",
   "metadata": {},
   "outputs": [
    {
     "name": "stdout",
     "output_type": "stream",
     "text": [
      "\u001b[36mLabel counts:\n",
      "Disrupting                591\n",
      "Increasing + No Effect    582\n",
      "Name: Prediction, dtype: int64\u001b[0m\n"
     ]
    },
    {
     "data": {
      "image/png": "[encoded data removed]",
      "text/plain": [
       "<Figure size 432x288 with 1 Axes>"
      ]
     },
     "metadata": {},
     "output_type": "display_data"
    }
   ],
   "source": [
    "visualize_label_counts(ov_prediction_results_hard_no_votes_dropped, 'Prediction')"
   ]
  },
  {
   "cell_type": "markdown",
   "id": "6cd1cc76-b56f-4789-b3b9-bf907fe7399e",
   "metadata": {
    "tags": []
   },
   "source": [
    "### Voting mode: `soft`"
   ]
  },
  {
   "cell_type": "code",
   "execution_count": 22,
   "id": "44e95ef5-2482-4d0d-93fa-305004853f7c",
   "metadata": {},
   "outputs": [
    {
     "name": "stdout",
     "output_type": "stream",
     "text": [
      "2021-11-02 10:17:12 |\u001b[36m DEBUG    \u001b[0m| helpers.helpers_predator.data_materials | Initialize `esca` ..\n",
      "2021-11-02 10:17:12 |\u001b[36m DEBUG    \u001b[0m| helpers.helpers_predator.data_materials | Initialize `target_esca_data` ..\n",
      "2021-11-02 10:17:12 |\u001b[36m DEBUG    \u001b[0m| helpers.helpers_predator.data_materials | Initializing target data materials ..\n",
      "2021-11-02 10:17:12 |\u001b[36m DEBUG    \u001b[0m| helpers.helpers_predator.data_materials | Determined features: ['Provean_score', 'EL2_score', 'Final_ddG', 'Interactor_alignment_score', 'Solvent_accessibility_wt', 'Matrix_score', 'Solvent_accessibility_mut', 'van_der_waals_mut', 'Interactor_template_sequence_identity', 'solvation_polar_wt']\n",
      "2021-11-02 10:17:12 |\u001b[36m DEBUG    \u001b[0m| helpers.helpers_predator.data_materials | Declaring Xs_esca data materials  ..\n"
     ]
    }
   ],
   "source": [
    "predator.initialize_target_data_materials(\n",
    "    tcga_code_path_pairs=[('esca', ESCA_PATH)]\n",
    ")"
   ]
  },
  {
   "cell_type": "code",
   "execution_count": 23,
   "id": "323fbd63-7e32-471f-8cee-4b0abf9d82dc",
   "metadata": {
    "scrolled": true,
    "tags": []
   },
   "outputs": [
    {
     "name": "stdout",
     "output_type": "stream",
     "text": [
      "2021-11-02 10:17:13 |\u001b[36m DEBUG    \u001b[0m| Predator | Predicting on cancer datasets ..\n",
      "2021-11-02 10:17:13 |\u001b[36m DEBUG    \u001b[0m| helpers.helpers_predator.models | Initializing EnsambledVotingClassifier.\n",
      "2021-11-02 10:17:13 |\u001b[36m DEBUG    \u001b[0m| helpers.helpers_predator.models | Voting mode: soft\n",
      "2021-11-02 10:17:13 |\u001b[36m DEBUG    \u001b[0m| helpers.helpers_predator.predictions | Initializing: PredictionsSoft\n",
      "2021-11-02 10:17:13 |\u001b[36m DEBUG    \u001b[0m| Predator | Predicting on esca cohort ..\n",
      "2021-11-02 10:17:13 |\u001b[36m DEBUG    \u001b[0m| helpers.helpers_predator.models | Current estimator: RandomForestClassifier(bootstrap=False, class_weight='balanced', max_depth=4,\n",
      "                       max_features='sqrt', n_estimators=600,\n",
      "                       random_state=14593)\n",
      "2021-11-02 10:17:13 |\u001b[36m DEBUG    \u001b[0m| helpers.helpers_predator.models | X shape: (2435, 10)\n",
      "2021-11-02 10:17:13 |\u001b[36m DEBUG    \u001b[0m| helpers.helpers_predator.models | Current estimator: RandomForestClassifier(bootstrap=False, max_depth=8, max_features=None,\n",
      "                       min_samples_leaf=2, n_estimators=480, random_state=3279)\n",
      "2021-11-02 10:17:13 |\u001b[36m DEBUG    \u001b[0m| helpers.helpers_predator.models | X shape: (2435, 10)\n",
      "2021-11-02 10:17:13 |\u001b[36m DEBUG    \u001b[0m| helpers.helpers_predator.models | Current estimator: RandomForestClassifier(class_weight='balanced', max_depth=11,\n",
      "                       min_samples_split=5, n_estimators=120,\n",
      "                       random_state=36049)\n",
      "2021-11-02 10:17:13 |\u001b[36m DEBUG    \u001b[0m| helpers.helpers_predator.models | X shape: (2435, 10)\n",
      "2021-11-02 10:17:13 |\u001b[36m DEBUG    \u001b[0m| helpers.helpers_predator.models | Current estimator: RandomForestClassifier(class_weight='balanced', max_depth=3,\n",
      "                       max_features='sqrt', min_samples_leaf=4, n_estimators=40,\n",
      "                       random_state=18290)\n",
      "2021-11-02 10:17:13 |\u001b[36m DEBUG    \u001b[0m| helpers.helpers_predator.models | X shape: (2435, 10)\n",
      "2021-11-02 10:17:13 |\u001b[36m DEBUG    \u001b[0m| helpers.helpers_predator.models | Current estimator: RandomForestClassifier(bootstrap=False, max_depth=11, max_features='sqrt',\n",
      "                       min_samples_split=5, n_estimators=460,\n",
      "                       random_state=96531)\n",
      "2021-11-02 10:17:13 |\u001b[36m DEBUG    \u001b[0m| helpers.helpers_predator.models | X shape: (2435, 10)\n",
      "2021-11-02 10:17:13 |\u001b[36m DEBUG    \u001b[0m| helpers.helpers_predator.models | Current estimator: RandomForestClassifier(class_weight='balanced', max_depth=12,\n",
      "                       min_samples_leaf=4, min_samples_split=5, n_estimators=80,\n",
      "                       random_state=13435)\n",
      "2021-11-02 10:17:13 |\u001b[36m DEBUG    \u001b[0m| helpers.helpers_predator.models | X shape: (2435, 10)\n",
      "2021-11-02 10:17:13 |\u001b[36m DEBUG    \u001b[0m| helpers.helpers_predator.models | Current estimator: RandomForestClassifier(class_weight='balanced', max_depth=2,\n",
      "                       min_samples_split=5, n_estimators=500,\n",
      "                       random_state=88697)\n",
      "2021-11-02 10:17:13 |\u001b[36m DEBUG    \u001b[0m| helpers.helpers_predator.models | X shape: (2435, 10)\n",
      "2021-11-02 10:17:13 |\u001b[36m DEBUG    \u001b[0m| helpers.helpers_predator.models | Current estimator: RandomForestClassifier(bootstrap=False, class_weight='balanced', max_depth=7,\n",
      "                       max_features='sqrt', min_samples_leaf=2,\n",
      "                       min_samples_split=5, n_estimators=280,\n",
      "                       random_state=97081)\n",
      "2021-11-02 10:17:13 |\u001b[36m DEBUG    \u001b[0m| helpers.helpers_predator.models | X shape: (2435, 10)\n",
      "2021-11-02 10:17:13 |\u001b[36m DEBUG    \u001b[0m| helpers.helpers_predator.models | Current estimator: RandomForestClassifier(bootstrap=False, max_depth=3, max_features='sqrt',\n",
      "                       min_samples_leaf=2, n_estimators=60, random_state=71483)\n",
      "2021-11-02 10:17:13 |\u001b[36m DEBUG    \u001b[0m| helpers.helpers_predator.models | X shape: (2435, 10)\n",
      "2021-11-02 10:17:13 |\u001b[36m DEBUG    \u001b[0m| helpers.helpers_predator.models | Current estimator: RandomForestClassifier(class_weight='balanced', max_depth=2,\n",
      "                       max_features='sqrt', min_samples_leaf=4,\n",
      "                       n_estimators=440, random_state=11396)\n",
      "2021-11-02 10:17:13 |\u001b[36m DEBUG    \u001b[0m| helpers.helpers_predator.models | X shape: (2435, 10)\n",
      "2021-11-02 10:17:14 |\u001b[36m DEBUG    \u001b[0m| helpers.helpers_predator.models | Current estimator: RandomForestClassifier(bootstrap=False, max_depth=6, min_samples_leaf=2,\n",
      "                       min_samples_split=5, n_estimators=80,\n",
      "                       random_state=77398)\n",
      "2021-11-02 10:17:14 |\u001b[36m DEBUG    \u001b[0m| helpers.helpers_predator.models | X shape: (2435, 10)\n",
      "2021-11-02 10:17:14 |\u001b[36m DEBUG    \u001b[0m| helpers.helpers_predator.models | Current estimator: RandomForestClassifier(max_depth=8, max_features='sqrt', min_samples_split=5,\n",
      "                       n_estimators=20, random_state=55303)\n",
      "2021-11-02 10:17:14 |\u001b[36m DEBUG    \u001b[0m| helpers.helpers_predator.models | X shape: (2435, 10)\n",
      "2021-11-02 10:17:14 |\u001b[36m DEBUG    \u001b[0m| helpers.helpers_predator.models | Current estimator: RandomForestClassifier(class_weight='balanced', max_depth=4,\n",
      "                       min_samples_split=5, random_state=4166)\n",
      "2021-11-02 10:17:14 |\u001b[36m DEBUG    \u001b[0m| helpers.helpers_predator.models | X shape: (2435, 10)\n",
      "2021-11-02 10:17:14 |\u001b[36m DEBUG    \u001b[0m| helpers.helpers_predator.models | Current estimator: RandomForestClassifier(bootstrap=False, max_depth=13, max_features='sqrt',\n",
      "                       min_samples_split=5, n_estimators=380,\n",
      "                       random_state=12281)\n",
      "2021-11-02 10:17:14 |\u001b[36m DEBUG    \u001b[0m| helpers.helpers_predator.models | X shape: (2435, 10)\n",
      "2021-11-02 10:17:14 |\u001b[36m DEBUG    \u001b[0m| helpers.helpers_predator.models | Current estimator: RandomForestClassifier(bootstrap=False, class_weight='balanced', max_depth=4,\n",
      "                       max_features='sqrt', n_estimators=10,\n",
      "                       random_state=28658)\n",
      "2021-11-02 10:17:14 |\u001b[36m DEBUG    \u001b[0m| helpers.helpers_predator.models | X shape: (2435, 10)\n",
      "2021-11-02 10:17:14 |\u001b[36m DEBUG    \u001b[0m| helpers.helpers_predator.models | Current estimator: RandomForestClassifier(class_weight='balanced', max_depth=3, min_samples_leaf=2,\n",
      "                       n_estimators=30, random_state=30496)\n",
      "2021-11-02 10:17:14 |\u001b[36m DEBUG    \u001b[0m| helpers.helpers_predator.models | X shape: (2435, 10)\n",
      "2021-11-02 10:17:14 |\u001b[36m DEBUG    \u001b[0m| helpers.helpers_predator.models | Current estimator: RandomForestClassifier(class_weight='balanced', max_depth=11,\n",
      "                       min_samples_leaf=4, n_estimators=120,\n",
      "                       random_state=66238)\n",
      "2021-11-02 10:17:14 |\u001b[36m DEBUG    \u001b[0m| helpers.helpers_predator.models | X shape: (2435, 10)\n",
      "2021-11-02 10:17:14 |\u001b[36m DEBUG    \u001b[0m| helpers.helpers_predator.models | Current estimator: RandomForestClassifier(class_weight='balanced', max_depth=2,\n",
      "                       max_features='sqrt', n_estimators=340,\n",
      "                       random_state=3479)\n",
      "2021-11-02 10:17:14 |\u001b[36m DEBUG    \u001b[0m| helpers.helpers_predator.models | X shape: (2435, 10)\n",
      "2021-11-02 10:17:14 |\u001b[36m DEBUG    \u001b[0m| helpers.helpers_predator.models | Current estimator: RandomForestClassifier(class_weight='balanced', max_depth=3,\n",
      "                       max_features='sqrt', min_samples_leaf=4,\n",
      "                       n_estimators=480, random_state=26063)\n",
      "2021-11-02 10:17:14 |\u001b[36m DEBUG    \u001b[0m| helpers.helpers_predator.models | X shape: (2435, 10)\n",
      "2021-11-02 10:17:14 |\u001b[36m DEBUG    \u001b[0m| helpers.helpers_predator.models | Current estimator: RandomForestClassifier(class_weight='balanced', max_depth=3, min_samples_leaf=2,\n",
      "                       n_estimators=560, random_state=85182)\n",
      "2021-11-02 10:17:14 |\u001b[36m DEBUG    \u001b[0m| helpers.helpers_predator.models | X shape: (2435, 10)\n",
      "2021-11-02 10:17:14 |\u001b[36m DEBUG    \u001b[0m| helpers.helpers_predator.models | Current estimator: RandomForestClassifier(class_weight='balanced', max_depth=13,\n",
      "                       min_samples_leaf=4, min_samples_split=5, n_estimators=40,\n",
      "                       random_state=91925)\n",
      "2021-11-02 10:17:14 |\u001b[36m DEBUG    \u001b[0m| helpers.helpers_predator.models | X shape: (2435, 10)\n",
      "2021-11-02 10:17:14 |\u001b[36m DEBUG    \u001b[0m| helpers.helpers_predator.models | Current estimator: RandomForestClassifier(class_weight='balanced', max_depth=2, min_samples_leaf=4,\n",
      "                       min_samples_split=5, n_estimators=280,\n",
      "                       random_state=54988)\n",
      "2021-11-02 10:17:14 |\u001b[36m DEBUG    \u001b[0m| helpers.helpers_predator.models | X shape: (2435, 10)\n",
      "2021-11-02 10:17:14 |\u001b[36m DEBUG    \u001b[0m| helpers.helpers_predator.models | Current estimator: RandomForestClassifier(class_weight='balanced', max_depth=11,\n",
      "                       max_features='sqrt', min_samples_leaf=2,\n",
      "                       min_samples_split=5, n_estimators=360,\n",
      "                       random_state=58879)\n",
      "2021-11-02 10:17:14 |\u001b[36m DEBUG    \u001b[0m| helpers.helpers_predator.models | X shape: (2435, 10)\n",
      "2021-11-02 10:17:14 |\u001b[36m DEBUG    \u001b[0m| helpers.helpers_predator.models | Current estimator: RandomForestClassifier(max_depth=7, n_estimators=20, random_state=77237)\n",
      "2021-11-02 10:17:14 |\u001b[36m DEBUG    \u001b[0m| helpers.helpers_predator.models | X shape: (2435, 10)\n",
      "2021-11-02 10:17:14 |\u001b[36m DEBUG    \u001b[0m| helpers.helpers_predator.models | Current estimator: RandomForestClassifier(bootstrap=False, max_depth=14, min_samples_leaf=4,\n",
      "                       min_samples_split=5, n_estimators=20, random_state=852)\n",
      "2021-11-02 10:17:14 |\u001b[36m DEBUG    \u001b[0m| helpers.helpers_predator.models | X shape: (2435, 10)\n",
      "2021-11-02 10:17:14 |\u001b[36m DEBUG    \u001b[0m| helpers.helpers_predator.models | Current estimator: RandomForestClassifier(class_weight='balanced', max_depth=8,\n",
      "                       max_features='sqrt', min_samples_leaf=4,\n",
      "                       min_samples_split=5, n_estimators=520,\n",
      "                       random_state=99459)\n",
      "2021-11-02 10:17:14 |\u001b[36m DEBUG    \u001b[0m| helpers.helpers_predator.models | X shape: (2435, 10)\n",
      "2021-11-02 10:17:15 |\u001b[36m DEBUG    \u001b[0m| helpers.helpers_predator.models | Current estimator: RandomForestClassifier(class_weight='balanced', max_depth=6, min_samples_leaf=4,\n",
      "                       min_samples_split=5, n_estimators=260,\n",
      "                       random_state=20927)\n",
      "2021-11-02 10:17:15 |\u001b[36m DEBUG    \u001b[0m| helpers.helpers_predator.models | X shape: (2435, 10)\n",
      "2021-11-02 10:17:15 |\u001b[36m DEBUG    \u001b[0m| helpers.helpers_predator.models | Current estimator: RandomForestClassifier(max_depth=9, min_samples_leaf=4, n_estimators=580,\n",
      "                       random_state=55393)\n",
      "2021-11-02 10:17:15 |\u001b[36m DEBUG    \u001b[0m| helpers.helpers_predator.models | X shape: (2435, 10)\n",
      "2021-11-02 10:17:15 |\u001b[36m DEBUG    \u001b[0m| helpers.helpers_predator.models | Current estimator: RandomForestClassifier(bootstrap=False, class_weight='balanced', max_depth=7,\n",
      "                       min_samples_split=5, n_estimators=140,\n",
      "                       random_state=36422)\n",
      "2021-11-02 10:17:15 |\u001b[36m DEBUG    \u001b[0m| helpers.helpers_predator.models | X shape: (2435, 10)\n",
      "2021-11-02 10:17:15 |\u001b[36m DEBUG    \u001b[0m| helpers.helpers_predator.models | Current estimator: RandomForestClassifier(bootstrap=False, max_depth=11, n_estimators=540,\n",
      "                       random_state=20380)\n",
      "2021-11-02 10:17:15 |\u001b[36m DEBUG    \u001b[0m| helpers.helpers_predator.models | X shape: (2435, 10)\n",
      "2021-11-02 10:17:15 |\u001b[36m DEBUG    \u001b[0m| helpers.helpers_predator.models | Current estimator: RandomForestClassifier(class_weight='balanced', max_depth=8, min_samples_leaf=2,\n",
      "                       n_estimators=5, random_state=28222)\n",
      "2021-11-02 10:17:15 |\u001b[36m DEBUG    \u001b[0m| helpers.helpers_predator.models | X shape: (2435, 10)\n",
      "2021-11-02 10:17:15 |\u001b[36m DEBUG    \u001b[0m| helpers.helpers_predator.models | Current estimator: RandomForestClassifier(class_weight='balanced', max_depth=6,\n",
      "                       min_samples_split=5, n_estimators=560,\n",
      "                       random_state=44119)\n",
      "2021-11-02 10:17:15 |\u001b[36m DEBUG    \u001b[0m| helpers.helpers_predator.models | X shape: (2435, 10)\n",
      "2021-11-02 10:17:15 |\u001b[36m DEBUG    \u001b[0m| helpers.helpers_predator.models | Current estimator: RandomForestClassifier(class_weight='balanced', max_depth=10,\n",
      "                       max_features='sqrt', min_samples_leaf=4,\n",
      "                       n_estimators=320, random_state=13397)\n",
      "2021-11-02 10:17:15 |\u001b[36m DEBUG    \u001b[0m| helpers.helpers_predator.models | X shape: (2435, 10)\n",
      "2021-11-02 10:17:15 |\u001b[36m DEBUG    \u001b[0m| helpers.helpers_predator.models | Current estimator: RandomForestClassifier(class_weight='balanced', max_depth=3,\n",
      "                       max_features='sqrt', min_samples_split=5,\n",
      "                       n_estimators=120, random_state=12157)\n",
      "2021-11-02 10:17:15 |\u001b[36m DEBUG    \u001b[0m| helpers.helpers_predator.models | X shape: (2435, 10)\n",
      "2021-11-02 10:17:15 |\u001b[36m DEBUG    \u001b[0m| helpers.helpers_predator.models | Current estimator: RandomForestClassifier(bootstrap=False, class_weight='balanced', max_depth=2,\n",
      "                       min_samples_split=5, n_estimators=360,\n",
      "                       random_state=49798)\n",
      "2021-11-02 10:17:15 |\u001b[36m DEBUG    \u001b[0m| helpers.helpers_predator.models | X shape: (2435, 10)\n",
      "2021-11-02 10:17:15 |\u001b[36m DEBUG    \u001b[0m| helpers.helpers_predator.models | Current estimator: RandomForestClassifier(bootstrap=False, class_weight='balanced', max_depth=2,\n",
      "                       min_samples_leaf=2, min_samples_split=5, n_estimators=40,\n",
      "                       random_state=12677)\n",
      "2021-11-02 10:17:15 |\u001b[36m DEBUG    \u001b[0m| helpers.helpers_predator.models | X shape: (2435, 10)\n",
      "2021-11-02 10:17:15 |\u001b[36m DEBUG    \u001b[0m| helpers.helpers_predator.models | Current estimator: RandomForestClassifier(bootstrap=False, class_weight='balanced', max_depth=5,\n",
      "                       min_samples_leaf=4, min_samples_split=5,\n",
      "                       n_estimators=120, random_state=47053)\n",
      "2021-11-02 10:17:15 |\u001b[36m DEBUG    \u001b[0m| helpers.helpers_predator.models | X shape: (2435, 10)\n",
      "2021-11-02 10:17:16 |\u001b[36m DEBUG    \u001b[0m| helpers.helpers_predator.predictions | PredictionsSoft\n",
      "2021-11-02 10:17:16 |\u001b[36m DEBUG    \u001b[0m| helpers.helpers_predator.predictions | Predicting probabilities on esca cohort ..\n",
      "2021-11-02 10:17:16 |\u001b[36m DEBUG    \u001b[0m| helpers.helpers_predator.predictions | Adding key `esca_prob` to self.predictions\n"
     ]
    }
   ],
   "source": [
    "predator.predict(voting='soft')"
   ]
  },
  {
   "cell_type": "code",
   "execution_count": 24,
   "id": "341a1a27-928b-47ae-9d45-69ec13771b81",
   "metadata": {},
   "outputs": [
    {
     "data": {
      "text/plain": [
       "dict_keys(['esca_prob'])"
      ]
     },
     "execution_count": 24,
     "metadata": {},
     "output_type": "execute_result"
    }
   ],
   "source": [
    "predator.predictions.keys()"
   ]
  },
  {
   "cell_type": "code",
   "execution_count": 25,
   "id": "d7054f49-ad45-408f-88b4-0e608fc81e81",
   "metadata": {},
   "outputs": [
    {
     "data": {
      "text/plain": [
       "[array([[0.45337932, 0.54662068],\n",
       "        [0.45337932, 0.54662068],\n",
       "        [0.45337932, 0.54662068],\n",
       "        ...,\n",
       "        [0.22116647, 0.77883353],\n",
       "        [0.04953503, 0.95046497],\n",
       "        [0.20726783, 0.79273217]]),\n",
       " array([[1.        , 0.        ],\n",
       "        [1.        , 0.        ],\n",
       "        [1.        , 0.        ],\n",
       "        ...,\n",
       "        [0.68333333, 0.31666667],\n",
       "        [0.        , 1.        ],\n",
       "        [0.        , 1.        ]]),\n",
       " array([[0.38534041, 0.61465959],\n",
       "        [0.38534041, 0.61465959],\n",
       "        [0.38534041, 0.61465959],\n",
       "        ...,\n",
       "        [0.70400771, 0.29599229],\n",
       "        [0.25235449, 0.74764551],\n",
       "        [0.23916397, 0.76083603]])]"
      ]
     },
     "execution_count": 25,
     "metadata": {},
     "output_type": "execute_result"
    }
   ],
   "source": [
    "# Predictions for first 10 experiment.\n",
    "predator.predictions[\"esca_prob\"][:3]"
   ]
  },
  {
   "cell_type": "markdown",
   "id": "83e49c0d-9f61-4f48-a23d-8a21e9875041",
   "metadata": {},
   "source": [
    "#### Predictions Post Processing"
   ]
  },
  {
   "cell_type": "markdown",
   "id": "3d18567f-1748-4446-bb12-8062515f02bd",
   "metadata": {},
   "source": [
    "Post processing of predictions involves following steps:"
   ]
  },
  {
   "cell_type": "markdown",
   "id": "45aad6d0-0e73-413e-8b32-fbcb2bcc5426",
   "metadata": {},
   "source": [
    "##### 1. Merging Predictions with SNV Data"
   ]
  },
  {
   "cell_type": "markdown",
   "id": "ba9bda7c-5736-4c44-8663-ec63927976db",
   "metadata": {},
   "source": [
    "The prediction column is merged with SNV data for each experiment.\n",
    "\n",
    "$\\text{For each experiment } n: $\n",
    "\n",
    "$$\n",
    "  \\textit{(Prediction Merged Data)}_n = \\underbrace{[\\textit{Predictions}_n]}_\\text{Probs Percentages} + \n",
    "      \\underbrace{[\\textit{Protein }] [\\textit{Mutation }] [\\textit{Interactor }]}_\\text{Cancer Data Triplets} + \\underbrace{[\\textit{Features }] }_\\text{Elaspic}\n",
    "$$\n"
   ]
  },
  {
   "cell_type": "markdown",
   "id": "8b14c7d7-914f-40af-b695-b962c33ed9ee",
   "metadata": {
    "tags": []
   },
   "source": [
    "##### 2. Convert to 1-isomer: `Interactor_UniProt_ID`"
   ]
  },
  {
   "cell_type": "markdown",
   "id": "36c9284b-0d5d-4c41-b2d9-7274d9141f6a",
   "metadata": {},
   "source": [
    "$\\textit{Interactor_UniProt_ID}$ column contains isomer proteins. Here, we convert them into primary isoform representation (i.e. without dashes)."
   ]
  },
  {
   "cell_type": "markdown",
   "id": "2314ef86-e11b-43ce-a9ee-8d3d39420d3d",
   "metadata": {},
   "source": [
    "| Interactor_UniProt_ID |\n",
    "--------------\n",
    "| P38936     |\n",
    "| P16473     |\n",
    "| P16473-2   |\n",
    "| P19793     |"
   ]
  },
  {
   "cell_type": "markdown",
   "id": "ac37c712-d832-4450-8852-a9df5712c194",
   "metadata": {},
   "source": [
    "##### 3. Dropping Invalid Predictions"
   ]
  },
  {
   "cell_type": "markdown",
   "id": "b0070463-25c2-40ca-8de7-1373d6f6721d",
   "metadata": {},
   "source": [
    "Entries whose predicted class-1 probability lies in both `Decreasing` and `Increasing+NoEff` are dropped."
   ]
  },
  {
   "cell_type": "markdown",
   "id": "e7d2ea0c-5864-4a45-b2da-c41c27903fbe",
   "metadata": {},
   "source": [
    "Due to having different features for the same $\\textit{(protein, mutation, interactor)}$ triplet from ELASPIC, the triplet $\\textit{(protein, mutation, interactor)}$ may contain class-1 probability prediction of both lower than 0.50 and higher than 50. We drop such instances."
   ]
  },
  {
   "cell_type": "code",
   "execution_count": 26,
   "id": "ee5ffd8b-af50-481e-b90f-fc0548568727",
   "metadata": {
    "scrolled": true,
    "tags": []
   },
   "outputs": [
    {
     "name": "stdout",
     "output_type": "stream",
     "text": [
      "2021-11-02 10:17:21 |\u001b[36m DEBUG    \u001b[0m| helpers.helpers_predator.predictions | PredictionsSoft\n",
      "2021-11-02 10:17:21 |\u001b[36m DEBUG    \u001b[0m| helpers.helpers_predator.predictions | Post processing predictions for cohort esca ..\n",
      "2021-11-02 10:17:21 |\u001b[36m DEBUG    \u001b[0m| helpers.helpers_predator.predictions | PredictionsSoft\n",
      "2021-11-02 10:17:21 |\u001b[36m DEBUG    \u001b[0m| helpers.helpers_predator.predictions | Merging predictions with esca cancer dataset ..\n",
      "2021-11-02 10:17:21 |\u001b[36m DEBUG    \u001b[0m| helpers.helpers_predator.predictions | Handling valid and invalid entries ..\n"
     ]
    },
    {
     "data": {
      "application/vnd.jupyter.widget-view+json": {
       "model_id": "3986a945b2f64e0fbbd3f2be96bb376f",
       "version_major": 2,
       "version_minor": 0
      },
      "text/plain": [
       "  0%|          | 0/37 [00:00<?, ?it/s]"
      ]
     },
     "metadata": {},
     "output_type": "display_data"
    },
    {
     "name": "stdout",
     "output_type": "stream",
     "text": [
      "2021-11-02 10:17:26 |\u001b[36m DEBUG    \u001b[0m| helpers.helpers_predator.predictions_utils | Removed entries first five rows (of 367): \n",
      "   PREDICTION PROTEIN MUTATION INTERACTOR\n",
      "0    0.647123  P61088     E61K     O95628\n",
      "1    0.468899  P61088     E61K     O95628\n",
      "2    0.468899  P61088     E61K     O95628\n",
      "3    0.327881  P61088     E61K     O95628\n",
      "4    0.468899  P61088     E61K     O95628\n",
      "2021-11-02 10:17:31 |\u001b[36m DEBUG    \u001b[0m| helpers.helpers_predator.predictions_utils | Removed entries first five rows (of 335): \n",
      "   PREDICTION PROTEIN MUTATION INTERACTOR\n",
      "0         1.0  P61088     E61K     Q96PU5\n",
      "1         0.0  P61088     E61K     Q96PU5\n",
      "2         0.0  P61088     E61K     Q96PU5\n",
      "3         0.0  P61088     E61K     Q96PU5\n",
      "4         0.0  P61088     E61K     Q96PU5\n",
      "2021-11-02 10:17:35 |\u001b[36m DEBUG    \u001b[0m| helpers.helpers_predator.predictions_utils | Removed entries first five rows (of 307): \n",
      "   PREDICTION PROTEIN MUTATION INTERACTOR\n",
      "0    0.722175  P61088     E61K     O95628\n",
      "1    0.604506  P61088     E61K     O95628\n",
      "2    0.604506  P61088     E61K     O95628\n",
      "3    0.281549  P61088     E61K     O95628\n",
      "4    0.604506  P61088     E61K     O95628\n",
      "2021-11-02 10:17:40 |\u001b[36m DEBUG    \u001b[0m| helpers.helpers_predator.predictions_utils | Removed entries first five rows (of 298): \n",
      "   PREDICTION PROTEIN MUTATION INTERACTOR\n",
      "0    0.654458  P61088     E61K     O95628\n",
      "1    0.592292  P61088     E61K     O95628\n",
      "2    0.592292  P61088     E61K     O95628\n",
      "3    0.415233  P61088     E61K     O95628\n",
      "4    0.592292  P61088     E61K     O95628\n",
      "2021-11-02 10:17:46 |\u001b[36m DEBUG    \u001b[0m| helpers.helpers_predator.predictions_utils | Removed entries first five rows (of 388): \n",
      "   PREDICTION PROTEIN MUTATION INTERACTOR\n",
      "0    0.696199  P61088     E61K     Q96PU5\n",
      "1    0.635909  P61088     E61K     Q96PU5\n",
      "2    0.635909  P61088     E61K     Q96PU5\n",
      "3    0.635909  P61088     E61K     Q96PU5\n",
      "4    0.448445  P61088     E61K     Q96PU5\n",
      "2021-11-02 10:17:52 |\u001b[36m DEBUG    \u001b[0m| helpers.helpers_predator.predictions_utils | Removed entries first five rows (of 257): \n",
      "   PREDICTION PROTEIN MUTATION INTERACTOR\n",
      "0    0.662836  P61088     E61K     O95628\n",
      "1    0.553363  P61088     E61K     O95628\n",
      "2    0.553363  P61088     E61K     O95628\n",
      "3    0.442117  P61088     E61K     O95628\n",
      "4    0.553363  P61088     E61K     O95628\n",
      "2021-11-02 10:17:58 |\u001b[36m DEBUG    \u001b[0m| helpers.helpers_predator.predictions_utils | Removed entries first five rows (of 343): \n",
      "   PREDICTION PROTEIN MUTATION INTERACTOR\n",
      "0    0.578778  P61088     E61K     O95628\n",
      "1    0.509897  P61088     E61K     O95628\n",
      "2    0.509897  P61088     E61K     O95628\n",
      "3    0.357321  P61088     E61K     O95628\n",
      "4    0.509897  P61088     E61K     O95628\n",
      "2021-11-02 10:18:04 |\u001b[36m DEBUG    \u001b[0m| helpers.helpers_predator.predictions_utils | Removed entries first five rows (of 428): \n",
      "   PREDICTION PROTEIN MUTATION INTERACTOR\n",
      "0    0.563183  P61088     E61K     O95628\n",
      "1    0.518359  P61088     E61K     O95628\n",
      "2    0.518359  P61088     E61K     O95628\n",
      "3    0.326095  P61088     E61K     O95628\n",
      "4    0.518359  P61088     E61K     O95628\n",
      "2021-11-02 10:18:08 |\u001b[36m DEBUG    \u001b[0m| helpers.helpers_predator.predictions_utils | Removed entries first five rows (of 174): \n",
      "   PREDICTION PROTEIN MUTATION INTERACTOR\n",
      "0    0.487832  P00749    R199K     P00747\n",
      "1    0.692058  P00749    R199K     P00747\n",
      "2    0.557009  O43791    A216T     Q05516\n",
      "3    0.391624  O43791    A216T     Q05516\n",
      "4    0.387588  P63000     I33F     Q68EM7\n",
      "2021-11-02 10:18:17 |\u001b[36m DEBUG    \u001b[0m| helpers.helpers_predator.predictions_utils | Removed entries first five rows (of 352): \n",
      "   PREDICTION PROTEIN MUTATION INTERACTOR\n",
      "0    0.586639  P61088     E61K     O95628\n",
      "1    0.408621  P61088     E61K     O95628\n",
      "2    0.408621  P61088     E61K     O95628\n",
      "3    0.310166  P61088     E61K     O95628\n",
      "4    0.408621  P61088     E61K     O95628\n",
      "2021-11-02 10:18:23 |\u001b[36m DEBUG    \u001b[0m| helpers.helpers_predator.predictions_utils | Removed entries first five rows (of 342): \n",
      "   PREDICTION PROTEIN MUTATION INTERACTOR\n",
      "0    0.627499  P61088     E61K     O95628\n",
      "1    0.500042  P61088     E61K     O95628\n",
      "2    0.500042  P61088     E61K     O95628\n",
      "3    0.228125  P61088     E61K     O95628\n",
      "4    0.500042  P61088     E61K     O95628\n",
      "2021-11-02 10:18:27 |\u001b[36m DEBUG    \u001b[0m| helpers.helpers_predator.predictions_utils | Removed entries first five rows (of 286): \n",
      "   PREDICTION PROTEIN MUTATION INTERACTOR\n",
      "0    0.550000  P61088     E61K     O95628\n",
      "1    0.569405  P61088     E61K     O95628\n",
      "2    0.569405  P61088     E61K     O95628\n",
      "3    0.246071  P61088     E61K     O95628\n",
      "4    0.569405  P61088     E61K     O95628\n",
      "2021-11-02 10:18:32 |\u001b[36m DEBUG    \u001b[0m| helpers.helpers_predator.predictions_utils | Removed entries first five rows (of 279): \n",
      "   PREDICTION PROTEIN MUTATION INTERACTOR\n",
      "0    0.712943  P61088     E61K     O95628\n",
      "1    0.567881  P61088     E61K     O95628\n",
      "2    0.567881  P61088     E61K     O95628\n",
      "3    0.376972  P61088     E61K     O95628\n",
      "4    0.567881  P61088     E61K     O95628\n",
      "2021-11-02 10:18:36 |\u001b[36m DEBUG    \u001b[0m| helpers.helpers_predator.predictions_utils | Removed entries first five rows (of 256): \n",
      "   PREDICTION PROTEIN MUTATION INTERACTOR\n",
      "0    0.608991  P61088     E61K     O95628\n",
      "1    0.541667  P61088     E61K     O95628\n",
      "2    0.541667  P61088     E61K     O95628\n",
      "3    0.355702  P61088     E61K     O95628\n",
      "4    0.541667  P61088     E61K     O95628\n",
      "2021-11-02 10:18:40 |\u001b[36m DEBUG    \u001b[0m| helpers.helpers_predator.predictions_utils | Removed entries first five rows (of 405): \n",
      "   PREDICTION PROTEIN MUTATION INTERACTOR\n",
      "0    0.780960  P61088     E61K     O95628\n",
      "1    0.372341  P61088     E61K     O95628\n",
      "2    0.372341  P61088     E61K     O95628\n",
      "3    0.325621  P61088     E61K     O95628\n",
      "4    0.372341  P61088     E61K     O95628\n",
      "2021-11-02 10:18:44 |\u001b[36m DEBUG    \u001b[0m| helpers.helpers_predator.predictions_utils | Removed entries first five rows (of 267): \n",
      "   PREDICTION PROTEIN MUTATION INTERACTOR\n",
      "0    0.577011  P61088     E61K     O95628\n",
      "1    0.498596  P61088     E61K     O95628\n",
      "2    0.498596  P61088     E61K     O95628\n",
      "3    0.461631  P61088     E61K     O95628\n",
      "4    0.498596  P61088     E61K     O95628\n",
      "2021-11-02 10:18:48 |\u001b[36m DEBUG    \u001b[0m| helpers.helpers_predator.predictions_utils | Removed entries first five rows (of 330): \n",
      "   PREDICTION PROTEIN MUTATION INTERACTOR\n",
      "0    0.718352  P61088     E61K     O95628\n",
      "1    0.594479  P61088     E61K     O95628\n",
      "2    0.594479  P61088     E61K     O95628\n",
      "3    0.346544  P61088     E61K     O95628\n",
      "4    0.594479  P61088     E61K     O95628\n",
      "2021-11-02 10:18:52 |\u001b[36m DEBUG    \u001b[0m| helpers.helpers_predator.predictions_utils | Removed entries first five rows (of 301): \n",
      "   PREDICTION PROTEIN MUTATION INTERACTOR\n",
      "0    0.573747  P61088     E61K     O95628\n",
      "1    0.463509  P61088     E61K     O95628\n",
      "2    0.463509  P61088     E61K     O95628\n",
      "3    0.280454  P61088     E61K     O95628\n",
      "4    0.463509  P61088     E61K     O95628\n",
      "2021-11-02 10:18:56 |\u001b[36m DEBUG    \u001b[0m| helpers.helpers_predator.predictions_utils | Removed entries first five rows (of 338): \n",
      "   PREDICTION PROTEIN MUTATION INTERACTOR\n",
      "0    0.634385  P61088     E61K     O95628\n",
      "1    0.500935  P61088     E61K     O95628\n",
      "2    0.500935  P61088     E61K     O95628\n",
      "3    0.387984  P61088     E61K     O95628\n",
      "4    0.500935  P61088     E61K     O95628\n",
      "2021-11-02 10:19:00 |\u001b[36m DEBUG    \u001b[0m| helpers.helpers_predator.predictions_utils | Removed entries first five rows (of 380): \n",
      "   PREDICTION PROTEIN MUTATION INTERACTOR\n",
      "0    0.749766  P61088     E61K     O95628\n",
      "1    0.429305  P61088     E61K     O95628\n",
      "2    0.429305  P61088     E61K     O95628\n",
      "3    0.268547  P61088     E61K     O95628\n",
      "4    0.429305  P61088     E61K     O95628\n",
      "2021-11-02 10:19:05 |\u001b[36m DEBUG    \u001b[0m| helpers.helpers_predator.predictions_utils | Removed entries first five rows (of 341): \n",
      "   PREDICTION PROTEIN MUTATION INTERACTOR\n",
      "0    0.673936  P61088     E61K     O95628\n",
      "1    0.497022  P61088     E61K     O95628\n",
      "2    0.497022  P61088     E61K     O95628\n",
      "3    0.379171  P61088     E61K     O95628\n",
      "4    0.497022  P61088     E61K     O95628\n",
      "2021-11-02 10:19:09 |\u001b[36m DEBUG    \u001b[0m| helpers.helpers_predator.predictions_utils | Removed entries first five rows (of 239): \n",
      "   PREDICTION PROTEIN MUTATION INTERACTOR\n",
      "0    0.642365  P61088     E61K     O95628\n",
      "1    0.551517  P61088     E61K     O95628\n",
      "2    0.551517  P61088     E61K     O95628\n",
      "3    0.410366  P61088     E61K     O95628\n",
      "4    0.551517  P61088     E61K     O95628\n",
      "2021-11-02 10:19:13 |\u001b[36m DEBUG    \u001b[0m| helpers.helpers_predator.predictions_utils | Removed entries first five rows (of 297): \n",
      "   PREDICTION PROTEIN MUTATION INTERACTOR\n",
      "0    0.662188  P61088     E61K     O95628\n",
      "1    0.472560  P61088     E61K     O95628\n",
      "2    0.472560  P61088     E61K     O95628\n",
      "3    0.396242  P61088     E61K     O95628\n",
      "4    0.472560  P61088     E61K     O95628\n",
      "2021-11-02 10:19:18 |\u001b[36m DEBUG    \u001b[0m| helpers.helpers_predator.predictions_utils | Removed entries first five rows (of 372): \n",
      "   PREDICTION PROTEIN MUTATION INTERACTOR\n",
      "0    0.631088  P61088     E61K     O95628\n",
      "1    0.486167  P61088     E61K     O95628\n",
      "2    0.486167  P61088     E61K     O95628\n",
      "3    0.300000  P61088     E61K     O95628\n",
      "4    0.486167  P61088     E61K     O95628\n",
      "2021-11-02 10:19:23 |\u001b[36m DEBUG    \u001b[0m| helpers.helpers_predator.predictions_utils | Removed entries first five rows (of 306): \n",
      "   PREDICTION PROTEIN MUTATION INTERACTOR\n",
      "0    0.529167  P61088     E61K     O95628\n",
      "1    0.402381  P61088     E61K     O95628\n",
      "2    0.402381  P61088     E61K     O95628\n",
      "3    0.310000  P61088     E61K     O95628\n",
      "4    0.402381  P61088     E61K     O95628\n",
      "2021-11-02 10:19:27 |\u001b[36m DEBUG    \u001b[0m| helpers.helpers_predator.predictions_utils | Removed entries first five rows (of 303): \n",
      "   PREDICTION PROTEIN MUTATION INTERACTOR\n",
      "0    0.565514  P61088     E61K     O95628\n",
      "1    0.328652  P61088     E61K     O95628\n",
      "2    0.328652  P61088     E61K     O95628\n",
      "3    0.219508  P61088     E61K     O95628\n",
      "4    0.328652  P61088     E61K     O95628\n",
      "2021-11-02 10:19:32 |\u001b[36m DEBUG    \u001b[0m| helpers.helpers_predator.predictions_utils | Removed entries first five rows (of 294): \n",
      "   PREDICTION PROTEIN MUTATION INTERACTOR\n",
      "0    0.653282  P61088     E61K     O95628\n",
      "1    0.562950  P61088     E61K     O95628\n",
      "2    0.562950  P61088     E61K     O95628\n",
      "3    0.359334  P61088     E61K     O95628\n",
      "4    0.562950  P61088     E61K     O95628\n",
      "2021-11-02 10:19:36 |\u001b[36m DEBUG    \u001b[0m| helpers.helpers_predator.predictions_utils | Removed entries first five rows (of 246): \n",
      "   PREDICTION PROTEIN MUTATION INTERACTOR\n",
      "0    0.508515  P61088     E61K     Q96PU5\n",
      "1    0.512857  P61088     E61K     Q96PU5\n",
      "2    0.512857  P61088     E61K     Q96PU5\n",
      "3    0.512857  P61088     E61K     Q96PU5\n",
      "4    0.476603  P61088     E61K     Q96PU5\n",
      "2021-11-02 10:19:41 |\u001b[36m DEBUG    \u001b[0m| helpers.helpers_predator.predictions_utils | Removed entries first five rows (of 329): \n",
      "   PREDICTION PROTEIN MUTATION INTERACTOR\n",
      "0    0.448133  P00749    R199K     P00747\n",
      "1    0.895845  P00749    R199K     P00747\n",
      "2    0.349555  P07947    D167H     P02751\n",
      "3    0.407603  P07947    D167H     P02751\n",
      "4    0.599284  P07947    D167H     P02751\n",
      "2021-11-02 10:19:46 |\u001b[36m DEBUG    \u001b[0m| helpers.helpers_predator.predictions_utils | Removed entries first five rows (of 321): \n",
      "   PREDICTION PROTEIN MUTATION INTERACTOR\n",
      "0    0.657872  P61088     E61K     O95628\n",
      "1    0.479630  P61088     E61K     O95628\n",
      "2    0.479630  P61088     E61K     O95628\n",
      "3    0.285185  P61088     E61K     O95628\n",
      "4    0.479630  P61088     E61K     O95628\n",
      "2021-11-02 10:19:50 |\u001b[36m DEBUG    \u001b[0m| helpers.helpers_predator.predictions_utils | Removed entries first five rows (of 428): \n",
      "   PREDICTION PROTEIN MUTATION INTERACTOR\n",
      "0    0.800000  P61088     E61K     O95628\n",
      "1    0.366304  P61088     E61K     O95628\n",
      "2    0.366304  P61088     E61K     O95628\n",
      "3    0.166304  P61088     E61K     O95628\n",
      "4    0.366304  P61088     E61K     O95628\n",
      "2021-11-02 10:19:55 |\u001b[36m DEBUG    \u001b[0m| helpers.helpers_predator.predictions_utils | Removed entries first five rows (of 333): \n",
      "   PREDICTION PROTEIN MUTATION INTERACTOR\n",
      "0    0.732760  P61088     E61K     O95628\n",
      "1    0.629576  P61088     E61K     O95628\n",
      "2    0.629576  P61088     E61K     O95628\n",
      "3    0.452159  P61088     E61K     O95628\n",
      "4    0.629576  P61088     E61K     O95628\n",
      "2021-11-02 10:19:59 |\u001b[36m DEBUG    \u001b[0m| helpers.helpers_predator.predictions_utils | Removed entries first five rows (of 303): \n",
      "   PREDICTION PROTEIN MUTATION INTERACTOR\n",
      "0    0.600230  P61088     E61K     O95628\n",
      "1    0.485044  P61088     E61K     O95628\n",
      "2    0.485044  P61088     E61K     O95628\n",
      "3    0.378543  P61088     E61K     O95628\n",
      "4    0.485044  P61088     E61K     O95628\n",
      "2021-11-02 10:20:03 |\u001b[36m DEBUG    \u001b[0m| helpers.helpers_predator.predictions_utils | Removed entries first five rows (of 241): \n",
      "   PREDICTION PROTEIN MUTATION INTERACTOR\n",
      "0    0.617871  P61088     E61K     O95628\n",
      "1    0.539203  P61088     E61K     O95628\n",
      "2    0.539203  P61088     E61K     O95628\n",
      "3    0.400724  P61088     E61K     O95628\n",
      "4    0.539203  P61088     E61K     O95628\n",
      "2021-11-02 10:20:07 |\u001b[36m DEBUG    \u001b[0m| helpers.helpers_predator.predictions_utils | Removed entries first five rows (of 143): \n",
      "   PREDICTION PROTEIN MUTATION INTERACTOR\n",
      "0    0.442230  O14807     D67N     Q92565\n",
      "1    0.457351  O14807     D67N     Q8TEU7\n",
      "2    0.457351  O14807     D67N     Q8TEU7\n",
      "3    0.560194  O14807     D67N     Q8TEU7\n",
      "4    0.560194  O14807     D67N     Q8TEU7\n",
      "2021-11-02 10:20:11 |\u001b[36m DEBUG    \u001b[0m| helpers.helpers_predator.predictions_utils | Removed entries first five rows (of 224): \n",
      "   PREDICTION PROTEIN MUTATION INTERACTOR\n",
      "0    0.542984  P61088     E61K     O95628\n",
      "1    0.373312  P61088     E61K     O95628\n",
      "2    0.373312  P61088     E61K     O95628\n",
      "3    0.300607  P61088     E61K     O95628\n",
      "4    0.373312  P61088     E61K     O95628\n",
      "2021-11-02 10:20:15 |\u001b[36m DEBUG    \u001b[0m| helpers.helpers_predator.predictions_utils | Removed entries first five rows (of 355): \n",
      "   PREDICTION PROTEIN MUTATION INTERACTOR\n",
      "0    0.724665  P61088     E61K     O95628\n",
      "1    0.437909  P61088     E61K     O95628\n",
      "2    0.437909  P61088     E61K     O95628\n",
      "3    0.300209  P61088     E61K     O95628\n",
      "4    0.437909  P61088     E61K     O95628\n",
      "2021-11-02 10:20:15 |\u001b[36m DEBUG    \u001b[0m| helpers.helpers_predator.predictions | Preparing finalized prediction datasets for esca ..\n",
      "2021-11-02 10:20:15 |\u001b[36m DEBUG    \u001b[0m| helpers.helpers_predator.predictions | Post processing completed for esca.\n"
     ]
    }
   ],
   "source": [
    "predator.predictions_post_process()"
   ]
  },
  {
   "cell_type": "code",
   "execution_count": 27,
   "id": "90683791-df42-47a8-ae9d-6c6ba08bcafd",
   "metadata": {},
   "outputs": [
    {
     "data": {
      "text/plain": [
       "dict_keys(['esca_prob', 'esca_predicted_probs_datasets', 'esca_predicted_valid_datasets', 'esca_predicted_invalid_datasets', 'esca_finalized_prediction_dataframes'])"
      ]
     },
     "execution_count": 27,
     "metadata": {},
     "output_type": "execute_result"
    }
   ],
   "source": [
    "predator.predictions.keys()"
   ]
  },
  {
   "cell_type": "code",
   "execution_count": 28,
   "id": "fcf61287-2498-4b53-ac75-1f6baceed2a3",
   "metadata": {},
   "outputs": [
    {
     "name": "stdout",
     "output_type": "stream",
     "text": [
      "\u001b[36mData dimensions: (2435, 104)\u001b[0m\n"
     ]
    },
    {
     "data": {
      "text/html": [
       "<div>\n",
       "<style scoped>\n",
       "    .dataframe tbody tr th:only-of-type {\n",
       "        vertical-align: middle;\n",
       "    }\n",
       "\n",
       "    .dataframe tbody tr th {\n",
       "        vertical-align: top;\n",
       "    }\n",
       "\n",
       "    .dataframe thead th {\n",
       "        text-align: right;\n",
       "    }\n",
       "</style>\n",
       "<table border=\"1\" class=\"dataframe\">\n",
       "  <thead>\n",
       "    <tr style=\"text-align: right;\">\n",
       "      <th></th>\n",
       "      <th>Prediction</th>\n",
       "      <th>Input_identifier</th>\n",
       "      <th>UniProt_ID</th>\n",
       "      <th>Mutation</th>\n",
       "      <th>Status</th>\n",
       "      <th>Type</th>\n",
       "      <th>COSMIC_mut_ID</th>\n",
       "      <th>ClinVar_mut_ID</th>\n",
       "      <th>UniProt_mut_ID</th>\n",
       "      <th>Domain_name</th>\n",
       "      <th>...</th>\n",
       "      <th>number_of_residues_mut</th>\n",
       "      <th>IntraclashesEnergy1_wt</th>\n",
       "      <th>IntraclashesEnergy1_mut</th>\n",
       "      <th>IntraclashesEnergy2_wt</th>\n",
       "      <th>IntraclashesEnergy2_mut</th>\n",
       "      <th>Interface_hydrophobic_area</th>\n",
       "      <th>Interface_hydrophilic_area</th>\n",
       "      <th>Interface_total_area</th>\n",
       "      <th>Interface_contact_distance_wt</th>\n",
       "      <th>Interface_contact_distance_mut</th>\n",
       "    </tr>\n",
       "  </thead>\n",
       "  <tbody>\n",
       "    <tr>\n",
       "      <th>0</th>\n",
       "      <td>0.546621</td>\n",
       "      <td>P61088</td>\n",
       "      <td>P61088</td>\n",
       "      <td>E61K</td>\n",
       "      <td>done</td>\n",
       "      <td>interface</td>\n",
       "      <td>-</td>\n",
       "      <td>-</td>\n",
       "      <td>-</td>\n",
       "      <td>UQ_con</td>\n",
       "      <td>...</td>\n",
       "      <td>254.0</td>\n",
       "      <td>33.4527</td>\n",
       "      <td>33.4511</td>\n",
       "      <td>40.0177</td>\n",
       "      <td>40.0114</td>\n",
       "      <td>319.225</td>\n",
       "      <td>201.86</td>\n",
       "      <td>521.085</td>\n",
       "      <td>2.612</td>\n",
       "      <td>4.42118</td>\n",
       "    </tr>\n",
       "    <tr>\n",
       "      <th>1</th>\n",
       "      <td>0.546621</td>\n",
       "      <td>P61088</td>\n",
       "      <td>P61088</td>\n",
       "      <td>E61K</td>\n",
       "      <td>done</td>\n",
       "      <td>interface</td>\n",
       "      <td>-</td>\n",
       "      <td>-</td>\n",
       "      <td>-</td>\n",
       "      <td>UQ_con</td>\n",
       "      <td>...</td>\n",
       "      <td>254.0</td>\n",
       "      <td>33.4527</td>\n",
       "      <td>33.4511</td>\n",
       "      <td>40.0177</td>\n",
       "      <td>40.0114</td>\n",
       "      <td>319.225</td>\n",
       "      <td>201.86</td>\n",
       "      <td>521.085</td>\n",
       "      <td>2.612</td>\n",
       "      <td>4.42118</td>\n",
       "    </tr>\n",
       "    <tr>\n",
       "      <th>2</th>\n",
       "      <td>0.546621</td>\n",
       "      <td>P61088</td>\n",
       "      <td>P61088</td>\n",
       "      <td>E61K</td>\n",
       "      <td>done</td>\n",
       "      <td>interface</td>\n",
       "      <td>-</td>\n",
       "      <td>-</td>\n",
       "      <td>-</td>\n",
       "      <td>UQ_con</td>\n",
       "      <td>...</td>\n",
       "      <td>254.0</td>\n",
       "      <td>33.4527</td>\n",
       "      <td>33.4511</td>\n",
       "      <td>40.0177</td>\n",
       "      <td>40.0114</td>\n",
       "      <td>319.225</td>\n",
       "      <td>201.86</td>\n",
       "      <td>521.085</td>\n",
       "      <td>2.612</td>\n",
       "      <td>4.42118</td>\n",
       "    </tr>\n",
       "  </tbody>\n",
       "</table>\n",
       "<p>3 rows × 104 columns</p>\n",
       "</div>"
      ],
      "text/plain": [
       "   Prediction Input_identifier UniProt_ID Mutation Status       Type  \\\n",
       "0    0.546621           P61088     P61088     E61K   done  interface   \n",
       "1    0.546621           P61088     P61088     E61K   done  interface   \n",
       "2    0.546621           P61088     P61088     E61K   done  interface   \n",
       "\n",
       "  COSMIC_mut_ID ClinVar_mut_ID UniProt_mut_ID Domain_name  ...  \\\n",
       "0             -              -              -      UQ_con  ...   \n",
       "1             -              -              -      UQ_con  ...   \n",
       "2             -              -              -      UQ_con  ...   \n",
       "\n",
       "  number_of_residues_mut IntraclashesEnergy1_wt IntraclashesEnergy1_mut  \\\n",
       "0                  254.0                33.4527                 33.4511   \n",
       "1                  254.0                33.4527                 33.4511   \n",
       "2                  254.0                33.4527                 33.4511   \n",
       "\n",
       "   IntraclashesEnergy2_wt  IntraclashesEnergy2_mut Interface_hydrophobic_area  \\\n",
       "0                 40.0177                  40.0114                    319.225   \n",
       "1                 40.0177                  40.0114                    319.225   \n",
       "2                 40.0177                  40.0114                    319.225   \n",
       "\n",
       "  Interface_hydrophilic_area Interface_total_area  \\\n",
       "0                     201.86              521.085   \n",
       "1                     201.86              521.085   \n",
       "2                     201.86              521.085   \n",
       "\n",
       "  Interface_contact_distance_wt Interface_contact_distance_mut  \n",
       "0                         2.612                        4.42118  \n",
       "1                         2.612                        4.42118  \n",
       "2                         2.612                        4.42118  \n",
       "\n",
       "[3 rows x 104 columns]"
      ]
     },
     "metadata": {},
     "output_type": "display_data"
    }
   ],
   "source": [
    "display_data(predator.predictions[\"esca_predicted_probs_datasets\"][0])"
   ]
  },
  {
   "cell_type": "code",
   "execution_count": 29,
   "id": "a603e902-b663-49e2-92c5-e6167cc06699",
   "metadata": {},
   "outputs": [
    {
     "data": {
      "image/png": "[encoded data removed]",
      "text/plain": [
       "<Figure size 1080x360 with 1 Axes>"
      ]
     },
     "metadata": {},
     "output_type": "display_data"
    }
   ],
   "source": [
    "predator.predictions.plot_distribution_valid_vs_invalid(\"esca\")"
   ]
  },
  {
   "cell_type": "code",
   "execution_count": 30,
   "id": "77147287-c7ce-4771-b0ed-e45479644ccb",
   "metadata": {},
   "outputs": [
    {
     "name": "stdout",
     "output_type": "stream",
     "text": [
      "2021-11-02 10:20:16 |\u001b[36m DEBUG    \u001b[0m| helpers.helpers_predator.predictions | Plotting number of finalized predictions per model.\n",
      "Note that following plot shows the number of (protein, mutation, interactor) triplets which had valid prediction.\n"
     ]
    },
    {
     "data": {
      "image/png": "[encoded data removed]",
      "text/plain": [
       "<Figure size 1080x360 with 1 Axes>"
      ]
     },
     "metadata": {},
     "output_type": "display_data"
    }
   ],
   "source": [
    "predator.predictions.plot_num_finalized_predictions(\"esca\")"
   ]
  },
  {
   "cell_type": "code",
   "execution_count": 31,
   "id": "a0762893-11a8-43c7-8b93-1b214a1a85e4",
   "metadata": {},
   "outputs": [
    {
     "name": "stdout",
     "output_type": "stream",
     "text": [
      "\u001b[36mData dimensions: (1564, 4)\u001b[0m\n"
     ]
    },
    {
     "data": {
      "text/html": [
       "<div>\n",
       "<style scoped>\n",
       "    .dataframe tbody tr th:only-of-type {\n",
       "        vertical-align: middle;\n",
       "    }\n",
       "\n",
       "    .dataframe tbody tr th {\n",
       "        vertical-align: top;\n",
       "    }\n",
       "\n",
       "    .dataframe thead th {\n",
       "        text-align: right;\n",
       "    }\n",
       "</style>\n",
       "<table border=\"1\" class=\"dataframe\">\n",
       "  <thead>\n",
       "    <tr style=\"text-align: right;\">\n",
       "      <th></th>\n",
       "      <th>Prediction</th>\n",
       "      <th>UniProt_ID</th>\n",
       "      <th>Mutation</th>\n",
       "      <th>Interactor_UniProt_ID</th>\n",
       "    </tr>\n",
       "  </thead>\n",
       "  <tbody>\n",
       "    <tr>\n",
       "      <th>0</th>\n",
       "      <td>0.546621</td>\n",
       "      <td>P61088</td>\n",
       "      <td>E61K</td>\n",
       "      <td>P38398</td>\n",
       "    </tr>\n",
       "    <tr>\n",
       "      <th>1</th>\n",
       "      <td>0.846558</td>\n",
       "      <td>P61088</td>\n",
       "      <td>E61K</td>\n",
       "      <td>Q96PU5</td>\n",
       "    </tr>\n",
       "    <tr>\n",
       "      <th>2</th>\n",
       "      <td>0.650793</td>\n",
       "      <td>P61088</td>\n",
       "      <td>E61K</td>\n",
       "      <td>Q9Y4L5</td>\n",
       "    </tr>\n",
       "  </tbody>\n",
       "</table>\n",
       "</div>"
      ],
      "text/plain": [
       "   Prediction UniProt_ID Mutation Interactor_UniProt_ID\n",
       "0    0.546621     P61088     E61K                P38398\n",
       "1    0.846558     P61088     E61K                Q96PU5\n",
       "2    0.650793     P61088     E61K                Q9Y4L5"
      ]
     },
     "metadata": {},
     "output_type": "display_data"
    }
   ],
   "source": [
    "display_data(predator.predictions['esca_finalized_prediction_dataframes'][0])"
   ]
  },
  {
   "cell_type": "code",
   "execution_count": 32,
   "id": "7fab8dc7-62ea-4cba-bdfa-0a8187a53a27",
   "metadata": {
    "scrolled": true,
    "tags": []
   },
   "outputs": [
    {
     "name": "stdout",
     "output_type": "stream",
     "text": [
      "2021-11-02 10:20:17 |\u001b[32m INFO     \u001b[0m| helpers.helpers_predator.predictions | PredictionsSoft\n",
      "2021-11-02 10:20:17 |\u001b[32m INFO     \u001b[0m| helpers.helpers_predator.predictions | Preparing ensemble prediction data for esca taking median ..\n"
     ]
    },
    {
     "data": {
      "application/vnd.jupyter.widget-view+json": {
       "model_id": "4fbdc2515eb94c04bd6da4d08b92cad0",
       "version_major": 2,
       "version_minor": 0
      },
      "text/plain": [
       "  0%|          | 0/37 [00:00<?, ?it/s]"
      ]
     },
     "metadata": {},
     "output_type": "display_data"
    },
    {
     "name": "stdout",
     "output_type": "stream",
     "text": [
      "2021-11-02 10:21:16 |\u001b[36m DEBUG    \u001b[0m| helpers.helpers_predator.predictions | Prediction probabilities data for esca is prepared.\n",
      "Accessible from `esca_predictions_prob_data`.\n",
      "2021-11-02 10:21:16 |\u001b[36m DEBUG    \u001b[0m| helpers.helpers_predator.predictions | Ensemble prediction data for esca is prepared.\n",
      "Accessible from `esca_ensemble_prediction_data`.\n",
      "2021-11-02 10:21:16 |\u001b[36m DEBUG    \u001b[0m| helpers.helpers_predator.predictions | Resulting prediction data is available for esca.\n",
      "Accessible from predictions.['esca_prediction_results']\n",
      "2021-11-02 10:21:16 |\u001b[36m DEBUG    \u001b[0m| helpers.helpers_predator.predictions | Resulting prediction data (no_votes dropped) is available for esca.\n",
      "Accessible from predictions.['esca_prediction_results_no_votes_dropped']\n"
     ]
    }
   ],
   "source": [
    "predator.prepare_ensemble_prediction_data()"
   ]
  },
  {
   "cell_type": "code",
   "execution_count": 33,
   "id": "0ffd0f8a-b82f-4733-9a31-2d350402fecb",
   "metadata": {},
   "outputs": [
    {
     "name": "stdout",
     "output_type": "stream",
     "text": [
      "\u001b[36mData dimensions: (1230, 39)\u001b[0m\n"
     ]
    },
    {
     "data": {
      "text/html": [
       "<div>\n",
       "<style scoped>\n",
       "    .dataframe tbody tr th:only-of-type {\n",
       "        vertical-align: middle;\n",
       "    }\n",
       "\n",
       "    .dataframe tbody tr th {\n",
       "        vertical-align: top;\n",
       "    }\n",
       "\n",
       "    .dataframe thead th {\n",
       "        text-align: right;\n",
       "    }\n",
       "</style>\n",
       "<table border=\"1\" class=\"dataframe\">\n",
       "  <thead>\n",
       "    <tr style=\"text-align: right;\">\n",
       "      <th></th>\n",
       "      <th>Trial 0</th>\n",
       "      <th>Trial 1</th>\n",
       "      <th>Trial 2</th>\n",
       "      <th>Trial 3</th>\n",
       "      <th>Trial 4</th>\n",
       "      <th>Trial 5</th>\n",
       "      <th>Trial 6</th>\n",
       "      <th>Trial 7</th>\n",
       "      <th>Trial 8</th>\n",
       "      <th>Trial 9</th>\n",
       "      <th>...</th>\n",
       "      <th>Trial 29</th>\n",
       "      <th>Trial 30</th>\n",
       "      <th>Trial 31</th>\n",
       "      <th>Trial 32</th>\n",
       "      <th>Trial 33</th>\n",
       "      <th>Trial 34</th>\n",
       "      <th>Trial 35</th>\n",
       "      <th>Trial 36</th>\n",
       "      <th>PROB_1s_AVG</th>\n",
       "      <th>VOTED_PREDICTION</th>\n",
       "    </tr>\n",
       "  </thead>\n",
       "  <tbody>\n",
       "    <tr>\n",
       "      <th>0</th>\n",
       "      <td>0.546621</td>\n",
       "      <td>0</td>\n",
       "      <td>0.61466</td>\n",
       "      <td>0.624847</td>\n",
       "      <td>0.362138</td>\n",
       "      <td>0.616465</td>\n",
       "      <td>0.564535</td>\n",
       "      <td>0.626396</td>\n",
       "      <td>0.288355</td>\n",
       "      <td>0.591122</td>\n",
       "      <td>...</td>\n",
       "      <td>0.253704</td>\n",
       "      <td>0.6</td>\n",
       "      <td>0.591546</td>\n",
       "      <td>0.58991</td>\n",
       "      <td>0.579181</td>\n",
       "      <td>0.607555</td>\n",
       "      <td>0.565171</td>\n",
       "      <td>0.579581</td>\n",
       "      <td>0.57282</td>\n",
       "      <td>1</td>\n",
       "    </tr>\n",
       "    <tr>\n",
       "      <th>1</th>\n",
       "      <td>NO_VOTE</td>\n",
       "      <td>0</td>\n",
       "      <td>NO_VOTE</td>\n",
       "      <td>NO_VOTE</td>\n",
       "      <td>0.407895</td>\n",
       "      <td>NO_VOTE</td>\n",
       "      <td>NO_VOTE</td>\n",
       "      <td>NO_VOTE</td>\n",
       "      <td>0.346963</td>\n",
       "      <td>NO_VOTE</td>\n",
       "      <td>...</td>\n",
       "      <td>NO_VOTE</td>\n",
       "      <td>NO_VOTE</td>\n",
       "      <td>NO_VOTE</td>\n",
       "      <td>NO_VOTE</td>\n",
       "      <td>NO_VOTE</td>\n",
       "      <td>0.633825</td>\n",
       "      <td>NO_VOTE</td>\n",
       "      <td>NO_VOTE</td>\n",
       "      <td>NO_VOTE</td>\n",
       "      <td>NO_VOTE</td>\n",
       "    </tr>\n",
       "    <tr>\n",
       "      <th>2</th>\n",
       "      <td>0.802948</td>\n",
       "      <td>NO_VOTE</td>\n",
       "      <td>0.763824</td>\n",
       "      <td>0.706461</td>\n",
       "      <td>NO_VOTE</td>\n",
       "      <td>0.70035</td>\n",
       "      <td>0.571998</td>\n",
       "      <td>0.72687</td>\n",
       "      <td>0.525851</td>\n",
       "      <td>0.581051</td>\n",
       "      <td>...</td>\n",
       "      <td>0.652753</td>\n",
       "      <td>0.8</td>\n",
       "      <td>0.739628</td>\n",
       "      <td>0.594535</td>\n",
       "      <td>0.643593</td>\n",
       "      <td>0.723161</td>\n",
       "      <td>0.67045</td>\n",
       "      <td>0.667854</td>\n",
       "      <td>0.68296</td>\n",
       "      <td>1</td>\n",
       "    </tr>\n",
       "  </tbody>\n",
       "</table>\n",
       "<p>3 rows × 39 columns</p>\n",
       "</div>"
      ],
      "text/plain": [
       "    Trial 0  Trial 1   Trial 2   Trial 3   Trial 4   Trial 5   Trial 6  \\\n",
       "0  0.546621        0   0.61466  0.624847  0.362138  0.616465  0.564535   \n",
       "1   NO_VOTE        0   NO_VOTE   NO_VOTE  0.407895   NO_VOTE   NO_VOTE   \n",
       "2  0.802948  NO_VOTE  0.763824  0.706461   NO_VOTE   0.70035  0.571998   \n",
       "\n",
       "    Trial 7   Trial 8   Trial 9  ...  Trial 29 Trial 30  Trial 31  Trial 32  \\\n",
       "0  0.626396  0.288355  0.591122  ...  0.253704      0.6  0.591546   0.58991   \n",
       "1   NO_VOTE  0.346963   NO_VOTE  ...   NO_VOTE  NO_VOTE   NO_VOTE   NO_VOTE   \n",
       "2   0.72687  0.525851  0.581051  ...  0.652753      0.8  0.739628  0.594535   \n",
       "\n",
       "   Trial 33  Trial 34  Trial 35  Trial 36 PROB_1s_AVG VOTED_PREDICTION  \n",
       "0  0.579181  0.607555  0.565171  0.579581     0.57282                1  \n",
       "1   NO_VOTE  0.633825   NO_VOTE   NO_VOTE     NO_VOTE          NO_VOTE  \n",
       "2  0.643593  0.723161   0.67045  0.667854     0.68296                1  \n",
       "\n",
       "[3 rows x 39 columns]"
      ]
     },
     "metadata": {},
     "output_type": "display_data"
    }
   ],
   "source": [
    "display_data(predator.predictions['esca_predictions_prob_data'])"
   ]
  },
  {
   "cell_type": "code",
   "execution_count": 34,
   "id": "f2b38467-e658-4ed6-9ac0-6de1f1017ce7",
   "metadata": {},
   "outputs": [
    {
     "data": {
      "image/png": "[encoded data removed]",
      "text/plain": [
       "<Figure size 432x288 with 1 Axes>"
      ]
     },
     "metadata": {},
     "output_type": "display_data"
    }
   ],
   "source": [
    "predator.predictions.plot_ensemble_prediction_distribution(\"esca\")"
   ]
  },
  {
   "cell_type": "code",
   "execution_count": 35,
   "id": "c454d6a9-5c73-4fe6-b609-e7b160e2ddb8",
   "metadata": {},
   "outputs": [
    {
     "name": "stdout",
     "output_type": "stream",
     "text": [
      "\u001b[36mData dimensions: (1230, 4)\u001b[0m\n"
     ]
    },
    {
     "data": {
      "text/html": [
       "<div>\n",
       "<style scoped>\n",
       "    .dataframe tbody tr th:only-of-type {\n",
       "        vertical-align: middle;\n",
       "    }\n",
       "\n",
       "    .dataframe tbody tr th {\n",
       "        vertical-align: top;\n",
       "    }\n",
       "\n",
       "    .dataframe thead th {\n",
       "        text-align: right;\n",
       "    }\n",
       "</style>\n",
       "<table border=\"1\" class=\"dataframe\">\n",
       "  <thead>\n",
       "    <tr style=\"text-align: right;\">\n",
       "      <th></th>\n",
       "      <th>UniProt_ID</th>\n",
       "      <th>Mutation</th>\n",
       "      <th>Interactor_UniProt_ID</th>\n",
       "      <th>Prediction</th>\n",
       "    </tr>\n",
       "  </thead>\n",
       "  <tbody>\n",
       "    <tr>\n",
       "      <th>0</th>\n",
       "      <td>P61088</td>\n",
       "      <td>E61K</td>\n",
       "      <td>P38398</td>\n",
       "      <td>1</td>\n",
       "    </tr>\n",
       "    <tr>\n",
       "      <th>1</th>\n",
       "      <td>P61088</td>\n",
       "      <td>E61K</td>\n",
       "      <td>O95628</td>\n",
       "      <td>NO_VOTE</td>\n",
       "    </tr>\n",
       "    <tr>\n",
       "      <th>2</th>\n",
       "      <td>P61088</td>\n",
       "      <td>E61K</td>\n",
       "      <td>Q96PU5</td>\n",
       "      <td>1</td>\n",
       "    </tr>\n",
       "  </tbody>\n",
       "</table>\n",
       "</div>"
      ],
      "text/plain": [
       "  UniProt_ID Mutation Interactor_UniProt_ID Prediction\n",
       "0     P61088     E61K                P38398          1\n",
       "1     P61088     E61K                O95628    NO_VOTE\n",
       "2     P61088     E61K                Q96PU5          1"
      ]
     },
     "metadata": {},
     "output_type": "display_data"
    }
   ],
   "source": [
    "esca_prediction_results_soft = predator.predictions['esca_prediction_results']\n",
    "display_data(esca_prediction_results_soft)"
   ]
  },
  {
   "cell_type": "code",
   "execution_count": 36,
   "id": "569c4dd1-e2d9-40d0-b7c0-1cc177adfabb",
   "metadata": {},
   "outputs": [
    {
     "name": "stdout",
     "output_type": "stream",
     "text": [
      "\u001b[36mData dimensions: (1185, 4)\u001b[0m\n"
     ]
    },
    {
     "data": {
      "text/html": [
       "<div>\n",
       "<style scoped>\n",
       "    .dataframe tbody tr th:only-of-type {\n",
       "        vertical-align: middle;\n",
       "    }\n",
       "\n",
       "    .dataframe tbody tr th {\n",
       "        vertical-align: top;\n",
       "    }\n",
       "\n",
       "    .dataframe thead th {\n",
       "        text-align: right;\n",
       "    }\n",
       "</style>\n",
       "<table border=\"1\" class=\"dataframe\">\n",
       "  <thead>\n",
       "    <tr style=\"text-align: right;\">\n",
       "      <th></th>\n",
       "      <th>UniProt_ID</th>\n",
       "      <th>Mutation</th>\n",
       "      <th>Interactor_UniProt_ID</th>\n",
       "      <th>Prediction</th>\n",
       "    </tr>\n",
       "  </thead>\n",
       "  <tbody>\n",
       "    <tr>\n",
       "      <th>0</th>\n",
       "      <td>P61088</td>\n",
       "      <td>E61K</td>\n",
       "      <td>P38398</td>\n",
       "      <td>1</td>\n",
       "    </tr>\n",
       "    <tr>\n",
       "      <th>2</th>\n",
       "      <td>P61088</td>\n",
       "      <td>E61K</td>\n",
       "      <td>Q96PU5</td>\n",
       "      <td>1</td>\n",
       "    </tr>\n",
       "    <tr>\n",
       "      <th>3</th>\n",
       "      <td>P61088</td>\n",
       "      <td>E61K</td>\n",
       "      <td>Q9Y4L5</td>\n",
       "      <td>1</td>\n",
       "    </tr>\n",
       "  </tbody>\n",
       "</table>\n",
       "</div>"
      ],
      "text/plain": [
       "  UniProt_ID Mutation Interactor_UniProt_ID Prediction\n",
       "0     P61088     E61K                P38398          1\n",
       "2     P61088     E61K                Q96PU5          1\n",
       "3     P61088     E61K                Q9Y4L5          1"
      ]
     },
     "metadata": {},
     "output_type": "display_data"
    }
   ],
   "source": [
    "esca_prediction_results_soft_no_votes_dropped = predator.predictions[\"esca_prediction_results_no_votes_dropped\"]\n",
    "display_data(esca_prediction_results_soft_no_votes_dropped)"
   ]
  },
  {
   "cell_type": "code",
   "execution_count": 37,
   "id": "f6b37226-566a-4366-9a51-57490bfc2f2b",
   "metadata": {},
   "outputs": [
    {
     "name": "stdout",
     "output_type": "stream",
     "text": [
      "\u001b[36mLabel counts:\n",
      "Disrupting                596\n",
      "Increasing + No Effect    589\n",
      "Name: Prediction, dtype: int64\u001b[0m\n"
     ]
    },
    {
     "data": {
      "image/png": "[encoded data removed]",
      "text/plain": [
       "<Figure size 432x288 with 1 Axes>"
      ]
     },
     "metadata": {},
     "output_type": "display_data"
    }
   ],
   "source": [
    "visualize_label_counts(esca_prediction_results_soft_no_votes_dropped, 'Prediction')"
   ]
  },
  {
   "cell_type": "code",
   "execution_count": 38,
   "id": "37c0a11a-e87e-40af-ba8a-8a28b82d956d",
   "metadata": {},
   "outputs": [],
   "source": [
    "esca_ensemble_prediction_data_soft = predator.predictions[\"esca_ensemble_prediction_data\"]"
   ]
  },
  {
   "cell_type": "code",
   "execution_count": 39,
   "id": "e4995e62-dfd6-4b54-bd6c-67a62eefb6a6",
   "metadata": {},
   "outputs": [],
   "source": [
    "esca_predictions_prob_data_soft = predator.predictions[\"esca_predictions_prob_data\"]"
   ]
  },
  {
   "cell_type": "markdown",
   "id": "d67ab239-1c4d-404e-b272-a271751dd607",
   "metadata": {},
   "source": [
    "## Exporting Predictions"
   ]
  },
  {
   "cell_type": "code",
   "execution_count": 40,
   "id": "9a94b745-4a6d-46d4-a559-4fe47bc2a7b3",
   "metadata": {},
   "outputs": [
    {
     "name": "stdout",
     "output_type": "stream",
     "text": [
      "\u001b[36mData dimensions: (1185, 4)\u001b[0m\n"
     ]
    },
    {
     "data": {
      "text/html": [
       "<div>\n",
       "<style scoped>\n",
       "    .dataframe tbody tr th:only-of-type {\n",
       "        vertical-align: middle;\n",
       "    }\n",
       "\n",
       "    .dataframe tbody tr th {\n",
       "        vertical-align: top;\n",
       "    }\n",
       "\n",
       "    .dataframe thead th {\n",
       "        text-align: right;\n",
       "    }\n",
       "</style>\n",
       "<table border=\"1\" class=\"dataframe\">\n",
       "  <thead>\n",
       "    <tr style=\"text-align: right;\">\n",
       "      <th></th>\n",
       "      <th>UniProt_ID</th>\n",
       "      <th>Mutation</th>\n",
       "      <th>Interactor_UniProt_ID</th>\n",
       "      <th>Prediction</th>\n",
       "    </tr>\n",
       "  </thead>\n",
       "  <tbody>\n",
       "    <tr>\n",
       "      <th>0</th>\n",
       "      <td>P61088</td>\n",
       "      <td>E61K</td>\n",
       "      <td>P38398</td>\n",
       "      <td>1</td>\n",
       "    </tr>\n",
       "    <tr>\n",
       "      <th>2</th>\n",
       "      <td>P61088</td>\n",
       "      <td>E61K</td>\n",
       "      <td>Q96PU5</td>\n",
       "      <td>1</td>\n",
       "    </tr>\n",
       "    <tr>\n",
       "      <th>3</th>\n",
       "      <td>P61088</td>\n",
       "      <td>E61K</td>\n",
       "      <td>Q9Y4L5</td>\n",
       "      <td>1</td>\n",
       "    </tr>\n",
       "  </tbody>\n",
       "</table>\n",
       "</div>"
      ],
      "text/plain": [
       "  UniProt_ID Mutation Interactor_UniProt_ID Prediction\n",
       "0     P61088     E61K                P38398          1\n",
       "2     P61088     E61K                Q96PU5          1\n",
       "3     P61088     E61K                Q9Y4L5          1"
      ]
     },
     "metadata": {},
     "output_type": "display_data"
    }
   ],
   "source": [
    "# esca_prediction_results = esca_prediction_results_hard_no_votes_dropped\n",
    "esca_prediction_results = esca_prediction_results_soft_no_votes_dropped\n",
    "display_data(esca_prediction_results)"
   ]
  },
  {
   "cell_type": "code",
   "execution_count": 42,
   "id": "581156a0-9f68-4105-9fb4-6f1588a76cc8",
   "metadata": {},
   "outputs": [
    {
     "name": "stdout",
     "output_type": "stream",
     "text": [
      "2021-11-06 13:16:05 |\u001b[36m DEBUG    \u001b[0m| helpers.helpers_predator.common | Folder with ID 4be914c2 is created.\n",
      "2021-11-06 13:16:05 |\u001b[36m DEBUG    \u001b[0m| helpers.helpers_predator.common | Exporting data predictions at location ../data/predictions_datasets/ in folder esca_prediction_2021-11-06\\4be914c2..\n",
      "2021-11-06 13:16:06 |\u001b[32m INFO     \u001b[0m| helpers.helpers_predator.common | ../data/predictions_datasets/esca_prediction_2021-11-06\\4be914c2\\predictions_soft_2021-11-06.csv is exported successfully.\n",
      "2021-11-06 13:16:06 |\u001b[32m INFO     \u001b[0m| helpers.helpers_predator.common | Config is exported.\n"
     ]
    }
   ],
   "source": [
    "predator.export_prediction(\n",
    "    tcga=\"esca\",\n",
    "    data=esca_prediction_results,\n",
    "    file_name=\"predictions\",\n",
    "    folder_path=PREDICTIONS_DATASETS_FOLDER_PATH,\n",
    "    voting=\"soft\",\n",
    "    overwrite=False,\n",
    "    file_extension='csv'\n",
    ")"
   ]
  },
  {
   "cell_type": "markdown",
   "id": "6ecc002b-2ec4-4a66-9dfa-30e5c4c107f8",
   "metadata": {},
   "source": [
    "---"
   ]
  },
  {
   "cell_type": "code",
   "execution_count": null,
   "id": "76fbe1ea-9846-42b2-a1d5-a09a1d928a4f",
   "metadata": {},
   "outputs": [],
   "source": []
  }
 ],
 "metadata": {
  "kernelspec": {
   "display_name": "Predicting-Mutation-Effects",
   "language": "python",
   "name": "predicting-mutation-effects"
  },
  "language_info": {
   "codemirror_mode": {
    "name": "ipython",
    "version": 3
   },
   "file_extension": ".py",
   "mimetype": "text/x-python",
   "name": "python",
   "nbconvert_exporter": "python",
   "pygments_lexer": "ipython3",
   "version": "3.8.10"
  },
  "toc-autonumbering": false
 },
 "nbformat": 4,
 "nbformat_minor": 5
}
