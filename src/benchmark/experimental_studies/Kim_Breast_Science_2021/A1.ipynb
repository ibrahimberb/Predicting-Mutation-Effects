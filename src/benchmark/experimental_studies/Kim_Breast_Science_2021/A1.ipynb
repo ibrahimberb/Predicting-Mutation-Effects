{
 "cells": [
  {
   "cell_type": "markdown",
   "metadata": {
    "collapsed": true,
    "pycharm": {
     "name": "#%% md\n"
    }
   },
   "source": [
    "# Simple Parse Supplementary S8"
   ]
  },
  {
   "cell_type": "markdown",
   "source": [
    "You should look at Table S8, in which a tab \"BRCA1_log2FC(Mut-WT)_P0.65\" shows log2Fold change (Mutant/WT) and p-value for each BRCA1-interacting prey."
   ],
   "metadata": {
    "collapsed": false,
    "pycharm": {
     "name": "#%% md\n"
    }
   }
  },
  {
   "cell_type": "code",
   "execution_count": 4,
   "outputs": [],
   "source": [
    "DATA_PATH = r\"science.abf3066_tables_s2_to_s12/science.abf3066_Table_S8.xlsx\""
   ],
   "metadata": {
    "collapsed": false,
    "pycharm": {
     "name": "#%%\n"
    }
   }
  },
  {
   "cell_type": "code",
   "execution_count": 5,
   "outputs": [],
   "source": [
    "import pandas as pd"
   ],
   "metadata": {
    "collapsed": false,
    "pycharm": {
     "name": "#%%\n"
    }
   }
  },
  {
   "cell_type": "code",
   "execution_count": 7,
   "outputs": [],
   "source": [
    "data = pd.read_excel(DATA_PATH, sheet_name=\"BRCA1_log2FC(Mut-WT)_P0.65\")"
   ],
   "metadata": {
    "collapsed": false,
    "pycharm": {
     "name": "#%%\n"
    }
   }
  },
  {
   "cell_type": "code",
   "execution_count": 8,
   "outputs": [
    {
     "data": {
      "text/plain": "    Uniprot ID     Prey  i26a-wt_log2FC  i26a-wt_pvalue  c61g-wt_log2FC  \\\n0       P33527    ABCC1        0.374635    6.977761e-01        0.615273   \n1       P21399     ACO1       -0.792530    4.208485e-01       -0.355842   \n2       O00154    ACOT7        1.369135    2.590590e-02             NaN   \n3       O14734    ACOT8        1.481461    4.420244e-02       -0.069220   \n4       O60488    ACSL4        1.522991    4.133813e-02        2.665689   \n..         ...      ...             ...             ...             ...   \n123     O95071     UBR5       -1.056411    1.149461e-01        1.869710   \n124     Q96RL1    UIMC1       -2.923227    6.510000e-11       -1.662660   \n125     P47985  UQCRFS1        0.736707    3.122358e-01       -0.354639   \n126     Q96RU2    USP28             NaN             NaN        2.481066   \n127     Q9UQR1   ZNF148             NaN             NaN        0.681874   \n\n     c61g-wt_pvalue  r71g-wt_log2FC  r71g-wt_pvalue  iso5-wt_log2FC  \\\n0      5.246638e-01        2.044543    4.165402e-02       -2.381219   \n1      7.167747e-01        1.293796    1.922145e-01        1.004295   \n2               NaN        1.738867    4.383400e-04       -0.966862   \n3      9.222773e-01        0.176436    8.036951e-01        0.111009   \n4      7.212310e-04        1.729246    2.159676e-02       -0.625082   \n..              ...             ...             ...             ...   \n123    7.023826e-03       -0.672379    3.107194e-01       -0.579372   \n124    1.450000e-07       -1.660817    1.470000e-07             NaN   \n125    5.596683e-01        1.636576    5.476190e-02             NaN   \n126    5.467410e-04             NaN             NaN        0.566949   \n127    1.978807e-01             NaN             NaN       -0.357040   \n\n     iso5-wt_pvalue  s1655f-wt_log2FC  s1655f-wt_pvalue  5382insC-wt_log2FC  \\\n0          0.074203          0.658841          0.495981            1.164338   \n1          0.309070          0.534004          0.586607            0.612379   \n2          0.043427               NaN               NaN            2.543763   \n3          0.875683          0.383792          0.629194            1.446210   \n4          0.390581          1.062681          0.148366            2.964251   \n..              ...               ...               ...                 ...   \n123        0.381516         -2.179488          0.001999            0.494694   \n124             NaN               NaN               NaN                 NaN   \n125             NaN          1.529521          0.066989            2.311679   \n126        0.340059               NaN               NaN            1.871856   \n127        0.377484               NaN               NaN            0.757282   \n\n     5382insC-wt_pvalue  m1755r-wt_log2FC  m1755r-wt_pvalue  \n0              0.275467          2.170889          0.047816  \n1              0.533188          0.156814          0.872888  \n2              0.000029               NaN               NaN  \n3              0.049123          1.547306          0.036174  \n4              0.000219          1.021482          0.164267  \n..                  ...               ...               ...  \n123            0.454285         -1.399912          0.039141  \n124                 NaN               NaN               NaN  \n125            0.016820               NaN               NaN  \n126            0.005055               NaN               NaN  \n127            0.158164               NaN               NaN  \n\n[128 rows x 16 columns]",
      "text/html": "<div>\n<style scoped>\n    .dataframe tbody tr th:only-of-type {\n        vertical-align: middle;\n    }\n\n    .dataframe tbody tr th {\n        vertical-align: top;\n    }\n\n    .dataframe thead th {\n        text-align: right;\n    }\n</style>\n<table border=\"1\" class=\"dataframe\">\n  <thead>\n    <tr style=\"text-align: right;\">\n      <th></th>\n      <th>Uniprot ID</th>\n      <th>Prey</th>\n      <th>i26a-wt_log2FC</th>\n      <th>i26a-wt_pvalue</th>\n      <th>c61g-wt_log2FC</th>\n      <th>c61g-wt_pvalue</th>\n      <th>r71g-wt_log2FC</th>\n      <th>r71g-wt_pvalue</th>\n      <th>iso5-wt_log2FC</th>\n      <th>iso5-wt_pvalue</th>\n      <th>s1655f-wt_log2FC</th>\n      <th>s1655f-wt_pvalue</th>\n      <th>5382insC-wt_log2FC</th>\n      <th>5382insC-wt_pvalue</th>\n      <th>m1755r-wt_log2FC</th>\n      <th>m1755r-wt_pvalue</th>\n    </tr>\n  </thead>\n  <tbody>\n    <tr>\n      <th>0</th>\n      <td>P33527</td>\n      <td>ABCC1</td>\n      <td>0.374635</td>\n      <td>6.977761e-01</td>\n      <td>0.615273</td>\n      <td>5.246638e-01</td>\n      <td>2.044543</td>\n      <td>4.165402e-02</td>\n      <td>-2.381219</td>\n      <td>0.074203</td>\n      <td>0.658841</td>\n      <td>0.495981</td>\n      <td>1.164338</td>\n      <td>0.275467</td>\n      <td>2.170889</td>\n      <td>0.047816</td>\n    </tr>\n    <tr>\n      <th>1</th>\n      <td>P21399</td>\n      <td>ACO1</td>\n      <td>-0.792530</td>\n      <td>4.208485e-01</td>\n      <td>-0.355842</td>\n      <td>7.167747e-01</td>\n      <td>1.293796</td>\n      <td>1.922145e-01</td>\n      <td>1.004295</td>\n      <td>0.309070</td>\n      <td>0.534004</td>\n      <td>0.586607</td>\n      <td>0.612379</td>\n      <td>0.533188</td>\n      <td>0.156814</td>\n      <td>0.872888</td>\n    </tr>\n    <tr>\n      <th>2</th>\n      <td>O00154</td>\n      <td>ACOT7</td>\n      <td>1.369135</td>\n      <td>2.590590e-02</td>\n      <td>NaN</td>\n      <td>NaN</td>\n      <td>1.738867</td>\n      <td>4.383400e-04</td>\n      <td>-0.966862</td>\n      <td>0.043427</td>\n      <td>NaN</td>\n      <td>NaN</td>\n      <td>2.543763</td>\n      <td>0.000029</td>\n      <td>NaN</td>\n      <td>NaN</td>\n    </tr>\n    <tr>\n      <th>3</th>\n      <td>O14734</td>\n      <td>ACOT8</td>\n      <td>1.481461</td>\n      <td>4.420244e-02</td>\n      <td>-0.069220</td>\n      <td>9.222773e-01</td>\n      <td>0.176436</td>\n      <td>8.036951e-01</td>\n      <td>0.111009</td>\n      <td>0.875683</td>\n      <td>0.383792</td>\n      <td>0.629194</td>\n      <td>1.446210</td>\n      <td>0.049123</td>\n      <td>1.547306</td>\n      <td>0.036174</td>\n    </tr>\n    <tr>\n      <th>4</th>\n      <td>O60488</td>\n      <td>ACSL4</td>\n      <td>1.522991</td>\n      <td>4.133813e-02</td>\n      <td>2.665689</td>\n      <td>7.212310e-04</td>\n      <td>1.729246</td>\n      <td>2.159676e-02</td>\n      <td>-0.625082</td>\n      <td>0.390581</td>\n      <td>1.062681</td>\n      <td>0.148366</td>\n      <td>2.964251</td>\n      <td>0.000219</td>\n      <td>1.021482</td>\n      <td>0.164267</td>\n    </tr>\n    <tr>\n      <th>...</th>\n      <td>...</td>\n      <td>...</td>\n      <td>...</td>\n      <td>...</td>\n      <td>...</td>\n      <td>...</td>\n      <td>...</td>\n      <td>...</td>\n      <td>...</td>\n      <td>...</td>\n      <td>...</td>\n      <td>...</td>\n      <td>...</td>\n      <td>...</td>\n      <td>...</td>\n      <td>...</td>\n    </tr>\n    <tr>\n      <th>123</th>\n      <td>O95071</td>\n      <td>UBR5</td>\n      <td>-1.056411</td>\n      <td>1.149461e-01</td>\n      <td>1.869710</td>\n      <td>7.023826e-03</td>\n      <td>-0.672379</td>\n      <td>3.107194e-01</td>\n      <td>-0.579372</td>\n      <td>0.381516</td>\n      <td>-2.179488</td>\n      <td>0.001999</td>\n      <td>0.494694</td>\n      <td>0.454285</td>\n      <td>-1.399912</td>\n      <td>0.039141</td>\n    </tr>\n    <tr>\n      <th>124</th>\n      <td>Q96RL1</td>\n      <td>UIMC1</td>\n      <td>-2.923227</td>\n      <td>6.510000e-11</td>\n      <td>-1.662660</td>\n      <td>1.450000e-07</td>\n      <td>-1.660817</td>\n      <td>1.470000e-07</td>\n      <td>NaN</td>\n      <td>NaN</td>\n      <td>NaN</td>\n      <td>NaN</td>\n      <td>NaN</td>\n      <td>NaN</td>\n      <td>NaN</td>\n      <td>NaN</td>\n    </tr>\n    <tr>\n      <th>125</th>\n      <td>P47985</td>\n      <td>UQCRFS1</td>\n      <td>0.736707</td>\n      <td>3.122358e-01</td>\n      <td>-0.354639</td>\n      <td>5.596683e-01</td>\n      <td>1.636576</td>\n      <td>5.476190e-02</td>\n      <td>NaN</td>\n      <td>NaN</td>\n      <td>1.529521</td>\n      <td>0.066989</td>\n      <td>2.311679</td>\n      <td>0.016820</td>\n      <td>NaN</td>\n      <td>NaN</td>\n    </tr>\n    <tr>\n      <th>126</th>\n      <td>Q96RU2</td>\n      <td>USP28</td>\n      <td>NaN</td>\n      <td>NaN</td>\n      <td>2.481066</td>\n      <td>5.467410e-04</td>\n      <td>NaN</td>\n      <td>NaN</td>\n      <td>0.566949</td>\n      <td>0.340059</td>\n      <td>NaN</td>\n      <td>NaN</td>\n      <td>1.871856</td>\n      <td>0.005055</td>\n      <td>NaN</td>\n      <td>NaN</td>\n    </tr>\n    <tr>\n      <th>127</th>\n      <td>Q9UQR1</td>\n      <td>ZNF148</td>\n      <td>NaN</td>\n      <td>NaN</td>\n      <td>0.681874</td>\n      <td>1.978807e-01</td>\n      <td>NaN</td>\n      <td>NaN</td>\n      <td>-0.357040</td>\n      <td>0.377484</td>\n      <td>NaN</td>\n      <td>NaN</td>\n      <td>0.757282</td>\n      <td>0.158164</td>\n      <td>NaN</td>\n      <td>NaN</td>\n    </tr>\n  </tbody>\n</table>\n<p>128 rows × 16 columns</p>\n</div>"
     },
     "execution_count": 8,
     "metadata": {},
     "output_type": "execute_result"
    }
   ],
   "source": [
    "data"
   ],
   "metadata": {
    "collapsed": false,
    "pycharm": {
     "name": "#%%\n"
    }
   }
  },
  {
   "cell_type": "code",
   "execution_count": 22,
   "outputs": [
    {
     "data": {
      "text/plain": "    Uniprot ID     Prey      I26A      C61G      R71G    S1655F    M1755R\n0       P33527    ABCC1  0.374635  0.615273  2.044543  0.658841  2.170889\n1       P21399     ACO1 -0.792530 -0.355842  1.293796  0.534004  0.156814\n2       O00154    ACOT7  1.369135       NaN  1.738867       NaN       NaN\n3       O14734    ACOT8  1.481461 -0.069220  0.176436  0.383792  1.547306\n4       O60488    ACSL4  1.522991  2.665689  1.729246  1.062681  1.021482\n..         ...      ...       ...       ...       ...       ...       ...\n123     O95071     UBR5 -1.056411  1.869710 -0.672379 -2.179488 -1.399912\n124     Q96RL1    UIMC1 -2.923227 -1.662660 -1.660817       NaN       NaN\n125     P47985  UQCRFS1  0.736707 -0.354639  1.636576  1.529521       NaN\n126     Q96RU2    USP28       NaN  2.481066       NaN       NaN       NaN\n127     Q9UQR1   ZNF148       NaN  0.681874       NaN       NaN       NaN\n\n[128 rows x 7 columns]",
      "text/html": "<div>\n<style scoped>\n    .dataframe tbody tr th:only-of-type {\n        vertical-align: middle;\n    }\n\n    .dataframe tbody tr th {\n        vertical-align: top;\n    }\n\n    .dataframe thead th {\n        text-align: right;\n    }\n</style>\n<table border=\"1\" class=\"dataframe\">\n  <thead>\n    <tr style=\"text-align: right;\">\n      <th></th>\n      <th>Uniprot ID</th>\n      <th>Prey</th>\n      <th>I26A</th>\n      <th>C61G</th>\n      <th>R71G</th>\n      <th>S1655F</th>\n      <th>M1755R</th>\n    </tr>\n  </thead>\n  <tbody>\n    <tr>\n      <th>0</th>\n      <td>P33527</td>\n      <td>ABCC1</td>\n      <td>0.374635</td>\n      <td>0.615273</td>\n      <td>2.044543</td>\n      <td>0.658841</td>\n      <td>2.170889</td>\n    </tr>\n    <tr>\n      <th>1</th>\n      <td>P21399</td>\n      <td>ACO1</td>\n      <td>-0.792530</td>\n      <td>-0.355842</td>\n      <td>1.293796</td>\n      <td>0.534004</td>\n      <td>0.156814</td>\n    </tr>\n    <tr>\n      <th>2</th>\n      <td>O00154</td>\n      <td>ACOT7</td>\n      <td>1.369135</td>\n      <td>NaN</td>\n      <td>1.738867</td>\n      <td>NaN</td>\n      <td>NaN</td>\n    </tr>\n    <tr>\n      <th>3</th>\n      <td>O14734</td>\n      <td>ACOT8</td>\n      <td>1.481461</td>\n      <td>-0.069220</td>\n      <td>0.176436</td>\n      <td>0.383792</td>\n      <td>1.547306</td>\n    </tr>\n    <tr>\n      <th>4</th>\n      <td>O60488</td>\n      <td>ACSL4</td>\n      <td>1.522991</td>\n      <td>2.665689</td>\n      <td>1.729246</td>\n      <td>1.062681</td>\n      <td>1.021482</td>\n    </tr>\n    <tr>\n      <th>...</th>\n      <td>...</td>\n      <td>...</td>\n      <td>...</td>\n      <td>...</td>\n      <td>...</td>\n      <td>...</td>\n      <td>...</td>\n    </tr>\n    <tr>\n      <th>123</th>\n      <td>O95071</td>\n      <td>UBR5</td>\n      <td>-1.056411</td>\n      <td>1.869710</td>\n      <td>-0.672379</td>\n      <td>-2.179488</td>\n      <td>-1.399912</td>\n    </tr>\n    <tr>\n      <th>124</th>\n      <td>Q96RL1</td>\n      <td>UIMC1</td>\n      <td>-2.923227</td>\n      <td>-1.662660</td>\n      <td>-1.660817</td>\n      <td>NaN</td>\n      <td>NaN</td>\n    </tr>\n    <tr>\n      <th>125</th>\n      <td>P47985</td>\n      <td>UQCRFS1</td>\n      <td>0.736707</td>\n      <td>-0.354639</td>\n      <td>1.636576</td>\n      <td>1.529521</td>\n      <td>NaN</td>\n    </tr>\n    <tr>\n      <th>126</th>\n      <td>Q96RU2</td>\n      <td>USP28</td>\n      <td>NaN</td>\n      <td>2.481066</td>\n      <td>NaN</td>\n      <td>NaN</td>\n      <td>NaN</td>\n    </tr>\n    <tr>\n      <th>127</th>\n      <td>Q9UQR1</td>\n      <td>ZNF148</td>\n      <td>NaN</td>\n      <td>0.681874</td>\n      <td>NaN</td>\n      <td>NaN</td>\n      <td>NaN</td>\n    </tr>\n  </tbody>\n</table>\n<p>128 rows × 7 columns</p>\n</div>"
     },
     "execution_count": 22,
     "metadata": {},
     "output_type": "execute_result"
    }
   ],
   "source": [
    "exception_colnames = [\"5382insC-wt_log2FC\", \"iso5-wt_log2FC\"]\n",
    "fold_change_colnames = [colname for colname in data.columns if (\"log2FC\" in colname) and (colname not in exception_colnames)]\n",
    "mutation_colnames = [colname.split(\"-\")[0].upper() for colname in fold_change_colnames]\n",
    "identifier_colnames = [\"Uniprot ID\", \"Prey\"]\n",
    "selected_colnames = identifier_colnames + fold_change_colnames\n",
    "data_parsed = data[selected_colnames].copy()\n",
    "data_parsed.columns = identifier_colnames + mutation_colnames\n",
    "data_parsed"
   ],
   "metadata": {
    "collapsed": false,
    "pycharm": {
     "name": "#%%\n"
    }
   }
  },
  {
   "cell_type": "markdown",
   "source": [
    "## Giving it to the ELASPIC"
   ],
   "metadata": {
    "collapsed": false,
    "pycharm": {
     "name": "#%% md\n"
    }
   }
  },
  {
   "cell_type": "code",
   "execution_count": 35,
   "outputs": [
    {
     "data": {
      "text/plain": "    Uniprot ID     Prey Mutation  FoldChange\n0       P33527    ABCC1     I26A    0.374635\n1       P21399     ACO1     I26A   -0.792530\n2       O00154    ACOT7     I26A    1.369135\n3       O14734    ACOT8     I26A    1.481461\n4       O60488    ACSL4     I26A    1.522991\n..         ...      ...      ...         ...\n635     O95071     UBR5   M1755R   -1.399912\n636     Q96RL1    UIMC1   M1755R         NaN\n637     P47985  UQCRFS1   M1755R         NaN\n638     Q96RU2    USP28   M1755R         NaN\n639     Q9UQR1   ZNF148   M1755R         NaN\n\n[640 rows x 4 columns]",
      "text/html": "<div>\n<style scoped>\n    .dataframe tbody tr th:only-of-type {\n        vertical-align: middle;\n    }\n\n    .dataframe tbody tr th {\n        vertical-align: top;\n    }\n\n    .dataframe thead th {\n        text-align: right;\n    }\n</style>\n<table border=\"1\" class=\"dataframe\">\n  <thead>\n    <tr style=\"text-align: right;\">\n      <th></th>\n      <th>Uniprot ID</th>\n      <th>Prey</th>\n      <th>Mutation</th>\n      <th>FoldChange</th>\n    </tr>\n  </thead>\n  <tbody>\n    <tr>\n      <th>0</th>\n      <td>P33527</td>\n      <td>ABCC1</td>\n      <td>I26A</td>\n      <td>0.374635</td>\n    </tr>\n    <tr>\n      <th>1</th>\n      <td>P21399</td>\n      <td>ACO1</td>\n      <td>I26A</td>\n      <td>-0.792530</td>\n    </tr>\n    <tr>\n      <th>2</th>\n      <td>O00154</td>\n      <td>ACOT7</td>\n      <td>I26A</td>\n      <td>1.369135</td>\n    </tr>\n    <tr>\n      <th>3</th>\n      <td>O14734</td>\n      <td>ACOT8</td>\n      <td>I26A</td>\n      <td>1.481461</td>\n    </tr>\n    <tr>\n      <th>4</th>\n      <td>O60488</td>\n      <td>ACSL4</td>\n      <td>I26A</td>\n      <td>1.522991</td>\n    </tr>\n    <tr>\n      <th>...</th>\n      <td>...</td>\n      <td>...</td>\n      <td>...</td>\n      <td>...</td>\n    </tr>\n    <tr>\n      <th>635</th>\n      <td>O95071</td>\n      <td>UBR5</td>\n      <td>M1755R</td>\n      <td>-1.399912</td>\n    </tr>\n    <tr>\n      <th>636</th>\n      <td>Q96RL1</td>\n      <td>UIMC1</td>\n      <td>M1755R</td>\n      <td>NaN</td>\n    </tr>\n    <tr>\n      <th>637</th>\n      <td>P47985</td>\n      <td>UQCRFS1</td>\n      <td>M1755R</td>\n      <td>NaN</td>\n    </tr>\n    <tr>\n      <th>638</th>\n      <td>Q96RU2</td>\n      <td>USP28</td>\n      <td>M1755R</td>\n      <td>NaN</td>\n    </tr>\n    <tr>\n      <th>639</th>\n      <td>Q9UQR1</td>\n      <td>ZNF148</td>\n      <td>M1755R</td>\n      <td>NaN</td>\n    </tr>\n  </tbody>\n</table>\n<p>640 rows × 4 columns</p>\n</div>"
     },
     "execution_count": 35,
     "metadata": {},
     "output_type": "execute_result"
    }
   ],
   "source": [
    "data_parsed_melted = data_parsed.melt(id_vars=[\"Uniprot ID\", \"Prey\"], var_name=[\"Mutation\"], value_name=\"FoldChange\")\n",
    "data_parsed_melted"
   ],
   "metadata": {
    "collapsed": false,
    "pycharm": {
     "name": "#%%\n"
    }
   }
  },
  {
   "cell_type": "code",
   "execution_count": 42,
   "outputs": [
    {
     "data": {
      "text/plain": "0        P38398.I26A\n1        P38398.I26A\n2        P38398.I26A\n3        P38398.I26A\n4        P38398.I26A\n           ...      \n635    P38398.M1755R\n636    P38398.M1755R\n637    P38398.M1755R\n638    P38398.M1755R\n639    P38398.M1755R\nName: Mutation, Length: 640, dtype: object"
     },
     "execution_count": 42,
     "metadata": {},
     "output_type": "execute_result"
    }
   ],
   "source": [
    "elaspic_input_brca1 = \"P38398\" + \".\" + data_parsed_melted[\"Mutation\"]\n",
    "elaspic_input_brca1"
   ],
   "metadata": {
    "collapsed": false,
    "pycharm": {
     "name": "#%%\n"
    }
   }
  },
  {
   "cell_type": "code",
   "execution_count": 48,
   "outputs": [
    {
     "name": "stdout",
     "output_type": "stream",
     "text": [
      "P38398.S1655F\n",
      "P38398.C61G\n",
      "P38398.M1755R\n",
      "P38398.R71G\n",
      "P38398.I26A\n",
      "---\n"
     ]
    }
   ],
   "source": [
    "print(\n",
    "    \"\\n\".join(\n",
    "        set(elaspic_input_brca1)\n",
    "    )\n",
    ")\n",
    "print(\"---\")"
   ],
   "metadata": {
    "collapsed": false,
    "pycharm": {
     "name": "#%%\n"
    }
   }
  },
  {
   "cell_type": "raw",
   "source": [
    "4 mutations have been correctly input.\n",
    "To continue, input your email address (optional) and click Submit.\n",
    "\n",
    "There is an unrecognized protein residue.\n",
    "Unrecognized protein residues (1):\n",
    "P38398.M1755R"
   ],
   "metadata": {
    "collapsed": false,
    "pycharm": {
     "name": "#%% raw\n"
    }
   }
  },
  {
   "cell_type": "raw",
   "source": [
    "http://elaspic.kimlab.org/result/261a731e/"
   ],
   "metadata": {
    "collapsed": false,
    "pycharm": {
     "name": "#%% raw\n"
    }
   }
  },
  {
   "cell_type": "markdown",
   "source": [
    "#### Each mutation in different link\n",
    "| ---           | ---                                        | ---       |\n",
    "| P38398.S1655F | http://elaspic.kimlab.org/result/128cdea8/ | Completed |\n",
    "| P38398.C61G   | http://elaspic.kimlab.org/result/80cd13c2/ | On going  |\n",
    "| P38398.M1755R | There is an unrecognized protein residue.  | -         |\n",
    "| P38398.R71G   | http://elaspic.kimlab.org/result/6e7d709e/ | Completed |\n",
    "| P38398.I26A   | http://elaspic.kimlab.org/result/d7f544b3/ | Completed |"
   ],
   "metadata": {
    "collapsed": false,
    "pycharm": {
     "name": "#%% md\n"
    }
   }
  },
  {
   "cell_type": "code",
   "execution_count": null,
   "outputs": [],
   "source": [],
   "metadata": {
    "collapsed": false,
    "pycharm": {
     "name": "#%%\n"
    }
   }
  },
  {
   "cell_type": "code",
   "execution_count": null,
   "outputs": [],
   "source": [],
   "metadata": {
    "collapsed": false,
    "pycharm": {
     "name": "#%%\n"
    }
   }
  },
  {
   "cell_type": "code",
   "execution_count": null,
   "outputs": [],
   "source": [],
   "metadata": {
    "collapsed": false,
    "pycharm": {
     "name": "#%%\n"
    }
   }
  },
  {
   "cell_type": "code",
   "execution_count": null,
   "outputs": [],
   "source": [],
   "metadata": {
    "collapsed": false,
    "pycharm": {
     "name": "#%%\n"
    }
   }
  },
  {
   "cell_type": "code",
   "execution_count": null,
   "outputs": [],
   "source": [],
   "metadata": {
    "collapsed": false,
    "pycharm": {
     "name": "#%%\n"
    }
   }
  },
  {
   "cell_type": "code",
   "execution_count": null,
   "outputs": [],
   "source": [],
   "metadata": {
    "collapsed": false,
    "pycharm": {
     "name": "#%%\n"
    }
   }
  },
  {
   "cell_type": "code",
   "execution_count": null,
   "outputs": [],
   "source": [],
   "metadata": {
    "collapsed": false,
    "pycharm": {
     "name": "#%%\n"
    }
   }
  }
 ],
 "metadata": {
  "kernelspec": {
   "display_name": "Python 3",
   "language": "python",
   "name": "python3"
  },
  "language_info": {
   "codemirror_mode": {
    "name": "ipython",
    "version": 2
   },
   "file_extension": ".py",
   "mimetype": "text/x-python",
   "name": "python",
   "nbconvert_exporter": "python",
   "pygments_lexer": "ipython2",
   "version": "2.7.6"
  }
 },
 "nbformat": 4,
 "nbformat_minor": 0
}