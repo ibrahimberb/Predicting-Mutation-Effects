{
 "cells": [
  {
   "cell_type": "markdown",
   "id": "775f998d-83d4-482e-9904-f3169e985e0b",
   "metadata": {},
   "source": [
    "# Evaluate"
   ]
  },
  {
   "cell_type": "code",
   "execution_count": 1,
   "id": "0f185c92-5cc1-4696-8451-e37b95202548",
   "metadata": {},
   "outputs": [],
   "source": [
    "import pandas as pd\n",
    "import sys\n",
    "sys.path += [\"../../..\"]\n",
    "from utils import is_valid_aa_change_in_experiment_id, is_valid_aa_change_mutation\n",
    "from src.benchmark.benchmark_utils import get_mutation_corrected\n",
    "import numpy as np\n",
    "\n",
    "# Reflect changes in the modules immediately.\n",
    "%load_ext autoreload\n",
    "%autoreload 2"
   ]
  },
  {
   "cell_type": "code",
   "execution_count": 2,
   "id": "0063fecf-a489-4efb-bf80-91c259a06a7f",
   "metadata": {},
   "outputs": [
    {
     "data": {
      "text/html": [
       "<div>\n",
       "<style scoped>\n",
       "    .dataframe tbody tr th:only-of-type {\n",
       "        vertical-align: middle;\n",
       "    }\n",
       "\n",
       "    .dataframe tbody tr th {\n",
       "        vertical-align: top;\n",
       "    }\n",
       "\n",
       "    .dataframe thead th {\n",
       "        text-align: right;\n",
       "    }\n",
       "</style>\n",
       "<table border=\"1\" class=\"dataframe\">\n",
       "  <thead>\n",
       "    <tr style=\"text-align: right;\">\n",
       "      <th></th>\n",
       "      <th>UniProt_ID</th>\n",
       "      <th>Mutation</th>\n",
       "      <th>Interactor_UniProt_ID</th>\n",
       "      <th>Prediction</th>\n",
       "      <th>Median_Probability</th>\n",
       "    </tr>\n",
       "  </thead>\n",
       "  <tbody>\n",
       "    <tr>\n",
       "      <th>0</th>\n",
       "      <td>O96017</td>\n",
       "      <td>K373E</td>\n",
       "      <td>O43293</td>\n",
       "      <td>1</td>\n",
       "      <td>0.52331</td>\n",
       "    </tr>\n",
       "    <tr>\n",
       "      <th>1</th>\n",
       "      <td>O96017</td>\n",
       "      <td>K373E</td>\n",
       "      <td>O15297</td>\n",
       "      <td>1</td>\n",
       "      <td>0.70992</td>\n",
       "    </tr>\n",
       "    <tr>\n",
       "      <th>2</th>\n",
       "      <td>P01112</td>\n",
       "      <td>G12D</td>\n",
       "      <td>Q12967</td>\n",
       "      <td>1</td>\n",
       "      <td>0.58402</td>\n",
       "    </tr>\n",
       "    <tr>\n",
       "      <th>3</th>\n",
       "      <td>P01112</td>\n",
       "      <td>G12D</td>\n",
       "      <td>O95267</td>\n",
       "      <td>1</td>\n",
       "      <td>0.59477</td>\n",
       "    </tr>\n",
       "    <tr>\n",
       "      <th>4</th>\n",
       "      <td>P01112</td>\n",
       "      <td>G12D</td>\n",
       "      <td>Q8TDF6</td>\n",
       "      <td>1</td>\n",
       "      <td>0.60715</td>\n",
       "    </tr>\n",
       "  </tbody>\n",
       "</table>\n",
       "</div>"
      ],
      "text/plain": [
       "  UniProt_ID Mutation Interactor_UniProt_ID  Prediction  Median_Probability\n",
       "0     O96017    K373E                O43293           1             0.52331\n",
       "1     O96017    K373E                O15297           1             0.70992\n",
       "2     P01112     G12D                Q12967           1             0.58402\n",
       "3     P01112     G12D                O95267           1             0.59477\n",
       "4     P01112     G12D                Q8TDF6           1             0.60715"
      ]
     },
     "execution_count": 2,
     "metadata": {},
     "output_type": "execute_result"
    }
   ],
   "source": [
    "predictions = pd.read_csv(\"kim_prediction_2021-11-19/3fc26bef/predictions_soft_2021-11-19.csv\")\n",
    "predictions.head()"
   ]
  },
  {
   "cell_type": "markdown",
   "id": "1f821a1f-f639-4a36-9dda-8cc2c8a08999",
   "metadata": {
    "tags": []
   },
   "source": [
    "# Supp 03"
   ]
  },
  {
   "cell_type": "code",
   "execution_count": 3,
   "id": "e67bcbde-3518-4d15-8ec8-6c65b0a460be",
   "metadata": {},
   "outputs": [],
   "source": [
    "supp3_sheet1 = pd.read_excel(\"science.abf3066_tables_s2_to_s12/science.abf3066_Table_S3.xlsx\", sheet_name=1)\n",
    "supp3_sheet2 = pd.read_excel(\"science.abf3066_tables_s2_to_s12/science.abf3066_Table_S3.xlsx\", sheet_name=2)\n",
    "supp3_sheet3 = pd.read_excel(\"science.abf3066_tables_s2_to_s12/science.abf3066_Table_S3.xlsx\", sheet_name=3)"
   ]
  },
  {
   "cell_type": "code",
   "execution_count": 4,
   "id": "57279908-53ed-46ee-a45a-402c4b36c52b",
   "metadata": {},
   "outputs": [],
   "source": [
    "def parse_supp3_sheet_1(data):\n",
    "    # Parse sheet 1\n",
    "    data_parsed = data[\n",
    "        data[\"Experiment.ID\"].apply(lambda x: is_valid_aa_change_in_experiment_id(x))\n",
    "    ].copy()\n",
    "    data_parsed = data_parsed[\n",
    "        ~data_parsed[\"FoldChange\"].isna()\n",
    "    ]\n",
    "    data_parsed[\"PROTEIN\"] = data_parsed[\"Bait ID\"]\n",
    "    data_parsed[\"MUTATION\"] = data_parsed[\"Experiment.ID\"].apply(\n",
    "        lambda x: get_mutation_corrected(x.split('_')[1])\n",
    "    )\n",
    "    data_parsed[\"INTERACTOR\"] = data_parsed[\"Prey ID\"]\n",
    "    data_parsed[\"MUTATION_EFFECT\"] = data_parsed[\"FoldChange\"].apply(lambda x: int(np.log2(x) > 0))\n",
    "    data_ready = data_parsed[[\"PROTEIN\", \"MUTATION\", \"INTERACTOR\", \"MUTATION_EFFECT\"]].copy()\n",
    "    return data_ready\n",
    "\n",
    "def parse_supp3_sheet_2(data):\n",
    "    return parse_supp3_sheet_1(data)\n",
    "\n",
    "def parse_supp3_sheet_3(data):\n",
    "    data = data[\n",
    "        ~data[\"Experiment.ID\"].isna()\n",
    "    ].copy()\n",
    "    return parse_supp3_sheet_1(data)"
   ]
  },
  {
   "cell_type": "code",
   "execution_count": 5,
   "id": "e0d70e8f-d635-450d-bfe4-05307567d8dc",
   "metadata": {},
   "outputs": [],
   "source": [
    "# Parse sheet 1\n",
    "supp3_sheet1_ready = parse_supp3_sheet_1(supp3_sheet1)"
   ]
  },
  {
   "cell_type": "code",
   "execution_count": 6,
   "id": "9a75b39c-6e45-42f1-9c82-73abb2b53979",
   "metadata": {},
   "outputs": [],
   "source": [
    "# Parse sheet 2\n",
    "supp3_sheet2_ready = parse_supp3_sheet_2(supp3_sheet2)"
   ]
  },
  {
   "cell_type": "code",
   "execution_count": 7,
   "id": "a540811b-0bbd-4f27-8c4e-26dcede6f1f8",
   "metadata": {},
   "outputs": [],
   "source": [
    "# Parse sheet 3\n",
    "supp3_sheet3_ready = parse_supp3_sheet_3(supp3_sheet3)"
   ]
  },
  {
   "cell_type": "code",
   "execution_count": 8,
   "id": "66536c65-fbc2-463b-81f2-e410b2153369",
   "metadata": {},
   "outputs": [
    {
     "data": {
      "text/html": [
       "<div>\n",
       "<style scoped>\n",
       "    .dataframe tbody tr th:only-of-type {\n",
       "        vertical-align: middle;\n",
       "    }\n",
       "\n",
       "    .dataframe tbody tr th {\n",
       "        vertical-align: top;\n",
       "    }\n",
       "\n",
       "    .dataframe thead th {\n",
       "        text-align: right;\n",
       "    }\n",
       "</style>\n",
       "<table border=\"1\" class=\"dataframe\">\n",
       "  <thead>\n",
       "    <tr style=\"text-align: right;\">\n",
       "      <th></th>\n",
       "      <th>PROTEIN</th>\n",
       "      <th>MUTATION</th>\n",
       "      <th>INTERACTOR</th>\n",
       "      <th>MUTATION_EFFECT</th>\n",
       "    </tr>\n",
       "  </thead>\n",
       "  <tbody>\n",
       "    <tr>\n",
       "      <th>0</th>\n",
       "      <td>P31749</td>\n",
       "      <td>E17K</td>\n",
       "      <td>Q14532</td>\n",
       "      <td>1</td>\n",
       "    </tr>\n",
       "    <tr>\n",
       "      <th>1</th>\n",
       "      <td>P31749</td>\n",
       "      <td>E17K</td>\n",
       "      <td>Q16543</td>\n",
       "      <td>1</td>\n",
       "    </tr>\n",
       "    <tr>\n",
       "      <th>2</th>\n",
       "      <td>P31749</td>\n",
       "      <td>E17K</td>\n",
       "      <td>P33764</td>\n",
       "      <td>1</td>\n",
       "    </tr>\n",
       "    <tr>\n",
       "      <th>3</th>\n",
       "      <td>P31749</td>\n",
       "      <td>E17K</td>\n",
       "      <td>Q8IUC1</td>\n",
       "      <td>1</td>\n",
       "    </tr>\n",
       "    <tr>\n",
       "      <th>4</th>\n",
       "      <td>P31749</td>\n",
       "      <td>E17K</td>\n",
       "      <td>Q8WTT2</td>\n",
       "      <td>1</td>\n",
       "    </tr>\n",
       "  </tbody>\n",
       "</table>\n",
       "</div>"
      ],
      "text/plain": [
       "  PROTEIN MUTATION INTERACTOR  MUTATION_EFFECT\n",
       "0  P31749     E17K     Q14532                1\n",
       "1  P31749     E17K     Q16543                1\n",
       "2  P31749     E17K     P33764                1\n",
       "3  P31749     E17K     Q8IUC1                1\n",
       "4  P31749     E17K     Q8WTT2                1"
      ]
     },
     "execution_count": 8,
     "metadata": {},
     "output_type": "execute_result"
    }
   ],
   "source": [
    "# Merge all sheets in supp 03\n",
    "supp3_merged = pd.concat([\n",
    "    supp3_sheet1_ready, supp3_sheet2_ready, supp3_sheet3_ready\n",
    "])\n",
    "supp3_merged = supp3_merged.drop_duplicates()\n",
    "supp3_merged.reset_index(drop=True, inplace=True)\n",
    "supp3_merged.head()"
   ]
  },
  {
   "cell_type": "code",
   "execution_count": null,
   "id": "ae437aed-7dca-4731-8fd5-eecfedd003b9",
   "metadata": {},
   "outputs": [],
   "source": []
  },
  {
   "cell_type": "markdown",
   "id": "9d06897c-b032-40a4-8695-c8f531fec61a",
   "metadata": {
    "tags": []
   },
   "source": [
    "# Supp 04"
   ]
  },
  {
   "cell_type": "code",
   "execution_count": 9,
   "id": "a542f824-a20c-4324-a92a-19f186bbc625",
   "metadata": {},
   "outputs": [],
   "source": [
    "supp4_sheet1 = pd.read_excel(\"science.abf3066_tables_s2_to_s12/science.abf3066_Table_S4.xlsx\", sheet_name=1)\n",
    "supp4_sheet2 = pd.read_excel(\"science.abf3066_tables_s2_to_s12/science.abf3066_Table_S4.xlsx\", sheet_name=2)\n",
    "supp4_sheet3 = pd.read_excel(\"science.abf3066_tables_s2_to_s12/science.abf3066_Table_S4.xlsx\", sheet_name=3)\n",
    "supp4_sheet4 = pd.read_excel(\"science.abf3066_tables_s2_to_s12/science.abf3066_Table_S4.xlsx\", sheet_name=4)"
   ]
  },
  {
   "cell_type": "code",
   "execution_count": 10,
   "id": "60e3a447-8e38-4f69-bd91-8898cc14a9c0",
   "metadata": {},
   "outputs": [],
   "source": [
    "def parse_supp4_sheet_1(data):\n",
    "    # Parse sheet 1\n",
    "    data_parsed = data[\n",
    "        data[\"Experiment.ID\"].apply(lambda x: is_valid_aa_change_in_experiment_id(x))\n",
    "    ].copy()\n",
    "    data_parsed = data_parsed[\n",
    "        ~data_parsed[\"FoldChange\"].isna()\n",
    "    ]\n",
    "    data_parsed[\"PROTEIN\"] = data_parsed[\"Bait ID\"]\n",
    "    data_parsed[\"MUTATION\"] = data_parsed[\"Experiment.ID\"].apply(\n",
    "        lambda x: get_mutation_corrected(x.split('_')[1])\n",
    "    )\n",
    "    data_parsed[\"INTERACTOR\"] = data_parsed[\"Prey ID\"]\n",
    "    data_parsed[\"MUTATION_EFFECT\"] = data_parsed[\"FoldChange\"].apply(lambda x: int(np.log2(x) > 0))\n",
    "    data_ready = data_parsed[[\"PROTEIN\", \"MUTATION\", \"INTERACTOR\", \"MUTATION_EFFECT\"]].copy()\n",
    "    return data_ready\n",
    "\n",
    "def parse_supp4_sheet_2(data):\n",
    "    # Parse sheet 2\n",
    "    data_parsed = data[\n",
    "        data[\"Experiment.ID\"].apply(lambda x: is_valid_aa_change_mutation(x))\n",
    "    ].copy()\n",
    "    data_parsed = data_parsed[\n",
    "        ~data_parsed[\"FoldChange\"].isna()\n",
    "    ]\n",
    "    data_parsed[\"PROTEIN\"] = data_parsed[\"Bait ID\"]\n",
    "    data_parsed[\"MUTATION\"] = data_parsed[\"Experiment.ID\"]\n",
    "    data_parsed[\"INTERACTOR\"] = data_parsed[\"Prey ID\"]\n",
    "    data_parsed[\"MUTATION_EFFECT\"] = data_parsed[\"FoldChange\"].apply(lambda x: int(np.log2(x) > 0))\n",
    "    data_ready = data_parsed[[\"PROTEIN\", \"MUTATION\", \"INTERACTOR\", \"MUTATION_EFFECT\"]].copy()\n",
    "    return data_ready\n",
    "\n",
    "def parse_supp4_sheet_3(data):\n",
    "    return parse_supp4_sheet_1(data)\n",
    "\n",
    "def parse_supp4_sheet_4(data):\n",
    "    return parse_supp4_sheet_1(data)"
   ]
  },
  {
   "cell_type": "code",
   "execution_count": 11,
   "id": "df1150ce-2537-42d2-a84c-3f736bd4b596",
   "metadata": {},
   "outputs": [],
   "source": [
    "# Parse sheet 1\n",
    "supp4_sheet1_ready = parse_supp4_sheet_1(supp4_sheet1)"
   ]
  },
  {
   "cell_type": "code",
   "execution_count": 12,
   "id": "18aac667-3de5-452d-9976-001d647a8670",
   "metadata": {},
   "outputs": [],
   "source": [
    "# Parse sheet 2\n",
    "supp4_sheet2_ready = parse_supp4_sheet_2(supp4_sheet2)"
   ]
  },
  {
   "cell_type": "code",
   "execution_count": 13,
   "id": "bbd053df-688d-4f4a-a298-35d109493f3b",
   "metadata": {},
   "outputs": [],
   "source": [
    "# Parse sheet 3\n",
    "supp4_sheet3_ready = parse_supp4_sheet_3(supp4_sheet3)"
   ]
  },
  {
   "cell_type": "code",
   "execution_count": 14,
   "id": "d3e4f187-32c2-41d5-a16a-4658daa1c68a",
   "metadata": {},
   "outputs": [],
   "source": [
    "# Parse sheet 4\n",
    "supp4_sheet4_ready = parse_supp4_sheet_4(supp4_sheet4)"
   ]
  },
  {
   "cell_type": "code",
   "execution_count": 15,
   "id": "0495c134-d29a-44fa-b50f-1053c9cc9b9f",
   "metadata": {},
   "outputs": [
    {
     "data": {
      "text/html": [
       "<div>\n",
       "<style scoped>\n",
       "    .dataframe tbody tr th:only-of-type {\n",
       "        vertical-align: middle;\n",
       "    }\n",
       "\n",
       "    .dataframe tbody tr th {\n",
       "        vertical-align: top;\n",
       "    }\n",
       "\n",
       "    .dataframe thead th {\n",
       "        text-align: right;\n",
       "    }\n",
       "</style>\n",
       "<table border=\"1\" class=\"dataframe\">\n",
       "  <thead>\n",
       "    <tr style=\"text-align: right;\">\n",
       "      <th></th>\n",
       "      <th>PROTEIN</th>\n",
       "      <th>MUTATION</th>\n",
       "      <th>INTERACTOR</th>\n",
       "      <th>MUTATION_EFFECT</th>\n",
       "    </tr>\n",
       "  </thead>\n",
       "  <tbody>\n",
       "    <tr>\n",
       "      <th>0</th>\n",
       "      <td>P31749</td>\n",
       "      <td>E17K</td>\n",
       "      <td>P33764</td>\n",
       "      <td>1</td>\n",
       "    </tr>\n",
       "    <tr>\n",
       "      <th>1</th>\n",
       "      <td>P31749</td>\n",
       "      <td>E17K</td>\n",
       "      <td>Q14532</td>\n",
       "      <td>1</td>\n",
       "    </tr>\n",
       "    <tr>\n",
       "      <th>2</th>\n",
       "      <td>P31749</td>\n",
       "      <td>E17K</td>\n",
       "      <td>Q16543</td>\n",
       "      <td>1</td>\n",
       "    </tr>\n",
       "  </tbody>\n",
       "</table>\n",
       "</div>"
      ],
      "text/plain": [
       "  PROTEIN MUTATION INTERACTOR  MUTATION_EFFECT\n",
       "0  P31749     E17K     P33764                1\n",
       "1  P31749     E17K     Q14532                1\n",
       "2  P31749     E17K     Q16543                1"
      ]
     },
     "execution_count": 15,
     "metadata": {},
     "output_type": "execute_result"
    }
   ],
   "source": [
    "supp4_sheet1_ready.head(3)"
   ]
  },
  {
   "cell_type": "code",
   "execution_count": 16,
   "id": "9f1d64cf-dfb9-4961-ad45-93ae5d7c7e14",
   "metadata": {},
   "outputs": [
    {
     "data": {
      "text/html": [
       "<div>\n",
       "<style scoped>\n",
       "    .dataframe tbody tr th:only-of-type {\n",
       "        vertical-align: middle;\n",
       "    }\n",
       "\n",
       "    .dataframe tbody tr th {\n",
       "        vertical-align: top;\n",
       "    }\n",
       "\n",
       "    .dataframe thead th {\n",
       "        text-align: right;\n",
       "    }\n",
       "</style>\n",
       "<table border=\"1\" class=\"dataframe\">\n",
       "  <thead>\n",
       "    <tr style=\"text-align: right;\">\n",
       "      <th></th>\n",
       "      <th>PROTEIN</th>\n",
       "      <th>MUTATION</th>\n",
       "      <th>INTERACTOR</th>\n",
       "      <th>MUTATION_EFFECT</th>\n",
       "    </tr>\n",
       "  </thead>\n",
       "  <tbody>\n",
       "    <tr>\n",
       "      <th>39</th>\n",
       "      <td>P38398</td>\n",
       "      <td>C61G</td>\n",
       "      <td>Q9BX63</td>\n",
       "      <td>1</td>\n",
       "    </tr>\n",
       "    <tr>\n",
       "      <th>40</th>\n",
       "      <td>P38398</td>\n",
       "      <td>C61G</td>\n",
       "      <td>P40692</td>\n",
       "      <td>1</td>\n",
       "    </tr>\n",
       "    <tr>\n",
       "      <th>41</th>\n",
       "      <td>P38398</td>\n",
       "      <td>C61G</td>\n",
       "      <td>Q96RL1</td>\n",
       "      <td>1</td>\n",
       "    </tr>\n",
       "  </tbody>\n",
       "</table>\n",
       "</div>"
      ],
      "text/plain": [
       "   PROTEIN MUTATION INTERACTOR  MUTATION_EFFECT\n",
       "39  P38398     C61G     Q9BX63                1\n",
       "40  P38398     C61G     P40692                1\n",
       "41  P38398     C61G     Q96RL1                1"
      ]
     },
     "execution_count": 16,
     "metadata": {},
     "output_type": "execute_result"
    }
   ],
   "source": [
    "supp4_sheet2_ready.head(3)"
   ]
  },
  {
   "cell_type": "code",
   "execution_count": 17,
   "id": "fce307b8-43ea-4590-8cc0-62d030f0f3be",
   "metadata": {},
   "outputs": [
    {
     "data": {
      "text/html": [
       "<div>\n",
       "<style scoped>\n",
       "    .dataframe tbody tr th:only-of-type {\n",
       "        vertical-align: middle;\n",
       "    }\n",
       "\n",
       "    .dataframe tbody tr th {\n",
       "        vertical-align: top;\n",
       "    }\n",
       "\n",
       "    .dataframe thead th {\n",
       "        text-align: right;\n",
       "    }\n",
       "</style>\n",
       "<table border=\"1\" class=\"dataframe\">\n",
       "  <thead>\n",
       "    <tr style=\"text-align: right;\">\n",
       "      <th></th>\n",
       "      <th>PROTEIN</th>\n",
       "      <th>MUTATION</th>\n",
       "      <th>INTERACTOR</th>\n",
       "      <th>MUTATION_EFFECT</th>\n",
       "    </tr>\n",
       "  </thead>\n",
       "  <tbody>\n",
       "    <tr>\n",
       "      <th>19</th>\n",
       "      <td>P12830</td>\n",
       "      <td>E243K</td>\n",
       "      <td>P35222</td>\n",
       "      <td>1</td>\n",
       "    </tr>\n",
       "    <tr>\n",
       "      <th>20</th>\n",
       "      <td>P12830</td>\n",
       "      <td>E243K</td>\n",
       "      <td>O60716</td>\n",
       "      <td>1</td>\n",
       "    </tr>\n",
       "    <tr>\n",
       "      <th>57</th>\n",
       "      <td>P01112</td>\n",
       "      <td>G12D</td>\n",
       "      <td>P13995</td>\n",
       "      <td>1</td>\n",
       "    </tr>\n",
       "  </tbody>\n",
       "</table>\n",
       "</div>"
      ],
      "text/plain": [
       "   PROTEIN MUTATION INTERACTOR  MUTATION_EFFECT\n",
       "19  P12830    E243K     P35222                1\n",
       "20  P12830    E243K     O60716                1\n",
       "57  P01112     G12D     P13995                1"
      ]
     },
     "execution_count": 17,
     "metadata": {},
     "output_type": "execute_result"
    }
   ],
   "source": [
    "supp4_sheet3_ready.head(3)"
   ]
  },
  {
   "cell_type": "code",
   "execution_count": 18,
   "id": "a81464fe-0135-40ab-9971-c156ad5d1690",
   "metadata": {},
   "outputs": [
    {
     "data": {
      "text/html": [
       "<div>\n",
       "<style scoped>\n",
       "    .dataframe tbody tr th:only-of-type {\n",
       "        vertical-align: middle;\n",
       "    }\n",
       "\n",
       "    .dataframe tbody tr th {\n",
       "        vertical-align: top;\n",
       "    }\n",
       "\n",
       "    .dataframe thead th {\n",
       "        text-align: right;\n",
       "    }\n",
       "</style>\n",
       "<table border=\"1\" class=\"dataframe\">\n",
       "  <thead>\n",
       "    <tr style=\"text-align: right;\">\n",
       "      <th></th>\n",
       "      <th>PROTEIN</th>\n",
       "      <th>MUTATION</th>\n",
       "      <th>INTERACTOR</th>\n",
       "      <th>MUTATION_EFFECT</th>\n",
       "    </tr>\n",
       "  </thead>\n",
       "  <tbody>\n",
       "    <tr>\n",
       "      <th>0</th>\n",
       "      <td>P31749</td>\n",
       "      <td>E17K</td>\n",
       "      <td>P11717</td>\n",
       "      <td>1</td>\n",
       "    </tr>\n",
       "    <tr>\n",
       "      <th>21</th>\n",
       "      <td>P12830</td>\n",
       "      <td>E243K</td>\n",
       "      <td>P35222</td>\n",
       "      <td>1</td>\n",
       "    </tr>\n",
       "    <tr>\n",
       "      <th>22</th>\n",
       "      <td>P12830</td>\n",
       "      <td>E243K</td>\n",
       "      <td>P35221</td>\n",
       "      <td>1</td>\n",
       "    </tr>\n",
       "  </tbody>\n",
       "</table>\n",
       "</div>"
      ],
      "text/plain": [
       "   PROTEIN MUTATION INTERACTOR  MUTATION_EFFECT\n",
       "0   P31749     E17K     P11717                1\n",
       "21  P12830    E243K     P35222                1\n",
       "22  P12830    E243K     P35221                1"
      ]
     },
     "execution_count": 18,
     "metadata": {},
     "output_type": "execute_result"
    }
   ],
   "source": [
    "supp4_sheet4_ready.head(3)"
   ]
  },
  {
   "cell_type": "code",
   "execution_count": 21,
   "id": "24f5315d-92c9-46ad-a524-3bc653a6e9a2",
   "metadata": {},
   "outputs": [
    {
     "data": {
      "text/html": [
       "<div>\n",
       "<style scoped>\n",
       "    .dataframe tbody tr th:only-of-type {\n",
       "        vertical-align: middle;\n",
       "    }\n",
       "\n",
       "    .dataframe tbody tr th {\n",
       "        vertical-align: top;\n",
       "    }\n",
       "\n",
       "    .dataframe thead th {\n",
       "        text-align: right;\n",
       "    }\n",
       "</style>\n",
       "<table border=\"1\" class=\"dataframe\">\n",
       "  <thead>\n",
       "    <tr style=\"text-align: right;\">\n",
       "      <th></th>\n",
       "      <th>PROTEIN</th>\n",
       "      <th>MUTATION</th>\n",
       "      <th>INTERACTOR</th>\n",
       "      <th>MUTATION_EFFECT</th>\n",
       "    </tr>\n",
       "  </thead>\n",
       "  <tbody>\n",
       "    <tr>\n",
       "      <th>0</th>\n",
       "      <td>P31749</td>\n",
       "      <td>E17K</td>\n",
       "      <td>P33764</td>\n",
       "      <td>1</td>\n",
       "    </tr>\n",
       "    <tr>\n",
       "      <th>1</th>\n",
       "      <td>P31749</td>\n",
       "      <td>E17K</td>\n",
       "      <td>Q14532</td>\n",
       "      <td>1</td>\n",
       "    </tr>\n",
       "    <tr>\n",
       "      <th>2</th>\n",
       "      <td>P31749</td>\n",
       "      <td>E17K</td>\n",
       "      <td>Q16543</td>\n",
       "      <td>1</td>\n",
       "    </tr>\n",
       "    <tr>\n",
       "      <th>3</th>\n",
       "      <td>P38398</td>\n",
       "      <td>C61G</td>\n",
       "      <td>Q9BX63</td>\n",
       "      <td>1</td>\n",
       "    </tr>\n",
       "    <tr>\n",
       "      <th>4</th>\n",
       "      <td>P38398</td>\n",
       "      <td>C61G</td>\n",
       "      <td>P40692</td>\n",
       "      <td>1</td>\n",
       "    </tr>\n",
       "  </tbody>\n",
       "</table>\n",
       "</div>"
      ],
      "text/plain": [
       "  PROTEIN MUTATION INTERACTOR  MUTATION_EFFECT\n",
       "0  P31749     E17K     P33764                1\n",
       "1  P31749     E17K     Q14532                1\n",
       "2  P31749     E17K     Q16543                1\n",
       "3  P38398     C61G     Q9BX63                1\n",
       "4  P38398     C61G     P40692                1"
      ]
     },
     "execution_count": 21,
     "metadata": {},
     "output_type": "execute_result"
    }
   ],
   "source": [
    "# Merge all sheets in supp 04\n",
    "supp4_merged = pd.concat([\n",
    "    supp4_sheet1_ready, supp4_sheet2_ready, supp4_sheet3_ready, supp4_sheet4_ready\n",
    "])\n",
    "supp4_merged = supp4_merged.drop_duplicates()\n",
    "supp4_merged.reset_index(drop=True, inplace=True)\n",
    "supp4_merged.head()"
   ]
  },
  {
   "cell_type": "code",
   "execution_count": null,
   "id": "69284746-53c8-4cac-bbd8-f3cdc533c7c9",
   "metadata": {},
   "outputs": [],
   "source": []
  },
  {
   "cell_type": "markdown",
   "id": "5bf0023f-7249-4479-895e-b364dfb5b570",
   "metadata": {},
   "source": [
    "# Merge All Excel Files"
   ]
  },
  {
   "cell_type": "code",
   "execution_count": 25,
   "id": "753c7f9c-f836-4c9f-81a9-28230083bb3b",
   "metadata": {},
   "outputs": [
    {
     "data": {
      "text/html": [
       "<div>\n",
       "<style scoped>\n",
       "    .dataframe tbody tr th:only-of-type {\n",
       "        vertical-align: middle;\n",
       "    }\n",
       "\n",
       "    .dataframe tbody tr th {\n",
       "        vertical-align: top;\n",
       "    }\n",
       "\n",
       "    .dataframe thead th {\n",
       "        text-align: right;\n",
       "    }\n",
       "</style>\n",
       "<table border=\"1\" class=\"dataframe\">\n",
       "  <thead>\n",
       "    <tr style=\"text-align: right;\">\n",
       "      <th></th>\n",
       "      <th>PROTEIN</th>\n",
       "      <th>MUTATION</th>\n",
       "      <th>INTERACTOR</th>\n",
       "      <th>MUTATION_EFFECT</th>\n",
       "    </tr>\n",
       "  </thead>\n",
       "  <tbody>\n",
       "    <tr>\n",
       "      <th>0</th>\n",
       "      <td>P31749</td>\n",
       "      <td>E17K</td>\n",
       "      <td>Q14532</td>\n",
       "      <td>1</td>\n",
       "    </tr>\n",
       "    <tr>\n",
       "      <th>1</th>\n",
       "      <td>P31749</td>\n",
       "      <td>E17K</td>\n",
       "      <td>Q16543</td>\n",
       "      <td>1</td>\n",
       "    </tr>\n",
       "    <tr>\n",
       "      <th>2</th>\n",
       "      <td>P31749</td>\n",
       "      <td>E17K</td>\n",
       "      <td>P33764</td>\n",
       "      <td>1</td>\n",
       "    </tr>\n",
       "    <tr>\n",
       "      <th>3</th>\n",
       "      <td>P31749</td>\n",
       "      <td>E17K</td>\n",
       "      <td>Q8IUC1</td>\n",
       "      <td>1</td>\n",
       "    </tr>\n",
       "    <tr>\n",
       "      <th>4</th>\n",
       "      <td>P31749</td>\n",
       "      <td>E17K</td>\n",
       "      <td>Q8WTT2</td>\n",
       "      <td>1</td>\n",
       "    </tr>\n",
       "    <tr>\n",
       "      <th>...</th>\n",
       "      <td>...</td>\n",
       "      <td>...</td>\n",
       "      <td>...</td>\n",
       "      <td>...</td>\n",
       "    </tr>\n",
       "    <tr>\n",
       "      <th>62247</th>\n",
       "      <td>P04637</td>\n",
       "      <td>R273H</td>\n",
       "      <td>Q9H2K0</td>\n",
       "      <td>0</td>\n",
       "    </tr>\n",
       "    <tr>\n",
       "      <th>62248</th>\n",
       "      <td>P04637</td>\n",
       "      <td>R273H</td>\n",
       "      <td>P10412</td>\n",
       "      <td>0</td>\n",
       "    </tr>\n",
       "    <tr>\n",
       "      <th>62249</th>\n",
       "      <td>P04637</td>\n",
       "      <td>R273H</td>\n",
       "      <td>P50750</td>\n",
       "      <td>0</td>\n",
       "    </tr>\n",
       "    <tr>\n",
       "      <th>62250</th>\n",
       "      <td>P04637</td>\n",
       "      <td>R273H</td>\n",
       "      <td>Q7Z7K0</td>\n",
       "      <td>0</td>\n",
       "    </tr>\n",
       "    <tr>\n",
       "      <th>62251</th>\n",
       "      <td>P04637</td>\n",
       "      <td>R273H</td>\n",
       "      <td>Q15651</td>\n",
       "      <td>0</td>\n",
       "    </tr>\n",
       "  </tbody>\n",
       "</table>\n",
       "<p>62252 rows × 4 columns</p>\n",
       "</div>"
      ],
      "text/plain": [
       "      PROTEIN MUTATION INTERACTOR  MUTATION_EFFECT\n",
       "0      P31749     E17K     Q14532                1\n",
       "1      P31749     E17K     Q16543                1\n",
       "2      P31749     E17K     P33764                1\n",
       "3      P31749     E17K     Q8IUC1                1\n",
       "4      P31749     E17K     Q8WTT2                1\n",
       "...       ...      ...        ...              ...\n",
       "62247  P04637    R273H     Q9H2K0                0\n",
       "62248  P04637    R273H     P10412                0\n",
       "62249  P04637    R273H     P50750                0\n",
       "62250  P04637    R273H     Q7Z7K0                0\n",
       "62251  P04637    R273H     Q15651                0\n",
       "\n",
       "[62252 rows x 4 columns]"
      ]
     },
     "execution_count": 25,
     "metadata": {},
     "output_type": "execute_result"
    }
   ],
   "source": [
    "kim_et_al_data = pd.concat(\n",
    "    [supp3_merged, supp4_merged]\n",
    ")\n",
    "kim_et_al_data = kim_et_al_data.drop_duplicates()\n",
    "kim_et_al_data.reset_index(drop=True, inplace=True)\n",
    "kim_et_al_data"
   ]
  },
  {
   "cell_type": "code",
   "execution_count": null,
   "id": "0f36df1f-fddb-4bb3-8a38-29d905002b63",
   "metadata": {},
   "outputs": [],
   "source": []
  },
  {
   "cell_type": "markdown",
   "id": "2bd5835f-86d3-44cd-915f-220a6633084d",
   "metadata": {},
   "source": [
    "# Extract Protein and Mutation Pairs"
   ]
  },
  {
   "cell_type": "code",
   "execution_count": 28,
   "id": "a19f84d4-2cf5-480a-83d5-c4a26b50aac8",
   "metadata": {},
   "outputs": [
    {
     "data": {
      "text/plain": [
       "{('O96017', 'K373E'),\n",
       " ('P01112', 'G12D'),\n",
       " ('P04637', 'R175H'),\n",
       " ('P04637', 'R248W'),\n",
       " ('P04637', 'R273H'),\n",
       " ('P12830', 'E243K'),\n",
       " ('P31749', 'E17K'),\n",
       " ('P38398', 'C61G'),\n",
       " ('P38398', 'I26A'),\n",
       " ('P38398', 'M1775R'),\n",
       " ('P38398', 'R71G'),\n",
       " ('P38398', 'S1655F'),\n",
       " ('P42336', 'E545K'),\n",
       " ('P42336', 'H1047R'),\n",
       " ('P42336', 'M1043V'),\n",
       " ('P60484', 'R130Q'),\n",
       " ('Q86UE4', 'A78S'),\n",
       " ('Q86YC2', 'E837K'),\n",
       " ('Q9BX63', 'A745T'),\n",
       " ('Q9Y243', 'E17K')}"
      ]
     },
     "execution_count": 28,
     "metadata": {},
     "output_type": "execute_result"
    }
   ],
   "source": [
    "protein_mutation_pairs = set(\n",
    "    zip(kim_et_al_data[\"PROTEIN\"], kim_et_al_data[\"MUTATION\"])\n",
    ")\n",
    "len(protein_mutation_pairs)\n",
    "protein_mutation_pairs"
   ]
  },
  {
   "cell_type": "code",
   "execution_count": 29,
   "id": "cdd19caf-14cf-4382-bbb6-fd8ab98365bb",
   "metadata": {},
   "outputs": [],
   "source": [
    "with open(\"ELASPIC_Input/input_pairs_20.txt\", \"w\") as file:\n",
    "    for pair in protein_mutation_pairs:\n",
    "        file.write(f\"{pair[0]}.{pair[1]}\\n\")"
   ]
  },
  {
   "cell_type": "code",
   "execution_count": null,
   "id": "15968531-7384-4ee7-b53d-7e7d32ec1777",
   "metadata": {},
   "outputs": [],
   "source": []
  },
  {
   "cell_type": "code",
   "execution_count": null,
   "id": "5ace1dc9-1e01-4d96-be07-d88ccd2777a4",
   "metadata": {},
   "outputs": [],
   "source": []
  },
  {
   "cell_type": "code",
   "execution_count": null,
   "id": "5ea68e53-d2b7-4212-aada-32d4f8f5574a",
   "metadata": {},
   "outputs": [],
   "source": []
  }
 ],
 "metadata": {
  "kernelspec": {
   "display_name": "Predicting-Mutation-Effects",
   "language": "python",
   "name": "predicting-mutation-effects"
  },
  "language_info": {
   "codemirror_mode": {
    "name": "ipython",
    "version": 3
   },
   "file_extension": ".py",
   "mimetype": "text/x-python",
   "name": "python",
   "nbconvert_exporter": "python",
   "pygments_lexer": "ipython3",
   "version": "3.8.10"
  }
 },
 "nbformat": 4,
 "nbformat_minor": 5
}
