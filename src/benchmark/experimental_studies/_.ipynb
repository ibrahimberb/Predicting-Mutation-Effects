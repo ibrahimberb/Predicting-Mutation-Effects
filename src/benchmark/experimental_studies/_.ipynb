{
 "cells": [
  {
   "cell_type": "code",
   "execution_count": 1,
   "metadata": {
    "collapsed": true
   },
   "outputs": [],
   "source": [
    "import pandas as pd"
   ]
  },
  {
   "cell_type": "code",
   "execution_count": 2,
   "outputs": [],
   "source": [
    "data = pd.read_csv(\"../processed_data_740.csv\")"
   ],
   "metadata": {
    "collapsed": false,
    "pycharm": {
     "name": "#%%\n"
    }
   }
  },
  {
   "cell_type": "code",
   "execution_count": 3,
   "outputs": [
    {
     "data": {
      "text/plain": "     Mutation_Effect_Label UniProt_ID Mutation Interactor_UniProt_ID  \\\n0                        0     Q9BPZ3    F118A                P11940   \n1                        0     P01116     Y40C                P50749   \n2                        0     Q96QK1    F534D                Q9UBQ0   \n3                        0     Q96QK1    F534D              Q9UBQ0-2   \n4                        0   O43521-3     G66A                Q07812   \n..                     ...        ...      ...                   ...   \n735                      0     P84243     Q94A              Q9UER7-3   \n736                      0     Q96QK1    L589D                Q9UBQ0   \n737                      0     Q96QK1    L589D              Q9UBQ0-2   \n738                      0     P23297     F72L                P25815   \n739                      0     Q15836     L46P                O43752   \n\n     Template_sequence_identity  Alignment_score  \\\n0                        1.0000         1.000000   \n1                        0.9277         0.931315   \n2                        1.0000         0.360743   \n3                        1.0000         0.360743   \n4                        1.0000         0.714286   \n..                          ...              ...   \n735                      1.0000         0.948980   \n736                      1.0000         0.360743   \n737                      1.0000         0.360743   \n738                      0.6778         0.664382   \n739                      0.4194         0.278027   \n\n     Interactor_template_sequence_identity  Interactor_alignment_score  \\\n0                                   1.0000                    0.968750   \n1                                   0.3553                    0.172500   \n2                                   1.0000                    0.994505   \n3                                   1.0000                    0.973118   \n4                                   0.3007                    0.222028   \n..                                     ...                         ...   \n735                                 1.0000                    0.306767   \n736                                 1.0000                    0.994505   \n737                                 1.0000                    0.973118   \n738                                 0.5222                    0.517348   \n739                                 1.0000                    0.969231   \n\n     Final_ddG  ProtBert_score  ...  number_of_residues_mut  \\\n0     1.219700       -0.092273  ...                   118.0   \n1     2.076950        0.998749  ...                   329.0   \n2     2.695710        0.288297  ...                   453.0   \n3     2.695710        0.288297  ...                   453.0   \n4     0.683334       -0.051025  ...                   202.0   \n..         ...             ...  ...                     ...   \n735  -0.387860        0.995137  ...                   309.0   \n736   2.178790        0.803401  ...                   453.0   \n737   2.178790        0.803401  ...                   453.0   \n738   1.742750        0.889921  ...                   188.0   \n739   2.464990        0.996908  ...                   143.0   \n\n     IntraclashesEnergy1_wt  IntraclashesEnergy1_mut  IntraclashesEnergy2_wt  \\\n0                   5.30636                  3.79101                 52.4675   \n1                  47.61770                 47.21160                 70.2902   \n2                  68.21080                 68.19710                 59.2321   \n3                  68.21080                 68.19710                 59.2321   \n4                   3.74828                  3.76142                 41.5937   \n..                      ...                      ...                     ...   \n735                21.27130                 20.85060                 32.4886   \n736                68.13080                 68.12330                 59.2629   \n737                68.13080                 68.12330                 59.2629   \n738                26.74010                 27.29430                 17.1488   \n739                15.39100                 20.42630                  6.4110   \n\n     IntraclashesEnergy2_mut  Interface_hydrophobic_area  \\\n0                    52.4675                     427.775   \n1                    70.2461                     464.470   \n2                    59.1774                     510.690   \n3                    59.1774                     510.690   \n4                    41.5937                     405.510   \n..                       ...                         ...   \n735                  32.4886                    1159.700   \n736                  59.2629                     510.690   \n737                  59.2629                     510.690   \n738                  16.8699                     667.920   \n739                   6.4110                     765.775   \n\n     Interface_hydrophilic_area  Interface_total_area  \\\n0                       194.715               622.495   \n1                       400.030               864.505   \n2                       298.820               809.510   \n3                       298.820               809.510   \n4                       273.740               679.245   \n..                          ...                   ...   \n735                     952.745              2112.450   \n736                     298.820               809.510   \n737                     298.820               809.510   \n738                     288.795               956.720   \n739                     286.970              1052.740   \n\n     Interface_contact_distance_wt  Interface_contact_distance_mut  \n0                          3.35293                         3.35293  \n1                          3.07827                         3.59123  \n2                          3.03938                         3.24435  \n3                          3.03938                         3.24435  \n4                          3.37301                         3.22505  \n..                             ...                             ...  \n735                        3.00752                         4.27950  \n736                        3.45879                         3.26826  \n737                        3.45879                         3.26826  \n738                        3.26388                         3.30643  \n739                        3.45835                         3.68360  \n\n[740 rows x 62 columns]",
      "text/html": "<div>\n<style scoped>\n    .dataframe tbody tr th:only-of-type {\n        vertical-align: middle;\n    }\n\n    .dataframe tbody tr th {\n        vertical-align: top;\n    }\n\n    .dataframe thead th {\n        text-align: right;\n    }\n</style>\n<table border=\"1\" class=\"dataframe\">\n  <thead>\n    <tr style=\"text-align: right;\">\n      <th></th>\n      <th>Mutation_Effect_Label</th>\n      <th>UniProt_ID</th>\n      <th>Mutation</th>\n      <th>Interactor_UniProt_ID</th>\n      <th>Template_sequence_identity</th>\n      <th>Alignment_score</th>\n      <th>Interactor_template_sequence_identity</th>\n      <th>Interactor_alignment_score</th>\n      <th>Final_ddG</th>\n      <th>ProtBert_score</th>\n      <th>...</th>\n      <th>number_of_residues_mut</th>\n      <th>IntraclashesEnergy1_wt</th>\n      <th>IntraclashesEnergy1_mut</th>\n      <th>IntraclashesEnergy2_wt</th>\n      <th>IntraclashesEnergy2_mut</th>\n      <th>Interface_hydrophobic_area</th>\n      <th>Interface_hydrophilic_area</th>\n      <th>Interface_total_area</th>\n      <th>Interface_contact_distance_wt</th>\n      <th>Interface_contact_distance_mut</th>\n    </tr>\n  </thead>\n  <tbody>\n    <tr>\n      <th>0</th>\n      <td>0</td>\n      <td>Q9BPZ3</td>\n      <td>F118A</td>\n      <td>P11940</td>\n      <td>1.0000</td>\n      <td>1.000000</td>\n      <td>1.0000</td>\n      <td>0.968750</td>\n      <td>1.219700</td>\n      <td>-0.092273</td>\n      <td>...</td>\n      <td>118.0</td>\n      <td>5.30636</td>\n      <td>3.79101</td>\n      <td>52.4675</td>\n      <td>52.4675</td>\n      <td>427.775</td>\n      <td>194.715</td>\n      <td>622.495</td>\n      <td>3.35293</td>\n      <td>3.35293</td>\n    </tr>\n    <tr>\n      <th>1</th>\n      <td>0</td>\n      <td>P01116</td>\n      <td>Y40C</td>\n      <td>P50749</td>\n      <td>0.9277</td>\n      <td>0.931315</td>\n      <td>0.3553</td>\n      <td>0.172500</td>\n      <td>2.076950</td>\n      <td>0.998749</td>\n      <td>...</td>\n      <td>329.0</td>\n      <td>47.61770</td>\n      <td>47.21160</td>\n      <td>70.2902</td>\n      <td>70.2461</td>\n      <td>464.470</td>\n      <td>400.030</td>\n      <td>864.505</td>\n      <td>3.07827</td>\n      <td>3.59123</td>\n    </tr>\n    <tr>\n      <th>2</th>\n      <td>0</td>\n      <td>Q96QK1</td>\n      <td>F534D</td>\n      <td>Q9UBQ0</td>\n      <td>1.0000</td>\n      <td>0.360743</td>\n      <td>1.0000</td>\n      <td>0.994505</td>\n      <td>2.695710</td>\n      <td>0.288297</td>\n      <td>...</td>\n      <td>453.0</td>\n      <td>68.21080</td>\n      <td>68.19710</td>\n      <td>59.2321</td>\n      <td>59.1774</td>\n      <td>510.690</td>\n      <td>298.820</td>\n      <td>809.510</td>\n      <td>3.03938</td>\n      <td>3.24435</td>\n    </tr>\n    <tr>\n      <th>3</th>\n      <td>0</td>\n      <td>Q96QK1</td>\n      <td>F534D</td>\n      <td>Q9UBQ0-2</td>\n      <td>1.0000</td>\n      <td>0.360743</td>\n      <td>1.0000</td>\n      <td>0.973118</td>\n      <td>2.695710</td>\n      <td>0.288297</td>\n      <td>...</td>\n      <td>453.0</td>\n      <td>68.21080</td>\n      <td>68.19710</td>\n      <td>59.2321</td>\n      <td>59.1774</td>\n      <td>510.690</td>\n      <td>298.820</td>\n      <td>809.510</td>\n      <td>3.03938</td>\n      <td>3.24435</td>\n    </tr>\n    <tr>\n      <th>4</th>\n      <td>0</td>\n      <td>O43521-3</td>\n      <td>G66A</td>\n      <td>Q07812</td>\n      <td>1.0000</td>\n      <td>0.714286</td>\n      <td>0.3007</td>\n      <td>0.222028</td>\n      <td>0.683334</td>\n      <td>-0.051025</td>\n      <td>...</td>\n      <td>202.0</td>\n      <td>3.74828</td>\n      <td>3.76142</td>\n      <td>41.5937</td>\n      <td>41.5937</td>\n      <td>405.510</td>\n      <td>273.740</td>\n      <td>679.245</td>\n      <td>3.37301</td>\n      <td>3.22505</td>\n    </tr>\n    <tr>\n      <th>...</th>\n      <td>...</td>\n      <td>...</td>\n      <td>...</td>\n      <td>...</td>\n      <td>...</td>\n      <td>...</td>\n      <td>...</td>\n      <td>...</td>\n      <td>...</td>\n      <td>...</td>\n      <td>...</td>\n      <td>...</td>\n      <td>...</td>\n      <td>...</td>\n      <td>...</td>\n      <td>...</td>\n      <td>...</td>\n      <td>...</td>\n      <td>...</td>\n      <td>...</td>\n      <td>...</td>\n    </tr>\n    <tr>\n      <th>735</th>\n      <td>0</td>\n      <td>P84243</td>\n      <td>Q94A</td>\n      <td>Q9UER7-3</td>\n      <td>1.0000</td>\n      <td>0.948980</td>\n      <td>1.0000</td>\n      <td>0.306767</td>\n      <td>-0.387860</td>\n      <td>0.995137</td>\n      <td>...</td>\n      <td>309.0</td>\n      <td>21.27130</td>\n      <td>20.85060</td>\n      <td>32.4886</td>\n      <td>32.4886</td>\n      <td>1159.700</td>\n      <td>952.745</td>\n      <td>2112.450</td>\n      <td>3.00752</td>\n      <td>4.27950</td>\n    </tr>\n    <tr>\n      <th>736</th>\n      <td>0</td>\n      <td>Q96QK1</td>\n      <td>L589D</td>\n      <td>Q9UBQ0</td>\n      <td>1.0000</td>\n      <td>0.360743</td>\n      <td>1.0000</td>\n      <td>0.994505</td>\n      <td>2.178790</td>\n      <td>0.803401</td>\n      <td>...</td>\n      <td>453.0</td>\n      <td>68.13080</td>\n      <td>68.12330</td>\n      <td>59.2629</td>\n      <td>59.2629</td>\n      <td>510.690</td>\n      <td>298.820</td>\n      <td>809.510</td>\n      <td>3.45879</td>\n      <td>3.26826</td>\n    </tr>\n    <tr>\n      <th>737</th>\n      <td>0</td>\n      <td>Q96QK1</td>\n      <td>L589D</td>\n      <td>Q9UBQ0-2</td>\n      <td>1.0000</td>\n      <td>0.360743</td>\n      <td>1.0000</td>\n      <td>0.973118</td>\n      <td>2.178790</td>\n      <td>0.803401</td>\n      <td>...</td>\n      <td>453.0</td>\n      <td>68.13080</td>\n      <td>68.12330</td>\n      <td>59.2629</td>\n      <td>59.2629</td>\n      <td>510.690</td>\n      <td>298.820</td>\n      <td>809.510</td>\n      <td>3.45879</td>\n      <td>3.26826</td>\n    </tr>\n    <tr>\n      <th>738</th>\n      <td>0</td>\n      <td>P23297</td>\n      <td>F72L</td>\n      <td>P25815</td>\n      <td>0.6778</td>\n      <td>0.664382</td>\n      <td>0.5222</td>\n      <td>0.517348</td>\n      <td>1.742750</td>\n      <td>0.889921</td>\n      <td>...</td>\n      <td>188.0</td>\n      <td>26.74010</td>\n      <td>27.29430</td>\n      <td>17.1488</td>\n      <td>16.8699</td>\n      <td>667.920</td>\n      <td>288.795</td>\n      <td>956.720</td>\n      <td>3.26388</td>\n      <td>3.30643</td>\n    </tr>\n    <tr>\n      <th>739</th>\n      <td>0</td>\n      <td>Q15836</td>\n      <td>L46P</td>\n      <td>O43752</td>\n      <td>0.4194</td>\n      <td>0.278027</td>\n      <td>1.0000</td>\n      <td>0.969231</td>\n      <td>2.464990</td>\n      <td>0.996908</td>\n      <td>...</td>\n      <td>143.0</td>\n      <td>15.39100</td>\n      <td>20.42630</td>\n      <td>6.4110</td>\n      <td>6.4110</td>\n      <td>765.775</td>\n      <td>286.970</td>\n      <td>1052.740</td>\n      <td>3.45835</td>\n      <td>3.68360</td>\n    </tr>\n  </tbody>\n</table>\n<p>740 rows × 62 columns</p>\n</div>"
     },
     "execution_count": 3,
     "metadata": {},
     "output_type": "execute_result"
    }
   ],
   "source": [
    "data"
   ],
   "metadata": {
    "collapsed": false,
    "pycharm": {
     "name": "#%%\n"
    }
   }
  },
  {
   "cell_type": "code",
   "execution_count": 4,
   "outputs": [],
   "source": [
    "import os\n",
    "\n",
    "os.chdir(\"../\")"
   ],
   "metadata": {
    "collapsed": false,
    "pycharm": {
     "name": "#%%\n"
    }
   }
  },
  {
   "cell_type": "code",
   "execution_count": 5,
   "outputs": [],
   "source": [
    "from src.helpers.helpers_predator.common import load_predator"
   ],
   "metadata": {
    "collapsed": false,
    "pycharm": {
     "name": "#%%\n"
    }
   }
  },
  {
   "cell_type": "code",
   "execution_count": 6,
   "outputs": [],
   "source": [
    "PREDATOR_PATH = \"PredatorModels/PredatorModel_2021-10-24/04f37897/predator.pkl\""
   ],
   "metadata": {
    "collapsed": false,
    "pycharm": {
     "name": "#%%\n"
    }
   }
  },
  {
   "cell_type": "code",
   "execution_count": 7,
   "outputs": [
    {
     "name": "stderr",
     "output_type": "stream",
     "text": [
      "Trying to unpickle estimator DecisionTreeClassifier from version 0.23.2 when using version 0.24.1. This might lead to breaking code or invalid results. Use at your own risk.\n",
      "Trying to unpickle estimator RandomForestClassifier from version 0.23.2 when using version 0.24.1. This might lead to breaking code or invalid results. Use at your own risk.\n"
     ]
    },
    {
     "name": "stdout",
     "output_type": "stream",
     "text": [
      "2021-12-25 22:06:57 |\u001B[32m INFO     \u001B[0m| src.helpers.helpers_predator.common | Predator object PredatorModels/PredatorModel_2021-10-24/04f37897/predator.pkl is loaded successfully.\n"
     ]
    },
    {
     "name": "stderr",
     "output_type": "stream",
     "text": [
      "Trying to unpickle estimator RandomizedSearchCV from version 0.23.2 when using version 0.24.1. This might lead to breaking code or invalid results. Use at your own risk.\n"
     ]
    }
   ],
   "source": [
    "predator = load_predator(PREDATOR_PATH)"
   ],
   "metadata": {
    "collapsed": false,
    "pycharm": {
     "name": "#%%\n"
    }
   }
  },
  {
   "cell_type": "code",
   "execution_count": 8,
   "outputs": [
    {
     "data": {
      "text/plain": "dict_keys(['train_data', 'train_data_processed', 'sampled_train_data_list', 'prepared_dataframes', 'label_proportions_dataframes', 'Xs', 'ys', 'Xs_train', 'ys_train', 'Xs_valid', 'ys_valid', 'Xs_train_random', 'ys_train_random', 'Xs_valid_random', 'ys_valid_random', 'Xs_shap_5', 'Xs_train_shap_5', 'Xs_valid_shap_5', 'Xs_provean', 'Xs_train_provean', 'Xs_ddG', 'Xs_train_ddG', 'Xs_shap_10', 'Xs_train_shap_10', 'Xs_valid_shap_10', 'Xs_shap_20', 'Xs_train_shap_20', 'Xs_valid_shap_20', 'Xs_shap_30', 'Xs_train_shap_30', 'Xs_valid_shap_30', 'Xs_shap_40', 'Xs_train_shap_40', 'Xs_valid_shap_40'])"
     },
     "execution_count": 8,
     "metadata": {},
     "output_type": "execute_result"
    }
   ],
   "source": [
    "predator.data_materials.keys()"
   ],
   "metadata": {
    "collapsed": false,
    "pycharm": {
     "name": "#%%\n"
    }
   }
  },
  {
   "cell_type": "code",
   "execution_count": 12,
   "outputs": [
    {
     "data": {
      "text/plain": "mutation disrupting(MI:0573)             268\nmutation decreasing(MI:0119)             210\nmutation disrupting strength(MI:1128)    198\nmutation decreasing strength(MI:1133)    128\nmutation with no effect(MI:2226)         118\ndisrupting                                69\nmutation increasing(MI:0382)              57\nmutation increasing strength(MI:1132)     24\nmutation decreasing rate(MI:1130)         21\nmutation disrupting rate(MI:1129)          5\nmutation causing(MI:2227)                  2\nmutation increasing rate(MI:1131)          1\nName: Mutation_Effect_Label, dtype: int64"
     },
     "execution_count": 12,
     "metadata": {},
     "output_type": "execute_result"
    }
   ],
   "source": [
    "predator.data_materials[\"train_data\"][\"Mutation_Effect_Label\"].value_counts()"
   ],
   "metadata": {
    "collapsed": false,
    "pycharm": {
     "name": "#%%\n"
    }
   }
  },
  {
   "cell_type": "code",
   "execution_count": 15,
   "outputs": [
    {
     "data": {
      "text/plain": "                      Mutation_Effect_Label Input_identifier UniProt_ID  \\\n0         mutation decreasing rate(MI:1130)           P63000     P63000   \n1         mutation decreasing rate(MI:1130)           P63000     P63000   \n2         mutation decreasing rate(MI:1130)           P63000     P63000   \n3         mutation decreasing rate(MI:1130)           P63000     P63000   \n4         mutation decreasing rate(MI:1130)           P63000     P63000   \n...                                     ...              ...        ...   \n1096  mutation disrupting strength(MI:1128)           Q96QK1     Q96QK1   \n1097  mutation disrupting strength(MI:1128)           Q96QK1     Q96QK1   \n1098           mutation disrupting(MI:0573)           P23297     P23297   \n1099  mutation decreasing strength(MI:1133)           Q13241     Q13241   \n1100           mutation disrupting(MI:0573)           Q15836     Q15836   \n\n     Mutation Status       Type COSMIC_mut_ID ClinVar_mut_ID UniProt_mut_ID  \\\n0        Q61L   done  interface             -              -              -   \n1        Q61L   done  interface             -              -              -   \n2        Q61L   done  interface             -              -              -   \n3        Q61L   done  interface             -              -              -   \n4        Q61L   done  interface             -              -              -   \n...       ...    ...        ...           ...            ...            ...   \n1096    L589D   done  interface             -              -              -   \n1097    L589D   done  interface             -              -              -   \n1098     F72L   done  interface             -              -              -   \n1099    D168A   done  interface             -              -              -   \n1100     L46P   done  interface             -              -              -   \n\n          Domain_name  ... number_of_residues_mut IntraclashesEnergy1_wt  \\\n0                 Ras  ...                  378.0                40.0165   \n1                 Ras  ...                  378.0                40.0165   \n2                 Ras  ...                  378.0                40.0165   \n3                 Ras  ...                  378.0                40.0165   \n4                 Ras  ...                  378.0                40.0165   \n...               ...  ...                    ...                    ...   \n1096            Vps35  ...                  453.0                68.1308   \n1097            Vps35  ...                  453.0                68.1308   \n1098  S_100+EF-hand_1  ...                  188.0                26.7401   \n1099         Lectin_C  ...                  387.0                71.7580   \n1100    Synaptobrevin  ...                  143.0                15.3910   \n\n     IntraclashesEnergy1_mut  IntraclashesEnergy2_wt  IntraclashesEnergy2_mut  \\\n0                    40.2638                 61.9441                  61.9441   \n1                    40.2638                 61.9441                  61.9441   \n2                    40.2638                 61.9441                  61.9441   \n3                    40.2638                 61.9441                  61.9441   \n4                    40.2638                 61.9441                  61.9441   \n...                      ...                     ...                      ...   \n1096                 68.1233                 59.2629                  59.2629   \n1097                 68.1233                 59.2629                  59.2629   \n1098                 27.2943                 17.1488                  16.8699   \n1099                 71.7166                154.5780                 154.5780   \n1100                 20.4263                  6.4110                   6.4110   \n\n     Interface_hydrophobic_area Interface_hydrophilic_area  \\\n0                          None                       None   \n1                          None                       None   \n2                          None                       None   \n3                          None                       None   \n4                          None                       None   \n...                         ...                        ...   \n1096                     510.69                     298.82   \n1097                     510.69                     298.82   \n1098                     667.92                    288.795   \n1099                       None                     388.64   \n1100                    765.775                     286.97   \n\n     Interface_total_area Interface_contact_distance_wt  \\\n0                    None                       3.76810   \n1                    None                       3.76810   \n2                    None                       3.76810   \n3                    None                       3.76810   \n4                    None                       3.76810   \n...                   ...                           ...   \n1096               809.51                       3.45879   \n1097               809.51                       3.45879   \n1098               956.72                       3.26388   \n1099                 None                       3.69194   \n1100              1052.74                       3.45835   \n\n     Interface_contact_distance_mut  \n0                           3.21627  \n1                           3.21627  \n2                           3.21627  \n3                           3.21627  \n4                           3.21627  \n...                             ...  \n1096                        3.26826  \n1097                        3.26826  \n1098                        3.30643  \n1099                        5.00266  \n1100                        3.68360  \n\n[1101 rows x 104 columns]",
      "text/html": "<div>\n<style scoped>\n    .dataframe tbody tr th:only-of-type {\n        vertical-align: middle;\n    }\n\n    .dataframe tbody tr th {\n        vertical-align: top;\n    }\n\n    .dataframe thead th {\n        text-align: right;\n    }\n</style>\n<table border=\"1\" class=\"dataframe\">\n  <thead>\n    <tr style=\"text-align: right;\">\n      <th></th>\n      <th>Mutation_Effect_Label</th>\n      <th>Input_identifier</th>\n      <th>UniProt_ID</th>\n      <th>Mutation</th>\n      <th>Status</th>\n      <th>Type</th>\n      <th>COSMIC_mut_ID</th>\n      <th>ClinVar_mut_ID</th>\n      <th>UniProt_mut_ID</th>\n      <th>Domain_name</th>\n      <th>...</th>\n      <th>number_of_residues_mut</th>\n      <th>IntraclashesEnergy1_wt</th>\n      <th>IntraclashesEnergy1_mut</th>\n      <th>IntraclashesEnergy2_wt</th>\n      <th>IntraclashesEnergy2_mut</th>\n      <th>Interface_hydrophobic_area</th>\n      <th>Interface_hydrophilic_area</th>\n      <th>Interface_total_area</th>\n      <th>Interface_contact_distance_wt</th>\n      <th>Interface_contact_distance_mut</th>\n    </tr>\n  </thead>\n  <tbody>\n    <tr>\n      <th>0</th>\n      <td>mutation decreasing rate(MI:1130)</td>\n      <td>P63000</td>\n      <td>P63000</td>\n      <td>Q61L</td>\n      <td>done</td>\n      <td>interface</td>\n      <td>-</td>\n      <td>-</td>\n      <td>-</td>\n      <td>Ras</td>\n      <td>...</td>\n      <td>378.0</td>\n      <td>40.0165</td>\n      <td>40.2638</td>\n      <td>61.9441</td>\n      <td>61.9441</td>\n      <td>None</td>\n      <td>None</td>\n      <td>None</td>\n      <td>3.76810</td>\n      <td>3.21627</td>\n    </tr>\n    <tr>\n      <th>1</th>\n      <td>mutation decreasing rate(MI:1130)</td>\n      <td>P63000</td>\n      <td>P63000</td>\n      <td>Q61L</td>\n      <td>done</td>\n      <td>interface</td>\n      <td>-</td>\n      <td>-</td>\n      <td>-</td>\n      <td>Ras</td>\n      <td>...</td>\n      <td>378.0</td>\n      <td>40.0165</td>\n      <td>40.2638</td>\n      <td>61.9441</td>\n      <td>61.9441</td>\n      <td>None</td>\n      <td>None</td>\n      <td>None</td>\n      <td>3.76810</td>\n      <td>3.21627</td>\n    </tr>\n    <tr>\n      <th>2</th>\n      <td>mutation decreasing rate(MI:1130)</td>\n      <td>P63000</td>\n      <td>P63000</td>\n      <td>Q61L</td>\n      <td>done</td>\n      <td>interface</td>\n      <td>-</td>\n      <td>-</td>\n      <td>-</td>\n      <td>Ras</td>\n      <td>...</td>\n      <td>378.0</td>\n      <td>40.0165</td>\n      <td>40.2638</td>\n      <td>61.9441</td>\n      <td>61.9441</td>\n      <td>None</td>\n      <td>None</td>\n      <td>None</td>\n      <td>3.76810</td>\n      <td>3.21627</td>\n    </tr>\n    <tr>\n      <th>3</th>\n      <td>mutation decreasing rate(MI:1130)</td>\n      <td>P63000</td>\n      <td>P63000</td>\n      <td>Q61L</td>\n      <td>done</td>\n      <td>interface</td>\n      <td>-</td>\n      <td>-</td>\n      <td>-</td>\n      <td>Ras</td>\n      <td>...</td>\n      <td>378.0</td>\n      <td>40.0165</td>\n      <td>40.2638</td>\n      <td>61.9441</td>\n      <td>61.9441</td>\n      <td>None</td>\n      <td>None</td>\n      <td>None</td>\n      <td>3.76810</td>\n      <td>3.21627</td>\n    </tr>\n    <tr>\n      <th>4</th>\n      <td>mutation decreasing rate(MI:1130)</td>\n      <td>P63000</td>\n      <td>P63000</td>\n      <td>Q61L</td>\n      <td>done</td>\n      <td>interface</td>\n      <td>-</td>\n      <td>-</td>\n      <td>-</td>\n      <td>Ras</td>\n      <td>...</td>\n      <td>378.0</td>\n      <td>40.0165</td>\n      <td>40.2638</td>\n      <td>61.9441</td>\n      <td>61.9441</td>\n      <td>None</td>\n      <td>None</td>\n      <td>None</td>\n      <td>3.76810</td>\n      <td>3.21627</td>\n    </tr>\n    <tr>\n      <th>...</th>\n      <td>...</td>\n      <td>...</td>\n      <td>...</td>\n      <td>...</td>\n      <td>...</td>\n      <td>...</td>\n      <td>...</td>\n      <td>...</td>\n      <td>...</td>\n      <td>...</td>\n      <td>...</td>\n      <td>...</td>\n      <td>...</td>\n      <td>...</td>\n      <td>...</td>\n      <td>...</td>\n      <td>...</td>\n      <td>...</td>\n      <td>...</td>\n      <td>...</td>\n      <td>...</td>\n    </tr>\n    <tr>\n      <th>1096</th>\n      <td>mutation disrupting strength(MI:1128)</td>\n      <td>Q96QK1</td>\n      <td>Q96QK1</td>\n      <td>L589D</td>\n      <td>done</td>\n      <td>interface</td>\n      <td>-</td>\n      <td>-</td>\n      <td>-</td>\n      <td>Vps35</td>\n      <td>...</td>\n      <td>453.0</td>\n      <td>68.1308</td>\n      <td>68.1233</td>\n      <td>59.2629</td>\n      <td>59.2629</td>\n      <td>510.69</td>\n      <td>298.82</td>\n      <td>809.51</td>\n      <td>3.45879</td>\n      <td>3.26826</td>\n    </tr>\n    <tr>\n      <th>1097</th>\n      <td>mutation disrupting strength(MI:1128)</td>\n      <td>Q96QK1</td>\n      <td>Q96QK1</td>\n      <td>L589D</td>\n      <td>done</td>\n      <td>interface</td>\n      <td>-</td>\n      <td>-</td>\n      <td>-</td>\n      <td>Vps35</td>\n      <td>...</td>\n      <td>453.0</td>\n      <td>68.1308</td>\n      <td>68.1233</td>\n      <td>59.2629</td>\n      <td>59.2629</td>\n      <td>510.69</td>\n      <td>298.82</td>\n      <td>809.51</td>\n      <td>3.45879</td>\n      <td>3.26826</td>\n    </tr>\n    <tr>\n      <th>1098</th>\n      <td>mutation disrupting(MI:0573)</td>\n      <td>P23297</td>\n      <td>P23297</td>\n      <td>F72L</td>\n      <td>done</td>\n      <td>interface</td>\n      <td>-</td>\n      <td>-</td>\n      <td>-</td>\n      <td>S_100+EF-hand_1</td>\n      <td>...</td>\n      <td>188.0</td>\n      <td>26.7401</td>\n      <td>27.2943</td>\n      <td>17.1488</td>\n      <td>16.8699</td>\n      <td>667.92</td>\n      <td>288.795</td>\n      <td>956.72</td>\n      <td>3.26388</td>\n      <td>3.30643</td>\n    </tr>\n    <tr>\n      <th>1099</th>\n      <td>mutation decreasing strength(MI:1133)</td>\n      <td>Q13241</td>\n      <td>Q13241</td>\n      <td>D168A</td>\n      <td>done</td>\n      <td>interface</td>\n      <td>-</td>\n      <td>-</td>\n      <td>-</td>\n      <td>Lectin_C</td>\n      <td>...</td>\n      <td>387.0</td>\n      <td>71.7580</td>\n      <td>71.7166</td>\n      <td>154.5780</td>\n      <td>154.5780</td>\n      <td>None</td>\n      <td>388.64</td>\n      <td>None</td>\n      <td>3.69194</td>\n      <td>5.00266</td>\n    </tr>\n    <tr>\n      <th>1100</th>\n      <td>mutation disrupting(MI:0573)</td>\n      <td>Q15836</td>\n      <td>Q15836</td>\n      <td>L46P</td>\n      <td>done</td>\n      <td>interface</td>\n      <td>-</td>\n      <td>-</td>\n      <td>-</td>\n      <td>Synaptobrevin</td>\n      <td>...</td>\n      <td>143.0</td>\n      <td>15.3910</td>\n      <td>20.4263</td>\n      <td>6.4110</td>\n      <td>6.4110</td>\n      <td>765.775</td>\n      <td>286.97</td>\n      <td>1052.74</td>\n      <td>3.45835</td>\n      <td>3.68360</td>\n    </tr>\n  </tbody>\n</table>\n<p>1101 rows × 104 columns</p>\n</div>"
     },
     "execution_count": 15,
     "metadata": {},
     "output_type": "execute_result"
    }
   ],
   "source": [
    "foo = predator.data_materials[\"train_data\"].copy()\n",
    "foo"
   ],
   "metadata": {
    "collapsed": false,
    "pycharm": {
     "name": "#%%\n"
    }
   }
  },
  {
   "cell_type": "code",
   "execution_count": 11,
   "outputs": [
    {
     "data": {
      "text/plain": "     Mutation_Effect_Label UniProt_ID Mutation Interactor_UniProt_ID  \\\n0                        0     Q9BPZ3    F118A                P11940   \n1                        0     P01116     Y40C                P50749   \n2                        0     Q96QK1    F534D                Q9UBQ0   \n3                        0     Q96QK1    F534D              Q9UBQ0-2   \n4                        0   O43521-3     G66A                Q07812   \n..                     ...        ...      ...                   ...   \n735                      0     P84243     Q94A              Q9UER7-3   \n736                      0     Q96QK1    L589D                Q9UBQ0   \n737                      0     Q96QK1    L589D              Q9UBQ0-2   \n738                      0     P23297     F72L                P25815   \n739                      0     Q15836     L46P                O43752   \n\n     Template_sequence_identity  Alignment_score  \\\n0                        1.0000         1.000000   \n1                        0.9277         0.931315   \n2                        1.0000         0.360743   \n3                        1.0000         0.360743   \n4                        1.0000         0.714286   \n..                          ...              ...   \n735                      1.0000         0.948980   \n736                      1.0000         0.360743   \n737                      1.0000         0.360743   \n738                      0.6778         0.664382   \n739                      0.4194         0.278027   \n\n     Interactor_template_sequence_identity  Interactor_alignment_score  \\\n0                                   1.0000                    0.968750   \n1                                   0.3553                    0.172500   \n2                                   1.0000                    0.994505   \n3                                   1.0000                    0.973118   \n4                                   0.3007                    0.222028   \n..                                     ...                         ...   \n735                                 1.0000                    0.306767   \n736                                 1.0000                    0.994505   \n737                                 1.0000                    0.973118   \n738                                 0.5222                    0.517348   \n739                                 1.0000                    0.969231   \n\n     Final_ddG  ProtBert_score  ...  number_of_residues_mut  \\\n0     1.219700       -0.092273  ...                   118.0   \n1     2.076950        0.998749  ...                   329.0   \n2     2.695710        0.288297  ...                   453.0   \n3     2.695710        0.288297  ...                   453.0   \n4     0.683334       -0.051025  ...                   202.0   \n..         ...             ...  ...                     ...   \n735  -0.387860        0.995137  ...                   309.0   \n736   2.178790        0.803401  ...                   453.0   \n737   2.178790        0.803401  ...                   453.0   \n738   1.742750        0.889921  ...                   188.0   \n739   2.464990        0.996908  ...                   143.0   \n\n     IntraclashesEnergy1_wt  IntraclashesEnergy1_mut  IntraclashesEnergy2_wt  \\\n0                   5.30636                  3.79101                 52.4675   \n1                  47.61770                 47.21160                 70.2902   \n2                  68.21080                 68.19710                 59.2321   \n3                  68.21080                 68.19710                 59.2321   \n4                   3.74828                  3.76142                 41.5937   \n..                      ...                      ...                     ...   \n735                21.27130                 20.85060                 32.4886   \n736                68.13080                 68.12330                 59.2629   \n737                68.13080                 68.12330                 59.2629   \n738                26.74010                 27.29430                 17.1488   \n739                15.39100                 20.42630                  6.4110   \n\n     IntraclashesEnergy2_mut  Interface_hydrophobic_area  \\\n0                    52.4675                     427.775   \n1                    70.2461                     464.470   \n2                    59.1774                     510.690   \n3                    59.1774                     510.690   \n4                    41.5937                     405.510   \n..                       ...                         ...   \n735                  32.4886                    1159.700   \n736                  59.2629                     510.690   \n737                  59.2629                     510.690   \n738                  16.8699                     667.920   \n739                   6.4110                     765.775   \n\n     Interface_hydrophilic_area  Interface_total_area  \\\n0                       194.715               622.495   \n1                       400.030               864.505   \n2                       298.820               809.510   \n3                       298.820               809.510   \n4                       273.740               679.245   \n..                          ...                   ...   \n735                     952.745              2112.450   \n736                     298.820               809.510   \n737                     298.820               809.510   \n738                     288.795               956.720   \n739                     286.970              1052.740   \n\n     Interface_contact_distance_wt  Interface_contact_distance_mut  \n0                          3.35293                         3.35293  \n1                          3.07827                         3.59123  \n2                          3.03938                         3.24435  \n3                          3.03938                         3.24435  \n4                          3.37301                         3.22505  \n..                             ...                             ...  \n735                        3.00752                         4.27950  \n736                        3.45879                         3.26826  \n737                        3.45879                         3.26826  \n738                        3.26388                         3.30643  \n739                        3.45835                         3.68360  \n\n[740 rows x 62 columns]",
      "text/html": "<div>\n<style scoped>\n    .dataframe tbody tr th:only-of-type {\n        vertical-align: middle;\n    }\n\n    .dataframe tbody tr th {\n        vertical-align: top;\n    }\n\n    .dataframe thead th {\n        text-align: right;\n    }\n</style>\n<table border=\"1\" class=\"dataframe\">\n  <thead>\n    <tr style=\"text-align: right;\">\n      <th></th>\n      <th>Mutation_Effect_Label</th>\n      <th>UniProt_ID</th>\n      <th>Mutation</th>\n      <th>Interactor_UniProt_ID</th>\n      <th>Template_sequence_identity</th>\n      <th>Alignment_score</th>\n      <th>Interactor_template_sequence_identity</th>\n      <th>Interactor_alignment_score</th>\n      <th>Final_ddG</th>\n      <th>ProtBert_score</th>\n      <th>...</th>\n      <th>number_of_residues_mut</th>\n      <th>IntraclashesEnergy1_wt</th>\n      <th>IntraclashesEnergy1_mut</th>\n      <th>IntraclashesEnergy2_wt</th>\n      <th>IntraclashesEnergy2_mut</th>\n      <th>Interface_hydrophobic_area</th>\n      <th>Interface_hydrophilic_area</th>\n      <th>Interface_total_area</th>\n      <th>Interface_contact_distance_wt</th>\n      <th>Interface_contact_distance_mut</th>\n    </tr>\n  </thead>\n  <tbody>\n    <tr>\n      <th>0</th>\n      <td>0</td>\n      <td>Q9BPZ3</td>\n      <td>F118A</td>\n      <td>P11940</td>\n      <td>1.0000</td>\n      <td>1.000000</td>\n      <td>1.0000</td>\n      <td>0.968750</td>\n      <td>1.219700</td>\n      <td>-0.092273</td>\n      <td>...</td>\n      <td>118.0</td>\n      <td>5.30636</td>\n      <td>3.79101</td>\n      <td>52.4675</td>\n      <td>52.4675</td>\n      <td>427.775</td>\n      <td>194.715</td>\n      <td>622.495</td>\n      <td>3.35293</td>\n      <td>3.35293</td>\n    </tr>\n    <tr>\n      <th>1</th>\n      <td>0</td>\n      <td>P01116</td>\n      <td>Y40C</td>\n      <td>P50749</td>\n      <td>0.9277</td>\n      <td>0.931315</td>\n      <td>0.3553</td>\n      <td>0.172500</td>\n      <td>2.076950</td>\n      <td>0.998749</td>\n      <td>...</td>\n      <td>329.0</td>\n      <td>47.61770</td>\n      <td>47.21160</td>\n      <td>70.2902</td>\n      <td>70.2461</td>\n      <td>464.470</td>\n      <td>400.030</td>\n      <td>864.505</td>\n      <td>3.07827</td>\n      <td>3.59123</td>\n    </tr>\n    <tr>\n      <th>2</th>\n      <td>0</td>\n      <td>Q96QK1</td>\n      <td>F534D</td>\n      <td>Q9UBQ0</td>\n      <td>1.0000</td>\n      <td>0.360743</td>\n      <td>1.0000</td>\n      <td>0.994505</td>\n      <td>2.695710</td>\n      <td>0.288297</td>\n      <td>...</td>\n      <td>453.0</td>\n      <td>68.21080</td>\n      <td>68.19710</td>\n      <td>59.2321</td>\n      <td>59.1774</td>\n      <td>510.690</td>\n      <td>298.820</td>\n      <td>809.510</td>\n      <td>3.03938</td>\n      <td>3.24435</td>\n    </tr>\n    <tr>\n      <th>3</th>\n      <td>0</td>\n      <td>Q96QK1</td>\n      <td>F534D</td>\n      <td>Q9UBQ0-2</td>\n      <td>1.0000</td>\n      <td>0.360743</td>\n      <td>1.0000</td>\n      <td>0.973118</td>\n      <td>2.695710</td>\n      <td>0.288297</td>\n      <td>...</td>\n      <td>453.0</td>\n      <td>68.21080</td>\n      <td>68.19710</td>\n      <td>59.2321</td>\n      <td>59.1774</td>\n      <td>510.690</td>\n      <td>298.820</td>\n      <td>809.510</td>\n      <td>3.03938</td>\n      <td>3.24435</td>\n    </tr>\n    <tr>\n      <th>4</th>\n      <td>0</td>\n      <td>O43521-3</td>\n      <td>G66A</td>\n      <td>Q07812</td>\n      <td>1.0000</td>\n      <td>0.714286</td>\n      <td>0.3007</td>\n      <td>0.222028</td>\n      <td>0.683334</td>\n      <td>-0.051025</td>\n      <td>...</td>\n      <td>202.0</td>\n      <td>3.74828</td>\n      <td>3.76142</td>\n      <td>41.5937</td>\n      <td>41.5937</td>\n      <td>405.510</td>\n      <td>273.740</td>\n      <td>679.245</td>\n      <td>3.37301</td>\n      <td>3.22505</td>\n    </tr>\n    <tr>\n      <th>...</th>\n      <td>...</td>\n      <td>...</td>\n      <td>...</td>\n      <td>...</td>\n      <td>...</td>\n      <td>...</td>\n      <td>...</td>\n      <td>...</td>\n      <td>...</td>\n      <td>...</td>\n      <td>...</td>\n      <td>...</td>\n      <td>...</td>\n      <td>...</td>\n      <td>...</td>\n      <td>...</td>\n      <td>...</td>\n      <td>...</td>\n      <td>...</td>\n      <td>...</td>\n      <td>...</td>\n    </tr>\n    <tr>\n      <th>735</th>\n      <td>0</td>\n      <td>P84243</td>\n      <td>Q94A</td>\n      <td>Q9UER7-3</td>\n      <td>1.0000</td>\n      <td>0.948980</td>\n      <td>1.0000</td>\n      <td>0.306767</td>\n      <td>-0.387860</td>\n      <td>0.995137</td>\n      <td>...</td>\n      <td>309.0</td>\n      <td>21.27130</td>\n      <td>20.85060</td>\n      <td>32.4886</td>\n      <td>32.4886</td>\n      <td>1159.700</td>\n      <td>952.745</td>\n      <td>2112.450</td>\n      <td>3.00752</td>\n      <td>4.27950</td>\n    </tr>\n    <tr>\n      <th>736</th>\n      <td>0</td>\n      <td>Q96QK1</td>\n      <td>L589D</td>\n      <td>Q9UBQ0</td>\n      <td>1.0000</td>\n      <td>0.360743</td>\n      <td>1.0000</td>\n      <td>0.994505</td>\n      <td>2.178790</td>\n      <td>0.803401</td>\n      <td>...</td>\n      <td>453.0</td>\n      <td>68.13080</td>\n      <td>68.12330</td>\n      <td>59.2629</td>\n      <td>59.2629</td>\n      <td>510.690</td>\n      <td>298.820</td>\n      <td>809.510</td>\n      <td>3.45879</td>\n      <td>3.26826</td>\n    </tr>\n    <tr>\n      <th>737</th>\n      <td>0</td>\n      <td>Q96QK1</td>\n      <td>L589D</td>\n      <td>Q9UBQ0-2</td>\n      <td>1.0000</td>\n      <td>0.360743</td>\n      <td>1.0000</td>\n      <td>0.973118</td>\n      <td>2.178790</td>\n      <td>0.803401</td>\n      <td>...</td>\n      <td>453.0</td>\n      <td>68.13080</td>\n      <td>68.12330</td>\n      <td>59.2629</td>\n      <td>59.2629</td>\n      <td>510.690</td>\n      <td>298.820</td>\n      <td>809.510</td>\n      <td>3.45879</td>\n      <td>3.26826</td>\n    </tr>\n    <tr>\n      <th>738</th>\n      <td>0</td>\n      <td>P23297</td>\n      <td>F72L</td>\n      <td>P25815</td>\n      <td>0.6778</td>\n      <td>0.664382</td>\n      <td>0.5222</td>\n      <td>0.517348</td>\n      <td>1.742750</td>\n      <td>0.889921</td>\n      <td>...</td>\n      <td>188.0</td>\n      <td>26.74010</td>\n      <td>27.29430</td>\n      <td>17.1488</td>\n      <td>16.8699</td>\n      <td>667.920</td>\n      <td>288.795</td>\n      <td>956.720</td>\n      <td>3.26388</td>\n      <td>3.30643</td>\n    </tr>\n    <tr>\n      <th>739</th>\n      <td>0</td>\n      <td>Q15836</td>\n      <td>L46P</td>\n      <td>O43752</td>\n      <td>0.4194</td>\n      <td>0.278027</td>\n      <td>1.0000</td>\n      <td>0.969231</td>\n      <td>2.464990</td>\n      <td>0.996908</td>\n      <td>...</td>\n      <td>143.0</td>\n      <td>15.39100</td>\n      <td>20.42630</td>\n      <td>6.4110</td>\n      <td>6.4110</td>\n      <td>765.775</td>\n      <td>286.970</td>\n      <td>1052.740</td>\n      <td>3.45835</td>\n      <td>3.68360</td>\n    </tr>\n  </tbody>\n</table>\n<p>740 rows × 62 columns</p>\n</div>"
     },
     "execution_count": 11,
     "metadata": {},
     "output_type": "execute_result"
    }
   ],
   "source": [
    "predator.data_materials[\"train_data_processed\"]"
   ],
   "metadata": {
    "collapsed": false,
    "pycharm": {
     "name": "#%%\n"
    }
   }
  },
  {
   "cell_type": "code",
   "execution_count": 28,
   "outputs": [
    {
     "data": {
      "text/plain": "                      Mutation_Effect_Label  Final_ddG UniProt_ID Mutation  \\\n0         mutation decreasing rate(MI:1130)   1.728350     P63000     Q61L   \n1         mutation decreasing rate(MI:1130)   1.728350     P63000     Q61L   \n2         mutation decreasing rate(MI:1130)   1.728350     P63000     Q61L   \n3         mutation decreasing rate(MI:1130)   1.728350     P63000     Q61L   \n4         mutation decreasing rate(MI:1130)   1.728350     P63000     Q61L   \n...                                     ...        ...        ...      ...   \n1096  mutation disrupting strength(MI:1128)   2.178790     Q96QK1    L589D   \n1097  mutation disrupting strength(MI:1128)   2.178790     Q96QK1    L589D   \n1098           mutation disrupting(MI:0573)   1.742750     P23297     F72L   \n1099  mutation decreasing strength(MI:1133)   0.132572     Q13241    D168A   \n1100           mutation disrupting(MI:0573)   2.464990     Q15836     L46P   \n\n     Interactor_UniProt_ID Template_cath_id Interactor_template_cath_id  \n0                   Q14155            2vrwA                       2vrwB  \n1                 Q14155-1            2vrwA                       2vrwB  \n2                 Q14155-2            2vrwA                       2vrwB  \n3                 Q14155-3            2vrwA                       2vrwB  \n4                 Q14155-5            2vrwA                       2vrwB  \n...                    ...              ...                         ...  \n1096                Q9UBQ0            2r17C                       2r17A  \n1097              Q9UBQ0-2            2r17C                       2r17A  \n1098                P25815            2y5iA                       2y5iB  \n1099                P17693            1p1zD                       1p1zA  \n1100                O43752            2npsA                       2npsD  \n\n[1101 rows x 7 columns]",
      "text/html": "<div>\n<style scoped>\n    .dataframe tbody tr th:only-of-type {\n        vertical-align: middle;\n    }\n\n    .dataframe tbody tr th {\n        vertical-align: top;\n    }\n\n    .dataframe thead th {\n        text-align: right;\n    }\n</style>\n<table border=\"1\" class=\"dataframe\">\n  <thead>\n    <tr style=\"text-align: right;\">\n      <th></th>\n      <th>Mutation_Effect_Label</th>\n      <th>Final_ddG</th>\n      <th>UniProt_ID</th>\n      <th>Mutation</th>\n      <th>Interactor_UniProt_ID</th>\n      <th>Template_cath_id</th>\n      <th>Interactor_template_cath_id</th>\n    </tr>\n  </thead>\n  <tbody>\n    <tr>\n      <th>0</th>\n      <td>mutation decreasing rate(MI:1130)</td>\n      <td>1.728350</td>\n      <td>P63000</td>\n      <td>Q61L</td>\n      <td>Q14155</td>\n      <td>2vrwA</td>\n      <td>2vrwB</td>\n    </tr>\n    <tr>\n      <th>1</th>\n      <td>mutation decreasing rate(MI:1130)</td>\n      <td>1.728350</td>\n      <td>P63000</td>\n      <td>Q61L</td>\n      <td>Q14155-1</td>\n      <td>2vrwA</td>\n      <td>2vrwB</td>\n    </tr>\n    <tr>\n      <th>2</th>\n      <td>mutation decreasing rate(MI:1130)</td>\n      <td>1.728350</td>\n      <td>P63000</td>\n      <td>Q61L</td>\n      <td>Q14155-2</td>\n      <td>2vrwA</td>\n      <td>2vrwB</td>\n    </tr>\n    <tr>\n      <th>3</th>\n      <td>mutation decreasing rate(MI:1130)</td>\n      <td>1.728350</td>\n      <td>P63000</td>\n      <td>Q61L</td>\n      <td>Q14155-3</td>\n      <td>2vrwA</td>\n      <td>2vrwB</td>\n    </tr>\n    <tr>\n      <th>4</th>\n      <td>mutation decreasing rate(MI:1130)</td>\n      <td>1.728350</td>\n      <td>P63000</td>\n      <td>Q61L</td>\n      <td>Q14155-5</td>\n      <td>2vrwA</td>\n      <td>2vrwB</td>\n    </tr>\n    <tr>\n      <th>...</th>\n      <td>...</td>\n      <td>...</td>\n      <td>...</td>\n      <td>...</td>\n      <td>...</td>\n      <td>...</td>\n      <td>...</td>\n    </tr>\n    <tr>\n      <th>1096</th>\n      <td>mutation disrupting strength(MI:1128)</td>\n      <td>2.178790</td>\n      <td>Q96QK1</td>\n      <td>L589D</td>\n      <td>Q9UBQ0</td>\n      <td>2r17C</td>\n      <td>2r17A</td>\n    </tr>\n    <tr>\n      <th>1097</th>\n      <td>mutation disrupting strength(MI:1128)</td>\n      <td>2.178790</td>\n      <td>Q96QK1</td>\n      <td>L589D</td>\n      <td>Q9UBQ0-2</td>\n      <td>2r17C</td>\n      <td>2r17A</td>\n    </tr>\n    <tr>\n      <th>1098</th>\n      <td>mutation disrupting(MI:0573)</td>\n      <td>1.742750</td>\n      <td>P23297</td>\n      <td>F72L</td>\n      <td>P25815</td>\n      <td>2y5iA</td>\n      <td>2y5iB</td>\n    </tr>\n    <tr>\n      <th>1099</th>\n      <td>mutation decreasing strength(MI:1133)</td>\n      <td>0.132572</td>\n      <td>Q13241</td>\n      <td>D168A</td>\n      <td>P17693</td>\n      <td>1p1zD</td>\n      <td>1p1zA</td>\n    </tr>\n    <tr>\n      <th>1100</th>\n      <td>mutation disrupting(MI:0573)</td>\n      <td>2.464990</td>\n      <td>Q15836</td>\n      <td>L46P</td>\n      <td>O43752</td>\n      <td>2npsA</td>\n      <td>2npsD</td>\n    </tr>\n  </tbody>\n</table>\n<p>1101 rows × 7 columns</p>\n</div>"
     },
     "execution_count": 28,
     "metadata": {},
     "output_type": "execute_result"
    }
   ],
   "source": [
    "bar = foo[[\"Mutation_Effect_Label\", \"Final_ddG\", \"UniProt_ID\", \"Mutation\", \"Interactor_UniProt_ID\", \"Template_cath_id\", \"Interactor_template_cath_id\"]].copy()\n",
    "bar"
   ],
   "metadata": {
    "collapsed": false,
    "pycharm": {
     "name": "#%%\n"
    }
   }
  },
  {
   "cell_type": "code",
   "execution_count": 24,
   "outputs": [
    {
     "data": {
      "text/plain": "True"
     },
     "execution_count": 24,
     "metadata": {},
     "output_type": "execute_result"
    }
   ],
   "source": [
    "all(bar[\"Template_cath_id\"].apply(lambda x: x[:-1]) == bar[\"Interactor_template_cath_id\"].apply(lambda x: x[:-1]))"
   ],
   "metadata": {
    "collapsed": false,
    "pycharm": {
     "name": "#%%\n"
    }
   }
  },
  {
   "cell_type": "code",
   "execution_count": 31,
   "outputs": [
    {
     "data": {
      "text/plain": "    Mutation_Effect_Label  Final_ddG UniProt_ID Mutation  \\\n553            disrupting    1.24266     P56945    F794R   \n\n    Interactor_UniProt_ID Template_cath_id Interactor_template_cath_id  \n553              Q8N5H7-2            3t6gB                       3t6gA  ",
      "text/html": "<div>\n<style scoped>\n    .dataframe tbody tr th:only-of-type {\n        vertical-align: middle;\n    }\n\n    .dataframe tbody tr th {\n        vertical-align: top;\n    }\n\n    .dataframe thead th {\n        text-align: right;\n    }\n</style>\n<table border=\"1\" class=\"dataframe\">\n  <thead>\n    <tr style=\"text-align: right;\">\n      <th></th>\n      <th>Mutation_Effect_Label</th>\n      <th>Final_ddG</th>\n      <th>UniProt_ID</th>\n      <th>Mutation</th>\n      <th>Interactor_UniProt_ID</th>\n      <th>Template_cath_id</th>\n      <th>Interactor_template_cath_id</th>\n    </tr>\n  </thead>\n  <tbody>\n    <tr>\n      <th>553</th>\n      <td>disrupting</td>\n      <td>1.24266</td>\n      <td>P56945</td>\n      <td>F794R</td>\n      <td>Q8N5H7-2</td>\n      <td>3t6gB</td>\n      <td>3t6gA</td>\n    </tr>\n  </tbody>\n</table>\n</div>"
     },
     "execution_count": 31,
     "metadata": {},
     "output_type": "execute_result"
    }
   ],
   "source": [
    "bar.iloc[[553], :]"
   ],
   "metadata": {
    "collapsed": false,
    "pycharm": {
     "name": "#%%\n"
    }
   }
  },
  {
   "cell_type": "code",
   "execution_count": 27,
   "outputs": [
    {
     "data": {
      "text/plain": "    Mutation_Effect_Label UniProt_ID Mutation Interactor_UniProt_ID  \\\n552            disrupting     P56945    F794R              Q8N5H7-5   \n\n    Template_cath_id Interactor_template_cath_id  \n552            3t6gB                       3t6gA  ",
      "text/html": "<div>\n<style scoped>\n    .dataframe tbody tr th:only-of-type {\n        vertical-align: middle;\n    }\n\n    .dataframe tbody tr th {\n        vertical-align: top;\n    }\n\n    .dataframe thead th {\n        text-align: right;\n    }\n</style>\n<table border=\"1\" class=\"dataframe\">\n  <thead>\n    <tr style=\"text-align: right;\">\n      <th></th>\n      <th>Mutation_Effect_Label</th>\n      <th>UniProt_ID</th>\n      <th>Mutation</th>\n      <th>Interactor_UniProt_ID</th>\n      <th>Template_cath_id</th>\n      <th>Interactor_template_cath_id</th>\n    </tr>\n  </thead>\n  <tbody>\n    <tr>\n      <th>552</th>\n      <td>disrupting</td>\n      <td>P56945</td>\n      <td>F794R</td>\n      <td>Q8N5H7-5</td>\n      <td>3t6gB</td>\n      <td>3t6gA</td>\n    </tr>\n  </tbody>\n</table>\n</div>"
     },
     "execution_count": 27,
     "metadata": {},
     "output_type": "execute_result"
    }
   ],
   "source": [
    "bar.sample()"
   ],
   "metadata": {
    "collapsed": false,
    "pycharm": {
     "name": "#%%\n"
    }
   }
  },
  {
   "cell_type": "code",
   "execution_count": 40,
   "outputs": [
    {
     "name": "stdout",
     "output_type": "stream",
     "text": [
      "2VRW 1JSU 4MD4 1JGN 3DDC 2R17 3FDL 2NL9 3REP 1GL2\n"
     ]
    }
   ],
   "source": [
    "print(\n",
    "    ' '.join(\n",
    "        [elem[:-1].upper() for elem in bar[\"Template_cath_id\"].unique()[:10]]\n",
    "    )\n",
    ")"
   ],
   "metadata": {
    "collapsed": false,
    "pycharm": {
     "name": "#%%\n"
    }
   }
  },
  {
   "cell_type": "code",
   "execution_count": null,
   "outputs": [],
   "source": [],
   "metadata": {
    "collapsed": false,
    "pycharm": {
     "name": "#%%\n"
    }
   }
  },
  {
   "cell_type": "code",
   "execution_count": 51,
   "outputs": [
    {
     "data": {
      "text/plain": "    UniProt_ID Interactor_UniProt_ID Template_cath_id  \\\n9       P01116                P50749            3ddcA   \n986     P01116                P50749            3ddcA   \n\n    Interactor_template_cath_id  \n9                         3ddcB  \n986                       3ddcB  ",
      "text/html": "<div>\n<style scoped>\n    .dataframe tbody tr th:only-of-type {\n        vertical-align: middle;\n    }\n\n    .dataframe tbody tr th {\n        vertical-align: top;\n    }\n\n    .dataframe thead th {\n        text-align: right;\n    }\n</style>\n<table border=\"1\" class=\"dataframe\">\n  <thead>\n    <tr style=\"text-align: right;\">\n      <th></th>\n      <th>UniProt_ID</th>\n      <th>Interactor_UniProt_ID</th>\n      <th>Template_cath_id</th>\n      <th>Interactor_template_cath_id</th>\n    </tr>\n  </thead>\n  <tbody>\n    <tr>\n      <th>9</th>\n      <td>P01116</td>\n      <td>P50749</td>\n      <td>3ddcA</td>\n      <td>3ddcB</td>\n    </tr>\n    <tr>\n      <th>986</th>\n      <td>P01116</td>\n      <td>P50749</td>\n      <td>3ddcA</td>\n      <td>3ddcB</td>\n    </tr>\n  </tbody>\n</table>\n</div>"
     },
     "execution_count": 51,
     "metadata": {},
     "output_type": "execute_result"
    }
   ],
   "source": [
    "bar[\n",
    "    bar[\"Template_cath_id\"].str.contains(\"3DDC\".lower())\n",
    "][\n",
    "    [\"UniProt_ID\", \"Interactor_UniProt_ID\", \"Template_cath_id\", \"Interactor_template_cath_id\"]\n",
    "]"
   ],
   "metadata": {
    "collapsed": false,
    "pycharm": {
     "name": "#%%\n"
    }
   }
  },
  {
   "cell_type": "code",
   "execution_count": null,
   "outputs": [],
   "source": [],
   "metadata": {
    "collapsed": false,
    "pycharm": {
     "name": "#%%\n"
    }
   }
  },
  {
   "cell_type": "code",
   "execution_count": null,
   "outputs": [],
   "source": [],
   "metadata": {
    "collapsed": false,
    "pycharm": {
     "name": "#%%\n"
    }
   }
  }
 ],
 "metadata": {
  "kernelspec": {
   "display_name": "Python 3",
   "language": "python",
   "name": "python3"
  },
  "language_info": {
   "codemirror_mode": {
    "name": "ipython",
    "version": 2
   },
   "file_extension": ".py",
   "mimetype": "text/x-python",
   "name": "python",
   "nbconvert_exporter": "python",
   "pygments_lexer": "ipython2",
   "version": "2.7.6"
  }
 },
 "nbformat": 4,
 "nbformat_minor": 0
}