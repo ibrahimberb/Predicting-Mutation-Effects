{
 "cells": [
  {
   "cell_type": "markdown",
   "id": "eb4e12d7-aa31-4ae5-ac0b-3fb8c4cb380c",
   "metadata": {},
   "source": [
    "# Kim et al. Supplementary Tables"
   ]
  },
  {
   "cell_type": "code",
   "execution_count": 1,
   "id": "01886ebc-37e3-4bae-b7de-344c3e1f6ba8",
   "metadata": {},
   "outputs": [],
   "source": [
    "import pandas as pd\n",
    "import sys\n",
    "sys.path += ['../../..']"
   ]
  },
  {
   "cell_type": "markdown",
   "id": "84a496f8-24cb-4c7a-b794-743173fc8d34",
   "metadata": {},
   "source": [
    "# NO INTERACTOR ??"
   ]
  },
  {
   "cell_type": "code",
   "execution_count": 2,
   "id": "d6ecdb0c-c9aa-4e5f-bf96-751f9d40a7e2",
   "metadata": {},
   "outputs": [],
   "source": [
    "from utils import (\n",
    "    Kim2021Table\n",
    ")\n",
    "\n",
    "S3_PATH = r\"science.abf3066_tables_s2_to_s12\\science.abf3066_Table_S3.xlsx\"\n",
    "S4_PATH = r\"science.abf3066_tables_s2_to_s12\\science.abf3066_Table_S4.xlsx\"\n",
    "\n",
    "# S4_PATH = r\"science.abf3066_tables_s2_to_s12\\science.abf3066_Table_S4.xlsx\"\n",
    "# S4_PATH = r\"science.abf3066_tables_s2_to_s12\\science.abf3066_Table_S4.xlsx\"\n",
    "# S4_PATH = r\"science.abf3066_tables_s2_to_s12\\science.abf3066_Table_S4.xlsx\"\n",
    "# S4_PATH = r\"science.abf3066_tables_s2_to_s12\\science.abf3066_Table_S4.xlsx\"\n",
    "# S4_PATH = r\"science.abf3066_tables_s2_to_s12\\science.abf3066_Table_S4.xlsx\"\n",
    "\n",
    "# Reflect changes in the modules immediately.\n",
    "%load_ext autoreload\n",
    "%autoreload 2"
   ]
  },
  {
   "cell_type": "markdown",
   "id": "8b14ff17-1be7-495f-9226-253a0c3e3fea",
   "metadata": {},
   "source": [
    "### Supplementary 02"
   ]
  },
  {
   "cell_type": "markdown",
   "id": "984bda20-1597-4104-ad1d-a0f4198a05d6",
   "metadata": {},
   "source": [
    "No (protein, mutation )"
   ]
  },
  {
   "cell_type": "markdown",
   "id": "e8bacb95-11a0-4258-8af5-ea9ab1ee9552",
   "metadata": {
    "tags": []
   },
   "source": [
    "## Supplementary 03"
   ]
  },
  {
   "cell_type": "code",
   "execution_count": 3,
   "id": "eb6b835b-5845-4f06-81f0-fea60e141ac3",
   "metadata": {
    "tags": []
   },
   "outputs": [
    {
     "name": "stdout",
     "output_type": "stream",
     "text": [
      "2021-11-14 22:31:56 |\u001b[32m INFO     \u001b[0m| utils | Sheets found (4): ['README', 'MDA231', 'MCF7', 'MCF10A']\n",
      "2021-11-14 22:31:56 |\u001b[32m INFO     \u001b[0m| utils | Sheets selected (3): ['MDA231', 'MCF7', 'MCF10A']\n",
      "2021-11-14 22:31:56 |\u001b[36m DEBUG    \u001b[0m| src.benchmark.benchmark_utils | Loading sheet MDA231 ..\n",
      "2021-11-14 22:32:52 |\u001b[36m DEBUG    \u001b[0m| src.benchmark.benchmark_utils | Excel sheet MDA231 is loaded.\n",
      "2021-11-14 22:32:53 |\u001b[36m DEBUG    \u001b[0m| src.benchmark.benchmark_utils | Loading sheet MCF7 ..\n",
      "2021-11-14 22:33:34 |\u001b[36m DEBUG    \u001b[0m| src.benchmark.benchmark_utils | Excel sheet MCF7 is loaded.\n",
      "2021-11-14 22:33:34 |\u001b[36m DEBUG    \u001b[0m| src.benchmark.benchmark_utils | Loading sheet MCF10A ..\n",
      "2021-11-14 22:34:04 |\u001b[36m DEBUG    \u001b[0m| src.benchmark.benchmark_utils | Excel sheet MCF10A is loaded.\n",
      "Number of pairs: 20\n",
      "{('P60484', 'R130Q'), ('P42336', 'M1043V'), ('P38398', 'M1775R'), ('P04637', 'R175H'), ('O96017', 'K373E'), ('P04637', 'R273H'), ('P42336', 'H1047R'), ('Q9Y243', 'E17K'), ('Q9BX63', 'A745T'), ('P04637', 'R248W'), ('P38398', 'R71G'), ('P12830', 'E243K'), ('Q86YC2', 'E837K'), ('P42336', 'E545K'), ('P01112', 'G12D'), ('P38398', 'S1655F'), ('Q86UE4', 'A78S'), ('P38398', 'C61G'), ('P31749', 'E17K'), ('P38398', 'I26A')}\n"
     ]
    }
   ],
   "source": [
    "s3 = Kim2021Table(S3_PATH)"
   ]
  },
  {
   "cell_type": "markdown",
   "id": "d591677f-846b-4ded-8ed3-554efbe3d018",
   "metadata": {
    "tags": []
   },
   "source": [
    "## Supplementary 04"
   ]
  },
  {
   "cell_type": "code",
   "execution_count": 5,
   "id": "5afecb85-44af-4312-93ae-49596cc35fca",
   "metadata": {
    "tags": []
   },
   "outputs": [
    {
     "name": "stdout",
     "output_type": "stream",
     "text": [
      "2021-11-14 22:48:58 |\u001b[32m INFO     \u001b[0m| utils | Sheets found (8): ['README', 'MDA231_All_PPI>=0.9', 'MDA231_BRCA1_PPI>=0.65', 'MCF7_All_PPI>=0.9', 'MCF10A_All_PPI>=0.9', 'MDA231_specific_PPI>=0.9', 'MCF7_specific_PPI>=0.9', 'MCF10A_specific_PPI>=0.9']\n",
      "2021-11-14 22:48:58 |\u001b[32m INFO     \u001b[0m| utils | Sheets range 1 - -3\n",
      "2021-11-14 22:48:58 |\u001b[32m INFO     \u001b[0m| utils | Sheets selected (4): ['MDA231_All_PPI>=0.9', 'MDA231_BRCA1_PPI>=0.65', 'MCF7_All_PPI>=0.9', 'MCF10A_All_PPI>=0.9']\n",
      "2021-11-14 22:48:58 |\u001b[36m DEBUG    \u001b[0m| src.benchmark.benchmark_utils | Loading sheet MDA231_All_PPI>=0.9 ..\n",
      "2021-11-14 22:48:58 |\u001b[36m DEBUG    \u001b[0m| src.benchmark.benchmark_utils | Excel sheet MDA231_All_PPI>=0.9 is loaded.\n",
      "2021-11-14 22:48:58 |\u001b[36m DEBUG    \u001b[0m| src.benchmark.benchmark_utils | Loading sheet MDA231_BRCA1_PPI>=0.65 ..\n",
      "2021-11-14 22:48:58 |\u001b[36m DEBUG    \u001b[0m| src.benchmark.benchmark_utils | Excel sheet MDA231_BRCA1_PPI>=0.65 is loaded.\n",
      "2021-11-14 22:48:58 |\u001b[36m DEBUG    \u001b[0m| src.benchmark.benchmark_utils | Loading sheet MCF7_All_PPI>=0.9 ..\n",
      "2021-11-14 22:48:58 |\u001b[36m DEBUG    \u001b[0m| src.benchmark.benchmark_utils | Excel sheet MCF7_All_PPI>=0.9 is loaded.\n",
      "2021-11-14 22:48:58 |\u001b[36m DEBUG    \u001b[0m| src.benchmark.benchmark_utils | Loading sheet MCF10A_All_PPI>=0.9 ..\n",
      "2021-11-14 22:48:59 |\u001b[36m DEBUG    \u001b[0m| src.benchmark.benchmark_utils | Excel sheet MCF10A_All_PPI>=0.9 is loaded.\n",
      "Number of pairs: 14\n",
      "{('O96017', 'K373E'), ('P04637', 'R175H'), ('P04637', 'R273H'), ('P42336', 'H1047R'), ('Q9BX63', 'A745T'), ('P04637', 'R248W'), ('P38398', 'R71G'), ('P12830', 'E243K'), ('Q86YC2', 'E837K'), ('P42336', 'E545K'), ('P01112', 'G12D'), ('Q86UE4', 'A78S'), ('P38398', 'C61G'), ('P31749', 'E17K')}\n"
     ]
    }
   ],
   "source": [
    "s4 = Kim2021Table(S4_PATH, sheet_range=(1, -3))"
   ]
  },
  {
   "cell_type": "markdown",
   "id": "f613c50e-5738-43f5-b3a4-3d00107df58a",
   "metadata": {
    "tags": []
   },
   "source": [
    "## Supplementary 05"
   ]
  },
  {
   "cell_type": "code",
   "execution_count": 5,
   "id": "4c9275c1-0997-487b-87bc-ba2a7aaf8644",
   "metadata": {
    "tags": []
   },
   "outputs": [
    {
     "name": "stdout",
     "output_type": "stream",
     "text": [
      "2021-11-14 22:48:58 |\u001b[32m INFO     \u001b[0m| utils | Sheets found (8): ['README', 'MDA231_All_PPI>=0.9', 'MDA231_BRCA1_PPI>=0.65', 'MCF7_All_PPI>=0.9', 'MCF10A_All_PPI>=0.9', 'MDA231_specific_PPI>=0.9', 'MCF7_specific_PPI>=0.9', 'MCF10A_specific_PPI>=0.9']\n",
      "2021-11-14 22:48:58 |\u001b[32m INFO     \u001b[0m| utils | Sheets range 1 - -3\n",
      "2021-11-14 22:48:58 |\u001b[32m INFO     \u001b[0m| utils | Sheets selected (4): ['MDA231_All_PPI>=0.9', 'MDA231_BRCA1_PPI>=0.65', 'MCF7_All_PPI>=0.9', 'MCF10A_All_PPI>=0.9']\n",
      "2021-11-14 22:48:58 |\u001b[36m DEBUG    \u001b[0m| src.benchmark.benchmark_utils | Loading sheet MDA231_All_PPI>=0.9 ..\n",
      "2021-11-14 22:48:58 |\u001b[36m DEBUG    \u001b[0m| src.benchmark.benchmark_utils | Excel sheet MDA231_All_PPI>=0.9 is loaded.\n",
      "2021-11-14 22:48:58 |\u001b[36m DEBUG    \u001b[0m| src.benchmark.benchmark_utils | Loading sheet MDA231_BRCA1_PPI>=0.65 ..\n",
      "2021-11-14 22:48:58 |\u001b[36m DEBUG    \u001b[0m| src.benchmark.benchmark_utils | Excel sheet MDA231_BRCA1_PPI>=0.65 is loaded.\n",
      "2021-11-14 22:48:58 |\u001b[36m DEBUG    \u001b[0m| src.benchmark.benchmark_utils | Loading sheet MCF7_All_PPI>=0.9 ..\n",
      "2021-11-14 22:48:58 |\u001b[36m DEBUG    \u001b[0m| src.benchmark.benchmark_utils | Excel sheet MCF7_All_PPI>=0.9 is loaded.\n",
      "2021-11-14 22:48:58 |\u001b[36m DEBUG    \u001b[0m| src.benchmark.benchmark_utils | Loading sheet MCF10A_All_PPI>=0.9 ..\n",
      "2021-11-14 22:48:59 |\u001b[36m DEBUG    \u001b[0m| src.benchmark.benchmark_utils | Excel sheet MCF10A_All_PPI>=0.9 is loaded.\n",
      "Number of pairs: 14\n",
      "{('O96017', 'K373E'), ('P04637', 'R175H'), ('P04637', 'R273H'), ('P42336', 'H1047R'), ('Q9BX63', 'A745T'), ('P04637', 'R248W'), ('P38398', 'R71G'), ('P12830', 'E243K'), ('Q86YC2', 'E837K'), ('P42336', 'E545K'), ('P01112', 'G12D'), ('Q86UE4', 'A78S'), ('P38398', 'C61G'), ('P31749', 'E17K')}\n"
     ]
    }
   ],
   "source": [
    "s5 = Kim2021Table(S5_PATH, sheet_range=(1, -3))"
   ]
  },
  {
   "cell_type": "code",
   "execution_count": null,
   "id": "c35b87ac-271f-48b9-a0ac-fb246c3ba5ab",
   "metadata": {},
   "outputs": [],
   "source": []
  },
  {
   "cell_type": "code",
   "execution_count": null,
   "id": "87ac11b4-4f48-4ec5-a328-40036d13355e",
   "metadata": {},
   "outputs": [],
   "source": []
  },
  {
   "cell_type": "code",
   "execution_count": null,
   "id": "62ce694b-b05a-41e1-81f4-8054cb5147dd",
   "metadata": {},
   "outputs": [],
   "source": []
  },
  {
   "cell_type": "code",
   "execution_count": null,
   "id": "6d63c4a9-5315-42e7-a47b-11d24f140dde",
   "metadata": {},
   "outputs": [],
   "source": []
  },
  {
   "cell_type": "code",
   "execution_count": null,
   "id": "80c16f01-6c07-4c6c-9157-f012dc10bdbc",
   "metadata": {},
   "outputs": [],
   "source": []
  },
  {
   "cell_type": "code",
   "execution_count": null,
   "id": "3b393b84-b3ac-4323-9454-15b7592bee3f",
   "metadata": {},
   "outputs": [],
   "source": []
  },
  {
   "cell_type": "code",
   "execution_count": null,
   "id": "46a3012d-eb77-4d5b-b9fc-5f3f766e2d0d",
   "metadata": {},
   "outputs": [],
   "source": []
  },
  {
   "cell_type": "code",
   "execution_count": null,
   "id": "fd1b720c-bfa3-48b5-a21f-8bbdc73fb006",
   "metadata": {},
   "outputs": [],
   "source": []
  },
  {
   "cell_type": "code",
   "execution_count": null,
   "id": "b905d114-ccba-444c-b4ba-c59ec2488a44",
   "metadata": {},
   "outputs": [],
   "source": []
  },
  {
   "cell_type": "code",
   "execution_count": null,
   "id": "f8de8457-670e-444c-bd6d-acd83172e7ad",
   "metadata": {},
   "outputs": [],
   "source": []
  },
  {
   "cell_type": "code",
   "execution_count": null,
   "id": "bcd21495-27af-4552-8c5c-ee0f6bde84f0",
   "metadata": {},
   "outputs": [],
   "source": []
  },
  {
   "cell_type": "code",
   "execution_count": null,
   "id": "34951d9b-175c-4969-8ee7-60aa7665e472",
   "metadata": {},
   "outputs": [],
   "source": []
  },
  {
   "cell_type": "code",
   "execution_count": 8,
   "id": "8708ebd9-52a0-46a2-becb-dbddfa1cd87d",
   "metadata": {},
   "outputs": [
    {
     "name": "stdout",
     "output_type": "stream",
     "text": [
      "2021-11-14 17:58:14 |\u001b[32m INFO     \u001b[0m| src.benchmark.benchmark_utils | Input pairs are extracted.\n"
     ]
    }
   ],
   "source": [
    "s3.extract_pairs(\"ELASPIC_Input_S3\")"
   ]
  },
  {
   "cell_type": "code",
   "execution_count": null,
   "id": "127f3649-6d1d-44d4-8641-c510c7b3a8ef",
   "metadata": {},
   "outputs": [],
   "source": []
  },
  {
   "cell_type": "code",
   "execution_count": 3,
   "id": "ebacfb40-a4e2-48b2-8c6d-33c456c8eae8",
   "metadata": {
    "tags": []
   },
   "outputs": [
    {
     "name": "stdout",
     "output_type": "stream",
     "text": [
      "2021-11-14 17:53:05 |\u001b[32m INFO     \u001b[0m| utils | Initializing S3 ..\n",
      "2021-11-14 17:53:06 |\u001b[32m INFO     \u001b[0m| utils | Sheets found: ['README', 'MDA231', 'MCF7', 'MCF10A']\n",
      "2021-11-14 17:53:06 |\u001b[36m DEBUG    \u001b[0m| src.benchmark.benchmark_utils | Loading sheet MDA231 ..\n",
      "2021-11-14 17:53:44 |\u001b[36m DEBUG    \u001b[0m| src.benchmark.benchmark_utils | Excel sheet MDA231 is loaded.\n",
      "2021-11-14 17:53:44 |\u001b[36m DEBUG    \u001b[0m| src.benchmark.benchmark_utils | Loading sheet MCF7 ..\n",
      "2021-11-14 17:54:13 |\u001b[36m DEBUG    \u001b[0m| src.benchmark.benchmark_utils | Excel sheet MCF7 is loaded.\n",
      "2021-11-14 17:54:14 |\u001b[36m DEBUG    \u001b[0m| src.benchmark.benchmark_utils | Loading sheet MCF10A ..\n",
      "2021-11-14 17:54:39 |\u001b[36m DEBUG    \u001b[0m| src.benchmark.benchmark_utils | Excel sheet MCF10A is loaded.\n",
      "Number of pairs: 20\n",
      "{('O96017', 'K373E'), ('Q86UE4', 'A78S'), ('P38398', 'C61G'), ('P38398', 'M1775R'), ('P04637', 'R273H'), ('Q9Y243', 'E17K'), ('P38398', 'R71G'), ('P38398', 'S1655F'), ('P04637', 'R175H'), ('P42336', 'M1043V'), ('P38398', 'I26A'), ('P12830', 'E243K'), ('Q86YC2', 'E837K'), ('P31749', 'E17K'), ('P60484', 'R130Q'), ('P04637', 'R248W'), ('P42336', 'E545K'), ('Q9BX63', 'A745T'), ('P42336', 'H1047R'), ('P01112', 'G12D')}\n"
     ]
    }
   ],
   "source": [
    "s4 = Kim2021TableS4(S4_PATH)"
   ]
  },
  {
   "cell_type": "code",
   "execution_count": null,
   "id": "0270abed-520b-4641-bb62-69939720df39",
   "metadata": {},
   "outputs": [],
   "source": []
  },
  {
   "cell_type": "code",
   "execution_count": null,
   "id": "ed0feb06-f399-40b4-9059-094cdd85d898",
   "metadata": {},
   "outputs": [],
   "source": []
  },
  {
   "cell_type": "code",
   "execution_count": null,
   "id": "ff288e0c-f0a1-4bd1-b847-568ae706f2de",
   "metadata": {},
   "outputs": [],
   "source": []
  },
  {
   "cell_type": "code",
   "execution_count": null,
   "id": "50c9b0b8-2471-4266-b8af-5c9896d0d51f",
   "metadata": {},
   "outputs": [],
   "source": []
  },
  {
   "cell_type": "code",
   "execution_count": null,
   "id": "46f91ba3-dcf1-479c-b481-5a4ddc347cce",
   "metadata": {},
   "outputs": [],
   "source": []
  },
  {
   "cell_type": "code",
   "execution_count": null,
   "id": "93061232-afea-4a44-aaa1-c3ebe69e4e08",
   "metadata": {},
   "outputs": [],
   "source": []
  },
  {
   "cell_type": "code",
   "execution_count": null,
   "id": "35fec95a-c4fc-4339-b954-35e048fb4cf1",
   "metadata": {},
   "outputs": [],
   "source": []
  },
  {
   "cell_type": "code",
   "execution_count": null,
   "id": "0db30cdd-2a1a-406d-a5b8-d10bff55fdc5",
   "metadata": {},
   "outputs": [],
   "source": []
  }
 ],
 "metadata": {
  "kernelspec": {
   "display_name": "Predicting-Mutation-Effects",
   "language": "python",
   "name": "predicting-mutation-effects"
  },
  "language_info": {
   "codemirror_mode": {
    "name": "ipython",
    "version": 3
   },
   "file_extension": ".py",
   "mimetype": "text/x-python",
   "name": "python",
   "nbconvert_exporter": "python",
   "pygments_lexer": "ipython3",
   "version": "3.8.10"
  }
 },
 "nbformat": 4,
 "nbformat_minor": 5
}
