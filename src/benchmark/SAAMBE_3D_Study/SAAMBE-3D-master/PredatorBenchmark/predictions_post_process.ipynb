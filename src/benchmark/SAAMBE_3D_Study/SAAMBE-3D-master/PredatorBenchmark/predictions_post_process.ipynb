{
 "cells": [
  {
   "cell_type": "markdown",
   "metadata": {},
   "source": [
    "# Post processing predictions"
   ]
  },
  {
   "cell_type": "code",
   "execution_count": 1,
   "metadata": {},
   "outputs": [],
   "source": [
    "import pandas as pd"
   ]
  },
  {
   "cell_type": "markdown",
   "metadata": {},
   "source": [
    "### Comparing predictions"
   ]
  },
  {
   "cell_type": "code",
   "execution_count": null,
   "metadata": {},
   "outputs": [],
   "source": [
    "predictions_2022_02_12 = pd.read_csv(\"SAAMBE_3D_predictions_2022_02_12.csv\")\n",
    "predictions_2022_02_23 = pd.read_csv(\"SAAMBE_3D_predictions_2022_02_23.csv\")"
   ]
  },
  {
   "cell_type": "code",
   "execution_count": null,
   "metadata": {},
   "outputs": [],
   "source": []
  }
 ],
 "metadata": {
  "interpreter": {
   "hash": "744a87e469587dbcf8fac8d052d878f92cd2bd4753678d29e8c66ba42908611b"
  },
  "kernelspec": {
   "display_name": "Python 2.7.15 ('SAAMBE_3D_Study')",
   "language": "python",
   "name": "python3"
  },
  "language_info": {
   "codemirror_mode": {
    "name": "ipython",
    "version": 3
   },
   "file_extension": ".py",
   "mimetype": "text/x-python",
   "name": "python",
   "nbconvert_exporter": "python",
   "pygments_lexer": "ipython3",
   "version": "3.9.9"
  },
  "orig_nbformat": 4
 },
 "nbformat": 4,
 "nbformat_minor": 2
}
