{
 "cells": [
  {
   "cell_type": "code",
   "execution_count": 3,
   "metadata": {},
   "outputs": [],
   "source": [
    "def mutation_pdb(pdbid):\n",
    "    import urllib.request\n",
    "    import urllib.parse\n",
    "    import urllib.error\n",
    "    url = \"https://files.rcsb.org/view/\"+pdbid+\".pdb\"\n",
    "    urllib.request.urlretrieve(url, pdbid + \"_their_file.pdb\")\n",
    "    \n",
    "\n",
    "# test the function\n",
    "mutation_pdb(\"1a22\")"
   ]
  },
  {
   "cell_type": "code",
   "execution_count": 4,
   "metadata": {},
   "outputs": [
    {
     "name": "stdout",
     "output_type": "stream",
     "text": [
      "Downloading 1a22...\n"
     ]
    }
   ],
   "source": [
    "from utils import download_pdb\n",
    "\n",
    "# test the function\n",
    "download_pdb(\"1a22\")"
   ]
  },
  {
   "cell_type": "code",
   "execution_count": null,
   "metadata": {},
   "outputs": [],
   "source": []
  },
  {
   "cell_type": "code",
   "execution_count": null,
   "metadata": {},
   "outputs": [],
   "source": []
  },
  {
   "cell_type": "code",
   "execution_count": null,
   "metadata": {},
   "outputs": [],
   "source": []
  }
 ],
 "metadata": {
  "interpreter": {
   "hash": "744a87e469587dbcf8fac8d052d878f92cd2bd4753678d29e8c66ba42908611b"
  },
  "kernelspec": {
   "display_name": "Python 2.7.15 64-bit ('SAAMBE_3D_Study': conda)",
   "language": "python",
   "name": "python3"
  },
  "language_info": {
   "codemirror_mode": {
    "name": "ipython",
    "version": 3
   },
   "file_extension": ".py",
   "mimetype": "text/x-python",
   "name": "python",
   "nbconvert_exporter": "python",
   "pygments_lexer": "ipython3",
   "version": "3.9.4"
  },
  "orig_nbformat": 4
 },
 "nbformat": 4,
 "nbformat_minor": 2
}
