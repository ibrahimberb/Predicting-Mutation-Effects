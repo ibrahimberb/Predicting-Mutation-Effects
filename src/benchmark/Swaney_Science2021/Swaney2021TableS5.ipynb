{
 "cells": [
  {
   "cell_type": "markdown",
   "id": "a2708428-9ed2-41f0-b660-6b5994a8eed3",
   "metadata": {
    "tags": []
   },
   "source": [
    "# Science Paper Supp Table 05:"
   ]
  },
  {
   "cell_type": "code",
   "execution_count": 1,
   "id": "e0669559-a79e-4457-98b9-bd6d869b8a48",
   "metadata": {},
   "outputs": [
    {
     "name": "stdout",
     "output_type": "stream",
     "text": [
      " Volume in drive C has no label.\n",
      " Volume Serial Number is 022C-93CC\n",
      "\n",
      " Directory of C:\\Users\\ibrah\\Documents\\GitHub\\Predicting-Mutation-Effects\\src\\benchmark\\Swaney_Science2021\n",
      "\n",
      "11/07/2021  05:29 PM    <DIR>          .\n",
      "11/07/2021  05:29 PM    <DIR>          ..\n",
      "11/07/2021  05:24 PM    <DIR>          .ipynb_checkpoints\n",
      "11/07/2021  03:41 PM            63,770 allresults_2021-11-07.txt\n",
      "11/05/2021  06:47 PM               324 ELASPIC_input_2021-11-05.txt\n",
      "11/07/2021  04:26 PM               324 ELASPIC_input_2021-11-07.txt\n",
      "11/07/2021  05:28 PM           384,317 PredictionsSwaney.ipynb\n",
      "11/07/2021  04:24 PM             5,255 Prepare_results.ipynb\n",
      "11/06/2021  04:05 PM               220 readme.md\n",
      "09/20/2021  02:02 PM           261,556 science.abf2911_Table_S5.xlsx\n",
      "11/07/2021  05:28 PM            55,790 Swaney2021TableS5.ipynb\n",
      "11/07/2021  05:29 PM             5,409 utils.py\n",
      "11/07/2021  04:29 PM    <DIR>          __pycache__\n",
      "               9 File(s)        776,965 bytes\n",
      "               4 Dir(s)  198,117,642,240 bytes free\n"
     ]
    }
   ],
   "source": [
    "!dir"
   ]
  },
  {
   "cell_type": "code",
   "execution_count": 2,
   "id": "dfe8bdf8-8f57-44c5-95c7-57e649a6ab75",
   "metadata": {},
   "outputs": [],
   "source": [
    "from utils import Swaney2021TableS5\n",
    "import pandas as pd\n",
    "from utils import ReadyResults\n",
    "\n",
    "# Reflect changes in the modules immediately.\n",
    "%load_ext autoreload\n",
    "%autoreload 2"
   ]
  },
  {
   "cell_type": "code",
   "execution_count": 3,
   "id": "4d964df5-c003-407c-8edc-116c75e277cd",
   "metadata": {},
   "outputs": [
    {
     "name": "stdout",
     "output_type": "stream",
     "text": [
      "Loading sheets ..\n",
      "Number of pairs: 23\n"
     ]
    }
   ],
   "source": [
    "swaney = Swaney2021TableS5(\"science.abf2911_Table_S5.xlsx\")"
   ]
  },
  {
   "cell_type": "code",
   "execution_count": 4,
   "id": "fc5ab6b4-6795-4164-bdf7-7120f9a83bea",
   "metadata": {},
   "outputs": [
    {
     "data": {
      "text/plain": [
       "{('P01112', 'G12D'),\n",
       " ('P04637', 'R248W'),\n",
       " ('P04637', 'R273H'),\n",
       " ('P28482', 'E322K'),\n",
       " ('P42336', 'C971R'),\n",
       " ('P42336', 'E110DEL'),\n",
       " ('P42336', 'E453K'),\n",
       " ('P42336', 'E542K'),\n",
       " ('P42336', 'E545G'),\n",
       " ('P42336', 'E545K'),\n",
       " ('P42336', 'E726K'),\n",
       " ('P42336', 'G1007R'),\n",
       " ('P42336', 'G363A'),\n",
       " ('P42336', 'H1047L'),\n",
       " ('P42336', 'H1047R'),\n",
       " ('P42336', 'K111E'),\n",
       " ('P42336', 'K111N'),\n",
       " ('P42336', 'M1043V'),\n",
       " ('P42336', 'R88Q'),\n",
       " ('P42336', 'V344G'),\n",
       " ('Q16236', 'E79K'),\n",
       " ('Q16236', 'E79Q'),\n",
       " ('Q969H0', 'R505G')}"
      ]
     },
     "execution_count": 4,
     "metadata": {},
     "output_type": "execute_result"
    }
   ],
   "source": [
    "swaney.pairs"
   ]
  },
  {
   "cell_type": "code",
   "execution_count": null,
   "id": "2ac56647-0dd7-4033-a50c-4b5e0720c428",
   "metadata": {},
   "outputs": [],
   "source": []
  },
  {
   "cell_type": "code",
   "execution_count": null,
   "id": "69ae4db9-b0af-4bcd-92c3-32f544e6993c",
   "metadata": {},
   "outputs": [],
   "source": []
  },
  {
   "cell_type": "code",
   "execution_count": null,
   "id": "519c1113-58b8-426a-84bd-bd411bbdde78",
   "metadata": {},
   "outputs": [],
   "source": []
  },
  {
   "cell_type": "code",
   "execution_count": 5,
   "id": "00a13aa3-ea16-4091-a125-20512cf8bc63",
   "metadata": {},
   "outputs": [
    {
     "name": "stdout",
     "output_type": "stream",
     "text": [
      "Separating Core and Interface entries ..\n",
      "Core data dimensions: (3, 103)\n",
      "Core data preview: \n",
      "  UniProt_ID Mutation Interactor_UniProt_ID\n",
      "0     P28482    E322K                     -\n",
      "1     P42336    G363A                     -\n",
      "2     P42336    K111N                     -\n",
      "\n",
      "Interface data dimensions: (76, 103)\n",
      "Interface data preview: \n",
      "  UniProt_ID Mutation Interactor_UniProt_ID\n",
      "0     P42336   M1043V                Q13535\n",
      "1     P42336   M1043V              Q13535-2\n",
      "2     P42336   M1043V              Q13535-3\n",
      "\n",
      "Dropping duplicated entries ..\n",
      "Size of dataframe before dropping duplicated entries: (3, 103)\n",
      "Size of dataframe  after dropping duplicated entries: (3, 103)\n",
      "Dropping self interactions ..\n",
      "Dropping duplicated entries ..\n",
      "Size of dataframe before dropping duplicated entries: (73, 103)\n",
      "Size of dataframe  after dropping duplicated entries: (73, 103)\n"
     ]
    }
   ],
   "source": [
    "interface_results = ReadyResults(\"allresults_2021-11-07.txt\").get_interface_ready_results()"
   ]
  },
  {
   "cell_type": "code",
   "execution_count": null,
   "id": "edf9dfb3-30f2-460f-9268-47a42acc8ff9",
   "metadata": {},
   "outputs": [],
   "source": []
  },
  {
   "cell_type": "code",
   "execution_count": null,
   "id": "43517270-fde4-42d8-9600-737c9c9677d4",
   "metadata": {},
   "outputs": [],
   "source": []
  },
  {
   "cell_type": "code",
   "execution_count": 6,
   "id": "15c0ec9b-c4af-4637-85b5-da29df074550",
   "metadata": {},
   "outputs": [
    {
     "data": {
      "text/html": [
       "<div>\n",
       "<style scoped>\n",
       "    .dataframe tbody tr th:only-of-type {\n",
       "        vertical-align: middle;\n",
       "    }\n",
       "\n",
       "    .dataframe tbody tr th {\n",
       "        vertical-align: top;\n",
       "    }\n",
       "\n",
       "    .dataframe thead th {\n",
       "        text-align: right;\n",
       "    }\n",
       "</style>\n",
       "<table border=\"1\" class=\"dataframe\">\n",
       "  <thead>\n",
       "    <tr style=\"text-align: right;\">\n",
       "      <th></th>\n",
       "      <th>Input_identifier</th>\n",
       "      <th>UniProt_ID</th>\n",
       "      <th>Mutation</th>\n",
       "      <th>Status</th>\n",
       "      <th>Type</th>\n",
       "      <th>COSMIC_mut_ID</th>\n",
       "      <th>ClinVar_mut_ID</th>\n",
       "      <th>UniProt_mut_ID</th>\n",
       "      <th>Domain_name</th>\n",
       "      <th>Domain_clan</th>\n",
       "      <th>...</th>\n",
       "      <th>number_of_residues_mut</th>\n",
       "      <th>IntraclashesEnergy1_wt</th>\n",
       "      <th>IntraclashesEnergy1_mut</th>\n",
       "      <th>IntraclashesEnergy2_wt</th>\n",
       "      <th>IntraclashesEnergy2_mut</th>\n",
       "      <th>Interface_hydrophobic_area</th>\n",
       "      <th>Interface_hydrophilic_area</th>\n",
       "      <th>Interface_total_area</th>\n",
       "      <th>Interface_contact_distance_wt</th>\n",
       "      <th>Interface_contact_distance_mut</th>\n",
       "    </tr>\n",
       "  </thead>\n",
       "  <tbody>\n",
       "  </tbody>\n",
       "</table>\n",
       "<p>0 rows × 103 columns</p>\n",
       "</div>"
      ],
      "text/plain": [
       "Empty DataFrame\n",
       "Columns: [Input_identifier, UniProt_ID, Mutation, Status, Type, COSMIC_mut_ID, ClinVar_mut_ID, UniProt_mut_ID, Domain_name, Domain_clan, Domain_definitions, Template_cath_id, Template_sequence_identity, Alignment_score, Interactor_UniProt_ID, Interactor_domain_name, Interactor_domain_clan, Interactor_domain_definitions, Interactor_template_cath_id, Interactor_template_sequence_identity, Interactor_alignment_score, Final_ddG, ProtBert_score, ProteinSolver_score, EL2_score, Model/DOPE_score, Provean_score, Matrix_score, Secondary_structure_wt, Secondary_structure_mut, Solvent_accessibility_wt, Solvent_accessibility_mut, pcv_salt_equal_wt, pcv_salt_opposite_wt, pcv_hbond_wt, pcv_vdW_wt, pcv_salt_equal_mut, pcv_salt_opposite_mut, pcv_hbond_mut, pcv_vdW_mut, pcv_salt_equal_self_wt, pcv_salt_opposite_self_wt, pcv_hbond_self_wt, pcv_vdW_self_wt, pcv_salt_equal_self_mut, pcv_salt_opposite_self_mut, pcv_hbond_self_mut, pcv_vdW_self_mut, dg_wt, backbone_hbond_wt, sidechain_hbond_wt, van_der_waals_wt, electrostatics_wt, solvation_polar_wt, solvation_hydrophobic_wt, van_der_waals_clashes_wt, entropy_sidechain_wt, entropy_mainchain_wt, sloop_entropy_wt, mloop_entropy_wt, cis_bond_wt, torsional_clash_wt, backbone_clash_wt, helix_dipole_wt, water_bridge_wt, disulfide_wt, electrostatic_kon_wt, partial_covalent_bonds_wt, energy_ionisation_wt, entropy_complex_wt, number_of_residues_wt, dg_mut, backbone_hbond_mut, sidechain_hbond_mut, van_der_waals_mut, electrostatics_mut, solvation_polar_mut, solvation_hydrophobic_mut, van_der_waals_clashes_mut, entropy_sidechain_mut, entropy_mainchain_mut, sloop_entropy_mut, mloop_entropy_mut, cis_bond_mut, torsional_clash_mut, backbone_clash_mut, helix_dipole_mut, water_bridge_mut, disulfide_mut, electrostatic_kon_mut, partial_covalent_bonds_mut, energy_ionisation_mut, entropy_complex_mut, number_of_residues_mut, IntraclashesEnergy1_wt, IntraclashesEnergy1_mut, IntraclashesEnergy2_wt, IntraclashesEnergy2_mut, Interface_hydrophobic_area, Interface_hydrophilic_area, ...]\n",
       "Index: []\n",
       "\n",
       "[0 rows x 103 columns]"
      ]
     },
     "execution_count": 6,
     "metadata": {},
     "output_type": "execute_result"
    }
   ],
   "source": [
    "interface_results[\n",
    "    (interface_results[\"UniProt_ID\"] == \"P01112\") &\n",
    "    (interface_results[\"Interactor_UniProt_ID\"] == \"P13995\")   \n",
    "]"
   ]
  },
  {
   "cell_type": "code",
   "execution_count": null,
   "id": "3076b327-cae0-46a1-8200-5f3efe88de84",
   "metadata": {},
   "outputs": [],
   "source": []
  },
  {
   "cell_type": "code",
   "execution_count": 7,
   "id": "614f893e-f21f-4edc-b3fd-432bc1e71a96",
   "metadata": {},
   "outputs": [],
   "source": [
    "def get_elaspic_results(protein, mutation, interactor, data):\n",
    "    query_data = data[\n",
    "        (data[\"UniProt_ID\"] == protein) &\n",
    "        (data[\"Mutation\"] == mutation) &\n",
    "        (data[\"Interactor_UniProt_ID\"] == interactor)\n",
    "    ]\n",
    "    \n",
    "    return query_data"
   ]
  },
  {
   "cell_type": "code",
   "execution_count": 8,
   "id": "d4a9bba4-5658-4ead-b008-bd5ed4bd9ed9",
   "metadata": {},
   "outputs": [],
   "source": [
    "def search(swaney_table, result_data):\n",
    "    found_triplets = []\n",
    "    for index, row in swaney_table.iterrows():\n",
    "        protein = row[\"PPIcode Uniprot\"].split(\"_\")[0]\n",
    "        mutation = row[\"Mutant\"]\n",
    "        interactor = row[\"PPIcode Uniprot\"].split(\"_\")[1]\n",
    "        query_data = get_elaspic_results(protein, mutation, interactor, data=result_data)\n",
    "        \n",
    "        if query_data.empty:\n",
    "            found = \"-\"\n",
    "        else:\n",
    "            found = \"+\"\n",
    "            found_triplets.append((protein, mutation, interactor))\n",
    "\n",
    "        # print(f\"PROTEIN: {protein} MUTATION: {mutation} INTERACTOR: {interactor} FOUND: {found}\")\n",
    "    \n",
    "    print(f\"NUM_FOUND: {len(found_triplets)}\")\n",
    "    print(f\"{found_triplets}\")"
   ]
  },
  {
   "cell_type": "code",
   "execution_count": 9,
   "id": "2fad65a3-30b8-43bd-9384-85f85891a98c",
   "metadata": {
    "tags": []
   },
   "outputs": [
    {
     "name": "stdout",
     "output_type": "stream",
     "text": [
      "NUM_FOUND: 3\n",
      "[('P01112', 'G12D', 'Q13671'), ('P01112', 'G12D', 'O15211'), ('P01112', 'G12D', 'Q13671')]\n"
     ]
    }
   ],
   "source": [
    "search(swaney.table_1, interface_results)"
   ]
  },
  {
   "cell_type": "code",
   "execution_count": 10,
   "id": "a2770783-ef3c-4006-a228-88d1cfb4ccf6",
   "metadata": {
    "tags": []
   },
   "outputs": [
    {
     "name": "stdout",
     "output_type": "stream",
     "text": [
      "NUM_FOUND: 0\n",
      "[]\n"
     ]
    }
   ],
   "source": [
    "search(swaney.table_2, interface_results)"
   ]
  },
  {
   "cell_type": "code",
   "execution_count": 11,
   "id": "159aee62-18eb-4086-b66e-103a4d52c1b0",
   "metadata": {
    "tags": []
   },
   "outputs": [
    {
     "name": "stdout",
     "output_type": "stream",
     "text": [
      "NUM_FOUND: 0\n",
      "[]\n"
     ]
    }
   ],
   "source": [
    "search(swaney.table_3, interface_results)"
   ]
  },
  {
   "cell_type": "code",
   "execution_count": 12,
   "id": "3d8e3eff-dab8-4e72-9cc1-c0fe838fb6fa",
   "metadata": {
    "tags": []
   },
   "outputs": [
    {
     "name": "stdout",
     "output_type": "stream",
     "text": [
      "NUM_FOUND: 0\n",
      "[]\n"
     ]
    }
   ],
   "source": [
    "search(swaney.table_4, interface_results)"
   ]
  },
  {
   "cell_type": "code",
   "execution_count": null,
   "id": "7788d82b-6b16-478d-8298-b2d79dcd9bc5",
   "metadata": {},
   "outputs": [],
   "source": []
  },
  {
   "cell_type": "code",
   "execution_count": 13,
   "id": "ab2d9467-4d11-4095-a87f-cc7d7370e857",
   "metadata": {},
   "outputs": [],
   "source": [
    "old_results = pd.read_csv(r\"C:/Users/ibrah/Desktop/Digging_in/Merged_Old_Results/BRCA_Interface_2021-11-07.txt\", sep=\"\\t\", low_memory=False)"
   ]
  },
  {
   "cell_type": "code",
   "execution_count": 14,
   "id": "fe80dea3-ffa6-401c-9d09-701ebe6aa305",
   "metadata": {
    "tags": []
   },
   "outputs": [
    {
     "name": "stdout",
     "output_type": "stream",
     "text": [
      "NUM_FOUND: 3\n",
      "[('P01112', 'G12D', 'Q13671'), ('P01112', 'G12D', 'O15211'), ('P01112', 'G12D', 'Q13671')]\n"
     ]
    }
   ],
   "source": [
    "search(swaney.table_1, old_results)"
   ]
  },
  {
   "cell_type": "code",
   "execution_count": 15,
   "id": "ac548847-85a2-4e59-9ce7-f7b7dcd00885",
   "metadata": {
    "tags": []
   },
   "outputs": [
    {
     "name": "stdout",
     "output_type": "stream",
     "text": [
      "NUM_FOUND: 1\n",
      "[('P42336', 'H1047R', 'O00459')]\n"
     ]
    }
   ],
   "source": [
    "search(swaney.table_2, old_results)"
   ]
  },
  {
   "cell_type": "code",
   "execution_count": 16,
   "id": "092c89e2-4b0f-4906-980e-ac51694d1439",
   "metadata": {
    "tags": []
   },
   "outputs": [
    {
     "name": "stdout",
     "output_type": "stream",
     "text": [
      "NUM_FOUND: 1\n",
      "[('P42336', 'H1047R', 'O00459')]\n"
     ]
    }
   ],
   "source": [
    "search(swaney.table_3, old_results)"
   ]
  },
  {
   "cell_type": "code",
   "execution_count": 17,
   "id": "92bf51f7-855f-463d-9868-ff30d5e92366",
   "metadata": {
    "tags": []
   },
   "outputs": [
    {
     "name": "stdout",
     "output_type": "stream",
     "text": [
      "NUM_FOUND: 1\n",
      "[('P42336', 'H1047R', 'O00459')]\n"
     ]
    }
   ],
   "source": [
    "search(swaney.table_4, old_results)"
   ]
  },
  {
   "cell_type": "code",
   "execution_count": null,
   "id": "10160f31-e660-4e2a-a7ff-ca244e38c61a",
   "metadata": {},
   "outputs": [],
   "source": []
  },
  {
   "cell_type": "code",
   "execution_count": 28,
   "id": "5499d94e-e0f5-488d-8a5e-9a105398244a",
   "metadata": {},
   "outputs": [],
   "source": [
    "found_triplets_so_far = set([('P01112', 'G12D', 'Q13671'), ('P01112', 'G12D', 'O15211'), ('P01112', 'G12D', 'Q13671')])"
   ]
  },
  {
   "cell_type": "code",
   "execution_count": 29,
   "id": "105db51e-a2da-453c-800d-7d367ac37d08",
   "metadata": {},
   "outputs": [],
   "source": [
    "found_elaspic_entries = []\n",
    "for prot, mut, inter in found_triplets_so_far:\n",
    "    found_elaspic_entries.append(\n",
    "        get_elaspic_results(prot, mut, inter, interface_results)\n",
    "    )\n",
    "\n",
    "found_elaspic_results_data = pd.concat(found_elaspic_entries)\n",
    "found_elaspic_results_data.to_csv(\"found_elaspic_results.txt\", index=False, sep='\\t')"
   ]
  },
  {
   "cell_type": "code",
   "execution_count": 30,
   "id": "056c984b-c265-4f25-b87a-8890f1c8ff7d",
   "metadata": {},
   "outputs": [
    {
     "data": {
      "text/html": [
       "<div>\n",
       "<style scoped>\n",
       "    .dataframe tbody tr th:only-of-type {\n",
       "        vertical-align: middle;\n",
       "    }\n",
       "\n",
       "    .dataframe tbody tr th {\n",
       "        vertical-align: top;\n",
       "    }\n",
       "\n",
       "    .dataframe thead th {\n",
       "        text-align: right;\n",
       "    }\n",
       "</style>\n",
       "<table border=\"1\" class=\"dataframe\">\n",
       "  <thead>\n",
       "    <tr style=\"text-align: right;\">\n",
       "      <th></th>\n",
       "      <th>Input_identifier</th>\n",
       "      <th>UniProt_ID</th>\n",
       "      <th>Mutation</th>\n",
       "      <th>Status</th>\n",
       "      <th>Type</th>\n",
       "      <th>COSMIC_mut_ID</th>\n",
       "      <th>ClinVar_mut_ID</th>\n",
       "      <th>UniProt_mut_ID</th>\n",
       "      <th>Domain_name</th>\n",
       "      <th>Domain_clan</th>\n",
       "      <th>...</th>\n",
       "      <th>number_of_residues_mut</th>\n",
       "      <th>IntraclashesEnergy1_wt</th>\n",
       "      <th>IntraclashesEnergy1_mut</th>\n",
       "      <th>IntraclashesEnergy2_wt</th>\n",
       "      <th>IntraclashesEnergy2_mut</th>\n",
       "      <th>Interface_hydrophobic_area</th>\n",
       "      <th>Interface_hydrophilic_area</th>\n",
       "      <th>Interface_total_area</th>\n",
       "      <th>Interface_contact_distance_wt</th>\n",
       "      <th>Interface_contact_distance_mut</th>\n",
       "    </tr>\n",
       "  </thead>\n",
       "  <tbody>\n",
       "    <tr>\n",
       "      <th>14</th>\n",
       "      <td>P01112</td>\n",
       "      <td>P01112</td>\n",
       "      <td>G12D</td>\n",
       "      <td>done</td>\n",
       "      <td>interface</td>\n",
       "      <td>COSM99915</td>\n",
       "      <td>-</td>\n",
       "      <td>VAR_068816</td>\n",
       "      <td>Ras</td>\n",
       "      <td>Ras</td>\n",
       "      <td>...</td>\n",
       "      <td>648</td>\n",
       "      <td>35.9691</td>\n",
       "      <td>35.7047</td>\n",
       "      <td>493.422</td>\n",
       "      <td>493.422</td>\n",
       "      <td>None</td>\n",
       "      <td>None</td>\n",
       "      <td>None</td>\n",
       "      <td>4.8406</td>\n",
       "      <td>4.8406</td>\n",
       "    </tr>\n",
       "    <tr>\n",
       "      <th>17</th>\n",
       "      <td>P01112</td>\n",
       "      <td>P01112</td>\n",
       "      <td>G12D</td>\n",
       "      <td>done</td>\n",
       "      <td>interface</td>\n",
       "      <td>COSM99915</td>\n",
       "      <td>-</td>\n",
       "      <td>VAR_068816</td>\n",
       "      <td>Ras</td>\n",
       "      <td>Ras</td>\n",
       "      <td>...</td>\n",
       "      <td>339</td>\n",
       "      <td>123.567</td>\n",
       "      <td>123.636</td>\n",
       "      <td>68.5032</td>\n",
       "      <td>68.5032</td>\n",
       "      <td>539.595</td>\n",
       "      <td>324.98</td>\n",
       "      <td>864.585</td>\n",
       "      <td>3.18758</td>\n",
       "      <td>3.18758</td>\n",
       "    </tr>\n",
       "  </tbody>\n",
       "</table>\n",
       "<p>2 rows × 103 columns</p>\n",
       "</div>"
      ],
      "text/plain": [
       "   Input_identifier UniProt_ID Mutation Status       Type COSMIC_mut_ID  \\\n",
       "14           P01112     P01112     G12D   done  interface     COSM99915   \n",
       "17           P01112     P01112     G12D   done  interface     COSM99915   \n",
       "\n",
       "   ClinVar_mut_ID UniProt_mut_ID Domain_name Domain_clan  ...  \\\n",
       "14              -     VAR_068816         Ras         Ras  ...   \n",
       "17              -     VAR_068816         Ras         Ras  ...   \n",
       "\n",
       "   number_of_residues_mut IntraclashesEnergy1_wt IntraclashesEnergy1_mut  \\\n",
       "14                    648                35.9691                 35.7047   \n",
       "17                    339                123.567                 123.636   \n",
       "\n",
       "   IntraclashesEnergy2_wt IntraclashesEnergy2_mut Interface_hydrophobic_area  \\\n",
       "14                493.422                 493.422                       None   \n",
       "17                68.5032                 68.5032                    539.595   \n",
       "\n",
       "   Interface_hydrophilic_area Interface_total_area  \\\n",
       "14                       None                 None   \n",
       "17                     324.98              864.585   \n",
       "\n",
       "   Interface_contact_distance_wt Interface_contact_distance_mut  \n",
       "14                        4.8406                         4.8406  \n",
       "17                       3.18758                        3.18758  \n",
       "\n",
       "[2 rows x 103 columns]"
      ]
     },
     "execution_count": 30,
     "metadata": {},
     "output_type": "execute_result"
    }
   ],
   "source": [
    "found_elaspic_results_data"
   ]
  },
  {
   "cell_type": "code",
   "execution_count": null,
   "id": "365ecf01-27b7-4d4d-835b-b93289f2a35a",
   "metadata": {},
   "outputs": [],
   "source": []
  },
  {
   "cell_type": "code",
   "execution_count": null,
   "id": "81332571-b824-4434-b8eb-88e41d82e6c2",
   "metadata": {},
   "outputs": [],
   "source": [
    "found_elaspic_entries = []\n",
    "for prot, mut, inter in found_triplets_so_far:"
   ]
  },
  {
   "cell_type": "code",
   "execution_count": null,
   "id": "33db5fa4-aaa0-41d3-9165-bc1069ca0da2",
   "metadata": {},
   "outputs": [],
   "source": []
  },
  {
   "cell_type": "code",
   "execution_count": null,
   "id": "f4178ef0-6ae9-4275-8577-61185320228b",
   "metadata": {},
   "outputs": [],
   "source": []
  },
  {
   "cell_type": "code",
   "execution_count": 21,
   "id": "bfb3bbb3-5cc1-4b9d-af98-5b8c72a8f453",
   "metadata": {},
   "outputs": [
    {
     "data": {
      "text/html": [
       "<div>\n",
       "<style scoped>\n",
       "    .dataframe tbody tr th:only-of-type {\n",
       "        vertical-align: middle;\n",
       "    }\n",
       "\n",
       "    .dataframe tbody tr th {\n",
       "        vertical-align: top;\n",
       "    }\n",
       "\n",
       "    .dataframe thead th {\n",
       "        text-align: right;\n",
       "    }\n",
       "</style>\n",
       "<table border=\"1\" class=\"dataframe\">\n",
       "  <thead>\n",
       "    <tr style=\"text-align: right;\">\n",
       "      <th></th>\n",
       "      <th>Input_identifier</th>\n",
       "      <th>UniProt_ID</th>\n",
       "      <th>Mutation</th>\n",
       "      <th>Status</th>\n",
       "      <th>Type</th>\n",
       "      <th>COSMIC_mut_ID</th>\n",
       "      <th>ClinVar_mut_ID</th>\n",
       "      <th>UniProt_mut_ID</th>\n",
       "      <th>Domain_name</th>\n",
       "      <th>Domain_clan</th>\n",
       "      <th>...</th>\n",
       "      <th>number_of_residues_mut</th>\n",
       "      <th>IntraclashesEnergy1_wt</th>\n",
       "      <th>IntraclashesEnergy1_mut</th>\n",
       "      <th>IntraclashesEnergy2_wt</th>\n",
       "      <th>IntraclashesEnergy2_mut</th>\n",
       "      <th>Interface_hydrophobic_area</th>\n",
       "      <th>Interface_hydrophilic_area</th>\n",
       "      <th>Interface_total_area</th>\n",
       "      <th>Interface_contact_distance_wt</th>\n",
       "      <th>Interface_contact_distance_mut</th>\n",
       "    </tr>\n",
       "  </thead>\n",
       "  <tbody>\n",
       "    <tr>\n",
       "      <th>17</th>\n",
       "      <td>P01112</td>\n",
       "      <td>P01112</td>\n",
       "      <td>G12D</td>\n",
       "      <td>done</td>\n",
       "      <td>interface</td>\n",
       "      <td>COSM99915</td>\n",
       "      <td>-</td>\n",
       "      <td>VAR_068816</td>\n",
       "      <td>Ras</td>\n",
       "      <td>Ras</td>\n",
       "      <td>...</td>\n",
       "      <td>339</td>\n",
       "      <td>123.567</td>\n",
       "      <td>123.636</td>\n",
       "      <td>68.5032</td>\n",
       "      <td>68.5032</td>\n",
       "      <td>539.595</td>\n",
       "      <td>324.98</td>\n",
       "      <td>864.585</td>\n",
       "      <td>3.18758</td>\n",
       "      <td>3.18758</td>\n",
       "    </tr>\n",
       "  </tbody>\n",
       "</table>\n",
       "<p>1 rows × 103 columns</p>\n",
       "</div>"
      ],
      "text/plain": [
       "   Input_identifier UniProt_ID Mutation Status       Type COSMIC_mut_ID  \\\n",
       "17           P01112     P01112     G12D   done  interface     COSM99915   \n",
       "\n",
       "   ClinVar_mut_ID UniProt_mut_ID Domain_name Domain_clan  ...  \\\n",
       "17              -     VAR_068816         Ras         Ras  ...   \n",
       "\n",
       "   number_of_residues_mut IntraclashesEnergy1_wt IntraclashesEnergy1_mut  \\\n",
       "17                    339                123.567                 123.636   \n",
       "\n",
       "   IntraclashesEnergy2_wt IntraclashesEnergy2_mut Interface_hydrophobic_area  \\\n",
       "17                68.5032                 68.5032                    539.595   \n",
       "\n",
       "   Interface_hydrophilic_area Interface_total_area  \\\n",
       "17                     324.98              864.585   \n",
       "\n",
       "   Interface_contact_distance_wt Interface_contact_distance_mut  \n",
       "17                       3.18758                        3.18758  \n",
       "\n",
       "[1 rows x 103 columns]"
      ]
     },
     "execution_count": 21,
     "metadata": {},
     "output_type": "execute_result"
    }
   ],
   "source": [
    "get_elaspic_results('P01112', 'G12D', 'Q13671', interface_results)"
   ]
  },
  {
   "cell_type": "code",
   "execution_count": 22,
   "id": "b29af9d5-2f53-4107-97c2-af2f4133bff4",
   "metadata": {},
   "outputs": [
    {
     "data": {
      "text/html": [
       "<div>\n",
       "<style scoped>\n",
       "    .dataframe tbody tr th:only-of-type {\n",
       "        vertical-align: middle;\n",
       "    }\n",
       "\n",
       "    .dataframe tbody tr th {\n",
       "        vertical-align: top;\n",
       "    }\n",
       "\n",
       "    .dataframe thead th {\n",
       "        text-align: right;\n",
       "    }\n",
       "</style>\n",
       "<table border=\"1\" class=\"dataframe\">\n",
       "  <thead>\n",
       "    <tr style=\"text-align: right;\">\n",
       "      <th></th>\n",
       "      <th>Input_identifier</th>\n",
       "      <th>UniProt_ID</th>\n",
       "      <th>Mutation</th>\n",
       "      <th>Status</th>\n",
       "      <th>Type</th>\n",
       "      <th>COSMIC_mut_ID</th>\n",
       "      <th>ClinVar_mut_ID</th>\n",
       "      <th>UniProt_mut_ID</th>\n",
       "      <th>Domain_name</th>\n",
       "      <th>Domain_clan</th>\n",
       "      <th>...</th>\n",
       "      <th>number_of_residues_mut</th>\n",
       "      <th>IntraclashesEnergy1_wt</th>\n",
       "      <th>IntraclashesEnergy1_mut</th>\n",
       "      <th>IntraclashesEnergy2_wt</th>\n",
       "      <th>IntraclashesEnergy2_mut</th>\n",
       "      <th>Interface_hydrophobic_area</th>\n",
       "      <th>Interface_hydrophilic_area</th>\n",
       "      <th>Interface_total_area</th>\n",
       "      <th>Interface_contact_distance_wt</th>\n",
       "      <th>Interface_contact_distance_mut</th>\n",
       "    </tr>\n",
       "  </thead>\n",
       "  <tbody>\n",
       "    <tr>\n",
       "      <th>14</th>\n",
       "      <td>P01112</td>\n",
       "      <td>P01112</td>\n",
       "      <td>G12D</td>\n",
       "      <td>done</td>\n",
       "      <td>interface</td>\n",
       "      <td>COSM99915</td>\n",
       "      <td>-</td>\n",
       "      <td>VAR_068816</td>\n",
       "      <td>Ras</td>\n",
       "      <td>Ras</td>\n",
       "      <td>...</td>\n",
       "      <td>648</td>\n",
       "      <td>35.9691</td>\n",
       "      <td>35.7047</td>\n",
       "      <td>493.422</td>\n",
       "      <td>493.422</td>\n",
       "      <td>None</td>\n",
       "      <td>None</td>\n",
       "      <td>None</td>\n",
       "      <td>4.8406</td>\n",
       "      <td>4.8406</td>\n",
       "    </tr>\n",
       "  </tbody>\n",
       "</table>\n",
       "<p>1 rows × 103 columns</p>\n",
       "</div>"
      ],
      "text/plain": [
       "   Input_identifier UniProt_ID Mutation Status       Type COSMIC_mut_ID  \\\n",
       "14           P01112     P01112     G12D   done  interface     COSM99915   \n",
       "\n",
       "   ClinVar_mut_ID UniProt_mut_ID Domain_name Domain_clan  ...  \\\n",
       "14              -     VAR_068816         Ras         Ras  ...   \n",
       "\n",
       "   number_of_residues_mut IntraclashesEnergy1_wt IntraclashesEnergy1_mut  \\\n",
       "14                    648                35.9691                 35.7047   \n",
       "\n",
       "   IntraclashesEnergy2_wt IntraclashesEnergy2_mut Interface_hydrophobic_area  \\\n",
       "14                493.422                 493.422                       None   \n",
       "\n",
       "   Interface_hydrophilic_area Interface_total_area  \\\n",
       "14                       None                 None   \n",
       "\n",
       "   Interface_contact_distance_wt Interface_contact_distance_mut  \n",
       "14                        4.8406                         4.8406  \n",
       "\n",
       "[1 rows x 103 columns]"
      ]
     },
     "execution_count": 22,
     "metadata": {},
     "output_type": "execute_result"
    }
   ],
   "source": [
    "get_elaspic_results('P01112', 'G12D', 'O15211', interface_results)"
   ]
  },
  {
   "cell_type": "code",
   "execution_count": 23,
   "id": "9374441c-40d9-45d0-b1ad-ef6fbfc47ae3",
   "metadata": {},
   "outputs": [
    {
     "data": {
      "text/html": [
       "<div>\n",
       "<style scoped>\n",
       "    .dataframe tbody tr th:only-of-type {\n",
       "        vertical-align: middle;\n",
       "    }\n",
       "\n",
       "    .dataframe tbody tr th {\n",
       "        vertical-align: top;\n",
       "    }\n",
       "\n",
       "    .dataframe thead th {\n",
       "        text-align: right;\n",
       "    }\n",
       "</style>\n",
       "<table border=\"1\" class=\"dataframe\">\n",
       "  <thead>\n",
       "    <tr style=\"text-align: right;\">\n",
       "      <th></th>\n",
       "      <th>Input_identifier</th>\n",
       "      <th>UniProt_ID</th>\n",
       "      <th>Mutation</th>\n",
       "      <th>Status</th>\n",
       "      <th>Type</th>\n",
       "      <th>COSMIC_mut_ID</th>\n",
       "      <th>ClinVar_mut_ID</th>\n",
       "      <th>UniProt_mut_ID</th>\n",
       "      <th>Domain_name</th>\n",
       "      <th>Domain_clan</th>\n",
       "      <th>...</th>\n",
       "      <th>number_of_residues_mut</th>\n",
       "      <th>IntraclashesEnergy1_wt</th>\n",
       "      <th>IntraclashesEnergy1_mut</th>\n",
       "      <th>IntraclashesEnergy2_wt</th>\n",
       "      <th>IntraclashesEnergy2_mut</th>\n",
       "      <th>Interface_hydrophobic_area</th>\n",
       "      <th>Interface_hydrophilic_area</th>\n",
       "      <th>Interface_total_area</th>\n",
       "      <th>Interface_contact_distance_wt</th>\n",
       "      <th>Interface_contact_distance_mut</th>\n",
       "    </tr>\n",
       "  </thead>\n",
       "  <tbody>\n",
       "    <tr>\n",
       "      <th>17</th>\n",
       "      <td>P01112</td>\n",
       "      <td>P01112</td>\n",
       "      <td>G12D</td>\n",
       "      <td>done</td>\n",
       "      <td>interface</td>\n",
       "      <td>COSM99915</td>\n",
       "      <td>-</td>\n",
       "      <td>VAR_068816</td>\n",
       "      <td>Ras</td>\n",
       "      <td>Ras</td>\n",
       "      <td>...</td>\n",
       "      <td>339</td>\n",
       "      <td>123.567</td>\n",
       "      <td>123.636</td>\n",
       "      <td>68.5032</td>\n",
       "      <td>68.5032</td>\n",
       "      <td>539.595</td>\n",
       "      <td>324.98</td>\n",
       "      <td>864.585</td>\n",
       "      <td>3.18758</td>\n",
       "      <td>3.18758</td>\n",
       "    </tr>\n",
       "  </tbody>\n",
       "</table>\n",
       "<p>1 rows × 103 columns</p>\n",
       "</div>"
      ],
      "text/plain": [
       "   Input_identifier UniProt_ID Mutation Status       Type COSMIC_mut_ID  \\\n",
       "17           P01112     P01112     G12D   done  interface     COSM99915   \n",
       "\n",
       "   ClinVar_mut_ID UniProt_mut_ID Domain_name Domain_clan  ...  \\\n",
       "17              -     VAR_068816         Ras         Ras  ...   \n",
       "\n",
       "   number_of_residues_mut IntraclashesEnergy1_wt IntraclashesEnergy1_mut  \\\n",
       "17                    339                123.567                 123.636   \n",
       "\n",
       "   IntraclashesEnergy2_wt IntraclashesEnergy2_mut Interface_hydrophobic_area  \\\n",
       "17                68.5032                 68.5032                    539.595   \n",
       "\n",
       "   Interface_hydrophilic_area Interface_total_area  \\\n",
       "17                     324.98              864.585   \n",
       "\n",
       "   Interface_contact_distance_wt Interface_contact_distance_mut  \n",
       "17                       3.18758                        3.18758  \n",
       "\n",
       "[1 rows x 103 columns]"
      ]
     },
     "execution_count": 23,
     "metadata": {},
     "output_type": "execute_result"
    }
   ],
   "source": [
    "get_elaspic_results('P01112', 'G12D', 'Q13671', interface_results)"
   ]
  },
  {
   "cell_type": "code",
   "execution_count": null,
   "id": "1d7a1a56-87ec-4653-a2df-7852630ad846",
   "metadata": {},
   "outputs": [],
   "source": []
  },
  {
   "cell_type": "code",
   "execution_count": null,
   "id": "a8b98fbd-3af3-4358-9d07-c00854c7ae38",
   "metadata": {},
   "outputs": [],
   "source": []
  },
  {
   "cell_type": "code",
   "execution_count": null,
   "id": "88905b54-9517-4bce-9000-751f9d90450d",
   "metadata": {},
   "outputs": [],
   "source": []
  },
  {
   "cell_type": "code",
   "execution_count": null,
   "id": "1c634c51-6781-4610-b82d-268e5cf83244",
   "metadata": {},
   "outputs": [],
   "source": []
  },
  {
   "cell_type": "code",
   "execution_count": null,
   "id": "9e17e77c-163e-45ef-b3c4-5341b348aa98",
   "metadata": {},
   "outputs": [],
   "source": []
  },
  {
   "cell_type": "code",
   "execution_count": 31,
   "id": "9577ab06-db5e-43c0-8430-9281b72e0586",
   "metadata": {},
   "outputs": [
    {
     "data": {
      "text/plain": [
       "{('P01112', 'G12D', 'O15211'), ('P01112', 'G12D', 'Q13671')}"
      ]
     },
     "execution_count": 31,
     "metadata": {},
     "output_type": "execute_result"
    }
   ],
   "source": [
    "found_triplets_so_far"
   ]
  },
  {
   "cell_type": "code",
   "execution_count": null,
   "id": "53dbb35b-f35b-4b3b-8f1e-653be05ae750",
   "metadata": {},
   "outputs": [],
   "source": []
  },
  {
   "cell_type": "code",
   "execution_count": 41,
   "id": "9ebbcdaa-02b2-49aa-8037-96e058b34aa3",
   "metadata": {},
   "outputs": [
    {
     "data": {
      "text/html": [
       "<div>\n",
       "<style scoped>\n",
       "    .dataframe tbody tr th:only-of-type {\n",
       "        vertical-align: middle;\n",
       "    }\n",
       "\n",
       "    .dataframe tbody tr th {\n",
       "        vertical-align: top;\n",
       "    }\n",
       "\n",
       "    .dataframe thead th {\n",
       "        text-align: right;\n",
       "    }\n",
       "</style>\n",
       "<table border=\"1\" class=\"dataframe\">\n",
       "  <thead>\n",
       "    <tr style=\"text-align: right;\">\n",
       "      <th></th>\n",
       "      <th>Cell Line</th>\n",
       "      <th>Bait</th>\n",
       "      <th>BaitGene</th>\n",
       "      <th>Bait Uniprot ID</th>\n",
       "      <th>Prey</th>\n",
       "      <th>Prey Gene Entry</th>\n",
       "      <th>Prey Gene Name</th>\n",
       "      <th>PPIcode</th>\n",
       "      <th>PPIcode Uniprot</th>\n",
       "      <th>Mutant</th>\n",
       "      <th>Log2 fold change (mutant/WT)</th>\n",
       "      <th>pvalue</th>\n",
       "      <th>adjpvalue</th>\n",
       "    </tr>\n",
       "  </thead>\n",
       "  <tbody>\n",
       "    <tr>\n",
       "      <th>146</th>\n",
       "      <td>HET-1A</td>\n",
       "      <td>HRAS_g12d</td>\n",
       "      <td>HRAS</td>\n",
       "      <td>P01112</td>\n",
       "      <td>O15211</td>\n",
       "      <td>RGL2_HUMAN</td>\n",
       "      <td>RGL2</td>\n",
       "      <td>HRAS_g12d_O15211</td>\n",
       "      <td>P01112_O15211</td>\n",
       "      <td>G12D</td>\n",
       "      <td>0.610631</td>\n",
       "      <td>0.046395</td>\n",
       "      <td>0.10283</td>\n",
       "    </tr>\n",
       "  </tbody>\n",
       "</table>\n",
       "</div>"
      ],
      "text/plain": [
       "    Cell Line       Bait BaitGene Bait Uniprot ID    Prey Prey Gene Entry  \\\n",
       "146    HET-1A  HRAS_g12d     HRAS          P01112  O15211      RGL2_HUMAN   \n",
       "\n",
       "    Prey Gene Name           PPIcode PPIcode Uniprot Mutant  \\\n",
       "146           RGL2  HRAS_g12d_O15211   P01112_O15211   G12D   \n",
       "\n",
       "    Log2 fold change (mutant/WT)    pvalue  adjpvalue  \n",
       "146                     0.610631  0.046395    0.10283  "
      ]
     },
     "execution_count": 41,
     "metadata": {},
     "output_type": "execute_result"
    }
   ],
   "source": [
    "e1 = swaney.table_1[\n",
    "    (swaney.table_1[\"PPIcode Uniprot\"].apply(lambda x: x.split(\"_\")[0]) == \"P01112\") &\n",
    "    (swaney.table_1[\"Mutant\"] == \"G12D\") &\n",
    "    (swaney.table_1[\"PPIcode Uniprot\"].apply(lambda x: x.split(\"_\")[1]) == \"O15211\")\n",
    "].copy()\n",
    "e1"
   ]
  },
  {
   "cell_type": "code",
   "execution_count": 42,
   "id": "754177f2-b832-4069-a5c9-dd819bdddba7",
   "metadata": {},
   "outputs": [
    {
     "data": {
      "text/html": [
       "<div>\n",
       "<style scoped>\n",
       "    .dataframe tbody tr th:only-of-type {\n",
       "        vertical-align: middle;\n",
       "    }\n",
       "\n",
       "    .dataframe tbody tr th {\n",
       "        vertical-align: top;\n",
       "    }\n",
       "\n",
       "    .dataframe thead th {\n",
       "        text-align: right;\n",
       "    }\n",
       "</style>\n",
       "<table border=\"1\" class=\"dataframe\">\n",
       "  <thead>\n",
       "    <tr style=\"text-align: right;\">\n",
       "      <th></th>\n",
       "      <th>Cell Line</th>\n",
       "      <th>Bait</th>\n",
       "      <th>BaitGene</th>\n",
       "      <th>Bait Uniprot ID</th>\n",
       "      <th>Prey</th>\n",
       "      <th>Prey Gene Entry</th>\n",
       "      <th>Prey Gene Name</th>\n",
       "      <th>PPIcode</th>\n",
       "      <th>PPIcode Uniprot</th>\n",
       "      <th>Mutant</th>\n",
       "      <th>Log2 fold change (mutant/WT)</th>\n",
       "      <th>pvalue</th>\n",
       "      <th>adjpvalue</th>\n",
       "    </tr>\n",
       "  </thead>\n",
       "  <tbody>\n",
       "    <tr>\n",
       "      <th>137</th>\n",
       "      <td>HET-1A</td>\n",
       "      <td>HRAS_g12d</td>\n",
       "      <td>HRAS</td>\n",
       "      <td>P01112</td>\n",
       "      <td>Q13671</td>\n",
       "      <td>RIN1_HUMAN</td>\n",
       "      <td>RIN1</td>\n",
       "      <td>HRAS_g12d_Q13671</td>\n",
       "      <td>P01112_Q13671</td>\n",
       "      <td>G12D</td>\n",
       "      <td>0.450163</td>\n",
       "      <td>0.063565</td>\n",
       "      <td>0.127231</td>\n",
       "    </tr>\n",
       "    <tr>\n",
       "      <th>157</th>\n",
       "      <td>CAL-33</td>\n",
       "      <td>HRAS_wt</td>\n",
       "      <td>HRAS</td>\n",
       "      <td>P01112</td>\n",
       "      <td>Q13671</td>\n",
       "      <td>RIN1_HUMAN</td>\n",
       "      <td>RIN1</td>\n",
       "      <td>HRAS_wt_Q13671</td>\n",
       "      <td>P01112_Q13671</td>\n",
       "      <td>G12D</td>\n",
       "      <td>1.13063</td>\n",
       "      <td>0.000705</td>\n",
       "      <td>0.049794</td>\n",
       "    </tr>\n",
       "  </tbody>\n",
       "</table>\n",
       "</div>"
      ],
      "text/plain": [
       "    Cell Line       Bait BaitGene Bait Uniprot ID    Prey Prey Gene Entry  \\\n",
       "137    HET-1A  HRAS_g12d     HRAS          P01112  Q13671      RIN1_HUMAN   \n",
       "157    CAL-33    HRAS_wt     HRAS          P01112  Q13671      RIN1_HUMAN   \n",
       "\n",
       "    Prey Gene Name           PPIcode PPIcode Uniprot Mutant  \\\n",
       "137           RIN1  HRAS_g12d_Q13671   P01112_Q13671   G12D   \n",
       "157           RIN1    HRAS_wt_Q13671   P01112_Q13671   G12D   \n",
       "\n",
       "    Log2 fold change (mutant/WT)    pvalue  adjpvalue  \n",
       "137                     0.450163  0.063565   0.127231  \n",
       "157                      1.13063  0.000705   0.049794  "
      ]
     },
     "execution_count": 42,
     "metadata": {},
     "output_type": "execute_result"
    }
   ],
   "source": [
    "e2 = swaney.table_1[\n",
    "    (swaney.table_1[\"PPIcode Uniprot\"].apply(lambda x: x.split(\"_\")[0]) == \"P01112\") &\n",
    "    (swaney.table_1[\"Mutant\"] == \"G12D\") &\n",
    "    (swaney.table_1[\"PPIcode Uniprot\"].apply(lambda x: x.split(\"_\")[1]) == \"Q13671\")\n",
    "].copy()\n",
    "e2"
   ]
  },
  {
   "cell_type": "code",
   "execution_count": 45,
   "id": "44d1b9d4-e883-4089-94dd-7ab634ee097f",
   "metadata": {},
   "outputs": [],
   "source": [
    "pd.concat([e1, e2]).to_csv(\"swaney_found_triplets_filtered.csv\", index=False)"
   ]
  },
  {
   "cell_type": "code",
   "execution_count": null,
   "id": "8bc0c385-b0e2-433d-9309-94df9785890f",
   "metadata": {},
   "outputs": [],
   "source": []
  },
  {
   "cell_type": "code",
   "execution_count": null,
   "id": "34bb5a78-43a5-4994-85bc-6f3be1744aad",
   "metadata": {},
   "outputs": [],
   "source": []
  },
  {
   "cell_type": "code",
   "execution_count": null,
   "id": "0028ca74-c297-4b27-99e0-46efb76359e6",
   "metadata": {},
   "outputs": [],
   "source": []
  },
  {
   "cell_type": "code",
   "execution_count": null,
   "id": "9725425a-be7c-44e1-9d76-95d6b89092ec",
   "metadata": {},
   "outputs": [],
   "source": []
  },
  {
   "cell_type": "code",
   "execution_count": null,
   "id": "bb42da05-bbfd-4594-82db-c39b5e4dae64",
   "metadata": {},
   "outputs": [],
   "source": []
  },
  {
   "cell_type": "markdown",
   "id": "57b1b1d8-41d4-4568-b92a-15ae7224ac58",
   "metadata": {
    "tags": []
   },
   "source": [
    "# Load Predator"
   ]
  },
  {
   "cell_type": "code",
   "execution_count": null,
   "id": "cc7214d9-d15e-480d-8014-d430d1877d43",
   "metadata": {},
   "outputs": [],
   "source": []
  },
  {
   "cell_type": "code",
   "execution_count": null,
   "id": "3e644a1c-ab89-4c84-bfa6-8329de09eea7",
   "metadata": {},
   "outputs": [],
   "source": []
  },
  {
   "cell_type": "code",
   "execution_count": null,
   "id": "b3e28b1c-74dc-4ded-bc22-772a50cb8261",
   "metadata": {},
   "outputs": [],
   "source": []
  },
  {
   "cell_type": "code",
   "execution_count": null,
   "id": "d0c9a663-1372-40e3-8972-c18a529cdda5",
   "metadata": {},
   "outputs": [],
   "source": []
  },
  {
   "cell_type": "code",
   "execution_count": null,
   "id": "d8643089-d888-454b-b06a-bd11b01862f5",
   "metadata": {},
   "outputs": [],
   "source": []
  },
  {
   "cell_type": "code",
   "execution_count": null,
   "id": "bdf38824-2b4b-4c65-998f-2a9275f962cb",
   "metadata": {},
   "outputs": [],
   "source": []
  },
  {
   "cell_type": "code",
   "execution_count": null,
   "id": "2a02e3e7-c730-44fb-b7fa-1dbf5981a91e",
   "metadata": {},
   "outputs": [],
   "source": []
  },
  {
   "cell_type": "code",
   "execution_count": 53,
   "id": "38a31e64-b7a8-4695-8a90-a6d2a7ea626b",
   "metadata": {},
   "outputs": [],
   "source": [
    "PIK3CA_mutations = (\n",
    "    set(swaney.table_2[\"Mutant\"].unique()) | set(swaney.table_3[\"Mutant\"].unique()) | set(swaney.table_4[\"Mutant\"].unique())\n",
    ")"
   ]
  },
  {
   "cell_type": "code",
   "execution_count": 63,
   "id": "4023b07f-b77c-476d-ba3f-31f45d5233b6",
   "metadata": {},
   "outputs": [
    {
     "name": "stdout",
     "output_type": "stream",
     "text": [
      "P42336.C971R\n",
      "P42336.E453K\n",
      "P42336.E110DEL\n",
      "P42336.E545K\n",
      "P42336.G363A\n",
      "P42336.M1043V\n",
      "P42336.K111E\n",
      "P42336.K111N\n",
      "P42336.E545G\n",
      "P42336.H1047R\n",
      "P42336.E726K\n",
      "P42336.R88Q\n",
      "P42336.V344G\n",
      "P42336.E542K\n",
      "P42336.H1047L\n",
      "P42336.G1007R\n"
     ]
    }
   ],
   "source": [
    "for mut in PIK3CA_mutations:\n",
    "    print(f\"P42336.{mut}\")"
   ]
  },
  {
   "cell_type": "code",
   "execution_count": 55,
   "id": "2b26b465-81b3-4b7c-a25f-46941e7ff379",
   "metadata": {},
   "outputs": [
    {
     "data": {
      "text/plain": [
       "{'C971R',\n",
       " 'E110DEL',\n",
       " 'E453K',\n",
       " 'E542K',\n",
       " 'E545G',\n",
       " 'E545K',\n",
       " 'E726K',\n",
       " 'G1007R',\n",
       " 'G363A',\n",
       " 'H1047L',\n",
       " 'H1047R',\n",
       " 'K111E',\n",
       " 'K111N',\n",
       " 'M1043V',\n",
       " 'R88Q',\n",
       " 'V344G'}"
      ]
     },
     "execution_count": 55,
     "metadata": {},
     "output_type": "execute_result"
    }
   ],
   "source": [
    "PIK3CA_mutations"
   ]
  },
  {
   "cell_type": "code",
   "execution_count": null,
   "id": "20396181-2231-4faa-a6ed-ebb41fb9902a",
   "metadata": {},
   "outputs": [],
   "source": []
  },
  {
   "cell_type": "code",
   "execution_count": null,
   "id": "a3d5fb6b-7bfc-48dc-9116-32f76332b7c2",
   "metadata": {},
   "outputs": [],
   "source": []
  },
  {
   "cell_type": "code",
   "execution_count": 62,
   "id": "56942644-dd7e-4566-9b7b-dadc884e8564",
   "metadata": {},
   "outputs": [],
   "source": [
    "for e in sorted(swaney.table_4[\"Mutant\"].unique()):\n",
    "    assert e in PIK3CA_mutations"
   ]
  },
  {
   "cell_type": "code",
   "execution_count": 52,
   "id": "fb8ba13d-b431-440a-b6ad-f5a76c2abcde",
   "metadata": {},
   "outputs": [
    {
     "data": {
      "text/plain": [
       "['C971R',\n",
       " 'E110DEL',\n",
       " 'E453K',\n",
       " 'E542K',\n",
       " 'E545G',\n",
       " 'E545K',\n",
       " 'E726K',\n",
       " 'G1007R',\n",
       " 'G363A',\n",
       " 'H1047L',\n",
       " 'H1047R',\n",
       " 'K111E',\n",
       " 'K111N',\n",
       " 'M1043V',\n",
       " 'R88Q',\n",
       " 'V344G']"
      ]
     },
     "execution_count": 52,
     "metadata": {},
     "output_type": "execute_result"
    }
   ],
   "source": [
    "sorted(swaney.table_4[\"Mutant\"].unique())"
   ]
  },
  {
   "cell_type": "code",
   "execution_count": null,
   "id": "1e8e1ba7-aac9-4813-8e5d-d51a716d4384",
   "metadata": {},
   "outputs": [],
   "source": []
  },
  {
   "cell_type": "code",
   "execution_count": null,
   "id": "2a4f1882-03f5-408a-8e5a-415e62d09ed1",
   "metadata": {},
   "outputs": [],
   "source": []
  },
  {
   "cell_type": "code",
   "execution_count": null,
   "id": "1971f4e9-4346-49e2-84c2-84a99229f3e7",
   "metadata": {},
   "outputs": [],
   "source": []
  },
  {
   "cell_type": "code",
   "execution_count": null,
   "id": "a31d283d-a1a1-4222-91b4-511b174e8d0d",
   "metadata": {},
   "outputs": [],
   "source": []
  },
  {
   "cell_type": "code",
   "execution_count": null,
   "id": "c9f375ea-8159-4202-9d5d-4e80af9a7beb",
   "metadata": {},
   "outputs": [],
   "source": []
  },
  {
   "cell_type": "code",
   "execution_count": null,
   "id": "5bf778b4-137a-45b6-9cb2-6649efd0bc6c",
   "metadata": {},
   "outputs": [],
   "source": []
  },
  {
   "cell_type": "code",
   "execution_count": null,
   "id": "184c82df-0416-4063-9b3e-a1efb6d23f5e",
   "metadata": {},
   "outputs": [],
   "source": []
  },
  {
   "cell_type": "code",
   "execution_count": null,
   "id": "67c47154-09da-4f98-8239-8331e8b88d4a",
   "metadata": {},
   "outputs": [],
   "source": []
  },
  {
   "cell_type": "code",
   "execution_count": null,
   "id": "fc1ca134-02f3-44a0-8779-2026f454efc7",
   "metadata": {},
   "outputs": [],
   "source": []
  },
  {
   "cell_type": "code",
   "execution_count": null,
   "id": "a7c4ea82-2dff-493e-9f09-635bf097de03",
   "metadata": {},
   "outputs": [],
   "source": []
  },
  {
   "cell_type": "code",
   "execution_count": null,
   "id": "2f79684f-9333-4c02-aa83-ab13cf4b3be3",
   "metadata": {},
   "outputs": [],
   "source": []
  },
  {
   "cell_type": "code",
   "execution_count": null,
   "id": "1582ab14-c810-4c79-90dc-203b34b729dc",
   "metadata": {},
   "outputs": [],
   "source": []
  },
  {
   "cell_type": "code",
   "execution_count": null,
   "id": "6ab51e6c-2b43-4db4-96d3-e0ec182fb185",
   "metadata": {},
   "outputs": [],
   "source": []
  },
  {
   "cell_type": "code",
   "execution_count": null,
   "id": "5d8aca54-abd3-47c3-8af6-3ec36e2e853f",
   "metadata": {},
   "outputs": [],
   "source": []
  },
  {
   "cell_type": "code",
   "execution_count": 23,
   "id": "4cde266b-199b-4793-a271-99c9b794f405",
   "metadata": {},
   "outputs": [
    {
     "data": {
      "text/html": [
       "<div>\n",
       "<style scoped>\n",
       "    .dataframe tbody tr th:only-of-type {\n",
       "        vertical-align: middle;\n",
       "    }\n",
       "\n",
       "    .dataframe tbody tr th {\n",
       "        vertical-align: top;\n",
       "    }\n",
       "\n",
       "    .dataframe thead th {\n",
       "        text-align: right;\n",
       "    }\n",
       "</style>\n",
       "<table border=\"1\" class=\"dataframe\">\n",
       "  <thead>\n",
       "    <tr style=\"text-align: right;\">\n",
       "      <th></th>\n",
       "      <th>Cell Line</th>\n",
       "      <th>Bait</th>\n",
       "      <th>BaitGene</th>\n",
       "      <th>Bait Uniprot ID</th>\n",
       "      <th>Prey</th>\n",
       "      <th>Prey Gene Entry</th>\n",
       "      <th>Prey Gene Name</th>\n",
       "      <th>PPIcode</th>\n",
       "      <th>PPIcode Uniprot</th>\n",
       "      <th>Mutant</th>\n",
       "      <th>Log2 fold change (mutant/WT)</th>\n",
       "      <th>pvalue</th>\n",
       "      <th>adjpvalue</th>\n",
       "    </tr>\n",
       "  </thead>\n",
       "  <tbody>\n",
       "    <tr>\n",
       "      <th>0</th>\n",
       "      <td>SCC-25</td>\n",
       "      <td>TP53_wt</td>\n",
       "      <td>TP53</td>\n",
       "      <td>P04637</td>\n",
       "      <td>Q00987</td>\n",
       "      <td>MDM2_HUMAN</td>\n",
       "      <td>MDM2</td>\n",
       "      <td>TP53_wt_Q00987</td>\n",
       "      <td>P04637_Q00987</td>\n",
       "      <td>R273H</td>\n",
       "      <td>-7.11377</td>\n",
       "      <td>0.000061</td>\n",
       "      <td>0.001192</td>\n",
       "    </tr>\n",
       "    <tr>\n",
       "      <th>1</th>\n",
       "      <td>CAL-33</td>\n",
       "      <td>MAPK1_wt</td>\n",
       "      <td>MAPK1</td>\n",
       "      <td>P28482</td>\n",
       "      <td>P51812</td>\n",
       "      <td>KS6A3_HUMAN</td>\n",
       "      <td>RPS6KA3</td>\n",
       "      <td>MAPK1_wt_P51812</td>\n",
       "      <td>P28482_P51812</td>\n",
       "      <td>E322K</td>\n",
       "      <td>-5.701405</td>\n",
       "      <td>0.000174</td>\n",
       "      <td>0.600479</td>\n",
       "    </tr>\n",
       "    <tr>\n",
       "      <th>2</th>\n",
       "      <td>HET-1A</td>\n",
       "      <td>MAPK1_wt</td>\n",
       "      <td>MAPK1</td>\n",
       "      <td>P28482</td>\n",
       "      <td>P51812</td>\n",
       "      <td>KS6A3_HUMAN</td>\n",
       "      <td>RPS6KA3</td>\n",
       "      <td>MAPK1_wt_P51812</td>\n",
       "      <td>P28482_P51812</td>\n",
       "      <td>E322K</td>\n",
       "      <td>-5.361809</td>\n",
       "      <td>0.000717</td>\n",
       "      <td>0.280596</td>\n",
       "    </tr>\n",
       "  </tbody>\n",
       "</table>\n",
       "</div>"
      ],
      "text/plain": [
       "  Cell Line      Bait BaitGene Bait Uniprot ID    Prey Prey Gene Entry  \\\n",
       "0    SCC-25   TP53_wt     TP53          P04637  Q00987      MDM2_HUMAN   \n",
       "1    CAL-33  MAPK1_wt    MAPK1          P28482  P51812     KS6A3_HUMAN   \n",
       "2    HET-1A  MAPK1_wt    MAPK1          P28482  P51812     KS6A3_HUMAN   \n",
       "\n",
       "  Prey Gene Name          PPIcode PPIcode Uniprot Mutant  \\\n",
       "0           MDM2   TP53_wt_Q00987   P04637_Q00987  R273H   \n",
       "1        RPS6KA3  MAPK1_wt_P51812   P28482_P51812  E322K   \n",
       "2        RPS6KA3  MAPK1_wt_P51812   P28482_P51812  E322K   \n",
       "\n",
       "  Log2 fold change (mutant/WT)    pvalue  adjpvalue  \n",
       "0                     -7.11377  0.000061   0.001192  \n",
       "1                    -5.701405  0.000174   0.600479  \n",
       "2                    -5.361809  0.000717   0.280596  "
      ]
     },
     "execution_count": 23,
     "metadata": {},
     "output_type": "execute_result"
    }
   ],
   "source": [
    "swaney.table_1.head(3)"
   ]
  },
  {
   "cell_type": "code",
   "execution_count": null,
   "id": "ae6f412c-ce28-4118-9870-45c674fe6cc5",
   "metadata": {},
   "outputs": [],
   "source": []
  },
  {
   "cell_type": "code",
   "execution_count": 17,
   "id": "65e8f9e1-2ee4-401f-a803-5acf09738bb6",
   "metadata": {},
   "outputs": [
    {
     "data": {
      "text/html": [
       "<div>\n",
       "<style scoped>\n",
       "    .dataframe tbody tr th:only-of-type {\n",
       "        vertical-align: middle;\n",
       "    }\n",
       "\n",
       "    .dataframe tbody tr th {\n",
       "        vertical-align: top;\n",
       "    }\n",
       "\n",
       "    .dataframe thead th {\n",
       "        text-align: right;\n",
       "    }\n",
       "</style>\n",
       "<table border=\"1\" class=\"dataframe\">\n",
       "  <thead>\n",
       "    <tr style=\"text-align: right;\">\n",
       "      <th></th>\n",
       "      <th>Cell Line</th>\n",
       "      <th>Bait</th>\n",
       "      <th>BaitGene</th>\n",
       "      <th>Bait Uniprot ID</th>\n",
       "      <th>Prey</th>\n",
       "      <th>Prey Gene Entry</th>\n",
       "      <th>Prey Gene Name</th>\n",
       "      <th>PPIcode</th>\n",
       "      <th>PPIcode Uniprot</th>\n",
       "      <th>Mutant</th>\n",
       "      <th>Log2 fold change (mutant/WT)</th>\n",
       "      <th>pvalue</th>\n",
       "      <th>adjpvalue</th>\n",
       "    </tr>\n",
       "  </thead>\n",
       "  <tbody>\n",
       "  </tbody>\n",
       "</table>\n",
       "</div>"
      ],
      "text/plain": [
       "Empty DataFrame\n",
       "Columns: [Cell Line, Bait, BaitGene, Bait Uniprot ID, Prey, Prey Gene Entry, Prey Gene Name, PPIcode, PPIcode Uniprot, Mutant, Log2 fold change (mutant/WT), pvalue, adjpvalue]\n",
       "Index: []"
      ]
     },
     "execution_count": 17,
     "metadata": {},
     "output_type": "execute_result"
    }
   ],
   "source": [
    "swaney.table_1[\n",
    "    swaney.table_1[\"PPIcode Uniprot\"].apply(lambda x: x.split('_')[0] == \"P01112\") &\n",
    "    swaney.table_1[\"PPIcode Uniprot\"].apply(lambda x: x.split('_')[0] == \"P13995\")\n",
    "]"
   ]
  },
  {
   "cell_type": "code",
   "execution_count": 19,
   "id": "92ea5bbe-b742-4f9e-8c04-b1534fb83bea",
   "metadata": {},
   "outputs": [
    {
     "data": {
      "text/html": [
       "<div>\n",
       "<style scoped>\n",
       "    .dataframe tbody tr th:only-of-type {\n",
       "        vertical-align: middle;\n",
       "    }\n",
       "\n",
       "    .dataframe tbody tr th {\n",
       "        vertical-align: top;\n",
       "    }\n",
       "\n",
       "    .dataframe thead th {\n",
       "        text-align: right;\n",
       "    }\n",
       "</style>\n",
       "<table border=\"1\" class=\"dataframe\">\n",
       "  <thead>\n",
       "    <tr style=\"text-align: right;\">\n",
       "      <th></th>\n",
       "      <th>PPIcode Uniprot</th>\n",
       "    </tr>\n",
       "  </thead>\n",
       "  <tbody>\n",
       "    <tr>\n",
       "      <th>0</th>\n",
       "      <td>P04637_Q00987</td>\n",
       "    </tr>\n",
       "    <tr>\n",
       "      <th>1</th>\n",
       "      <td>P28482_P51812</td>\n",
       "    </tr>\n",
       "    <tr>\n",
       "      <th>2</th>\n",
       "      <td>P28482_P51812</td>\n",
       "    </tr>\n",
       "    <tr>\n",
       "      <th>3</th>\n",
       "      <td>P04637_Q12888</td>\n",
       "    </tr>\n",
       "    <tr>\n",
       "      <th>4</th>\n",
       "      <td>P28482_Q15418</td>\n",
       "    </tr>\n",
       "    <tr>\n",
       "      <th>...</th>\n",
       "      <td>...</td>\n",
       "    </tr>\n",
       "    <tr>\n",
       "      <th>192</th>\n",
       "      <td>P04637_P38936</td>\n",
       "    </tr>\n",
       "    <tr>\n",
       "      <th>193</th>\n",
       "      <td>P28482_Q15418</td>\n",
       "    </tr>\n",
       "    <tr>\n",
       "      <th>194</th>\n",
       "      <td>Q969H0_Q96PZ2</td>\n",
       "    </tr>\n",
       "    <tr>\n",
       "      <th>195</th>\n",
       "      <td>Q969H0_Q6AI12</td>\n",
       "    </tr>\n",
       "    <tr>\n",
       "      <th>196</th>\n",
       "      <td>P01112_Q13753</td>\n",
       "    </tr>\n",
       "  </tbody>\n",
       "</table>\n",
       "<p>197 rows × 1 columns</p>\n",
       "</div>"
      ],
      "text/plain": [
       "    PPIcode Uniprot\n",
       "0     P04637_Q00987\n",
       "1     P28482_P51812\n",
       "2     P28482_P51812\n",
       "3     P04637_Q12888\n",
       "4     P28482_Q15418\n",
       "..              ...\n",
       "192   P04637_P38936\n",
       "193   P28482_Q15418\n",
       "194   Q969H0_Q96PZ2\n",
       "195   Q969H0_Q6AI12\n",
       "196   P01112_Q13753\n",
       "\n",
       "[197 rows x 1 columns]"
      ]
     },
     "execution_count": 19,
     "metadata": {},
     "output_type": "execute_result"
    }
   ],
   "source": [
    "swaney.table_1[[\"PPIcode Uniprot\"]]"
   ]
  },
  {
   "cell_type": "code",
   "execution_count": null,
   "id": "1977c78c-d5c0-4910-958a-6014d43751b8",
   "metadata": {},
   "outputs": [],
   "source": []
  },
  {
   "cell_type": "code",
   "execution_count": null,
   "id": "60208eff-290c-4b42-a63b-325f027f8d66",
   "metadata": {},
   "outputs": [],
   "source": []
  },
  {
   "cell_type": "code",
   "execution_count": null,
   "id": "70751284-d3e4-4918-844a-af4c34b4df99",
   "metadata": {},
   "outputs": [],
   "source": []
  },
  {
   "cell_type": "code",
   "execution_count": null,
   "id": "e2416f17-ee8a-454b-a810-c248713ff93b",
   "metadata": {},
   "outputs": [],
   "source": []
  },
  {
   "cell_type": "code",
   "execution_count": null,
   "id": "b0bae91d-ecb2-4838-a4bf-a8f083eb6df6",
   "metadata": {},
   "outputs": [],
   "source": []
  },
  {
   "cell_type": "code",
   "execution_count": null,
   "id": "6e4b2ead-27ac-4296-9822-f99123abe734",
   "metadata": {},
   "outputs": [],
   "source": []
  },
  {
   "cell_type": "code",
   "execution_count": null,
   "id": "595a7b6c-1310-4280-b11d-0b75dc2ea5f7",
   "metadata": {},
   "outputs": [],
   "source": []
  },
  {
   "cell_type": "code",
   "execution_count": null,
   "id": "a6680781-c3c0-4cb8-8572-08352eb336d4",
   "metadata": {},
   "outputs": [],
   "source": []
  },
  {
   "cell_type": "code",
   "execution_count": null,
   "id": "b10b7c0d-9b7c-45e4-a03d-983d8caef48a",
   "metadata": {},
   "outputs": [],
   "source": []
  },
  {
   "cell_type": "code",
   "execution_count": null,
   "id": "5db64a94-aa39-4864-b9bb-3f16f0ac1b92",
   "metadata": {},
   "outputs": [],
   "source": []
  },
  {
   "cell_type": "code",
   "execution_count": null,
   "id": "0c10fc68-622f-4683-a7b0-fba1f73f364a",
   "metadata": {},
   "outputs": [],
   "source": []
  },
  {
   "cell_type": "code",
   "execution_count": null,
   "id": "d7c30f49-98e8-4371-bcc5-4fa9ca14b49a",
   "metadata": {},
   "outputs": [],
   "source": []
  },
  {
   "cell_type": "code",
   "execution_count": null,
   "id": "a68e680e-83a3-4a93-a929-0f45f2f4bb49",
   "metadata": {},
   "outputs": [],
   "source": []
  },
  {
   "cell_type": "code",
   "execution_count": null,
   "id": "99ad45e3-0242-4c2f-9c8c-de63f94458d4",
   "metadata": {},
   "outputs": [],
   "source": []
  },
  {
   "cell_type": "code",
   "execution_count": null,
   "id": "d3b961d3-db16-4a34-9ea1-af1de739c28e",
   "metadata": {},
   "outputs": [],
   "source": []
  },
  {
   "cell_type": "code",
   "execution_count": null,
   "id": "65ea3616-5d7a-4db9-869e-89e413398ca9",
   "metadata": {},
   "outputs": [],
   "source": []
  },
  {
   "cell_type": "code",
   "execution_count": null,
   "id": "fe3ec8b1-a640-4f70-98ee-e18c0097e250",
   "metadata": {},
   "outputs": [],
   "source": []
  },
  {
   "cell_type": "code",
   "execution_count": null,
   "id": "201d3a19-2d7d-4a1f-a54f-051339455871",
   "metadata": {},
   "outputs": [],
   "source": []
  }
 ],
 "metadata": {
  "kernelspec": {
   "display_name": "Python (MyVenvML)",
   "language": "python",
   "name": "myvenvml"
  },
  "language_info": {
   "codemirror_mode": {
    "name": "ipython",
    "version": 3
   },
   "file_extension": ".py",
   "mimetype": "text/x-python",
   "name": "python",
   "nbconvert_exporter": "python",
   "pygments_lexer": "ipython3",
   "version": "3.9.4"
  }
 },
 "nbformat": 4,
 "nbformat_minor": 5
}
