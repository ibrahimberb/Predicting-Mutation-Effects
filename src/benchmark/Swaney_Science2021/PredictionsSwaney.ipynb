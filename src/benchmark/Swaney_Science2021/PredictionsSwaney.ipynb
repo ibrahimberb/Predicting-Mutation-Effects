{
 "cells": [
  {
   "cell_type": "markdown",
   "id": "1d4d5047-3e5d-4a76-8aa7-4743bf89e847",
   "metadata": {
    "tags": []
   },
   "source": [
    "# PREDATOR: **PRED**icting the imp**A**ct of cancer somatic mu**T**ations on pr**O**tein-protein inte**R**actions\n"
   ]
  },
  {
   "cell_type": "markdown",
   "id": "56857dec-9f93-4da9-acc6-1c9028bd720a",
   "metadata": {},
   "source": [
    "## Swaney"
   ]
  },
  {
   "cell_type": "markdown",
   "id": "b0e0aba0-e883-494a-b5a1-27e8fca12401",
   "metadata": {},
   "source": [
    "\n",
    "<b><i class=\"fa fa-folder-o\" area-hidden=\"true\" style=\"color:#1976D2\"> </i>&nbsp; File Location</b><br>\n",
    "<p style=\"background:#F5F5F5; text-indent: 1em;\">\n",
    "<code style=\"background:#F5F5F5; color:#404040; font-weight:bold; font-size:12px\">C:\\Users\\ibrah\\Documents\\GitHub\\Predicting-Mutation-Effects\\src\\benchmark\\Swaney_Science2021</code>\n",
    "</p>\n",
    "\n",
    "<b><i class=\"far fa-file\" area-hidden=\"true\" style=\"color:#1976D2\"> </i>&nbsp; File Name</b>\n",
    "<p style=\"background:#F5F5F5; text-indent: 1em;\">\n",
    "<code style=\"background:#F5F5F5; color:#404040; font-weight:bold; font-size:12px\">PredictionsSwaney.ipynb</code>\n",
    "</p>\n",
    "\n",
    "<b><i class=\"far fa-calendar-alt\" area-hidden=\"true\" style=\"color:#1976D2\"> </i>&nbsp; Last Edited</b>\n",
    "<p style=\"background:#F5F5F5; text-indent: 1em;\">\n",
    "<code style=\"background:#F5F5F5; color:#404040; font-weight:bold; font-size:12px\">Nov 06th, 2021</code>\n",
    "</p>\n"
   ]
  },
  {
   "cell_type": "markdown",
   "id": "c4b45472-fc3f-4a59-9b43-acdccfa04545",
   "metadata": {},
   "source": [
    "<div class=\"alert alert-block\" style=\"background-color: #F5F5F5; border: 1px solid; padding: 10px; border-color: #E0E0E0\">\n",
    "    <b><i class=\"fa fa-compass\" aria-hidden=\"true\" style=\"color:#404040\"></i></b>&nbsp; <b style=\"color: #404040\">Purpose </b> <br>\n",
    "<div>\n",
    "   \n",
    "- [ ] Apply on Swaney et al. interactions.\n",
    "    \n",
    "**Dependent files:**\n",
    "\n",
    "* Target (Swaney) data: \n",
    "    - *tba*"
   ]
  },
  {
   "cell_type": "code",
   "execution_count": 1,
   "id": "942f9319-6c34-4085-ad46-a75ee9288cc5",
   "metadata": {},
   "outputs": [],
   "source": [
    "import os\n",
    "import os.path as op\n",
    "\n",
    "os.chdir(\"../..\")"
   ]
  },
  {
   "cell_type": "code",
   "execution_count": 2,
   "id": "86ae5f57-b0db-4e4f-9033-690ec20c0e22",
   "metadata": {},
   "outputs": [],
   "source": [
    "# Common imports\n",
    "import pandas as pd\n",
    "import numpy as np\n",
    "import matplotlib.pyplot as plt\n",
    "import seaborn as sns\n",
    "\n",
    "import sys\n",
    "import random\n",
    "from pathlib import Path\n",
    "\n",
    "from pprint import pprint\n",
    "from IPython.display import display\n",
    "from tqdm.notebook import tqdm\n",
    "\n",
    "from helpers.helpers_predator.displayers import (\n",
    "    display_label_counts, \n",
    "    display_labels, \n",
    "    visualize_label_counts,\n",
    "    display_data,\n",
    ")\n",
    "\n",
    "from helpers.helpers_predator.visualizers import (\n",
    "    visualize_sampled_train_datasets_label_counts\n",
    ")\n",
    "\n",
    "from helpers.helpers_predator.common import load_predator\n",
    "from helpers.helpers_predator.common import export_data\n",
    "\n",
    "# PATHS\n",
    "SWANEY_PATH = Path(r\"../src/benchmark/Swaney_Science2021/found_elaspic_results.txt\")\n",
    "PREDATOR_MODEL_PATH = Path(r\"PredatorModels/PredatorModel_2021-10-24/04f37897/predator.pkl\")\n",
    "PREDICTIONS_DATASETS_FOLDER_PATH = \"benchmark/Swaney_Science2021/\"\n",
    "\n",
    "# Reflect changes in the modules immediately.\n",
    "%load_ext autoreload\n",
    "%autoreload 2"
   ]
  },
  {
   "cell_type": "markdown",
   "id": "662aa411-9399-4f6f-9f95-9e1ab21e8c74",
   "metadata": {},
   "source": [
    "## Load the Predator"
   ]
  },
  {
   "cell_type": "code",
   "execution_count": 3,
   "id": "ee7ada4f-4eb5-4dbf-b62c-38e81fe3088a",
   "metadata": {},
   "outputs": [
    {
     "name": "stdout",
     "output_type": "stream",
     "text": [
      "2021-11-07 18:21:45 |\u001b[32m INFO     \u001b[0m| helpers.helpers_predator.common | Predator object PredatorModels\\PredatorModel_2021-10-24\\04f37897\\predator.pkl is loaded successfully.\n"
     ]
    }
   ],
   "source": [
    "predator = load_predator(PREDATOR_MODEL_PATH)"
   ]
  },
  {
   "cell_type": "markdown",
   "id": "a7dc0bef-4a98-43d0-b118-4e5071b775ec",
   "metadata": {},
   "source": [
    "## Prediction on Benchmark Dataset"
   ]
  },
  {
   "cell_type": "code",
   "execution_count": 4,
   "id": "86447ea0-abea-4336-8091-5e43e9758743",
   "metadata": {},
   "outputs": [
    {
     "name": "stdout",
     "output_type": "stream",
     "text": [
      "2021-11-07 18:21:45 |\u001b[36m DEBUG    \u001b[0m| helpers.helpers_predator.data_materials | Initialize `swaney` ..\n",
      "2021-11-07 18:21:45 |\u001b[36m DEBUG    \u001b[0m| helpers.helpers_predator.data_materials | Initialize `target_swaney_data` ..\n",
      "2021-11-07 18:21:45 |\u001b[36m DEBUG    \u001b[0m| helpers.helpers_predator.data_materials | Initializing target data materials ..\n",
      "2021-11-07 18:21:45 |\u001b[36m DEBUG    \u001b[0m| helpers.helpers_predator.data_materials | Determined features: ['Provean_score', 'EL2_score', 'Final_ddG', 'Interactor_alignment_score', 'Solvent_accessibility_wt', 'Matrix_score', 'Solvent_accessibility_mut', 'van_der_waals_mut', 'Interactor_template_sequence_identity', 'solvation_polar_wt']\n",
      "2021-11-07 18:21:45 |\u001b[36m DEBUG    \u001b[0m| helpers.helpers_predator.data_materials | Declaring Xs_swaney data materials  ..\n"
     ]
    }
   ],
   "source": [
    "predator.initialize_target_data_materials(\n",
    "    tcga_code_path_pairs=[('swaney', SWANEY_PATH)]\n",
    ")"
   ]
  },
  {
   "cell_type": "markdown",
   "id": "9585f74f-15cf-42fb-94f6-3a8d154643c6",
   "metadata": {
    "tags": []
   },
   "source": [
    "#### Swaney Dataset"
   ]
  },
  {
   "cell_type": "code",
   "execution_count": 5,
   "id": "e5ec6af3-02d4-49b2-874b-d0c9c3e31fe1",
   "metadata": {},
   "outputs": [
    {
     "name": "stdout",
     "output_type": "stream",
     "text": [
      "\u001b[36mData dimensions: (2, 103)\u001b[0m\n"
     ]
    },
    {
     "data": {
      "text/html": [
       "<div>\n",
       "<style scoped>\n",
       "    .dataframe tbody tr th:only-of-type {\n",
       "        vertical-align: middle;\n",
       "    }\n",
       "\n",
       "    .dataframe tbody tr th {\n",
       "        vertical-align: top;\n",
       "    }\n",
       "\n",
       "    .dataframe thead th {\n",
       "        text-align: right;\n",
       "    }\n",
       "</style>\n",
       "<table border=\"1\" class=\"dataframe\">\n",
       "  <thead>\n",
       "    <tr style=\"text-align: right;\">\n",
       "      <th></th>\n",
       "      <th>Input_identifier</th>\n",
       "      <th>UniProt_ID</th>\n",
       "      <th>Mutation</th>\n",
       "      <th>Status</th>\n",
       "      <th>Type</th>\n",
       "      <th>COSMIC_mut_ID</th>\n",
       "      <th>ClinVar_mut_ID</th>\n",
       "      <th>UniProt_mut_ID</th>\n",
       "      <th>Domain_name</th>\n",
       "      <th>Domain_clan</th>\n",
       "      <th>...</th>\n",
       "      <th>number_of_residues_mut</th>\n",
       "      <th>IntraclashesEnergy1_wt</th>\n",
       "      <th>IntraclashesEnergy1_mut</th>\n",
       "      <th>IntraclashesEnergy2_wt</th>\n",
       "      <th>IntraclashesEnergy2_mut</th>\n",
       "      <th>Interface_hydrophobic_area</th>\n",
       "      <th>Interface_hydrophilic_area</th>\n",
       "      <th>Interface_total_area</th>\n",
       "      <th>Interface_contact_distance_wt</th>\n",
       "      <th>Interface_contact_distance_mut</th>\n",
       "    </tr>\n",
       "  </thead>\n",
       "  <tbody>\n",
       "    <tr>\n",
       "      <th>0</th>\n",
       "      <td>P01112</td>\n",
       "      <td>P01112</td>\n",
       "      <td>G12D</td>\n",
       "      <td>done</td>\n",
       "      <td>interface</td>\n",
       "      <td>COSM99915</td>\n",
       "      <td>-</td>\n",
       "      <td>VAR_068816</td>\n",
       "      <td>Ras</td>\n",
       "      <td>Ras</td>\n",
       "      <td>...</td>\n",
       "      <td>648</td>\n",
       "      <td>35.9691</td>\n",
       "      <td>35.7047</td>\n",
       "      <td>493.4220</td>\n",
       "      <td>493.4220</td>\n",
       "      <td>None</td>\n",
       "      <td>None</td>\n",
       "      <td>None</td>\n",
       "      <td>4.84060</td>\n",
       "      <td>4.84060</td>\n",
       "    </tr>\n",
       "    <tr>\n",
       "      <th>1</th>\n",
       "      <td>P01112</td>\n",
       "      <td>P01112</td>\n",
       "      <td>G12D</td>\n",
       "      <td>done</td>\n",
       "      <td>interface</td>\n",
       "      <td>COSM99915</td>\n",
       "      <td>-</td>\n",
       "      <td>VAR_068816</td>\n",
       "      <td>Ras</td>\n",
       "      <td>Ras</td>\n",
       "      <td>...</td>\n",
       "      <td>339</td>\n",
       "      <td>123.5670</td>\n",
       "      <td>123.6360</td>\n",
       "      <td>68.5032</td>\n",
       "      <td>68.5032</td>\n",
       "      <td>539.595</td>\n",
       "      <td>324.98</td>\n",
       "      <td>864.585</td>\n",
       "      <td>3.18758</td>\n",
       "      <td>3.18758</td>\n",
       "    </tr>\n",
       "  </tbody>\n",
       "</table>\n",
       "<p>2 rows × 103 columns</p>\n",
       "</div>"
      ],
      "text/plain": [
       "  Input_identifier UniProt_ID Mutation Status       Type COSMIC_mut_ID  \\\n",
       "0           P01112     P01112     G12D   done  interface     COSM99915   \n",
       "1           P01112     P01112     G12D   done  interface     COSM99915   \n",
       "\n",
       "  ClinVar_mut_ID UniProt_mut_ID Domain_name Domain_clan  ...  \\\n",
       "0              -     VAR_068816         Ras         Ras  ...   \n",
       "1              -     VAR_068816         Ras         Ras  ...   \n",
       "\n",
       "  number_of_residues_mut IntraclashesEnergy1_wt  IntraclashesEnergy1_mut  \\\n",
       "0                    648                35.9691                  35.7047   \n",
       "1                    339               123.5670                 123.6360   \n",
       "\n",
       "   IntraclashesEnergy2_wt IntraclashesEnergy2_mut Interface_hydrophobic_area  \\\n",
       "0                493.4220                493.4220                       None   \n",
       "1                 68.5032                 68.5032                    539.595   \n",
       "\n",
       "  Interface_hydrophilic_area Interface_total_area  \\\n",
       "0                       None                 None   \n",
       "1                     324.98              864.585   \n",
       "\n",
       "  Interface_contact_distance_wt  Interface_contact_distance_mut  \n",
       "0                       4.84060                         4.84060  \n",
       "1                       3.18758                         3.18758  \n",
       "\n",
       "[2 rows x 103 columns]"
      ]
     },
     "metadata": {},
     "output_type": "display_data"
    }
   ],
   "source": [
    "display_data(predator.data_materials[\"swaney\"])"
   ]
  },
  {
   "cell_type": "markdown",
   "id": "3217fe80-9964-46bf-90b5-c0ca455d66b1",
   "metadata": {
    "tags": []
   },
   "source": [
    "#### Preprocessed Swaney Dataset"
   ]
  },
  {
   "cell_type": "markdown",
   "id": "e0e491a8-e45f-4f35-adb3-503b8878fe2c",
   "metadata": {},
   "source": [
    "##### Swaney"
   ]
  },
  {
   "cell_type": "code",
   "execution_count": 6,
   "id": "b5112704-85bc-41f8-aa9c-f1f4291e4d05",
   "metadata": {},
   "outputs": [
    {
     "name": "stdout",
     "output_type": "stream",
     "text": [
      "\u001b[36mData dimensions: (2, 61)\u001b[0m\n"
     ]
    },
    {
     "data": {
      "text/html": [
       "<div>\n",
       "<style scoped>\n",
       "    .dataframe tbody tr th:only-of-type {\n",
       "        vertical-align: middle;\n",
       "    }\n",
       "\n",
       "    .dataframe tbody tr th {\n",
       "        vertical-align: top;\n",
       "    }\n",
       "\n",
       "    .dataframe thead th {\n",
       "        text-align: right;\n",
       "    }\n",
       "</style>\n",
       "<table border=\"1\" class=\"dataframe\">\n",
       "  <thead>\n",
       "    <tr style=\"text-align: right;\">\n",
       "      <th></th>\n",
       "      <th>UniProt_ID</th>\n",
       "      <th>Mutation</th>\n",
       "      <th>Interactor_UniProt_ID</th>\n",
       "      <th>Template_sequence_identity</th>\n",
       "      <th>Alignment_score</th>\n",
       "      <th>Interactor_template_sequence_identity</th>\n",
       "      <th>Interactor_alignment_score</th>\n",
       "      <th>Final_ddG</th>\n",
       "      <th>ProtBert_score</th>\n",
       "      <th>ProteinSolver_score</th>\n",
       "      <th>...</th>\n",
       "      <th>number_of_residues_mut</th>\n",
       "      <th>IntraclashesEnergy1_wt</th>\n",
       "      <th>IntraclashesEnergy1_mut</th>\n",
       "      <th>IntraclashesEnergy2_wt</th>\n",
       "      <th>IntraclashesEnergy2_mut</th>\n",
       "      <th>Interface_hydrophobic_area</th>\n",
       "      <th>Interface_hydrophilic_area</th>\n",
       "      <th>Interface_total_area</th>\n",
       "      <th>Interface_contact_distance_wt</th>\n",
       "      <th>Interface_contact_distance_mut</th>\n",
       "    </tr>\n",
       "  </thead>\n",
       "  <tbody>\n",
       "    <tr>\n",
       "      <th>0</th>\n",
       "      <td>P01112</td>\n",
       "      <td>G12D</td>\n",
       "      <td>O15211</td>\n",
       "      <td>1.0000</td>\n",
       "      <td>0.970760</td>\n",
       "      <td>0.2359</td>\n",
       "      <td>0.239415</td>\n",
       "      <td>0.195902</td>\n",
       "      <td>0.998907</td>\n",
       "      <td>0.908300</td>\n",
       "      <td>...</td>\n",
       "      <td>648</td>\n",
       "      <td>35.9691</td>\n",
       "      <td>35.7047</td>\n",
       "      <td>493.4220</td>\n",
       "      <td>493.4220</td>\n",
       "      <td>0.000</td>\n",
       "      <td>0.00</td>\n",
       "      <td>0.000</td>\n",
       "      <td>4.84060</td>\n",
       "      <td>4.84060</td>\n",
       "    </tr>\n",
       "    <tr>\n",
       "      <th>1</th>\n",
       "      <td>P01112</td>\n",
       "      <td>G12D</td>\n",
       "      <td>Q13671</td>\n",
       "      <td>0.3086</td>\n",
       "      <td>0.321095</td>\n",
       "      <td>0.3143</td>\n",
       "      <td>0.201405</td>\n",
       "      <td>0.924640</td>\n",
       "      <td>0.998692</td>\n",
       "      <td>0.973106</td>\n",
       "      <td>...</td>\n",
       "      <td>339</td>\n",
       "      <td>123.5670</td>\n",
       "      <td>123.6360</td>\n",
       "      <td>68.5032</td>\n",
       "      <td>68.5032</td>\n",
       "      <td>539.595</td>\n",
       "      <td>324.98</td>\n",
       "      <td>864.585</td>\n",
       "      <td>3.18758</td>\n",
       "      <td>3.18758</td>\n",
       "    </tr>\n",
       "  </tbody>\n",
       "</table>\n",
       "<p>2 rows × 61 columns</p>\n",
       "</div>"
      ],
      "text/plain": [
       "  UniProt_ID Mutation Interactor_UniProt_ID  Template_sequence_identity  \\\n",
       "0     P01112     G12D                O15211                      1.0000   \n",
       "1     P01112     G12D                Q13671                      0.3086   \n",
       "\n",
       "   Alignment_score  Interactor_template_sequence_identity  \\\n",
       "0         0.970760                                 0.2359   \n",
       "1         0.321095                                 0.3143   \n",
       "\n",
       "   Interactor_alignment_score  Final_ddG  ProtBert_score  ProteinSolver_score  \\\n",
       "0                    0.239415   0.195902        0.998907             0.908300   \n",
       "1                    0.201405   0.924640        0.998692             0.973106   \n",
       "\n",
       "   ...  number_of_residues_mut  IntraclashesEnergy1_wt  \\\n",
       "0  ...                     648                 35.9691   \n",
       "1  ...                     339                123.5670   \n",
       "\n",
       "   IntraclashesEnergy1_mut  IntraclashesEnergy2_wt  IntraclashesEnergy2_mut  \\\n",
       "0                  35.7047                493.4220                 493.4220   \n",
       "1                 123.6360                 68.5032                  68.5032   \n",
       "\n",
       "   Interface_hydrophobic_area  Interface_hydrophilic_area  \\\n",
       "0                       0.000                        0.00   \n",
       "1                     539.595                      324.98   \n",
       "\n",
       "   Interface_total_area  Interface_contact_distance_wt  \\\n",
       "0                 0.000                        4.84060   \n",
       "1               864.585                        3.18758   \n",
       "\n",
       "   Interface_contact_distance_mut  \n",
       "0                         4.84060  \n",
       "1                         3.18758  \n",
       "\n",
       "[2 rows x 61 columns]"
      ]
     },
     "metadata": {},
     "output_type": "display_data"
    }
   ],
   "source": [
    "display_data(predator.data_materials[\"target_swaney_data\"])"
   ]
  },
  {
   "cell_type": "markdown",
   "id": "b7c95c12-1043-4cd7-aaaf-ae5188996f7c",
   "metadata": {
    "tags": []
   },
   "source": [
    "### Voting mode: `hard`"
   ]
  },
  {
   "cell_type": "code",
   "execution_count": 7,
   "id": "50c37897-6a00-44d4-9e41-18eada851d22",
   "metadata": {
    "scrolled": true,
    "tags": []
   },
   "outputs": [
    {
     "name": "stdout",
     "output_type": "stream",
     "text": [
      "2021-11-07 18:21:47 |\u001b[36m DEBUG    \u001b[0m| Predator | Predicting on cancer datasets ..\n",
      "2021-11-07 18:21:47 |\u001b[36m DEBUG    \u001b[0m| helpers.helpers_predator.models | Initializing EnsambledVotingClassifier.\n",
      "2021-11-07 18:21:47 |\u001b[36m DEBUG    \u001b[0m| helpers.helpers_predator.models | Voting mode: hard\n",
      "2021-11-07 18:21:47 |\u001b[36m DEBUG    \u001b[0m| helpers.helpers_predator.predictions | Initializing: PredictionsHard\n",
      "2021-11-07 18:21:47 |\u001b[36m DEBUG    \u001b[0m| Predator | Predicting on swaney cohort ..\n",
      "2021-11-07 18:21:47 |\u001b[36m DEBUG    \u001b[0m| helpers.helpers_predator.models | Current estimator: RandomForestClassifier(bootstrap=False, class_weight='balanced', max_depth=4,\n",
      "                       max_features='sqrt', n_estimators=600,\n",
      "                       random_state=14593)\n",
      "2021-11-07 18:21:47 |\u001b[36m DEBUG    \u001b[0m| helpers.helpers_predator.models | X shape: (2, 10)\n",
      "2021-11-07 18:21:47 |\u001b[36m DEBUG    \u001b[0m| helpers.helpers_predator.models | Current estimator: RandomForestClassifier(bootstrap=False, max_depth=8, max_features=None,\n",
      "                       min_samples_leaf=2, n_estimators=480, random_state=3279)\n",
      "2021-11-07 18:21:47 |\u001b[36m DEBUG    \u001b[0m| helpers.helpers_predator.models | X shape: (2, 10)\n",
      "2021-11-07 18:21:48 |\u001b[36m DEBUG    \u001b[0m| helpers.helpers_predator.models | Current estimator: RandomForestClassifier(class_weight='balanced', max_depth=11,\n",
      "                       min_samples_split=5, n_estimators=120,\n",
      "                       random_state=36049)\n",
      "2021-11-07 18:21:48 |\u001b[36m DEBUG    \u001b[0m| helpers.helpers_predator.models | X shape: (2, 10)\n",
      "2021-11-07 18:21:48 |\u001b[36m DEBUG    \u001b[0m| helpers.helpers_predator.models | Current estimator: RandomForestClassifier(class_weight='balanced', max_depth=3,\n",
      "                       max_features='sqrt', min_samples_leaf=4, n_estimators=40,\n",
      "                       random_state=18290)\n",
      "2021-11-07 18:21:48 |\u001b[36m DEBUG    \u001b[0m| helpers.helpers_predator.models | X shape: (2, 10)\n",
      "2021-11-07 18:21:48 |\u001b[36m DEBUG    \u001b[0m| helpers.helpers_predator.models | Current estimator: RandomForestClassifier(bootstrap=False, max_depth=11, max_features='sqrt',\n",
      "                       min_samples_split=5, n_estimators=460,\n",
      "                       random_state=96531)\n",
      "2021-11-07 18:21:48 |\u001b[36m DEBUG    \u001b[0m| helpers.helpers_predator.models | X shape: (2, 10)\n",
      "2021-11-07 18:21:48 |\u001b[36m DEBUG    \u001b[0m| helpers.helpers_predator.models | Current estimator: RandomForestClassifier(class_weight='balanced', max_depth=12,\n",
      "                       min_samples_leaf=4, min_samples_split=5, n_estimators=80,\n",
      "                       random_state=13435)\n",
      "2021-11-07 18:21:48 |\u001b[36m DEBUG    \u001b[0m| helpers.helpers_predator.models | X shape: (2, 10)\n",
      "2021-11-07 18:21:48 |\u001b[36m DEBUG    \u001b[0m| helpers.helpers_predator.models | Current estimator: RandomForestClassifier(class_weight='balanced', max_depth=2,\n",
      "                       min_samples_split=5, n_estimators=500,\n",
      "                       random_state=88697)\n",
      "2021-11-07 18:21:48 |\u001b[36m DEBUG    \u001b[0m| helpers.helpers_predator.models | X shape: (2, 10)\n",
      "2021-11-07 18:21:48 |\u001b[36m DEBUG    \u001b[0m| helpers.helpers_predator.models | Current estimator: RandomForestClassifier(bootstrap=False, class_weight='balanced', max_depth=7,\n",
      "                       max_features='sqrt', min_samples_leaf=2,\n",
      "                       min_samples_split=5, n_estimators=280,\n",
      "                       random_state=97081)\n",
      "2021-11-07 18:21:48 |\u001b[36m DEBUG    \u001b[0m| helpers.helpers_predator.models | X shape: (2, 10)\n",
      "2021-11-07 18:21:48 |\u001b[36m DEBUG    \u001b[0m| helpers.helpers_predator.models | Current estimator: RandomForestClassifier(bootstrap=False, max_depth=3, max_features='sqrt',\n",
      "                       min_samples_leaf=2, n_estimators=60, random_state=71483)\n",
      "2021-11-07 18:21:48 |\u001b[36m DEBUG    \u001b[0m| helpers.helpers_predator.models | X shape: (2, 10)\n",
      "2021-11-07 18:21:48 |\u001b[36m DEBUG    \u001b[0m| helpers.helpers_predator.models | Current estimator: RandomForestClassifier(class_weight='balanced', max_depth=2,\n",
      "                       max_features='sqrt', min_samples_leaf=4,\n",
      "                       n_estimators=440, random_state=11396)\n",
      "2021-11-07 18:21:48 |\u001b[36m DEBUG    \u001b[0m| helpers.helpers_predator.models | X shape: (2, 10)\n",
      "2021-11-07 18:21:48 |\u001b[36m DEBUG    \u001b[0m| helpers.helpers_predator.models | Current estimator: RandomForestClassifier(bootstrap=False, max_depth=6, min_samples_leaf=2,\n",
      "                       min_samples_split=5, n_estimators=80,\n",
      "                       random_state=77398)\n",
      "2021-11-07 18:21:48 |\u001b[36m DEBUG    \u001b[0m| helpers.helpers_predator.models | X shape: (2, 10)\n",
      "2021-11-07 18:21:48 |\u001b[36m DEBUG    \u001b[0m| helpers.helpers_predator.models | Current estimator: RandomForestClassifier(max_depth=8, max_features='sqrt', min_samples_split=5,\n",
      "                       n_estimators=20, random_state=55303)\n",
      "2021-11-07 18:21:48 |\u001b[36m DEBUG    \u001b[0m| helpers.helpers_predator.models | X shape: (2, 10)\n",
      "2021-11-07 18:21:48 |\u001b[36m DEBUG    \u001b[0m| helpers.helpers_predator.models | Current estimator: RandomForestClassifier(class_weight='balanced', max_depth=4,\n",
      "                       min_samples_split=5, random_state=4166)\n",
      "2021-11-07 18:21:48 |\u001b[36m DEBUG    \u001b[0m| helpers.helpers_predator.models | X shape: (2, 10)\n",
      "2021-11-07 18:21:48 |\u001b[36m DEBUG    \u001b[0m| helpers.helpers_predator.models | Current estimator: RandomForestClassifier(bootstrap=False, max_depth=13, max_features='sqrt',\n",
      "                       min_samples_split=5, n_estimators=380,\n",
      "                       random_state=12281)\n",
      "2021-11-07 18:21:48 |\u001b[36m DEBUG    \u001b[0m| helpers.helpers_predator.models | X shape: (2, 10)\n",
      "2021-11-07 18:21:48 |\u001b[36m DEBUG    \u001b[0m| helpers.helpers_predator.models | Current estimator: RandomForestClassifier(bootstrap=False, class_weight='balanced', max_depth=4,\n",
      "                       max_features='sqrt', n_estimators=10,\n",
      "                       random_state=28658)\n",
      "2021-11-07 18:21:48 |\u001b[36m DEBUG    \u001b[0m| helpers.helpers_predator.models | X shape: (2, 10)\n",
      "2021-11-07 18:21:48 |\u001b[36m DEBUG    \u001b[0m| helpers.helpers_predator.models | Current estimator: RandomForestClassifier(class_weight='balanced', max_depth=3, min_samples_leaf=2,\n",
      "                       n_estimators=30, random_state=30496)\n",
      "2021-11-07 18:21:48 |\u001b[36m DEBUG    \u001b[0m| helpers.helpers_predator.models | X shape: (2, 10)\n",
      "2021-11-07 18:21:48 |\u001b[36m DEBUG    \u001b[0m| helpers.helpers_predator.models | Current estimator: RandomForestClassifier(class_weight='balanced', max_depth=11,\n",
      "                       min_samples_leaf=4, n_estimators=120,\n",
      "                       random_state=66238)\n",
      "2021-11-07 18:21:48 |\u001b[36m DEBUG    \u001b[0m| helpers.helpers_predator.models | X shape: (2, 10)\n",
      "2021-11-07 18:21:48 |\u001b[36m DEBUG    \u001b[0m| helpers.helpers_predator.models | Current estimator: RandomForestClassifier(class_weight='balanced', max_depth=2,\n",
      "                       max_features='sqrt', n_estimators=340,\n",
      "                       random_state=3479)\n",
      "2021-11-07 18:21:48 |\u001b[36m DEBUG    \u001b[0m| helpers.helpers_predator.models | X shape: (2, 10)\n",
      "2021-11-07 18:21:48 |\u001b[36m DEBUG    \u001b[0m| helpers.helpers_predator.models | Current estimator: RandomForestClassifier(class_weight='balanced', max_depth=3,\n",
      "                       max_features='sqrt', min_samples_leaf=4,\n",
      "                       n_estimators=480, random_state=26063)\n",
      "2021-11-07 18:21:48 |\u001b[36m DEBUG    \u001b[0m| helpers.helpers_predator.models | X shape: (2, 10)\n",
      "2021-11-07 18:21:48 |\u001b[36m DEBUG    \u001b[0m| helpers.helpers_predator.models | Current estimator: RandomForestClassifier(class_weight='balanced', max_depth=3, min_samples_leaf=2,\n",
      "                       n_estimators=560, random_state=85182)\n",
      "2021-11-07 18:21:48 |\u001b[36m DEBUG    \u001b[0m| helpers.helpers_predator.models | X shape: (2, 10)\n",
      "2021-11-07 18:21:48 |\u001b[36m DEBUG    \u001b[0m| helpers.helpers_predator.models | Current estimator: RandomForestClassifier(class_weight='balanced', max_depth=13,\n",
      "                       min_samples_leaf=4, min_samples_split=5, n_estimators=40,\n",
      "                       random_state=91925)\n",
      "2021-11-07 18:21:48 |\u001b[36m DEBUG    \u001b[0m| helpers.helpers_predator.models | X shape: (2, 10)\n",
      "2021-11-07 18:21:48 |\u001b[36m DEBUG    \u001b[0m| helpers.helpers_predator.models | Current estimator: RandomForestClassifier(class_weight='balanced', max_depth=2, min_samples_leaf=4,\n",
      "                       min_samples_split=5, n_estimators=280,\n",
      "                       random_state=54988)\n",
      "2021-11-07 18:21:48 |\u001b[36m DEBUG    \u001b[0m| helpers.helpers_predator.models | X shape: (2, 10)\n",
      "2021-11-07 18:21:48 |\u001b[36m DEBUG    \u001b[0m| helpers.helpers_predator.models | Current estimator: RandomForestClassifier(class_weight='balanced', max_depth=11,\n",
      "                       max_features='sqrt', min_samples_leaf=2,\n",
      "                       min_samples_split=5, n_estimators=360,\n",
      "                       random_state=58879)\n",
      "2021-11-07 18:21:48 |\u001b[36m DEBUG    \u001b[0m| helpers.helpers_predator.models | X shape: (2, 10)\n",
      "2021-11-07 18:21:48 |\u001b[36m DEBUG    \u001b[0m| helpers.helpers_predator.models | Current estimator: RandomForestClassifier(max_depth=7, n_estimators=20, random_state=77237)\n",
      "2021-11-07 18:21:48 |\u001b[36m DEBUG    \u001b[0m| helpers.helpers_predator.models | X shape: (2, 10)\n",
      "2021-11-07 18:21:48 |\u001b[36m DEBUG    \u001b[0m| helpers.helpers_predator.models | Current estimator: RandomForestClassifier(bootstrap=False, max_depth=14, min_samples_leaf=4,\n",
      "                       min_samples_split=5, n_estimators=20, random_state=852)\n",
      "2021-11-07 18:21:48 |\u001b[36m DEBUG    \u001b[0m| helpers.helpers_predator.models | X shape: (2, 10)\n",
      "2021-11-07 18:21:48 |\u001b[36m DEBUG    \u001b[0m| helpers.helpers_predator.models | Current estimator: RandomForestClassifier(class_weight='balanced', max_depth=8,\n",
      "                       max_features='sqrt', min_samples_leaf=4,\n",
      "                       min_samples_split=5, n_estimators=520,\n",
      "                       random_state=99459)\n",
      "2021-11-07 18:21:48 |\u001b[36m DEBUG    \u001b[0m| helpers.helpers_predator.models | X shape: (2, 10)\n",
      "2021-11-07 18:21:48 |\u001b[36m DEBUG    \u001b[0m| helpers.helpers_predator.models | Current estimator: RandomForestClassifier(class_weight='balanced', max_depth=6, min_samples_leaf=4,\n",
      "                       min_samples_split=5, n_estimators=260,\n",
      "                       random_state=20927)\n",
      "2021-11-07 18:21:48 |\u001b[36m DEBUG    \u001b[0m| helpers.helpers_predator.models | X shape: (2, 10)\n",
      "2021-11-07 18:21:48 |\u001b[36m DEBUG    \u001b[0m| helpers.helpers_predator.models | Current estimator: RandomForestClassifier(max_depth=9, min_samples_leaf=4, n_estimators=580,\n",
      "                       random_state=55393)\n",
      "2021-11-07 18:21:48 |\u001b[36m DEBUG    \u001b[0m| helpers.helpers_predator.models | X shape: (2, 10)\n",
      "2021-11-07 18:21:48 |\u001b[36m DEBUG    \u001b[0m| helpers.helpers_predator.models | Current estimator: RandomForestClassifier(bootstrap=False, class_weight='balanced', max_depth=7,\n",
      "                       min_samples_split=5, n_estimators=140,\n",
      "                       random_state=36422)\n",
      "2021-11-07 18:21:48 |\u001b[36m DEBUG    \u001b[0m| helpers.helpers_predator.models | X shape: (2, 10)\n",
      "2021-11-07 18:21:48 |\u001b[36m DEBUG    \u001b[0m| helpers.helpers_predator.models | Current estimator: RandomForestClassifier(bootstrap=False, max_depth=11, n_estimators=540,\n",
      "                       random_state=20380)\n",
      "2021-11-07 18:21:48 |\u001b[36m DEBUG    \u001b[0m| helpers.helpers_predator.models | X shape: (2, 10)\n",
      "2021-11-07 18:21:48 |\u001b[36m DEBUG    \u001b[0m| helpers.helpers_predator.models | Current estimator: RandomForestClassifier(class_weight='balanced', max_depth=8, min_samples_leaf=2,\n",
      "                       n_estimators=5, random_state=28222)\n",
      "2021-11-07 18:21:48 |\u001b[36m DEBUG    \u001b[0m| helpers.helpers_predator.models | X shape: (2, 10)\n",
      "2021-11-07 18:21:48 |\u001b[36m DEBUG    \u001b[0m| helpers.helpers_predator.models | Current estimator: RandomForestClassifier(class_weight='balanced', max_depth=6,\n",
      "                       min_samples_split=5, n_estimators=560,\n",
      "                       random_state=44119)\n",
      "2021-11-07 18:21:48 |\u001b[36m DEBUG    \u001b[0m| helpers.helpers_predator.models | X shape: (2, 10)\n",
      "2021-11-07 18:21:48 |\u001b[36m DEBUG    \u001b[0m| helpers.helpers_predator.models | Current estimator: RandomForestClassifier(class_weight='balanced', max_depth=10,\n",
      "                       max_features='sqrt', min_samples_leaf=4,\n",
      "                       n_estimators=320, random_state=13397)\n",
      "2021-11-07 18:21:48 |\u001b[36m DEBUG    \u001b[0m| helpers.helpers_predator.models | X shape: (2, 10)\n",
      "2021-11-07 18:21:49 |\u001b[36m DEBUG    \u001b[0m| helpers.helpers_predator.models | Current estimator: RandomForestClassifier(class_weight='balanced', max_depth=3,\n",
      "                       max_features='sqrt', min_samples_split=5,\n",
      "                       n_estimators=120, random_state=12157)\n",
      "2021-11-07 18:21:49 |\u001b[36m DEBUG    \u001b[0m| helpers.helpers_predator.models | X shape: (2, 10)\n",
      "2021-11-07 18:21:49 |\u001b[36m DEBUG    \u001b[0m| helpers.helpers_predator.models | Current estimator: RandomForestClassifier(bootstrap=False, class_weight='balanced', max_depth=2,\n",
      "                       min_samples_split=5, n_estimators=360,\n",
      "                       random_state=49798)\n",
      "2021-11-07 18:21:49 |\u001b[36m DEBUG    \u001b[0m| helpers.helpers_predator.models | X shape: (2, 10)\n",
      "2021-11-07 18:21:49 |\u001b[36m DEBUG    \u001b[0m| helpers.helpers_predator.models | Current estimator: RandomForestClassifier(bootstrap=False, class_weight='balanced', max_depth=2,\n",
      "                       min_samples_leaf=2, min_samples_split=5, n_estimators=40,\n",
      "                       random_state=12677)\n",
      "2021-11-07 18:21:49 |\u001b[36m DEBUG    \u001b[0m| helpers.helpers_predator.models | X shape: (2, 10)\n",
      "2021-11-07 18:21:49 |\u001b[36m DEBUG    \u001b[0m| helpers.helpers_predator.models | Current estimator: RandomForestClassifier(bootstrap=False, class_weight='balanced', max_depth=5,\n",
      "                       min_samples_leaf=4, min_samples_split=5,\n",
      "                       n_estimators=120, random_state=47053)\n",
      "2021-11-07 18:21:49 |\u001b[36m DEBUG    \u001b[0m| helpers.helpers_predator.models | X shape: (2, 10)\n",
      "2021-11-07 18:21:49 |\u001b[36m DEBUG    \u001b[0m| helpers.helpers_predator.predictions | PredictionsHard\n",
      "2021-11-07 18:21:49 |\u001b[36m DEBUG    \u001b[0m| helpers.helpers_predator.predictions | Predicting on swaney cohort ..\n",
      "2021-11-07 18:21:49 |\u001b[36m DEBUG    \u001b[0m| helpers.helpers_predator.predictions | Adding key `swaney` to self.predictions\n"
     ]
    }
   ],
   "source": [
    "predator.predict(voting='hard')"
   ]
  },
  {
   "cell_type": "code",
   "execution_count": 8,
   "id": "4696a18e-841e-4c52-8a85-45b14c6e316f",
   "metadata": {},
   "outputs": [
    {
     "data": {
      "text/plain": [
       "[array([1, 1], dtype=int64),\n",
       " array([1, 1], dtype=int64),\n",
       " array([0, 1], dtype=int64)]"
      ]
     },
     "execution_count": 8,
     "metadata": {},
     "output_type": "execute_result"
    }
   ],
   "source": [
    "# Predictions for first 10 experiment.\n",
    "predator.predictions[\"swaney\"][:3]"
   ]
  },
  {
   "cell_type": "code",
   "execution_count": 9,
   "id": "ee060c8f-2fb1-4d7f-96c6-c759ab8b2b90",
   "metadata": {},
   "outputs": [
    {
     "name": "stdout",
     "output_type": "stream",
     "text": [
      "2021-11-07 18:21:49 |\u001b[36m DEBUG    \u001b[0m| helpers.helpers_predator.predictions | Initializing value counts ..\n"
     ]
    },
    {
     "data": {
      "image/png": "[encoded data removed]",
      "text/plain": [
       "<Figure size 1080x360 with 1 Axes>"
      ]
     },
     "metadata": {},
     "output_type": "display_data"
    }
   ],
   "source": [
    "predator.predictions.plot_predictions_distributions(\"swaney\")"
   ]
  },
  {
   "cell_type": "markdown",
   "id": "7c78b51d-b2f8-4d9a-8d14-692d58d59a78",
   "metadata": {},
   "source": [
    "#### Predictions Post Processing"
   ]
  },
  {
   "cell_type": "markdown",
   "id": "0fdbf4c7-fd12-428e-aed6-210a01ac3752",
   "metadata": {},
   "source": [
    "Post processing of predictions involves following steps:"
   ]
  },
  {
   "cell_type": "markdown",
   "id": "838830d3-8e8a-48f4-9fd5-0d839e4eb098",
   "metadata": {},
   "source": [
    "##### 1. Merging Predictions with SNV Data"
   ]
  },
  {
   "cell_type": "markdown",
   "id": "6b21ebbc-c7fc-4ed6-96ae-bf8a6d13d5c6",
   "metadata": {},
   "source": [
    "The prediction column is merged with SNV data for each experiment.\n",
    "\n",
    "$\\text{For each experiment } n: $\n",
    "\n",
    "$$\n",
    "  \\textit{(Prediction Merged Data)}_n = \\underbrace{[\\textit{Predictions}_n]}_\\text{0, 1 or \"NoVote\"} + \n",
    "      \\underbrace{[\\textit{Protein }] [\\textit{Mutation }] [\\textit{Interactor }]}_\\text{Cancer Data Triplets} + \\underbrace{[\\textit{Features }] }_\\text{Elaspic}\n",
    "$$\n"
   ]
  },
  {
   "cell_type": "markdown",
   "id": "45b10219-416e-4467-bffb-45fac165fecd",
   "metadata": {
    "tags": []
   },
   "source": [
    "##### 2. Convert to 1-isomer: `Interactor_UniProt_ID`"
   ]
  },
  {
   "cell_type": "markdown",
   "id": "1689b07e-9fea-4147-b8d6-fd015da18d79",
   "metadata": {},
   "source": [
    "$\\textit{Interactor_UniProt_ID}$ column contains isomer proteins. Here, we convert them into primary isoform representation (i.e. without dashes)."
   ]
  },
  {
   "cell_type": "markdown",
   "id": "33faec8c-a996-46b5-a2cd-bf201cf91fa6",
   "metadata": {},
   "source": [
    "| Interactor_UniProt_ID |\n",
    "--------------\n",
    "| P38936     |\n",
    "| P16473     |\n",
    "| P16473-2   |\n",
    "| P19793     |"
   ]
  },
  {
   "cell_type": "markdown",
   "id": "63af440d-1de7-4fe4-aa71-fc342d83a0bd",
   "metadata": {},
   "source": [
    "##### 3. Dropping Invalid Predictions"
   ]
  },
  {
   "cell_type": "markdown",
   "id": "52873c50-0248-4aa9-8055-b0ebed1f443a",
   "metadata": {},
   "source": [
    "Entries which predicted as both `Decreasing` and `Increasing+NoEff` are dropped."
   ]
  },
  {
   "cell_type": "markdown",
   "id": "ae8594af-7abc-41b0-bf26-e76ed91020ac",
   "metadata": {},
   "source": [
    "Due to having different features for the same $\\textit{(protein, mutation, interactor)}$ triplet from ELASPIC, the triplet $\\textit{(protein, mutation, interactor)}$ may be classified both 0 and 1. We drop such instances."
   ]
  },
  {
   "cell_type": "code",
   "execution_count": 10,
   "id": "7b2a5f02-4d6c-4be2-be6c-f8df9c50093d",
   "metadata": {
    "scrolled": true,
    "tags": []
   },
   "outputs": [
    {
     "name": "stdout",
     "output_type": "stream",
     "text": [
      "2021-11-07 18:21:50 |\u001b[36m DEBUG    \u001b[0m| helpers.helpers_predator.predictions | PredictionsHard\n",
      "2021-11-07 18:21:50 |\u001b[36m DEBUG    \u001b[0m| helpers.helpers_predator.predictions | Post processing predictions for cohort swaney ..\n",
      "2021-11-07 18:21:50 |\u001b[36m DEBUG    \u001b[0m| helpers.helpers_predator.predictions | Merging predictions with swaney cancer dataset ..\n",
      "2021-11-07 18:21:50 |\u001b[36m DEBUG    \u001b[0m| helpers.helpers_predator.predictions | Handling valid and invalid entries ..\n"
     ]
    },
    {
     "data": {
      "application/vnd.jupyter.widget-view+json": {
       "model_id": "bf6ca7a10d3441edbc1fc41b697451fb",
       "version_major": 2,
       "version_minor": 0
      },
      "text/plain": [
       "  0%|          | 0/37 [00:00<?, ?it/s]"
      ]
     },
     "metadata": {},
     "output_type": "display_data"
    },
    {
     "name": "stdout",
     "output_type": "stream",
     "text": [
      "2021-11-07 18:21:50 |\u001b[36m DEBUG    \u001b[0m| helpers.helpers_predator.predictions_utils | Removed entries first five rows (of 0): \n",
      "Empty DataFrame\n",
      "Columns: [PREDICTION, PROTEIN, MUTATION, INTERACTOR]\n",
      "Index: []\n",
      "2021-11-07 18:21:50 |\u001b[36m DEBUG    \u001b[0m| helpers.helpers_predator.predictions_utils | Removed entries first five rows (of 0): \n",
      "Empty DataFrame\n",
      "Columns: [PREDICTION, PROTEIN, MUTATION, INTERACTOR]\n",
      "Index: []\n",
      "2021-11-07 18:21:50 |\u001b[36m DEBUG    \u001b[0m| helpers.helpers_predator.predictions_utils | Removed entries first five rows (of 0): \n",
      "Empty DataFrame\n",
      "Columns: [PREDICTION, PROTEIN, MUTATION, INTERACTOR]\n",
      "Index: []\n",
      "2021-11-07 18:21:50 |\u001b[36m DEBUG    \u001b[0m| helpers.helpers_predator.predictions_utils | Removed entries first five rows (of 0): \n",
      "Empty DataFrame\n",
      "Columns: [PREDICTION, PROTEIN, MUTATION, INTERACTOR]\n",
      "Index: []\n",
      "2021-11-07 18:21:50 |\u001b[36m DEBUG    \u001b[0m| helpers.helpers_predator.predictions_utils | Removed entries first five rows (of 0): \n",
      "Empty DataFrame\n",
      "Columns: [PREDICTION, PROTEIN, MUTATION, INTERACTOR]\n",
      "Index: []\n",
      "2021-11-07 18:21:50 |\u001b[36m DEBUG    \u001b[0m| helpers.helpers_predator.predictions_utils | Removed entries first five rows (of 0): \n",
      "Empty DataFrame\n",
      "Columns: [PREDICTION, PROTEIN, MUTATION, INTERACTOR]\n",
      "Index: []\n",
      "2021-11-07 18:21:50 |\u001b[36m DEBUG    \u001b[0m| helpers.helpers_predator.predictions_utils | Removed entries first five rows (of 0): \n",
      "Empty DataFrame\n",
      "Columns: [PREDICTION, PROTEIN, MUTATION, INTERACTOR]\n",
      "Index: []\n",
      "2021-11-07 18:21:50 |\u001b[36m DEBUG    \u001b[0m| helpers.helpers_predator.predictions_utils | Removed entries first five rows (of 0): \n",
      "Empty DataFrame\n",
      "Columns: [PREDICTION, PROTEIN, MUTATION, INTERACTOR]\n",
      "Index: []\n",
      "2021-11-07 18:21:50 |\u001b[36m DEBUG    \u001b[0m| helpers.helpers_predator.predictions_utils | Removed entries first five rows (of 0): \n",
      "Empty DataFrame\n",
      "Columns: [PREDICTION, PROTEIN, MUTATION, INTERACTOR]\n",
      "Index: []\n",
      "2021-11-07 18:21:50 |\u001b[36m DEBUG    \u001b[0m| helpers.helpers_predator.predictions_utils | Removed entries first five rows (of 0): \n",
      "Empty DataFrame\n",
      "Columns: [PREDICTION, PROTEIN, MUTATION, INTERACTOR]\n",
      "Index: []\n",
      "2021-11-07 18:21:50 |\u001b[36m DEBUG    \u001b[0m| helpers.helpers_predator.predictions_utils | Removed entries first five rows (of 0): \n",
      "Empty DataFrame\n",
      "Columns: [PREDICTION, PROTEIN, MUTATION, INTERACTOR]\n",
      "Index: []\n",
      "2021-11-07 18:21:50 |\u001b[36m DEBUG    \u001b[0m| helpers.helpers_predator.predictions_utils | Removed entries first five rows (of 0): \n",
      "Empty DataFrame\n",
      "Columns: [PREDICTION, PROTEIN, MUTATION, INTERACTOR]\n",
      "Index: []\n",
      "2021-11-07 18:21:50 |\u001b[36m DEBUG    \u001b[0m| helpers.helpers_predator.predictions_utils | Removed entries first five rows (of 0): \n",
      "Empty DataFrame\n",
      "Columns: [PREDICTION, PROTEIN, MUTATION, INTERACTOR]\n",
      "Index: []\n",
      "2021-11-07 18:21:50 |\u001b[36m DEBUG    \u001b[0m| helpers.helpers_predator.predictions_utils | Removed entries first five rows (of 0): \n",
      "Empty DataFrame\n",
      "Columns: [PREDICTION, PROTEIN, MUTATION, INTERACTOR]\n",
      "Index: []\n",
      "2021-11-07 18:21:50 |\u001b[36m DEBUG    \u001b[0m| helpers.helpers_predator.predictions_utils | Removed entries first five rows (of 0): \n",
      "Empty DataFrame\n",
      "Columns: [PREDICTION, PROTEIN, MUTATION, INTERACTOR]\n",
      "Index: []\n",
      "2021-11-07 18:21:50 |\u001b[36m DEBUG    \u001b[0m| helpers.helpers_predator.predictions_utils | Removed entries first five rows (of 0): \n",
      "Empty DataFrame\n",
      "Columns: [PREDICTION, PROTEIN, MUTATION, INTERACTOR]\n",
      "Index: []\n",
      "2021-11-07 18:21:50 |\u001b[36m DEBUG    \u001b[0m| helpers.helpers_predator.predictions_utils | Removed entries first five rows (of 0): \n",
      "Empty DataFrame\n",
      "Columns: [PREDICTION, PROTEIN, MUTATION, INTERACTOR]\n",
      "Index: []\n",
      "2021-11-07 18:21:50 |\u001b[36m DEBUG    \u001b[0m| helpers.helpers_predator.predictions_utils | Removed entries first five rows (of 0): \n",
      "Empty DataFrame\n",
      "Columns: [PREDICTION, PROTEIN, MUTATION, INTERACTOR]\n",
      "Index: []\n",
      "2021-11-07 18:21:50 |\u001b[36m DEBUG    \u001b[0m| helpers.helpers_predator.predictions_utils | Removed entries first five rows (of 0): \n",
      "Empty DataFrame\n",
      "Columns: [PREDICTION, PROTEIN, MUTATION, INTERACTOR]\n",
      "Index: []\n",
      "2021-11-07 18:21:50 |\u001b[36m DEBUG    \u001b[0m| helpers.helpers_predator.predictions_utils | Removed entries first five rows (of 0): \n",
      "Empty DataFrame\n",
      "Columns: [PREDICTION, PROTEIN, MUTATION, INTERACTOR]\n",
      "Index: []\n",
      "2021-11-07 18:21:50 |\u001b[36m DEBUG    \u001b[0m| helpers.helpers_predator.predictions_utils | Removed entries first five rows (of 0): \n",
      "Empty DataFrame\n",
      "Columns: [PREDICTION, PROTEIN, MUTATION, INTERACTOR]\n",
      "Index: []\n",
      "2021-11-07 18:21:50 |\u001b[36m DEBUG    \u001b[0m| helpers.helpers_predator.predictions_utils | Removed entries first five rows (of 0): \n",
      "Empty DataFrame\n",
      "Columns: [PREDICTION, PROTEIN, MUTATION, INTERACTOR]\n",
      "Index: []\n",
      "2021-11-07 18:21:50 |\u001b[36m DEBUG    \u001b[0m| helpers.helpers_predator.predictions_utils | Removed entries first five rows (of 0): \n",
      "Empty DataFrame\n",
      "Columns: [PREDICTION, PROTEIN, MUTATION, INTERACTOR]\n",
      "Index: []\n",
      "2021-11-07 18:21:50 |\u001b[36m DEBUG    \u001b[0m| helpers.helpers_predator.predictions_utils | Removed entries first five rows (of 0): \n",
      "Empty DataFrame\n",
      "Columns: [PREDICTION, PROTEIN, MUTATION, INTERACTOR]\n",
      "Index: []\n",
      "2021-11-07 18:21:50 |\u001b[36m DEBUG    \u001b[0m| helpers.helpers_predator.predictions_utils | Removed entries first five rows (of 0): \n",
      "Empty DataFrame\n",
      "Columns: [PREDICTION, PROTEIN, MUTATION, INTERACTOR]\n",
      "Index: []\n",
      "2021-11-07 18:21:50 |\u001b[36m DEBUG    \u001b[0m| helpers.helpers_predator.predictions_utils | Removed entries first five rows (of 0): \n",
      "Empty DataFrame\n",
      "Columns: [PREDICTION, PROTEIN, MUTATION, INTERACTOR]\n",
      "Index: []\n",
      "2021-11-07 18:21:50 |\u001b[36m DEBUG    \u001b[0m| helpers.helpers_predator.predictions_utils | Removed entries first five rows (of 0): \n",
      "Empty DataFrame\n",
      "Columns: [PREDICTION, PROTEIN, MUTATION, INTERACTOR]\n",
      "Index: []\n",
      "2021-11-07 18:21:50 |\u001b[36m DEBUG    \u001b[0m| helpers.helpers_predator.predictions_utils | Removed entries first five rows (of 0): \n",
      "Empty DataFrame\n",
      "Columns: [PREDICTION, PROTEIN, MUTATION, INTERACTOR]\n",
      "Index: []\n",
      "2021-11-07 18:21:50 |\u001b[36m DEBUG    \u001b[0m| helpers.helpers_predator.predictions_utils | Removed entries first five rows (of 0): \n",
      "Empty DataFrame\n",
      "Columns: [PREDICTION, PROTEIN, MUTATION, INTERACTOR]\n",
      "Index: []\n",
      "2021-11-07 18:21:50 |\u001b[36m DEBUG    \u001b[0m| helpers.helpers_predator.predictions_utils | Removed entries first five rows (of 0): \n",
      "Empty DataFrame\n",
      "Columns: [PREDICTION, PROTEIN, MUTATION, INTERACTOR]\n",
      "Index: []\n",
      "2021-11-07 18:21:50 |\u001b[36m DEBUG    \u001b[0m| helpers.helpers_predator.predictions_utils | Removed entries first five rows (of 0): \n",
      "Empty DataFrame\n",
      "Columns: [PREDICTION, PROTEIN, MUTATION, INTERACTOR]\n",
      "Index: []\n",
      "2021-11-07 18:21:50 |\u001b[36m DEBUG    \u001b[0m| helpers.helpers_predator.predictions_utils | Removed entries first five rows (of 0): \n",
      "Empty DataFrame\n",
      "Columns: [PREDICTION, PROTEIN, MUTATION, INTERACTOR]\n",
      "Index: []\n",
      "2021-11-07 18:21:50 |\u001b[36m DEBUG    \u001b[0m| helpers.helpers_predator.predictions_utils | Removed entries first five rows (of 0): \n",
      "Empty DataFrame\n",
      "Columns: [PREDICTION, PROTEIN, MUTATION, INTERACTOR]\n",
      "Index: []\n",
      "2021-11-07 18:21:50 |\u001b[36m DEBUG    \u001b[0m| helpers.helpers_predator.predictions_utils | Removed entries first five rows (of 0): \n",
      "Empty DataFrame\n",
      "Columns: [PREDICTION, PROTEIN, MUTATION, INTERACTOR]\n",
      "Index: []\n",
      "2021-11-07 18:21:50 |\u001b[36m DEBUG    \u001b[0m| helpers.helpers_predator.predictions_utils | Removed entries first five rows (of 0): \n",
      "Empty DataFrame\n",
      "Columns: [PREDICTION, PROTEIN, MUTATION, INTERACTOR]\n",
      "Index: []\n",
      "2021-11-07 18:21:50 |\u001b[36m DEBUG    \u001b[0m| helpers.helpers_predator.predictions_utils | Removed entries first five rows (of 0): \n",
      "Empty DataFrame\n",
      "Columns: [PREDICTION, PROTEIN, MUTATION, INTERACTOR]\n",
      "Index: []\n",
      "2021-11-07 18:21:51 |\u001b[36m DEBUG    \u001b[0m| helpers.helpers_predator.predictions_utils | Removed entries first five rows (of 0): \n",
      "Empty DataFrame\n",
      "Columns: [PREDICTION, PROTEIN, MUTATION, INTERACTOR]\n",
      "Index: []\n",
      "2021-11-07 18:21:51 |\u001b[36m DEBUG    \u001b[0m| helpers.helpers_predator.predictions | Preparing finalized prediction datasets for swaney ..\n",
      "2021-11-07 18:21:51 |\u001b[36m DEBUG    \u001b[0m| helpers.helpers_predator.predictions | Post processing completed for swaney.\n"
     ]
    }
   ],
   "source": [
    "predator.predictions_post_process()"
   ]
  },
  {
   "cell_type": "code",
   "execution_count": 11,
   "id": "f98f0e73-9432-4361-b5c9-c79dfa57da28",
   "metadata": {},
   "outputs": [
    {
     "name": "stdout",
     "output_type": "stream",
     "text": [
      "\u001b[36mData dimensions: (2, 104)\u001b[0m\n"
     ]
    },
    {
     "data": {
      "text/html": [
       "<div>\n",
       "<style scoped>\n",
       "    .dataframe tbody tr th:only-of-type {\n",
       "        vertical-align: middle;\n",
       "    }\n",
       "\n",
       "    .dataframe tbody tr th {\n",
       "        vertical-align: top;\n",
       "    }\n",
       "\n",
       "    .dataframe thead th {\n",
       "        text-align: right;\n",
       "    }\n",
       "</style>\n",
       "<table border=\"1\" class=\"dataframe\">\n",
       "  <thead>\n",
       "    <tr style=\"text-align: right;\">\n",
       "      <th></th>\n",
       "      <th>Prediction</th>\n",
       "      <th>Input_identifier</th>\n",
       "      <th>UniProt_ID</th>\n",
       "      <th>Mutation</th>\n",
       "      <th>Status</th>\n",
       "      <th>Type</th>\n",
       "      <th>COSMIC_mut_ID</th>\n",
       "      <th>ClinVar_mut_ID</th>\n",
       "      <th>UniProt_mut_ID</th>\n",
       "      <th>Domain_name</th>\n",
       "      <th>...</th>\n",
       "      <th>number_of_residues_mut</th>\n",
       "      <th>IntraclashesEnergy1_wt</th>\n",
       "      <th>IntraclashesEnergy1_mut</th>\n",
       "      <th>IntraclashesEnergy2_wt</th>\n",
       "      <th>IntraclashesEnergy2_mut</th>\n",
       "      <th>Interface_hydrophobic_area</th>\n",
       "      <th>Interface_hydrophilic_area</th>\n",
       "      <th>Interface_total_area</th>\n",
       "      <th>Interface_contact_distance_wt</th>\n",
       "      <th>Interface_contact_distance_mut</th>\n",
       "    </tr>\n",
       "  </thead>\n",
       "  <tbody>\n",
       "    <tr>\n",
       "      <th>0</th>\n",
       "      <td>1</td>\n",
       "      <td>P01112</td>\n",
       "      <td>P01112</td>\n",
       "      <td>G12D</td>\n",
       "      <td>done</td>\n",
       "      <td>interface</td>\n",
       "      <td>COSM99915</td>\n",
       "      <td>-</td>\n",
       "      <td>VAR_068816</td>\n",
       "      <td>Ras</td>\n",
       "      <td>...</td>\n",
       "      <td>648</td>\n",
       "      <td>35.9691</td>\n",
       "      <td>35.7047</td>\n",
       "      <td>493.4220</td>\n",
       "      <td>493.4220</td>\n",
       "      <td>None</td>\n",
       "      <td>None</td>\n",
       "      <td>None</td>\n",
       "      <td>4.84060</td>\n",
       "      <td>4.84060</td>\n",
       "    </tr>\n",
       "    <tr>\n",
       "      <th>1</th>\n",
       "      <td>1</td>\n",
       "      <td>P01112</td>\n",
       "      <td>P01112</td>\n",
       "      <td>G12D</td>\n",
       "      <td>done</td>\n",
       "      <td>interface</td>\n",
       "      <td>COSM99915</td>\n",
       "      <td>-</td>\n",
       "      <td>VAR_068816</td>\n",
       "      <td>Ras</td>\n",
       "      <td>...</td>\n",
       "      <td>339</td>\n",
       "      <td>123.5670</td>\n",
       "      <td>123.6360</td>\n",
       "      <td>68.5032</td>\n",
       "      <td>68.5032</td>\n",
       "      <td>539.595</td>\n",
       "      <td>324.98</td>\n",
       "      <td>864.585</td>\n",
       "      <td>3.18758</td>\n",
       "      <td>3.18758</td>\n",
       "    </tr>\n",
       "  </tbody>\n",
       "</table>\n",
       "<p>2 rows × 104 columns</p>\n",
       "</div>"
      ],
      "text/plain": [
       "   Prediction Input_identifier UniProt_ID Mutation Status       Type  \\\n",
       "0           1           P01112     P01112     G12D   done  interface   \n",
       "1           1           P01112     P01112     G12D   done  interface   \n",
       "\n",
       "  COSMIC_mut_ID ClinVar_mut_ID UniProt_mut_ID Domain_name  ...  \\\n",
       "0     COSM99915              -     VAR_068816         Ras  ...   \n",
       "1     COSM99915              -     VAR_068816         Ras  ...   \n",
       "\n",
       "  number_of_residues_mut IntraclashesEnergy1_wt IntraclashesEnergy1_mut  \\\n",
       "0                    648                35.9691                 35.7047   \n",
       "1                    339               123.5670                123.6360   \n",
       "\n",
       "   IntraclashesEnergy2_wt  IntraclashesEnergy2_mut Interface_hydrophobic_area  \\\n",
       "0                493.4220                 493.4220                       None   \n",
       "1                 68.5032                  68.5032                    539.595   \n",
       "\n",
       "  Interface_hydrophilic_area Interface_total_area  \\\n",
       "0                       None                 None   \n",
       "1                     324.98              864.585   \n",
       "\n",
       "  Interface_contact_distance_wt Interface_contact_distance_mut  \n",
       "0                       4.84060                        4.84060  \n",
       "1                       3.18758                        3.18758  \n",
       "\n",
       "[2 rows x 104 columns]"
      ]
     },
     "metadata": {},
     "output_type": "display_data"
    }
   ],
   "source": [
    "display_data(predator.predictions[\"swaney_predicted_datasets\"][0])"
   ]
  },
  {
   "cell_type": "code",
   "execution_count": 12,
   "id": "bb618a00-d560-4c49-94d6-96be0f2f732d",
   "metadata": {},
   "outputs": [
    {
     "data": {
      "image/png": "[encoded data removed]",
      "text/plain": [
       "<Figure size 1080x360 with 1 Axes>"
      ]
     },
     "metadata": {},
     "output_type": "display_data"
    }
   ],
   "source": [
    "predator.predictions.plot_distribution_valid_vs_invalid(\"swaney\")"
   ]
  },
  {
   "cell_type": "code",
   "execution_count": 13,
   "id": "0d3e75fd-46f7-4875-a531-b5510df694c4",
   "metadata": {},
   "outputs": [
    {
     "name": "stdout",
     "output_type": "stream",
     "text": [
      "2021-11-07 18:21:52 |\u001b[36m DEBUG    \u001b[0m| helpers.helpers_predator.predictions | Plotting number of finalized predictions per model.\n",
      "Note that following plot shows the number of (protein, mutation, interactor) triplets which had valid prediction.\n"
     ]
    },
    {
     "data": {
      "image/png": "[encoded data removed]",
      "text/plain": [
       "<Figure size 1080x360 with 1 Axes>"
      ]
     },
     "metadata": {},
     "output_type": "display_data"
    }
   ],
   "source": [
    "predator.predictions.plot_num_finalized_predictions(\"swaney\")"
   ]
  },
  {
   "cell_type": "code",
   "execution_count": 14,
   "id": "84da813c-063a-4c9a-90d3-de334b97c4f8",
   "metadata": {
    "scrolled": true,
    "tags": []
   },
   "outputs": [
    {
     "name": "stdout",
     "output_type": "stream",
     "text": [
      "2021-11-07 18:21:54 |\u001b[36m DEBUG    \u001b[0m| helpers.helpers_predator.predictions | PredictionsHard\n",
      "2021-11-07 18:21:54 |\u001b[36m DEBUG    \u001b[0m| helpers.helpers_predator.predictions | Preparing ensemble prediction data for swaney ..\n"
     ]
    },
    {
     "data": {
      "application/vnd.jupyter.widget-view+json": {
       "model_id": "85d816a1db3349e1876a82a2286d97cc",
       "version_major": 2,
       "version_minor": 0
      },
      "text/plain": [
       "  0%|          | 0/2 [00:00<?, ?it/s]"
      ]
     },
     "metadata": {},
     "output_type": "display_data"
    },
    {
     "name": "stdout",
     "output_type": "stream",
     "text": [
      "2021-11-07 18:21:54 |\u001b[36m DEBUG    \u001b[0m| helpers.helpers_predator.predictions | Ensemble prediction data for swaney is prepared.\n",
      "2021-11-07 18:21:54 |\u001b[36m DEBUG    \u001b[0m| helpers.helpers_predator.predictions | Resulting prediction data is available for swaney.\n",
      "Accessible from predictions.['swaney_prediction_results']\n",
      "2021-11-07 18:21:54 |\u001b[36m DEBUG    \u001b[0m| helpers.helpers_predator.predictions | Resulting prediction data (no_votes dropped) is available for swaney.\n",
      "Accessible from predictions.['swaney_prediction_results_no_votes_dropped']\n"
     ]
    }
   ],
   "source": [
    "predator.prepare_ensemble_prediction_data()"
   ]
  },
  {
   "cell_type": "code",
   "execution_count": 15,
   "id": "eb5d1d06-e73e-41b8-9752-dade6ef3223b",
   "metadata": {},
   "outputs": [
    {
     "name": "stdout",
     "output_type": "stream",
     "text": [
      "\u001b[36mData dimensions: (2, 7)\u001b[0m\n"
     ]
    },
    {
     "data": {
      "text/html": [
       "<div>\n",
       "<style scoped>\n",
       "    .dataframe tbody tr th:only-of-type {\n",
       "        vertical-align: middle;\n",
       "    }\n",
       "\n",
       "    .dataframe tbody tr th {\n",
       "        vertical-align: top;\n",
       "    }\n",
       "\n",
       "    .dataframe thead th {\n",
       "        text-align: right;\n",
       "    }\n",
       "</style>\n",
       "<table border=\"1\" class=\"dataframe\">\n",
       "  <thead>\n",
       "    <tr style=\"text-align: right;\">\n",
       "      <th></th>\n",
       "      <th>UniProt_ID</th>\n",
       "      <th>Mutation</th>\n",
       "      <th>Interactor_UniProt_ID</th>\n",
       "      <th>Num_preds_0</th>\n",
       "      <th>Num_preds_1</th>\n",
       "      <th>Num_preds_NO_VOTE</th>\n",
       "      <th>VOTED_PREDICTION</th>\n",
       "    </tr>\n",
       "  </thead>\n",
       "  <tbody>\n",
       "    <tr>\n",
       "      <th>0</th>\n",
       "      <td>P01112</td>\n",
       "      <td>G12D</td>\n",
       "      <td>O15211</td>\n",
       "      <td>8</td>\n",
       "      <td>29</td>\n",
       "      <td>0</td>\n",
       "      <td>1</td>\n",
       "    </tr>\n",
       "    <tr>\n",
       "      <th>1</th>\n",
       "      <td>P01112</td>\n",
       "      <td>G12D</td>\n",
       "      <td>Q13671</td>\n",
       "      <td>4</td>\n",
       "      <td>33</td>\n",
       "      <td>0</td>\n",
       "      <td>1</td>\n",
       "    </tr>\n",
       "  </tbody>\n",
       "</table>\n",
       "</div>"
      ],
      "text/plain": [
       "  UniProt_ID Mutation Interactor_UniProt_ID  Num_preds_0  Num_preds_1  \\\n",
       "0     P01112     G12D                O15211            8           29   \n",
       "1     P01112     G12D                Q13671            4           33   \n",
       "\n",
       "   Num_preds_NO_VOTE  VOTED_PREDICTION  \n",
       "0                  0                 1  \n",
       "1                  0                 1  "
      ]
     },
     "metadata": {},
     "output_type": "display_data"
    }
   ],
   "source": [
    "display_data(predator.predictions[\"swaney_ensemble_prediction_data\"])"
   ]
  },
  {
   "cell_type": "code",
   "execution_count": 16,
   "id": "b6d57ef9-cb32-4293-ae75-3996bb7ab935",
   "metadata": {},
   "outputs": [
    {
     "name": "stdout",
     "output_type": "stream",
     "text": [
      "\u001b[36mData dimensions: (2, 103)\u001b[0m\n"
     ]
    },
    {
     "data": {
      "text/html": [
       "<div>\n",
       "<style scoped>\n",
       "    .dataframe tbody tr th:only-of-type {\n",
       "        vertical-align: middle;\n",
       "    }\n",
       "\n",
       "    .dataframe tbody tr th {\n",
       "        vertical-align: top;\n",
       "    }\n",
       "\n",
       "    .dataframe thead th {\n",
       "        text-align: right;\n",
       "    }\n",
       "</style>\n",
       "<table border=\"1\" class=\"dataframe\">\n",
       "  <thead>\n",
       "    <tr style=\"text-align: right;\">\n",
       "      <th></th>\n",
       "      <th>Input_identifier</th>\n",
       "      <th>UniProt_ID</th>\n",
       "      <th>Mutation</th>\n",
       "      <th>Status</th>\n",
       "      <th>Type</th>\n",
       "      <th>COSMIC_mut_ID</th>\n",
       "      <th>ClinVar_mut_ID</th>\n",
       "      <th>UniProt_mut_ID</th>\n",
       "      <th>Domain_name</th>\n",
       "      <th>Domain_clan</th>\n",
       "      <th>...</th>\n",
       "      <th>number_of_residues_mut</th>\n",
       "      <th>IntraclashesEnergy1_wt</th>\n",
       "      <th>IntraclashesEnergy1_mut</th>\n",
       "      <th>IntraclashesEnergy2_wt</th>\n",
       "      <th>IntraclashesEnergy2_mut</th>\n",
       "      <th>Interface_hydrophobic_area</th>\n",
       "      <th>Interface_hydrophilic_area</th>\n",
       "      <th>Interface_total_area</th>\n",
       "      <th>Interface_contact_distance_wt</th>\n",
       "      <th>Interface_contact_distance_mut</th>\n",
       "    </tr>\n",
       "  </thead>\n",
       "  <tbody>\n",
       "    <tr>\n",
       "      <th>0</th>\n",
       "      <td>P01112</td>\n",
       "      <td>P01112</td>\n",
       "      <td>G12D</td>\n",
       "      <td>done</td>\n",
       "      <td>interface</td>\n",
       "      <td>COSM99915</td>\n",
       "      <td>-</td>\n",
       "      <td>VAR_068816</td>\n",
       "      <td>Ras</td>\n",
       "      <td>Ras</td>\n",
       "      <td>...</td>\n",
       "      <td>648</td>\n",
       "      <td>35.9691</td>\n",
       "      <td>35.7047</td>\n",
       "      <td>493.4220</td>\n",
       "      <td>493.4220</td>\n",
       "      <td>None</td>\n",
       "      <td>None</td>\n",
       "      <td>None</td>\n",
       "      <td>4.84060</td>\n",
       "      <td>4.84060</td>\n",
       "    </tr>\n",
       "    <tr>\n",
       "      <th>1</th>\n",
       "      <td>P01112</td>\n",
       "      <td>P01112</td>\n",
       "      <td>G12D</td>\n",
       "      <td>done</td>\n",
       "      <td>interface</td>\n",
       "      <td>COSM99915</td>\n",
       "      <td>-</td>\n",
       "      <td>VAR_068816</td>\n",
       "      <td>Ras</td>\n",
       "      <td>Ras</td>\n",
       "      <td>...</td>\n",
       "      <td>339</td>\n",
       "      <td>123.5670</td>\n",
       "      <td>123.6360</td>\n",
       "      <td>68.5032</td>\n",
       "      <td>68.5032</td>\n",
       "      <td>539.595</td>\n",
       "      <td>324.98</td>\n",
       "      <td>864.585</td>\n",
       "      <td>3.18758</td>\n",
       "      <td>3.18758</td>\n",
       "    </tr>\n",
       "  </tbody>\n",
       "</table>\n",
       "<p>2 rows × 103 columns</p>\n",
       "</div>"
      ],
      "text/plain": [
       "  Input_identifier UniProt_ID Mutation Status       Type COSMIC_mut_ID  \\\n",
       "0           P01112     P01112     G12D   done  interface     COSM99915   \n",
       "1           P01112     P01112     G12D   done  interface     COSM99915   \n",
       "\n",
       "  ClinVar_mut_ID UniProt_mut_ID Domain_name Domain_clan  ...  \\\n",
       "0              -     VAR_068816         Ras         Ras  ...   \n",
       "1              -     VAR_068816         Ras         Ras  ...   \n",
       "\n",
       "  number_of_residues_mut IntraclashesEnergy1_wt  IntraclashesEnergy1_mut  \\\n",
       "0                    648                35.9691                  35.7047   \n",
       "1                    339               123.5670                 123.6360   \n",
       "\n",
       "   IntraclashesEnergy2_wt IntraclashesEnergy2_mut Interface_hydrophobic_area  \\\n",
       "0                493.4220                493.4220                       None   \n",
       "1                 68.5032                 68.5032                    539.595   \n",
       "\n",
       "  Interface_hydrophilic_area Interface_total_area  \\\n",
       "0                       None                 None   \n",
       "1                     324.98              864.585   \n",
       "\n",
       "  Interface_contact_distance_wt  Interface_contact_distance_mut  \n",
       "0                       4.84060                         4.84060  \n",
       "1                       3.18758                         3.18758  \n",
       "\n",
       "[2 rows x 103 columns]"
      ]
     },
     "metadata": {},
     "output_type": "display_data"
    }
   ],
   "source": [
    "display_data(predator.data_materials[\"swaney\"])"
   ]
  },
  {
   "cell_type": "code",
   "execution_count": 17,
   "id": "e58ab8be-1322-4236-bad6-6a816a0a4112",
   "metadata": {},
   "outputs": [
    {
     "name": "stdout",
     "output_type": "stream",
     "text": [
      "\u001b[36mData dimensions: (2, 10)\u001b[0m\n"
     ]
    },
    {
     "data": {
      "text/html": [
       "<div>\n",
       "<style scoped>\n",
       "    .dataframe tbody tr th:only-of-type {\n",
       "        vertical-align: middle;\n",
       "    }\n",
       "\n",
       "    .dataframe tbody tr th {\n",
       "        vertical-align: top;\n",
       "    }\n",
       "\n",
       "    .dataframe thead th {\n",
       "        text-align: right;\n",
       "    }\n",
       "</style>\n",
       "<table border=\"1\" class=\"dataframe\">\n",
       "  <thead>\n",
       "    <tr style=\"text-align: right;\">\n",
       "      <th></th>\n",
       "      <th>Provean_score</th>\n",
       "      <th>EL2_score</th>\n",
       "      <th>Final_ddG</th>\n",
       "      <th>Interactor_alignment_score</th>\n",
       "      <th>Solvent_accessibility_wt</th>\n",
       "      <th>Matrix_score</th>\n",
       "      <th>Solvent_accessibility_mut</th>\n",
       "      <th>van_der_waals_mut</th>\n",
       "      <th>Interactor_template_sequence_identity</th>\n",
       "      <th>solvation_polar_wt</th>\n",
       "    </tr>\n",
       "  </thead>\n",
       "  <tbody>\n",
       "    <tr>\n",
       "      <th>0</th>\n",
       "      <td>-4.673</td>\n",
       "      <td>2.465407</td>\n",
       "      <td>0.195902</td>\n",
       "      <td>0.239415</td>\n",
       "      <td>37.2740</td>\n",
       "      <td>-2.0</td>\n",
       "      <td>29.0554</td>\n",
       "      <td>-28.7332</td>\n",
       "      <td>0.2359</td>\n",
       "      <td>41.6423</td>\n",
       "    </tr>\n",
       "    <tr>\n",
       "      <th>1</th>\n",
       "      <td>-4.673</td>\n",
       "      <td>2.206550</td>\n",
       "      <td>0.924640</td>\n",
       "      <td>0.201405</td>\n",
       "      <td>54.8345</td>\n",
       "      <td>-2.0</td>\n",
       "      <td>73.5753</td>\n",
       "      <td>-22.6161</td>\n",
       "      <td>0.3143</td>\n",
       "      <td>31.3880</td>\n",
       "    </tr>\n",
       "  </tbody>\n",
       "</table>\n",
       "</div>"
      ],
      "text/plain": [
       "   Provean_score  EL2_score  Final_ddG  Interactor_alignment_score  \\\n",
       "0         -4.673   2.465407   0.195902                    0.239415   \n",
       "1         -4.673   2.206550   0.924640                    0.201405   \n",
       "\n",
       "   Solvent_accessibility_wt  Matrix_score  Solvent_accessibility_mut  \\\n",
       "0                   37.2740          -2.0                    29.0554   \n",
       "1                   54.8345          -2.0                    73.5753   \n",
       "\n",
       "   van_der_waals_mut  Interactor_template_sequence_identity  \\\n",
       "0           -28.7332                                 0.2359   \n",
       "1           -22.6161                                 0.3143   \n",
       "\n",
       "   solvation_polar_wt  \n",
       "0             41.6423  \n",
       "1             31.3880  "
      ]
     },
     "metadata": {},
     "output_type": "display_data"
    }
   ],
   "source": [
    "display_data(predator.data_materials[\"Xs_swaney\"][0])"
   ]
  },
  {
   "cell_type": "code",
   "execution_count": 18,
   "id": "72d9cc39-3bc8-41e1-a621-8f433045d15c",
   "metadata": {},
   "outputs": [
    {
     "data": {
      "image/png": "[encoded data removed]",
      "text/plain": [
       "<Figure size 432x288 with 1 Axes>"
      ]
     },
     "metadata": {},
     "output_type": "display_data"
    }
   ],
   "source": [
    "predator.predictions.plot_ensemble_prediction_distribution(\"swaney\")"
   ]
  },
  {
   "cell_type": "code",
   "execution_count": 19,
   "id": "5aac8ddb-af92-4692-8f7f-b70a5e6a15f0",
   "metadata": {},
   "outputs": [
    {
     "name": "stdout",
     "output_type": "stream",
     "text": [
      "\u001b[36mData dimensions: (2, 4)\u001b[0m\n"
     ]
    },
    {
     "data": {
      "text/html": [
       "<div>\n",
       "<style scoped>\n",
       "    .dataframe tbody tr th:only-of-type {\n",
       "        vertical-align: middle;\n",
       "    }\n",
       "\n",
       "    .dataframe tbody tr th {\n",
       "        vertical-align: top;\n",
       "    }\n",
       "\n",
       "    .dataframe thead th {\n",
       "        text-align: right;\n",
       "    }\n",
       "</style>\n",
       "<table border=\"1\" class=\"dataframe\">\n",
       "  <thead>\n",
       "    <tr style=\"text-align: right;\">\n",
       "      <th></th>\n",
       "      <th>UniProt_ID</th>\n",
       "      <th>Mutation</th>\n",
       "      <th>Interactor_UniProt_ID</th>\n",
       "      <th>Prediction</th>\n",
       "    </tr>\n",
       "  </thead>\n",
       "  <tbody>\n",
       "    <tr>\n",
       "      <th>0</th>\n",
       "      <td>P01112</td>\n",
       "      <td>G12D</td>\n",
       "      <td>O15211</td>\n",
       "      <td>1</td>\n",
       "    </tr>\n",
       "    <tr>\n",
       "      <th>1</th>\n",
       "      <td>P01112</td>\n",
       "      <td>G12D</td>\n",
       "      <td>Q13671</td>\n",
       "      <td>1</td>\n",
       "    </tr>\n",
       "  </tbody>\n",
       "</table>\n",
       "</div>"
      ],
      "text/plain": [
       "  UniProt_ID Mutation Interactor_UniProt_ID  Prediction\n",
       "0     P01112     G12D                O15211           1\n",
       "1     P01112     G12D                Q13671           1"
      ]
     },
     "metadata": {},
     "output_type": "display_data"
    }
   ],
   "source": [
    "swaney_prediction_results_hard = predator.predictions[\"swaney_prediction_results\"]\n",
    "display_data(swaney_prediction_results_hard)"
   ]
  },
  {
   "cell_type": "code",
   "execution_count": 20,
   "id": "bd9a6309-71f1-4128-9189-1b5ef288d419",
   "metadata": {},
   "outputs": [],
   "source": [
    "swaney_ensemble_prediction_data_hard = predator.predictions[\"swaney_ensemble_prediction_data\"]"
   ]
  },
  {
   "cell_type": "code",
   "execution_count": 21,
   "id": "7829bfca-80ff-4904-ba71-ff127ce91d99",
   "metadata": {},
   "outputs": [
    {
     "name": "stdout",
     "output_type": "stream",
     "text": [
      "\u001b[36mData dimensions: (2, 4)\u001b[0m\n"
     ]
    },
    {
     "data": {
      "text/html": [
       "<div>\n",
       "<style scoped>\n",
       "    .dataframe tbody tr th:only-of-type {\n",
       "        vertical-align: middle;\n",
       "    }\n",
       "\n",
       "    .dataframe tbody tr th {\n",
       "        vertical-align: top;\n",
       "    }\n",
       "\n",
       "    .dataframe thead th {\n",
       "        text-align: right;\n",
       "    }\n",
       "</style>\n",
       "<table border=\"1\" class=\"dataframe\">\n",
       "  <thead>\n",
       "    <tr style=\"text-align: right;\">\n",
       "      <th></th>\n",
       "      <th>UniProt_ID</th>\n",
       "      <th>Mutation</th>\n",
       "      <th>Interactor_UniProt_ID</th>\n",
       "      <th>Prediction</th>\n",
       "    </tr>\n",
       "  </thead>\n",
       "  <tbody>\n",
       "    <tr>\n",
       "      <th>0</th>\n",
       "      <td>P01112</td>\n",
       "      <td>G12D</td>\n",
       "      <td>O15211</td>\n",
       "      <td>1</td>\n",
       "    </tr>\n",
       "    <tr>\n",
       "      <th>1</th>\n",
       "      <td>P01112</td>\n",
       "      <td>G12D</td>\n",
       "      <td>Q13671</td>\n",
       "      <td>1</td>\n",
       "    </tr>\n",
       "  </tbody>\n",
       "</table>\n",
       "</div>"
      ],
      "text/plain": [
       "  UniProt_ID Mutation Interactor_UniProt_ID  Prediction\n",
       "0     P01112     G12D                O15211           1\n",
       "1     P01112     G12D                Q13671           1"
      ]
     },
     "metadata": {},
     "output_type": "display_data"
    }
   ],
   "source": [
    "swaney_prediction_results_hard_no_votes_dropped = predator.predictions[\"swaney_prediction_results_no_votes_dropped\"]\n",
    "display_data(swaney_prediction_results_hard_no_votes_dropped)"
   ]
  },
  {
   "cell_type": "code",
   "execution_count": 22,
   "id": "b3ade43e-0bec-4502-bc28-50e7bb7df21d",
   "metadata": {},
   "outputs": [
    {
     "name": "stdout",
     "output_type": "stream",
     "text": [
      "\u001b[36mLabel counts:\n",
      "Increasing + No Effect    2\n",
      "Name: Prediction, dtype: int64\u001b[0m\n"
     ]
    },
    {
     "data": {
      "image/png": "[encoded data removed]",
      "text/plain": [
       "<Figure size 432x288 with 1 Axes>"
      ]
     },
     "metadata": {},
     "output_type": "display_data"
    }
   ],
   "source": [
    "visualize_label_counts(swaney_prediction_results_hard_no_votes_dropped, 'Prediction')"
   ]
  },
  {
   "cell_type": "markdown",
   "id": "24a0885e-6d45-438c-b437-0690cb59c39c",
   "metadata": {
    "tags": []
   },
   "source": [
    "### Voting mode: `soft`"
   ]
  },
  {
   "cell_type": "code",
   "execution_count": 23,
   "id": "0abc2a49-f2ee-439a-b450-52e430539c81",
   "metadata": {},
   "outputs": [
    {
     "name": "stdout",
     "output_type": "stream",
     "text": [
      "2021-11-07 18:21:56 |\u001b[36m DEBUG    \u001b[0m| helpers.helpers_predator.data_materials | Initialize `swaney` ..\n",
      "2021-11-07 18:21:56 |\u001b[36m DEBUG    \u001b[0m| helpers.helpers_predator.data_materials | Initialize `target_swaney_data` ..\n",
      "2021-11-07 18:21:57 |\u001b[36m DEBUG    \u001b[0m| helpers.helpers_predator.data_materials | Initializing target data materials ..\n",
      "2021-11-07 18:21:57 |\u001b[36m DEBUG    \u001b[0m| helpers.helpers_predator.data_materials | Determined features: ['Provean_score', 'EL2_score', 'Final_ddG', 'Interactor_alignment_score', 'Solvent_accessibility_wt', 'Matrix_score', 'Solvent_accessibility_mut', 'van_der_waals_mut', 'Interactor_template_sequence_identity', 'solvation_polar_wt']\n",
      "2021-11-07 18:21:57 |\u001b[36m DEBUG    \u001b[0m| helpers.helpers_predator.data_materials | Declaring Xs_swaney data materials  ..\n"
     ]
    }
   ],
   "source": [
    "predator.initialize_target_data_materials(\n",
    "    tcga_code_path_pairs=[('swaney', SWANEY_PATH)]\n",
    ")"
   ]
  },
  {
   "cell_type": "code",
   "execution_count": 24,
   "id": "f373d5a6-ac98-4da0-ad93-cd80cdaf02da",
   "metadata": {
    "scrolled": true,
    "tags": []
   },
   "outputs": [
    {
     "name": "stdout",
     "output_type": "stream",
     "text": [
      "2021-11-07 18:21:57 |\u001b[36m DEBUG    \u001b[0m| Predator | Predicting on cancer datasets ..\n",
      "2021-11-07 18:21:57 |\u001b[36m DEBUG    \u001b[0m| helpers.helpers_predator.models | Initializing EnsambledVotingClassifier.\n",
      "2021-11-07 18:21:57 |\u001b[36m DEBUG    \u001b[0m| helpers.helpers_predator.models | Voting mode: soft\n",
      "2021-11-07 18:21:57 |\u001b[36m DEBUG    \u001b[0m| helpers.helpers_predator.predictions | Initializing: PredictionsSoft\n",
      "2021-11-07 18:21:57 |\u001b[36m DEBUG    \u001b[0m| Predator | Predicting on swaney cohort ..\n",
      "2021-11-07 18:21:57 |\u001b[36m DEBUG    \u001b[0m| helpers.helpers_predator.models | Current estimator: RandomForestClassifier(bootstrap=False, class_weight='balanced', max_depth=4,\n",
      "                       max_features='sqrt', n_estimators=600,\n",
      "                       random_state=14593)\n",
      "2021-11-07 18:21:57 |\u001b[36m DEBUG    \u001b[0m| helpers.helpers_predator.models | X shape: (2, 10)\n",
      "2021-11-07 18:21:57 |\u001b[36m DEBUG    \u001b[0m| helpers.helpers_predator.models | Current estimator: RandomForestClassifier(bootstrap=False, max_depth=8, max_features=None,\n",
      "                       min_samples_leaf=2, n_estimators=480, random_state=3279)\n",
      "2021-11-07 18:21:57 |\u001b[36m DEBUG    \u001b[0m| helpers.helpers_predator.models | X shape: (2, 10)\n",
      "2021-11-07 18:21:57 |\u001b[36m DEBUG    \u001b[0m| helpers.helpers_predator.models | Current estimator: RandomForestClassifier(class_weight='balanced', max_depth=11,\n",
      "                       min_samples_split=5, n_estimators=120,\n",
      "                       random_state=36049)\n",
      "2021-11-07 18:21:57 |\u001b[36m DEBUG    \u001b[0m| helpers.helpers_predator.models | X shape: (2, 10)\n",
      "2021-11-07 18:21:57 |\u001b[36m DEBUG    \u001b[0m| helpers.helpers_predator.models | Current estimator: RandomForestClassifier(class_weight='balanced', max_depth=3,\n",
      "                       max_features='sqrt', min_samples_leaf=4, n_estimators=40,\n",
      "                       random_state=18290)\n",
      "2021-11-07 18:21:57 |\u001b[36m DEBUG    \u001b[0m| helpers.helpers_predator.models | X shape: (2, 10)\n",
      "2021-11-07 18:21:57 |\u001b[36m DEBUG    \u001b[0m| helpers.helpers_predator.models | Current estimator: RandomForestClassifier(bootstrap=False, max_depth=11, max_features='sqrt',\n",
      "                       min_samples_split=5, n_estimators=460,\n",
      "                       random_state=96531)\n",
      "2021-11-07 18:21:57 |\u001b[36m DEBUG    \u001b[0m| helpers.helpers_predator.models | X shape: (2, 10)\n",
      "2021-11-07 18:21:57 |\u001b[36m DEBUG    \u001b[0m| helpers.helpers_predator.models | Current estimator: RandomForestClassifier(class_weight='balanced', max_depth=12,\n",
      "                       min_samples_leaf=4, min_samples_split=5, n_estimators=80,\n",
      "                       random_state=13435)\n",
      "2021-11-07 18:21:57 |\u001b[36m DEBUG    \u001b[0m| helpers.helpers_predator.models | X shape: (2, 10)\n",
      "2021-11-07 18:21:57 |\u001b[36m DEBUG    \u001b[0m| helpers.helpers_predator.models | Current estimator: RandomForestClassifier(class_weight='balanced', max_depth=2,\n",
      "                       min_samples_split=5, n_estimators=500,\n",
      "                       random_state=88697)\n",
      "2021-11-07 18:21:57 |\u001b[36m DEBUG    \u001b[0m| helpers.helpers_predator.models | X shape: (2, 10)\n",
      "2021-11-07 18:21:57 |\u001b[36m DEBUG    \u001b[0m| helpers.helpers_predator.models | Current estimator: RandomForestClassifier(bootstrap=False, class_weight='balanced', max_depth=7,\n",
      "                       max_features='sqrt', min_samples_leaf=2,\n",
      "                       min_samples_split=5, n_estimators=280,\n",
      "                       random_state=97081)\n",
      "2021-11-07 18:21:57 |\u001b[36m DEBUG    \u001b[0m| helpers.helpers_predator.models | X shape: (2, 10)\n",
      "2021-11-07 18:21:57 |\u001b[36m DEBUG    \u001b[0m| helpers.helpers_predator.models | Current estimator: RandomForestClassifier(bootstrap=False, max_depth=3, max_features='sqrt',\n",
      "                       min_samples_leaf=2, n_estimators=60, random_state=71483)\n",
      "2021-11-07 18:21:57 |\u001b[36m DEBUG    \u001b[0m| helpers.helpers_predator.models | X shape: (2, 10)\n",
      "2021-11-07 18:21:57 |\u001b[36m DEBUG    \u001b[0m| helpers.helpers_predator.models | Current estimator: RandomForestClassifier(class_weight='balanced', max_depth=2,\n",
      "                       max_features='sqrt', min_samples_leaf=4,\n",
      "                       n_estimators=440, random_state=11396)\n",
      "2021-11-07 18:21:57 |\u001b[36m DEBUG    \u001b[0m| helpers.helpers_predator.models | X shape: (2, 10)\n",
      "2021-11-07 18:21:57 |\u001b[36m DEBUG    \u001b[0m| helpers.helpers_predator.models | Current estimator: RandomForestClassifier(bootstrap=False, max_depth=6, min_samples_leaf=2,\n",
      "                       min_samples_split=5, n_estimators=80,\n",
      "                       random_state=77398)\n",
      "2021-11-07 18:21:57 |\u001b[36m DEBUG    \u001b[0m| helpers.helpers_predator.models | X shape: (2, 10)\n",
      "2021-11-07 18:21:58 |\u001b[36m DEBUG    \u001b[0m| helpers.helpers_predator.models | Current estimator: RandomForestClassifier(max_depth=8, max_features='sqrt', min_samples_split=5,\n",
      "                       n_estimators=20, random_state=55303)\n",
      "2021-11-07 18:21:58 |\u001b[36m DEBUG    \u001b[0m| helpers.helpers_predator.models | X shape: (2, 10)\n",
      "2021-11-07 18:21:58 |\u001b[36m DEBUG    \u001b[0m| helpers.helpers_predator.models | Current estimator: RandomForestClassifier(class_weight='balanced', max_depth=4,\n",
      "                       min_samples_split=5, random_state=4166)\n",
      "2021-11-07 18:21:58 |\u001b[36m DEBUG    \u001b[0m| helpers.helpers_predator.models | X shape: (2, 10)\n",
      "2021-11-07 18:21:58 |\u001b[36m DEBUG    \u001b[0m| helpers.helpers_predator.models | Current estimator: RandomForestClassifier(bootstrap=False, max_depth=13, max_features='sqrt',\n",
      "                       min_samples_split=5, n_estimators=380,\n",
      "                       random_state=12281)\n",
      "2021-11-07 18:21:58 |\u001b[36m DEBUG    \u001b[0m| helpers.helpers_predator.models | X shape: (2, 10)\n",
      "2021-11-07 18:21:58 |\u001b[36m DEBUG    \u001b[0m| helpers.helpers_predator.models | Current estimator: RandomForestClassifier(bootstrap=False, class_weight='balanced', max_depth=4,\n",
      "                       max_features='sqrt', n_estimators=10,\n",
      "                       random_state=28658)\n",
      "2021-11-07 18:21:58 |\u001b[36m DEBUG    \u001b[0m| helpers.helpers_predator.models | X shape: (2, 10)\n",
      "2021-11-07 18:21:58 |\u001b[36m DEBUG    \u001b[0m| helpers.helpers_predator.models | Current estimator: RandomForestClassifier(class_weight='balanced', max_depth=3, min_samples_leaf=2,\n",
      "                       n_estimators=30, random_state=30496)\n",
      "2021-11-07 18:21:58 |\u001b[36m DEBUG    \u001b[0m| helpers.helpers_predator.models | X shape: (2, 10)\n",
      "2021-11-07 18:21:58 |\u001b[36m DEBUG    \u001b[0m| helpers.helpers_predator.models | Current estimator: RandomForestClassifier(class_weight='balanced', max_depth=11,\n",
      "                       min_samples_leaf=4, n_estimators=120,\n",
      "                       random_state=66238)\n",
      "2021-11-07 18:21:58 |\u001b[36m DEBUG    \u001b[0m| helpers.helpers_predator.models | X shape: (2, 10)\n",
      "2021-11-07 18:21:58 |\u001b[36m DEBUG    \u001b[0m| helpers.helpers_predator.models | Current estimator: RandomForestClassifier(class_weight='balanced', max_depth=2,\n",
      "                       max_features='sqrt', n_estimators=340,\n",
      "                       random_state=3479)\n",
      "2021-11-07 18:21:58 |\u001b[36m DEBUG    \u001b[0m| helpers.helpers_predator.models | X shape: (2, 10)\n",
      "2021-11-07 18:21:58 |\u001b[36m DEBUG    \u001b[0m| helpers.helpers_predator.models | Current estimator: RandomForestClassifier(class_weight='balanced', max_depth=3,\n",
      "                       max_features='sqrt', min_samples_leaf=4,\n",
      "                       n_estimators=480, random_state=26063)\n",
      "2021-11-07 18:21:58 |\u001b[36m DEBUG    \u001b[0m| helpers.helpers_predator.models | X shape: (2, 10)\n",
      "2021-11-07 18:21:58 |\u001b[36m DEBUG    \u001b[0m| helpers.helpers_predator.models | Current estimator: RandomForestClassifier(class_weight='balanced', max_depth=3, min_samples_leaf=2,\n",
      "                       n_estimators=560, random_state=85182)\n",
      "2021-11-07 18:21:58 |\u001b[36m DEBUG    \u001b[0m| helpers.helpers_predator.models | X shape: (2, 10)\n",
      "2021-11-07 18:21:58 |\u001b[36m DEBUG    \u001b[0m| helpers.helpers_predator.models | Current estimator: RandomForestClassifier(class_weight='balanced', max_depth=13,\n",
      "                       min_samples_leaf=4, min_samples_split=5, n_estimators=40,\n",
      "                       random_state=91925)\n",
      "2021-11-07 18:21:58 |\u001b[36m DEBUG    \u001b[0m| helpers.helpers_predator.models | X shape: (2, 10)\n",
      "2021-11-07 18:21:58 |\u001b[36m DEBUG    \u001b[0m| helpers.helpers_predator.models | Current estimator: RandomForestClassifier(class_weight='balanced', max_depth=2, min_samples_leaf=4,\n",
      "                       min_samples_split=5, n_estimators=280,\n",
      "                       random_state=54988)\n",
      "2021-11-07 18:21:58 |\u001b[36m DEBUG    \u001b[0m| helpers.helpers_predator.models | X shape: (2, 10)\n",
      "2021-11-07 18:21:58 |\u001b[36m DEBUG    \u001b[0m| helpers.helpers_predator.models | Current estimator: RandomForestClassifier(class_weight='balanced', max_depth=11,\n",
      "                       max_features='sqrt', min_samples_leaf=2,\n",
      "                       min_samples_split=5, n_estimators=360,\n",
      "                       random_state=58879)\n",
      "2021-11-07 18:21:58 |\u001b[36m DEBUG    \u001b[0m| helpers.helpers_predator.models | X shape: (2, 10)\n",
      "2021-11-07 18:21:58 |\u001b[36m DEBUG    \u001b[0m| helpers.helpers_predator.models | Current estimator: RandomForestClassifier(max_depth=7, n_estimators=20, random_state=77237)\n",
      "2021-11-07 18:21:58 |\u001b[36m DEBUG    \u001b[0m| helpers.helpers_predator.models | X shape: (2, 10)\n",
      "2021-11-07 18:21:58 |\u001b[36m DEBUG    \u001b[0m| helpers.helpers_predator.models | Current estimator: RandomForestClassifier(bootstrap=False, max_depth=14, min_samples_leaf=4,\n",
      "                       min_samples_split=5, n_estimators=20, random_state=852)\n",
      "2021-11-07 18:21:58 |\u001b[36m DEBUG    \u001b[0m| helpers.helpers_predator.models | X shape: (2, 10)\n",
      "2021-11-07 18:21:58 |\u001b[36m DEBUG    \u001b[0m| helpers.helpers_predator.models | Current estimator: RandomForestClassifier(class_weight='balanced', max_depth=8,\n",
      "                       max_features='sqrt', min_samples_leaf=4,\n",
      "                       min_samples_split=5, n_estimators=520,\n",
      "                       random_state=99459)\n",
      "2021-11-07 18:21:58 |\u001b[36m DEBUG    \u001b[0m| helpers.helpers_predator.models | X shape: (2, 10)\n",
      "2021-11-07 18:21:58 |\u001b[36m DEBUG    \u001b[0m| helpers.helpers_predator.models | Current estimator: RandomForestClassifier(class_weight='balanced', max_depth=6, min_samples_leaf=4,\n",
      "                       min_samples_split=5, n_estimators=260,\n",
      "                       random_state=20927)\n",
      "2021-11-07 18:21:58 |\u001b[36m DEBUG    \u001b[0m| helpers.helpers_predator.models | X shape: (2, 10)\n",
      "2021-11-07 18:21:58 |\u001b[36m DEBUG    \u001b[0m| helpers.helpers_predator.models | Current estimator: RandomForestClassifier(max_depth=9, min_samples_leaf=4, n_estimators=580,\n",
      "                       random_state=55393)\n",
      "2021-11-07 18:21:58 |\u001b[36m DEBUG    \u001b[0m| helpers.helpers_predator.models | X shape: (2, 10)\n",
      "2021-11-07 18:21:58 |\u001b[36m DEBUG    \u001b[0m| helpers.helpers_predator.models | Current estimator: RandomForestClassifier(bootstrap=False, class_weight='balanced', max_depth=7,\n",
      "                       min_samples_split=5, n_estimators=140,\n",
      "                       random_state=36422)\n",
      "2021-11-07 18:21:58 |\u001b[36m DEBUG    \u001b[0m| helpers.helpers_predator.models | X shape: (2, 10)\n",
      "2021-11-07 18:21:58 |\u001b[36m DEBUG    \u001b[0m| helpers.helpers_predator.models | Current estimator: RandomForestClassifier(bootstrap=False, max_depth=11, n_estimators=540,\n",
      "                       random_state=20380)\n",
      "2021-11-07 18:21:58 |\u001b[36m DEBUG    \u001b[0m| helpers.helpers_predator.models | X shape: (2, 10)\n",
      "2021-11-07 18:21:58 |\u001b[36m DEBUG    \u001b[0m| helpers.helpers_predator.models | Current estimator: RandomForestClassifier(class_weight='balanced', max_depth=8, min_samples_leaf=2,\n",
      "                       n_estimators=5, random_state=28222)\n",
      "2021-11-07 18:21:58 |\u001b[36m DEBUG    \u001b[0m| helpers.helpers_predator.models | X shape: (2, 10)\n",
      "2021-11-07 18:21:58 |\u001b[36m DEBUG    \u001b[0m| helpers.helpers_predator.models | Current estimator: RandomForestClassifier(class_weight='balanced', max_depth=6,\n",
      "                       min_samples_split=5, n_estimators=560,\n",
      "                       random_state=44119)\n",
      "2021-11-07 18:21:58 |\u001b[36m DEBUG    \u001b[0m| helpers.helpers_predator.models | X shape: (2, 10)\n",
      "2021-11-07 18:21:58 |\u001b[36m DEBUG    \u001b[0m| helpers.helpers_predator.models | Current estimator: RandomForestClassifier(class_weight='balanced', max_depth=10,\n",
      "                       max_features='sqrt', min_samples_leaf=4,\n",
      "                       n_estimators=320, random_state=13397)\n",
      "2021-11-07 18:21:58 |\u001b[36m DEBUG    \u001b[0m| helpers.helpers_predator.models | X shape: (2, 10)\n",
      "2021-11-07 18:21:58 |\u001b[36m DEBUG    \u001b[0m| helpers.helpers_predator.models | Current estimator: RandomForestClassifier(class_weight='balanced', max_depth=3,\n",
      "                       max_features='sqrt', min_samples_split=5,\n",
      "                       n_estimators=120, random_state=12157)\n",
      "2021-11-07 18:21:58 |\u001b[36m DEBUG    \u001b[0m| helpers.helpers_predator.models | X shape: (2, 10)\n",
      "2021-11-07 18:21:58 |\u001b[36m DEBUG    \u001b[0m| helpers.helpers_predator.models | Current estimator: RandomForestClassifier(bootstrap=False, class_weight='balanced', max_depth=2,\n",
      "                       min_samples_split=5, n_estimators=360,\n",
      "                       random_state=49798)\n",
      "2021-11-07 18:21:58 |\u001b[36m DEBUG    \u001b[0m| helpers.helpers_predator.models | X shape: (2, 10)\n",
      "2021-11-07 18:21:59 |\u001b[36m DEBUG    \u001b[0m| helpers.helpers_predator.models | Current estimator: RandomForestClassifier(bootstrap=False, class_weight='balanced', max_depth=2,\n",
      "                       min_samples_leaf=2, min_samples_split=5, n_estimators=40,\n",
      "                       random_state=12677)\n",
      "2021-11-07 18:21:59 |\u001b[36m DEBUG    \u001b[0m| helpers.helpers_predator.models | X shape: (2, 10)\n",
      "2021-11-07 18:21:59 |\u001b[36m DEBUG    \u001b[0m| helpers.helpers_predator.models | Current estimator: RandomForestClassifier(bootstrap=False, class_weight='balanced', max_depth=5,\n",
      "                       min_samples_leaf=4, min_samples_split=5,\n",
      "                       n_estimators=120, random_state=47053)\n",
      "2021-11-07 18:21:59 |\u001b[36m DEBUG    \u001b[0m| helpers.helpers_predator.models | X shape: (2, 10)\n",
      "2021-11-07 18:21:59 |\u001b[36m DEBUG    \u001b[0m| helpers.helpers_predator.predictions | PredictionsSoft\n",
      "2021-11-07 18:21:59 |\u001b[36m DEBUG    \u001b[0m| helpers.helpers_predator.predictions | Predicting probabilities on swaney cohort ..\n",
      "2021-11-07 18:21:59 |\u001b[36m DEBUG    \u001b[0m| helpers.helpers_predator.predictions | Adding key `swaney_prob` to self.predictions\n"
     ]
    }
   ],
   "source": [
    "predator.predict(voting='soft')"
   ]
  },
  {
   "cell_type": "code",
   "execution_count": 25,
   "id": "ba7c0cc1-627b-488b-8b62-ed4c3d273dff",
   "metadata": {},
   "outputs": [
    {
     "data": {
      "text/plain": [
       "dict_keys(['swaney_prob'])"
      ]
     },
     "execution_count": 25,
     "metadata": {},
     "output_type": "execute_result"
    }
   ],
   "source": [
    "predator.predictions.keys()"
   ]
  },
  {
   "cell_type": "code",
   "execution_count": 26,
   "id": "e3b9cfad-bcde-4307-a261-08e71e024554",
   "metadata": {},
   "outputs": [
    {
     "data": {
      "text/plain": [
       "[array([[0.45155915, 0.54844085],\n",
       "        [0.3869543 , 0.6130457 ]]),\n",
       " array([[0., 1.],\n",
       "        [0., 1.]]),\n",
       " array([[0.52764569, 0.47235431],\n",
       "        [0.37787157, 0.62212843]])]"
      ]
     },
     "execution_count": 26,
     "metadata": {},
     "output_type": "execute_result"
    }
   ],
   "source": [
    "# Predictions for first 10 experiment.\n",
    "predator.predictions[\"swaney_prob\"][:3]"
   ]
  },
  {
   "cell_type": "markdown",
   "id": "3f5ac346-0ce1-4f20-9e51-0b9e7114a5ae",
   "metadata": {},
   "source": [
    "#### Predictions Post Processing"
   ]
  },
  {
   "cell_type": "markdown",
   "id": "6d6a5fb7-a88b-44ca-b284-f47f4dbfd953",
   "metadata": {},
   "source": [
    "Post processing of predictions involves following steps:"
   ]
  },
  {
   "cell_type": "markdown",
   "id": "92f5c809-f661-4bd3-9e74-c9e3d8ba11e0",
   "metadata": {},
   "source": [
    "##### 1. Merging Predictions with SNV Data"
   ]
  },
  {
   "cell_type": "markdown",
   "id": "83dcaed0-6c47-4658-b712-aca2a345fe3d",
   "metadata": {},
   "source": [
    "The prediction column is merged with SNV data for each experiment.\n",
    "\n",
    "$\\text{For each experiment } n: $\n",
    "\n",
    "$$\n",
    "  \\textit{(Prediction Merged Data)}_n = \\underbrace{[\\textit{Predictions}_n]}_\\text{Probs Percentages} + \n",
    "      \\underbrace{[\\textit{Protein }] [\\textit{Mutation }] [\\textit{Interactor }]}_\\text{Cancer Data Triplets} + \\underbrace{[\\textit{Features }] }_\\text{Elaspic}\n",
    "$$\n"
   ]
  },
  {
   "cell_type": "markdown",
   "id": "71cf34f3-a9a2-4701-bd15-13679bde46a6",
   "metadata": {
    "tags": []
   },
   "source": [
    "##### 2. Convert to 1-isomer: `Interactor_UniProt_ID`"
   ]
  },
  {
   "cell_type": "markdown",
   "id": "604a5ade-4e57-42a7-bf76-1d5a41e1890c",
   "metadata": {},
   "source": [
    "$\\textit{Interactor_UniProt_ID}$ column contains isomer proteins. Here, we convert them into primary isoform representation (i.e. without dashes)."
   ]
  },
  {
   "cell_type": "markdown",
   "id": "4e5e8d9c-8d1e-475c-b823-e6145f516fb2",
   "metadata": {},
   "source": [
    "| Interactor_UniProt_ID |\n",
    "--------------\n",
    "| P38936     |\n",
    "| P16473     |\n",
    "| P16473-2   |\n",
    "| P19793     |"
   ]
  },
  {
   "cell_type": "markdown",
   "id": "c45390a1-89be-4a8b-82c5-7dbc483fe9cc",
   "metadata": {},
   "source": [
    "##### 3. Dropping Invalid Predictions"
   ]
  },
  {
   "cell_type": "markdown",
   "id": "8bd8f097-df38-42bc-95ca-ea9d31254719",
   "metadata": {},
   "source": [
    "Entries whose predicted class-1 probability lies in both `Decreasing` and `Increasing+NoEff` are dropped."
   ]
  },
  {
   "cell_type": "markdown",
   "id": "0ceb36b2-764a-45f8-8f1f-298422ee1dec",
   "metadata": {},
   "source": [
    "Due to having different features for the same $\\textit{(protein, mutation, interactor)}$ triplet from ELASPIC, the triplet $\\textit{(protein, mutation, interactor)}$ may contain class-1 probability prediction of both lower than 0.50 and higher than 50. We drop such instances."
   ]
  },
  {
   "cell_type": "code",
   "execution_count": 27,
   "id": "b7c2bb50-ed19-49eb-8639-4399862e7547",
   "metadata": {
    "scrolled": true,
    "tags": []
   },
   "outputs": [
    {
     "name": "stdout",
     "output_type": "stream",
     "text": [
      "2021-11-07 18:21:59 |\u001b[36m DEBUG    \u001b[0m| helpers.helpers_predator.predictions | PredictionsSoft\n",
      "2021-11-07 18:21:59 |\u001b[36m DEBUG    \u001b[0m| helpers.helpers_predator.predictions | Post processing predictions for cohort swaney ..\n",
      "2021-11-07 18:21:59 |\u001b[36m DEBUG    \u001b[0m| helpers.helpers_predator.predictions | PredictionsSoft\n",
      "2021-11-07 18:21:59 |\u001b[36m DEBUG    \u001b[0m| helpers.helpers_predator.predictions | Merging predictions with swaney cancer dataset ..\n",
      "2021-11-07 18:21:59 |\u001b[36m DEBUG    \u001b[0m| helpers.helpers_predator.predictions | Handling valid and invalid entries ..\n"
     ]
    },
    {
     "data": {
      "application/vnd.jupyter.widget-view+json": {
       "model_id": "659e02c706994662bd4eb31edb06ba7e",
       "version_major": 2,
       "version_minor": 0
      },
      "text/plain": [
       "  0%|          | 0/37 [00:00<?, ?it/s]"
      ]
     },
     "metadata": {},
     "output_type": "display_data"
    },
    {
     "name": "stdout",
     "output_type": "stream",
     "text": [
      "2021-11-07 18:21:59 |\u001b[36m DEBUG    \u001b[0m| helpers.helpers_predator.predictions_utils | Removed entries first five rows (of 0): \n",
      "Empty DataFrame\n",
      "Columns: [PREDICTION, PROTEIN, MUTATION, INTERACTOR]\n",
      "Index: []\n",
      "2021-11-07 18:21:59 |\u001b[36m DEBUG    \u001b[0m| helpers.helpers_predator.predictions_utils | Removed entries first five rows (of 0): \n",
      "Empty DataFrame\n",
      "Columns: [PREDICTION, PROTEIN, MUTATION, INTERACTOR]\n",
      "Index: []\n",
      "2021-11-07 18:21:59 |\u001b[36m DEBUG    \u001b[0m| helpers.helpers_predator.predictions_utils | Removed entries first five rows (of 0): \n",
      "Empty DataFrame\n",
      "Columns: [PREDICTION, PROTEIN, MUTATION, INTERACTOR]\n",
      "Index: []\n",
      "2021-11-07 18:21:59 |\u001b[36m DEBUG    \u001b[0m| helpers.helpers_predator.predictions_utils | Removed entries first five rows (of 0): \n",
      "Empty DataFrame\n",
      "Columns: [PREDICTION, PROTEIN, MUTATION, INTERACTOR]\n",
      "Index: []\n",
      "2021-11-07 18:21:59 |\u001b[36m DEBUG    \u001b[0m| helpers.helpers_predator.predictions_utils | Removed entries first five rows (of 0): \n",
      "Empty DataFrame\n",
      "Columns: [PREDICTION, PROTEIN, MUTATION, INTERACTOR]\n",
      "Index: []\n",
      "2021-11-07 18:21:59 |\u001b[36m DEBUG    \u001b[0m| helpers.helpers_predator.predictions_utils | Removed entries first five rows (of 0): \n",
      "Empty DataFrame\n",
      "Columns: [PREDICTION, PROTEIN, MUTATION, INTERACTOR]\n",
      "Index: []\n",
      "2021-11-07 18:21:59 |\u001b[36m DEBUG    \u001b[0m| helpers.helpers_predator.predictions_utils | Removed entries first five rows (of 0): \n",
      "Empty DataFrame\n",
      "Columns: [PREDICTION, PROTEIN, MUTATION, INTERACTOR]\n",
      "Index: []\n",
      "2021-11-07 18:21:59 |\u001b[36m DEBUG    \u001b[0m| helpers.helpers_predator.predictions_utils | Removed entries first five rows (of 0): \n",
      "Empty DataFrame\n",
      "Columns: [PREDICTION, PROTEIN, MUTATION, INTERACTOR]\n",
      "Index: []\n",
      "2021-11-07 18:21:59 |\u001b[36m DEBUG    \u001b[0m| helpers.helpers_predator.predictions_utils | Removed entries first five rows (of 0): \n",
      "Empty DataFrame\n",
      "Columns: [PREDICTION, PROTEIN, MUTATION, INTERACTOR]\n",
      "Index: []\n",
      "2021-11-07 18:21:59 |\u001b[36m DEBUG    \u001b[0m| helpers.helpers_predator.predictions_utils | Removed entries first five rows (of 0): \n",
      "Empty DataFrame\n",
      "Columns: [PREDICTION, PROTEIN, MUTATION, INTERACTOR]\n",
      "Index: []\n",
      "2021-11-07 18:21:59 |\u001b[36m DEBUG    \u001b[0m| helpers.helpers_predator.predictions_utils | Removed entries first five rows (of 0): \n",
      "Empty DataFrame\n",
      "Columns: [PREDICTION, PROTEIN, MUTATION, INTERACTOR]\n",
      "Index: []\n",
      "2021-11-07 18:21:59 |\u001b[36m DEBUG    \u001b[0m| helpers.helpers_predator.predictions_utils | Removed entries first five rows (of 0): \n",
      "Empty DataFrame\n",
      "Columns: [PREDICTION, PROTEIN, MUTATION, INTERACTOR]\n",
      "Index: []\n",
      "2021-11-07 18:21:59 |\u001b[36m DEBUG    \u001b[0m| helpers.helpers_predator.predictions_utils | Removed entries first five rows (of 0): \n",
      "Empty DataFrame\n",
      "Columns: [PREDICTION, PROTEIN, MUTATION, INTERACTOR]\n",
      "Index: []\n",
      "2021-11-07 18:21:59 |\u001b[36m DEBUG    \u001b[0m| helpers.helpers_predator.predictions_utils | Removed entries first five rows (of 0): \n",
      "Empty DataFrame\n",
      "Columns: [PREDICTION, PROTEIN, MUTATION, INTERACTOR]\n",
      "Index: []\n",
      "2021-11-07 18:21:59 |\u001b[36m DEBUG    \u001b[0m| helpers.helpers_predator.predictions_utils | Removed entries first five rows (of 0): \n",
      "Empty DataFrame\n",
      "Columns: [PREDICTION, PROTEIN, MUTATION, INTERACTOR]\n",
      "Index: []\n",
      "2021-11-07 18:21:59 |\u001b[36m DEBUG    \u001b[0m| helpers.helpers_predator.predictions_utils | Removed entries first five rows (of 0): \n",
      "Empty DataFrame\n",
      "Columns: [PREDICTION, PROTEIN, MUTATION, INTERACTOR]\n",
      "Index: []\n",
      "2021-11-07 18:21:59 |\u001b[36m DEBUG    \u001b[0m| helpers.helpers_predator.predictions_utils | Removed entries first five rows (of 0): \n",
      "Empty DataFrame\n",
      "Columns: [PREDICTION, PROTEIN, MUTATION, INTERACTOR]\n",
      "Index: []\n",
      "2021-11-07 18:21:59 |\u001b[36m DEBUG    \u001b[0m| helpers.helpers_predator.predictions_utils | Removed entries first five rows (of 0): \n",
      "Empty DataFrame\n",
      "Columns: [PREDICTION, PROTEIN, MUTATION, INTERACTOR]\n",
      "Index: []\n",
      "2021-11-07 18:21:59 |\u001b[36m DEBUG    \u001b[0m| helpers.helpers_predator.predictions_utils | Removed entries first five rows (of 0): \n",
      "Empty DataFrame\n",
      "Columns: [PREDICTION, PROTEIN, MUTATION, INTERACTOR]\n",
      "Index: []\n",
      "2021-11-07 18:21:59 |\u001b[36m DEBUG    \u001b[0m| helpers.helpers_predator.predictions_utils | Removed entries first five rows (of 0): \n",
      "Empty DataFrame\n",
      "Columns: [PREDICTION, PROTEIN, MUTATION, INTERACTOR]\n",
      "Index: []\n",
      "2021-11-07 18:22:00 |\u001b[36m DEBUG    \u001b[0m| helpers.helpers_predator.predictions_utils | Removed entries first five rows (of 0): \n",
      "Empty DataFrame\n",
      "Columns: [PREDICTION, PROTEIN, MUTATION, INTERACTOR]\n",
      "Index: []\n",
      "2021-11-07 18:22:00 |\u001b[36m DEBUG    \u001b[0m| helpers.helpers_predator.predictions_utils | Removed entries first five rows (of 0): \n",
      "Empty DataFrame\n",
      "Columns: [PREDICTION, PROTEIN, MUTATION, INTERACTOR]\n",
      "Index: []\n",
      "2021-11-07 18:22:00 |\u001b[36m DEBUG    \u001b[0m| helpers.helpers_predator.predictions_utils | Removed entries first five rows (of 0): \n",
      "Empty DataFrame\n",
      "Columns: [PREDICTION, PROTEIN, MUTATION, INTERACTOR]\n",
      "Index: []\n",
      "2021-11-07 18:22:00 |\u001b[36m DEBUG    \u001b[0m| helpers.helpers_predator.predictions_utils | Removed entries first five rows (of 0): \n",
      "Empty DataFrame\n",
      "Columns: [PREDICTION, PROTEIN, MUTATION, INTERACTOR]\n",
      "Index: []\n",
      "2021-11-07 18:22:00 |\u001b[36m DEBUG    \u001b[0m| helpers.helpers_predator.predictions_utils | Removed entries first five rows (of 0): \n",
      "Empty DataFrame\n",
      "Columns: [PREDICTION, PROTEIN, MUTATION, INTERACTOR]\n",
      "Index: []\n",
      "2021-11-07 18:22:00 |\u001b[36m DEBUG    \u001b[0m| helpers.helpers_predator.predictions_utils | Removed entries first five rows (of 0): \n",
      "Empty DataFrame\n",
      "Columns: [PREDICTION, PROTEIN, MUTATION, INTERACTOR]\n",
      "Index: []\n",
      "2021-11-07 18:22:00 |\u001b[36m DEBUG    \u001b[0m| helpers.helpers_predator.predictions_utils | Removed entries first five rows (of 0): \n",
      "Empty DataFrame\n",
      "Columns: [PREDICTION, PROTEIN, MUTATION, INTERACTOR]\n",
      "Index: []\n",
      "2021-11-07 18:22:00 |\u001b[36m DEBUG    \u001b[0m| helpers.helpers_predator.predictions_utils | Removed entries first five rows (of 0): \n",
      "Empty DataFrame\n",
      "Columns: [PREDICTION, PROTEIN, MUTATION, INTERACTOR]\n",
      "Index: []\n",
      "2021-11-07 18:22:00 |\u001b[36m DEBUG    \u001b[0m| helpers.helpers_predator.predictions_utils | Removed entries first five rows (of 0): \n",
      "Empty DataFrame\n",
      "Columns: [PREDICTION, PROTEIN, MUTATION, INTERACTOR]\n",
      "Index: []\n",
      "2021-11-07 18:22:00 |\u001b[36m DEBUG    \u001b[0m| helpers.helpers_predator.predictions_utils | Removed entries first five rows (of 0): \n",
      "Empty DataFrame\n",
      "Columns: [PREDICTION, PROTEIN, MUTATION, INTERACTOR]\n",
      "Index: []\n",
      "2021-11-07 18:22:00 |\u001b[36m DEBUG    \u001b[0m| helpers.helpers_predator.predictions_utils | Removed entries first five rows (of 0): \n",
      "Empty DataFrame\n",
      "Columns: [PREDICTION, PROTEIN, MUTATION, INTERACTOR]\n",
      "Index: []\n",
      "2021-11-07 18:22:00 |\u001b[36m DEBUG    \u001b[0m| helpers.helpers_predator.predictions_utils | Removed entries first five rows (of 0): \n",
      "Empty DataFrame\n",
      "Columns: [PREDICTION, PROTEIN, MUTATION, INTERACTOR]\n",
      "Index: []\n",
      "2021-11-07 18:22:00 |\u001b[36m DEBUG    \u001b[0m| helpers.helpers_predator.predictions_utils | Removed entries first five rows (of 0): \n",
      "Empty DataFrame\n",
      "Columns: [PREDICTION, PROTEIN, MUTATION, INTERACTOR]\n",
      "Index: []\n",
      "2021-11-07 18:22:00 |\u001b[36m DEBUG    \u001b[0m| helpers.helpers_predator.predictions_utils | Removed entries first five rows (of 0): \n",
      "Empty DataFrame\n",
      "Columns: [PREDICTION, PROTEIN, MUTATION, INTERACTOR]\n",
      "Index: []\n",
      "2021-11-07 18:22:00 |\u001b[36m DEBUG    \u001b[0m| helpers.helpers_predator.predictions_utils | Removed entries first five rows (of 0): \n",
      "Empty DataFrame\n",
      "Columns: [PREDICTION, PROTEIN, MUTATION, INTERACTOR]\n",
      "Index: []\n",
      "2021-11-07 18:22:00 |\u001b[36m DEBUG    \u001b[0m| helpers.helpers_predator.predictions_utils | Removed entries first five rows (of 0): \n",
      "Empty DataFrame\n",
      "Columns: [PREDICTION, PROTEIN, MUTATION, INTERACTOR]\n",
      "Index: []\n",
      "2021-11-07 18:22:00 |\u001b[36m DEBUG    \u001b[0m| helpers.helpers_predator.predictions_utils | Removed entries first five rows (of 0): \n",
      "Empty DataFrame\n",
      "Columns: [PREDICTION, PROTEIN, MUTATION, INTERACTOR]\n",
      "Index: []\n",
      "2021-11-07 18:22:00 |\u001b[36m DEBUG    \u001b[0m| helpers.helpers_predator.predictions | Preparing finalized prediction datasets for swaney ..\n",
      "2021-11-07 18:22:00 |\u001b[36m DEBUG    \u001b[0m| helpers.helpers_predator.predictions | Post processing completed for swaney.\n"
     ]
    }
   ],
   "source": [
    "predator.predictions_post_process()"
   ]
  },
  {
   "cell_type": "code",
   "execution_count": 28,
   "id": "3b232a75-6823-448d-9acb-ce3f68f28f5a",
   "metadata": {},
   "outputs": [
    {
     "data": {
      "text/plain": [
       "dict_keys(['swaney_prob', 'swaney_predicted_probs_datasets', 'swaney_predicted_valid_datasets', 'swaney_predicted_invalid_datasets', 'swaney_finalized_prediction_dataframes'])"
      ]
     },
     "execution_count": 28,
     "metadata": {},
     "output_type": "execute_result"
    }
   ],
   "source": [
    "predator.predictions.keys()"
   ]
  },
  {
   "cell_type": "code",
   "execution_count": 29,
   "id": "43811f11-f562-4b56-8644-96f6ec752c3b",
   "metadata": {},
   "outputs": [
    {
     "name": "stdout",
     "output_type": "stream",
     "text": [
      "\u001b[36mData dimensions: (2, 104)\u001b[0m\n"
     ]
    },
    {
     "data": {
      "text/html": [
       "<div>\n",
       "<style scoped>\n",
       "    .dataframe tbody tr th:only-of-type {\n",
       "        vertical-align: middle;\n",
       "    }\n",
       "\n",
       "    .dataframe tbody tr th {\n",
       "        vertical-align: top;\n",
       "    }\n",
       "\n",
       "    .dataframe thead th {\n",
       "        text-align: right;\n",
       "    }\n",
       "</style>\n",
       "<table border=\"1\" class=\"dataframe\">\n",
       "  <thead>\n",
       "    <tr style=\"text-align: right;\">\n",
       "      <th></th>\n",
       "      <th>Prediction</th>\n",
       "      <th>Input_identifier</th>\n",
       "      <th>UniProt_ID</th>\n",
       "      <th>Mutation</th>\n",
       "      <th>Status</th>\n",
       "      <th>Type</th>\n",
       "      <th>COSMIC_mut_ID</th>\n",
       "      <th>ClinVar_mut_ID</th>\n",
       "      <th>UniProt_mut_ID</th>\n",
       "      <th>Domain_name</th>\n",
       "      <th>...</th>\n",
       "      <th>number_of_residues_mut</th>\n",
       "      <th>IntraclashesEnergy1_wt</th>\n",
       "      <th>IntraclashesEnergy1_mut</th>\n",
       "      <th>IntraclashesEnergy2_wt</th>\n",
       "      <th>IntraclashesEnergy2_mut</th>\n",
       "      <th>Interface_hydrophobic_area</th>\n",
       "      <th>Interface_hydrophilic_area</th>\n",
       "      <th>Interface_total_area</th>\n",
       "      <th>Interface_contact_distance_wt</th>\n",
       "      <th>Interface_contact_distance_mut</th>\n",
       "    </tr>\n",
       "  </thead>\n",
       "  <tbody>\n",
       "    <tr>\n",
       "      <th>0</th>\n",
       "      <td>0.548441</td>\n",
       "      <td>P01112</td>\n",
       "      <td>P01112</td>\n",
       "      <td>G12D</td>\n",
       "      <td>done</td>\n",
       "      <td>interface</td>\n",
       "      <td>COSM99915</td>\n",
       "      <td>-</td>\n",
       "      <td>VAR_068816</td>\n",
       "      <td>Ras</td>\n",
       "      <td>...</td>\n",
       "      <td>648</td>\n",
       "      <td>35.9691</td>\n",
       "      <td>35.7047</td>\n",
       "      <td>493.4220</td>\n",
       "      <td>493.4220</td>\n",
       "      <td>None</td>\n",
       "      <td>None</td>\n",
       "      <td>None</td>\n",
       "      <td>4.84060</td>\n",
       "      <td>4.84060</td>\n",
       "    </tr>\n",
       "    <tr>\n",
       "      <th>1</th>\n",
       "      <td>0.613046</td>\n",
       "      <td>P01112</td>\n",
       "      <td>P01112</td>\n",
       "      <td>G12D</td>\n",
       "      <td>done</td>\n",
       "      <td>interface</td>\n",
       "      <td>COSM99915</td>\n",
       "      <td>-</td>\n",
       "      <td>VAR_068816</td>\n",
       "      <td>Ras</td>\n",
       "      <td>...</td>\n",
       "      <td>339</td>\n",
       "      <td>123.5670</td>\n",
       "      <td>123.6360</td>\n",
       "      <td>68.5032</td>\n",
       "      <td>68.5032</td>\n",
       "      <td>539.595</td>\n",
       "      <td>324.98</td>\n",
       "      <td>864.585</td>\n",
       "      <td>3.18758</td>\n",
       "      <td>3.18758</td>\n",
       "    </tr>\n",
       "  </tbody>\n",
       "</table>\n",
       "<p>2 rows × 104 columns</p>\n",
       "</div>"
      ],
      "text/plain": [
       "   Prediction Input_identifier UniProt_ID Mutation Status       Type  \\\n",
       "0    0.548441           P01112     P01112     G12D   done  interface   \n",
       "1    0.613046           P01112     P01112     G12D   done  interface   \n",
       "\n",
       "  COSMIC_mut_ID ClinVar_mut_ID UniProt_mut_ID Domain_name  ...  \\\n",
       "0     COSM99915              -     VAR_068816         Ras  ...   \n",
       "1     COSM99915              -     VAR_068816         Ras  ...   \n",
       "\n",
       "  number_of_residues_mut IntraclashesEnergy1_wt IntraclashesEnergy1_mut  \\\n",
       "0                    648                35.9691                 35.7047   \n",
       "1                    339               123.5670                123.6360   \n",
       "\n",
       "   IntraclashesEnergy2_wt  IntraclashesEnergy2_mut Interface_hydrophobic_area  \\\n",
       "0                493.4220                 493.4220                       None   \n",
       "1                 68.5032                  68.5032                    539.595   \n",
       "\n",
       "  Interface_hydrophilic_area Interface_total_area  \\\n",
       "0                       None                 None   \n",
       "1                     324.98              864.585   \n",
       "\n",
       "  Interface_contact_distance_wt Interface_contact_distance_mut  \n",
       "0                       4.84060                        4.84060  \n",
       "1                       3.18758                        3.18758  \n",
       "\n",
       "[2 rows x 104 columns]"
      ]
     },
     "metadata": {},
     "output_type": "display_data"
    }
   ],
   "source": [
    "display_data(predator.predictions[\"swaney_predicted_probs_datasets\"][0])"
   ]
  },
  {
   "cell_type": "code",
   "execution_count": 30,
   "id": "c8530bd4-9699-417f-9bbd-591c1f9a229c",
   "metadata": {},
   "outputs": [
    {
     "data": {
      "image/png": "[encoded data removed]",
      "text/plain": [
       "<Figure size 1080x360 with 1 Axes>"
      ]
     },
     "metadata": {},
     "output_type": "display_data"
    }
   ],
   "source": [
    "predator.predictions.plot_distribution_valid_vs_invalid(\"swaney\")"
   ]
  },
  {
   "cell_type": "code",
   "execution_count": 31,
   "id": "aa0b7d3a-a768-4dff-b616-8e7342e95234",
   "metadata": {},
   "outputs": [
    {
     "name": "stdout",
     "output_type": "stream",
     "text": [
      "2021-11-07 18:22:01 |\u001b[36m DEBUG    \u001b[0m| helpers.helpers_predator.predictions | Plotting number of finalized predictions per model.\n",
      "Note that following plot shows the number of (protein, mutation, interactor) triplets which had valid prediction.\n"
     ]
    },
    {
     "data": {
      "image/png": "[encoded data removed]",
      "text/plain": [
       "<Figure size 1080x360 with 1 Axes>"
      ]
     },
     "metadata": {},
     "output_type": "display_data"
    }
   ],
   "source": [
    "predator.predictions.plot_num_finalized_predictions(\"swaney\")"
   ]
  },
  {
   "cell_type": "code",
   "execution_count": 32,
   "id": "47b0a680-f0c0-4739-a90a-01b4aa5a0d2b",
   "metadata": {},
   "outputs": [
    {
     "name": "stdout",
     "output_type": "stream",
     "text": [
      "\u001b[36mData dimensions: (2, 4)\u001b[0m\n"
     ]
    },
    {
     "data": {
      "text/html": [
       "<div>\n",
       "<style scoped>\n",
       "    .dataframe tbody tr th:only-of-type {\n",
       "        vertical-align: middle;\n",
       "    }\n",
       "\n",
       "    .dataframe tbody tr th {\n",
       "        vertical-align: top;\n",
       "    }\n",
       "\n",
       "    .dataframe thead th {\n",
       "        text-align: right;\n",
       "    }\n",
       "</style>\n",
       "<table border=\"1\" class=\"dataframe\">\n",
       "  <thead>\n",
       "    <tr style=\"text-align: right;\">\n",
       "      <th></th>\n",
       "      <th>Prediction</th>\n",
       "      <th>UniProt_ID</th>\n",
       "      <th>Mutation</th>\n",
       "      <th>Interactor_UniProt_ID</th>\n",
       "    </tr>\n",
       "  </thead>\n",
       "  <tbody>\n",
       "    <tr>\n",
       "      <th>0</th>\n",
       "      <td>0.548441</td>\n",
       "      <td>P01112</td>\n",
       "      <td>G12D</td>\n",
       "      <td>O15211</td>\n",
       "    </tr>\n",
       "    <tr>\n",
       "      <th>1</th>\n",
       "      <td>0.613046</td>\n",
       "      <td>P01112</td>\n",
       "      <td>G12D</td>\n",
       "      <td>Q13671</td>\n",
       "    </tr>\n",
       "  </tbody>\n",
       "</table>\n",
       "</div>"
      ],
      "text/plain": [
       "   Prediction UniProt_ID Mutation Interactor_UniProt_ID\n",
       "0    0.548441     P01112     G12D                O15211\n",
       "1    0.613046     P01112     G12D                Q13671"
      ]
     },
     "metadata": {},
     "output_type": "display_data"
    }
   ],
   "source": [
    "display_data(predator.predictions['swaney_finalized_prediction_dataframes'][0])"
   ]
  },
  {
   "cell_type": "code",
   "execution_count": 33,
   "id": "2310778f-8b97-4d05-b3bb-d1b1d540ae8f",
   "metadata": {
    "scrolled": true,
    "tags": []
   },
   "outputs": [
    {
     "name": "stdout",
     "output_type": "stream",
     "text": [
      "2021-11-07 18:22:02 |\u001b[32m INFO     \u001b[0m| helpers.helpers_predator.predictions | PredictionsSoft\n",
      "2021-11-07 18:22:02 |\u001b[32m INFO     \u001b[0m| helpers.helpers_predator.predictions | Preparing ensemble prediction data for swaney taking median ..\n"
     ]
    },
    {
     "data": {
      "application/vnd.jupyter.widget-view+json": {
       "model_id": "5974d521934f49ddba0611c377c70249",
       "version_major": 2,
       "version_minor": 0
      },
      "text/plain": [
       "  0%|          | 0/37 [00:00<?, ?it/s]"
      ]
     },
     "metadata": {},
     "output_type": "display_data"
    },
    {
     "name": "stdout",
     "output_type": "stream",
     "text": [
      "2021-11-07 18:22:03 |\u001b[36m DEBUG    \u001b[0m| helpers.helpers_predator.predictions | Prediction probabilities data for swaney is prepared.\n",
      "Accessible from `swaney_predictions_prob_data`.\n",
      "2021-11-07 18:22:03 |\u001b[36m DEBUG    \u001b[0m| helpers.helpers_predator.predictions | Ensemble prediction data for swaney is prepared.\n",
      "Accessible from `swaney_ensemble_prediction_data`.\n",
      "2021-11-07 18:22:03 |\u001b[36m DEBUG    \u001b[0m| helpers.helpers_predator.predictions | Resulting prediction data is available for swaney.\n",
      "Accessible from predictions.['swaney_prediction_results']\n",
      "2021-11-07 18:22:03 |\u001b[36m DEBUG    \u001b[0m| helpers.helpers_predator.predictions | Resulting prediction data (no_votes dropped) is available for swaney.\n",
      "Accessible from predictions.['swaney_prediction_results_no_votes_dropped']\n"
     ]
    }
   ],
   "source": [
    "predator.prepare_ensemble_prediction_data()"
   ]
  },
  {
   "cell_type": "code",
   "execution_count": 34,
   "id": "4503815c-d486-43cb-ab3a-585239dc7f6e",
   "metadata": {},
   "outputs": [
    {
     "name": "stdout",
     "output_type": "stream",
     "text": [
      "\u001b[36mData dimensions: (2, 39)\u001b[0m\n"
     ]
    },
    {
     "data": {
      "text/html": [
       "<div>\n",
       "<style scoped>\n",
       "    .dataframe tbody tr th:only-of-type {\n",
       "        vertical-align: middle;\n",
       "    }\n",
       "\n",
       "    .dataframe tbody tr th {\n",
       "        vertical-align: top;\n",
       "    }\n",
       "\n",
       "    .dataframe thead th {\n",
       "        text-align: right;\n",
       "    }\n",
       "</style>\n",
       "<table border=\"1\" class=\"dataframe\">\n",
       "  <thead>\n",
       "    <tr style=\"text-align: right;\">\n",
       "      <th></th>\n",
       "      <th>Trial 0</th>\n",
       "      <th>Trial 1</th>\n",
       "      <th>Trial 2</th>\n",
       "      <th>Trial 3</th>\n",
       "      <th>Trial 4</th>\n",
       "      <th>Trial 5</th>\n",
       "      <th>Trial 6</th>\n",
       "      <th>Trial 7</th>\n",
       "      <th>Trial 8</th>\n",
       "      <th>Trial 9</th>\n",
       "      <th>...</th>\n",
       "      <th>Trial 29</th>\n",
       "      <th>Trial 30</th>\n",
       "      <th>Trial 31</th>\n",
       "      <th>Trial 32</th>\n",
       "      <th>Trial 33</th>\n",
       "      <th>Trial 34</th>\n",
       "      <th>Trial 35</th>\n",
       "      <th>Trial 36</th>\n",
       "      <th>PROB_1s_AVG</th>\n",
       "      <th>VOTED_PREDICTION</th>\n",
       "    </tr>\n",
       "  </thead>\n",
       "  <tbody>\n",
       "    <tr>\n",
       "      <th>0</th>\n",
       "      <td>0.548441</td>\n",
       "      <td>1.0</td>\n",
       "      <td>0.472354</td>\n",
       "      <td>0.538169</td>\n",
       "      <td>0.581158</td>\n",
       "      <td>0.541193</td>\n",
       "      <td>0.557226</td>\n",
       "      <td>0.499086</td>\n",
       "      <td>0.611027</td>\n",
       "      <td>0.562191</td>\n",
       "      <td>...</td>\n",
       "      <td>0.602150</td>\n",
       "      <td>0.600000</td>\n",
       "      <td>0.634261</td>\n",
       "      <td>0.502458</td>\n",
       "      <td>0.572121</td>\n",
       "      <td>0.460245</td>\n",
       "      <td>0.481496</td>\n",
       "      <td>0.646127</td>\n",
       "      <td>0.56679</td>\n",
       "      <td>1</td>\n",
       "    </tr>\n",
       "    <tr>\n",
       "      <th>1</th>\n",
       "      <td>0.613046</td>\n",
       "      <td>1.0</td>\n",
       "      <td>0.622128</td>\n",
       "      <td>0.664513</td>\n",
       "      <td>0.801900</td>\n",
       "      <td>0.617700</td>\n",
       "      <td>0.554070</td>\n",
       "      <td>0.526052</td>\n",
       "      <td>0.530007</td>\n",
       "      <td>0.609704</td>\n",
       "      <td>...</td>\n",
       "      <td>0.744468</td>\n",
       "      <td>0.381602</td>\n",
       "      <td>0.705312</td>\n",
       "      <td>0.642453</td>\n",
       "      <td>0.563068</td>\n",
       "      <td>0.466925</td>\n",
       "      <td>0.590284</td>\n",
       "      <td>0.733755</td>\n",
       "      <td>0.61075</td>\n",
       "      <td>1</td>\n",
       "    </tr>\n",
       "  </tbody>\n",
       "</table>\n",
       "<p>2 rows × 39 columns</p>\n",
       "</div>"
      ],
      "text/plain": [
       "    Trial 0  Trial 1   Trial 2   Trial 3   Trial 4   Trial 5   Trial 6  \\\n",
       "0  0.548441      1.0  0.472354  0.538169  0.581158  0.541193  0.557226   \n",
       "1  0.613046      1.0  0.622128  0.664513  0.801900  0.617700  0.554070   \n",
       "\n",
       "    Trial 7   Trial 8   Trial 9  ...  Trial 29  Trial 30  Trial 31  Trial 32  \\\n",
       "0  0.499086  0.611027  0.562191  ...  0.602150  0.600000  0.634261  0.502458   \n",
       "1  0.526052  0.530007  0.609704  ...  0.744468  0.381602  0.705312  0.642453   \n",
       "\n",
       "   Trial 33  Trial 34  Trial 35  Trial 36  PROB_1s_AVG  VOTED_PREDICTION  \n",
       "0  0.572121  0.460245  0.481496  0.646127      0.56679                 1  \n",
       "1  0.563068  0.466925  0.590284  0.733755      0.61075                 1  \n",
       "\n",
       "[2 rows x 39 columns]"
      ]
     },
     "metadata": {},
     "output_type": "display_data"
    }
   ],
   "source": [
    "display_data(predator.predictions['swaney_predictions_prob_data'])"
   ]
  },
  {
   "cell_type": "code",
   "execution_count": 35,
   "id": "8f3086ee-9fc8-4e08-98ac-e030ff16040c",
   "metadata": {},
   "outputs": [
    {
     "data": {
      "image/png": "[encoded data removed]",
      "text/plain": [
       "<Figure size 432x288 with 1 Axes>"
      ]
     },
     "metadata": {},
     "output_type": "display_data"
    }
   ],
   "source": [
    "predator.predictions.plot_ensemble_prediction_distribution(\"swaney\")"
   ]
  },
  {
   "cell_type": "code",
   "execution_count": 36,
   "id": "e1447530-3376-4c69-bc61-ddb3fe453b73",
   "metadata": {},
   "outputs": [
    {
     "name": "stdout",
     "output_type": "stream",
     "text": [
      "\u001b[36mData dimensions: (2, 4)\u001b[0m\n"
     ]
    },
    {
     "data": {
      "text/html": [
       "<div>\n",
       "<style scoped>\n",
       "    .dataframe tbody tr th:only-of-type {\n",
       "        vertical-align: middle;\n",
       "    }\n",
       "\n",
       "    .dataframe tbody tr th {\n",
       "        vertical-align: top;\n",
       "    }\n",
       "\n",
       "    .dataframe thead th {\n",
       "        text-align: right;\n",
       "    }\n",
       "</style>\n",
       "<table border=\"1\" class=\"dataframe\">\n",
       "  <thead>\n",
       "    <tr style=\"text-align: right;\">\n",
       "      <th></th>\n",
       "      <th>UniProt_ID</th>\n",
       "      <th>Mutation</th>\n",
       "      <th>Interactor_UniProt_ID</th>\n",
       "      <th>Prediction</th>\n",
       "    </tr>\n",
       "  </thead>\n",
       "  <tbody>\n",
       "    <tr>\n",
       "      <th>0</th>\n",
       "      <td>P01112</td>\n",
       "      <td>G12D</td>\n",
       "      <td>O15211</td>\n",
       "      <td>1</td>\n",
       "    </tr>\n",
       "    <tr>\n",
       "      <th>1</th>\n",
       "      <td>P01112</td>\n",
       "      <td>G12D</td>\n",
       "      <td>Q13671</td>\n",
       "      <td>1</td>\n",
       "    </tr>\n",
       "  </tbody>\n",
       "</table>\n",
       "</div>"
      ],
      "text/plain": [
       "  UniProt_ID Mutation Interactor_UniProt_ID  Prediction\n",
       "0     P01112     G12D                O15211           1\n",
       "1     P01112     G12D                Q13671           1"
      ]
     },
     "metadata": {},
     "output_type": "display_data"
    }
   ],
   "source": [
    "swaney_prediction_results_soft = predator.predictions['swaney_prediction_results']\n",
    "display_data(swaney_prediction_results_soft)"
   ]
  },
  {
   "cell_type": "code",
   "execution_count": 37,
   "id": "e891c97a-3411-4cbe-897e-da7d5ebb4878",
   "metadata": {},
   "outputs": [
    {
     "name": "stdout",
     "output_type": "stream",
     "text": [
      "\u001b[36mData dimensions: (2, 4)\u001b[0m\n"
     ]
    },
    {
     "data": {
      "text/html": [
       "<div>\n",
       "<style scoped>\n",
       "    .dataframe tbody tr th:only-of-type {\n",
       "        vertical-align: middle;\n",
       "    }\n",
       "\n",
       "    .dataframe tbody tr th {\n",
       "        vertical-align: top;\n",
       "    }\n",
       "\n",
       "    .dataframe thead th {\n",
       "        text-align: right;\n",
       "    }\n",
       "</style>\n",
       "<table border=\"1\" class=\"dataframe\">\n",
       "  <thead>\n",
       "    <tr style=\"text-align: right;\">\n",
       "      <th></th>\n",
       "      <th>UniProt_ID</th>\n",
       "      <th>Mutation</th>\n",
       "      <th>Interactor_UniProt_ID</th>\n",
       "      <th>Prediction</th>\n",
       "    </tr>\n",
       "  </thead>\n",
       "  <tbody>\n",
       "    <tr>\n",
       "      <th>0</th>\n",
       "      <td>P01112</td>\n",
       "      <td>G12D</td>\n",
       "      <td>O15211</td>\n",
       "      <td>1</td>\n",
       "    </tr>\n",
       "    <tr>\n",
       "      <th>1</th>\n",
       "      <td>P01112</td>\n",
       "      <td>G12D</td>\n",
       "      <td>Q13671</td>\n",
       "      <td>1</td>\n",
       "    </tr>\n",
       "  </tbody>\n",
       "</table>\n",
       "</div>"
      ],
      "text/plain": [
       "  UniProt_ID Mutation Interactor_UniProt_ID  Prediction\n",
       "0     P01112     G12D                O15211           1\n",
       "1     P01112     G12D                Q13671           1"
      ]
     },
     "metadata": {},
     "output_type": "display_data"
    }
   ],
   "source": [
    "swaney_prediction_results_soft_no_votes_dropped = predator.predictions[\"swaney_prediction_results_no_votes_dropped\"]\n",
    "display_data(swaney_prediction_results_soft_no_votes_dropped)"
   ]
  },
  {
   "cell_type": "code",
   "execution_count": 38,
   "id": "ca7f8d92-73c7-493f-9a2a-b51fd416d9f2",
   "metadata": {},
   "outputs": [
    {
     "name": "stdout",
     "output_type": "stream",
     "text": [
      "\u001b[36mLabel counts:\n",
      "Increasing + No Effect    2\n",
      "Name: Prediction, dtype: int64\u001b[0m\n"
     ]
    },
    {
     "data": {
      "image/png": "[encoded data removed]",
      "text/plain": [
       "<Figure size 432x288 with 1 Axes>"
      ]
     },
     "metadata": {},
     "output_type": "display_data"
    }
   ],
   "source": [
    "visualize_label_counts(swaney_prediction_results_soft_no_votes_dropped, 'Prediction')"
   ]
  },
  {
   "cell_type": "code",
   "execution_count": 39,
   "id": "ed338805-faf9-4073-a604-0f9cc2c9dc5f",
   "metadata": {},
   "outputs": [],
   "source": [
    "swaney_ensemble_prediction_data_soft = predator.predictions[\"swaney_ensemble_prediction_data\"]"
   ]
  },
  {
   "cell_type": "code",
   "execution_count": 40,
   "id": "99e9d4a4-c848-48e5-9cfc-41d3425cf8c3",
   "metadata": {},
   "outputs": [],
   "source": [
    "swaney_predictions_prob_data_soft = predator.predictions[\"swaney_predictions_prob_data\"]"
   ]
  },
  {
   "cell_type": "markdown",
   "id": "59320129-bd32-47d7-9097-fd53ac2b608c",
   "metadata": {},
   "source": [
    "## Exporting Predictions"
   ]
  },
  {
   "cell_type": "code",
   "execution_count": 41,
   "id": "8f009f24-b433-4448-b891-3ef5d2b2a9dc",
   "metadata": {},
   "outputs": [
    {
     "name": "stdout",
     "output_type": "stream",
     "text": [
      "\u001b[36mData dimensions: (2, 4)\u001b[0m\n"
     ]
    },
    {
     "data": {
      "text/html": [
       "<div>\n",
       "<style scoped>\n",
       "    .dataframe tbody tr th:only-of-type {\n",
       "        vertical-align: middle;\n",
       "    }\n",
       "\n",
       "    .dataframe tbody tr th {\n",
       "        vertical-align: top;\n",
       "    }\n",
       "\n",
       "    .dataframe thead th {\n",
       "        text-align: right;\n",
       "    }\n",
       "</style>\n",
       "<table border=\"1\" class=\"dataframe\">\n",
       "  <thead>\n",
       "    <tr style=\"text-align: right;\">\n",
       "      <th></th>\n",
       "      <th>UniProt_ID</th>\n",
       "      <th>Mutation</th>\n",
       "      <th>Interactor_UniProt_ID</th>\n",
       "      <th>Prediction</th>\n",
       "    </tr>\n",
       "  </thead>\n",
       "  <tbody>\n",
       "    <tr>\n",
       "      <th>0</th>\n",
       "      <td>P01112</td>\n",
       "      <td>G12D</td>\n",
       "      <td>O15211</td>\n",
       "      <td>1</td>\n",
       "    </tr>\n",
       "    <tr>\n",
       "      <th>1</th>\n",
       "      <td>P01112</td>\n",
       "      <td>G12D</td>\n",
       "      <td>Q13671</td>\n",
       "      <td>1</td>\n",
       "    </tr>\n",
       "  </tbody>\n",
       "</table>\n",
       "</div>"
      ],
      "text/plain": [
       "  UniProt_ID Mutation Interactor_UniProt_ID  Prediction\n",
       "0     P01112     G12D                O15211           1\n",
       "1     P01112     G12D                Q13671           1"
      ]
     },
     "metadata": {},
     "output_type": "display_data"
    }
   ],
   "source": [
    "# swaney_prediction_results = swaney_prediction_results_hard_no_votes_dropped\n",
    "swaney_prediction_results = swaney_prediction_results_soft_no_votes_dropped\n",
    "display_data(swaney_prediction_results)"
   ]
  },
  {
   "cell_type": "code",
   "execution_count": 43,
   "id": "584ddcc0-e4b7-4dcc-8e84-d7977654d52f",
   "metadata": {},
   "outputs": [
    {
     "name": "stdout",
     "output_type": "stream",
     "text": [
      "2021-11-07 18:22:25 |\u001b[36m DEBUG    \u001b[0m| helpers.helpers_predator.common | Folder with ID 0ab552ea is created.\n",
      "2021-11-07 18:22:25 |\u001b[36m DEBUG    \u001b[0m| helpers.helpers_predator.common | Exporting data predictions at location benchmark/Swaney_Science2021/ in folder swaney_prediction_2021-11-07\\0ab552ea..\n",
      "2021-11-07 18:22:25 |\u001b[32m INFO     \u001b[0m| helpers.helpers_predator.common | benchmark/Swaney_Science2021/swaney_prediction_2021-11-07\\0ab552ea\\predictions_soft_2021-11-07.csv is exported successfully.\n",
      "2021-11-07 18:22:25 |\u001b[32m INFO     \u001b[0m| helpers.helpers_predator.common | Config is exported.\n"
     ]
    }
   ],
   "source": [
    "predator.export_prediction(\n",
    "    tcga=\"swaney\",\n",
    "    data=swaney_prediction_results,\n",
    "    file_name=\"predictions\",\n",
    "    folder_path=PREDICTIONS_DATASETS_FOLDER_PATH,\n",
    "    voting=\"soft\",\n",
    "    overwrite=False,\n",
    "    file_extension='csv'\n",
    ")"
   ]
  },
  {
   "cell_type": "code",
   "execution_count": null,
   "id": "b4cb0f58-ce04-44c9-9bef-072143908ed3",
   "metadata": {},
   "outputs": [],
   "source": []
  }
 ],
 "metadata": {
  "kernelspec": {
   "display_name": "Predicting-Mutation-Effects",
   "language": "python",
   "name": "predicting-mutation-effects"
  },
  "language_info": {
   "codemirror_mode": {
    "name": "ipython",
    "version": 3
   },
   "file_extension": ".py",
   "mimetype": "text/x-python",
   "name": "python",
   "nbconvert_exporter": "python",
   "pygments_lexer": "ipython3",
   "version": "3.8.10"
  }
 },
 "nbformat": 4,
 "nbformat_minor": 5
}
