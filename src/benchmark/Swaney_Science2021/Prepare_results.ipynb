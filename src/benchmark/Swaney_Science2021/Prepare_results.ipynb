{
 "cells": [
  {
   "cell_type": "markdown",
   "id": "1357c01e-9139-4648-ba70-f62fb424f936",
   "metadata": {
    "tags": []
   },
   "source": [
    "# Prepare Results"
   ]
  },
  {
   "cell_type": "code",
   "execution_count": null,
   "id": "dc4f3374-fde2-4bcd-af37-d57895b3f522",
   "metadata": {},
   "outputs": [],
   "source": []
  },
  {
   "cell_type": "code",
   "execution_count": null,
   "id": "3697e52c-b8c1-4441-954e-fa32fa19546b",
   "metadata": {},
   "outputs": [],
   "source": []
  },
  {
   "cell_type": "code",
   "execution_count": null,
   "id": "8a28f083-77a2-4efe-b9f8-4645f6029cd0",
   "metadata": {},
   "outputs": [],
   "source": []
  },
  {
   "cell_type": "code",
   "execution_count": null,
   "id": "89f58f79-115d-4391-b2b8-dca28f6f4b69",
   "metadata": {},
   "outputs": [],
   "source": []
  },
  {
   "cell_type": "code",
   "execution_count": 1,
   "id": "ae25d667-8aca-4d53-8d48-094ee2ffd5f5",
   "metadata": {},
   "outputs": [],
   "source": [
    "import pandas as pd\n",
    "from utils import ReadyResults\n",
    "\n",
    "# Reflect changes in the modules immediately.\n",
    "%load_ext autoreload\n",
    "%autoreload 2"
   ]
  },
  {
   "cell_type": "code",
   "execution_count": 2,
   "id": "cd746087-2898-4651-bb9f-75e42e52d093",
   "metadata": {},
   "outputs": [],
   "source": [
    "results = pd.read_csv(\"allresults_2021-11-07.txt\", sep='\\t', low_memory=False)"
   ]
  },
  {
   "cell_type": "code",
   "execution_count": 3,
   "id": "04c8589d-793b-4b4d-8e3c-44bff5257850",
   "metadata": {},
   "outputs": [
    {
     "name": "stdout",
     "output_type": "stream",
     "text": [
      "Separating Core and Interface entries ..\n",
      "Core data dimensions: (3, 103)\n",
      "Core data preview: \n",
      "  UniProt_ID Mutation Interactor_UniProt_ID\n",
      "0     P28482    E322K                     -\n",
      "1     P42336    G363A                     -\n",
      "2     P42336    K111N                     -\n",
      "\n",
      "Interface data dimensions: (76, 103)\n",
      "Interface data preview: \n",
      "  UniProt_ID Mutation Interactor_UniProt_ID\n",
      "0     P42336   M1043V                Q13535\n",
      "1     P42336   M1043V              Q13535-2\n",
      "2     P42336   M1043V              Q13535-3\n",
      "\n",
      "Dropping duplicated entries ..\n",
      "Size of dataframe before dropping duplicated entries: (3, 103)\n",
      "Size of dataframe  after dropping duplicated entries: (3, 103)\n",
      "Dropping self interactions ..\n",
      "Dropping duplicated entries ..\n",
      "Size of dataframe before dropping duplicated entries: (73, 103)\n",
      "Size of dataframe  after dropping duplicated entries: (73, 103)\n"
     ]
    }
   ],
   "source": [
    "interface_results = ReadyResults(results).get_interface_ready_results()"
   ]
  },
  {
   "cell_type": "code",
   "execution_count": null,
   "id": "fa4bed1e-c738-4a4f-8f54-9be104b65a3e",
   "metadata": {},
   "outputs": [],
   "source": []
  },
  {
   "cell_type": "code",
   "execution_count": null,
   "id": "a15519d5-497d-4e94-b117-6e8c4696ed37",
   "metadata": {},
   "outputs": [],
   "source": []
  },
  {
   "cell_type": "code",
   "execution_count": null,
   "id": "2c1a4064-7da9-46c1-a48b-4f21abed63ba",
   "metadata": {},
   "outputs": [],
   "source": []
  },
  {
   "cell_type": "code",
   "execution_count": null,
   "id": "5a906534-2828-444f-b926-fe2f8131df3a",
   "metadata": {},
   "outputs": [],
   "source": []
  },
  {
   "cell_type": "code",
   "execution_count": null,
   "id": "2fd7d983-e660-4ae5-b7b0-2513c102a738",
   "metadata": {},
   "outputs": [],
   "source": []
  },
  {
   "cell_type": "code",
   "execution_count": null,
   "id": "64be6e6b-1feb-4831-89a6-3f487bfcf6c7",
   "metadata": {},
   "outputs": [],
   "source": []
  },
  {
   "cell_type": "code",
   "execution_count": null,
   "id": "2c285d7d-22cb-4253-a291-ac419d1543e5",
   "metadata": {},
   "outputs": [],
   "source": []
  },
  {
   "cell_type": "code",
   "execution_count": null,
   "id": "99b96df9-e963-4d8b-ac59-5663e920a837",
   "metadata": {},
   "outputs": [],
   "source": []
  },
  {
   "cell_type": "code",
   "execution_count": null,
   "id": "eeebd799-e543-45c0-bea1-0765a12f4aee",
   "metadata": {},
   "outputs": [],
   "source": []
  },
  {
   "cell_type": "code",
   "execution_count": null,
   "id": "0ae53429-ce36-4a00-8fe0-0157f5dbb0dc",
   "metadata": {},
   "outputs": [],
   "source": []
  },
  {
   "cell_type": "code",
   "execution_count": null,
   "id": "61c3874e-2b1a-4e10-b4e6-98cbffe85959",
   "metadata": {},
   "outputs": [],
   "source": []
  },
  {
   "cell_type": "code",
   "execution_count": null,
   "id": "a185ed09-f8f1-4e7c-acfe-66c6071cc340",
   "metadata": {},
   "outputs": [],
   "source": []
  }
 ],
 "metadata": {
  "kernelspec": {
   "display_name": "Python (MyVenvML)",
   "language": "python",
   "name": "myvenvml"
  },
  "language_info": {
   "codemirror_mode": {
    "name": "ipython",
    "version": 3
   },
   "file_extension": ".py",
   "mimetype": "text/x-python",
   "name": "python",
   "nbconvert_exporter": "python",
   "pygments_lexer": "ipython3",
   "version": "3.9.4"
  }
 },
 "nbformat": 4,
 "nbformat_minor": 5
}
