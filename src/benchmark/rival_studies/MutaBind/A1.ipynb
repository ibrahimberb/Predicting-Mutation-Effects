{
 "cells": [
  {
   "cell_type": "code",
   "execution_count": null,
   "metadata": {
    "collapsed": true
   },
   "outputs": [],
   "source": [
    "Q00987.P27S\n",
    "Q00987.K24N\n",
    "Q00987.N29T\n",
    "Q00987.K24A\n",
    "Q00987.S20A\n",
    "Q00987.K24E\n",
    "Q00987.E17D\n",
    "Q00987.E28A\n",
    "Q00987.N29A\n",
    "Q00987.K24T\n",
    "Q00987.E17A\n",
    "Q00987.T18A\n",
    "Q00987.E17K\n",
    "Q00987.F19A\n",
    "Q00987.W23A\n",
    "Q00987.W23G\n",
    "Q00987.E28K\n",
    "Q00987.Y100F\n",
    "Q00987.M62A\n",
    "Q00987.T26A\n",
    "Q00987.E25K\n",
    "Q00987.T26N\n",
    "Q00987.V93A\n",
    "Q00987.Q72A\n",
    "Q00987.K51A\n",
    "Q00987.H73A\n",
    "Q00987.Q72F\n",
    "Q00987.H73G\n",
    "Q00987.K51E\n",
    "Q00987.L54W\n",
    "Q00987.M50A\n",
    "Q00987.M50G\n",
    "Q00987.K94E\n"
   ]
  },
  {
   "cell_type": "code",
   "execution_count": null,
   "outputs": [],
   "source": [
    "http://elaspic.kimlab.org/result/3872a236/"
   ],
   "metadata": {
    "collapsed": false,
    "pycharm": {
     "name": "#%%\n"
    }
   }
  },
  {
   "cell_type": "code",
   "execution_count": null,
   "outputs": [],
   "source": [],
   "metadata": {
    "collapsed": false,
    "pycharm": {
     "name": "#%%\n"
    }
   }
  },
  {
   "cell_type": "code",
   "execution_count": null,
   "outputs": [],
   "source": [],
   "metadata": {
    "collapsed": false,
    "pycharm": {
     "name": "#%%\n"
    }
   }
  }
 ],
 "metadata": {
  "kernelspec": {
   "display_name": "Python 3",
   "language": "python",
   "name": "python3"
  },
  "language_info": {
   "codemirror_mode": {
    "name": "ipython",
    "version": 2
   },
   "file_extension": ".py",
   "mimetype": "text/x-python",
   "name": "python",
   "nbconvert_exporter": "python",
   "pygments_lexer": "ipython2",
   "version": "2.7.6"
  }
 },
 "nbformat": 4,
 "nbformat_minor": 0
}