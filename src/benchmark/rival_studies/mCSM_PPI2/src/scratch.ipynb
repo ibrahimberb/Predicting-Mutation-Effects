{
 "cells": [
  {
   "cell_type": "code",
   "execution_count": 1,
   "metadata": {
    "collapsed": true
   },
   "outputs": [],
   "source": [
    "import pandas as pd"
   ]
  },
  {
   "cell_type": "code",
   "execution_count": 5,
   "metadata": {
    "collapsed": false,
    "pycharm": {
     "name": "#%%\n"
    }
   },
   "outputs": [],
   "source": [
    "protein = \"Q9BPZ3\"\n",
    "mutation = \"F118A\"\n",
    "interactor = \"P11940\"\n",
    "pdb_id = \"1jgn\"\n",
    "chain_id = \"B\"\n",
    "submitted = 1\n",
    "\n",
    "result_url = \"http://biosig.unimelb.edu.au/mcsm_ppi2/results_prediction/164486655328\"\n",
    "\n",
    "# Predicted result\n",
    "predicted_affinity_change_value = -2.18\n",
    "predicted_affinity_change = \"Decreasing affinity\"\n",
    "\n",
    "# Mutation Details\n",
    "mutation_details_chain = \"A\"\n",
    "mutation_details_position = 40\n",
    "mutation_details_wildtype = \"TYR\"\n",
    "mutation_details_mutant = \"CYS\"\n",
    "mutation_details_distance_from_closest_partner = \"3.494Å\"\n"
   ]
  },
  {
   "cell_type": "code",
   "execution_count": 7,
   "metadata": {},
   "outputs": [
    {
     "ename": "NameError",
     "evalue": "name 'mutation_details_chain' is not defined",
     "output_type": "error",
     "traceback": [
      "\u001B[1;31m---------------------------------------------------------------------------\u001B[0m",
      "\u001B[1;31mNameError\u001B[0m                                 Traceback (most recent call last)",
      "\u001B[1;32m<ipython-input-7-09467c49659a>\u001B[0m in \u001B[0;36m<module>\u001B[1;34m\u001B[0m\n\u001B[0;32m     10\u001B[0m         \u001B[1;34m\"PREDICTED_AFFINITY_CHANGE_VALUE\"\u001B[0m\u001B[1;33m:\u001B[0m \u001B[1;33m[\u001B[0m\u001B[0mpredicted_affinity_change_value\u001B[0m\u001B[1;33m]\u001B[0m\u001B[1;33m,\u001B[0m\u001B[1;33m\u001B[0m\u001B[1;33m\u001B[0m\u001B[0m\n\u001B[0;32m     11\u001B[0m         \u001B[1;34m\"PREDICTED_AFFINITY_CHANGE\"\u001B[0m\u001B[1;33m:\u001B[0m \u001B[1;33m[\u001B[0m\u001B[0mpredicted_affinity_change\u001B[0m\u001B[1;33m]\u001B[0m\u001B[1;33m,\u001B[0m\u001B[1;33m\u001B[0m\u001B[1;33m\u001B[0m\u001B[0m\n\u001B[1;32m---> 12\u001B[1;33m         \u001B[1;34m\"MUTATION_DETAILS_CHAIN\"\u001B[0m\u001B[1;33m:\u001B[0m \u001B[1;33m[\u001B[0m\u001B[0mmutation_details_chain\u001B[0m\u001B[1;33m]\u001B[0m\u001B[1;33m,\u001B[0m\u001B[1;33m\u001B[0m\u001B[1;33m\u001B[0m\u001B[0m\n\u001B[0m\u001B[0;32m     13\u001B[0m         \u001B[1;34m\"MUTATION_DETAILS_POSITION\"\u001B[0m\u001B[1;33m:\u001B[0m \u001B[1;33m[\u001B[0m\u001B[0mmutation_details_position\u001B[0m\u001B[1;33m]\u001B[0m\u001B[1;33m,\u001B[0m\u001B[1;33m\u001B[0m\u001B[1;33m\u001B[0m\u001B[0m\n\u001B[0;32m     14\u001B[0m         \u001B[1;34m\"MUTATION_DETAILS_WILDCARD\"\u001B[0m\u001B[1;33m:\u001B[0m \u001B[1;33m[\u001B[0m\u001B[0mmutation_details_wildtype\u001B[0m\u001B[1;33m]\u001B[0m\u001B[1;33m,\u001B[0m\u001B[1;33m\u001B[0m\u001B[1;33m\u001B[0m\u001B[0m\n",
      "\u001B[1;31mNameError\u001B[0m: name 'mutation_details_chain' is not defined"
     ]
    }
   ],
   "source": [
    "pd.DataFrame(\n",
    "    {\n",
    "        \"PROTEIN\": [protein],\n",
    "        \"MUTATION\": [mutation],\n",
    "        \"INTERACTOR\": [interactor],\n",
    "        \"PDB_ID\": [pdb_id],\n",
    "        \"CHAIN_ID\": [chain_id],\n",
    "        \"SUBMITTED\": [submitted],\n",
    "        \"RESULT_URL\": [result_url],\n",
    "        \"PREDICTED_AFFINITY_CHANGE_VALUE\": [predicted_affinity_change_value],\n",
    "        \"PREDICTED_AFFINITY_CHANGE\": [predicted_affinity_change],\n",
    "        \"MUTATION_DETAILS_CHAIN\": [mutation_details_chain],\n",
    "        \"MUTATION_DETAILS_POSITION\": [mutation_details_position],\n",
    "        \"MUTATION_DETAILS_WILDCARD\": [mutation_details_wildtype],\n",
    "        \"MUTATION_DETAILS_MUTANT\": [mutation_details_mutant],\n",
    "        \"MUTATION_DETAILS_DISTANCE_FROM_CLOSEST_PARTNER\": [\n",
    "            mutation_details_distance_from_closest_partner\n",
    "        ],\n",
    "    }\n",
    ")"
   ]
  },
  {
   "cell_type": "code",
   "execution_count": null,
   "metadata": {},
   "outputs": [],
   "source": []
  },
  {
   "cell_type": "code",
   "execution_count": null,
   "metadata": {
    "collapsed": false,
    "pycharm": {
     "name": "#%%\n"
    }
   },
   "outputs": [],
   "source": []
  }
 ],
 "metadata": {
  "kernelspec": {
   "display_name": "Python 3",
   "language": "python",
   "name": "python3"
  },
  "language_info": {
   "codemirror_mode": {
    "name": "ipython",
    "version": 3
   },
   "file_extension": ".py",
   "mimetype": "text/x-python",
   "name": "python",
   "nbconvert_exporter": "python",
   "pygments_lexer": "ipython3",
   "version": "3.9.4"
  }
 },
 "nbformat": 4,
 "nbformat_minor": 0
}