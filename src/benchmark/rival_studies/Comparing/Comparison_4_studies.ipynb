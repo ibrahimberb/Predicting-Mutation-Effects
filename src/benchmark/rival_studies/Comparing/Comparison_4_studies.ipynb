{
 "cells": [
  {
   "cell_type": "markdown",
   "source": [
    "# Comparing Predator with other studies\n",
    "\n",
    "February 24th, 2022\n",
    "\n",
    "Studies:\n",
    "1. Predator\n",
    "2. SAAMBE_3D\n",
    "3. PANDA\n",
    "4. mCSM-PPI2"
   ],
   "metadata": {
    "collapsed": false
   }
  },
  {
   "cell_type": "code",
   "execution_count": 1,
   "outputs": [],
   "source": [
    "import pandas as pd"
   ],
   "metadata": {
    "collapsed": false,
    "pycharm": {
     "name": "#%%\n"
    }
   }
  },
  {
   "cell_type": "code",
   "execution_count": 2,
   "outputs": [],
   "source": [
    "PREDATOR_PREDICTIONS_DATA_PATH = \"../../../dev/leave_one_complex_out/v2/leave_one_complex_out_result_data_simplified_2022-02-24.csv\"\n",
    "SAAMBE_3D_PREDICTIONS_DATA_PATH = \"../../SAAMBE_3D_Study/SAAMBE-3D-master/PredatorBenchmark/SAAMBE_3D_predictions_2022-02-23.csv\"\n",
    "PANDA_PREDICTIONS_DATA_PATH = \"../../PANDA/panda-master/PredatorBenchmark/train_data_with_PANDA_prediction_2022-02-23.csv\"\n",
    "MCSM_PPI2_PREDICTION_DATA_PATH = \"../mCSM_PPI2/src/Record/mcsm_ppi2_predictions_2022-02-24.csv\""
   ],
   "metadata": {
    "collapsed": false,
    "pycharm": {
     "name": "#%%\n"
    }
   }
  },
  {
   "cell_type": "markdown",
   "source": [
    "#### 1. Predator Predictions"
   ],
   "metadata": {
    "collapsed": false
   }
  },
  {
   "cell_type": "code",
   "execution_count": 3,
   "outputs": [
    {
     "data": {
      "text/plain": "     Mutation_Effect_Label UniProt_ID Mutation Interactor_UniProt_ID  \\\n0                        0     Q9BPZ3    F118A                P11940   \n1                        0     P01116     Y40C                P50749   \n2                        0     Q96QK1    F534D                Q9UBQ0   \n3                        0     Q96QK1    F534D              Q9UBQ0-2   \n4                        0   O43521-3     G66A                Q07812   \n..                     ...        ...      ...                   ...   \n735                      0     P84243     Q94A              Q9UER7-3   \n736                      0     Q96QK1    L589D                Q9UBQ0   \n737                      0     Q96QK1    L589D              Q9UBQ0-2   \n738                      0     P23297     F72L                P25815   \n739                      0     Q15836     L46P                O43752   \n\n    Template_cath_id  PREDATOR_DEFAULT  PREDATOR_FS  PREDATOR_FS_HP  \n0              1jgnB                 1            1               1  \n1              3ddcA                 0            0               0  \n2              2r17C                 0            0               0  \n3              2r17C                 0            0               0  \n4              3fdlB                 1            1               1  \n..               ...               ...          ...             ...  \n735            4hgaB                 0            0               0  \n736            2r17C                 0            0               0  \n737            2r17C                 0            0               0  \n738            2y5iA                 0            0               0  \n739            2npsA                 0            0               0  \n\n[740 rows x 8 columns]",
      "text/html": "<div>\n<style scoped>\n    .dataframe tbody tr th:only-of-type {\n        vertical-align: middle;\n    }\n\n    .dataframe tbody tr th {\n        vertical-align: top;\n    }\n\n    .dataframe thead th {\n        text-align: right;\n    }\n</style>\n<table border=\"1\" class=\"dataframe\">\n  <thead>\n    <tr style=\"text-align: right;\">\n      <th></th>\n      <th>Mutation_Effect_Label</th>\n      <th>UniProt_ID</th>\n      <th>Mutation</th>\n      <th>Interactor_UniProt_ID</th>\n      <th>Template_cath_id</th>\n      <th>PREDATOR_DEFAULT</th>\n      <th>PREDATOR_FS</th>\n      <th>PREDATOR_FS_HP</th>\n    </tr>\n  </thead>\n  <tbody>\n    <tr>\n      <th>0</th>\n      <td>0</td>\n      <td>Q9BPZ3</td>\n      <td>F118A</td>\n      <td>P11940</td>\n      <td>1jgnB</td>\n      <td>1</td>\n      <td>1</td>\n      <td>1</td>\n    </tr>\n    <tr>\n      <th>1</th>\n      <td>0</td>\n      <td>P01116</td>\n      <td>Y40C</td>\n      <td>P50749</td>\n      <td>3ddcA</td>\n      <td>0</td>\n      <td>0</td>\n      <td>0</td>\n    </tr>\n    <tr>\n      <th>2</th>\n      <td>0</td>\n      <td>Q96QK1</td>\n      <td>F534D</td>\n      <td>Q9UBQ0</td>\n      <td>2r17C</td>\n      <td>0</td>\n      <td>0</td>\n      <td>0</td>\n    </tr>\n    <tr>\n      <th>3</th>\n      <td>0</td>\n      <td>Q96QK1</td>\n      <td>F534D</td>\n      <td>Q9UBQ0-2</td>\n      <td>2r17C</td>\n      <td>0</td>\n      <td>0</td>\n      <td>0</td>\n    </tr>\n    <tr>\n      <th>4</th>\n      <td>0</td>\n      <td>O43521-3</td>\n      <td>G66A</td>\n      <td>Q07812</td>\n      <td>3fdlB</td>\n      <td>1</td>\n      <td>1</td>\n      <td>1</td>\n    </tr>\n    <tr>\n      <th>...</th>\n      <td>...</td>\n      <td>...</td>\n      <td>...</td>\n      <td>...</td>\n      <td>...</td>\n      <td>...</td>\n      <td>...</td>\n      <td>...</td>\n    </tr>\n    <tr>\n      <th>735</th>\n      <td>0</td>\n      <td>P84243</td>\n      <td>Q94A</td>\n      <td>Q9UER7-3</td>\n      <td>4hgaB</td>\n      <td>0</td>\n      <td>0</td>\n      <td>0</td>\n    </tr>\n    <tr>\n      <th>736</th>\n      <td>0</td>\n      <td>Q96QK1</td>\n      <td>L589D</td>\n      <td>Q9UBQ0</td>\n      <td>2r17C</td>\n      <td>0</td>\n      <td>0</td>\n      <td>0</td>\n    </tr>\n    <tr>\n      <th>737</th>\n      <td>0</td>\n      <td>Q96QK1</td>\n      <td>L589D</td>\n      <td>Q9UBQ0-2</td>\n      <td>2r17C</td>\n      <td>0</td>\n      <td>0</td>\n      <td>0</td>\n    </tr>\n    <tr>\n      <th>738</th>\n      <td>0</td>\n      <td>P23297</td>\n      <td>F72L</td>\n      <td>P25815</td>\n      <td>2y5iA</td>\n      <td>0</td>\n      <td>0</td>\n      <td>0</td>\n    </tr>\n    <tr>\n      <th>739</th>\n      <td>0</td>\n      <td>Q15836</td>\n      <td>L46P</td>\n      <td>O43752</td>\n      <td>2npsA</td>\n      <td>0</td>\n      <td>0</td>\n      <td>0</td>\n    </tr>\n  </tbody>\n</table>\n<p>740 rows × 8 columns</p>\n</div>"
     },
     "execution_count": 3,
     "metadata": {},
     "output_type": "execute_result"
    }
   ],
   "source": [
    "predator_predictions_data = pd.read_csv(\n",
    "    PREDATOR_PREDICTIONS_DATA_PATH, usecols=[\n",
    "        \"Mutation_Effect_Label\", \"UniProt_ID\", \"Mutation\", \"Interactor_UniProt_ID\", \"Template_cath_id\",\n",
    "        \"Prediction_default\", \"Prediction_FS\", \"Prediction_FS_HP\"\n",
    "    ]\n",
    ")\n",
    "\n",
    "predator_predictions_data.rename(\n",
    "    columns={\n",
    "        \"Prediction_default\": \"PREDATOR_DEFAULT\",\n",
    "        \"Prediction_FS\": \"PREDATOR_FS\",\n",
    "        \"Prediction_FS_HP\": \"PREDATOR_FS_HP\",\n",
    "    }, inplace=True\n",
    ")\n",
    "\n",
    "predator_predictions_data"
   ],
   "metadata": {
    "collapsed": false,
    "pycharm": {
     "name": "#%%\n"
    }
   }
  },
  {
   "cell_type": "markdown",
   "source": [
    "#### 2. SAAMBE-3D Predictions"
   ],
   "metadata": {
    "collapsed": false
   }
  },
  {
   "cell_type": "code",
   "execution_count": 4,
   "outputs": [
    {
     "data": {
      "text/plain": "     Mutation_Effect_Label UniProt_ID Mutation Interactor_UniProt_ID  \\\n0                        0     Q9BPZ3    F118A                P11940   \n1                        0     P01116     Y40C                P50749   \n2                        0     Q96QK1    F534D                Q9UBQ0   \n3                        0     Q96QK1    F534D              Q9UBQ0-2   \n4                        0   O43521-3     G66A                Q07812   \n..                     ...        ...      ...                   ...   \n735                      0     P84243     Q94A              Q9UER7-3   \n736                      0     Q96QK1    L589D                Q9UBQ0   \n737                      0     Q96QK1    L589D              Q9UBQ0-2   \n738                      0     P23297     F72L                P25815   \n739                      0     Q15836     L46P                O43752   \n\n    Template_cath_id      SAAMBE_3D  \n0              1jgnB  not_available  \n1              3ddcA            1.0  \n2              2r17C            1.0  \n3              2r17C            1.0  \n4              3fdlB  not_available  \n..               ...            ...  \n735            4hgaB  not_available  \n736            2r17C            1.0  \n737            2r17C            1.0  \n738            2y5iA            1.0  \n739            2npsA  not_available  \n\n[740 rows x 6 columns]",
      "text/html": "<div>\n<style scoped>\n    .dataframe tbody tr th:only-of-type {\n        vertical-align: middle;\n    }\n\n    .dataframe tbody tr th {\n        vertical-align: top;\n    }\n\n    .dataframe thead th {\n        text-align: right;\n    }\n</style>\n<table border=\"1\" class=\"dataframe\">\n  <thead>\n    <tr style=\"text-align: right;\">\n      <th></th>\n      <th>Mutation_Effect_Label</th>\n      <th>UniProt_ID</th>\n      <th>Mutation</th>\n      <th>Interactor_UniProt_ID</th>\n      <th>Template_cath_id</th>\n      <th>SAAMBE_3D</th>\n    </tr>\n  </thead>\n  <tbody>\n    <tr>\n      <th>0</th>\n      <td>0</td>\n      <td>Q9BPZ3</td>\n      <td>F118A</td>\n      <td>P11940</td>\n      <td>1jgnB</td>\n      <td>not_available</td>\n    </tr>\n    <tr>\n      <th>1</th>\n      <td>0</td>\n      <td>P01116</td>\n      <td>Y40C</td>\n      <td>P50749</td>\n      <td>3ddcA</td>\n      <td>1.0</td>\n    </tr>\n    <tr>\n      <th>2</th>\n      <td>0</td>\n      <td>Q96QK1</td>\n      <td>F534D</td>\n      <td>Q9UBQ0</td>\n      <td>2r17C</td>\n      <td>1.0</td>\n    </tr>\n    <tr>\n      <th>3</th>\n      <td>0</td>\n      <td>Q96QK1</td>\n      <td>F534D</td>\n      <td>Q9UBQ0-2</td>\n      <td>2r17C</td>\n      <td>1.0</td>\n    </tr>\n    <tr>\n      <th>4</th>\n      <td>0</td>\n      <td>O43521-3</td>\n      <td>G66A</td>\n      <td>Q07812</td>\n      <td>3fdlB</td>\n      <td>not_available</td>\n    </tr>\n    <tr>\n      <th>...</th>\n      <td>...</td>\n      <td>...</td>\n      <td>...</td>\n      <td>...</td>\n      <td>...</td>\n      <td>...</td>\n    </tr>\n    <tr>\n      <th>735</th>\n      <td>0</td>\n      <td>P84243</td>\n      <td>Q94A</td>\n      <td>Q9UER7-3</td>\n      <td>4hgaB</td>\n      <td>not_available</td>\n    </tr>\n    <tr>\n      <th>736</th>\n      <td>0</td>\n      <td>Q96QK1</td>\n      <td>L589D</td>\n      <td>Q9UBQ0</td>\n      <td>2r17C</td>\n      <td>1.0</td>\n    </tr>\n    <tr>\n      <th>737</th>\n      <td>0</td>\n      <td>Q96QK1</td>\n      <td>L589D</td>\n      <td>Q9UBQ0-2</td>\n      <td>2r17C</td>\n      <td>1.0</td>\n    </tr>\n    <tr>\n      <th>738</th>\n      <td>0</td>\n      <td>P23297</td>\n      <td>F72L</td>\n      <td>P25815</td>\n      <td>2y5iA</td>\n      <td>1.0</td>\n    </tr>\n    <tr>\n      <th>739</th>\n      <td>0</td>\n      <td>Q15836</td>\n      <td>L46P</td>\n      <td>O43752</td>\n      <td>2npsA</td>\n      <td>not_available</td>\n    </tr>\n  </tbody>\n</table>\n<p>740 rows × 6 columns</p>\n</div>"
     },
     "execution_count": 4,
     "metadata": {},
     "output_type": "execute_result"
    }
   ],
   "source": [
    "saambe_3d_predictions_data = pd.read_csv(\n",
    "    SAAMBE_3D_PREDICTIONS_DATA_PATH, usecols=[\n",
    "        \"Mutation_Effect_Label\", \"UniProt_ID\", \"Mutation\", \"Interactor_UniProt_ID\", \"Template_cath_id\", \"Prediction\"\n",
    "    ]\n",
    ")\n",
    "\n",
    "saambe_3d_predictions_data.rename(\n",
    "    columns={\"Prediction\": \"SAAMBE_3D\"}, inplace=True\n",
    ")\n",
    "\n",
    "saambe_3d_predictions_data[\"SAAMBE_3D\"] = saambe_3d_predictions_data[\"SAAMBE_3D\"].fillna(\"not_available\")\n",
    "\n",
    "saambe_3d_predictions_data"
   ],
   "metadata": {
    "collapsed": false,
    "pycharm": {
     "name": "#%%\n"
    }
   }
  },
  {
   "cell_type": "markdown",
   "source": [
    "#### 3. PANDA Predictions"
   ],
   "metadata": {
    "collapsed": false
   }
  },
  {
   "cell_type": "code",
   "execution_count": 5,
   "outputs": [
    {
     "data": {
      "text/plain": "     Mutation_Effect_Label UniProt_ID Mutation Interactor_UniProt_ID  \\\n0                        0     Q9BPZ3    F118A                P11940   \n1                        0     P01116     Y40C                P50749   \n2                        0     Q96QK1    F534D                Q9UBQ0   \n3                        0     Q96QK1    F534D              Q9UBQ0-2   \n4                        0   O43521-3     G66A                Q07812   \n..                     ...        ...      ...                   ...   \n735                      0     P84243     Q94A              Q9UER7-3   \n736                      0     Q96QK1    L589D                Q9UBQ0   \n737                      0     Q96QK1    L589D              Q9UBQ0-2   \n738                      0     P23297     F72L                P25815   \n739                      0     Q15836     L46P                O43752   \n\n    Template_cath_id  PANDA  \n0              1jgnB      0  \n1              3ddcA      0  \n2              2r17C      0  \n3              2r17C      0  \n4              3fdlB      0  \n..               ...    ...  \n735            4hgaB      0  \n736            2r17C      0  \n737            2r17C      0  \n738            2y5iA      0  \n739            2npsA      0  \n\n[740 rows x 6 columns]",
      "text/html": "<div>\n<style scoped>\n    .dataframe tbody tr th:only-of-type {\n        vertical-align: middle;\n    }\n\n    .dataframe tbody tr th {\n        vertical-align: top;\n    }\n\n    .dataframe thead th {\n        text-align: right;\n    }\n</style>\n<table border=\"1\" class=\"dataframe\">\n  <thead>\n    <tr style=\"text-align: right;\">\n      <th></th>\n      <th>Mutation_Effect_Label</th>\n      <th>UniProt_ID</th>\n      <th>Mutation</th>\n      <th>Interactor_UniProt_ID</th>\n      <th>Template_cath_id</th>\n      <th>PANDA</th>\n    </tr>\n  </thead>\n  <tbody>\n    <tr>\n      <th>0</th>\n      <td>0</td>\n      <td>Q9BPZ3</td>\n      <td>F118A</td>\n      <td>P11940</td>\n      <td>1jgnB</td>\n      <td>0</td>\n    </tr>\n    <tr>\n      <th>1</th>\n      <td>0</td>\n      <td>P01116</td>\n      <td>Y40C</td>\n      <td>P50749</td>\n      <td>3ddcA</td>\n      <td>0</td>\n    </tr>\n    <tr>\n      <th>2</th>\n      <td>0</td>\n      <td>Q96QK1</td>\n      <td>F534D</td>\n      <td>Q9UBQ0</td>\n      <td>2r17C</td>\n      <td>0</td>\n    </tr>\n    <tr>\n      <th>3</th>\n      <td>0</td>\n      <td>Q96QK1</td>\n      <td>F534D</td>\n      <td>Q9UBQ0-2</td>\n      <td>2r17C</td>\n      <td>0</td>\n    </tr>\n    <tr>\n      <th>4</th>\n      <td>0</td>\n      <td>O43521-3</td>\n      <td>G66A</td>\n      <td>Q07812</td>\n      <td>3fdlB</td>\n      <td>0</td>\n    </tr>\n    <tr>\n      <th>...</th>\n      <td>...</td>\n      <td>...</td>\n      <td>...</td>\n      <td>...</td>\n      <td>...</td>\n      <td>...</td>\n    </tr>\n    <tr>\n      <th>735</th>\n      <td>0</td>\n      <td>P84243</td>\n      <td>Q94A</td>\n      <td>Q9UER7-3</td>\n      <td>4hgaB</td>\n      <td>0</td>\n    </tr>\n    <tr>\n      <th>736</th>\n      <td>0</td>\n      <td>Q96QK1</td>\n      <td>L589D</td>\n      <td>Q9UBQ0</td>\n      <td>2r17C</td>\n      <td>0</td>\n    </tr>\n    <tr>\n      <th>737</th>\n      <td>0</td>\n      <td>Q96QK1</td>\n      <td>L589D</td>\n      <td>Q9UBQ0-2</td>\n      <td>2r17C</td>\n      <td>0</td>\n    </tr>\n    <tr>\n      <th>738</th>\n      <td>0</td>\n      <td>P23297</td>\n      <td>F72L</td>\n      <td>P25815</td>\n      <td>2y5iA</td>\n      <td>0</td>\n    </tr>\n    <tr>\n      <th>739</th>\n      <td>0</td>\n      <td>Q15836</td>\n      <td>L46P</td>\n      <td>O43752</td>\n      <td>2npsA</td>\n      <td>0</td>\n    </tr>\n  </tbody>\n</table>\n<p>740 rows × 6 columns</p>\n</div>"
     },
     "execution_count": 5,
     "metadata": {},
     "output_type": "execute_result"
    }
   ],
   "source": [
    "panda_predictions_data = pd.read_csv(\n",
    "    PANDA_PREDICTIONS_DATA_PATH, usecols=[\n",
    "        \"Mutation_Effect_Label\", \"UniProt_ID\", \"Mutation\", \"Interactor_UniProt_ID\", \"Template_cath_id\",\n",
    "        \"PANDA_Predictions\"\n",
    "    ]\n",
    ")\n",
    "panda_predictions_data.rename(columns={\"PANDA_Predictions\": \"PANDA\"}, inplace=True)\n",
    "panda_predictions_data"
   ],
   "metadata": {
    "collapsed": false,
    "pycharm": {
     "name": "#%%\n"
    }
   }
  },
  {
   "cell_type": "markdown",
   "source": [
    "#### 4. mCSM_PPI2 Predictions"
   ],
   "metadata": {
    "collapsed": false
   }
  },
  {
   "cell_type": "code",
   "execution_count": 6,
   "outputs": [
    {
     "data": {
      "text/plain": "     Mutation_Effect_Label UniProt_ID Mutation Interactor_UniProt_ID  \\\n0                        0     Q9BPZ3    F118A                P11940   \n1                        0     P01116     Y40C                P50749   \n2                        0     Q96QK1    F534D                Q9UBQ0   \n3                        0     Q96QK1    F534D              Q9UBQ0-2   \n4                        0   O43521-3     G66A                Q07812   \n..                     ...        ...      ...                   ...   \n735                      0     P84243     Q94A              Q9UER7-3   \n736                      0     Q96QK1    L589D                Q9UBQ0   \n737                      0     Q96QK1    L589D              Q9UBQ0-2   \n738                      0     P23297     F72L                P25815   \n739                      0     Q15836     L46P                O43752   \n\n    Template_cath_id       mCSM_PP2  \n0              1jgnB  not_available  \n1              3ddcA            0.0  \n2              2r17C            0.0  \n3              2r17C            0.0  \n4              3fdlB  not_available  \n..               ...            ...  \n735            4hgaB  not_available  \n736            2r17C            0.0  \n737            2r17C            0.0  \n738            2y5iA            0.0  \n739            2npsA  not_available  \n\n[740 rows x 6 columns]",
      "text/html": "<div>\n<style scoped>\n    .dataframe tbody tr th:only-of-type {\n        vertical-align: middle;\n    }\n\n    .dataframe tbody tr th {\n        vertical-align: top;\n    }\n\n    .dataframe thead th {\n        text-align: right;\n    }\n</style>\n<table border=\"1\" class=\"dataframe\">\n  <thead>\n    <tr style=\"text-align: right;\">\n      <th></th>\n      <th>Mutation_Effect_Label</th>\n      <th>UniProt_ID</th>\n      <th>Mutation</th>\n      <th>Interactor_UniProt_ID</th>\n      <th>Template_cath_id</th>\n      <th>mCSM_PP2</th>\n    </tr>\n  </thead>\n  <tbody>\n    <tr>\n      <th>0</th>\n      <td>0</td>\n      <td>Q9BPZ3</td>\n      <td>F118A</td>\n      <td>P11940</td>\n      <td>1jgnB</td>\n      <td>not_available</td>\n    </tr>\n    <tr>\n      <th>1</th>\n      <td>0</td>\n      <td>P01116</td>\n      <td>Y40C</td>\n      <td>P50749</td>\n      <td>3ddcA</td>\n      <td>0.0</td>\n    </tr>\n    <tr>\n      <th>2</th>\n      <td>0</td>\n      <td>Q96QK1</td>\n      <td>F534D</td>\n      <td>Q9UBQ0</td>\n      <td>2r17C</td>\n      <td>0.0</td>\n    </tr>\n    <tr>\n      <th>3</th>\n      <td>0</td>\n      <td>Q96QK1</td>\n      <td>F534D</td>\n      <td>Q9UBQ0-2</td>\n      <td>2r17C</td>\n      <td>0.0</td>\n    </tr>\n    <tr>\n      <th>4</th>\n      <td>0</td>\n      <td>O43521-3</td>\n      <td>G66A</td>\n      <td>Q07812</td>\n      <td>3fdlB</td>\n      <td>not_available</td>\n    </tr>\n    <tr>\n      <th>...</th>\n      <td>...</td>\n      <td>...</td>\n      <td>...</td>\n      <td>...</td>\n      <td>...</td>\n      <td>...</td>\n    </tr>\n    <tr>\n      <th>735</th>\n      <td>0</td>\n      <td>P84243</td>\n      <td>Q94A</td>\n      <td>Q9UER7-3</td>\n      <td>4hgaB</td>\n      <td>not_available</td>\n    </tr>\n    <tr>\n      <th>736</th>\n      <td>0</td>\n      <td>Q96QK1</td>\n      <td>L589D</td>\n      <td>Q9UBQ0</td>\n      <td>2r17C</td>\n      <td>0.0</td>\n    </tr>\n    <tr>\n      <th>737</th>\n      <td>0</td>\n      <td>Q96QK1</td>\n      <td>L589D</td>\n      <td>Q9UBQ0-2</td>\n      <td>2r17C</td>\n      <td>0.0</td>\n    </tr>\n    <tr>\n      <th>738</th>\n      <td>0</td>\n      <td>P23297</td>\n      <td>F72L</td>\n      <td>P25815</td>\n      <td>2y5iA</td>\n      <td>0.0</td>\n    </tr>\n    <tr>\n      <th>739</th>\n      <td>0</td>\n      <td>Q15836</td>\n      <td>L46P</td>\n      <td>O43752</td>\n      <td>2npsA</td>\n      <td>not_available</td>\n    </tr>\n  </tbody>\n</table>\n<p>740 rows × 6 columns</p>\n</div>"
     },
     "execution_count": 6,
     "metadata": {},
     "output_type": "execute_result"
    }
   ],
   "source": [
    "mcsm_ppi2_predictions_data = pd.read_csv(\n",
    "    MCSM_PPI2_PREDICTION_DATA_PATH\n",
    ")\n",
    "\n",
    "mcsm_ppi2_predictions_data.insert(\n",
    "    4,\n",
    "    \"Template_cath_id\",\n",
    "    mcsm_ppi2_predictions_data[\"pdb_id\"] + mcsm_ppi2_predictions_data[\"chain_id\"]\n",
    ")\n",
    "\n",
    "mcsm_ppi2_predictions_data.drop([\"pdb_id\", \"chain_id\"], inplace=True, axis=\"columns\")\n",
    "\n",
    "mcsm_ppi2_predictions_data.rename(\n",
    "    columns={\"mCSM_PP2_Prediction\": \"mCSM_PP2\"}, inplace=True\n",
    ")\n",
    "\n",
    "mcsm_ppi2_predictions_data[\"mCSM_PP2\"] = mcsm_ppi2_predictions_data[\"mCSM_PP2\"].fillna(\"not_available\")\n",
    "\n",
    "mcsm_ppi2_predictions_data"
   ],
   "metadata": {
    "collapsed": false,
    "pycharm": {
     "name": "#%%\n"
    }
   }
  },
  {
   "cell_type": "code",
   "execution_count": 6,
   "outputs": [],
   "source": [],
   "metadata": {
    "collapsed": false,
    "pycharm": {
     "name": "#%%\n"
    }
   }
  },
  {
   "cell_type": "markdown",
   "source": [
    "## Benchmark data"
   ],
   "metadata": {
    "collapsed": false
   }
  },
  {
   "cell_type": "code",
   "execution_count": 7,
   "outputs": [
    {
     "data": {
      "text/plain": "     Mutation_Effect_Label UniProt_ID Mutation Interactor_UniProt_ID  \\\n0                        0     Q9BPZ3    F118A                P11940   \n1                        0     P01116     Y40C                P50749   \n2                        0     Q96QK1    F534D                Q9UBQ0   \n3                        0     Q96QK1    F534D              Q9UBQ0-2   \n4                        0   O43521-3     G66A                Q07812   \n..                     ...        ...      ...                   ...   \n735                      0     P84243     Q94A              Q9UER7-3   \n736                      0     Q96QK1    L589D                Q9UBQ0   \n737                      0     Q96QK1    L589D              Q9UBQ0-2   \n738                      0     P23297     F72L                P25815   \n739                      0     Q15836     L46P                O43752   \n\n    Template_cath_id  PREDATOR_DEFAULT  PREDATOR_FS  PREDATOR_FS_HP  \\\n0              1jgnB                 1            1               1   \n1              3ddcA                 0            0               0   \n2              2r17C                 0            0               0   \n3              2r17C                 0            0               0   \n4              3fdlB                 1            1               1   \n..               ...               ...          ...             ...   \n735            4hgaB                 0            0               0   \n736            2r17C                 0            0               0   \n737            2r17C                 0            0               0   \n738            2y5iA                 0            0               0   \n739            2npsA                 0            0               0   \n\n         SAAMBE_3D  PANDA       mCSM_PP2  \n0    not_available      0  not_available  \n1              1.0      0            0.0  \n2              1.0      0            0.0  \n3              1.0      0            0.0  \n4    not_available      0  not_available  \n..             ...    ...            ...  \n735  not_available      0  not_available  \n736            1.0      0            0.0  \n737            1.0      0            0.0  \n738            1.0      0            0.0  \n739  not_available      0  not_available  \n\n[740 rows x 11 columns]",
      "text/html": "<div>\n<style scoped>\n    .dataframe tbody tr th:only-of-type {\n        vertical-align: middle;\n    }\n\n    .dataframe tbody tr th {\n        vertical-align: top;\n    }\n\n    .dataframe thead th {\n        text-align: right;\n    }\n</style>\n<table border=\"1\" class=\"dataframe\">\n  <thead>\n    <tr style=\"text-align: right;\">\n      <th></th>\n      <th>Mutation_Effect_Label</th>\n      <th>UniProt_ID</th>\n      <th>Mutation</th>\n      <th>Interactor_UniProt_ID</th>\n      <th>Template_cath_id</th>\n      <th>PREDATOR_DEFAULT</th>\n      <th>PREDATOR_FS</th>\n      <th>PREDATOR_FS_HP</th>\n      <th>SAAMBE_3D</th>\n      <th>PANDA</th>\n      <th>mCSM_PP2</th>\n    </tr>\n  </thead>\n  <tbody>\n    <tr>\n      <th>0</th>\n      <td>0</td>\n      <td>Q9BPZ3</td>\n      <td>F118A</td>\n      <td>P11940</td>\n      <td>1jgnB</td>\n      <td>1</td>\n      <td>1</td>\n      <td>1</td>\n      <td>not_available</td>\n      <td>0</td>\n      <td>not_available</td>\n    </tr>\n    <tr>\n      <th>1</th>\n      <td>0</td>\n      <td>P01116</td>\n      <td>Y40C</td>\n      <td>P50749</td>\n      <td>3ddcA</td>\n      <td>0</td>\n      <td>0</td>\n      <td>0</td>\n      <td>1.0</td>\n      <td>0</td>\n      <td>0.0</td>\n    </tr>\n    <tr>\n      <th>2</th>\n      <td>0</td>\n      <td>Q96QK1</td>\n      <td>F534D</td>\n      <td>Q9UBQ0</td>\n      <td>2r17C</td>\n      <td>0</td>\n      <td>0</td>\n      <td>0</td>\n      <td>1.0</td>\n      <td>0</td>\n      <td>0.0</td>\n    </tr>\n    <tr>\n      <th>3</th>\n      <td>0</td>\n      <td>Q96QK1</td>\n      <td>F534D</td>\n      <td>Q9UBQ0-2</td>\n      <td>2r17C</td>\n      <td>0</td>\n      <td>0</td>\n      <td>0</td>\n      <td>1.0</td>\n      <td>0</td>\n      <td>0.0</td>\n    </tr>\n    <tr>\n      <th>4</th>\n      <td>0</td>\n      <td>O43521-3</td>\n      <td>G66A</td>\n      <td>Q07812</td>\n      <td>3fdlB</td>\n      <td>1</td>\n      <td>1</td>\n      <td>1</td>\n      <td>not_available</td>\n      <td>0</td>\n      <td>not_available</td>\n    </tr>\n    <tr>\n      <th>...</th>\n      <td>...</td>\n      <td>...</td>\n      <td>...</td>\n      <td>...</td>\n      <td>...</td>\n      <td>...</td>\n      <td>...</td>\n      <td>...</td>\n      <td>...</td>\n      <td>...</td>\n      <td>...</td>\n    </tr>\n    <tr>\n      <th>735</th>\n      <td>0</td>\n      <td>P84243</td>\n      <td>Q94A</td>\n      <td>Q9UER7-3</td>\n      <td>4hgaB</td>\n      <td>0</td>\n      <td>0</td>\n      <td>0</td>\n      <td>not_available</td>\n      <td>0</td>\n      <td>not_available</td>\n    </tr>\n    <tr>\n      <th>736</th>\n      <td>0</td>\n      <td>Q96QK1</td>\n      <td>L589D</td>\n      <td>Q9UBQ0</td>\n      <td>2r17C</td>\n      <td>0</td>\n      <td>0</td>\n      <td>0</td>\n      <td>1.0</td>\n      <td>0</td>\n      <td>0.0</td>\n    </tr>\n    <tr>\n      <th>737</th>\n      <td>0</td>\n      <td>Q96QK1</td>\n      <td>L589D</td>\n      <td>Q9UBQ0-2</td>\n      <td>2r17C</td>\n      <td>0</td>\n      <td>0</td>\n      <td>0</td>\n      <td>1.0</td>\n      <td>0</td>\n      <td>0.0</td>\n    </tr>\n    <tr>\n      <th>738</th>\n      <td>0</td>\n      <td>P23297</td>\n      <td>F72L</td>\n      <td>P25815</td>\n      <td>2y5iA</td>\n      <td>0</td>\n      <td>0</td>\n      <td>0</td>\n      <td>1.0</td>\n      <td>0</td>\n      <td>0.0</td>\n    </tr>\n    <tr>\n      <th>739</th>\n      <td>0</td>\n      <td>Q15836</td>\n      <td>L46P</td>\n      <td>O43752</td>\n      <td>2npsA</td>\n      <td>0</td>\n      <td>0</td>\n      <td>0</td>\n      <td>not_available</td>\n      <td>0</td>\n      <td>not_available</td>\n    </tr>\n  </tbody>\n</table>\n<p>740 rows × 11 columns</p>\n</div>"
     },
     "execution_count": 7,
     "metadata": {},
     "output_type": "execute_result"
    }
   ],
   "source": [
    "# Add PREDATOR\n",
    "benchmark_data = predator_predictions_data.copy()\n",
    "\n",
    "# Add SAMBE_3D\n",
    "benchmark_data[\"SAAMBE_3D\"] = saambe_3d_predictions_data[\"SAAMBE_3D\"]\n",
    "\n",
    "# Add PANDA\n",
    "benchmark_data[\"PANDA\"] = panda_predictions_data[\"PANDA\"]\n",
    "\n",
    "# Add mCSM_PPI2\n",
    "benchmark_data[\"mCSM_PP2\"] = mcsm_ppi2_predictions_data[\"mCSM_PP2\"]\n",
    "\n",
    "benchmark_data"
   ],
   "metadata": {
    "collapsed": false,
    "pycharm": {
     "name": "#%%\n"
    }
   }
  },
  {
   "cell_type": "code",
   "execution_count": 7,
   "outputs": [],
   "source": [],
   "metadata": {
    "collapsed": false,
    "pycharm": {
     "name": "#%%\n"
    }
   }
  },
  {
   "cell_type": "markdown",
   "source": [
    "Drop NAN entries."
   ],
   "metadata": {
    "collapsed": false
   }
  },
  {
   "cell_type": "code",
   "execution_count": 8,
   "outputs": [
    {
     "data": {
      "text/plain": "     Mutation_Effect_Label UniProt_ID Mutation Interactor_UniProt_ID  \\\n0                        0     P01116     Y40C                P50749   \n1                        0     Q96QK1    F534D                Q9UBQ0   \n2                        0     Q96QK1    F534D              Q9UBQ0-2   \n3                        0   O43521-3     G66A              Q07812-4   \n4                        0   O43521-3     G66A              Q07812-5   \n..                     ...        ...      ...                   ...   \n360                      0     P51587   V1532F                Q06609   \n361                      0     P51587   V1532F              Q06609-4   \n362                      0     Q96QK1    L589D                Q9UBQ0   \n363                      0     Q96QK1    L589D              Q9UBQ0-2   \n364                      0     P23297     F72L                P25815   \n\n    Template_cath_id  PREDATOR_DEFAULT  PREDATOR_FS  PREDATOR_FS_HP  \\\n0              3ddcA                 0            0               0   \n1              2r17C                 0            0               0   \n2              2r17C                 0            0               0   \n3              2nl9B                 0            0               1   \n4              2nl9B                 0            0               1   \n..               ...               ...          ...             ...   \n360            1n0wB                 0            0               0   \n361            1n0wB                 0            0               0   \n362            2r17C                 0            0               0   \n363            2r17C                 0            0               0   \n364            2y5iA                 0            0               0   \n\n     SAAMBE_3D  PANDA  mCSM_PP2  \n0            1      0         0  \n1            1      0         0  \n2            1      0         0  \n3            1      0         0  \n4            1      0         0  \n..         ...    ...       ...  \n360          1      1         0  \n361          1      1         0  \n362          1      0         0  \n363          1      0         0  \n364          1      0         0  \n\n[365 rows x 11 columns]",
      "text/html": "<div>\n<style scoped>\n    .dataframe tbody tr th:only-of-type {\n        vertical-align: middle;\n    }\n\n    .dataframe tbody tr th {\n        vertical-align: top;\n    }\n\n    .dataframe thead th {\n        text-align: right;\n    }\n</style>\n<table border=\"1\" class=\"dataframe\">\n  <thead>\n    <tr style=\"text-align: right;\">\n      <th></th>\n      <th>Mutation_Effect_Label</th>\n      <th>UniProt_ID</th>\n      <th>Mutation</th>\n      <th>Interactor_UniProt_ID</th>\n      <th>Template_cath_id</th>\n      <th>PREDATOR_DEFAULT</th>\n      <th>PREDATOR_FS</th>\n      <th>PREDATOR_FS_HP</th>\n      <th>SAAMBE_3D</th>\n      <th>PANDA</th>\n      <th>mCSM_PP2</th>\n    </tr>\n  </thead>\n  <tbody>\n    <tr>\n      <th>0</th>\n      <td>0</td>\n      <td>P01116</td>\n      <td>Y40C</td>\n      <td>P50749</td>\n      <td>3ddcA</td>\n      <td>0</td>\n      <td>0</td>\n      <td>0</td>\n      <td>1</td>\n      <td>0</td>\n      <td>0</td>\n    </tr>\n    <tr>\n      <th>1</th>\n      <td>0</td>\n      <td>Q96QK1</td>\n      <td>F534D</td>\n      <td>Q9UBQ0</td>\n      <td>2r17C</td>\n      <td>0</td>\n      <td>0</td>\n      <td>0</td>\n      <td>1</td>\n      <td>0</td>\n      <td>0</td>\n    </tr>\n    <tr>\n      <th>2</th>\n      <td>0</td>\n      <td>Q96QK1</td>\n      <td>F534D</td>\n      <td>Q9UBQ0-2</td>\n      <td>2r17C</td>\n      <td>0</td>\n      <td>0</td>\n      <td>0</td>\n      <td>1</td>\n      <td>0</td>\n      <td>0</td>\n    </tr>\n    <tr>\n      <th>3</th>\n      <td>0</td>\n      <td>O43521-3</td>\n      <td>G66A</td>\n      <td>Q07812-4</td>\n      <td>2nl9B</td>\n      <td>0</td>\n      <td>0</td>\n      <td>1</td>\n      <td>1</td>\n      <td>0</td>\n      <td>0</td>\n    </tr>\n    <tr>\n      <th>4</th>\n      <td>0</td>\n      <td>O43521-3</td>\n      <td>G66A</td>\n      <td>Q07812-5</td>\n      <td>2nl9B</td>\n      <td>0</td>\n      <td>0</td>\n      <td>1</td>\n      <td>1</td>\n      <td>0</td>\n      <td>0</td>\n    </tr>\n    <tr>\n      <th>...</th>\n      <td>...</td>\n      <td>...</td>\n      <td>...</td>\n      <td>...</td>\n      <td>...</td>\n      <td>...</td>\n      <td>...</td>\n      <td>...</td>\n      <td>...</td>\n      <td>...</td>\n      <td>...</td>\n    </tr>\n    <tr>\n      <th>360</th>\n      <td>0</td>\n      <td>P51587</td>\n      <td>V1532F</td>\n      <td>Q06609</td>\n      <td>1n0wB</td>\n      <td>0</td>\n      <td>0</td>\n      <td>0</td>\n      <td>1</td>\n      <td>1</td>\n      <td>0</td>\n    </tr>\n    <tr>\n      <th>361</th>\n      <td>0</td>\n      <td>P51587</td>\n      <td>V1532F</td>\n      <td>Q06609-4</td>\n      <td>1n0wB</td>\n      <td>0</td>\n      <td>0</td>\n      <td>0</td>\n      <td>1</td>\n      <td>1</td>\n      <td>0</td>\n    </tr>\n    <tr>\n      <th>362</th>\n      <td>0</td>\n      <td>Q96QK1</td>\n      <td>L589D</td>\n      <td>Q9UBQ0</td>\n      <td>2r17C</td>\n      <td>0</td>\n      <td>0</td>\n      <td>0</td>\n      <td>1</td>\n      <td>0</td>\n      <td>0</td>\n    </tr>\n    <tr>\n      <th>363</th>\n      <td>0</td>\n      <td>Q96QK1</td>\n      <td>L589D</td>\n      <td>Q9UBQ0-2</td>\n      <td>2r17C</td>\n      <td>0</td>\n      <td>0</td>\n      <td>0</td>\n      <td>1</td>\n      <td>0</td>\n      <td>0</td>\n    </tr>\n    <tr>\n      <th>364</th>\n      <td>0</td>\n      <td>P23297</td>\n      <td>F72L</td>\n      <td>P25815</td>\n      <td>2y5iA</td>\n      <td>0</td>\n      <td>0</td>\n      <td>0</td>\n      <td>1</td>\n      <td>0</td>\n      <td>0</td>\n    </tr>\n  </tbody>\n</table>\n<p>365 rows × 11 columns</p>\n</div>"
     },
     "execution_count": 8,
     "metadata": {},
     "output_type": "execute_result"
    }
   ],
   "source": [
    "benchmark_data_drop_nan = benchmark_data[benchmark_data[\"SAAMBE_3D\"] != \"not_available\"].copy()\n",
    "benchmark_data_drop_nan[\"SAAMBE_3D\"] = benchmark_data_drop_nan[\"SAAMBE_3D\"].astype(int)\n",
    "benchmark_data_drop_nan[\"mCSM_PP2\"] = benchmark_data_drop_nan[\"mCSM_PP2\"].astype(int)\n",
    "benchmark_data_drop_nan = benchmark_data_drop_nan.reset_index(drop=True)\n",
    "benchmark_data_drop_nan"
   ],
   "metadata": {
    "collapsed": false,
    "pycharm": {
     "name": "#%%\n"
    }
   }
  },
  {
   "cell_type": "code",
   "execution_count": 9,
   "outputs": [
    {
     "data": {
      "text/plain": "[('P01116', 'Y40C', 'P50749', '3ddc'),\n ('Q96QK1', 'F534D', 'Q9UBQ0', '2r17'),\n ('Q96QK1', 'F534D', 'Q9UBQ0-2', '2r17')]"
     },
     "execution_count": 9,
     "metadata": {},
     "output_type": "execute_result"
    }
   ],
   "source": [
    "# create list of triplets\n",
    "triplets_with_pdb = [\n",
    "    (protein, mutation, interactor, pdb)\n",
    "    for protein, mutation, interactor, pdb\n",
    "    in zip(\n",
    "        benchmark_data_drop_nan[\"UniProt_ID\"],\n",
    "        benchmark_data_drop_nan[\"Mutation\"],\n",
    "        benchmark_data_drop_nan[\"Interactor_UniProt_ID\"],\n",
    "        benchmark_data_drop_nan[\"Template_cath_id\"].apply(lambda x: x[:4])\n",
    "    )\n",
    "]\n",
    "triplets_with_pdb[:3]"
   ],
   "metadata": {
    "collapsed": false,
    "pycharm": {
     "name": "#%%\n"
    }
   }
  },
  {
   "cell_type": "code",
   "execution_count": 10,
   "outputs": [
    {
     "name": "stdout",
     "output_type": "stream",
     "text": [
      "Number of triplets with pdb: 365\n",
      "Number of unique triplets with pdb: 357\n"
     ]
    }
   ],
   "source": [
    "print(f\"Number of triplets with pdb: {len(triplets_with_pdb)}\")\n",
    "print(f\"Number of unique triplets with pdb: {len(set(triplets_with_pdb))}\")"
   ],
   "metadata": {
    "collapsed": false,
    "pycharm": {
     "name": "#%%\n"
    }
   }
  },
  {
   "cell_type": "code",
   "execution_count": 11,
   "outputs": [
    {
     "data": {
      "text/plain": "6"
     },
     "execution_count": 11,
     "metadata": {},
     "output_type": "execute_result"
    }
   ],
   "source": [
    "benchmark_data_drop_nan.duplicated().sum()"
   ],
   "metadata": {
    "collapsed": false,
    "pycharm": {
     "name": "#%%\n"
    }
   }
  },
  {
   "cell_type": "code",
   "execution_count": 12,
   "outputs": [],
   "source": [
    "benchmark_data_final = benchmark_data_drop_nan.drop_duplicates()"
   ],
   "metadata": {
    "collapsed": false,
    "pycharm": {
     "name": "#%%\n"
    }
   }
  },
  {
   "cell_type": "code",
   "execution_count": 25,
   "outputs": [
    {
     "data": {
      "text/plain": "(359, 11)"
     },
     "execution_count": 25,
     "metadata": {},
     "output_type": "execute_result"
    }
   ],
   "source": [
    "benchmark_data_final.shape"
   ],
   "metadata": {
    "collapsed": false,
    "pycharm": {
     "name": "#%%\n"
    }
   }
  },
  {
   "cell_type": "markdown",
   "source": [
    "# Evaluation Metric"
   ],
   "metadata": {
    "collapsed": false
   }
  },
  {
   "cell_type": "code",
   "execution_count": 13,
   "outputs": [],
   "source": [
    "from sklearn.metrics import (\n",
    "    accuracy_score,\n",
    "    balanced_accuracy_score,\n",
    "    f1_score,\n",
    "    matthews_corrcoef,\n",
    "    precision_score,\n",
    "    recall_score,\n",
    ")"
   ],
   "metadata": {
    "collapsed": false,
    "pycharm": {
     "name": "#%%\n"
    }
   }
  },
  {
   "cell_type": "code",
   "execution_count": 19,
   "outputs": [],
   "source": [
    "def get_scoring_metrics(y_true, y_pred):\n",
    "    metrics_data = pd.DataFrame(\n",
    "        [\n",
    "            accuracy_score(y_true, y_pred),\n",
    "            balanced_accuracy_score(y_true, y_pred),\n",
    "            f1_score(y_true, y_pred),\n",
    "            matthews_corrcoef(y_true, y_pred),\n",
    "            precision_score(y_true, y_pred),\n",
    "            recall_score(y_true, y_pred),\n",
    "        ],\n",
    "        columns=[\"SCORE\"],\n",
    "        index=[\"ACCURACY\", \"BALANCED_ACCURACY\", \"F1\", \"MATTHEWS_COR\", \"PRECISION\", \"RECALL\"])\n",
    "\n",
    "    return metrics_data"
   ],
   "metadata": {
    "collapsed": false,
    "pycharm": {
     "name": "#%%\n"
    }
   }
  },
  {
   "cell_type": "code",
   "execution_count": 20,
   "outputs": [
    {
     "name": "stdout",
     "output_type": "stream",
     "text": [
      "Prediction results in 359 entries.\n"
     ]
    },
    {
     "data": {
      "text/plain": "                   Predator_default  Predator_Shap_10  Predator_Shap_10_Tuned  \\\nACCURACY                   0.857939          0.844011                0.813370   \nBALANCED_ACCURACY          0.724017          0.691966                0.649238   \nF1                         0.598425          0.540984                0.455285   \nMATTHEWS_COR               0.538186          0.482805                0.371740   \nPRECISION                  0.775510          0.750000                0.622222   \nRECALL                     0.487179          0.423077                0.358974   \n\n                   SAAMBE_3D     PANDA  mCSM_PP2  \nACCURACY            0.256267  0.690808  0.805014  \nBALANCED_ACCURACY   0.478602  0.469067  0.620746  \nF1                  0.337469  0.097561  0.396552  \nMATTHEWS_COR       -0.060273 -0.077053  0.323711  \nPRECISION           0.209231  0.133333  0.605263  \nRECALL              0.871795  0.076923  0.294872  ",
      "text/html": "<div>\n<style scoped>\n    .dataframe tbody tr th:only-of-type {\n        vertical-align: middle;\n    }\n\n    .dataframe tbody tr th {\n        vertical-align: top;\n    }\n\n    .dataframe thead th {\n        text-align: right;\n    }\n</style>\n<table border=\"1\" class=\"dataframe\">\n  <thead>\n    <tr style=\"text-align: right;\">\n      <th></th>\n      <th>Predator_default</th>\n      <th>Predator_Shap_10</th>\n      <th>Predator_Shap_10_Tuned</th>\n      <th>SAAMBE_3D</th>\n      <th>PANDA</th>\n      <th>mCSM_PP2</th>\n    </tr>\n  </thead>\n  <tbody>\n    <tr>\n      <th>ACCURACY</th>\n      <td>0.857939</td>\n      <td>0.844011</td>\n      <td>0.813370</td>\n      <td>0.256267</td>\n      <td>0.690808</td>\n      <td>0.805014</td>\n    </tr>\n    <tr>\n      <th>BALANCED_ACCURACY</th>\n      <td>0.724017</td>\n      <td>0.691966</td>\n      <td>0.649238</td>\n      <td>0.478602</td>\n      <td>0.469067</td>\n      <td>0.620746</td>\n    </tr>\n    <tr>\n      <th>F1</th>\n      <td>0.598425</td>\n      <td>0.540984</td>\n      <td>0.455285</td>\n      <td>0.337469</td>\n      <td>0.097561</td>\n      <td>0.396552</td>\n    </tr>\n    <tr>\n      <th>MATTHEWS_COR</th>\n      <td>0.538186</td>\n      <td>0.482805</td>\n      <td>0.371740</td>\n      <td>-0.060273</td>\n      <td>-0.077053</td>\n      <td>0.323711</td>\n    </tr>\n    <tr>\n      <th>PRECISION</th>\n      <td>0.775510</td>\n      <td>0.750000</td>\n      <td>0.622222</td>\n      <td>0.209231</td>\n      <td>0.133333</td>\n      <td>0.605263</td>\n    </tr>\n    <tr>\n      <th>RECALL</th>\n      <td>0.487179</td>\n      <td>0.423077</td>\n      <td>0.358974</td>\n      <td>0.871795</td>\n      <td>0.076923</td>\n      <td>0.294872</td>\n    </tr>\n  </tbody>\n</table>\n</div>"
     },
     "execution_count": 20,
     "metadata": {},
     "output_type": "execute_result"
    }
   ],
   "source": [
    "import pandas as pd\n",
    "\n",
    "metrics_comparison_data = pd.concat(\n",
    "    [\n",
    "        get_scoring_metrics(\n",
    "            benchmark_data_final[\"Mutation_Effect_Label\"], benchmark_data_final[\"PREDATOR_DEFAULT\"]\n",
    "        ),\n",
    "        get_scoring_metrics(\n",
    "            benchmark_data_final[\"Mutation_Effect_Label\"], benchmark_data_final[\"PREDATOR_FS\"]\n",
    "        ),\n",
    "        get_scoring_metrics(\n",
    "            benchmark_data_final[\"Mutation_Effect_Label\"], benchmark_data_final[\"PREDATOR_FS_HP\"]\n",
    "        ),\n",
    "        get_scoring_metrics(\n",
    "            benchmark_data_final[\"Mutation_Effect_Label\"], benchmark_data_final[\"SAAMBE_3D\"]\n",
    "        ),\n",
    "        get_scoring_metrics(\n",
    "            benchmark_data_final[\"Mutation_Effect_Label\"], benchmark_data_final[\"PANDA\"]\n",
    "        ),\n",
    "        get_scoring_metrics(\n",
    "            benchmark_data_final[\"Mutation_Effect_Label\"], benchmark_data_final[\"mCSM_PP2\"]\n",
    "        ),\n",
    "\n",
    "    ], axis=\"columns\"\n",
    ")\n",
    "metrics_comparison_data.columns = [\n",
    "    \"Predator_default\", \"Predator_Shap_10\", \"Predator_Shap_10_Tuned\", \"SAAMBE_3D\", \"PANDA\", \"mCSM_PP2\"\n",
    "]\n",
    "print(f\"Prediction results in {len(benchmark_data_final)} entries.\")\n",
    "metrics_comparison_data"
   ],
   "metadata": {
    "collapsed": false,
    "pycharm": {
     "name": "#%%\n"
    }
   }
  },
  {
   "cell_type": "code",
   "execution_count": 23,
   "outputs": [
    {
     "data": {
      "text/plain": "                   Predator_Shap_10  SAAMBE_3D  PANDA  mCSM_PP2\nACCURACY                       0.84       0.26   0.69      0.81\nBALANCED_ACCURACY              0.69       0.48   0.47      0.62\nF1                             0.54       0.34   0.10      0.40\nPRECISION                      0.75       0.21   0.13      0.61\nRECALL                         0.42       0.87   0.08      0.29\nMATTHEWS_COR                   0.48      -0.06  -0.08      0.32",
      "text/html": "<div>\n<style scoped>\n    .dataframe tbody tr th:only-of-type {\n        vertical-align: middle;\n    }\n\n    .dataframe tbody tr th {\n        vertical-align: top;\n    }\n\n    .dataframe thead th {\n        text-align: right;\n    }\n</style>\n<table border=\"1\" class=\"dataframe\">\n  <thead>\n    <tr style=\"text-align: right;\">\n      <th></th>\n      <th>Predator_Shap_10</th>\n      <th>SAAMBE_3D</th>\n      <th>PANDA</th>\n      <th>mCSM_PP2</th>\n    </tr>\n  </thead>\n  <tbody>\n    <tr>\n      <th>ACCURACY</th>\n      <td>0.84</td>\n      <td>0.26</td>\n      <td>0.69</td>\n      <td>0.81</td>\n    </tr>\n    <tr>\n      <th>BALANCED_ACCURACY</th>\n      <td>0.69</td>\n      <td>0.48</td>\n      <td>0.47</td>\n      <td>0.62</td>\n    </tr>\n    <tr>\n      <th>F1</th>\n      <td>0.54</td>\n      <td>0.34</td>\n      <td>0.10</td>\n      <td>0.40</td>\n    </tr>\n    <tr>\n      <th>PRECISION</th>\n      <td>0.75</td>\n      <td>0.21</td>\n      <td>0.13</td>\n      <td>0.61</td>\n    </tr>\n    <tr>\n      <th>RECALL</th>\n      <td>0.42</td>\n      <td>0.87</td>\n      <td>0.08</td>\n      <td>0.29</td>\n    </tr>\n    <tr>\n      <th>MATTHEWS_COR</th>\n      <td>0.48</td>\n      <td>-0.06</td>\n      <td>-0.08</td>\n      <td>0.32</td>\n    </tr>\n  </tbody>\n</table>\n</div>"
     },
     "execution_count": 23,
     "metadata": {},
     "output_type": "execute_result"
    }
   ],
   "source": [
    "df = metrics_comparison_data[['Predator_Shap_10', 'SAAMBE_3D', 'PANDA', 'mCSM_PP2']].copy()\n",
    "df = df.round(2)\n",
    "df = df.loc[[\"ACCURACY\", \"BALANCED_ACCURACY\", \"F1\", \"PRECISION\", \"RECALL\", \"MATTHEWS_COR\"], :]\n",
    "df"
   ],
   "metadata": {
    "collapsed": false,
    "pycharm": {
     "name": "#%%\n"
    }
   }
  },
  {
   "cell_type": "code",
   "execution_count": 23,
   "outputs": [],
   "source": [],
   "metadata": {
    "collapsed": false,
    "pycharm": {
     "name": "#%%\n"
    }
   }
  },
  {
   "cell_type": "code",
   "execution_count": 24,
   "outputs": [
    {
     "name": "stdout",
     "output_type": "stream",
     "text": [
      "\\begin{tabular}{lrrrr}\n",
      "\\toprule\n",
      "{} &  Predator\\_Shap\\_10 &  SAAMBE\\_3D &  PANDA &  mCSM\\_PP2 \\\\\n",
      "\\midrule\n",
      "ACCURACY          &              0.84 &       0.26 &   0.69 &      0.81 \\\\\n",
      "BALANCED\\_ACCURACY &              0.69 &       0.48 &   0.47 &      0.62 \\\\\n",
      "F1                &              0.54 &       0.34 &   0.10 &      0.40 \\\\\n",
      "PRECISION         &              0.75 &       0.21 &   0.13 &      0.61 \\\\\n",
      "RECALL            &              0.42 &       0.87 &   0.08 &      0.29 \\\\\n",
      "MATTHEWS\\_COR      &              0.48 &      -0.06 &  -0.08 &      0.32 \\\\\n",
      "\\bottomrule\n",
      "\\end{tabular}\n",
      "\n"
     ]
    }
   ],
   "source": [
    "print(df.to_latex())"
   ],
   "metadata": {
    "collapsed": false,
    "pycharm": {
     "name": "#%%\n"
    }
   }
  },
  {
   "cell_type": "code",
   "execution_count": null,
   "outputs": [],
   "source": [],
   "metadata": {
    "collapsed": false,
    "pycharm": {
     "name": "#%%\n"
    }
   }
  },
  {
   "cell_type": "code",
   "execution_count": null,
   "outputs": [],
   "source": [
    "# the end"
   ],
   "metadata": {
    "collapsed": false,
    "pycharm": {
     "name": "#%%\n"
    }
   }
  },
  {
   "cell_type": "markdown",
   "source": [
    "### ---------------------------"
   ],
   "metadata": {
    "collapsed": false
   }
  },
  {
   "cell_type": "code",
   "execution_count": null,
   "outputs": [],
   "source": [],
   "metadata": {
    "collapsed": false,
    "pycharm": {
     "name": "#%%\n"
    }
   }
  }
 ],
 "metadata": {
  "kernelspec": {
   "display_name": "Python 3",
   "language": "python",
   "name": "python3"
  },
  "language_info": {
   "codemirror_mode": {
    "name": "ipython",
    "version": 2
   },
   "file_extension": ".py",
   "mimetype": "text/x-python",
   "name": "python",
   "nbconvert_exporter": "python",
   "pygments_lexer": "ipython2",
   "version": "2.7.6"
  }
 },
 "nbformat": 4,
 "nbformat_minor": 0
}