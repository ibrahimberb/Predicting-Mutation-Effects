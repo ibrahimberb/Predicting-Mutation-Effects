{
 "cells": [
  {
   "cell_type": "markdown",
   "metadata": {
    "collapsed": true,
    "pycharm": {
     "name": "#%% md\n"
    }
   },
   "source": [
    "# Comparing Predator with other studies\n",
    "\n",
    "February 16th, 2022\n",
    "\n",
    "Studies:\n",
    "1. Predator\n",
    "2. SAAMBE_3D\n",
    "3. PANDA\n",
    "4. mCSM-PPI2"
   ]
  },
  {
   "cell_type": "code",
   "execution_count": 1,
   "outputs": [],
   "source": [
    "import pandas as pd"
   ],
   "metadata": {
    "collapsed": false,
    "pycharm": {
     "name": "#%%\n"
    }
   }
  },
  {
   "cell_type": "code",
   "execution_count": 2,
   "outputs": [],
   "source": [
    "PREDATOR_PREDICTIONS_DATA_PATH = \"../../../dev/leave_one_complex_out/Leave_one_complex_out_predictions_2022-02-14.csv\"\n",
    "SAAMBE_3D_PREDICTIONS_DATA_PATH = \"../../SAAMBE_3D_Study/SAAMBE-3D-master/PredatorBenchmark/SAAMBE_3D_predictions_2022-02-12.csv\"\n",
    "PANDA_PREDICTIONS_DATA_PATH = \"../../PANDA/panda-master/PredatorBenchmark/train_data_with_PANDA_prediction_2022-02-14.csv\"\n",
    "MCSM_PPI2_PREDICTION_DATA_PATH = \"../mCSM_PPI2/src/Record/mcsm_ppi2_predictions_2022-02-16.csv\""
   ],
   "metadata": {
    "collapsed": false,
    "pycharm": {
     "name": "#%%\n"
    }
   }
  },
  {
   "cell_type": "code",
   "execution_count": 3,
   "outputs": [],
   "source": [
    "def introduce_triplet_column(data):\n",
    "    data.insert(\n",
    "        0, \"Triplet\", data.apply(\n",
    "            lambda row: (row[\"UniProt_ID\"], row[\"Mutation\"], row[\"Interactor_UniProt_ID\"]), axis=1\n",
    "        )\n",
    "    )\n",
    "\n",
    "    data.drop(columns=[\"UniProt_ID\", \"Mutation\", \"Interactor_UniProt_ID\"], inplace=True)\n",
    "\n",
    "    data = data.sort_values(\"Triplet\", ignore_index=True)\n",
    "\n",
    "    return data"
   ],
   "metadata": {
    "collapsed": false,
    "pycharm": {
     "name": "#%%\n"
    }
   }
  },
  {
   "cell_type": "markdown",
   "source": [
    "#### 1. Predator Predictions"
   ],
   "metadata": {
    "collapsed": false,
    "pycharm": {
     "name": "#%% md\n"
    }
   }
  },
  {
   "cell_type": "code",
   "execution_count": 4,
   "outputs": [
    {
     "data": {
      "text/plain": "                       Triplet  Mutation_Effect_Label  Predator_default  \\\n0      (A5PKW4, E621K, P62330)                      0                 0   \n1      (O00267, I194V, P63272)                      1                 1   \n2       (O00311, I99L, Q9UBU7)                      1                 1   \n3       (O00311, I99T, Q9UBU7)                      1                 1   \n4      (O00311, K416T, Q9UBU7)                      1                 0   \n..                         ...                    ...               ...   \n735    (Q9Y570, H349A, P67775)                      0                 0   \n736    (Q9Y570, S156A, P67775)                      0                 0   \n737  (Q9Y570, S156A, P67775-2)                      0                 0   \n738    (Q9Y570, S156T, P67775)                      0                 0   \n739  (Q9Y570, S156T, P67775-2)                      0                 0   \n\n     Predator_feature_selected  Predator_feature_selected_tuned  \n0                            0                                0  \n1                            1                                1  \n2                            1                                1  \n3                            1                                1  \n4                            0                                0  \n..                         ...                              ...  \n735                          0                                0  \n736                          0                                0  \n737                          0                                0  \n738                          0                                0  \n739                          0                                0  \n\n[740 rows x 5 columns]",
      "text/html": "<div>\n<style scoped>\n    .dataframe tbody tr th:only-of-type {\n        vertical-align: middle;\n    }\n\n    .dataframe tbody tr th {\n        vertical-align: top;\n    }\n\n    .dataframe thead th {\n        text-align: right;\n    }\n</style>\n<table border=\"1\" class=\"dataframe\">\n  <thead>\n    <tr style=\"text-align: right;\">\n      <th></th>\n      <th>Triplet</th>\n      <th>Mutation_Effect_Label</th>\n      <th>Predator_default</th>\n      <th>Predator_feature_selected</th>\n      <th>Predator_feature_selected_tuned</th>\n    </tr>\n  </thead>\n  <tbody>\n    <tr>\n      <th>0</th>\n      <td>(A5PKW4, E621K, P62330)</td>\n      <td>0</td>\n      <td>0</td>\n      <td>0</td>\n      <td>0</td>\n    </tr>\n    <tr>\n      <th>1</th>\n      <td>(O00267, I194V, P63272)</td>\n      <td>1</td>\n      <td>1</td>\n      <td>1</td>\n      <td>1</td>\n    </tr>\n    <tr>\n      <th>2</th>\n      <td>(O00311, I99L, Q9UBU7)</td>\n      <td>1</td>\n      <td>1</td>\n      <td>1</td>\n      <td>1</td>\n    </tr>\n    <tr>\n      <th>3</th>\n      <td>(O00311, I99T, Q9UBU7)</td>\n      <td>1</td>\n      <td>1</td>\n      <td>1</td>\n      <td>1</td>\n    </tr>\n    <tr>\n      <th>4</th>\n      <td>(O00311, K416T, Q9UBU7)</td>\n      <td>1</td>\n      <td>0</td>\n      <td>0</td>\n      <td>0</td>\n    </tr>\n    <tr>\n      <th>...</th>\n      <td>...</td>\n      <td>...</td>\n      <td>...</td>\n      <td>...</td>\n      <td>...</td>\n    </tr>\n    <tr>\n      <th>735</th>\n      <td>(Q9Y570, H349A, P67775)</td>\n      <td>0</td>\n      <td>0</td>\n      <td>0</td>\n      <td>0</td>\n    </tr>\n    <tr>\n      <th>736</th>\n      <td>(Q9Y570, S156A, P67775)</td>\n      <td>0</td>\n      <td>0</td>\n      <td>0</td>\n      <td>0</td>\n    </tr>\n    <tr>\n      <th>737</th>\n      <td>(Q9Y570, S156A, P67775-2)</td>\n      <td>0</td>\n      <td>0</td>\n      <td>0</td>\n      <td>0</td>\n    </tr>\n    <tr>\n      <th>738</th>\n      <td>(Q9Y570, S156T, P67775)</td>\n      <td>0</td>\n      <td>0</td>\n      <td>0</td>\n      <td>0</td>\n    </tr>\n    <tr>\n      <th>739</th>\n      <td>(Q9Y570, S156T, P67775-2)</td>\n      <td>0</td>\n      <td>0</td>\n      <td>0</td>\n      <td>0</td>\n    </tr>\n  </tbody>\n</table>\n<p>740 rows × 5 columns</p>\n</div>"
     },
     "execution_count": 4,
     "metadata": {},
     "output_type": "execute_result"
    }
   ],
   "source": [
    "predator_predictions_data = pd.read_csv(PREDATOR_PREDICTIONS_DATA_PATH)\n",
    "\n",
    "predator_predictions_data = introduce_triplet_column(predator_predictions_data)\n",
    "\n",
    "predator_predictions_data"
   ],
   "metadata": {
    "collapsed": false,
    "pycharm": {
     "name": "#%%\n"
    }
   }
  },
  {
   "cell_type": "markdown",
   "source": [
    "#### 2. SAAMBE-3D Predictions"
   ],
   "metadata": {
    "collapsed": false
   }
  },
  {
   "cell_type": "code",
   "execution_count": 5,
   "outputs": [
    {
     "data": {
      "text/plain": "                       Triplet  Mutation_Effect_Label      SAAMBE_3D\n0      (A5PKW4, E621K, P62330)                      0  not_available\n1      (O00267, I194V, P63272)                      1            1.0\n2       (O00311, I99L, Q9UBU7)                      1            1.0\n3       (O00311, I99T, Q9UBU7)                      1            0.0\n4      (O00311, K416T, Q9UBU7)                      1            1.0\n..                         ...                    ...            ...\n735    (Q9Y570, H349A, P67775)                      0            1.0\n736    (Q9Y570, S156A, P67775)                      0  not_available\n737  (Q9Y570, S156A, P67775-2)                      0  not_available\n738    (Q9Y570, S156T, P67775)                      0  not_available\n739  (Q9Y570, S156T, P67775-2)                      0  not_available\n\n[740 rows x 3 columns]",
      "text/html": "<div>\n<style scoped>\n    .dataframe tbody tr th:only-of-type {\n        vertical-align: middle;\n    }\n\n    .dataframe tbody tr th {\n        vertical-align: top;\n    }\n\n    .dataframe thead th {\n        text-align: right;\n    }\n</style>\n<table border=\"1\" class=\"dataframe\">\n  <thead>\n    <tr style=\"text-align: right;\">\n      <th></th>\n      <th>Triplet</th>\n      <th>Mutation_Effect_Label</th>\n      <th>SAAMBE_3D</th>\n    </tr>\n  </thead>\n  <tbody>\n    <tr>\n      <th>0</th>\n      <td>(A5PKW4, E621K, P62330)</td>\n      <td>0</td>\n      <td>not_available</td>\n    </tr>\n    <tr>\n      <th>1</th>\n      <td>(O00267, I194V, P63272)</td>\n      <td>1</td>\n      <td>1.0</td>\n    </tr>\n    <tr>\n      <th>2</th>\n      <td>(O00311, I99L, Q9UBU7)</td>\n      <td>1</td>\n      <td>1.0</td>\n    </tr>\n    <tr>\n      <th>3</th>\n      <td>(O00311, I99T, Q9UBU7)</td>\n      <td>1</td>\n      <td>0.0</td>\n    </tr>\n    <tr>\n      <th>4</th>\n      <td>(O00311, K416T, Q9UBU7)</td>\n      <td>1</td>\n      <td>1.0</td>\n    </tr>\n    <tr>\n      <th>...</th>\n      <td>...</td>\n      <td>...</td>\n      <td>...</td>\n    </tr>\n    <tr>\n      <th>735</th>\n      <td>(Q9Y570, H349A, P67775)</td>\n      <td>0</td>\n      <td>1.0</td>\n    </tr>\n    <tr>\n      <th>736</th>\n      <td>(Q9Y570, S156A, P67775)</td>\n      <td>0</td>\n      <td>not_available</td>\n    </tr>\n    <tr>\n      <th>737</th>\n      <td>(Q9Y570, S156A, P67775-2)</td>\n      <td>0</td>\n      <td>not_available</td>\n    </tr>\n    <tr>\n      <th>738</th>\n      <td>(Q9Y570, S156T, P67775)</td>\n      <td>0</td>\n      <td>not_available</td>\n    </tr>\n    <tr>\n      <th>739</th>\n      <td>(Q9Y570, S156T, P67775-2)</td>\n      <td>0</td>\n      <td>not_available</td>\n    </tr>\n  </tbody>\n</table>\n<p>740 rows × 3 columns</p>\n</div>"
     },
     "execution_count": 5,
     "metadata": {},
     "output_type": "execute_result"
    }
   ],
   "source": [
    "saambe_3d_predictions_data = pd.read_csv(SAAMBE_3D_PREDICTIONS_DATA_PATH)\n",
    "\n",
    "saambe_3d_predictions_data.rename(\n",
    "    columns={\"Prediction\": \"SAAMBE_3D\"}, inplace=True\n",
    ")\n",
    "\n",
    "saambe_3d_predictions_data[\"SAAMBE_3D\"] = saambe_3d_predictions_data[\"SAAMBE_3D\"].fillna(\"not_available\")\n",
    "\n",
    "saambe_3d_predictions_data = introduce_triplet_column(saambe_3d_predictions_data)\n",
    "saambe_3d_predictions_data"
   ],
   "metadata": {
    "collapsed": false,
    "pycharm": {
     "name": "#%%\n"
    }
   }
  },
  {
   "cell_type": "markdown",
   "source": [
    "#### 3. PANDA Predictions"
   ],
   "metadata": {
    "collapsed": false,
    "pycharm": {
     "name": "#%% md\n"
    }
   }
  },
  {
   "cell_type": "code",
   "execution_count": 6,
   "outputs": [
    {
     "data": {
      "text/plain": "                       Triplet  Mutation_Effect_Label  PANDA\n0      (A5PKW4, E621K, P62330)                      0      0\n1      (O00267, I194V, P63272)                      1      0\n2       (O00311, I99L, Q9UBU7)                      1      0\n3       (O00311, I99T, Q9UBU7)                      1      0\n4      (O00311, K416T, Q9UBU7)                      1      0\n..                         ...                    ...    ...\n735    (Q9Y570, H349A, P67775)                      0      0\n736    (Q9Y570, S156A, P67775)                      0      0\n737  (Q9Y570, S156A, P67775-2)                      0      0\n738    (Q9Y570, S156T, P67775)                      0      0\n739  (Q9Y570, S156T, P67775-2)                      0      0\n\n[740 rows x 3 columns]",
      "text/html": "<div>\n<style scoped>\n    .dataframe tbody tr th:only-of-type {\n        vertical-align: middle;\n    }\n\n    .dataframe tbody tr th {\n        vertical-align: top;\n    }\n\n    .dataframe thead th {\n        text-align: right;\n    }\n</style>\n<table border=\"1\" class=\"dataframe\">\n  <thead>\n    <tr style=\"text-align: right;\">\n      <th></th>\n      <th>Triplet</th>\n      <th>Mutation_Effect_Label</th>\n      <th>PANDA</th>\n    </tr>\n  </thead>\n  <tbody>\n    <tr>\n      <th>0</th>\n      <td>(A5PKW4, E621K, P62330)</td>\n      <td>0</td>\n      <td>0</td>\n    </tr>\n    <tr>\n      <th>1</th>\n      <td>(O00267, I194V, P63272)</td>\n      <td>1</td>\n      <td>0</td>\n    </tr>\n    <tr>\n      <th>2</th>\n      <td>(O00311, I99L, Q9UBU7)</td>\n      <td>1</td>\n      <td>0</td>\n    </tr>\n    <tr>\n      <th>3</th>\n      <td>(O00311, I99T, Q9UBU7)</td>\n      <td>1</td>\n      <td>0</td>\n    </tr>\n    <tr>\n      <th>4</th>\n      <td>(O00311, K416T, Q9UBU7)</td>\n      <td>1</td>\n      <td>0</td>\n    </tr>\n    <tr>\n      <th>...</th>\n      <td>...</td>\n      <td>...</td>\n      <td>...</td>\n    </tr>\n    <tr>\n      <th>735</th>\n      <td>(Q9Y570, H349A, P67775)</td>\n      <td>0</td>\n      <td>0</td>\n    </tr>\n    <tr>\n      <th>736</th>\n      <td>(Q9Y570, S156A, P67775)</td>\n      <td>0</td>\n      <td>0</td>\n    </tr>\n    <tr>\n      <th>737</th>\n      <td>(Q9Y570, S156A, P67775-2)</td>\n      <td>0</td>\n      <td>0</td>\n    </tr>\n    <tr>\n      <th>738</th>\n      <td>(Q9Y570, S156T, P67775)</td>\n      <td>0</td>\n      <td>0</td>\n    </tr>\n    <tr>\n      <th>739</th>\n      <td>(Q9Y570, S156T, P67775-2)</td>\n      <td>0</td>\n      <td>0</td>\n    </tr>\n  </tbody>\n</table>\n<p>740 rows × 3 columns</p>\n</div>"
     },
     "execution_count": 6,
     "metadata": {},
     "output_type": "execute_result"
    }
   ],
   "source": [
    "panda_predictions_data = pd.read_csv(PANDA_PREDICTIONS_DATA_PATH)\n",
    "panda_predictions_data.rename(columns={\"PANDA_Predictions\": \"PANDA\"}, inplace=True)\n",
    "panda_predictions_data = introduce_triplet_column(panda_predictions_data)\n",
    "panda_predictions_data"
   ],
   "metadata": {
    "collapsed": false,
    "pycharm": {
     "name": "#%%\n"
    }
   }
  },
  {
   "cell_type": "markdown",
   "source": [
    "#### 4. mCSM_PPI2 Predictions"
   ],
   "metadata": {
    "collapsed": false
   }
  },
  {
   "cell_type": "code",
   "execution_count": 8,
   "outputs": [
    {
     "data": {
      "text/plain": "                       Triplet  Mutation_Effect_Label       mCSM_PP2\n0      (A5PKW4, E621K, P62330)                      0  not_available\n1      (O00267, I194V, P63272)                      1            0.0\n2       (O00311, I99L, Q9UBU7)                      1            0.0\n3       (O00311, I99T, Q9UBU7)                      1            0.0\n4      (O00311, K416T, Q9UBU7)                      1            0.0\n..                         ...                    ...            ...\n735    (Q9Y570, H349A, P67775)                      0            0.0\n736    (Q9Y570, S156A, P67775)                      0  not_available\n737  (Q9Y570, S156A, P67775-2)                      0  not_available\n738    (Q9Y570, S156T, P67775)                      0  not_available\n739  (Q9Y570, S156T, P67775-2)                      0  not_available\n\n[740 rows x 3 columns]",
      "text/html": "<div>\n<style scoped>\n    .dataframe tbody tr th:only-of-type {\n        vertical-align: middle;\n    }\n\n    .dataframe tbody tr th {\n        vertical-align: top;\n    }\n\n    .dataframe thead th {\n        text-align: right;\n    }\n</style>\n<table border=\"1\" class=\"dataframe\">\n  <thead>\n    <tr style=\"text-align: right;\">\n      <th></th>\n      <th>Triplet</th>\n      <th>Mutation_Effect_Label</th>\n      <th>mCSM_PP2</th>\n    </tr>\n  </thead>\n  <tbody>\n    <tr>\n      <th>0</th>\n      <td>(A5PKW4, E621K, P62330)</td>\n      <td>0</td>\n      <td>not_available</td>\n    </tr>\n    <tr>\n      <th>1</th>\n      <td>(O00267, I194V, P63272)</td>\n      <td>1</td>\n      <td>0.0</td>\n    </tr>\n    <tr>\n      <th>2</th>\n      <td>(O00311, I99L, Q9UBU7)</td>\n      <td>1</td>\n      <td>0.0</td>\n    </tr>\n    <tr>\n      <th>3</th>\n      <td>(O00311, I99T, Q9UBU7)</td>\n      <td>1</td>\n      <td>0.0</td>\n    </tr>\n    <tr>\n      <th>4</th>\n      <td>(O00311, K416T, Q9UBU7)</td>\n      <td>1</td>\n      <td>0.0</td>\n    </tr>\n    <tr>\n      <th>...</th>\n      <td>...</td>\n      <td>...</td>\n      <td>...</td>\n    </tr>\n    <tr>\n      <th>735</th>\n      <td>(Q9Y570, H349A, P67775)</td>\n      <td>0</td>\n      <td>0.0</td>\n    </tr>\n    <tr>\n      <th>736</th>\n      <td>(Q9Y570, S156A, P67775)</td>\n      <td>0</td>\n      <td>not_available</td>\n    </tr>\n    <tr>\n      <th>737</th>\n      <td>(Q9Y570, S156A, P67775-2)</td>\n      <td>0</td>\n      <td>not_available</td>\n    </tr>\n    <tr>\n      <th>738</th>\n      <td>(Q9Y570, S156T, P67775)</td>\n      <td>0</td>\n      <td>not_available</td>\n    </tr>\n    <tr>\n      <th>739</th>\n      <td>(Q9Y570, S156T, P67775-2)</td>\n      <td>0</td>\n      <td>not_available</td>\n    </tr>\n  </tbody>\n</table>\n<p>740 rows × 3 columns</p>\n</div>"
     },
     "execution_count": 8,
     "metadata": {},
     "output_type": "execute_result"
    }
   ],
   "source": [
    "mcsm_ppi2_predictions_data = pd.read_csv(MCSM_PPI2_PREDICTION_DATA_PATH)\n",
    "\n",
    "mcsm_ppi2_predictions_data.rename(\n",
    "    columns={\"mCSM_PP2_Prediction\": \"mCSM_PP2\"}, inplace=True\n",
    ")\n",
    "\n",
    "mcsm_ppi2_predictions_data[\"mCSM_PP2\"] = mcsm_ppi2_predictions_data[\"mCSM_PP2\"].fillna(\"not_available\")\n",
    "\n",
    "mcsm_ppi2_predictions_data = introduce_triplet_column(mcsm_ppi2_predictions_data)\n",
    "mcsm_ppi2_predictions_data"
   ],
   "metadata": {
    "collapsed": false,
    "pycharm": {
     "name": "#%%\n"
    }
   }
  },
  {
   "cell_type": "code",
   "execution_count": null,
   "outputs": [],
   "source": [],
   "metadata": {
    "collapsed": false,
    "pycharm": {
     "name": "#%%\n"
    }
   }
  },
  {
   "cell_type": "code",
   "execution_count": null,
   "outputs": [],
   "source": [],
   "metadata": {
    "collapsed": false,
    "pycharm": {
     "name": "#%%\n"
    }
   }
  },
  {
   "cell_type": "markdown",
   "source": [
    "## Benchmark data"
   ],
   "metadata": {
    "collapsed": false,
    "pycharm": {
     "name": "#%% md\n"
    }
   }
  },
  {
   "cell_type": "code",
   "execution_count": 9,
   "outputs": [
    {
     "data": {
      "text/plain": "                       Triplet  Mutation_Effect_Label  Predator_default  \\\n0      (A5PKW4, E621K, P62330)                      0                 0   \n1      (O00267, I194V, P63272)                      1                 1   \n2       (O00311, I99L, Q9UBU7)                      1                 1   \n3       (O00311, I99T, Q9UBU7)                      1                 1   \n4      (O00311, K416T, Q9UBU7)                      1                 0   \n..                         ...                    ...               ...   \n735    (Q9Y570, H349A, P67775)                      0                 0   \n736    (Q9Y570, S156A, P67775)                      0                 0   \n737  (Q9Y570, S156A, P67775-2)                      0                 0   \n738    (Q9Y570, S156T, P67775)                      0                 0   \n739  (Q9Y570, S156T, P67775-2)                      0                 0   \n\n     Predator_feature_selected  Predator_feature_selected_tuned  \\\n0                            0                                0   \n1                            1                                1   \n2                            1                                1   \n3                            1                                1   \n4                            0                                0   \n..                         ...                              ...   \n735                          0                                0   \n736                          0                                0   \n737                          0                                0   \n738                          0                                0   \n739                          0                                0   \n\n         SAAMBE_3D  PANDA       mCSM_PP2  \n0    not_available      0  not_available  \n1              1.0      0            0.0  \n2              1.0      0            0.0  \n3              0.0      0            0.0  \n4              1.0      0            0.0  \n..             ...    ...            ...  \n735            1.0      0            0.0  \n736  not_available      0  not_available  \n737  not_available      0  not_available  \n738  not_available      0  not_available  \n739  not_available      0  not_available  \n\n[740 rows x 8 columns]",
      "text/html": "<div>\n<style scoped>\n    .dataframe tbody tr th:only-of-type {\n        vertical-align: middle;\n    }\n\n    .dataframe tbody tr th {\n        vertical-align: top;\n    }\n\n    .dataframe thead th {\n        text-align: right;\n    }\n</style>\n<table border=\"1\" class=\"dataframe\">\n  <thead>\n    <tr style=\"text-align: right;\">\n      <th></th>\n      <th>Triplet</th>\n      <th>Mutation_Effect_Label</th>\n      <th>Predator_default</th>\n      <th>Predator_feature_selected</th>\n      <th>Predator_feature_selected_tuned</th>\n      <th>SAAMBE_3D</th>\n      <th>PANDA</th>\n      <th>mCSM_PP2</th>\n    </tr>\n  </thead>\n  <tbody>\n    <tr>\n      <th>0</th>\n      <td>(A5PKW4, E621K, P62330)</td>\n      <td>0</td>\n      <td>0</td>\n      <td>0</td>\n      <td>0</td>\n      <td>not_available</td>\n      <td>0</td>\n      <td>not_available</td>\n    </tr>\n    <tr>\n      <th>1</th>\n      <td>(O00267, I194V, P63272)</td>\n      <td>1</td>\n      <td>1</td>\n      <td>1</td>\n      <td>1</td>\n      <td>1.0</td>\n      <td>0</td>\n      <td>0.0</td>\n    </tr>\n    <tr>\n      <th>2</th>\n      <td>(O00311, I99L, Q9UBU7)</td>\n      <td>1</td>\n      <td>1</td>\n      <td>1</td>\n      <td>1</td>\n      <td>1.0</td>\n      <td>0</td>\n      <td>0.0</td>\n    </tr>\n    <tr>\n      <th>3</th>\n      <td>(O00311, I99T, Q9UBU7)</td>\n      <td>1</td>\n      <td>1</td>\n      <td>1</td>\n      <td>1</td>\n      <td>0.0</td>\n      <td>0</td>\n      <td>0.0</td>\n    </tr>\n    <tr>\n      <th>4</th>\n      <td>(O00311, K416T, Q9UBU7)</td>\n      <td>1</td>\n      <td>0</td>\n      <td>0</td>\n      <td>0</td>\n      <td>1.0</td>\n      <td>0</td>\n      <td>0.0</td>\n    </tr>\n    <tr>\n      <th>...</th>\n      <td>...</td>\n      <td>...</td>\n      <td>...</td>\n      <td>...</td>\n      <td>...</td>\n      <td>...</td>\n      <td>...</td>\n      <td>...</td>\n    </tr>\n    <tr>\n      <th>735</th>\n      <td>(Q9Y570, H349A, P67775)</td>\n      <td>0</td>\n      <td>0</td>\n      <td>0</td>\n      <td>0</td>\n      <td>1.0</td>\n      <td>0</td>\n      <td>0.0</td>\n    </tr>\n    <tr>\n      <th>736</th>\n      <td>(Q9Y570, S156A, P67775)</td>\n      <td>0</td>\n      <td>0</td>\n      <td>0</td>\n      <td>0</td>\n      <td>not_available</td>\n      <td>0</td>\n      <td>not_available</td>\n    </tr>\n    <tr>\n      <th>737</th>\n      <td>(Q9Y570, S156A, P67775-2)</td>\n      <td>0</td>\n      <td>0</td>\n      <td>0</td>\n      <td>0</td>\n      <td>not_available</td>\n      <td>0</td>\n      <td>not_available</td>\n    </tr>\n    <tr>\n      <th>738</th>\n      <td>(Q9Y570, S156T, P67775)</td>\n      <td>0</td>\n      <td>0</td>\n      <td>0</td>\n      <td>0</td>\n      <td>not_available</td>\n      <td>0</td>\n      <td>not_available</td>\n    </tr>\n    <tr>\n      <th>739</th>\n      <td>(Q9Y570, S156T, P67775-2)</td>\n      <td>0</td>\n      <td>0</td>\n      <td>0</td>\n      <td>0</td>\n      <td>not_available</td>\n      <td>0</td>\n      <td>not_available</td>\n    </tr>\n  </tbody>\n</table>\n<p>740 rows × 8 columns</p>\n</div>"
     },
     "execution_count": 9,
     "metadata": {},
     "output_type": "execute_result"
    }
   ],
   "source": [
    "# Add PREDATOR\n",
    "benchmark_data = predator_predictions_data.copy()\n",
    "\n",
    "# Add SAMBE_3D\n",
    "benchmark_data[\"SAAMBE_3D\"] = saambe_3d_predictions_data[\"SAAMBE_3D\"]\n",
    "\n",
    "# Add PANDA\n",
    "benchmark_data[\"PANDA\"] = panda_predictions_data[\"PANDA\"]\n",
    "\n",
    "# Add mCSM_PPI2\n",
    "benchmark_data[\"mCSM_PP2\"] = mcsm_ppi2_predictions_data[\"mCSM_PP2\"]\n",
    "\n",
    "benchmark_data"
   ],
   "metadata": {
    "collapsed": false,
    "pycharm": {
     "name": "#%%\n"
    }
   }
  },
  {
   "cell_type": "code",
   "execution_count": 7,
   "outputs": [],
   "source": [],
   "metadata": {
    "collapsed": false,
    "pycharm": {
     "name": "#%%\n"
    }
   }
  },
  {
   "cell_type": "markdown",
   "source": [
    "Drop NAN entries"
   ],
   "metadata": {
    "collapsed": false,
    "pycharm": {
     "name": "#%% md\n"
    }
   }
  },
  {
   "cell_type": "code",
   "execution_count": 11,
   "outputs": [
    {
     "data": {
      "text/plain": "                     Triplet  Mutation_Effect_Label  Predator_default  \\\n1    (O00267, I194V, P63272)                      1                 1   \n2     (O00311, I99L, Q9UBU7)                      1                 1   \n3     (O00311, I99T, Q9UBU7)                      1                 1   \n4    (O00311, K416T, Q9UBU7)                      1                 0   \n5    (O00311, Q106R, Q9UBU7)                      1                 0   \n..                       ...                    ...               ...   \n731   (Q9Y4K3, L74E, P61088)                      0                 0   \n732   (Q9Y4K3, L74H, P61088)                      0                 0   \n733   (Q9Y4K3, L74K, P61088)                      0                 0   \n734   (Q9Y4K3, L74R, P61088)                      0                 0   \n735  (Q9Y570, H349A, P67775)                      0                 0   \n\n     Predator_feature_selected  Predator_feature_selected_tuned  SAAMBE_3D  \\\n1                            1                                1          1   \n2                            1                                1          1   \n3                            1                                1          0   \n4                            0                                0          1   \n5                            1                                1          1   \n..                         ...                              ...        ...   \n731                          0                                0          1   \n732                          0                                0          1   \n733                          0                                0          1   \n734                          0                                0          1   \n735                          0                                0          1   \n\n     PANDA  mCSM_PP2  \n1        0         0  \n2        0         0  \n3        0         0  \n4        0         0  \n5        1         0  \n..     ...       ...  \n731      0         0  \n732      0         0  \n733      0         0  \n734      0         0  \n735      0         0  \n\n[365 rows x 8 columns]",
      "text/html": "<div>\n<style scoped>\n    .dataframe tbody tr th:only-of-type {\n        vertical-align: middle;\n    }\n\n    .dataframe tbody tr th {\n        vertical-align: top;\n    }\n\n    .dataframe thead th {\n        text-align: right;\n    }\n</style>\n<table border=\"1\" class=\"dataframe\">\n  <thead>\n    <tr style=\"text-align: right;\">\n      <th></th>\n      <th>Triplet</th>\n      <th>Mutation_Effect_Label</th>\n      <th>Predator_default</th>\n      <th>Predator_feature_selected</th>\n      <th>Predator_feature_selected_tuned</th>\n      <th>SAAMBE_3D</th>\n      <th>PANDA</th>\n      <th>mCSM_PP2</th>\n    </tr>\n  </thead>\n  <tbody>\n    <tr>\n      <th>1</th>\n      <td>(O00267, I194V, P63272)</td>\n      <td>1</td>\n      <td>1</td>\n      <td>1</td>\n      <td>1</td>\n      <td>1</td>\n      <td>0</td>\n      <td>0</td>\n    </tr>\n    <tr>\n      <th>2</th>\n      <td>(O00311, I99L, Q9UBU7)</td>\n      <td>1</td>\n      <td>1</td>\n      <td>1</td>\n      <td>1</td>\n      <td>1</td>\n      <td>0</td>\n      <td>0</td>\n    </tr>\n    <tr>\n      <th>3</th>\n      <td>(O00311, I99T, Q9UBU7)</td>\n      <td>1</td>\n      <td>1</td>\n      <td>1</td>\n      <td>1</td>\n      <td>0</td>\n      <td>0</td>\n      <td>0</td>\n    </tr>\n    <tr>\n      <th>4</th>\n      <td>(O00311, K416T, Q9UBU7)</td>\n      <td>1</td>\n      <td>0</td>\n      <td>0</td>\n      <td>0</td>\n      <td>1</td>\n      <td>0</td>\n      <td>0</td>\n    </tr>\n    <tr>\n      <th>5</th>\n      <td>(O00311, Q106R, Q9UBU7)</td>\n      <td>1</td>\n      <td>0</td>\n      <td>1</td>\n      <td>1</td>\n      <td>1</td>\n      <td>1</td>\n      <td>0</td>\n    </tr>\n    <tr>\n      <th>...</th>\n      <td>...</td>\n      <td>...</td>\n      <td>...</td>\n      <td>...</td>\n      <td>...</td>\n      <td>...</td>\n      <td>...</td>\n      <td>...</td>\n    </tr>\n    <tr>\n      <th>731</th>\n      <td>(Q9Y4K3, L74E, P61088)</td>\n      <td>0</td>\n      <td>0</td>\n      <td>0</td>\n      <td>0</td>\n      <td>1</td>\n      <td>0</td>\n      <td>0</td>\n    </tr>\n    <tr>\n      <th>732</th>\n      <td>(Q9Y4K3, L74H, P61088)</td>\n      <td>0</td>\n      <td>0</td>\n      <td>0</td>\n      <td>0</td>\n      <td>1</td>\n      <td>0</td>\n      <td>0</td>\n    </tr>\n    <tr>\n      <th>733</th>\n      <td>(Q9Y4K3, L74K, P61088)</td>\n      <td>0</td>\n      <td>0</td>\n      <td>0</td>\n      <td>0</td>\n      <td>1</td>\n      <td>0</td>\n      <td>0</td>\n    </tr>\n    <tr>\n      <th>734</th>\n      <td>(Q9Y4K3, L74R, P61088)</td>\n      <td>0</td>\n      <td>0</td>\n      <td>0</td>\n      <td>0</td>\n      <td>1</td>\n      <td>0</td>\n      <td>0</td>\n    </tr>\n    <tr>\n      <th>735</th>\n      <td>(Q9Y570, H349A, P67775)</td>\n      <td>0</td>\n      <td>0</td>\n      <td>0</td>\n      <td>0</td>\n      <td>1</td>\n      <td>0</td>\n      <td>0</td>\n    </tr>\n  </tbody>\n</table>\n<p>365 rows × 8 columns</p>\n</div>"
     },
     "execution_count": 11,
     "metadata": {},
     "output_type": "execute_result"
    }
   ],
   "source": [
    "benchmark_data_drop_nan = benchmark_data[benchmark_data[\"SAAMBE_3D\"] != \"not_available\"].copy()\n",
    "benchmark_data_drop_nan[\"SAAMBE_3D\"] = benchmark_data_drop_nan[\"SAAMBE_3D\"].astype(int)\n",
    "benchmark_data_drop_nan[\"mCSM_PP2\"] = benchmark_data_drop_nan[\"mCSM_PP2\"].astype(int)\n",
    "benchmark_data_drop_nan"
   ],
   "metadata": {
    "collapsed": false,
    "pycharm": {
     "name": "#%%\n"
    }
   }
  },
  {
   "cell_type": "code",
   "execution_count": 8,
   "outputs": [],
   "source": [],
   "metadata": {
    "collapsed": false,
    "pycharm": {
     "name": "#%%\n"
    }
   }
  },
  {
   "cell_type": "markdown",
   "source": [
    "# Evaluation Metric"
   ],
   "metadata": {
    "collapsed": false
   }
  },
  {
   "cell_type": "code",
   "execution_count": 12,
   "outputs": [],
   "source": [
    "from sklearn.metrics import (\n",
    "    accuracy_score,\n",
    "    balanced_accuracy_score,\n",
    "    f1_score,\n",
    "    matthews_corrcoef,\n",
    "    precision_score,\n",
    "    recall_score,\n",
    ")"
   ],
   "metadata": {
    "collapsed": false,
    "pycharm": {
     "name": "#%%\n"
    }
   }
  },
  {
   "cell_type": "code",
   "execution_count": 13,
   "outputs": [],
   "source": [
    "def get_scoring_metrics(y_true, y_pred):\n",
    "    metrics_data = pd.DataFrame(\n",
    "        [\n",
    "            accuracy_score(y_true, y_pred),\n",
    "            balanced_accuracy_score(y_true, y_pred),\n",
    "            f1_score(y_true, y_pred),\n",
    "            matthews_corrcoef(y_true, y_pred),\n",
    "            precision_score(y_true, y_pred),\n",
    "            recall_score(y_true, y_pred),\n",
    "        ],\n",
    "        columns=[\"SCORE\"],\n",
    "        index=[\"ACCURACY\", \"BALANCED_ACCURACY\", \"F1\", \"MATTEWS_COR\", \"PRECISION\", \"RECALL\"])\n",
    "\n",
    "    return metrics_data"
   ],
   "metadata": {
    "collapsed": false,
    "pycharm": {
     "name": "#%%\n"
    }
   }
  },
  {
   "cell_type": "code",
   "execution_count": 16,
   "outputs": [
    {
     "name": "stdout",
     "output_type": "stream",
     "text": [
      "Prediction results in 365 entries.\n"
     ]
    },
    {
     "data": {
      "text/plain": "                   Predator_default  Predator_Shap_10  Predator_Shap_10_Tuned  \\\nACCURACY                   0.857534          0.827397                0.800000   \nBALANCED_ACCURACY          0.717573          0.667823                0.658817   \nF1                         0.593750          0.496000                0.474820   \nMATTEWS_COR                0.547219          0.434530                0.365185   \nPRECISION                  0.826087          0.720930                0.578947   \nRECALL                     0.463415          0.378049                0.402439   \n\n                   SAAMBE_3D     PANDA  mCSM_PP2  \nACCURACY            0.263014  0.684932  0.800000  \nBALANCED_ACCURACY   0.481427  0.467681  0.619840  \nF1                  0.348668  0.094488  0.396694  \nMATTEWS_COR        -0.053340 -0.082056  0.323810  \nPRECISION           0.217523  0.133333  0.615385  \nRECALL              0.878049  0.073171  0.292683  ",
      "text/html": "<div>\n<style scoped>\n    .dataframe tbody tr th:only-of-type {\n        vertical-align: middle;\n    }\n\n    .dataframe tbody tr th {\n        vertical-align: top;\n    }\n\n    .dataframe thead th {\n        text-align: right;\n    }\n</style>\n<table border=\"1\" class=\"dataframe\">\n  <thead>\n    <tr style=\"text-align: right;\">\n      <th></th>\n      <th>Predator_default</th>\n      <th>Predator_Shap_10</th>\n      <th>Predator_Shap_10_Tuned</th>\n      <th>SAAMBE_3D</th>\n      <th>PANDA</th>\n      <th>mCSM_PP2</th>\n    </tr>\n  </thead>\n  <tbody>\n    <tr>\n      <th>ACCURACY</th>\n      <td>0.857534</td>\n      <td>0.827397</td>\n      <td>0.800000</td>\n      <td>0.263014</td>\n      <td>0.684932</td>\n      <td>0.800000</td>\n    </tr>\n    <tr>\n      <th>BALANCED_ACCURACY</th>\n      <td>0.717573</td>\n      <td>0.667823</td>\n      <td>0.658817</td>\n      <td>0.481427</td>\n      <td>0.467681</td>\n      <td>0.619840</td>\n    </tr>\n    <tr>\n      <th>F1</th>\n      <td>0.593750</td>\n      <td>0.496000</td>\n      <td>0.474820</td>\n      <td>0.348668</td>\n      <td>0.094488</td>\n      <td>0.396694</td>\n    </tr>\n    <tr>\n      <th>MATTEWS_COR</th>\n      <td>0.547219</td>\n      <td>0.434530</td>\n      <td>0.365185</td>\n      <td>-0.053340</td>\n      <td>-0.082056</td>\n      <td>0.323810</td>\n    </tr>\n    <tr>\n      <th>PRECISION</th>\n      <td>0.826087</td>\n      <td>0.720930</td>\n      <td>0.578947</td>\n      <td>0.217523</td>\n      <td>0.133333</td>\n      <td>0.615385</td>\n    </tr>\n    <tr>\n      <th>RECALL</th>\n      <td>0.463415</td>\n      <td>0.378049</td>\n      <td>0.402439</td>\n      <td>0.878049</td>\n      <td>0.073171</td>\n      <td>0.292683</td>\n    </tr>\n  </tbody>\n</table>\n</div>"
     },
     "execution_count": 16,
     "metadata": {},
     "output_type": "execute_result"
    }
   ],
   "source": [
    "import pandas as pd\n",
    "\n",
    "metrics_comparison_data = pd.concat(\n",
    "    [\n",
    "        get_scoring_metrics(benchmark_data_drop_nan[\"Mutation_Effect_Label\"], benchmark_data_drop_nan[\"Predator_default\"]),\n",
    "        get_scoring_metrics(benchmark_data_drop_nan[\"Mutation_Effect_Label\"], benchmark_data_drop_nan[\"Predator_feature_selected\"]),\n",
    "        get_scoring_metrics(benchmark_data_drop_nan[\"Mutation_Effect_Label\"], benchmark_data_drop_nan[\"Predator_feature_selected_tuned\"]),\n",
    "        get_scoring_metrics(benchmark_data_drop_nan[\"Mutation_Effect_Label\"], benchmark_data_drop_nan[\"SAAMBE_3D\"]),\n",
    "        get_scoring_metrics(benchmark_data_drop_nan[\"Mutation_Effect_Label\"], benchmark_data_drop_nan[\"PANDA\"]),\n",
    "        get_scoring_metrics(benchmark_data_drop_nan[\"Mutation_Effect_Label\"], benchmark_data_drop_nan[\"mCSM_PP2\"]),\n",
    "\n",
    "    ], axis=\"columns\"\n",
    ")\n",
    "metrics_comparison_data.columns = [\"Predator_default\", \"Predator_Shap_10\", \"Predator_Shap_10_Tuned\", \"SAAMBE_3D\", \"PANDA\", \"mCSM_PP2\"]\n",
    "print(f\"Prediction results in {len(benchmark_data_drop_nan)} entries.\")\n",
    "metrics_comparison_data"
   ],
   "metadata": {
    "collapsed": false,
    "pycharm": {
     "name": "#%%\n"
    }
   }
  },
  {
   "cell_type": "code",
   "execution_count": 50,
   "outputs": [],
   "source": [],
   "metadata": {
    "collapsed": false,
    "pycharm": {
     "name": "#%%\n"
    }
   }
  },
  {
   "cell_type": "code",
   "execution_count": null,
   "outputs": [],
   "source": [
    "# the end"
   ],
   "metadata": {
    "collapsed": false,
    "pycharm": {
     "name": "#%%\n"
    }
   }
  },
  {
   "cell_type": "markdown",
   "source": [
    "### ---------------------------"
   ],
   "metadata": {
    "collapsed": false,
    "pycharm": {
     "name": "#%% md\n"
    }
   }
  },
  {
   "cell_type": "code",
   "execution_count": 50,
   "outputs": [],
   "source": [],
   "metadata": {
    "collapsed": false,
    "pycharm": {
     "name": "#%%\n"
    }
   }
  },
  {
   "cell_type": "code",
   "execution_count": 50,
   "outputs": [],
   "source": [],
   "metadata": {
    "collapsed": false,
    "pycharm": {
     "name": "#%%\n"
    }
   }
  },
  {
   "cell_type": "code",
   "execution_count": 50,
   "outputs": [],
   "source": [],
   "metadata": {
    "collapsed": false,
    "pycharm": {
     "name": "#%%\n"
    }
   }
  },
  {
   "cell_type": "code",
   "execution_count": 50,
   "outputs": [],
   "source": [],
   "metadata": {
    "collapsed": false,
    "pycharm": {
     "name": "#%%\n"
    }
   }
  },
  {
   "cell_type": "code",
   "execution_count": 50,
   "outputs": [],
   "source": [],
   "metadata": {
    "collapsed": false,
    "pycharm": {
     "name": "#%%\n"
    }
   }
  },
  {
   "cell_type": "code",
   "execution_count": 50,
   "outputs": [],
   "source": [],
   "metadata": {
    "collapsed": false,
    "pycharm": {
     "name": "#%%\n"
    }
   }
  },
  {
   "cell_type": "code",
   "execution_count": 50,
   "outputs": [],
   "source": [],
   "metadata": {
    "collapsed": false,
    "pycharm": {
     "name": "#%%\n"
    }
   }
  },
  {
   "cell_type": "code",
   "execution_count": 50,
   "outputs": [],
   "source": [],
   "metadata": {
    "collapsed": false,
    "pycharm": {
     "name": "#%%\n"
    }
   }
  },
  {
   "cell_type": "code",
   "execution_count": 50,
   "outputs": [],
   "source": [],
   "metadata": {
    "collapsed": false,
    "pycharm": {
     "name": "#%%\n"
    }
   }
  },
  {
   "cell_type": "code",
   "execution_count": 50,
   "outputs": [],
   "source": [],
   "metadata": {
    "collapsed": false,
    "pycharm": {
     "name": "#%%\n"
    }
   }
  },
  {
   "cell_type": "code",
   "execution_count": 50,
   "outputs": [],
   "source": [],
   "metadata": {
    "collapsed": false,
    "pycharm": {
     "name": "#%%\n"
    }
   }
  },
  {
   "cell_type": "code",
   "execution_count": 50,
   "outputs": [],
   "source": [],
   "metadata": {
    "collapsed": false,
    "pycharm": {
     "name": "#%%\n"
    }
   }
  },
  {
   "cell_type": "code",
   "execution_count": 50,
   "outputs": [],
   "source": [],
   "metadata": {
    "collapsed": false,
    "pycharm": {
     "name": "#%%\n"
    }
   }
  },
  {
   "cell_type": "code",
   "execution_count": 51,
   "outputs": [
    {
     "data": {
      "text/plain": "0      0\n1      1\n2      1\n3      1\n4      1\n      ..\n735    0\n736    0\n737    0\n738    0\n739    0\nName: Mutation_Effect_Label, Length: 740, dtype: int64"
     },
     "execution_count": 51,
     "metadata": {},
     "output_type": "execute_result"
    }
   ],
   "source": [
    "saambe_3d_predictions_data[\"SAAMBE_3D\"]\n",
    "saambe_3d_predictions_data[\"Mutation_Effect_Label\"]"
   ],
   "metadata": {
    "collapsed": false,
    "pycharm": {
     "name": "#%%\n"
    }
   }
  },
  {
   "cell_type": "code",
   "execution_count": 51,
   "outputs": [],
   "source": [],
   "metadata": {
    "collapsed": false,
    "pycharm": {
     "name": "#%%\n"
    }
   }
  },
  {
   "cell_type": "code",
   "execution_count": 51,
   "outputs": [],
   "source": [],
   "metadata": {
    "collapsed": false,
    "pycharm": {
     "name": "#%%\n"
    }
   }
  },
  {
   "cell_type": "code",
   "execution_count": 52,
   "outputs": [
    {
     "data": {
      "text/plain": "0        (A5PKW4, E621K, P62330)\n1        (O00267, I194V, P63272)\n2         (O00311, I99L, Q9UBU7)\n3         (O00311, I99T, Q9UBU7)\n4        (O00311, K416T, Q9UBU7)\n                 ...            \n735      (Q9Y570, H349A, P67775)\n736      (Q9Y570, S156A, P67775)\n737    (Q9Y570, S156A, P67775-2)\n738      (Q9Y570, S156T, P67775)\n739    (Q9Y570, S156T, P67775-2)\nName: Triplet, Length: 740, dtype: object"
     },
     "execution_count": 52,
     "metadata": {},
     "output_type": "execute_result"
    }
   ],
   "source": [
    "predator_predictions_data[\"Triplet\"]"
   ],
   "metadata": {
    "collapsed": false,
    "pycharm": {
     "name": "#%%\n"
    }
   }
  },
  {
   "cell_type": "code",
   "execution_count": 52,
   "outputs": [],
   "source": [],
   "metadata": {
    "collapsed": false,
    "pycharm": {
     "name": "#%%\n"
    }
   }
  },
  {
   "cell_type": "markdown",
   "source": [],
   "metadata": {
    "collapsed": false,
    "pycharm": {
     "name": "#%% md\n"
    }
   }
  },
  {
   "cell_type": "code",
   "execution_count": 53,
   "outputs": [
    {
     "data": {
      "text/plain": "True"
     },
     "execution_count": 53,
     "metadata": {},
     "output_type": "execute_result"
    }
   ],
   "source": [
    "predator_predictions_data[\"Triplet\"].tolist() == saambe_3d_predictions_data[\"Triplet\"].tolist() == panda_predictions_data[\"Triplet\"].tolist()"
   ],
   "metadata": {
    "collapsed": false,
    "pycharm": {
     "name": "#%%\n"
    }
   }
  },
  {
   "cell_type": "code",
   "execution_count": 54,
   "outputs": [
    {
     "data": {
      "text/plain": "                       Triplet  Mutation_Effect_Label  Predator_default  \\\n0      (A5PKW4, E621K, P62330)                      0                 0   \n1      (O00267, I194V, P63272)                      1                 1   \n2       (O00311, I99L, Q9UBU7)                      1                 1   \n3       (O00311, I99T, Q9UBU7)                      1                 1   \n4      (O00311, K416T, Q9UBU7)                      1                 0   \n..                         ...                    ...               ...   \n735    (Q9Y570, H349A, P67775)                      0                 0   \n736    (Q9Y570, S156A, P67775)                      0                 0   \n737  (Q9Y570, S156A, P67775-2)                      0                 0   \n738    (Q9Y570, S156T, P67775)                      0                 0   \n739  (Q9Y570, S156T, P67775-2)                      0                 0   \n\n     Predator_feature_selected  Predator_feature_selected_tuned  \n0                            0                                0  \n1                            1                                1  \n2                            1                                1  \n3                            1                                1  \n4                            0                                0  \n..                         ...                              ...  \n735                          0                                0  \n736                          0                                0  \n737                          0                                0  \n738                          0                                0  \n739                          0                                0  \n\n[740 rows x 5 columns]",
      "text/html": "<div>\n<style scoped>\n    .dataframe tbody tr th:only-of-type {\n        vertical-align: middle;\n    }\n\n    .dataframe tbody tr th {\n        vertical-align: top;\n    }\n\n    .dataframe thead th {\n        text-align: right;\n    }\n</style>\n<table border=\"1\" class=\"dataframe\">\n  <thead>\n    <tr style=\"text-align: right;\">\n      <th></th>\n      <th>Triplet</th>\n      <th>Mutation_Effect_Label</th>\n      <th>Predator_default</th>\n      <th>Predator_feature_selected</th>\n      <th>Predator_feature_selected_tuned</th>\n    </tr>\n  </thead>\n  <tbody>\n    <tr>\n      <th>0</th>\n      <td>(A5PKW4, E621K, P62330)</td>\n      <td>0</td>\n      <td>0</td>\n      <td>0</td>\n      <td>0</td>\n    </tr>\n    <tr>\n      <th>1</th>\n      <td>(O00267, I194V, P63272)</td>\n      <td>1</td>\n      <td>1</td>\n      <td>1</td>\n      <td>1</td>\n    </tr>\n    <tr>\n      <th>2</th>\n      <td>(O00311, I99L, Q9UBU7)</td>\n      <td>1</td>\n      <td>1</td>\n      <td>1</td>\n      <td>1</td>\n    </tr>\n    <tr>\n      <th>3</th>\n      <td>(O00311, I99T, Q9UBU7)</td>\n      <td>1</td>\n      <td>1</td>\n      <td>1</td>\n      <td>1</td>\n    </tr>\n    <tr>\n      <th>4</th>\n      <td>(O00311, K416T, Q9UBU7)</td>\n      <td>1</td>\n      <td>0</td>\n      <td>0</td>\n      <td>0</td>\n    </tr>\n    <tr>\n      <th>...</th>\n      <td>...</td>\n      <td>...</td>\n      <td>...</td>\n      <td>...</td>\n      <td>...</td>\n    </tr>\n    <tr>\n      <th>735</th>\n      <td>(Q9Y570, H349A, P67775)</td>\n      <td>0</td>\n      <td>0</td>\n      <td>0</td>\n      <td>0</td>\n    </tr>\n    <tr>\n      <th>736</th>\n      <td>(Q9Y570, S156A, P67775)</td>\n      <td>0</td>\n      <td>0</td>\n      <td>0</td>\n      <td>0</td>\n    </tr>\n    <tr>\n      <th>737</th>\n      <td>(Q9Y570, S156A, P67775-2)</td>\n      <td>0</td>\n      <td>0</td>\n      <td>0</td>\n      <td>0</td>\n    </tr>\n    <tr>\n      <th>738</th>\n      <td>(Q9Y570, S156T, P67775)</td>\n      <td>0</td>\n      <td>0</td>\n      <td>0</td>\n      <td>0</td>\n    </tr>\n    <tr>\n      <th>739</th>\n      <td>(Q9Y570, S156T, P67775-2)</td>\n      <td>0</td>\n      <td>0</td>\n      <td>0</td>\n      <td>0</td>\n    </tr>\n  </tbody>\n</table>\n<p>740 rows × 5 columns</p>\n</div>"
     },
     "execution_count": 54,
     "metadata": {},
     "output_type": "execute_result"
    }
   ],
   "source": [
    "predator_predictions_data"
   ],
   "metadata": {
    "collapsed": false,
    "pycharm": {
     "name": "#%%\n"
    }
   }
  },
  {
   "cell_type": "code",
   "execution_count": 54,
   "outputs": [],
   "source": [],
   "metadata": {
    "collapsed": false,
    "pycharm": {
     "name": "#%%\n"
    }
   }
  },
  {
   "cell_type": "code",
   "execution_count": 54,
   "outputs": [],
   "source": [],
   "metadata": {
    "collapsed": false,
    "pycharm": {
     "name": "#%%\n"
    }
   }
  },
  {
   "cell_type": "code",
   "execution_count": 54,
   "outputs": [],
   "source": [],
   "metadata": {
    "collapsed": false,
    "pycharm": {
     "name": "#%%\n"
    }
   }
  },
  {
   "cell_type": "code",
   "execution_count": 54,
   "outputs": [],
   "source": [],
   "metadata": {
    "collapsed": false,
    "pycharm": {
     "name": "#%%\n"
    }
   }
  },
  {
   "cell_type": "code",
   "execution_count": 55,
   "outputs": [
    {
     "name": "stderr",
     "output_type": "stream",
     "text": [
      "ERROR:root:Internal Python error in the inspect module.\n",
      "Below is the traceback from this internal error.\n",
      "\n"
     ]
    },
    {
     "name": "stdout",
     "output_type": "stream",
     "text": [
      "Traceback (most recent call last):\n",
      "  File \"C:\\Users\\ibrah\\anaconda3\\envs\\MyVenvML\\lib\\site-packages\\IPython\\core\\interactiveshell.py\", line 3441, in run_code\n",
      "    exec(code_obj, self.user_global_ns, self.user_ns)\n",
      "  File \"<ipython-input-55-39796ea77a87>\", line 1, in <module>\n",
      "    pd.merge(\n",
      "  File \"C:\\Users\\ibrah\\anaconda3\\envs\\MyVenvML\\lib\\site-packages\\pandas\\core\\reshape\\merge.py\", line 74, in merge\n",
      "    op = _MergeOperation(\n",
      "  File \"C:\\Users\\ibrah\\anaconda3\\envs\\MyVenvML\\lib\\site-packages\\pandas\\core\\reshape\\merge.py\", line 668, in __init__\n",
      "    ) = self._get_merge_keys()\n",
      "  File \"C:\\Users\\ibrah\\anaconda3\\envs\\MyVenvML\\lib\\site-packages\\pandas\\core\\reshape\\merge.py\", line 1033, in _get_merge_keys\n",
      "    right_keys.append(right._get_label_or_level_values(rk))\n",
      "  File \"C:\\Users\\ibrah\\anaconda3\\envs\\MyVenvML\\lib\\site-packages\\pandas\\core\\generic.py\", line 1684, in _get_label_or_level_values\n",
      "    raise KeyError(key)\n",
      "KeyError: 'UniProt_ID'\n",
      "\n",
      "During handling of the above exception, another exception occurred:\n",
      "\n",
      "Traceback (most recent call last):\n",
      "  File \"C:\\Users\\ibrah\\anaconda3\\envs\\MyVenvML\\lib\\site-packages\\IPython\\core\\interactiveshell.py\", line 2061, in showtraceback\n",
      "    stb = value._render_traceback_()\n",
      "AttributeError: 'KeyError' object has no attribute '_render_traceback_'\n",
      "\n",
      "During handling of the above exception, another exception occurred:\n",
      "\n",
      "Traceback (most recent call last):\n",
      "  File \"C:\\Users\\ibrah\\anaconda3\\envs\\MyVenvML\\lib\\site-packages\\IPython\\core\\ultratb.py\", line 1101, in get_records\n",
      "    return _fixed_getinnerframes(etb, number_of_lines_of_context, tb_offset)\n",
      "  File \"C:\\Users\\ibrah\\anaconda3\\envs\\MyVenvML\\lib\\site-packages\\IPython\\core\\ultratb.py\", line 248, in wrapped\n",
      "    return f(*args, **kwargs)\n",
      "  File \"C:\\Users\\ibrah\\anaconda3\\envs\\MyVenvML\\lib\\site-packages\\IPython\\core\\ultratb.py\", line 281, in _fixed_getinnerframes\n",
      "    records = fix_frame_records_filenames(inspect.getinnerframes(etb, context))\n",
      "  File \"C:\\Users\\ibrah\\anaconda3\\envs\\MyVenvML\\lib\\inspect.py\", line 1541, in getinnerframes\n",
      "    frameinfo = (tb.tb_frame,) + getframeinfo(tb, context)\n",
      "  File \"C:\\Users\\ibrah\\anaconda3\\envs\\MyVenvML\\lib\\inspect.py\", line 1499, in getframeinfo\n",
      "    filename = getsourcefile(frame) or getfile(frame)\n",
      "  File \"C:\\Users\\ibrah\\anaconda3\\envs\\MyVenvML\\lib\\inspect.py\", line 706, in getsourcefile\n",
      "    if os.path.exists(filename):\n",
      "  File \"C:\\Users\\ibrah\\anaconda3\\envs\\MyVenvML\\lib\\genericpath.py\", line 19, in exists\n",
      "    os.stat(path)\n",
      "KeyboardInterrupt\n"
     ]
    },
    {
     "ename": "TypeError",
     "evalue": "object of type 'NoneType' has no len()",
     "output_type": "error",
     "traceback": [
      "\u001B[1;31m---------------------------------------------------------------------------\u001B[0m",
      "\u001B[1;31mKeyError\u001B[0m                                  Traceback (most recent call last)",
      "    \u001B[1;31m[... skipping hidden 1 frame]\u001B[0m\n",
      "\u001B[1;32m<ipython-input-55-39796ea77a87>\u001B[0m in \u001B[0;36m<module>\u001B[1;34m\u001B[0m\n\u001B[1;32m----> 1\u001B[1;33m pd.merge(\n\u001B[0m\u001B[0;32m      2\u001B[0m     \u001B[0mpredator_predictions_data\u001B[0m\u001B[1;33m,\u001B[0m\u001B[1;33m\u001B[0m\u001B[1;33m\u001B[0m\u001B[0m\n\u001B[0;32m      3\u001B[0m     \u001B[0msaambe_3d_predictions_data\u001B[0m\u001B[1;33m,\u001B[0m\u001B[1;33m\u001B[0m\u001B[1;33m\u001B[0m\u001B[0m\n",
      "\u001B[1;32m~\\anaconda3\\envs\\MyVenvML\\lib\\site-packages\\pandas\\core\\reshape\\merge.py\u001B[0m in \u001B[0;36mmerge\u001B[1;34m(left, right, how, on, left_on, right_on, left_index, right_index, sort, suffixes, copy, indicator, validate)\u001B[0m\n\u001B[0;32m     73\u001B[0m ) -> \"DataFrame\":\n\u001B[1;32m---> 74\u001B[1;33m     op = _MergeOperation(\n\u001B[0m\u001B[0;32m     75\u001B[0m         \u001B[0mleft\u001B[0m\u001B[1;33m,\u001B[0m\u001B[1;33m\u001B[0m\u001B[1;33m\u001B[0m\u001B[0m\n",
      "\u001B[1;32m~\\anaconda3\\envs\\MyVenvML\\lib\\site-packages\\pandas\\core\\reshape\\merge.py\u001B[0m in \u001B[0;36m__init__\u001B[1;34m(self, left, right, how, on, left_on, right_on, axis, left_index, right_index, sort, suffixes, copy, indicator, validate)\u001B[0m\n\u001B[0;32m    667\u001B[0m             \u001B[0mself\u001B[0m\u001B[1;33m.\u001B[0m\u001B[0mjoin_names\u001B[0m\u001B[1;33m,\u001B[0m\u001B[1;33m\u001B[0m\u001B[1;33m\u001B[0m\u001B[0m\n\u001B[1;32m--> 668\u001B[1;33m         ) = self._get_merge_keys()\n\u001B[0m\u001B[0;32m    669\u001B[0m \u001B[1;33m\u001B[0m\u001B[0m\n",
      "\u001B[1;32m~\\anaconda3\\envs\\MyVenvML\\lib\\site-packages\\pandas\\core\\reshape\\merge.py\u001B[0m in \u001B[0;36m_get_merge_keys\u001B[1;34m(self)\u001B[0m\n\u001B[0;32m   1032\u001B[0m                         \u001B[1;32mif\u001B[0m \u001B[0mrk\u001B[0m \u001B[1;32mis\u001B[0m \u001B[1;32mnot\u001B[0m \u001B[1;32mNone\u001B[0m\u001B[1;33m:\u001B[0m\u001B[1;33m\u001B[0m\u001B[1;33m\u001B[0m\u001B[0m\n\u001B[1;32m-> 1033\u001B[1;33m                             \u001B[0mright_keys\u001B[0m\u001B[1;33m.\u001B[0m\u001B[0mappend\u001B[0m\u001B[1;33m(\u001B[0m\u001B[0mright\u001B[0m\u001B[1;33m.\u001B[0m\u001B[0m_get_label_or_level_values\u001B[0m\u001B[1;33m(\u001B[0m\u001B[0mrk\u001B[0m\u001B[1;33m)\u001B[0m\u001B[1;33m)\u001B[0m\u001B[1;33m\u001B[0m\u001B[1;33m\u001B[0m\u001B[0m\n\u001B[0m\u001B[0;32m   1034\u001B[0m                         \u001B[1;32melse\u001B[0m\u001B[1;33m:\u001B[0m\u001B[1;33m\u001B[0m\u001B[1;33m\u001B[0m\u001B[0m\n",
      "\u001B[1;32m~\\anaconda3\\envs\\MyVenvML\\lib\\site-packages\\pandas\\core\\generic.py\u001B[0m in \u001B[0;36m_get_label_or_level_values\u001B[1;34m(self, key, axis)\u001B[0m\n\u001B[0;32m   1683\u001B[0m         \u001B[1;32melse\u001B[0m\u001B[1;33m:\u001B[0m\u001B[1;33m\u001B[0m\u001B[1;33m\u001B[0m\u001B[0m\n\u001B[1;32m-> 1684\u001B[1;33m             \u001B[1;32mraise\u001B[0m \u001B[0mKeyError\u001B[0m\u001B[1;33m(\u001B[0m\u001B[0mkey\u001B[0m\u001B[1;33m)\u001B[0m\u001B[1;33m\u001B[0m\u001B[1;33m\u001B[0m\u001B[0m\n\u001B[0m\u001B[0;32m   1685\u001B[0m \u001B[1;33m\u001B[0m\u001B[0m\n",
      "\u001B[1;31mKeyError\u001B[0m: 'UniProt_ID'",
      "\nDuring handling of the above exception, another exception occurred:\n",
      "\u001B[1;31mAttributeError\u001B[0m                            Traceback (most recent call last)",
      "\u001B[1;32m~\\anaconda3\\envs\\MyVenvML\\lib\\site-packages\\IPython\\core\\interactiveshell.py\u001B[0m in \u001B[0;36mshowtraceback\u001B[1;34m(self, exc_tuple, filename, tb_offset, exception_only, running_compiled_code)\u001B[0m\n\u001B[0;32m   2060\u001B[0m                         \u001B[1;31m# in the engines. This should return a list of strings.\u001B[0m\u001B[1;33m\u001B[0m\u001B[1;33m\u001B[0m\u001B[1;33m\u001B[0m\u001B[0m\n\u001B[1;32m-> 2061\u001B[1;33m                         \u001B[0mstb\u001B[0m \u001B[1;33m=\u001B[0m \u001B[0mvalue\u001B[0m\u001B[1;33m.\u001B[0m\u001B[0m_render_traceback_\u001B[0m\u001B[1;33m(\u001B[0m\u001B[1;33m)\u001B[0m\u001B[1;33m\u001B[0m\u001B[1;33m\u001B[0m\u001B[0m\n\u001B[0m\u001B[0;32m   2062\u001B[0m                     \u001B[1;32mexcept\u001B[0m \u001B[0mException\u001B[0m\u001B[1;33m:\u001B[0m\u001B[1;33m\u001B[0m\u001B[1;33m\u001B[0m\u001B[0m\n",
      "\u001B[1;31mAttributeError\u001B[0m: 'KeyError' object has no attribute '_render_traceback_'",
      "\nDuring handling of the above exception, another exception occurred:\n",
      "\u001B[1;31mTypeError\u001B[0m                                 Traceback (most recent call last)",
      "    \u001B[1;31m[... skipping hidden 1 frame]\u001B[0m\n",
      "\u001B[1;32m~\\anaconda3\\envs\\MyVenvML\\lib\\site-packages\\IPython\\core\\interactiveshell.py\u001B[0m in \u001B[0;36mshowtraceback\u001B[1;34m(self, exc_tuple, filename, tb_offset, exception_only, running_compiled_code)\u001B[0m\n\u001B[0;32m   2061\u001B[0m                         \u001B[0mstb\u001B[0m \u001B[1;33m=\u001B[0m \u001B[0mvalue\u001B[0m\u001B[1;33m.\u001B[0m\u001B[0m_render_traceback_\u001B[0m\u001B[1;33m(\u001B[0m\u001B[1;33m)\u001B[0m\u001B[1;33m\u001B[0m\u001B[1;33m\u001B[0m\u001B[0m\n\u001B[0;32m   2062\u001B[0m                     \u001B[1;32mexcept\u001B[0m \u001B[0mException\u001B[0m\u001B[1;33m:\u001B[0m\u001B[1;33m\u001B[0m\u001B[1;33m\u001B[0m\u001B[0m\n\u001B[1;32m-> 2063\u001B[1;33m                         stb = self.InteractiveTB.structured_traceback(etype,\n\u001B[0m\u001B[0;32m   2064\u001B[0m                                             value, tb, tb_offset=tb_offset)\n\u001B[0;32m   2065\u001B[0m \u001B[1;33m\u001B[0m\u001B[0m\n",
      "\u001B[1;32m~\\anaconda3\\envs\\MyVenvML\\lib\\site-packages\\IPython\\core\\ultratb.py\u001B[0m in \u001B[0;36mstructured_traceback\u001B[1;34m(self, etype, value, tb, tb_offset, number_of_lines_of_context)\u001B[0m\n\u001B[0;32m   1365\u001B[0m         \u001B[1;32melse\u001B[0m\u001B[1;33m:\u001B[0m\u001B[1;33m\u001B[0m\u001B[1;33m\u001B[0m\u001B[0m\n\u001B[0;32m   1366\u001B[0m             \u001B[0mself\u001B[0m\u001B[1;33m.\u001B[0m\u001B[0mtb\u001B[0m \u001B[1;33m=\u001B[0m \u001B[0mtb\u001B[0m\u001B[1;33m\u001B[0m\u001B[1;33m\u001B[0m\u001B[0m\n\u001B[1;32m-> 1367\u001B[1;33m         return FormattedTB.structured_traceback(\n\u001B[0m\u001B[0;32m   1368\u001B[0m             self, etype, value, tb, tb_offset, number_of_lines_of_context)\n\u001B[0;32m   1369\u001B[0m \u001B[1;33m\u001B[0m\u001B[0m\n",
      "\u001B[1;32m~\\anaconda3\\envs\\MyVenvML\\lib\\site-packages\\IPython\\core\\ultratb.py\u001B[0m in \u001B[0;36mstructured_traceback\u001B[1;34m(self, etype, value, tb, tb_offset, number_of_lines_of_context)\u001B[0m\n\u001B[0;32m   1265\u001B[0m         \u001B[1;32mif\u001B[0m \u001B[0mmode\u001B[0m \u001B[1;32min\u001B[0m \u001B[0mself\u001B[0m\u001B[1;33m.\u001B[0m\u001B[0mverbose_modes\u001B[0m\u001B[1;33m:\u001B[0m\u001B[1;33m\u001B[0m\u001B[1;33m\u001B[0m\u001B[0m\n\u001B[0;32m   1266\u001B[0m             \u001B[1;31m# Verbose modes need a full traceback\u001B[0m\u001B[1;33m\u001B[0m\u001B[1;33m\u001B[0m\u001B[1;33m\u001B[0m\u001B[0m\n\u001B[1;32m-> 1267\u001B[1;33m             return VerboseTB.structured_traceback(\n\u001B[0m\u001B[0;32m   1268\u001B[0m                 \u001B[0mself\u001B[0m\u001B[1;33m,\u001B[0m \u001B[0metype\u001B[0m\u001B[1;33m,\u001B[0m \u001B[0mvalue\u001B[0m\u001B[1;33m,\u001B[0m \u001B[0mtb\u001B[0m\u001B[1;33m,\u001B[0m \u001B[0mtb_offset\u001B[0m\u001B[1;33m,\u001B[0m \u001B[0mnumber_of_lines_of_context\u001B[0m\u001B[1;33m\u001B[0m\u001B[1;33m\u001B[0m\u001B[0m\n\u001B[0;32m   1269\u001B[0m             )\n",
      "\u001B[1;32m~\\anaconda3\\envs\\MyVenvML\\lib\\site-packages\\IPython\\core\\ultratb.py\u001B[0m in \u001B[0;36mstructured_traceback\u001B[1;34m(self, etype, evalue, etb, tb_offset, number_of_lines_of_context)\u001B[0m\n\u001B[0;32m   1122\u001B[0m         \u001B[1;34m\"\"\"Return a nice text document describing the traceback.\"\"\"\u001B[0m\u001B[1;33m\u001B[0m\u001B[1;33m\u001B[0m\u001B[0m\n\u001B[0;32m   1123\u001B[0m \u001B[1;33m\u001B[0m\u001B[0m\n\u001B[1;32m-> 1124\u001B[1;33m         formatted_exception = self.format_exception_as_a_whole(etype, evalue, etb, number_of_lines_of_context,\n\u001B[0m\u001B[0;32m   1125\u001B[0m                                                                tb_offset)\n\u001B[0;32m   1126\u001B[0m \u001B[1;33m\u001B[0m\u001B[0m\n",
      "\u001B[1;32m~\\anaconda3\\envs\\MyVenvML\\lib\\site-packages\\IPython\\core\\ultratb.py\u001B[0m in \u001B[0;36mformat_exception_as_a_whole\u001B[1;34m(self, etype, evalue, etb, number_of_lines_of_context, tb_offset)\u001B[0m\n\u001B[0;32m   1080\u001B[0m \u001B[1;33m\u001B[0m\u001B[0m\n\u001B[0;32m   1081\u001B[0m \u001B[1;33m\u001B[0m\u001B[0m\n\u001B[1;32m-> 1082\u001B[1;33m         \u001B[0mlast_unique\u001B[0m\u001B[1;33m,\u001B[0m \u001B[0mrecursion_repeat\u001B[0m \u001B[1;33m=\u001B[0m \u001B[0mfind_recursion\u001B[0m\u001B[1;33m(\u001B[0m\u001B[0morig_etype\u001B[0m\u001B[1;33m,\u001B[0m \u001B[0mevalue\u001B[0m\u001B[1;33m,\u001B[0m \u001B[0mrecords\u001B[0m\u001B[1;33m)\u001B[0m\u001B[1;33m\u001B[0m\u001B[1;33m\u001B[0m\u001B[0m\n\u001B[0m\u001B[0;32m   1083\u001B[0m \u001B[1;33m\u001B[0m\u001B[0m\n\u001B[0;32m   1084\u001B[0m         \u001B[0mframes\u001B[0m \u001B[1;33m=\u001B[0m \u001B[0mself\u001B[0m\u001B[1;33m.\u001B[0m\u001B[0mformat_records\u001B[0m\u001B[1;33m(\u001B[0m\u001B[0mrecords\u001B[0m\u001B[1;33m,\u001B[0m \u001B[0mlast_unique\u001B[0m\u001B[1;33m,\u001B[0m \u001B[0mrecursion_repeat\u001B[0m\u001B[1;33m)\u001B[0m\u001B[1;33m\u001B[0m\u001B[1;33m\u001B[0m\u001B[0m\n",
      "\u001B[1;32m~\\anaconda3\\envs\\MyVenvML\\lib\\site-packages\\IPython\\core\\ultratb.py\u001B[0m in \u001B[0;36mfind_recursion\u001B[1;34m(etype, value, records)\u001B[0m\n\u001B[0;32m    380\u001B[0m     \u001B[1;31m# first frame (from in to out) that looks different.\u001B[0m\u001B[1;33m\u001B[0m\u001B[1;33m\u001B[0m\u001B[1;33m\u001B[0m\u001B[0m\n\u001B[0;32m    381\u001B[0m     \u001B[1;32mif\u001B[0m \u001B[1;32mnot\u001B[0m \u001B[0mis_recursion_error\u001B[0m\u001B[1;33m(\u001B[0m\u001B[0metype\u001B[0m\u001B[1;33m,\u001B[0m \u001B[0mvalue\u001B[0m\u001B[1;33m,\u001B[0m \u001B[0mrecords\u001B[0m\u001B[1;33m)\u001B[0m\u001B[1;33m:\u001B[0m\u001B[1;33m\u001B[0m\u001B[1;33m\u001B[0m\u001B[0m\n\u001B[1;32m--> 382\u001B[1;33m         \u001B[1;32mreturn\u001B[0m \u001B[0mlen\u001B[0m\u001B[1;33m(\u001B[0m\u001B[0mrecords\u001B[0m\u001B[1;33m)\u001B[0m\u001B[1;33m,\u001B[0m \u001B[1;36m0\u001B[0m\u001B[1;33m\u001B[0m\u001B[1;33m\u001B[0m\u001B[0m\n\u001B[0m\u001B[0;32m    383\u001B[0m \u001B[1;33m\u001B[0m\u001B[0m\n\u001B[0;32m    384\u001B[0m     \u001B[1;31m# Select filename, lineno, func_name to track frames with\u001B[0m\u001B[1;33m\u001B[0m\u001B[1;33m\u001B[0m\u001B[1;33m\u001B[0m\u001B[0m\n",
      "\u001B[1;31mTypeError\u001B[0m: object of type 'NoneType' has no len()"
     ]
    }
   ],
   "source": [
    "pd.merge(\n",
    "    predator_predictions_data,\n",
    "    saambe_3d_predictions_data,\n",
    "    on=[\"Mutation_Effect_Label\", \"UniProt_ID\", \"Mutation\", \"Interactor_UniProt_ID\"],\n",
    "    how=\"inner\"\n",
    ")"
   ],
   "metadata": {
    "collapsed": false,
    "pycharm": {
     "name": "#%%\n"
    }
   }
  },
  {
   "cell_type": "code",
   "execution_count": null,
   "outputs": [],
   "source": [
    "pd.merge(\n",
    "\n",
    ")"
   ],
   "metadata": {
    "collapsed": false,
    "pycharm": {
     "name": "#%%\n"
    }
   }
  },
  {
   "cell_type": "code",
   "execution_count": null,
   "outputs": [],
   "source": [],
   "metadata": {
    "collapsed": false,
    "pycharm": {
     "name": "#%%\n"
    }
   }
  },
  {
   "cell_type": "code",
   "execution_count": null,
   "outputs": [],
   "source": [],
   "metadata": {
    "collapsed": false,
    "pycharm": {
     "name": "#%%\n"
    }
   }
  },
  {
   "cell_type": "code",
   "execution_count": null,
   "outputs": [],
   "source": [
    "# Add PREDATOR\n",
    "benchmark_data = predator_predictions_data.copy()\n",
    "\n",
    "benchmark_data"
   ],
   "metadata": {
    "collapsed": false,
    "pycharm": {
     "name": "#%%\n"
    }
   }
  },
  {
   "cell_type": "code",
   "execution_count": null,
   "outputs": [],
   "source": [],
   "metadata": {
    "collapsed": false,
    "pycharm": {
     "name": "#%%\n"
    }
   }
  },
  {
   "cell_type": "code",
   "execution_count": null,
   "outputs": [],
   "source": [
    "saambe_3d_predictions_data"
   ],
   "metadata": {
    "collapsed": false,
    "pycharm": {
     "name": "#%%\n"
    }
   }
  },
  {
   "cell_type": "code",
   "execution_count": null,
   "outputs": [],
   "source": [],
   "metadata": {
    "collapsed": false,
    "pycharm": {
     "name": "#%%\n"
    }
   }
  },
  {
   "cell_type": "code",
   "execution_count": null,
   "outputs": [],
   "source": [],
   "metadata": {
    "collapsed": false,
    "pycharm": {
     "name": "#%%\n"
    }
   }
  },
  {
   "cell_type": "code",
   "execution_count": null,
   "outputs": [],
   "source": [
    "# Add SAAMBE-3D\n",
    "benchmark_data[\"SAAMBE_3D\"] = saambe_3d_predictions_data[\"Prediction\"]"
   ],
   "metadata": {
    "collapsed": false,
    "pycharm": {
     "name": "#%%\n"
    }
   }
  },
  {
   "cell_type": "code",
   "execution_count": null,
   "outputs": [],
   "source": [
    "# Add PANDA\n",
    "benchmark_data[\"PANDA\"] = panda_predictions_data[\"PANDA_Predictions\"]"
   ],
   "metadata": {
    "collapsed": false,
    "pycharm": {
     "name": "#%%\n"
    }
   }
  },
  {
   "cell_type": "code",
   "execution_count": null,
   "outputs": [],
   "source": [],
   "metadata": {
    "collapsed": false,
    "pycharm": {
     "name": "#%%\n"
    }
   }
  },
  {
   "cell_type": "code",
   "execution_count": null,
   "outputs": [],
   "source": [],
   "metadata": {
    "collapsed": false,
    "pycharm": {
     "name": "#%%\n"
    }
   }
  },
  {
   "cell_type": "code",
   "execution_count": null,
   "outputs": [],
   "source": [],
   "metadata": {
    "collapsed": false,
    "pycharm": {
     "name": "#%%\n"
    }
   }
  },
  {
   "cell_type": "code",
   "execution_count": null,
   "outputs": [],
   "source": [
    "benchmark_data"
   ],
   "metadata": {
    "collapsed": false,
    "pycharm": {
     "name": "#%%\n"
    }
   }
  },
  {
   "cell_type": "code",
   "execution_count": null,
   "outputs": [],
   "source": [],
   "metadata": {
    "collapsed": false,
    "pycharm": {
     "name": "#%%\n"
    }
   }
  },
  {
   "cell_type": "code",
   "execution_count": null,
   "outputs": [],
   "source": [],
   "metadata": {
    "collapsed": false,
    "pycharm": {
     "name": "#%%\n"
    }
   }
  },
  {
   "cell_type": "code",
   "execution_count": null,
   "outputs": [],
   "source": [],
   "metadata": {
    "collapsed": false,
    "pycharm": {
     "name": "#%%\n"
    }
   }
  },
  {
   "cell_type": "code",
   "execution_count": null,
   "outputs": [],
   "source": [],
   "metadata": {
    "collapsed": false,
    "pycharm": {
     "name": "#%%\n"
    }
   }
  },
  {
   "cell_type": "code",
   "execution_count": null,
   "outputs": [],
   "source": [],
   "metadata": {
    "collapsed": false,
    "pycharm": {
     "name": "#%%\n"
    }
   }
  },
  {
   "cell_type": "code",
   "execution_count": null,
   "outputs": [],
   "source": [],
   "metadata": {
    "collapsed": false,
    "pycharm": {
     "name": "#%%\n"
    }
   }
  }
 ],
 "metadata": {
  "kernelspec": {
   "display_name": "Python 3",
   "language": "python",
   "name": "python3"
  },
  "language_info": {
   "codemirror_mode": {
    "name": "ipython",
    "version": 2
   },
   "file_extension": ".py",
   "mimetype": "text/x-python",
   "name": "python",
   "nbconvert_exporter": "python",
   "pygments_lexer": "ipython2",
   "version": "2.7.6"
  }
 },
 "nbformat": 4,
 "nbformat_minor": 0
}