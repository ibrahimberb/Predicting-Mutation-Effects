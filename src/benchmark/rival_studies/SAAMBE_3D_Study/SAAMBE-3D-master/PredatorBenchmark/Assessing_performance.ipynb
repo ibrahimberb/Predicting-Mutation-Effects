{
 "cells": [
  {
   "cell_type": "markdown",
   "metadata": {},
   "source": [
    "# Assessing performance"
   ]
  },
  {
   "cell_type": "code",
   "execution_count": 2,
   "metadata": {},
   "outputs": [],
   "source": [
    "import pandas as pd\n",
    "\n",
    "from sklearn.metrics import (\n",
    "    accuracy_score,\n",
    "    balanced_accuracy_score,\n",
    "    f1_score,\n",
    "    matthews_corrcoef,\n",
    "    precision_score,\n",
    "    recall_score,\n",
    ")\n",
    "\n",
    "SAAMBE_3D_PREDICTION_DATA_PATH = \"SAAMBE_3D_predictions_2022-02-12.csv\"\n",
    "\n",
    "# Reflect changes in the modules immediately.\n",
    "%load_ext autoreload\n",
    "%autoreload 2"
   ]
  },
  {
   "cell_type": "code",
   "execution_count": 10,
   "metadata": {},
   "outputs": [
    {
     "data": {
      "text/html": [
       "<div>\n",
       "<style scoped>\n",
       "    .dataframe tbody tr th:only-of-type {\n",
       "        vertical-align: middle;\n",
       "    }\n",
       "\n",
       "    .dataframe tbody tr th {\n",
       "        vertical-align: top;\n",
       "    }\n",
       "\n",
       "    .dataframe thead th {\n",
       "        text-align: right;\n",
       "    }\n",
       "</style>\n",
       "<table border=\"1\" class=\"dataframe\">\n",
       "  <thead>\n",
       "    <tr style=\"text-align: right;\">\n",
       "      <th></th>\n",
       "      <th>Mutation_Effect_Label</th>\n",
       "      <th>UniProt_ID</th>\n",
       "      <th>Mutation</th>\n",
       "      <th>Interactor_UniProt_ID</th>\n",
       "      <th>Prediction</th>\n",
       "    </tr>\n",
       "  </thead>\n",
       "  <tbody>\n",
       "    <tr>\n",
       "      <th>0</th>\n",
       "      <td>0</td>\n",
       "      <td>Q9BPZ3</td>\n",
       "      <td>F118A</td>\n",
       "      <td>P11940</td>\n",
       "      <td>NaN</td>\n",
       "    </tr>\n",
       "    <tr>\n",
       "      <th>1</th>\n",
       "      <td>0</td>\n",
       "      <td>P01116</td>\n",
       "      <td>Y40C</td>\n",
       "      <td>P50749</td>\n",
       "      <td>1.0</td>\n",
       "    </tr>\n",
       "    <tr>\n",
       "      <th>2</th>\n",
       "      <td>0</td>\n",
       "      <td>Q96QK1</td>\n",
       "      <td>F534D</td>\n",
       "      <td>Q9UBQ0</td>\n",
       "      <td>1.0</td>\n",
       "    </tr>\n",
       "    <tr>\n",
       "      <th>3</th>\n",
       "      <td>0</td>\n",
       "      <td>Q96QK1</td>\n",
       "      <td>F534D</td>\n",
       "      <td>Q9UBQ0-2</td>\n",
       "      <td>1.0</td>\n",
       "    </tr>\n",
       "    <tr>\n",
       "      <th>4</th>\n",
       "      <td>0</td>\n",
       "      <td>O43521-3</td>\n",
       "      <td>G66A</td>\n",
       "      <td>Q07812</td>\n",
       "      <td>NaN</td>\n",
       "    </tr>\n",
       "    <tr>\n",
       "      <th>...</th>\n",
       "      <td>...</td>\n",
       "      <td>...</td>\n",
       "      <td>...</td>\n",
       "      <td>...</td>\n",
       "      <td>...</td>\n",
       "    </tr>\n",
       "    <tr>\n",
       "      <th>735</th>\n",
       "      <td>0</td>\n",
       "      <td>P84243</td>\n",
       "      <td>Q94A</td>\n",
       "      <td>Q9UER7-3</td>\n",
       "      <td>NaN</td>\n",
       "    </tr>\n",
       "    <tr>\n",
       "      <th>736</th>\n",
       "      <td>0</td>\n",
       "      <td>Q96QK1</td>\n",
       "      <td>L589D</td>\n",
       "      <td>Q9UBQ0</td>\n",
       "      <td>1.0</td>\n",
       "    </tr>\n",
       "    <tr>\n",
       "      <th>737</th>\n",
       "      <td>0</td>\n",
       "      <td>Q96QK1</td>\n",
       "      <td>L589D</td>\n",
       "      <td>Q9UBQ0-2</td>\n",
       "      <td>1.0</td>\n",
       "    </tr>\n",
       "    <tr>\n",
       "      <th>738</th>\n",
       "      <td>0</td>\n",
       "      <td>P23297</td>\n",
       "      <td>F72L</td>\n",
       "      <td>P25815</td>\n",
       "      <td>1.0</td>\n",
       "    </tr>\n",
       "    <tr>\n",
       "      <th>739</th>\n",
       "      <td>0</td>\n",
       "      <td>Q15836</td>\n",
       "      <td>L46P</td>\n",
       "      <td>O43752</td>\n",
       "      <td>NaN</td>\n",
       "    </tr>\n",
       "  </tbody>\n",
       "</table>\n",
       "<p>740 rows × 5 columns</p>\n",
       "</div>"
      ],
      "text/plain": [
       "     Mutation_Effect_Label UniProt_ID Mutation Interactor_UniProt_ID  \\\n",
       "0                        0     Q9BPZ3    F118A                P11940   \n",
       "1                        0     P01116     Y40C                P50749   \n",
       "2                        0     Q96QK1    F534D                Q9UBQ0   \n",
       "3                        0     Q96QK1    F534D              Q9UBQ0-2   \n",
       "4                        0   O43521-3     G66A                Q07812   \n",
       "..                     ...        ...      ...                   ...   \n",
       "735                      0     P84243     Q94A              Q9UER7-3   \n",
       "736                      0     Q96QK1    L589D                Q9UBQ0   \n",
       "737                      0     Q96QK1    L589D              Q9UBQ0-2   \n",
       "738                      0     P23297     F72L                P25815   \n",
       "739                      0     Q15836     L46P                O43752   \n",
       "\n",
       "     Prediction  \n",
       "0           NaN  \n",
       "1           1.0  \n",
       "2           1.0  \n",
       "3           1.0  \n",
       "4           NaN  \n",
       "..          ...  \n",
       "735         NaN  \n",
       "736         1.0  \n",
       "737         1.0  \n",
       "738         1.0  \n",
       "739         NaN  \n",
       "\n",
       "[740 rows x 5 columns]"
      ]
     },
     "execution_count": 10,
     "metadata": {},
     "output_type": "execute_result"
    }
   ],
   "source": [
    "saambe_3d_prediction_data = pd.read_csv(SAAMBE_3D_PREDICTION_DATA_PATH)\n",
    "\n",
    "saambe_3d_prediction_data"
   ]
  },
  {
   "cell_type": "code",
   "execution_count": 11,
   "metadata": {},
   "outputs": [],
   "source": [
    "# Drop nan entries in Prediction column.\n",
    "saambe_3d_prediction_data = saambe_3d_prediction_data.dropna(subset=[\"Prediction\"]).copy()\n",
    "\n",
    "# convert Prediction column to int.\n",
    "saambe_3d_prediction_data[\"Prediction\"] = saambe_3d_prediction_data[\"Prediction\"].astype(int)"
   ]
  },
  {
   "cell_type": "code",
   "execution_count": 13,
   "metadata": {},
   "outputs": [
    {
     "data": {
      "text/plain": [
       "1    331\n",
       "0     34\n",
       "Name: Prediction, dtype: int64"
      ]
     },
     "execution_count": 13,
     "metadata": {},
     "output_type": "execute_result"
    }
   ],
   "source": [
    "saambe_3d_prediction_data[\"Prediction\"].value_counts()"
   ]
  },
  {
   "cell_type": "code",
   "execution_count": 14,
   "metadata": {},
   "outputs": [
    {
     "name": "stdout",
     "output_type": "stream",
     "text": [
      "accuracy_score: 0.26301369863013696\n",
      "balanced_accuracy_score: 0.48142721709902614\n",
      "f1_score: 0.3486682808716707\n",
      "matthews_corrcoef: -0.053340080460335865\n",
      "precision_score: 0.2175226586102719\n",
      "recall_score: 0.8780487804878049\n"
     ]
    }
   ],
   "source": [
    "print(\"accuracy_score: {}\".format(accuracy_score(saambe_3d_prediction_data[\"Mutation_Effect_Label\"], saambe_3d_prediction_data[\"Prediction\"])))\n",
    "print(\"balanced_accuracy_score: {}\".format(balanced_accuracy_score(saambe_3d_prediction_data[\"Mutation_Effect_Label\"], saambe_3d_prediction_data[\"Prediction\"])))\n",
    "print(\"f1_score: {}\".format(f1_score(saambe_3d_prediction_data[\"Mutation_Effect_Label\"], saambe_3d_prediction_data[\"Prediction\"])))\n",
    "print(\"matthews_corrcoef: {}\".format(matthews_corrcoef(saambe_3d_prediction_data[\"Mutation_Effect_Label\"], saambe_3d_prediction_data[\"Prediction\"]))) \n",
    "print(\"precision_score: {}\".format(precision_score(saambe_3d_prediction_data[\"Mutation_Effect_Label\"], saambe_3d_prediction_data[\"Prediction\"])))\n",
    "print(\"recall_score: {}\".format(recall_score(saambe_3d_prediction_data[\"Mutation_Effect_Label\"], saambe_3d_prediction_data[\"Prediction\"]))) "
   ]
  },
  {
   "cell_type": "code",
   "execution_count": null,
   "metadata": {},
   "outputs": [],
   "source": []
  },
  {
   "cell_type": "code",
   "execution_count": null,
   "metadata": {},
   "outputs": [],
   "source": []
  },
  {
   "cell_type": "code",
   "execution_count": null,
   "metadata": {},
   "outputs": [],
   "source": []
  },
  {
   "cell_type": "code",
   "execution_count": null,
   "metadata": {},
   "outputs": [],
   "source": []
  }
 ],
 "metadata": {
  "interpreter": {
   "hash": "744a87e469587dbcf8fac8d052d878f92cd2bd4753678d29e8c66ba42908611b"
  },
  "kernelspec": {
   "display_name": "Python 2.7.15 64-bit ('SAAMBE_3D_Study': conda)",
   "language": "python",
   "name": "python3"
  },
  "language_info": {
   "codemirror_mode": {
    "name": "ipython",
    "version": 3
   },
   "file_extension": ".py",
   "mimetype": "text/x-python",
   "name": "python",
   "nbconvert_exporter": "python",
   "pygments_lexer": "ipython3",
   "version": "3.8.10"
  },
  "orig_nbformat": 4
 },
 "nbformat": 4,
 "nbformat_minor": 2
}
