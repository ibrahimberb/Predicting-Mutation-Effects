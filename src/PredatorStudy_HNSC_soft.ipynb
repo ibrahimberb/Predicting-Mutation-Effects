{
 "cells": [
  {
   "cell_type": "markdown",
   "id": "b0eea2f9-919a-44d2-970f-da295e7b77c5",
   "metadata": {
    "tags": []
   },
   "source": [
    "# PREDATOR: **PRED**icting the imp**A**ct of cancer somatic mu**T**ations on pr**O**tein-protein inte**R**actions\n"
   ]
  },
  {
   "cell_type": "markdown",
   "id": "0fc1bee2-776f-46dc-9aa7-80e979b941df",
   "metadata": {},
   "source": [
    "## HNSC"
   ]
  },
  {
   "cell_type": "markdown",
   "id": "f412b89c-b553-4606-95fb-d30520f77b97",
   "metadata": {},
   "source": [
    "\n",
    "<b><i class=\"fa fa-folder-o\" area-hidden=\"true\" style=\"color:#1976D2\"> </i>&nbsp; File Location</b><br>\n",
    "<p style=\"background:#F5F5F5; text-indent: 1em;\">\n",
    "<code style=\"background:#F5F5F5; color:#404040; font-weight:bold; font-size:12px\">C:\\Users\\ibrah\\Documents\\GitHub\\Predicting-Mutation-Effects\\src</code>\n",
    "</p>\n",
    "\n",
    "<b><i class=\"far fa-file\" area-hidden=\"true\" style=\"color:#1976D2\"> </i>&nbsp; File Name</b>\n",
    "<p style=\"background:#F5F5F5; text-indent: 1em;\">\n",
    "<code style=\"background:#F5F5F5; color:#404040; font-weight:bold; font-size:12px\">PredatorStudy_HNSC_soft.ipynb</code>\n",
    "</p>\n",
    "\n",
    "<b><i class=\"far fa-calendar-alt\" area-hidden=\"true\" style=\"color:#1976D2\"> </i>&nbsp; Last Edited</b>\n",
    "<p style=\"background:#F5F5F5; text-indent: 1em;\">\n",
    "<code style=\"background:#F5F5F5; color:#404040; font-weight:bold; font-size:12px\">November 11th, 2021</code>\n",
    "</p>\n"
   ]
  },
  {
   "cell_type": "markdown",
   "id": "8931daec-0e11-43e2-8a68-098571c3cc4e",
   "metadata": {},
   "source": [
    "<div class=\"alert alert-block\" style=\"background-color: #F5F5F5; border: 1px solid; padding: 10px; border-color: #E0E0E0\">\n",
    "    <b><i class=\"fa fa-compass\" aria-hidden=\"true\" style=\"color:#404040\"></i></b>&nbsp; <b style=\"color: #404040\">Purpose </b> <br>\n",
    "<div>\n",
    "   \n",
    "- [x] Apply on Cancer Datasets\n",
    "    > HNSC\n",
    "    \n",
    "**Dependent files:**\n",
    "\n",
    "* Target (Cancer) data: \n",
    "    - *HNSC_Interface.txt*"
   ]
  },
  {
   "cell_type": "code",
   "execution_count": 1,
   "id": "3f602602-ac27-4390-9521-9bcdc73f06ef",
   "metadata": {},
   "outputs": [],
   "source": [
    "# Common imports\n",
    "import pandas as pd\n",
    "import numpy as np\n",
    "import matplotlib.pyplot as plt\n",
    "import seaborn as sns\n",
    "\n",
    "import os\n",
    "import os.path as op\n",
    "import sys\n",
    "import random\n",
    "from pathlib import Path\n",
    "\n",
    "from pprint import pprint\n",
    "from IPython.display import display\n",
    "from tqdm.notebook import tqdm\n",
    "\n",
    "from helpers.helpers_predator.displayers import (\n",
    "    display_label_counts, \n",
    "    display_labels, \n",
    "    visualize_label_counts,\n",
    "    display_data,\n",
    ")\n",
    "\n",
    "from helpers.helpers_predator.visualizers import (\n",
    "    visualize_sampled_train_datasets_label_counts\n",
    ")\n",
    "\n",
    "from helpers.helpers_predator.common import load_predator\n",
    "from helpers.helpers_predator.common import export_data\n",
    "\n",
    "# PATHS\n",
    "HNSC_PATH = Path(r\"../../My-ELASPIC-Web-API/Elaspic_Results/Merged_Results/HNSC_Interface_2021-11-05.txt\")\n",
    "PREDATOR_MODEL_PATH = Path(r\"PredatorModels/PredatorModel_2021-10-24/04f37897/predator.pkl\")\n",
    "PREDICTIONS_DATASETS_FOLDER_PATH = \"../data/predictions_datasets/\"\n",
    "\n",
    "# Reflect changes in the modules immediately.\n",
    "%load_ext autoreload\n",
    "%autoreload 2"
   ]
  },
  {
   "cell_type": "markdown",
   "id": "c47b1edb-758c-460e-acf7-4f864330d19b",
   "metadata": {},
   "source": [
    "## Load the Predator"
   ]
  },
  {
   "cell_type": "code",
   "execution_count": 2,
   "id": "0c164c31-9b7e-4366-8336-50cbc80bf9c7",
   "metadata": {},
   "outputs": [
    {
     "name": "stdout",
     "output_type": "stream",
     "text": [
      "2021-11-11 20:29:14 |\u001b[32m INFO     \u001b[0m| helpers.helpers_predator.common | Predator object PredatorModels\\PredatorModel_2021-10-24\\04f37897\\predator.pkl is loaded successfully.\n"
     ]
    }
   ],
   "source": [
    "predator = load_predator(PREDATOR_MODEL_PATH)"
   ]
  },
  {
   "cell_type": "markdown",
   "id": "60f783e4-28bb-4543-9d35-42c4b17b37b8",
   "metadata": {},
   "source": [
    "## Prediction TCGA on Cancer Dataset: HNSC"
   ]
  },
  {
   "cell_type": "code",
   "execution_count": 3,
   "id": "c27cc976-e356-4271-85e9-f23c9366dc67",
   "metadata": {},
   "outputs": [
    {
     "name": "stdout",
     "output_type": "stream",
     "text": [
      "2021-11-11 20:29:14 |\u001b[36m DEBUG    \u001b[0m| helpers.helpers_predator.data_materials | Initialize `hnsc` ..\n",
      "2021-11-11 20:29:14 |\u001b[36m DEBUG    \u001b[0m| helpers.helpers_predator.data_materials | Initialize `target_hnsc_data` ..\n",
      "2021-11-11 20:29:14 |\u001b[36m DEBUG    \u001b[0m| helpers.helpers_predator.data_materials | Initializing target data materials ..\n",
      "2021-11-11 20:29:14 |\u001b[36m DEBUG    \u001b[0m| helpers.helpers_predator.data_materials | Determined features: ['Provean_score', 'EL2_score', 'Final_ddG', 'Interactor_alignment_score', 'Solvent_accessibility_wt', 'Matrix_score', 'Solvent_accessibility_mut', 'van_der_waals_mut', 'Interactor_template_sequence_identity', 'solvation_polar_wt']\n",
      "2021-11-11 20:29:14 |\u001b[36m DEBUG    \u001b[0m| helpers.helpers_predator.data_materials | Declaring Xs_hnsc data materials  ..\n"
     ]
    }
   ],
   "source": [
    "predator.initialize_target_data_materials(\n",
    "    tcga_code_path_pairs=[('hnsc', HNSC_PATH)]\n",
    ")"
   ]
  },
  {
   "cell_type": "markdown",
   "id": "245b2b8c-0c70-4cd5-9a09-b3428cf0b048",
   "metadata": {
    "tags": []
   },
   "source": [
    "#### TCGA Cancer Datasets"
   ]
  },
  {
   "cell_type": "markdown",
   "id": "4ab061ec-37b5-4651-a5c0-1f1238e7a08a",
   "metadata": {},
   "source": [
    "##### HNSC"
   ]
  },
  {
   "cell_type": "code",
   "execution_count": 4,
   "id": "342221d3-8e16-42eb-9801-20a3efed64f5",
   "metadata": {},
   "outputs": [
    {
     "name": "stdout",
     "output_type": "stream",
     "text": [
      "\u001b[36mData dimensions: (7839, 103)\u001b[0m\n"
     ]
    },
    {
     "data": {
      "text/html": [
       "<div>\n",
       "<style scoped>\n",
       "    .dataframe tbody tr th:only-of-type {\n",
       "        vertical-align: middle;\n",
       "    }\n",
       "\n",
       "    .dataframe tbody tr th {\n",
       "        vertical-align: top;\n",
       "    }\n",
       "\n",
       "    .dataframe thead th {\n",
       "        text-align: right;\n",
       "    }\n",
       "</style>\n",
       "<table border=\"1\" class=\"dataframe\">\n",
       "  <thead>\n",
       "    <tr style=\"text-align: right;\">\n",
       "      <th></th>\n",
       "      <th>Input_identifier</th>\n",
       "      <th>UniProt_ID</th>\n",
       "      <th>Mutation</th>\n",
       "      <th>Status</th>\n",
       "      <th>Type</th>\n",
       "      <th>COSMIC_mut_ID</th>\n",
       "      <th>ClinVar_mut_ID</th>\n",
       "      <th>UniProt_mut_ID</th>\n",
       "      <th>Domain_name</th>\n",
       "      <th>Domain_clan</th>\n",
       "      <th>...</th>\n",
       "      <th>number_of_residues_mut</th>\n",
       "      <th>IntraclashesEnergy1_wt</th>\n",
       "      <th>IntraclashesEnergy1_mut</th>\n",
       "      <th>IntraclashesEnergy2_wt</th>\n",
       "      <th>IntraclashesEnergy2_mut</th>\n",
       "      <th>Interface_hydrophobic_area</th>\n",
       "      <th>Interface_hydrophilic_area</th>\n",
       "      <th>Interface_total_area</th>\n",
       "      <th>Interface_contact_distance_wt</th>\n",
       "      <th>Interface_contact_distance_mut</th>\n",
       "    </tr>\n",
       "  </thead>\n",
       "  <tbody>\n",
       "    <tr>\n",
       "      <th>0</th>\n",
       "      <td>Q13485</td>\n",
       "      <td>Q13485</td>\n",
       "      <td>R361H</td>\n",
       "      <td>done</td>\n",
       "      <td>interface</td>\n",
       "      <td>COSM14122</td>\n",
       "      <td>-</td>\n",
       "      <td>VAR_036477</td>\n",
       "      <td>MH2</td>\n",
       "      <td>MH2</td>\n",
       "      <td>...</td>\n",
       "      <td>428.0</td>\n",
       "      <td>55.6903</td>\n",
       "      <td>55.9901</td>\n",
       "      <td>65.8172</td>\n",
       "      <td>65.8172</td>\n",
       "      <td>479.215</td>\n",
       "      <td>224.96</td>\n",
       "      <td>704.175</td>\n",
       "      <td>5.89685</td>\n",
       "      <td>6.78918</td>\n",
       "    </tr>\n",
       "    <tr>\n",
       "      <th>1</th>\n",
       "      <td>Q13485</td>\n",
       "      <td>Q13485</td>\n",
       "      <td>R361H</td>\n",
       "      <td>done</td>\n",
       "      <td>interface</td>\n",
       "      <td>COSM14122</td>\n",
       "      <td>-</td>\n",
       "      <td>VAR_036477</td>\n",
       "      <td>MH2</td>\n",
       "      <td>MH2</td>\n",
       "      <td>...</td>\n",
       "      <td>438.0</td>\n",
       "      <td>67.6915</td>\n",
       "      <td>65.6937</td>\n",
       "      <td>76.8231</td>\n",
       "      <td>76.1833</td>\n",
       "      <td>468.685</td>\n",
       "      <td>330.13</td>\n",
       "      <td>798.81</td>\n",
       "      <td>2.71793</td>\n",
       "      <td>6.60775</td>\n",
       "    </tr>\n",
       "    <tr>\n",
       "      <th>2</th>\n",
       "      <td>Q13485</td>\n",
       "      <td>Q13485</td>\n",
       "      <td>R361H</td>\n",
       "      <td>done</td>\n",
       "      <td>interface</td>\n",
       "      <td>COSM14122</td>\n",
       "      <td>-</td>\n",
       "      <td>VAR_036477</td>\n",
       "      <td>MH2</td>\n",
       "      <td>MH2</td>\n",
       "      <td>...</td>\n",
       "      <td>434.0</td>\n",
       "      <td>70.5775</td>\n",
       "      <td>70.5036</td>\n",
       "      <td>54.3675</td>\n",
       "      <td>54.3675</td>\n",
       "      <td>520.815</td>\n",
       "      <td>309.375</td>\n",
       "      <td>830.195</td>\n",
       "      <td>3.35892</td>\n",
       "      <td>5.43052</td>\n",
       "    </tr>\n",
       "  </tbody>\n",
       "</table>\n",
       "<p>3 rows × 103 columns</p>\n",
       "</div>"
      ],
      "text/plain": [
       "  Input_identifier UniProt_ID Mutation Status       Type COSMIC_mut_ID  \\\n",
       "0           Q13485     Q13485    R361H   done  interface     COSM14122   \n",
       "1           Q13485     Q13485    R361H   done  interface     COSM14122   \n",
       "2           Q13485     Q13485    R361H   done  interface     COSM14122   \n",
       "\n",
       "  ClinVar_mut_ID UniProt_mut_ID Domain_name Domain_clan  ...  \\\n",
       "0              -     VAR_036477         MH2         MH2  ...   \n",
       "1              -     VAR_036477         MH2         MH2  ...   \n",
       "2              -     VAR_036477         MH2         MH2  ...   \n",
       "\n",
       "  number_of_residues_mut IntraclashesEnergy1_wt  IntraclashesEnergy1_mut  \\\n",
       "0                  428.0                55.6903                  55.9901   \n",
       "1                  438.0                67.6915                  65.6937   \n",
       "2                  434.0                70.5775                  70.5036   \n",
       "\n",
       "   IntraclashesEnergy2_wt IntraclashesEnergy2_mut Interface_hydrophobic_area  \\\n",
       "0                 65.8172                 65.8172                    479.215   \n",
       "1                 76.8231                 76.1833                    468.685   \n",
       "2                 54.3675                 54.3675                    520.815   \n",
       "\n",
       "  Interface_hydrophilic_area Interface_total_area  \\\n",
       "0                     224.96              704.175   \n",
       "1                     330.13               798.81   \n",
       "2                    309.375              830.195   \n",
       "\n",
       "  Interface_contact_distance_wt  Interface_contact_distance_mut  \n",
       "0                       5.89685                         6.78918  \n",
       "1                       2.71793                         6.60775  \n",
       "2                       3.35892                         5.43052  \n",
       "\n",
       "[3 rows x 103 columns]"
      ]
     },
     "metadata": {},
     "output_type": "display_data"
    }
   ],
   "source": [
    "display_data(predator.data_materials[\"hnsc\"])"
   ]
  },
  {
   "cell_type": "markdown",
   "id": "a22d630d-e0a0-4417-aa64-0df18f8f3a63",
   "metadata": {
    "tags": []
   },
   "source": [
    "#### Preprocessed TCGA Cancer Datasets"
   ]
  },
  {
   "cell_type": "markdown",
   "id": "ca038a01-2691-4943-9d7e-55a41661f3cc",
   "metadata": {},
   "source": [
    "##### HNSC"
   ]
  },
  {
   "cell_type": "code",
   "execution_count": 5,
   "id": "67f55bd2-c25a-4d6c-ba5b-08957cf03852",
   "metadata": {},
   "outputs": [
    {
     "name": "stdout",
     "output_type": "stream",
     "text": [
      "\u001b[36mData dimensions: (7839, 61)\u001b[0m\n"
     ]
    },
    {
     "data": {
      "text/html": [
       "<div>\n",
       "<style scoped>\n",
       "    .dataframe tbody tr th:only-of-type {\n",
       "        vertical-align: middle;\n",
       "    }\n",
       "\n",
       "    .dataframe tbody tr th {\n",
       "        vertical-align: top;\n",
       "    }\n",
       "\n",
       "    .dataframe thead th {\n",
       "        text-align: right;\n",
       "    }\n",
       "</style>\n",
       "<table border=\"1\" class=\"dataframe\">\n",
       "  <thead>\n",
       "    <tr style=\"text-align: right;\">\n",
       "      <th></th>\n",
       "      <th>UniProt_ID</th>\n",
       "      <th>Mutation</th>\n",
       "      <th>Interactor_UniProt_ID</th>\n",
       "      <th>Template_sequence_identity</th>\n",
       "      <th>Alignment_score</th>\n",
       "      <th>Interactor_template_sequence_identity</th>\n",
       "      <th>Interactor_alignment_score</th>\n",
       "      <th>Final_ddG</th>\n",
       "      <th>ProtBert_score</th>\n",
       "      <th>ProteinSolver_score</th>\n",
       "      <th>...</th>\n",
       "      <th>number_of_residues_mut</th>\n",
       "      <th>IntraclashesEnergy1_wt</th>\n",
       "      <th>IntraclashesEnergy1_mut</th>\n",
       "      <th>IntraclashesEnergy2_wt</th>\n",
       "      <th>IntraclashesEnergy2_mut</th>\n",
       "      <th>Interface_hydrophobic_area</th>\n",
       "      <th>Interface_hydrophilic_area</th>\n",
       "      <th>Interface_total_area</th>\n",
       "      <th>Interface_contact_distance_wt</th>\n",
       "      <th>Interface_contact_distance_mut</th>\n",
       "    </tr>\n",
       "  </thead>\n",
       "  <tbody>\n",
       "    <tr>\n",
       "      <th>0</th>\n",
       "      <td>Q13485</td>\n",
       "      <td>R361H</td>\n",
       "      <td>B7Z5N5</td>\n",
       "      <td>0.8814</td>\n",
       "      <td>0.78138</td>\n",
       "      <td>0.9875</td>\n",
       "      <td>0.786567</td>\n",
       "      <td>-0.013069</td>\n",
       "      <td>0.994827</td>\n",
       "      <td>0.562232</td>\n",
       "      <td>...</td>\n",
       "      <td>428.0</td>\n",
       "      <td>55.6903</td>\n",
       "      <td>55.9901</td>\n",
       "      <td>65.8172</td>\n",
       "      <td>65.8172</td>\n",
       "      <td>479.215</td>\n",
       "      <td>224.960</td>\n",
       "      <td>704.175</td>\n",
       "      <td>5.89685</td>\n",
       "      <td>6.78918</td>\n",
       "    </tr>\n",
       "    <tr>\n",
       "      <th>1</th>\n",
       "      <td>Q13485</td>\n",
       "      <td>R361H</td>\n",
       "      <td>Q68DB7</td>\n",
       "      <td>0.8814</td>\n",
       "      <td>0.78138</td>\n",
       "      <td>0.8063</td>\n",
       "      <td>0.779266</td>\n",
       "      <td>-0.538397</td>\n",
       "      <td>0.994077</td>\n",
       "      <td>0.899046</td>\n",
       "      <td>...</td>\n",
       "      <td>438.0</td>\n",
       "      <td>67.6915</td>\n",
       "      <td>65.6937</td>\n",
       "      <td>76.8231</td>\n",
       "      <td>76.1833</td>\n",
       "      <td>468.685</td>\n",
       "      <td>330.130</td>\n",
       "      <td>798.810</td>\n",
       "      <td>2.71793</td>\n",
       "      <td>6.60775</td>\n",
       "    </tr>\n",
       "    <tr>\n",
       "      <th>2</th>\n",
       "      <td>Q13485</td>\n",
       "      <td>R361H</td>\n",
       "      <td>Q53XR6</td>\n",
       "      <td>0.8814</td>\n",
       "      <td>0.78138</td>\n",
       "      <td>1.0000</td>\n",
       "      <td>0.970443</td>\n",
       "      <td>0.302645</td>\n",
       "      <td>0.995162</td>\n",
       "      <td>0.464923</td>\n",
       "      <td>...</td>\n",
       "      <td>434.0</td>\n",
       "      <td>70.5775</td>\n",
       "      <td>70.5036</td>\n",
       "      <td>54.3675</td>\n",
       "      <td>54.3675</td>\n",
       "      <td>520.815</td>\n",
       "      <td>309.375</td>\n",
       "      <td>830.195</td>\n",
       "      <td>3.35892</td>\n",
       "      <td>5.43052</td>\n",
       "    </tr>\n",
       "  </tbody>\n",
       "</table>\n",
       "<p>3 rows × 61 columns</p>\n",
       "</div>"
      ],
      "text/plain": [
       "  UniProt_ID Mutation Interactor_UniProt_ID  Template_sequence_identity  \\\n",
       "0     Q13485    R361H                B7Z5N5                      0.8814   \n",
       "1     Q13485    R361H                Q68DB7                      0.8814   \n",
       "2     Q13485    R361H                Q53XR6                      0.8814   \n",
       "\n",
       "   Alignment_score  Interactor_template_sequence_identity  \\\n",
       "0          0.78138                                 0.9875   \n",
       "1          0.78138                                 0.8063   \n",
       "2          0.78138                                 1.0000   \n",
       "\n",
       "   Interactor_alignment_score  Final_ddG  ProtBert_score  ProteinSolver_score  \\\n",
       "0                    0.786567  -0.013069        0.994827             0.562232   \n",
       "1                    0.779266  -0.538397        0.994077             0.899046   \n",
       "2                    0.970443   0.302645        0.995162             0.464923   \n",
       "\n",
       "   ...  number_of_residues_mut  IntraclashesEnergy1_wt  \\\n",
       "0  ...                   428.0                 55.6903   \n",
       "1  ...                   438.0                 67.6915   \n",
       "2  ...                   434.0                 70.5775   \n",
       "\n",
       "   IntraclashesEnergy1_mut  IntraclashesEnergy2_wt  IntraclashesEnergy2_mut  \\\n",
       "0                  55.9901                 65.8172                  65.8172   \n",
       "1                  65.6937                 76.8231                  76.1833   \n",
       "2                  70.5036                 54.3675                  54.3675   \n",
       "\n",
       "   Interface_hydrophobic_area  Interface_hydrophilic_area  \\\n",
       "0                     479.215                     224.960   \n",
       "1                     468.685                     330.130   \n",
       "2                     520.815                     309.375   \n",
       "\n",
       "   Interface_total_area  Interface_contact_distance_wt  \\\n",
       "0               704.175                        5.89685   \n",
       "1               798.810                        2.71793   \n",
       "2               830.195                        3.35892   \n",
       "\n",
       "   Interface_contact_distance_mut  \n",
       "0                         6.78918  \n",
       "1                         6.60775  \n",
       "2                         5.43052  \n",
       "\n",
       "[3 rows x 61 columns]"
      ]
     },
     "metadata": {},
     "output_type": "display_data"
    }
   ],
   "source": [
    "display_data(predator.data_materials[\"target_hnsc_data\"])"
   ]
  },
  {
   "cell_type": "markdown",
   "id": "6cd1cc76-b56f-4789-b3b9-bf907fe7399e",
   "metadata": {
    "tags": []
   },
   "source": [
    "### Voting mode: `soft`"
   ]
  },
  {
   "cell_type": "code",
   "execution_count": 6,
   "id": "44e95ef5-2482-4d0d-93fa-305004853f7c",
   "metadata": {},
   "outputs": [
    {
     "name": "stdout",
     "output_type": "stream",
     "text": [
      "2021-11-11 20:29:15 |\u001b[36m DEBUG    \u001b[0m| helpers.helpers_predator.data_materials | Initialize `hnsc` ..\n",
      "2021-11-11 20:29:15 |\u001b[36m DEBUG    \u001b[0m| helpers.helpers_predator.data_materials | Initialize `target_hnsc_data` ..\n",
      "2021-11-11 20:29:15 |\u001b[36m DEBUG    \u001b[0m| helpers.helpers_predator.data_materials | Initializing target data materials ..\n",
      "2021-11-11 20:29:15 |\u001b[36m DEBUG    \u001b[0m| helpers.helpers_predator.data_materials | Determined features: ['Provean_score', 'EL2_score', 'Final_ddG', 'Interactor_alignment_score', 'Solvent_accessibility_wt', 'Matrix_score', 'Solvent_accessibility_mut', 'van_der_waals_mut', 'Interactor_template_sequence_identity', 'solvation_polar_wt']\n",
      "2021-11-11 20:29:15 |\u001b[36m DEBUG    \u001b[0m| helpers.helpers_predator.data_materials | Declaring Xs_hnsc data materials  ..\n"
     ]
    }
   ],
   "source": [
    "predator.initialize_target_data_materials(\n",
    "    tcga_code_path_pairs=[('hnsc', HNSC_PATH)]\n",
    ")"
   ]
  },
  {
   "cell_type": "code",
   "execution_count": 7,
   "id": "323fbd63-7e32-471f-8cee-4b0abf9d82dc",
   "metadata": {
    "scrolled": true,
    "tags": []
   },
   "outputs": [
    {
     "name": "stdout",
     "output_type": "stream",
     "text": [
      "2021-11-11 20:29:16 |\u001b[36m DEBUG    \u001b[0m| Predator | Predicting on cancer datasets ..\n",
      "2021-11-11 20:29:16 |\u001b[36m DEBUG    \u001b[0m| helpers.helpers_predator.models | Initializing EnsambledVotingClassifier.\n",
      "2021-11-11 20:29:16 |\u001b[36m DEBUG    \u001b[0m| helpers.helpers_predator.models | Voting mode: soft\n",
      "2021-11-11 20:29:16 |\u001b[36m DEBUG    \u001b[0m| helpers.helpers_predator.predictions | Initializing: PredictionsSoft\n",
      "2021-11-11 20:29:16 |\u001b[36m DEBUG    \u001b[0m| Predator | Predicting on hnsc cohort ..\n",
      "2021-11-11 20:29:16 |\u001b[36m DEBUG    \u001b[0m| helpers.helpers_predator.models | Current estimator: RandomForestClassifier(bootstrap=False, class_weight='balanced', max_depth=4,\n",
      "                       max_features='sqrt', n_estimators=600,\n",
      "                       random_state=14593)\n",
      "2021-11-11 20:29:16 |\u001b[36m DEBUG    \u001b[0m| helpers.helpers_predator.models | X shape: (7839, 10)\n",
      "2021-11-11 20:29:16 |\u001b[36m DEBUG    \u001b[0m| helpers.helpers_predator.models | Current estimator: RandomForestClassifier(bootstrap=False, max_depth=8, max_features=None,\n",
      "                       min_samples_leaf=2, n_estimators=480, random_state=3279)\n",
      "2021-11-11 20:29:16 |\u001b[36m DEBUG    \u001b[0m| helpers.helpers_predator.models | X shape: (7839, 10)\n",
      "2021-11-11 20:29:17 |\u001b[36m DEBUG    \u001b[0m| helpers.helpers_predator.models | Current estimator: RandomForestClassifier(class_weight='balanced', max_depth=11,\n",
      "                       min_samples_split=5, n_estimators=120,\n",
      "                       random_state=36049)\n",
      "2021-11-11 20:29:17 |\u001b[36m DEBUG    \u001b[0m| helpers.helpers_predator.models | X shape: (7839, 10)\n",
      "2021-11-11 20:29:17 |\u001b[36m DEBUG    \u001b[0m| helpers.helpers_predator.models | Current estimator: RandomForestClassifier(class_weight='balanced', max_depth=3,\n",
      "                       max_features='sqrt', min_samples_leaf=4, n_estimators=40,\n",
      "                       random_state=18290)\n",
      "2021-11-11 20:29:17 |\u001b[36m DEBUG    \u001b[0m| helpers.helpers_predator.models | X shape: (7839, 10)\n",
      "2021-11-11 20:29:17 |\u001b[36m DEBUG    \u001b[0m| helpers.helpers_predator.models | Current estimator: RandomForestClassifier(bootstrap=False, max_depth=11, max_features='sqrt',\n",
      "                       min_samples_split=5, n_estimators=460,\n",
      "                       random_state=96531)\n",
      "2021-11-11 20:29:17 |\u001b[36m DEBUG    \u001b[0m| helpers.helpers_predator.models | X shape: (7839, 10)\n",
      "2021-11-11 20:29:17 |\u001b[36m DEBUG    \u001b[0m| helpers.helpers_predator.models | Current estimator: RandomForestClassifier(class_weight='balanced', max_depth=12,\n",
      "                       min_samples_leaf=4, min_samples_split=5, n_estimators=80,\n",
      "                       random_state=13435)\n",
      "2021-11-11 20:29:17 |\u001b[36m DEBUG    \u001b[0m| helpers.helpers_predator.models | X shape: (7839, 10)\n",
      "2021-11-11 20:29:17 |\u001b[36m DEBUG    \u001b[0m| helpers.helpers_predator.models | Current estimator: RandomForestClassifier(class_weight='balanced', max_depth=2,\n",
      "                       min_samples_split=5, n_estimators=500,\n",
      "                       random_state=88697)\n",
      "2021-11-11 20:29:17 |\u001b[36m DEBUG    \u001b[0m| helpers.helpers_predator.models | X shape: (7839, 10)\n",
      "2021-11-11 20:29:18 |\u001b[36m DEBUG    \u001b[0m| helpers.helpers_predator.models | Current estimator: RandomForestClassifier(bootstrap=False, class_weight='balanced', max_depth=7,\n",
      "                       max_features='sqrt', min_samples_leaf=2,\n",
      "                       min_samples_split=5, n_estimators=280,\n",
      "                       random_state=97081)\n",
      "2021-11-11 20:29:18 |\u001b[36m DEBUG    \u001b[0m| helpers.helpers_predator.models | X shape: (7839, 10)\n",
      "2021-11-11 20:29:18 |\u001b[36m DEBUG    \u001b[0m| helpers.helpers_predator.models | Current estimator: RandomForestClassifier(bootstrap=False, max_depth=3, max_features='sqrt',\n",
      "                       min_samples_leaf=2, n_estimators=60, random_state=71483)\n",
      "2021-11-11 20:29:18 |\u001b[36m DEBUG    \u001b[0m| helpers.helpers_predator.models | X shape: (7839, 10)\n",
      "2021-11-11 20:29:18 |\u001b[36m DEBUG    \u001b[0m| helpers.helpers_predator.models | Current estimator: RandomForestClassifier(class_weight='balanced', max_depth=2,\n",
      "                       max_features='sqrt', min_samples_leaf=4,\n",
      "                       n_estimators=440, random_state=11396)\n",
      "2021-11-11 20:29:18 |\u001b[36m DEBUG    \u001b[0m| helpers.helpers_predator.models | X shape: (7839, 10)\n",
      "2021-11-11 20:29:18 |\u001b[36m DEBUG    \u001b[0m| helpers.helpers_predator.models | Current estimator: RandomForestClassifier(bootstrap=False, max_depth=6, min_samples_leaf=2,\n",
      "                       min_samples_split=5, n_estimators=80,\n",
      "                       random_state=77398)\n",
      "2021-11-11 20:29:18 |\u001b[36m DEBUG    \u001b[0m| helpers.helpers_predator.models | X shape: (7839, 10)\n",
      "2021-11-11 20:29:18 |\u001b[36m DEBUG    \u001b[0m| helpers.helpers_predator.models | Current estimator: RandomForestClassifier(max_depth=8, max_features='sqrt', min_samples_split=5,\n",
      "                       n_estimators=20, random_state=55303)\n",
      "2021-11-11 20:29:18 |\u001b[36m DEBUG    \u001b[0m| helpers.helpers_predator.models | X shape: (7839, 10)\n",
      "2021-11-11 20:29:18 |\u001b[36m DEBUG    \u001b[0m| helpers.helpers_predator.models | Current estimator: RandomForestClassifier(class_weight='balanced', max_depth=4,\n",
      "                       min_samples_split=5, random_state=4166)\n",
      "2021-11-11 20:29:18 |\u001b[36m DEBUG    \u001b[0m| helpers.helpers_predator.models | X shape: (7839, 10)\n",
      "2021-11-11 20:29:18 |\u001b[36m DEBUG    \u001b[0m| helpers.helpers_predator.models | Current estimator: RandomForestClassifier(bootstrap=False, max_depth=13, max_features='sqrt',\n",
      "                       min_samples_split=5, n_estimators=380,\n",
      "                       random_state=12281)\n",
      "2021-11-11 20:29:18 |\u001b[36m DEBUG    \u001b[0m| helpers.helpers_predator.models | X shape: (7839, 10)\n",
      "2021-11-11 20:29:19 |\u001b[36m DEBUG    \u001b[0m| helpers.helpers_predator.models | Current estimator: RandomForestClassifier(bootstrap=False, class_weight='balanced', max_depth=4,\n",
      "                       max_features='sqrt', n_estimators=10,\n",
      "                       random_state=28658)\n",
      "2021-11-11 20:29:19 |\u001b[36m DEBUG    \u001b[0m| helpers.helpers_predator.models | X shape: (7839, 10)\n",
      "2021-11-11 20:29:19 |\u001b[36m DEBUG    \u001b[0m| helpers.helpers_predator.models | Current estimator: RandomForestClassifier(class_weight='balanced', max_depth=3, min_samples_leaf=2,\n",
      "                       n_estimators=30, random_state=30496)\n",
      "2021-11-11 20:29:19 |\u001b[36m DEBUG    \u001b[0m| helpers.helpers_predator.models | X shape: (7839, 10)\n",
      "2021-11-11 20:29:19 |\u001b[36m DEBUG    \u001b[0m| helpers.helpers_predator.models | Current estimator: RandomForestClassifier(class_weight='balanced', max_depth=11,\n",
      "                       min_samples_leaf=4, n_estimators=120,\n",
      "                       random_state=66238)\n",
      "2021-11-11 20:29:19 |\u001b[36m DEBUG    \u001b[0m| helpers.helpers_predator.models | X shape: (7839, 10)\n",
      "2021-11-11 20:29:19 |\u001b[36m DEBUG    \u001b[0m| helpers.helpers_predator.models | Current estimator: RandomForestClassifier(class_weight='balanced', max_depth=2,\n",
      "                       max_features='sqrt', n_estimators=340,\n",
      "                       random_state=3479)\n",
      "2021-11-11 20:29:19 |\u001b[36m DEBUG    \u001b[0m| helpers.helpers_predator.models | X shape: (7839, 10)\n",
      "2021-11-11 20:29:19 |\u001b[36m DEBUG    \u001b[0m| helpers.helpers_predator.models | Current estimator: RandomForestClassifier(class_weight='balanced', max_depth=3,\n",
      "                       max_features='sqrt', min_samples_leaf=4,\n",
      "                       n_estimators=480, random_state=26063)\n",
      "2021-11-11 20:29:19 |\u001b[36m DEBUG    \u001b[0m| helpers.helpers_predator.models | X shape: (7839, 10)\n",
      "2021-11-11 20:29:19 |\u001b[36m DEBUG    \u001b[0m| helpers.helpers_predator.models | Current estimator: RandomForestClassifier(class_weight='balanced', max_depth=3, min_samples_leaf=2,\n",
      "                       n_estimators=560, random_state=85182)\n",
      "2021-11-11 20:29:19 |\u001b[36m DEBUG    \u001b[0m| helpers.helpers_predator.models | X shape: (7839, 10)\n",
      "2021-11-11 20:29:20 |\u001b[36m DEBUG    \u001b[0m| helpers.helpers_predator.models | Current estimator: RandomForestClassifier(class_weight='balanced', max_depth=13,\n",
      "                       min_samples_leaf=4, min_samples_split=5, n_estimators=40,\n",
      "                       random_state=91925)\n",
      "2021-11-11 20:29:20 |\u001b[36m DEBUG    \u001b[0m| helpers.helpers_predator.models | X shape: (7839, 10)\n",
      "2021-11-11 20:29:20 |\u001b[36m DEBUG    \u001b[0m| helpers.helpers_predator.models | Current estimator: RandomForestClassifier(class_weight='balanced', max_depth=2, min_samples_leaf=4,\n",
      "                       min_samples_split=5, n_estimators=280,\n",
      "                       random_state=54988)\n",
      "2021-11-11 20:29:20 |\u001b[36m DEBUG    \u001b[0m| helpers.helpers_predator.models | X shape: (7839, 10)\n",
      "2021-11-11 20:29:20 |\u001b[36m DEBUG    \u001b[0m| helpers.helpers_predator.models | Current estimator: RandomForestClassifier(class_weight='balanced', max_depth=11,\n",
      "                       max_features='sqrt', min_samples_leaf=2,\n",
      "                       min_samples_split=5, n_estimators=360,\n",
      "                       random_state=58879)\n",
      "2021-11-11 20:29:20 |\u001b[36m DEBUG    \u001b[0m| helpers.helpers_predator.models | X shape: (7839, 10)\n",
      "2021-11-11 20:29:20 |\u001b[36m DEBUG    \u001b[0m| helpers.helpers_predator.models | Current estimator: RandomForestClassifier(max_depth=7, n_estimators=20, random_state=77237)\n",
      "2021-11-11 20:29:20 |\u001b[36m DEBUG    \u001b[0m| helpers.helpers_predator.models | X shape: (7839, 10)\n",
      "2021-11-11 20:29:20 |\u001b[36m DEBUG    \u001b[0m| helpers.helpers_predator.models | Current estimator: RandomForestClassifier(bootstrap=False, max_depth=14, min_samples_leaf=4,\n",
      "                       min_samples_split=5, n_estimators=20, random_state=852)\n",
      "2021-11-11 20:29:20 |\u001b[36m DEBUG    \u001b[0m| helpers.helpers_predator.models | X shape: (7839, 10)\n",
      "2021-11-11 20:29:20 |\u001b[36m DEBUG    \u001b[0m| helpers.helpers_predator.models | Current estimator: RandomForestClassifier(class_weight='balanced', max_depth=8,\n",
      "                       max_features='sqrt', min_samples_leaf=4,\n",
      "                       min_samples_split=5, n_estimators=520,\n",
      "                       random_state=99459)\n",
      "2021-11-11 20:29:20 |\u001b[36m DEBUG    \u001b[0m| helpers.helpers_predator.models | X shape: (7839, 10)\n",
      "2021-11-11 20:29:20 |\u001b[36m DEBUG    \u001b[0m| helpers.helpers_predator.models | Current estimator: RandomForestClassifier(class_weight='balanced', max_depth=6, min_samples_leaf=4,\n",
      "                       min_samples_split=5, n_estimators=260,\n",
      "                       random_state=20927)\n",
      "2021-11-11 20:29:20 |\u001b[36m DEBUG    \u001b[0m| helpers.helpers_predator.models | X shape: (7839, 10)\n",
      "2021-11-11 20:29:21 |\u001b[36m DEBUG    \u001b[0m| helpers.helpers_predator.models | Current estimator: RandomForestClassifier(max_depth=9, min_samples_leaf=4, n_estimators=580,\n",
      "                       random_state=55393)\n",
      "2021-11-11 20:29:21 |\u001b[36m DEBUG    \u001b[0m| helpers.helpers_predator.models | X shape: (7839, 10)\n",
      "2021-11-11 20:29:21 |\u001b[36m DEBUG    \u001b[0m| helpers.helpers_predator.models | Current estimator: RandomForestClassifier(bootstrap=False, class_weight='balanced', max_depth=7,\n",
      "                       min_samples_split=5, n_estimators=140,\n",
      "                       random_state=36422)\n",
      "2021-11-11 20:29:21 |\u001b[36m DEBUG    \u001b[0m| helpers.helpers_predator.models | X shape: (7839, 10)\n",
      "2021-11-11 20:29:21 |\u001b[36m DEBUG    \u001b[0m| helpers.helpers_predator.models | Current estimator: RandomForestClassifier(bootstrap=False, max_depth=11, n_estimators=540,\n",
      "                       random_state=20380)\n",
      "2021-11-11 20:29:21 |\u001b[36m DEBUG    \u001b[0m| helpers.helpers_predator.models | X shape: (7839, 10)\n",
      "2021-11-11 20:29:22 |\u001b[36m DEBUG    \u001b[0m| helpers.helpers_predator.models | Current estimator: RandomForestClassifier(class_weight='balanced', max_depth=8, min_samples_leaf=2,\n",
      "                       n_estimators=5, random_state=28222)\n",
      "2021-11-11 20:29:22 |\u001b[36m DEBUG    \u001b[0m| helpers.helpers_predator.models | X shape: (7839, 10)\n",
      "2021-11-11 20:29:22 |\u001b[36m DEBUG    \u001b[0m| helpers.helpers_predator.models | Current estimator: RandomForestClassifier(class_weight='balanced', max_depth=6,\n",
      "                       min_samples_split=5, n_estimators=560,\n",
      "                       random_state=44119)\n",
      "2021-11-11 20:29:22 |\u001b[36m DEBUG    \u001b[0m| helpers.helpers_predator.models | X shape: (7839, 10)\n",
      "2021-11-11 20:29:23 |\u001b[36m DEBUG    \u001b[0m| helpers.helpers_predator.models | Current estimator: RandomForestClassifier(class_weight='balanced', max_depth=10,\n",
      "                       max_features='sqrt', min_samples_leaf=4,\n",
      "                       n_estimators=320, random_state=13397)\n",
      "2021-11-11 20:29:23 |\u001b[36m DEBUG    \u001b[0m| helpers.helpers_predator.models | X shape: (7839, 10)\n",
      "2021-11-11 20:29:23 |\u001b[36m DEBUG    \u001b[0m| helpers.helpers_predator.models | Current estimator: RandomForestClassifier(class_weight='balanced', max_depth=3,\n",
      "                       max_features='sqrt', min_samples_split=5,\n",
      "                       n_estimators=120, random_state=12157)\n",
      "2021-11-11 20:29:23 |\u001b[36m DEBUG    \u001b[0m| helpers.helpers_predator.models | X shape: (7839, 10)\n",
      "2021-11-11 20:29:23 |\u001b[36m DEBUG    \u001b[0m| helpers.helpers_predator.models | Current estimator: RandomForestClassifier(bootstrap=False, class_weight='balanced', max_depth=2,\n",
      "                       min_samples_split=5, n_estimators=360,\n",
      "                       random_state=49798)\n",
      "2021-11-11 20:29:23 |\u001b[36m DEBUG    \u001b[0m| helpers.helpers_predator.models | X shape: (7839, 10)\n",
      "2021-11-11 20:29:24 |\u001b[36m DEBUG    \u001b[0m| helpers.helpers_predator.models | Current estimator: RandomForestClassifier(bootstrap=False, class_weight='balanced', max_depth=2,\n",
      "                       min_samples_leaf=2, min_samples_split=5, n_estimators=40,\n",
      "                       random_state=12677)\n",
      "2021-11-11 20:29:24 |\u001b[36m DEBUG    \u001b[0m| helpers.helpers_predator.models | X shape: (7839, 10)\n",
      "2021-11-11 20:29:24 |\u001b[36m DEBUG    \u001b[0m| helpers.helpers_predator.models | Current estimator: RandomForestClassifier(bootstrap=False, class_weight='balanced', max_depth=5,\n",
      "                       min_samples_leaf=4, min_samples_split=5,\n",
      "                       n_estimators=120, random_state=47053)\n",
      "2021-11-11 20:29:24 |\u001b[36m DEBUG    \u001b[0m| helpers.helpers_predator.models | X shape: (7839, 10)\n",
      "2021-11-11 20:29:24 |\u001b[36m DEBUG    \u001b[0m| helpers.helpers_predator.predictions | PredictionsSoft\n",
      "2021-11-11 20:29:24 |\u001b[36m DEBUG    \u001b[0m| helpers.helpers_predator.predictions | Predicting probabilities on hnsc cohort ..\n",
      "2021-11-11 20:29:24 |\u001b[36m DEBUG    \u001b[0m| helpers.helpers_predator.predictions | Adding key `hnsc_prob` to self.predictions\n"
     ]
    }
   ],
   "source": [
    "predator.predict(voting='soft')"
   ]
  },
  {
   "cell_type": "code",
   "execution_count": 8,
   "id": "341a1a27-928b-47ae-9d45-69ec13771b81",
   "metadata": {},
   "outputs": [
    {
     "data": {
      "text/plain": [
       "dict_keys(['hnsc_prob'])"
      ]
     },
     "execution_count": 8,
     "metadata": {},
     "output_type": "execute_result"
    }
   ],
   "source": [
    "predator.predictions.keys()"
   ]
  },
  {
   "cell_type": "code",
   "execution_count": 9,
   "id": "d7054f49-ad45-408f-88b4-0e608fc81e81",
   "metadata": {},
   "outputs": [
    {
     "data": {
      "text/plain": [
       "[array([[0.64422632, 0.35577368],\n",
       "        [0.55550345, 0.44449655],\n",
       "        [0.72773138, 0.27226862],\n",
       "        ...,\n",
       "        [0.30674547, 0.69325453],\n",
       "        [0.34427805, 0.65572195],\n",
       "        [0.27213166, 0.72786834]]),\n",
       " array([[0.3375    , 0.6625    ],\n",
       "        [0.83125   , 0.16875   ],\n",
       "        [0.3375    , 0.6625    ],\n",
       "        ...,\n",
       "        [1.        , 0.        ],\n",
       "        [0.42083333, 0.57916667],\n",
       "        [0.        , 1.        ]]),\n",
       " array([[0.68094698, 0.31905302],\n",
       "        [0.55306572, 0.44693428],\n",
       "        [0.72111363, 0.27888637],\n",
       "        ...,\n",
       "        [0.24640309, 0.75359691],\n",
       "        [0.4233635 , 0.5766365 ],\n",
       "        [0.24110015, 0.75889985]])]"
      ]
     },
     "execution_count": 9,
     "metadata": {},
     "output_type": "execute_result"
    }
   ],
   "source": [
    "# Predictions for first 10 experiment.\n",
    "predator.predictions[\"hnsc_prob\"][:3]"
   ]
  },
  {
   "cell_type": "markdown",
   "id": "83e49c0d-9f61-4f48-a23d-8a21e9875041",
   "metadata": {},
   "source": [
    "#### Predictions Post Processing"
   ]
  },
  {
   "cell_type": "markdown",
   "id": "3d18567f-1748-4446-bb12-8062515f02bd",
   "metadata": {},
   "source": [
    "Post processing of predictions involves following steps:"
   ]
  },
  {
   "cell_type": "markdown",
   "id": "45aad6d0-0e73-413e-8b32-fbcb2bcc5426",
   "metadata": {},
   "source": [
    "##### 1. Merging Predictions with SNV Data"
   ]
  },
  {
   "cell_type": "markdown",
   "id": "ba9bda7c-5736-4c44-8663-ec63927976db",
   "metadata": {},
   "source": [
    "The prediction column is merged with SNV data for each experiment.\n",
    "\n",
    "$\\text{For each experiment } n: $\n",
    "\n",
    "$$\n",
    "  \\textit{(Prediction Merged Data)}_n = \\underbrace{[\\textit{Predictions}_n]}_\\text{Probs Percentages} + \n",
    "      \\underbrace{[\\textit{Protein }] [\\textit{Mutation }] [\\textit{Interactor }]}_\\text{Cancer Data Triplets} + \\underbrace{[\\textit{Features }] }_\\text{Elaspic}\n",
    "$$\n"
   ]
  },
  {
   "cell_type": "markdown",
   "id": "8b14c7d7-914f-40af-b695-b962c33ed9ee",
   "metadata": {
    "tags": []
   },
   "source": [
    "##### 2. Convert to 1-isomer: `Interactor_UniProt_ID`"
   ]
  },
  {
   "cell_type": "markdown",
   "id": "36c9284b-0d5d-4c41-b2d9-7274d9141f6a",
   "metadata": {},
   "source": [
    "$\\textit{Interactor_UniProt_ID}$ column contains isomer proteins. Here, we convert them into primary isoform representation (i.e. without dashes)."
   ]
  },
  {
   "cell_type": "markdown",
   "id": "2314ef86-e11b-43ce-a9ee-8d3d39420d3d",
   "metadata": {},
   "source": [
    "| Interactor_UniProt_ID |\n",
    "--------------\n",
    "| P38936     |\n",
    "| P16473     |\n",
    "| P16473-2   |\n",
    "| P19793     |"
   ]
  },
  {
   "cell_type": "markdown",
   "id": "ac37c712-d832-4450-8852-a9df5712c194",
   "metadata": {},
   "source": [
    "##### 3. Dropping Invalid Predictions"
   ]
  },
  {
   "cell_type": "markdown",
   "id": "43293304-9ddf-4e94-b624-8ce6c9034fe1",
   "metadata": {},
   "source": [
    "Entries whose predicted class-1 probability lies in both `Decreasing` and `Increasing+NoEff` are dropped."
   ]
  },
  {
   "cell_type": "markdown",
   "id": "0d57de49-9962-47a8-8a2d-96a42df2295a",
   "metadata": {},
   "source": [
    "Due to having different features for the same $\\textit{(protein, mutation, interactor)}$ triplet from ELASPIC, the triplet $\\textit{(protein, mutation, interactor)}$ may contain class-1 probability prediction of both lower than 0.50 and higher than 50. We drop such instances."
   ]
  },
  {
   "cell_type": "code",
   "execution_count": 10,
   "id": "ee5ffd8b-af50-481e-b90f-fc0548568727",
   "metadata": {
    "scrolled": true,
    "tags": []
   },
   "outputs": [
    {
     "name": "stdout",
     "output_type": "stream",
     "text": [
      "2021-11-11 20:29:24 |\u001b[36m DEBUG    \u001b[0m| helpers.helpers_predator.predictions | PredictionsSoft\n",
      "2021-11-11 20:29:24 |\u001b[36m DEBUG    \u001b[0m| helpers.helpers_predator.predictions | Post processing predictions for cohort hnsc ..\n",
      "2021-11-11 20:29:24 |\u001b[36m DEBUG    \u001b[0m| helpers.helpers_predator.predictions | PredictionsSoft\n",
      "2021-11-11 20:29:24 |\u001b[36m DEBUG    \u001b[0m| helpers.helpers_predator.predictions | Merging predictions with hnsc cancer dataset ..\n",
      "2021-11-11 20:29:24 |\u001b[36m DEBUG    \u001b[0m| helpers.helpers_predator.predictions | Handling valid and invalid entries ..\n"
     ]
    },
    {
     "data": {
      "application/vnd.jupyter.widget-view+json": {
       "model_id": "74d50b5e686841229371ac4a634ba802",
       "version_major": 2,
       "version_minor": 0
      },
      "text/plain": [
       "  0%|          | 0/37 [00:00<?, ?it/s]"
      ]
     },
     "metadata": {},
     "output_type": "display_data"
    },
    {
     "name": "stdout",
     "output_type": "stream",
     "text": [
      "2021-11-11 20:30:00 |\u001b[36m DEBUG    \u001b[0m| helpers.helpers_predator.predictions_utils | Removed entries first five rows (of 1031): \n",
      "   PREDICTION PROTEIN MUTATION INTERACTOR\n",
      "0    0.532763  Q04759    K400M     P27361\n",
      "1    0.258147  Q04759    K400M     P27361\n",
      "2    0.556235  Q9Y2U5    R507W     Q99759\n",
      "3    0.473267  Q9Y2U5    R507W     O14733\n",
      "4    0.507875  Q9Y2U5    R507W     O14733\n",
      "2021-11-11 20:30:34 |\u001b[36m DEBUG    \u001b[0m| helpers.helpers_predator.predictions_utils | Removed entries first five rows (of 1157): \n",
      "   PREDICTION PROTEIN MUTATION INTERACTOR\n",
      "0     0.74375  Q15700    H163Y     P29475\n",
      "1     0.00000  Q15700    H163Y     P29475\n",
      "2     0.00000  Q15700    H163Y     P29475\n",
      "3     0.74375  Q15700    H163Y     P29475\n",
      "4     0.00000  O75175    I674M     Q9NZN8\n",
      "2021-11-11 20:31:06 |\u001b[36m DEBUG    \u001b[0m| helpers.helpers_predator.predictions_utils | Removed entries first five rows (of 1054): \n",
      "   PREDICTION PROTEIN MUTATION INTERACTOR\n",
      "0    0.654707  Q04759    K400M     P27361\n",
      "1    0.249186  Q04759    K400M     P27361\n",
      "2    0.556079  Q16576    D231V     Q09028\n",
      "3    0.444646  Q16576    D231V     Q09028\n",
      "4    0.516057  Q16576    D231V     Q09028\n",
      "2021-11-11 20:31:43 |\u001b[36m DEBUG    \u001b[0m| helpers.helpers_predator.predictions_utils | Removed entries first five rows (of 883): \n",
      "   PREDICTION PROTEIN MUTATION INTERACTOR\n",
      "0    0.493599  O75175    I674M     Q9NZN8\n",
      "1    0.542613  O75175    I674M     Q9NZN8\n",
      "2    0.498351  O75175    I674M     Q9NZN8\n",
      "3    0.558952  O75175    I674M     Q9NZN8\n",
      "4    0.542613  O75175    I674M     Q9NZN8\n",
      "2021-11-11 20:32:15 |\u001b[36m DEBUG    \u001b[0m| helpers.helpers_predator.predictions_utils | Removed entries first five rows (of 1230): \n",
      "   PREDICTION PROTEIN MUTATION INTERACTOR\n",
      "0    0.574275  O75175    I674M     Q9NZN8\n",
      "1    0.499275  O75175    I674M     Q9NZN8\n",
      "2    0.520109  O75175    I674M     Q9NZN8\n",
      "3    0.551449  O75175    I674M     Q9NZN8\n",
      "4    0.499275  O75175    I674M     Q9NZN8\n",
      "2021-11-11 20:32:43 |\u001b[36m DEBUG    \u001b[0m| helpers.helpers_predator.predictions_utils | Removed entries first five rows (of 853): \n",
      "   PREDICTION PROTEIN MUTATION INTERACTOR\n",
      "0    0.472852  Q9Y2U5    R507W     Q13163\n",
      "1    0.420348  Q9Y2U5    R507W     Q13163\n",
      "2    0.571328  Q9Y2U5    R507W     O14733\n",
      "3    0.363543  Q9Y2U5    R507W     O14733\n",
      "4    0.526667  Q9Y2U5    R507W     O14733\n",
      "2021-11-11 20:33:21 |\u001b[36m DEBUG    \u001b[0m| helpers.helpers_predator.predictions_utils | Removed entries first five rows (of 930): \n",
      "   PREDICTION PROTEIN MUTATION INTERACTOR\n",
      "0    0.412182  Q9Y2U5    R507W     Q13163\n",
      "1    0.396428  Q9Y2U5    R507W     Q13163\n",
      "2    0.523770  Q9Y2U5    R507W     O14733\n",
      "3    0.424994  Q9Y2U5    R507W     O14733\n",
      "4    0.493894  Q9Y2U5    R507W     O14733\n",
      "2021-11-11 20:33:57 |\u001b[36m DEBUG    \u001b[0m| helpers.helpers_predator.predictions_utils | Removed entries first five rows (of 1277): \n",
      "   PREDICTION PROTEIN MUTATION INTERACTOR\n",
      "0    0.524301  O75175    I674M     Q9NZN8\n",
      "1    0.407515  O75175    I674M     Q9NZN8\n",
      "2    0.397783  O75175    I674M     Q9NZN8\n",
      "3    0.396093  O75175    I674M     Q9NZN8\n",
      "4    0.407515  O75175    I674M     Q9NZN8\n",
      "2021-11-11 20:34:33 |\u001b[36m DEBUG    \u001b[0m| helpers.helpers_predator.predictions_utils | Removed entries first five rows (of 837): \n",
      "   PREDICTION PROTEIN MUTATION INTERACTOR\n",
      "0    0.382421  Q16288    A636V     P27361\n",
      "1    0.610731  Q16288    A636V     P27361\n",
      "2    0.461842  O75175    I674M     Q9NZN8\n",
      "3    0.415485  O75175    I674M     Q9NZN8\n",
      "4    0.415485  O75175    I674M     Q9NZN8\n",
      "2021-11-11 20:35:08 |\u001b[36m DEBUG    \u001b[0m| helpers.helpers_predator.predictions_utils | Removed entries first five rows (of 1060): \n",
      "   PREDICTION PROTEIN MUTATION INTERACTOR\n",
      "0    0.486064  O75175    I674M     Q9NZN8\n",
      "1    0.498447  O75175    I674M     Q9NZN8\n",
      "2    0.475688  O75175    I674M     Q9NZN8\n",
      "3    0.527833  O75175    I674M     Q9NZN8\n",
      "4    0.498447  O75175    I674M     Q9NZN8\n",
      "2021-11-11 20:35:41 |\u001b[36m DEBUG    \u001b[0m| helpers.helpers_predator.predictions_utils | Removed entries first five rows (of 1028): \n",
      "   PREDICTION PROTEIN MUTATION INTERACTOR\n",
      "0    0.631656  P00492     R48H     Q9NRG1\n",
      "1    0.474260  P00492     R48H     Q9NRG1\n",
      "2    0.534808  Q9Y2U5    R507W     Q99759\n",
      "3    0.157800  Q9Y2U5    R507W     Q99759\n",
      "4    0.701588  Q08828    L409Q     Q08462\n",
      "2021-11-11 20:36:17 |\u001b[36m DEBUG    \u001b[0m| helpers.helpers_predator.predictions_utils | Removed entries first five rows (of 1044): \n",
      "   PREDICTION PROTEIN MUTATION INTERACTOR\n",
      "0    0.454167  P00492     R48H     Q9NRG1\n",
      "1    0.503472  P00492     R48H     Q9NRG1\n",
      "2    0.391667  O75175    I674M     Q9NZN8\n",
      "3    0.283929  O75175    I674M     Q9NZN8\n",
      "4    0.283929  O75175    I674M     Q9NZN8\n",
      "2021-11-11 20:36:51 |\u001b[36m DEBUG    \u001b[0m| helpers.helpers_predator.predictions_utils | Removed entries first five rows (of 810): \n",
      "   PREDICTION PROTEIN MUTATION INTERACTOR\n",
      "0    0.572140  Q04759    K400M     P27361\n",
      "1    0.272269  Q04759    K400M     P27361\n",
      "2    0.404190  Q9Y2U5    R507W     O14733\n",
      "3    0.511488  Q9Y2U5    R507W     O14733\n",
      "4    0.383992  Q9Y2U5    R507W     O14733\n",
      "2021-11-11 20:37:17 |\u001b[36m DEBUG    \u001b[0m| helpers.helpers_predator.predictions_utils | Removed entries first five rows (of 884): \n",
      "   PREDICTION PROTEIN MUTATION INTERACTOR\n",
      "0    0.249342  Q9Y2U5    R507W     O14733\n",
      "1    0.658772  Q9Y2U5    R507W     O14733\n",
      "2    0.254218  Q9Y2U5    R507W     O14733\n",
      "3    0.497368  Q14160   L1007V     Q9UDY2\n",
      "4    0.497368  Q14160   L1007V     Q9UDY2\n",
      "2021-11-11 20:37:47 |\u001b[36m DEBUG    \u001b[0m| helpers.helpers_predator.predictions_utils | Removed entries first five rows (of 1237): \n",
      "   PREDICTION PROTEIN MUTATION INTERACTOR\n",
      "0    0.506009  O75175    I674M     Q9NZN8\n",
      "1    0.461263  O75175    I674M     Q9NZN8\n",
      "2    0.404491  O75175    I674M     Q9NZN8\n",
      "3    0.477253  O75175    I674M     Q9NZN8\n",
      "4    0.461263  O75175    I674M     Q9NZN8\n",
      "2021-11-11 20:38:20 |\u001b[36m DEBUG    \u001b[0m| helpers.helpers_predator.predictions_utils | Removed entries first five rows (of 738): \n",
      "   PREDICTION PROTEIN MUTATION INTERACTOR\n",
      "0    0.530740  Q9Y2U5    R507W     Q99759\n",
      "1    0.541093  Q9Y2U5    R507W     O14733\n",
      "2    0.436875  Q9Y2U5    R507W     O14733\n",
      "3    0.506656  Q9Y2U5    R507W     O14733\n",
      "4    0.431646  Q9Y2U5    R507W     Q99759\n",
      "2021-11-11 20:39:01 |\u001b[36m DEBUG    \u001b[0m| helpers.helpers_predator.predictions_utils | Removed entries first five rows (of 972): \n",
      "   PREDICTION PROTEIN MUTATION INTERACTOR\n",
      "0    0.559873  Q04759    K400M     P27361\n",
      "1    0.324708  Q04759    K400M     P27361\n",
      "2    0.494953  P15498    R728Q     P06239\n",
      "3    0.543823  P15498    R728Q     P06239\n",
      "4    0.497512  P15498    R728Q     P06239\n",
      "2021-11-11 20:39:32 |\u001b[36m DEBUG    \u001b[0m| helpers.helpers_predator.predictions_utils | Removed entries first five rows (of 880): \n",
      "   PREDICTION PROTEIN MUTATION INTERACTOR\n",
      "0    0.519509  Q04759    K400M     P27361\n",
      "1    0.368360  Q04759    K400M     P27361\n",
      "2    0.479386  P15498    R728Q     P06239\n",
      "3    0.504641  P15498    R728Q     P06239\n",
      "4    0.529707  P15498    R728Q     P06239\n",
      "2021-11-11 20:39:58 |\u001b[36m DEBUG    \u001b[0m| helpers.helpers_predator.predictions_utils | Removed entries first five rows (of 827): \n",
      "   PREDICTION PROTEIN MUTATION INTERACTOR\n",
      "0    0.564546  Q16576    D231V     Q09028\n",
      "1    0.466574  Q16576    D231V     Q09028\n",
      "2    0.477279  Q16576    D231V     Q09028\n",
      "3    0.585039  P28074    K150R     P28062\n",
      "4    0.496084  P28074    K150R     P28062\n",
      "2021-11-11 20:40:36 |\u001b[36m DEBUG    \u001b[0m| helpers.helpers_predator.predictions_utils | Removed entries first five rows (of 1131): \n",
      "   PREDICTION PROTEIN MUTATION INTERACTOR\n",
      "0    0.645380  Q16576    D231V     Q09028\n",
      "1    0.511400  Q16576    D231V     Q09028\n",
      "2    0.475295  Q16576    D231V     Q09028\n",
      "3    0.624995  P28074    K150R     P28062\n",
      "4    0.380611  P28074    K150R     P28062\n",
      "2021-11-11 20:41:07 |\u001b[36m DEBUG    \u001b[0m| helpers.helpers_predator.predictions_utils | Removed entries first five rows (of 898): \n",
      "   PREDICTION PROTEIN MUTATION INTERACTOR\n",
      "0    0.646717  Q04759    K400M     P27361\n",
      "1    0.227316  Q04759    K400M     P27361\n",
      "2    0.432903  P15498    R728Q     P06239\n",
      "3    0.455862  P15498    R728Q     P06239\n",
      "4    0.533050  P15498    R728Q     P06239\n",
      "2021-11-11 20:41:39 |\u001b[36m DEBUG    \u001b[0m| helpers.helpers_predator.predictions_utils | Removed entries first five rows (of 733): \n",
      "   PREDICTION PROTEIN MUTATION INTERACTOR\n",
      "0    0.514391  Q04759    K400M     P27361\n",
      "1    0.391873  Q04759    K400M     P27361\n",
      "2    0.511626  Q9Y2U5    R507W     O14733\n",
      "3    0.400745  Q9Y2U5    R507W     O14733\n",
      "4    0.490853  Q9Y2U5    R507W     O14733\n",
      "2021-11-11 20:42:15 |\u001b[36m DEBUG    \u001b[0m| helpers.helpers_predator.predictions_utils | Removed entries first five rows (of 977): \n",
      "   PREDICTION PROTEIN MUTATION INTERACTOR\n",
      "0    0.504332  Q16576    D231V     Q09028\n",
      "1    0.421314  Q16576    D231V     Q09028\n",
      "2    0.501652  Q16576    D231V     Q09028\n",
      "3    0.527262  Q08828    L409Q     Q08462\n",
      "4    0.405475  Q08828    L409Q     Q08462\n",
      "2021-11-11 20:42:45 |\u001b[36m DEBUG    \u001b[0m| helpers.helpers_predator.predictions_utils | Removed entries first five rows (of 1181): \n",
      "   PREDICTION PROTEIN MUTATION INTERACTOR\n",
      "0    0.515625  O75175    I674M     Q9NZN8\n",
      "1    0.465625  O75175    I674M     Q9NZN8\n",
      "2    0.465625  O75175    I674M     Q9NZN8\n",
      "3    0.637500  O75175    I674M     Q9NZN8\n",
      "4    0.465625  O75175    I674M     Q9NZN8\n",
      "2021-11-11 20:43:17 |\u001b[36m DEBUG    \u001b[0m| helpers.helpers_predator.predictions_utils | Removed entries first five rows (of 982): \n",
      "   PREDICTION PROTEIN MUTATION INTERACTOR\n",
      "0    0.310833  Q16288    A636V     P27361\n",
      "1    0.916667  Q16288    A636V     P27361\n",
      "2    0.391310  O75175    I674M     Q9NZN8\n",
      "3    0.439881  O75175    I674M     Q9NZN8\n",
      "4    0.366310  O75175    I674M     Q9NZN8\n",
      "2021-11-11 20:43:49 |\u001b[36m DEBUG    \u001b[0m| helpers.helpers_predator.predictions_utils | Removed entries first five rows (of 1005): \n",
      "   PREDICTION PROTEIN MUTATION INTERACTOR\n",
      "0    0.473558  P15498    R728Q     P06239\n",
      "1    0.521470  P15498    R728Q     P06239\n",
      "2    0.527206  P15498    R728Q     P06239\n",
      "3    0.561921  Q16576    D231V     Q09028\n",
      "4    0.443243  Q16576    D231V     Q09028\n",
      "2021-11-11 20:44:23 |\u001b[36m DEBUG    \u001b[0m| helpers.helpers_predator.predictions_utils | Removed entries first five rows (of 884): \n",
      "   PREDICTION PROTEIN MUTATION INTERACTOR\n",
      "0    0.474331  O75175    I674M     Q9NZN8\n",
      "1    0.436837  O75175    I674M     Q9NZN8\n",
      "2    0.426407  O75175    I674M     Q9NZN8\n",
      "3    0.530915  O75175    I674M     Q9NZN8\n",
      "4    0.436837  O75175    I674M     Q9NZN8\n",
      "2021-11-11 20:44:58 |\u001b[36m DEBUG    \u001b[0m| helpers.helpers_predator.predictions_utils | Removed entries first five rows (of 780): \n",
      "   PREDICTION PROTEIN MUTATION INTERACTOR\n",
      "0    0.653556  Q16576    D231V     Q09028\n",
      "1    0.456672  Q16576    D231V     Q09028\n",
      "2    0.431928  Q16576    D231V     Q09028\n",
      "3    0.493828  Q14160   L1007V     Q9UDY2\n",
      "4    0.493828  Q14160   L1007V     Q9UDY2\n",
      "2021-11-11 20:45:35 |\u001b[36m DEBUG    \u001b[0m| helpers.helpers_predator.predictions_utils | Removed entries first five rows (of 885): \n",
      "   PREDICTION PROTEIN MUTATION INTERACTOR\n",
      "0    0.564586  P15498    R728Q     P06239\n",
      "1    0.450736  P15498    R728Q     P06239\n",
      "2    0.587793  P15498    R728Q     P06239\n",
      "3    0.722493  Q08828    L409Q     Q08462\n",
      "4    0.431544  Q08828    L409Q     Q08462\n",
      "2021-11-11 20:46:09 |\u001b[36m DEBUG    \u001b[0m| helpers.helpers_predator.predictions_utils | Removed entries first five rows (of 958): \n",
      "   PREDICTION PROTEIN MUTATION INTERACTOR\n",
      "0    0.511905  O75175    I674M     Q9NZN8\n",
      "1    0.474074  O75175    I674M     Q9NZN8\n",
      "2    0.440741  O75175    I674M     Q9NZN8\n",
      "3    0.531952  O75175    I674M     Q9NZN8\n",
      "4    0.474074  O75175    I674M     Q9NZN8\n",
      "2021-11-11 20:46:45 |\u001b[36m DEBUG    \u001b[0m| helpers.helpers_predator.predictions_utils | Removed entries first five rows (of 1313): \n",
      "   PREDICTION PROTEIN MUTATION INTERACTOR\n",
      "0    0.539921  P25103    T124M     P25101\n",
      "1    0.373617  P25103    T124M     P25101\n",
      "2    0.324390  Q8N4C7    E242K     P61764\n",
      "3    0.724390  Q8N4C7    E242K     P61764\n",
      "4    0.705993  Q9Y2U5    R507W     Q13163\n",
      "2021-11-11 20:47:13 |\u001b[36m DEBUG    \u001b[0m| helpers.helpers_predator.predictions_utils | Removed entries first five rows (of 852): \n",
      "   PREDICTION PROTEIN MUTATION INTERACTOR\n",
      "0    0.591083  Q04759    K400M     P27361\n",
      "1    0.309477  Q04759    K400M     P27361\n",
      "2    0.600503  Q16576    D231V     Q09028\n",
      "3    0.429094  Q16576    D231V     Q09028\n",
      "4    0.555439  Q16576    D231V     Q09028\n",
      "2021-11-11 20:47:40 |\u001b[36m DEBUG    \u001b[0m| helpers.helpers_predator.predictions_utils | Removed entries first five rows (of 973): \n",
      "   PREDICTION PROTEIN MUTATION INTERACTOR\n",
      "0    0.462811  O75175    I674M     Q9NZN8\n",
      "1    0.470896  O75175    I674M     Q9NZN8\n",
      "2    0.440552  O75175    I674M     Q9NZN8\n",
      "3    0.510319  O75175    I674M     Q9NZN8\n",
      "4    0.470896  O75175    I674M     Q9NZN8\n",
      "2021-11-11 20:48:19 |\u001b[36m DEBUG    \u001b[0m| helpers.helpers_predator.predictions_utils | Removed entries first five rows (of 895): \n",
      "   PREDICTION PROTEIN MUTATION INTERACTOR\n",
      "0    0.553383  Q16576    D231V     Q09028\n",
      "1    0.387165  Q16576    D231V     Q09028\n",
      "2    0.479299  Q16576    D231V     Q09028\n",
      "3    0.664409  Q14160   L1007V     Q9UDY2\n",
      "4    0.664409  Q14160   L1007V     Q9UDY2\n",
      "2021-11-11 20:49:01 |\u001b[36m DEBUG    \u001b[0m| helpers.helpers_predator.predictions_utils | Removed entries first five rows (of 485): \n",
      "   PREDICTION PROTEIN MUTATION INTERACTOR\n",
      "0    0.465364  Q9Y6W5    S434C     Q96F07\n",
      "1    0.503243  Q9Y6W5    S434C     Q96F07\n",
      "2    0.343136  P22607    S249C     P09038\n",
      "3    0.343136  P22607    S249C     P09038\n",
      "4    0.343136  P22607    S249C     P09038\n",
      "2021-11-11 20:49:45 |\u001b[36m DEBUG    \u001b[0m| helpers.helpers_predator.predictions_utils | Removed entries first five rows (of 1004): \n",
      "   PREDICTION PROTEIN MUTATION INTERACTOR\n",
      "0    0.564495  Q04759    K400M     P27361\n",
      "1    0.465887  Q04759    K400M     P27361\n",
      "2    0.596268  Q16576    D231V     Q09028\n",
      "3    0.496033  Q16576    D231V     Q09028\n",
      "4    0.483582  Q16576    D231V     Q09028\n",
      "2021-11-11 20:50:26 |\u001b[36m DEBUG    \u001b[0m| helpers.helpers_predator.predictions_utils | Removed entries first five rows (of 1051): \n",
      "   PREDICTION PROTEIN MUTATION INTERACTOR\n",
      "0    0.525497  Q9Y2U5    R507W     Q13163\n",
      "1    0.230785  Q9Y2U5    R507W     Q13163\n",
      "2    0.452397  Q9Y2U5    R507W     Q13163\n",
      "3    0.675634  Q16576    D231V     Q09028\n",
      "4    0.381341  Q16576    D231V     Q09028\n",
      "2021-11-11 20:50:26 |\u001b[36m DEBUG    \u001b[0m| helpers.helpers_predator.predictions | Preparing finalized prediction datasets for hnsc ..\n",
      "2021-11-11 20:50:26 |\u001b[36m DEBUG    \u001b[0m| helpers.helpers_predator.predictions | Post processing completed for hnsc.\n"
     ]
    }
   ],
   "source": [
    "predator.predictions_post_process()"
   ]
  },
  {
   "cell_type": "code",
   "execution_count": 11,
   "id": "90683791-df42-47a8-ae9d-6c6ba08bcafd",
   "metadata": {},
   "outputs": [
    {
     "data": {
      "text/plain": [
       "dict_keys(['hnsc_prob', 'hnsc_predicted_probs_datasets', 'hnsc_predicted_valid_datasets', 'hnsc_predicted_invalid_datasets', 'hnsc_finalized_prediction_dataframes'])"
      ]
     },
     "execution_count": 11,
     "metadata": {},
     "output_type": "execute_result"
    }
   ],
   "source": [
    "predator.predictions.keys()"
   ]
  },
  {
   "cell_type": "code",
   "execution_count": 12,
   "id": "fcf61287-2498-4b53-ac75-1f6baceed2a3",
   "metadata": {},
   "outputs": [
    {
     "name": "stdout",
     "output_type": "stream",
     "text": [
      "\u001b[36mData dimensions: (7839, 104)\u001b[0m\n"
     ]
    },
    {
     "data": {
      "text/html": [
       "<div>\n",
       "<style scoped>\n",
       "    .dataframe tbody tr th:only-of-type {\n",
       "        vertical-align: middle;\n",
       "    }\n",
       "\n",
       "    .dataframe tbody tr th {\n",
       "        vertical-align: top;\n",
       "    }\n",
       "\n",
       "    .dataframe thead th {\n",
       "        text-align: right;\n",
       "    }\n",
       "</style>\n",
       "<table border=\"1\" class=\"dataframe\">\n",
       "  <thead>\n",
       "    <tr style=\"text-align: right;\">\n",
       "      <th></th>\n",
       "      <th>Prediction</th>\n",
       "      <th>Input_identifier</th>\n",
       "      <th>UniProt_ID</th>\n",
       "      <th>Mutation</th>\n",
       "      <th>Status</th>\n",
       "      <th>Type</th>\n",
       "      <th>COSMIC_mut_ID</th>\n",
       "      <th>ClinVar_mut_ID</th>\n",
       "      <th>UniProt_mut_ID</th>\n",
       "      <th>Domain_name</th>\n",
       "      <th>...</th>\n",
       "      <th>number_of_residues_mut</th>\n",
       "      <th>IntraclashesEnergy1_wt</th>\n",
       "      <th>IntraclashesEnergy1_mut</th>\n",
       "      <th>IntraclashesEnergy2_wt</th>\n",
       "      <th>IntraclashesEnergy2_mut</th>\n",
       "      <th>Interface_hydrophobic_area</th>\n",
       "      <th>Interface_hydrophilic_area</th>\n",
       "      <th>Interface_total_area</th>\n",
       "      <th>Interface_contact_distance_wt</th>\n",
       "      <th>Interface_contact_distance_mut</th>\n",
       "    </tr>\n",
       "  </thead>\n",
       "  <tbody>\n",
       "    <tr>\n",
       "      <th>0</th>\n",
       "      <td>0.355774</td>\n",
       "      <td>Q13485</td>\n",
       "      <td>Q13485</td>\n",
       "      <td>R361H</td>\n",
       "      <td>done</td>\n",
       "      <td>interface</td>\n",
       "      <td>COSM14122</td>\n",
       "      <td>-</td>\n",
       "      <td>VAR_036477</td>\n",
       "      <td>MH2</td>\n",
       "      <td>...</td>\n",
       "      <td>428.0</td>\n",
       "      <td>55.6903</td>\n",
       "      <td>55.9901</td>\n",
       "      <td>65.8172</td>\n",
       "      <td>65.8172</td>\n",
       "      <td>479.215</td>\n",
       "      <td>224.96</td>\n",
       "      <td>704.175</td>\n",
       "      <td>5.89685</td>\n",
       "      <td>6.78918</td>\n",
       "    </tr>\n",
       "    <tr>\n",
       "      <th>1</th>\n",
       "      <td>0.444497</td>\n",
       "      <td>Q13485</td>\n",
       "      <td>Q13485</td>\n",
       "      <td>R361H</td>\n",
       "      <td>done</td>\n",
       "      <td>interface</td>\n",
       "      <td>COSM14122</td>\n",
       "      <td>-</td>\n",
       "      <td>VAR_036477</td>\n",
       "      <td>MH2</td>\n",
       "      <td>...</td>\n",
       "      <td>438.0</td>\n",
       "      <td>67.6915</td>\n",
       "      <td>65.6937</td>\n",
       "      <td>76.8231</td>\n",
       "      <td>76.1833</td>\n",
       "      <td>468.685</td>\n",
       "      <td>330.13</td>\n",
       "      <td>798.81</td>\n",
       "      <td>2.71793</td>\n",
       "      <td>6.60775</td>\n",
       "    </tr>\n",
       "    <tr>\n",
       "      <th>2</th>\n",
       "      <td>0.272269</td>\n",
       "      <td>Q13485</td>\n",
       "      <td>Q13485</td>\n",
       "      <td>R361H</td>\n",
       "      <td>done</td>\n",
       "      <td>interface</td>\n",
       "      <td>COSM14122</td>\n",
       "      <td>-</td>\n",
       "      <td>VAR_036477</td>\n",
       "      <td>MH2</td>\n",
       "      <td>...</td>\n",
       "      <td>434.0</td>\n",
       "      <td>70.5775</td>\n",
       "      <td>70.5036</td>\n",
       "      <td>54.3675</td>\n",
       "      <td>54.3675</td>\n",
       "      <td>520.815</td>\n",
       "      <td>309.375</td>\n",
       "      <td>830.195</td>\n",
       "      <td>3.35892</td>\n",
       "      <td>5.43052</td>\n",
       "    </tr>\n",
       "  </tbody>\n",
       "</table>\n",
       "<p>3 rows × 104 columns</p>\n",
       "</div>"
      ],
      "text/plain": [
       "   Prediction Input_identifier UniProt_ID Mutation Status       Type  \\\n",
       "0    0.355774           Q13485     Q13485    R361H   done  interface   \n",
       "1    0.444497           Q13485     Q13485    R361H   done  interface   \n",
       "2    0.272269           Q13485     Q13485    R361H   done  interface   \n",
       "\n",
       "  COSMIC_mut_ID ClinVar_mut_ID UniProt_mut_ID Domain_name  ...  \\\n",
       "0     COSM14122              -     VAR_036477         MH2  ...   \n",
       "1     COSM14122              -     VAR_036477         MH2  ...   \n",
       "2     COSM14122              -     VAR_036477         MH2  ...   \n",
       "\n",
       "  number_of_residues_mut IntraclashesEnergy1_wt IntraclashesEnergy1_mut  \\\n",
       "0                  428.0                55.6903                 55.9901   \n",
       "1                  438.0                67.6915                 65.6937   \n",
       "2                  434.0                70.5775                 70.5036   \n",
       "\n",
       "   IntraclashesEnergy2_wt  IntraclashesEnergy2_mut Interface_hydrophobic_area  \\\n",
       "0                 65.8172                  65.8172                    479.215   \n",
       "1                 76.8231                  76.1833                    468.685   \n",
       "2                 54.3675                  54.3675                    520.815   \n",
       "\n",
       "  Interface_hydrophilic_area Interface_total_area  \\\n",
       "0                     224.96              704.175   \n",
       "1                     330.13               798.81   \n",
       "2                    309.375              830.195   \n",
       "\n",
       "  Interface_contact_distance_wt Interface_contact_distance_mut  \n",
       "0                       5.89685                        6.78918  \n",
       "1                       2.71793                        6.60775  \n",
       "2                       3.35892                        5.43052  \n",
       "\n",
       "[3 rows x 104 columns]"
      ]
     },
     "metadata": {},
     "output_type": "display_data"
    }
   ],
   "source": [
    "display_data(predator.predictions[\"hnsc_predicted_probs_datasets\"][0])"
   ]
  },
  {
   "cell_type": "code",
   "execution_count": 13,
   "id": "a603e902-b663-49e2-92c5-e6167cc06699",
   "metadata": {},
   "outputs": [
    {
     "data": {
      "image/png": "[encoded data removed]",
      "text/plain": [
       "<Figure size 1080x360 with 1 Axes>"
      ]
     },
     "metadata": {
      "needs_background": "light"
     },
     "output_type": "display_data"
    }
   ],
   "source": [
    "predator.predictions.plot_distribution_valid_vs_invalid(\"hnsc\")"
   ]
  },
  {
   "cell_type": "code",
   "execution_count": 14,
   "id": "77147287-c7ce-4771-b0ed-e45479644ccb",
   "metadata": {},
   "outputs": [
    {
     "name": "stdout",
     "output_type": "stream",
     "text": [
      "2021-11-11 20:50:28 |\u001b[36m DEBUG    \u001b[0m| helpers.helpers_predator.predictions | Plotting number of finalized predictions per model.\n",
      "Note that following plot shows the number of (protein, mutation, interactor) triplets which had valid prediction.\n"
     ]
    },
    {
     "data": {
      "image/png": "[encoded data removed]",
      "text/plain": [
       "<Figure size 1080x360 with 1 Axes>"
      ]
     },
     "metadata": {
      "needs_background": "light"
     },
     "output_type": "display_data"
    }
   ],
   "source": [
    "predator.predictions.plot_num_finalized_predictions(\"hnsc\")"
   ]
  },
  {
   "cell_type": "code",
   "execution_count": 15,
   "id": "a0762893-11a8-43c7-8b93-1b214a1a85e4",
   "metadata": {},
   "outputs": [
    {
     "name": "stdout",
     "output_type": "stream",
     "text": [
      "\u001b[36mData dimensions: (5358, 4)\u001b[0m\n"
     ]
    },
    {
     "data": {
      "text/html": [
       "<div>\n",
       "<style scoped>\n",
       "    .dataframe tbody tr th:only-of-type {\n",
       "        vertical-align: middle;\n",
       "    }\n",
       "\n",
       "    .dataframe tbody tr th {\n",
       "        vertical-align: top;\n",
       "    }\n",
       "\n",
       "    .dataframe thead th {\n",
       "        text-align: right;\n",
       "    }\n",
       "</style>\n",
       "<table border=\"1\" class=\"dataframe\">\n",
       "  <thead>\n",
       "    <tr style=\"text-align: right;\">\n",
       "      <th></th>\n",
       "      <th>Prediction</th>\n",
       "      <th>UniProt_ID</th>\n",
       "      <th>Mutation</th>\n",
       "      <th>Interactor_UniProt_ID</th>\n",
       "    </tr>\n",
       "  </thead>\n",
       "  <tbody>\n",
       "    <tr>\n",
       "      <th>0</th>\n",
       "      <td>0.355774</td>\n",
       "      <td>Q13485</td>\n",
       "      <td>R361H</td>\n",
       "      <td>B7Z5N5</td>\n",
       "    </tr>\n",
       "    <tr>\n",
       "      <th>1</th>\n",
       "      <td>0.444497</td>\n",
       "      <td>Q13485</td>\n",
       "      <td>R361H</td>\n",
       "      <td>Q68DB7</td>\n",
       "    </tr>\n",
       "    <tr>\n",
       "      <th>2</th>\n",
       "      <td>0.272269</td>\n",
       "      <td>Q13485</td>\n",
       "      <td>R361H</td>\n",
       "      <td>Q53XR6</td>\n",
       "    </tr>\n",
       "  </tbody>\n",
       "</table>\n",
       "</div>"
      ],
      "text/plain": [
       "   Prediction UniProt_ID Mutation Interactor_UniProt_ID\n",
       "0    0.355774     Q13485    R361H                B7Z5N5\n",
       "1    0.444497     Q13485    R361H                Q68DB7\n",
       "2    0.272269     Q13485    R361H                Q53XR6"
      ]
     },
     "metadata": {},
     "output_type": "display_data"
    }
   ],
   "source": [
    "display_data(predator.predictions['hnsc_finalized_prediction_dataframes'][0])"
   ]
  },
  {
   "cell_type": "code",
   "execution_count": 16,
   "id": "7fab8dc7-62ea-4cba-bdfa-0a8187a53a27",
   "metadata": {
    "scrolled": true,
    "tags": []
   },
   "outputs": [
    {
     "name": "stdout",
     "output_type": "stream",
     "text": [
      "2021-11-11 20:50:30 |\u001b[32m INFO     \u001b[0m| helpers.helpers_predator.predictions | PredictionsSoft\n",
      "2021-11-11 20:50:30 |\u001b[32m INFO     \u001b[0m| helpers.helpers_predator.predictions | Preparing ensemble prediction data for hnsc taking median ..\n"
     ]
    },
    {
     "data": {
      "application/vnd.jupyter.widget-view+json": {
       "model_id": "117da03f607d4950bbcf6a5e5e4296b0",
       "version_major": 2,
       "version_minor": 0
      },
      "text/plain": [
       "  0%|          | 0/37 [00:00<?, ?it/s]"
      ]
     },
     "metadata": {},
     "output_type": "display_data"
    },
    {
     "name": "stdout",
     "output_type": "stream",
     "text": [
      "2021-11-11 20:57:55 |\u001b[36m DEBUG    \u001b[0m| helpers.helpers_predator.predictions | Prediction probabilities data for hnsc is prepared.\n",
      "Accessible from `hnsc_predictions_prob_data`.\n",
      "2021-11-11 20:57:55 |\u001b[36m DEBUG    \u001b[0m| helpers.helpers_predator.predictions | Ensemble prediction data for hnsc is prepared.\n",
      "Accessible from `hnsc_ensemble_prediction_data`.\n",
      "2021-11-11 20:57:55 |\u001b[36m DEBUG    \u001b[0m| helpers.helpers_predator.predictions | Resulting prediction data is available for hnsc.\n",
      "Accessible from predictions.['hnsc_prediction_results']\n",
      "2021-11-11 20:57:55 |\u001b[36m DEBUG    \u001b[0m| helpers.helpers_predator.predictions | Resulting prediction data (no_votes dropped) is available for hnsc.\n",
      "Accessible from predictions.['hnsc_prediction_results_no_votes_dropped']\n"
     ]
    }
   ],
   "source": [
    "predator.prepare_ensemble_prediction_data()"
   ]
  },
  {
   "cell_type": "code",
   "execution_count": 17,
   "id": "0ffd0f8a-b82f-4733-9a31-2d350402fecb",
   "metadata": {},
   "outputs": [
    {
     "name": "stdout",
     "output_type": "stream",
     "text": [
      "\u001b[36mData dimensions: (4128, 39)\u001b[0m\n"
     ]
    },
    {
     "data": {
      "text/html": [
       "<div>\n",
       "<style scoped>\n",
       "    .dataframe tbody tr th:only-of-type {\n",
       "        vertical-align: middle;\n",
       "    }\n",
       "\n",
       "    .dataframe tbody tr th {\n",
       "        vertical-align: top;\n",
       "    }\n",
       "\n",
       "    .dataframe thead th {\n",
       "        text-align: right;\n",
       "    }\n",
       "</style>\n",
       "<table border=\"1\" class=\"dataframe\">\n",
       "  <thead>\n",
       "    <tr style=\"text-align: right;\">\n",
       "      <th></th>\n",
       "      <th>Trial 0</th>\n",
       "      <th>Trial 1</th>\n",
       "      <th>Trial 2</th>\n",
       "      <th>Trial 3</th>\n",
       "      <th>Trial 4</th>\n",
       "      <th>Trial 5</th>\n",
       "      <th>Trial 6</th>\n",
       "      <th>Trial 7</th>\n",
       "      <th>Trial 8</th>\n",
       "      <th>Trial 9</th>\n",
       "      <th>...</th>\n",
       "      <th>Trial 29</th>\n",
       "      <th>Trial 30</th>\n",
       "      <th>Trial 31</th>\n",
       "      <th>Trial 32</th>\n",
       "      <th>Trial 33</th>\n",
       "      <th>Trial 34</th>\n",
       "      <th>Trial 35</th>\n",
       "      <th>Trial 36</th>\n",
       "      <th>PROB_1s_AVG</th>\n",
       "      <th>VOTED_PREDICTION</th>\n",
       "    </tr>\n",
       "  </thead>\n",
       "  <tbody>\n",
       "    <tr>\n",
       "      <th>0</th>\n",
       "      <td>0.355774</td>\n",
       "      <td>0.6625</td>\n",
       "      <td>0.319053</td>\n",
       "      <td>0.436111</td>\n",
       "      <td>0.338077</td>\n",
       "      <td>0.401395</td>\n",
       "      <td>0.491424</td>\n",
       "      <td>0.28333</td>\n",
       "      <td>0.306153</td>\n",
       "      <td>0.461592</td>\n",
       "      <td>...</td>\n",
       "      <td>0.261234</td>\n",
       "      <td>0.299351</td>\n",
       "      <td>0.510686</td>\n",
       "      <td>0.490999</td>\n",
       "      <td>0.451272</td>\n",
       "      <td>0.501687</td>\n",
       "      <td>0.499696</td>\n",
       "      <td>0.45305</td>\n",
       "      <td>0.45127</td>\n",
       "      <td>0</td>\n",
       "    </tr>\n",
       "    <tr>\n",
       "      <th>1</th>\n",
       "      <td>0.444497</td>\n",
       "      <td>0.16875</td>\n",
       "      <td>0.446934</td>\n",
       "      <td>0.494659</td>\n",
       "      <td>0.349073</td>\n",
       "      <td>0.463548</td>\n",
       "      <td>0.511407</td>\n",
       "      <td>0.451368</td>\n",
       "      <td>0.310452</td>\n",
       "      <td>0.496459</td>\n",
       "      <td>...</td>\n",
       "      <td>0.313907</td>\n",
       "      <td>0.299351</td>\n",
       "      <td>0.486464</td>\n",
       "      <td>0.544962</td>\n",
       "      <td>0.459027</td>\n",
       "      <td>0.491567</td>\n",
       "      <td>0.499696</td>\n",
       "      <td>0.505505</td>\n",
       "      <td>0.47297</td>\n",
       "      <td>0</td>\n",
       "    </tr>\n",
       "    <tr>\n",
       "      <th>2</th>\n",
       "      <td>0.272269</td>\n",
       "      <td>0.6625</td>\n",
       "      <td>0.278886</td>\n",
       "      <td>0.363538</td>\n",
       "      <td>0.305402</td>\n",
       "      <td>0.348318</td>\n",
       "      <td>0.441694</td>\n",
       "      <td>0.219122</td>\n",
       "      <td>0.295919</td>\n",
       "      <td>0.428721</td>\n",
       "      <td>...</td>\n",
       "      <td>0.219781</td>\n",
       "      <td>0.4</td>\n",
       "      <td>0.450976</td>\n",
       "      <td>0.374602</td>\n",
       "      <td>0.435307</td>\n",
       "      <td>0.498971</td>\n",
       "      <td>0.499696</td>\n",
       "      <td>0.547189</td>\n",
       "      <td>0.42872</td>\n",
       "      <td>0</td>\n",
       "    </tr>\n",
       "  </tbody>\n",
       "</table>\n",
       "<p>3 rows × 39 columns</p>\n",
       "</div>"
      ],
      "text/plain": [
       "    Trial 0  Trial 1   Trial 2   Trial 3   Trial 4   Trial 5   Trial 6  \\\n",
       "0  0.355774   0.6625  0.319053  0.436111  0.338077  0.401395  0.491424   \n",
       "1  0.444497  0.16875  0.446934  0.494659  0.349073  0.463548  0.511407   \n",
       "2  0.272269   0.6625  0.278886  0.363538  0.305402  0.348318  0.441694   \n",
       "\n",
       "    Trial 7   Trial 8   Trial 9  ...  Trial 29  Trial 30  Trial 31  Trial 32  \\\n",
       "0   0.28333  0.306153  0.461592  ...  0.261234  0.299351  0.510686  0.490999   \n",
       "1  0.451368  0.310452  0.496459  ...  0.313907  0.299351  0.486464  0.544962   \n",
       "2  0.219122  0.295919  0.428721  ...  0.219781       0.4  0.450976  0.374602   \n",
       "\n",
       "   Trial 33  Trial 34  Trial 35  Trial 36 PROB_1s_AVG VOTED_PREDICTION  \n",
       "0  0.451272  0.501687  0.499696   0.45305     0.45127                0  \n",
       "1  0.459027  0.491567  0.499696  0.505505     0.47297                0  \n",
       "2  0.435307  0.498971  0.499696  0.547189     0.42872                0  \n",
       "\n",
       "[3 rows x 39 columns]"
      ]
     },
     "metadata": {},
     "output_type": "display_data"
    }
   ],
   "source": [
    "display_data(predator.predictions['hnsc_predictions_prob_data'])"
   ]
  },
  {
   "cell_type": "code",
   "execution_count": 18,
   "id": "f2b38467-e658-4ed6-9ac0-6de1f1017ce7",
   "metadata": {},
   "outputs": [
    {
     "data": {
      "image/png": "[encoded data removed]",
      "text/plain": [
       "<Figure size 432x288 with 1 Axes>"
      ]
     },
     "metadata": {
      "needs_background": "light"
     },
     "output_type": "display_data"
    }
   ],
   "source": [
    "predator.predictions.plot_ensemble_prediction_distribution(\"hnsc\")"
   ]
  },
  {
   "cell_type": "code",
   "execution_count": 19,
   "id": "c454d6a9-5c73-4fe6-b609-e7b160e2ddb8",
   "metadata": {},
   "outputs": [
    {
     "name": "stdout",
     "output_type": "stream",
     "text": [
      "\u001b[36mData dimensions: (4128, 4)\u001b[0m\n"
     ]
    },
    {
     "data": {
      "text/html": [
       "<div>\n",
       "<style scoped>\n",
       "    .dataframe tbody tr th:only-of-type {\n",
       "        vertical-align: middle;\n",
       "    }\n",
       "\n",
       "    .dataframe tbody tr th {\n",
       "        vertical-align: top;\n",
       "    }\n",
       "\n",
       "    .dataframe thead th {\n",
       "        text-align: right;\n",
       "    }\n",
       "</style>\n",
       "<table border=\"1\" class=\"dataframe\">\n",
       "  <thead>\n",
       "    <tr style=\"text-align: right;\">\n",
       "      <th></th>\n",
       "      <th>UniProt_ID</th>\n",
       "      <th>Mutation</th>\n",
       "      <th>Interactor_UniProt_ID</th>\n",
       "      <th>Prediction</th>\n",
       "    </tr>\n",
       "  </thead>\n",
       "  <tbody>\n",
       "    <tr>\n",
       "      <th>0</th>\n",
       "      <td>Q13485</td>\n",
       "      <td>R361H</td>\n",
       "      <td>B7Z5N5</td>\n",
       "      <td>0</td>\n",
       "    </tr>\n",
       "    <tr>\n",
       "      <th>1</th>\n",
       "      <td>Q13485</td>\n",
       "      <td>R361H</td>\n",
       "      <td>Q68DB7</td>\n",
       "      <td>0</td>\n",
       "    </tr>\n",
       "    <tr>\n",
       "      <th>2</th>\n",
       "      <td>Q13485</td>\n",
       "      <td>R361H</td>\n",
       "      <td>Q53XR6</td>\n",
       "      <td>0</td>\n",
       "    </tr>\n",
       "  </tbody>\n",
       "</table>\n",
       "</div>"
      ],
      "text/plain": [
       "  UniProt_ID Mutation Interactor_UniProt_ID Prediction\n",
       "0     Q13485    R361H                B7Z5N5          0\n",
       "1     Q13485    R361H                Q68DB7          0\n",
       "2     Q13485    R361H                Q53XR6          0"
      ]
     },
     "metadata": {},
     "output_type": "display_data"
    }
   ],
   "source": [
    "hnsc_prediction_results_soft = predator.predictions['hnsc_prediction_results']\n",
    "display_data(hnsc_prediction_results_soft)"
   ]
  },
  {
   "cell_type": "code",
   "execution_count": 20,
   "id": "569c4dd1-e2d9-40d0-b7c0-1cc177adfabb",
   "metadata": {},
   "outputs": [
    {
     "name": "stdout",
     "output_type": "stream",
     "text": [
      "\u001b[36mData dimensions: (3994, 4)\u001b[0m\n"
     ]
    },
    {
     "data": {
      "text/html": [
       "<div>\n",
       "<style scoped>\n",
       "    .dataframe tbody tr th:only-of-type {\n",
       "        vertical-align: middle;\n",
       "    }\n",
       "\n",
       "    .dataframe tbody tr th {\n",
       "        vertical-align: top;\n",
       "    }\n",
       "\n",
       "    .dataframe thead th {\n",
       "        text-align: right;\n",
       "    }\n",
       "</style>\n",
       "<table border=\"1\" class=\"dataframe\">\n",
       "  <thead>\n",
       "    <tr style=\"text-align: right;\">\n",
       "      <th></th>\n",
       "      <th>UniProt_ID</th>\n",
       "      <th>Mutation</th>\n",
       "      <th>Interactor_UniProt_ID</th>\n",
       "      <th>Prediction</th>\n",
       "    </tr>\n",
       "  </thead>\n",
       "  <tbody>\n",
       "    <tr>\n",
       "      <th>0</th>\n",
       "      <td>Q13485</td>\n",
       "      <td>R361H</td>\n",
       "      <td>B7Z5N5</td>\n",
       "      <td>0</td>\n",
       "    </tr>\n",
       "    <tr>\n",
       "      <th>1</th>\n",
       "      <td>Q13485</td>\n",
       "      <td>R361H</td>\n",
       "      <td>Q68DB7</td>\n",
       "      <td>0</td>\n",
       "    </tr>\n",
       "    <tr>\n",
       "      <th>2</th>\n",
       "      <td>Q13485</td>\n",
       "      <td>R361H</td>\n",
       "      <td>Q53XR6</td>\n",
       "      <td>0</td>\n",
       "    </tr>\n",
       "  </tbody>\n",
       "</table>\n",
       "</div>"
      ],
      "text/plain": [
       "  UniProt_ID Mutation Interactor_UniProt_ID Prediction\n",
       "0     Q13485    R361H                B7Z5N5          0\n",
       "1     Q13485    R361H                Q68DB7          0\n",
       "2     Q13485    R361H                Q53XR6          0"
      ]
     },
     "metadata": {},
     "output_type": "display_data"
    }
   ],
   "source": [
    "hnsc_prediction_results_soft_no_votes_dropped = predator.predictions[\"hnsc_prediction_results_no_votes_dropped\"]\n",
    "display_data(hnsc_prediction_results_soft_no_votes_dropped)"
   ]
  },
  {
   "cell_type": "code",
   "execution_count": 21,
   "id": "d1100263-ae65-405f-a13d-896927fdc1c5",
   "metadata": {},
   "outputs": [
    {
     "name": "stdout",
     "output_type": "stream",
     "text": [
      "\u001b[36mLabel counts:\n",
      "Disrupting                2057\n",
      "Increasing + No Effect    1937\n",
      "Name: Prediction, dtype: int64\u001b[0m\n"
     ]
    },
    {
     "data": {
      "image/png": "[encoded data removed]",
      "text/plain": [
       "<Figure size 432x288 with 1 Axes>"
      ]
     },
     "metadata": {},
     "output_type": "display_data"
    }
   ],
   "source": [
    "visualize_label_counts(hnsc_prediction_results_soft_no_votes_dropped, 'Prediction')"
   ]
  },
  {
   "cell_type": "code",
   "execution_count": 22,
   "id": "37c0a11a-e87e-40af-ba8a-8a28b82d956d",
   "metadata": {},
   "outputs": [],
   "source": [
    "hnsc_ensemble_prediction_data_soft = predator.predictions[\"hnsc_ensemble_prediction_data\"]"
   ]
  },
  {
   "cell_type": "code",
   "execution_count": 23,
   "id": "e4995e62-dfd6-4b54-bd6c-67a62eefb6a6",
   "metadata": {},
   "outputs": [],
   "source": [
    "hnsc_predictions_prob_data_soft = predator.predictions[\"hnsc_predictions_prob_data\"]"
   ]
  },
  {
   "cell_type": "code",
   "execution_count": null,
   "id": "dabc60aa-0a63-4016-bbef-4f8788b625ed",
   "metadata": {},
   "outputs": [],
   "source": []
  },
  {
   "cell_type": "code",
   "execution_count": 24,
   "id": "a84ab98c-1e29-413a-8c6e-514b747fd38f",
   "metadata": {},
   "outputs": [],
   "source": [
    "def add_median_probabilities(prediction_results, predictions_prob_data):\n",
    "    assert len(prediction_results) == len(predictions_prob_data)\n",
    "    prediction_results_with_probabilities = prediction_results.copy()\n",
    "    prediction_results_with_probabilities[\"Median_Probability\"] = predictions_prob_data[\"PROB_1s_AVG\"]\n",
    "    return prediction_results_with_probabilities"
   ]
  },
  {
   "cell_type": "code",
   "execution_count": 25,
   "id": "b8955db8-7279-4644-acb9-6297e6e1c43c",
   "metadata": {},
   "outputs": [
    {
     "data": {
      "text/html": [
       "<div>\n",
       "<style scoped>\n",
       "    .dataframe tbody tr th:only-of-type {\n",
       "        vertical-align: middle;\n",
       "    }\n",
       "\n",
       "    .dataframe tbody tr th {\n",
       "        vertical-align: top;\n",
       "    }\n",
       "\n",
       "    .dataframe thead th {\n",
       "        text-align: right;\n",
       "    }\n",
       "</style>\n",
       "<table border=\"1\" class=\"dataframe\">\n",
       "  <thead>\n",
       "    <tr style=\"text-align: right;\">\n",
       "      <th></th>\n",
       "      <th>UniProt_ID</th>\n",
       "      <th>Mutation</th>\n",
       "      <th>Interactor_UniProt_ID</th>\n",
       "      <th>Prediction</th>\n",
       "      <th>Median_Probability</th>\n",
       "    </tr>\n",
       "  </thead>\n",
       "  <tbody>\n",
       "    <tr>\n",
       "      <th>0</th>\n",
       "      <td>Q13485</td>\n",
       "      <td>R361H</td>\n",
       "      <td>B7Z5N5</td>\n",
       "      <td>0</td>\n",
       "      <td>0.45127</td>\n",
       "    </tr>\n",
       "    <tr>\n",
       "      <th>1</th>\n",
       "      <td>Q13485</td>\n",
       "      <td>R361H</td>\n",
       "      <td>Q68DB7</td>\n",
       "      <td>0</td>\n",
       "      <td>0.47297</td>\n",
       "    </tr>\n",
       "    <tr>\n",
       "      <th>2</th>\n",
       "      <td>Q13485</td>\n",
       "      <td>R361H</td>\n",
       "      <td>Q53XR6</td>\n",
       "      <td>0</td>\n",
       "      <td>0.42872</td>\n",
       "    </tr>\n",
       "    <tr>\n",
       "      <th>3</th>\n",
       "      <td>Q9Y566</td>\n",
       "      <td>R2148H</td>\n",
       "      <td>Q9BYB0</td>\n",
       "      <td>0</td>\n",
       "      <td>0.19476</td>\n",
       "    </tr>\n",
       "    <tr>\n",
       "      <th>4</th>\n",
       "      <td>O15116</td>\n",
       "      <td>L87I</td>\n",
       "      <td>Q9Y333</td>\n",
       "      <td>1</td>\n",
       "      <td>0.83768</td>\n",
       "    </tr>\n",
       "  </tbody>\n",
       "</table>\n",
       "</div>"
      ],
      "text/plain": [
       "  UniProt_ID Mutation Interactor_UniProt_ID Prediction Median_Probability\n",
       "0     Q13485    R361H                B7Z5N5          0            0.45127\n",
       "1     Q13485    R361H                Q68DB7          0            0.47297\n",
       "2     Q13485    R361H                Q53XR6          0            0.42872\n",
       "3     Q9Y566   R2148H                Q9BYB0          0            0.19476\n",
       "4     O15116     L87I                Q9Y333          1            0.83768"
      ]
     },
     "execution_count": 25,
     "metadata": {},
     "output_type": "execute_result"
    }
   ],
   "source": [
    "hnsc_prediction_results_soft_with_median_probs = add_median_probabilities(\n",
    "    prediction_results=predator.predictions[\"hnsc_prediction_results\"],\n",
    "    predictions_prob_data=predator.predictions[\"hnsc_predictions_prob_data\"]\n",
    ")\n",
    "hnsc_prediction_results_soft_with_median_probs.head()"
   ]
  },
  {
   "cell_type": "code",
   "execution_count": 26,
   "id": "5328bf48-72fa-4a0c-86c5-76e0939b0e5c",
   "metadata": {},
   "outputs": [],
   "source": [
    "hnsc_prediction_results_soft_no_votes_dropped_with_median_probabilities = hnsc_prediction_results_soft_with_median_probs[\n",
    "    hnsc_prediction_results_soft_with_median_probs['Prediction'].isin([0, 1])\n",
    "]"
   ]
  },
  {
   "cell_type": "code",
   "execution_count": 27,
   "id": "5040e7d0-4bd2-4197-8a21-58bfd68b6c76",
   "metadata": {},
   "outputs": [
    {
     "data": {
      "text/plain": [
       "3994"
      ]
     },
     "execution_count": 27,
     "metadata": {},
     "output_type": "execute_result"
    }
   ],
   "source": [
    "len(hnsc_prediction_results_soft_no_votes_dropped_with_median_probabilities)"
   ]
  },
  {
   "cell_type": "markdown",
   "id": "412859ae-c188-410e-85ef-7df91b9d2b89",
   "metadata": {},
   "source": [
    "## Exporting Predictions"
   ]
  },
  {
   "cell_type": "code",
   "execution_count": 28,
   "id": "4042b8ce-498b-4c6c-b964-bbf7632e4ae6",
   "metadata": {},
   "outputs": [
    {
     "name": "stdout",
     "output_type": "stream",
     "text": [
      "\u001b[36mData dimensions: (3994, 5)\u001b[0m\n"
     ]
    },
    {
     "data": {
      "text/html": [
       "<div>\n",
       "<style scoped>\n",
       "    .dataframe tbody tr th:only-of-type {\n",
       "        vertical-align: middle;\n",
       "    }\n",
       "\n",
       "    .dataframe tbody tr th {\n",
       "        vertical-align: top;\n",
       "    }\n",
       "\n",
       "    .dataframe thead th {\n",
       "        text-align: right;\n",
       "    }\n",
       "</style>\n",
       "<table border=\"1\" class=\"dataframe\">\n",
       "  <thead>\n",
       "    <tr style=\"text-align: right;\">\n",
       "      <th></th>\n",
       "      <th>UniProt_ID</th>\n",
       "      <th>Mutation</th>\n",
       "      <th>Interactor_UniProt_ID</th>\n",
       "      <th>Prediction</th>\n",
       "      <th>Median_Probability</th>\n",
       "    </tr>\n",
       "  </thead>\n",
       "  <tbody>\n",
       "    <tr>\n",
       "      <th>0</th>\n",
       "      <td>Q13485</td>\n",
       "      <td>R361H</td>\n",
       "      <td>B7Z5N5</td>\n",
       "      <td>0</td>\n",
       "      <td>0.45127</td>\n",
       "    </tr>\n",
       "    <tr>\n",
       "      <th>1</th>\n",
       "      <td>Q13485</td>\n",
       "      <td>R361H</td>\n",
       "      <td>Q68DB7</td>\n",
       "      <td>0</td>\n",
       "      <td>0.47297</td>\n",
       "    </tr>\n",
       "    <tr>\n",
       "      <th>2</th>\n",
       "      <td>Q13485</td>\n",
       "      <td>R361H</td>\n",
       "      <td>Q53XR6</td>\n",
       "      <td>0</td>\n",
       "      <td>0.42872</td>\n",
       "    </tr>\n",
       "  </tbody>\n",
       "</table>\n",
       "</div>"
      ],
      "text/plain": [
       "  UniProt_ID Mutation Interactor_UniProt_ID Prediction Median_Probability\n",
       "0     Q13485    R361H                B7Z5N5          0            0.45127\n",
       "1     Q13485    R361H                Q68DB7          0            0.47297\n",
       "2     Q13485    R361H                Q53XR6          0            0.42872"
      ]
     },
     "metadata": {},
     "output_type": "display_data"
    }
   ],
   "source": [
    "# hnsc_prediction_results = hnsc_prediction_results_hard_no_votes_dropped\n",
    "# hnsc_prediction_results = hnsc_prediction_results_soft_no_votes_dropped\n",
    "hnsc_prediction_results = hnsc_prediction_results_soft_no_votes_dropped_with_median_probabilities\n",
    "display_data(hnsc_prediction_results)"
   ]
  },
  {
   "cell_type": "code",
   "execution_count": 29,
   "id": "4ab9fbc1-d3d2-4424-99ac-aa5515070d71",
   "metadata": {},
   "outputs": [
    {
     "name": "stdout",
     "output_type": "stream",
     "text": [
      "2021-11-11 20:57:57 |\u001b[36m DEBUG    \u001b[0m| helpers.helpers_predator.common | Folder with ID 10ffdb6d is created.\n",
      "2021-11-11 20:57:57 |\u001b[36m DEBUG    \u001b[0m| helpers.helpers_predator.common | Exporting data predictions at location ../data/predictions_datasets/ in folder hnsc_prediction_2021-11-11\\10ffdb6d..\n",
      "2021-11-11 20:57:57 |\u001b[32m INFO     \u001b[0m| helpers.helpers_predator.common | ../data/predictions_datasets/hnsc_prediction_2021-11-11\\10ffdb6d\\predictions_soft_2021-11-11.csv is exported successfully.\n",
      "2021-11-11 20:57:57 |\u001b[32m INFO     \u001b[0m| helpers.helpers_predator.common | Config is exported.\n"
     ]
    }
   ],
   "source": [
    "predator.export_prediction(\n",
    "    tcga=\"hnsc\",\n",
    "    data=hnsc_prediction_results,\n",
    "    file_name=\"predictions\",\n",
    "    folder_path=PREDICTIONS_DATASETS_FOLDER_PATH,\n",
    "    voting=\"soft\",\n",
    "    overwrite=False,\n",
    "    file_extension='csv'\n",
    ")"
   ]
  },
  {
   "cell_type": "markdown",
   "id": "fbc616a5-ce63-4b93-a858-b3d22fdce070",
   "metadata": {},
   "source": [
    "---"
   ]
  },
  {
   "cell_type": "code",
   "execution_count": null,
   "id": "2159ade9-870c-4676-94f2-4d1f4b09beee",
   "metadata": {},
   "outputs": [],
   "source": []
  }
 ],
 "metadata": {
  "kernelspec": {
   "display_name": "Predicting-Mutation-Effects",
   "language": "python",
   "name": "predicting-mutation-effects"
  },
  "language_info": {
   "codemirror_mode": {
    "name": "ipython",
    "version": 3
   },
   "file_extension": ".py",
   "mimetype": "text/x-python",
   "name": "python",
   "nbconvert_exporter": "python",
   "pygments_lexer": "ipython3",
   "version": "3.8.10"
  },
  "toc-autonumbering": false
 },
 "nbformat": 4,
 "nbformat_minor": 5
}
