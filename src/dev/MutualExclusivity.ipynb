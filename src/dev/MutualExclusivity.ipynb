{
 "cells": [
  {
   "cell_type": "markdown",
   "id": "a507755d-7d6d-42e6-8c83-44ed01e1fe5c",
   "metadata": {},
   "source": [
    "# Mutual Exclusivity"
   ]
  },
  {
   "cell_type": "markdown",
   "id": "99eecd39-7d33-47a3-9d96-5a29089fd337",
   "metadata": {},
   "source": [
    "## Setup"
   ]
  },
  {
   "cell_type": "code",
   "execution_count": 1,
   "id": "a9942580-be24-4b17-b45b-918d3b3f153a",
   "metadata": {},
   "outputs": [],
   "source": [
    "import os\n",
    "import os.path as op\n",
    "\n",
    "os.chdir('../')\n",
    "\n",
    "# os.listdir()"
   ]
  },
  {
   "cell_type": "code",
   "execution_count": 2,
   "id": "91c19c2c-491d-4b6e-bdfb-248f2bb0f7ce",
   "metadata": {},
   "outputs": [],
   "source": [
    "# SNV_PATHS\n",
    "SNV_COMMON_PATH = \"C:/Users/ibrah/Desktop/SNV_data/SNV_datasets/\"\n",
    "BRCA_SNV_PATH = op.join(SNV_COMMON_PATH, \"SNV_BRCA_hg38_2021-09-22.csv\")\n",
    "ESCA_SNV_PATH = op.join(SNV_COMMON_PATH, \"SNV_ESCA_hg38_2021-09-22.csv\")\n",
    "GBM_SNV_PATH = op.join(SNV_COMMON_PATH, \"SNV_GBM_hg38_2021-09-22.csv\")\n",
    "HNSC_SNV_PATH = op.join(SNV_COMMON_PATH, \"SNV_HNSC_hg38_2021-09-22.csv\")\n",
    "OV_SNV_PATH = op.join(SNV_COMMON_PATH, \"SNV_OV_hg38_2021-09-22.csv\")\n",
    "\n",
    "BRCA_PRELIMINARY_DATA_PATH = r\"../data/predictions_datasets/brca_prediction_2021-11-17/558297b6/brca_preliminary_data_cgc_2021-11-17.xlsx\"\n",
    "ESCA_PRELIMINARY_DATA_PATH = r\"../data/predictions_datasets/esca_prediction_2021-11-17/59544312/esca_preliminary_data_cgc_2021-11-17.xlsx\"\n",
    "GBM_PRELIMINARY_DATA_PATH = r\"../data/predictions_datasets/gbm_prediction_2021-11-17/b9cfc7ea/gbm_preliminary_data_cgc_2021-11-17.xlsx\"\n",
    "HNSC_PRELIMINARY_DATA_PATH = r\"../data/predictions_datasets/hnsc_prediction_2021-11-17/53930f30/hnsc_preliminary_data_cgc_2021-11-17.xlsx\"\n",
    "OV_PRELIMINARY_DATA_PATH = r\"../data/predictions_datasets/ov_prediction_2021-11-17/37bf1637/ov_preliminary_data_cgc_2021-11-17.xlsx\"\n",
    "\n",
    "# PATIENT INTERACTION DATA PATHS\n",
    "BRCA_PATIENT_INTERACTION_DATA_PATH = \"../data/patient_interaction_datasets/BRCA_patient_interactions_analysis_table_2021-11-17.xlsx\"\n",
    "ESCA_PATIENT_INTERACTION_DATA_PATH = \"../data/patient_interaction_datasets/ESCA_patient_interactions_analysis_table_2021-11-17.xlsx\"\n",
    "GBM_PATIENT_INTERACTION_DATA_PATH = \"../data/patient_interaction_datasets/GBM_patient_interactions_analysis_table_2021-11-17.xlsx\"\n",
    "HNSC_PATIENT_INTERACTION_DATA_PATH = \"../data/patient_interaction_datasets/HNSC_patient_interactions_analysis_table_2021-11-17.xlsx\"\n",
    "OV_PATIENT_INTERACTION_DATA_PATH = \"../data/patient_interaction_datasets/OV_patient_interactions_analysis_table_2021-11-17.xlsx\"\n",
    "\n",
    "# Reflect changes in the modules immediately.\n",
    "%load_ext autoreload\n",
    "%autoreload 2"
   ]
  },
  {
   "cell_type": "code",
   "execution_count": 3,
   "id": "81c5a0ce-994d-493f-ae88-fd931f04f869",
   "metadata": {},
   "outputs": [],
   "source": [
    "def get_protein_gene_pairs(data):\n",
    "    \"\"\"\n",
    "    Applies the following filtering conditions to given dataframe and return protein and gene pairs.\n",
    "    \"\"\"\n",
    "    data_filtered = data[\n",
    "        (data[\"NUM_ELASPIC_INTERFACE_ENTRIES\"] >= 10) &\n",
    "        (data[\"PATIENT_INTERFACE_COUNT\"] > 5)\n",
    "    ]\n",
    "    \n",
    "    protein_gene_pairs = list(zip(data_filtered[\"PROTEIN\"], data_filtered[\"GENE\"]))\n",
    "    return protein_gene_pairs"
   ]
  },
  {
   "cell_type": "code",
   "execution_count": 4,
   "id": "8b4bb5d5-7339-4c1d-9311-7fd0400a8cf3",
   "metadata": {},
   "outputs": [],
   "source": [
    "import pandas as pd\n",
    "from helpers.helpers_analysis.mutual_exclusivity import MutualExclusivity\n",
    "from helpers.helpers_analysis.protein_id_retrieval import ProteinIDFetcher"
   ]
  },
  {
   "cell_type": "markdown",
   "id": "86f3e34f-6244-4223-a368-b0cb18927d38",
   "metadata": {
    "tags": []
   },
   "source": [
    "## Instantiate `MutualExclusivity` Objects for Each Cohort"
   ]
  },
  {
   "cell_type": "markdown",
   "id": "75ebb8b0-805c-4087-9899-541ab0472af6",
   "metadata": {},
   "source": [
    "### BRCA"
   ]
  },
  {
   "cell_type": "code",
   "execution_count": 5,
   "id": "4564f2f4-948b-4ce9-bc8d-d23c3a0b35b0",
   "metadata": {},
   "outputs": [
    {
     "name": "stdout",
     "output_type": "stream",
     "text": [
      "2021-11-18 12:53:22 |\u001b[36m DEBUG    \u001b[0m| helpers.helpers_analysis.mutual_exclusivity | Loading SNV data simplified ..\n",
      "2021-11-18 12:53:22 |\u001b[32m INFO     \u001b[0m| helpers.helpers_analysis.loaders | Loading BRCA SNV datasets ..\n",
      "2021-11-18 12:53:31 |\u001b[36m DEBUG    \u001b[0m| helpers.helpers_analysis.loaders | BRCA SNV data size: (120988, 121)\n",
      "2021-11-18 12:53:32 |\u001b[36m DEBUG    \u001b[0m| helpers.helpers_analysis.loaders | BRCA SNV data processed size: (60251, 121)\n",
      "2021-11-18 12:53:32 |\u001b[32m INFO     \u001b[0m| helpers.helpers_analysis.loaders | BRCA SNV datasets are loaded.\n",
      "2021-11-18 12:53:32 |\u001b[36m DEBUG    \u001b[0m| helpers.helpers_analysis.mutual_exclusivity | Loading patient ids ..\n",
      "2021-11-18 12:53:32 |\u001b[36m DEBUG    \u001b[0m| helpers.helpers_analysis.mutual_exclusivity | Loading patient to snv_data ..\n"
     ]
    },
    {
     "data": {
      "application/vnd.jupyter.widget-view+json": {
       "model_id": "f1b14f174e7c497197aa2c6197c44e9d",
       "version_major": 2,
       "version_minor": 0
      },
      "text/plain": [
       "  0%|          | 0/985 [00:00<?, ?it/s]"
      ]
     },
     "metadata": {},
     "output_type": "display_data"
    },
    {
     "name": "stdout",
     "output_type": "stream",
     "text": [
      "2021-11-18 12:53:46 |\u001b[36m DEBUG    \u001b[0m| helpers.helpers_analysis.mutual_exclusivity | patient interaction data patient data ..\n"
     ]
    }
   ],
   "source": [
    "brca_mutex = MutualExclusivity(\n",
    "    tcga=\"BRCA\", \n",
    "    tcga_snv_path=BRCA_SNV_PATH, \n",
    "    patient_interaction_data_path=BRCA_PATIENT_INTERACTION_DATA_PATH\n",
    ")"
   ]
  },
  {
   "cell_type": "code",
   "execution_count": 6,
   "id": "5268b0f6-9528-4337-84c0-a099971aa754",
   "metadata": {},
   "outputs": [
    {
     "data": {
      "text/plain": [
       "985"
      ]
     },
     "execution_count": 6,
     "metadata": {},
     "output_type": "execute_result"
    }
   ],
   "source": [
    "len(brca_mutex.patients)"
   ]
  },
  {
   "cell_type": "markdown",
   "id": "aae0e0bf-57b5-4c2d-9b60-982a2c169b64",
   "metadata": {},
   "source": [
    "### ESCA"
   ]
  },
  {
   "cell_type": "code",
   "execution_count": 7,
   "id": "54d839f0-46f2-42c2-a652-c54f61dcb3d9",
   "metadata": {},
   "outputs": [
    {
     "name": "stdout",
     "output_type": "stream",
     "text": [
      "2021-11-18 12:53:54 |\u001b[36m DEBUG    \u001b[0m| helpers.helpers_analysis.mutual_exclusivity | Loading SNV data simplified ..\n",
      "2021-11-18 12:53:54 |\u001b[32m INFO     \u001b[0m| helpers.helpers_analysis.loaders | Loading ESCA SNV datasets ..\n",
      "2021-11-18 12:53:58 |\u001b[36m DEBUG    \u001b[0m| helpers.helpers_analysis.loaders | ESCA SNV data size: (45313, 121)\n",
      "2021-11-18 12:53:58 |\u001b[36m DEBUG    \u001b[0m| helpers.helpers_analysis.loaders | ESCA SNV data processed size: (19497, 121)\n",
      "2021-11-18 12:53:58 |\u001b[32m INFO     \u001b[0m| helpers.helpers_analysis.loaders | ESCA SNV datasets are loaded.\n",
      "2021-11-18 12:53:58 |\u001b[36m DEBUG    \u001b[0m| helpers.helpers_analysis.mutual_exclusivity | Loading patient ids ..\n",
      "2021-11-18 12:53:58 |\u001b[36m DEBUG    \u001b[0m| helpers.helpers_analysis.mutual_exclusivity | Loading patient to snv_data ..\n"
     ]
    },
    {
     "data": {
      "application/vnd.jupyter.widget-view+json": {
       "model_id": "bbdcb048f243464cb2a1de5be2f1df63",
       "version_major": 2,
       "version_minor": 0
      },
      "text/plain": [
       "  0%|          | 0/184 [00:00<?, ?it/s]"
      ]
     },
     "metadata": {},
     "output_type": "display_data"
    },
    {
     "name": "stdout",
     "output_type": "stream",
     "text": [
      "2021-11-18 12:53:59 |\u001b[36m DEBUG    \u001b[0m| helpers.helpers_analysis.mutual_exclusivity | patient interaction data patient data ..\n"
     ]
    }
   ],
   "source": [
    "esca_mutex = MutualExclusivity(\n",
    "    tcga=\"ESCA\", \n",
    "    tcga_snv_path=ESCA_SNV_PATH, \n",
    "    patient_interaction_data_path=ESCA_PATIENT_INTERACTION_DATA_PATH\n",
    ")"
   ]
  },
  {
   "cell_type": "code",
   "execution_count": 8,
   "id": "980d1c89-456e-4cb7-8ba4-7126e657c80f",
   "metadata": {},
   "outputs": [
    {
     "data": {
      "text/plain": [
       "184"
      ]
     },
     "execution_count": 8,
     "metadata": {},
     "output_type": "execute_result"
    }
   ],
   "source": [
    "len(esca_mutex.patients)"
   ]
  },
  {
   "cell_type": "markdown",
   "id": "209f34d8-d2b4-4ac8-984a-0b7d164ca3ef",
   "metadata": {},
   "source": [
    "### GBM"
   ]
  },
  {
   "cell_type": "code",
   "execution_count": 9,
   "id": "1f3f5835-e389-4d73-a139-22492af5abfb",
   "metadata": {},
   "outputs": [
    {
     "name": "stdout",
     "output_type": "stream",
     "text": [
      "2021-11-18 12:54:49 |\u001b[36m DEBUG    \u001b[0m| helpers.helpers_analysis.mutual_exclusivity | Loading SNV data simplified ..\n",
      "2021-11-18 12:54:49 |\u001b[32m INFO     \u001b[0m| helpers.helpers_analysis.loaders | Loading GBM SNV datasets ..\n",
      "2021-11-18 12:54:55 |\u001b[36m DEBUG    \u001b[0m| helpers.helpers_analysis.loaders | GBM SNV data size: (82765, 121)\n",
      "2021-11-18 12:54:56 |\u001b[36m DEBUG    \u001b[0m| helpers.helpers_analysis.loaders | GBM SNV data processed size: (46847, 121)\n",
      "2021-11-18 12:54:56 |\u001b[32m INFO     \u001b[0m| helpers.helpers_analysis.loaders | GBM SNV datasets are loaded.\n",
      "2021-11-18 12:54:56 |\u001b[36m DEBUG    \u001b[0m| helpers.helpers_analysis.mutual_exclusivity | Loading patient ids ..\n",
      "2021-11-18 12:54:56 |\u001b[36m DEBUG    \u001b[0m| helpers.helpers_analysis.mutual_exclusivity | Loading patient to snv_data ..\n"
     ]
    },
    {
     "data": {
      "application/vnd.jupyter.widget-view+json": {
       "model_id": "d2c972c33d6f406f97ea7826f933f5ee",
       "version_major": 2,
       "version_minor": 0
      },
      "text/plain": [
       "  0%|          | 0/392 [00:00<?, ?it/s]"
      ]
     },
     "metadata": {},
     "output_type": "display_data"
    },
    {
     "name": "stdout",
     "output_type": "stream",
     "text": [
      "2021-11-18 12:55:01 |\u001b[36m DEBUG    \u001b[0m| helpers.helpers_analysis.mutual_exclusivity | patient interaction data patient data ..\n"
     ]
    }
   ],
   "source": [
    "gbm_mutex = MutualExclusivity(\n",
    "    tcga=\"GBM\", \n",
    "    tcga_snv_path=GBM_SNV_PATH, \n",
    "    patient_interaction_data_path=GBM_PATIENT_INTERACTION_DATA_PATH\n",
    ")"
   ]
  },
  {
   "cell_type": "code",
   "execution_count": 10,
   "id": "57acbc84-8dae-4b06-9c79-48e4763aab1e",
   "metadata": {},
   "outputs": [
    {
     "data": {
      "text/plain": [
       "392"
      ]
     },
     "execution_count": 10,
     "metadata": {},
     "output_type": "execute_result"
    }
   ],
   "source": [
    "len(gbm_mutex.patients)"
   ]
  },
  {
   "cell_type": "markdown",
   "id": "6884085e-1eaf-491d-8884-6aacd166092d",
   "metadata": {},
   "source": [
    "### HNSC"
   ]
  },
  {
   "cell_type": "code",
   "execution_count": 11,
   "id": "0bf8bff3-128c-42ea-b383-db157a9ef044",
   "metadata": {},
   "outputs": [
    {
     "name": "stdout",
     "output_type": "stream",
     "text": [
      "2021-11-18 12:55:27 |\u001b[36m DEBUG    \u001b[0m| helpers.helpers_analysis.mutual_exclusivity | Loading SNV data simplified ..\n",
      "2021-11-18 12:55:27 |\u001b[32m INFO     \u001b[0m| helpers.helpers_analysis.loaders | Loading HNSC SNV datasets ..\n",
      "2021-11-18 12:55:34 |\u001b[36m DEBUG    \u001b[0m| helpers.helpers_analysis.loaders | HNSC SNV data size: (102309, 121)\n",
      "2021-11-18 12:55:35 |\u001b[36m DEBUG    \u001b[0m| helpers.helpers_analysis.loaders | HNSC SNV data processed size: (54883, 121)\n",
      "2021-11-18 12:55:35 |\u001b[32m INFO     \u001b[0m| helpers.helpers_analysis.loaders | HNSC SNV datasets are loaded.\n",
      "2021-11-18 12:55:35 |\u001b[36m DEBUG    \u001b[0m| helpers.helpers_analysis.mutual_exclusivity | Loading patient ids ..\n",
      "2021-11-18 12:55:35 |\u001b[36m DEBUG    \u001b[0m| helpers.helpers_analysis.mutual_exclusivity | Loading patient to snv_data ..\n"
     ]
    },
    {
     "data": {
      "application/vnd.jupyter.widget-view+json": {
       "model_id": "eeaac955c2e2426da8193d283294060c",
       "version_major": 2,
       "version_minor": 0
      },
      "text/plain": [
       "  0%|          | 0/507 [00:00<?, ?it/s]"
      ]
     },
     "metadata": {},
     "output_type": "display_data"
    },
    {
     "name": "stdout",
     "output_type": "stream",
     "text": [
      "2021-11-18 12:55:41 |\u001b[36m DEBUG    \u001b[0m| helpers.helpers_analysis.mutual_exclusivity | patient interaction data patient data ..\n"
     ]
    }
   ],
   "source": [
    "hnsc_mutex = MutualExclusivity(\n",
    "    tcga=\"HNSC\", \n",
    "    tcga_snv_path=HNSC_SNV_PATH, \n",
    "    patient_interaction_data_path=HNSC_PATIENT_INTERACTION_DATA_PATH\n",
    ")"
   ]
  },
  {
   "cell_type": "code",
   "execution_count": 12,
   "id": "6ad406c6-acd7-4623-aadd-2b582f48b7e1",
   "metadata": {},
   "outputs": [
    {
     "data": {
      "text/plain": [
       "507"
      ]
     },
     "execution_count": 12,
     "metadata": {},
     "output_type": "execute_result"
    }
   ],
   "source": [
    "len(hnsc_mutex.patients)"
   ]
  },
  {
   "cell_type": "markdown",
   "id": "44e61f4b-b09b-452a-ab8a-38c336a8f2aa",
   "metadata": {},
   "source": [
    "### OV"
   ]
  },
  {
   "cell_type": "code",
   "execution_count": 13,
   "id": "b2df7e1c-71f1-4d31-a286-a0832df9f4db",
   "metadata": {},
   "outputs": [
    {
     "name": "stdout",
     "output_type": "stream",
     "text": [
      "2021-11-18 12:55:54 |\u001b[36m DEBUG    \u001b[0m| helpers.helpers_analysis.mutual_exclusivity | Loading SNV data simplified ..\n",
      "2021-11-18 12:55:54 |\u001b[32m INFO     \u001b[0m| helpers.helpers_analysis.loaders | Loading OV SNV datasets ..\n",
      "2021-11-18 12:56:00 |\u001b[36m DEBUG    \u001b[0m| helpers.helpers_analysis.loaders | OV SNV data size: (75168, 121)\n",
      "2021-11-18 12:56:00 |\u001b[36m DEBUG    \u001b[0m| helpers.helpers_analysis.loaders | OV SNV data processed size: (38486, 121)\n",
      "2021-11-18 12:56:00 |\u001b[32m INFO     \u001b[0m| helpers.helpers_analysis.loaders | OV SNV datasets are loaded.\n",
      "2021-11-18 12:56:00 |\u001b[36m DEBUG    \u001b[0m| helpers.helpers_analysis.mutual_exclusivity | Loading patient ids ..\n",
      "2021-11-18 12:56:00 |\u001b[36m DEBUG    \u001b[0m| helpers.helpers_analysis.mutual_exclusivity | Loading patient to snv_data ..\n"
     ]
    },
    {
     "data": {
      "application/vnd.jupyter.widget-view+json": {
       "model_id": "61408606445a48d8982614d1cc225d7a",
       "version_major": 2,
       "version_minor": 0
      },
      "text/plain": [
       "  0%|          | 0/436 [00:00<?, ?it/s]"
      ]
     },
     "metadata": {},
     "output_type": "display_data"
    },
    {
     "name": "stdout",
     "output_type": "stream",
     "text": [
      "2021-11-18 12:56:05 |\u001b[36m DEBUG    \u001b[0m| helpers.helpers_analysis.mutual_exclusivity | patient interaction data patient data ..\n"
     ]
    }
   ],
   "source": [
    "ov_mutex = MutualExclusivity(\n",
    "    tcga=\"OV\", \n",
    "    tcga_snv_path=OV_SNV_PATH, \n",
    "    patient_interaction_data_path=OV_PATIENT_INTERACTION_DATA_PATH\n",
    ")"
   ]
  },
  {
   "cell_type": "code",
   "execution_count": 14,
   "id": "b724d1be-2fce-4ea4-ad6d-62dc4874d022",
   "metadata": {},
   "outputs": [
    {
     "data": {
      "text/plain": [
       "436"
      ]
     },
     "execution_count": 14,
     "metadata": {},
     "output_type": "execute_result"
    }
   ],
   "source": [
    "len(ov_mutex.patients)"
   ]
  },
  {
   "cell_type": "markdown",
   "id": "ef9dda60-e717-4800-9a9f-aba4728bd2d2",
   "metadata": {
    "tags": []
   },
   "source": [
    "## Instantiate `MutualExclusivity` Objects for Each Cohort"
   ]
  },
  {
   "cell_type": "code",
   "execution_count": 19,
   "id": "6a737c84-74b5-403b-972f-892303ef7135",
   "metadata": {},
   "outputs": [],
   "source": [
    "def export_mutex_data_for_selected_genes(preliminary_data_path, mutex_obj):\n",
    "    preliminary_data = pd.read_excel(preliminary_data_path)\n",
    "\n",
    "    protein_gene_list = get_protein_gene_pairs(preliminary_data)\n",
    "\n",
    "    for protein_gene in protein_gene_list:\n",
    "        protein, gene = protein_gene\n",
    "        print(f\"PROTEIN_GENE: {protein}_{gene}\")\n",
    "        mutex_obj.get_disruptive_mutual_exclusivity_data(protein)\n",
    "        mutex_obj.export_disruptive_mutual_exclusivity_data(\"dev\\mutex2\", protein)\n",
    "    \n",
    "    print(\"Completed.\")"
   ]
  },
  {
   "cell_type": "code",
   "execution_count": 20,
   "id": "3ded33c3-92bc-4fe8-9c0a-4b40e6264812",
   "metadata": {
    "scrolled": true,
    "tags": []
   },
   "outputs": [
    {
     "name": "stdout",
     "output_type": "stream",
     "text": [
      "PROTEIN_GENE: O75582_RPS6KA5\n",
      "2021-11-18 13:00:02 |\u001b[32m INFO     \u001b[0m| helpers.helpers_analysis.mutual_exclusivity | Calculating Mutual Exclusivity over O75582's interactors ..\n",
      "2021-11-18 13:00:02 |\u001b[36m DEBUG    \u001b[0m| helpers.helpers_analysis.mutual_exclusivity | O75582 have 6 interactors:\n",
      "['Q15759:MAPK11', 'Q15418:RPS6KA1', 'Q16539:MAPK14', 'L7RSM2:MAPK14', 'Q9UK32:RPS6KA6', 'P67870:CSNK2B']\n",
      "2021-11-18 13:00:02 |\u001b[32m INFO     \u001b[0m| helpers.helpers_analysis.mutual_exclusivity | Calculating Mutual Exclusivity over O75582's interactors ..\n",
      "2021-11-18 13:00:02 |\u001b[36m DEBUG    \u001b[0m| helpers.helpers_analysis.mutual_exclusivity | O75582 have 6 interactors:\n",
      "['Q15759:MAPK11', 'Q15418:RPS6KA1', 'Q16539:MAPK14', 'L7RSM2:MAPK14', 'Q9UK32:RPS6KA6', 'P67870:CSNK2B']\n",
      "2021-11-18 13:00:02 |\u001b[36m DEBUG    \u001b[0m| helpers.helpers_analysis.mutual_exclusivity | Exporting Mutual Exclusivity BRCA O75582 ..\n",
      "2021-11-18 13:00:02 |\u001b[33m WARNING  \u001b[0m| helpers.helpers_analysis.mutual_exclusivity | File dev\\mutex2\\BRCA_O75582_RPS6KA5_2021-11-18.csv is already exist.\n",
      "To overwrite existing file, use `overwrite=True`.\n",
      "PROTEIN_GENE: P04626_ERBB2\n",
      "2021-11-18 13:00:02 |\u001b[32m INFO     \u001b[0m| helpers.helpers_analysis.mutual_exclusivity | Calculating Mutual Exclusivity over P04626's interactors ..\n",
      "2021-11-18 13:00:02 |\u001b[36m DEBUG    \u001b[0m| helpers.helpers_analysis.mutual_exclusivity | P04626 have 15 interactors:\n",
      "['Q96SB4:SRPK1', 'P00533:EGFR', 'P51813:BMX', 'Q14289:PTK2B', 'P16591:FER', 'P06241:FYN', 'P08069:IGF1R', 'Q13153:PAK1', 'P42680:TEC', 'P21860:ERBB3', 'O60674:JAK2', 'P15153:RAC2', 'Q9UJM3:ERRFI1', 'Q92625:ANKS1A', 'P23458:JAK1']\n",
      "2021-11-18 13:00:03 |\u001b[32m INFO     \u001b[0m| helpers.helpers_analysis.mutual_exclusivity | Calculating Mutual Exclusivity over P04626's interactors ..\n",
      "2021-11-18 13:00:03 |\u001b[36m DEBUG    \u001b[0m| helpers.helpers_analysis.mutual_exclusivity | P04626 have 15 interactors:\n",
      "['Q96SB4:SRPK1', 'P00533:EGFR', 'P51813:BMX', 'Q14289:PTK2B', 'P16591:FER', 'P06241:FYN', 'P08069:IGF1R', 'Q13153:PAK1', 'P42680:TEC', 'P21860:ERBB3', 'O60674:JAK2', 'P15153:RAC2', 'Q9UJM3:ERRFI1', 'Q92625:ANKS1A', 'P23458:JAK1']\n",
      "2021-11-18 13:00:03 |\u001b[36m DEBUG    \u001b[0m| helpers.helpers_analysis.mutual_exclusivity | Exporting Mutual Exclusivity BRCA P04626 ..\n",
      "2021-11-18 13:00:03 |\u001b[33m WARNING  \u001b[0m| helpers.helpers_analysis.mutual_exclusivity | File dev\\mutex2\\BRCA_P04626_ERBB2_2021-11-18.csv is already exist.\n",
      "To overwrite existing file, use `overwrite=True`.\n",
      "PROTEIN_GENE: P04637_TP53\n",
      "2021-11-18 13:00:03 |\u001b[32m INFO     \u001b[0m| helpers.helpers_analysis.mutual_exclusivity | Calculating Mutual Exclusivity over P04637's interactors ..\n",
      "2021-11-18 13:00:03 |\u001b[36m DEBUG    \u001b[0m| helpers.helpers_analysis.mutual_exclusivity | P04637 have 15 interactors:\n",
      "['Q13625:TP53BP2', 'Q96KQ4:PPP1R13B', 'P62993:GRB2', 'Q06187:BTK', 'Q8WUF5:PPP1R13L', 'Q9H3D4:TP63', 'H2EHT1:TP53', 'K7PPA8:TP53', 'Q96KQ7:EHMT2', 'O15350:TP73', 'P07948:LYN', 'Q9H9B1:EHMT1', 'Q99728:BARD1', 'O75832:PSMD10', 'Q9ULT8:HECTD1']\n",
      "2021-11-18 13:00:04 |\u001b[32m INFO     \u001b[0m| helpers.helpers_analysis.mutual_exclusivity | Calculating Mutual Exclusivity over P04637's interactors ..\n",
      "2021-11-18 13:00:04 |\u001b[36m DEBUG    \u001b[0m| helpers.helpers_analysis.mutual_exclusivity | P04637 have 15 interactors:\n",
      "['Q13625:TP53BP2', 'Q96KQ4:PPP1R13B', 'P62993:GRB2', 'Q06187:BTK', 'Q8WUF5:PPP1R13L', 'Q9H3D4:TP63', 'H2EHT1:TP53', 'K7PPA8:TP53', 'Q96KQ7:EHMT2', 'O15350:TP73', 'P07948:LYN', 'Q9H9B1:EHMT1', 'Q99728:BARD1', 'O75832:PSMD10', 'Q9ULT8:HECTD1']\n",
      "2021-11-18 13:00:04 |\u001b[36m DEBUG    \u001b[0m| helpers.helpers_analysis.mutual_exclusivity | Exporting Mutual Exclusivity BRCA P04637 ..\n",
      "2021-11-18 13:00:04 |\u001b[33m WARNING  \u001b[0m| helpers.helpers_analysis.mutual_exclusivity | File dev\\mutex2\\BRCA_P04637_TP53_2021-11-18.csv is already exist.\n",
      "To overwrite existing file, use `overwrite=True`.\n",
      "PROTEIN_GENE: P0CG48_UBC\n",
      "2021-11-18 13:00:04 |\u001b[32m INFO     \u001b[0m| helpers.helpers_analysis.mutual_exclusivity | Calculating Mutual Exclusivity over P0CG48's interactors ..\n",
      "2021-11-18 13:00:04 |\u001b[36m DEBUG    \u001b[0m| helpers.helpers_analysis.mutual_exclusivity | P0CG48 have 5 interactors:\n",
      "['P21734:UBC1', 'P61077:UBE2D3', 'Q9UMX0:UBQLN1', 'A8K3R3:nan', 'Q99816:TSG101']\n",
      "2021-11-18 13:00:04 |\u001b[32m INFO     \u001b[0m| helpers.helpers_analysis.mutual_exclusivity | Calculating Mutual Exclusivity over P0CG48's interactors ..\n",
      "2021-11-18 13:00:04 |\u001b[36m DEBUG    \u001b[0m| helpers.helpers_analysis.mutual_exclusivity | P0CG48 have 5 interactors:\n",
      "['P21734:UBC1', 'P61077:UBE2D3', 'Q9UMX0:UBQLN1', 'A8K3R3:nan', 'Q99816:TSG101']\n",
      "2021-11-18 13:00:04 |\u001b[36m DEBUG    \u001b[0m| helpers.helpers_analysis.mutual_exclusivity | Exporting Mutual Exclusivity BRCA P0CG48 ..\n",
      "2021-11-18 13:00:04 |\u001b[33m WARNING  \u001b[0m| helpers.helpers_analysis.mutual_exclusivity | File dev\\mutex2\\BRCA_P0CG48_UBC_2021-11-18.csv is already exist.\n",
      "To overwrite existing file, use `overwrite=True`.\n",
      "PROTEIN_GENE: P21860_ERBB3\n",
      "2021-11-18 13:00:04 |\u001b[32m INFO     \u001b[0m| helpers.helpers_analysis.mutual_exclusivity | Calculating Mutual Exclusivity over P21860's interactors ..\n",
      "2021-11-18 13:00:04 |\u001b[36m DEBUG    \u001b[0m| helpers.helpers_analysis.mutual_exclusivity | P21860 have 8 interactors:\n",
      "['Q00535:CDK5', 'P04626:ERBB2', 'Q15303:ERBB4', 'Q05397:PTK2', 'O60674:JAK2', 'P43403:ZAP70', 'P42681:TXK', 'P00533:EGFR']\n",
      "2021-11-18 13:00:05 |\u001b[32m INFO     \u001b[0m| helpers.helpers_analysis.mutual_exclusivity | Calculating Mutual Exclusivity over P21860's interactors ..\n",
      "2021-11-18 13:00:05 |\u001b[36m DEBUG    \u001b[0m| helpers.helpers_analysis.mutual_exclusivity | P21860 have 8 interactors:\n",
      "['Q00535:CDK5', 'P04626:ERBB2', 'Q15303:ERBB4', 'Q05397:PTK2', 'O60674:JAK2', 'P43403:ZAP70', 'P42681:TXK', 'P00533:EGFR']\n",
      "2021-11-18 13:00:05 |\u001b[36m DEBUG    \u001b[0m| helpers.helpers_analysis.mutual_exclusivity | Exporting Mutual Exclusivity BRCA P21860 ..\n",
      "2021-11-18 13:00:05 |\u001b[33m WARNING  \u001b[0m| helpers.helpers_analysis.mutual_exclusivity | File dev\\mutex2\\BRCA_P21860_ERBB3_2021-11-18.csv is already exist.\n",
      "To overwrite existing file, use `overwrite=True`.\n",
      "PROTEIN_GENE: P42336_PIK3CA\n",
      "2021-11-18 13:00:05 |\u001b[32m INFO     \u001b[0m| helpers.helpers_analysis.mutual_exclusivity | Calculating Mutual Exclusivity over P42336's interactors ..\n",
      "2021-11-18 13:00:05 |\u001b[36m DEBUG    \u001b[0m| helpers.helpers_analysis.mutual_exclusivity | P42336 have 4 interactors:\n",
      "['P27986:PIK3R1', 'O00459:PIK3R2', 'P43403:ZAP70', 'Q92569:PIK3R3']\n",
      "2021-11-18 13:00:05 |\u001b[32m INFO     \u001b[0m| helpers.helpers_analysis.mutual_exclusivity | Calculating Mutual Exclusivity over P42336's interactors ..\n",
      "2021-11-18 13:00:05 |\u001b[36m DEBUG    \u001b[0m| helpers.helpers_analysis.mutual_exclusivity | P42336 have 4 interactors:\n",
      "['P27986:PIK3R1', 'O00459:PIK3R2', 'P43403:ZAP70', 'Q92569:PIK3R3']\n",
      "2021-11-18 13:00:05 |\u001b[36m DEBUG    \u001b[0m| helpers.helpers_analysis.mutual_exclusivity | Exporting Mutual Exclusivity BRCA P42336 ..\n",
      "2021-11-18 13:00:05 |\u001b[33m WARNING  \u001b[0m| helpers.helpers_analysis.mutual_exclusivity | File dev\\mutex2\\BRCA_P42336_PIK3CA_2021-11-18.csv is already exist.\n",
      "To overwrite existing file, use `overwrite=True`.\n",
      "PROTEIN_GENE: P45985_MAP2K4\n",
      "2021-11-18 13:00:05 |\u001b[32m INFO     \u001b[0m| helpers.helpers_analysis.mutual_exclusivity | Calculating Mutual Exclusivity over P45985's interactors ..\n",
      "2021-11-18 13:00:05 |\u001b[36m DEBUG    \u001b[0m| helpers.helpers_analysis.mutual_exclusivity | P45985 have 7 interactors:\n",
      "['Q5S007:LRRK2', 'P52564:MAP2K6', 'Q16539:MAPK14', 'P00533:EGFR', 'P35916:FLT4', 'Q99558:MAP3K14', 'P45984:MAPK9']\n",
      "2021-11-18 13:00:05 |\u001b[32m INFO     \u001b[0m| helpers.helpers_analysis.mutual_exclusivity | Calculating Mutual Exclusivity over P45985's interactors ..\n",
      "2021-11-18 13:00:05 |\u001b[36m DEBUG    \u001b[0m| helpers.helpers_analysis.mutual_exclusivity | P45985 have 7 interactors:\n",
      "['Q5S007:LRRK2', 'P52564:MAP2K6', 'Q16539:MAPK14', 'P00533:EGFR', 'P35916:FLT4', 'Q99558:MAP3K14', 'P45984:MAPK9']\n",
      "2021-11-18 13:00:06 |\u001b[36m DEBUG    \u001b[0m| helpers.helpers_analysis.mutual_exclusivity | Exporting Mutual Exclusivity BRCA P45985 ..\n",
      "2021-11-18 13:00:06 |\u001b[33m WARNING  \u001b[0m| helpers.helpers_analysis.mutual_exclusivity | File dev\\mutex2\\BRCA_P45985_MAP2K4_2021-11-18.csv is already exist.\n",
      "To overwrite existing file, use `overwrite=True`.\n",
      "PROTEIN_GENE: P62805_H4C1\n",
      "2021-11-18 13:00:06 |\u001b[32m INFO     \u001b[0m| helpers.helpers_analysis.mutual_exclusivity | Calculating Mutual Exclusivity over P62805's interactors ..\n",
      "2021-11-18 13:00:06 |\u001b[36m DEBUG    \u001b[0m| helpers.helpers_analysis.mutual_exclusivity | P62805 have 16 interactors:\n",
      "['P68431:H3C1', 'P84243:H3-3A', 'Q71DI3:H3C15', 'Q16695:H3-4', 'P49450:CENPA', 'B4E1C1:nan', 'Q9UER7:DAXX', 'Q53F85:nan', 'Q16514:TAF12', 'P04908:H2AC4', 'P0C0S5:H2AZ1', 'Q16777:H2AC20', 'P06899:H2BC11', 'Q16778:H2BC21', 'P16104:H2AX', 'Q9Y294:ASF1A']\n",
      "2021-11-18 13:00:06 |\u001b[32m INFO     \u001b[0m| helpers.helpers_analysis.mutual_exclusivity | Calculating Mutual Exclusivity over P62805's interactors ..\n",
      "2021-11-18 13:00:06 |\u001b[36m DEBUG    \u001b[0m| helpers.helpers_analysis.mutual_exclusivity | P62805 have 16 interactors:\n",
      "['P68431:H3C1', 'P84243:H3-3A', 'Q71DI3:H3C15', 'Q16695:H3-4', 'P49450:CENPA', 'B4E1C1:nan', 'Q9UER7:DAXX', 'Q53F85:nan', 'Q16514:TAF12', 'P04908:H2AC4', 'P0C0S5:H2AZ1', 'Q16777:H2AC20', 'P06899:H2BC11', 'Q16778:H2BC21', 'P16104:H2AX', 'Q9Y294:ASF1A']\n",
      "2021-11-18 13:00:07 |\u001b[36m DEBUG    \u001b[0m| helpers.helpers_analysis.mutual_exclusivity | Exporting Mutual Exclusivity BRCA P62805 ..\n",
      "2021-11-18 13:00:07 |\u001b[33m WARNING  \u001b[0m| helpers.helpers_analysis.mutual_exclusivity | File dev\\mutex2\\BRCA_P62805_H4C1_2021-11-18.csv is already exist.\n",
      "To overwrite existing file, use `overwrite=True`.\n",
      "PROTEIN_GENE: P62807_H2BC4\n",
      "2021-11-18 13:00:07 |\u001b[32m INFO     \u001b[0m| helpers.helpers_analysis.mutual_exclusivity | Calculating Mutual Exclusivity over P62807's interactors ..\n",
      "2021-11-18 13:00:07 |\u001b[36m DEBUG    \u001b[0m| helpers.helpers_analysis.mutual_exclusivity | P62807 have 1 interactors:\n",
      "['P16104:H2AX']\n",
      "2021-11-18 13:00:07 |\u001b[32m INFO     \u001b[0m| helpers.helpers_analysis.mutual_exclusivity | Calculating Mutual Exclusivity over P62807's interactors ..\n",
      "2021-11-18 13:00:07 |\u001b[36m DEBUG    \u001b[0m| helpers.helpers_analysis.mutual_exclusivity | P62807 have 1 interactors:\n",
      "['P16104:H2AX']\n",
      "2021-11-18 13:00:07 |\u001b[36m DEBUG    \u001b[0m| helpers.helpers_analysis.mutual_exclusivity | Exporting Mutual Exclusivity BRCA P62807 ..\n",
      "2021-11-18 13:00:07 |\u001b[33m WARNING  \u001b[0m| helpers.helpers_analysis.mutual_exclusivity | File dev\\mutex2\\BRCA_P62807_H2BC4_2021-11-18.csv is already exist.\n",
      "To overwrite existing file, use `overwrite=True`.\n",
      "PROTEIN_GENE: P68431_H3C1\n",
      "2021-11-18 13:00:07 |\u001b[32m INFO     \u001b[0m| helpers.helpers_analysis.mutual_exclusivity | Calculating Mutual Exclusivity over P68431's interactors ..\n",
      "2021-11-18 13:00:07 |\u001b[36m DEBUG    \u001b[0m| helpers.helpers_analysis.mutual_exclusivity | P68431 have 11 interactors:\n",
      "['P62805:H4C1', 'Q9UER7:DAXX', 'P04908:H2AC4', 'P16104:H2AX', 'P0C0S8:H2AC11', 'O75367:MACROH2A1', 'P0C0S5:H2AZ1', 'Q16777:H2AC20', 'Q9Y294:ASF1A', 'Q9NVP2:ASF1B', 'P49450:CENPA']\n",
      "2021-11-18 13:00:07 |\u001b[32m INFO     \u001b[0m| helpers.helpers_analysis.mutual_exclusivity | Calculating Mutual Exclusivity over P68431's interactors ..\n",
      "2021-11-18 13:00:07 |\u001b[36m DEBUG    \u001b[0m| helpers.helpers_analysis.mutual_exclusivity | P68431 have 11 interactors:\n",
      "['P62805:H4C1', 'Q9UER7:DAXX', 'P04908:H2AC4', 'P16104:H2AX', 'P0C0S8:H2AC11', 'O75367:MACROH2A1', 'P0C0S5:H2AZ1', 'Q16777:H2AC20', 'Q9Y294:ASF1A', 'Q9NVP2:ASF1B', 'P49450:CENPA']\n",
      "2021-11-18 13:00:07 |\u001b[36m DEBUG    \u001b[0m| helpers.helpers_analysis.mutual_exclusivity | Exporting Mutual Exclusivity BRCA P68431 ..\n",
      "2021-11-18 13:00:07 |\u001b[33m WARNING  \u001b[0m| helpers.helpers_analysis.mutual_exclusivity | File dev\\mutex2\\BRCA_P68431_H3C1_2021-11-18.csv is already exist.\n",
      "To overwrite existing file, use `overwrite=True`.\n",
      "PROTEIN_GENE: Q13951_CBFB\n",
      "2021-11-18 13:00:07 |\u001b[32m INFO     \u001b[0m| helpers.helpers_analysis.mutual_exclusivity | Calculating Mutual Exclusivity over Q13951's interactors ..\n",
      "2021-11-18 13:00:07 |\u001b[36m DEBUG    \u001b[0m| helpers.helpers_analysis.mutual_exclusivity | Q13951 have 2 interactors:\n",
      "['Q13950:RUNX2', 'Q13761:RUNX3']\n",
      "2021-11-18 13:00:08 |\u001b[32m INFO     \u001b[0m| helpers.helpers_analysis.mutual_exclusivity | Calculating Mutual Exclusivity over Q13951's interactors ..\n",
      "2021-11-18 13:00:08 |\u001b[36m DEBUG    \u001b[0m| helpers.helpers_analysis.mutual_exclusivity | Q13951 have 2 interactors:\n",
      "['Q13950:RUNX2', 'Q13761:RUNX3']\n",
      "2021-11-18 13:00:08 |\u001b[36m DEBUG    \u001b[0m| helpers.helpers_analysis.mutual_exclusivity | Exporting Mutual Exclusivity BRCA Q13951 ..\n",
      "2021-11-18 13:00:08 |\u001b[33m WARNING  \u001b[0m| helpers.helpers_analysis.mutual_exclusivity | File dev\\mutex2\\BRCA_Q13951_CBFB_2021-11-18.csv is already exist.\n",
      "To overwrite existing file, use `overwrite=True`.\n",
      "PROTEIN_GENE: Q14790_CASP8\n",
      "2021-11-18 13:00:08 |\u001b[32m INFO     \u001b[0m| helpers.helpers_analysis.mutual_exclusivity | Calculating Mutual Exclusivity over Q14790's interactors ..\n",
      "2021-11-18 13:00:08 |\u001b[36m DEBUG    \u001b[0m| helpers.helpers_analysis.mutual_exclusivity | Q14790 have 5 interactors:\n",
      "['P42575:CASP2', 'P49662:CASP4', 'P55211:CASP9', 'P55210:CASP7', 'B4DWA2:nan']\n",
      "2021-11-18 13:00:08 |\u001b[32m INFO     \u001b[0m| helpers.helpers_analysis.mutual_exclusivity | Calculating Mutual Exclusivity over Q14790's interactors ..\n",
      "2021-11-18 13:00:08 |\u001b[36m DEBUG    \u001b[0m| helpers.helpers_analysis.mutual_exclusivity | Q14790 have 5 interactors:\n",
      "['P42575:CASP2', 'P49662:CASP4', 'P55211:CASP9', 'P55210:CASP7', 'B4DWA2:nan']\n",
      "2021-11-18 13:00:08 |\u001b[36m DEBUG    \u001b[0m| helpers.helpers_analysis.mutual_exclusivity | Exporting Mutual Exclusivity BRCA Q14790 ..\n",
      "2021-11-18 13:00:08 |\u001b[33m WARNING  \u001b[0m| helpers.helpers_analysis.mutual_exclusivity | File dev\\mutex2\\BRCA_Q14790_CASP8_2021-11-18.csv is already exist.\n",
      "To overwrite existing file, use `overwrite=True`.\n",
      "Completed.\n"
     ]
    }
   ],
   "source": [
    "# BRCA\n",
    "export_mutex_data_for_selected_genes(BRCA_PRELIMINARY_DATA_PATH, brca_mutex)"
   ]
  },
  {
   "cell_type": "code",
   "execution_count": 21,
   "id": "6253fdc6-7f81-4fd5-ae71-0ef5db4a7652",
   "metadata": {
    "scrolled": true,
    "tags": []
   },
   "outputs": [
    {
     "name": "stdout",
     "output_type": "stream",
     "text": [
      "PROTEIN_GENE: P04637_TP53\n",
      "2021-11-18 13:00:30 |\u001b[32m INFO     \u001b[0m| helpers.helpers_analysis.mutual_exclusivity | Calculating Mutual Exclusivity over P04637's interactors ..\n",
      "2021-11-18 13:00:30 |\u001b[36m DEBUG    \u001b[0m| helpers.helpers_analysis.mutual_exclusivity | P04637 have 17 interactors:\n",
      "['Q13625:TP53BP2', 'Q96KQ4:PPP1R13B', 'P62993:GRB2', 'Q06187:BTK', 'P07948:LYN', 'Q8WUF5:PPP1R13L', 'Q9H3D4:TP63', 'H2EHT1:TP53', 'K7PPA8:TP53', 'Q96KQ7:EHMT2', 'O15350:TP73', 'O75832:PSMD10', 'Q99466:NOTCH4', 'Q9H9B1:EHMT1', 'Q99728:BARD1', 'Q9ULT8:HECTD1', 'Q53GA5:nan']\n",
      "2021-11-18 13:00:30 |\u001b[32m INFO     \u001b[0m| helpers.helpers_analysis.mutual_exclusivity | Calculating Mutual Exclusivity over P04637's interactors ..\n",
      "2021-11-18 13:00:30 |\u001b[36m DEBUG    \u001b[0m| helpers.helpers_analysis.mutual_exclusivity | P04637 have 17 interactors:\n",
      "['Q13625:TP53BP2', 'Q96KQ4:PPP1R13B', 'P62993:GRB2', 'Q06187:BTK', 'P07948:LYN', 'Q8WUF5:PPP1R13L', 'Q9H3D4:TP63', 'H2EHT1:TP53', 'K7PPA8:TP53', 'Q96KQ7:EHMT2', 'O15350:TP73', 'O75832:PSMD10', 'Q99466:NOTCH4', 'Q9H9B1:EHMT1', 'Q99728:BARD1', 'Q9ULT8:HECTD1', 'Q53GA5:nan']\n",
      "2021-11-18 13:00:30 |\u001b[36m DEBUG    \u001b[0m| helpers.helpers_analysis.mutual_exclusivity | Exporting Mutual Exclusivity ESCA P04637 ..\n",
      "2021-11-18 13:00:30 |\u001b[32m INFO     \u001b[0m| helpers.helpers_analysis.mutual_exclusivity | dev\\mutex2\\ESCA_P04637_TP53_2021-11-18.csv is exported successfully.\n",
      "PROTEIN_GENE: P62805_H4C1\n",
      "2021-11-18 13:00:30 |\u001b[32m INFO     \u001b[0m| helpers.helpers_analysis.mutual_exclusivity | Calculating Mutual Exclusivity over P62805's interactors ..\n",
      "2021-11-18 13:00:30 |\u001b[36m DEBUG    \u001b[0m| helpers.helpers_analysis.mutual_exclusivity | P62805 have 11 interactors:\n",
      "['P68431:H3C1', 'Q9UER7:DAXX', 'Q53F85:nan', 'Q16514:TAF12', 'P06899:H2BC11', 'Q16778:H2BC21', 'P84243:H3-3A', 'Q16695:H3-4', 'Q71DI3:H3C15', 'P49450:CENPA', 'B4E1C1:nan']\n",
      "2021-11-18 13:00:30 |\u001b[32m INFO     \u001b[0m| helpers.helpers_analysis.mutual_exclusivity | Calculating Mutual Exclusivity over P62805's interactors ..\n",
      "2021-11-18 13:00:30 |\u001b[36m DEBUG    \u001b[0m| helpers.helpers_analysis.mutual_exclusivity | P62805 have 11 interactors:\n",
      "['P68431:H3C1', 'Q9UER7:DAXX', 'Q53F85:nan', 'Q16514:TAF12', 'P06899:H2BC11', 'Q16778:H2BC21', 'P84243:H3-3A', 'Q16695:H3-4', 'Q71DI3:H3C15', 'P49450:CENPA', 'B4E1C1:nan']\n",
      "2021-11-18 13:00:31 |\u001b[36m DEBUG    \u001b[0m| helpers.helpers_analysis.mutual_exclusivity | Exporting Mutual Exclusivity ESCA P62805 ..\n",
      "2021-11-18 13:00:31 |\u001b[32m INFO     \u001b[0m| helpers.helpers_analysis.mutual_exclusivity | dev\\mutex2\\ESCA_P62805_H4C1_2021-11-18.csv is exported successfully.\n",
      "Completed.\n"
     ]
    }
   ],
   "source": [
    "# ESCA\n",
    "export_mutex_data_for_selected_genes(ESCA_PRELIMINARY_DATA_PATH, esca_mutex)"
   ]
  },
  {
   "cell_type": "code",
   "execution_count": 22,
   "id": "b68b7247-d2eb-40d3-8628-9e3a1a3617d6",
   "metadata": {
    "scrolled": true,
    "tags": []
   },
   "outputs": [
    {
     "name": "stdout",
     "output_type": "stream",
     "text": [
      "PROTEIN_GENE: P04637_TP53\n",
      "2021-11-18 13:00:47 |\u001b[32m INFO     \u001b[0m| helpers.helpers_analysis.mutual_exclusivity | Calculating Mutual Exclusivity over P04637's interactors ..\n",
      "2021-11-18 13:00:47 |\u001b[36m DEBUG    \u001b[0m| helpers.helpers_analysis.mutual_exclusivity | P04637 have 19 interactors:\n",
      "['Q13625:TP53BP2', 'Q96KQ4:PPP1R13B', 'P62993:GRB2', 'P07948:LYN', 'Q9H3D4:TP63', 'Q8WUF5:PPP1R13L', 'Q06187:BTK', 'H2EHT1:TP53', 'K7PPA8:TP53', 'O15350:TP73', 'Q96KQ7:EHMT2', 'Q9H9B1:EHMT1', 'Q99728:BARD1', 'O75832:PSMD10', 'Q9ULT8:HECTD1', 'Q99466:NOTCH4', 'Q9GZV1:ANKRD2', 'P25963:NFKBIA', 'Q53GA5:nan']\n",
      "2021-11-18 13:00:48 |\u001b[32m INFO     \u001b[0m| helpers.helpers_analysis.mutual_exclusivity | Calculating Mutual Exclusivity over P04637's interactors ..\n",
      "2021-11-18 13:00:48 |\u001b[36m DEBUG    \u001b[0m| helpers.helpers_analysis.mutual_exclusivity | P04637 have 19 interactors:\n",
      "['Q13625:TP53BP2', 'Q96KQ4:PPP1R13B', 'P62993:GRB2', 'P07948:LYN', 'Q9H3D4:TP63', 'Q8WUF5:PPP1R13L', 'Q06187:BTK', 'H2EHT1:TP53', 'K7PPA8:TP53', 'O15350:TP73', 'Q96KQ7:EHMT2', 'Q9H9B1:EHMT1', 'Q99728:BARD1', 'O75832:PSMD10', 'Q9ULT8:HECTD1', 'Q99466:NOTCH4', 'Q9GZV1:ANKRD2', 'P25963:NFKBIA', 'Q53GA5:nan']\n",
      "2021-11-18 13:00:48 |\u001b[36m DEBUG    \u001b[0m| helpers.helpers_analysis.mutual_exclusivity | Exporting Mutual Exclusivity GBM P04637 ..\n",
      "2021-11-18 13:00:48 |\u001b[32m INFO     \u001b[0m| helpers.helpers_analysis.mutual_exclusivity | dev\\mutex2\\GBM_P04637_TP53_2021-11-18.csv is exported successfully.\n",
      "Completed.\n"
     ]
    }
   ],
   "source": [
    "# GBM\n",
    "export_mutex_data_for_selected_genes(GBM_PRELIMINARY_DATA_PATH, gbm_mutex)"
   ]
  },
  {
   "cell_type": "code",
   "execution_count": 23,
   "id": "5e185aa5-f22c-403e-8e95-a12d197c2f04",
   "metadata": {
    "scrolled": true,
    "tags": []
   },
   "outputs": [
    {
     "name": "stdout",
     "output_type": "stream",
     "text": [
      "PROTEIN_GENE: P01112_HRAS\n",
      "2021-11-18 13:01:04 |\u001b[32m INFO     \u001b[0m| helpers.helpers_analysis.mutual_exclusivity | Calculating Mutual Exclusivity over P01112's interactors ..\n",
      "2021-11-18 13:01:04 |\u001b[36m DEBUG    \u001b[0m| helpers.helpers_analysis.mutual_exclusivity | P01112 have 18 interactors:\n",
      "['Q07889:SOS1', 'Q07890:SOS2', 'G5E9C8:SOS1', 'Q13972:RASGRF1', 'Q9UJ41:RABGEF1', 'Q13671:RIN1', 'Q8IV61:RASGRP3', 'Q9NZL6:RGL1', 'Q12967:RALGDS', 'Q15811:ITSN1', 'P15498:VAV1', 'Q13905:RAPGEF1', 'Q13009:TIAM1', 'Q9P212:PLCE1', 'P10398:ARAF', 'P08069:IGF1R', 'P06239:LCK', 'O95267:RASGRP1']\n",
      "2021-11-18 13:01:04 |\u001b[32m INFO     \u001b[0m| helpers.helpers_analysis.mutual_exclusivity | Calculating Mutual Exclusivity over P01112's interactors ..\n",
      "2021-11-18 13:01:04 |\u001b[36m DEBUG    \u001b[0m| helpers.helpers_analysis.mutual_exclusivity | P01112 have 18 interactors:\n",
      "['Q07889:SOS1', 'Q07890:SOS2', 'G5E9C8:SOS1', 'Q13972:RASGRF1', 'Q9UJ41:RABGEF1', 'Q13671:RIN1', 'Q8IV61:RASGRP3', 'Q9NZL6:RGL1', 'Q12967:RALGDS', 'Q15811:ITSN1', 'P15498:VAV1', 'Q13905:RAPGEF1', 'Q13009:TIAM1', 'Q9P212:PLCE1', 'P10398:ARAF', 'P08069:IGF1R', 'P06239:LCK', 'O95267:RASGRP1']\n",
      "2021-11-18 13:01:05 |\u001b[36m DEBUG    \u001b[0m| helpers.helpers_analysis.mutual_exclusivity | Exporting Mutual Exclusivity HNSC P01112 ..\n",
      "2021-11-18 13:01:05 |\u001b[32m INFO     \u001b[0m| helpers.helpers_analysis.mutual_exclusivity | dev\\mutex2\\HNSC_P01112_HRAS_2021-11-18.csv is exported successfully.\n",
      "PROTEIN_GENE: P04637_TP53\n",
      "2021-11-18 13:01:05 |\u001b[32m INFO     \u001b[0m| helpers.helpers_analysis.mutual_exclusivity | Calculating Mutual Exclusivity over P04637's interactors ..\n",
      "2021-11-18 13:01:05 |\u001b[36m DEBUG    \u001b[0m| helpers.helpers_analysis.mutual_exclusivity | P04637 have 16 interactors:\n",
      "['Q96KQ4:PPP1R13B', 'Q13625:TP53BP2', 'P62993:GRB2', 'Q06187:BTK', 'Q8WUF5:PPP1R13L', 'Q9H3D4:TP63', 'P07948:LYN', 'H2EHT1:TP53', 'K7PPA8:TP53', 'Q96KQ7:EHMT2', 'O15350:TP73', 'Q9H9B1:EHMT1', 'Q99728:BARD1', 'O75832:PSMD10', 'Q9ULT8:HECTD1', 'Q99466:NOTCH4']\n",
      "2021-11-18 13:01:06 |\u001b[32m INFO     \u001b[0m| helpers.helpers_analysis.mutual_exclusivity | Calculating Mutual Exclusivity over P04637's interactors ..\n",
      "2021-11-18 13:01:06 |\u001b[36m DEBUG    \u001b[0m| helpers.helpers_analysis.mutual_exclusivity | P04637 have 16 interactors:\n",
      "['Q96KQ4:PPP1R13B', 'Q13625:TP53BP2', 'P62993:GRB2', 'Q06187:BTK', 'Q8WUF5:PPP1R13L', 'Q9H3D4:TP63', 'P07948:LYN', 'H2EHT1:TP53', 'K7PPA8:TP53', 'Q96KQ7:EHMT2', 'O15350:TP73', 'Q9H9B1:EHMT1', 'Q99728:BARD1', 'O75832:PSMD10', 'Q9ULT8:HECTD1', 'Q99466:NOTCH4']\n",
      "2021-11-18 13:01:06 |\u001b[36m DEBUG    \u001b[0m| helpers.helpers_analysis.mutual_exclusivity | Exporting Mutual Exclusivity HNSC P04637 ..\n",
      "2021-11-18 13:01:06 |\u001b[32m INFO     \u001b[0m| helpers.helpers_analysis.mutual_exclusivity | dev\\mutex2\\HNSC_P04637_TP53_2021-11-18.csv is exported successfully.\n",
      "PROTEIN_GENE: P05129_PRKCG\n",
      "2021-11-18 13:01:06 |\u001b[32m INFO     \u001b[0m| helpers.helpers_analysis.mutual_exclusivity | Calculating Mutual Exclusivity over P05129's interactors ..\n",
      "2021-11-18 13:01:06 |\u001b[36m DEBUG    \u001b[0m| helpers.helpers_analysis.mutual_exclusivity | P05129 have 11 interactors:\n",
      "['P10398:ARAF', 'P22694:PRKACB', 'P49840:GSK3A', 'P60953:CDC42', 'Q9P2D0:IBTK', 'P04049:RAF1', 'Q05397:PTK2', 'Q14289:PTK2B', 'P51817:PRKX', 'P51178:PLCD1', 'Q9BRC7:PLCD4']\n",
      "2021-11-18 13:01:06 |\u001b[32m INFO     \u001b[0m| helpers.helpers_analysis.mutual_exclusivity | Calculating Mutual Exclusivity over P05129's interactors ..\n",
      "2021-11-18 13:01:06 |\u001b[36m DEBUG    \u001b[0m| helpers.helpers_analysis.mutual_exclusivity | P05129 have 11 interactors:\n",
      "['P10398:ARAF', 'P22694:PRKACB', 'P49840:GSK3A', 'P60953:CDC42', 'Q9P2D0:IBTK', 'P04049:RAF1', 'Q05397:PTK2', 'Q14289:PTK2B', 'P51817:PRKX', 'P51178:PLCD1', 'Q9BRC7:PLCD4']\n",
      "2021-11-18 13:01:07 |\u001b[36m DEBUG    \u001b[0m| helpers.helpers_analysis.mutual_exclusivity | Exporting Mutual Exclusivity HNSC P05129 ..\n",
      "2021-11-18 13:01:07 |\u001b[32m INFO     \u001b[0m| helpers.helpers_analysis.mutual_exclusivity | dev\\mutex2\\HNSC_P05129_PRKCG_2021-11-18.csv is exported successfully.\n",
      "PROTEIN_GENE: P15056_BRAF\n",
      "2021-11-18 13:01:07 |\u001b[32m INFO     \u001b[0m| helpers.helpers_analysis.mutual_exclusivity | Calculating Mutual Exclusivity over P15056's interactors ..\n",
      "2021-11-18 13:01:07 |\u001b[36m DEBUG    \u001b[0m| helpers.helpers_analysis.mutual_exclusivity | P15056 have 5 interactors:\n",
      "['Q13177:PAK2', 'P17252:PRKCA', 'P53667:LIMK1', 'P36507:MAP2K2', 'A4QPA9:MAP2K1']\n",
      "2021-11-18 13:01:07 |\u001b[32m INFO     \u001b[0m| helpers.helpers_analysis.mutual_exclusivity | Calculating Mutual Exclusivity over P15056's interactors ..\n",
      "2021-11-18 13:01:07 |\u001b[36m DEBUG    \u001b[0m| helpers.helpers_analysis.mutual_exclusivity | P15056 have 5 interactors:\n",
      "['Q13177:PAK2', 'P17252:PRKCA', 'P53667:LIMK1', 'P36507:MAP2K2', 'A4QPA9:MAP2K1']\n",
      "2021-11-18 13:01:07 |\u001b[36m DEBUG    \u001b[0m| helpers.helpers_analysis.mutual_exclusivity | Exporting Mutual Exclusivity HNSC P15056 ..\n",
      "2021-11-18 13:01:07 |\u001b[32m INFO     \u001b[0m| helpers.helpers_analysis.mutual_exclusivity | dev\\mutex2\\HNSC_P15056_BRAF_2021-11-18.csv is exported successfully.\n",
      "PROTEIN_GENE: P22607_FGFR3\n",
      "2021-11-18 13:01:07 |\u001b[32m INFO     \u001b[0m| helpers.helpers_analysis.mutual_exclusivity | Calculating Mutual Exclusivity over P22607's interactors ..\n",
      "2021-11-18 13:01:07 |\u001b[36m DEBUG    \u001b[0m| helpers.helpers_analysis.mutual_exclusivity | P22607 have 12 interactors:\n",
      "['P09038:FGF2', 'P10767:FGF6', 'P05230:FGF1', 'P61328:FGF12', 'A1A515:FGF8', 'P55075:FGF8', 'P08620:FGF4', 'A8K147:nan', 'Q9GZV9:FGF23', 'O95750:FGF19', 'P11487:FGF3', 'O15524:SOCS1']\n",
      "2021-11-18 13:01:07 |\u001b[32m INFO     \u001b[0m| helpers.helpers_analysis.mutual_exclusivity | Calculating Mutual Exclusivity over P22607's interactors ..\n",
      "2021-11-18 13:01:07 |\u001b[36m DEBUG    \u001b[0m| helpers.helpers_analysis.mutual_exclusivity | P22607 have 12 interactors:\n",
      "['P09038:FGF2', 'P10767:FGF6', 'P05230:FGF1', 'P61328:FGF12', 'A1A515:FGF8', 'P55075:FGF8', 'P08620:FGF4', 'A8K147:nan', 'Q9GZV9:FGF23', 'O95750:FGF19', 'P11487:FGF3', 'O15524:SOCS1']\n",
      "2021-11-18 13:01:08 |\u001b[36m DEBUG    \u001b[0m| helpers.helpers_analysis.mutual_exclusivity | Exporting Mutual Exclusivity HNSC P22607 ..\n",
      "2021-11-18 13:01:08 |\u001b[32m INFO     \u001b[0m| helpers.helpers_analysis.mutual_exclusivity | dev\\mutex2\\HNSC_P22607_FGFR3_2021-11-18.csv is exported successfully.\n",
      "PROTEIN_GENE: P42771_CDKN2A\n",
      "2021-11-18 13:01:08 |\u001b[32m INFO     \u001b[0m| helpers.helpers_analysis.mutual_exclusivity | Calculating Mutual Exclusivity over P42771's interactors ..\n",
      "2021-11-18 13:01:08 |\u001b[36m DEBUG    \u001b[0m| helpers.helpers_analysis.mutual_exclusivity | P42771 have 23 interactors:\n",
      "['P11802:CDK4', 'P29320:EPHA3', 'O14920:IKBKB', 'P17252:PRKCA', 'A4D1G0:CDK6', 'Q00534:CDK6', 'A1L4K2:MAPK8', 'Q9UQ88:CDK11A', 'P45983:MAPK8', 'O14965:AURKA', 'B2R6V2:nan', 'P49760:CLK2', 'P53779:MAPK10', 'O00311:CDC7', 'Q8NE63:HIPK4', 'A8MWW6:nan', 'Q14164:IKBKE', 'Q9Y463:DYRK1B', 'P07437:TUBB', 'Q499Y8:MAPK10', 'Q71U36:TUBA1A', 'Q9BQE3:TUBA1C', 'P68371:TUBB4B']\n",
      "2021-11-18 13:01:08 |\u001b[32m INFO     \u001b[0m| helpers.helpers_analysis.mutual_exclusivity | Calculating Mutual Exclusivity over P42771's interactors ..\n",
      "2021-11-18 13:01:08 |\u001b[36m DEBUG    \u001b[0m| helpers.helpers_analysis.mutual_exclusivity | P42771 have 23 interactors:\n",
      "['P11802:CDK4', 'P29320:EPHA3', 'O14920:IKBKB', 'P17252:PRKCA', 'A4D1G0:CDK6', 'Q00534:CDK6', 'A1L4K2:MAPK8', 'Q9UQ88:CDK11A', 'P45983:MAPK8', 'O14965:AURKA', 'B2R6V2:nan', 'P49760:CLK2', 'P53779:MAPK10', 'O00311:CDC7', 'Q8NE63:HIPK4', 'A8MWW6:nan', 'Q14164:IKBKE', 'Q9Y463:DYRK1B', 'P07437:TUBB', 'Q499Y8:MAPK10', 'Q71U36:TUBA1A', 'Q9BQE3:TUBA1C', 'P68371:TUBB4B']\n",
      "2021-11-18 13:01:09 |\u001b[36m DEBUG    \u001b[0m| helpers.helpers_analysis.mutual_exclusivity | Exporting Mutual Exclusivity HNSC P42771 ..\n",
      "2021-11-18 13:01:09 |\u001b[32m INFO     \u001b[0m| helpers.helpers_analysis.mutual_exclusivity | dev\\mutex2\\HNSC_P42771_CDKN2A_2021-11-18.csv is exported successfully.\n",
      "PROTEIN_GENE: P61586_RHOA\n",
      "2021-11-18 13:01:09 |\u001b[32m INFO     \u001b[0m| helpers.helpers_analysis.mutual_exclusivity | Calculating Mutual Exclusivity over P61586's interactors ..\n",
      "2021-11-18 13:01:09 |\u001b[36m DEBUG    \u001b[0m| helpers.helpers_analysis.mutual_exclusivity | P61586 have 15 interactors:\n",
      "['Q16513:PKN2', 'O14578:CIT', 'O75962:TRIO', 'P17612:PRKACA', 'Q9Y4D1:DAAM1', 'Q9NSV4:DIAPH3', 'P52565:ARHGDIA', 'P52566:ARHGDIB', 'Q99819:ARHGDIG', 'O15068:MCF2L', 'O43157:PLXNB1', 'Q7Z628:NET1', 'O60610:DIAPH1', 'Q5S007:LRRK2', 'Q07960:ARHGAP1']\n",
      "2021-11-18 13:01:09 |\u001b[32m INFO     \u001b[0m| helpers.helpers_analysis.mutual_exclusivity | Calculating Mutual Exclusivity over P61586's interactors ..\n",
      "2021-11-18 13:01:09 |\u001b[36m DEBUG    \u001b[0m| helpers.helpers_analysis.mutual_exclusivity | P61586 have 15 interactors:\n",
      "['Q16513:PKN2', 'O14578:CIT', 'O75962:TRIO', 'P17612:PRKACA', 'Q9Y4D1:DAAM1', 'Q9NSV4:DIAPH3', 'P52565:ARHGDIA', 'P52566:ARHGDIB', 'Q99819:ARHGDIG', 'O15068:MCF2L', 'O43157:PLXNB1', 'Q7Z628:NET1', 'O60610:DIAPH1', 'Q5S007:LRRK2', 'Q07960:ARHGAP1']\n",
      "2021-11-18 13:01:10 |\u001b[36m DEBUG    \u001b[0m| helpers.helpers_analysis.mutual_exclusivity | Exporting Mutual Exclusivity HNSC P61586 ..\n",
      "2021-11-18 13:01:10 |\u001b[32m INFO     \u001b[0m| helpers.helpers_analysis.mutual_exclusivity | dev\\mutex2\\HNSC_P61586_RHOA_2021-11-18.csv is exported successfully.\n",
      "PROTEIN_GENE: P62805_H4C1\n",
      "2021-11-18 13:01:10 |\u001b[32m INFO     \u001b[0m| helpers.helpers_analysis.mutual_exclusivity | Calculating Mutual Exclusivity over P62805's interactors ..\n",
      "2021-11-18 13:01:10 |\u001b[36m DEBUG    \u001b[0m| helpers.helpers_analysis.mutual_exclusivity | P62805 have 17 interactors:\n",
      "['P84243:H3-3A', 'P68431:H3C1', 'Q9UER7:DAXX', 'Q53F85:nan', 'Q16695:H3-4', 'Q71DI3:H3C15', 'P49450:CENPA', 'B4E1C1:nan', 'Q16514:TAF12', 'P06899:H2BC11', 'Q16778:H2BC21', 'P04908:H2AC4', 'P16104:H2AX', 'P0C0S5:H2AZ1', 'Q9Y294:ASF1A', 'Q16777:H2AC20', 'Q9NVP2:ASF1B']\n",
      "2021-11-18 13:01:10 |\u001b[32m INFO     \u001b[0m| helpers.helpers_analysis.mutual_exclusivity | Calculating Mutual Exclusivity over P62805's interactors ..\n",
      "2021-11-18 13:01:10 |\u001b[36m DEBUG    \u001b[0m| helpers.helpers_analysis.mutual_exclusivity | P62805 have 17 interactors:\n",
      "['P84243:H3-3A', 'P68431:H3C1', 'Q9UER7:DAXX', 'Q53F85:nan', 'Q16695:H3-4', 'Q71DI3:H3C15', 'P49450:CENPA', 'B4E1C1:nan', 'Q16514:TAF12', 'P06899:H2BC11', 'Q16778:H2BC21', 'P04908:H2AC4', 'P16104:H2AX', 'P0C0S5:H2AZ1', 'Q9Y294:ASF1A', 'Q16777:H2AC20', 'Q9NVP2:ASF1B']\n",
      "2021-11-18 13:01:11 |\u001b[36m DEBUG    \u001b[0m| helpers.helpers_analysis.mutual_exclusivity | Exporting Mutual Exclusivity HNSC P62805 ..\n",
      "2021-11-18 13:01:11 |\u001b[32m INFO     \u001b[0m| helpers.helpers_analysis.mutual_exclusivity | dev\\mutex2\\HNSC_P62805_H4C1_2021-11-18.csv is exported successfully.\n",
      "PROTEIN_GENE: P63000_RAC1\n",
      "2021-11-18 13:01:11 |\u001b[32m INFO     \u001b[0m| helpers.helpers_analysis.mutual_exclusivity | Calculating Mutual Exclusivity over P63000's interactors ..\n",
      "2021-11-18 13:01:11 |\u001b[36m DEBUG    \u001b[0m| helpers.helpers_analysis.mutual_exclusivity | P63000 have 7 interactors:\n",
      "['Q17R89:ARHGAP44', 'Q8NF50:DOCK8', 'Q13972:RASGRF1', 'Q14185:DOCK1', 'Q92608:DOCK2', 'Q15286:RAB35', 'O14559:ARHGAP33']\n",
      "2021-11-18 13:01:11 |\u001b[32m INFO     \u001b[0m| helpers.helpers_analysis.mutual_exclusivity | Calculating Mutual Exclusivity over P63000's interactors ..\n",
      "2021-11-18 13:01:11 |\u001b[36m DEBUG    \u001b[0m| helpers.helpers_analysis.mutual_exclusivity | P63000 have 7 interactors:\n",
      "['Q17R89:ARHGAP44', 'Q8NF50:DOCK8', 'Q13972:RASGRF1', 'Q14185:DOCK1', 'Q92608:DOCK2', 'Q15286:RAB35', 'O14559:ARHGAP33']\n",
      "2021-11-18 13:01:11 |\u001b[36m DEBUG    \u001b[0m| helpers.helpers_analysis.mutual_exclusivity | Exporting Mutual Exclusivity HNSC P63000 ..\n",
      "2021-11-18 13:01:11 |\u001b[32m INFO     \u001b[0m| helpers.helpers_analysis.mutual_exclusivity | dev\\mutex2\\HNSC_P63000_RAC1_2021-11-18.csv is exported successfully.\n",
      "PROTEIN_GENE: Q16288_NTRK3\n",
      "2021-11-18 13:01:11 |\u001b[32m INFO     \u001b[0m| helpers.helpers_analysis.mutual_exclusivity | Calculating Mutual Exclusivity over Q16288's interactors ..\n",
      "2021-11-18 13:01:11 |\u001b[36m DEBUG    \u001b[0m| helpers.helpers_analysis.mutual_exclusivity | Q16288 have 1 interactors:\n",
      "['P27361:MAPK3']\n",
      "2021-11-18 13:01:11 |\u001b[32m INFO     \u001b[0m| helpers.helpers_analysis.mutual_exclusivity | Calculating Mutual Exclusivity over Q16288's interactors ..\n",
      "2021-11-18 13:01:11 |\u001b[36m DEBUG    \u001b[0m| helpers.helpers_analysis.mutual_exclusivity | Q16288 have 1 interactors:\n",
      "['P27361:MAPK3']\n",
      "2021-11-18 13:01:11 |\u001b[36m DEBUG    \u001b[0m| helpers.helpers_analysis.mutual_exclusivity | Exporting Mutual Exclusivity HNSC Q16288 ..\n",
      "2021-11-18 13:01:11 |\u001b[32m INFO     \u001b[0m| helpers.helpers_analysis.mutual_exclusivity | dev\\mutex2\\HNSC_Q16288_NTRK3_2021-11-18.csv is exported successfully.\n",
      "PROTEIN_GENE: Q7Z6Z7_HUWE1\n",
      "2021-11-18 13:01:11 |\u001b[32m INFO     \u001b[0m| helpers.helpers_analysis.mutual_exclusivity | Calculating Mutual Exclusivity over Q7Z6Z7's interactors ..\n",
      "2021-11-18 13:01:11 |\u001b[36m DEBUG    \u001b[0m| helpers.helpers_analysis.mutual_exclusivity | Q7Z6Z7 have 8 interactors:\n",
      "['P62837:UBE2D2', 'P61077:UBE2D3', 'P54725:RAD23A', 'P11441:UBL4A', 'Q969T4:UBE2E3', 'P51668:UBE2D1', 'P62253:UBE2G1', 'P68036:UBE2L3']\n",
      "2021-11-18 13:01:12 |\u001b[32m INFO     \u001b[0m| helpers.helpers_analysis.mutual_exclusivity | Calculating Mutual Exclusivity over Q7Z6Z7's interactors ..\n",
      "2021-11-18 13:01:12 |\u001b[36m DEBUG    \u001b[0m| helpers.helpers_analysis.mutual_exclusivity | Q7Z6Z7 have 8 interactors:\n",
      "['P62837:UBE2D2', 'P61077:UBE2D3', 'P54725:RAD23A', 'P11441:UBL4A', 'Q969T4:UBE2E3', 'P51668:UBE2D1', 'P62253:UBE2G1', 'P68036:UBE2L3']\n",
      "2021-11-18 13:01:12 |\u001b[36m DEBUG    \u001b[0m| helpers.helpers_analysis.mutual_exclusivity | Exporting Mutual Exclusivity HNSC Q7Z6Z7 ..\n",
      "2021-11-18 13:01:12 |\u001b[32m INFO     \u001b[0m| helpers.helpers_analysis.mutual_exclusivity | dev\\mutex2\\HNSC_Q7Z6Z7_HUWE1_2021-11-18.csv is exported successfully.\n",
      "PROTEIN_GENE: Q969H0_FBXW7\n",
      "2021-11-18 13:01:12 |\u001b[32m INFO     \u001b[0m| helpers.helpers_analysis.mutual_exclusivity | Calculating Mutual Exclusivity over Q969H0's interactors ..\n",
      "2021-11-18 13:01:12 |\u001b[36m DEBUG    \u001b[0m| helpers.helpers_analysis.mutual_exclusivity | Q969H0 have 3 interactors:\n",
      "['P42345:MTOR', 'A6NE52:WDR97', 'P63244:RACK1']\n",
      "2021-11-18 13:01:12 |\u001b[32m INFO     \u001b[0m| helpers.helpers_analysis.mutual_exclusivity | Calculating Mutual Exclusivity over Q969H0's interactors ..\n",
      "2021-11-18 13:01:12 |\u001b[36m DEBUG    \u001b[0m| helpers.helpers_analysis.mutual_exclusivity | Q969H0 have 3 interactors:\n",
      "['P42345:MTOR', 'A6NE52:WDR97', 'P63244:RACK1']\n",
      "2021-11-18 13:01:12 |\u001b[36m DEBUG    \u001b[0m| helpers.helpers_analysis.mutual_exclusivity | Exporting Mutual Exclusivity HNSC Q969H0 ..\n",
      "2021-11-18 13:01:12 |\u001b[32m INFO     \u001b[0m| helpers.helpers_analysis.mutual_exclusivity | dev\\mutex2\\HNSC_Q969H0_FBXW7_2021-11-18.csv is exported successfully.\n",
      "Completed.\n"
     ]
    }
   ],
   "source": [
    "# HNSC\n",
    "export_mutex_data_for_selected_genes(HNSC_PRELIMINARY_DATA_PATH, hnsc_mutex)"
   ]
  },
  {
   "cell_type": "code",
   "execution_count": 24,
   "id": "40cef0af-6e1f-44bd-a71f-c579cb03d0a5",
   "metadata": {
    "scrolled": true,
    "tags": []
   },
   "outputs": [
    {
     "name": "stdout",
     "output_type": "stream",
     "text": [
      "PROTEIN_GENE: P04637_TP53\n",
      "2021-11-18 13:01:16 |\u001b[32m INFO     \u001b[0m| helpers.helpers_analysis.mutual_exclusivity | Calculating Mutual Exclusivity over P04637's interactors ..\n",
      "2021-11-18 13:01:16 |\u001b[36m DEBUG    \u001b[0m| helpers.helpers_analysis.mutual_exclusivity | P04637 have 19 interactors:\n",
      "['Q13625:TP53BP2', 'Q96KQ4:PPP1R13B', 'P62993:GRB2', 'Q8WUF5:PPP1R13L', 'Q06187:BTK', 'P07948:LYN', 'Q9H3D4:TP63', 'H2EHT1:TP53', 'K7PPA8:TP53', 'O15350:TP73', 'Q96KQ7:EHMT2', 'O75832:PSMD10', 'Q9H9B1:EHMT1', 'Q99728:BARD1', 'Q9ULT8:HECTD1', 'Q99466:NOTCH4', 'Q53GA5:nan', 'Q9GZV1:ANKRD2', 'P25963:NFKBIA']\n",
      "2021-11-18 13:01:17 |\u001b[32m INFO     \u001b[0m| helpers.helpers_analysis.mutual_exclusivity | Calculating Mutual Exclusivity over P04637's interactors ..\n",
      "2021-11-18 13:01:17 |\u001b[36m DEBUG    \u001b[0m| helpers.helpers_analysis.mutual_exclusivity | P04637 have 19 interactors:\n",
      "['Q13625:TP53BP2', 'Q96KQ4:PPP1R13B', 'P62993:GRB2', 'Q8WUF5:PPP1R13L', 'Q06187:BTK', 'P07948:LYN', 'Q9H3D4:TP63', 'H2EHT1:TP53', 'K7PPA8:TP53', 'O15350:TP73', 'Q96KQ7:EHMT2', 'O75832:PSMD10', 'Q9H9B1:EHMT1', 'Q99728:BARD1', 'Q9ULT8:HECTD1', 'Q99466:NOTCH4', 'Q53GA5:nan', 'Q9GZV1:ANKRD2', 'P25963:NFKBIA']\n",
      "2021-11-18 13:01:17 |\u001b[36m DEBUG    \u001b[0m| helpers.helpers_analysis.mutual_exclusivity | Exporting Mutual Exclusivity OV P04637 ..\n",
      "2021-11-18 13:01:17 |\u001b[32m INFO     \u001b[0m| helpers.helpers_analysis.mutual_exclusivity | dev\\mutex2\\OV_P04637_TP53_2021-11-18.csv is exported successfully.\n",
      "PROTEIN_GENE: P35609_ACTN2\n",
      "2021-11-18 13:01:17 |\u001b[32m INFO     \u001b[0m| helpers.helpers_analysis.mutual_exclusivity | Calculating Mutual Exclusivity over P35609's interactors ..\n",
      "2021-11-18 13:01:17 |\u001b[36m DEBUG    \u001b[0m| helpers.helpers_analysis.mutual_exclusivity | P35609 have 4 interactors:\n",
      "['Q9UQM7:CAMK2A', 'Q13557:CAMK2D', 'P12814:ACTN1', 'Q08043:ACTN3']\n",
      "2021-11-18 13:01:17 |\u001b[32m INFO     \u001b[0m| helpers.helpers_analysis.mutual_exclusivity | Calculating Mutual Exclusivity over P35609's interactors ..\n",
      "2021-11-18 13:01:17 |\u001b[36m DEBUG    \u001b[0m| helpers.helpers_analysis.mutual_exclusivity | P35609 have 4 interactors:\n",
      "['Q9UQM7:CAMK2A', 'Q13557:CAMK2D', 'P12814:ACTN1', 'Q08043:ACTN3']\n",
      "2021-11-18 13:01:17 |\u001b[36m DEBUG    \u001b[0m| helpers.helpers_analysis.mutual_exclusivity | Exporting Mutual Exclusivity OV P35609 ..\n",
      "2021-11-18 13:01:17 |\u001b[32m INFO     \u001b[0m| helpers.helpers_analysis.mutual_exclusivity | dev\\mutex2\\OV_P35609_ACTN2_2021-11-18.csv is exported successfully.\n",
      "PROTEIN_GENE: P62805_H4C1\n",
      "2021-11-18 13:01:18 |\u001b[32m INFO     \u001b[0m| helpers.helpers_analysis.mutual_exclusivity | Calculating Mutual Exclusivity over P62805's interactors ..\n",
      "2021-11-18 13:01:18 |\u001b[36m DEBUG    \u001b[0m| helpers.helpers_analysis.mutual_exclusivity | P62805 have 18 interactors:\n",
      "['P84243:H3-3A', 'P68431:H3C1', 'P04908:H2AC4', 'Q16695:H3-4', 'Q71DI3:H3C15', 'P49450:CENPA', 'P0C0S5:H2AZ1', 'Q16777:H2AC20', 'Q9UER7:DAXX', 'B4E1C1:nan', 'Q53F85:nan', 'Q8NCD3:HJURP', 'Q16514:TAF12', 'P06899:H2BC11', 'Q16778:H2BC21', 'P16104:H2AX', 'Q9Y294:ASF1A', 'Q9NVP2:ASF1B']\n",
      "2021-11-18 13:01:18 |\u001b[32m INFO     \u001b[0m| helpers.helpers_analysis.mutual_exclusivity | Calculating Mutual Exclusivity over P62805's interactors ..\n",
      "2021-11-18 13:01:18 |\u001b[36m DEBUG    \u001b[0m| helpers.helpers_analysis.mutual_exclusivity | P62805 have 18 interactors:\n",
      "['P84243:H3-3A', 'P68431:H3C1', 'P04908:H2AC4', 'Q16695:H3-4', 'Q71DI3:H3C15', 'P49450:CENPA', 'P0C0S5:H2AZ1', 'Q16777:H2AC20', 'Q9UER7:DAXX', 'B4E1C1:nan', 'Q53F85:nan', 'Q8NCD3:HJURP', 'Q16514:TAF12', 'P06899:H2BC11', 'Q16778:H2BC21', 'P16104:H2AX', 'Q9Y294:ASF1A', 'Q9NVP2:ASF1B']\n",
      "2021-11-18 13:01:18 |\u001b[36m DEBUG    \u001b[0m| helpers.helpers_analysis.mutual_exclusivity | Exporting Mutual Exclusivity OV P62805 ..\n",
      "2021-11-18 13:01:18 |\u001b[32m INFO     \u001b[0m| helpers.helpers_analysis.mutual_exclusivity | dev\\mutex2\\OV_P62805_H4C1_2021-11-18.csv is exported successfully.\n",
      "Completed.\n"
     ]
    }
   ],
   "source": [
    "# OV\n",
    "export_mutex_data_for_selected_genes(OV_PRELIMINARY_DATA_PATH, ov_mutex)"
   ]
  },
  {
   "cell_type": "code",
   "execution_count": null,
   "id": "0cb741c7-af25-45e5-86f1-f896811c7c52",
   "metadata": {},
   "outputs": [],
   "source": []
  },
  {
   "cell_type": "code",
   "execution_count": null,
   "id": "f21683a4-224d-4d58-9095-d8eaaf419a1a",
   "metadata": {},
   "outputs": [],
   "source": []
  },
  {
   "cell_type": "code",
   "execution_count": null,
   "id": "650a20c5-0f41-4651-a09b-ce986e56cd93",
   "metadata": {},
   "outputs": [],
   "source": []
  },
  {
   "cell_type": "markdown",
   "id": "79d53416-687e-41b1-9b3d-360b8516cba1",
   "metadata": {},
   "source": [
    "======================================="
   ]
  },
  {
   "cell_type": "code",
   "execution_count": null,
   "id": "2635cd32-5d4b-4085-903f-b93b9da92922",
   "metadata": {},
   "outputs": [],
   "source": []
  },
  {
   "cell_type": "code",
   "execution_count": null,
   "id": "81f17aaf-d904-44df-ba7a-b5e3fe4a00a5",
   "metadata": {},
   "outputs": [],
   "source": []
  },
  {
   "cell_type": "code",
   "execution_count": null,
   "id": "ef7e504a-8c5f-4160-b494-93d39c086ea3",
   "metadata": {},
   "outputs": [],
   "source": []
  },
  {
   "cell_type": "code",
   "execution_count": null,
   "id": "32e0e76d-fc90-4a9a-a1d9-77a0cd446cae",
   "metadata": {},
   "outputs": [],
   "source": []
  },
  {
   "cell_type": "code",
   "execution_count": null,
   "id": "58d00967-20e2-4b14-b49b-f3a4c8ba1388",
   "metadata": {},
   "outputs": [],
   "source": []
  },
  {
   "cell_type": "code",
   "execution_count": null,
   "id": "a96c97a9-8eb6-40ab-a088-c50e0789cac5",
   "metadata": {},
   "outputs": [],
   "source": []
  },
  {
   "cell_type": "code",
   "execution_count": null,
   "id": "27a657b3-0d9f-4d3b-8097-4b2765d2e3b1",
   "metadata": {},
   "outputs": [],
   "source": []
  },
  {
   "cell_type": "code",
   "execution_count": null,
   "id": "1961682e-861b-4023-9b0f-b81474c63279",
   "metadata": {},
   "outputs": [],
   "source": []
  },
  {
   "cell_type": "code",
   "execution_count": null,
   "id": "b43e2f8d-e1cb-4bca-9f97-70bbcff048d5",
   "metadata": {},
   "outputs": [],
   "source": []
  },
  {
   "cell_type": "code",
   "execution_count": 11,
   "id": "c97d9e04-c989-4eb6-b605-87ac331bf478",
   "metadata": {},
   "outputs": [],
   "source": []
  },
  {
   "cell_type": "code",
   "execution_count": 12,
   "id": "0ac0658e-9d7d-4422-8385-0e91401f889b",
   "metadata": {},
   "outputs": [
    {
     "data": {
      "text/html": [
       "<div>\n",
       "<style scoped>\n",
       "    .dataframe tbody tr th:only-of-type {\n",
       "        vertical-align: middle;\n",
       "    }\n",
       "\n",
       "    .dataframe tbody tr th {\n",
       "        vertical-align: top;\n",
       "    }\n",
       "\n",
       "    .dataframe thead th {\n",
       "        text-align: right;\n",
       "    }\n",
       "</style>\n",
       "<table border=\"1\" class=\"dataframe\">\n",
       "  <thead>\n",
       "    <tr style=\"text-align: right;\">\n",
       "      <th></th>\n",
       "      <th>PROTEIN</th>\n",
       "      <th>GENE</th>\n",
       "      <th>NUM_ELASPIC_INTERFACE_ENTRIES</th>\n",
       "      <th>NUM_DISRUPTIVE_ENTRIES</th>\n",
       "      <th>NUM_INCR_NOEFF_ENTRIES</th>\n",
       "      <th>NUM_UNIQUE_INTERACTORS</th>\n",
       "      <th>PATIENT_CORE_COUNT</th>\n",
       "      <th>PATIENT_INTERFACE_COUNT</th>\n",
       "      <th>NUM_INTERFACE_PATIENTS_DISRUPTIVE_INTERACTOR</th>\n",
       "      <th>BASELINE</th>\n",
       "      <th>OUR_METHOD</th>\n",
       "      <th>OUR_METHOD/BASELINE</th>\n",
       "      <th>ELASPIC_COVERAGE</th>\n",
       "      <th>CGC_STATUS</th>\n",
       "      <th>CGC_STATUS (BRCA)</th>\n",
       "    </tr>\n",
       "  </thead>\n",
       "  <tbody>\n",
       "    <tr>\n",
       "      <th>0</th>\n",
       "      <td>A0AV96</td>\n",
       "      <td>RBM47</td>\n",
       "      <td>0</td>\n",
       "      <td>0</td>\n",
       "      <td>0</td>\n",
       "      <td>0</td>\n",
       "      <td>2</td>\n",
       "      <td>0</td>\n",
       "      <td>0</td>\n",
       "      <td>0</td>\n",
       "      <td>0</td>\n",
       "      <td>NaN</td>\n",
       "      <td>2</td>\n",
       "      <td>-</td>\n",
       "      <td>-</td>\n",
       "    </tr>\n",
       "    <tr>\n",
       "      <th>1</th>\n",
       "      <td>A0AVF1</td>\n",
       "      <td>TTC26</td>\n",
       "      <td>0</td>\n",
       "      <td>0</td>\n",
       "      <td>0</td>\n",
       "      <td>0</td>\n",
       "      <td>1</td>\n",
       "      <td>0</td>\n",
       "      <td>0</td>\n",
       "      <td>0</td>\n",
       "      <td>0</td>\n",
       "      <td>NaN</td>\n",
       "      <td>1</td>\n",
       "      <td>-</td>\n",
       "      <td>-</td>\n",
       "    </tr>\n",
       "    <tr>\n",
       "      <th>2</th>\n",
       "      <td>A0AVI2</td>\n",
       "      <td>FER1L5</td>\n",
       "      <td>0</td>\n",
       "      <td>0</td>\n",
       "      <td>0</td>\n",
       "      <td>0</td>\n",
       "      <td>6</td>\n",
       "      <td>0</td>\n",
       "      <td>0</td>\n",
       "      <td>0</td>\n",
       "      <td>0</td>\n",
       "      <td>NaN</td>\n",
       "      <td>6</td>\n",
       "      <td>-</td>\n",
       "      <td>-</td>\n",
       "    </tr>\n",
       "  </tbody>\n",
       "</table>\n",
       "</div>"
      ],
      "text/plain": [
       "  PROTEIN    GENE  NUM_ELASPIC_INTERFACE_ENTRIES  NUM_DISRUPTIVE_ENTRIES  \\\n",
       "0  A0AV96   RBM47                              0                       0   \n",
       "1  A0AVF1   TTC26                              0                       0   \n",
       "2  A0AVI2  FER1L5                              0                       0   \n",
       "\n",
       "   NUM_INCR_NOEFF_ENTRIES  NUM_UNIQUE_INTERACTORS  PATIENT_CORE_COUNT  \\\n",
       "0                       0                       0                   2   \n",
       "1                       0                       0                   1   \n",
       "2                       0                       0                   6   \n",
       "\n",
       "   PATIENT_INTERFACE_COUNT  NUM_INTERFACE_PATIENTS_DISRUPTIVE_INTERACTOR  \\\n",
       "0                        0                                             0   \n",
       "1                        0                                             0   \n",
       "2                        0                                             0   \n",
       "\n",
       "   BASELINE  OUR_METHOD  OUR_METHOD/BASELINE  ELASPIC_COVERAGE CGC_STATUS  \\\n",
       "0         0           0                  NaN                 2          -   \n",
       "1         0           0                  NaN                 1          -   \n",
       "2         0           0                  NaN                 6          -   \n",
       "\n",
       "  CGC_STATUS (BRCA)  \n",
       "0                 -  \n",
       "1                 -  \n",
       "2                 -  "
      ]
     },
     "execution_count": 12,
     "metadata": {},
     "output_type": "execute_result"
    }
   ],
   "source": [
    "brca_preliminary_data = pd.read_excel(BRCA_PRELIMINARY_DATA_PATH)\n",
    "brca_preliminary_data.head(3)"
   ]
  },
  {
   "cell_type": "code",
   "execution_count": 14,
   "id": "238c1cb6-a548-4ba2-8ecf-4313967d1541",
   "metadata": {},
   "outputs": [
    {
     "data": {
      "text/plain": [
       "[('O75582', 'RPS6KA5'),\n",
       " ('P04626', 'ERBB2'),\n",
       " ('P04637', 'TP53'),\n",
       " ('P0CG48', 'UBC'),\n",
       " ('P21860', 'ERBB3'),\n",
       " ('P42336', 'PIK3CA'),\n",
       " ('P45985', 'MAP2K4'),\n",
       " ('P62805', 'H4C1'),\n",
       " ('P62807', 'H2BC4'),\n",
       " ('P68431', 'H3C1'),\n",
       " ('Q13951', 'CBFB'),\n",
       " ('Q14790', 'CASP8')]"
      ]
     },
     "execution_count": 14,
     "metadata": {},
     "output_type": "execute_result"
    }
   ],
   "source": [
    "protein_gene_list = apply_filtering_conditions(brca_preliminary_data)\n",
    "protein_gene_list"
   ]
  },
  {
   "cell_type": "code",
   "execution_count": null,
   "id": "83b5d662-d4aa-47d4-8021-c6df5d20c25e",
   "metadata": {},
   "outputs": [],
   "source": []
  },
  {
   "cell_type": "code",
   "execution_count": 16,
   "id": "17c64dce-c72c-4613-ba99-6c53172f76fc",
   "metadata": {
    "scrolled": true,
    "tags": []
   },
   "outputs": [
    {
     "name": "stdout",
     "output_type": "stream",
     "text": [
      "PROTEIN_GENE: O75582_RPS6KA5\n",
      "2021-11-18 12:43:28 |\u001b[32m INFO     \u001b[0m| helpers.helpers_analysis.mutual_exclusivity | Calculating Mutual Exclusivity over O75582's interactors ..\n",
      "2021-11-18 12:43:28 |\u001b[36m DEBUG    \u001b[0m| helpers.helpers_analysis.mutual_exclusivity | O75582 have 6 interactors:\n",
      "['Q15759:MAPK11', 'Q15418:RPS6KA1', 'Q16539:MAPK14', 'L7RSM2:MAPK14', 'Q9UK32:RPS6KA6', 'P67870:CSNK2B']\n",
      "2021-11-18 12:43:28 |\u001b[32m INFO     \u001b[0m| helpers.helpers_analysis.mutual_exclusivity | Calculating Mutual Exclusivity over O75582's interactors ..\n",
      "2021-11-18 12:43:28 |\u001b[36m DEBUG    \u001b[0m| helpers.helpers_analysis.mutual_exclusivity | O75582 have 6 interactors:\n",
      "['Q15759:MAPK11', 'Q15418:RPS6KA1', 'Q16539:MAPK14', 'L7RSM2:MAPK14', 'Q9UK32:RPS6KA6', 'P67870:CSNK2B']\n",
      "2021-11-18 12:43:28 |\u001b[36m DEBUG    \u001b[0m| helpers.helpers_analysis.mutual_exclusivity | Exporting Mutual Exclusivity BRCA O75582 ..\n",
      "2021-11-18 12:43:28 |\u001b[33m WARNING  \u001b[0m| helpers.helpers_analysis.mutual_exclusivity | File dev\\mutex2\\BRCA_O75582_RPS6KA5_2021-11-18.csv is already exist.\n",
      "To overwrite existing file, use `overwrite=True`.\n",
      "PROTEIN_GENE: P04626_ERBB2\n",
      "2021-11-18 12:43:28 |\u001b[32m INFO     \u001b[0m| helpers.helpers_analysis.mutual_exclusivity | Calculating Mutual Exclusivity over P04626's interactors ..\n",
      "2021-11-18 12:43:28 |\u001b[36m DEBUG    \u001b[0m| helpers.helpers_analysis.mutual_exclusivity | P04626 have 15 interactors:\n",
      "['Q96SB4:SRPK1', 'P00533:EGFR', 'P51813:BMX', 'Q14289:PTK2B', 'P16591:FER', 'P06241:FYN', 'P08069:IGF1R', 'Q13153:PAK1', 'P42680:TEC', 'P21860:ERBB3', 'O60674:JAK2', 'P15153:RAC2', 'Q9UJM3:ERRFI1', 'Q92625:ANKS1A', 'P23458:JAK1']\n",
      "2021-11-18 12:43:29 |\u001b[32m INFO     \u001b[0m| helpers.helpers_analysis.mutual_exclusivity | Calculating Mutual Exclusivity over P04626's interactors ..\n",
      "2021-11-18 12:43:29 |\u001b[36m DEBUG    \u001b[0m| helpers.helpers_analysis.mutual_exclusivity | P04626 have 15 interactors:\n",
      "['Q96SB4:SRPK1', 'P00533:EGFR', 'P51813:BMX', 'Q14289:PTK2B', 'P16591:FER', 'P06241:FYN', 'P08069:IGF1R', 'Q13153:PAK1', 'P42680:TEC', 'P21860:ERBB3', 'O60674:JAK2', 'P15153:RAC2', 'Q9UJM3:ERRFI1', 'Q92625:ANKS1A', 'P23458:JAK1']\n",
      "2021-11-18 12:43:29 |\u001b[36m DEBUG    \u001b[0m| helpers.helpers_analysis.mutual_exclusivity | Exporting Mutual Exclusivity BRCA P04626 ..\n",
      "2021-11-18 12:43:29 |\u001b[33m WARNING  \u001b[0m| helpers.helpers_analysis.mutual_exclusivity | File dev\\mutex2\\BRCA_P04626_ERBB2_2021-11-18.csv is already exist.\n",
      "To overwrite existing file, use `overwrite=True`.\n",
      "PROTEIN_GENE: P04637_TP53\n",
      "2021-11-18 12:43:29 |\u001b[32m INFO     \u001b[0m| helpers.helpers_analysis.mutual_exclusivity | Calculating Mutual Exclusivity over P04637's interactors ..\n",
      "2021-11-18 12:43:29 |\u001b[36m DEBUG    \u001b[0m| helpers.helpers_analysis.mutual_exclusivity | P04637 have 15 interactors:\n",
      "['Q13625:TP53BP2', 'Q96KQ4:PPP1R13B', 'P62993:GRB2', 'Q06187:BTK', 'Q8WUF5:PPP1R13L', 'Q9H3D4:TP63', 'H2EHT1:TP53', 'K7PPA8:TP53', 'Q96KQ7:EHMT2', 'O15350:TP73', 'P07948:LYN', 'Q9H9B1:EHMT1', 'Q99728:BARD1', 'O75832:PSMD10', 'Q9ULT8:HECTD1']\n",
      "2021-11-18 12:43:30 |\u001b[32m INFO     \u001b[0m| helpers.helpers_analysis.mutual_exclusivity | Calculating Mutual Exclusivity over P04637's interactors ..\n",
      "2021-11-18 12:43:30 |\u001b[36m DEBUG    \u001b[0m| helpers.helpers_analysis.mutual_exclusivity | P04637 have 15 interactors:\n",
      "['Q13625:TP53BP2', 'Q96KQ4:PPP1R13B', 'P62993:GRB2', 'Q06187:BTK', 'Q8WUF5:PPP1R13L', 'Q9H3D4:TP63', 'H2EHT1:TP53', 'K7PPA8:TP53', 'Q96KQ7:EHMT2', 'O15350:TP73', 'P07948:LYN', 'Q9H9B1:EHMT1', 'Q99728:BARD1', 'O75832:PSMD10', 'Q9ULT8:HECTD1']\n",
      "2021-11-18 12:43:30 |\u001b[36m DEBUG    \u001b[0m| helpers.helpers_analysis.mutual_exclusivity | Exporting Mutual Exclusivity BRCA P04637 ..\n",
      "2021-11-18 12:43:30 |\u001b[33m WARNING  \u001b[0m| helpers.helpers_analysis.mutual_exclusivity | File dev\\mutex2\\BRCA_P04637_TP53_2021-11-18.csv is already exist.\n",
      "To overwrite existing file, use `overwrite=True`.\n",
      "PROTEIN_GENE: P0CG48_UBC\n",
      "2021-11-18 12:43:30 |\u001b[32m INFO     \u001b[0m| helpers.helpers_analysis.mutual_exclusivity | Calculating Mutual Exclusivity over P0CG48's interactors ..\n",
      "2021-11-18 12:43:30 |\u001b[36m DEBUG    \u001b[0m| helpers.helpers_analysis.mutual_exclusivity | P0CG48 have 5 interactors:\n",
      "['P21734:UBC1', 'P61077:UBE2D3', 'Q9UMX0:UBQLN1', 'A8K3R3:nan', 'Q99816:TSG101']\n",
      "2021-11-18 12:43:30 |\u001b[32m INFO     \u001b[0m| helpers.helpers_analysis.mutual_exclusivity | Calculating Mutual Exclusivity over P0CG48's interactors ..\n",
      "2021-11-18 12:43:30 |\u001b[36m DEBUG    \u001b[0m| helpers.helpers_analysis.mutual_exclusivity | P0CG48 have 5 interactors:\n",
      "['P21734:UBC1', 'P61077:UBE2D3', 'Q9UMX0:UBQLN1', 'A8K3R3:nan', 'Q99816:TSG101']\n",
      "2021-11-18 12:43:31 |\u001b[36m DEBUG    \u001b[0m| helpers.helpers_analysis.mutual_exclusivity | Exporting Mutual Exclusivity BRCA P0CG48 ..\n",
      "2021-11-18 12:43:31 |\u001b[33m WARNING  \u001b[0m| helpers.helpers_analysis.mutual_exclusivity | File dev\\mutex2\\BRCA_P0CG48_UBC_2021-11-18.csv is already exist.\n",
      "To overwrite existing file, use `overwrite=True`.\n",
      "PROTEIN_GENE: P21860_ERBB3\n",
      "2021-11-18 12:43:31 |\u001b[32m INFO     \u001b[0m| helpers.helpers_analysis.mutual_exclusivity | Calculating Mutual Exclusivity over P21860's interactors ..\n",
      "2021-11-18 12:43:31 |\u001b[36m DEBUG    \u001b[0m| helpers.helpers_analysis.mutual_exclusivity | P21860 have 8 interactors:\n",
      "['Q00535:CDK5', 'P04626:ERBB2', 'Q15303:ERBB4', 'Q05397:PTK2', 'O60674:JAK2', 'P43403:ZAP70', 'P42681:TXK', 'P00533:EGFR']\n",
      "2021-11-18 12:43:31 |\u001b[32m INFO     \u001b[0m| helpers.helpers_analysis.mutual_exclusivity | Calculating Mutual Exclusivity over P21860's interactors ..\n",
      "2021-11-18 12:43:31 |\u001b[36m DEBUG    \u001b[0m| helpers.helpers_analysis.mutual_exclusivity | P21860 have 8 interactors:\n",
      "['Q00535:CDK5', 'P04626:ERBB2', 'Q15303:ERBB4', 'Q05397:PTK2', 'O60674:JAK2', 'P43403:ZAP70', 'P42681:TXK', 'P00533:EGFR']\n",
      "2021-11-18 12:43:31 |\u001b[36m DEBUG    \u001b[0m| helpers.helpers_analysis.mutual_exclusivity | Exporting Mutual Exclusivity BRCA P21860 ..\n",
      "2021-11-18 12:43:31 |\u001b[33m WARNING  \u001b[0m| helpers.helpers_analysis.mutual_exclusivity | File dev\\mutex2\\BRCA_P21860_ERBB3_2021-11-18.csv is already exist.\n",
      "To overwrite existing file, use `overwrite=True`.\n",
      "PROTEIN_GENE: P42336_PIK3CA\n",
      "2021-11-18 12:43:31 |\u001b[32m INFO     \u001b[0m| helpers.helpers_analysis.mutual_exclusivity | Calculating Mutual Exclusivity over P42336's interactors ..\n",
      "2021-11-18 12:43:31 |\u001b[36m DEBUG    \u001b[0m| helpers.helpers_analysis.mutual_exclusivity | P42336 have 4 interactors:\n",
      "['P27986:PIK3R1', 'O00459:PIK3R2', 'P43403:ZAP70', 'Q92569:PIK3R3']\n",
      "2021-11-18 12:43:31 |\u001b[32m INFO     \u001b[0m| helpers.helpers_analysis.mutual_exclusivity | Calculating Mutual Exclusivity over P42336's interactors ..\n",
      "2021-11-18 12:43:31 |\u001b[36m DEBUG    \u001b[0m| helpers.helpers_analysis.mutual_exclusivity | P42336 have 4 interactors:\n",
      "['P27986:PIK3R1', 'O00459:PIK3R2', 'P43403:ZAP70', 'Q92569:PIK3R3']\n",
      "2021-11-18 12:43:32 |\u001b[36m DEBUG    \u001b[0m| helpers.helpers_analysis.mutual_exclusivity | Exporting Mutual Exclusivity BRCA P42336 ..\n",
      "2021-11-18 12:43:32 |\u001b[33m WARNING  \u001b[0m| helpers.helpers_analysis.mutual_exclusivity | File dev\\mutex2\\BRCA_P42336_PIK3CA_2021-11-18.csv is already exist.\n",
      "To overwrite existing file, use `overwrite=True`.\n",
      "PROTEIN_GENE: P45985_MAP2K4\n",
      "2021-11-18 12:43:32 |\u001b[32m INFO     \u001b[0m| helpers.helpers_analysis.mutual_exclusivity | Calculating Mutual Exclusivity over P45985's interactors ..\n",
      "2021-11-18 12:43:32 |\u001b[36m DEBUG    \u001b[0m| helpers.helpers_analysis.mutual_exclusivity | P45985 have 7 interactors:\n",
      "['Q5S007:LRRK2', 'P52564:MAP2K6', 'Q16539:MAPK14', 'P00533:EGFR', 'P35916:FLT4', 'Q99558:MAP3K14', 'P45984:MAPK9']\n",
      "2021-11-18 12:43:32 |\u001b[32m INFO     \u001b[0m| helpers.helpers_analysis.mutual_exclusivity | Calculating Mutual Exclusivity over P45985's interactors ..\n",
      "2021-11-18 12:43:32 |\u001b[36m DEBUG    \u001b[0m| helpers.helpers_analysis.mutual_exclusivity | P45985 have 7 interactors:\n",
      "['Q5S007:LRRK2', 'P52564:MAP2K6', 'Q16539:MAPK14', 'P00533:EGFR', 'P35916:FLT4', 'Q99558:MAP3K14', 'P45984:MAPK9']\n",
      "2021-11-18 12:43:32 |\u001b[36m DEBUG    \u001b[0m| helpers.helpers_analysis.mutual_exclusivity | Exporting Mutual Exclusivity BRCA P45985 ..\n",
      "2021-11-18 12:43:32 |\u001b[33m WARNING  \u001b[0m| helpers.helpers_analysis.mutual_exclusivity | File dev\\mutex2\\BRCA_P45985_MAP2K4_2021-11-18.csv is already exist.\n",
      "To overwrite existing file, use `overwrite=True`.\n",
      "PROTEIN_GENE: P62805_H4C1\n",
      "2021-11-18 12:43:32 |\u001b[32m INFO     \u001b[0m| helpers.helpers_analysis.mutual_exclusivity | Calculating Mutual Exclusivity over P62805's interactors ..\n",
      "2021-11-18 12:43:32 |\u001b[36m DEBUG    \u001b[0m| helpers.helpers_analysis.mutual_exclusivity | P62805 have 16 interactors:\n",
      "['P68431:H3C1', 'P84243:H3-3A', 'Q71DI3:H3C15', 'Q16695:H3-4', 'P49450:CENPA', 'B4E1C1:nan', 'Q9UER7:DAXX', 'Q53F85:nan', 'Q16514:TAF12', 'P04908:H2AC4', 'P0C0S5:H2AZ1', 'Q16777:H2AC20', 'P06899:H2BC11', 'Q16778:H2BC21', 'P16104:H2AX', 'Q9Y294:ASF1A']\n",
      "2021-11-18 12:43:33 |\u001b[32m INFO     \u001b[0m| helpers.helpers_analysis.mutual_exclusivity | Calculating Mutual Exclusivity over P62805's interactors ..\n",
      "2021-11-18 12:43:33 |\u001b[36m DEBUG    \u001b[0m| helpers.helpers_analysis.mutual_exclusivity | P62805 have 16 interactors:\n",
      "['P68431:H3C1', 'P84243:H3-3A', 'Q71DI3:H3C15', 'Q16695:H3-4', 'P49450:CENPA', 'B4E1C1:nan', 'Q9UER7:DAXX', 'Q53F85:nan', 'Q16514:TAF12', 'P04908:H2AC4', 'P0C0S5:H2AZ1', 'Q16777:H2AC20', 'P06899:H2BC11', 'Q16778:H2BC21', 'P16104:H2AX', 'Q9Y294:ASF1A']\n",
      "2021-11-18 12:43:33 |\u001b[36m DEBUG    \u001b[0m| helpers.helpers_analysis.mutual_exclusivity | Exporting Mutual Exclusivity BRCA P62805 ..\n",
      "2021-11-18 12:43:33 |\u001b[33m WARNING  \u001b[0m| helpers.helpers_analysis.mutual_exclusivity | File dev\\mutex2\\BRCA_P62805_H4C1_2021-11-18.csv is already exist.\n",
      "To overwrite existing file, use `overwrite=True`.\n",
      "PROTEIN_GENE: P62807_H2BC4\n",
      "2021-11-18 12:43:33 |\u001b[32m INFO     \u001b[0m| helpers.helpers_analysis.mutual_exclusivity | Calculating Mutual Exclusivity over P62807's interactors ..\n",
      "2021-11-18 12:43:33 |\u001b[36m DEBUG    \u001b[0m| helpers.helpers_analysis.mutual_exclusivity | P62807 have 1 interactors:\n",
      "['P16104:H2AX']\n",
      "2021-11-18 12:43:33 |\u001b[32m INFO     \u001b[0m| helpers.helpers_analysis.mutual_exclusivity | Calculating Mutual Exclusivity over P62807's interactors ..\n",
      "2021-11-18 12:43:33 |\u001b[36m DEBUG    \u001b[0m| helpers.helpers_analysis.mutual_exclusivity | P62807 have 1 interactors:\n",
      "['P16104:H2AX']\n",
      "2021-11-18 12:43:34 |\u001b[36m DEBUG    \u001b[0m| helpers.helpers_analysis.mutual_exclusivity | Exporting Mutual Exclusivity BRCA P62807 ..\n",
      "2021-11-18 12:43:34 |\u001b[33m WARNING  \u001b[0m| helpers.helpers_analysis.mutual_exclusivity | File dev\\mutex2\\BRCA_P62807_H2BC4_2021-11-18.csv is already exist.\n",
      "To overwrite existing file, use `overwrite=True`.\n",
      "PROTEIN_GENE: P68431_H3C1\n",
      "2021-11-18 12:43:34 |\u001b[32m INFO     \u001b[0m| helpers.helpers_analysis.mutual_exclusivity | Calculating Mutual Exclusivity over P68431's interactors ..\n",
      "2021-11-18 12:43:34 |\u001b[36m DEBUG    \u001b[0m| helpers.helpers_analysis.mutual_exclusivity | P68431 have 11 interactors:\n",
      "['P62805:H4C1', 'Q9UER7:DAXX', 'P04908:H2AC4', 'P16104:H2AX', 'P0C0S8:H2AC11', 'O75367:MACROH2A1', 'P0C0S5:H2AZ1', 'Q16777:H2AC20', 'Q9Y294:ASF1A', 'Q9NVP2:ASF1B', 'P49450:CENPA']\n",
      "2021-11-18 12:43:34 |\u001b[32m INFO     \u001b[0m| helpers.helpers_analysis.mutual_exclusivity | Calculating Mutual Exclusivity over P68431's interactors ..\n",
      "2021-11-18 12:43:34 |\u001b[36m DEBUG    \u001b[0m| helpers.helpers_analysis.mutual_exclusivity | P68431 have 11 interactors:\n",
      "['P62805:H4C1', 'Q9UER7:DAXX', 'P04908:H2AC4', 'P16104:H2AX', 'P0C0S8:H2AC11', 'O75367:MACROH2A1', 'P0C0S5:H2AZ1', 'Q16777:H2AC20', 'Q9Y294:ASF1A', 'Q9NVP2:ASF1B', 'P49450:CENPA']\n",
      "2021-11-18 12:43:34 |\u001b[36m DEBUG    \u001b[0m| helpers.helpers_analysis.mutual_exclusivity | Exporting Mutual Exclusivity BRCA P68431 ..\n",
      "2021-11-18 12:43:34 |\u001b[33m WARNING  \u001b[0m| helpers.helpers_analysis.mutual_exclusivity | File dev\\mutex2\\BRCA_P68431_H3C1_2021-11-18.csv is already exist.\n",
      "To overwrite existing file, use `overwrite=True`.\n",
      "PROTEIN_GENE: Q13951_CBFB\n",
      "2021-11-18 12:43:34 |\u001b[32m INFO     \u001b[0m| helpers.helpers_analysis.mutual_exclusivity | Calculating Mutual Exclusivity over Q13951's interactors ..\n",
      "2021-11-18 12:43:34 |\u001b[36m DEBUG    \u001b[0m| helpers.helpers_analysis.mutual_exclusivity | Q13951 have 2 interactors:\n",
      "['Q13950:RUNX2', 'Q13761:RUNX3']\n",
      "2021-11-18 12:43:34 |\u001b[32m INFO     \u001b[0m| helpers.helpers_analysis.mutual_exclusivity | Calculating Mutual Exclusivity over Q13951's interactors ..\n",
      "2021-11-18 12:43:34 |\u001b[36m DEBUG    \u001b[0m| helpers.helpers_analysis.mutual_exclusivity | Q13951 have 2 interactors:\n",
      "['Q13950:RUNX2', 'Q13761:RUNX3']\n",
      "2021-11-18 12:43:34 |\u001b[36m DEBUG    \u001b[0m| helpers.helpers_analysis.mutual_exclusivity | Exporting Mutual Exclusivity BRCA Q13951 ..\n",
      "2021-11-18 12:43:34 |\u001b[33m WARNING  \u001b[0m| helpers.helpers_analysis.mutual_exclusivity | File dev\\mutex2\\BRCA_Q13951_CBFB_2021-11-18.csv is already exist.\n",
      "To overwrite existing file, use `overwrite=True`.\n",
      "PROTEIN_GENE: Q14790_CASP8\n",
      "2021-11-18 12:43:34 |\u001b[32m INFO     \u001b[0m| helpers.helpers_analysis.mutual_exclusivity | Calculating Mutual Exclusivity over Q14790's interactors ..\n",
      "2021-11-18 12:43:34 |\u001b[36m DEBUG    \u001b[0m| helpers.helpers_analysis.mutual_exclusivity | Q14790 have 5 interactors:\n",
      "['P42575:CASP2', 'P49662:CASP4', 'P55211:CASP9', 'P55210:CASP7', 'B4DWA2:nan']\n",
      "2021-11-18 12:43:35 |\u001b[32m INFO     \u001b[0m| helpers.helpers_analysis.mutual_exclusivity | Calculating Mutual Exclusivity over Q14790's interactors ..\n",
      "2021-11-18 12:43:35 |\u001b[36m DEBUG    \u001b[0m| helpers.helpers_analysis.mutual_exclusivity | Q14790 have 5 interactors:\n",
      "['P42575:CASP2', 'P49662:CASP4', 'P55211:CASP9', 'P55210:CASP7', 'B4DWA2:nan']\n",
      "2021-11-18 12:43:35 |\u001b[36m DEBUG    \u001b[0m| helpers.helpers_analysis.mutual_exclusivity | Exporting Mutual Exclusivity BRCA Q14790 ..\n",
      "2021-11-18 12:43:35 |\u001b[33m WARNING  \u001b[0m| helpers.helpers_analysis.mutual_exclusivity | File dev\\mutex2\\BRCA_Q14790_CASP8_2021-11-18.csv is already exist.\n",
      "To overwrite existing file, use `overwrite=True`.\n"
     ]
    }
   ],
   "source": [
    "for protein_gene in protein_gene_list:\n",
    "    protein, gene = protein_gene\n",
    "    print(f\"PROTEIN_GENE: {protein}_{gene}\")\n",
    "    brca_mutex.get_disruptive_mutual_exclusivity_data(protein)\n",
    "    brca_mutex.export_disruptive_mutual_exclusivity_data(\"dev\\mutex2\", protein)"
   ]
  },
  {
   "cell_type": "code",
   "execution_count": null,
   "id": "5129b96a-5ac3-405c-81e3-d95011276212",
   "metadata": {},
   "outputs": [],
   "source": []
  },
  {
   "cell_type": "code",
   "execution_count": null,
   "id": "2f2bc9b9-5f4b-45ba-9011-a6a789f56134",
   "metadata": {},
   "outputs": [],
   "source": []
  },
  {
   "cell_type": "markdown",
   "id": "9215171c-b0c6-4ffa-9221-01f94cf8d276",
   "metadata": {
    "tags": []
   },
   "source": [
    "### RPS6KA5"
   ]
  },
  {
   "cell_type": "code",
   "execution_count": 22,
   "id": "77d235d1-f043-4491-a0f6-746e08c2cc41",
   "metadata": {},
   "outputs": [
    {
     "data": {
      "text/plain": [
       "['O75582']"
      ]
     },
     "execution_count": 22,
     "metadata": {},
     "output_type": "execute_result"
    }
   ],
   "source": [
    "ProteinIDFetcher().fetch(\"RPS6KA5\")"
   ]
  },
  {
   "cell_type": "code",
   "execution_count": 28,
   "id": "035917ba-979d-46cc-a56a-f7ae4c7abca7",
   "metadata": {},
   "outputs": [
    {
     "name": "stdout",
     "output_type": "stream",
     "text": [
      "2021-11-13 21:32:59 |\u001b[32m INFO     \u001b[0m| helpers.helpers_analysis.mutual_exclusivity | Calculating Mutual Exclusivity over P04626's interactors ..\n",
      "2021-11-13 21:32:59 |\u001b[36m DEBUG    \u001b[0m| helpers.helpers_analysis.mutual_exclusivity | P04626 have 15 interactors:\n",
      "['Q96SB4:SRPK1', 'P00533:EGFR', 'P51813:BMX', 'Q14289:PTK2B', 'P16591:FER', 'P06241:FYN', 'P08069:IGF1R', 'Q13153:PAK1', 'P42680:TEC', 'P21860:ERBB3', 'O60674:JAK2', 'P15153:RAC2', 'Q9UJM3:ERRFI1', 'Q92625:ANKS1A', 'P23458:JAK1']\n"
     ]
    },
    {
     "data": {
      "text/html": [
       "<div>\n",
       "<style scoped>\n",
       "    .dataframe tbody tr th:only-of-type {\n",
       "        vertical-align: middle;\n",
       "    }\n",
       "\n",
       "    .dataframe tbody tr th {\n",
       "        vertical-align: top;\n",
       "    }\n",
       "\n",
       "    .dataframe thead th {\n",
       "        text-align: right;\n",
       "    }\n",
       "</style>\n",
       "<table border=\"1\" class=\"dataframe\">\n",
       "  <thead>\n",
       "    <tr style=\"text-align: right;\">\n",
       "      <th></th>\n",
       "      <th>PROTEIN:GENE</th>\n",
       "      <th>NUM_PATIENTS</th>\n",
       "      <th>INTERACTOR</th>\n",
       "      <th>NUM_PATIENTS_INTERACTOR</th>\n",
       "      <th>MUTUAL_EXCLUSIVITY</th>\n",
       "    </tr>\n",
       "  </thead>\n",
       "  <tbody>\n",
       "    <tr>\n",
       "      <th>0</th>\n",
       "      <td>P04626:ERBB2</td>\n",
       "      <td>27</td>\n",
       "      <td>Q96SB4:SRPK1</td>\n",
       "      <td>5</td>\n",
       "      <td>1.0000</td>\n",
       "    </tr>\n",
       "    <tr>\n",
       "      <th>1</th>\n",
       "      <td>P04626:ERBB2</td>\n",
       "      <td>27</td>\n",
       "      <td>P00533:EGFR</td>\n",
       "      <td>13</td>\n",
       "      <td>1.0000</td>\n",
       "    </tr>\n",
       "    <tr>\n",
       "      <th>2</th>\n",
       "      <td>P04626:ERBB2</td>\n",
       "      <td>27</td>\n",
       "      <td>P51813:BMX</td>\n",
       "      <td>6</td>\n",
       "      <td>0.9697</td>\n",
       "    </tr>\n",
       "    <tr>\n",
       "      <th>3</th>\n",
       "      <td>P04626:ERBB2</td>\n",
       "      <td>27</td>\n",
       "      <td>Q14289:PTK2B</td>\n",
       "      <td>4</td>\n",
       "      <td>1.0000</td>\n",
       "    </tr>\n",
       "    <tr>\n",
       "      <th>4</th>\n",
       "      <td>P04626:ERBB2</td>\n",
       "      <td>27</td>\n",
       "      <td>P16591:FER</td>\n",
       "      <td>6</td>\n",
       "      <td>0.9697</td>\n",
       "    </tr>\n",
       "    <tr>\n",
       "      <th>5</th>\n",
       "      <td>P04626:ERBB2</td>\n",
       "      <td>27</td>\n",
       "      <td>P06241:FYN</td>\n",
       "      <td>2</td>\n",
       "      <td>1.0000</td>\n",
       "    </tr>\n",
       "    <tr>\n",
       "      <th>6</th>\n",
       "      <td>P04626:ERBB2</td>\n",
       "      <td>27</td>\n",
       "      <td>P08069:IGF1R</td>\n",
       "      <td>9</td>\n",
       "      <td>0.9722</td>\n",
       "    </tr>\n",
       "    <tr>\n",
       "      <th>7</th>\n",
       "      <td>P04626:ERBB2</td>\n",
       "      <td>27</td>\n",
       "      <td>Q13153:PAK1</td>\n",
       "      <td>4</td>\n",
       "      <td>0.9677</td>\n",
       "    </tr>\n",
       "    <tr>\n",
       "      <th>8</th>\n",
       "      <td>P04626:ERBB2</td>\n",
       "      <td>27</td>\n",
       "      <td>P42680:TEC</td>\n",
       "      <td>5</td>\n",
       "      <td>1.0000</td>\n",
       "    </tr>\n",
       "    <tr>\n",
       "      <th>9</th>\n",
       "      <td>P04626:ERBB2</td>\n",
       "      <td>27</td>\n",
       "      <td>P21860:ERBB3</td>\n",
       "      <td>19</td>\n",
       "      <td>0.9565</td>\n",
       "    </tr>\n",
       "    <tr>\n",
       "      <th>10</th>\n",
       "      <td>P04626:ERBB2</td>\n",
       "      <td>27</td>\n",
       "      <td>O60674:JAK2</td>\n",
       "      <td>4</td>\n",
       "      <td>1.0000</td>\n",
       "    </tr>\n",
       "    <tr>\n",
       "      <th>11</th>\n",
       "      <td>P04626:ERBB2</td>\n",
       "      <td>27</td>\n",
       "      <td>P15153:RAC2</td>\n",
       "      <td>1</td>\n",
       "      <td>1.0000</td>\n",
       "    </tr>\n",
       "    <tr>\n",
       "      <th>12</th>\n",
       "      <td>P04626:ERBB2</td>\n",
       "      <td>27</td>\n",
       "      <td>Q9UJM3:ERRFI1</td>\n",
       "      <td>0</td>\n",
       "      <td>1.0000</td>\n",
       "    </tr>\n",
       "    <tr>\n",
       "      <th>13</th>\n",
       "      <td>P04626:ERBB2</td>\n",
       "      <td>27</td>\n",
       "      <td>Q92625:ANKS1A</td>\n",
       "      <td>4</td>\n",
       "      <td>1.0000</td>\n",
       "    </tr>\n",
       "    <tr>\n",
       "      <th>14</th>\n",
       "      <td>P04626:ERBB2</td>\n",
       "      <td>27</td>\n",
       "      <td>P23458:JAK1</td>\n",
       "      <td>7</td>\n",
       "      <td>0.9706</td>\n",
       "    </tr>\n",
       "  </tbody>\n",
       "</table>\n",
       "</div>"
      ],
      "text/plain": [
       "    PROTEIN:GENE  NUM_PATIENTS     INTERACTOR  NUM_PATIENTS_INTERACTOR  \\\n",
       "0   P04626:ERBB2            27   Q96SB4:SRPK1                        5   \n",
       "1   P04626:ERBB2            27    P00533:EGFR                       13   \n",
       "2   P04626:ERBB2            27     P51813:BMX                        6   \n",
       "3   P04626:ERBB2            27   Q14289:PTK2B                        4   \n",
       "4   P04626:ERBB2            27     P16591:FER                        6   \n",
       "5   P04626:ERBB2            27     P06241:FYN                        2   \n",
       "6   P04626:ERBB2            27   P08069:IGF1R                        9   \n",
       "7   P04626:ERBB2            27    Q13153:PAK1                        4   \n",
       "8   P04626:ERBB2            27     P42680:TEC                        5   \n",
       "9   P04626:ERBB2            27   P21860:ERBB3                       19   \n",
       "10  P04626:ERBB2            27    O60674:JAK2                        4   \n",
       "11  P04626:ERBB2            27    P15153:RAC2                        1   \n",
       "12  P04626:ERBB2            27  Q9UJM3:ERRFI1                        0   \n",
       "13  P04626:ERBB2            27  Q92625:ANKS1A                        4   \n",
       "14  P04626:ERBB2            27    P23458:JAK1                        7   \n",
       "\n",
       "    MUTUAL_EXCLUSIVITY  \n",
       "0               1.0000  \n",
       "1               1.0000  \n",
       "2               0.9697  \n",
       "3               1.0000  \n",
       "4               0.9697  \n",
       "5               1.0000  \n",
       "6               0.9722  \n",
       "7               0.9677  \n",
       "8               1.0000  \n",
       "9               0.9565  \n",
       "10              1.0000  \n",
       "11              1.0000  \n",
       "12              1.0000  \n",
       "13              1.0000  \n",
       "14              0.9706  "
      ]
     },
     "execution_count": 28,
     "metadata": {},
     "output_type": "execute_result"
    }
   ],
   "source": [
    "brca_mutex.get_disruptive_mutual_exclusivity_data(\"P04626\")"
   ]
  },
  {
   "cell_type": "code",
   "execution_count": 29,
   "id": "f6674159-626d-4d4d-9a97-1a5941afa1a9",
   "metadata": {},
   "outputs": [
    {
     "name": "stdout",
     "output_type": "stream",
     "text": [
      "2021-11-13 21:33:00 |\u001b[32m INFO     \u001b[0m| helpers.helpers_analysis.mutual_exclusivity | Calculating Mutual Exclusivity over P04626's interactors ..\n",
      "2021-11-13 21:33:00 |\u001b[36m DEBUG    \u001b[0m| helpers.helpers_analysis.mutual_exclusivity | P04626 have 15 interactors:\n",
      "['Q96SB4:SRPK1', 'P00533:EGFR', 'P51813:BMX', 'Q14289:PTK2B', 'P16591:FER', 'P06241:FYN', 'P08069:IGF1R', 'Q13153:PAK1', 'P42680:TEC', 'P21860:ERBB3', 'O60674:JAK2', 'P15153:RAC2', 'Q9UJM3:ERRFI1', 'Q92625:ANKS1A', 'P23458:JAK1']\n",
      "2021-11-13 21:33:00 |\u001b[36m DEBUG    \u001b[0m| helpers.helpers_analysis.mutual_exclusivity | Exporting Mutual Exclusivity BRCA P04626 ..\n",
      "2021-11-13 21:33:00 |\u001b[32m INFO     \u001b[0m| helpers.helpers_analysis.mutual_exclusivity | dev/mutex\\BRCA_P04626_ERBB2_2021-11-13.csv is exported successfully.\n"
     ]
    }
   ],
   "source": [
    "brca_mutex.export_disruptive_mutual_exclusivity_data(\"dev/mutex\", \"P04626\")"
   ]
  },
  {
   "cell_type": "code",
   "execution_count": null,
   "id": "1f27a6ec-9e81-40bb-83f3-f96d4a34dbaf",
   "metadata": {},
   "outputs": [],
   "source": []
  },
  {
   "cell_type": "code",
   "execution_count": null,
   "id": "703a3043-74a5-49a4-9ba5-12a9989d6bf5",
   "metadata": {},
   "outputs": [],
   "source": []
  },
  {
   "cell_type": "markdown",
   "id": "1a16be72-bfd3-4d96-9593-f1c3ae5a746f",
   "metadata": {},
   "source": [
    "---"
   ]
  },
  {
   "cell_type": "code",
   "execution_count": 17,
   "id": "f418881e-8f54-4a53-a754-a84bbc8bd65d",
   "metadata": {},
   "outputs": [
    {
     "data": {
      "text/plain": [
       "Counter({'P27986:PIK3R1': 124,\n",
       "         'O00459:PIK3R2': 124,\n",
       "         'P43403:ZAP70': 119,\n",
       "         'Q92569:PIK3R3': 5})"
      ]
     },
     "execution_count": 17,
     "metadata": {},
     "output_type": "execute_result"
    }
   ],
   "source": [
    "brca_mutex.get_disrupted_interactors(\"PIK3CA\", identifier_type=\"gene\", return_counter=True)"
   ]
  },
  {
   "cell_type": "code",
   "execution_count": null,
   "id": "ee4fff33-caa0-44f5-ba63-b0e20361e67b",
   "metadata": {},
   "outputs": [],
   "source": []
  },
  {
   "cell_type": "code",
   "execution_count": null,
   "id": "c72456c8-9a92-498b-ae1f-5a4d1068aa82",
   "metadata": {},
   "outputs": [],
   "source": []
  },
  {
   "cell_type": "code",
   "execution_count": null,
   "id": "351a2470-f71d-45f4-bd99-2f323d5267ec",
   "metadata": {},
   "outputs": [],
   "source": []
  },
  {
   "cell_type": "code",
   "execution_count": null,
   "id": "948359d9-2c4d-48ed-a749-5e88c5c75443",
   "metadata": {},
   "outputs": [],
   "source": []
  },
  {
   "cell_type": "code",
   "execution_count": null,
   "id": "3000b55b-66c9-4889-9040-79ce5e281c10",
   "metadata": {},
   "outputs": [],
   "source": []
  },
  {
   "cell_type": "code",
   "execution_count": null,
   "id": "96713197-1eff-48ee-a988-2d794843bbb6",
   "metadata": {},
   "outputs": [],
   "source": []
  },
  {
   "cell_type": "code",
   "execution_count": null,
   "id": "893ebf03-6233-415f-933a-ab65c19ea637",
   "metadata": {},
   "outputs": [],
   "source": []
  },
  {
   "cell_type": "code",
   "execution_count": null,
   "id": "0bdffd0b-0c2c-4754-a2ca-914f18db0e69",
   "metadata": {},
   "outputs": [],
   "source": []
  },
  {
   "cell_type": "markdown",
   "id": "583000c6-abc4-4883-a906-4a7a18c44afd",
   "metadata": {},
   "source": [
    "Örneğin ERBB2 geni için en sık disrupt olan interactor SRPK1, ERBB2 ile SRPK1 arasındaki mutual exclusivity'yi hesaplayalım. \n",
    "\n",
    "S1 ERBB'nun mutasyona uğradığı hasta seti olsun. \n",
    "S2 SRPK1'nın mutasyona uğradığı hasta seti olsun. \n",
    "\n",
    "P04626 - ERBBR\n",
    "Q96SB4 - SRPK1\n",
    "\n",
    "|S1 union S2| / |S1| + |S2| değerini hesaplayalım. \n",
    "\n",
    "mutasyona uğradığı derken direk snv datasına bakabiliriz elaspic'i karıştırmadan. \n",
    "\n",
    "Aynı hesaplamayı ERBB2'nun bütün interactorları için tekrarlayalım. SRPK1 ile olan mutual exclusivity değeri daha mı iyi görelim.\n",
    "\n",
    "Bunu analysis.docx'deki tablolarda bulunan genler için tekrarlayalım."
   ]
  },
  {
   "cell_type": "code",
   "execution_count": 11,
   "id": "5a72c03b-fcfc-44c3-b569-35c5568cc9a9",
   "metadata": {},
   "outputs": [
    {
     "data": {
      "text/plain": [
       "1.0"
      ]
     },
     "execution_count": 11,
     "metadata": {},
     "output_type": "execute_result"
    }
   ],
   "source": [
    "brca_mutex.calculate_mutual_exclusivity(\"P04626\", \"Q96SB4\")"
   ]
  },
  {
   "cell_type": "code",
   "execution_count": null,
   "id": "7e8247ed-0502-40d3-944a-f71d9648390b",
   "metadata": {},
   "outputs": [],
   "source": []
  },
  {
   "cell_type": "markdown",
   "id": "7347b64d-353d-4efa-8b48-cd1fa161dae7",
   "metadata": {
    "tags": []
   },
   "source": [
    "## Patient Interaction Data"
   ]
  },
  {
   "cell_type": "code",
   "execution_count": 12,
   "id": "d0f59552-1633-40f7-8753-5c1dfd8be97a",
   "metadata": {},
   "outputs": [
    {
     "data": {
      "text/html": [
       "<div>\n",
       "<style scoped>\n",
       "    .dataframe tbody tr th:only-of-type {\n",
       "        vertical-align: middle;\n",
       "    }\n",
       "\n",
       "    .dataframe tbody tr th {\n",
       "        vertical-align: top;\n",
       "    }\n",
       "\n",
       "    .dataframe thead th {\n",
       "        text-align: right;\n",
       "    }\n",
       "</style>\n",
       "<table border=\"1\" class=\"dataframe\">\n",
       "  <thead>\n",
       "    <tr style=\"text-align: right;\">\n",
       "      <th></th>\n",
       "      <th>PATIENT</th>\n",
       "      <th>PROTEIN_GENE</th>\n",
       "      <th>MUTATION</th>\n",
       "      <th>INTERACTORS</th>\n",
       "      <th>NUM_INTERACTORS</th>\n",
       "      <th>DISRUPTIVE_INTERACTORS</th>\n",
       "      <th>NUM_DISRUPTIVE_INTERACTORS</th>\n",
       "      <th>NON_DISRUPTIVE_INTERACTORS</th>\n",
       "      <th>NUM_NON_DISRUPTIVE_INTERACTORS</th>\n",
       "      <th>CORE_INTERFACE_VS_INTERFACE_STATUS</th>\n",
       "    </tr>\n",
       "  </thead>\n",
       "  <tbody>\n",
       "    <tr>\n",
       "      <th>0</th>\n",
       "      <td>TCGA-D8-A1XY</td>\n",
       "      <td>Q9UKS6:PACSIN3</td>\n",
       "      <td>R24H</td>\n",
       "      <td>Q9BY11:PACSIN1,Q9UNF0:PACSIN2,Q5TZC3:PACSIN1,Q...</td>\n",
       "      <td>4</td>\n",
       "      <td>Q9BY11:PACSIN1:0.5,Q9UNF0:PACSIN2:0.59,Q6FIA3:...</td>\n",
       "      <td>3</td>\n",
       "      <td>Q5TZC3:PACSIN1</td>\n",
       "      <td>1</td>\n",
       "      <td>I</td>\n",
       "    </tr>\n",
       "    <tr>\n",
       "      <th>1</th>\n",
       "      <td>TCGA-AO-A0J5</td>\n",
       "      <td>Q9UBN7:HDAC6</td>\n",
       "      <td>D567Y</td>\n",
       "      <td>Q96DB2:HDAC11</td>\n",
       "      <td>1</td>\n",
       "      <td>Q96DB2:HDAC11:0.55</td>\n",
       "      <td>1</td>\n",
       "      <td>NaN</td>\n",
       "      <td>0</td>\n",
       "      <td>I</td>\n",
       "    </tr>\n",
       "    <tr>\n",
       "      <th>2</th>\n",
       "      <td>TCGA-A8-A093</td>\n",
       "      <td>P28062:PSMB8</td>\n",
       "      <td>R216W</td>\n",
       "      <td>P40306:PSMB10</td>\n",
       "      <td>1</td>\n",
       "      <td>NaN</td>\n",
       "      <td>0</td>\n",
       "      <td>P40306:PSMB10</td>\n",
       "      <td>1</td>\n",
       "      <td>I</td>\n",
       "    </tr>\n",
       "    <tr>\n",
       "      <th>3</th>\n",
       "      <td>TCGA-A8-A093</td>\n",
       "      <td>Q15842:KCNJ8</td>\n",
       "      <td>E237K</td>\n",
       "      <td>Q14654:KCNJ11,P63252:KCNJ2</td>\n",
       "      <td>2</td>\n",
       "      <td>Q14654:KCNJ11:0.52,P63252:KCNJ2:0.53</td>\n",
       "      <td>2</td>\n",
       "      <td>NaN</td>\n",
       "      <td>0</td>\n",
       "      <td>I</td>\n",
       "    </tr>\n",
       "    <tr>\n",
       "      <th>4</th>\n",
       "      <td>TCGA-LD-A74U</td>\n",
       "      <td>O15041:SEMA3E</td>\n",
       "      <td>E364K</td>\n",
       "      <td>Q9Y4D7:PLXND1</td>\n",
       "      <td>1</td>\n",
       "      <td>NaN</td>\n",
       "      <td>0</td>\n",
       "      <td>Q9Y4D7:PLXND1</td>\n",
       "      <td>1</td>\n",
       "      <td>I</td>\n",
       "    </tr>\n",
       "  </tbody>\n",
       "</table>\n",
       "</div>"
      ],
      "text/plain": [
       "        PATIENT    PROTEIN_GENE MUTATION  \\\n",
       "0  TCGA-D8-A1XY  Q9UKS6:PACSIN3     R24H   \n",
       "1  TCGA-AO-A0J5    Q9UBN7:HDAC6    D567Y   \n",
       "2  TCGA-A8-A093    P28062:PSMB8    R216W   \n",
       "3  TCGA-A8-A093    Q15842:KCNJ8    E237K   \n",
       "4  TCGA-LD-A74U   O15041:SEMA3E    E364K   \n",
       "\n",
       "                                         INTERACTORS  NUM_INTERACTORS  \\\n",
       "0  Q9BY11:PACSIN1,Q9UNF0:PACSIN2,Q5TZC3:PACSIN1,Q...                4   \n",
       "1                                      Q96DB2:HDAC11                1   \n",
       "2                                      P40306:PSMB10                1   \n",
       "3                         Q14654:KCNJ11,P63252:KCNJ2                2   \n",
       "4                                      Q9Y4D7:PLXND1                1   \n",
       "\n",
       "                              DISRUPTIVE_INTERACTORS  \\\n",
       "0  Q9BY11:PACSIN1:0.5,Q9UNF0:PACSIN2:0.59,Q6FIA3:...   \n",
       "1                                 Q96DB2:HDAC11:0.55   \n",
       "2                                                NaN   \n",
       "3               Q14654:KCNJ11:0.52,P63252:KCNJ2:0.53   \n",
       "4                                                NaN   \n",
       "\n",
       "   NUM_DISRUPTIVE_INTERACTORS NON_DISRUPTIVE_INTERACTORS  \\\n",
       "0                           3             Q5TZC3:PACSIN1   \n",
       "1                           1                        NaN   \n",
       "2                           0              P40306:PSMB10   \n",
       "3                           2                        NaN   \n",
       "4                           0              Q9Y4D7:PLXND1   \n",
       "\n",
       "   NUM_NON_DISRUPTIVE_INTERACTORS CORE_INTERFACE_VS_INTERFACE_STATUS  \n",
       "0                               1                                  I  \n",
       "1                               0                                  I  \n",
       "2                               1                                  I  \n",
       "3                               0                                  I  \n",
       "4                               1                                  I  "
      ]
     },
     "execution_count": 12,
     "metadata": {},
     "output_type": "execute_result"
    }
   ],
   "source": [
    "brca_mutex.patient_interaction_data.head()"
   ]
  },
  {
   "cell_type": "code",
   "execution_count": null,
   "id": "195a2d4c-8c28-4def-881c-bc461f9cf628",
   "metadata": {},
   "outputs": [],
   "source": [
    "    SRPK1"
   ]
  },
  {
   "cell_type": "code",
   "execution_count": 15,
   "id": "cc9b6d0e-7fda-4a85-9c0f-1cbee20ff7e8",
   "metadata": {},
   "outputs": [
    {
     "data": {
      "text/plain": [
       "Counter({'P21860:ERBB3': 1,\n",
       "         'O60674:JAK2': 1,\n",
       "         'P15153:RAC2': 1,\n",
       "         'Q96SB4:SRPK1': 7,\n",
       "         'Q9UJM3:ERRFI1': 1,\n",
       "         'Q92625:ANKS1A': 1,\n",
       "         'P23458:JAK1': 1,\n",
       "         'P00533:EGFR': 2,\n",
       "         'P51813:BMX': 2,\n",
       "         'Q14289:PTK2B': 2,\n",
       "         'P16591:FER': 2,\n",
       "         'P06241:FYN': 2,\n",
       "         'P08069:IGF1R': 2,\n",
       "         'Q13153:PAK1': 2,\n",
       "         'P42680:TEC': 2})"
      ]
     },
     "execution_count": 15,
     "metadata": {},
     "output_type": "execute_result"
    }
   ],
   "source": [
    "brca_mutex.get_disrupted_interactors(\n",
    "    \"ERBB2\", identifier_type=\"gene\", return_counter=True\n",
    ")"
   ]
  },
  {
   "cell_type": "code",
   "execution_count": 14,
   "id": "f143a106-6390-44df-ab90-0ab1a376b27c",
   "metadata": {},
   "outputs": [
    {
     "data": {
      "text/plain": [
       "Counter({'O15350:TP73': 13,\n",
       "         'Q96KQ7:EHMT2': 14,\n",
       "         'Q13625:TP53BP2': 42,\n",
       "         'Q9H9B1:EHMT1': 9,\n",
       "         'Q9H3D4:TP63': 18,\n",
       "         'Q96KQ4:PPP1R13B': 42,\n",
       "         'Q99728:BARD1': 8,\n",
       "         'O75832:PSMD10': 8,\n",
       "         'Q9ULT8:HECTD1': 8,\n",
       "         'H2EHT1:TP53': 16,\n",
       "         'K7PPA8:TP53': 16,\n",
       "         'P62993:GRB2': 33,\n",
       "         'P07948:LYN': 12,\n",
       "         'Q8WUF5:PPP1R13L': 30,\n",
       "         'Q06187:BTK': 31})"
      ]
     },
     "execution_count": 14,
     "metadata": {},
     "output_type": "execute_result"
    }
   ],
   "source": [
    "brca_mutex.get_disrupted_interactors(\"TP53\", identifier_type=\"gene\", return_counter=True)"
   ]
  },
  {
   "cell_type": "code",
   "execution_count": 14,
   "id": "2f445447-6a8d-4ad3-9ddd-f0f460500b87",
   "metadata": {},
   "outputs": [
    {
     "data": {
      "text/plain": [
       "Counter({'O15350:TP73': 13,\n",
       "         'Q96KQ7:EHMT2': 14,\n",
       "         'Q13625:TP53BP2': 42,\n",
       "         'Q9H9B1:EHMT1': 9,\n",
       "         'Q9H3D4:TP63': 18,\n",
       "         'Q96KQ4:PPP1R13B': 42,\n",
       "         'Q99728:BARD1': 8,\n",
       "         'O75832:PSMD10': 8,\n",
       "         'Q9ULT8:HECTD1': 8,\n",
       "         'H2EHT1:TP53': 16,\n",
       "         'K7PPA8:TP53': 16,\n",
       "         'P62993:GRB2': 33,\n",
       "         'P07948:LYN': 12,\n",
       "         'Q8WUF5:PPP1R13L': 30,\n",
       "         'Q06187:BTK': 31})"
      ]
     },
     "execution_count": 14,
     "metadata": {},
     "output_type": "execute_result"
    }
   ],
   "source": [
    "brca_mutex.get_disrupted_interactors(\"TP53\", identifier_type=\"gene\", return_counter=True)"
   ]
  },
  {
   "cell_type": "code",
   "execution_count": 15,
   "id": "bca305ff-a250-4316-b569-d69df2e95ef9",
   "metadata": {},
   "outputs": [
    {
     "data": {
      "text/plain": [
       "['Q13625:TP53BP2',\n",
       " 'Q96KQ4:PPP1R13B',\n",
       " 'P62993:GRB2',\n",
       " 'Q06187:BTK',\n",
       " 'Q8WUF5:PPP1R13L',\n",
       " 'Q9H3D4:TP63',\n",
       " 'H2EHT1:TP53',\n",
       " 'K7PPA8:TP53',\n",
       " 'Q96KQ7:EHMT2',\n",
       " 'O15350:TP73',\n",
       " 'P07948:LYN',\n",
       " 'Q9H9B1:EHMT1',\n",
       " 'Q99728:BARD1',\n",
       " 'O75832:PSMD10',\n",
       " 'Q9ULT8:HECTD1']"
      ]
     },
     "execution_count": 15,
     "metadata": {},
     "output_type": "execute_result"
    }
   ],
   "source": [
    "brca_mutex.get_disrupted_interactors(\"TP53\", identifier_type=\"gene\")"
   ]
  },
  {
   "cell_type": "code",
   "execution_count": 16,
   "id": "7e4818ba-f6ed-4d93-9e29-ff2381924936",
   "metadata": {},
   "outputs": [
    {
     "data": {
      "text/plain": [
       "Counter({'O15350:TP73': 13,\n",
       "         'Q96KQ7:EHMT2': 14,\n",
       "         'Q13625:TP53BP2': 42,\n",
       "         'Q9H9B1:EHMT1': 9,\n",
       "         'Q9H3D4:TP63': 18,\n",
       "         'Q96KQ4:PPP1R13B': 42,\n",
       "         'Q99728:BARD1': 8,\n",
       "         'O75832:PSMD10': 8,\n",
       "         'Q9ULT8:HECTD1': 8,\n",
       "         'H2EHT1:TP53': 16,\n",
       "         'K7PPA8:TP53': 16,\n",
       "         'P62993:GRB2': 33,\n",
       "         'P07948:LYN': 12,\n",
       "         'Q8WUF5:PPP1R13L': 30,\n",
       "         'Q06187:BTK': 31})"
      ]
     },
     "execution_count": 16,
     "metadata": {},
     "output_type": "execute_result"
    }
   ],
   "source": [
    "brca_mutex.get_disrupted_interactors(\"TP53\", identifier_type=\"gene\", return_counter=True)"
   ]
  },
  {
   "cell_type": "code",
   "execution_count": 17,
   "id": "faeb8d67-d861-4b20-9ec3-e6c8e185c453",
   "metadata": {},
   "outputs": [
    {
     "data": {
      "text/plain": [
       "Counter({'P62805:H4C1': 6,\n",
       "         'Q9UER7:DAXX': 4,\n",
       "         'P04908:H2AC4': 4,\n",
       "         'Q16777:H2AC20': 3,\n",
       "         'P16104:H2AX': 4,\n",
       "         'P0C0S8:H2AC11': 4,\n",
       "         'O75367:MACROH2A1': 4,\n",
       "         'P0C0S5:H2AZ1': 4,\n",
       "         'Q9Y294:ASF1A': 1,\n",
       "         'Q9NVP2:ASF1B': 1,\n",
       "         'P49450:CENPA': 1})"
      ]
     },
     "execution_count": 17,
     "metadata": {},
     "output_type": "execute_result"
    }
   ],
   "source": [
    "brca_mutex.get_disrupted_interactors(\"H3C1\", identifier_type=\"gene\", return_counter=True)"
   ]
  },
  {
   "cell_type": "code",
   "execution_count": 18,
   "id": "e11c1399-74ee-40be-8e9d-ca8abcd56479",
   "metadata": {},
   "outputs": [
    {
     "data": {
      "text/plain": [
       "Counter({'P84243:H3-3A': 7,\n",
       "         'Q16695:H3-4': 5,\n",
       "         'Q71DI3:H3C15': 7,\n",
       "         'P49450:CENPA': 5,\n",
       "         'P68431:H3C1': 8,\n",
       "         'Q16514:TAF12': 2,\n",
       "         'Q9UER7:DAXX': 3,\n",
       "         'P06899:H2BC11': 1,\n",
       "         'Q16778:H2BC21': 1,\n",
       "         'B4E1C1:nan': 4,\n",
       "         'Q53F85:nan': 3,\n",
       "         'P04908:H2AC4': 2,\n",
       "         'P16104:H2AX': 1,\n",
       "         'P0C0S5:H2AZ1': 2,\n",
       "         'Q16777:H2AC20': 2,\n",
       "         'Q9Y294:ASF1A': 1})"
      ]
     },
     "execution_count": 18,
     "metadata": {},
     "output_type": "execute_result"
    }
   ],
   "source": [
    "brca_mutex.get_disrupted_interactors(\"H4C1\", identifier_type=\"gene\", return_counter=True)"
   ]
  },
  {
   "cell_type": "code",
   "execution_count": 19,
   "id": "4b6411d8-0e9b-450b-89b2-fa648e649a4b",
   "metadata": {},
   "outputs": [
    {
     "data": {
      "text/plain": [
       "Counter({'Q5S007:LRRK2': 6,\n",
       "         'P52564:MAP2K6': 6,\n",
       "         'P00533:EGFR': 1,\n",
       "         'P35916:FLT4': 1,\n",
       "         'Q99558:MAP3K14': 1,\n",
       "         'P45984:MAPK9': 1,\n",
       "         'Q16539:MAPK14': 2})"
      ]
     },
     "execution_count": 19,
     "metadata": {},
     "output_type": "execute_result"
    }
   ],
   "source": [
    "brca_mutex.get_disrupted_interactors(\"MAP2K4\", identifier_type=\"gene\", return_counter=True)"
   ]
  },
  {
   "cell_type": "code",
   "execution_count": null,
   "id": "72a4ea13-e318-49ce-9b8d-e6006797c855",
   "metadata": {},
   "outputs": [],
   "source": []
  },
  {
   "cell_type": "code",
   "execution_count": null,
   "id": "57467be9-0927-4721-a9dc-9c90c05f55fe",
   "metadata": {},
   "outputs": [],
   "source": []
  },
  {
   "cell_type": "code",
   "execution_count": 20,
   "id": "bd19254b-9083-4e98-8d5f-263c2ca647ad",
   "metadata": {},
   "outputs": [
    {
     "data": {
      "text/plain": [
       "['H2EHT1', 'K7PPA8', 'P04637']"
      ]
     },
     "execution_count": 20,
     "metadata": {},
     "output_type": "execute_result"
    }
   ],
   "source": [
    "ProteinIDFetcher().fetch(\"TP53\")"
   ]
  },
  {
   "cell_type": "code",
   "execution_count": 21,
   "id": "f9ece295-6c4a-4054-b680-28cf721c5c26",
   "metadata": {},
   "outputs": [
    {
     "data": {
      "text/plain": [
       "['P45985']"
      ]
     },
     "execution_count": 21,
     "metadata": {},
     "output_type": "execute_result"
    }
   ],
   "source": [
    "ProteinIDFetcher().fetch(\"MAP2K4\")"
   ]
  },
  {
   "cell_type": "code",
   "execution_count": 22,
   "id": "6a5b8352-e0bd-4038-9f1b-c6e53474f1a3",
   "metadata": {},
   "outputs": [
    {
     "data": {
      "text/plain": [
       "['P04626', 'J3QLU9']"
      ]
     },
     "execution_count": 22,
     "metadata": {},
     "output_type": "execute_result"
    }
   ],
   "source": [
    "ProteinIDFetcher().fetch(\"ERBB2\")"
   ]
  },
  {
   "cell_type": "code",
   "execution_count": 23,
   "id": "28d7227c-a167-42fa-9184-22caae499836",
   "metadata": {},
   "outputs": [
    {
     "data": {
      "text/plain": [
       "1.0"
      ]
     },
     "execution_count": 23,
     "metadata": {},
     "output_type": "execute_result"
    }
   ],
   "source": [
    "brca_mutex.calculate_mutual_exclusivity(\"Q96SB4\", \"P04626\")"
   ]
  },
  {
   "cell_type": "code",
   "execution_count": 24,
   "id": "8c257c26-5139-47e1-a1d8-405a58504820",
   "metadata": {},
   "outputs": [
    {
     "data": {
      "text/plain": [
       "0.9285714285714286"
      ]
     },
     "execution_count": 24,
     "metadata": {},
     "output_type": "execute_result"
    }
   ],
   "source": [
    "brca_mutex.calculate_mutual_exclusivity(\"P08069\", \"Q96SB4\")"
   ]
  },
  {
   "cell_type": "code",
   "execution_count": 25,
   "id": "c9f79da3-c53e-48e7-94c0-69f6551d969d",
   "metadata": {},
   "outputs": [
    {
     "data": {
      "text/plain": [
       "0.9375"
      ]
     },
     "execution_count": 25,
     "metadata": {},
     "output_type": "execute_result"
    }
   ],
   "source": [
    "brca_mutex.calculate_mutual_exclusivity(\"P08069\", \"P23458\")"
   ]
  },
  {
   "cell_type": "code",
   "execution_count": 26,
   "id": "c40d7a54-3f24-419e-84d3-e2fa3daaebf4",
   "metadata": {},
   "outputs": [
    {
     "data": {
      "text/plain": [
       "0.9375"
      ]
     },
     "execution_count": 26,
     "metadata": {},
     "output_type": "execute_result"
    }
   ],
   "source": [
    "brca_mutex.calculate_mutual_exclusivity(\"P23458\", \"P08069\")"
   ]
  },
  {
   "cell_type": "code",
   "execution_count": null,
   "id": "f9b71cab-55ec-49e5-83a0-2bae18479736",
   "metadata": {},
   "outputs": [],
   "source": []
  }
 ],
 "metadata": {
  "kernelspec": {
   "display_name": "Predicting-Mutation-Effects",
   "language": "python",
   "name": "predicting-mutation-effects"
  },
  "language_info": {
   "codemirror_mode": {
    "name": "ipython",
    "version": 3
   },
   "file_extension": ".py",
   "mimetype": "text/x-python",
   "name": "python",
   "nbconvert_exporter": "python",
   "pygments_lexer": "ipython3",
   "version": "3.8.10"
  }
 },
 "nbformat": 4,
 "nbformat_minor": 5
}
