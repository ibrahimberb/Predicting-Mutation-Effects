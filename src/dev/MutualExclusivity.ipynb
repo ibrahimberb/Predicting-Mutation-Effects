{
 "cells": [
  {
   "cell_type": "markdown",
   "id": "a507755d-7d6d-42e6-8c83-44ed01e1fe5c",
   "metadata": {},
   "source": [
    "# Mutual Exclusivity"
   ]
  },
  {
   "cell_type": "markdown",
   "id": "99eecd39-7d33-47a3-9d96-5a29089fd337",
   "metadata": {},
   "source": [
    "## Setup"
   ]
  },
  {
   "cell_type": "code",
   "execution_count": 1,
   "id": "a9942580-be24-4b17-b45b-918d3b3f153a",
   "metadata": {},
   "outputs": [],
   "source": [
    "import os\n",
    "import os.path as op\n",
    "\n",
    "os.chdir('../')\n",
    "\n",
    "# os.listdir()\n",
    "# Reflect changes in the modules immediately.\n",
    "%load_ext autoreload\n",
    "%autoreload 2"
   ]
  },
  {
   "cell_type": "code",
   "execution_count": 2,
   "id": "91c19c2c-491d-4b6e-bdfb-248f2bb0f7ce",
   "metadata": {},
   "outputs": [
    {
     "name": "stdout",
     "output_type": "stream",
     "text": [
      "The autoreload extension is already loaded. To reload it, use:\n",
      "  %reload_ext autoreload\n"
     ]
    }
   ],
   "source": [
    "# SNV_PATHS\n",
    "SNV_COMMON_PATH = \"C:/Users/ibrah/Desktop/SNV_data/SNV_datasets/\"\n",
    "BRCA_SNV_PATH = op.join(SNV_COMMON_PATH, \"SNV_BRCA_hg38_2021-09-22.csv\")\n",
    "ESCA_SNV_PATH = op.join(SNV_COMMON_PATH, \"SNV_ESCA_hg38_2021-09-22.csv\")\n",
    "GBM_SNV_PATH = op.join(SNV_COMMON_PATH, \"SNV_GBM_hg38_2021-09-22.csv\")\n",
    "HNSC_SNV_PATH = op.join(SNV_COMMON_PATH, \"SNV_HNSC_hg38_2021-09-22.csv\")\n",
    "OV_SNV_PATH = op.join(SNV_COMMON_PATH, \"SNV_OV_hg38_2021-09-22.csv\")\n",
    "\n",
    "BRCA_PRELIMINARY_DATA_PATH = r\"../data/predictions_datasets/brca_prediction_2021-11-17/558297b6/brca_preliminary_data_cgc_2021-11-17.xlsx\"\n",
    "ESCA_PRELIMINARY_DATA_PATH = r\"../data/predictions_datasets/esca_prediction_2021-11-17/59544312/esca_preliminary_data_cgc_2021-11-17.xlsx\"\n",
    "GBM_PRELIMINARY_DATA_PATH = r\"../data/predictions_datasets/gbm_prediction_2021-11-17/b9cfc7ea/gbm_preliminary_data_cgc_2021-11-17.xlsx\"\n",
    "HNSC_PRELIMINARY_DATA_PATH = r\"../data/predictions_datasets/hnsc_prediction_2021-11-17/53930f30/hnsc_preliminary_data_cgc_2021-11-17.xlsx\"\n",
    "OV_PRELIMINARY_DATA_PATH = r\"../data/predictions_datasets/ov_prediction_2021-11-17/37bf1637/ov_preliminary_data_cgc_2021-11-17.xlsx\"\n",
    "\n",
    "# PATIENT INTERACTION DATA PATHS\n",
    "BRCA_PATIENT_INTERACTION_DATA_PATH = \"../data/patient_interaction_datasets/BRCA_patient_interactions_analysis_table_2021-11-17.xlsx\"\n",
    "ESCA_PATIENT_INTERACTION_DATA_PATH = \"../data/patient_interaction_datasets/ESCA_patient_interactions_analysis_table_2021-11-17.xlsx\"\n",
    "GBM_PATIENT_INTERACTION_DATA_PATH = \"../data/patient_interaction_datasets/GBM_patient_interactions_analysis_table_2021-11-17.xlsx\"\n",
    "HNSC_PATIENT_INTERACTION_DATA_PATH = \"../data/patient_interaction_datasets/HNSC_patient_interactions_analysis_table_2021-11-17.xlsx\"\n",
    "OV_PATIENT_INTERACTION_DATA_PATH = \"../data/patient_interaction_datasets/OV_patient_interactions_analysis_table_2021-11-17.xlsx\"\n",
    "\n",
    "# Reflect changes in the modules immediately.\n",
    "%load_ext autoreload\n",
    "%autoreload 2"
   ]
  },
  {
   "cell_type": "code",
   "execution_count": 3,
   "id": "81c5a0ce-994d-493f-ae88-fd931f04f869",
   "metadata": {},
   "outputs": [],
   "source": [
    "def get_protein_gene_pairs(preliminary_data):\n",
    "    \"\"\"\n",
    "    Applies the following filtering conditions to given preliminary data and return protein and gene pairs.\n",
    "    \"\"\"\n",
    "    data_filtered = preliminary_data[\n",
    "        (preliminary_data[\"NUM_ELASPIC_INTERFACE_ENTRIES\"] >= 10) &\n",
    "        (preliminary_data[\"PATIENT_INTERFACE_COUNT\"] > 5)\n",
    "    ]\n",
    "    \n",
    "    protein_gene_pairs = list(zip(data_filtered[\"PROTEIN\"], data_filtered[\"GENE\"]))\n",
    "    return protein_gene_pairs"
   ]
  },
  {
   "cell_type": "code",
   "execution_count": 4,
   "id": "8b4bb5d5-7339-4c1d-9311-7fd0400a8cf3",
   "metadata": {},
   "outputs": [],
   "source": [
    "import pandas as pd\n",
    "from helpers.helpers_analysis.mutual_exclusivity import MutualExclusivity\n",
    "from helpers.helpers_analysis.protein_id_retrieval import ProteinIDFetcher"
   ]
  },
  {
   "cell_type": "markdown",
   "id": "86f3e34f-6244-4223-a368-b0cb18927d38",
   "metadata": {
    "tags": []
   },
   "source": [
    "## Instantiate `MutualExclusivity` Objects for Each Cohort"
   ]
  },
  {
   "cell_type": "markdown",
   "id": "75ebb8b0-805c-4087-9899-541ab0472af6",
   "metadata": {},
   "source": [
    "### BRCA"
   ]
  },
  {
   "cell_type": "code",
   "execution_count": 5,
   "id": "4564f2f4-948b-4ce9-bc8d-d23c3a0b35b0",
   "metadata": {},
   "outputs": [
    {
     "name": "stdout",
     "output_type": "stream",
     "text": [
      "2021-11-20 02:49:45 |\u001b[36m DEBUG    \u001b[0m| helpers.helpers_analysis.mutual_exclusivity | Loading SNV data simplified ..\n",
      "2021-11-20 02:49:45 |\u001b[32m INFO     \u001b[0m| helpers.helpers_analysis.loaders | Loading BRCA SNV datasets ..\n",
      "2021-11-20 02:49:50 |\u001b[36m DEBUG    \u001b[0m| helpers.helpers_analysis.loaders | BRCA SNV data size: (120988, 121)\n",
      "2021-11-20 02:49:51 |\u001b[36m DEBUG    \u001b[0m| helpers.helpers_analysis.loaders | BRCA SNV data processed size: (60251, 121)\n",
      "2021-11-20 02:49:51 |\u001b[32m INFO     \u001b[0m| helpers.helpers_analysis.loaders | BRCA SNV datasets are loaded.\n",
      "2021-11-20 02:49:51 |\u001b[36m DEBUG    \u001b[0m| helpers.helpers_analysis.mutual_exclusivity | Loading patient ids ..\n",
      "2021-11-20 02:49:51 |\u001b[36m DEBUG    \u001b[0m| helpers.helpers_analysis.mutual_exclusivity | Loading patient to snv_data ..\n"
     ]
    },
    {
     "data": {
      "application/vnd.jupyter.widget-view+json": {
       "model_id": "c69554cf445d4f139c1254e9ad15068f",
       "version_major": 2,
       "version_minor": 0
      },
      "text/plain": [
       "  0%|          | 0/985 [00:00<?, ?it/s]"
      ]
     },
     "metadata": {},
     "output_type": "display_data"
    },
    {
     "name": "stdout",
     "output_type": "stream",
     "text": [
      "2021-11-20 02:49:59 |\u001b[36m DEBUG    \u001b[0m| helpers.helpers_analysis.mutual_exclusivity | patient interaction data patient data ..\n"
     ]
    }
   ],
   "source": [
    "brca_mutex = MutualExclusivity(\n",
    "    tcga=\"BRCA\", \n",
    "    tcga_snv_path=BRCA_SNV_PATH, \n",
    "    patient_interaction_data_path=BRCA_PATIENT_INTERACTION_DATA_PATH\n",
    ")"
   ]
  },
  {
   "cell_type": "code",
   "execution_count": 6,
   "id": "5268b0f6-9528-4337-84c0-a099971aa754",
   "metadata": {},
   "outputs": [
    {
     "data": {
      "text/plain": [
       "985"
      ]
     },
     "execution_count": 6,
     "metadata": {},
     "output_type": "execute_result"
    }
   ],
   "source": [
    "len(brca_mutex.patients)"
   ]
  },
  {
   "cell_type": "markdown",
   "id": "aae0e0bf-57b5-4c2d-9b60-982a2c169b64",
   "metadata": {},
   "source": [
    "### ESCA"
   ]
  },
  {
   "cell_type": "code",
   "execution_count": 7,
   "id": "54d839f0-46f2-42c2-a652-c54f61dcb3d9",
   "metadata": {},
   "outputs": [
    {
     "name": "stdout",
     "output_type": "stream",
     "text": [
      "2021-11-20 02:50:00 |\u001b[36m DEBUG    \u001b[0m| helpers.helpers_analysis.mutual_exclusivity | Loading SNV data simplified ..\n",
      "2021-11-20 02:50:00 |\u001b[32m INFO     \u001b[0m| helpers.helpers_analysis.loaders | Loading ESCA SNV datasets ..\n",
      "2021-11-20 02:50:02 |\u001b[36m DEBUG    \u001b[0m| helpers.helpers_analysis.loaders | ESCA SNV data size: (45313, 121)\n",
      "2021-11-20 02:50:02 |\u001b[36m DEBUG    \u001b[0m| helpers.helpers_analysis.loaders | ESCA SNV data processed size: (19497, 121)\n",
      "2021-11-20 02:50:02 |\u001b[32m INFO     \u001b[0m| helpers.helpers_analysis.loaders | ESCA SNV datasets are loaded.\n",
      "2021-11-20 02:50:02 |\u001b[36m DEBUG    \u001b[0m| helpers.helpers_analysis.mutual_exclusivity | Loading patient ids ..\n",
      "2021-11-20 02:50:02 |\u001b[36m DEBUG    \u001b[0m| helpers.helpers_analysis.mutual_exclusivity | Loading patient to snv_data ..\n"
     ]
    },
    {
     "data": {
      "application/vnd.jupyter.widget-view+json": {
       "model_id": "36c9670b1ea44e78aa62b1f776d44683",
       "version_major": 2,
       "version_minor": 0
      },
      "text/plain": [
       "  0%|          | 0/184 [00:00<?, ?it/s]"
      ]
     },
     "metadata": {},
     "output_type": "display_data"
    },
    {
     "name": "stdout",
     "output_type": "stream",
     "text": [
      "2021-11-20 02:50:03 |\u001b[36m DEBUG    \u001b[0m| helpers.helpers_analysis.mutual_exclusivity | patient interaction data patient data ..\n"
     ]
    }
   ],
   "source": [
    "esca_mutex = MutualExclusivity(\n",
    "    tcga=\"ESCA\", \n",
    "    tcga_snv_path=ESCA_SNV_PATH, \n",
    "    patient_interaction_data_path=ESCA_PATIENT_INTERACTION_DATA_PATH\n",
    ")"
   ]
  },
  {
   "cell_type": "code",
   "execution_count": 8,
   "id": "980d1c89-456e-4cb7-8ba4-7126e657c80f",
   "metadata": {},
   "outputs": [
    {
     "data": {
      "text/plain": [
       "184"
      ]
     },
     "execution_count": 8,
     "metadata": {},
     "output_type": "execute_result"
    }
   ],
   "source": [
    "len(esca_mutex.patients)"
   ]
  },
  {
   "cell_type": "markdown",
   "id": "209f34d8-d2b4-4ac8-984a-0b7d164ca3ef",
   "metadata": {},
   "source": [
    "### GBM"
   ]
  },
  {
   "cell_type": "code",
   "execution_count": 9,
   "id": "1f3f5835-e389-4d73-a139-22492af5abfb",
   "metadata": {},
   "outputs": [
    {
     "name": "stdout",
     "output_type": "stream",
     "text": [
      "2021-11-20 02:50:04 |\u001b[36m DEBUG    \u001b[0m| helpers.helpers_analysis.mutual_exclusivity | Loading SNV data simplified ..\n",
      "2021-11-20 02:50:04 |\u001b[32m INFO     \u001b[0m| helpers.helpers_analysis.loaders | Loading GBM SNV datasets ..\n",
      "2021-11-20 02:50:07 |\u001b[36m DEBUG    \u001b[0m| helpers.helpers_analysis.loaders | GBM SNV data size: (82765, 121)\n",
      "2021-11-20 02:50:08 |\u001b[36m DEBUG    \u001b[0m| helpers.helpers_analysis.loaders | GBM SNV data processed size: (46847, 121)\n",
      "2021-11-20 02:50:08 |\u001b[32m INFO     \u001b[0m| helpers.helpers_analysis.loaders | GBM SNV datasets are loaded.\n",
      "2021-11-20 02:50:08 |\u001b[36m DEBUG    \u001b[0m| helpers.helpers_analysis.mutual_exclusivity | Loading patient ids ..\n",
      "2021-11-20 02:50:08 |\u001b[36m DEBUG    \u001b[0m| helpers.helpers_analysis.mutual_exclusivity | Loading patient to snv_data ..\n"
     ]
    },
    {
     "data": {
      "application/vnd.jupyter.widget-view+json": {
       "model_id": "6d96e3638a1d46efb77a29138f8c6a62",
       "version_major": 2,
       "version_minor": 0
      },
      "text/plain": [
       "  0%|          | 0/392 [00:00<?, ?it/s]"
      ]
     },
     "metadata": {},
     "output_type": "display_data"
    },
    {
     "name": "stdout",
     "output_type": "stream",
     "text": [
      "2021-11-20 02:50:09 |\u001b[36m DEBUG    \u001b[0m| helpers.helpers_analysis.mutual_exclusivity | patient interaction data patient data ..\n"
     ]
    }
   ],
   "source": [
    "gbm_mutex = MutualExclusivity(\n",
    "    tcga=\"GBM\", \n",
    "    tcga_snv_path=GBM_SNV_PATH, \n",
    "    patient_interaction_data_path=GBM_PATIENT_INTERACTION_DATA_PATH\n",
    ")"
   ]
  },
  {
   "cell_type": "code",
   "execution_count": 10,
   "id": "57acbc84-8dae-4b06-9c79-48e4763aab1e",
   "metadata": {},
   "outputs": [
    {
     "data": {
      "text/plain": [
       "392"
      ]
     },
     "execution_count": 10,
     "metadata": {},
     "output_type": "execute_result"
    }
   ],
   "source": [
    "len(gbm_mutex.patients)"
   ]
  },
  {
   "cell_type": "markdown",
   "id": "6884085e-1eaf-491d-8884-6aacd166092d",
   "metadata": {},
   "source": [
    "### HNSC"
   ]
  },
  {
   "cell_type": "code",
   "execution_count": 11,
   "id": "0bf8bff3-128c-42ea-b383-db157a9ef044",
   "metadata": {},
   "outputs": [
    {
     "name": "stdout",
     "output_type": "stream",
     "text": [
      "2021-11-20 02:50:10 |\u001b[36m DEBUG    \u001b[0m| helpers.helpers_analysis.mutual_exclusivity | Loading SNV data simplified ..\n",
      "2021-11-20 02:50:10 |\u001b[32m INFO     \u001b[0m| helpers.helpers_analysis.loaders | Loading HNSC SNV datasets ..\n",
      "2021-11-20 02:50:14 |\u001b[36m DEBUG    \u001b[0m| helpers.helpers_analysis.loaders | HNSC SNV data size: (102309, 121)\n",
      "2021-11-20 02:50:15 |\u001b[36m DEBUG    \u001b[0m| helpers.helpers_analysis.loaders | HNSC SNV data processed size: (54883, 121)\n",
      "2021-11-20 02:50:15 |\u001b[32m INFO     \u001b[0m| helpers.helpers_analysis.loaders | HNSC SNV datasets are loaded.\n",
      "2021-11-20 02:50:15 |\u001b[36m DEBUG    \u001b[0m| helpers.helpers_analysis.mutual_exclusivity | Loading patient ids ..\n",
      "2021-11-20 02:50:15 |\u001b[36m DEBUG    \u001b[0m| helpers.helpers_analysis.mutual_exclusivity | Loading patient to snv_data ..\n"
     ]
    },
    {
     "data": {
      "application/vnd.jupyter.widget-view+json": {
       "model_id": "9544a88db54844a6a20250676fe87305",
       "version_major": 2,
       "version_minor": 0
      },
      "text/plain": [
       "  0%|          | 0/507 [00:00<?, ?it/s]"
      ]
     },
     "metadata": {},
     "output_type": "display_data"
    },
    {
     "name": "stdout",
     "output_type": "stream",
     "text": [
      "2021-11-20 02:50:17 |\u001b[36m DEBUG    \u001b[0m| helpers.helpers_analysis.mutual_exclusivity | patient interaction data patient data ..\n"
     ]
    }
   ],
   "source": [
    "hnsc_mutex = MutualExclusivity(\n",
    "    tcga=\"HNSC\", \n",
    "    tcga_snv_path=HNSC_SNV_PATH, \n",
    "    patient_interaction_data_path=HNSC_PATIENT_INTERACTION_DATA_PATH\n",
    ")"
   ]
  },
  {
   "cell_type": "code",
   "execution_count": 12,
   "id": "6ad406c6-acd7-4623-aadd-2b582f48b7e1",
   "metadata": {},
   "outputs": [
    {
     "data": {
      "text/plain": [
       "507"
      ]
     },
     "execution_count": 12,
     "metadata": {},
     "output_type": "execute_result"
    }
   ],
   "source": [
    "len(hnsc_mutex.patients)"
   ]
  },
  {
   "cell_type": "markdown",
   "id": "44e61f4b-b09b-452a-ab8a-38c336a8f2aa",
   "metadata": {},
   "source": [
    "### OV"
   ]
  },
  {
   "cell_type": "code",
   "execution_count": 13,
   "id": "b2df7e1c-71f1-4d31-a286-a0832df9f4db",
   "metadata": {},
   "outputs": [
    {
     "name": "stdout",
     "output_type": "stream",
     "text": [
      "2021-11-20 02:50:18 |\u001b[36m DEBUG    \u001b[0m| helpers.helpers_analysis.mutual_exclusivity | Loading SNV data simplified ..\n",
      "2021-11-20 02:50:18 |\u001b[32m INFO     \u001b[0m| helpers.helpers_analysis.loaders | Loading OV SNV datasets ..\n",
      "2021-11-20 02:50:21 |\u001b[36m DEBUG    \u001b[0m| helpers.helpers_analysis.loaders | OV SNV data size: (75168, 121)\n",
      "2021-11-20 02:50:21 |\u001b[36m DEBUG    \u001b[0m| helpers.helpers_analysis.loaders | OV SNV data processed size: (38486, 121)\n",
      "2021-11-20 02:50:21 |\u001b[32m INFO     \u001b[0m| helpers.helpers_analysis.loaders | OV SNV datasets are loaded.\n",
      "2021-11-20 02:50:21 |\u001b[36m DEBUG    \u001b[0m| helpers.helpers_analysis.mutual_exclusivity | Loading patient ids ..\n",
      "2021-11-20 02:50:21 |\u001b[36m DEBUG    \u001b[0m| helpers.helpers_analysis.mutual_exclusivity | Loading patient to snv_data ..\n"
     ]
    },
    {
     "data": {
      "application/vnd.jupyter.widget-view+json": {
       "model_id": "7e68f28eed594ad9bb41314aa812b9c1",
       "version_major": 2,
       "version_minor": 0
      },
      "text/plain": [
       "  0%|          | 0/436 [00:00<?, ?it/s]"
      ]
     },
     "metadata": {},
     "output_type": "display_data"
    },
    {
     "name": "stdout",
     "output_type": "stream",
     "text": [
      "2021-11-20 02:50:23 |\u001b[36m DEBUG    \u001b[0m| helpers.helpers_analysis.mutual_exclusivity | patient interaction data patient data ..\n"
     ]
    }
   ],
   "source": [
    "ov_mutex = MutualExclusivity(\n",
    "    tcga=\"OV\", \n",
    "    tcga_snv_path=OV_SNV_PATH, \n",
    "    patient_interaction_data_path=OV_PATIENT_INTERACTION_DATA_PATH\n",
    ")"
   ]
  },
  {
   "cell_type": "code",
   "execution_count": 14,
   "id": "b724d1be-2fce-4ea4-ad6d-62dc4874d022",
   "metadata": {},
   "outputs": [
    {
     "data": {
      "text/plain": [
       "436"
      ]
     },
     "execution_count": 14,
     "metadata": {},
     "output_type": "execute_result"
    }
   ],
   "source": [
    "len(ov_mutex.patients)"
   ]
  },
  {
   "cell_type": "markdown",
   "id": "ef9dda60-e717-4800-9a9f-aba4728bd2d2",
   "metadata": {
    "tags": []
   },
   "source": [
    "## Instantiate `MutualExclusivity` Objects for Each Cohort"
   ]
  },
  {
   "cell_type": "code",
   "execution_count": 15,
   "id": "6a737c84-74b5-403b-972f-892303ef7135",
   "metadata": {},
   "outputs": [],
   "source": [
    "def export_mutex_data_for_selected_genes(preliminary_data_path, mutex_obj):\n",
    "    preliminary_data = pd.read_excel(preliminary_data_path)\n",
    "\n",
    "    protein_gene_list = get_protein_gene_pairs(preliminary_data)\n",
    "\n",
    "    for protein_gene in protein_gene_list:\n",
    "        protein, gene = protein_gene\n",
    "        print(f\"PROTEIN_GENE: {protein}_{gene}\")\n",
    "        mutex_obj.get_disruptive_mutual_exclusivity_data(protein)\n",
    "        mutex_obj.export_disruptive_mutual_exclusivity_data(\"dev\\mutex_counts_and_probs\", protein)\n",
    "        mutex_obj.export_disruptive_mutual_exclusivity_data(\"dev\\mutex_counts_and_probs\", protein, prob=True)\n",
    "    \n",
    "    print(\"Completed.\")"
   ]
  },
  {
   "cell_type": "code",
   "execution_count": 16,
   "id": "3ded33c3-92bc-4fe8-9c0a-4b40e6264812",
   "metadata": {
    "scrolled": true,
    "tags": []
   },
   "outputs": [
    {
     "name": "stdout",
     "output_type": "stream",
     "text": [
      "PROTEIN_GENE: O75582_RPS6KA5\n",
      "2021-11-20 02:50:27 |\u001b[32m INFO     \u001b[0m| helpers.helpers_analysis.mutual_exclusivity | Calculating Mutual Exclusivity over O75582's interactors ..\n",
      "2021-11-20 02:50:27 |\u001b[36m DEBUG    \u001b[0m| helpers.helpers_analysis.mutual_exclusivity | O75582 have 6 interactors:\n",
      "Counter({'Q15759:MAPK11': 2, 'Q15418:RPS6KA1': 2, 'Q16539:MAPK14': 1, 'L7RSM2:MAPK14': 1, 'Q9UK32:RPS6KA6': 1, 'P67870:CSNK2B': 1})\n",
      "2021-11-20 02:50:27 |\u001b[32m INFO     \u001b[0m| helpers.helpers_analysis.mutual_exclusivity | Calculating Mutual Exclusivity over O75582's interactors ..\n",
      "2021-11-20 02:50:27 |\u001b[36m DEBUG    \u001b[0m| helpers.helpers_analysis.mutual_exclusivity | O75582 have 6 interactors:\n",
      "Counter({'Q15759:MAPK11': 2, 'Q15418:RPS6KA1': 2, 'Q16539:MAPK14': 1, 'L7RSM2:MAPK14': 1, 'Q9UK32:RPS6KA6': 1, 'P67870:CSNK2B': 1})\n",
      "2021-11-20 02:50:27 |\u001b[36m DEBUG    \u001b[0m| helpers.helpers_analysis.mutual_exclusivity | Exporting Mutual Exclusivity BRCA O75582 ..\n",
      "2021-11-20 02:50:27 |\u001b[32m INFO     \u001b[0m| helpers.helpers_analysis.mutual_exclusivity | dev\\mutex_counts_and_probs\\BRCA_O75582_RPS6KA5_2021-11-20.csv is exported successfully.\n",
      "2021-11-20 02:50:27 |\u001b[32m INFO     \u001b[0m| helpers.helpers_analysis.mutual_exclusivity | Calculating Mutual Exclusivity over O75582's interactors ..\n",
      "2021-11-20 02:50:27 |\u001b[36m DEBUG    \u001b[0m| helpers.helpers_analysis.mutual_exclusivity | O75582 have 6 interactors:\n",
      "{'L7RSM2:MAPK14': 0.59, 'P67870:CSNK2B': 0.72, 'Q15418:RPS6KA1': 1.3199999999999998, 'Q15759:MAPK11': 1.1, 'Q16539:MAPK14': 0.62, 'Q9UK32:RPS6KA6': 0.62}\n",
      "2021-11-20 02:50:27 |\u001b[36m DEBUG    \u001b[0m| helpers.helpers_analysis.mutual_exclusivity | Exporting Mutual Exclusivity BRCA O75582 ..\n",
      "2021-11-20 02:50:27 |\u001b[32m INFO     \u001b[0m| helpers.helpers_analysis.mutual_exclusivity | dev\\mutex_counts_and_probs\\BRCA_O75582_RPS6KA5_PROBA_2021-11-20.csv is exported successfully.\n",
      "PROTEIN_GENE: P04626_ERBB2\n",
      "2021-11-20 02:50:27 |\u001b[32m INFO     \u001b[0m| helpers.helpers_analysis.mutual_exclusivity | Calculating Mutual Exclusivity over P04626's interactors ..\n",
      "2021-11-20 02:50:27 |\u001b[36m DEBUG    \u001b[0m| helpers.helpers_analysis.mutual_exclusivity | P04626 have 15 interactors:\n",
      "Counter({'Q96SB4:SRPK1': 7, 'P00533:EGFR': 2, 'P51813:BMX': 2, 'Q14289:PTK2B': 2, 'P16591:FER': 2, 'P06241:FYN': 2, 'P08069:IGF1R': 2, 'Q13153:PAK1': 2, 'P42680:TEC': 2, 'P21860:ERBB3': 1, 'O60674:JAK2': 1, 'P15153:RAC2': 1, 'Q9UJM3:ERRFI1': 1, 'Q92625:ANKS1A': 1, 'P23458:JAK1': 1})\n",
      "2021-11-20 02:50:27 |\u001b[32m INFO     \u001b[0m| helpers.helpers_analysis.mutual_exclusivity | Calculating Mutual Exclusivity over P04626's interactors ..\n",
      "2021-11-20 02:50:27 |\u001b[36m DEBUG    \u001b[0m| helpers.helpers_analysis.mutual_exclusivity | P04626 have 15 interactors:\n",
      "Counter({'Q96SB4:SRPK1': 7, 'P00533:EGFR': 2, 'P51813:BMX': 2, 'Q14289:PTK2B': 2, 'P16591:FER': 2, 'P06241:FYN': 2, 'P08069:IGF1R': 2, 'Q13153:PAK1': 2, 'P42680:TEC': 2, 'P21860:ERBB3': 1, 'O60674:JAK2': 1, 'P15153:RAC2': 1, 'Q9UJM3:ERRFI1': 1, 'Q92625:ANKS1A': 1, 'P23458:JAK1': 1})\n",
      "2021-11-20 02:50:28 |\u001b[36m DEBUG    \u001b[0m| helpers.helpers_analysis.mutual_exclusivity | Exporting Mutual Exclusivity BRCA P04626 ..\n",
      "2021-11-20 02:50:28 |\u001b[32m INFO     \u001b[0m| helpers.helpers_analysis.mutual_exclusivity | dev\\mutex_counts_and_probs\\BRCA_P04626_ERBB2_2021-11-20.csv is exported successfully.\n",
      "2021-11-20 02:50:28 |\u001b[32m INFO     \u001b[0m| helpers.helpers_analysis.mutual_exclusivity | Calculating Mutual Exclusivity over P04626's interactors ..\n",
      "2021-11-20 02:50:28 |\u001b[36m DEBUG    \u001b[0m| helpers.helpers_analysis.mutual_exclusivity | P04626 have 15 interactors:\n",
      "{'O60674:JAK2': 0.63, 'P00533:EGFR': 1.49, 'P06241:FYN': 1.3, 'P08069:IGF1R': 1.82, 'P15153:RAC2': 0.75, 'P16591:FER': 1.52, 'P21860:ERBB3': 0.84, 'P23458:JAK1': 0.66, 'P42680:TEC': 1.4, 'P51813:BMX': 1.38, 'Q13153:PAK1': 1.4, 'Q14289:PTK2B': 1.62, 'Q92625:ANKS1A': 0.55, 'Q96SB4:SRPK1': 4.79, 'Q9UJM3:ERRFI1': 0.8}\n",
      "2021-11-20 02:50:28 |\u001b[36m DEBUG    \u001b[0m| helpers.helpers_analysis.mutual_exclusivity | Exporting Mutual Exclusivity BRCA P04626 ..\n",
      "2021-11-20 02:50:28 |\u001b[32m INFO     \u001b[0m| helpers.helpers_analysis.mutual_exclusivity | dev\\mutex_counts_and_probs\\BRCA_P04626_ERBB2_PROBA_2021-11-20.csv is exported successfully.\n",
      "PROTEIN_GENE: P04637_TP53\n",
      "2021-11-20 02:50:28 |\u001b[32m INFO     \u001b[0m| helpers.helpers_analysis.mutual_exclusivity | Calculating Mutual Exclusivity over P04637's interactors ..\n",
      "2021-11-20 02:50:28 |\u001b[36m DEBUG    \u001b[0m| helpers.helpers_analysis.mutual_exclusivity | P04637 have 15 interactors:\n",
      "Counter({'Q13625:TP53BP2': 42, 'Q96KQ4:PPP1R13B': 42, 'P62993:GRB2': 33, 'Q06187:BTK': 31, 'Q8WUF5:PPP1R13L': 30, 'Q9H3D4:TP63': 18, 'H2EHT1:TP53': 16, 'K7PPA8:TP53': 16, 'Q96KQ7:EHMT2': 14, 'O15350:TP73': 13, 'P07948:LYN': 12, 'Q9H9B1:EHMT1': 9, 'Q99728:BARD1': 8, 'O75832:PSMD10': 8, 'Q9ULT8:HECTD1': 8})\n",
      "2021-11-20 02:50:28 |\u001b[32m INFO     \u001b[0m| helpers.helpers_analysis.mutual_exclusivity | Calculating Mutual Exclusivity over P04637's interactors ..\n",
      "2021-11-20 02:50:28 |\u001b[36m DEBUG    \u001b[0m| helpers.helpers_analysis.mutual_exclusivity | P04637 have 15 interactors:\n",
      "Counter({'Q13625:TP53BP2': 42, 'Q96KQ4:PPP1R13B': 42, 'P62993:GRB2': 33, 'Q06187:BTK': 31, 'Q8WUF5:PPP1R13L': 30, 'Q9H3D4:TP63': 18, 'H2EHT1:TP53': 16, 'K7PPA8:TP53': 16, 'Q96KQ7:EHMT2': 14, 'O15350:TP73': 13, 'P07948:LYN': 12, 'Q9H9B1:EHMT1': 9, 'Q99728:BARD1': 8, 'O75832:PSMD10': 8, 'Q9ULT8:HECTD1': 8})\n",
      "2021-11-20 02:50:28 |\u001b[36m DEBUG    \u001b[0m| helpers.helpers_analysis.mutual_exclusivity | Exporting Mutual Exclusivity BRCA P04637 ..\n",
      "2021-11-20 02:50:28 |\u001b[32m INFO     \u001b[0m| helpers.helpers_analysis.mutual_exclusivity | dev\\mutex_counts_and_probs\\BRCA_P04637_TP53_2021-11-20.csv is exported successfully.\n",
      "2021-11-20 02:50:28 |\u001b[32m INFO     \u001b[0m| helpers.helpers_analysis.mutual_exclusivity | Calculating Mutual Exclusivity over P04637's interactors ..\n",
      "2021-11-20 02:50:28 |\u001b[36m DEBUG    \u001b[0m| helpers.helpers_analysis.mutual_exclusivity | P04637 have 15 interactors:\n",
      "{'H2EHT1:TP53': 12.37, 'K7PPA8:TP53': 12.190000000000001, 'O15350:TP73': 10.41, 'O75832:PSMD10': 5.9, 'P07948:LYN': 8.69, 'P62993:GRB2': 24.14, 'Q06187:BTK': 24.39, 'Q13625:TP53BP2': 35.9, 'Q8WUF5:PPP1R13L': 21.68, 'Q96KQ4:PPP1R13B': 34.07, 'Q96KQ7:EHMT2': 9.3, 'Q99728:BARD1': 5.79, 'Q9H3D4:TP63': 13.65, 'Q9H9B1:EHMT1': 5.97, 'Q9ULT8:HECTD1': 5.78}\n",
      "2021-11-20 02:50:28 |\u001b[36m DEBUG    \u001b[0m| helpers.helpers_analysis.mutual_exclusivity | Exporting Mutual Exclusivity BRCA P04637 ..\n",
      "2021-11-20 02:50:28 |\u001b[32m INFO     \u001b[0m| helpers.helpers_analysis.mutual_exclusivity | dev\\mutex_counts_and_probs\\BRCA_P04637_TP53_PROBA_2021-11-20.csv is exported successfully.\n",
      "PROTEIN_GENE: P0CG48_UBC\n",
      "2021-11-20 02:50:28 |\u001b[32m INFO     \u001b[0m| helpers.helpers_analysis.mutual_exclusivity | Calculating Mutual Exclusivity over P0CG48's interactors ..\n",
      "2021-11-20 02:50:28 |\u001b[36m DEBUG    \u001b[0m| helpers.helpers_analysis.mutual_exclusivity | P0CG48 have 5 interactors:\n",
      "Counter({'P21734:UBC1': 4, 'P61077:UBE2D3': 2, 'Q9UMX0:UBQLN1': 1, 'A8K3R3:nan': 1, 'Q99816:TSG101': 1})\n",
      "2021-11-20 02:50:29 |\u001b[32m INFO     \u001b[0m| helpers.helpers_analysis.mutual_exclusivity | Calculating Mutual Exclusivity over P0CG48's interactors ..\n",
      "2021-11-20 02:50:29 |\u001b[36m DEBUG    \u001b[0m| helpers.helpers_analysis.mutual_exclusivity | P0CG48 have 5 interactors:\n",
      "Counter({'P21734:UBC1': 4, 'P61077:UBE2D3': 2, 'Q9UMX0:UBQLN1': 1, 'A8K3R3:nan': 1, 'Q99816:TSG101': 1})\n",
      "2021-11-20 02:50:29 |\u001b[36m DEBUG    \u001b[0m| helpers.helpers_analysis.mutual_exclusivity | Exporting Mutual Exclusivity BRCA P0CG48 ..\n",
      "2021-11-20 02:50:29 |\u001b[32m INFO     \u001b[0m| helpers.helpers_analysis.mutual_exclusivity | dev\\mutex_counts_and_probs\\BRCA_P0CG48_UBC_2021-11-20.csv is exported successfully.\n",
      "2021-11-20 02:50:29 |\u001b[32m INFO     \u001b[0m| helpers.helpers_analysis.mutual_exclusivity | Calculating Mutual Exclusivity over P0CG48's interactors ..\n",
      "2021-11-20 02:50:29 |\u001b[36m DEBUG    \u001b[0m| helpers.helpers_analysis.mutual_exclusivity | P0CG48 have 5 interactors:\n",
      "{'A8K3R3:nan': 0.56, 'P21734:UBC1': 2.42, 'P61077:UBE2D3': 1.2, 'Q99816:TSG101': 0.81, 'Q9UMX0:UBQLN1': 0.7}\n",
      "2021-11-20 02:50:29 |\u001b[36m DEBUG    \u001b[0m| helpers.helpers_analysis.mutual_exclusivity | Exporting Mutual Exclusivity BRCA P0CG48 ..\n",
      "2021-11-20 02:50:29 |\u001b[32m INFO     \u001b[0m| helpers.helpers_analysis.mutual_exclusivity | dev\\mutex_counts_and_probs\\BRCA_P0CG48_UBC_PROBA_2021-11-20.csv is exported successfully.\n",
      "PROTEIN_GENE: P21860_ERBB3\n",
      "2021-11-20 02:50:29 |\u001b[32m INFO     \u001b[0m| helpers.helpers_analysis.mutual_exclusivity | Calculating Mutual Exclusivity over P21860's interactors ..\n",
      "2021-11-20 02:50:29 |\u001b[36m DEBUG    \u001b[0m| helpers.helpers_analysis.mutual_exclusivity | P21860 have 8 interactors:\n",
      "Counter({'Q00535:CDK5': 3, 'P04626:ERBB2': 3, 'Q15303:ERBB4': 3, 'Q05397:PTK2': 3, 'O60674:JAK2': 3, 'P43403:ZAP70': 3, 'P42681:TXK': 3, 'P00533:EGFR': 1})\n",
      "2021-11-20 02:50:29 |\u001b[32m INFO     \u001b[0m| helpers.helpers_analysis.mutual_exclusivity | Calculating Mutual Exclusivity over P21860's interactors ..\n",
      "2021-11-20 02:50:29 |\u001b[36m DEBUG    \u001b[0m| helpers.helpers_analysis.mutual_exclusivity | P21860 have 8 interactors:\n",
      "Counter({'Q00535:CDK5': 3, 'P04626:ERBB2': 3, 'Q15303:ERBB4': 3, 'Q05397:PTK2': 3, 'O60674:JAK2': 3, 'P43403:ZAP70': 3, 'P42681:TXK': 3, 'P00533:EGFR': 1})\n",
      "2021-11-20 02:50:29 |\u001b[36m DEBUG    \u001b[0m| helpers.helpers_analysis.mutual_exclusivity | Exporting Mutual Exclusivity BRCA P21860 ..\n",
      "2021-11-20 02:50:29 |\u001b[32m INFO     \u001b[0m| helpers.helpers_analysis.mutual_exclusivity | dev\\mutex_counts_and_probs\\BRCA_P21860_ERBB3_2021-11-20.csv is exported successfully.\n",
      "2021-11-20 02:50:29 |\u001b[32m INFO     \u001b[0m| helpers.helpers_analysis.mutual_exclusivity | Calculating Mutual Exclusivity over P21860's interactors ..\n",
      "2021-11-20 02:50:29 |\u001b[36m DEBUG    \u001b[0m| helpers.helpers_analysis.mutual_exclusivity | P21860 have 8 interactors:\n",
      "{'O60674:JAK2': 1.8599999999999999, 'P00533:EGFR': 0.6, 'P04626:ERBB2': 1.98, 'P42681:TXK': 2.0100000000000002, 'P43403:ZAP70': 1.7999999999999998, 'Q00535:CDK5': 1.7399999999999998, 'Q05397:PTK2': 2.04, 'Q15303:ERBB4': 1.6800000000000002}\n",
      "2021-11-20 02:50:29 |\u001b[36m DEBUG    \u001b[0m| helpers.helpers_analysis.mutual_exclusivity | Exporting Mutual Exclusivity BRCA P21860 ..\n",
      "2021-11-20 02:50:29 |\u001b[32m INFO     \u001b[0m| helpers.helpers_analysis.mutual_exclusivity | dev\\mutex_counts_and_probs\\BRCA_P21860_ERBB3_PROBA_2021-11-20.csv is exported successfully.\n",
      "PROTEIN_GENE: P42336_PIK3CA\n",
      "2021-11-20 02:50:29 |\u001b[32m INFO     \u001b[0m| helpers.helpers_analysis.mutual_exclusivity | Calculating Mutual Exclusivity over P42336's interactors ..\n",
      "2021-11-20 02:50:29 |\u001b[36m DEBUG    \u001b[0m| helpers.helpers_analysis.mutual_exclusivity | P42336 have 4 interactors:\n",
      "Counter({'P27986:PIK3R1': 124, 'O00459:PIK3R2': 124, 'P43403:ZAP70': 119, 'Q92569:PIK3R3': 5})\n",
      "2021-11-20 02:50:29 |\u001b[32m INFO     \u001b[0m| helpers.helpers_analysis.mutual_exclusivity | Calculating Mutual Exclusivity over P42336's interactors ..\n",
      "2021-11-20 02:50:29 |\u001b[36m DEBUG    \u001b[0m| helpers.helpers_analysis.mutual_exclusivity | P42336 have 4 interactors:\n",
      "Counter({'P27986:PIK3R1': 124, 'O00459:PIK3R2': 124, 'P43403:ZAP70': 119, 'Q92569:PIK3R3': 5})\n",
      "2021-11-20 02:50:30 |\u001b[36m DEBUG    \u001b[0m| helpers.helpers_analysis.mutual_exclusivity | Exporting Mutual Exclusivity BRCA P42336 ..\n",
      "2021-11-20 02:50:30 |\u001b[32m INFO     \u001b[0m| helpers.helpers_analysis.mutual_exclusivity | dev\\mutex_counts_and_probs\\BRCA_P42336_PIK3CA_2021-11-20.csv is exported successfully.\n",
      "2021-11-20 02:50:30 |\u001b[32m INFO     \u001b[0m| helpers.helpers_analysis.mutual_exclusivity | Calculating Mutual Exclusivity over P42336's interactors ..\n",
      "2021-11-20 02:50:30 |\u001b[36m DEBUG    \u001b[0m| helpers.helpers_analysis.mutual_exclusivity | P42336 have 4 interactors:\n",
      "{'O00459:PIK3R2': 74.36, 'P27986:PIK3R1': 75.5, 'P43403:ZAP70': 65.45, 'Q92569:PIK3R3': 3.15}\n",
      "2021-11-20 02:50:30 |\u001b[36m DEBUG    \u001b[0m| helpers.helpers_analysis.mutual_exclusivity | Exporting Mutual Exclusivity BRCA P42336 ..\n",
      "2021-11-20 02:50:30 |\u001b[32m INFO     \u001b[0m| helpers.helpers_analysis.mutual_exclusivity | dev\\mutex_counts_and_probs\\BRCA_P42336_PIK3CA_PROBA_2021-11-20.csv is exported successfully.\n",
      "PROTEIN_GENE: P45985_MAP2K4\n",
      "2021-11-20 02:50:30 |\u001b[32m INFO     \u001b[0m| helpers.helpers_analysis.mutual_exclusivity | Calculating Mutual Exclusivity over P45985's interactors ..\n",
      "2021-11-20 02:50:30 |\u001b[36m DEBUG    \u001b[0m| helpers.helpers_analysis.mutual_exclusivity | P45985 have 7 interactors:\n",
      "Counter({'Q5S007:LRRK2': 6, 'P52564:MAP2K6': 6, 'Q16539:MAPK14': 2, 'P00533:EGFR': 1, 'P35916:FLT4': 1, 'Q99558:MAP3K14': 1, 'P45984:MAPK9': 1})\n",
      "2021-11-20 02:50:30 |\u001b[32m INFO     \u001b[0m| helpers.helpers_analysis.mutual_exclusivity | Calculating Mutual Exclusivity over P45985's interactors ..\n",
      "2021-11-20 02:50:30 |\u001b[36m DEBUG    \u001b[0m| helpers.helpers_analysis.mutual_exclusivity | P45985 have 7 interactors:\n",
      "Counter({'Q5S007:LRRK2': 6, 'P52564:MAP2K6': 6, 'Q16539:MAPK14': 2, 'P00533:EGFR': 1, 'P35916:FLT4': 1, 'Q99558:MAP3K14': 1, 'P45984:MAPK9': 1})\n",
      "2021-11-20 02:50:30 |\u001b[36m DEBUG    \u001b[0m| helpers.helpers_analysis.mutual_exclusivity | Exporting Mutual Exclusivity BRCA P45985 ..\n",
      "2021-11-20 02:50:30 |\u001b[32m INFO     \u001b[0m| helpers.helpers_analysis.mutual_exclusivity | dev\\mutex_counts_and_probs\\BRCA_P45985_MAP2K4_2021-11-20.csv is exported successfully.\n",
      "2021-11-20 02:50:30 |\u001b[32m INFO     \u001b[0m| helpers.helpers_analysis.mutual_exclusivity | Calculating Mutual Exclusivity over P45985's interactors ..\n",
      "2021-11-20 02:50:30 |\u001b[36m DEBUG    \u001b[0m| helpers.helpers_analysis.mutual_exclusivity | P45985 have 7 interactors:\n",
      "{'P00533:EGFR': 0.88, 'P35916:FLT4': 0.66, 'P45984:MAPK9': 0.66, 'P52564:MAP2K6': 4.35, 'Q16539:MAPK14': 1.4500000000000002, 'Q5S007:LRRK2': 3.46, 'Q99558:MAP3K14': 0.81}\n",
      "2021-11-20 02:50:30 |\u001b[36m DEBUG    \u001b[0m| helpers.helpers_analysis.mutual_exclusivity | Exporting Mutual Exclusivity BRCA P45985 ..\n",
      "2021-11-20 02:50:30 |\u001b[32m INFO     \u001b[0m| helpers.helpers_analysis.mutual_exclusivity | dev\\mutex_counts_and_probs\\BRCA_P45985_MAP2K4_PROBA_2021-11-20.csv is exported successfully.\n",
      "PROTEIN_GENE: P62805_H4C1\n",
      "2021-11-20 02:50:30 |\u001b[32m INFO     \u001b[0m| helpers.helpers_analysis.mutual_exclusivity | Calculating Mutual Exclusivity over P62805's interactors ..\n",
      "2021-11-20 02:50:30 |\u001b[36m DEBUG    \u001b[0m| helpers.helpers_analysis.mutual_exclusivity | P62805 have 16 interactors:\n",
      "Counter({'P68431:H3C1': 8, 'P84243:H3-3A': 7, 'Q71DI3:H3C15': 7, 'Q16695:H3-4': 5, 'P49450:CENPA': 5, 'B4E1C1:nan': 4, 'Q9UER7:DAXX': 3, 'Q53F85:nan': 3, 'Q16514:TAF12': 2, 'P04908:H2AC4': 2, 'P0C0S5:H2AZ1': 2, 'Q16777:H2AC20': 2, 'P06899:H2BC11': 1, 'Q16778:H2BC21': 1, 'P16104:H2AX': 1, 'Q9Y294:ASF1A': 1})\n",
      "2021-11-20 02:50:30 |\u001b[32m INFO     \u001b[0m| helpers.helpers_analysis.mutual_exclusivity | Calculating Mutual Exclusivity over P62805's interactors ..\n",
      "2021-11-20 02:50:30 |\u001b[36m DEBUG    \u001b[0m| helpers.helpers_analysis.mutual_exclusivity | P62805 have 16 interactors:\n",
      "Counter({'P68431:H3C1': 8, 'P84243:H3-3A': 7, 'Q71DI3:H3C15': 7, 'Q16695:H3-4': 5, 'P49450:CENPA': 5, 'B4E1C1:nan': 4, 'Q9UER7:DAXX': 3, 'Q53F85:nan': 3, 'Q16514:TAF12': 2, 'P04908:H2AC4': 2, 'P0C0S5:H2AZ1': 2, 'Q16777:H2AC20': 2, 'P06899:H2BC11': 1, 'Q16778:H2BC21': 1, 'P16104:H2AX': 1, 'Q9Y294:ASF1A': 1})\n",
      "2021-11-20 02:50:30 |\u001b[36m DEBUG    \u001b[0m| helpers.helpers_analysis.mutual_exclusivity | Exporting Mutual Exclusivity BRCA P62805 ..\n",
      "2021-11-20 02:50:30 |\u001b[32m INFO     \u001b[0m| helpers.helpers_analysis.mutual_exclusivity | dev\\mutex_counts_and_probs\\BRCA_P62805_H4C1_2021-11-20.csv is exported successfully.\n",
      "2021-11-20 02:50:30 |\u001b[32m INFO     \u001b[0m| helpers.helpers_analysis.mutual_exclusivity | Calculating Mutual Exclusivity over P62805's interactors ..\n",
      "2021-11-20 02:50:30 |\u001b[36m DEBUG    \u001b[0m| helpers.helpers_analysis.mutual_exclusivity | P62805 have 16 interactors:\n",
      "{'B4E1C1:nan': 2.3899999999999997, 'P04908:H2AC4': 1.57, 'P06899:H2BC11': 0.86, 'P0C0S5:H2AZ1': 1.48, 'P16104:H2AX': 0.79, 'P49450:CENPA': 3.1, 'P68431:H3C1': 5.74, 'P84243:H3-3A': 4.29, 'Q16514:TAF12': 1.42, 'Q16695:H3-4': 3.14, 'Q16777:H2AC20': 1.6, 'Q16778:H2BC21': 0.95, 'Q53F85:nan': 1.6800000000000002, 'Q71DI3:H3C15': 4.34, 'Q9UER7:DAXX': 2.02, 'Q9Y294:ASF1A': 0.67}\n",
      "2021-11-20 02:50:31 |\u001b[36m DEBUG    \u001b[0m| helpers.helpers_analysis.mutual_exclusivity | Exporting Mutual Exclusivity BRCA P62805 ..\n",
      "2021-11-20 02:50:31 |\u001b[32m INFO     \u001b[0m| helpers.helpers_analysis.mutual_exclusivity | dev\\mutex_counts_and_probs\\BRCA_P62805_H4C1_PROBA_2021-11-20.csv is exported successfully.\n",
      "PROTEIN_GENE: P62807_H2BC4\n",
      "2021-11-20 02:50:31 |\u001b[32m INFO     \u001b[0m| helpers.helpers_analysis.mutual_exclusivity | Calculating Mutual Exclusivity over P62807's interactors ..\n",
      "2021-11-20 02:50:31 |\u001b[36m DEBUG    \u001b[0m| helpers.helpers_analysis.mutual_exclusivity | P62807 have 1 interactors:\n",
      "Counter({'P16104:H2AX': 4})\n",
      "2021-11-20 02:50:31 |\u001b[32m INFO     \u001b[0m| helpers.helpers_analysis.mutual_exclusivity | Calculating Mutual Exclusivity over P62807's interactors ..\n",
      "2021-11-20 02:50:31 |\u001b[36m DEBUG    \u001b[0m| helpers.helpers_analysis.mutual_exclusivity | P62807 have 1 interactors:\n",
      "Counter({'P16104:H2AX': 4})\n",
      "2021-11-20 02:50:31 |\u001b[36m DEBUG    \u001b[0m| helpers.helpers_analysis.mutual_exclusivity | Exporting Mutual Exclusivity BRCA P62807 ..\n",
      "2021-11-20 02:50:31 |\u001b[32m INFO     \u001b[0m| helpers.helpers_analysis.mutual_exclusivity | dev\\mutex_counts_and_probs\\BRCA_P62807_H2BC4_2021-11-20.csv is exported successfully.\n",
      "2021-11-20 02:50:31 |\u001b[32m INFO     \u001b[0m| helpers.helpers_analysis.mutual_exclusivity | Calculating Mutual Exclusivity over P62807's interactors ..\n",
      "2021-11-20 02:50:31 |\u001b[36m DEBUG    \u001b[0m| helpers.helpers_analysis.mutual_exclusivity | P62807 have 1 interactors:\n",
      "{'P16104:H2AX': 2.28}\n",
      "2021-11-20 02:50:31 |\u001b[36m DEBUG    \u001b[0m| helpers.helpers_analysis.mutual_exclusivity | Exporting Mutual Exclusivity BRCA P62807 ..\n",
      "2021-11-20 02:50:31 |\u001b[32m INFO     \u001b[0m| helpers.helpers_analysis.mutual_exclusivity | dev\\mutex_counts_and_probs\\BRCA_P62807_H2BC4_PROBA_2021-11-20.csv is exported successfully.\n",
      "PROTEIN_GENE: P68431_H3C1\n",
      "2021-11-20 02:50:31 |\u001b[32m INFO     \u001b[0m| helpers.helpers_analysis.mutual_exclusivity | Calculating Mutual Exclusivity over P68431's interactors ..\n",
      "2021-11-20 02:50:31 |\u001b[36m DEBUG    \u001b[0m| helpers.helpers_analysis.mutual_exclusivity | P68431 have 11 interactors:\n",
      "Counter({'P62805:H4C1': 6, 'Q9UER7:DAXX': 6, 'P04908:H2AC4': 4, 'P16104:H2AX': 4, 'P0C0S8:H2AC11': 4, 'O75367:MACROH2A1': 4, 'P0C0S5:H2AZ1': 4, 'Q16777:H2AC20': 3, 'Q9Y294:ASF1A': 3, 'Q9NVP2:ASF1B': 3, 'P49450:CENPA': 3})\n",
      "2021-11-20 02:50:31 |\u001b[32m INFO     \u001b[0m| helpers.helpers_analysis.mutual_exclusivity | Calculating Mutual Exclusivity over P68431's interactors ..\n",
      "2021-11-20 02:50:31 |\u001b[36m DEBUG    \u001b[0m| helpers.helpers_analysis.mutual_exclusivity | P68431 have 11 interactors:\n",
      "Counter({'P62805:H4C1': 6, 'Q9UER7:DAXX': 6, 'P04908:H2AC4': 4, 'P16104:H2AX': 4, 'P0C0S8:H2AC11': 4, 'O75367:MACROH2A1': 4, 'P0C0S5:H2AZ1': 4, 'Q16777:H2AC20': 3, 'Q9Y294:ASF1A': 3, 'Q9NVP2:ASF1B': 3, 'P49450:CENPA': 3})\n",
      "2021-11-20 02:50:31 |\u001b[36m DEBUG    \u001b[0m| helpers.helpers_analysis.mutual_exclusivity | Exporting Mutual Exclusivity BRCA P68431 ..\n",
      "2021-11-20 02:50:31 |\u001b[32m INFO     \u001b[0m| helpers.helpers_analysis.mutual_exclusivity | dev\\mutex_counts_and_probs\\BRCA_P68431_H3C1_2021-11-20.csv is exported successfully.\n",
      "2021-11-20 02:50:31 |\u001b[32m INFO     \u001b[0m| helpers.helpers_analysis.mutual_exclusivity | Calculating Mutual Exclusivity over P68431's interactors ..\n",
      "2021-11-20 02:50:31 |\u001b[36m DEBUG    \u001b[0m| helpers.helpers_analysis.mutual_exclusivity | P68431 have 11 interactors:\n",
      "{'O75367:MACROH2A1': 2.4699999999999998, 'P04908:H2AC4': 2.5100000000000002, 'P0C0S5:H2AZ1': 2.58, 'P0C0S8:H2AC11': 2.58, 'P16104:H2AX': 2.58, 'P49450:CENPA': 2.5700000000000003, 'P62805:H4C1': 3.6, 'Q16777:H2AC20': 1.96, 'Q9NVP2:ASF1B': 2.22, 'Q9UER7:DAXX': 3.87, 'Q9Y294:ASF1A': 2.04}\n",
      "2021-11-20 02:50:31 |\u001b[36m DEBUG    \u001b[0m| helpers.helpers_analysis.mutual_exclusivity | Exporting Mutual Exclusivity BRCA P68431 ..\n",
      "2021-11-20 02:50:31 |\u001b[32m INFO     \u001b[0m| helpers.helpers_analysis.mutual_exclusivity | dev\\mutex_counts_and_probs\\BRCA_P68431_H3C1_PROBA_2021-11-20.csv is exported successfully.\n",
      "PROTEIN_GENE: Q13951_CBFB\n",
      "2021-11-20 02:50:31 |\u001b[32m INFO     \u001b[0m| helpers.helpers_analysis.mutual_exclusivity | Calculating Mutual Exclusivity over Q13951's interactors ..\n",
      "2021-11-20 02:50:31 |\u001b[36m DEBUG    \u001b[0m| helpers.helpers_analysis.mutual_exclusivity | Q13951 have 2 interactors:\n",
      "Counter({'Q13950:RUNX2': 4, 'Q13761:RUNX3': 4})\n",
      "2021-11-20 02:50:31 |\u001b[32m INFO     \u001b[0m| helpers.helpers_analysis.mutual_exclusivity | Calculating Mutual Exclusivity over Q13951's interactors ..\n",
      "2021-11-20 02:50:31 |\u001b[36m DEBUG    \u001b[0m| helpers.helpers_analysis.mutual_exclusivity | Q13951 have 2 interactors:\n",
      "Counter({'Q13950:RUNX2': 4, 'Q13761:RUNX3': 4})\n",
      "2021-11-20 02:50:31 |\u001b[36m DEBUG    \u001b[0m| helpers.helpers_analysis.mutual_exclusivity | Exporting Mutual Exclusivity BRCA Q13951 ..\n",
      "2021-11-20 02:50:31 |\u001b[32m INFO     \u001b[0m| helpers.helpers_analysis.mutual_exclusivity | dev\\mutex_counts_and_probs\\BRCA_Q13951_CBFB_2021-11-20.csv is exported successfully.\n",
      "2021-11-20 02:50:31 |\u001b[32m INFO     \u001b[0m| helpers.helpers_analysis.mutual_exclusivity | Calculating Mutual Exclusivity over Q13951's interactors ..\n",
      "2021-11-20 02:50:31 |\u001b[36m DEBUG    \u001b[0m| helpers.helpers_analysis.mutual_exclusivity | Q13951 have 2 interactors:\n",
      "{'Q13761:RUNX3': 2.5300000000000002, 'Q13950:RUNX2': 2.6}\n",
      "2021-11-20 02:50:31 |\u001b[36m DEBUG    \u001b[0m| helpers.helpers_analysis.mutual_exclusivity | Exporting Mutual Exclusivity BRCA Q13951 ..\n",
      "2021-11-20 02:50:31 |\u001b[32m INFO     \u001b[0m| helpers.helpers_analysis.mutual_exclusivity | dev\\mutex_counts_and_probs\\BRCA_Q13951_CBFB_PROBA_2021-11-20.csv is exported successfully.\n",
      "PROTEIN_GENE: Q14790_CASP8\n",
      "2021-11-20 02:50:31 |\u001b[32m INFO     \u001b[0m| helpers.helpers_analysis.mutual_exclusivity | Calculating Mutual Exclusivity over Q14790's interactors ..\n",
      "2021-11-20 02:50:31 |\u001b[36m DEBUG    \u001b[0m| helpers.helpers_analysis.mutual_exclusivity | Q14790 have 5 interactors:\n",
      "Counter({'P42575:CASP2': 2, 'P49662:CASP4': 1, 'P55211:CASP9': 1, 'P55210:CASP7': 1, 'B4DWA2:nan': 1})\n",
      "2021-11-20 02:50:32 |\u001b[32m INFO     \u001b[0m| helpers.helpers_analysis.mutual_exclusivity | Calculating Mutual Exclusivity over Q14790's interactors ..\n",
      "2021-11-20 02:50:32 |\u001b[36m DEBUG    \u001b[0m| helpers.helpers_analysis.mutual_exclusivity | Q14790 have 5 interactors:\n",
      "Counter({'P42575:CASP2': 2, 'P49662:CASP4': 1, 'P55211:CASP9': 1, 'P55210:CASP7': 1, 'B4DWA2:nan': 1})\n",
      "2021-11-20 02:50:32 |\u001b[36m DEBUG    \u001b[0m| helpers.helpers_analysis.mutual_exclusivity | Exporting Mutual Exclusivity BRCA Q14790 ..\n",
      "2021-11-20 02:50:32 |\u001b[32m INFO     \u001b[0m| helpers.helpers_analysis.mutual_exclusivity | dev\\mutex_counts_and_probs\\BRCA_Q14790_CASP8_2021-11-20.csv is exported successfully.\n",
      "2021-11-20 02:50:32 |\u001b[32m INFO     \u001b[0m| helpers.helpers_analysis.mutual_exclusivity | Calculating Mutual Exclusivity over Q14790's interactors ..\n",
      "2021-11-20 02:50:32 |\u001b[36m DEBUG    \u001b[0m| helpers.helpers_analysis.mutual_exclusivity | Q14790 have 5 interactors:\n",
      "{'B4DWA2:nan': 0.75, 'P42575:CASP2': 1.1099999999999999, 'P49662:CASP4': 0.53, 'P55210:CASP7': 0.8, 'P55211:CASP9': 0.61}\n",
      "2021-11-20 02:50:32 |\u001b[36m DEBUG    \u001b[0m| helpers.helpers_analysis.mutual_exclusivity | Exporting Mutual Exclusivity BRCA Q14790 ..\n",
      "2021-11-20 02:50:32 |\u001b[32m INFO     \u001b[0m| helpers.helpers_analysis.mutual_exclusivity | dev\\mutex_counts_and_probs\\BRCA_Q14790_CASP8_PROBA_2021-11-20.csv is exported successfully.\n",
      "Completed.\n"
     ]
    }
   ],
   "source": [
    "# BRCA\n",
    "export_mutex_data_for_selected_genes(BRCA_PRELIMINARY_DATA_PATH, brca_mutex)"
   ]
  },
  {
   "cell_type": "code",
   "execution_count": 17,
   "id": "6253fdc6-7f81-4fd5-ae71-0ef5db4a7652",
   "metadata": {
    "scrolled": true,
    "tags": []
   },
   "outputs": [
    {
     "name": "stdout",
     "output_type": "stream",
     "text": [
      "PROTEIN_GENE: P04637_TP53\n",
      "2021-11-20 02:50:33 |\u001b[32m INFO     \u001b[0m| helpers.helpers_analysis.mutual_exclusivity | Calculating Mutual Exclusivity over P04637's interactors ..\n",
      "2021-11-20 02:50:33 |\u001b[36m DEBUG    \u001b[0m| helpers.helpers_analysis.mutual_exclusivity | P04637 have 17 interactors:\n",
      "Counter({'Q13625:TP53BP2': 30, 'Q96KQ4:PPP1R13B': 30, 'P62993:GRB2': 19, 'Q06187:BTK': 18, 'P07948:LYN': 18, 'Q8WUF5:PPP1R13L': 17, 'Q9H3D4:TP63': 13, 'H2EHT1:TP53': 11, 'K7PPA8:TP53': 11, 'Q96KQ7:EHMT2': 8, 'O15350:TP73': 6, 'O75832:PSMD10': 3, 'Q99466:NOTCH4': 2, 'Q9H9B1:EHMT1': 2, 'Q99728:BARD1': 2, 'Q9ULT8:HECTD1': 2, 'Q53GA5:nan': 1})\n",
      "2021-11-20 02:50:33 |\u001b[32m INFO     \u001b[0m| helpers.helpers_analysis.mutual_exclusivity | Calculating Mutual Exclusivity over P04637's interactors ..\n",
      "2021-11-20 02:50:33 |\u001b[36m DEBUG    \u001b[0m| helpers.helpers_analysis.mutual_exclusivity | P04637 have 17 interactors:\n",
      "Counter({'Q13625:TP53BP2': 30, 'Q96KQ4:PPP1R13B': 30, 'P62993:GRB2': 19, 'Q06187:BTK': 18, 'P07948:LYN': 18, 'Q8WUF5:PPP1R13L': 17, 'Q9H3D4:TP63': 13, 'H2EHT1:TP53': 11, 'K7PPA8:TP53': 11, 'Q96KQ7:EHMT2': 8, 'O15350:TP73': 6, 'O75832:PSMD10': 3, 'Q99466:NOTCH4': 2, 'Q9H9B1:EHMT1': 2, 'Q99728:BARD1': 2, 'Q9ULT8:HECTD1': 2, 'Q53GA5:nan': 1})\n",
      "2021-11-20 02:50:33 |\u001b[36m DEBUG    \u001b[0m| helpers.helpers_analysis.mutual_exclusivity | Exporting Mutual Exclusivity ESCA P04637 ..\n",
      "2021-11-20 02:50:33 |\u001b[32m INFO     \u001b[0m| helpers.helpers_analysis.mutual_exclusivity | dev\\mutex_counts_and_probs\\ESCA_P04637_TP53_2021-11-20.csv is exported successfully.\n",
      "2021-11-20 02:50:33 |\u001b[32m INFO     \u001b[0m| helpers.helpers_analysis.mutual_exclusivity | Calculating Mutual Exclusivity over P04637's interactors ..\n",
      "2021-11-20 02:50:33 |\u001b[36m DEBUG    \u001b[0m| helpers.helpers_analysis.mutual_exclusivity | P04637 have 17 interactors:\n",
      "{'H2EHT1:TP53': 8.55, 'K7PPA8:TP53': 8.56, 'O15350:TP73': 4.65, 'O75832:PSMD10': 2.1, 'P07948:LYN': 11.69, 'P62993:GRB2': 14.02, 'Q06187:BTK': 14.02, 'Q13625:TP53BP2': 24.0, 'Q53GA5:nan': 0.65, 'Q8WUF5:PPP1R13L': 11.969999999999999, 'Q96KQ4:PPP1R13B': 22.84, 'Q96KQ7:EHMT2': 5.21, 'Q99466:NOTCH4': 1.2, 'Q99728:BARD1': 1.38, 'Q9H3D4:TP63': 10.27, 'Q9H9B1:EHMT1': 1.37, 'Q9ULT8:HECTD1': 1.46}\n",
      "2021-11-20 02:50:33 |\u001b[36m DEBUG    \u001b[0m| helpers.helpers_analysis.mutual_exclusivity | Exporting Mutual Exclusivity ESCA P04637 ..\n",
      "2021-11-20 02:50:33 |\u001b[32m INFO     \u001b[0m| helpers.helpers_analysis.mutual_exclusivity | dev\\mutex_counts_and_probs\\ESCA_P04637_TP53_PROBA_2021-11-20.csv is exported successfully.\n",
      "PROTEIN_GENE: P62805_H4C1\n",
      "2021-11-20 02:50:33 |\u001b[32m INFO     \u001b[0m| helpers.helpers_analysis.mutual_exclusivity | Calculating Mutual Exclusivity over P62805's interactors ..\n",
      "2021-11-20 02:50:33 |\u001b[36m DEBUG    \u001b[0m| helpers.helpers_analysis.mutual_exclusivity | P62805 have 11 interactors:\n",
      "Counter({'P68431:H3C1': 3, 'Q9UER7:DAXX': 3, 'Q53F85:nan': 3, 'Q16514:TAF12': 2, 'P06899:H2BC11': 2, 'Q16778:H2BC21': 2, 'P84243:H3-3A': 2, 'Q16695:H3-4': 2, 'Q71DI3:H3C15': 2, 'P49450:CENPA': 2, 'B4E1C1:nan': 2})\n",
      "2021-11-20 02:50:33 |\u001b[32m INFO     \u001b[0m| helpers.helpers_analysis.mutual_exclusivity | Calculating Mutual Exclusivity over P62805's interactors ..\n",
      "2021-11-20 02:50:33 |\u001b[36m DEBUG    \u001b[0m| helpers.helpers_analysis.mutual_exclusivity | P62805 have 11 interactors:\n",
      "Counter({'P68431:H3C1': 3, 'Q9UER7:DAXX': 3, 'Q53F85:nan': 3, 'Q16514:TAF12': 2, 'P06899:H2BC11': 2, 'Q16778:H2BC21': 2, 'P84243:H3-3A': 2, 'Q16695:H3-4': 2, 'Q71DI3:H3C15': 2, 'P49450:CENPA': 2, 'B4E1C1:nan': 2})\n",
      "2021-11-20 02:50:34 |\u001b[36m DEBUG    \u001b[0m| helpers.helpers_analysis.mutual_exclusivity | Exporting Mutual Exclusivity ESCA P62805 ..\n",
      "2021-11-20 02:50:34 |\u001b[32m INFO     \u001b[0m| helpers.helpers_analysis.mutual_exclusivity | dev\\mutex_counts_and_probs\\ESCA_P62805_H4C1_2021-11-20.csv is exported successfully.\n",
      "2021-11-20 02:50:34 |\u001b[32m INFO     \u001b[0m| helpers.helpers_analysis.mutual_exclusivity | Calculating Mutual Exclusivity over P62805's interactors ..\n",
      "2021-11-20 02:50:34 |\u001b[36m DEBUG    \u001b[0m| helpers.helpers_analysis.mutual_exclusivity | P62805 have 11 interactors:\n",
      "{'B4E1C1:nan': 1.1, 'P06899:H2BC11': 1.79, 'P49450:CENPA': 1.37, 'P68431:H3C1': 2.17, 'P84243:H3-3A': 1.45, 'Q16514:TAF12': 1.4100000000000001, 'Q16695:H3-4': 1.45, 'Q16778:H2BC21': 1.83, 'Q53F85:nan': 1.78, 'Q71DI3:H3C15': 1.3900000000000001, 'Q9UER7:DAXX': 1.75}\n",
      "2021-11-20 02:50:34 |\u001b[36m DEBUG    \u001b[0m| helpers.helpers_analysis.mutual_exclusivity | Exporting Mutual Exclusivity ESCA P62805 ..\n",
      "2021-11-20 02:50:34 |\u001b[32m INFO     \u001b[0m| helpers.helpers_analysis.mutual_exclusivity | dev\\mutex_counts_and_probs\\ESCA_P62805_H4C1_PROBA_2021-11-20.csv is exported successfully.\n",
      "Completed.\n"
     ]
    }
   ],
   "source": [
    "# ESCA\n",
    "export_mutex_data_for_selected_genes(ESCA_PRELIMINARY_DATA_PATH, esca_mutex)"
   ]
  },
  {
   "cell_type": "code",
   "execution_count": 18,
   "id": "b68b7247-d2eb-40d3-8628-9e3a1a3617d6",
   "metadata": {
    "scrolled": true,
    "tags": []
   },
   "outputs": [
    {
     "name": "stdout",
     "output_type": "stream",
     "text": [
      "PROTEIN_GENE: P04637_TP53\n",
      "2021-11-20 02:50:37 |\u001b[32m INFO     \u001b[0m| helpers.helpers_analysis.mutual_exclusivity | Calculating Mutual Exclusivity over P04637's interactors ..\n",
      "2021-11-20 02:50:37 |\u001b[36m DEBUG    \u001b[0m| helpers.helpers_analysis.mutual_exclusivity | P04637 have 19 interactors:\n",
      "Counter({'Q13625:TP53BP2': 30, 'Q96KQ4:PPP1R13B': 30, 'P62993:GRB2': 22, 'P07948:LYN': 19, 'Q9H3D4:TP63': 18, 'Q8WUF5:PPP1R13L': 18, 'Q06187:BTK': 18, 'H2EHT1:TP53': 14, 'K7PPA8:TP53': 14, 'O15350:TP73': 7, 'Q96KQ7:EHMT2': 6, 'Q9H9B1:EHMT1': 5, 'Q99728:BARD1': 5, 'O75832:PSMD10': 5, 'Q9ULT8:HECTD1': 5, 'Q99466:NOTCH4': 2, 'Q9GZV1:ANKRD2': 1, 'P25963:NFKBIA': 1, 'Q53GA5:nan': 1})\n",
      "2021-11-20 02:50:37 |\u001b[32m INFO     \u001b[0m| helpers.helpers_analysis.mutual_exclusivity | Calculating Mutual Exclusivity over P04637's interactors ..\n",
      "2021-11-20 02:50:37 |\u001b[36m DEBUG    \u001b[0m| helpers.helpers_analysis.mutual_exclusivity | P04637 have 19 interactors:\n",
      "Counter({'Q13625:TP53BP2': 30, 'Q96KQ4:PPP1R13B': 30, 'P62993:GRB2': 22, 'P07948:LYN': 19, 'Q9H3D4:TP63': 18, 'Q8WUF5:PPP1R13L': 18, 'Q06187:BTK': 18, 'H2EHT1:TP53': 14, 'K7PPA8:TP53': 14, 'O15350:TP73': 7, 'Q96KQ7:EHMT2': 6, 'Q9H9B1:EHMT1': 5, 'Q99728:BARD1': 5, 'O75832:PSMD10': 5, 'Q9ULT8:HECTD1': 5, 'Q99466:NOTCH4': 2, 'Q9GZV1:ANKRD2': 1, 'P25963:NFKBIA': 1, 'Q53GA5:nan': 1})\n",
      "2021-11-20 02:50:37 |\u001b[36m DEBUG    \u001b[0m| helpers.helpers_analysis.mutual_exclusivity | Exporting Mutual Exclusivity GBM P04637 ..\n",
      "2021-11-20 02:50:37 |\u001b[32m INFO     \u001b[0m| helpers.helpers_analysis.mutual_exclusivity | dev\\mutex_counts_and_probs\\GBM_P04637_TP53_2021-11-20.csv is exported successfully.\n",
      "2021-11-20 02:50:37 |\u001b[32m INFO     \u001b[0m| helpers.helpers_analysis.mutual_exclusivity | Calculating Mutual Exclusivity over P04637's interactors ..\n",
      "2021-11-20 02:50:37 |\u001b[36m DEBUG    \u001b[0m| helpers.helpers_analysis.mutual_exclusivity | P04637 have 19 interactors:\n",
      "{'H2EHT1:TP53': 11.06, 'K7PPA8:TP53': 11.120000000000001, 'O15350:TP73': 5.34, 'O75832:PSMD10': 3.68, 'P07948:LYN': 13.03, 'P25963:NFKBIA': 0.63, 'P62993:GRB2': 16.43, 'Q06187:BTK': 13.98, 'Q13625:TP53BP2': 24.52, 'Q53GA5:nan': 0.64, 'Q8WUF5:PPP1R13L': 12.94, 'Q96KQ4:PPP1R13B': 23.21, 'Q96KQ7:EHMT2': 3.9000000000000004, 'Q99466:NOTCH4': 1.4100000000000001, 'Q99728:BARD1': 3.5700000000000003, 'Q9GZV1:ANKRD2': 0.62, 'Q9H3D4:TP63': 13.91, 'Q9H9B1:EHMT1': 3.37, 'Q9ULT8:HECTD1': 3.45}\n",
      "2021-11-20 02:50:37 |\u001b[36m DEBUG    \u001b[0m| helpers.helpers_analysis.mutual_exclusivity | Exporting Mutual Exclusivity GBM P04637 ..\n",
      "2021-11-20 02:50:37 |\u001b[32m INFO     \u001b[0m| helpers.helpers_analysis.mutual_exclusivity | dev\\mutex_counts_and_probs\\GBM_P04637_TP53_PROBA_2021-11-20.csv is exported successfully.\n",
      "Completed.\n"
     ]
    }
   ],
   "source": [
    "# GBM\n",
    "export_mutex_data_for_selected_genes(GBM_PRELIMINARY_DATA_PATH, gbm_mutex)"
   ]
  },
  {
   "cell_type": "code",
   "execution_count": 19,
   "id": "5e185aa5-f22c-403e-8e95-a12d197c2f04",
   "metadata": {
    "scrolled": true,
    "tags": []
   },
   "outputs": [
    {
     "name": "stdout",
     "output_type": "stream",
     "text": [
      "PROTEIN_GENE: P01112_HRAS\n",
      "2021-11-20 02:50:40 |\u001b[32m INFO     \u001b[0m| helpers.helpers_analysis.mutual_exclusivity | Calculating Mutual Exclusivity over P01112's interactors ..\n",
      "2021-11-20 02:50:40 |\u001b[36m DEBUG    \u001b[0m| helpers.helpers_analysis.mutual_exclusivity | P01112 have 18 interactors:\n",
      "Counter({'Q07889:SOS1': 25, 'Q07890:SOS2': 25, 'G5E9C8:SOS1': 21, 'Q13972:RASGRF1': 16, 'Q9UJ41:RABGEF1': 15, 'Q13671:RIN1': 12, 'Q8IV61:RASGRP3': 11, 'Q9NZL6:RGL1': 9, 'Q12967:RALGDS': 3, 'Q15811:ITSN1': 3, 'P15498:VAV1': 3, 'Q13905:RAPGEF1': 3, 'Q13009:TIAM1': 3, 'Q9P212:PLCE1': 3, 'P10398:ARAF': 1, 'P08069:IGF1R': 1, 'P06239:LCK': 1, 'O95267:RASGRP1': 1})\n",
      "2021-11-20 02:50:41 |\u001b[32m INFO     \u001b[0m| helpers.helpers_analysis.mutual_exclusivity | Calculating Mutual Exclusivity over P01112's interactors ..\n",
      "2021-11-20 02:50:41 |\u001b[36m DEBUG    \u001b[0m| helpers.helpers_analysis.mutual_exclusivity | P01112 have 18 interactors:\n",
      "Counter({'Q07889:SOS1': 25, 'Q07890:SOS2': 25, 'G5E9C8:SOS1': 21, 'Q13972:RASGRF1': 16, 'Q9UJ41:RABGEF1': 15, 'Q13671:RIN1': 12, 'Q8IV61:RASGRP3': 11, 'Q9NZL6:RGL1': 9, 'Q12967:RALGDS': 3, 'Q15811:ITSN1': 3, 'P15498:VAV1': 3, 'Q13905:RAPGEF1': 3, 'Q13009:TIAM1': 3, 'Q9P212:PLCE1': 3, 'P10398:ARAF': 1, 'P08069:IGF1R': 1, 'P06239:LCK': 1, 'O95267:RASGRP1': 1})\n",
      "2021-11-20 02:50:41 |\u001b[36m DEBUG    \u001b[0m| helpers.helpers_analysis.mutual_exclusivity | Exporting Mutual Exclusivity HNSC P01112 ..\n",
      "2021-11-20 02:50:41 |\u001b[32m INFO     \u001b[0m| helpers.helpers_analysis.mutual_exclusivity | dev\\mutex_counts_and_probs\\HNSC_P01112_HRAS_2021-11-20.csv is exported successfully.\n",
      "2021-11-20 02:50:41 |\u001b[32m INFO     \u001b[0m| helpers.helpers_analysis.mutual_exclusivity | Calculating Mutual Exclusivity over P01112's interactors ..\n",
      "2021-11-20 02:50:41 |\u001b[36m DEBUG    \u001b[0m| helpers.helpers_analysis.mutual_exclusivity | P01112 have 18 interactors:\n",
      "{'G5E9C8:SOS1': 14.9, 'O95267:RASGRP1': 0.52, 'P06239:LCK': 0.76, 'P08069:IGF1R': 0.72, 'P10398:ARAF': 0.65, 'P15498:VAV1': 2.16, 'Q07889:SOS1': 16.84, 'Q07890:SOS2': 15.36, 'Q12967:RALGDS': 1.56, 'Q13009:TIAM1': 1.8900000000000001, 'Q13671:RIN1': 6.84, 'Q13905:RAPGEF1': 1.71, 'Q13972:RASGRF1': 8.63, 'Q15811:ITSN1': 1.83, 'Q8IV61:RASGRP3': 5.87, 'Q9NZL6:RGL1': 4.82, 'Q9P212:PLCE1': 1.6500000000000001, 'Q9UJ41:RABGEF1': 10.01}\n",
      "2021-11-20 02:50:41 |\u001b[36m DEBUG    \u001b[0m| helpers.helpers_analysis.mutual_exclusivity | Exporting Mutual Exclusivity HNSC P01112 ..\n",
      "2021-11-20 02:50:41 |\u001b[32m INFO     \u001b[0m| helpers.helpers_analysis.mutual_exclusivity | dev\\mutex_counts_and_probs\\HNSC_P01112_HRAS_PROBA_2021-11-20.csv is exported successfully.\n",
      "PROTEIN_GENE: P04637_TP53\n",
      "2021-11-20 02:50:41 |\u001b[32m INFO     \u001b[0m| helpers.helpers_analysis.mutual_exclusivity | Calculating Mutual Exclusivity over P04637's interactors ..\n",
      "2021-11-20 02:50:41 |\u001b[36m DEBUG    \u001b[0m| helpers.helpers_analysis.mutual_exclusivity | P04637 have 16 interactors:\n",
      "Counter({'Q96KQ4:PPP1R13B': 49, 'Q13625:TP53BP2': 48, 'P62993:GRB2': 36, 'Q06187:BTK': 32, 'Q8WUF5:PPP1R13L': 28, 'Q9H3D4:TP63': 26, 'P07948:LYN': 23, 'H2EHT1:TP53': 22, 'K7PPA8:TP53': 22, 'Q96KQ7:EHMT2': 18, 'O15350:TP73': 15, 'Q9H9B1:EHMT1': 9, 'Q99728:BARD1': 9, 'O75832:PSMD10': 9, 'Q9ULT8:HECTD1': 9, 'Q99466:NOTCH4': 1})\n",
      "2021-11-20 02:50:41 |\u001b[32m INFO     \u001b[0m| helpers.helpers_analysis.mutual_exclusivity | Calculating Mutual Exclusivity over P04637's interactors ..\n",
      "2021-11-20 02:50:41 |\u001b[36m DEBUG    \u001b[0m| helpers.helpers_analysis.mutual_exclusivity | P04637 have 16 interactors:\n",
      "Counter({'Q96KQ4:PPP1R13B': 49, 'Q13625:TP53BP2': 48, 'P62993:GRB2': 36, 'Q06187:BTK': 32, 'Q8WUF5:PPP1R13L': 28, 'Q9H3D4:TP63': 26, 'P07948:LYN': 23, 'H2EHT1:TP53': 22, 'K7PPA8:TP53': 22, 'Q96KQ7:EHMT2': 18, 'O15350:TP73': 15, 'Q9H9B1:EHMT1': 9, 'Q99728:BARD1': 9, 'O75832:PSMD10': 9, 'Q9ULT8:HECTD1': 9, 'Q99466:NOTCH4': 1})\n",
      "2021-11-20 02:50:42 |\u001b[36m DEBUG    \u001b[0m| helpers.helpers_analysis.mutual_exclusivity | Exporting Mutual Exclusivity HNSC P04637 ..\n",
      "2021-11-20 02:50:42 |\u001b[32m INFO     \u001b[0m| helpers.helpers_analysis.mutual_exclusivity | dev\\mutex_counts_and_probs\\HNSC_P04637_TP53_2021-11-20.csv is exported successfully.\n",
      "2021-11-20 02:50:42 |\u001b[32m INFO     \u001b[0m| helpers.helpers_analysis.mutual_exclusivity | Calculating Mutual Exclusivity over P04637's interactors ..\n",
      "2021-11-20 02:50:42 |\u001b[36m DEBUG    \u001b[0m| helpers.helpers_analysis.mutual_exclusivity | P04637 have 16 interactors:\n",
      "{'H2EHT1:TP53': 16.68, 'K7PPA8:TP53': 16.54, 'O15350:TP73': 11.72, 'O75832:PSMD10': 6.54, 'P07948:LYN': 16.15, 'P62993:GRB2': 26.22, 'Q06187:BTK': 24.8, 'Q13625:TP53BP2': 38.95, 'Q8WUF5:PPP1R13L': 20.93, 'Q96KQ4:PPP1R13B': 38.51, 'Q96KQ7:EHMT2': 11.85, 'Q99466:NOTCH4': 0.57, 'Q99728:BARD1': 6.34, 'Q9H3D4:TP63': 19.78, 'Q9H9B1:EHMT1': 6.22, 'Q9ULT8:HECTD1': 6.38}\n",
      "2021-11-20 02:50:42 |\u001b[36m DEBUG    \u001b[0m| helpers.helpers_analysis.mutual_exclusivity | Exporting Mutual Exclusivity HNSC P04637 ..\n",
      "2021-11-20 02:50:42 |\u001b[32m INFO     \u001b[0m| helpers.helpers_analysis.mutual_exclusivity | dev\\mutex_counts_and_probs\\HNSC_P04637_TP53_PROBA_2021-11-20.csv is exported successfully.\n",
      "PROTEIN_GENE: P05129_PRKCG\n",
      "2021-11-20 02:50:42 |\u001b[32m INFO     \u001b[0m| helpers.helpers_analysis.mutual_exclusivity | Calculating Mutual Exclusivity over P05129's interactors ..\n",
      "2021-11-20 02:50:42 |\u001b[36m DEBUG    \u001b[0m| helpers.helpers_analysis.mutual_exclusivity | P05129 have 11 interactors:\n",
      "Counter({'P10398:ARAF': 1, 'P22694:PRKACB': 1, 'P49840:GSK3A': 1, 'P60953:CDC42': 1, 'Q9P2D0:IBTK': 1, 'P04049:RAF1': 1, 'Q05397:PTK2': 1, 'Q14289:PTK2B': 1, 'P51817:PRKX': 1, 'P51178:PLCD1': 1, 'Q9BRC7:PLCD4': 1})\n",
      "2021-11-20 02:50:42 |\u001b[32m INFO     \u001b[0m| helpers.helpers_analysis.mutual_exclusivity | Calculating Mutual Exclusivity over P05129's interactors ..\n",
      "2021-11-20 02:50:42 |\u001b[36m DEBUG    \u001b[0m| helpers.helpers_analysis.mutual_exclusivity | P05129 have 11 interactors:\n",
      "Counter({'P10398:ARAF': 1, 'P22694:PRKACB': 1, 'P49840:GSK3A': 1, 'P60953:CDC42': 1, 'Q9P2D0:IBTK': 1, 'P04049:RAF1': 1, 'Q05397:PTK2': 1, 'Q14289:PTK2B': 1, 'P51817:PRKX': 1, 'P51178:PLCD1': 1, 'Q9BRC7:PLCD4': 1})\n",
      "2021-11-20 02:50:42 |\u001b[36m DEBUG    \u001b[0m| helpers.helpers_analysis.mutual_exclusivity | Exporting Mutual Exclusivity HNSC P05129 ..\n",
      "2021-11-20 02:50:42 |\u001b[32m INFO     \u001b[0m| helpers.helpers_analysis.mutual_exclusivity | dev\\mutex_counts_and_probs\\HNSC_P05129_PRKCG_2021-11-20.csv is exported successfully.\n",
      "2021-11-20 02:50:42 |\u001b[32m INFO     \u001b[0m| helpers.helpers_analysis.mutual_exclusivity | Calculating Mutual Exclusivity over P05129's interactors ..\n",
      "2021-11-20 02:50:42 |\u001b[36m DEBUG    \u001b[0m| helpers.helpers_analysis.mutual_exclusivity | P05129 have 11 interactors:\n",
      "{'P04049:RAF1': 0.55, 'P10398:ARAF': 0.58, 'P22694:PRKACB': 0.71, 'P49840:GSK3A': 0.7, 'P51178:PLCD1': 0.71, 'P51817:PRKX': 0.71, 'P60953:CDC42': 0.56, 'Q05397:PTK2': 0.57, 'Q14289:PTK2B': 0.57, 'Q9BRC7:PLCD4': 0.62, 'Q9P2D0:IBTK': 0.53}\n",
      "2021-11-20 02:50:42 |\u001b[36m DEBUG    \u001b[0m| helpers.helpers_analysis.mutual_exclusivity | Exporting Mutual Exclusivity HNSC P05129 ..\n",
      "2021-11-20 02:50:42 |\u001b[32m INFO     \u001b[0m| helpers.helpers_analysis.mutual_exclusivity | dev\\mutex_counts_and_probs\\HNSC_P05129_PRKCG_PROBA_2021-11-20.csv is exported successfully.\n",
      "PROTEIN_GENE: P15056_BRAF\n",
      "2021-11-20 02:50:42 |\u001b[32m INFO     \u001b[0m| helpers.helpers_analysis.mutual_exclusivity | Calculating Mutual Exclusivity over P15056's interactors ..\n",
      "2021-11-20 02:50:42 |\u001b[36m DEBUG    \u001b[0m| helpers.helpers_analysis.mutual_exclusivity | P15056 have 5 interactors:\n",
      "Counter({'Q13177:PAK2': 3, 'P17252:PRKCA': 2, 'P53667:LIMK1': 2, 'P36507:MAP2K2': 1, 'A4QPA9:MAP2K1': 1})\n",
      "2021-11-20 02:50:42 |\u001b[32m INFO     \u001b[0m| helpers.helpers_analysis.mutual_exclusivity | Calculating Mutual Exclusivity over P15056's interactors ..\n",
      "2021-11-20 02:50:42 |\u001b[36m DEBUG    \u001b[0m| helpers.helpers_analysis.mutual_exclusivity | P15056 have 5 interactors:\n",
      "Counter({'Q13177:PAK2': 3, 'P17252:PRKCA': 2, 'P53667:LIMK1': 2, 'P36507:MAP2K2': 1, 'A4QPA9:MAP2K1': 1})\n",
      "2021-11-20 02:50:42 |\u001b[36m DEBUG    \u001b[0m| helpers.helpers_analysis.mutual_exclusivity | Exporting Mutual Exclusivity HNSC P15056 ..\n",
      "2021-11-20 02:50:42 |\u001b[32m INFO     \u001b[0m| helpers.helpers_analysis.mutual_exclusivity | dev\\mutex_counts_and_probs\\HNSC_P15056_BRAF_2021-11-20.csv is exported successfully.\n",
      "2021-11-20 02:50:42 |\u001b[32m INFO     \u001b[0m| helpers.helpers_analysis.mutual_exclusivity | Calculating Mutual Exclusivity over P15056's interactors ..\n",
      "2021-11-20 02:50:42 |\u001b[36m DEBUG    \u001b[0m| helpers.helpers_analysis.mutual_exclusivity | P15056 have 5 interactors:\n",
      "{'A4QPA9:MAP2K1': 0.61, 'P17252:PRKCA': 1.4300000000000002, 'P36507:MAP2K2': 0.61, 'P53667:LIMK1': 1.07, 'Q13177:PAK2': 2.08}\n",
      "2021-11-20 02:50:43 |\u001b[36m DEBUG    \u001b[0m| helpers.helpers_analysis.mutual_exclusivity | Exporting Mutual Exclusivity HNSC P15056 ..\n",
      "2021-11-20 02:50:43 |\u001b[32m INFO     \u001b[0m| helpers.helpers_analysis.mutual_exclusivity | dev\\mutex_counts_and_probs\\HNSC_P15056_BRAF_PROBA_2021-11-20.csv is exported successfully.\n",
      "PROTEIN_GENE: P22607_FGFR3\n",
      "2021-11-20 02:50:43 |\u001b[32m INFO     \u001b[0m| helpers.helpers_analysis.mutual_exclusivity | Calculating Mutual Exclusivity over P22607's interactors ..\n",
      "2021-11-20 02:50:43 |\u001b[36m DEBUG    \u001b[0m| helpers.helpers_analysis.mutual_exclusivity | P22607 have 12 interactors:\n",
      "Counter({'P09038:FGF2': 4, 'P10767:FGF6': 4, 'P05230:FGF1': 4, 'P61328:FGF12': 4, 'A1A515:FGF8': 4, 'P55075:FGF8': 3, 'P08620:FGF4': 3, 'A8K147:nan': 3, 'Q9GZV9:FGF23': 1, 'O95750:FGF19': 1, 'P11487:FGF3': 1, 'O15524:SOCS1': 1})\n",
      "2021-11-20 02:50:43 |\u001b[32m INFO     \u001b[0m| helpers.helpers_analysis.mutual_exclusivity | Calculating Mutual Exclusivity over P22607's interactors ..\n",
      "2021-11-20 02:50:43 |\u001b[36m DEBUG    \u001b[0m| helpers.helpers_analysis.mutual_exclusivity | P22607 have 12 interactors:\n",
      "Counter({'P09038:FGF2': 4, 'P10767:FGF6': 4, 'P05230:FGF1': 4, 'P61328:FGF12': 4, 'A1A515:FGF8': 4, 'P55075:FGF8': 3, 'P08620:FGF4': 3, 'A8K147:nan': 3, 'Q9GZV9:FGF23': 1, 'O95750:FGF19': 1, 'P11487:FGF3': 1, 'O15524:SOCS1': 1})\n",
      "2021-11-20 02:50:43 |\u001b[36m DEBUG    \u001b[0m| helpers.helpers_analysis.mutual_exclusivity | Exporting Mutual Exclusivity HNSC P22607 ..\n",
      "2021-11-20 02:50:43 |\u001b[32m INFO     \u001b[0m| helpers.helpers_analysis.mutual_exclusivity | dev\\mutex_counts_and_probs\\HNSC_P22607_FGFR3_2021-11-20.csv is exported successfully.\n",
      "2021-11-20 02:50:43 |\u001b[32m INFO     \u001b[0m| helpers.helpers_analysis.mutual_exclusivity | Calculating Mutual Exclusivity over P22607's interactors ..\n",
      "2021-11-20 02:50:43 |\u001b[36m DEBUG    \u001b[0m| helpers.helpers_analysis.mutual_exclusivity | P22607 have 12 interactors:\n",
      "{'A1A515:FGF8': 2.12, 'A8K147:nan': 1.62, 'O15524:SOCS1': 0.59, 'O95750:FGF19': 0.52, 'P05230:FGF1': 2.45, 'P08620:FGF4': 1.77, 'P09038:FGF2': 2.85, 'P10767:FGF6': 2.16, 'P11487:FGF3': 0.59, 'P55075:FGF8': 1.62, 'P61328:FGF12': 2.16, 'Q9GZV9:FGF23': 0.58}\n",
      "2021-11-20 02:50:43 |\u001b[36m DEBUG    \u001b[0m| helpers.helpers_analysis.mutual_exclusivity | Exporting Mutual Exclusivity HNSC P22607 ..\n",
      "2021-11-20 02:50:43 |\u001b[32m INFO     \u001b[0m| helpers.helpers_analysis.mutual_exclusivity | dev\\mutex_counts_and_probs\\HNSC_P22607_FGFR3_PROBA_2021-11-20.csv is exported successfully.\n",
      "PROTEIN_GENE: P42771_CDKN2A\n",
      "2021-11-20 02:50:43 |\u001b[32m INFO     \u001b[0m| helpers.helpers_analysis.mutual_exclusivity | Calculating Mutual Exclusivity over P42771's interactors ..\n",
      "2021-11-20 02:50:43 |\u001b[36m DEBUG    \u001b[0m| helpers.helpers_analysis.mutual_exclusivity | P42771 have 23 interactors:\n",
      "Counter({'P11802:CDK4': 15, 'P29320:EPHA3': 11, 'O14920:IKBKB': 11, 'P17252:PRKCA': 11, 'A4D1G0:CDK6': 9, 'Q00534:CDK6': 8, 'A1L4K2:MAPK8': 8, 'Q9UQ88:CDK11A': 7, 'P45983:MAPK8': 7, 'O14965:AURKA': 7, 'B2R6V2:nan': 7, 'P49760:CLK2': 6, 'P53779:MAPK10': 6, 'O00311:CDC7': 4, 'Q8NE63:HIPK4': 4, 'A8MWW6:nan': 3, 'Q14164:IKBKE': 3, 'Q9Y463:DYRK1B': 3, 'P07437:TUBB': 2, 'Q499Y8:MAPK10': 2, 'Q71U36:TUBA1A': 1, 'Q9BQE3:TUBA1C': 1, 'P68371:TUBB4B': 1})\n",
      "2021-11-20 02:50:43 |\u001b[32m INFO     \u001b[0m| helpers.helpers_analysis.mutual_exclusivity | Calculating Mutual Exclusivity over P42771's interactors ..\n",
      "2021-11-20 02:50:43 |\u001b[36m DEBUG    \u001b[0m| helpers.helpers_analysis.mutual_exclusivity | P42771 have 23 interactors:\n",
      "Counter({'P11802:CDK4': 15, 'P29320:EPHA3': 11, 'O14920:IKBKB': 11, 'P17252:PRKCA': 11, 'A4D1G0:CDK6': 9, 'Q00534:CDK6': 8, 'A1L4K2:MAPK8': 8, 'Q9UQ88:CDK11A': 7, 'P45983:MAPK8': 7, 'O14965:AURKA': 7, 'B2R6V2:nan': 7, 'P49760:CLK2': 6, 'P53779:MAPK10': 6, 'O00311:CDC7': 4, 'Q8NE63:HIPK4': 4, 'A8MWW6:nan': 3, 'Q14164:IKBKE': 3, 'Q9Y463:DYRK1B': 3, 'P07437:TUBB': 2, 'Q499Y8:MAPK10': 2, 'Q71U36:TUBA1A': 1, 'Q9BQE3:TUBA1C': 1, 'P68371:TUBB4B': 1})\n",
      "2021-11-20 02:50:44 |\u001b[36m DEBUG    \u001b[0m| helpers.helpers_analysis.mutual_exclusivity | Exporting Mutual Exclusivity HNSC P42771 ..\n",
      "2021-11-20 02:50:44 |\u001b[32m INFO     \u001b[0m| helpers.helpers_analysis.mutual_exclusivity | dev\\mutex_counts_and_probs\\HNSC_P42771_CDKN2A_2021-11-20.csv is exported successfully.\n",
      "2021-11-20 02:50:44 |\u001b[32m INFO     \u001b[0m| helpers.helpers_analysis.mutual_exclusivity | Calculating Mutual Exclusivity over P42771's interactors ..\n",
      "2021-11-20 02:50:44 |\u001b[36m DEBUG    \u001b[0m| helpers.helpers_analysis.mutual_exclusivity | P42771 have 23 interactors:\n",
      "{'A1L4K2:MAPK8': 5.22, 'A4D1G0:CDK6': 6.0, 'A8MWW6:nan': 1.85, 'B2R6V2:nan': 5.140000000000001, 'O00311:CDC7': 2.5, 'O14920:IKBKB': 6.5, 'O14965:AURKA': 4.05, 'P07437:TUBB': 1.4, 'P11802:CDK4': 10.09, 'P17252:PRKCA': 6.12, 'P29320:EPHA3': 6.46, 'P45983:MAPK8': 4.53, 'P49760:CLK2': 3.52, 'P53779:MAPK10': 3.46, 'P68371:TUBB4B': 0.85, 'Q00534:CDK6': 5.44, 'Q14164:IKBKE': 1.83, 'Q499Y8:MAPK10': 1.24, 'Q71U36:TUBA1A': 0.86, 'Q8NE63:HIPK4': 2.1100000000000003, 'Q9BQE3:TUBA1C': 0.86, 'Q9UQ88:CDK11A': 4.51, 'Q9Y463:DYRK1B': 1.75}\n",
      "2021-11-20 02:50:44 |\u001b[36m DEBUG    \u001b[0m| helpers.helpers_analysis.mutual_exclusivity | Exporting Mutual Exclusivity HNSC P42771 ..\n",
      "2021-11-20 02:50:44 |\u001b[32m INFO     \u001b[0m| helpers.helpers_analysis.mutual_exclusivity | dev\\mutex_counts_and_probs\\HNSC_P42771_CDKN2A_PROBA_2021-11-20.csv is exported successfully.\n",
      "PROTEIN_GENE: P61586_RHOA\n",
      "2021-11-20 02:50:44 |\u001b[32m INFO     \u001b[0m| helpers.helpers_analysis.mutual_exclusivity | Calculating Mutual Exclusivity over P61586's interactors ..\n",
      "2021-11-20 02:50:44 |\u001b[36m DEBUG    \u001b[0m| helpers.helpers_analysis.mutual_exclusivity | P61586 have 15 interactors:\n",
      "Counter({'Q16513:PKN2': 2, 'O14578:CIT': 1, 'O75962:TRIO': 1, 'P17612:PRKACA': 1, 'Q9Y4D1:DAAM1': 1, 'Q9NSV4:DIAPH3': 1, 'P52565:ARHGDIA': 1, 'P52566:ARHGDIB': 1, 'Q99819:ARHGDIG': 1, 'O15068:MCF2L': 1, 'O43157:PLXNB1': 1, 'Q7Z628:NET1': 1, 'O60610:DIAPH1': 1, 'Q5S007:LRRK2': 1, 'Q07960:ARHGAP1': 1})\n",
      "2021-11-20 02:50:44 |\u001b[32m INFO     \u001b[0m| helpers.helpers_analysis.mutual_exclusivity | Calculating Mutual Exclusivity over P61586's interactors ..\n",
      "2021-11-20 02:50:44 |\u001b[36m DEBUG    \u001b[0m| helpers.helpers_analysis.mutual_exclusivity | P61586 have 15 interactors:\n",
      "Counter({'Q16513:PKN2': 2, 'O14578:CIT': 1, 'O75962:TRIO': 1, 'P17612:PRKACA': 1, 'Q9Y4D1:DAAM1': 1, 'Q9NSV4:DIAPH3': 1, 'P52565:ARHGDIA': 1, 'P52566:ARHGDIB': 1, 'Q99819:ARHGDIG': 1, 'O15068:MCF2L': 1, 'O43157:PLXNB1': 1, 'Q7Z628:NET1': 1, 'O60610:DIAPH1': 1, 'Q5S007:LRRK2': 1, 'Q07960:ARHGAP1': 1})\n",
      "2021-11-20 02:50:44 |\u001b[36m DEBUG    \u001b[0m| helpers.helpers_analysis.mutual_exclusivity | Exporting Mutual Exclusivity HNSC P61586 ..\n",
      "2021-11-20 02:50:44 |\u001b[32m INFO     \u001b[0m| helpers.helpers_analysis.mutual_exclusivity | dev\\mutex_counts_and_probs\\HNSC_P61586_RHOA_2021-11-20.csv is exported successfully.\n",
      "2021-11-20 02:50:44 |\u001b[32m INFO     \u001b[0m| helpers.helpers_analysis.mutual_exclusivity | Calculating Mutual Exclusivity over P61586's interactors ..\n",
      "2021-11-20 02:50:44 |\u001b[36m DEBUG    \u001b[0m| helpers.helpers_analysis.mutual_exclusivity | P61586 have 15 interactors:\n",
      "{'O14578:CIT': 0.68, 'O15068:MCF2L': 0.63, 'O43157:PLXNB1': 0.6, 'O60610:DIAPH1': 0.54, 'O75962:TRIO': 0.56, 'P17612:PRKACA': 0.66, 'P52565:ARHGDIA': 0.68, 'P52566:ARHGDIB': 0.64, 'Q07960:ARHGAP1': 0.69, 'Q16513:PKN2': 1.09, 'Q5S007:LRRK2': 0.56, 'Q7Z628:NET1': 0.54, 'Q99819:ARHGDIG': 0.62, 'Q9NSV4:DIAPH3': 0.73, 'Q9Y4D1:DAAM1': 0.61}\n",
      "2021-11-20 02:50:45 |\u001b[36m DEBUG    \u001b[0m| helpers.helpers_analysis.mutual_exclusivity | Exporting Mutual Exclusivity HNSC P61586 ..\n",
      "2021-11-20 02:50:45 |\u001b[32m INFO     \u001b[0m| helpers.helpers_analysis.mutual_exclusivity | dev\\mutex_counts_and_probs\\HNSC_P61586_RHOA_PROBA_2021-11-20.csv is exported successfully.\n",
      "PROTEIN_GENE: P62805_H4C1\n",
      "2021-11-20 02:50:45 |\u001b[32m INFO     \u001b[0m| helpers.helpers_analysis.mutual_exclusivity | Calculating Mutual Exclusivity over P62805's interactors ..\n",
      "2021-11-20 02:50:45 |\u001b[36m DEBUG    \u001b[0m| helpers.helpers_analysis.mutual_exclusivity | P62805 have 17 interactors:\n",
      "Counter({'P84243:H3-3A': 11, 'P68431:H3C1': 11, 'Q9UER7:DAXX': 11, 'Q53F85:nan': 10, 'Q16695:H3-4': 9, 'Q71DI3:H3C15': 9, 'P49450:CENPA': 9, 'B4E1C1:nan': 8, 'Q16514:TAF12': 5, 'P06899:H2BC11': 5, 'Q16778:H2BC21': 5, 'P04908:H2AC4': 2, 'P16104:H2AX': 2, 'P0C0S5:H2AZ1': 2, 'Q9Y294:ASF1A': 2, 'Q16777:H2AC20': 2, 'Q9NVP2:ASF1B': 2})\n",
      "2021-11-20 02:50:45 |\u001b[32m INFO     \u001b[0m| helpers.helpers_analysis.mutual_exclusivity | Calculating Mutual Exclusivity over P62805's interactors ..\n",
      "2021-11-20 02:50:45 |\u001b[36m DEBUG    \u001b[0m| helpers.helpers_analysis.mutual_exclusivity | P62805 have 17 interactors:\n",
      "Counter({'P84243:H3-3A': 11, 'P68431:H3C1': 11, 'Q9UER7:DAXX': 11, 'Q53F85:nan': 10, 'Q16695:H3-4': 9, 'Q71DI3:H3C15': 9, 'P49450:CENPA': 9, 'B4E1C1:nan': 8, 'Q16514:TAF12': 5, 'P06899:H2BC11': 5, 'Q16778:H2BC21': 5, 'P04908:H2AC4': 2, 'P16104:H2AX': 2, 'P0C0S5:H2AZ1': 2, 'Q9Y294:ASF1A': 2, 'Q16777:H2AC20': 2, 'Q9NVP2:ASF1B': 2})\n",
      "2021-11-20 02:50:45 |\u001b[36m DEBUG    \u001b[0m| helpers.helpers_analysis.mutual_exclusivity | Exporting Mutual Exclusivity HNSC P62805 ..\n",
      "2021-11-20 02:50:45 |\u001b[32m INFO     \u001b[0m| helpers.helpers_analysis.mutual_exclusivity | dev\\mutex_counts_and_probs\\HNSC_P62805_H4C1_2021-11-20.csv is exported successfully.\n",
      "2021-11-20 02:50:45 |\u001b[32m INFO     \u001b[0m| helpers.helpers_analysis.mutual_exclusivity | Calculating Mutual Exclusivity over P62805's interactors ..\n",
      "2021-11-20 02:50:45 |\u001b[36m DEBUG    \u001b[0m| helpers.helpers_analysis.mutual_exclusivity | P62805 have 17 interactors:\n",
      "{'B4E1C1:nan': 4.64, 'P04908:H2AC4': 1.6400000000000001, 'P06899:H2BC11': 4.43, 'P0C0S5:H2AZ1': 1.5899999999999999, 'P16104:H2AX': 1.6600000000000001, 'P49450:CENPA': 5.32, 'P68431:H3C1': 8.2, 'P84243:H3-3A': 7.09, 'Q16514:TAF12': 3.4899999999999998, 'Q16695:H3-4': 6.13, 'Q16777:H2AC20': 1.6600000000000001, 'Q16778:H2BC21': 4.59, 'Q53F85:nan': 5.85, 'Q71DI3:H3C15': 6.14, 'Q9NVP2:ASF1B': 1.58, 'Q9UER7:DAXX': 6.77, 'Q9Y294:ASF1A': 1.58}\n",
      "2021-11-20 02:50:45 |\u001b[36m DEBUG    \u001b[0m| helpers.helpers_analysis.mutual_exclusivity | Exporting Mutual Exclusivity HNSC P62805 ..\n",
      "2021-11-20 02:50:45 |\u001b[32m INFO     \u001b[0m| helpers.helpers_analysis.mutual_exclusivity | dev\\mutex_counts_and_probs\\HNSC_P62805_H4C1_PROBA_2021-11-20.csv is exported successfully.\n",
      "PROTEIN_GENE: P63000_RAC1\n",
      "2021-11-20 02:50:45 |\u001b[32m INFO     \u001b[0m| helpers.helpers_analysis.mutual_exclusivity | Calculating Mutual Exclusivity over P63000's interactors ..\n",
      "2021-11-20 02:50:45 |\u001b[36m DEBUG    \u001b[0m| helpers.helpers_analysis.mutual_exclusivity | P63000 have 7 interactors:\n",
      "Counter({'Q17R89:ARHGAP44': 8, 'Q8NF50:DOCK8': 2, 'Q13972:RASGRF1': 2, 'Q14185:DOCK1': 1, 'Q92608:DOCK2': 1, 'Q15286:RAB35': 1, 'O14559:ARHGAP33': 1})\n",
      "2021-11-20 02:50:45 |\u001b[32m INFO     \u001b[0m| helpers.helpers_analysis.mutual_exclusivity | Calculating Mutual Exclusivity over P63000's interactors ..\n",
      "2021-11-20 02:50:45 |\u001b[36m DEBUG    \u001b[0m| helpers.helpers_analysis.mutual_exclusivity | P63000 have 7 interactors:\n",
      "Counter({'Q17R89:ARHGAP44': 8, 'Q8NF50:DOCK8': 2, 'Q13972:RASGRF1': 2, 'Q14185:DOCK1': 1, 'Q92608:DOCK2': 1, 'Q15286:RAB35': 1, 'O14559:ARHGAP33': 1})\n",
      "2021-11-20 02:50:45 |\u001b[36m DEBUG    \u001b[0m| helpers.helpers_analysis.mutual_exclusivity | Exporting Mutual Exclusivity HNSC P63000 ..\n",
      "2021-11-20 02:50:45 |\u001b[32m INFO     \u001b[0m| helpers.helpers_analysis.mutual_exclusivity | dev\\mutex_counts_and_probs\\HNSC_P63000_RAC1_2021-11-20.csv is exported successfully.\n",
      "2021-11-20 02:50:46 |\u001b[32m INFO     \u001b[0m| helpers.helpers_analysis.mutual_exclusivity | Calculating Mutual Exclusivity over P63000's interactors ..\n",
      "2021-11-20 02:50:46 |\u001b[36m DEBUG    \u001b[0m| helpers.helpers_analysis.mutual_exclusivity | P63000 have 7 interactors:\n",
      "{'O14559:ARHGAP33': 0.64, 'Q13972:RASGRF1': 1.25, 'Q14185:DOCK1': 0.65, 'Q15286:RAB35': 0.76, 'Q17R89:ARHGAP44': 4.88, 'Q8NF50:DOCK8': 1.58, 'Q92608:DOCK2': 0.79}\n",
      "2021-11-20 02:50:46 |\u001b[36m DEBUG    \u001b[0m| helpers.helpers_analysis.mutual_exclusivity | Exporting Mutual Exclusivity HNSC P63000 ..\n",
      "2021-11-20 02:50:46 |\u001b[32m INFO     \u001b[0m| helpers.helpers_analysis.mutual_exclusivity | dev\\mutex_counts_and_probs\\HNSC_P63000_RAC1_PROBA_2021-11-20.csv is exported successfully.\n",
      "PROTEIN_GENE: Q16288_NTRK3\n",
      "2021-11-20 02:50:46 |\u001b[32m INFO     \u001b[0m| helpers.helpers_analysis.mutual_exclusivity | Calculating Mutual Exclusivity over Q16288's interactors ..\n",
      "2021-11-20 02:50:46 |\u001b[36m DEBUG    \u001b[0m| helpers.helpers_analysis.mutual_exclusivity | Q16288 have 1 interactors:\n",
      "Counter({'P27361:MAPK3': 1})\n",
      "2021-11-20 02:50:46 |\u001b[32m INFO     \u001b[0m| helpers.helpers_analysis.mutual_exclusivity | Calculating Mutual Exclusivity over Q16288's interactors ..\n",
      "2021-11-20 02:50:46 |\u001b[36m DEBUG    \u001b[0m| helpers.helpers_analysis.mutual_exclusivity | Q16288 have 1 interactors:\n",
      "Counter({'P27361:MAPK3': 1})\n",
      "2021-11-20 02:50:46 |\u001b[36m DEBUG    \u001b[0m| helpers.helpers_analysis.mutual_exclusivity | Exporting Mutual Exclusivity HNSC Q16288 ..\n",
      "2021-11-20 02:50:46 |\u001b[32m INFO     \u001b[0m| helpers.helpers_analysis.mutual_exclusivity | dev\\mutex_counts_and_probs\\HNSC_Q16288_NTRK3_2021-11-20.csv is exported successfully.\n",
      "2021-11-20 02:50:46 |\u001b[32m INFO     \u001b[0m| helpers.helpers_analysis.mutual_exclusivity | Calculating Mutual Exclusivity over Q16288's interactors ..\n",
      "2021-11-20 02:50:46 |\u001b[36m DEBUG    \u001b[0m| helpers.helpers_analysis.mutual_exclusivity | Q16288 have 1 interactors:\n",
      "{'P27361:MAPK3': 0.78}\n",
      "2021-11-20 02:50:46 |\u001b[36m DEBUG    \u001b[0m| helpers.helpers_analysis.mutual_exclusivity | Exporting Mutual Exclusivity HNSC Q16288 ..\n",
      "2021-11-20 02:50:46 |\u001b[32m INFO     \u001b[0m| helpers.helpers_analysis.mutual_exclusivity | dev\\mutex_counts_and_probs\\HNSC_Q16288_NTRK3_PROBA_2021-11-20.csv is exported successfully.\n",
      "PROTEIN_GENE: Q7Z6Z7_HUWE1\n",
      "2021-11-20 02:50:46 |\u001b[32m INFO     \u001b[0m| helpers.helpers_analysis.mutual_exclusivity | Calculating Mutual Exclusivity over Q7Z6Z7's interactors ..\n",
      "2021-11-20 02:50:46 |\u001b[36m DEBUG    \u001b[0m| helpers.helpers_analysis.mutual_exclusivity | Q7Z6Z7 have 8 interactors:\n",
      "Counter({'P62837:UBE2D2': 4, 'P61077:UBE2D3': 4, 'P54725:RAD23A': 4, 'P11441:UBL4A': 4, 'Q969T4:UBE2E3': 3, 'P51668:UBE2D1': 3, 'P62253:UBE2G1': 3, 'P68036:UBE2L3': 2})\n",
      "2021-11-20 02:50:46 |\u001b[32m INFO     \u001b[0m| helpers.helpers_analysis.mutual_exclusivity | Calculating Mutual Exclusivity over Q7Z6Z7's interactors ..\n",
      "2021-11-20 02:50:46 |\u001b[36m DEBUG    \u001b[0m| helpers.helpers_analysis.mutual_exclusivity | Q7Z6Z7 have 8 interactors:\n",
      "Counter({'P62837:UBE2D2': 4, 'P61077:UBE2D3': 4, 'P54725:RAD23A': 4, 'P11441:UBL4A': 4, 'Q969T4:UBE2E3': 3, 'P51668:UBE2D1': 3, 'P62253:UBE2G1': 3, 'P68036:UBE2L3': 2})\n",
      "2021-11-20 02:50:46 |\u001b[36m DEBUG    \u001b[0m| helpers.helpers_analysis.mutual_exclusivity | Exporting Mutual Exclusivity HNSC Q7Z6Z7 ..\n",
      "2021-11-20 02:50:46 |\u001b[32m INFO     \u001b[0m| helpers.helpers_analysis.mutual_exclusivity | dev\\mutex_counts_and_probs\\HNSC_Q7Z6Z7_HUWE1_2021-11-20.csv is exported successfully.\n",
      "2021-11-20 02:50:46 |\u001b[32m INFO     \u001b[0m| helpers.helpers_analysis.mutual_exclusivity | Calculating Mutual Exclusivity over Q7Z6Z7's interactors ..\n",
      "2021-11-20 02:50:46 |\u001b[36m DEBUG    \u001b[0m| helpers.helpers_analysis.mutual_exclusivity | Q7Z6Z7 have 8 interactors:\n",
      "{'P11441:UBL4A': 3.26, 'P51668:UBE2D1': 2.21, 'P54725:RAD23A': 2.5, 'P61077:UBE2D3': 2.52, 'P62253:UBE2G1': 1.87, 'P62837:UBE2D2': 3.05, 'P68036:UBE2L3': 1.2799999999999998, 'Q969T4:UBE2E3': 1.94}\n",
      "2021-11-20 02:50:46 |\u001b[36m DEBUG    \u001b[0m| helpers.helpers_analysis.mutual_exclusivity | Exporting Mutual Exclusivity HNSC Q7Z6Z7 ..\n",
      "2021-11-20 02:50:46 |\u001b[32m INFO     \u001b[0m| helpers.helpers_analysis.mutual_exclusivity | dev\\mutex_counts_and_probs\\HNSC_Q7Z6Z7_HUWE1_PROBA_2021-11-20.csv is exported successfully.\n",
      "PROTEIN_GENE: Q969H0_FBXW7\n",
      "2021-11-20 02:50:46 |\u001b[32m INFO     \u001b[0m| helpers.helpers_analysis.mutual_exclusivity | Calculating Mutual Exclusivity over Q969H0's interactors ..\n",
      "2021-11-20 02:50:46 |\u001b[36m DEBUG    \u001b[0m| helpers.helpers_analysis.mutual_exclusivity | Q969H0 have 3 interactors:\n",
      "Counter({'P42345:MTOR': 11, 'A6NE52:WDR97': 10, 'P63244:RACK1': 5})\n",
      "2021-11-20 02:50:46 |\u001b[32m INFO     \u001b[0m| helpers.helpers_analysis.mutual_exclusivity | Calculating Mutual Exclusivity over Q969H0's interactors ..\n",
      "2021-11-20 02:50:46 |\u001b[36m DEBUG    \u001b[0m| helpers.helpers_analysis.mutual_exclusivity | Q969H0 have 3 interactors:\n",
      "Counter({'P42345:MTOR': 11, 'A6NE52:WDR97': 10, 'P63244:RACK1': 5})\n",
      "2021-11-20 02:50:46 |\u001b[36m DEBUG    \u001b[0m| helpers.helpers_analysis.mutual_exclusivity | Exporting Mutual Exclusivity HNSC Q969H0 ..\n",
      "2021-11-20 02:50:46 |\u001b[32m INFO     \u001b[0m| helpers.helpers_analysis.mutual_exclusivity | dev\\mutex_counts_and_probs\\HNSC_Q969H0_FBXW7_2021-11-20.csv is exported successfully.\n",
      "2021-11-20 02:50:46 |\u001b[32m INFO     \u001b[0m| helpers.helpers_analysis.mutual_exclusivity | Calculating Mutual Exclusivity over Q969H0's interactors ..\n",
      "2021-11-20 02:50:46 |\u001b[36m DEBUG    \u001b[0m| helpers.helpers_analysis.mutual_exclusivity | Q969H0 have 3 interactors:\n",
      "{'A6NE52:WDR97': 5.38, 'P42345:MTOR': 9.09, 'P63244:RACK1': 4.08}\n",
      "2021-11-20 02:50:46 |\u001b[36m DEBUG    \u001b[0m| helpers.helpers_analysis.mutual_exclusivity | Exporting Mutual Exclusivity HNSC Q969H0 ..\n",
      "2021-11-20 02:50:46 |\u001b[32m INFO     \u001b[0m| helpers.helpers_analysis.mutual_exclusivity | dev\\mutex_counts_and_probs\\HNSC_Q969H0_FBXW7_PROBA_2021-11-20.csv is exported successfully.\n",
      "Completed.\n"
     ]
    }
   ],
   "source": [
    "# HNSC\n",
    "export_mutex_data_for_selected_genes(HNSC_PRELIMINARY_DATA_PATH, hnsc_mutex)"
   ]
  },
  {
   "cell_type": "code",
   "execution_count": 20,
   "id": "40cef0af-6e1f-44bd-a71f-c579cb03d0a5",
   "metadata": {
    "scrolled": true,
    "tags": []
   },
   "outputs": [
    {
     "name": "stdout",
     "output_type": "stream",
     "text": [
      "PROTEIN_GENE: P04637_TP53\n",
      "2021-11-20 02:50:48 |\u001b[32m INFO     \u001b[0m| helpers.helpers_analysis.mutual_exclusivity | Calculating Mutual Exclusivity over P04637's interactors ..\n",
      "2021-11-20 02:50:48 |\u001b[36m DEBUG    \u001b[0m| helpers.helpers_analysis.mutual_exclusivity | P04637 have 19 interactors:\n",
      "Counter({'Q13625:TP53BP2': 61, 'Q96KQ4:PPP1R13B': 61, 'P62993:GRB2': 46, 'Q8WUF5:PPP1R13L': 40, 'Q06187:BTK': 40, 'P07948:LYN': 33, 'Q9H3D4:TP63': 31, 'H2EHT1:TP53': 27, 'K7PPA8:TP53': 27, 'O15350:TP73': 21, 'Q96KQ7:EHMT2': 18, 'O75832:PSMD10': 8, 'Q9H9B1:EHMT1': 6, 'Q99728:BARD1': 6, 'Q9ULT8:HECTD1': 6, 'Q99466:NOTCH4': 3, 'Q53GA5:nan': 3, 'Q9GZV1:ANKRD2': 1, 'P25963:NFKBIA': 1})\n",
      "2021-11-20 02:50:48 |\u001b[32m INFO     \u001b[0m| helpers.helpers_analysis.mutual_exclusivity | Calculating Mutual Exclusivity over P04637's interactors ..\n",
      "2021-11-20 02:50:48 |\u001b[36m DEBUG    \u001b[0m| helpers.helpers_analysis.mutual_exclusivity | P04637 have 19 interactors:\n",
      "Counter({'Q13625:TP53BP2': 61, 'Q96KQ4:PPP1R13B': 61, 'P62993:GRB2': 46, 'Q8WUF5:PPP1R13L': 40, 'Q06187:BTK': 40, 'P07948:LYN': 33, 'Q9H3D4:TP63': 31, 'H2EHT1:TP53': 27, 'K7PPA8:TP53': 27, 'O15350:TP73': 21, 'Q96KQ7:EHMT2': 18, 'O75832:PSMD10': 8, 'Q9H9B1:EHMT1': 6, 'Q99728:BARD1': 6, 'Q9ULT8:HECTD1': 6, 'Q99466:NOTCH4': 3, 'Q53GA5:nan': 3, 'Q9GZV1:ANKRD2': 1, 'P25963:NFKBIA': 1})\n",
      "2021-11-20 02:50:49 |\u001b[36m DEBUG    \u001b[0m| helpers.helpers_analysis.mutual_exclusivity | Exporting Mutual Exclusivity OV P04637 ..\n",
      "2021-11-20 02:50:49 |\u001b[32m INFO     \u001b[0m| helpers.helpers_analysis.mutual_exclusivity | dev\\mutex_counts_and_probs\\OV_P04637_TP53_2021-11-20.csv is exported successfully.\n",
      "2021-11-20 02:50:49 |\u001b[32m INFO     \u001b[0m| helpers.helpers_analysis.mutual_exclusivity | Calculating Mutual Exclusivity over P04637's interactors ..\n",
      "2021-11-20 02:50:49 |\u001b[36m DEBUG    \u001b[0m| helpers.helpers_analysis.mutual_exclusivity | P04637 have 19 interactors:\n",
      "{'H2EHT1:TP53': 21.19, 'K7PPA8:TP53': 21.39, 'O15350:TP73': 16.11, 'O75832:PSMD10': 5.79, 'P07948:LYN': 22.740000000000002, 'P25963:NFKBIA': 0.73, 'P62993:GRB2': 34.0, 'Q06187:BTK': 31.310000000000002, 'Q13625:TP53BP2': 50.43, 'Q53GA5:nan': 2.12, 'Q8WUF5:PPP1R13L': 28.7, 'Q96KQ4:PPP1R13B': 47.660000000000004, 'Q96KQ7:EHMT2': 11.75, 'Q99466:NOTCH4': 1.97, 'Q99728:BARD1': 4.25, 'Q9GZV1:ANKRD2': 0.72, 'Q9H3D4:TP63': 23.99, 'Q9H9B1:EHMT1': 4.07, 'Q9ULT8:HECTD1': 4.28}\n",
      "2021-11-20 02:50:49 |\u001b[36m DEBUG    \u001b[0m| helpers.helpers_analysis.mutual_exclusivity | Exporting Mutual Exclusivity OV P04637 ..\n",
      "2021-11-20 02:50:49 |\u001b[32m INFO     \u001b[0m| helpers.helpers_analysis.mutual_exclusivity | dev\\mutex_counts_and_probs\\OV_P04637_TP53_PROBA_2021-11-20.csv is exported successfully.\n",
      "PROTEIN_GENE: P35609_ACTN2\n",
      "2021-11-20 02:50:49 |\u001b[32m INFO     \u001b[0m| helpers.helpers_analysis.mutual_exclusivity | Calculating Mutual Exclusivity over P35609's interactors ..\n",
      "2021-11-20 02:50:49 |\u001b[36m DEBUG    \u001b[0m| helpers.helpers_analysis.mutual_exclusivity | P35609 have 4 interactors:\n",
      "Counter({'Q9UQM7:CAMK2A': 1, 'Q13557:CAMK2D': 1, 'P12814:ACTN1': 1, 'Q08043:ACTN3': 1})\n",
      "2021-11-20 02:50:49 |\u001b[32m INFO     \u001b[0m| helpers.helpers_analysis.mutual_exclusivity | Calculating Mutual Exclusivity over P35609's interactors ..\n",
      "2021-11-20 02:50:49 |\u001b[36m DEBUG    \u001b[0m| helpers.helpers_analysis.mutual_exclusivity | P35609 have 4 interactors:\n",
      "Counter({'Q9UQM7:CAMK2A': 1, 'Q13557:CAMK2D': 1, 'P12814:ACTN1': 1, 'Q08043:ACTN3': 1})\n",
      "2021-11-20 02:50:49 |\u001b[36m DEBUG    \u001b[0m| helpers.helpers_analysis.mutual_exclusivity | Exporting Mutual Exclusivity OV P35609 ..\n",
      "2021-11-20 02:50:49 |\u001b[32m INFO     \u001b[0m| helpers.helpers_analysis.mutual_exclusivity | dev\\mutex_counts_and_probs\\OV_P35609_ACTN2_2021-11-20.csv is exported successfully.\n",
      "2021-11-20 02:50:49 |\u001b[32m INFO     \u001b[0m| helpers.helpers_analysis.mutual_exclusivity | Calculating Mutual Exclusivity over P35609's interactors ..\n",
      "2021-11-20 02:50:49 |\u001b[36m DEBUG    \u001b[0m| helpers.helpers_analysis.mutual_exclusivity | P35609 have 4 interactors:\n",
      "{'P12814:ACTN1': 0.69, 'Q08043:ACTN3': 0.69, 'Q13557:CAMK2D': 0.62, 'Q9UQM7:CAMK2A': 0.52}\n",
      "2021-11-20 02:50:49 |\u001b[36m DEBUG    \u001b[0m| helpers.helpers_analysis.mutual_exclusivity | Exporting Mutual Exclusivity OV P35609 ..\n",
      "2021-11-20 02:50:49 |\u001b[32m INFO     \u001b[0m| helpers.helpers_analysis.mutual_exclusivity | dev\\mutex_counts_and_probs\\OV_P35609_ACTN2_PROBA_2021-11-20.csv is exported successfully.\n",
      "PROTEIN_GENE: P62805_H4C1\n",
      "2021-11-20 02:50:49 |\u001b[32m INFO     \u001b[0m| helpers.helpers_analysis.mutual_exclusivity | Calculating Mutual Exclusivity over P62805's interactors ..\n",
      "2021-11-20 02:50:49 |\u001b[36m DEBUG    \u001b[0m| helpers.helpers_analysis.mutual_exclusivity | P62805 have 18 interactors:\n",
      "Counter({'P84243:H3-3A': 4, 'P68431:H3C1': 3, 'P04908:H2AC4': 2, 'Q16695:H3-4': 2, 'Q71DI3:H3C15': 2, 'P49450:CENPA': 2, 'P0C0S5:H2AZ1': 2, 'Q16777:H2AC20': 2, 'Q9UER7:DAXX': 1, 'B4E1C1:nan': 1, 'Q53F85:nan': 1, 'Q8NCD3:HJURP': 1, 'Q16514:TAF12': 1, 'P06899:H2BC11': 1, 'Q16778:H2BC21': 1, 'P16104:H2AX': 1, 'Q9Y294:ASF1A': 1, 'Q9NVP2:ASF1B': 1})\n",
      "2021-11-20 02:50:49 |\u001b[32m INFO     \u001b[0m| helpers.helpers_analysis.mutual_exclusivity | Calculating Mutual Exclusivity over P62805's interactors ..\n",
      "2021-11-20 02:50:49 |\u001b[36m DEBUG    \u001b[0m| helpers.helpers_analysis.mutual_exclusivity | P62805 have 18 interactors:\n",
      "Counter({'P84243:H3-3A': 4, 'P68431:H3C1': 3, 'P04908:H2AC4': 2, 'Q16695:H3-4': 2, 'Q71DI3:H3C15': 2, 'P49450:CENPA': 2, 'P0C0S5:H2AZ1': 2, 'Q16777:H2AC20': 2, 'Q9UER7:DAXX': 1, 'B4E1C1:nan': 1, 'Q53F85:nan': 1, 'Q8NCD3:HJURP': 1, 'Q16514:TAF12': 1, 'P06899:H2BC11': 1, 'Q16778:H2BC21': 1, 'P16104:H2AX': 1, 'Q9Y294:ASF1A': 1, 'Q9NVP2:ASF1B': 1})\n",
      "2021-11-20 02:50:50 |\u001b[36m DEBUG    \u001b[0m| helpers.helpers_analysis.mutual_exclusivity | Exporting Mutual Exclusivity OV P62805 ..\n",
      "2021-11-20 02:50:50 |\u001b[32m INFO     \u001b[0m| helpers.helpers_analysis.mutual_exclusivity | dev\\mutex_counts_and_probs\\OV_P62805_H4C1_2021-11-20.csv is exported successfully.\n",
      "2021-11-20 02:50:50 |\u001b[32m INFO     \u001b[0m| helpers.helpers_analysis.mutual_exclusivity | Calculating Mutual Exclusivity over P62805's interactors ..\n",
      "2021-11-20 02:50:50 |\u001b[36m DEBUG    \u001b[0m| helpers.helpers_analysis.mutual_exclusivity | P62805 have 18 interactors:\n",
      "{'B4E1C1:nan': 0.54, 'P04908:H2AC4': 1.63, 'P06899:H2BC11': 0.81, 'P0C0S5:H2AZ1': 1.6099999999999999, 'P16104:H2AX': 0.86, 'P49450:CENPA': 1.22, 'P68431:H3C1': 2.01, 'P84243:H3-3A': 2.3600000000000003, 'Q16514:TAF12': 0.66, 'Q16695:H3-4': 1.2799999999999998, 'Q16777:H2AC20': 1.65, 'Q16778:H2BC21': 0.79, 'Q53F85:nan': 0.6, 'Q71DI3:H3C15': 1.27, 'Q8NCD3:HJURP': 0.7, 'Q9NVP2:ASF1B': 0.8, 'Q9UER7:DAXX': 0.67, 'Q9Y294:ASF1A': 0.79}\n",
      "2021-11-20 02:50:50 |\u001b[36m DEBUG    \u001b[0m| helpers.helpers_analysis.mutual_exclusivity | Exporting Mutual Exclusivity OV P62805 ..\n",
      "2021-11-20 02:50:50 |\u001b[32m INFO     \u001b[0m| helpers.helpers_analysis.mutual_exclusivity | dev\\mutex_counts_and_probs\\OV_P62805_H4C1_PROBA_2021-11-20.csv is exported successfully.\n",
      "Completed.\n"
     ]
    }
   ],
   "source": [
    "# OV\n",
    "export_mutex_data_for_selected_genes(OV_PRELIMINARY_DATA_PATH, ov_mutex)"
   ]
  },
  {
   "cell_type": "code",
   "execution_count": null,
   "id": "0cb741c7-af25-45e5-86f1-f896811c7c52",
   "metadata": {},
   "outputs": [],
   "source": []
  },
  {
   "cell_type": "code",
   "execution_count": null,
   "id": "f21683a4-224d-4d58-9095-d8eaaf419a1a",
   "metadata": {},
   "outputs": [],
   "source": []
  },
  {
   "cell_type": "code",
   "execution_count": null,
   "id": "650a20c5-0f41-4651-a09b-ce986e56cd93",
   "metadata": {},
   "outputs": [],
   "source": []
  },
  {
   "cell_type": "markdown",
   "id": "79d53416-687e-41b1-9b3d-360b8516cba1",
   "metadata": {},
   "source": [
    "======================================="
   ]
  },
  {
   "cell_type": "markdown",
   "id": "da62e7dd-ac0d-440e-9f6c-2023dddc4b4e",
   "metadata": {},
   "source": [
    "## Extract Protein and Interactor Pairs"
   ]
  },
  {
   "cell_type": "code",
   "execution_count": 27,
   "id": "81f17aaf-d904-44df-ba7a-b5e3fe4a00a5",
   "metadata": {},
   "outputs": [],
   "source": [
    "brca_preliminary_data = pd.read_excel(BRCA_PRELIMINARY_DATA_PATH)"
   ]
  },
  {
   "cell_type": "code",
   "execution_count": 34,
   "id": "ef7e504a-8c5f-4160-b494-93d39c086ea3",
   "metadata": {
    "scrolled": true,
    "tags": []
   },
   "outputs": [
    {
     "name": "stdout",
     "output_type": "stream",
     "text": [
      "2021-11-18 17:57:34 |\u001b[32m INFO     \u001b[0m| helpers.helpers_analysis.mutual_exclusivity | Calculating Mutual Exclusivity over O75582's interactors ..\n",
      "2021-11-18 17:57:34 |\u001b[36m DEBUG    \u001b[0m| helpers.helpers_analysis.mutual_exclusivity | O75582 have 6 interactors:\n",
      "['Q15759:MAPK11', 'Q15418:RPS6KA1', 'Q16539:MAPK14', 'L7RSM2:MAPK14', 'Q9UK32:RPS6KA6', 'P67870:CSNK2B']\n",
      "2021-11-18 17:57:34 |\u001b[32m INFO     \u001b[0m| helpers.helpers_analysis.mutual_exclusivity | Calculating Mutual Exclusivity over P04626's interactors ..\n",
      "2021-11-18 17:57:34 |\u001b[36m DEBUG    \u001b[0m| helpers.helpers_analysis.mutual_exclusivity | P04626 have 15 interactors:\n",
      "['Q96SB4:SRPK1', 'P00533:EGFR', 'P51813:BMX', 'Q14289:PTK2B', 'P16591:FER', 'P06241:FYN', 'P08069:IGF1R', 'Q13153:PAK1', 'P42680:TEC', 'P21860:ERBB3', 'O60674:JAK2', 'P15153:RAC2', 'Q9UJM3:ERRFI1', 'Q92625:ANKS1A', 'P23458:JAK1']\n",
      "2021-11-18 17:57:35 |\u001b[32m INFO     \u001b[0m| helpers.helpers_analysis.mutual_exclusivity | Calculating Mutual Exclusivity over P04637's interactors ..\n",
      "2021-11-18 17:57:35 |\u001b[36m DEBUG    \u001b[0m| helpers.helpers_analysis.mutual_exclusivity | P04637 have 15 interactors:\n",
      "['Q13625:TP53BP2', 'Q96KQ4:PPP1R13B', 'P62993:GRB2', 'Q06187:BTK', 'Q8WUF5:PPP1R13L', 'Q9H3D4:TP63', 'H2EHT1:TP53', 'K7PPA8:TP53', 'Q96KQ7:EHMT2', 'O15350:TP73', 'P07948:LYN', 'Q9H9B1:EHMT1', 'Q99728:BARD1', 'O75832:PSMD10', 'Q9ULT8:HECTD1']\n",
      "2021-11-18 17:57:35 |\u001b[32m INFO     \u001b[0m| helpers.helpers_analysis.mutual_exclusivity | Calculating Mutual Exclusivity over P0CG48's interactors ..\n",
      "2021-11-18 17:57:35 |\u001b[36m DEBUG    \u001b[0m| helpers.helpers_analysis.mutual_exclusivity | P0CG48 have 5 interactors:\n",
      "['P21734:UBC1', 'P61077:UBE2D3', 'Q9UMX0:UBQLN1', 'A8K3R3:nan', 'Q99816:TSG101']\n",
      "2021-11-18 17:57:35 |\u001b[32m INFO     \u001b[0m| helpers.helpers_analysis.mutual_exclusivity | Calculating Mutual Exclusivity over P21860's interactors ..\n",
      "2021-11-18 17:57:35 |\u001b[36m DEBUG    \u001b[0m| helpers.helpers_analysis.mutual_exclusivity | P21860 have 8 interactors:\n",
      "['Q00535:CDK5', 'P04626:ERBB2', 'Q15303:ERBB4', 'Q05397:PTK2', 'O60674:JAK2', 'P43403:ZAP70', 'P42681:TXK', 'P00533:EGFR']\n",
      "2021-11-18 17:57:35 |\u001b[32m INFO     \u001b[0m| helpers.helpers_analysis.mutual_exclusivity | Calculating Mutual Exclusivity over P42336's interactors ..\n",
      "2021-11-18 17:57:35 |\u001b[36m DEBUG    \u001b[0m| helpers.helpers_analysis.mutual_exclusivity | P42336 have 4 interactors:\n",
      "['P27986:PIK3R1', 'O00459:PIK3R2', 'P43403:ZAP70', 'Q92569:PIK3R3']\n",
      "2021-11-18 17:57:35 |\u001b[32m INFO     \u001b[0m| helpers.helpers_analysis.mutual_exclusivity | Calculating Mutual Exclusivity over P45985's interactors ..\n",
      "2021-11-18 17:57:35 |\u001b[36m DEBUG    \u001b[0m| helpers.helpers_analysis.mutual_exclusivity | P45985 have 7 interactors:\n",
      "['Q5S007:LRRK2', 'P52564:MAP2K6', 'Q16539:MAPK14', 'P00533:EGFR', 'P35916:FLT4', 'Q99558:MAP3K14', 'P45984:MAPK9']\n",
      "2021-11-18 17:57:35 |\u001b[32m INFO     \u001b[0m| helpers.helpers_analysis.mutual_exclusivity | Calculating Mutual Exclusivity over P62805's interactors ..\n",
      "2021-11-18 17:57:35 |\u001b[36m DEBUG    \u001b[0m| helpers.helpers_analysis.mutual_exclusivity | P62805 have 16 interactors:\n",
      "['P68431:H3C1', 'P84243:H3-3A', 'Q71DI3:H3C15', 'Q16695:H3-4', 'P49450:CENPA', 'B4E1C1:nan', 'Q9UER7:DAXX', 'Q53F85:nan', 'Q16514:TAF12', 'P04908:H2AC4', 'P0C0S5:H2AZ1', 'Q16777:H2AC20', 'P06899:H2BC11', 'Q16778:H2BC21', 'P16104:H2AX', 'Q9Y294:ASF1A']\n",
      "2021-11-18 17:57:36 |\u001b[32m INFO     \u001b[0m| helpers.helpers_analysis.mutual_exclusivity | Calculating Mutual Exclusivity over P62807's interactors ..\n",
      "2021-11-18 17:57:36 |\u001b[36m DEBUG    \u001b[0m| helpers.helpers_analysis.mutual_exclusivity | P62807 have 1 interactors:\n",
      "['P16104:H2AX']\n",
      "2021-11-18 17:57:36 |\u001b[32m INFO     \u001b[0m| helpers.helpers_analysis.mutual_exclusivity | Calculating Mutual Exclusivity over P68431's interactors ..\n",
      "2021-11-18 17:57:36 |\u001b[36m DEBUG    \u001b[0m| helpers.helpers_analysis.mutual_exclusivity | P68431 have 11 interactors:\n",
      "['P62805:H4C1', 'Q9UER7:DAXX', 'P04908:H2AC4', 'P16104:H2AX', 'P0C0S8:H2AC11', 'O75367:MACROH2A1', 'P0C0S5:H2AZ1', 'Q16777:H2AC20', 'Q9Y294:ASF1A', 'Q9NVP2:ASF1B', 'P49450:CENPA']\n",
      "2021-11-18 17:57:36 |\u001b[32m INFO     \u001b[0m| helpers.helpers_analysis.mutual_exclusivity | Calculating Mutual Exclusivity over Q13951's interactors ..\n",
      "2021-11-18 17:57:36 |\u001b[36m DEBUG    \u001b[0m| helpers.helpers_analysis.mutual_exclusivity | Q13951 have 2 interactors:\n",
      "['Q13950:RUNX2', 'Q13761:RUNX3']\n",
      "2021-11-18 17:57:36 |\u001b[32m INFO     \u001b[0m| helpers.helpers_analysis.mutual_exclusivity | Calculating Mutual Exclusivity over Q14790's interactors ..\n",
      "2021-11-18 17:57:36 |\u001b[36m DEBUG    \u001b[0m| helpers.helpers_analysis.mutual_exclusivity | Q14790 have 5 interactors:\n",
      "['P42575:CASP2', 'P49662:CASP4', 'P55211:CASP9', 'P55210:CASP7', 'B4DWA2:nan']\n"
     ]
    }
   ],
   "source": [
    "brca_pairs = []\n",
    "brca_selected_protein_gene_list = get_protein_gene_pairs(brca_preliminary_data)\n",
    "for protein, gene in brca_selected_protein_gene_list:\n",
    "    mutex_data = brca_mutex.get_disruptive_mutual_exclusivity_data(protein)\n",
    "    interactors = list(mutex_data[\"INTERACTOR\"])\n",
    "    for interactor in interactors:\n",
    "        # print(f\"HOST PROTEIN_GENE: {protein}:{gene} \\t INTERACTOR PROTEIN_GENE: {interactor}\")\n",
    "        brca_pairs.append((f\"{protein}:{gene}\", interactor))"
   ]
  },
  {
   "cell_type": "code",
   "execution_count": 36,
   "id": "6b717061-c407-43dc-8733-12c807ccc3cb",
   "metadata": {},
   "outputs": [
    {
     "data": {
      "text/plain": [
       "[('O75582:RPS6KA5', 'Q15759:MAPK11'),\n",
       " ('O75582:RPS6KA5', 'Q15418:RPS6KA1'),\n",
       " ('O75582:RPS6KA5', 'Q16539:MAPK14')]"
      ]
     },
     "execution_count": 36,
     "metadata": {},
     "output_type": "execute_result"
    }
   ],
   "source": [
    "brca_pairs[:3]"
   ]
  },
  {
   "cell_type": "code",
   "execution_count": 42,
   "id": "cfecf8c3-7c56-42e2-b68c-d95cba8feb42",
   "metadata": {},
   "outputs": [],
   "source": [
    "with open(r\"dev\\brca_pairs_2021-11-18.txt\", \"w\") as file:\n",
    "    for pair in brca_pairs:\n",
    "        file.write(f\"{pair[0]}_{pair[1]}\\n\")"
   ]
  },
  {
   "cell_type": "code",
   "execution_count": null,
   "id": "a96c97a9-8eb6-40ab-a088-c50e0789cac5",
   "metadata": {},
   "outputs": [],
   "source": []
  },
  {
   "cell_type": "code",
   "execution_count": null,
   "id": "27a657b3-0d9f-4d3b-8097-4b2765d2e3b1",
   "metadata": {},
   "outputs": [],
   "source": []
  },
  {
   "cell_type": "code",
   "execution_count": null,
   "id": "1961682e-861b-4023-9b0f-b81474c63279",
   "metadata": {},
   "outputs": [],
   "source": []
  },
  {
   "cell_type": "code",
   "execution_count": null,
   "id": "b43e2f8d-e1cb-4bca-9f97-70bbcff048d5",
   "metadata": {},
   "outputs": [],
   "source": []
  },
  {
   "cell_type": "code",
   "execution_count": 11,
   "id": "c97d9e04-c989-4eb6-b605-87ac331bf478",
   "metadata": {},
   "outputs": [],
   "source": []
  },
  {
   "cell_type": "code",
   "execution_count": null,
   "id": "83b5d662-d4aa-47d4-8021-c6df5d20c25e",
   "metadata": {},
   "outputs": [],
   "source": []
  },
  {
   "cell_type": "code",
   "execution_count": null,
   "id": "5129b96a-5ac3-405c-81e3-d95011276212",
   "metadata": {},
   "outputs": [],
   "source": []
  },
  {
   "cell_type": "code",
   "execution_count": null,
   "id": "2f6209ff-858b-4484-bf0f-8cee00bcd1db",
   "metadata": {},
   "outputs": [],
   "source": []
  },
  {
   "cell_type": "markdown",
   "id": "12f80f71-c5be-4385-9f0c-57da7bb8e855",
   "metadata": {},
   "source": [
    "### - - - "
   ]
  },
  {
   "cell_type": "code",
   "execution_count": null,
   "id": "58a70836-6e98-4c76-b2dd-c1ceaa9bd1fc",
   "metadata": {},
   "outputs": [],
   "source": []
  },
  {
   "cell_type": "code",
   "execution_count": null,
   "id": "af91510b-b060-40af-a6c8-68ffaff1affa",
   "metadata": {},
   "outputs": [],
   "source": []
  },
  {
   "cell_type": "code",
   "execution_count": null,
   "id": "c81cee22-3f12-40ef-868a-fa16bbacded6",
   "metadata": {},
   "outputs": [],
   "source": []
  },
  {
   "cell_type": "code",
   "execution_count": null,
   "id": "9131db44-d44c-4889-8dd8-2515bd22953b",
   "metadata": {},
   "outputs": [],
   "source": []
  },
  {
   "cell_type": "code",
   "execution_count": null,
   "id": "2f1f2150-60ce-44ca-9a67-237e60c581d3",
   "metadata": {},
   "outputs": [],
   "source": []
  },
  {
   "cell_type": "code",
   "execution_count": null,
   "id": "9748f4ed-7fb2-437e-a852-4497c968792b",
   "metadata": {},
   "outputs": [],
   "source": []
  },
  {
   "cell_type": "code",
   "execution_count": null,
   "id": "4032b1b8-1d84-406a-9ee9-df32fbdc469d",
   "metadata": {},
   "outputs": [],
   "source": []
  },
  {
   "cell_type": "code",
   "execution_count": null,
   "id": "01dbe262-799b-4458-b102-b062615176cc",
   "metadata": {},
   "outputs": [],
   "source": []
  },
  {
   "cell_type": "code",
   "execution_count": null,
   "id": "2f2bc9b9-5f4b-45ba-9011-a6a789f56134",
   "metadata": {},
   "outputs": [],
   "source": []
  },
  {
   "cell_type": "markdown",
   "id": "9215171c-b0c6-4ffa-9221-01f94cf8d276",
   "metadata": {
    "tags": []
   },
   "source": [
    "### RPS6KA5"
   ]
  },
  {
   "cell_type": "code",
   "execution_count": 22,
   "id": "77d235d1-f043-4491-a0f6-746e08c2cc41",
   "metadata": {},
   "outputs": [
    {
     "data": {
      "text/plain": [
       "['O75582']"
      ]
     },
     "execution_count": 22,
     "metadata": {},
     "output_type": "execute_result"
    }
   ],
   "source": [
    "ProteinIDFetcher().fetch(\"RPS6KA5\")"
   ]
  },
  {
   "cell_type": "code",
   "execution_count": 28,
   "id": "035917ba-979d-46cc-a56a-f7ae4c7abca7",
   "metadata": {},
   "outputs": [
    {
     "name": "stdout",
     "output_type": "stream",
     "text": [
      "2021-11-13 21:32:59 |\u001b[32m INFO     \u001b[0m| helpers.helpers_analysis.mutual_exclusivity | Calculating Mutual Exclusivity over P04626's interactors ..\n",
      "2021-11-13 21:32:59 |\u001b[36m DEBUG    \u001b[0m| helpers.helpers_analysis.mutual_exclusivity | P04626 have 15 interactors:\n",
      "['Q96SB4:SRPK1', 'P00533:EGFR', 'P51813:BMX', 'Q14289:PTK2B', 'P16591:FER', 'P06241:FYN', 'P08069:IGF1R', 'Q13153:PAK1', 'P42680:TEC', 'P21860:ERBB3', 'O60674:JAK2', 'P15153:RAC2', 'Q9UJM3:ERRFI1', 'Q92625:ANKS1A', 'P23458:JAK1']\n"
     ]
    },
    {
     "data": {
      "text/html": [
       "<div>\n",
       "<style scoped>\n",
       "    .dataframe tbody tr th:only-of-type {\n",
       "        vertical-align: middle;\n",
       "    }\n",
       "\n",
       "    .dataframe tbody tr th {\n",
       "        vertical-align: top;\n",
       "    }\n",
       "\n",
       "    .dataframe thead th {\n",
       "        text-align: right;\n",
       "    }\n",
       "</style>\n",
       "<table border=\"1\" class=\"dataframe\">\n",
       "  <thead>\n",
       "    <tr style=\"text-align: right;\">\n",
       "      <th></th>\n",
       "      <th>PROTEIN:GENE</th>\n",
       "      <th>NUM_PATIENTS</th>\n",
       "      <th>INTERACTOR</th>\n",
       "      <th>NUM_PATIENTS_INTERACTOR</th>\n",
       "      <th>MUTUAL_EXCLUSIVITY</th>\n",
       "    </tr>\n",
       "  </thead>\n",
       "  <tbody>\n",
       "    <tr>\n",
       "      <th>0</th>\n",
       "      <td>P04626:ERBB2</td>\n",
       "      <td>27</td>\n",
       "      <td>Q96SB4:SRPK1</td>\n",
       "      <td>5</td>\n",
       "      <td>1.0000</td>\n",
       "    </tr>\n",
       "    <tr>\n",
       "      <th>1</th>\n",
       "      <td>P04626:ERBB2</td>\n",
       "      <td>27</td>\n",
       "      <td>P00533:EGFR</td>\n",
       "      <td>13</td>\n",
       "      <td>1.0000</td>\n",
       "    </tr>\n",
       "    <tr>\n",
       "      <th>2</th>\n",
       "      <td>P04626:ERBB2</td>\n",
       "      <td>27</td>\n",
       "      <td>P51813:BMX</td>\n",
       "      <td>6</td>\n",
       "      <td>0.9697</td>\n",
       "    </tr>\n",
       "    <tr>\n",
       "      <th>3</th>\n",
       "      <td>P04626:ERBB2</td>\n",
       "      <td>27</td>\n",
       "      <td>Q14289:PTK2B</td>\n",
       "      <td>4</td>\n",
       "      <td>1.0000</td>\n",
       "    </tr>\n",
       "    <tr>\n",
       "      <th>4</th>\n",
       "      <td>P04626:ERBB2</td>\n",
       "      <td>27</td>\n",
       "      <td>P16591:FER</td>\n",
       "      <td>6</td>\n",
       "      <td>0.9697</td>\n",
       "    </tr>\n",
       "    <tr>\n",
       "      <th>5</th>\n",
       "      <td>P04626:ERBB2</td>\n",
       "      <td>27</td>\n",
       "      <td>P06241:FYN</td>\n",
       "      <td>2</td>\n",
       "      <td>1.0000</td>\n",
       "    </tr>\n",
       "    <tr>\n",
       "      <th>6</th>\n",
       "      <td>P04626:ERBB2</td>\n",
       "      <td>27</td>\n",
       "      <td>P08069:IGF1R</td>\n",
       "      <td>9</td>\n",
       "      <td>0.9722</td>\n",
       "    </tr>\n",
       "    <tr>\n",
       "      <th>7</th>\n",
       "      <td>P04626:ERBB2</td>\n",
       "      <td>27</td>\n",
       "      <td>Q13153:PAK1</td>\n",
       "      <td>4</td>\n",
       "      <td>0.9677</td>\n",
       "    </tr>\n",
       "    <tr>\n",
       "      <th>8</th>\n",
       "      <td>P04626:ERBB2</td>\n",
       "      <td>27</td>\n",
       "      <td>P42680:TEC</td>\n",
       "      <td>5</td>\n",
       "      <td>1.0000</td>\n",
       "    </tr>\n",
       "    <tr>\n",
       "      <th>9</th>\n",
       "      <td>P04626:ERBB2</td>\n",
       "      <td>27</td>\n",
       "      <td>P21860:ERBB3</td>\n",
       "      <td>19</td>\n",
       "      <td>0.9565</td>\n",
       "    </tr>\n",
       "    <tr>\n",
       "      <th>10</th>\n",
       "      <td>P04626:ERBB2</td>\n",
       "      <td>27</td>\n",
       "      <td>O60674:JAK2</td>\n",
       "      <td>4</td>\n",
       "      <td>1.0000</td>\n",
       "    </tr>\n",
       "    <tr>\n",
       "      <th>11</th>\n",
       "      <td>P04626:ERBB2</td>\n",
       "      <td>27</td>\n",
       "      <td>P15153:RAC2</td>\n",
       "      <td>1</td>\n",
       "      <td>1.0000</td>\n",
       "    </tr>\n",
       "    <tr>\n",
       "      <th>12</th>\n",
       "      <td>P04626:ERBB2</td>\n",
       "      <td>27</td>\n",
       "      <td>Q9UJM3:ERRFI1</td>\n",
       "      <td>0</td>\n",
       "      <td>1.0000</td>\n",
       "    </tr>\n",
       "    <tr>\n",
       "      <th>13</th>\n",
       "      <td>P04626:ERBB2</td>\n",
       "      <td>27</td>\n",
       "      <td>Q92625:ANKS1A</td>\n",
       "      <td>4</td>\n",
       "      <td>1.0000</td>\n",
       "    </tr>\n",
       "    <tr>\n",
       "      <th>14</th>\n",
       "      <td>P04626:ERBB2</td>\n",
       "      <td>27</td>\n",
       "      <td>P23458:JAK1</td>\n",
       "      <td>7</td>\n",
       "      <td>0.9706</td>\n",
       "    </tr>\n",
       "  </tbody>\n",
       "</table>\n",
       "</div>"
      ],
      "text/plain": [
       "    PROTEIN:GENE  NUM_PATIENTS     INTERACTOR  NUM_PATIENTS_INTERACTOR  \\\n",
       "0   P04626:ERBB2            27   Q96SB4:SRPK1                        5   \n",
       "1   P04626:ERBB2            27    P00533:EGFR                       13   \n",
       "2   P04626:ERBB2            27     P51813:BMX                        6   \n",
       "3   P04626:ERBB2            27   Q14289:PTK2B                        4   \n",
       "4   P04626:ERBB2            27     P16591:FER                        6   \n",
       "5   P04626:ERBB2            27     P06241:FYN                        2   \n",
       "6   P04626:ERBB2            27   P08069:IGF1R                        9   \n",
       "7   P04626:ERBB2            27    Q13153:PAK1                        4   \n",
       "8   P04626:ERBB2            27     P42680:TEC                        5   \n",
       "9   P04626:ERBB2            27   P21860:ERBB3                       19   \n",
       "10  P04626:ERBB2            27    O60674:JAK2                        4   \n",
       "11  P04626:ERBB2            27    P15153:RAC2                        1   \n",
       "12  P04626:ERBB2            27  Q9UJM3:ERRFI1                        0   \n",
       "13  P04626:ERBB2            27  Q92625:ANKS1A                        4   \n",
       "14  P04626:ERBB2            27    P23458:JAK1                        7   \n",
       "\n",
       "    MUTUAL_EXCLUSIVITY  \n",
       "0               1.0000  \n",
       "1               1.0000  \n",
       "2               0.9697  \n",
       "3               1.0000  \n",
       "4               0.9697  \n",
       "5               1.0000  \n",
       "6               0.9722  \n",
       "7               0.9677  \n",
       "8               1.0000  \n",
       "9               0.9565  \n",
       "10              1.0000  \n",
       "11              1.0000  \n",
       "12              1.0000  \n",
       "13              1.0000  \n",
       "14              0.9706  "
      ]
     },
     "execution_count": 28,
     "metadata": {},
     "output_type": "execute_result"
    }
   ],
   "source": [
    "brca_mutex.get_disruptive_mutual_exclusivity_data(\"P04626\")"
   ]
  },
  {
   "cell_type": "code",
   "execution_count": 29,
   "id": "f6674159-626d-4d4d-9a97-1a5941afa1a9",
   "metadata": {},
   "outputs": [
    {
     "name": "stdout",
     "output_type": "stream",
     "text": [
      "2021-11-13 21:33:00 |\u001b[32m INFO     \u001b[0m| helpers.helpers_analysis.mutual_exclusivity | Calculating Mutual Exclusivity over P04626's interactors ..\n",
      "2021-11-13 21:33:00 |\u001b[36m DEBUG    \u001b[0m| helpers.helpers_analysis.mutual_exclusivity | P04626 have 15 interactors:\n",
      "['Q96SB4:SRPK1', 'P00533:EGFR', 'P51813:BMX', 'Q14289:PTK2B', 'P16591:FER', 'P06241:FYN', 'P08069:IGF1R', 'Q13153:PAK1', 'P42680:TEC', 'P21860:ERBB3', 'O60674:JAK2', 'P15153:RAC2', 'Q9UJM3:ERRFI1', 'Q92625:ANKS1A', 'P23458:JAK1']\n",
      "2021-11-13 21:33:00 |\u001b[36m DEBUG    \u001b[0m| helpers.helpers_analysis.mutual_exclusivity | Exporting Mutual Exclusivity BRCA P04626 ..\n",
      "2021-11-13 21:33:00 |\u001b[32m INFO     \u001b[0m| helpers.helpers_analysis.mutual_exclusivity | dev/mutex\\BRCA_P04626_ERBB2_2021-11-13.csv is exported successfully.\n"
     ]
    }
   ],
   "source": [
    "brca_mutex.export_disruptive_mutual_exclusivity_data(\"dev/mutex\", \"P04626\")"
   ]
  },
  {
   "cell_type": "code",
   "execution_count": null,
   "id": "1f27a6ec-9e81-40bb-83f3-f96d4a34dbaf",
   "metadata": {},
   "outputs": [],
   "source": []
  },
  {
   "cell_type": "code",
   "execution_count": null,
   "id": "703a3043-74a5-49a4-9ba5-12a9989d6bf5",
   "metadata": {},
   "outputs": [],
   "source": []
  },
  {
   "cell_type": "markdown",
   "id": "1a16be72-bfd3-4d96-9593-f1c3ae5a746f",
   "metadata": {},
   "source": [
    "---"
   ]
  },
  {
   "cell_type": "code",
   "execution_count": 17,
   "id": "f418881e-8f54-4a53-a754-a84bbc8bd65d",
   "metadata": {},
   "outputs": [
    {
     "data": {
      "text/plain": [
       "Counter({'P27986:PIK3R1': 124,\n",
       "         'O00459:PIK3R2': 124,\n",
       "         'P43403:ZAP70': 119,\n",
       "         'Q92569:PIK3R3': 5})"
      ]
     },
     "execution_count": 17,
     "metadata": {},
     "output_type": "execute_result"
    }
   ],
   "source": [
    "brca_mutex.get_disrupted_interactors(\"PIK3CA\", identifier_type=\"gene\", return_counter=True)"
   ]
  },
  {
   "cell_type": "code",
   "execution_count": null,
   "id": "ee4fff33-caa0-44f5-ba63-b0e20361e67b",
   "metadata": {},
   "outputs": [],
   "source": []
  },
  {
   "cell_type": "code",
   "execution_count": null,
   "id": "c72456c8-9a92-498b-ae1f-5a4d1068aa82",
   "metadata": {},
   "outputs": [],
   "source": []
  },
  {
   "cell_type": "code",
   "execution_count": null,
   "id": "351a2470-f71d-45f4-bd99-2f323d5267ec",
   "metadata": {},
   "outputs": [],
   "source": []
  },
  {
   "cell_type": "code",
   "execution_count": null,
   "id": "948359d9-2c4d-48ed-a749-5e88c5c75443",
   "metadata": {},
   "outputs": [],
   "source": []
  },
  {
   "cell_type": "code",
   "execution_count": null,
   "id": "3000b55b-66c9-4889-9040-79ce5e281c10",
   "metadata": {},
   "outputs": [],
   "source": []
  },
  {
   "cell_type": "code",
   "execution_count": null,
   "id": "96713197-1eff-48ee-a988-2d794843bbb6",
   "metadata": {},
   "outputs": [],
   "source": []
  },
  {
   "cell_type": "code",
   "execution_count": null,
   "id": "893ebf03-6233-415f-933a-ab65c19ea637",
   "metadata": {},
   "outputs": [],
   "source": []
  },
  {
   "cell_type": "code",
   "execution_count": null,
   "id": "0bdffd0b-0c2c-4754-a2ca-914f18db0e69",
   "metadata": {},
   "outputs": [],
   "source": []
  },
  {
   "cell_type": "markdown",
   "id": "583000c6-abc4-4883-a906-4a7a18c44afd",
   "metadata": {},
   "source": [
    "Örneğin ERBB2 geni için en sık disrupt olan interactor SRPK1, ERBB2 ile SRPK1 arasındaki mutual exclusivity'yi hesaplayalım. \n",
    "\n",
    "S1 ERBB'nun mutasyona uğradığı hasta seti olsun. \n",
    "S2 SRPK1'nın mutasyona uğradığı hasta seti olsun. \n",
    "\n",
    "P04626 - ERBBR\n",
    "Q96SB4 - SRPK1\n",
    "\n",
    "|S1 union S2| / |S1| + |S2| değerini hesaplayalım. \n",
    "\n",
    "mutasyona uğradığı derken direk snv datasına bakabiliriz elaspic'i karıştırmadan. \n",
    "\n",
    "Aynı hesaplamayı ERBB2'nun bütün interactorları için tekrarlayalım. SRPK1 ile olan mutual exclusivity değeri daha mı iyi görelim.\n",
    "\n",
    "Bunu analysis.docx'deki tablolarda bulunan genler için tekrarlayalım."
   ]
  },
  {
   "cell_type": "code",
   "execution_count": 11,
   "id": "5a72c03b-fcfc-44c3-b569-35c5568cc9a9",
   "metadata": {},
   "outputs": [
    {
     "data": {
      "text/plain": [
       "1.0"
      ]
     },
     "execution_count": 11,
     "metadata": {},
     "output_type": "execute_result"
    }
   ],
   "source": [
    "brca_mutex.calculate_mutual_exclusivity(\"P04626\", \"Q96SB4\")"
   ]
  },
  {
   "cell_type": "code",
   "execution_count": null,
   "id": "7e8247ed-0502-40d3-944a-f71d9648390b",
   "metadata": {},
   "outputs": [],
   "source": []
  },
  {
   "cell_type": "markdown",
   "id": "7347b64d-353d-4efa-8b48-cd1fa161dae7",
   "metadata": {
    "tags": []
   },
   "source": [
    "## Patient Interaction Data"
   ]
  },
  {
   "cell_type": "code",
   "execution_count": 12,
   "id": "d0f59552-1633-40f7-8753-5c1dfd8be97a",
   "metadata": {},
   "outputs": [
    {
     "data": {
      "text/html": [
       "<div>\n",
       "<style scoped>\n",
       "    .dataframe tbody tr th:only-of-type {\n",
       "        vertical-align: middle;\n",
       "    }\n",
       "\n",
       "    .dataframe tbody tr th {\n",
       "        vertical-align: top;\n",
       "    }\n",
       "\n",
       "    .dataframe thead th {\n",
       "        text-align: right;\n",
       "    }\n",
       "</style>\n",
       "<table border=\"1\" class=\"dataframe\">\n",
       "  <thead>\n",
       "    <tr style=\"text-align: right;\">\n",
       "      <th></th>\n",
       "      <th>PATIENT</th>\n",
       "      <th>PROTEIN_GENE</th>\n",
       "      <th>MUTATION</th>\n",
       "      <th>INTERACTORS</th>\n",
       "      <th>NUM_INTERACTORS</th>\n",
       "      <th>DISRUPTIVE_INTERACTORS</th>\n",
       "      <th>NUM_DISRUPTIVE_INTERACTORS</th>\n",
       "      <th>NON_DISRUPTIVE_INTERACTORS</th>\n",
       "      <th>NUM_NON_DISRUPTIVE_INTERACTORS</th>\n",
       "      <th>CORE_INTERFACE_VS_INTERFACE_STATUS</th>\n",
       "    </tr>\n",
       "  </thead>\n",
       "  <tbody>\n",
       "    <tr>\n",
       "      <th>0</th>\n",
       "      <td>TCGA-D8-A1XY</td>\n",
       "      <td>Q9UKS6:PACSIN3</td>\n",
       "      <td>R24H</td>\n",
       "      <td>Q9BY11:PACSIN1,Q9UNF0:PACSIN2,Q5TZC3:PACSIN1,Q...</td>\n",
       "      <td>4</td>\n",
       "      <td>Q9BY11:PACSIN1:0.5,Q9UNF0:PACSIN2:0.59,Q6FIA3:...</td>\n",
       "      <td>3</td>\n",
       "      <td>Q5TZC3:PACSIN1</td>\n",
       "      <td>1</td>\n",
       "      <td>I</td>\n",
       "    </tr>\n",
       "    <tr>\n",
       "      <th>1</th>\n",
       "      <td>TCGA-AO-A0J5</td>\n",
       "      <td>Q9UBN7:HDAC6</td>\n",
       "      <td>D567Y</td>\n",
       "      <td>Q96DB2:HDAC11</td>\n",
       "      <td>1</td>\n",
       "      <td>Q96DB2:HDAC11:0.55</td>\n",
       "      <td>1</td>\n",
       "      <td>NaN</td>\n",
       "      <td>0</td>\n",
       "      <td>I</td>\n",
       "    </tr>\n",
       "    <tr>\n",
       "      <th>2</th>\n",
       "      <td>TCGA-A8-A093</td>\n",
       "      <td>P28062:PSMB8</td>\n",
       "      <td>R216W</td>\n",
       "      <td>P40306:PSMB10</td>\n",
       "      <td>1</td>\n",
       "      <td>NaN</td>\n",
       "      <td>0</td>\n",
       "      <td>P40306:PSMB10</td>\n",
       "      <td>1</td>\n",
       "      <td>I</td>\n",
       "    </tr>\n",
       "    <tr>\n",
       "      <th>3</th>\n",
       "      <td>TCGA-A8-A093</td>\n",
       "      <td>Q15842:KCNJ8</td>\n",
       "      <td>E237K</td>\n",
       "      <td>Q14654:KCNJ11,P63252:KCNJ2</td>\n",
       "      <td>2</td>\n",
       "      <td>Q14654:KCNJ11:0.52,P63252:KCNJ2:0.53</td>\n",
       "      <td>2</td>\n",
       "      <td>NaN</td>\n",
       "      <td>0</td>\n",
       "      <td>I</td>\n",
       "    </tr>\n",
       "    <tr>\n",
       "      <th>4</th>\n",
       "      <td>TCGA-LD-A74U</td>\n",
       "      <td>O15041:SEMA3E</td>\n",
       "      <td>E364K</td>\n",
       "      <td>Q9Y4D7:PLXND1</td>\n",
       "      <td>1</td>\n",
       "      <td>NaN</td>\n",
       "      <td>0</td>\n",
       "      <td>Q9Y4D7:PLXND1</td>\n",
       "      <td>1</td>\n",
       "      <td>I</td>\n",
       "    </tr>\n",
       "  </tbody>\n",
       "</table>\n",
       "</div>"
      ],
      "text/plain": [
       "        PATIENT    PROTEIN_GENE MUTATION  \\\n",
       "0  TCGA-D8-A1XY  Q9UKS6:PACSIN3     R24H   \n",
       "1  TCGA-AO-A0J5    Q9UBN7:HDAC6    D567Y   \n",
       "2  TCGA-A8-A093    P28062:PSMB8    R216W   \n",
       "3  TCGA-A8-A093    Q15842:KCNJ8    E237K   \n",
       "4  TCGA-LD-A74U   O15041:SEMA3E    E364K   \n",
       "\n",
       "                                         INTERACTORS  NUM_INTERACTORS  \\\n",
       "0  Q9BY11:PACSIN1,Q9UNF0:PACSIN2,Q5TZC3:PACSIN1,Q...                4   \n",
       "1                                      Q96DB2:HDAC11                1   \n",
       "2                                      P40306:PSMB10                1   \n",
       "3                         Q14654:KCNJ11,P63252:KCNJ2                2   \n",
       "4                                      Q9Y4D7:PLXND1                1   \n",
       "\n",
       "                              DISRUPTIVE_INTERACTORS  \\\n",
       "0  Q9BY11:PACSIN1:0.5,Q9UNF0:PACSIN2:0.59,Q6FIA3:...   \n",
       "1                                 Q96DB2:HDAC11:0.55   \n",
       "2                                                NaN   \n",
       "3               Q14654:KCNJ11:0.52,P63252:KCNJ2:0.53   \n",
       "4                                                NaN   \n",
       "\n",
       "   NUM_DISRUPTIVE_INTERACTORS NON_DISRUPTIVE_INTERACTORS  \\\n",
       "0                           3             Q5TZC3:PACSIN1   \n",
       "1                           1                        NaN   \n",
       "2                           0              P40306:PSMB10   \n",
       "3                           2                        NaN   \n",
       "4                           0              Q9Y4D7:PLXND1   \n",
       "\n",
       "   NUM_NON_DISRUPTIVE_INTERACTORS CORE_INTERFACE_VS_INTERFACE_STATUS  \n",
       "0                               1                                  I  \n",
       "1                               0                                  I  \n",
       "2                               1                                  I  \n",
       "3                               0                                  I  \n",
       "4                               1                                  I  "
      ]
     },
     "execution_count": 12,
     "metadata": {},
     "output_type": "execute_result"
    }
   ],
   "source": [
    "brca_mutex.patient_interaction_data.head()"
   ]
  },
  {
   "cell_type": "code",
   "execution_count": null,
   "id": "195a2d4c-8c28-4def-881c-bc461f9cf628",
   "metadata": {},
   "outputs": [],
   "source": [
    "    SRPK1"
   ]
  },
  {
   "cell_type": "code",
   "execution_count": 15,
   "id": "cc9b6d0e-7fda-4a85-9c0f-1cbee20ff7e8",
   "metadata": {},
   "outputs": [
    {
     "data": {
      "text/plain": [
       "Counter({'P21860:ERBB3': 1,\n",
       "         'O60674:JAK2': 1,\n",
       "         'P15153:RAC2': 1,\n",
       "         'Q96SB4:SRPK1': 7,\n",
       "         'Q9UJM3:ERRFI1': 1,\n",
       "         'Q92625:ANKS1A': 1,\n",
       "         'P23458:JAK1': 1,\n",
       "         'P00533:EGFR': 2,\n",
       "         'P51813:BMX': 2,\n",
       "         'Q14289:PTK2B': 2,\n",
       "         'P16591:FER': 2,\n",
       "         'P06241:FYN': 2,\n",
       "         'P08069:IGF1R': 2,\n",
       "         'Q13153:PAK1': 2,\n",
       "         'P42680:TEC': 2})"
      ]
     },
     "execution_count": 15,
     "metadata": {},
     "output_type": "execute_result"
    }
   ],
   "source": [
    "brca_mutex.get_disrupted_interactors(\n",
    "    \"ERBB2\", identifier_type=\"gene\", return_counter=True\n",
    ")"
   ]
  },
  {
   "cell_type": "code",
   "execution_count": 14,
   "id": "f143a106-6390-44df-ab90-0ab1a376b27c",
   "metadata": {},
   "outputs": [
    {
     "data": {
      "text/plain": [
       "Counter({'O15350:TP73': 13,\n",
       "         'Q96KQ7:EHMT2': 14,\n",
       "         'Q13625:TP53BP2': 42,\n",
       "         'Q9H9B1:EHMT1': 9,\n",
       "         'Q9H3D4:TP63': 18,\n",
       "         'Q96KQ4:PPP1R13B': 42,\n",
       "         'Q99728:BARD1': 8,\n",
       "         'O75832:PSMD10': 8,\n",
       "         'Q9ULT8:HECTD1': 8,\n",
       "         'H2EHT1:TP53': 16,\n",
       "         'K7PPA8:TP53': 16,\n",
       "         'P62993:GRB2': 33,\n",
       "         'P07948:LYN': 12,\n",
       "         'Q8WUF5:PPP1R13L': 30,\n",
       "         'Q06187:BTK': 31})"
      ]
     },
     "execution_count": 14,
     "metadata": {},
     "output_type": "execute_result"
    }
   ],
   "source": [
    "brca_mutex.get_disrupted_interactors(\"TP53\", identifier_type=\"gene\", return_counter=True)"
   ]
  },
  {
   "cell_type": "code",
   "execution_count": 14,
   "id": "2f445447-6a8d-4ad3-9ddd-f0f460500b87",
   "metadata": {},
   "outputs": [
    {
     "data": {
      "text/plain": [
       "Counter({'O15350:TP73': 13,\n",
       "         'Q96KQ7:EHMT2': 14,\n",
       "         'Q13625:TP53BP2': 42,\n",
       "         'Q9H9B1:EHMT1': 9,\n",
       "         'Q9H3D4:TP63': 18,\n",
       "         'Q96KQ4:PPP1R13B': 42,\n",
       "         'Q99728:BARD1': 8,\n",
       "         'O75832:PSMD10': 8,\n",
       "         'Q9ULT8:HECTD1': 8,\n",
       "         'H2EHT1:TP53': 16,\n",
       "         'K7PPA8:TP53': 16,\n",
       "         'P62993:GRB2': 33,\n",
       "         'P07948:LYN': 12,\n",
       "         'Q8WUF5:PPP1R13L': 30,\n",
       "         'Q06187:BTK': 31})"
      ]
     },
     "execution_count": 14,
     "metadata": {},
     "output_type": "execute_result"
    }
   ],
   "source": [
    "brca_mutex.get_disrupted_interactors(\"TP53\", identifier_type=\"gene\", return_counter=True)"
   ]
  },
  {
   "cell_type": "code",
   "execution_count": 15,
   "id": "bca305ff-a250-4316-b569-d69df2e95ef9",
   "metadata": {},
   "outputs": [
    {
     "data": {
      "text/plain": [
       "['Q13625:TP53BP2',\n",
       " 'Q96KQ4:PPP1R13B',\n",
       " 'P62993:GRB2',\n",
       " 'Q06187:BTK',\n",
       " 'Q8WUF5:PPP1R13L',\n",
       " 'Q9H3D4:TP63',\n",
       " 'H2EHT1:TP53',\n",
       " 'K7PPA8:TP53',\n",
       " 'Q96KQ7:EHMT2',\n",
       " 'O15350:TP73',\n",
       " 'P07948:LYN',\n",
       " 'Q9H9B1:EHMT1',\n",
       " 'Q99728:BARD1',\n",
       " 'O75832:PSMD10',\n",
       " 'Q9ULT8:HECTD1']"
      ]
     },
     "execution_count": 15,
     "metadata": {},
     "output_type": "execute_result"
    }
   ],
   "source": [
    "brca_mutex.get_disrupted_interactors(\"TP53\", identifier_type=\"gene\")"
   ]
  },
  {
   "cell_type": "code",
   "execution_count": 16,
   "id": "7e4818ba-f6ed-4d93-9e29-ff2381924936",
   "metadata": {},
   "outputs": [
    {
     "data": {
      "text/plain": [
       "Counter({'O15350:TP73': 13,\n",
       "         'Q96KQ7:EHMT2': 14,\n",
       "         'Q13625:TP53BP2': 42,\n",
       "         'Q9H9B1:EHMT1': 9,\n",
       "         'Q9H3D4:TP63': 18,\n",
       "         'Q96KQ4:PPP1R13B': 42,\n",
       "         'Q99728:BARD1': 8,\n",
       "         'O75832:PSMD10': 8,\n",
       "         'Q9ULT8:HECTD1': 8,\n",
       "         'H2EHT1:TP53': 16,\n",
       "         'K7PPA8:TP53': 16,\n",
       "         'P62993:GRB2': 33,\n",
       "         'P07948:LYN': 12,\n",
       "         'Q8WUF5:PPP1R13L': 30,\n",
       "         'Q06187:BTK': 31})"
      ]
     },
     "execution_count": 16,
     "metadata": {},
     "output_type": "execute_result"
    }
   ],
   "source": [
    "brca_mutex.get_disrupted_interactors(\"TP53\", identifier_type=\"gene\", return_counter=True)"
   ]
  },
  {
   "cell_type": "code",
   "execution_count": 17,
   "id": "faeb8d67-d861-4b20-9ec3-e6c8e185c453",
   "metadata": {},
   "outputs": [
    {
     "data": {
      "text/plain": [
       "Counter({'P62805:H4C1': 6,\n",
       "         'Q9UER7:DAXX': 4,\n",
       "         'P04908:H2AC4': 4,\n",
       "         'Q16777:H2AC20': 3,\n",
       "         'P16104:H2AX': 4,\n",
       "         'P0C0S8:H2AC11': 4,\n",
       "         'O75367:MACROH2A1': 4,\n",
       "         'P0C0S5:H2AZ1': 4,\n",
       "         'Q9Y294:ASF1A': 1,\n",
       "         'Q9NVP2:ASF1B': 1,\n",
       "         'P49450:CENPA': 1})"
      ]
     },
     "execution_count": 17,
     "metadata": {},
     "output_type": "execute_result"
    }
   ],
   "source": [
    "brca_mutex.get_disrupted_interactors(\"H3C1\", identifier_type=\"gene\", return_counter=True)"
   ]
  },
  {
   "cell_type": "code",
   "execution_count": 18,
   "id": "e11c1399-74ee-40be-8e9d-ca8abcd56479",
   "metadata": {},
   "outputs": [
    {
     "data": {
      "text/plain": [
       "Counter({'P84243:H3-3A': 7,\n",
       "         'Q16695:H3-4': 5,\n",
       "         'Q71DI3:H3C15': 7,\n",
       "         'P49450:CENPA': 5,\n",
       "         'P68431:H3C1': 8,\n",
       "         'Q16514:TAF12': 2,\n",
       "         'Q9UER7:DAXX': 3,\n",
       "         'P06899:H2BC11': 1,\n",
       "         'Q16778:H2BC21': 1,\n",
       "         'B4E1C1:nan': 4,\n",
       "         'Q53F85:nan': 3,\n",
       "         'P04908:H2AC4': 2,\n",
       "         'P16104:H2AX': 1,\n",
       "         'P0C0S5:H2AZ1': 2,\n",
       "         'Q16777:H2AC20': 2,\n",
       "         'Q9Y294:ASF1A': 1})"
      ]
     },
     "execution_count": 18,
     "metadata": {},
     "output_type": "execute_result"
    }
   ],
   "source": [
    "brca_mutex.get_disrupted_interactors(\"H4C1\", identifier_type=\"gene\", return_counter=True)"
   ]
  },
  {
   "cell_type": "code",
   "execution_count": 19,
   "id": "4b6411d8-0e9b-450b-89b2-fa648e649a4b",
   "metadata": {},
   "outputs": [
    {
     "data": {
      "text/plain": [
       "Counter({'Q5S007:LRRK2': 6,\n",
       "         'P52564:MAP2K6': 6,\n",
       "         'P00533:EGFR': 1,\n",
       "         'P35916:FLT4': 1,\n",
       "         'Q99558:MAP3K14': 1,\n",
       "         'P45984:MAPK9': 1,\n",
       "         'Q16539:MAPK14': 2})"
      ]
     },
     "execution_count": 19,
     "metadata": {},
     "output_type": "execute_result"
    }
   ],
   "source": [
    "brca_mutex.get_disrupted_interactors(\"MAP2K4\", identifier_type=\"gene\", return_counter=True)"
   ]
  },
  {
   "cell_type": "code",
   "execution_count": null,
   "id": "72a4ea13-e318-49ce-9b8d-e6006797c855",
   "metadata": {},
   "outputs": [],
   "source": []
  },
  {
   "cell_type": "code",
   "execution_count": null,
   "id": "57467be9-0927-4721-a9dc-9c90c05f55fe",
   "metadata": {},
   "outputs": [],
   "source": []
  },
  {
   "cell_type": "code",
   "execution_count": 20,
   "id": "bd19254b-9083-4e98-8d5f-263c2ca647ad",
   "metadata": {},
   "outputs": [
    {
     "data": {
      "text/plain": [
       "['H2EHT1', 'K7PPA8', 'P04637']"
      ]
     },
     "execution_count": 20,
     "metadata": {},
     "output_type": "execute_result"
    }
   ],
   "source": [
    "ProteinIDFetcher().fetch(\"TP53\")"
   ]
  },
  {
   "cell_type": "code",
   "execution_count": 21,
   "id": "f9ece295-6c4a-4054-b680-28cf721c5c26",
   "metadata": {},
   "outputs": [
    {
     "data": {
      "text/plain": [
       "['P45985']"
      ]
     },
     "execution_count": 21,
     "metadata": {},
     "output_type": "execute_result"
    }
   ],
   "source": [
    "ProteinIDFetcher().fetch(\"MAP2K4\")"
   ]
  },
  {
   "cell_type": "code",
   "execution_count": 22,
   "id": "6a5b8352-e0bd-4038-9f1b-c6e53474f1a3",
   "metadata": {},
   "outputs": [
    {
     "data": {
      "text/plain": [
       "['P04626', 'J3QLU9']"
      ]
     },
     "execution_count": 22,
     "metadata": {},
     "output_type": "execute_result"
    }
   ],
   "source": [
    "ProteinIDFetcher().fetch(\"ERBB2\")"
   ]
  },
  {
   "cell_type": "code",
   "execution_count": 23,
   "id": "28d7227c-a167-42fa-9184-22caae499836",
   "metadata": {},
   "outputs": [
    {
     "data": {
      "text/plain": [
       "1.0"
      ]
     },
     "execution_count": 23,
     "metadata": {},
     "output_type": "execute_result"
    }
   ],
   "source": [
    "brca_mutex.calculate_mutual_exclusivity(\"Q96SB4\", \"P04626\")"
   ]
  },
  {
   "cell_type": "code",
   "execution_count": 24,
   "id": "8c257c26-5139-47e1-a1d8-405a58504820",
   "metadata": {},
   "outputs": [
    {
     "data": {
      "text/plain": [
       "0.9285714285714286"
      ]
     },
     "execution_count": 24,
     "metadata": {},
     "output_type": "execute_result"
    }
   ],
   "source": [
    "brca_mutex.calculate_mutual_exclusivity(\"P08069\", \"Q96SB4\")"
   ]
  },
  {
   "cell_type": "code",
   "execution_count": 25,
   "id": "c9f79da3-c53e-48e7-94c0-69f6551d969d",
   "metadata": {},
   "outputs": [
    {
     "data": {
      "text/plain": [
       "0.9375"
      ]
     },
     "execution_count": 25,
     "metadata": {},
     "output_type": "execute_result"
    }
   ],
   "source": [
    "brca_mutex.calculate_mutual_exclusivity(\"P08069\", \"P23458\")"
   ]
  },
  {
   "cell_type": "code",
   "execution_count": 26,
   "id": "c40d7a54-3f24-419e-84d3-e2fa3daaebf4",
   "metadata": {},
   "outputs": [
    {
     "data": {
      "text/plain": [
       "0.9375"
      ]
     },
     "execution_count": 26,
     "metadata": {},
     "output_type": "execute_result"
    }
   ],
   "source": [
    "brca_mutex.calculate_mutual_exclusivity(\"P23458\", \"P08069\")"
   ]
  },
  {
   "cell_type": "code",
   "execution_count": null,
   "id": "f9b71cab-55ec-49e5-83a0-2bae18479736",
   "metadata": {},
   "outputs": [],
   "source": []
  }
 ],
 "metadata": {
  "kernelspec": {
   "display_name": "Predicting-Mutation-Effects",
   "language": "python",
   "name": "predicting-mutation-effects"
  },
  "language_info": {
   "codemirror_mode": {
    "name": "ipython",
    "version": 3
   },
   "file_extension": ".py",
   "mimetype": "text/x-python",
   "name": "python",
   "nbconvert_exporter": "python",
   "pygments_lexer": "ipython3",
   "version": "3.8.10"
  }
 },
 "nbformat": 4,
 "nbformat_minor": 5
}
