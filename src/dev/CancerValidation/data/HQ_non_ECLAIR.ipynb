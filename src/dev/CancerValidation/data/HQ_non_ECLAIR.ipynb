{
 "cells": [
  {
   "cell_type": "markdown",
   "metadata": {
    "collapsed": true,
    "pycharm": {
     "name": "#%% md\n"
    }
   },
   "source": [
    "# HQ non ECLAIR"
   ]
  },
  {
   "cell_type": "code",
   "execution_count": 1,
   "outputs": [
    {
     "name": "stdout",
     "output_type": "stream",
     "text": [
      "\u001B[32mMarch 09, 2022 16:31:23\u001B[0m\n"
     ]
    }
   ],
   "source": [
    "from datetime import datetime\n",
    "\n",
    "print(\"\\033[32m{}\\033[0m\".format(datetime.now().strftime(\"%B %d, %Y %H:%M:%S\")))"
   ],
   "metadata": {
    "collapsed": false,
    "pycharm": {
     "name": "#%%\n"
    }
   }
  },
  {
   "cell_type": "code",
   "execution_count": 3,
   "outputs": [
    {
     "name": "stdout",
     "output_type": "stream",
     "text": [
      "The autoreload extension is already loaded. To reload it, use:\n",
      "  %reload_ext autoreload\n"
     ]
    }
   ],
   "source": [
    "import pandas as pd\n",
    "\n",
    "H_SAPIENS_INTERFACES_HQ_PATH = \"H_sapiens_interfacesHQ.txt\"\n",
    "\n",
    "# Reflect changes in the modules immediately.\n",
    "%load_ext autoreload\n",
    "%autoreload 2"
   ],
   "metadata": {
    "collapsed": false,
    "pycharm": {
     "name": "#%%\n"
    }
   }
  },
  {
   "cell_type": "code",
   "execution_count": 6,
   "outputs": [
    {
     "data": {
      "text/plain": "                P1      P2  Source  \\\n0       A0A024R087  Q92560  ECLAIR   \n1       A0A024R5S0  O75553  ECLAIR   \n2       A0A024R5S0  P25788  ECLAIR   \n3       A0A024R5S0  Q02446  ECLAIR   \n4       A0A024R5S0  Q8N9W6  ECLAIR   \n...            ...     ...     ...   \n121570      V9HWP0  V9HWP0  ECLAIR   \n121571      W0FFG4  W0FFG4  ECLAIR   \n121572      W0S0X4  W0S0X4     I3D   \n121573      W0S1B5  W0S1B5  ECLAIR   \n121574      X5CMJ9  X5CMJ9     I3D   \n\n                                                  P1_IRES  \\\n0                                                      []   \n1                                                      []   \n2                                                      []   \n3                                                      []   \n4                                                      []   \n...                                                   ...   \n121570                                      [120,212-213]   \n121571  [180,184,191,194-195,198,201-202,208,212,222,2...   \n121572  [1-3,5-10,13,16-17,20-21,23-24,27,30-31,34-35,...   \n121573  [292,328-329,331,340-341,355,380-382,386,389-3...   \n121574  [197,205-206,208-210,212-213,216,230,233-234,2...   \n\n                                                  P2_IRES  \n0                                                      []  \n1       [56,66,76,107,111,120-121,123-124,132,145,148,...  \n2       [7-8,10-11,13-15,17-20,29,55,57-59,122,125-130...  \n3                               [645-648,650-666,668-670]  \n4       [33,39,42,54-55,68,70-73,85,87,101-102,104,107...  \n...                                                   ...  \n121570                                      [120,212-213]  \n121571  [180,184,191,194-195,198,201-202,208,212,222,2...  \n121572  [1-3,5-10,13,16-17,20-21,23-24,27,30-31,34-35,...  \n121573  [292,328-329,331,340-341,355,380-382,386,389-3...  \n121574  [197,205-206,208-210,212-213,216,230,233-234,2...  \n\n[121575 rows x 5 columns]",
      "text/html": "<div>\n<style scoped>\n    .dataframe tbody tr th:only-of-type {\n        vertical-align: middle;\n    }\n\n    .dataframe tbody tr th {\n        vertical-align: top;\n    }\n\n    .dataframe thead th {\n        text-align: right;\n    }\n</style>\n<table border=\"1\" class=\"dataframe\">\n  <thead>\n    <tr style=\"text-align: right;\">\n      <th></th>\n      <th>P1</th>\n      <th>P2</th>\n      <th>Source</th>\n      <th>P1_IRES</th>\n      <th>P2_IRES</th>\n    </tr>\n  </thead>\n  <tbody>\n    <tr>\n      <th>0</th>\n      <td>A0A024R087</td>\n      <td>Q92560</td>\n      <td>ECLAIR</td>\n      <td>[]</td>\n      <td>[]</td>\n    </tr>\n    <tr>\n      <th>1</th>\n      <td>A0A024R5S0</td>\n      <td>O75553</td>\n      <td>ECLAIR</td>\n      <td>[]</td>\n      <td>[56,66,76,107,111,120-121,123-124,132,145,148,...</td>\n    </tr>\n    <tr>\n      <th>2</th>\n      <td>A0A024R5S0</td>\n      <td>P25788</td>\n      <td>ECLAIR</td>\n      <td>[]</td>\n      <td>[7-8,10-11,13-15,17-20,29,55,57-59,122,125-130...</td>\n    </tr>\n    <tr>\n      <th>3</th>\n      <td>A0A024R5S0</td>\n      <td>Q02446</td>\n      <td>ECLAIR</td>\n      <td>[]</td>\n      <td>[645-648,650-666,668-670]</td>\n    </tr>\n    <tr>\n      <th>4</th>\n      <td>A0A024R5S0</td>\n      <td>Q8N9W6</td>\n      <td>ECLAIR</td>\n      <td>[]</td>\n      <td>[33,39,42,54-55,68,70-73,85,87,101-102,104,107...</td>\n    </tr>\n    <tr>\n      <th>...</th>\n      <td>...</td>\n      <td>...</td>\n      <td>...</td>\n      <td>...</td>\n      <td>...</td>\n    </tr>\n    <tr>\n      <th>121570</th>\n      <td>V9HWP0</td>\n      <td>V9HWP0</td>\n      <td>ECLAIR</td>\n      <td>[120,212-213]</td>\n      <td>[120,212-213]</td>\n    </tr>\n    <tr>\n      <th>121571</th>\n      <td>W0FFG4</td>\n      <td>W0FFG4</td>\n      <td>ECLAIR</td>\n      <td>[180,184,191,194-195,198,201-202,208,212,222,2...</td>\n      <td>[180,184,191,194-195,198,201-202,208,212,222,2...</td>\n    </tr>\n    <tr>\n      <th>121572</th>\n      <td>W0S0X4</td>\n      <td>W0S0X4</td>\n      <td>I3D</td>\n      <td>[1-3,5-10,13,16-17,20-21,23-24,27,30-31,34-35,...</td>\n      <td>[1-3,5-10,13,16-17,20-21,23-24,27,30-31,34-35,...</td>\n    </tr>\n    <tr>\n      <th>121573</th>\n      <td>W0S1B5</td>\n      <td>W0S1B5</td>\n      <td>ECLAIR</td>\n      <td>[292,328-329,331,340-341,355,380-382,386,389-3...</td>\n      <td>[292,328-329,331,340-341,355,380-382,386,389-3...</td>\n    </tr>\n    <tr>\n      <th>121574</th>\n      <td>X5CMJ9</td>\n      <td>X5CMJ9</td>\n      <td>I3D</td>\n      <td>[197,205-206,208-210,212-213,216,230,233-234,2...</td>\n      <td>[197,205-206,208-210,212-213,216,230,233-234,2...</td>\n    </tr>\n  </tbody>\n</table>\n<p>121575 rows × 5 columns</p>\n</div>"
     },
     "execution_count": 6,
     "metadata": {},
     "output_type": "execute_result"
    }
   ],
   "source": [
    "data = pd.read_csv(\n",
    "    H_SAPIENS_INTERFACES_HQ_PATH, sep=\"\\t\"\n",
    ")\n",
    "data"
   ],
   "metadata": {
    "collapsed": false,
    "pycharm": {
     "name": "#%%\n"
    }
   }
  },
  {
   "cell_type": "code",
   "execution_count": 7,
   "outputs": [
    {
     "data": {
      "text/plain": "<Figure size 432x288 with 1 Axes>",
      "image/png": "[encoded data removed]"
     },
     "metadata": {
      "needs_background": "light"
     },
     "output_type": "display_data"
    }
   ],
   "source": [
    "data[\"Source\"].value_counts().plot(kind=\"bar\");"
   ],
   "metadata": {
    "collapsed": false,
    "pycharm": {
     "name": "#%%\n"
    }
   }
  },
  {
   "cell_type": "code",
   "execution_count": null,
   "outputs": [],
   "source": [],
   "metadata": {
    "collapsed": false,
    "pycharm": {
     "name": "#%%\n"
    }
   }
  },
  {
   "cell_type": "code",
   "execution_count": 9,
   "outputs": [
    {
     "data": {
      "text/plain": "                P1      P2 Source  \\\n27      A0A0B4J2H0  P04209    PDB   \n28          A0A5B4  A0A5B4    PDB   \n30          A0A5B9  P01848    PDB   \n49          A0AVT1  O15205    I3D   \n58          A0AVT1  P0CG48    I3D   \n...            ...     ...    ...   \n121551      V9HWG3  V9HWG3    I3D   \n121555      V9HWH6  V9HWH6    I3D   \n121565      V9HWJ8  V9HWJ8    I3D   \n121572      W0S0X4  W0S0X4    I3D   \n121574      X5CMJ9  X5CMJ9    I3D   \n\n                                                  P1_IRES  \\\n27                                   [58,62-66,78-81,114]   \n28                           [19,21-23,25-26,28,31-32,34]   \n30      [9,11-14,16-19,22-25,27,29,31,33,52-55,57-60,6...   \n49      [236,238,268-269,316-317,508,569-571,593-594,5...   \n58      [219-220,223,228,230,232-235,266-269,284,623,7...   \n...                                                   ...   \n121551  [24-25,28,163-164,166,170-171,173-174,176,178-...   \n121555  [1,60-62,87-90,92,133-134,136,138,140-145,147-...   \n121565  [112,116,120,123,127,130-131,134,137-138,141-1...   \n121572  [1-3,5-10,13,16-17,20-21,23-24,27,30-31,34-35,...   \n121574  [197,205-206,208-210,212-213,216,230,233-234,2...   \n\n                                                  P2_IRES  \n27                           [32,38,40,44-46,48,52,57,89]  \n28                           [19,21-23,25-26,28,31-32,34]  \n30      [7,11-19,21-23,25,28,37,41-42,44-48,50-56,58,6...  \n49      [121-126,128-129,133,135-138,140-141,157,159-165]  \n58                         [6-11,34,42,44,46-49,68,70-76]  \n...                                                   ...  \n121551  [24-25,28,163-164,166,170-171,173-174,176,178-...  \n121555  [1,60-62,87-90,92,133-134,136,138,140-145,147-...  \n121565  [112,116,120,123,127,130-131,134,137-138,141-1...  \n121572  [1-3,5-10,13,16-17,20-21,23-24,27,30-31,34-35,...  \n121574  [197,205-206,208-210,212-213,216,230,233-234,2...  \n\n[7051 rows x 5 columns]",
      "text/html": "<div>\n<style scoped>\n    .dataframe tbody tr th:only-of-type {\n        vertical-align: middle;\n    }\n\n    .dataframe tbody tr th {\n        vertical-align: top;\n    }\n\n    .dataframe thead th {\n        text-align: right;\n    }\n</style>\n<table border=\"1\" class=\"dataframe\">\n  <thead>\n    <tr style=\"text-align: right;\">\n      <th></th>\n      <th>P1</th>\n      <th>P2</th>\n      <th>Source</th>\n      <th>P1_IRES</th>\n      <th>P2_IRES</th>\n    </tr>\n  </thead>\n  <tbody>\n    <tr>\n      <th>27</th>\n      <td>A0A0B4J2H0</td>\n      <td>P04209</td>\n      <td>PDB</td>\n      <td>[58,62-66,78-81,114]</td>\n      <td>[32,38,40,44-46,48,52,57,89]</td>\n    </tr>\n    <tr>\n      <th>28</th>\n      <td>A0A5B4</td>\n      <td>A0A5B4</td>\n      <td>PDB</td>\n      <td>[19,21-23,25-26,28,31-32,34]</td>\n      <td>[19,21-23,25-26,28,31-32,34]</td>\n    </tr>\n    <tr>\n      <th>30</th>\n      <td>A0A5B9</td>\n      <td>P01848</td>\n      <td>PDB</td>\n      <td>[9,11-14,16-19,22-25,27,29,31,33,52-55,57-60,6...</td>\n      <td>[7,11-19,21-23,25,28,37,41-42,44-48,50-56,58,6...</td>\n    </tr>\n    <tr>\n      <th>49</th>\n      <td>A0AVT1</td>\n      <td>O15205</td>\n      <td>I3D</td>\n      <td>[236,238,268-269,316-317,508,569-571,593-594,5...</td>\n      <td>[121-126,128-129,133,135-138,140-141,157,159-165]</td>\n    </tr>\n    <tr>\n      <th>58</th>\n      <td>A0AVT1</td>\n      <td>P0CG48</td>\n      <td>I3D</td>\n      <td>[219-220,223,228,230,232-235,266-269,284,623,7...</td>\n      <td>[6-11,34,42,44,46-49,68,70-76]</td>\n    </tr>\n    <tr>\n      <th>...</th>\n      <td>...</td>\n      <td>...</td>\n      <td>...</td>\n      <td>...</td>\n      <td>...</td>\n    </tr>\n    <tr>\n      <th>121551</th>\n      <td>V9HWG3</td>\n      <td>V9HWG3</td>\n      <td>I3D</td>\n      <td>[24-25,28,163-164,166,170-171,173-174,176,178-...</td>\n      <td>[24-25,28,163-164,166,170-171,173-174,176,178-...</td>\n    </tr>\n    <tr>\n      <th>121555</th>\n      <td>V9HWH6</td>\n      <td>V9HWH6</td>\n      <td>I3D</td>\n      <td>[1,60-62,87-90,92,133-134,136,138,140-145,147-...</td>\n      <td>[1,60-62,87-90,92,133-134,136,138,140-145,147-...</td>\n    </tr>\n    <tr>\n      <th>121565</th>\n      <td>V9HWJ8</td>\n      <td>V9HWJ8</td>\n      <td>I3D</td>\n      <td>[112,116,120,123,127,130-131,134,137-138,141-1...</td>\n      <td>[112,116,120,123,127,130-131,134,137-138,141-1...</td>\n    </tr>\n    <tr>\n      <th>121572</th>\n      <td>W0S0X4</td>\n      <td>W0S0X4</td>\n      <td>I3D</td>\n      <td>[1-3,5-10,13,16-17,20-21,23-24,27,30-31,34-35,...</td>\n      <td>[1-3,5-10,13,16-17,20-21,23-24,27,30-31,34-35,...</td>\n    </tr>\n    <tr>\n      <th>121574</th>\n      <td>X5CMJ9</td>\n      <td>X5CMJ9</td>\n      <td>I3D</td>\n      <td>[197,205-206,208-210,212-213,216,230,233-234,2...</td>\n      <td>[197,205-206,208-210,212-213,216,230,233-234,2...</td>\n    </tr>\n  </tbody>\n</table>\n<p>7051 rows × 5 columns</p>\n</div>"
     },
     "execution_count": 9,
     "metadata": {},
     "output_type": "execute_result"
    }
   ],
   "source": [
    "data_non_ECLAIR = data[\n",
    "    data[\"Source\"] != \"ECLAIR\"\n",
    "]\n",
    "\n",
    "data_non_ECLAIR"
   ],
   "metadata": {
    "collapsed": false,
    "pycharm": {
     "name": "#%%\n"
    }
   }
  },
  {
   "cell_type": "code",
   "execution_count": 10,
   "outputs": [
    {
     "name": "stdout",
     "output_type": "stream",
     "text": [
      "File extracted successfully.\n"
     ]
    }
   ],
   "source": [
    "file_date = datetime.today().strftime('%Y-%m-%d')\n",
    "file_name = f\"H_sapiens_interfacesHQ_non_ECLAIR_{file_date}.txt\"\n",
    "data_non_ECLAIR.to_csv(file_name, sep=\"\\t\", index=False)\n",
    "print(\"File extracted successfully.\")"
   ],
   "metadata": {
    "collapsed": false,
    "pycharm": {
     "name": "#%%\n"
    }
   }
  },
  {
   "cell_type": "code",
   "execution_count": null,
   "outputs": [],
   "source": [],
   "metadata": {
    "collapsed": false,
    "pycharm": {
     "name": "#%%\n"
    }
   }
  },
  {
   "cell_type": "code",
   "execution_count": null,
   "outputs": [],
   "source": [],
   "metadata": {
    "collapsed": false,
    "pycharm": {
     "name": "#%%\n"
    }
   }
  },
  {
   "cell_type": "code",
   "execution_count": null,
   "outputs": [],
   "source": [],
   "metadata": {
    "collapsed": false,
    "pycharm": {
     "name": "#%%\n"
    }
   }
  },
  {
   "cell_type": "code",
   "execution_count": null,
   "outputs": [],
   "source": [],
   "metadata": {
    "collapsed": false,
    "pycharm": {
     "name": "#%%\n"
    }
   }
  },
  {
   "cell_type": "code",
   "execution_count": null,
   "outputs": [],
   "source": [],
   "metadata": {
    "collapsed": false,
    "pycharm": {
     "name": "#%%\n"
    }
   }
  },
  {
   "cell_type": "code",
   "execution_count": null,
   "outputs": [],
   "source": [],
   "metadata": {
    "collapsed": false,
    "pycharm": {
     "name": "#%%\n"
    }
   }
  },
  {
   "cell_type": "code",
   "execution_count": null,
   "outputs": [],
   "source": [],
   "metadata": {
    "collapsed": false,
    "pycharm": {
     "name": "#%%\n"
    }
   }
  },
  {
   "cell_type": "code",
   "execution_count": null,
   "outputs": [],
   "source": [],
   "metadata": {
    "collapsed": false,
    "pycharm": {
     "name": "#%%\n"
    }
   }
  },
  {
   "cell_type": "code",
   "execution_count": null,
   "outputs": [],
   "source": [],
   "metadata": {
    "collapsed": false,
    "pycharm": {
     "name": "#%%\n"
    }
   }
  }
 ],
 "metadata": {
  "kernelspec": {
   "display_name": "Python 3",
   "language": "python",
   "name": "python3"
  },
  "language_info": {
   "codemirror_mode": {
    "name": "ipython",
    "version": 2
   },
   "file_extension": ".py",
   "mimetype": "text/x-python",
   "name": "python",
   "nbconvert_exporter": "python",
   "pygments_lexer": "ipython2",
   "version": "2.7.6"
  }
 },
 "nbformat": 4,
 "nbformat_minor": 0
}