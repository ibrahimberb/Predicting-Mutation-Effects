{
 "cells": [
  {
   "cell_type": "markdown",
   "source": [
    "# Validation on Cancer Predictions\n",
    "\n",
    "Feb 28th, 2022"
   ],
   "metadata": {
    "collapsed": false
   }
  },
  {
   "cell_type": "markdown",
   "source": [
    "## Setup"
   ],
   "metadata": {
    "collapsed": false
   }
  },
  {
   "cell_type": "code",
   "execution_count": 1,
   "outputs": [],
   "source": [
    "import pandas as pd\n",
    "from IPython.display import display\n",
    "\n",
    "from utils import CancerValidation\n",
    "\n",
    "BRCA_PREDICTION_PATH = \"../../../../data/predictions_datasets/brca_prediction_2021-11-17/558297b6/predictions_soft_2021-11-17.csv\"\n",
    "COAD_PREDICTION_PATH = \"../../../../data/predictions_datasets/coad_prediction_2022-01-06/9789393f/predictions_soft_2022-01-06.csv\"\n",
    "ESCA_PREDICTION_PATH = \"../../../../data/predictions_datasets/esca_prediction_2021-11-17/59544312/predictions_soft_2021-11-17.csv\"\n",
    "GBM_PREDICTION_PATH = \"../../../../data/predictions_datasets/gbm_prediction_2021-11-17/b9cfc7ea/predictions_soft_2021-11-17.csv\"\n",
    "HNSC_PREDICTION_PATH = \"../../../../data/predictions_datasets/hnsc_prediction_2021-11-17/53930f30/predictions_soft_2021-11-17.csv\"\n",
    "OV_PREDICTION_PATH = \"../../../../data/predictions_datasets/ov_prediction_2021-11-17/37bf1637/predictions_soft_2021-11-17.csv\"\n",
    "\n",
    "H_SAPIENS_INTERFACES_HQ_PATH = \"../data/H_sapiens_interfacesHQ.txt\"\n",
    "\n",
    "# Reflect changes in the modules immediately.\n",
    "%load_ext autoreload\n",
    "%autoreload 2"
   ],
   "metadata": {
    "collapsed": false,
    "pycharm": {
     "name": "#%%\n"
    }
   }
  },
  {
   "cell_type": "markdown",
   "source": [
    "## Initialize Cancer Validation"
   ],
   "metadata": {
    "collapsed": false
   }
  },
  {
   "cell_type": "code",
   "execution_count": 2,
   "outputs": [],
   "source": [
    "cancer_validation = CancerValidation(interfaces_data_path=H_SAPIENS_INTERFACES_HQ_PATH)"
   ],
   "metadata": {
    "collapsed": false,
    "pycharm": {
     "name": "#%%\n"
    }
   }
  },
  {
   "cell_type": "code",
   "execution_count": 3,
   "outputs": [],
   "source": [
    "brca_output = cancer_validation.load_output_dict(\"outputs/BRCA_output_2022-02-28.pickle\")\n",
    "coad_output = cancer_validation.load_output_dict(\"outputs/COAD_output_2022-02-28.pickle\")\n",
    "esca_output = cancer_validation.load_output_dict(\"outputs/ESCA_output_2022-02-28.pickle\")\n",
    "gbm_output = cancer_validation.load_output_dict(\"outputs/GBM_output_2022-02-28.pickle\")\n",
    "hnsc_output = cancer_validation.load_output_dict(\"outputs/HNSC_output_2022-02-28.pickle\")\n",
    "ov_output = cancer_validation.load_output_dict(\"outputs/OV_output_2022-02-28.pickle\")"
   ],
   "metadata": {
    "collapsed": false,
    "pycharm": {
     "name": "#%%\n"
    }
   }
  },
  {
   "cell_type": "code",
   "execution_count": null,
   "outputs": [],
   "source": [],
   "metadata": {
    "collapsed": false,
    "pycharm": {
     "name": "#%%\n"
    }
   }
  },
  {
   "cell_type": "markdown",
   "source": [
    "### BRCA"
   ],
   "metadata": {
    "collapsed": false
   }
  },
  {
   "cell_type": "code",
   "execution_count": 7,
   "outputs": [
    {
     "name": "stdout",
     "output_type": "stream",
     "text": [
      "Using the class 0 only.\n",
      "Using the class 1 only.\n"
     ]
    },
    {
     "name": "stderr",
     "output_type": "stream",
     "text": [
      "C:\\Users\\ibrah\\anaconda3\\envs\\MyVenvML\\lib\\site-packages\\sklearn\\metrics\\_classification.py:1245: UndefinedMetricWarning: Precision is ill-defined and being set to 0.0 due to no predicted samples. Use `zero_division` parameter to control this behavior.\n",
      "  _warn_prf(average, modifier, msg_start, len(result))\n",
      "C:\\Users\\ibrah\\anaconda3\\envs\\MyVenvML\\lib\\site-packages\\sklearn\\metrics\\_classification.py:870: RuntimeWarning: invalid value encountered in double_scalars\n",
      "  mcc = cov_ytyp / np.sqrt(cov_ytyt * cov_ypyp)\n",
      "C:\\Users\\ibrah\\anaconda3\\envs\\MyVenvML\\lib\\site-packages\\sklearn\\metrics\\_classification.py:870: RuntimeWarning: invalid value encountered in double_scalars\n",
      "  mcc = cov_ytyp / np.sqrt(cov_ytyt * cov_ypyp)\n"
     ]
    }
   ],
   "source": [
    "brca_output_0 = cancer_validation.validate_single_class(\"BRCA\", brca_output, single_class=0)\n",
    "brca_output_1 = cancer_validation.validate_single_class(\"BRCA\", brca_output, single_class=1)"
   ],
   "metadata": {
    "collapsed": false,
    "pycharm": {
     "name": "#%%\n"
    }
   }
  },
  {
   "cell_type": "markdown",
   "source": [
    "### COAD"
   ],
   "metadata": {
    "collapsed": false
   }
  },
  {
   "cell_type": "code",
   "execution_count": 16,
   "outputs": [
    {
     "name": "stdout",
     "output_type": "stream",
     "text": [
      "Using the class 0 only.\n",
      "Using the class 1 only.\n"
     ]
    },
    {
     "name": "stderr",
     "output_type": "stream",
     "text": [
      "C:\\Users\\ibrah\\anaconda3\\envs\\MyVenvML\\lib\\site-packages\\sklearn\\metrics\\_classification.py:1245: UndefinedMetricWarning: Precision is ill-defined and being set to 0.0 due to no predicted samples. Use `zero_division` parameter to control this behavior.\n",
      "  _warn_prf(average, modifier, msg_start, len(result))\n",
      "C:\\Users\\ibrah\\anaconda3\\envs\\MyVenvML\\lib\\site-packages\\sklearn\\metrics\\_classification.py:870: RuntimeWarning: invalid value encountered in double_scalars\n",
      "  mcc = cov_ytyp / np.sqrt(cov_ytyt * cov_ypyp)\n",
      "C:\\Users\\ibrah\\anaconda3\\envs\\MyVenvML\\lib\\site-packages\\sklearn\\metrics\\_classification.py:870: RuntimeWarning: invalid value encountered in double_scalars\n",
      "  mcc = cov_ytyp / np.sqrt(cov_ytyt * cov_ypyp)\n"
     ]
    }
   ],
   "source": [
    "coad_output_0 = cancer_validation.validate_single_class(\"COAD\", coad_output, single_class=0)\n",
    "coad_output_1 = cancer_validation.validate_single_class(\"COAD\", coad_output, single_class=1)"
   ],
   "metadata": {
    "collapsed": false,
    "pycharm": {
     "name": "#%%\n"
    }
   }
  },
  {
   "cell_type": "markdown",
   "source": [
    "### ESCA"
   ],
   "metadata": {
    "collapsed": false
   }
  },
  {
   "cell_type": "code",
   "execution_count": 17,
   "outputs": [
    {
     "name": "stdout",
     "output_type": "stream",
     "text": [
      "Using the class 0 only.\n",
      "Using the class 1 only.\n"
     ]
    },
    {
     "name": "stderr",
     "output_type": "stream",
     "text": [
      "C:\\Users\\ibrah\\anaconda3\\envs\\MyVenvML\\lib\\site-packages\\sklearn\\metrics\\_classification.py:1245: UndefinedMetricWarning: Precision is ill-defined and being set to 0.0 due to no predicted samples. Use `zero_division` parameter to control this behavior.\n",
      "  _warn_prf(average, modifier, msg_start, len(result))\n",
      "C:\\Users\\ibrah\\anaconda3\\envs\\MyVenvML\\lib\\site-packages\\sklearn\\metrics\\_classification.py:870: RuntimeWarning: invalid value encountered in double_scalars\n",
      "  mcc = cov_ytyp / np.sqrt(cov_ytyt * cov_ypyp)\n",
      "C:\\Users\\ibrah\\anaconda3\\envs\\MyVenvML\\lib\\site-packages\\sklearn\\metrics\\_classification.py:870: RuntimeWarning: invalid value encountered in double_scalars\n",
      "  mcc = cov_ytyp / np.sqrt(cov_ytyt * cov_ypyp)\n"
     ]
    }
   ],
   "source": [
    "esca_output_0 = cancer_validation.validate_single_class(\"ESCA\", esca_output, single_class=0)\n",
    "esca_output_1 = cancer_validation.validate_single_class(\"ESCA\", esca_output, single_class=1)"
   ],
   "metadata": {
    "collapsed": false,
    "pycharm": {
     "name": "#%%\n"
    }
   }
  },
  {
   "cell_type": "markdown",
   "source": [
    "### GBM"
   ],
   "metadata": {
    "collapsed": false
   }
  },
  {
   "cell_type": "code",
   "execution_count": 18,
   "outputs": [
    {
     "name": "stdout",
     "output_type": "stream",
     "text": [
      "Using the class 0 only.\n",
      "Using the class 1 only.\n"
     ]
    },
    {
     "name": "stderr",
     "output_type": "stream",
     "text": [
      "C:\\Users\\ibrah\\anaconda3\\envs\\MyVenvML\\lib\\site-packages\\sklearn\\metrics\\_classification.py:1245: UndefinedMetricWarning: Precision is ill-defined and being set to 0.0 due to no predicted samples. Use `zero_division` parameter to control this behavior.\n",
      "  _warn_prf(average, modifier, msg_start, len(result))\n",
      "C:\\Users\\ibrah\\anaconda3\\envs\\MyVenvML\\lib\\site-packages\\sklearn\\metrics\\_classification.py:870: RuntimeWarning: invalid value encountered in double_scalars\n",
      "  mcc = cov_ytyp / np.sqrt(cov_ytyt * cov_ypyp)\n",
      "C:\\Users\\ibrah\\anaconda3\\envs\\MyVenvML\\lib\\site-packages\\sklearn\\metrics\\_classification.py:870: RuntimeWarning: invalid value encountered in double_scalars\n",
      "  mcc = cov_ytyp / np.sqrt(cov_ytyt * cov_ypyp)\n"
     ]
    }
   ],
   "source": [
    "gbm_output_0 = cancer_validation.validate_single_class(\"GBM\", gbm_output, single_class=0)\n",
    "gbm_output_1 = cancer_validation.validate_single_class(\"GBM\", gbm_output, single_class=1)"
   ],
   "metadata": {
    "collapsed": false,
    "pycharm": {
     "name": "#%%\n"
    }
   }
  },
  {
   "cell_type": "markdown",
   "source": [
    "### HNSC"
   ],
   "metadata": {
    "collapsed": false
   }
  },
  {
   "cell_type": "code",
   "execution_count": 19,
   "outputs": [
    {
     "name": "stdout",
     "output_type": "stream",
     "text": [
      "Using the class 0 only.\n",
      "Using the class 1 only.\n"
     ]
    },
    {
     "name": "stderr",
     "output_type": "stream",
     "text": [
      "C:\\Users\\ibrah\\anaconda3\\envs\\MyVenvML\\lib\\site-packages\\sklearn\\metrics\\_classification.py:1245: UndefinedMetricWarning: Precision is ill-defined and being set to 0.0 due to no predicted samples. Use `zero_division` parameter to control this behavior.\n",
      "  _warn_prf(average, modifier, msg_start, len(result))\n",
      "C:\\Users\\ibrah\\anaconda3\\envs\\MyVenvML\\lib\\site-packages\\sklearn\\metrics\\_classification.py:870: RuntimeWarning: invalid value encountered in double_scalars\n",
      "  mcc = cov_ytyp / np.sqrt(cov_ytyt * cov_ypyp)\n",
      "C:\\Users\\ibrah\\anaconda3\\envs\\MyVenvML\\lib\\site-packages\\sklearn\\metrics\\_classification.py:870: RuntimeWarning: invalid value encountered in double_scalars\n",
      "  mcc = cov_ytyp / np.sqrt(cov_ytyt * cov_ypyp)\n"
     ]
    }
   ],
   "source": [
    "hnsc_output_0 = cancer_validation.validate_single_class(\"HNSC\", hnsc_output, single_class=0)\n",
    "hnsc_output_1 = cancer_validation.validate_single_class(\"HNSC\", hnsc_output, single_class=1)"
   ],
   "metadata": {
    "collapsed": false,
    "pycharm": {
     "name": "#%%\n"
    }
   }
  },
  {
   "cell_type": "markdown",
   "source": [
    "### OV"
   ],
   "metadata": {
    "collapsed": false
   }
  },
  {
   "cell_type": "code",
   "execution_count": 20,
   "outputs": [
    {
     "name": "stdout",
     "output_type": "stream",
     "text": [
      "Using the class 0 only.\n",
      "Using the class 1 only.\n"
     ]
    },
    {
     "name": "stderr",
     "output_type": "stream",
     "text": [
      "C:\\Users\\ibrah\\anaconda3\\envs\\MyVenvML\\lib\\site-packages\\sklearn\\metrics\\_classification.py:1245: UndefinedMetricWarning: Precision is ill-defined and being set to 0.0 due to no predicted samples. Use `zero_division` parameter to control this behavior.\n",
      "  _warn_prf(average, modifier, msg_start, len(result))\n",
      "C:\\Users\\ibrah\\anaconda3\\envs\\MyVenvML\\lib\\site-packages\\sklearn\\metrics\\_classification.py:870: RuntimeWarning: invalid value encountered in double_scalars\n",
      "  mcc = cov_ytyp / np.sqrt(cov_ytyt * cov_ypyp)\n",
      "C:\\Users\\ibrah\\anaconda3\\envs\\MyVenvML\\lib\\site-packages\\sklearn\\metrics\\_classification.py:870: RuntimeWarning: invalid value encountered in double_scalars\n",
      "  mcc = cov_ytyp / np.sqrt(cov_ytyt * cov_ypyp)\n"
     ]
    }
   ],
   "source": [
    "ov_output_0 = cancer_validation.validate_single_class(\"OV\", ov_output, single_class=0)\n",
    "ov_output_1 = cancer_validation.validate_single_class(\"OV\", ov_output, single_class=1)"
   ],
   "metadata": {
    "collapsed": false,
    "pycharm": {
     "name": "#%%\n"
    }
   }
  },
  {
   "cell_type": "markdown",
   "source": [
    "## Combine metrics"
   ],
   "metadata": {
    "collapsed": false
   }
  },
  {
   "cell_type": "code",
   "execution_count": 21,
   "outputs": [],
   "source": [
    "metrics_merged = pd.concat(\n",
    "    [\n",
    "        brca_output[\"metrics_data\"],\n",
    "        coad_output[\"metrics_data\"],\n",
    "        esca_output[\"metrics_data\"],\n",
    "        gbm_output[\"metrics_data\"],\n",
    "        hnsc_output[\"metrics_data\"],\n",
    "        ov_output[\"metrics_data\"],\n",
    "    ]\n",
    ")"
   ],
   "metadata": {
    "collapsed": false,
    "pycharm": {
     "name": "#%%\n"
    }
   }
  },
  {
   "cell_type": "code",
   "execution_count": 22,
   "outputs": [],
   "source": [
    "metrics_merged_0 = pd.concat(\n",
    "    [\n",
    "        brca_output_0[\"metrics_data\"],\n",
    "        coad_output_0[\"metrics_data\"],\n",
    "        esca_output_0[\"metrics_data\"],\n",
    "        gbm_output_0[\"metrics_data\"],\n",
    "        hnsc_output_0[\"metrics_data\"],\n",
    "        ov_output_0[\"metrics_data\"],\n",
    "    ]\n",
    ")\n",
    "\n",
    "metrics_merged_1 = pd.concat(\n",
    "    [\n",
    "        brca_output_1[\"metrics_data\"],\n",
    "        coad_output_1[\"metrics_data\"],\n",
    "        esca_output_1[\"metrics_data\"],\n",
    "        gbm_output_1[\"metrics_data\"],\n",
    "        hnsc_output_1[\"metrics_data\"],\n",
    "        ov_output_1[\"metrics_data\"],\n",
    "    ]\n",
    ")"
   ],
   "metadata": {
    "collapsed": false,
    "pycharm": {
     "name": "#%%\n"
    }
   }
  },
  {
   "cell_type": "code",
   "execution_count": 26,
   "outputs": [
    {
     "data": {
      "text/plain": "   TCGA  #_Entries  #_Disruptive  #_Non_disruptive  ACCURACY  \\\n0  BRCA       3997           578              1337  0.495561   \n0  COAD       7517          1174              2413  0.511291   \n0  ESCA       1194           179               376  0.484685   \n0   GBM       2945           409               955  0.538856   \n0  HNSC       4003           672              1193  0.498660   \n0    OV       2513           374               770  0.495629   \n\n   BALANCED_ACCURACY        F1  PRECISION    RECALL  MATTHEWS_COR  \n0           0.489455  0.582902   0.689479  0.504862     -0.019368  \n0           0.514953  0.581323   0.686020  0.504351      0.028066  \n0           0.474793  0.569277   0.656250  0.502660     -0.047164  \n0           0.535786  0.622675   0.728933  0.543455      0.065652  \n0           0.503501  0.553699   0.643016  0.486169      0.006727  \n0           0.507754  0.557854   0.680374  0.472727      0.014580  ",
      "text/html": "<div>\n<style scoped>\n    .dataframe tbody tr th:only-of-type {\n        vertical-align: middle;\n    }\n\n    .dataframe tbody tr th {\n        vertical-align: top;\n    }\n\n    .dataframe thead th {\n        text-align: right;\n    }\n</style>\n<table border=\"1\" class=\"dataframe\">\n  <thead>\n    <tr style=\"text-align: right;\">\n      <th></th>\n      <th>TCGA</th>\n      <th>#_Entries</th>\n      <th>#_Disruptive</th>\n      <th>#_Non_disruptive</th>\n      <th>ACCURACY</th>\n      <th>BALANCED_ACCURACY</th>\n      <th>F1</th>\n      <th>PRECISION</th>\n      <th>RECALL</th>\n      <th>MATTHEWS_COR</th>\n    </tr>\n  </thead>\n  <tbody>\n    <tr>\n      <th>0</th>\n      <td>BRCA</td>\n      <td>3997</td>\n      <td>578</td>\n      <td>1337</td>\n      <td>0.495561</td>\n      <td>0.489455</td>\n      <td>0.582902</td>\n      <td>0.689479</td>\n      <td>0.504862</td>\n      <td>-0.019368</td>\n    </tr>\n    <tr>\n      <th>0</th>\n      <td>COAD</td>\n      <td>7517</td>\n      <td>1174</td>\n      <td>2413</td>\n      <td>0.511291</td>\n      <td>0.514953</td>\n      <td>0.581323</td>\n      <td>0.686020</td>\n      <td>0.504351</td>\n      <td>0.028066</td>\n    </tr>\n    <tr>\n      <th>0</th>\n      <td>ESCA</td>\n      <td>1194</td>\n      <td>179</td>\n      <td>376</td>\n      <td>0.484685</td>\n      <td>0.474793</td>\n      <td>0.569277</td>\n      <td>0.656250</td>\n      <td>0.502660</td>\n      <td>-0.047164</td>\n    </tr>\n    <tr>\n      <th>0</th>\n      <td>GBM</td>\n      <td>2945</td>\n      <td>409</td>\n      <td>955</td>\n      <td>0.538856</td>\n      <td>0.535786</td>\n      <td>0.622675</td>\n      <td>0.728933</td>\n      <td>0.543455</td>\n      <td>0.065652</td>\n    </tr>\n    <tr>\n      <th>0</th>\n      <td>HNSC</td>\n      <td>4003</td>\n      <td>672</td>\n      <td>1193</td>\n      <td>0.498660</td>\n      <td>0.503501</td>\n      <td>0.553699</td>\n      <td>0.643016</td>\n      <td>0.486169</td>\n      <td>0.006727</td>\n    </tr>\n    <tr>\n      <th>0</th>\n      <td>OV</td>\n      <td>2513</td>\n      <td>374</td>\n      <td>770</td>\n      <td>0.495629</td>\n      <td>0.507754</td>\n      <td>0.557854</td>\n      <td>0.680374</td>\n      <td>0.472727</td>\n      <td>0.014580</td>\n    </tr>\n  </tbody>\n</table>\n</div>"
     },
     "execution_count": 26,
     "metadata": {},
     "output_type": "execute_result"
    }
   ],
   "source": [
    "metrics_merged"
   ],
   "metadata": {
    "collapsed": false,
    "pycharm": {
     "name": "#%%\n"
    }
   }
  },
  {
   "cell_type": "code",
   "execution_count": 27,
   "outputs": [
    {
     "data": {
      "text/plain": "   TCGA  #_Entries  #_Disruptive  #_Non_disruptive  ACCURACY  \\\n0  BRCA       1918           274               662  0.292735   \n0  COAD       3726           617              1196  0.340320   \n0  ESCA        599            80               187  0.299625   \n0   GBM       1418           216               436  0.331288   \n0  HNSC       2065           350               613  0.363448   \n0    OV       1334           203               406  0.333333   \n\n   BALANCED_ACCURACY   F1  PRECISION  RECALL  MATTHEWS_COR  \n0                0.5  0.0        0.0     0.0           0.0  \n0                0.5  0.0        0.0     0.0           0.0  \n0                0.5  0.0        0.0     0.0           0.0  \n0                0.5  0.0        0.0     0.0           0.0  \n0                0.5  0.0        0.0     0.0           0.0  \n0                0.5  0.0        0.0     0.0           0.0  ",
      "text/html": "<div>\n<style scoped>\n    .dataframe tbody tr th:only-of-type {\n        vertical-align: middle;\n    }\n\n    .dataframe tbody tr th {\n        vertical-align: top;\n    }\n\n    .dataframe thead th {\n        text-align: right;\n    }\n</style>\n<table border=\"1\" class=\"dataframe\">\n  <thead>\n    <tr style=\"text-align: right;\">\n      <th></th>\n      <th>TCGA</th>\n      <th>#_Entries</th>\n      <th>#_Disruptive</th>\n      <th>#_Non_disruptive</th>\n      <th>ACCURACY</th>\n      <th>BALANCED_ACCURACY</th>\n      <th>F1</th>\n      <th>PRECISION</th>\n      <th>RECALL</th>\n      <th>MATTHEWS_COR</th>\n    </tr>\n  </thead>\n  <tbody>\n    <tr>\n      <th>0</th>\n      <td>BRCA</td>\n      <td>1918</td>\n      <td>274</td>\n      <td>662</td>\n      <td>0.292735</td>\n      <td>0.5</td>\n      <td>0.0</td>\n      <td>0.0</td>\n      <td>0.0</td>\n      <td>0.0</td>\n    </tr>\n    <tr>\n      <th>0</th>\n      <td>COAD</td>\n      <td>3726</td>\n      <td>617</td>\n      <td>1196</td>\n      <td>0.340320</td>\n      <td>0.5</td>\n      <td>0.0</td>\n      <td>0.0</td>\n      <td>0.0</td>\n      <td>0.0</td>\n    </tr>\n    <tr>\n      <th>0</th>\n      <td>ESCA</td>\n      <td>599</td>\n      <td>80</td>\n      <td>187</td>\n      <td>0.299625</td>\n      <td>0.5</td>\n      <td>0.0</td>\n      <td>0.0</td>\n      <td>0.0</td>\n      <td>0.0</td>\n    </tr>\n    <tr>\n      <th>0</th>\n      <td>GBM</td>\n      <td>1418</td>\n      <td>216</td>\n      <td>436</td>\n      <td>0.331288</td>\n      <td>0.5</td>\n      <td>0.0</td>\n      <td>0.0</td>\n      <td>0.0</td>\n      <td>0.0</td>\n    </tr>\n    <tr>\n      <th>0</th>\n      <td>HNSC</td>\n      <td>2065</td>\n      <td>350</td>\n      <td>613</td>\n      <td>0.363448</td>\n      <td>0.5</td>\n      <td>0.0</td>\n      <td>0.0</td>\n      <td>0.0</td>\n      <td>0.0</td>\n    </tr>\n    <tr>\n      <th>0</th>\n      <td>OV</td>\n      <td>1334</td>\n      <td>203</td>\n      <td>406</td>\n      <td>0.333333</td>\n      <td>0.5</td>\n      <td>0.0</td>\n      <td>0.0</td>\n      <td>0.0</td>\n      <td>0.0</td>\n    </tr>\n  </tbody>\n</table>\n</div>"
     },
     "execution_count": 27,
     "metadata": {},
     "output_type": "execute_result"
    }
   ],
   "source": [
    "metrics_merged_0"
   ],
   "metadata": {
    "collapsed": false,
    "pycharm": {
     "name": "#%%\n"
    }
   }
  },
  {
   "cell_type": "code",
   "execution_count": 28,
   "outputs": [
    {
     "data": {
      "text/plain": "   TCGA  #_Entries  #_Disruptive  #_Non_disruptive  ACCURACY  \\\n0  BRCA       2079           304               675  0.689479   \n0  COAD       3791           557              1217  0.686020   \n0  ESCA        595            99               189  0.656250   \n0   GBM       1527           193               519  0.728933   \n0  HNSC       1938           322               580  0.643016   \n0    OV       1179           171               364  0.680374   \n\n   BALANCED_ACCURACY        F1  PRECISION  RECALL  MATTHEWS_COR  \n0                0.5  0.816203   0.689479     1.0           0.0  \n0                0.5  0.813775   0.686020     1.0           0.0  \n0                0.5  0.792453   0.656250     1.0           0.0  \n0                0.5  0.843217   0.728933     1.0           0.0  \n0                0.5  0.782726   0.643016     1.0           0.0  \n0                0.5  0.809789   0.680374     1.0           0.0  ",
      "text/html": "<div>\n<style scoped>\n    .dataframe tbody tr th:only-of-type {\n        vertical-align: middle;\n    }\n\n    .dataframe tbody tr th {\n        vertical-align: top;\n    }\n\n    .dataframe thead th {\n        text-align: right;\n    }\n</style>\n<table border=\"1\" class=\"dataframe\">\n  <thead>\n    <tr style=\"text-align: right;\">\n      <th></th>\n      <th>TCGA</th>\n      <th>#_Entries</th>\n      <th>#_Disruptive</th>\n      <th>#_Non_disruptive</th>\n      <th>ACCURACY</th>\n      <th>BALANCED_ACCURACY</th>\n      <th>F1</th>\n      <th>PRECISION</th>\n      <th>RECALL</th>\n      <th>MATTHEWS_COR</th>\n    </tr>\n  </thead>\n  <tbody>\n    <tr>\n      <th>0</th>\n      <td>BRCA</td>\n      <td>2079</td>\n      <td>304</td>\n      <td>675</td>\n      <td>0.689479</td>\n      <td>0.5</td>\n      <td>0.816203</td>\n      <td>0.689479</td>\n      <td>1.0</td>\n      <td>0.0</td>\n    </tr>\n    <tr>\n      <th>0</th>\n      <td>COAD</td>\n      <td>3791</td>\n      <td>557</td>\n      <td>1217</td>\n      <td>0.686020</td>\n      <td>0.5</td>\n      <td>0.813775</td>\n      <td>0.686020</td>\n      <td>1.0</td>\n      <td>0.0</td>\n    </tr>\n    <tr>\n      <th>0</th>\n      <td>ESCA</td>\n      <td>595</td>\n      <td>99</td>\n      <td>189</td>\n      <td>0.656250</td>\n      <td>0.5</td>\n      <td>0.792453</td>\n      <td>0.656250</td>\n      <td>1.0</td>\n      <td>0.0</td>\n    </tr>\n    <tr>\n      <th>0</th>\n      <td>GBM</td>\n      <td>1527</td>\n      <td>193</td>\n      <td>519</td>\n      <td>0.728933</td>\n      <td>0.5</td>\n      <td>0.843217</td>\n      <td>0.728933</td>\n      <td>1.0</td>\n      <td>0.0</td>\n    </tr>\n    <tr>\n      <th>0</th>\n      <td>HNSC</td>\n      <td>1938</td>\n      <td>322</td>\n      <td>580</td>\n      <td>0.643016</td>\n      <td>0.5</td>\n      <td>0.782726</td>\n      <td>0.643016</td>\n      <td>1.0</td>\n      <td>0.0</td>\n    </tr>\n    <tr>\n      <th>0</th>\n      <td>OV</td>\n      <td>1179</td>\n      <td>171</td>\n      <td>364</td>\n      <td>0.680374</td>\n      <td>0.5</td>\n      <td>0.809789</td>\n      <td>0.680374</td>\n      <td>1.0</td>\n      <td>0.0</td>\n    </tr>\n  </tbody>\n</table>\n</div>"
     },
     "execution_count": 28,
     "metadata": {},
     "output_type": "execute_result"
    }
   ],
   "source": [
    "metrics_merged_1"
   ],
   "metadata": {
    "collapsed": false,
    "pycharm": {
     "name": "#%%\n"
    }
   }
  },
  {
   "cell_type": "code",
   "execution_count": null,
   "outputs": [],
   "source": [],
   "metadata": {
    "collapsed": false,
    "pycharm": {
     "name": "#%%\n"
    }
   }
  },
  {
   "cell_type": "markdown",
   "source": [
    "# ---------------"
   ],
   "metadata": {
    "collapsed": false
   }
  },
  {
   "cell_type": "code",
   "execution_count": null,
   "outputs": [],
   "source": [],
   "metadata": {
    "collapsed": false,
    "pycharm": {
     "name": "#%%\n"
    }
   }
  }
 ],
 "metadata": {
  "kernelspec": {
   "display_name": "Python 3",
   "language": "python",
   "name": "python3"
  },
  "language_info": {
   "codemirror_mode": {
    "name": "ipython",
    "version": 2
   },
   "file_extension": ".py",
   "mimetype": "text/x-python",
   "name": "python",
   "nbconvert_exporter": "python",
   "pygments_lexer": "ipython2",
   "version": "2.7.6"
  }
 },
 "nbformat": 4,
 "nbformat_minor": 0
}