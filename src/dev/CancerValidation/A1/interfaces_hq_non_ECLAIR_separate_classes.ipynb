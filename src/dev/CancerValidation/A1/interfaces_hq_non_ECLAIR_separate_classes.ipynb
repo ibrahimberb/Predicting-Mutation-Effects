{
 "cells": [
  {
   "cell_type": "markdown",
   "source": [
    "# Validation on Cancer Predictions\n"
   ],
   "metadata": {
    "collapsed": false
   }
  },
  {
   "cell_type": "code",
   "execution_count": 1,
   "outputs": [
    {
     "name": "stdout",
     "output_type": "stream",
     "text": [
      "\u001B[32mMarch 09, 2022 16:50:01\u001B[0m\n"
     ]
    }
   ],
   "source": [
    "from datetime import datetime\n",
    "\n",
    "print(\"\\033[32m{}\\033[0m\".format(datetime.now().strftime(\"%B %d, %Y %H:%M:%S\")))"
   ],
   "metadata": {
    "collapsed": false,
    "pycharm": {
     "name": "#%%\n"
    }
   }
  },
  {
   "cell_type": "markdown",
   "source": [
    "## Setup"
   ],
   "metadata": {
    "collapsed": false
   }
  },
  {
   "cell_type": "code",
   "execution_count": 2,
   "outputs": [],
   "source": [
    "import pandas as pd\n",
    "\n",
    "from utils import CancerValidation\n",
    "\n",
    "BRCA_PREDICTION_PATH = \"../../../../data/predictions_datasets/brca_prediction_2021-11-17/558297b6/predictions_soft_2021-11-17.csv\"\n",
    "COAD_PREDICTION_PATH = \"../../../../data/predictions_datasets/coad_prediction_2022-01-06/9789393f/predictions_soft_2022-01-06.csv\"\n",
    "ESCA_PREDICTION_PATH = \"../../../../data/predictions_datasets/esca_prediction_2021-11-17/59544312/predictions_soft_2021-11-17.csv\"\n",
    "GBM_PREDICTION_PATH = \"../../../../data/predictions_datasets/gbm_prediction_2021-11-17/b9cfc7ea/predictions_soft_2021-11-17.csv\"\n",
    "HNSC_PREDICTION_PATH = \"../../../../data/predictions_datasets/hnsc_prediction_2021-11-17/53930f30/predictions_soft_2021-11-17.csv\"\n",
    "OV_PREDICTION_PATH = \"../../../../data/predictions_datasets/ov_prediction_2021-11-17/37bf1637/predictions_soft_2021-11-17.csv\"\n",
    "\n",
    "H_SAPIENS_INTERFACES_HQ_non_ECLAIR_PATH = \"../data/H_sapiens_interfacesHQ_non_ECLAIR_2022-03-09.txt\"\n",
    "\n",
    "# Reflect changes in the modules immediately.\n",
    "%load_ext autoreload\n",
    "%autoreload 2"
   ],
   "metadata": {
    "collapsed": false,
    "pycharm": {
     "name": "#%%\n"
    }
   }
  },
  {
   "cell_type": "markdown",
   "source": [
    "## Initialize Cancer Validation"
   ],
   "metadata": {
    "collapsed": false
   }
  },
  {
   "cell_type": "code",
   "execution_count": 3,
   "outputs": [],
   "source": [
    "cancer_validation = CancerValidation(interfaces_data_path=H_SAPIENS_INTERFACES_HQ_non_ECLAIR_PATH)"
   ],
   "metadata": {
    "collapsed": false,
    "pycharm": {
     "name": "#%%\n"
    }
   }
  },
  {
   "cell_type": "code",
   "execution_count": 4,
   "outputs": [],
   "source": [
    "brca_output = cancer_validation.load_output_dict(\"outputs/BRCA_output_HQ_non_ECLAIR_2022-03-09.pickle\")\n",
    "coad_output = cancer_validation.load_output_dict(\"outputs/COAD_output_HQ_non_ECLAIR_2022-03-09.pickle\")\n",
    "esca_output = cancer_validation.load_output_dict(\"outputs/ESCA_output_HQ_non_ECLAIR_2022-03-09.pickle\")\n",
    "gbm_output = cancer_validation.load_output_dict(\"outputs/GBM_output_HQ_non_ECLAIR_2022-03-09.pickle\")\n",
    "hnsc_output = cancer_validation.load_output_dict(\"outputs/HNSC_output_HQ_non_ECLAIR_2022-03-09.pickle\")\n",
    "ov_output = cancer_validation.load_output_dict(\"outputs/OV_output_HQ_non_ECLAIR_2022-03-09.pickle\")"
   ],
   "metadata": {
    "collapsed": false,
    "pycharm": {
     "name": "#%%\n"
    }
   }
  },
  {
   "cell_type": "markdown",
   "source": [
    "### BRCA"
   ],
   "metadata": {
    "collapsed": false
   }
  },
  {
   "cell_type": "code",
   "execution_count": 5,
   "outputs": [
    {
     "name": "stdout",
     "output_type": "stream",
     "text": [
      "Using the class 0 only.\n",
      "Using the class 1 only.\n"
     ]
    },
    {
     "name": "stderr",
     "output_type": "stream",
     "text": [
      "C:\\Users\\ibrah\\anaconda3\\envs\\MyVenvML\\lib\\site-packages\\sklearn\\metrics\\_classification.py:1245: UndefinedMetricWarning: Precision is ill-defined and being set to 0.0 due to no predicted samples. Use `zero_division` parameter to control this behavior.\n",
      "  _warn_prf(average, modifier, msg_start, len(result))\n",
      "C:\\Users\\ibrah\\anaconda3\\envs\\MyVenvML\\lib\\site-packages\\sklearn\\metrics\\_classification.py:870: RuntimeWarning: invalid value encountered in double_scalars\n",
      "  mcc = cov_ytyp / np.sqrt(cov_ytyt * cov_ypyp)\n",
      "C:\\Users\\ibrah\\anaconda3\\envs\\MyVenvML\\lib\\site-packages\\sklearn\\metrics\\_classification.py:870: RuntimeWarning: invalid value encountered in double_scalars\n",
      "  mcc = cov_ytyp / np.sqrt(cov_ytyt * cov_ypyp)\n"
     ]
    }
   ],
   "source": [
    "brca_output_0 = cancer_validation.validate_single_class(\"BRCA\", brca_output, single_class=0)\n",
    "brca_output_1 = cancer_validation.validate_single_class(\"BRCA\", brca_output, single_class=1)"
   ],
   "metadata": {
    "collapsed": false,
    "pycharm": {
     "name": "#%%\n"
    }
   }
  },
  {
   "cell_type": "markdown",
   "source": [
    "### COAD"
   ],
   "metadata": {
    "collapsed": false
   }
  },
  {
   "cell_type": "code",
   "execution_count": 6,
   "outputs": [
    {
     "name": "stdout",
     "output_type": "stream",
     "text": [
      "Using the class 0 only.\n",
      "Using the class 1 only.\n"
     ]
    },
    {
     "name": "stderr",
     "output_type": "stream",
     "text": [
      "C:\\Users\\ibrah\\anaconda3\\envs\\MyVenvML\\lib\\site-packages\\sklearn\\metrics\\_classification.py:1245: UndefinedMetricWarning: Precision is ill-defined and being set to 0.0 due to no predicted samples. Use `zero_division` parameter to control this behavior.\n",
      "  _warn_prf(average, modifier, msg_start, len(result))\n",
      "C:\\Users\\ibrah\\anaconda3\\envs\\MyVenvML\\lib\\site-packages\\sklearn\\metrics\\_classification.py:870: RuntimeWarning: invalid value encountered in double_scalars\n",
      "  mcc = cov_ytyp / np.sqrt(cov_ytyt * cov_ypyp)\n",
      "C:\\Users\\ibrah\\anaconda3\\envs\\MyVenvML\\lib\\site-packages\\sklearn\\metrics\\_classification.py:870: RuntimeWarning: invalid value encountered in double_scalars\n",
      "  mcc = cov_ytyp / np.sqrt(cov_ytyt * cov_ypyp)\n"
     ]
    }
   ],
   "source": [
    "coad_output_0 = cancer_validation.validate_single_class(\"COAD\", coad_output, single_class=0)\n",
    "coad_output_1 = cancer_validation.validate_single_class(\"COAD\", coad_output, single_class=1)"
   ],
   "metadata": {
    "collapsed": false,
    "pycharm": {
     "name": "#%%\n"
    }
   }
  },
  {
   "cell_type": "markdown",
   "source": [
    "### ESCA"
   ],
   "metadata": {
    "collapsed": false
   }
  },
  {
   "cell_type": "code",
   "execution_count": 7,
   "outputs": [
    {
     "name": "stdout",
     "output_type": "stream",
     "text": [
      "Using the class 0 only.\n",
      "Using the class 1 only.\n"
     ]
    },
    {
     "name": "stderr",
     "output_type": "stream",
     "text": [
      "C:\\Users\\ibrah\\anaconda3\\envs\\MyVenvML\\lib\\site-packages\\sklearn\\metrics\\_classification.py:1245: UndefinedMetricWarning: Precision is ill-defined and being set to 0.0 due to no predicted samples. Use `zero_division` parameter to control this behavior.\n",
      "  _warn_prf(average, modifier, msg_start, len(result))\n",
      "C:\\Users\\ibrah\\anaconda3\\envs\\MyVenvML\\lib\\site-packages\\sklearn\\metrics\\_classification.py:870: RuntimeWarning: invalid value encountered in double_scalars\n",
      "  mcc = cov_ytyp / np.sqrt(cov_ytyt * cov_ypyp)\n",
      "C:\\Users\\ibrah\\anaconda3\\envs\\MyVenvML\\lib\\site-packages\\sklearn\\metrics\\_classification.py:870: RuntimeWarning: invalid value encountered in double_scalars\n",
      "  mcc = cov_ytyp / np.sqrt(cov_ytyt * cov_ypyp)\n"
     ]
    }
   ],
   "source": [
    "esca_output_0 = cancer_validation.validate_single_class(\"ESCA\", esca_output, single_class=0)\n",
    "esca_output_1 = cancer_validation.validate_single_class(\"ESCA\", esca_output, single_class=1)"
   ],
   "metadata": {
    "collapsed": false,
    "pycharm": {
     "name": "#%%\n"
    }
   }
  },
  {
   "cell_type": "markdown",
   "source": [
    "### GBM"
   ],
   "metadata": {
    "collapsed": false
   }
  },
  {
   "cell_type": "code",
   "execution_count": 8,
   "outputs": [
    {
     "name": "stdout",
     "output_type": "stream",
     "text": [
      "Using the class 0 only.\n",
      "Using the class 1 only.\n"
     ]
    },
    {
     "name": "stderr",
     "output_type": "stream",
     "text": [
      "C:\\Users\\ibrah\\anaconda3\\envs\\MyVenvML\\lib\\site-packages\\sklearn\\metrics\\_classification.py:1245: UndefinedMetricWarning: Precision is ill-defined and being set to 0.0 due to no predicted samples. Use `zero_division` parameter to control this behavior.\n",
      "  _warn_prf(average, modifier, msg_start, len(result))\n",
      "C:\\Users\\ibrah\\anaconda3\\envs\\MyVenvML\\lib\\site-packages\\sklearn\\metrics\\_classification.py:870: RuntimeWarning: invalid value encountered in double_scalars\n",
      "  mcc = cov_ytyp / np.sqrt(cov_ytyt * cov_ypyp)\n",
      "C:\\Users\\ibrah\\anaconda3\\envs\\MyVenvML\\lib\\site-packages\\sklearn\\metrics\\_classification.py:870: RuntimeWarning: invalid value encountered in double_scalars\n",
      "  mcc = cov_ytyp / np.sqrt(cov_ytyt * cov_ypyp)\n"
     ]
    }
   ],
   "source": [
    "gbm_output_0 = cancer_validation.validate_single_class(\"GBM\", gbm_output, single_class=0)\n",
    "gbm_output_1 = cancer_validation.validate_single_class(\"GBM\", gbm_output, single_class=1)"
   ],
   "metadata": {
    "collapsed": false,
    "pycharm": {
     "name": "#%%\n"
    }
   }
  },
  {
   "cell_type": "markdown",
   "source": [
    "### HNSC"
   ],
   "metadata": {
    "collapsed": false
   }
  },
  {
   "cell_type": "code",
   "execution_count": 9,
   "outputs": [
    {
     "name": "stdout",
     "output_type": "stream",
     "text": [
      "Using the class 0 only.\n",
      "Using the class 1 only.\n"
     ]
    },
    {
     "name": "stderr",
     "output_type": "stream",
     "text": [
      "C:\\Users\\ibrah\\anaconda3\\envs\\MyVenvML\\lib\\site-packages\\sklearn\\metrics\\_classification.py:1245: UndefinedMetricWarning: Precision is ill-defined and being set to 0.0 due to no predicted samples. Use `zero_division` parameter to control this behavior.\n",
      "  _warn_prf(average, modifier, msg_start, len(result))\n",
      "C:\\Users\\ibrah\\anaconda3\\envs\\MyVenvML\\lib\\site-packages\\sklearn\\metrics\\_classification.py:870: RuntimeWarning: invalid value encountered in double_scalars\n",
      "  mcc = cov_ytyp / np.sqrt(cov_ytyt * cov_ypyp)\n",
      "C:\\Users\\ibrah\\anaconda3\\envs\\MyVenvML\\lib\\site-packages\\sklearn\\metrics\\_classification.py:870: RuntimeWarning: invalid value encountered in double_scalars\n",
      "  mcc = cov_ytyp / np.sqrt(cov_ytyt * cov_ypyp)\n"
     ]
    }
   ],
   "source": [
    "hnsc_output_0 = cancer_validation.validate_single_class(\"HNSC\", hnsc_output, single_class=0)\n",
    "hnsc_output_1 = cancer_validation.validate_single_class(\"HNSC\", hnsc_output, single_class=1)"
   ],
   "metadata": {
    "collapsed": false,
    "pycharm": {
     "name": "#%%\n"
    }
   }
  },
  {
   "cell_type": "markdown",
   "source": [
    "### OV"
   ],
   "metadata": {
    "collapsed": false
   }
  },
  {
   "cell_type": "code",
   "execution_count": 10,
   "outputs": [
    {
     "name": "stdout",
     "output_type": "stream",
     "text": [
      "Using the class 0 only.\n",
      "Using the class 1 only.\n"
     ]
    },
    {
     "name": "stderr",
     "output_type": "stream",
     "text": [
      "C:\\Users\\ibrah\\anaconda3\\envs\\MyVenvML\\lib\\site-packages\\sklearn\\metrics\\_classification.py:1245: UndefinedMetricWarning: Precision is ill-defined and being set to 0.0 due to no predicted samples. Use `zero_division` parameter to control this behavior.\n",
      "  _warn_prf(average, modifier, msg_start, len(result))\n",
      "C:\\Users\\ibrah\\anaconda3\\envs\\MyVenvML\\lib\\site-packages\\sklearn\\metrics\\_classification.py:870: RuntimeWarning: invalid value encountered in double_scalars\n",
      "  mcc = cov_ytyp / np.sqrt(cov_ytyt * cov_ypyp)\n",
      "C:\\Users\\ibrah\\anaconda3\\envs\\MyVenvML\\lib\\site-packages\\sklearn\\metrics\\_classification.py:870: RuntimeWarning: invalid value encountered in double_scalars\n",
      "  mcc = cov_ytyp / np.sqrt(cov_ytyt * cov_ypyp)\n"
     ]
    }
   ],
   "source": [
    "ov_output_0 = cancer_validation.validate_single_class(\"OV\", ov_output, single_class=0)\n",
    "ov_output_1 = cancer_validation.validate_single_class(\"OV\", ov_output, single_class=1)"
   ],
   "metadata": {
    "collapsed": false,
    "pycharm": {
     "name": "#%%\n"
    }
   }
  },
  {
   "cell_type": "markdown",
   "source": [
    "## Combine metrics"
   ],
   "metadata": {
    "collapsed": false
   }
  },
  {
   "cell_type": "code",
   "execution_count": 11,
   "outputs": [],
   "source": [
    "metrics_merged = pd.concat(\n",
    "    [\n",
    "        brca_output[\"metrics_data\"],\n",
    "        coad_output[\"metrics_data\"],\n",
    "        esca_output[\"metrics_data\"],\n",
    "        gbm_output[\"metrics_data\"],\n",
    "        hnsc_output[\"metrics_data\"],\n",
    "        ov_output[\"metrics_data\"],\n",
    "    ]\n",
    ")"
   ],
   "metadata": {
    "collapsed": false,
    "pycharm": {
     "name": "#%%\n"
    }
   }
  },
  {
   "cell_type": "code",
   "execution_count": 12,
   "outputs": [],
   "source": [
    "metrics_merged_0 = pd.concat(\n",
    "    [\n",
    "        brca_output_0[\"metrics_data\"],\n",
    "        coad_output_0[\"metrics_data\"],\n",
    "        esca_output_0[\"metrics_data\"],\n",
    "        gbm_output_0[\"metrics_data\"],\n",
    "        hnsc_output_0[\"metrics_data\"],\n",
    "        ov_output_0[\"metrics_data\"],\n",
    "    ]\n",
    ")\n",
    "\n",
    "metrics_merged_1 = pd.concat(\n",
    "    [\n",
    "        brca_output_1[\"metrics_data\"],\n",
    "        coad_output_1[\"metrics_data\"],\n",
    "        esca_output_1[\"metrics_data\"],\n",
    "        gbm_output_1[\"metrics_data\"],\n",
    "        hnsc_output_1[\"metrics_data\"],\n",
    "        ov_output_1[\"metrics_data\"],\n",
    "    ]\n",
    ")"
   ],
   "metadata": {
    "collapsed": false,
    "pycharm": {
     "name": "#%%\n"
    }
   }
  },
  {
   "cell_type": "code",
   "execution_count": 13,
   "outputs": [
    {
     "data": {
      "text/plain": "   TCGA  #_Entries  #_Disruptive  #_Non_disruptive  ACCURACY  \\\n0  BRCA       3997           372               389  0.484888   \n0  COAD       7517           756               626  0.474674   \n0  ESCA       1194           134                90  0.415179   \n0   GBM       2945           271               261  0.513158   \n0  HNSC       4003           441               358  0.519399   \n0    OV       2513           265               213  0.508368   \n\n   BALANCED_ACCURACY        F1  PRECISION    RECALL  MATTHEWS_COR  \n0           0.484220  0.505051   0.496278  0.514139     -0.031608  \n0           0.473418  0.442396   0.426036  0.460064     -0.052940  \n0           0.410862  0.348259   0.315315  0.388889     -0.174809  \n0           0.513516  0.517691   0.503623  0.532567      0.027046  \n0           0.517048  0.479675   0.465789  0.494413      0.033952  \n0           0.505014  0.462243   0.450893  0.474178      0.009988  ",
      "text/html": "<div>\n<style scoped>\n    .dataframe tbody tr th:only-of-type {\n        vertical-align: middle;\n    }\n\n    .dataframe tbody tr th {\n        vertical-align: top;\n    }\n\n    .dataframe thead th {\n        text-align: right;\n    }\n</style>\n<table border=\"1\" class=\"dataframe\">\n  <thead>\n    <tr style=\"text-align: right;\">\n      <th></th>\n      <th>TCGA</th>\n      <th>#_Entries</th>\n      <th>#_Disruptive</th>\n      <th>#_Non_disruptive</th>\n      <th>ACCURACY</th>\n      <th>BALANCED_ACCURACY</th>\n      <th>F1</th>\n      <th>PRECISION</th>\n      <th>RECALL</th>\n      <th>MATTHEWS_COR</th>\n    </tr>\n  </thead>\n  <tbody>\n    <tr>\n      <th>0</th>\n      <td>BRCA</td>\n      <td>3997</td>\n      <td>372</td>\n      <td>389</td>\n      <td>0.484888</td>\n      <td>0.484220</td>\n      <td>0.505051</td>\n      <td>0.496278</td>\n      <td>0.514139</td>\n      <td>-0.031608</td>\n    </tr>\n    <tr>\n      <th>0</th>\n      <td>COAD</td>\n      <td>7517</td>\n      <td>756</td>\n      <td>626</td>\n      <td>0.474674</td>\n      <td>0.473418</td>\n      <td>0.442396</td>\n      <td>0.426036</td>\n      <td>0.460064</td>\n      <td>-0.052940</td>\n    </tr>\n    <tr>\n      <th>0</th>\n      <td>ESCA</td>\n      <td>1194</td>\n      <td>134</td>\n      <td>90</td>\n      <td>0.415179</td>\n      <td>0.410862</td>\n      <td>0.348259</td>\n      <td>0.315315</td>\n      <td>0.388889</td>\n      <td>-0.174809</td>\n    </tr>\n    <tr>\n      <th>0</th>\n      <td>GBM</td>\n      <td>2945</td>\n      <td>271</td>\n      <td>261</td>\n      <td>0.513158</td>\n      <td>0.513516</td>\n      <td>0.517691</td>\n      <td>0.503623</td>\n      <td>0.532567</td>\n      <td>0.027046</td>\n    </tr>\n    <tr>\n      <th>0</th>\n      <td>HNSC</td>\n      <td>4003</td>\n      <td>441</td>\n      <td>358</td>\n      <td>0.519399</td>\n      <td>0.517048</td>\n      <td>0.479675</td>\n      <td>0.465789</td>\n      <td>0.494413</td>\n      <td>0.033952</td>\n    </tr>\n    <tr>\n      <th>0</th>\n      <td>OV</td>\n      <td>2513</td>\n      <td>265</td>\n      <td>213</td>\n      <td>0.508368</td>\n      <td>0.505014</td>\n      <td>0.462243</td>\n      <td>0.450893</td>\n      <td>0.474178</td>\n      <td>0.009988</td>\n    </tr>\n  </tbody>\n</table>\n</div>"
     },
     "execution_count": 13,
     "metadata": {},
     "output_type": "execute_result"
    }
   ],
   "source": [
    "metrics_merged"
   ],
   "metadata": {
    "collapsed": false,
    "pycharm": {
     "name": "#%%\n"
    }
   }
  },
  {
   "cell_type": "code",
   "execution_count": 14,
   "outputs": [
    {
     "data": {
      "text/plain": "   TCGA  #_Entries  #_Disruptive  #_Non_disruptive  ACCURACY  \\\n0  BRCA       1918           169               189  0.472067   \n0  COAD       3726           368               338  0.521246   \n0  ESCA        599            58                55  0.513274   \n0   GBM       1418           134               122  0.523438   \n0  HNSC       2065           238               181  0.568019   \n0    OV       1334           142               112  0.559055   \n\n   BALANCED_ACCURACY   F1  PRECISION  RECALL  MATTHEWS_COR  \n0                0.5  0.0        0.0     0.0           0.0  \n0                0.5  0.0        0.0     0.0           0.0  \n0                0.5  0.0        0.0     0.0           0.0  \n0                0.5  0.0        0.0     0.0           0.0  \n0                0.5  0.0        0.0     0.0           0.0  \n0                0.5  0.0        0.0     0.0           0.0  ",
      "text/html": "<div>\n<style scoped>\n    .dataframe tbody tr th:only-of-type {\n        vertical-align: middle;\n    }\n\n    .dataframe tbody tr th {\n        vertical-align: top;\n    }\n\n    .dataframe thead th {\n        text-align: right;\n    }\n</style>\n<table border=\"1\" class=\"dataframe\">\n  <thead>\n    <tr style=\"text-align: right;\">\n      <th></th>\n      <th>TCGA</th>\n      <th>#_Entries</th>\n      <th>#_Disruptive</th>\n      <th>#_Non_disruptive</th>\n      <th>ACCURACY</th>\n      <th>BALANCED_ACCURACY</th>\n      <th>F1</th>\n      <th>PRECISION</th>\n      <th>RECALL</th>\n      <th>MATTHEWS_COR</th>\n    </tr>\n  </thead>\n  <tbody>\n    <tr>\n      <th>0</th>\n      <td>BRCA</td>\n      <td>1918</td>\n      <td>169</td>\n      <td>189</td>\n      <td>0.472067</td>\n      <td>0.5</td>\n      <td>0.0</td>\n      <td>0.0</td>\n      <td>0.0</td>\n      <td>0.0</td>\n    </tr>\n    <tr>\n      <th>0</th>\n      <td>COAD</td>\n      <td>3726</td>\n      <td>368</td>\n      <td>338</td>\n      <td>0.521246</td>\n      <td>0.5</td>\n      <td>0.0</td>\n      <td>0.0</td>\n      <td>0.0</td>\n      <td>0.0</td>\n    </tr>\n    <tr>\n      <th>0</th>\n      <td>ESCA</td>\n      <td>599</td>\n      <td>58</td>\n      <td>55</td>\n      <td>0.513274</td>\n      <td>0.5</td>\n      <td>0.0</td>\n      <td>0.0</td>\n      <td>0.0</td>\n      <td>0.0</td>\n    </tr>\n    <tr>\n      <th>0</th>\n      <td>GBM</td>\n      <td>1418</td>\n      <td>134</td>\n      <td>122</td>\n      <td>0.523438</td>\n      <td>0.5</td>\n      <td>0.0</td>\n      <td>0.0</td>\n      <td>0.0</td>\n      <td>0.0</td>\n    </tr>\n    <tr>\n      <th>0</th>\n      <td>HNSC</td>\n      <td>2065</td>\n      <td>238</td>\n      <td>181</td>\n      <td>0.568019</td>\n      <td>0.5</td>\n      <td>0.0</td>\n      <td>0.0</td>\n      <td>0.0</td>\n      <td>0.0</td>\n    </tr>\n    <tr>\n      <th>0</th>\n      <td>OV</td>\n      <td>1334</td>\n      <td>142</td>\n      <td>112</td>\n      <td>0.559055</td>\n      <td>0.5</td>\n      <td>0.0</td>\n      <td>0.0</td>\n      <td>0.0</td>\n      <td>0.0</td>\n    </tr>\n  </tbody>\n</table>\n</div>"
     },
     "execution_count": 14,
     "metadata": {},
     "output_type": "execute_result"
    }
   ],
   "source": [
    "metrics_merged_0"
   ],
   "metadata": {
    "collapsed": false,
    "pycharm": {
     "name": "#%%\n"
    }
   }
  },
  {
   "cell_type": "code",
   "execution_count": 15,
   "outputs": [
    {
     "data": {
      "text/plain": "   TCGA  #_Entries  #_Disruptive  #_Non_disruptive  ACCURACY  \\\n0  BRCA       2079           203               200  0.496278   \n0  COAD       3791           388               288  0.426036   \n0  ESCA        595            76                35  0.315315   \n0   GBM       1527           137               139  0.503623   \n0  HNSC       1938           203               177  0.465789   \n0    OV       1179           123               101  0.450893   \n\n   BALANCED_ACCURACY        F1  PRECISION  RECALL  MATTHEWS_COR  \n0                0.5  0.663350   0.496278     1.0           0.0  \n0                0.5  0.597510   0.426036     1.0           0.0  \n0                0.5  0.479452   0.315315     1.0           0.0  \n0                0.5  0.669880   0.503623     1.0           0.0  \n0                0.5  0.635548   0.465789     1.0           0.0  \n0                0.5  0.621538   0.450893     1.0           0.0  ",
      "text/html": "<div>\n<style scoped>\n    .dataframe tbody tr th:only-of-type {\n        vertical-align: middle;\n    }\n\n    .dataframe tbody tr th {\n        vertical-align: top;\n    }\n\n    .dataframe thead th {\n        text-align: right;\n    }\n</style>\n<table border=\"1\" class=\"dataframe\">\n  <thead>\n    <tr style=\"text-align: right;\">\n      <th></th>\n      <th>TCGA</th>\n      <th>#_Entries</th>\n      <th>#_Disruptive</th>\n      <th>#_Non_disruptive</th>\n      <th>ACCURACY</th>\n      <th>BALANCED_ACCURACY</th>\n      <th>F1</th>\n      <th>PRECISION</th>\n      <th>RECALL</th>\n      <th>MATTHEWS_COR</th>\n    </tr>\n  </thead>\n  <tbody>\n    <tr>\n      <th>0</th>\n      <td>BRCA</td>\n      <td>2079</td>\n      <td>203</td>\n      <td>200</td>\n      <td>0.496278</td>\n      <td>0.5</td>\n      <td>0.663350</td>\n      <td>0.496278</td>\n      <td>1.0</td>\n      <td>0.0</td>\n    </tr>\n    <tr>\n      <th>0</th>\n      <td>COAD</td>\n      <td>3791</td>\n      <td>388</td>\n      <td>288</td>\n      <td>0.426036</td>\n      <td>0.5</td>\n      <td>0.597510</td>\n      <td>0.426036</td>\n      <td>1.0</td>\n      <td>0.0</td>\n    </tr>\n    <tr>\n      <th>0</th>\n      <td>ESCA</td>\n      <td>595</td>\n      <td>76</td>\n      <td>35</td>\n      <td>0.315315</td>\n      <td>0.5</td>\n      <td>0.479452</td>\n      <td>0.315315</td>\n      <td>1.0</td>\n      <td>0.0</td>\n    </tr>\n    <tr>\n      <th>0</th>\n      <td>GBM</td>\n      <td>1527</td>\n      <td>137</td>\n      <td>139</td>\n      <td>0.503623</td>\n      <td>0.5</td>\n      <td>0.669880</td>\n      <td>0.503623</td>\n      <td>1.0</td>\n      <td>0.0</td>\n    </tr>\n    <tr>\n      <th>0</th>\n      <td>HNSC</td>\n      <td>1938</td>\n      <td>203</td>\n      <td>177</td>\n      <td>0.465789</td>\n      <td>0.5</td>\n      <td>0.635548</td>\n      <td>0.465789</td>\n      <td>1.0</td>\n      <td>0.0</td>\n    </tr>\n    <tr>\n      <th>0</th>\n      <td>OV</td>\n      <td>1179</td>\n      <td>123</td>\n      <td>101</td>\n      <td>0.450893</td>\n      <td>0.5</td>\n      <td>0.621538</td>\n      <td>0.450893</td>\n      <td>1.0</td>\n      <td>0.0</td>\n    </tr>\n  </tbody>\n</table>\n</div>"
     },
     "execution_count": 15,
     "metadata": {},
     "output_type": "execute_result"
    }
   ],
   "source": [
    "metrics_merged_1"
   ],
   "metadata": {
    "collapsed": false,
    "pycharm": {
     "name": "#%%\n"
    }
   }
  },
  {
   "cell_type": "markdown",
   "source": [
    "# ---------------"
   ],
   "metadata": {
    "collapsed": false
   }
  },
  {
   "cell_type": "code",
   "execution_count": null,
   "outputs": [],
   "source": [],
   "metadata": {
    "collapsed": false,
    "pycharm": {
     "name": "#%%\n"
    }
   }
  },
  {
   "cell_type": "code",
   "execution_count": null,
   "outputs": [],
   "source": [],
   "metadata": {
    "collapsed": false,
    "pycharm": {
     "name": "#%%\n"
    }
   }
  },
  {
   "cell_type": "code",
   "execution_count": null,
   "outputs": [],
   "source": [],
   "metadata": {
    "collapsed": false,
    "pycharm": {
     "name": "#%%\n"
    }
   }
  }
 ],
 "metadata": {
  "kernelspec": {
   "display_name": "Python 3",
   "language": "python",
   "name": "python3"
  },
  "language_info": {
   "codemirror_mode": {
    "name": "ipython",
    "version": 2
   },
   "file_extension": ".py",
   "mimetype": "text/x-python",
   "name": "python",
   "nbconvert_exporter": "python",
   "pygments_lexer": "ipython2",
   "version": "2.7.6"
  }
 },
 "nbformat": 4,
 "nbformat_minor": 0
}