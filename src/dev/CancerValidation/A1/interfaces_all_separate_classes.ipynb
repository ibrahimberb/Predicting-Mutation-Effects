{
 "cells": [
  {
   "cell_type": "markdown",
   "source": [
    "# Validation on Cancer Predictions\n"
   ],
   "metadata": {
    "collapsed": false
   }
  },
  {
   "cell_type": "code",
   "execution_count": 1,
   "outputs": [
    {
     "name": "stdout",
     "output_type": "stream",
     "text": [
      "\u001B[32mMarch 09, 2022 16:17:51\u001B[0m\n"
     ]
    }
   ],
   "source": [
    "from datetime import datetime\n",
    "\n",
    "print(\"\\033[32m{}\\033[0m\".format(datetime.now().strftime(\"%B %d, %Y %H:%M:%S\")))"
   ],
   "metadata": {
    "collapsed": false,
    "pycharm": {
     "name": "#%%\n"
    }
   }
  },
  {
   "cell_type": "markdown",
   "source": [
    "## Setup"
   ],
   "metadata": {
    "collapsed": false
   }
  },
  {
   "cell_type": "code",
   "execution_count": 2,
   "outputs": [],
   "source": [
    "import pandas as pd\n",
    "\n",
    "from utils import CancerValidation\n",
    "\n",
    "BRCA_PREDICTION_PATH = \"../../../../data/predictions_datasets/brca_prediction_2021-11-17/558297b6/predictions_soft_2021-11-17.csv\"\n",
    "COAD_PREDICTION_PATH = \"../../../../data/predictions_datasets/coad_prediction_2022-01-06/9789393f/predictions_soft_2022-01-06.csv\"\n",
    "ESCA_PREDICTION_PATH = \"../../../../data/predictions_datasets/esca_prediction_2021-11-17/59544312/predictions_soft_2021-11-17.csv\"\n",
    "GBM_PREDICTION_PATH = \"../../../../data/predictions_datasets/gbm_prediction_2021-11-17/b9cfc7ea/predictions_soft_2021-11-17.csv\"\n",
    "HNSC_PREDICTION_PATH = \"../../../../data/predictions_datasets/hnsc_prediction_2021-11-17/53930f30/predictions_soft_2021-11-17.csv\"\n",
    "OV_PREDICTION_PATH = \"../../../../data/predictions_datasets/ov_prediction_2021-11-17/37bf1637/predictions_soft_2021-11-17.csv\"\n",
    "\n",
    "H_SAPIENS_INTERFACES_ALL_PATH = \"../data/H_sapiens_interfacesALL.txt\"\n",
    "\n",
    "# Reflect changes in the modules immediately.\n",
    "%load_ext autoreload\n",
    "%autoreload 2"
   ],
   "metadata": {
    "collapsed": false,
    "pycharm": {
     "name": "#%%\n"
    }
   }
  },
  {
   "cell_type": "markdown",
   "source": [
    "## Initialize Cancer Validation"
   ],
   "metadata": {
    "collapsed": false
   }
  },
  {
   "cell_type": "code",
   "execution_count": 3,
   "outputs": [],
   "source": [
    "cancer_validation = CancerValidation(interfaces_data_path=H_SAPIENS_INTERFACES_ALL_PATH)"
   ],
   "metadata": {
    "collapsed": false,
    "pycharm": {
     "name": "#%%\n"
    }
   }
  },
  {
   "cell_type": "code",
   "execution_count": 4,
   "outputs": [],
   "source": [
    "brca_output = cancer_validation.load_output_dict(\"outputs/BRCA_output_ALL_2022-03-09.pickle\")\n",
    "coad_output = cancer_validation.load_output_dict(\"outputs/COAD_output_ALL_2022-03-09.pickle\")\n",
    "esca_output = cancer_validation.load_output_dict(\"outputs/ESCA_output_ALL_2022-03-09.pickle\")\n",
    "gbm_output = cancer_validation.load_output_dict(\"outputs/GBM_output_ALL_2022-03-09.pickle\")\n",
    "hnsc_output = cancer_validation.load_output_dict(\"outputs/HNSC_output_ALL_2022-03-09.pickle\")\n",
    "ov_output = cancer_validation.load_output_dict(\"outputs/OV_output_ALL_2022-03-09.pickle\")"
   ],
   "metadata": {
    "collapsed": false,
    "pycharm": {
     "name": "#%%\n"
    }
   }
  },
  {
   "cell_type": "code",
   "execution_count": 4,
   "outputs": [],
   "source": [],
   "metadata": {
    "collapsed": false,
    "pycharm": {
     "name": "#%%\n"
    }
   }
  },
  {
   "cell_type": "markdown",
   "source": [
    "### BRCA"
   ],
   "metadata": {
    "collapsed": false
   }
  },
  {
   "cell_type": "code",
   "execution_count": 5,
   "outputs": [
    {
     "name": "stdout",
     "output_type": "stream",
     "text": [
      "Using the class 0 only.\n",
      "Using the class 1 only.\n"
     ]
    },
    {
     "name": "stderr",
     "output_type": "stream",
     "text": [
      "C:\\Users\\ibrah\\anaconda3\\envs\\MyVenvML\\lib\\site-packages\\sklearn\\metrics\\_classification.py:1245: UndefinedMetricWarning: Precision is ill-defined and being set to 0.0 due to no predicted samples. Use `zero_division` parameter to control this behavior.\n",
      "  _warn_prf(average, modifier, msg_start, len(result))\n",
      "C:\\Users\\ibrah\\anaconda3\\envs\\MyVenvML\\lib\\site-packages\\sklearn\\metrics\\_classification.py:870: RuntimeWarning: invalid value encountered in double_scalars\n",
      "  mcc = cov_ytyp / np.sqrt(cov_ytyt * cov_ypyp)\n",
      "C:\\Users\\ibrah\\anaconda3\\envs\\MyVenvML\\lib\\site-packages\\sklearn\\metrics\\_classification.py:870: RuntimeWarning: invalid value encountered in double_scalars\n",
      "  mcc = cov_ytyp / np.sqrt(cov_ytyt * cov_ypyp)\n"
     ]
    }
   ],
   "source": [
    "brca_output_0 = cancer_validation.validate_single_class(\"BRCA\", brca_output, single_class=0)\n",
    "brca_output_1 = cancer_validation.validate_single_class(\"BRCA\", brca_output, single_class=1)"
   ],
   "metadata": {
    "collapsed": false,
    "pycharm": {
     "name": "#%%\n"
    }
   }
  },
  {
   "cell_type": "markdown",
   "source": [
    "### COAD"
   ],
   "metadata": {
    "collapsed": false
   }
  },
  {
   "cell_type": "code",
   "execution_count": 6,
   "outputs": [
    {
     "name": "stdout",
     "output_type": "stream",
     "text": [
      "Using the class 0 only.\n",
      "Using the class 1 only.\n"
     ]
    },
    {
     "name": "stderr",
     "output_type": "stream",
     "text": [
      "C:\\Users\\ibrah\\anaconda3\\envs\\MyVenvML\\lib\\site-packages\\sklearn\\metrics\\_classification.py:1245: UndefinedMetricWarning: Precision is ill-defined and being set to 0.0 due to no predicted samples. Use `zero_division` parameter to control this behavior.\n",
      "  _warn_prf(average, modifier, msg_start, len(result))\n",
      "C:\\Users\\ibrah\\anaconda3\\envs\\MyVenvML\\lib\\site-packages\\sklearn\\metrics\\_classification.py:870: RuntimeWarning: invalid value encountered in double_scalars\n",
      "  mcc = cov_ytyp / np.sqrt(cov_ytyt * cov_ypyp)\n",
      "C:\\Users\\ibrah\\anaconda3\\envs\\MyVenvML\\lib\\site-packages\\sklearn\\metrics\\_classification.py:870: RuntimeWarning: invalid value encountered in double_scalars\n",
      "  mcc = cov_ytyp / np.sqrt(cov_ytyt * cov_ypyp)\n"
     ]
    }
   ],
   "source": [
    "coad_output_0 = cancer_validation.validate_single_class(\"COAD\", coad_output, single_class=0)\n",
    "coad_output_1 = cancer_validation.validate_single_class(\"COAD\", coad_output, single_class=1)"
   ],
   "metadata": {
    "collapsed": false,
    "pycharm": {
     "name": "#%%\n"
    }
   }
  },
  {
   "cell_type": "markdown",
   "source": [
    "### ESCA"
   ],
   "metadata": {
    "collapsed": false
   }
  },
  {
   "cell_type": "code",
   "execution_count": 7,
   "outputs": [
    {
     "name": "stdout",
     "output_type": "stream",
     "text": [
      "Using the class 0 only.\n",
      "Using the class 1 only.\n"
     ]
    },
    {
     "name": "stderr",
     "output_type": "stream",
     "text": [
      "C:\\Users\\ibrah\\anaconda3\\envs\\MyVenvML\\lib\\site-packages\\sklearn\\metrics\\_classification.py:1245: UndefinedMetricWarning: Precision is ill-defined and being set to 0.0 due to no predicted samples. Use `zero_division` parameter to control this behavior.\n",
      "  _warn_prf(average, modifier, msg_start, len(result))\n",
      "C:\\Users\\ibrah\\anaconda3\\envs\\MyVenvML\\lib\\site-packages\\sklearn\\metrics\\_classification.py:870: RuntimeWarning: invalid value encountered in double_scalars\n",
      "  mcc = cov_ytyp / np.sqrt(cov_ytyt * cov_ypyp)\n",
      "C:\\Users\\ibrah\\anaconda3\\envs\\MyVenvML\\lib\\site-packages\\sklearn\\metrics\\_classification.py:870: RuntimeWarning: invalid value encountered in double_scalars\n",
      "  mcc = cov_ytyp / np.sqrt(cov_ytyt * cov_ypyp)\n"
     ]
    }
   ],
   "source": [
    "esca_output_0 = cancer_validation.validate_single_class(\"ESCA\", esca_output, single_class=0)\n",
    "esca_output_1 = cancer_validation.validate_single_class(\"ESCA\", esca_output, single_class=1)"
   ],
   "metadata": {
    "collapsed": false,
    "pycharm": {
     "name": "#%%\n"
    }
   }
  },
  {
   "cell_type": "markdown",
   "source": [
    "### GBM"
   ],
   "metadata": {
    "collapsed": false
   }
  },
  {
   "cell_type": "code",
   "execution_count": 8,
   "outputs": [
    {
     "name": "stdout",
     "output_type": "stream",
     "text": [
      "Using the class 0 only.\n",
      "Using the class 1 only.\n"
     ]
    },
    {
     "name": "stderr",
     "output_type": "stream",
     "text": [
      "C:\\Users\\ibrah\\anaconda3\\envs\\MyVenvML\\lib\\site-packages\\sklearn\\metrics\\_classification.py:1245: UndefinedMetricWarning: Precision is ill-defined and being set to 0.0 due to no predicted samples. Use `zero_division` parameter to control this behavior.\n",
      "  _warn_prf(average, modifier, msg_start, len(result))\n",
      "C:\\Users\\ibrah\\anaconda3\\envs\\MyVenvML\\lib\\site-packages\\sklearn\\metrics\\_classification.py:870: RuntimeWarning: invalid value encountered in double_scalars\n",
      "  mcc = cov_ytyp / np.sqrt(cov_ytyt * cov_ypyp)\n",
      "C:\\Users\\ibrah\\anaconda3\\envs\\MyVenvML\\lib\\site-packages\\sklearn\\metrics\\_classification.py:870: RuntimeWarning: invalid value encountered in double_scalars\n",
      "  mcc = cov_ytyp / np.sqrt(cov_ytyt * cov_ypyp)\n"
     ]
    }
   ],
   "source": [
    "gbm_output_0 = cancer_validation.validate_single_class(\"GBM\", gbm_output, single_class=0)\n",
    "gbm_output_1 = cancer_validation.validate_single_class(\"GBM\", gbm_output, single_class=1)"
   ],
   "metadata": {
    "collapsed": false,
    "pycharm": {
     "name": "#%%\n"
    }
   }
  },
  {
   "cell_type": "markdown",
   "source": [
    "### HNSC"
   ],
   "metadata": {
    "collapsed": false
   }
  },
  {
   "cell_type": "code",
   "execution_count": 9,
   "outputs": [
    {
     "name": "stdout",
     "output_type": "stream",
     "text": [
      "Using the class 0 only.\n",
      "Using the class 1 only.\n"
     ]
    },
    {
     "name": "stderr",
     "output_type": "stream",
     "text": [
      "C:\\Users\\ibrah\\anaconda3\\envs\\MyVenvML\\lib\\site-packages\\sklearn\\metrics\\_classification.py:1245: UndefinedMetricWarning: Precision is ill-defined and being set to 0.0 due to no predicted samples. Use `zero_division` parameter to control this behavior.\n",
      "  _warn_prf(average, modifier, msg_start, len(result))\n",
      "C:\\Users\\ibrah\\anaconda3\\envs\\MyVenvML\\lib\\site-packages\\sklearn\\metrics\\_classification.py:870: RuntimeWarning: invalid value encountered in double_scalars\n",
      "  mcc = cov_ytyp / np.sqrt(cov_ytyt * cov_ypyp)\n",
      "C:\\Users\\ibrah\\anaconda3\\envs\\MyVenvML\\lib\\site-packages\\sklearn\\metrics\\_classification.py:870: RuntimeWarning: invalid value encountered in double_scalars\n",
      "  mcc = cov_ytyp / np.sqrt(cov_ytyt * cov_ypyp)\n"
     ]
    }
   ],
   "source": [
    "hnsc_output_0 = cancer_validation.validate_single_class(\"HNSC\", hnsc_output, single_class=0)\n",
    "hnsc_output_1 = cancer_validation.validate_single_class(\"HNSC\", hnsc_output, single_class=1)"
   ],
   "metadata": {
    "collapsed": false,
    "pycharm": {
     "name": "#%%\n"
    }
   }
  },
  {
   "cell_type": "markdown",
   "source": [
    "### OV"
   ],
   "metadata": {
    "collapsed": false
   }
  },
  {
   "cell_type": "code",
   "execution_count": 10,
   "outputs": [
    {
     "name": "stdout",
     "output_type": "stream",
     "text": [
      "Using the class 0 only.\n",
      "Using the class 1 only.\n"
     ]
    },
    {
     "name": "stderr",
     "output_type": "stream",
     "text": [
      "C:\\Users\\ibrah\\anaconda3\\envs\\MyVenvML\\lib\\site-packages\\sklearn\\metrics\\_classification.py:1245: UndefinedMetricWarning: Precision is ill-defined and being set to 0.0 due to no predicted samples. Use `zero_division` parameter to control this behavior.\n",
      "  _warn_prf(average, modifier, msg_start, len(result))\n",
      "C:\\Users\\ibrah\\anaconda3\\envs\\MyVenvML\\lib\\site-packages\\sklearn\\metrics\\_classification.py:870: RuntimeWarning: invalid value encountered in double_scalars\n",
      "  mcc = cov_ytyp / np.sqrt(cov_ytyt * cov_ypyp)\n",
      "C:\\Users\\ibrah\\anaconda3\\envs\\MyVenvML\\lib\\site-packages\\sklearn\\metrics\\_classification.py:870: RuntimeWarning: invalid value encountered in double_scalars\n",
      "  mcc = cov_ytyp / np.sqrt(cov_ytyt * cov_ypyp)\n"
     ]
    }
   ],
   "source": [
    "ov_output_0 = cancer_validation.validate_single_class(\"OV\", ov_output, single_class=0)\n",
    "ov_output_1 = cancer_validation.validate_single_class(\"OV\", ov_output, single_class=1)"
   ],
   "metadata": {
    "collapsed": false,
    "pycharm": {
     "name": "#%%\n"
    }
   }
  },
  {
   "cell_type": "markdown",
   "source": [
    "## Combine metrics"
   ],
   "metadata": {
    "collapsed": false
   }
  },
  {
   "cell_type": "code",
   "execution_count": 11,
   "outputs": [],
   "source": [
    "metrics_merged = pd.concat(\n",
    "    [\n",
    "        brca_output[\"metrics_data\"],\n",
    "        coad_output[\"metrics_data\"],\n",
    "        esca_output[\"metrics_data\"],\n",
    "        gbm_output[\"metrics_data\"],\n",
    "        hnsc_output[\"metrics_data\"],\n",
    "        ov_output[\"metrics_data\"],\n",
    "    ]\n",
    ")"
   ],
   "metadata": {
    "collapsed": false,
    "pycharm": {
     "name": "#%%\n"
    }
   }
  },
  {
   "cell_type": "code",
   "execution_count": 12,
   "outputs": [],
   "source": [
    "metrics_merged_0 = pd.concat(\n",
    "    [\n",
    "        brca_output_0[\"metrics_data\"],\n",
    "        coad_output_0[\"metrics_data\"],\n",
    "        esca_output_0[\"metrics_data\"],\n",
    "        gbm_output_0[\"metrics_data\"],\n",
    "        hnsc_output_0[\"metrics_data\"],\n",
    "        ov_output_0[\"metrics_data\"],\n",
    "    ]\n",
    ")\n",
    "\n",
    "metrics_merged_1 = pd.concat(\n",
    "    [\n",
    "        brca_output_1[\"metrics_data\"],\n",
    "        coad_output_1[\"metrics_data\"],\n",
    "        esca_output_1[\"metrics_data\"],\n",
    "        gbm_output_1[\"metrics_data\"],\n",
    "        hnsc_output_1[\"metrics_data\"],\n",
    "        ov_output_1[\"metrics_data\"],\n",
    "    ]\n",
    ")"
   ],
   "metadata": {
    "collapsed": false,
    "pycharm": {
     "name": "#%%\n"
    }
   }
  },
  {
   "cell_type": "code",
   "execution_count": 13,
   "outputs": [
    {
     "data": {
      "text/plain": "   TCGA  #_Entries  #_Disruptive  #_Non_disruptive  ACCURACY  \\\n0  BRCA       3997           862              1059  0.484643   \n0  COAD       7517          1693              1908  0.508470   \n0  ESCA       1194           283               272  0.452252   \n0   GBM       2945           595               773  0.525585   \n0  HNSC       4003           947               926  0.504538   \n0    OV       2513           541               610  0.504778   \n\n   BALANCED_ACCURACY        F1  PRECISION    RECALL  MATTHEWS_COR  \n0           0.483266  0.515181   0.535097  0.496695     -0.033300  \n0           0.508775  0.520585   0.538677  0.503669      0.017519  \n0           0.452609  0.457143   0.444444  0.470588     -0.094832  \n0           0.523123  0.563551   0.586835  0.542044      0.045897  \n0           0.504368  0.494002   0.498899  0.489201      0.008740  \n0           0.506651  0.504348   0.537037  0.475410      0.013304  ",
      "text/html": "<div>\n<style scoped>\n    .dataframe tbody tr th:only-of-type {\n        vertical-align: middle;\n    }\n\n    .dataframe tbody tr th {\n        vertical-align: top;\n    }\n\n    .dataframe thead th {\n        text-align: right;\n    }\n</style>\n<table border=\"1\" class=\"dataframe\">\n  <thead>\n    <tr style=\"text-align: right;\">\n      <th></th>\n      <th>TCGA</th>\n      <th>#_Entries</th>\n      <th>#_Disruptive</th>\n      <th>#_Non_disruptive</th>\n      <th>ACCURACY</th>\n      <th>BALANCED_ACCURACY</th>\n      <th>F1</th>\n      <th>PRECISION</th>\n      <th>RECALL</th>\n      <th>MATTHEWS_COR</th>\n    </tr>\n  </thead>\n  <tbody>\n    <tr>\n      <th>0</th>\n      <td>BRCA</td>\n      <td>3997</td>\n      <td>862</td>\n      <td>1059</td>\n      <td>0.484643</td>\n      <td>0.483266</td>\n      <td>0.515181</td>\n      <td>0.535097</td>\n      <td>0.496695</td>\n      <td>-0.033300</td>\n    </tr>\n    <tr>\n      <th>0</th>\n      <td>COAD</td>\n      <td>7517</td>\n      <td>1693</td>\n      <td>1908</td>\n      <td>0.508470</td>\n      <td>0.508775</td>\n      <td>0.520585</td>\n      <td>0.538677</td>\n      <td>0.503669</td>\n      <td>0.017519</td>\n    </tr>\n    <tr>\n      <th>0</th>\n      <td>ESCA</td>\n      <td>1194</td>\n      <td>283</td>\n      <td>272</td>\n      <td>0.452252</td>\n      <td>0.452609</td>\n      <td>0.457143</td>\n      <td>0.444444</td>\n      <td>0.470588</td>\n      <td>-0.094832</td>\n    </tr>\n    <tr>\n      <th>0</th>\n      <td>GBM</td>\n      <td>2945</td>\n      <td>595</td>\n      <td>773</td>\n      <td>0.525585</td>\n      <td>0.523123</td>\n      <td>0.563551</td>\n      <td>0.586835</td>\n      <td>0.542044</td>\n      <td>0.045897</td>\n    </tr>\n    <tr>\n      <th>0</th>\n      <td>HNSC</td>\n      <td>4003</td>\n      <td>947</td>\n      <td>926</td>\n      <td>0.504538</td>\n      <td>0.504368</td>\n      <td>0.494002</td>\n      <td>0.498899</td>\n      <td>0.489201</td>\n      <td>0.008740</td>\n    </tr>\n    <tr>\n      <th>0</th>\n      <td>OV</td>\n      <td>2513</td>\n      <td>541</td>\n      <td>610</td>\n      <td>0.504778</td>\n      <td>0.506651</td>\n      <td>0.504348</td>\n      <td>0.537037</td>\n      <td>0.475410</td>\n      <td>0.013304</td>\n    </tr>\n  </tbody>\n</table>\n</div>"
     },
     "execution_count": 13,
     "metadata": {},
     "output_type": "execute_result"
    }
   ],
   "source": [
    "metrics_merged"
   ],
   "metadata": {
    "collapsed": false,
    "pycharm": {
     "name": "#%%\n"
    }
   }
  },
  {
   "cell_type": "code",
   "execution_count": 14,
   "outputs": [
    {
     "data": {
      "text/plain": "   TCGA  #_Entries  #_Disruptive  #_Non_disruptive  ACCURACY  \\\n0  BRCA       1918           405               533  0.431770   \n0  COAD       3726           870               947  0.478811   \n0  ESCA        599           123               144  0.460674   \n0   GBM       1418           300               354  0.458716   \n0  HNSC       2065           492               473  0.509845   \n0    OV       1334           291               320  0.476268   \n\n   BALANCED_ACCURACY   F1  PRECISION  RECALL  MATTHEWS_COR  \n0                0.5  0.0        0.0     0.0           0.0  \n0                0.5  0.0        0.0     0.0           0.0  \n0                0.5  0.0        0.0     0.0           0.0  \n0                0.5  0.0        0.0     0.0           0.0  \n0                0.5  0.0        0.0     0.0           0.0  \n0                0.5  0.0        0.0     0.0           0.0  ",
      "text/html": "<div>\n<style scoped>\n    .dataframe tbody tr th:only-of-type {\n        vertical-align: middle;\n    }\n\n    .dataframe tbody tr th {\n        vertical-align: top;\n    }\n\n    .dataframe thead th {\n        text-align: right;\n    }\n</style>\n<table border=\"1\" class=\"dataframe\">\n  <thead>\n    <tr style=\"text-align: right;\">\n      <th></th>\n      <th>TCGA</th>\n      <th>#_Entries</th>\n      <th>#_Disruptive</th>\n      <th>#_Non_disruptive</th>\n      <th>ACCURACY</th>\n      <th>BALANCED_ACCURACY</th>\n      <th>F1</th>\n      <th>PRECISION</th>\n      <th>RECALL</th>\n      <th>MATTHEWS_COR</th>\n    </tr>\n  </thead>\n  <tbody>\n    <tr>\n      <th>0</th>\n      <td>BRCA</td>\n      <td>1918</td>\n      <td>405</td>\n      <td>533</td>\n      <td>0.431770</td>\n      <td>0.5</td>\n      <td>0.0</td>\n      <td>0.0</td>\n      <td>0.0</td>\n      <td>0.0</td>\n    </tr>\n    <tr>\n      <th>0</th>\n      <td>COAD</td>\n      <td>3726</td>\n      <td>870</td>\n      <td>947</td>\n      <td>0.478811</td>\n      <td>0.5</td>\n      <td>0.0</td>\n      <td>0.0</td>\n      <td>0.0</td>\n      <td>0.0</td>\n    </tr>\n    <tr>\n      <th>0</th>\n      <td>ESCA</td>\n      <td>599</td>\n      <td>123</td>\n      <td>144</td>\n      <td>0.460674</td>\n      <td>0.5</td>\n      <td>0.0</td>\n      <td>0.0</td>\n      <td>0.0</td>\n      <td>0.0</td>\n    </tr>\n    <tr>\n      <th>0</th>\n      <td>GBM</td>\n      <td>1418</td>\n      <td>300</td>\n      <td>354</td>\n      <td>0.458716</td>\n      <td>0.5</td>\n      <td>0.0</td>\n      <td>0.0</td>\n      <td>0.0</td>\n      <td>0.0</td>\n    </tr>\n    <tr>\n      <th>0</th>\n      <td>HNSC</td>\n      <td>2065</td>\n      <td>492</td>\n      <td>473</td>\n      <td>0.509845</td>\n      <td>0.5</td>\n      <td>0.0</td>\n      <td>0.0</td>\n      <td>0.0</td>\n      <td>0.0</td>\n    </tr>\n    <tr>\n      <th>0</th>\n      <td>OV</td>\n      <td>1334</td>\n      <td>291</td>\n      <td>320</td>\n      <td>0.476268</td>\n      <td>0.5</td>\n      <td>0.0</td>\n      <td>0.0</td>\n      <td>0.0</td>\n      <td>0.0</td>\n    </tr>\n  </tbody>\n</table>\n</div>"
     },
     "execution_count": 14,
     "metadata": {},
     "output_type": "execute_result"
    }
   ],
   "source": [
    "metrics_merged_0"
   ],
   "metadata": {
    "collapsed": false,
    "pycharm": {
     "name": "#%%\n"
    }
   }
  },
  {
   "cell_type": "code",
   "execution_count": 15,
   "outputs": [
    {
     "data": {
      "text/plain": "   TCGA  #_Entries  #_Disruptive  #_Non_disruptive  ACCURACY  \\\n0  BRCA       2079           457               526  0.535097   \n0  COAD       3791           823               961  0.538677   \n0  ESCA        595           160               128  0.444444   \n0   GBM       1527           295               419  0.586835   \n0  HNSC       1938           455               453  0.498899   \n0    OV       1179           250               290  0.537037   \n\n   BALANCED_ACCURACY        F1  PRECISION  RECALL  MATTHEWS_COR  \n0                0.5  0.697150   0.535097     1.0           0.0  \n0                0.5  0.700182   0.538677     1.0           0.0  \n0                0.5  0.615385   0.444444     1.0           0.0  \n0                0.5  0.739629   0.586835     1.0           0.0  \n0                0.5  0.665687   0.498899     1.0           0.0  \n0                0.5  0.698795   0.537037     1.0           0.0  ",
      "text/html": "<div>\n<style scoped>\n    .dataframe tbody tr th:only-of-type {\n        vertical-align: middle;\n    }\n\n    .dataframe tbody tr th {\n        vertical-align: top;\n    }\n\n    .dataframe thead th {\n        text-align: right;\n    }\n</style>\n<table border=\"1\" class=\"dataframe\">\n  <thead>\n    <tr style=\"text-align: right;\">\n      <th></th>\n      <th>TCGA</th>\n      <th>#_Entries</th>\n      <th>#_Disruptive</th>\n      <th>#_Non_disruptive</th>\n      <th>ACCURACY</th>\n      <th>BALANCED_ACCURACY</th>\n      <th>F1</th>\n      <th>PRECISION</th>\n      <th>RECALL</th>\n      <th>MATTHEWS_COR</th>\n    </tr>\n  </thead>\n  <tbody>\n    <tr>\n      <th>0</th>\n      <td>BRCA</td>\n      <td>2079</td>\n      <td>457</td>\n      <td>526</td>\n      <td>0.535097</td>\n      <td>0.5</td>\n      <td>0.697150</td>\n      <td>0.535097</td>\n      <td>1.0</td>\n      <td>0.0</td>\n    </tr>\n    <tr>\n      <th>0</th>\n      <td>COAD</td>\n      <td>3791</td>\n      <td>823</td>\n      <td>961</td>\n      <td>0.538677</td>\n      <td>0.5</td>\n      <td>0.700182</td>\n      <td>0.538677</td>\n      <td>1.0</td>\n      <td>0.0</td>\n    </tr>\n    <tr>\n      <th>0</th>\n      <td>ESCA</td>\n      <td>595</td>\n      <td>160</td>\n      <td>128</td>\n      <td>0.444444</td>\n      <td>0.5</td>\n      <td>0.615385</td>\n      <td>0.444444</td>\n      <td>1.0</td>\n      <td>0.0</td>\n    </tr>\n    <tr>\n      <th>0</th>\n      <td>GBM</td>\n      <td>1527</td>\n      <td>295</td>\n      <td>419</td>\n      <td>0.586835</td>\n      <td>0.5</td>\n      <td>0.739629</td>\n      <td>0.586835</td>\n      <td>1.0</td>\n      <td>0.0</td>\n    </tr>\n    <tr>\n      <th>0</th>\n      <td>HNSC</td>\n      <td>1938</td>\n      <td>455</td>\n      <td>453</td>\n      <td>0.498899</td>\n      <td>0.5</td>\n      <td>0.665687</td>\n      <td>0.498899</td>\n      <td>1.0</td>\n      <td>0.0</td>\n    </tr>\n    <tr>\n      <th>0</th>\n      <td>OV</td>\n      <td>1179</td>\n      <td>250</td>\n      <td>290</td>\n      <td>0.537037</td>\n      <td>0.5</td>\n      <td>0.698795</td>\n      <td>0.537037</td>\n      <td>1.0</td>\n      <td>0.0</td>\n    </tr>\n  </tbody>\n</table>\n</div>"
     },
     "execution_count": 15,
     "metadata": {},
     "output_type": "execute_result"
    }
   ],
   "source": [
    "metrics_merged_1"
   ],
   "metadata": {
    "collapsed": false,
    "pycharm": {
     "name": "#%%\n"
    }
   }
  },
  {
   "cell_type": "markdown",
   "source": [
    "# ---------------"
   ],
   "metadata": {
    "collapsed": false
   }
  },
  {
   "cell_type": "code",
   "execution_count": null,
   "outputs": [],
   "source": [],
   "metadata": {
    "collapsed": false,
    "pycharm": {
     "name": "#%%\n"
    }
   }
  }
 ],
 "metadata": {
  "kernelspec": {
   "display_name": "Python 3",
   "language": "python",
   "name": "python3"
  },
  "language_info": {
   "codemirror_mode": {
    "name": "ipython",
    "version": 2
   },
   "file_extension": ".py",
   "mimetype": "text/x-python",
   "name": "python",
   "nbconvert_exporter": "python",
   "pygments_lexer": "ipython2",
   "version": "2.7.6"
  }
 },
 "nbformat": 4,
 "nbformat_minor": 0
}