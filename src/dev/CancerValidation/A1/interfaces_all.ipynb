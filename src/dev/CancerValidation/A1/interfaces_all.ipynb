{
 "cells": [
  {
   "cell_type": "markdown",
   "source": [
    "# Validation on Cancer Predictions\n",
    "\n",
    "Feb 25th, 2022"
   ],
   "metadata": {
    "collapsed": false
   }
  },
  {
   "cell_type": "markdown",
   "source": [
    "## Setup"
   ],
   "metadata": {
    "collapsed": false
   }
  },
  {
   "cell_type": "code",
   "execution_count": 1,
   "outputs": [],
   "source": [
    "import pandas as pd\n",
    "from IPython.display import display\n",
    "\n",
    "from utils import CancerValidation\n",
    "\n",
    "BRCA_PREDICTION_PATH = \"../../../../data/predictions_datasets/brca_prediction_2021-11-17/558297b6/predictions_soft_2021-11-17.csv\"\n",
    "COAD_PREDICTION_PATH = \"../../../../data/predictions_datasets/coad_prediction_2022-01-06/9789393f/predictions_soft_2022-01-06.csv\"\n",
    "ESCA_PREDICTION_PATH = \"../../../../data/predictions_datasets/esca_prediction_2021-11-17/59544312/predictions_soft_2021-11-17.csv\"\n",
    "GBM_PREDICTION_PATH = \"../../../../data/predictions_datasets/gbm_prediction_2021-11-17/b9cfc7ea/predictions_soft_2021-11-17.csv\"\n",
    "HNSC_PREDICTION_PATH = \"../../../../data/predictions_datasets/hnsc_prediction_2021-11-17/53930f30/predictions_soft_2021-11-17.csv\"\n",
    "OV_PREDICTION_PATH = \"../../../../data/predictions_datasets/ov_prediction_2021-11-17/37bf1637/predictions_soft_2021-11-17.csv\"\n",
    "\n",
    "H_SAPIENS_INTERFACES_ALL_PATH = \"../data/H_sapiens_interfacesALL.txt\"\n",
    "\n",
    "# Reflect changes in the modules immediately.\n",
    "%load_ext autoreload\n",
    "%autoreload 2"
   ],
   "metadata": {
    "collapsed": false,
    "pycharm": {
     "name": "#%%\n"
    }
   }
  },
  {
   "cell_type": "markdown",
   "source": [
    "## Load Cancer Prediction Datasets"
   ],
   "metadata": {
    "collapsed": false
   }
  },
  {
   "cell_type": "code",
   "execution_count": 2,
   "outputs": [],
   "source": [
    "brca_predictions = pd.read_csv(BRCA_PREDICTION_PATH)\n",
    "coad_predictions = pd.read_csv(COAD_PREDICTION_PATH)\n",
    "esca_predictions = pd.read_csv(ESCA_PREDICTION_PATH)\n",
    "gbm_predictions = pd.read_csv(GBM_PREDICTION_PATH)\n",
    "hnsc_predictions = pd.read_csv(HNSC_PREDICTION_PATH)\n",
    "ov_predictions = pd.read_csv(OV_PREDICTION_PATH)"
   ],
   "metadata": {
    "collapsed": false,
    "pycharm": {
     "name": "#%%\n"
    }
   }
  },
  {
   "cell_type": "code",
   "execution_count": 3,
   "outputs": [
    {
     "name": "stdout",
     "output_type": "stream",
     "text": [
      "BRCA data: (3997, 5)\n"
     ]
    },
    {
     "data": {
      "text/plain": "  UniProt_ID Mutation Interactor_UniProt_ID  Prediction  Median_Probability\n0     P28062    R216W                P40306           1             0.55345\n1     Q15842    E237K                Q14654           0             0.48443\n2     Q15842    E237K                P63252           0             0.47205\n3     Q9UKS6     R24H                Q9BY11           0             0.49584\n4     Q9UKS6     R24H                Q9UNF0           0             0.41309",
      "text/html": "<div>\n<style scoped>\n    .dataframe tbody tr th:only-of-type {\n        vertical-align: middle;\n    }\n\n    .dataframe tbody tr th {\n        vertical-align: top;\n    }\n\n    .dataframe thead th {\n        text-align: right;\n    }\n</style>\n<table border=\"1\" class=\"dataframe\">\n  <thead>\n    <tr style=\"text-align: right;\">\n      <th></th>\n      <th>UniProt_ID</th>\n      <th>Mutation</th>\n      <th>Interactor_UniProt_ID</th>\n      <th>Prediction</th>\n      <th>Median_Probability</th>\n    </tr>\n  </thead>\n  <tbody>\n    <tr>\n      <th>0</th>\n      <td>P28062</td>\n      <td>R216W</td>\n      <td>P40306</td>\n      <td>1</td>\n      <td>0.55345</td>\n    </tr>\n    <tr>\n      <th>1</th>\n      <td>Q15842</td>\n      <td>E237K</td>\n      <td>Q14654</td>\n      <td>0</td>\n      <td>0.48443</td>\n    </tr>\n    <tr>\n      <th>2</th>\n      <td>Q15842</td>\n      <td>E237K</td>\n      <td>P63252</td>\n      <td>0</td>\n      <td>0.47205</td>\n    </tr>\n    <tr>\n      <th>3</th>\n      <td>Q9UKS6</td>\n      <td>R24H</td>\n      <td>Q9BY11</td>\n      <td>0</td>\n      <td>0.49584</td>\n    </tr>\n    <tr>\n      <th>4</th>\n      <td>Q9UKS6</td>\n      <td>R24H</td>\n      <td>Q9UNF0</td>\n      <td>0</td>\n      <td>0.41309</td>\n    </tr>\n  </tbody>\n</table>\n</div>"
     },
     "metadata": {},
     "output_type": "display_data"
    },
    {
     "name": "stdout",
     "output_type": "stream",
     "text": [
      "COAD data: (7517, 5)\n"
     ]
    },
    {
     "data": {
      "text/plain": "  UniProt_ID Mutation Interactor_UniProt_ID  Prediction  Median_Probability\n0     P62873    S334I                Q13371           0             0.48376\n1     Q9BXB4    N590D                Q96SU4           1             0.64160\n2     P35251    V921A                P35250           0             0.25170\n3     P08123   K1248N                P25940           1             0.78179\n4     P15056    V600E                P53667           0             0.43582",
      "text/html": "<div>\n<style scoped>\n    .dataframe tbody tr th:only-of-type {\n        vertical-align: middle;\n    }\n\n    .dataframe tbody tr th {\n        vertical-align: top;\n    }\n\n    .dataframe thead th {\n        text-align: right;\n    }\n</style>\n<table border=\"1\" class=\"dataframe\">\n  <thead>\n    <tr style=\"text-align: right;\">\n      <th></th>\n      <th>UniProt_ID</th>\n      <th>Mutation</th>\n      <th>Interactor_UniProt_ID</th>\n      <th>Prediction</th>\n      <th>Median_Probability</th>\n    </tr>\n  </thead>\n  <tbody>\n    <tr>\n      <th>0</th>\n      <td>P62873</td>\n      <td>S334I</td>\n      <td>Q13371</td>\n      <td>0</td>\n      <td>0.48376</td>\n    </tr>\n    <tr>\n      <th>1</th>\n      <td>Q9BXB4</td>\n      <td>N590D</td>\n      <td>Q96SU4</td>\n      <td>1</td>\n      <td>0.64160</td>\n    </tr>\n    <tr>\n      <th>2</th>\n      <td>P35251</td>\n      <td>V921A</td>\n      <td>P35250</td>\n      <td>0</td>\n      <td>0.25170</td>\n    </tr>\n    <tr>\n      <th>3</th>\n      <td>P08123</td>\n      <td>K1248N</td>\n      <td>P25940</td>\n      <td>1</td>\n      <td>0.78179</td>\n    </tr>\n    <tr>\n      <th>4</th>\n      <td>P15056</td>\n      <td>V600E</td>\n      <td>P53667</td>\n      <td>0</td>\n      <td>0.43582</td>\n    </tr>\n  </tbody>\n</table>\n</div>"
     },
     "metadata": {},
     "output_type": "display_data"
    },
    {
     "name": "stdout",
     "output_type": "stream",
     "text": [
      "ESCA data: (1194, 5)\n"
     ]
    },
    {
     "data": {
      "text/plain": "  UniProt_ID Mutation Interactor_UniProt_ID  Prediction  Median_Probability\n0     P61088     E61K                P38398           1             0.57282\n1     P61088     E61K                Q96PU5           1             0.68296\n2     P61088     E61K                Q9Y4L5           1             0.62781\n3     P61088     E61K                Q9Y3C5           1             0.60244\n4     P61088     E61K                Q9C035           1             0.52623",
      "text/html": "<div>\n<style scoped>\n    .dataframe tbody tr th:only-of-type {\n        vertical-align: middle;\n    }\n\n    .dataframe tbody tr th {\n        vertical-align: top;\n    }\n\n    .dataframe thead th {\n        text-align: right;\n    }\n</style>\n<table border=\"1\" class=\"dataframe\">\n  <thead>\n    <tr style=\"text-align: right;\">\n      <th></th>\n      <th>UniProt_ID</th>\n      <th>Mutation</th>\n      <th>Interactor_UniProt_ID</th>\n      <th>Prediction</th>\n      <th>Median_Probability</th>\n    </tr>\n  </thead>\n  <tbody>\n    <tr>\n      <th>0</th>\n      <td>P61088</td>\n      <td>E61K</td>\n      <td>P38398</td>\n      <td>1</td>\n      <td>0.57282</td>\n    </tr>\n    <tr>\n      <th>1</th>\n      <td>P61088</td>\n      <td>E61K</td>\n      <td>Q96PU5</td>\n      <td>1</td>\n      <td>0.68296</td>\n    </tr>\n    <tr>\n      <th>2</th>\n      <td>P61088</td>\n      <td>E61K</td>\n      <td>Q9Y4L5</td>\n      <td>1</td>\n      <td>0.62781</td>\n    </tr>\n    <tr>\n      <th>3</th>\n      <td>P61088</td>\n      <td>E61K</td>\n      <td>Q9Y3C5</td>\n      <td>1</td>\n      <td>0.60244</td>\n    </tr>\n    <tr>\n      <th>4</th>\n      <td>P61088</td>\n      <td>E61K</td>\n      <td>Q9C035</td>\n      <td>1</td>\n      <td>0.52623</td>\n    </tr>\n  </tbody>\n</table>\n</div>"
     },
     "metadata": {},
     "output_type": "display_data"
    },
    {
     "name": "stdout",
     "output_type": "stream",
     "text": [
      "GBM data: (2945, 5)\n"
     ]
    },
    {
     "data": {
      "text/plain": "  UniProt_ID Mutation Interactor_UniProt_ID  Prediction  Median_Probability\n0     P46734    K200E                P27361           1             0.81740\n1     P46734    K200E                Q16512           1             0.91810\n2     P46734    K200E                Q5S007           1             0.84646\n3     P46734    K200E                Q9Y2U5           1             0.80720\n4     P46734    K200E                Q99759           1             0.85617",
      "text/html": "<div>\n<style scoped>\n    .dataframe tbody tr th:only-of-type {\n        vertical-align: middle;\n    }\n\n    .dataframe tbody tr th {\n        vertical-align: top;\n    }\n\n    .dataframe thead th {\n        text-align: right;\n    }\n</style>\n<table border=\"1\" class=\"dataframe\">\n  <thead>\n    <tr style=\"text-align: right;\">\n      <th></th>\n      <th>UniProt_ID</th>\n      <th>Mutation</th>\n      <th>Interactor_UniProt_ID</th>\n      <th>Prediction</th>\n      <th>Median_Probability</th>\n    </tr>\n  </thead>\n  <tbody>\n    <tr>\n      <th>0</th>\n      <td>P46734</td>\n      <td>K200E</td>\n      <td>P27361</td>\n      <td>1</td>\n      <td>0.81740</td>\n    </tr>\n    <tr>\n      <th>1</th>\n      <td>P46734</td>\n      <td>K200E</td>\n      <td>Q16512</td>\n      <td>1</td>\n      <td>0.91810</td>\n    </tr>\n    <tr>\n      <th>2</th>\n      <td>P46734</td>\n      <td>K200E</td>\n      <td>Q5S007</td>\n      <td>1</td>\n      <td>0.84646</td>\n    </tr>\n    <tr>\n      <th>3</th>\n      <td>P46734</td>\n      <td>K200E</td>\n      <td>Q9Y2U5</td>\n      <td>1</td>\n      <td>0.80720</td>\n    </tr>\n    <tr>\n      <th>4</th>\n      <td>P46734</td>\n      <td>K200E</td>\n      <td>Q99759</td>\n      <td>1</td>\n      <td>0.85617</td>\n    </tr>\n  </tbody>\n</table>\n</div>"
     },
     "metadata": {},
     "output_type": "display_data"
    },
    {
     "name": "stdout",
     "output_type": "stream",
     "text": [
      "HNSC data: (4003, 5)\n"
     ]
    },
    {
     "data": {
      "text/plain": "  UniProt_ID Mutation Interactor_UniProt_ID  Prediction  Median_Probability\n0     Q13485    R361H                B7Z5N5           0             0.45127\n1     Q13485    R361H                Q68DB7           0             0.47297\n2     Q13485    R361H                Q53XR6           0             0.42872\n3     Q9Y566   R2148H                Q9BYB0           0             0.19476\n4     O15116     L87I                Q9Y333           1             0.83768",
      "text/html": "<div>\n<style scoped>\n    .dataframe tbody tr th:only-of-type {\n        vertical-align: middle;\n    }\n\n    .dataframe tbody tr th {\n        vertical-align: top;\n    }\n\n    .dataframe thead th {\n        text-align: right;\n    }\n</style>\n<table border=\"1\" class=\"dataframe\">\n  <thead>\n    <tr style=\"text-align: right;\">\n      <th></th>\n      <th>UniProt_ID</th>\n      <th>Mutation</th>\n      <th>Interactor_UniProt_ID</th>\n      <th>Prediction</th>\n      <th>Median_Probability</th>\n    </tr>\n  </thead>\n  <tbody>\n    <tr>\n      <th>0</th>\n      <td>Q13485</td>\n      <td>R361H</td>\n      <td>B7Z5N5</td>\n      <td>0</td>\n      <td>0.45127</td>\n    </tr>\n    <tr>\n      <th>1</th>\n      <td>Q13485</td>\n      <td>R361H</td>\n      <td>Q68DB7</td>\n      <td>0</td>\n      <td>0.47297</td>\n    </tr>\n    <tr>\n      <th>2</th>\n      <td>Q13485</td>\n      <td>R361H</td>\n      <td>Q53XR6</td>\n      <td>0</td>\n      <td>0.42872</td>\n    </tr>\n    <tr>\n      <th>3</th>\n      <td>Q9Y566</td>\n      <td>R2148H</td>\n      <td>Q9BYB0</td>\n      <td>0</td>\n      <td>0.19476</td>\n    </tr>\n    <tr>\n      <th>4</th>\n      <td>O15116</td>\n      <td>L87I</td>\n      <td>Q9Y333</td>\n      <td>1</td>\n      <td>0.83768</td>\n    </tr>\n  </tbody>\n</table>\n</div>"
     },
     "metadata": {},
     "output_type": "display_data"
    },
    {
     "name": "stdout",
     "output_type": "stream",
     "text": [
      "OV data: (2513, 5)\n"
     ]
    },
    {
     "data": {
      "text/plain": "  UniProt_ID Mutation Interactor_UniProt_ID  Prediction  Median_Probability\n0     P08134     D59E                P52565           0             0.28821\n1     P62993      A3V                Q9H8V3           0             0.44397\n2     P62993      A3V                Q14155           1             0.51214\n3     O75175    Q684H                Q9NZN8           0             0.32091\n4     O75175    Q684H                B2RDX7           0             0.33470",
      "text/html": "<div>\n<style scoped>\n    .dataframe tbody tr th:only-of-type {\n        vertical-align: middle;\n    }\n\n    .dataframe tbody tr th {\n        vertical-align: top;\n    }\n\n    .dataframe thead th {\n        text-align: right;\n    }\n</style>\n<table border=\"1\" class=\"dataframe\">\n  <thead>\n    <tr style=\"text-align: right;\">\n      <th></th>\n      <th>UniProt_ID</th>\n      <th>Mutation</th>\n      <th>Interactor_UniProt_ID</th>\n      <th>Prediction</th>\n      <th>Median_Probability</th>\n    </tr>\n  </thead>\n  <tbody>\n    <tr>\n      <th>0</th>\n      <td>P08134</td>\n      <td>D59E</td>\n      <td>P52565</td>\n      <td>0</td>\n      <td>0.28821</td>\n    </tr>\n    <tr>\n      <th>1</th>\n      <td>P62993</td>\n      <td>A3V</td>\n      <td>Q9H8V3</td>\n      <td>0</td>\n      <td>0.44397</td>\n    </tr>\n    <tr>\n      <th>2</th>\n      <td>P62993</td>\n      <td>A3V</td>\n      <td>Q14155</td>\n      <td>1</td>\n      <td>0.51214</td>\n    </tr>\n    <tr>\n      <th>3</th>\n      <td>O75175</td>\n      <td>Q684H</td>\n      <td>Q9NZN8</td>\n      <td>0</td>\n      <td>0.32091</td>\n    </tr>\n    <tr>\n      <th>4</th>\n      <td>O75175</td>\n      <td>Q684H</td>\n      <td>B2RDX7</td>\n      <td>0</td>\n      <td>0.33470</td>\n    </tr>\n  </tbody>\n</table>\n</div>"
     },
     "metadata": {},
     "output_type": "display_data"
    }
   ],
   "source": [
    "print(f\"BRCA data: {brca_predictions.shape}\")\n",
    "display(brca_predictions.head())\n",
    "\n",
    "print(f\"COAD data: {coad_predictions.shape}\")\n",
    "display(coad_predictions.head())\n",
    "\n",
    "print(f\"ESCA data: {esca_predictions.shape}\")\n",
    "display(esca_predictions.head())\n",
    "\n",
    "print(f\"GBM data: {gbm_predictions.shape}\")\n",
    "display(gbm_predictions.head())\n",
    "\n",
    "print(f\"HNSC data: {hnsc_predictions.shape}\")\n",
    "display(hnsc_predictions.head())\n",
    "\n",
    "print(f\"OV data: {ov_predictions.shape}\")\n",
    "display(ov_predictions.head())"
   ],
   "metadata": {
    "collapsed": false,
    "pycharm": {
     "name": "#%%\n"
    }
   }
  },
  {
   "cell_type": "markdown",
   "source": [
    "## Initialize Cancer Validation"
   ],
   "metadata": {
    "collapsed": false
   }
  },
  {
   "cell_type": "code",
   "execution_count": 4,
   "outputs": [],
   "source": [
    "cancer_validation = CancerValidation(interfaces_data_path=H_SAPIENS_INTERFACES_ALL_PATH)"
   ],
   "metadata": {
    "collapsed": false,
    "pycharm": {
     "name": "#%%\n"
    }
   }
  },
  {
   "cell_type": "markdown",
   "source": [
    "## Validate"
   ],
   "metadata": {
    "collapsed": false
   }
  },
  {
   "cell_type": "markdown",
   "source": [
    "### BRCA"
   ],
   "metadata": {
    "collapsed": false
   }
  },
  {
   "cell_type": "code",
   "execution_count": 5,
   "outputs": [
    {
     "data": {
      "text/plain": "  0%|          | 0/3997 [00:00<?, ?it/s]",
      "application/vnd.jupyter.widget-view+json": {
       "version_major": 2,
       "version_minor": 0,
       "model_id": "7f62fc1979a447cda13775a853b22bf5"
      }
     },
     "metadata": {},
     "output_type": "display_data"
    },
    {
     "ename": "ValueError",
     "evalue": "too many values to unpack (expected 1)",
     "output_type": "error",
     "traceback": [
      "\u001B[1;31m---------------------------------------------------------------------------\u001B[0m",
      "\u001B[1;31mValueError\u001B[0m                                Traceback (most recent call last)",
      "\u001B[1;32m<ipython-input-5-b61fc62c3245>\u001B[0m in \u001B[0;36m<module>\u001B[1;34m\u001B[0m\n\u001B[1;32m----> 1\u001B[1;33m \u001B[0mbrca_output\u001B[0m \u001B[1;33m=\u001B[0m \u001B[0mcancer_validation\u001B[0m\u001B[1;33m.\u001B[0m\u001B[0mvalidate\u001B[0m\u001B[1;33m(\u001B[0m\u001B[1;34m\"BRCA\"\u001B[0m\u001B[1;33m,\u001B[0m \u001B[0mbrca_predictions\u001B[0m\u001B[1;33m)\u001B[0m\u001B[1;33m\u001B[0m\u001B[1;33m\u001B[0m\u001B[0m\n\u001B[0m",
      "\u001B[1;32m~\\Documents\\GitHub\\Predicting-Mutation-Effects\\src\\dev\\CancerValidation\\A1\\utils.py\u001B[0m in \u001B[0;36mvalidate\u001B[1;34m(self, tcga_type, tcga_data)\u001B[0m\n\u001B[0;32m    126\u001B[0m             \u001B[0mmutation\u001B[0m \u001B[1;33m=\u001B[0m \u001B[0mrow\u001B[0m\u001B[1;33m[\u001B[0m\u001B[1;34m\"Mutation\"\u001B[0m\u001B[1;33m]\u001B[0m\u001B[1;33m\u001B[0m\u001B[1;33m\u001B[0m\u001B[0m\n\u001B[0;32m    127\u001B[0m             \u001B[0minteractor\u001B[0m \u001B[1;33m=\u001B[0m \u001B[0mrow\u001B[0m\u001B[1;33m[\u001B[0m\u001B[1;34m\"Interactor_UniProt_ID\"\u001B[0m\u001B[1;33m]\u001B[0m\u001B[1;33m\u001B[0m\u001B[1;33m\u001B[0m\u001B[0m\n\u001B[1;32m--> 128\u001B[1;33m             valid_label = self.check(\n\u001B[0m\u001B[0;32m    129\u001B[0m                 \u001B[0mprotein\u001B[0m\u001B[1;33m=\u001B[0m\u001B[0mprotein\u001B[0m\u001B[1;33m,\u001B[0m \u001B[0mmutation\u001B[0m\u001B[1;33m=\u001B[0m\u001B[0mmutation\u001B[0m\u001B[1;33m,\u001B[0m \u001B[0minteractor\u001B[0m\u001B[1;33m=\u001B[0m\u001B[0minteractor\u001B[0m\u001B[1;33m\u001B[0m\u001B[1;33m\u001B[0m\u001B[0m\n\u001B[0;32m    130\u001B[0m             )\n",
      "\u001B[1;32m~\\Documents\\GitHub\\Predicting-Mutation-Effects\\src\\dev\\CancerValidation\\A1\\utils.py\u001B[0m in \u001B[0;36mcheck\u001B[1;34m(self, protein, mutation, interactor)\u001B[0m\n\u001B[0;32m     73\u001B[0m         \u001B[1;31m#       f\"> INTERACTOR: {interactor}\")\u001B[0m\u001B[1;33m\u001B[0m\u001B[1;33m\u001B[0m\u001B[1;33m\u001B[0m\u001B[0m\n\u001B[0;32m     74\u001B[0m         \u001B[1;32mtry\u001B[0m\u001B[1;33m:\u001B[0m\u001B[1;33m\u001B[0m\u001B[1;33m\u001B[0m\u001B[0m\n\u001B[1;32m---> 75\u001B[1;33m             \u001B[0mdata\u001B[0m\u001B[1;33m,\u001B[0m \u001B[0mres\u001B[0m \u001B[1;33m=\u001B[0m \u001B[0mself\u001B[0m\u001B[1;33m.\u001B[0m\u001B[0m_get_entry\u001B[0m\u001B[1;33m(\u001B[0m\u001B[0mprotein\u001B[0m\u001B[1;33m,\u001B[0m \u001B[0minteractor\u001B[0m\u001B[1;33m)\u001B[0m\u001B[1;33m\u001B[0m\u001B[1;33m\u001B[0m\u001B[0m\n\u001B[0m\u001B[0;32m     76\u001B[0m         \u001B[1;32mexcept\u001B[0m \u001B[0mEntryNotFoundError\u001B[0m\u001B[1;33m:\u001B[0m\u001B[1;33m\u001B[0m\u001B[1;33m\u001B[0m\u001B[0m\n\u001B[0;32m     77\u001B[0m             \u001B[1;32mreturn\u001B[0m \u001B[0mClassLabels\u001B[0m\u001B[1;33m.\u001B[0m\u001B[0mNOT_AVAILABLE\u001B[0m\u001B[1;33m\u001B[0m\u001B[1;33m\u001B[0m\u001B[0m\n",
      "\u001B[1;32m~\\Documents\\GitHub\\Predicting-Mutation-Effects\\src\\dev\\CancerValidation\\A1\\utils.py\u001B[0m in \u001B[0;36m_get_entry\u001B[1;34m(self, protein, interactor)\u001B[0m\n\u001B[0;32m    100\u001B[0m         \u001B[1;31m# First data contains entry and the second one is empty\u001B[0m\u001B[1;33m\u001B[0m\u001B[1;33m\u001B[0m\u001B[1;33m\u001B[0m\u001B[0m\n\u001B[0;32m    101\u001B[0m         \u001B[1;32melif\u001B[0m \u001B[0mlen\u001B[0m\u001B[1;33m(\u001B[0m\u001B[0ma_b_interface_data\u001B[0m\u001B[1;33m)\u001B[0m \u001B[1;33m!=\u001B[0m \u001B[1;36m0\u001B[0m \u001B[1;32mand\u001B[0m \u001B[0mlen\u001B[0m\u001B[1;33m(\u001B[0m\u001B[0mb_a_interface_data\u001B[0m\u001B[1;33m)\u001B[0m \u001B[1;33m==\u001B[0m \u001B[1;36m0\u001B[0m\u001B[1;33m:\u001B[0m\u001B[1;33m\u001B[0m\u001B[1;33m\u001B[0m\u001B[0m\n\u001B[1;32m--> 102\u001B[1;33m             \u001B[1;33m[\u001B[0m\u001B[0mp1_res\u001B[0m\u001B[1;33m]\u001B[0m \u001B[1;33m=\u001B[0m \u001B[0ma_b_interface_data\u001B[0m\u001B[1;33m[\u001B[0m\u001B[1;34m\"P1_IRES\"\u001B[0m\u001B[1;33m]\u001B[0m\u001B[1;33m\u001B[0m\u001B[1;33m\u001B[0m\u001B[0m\n\u001B[0m\u001B[0;32m    103\u001B[0m             \u001B[1;32mreturn\u001B[0m \u001B[0ma_b_interface_data\u001B[0m\u001B[1;33m,\u001B[0m \u001B[0mp1_res\u001B[0m\u001B[1;33m\u001B[0m\u001B[1;33m\u001B[0m\u001B[0m\n\u001B[0;32m    104\u001B[0m \u001B[1;33m\u001B[0m\u001B[0m\n",
      "\u001B[1;31mValueError\u001B[0m: too many values to unpack (expected 1)"
     ]
    }
   ],
   "source": [
    "brca_output = cancer_validation.validate(\"BRCA\", brca_predictions)"
   ],
   "metadata": {
    "collapsed": false,
    "pycharm": {
     "name": "#%%\n"
    }
   }
  },
  {
   "cell_type": "code",
   "execution_count": null,
   "outputs": [],
   "source": [
    "brca_output[\"metrics_data\"]"
   ],
   "metadata": {
    "collapsed": false,
    "pycharm": {
     "name": "#%%\n"
    }
   }
  },
  {
   "cell_type": "markdown",
   "source": [
    "### COAD"
   ],
   "metadata": {
    "collapsed": false
   }
  },
  {
   "cell_type": "code",
   "execution_count": null,
   "outputs": [],
   "source": [
    "coad_output = cancer_validation.validate(\"COAD\", coad_predictions)"
   ],
   "metadata": {
    "collapsed": false,
    "pycharm": {
     "name": "#%%\n"
    }
   }
  },
  {
   "cell_type": "code",
   "execution_count": null,
   "outputs": [],
   "source": [
    "coad_output[\"metrics_data\"]"
   ],
   "metadata": {
    "collapsed": false,
    "pycharm": {
     "name": "#%%\n"
    }
   }
  },
  {
   "cell_type": "markdown",
   "source": [
    "### ESCA"
   ],
   "metadata": {
    "collapsed": false
   }
  },
  {
   "cell_type": "code",
   "execution_count": null,
   "outputs": [],
   "source": [
    "esca_output = cancer_validation.validate(\"ESCA\", esca_predictions)"
   ],
   "metadata": {
    "collapsed": false,
    "pycharm": {
     "name": "#%%\n"
    }
   }
  },
  {
   "cell_type": "code",
   "execution_count": null,
   "outputs": [],
   "source": [
    "esca_output[\"metrics_data\"]"
   ],
   "metadata": {
    "collapsed": false,
    "pycharm": {
     "name": "#%%\n"
    }
   }
  },
  {
   "cell_type": "markdown",
   "source": [
    "### GBM"
   ],
   "metadata": {
    "collapsed": false
   }
  },
  {
   "cell_type": "code",
   "execution_count": null,
   "outputs": [],
   "source": [
    "gbm_output = cancer_validation.validate(\"GBM\", gbm_predictions)"
   ],
   "metadata": {
    "collapsed": false,
    "pycharm": {
     "name": "#%%\n"
    }
   }
  },
  {
   "cell_type": "code",
   "execution_count": null,
   "outputs": [],
   "source": [
    "gbm_output[\"metrics_data\"]"
   ],
   "metadata": {
    "collapsed": false,
    "pycharm": {
     "name": "#%%\n"
    }
   }
  },
  {
   "cell_type": "markdown",
   "source": [
    "### HNSC"
   ],
   "metadata": {
    "collapsed": false
   }
  },
  {
   "cell_type": "code",
   "execution_count": null,
   "outputs": [],
   "source": [
    "hnsc_output = cancer_validation.validate(\"HNSC\", hnsc_predictions)"
   ],
   "metadata": {
    "collapsed": false,
    "pycharm": {
     "name": "#%%\n"
    }
   }
  },
  {
   "cell_type": "code",
   "execution_count": null,
   "outputs": [],
   "source": [
    "hnsc_output[\"metrics_data\"]"
   ],
   "metadata": {
    "collapsed": false,
    "pycharm": {
     "name": "#%%\n"
    }
   }
  },
  {
   "cell_type": "markdown",
   "source": [
    "### OV"
   ],
   "metadata": {
    "collapsed": false
   }
  },
  {
   "cell_type": "code",
   "execution_count": null,
   "outputs": [],
   "source": [
    "ov_output = cancer_validation.validate(\"OV\", ov_predictions)"
   ],
   "metadata": {
    "collapsed": false,
    "pycharm": {
     "name": "#%%\n"
    }
   }
  },
  {
   "cell_type": "code",
   "execution_count": null,
   "outputs": [],
   "source": [
    "ov_output[\"metrics_data\"]"
   ],
   "metadata": {
    "collapsed": false,
    "pycharm": {
     "name": "#%%\n"
    }
   }
  },
  {
   "cell_type": "markdown",
   "source": [
    "## Combine metrics"
   ],
   "metadata": {
    "collapsed": false
   }
  },
  {
   "cell_type": "code",
   "execution_count": null,
   "outputs": [],
   "source": [
    "metrics_merged = pd.concat(\n",
    "    [\n",
    "        brca_output[\"metrics_data\"],\n",
    "        coad_output[\"metrics_data\"],\n",
    "        esca_output[\"metrics_data\"],\n",
    "        gbm_output[\"metrics_data\"],\n",
    "        hnsc_output[\"metrics_data\"],\n",
    "        ov_output[\"metrics_data\"],\n",
    "    ]\n",
    ")"
   ],
   "metadata": {
    "collapsed": false,
    "pycharm": {
     "name": "#%%\n"
    }
   }
  },
  {
   "cell_type": "code",
   "execution_count": null,
   "outputs": [],
   "source": [
    "metrics_merged"
   ],
   "metadata": {
    "collapsed": false,
    "pycharm": {
     "name": "#%%\n"
    }
   }
  },
  {
   "cell_type": "markdown",
   "source": [
    "# ---------------"
   ],
   "metadata": {
    "collapsed": false
   }
  },
  {
   "cell_type": "code",
   "execution_count": null,
   "outputs": [],
   "source": [],
   "metadata": {
    "collapsed": false,
    "pycharm": {
     "name": "#%%\n"
    }
   }
  }
 ],
 "metadata": {
  "kernelspec": {
   "display_name": "Python 3",
   "language": "python",
   "name": "python3"
  },
  "language_info": {
   "codemirror_mode": {
    "name": "ipython",
    "version": 2
   },
   "file_extension": ".py",
   "mimetype": "text/x-python",
   "name": "python",
   "nbconvert_exporter": "python",
   "pygments_lexer": "ipython2",
   "version": "2.7.6"
  }
 },
 "nbformat": 4,
 "nbformat_minor": 0
}