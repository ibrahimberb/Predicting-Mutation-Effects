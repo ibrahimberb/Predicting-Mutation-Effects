{
 "cells": [
  {
   "cell_type": "markdown",
   "source": [
    "# Validation on Cancer Predictions\n",
    "\n",
    "**H_sapiens_interfacesALL.txt**"
   ],
   "metadata": {
    "collapsed": false
   }
  },
  {
   "cell_type": "code",
   "execution_count": 2,
   "outputs": [
    {
     "name": "stdout",
     "output_type": "stream",
     "text": [
      "\u001B[32mMarch 10, 2022 11:50:26\u001B[0m\n"
     ]
    }
   ],
   "source": [
    "from datetime import datetime\n",
    "\n",
    "print(\"\\033[32m{}\\033[0m\".format(datetime.now().strftime(\"%B %d, %Y %H:%M:%S\")))"
   ],
   "metadata": {
    "collapsed": false,
    "pycharm": {
     "name": "#%%\n"
    }
   }
  },
  {
   "cell_type": "markdown",
   "source": [
    "## Setup"
   ],
   "metadata": {
    "collapsed": false
   }
  },
  {
   "cell_type": "code",
   "execution_count": 4,
   "outputs": [],
   "source": [
    "import pandas as pd\n",
    "from IPython.display import display\n",
    "\n",
    "from utils import CancerValidation\n",
    "\n",
    "BRCA_PREDICTION_PATH = \"../../../../data/predictions_datasets/brca_prediction_2021-11-17/558297b6/predictions_soft_2021-11-17.csv\"\n",
    "COAD_PREDICTION_PATH = \"../../../../data/predictions_datasets/coad_prediction_2022-01-06/9789393f/predictions_soft_2022-01-06.csv\"\n",
    "ESCA_PREDICTION_PATH = \"../../../../data/predictions_datasets/esca_prediction_2021-11-17/59544312/predictions_soft_2021-11-17.csv\"\n",
    "GBM_PREDICTION_PATH = \"../../../../data/predictions_datasets/gbm_prediction_2021-11-17/b9cfc7ea/predictions_soft_2021-11-17.csv\"\n",
    "HNSC_PREDICTION_PATH = \"../../../../data/predictions_datasets/hnsc_prediction_2021-11-17/53930f30/predictions_soft_2021-11-17.csv\"\n",
    "OV_PREDICTION_PATH = \"../../../../data/predictions_datasets/ov_prediction_2021-11-17/37bf1637/predictions_soft_2021-11-17.csv\"\n",
    "\n",
    "H_SAPIENS_INTERFACES_ALL_PATH = \"../data/H_sapiens_interfacesALL.txt\"\n",
    "\n",
    "# Reflect changes in the modules immediately.\n",
    "%load_ext autoreload\n",
    "%autoreload 2"
   ],
   "metadata": {
    "collapsed": false,
    "pycharm": {
     "name": "#%%\n"
    }
   }
  },
  {
   "cell_type": "markdown",
   "source": [
    "## Load Cancer Prediction Datasets"
   ],
   "metadata": {
    "collapsed": false
   }
  },
  {
   "cell_type": "code",
   "execution_count": 3,
   "outputs": [],
   "source": [
    "brca_predictions = pd.read_csv(BRCA_PREDICTION_PATH)\n",
    "coad_predictions = pd.read_csv(COAD_PREDICTION_PATH)\n",
    "esca_predictions = pd.read_csv(ESCA_PREDICTION_PATH)\n",
    "gbm_predictions = pd.read_csv(GBM_PREDICTION_PATH)\n",
    "hnsc_predictions = pd.read_csv(HNSC_PREDICTION_PATH)\n",
    "ov_predictions = pd.read_csv(OV_PREDICTION_PATH)"
   ],
   "metadata": {
    "collapsed": false,
    "pycharm": {
     "name": "#%%\n"
    }
   }
  },
  {
   "cell_type": "code",
   "execution_count": 4,
   "outputs": [
    {
     "name": "stdout",
     "output_type": "stream",
     "text": [
      "BRCA data: (3997, 5)\n"
     ]
    },
    {
     "data": {
      "text/plain": "  UniProt_ID Mutation Interactor_UniProt_ID  Prediction  Median_Probability\n0     P28062    R216W                P40306           1             0.55345\n1     Q15842    E237K                Q14654           0             0.48443\n2     Q15842    E237K                P63252           0             0.47205\n3     Q9UKS6     R24H                Q9BY11           0             0.49584\n4     Q9UKS6     R24H                Q9UNF0           0             0.41309",
      "text/html": "<div>\n<style scoped>\n    .dataframe tbody tr th:only-of-type {\n        vertical-align: middle;\n    }\n\n    .dataframe tbody tr th {\n        vertical-align: top;\n    }\n\n    .dataframe thead th {\n        text-align: right;\n    }\n</style>\n<table border=\"1\" class=\"dataframe\">\n  <thead>\n    <tr style=\"text-align: right;\">\n      <th></th>\n      <th>UniProt_ID</th>\n      <th>Mutation</th>\n      <th>Interactor_UniProt_ID</th>\n      <th>Prediction</th>\n      <th>Median_Probability</th>\n    </tr>\n  </thead>\n  <tbody>\n    <tr>\n      <th>0</th>\n      <td>P28062</td>\n      <td>R216W</td>\n      <td>P40306</td>\n      <td>1</td>\n      <td>0.55345</td>\n    </tr>\n    <tr>\n      <th>1</th>\n      <td>Q15842</td>\n      <td>E237K</td>\n      <td>Q14654</td>\n      <td>0</td>\n      <td>0.48443</td>\n    </tr>\n    <tr>\n      <th>2</th>\n      <td>Q15842</td>\n      <td>E237K</td>\n      <td>P63252</td>\n      <td>0</td>\n      <td>0.47205</td>\n    </tr>\n    <tr>\n      <th>3</th>\n      <td>Q9UKS6</td>\n      <td>R24H</td>\n      <td>Q9BY11</td>\n      <td>0</td>\n      <td>0.49584</td>\n    </tr>\n    <tr>\n      <th>4</th>\n      <td>Q9UKS6</td>\n      <td>R24H</td>\n      <td>Q9UNF0</td>\n      <td>0</td>\n      <td>0.41309</td>\n    </tr>\n  </tbody>\n</table>\n</div>"
     },
     "metadata": {},
     "output_type": "display_data"
    },
    {
     "name": "stdout",
     "output_type": "stream",
     "text": [
      "COAD data: (7517, 5)\n"
     ]
    },
    {
     "data": {
      "text/plain": "  UniProt_ID Mutation Interactor_UniProt_ID  Prediction  Median_Probability\n0     P62873    S334I                Q13371           0             0.48376\n1     Q9BXB4    N590D                Q96SU4           1             0.64160\n2     P35251    V921A                P35250           0             0.25170\n3     P08123   K1248N                P25940           1             0.78179\n4     P15056    V600E                P53667           0             0.43582",
      "text/html": "<div>\n<style scoped>\n    .dataframe tbody tr th:only-of-type {\n        vertical-align: middle;\n    }\n\n    .dataframe tbody tr th {\n        vertical-align: top;\n    }\n\n    .dataframe thead th {\n        text-align: right;\n    }\n</style>\n<table border=\"1\" class=\"dataframe\">\n  <thead>\n    <tr style=\"text-align: right;\">\n      <th></th>\n      <th>UniProt_ID</th>\n      <th>Mutation</th>\n      <th>Interactor_UniProt_ID</th>\n      <th>Prediction</th>\n      <th>Median_Probability</th>\n    </tr>\n  </thead>\n  <tbody>\n    <tr>\n      <th>0</th>\n      <td>P62873</td>\n      <td>S334I</td>\n      <td>Q13371</td>\n      <td>0</td>\n      <td>0.48376</td>\n    </tr>\n    <tr>\n      <th>1</th>\n      <td>Q9BXB4</td>\n      <td>N590D</td>\n      <td>Q96SU4</td>\n      <td>1</td>\n      <td>0.64160</td>\n    </tr>\n    <tr>\n      <th>2</th>\n      <td>P35251</td>\n      <td>V921A</td>\n      <td>P35250</td>\n      <td>0</td>\n      <td>0.25170</td>\n    </tr>\n    <tr>\n      <th>3</th>\n      <td>P08123</td>\n      <td>K1248N</td>\n      <td>P25940</td>\n      <td>1</td>\n      <td>0.78179</td>\n    </tr>\n    <tr>\n      <th>4</th>\n      <td>P15056</td>\n      <td>V600E</td>\n      <td>P53667</td>\n      <td>0</td>\n      <td>0.43582</td>\n    </tr>\n  </tbody>\n</table>\n</div>"
     },
     "metadata": {},
     "output_type": "display_data"
    },
    {
     "name": "stdout",
     "output_type": "stream",
     "text": [
      "ESCA data: (1194, 5)\n"
     ]
    },
    {
     "data": {
      "text/plain": "  UniProt_ID Mutation Interactor_UniProt_ID  Prediction  Median_Probability\n0     P61088     E61K                P38398           1             0.57282\n1     P61088     E61K                Q96PU5           1             0.68296\n2     P61088     E61K                Q9Y4L5           1             0.62781\n3     P61088     E61K                Q9Y3C5           1             0.60244\n4     P61088     E61K                Q9C035           1             0.52623",
      "text/html": "<div>\n<style scoped>\n    .dataframe tbody tr th:only-of-type {\n        vertical-align: middle;\n    }\n\n    .dataframe tbody tr th {\n        vertical-align: top;\n    }\n\n    .dataframe thead th {\n        text-align: right;\n    }\n</style>\n<table border=\"1\" class=\"dataframe\">\n  <thead>\n    <tr style=\"text-align: right;\">\n      <th></th>\n      <th>UniProt_ID</th>\n      <th>Mutation</th>\n      <th>Interactor_UniProt_ID</th>\n      <th>Prediction</th>\n      <th>Median_Probability</th>\n    </tr>\n  </thead>\n  <tbody>\n    <tr>\n      <th>0</th>\n      <td>P61088</td>\n      <td>E61K</td>\n      <td>P38398</td>\n      <td>1</td>\n      <td>0.57282</td>\n    </tr>\n    <tr>\n      <th>1</th>\n      <td>P61088</td>\n      <td>E61K</td>\n      <td>Q96PU5</td>\n      <td>1</td>\n      <td>0.68296</td>\n    </tr>\n    <tr>\n      <th>2</th>\n      <td>P61088</td>\n      <td>E61K</td>\n      <td>Q9Y4L5</td>\n      <td>1</td>\n      <td>0.62781</td>\n    </tr>\n    <tr>\n      <th>3</th>\n      <td>P61088</td>\n      <td>E61K</td>\n      <td>Q9Y3C5</td>\n      <td>1</td>\n      <td>0.60244</td>\n    </tr>\n    <tr>\n      <th>4</th>\n      <td>P61088</td>\n      <td>E61K</td>\n      <td>Q9C035</td>\n      <td>1</td>\n      <td>0.52623</td>\n    </tr>\n  </tbody>\n</table>\n</div>"
     },
     "metadata": {},
     "output_type": "display_data"
    },
    {
     "name": "stdout",
     "output_type": "stream",
     "text": [
      "GBM data: (2945, 5)\n"
     ]
    },
    {
     "data": {
      "text/plain": "  UniProt_ID Mutation Interactor_UniProt_ID  Prediction  Median_Probability\n0     P46734    K200E                P27361           1             0.81740\n1     P46734    K200E                Q16512           1             0.91810\n2     P46734    K200E                Q5S007           1             0.84646\n3     P46734    K200E                Q9Y2U5           1             0.80720\n4     P46734    K200E                Q99759           1             0.85617",
      "text/html": "<div>\n<style scoped>\n    .dataframe tbody tr th:only-of-type {\n        vertical-align: middle;\n    }\n\n    .dataframe tbody tr th {\n        vertical-align: top;\n    }\n\n    .dataframe thead th {\n        text-align: right;\n    }\n</style>\n<table border=\"1\" class=\"dataframe\">\n  <thead>\n    <tr style=\"text-align: right;\">\n      <th></th>\n      <th>UniProt_ID</th>\n      <th>Mutation</th>\n      <th>Interactor_UniProt_ID</th>\n      <th>Prediction</th>\n      <th>Median_Probability</th>\n    </tr>\n  </thead>\n  <tbody>\n    <tr>\n      <th>0</th>\n      <td>P46734</td>\n      <td>K200E</td>\n      <td>P27361</td>\n      <td>1</td>\n      <td>0.81740</td>\n    </tr>\n    <tr>\n      <th>1</th>\n      <td>P46734</td>\n      <td>K200E</td>\n      <td>Q16512</td>\n      <td>1</td>\n      <td>0.91810</td>\n    </tr>\n    <tr>\n      <th>2</th>\n      <td>P46734</td>\n      <td>K200E</td>\n      <td>Q5S007</td>\n      <td>1</td>\n      <td>0.84646</td>\n    </tr>\n    <tr>\n      <th>3</th>\n      <td>P46734</td>\n      <td>K200E</td>\n      <td>Q9Y2U5</td>\n      <td>1</td>\n      <td>0.80720</td>\n    </tr>\n    <tr>\n      <th>4</th>\n      <td>P46734</td>\n      <td>K200E</td>\n      <td>Q99759</td>\n      <td>1</td>\n      <td>0.85617</td>\n    </tr>\n  </tbody>\n</table>\n</div>"
     },
     "metadata": {},
     "output_type": "display_data"
    },
    {
     "name": "stdout",
     "output_type": "stream",
     "text": [
      "HNSC data: (4003, 5)\n"
     ]
    },
    {
     "data": {
      "text/plain": "  UniProt_ID Mutation Interactor_UniProt_ID  Prediction  Median_Probability\n0     Q13485    R361H                B7Z5N5           0             0.45127\n1     Q13485    R361H                Q68DB7           0             0.47297\n2     Q13485    R361H                Q53XR6           0             0.42872\n3     Q9Y566   R2148H                Q9BYB0           0             0.19476\n4     O15116     L87I                Q9Y333           1             0.83768",
      "text/html": "<div>\n<style scoped>\n    .dataframe tbody tr th:only-of-type {\n        vertical-align: middle;\n    }\n\n    .dataframe tbody tr th {\n        vertical-align: top;\n    }\n\n    .dataframe thead th {\n        text-align: right;\n    }\n</style>\n<table border=\"1\" class=\"dataframe\">\n  <thead>\n    <tr style=\"text-align: right;\">\n      <th></th>\n      <th>UniProt_ID</th>\n      <th>Mutation</th>\n      <th>Interactor_UniProt_ID</th>\n      <th>Prediction</th>\n      <th>Median_Probability</th>\n    </tr>\n  </thead>\n  <tbody>\n    <tr>\n      <th>0</th>\n      <td>Q13485</td>\n      <td>R361H</td>\n      <td>B7Z5N5</td>\n      <td>0</td>\n      <td>0.45127</td>\n    </tr>\n    <tr>\n      <th>1</th>\n      <td>Q13485</td>\n      <td>R361H</td>\n      <td>Q68DB7</td>\n      <td>0</td>\n      <td>0.47297</td>\n    </tr>\n    <tr>\n      <th>2</th>\n      <td>Q13485</td>\n      <td>R361H</td>\n      <td>Q53XR6</td>\n      <td>0</td>\n      <td>0.42872</td>\n    </tr>\n    <tr>\n      <th>3</th>\n      <td>Q9Y566</td>\n      <td>R2148H</td>\n      <td>Q9BYB0</td>\n      <td>0</td>\n      <td>0.19476</td>\n    </tr>\n    <tr>\n      <th>4</th>\n      <td>O15116</td>\n      <td>L87I</td>\n      <td>Q9Y333</td>\n      <td>1</td>\n      <td>0.83768</td>\n    </tr>\n  </tbody>\n</table>\n</div>"
     },
     "metadata": {},
     "output_type": "display_data"
    },
    {
     "name": "stdout",
     "output_type": "stream",
     "text": [
      "OV data: (2513, 5)\n"
     ]
    },
    {
     "data": {
      "text/plain": "  UniProt_ID Mutation Interactor_UniProt_ID  Prediction  Median_Probability\n0     P08134     D59E                P52565           0             0.28821\n1     P62993      A3V                Q9H8V3           0             0.44397\n2     P62993      A3V                Q14155           1             0.51214\n3     O75175    Q684H                Q9NZN8           0             0.32091\n4     O75175    Q684H                B2RDX7           0             0.33470",
      "text/html": "<div>\n<style scoped>\n    .dataframe tbody tr th:only-of-type {\n        vertical-align: middle;\n    }\n\n    .dataframe tbody tr th {\n        vertical-align: top;\n    }\n\n    .dataframe thead th {\n        text-align: right;\n    }\n</style>\n<table border=\"1\" class=\"dataframe\">\n  <thead>\n    <tr style=\"text-align: right;\">\n      <th></th>\n      <th>UniProt_ID</th>\n      <th>Mutation</th>\n      <th>Interactor_UniProt_ID</th>\n      <th>Prediction</th>\n      <th>Median_Probability</th>\n    </tr>\n  </thead>\n  <tbody>\n    <tr>\n      <th>0</th>\n      <td>P08134</td>\n      <td>D59E</td>\n      <td>P52565</td>\n      <td>0</td>\n      <td>0.28821</td>\n    </tr>\n    <tr>\n      <th>1</th>\n      <td>P62993</td>\n      <td>A3V</td>\n      <td>Q9H8V3</td>\n      <td>0</td>\n      <td>0.44397</td>\n    </tr>\n    <tr>\n      <th>2</th>\n      <td>P62993</td>\n      <td>A3V</td>\n      <td>Q14155</td>\n      <td>1</td>\n      <td>0.51214</td>\n    </tr>\n    <tr>\n      <th>3</th>\n      <td>O75175</td>\n      <td>Q684H</td>\n      <td>Q9NZN8</td>\n      <td>0</td>\n      <td>0.32091</td>\n    </tr>\n    <tr>\n      <th>4</th>\n      <td>O75175</td>\n      <td>Q684H</td>\n      <td>B2RDX7</td>\n      <td>0</td>\n      <td>0.33470</td>\n    </tr>\n  </tbody>\n</table>\n</div>"
     },
     "metadata": {},
     "output_type": "display_data"
    }
   ],
   "source": [
    "print(f\"BRCA data: {brca_predictions.shape}\")\n",
    "display(brca_predictions.head())\n",
    "\n",
    "print(f\"COAD data: {coad_predictions.shape}\")\n",
    "display(coad_predictions.head())\n",
    "\n",
    "print(f\"ESCA data: {esca_predictions.shape}\")\n",
    "display(esca_predictions.head())\n",
    "\n",
    "print(f\"GBM data: {gbm_predictions.shape}\")\n",
    "display(gbm_predictions.head())\n",
    "\n",
    "print(f\"HNSC data: {hnsc_predictions.shape}\")\n",
    "display(hnsc_predictions.head())\n",
    "\n",
    "print(f\"OV data: {ov_predictions.shape}\")\n",
    "display(ov_predictions.head())"
   ],
   "metadata": {
    "collapsed": false,
    "pycharm": {
     "name": "#%%\n"
    }
   }
  },
  {
   "cell_type": "markdown",
   "source": [
    "## Initialize Cancer Validation"
   ],
   "metadata": {
    "collapsed": false
   }
  },
  {
   "cell_type": "code",
   "execution_count": 5,
   "outputs": [],
   "source": [
    "cancer_validation = CancerValidation(interfaces_data_path=H_SAPIENS_INTERFACES_ALL_PATH)"
   ],
   "metadata": {
    "collapsed": false,
    "pycharm": {
     "name": "#%%\n"
    }
   }
  },
  {
   "cell_type": "markdown",
   "source": [
    "## Validate"
   ],
   "metadata": {
    "collapsed": false
   }
  },
  {
   "cell_type": "markdown",
   "source": [
    "### BRCA"
   ],
   "metadata": {
    "collapsed": false
   }
  },
  {
   "cell_type": "code",
   "execution_count": 6,
   "outputs": [
    {
     "data": {
      "text/plain": "  0%|          | 0/3997 [00:00<?, ?it/s]",
      "application/vnd.jupyter.widget-view+json": {
       "version_major": 2,
       "version_minor": 0,
       "model_id": "aeca1c7388274c2286557152c87b78f6"
      }
     },
     "metadata": {},
     "output_type": "display_data"
    },
    {
     "name": "stdout",
     "output_type": "stream",
     "text": [
      "2022-03-09 15:32:28 |\u001B[33m WARNING  \u001B[0m| utils | Multiple entries but they were duplicated. PROTEIN: A0AVT1, INTERACTOR: P62837\n",
      "2022-03-09 15:32:43 |\u001B[33m WARNING  \u001B[0m| utils | Multiple entries but they were duplicated. PROTEIN: P06401, INTERACTOR: P03372\n",
      "2022-03-09 15:33:07 |\u001B[33m WARNING  \u001B[0m| utils | Multiple entries but they were duplicated. PROTEIN: A0AVT1, INTERACTOR: P62837\n",
      "2022-03-09 15:33:15 |\u001B[33m WARNING  \u001B[0m| utils | Multiple entries but they were duplicated. PROTEIN: P06401, INTERACTOR: P03372\n",
      "2022-03-09 15:33:42 |\u001B[33m WARNING  \u001B[0m| utils | Multiple entries but they were duplicated. PROTEIN: O60684, INTERACTOR: Q14974\n"
     ]
    },
    {
     "data": {
      "text/plain": "<Figure size 432x288 with 1 Axes>",
      "image/png": "[encoded data removed]"
     },
     "metadata": {
      "needs_background": "light"
     },
     "output_type": "display_data"
    },
    {
     "data": {
      "text/plain": "<Figure size 432x288 with 1 Axes>",
      "image/png": "[encoded data removed]"
     },
     "metadata": {
      "needs_background": "light"
     },
     "output_type": "display_data"
    }
   ],
   "source": [
    "brca_output = cancer_validation.validate(\"BRCA\", brca_predictions)"
   ],
   "metadata": {
    "collapsed": false,
    "pycharm": {
     "name": "#%%\n"
    }
   }
  },
  {
   "cell_type": "code",
   "execution_count": 7,
   "outputs": [
    {
     "data": {
      "text/plain": "   TCGA  #_Entries  #_Disruptive  #_Non_disruptive  ACCURACY  \\\n0  BRCA       3997           862              1059  0.484643   \n\n   BALANCED_ACCURACY        F1  PRECISION    RECALL  MATTHEWS_COR  \n0           0.483266  0.515181   0.535097  0.496695       -0.0333  ",
      "text/html": "<div>\n<style scoped>\n    .dataframe tbody tr th:only-of-type {\n        vertical-align: middle;\n    }\n\n    .dataframe tbody tr th {\n        vertical-align: top;\n    }\n\n    .dataframe thead th {\n        text-align: right;\n    }\n</style>\n<table border=\"1\" class=\"dataframe\">\n  <thead>\n    <tr style=\"text-align: right;\">\n      <th></th>\n      <th>TCGA</th>\n      <th>#_Entries</th>\n      <th>#_Disruptive</th>\n      <th>#_Non_disruptive</th>\n      <th>ACCURACY</th>\n      <th>BALANCED_ACCURACY</th>\n      <th>F1</th>\n      <th>PRECISION</th>\n      <th>RECALL</th>\n      <th>MATTHEWS_COR</th>\n    </tr>\n  </thead>\n  <tbody>\n    <tr>\n      <th>0</th>\n      <td>BRCA</td>\n      <td>3997</td>\n      <td>862</td>\n      <td>1059</td>\n      <td>0.484643</td>\n      <td>0.483266</td>\n      <td>0.515181</td>\n      <td>0.535097</td>\n      <td>0.496695</td>\n      <td>-0.0333</td>\n    </tr>\n  </tbody>\n</table>\n</div>"
     },
     "execution_count": 7,
     "metadata": {},
     "output_type": "execute_result"
    }
   ],
   "source": [
    "brca_output[\"metrics_data\"]"
   ],
   "metadata": {
    "collapsed": false,
    "pycharm": {
     "name": "#%%\n"
    }
   }
  },
  {
   "cell_type": "markdown",
   "source": [
    "### COAD"
   ],
   "metadata": {
    "collapsed": false
   }
  },
  {
   "cell_type": "code",
   "execution_count": 8,
   "outputs": [
    {
     "data": {
      "text/plain": "  0%|          | 0/7517 [00:00<?, ?it/s]",
      "application/vnd.jupyter.widget-view+json": {
       "version_major": 2,
       "version_minor": 0,
       "model_id": "88e0e5933abf4e0bbcf9176f7d81da9a"
      }
     },
     "metadata": {},
     "output_type": "display_data"
    },
    {
     "name": "stdout",
     "output_type": "stream",
     "text": [
      "2022-03-09 15:35:45 |\u001B[33m WARNING  \u001B[0m| utils | Multiple entries but they were duplicated. PROTEIN: P03372, INTERACTOR: P06401\n",
      "2022-03-09 15:35:52 |\u001B[33m WARNING  \u001B[0m| utils | Multiple entries but they were duplicated. PROTEIN: O60684, INTERACTOR: Q14974\n",
      "2022-03-09 15:36:18 |\u001B[33m WARNING  \u001B[0m| utils | Multiple entries but they were duplicated. PROTEIN: P41743, INTERACTOR: Q96L34\n",
      "2022-03-09 15:36:29 |\u001B[33m WARNING  \u001B[0m| utils | Multiple entries but they were duplicated. PROTEIN: Q9UQB9, INTERACTOR: Q96GD4\n",
      "2022-03-09 15:36:46 |\u001B[33m WARNING  \u001B[0m| utils | Multiple entries but they were duplicated. PROTEIN: P03372, INTERACTOR: P06401\n",
      "2022-03-09 15:36:51 |\u001B[33m WARNING  \u001B[0m| utils | Multiple entries but they were duplicated. PROTEIN: Q9UQB9, INTERACTOR: Q96GD4\n",
      "2022-03-09 15:37:08 |\u001B[33m WARNING  \u001B[0m| utils | Multiple entries but they were duplicated. PROTEIN: P52294, INTERACTOR: Q14974\n",
      "2022-03-09 15:37:19 |\u001B[31m ERROR    \u001B[0m| utils | MultipleEntryError with following data: \n"
     ]
    },
    {
     "data": {
      "text/plain": "            P1      P2                                            P1_IRES  \\\n103812  Q6UXL0  Q9NYY1  [40, 46, 49, 51, 53, 55, 56, 73, 74, 77, 78, 8...   \n122523  Q6UXL0  Q9NYY1  [39, 40, 44, 49, 51, 53, 55, 56, 58, 60, 62, 6...   \n\n                                                  P2_IRES  \n103812  [35, 43, 60, 61, 71, 88, 91, 92, 96, 107, 110,...  \n122523  [29, 32, 35, 40, 41, 43, 50, 55, 56, 60, 61, 6...  ",
      "text/html": "<div>\n<style scoped>\n    .dataframe tbody tr th:only-of-type {\n        vertical-align: middle;\n    }\n\n    .dataframe tbody tr th {\n        vertical-align: top;\n    }\n\n    .dataframe thead th {\n        text-align: right;\n    }\n</style>\n<table border=\"1\" class=\"dataframe\">\n  <thead>\n    <tr style=\"text-align: right;\">\n      <th></th>\n      <th>P1</th>\n      <th>P2</th>\n      <th>P1_IRES</th>\n      <th>P2_IRES</th>\n    </tr>\n  </thead>\n  <tbody>\n    <tr>\n      <th>103812</th>\n      <td>Q6UXL0</td>\n      <td>Q9NYY1</td>\n      <td>[40, 46, 49, 51, 53, 55, 56, 73, 74, 77, 78, 8...</td>\n      <td>[35, 43, 60, 61, 71, 88, 91, 92, 96, 107, 110,...</td>\n    </tr>\n    <tr>\n      <th>122523</th>\n      <td>Q6UXL0</td>\n      <td>Q9NYY1</td>\n      <td>[39, 40, 44, 49, 51, 53, 55, 56, 58, 60, 62, 6...</td>\n      <td>[29, 32, 35, 40, 41, 43, 50, 55, 56, 60, 61, 6...</td>\n    </tr>\n  </tbody>\n</table>\n</div>"
     },
     "metadata": {},
     "output_type": "display_data"
    },
    {
     "name": "stdout",
     "output_type": "stream",
     "text": [
      "2022-03-09 15:37:19 |\u001B[31m ERROR    \u001B[0m| utils | Returned RES: ['101', '101', '110', '114', '114', '118', '118', '119', '120', '121', '123', '124', '126', '129', '130', '130', '132', '135', '135', '137', '137', '139', '140', '140', '148', '148', '149', '150', '150', '158', '166', '170', '172', '172', '174', '174', '175', '178', '180', '184', '191', '194', '194', '197', '197', '198', '198', '204', '208', '211', '213', '213', '214', '214', '215', '215', '217', '217', '218', '218', '220', '220', '221', '221', '39', '40', '40', '44', '46', '49', '49', '51', '51', '53', '53', '55', '55', '56', '56', '58', '60', '62', '63', '65', '73', '73', '74', '74', '77', '77', '78', '78', '80', '80', '81', '81', '82', '82', '83', '83', '84', '84', '85', '85', '87', '88', '88', '90', '91', '91', '92', '95', '98', '98']\n",
      "2022-03-09 15:37:23 |\u001B[33m WARNING  \u001B[0m| utils | Multiple entries but they were duplicated. PROTEIN: P41743, INTERACTOR: Q96L34\n",
      "2022-03-09 15:37:28 |\u001B[33m WARNING  \u001B[0m| utils | Multiple entries but they were duplicated. PROTEIN: P55072, INTERACTOR: O94888\n",
      "2022-03-09 15:39:20 |\u001B[33m WARNING  \u001B[0m| utils | Multiple entries but they were duplicated. PROTEIN: O00329, INTERACTOR: P27986\n"
     ]
    },
    {
     "data": {
      "text/plain": "<Figure size 432x288 with 1 Axes>",
      "image/png": "[encoded data removed]"
     },
     "metadata": {
      "needs_background": "light"
     },
     "output_type": "display_data"
    },
    {
     "data": {
      "text/plain": "<Figure size 432x288 with 1 Axes>",
      "image/png": "[encoded data removed]"
     },
     "metadata": {
      "needs_background": "light"
     },
     "output_type": "display_data"
    }
   ],
   "source": [
    "coad_output = cancer_validation.validate(\"COAD\", coad_predictions)"
   ],
   "metadata": {
    "collapsed": false,
    "pycharm": {
     "name": "#%%\n"
    }
   }
  },
  {
   "cell_type": "code",
   "execution_count": 9,
   "outputs": [
    {
     "data": {
      "text/plain": "  0%|          | 0/7517 [00:00<?, ?it/s]",
      "application/vnd.jupyter.widget-view+json": {
       "version_major": 2,
       "version_minor": 0,
       "model_id": "c7a6105dfe4a4fe39297fa67c4b68772"
      }
     },
     "metadata": {},
     "output_type": "display_data"
    },
    {
     "name": "stdout",
     "output_type": "stream",
     "text": [
      "2022-03-09 15:41:23 |\u001B[33m WARNING  \u001B[0m| utils | Multiple entries but they were duplicated. PROTEIN: P03372, INTERACTOR: P06401\n",
      "2022-03-09 15:41:29 |\u001B[33m WARNING  \u001B[0m| utils | Multiple entries but they were duplicated. PROTEIN: O60684, INTERACTOR: Q14974\n",
      "2022-03-09 15:41:56 |\u001B[33m WARNING  \u001B[0m| utils | Multiple entries but they were duplicated. PROTEIN: P41743, INTERACTOR: Q96L34\n",
      "2022-03-09 15:42:07 |\u001B[33m WARNING  \u001B[0m| utils | Multiple entries but they were duplicated. PROTEIN: Q9UQB9, INTERACTOR: Q96GD4\n",
      "2022-03-09 15:42:24 |\u001B[33m WARNING  \u001B[0m| utils | Multiple entries but they were duplicated. PROTEIN: P03372, INTERACTOR: P06401\n",
      "2022-03-09 15:42:28 |\u001B[33m WARNING  \u001B[0m| utils | Multiple entries but they were duplicated. PROTEIN: Q9UQB9, INTERACTOR: Q96GD4\n",
      "2022-03-09 15:42:46 |\u001B[33m WARNING  \u001B[0m| utils | Multiple entries but they were duplicated. PROTEIN: P52294, INTERACTOR: Q14974\n",
      "2022-03-09 15:42:57 |\u001B[31m ERROR    \u001B[0m| utils | MultipleEntryError with following data: \n"
     ]
    },
    {
     "data": {
      "text/plain": "            P1      P2                                            P1_IRES  \\\n103812  Q6UXL0  Q9NYY1  [40, 46, 49, 51, 53, 55, 56, 73, 74, 77, 78, 8...   \n122523  Q6UXL0  Q9NYY1  [39, 40, 44, 49, 51, 53, 55, 56, 58, 60, 62, 6...   \n\n                                                  P2_IRES  \n103812  [35, 43, 60, 61, 71, 88, 91, 92, 96, 107, 110,...  \n122523  [29, 32, 35, 40, 41, 43, 50, 55, 56, 60, 61, 6...  ",
      "text/html": "<div>\n<style scoped>\n    .dataframe tbody tr th:only-of-type {\n        vertical-align: middle;\n    }\n\n    .dataframe tbody tr th {\n        vertical-align: top;\n    }\n\n    .dataframe thead th {\n        text-align: right;\n    }\n</style>\n<table border=\"1\" class=\"dataframe\">\n  <thead>\n    <tr style=\"text-align: right;\">\n      <th></th>\n      <th>P1</th>\n      <th>P2</th>\n      <th>P1_IRES</th>\n      <th>P2_IRES</th>\n    </tr>\n  </thead>\n  <tbody>\n    <tr>\n      <th>103812</th>\n      <td>Q6UXL0</td>\n      <td>Q9NYY1</td>\n      <td>[40, 46, 49, 51, 53, 55, 56, 73, 74, 77, 78, 8...</td>\n      <td>[35, 43, 60, 61, 71, 88, 91, 92, 96, 107, 110,...</td>\n    </tr>\n    <tr>\n      <th>122523</th>\n      <td>Q6UXL0</td>\n      <td>Q9NYY1</td>\n      <td>[39, 40, 44, 49, 51, 53, 55, 56, 58, 60, 62, 6...</td>\n      <td>[29, 32, 35, 40, 41, 43, 50, 55, 56, 60, 61, 6...</td>\n    </tr>\n  </tbody>\n</table>\n</div>"
     },
     "metadata": {},
     "output_type": "display_data"
    },
    {
     "name": "stdout",
     "output_type": "stream",
     "text": [
      "2022-03-09 15:42:57 |\u001B[31m ERROR    \u001B[0m| utils | Returned RES: ['101', '101', '110', '114', '114', '118', '118', '119', '120', '121', '123', '124', '126', '129', '130', '130', '132', '135', '135', '137', '137', '139', '140', '140', '148', '148', '149', '150', '150', '158', '166', '170', '172', '172', '174', '174', '175', '178', '180', '184', '191', '194', '194', '197', '197', '198', '198', '204', '208', '211', '213', '213', '214', '214', '215', '215', '217', '217', '218', '218', '220', '220', '221', '221', '39', '40', '40', '44', '46', '49', '49', '51', '51', '53', '53', '55', '55', '56', '56', '58', '60', '62', '63', '65', '73', '73', '74', '74', '77', '77', '78', '78', '80', '80', '81', '81', '82', '82', '83', '83', '84', '84', '85', '85', '87', '88', '88', '90', '91', '91', '92', '95', '98', '98']\n",
      "2022-03-09 15:43:01 |\u001B[33m WARNING  \u001B[0m| utils | Multiple entries but they were duplicated. PROTEIN: P41743, INTERACTOR: Q96L34\n",
      "2022-03-09 15:43:06 |\u001B[33m WARNING  \u001B[0m| utils | Multiple entries but they were duplicated. PROTEIN: P55072, INTERACTOR: O94888\n",
      "2022-03-09 15:44:57 |\u001B[33m WARNING  \u001B[0m| utils | Multiple entries but they were duplicated. PROTEIN: O00329, INTERACTOR: P27986\n"
     ]
    },
    {
     "data": {
      "text/plain": "<Figure size 432x288 with 1 Axes>",
      "image/png": "[encoded data removed]"
     },
     "metadata": {
      "needs_background": "light"
     },
     "output_type": "display_data"
    },
    {
     "data": {
      "text/plain": "<Figure size 432x288 with 1 Axes>",
      "image/png": "[encoded data removed]"
     },
     "metadata": {
      "needs_background": "light"
     },
     "output_type": "display_data"
    }
   ],
   "source": [
    "coad_output = cancer_validation.validate(\"COAD\", coad_predictions)"
   ],
   "metadata": {
    "collapsed": false,
    "pycharm": {
     "name": "#%%\n"
    }
   }
  },
  {
   "cell_type": "code",
   "execution_count": 10,
   "outputs": [
    {
     "data": {
      "text/plain": "   TCGA  #_Entries  #_Disruptive  #_Non_disruptive  ACCURACY  \\\n0  COAD       7517          1693              1908   0.50847   \n\n   BALANCED_ACCURACY        F1  PRECISION    RECALL  MATTHEWS_COR  \n0           0.508775  0.520585   0.538677  0.503669      0.017519  ",
      "text/html": "<div>\n<style scoped>\n    .dataframe tbody tr th:only-of-type {\n        vertical-align: middle;\n    }\n\n    .dataframe tbody tr th {\n        vertical-align: top;\n    }\n\n    .dataframe thead th {\n        text-align: right;\n    }\n</style>\n<table border=\"1\" class=\"dataframe\">\n  <thead>\n    <tr style=\"text-align: right;\">\n      <th></th>\n      <th>TCGA</th>\n      <th>#_Entries</th>\n      <th>#_Disruptive</th>\n      <th>#_Non_disruptive</th>\n      <th>ACCURACY</th>\n      <th>BALANCED_ACCURACY</th>\n      <th>F1</th>\n      <th>PRECISION</th>\n      <th>RECALL</th>\n      <th>MATTHEWS_COR</th>\n    </tr>\n  </thead>\n  <tbody>\n    <tr>\n      <th>0</th>\n      <td>COAD</td>\n      <td>7517</td>\n      <td>1693</td>\n      <td>1908</td>\n      <td>0.50847</td>\n      <td>0.508775</td>\n      <td>0.520585</td>\n      <td>0.538677</td>\n      <td>0.503669</td>\n      <td>0.017519</td>\n    </tr>\n  </tbody>\n</table>\n</div>"
     },
     "execution_count": 10,
     "metadata": {},
     "output_type": "execute_result"
    }
   ],
   "source": [
    "coad_output[\"metrics_data\"]"
   ],
   "metadata": {
    "collapsed": false,
    "pycharm": {
     "name": "#%%\n"
    }
   }
  },
  {
   "cell_type": "markdown",
   "source": [
    "### ESCA"
   ],
   "metadata": {
    "collapsed": false
   }
  },
  {
   "cell_type": "code",
   "execution_count": 11,
   "outputs": [
    {
     "data": {
      "text/plain": "  0%|          | 0/1194 [00:00<?, ?it/s]",
      "application/vnd.jupyter.widget-view+json": {
       "version_major": 2,
       "version_minor": 0,
       "model_id": "9873dd69b3f04d37b8427d20d8dfcbdd"
      }
     },
     "metadata": {},
     "output_type": "display_data"
    },
    {
     "data": {
      "text/plain": "<Figure size 432x288 with 1 Axes>",
      "image/png": "[encoded data removed]"
     },
     "metadata": {
      "needs_background": "light"
     },
     "output_type": "display_data"
    },
    {
     "data": {
      "text/plain": "<Figure size 432x288 with 1 Axes>",
      "image/png": "[encoded data removed]"
     },
     "metadata": {
      "needs_background": "light"
     },
     "output_type": "display_data"
    }
   ],
   "source": [
    "esca_output = cancer_validation.validate(\"ESCA\", esca_predictions)"
   ],
   "metadata": {
    "collapsed": false,
    "pycharm": {
     "name": "#%%\n"
    }
   }
  },
  {
   "cell_type": "code",
   "execution_count": 12,
   "outputs": [
    {
     "data": {
      "text/plain": "   TCGA  #_Entries  #_Disruptive  #_Non_disruptive  ACCURACY  \\\n0  ESCA       1194           283               272  0.452252   \n\n   BALANCED_ACCURACY        F1  PRECISION    RECALL  MATTHEWS_COR  \n0           0.452609  0.457143   0.444444  0.470588     -0.094832  ",
      "text/html": "<div>\n<style scoped>\n    .dataframe tbody tr th:only-of-type {\n        vertical-align: middle;\n    }\n\n    .dataframe tbody tr th {\n        vertical-align: top;\n    }\n\n    .dataframe thead th {\n        text-align: right;\n    }\n</style>\n<table border=\"1\" class=\"dataframe\">\n  <thead>\n    <tr style=\"text-align: right;\">\n      <th></th>\n      <th>TCGA</th>\n      <th>#_Entries</th>\n      <th>#_Disruptive</th>\n      <th>#_Non_disruptive</th>\n      <th>ACCURACY</th>\n      <th>BALANCED_ACCURACY</th>\n      <th>F1</th>\n      <th>PRECISION</th>\n      <th>RECALL</th>\n      <th>MATTHEWS_COR</th>\n    </tr>\n  </thead>\n  <tbody>\n    <tr>\n      <th>0</th>\n      <td>ESCA</td>\n      <td>1194</td>\n      <td>283</td>\n      <td>272</td>\n      <td>0.452252</td>\n      <td>0.452609</td>\n      <td>0.457143</td>\n      <td>0.444444</td>\n      <td>0.470588</td>\n      <td>-0.094832</td>\n    </tr>\n  </tbody>\n</table>\n</div>"
     },
     "execution_count": 12,
     "metadata": {},
     "output_type": "execute_result"
    }
   ],
   "source": [
    "esca_output[\"metrics_data\"]"
   ],
   "metadata": {
    "collapsed": false,
    "pycharm": {
     "name": "#%%\n"
    }
   }
  },
  {
   "cell_type": "markdown",
   "source": [
    "### GBM"
   ],
   "metadata": {
    "collapsed": false
   }
  },
  {
   "cell_type": "code",
   "execution_count": 13,
   "outputs": [
    {
     "data": {
      "text/plain": "  0%|          | 0/2945 [00:00<?, ?it/s]",
      "application/vnd.jupyter.widget-view+json": {
       "version_major": 2,
       "version_minor": 0,
       "model_id": "e25c304489f240009ea9b170e575a823"
      }
     },
     "metadata": {},
     "output_type": "display_data"
    },
    {
     "name": "stdout",
     "output_type": "stream",
     "text": [
      "2022-03-09 15:47:53 |\u001B[33m WARNING  \u001B[0m| utils | Multiple entries but they were duplicated. PROTEIN: P06401, INTERACTOR: P03372\n",
      "2022-03-09 15:48:02 |\u001B[33m WARNING  \u001B[0m| utils | Multiple entries but they were duplicated. PROTEIN: O60684, INTERACTOR: Q14974\n",
      "2022-03-09 15:48:07 |\u001B[33m WARNING  \u001B[0m| utils | Multiple entries but they were duplicated. PROTEIN: P41743, INTERACTOR: Q96L34\n",
      "2022-03-09 15:48:20 |\u001B[33m WARNING  \u001B[0m| utils | Multiple entries but they were duplicated. PROTEIN: Q13188, INTERACTOR: Q9NRM7\n",
      "2022-03-09 15:48:28 |\u001B[31m ERROR    \u001B[0m| utils | MultipleEntryError with following data: \n"
     ]
    },
    {
     "data": {
      "text/plain": "            P1      P2                                            P1_IRES  \\\n103812  Q6UXL0  Q9NYY1  [40, 46, 49, 51, 53, 55, 56, 73, 74, 77, 78, 8...   \n122523  Q6UXL0  Q9NYY1  [39, 40, 44, 49, 51, 53, 55, 56, 58, 60, 62, 6...   \n\n                                                  P2_IRES  \n103812  [35, 43, 60, 61, 71, 88, 91, 92, 96, 107, 110,...  \n122523  [29, 32, 35, 40, 41, 43, 50, 55, 56, 60, 61, 6...  ",
      "text/html": "<div>\n<style scoped>\n    .dataframe tbody tr th:only-of-type {\n        vertical-align: middle;\n    }\n\n    .dataframe tbody tr th {\n        vertical-align: top;\n    }\n\n    .dataframe thead th {\n        text-align: right;\n    }\n</style>\n<table border=\"1\" class=\"dataframe\">\n  <thead>\n    <tr style=\"text-align: right;\">\n      <th></th>\n      <th>P1</th>\n      <th>P2</th>\n      <th>P1_IRES</th>\n      <th>P2_IRES</th>\n    </tr>\n  </thead>\n  <tbody>\n    <tr>\n      <th>103812</th>\n      <td>Q6UXL0</td>\n      <td>Q9NYY1</td>\n      <td>[40, 46, 49, 51, 53, 55, 56, 73, 74, 77, 78, 8...</td>\n      <td>[35, 43, 60, 61, 71, 88, 91, 92, 96, 107, 110,...</td>\n    </tr>\n    <tr>\n      <th>122523</th>\n      <td>Q6UXL0</td>\n      <td>Q9NYY1</td>\n      <td>[39, 40, 44, 49, 51, 53, 55, 56, 58, 60, 62, 6...</td>\n      <td>[29, 32, 35, 40, 41, 43, 50, 55, 56, 60, 61, 6...</td>\n    </tr>\n  </tbody>\n</table>\n</div>"
     },
     "metadata": {},
     "output_type": "display_data"
    },
    {
     "name": "stdout",
     "output_type": "stream",
     "text": [
      "2022-03-09 15:48:28 |\u001B[31m ERROR    \u001B[0m| utils | Returned RES: ['103', '106', '107', '107', '110', '110', '111', '113', '113', '114', '114', '117', '117', '121', '124', '125', '125', '126', '127', '127', '128', '129', '129', '130', '130', '133', '136', '150', '151', '153', '166', '29', '32', '35', '35', '40', '41', '43', '43', '50', '55', '56', '60', '60', '61', '61', '62', '63', '71', '71', '72', '74', '75', '88', '88', '91', '91', '92', '92', '93', '96', '96', '97']\n",
      "2022-03-09 15:48:35 |\u001B[33m WARNING  \u001B[0m| utils | Multiple entries but they were duplicated. PROTEIN: Q96L34, INTERACTOR: P41743\n",
      "2022-03-09 15:48:47 |\u001B[33m WARNING  \u001B[0m| utils | Multiple entries but they were duplicated. PROTEIN: Q96L34, INTERACTOR: P41743\n"
     ]
    },
    {
     "data": {
      "text/plain": "<Figure size 432x288 with 1 Axes>",
      "image/png": "[encoded data removed]"
     },
     "metadata": {
      "needs_background": "light"
     },
     "output_type": "display_data"
    },
    {
     "data": {
      "text/plain": "<Figure size 432x288 with 1 Axes>",
      "image/png": "[encoded data removed]"
     },
     "metadata": {
      "needs_background": "light"
     },
     "output_type": "display_data"
    }
   ],
   "source": [
    "gbm_output = cancer_validation.validate(\"GBM\", gbm_predictions)"
   ],
   "metadata": {
    "collapsed": false,
    "pycharm": {
     "name": "#%%\n"
    }
   }
  },
  {
   "cell_type": "code",
   "execution_count": 14,
   "outputs": [
    {
     "data": {
      "text/plain": "  TCGA  #_Entries  #_Disruptive  #_Non_disruptive  ACCURACY  \\\n0  GBM       2945           595               773  0.525585   \n\n   BALANCED_ACCURACY        F1  PRECISION    RECALL  MATTHEWS_COR  \n0           0.523123  0.563551   0.586835  0.542044      0.045897  ",
      "text/html": "<div>\n<style scoped>\n    .dataframe tbody tr th:only-of-type {\n        vertical-align: middle;\n    }\n\n    .dataframe tbody tr th {\n        vertical-align: top;\n    }\n\n    .dataframe thead th {\n        text-align: right;\n    }\n</style>\n<table border=\"1\" class=\"dataframe\">\n  <thead>\n    <tr style=\"text-align: right;\">\n      <th></th>\n      <th>TCGA</th>\n      <th>#_Entries</th>\n      <th>#_Disruptive</th>\n      <th>#_Non_disruptive</th>\n      <th>ACCURACY</th>\n      <th>BALANCED_ACCURACY</th>\n      <th>F1</th>\n      <th>PRECISION</th>\n      <th>RECALL</th>\n      <th>MATTHEWS_COR</th>\n    </tr>\n  </thead>\n  <tbody>\n    <tr>\n      <th>0</th>\n      <td>GBM</td>\n      <td>2945</td>\n      <td>595</td>\n      <td>773</td>\n      <td>0.525585</td>\n      <td>0.523123</td>\n      <td>0.563551</td>\n      <td>0.586835</td>\n      <td>0.542044</td>\n      <td>0.045897</td>\n    </tr>\n  </tbody>\n</table>\n</div>"
     },
     "execution_count": 14,
     "metadata": {},
     "output_type": "execute_result"
    }
   ],
   "source": [
    "gbm_output[\"metrics_data\"]"
   ],
   "metadata": {
    "collapsed": false,
    "pycharm": {
     "name": "#%%\n"
    }
   }
  },
  {
   "cell_type": "markdown",
   "source": [
    "### HNSC"
   ],
   "metadata": {
    "collapsed": false
   }
  },
  {
   "cell_type": "code",
   "execution_count": 15,
   "outputs": [
    {
     "data": {
      "text/plain": "  0%|          | 0/4003 [00:00<?, ?it/s]",
      "application/vnd.jupyter.widget-view+json": {
       "version_major": 2,
       "version_minor": 0,
       "model_id": "3f488fbff1bd4d49b4b422aeede582c4"
      }
     },
     "metadata": {},
     "output_type": "display_data"
    },
    {
     "name": "stdout",
     "output_type": "stream",
     "text": [
      "2022-03-09 15:49:14 |\u001B[33m WARNING  \u001B[0m| utils | Multiple entries but they were duplicated. PROTEIN: A0AVT1, INTERACTOR: P62837\n",
      "2022-03-09 15:49:28 |\u001B[33m WARNING  \u001B[0m| utils | Multiple entries but they were duplicated. PROTEIN: O60684, INTERACTOR: Q14974\n",
      "2022-03-09 15:50:09 |\u001B[33m WARNING  \u001B[0m| utils | Multiple entries but they were duplicated. PROTEIN: Q9UQB9, INTERACTOR: Q96GD4\n",
      "2022-03-09 15:51:07 |\u001B[33m WARNING  \u001B[0m| utils | Multiple entries but they were duplicated. PROTEIN: Q9UQB9, INTERACTOR: Q96GD4\n",
      "2022-03-09 15:51:11 |\u001B[33m WARNING  \u001B[0m| utils | Multiple entries but they were duplicated. PROTEIN: Q9UQB9, INTERACTOR: Q96GD4\n"
     ]
    },
    {
     "data": {
      "text/plain": "<Figure size 432x288 with 1 Axes>",
      "image/png": "[encoded data removed]"
     },
     "metadata": {
      "needs_background": "light"
     },
     "output_type": "display_data"
    },
    {
     "data": {
      "text/plain": "<Figure size 432x288 with 1 Axes>",
      "image/png": "[encoded data removed]"
     },
     "metadata": {
      "needs_background": "light"
     },
     "output_type": "display_data"
    }
   ],
   "source": [
    "hnsc_output = cancer_validation.validate(\"HNSC\", hnsc_predictions)"
   ],
   "metadata": {
    "collapsed": false,
    "pycharm": {
     "name": "#%%\n"
    }
   }
  },
  {
   "cell_type": "code",
   "execution_count": 16,
   "outputs": [
    {
     "data": {
      "text/plain": "   TCGA  #_Entries  #_Disruptive  #_Non_disruptive  ACCURACY  \\\n0  HNSC       4003           947               926  0.504538   \n\n   BALANCED_ACCURACY        F1  PRECISION    RECALL  MATTHEWS_COR  \n0           0.504368  0.494002   0.498899  0.489201       0.00874  ",
      "text/html": "<div>\n<style scoped>\n    .dataframe tbody tr th:only-of-type {\n        vertical-align: middle;\n    }\n\n    .dataframe tbody tr th {\n        vertical-align: top;\n    }\n\n    .dataframe thead th {\n        text-align: right;\n    }\n</style>\n<table border=\"1\" class=\"dataframe\">\n  <thead>\n    <tr style=\"text-align: right;\">\n      <th></th>\n      <th>TCGA</th>\n      <th>#_Entries</th>\n      <th>#_Disruptive</th>\n      <th>#_Non_disruptive</th>\n      <th>ACCURACY</th>\n      <th>BALANCED_ACCURACY</th>\n      <th>F1</th>\n      <th>PRECISION</th>\n      <th>RECALL</th>\n      <th>MATTHEWS_COR</th>\n    </tr>\n  </thead>\n  <tbody>\n    <tr>\n      <th>0</th>\n      <td>HNSC</td>\n      <td>4003</td>\n      <td>947</td>\n      <td>926</td>\n      <td>0.504538</td>\n      <td>0.504368</td>\n      <td>0.494002</td>\n      <td>0.498899</td>\n      <td>0.489201</td>\n      <td>0.00874</td>\n    </tr>\n  </tbody>\n</table>\n</div>"
     },
     "execution_count": 16,
     "metadata": {},
     "output_type": "execute_result"
    }
   ],
   "source": [
    "hnsc_output[\"metrics_data\"]"
   ],
   "metadata": {
    "collapsed": false,
    "pycharm": {
     "name": "#%%\n"
    }
   }
  },
  {
   "cell_type": "markdown",
   "source": [
    "### OV"
   ],
   "metadata": {
    "collapsed": false
   }
  },
  {
   "cell_type": "code",
   "execution_count": 17,
   "outputs": [
    {
     "data": {
      "text/plain": "  0%|          | 0/2513 [00:00<?, ?it/s]",
      "application/vnd.jupyter.widget-view+json": {
       "version_major": 2,
       "version_minor": 0,
       "model_id": "39e27695e02d4a29a9402aa73efb5420"
      }
     },
     "metadata": {},
     "output_type": "display_data"
    },
    {
     "name": "stdout",
     "output_type": "stream",
     "text": [
      "2022-03-09 15:51:47 |\u001B[33m WARNING  \u001B[0m| utils | Multiple entries but they were duplicated. PROTEIN: Q13616, INTERACTOR: Q92564\n",
      "2022-03-09 15:52:10 |\u001B[31m ERROR    \u001B[0m| utils | MultipleEntryError with following data: \n"
     ]
    },
    {
     "data": {
      "text/plain": "            P1      P2                                            P1_IRES  \\\n103812  Q6UXL0  Q9NYY1  [40, 46, 49, 51, 53, 55, 56, 73, 74, 77, 78, 8...   \n122523  Q6UXL0  Q9NYY1  [39, 40, 44, 49, 51, 53, 55, 56, 58, 60, 62, 6...   \n\n                                                  P2_IRES  \n103812  [35, 43, 60, 61, 71, 88, 91, 92, 96, 107, 110,...  \n122523  [29, 32, 35, 40, 41, 43, 50, 55, 56, 60, 61, 6...  ",
      "text/html": "<div>\n<style scoped>\n    .dataframe tbody tr th:only-of-type {\n        vertical-align: middle;\n    }\n\n    .dataframe tbody tr th {\n        vertical-align: top;\n    }\n\n    .dataframe thead th {\n        text-align: right;\n    }\n</style>\n<table border=\"1\" class=\"dataframe\">\n  <thead>\n    <tr style=\"text-align: right;\">\n      <th></th>\n      <th>P1</th>\n      <th>P2</th>\n      <th>P1_IRES</th>\n      <th>P2_IRES</th>\n    </tr>\n  </thead>\n  <tbody>\n    <tr>\n      <th>103812</th>\n      <td>Q6UXL0</td>\n      <td>Q9NYY1</td>\n      <td>[40, 46, 49, 51, 53, 55, 56, 73, 74, 77, 78, 8...</td>\n      <td>[35, 43, 60, 61, 71, 88, 91, 92, 96, 107, 110,...</td>\n    </tr>\n    <tr>\n      <th>122523</th>\n      <td>Q6UXL0</td>\n      <td>Q9NYY1</td>\n      <td>[39, 40, 44, 49, 51, 53, 55, 56, 58, 60, 62, 6...</td>\n      <td>[29, 32, 35, 40, 41, 43, 50, 55, 56, 60, 61, 6...</td>\n    </tr>\n  </tbody>\n</table>\n</div>"
     },
     "metadata": {},
     "output_type": "display_data"
    },
    {
     "name": "stdout",
     "output_type": "stream",
     "text": [
      "2022-03-09 15:52:10 |\u001B[31m ERROR    \u001B[0m| utils | Returned RES: ['101', '101', '110', '114', '114', '118', '118', '119', '120', '121', '123', '124', '126', '129', '130', '130', '132', '135', '135', '137', '137', '139', '140', '140', '148', '148', '149', '150', '150', '158', '166', '170', '172', '172', '174', '174', '175', '178', '180', '184', '191', '194', '194', '197', '197', '198', '198', '204', '208', '211', '213', '213', '214', '214', '215', '215', '217', '217', '218', '218', '220', '220', '221', '221', '39', '40', '40', '44', '46', '49', '49', '51', '51', '53', '53', '55', '55', '56', '56', '58', '60', '62', '63', '65', '73', '73', '74', '74', '77', '77', '78', '78', '80', '80', '81', '81', '82', '82', '83', '83', '84', '84', '85', '85', '87', '88', '88', '90', '91', '91', '92', '95', '98', '98']\n",
      "2022-03-09 15:52:10 |\u001B[33m WARNING  \u001B[0m| utils | Multiple entries but they were duplicated. PROTEIN: Q9UQB9, INTERACTOR: Q96GD4\n",
      "2022-03-09 15:52:30 |\u001B[33m WARNING  \u001B[0m| utils | Multiple entries but they were duplicated. PROTEIN: O00329, INTERACTOR: P27986\n",
      "2022-03-09 15:52:44 |\u001B[33m WARNING  \u001B[0m| utils | Multiple entries but they were duplicated. PROTEIN: Q13616, INTERACTOR: Q92564\n",
      "2022-03-09 15:53:16 |\u001B[33m WARNING  \u001B[0m| utils | Multiple entries but they were duplicated. PROTEIN: A0AVT1, INTERACTOR: P62837\n",
      "2022-03-09 15:53:22 |\u001B[33m WARNING  \u001B[0m| utils | Multiple entries but they were duplicated. PROTEIN: Q14974, INTERACTOR: P52294\n",
      "2022-03-09 15:53:22 |\u001B[33m WARNING  \u001B[0m| utils | Multiple entries but they were duplicated. PROTEIN: Q14974, INTERACTOR: O60684\n"
     ]
    },
    {
     "data": {
      "text/plain": "<Figure size 432x288 with 1 Axes>",
      "image/png": "[encoded data removed]"
     },
     "metadata": {
      "needs_background": "light"
     },
     "output_type": "display_data"
    },
    {
     "data": {
      "text/plain": "<Figure size 432x288 with 1 Axes>",
      "image/png": "[encoded data removed]"
     },
     "metadata": {
      "needs_background": "light"
     },
     "output_type": "display_data"
    }
   ],
   "source": [
    "ov_output = cancer_validation.validate(\"OV\", ov_predictions)"
   ],
   "metadata": {
    "collapsed": false,
    "pycharm": {
     "name": "#%%\n"
    }
   }
  },
  {
   "cell_type": "code",
   "execution_count": 18,
   "outputs": [
    {
     "data": {
      "text/plain": "  TCGA  #_Entries  #_Disruptive  #_Non_disruptive  ACCURACY  \\\n0   OV       2513           541               610  0.504778   \n\n   BALANCED_ACCURACY        F1  PRECISION   RECALL  MATTHEWS_COR  \n0           0.506651  0.504348   0.537037  0.47541      0.013304  ",
      "text/html": "<div>\n<style scoped>\n    .dataframe tbody tr th:only-of-type {\n        vertical-align: middle;\n    }\n\n    .dataframe tbody tr th {\n        vertical-align: top;\n    }\n\n    .dataframe thead th {\n        text-align: right;\n    }\n</style>\n<table border=\"1\" class=\"dataframe\">\n  <thead>\n    <tr style=\"text-align: right;\">\n      <th></th>\n      <th>TCGA</th>\n      <th>#_Entries</th>\n      <th>#_Disruptive</th>\n      <th>#_Non_disruptive</th>\n      <th>ACCURACY</th>\n      <th>BALANCED_ACCURACY</th>\n      <th>F1</th>\n      <th>PRECISION</th>\n      <th>RECALL</th>\n      <th>MATTHEWS_COR</th>\n    </tr>\n  </thead>\n  <tbody>\n    <tr>\n      <th>0</th>\n      <td>OV</td>\n      <td>2513</td>\n      <td>541</td>\n      <td>610</td>\n      <td>0.504778</td>\n      <td>0.506651</td>\n      <td>0.504348</td>\n      <td>0.537037</td>\n      <td>0.47541</td>\n      <td>0.013304</td>\n    </tr>\n  </tbody>\n</table>\n</div>"
     },
     "execution_count": 18,
     "metadata": {},
     "output_type": "execute_result"
    }
   ],
   "source": [
    "ov_output[\"metrics_data\"]"
   ],
   "metadata": {
    "collapsed": false,
    "pycharm": {
     "name": "#%%\n"
    }
   }
  },
  {
   "cell_type": "markdown",
   "source": [
    "## Combine metrics"
   ],
   "metadata": {
    "collapsed": false
   }
  },
  {
   "cell_type": "code",
   "execution_count": 19,
   "outputs": [],
   "source": [
    "metrics_merged = pd.concat(\n",
    "    [\n",
    "        brca_output[\"metrics_data\"],\n",
    "        coad_output[\"metrics_data\"],\n",
    "        esca_output[\"metrics_data\"],\n",
    "        gbm_output[\"metrics_data\"],\n",
    "        hnsc_output[\"metrics_data\"],\n",
    "        ov_output[\"metrics_data\"],\n",
    "    ]\n",
    ")"
   ],
   "metadata": {
    "collapsed": false,
    "pycharm": {
     "name": "#%%\n"
    }
   }
  },
  {
   "cell_type": "code",
   "execution_count": 20,
   "outputs": [
    {
     "data": {
      "text/plain": "   TCGA  #_Entries  #_Disruptive  #_Non_disruptive  ACCURACY  \\\n0  BRCA       3997           862              1059  0.484643   \n0  COAD       7517          1693              1908  0.508470   \n0  ESCA       1194           283               272  0.452252   \n0   GBM       2945           595               773  0.525585   \n0  HNSC       4003           947               926  0.504538   \n0    OV       2513           541               610  0.504778   \n\n   BALANCED_ACCURACY        F1  PRECISION    RECALL  MATTHEWS_COR  \n0           0.483266  0.515181   0.535097  0.496695     -0.033300  \n0           0.508775  0.520585   0.538677  0.503669      0.017519  \n0           0.452609  0.457143   0.444444  0.470588     -0.094832  \n0           0.523123  0.563551   0.586835  0.542044      0.045897  \n0           0.504368  0.494002   0.498899  0.489201      0.008740  \n0           0.506651  0.504348   0.537037  0.475410      0.013304  ",
      "text/html": "<div>\n<style scoped>\n    .dataframe tbody tr th:only-of-type {\n        vertical-align: middle;\n    }\n\n    .dataframe tbody tr th {\n        vertical-align: top;\n    }\n\n    .dataframe thead th {\n        text-align: right;\n    }\n</style>\n<table border=\"1\" class=\"dataframe\">\n  <thead>\n    <tr style=\"text-align: right;\">\n      <th></th>\n      <th>TCGA</th>\n      <th>#_Entries</th>\n      <th>#_Disruptive</th>\n      <th>#_Non_disruptive</th>\n      <th>ACCURACY</th>\n      <th>BALANCED_ACCURACY</th>\n      <th>F1</th>\n      <th>PRECISION</th>\n      <th>RECALL</th>\n      <th>MATTHEWS_COR</th>\n    </tr>\n  </thead>\n  <tbody>\n    <tr>\n      <th>0</th>\n      <td>BRCA</td>\n      <td>3997</td>\n      <td>862</td>\n      <td>1059</td>\n      <td>0.484643</td>\n      <td>0.483266</td>\n      <td>0.515181</td>\n      <td>0.535097</td>\n      <td>0.496695</td>\n      <td>-0.033300</td>\n    </tr>\n    <tr>\n      <th>0</th>\n      <td>COAD</td>\n      <td>7517</td>\n      <td>1693</td>\n      <td>1908</td>\n      <td>0.508470</td>\n      <td>0.508775</td>\n      <td>0.520585</td>\n      <td>0.538677</td>\n      <td>0.503669</td>\n      <td>0.017519</td>\n    </tr>\n    <tr>\n      <th>0</th>\n      <td>ESCA</td>\n      <td>1194</td>\n      <td>283</td>\n      <td>272</td>\n      <td>0.452252</td>\n      <td>0.452609</td>\n      <td>0.457143</td>\n      <td>0.444444</td>\n      <td>0.470588</td>\n      <td>-0.094832</td>\n    </tr>\n    <tr>\n      <th>0</th>\n      <td>GBM</td>\n      <td>2945</td>\n      <td>595</td>\n      <td>773</td>\n      <td>0.525585</td>\n      <td>0.523123</td>\n      <td>0.563551</td>\n      <td>0.586835</td>\n      <td>0.542044</td>\n      <td>0.045897</td>\n    </tr>\n    <tr>\n      <th>0</th>\n      <td>HNSC</td>\n      <td>4003</td>\n      <td>947</td>\n      <td>926</td>\n      <td>0.504538</td>\n      <td>0.504368</td>\n      <td>0.494002</td>\n      <td>0.498899</td>\n      <td>0.489201</td>\n      <td>0.008740</td>\n    </tr>\n    <tr>\n      <th>0</th>\n      <td>OV</td>\n      <td>2513</td>\n      <td>541</td>\n      <td>610</td>\n      <td>0.504778</td>\n      <td>0.506651</td>\n      <td>0.504348</td>\n      <td>0.537037</td>\n      <td>0.475410</td>\n      <td>0.013304</td>\n    </tr>\n  </tbody>\n</table>\n</div>"
     },
     "execution_count": 20,
     "metadata": {},
     "output_type": "execute_result"
    }
   ],
   "source": [
    "metrics_merged"
   ],
   "metadata": {
    "collapsed": false,
    "pycharm": {
     "name": "#%%\n"
    }
   }
  },
  {
   "cell_type": "markdown",
   "source": [
    "## Extract output dictionaries"
   ],
   "metadata": {
    "collapsed": false
   }
  },
  {
   "cell_type": "code",
   "execution_count": 21,
   "outputs": [
    {
     "name": "stdout",
     "output_type": "stream",
     "text": [
      "Object extracted successfully.\n",
      "Object extracted successfully.\n",
      "Object extracted successfully.\n",
      "Object extracted successfully.\n",
      "Object extracted successfully.\n",
      "Object extracted successfully.\n"
     ]
    }
   ],
   "source": [
    "cancer_validation.extract_output_dict(\"BRCA_output_ALL\", brca_output)\n",
    "cancer_validation.extract_output_dict(\"COAD_output_ALL\", coad_output)\n",
    "cancer_validation.extract_output_dict(\"ESCA_output_ALL\", esca_output)\n",
    "cancer_validation.extract_output_dict(\"GBM_output_ALL\", gbm_output)\n",
    "cancer_validation.extract_output_dict(\"HNSC_output_ALL\", hnsc_output)\n",
    "cancer_validation.extract_output_dict(\"OV_output_ALL\", ov_output)"
   ],
   "metadata": {
    "collapsed": false,
    "pycharm": {
     "name": "#%%\n"
    }
   }
  },
  {
   "cell_type": "markdown",
   "source": [
    "# ---------------"
   ],
   "metadata": {
    "collapsed": false
   }
  },
  {
   "cell_type": "code",
   "execution_count": null,
   "outputs": [],
   "source": [
    "# waiting for above cells to complete."
   ],
   "metadata": {
    "collapsed": false,
    "pycharm": {
     "name": "#%%\n"
    }
   }
  },
  {
   "cell_type": "code",
   "execution_count": 22,
   "outputs": [
    {
     "name": "stdout",
     "output_type": "stream",
     "text": [
      "end.\n"
     ]
    }
   ],
   "source": [
    "print(\"end.\")"
   ],
   "metadata": {
    "collapsed": false,
    "pycharm": {
     "name": "#%%\n"
    }
   }
  },
  {
   "cell_type": "code",
   "execution_count": null,
   "outputs": [],
   "source": [],
   "metadata": {
    "collapsed": false,
    "pycharm": {
     "name": "#%%\n"
    }
   }
  },
  {
   "cell_type": "code",
   "execution_count": 30,
   "outputs": [],
   "source": [
    "import pandas as pd"
   ],
   "metadata": {
    "collapsed": false,
    "pycharm": {
     "name": "#%%\n"
    }
   }
  },
  {
   "cell_type": "code",
   "execution_count": null,
   "outputs": [],
   "source": [],
   "metadata": {
    "collapsed": false,
    "pycharm": {
     "name": "#%%\n"
    }
   }
  },
  {
   "cell_type": "code",
   "execution_count": 23,
   "outputs": [],
   "source": [
    "brca_output = cancer_validation.load_output_dict(\"outputs/BRCA_output_ALL_2022-03-09.pickle\")"
   ],
   "metadata": {
    "collapsed": false,
    "pycharm": {
     "name": "#%%\n"
    }
   }
  },
  {
   "cell_type": "code",
   "execution_count": 24,
   "outputs": [
    {
     "data": {
      "text/plain": "     UniProt_ID Mutation Interactor_UniProt_ID  Prediction  \\\n0        P28062    R216W                P40306           1   \n1        Q15842    E237K                Q14654           0   \n2        Q15842    E237K                P63252           0   \n3        Q9UKS6     R24H                Q9BY11           0   \n4        Q9UKS6     R24H                Q9UNF0           0   \n...         ...      ...                   ...         ...   \n3992     P62140    F169C                P41236           0   \n3993     P61371    D207E                Q969G2           0   \n3994     P61371    D207E                Q8TE12           0   \n3995     P61371    D207E                Q96A47           0   \n3996     O75791    A276G                P46109           1   \n\n      Median_Probability      Validation  \n0                0.55345             N/A  \n1                0.48443             N/A  \n2                0.47205             N/A  \n3                0.49584      Disruptive  \n4                0.41309      Disruptive  \n...                  ...             ...  \n3992             0.41558             N/A  \n3993             0.36453  Non-disruptive  \n3994             0.33794             N/A  \n3995             0.33685             N/A  \n3996             0.57012             N/A  \n\n[3997 rows x 6 columns]",
      "text/html": "<div>\n<style scoped>\n    .dataframe tbody tr th:only-of-type {\n        vertical-align: middle;\n    }\n\n    .dataframe tbody tr th {\n        vertical-align: top;\n    }\n\n    .dataframe thead th {\n        text-align: right;\n    }\n</style>\n<table border=\"1\" class=\"dataframe\">\n  <thead>\n    <tr style=\"text-align: right;\">\n      <th></th>\n      <th>UniProt_ID</th>\n      <th>Mutation</th>\n      <th>Interactor_UniProt_ID</th>\n      <th>Prediction</th>\n      <th>Median_Probability</th>\n      <th>Validation</th>\n    </tr>\n  </thead>\n  <tbody>\n    <tr>\n      <th>0</th>\n      <td>P28062</td>\n      <td>R216W</td>\n      <td>P40306</td>\n      <td>1</td>\n      <td>0.55345</td>\n      <td>N/A</td>\n    </tr>\n    <tr>\n      <th>1</th>\n      <td>Q15842</td>\n      <td>E237K</td>\n      <td>Q14654</td>\n      <td>0</td>\n      <td>0.48443</td>\n      <td>N/A</td>\n    </tr>\n    <tr>\n      <th>2</th>\n      <td>Q15842</td>\n      <td>E237K</td>\n      <td>P63252</td>\n      <td>0</td>\n      <td>0.47205</td>\n      <td>N/A</td>\n    </tr>\n    <tr>\n      <th>3</th>\n      <td>Q9UKS6</td>\n      <td>R24H</td>\n      <td>Q9BY11</td>\n      <td>0</td>\n      <td>0.49584</td>\n      <td>Disruptive</td>\n    </tr>\n    <tr>\n      <th>4</th>\n      <td>Q9UKS6</td>\n      <td>R24H</td>\n      <td>Q9UNF0</td>\n      <td>0</td>\n      <td>0.41309</td>\n      <td>Disruptive</td>\n    </tr>\n    <tr>\n      <th>...</th>\n      <td>...</td>\n      <td>...</td>\n      <td>...</td>\n      <td>...</td>\n      <td>...</td>\n      <td>...</td>\n    </tr>\n    <tr>\n      <th>3992</th>\n      <td>P62140</td>\n      <td>F169C</td>\n      <td>P41236</td>\n      <td>0</td>\n      <td>0.41558</td>\n      <td>N/A</td>\n    </tr>\n    <tr>\n      <th>3993</th>\n      <td>P61371</td>\n      <td>D207E</td>\n      <td>Q969G2</td>\n      <td>0</td>\n      <td>0.36453</td>\n      <td>Non-disruptive</td>\n    </tr>\n    <tr>\n      <th>3994</th>\n      <td>P61371</td>\n      <td>D207E</td>\n      <td>Q8TE12</td>\n      <td>0</td>\n      <td>0.33794</td>\n      <td>N/A</td>\n    </tr>\n    <tr>\n      <th>3995</th>\n      <td>P61371</td>\n      <td>D207E</td>\n      <td>Q96A47</td>\n      <td>0</td>\n      <td>0.33685</td>\n      <td>N/A</td>\n    </tr>\n    <tr>\n      <th>3996</th>\n      <td>O75791</td>\n      <td>A276G</td>\n      <td>P46109</td>\n      <td>1</td>\n      <td>0.57012</td>\n      <td>N/A</td>\n    </tr>\n  </tbody>\n</table>\n<p>3997 rows × 6 columns</p>\n</div>"
     },
     "execution_count": 24,
     "metadata": {},
     "output_type": "execute_result"
    }
   ],
   "source": [
    "brca_data_temp = brca_output[\"data_validation\"].copy()\n",
    "brca_data_temp"
   ],
   "metadata": {
    "collapsed": false,
    "pycharm": {
     "name": "#%%\n"
    }
   }
  },
  {
   "cell_type": "code",
   "execution_count": 31,
   "outputs": [
    {
     "data": {
      "text/plain": "Validation  Disruptive   N/A  Non-disruptive\nPrediction                                  \n0                  405   980             533\n1                  457  1096             526",
      "text/html": "<div>\n<style scoped>\n    .dataframe tbody tr th:only-of-type {\n        vertical-align: middle;\n    }\n\n    .dataframe tbody tr th {\n        vertical-align: top;\n    }\n\n    .dataframe thead th {\n        text-align: right;\n    }\n</style>\n<table border=\"1\" class=\"dataframe\">\n  <thead>\n    <tr style=\"text-align: right;\">\n      <th>Validation</th>\n      <th>Disruptive</th>\n      <th>N/A</th>\n      <th>Non-disruptive</th>\n    </tr>\n    <tr>\n      <th>Prediction</th>\n      <th></th>\n      <th></th>\n      <th></th>\n    </tr>\n  </thead>\n  <tbody>\n    <tr>\n      <th>0</th>\n      <td>405</td>\n      <td>980</td>\n      <td>533</td>\n    </tr>\n    <tr>\n      <th>1</th>\n      <td>457</td>\n      <td>1096</td>\n      <td>526</td>\n    </tr>\n  </tbody>\n</table>\n</div>"
     },
     "execution_count": 31,
     "metadata": {},
     "output_type": "execute_result"
    }
   ],
   "source": [
    "pd.crosstab(brca_data_temp[\"Prediction\"], brca_data_temp[\"Validation\"])"
   ],
   "metadata": {
    "collapsed": false,
    "pycharm": {
     "name": "#%%\n"
    }
   }
  },
  {
   "cell_type": "code",
   "execution_count": 32,
   "outputs": [
    {
     "data": {
      "text/plain": "Prediction        0     1\nValidation               \nDisruptive      405   457\nN/A             980  1096\nNon-disruptive  533   526",
      "text/html": "<div>\n<style scoped>\n    .dataframe tbody tr th:only-of-type {\n        vertical-align: middle;\n    }\n\n    .dataframe tbody tr th {\n        vertical-align: top;\n    }\n\n    .dataframe thead th {\n        text-align: right;\n    }\n</style>\n<table border=\"1\" class=\"dataframe\">\n  <thead>\n    <tr style=\"text-align: right;\">\n      <th>Prediction</th>\n      <th>0</th>\n      <th>1</th>\n    </tr>\n    <tr>\n      <th>Validation</th>\n      <th></th>\n      <th></th>\n    </tr>\n  </thead>\n  <tbody>\n    <tr>\n      <th>Disruptive</th>\n      <td>405</td>\n      <td>457</td>\n    </tr>\n    <tr>\n      <th>N/A</th>\n      <td>980</td>\n      <td>1096</td>\n    </tr>\n    <tr>\n      <th>Non-disruptive</th>\n      <td>533</td>\n      <td>526</td>\n    </tr>\n  </tbody>\n</table>\n</div>"
     },
     "execution_count": 32,
     "metadata": {},
     "output_type": "execute_result"
    }
   ],
   "source": [
    "pd.crosstab(brca_data_temp[\"Validation\"], brca_data_temp[\"Prediction\"])"
   ],
   "metadata": {
    "collapsed": false,
    "pycharm": {
     "name": "#%%\n"
    }
   }
  },
  {
   "cell_type": "code",
   "execution_count": null,
   "outputs": [],
   "source": [],
   "metadata": {
    "collapsed": false,
    "pycharm": {
     "name": "#%%\n"
    }
   }
  },
  {
   "cell_type": "code",
   "execution_count": 25,
   "outputs": [],
   "source": [
    "brca_data_temp_0 = brca_data_temp[brca_data_temp[\"Prediction\"] == 0].copy()\n",
    "brca_data_temp_1 = brca_data_temp[brca_data_temp[\"Prediction\"] == 1].copy()"
   ],
   "metadata": {
    "collapsed": false,
    "pycharm": {
     "name": "#%%\n"
    }
   }
  },
  {
   "cell_type": "code",
   "execution_count": 26,
   "outputs": [
    {
     "data": {
      "text/plain": "     UniProt_ID Mutation Interactor_UniProt_ID  Prediction  \\\n1        Q15842    E237K                Q14654           0   \n2        Q15842    E237K                P63252           0   \n3        Q9UKS6     R24H                Q9BY11           0   \n4        Q9UKS6     R24H                Q9UNF0           0   \n6        Q9UKS6     R24H                Q6FIA3           0   \n...         ...      ...                   ...         ...   \n3991     P42336   H1047R                P43403           0   \n3992     P62140    F169C                P41236           0   \n3993     P61371    D207E                Q969G2           0   \n3994     P61371    D207E                Q8TE12           0   \n3995     P61371    D207E                Q96A47           0   \n\n      Median_Probability      Validation  \n1                0.48443             N/A  \n2                0.47205             N/A  \n3                0.49584      Disruptive  \n4                0.41309      Disruptive  \n6                0.40942             N/A  \n...                  ...             ...  \n3991             0.44837             N/A  \n3992             0.41558             N/A  \n3993             0.36453  Non-disruptive  \n3994             0.33794             N/A  \n3995             0.33685             N/A  \n\n[1918 rows x 6 columns]",
      "text/html": "<div>\n<style scoped>\n    .dataframe tbody tr th:only-of-type {\n        vertical-align: middle;\n    }\n\n    .dataframe tbody tr th {\n        vertical-align: top;\n    }\n\n    .dataframe thead th {\n        text-align: right;\n    }\n</style>\n<table border=\"1\" class=\"dataframe\">\n  <thead>\n    <tr style=\"text-align: right;\">\n      <th></th>\n      <th>UniProt_ID</th>\n      <th>Mutation</th>\n      <th>Interactor_UniProt_ID</th>\n      <th>Prediction</th>\n      <th>Median_Probability</th>\n      <th>Validation</th>\n    </tr>\n  </thead>\n  <tbody>\n    <tr>\n      <th>1</th>\n      <td>Q15842</td>\n      <td>E237K</td>\n      <td>Q14654</td>\n      <td>0</td>\n      <td>0.48443</td>\n      <td>N/A</td>\n    </tr>\n    <tr>\n      <th>2</th>\n      <td>Q15842</td>\n      <td>E237K</td>\n      <td>P63252</td>\n      <td>0</td>\n      <td>0.47205</td>\n      <td>N/A</td>\n    </tr>\n    <tr>\n      <th>3</th>\n      <td>Q9UKS6</td>\n      <td>R24H</td>\n      <td>Q9BY11</td>\n      <td>0</td>\n      <td>0.49584</td>\n      <td>Disruptive</td>\n    </tr>\n    <tr>\n      <th>4</th>\n      <td>Q9UKS6</td>\n      <td>R24H</td>\n      <td>Q9UNF0</td>\n      <td>0</td>\n      <td>0.41309</td>\n      <td>Disruptive</td>\n    </tr>\n    <tr>\n      <th>6</th>\n      <td>Q9UKS6</td>\n      <td>R24H</td>\n      <td>Q6FIA3</td>\n      <td>0</td>\n      <td>0.40942</td>\n      <td>N/A</td>\n    </tr>\n    <tr>\n      <th>...</th>\n      <td>...</td>\n      <td>...</td>\n      <td>...</td>\n      <td>...</td>\n      <td>...</td>\n      <td>...</td>\n    </tr>\n    <tr>\n      <th>3991</th>\n      <td>P42336</td>\n      <td>H1047R</td>\n      <td>P43403</td>\n      <td>0</td>\n      <td>0.44837</td>\n      <td>N/A</td>\n    </tr>\n    <tr>\n      <th>3992</th>\n      <td>P62140</td>\n      <td>F169C</td>\n      <td>P41236</td>\n      <td>0</td>\n      <td>0.41558</td>\n      <td>N/A</td>\n    </tr>\n    <tr>\n      <th>3993</th>\n      <td>P61371</td>\n      <td>D207E</td>\n      <td>Q969G2</td>\n      <td>0</td>\n      <td>0.36453</td>\n      <td>Non-disruptive</td>\n    </tr>\n    <tr>\n      <th>3994</th>\n      <td>P61371</td>\n      <td>D207E</td>\n      <td>Q8TE12</td>\n      <td>0</td>\n      <td>0.33794</td>\n      <td>N/A</td>\n    </tr>\n    <tr>\n      <th>3995</th>\n      <td>P61371</td>\n      <td>D207E</td>\n      <td>Q96A47</td>\n      <td>0</td>\n      <td>0.33685</td>\n      <td>N/A</td>\n    </tr>\n  </tbody>\n</table>\n<p>1918 rows × 6 columns</p>\n</div>"
     },
     "execution_count": 26,
     "metadata": {},
     "output_type": "execute_result"
    }
   ],
   "source": [
    "brca_data_temp_0"
   ],
   "metadata": {
    "collapsed": false,
    "pycharm": {
     "name": "#%%\n"
    }
   }
  },
  {
   "cell_type": "code",
   "execution_count": 27,
   "outputs": [
    {
     "name": "stdout",
     "output_type": "stream",
     "text": [
      "1918\n",
      "405\n",
      "533\n"
     ]
    }
   ],
   "source": [
    "print(len(brca_data_temp_0))\n",
    "print(len(brca_data_temp_0[brca_data_temp_0[\"Validation\"] == \"Disruptive\"]))\n",
    "print(len(brca_data_temp_0[brca_data_temp_0[\"Validation\"] == \"Non-disruptive\"]))"
   ],
   "metadata": {
    "collapsed": false,
    "pycharm": {
     "name": "#%%\n"
    }
   }
  },
  {
   "cell_type": "code",
   "execution_count": 28,
   "outputs": [
    {
     "data": {
      "text/plain": "     UniProt_ID Mutation Interactor_UniProt_ID  Prediction  \\\n0        P28062    R216W                P40306           1   \n5        Q9UKS6     R24H                Q5TZC3           1   \n7        O15041    E364K                Q9Y4D7           1   \n9        Q13418    N202K                Q9Y243           1   \n10       Q13418    N202K                O15530           1   \n...         ...      ...                   ...         ...   \n3985     P28072    M150V                P25786           1   \n3986     P28072    M150V                P28074           1   \n3987     P28072    M150V                E9KL30           1   \n3988     P42336   H1047R                Q13535           1   \n3996     O75791    A276G                P46109           1   \n\n      Median_Probability      Validation  \n0                0.55345             N/A  \n5                0.52418             N/A  \n7                0.88655      Disruptive  \n9                0.76823             N/A  \n10               0.68011             N/A  \n...                  ...             ...  \n3985             0.78066      Disruptive  \n3986             0.69063  Non-disruptive  \n3987             0.84248  Non-disruptive  \n3988             0.67625             N/A  \n3996             0.57012             N/A  \n\n[2079 rows x 6 columns]",
      "text/html": "<div>\n<style scoped>\n    .dataframe tbody tr th:only-of-type {\n        vertical-align: middle;\n    }\n\n    .dataframe tbody tr th {\n        vertical-align: top;\n    }\n\n    .dataframe thead th {\n        text-align: right;\n    }\n</style>\n<table border=\"1\" class=\"dataframe\">\n  <thead>\n    <tr style=\"text-align: right;\">\n      <th></th>\n      <th>UniProt_ID</th>\n      <th>Mutation</th>\n      <th>Interactor_UniProt_ID</th>\n      <th>Prediction</th>\n      <th>Median_Probability</th>\n      <th>Validation</th>\n    </tr>\n  </thead>\n  <tbody>\n    <tr>\n      <th>0</th>\n      <td>P28062</td>\n      <td>R216W</td>\n      <td>P40306</td>\n      <td>1</td>\n      <td>0.55345</td>\n      <td>N/A</td>\n    </tr>\n    <tr>\n      <th>5</th>\n      <td>Q9UKS6</td>\n      <td>R24H</td>\n      <td>Q5TZC3</td>\n      <td>1</td>\n      <td>0.52418</td>\n      <td>N/A</td>\n    </tr>\n    <tr>\n      <th>7</th>\n      <td>O15041</td>\n      <td>E364K</td>\n      <td>Q9Y4D7</td>\n      <td>1</td>\n      <td>0.88655</td>\n      <td>Disruptive</td>\n    </tr>\n    <tr>\n      <th>9</th>\n      <td>Q13418</td>\n      <td>N202K</td>\n      <td>Q9Y243</td>\n      <td>1</td>\n      <td>0.76823</td>\n      <td>N/A</td>\n    </tr>\n    <tr>\n      <th>10</th>\n      <td>Q13418</td>\n      <td>N202K</td>\n      <td>O15530</td>\n      <td>1</td>\n      <td>0.68011</td>\n      <td>N/A</td>\n    </tr>\n    <tr>\n      <th>...</th>\n      <td>...</td>\n      <td>...</td>\n      <td>...</td>\n      <td>...</td>\n      <td>...</td>\n      <td>...</td>\n    </tr>\n    <tr>\n      <th>3985</th>\n      <td>P28072</td>\n      <td>M150V</td>\n      <td>P25786</td>\n      <td>1</td>\n      <td>0.78066</td>\n      <td>Disruptive</td>\n    </tr>\n    <tr>\n      <th>3986</th>\n      <td>P28072</td>\n      <td>M150V</td>\n      <td>P28074</td>\n      <td>1</td>\n      <td>0.69063</td>\n      <td>Non-disruptive</td>\n    </tr>\n    <tr>\n      <th>3987</th>\n      <td>P28072</td>\n      <td>M150V</td>\n      <td>E9KL30</td>\n      <td>1</td>\n      <td>0.84248</td>\n      <td>Non-disruptive</td>\n    </tr>\n    <tr>\n      <th>3988</th>\n      <td>P42336</td>\n      <td>H1047R</td>\n      <td>Q13535</td>\n      <td>1</td>\n      <td>0.67625</td>\n      <td>N/A</td>\n    </tr>\n    <tr>\n      <th>3996</th>\n      <td>O75791</td>\n      <td>A276G</td>\n      <td>P46109</td>\n      <td>1</td>\n      <td>0.57012</td>\n      <td>N/A</td>\n    </tr>\n  </tbody>\n</table>\n<p>2079 rows × 6 columns</p>\n</div>"
     },
     "execution_count": 28,
     "metadata": {},
     "output_type": "execute_result"
    }
   ],
   "source": [
    "brca_data_temp_1"
   ],
   "metadata": {
    "collapsed": false,
    "pycharm": {
     "name": "#%%\n"
    }
   }
  },
  {
   "cell_type": "code",
   "execution_count": 29,
   "outputs": [
    {
     "name": "stdout",
     "output_type": "stream",
     "text": [
      "2079\n",
      "457\n",
      "526\n"
     ]
    }
   ],
   "source": [
    "print(len(brca_data_temp_1))\n",
    "print(len(brca_data_temp_1[brca_data_temp_1[\"Validation\"] == \"Disruptive\"]))\n",
    "print(len(brca_data_temp_1[brca_data_temp_1[\"Validation\"] == \"Non-disruptive\"]))"
   ],
   "metadata": {
    "collapsed": false,
    "pycharm": {
     "name": "#%%\n"
    }
   }
  },
  {
   "cell_type": "code",
   "execution_count": null,
   "outputs": [],
   "source": [],
   "metadata": {
    "collapsed": false,
    "pycharm": {
     "name": "#%%\n"
    }
   }
  }
 ],
 "metadata": {
  "kernelspec": {
   "display_name": "Python 3",
   "language": "python",
   "name": "python3"
  },
  "language_info": {
   "codemirror_mode": {
    "name": "ipython",
    "version": 2
   },
   "file_extension": ".py",
   "mimetype": "text/x-python",
   "name": "python",
   "nbconvert_exporter": "python",
   "pygments_lexer": "ipython2",
   "version": "2.7.6"
  }
 },
 "nbformat": 4,
 "nbformat_minor": 0
}