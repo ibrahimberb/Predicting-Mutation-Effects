{
 "cells": [
  {
   "cell_type": "markdown",
   "source": [
    "# Validation on Cancer Predictions\n",
    "\n",
    "added AUC-ROC"
   ],
   "metadata": {
    "collapsed": false
   }
  },
  {
   "cell_type": "code",
   "execution_count": 2,
   "outputs": [
    {
     "name": "stdout",
     "output_type": "stream",
     "text": [
      "\u001B[32mMarch 09, 2022 16:24:49\u001B[0m\n"
     ]
    }
   ],
   "source": [
    "from datetime import datetime\n",
    "\n",
    "print(\"\\033[32m{}\\033[0m\".format(datetime.now().strftime(\"%B %d, %Y %H:%M:%S\")))"
   ],
   "metadata": {
    "collapsed": false,
    "pycharm": {
     "name": "#%%\n"
    }
   }
  },
  {
   "cell_type": "markdown",
   "source": [
    "## Setup"
   ],
   "metadata": {
    "collapsed": false
   }
  },
  {
   "cell_type": "code",
   "execution_count": 3,
   "outputs": [],
   "source": [
    "import pandas as pd\n",
    "from IPython.display import display\n",
    "\n",
    "from utils import CancerValidation\n",
    "\n",
    "BRCA_PREDICTION_PATH = \"../../../../data/predictions_datasets/brca_prediction_2021-11-17/558297b6/predictions_soft_2021-11-17.csv\"\n",
    "COAD_PREDICTION_PATH = \"../../../../data/predictions_datasets/coad_prediction_2022-01-06/9789393f/predictions_soft_2022-01-06.csv\"\n",
    "ESCA_PREDICTION_PATH = \"../../../../data/predictions_datasets/esca_prediction_2021-11-17/59544312/predictions_soft_2021-11-17.csv\"\n",
    "GBM_PREDICTION_PATH = \"../../../../data/predictions_datasets/gbm_prediction_2021-11-17/b9cfc7ea/predictions_soft_2021-11-17.csv\"\n",
    "HNSC_PREDICTION_PATH = \"../../../../data/predictions_datasets/hnsc_prediction_2021-11-17/53930f30/predictions_soft_2021-11-17.csv\"\n",
    "OV_PREDICTION_PATH = \"../../../../data/predictions_datasets/ov_prediction_2021-11-17/37bf1637/predictions_soft_2021-11-17.csv\"\n",
    "\n",
    "H_SAPIENS_INTERFACES_ALL_PATH = \"../data/H_sapiens_interfacesALL.txt\"\n",
    "\n",
    "# Reflect changes in the modules immediately.\n",
    "%load_ext autoreload\n",
    "%autoreload 2"
   ],
   "metadata": {
    "collapsed": false,
    "pycharm": {
     "name": "#%%\n"
    }
   }
  },
  {
   "cell_type": "markdown",
   "source": [
    "## Load Cancer Prediction Datasets"
   ],
   "metadata": {
    "collapsed": false
   }
  },
  {
   "cell_type": "code",
   "execution_count": 4,
   "outputs": [],
   "source": [
    "brca_predictions = pd.read_csv(BRCA_PREDICTION_PATH)\n",
    "coad_predictions = pd.read_csv(COAD_PREDICTION_PATH)\n",
    "esca_predictions = pd.read_csv(ESCA_PREDICTION_PATH)\n",
    "gbm_predictions = pd.read_csv(GBM_PREDICTION_PATH)\n",
    "hnsc_predictions = pd.read_csv(HNSC_PREDICTION_PATH)\n",
    "ov_predictions = pd.read_csv(OV_PREDICTION_PATH)"
   ],
   "metadata": {
    "collapsed": false,
    "pycharm": {
     "name": "#%%\n"
    }
   }
  },
  {
   "cell_type": "code",
   "execution_count": 5,
   "outputs": [
    {
     "name": "stdout",
     "output_type": "stream",
     "text": [
      "BRCA data: (3997, 5)\n"
     ]
    },
    {
     "data": {
      "text/plain": "  UniProt_ID Mutation Interactor_UniProt_ID  Prediction  Median_Probability\n0     P28062    R216W                P40306           1             0.55345\n1     Q15842    E237K                Q14654           0             0.48443\n2     Q15842    E237K                P63252           0             0.47205\n3     Q9UKS6     R24H                Q9BY11           0             0.49584\n4     Q9UKS6     R24H                Q9UNF0           0             0.41309",
      "text/html": "<div>\n<style scoped>\n    .dataframe tbody tr th:only-of-type {\n        vertical-align: middle;\n    }\n\n    .dataframe tbody tr th {\n        vertical-align: top;\n    }\n\n    .dataframe thead th {\n        text-align: right;\n    }\n</style>\n<table border=\"1\" class=\"dataframe\">\n  <thead>\n    <tr style=\"text-align: right;\">\n      <th></th>\n      <th>UniProt_ID</th>\n      <th>Mutation</th>\n      <th>Interactor_UniProt_ID</th>\n      <th>Prediction</th>\n      <th>Median_Probability</th>\n    </tr>\n  </thead>\n  <tbody>\n    <tr>\n      <th>0</th>\n      <td>P28062</td>\n      <td>R216W</td>\n      <td>P40306</td>\n      <td>1</td>\n      <td>0.55345</td>\n    </tr>\n    <tr>\n      <th>1</th>\n      <td>Q15842</td>\n      <td>E237K</td>\n      <td>Q14654</td>\n      <td>0</td>\n      <td>0.48443</td>\n    </tr>\n    <tr>\n      <th>2</th>\n      <td>Q15842</td>\n      <td>E237K</td>\n      <td>P63252</td>\n      <td>0</td>\n      <td>0.47205</td>\n    </tr>\n    <tr>\n      <th>3</th>\n      <td>Q9UKS6</td>\n      <td>R24H</td>\n      <td>Q9BY11</td>\n      <td>0</td>\n      <td>0.49584</td>\n    </tr>\n    <tr>\n      <th>4</th>\n      <td>Q9UKS6</td>\n      <td>R24H</td>\n      <td>Q9UNF0</td>\n      <td>0</td>\n      <td>0.41309</td>\n    </tr>\n  </tbody>\n</table>\n</div>"
     },
     "metadata": {},
     "output_type": "display_data"
    },
    {
     "name": "stdout",
     "output_type": "stream",
     "text": [
      "COAD data: (7517, 5)\n"
     ]
    },
    {
     "data": {
      "text/plain": "  UniProt_ID Mutation Interactor_UniProt_ID  Prediction  Median_Probability\n0     P62873    S334I                Q13371           0             0.48376\n1     Q9BXB4    N590D                Q96SU4           1             0.64160\n2     P35251    V921A                P35250           0             0.25170\n3     P08123   K1248N                P25940           1             0.78179\n4     P15056    V600E                P53667           0             0.43582",
      "text/html": "<div>\n<style scoped>\n    .dataframe tbody tr th:only-of-type {\n        vertical-align: middle;\n    }\n\n    .dataframe tbody tr th {\n        vertical-align: top;\n    }\n\n    .dataframe thead th {\n        text-align: right;\n    }\n</style>\n<table border=\"1\" class=\"dataframe\">\n  <thead>\n    <tr style=\"text-align: right;\">\n      <th></th>\n      <th>UniProt_ID</th>\n      <th>Mutation</th>\n      <th>Interactor_UniProt_ID</th>\n      <th>Prediction</th>\n      <th>Median_Probability</th>\n    </tr>\n  </thead>\n  <tbody>\n    <tr>\n      <th>0</th>\n      <td>P62873</td>\n      <td>S334I</td>\n      <td>Q13371</td>\n      <td>0</td>\n      <td>0.48376</td>\n    </tr>\n    <tr>\n      <th>1</th>\n      <td>Q9BXB4</td>\n      <td>N590D</td>\n      <td>Q96SU4</td>\n      <td>1</td>\n      <td>0.64160</td>\n    </tr>\n    <tr>\n      <th>2</th>\n      <td>P35251</td>\n      <td>V921A</td>\n      <td>P35250</td>\n      <td>0</td>\n      <td>0.25170</td>\n    </tr>\n    <tr>\n      <th>3</th>\n      <td>P08123</td>\n      <td>K1248N</td>\n      <td>P25940</td>\n      <td>1</td>\n      <td>0.78179</td>\n    </tr>\n    <tr>\n      <th>4</th>\n      <td>P15056</td>\n      <td>V600E</td>\n      <td>P53667</td>\n      <td>0</td>\n      <td>0.43582</td>\n    </tr>\n  </tbody>\n</table>\n</div>"
     },
     "metadata": {},
     "output_type": "display_data"
    },
    {
     "name": "stdout",
     "output_type": "stream",
     "text": [
      "ESCA data: (1194, 5)\n"
     ]
    },
    {
     "data": {
      "text/plain": "  UniProt_ID Mutation Interactor_UniProt_ID  Prediction  Median_Probability\n0     P61088     E61K                P38398           1             0.57282\n1     P61088     E61K                Q96PU5           1             0.68296\n2     P61088     E61K                Q9Y4L5           1             0.62781\n3     P61088     E61K                Q9Y3C5           1             0.60244\n4     P61088     E61K                Q9C035           1             0.52623",
      "text/html": "<div>\n<style scoped>\n    .dataframe tbody tr th:only-of-type {\n        vertical-align: middle;\n    }\n\n    .dataframe tbody tr th {\n        vertical-align: top;\n    }\n\n    .dataframe thead th {\n        text-align: right;\n    }\n</style>\n<table border=\"1\" class=\"dataframe\">\n  <thead>\n    <tr style=\"text-align: right;\">\n      <th></th>\n      <th>UniProt_ID</th>\n      <th>Mutation</th>\n      <th>Interactor_UniProt_ID</th>\n      <th>Prediction</th>\n      <th>Median_Probability</th>\n    </tr>\n  </thead>\n  <tbody>\n    <tr>\n      <th>0</th>\n      <td>P61088</td>\n      <td>E61K</td>\n      <td>P38398</td>\n      <td>1</td>\n      <td>0.57282</td>\n    </tr>\n    <tr>\n      <th>1</th>\n      <td>P61088</td>\n      <td>E61K</td>\n      <td>Q96PU5</td>\n      <td>1</td>\n      <td>0.68296</td>\n    </tr>\n    <tr>\n      <th>2</th>\n      <td>P61088</td>\n      <td>E61K</td>\n      <td>Q9Y4L5</td>\n      <td>1</td>\n      <td>0.62781</td>\n    </tr>\n    <tr>\n      <th>3</th>\n      <td>P61088</td>\n      <td>E61K</td>\n      <td>Q9Y3C5</td>\n      <td>1</td>\n      <td>0.60244</td>\n    </tr>\n    <tr>\n      <th>4</th>\n      <td>P61088</td>\n      <td>E61K</td>\n      <td>Q9C035</td>\n      <td>1</td>\n      <td>0.52623</td>\n    </tr>\n  </tbody>\n</table>\n</div>"
     },
     "metadata": {},
     "output_type": "display_data"
    },
    {
     "name": "stdout",
     "output_type": "stream",
     "text": [
      "GBM data: (2945, 5)\n"
     ]
    },
    {
     "data": {
      "text/plain": "  UniProt_ID Mutation Interactor_UniProt_ID  Prediction  Median_Probability\n0     P46734    K200E                P27361           1             0.81740\n1     P46734    K200E                Q16512           1             0.91810\n2     P46734    K200E                Q5S007           1             0.84646\n3     P46734    K200E                Q9Y2U5           1             0.80720\n4     P46734    K200E                Q99759           1             0.85617",
      "text/html": "<div>\n<style scoped>\n    .dataframe tbody tr th:only-of-type {\n        vertical-align: middle;\n    }\n\n    .dataframe tbody tr th {\n        vertical-align: top;\n    }\n\n    .dataframe thead th {\n        text-align: right;\n    }\n</style>\n<table border=\"1\" class=\"dataframe\">\n  <thead>\n    <tr style=\"text-align: right;\">\n      <th></th>\n      <th>UniProt_ID</th>\n      <th>Mutation</th>\n      <th>Interactor_UniProt_ID</th>\n      <th>Prediction</th>\n      <th>Median_Probability</th>\n    </tr>\n  </thead>\n  <tbody>\n    <tr>\n      <th>0</th>\n      <td>P46734</td>\n      <td>K200E</td>\n      <td>P27361</td>\n      <td>1</td>\n      <td>0.81740</td>\n    </tr>\n    <tr>\n      <th>1</th>\n      <td>P46734</td>\n      <td>K200E</td>\n      <td>Q16512</td>\n      <td>1</td>\n      <td>0.91810</td>\n    </tr>\n    <tr>\n      <th>2</th>\n      <td>P46734</td>\n      <td>K200E</td>\n      <td>Q5S007</td>\n      <td>1</td>\n      <td>0.84646</td>\n    </tr>\n    <tr>\n      <th>3</th>\n      <td>P46734</td>\n      <td>K200E</td>\n      <td>Q9Y2U5</td>\n      <td>1</td>\n      <td>0.80720</td>\n    </tr>\n    <tr>\n      <th>4</th>\n      <td>P46734</td>\n      <td>K200E</td>\n      <td>Q99759</td>\n      <td>1</td>\n      <td>0.85617</td>\n    </tr>\n  </tbody>\n</table>\n</div>"
     },
     "metadata": {},
     "output_type": "display_data"
    },
    {
     "name": "stdout",
     "output_type": "stream",
     "text": [
      "HNSC data: (4003, 5)\n"
     ]
    },
    {
     "data": {
      "text/plain": "  UniProt_ID Mutation Interactor_UniProt_ID  Prediction  Median_Probability\n0     Q13485    R361H                B7Z5N5           0             0.45127\n1     Q13485    R361H                Q68DB7           0             0.47297\n2     Q13485    R361H                Q53XR6           0             0.42872\n3     Q9Y566   R2148H                Q9BYB0           0             0.19476\n4     O15116     L87I                Q9Y333           1             0.83768",
      "text/html": "<div>\n<style scoped>\n    .dataframe tbody tr th:only-of-type {\n        vertical-align: middle;\n    }\n\n    .dataframe tbody tr th {\n        vertical-align: top;\n    }\n\n    .dataframe thead th {\n        text-align: right;\n    }\n</style>\n<table border=\"1\" class=\"dataframe\">\n  <thead>\n    <tr style=\"text-align: right;\">\n      <th></th>\n      <th>UniProt_ID</th>\n      <th>Mutation</th>\n      <th>Interactor_UniProt_ID</th>\n      <th>Prediction</th>\n      <th>Median_Probability</th>\n    </tr>\n  </thead>\n  <tbody>\n    <tr>\n      <th>0</th>\n      <td>Q13485</td>\n      <td>R361H</td>\n      <td>B7Z5N5</td>\n      <td>0</td>\n      <td>0.45127</td>\n    </tr>\n    <tr>\n      <th>1</th>\n      <td>Q13485</td>\n      <td>R361H</td>\n      <td>Q68DB7</td>\n      <td>0</td>\n      <td>0.47297</td>\n    </tr>\n    <tr>\n      <th>2</th>\n      <td>Q13485</td>\n      <td>R361H</td>\n      <td>Q53XR6</td>\n      <td>0</td>\n      <td>0.42872</td>\n    </tr>\n    <tr>\n      <th>3</th>\n      <td>Q9Y566</td>\n      <td>R2148H</td>\n      <td>Q9BYB0</td>\n      <td>0</td>\n      <td>0.19476</td>\n    </tr>\n    <tr>\n      <th>4</th>\n      <td>O15116</td>\n      <td>L87I</td>\n      <td>Q9Y333</td>\n      <td>1</td>\n      <td>0.83768</td>\n    </tr>\n  </tbody>\n</table>\n</div>"
     },
     "metadata": {},
     "output_type": "display_data"
    },
    {
     "name": "stdout",
     "output_type": "stream",
     "text": [
      "OV data: (2513, 5)\n"
     ]
    },
    {
     "data": {
      "text/plain": "  UniProt_ID Mutation Interactor_UniProt_ID  Prediction  Median_Probability\n0     P08134     D59E                P52565           0             0.28821\n1     P62993      A3V                Q9H8V3           0             0.44397\n2     P62993      A3V                Q14155           1             0.51214\n3     O75175    Q684H                Q9NZN8           0             0.32091\n4     O75175    Q684H                B2RDX7           0             0.33470",
      "text/html": "<div>\n<style scoped>\n    .dataframe tbody tr th:only-of-type {\n        vertical-align: middle;\n    }\n\n    .dataframe tbody tr th {\n        vertical-align: top;\n    }\n\n    .dataframe thead th {\n        text-align: right;\n    }\n</style>\n<table border=\"1\" class=\"dataframe\">\n  <thead>\n    <tr style=\"text-align: right;\">\n      <th></th>\n      <th>UniProt_ID</th>\n      <th>Mutation</th>\n      <th>Interactor_UniProt_ID</th>\n      <th>Prediction</th>\n      <th>Median_Probability</th>\n    </tr>\n  </thead>\n  <tbody>\n    <tr>\n      <th>0</th>\n      <td>P08134</td>\n      <td>D59E</td>\n      <td>P52565</td>\n      <td>0</td>\n      <td>0.28821</td>\n    </tr>\n    <tr>\n      <th>1</th>\n      <td>P62993</td>\n      <td>A3V</td>\n      <td>Q9H8V3</td>\n      <td>0</td>\n      <td>0.44397</td>\n    </tr>\n    <tr>\n      <th>2</th>\n      <td>P62993</td>\n      <td>A3V</td>\n      <td>Q14155</td>\n      <td>1</td>\n      <td>0.51214</td>\n    </tr>\n    <tr>\n      <th>3</th>\n      <td>O75175</td>\n      <td>Q684H</td>\n      <td>Q9NZN8</td>\n      <td>0</td>\n      <td>0.32091</td>\n    </tr>\n    <tr>\n      <th>4</th>\n      <td>O75175</td>\n      <td>Q684H</td>\n      <td>B2RDX7</td>\n      <td>0</td>\n      <td>0.33470</td>\n    </tr>\n  </tbody>\n</table>\n</div>"
     },
     "metadata": {},
     "output_type": "display_data"
    }
   ],
   "source": [
    "print(f\"BRCA data: {brca_predictions.shape}\")\n",
    "display(brca_predictions.head())\n",
    "\n",
    "print(f\"COAD data: {coad_predictions.shape}\")\n",
    "display(coad_predictions.head())\n",
    "\n",
    "print(f\"ESCA data: {esca_predictions.shape}\")\n",
    "display(esca_predictions.head())\n",
    "\n",
    "print(f\"GBM data: {gbm_predictions.shape}\")\n",
    "display(gbm_predictions.head())\n",
    "\n",
    "print(f\"HNSC data: {hnsc_predictions.shape}\")\n",
    "display(hnsc_predictions.head())\n",
    "\n",
    "print(f\"OV data: {ov_predictions.shape}\")\n",
    "display(ov_predictions.head())"
   ],
   "metadata": {
    "collapsed": false,
    "pycharm": {
     "name": "#%%\n"
    }
   }
  },
  {
   "cell_type": "markdown",
   "source": [
    "## Initialize Cancer Validation"
   ],
   "metadata": {
    "collapsed": false
   }
  },
  {
   "cell_type": "code",
   "execution_count": 6,
   "outputs": [],
   "source": [
    "cancer_validation = CancerValidation(interfaces_data_path=H_SAPIENS_INTERFACES_ALL_PATH)"
   ],
   "metadata": {
    "collapsed": false,
    "pycharm": {
     "name": "#%%\n"
    }
   }
  },
  {
   "cell_type": "code",
   "execution_count": 7,
   "outputs": [],
   "source": [
    "brca_output = cancer_validation.load_output_dict(\"outputs/BRCA_output_ALL_2022-03-09.pickle\")\n",
    "coad_output = cancer_validation.load_output_dict(\"outputs/COAD_output_ALL_2022-03-09.pickle\")\n",
    "esca_output = cancer_validation.load_output_dict(\"outputs/ESCA_output_ALL_2022-03-09.pickle\")\n",
    "gbm_output = cancer_validation.load_output_dict(\"outputs/GBM_output_ALL_2022-03-09.pickle\")\n",
    "hnsc_output = cancer_validation.load_output_dict(\"outputs/HNSC_output_ALL_2022-03-09.pickle\")\n",
    "ov_output = cancer_validation.load_output_dict(\"outputs/OV_output_ALL_2022-03-09.pickle\")"
   ],
   "metadata": {
    "collapsed": false,
    "pycharm": {
     "name": "#%%\n"
    }
   }
  },
  {
   "cell_type": "code",
   "execution_count": 7,
   "outputs": [],
   "source": [],
   "metadata": {
    "collapsed": false,
    "pycharm": {
     "name": "#%%\n"
    }
   }
  },
  {
   "cell_type": "markdown",
   "source": [
    "### BRCA"
   ],
   "metadata": {
    "collapsed": false
   }
  },
  {
   "cell_type": "code",
   "execution_count": 8,
   "outputs": [
    {
     "name": "stdout",
     "output_type": "stream",
     "text": [
      "Using the class 0 only.\n",
      "Using the class 1 only.\n"
     ]
    },
    {
     "name": "stderr",
     "output_type": "stream",
     "text": [
      "C:\\Users\\ibrah\\anaconda3\\envs\\MyVenvML\\lib\\site-packages\\sklearn\\metrics\\_classification.py:1245: UndefinedMetricWarning: Precision is ill-defined and being set to 0.0 due to no predicted samples. Use `zero_division` parameter to control this behavior.\n",
      "  _warn_prf(average, modifier, msg_start, len(result))\n",
      "C:\\Users\\ibrah\\anaconda3\\envs\\MyVenvML\\lib\\site-packages\\sklearn\\metrics\\_classification.py:870: RuntimeWarning: invalid value encountered in double_scalars\n",
      "  mcc = cov_ytyp / np.sqrt(cov_ytyt * cov_ypyp)\n",
      "C:\\Users\\ibrah\\anaconda3\\envs\\MyVenvML\\lib\\site-packages\\sklearn\\metrics\\_classification.py:870: RuntimeWarning: invalid value encountered in double_scalars\n",
      "  mcc = cov_ytyp / np.sqrt(cov_ytyt * cov_ypyp)\n"
     ]
    }
   ],
   "source": [
    "brca_output_0 = cancer_validation.validate_single_class(\"BRCA\", brca_output, single_class=0)\n",
    "brca_output_1 = cancer_validation.validate_single_class(\"BRCA\", brca_output, single_class=1)"
   ],
   "metadata": {
    "collapsed": false,
    "pycharm": {
     "name": "#%%\n"
    }
   }
  },
  {
   "cell_type": "markdown",
   "source": [
    "### COAD"
   ],
   "metadata": {
    "collapsed": false
   }
  },
  {
   "cell_type": "code",
   "execution_count": 9,
   "outputs": [
    {
     "name": "stderr",
     "output_type": "stream",
     "text": [
      "C:\\Users\\ibrah\\anaconda3\\envs\\MyVenvML\\lib\\site-packages\\sklearn\\metrics\\_classification.py:1245: UndefinedMetricWarning: Precision is ill-defined and being set to 0.0 due to no predicted samples. Use `zero_division` parameter to control this behavior.\n",
      "  _warn_prf(average, modifier, msg_start, len(result))\n",
      "C:\\Users\\ibrah\\anaconda3\\envs\\MyVenvML\\lib\\site-packages\\sklearn\\metrics\\_classification.py:870: RuntimeWarning: invalid value encountered in double_scalars\n",
      "  mcc = cov_ytyp / np.sqrt(cov_ytyt * cov_ypyp)\n",
      "C:\\Users\\ibrah\\anaconda3\\envs\\MyVenvML\\lib\\site-packages\\sklearn\\metrics\\_classification.py:870: RuntimeWarning: invalid value encountered in double_scalars\n",
      "  mcc = cov_ytyp / np.sqrt(cov_ytyt * cov_ypyp)\n"
     ]
    },
    {
     "name": "stdout",
     "output_type": "stream",
     "text": [
      "Using the class 0 only.\n",
      "Using the class 1 only.\n"
     ]
    }
   ],
   "source": [
    "coad_output_0 = cancer_validation.validate_single_class(\"COAD\", coad_output, single_class=0)\n",
    "coad_output_1 = cancer_validation.validate_single_class(\"COAD\", coad_output, single_class=1)"
   ],
   "metadata": {
    "collapsed": false,
    "pycharm": {
     "name": "#%%\n"
    }
   }
  },
  {
   "cell_type": "markdown",
   "source": [
    "### ESCA"
   ],
   "metadata": {
    "collapsed": false
   }
  },
  {
   "cell_type": "code",
   "execution_count": 10,
   "outputs": [
    {
     "name": "stdout",
     "output_type": "stream",
     "text": [
      "Using the class 0 only.\n",
      "Using the class 1 only.\n"
     ]
    },
    {
     "name": "stderr",
     "output_type": "stream",
     "text": [
      "C:\\Users\\ibrah\\anaconda3\\envs\\MyVenvML\\lib\\site-packages\\sklearn\\metrics\\_classification.py:1245: UndefinedMetricWarning: Precision is ill-defined and being set to 0.0 due to no predicted samples. Use `zero_division` parameter to control this behavior.\n",
      "  _warn_prf(average, modifier, msg_start, len(result))\n",
      "C:\\Users\\ibrah\\anaconda3\\envs\\MyVenvML\\lib\\site-packages\\sklearn\\metrics\\_classification.py:870: RuntimeWarning: invalid value encountered in double_scalars\n",
      "  mcc = cov_ytyp / np.sqrt(cov_ytyt * cov_ypyp)\n",
      "C:\\Users\\ibrah\\anaconda3\\envs\\MyVenvML\\lib\\site-packages\\sklearn\\metrics\\_classification.py:870: RuntimeWarning: invalid value encountered in double_scalars\n",
      "  mcc = cov_ytyp / np.sqrt(cov_ytyt * cov_ypyp)\n"
     ]
    }
   ],
   "source": [
    "esca_output_0 = cancer_validation.validate_single_class(\"ESCA\", esca_output, single_class=0)\n",
    "esca_output_1 = cancer_validation.validate_single_class(\"ESCA\", esca_output, single_class=1)"
   ],
   "metadata": {
    "collapsed": false,
    "pycharm": {
     "name": "#%%\n"
    }
   }
  },
  {
   "cell_type": "markdown",
   "source": [
    "### GBM"
   ],
   "metadata": {
    "collapsed": false
   }
  },
  {
   "cell_type": "code",
   "execution_count": 11,
   "outputs": [
    {
     "name": "stdout",
     "output_type": "stream",
     "text": [
      "Using the class 0 only.\n",
      "Using the class 1 only.\n"
     ]
    },
    {
     "name": "stderr",
     "output_type": "stream",
     "text": [
      "C:\\Users\\ibrah\\anaconda3\\envs\\MyVenvML\\lib\\site-packages\\sklearn\\metrics\\_classification.py:1245: UndefinedMetricWarning: Precision is ill-defined and being set to 0.0 due to no predicted samples. Use `zero_division` parameter to control this behavior.\n",
      "  _warn_prf(average, modifier, msg_start, len(result))\n",
      "C:\\Users\\ibrah\\anaconda3\\envs\\MyVenvML\\lib\\site-packages\\sklearn\\metrics\\_classification.py:870: RuntimeWarning: invalid value encountered in double_scalars\n",
      "  mcc = cov_ytyp / np.sqrt(cov_ytyt * cov_ypyp)\n",
      "C:\\Users\\ibrah\\anaconda3\\envs\\MyVenvML\\lib\\site-packages\\sklearn\\metrics\\_classification.py:870: RuntimeWarning: invalid value encountered in double_scalars\n",
      "  mcc = cov_ytyp / np.sqrt(cov_ytyt * cov_ypyp)\n"
     ]
    }
   ],
   "source": [
    "gbm_output_0 = cancer_validation.validate_single_class(\"GBM\", gbm_output, single_class=0)\n",
    "gbm_output_1 = cancer_validation.validate_single_class(\"GBM\", gbm_output, single_class=1)"
   ],
   "metadata": {
    "collapsed": false,
    "pycharm": {
     "name": "#%%\n"
    }
   }
  },
  {
   "cell_type": "markdown",
   "source": [
    "### HNSC"
   ],
   "metadata": {
    "collapsed": false
   }
  },
  {
   "cell_type": "code",
   "execution_count": 12,
   "outputs": [
    {
     "name": "stdout",
     "output_type": "stream",
     "text": [
      "Using the class 0 only.\n",
      "Using the class 1 only.\n"
     ]
    },
    {
     "name": "stderr",
     "output_type": "stream",
     "text": [
      "C:\\Users\\ibrah\\anaconda3\\envs\\MyVenvML\\lib\\site-packages\\sklearn\\metrics\\_classification.py:1245: UndefinedMetricWarning: Precision is ill-defined and being set to 0.0 due to no predicted samples. Use `zero_division` parameter to control this behavior.\n",
      "  _warn_prf(average, modifier, msg_start, len(result))\n",
      "C:\\Users\\ibrah\\anaconda3\\envs\\MyVenvML\\lib\\site-packages\\sklearn\\metrics\\_classification.py:870: RuntimeWarning: invalid value encountered in double_scalars\n",
      "  mcc = cov_ytyp / np.sqrt(cov_ytyt * cov_ypyp)\n",
      "C:\\Users\\ibrah\\anaconda3\\envs\\MyVenvML\\lib\\site-packages\\sklearn\\metrics\\_classification.py:870: RuntimeWarning: invalid value encountered in double_scalars\n",
      "  mcc = cov_ytyp / np.sqrt(cov_ytyt * cov_ypyp)\n"
     ]
    }
   ],
   "source": [
    "hnsc_output_0 = cancer_validation.validate_single_class(\"HNSC\", hnsc_output, single_class=0)\n",
    "hnsc_output_1 = cancer_validation.validate_single_class(\"HNSC\", hnsc_output, single_class=1)"
   ],
   "metadata": {
    "collapsed": false,
    "pycharm": {
     "name": "#%%\n"
    }
   }
  },
  {
   "cell_type": "markdown",
   "source": [
    "### OV"
   ],
   "metadata": {
    "collapsed": false
   }
  },
  {
   "cell_type": "code",
   "execution_count": 13,
   "outputs": [
    {
     "name": "stdout",
     "output_type": "stream",
     "text": [
      "Using the class 0 only.\n"
     ]
    },
    {
     "name": "stderr",
     "output_type": "stream",
     "text": [
      "C:\\Users\\ibrah\\anaconda3\\envs\\MyVenvML\\lib\\site-packages\\sklearn\\metrics\\_classification.py:1245: UndefinedMetricWarning: Precision is ill-defined and being set to 0.0 due to no predicted samples. Use `zero_division` parameter to control this behavior.\n",
      "  _warn_prf(average, modifier, msg_start, len(result))\n",
      "C:\\Users\\ibrah\\anaconda3\\envs\\MyVenvML\\lib\\site-packages\\sklearn\\metrics\\_classification.py:870: RuntimeWarning: invalid value encountered in double_scalars\n",
      "  mcc = cov_ytyp / np.sqrt(cov_ytyt * cov_ypyp)\n",
      "C:\\Users\\ibrah\\anaconda3\\envs\\MyVenvML\\lib\\site-packages\\sklearn\\metrics\\_classification.py:870: RuntimeWarning: invalid value encountered in double_scalars\n",
      "  mcc = cov_ytyp / np.sqrt(cov_ytyt * cov_ypyp)\n"
     ]
    },
    {
     "name": "stdout",
     "output_type": "stream",
     "text": [
      "Using the class 1 only.\n"
     ]
    }
   ],
   "source": [
    "ov_output_0 = cancer_validation.validate_single_class(\"OV\", ov_output, single_class=0)\n",
    "ov_output_1 = cancer_validation.validate_single_class(\"OV\", ov_output, single_class=1)"
   ],
   "metadata": {
    "collapsed": false,
    "pycharm": {
     "name": "#%%\n"
    }
   }
  },
  {
   "cell_type": "markdown",
   "source": [
    "## Combine metrics"
   ],
   "metadata": {
    "collapsed": false
   }
  },
  {
   "cell_type": "code",
   "execution_count": 14,
   "outputs": [],
   "source": [
    "metrics_merged = pd.concat(\n",
    "    [\n",
    "        brca_output[\"metrics_data\"],\n",
    "        coad_output[\"metrics_data\"],\n",
    "        esca_output[\"metrics_data\"],\n",
    "        gbm_output[\"metrics_data\"],\n",
    "        hnsc_output[\"metrics_data\"],\n",
    "        ov_output[\"metrics_data\"],\n",
    "    ]\n",
    ")"
   ],
   "metadata": {
    "collapsed": false,
    "pycharm": {
     "name": "#%%\n"
    }
   }
  },
  {
   "cell_type": "code",
   "execution_count": 15,
   "outputs": [],
   "source": [
    "metrics_merged_0 = pd.concat(\n",
    "    [\n",
    "        brca_output_0[\"metrics_data\"],\n",
    "        coad_output_0[\"metrics_data\"],\n",
    "        esca_output_0[\"metrics_data\"],\n",
    "        gbm_output_0[\"metrics_data\"],\n",
    "        hnsc_output_0[\"metrics_data\"],\n",
    "        ov_output_0[\"metrics_data\"],\n",
    "    ]\n",
    ")\n",
    "\n",
    "metrics_merged_1 = pd.concat(\n",
    "    [\n",
    "        brca_output_1[\"metrics_data\"],\n",
    "        coad_output_1[\"metrics_data\"],\n",
    "        esca_output_1[\"metrics_data\"],\n",
    "        gbm_output_1[\"metrics_data\"],\n",
    "        hnsc_output_1[\"metrics_data\"],\n",
    "        ov_output_1[\"metrics_data\"],\n",
    "    ]\n",
    ")"
   ],
   "metadata": {
    "collapsed": false,
    "pycharm": {
     "name": "#%%\n"
    }
   }
  },
  {
   "cell_type": "code",
   "execution_count": 16,
   "outputs": [
    {
     "data": {
      "text/plain": "   TCGA  #_Entries  #_Disruptive  #_Non_disruptive  ACCURACY  \\\n0  BRCA       3997           862              1059  0.484643   \n0  COAD       7517          1693              1908  0.508470   \n0  ESCA       1194           283               272  0.452252   \n0   GBM       2945           595               773  0.525585   \n0  HNSC       4003           947               926  0.504538   \n0    OV       2513           541               610  0.504778   \n\n   BALANCED_ACCURACY        F1  PRECISION    RECALL  MATTHEWS_COR  \n0           0.483266  0.515181   0.535097  0.496695     -0.033300  \n0           0.508775  0.520585   0.538677  0.503669      0.017519  \n0           0.452609  0.457143   0.444444  0.470588     -0.094832  \n0           0.523123  0.563551   0.586835  0.542044      0.045897  \n0           0.504368  0.494002   0.498899  0.489201      0.008740  \n0           0.506651  0.504348   0.537037  0.475410      0.013304  ",
      "text/html": "<div>\n<style scoped>\n    .dataframe tbody tr th:only-of-type {\n        vertical-align: middle;\n    }\n\n    .dataframe tbody tr th {\n        vertical-align: top;\n    }\n\n    .dataframe thead th {\n        text-align: right;\n    }\n</style>\n<table border=\"1\" class=\"dataframe\">\n  <thead>\n    <tr style=\"text-align: right;\">\n      <th></th>\n      <th>TCGA</th>\n      <th>#_Entries</th>\n      <th>#_Disruptive</th>\n      <th>#_Non_disruptive</th>\n      <th>ACCURACY</th>\n      <th>BALANCED_ACCURACY</th>\n      <th>F1</th>\n      <th>PRECISION</th>\n      <th>RECALL</th>\n      <th>MATTHEWS_COR</th>\n    </tr>\n  </thead>\n  <tbody>\n    <tr>\n      <th>0</th>\n      <td>BRCA</td>\n      <td>3997</td>\n      <td>862</td>\n      <td>1059</td>\n      <td>0.484643</td>\n      <td>0.483266</td>\n      <td>0.515181</td>\n      <td>0.535097</td>\n      <td>0.496695</td>\n      <td>-0.033300</td>\n    </tr>\n    <tr>\n      <th>0</th>\n      <td>COAD</td>\n      <td>7517</td>\n      <td>1693</td>\n      <td>1908</td>\n      <td>0.508470</td>\n      <td>0.508775</td>\n      <td>0.520585</td>\n      <td>0.538677</td>\n      <td>0.503669</td>\n      <td>0.017519</td>\n    </tr>\n    <tr>\n      <th>0</th>\n      <td>ESCA</td>\n      <td>1194</td>\n      <td>283</td>\n      <td>272</td>\n      <td>0.452252</td>\n      <td>0.452609</td>\n      <td>0.457143</td>\n      <td>0.444444</td>\n      <td>0.470588</td>\n      <td>-0.094832</td>\n    </tr>\n    <tr>\n      <th>0</th>\n      <td>GBM</td>\n      <td>2945</td>\n      <td>595</td>\n      <td>773</td>\n      <td>0.525585</td>\n      <td>0.523123</td>\n      <td>0.563551</td>\n      <td>0.586835</td>\n      <td>0.542044</td>\n      <td>0.045897</td>\n    </tr>\n    <tr>\n      <th>0</th>\n      <td>HNSC</td>\n      <td>4003</td>\n      <td>947</td>\n      <td>926</td>\n      <td>0.504538</td>\n      <td>0.504368</td>\n      <td>0.494002</td>\n      <td>0.498899</td>\n      <td>0.489201</td>\n      <td>0.008740</td>\n    </tr>\n    <tr>\n      <th>0</th>\n      <td>OV</td>\n      <td>2513</td>\n      <td>541</td>\n      <td>610</td>\n      <td>0.504778</td>\n      <td>0.506651</td>\n      <td>0.504348</td>\n      <td>0.537037</td>\n      <td>0.475410</td>\n      <td>0.013304</td>\n    </tr>\n  </tbody>\n</table>\n</div>"
     },
     "execution_count": 16,
     "metadata": {},
     "output_type": "execute_result"
    }
   ],
   "source": [
    "metrics_merged"
   ],
   "metadata": {
    "collapsed": false,
    "pycharm": {
     "name": "#%%\n"
    }
   }
  },
  {
   "cell_type": "code",
   "execution_count": 17,
   "outputs": [
    {
     "data": {
      "text/plain": "   TCGA  #_Entries  #_Disruptive  #_Non_disruptive  ACCURACY  \\\n0  BRCA       1918           405               533  0.431770   \n0  COAD       3726           870               947  0.478811   \n0  ESCA        599           123               144  0.460674   \n0   GBM       1418           300               354  0.458716   \n0  HNSC       2065           492               473  0.509845   \n0    OV       1334           291               320  0.476268   \n\n   BALANCED_ACCURACY   F1  PRECISION  RECALL  MATTHEWS_COR  \n0                0.5  0.0        0.0     0.0           0.0  \n0                0.5  0.0        0.0     0.0           0.0  \n0                0.5  0.0        0.0     0.0           0.0  \n0                0.5  0.0        0.0     0.0           0.0  \n0                0.5  0.0        0.0     0.0           0.0  \n0                0.5  0.0        0.0     0.0           0.0  ",
      "text/html": "<div>\n<style scoped>\n    .dataframe tbody tr th:only-of-type {\n        vertical-align: middle;\n    }\n\n    .dataframe tbody tr th {\n        vertical-align: top;\n    }\n\n    .dataframe thead th {\n        text-align: right;\n    }\n</style>\n<table border=\"1\" class=\"dataframe\">\n  <thead>\n    <tr style=\"text-align: right;\">\n      <th></th>\n      <th>TCGA</th>\n      <th>#_Entries</th>\n      <th>#_Disruptive</th>\n      <th>#_Non_disruptive</th>\n      <th>ACCURACY</th>\n      <th>BALANCED_ACCURACY</th>\n      <th>F1</th>\n      <th>PRECISION</th>\n      <th>RECALL</th>\n      <th>MATTHEWS_COR</th>\n    </tr>\n  </thead>\n  <tbody>\n    <tr>\n      <th>0</th>\n      <td>BRCA</td>\n      <td>1918</td>\n      <td>405</td>\n      <td>533</td>\n      <td>0.431770</td>\n      <td>0.5</td>\n      <td>0.0</td>\n      <td>0.0</td>\n      <td>0.0</td>\n      <td>0.0</td>\n    </tr>\n    <tr>\n      <th>0</th>\n      <td>COAD</td>\n      <td>3726</td>\n      <td>870</td>\n      <td>947</td>\n      <td>0.478811</td>\n      <td>0.5</td>\n      <td>0.0</td>\n      <td>0.0</td>\n      <td>0.0</td>\n      <td>0.0</td>\n    </tr>\n    <tr>\n      <th>0</th>\n      <td>ESCA</td>\n      <td>599</td>\n      <td>123</td>\n      <td>144</td>\n      <td>0.460674</td>\n      <td>0.5</td>\n      <td>0.0</td>\n      <td>0.0</td>\n      <td>0.0</td>\n      <td>0.0</td>\n    </tr>\n    <tr>\n      <th>0</th>\n      <td>GBM</td>\n      <td>1418</td>\n      <td>300</td>\n      <td>354</td>\n      <td>0.458716</td>\n      <td>0.5</td>\n      <td>0.0</td>\n      <td>0.0</td>\n      <td>0.0</td>\n      <td>0.0</td>\n    </tr>\n    <tr>\n      <th>0</th>\n      <td>HNSC</td>\n      <td>2065</td>\n      <td>492</td>\n      <td>473</td>\n      <td>0.509845</td>\n      <td>0.5</td>\n      <td>0.0</td>\n      <td>0.0</td>\n      <td>0.0</td>\n      <td>0.0</td>\n    </tr>\n    <tr>\n      <th>0</th>\n      <td>OV</td>\n      <td>1334</td>\n      <td>291</td>\n      <td>320</td>\n      <td>0.476268</td>\n      <td>0.5</td>\n      <td>0.0</td>\n      <td>0.0</td>\n      <td>0.0</td>\n      <td>0.0</td>\n    </tr>\n  </tbody>\n</table>\n</div>"
     },
     "execution_count": 17,
     "metadata": {},
     "output_type": "execute_result"
    }
   ],
   "source": [
    "metrics_merged_0"
   ],
   "metadata": {
    "collapsed": false,
    "pycharm": {
     "name": "#%%\n"
    }
   }
  },
  {
   "cell_type": "code",
   "execution_count": 18,
   "outputs": [
    {
     "data": {
      "text/plain": "   TCGA  #_Entries  #_Disruptive  #_Non_disruptive  ACCURACY  \\\n0  BRCA       2079           457               526  0.535097   \n0  COAD       3791           823               961  0.538677   \n0  ESCA        595           160               128  0.444444   \n0   GBM       1527           295               419  0.586835   \n0  HNSC       1938           455               453  0.498899   \n0    OV       1179           250               290  0.537037   \n\n   BALANCED_ACCURACY        F1  PRECISION  RECALL  MATTHEWS_COR  \n0                0.5  0.697150   0.535097     1.0           0.0  \n0                0.5  0.700182   0.538677     1.0           0.0  \n0                0.5  0.615385   0.444444     1.0           0.0  \n0                0.5  0.739629   0.586835     1.0           0.0  \n0                0.5  0.665687   0.498899     1.0           0.0  \n0                0.5  0.698795   0.537037     1.0           0.0  ",
      "text/html": "<div>\n<style scoped>\n    .dataframe tbody tr th:only-of-type {\n        vertical-align: middle;\n    }\n\n    .dataframe tbody tr th {\n        vertical-align: top;\n    }\n\n    .dataframe thead th {\n        text-align: right;\n    }\n</style>\n<table border=\"1\" class=\"dataframe\">\n  <thead>\n    <tr style=\"text-align: right;\">\n      <th></th>\n      <th>TCGA</th>\n      <th>#_Entries</th>\n      <th>#_Disruptive</th>\n      <th>#_Non_disruptive</th>\n      <th>ACCURACY</th>\n      <th>BALANCED_ACCURACY</th>\n      <th>F1</th>\n      <th>PRECISION</th>\n      <th>RECALL</th>\n      <th>MATTHEWS_COR</th>\n    </tr>\n  </thead>\n  <tbody>\n    <tr>\n      <th>0</th>\n      <td>BRCA</td>\n      <td>2079</td>\n      <td>457</td>\n      <td>526</td>\n      <td>0.535097</td>\n      <td>0.5</td>\n      <td>0.697150</td>\n      <td>0.535097</td>\n      <td>1.0</td>\n      <td>0.0</td>\n    </tr>\n    <tr>\n      <th>0</th>\n      <td>COAD</td>\n      <td>3791</td>\n      <td>823</td>\n      <td>961</td>\n      <td>0.538677</td>\n      <td>0.5</td>\n      <td>0.700182</td>\n      <td>0.538677</td>\n      <td>1.0</td>\n      <td>0.0</td>\n    </tr>\n    <tr>\n      <th>0</th>\n      <td>ESCA</td>\n      <td>595</td>\n      <td>160</td>\n      <td>128</td>\n      <td>0.444444</td>\n      <td>0.5</td>\n      <td>0.615385</td>\n      <td>0.444444</td>\n      <td>1.0</td>\n      <td>0.0</td>\n    </tr>\n    <tr>\n      <th>0</th>\n      <td>GBM</td>\n      <td>1527</td>\n      <td>295</td>\n      <td>419</td>\n      <td>0.586835</td>\n      <td>0.5</td>\n      <td>0.739629</td>\n      <td>0.586835</td>\n      <td>1.0</td>\n      <td>0.0</td>\n    </tr>\n    <tr>\n      <th>0</th>\n      <td>HNSC</td>\n      <td>1938</td>\n      <td>455</td>\n      <td>453</td>\n      <td>0.498899</td>\n      <td>0.5</td>\n      <td>0.665687</td>\n      <td>0.498899</td>\n      <td>1.0</td>\n      <td>0.0</td>\n    </tr>\n    <tr>\n      <th>0</th>\n      <td>OV</td>\n      <td>1179</td>\n      <td>250</td>\n      <td>290</td>\n      <td>0.537037</td>\n      <td>0.5</td>\n      <td>0.698795</td>\n      <td>0.537037</td>\n      <td>1.0</td>\n      <td>0.0</td>\n    </tr>\n  </tbody>\n</table>\n</div>"
     },
     "execution_count": 18,
     "metadata": {},
     "output_type": "execute_result"
    }
   ],
   "source": [
    "metrics_merged_1"
   ],
   "metadata": {
    "collapsed": false,
    "pycharm": {
     "name": "#%%\n"
    }
   }
  },
  {
   "cell_type": "code",
   "execution_count": 18,
   "outputs": [],
   "source": [],
   "metadata": {
    "collapsed": false,
    "pycharm": {
     "name": "#%%\n"
    }
   }
  },
  {
   "cell_type": "markdown",
   "source": [
    "## AUC-ROC calculations"
   ],
   "metadata": {
    "collapsed": false,
    "pycharm": {
     "name": "#%% md\n"
    }
   }
  },
  {
   "cell_type": "code",
   "execution_count": 19,
   "outputs": [],
   "source": [
    "from sklearn.metrics import roc_curve, auc"
   ],
   "metadata": {
    "collapsed": false,
    "pycharm": {
     "name": "#%%\n"
    }
   }
  },
  {
   "cell_type": "code",
   "execution_count": 20,
   "outputs": [
    {
     "data": {
      "text/plain": "dict_keys(['data_validation', 'data_validation_processed', 'metrics_data'])"
     },
     "execution_count": 20,
     "metadata": {},
     "output_type": "execute_result"
    }
   ],
   "source": [
    "brca_output_0.keys()"
   ],
   "metadata": {
    "collapsed": false,
    "pycharm": {
     "name": "#%%\n"
    }
   }
  },
  {
   "cell_type": "code",
   "execution_count": 21,
   "outputs": [
    {
     "data": {
      "text/plain": "     UniProt_ID Mutation Interactor_UniProt_ID  Prediction  \\\n3        Q9UKS6     R24H                Q9BY11           0   \n4        Q9UKS6     R24H                Q9UNF0           0   \n18       Q01196     G95R                Q13951           0   \n25       Q71DI3     E98Q                P62805           0   \n30       P20810    D466H                P17655           0   \n...         ...      ...                   ...         ...   \n3979     Q9NTU7     S74L                Q6UW01           0   \n3980     Q15303    P920R                Q92625           0   \n3981     Q15303    P920R                Q7Z6G8           0   \n3989     P42336   H1047R                P27986           0   \n3993     P61371    D207E                Q969G2           0   \n\n      Median_Probability  Validation  \n3                0.49584           0  \n4                0.41309           0  \n18               0.34566           0  \n25               0.38460           0  \n30               0.42636           1  \n...                  ...         ...  \n3979             0.48150           1  \n3980             0.40740           1  \n3981             0.41155           1  \n3989             0.40254           1  \n3993             0.36453           1  \n\n[938 rows x 6 columns]",
      "text/html": "<div>\n<style scoped>\n    .dataframe tbody tr th:only-of-type {\n        vertical-align: middle;\n    }\n\n    .dataframe tbody tr th {\n        vertical-align: top;\n    }\n\n    .dataframe thead th {\n        text-align: right;\n    }\n</style>\n<table border=\"1\" class=\"dataframe\">\n  <thead>\n    <tr style=\"text-align: right;\">\n      <th></th>\n      <th>UniProt_ID</th>\n      <th>Mutation</th>\n      <th>Interactor_UniProt_ID</th>\n      <th>Prediction</th>\n      <th>Median_Probability</th>\n      <th>Validation</th>\n    </tr>\n  </thead>\n  <tbody>\n    <tr>\n      <th>3</th>\n      <td>Q9UKS6</td>\n      <td>R24H</td>\n      <td>Q9BY11</td>\n      <td>0</td>\n      <td>0.49584</td>\n      <td>0</td>\n    </tr>\n    <tr>\n      <th>4</th>\n      <td>Q9UKS6</td>\n      <td>R24H</td>\n      <td>Q9UNF0</td>\n      <td>0</td>\n      <td>0.41309</td>\n      <td>0</td>\n    </tr>\n    <tr>\n      <th>18</th>\n      <td>Q01196</td>\n      <td>G95R</td>\n      <td>Q13951</td>\n      <td>0</td>\n      <td>0.34566</td>\n      <td>0</td>\n    </tr>\n    <tr>\n      <th>25</th>\n      <td>Q71DI3</td>\n      <td>E98Q</td>\n      <td>P62805</td>\n      <td>0</td>\n      <td>0.38460</td>\n      <td>0</td>\n    </tr>\n    <tr>\n      <th>30</th>\n      <td>P20810</td>\n      <td>D466H</td>\n      <td>P17655</td>\n      <td>0</td>\n      <td>0.42636</td>\n      <td>1</td>\n    </tr>\n    <tr>\n      <th>...</th>\n      <td>...</td>\n      <td>...</td>\n      <td>...</td>\n      <td>...</td>\n      <td>...</td>\n      <td>...</td>\n    </tr>\n    <tr>\n      <th>3979</th>\n      <td>Q9NTU7</td>\n      <td>S74L</td>\n      <td>Q6UW01</td>\n      <td>0</td>\n      <td>0.48150</td>\n      <td>1</td>\n    </tr>\n    <tr>\n      <th>3980</th>\n      <td>Q15303</td>\n      <td>P920R</td>\n      <td>Q92625</td>\n      <td>0</td>\n      <td>0.40740</td>\n      <td>1</td>\n    </tr>\n    <tr>\n      <th>3981</th>\n      <td>Q15303</td>\n      <td>P920R</td>\n      <td>Q7Z6G8</td>\n      <td>0</td>\n      <td>0.41155</td>\n      <td>1</td>\n    </tr>\n    <tr>\n      <th>3989</th>\n      <td>P42336</td>\n      <td>H1047R</td>\n      <td>P27986</td>\n      <td>0</td>\n      <td>0.40254</td>\n      <td>1</td>\n    </tr>\n    <tr>\n      <th>3993</th>\n      <td>P61371</td>\n      <td>D207E</td>\n      <td>Q969G2</td>\n      <td>0</td>\n      <td>0.36453</td>\n      <td>1</td>\n    </tr>\n  </tbody>\n</table>\n<p>938 rows × 6 columns</p>\n</div>"
     },
     "execution_count": 21,
     "metadata": {},
     "output_type": "execute_result"
    }
   ],
   "source": [
    "brca_output_0[\"data_validation_processed\"]"
   ],
   "metadata": {
    "collapsed": false,
    "pycharm": {
     "name": "#%%\n"
    }
   }
  },
  {
   "cell_type": "code",
   "execution_count": 22,
   "outputs": [],
   "source": [
    "fpr_brca, tpr_brca, thresholds_brca = roc_curve(\n",
    "    brca_output[\"data_validation_processed\"][\"Validation\"], brca_output[\"data_validation_processed\"][\"Median_Probability\"]\n",
    ")"
   ],
   "metadata": {
    "collapsed": false,
    "pycharm": {
     "name": "#%%\n"
    }
   }
  },
  {
   "cell_type": "code",
   "execution_count": 23,
   "outputs": [],
   "source": [
    "fpr_brca_0, tpr_brca_0, thresholds_brca_0 = roc_curve(\n",
    "    brca_output_0[\"data_validation_processed\"][\"Validation\"], brca_output_0[\"data_validation_processed\"][\"Median_Probability\"]\n",
    ")"
   ],
   "metadata": {
    "collapsed": false,
    "pycharm": {
     "name": "#%%\n"
    }
   }
  },
  {
   "cell_type": "code",
   "execution_count": 24,
   "outputs": [],
   "source": [
    "fpr_brca_1, tpr_brca_1, thresholds_brca_1 = roc_curve(\n",
    "    brca_output_1[\"data_validation_processed\"][\"Validation\"], brca_output_1[\"data_validation_processed\"][\"Median_Probability\"]\n",
    ")"
   ],
   "metadata": {
    "collapsed": false,
    "pycharm": {
     "name": "#%%\n"
    }
   }
  },
  {
   "cell_type": "code",
   "execution_count": 25,
   "outputs": [],
   "source": [
    "from matplotlib import pyplot as plt\n",
    "from sklearn.metrics import RocCurveDisplay"
   ],
   "metadata": {
    "collapsed": false,
    "pycharm": {
     "name": "#%%\n"
    }
   }
  },
  {
   "cell_type": "code",
   "execution_count": 26,
   "outputs": [
    {
     "data": {
      "text/plain": "<Figure size 432x288 with 1 Axes>",
      "image/png": "[encoded data removed]"
     },
     "metadata": {
      "needs_background": "light"
     },
     "output_type": "display_data"
    }
   ],
   "source": [
    "fig, ax = plt.subplots()\n",
    "display_brca = RocCurveDisplay(fpr=fpr_brca, tpr=tpr_brca, roc_auc=auc(fpr_brca, tpr_brca))\n",
    "display_brca_0 = RocCurveDisplay(fpr=fpr_brca_0, tpr=tpr_brca_0, roc_auc=auc(fpr_brca_0, tpr_brca_0))\n",
    "display_brca_1 = RocCurveDisplay(fpr=fpr_brca_1, tpr=tpr_brca_1, roc_auc=auc(fpr_brca_1, tpr_brca_1))\n",
    "display_brca.plot(ax=ax, name=\"BRCA\")\n",
    "display_brca_0.plot(ax=ax, name=\"BRCA_0\")\n",
    "display_brca_1.plot(ax=ax, name=\"BRCA_1\")\n",
    "\n",
    "ax.set_xlabel(\"False Positive Rate\")\n",
    "ax.set_ylabel(\"True Positive Rate\")\n",
    "plt.show()"
   ],
   "metadata": {
    "collapsed": false,
    "pycharm": {
     "name": "#%%\n"
    }
   }
  },
  {
   "cell_type": "code",
   "execution_count": 26,
   "outputs": [],
   "source": [],
   "metadata": {
    "collapsed": false,
    "pycharm": {
     "name": "#%%\n"
    }
   }
  },
  {
   "cell_type": "code",
   "execution_count": 27,
   "outputs": [],
   "source": [
    "AUC_TCGA_MAPPING = {\n",
    "    \"BRCA\": (brca_output_0, brca_output_1, brca_output),\n",
    "    \"COAD\": (coad_output_0, coad_output_1, coad_output),\n",
    "    \"ESCA\": (esca_output_0, esca_output_1, esca_output),\n",
    "    \"GBM\": (gbm_output_0, gbm_output_1, gbm_output),\n",
    "    \"HNSC\": (hnsc_output_0, hnsc_output_1, hnsc_output),\n",
    "    \"OV\": (ov_output_0, ov_output_1, ov_output),\n",
    "}"
   ],
   "metadata": {
    "collapsed": false,
    "pycharm": {
     "name": "#%%\n"
    }
   }
  },
  {
   "cell_type": "code",
   "execution_count": 28,
   "outputs": [],
   "source": [
    "def calculate_auc_per_tcga(tcga_name, auc_tcga_tuple, row_i, col_i, fig, ax):\n",
    "    fpr_tcga_0, tpr_tcga_0, thresholds_tcga_0 = roc_curve(\n",
    "        auc_tcga_tuple[0][\"data_validation_processed\"][\"Validation\"], auc_tcga_tuple[0][\"data_validation_processed\"][\"Median_Probability\"]\n",
    "    )\n",
    "\n",
    "    fpr_tcga_1, tpr_tcga_1, thresholds_tcga_1 = roc_curve(\n",
    "        auc_tcga_tuple[1][\"data_validation_processed\"][\"Validation\"], auc_tcga_tuple[1][\"data_validation_processed\"][\"Median_Probability\"]\n",
    "    )\n",
    "\n",
    "    fpr_tcga_2, tpr_tcga_2, thresholds_tcga_2 = roc_curve(\n",
    "        auc_tcga_tuple[2][\"data_validation_processed\"][\"Validation\"], auc_tcga_tuple[2][\"data_validation_processed\"][\"Median_Probability\"]\n",
    "    )\n",
    "\n",
    "\n",
    "    # fig, ax = plt.subplots(nrows=3, ncols=2)\n",
    "    display_tcga_0 = RocCurveDisplay(fpr=fpr_tcga_0, tpr=tpr_tcga_0, roc_auc=auc(fpr_tcga_0, tpr_tcga_0))\n",
    "    display_tcga_1 = RocCurveDisplay(fpr=fpr_tcga_1, tpr=tpr_tcga_1, roc_auc=auc(fpr_tcga_1, tpr_tcga_1))\n",
    "    display_tcga_2 = RocCurveDisplay(fpr=fpr_tcga_2, tpr=tpr_tcga_2, roc_auc=auc(fpr_tcga_2, tpr_tcga_2))\n",
    "\n",
    "    display_tcga_0.plot(ax=ax[row_i][col_i], name=f\"{tcga_name}_0\")\n",
    "    display_tcga_1.plot(ax=ax[row_i][col_i], name=f\"{tcga_name}_1\")\n",
    "    display_tcga_2.plot(ax=ax[row_i][col_i], name=f\"{tcga_name}\")\n",
    "\n",
    "    # ax[subplot_i].set_xlabel(\"False Positive Rate\")\n",
    "    # ax[subplot_i].set_ylabel(\"True Positive Rate\")\n",
    "    # plt.title(f\"{tcga_name}\")\n",
    "\n",
    "    ax[row_i][col_i].set_title(f\"{tcga_name}\")\n"
   ],
   "metadata": {
    "collapsed": false,
    "pycharm": {
     "name": "#%%\n"
    }
   }
  },
  {
   "cell_type": "code",
   "execution_count": 28,
   "outputs": [],
   "source": [],
   "metadata": {
    "collapsed": false,
    "pycharm": {
     "name": "#%%\n"
    }
   }
  },
  {
   "cell_type": "code",
   "execution_count": 29,
   "outputs": [
    {
     "data": {
      "text/plain": "<Figure size 792x936 with 6 Axes>",
      "image/png": "[encoded data removed]"
     },
     "metadata": {
      "needs_background": "light"
     },
     "output_type": "display_data"
    }
   ],
   "source": [
    "fig, ax = plt.subplots(ncols=2, nrows=3, figsize=(11, 13))\n",
    "plt.subplots_adjust(hspace=0.3)\n",
    "\n",
    "c_i = 0\n",
    "r_i = 0\n",
    "for index, (tcga_name, auc_tcga) in enumerate(AUC_TCGA_MAPPING.items()):\n",
    "    calculate_auc_per_tcga(tcga_name, auc_tcga, row_i=r_i, col_i=c_i, fig=fig, ax=ax)\n",
    "    r_i = r_i if index % 2 == 0 else r_i + 1\n",
    "    c_i = 1 if c_i == 0 else 0\n",
    "\n",
    "plt.show()"
   ],
   "metadata": {
    "collapsed": false,
    "pycharm": {
     "name": "#%%\n"
    }
   }
  },
  {
   "cell_type": "code",
   "execution_count": null,
   "outputs": [],
   "source": [],
   "metadata": {
    "collapsed": false,
    "pycharm": {
     "name": "#%%\n"
    }
   }
  },
  {
   "cell_type": "code",
   "execution_count": 104,
   "outputs": [],
   "source": [],
   "metadata": {
    "collapsed": false,
    "pycharm": {
     "name": "#%%\n"
    }
   }
  },
  {
   "cell_type": "code",
   "execution_count": null,
   "outputs": [],
   "source": [],
   "metadata": {
    "collapsed": false,
    "pycharm": {
     "name": "#%%\n"
    }
   }
  },
  {
   "cell_type": "markdown",
   "source": [
    "# ------------------------"
   ],
   "metadata": {
    "collapsed": false,
    "pycharm": {
     "name": "#%% md\n"
    }
   }
  },
  {
   "cell_type": "code",
   "execution_count": 122,
   "outputs": [],
   "source": [
    "foo = cancer_validation.load_output_dict(pickle_path=\"outputs/BRCA_output_2022-02-28.pickle\")"
   ],
   "metadata": {
    "collapsed": false,
    "pycharm": {
     "name": "#%%\n"
    }
   }
  },
  {
   "cell_type": "code",
   "execution_count": 124,
   "outputs": [
    {
     "data": {
      "text/plain": "dict_keys(['data_validation', 'data_validation_processed', 'metrics_data'])"
     },
     "execution_count": 124,
     "metadata": {},
     "output_type": "execute_result"
    }
   ],
   "source": [
    "foo.keys()"
   ],
   "metadata": {
    "collapsed": false,
    "pycharm": {
     "name": "#%%\n"
    }
   }
  },
  {
   "cell_type": "code",
   "execution_count": 125,
   "outputs": [
    {
     "data": {
      "text/plain": "     UniProt_ID Mutation Interactor_UniProt_ID  Prediction  \\\n0        P28062    R216W                P40306           1   \n1        Q15842    E237K                Q14654           0   \n2        Q15842    E237K                P63252           0   \n3        Q9UKS6     R24H                Q9BY11           0   \n4        Q9UKS6     R24H                Q9UNF0           0   \n...         ...      ...                   ...         ...   \n3992     P62140    F169C                P41236           0   \n3993     P61371    D207E                Q969G2           0   \n3994     P61371    D207E                Q8TE12           0   \n3995     P61371    D207E                Q96A47           0   \n3996     O75791    A276G                P46109           1   \n\n      Median_Probability      Validation  \n0                0.55345             N/A  \n1                0.48443             N/A  \n2                0.47205             N/A  \n3                0.49584      Disruptive  \n4                0.41309      Disruptive  \n...                  ...             ...  \n3992             0.41558             N/A  \n3993             0.36453  Non-disruptive  \n3994             0.33794             N/A  \n3995             0.33685             N/A  \n3996             0.57012             N/A  \n\n[3997 rows x 6 columns]",
      "text/html": "<div>\n<style scoped>\n    .dataframe tbody tr th:only-of-type {\n        vertical-align: middle;\n    }\n\n    .dataframe tbody tr th {\n        vertical-align: top;\n    }\n\n    .dataframe thead th {\n        text-align: right;\n    }\n</style>\n<table border=\"1\" class=\"dataframe\">\n  <thead>\n    <tr style=\"text-align: right;\">\n      <th></th>\n      <th>UniProt_ID</th>\n      <th>Mutation</th>\n      <th>Interactor_UniProt_ID</th>\n      <th>Prediction</th>\n      <th>Median_Probability</th>\n      <th>Validation</th>\n    </tr>\n  </thead>\n  <tbody>\n    <tr>\n      <th>0</th>\n      <td>P28062</td>\n      <td>R216W</td>\n      <td>P40306</td>\n      <td>1</td>\n      <td>0.55345</td>\n      <td>N/A</td>\n    </tr>\n    <tr>\n      <th>1</th>\n      <td>Q15842</td>\n      <td>E237K</td>\n      <td>Q14654</td>\n      <td>0</td>\n      <td>0.48443</td>\n      <td>N/A</td>\n    </tr>\n    <tr>\n      <th>2</th>\n      <td>Q15842</td>\n      <td>E237K</td>\n      <td>P63252</td>\n      <td>0</td>\n      <td>0.47205</td>\n      <td>N/A</td>\n    </tr>\n    <tr>\n      <th>3</th>\n      <td>Q9UKS6</td>\n      <td>R24H</td>\n      <td>Q9BY11</td>\n      <td>0</td>\n      <td>0.49584</td>\n      <td>Disruptive</td>\n    </tr>\n    <tr>\n      <th>4</th>\n      <td>Q9UKS6</td>\n      <td>R24H</td>\n      <td>Q9UNF0</td>\n      <td>0</td>\n      <td>0.41309</td>\n      <td>Disruptive</td>\n    </tr>\n    <tr>\n      <th>...</th>\n      <td>...</td>\n      <td>...</td>\n      <td>...</td>\n      <td>...</td>\n      <td>...</td>\n      <td>...</td>\n    </tr>\n    <tr>\n      <th>3992</th>\n      <td>P62140</td>\n      <td>F169C</td>\n      <td>P41236</td>\n      <td>0</td>\n      <td>0.41558</td>\n      <td>N/A</td>\n    </tr>\n    <tr>\n      <th>3993</th>\n      <td>P61371</td>\n      <td>D207E</td>\n      <td>Q969G2</td>\n      <td>0</td>\n      <td>0.36453</td>\n      <td>Non-disruptive</td>\n    </tr>\n    <tr>\n      <th>3994</th>\n      <td>P61371</td>\n      <td>D207E</td>\n      <td>Q8TE12</td>\n      <td>0</td>\n      <td>0.33794</td>\n      <td>N/A</td>\n    </tr>\n    <tr>\n      <th>3995</th>\n      <td>P61371</td>\n      <td>D207E</td>\n      <td>Q96A47</td>\n      <td>0</td>\n      <td>0.33685</td>\n      <td>N/A</td>\n    </tr>\n    <tr>\n      <th>3996</th>\n      <td>O75791</td>\n      <td>A276G</td>\n      <td>P46109</td>\n      <td>1</td>\n      <td>0.57012</td>\n      <td>N/A</td>\n    </tr>\n  </tbody>\n</table>\n<p>3997 rows × 6 columns</p>\n</div>"
     },
     "execution_count": 125,
     "metadata": {},
     "output_type": "execute_result"
    }
   ],
   "source": [
    "foo[\"data_validation\"]"
   ],
   "metadata": {
    "collapsed": false,
    "pycharm": {
     "name": "#%%\n"
    }
   }
  },
  {
   "cell_type": "code",
   "execution_count": 130,
   "outputs": [],
   "source": [
    "from IPython.display import display as view"
   ],
   "metadata": {
    "collapsed": false,
    "pycharm": {
     "name": "#%%\n"
    }
   }
  },
  {
   "cell_type": "code",
   "execution_count": 138,
   "outputs": [
    {
     "data": {
      "text/plain": "    UniProt_ID Mutation Interactor_UniProt_ID  Prediction  Median_Probability  \\\n776     Q07820    D242N                P55957           1             0.74467   \n\n     Validation  \n776  Disruptive  ",
      "text/html": "<div>\n<style scoped>\n    .dataframe tbody tr th:only-of-type {\n        vertical-align: middle;\n    }\n\n    .dataframe tbody tr th {\n        vertical-align: top;\n    }\n\n    .dataframe thead th {\n        text-align: right;\n    }\n</style>\n<table border=\"1\" class=\"dataframe\">\n  <thead>\n    <tr style=\"text-align: right;\">\n      <th></th>\n      <th>UniProt_ID</th>\n      <th>Mutation</th>\n      <th>Interactor_UniProt_ID</th>\n      <th>Prediction</th>\n      <th>Median_Probability</th>\n      <th>Validation</th>\n    </tr>\n  </thead>\n  <tbody>\n    <tr>\n      <th>776</th>\n      <td>Q07820</td>\n      <td>D242N</td>\n      <td>P55957</td>\n      <td>1</td>\n      <td>0.74467</td>\n      <td>Disruptive</td>\n    </tr>\n  </tbody>\n</table>\n</div>"
     },
     "metadata": {},
     "output_type": "display_data"
    },
    {
     "name": "stdout",
     "output_type": "stream",
     "text": [
      "protein: Q07820\n",
      "mutation: D242N\n",
      "Q07820\tP55957\n",
      "P55957\tQ07820\n"
     ]
    }
   ],
   "source": [
    "foo_sampled = foo[\"data_validation\"].sample()\n",
    "[protein] = foo_sampled[\"UniProt_ID\"]\n",
    "[mutation] = foo_sampled[\"Mutation\"]\n",
    "[interactor] = foo_sampled[\"Interactor_UniProt_ID\"]\n",
    "\n",
    "view(foo_sampled)\n",
    "\n",
    "print(f\"protein: {protein}\")\n",
    "print(f\"mutation: {mutation}\")\n",
    "print(f\"{protein}\\t{interactor}\")\n",
    "print(f\"{interactor}\\t{protein}\")"
   ],
   "metadata": {
    "collapsed": false,
    "pycharm": {
     "name": "#%%\n"
    }
   }
  },
  {
   "cell_type": "code",
   "execution_count": null,
   "outputs": [],
   "source": [],
   "metadata": {
    "collapsed": false,
    "pycharm": {
     "name": "#%%\n"
    }
   }
  },
  {
   "cell_type": "code",
   "execution_count": 162,
   "outputs": [
    {
     "data": {
      "text/plain": "     UniProt_ID Mutation Interactor_UniProt_ID  Prediction  \\\n1911     P08697    S248N                P08246           1   \n\n      Median_Probability  Validation  \n1911             0.75752           1  ",
      "text/html": "<div>\n<style scoped>\n    .dataframe tbody tr th:only-of-type {\n        vertical-align: middle;\n    }\n\n    .dataframe tbody tr th {\n        vertical-align: top;\n    }\n\n    .dataframe thead th {\n        text-align: right;\n    }\n</style>\n<table border=\"1\" class=\"dataframe\">\n  <thead>\n    <tr style=\"text-align: right;\">\n      <th></th>\n      <th>UniProt_ID</th>\n      <th>Mutation</th>\n      <th>Interactor_UniProt_ID</th>\n      <th>Prediction</th>\n      <th>Median_Probability</th>\n      <th>Validation</th>\n    </tr>\n  </thead>\n  <tbody>\n    <tr>\n      <th>1911</th>\n      <td>P08697</td>\n      <td>S248N</td>\n      <td>P08246</td>\n      <td>1</td>\n      <td>0.75752</td>\n      <td>1</td>\n    </tr>\n  </tbody>\n</table>\n</div>"
     },
     "metadata": {},
     "output_type": "display_data"
    },
    {
     "name": "stdout",
     "output_type": "stream",
     "text": [
      "protein: P08697\n",
      "mutation: S248N\n",
      "P08697\tP08246\n",
      "P08246\tP08697\n"
     ]
    }
   ],
   "source": [
    "foo_sampled = foo[\"data_validation_processed\"].sample()\n",
    "[protein] = foo_sampled[\"UniProt_ID\"]\n",
    "[mutation] = foo_sampled[\"Mutation\"]\n",
    "[interactor] = foo_sampled[\"Interactor_UniProt_ID\"]\n",
    "\n",
    "view(foo_sampled)\n",
    "\n",
    "print(f\"protein: {protein}\")\n",
    "print(f\"mutation: {mutation}\")\n",
    "print(f\"{protein}\\t{interactor}\")\n",
    "print(f\"{interactor}\\t{protein}\")"
   ],
   "metadata": {
    "collapsed": false,
    "pycharm": {
     "name": "#%%\n"
    }
   }
  },
  {
   "cell_type": "code",
   "execution_count": 154,
   "outputs": [],
   "source": [
    "from sklearn.metrics import accuracy_score, balanced_accuracy_score"
   ],
   "metadata": {
    "collapsed": false,
    "pycharm": {
     "name": "#%%\n"
    }
   }
  },
  {
   "cell_type": "code",
   "execution_count": 158,
   "outputs": [],
   "source": [
    "bar = foo[\"data_validation_processed\"]\n",
    "bar_pred_0 = bar[bar[\"Prediction\"] == 0]\n",
    "bar_pred_1 = bar[bar[\"Prediction\"] == 1]"
   ],
   "metadata": {
    "collapsed": false,
    "pycharm": {
     "name": "#%%\n"
    }
   }
  },
  {
   "cell_type": "code",
   "execution_count": 159,
   "outputs": [
    {
     "name": "stdout",
     "output_type": "stream",
     "text": [
      "Accuracy: 0.29273504273504275\n"
     ]
    }
   ],
   "source": [
    "print(\"Accuracy: {}\".format(accuracy_score(\n",
    "    bar_pred_0[\"Validation\"], bar_pred_0[\"Prediction\"]\n",
    ")))"
   ],
   "metadata": {
    "collapsed": false,
    "pycharm": {
     "name": "#%%\n"
    }
   }
  },
  {
   "cell_type": "code",
   "execution_count": 160,
   "outputs": [
    {
     "name": "stdout",
     "output_type": "stream",
     "text": [
      "Accuracy: 0.6894790602655771\n"
     ]
    }
   ],
   "source": [
    "print(\"Accuracy: {}\".format(accuracy_score(\n",
    "    bar_pred_1[\"Validation\"], bar_pred_1[\"Prediction\"]\n",
    ")))"
   ],
   "metadata": {
    "collapsed": false,
    "pycharm": {
     "name": "#%%\n"
    }
   }
  },
  {
   "cell_type": "code",
   "execution_count": null,
   "outputs": [],
   "source": [],
   "metadata": {
    "collapsed": false,
    "pycharm": {
     "name": "#%%\n"
    }
   }
  },
  {
   "cell_type": "code",
   "execution_count": null,
   "outputs": [],
   "source": [],
   "metadata": {
    "collapsed": false,
    "pycharm": {
     "name": "#%%\n"
    }
   }
  },
  {
   "cell_type": "code",
   "execution_count": 155,
   "outputs": [
    {
     "data": {
      "text/plain": "0.4955613577023499"
     },
     "execution_count": 155,
     "metadata": {},
     "output_type": "execute_result"
    }
   ],
   "source": [
    "accuracy_score(\n",
    "    y_true=foo[\"data_validation_processed\"][\"Validation\"],\n",
    "    y_pred=foo[\"data_validation_processed\"][\"Prediction\"],\n",
    ")"
   ],
   "metadata": {
    "collapsed": false,
    "pycharm": {
     "name": "#%%\n"
    }
   }
  },
  {
   "cell_type": "code",
   "execution_count": 156,
   "outputs": [
    {
     "data": {
      "text/plain": "0.4894550367113276"
     },
     "execution_count": 156,
     "metadata": {},
     "output_type": "execute_result"
    }
   ],
   "source": [
    "balanced_accuracy_score(\n",
    "    y_true=foo[\"data_validation_processed\"][\"Validation\"],\n",
    "    y_pred=foo[\"data_validation_processed\"][\"Prediction\"],\n",
    ")"
   ],
   "metadata": {
    "collapsed": false,
    "pycharm": {
     "name": "#%%\n"
    }
   }
  },
  {
   "cell_type": "code",
   "execution_count": null,
   "outputs": [],
   "source": [],
   "metadata": {
    "collapsed": false,
    "pycharm": {
     "name": "#%%\n"
    }
   }
  },
  {
   "cell_type": "code",
   "execution_count": null,
   "outputs": [],
   "source": [],
   "metadata": {
    "collapsed": false,
    "pycharm": {
     "name": "#%%\n"
    }
   }
  },
  {
   "cell_type": "code",
   "execution_count": null,
   "outputs": [],
   "source": [],
   "metadata": {
    "collapsed": false,
    "pycharm": {
     "name": "#%%\n"
    }
   }
  },
  {
   "cell_type": "code",
   "execution_count": null,
   "outputs": [],
   "source": [],
   "metadata": {
    "collapsed": false,
    "pycharm": {
     "name": "#%%\n"
    }
   }
  },
  {
   "cell_type": "code",
   "execution_count": 109,
   "outputs": [],
   "source": [
    "fpr_test, tpr_test, thresholds_test = roc_curve(\n",
    "    brca_output_0[\"data_validation_processed\"][\"Validation\"], brca_output_0[\"data_validation_processed\"][\"Median_Probability\"]\n",
    ")"
   ],
   "metadata": {
    "collapsed": false,
    "pycharm": {
     "name": "#%%\n"
    }
   }
  },
  {
   "cell_type": "code",
   "execution_count": 115,
   "outputs": [],
   "source": [
    "y_temp = brca_output_0[\"data_validation_processed\"][\"Validation\"]\n",
    "y_pred_prob_temp = brca_output_0[\"data_validation_processed\"][\"Median_Probability\"]"
   ],
   "metadata": {
    "collapsed": false,
    "pycharm": {
     "name": "#%%\n"
    }
   }
  },
  {
   "cell_type": "code",
   "execution_count": 111,
   "outputs": [],
   "source": [
    "from collections import Counter"
   ],
   "metadata": {
    "collapsed": false,
    "pycharm": {
     "name": "#%%\n"
    }
   }
  },
  {
   "cell_type": "code",
   "execution_count": 112,
   "outputs": [
    {
     "data": {
      "text/plain": "Counter({0: 274, 1: 662})"
     },
     "execution_count": 112,
     "metadata": {},
     "output_type": "execute_result"
    }
   ],
   "source": [
    "Counter(y_temp)"
   ],
   "metadata": {
    "collapsed": false,
    "pycharm": {
     "name": "#%%\n"
    }
   }
  },
  {
   "cell_type": "code",
   "execution_count": 121,
   "outputs": [],
   "source": [
    "brca_output_0[\"data_validation_processed\"][\"Median_Probability\"].to_csv(\"foo.csv\", index=False)"
   ],
   "metadata": {
    "collapsed": false,
    "pycharm": {
     "name": "#%%\n"
    }
   }
  },
  {
   "cell_type": "code",
   "execution_count": 119,
   "outputs": [
    {
     "data": {
      "text/plain": "3     0.49584\n4     0.41309\n18    0.34566\n25    0.38460\n30    0.42636\nName: Median_Probability, dtype: float64"
     },
     "execution_count": 119,
     "metadata": {},
     "output_type": "execute_result"
    }
   ],
   "source": [
    "y_pred_prob_temp.head()"
   ],
   "metadata": {
    "collapsed": false,
    "pycharm": {
     "name": "#%%\n"
    }
   }
  },
  {
   "cell_type": "code",
   "execution_count": null,
   "outputs": [],
   "source": [],
   "metadata": {
    "collapsed": false,
    "pycharm": {
     "name": "#%%\n"
    }
   }
  },
  {
   "cell_type": "code",
   "execution_count": 23,
   "outputs": [],
   "source": [
    "from matplotlib import pyplot as plt"
   ],
   "metadata": {
    "collapsed": false,
    "pycharm": {
     "name": "#%%\n"
    }
   }
  },
  {
   "cell_type": "code",
   "execution_count": null,
   "outputs": [],
   "source": [],
   "metadata": {
    "collapsed": false,
    "pycharm": {
     "name": "#%%\n"
    }
   }
  },
  {
   "cell_type": "code",
   "execution_count": 25,
   "outputs": [],
   "source": [
    "from sklearn.metrics import RocCurveDisplay"
   ],
   "metadata": {
    "collapsed": false,
    "pycharm": {
     "name": "#%%\n"
    }
   }
  },
  {
   "cell_type": "code",
   "execution_count": null,
   "outputs": [],
   "source": [
    "RocCurveDisplay()\n",
    "\n"
   ],
   "metadata": {
    "collapsed": false,
    "pycharm": {
     "name": "#%%\n"
    }
   }
  },
  {
   "cell_type": "code",
   "execution_count": null,
   "outputs": [],
   "source": [
    "fig, ax = plt.subplots()\n",
    "display_1 = RocCurveDisplay(fpr=fpr_1, tpr=tpr_1, roc_auc=auc(fpr_1, tpr_1), estimator_name=\"1\")\n",
    "ax.set_xlabel(\"False Positive Rate\")\n",
    "ax.set_ylabel(\"True Positive Rate\")\n",
    "display_2 = RocCurveDisplay(fpr=fpr_2, tpr=tpr_2, roc_auc=auc(fpr_2, tpr_2), estimator_name=\"2\")\n",
    "display_1.plot(ax=ax, name=\"1\")\n",
    "display_2.plot(ax=ax, name=\"2\")\n"
   ],
   "metadata": {
    "collapsed": false,
    "pycharm": {
     "name": "#%%\n"
    }
   }
  },
  {
   "cell_type": "code",
   "execution_count": null,
   "outputs": [],
   "source": [],
   "metadata": {
    "collapsed": false,
    "pycharm": {
     "name": "#%%\n"
    }
   }
  },
  {
   "cell_type": "code",
   "execution_count": null,
   "outputs": [],
   "source": [],
   "metadata": {
    "collapsed": false,
    "pycharm": {
     "name": "#%%\n"
    }
   }
  },
  {
   "cell_type": "code",
   "execution_count": 37,
   "outputs": [
    {
     "data": {
      "text/plain": "<Figure size 432x288 with 1 Axes>",
      "image/png": "[encoded data removed]"
     },
     "metadata": {
      "needs_background": "light"
     },
     "output_type": "display_data"
    },
    {
     "data": {
      "text/plain": "<Figure size 432x288 with 1 Axes>",
      "image/png": "[encoded data removed]"
     },
     "metadata": {
      "needs_background": "light"
     },
     "output_type": "display_data"
    }
   ],
   "source": [
    "fpr, tpr, thresholds = roc_curve(y_temp, y_pred_prob_temp)\n",
    "roc_auc = auc(fpr, tpr)\n",
    "display = RocCurveDisplay(fpr=fpr, tpr=tpr, roc_auc=roc_auc, estimator_name='Predator on BRCA')\n",
    "display2 = RocCurveDisplay(fpr=fpr, tpr=tpr + 0.2, roc_auc=roc_auc, estimator_name='Predator on XXXX')\n",
    "display.plot()\n",
    "display2.plot()\n",
    "plt.show()"
   ],
   "metadata": {
    "collapsed": false,
    "pycharm": {
     "name": "#%%\n"
    }
   }
  },
  {
   "cell_type": "code",
   "execution_count": null,
   "outputs": [],
   "source": [],
   "metadata": {
    "collapsed": false,
    "pycharm": {
     "name": "#%%\n"
    }
   }
  },
  {
   "cell_type": "code",
   "execution_count": null,
   "outputs": [],
   "source": [],
   "metadata": {
    "collapsed": false,
    "pycharm": {
     "name": "#%%\n"
    }
   }
  },
  {
   "cell_type": "code",
   "execution_count": null,
   "outputs": [],
   "source": [],
   "metadata": {
    "collapsed": false,
    "pycharm": {
     "name": "#%%\n"
    }
   }
  },
  {
   "cell_type": "code",
   "execution_count": null,
   "outputs": [],
   "source": [
    "fig, ax = plt.subplots(figsize=(6.5, 2.5))\n",
    "for col in score_columns:\n",
    "    display = RocCurveDisplay.from_predictions(\n",
    "        df[\"effect_score\"] > 0, df[col], name=labels[col.split(\"_\")[0]], ax=ax\n",
    "    )\n",
    "    ax.set_xlabel(\"False Positive Rate\")\n",
    "    ax.set_ylabel(\"True Positive Rate\")\n",
    "    ax.legend(loc=\"center left\", bbox_to_anchor=(1, 0.55), bbox_transform=ax.transAxes)\n",
    "fig.subplots_adjust(left=0.09, right=0.54, top=0.98, bottom=0.17)"
   ],
   "metadata": {
    "collapsed": false,
    "pycharm": {
     "name": "#%%\n"
    }
   }
  },
  {
   "cell_type": "code",
   "execution_count": null,
   "outputs": [],
   "source": [],
   "metadata": {
    "collapsed": false,
    "pycharm": {
     "name": "#%%\n"
    }
   }
  },
  {
   "cell_type": "markdown",
   "source": [
    "# ---------------"
   ],
   "metadata": {
    "collapsed": false
   }
  },
  {
   "cell_type": "code",
   "execution_count": null,
   "outputs": [],
   "source": [],
   "metadata": {
    "collapsed": false,
    "pycharm": {
     "name": "#%%\n"
    }
   }
  }
 ],
 "metadata": {
  "kernelspec": {
   "display_name": "Python 3",
   "language": "python",
   "name": "python3"
  },
  "language_info": {
   "codemirror_mode": {
    "name": "ipython",
    "version": 2
   },
   "file_extension": ".py",
   "mimetype": "text/x-python",
   "name": "python",
   "nbconvert_exporter": "python",
   "pygments_lexer": "ipython2",
   "version": "2.7.6"
  }
 },
 "nbformat": 4,
 "nbformat_minor": 0
}