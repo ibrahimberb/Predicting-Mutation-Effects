{
 "cells": [
  {
   "cell_type": "markdown",
   "id": "a507755d-7d6d-42e6-8c83-44ed01e1fe5c",
   "metadata": {},
   "source": [
    "# Mutual Exclusivity: BRCA"
   ]
  },
  {
   "cell_type": "code",
   "execution_count": 1,
   "id": "a9942580-be24-4b17-b45b-918d3b3f153a",
   "metadata": {},
   "outputs": [],
   "source": [
    "import os\n",
    "import os.path as op\n",
    "\n",
    "os.chdir('../')\n",
    "\n",
    "# os.listdir()"
   ]
  },
  {
   "cell_type": "code",
   "execution_count": 2,
   "id": "91c19c2c-491d-4b6e-bdfb-248f2bb0f7ce",
   "metadata": {},
   "outputs": [],
   "source": [
    "# SNV_PATHS\n",
    "SNV_COMMON_PATH = \"C:/Users/ibrah/Desktop/SNV_data/SNV_datasets/\"\n",
    "BRCA_SNV_PATH = op.join(SNV_COMMON_PATH, \"SNV_BRCA_hg38_2021-09-22.csv\")\n",
    "\n",
    "# PATIENT INTERACTION DATA PATHS\n",
    "BRCA_PATIENT_INTERACTION_DATA_PATH = \"dev/BRCA_patient_interactions_analysis_table_2021-11-15.xlsx\"\n",
    "\n",
    "# Reflect changes in the modules immediately.\n",
    "%load_ext autoreload\n",
    "%autoreload 2"
   ]
  },
  {
   "cell_type": "code",
   "execution_count": 3,
   "id": "8b4bb5d5-7339-4c1d-9311-7fd0400a8cf3",
   "metadata": {},
   "outputs": [],
   "source": [
    "from helpers.helpers_analysis.mutual_exclusivity import MutualExclusivity\n",
    "from helpers.helpers_analysis.protein_id_retrieval import ProteinIDFetcher"
   ]
  },
  {
   "cell_type": "code",
   "execution_count": 4,
   "id": "4564f2f4-948b-4ce9-bc8d-d23c3a0b35b0",
   "metadata": {},
   "outputs": [
    {
     "name": "stdout",
     "output_type": "stream",
     "text": [
      "2021-11-15 15:13:26 |\u001b[36m DEBUG    \u001b[0m| helpers.helpers_analysis.mutual_exclusivity | Loading SNV data simplified ..\n",
      "2021-11-15 15:13:26 |\u001b[32m INFO     \u001b[0m| helpers.helpers_analysis.loaders | Loading BRCA SNV datasets ..\n",
      "2021-11-15 15:13:33 |\u001b[36m DEBUG    \u001b[0m| helpers.helpers_analysis.loaders | BRCA SNV data size: (120988, 121)\n",
      "2021-11-15 15:13:34 |\u001b[36m DEBUG    \u001b[0m| helpers.helpers_analysis.loaders | BRCA SNV data processed size: (60251, 121)\n",
      "2021-11-15 15:13:34 |\u001b[32m INFO     \u001b[0m| helpers.helpers_analysis.loaders | BRCA SNV datasets are loaded.\n",
      "2021-11-15 15:13:34 |\u001b[36m DEBUG    \u001b[0m| helpers.helpers_analysis.mutual_exclusivity | Loading patient ids ..\n",
      "2021-11-15 15:13:34 |\u001b[36m DEBUG    \u001b[0m| helpers.helpers_analysis.mutual_exclusivity | Loading patient to snv_data ..\n"
     ]
    },
    {
     "data": {
      "application/vnd.jupyter.widget-view+json": {
       "model_id": "672bf9e18b20417d82a9037d5b673f72",
       "version_major": 2,
       "version_minor": 0
      },
      "text/plain": [
       "  0%|          | 0/985 [00:00<?, ?it/s]"
      ]
     },
     "metadata": {},
     "output_type": "display_data"
    },
    {
     "name": "stdout",
     "output_type": "stream",
     "text": [
      "2021-11-15 15:13:44 |\u001b[36m DEBUG    \u001b[0m| helpers.helpers_analysis.mutual_exclusivity | patient interaction data patient data ..\n"
     ]
    }
   ],
   "source": [
    "brca_mutex = MutualExclusivity(\n",
    "    tcga=\"BRCA\", \n",
    "    tcga_snv_path=BRCA_SNV_PATH, \n",
    "    patient_interaction_data_path=BRCA_PATIENT_INTERACTION_DATA_PATH\n",
    ")"
   ]
  },
  {
   "cell_type": "code",
   "execution_count": 5,
   "id": "5268b0f6-9528-4337-84c0-a099971aa754",
   "metadata": {},
   "outputs": [
    {
     "data": {
      "text/plain": [
       "985"
      ]
     },
     "execution_count": 5,
     "metadata": {},
     "output_type": "execute_result"
    }
   ],
   "source": [
    "len(brca_mutex.patients)"
   ]
  },
  {
   "cell_type": "code",
   "execution_count": 6,
   "id": "a1adf927-6abf-4712-92cb-778bd92a1f31",
   "metadata": {},
   "outputs": [
    {
     "data": {
      "text/plain": [
       "204"
      ]
     },
     "execution_count": 6,
     "metadata": {},
     "output_type": "execute_result"
    }
   ],
   "source": [
    "len(brca_mutex.get_patients_with(\"P04637\", identifier_type=\"protein\"))"
   ]
  },
  {
   "cell_type": "code",
   "execution_count": 7,
   "id": "75b28d84-8d81-484e-b9cd-e046eb3cbb8d",
   "metadata": {},
   "outputs": [
    {
     "data": {
      "text/plain": [
       "27"
      ]
     },
     "execution_count": 7,
     "metadata": {},
     "output_type": "execute_result"
    }
   ],
   "source": [
    "len(brca_mutex.get_patients_with(\"P04626\", identifier_type=\"protein\"))"
   ]
  },
  {
   "cell_type": "code",
   "execution_count": 8,
   "id": "533c31a0-2ae1-4ad8-a0e0-5e321a1bb8f0",
   "metadata": {},
   "outputs": [
    {
     "data": {
      "text/plain": [
       "['P04626', 'J3QLU9']"
      ]
     },
     "execution_count": 8,
     "metadata": {},
     "output_type": "execute_result"
    }
   ],
   "source": [
    "ProteinIDFetcher().fetch(\"ERBB2\")"
   ]
  },
  {
   "cell_type": "code",
   "execution_count": 9,
   "id": "841d5383-eb26-4ec0-903c-7f39723b72e3",
   "metadata": {},
   "outputs": [
    {
     "data": {
      "text/plain": [
       "27"
      ]
     },
     "execution_count": 9,
     "metadata": {},
     "output_type": "execute_result"
    }
   ],
   "source": [
    "len(brca_mutex.get_patients_with(\"P04626\", identifier_type=\"protein\"))"
   ]
  },
  {
   "cell_type": "code",
   "execution_count": 10,
   "id": "5dc65bc7-ee86-43e0-aba4-b4b5ea63aaa5",
   "metadata": {},
   "outputs": [
    {
     "data": {
      "text/plain": [
       "0"
      ]
     },
     "execution_count": 10,
     "metadata": {},
     "output_type": "execute_result"
    }
   ],
   "source": [
    "len(brca_mutex.get_patients_with(\"J3QLU9\", identifier_type=\"protein\"))"
   ]
  },
  {
   "cell_type": "code",
   "execution_count": null,
   "id": "c94099b3-fbb9-46d6-968d-30a65dc4e755",
   "metadata": {},
   "outputs": [],
   "source": []
  },
  {
   "cell_type": "markdown",
   "id": "583000c6-abc4-4883-a906-4a7a18c44afd",
   "metadata": {},
   "source": [
    "Örneğin ERBB2 geni için en sık disrupt olan interactor SRPK1, ERBB2 ile SRPK1 arasındaki mutual exclusivity'yi hesaplayalım. \n",
    "\n",
    "S1 ERBB'nun mutasyona uğradığı hasta seti olsun. \n",
    "S2 SRPK1'nın mutasyona uğradığı hasta seti olsun. \n",
    "\n",
    "P04626 - ERBBR\n",
    "Q96SB4 - SRPK1\n",
    "\n",
    "|S1 union S2| / |S1| + |S2| değerini hesaplayalım. \n",
    "\n",
    "mutasyona uğradığı derken direk snv datasına bakabiliriz elaspic'i karıştırmadan. \n",
    "\n",
    "Aynı hesaplamayı ERBB2'nun bütün interactorları için tekrarlayalım. SRPK1 ile olan mutual exclusivity değeri daha mı iyi görelim.\n",
    "\n",
    "Bunu analysis.docx'deki tablolarda bulunan genler için tekrarlayalım."
   ]
  },
  {
   "cell_type": "code",
   "execution_count": 11,
   "id": "5a72c03b-fcfc-44c3-b569-35c5568cc9a9",
   "metadata": {},
   "outputs": [
    {
     "data": {
      "text/plain": [
       "1.0"
      ]
     },
     "execution_count": 11,
     "metadata": {},
     "output_type": "execute_result"
    }
   ],
   "source": [
    "brca_mutex.calculate_mutual_exclusivity(\"P04626\", \"Q96SB4\")"
   ]
  },
  {
   "cell_type": "code",
   "execution_count": null,
   "id": "7e8247ed-0502-40d3-944a-f71d9648390b",
   "metadata": {},
   "outputs": [],
   "source": []
  },
  {
   "cell_type": "markdown",
   "id": "7347b64d-353d-4efa-8b48-cd1fa161dae7",
   "metadata": {
    "tags": []
   },
   "source": [
    "## Patient Interaction Data"
   ]
  },
  {
   "cell_type": "code",
   "execution_count": 12,
   "id": "d0f59552-1633-40f7-8753-5c1dfd8be97a",
   "metadata": {},
   "outputs": [
    {
     "data": {
      "text/html": [
       "<div>\n",
       "<style scoped>\n",
       "    .dataframe tbody tr th:only-of-type {\n",
       "        vertical-align: middle;\n",
       "    }\n",
       "\n",
       "    .dataframe tbody tr th {\n",
       "        vertical-align: top;\n",
       "    }\n",
       "\n",
       "    .dataframe thead th {\n",
       "        text-align: right;\n",
       "    }\n",
       "</style>\n",
       "<table border=\"1\" class=\"dataframe\">\n",
       "  <thead>\n",
       "    <tr style=\"text-align: right;\">\n",
       "      <th></th>\n",
       "      <th>PATIENT</th>\n",
       "      <th>PROTEIN_GENE</th>\n",
       "      <th>MUTATION</th>\n",
       "      <th>INTERACTORS</th>\n",
       "      <th>NUM_INTERACTORS</th>\n",
       "      <th>DISRUPTIVE_INTERACTORS</th>\n",
       "      <th>NUM_DISRUPTIVE_INTERACTORS</th>\n",
       "      <th>NON_DISRUPTIVE_INTERACTORS</th>\n",
       "      <th>NUM_NON_DISRUPTIVE_INTERACTORS</th>\n",
       "      <th>CORE_INTERFACE_VS_INTERFACE_STATUS</th>\n",
       "    </tr>\n",
       "  </thead>\n",
       "  <tbody>\n",
       "    <tr>\n",
       "      <th>0</th>\n",
       "      <td>TCGA-D8-A1XY</td>\n",
       "      <td>Q9UKS6:PACSIN3</td>\n",
       "      <td>R24H</td>\n",
       "      <td>Q9BY11:PACSIN1,Q9UNF0:PACSIN2,Q5TZC3:PACSIN1,Q...</td>\n",
       "      <td>4</td>\n",
       "      <td>Q9BY11:PACSIN1:0.5,Q9UNF0:PACSIN2:0.59,Q6FIA3:...</td>\n",
       "      <td>3</td>\n",
       "      <td>Q5TZC3:PACSIN1</td>\n",
       "      <td>1</td>\n",
       "      <td>I</td>\n",
       "    </tr>\n",
       "    <tr>\n",
       "      <th>1</th>\n",
       "      <td>TCGA-AO-A0J5</td>\n",
       "      <td>Q9UBN7:HDAC6</td>\n",
       "      <td>D567Y</td>\n",
       "      <td>Q96DB2:HDAC11</td>\n",
       "      <td>1</td>\n",
       "      <td>Q96DB2:HDAC11:0.55</td>\n",
       "      <td>1</td>\n",
       "      <td>NaN</td>\n",
       "      <td>0</td>\n",
       "      <td>I</td>\n",
       "    </tr>\n",
       "    <tr>\n",
       "      <th>2</th>\n",
       "      <td>TCGA-A8-A093</td>\n",
       "      <td>P28062:PSMB8</td>\n",
       "      <td>R216W</td>\n",
       "      <td>P40306:PSMB10</td>\n",
       "      <td>1</td>\n",
       "      <td>NaN</td>\n",
       "      <td>0</td>\n",
       "      <td>P40306:PSMB10</td>\n",
       "      <td>1</td>\n",
       "      <td>I</td>\n",
       "    </tr>\n",
       "    <tr>\n",
       "      <th>3</th>\n",
       "      <td>TCGA-A8-A093</td>\n",
       "      <td>Q15842:KCNJ8</td>\n",
       "      <td>E237K</td>\n",
       "      <td>Q14654:KCNJ11,P63252:KCNJ2</td>\n",
       "      <td>2</td>\n",
       "      <td>Q14654:KCNJ11:0.52,P63252:KCNJ2:0.53</td>\n",
       "      <td>2</td>\n",
       "      <td>NaN</td>\n",
       "      <td>0</td>\n",
       "      <td>I</td>\n",
       "    </tr>\n",
       "    <tr>\n",
       "      <th>4</th>\n",
       "      <td>TCGA-LD-A74U</td>\n",
       "      <td>O15041:SEMA3E</td>\n",
       "      <td>E364K</td>\n",
       "      <td>Q9Y4D7:PLXND1</td>\n",
       "      <td>1</td>\n",
       "      <td>NaN</td>\n",
       "      <td>0</td>\n",
       "      <td>Q9Y4D7:PLXND1</td>\n",
       "      <td>1</td>\n",
       "      <td>I</td>\n",
       "    </tr>\n",
       "  </tbody>\n",
       "</table>\n",
       "</div>"
      ],
      "text/plain": [
       "        PATIENT    PROTEIN_GENE MUTATION  \\\n",
       "0  TCGA-D8-A1XY  Q9UKS6:PACSIN3     R24H   \n",
       "1  TCGA-AO-A0J5    Q9UBN7:HDAC6    D567Y   \n",
       "2  TCGA-A8-A093    P28062:PSMB8    R216W   \n",
       "3  TCGA-A8-A093    Q15842:KCNJ8    E237K   \n",
       "4  TCGA-LD-A74U   O15041:SEMA3E    E364K   \n",
       "\n",
       "                                         INTERACTORS  NUM_INTERACTORS  \\\n",
       "0  Q9BY11:PACSIN1,Q9UNF0:PACSIN2,Q5TZC3:PACSIN1,Q...                4   \n",
       "1                                      Q96DB2:HDAC11                1   \n",
       "2                                      P40306:PSMB10                1   \n",
       "3                         Q14654:KCNJ11,P63252:KCNJ2                2   \n",
       "4                                      Q9Y4D7:PLXND1                1   \n",
       "\n",
       "                              DISRUPTIVE_INTERACTORS  \\\n",
       "0  Q9BY11:PACSIN1:0.5,Q9UNF0:PACSIN2:0.59,Q6FIA3:...   \n",
       "1                                 Q96DB2:HDAC11:0.55   \n",
       "2                                                NaN   \n",
       "3               Q14654:KCNJ11:0.52,P63252:KCNJ2:0.53   \n",
       "4                                                NaN   \n",
       "\n",
       "   NUM_DISRUPTIVE_INTERACTORS NON_DISRUPTIVE_INTERACTORS  \\\n",
       "0                           3             Q5TZC3:PACSIN1   \n",
       "1                           1                        NaN   \n",
       "2                           0              P40306:PSMB10   \n",
       "3                           2                        NaN   \n",
       "4                           0              Q9Y4D7:PLXND1   \n",
       "\n",
       "   NUM_NON_DISRUPTIVE_INTERACTORS CORE_INTERFACE_VS_INTERFACE_STATUS  \n",
       "0                               1                                  I  \n",
       "1                               0                                  I  \n",
       "2                               1                                  I  \n",
       "3                               0                                  I  \n",
       "4                               1                                  I  "
      ]
     },
     "execution_count": 12,
     "metadata": {},
     "output_type": "execute_result"
    }
   ],
   "source": [
    "brca_mutex.patient_interaction_data.head()"
   ]
  },
  {
   "cell_type": "code",
   "execution_count": null,
   "id": "195a2d4c-8c28-4def-881c-bc461f9cf628",
   "metadata": {},
   "outputs": [],
   "source": [
    "    SRPK1"
   ]
  },
  {
   "cell_type": "code",
   "execution_count": 15,
   "id": "cc9b6d0e-7fda-4a85-9c0f-1cbee20ff7e8",
   "metadata": {},
   "outputs": [
    {
     "data": {
      "text/plain": [
       "Counter({'P21860:ERBB3': 1,\n",
       "         'O60674:JAK2': 1,\n",
       "         'P15153:RAC2': 1,\n",
       "         'Q96SB4:SRPK1': 7,\n",
       "         'Q9UJM3:ERRFI1': 1,\n",
       "         'Q92625:ANKS1A': 1,\n",
       "         'P23458:JAK1': 1,\n",
       "         'P00533:EGFR': 2,\n",
       "         'P51813:BMX': 2,\n",
       "         'Q14289:PTK2B': 2,\n",
       "         'P16591:FER': 2,\n",
       "         'P06241:FYN': 2,\n",
       "         'P08069:IGF1R': 2,\n",
       "         'Q13153:PAK1': 2,\n",
       "         'P42680:TEC': 2})"
      ]
     },
     "execution_count": 15,
     "metadata": {},
     "output_type": "execute_result"
    }
   ],
   "source": [
    "brca_mutex.get_disrupted_interactors(\n",
    "    \"ERBB2\", identifier_type=\"gene\", return_counter=True\n",
    ")"
   ]
  },
  {
   "cell_type": "code",
   "execution_count": 14,
   "id": "f143a106-6390-44df-ab90-0ab1a376b27c",
   "metadata": {},
   "outputs": [
    {
     "data": {
      "text/plain": [
       "Counter({'O15350:TP73': 13,\n",
       "         'Q96KQ7:EHMT2': 14,\n",
       "         'Q13625:TP53BP2': 42,\n",
       "         'Q9H9B1:EHMT1': 9,\n",
       "         'Q9H3D4:TP63': 18,\n",
       "         'Q96KQ4:PPP1R13B': 42,\n",
       "         'Q99728:BARD1': 8,\n",
       "         'O75832:PSMD10': 8,\n",
       "         'Q9ULT8:HECTD1': 8,\n",
       "         'H2EHT1:TP53': 16,\n",
       "         'K7PPA8:TP53': 16,\n",
       "         'P62993:GRB2': 33,\n",
       "         'P07948:LYN': 12,\n",
       "         'Q8WUF5:PPP1R13L': 30,\n",
       "         'Q06187:BTK': 31})"
      ]
     },
     "execution_count": 14,
     "metadata": {},
     "output_type": "execute_result"
    }
   ],
   "source": [
    "brca_mutex.get_disrupted_interactors(\"TP53\", identifier_type=\"gene\", return_counter=True)"
   ]
  },
  {
   "cell_type": "code",
   "execution_count": 14,
   "id": "2f445447-6a8d-4ad3-9ddd-f0f460500b87",
   "metadata": {},
   "outputs": [
    {
     "data": {
      "text/plain": [
       "Counter({'O15350:TP73': 13,\n",
       "         'Q96KQ7:EHMT2': 14,\n",
       "         'Q13625:TP53BP2': 42,\n",
       "         'Q9H9B1:EHMT1': 9,\n",
       "         'Q9H3D4:TP63': 18,\n",
       "         'Q96KQ4:PPP1R13B': 42,\n",
       "         'Q99728:BARD1': 8,\n",
       "         'O75832:PSMD10': 8,\n",
       "         'Q9ULT8:HECTD1': 8,\n",
       "         'H2EHT1:TP53': 16,\n",
       "         'K7PPA8:TP53': 16,\n",
       "         'P62993:GRB2': 33,\n",
       "         'P07948:LYN': 12,\n",
       "         'Q8WUF5:PPP1R13L': 30,\n",
       "         'Q06187:BTK': 31})"
      ]
     },
     "execution_count": 14,
     "metadata": {},
     "output_type": "execute_result"
    }
   ],
   "source": [
    "brca_mutex.get_disrupted_interactors(\"TP53\", identifier_type=\"gene\", return_counter=True)"
   ]
  },
  {
   "cell_type": "code",
   "execution_count": 15,
   "id": "bca305ff-a250-4316-b569-d69df2e95ef9",
   "metadata": {},
   "outputs": [
    {
     "data": {
      "text/plain": [
       "['Q13625:TP53BP2',\n",
       " 'Q96KQ4:PPP1R13B',\n",
       " 'P62993:GRB2',\n",
       " 'Q06187:BTK',\n",
       " 'Q8WUF5:PPP1R13L',\n",
       " 'Q9H3D4:TP63',\n",
       " 'H2EHT1:TP53',\n",
       " 'K7PPA8:TP53',\n",
       " 'Q96KQ7:EHMT2',\n",
       " 'O15350:TP73',\n",
       " 'P07948:LYN',\n",
       " 'Q9H9B1:EHMT1',\n",
       " 'Q99728:BARD1',\n",
       " 'O75832:PSMD10',\n",
       " 'Q9ULT8:HECTD1']"
      ]
     },
     "execution_count": 15,
     "metadata": {},
     "output_type": "execute_result"
    }
   ],
   "source": [
    "brca_mutex.get_disrupted_interactors(\"TP53\", identifier_type=\"gene\")"
   ]
  },
  {
   "cell_type": "code",
   "execution_count": 16,
   "id": "7e4818ba-f6ed-4d93-9e29-ff2381924936",
   "metadata": {},
   "outputs": [
    {
     "data": {
      "text/plain": [
       "Counter({'O15350:TP73': 13,\n",
       "         'Q96KQ7:EHMT2': 14,\n",
       "         'Q13625:TP53BP2': 42,\n",
       "         'Q9H9B1:EHMT1': 9,\n",
       "         'Q9H3D4:TP63': 18,\n",
       "         'Q96KQ4:PPP1R13B': 42,\n",
       "         'Q99728:BARD1': 8,\n",
       "         'O75832:PSMD10': 8,\n",
       "         'Q9ULT8:HECTD1': 8,\n",
       "         'H2EHT1:TP53': 16,\n",
       "         'K7PPA8:TP53': 16,\n",
       "         'P62993:GRB2': 33,\n",
       "         'P07948:LYN': 12,\n",
       "         'Q8WUF5:PPP1R13L': 30,\n",
       "         'Q06187:BTK': 31})"
      ]
     },
     "execution_count": 16,
     "metadata": {},
     "output_type": "execute_result"
    }
   ],
   "source": [
    "brca_mutex.get_disrupted_interactors(\"TP53\", identifier_type=\"gene\", return_counter=True)"
   ]
  },
  {
   "cell_type": "code",
   "execution_count": 17,
   "id": "faeb8d67-d861-4b20-9ec3-e6c8e185c453",
   "metadata": {},
   "outputs": [
    {
     "data": {
      "text/plain": [
       "Counter({'P62805:H4C1': 6,\n",
       "         'Q9UER7:DAXX': 4,\n",
       "         'P04908:H2AC4': 4,\n",
       "         'Q16777:H2AC20': 3,\n",
       "         'P16104:H2AX': 4,\n",
       "         'P0C0S8:H2AC11': 4,\n",
       "         'O75367:MACROH2A1': 4,\n",
       "         'P0C0S5:H2AZ1': 4,\n",
       "         'Q9Y294:ASF1A': 1,\n",
       "         'Q9NVP2:ASF1B': 1,\n",
       "         'P49450:CENPA': 1})"
      ]
     },
     "execution_count": 17,
     "metadata": {},
     "output_type": "execute_result"
    }
   ],
   "source": [
    "brca_mutex.get_disrupted_interactors(\"H3C1\", identifier_type=\"gene\", return_counter=True)"
   ]
  },
  {
   "cell_type": "code",
   "execution_count": 18,
   "id": "e11c1399-74ee-40be-8e9d-ca8abcd56479",
   "metadata": {},
   "outputs": [
    {
     "data": {
      "text/plain": [
       "Counter({'P84243:H3-3A': 7,\n",
       "         'Q16695:H3-4': 5,\n",
       "         'Q71DI3:H3C15': 7,\n",
       "         'P49450:CENPA': 5,\n",
       "         'P68431:H3C1': 8,\n",
       "         'Q16514:TAF12': 2,\n",
       "         'Q9UER7:DAXX': 3,\n",
       "         'P06899:H2BC11': 1,\n",
       "         'Q16778:H2BC21': 1,\n",
       "         'B4E1C1:nan': 4,\n",
       "         'Q53F85:nan': 3,\n",
       "         'P04908:H2AC4': 2,\n",
       "         'P16104:H2AX': 1,\n",
       "         'P0C0S5:H2AZ1': 2,\n",
       "         'Q16777:H2AC20': 2,\n",
       "         'Q9Y294:ASF1A': 1})"
      ]
     },
     "execution_count": 18,
     "metadata": {},
     "output_type": "execute_result"
    }
   ],
   "source": [
    "brca_mutex.get_disrupted_interactors(\"H4C1\", identifier_type=\"gene\", return_counter=True)"
   ]
  },
  {
   "cell_type": "code",
   "execution_count": 19,
   "id": "4b6411d8-0e9b-450b-89b2-fa648e649a4b",
   "metadata": {},
   "outputs": [
    {
     "data": {
      "text/plain": [
       "Counter({'Q5S007:LRRK2': 6,\n",
       "         'P52564:MAP2K6': 6,\n",
       "         'P00533:EGFR': 1,\n",
       "         'P35916:FLT4': 1,\n",
       "         'Q99558:MAP3K14': 1,\n",
       "         'P45984:MAPK9': 1,\n",
       "         'Q16539:MAPK14': 2})"
      ]
     },
     "execution_count": 19,
     "metadata": {},
     "output_type": "execute_result"
    }
   ],
   "source": [
    "brca_mutex.get_disrupted_interactors(\"MAP2K4\", identifier_type=\"gene\", return_counter=True)"
   ]
  },
  {
   "cell_type": "code",
   "execution_count": null,
   "id": "72a4ea13-e318-49ce-9b8d-e6006797c855",
   "metadata": {},
   "outputs": [],
   "source": []
  },
  {
   "cell_type": "code",
   "execution_count": null,
   "id": "57467be9-0927-4721-a9dc-9c90c05f55fe",
   "metadata": {},
   "outputs": [],
   "source": []
  },
  {
   "cell_type": "code",
   "execution_count": 20,
   "id": "bd19254b-9083-4e98-8d5f-263c2ca647ad",
   "metadata": {},
   "outputs": [
    {
     "data": {
      "text/plain": [
       "['H2EHT1', 'K7PPA8', 'P04637']"
      ]
     },
     "execution_count": 20,
     "metadata": {},
     "output_type": "execute_result"
    }
   ],
   "source": [
    "ProteinIDFetcher().fetch(\"TP53\")"
   ]
  },
  {
   "cell_type": "code",
   "execution_count": 21,
   "id": "f9ece295-6c4a-4054-b680-28cf721c5c26",
   "metadata": {},
   "outputs": [
    {
     "data": {
      "text/plain": [
       "['P45985']"
      ]
     },
     "execution_count": 21,
     "metadata": {},
     "output_type": "execute_result"
    }
   ],
   "source": [
    "ProteinIDFetcher().fetch(\"MAP2K4\")"
   ]
  },
  {
   "cell_type": "code",
   "execution_count": 22,
   "id": "6a5b8352-e0bd-4038-9f1b-c6e53474f1a3",
   "metadata": {},
   "outputs": [
    {
     "data": {
      "text/plain": [
       "['P04626', 'J3QLU9']"
      ]
     },
     "execution_count": 22,
     "metadata": {},
     "output_type": "execute_result"
    }
   ],
   "source": [
    "ProteinIDFetcher().fetch(\"ERBB2\")"
   ]
  },
  {
   "cell_type": "code",
   "execution_count": 23,
   "id": "28d7227c-a167-42fa-9184-22caae499836",
   "metadata": {},
   "outputs": [
    {
     "data": {
      "text/plain": [
       "1.0"
      ]
     },
     "execution_count": 23,
     "metadata": {},
     "output_type": "execute_result"
    }
   ],
   "source": [
    "brca_mutex.calculate_mutual_exclusivity(\"Q96SB4\", \"P04626\")"
   ]
  },
  {
   "cell_type": "code",
   "execution_count": 24,
   "id": "8c257c26-5139-47e1-a1d8-405a58504820",
   "metadata": {},
   "outputs": [
    {
     "data": {
      "text/plain": [
       "0.9285714285714286"
      ]
     },
     "execution_count": 24,
     "metadata": {},
     "output_type": "execute_result"
    }
   ],
   "source": [
    "brca_mutex.calculate_mutual_exclusivity(\"P08069\", \"Q96SB4\")"
   ]
  },
  {
   "cell_type": "code",
   "execution_count": 25,
   "id": "c9f79da3-c53e-48e7-94c0-69f6551d969d",
   "metadata": {},
   "outputs": [
    {
     "data": {
      "text/plain": [
       "0.9375"
      ]
     },
     "execution_count": 25,
     "metadata": {},
     "output_type": "execute_result"
    }
   ],
   "source": [
    "brca_mutex.calculate_mutual_exclusivity(\"P08069\", \"P23458\")"
   ]
  },
  {
   "cell_type": "code",
   "execution_count": 26,
   "id": "c40d7a54-3f24-419e-84d3-e2fa3daaebf4",
   "metadata": {},
   "outputs": [
    {
     "data": {
      "text/plain": [
       "0.9375"
      ]
     },
     "execution_count": 26,
     "metadata": {},
     "output_type": "execute_result"
    }
   ],
   "source": [
    "brca_mutex.calculate_mutual_exclusivity(\"P23458\", \"P08069\")"
   ]
  },
  {
   "cell_type": "code",
   "execution_count": null,
   "id": "f9b71cab-55ec-49e5-83a0-2bae18479736",
   "metadata": {},
   "outputs": [],
   "source": []
  },
  {
   "cell_type": "markdown",
   "id": "c635be50-ae11-4fa9-b396-8679eec7d593",
   "metadata": {},
   "source": [
    "## Analysis Genes"
   ]
  },
  {
   "cell_type": "markdown",
   "id": "568162e8-dcf1-4baf-9df8-14c4fd37aaaf",
   "metadata": {},
   "source": [
    "### ERBB2"
   ]
  },
  {
   "cell_type": "code",
   "execution_count": 27,
   "id": "a9f58db1-90e5-42f7-a2fd-4c0dc44b1b9d",
   "metadata": {},
   "outputs": [
    {
     "data": {
      "text/plain": [
       "['P04626', 'J3QLU9']"
      ]
     },
     "execution_count": 27,
     "metadata": {},
     "output_type": "execute_result"
    }
   ],
   "source": [
    "ProteinIDFetcher().fetch(\"ERBB2\")"
   ]
  },
  {
   "cell_type": "code",
   "execution_count": 28,
   "id": "e0804201-1aab-43f0-92d5-0fc40cfee9aa",
   "metadata": {},
   "outputs": [
    {
     "name": "stdout",
     "output_type": "stream",
     "text": [
      "2021-11-13 21:32:59 |\u001b[32m INFO     \u001b[0m| helpers.helpers_analysis.mutual_exclusivity | Calculating Mutual Exclusivity over P04626's interactors ..\n",
      "2021-11-13 21:32:59 |\u001b[36m DEBUG    \u001b[0m| helpers.helpers_analysis.mutual_exclusivity | P04626 have 15 interactors:\n",
      "['Q96SB4:SRPK1', 'P00533:EGFR', 'P51813:BMX', 'Q14289:PTK2B', 'P16591:FER', 'P06241:FYN', 'P08069:IGF1R', 'Q13153:PAK1', 'P42680:TEC', 'P21860:ERBB3', 'O60674:JAK2', 'P15153:RAC2', 'Q9UJM3:ERRFI1', 'Q92625:ANKS1A', 'P23458:JAK1']\n"
     ]
    },
    {
     "data": {
      "text/html": [
       "<div>\n",
       "<style scoped>\n",
       "    .dataframe tbody tr th:only-of-type {\n",
       "        vertical-align: middle;\n",
       "    }\n",
       "\n",
       "    .dataframe tbody tr th {\n",
       "        vertical-align: top;\n",
       "    }\n",
       "\n",
       "    .dataframe thead th {\n",
       "        text-align: right;\n",
       "    }\n",
       "</style>\n",
       "<table border=\"1\" class=\"dataframe\">\n",
       "  <thead>\n",
       "    <tr style=\"text-align: right;\">\n",
       "      <th></th>\n",
       "      <th>PROTEIN:GENE</th>\n",
       "      <th>NUM_PATIENTS</th>\n",
       "      <th>INTERACTOR</th>\n",
       "      <th>NUM_PATIENTS_INTERACTOR</th>\n",
       "      <th>MUTUAL_EXCLUSIVITY</th>\n",
       "    </tr>\n",
       "  </thead>\n",
       "  <tbody>\n",
       "    <tr>\n",
       "      <th>0</th>\n",
       "      <td>P04626:ERBB2</td>\n",
       "      <td>27</td>\n",
       "      <td>Q96SB4:SRPK1</td>\n",
       "      <td>5</td>\n",
       "      <td>1.0000</td>\n",
       "    </tr>\n",
       "    <tr>\n",
       "      <th>1</th>\n",
       "      <td>P04626:ERBB2</td>\n",
       "      <td>27</td>\n",
       "      <td>P00533:EGFR</td>\n",
       "      <td>13</td>\n",
       "      <td>1.0000</td>\n",
       "    </tr>\n",
       "    <tr>\n",
       "      <th>2</th>\n",
       "      <td>P04626:ERBB2</td>\n",
       "      <td>27</td>\n",
       "      <td>P51813:BMX</td>\n",
       "      <td>6</td>\n",
       "      <td>0.9697</td>\n",
       "    </tr>\n",
       "    <tr>\n",
       "      <th>3</th>\n",
       "      <td>P04626:ERBB2</td>\n",
       "      <td>27</td>\n",
       "      <td>Q14289:PTK2B</td>\n",
       "      <td>4</td>\n",
       "      <td>1.0000</td>\n",
       "    </tr>\n",
       "    <tr>\n",
       "      <th>4</th>\n",
       "      <td>P04626:ERBB2</td>\n",
       "      <td>27</td>\n",
       "      <td>P16591:FER</td>\n",
       "      <td>6</td>\n",
       "      <td>0.9697</td>\n",
       "    </tr>\n",
       "    <tr>\n",
       "      <th>5</th>\n",
       "      <td>P04626:ERBB2</td>\n",
       "      <td>27</td>\n",
       "      <td>P06241:FYN</td>\n",
       "      <td>2</td>\n",
       "      <td>1.0000</td>\n",
       "    </tr>\n",
       "    <tr>\n",
       "      <th>6</th>\n",
       "      <td>P04626:ERBB2</td>\n",
       "      <td>27</td>\n",
       "      <td>P08069:IGF1R</td>\n",
       "      <td>9</td>\n",
       "      <td>0.9722</td>\n",
       "    </tr>\n",
       "    <tr>\n",
       "      <th>7</th>\n",
       "      <td>P04626:ERBB2</td>\n",
       "      <td>27</td>\n",
       "      <td>Q13153:PAK1</td>\n",
       "      <td>4</td>\n",
       "      <td>0.9677</td>\n",
       "    </tr>\n",
       "    <tr>\n",
       "      <th>8</th>\n",
       "      <td>P04626:ERBB2</td>\n",
       "      <td>27</td>\n",
       "      <td>P42680:TEC</td>\n",
       "      <td>5</td>\n",
       "      <td>1.0000</td>\n",
       "    </tr>\n",
       "    <tr>\n",
       "      <th>9</th>\n",
       "      <td>P04626:ERBB2</td>\n",
       "      <td>27</td>\n",
       "      <td>P21860:ERBB3</td>\n",
       "      <td>19</td>\n",
       "      <td>0.9565</td>\n",
       "    </tr>\n",
       "    <tr>\n",
       "      <th>10</th>\n",
       "      <td>P04626:ERBB2</td>\n",
       "      <td>27</td>\n",
       "      <td>O60674:JAK2</td>\n",
       "      <td>4</td>\n",
       "      <td>1.0000</td>\n",
       "    </tr>\n",
       "    <tr>\n",
       "      <th>11</th>\n",
       "      <td>P04626:ERBB2</td>\n",
       "      <td>27</td>\n",
       "      <td>P15153:RAC2</td>\n",
       "      <td>1</td>\n",
       "      <td>1.0000</td>\n",
       "    </tr>\n",
       "    <tr>\n",
       "      <th>12</th>\n",
       "      <td>P04626:ERBB2</td>\n",
       "      <td>27</td>\n",
       "      <td>Q9UJM3:ERRFI1</td>\n",
       "      <td>0</td>\n",
       "      <td>1.0000</td>\n",
       "    </tr>\n",
       "    <tr>\n",
       "      <th>13</th>\n",
       "      <td>P04626:ERBB2</td>\n",
       "      <td>27</td>\n",
       "      <td>Q92625:ANKS1A</td>\n",
       "      <td>4</td>\n",
       "      <td>1.0000</td>\n",
       "    </tr>\n",
       "    <tr>\n",
       "      <th>14</th>\n",
       "      <td>P04626:ERBB2</td>\n",
       "      <td>27</td>\n",
       "      <td>P23458:JAK1</td>\n",
       "      <td>7</td>\n",
       "      <td>0.9706</td>\n",
       "    </tr>\n",
       "  </tbody>\n",
       "</table>\n",
       "</div>"
      ],
      "text/plain": [
       "    PROTEIN:GENE  NUM_PATIENTS     INTERACTOR  NUM_PATIENTS_INTERACTOR  \\\n",
       "0   P04626:ERBB2            27   Q96SB4:SRPK1                        5   \n",
       "1   P04626:ERBB2            27    P00533:EGFR                       13   \n",
       "2   P04626:ERBB2            27     P51813:BMX                        6   \n",
       "3   P04626:ERBB2            27   Q14289:PTK2B                        4   \n",
       "4   P04626:ERBB2            27     P16591:FER                        6   \n",
       "5   P04626:ERBB2            27     P06241:FYN                        2   \n",
       "6   P04626:ERBB2            27   P08069:IGF1R                        9   \n",
       "7   P04626:ERBB2            27    Q13153:PAK1                        4   \n",
       "8   P04626:ERBB2            27     P42680:TEC                        5   \n",
       "9   P04626:ERBB2            27   P21860:ERBB3                       19   \n",
       "10  P04626:ERBB2            27    O60674:JAK2                        4   \n",
       "11  P04626:ERBB2            27    P15153:RAC2                        1   \n",
       "12  P04626:ERBB2            27  Q9UJM3:ERRFI1                        0   \n",
       "13  P04626:ERBB2            27  Q92625:ANKS1A                        4   \n",
       "14  P04626:ERBB2            27    P23458:JAK1                        7   \n",
       "\n",
       "    MUTUAL_EXCLUSIVITY  \n",
       "0               1.0000  \n",
       "1               1.0000  \n",
       "2               0.9697  \n",
       "3               1.0000  \n",
       "4               0.9697  \n",
       "5               1.0000  \n",
       "6               0.9722  \n",
       "7               0.9677  \n",
       "8               1.0000  \n",
       "9               0.9565  \n",
       "10              1.0000  \n",
       "11              1.0000  \n",
       "12              1.0000  \n",
       "13              1.0000  \n",
       "14              0.9706  "
      ]
     },
     "execution_count": 28,
     "metadata": {},
     "output_type": "execute_result"
    }
   ],
   "source": [
    "brca_mutex.get_disruptive_mutual_exclusivity_data(\"P04626\")"
   ]
  },
  {
   "cell_type": "code",
   "execution_count": 29,
   "id": "ede038b5-6a36-4a7e-91be-7914c664dc2c",
   "metadata": {},
   "outputs": [
    {
     "name": "stdout",
     "output_type": "stream",
     "text": [
      "2021-11-13 21:33:00 |\u001b[32m INFO     \u001b[0m| helpers.helpers_analysis.mutual_exclusivity | Calculating Mutual Exclusivity over P04626's interactors ..\n",
      "2021-11-13 21:33:00 |\u001b[36m DEBUG    \u001b[0m| helpers.helpers_analysis.mutual_exclusivity | P04626 have 15 interactors:\n",
      "['Q96SB4:SRPK1', 'P00533:EGFR', 'P51813:BMX', 'Q14289:PTK2B', 'P16591:FER', 'P06241:FYN', 'P08069:IGF1R', 'Q13153:PAK1', 'P42680:TEC', 'P21860:ERBB3', 'O60674:JAK2', 'P15153:RAC2', 'Q9UJM3:ERRFI1', 'Q92625:ANKS1A', 'P23458:JAK1']\n",
      "2021-11-13 21:33:00 |\u001b[36m DEBUG    \u001b[0m| helpers.helpers_analysis.mutual_exclusivity | Exporting Mutual Exclusivity BRCA P04626 ..\n",
      "2021-11-13 21:33:00 |\u001b[32m INFO     \u001b[0m| helpers.helpers_analysis.mutual_exclusivity | dev/mutex\\BRCA_P04626_ERBB2_2021-11-13.csv is exported successfully.\n"
     ]
    }
   ],
   "source": [
    "brca_mutex.export_disruptive_mutual_exclusivity_data(\"dev/mutex\", \"P04626\")"
   ]
  },
  {
   "cell_type": "markdown",
   "id": "2cc165a1-0b00-4ef9-968f-2c9dbca4d06d",
   "metadata": {},
   "source": [
    "### TP53"
   ]
  },
  {
   "cell_type": "code",
   "execution_count": 30,
   "id": "151b0278-d523-40cf-a733-e1c7c13c6d1b",
   "metadata": {},
   "outputs": [
    {
     "data": {
      "text/plain": [
       "['H2EHT1', 'K7PPA8', 'P04637']"
      ]
     },
     "execution_count": 30,
     "metadata": {},
     "output_type": "execute_result"
    }
   ],
   "source": [
    "ProteinIDFetcher().fetch(\"TP53\")"
   ]
  },
  {
   "cell_type": "code",
   "execution_count": 31,
   "id": "3b679b93-985c-4080-89d6-abb803b69d4a",
   "metadata": {},
   "outputs": [
    {
     "name": "stdout",
     "output_type": "stream",
     "text": [
      "2021-11-13 21:33:00 |\u001b[32m INFO     \u001b[0m| helpers.helpers_analysis.mutual_exclusivity | Calculating Mutual Exclusivity over P04637's interactors ..\n",
      "2021-11-13 21:33:00 |\u001b[36m DEBUG    \u001b[0m| helpers.helpers_analysis.mutual_exclusivity | P04637 have 15 interactors:\n",
      "['Q13625:TP53BP2', 'Q96KQ4:PPP1R13B', 'P62993:GRB2', 'Q06187:BTK', 'Q8WUF5:PPP1R13L', 'Q9H3D4:TP63', 'H2EHT1:TP53', 'K7PPA8:TP53', 'Q96KQ7:EHMT2', 'O15350:TP73', 'P07948:LYN', 'Q9H9B1:EHMT1', 'Q99728:BARD1', 'O75832:PSMD10', 'Q9ULT8:HECTD1']\n"
     ]
    },
    {
     "data": {
      "text/html": [
       "<div>\n",
       "<style scoped>\n",
       "    .dataframe tbody tr th:only-of-type {\n",
       "        vertical-align: middle;\n",
       "    }\n",
       "\n",
       "    .dataframe tbody tr th {\n",
       "        vertical-align: top;\n",
       "    }\n",
       "\n",
       "    .dataframe thead th {\n",
       "        text-align: right;\n",
       "    }\n",
       "</style>\n",
       "<table border=\"1\" class=\"dataframe\">\n",
       "  <thead>\n",
       "    <tr style=\"text-align: right;\">\n",
       "      <th></th>\n",
       "      <th>PROTEIN:GENE</th>\n",
       "      <th>NUM_PATIENTS</th>\n",
       "      <th>INTERACTOR</th>\n",
       "      <th>NUM_PATIENTS_INTERACTOR</th>\n",
       "      <th>MUTUAL_EXCLUSIVITY</th>\n",
       "    </tr>\n",
       "  </thead>\n",
       "  <tbody>\n",
       "    <tr>\n",
       "      <th>0</th>\n",
       "      <td>P04637:TP53</td>\n",
       "      <td>204</td>\n",
       "      <td>Q13625:TP53BP2</td>\n",
       "      <td>8</td>\n",
       "      <td>0.9953</td>\n",
       "    </tr>\n",
       "    <tr>\n",
       "      <th>1</th>\n",
       "      <td>P04637:TP53</td>\n",
       "      <td>204</td>\n",
       "      <td>Q96KQ4:PPP1R13B</td>\n",
       "      <td>5</td>\n",
       "      <td>1.0000</td>\n",
       "    </tr>\n",
       "    <tr>\n",
       "      <th>2</th>\n",
       "      <td>P04637:TP53</td>\n",
       "      <td>204</td>\n",
       "      <td>P62993:GRB2</td>\n",
       "      <td>2</td>\n",
       "      <td>1.0000</td>\n",
       "    </tr>\n",
       "    <tr>\n",
       "      <th>3</th>\n",
       "      <td>P04637:TP53</td>\n",
       "      <td>204</td>\n",
       "      <td>Q06187:BTK</td>\n",
       "      <td>7</td>\n",
       "      <td>0.9953</td>\n",
       "    </tr>\n",
       "    <tr>\n",
       "      <th>4</th>\n",
       "      <td>P04637:TP53</td>\n",
       "      <td>204</td>\n",
       "      <td>Q8WUF5:PPP1R13L</td>\n",
       "      <td>2</td>\n",
       "      <td>1.0000</td>\n",
       "    </tr>\n",
       "    <tr>\n",
       "      <th>5</th>\n",
       "      <td>P04637:TP53</td>\n",
       "      <td>204</td>\n",
       "      <td>Q9H3D4:TP63</td>\n",
       "      <td>2</td>\n",
       "      <td>0.9951</td>\n",
       "    </tr>\n",
       "    <tr>\n",
       "      <th>6</th>\n",
       "      <td>P04637:TP53</td>\n",
       "      <td>204</td>\n",
       "      <td>H2EHT1:TP53</td>\n",
       "      <td>0</td>\n",
       "      <td>1.0000</td>\n",
       "    </tr>\n",
       "    <tr>\n",
       "      <th>7</th>\n",
       "      <td>P04637:TP53</td>\n",
       "      <td>204</td>\n",
       "      <td>K7PPA8:TP53</td>\n",
       "      <td>0</td>\n",
       "      <td>1.0000</td>\n",
       "    </tr>\n",
       "    <tr>\n",
       "      <th>8</th>\n",
       "      <td>P04637:TP53</td>\n",
       "      <td>204</td>\n",
       "      <td>Q96KQ7:EHMT2</td>\n",
       "      <td>2</td>\n",
       "      <td>1.0000</td>\n",
       "    </tr>\n",
       "    <tr>\n",
       "      <th>9</th>\n",
       "      <td>P04637:TP53</td>\n",
       "      <td>204</td>\n",
       "      <td>O15350:TP73</td>\n",
       "      <td>3</td>\n",
       "      <td>1.0000</td>\n",
       "    </tr>\n",
       "    <tr>\n",
       "      <th>10</th>\n",
       "      <td>P04637:TP53</td>\n",
       "      <td>204</td>\n",
       "      <td>P07948:LYN</td>\n",
       "      <td>6</td>\n",
       "      <td>0.9857</td>\n",
       "    </tr>\n",
       "    <tr>\n",
       "      <th>11</th>\n",
       "      <td>P04637:TP53</td>\n",
       "      <td>204</td>\n",
       "      <td>Q9H9B1:EHMT1</td>\n",
       "      <td>9</td>\n",
       "      <td>1.0000</td>\n",
       "    </tr>\n",
       "    <tr>\n",
       "      <th>12</th>\n",
       "      <td>P04637:TP53</td>\n",
       "      <td>204</td>\n",
       "      <td>Q99728:BARD1</td>\n",
       "      <td>0</td>\n",
       "      <td>1.0000</td>\n",
       "    </tr>\n",
       "    <tr>\n",
       "      <th>13</th>\n",
       "      <td>P04637:TP53</td>\n",
       "      <td>204</td>\n",
       "      <td>O75832:PSMD10</td>\n",
       "      <td>1</td>\n",
       "      <td>0.9951</td>\n",
       "    </tr>\n",
       "    <tr>\n",
       "      <th>14</th>\n",
       "      <td>P04637:TP53</td>\n",
       "      <td>204</td>\n",
       "      <td>Q9ULT8:HECTD1</td>\n",
       "      <td>14</td>\n",
       "      <td>0.9862</td>\n",
       "    </tr>\n",
       "  </tbody>\n",
       "</table>\n",
       "</div>"
      ],
      "text/plain": [
       "   PROTEIN:GENE  NUM_PATIENTS       INTERACTOR  NUM_PATIENTS_INTERACTOR  \\\n",
       "0   P04637:TP53           204   Q13625:TP53BP2                        8   \n",
       "1   P04637:TP53           204  Q96KQ4:PPP1R13B                        5   \n",
       "2   P04637:TP53           204      P62993:GRB2                        2   \n",
       "3   P04637:TP53           204       Q06187:BTK                        7   \n",
       "4   P04637:TP53           204  Q8WUF5:PPP1R13L                        2   \n",
       "5   P04637:TP53           204      Q9H3D4:TP63                        2   \n",
       "6   P04637:TP53           204      H2EHT1:TP53                        0   \n",
       "7   P04637:TP53           204      K7PPA8:TP53                        0   \n",
       "8   P04637:TP53           204     Q96KQ7:EHMT2                        2   \n",
       "9   P04637:TP53           204      O15350:TP73                        3   \n",
       "10  P04637:TP53           204       P07948:LYN                        6   \n",
       "11  P04637:TP53           204     Q9H9B1:EHMT1                        9   \n",
       "12  P04637:TP53           204     Q99728:BARD1                        0   \n",
       "13  P04637:TP53           204    O75832:PSMD10                        1   \n",
       "14  P04637:TP53           204    Q9ULT8:HECTD1                       14   \n",
       "\n",
       "    MUTUAL_EXCLUSIVITY  \n",
       "0               0.9953  \n",
       "1               1.0000  \n",
       "2               1.0000  \n",
       "3               0.9953  \n",
       "4               1.0000  \n",
       "5               0.9951  \n",
       "6               1.0000  \n",
       "7               1.0000  \n",
       "8               1.0000  \n",
       "9               1.0000  \n",
       "10              0.9857  \n",
       "11              1.0000  \n",
       "12              1.0000  \n",
       "13              0.9951  \n",
       "14              0.9862  "
      ]
     },
     "execution_count": 31,
     "metadata": {},
     "output_type": "execute_result"
    }
   ],
   "source": [
    "brca_mutex.get_disruptive_mutual_exclusivity_data(\"P04637\")"
   ]
  },
  {
   "cell_type": "code",
   "execution_count": 32,
   "id": "d9f67ebd-15e5-44a6-9c98-a8a232f0a08d",
   "metadata": {},
   "outputs": [
    {
     "name": "stdout",
     "output_type": "stream",
     "text": [
      "2021-11-13 21:33:00 |\u001b[32m INFO     \u001b[0m| helpers.helpers_analysis.mutual_exclusivity | Calculating Mutual Exclusivity over P04637's interactors ..\n",
      "2021-11-13 21:33:00 |\u001b[36m DEBUG    \u001b[0m| helpers.helpers_analysis.mutual_exclusivity | P04637 have 15 interactors:\n",
      "['Q13625:TP53BP2', 'Q96KQ4:PPP1R13B', 'P62993:GRB2', 'Q06187:BTK', 'Q8WUF5:PPP1R13L', 'Q9H3D4:TP63', 'H2EHT1:TP53', 'K7PPA8:TP53', 'Q96KQ7:EHMT2', 'O15350:TP73', 'P07948:LYN', 'Q9H9B1:EHMT1', 'Q99728:BARD1', 'O75832:PSMD10', 'Q9ULT8:HECTD1']\n",
      "2021-11-13 21:33:00 |\u001b[36m DEBUG    \u001b[0m| helpers.helpers_analysis.mutual_exclusivity | Exporting Mutual Exclusivity BRCA P04637 ..\n",
      "2021-11-13 21:33:00 |\u001b[32m INFO     \u001b[0m| helpers.helpers_analysis.mutual_exclusivity | dev/mutex\\BRCA_P04637_TP53_2021-11-13.csv is exported successfully.\n"
     ]
    }
   ],
   "source": [
    "brca_mutex.export_disruptive_mutual_exclusivity_data(\"dev/mutex\", \"P04637\")"
   ]
  },
  {
   "cell_type": "code",
   "execution_count": null,
   "id": "e5e79df1-6ef6-41be-9c20-e867620a887c",
   "metadata": {},
   "outputs": [],
   "source": []
  },
  {
   "cell_type": "markdown",
   "id": "a90cc3d4-c529-4571-ad7d-cd7340e945db",
   "metadata": {},
   "source": [
    "### H3C1"
   ]
  },
  {
   "cell_type": "code",
   "execution_count": 33,
   "id": "4eb3089a-f701-4a6a-ab46-ca8baefc61b8",
   "metadata": {},
   "outputs": [
    {
     "data": {
      "text/plain": [
       "['P68431']"
      ]
     },
     "execution_count": 33,
     "metadata": {},
     "output_type": "execute_result"
    }
   ],
   "source": [
    "ProteinIDFetcher().fetch(\"H3C1\")"
   ]
  },
  {
   "cell_type": "code",
   "execution_count": 34,
   "id": "35254abe-b808-4399-b95b-26778fe9793e",
   "metadata": {},
   "outputs": [
    {
     "name": "stdout",
     "output_type": "stream",
     "text": [
      "2021-11-13 21:33:01 |\u001b[32m INFO     \u001b[0m| helpers.helpers_analysis.mutual_exclusivity | Calculating Mutual Exclusivity over P68431's interactors ..\n",
      "2021-11-13 21:33:01 |\u001b[36m DEBUG    \u001b[0m| helpers.helpers_analysis.mutual_exclusivity | P68431 have 11 interactors:\n",
      "['P62805:H4C1', 'Q9UER7:DAXX', 'P04908:H2AC4', 'P16104:H2AX', 'P0C0S8:H2AC11', 'O75367:MACROH2A1', 'P0C0S5:H2AZ1', 'Q16777:H2AC20', 'Q9Y294:ASF1A', 'Q9NVP2:ASF1B', 'P49450:CENPA']\n"
     ]
    },
    {
     "data": {
      "text/html": [
       "<div>\n",
       "<style scoped>\n",
       "    .dataframe tbody tr th:only-of-type {\n",
       "        vertical-align: middle;\n",
       "    }\n",
       "\n",
       "    .dataframe tbody tr th {\n",
       "        vertical-align: top;\n",
       "    }\n",
       "\n",
       "    .dataframe thead th {\n",
       "        text-align: right;\n",
       "    }\n",
       "</style>\n",
       "<table border=\"1\" class=\"dataframe\">\n",
       "  <thead>\n",
       "    <tr style=\"text-align: right;\">\n",
       "      <th></th>\n",
       "      <th>PROTEIN:GENE</th>\n",
       "      <th>NUM_PATIENTS</th>\n",
       "      <th>INTERACTOR</th>\n",
       "      <th>NUM_PATIENTS_INTERACTOR</th>\n",
       "      <th>MUTUAL_EXCLUSIVITY</th>\n",
       "    </tr>\n",
       "  </thead>\n",
       "  <tbody>\n",
       "    <tr>\n",
       "      <th>0</th>\n",
       "      <td>P68431:H3C1</td>\n",
       "      <td>29</td>\n",
       "      <td>P62805:H4C1</td>\n",
       "      <td>18</td>\n",
       "      <td>0.9787</td>\n",
       "    </tr>\n",
       "    <tr>\n",
       "      <th>1</th>\n",
       "      <td>P68431:H3C1</td>\n",
       "      <td>29</td>\n",
       "      <td>Q9UER7:DAXX</td>\n",
       "      <td>4</td>\n",
       "      <td>1.0000</td>\n",
       "    </tr>\n",
       "    <tr>\n",
       "      <th>2</th>\n",
       "      <td>P68431:H3C1</td>\n",
       "      <td>29</td>\n",
       "      <td>P04908:H2AC4</td>\n",
       "      <td>14</td>\n",
       "      <td>0.9767</td>\n",
       "    </tr>\n",
       "    <tr>\n",
       "      <th>3</th>\n",
       "      <td>P68431:H3C1</td>\n",
       "      <td>29</td>\n",
       "      <td>P16104:H2AX</td>\n",
       "      <td>0</td>\n",
       "      <td>1.0000</td>\n",
       "    </tr>\n",
       "    <tr>\n",
       "      <th>4</th>\n",
       "      <td>P68431:H3C1</td>\n",
       "      <td>29</td>\n",
       "      <td>P0C0S8:H2AC11</td>\n",
       "      <td>13</td>\n",
       "      <td>0.9762</td>\n",
       "    </tr>\n",
       "    <tr>\n",
       "      <th>5</th>\n",
       "      <td>P68431:H3C1</td>\n",
       "      <td>29</td>\n",
       "      <td>O75367:MACROH2A1</td>\n",
       "      <td>1</td>\n",
       "      <td>1.0000</td>\n",
       "    </tr>\n",
       "    <tr>\n",
       "      <th>6</th>\n",
       "      <td>P68431:H3C1</td>\n",
       "      <td>29</td>\n",
       "      <td>P0C0S5:H2AZ1</td>\n",
       "      <td>3</td>\n",
       "      <td>0.9688</td>\n",
       "    </tr>\n",
       "    <tr>\n",
       "      <th>7</th>\n",
       "      <td>P68431:H3C1</td>\n",
       "      <td>29</td>\n",
       "      <td>Q16777:H2AC20</td>\n",
       "      <td>1</td>\n",
       "      <td>1.0000</td>\n",
       "    </tr>\n",
       "    <tr>\n",
       "      <th>8</th>\n",
       "      <td>P68431:H3C1</td>\n",
       "      <td>29</td>\n",
       "      <td>Q9Y294:ASF1A</td>\n",
       "      <td>1</td>\n",
       "      <td>1.0000</td>\n",
       "    </tr>\n",
       "    <tr>\n",
       "      <th>9</th>\n",
       "      <td>P68431:H3C1</td>\n",
       "      <td>29</td>\n",
       "      <td>Q9NVP2:ASF1B</td>\n",
       "      <td>1</td>\n",
       "      <td>1.0000</td>\n",
       "    </tr>\n",
       "    <tr>\n",
       "      <th>10</th>\n",
       "      <td>P68431:H3C1</td>\n",
       "      <td>29</td>\n",
       "      <td>P49450:CENPA</td>\n",
       "      <td>0</td>\n",
       "      <td>1.0000</td>\n",
       "    </tr>\n",
       "  </tbody>\n",
       "</table>\n",
       "</div>"
      ],
      "text/plain": [
       "   PROTEIN:GENE  NUM_PATIENTS        INTERACTOR  NUM_PATIENTS_INTERACTOR  \\\n",
       "0   P68431:H3C1            29       P62805:H4C1                       18   \n",
       "1   P68431:H3C1            29       Q9UER7:DAXX                        4   \n",
       "2   P68431:H3C1            29      P04908:H2AC4                       14   \n",
       "3   P68431:H3C1            29       P16104:H2AX                        0   \n",
       "4   P68431:H3C1            29     P0C0S8:H2AC11                       13   \n",
       "5   P68431:H3C1            29  O75367:MACROH2A1                        1   \n",
       "6   P68431:H3C1            29      P0C0S5:H2AZ1                        3   \n",
       "7   P68431:H3C1            29     Q16777:H2AC20                        1   \n",
       "8   P68431:H3C1            29      Q9Y294:ASF1A                        1   \n",
       "9   P68431:H3C1            29      Q9NVP2:ASF1B                        1   \n",
       "10  P68431:H3C1            29      P49450:CENPA                        0   \n",
       "\n",
       "    MUTUAL_EXCLUSIVITY  \n",
       "0               0.9787  \n",
       "1               1.0000  \n",
       "2               0.9767  \n",
       "3               1.0000  \n",
       "4               0.9762  \n",
       "5               1.0000  \n",
       "6               0.9688  \n",
       "7               1.0000  \n",
       "8               1.0000  \n",
       "9               1.0000  \n",
       "10              1.0000  "
      ]
     },
     "execution_count": 34,
     "metadata": {},
     "output_type": "execute_result"
    }
   ],
   "source": [
    "brca_mutex.get_disruptive_mutual_exclusivity_data(\"P68431\")"
   ]
  },
  {
   "cell_type": "code",
   "execution_count": 35,
   "id": "f8dbca4b-64b9-4216-99a5-14ca5c3cd844",
   "metadata": {},
   "outputs": [
    {
     "name": "stdout",
     "output_type": "stream",
     "text": [
      "2021-11-13 21:33:01 |\u001b[32m INFO     \u001b[0m| helpers.helpers_analysis.mutual_exclusivity | Calculating Mutual Exclusivity over P68431's interactors ..\n",
      "2021-11-13 21:33:01 |\u001b[36m DEBUG    \u001b[0m| helpers.helpers_analysis.mutual_exclusivity | P68431 have 11 interactors:\n",
      "['P62805:H4C1', 'Q9UER7:DAXX', 'P04908:H2AC4', 'P16104:H2AX', 'P0C0S8:H2AC11', 'O75367:MACROH2A1', 'P0C0S5:H2AZ1', 'Q16777:H2AC20', 'Q9Y294:ASF1A', 'Q9NVP2:ASF1B', 'P49450:CENPA']\n",
      "2021-11-13 21:33:01 |\u001b[36m DEBUG    \u001b[0m| helpers.helpers_analysis.mutual_exclusivity | Exporting Mutual Exclusivity BRCA P68431 ..\n",
      "2021-11-13 21:33:01 |\u001b[32m INFO     \u001b[0m| helpers.helpers_analysis.mutual_exclusivity | dev/mutex\\BRCA_P68431_H3C1_2021-11-13.csv is exported successfully.\n"
     ]
    }
   ],
   "source": [
    "brca_mutex.export_disruptive_mutual_exclusivity_data(\"dev/mutex\", \"P68431\")"
   ]
  },
  {
   "cell_type": "code",
   "execution_count": null,
   "id": "cf728f79-170a-4769-8a1f-14117cf89200",
   "metadata": {},
   "outputs": [],
   "source": []
  },
  {
   "cell_type": "markdown",
   "id": "ede167b0-d639-41a5-91ee-b10fb4765f35",
   "metadata": {},
   "source": [
    "### H4C1"
   ]
  },
  {
   "cell_type": "code",
   "execution_count": 36,
   "id": "35f2a097-a161-414b-b0c8-ea9ad6154138",
   "metadata": {},
   "outputs": [
    {
     "data": {
      "text/plain": [
       "['P62805']"
      ]
     },
     "execution_count": 36,
     "metadata": {},
     "output_type": "execute_result"
    }
   ],
   "source": [
    "ProteinIDFetcher().fetch(\"H4C1\")"
   ]
  },
  {
   "cell_type": "code",
   "execution_count": 37,
   "id": "1c7d2fe6-1c50-4ffe-a4b6-d47fdeacf527",
   "metadata": {},
   "outputs": [
    {
     "name": "stdout",
     "output_type": "stream",
     "text": [
      "2021-11-13 21:33:01 |\u001b[32m INFO     \u001b[0m| helpers.helpers_analysis.mutual_exclusivity | Calculating Mutual Exclusivity over P62805's interactors ..\n",
      "2021-11-13 21:33:01 |\u001b[36m DEBUG    \u001b[0m| helpers.helpers_analysis.mutual_exclusivity | P62805 have 16 interactors:\n",
      "['P68431:H3C1', 'P84243:H3-3A', 'Q71DI3:H3C15', 'Q16695:H3-4', 'P49450:CENPA', 'B4E1C1:nan', 'Q9UER7:DAXX', 'Q53F85:nan', 'Q16514:TAF12', 'P04908:H2AC4', 'P0C0S5:H2AZ1', 'Q16777:H2AC20', 'P06899:H2BC11', 'Q16778:H2BC21', 'P16104:H2AX', 'Q9Y294:ASF1A']\n"
     ]
    },
    {
     "data": {
      "text/html": [
       "<div>\n",
       "<style scoped>\n",
       "    .dataframe tbody tr th:only-of-type {\n",
       "        vertical-align: middle;\n",
       "    }\n",
       "\n",
       "    .dataframe tbody tr th {\n",
       "        vertical-align: top;\n",
       "    }\n",
       "\n",
       "    .dataframe thead th {\n",
       "        text-align: right;\n",
       "    }\n",
       "</style>\n",
       "<table border=\"1\" class=\"dataframe\">\n",
       "  <thead>\n",
       "    <tr style=\"text-align: right;\">\n",
       "      <th></th>\n",
       "      <th>PROTEIN:GENE</th>\n",
       "      <th>NUM_PATIENTS</th>\n",
       "      <th>INTERACTOR</th>\n",
       "      <th>NUM_PATIENTS_INTERACTOR</th>\n",
       "      <th>MUTUAL_EXCLUSIVITY</th>\n",
       "    </tr>\n",
       "  </thead>\n",
       "  <tbody>\n",
       "    <tr>\n",
       "      <th>0</th>\n",
       "      <td>P62805:H4C1</td>\n",
       "      <td>18</td>\n",
       "      <td>P68431:H3C1</td>\n",
       "      <td>29</td>\n",
       "      <td>0.9787</td>\n",
       "    </tr>\n",
       "    <tr>\n",
       "      <th>1</th>\n",
       "      <td>P62805:H4C1</td>\n",
       "      <td>18</td>\n",
       "      <td>P84243:H3-3A</td>\n",
       "      <td>3</td>\n",
       "      <td>1.0000</td>\n",
       "    </tr>\n",
       "    <tr>\n",
       "      <th>2</th>\n",
       "      <td>P62805:H4C1</td>\n",
       "      <td>18</td>\n",
       "      <td>Q71DI3:H3C15</td>\n",
       "      <td>4</td>\n",
       "      <td>1.0000</td>\n",
       "    </tr>\n",
       "    <tr>\n",
       "      <th>3</th>\n",
       "      <td>P62805:H4C1</td>\n",
       "      <td>18</td>\n",
       "      <td>Q16695:H3-4</td>\n",
       "      <td>2</td>\n",
       "      <td>1.0000</td>\n",
       "    </tr>\n",
       "    <tr>\n",
       "      <th>4</th>\n",
       "      <td>P62805:H4C1</td>\n",
       "      <td>18</td>\n",
       "      <td>P49450:CENPA</td>\n",
       "      <td>0</td>\n",
       "      <td>1.0000</td>\n",
       "    </tr>\n",
       "    <tr>\n",
       "      <th>5</th>\n",
       "      <td>P62805:H4C1</td>\n",
       "      <td>18</td>\n",
       "      <td>B4E1C1:nan</td>\n",
       "      <td>0</td>\n",
       "      <td>1.0000</td>\n",
       "    </tr>\n",
       "    <tr>\n",
       "      <th>6</th>\n",
       "      <td>P62805:H4C1</td>\n",
       "      <td>18</td>\n",
       "      <td>Q9UER7:DAXX</td>\n",
       "      <td>4</td>\n",
       "      <td>0.9545</td>\n",
       "    </tr>\n",
       "    <tr>\n",
       "      <th>7</th>\n",
       "      <td>P62805:H4C1</td>\n",
       "      <td>18</td>\n",
       "      <td>Q53F85:nan</td>\n",
       "      <td>0</td>\n",
       "      <td>1.0000</td>\n",
       "    </tr>\n",
       "    <tr>\n",
       "      <th>8</th>\n",
       "      <td>P62805:H4C1</td>\n",
       "      <td>18</td>\n",
       "      <td>Q16514:TAF12</td>\n",
       "      <td>1</td>\n",
       "      <td>1.0000</td>\n",
       "    </tr>\n",
       "    <tr>\n",
       "      <th>9</th>\n",
       "      <td>P62805:H4C1</td>\n",
       "      <td>18</td>\n",
       "      <td>P04908:H2AC4</td>\n",
       "      <td>14</td>\n",
       "      <td>0.9688</td>\n",
       "    </tr>\n",
       "    <tr>\n",
       "      <th>10</th>\n",
       "      <td>P62805:H4C1</td>\n",
       "      <td>18</td>\n",
       "      <td>P0C0S5:H2AZ1</td>\n",
       "      <td>3</td>\n",
       "      <td>1.0000</td>\n",
       "    </tr>\n",
       "    <tr>\n",
       "      <th>11</th>\n",
       "      <td>P62805:H4C1</td>\n",
       "      <td>18</td>\n",
       "      <td>Q16777:H2AC20</td>\n",
       "      <td>1</td>\n",
       "      <td>1.0000</td>\n",
       "    </tr>\n",
       "    <tr>\n",
       "      <th>12</th>\n",
       "      <td>P62805:H4C1</td>\n",
       "      <td>18</td>\n",
       "      <td>P06899:H2BC11</td>\n",
       "      <td>1</td>\n",
       "      <td>1.0000</td>\n",
       "    </tr>\n",
       "    <tr>\n",
       "      <th>13</th>\n",
       "      <td>P62805:H4C1</td>\n",
       "      <td>18</td>\n",
       "      <td>Q16778:H2BC21</td>\n",
       "      <td>6</td>\n",
       "      <td>1.0000</td>\n",
       "    </tr>\n",
       "    <tr>\n",
       "      <th>14</th>\n",
       "      <td>P62805:H4C1</td>\n",
       "      <td>18</td>\n",
       "      <td>P16104:H2AX</td>\n",
       "      <td>0</td>\n",
       "      <td>1.0000</td>\n",
       "    </tr>\n",
       "    <tr>\n",
       "      <th>15</th>\n",
       "      <td>P62805:H4C1</td>\n",
       "      <td>18</td>\n",
       "      <td>Q9Y294:ASF1A</td>\n",
       "      <td>1</td>\n",
       "      <td>1.0000</td>\n",
       "    </tr>\n",
       "  </tbody>\n",
       "</table>\n",
       "</div>"
      ],
      "text/plain": [
       "   PROTEIN:GENE  NUM_PATIENTS     INTERACTOR  NUM_PATIENTS_INTERACTOR  \\\n",
       "0   P62805:H4C1            18    P68431:H3C1                       29   \n",
       "1   P62805:H4C1            18   P84243:H3-3A                        3   \n",
       "2   P62805:H4C1            18   Q71DI3:H3C15                        4   \n",
       "3   P62805:H4C1            18    Q16695:H3-4                        2   \n",
       "4   P62805:H4C1            18   P49450:CENPA                        0   \n",
       "5   P62805:H4C1            18     B4E1C1:nan                        0   \n",
       "6   P62805:H4C1            18    Q9UER7:DAXX                        4   \n",
       "7   P62805:H4C1            18     Q53F85:nan                        0   \n",
       "8   P62805:H4C1            18   Q16514:TAF12                        1   \n",
       "9   P62805:H4C1            18   P04908:H2AC4                       14   \n",
       "10  P62805:H4C1            18   P0C0S5:H2AZ1                        3   \n",
       "11  P62805:H4C1            18  Q16777:H2AC20                        1   \n",
       "12  P62805:H4C1            18  P06899:H2BC11                        1   \n",
       "13  P62805:H4C1            18  Q16778:H2BC21                        6   \n",
       "14  P62805:H4C1            18    P16104:H2AX                        0   \n",
       "15  P62805:H4C1            18   Q9Y294:ASF1A                        1   \n",
       "\n",
       "    MUTUAL_EXCLUSIVITY  \n",
       "0               0.9787  \n",
       "1               1.0000  \n",
       "2               1.0000  \n",
       "3               1.0000  \n",
       "4               1.0000  \n",
       "5               1.0000  \n",
       "6               0.9545  \n",
       "7               1.0000  \n",
       "8               1.0000  \n",
       "9               0.9688  \n",
       "10              1.0000  \n",
       "11              1.0000  \n",
       "12              1.0000  \n",
       "13              1.0000  \n",
       "14              1.0000  \n",
       "15              1.0000  "
      ]
     },
     "execution_count": 37,
     "metadata": {},
     "output_type": "execute_result"
    }
   ],
   "source": [
    "brca_mutex.get_disruptive_mutual_exclusivity_data(\"P62805\")"
   ]
  },
  {
   "cell_type": "code",
   "execution_count": 38,
   "id": "300a6929-eead-4372-89a8-7d99cb456d53",
   "metadata": {},
   "outputs": [
    {
     "name": "stdout",
     "output_type": "stream",
     "text": [
      "2021-11-13 21:33:01 |\u001b[32m INFO     \u001b[0m| helpers.helpers_analysis.mutual_exclusivity | Calculating Mutual Exclusivity over P62805's interactors ..\n",
      "2021-11-13 21:33:01 |\u001b[36m DEBUG    \u001b[0m| helpers.helpers_analysis.mutual_exclusivity | P62805 have 16 interactors:\n",
      "['P68431:H3C1', 'P84243:H3-3A', 'Q71DI3:H3C15', 'Q16695:H3-4', 'P49450:CENPA', 'B4E1C1:nan', 'Q9UER7:DAXX', 'Q53F85:nan', 'Q16514:TAF12', 'P04908:H2AC4', 'P0C0S5:H2AZ1', 'Q16777:H2AC20', 'P06899:H2BC11', 'Q16778:H2BC21', 'P16104:H2AX', 'Q9Y294:ASF1A']\n",
      "2021-11-13 21:33:02 |\u001b[36m DEBUG    \u001b[0m| helpers.helpers_analysis.mutual_exclusivity | Exporting Mutual Exclusivity BRCA P62805 ..\n",
      "2021-11-13 21:33:02 |\u001b[32m INFO     \u001b[0m| helpers.helpers_analysis.mutual_exclusivity | dev/mutex\\BRCA_P62805_H4C1_2021-11-13.csv is exported successfully.\n"
     ]
    }
   ],
   "source": [
    "brca_mutex.export_disruptive_mutual_exclusivity_data(\"dev/mutex\", \"P62805\")"
   ]
  },
  {
   "cell_type": "code",
   "execution_count": null,
   "id": "ce4e675c-ff0d-45d5-b5f9-59b6168733d4",
   "metadata": {},
   "outputs": [],
   "source": []
  },
  {
   "cell_type": "code",
   "execution_count": null,
   "id": "bf1f2e10-893a-43ea-98f5-13c0d6688591",
   "metadata": {},
   "outputs": [],
   "source": []
  },
  {
   "cell_type": "markdown",
   "id": "31524a85-6883-4999-828f-5b15645b13ae",
   "metadata": {},
   "source": [
    "### MAP2K4"
   ]
  },
  {
   "cell_type": "code",
   "execution_count": 39,
   "id": "d61a5cef-6c87-47ea-94aa-f3c45e9d646e",
   "metadata": {},
   "outputs": [
    {
     "data": {
      "text/plain": [
       "['P45985']"
      ]
     },
     "execution_count": 39,
     "metadata": {},
     "output_type": "execute_result"
    }
   ],
   "source": [
    "ProteinIDFetcher().fetch(\"MAP2K4\")"
   ]
  },
  {
   "cell_type": "code",
   "execution_count": 40,
   "id": "137b0e65-955e-4c7e-b609-b37431812032",
   "metadata": {},
   "outputs": [
    {
     "name": "stdout",
     "output_type": "stream",
     "text": [
      "2021-11-13 21:33:02 |\u001b[32m INFO     \u001b[0m| helpers.helpers_analysis.mutual_exclusivity | Calculating Mutual Exclusivity over P45985's interactors ..\n",
      "2021-11-13 21:33:02 |\u001b[36m DEBUG    \u001b[0m| helpers.helpers_analysis.mutual_exclusivity | P45985 have 7 interactors:\n",
      "['Q5S007:LRRK2', 'P52564:MAP2K6', 'Q16539:MAPK14', 'P00533:EGFR', 'P35916:FLT4', 'Q99558:MAP3K14', 'P45984:MAPK9']\n"
     ]
    },
    {
     "data": {
      "text/html": [
       "<div>\n",
       "<style scoped>\n",
       "    .dataframe tbody tr th:only-of-type {\n",
       "        vertical-align: middle;\n",
       "    }\n",
       "\n",
       "    .dataframe tbody tr th {\n",
       "        vertical-align: top;\n",
       "    }\n",
       "\n",
       "    .dataframe thead th {\n",
       "        text-align: right;\n",
       "    }\n",
       "</style>\n",
       "<table border=\"1\" class=\"dataframe\">\n",
       "  <thead>\n",
       "    <tr style=\"text-align: right;\">\n",
       "      <th></th>\n",
       "      <th>PROTEIN:GENE</th>\n",
       "      <th>NUM_PATIENTS</th>\n",
       "      <th>INTERACTOR</th>\n",
       "      <th>NUM_PATIENTS_INTERACTOR</th>\n",
       "      <th>MUTUAL_EXCLUSIVITY</th>\n",
       "    </tr>\n",
       "  </thead>\n",
       "  <tbody>\n",
       "    <tr>\n",
       "      <th>0</th>\n",
       "      <td>P45985:MAP2K4</td>\n",
       "      <td>13</td>\n",
       "      <td>Q5S007:LRRK2</td>\n",
       "      <td>13</td>\n",
       "      <td>1.0000</td>\n",
       "    </tr>\n",
       "    <tr>\n",
       "      <th>1</th>\n",
       "      <td>P45985:MAP2K4</td>\n",
       "      <td>13</td>\n",
       "      <td>P52564:MAP2K6</td>\n",
       "      <td>3</td>\n",
       "      <td>0.9375</td>\n",
       "    </tr>\n",
       "    <tr>\n",
       "      <th>2</th>\n",
       "      <td>P45985:MAP2K4</td>\n",
       "      <td>13</td>\n",
       "      <td>Q16539:MAPK14</td>\n",
       "      <td>2</td>\n",
       "      <td>1.0000</td>\n",
       "    </tr>\n",
       "    <tr>\n",
       "      <th>3</th>\n",
       "      <td>P45985:MAP2K4</td>\n",
       "      <td>13</td>\n",
       "      <td>P00533:EGFR</td>\n",
       "      <td>13</td>\n",
       "      <td>1.0000</td>\n",
       "    </tr>\n",
       "    <tr>\n",
       "      <th>4</th>\n",
       "      <td>P45985:MAP2K4</td>\n",
       "      <td>13</td>\n",
       "      <td>P35916:FLT4</td>\n",
       "      <td>2</td>\n",
       "      <td>1.0000</td>\n",
       "    </tr>\n",
       "    <tr>\n",
       "      <th>5</th>\n",
       "      <td>P45985:MAP2K4</td>\n",
       "      <td>13</td>\n",
       "      <td>Q99558:MAP3K14</td>\n",
       "      <td>2</td>\n",
       "      <td>1.0000</td>\n",
       "    </tr>\n",
       "    <tr>\n",
       "      <th>6</th>\n",
       "      <td>P45985:MAP2K4</td>\n",
       "      <td>13</td>\n",
       "      <td>P45984:MAPK9</td>\n",
       "      <td>0</td>\n",
       "      <td>1.0000</td>\n",
       "    </tr>\n",
       "  </tbody>\n",
       "</table>\n",
       "</div>"
      ],
      "text/plain": [
       "    PROTEIN:GENE  NUM_PATIENTS      INTERACTOR  NUM_PATIENTS_INTERACTOR  \\\n",
       "0  P45985:MAP2K4            13    Q5S007:LRRK2                       13   \n",
       "1  P45985:MAP2K4            13   P52564:MAP2K6                        3   \n",
       "2  P45985:MAP2K4            13   Q16539:MAPK14                        2   \n",
       "3  P45985:MAP2K4            13     P00533:EGFR                       13   \n",
       "4  P45985:MAP2K4            13     P35916:FLT4                        2   \n",
       "5  P45985:MAP2K4            13  Q99558:MAP3K14                        2   \n",
       "6  P45985:MAP2K4            13    P45984:MAPK9                        0   \n",
       "\n",
       "   MUTUAL_EXCLUSIVITY  \n",
       "0              1.0000  \n",
       "1              0.9375  \n",
       "2              1.0000  \n",
       "3              1.0000  \n",
       "4              1.0000  \n",
       "5              1.0000  \n",
       "6              1.0000  "
      ]
     },
     "execution_count": 40,
     "metadata": {},
     "output_type": "execute_result"
    }
   ],
   "source": [
    "brca_mutex.get_disruptive_mutual_exclusivity_data(\"P45985\")"
   ]
  },
  {
   "cell_type": "code",
   "execution_count": 41,
   "id": "f97bef5d-9d89-4cfb-82de-bf9367641f69",
   "metadata": {},
   "outputs": [
    {
     "name": "stdout",
     "output_type": "stream",
     "text": [
      "2021-11-13 21:33:02 |\u001b[32m INFO     \u001b[0m| helpers.helpers_analysis.mutual_exclusivity | Calculating Mutual Exclusivity over P45985's interactors ..\n",
      "2021-11-13 21:33:02 |\u001b[36m DEBUG    \u001b[0m| helpers.helpers_analysis.mutual_exclusivity | P45985 have 7 interactors:\n",
      "['Q5S007:LRRK2', 'P52564:MAP2K6', 'Q16539:MAPK14', 'P00533:EGFR', 'P35916:FLT4', 'Q99558:MAP3K14', 'P45984:MAPK9']\n",
      "2021-11-13 21:33:02 |\u001b[36m DEBUG    \u001b[0m| helpers.helpers_analysis.mutual_exclusivity | Exporting Mutual Exclusivity BRCA P45985 ..\n",
      "2021-11-13 21:33:02 |\u001b[32m INFO     \u001b[0m| helpers.helpers_analysis.mutual_exclusivity | dev/mutex\\BRCA_P45985_MAP2K4_2021-11-13.csv is exported successfully.\n"
     ]
    }
   ],
   "source": [
    "brca_mutex.export_disruptive_mutual_exclusivity_data(\"dev/mutex\", \"P45985\")"
   ]
  },
  {
   "cell_type": "code",
   "execution_count": null,
   "id": "43febe92-408f-4ac2-afd5-0064a3b9d7cb",
   "metadata": {},
   "outputs": [],
   "source": []
  },
  {
   "cell_type": "code",
   "execution_count": null,
   "id": "5ef8b072-25b9-4b60-aecf-62482e2b8efd",
   "metadata": {},
   "outputs": [],
   "source": []
  },
  {
   "cell_type": "markdown",
   "id": "ed8c35b0-90ee-421a-9bb4-bbbec0faf4a5",
   "metadata": {},
   "source": [
    "---"
   ]
  },
  {
   "cell_type": "code",
   "execution_count": 47,
   "id": "8b9ea2ad-ad37-4f18-be66-c8cd34815939",
   "metadata": {},
   "outputs": [
    {
     "data": {
      "text/plain": [
       "['P42336']"
      ]
     },
     "execution_count": 47,
     "metadata": {},
     "output_type": "execute_result"
    }
   ],
   "source": [
    "ProteinIDFetcher().fetch(\"PIK3CA\")"
   ]
  },
  {
   "cell_type": "code",
   "execution_count": 49,
   "id": "1e4a7f48-c3c0-44f3-812a-38d016995242",
   "metadata": {},
   "outputs": [
    {
     "data": {
      "text/plain": [
       "['TCGA-D8-A1XY',\n",
       " 'TCGA-AO-A0J5',\n",
       " 'TCGA-A8-A093',\n",
       " 'TCGA-C8-A133',\n",
       " 'TCGA-AQ-A54O',\n",
       " 'TCGA-A8-A07G',\n",
       " 'TCGA-LD-A74U',\n",
       " 'TCGA-BH-A0W5',\n",
       " 'TCGA-BH-A18F',\n",
       " 'TCGA-HN-A2OB',\n",
       " 'TCGA-BH-A2L8',\n",
       " 'TCGA-E9-A1RD',\n",
       " 'TCGA-EW-A6SC',\n",
       " 'TCGA-AO-A0JF',\n",
       " 'TCGA-AN-A0FS',\n",
       " 'TCGA-AO-A03L',\n",
       " 'TCGA-AN-A049',\n",
       " 'TCGA-E2-A10C',\n",
       " 'TCGA-E2-A15E',\n",
       " 'TCGA-A2-A0CP',\n",
       " 'TCGA-GM-A3NW',\n",
       " 'TCGA-BH-A0HN',\n",
       " 'TCGA-E9-A1R0',\n",
       " 'TCGA-A2-A0YH',\n",
       " 'TCGA-E9-A226',\n",
       " 'TCGA-AN-A0FF',\n",
       " 'TCGA-E2-A576',\n",
       " 'TCGA-A8-A07B',\n",
       " 'TCGA-GM-A2DH',\n",
       " 'TCGA-A7-A5ZW',\n",
       " 'TCGA-AN-A0AJ',\n",
       " 'TCGA-A8-A09C',\n",
       " 'TCGA-LD-A66U',\n",
       " 'TCGA-EW-A1OV',\n",
       " 'TCGA-AR-A0TR',\n",
       " 'TCGA-AO-A0JA',\n",
       " 'TCGA-A7-A6VX',\n",
       " 'TCGA-D8-A27T',\n",
       " 'TCGA-BH-A0GY',\n",
       " 'TCGA-E9-A1NG',\n",
       " 'TCGA-AC-A5EH',\n",
       " 'TCGA-AC-A23E',\n",
       " 'TCGA-EW-A1IW',\n",
       " 'TCGA-BH-A0EE',\n",
       " 'TCGA-BH-A203',\n",
       " 'TCGA-A2-A0EO',\n",
       " 'TCGA-LL-A50Y',\n",
       " 'TCGA-A2-A0EW',\n",
       " 'TCGA-A7-A0DB',\n",
       " 'TCGA-AC-A3OD',\n",
       " 'TCGA-BH-A0BM',\n",
       " 'TCGA-E2-A1B4',\n",
       " 'TCGA-BH-A0DK',\n",
       " 'TCGA-D8-A1J8',\n",
       " 'TCGA-BH-A18I',\n",
       " 'TCGA-E2-A15C',\n",
       " 'TCGA-AR-A24K',\n",
       " 'TCGA-BH-A8FY',\n",
       " 'TCGA-XX-A899',\n",
       " 'TCGA-A8-A08Z',\n",
       " 'TCGA-BH-A0DT',\n",
       " 'TCGA-C8-A26W',\n",
       " 'TCGA-PE-A5DD',\n",
       " 'TCGA-AR-A24T',\n",
       " 'TCGA-AQ-A1H2',\n",
       " 'TCGA-OL-A5S0',\n",
       " 'TCGA-EW-A2FV',\n",
       " 'TCGA-B6-A0RH',\n",
       " 'TCGA-A8-A08O',\n",
       " 'TCGA-E9-A249',\n",
       " 'TCGA-LL-A9Q3',\n",
       " 'TCGA-D8-A145',\n",
       " 'TCGA-A8-A0A7',\n",
       " 'TCGA-B6-A0IC',\n",
       " 'TCGA-BH-A0BJ',\n",
       " 'TCGA-BH-A0DE',\n",
       " 'TCGA-D8-A1XS',\n",
       " 'TCGA-LL-A7T0',\n",
       " 'TCGA-A7-A26H',\n",
       " 'TCGA-BH-A0BT',\n",
       " 'TCGA-BH-A18J',\n",
       " 'TCGA-A2-A0EQ',\n",
       " 'TCGA-E2-A1IO',\n",
       " 'TCGA-D8-A73U',\n",
       " 'TCGA-LL-A5YN',\n",
       " 'TCGA-BH-A0DV',\n",
       " 'TCGA-BH-A0B0',\n",
       " 'TCGA-E2-A14V',\n",
       " 'TCGA-A8-A08L',\n",
       " 'TCGA-B6-A0I5',\n",
       " 'TCGA-D8-A1Y2',\n",
       " 'TCGA-AN-A0XP',\n",
       " 'TCGA-A2-A0CS',\n",
       " 'TCGA-A8-A06U',\n",
       " 'TCGA-A8-A095',\n",
       " 'TCGA-A8-A092',\n",
       " 'TCGA-A2-A0YK',\n",
       " 'TCGA-A2-A0D3',\n",
       " 'TCGA-D8-A1Y1',\n",
       " 'TCGA-AC-A8OS',\n",
       " 'TCGA-A7-A26E',\n",
       " 'TCGA-D8-A1JN',\n",
       " 'TCGA-A8-A075',\n",
       " 'TCGA-A8-A0A6',\n",
       " 'TCGA-D8-A3Z6',\n",
       " 'TCGA-BH-A0BV',\n",
       " 'TCGA-S3-AA11',\n",
       " 'TCGA-A2-A0EV',\n",
       " 'TCGA-A2-A0T4',\n",
       " 'TCGA-D8-A1JP',\n",
       " 'TCGA-BH-A1ET',\n",
       " 'TCGA-AR-A2LK',\n",
       " 'TCGA-BH-A5J0',\n",
       " 'TCGA-A2-A0YC',\n",
       " 'TCGA-E9-A1RA',\n",
       " 'TCGA-E2-A1IL',\n",
       " 'TCGA-A7-A0D9',\n",
       " 'TCGA-AC-A2B8',\n",
       " 'TCGA-A2-A04T',\n",
       " 'TCGA-LL-A6FP',\n",
       " 'TCGA-AR-A5QM',\n",
       " 'TCGA-BH-A0DO',\n",
       " 'TCGA-E9-A1NH',\n",
       " 'TCGA-C8-A1HE',\n",
       " 'TCGA-A2-A0T7',\n",
       " 'TCGA-C8-A131',\n",
       " 'TCGA-JL-A3YX',\n",
       " 'TCGA-C8-A8HQ',\n",
       " 'TCGA-E2-A1IN',\n",
       " 'TCGA-GM-A2DI',\n",
       " 'TCGA-E2-A15K',\n",
       " 'TCGA-AN-A0XO',\n",
       " 'TCGA-A8-A06R',\n",
       " 'TCGA-C8-A12N',\n",
       " 'TCGA-E2-A1L8',\n",
       " 'TCGA-D8-A1JF',\n",
       " 'TCGA-D8-A1JK',\n",
       " 'TCGA-AR-A24M',\n",
       " 'TCGA-D8-A143',\n",
       " 'TCGA-AC-A3YJ',\n",
       " 'TCGA-A2-A0YL',\n",
       " 'TCGA-B6-A0IE',\n",
       " 'TCGA-AR-A5QP',\n",
       " 'TCGA-AO-A1KR',\n",
       " 'TCGA-AO-A0J7',\n",
       " 'TCGA-B6-A401',\n",
       " 'TCGA-A7-A0CG',\n",
       " 'TCGA-A2-A04W',\n",
       " 'TCGA-E2-A1BD',\n",
       " 'TCGA-A2-A1FZ',\n",
       " 'TCGA-AC-A6NO',\n",
       " 'TCGA-BH-A0W3',\n",
       " 'TCGA-E9-A1RH',\n",
       " 'TCGA-A2-A0EX',\n",
       " 'TCGA-AR-A2LM',\n",
       " 'TCGA-AC-A5XS',\n",
       " 'TCGA-E2-A1IF',\n",
       " 'TCGA-E2-A9RU',\n",
       " 'TCGA-E9-A1R3',\n",
       " 'TCGA-S3-AA14',\n",
       " 'TCGA-A8-A081',\n",
       " 'TCGA-D8-A1XM',\n",
       " 'TCGA-BH-A0DP',\n",
       " 'TCGA-A2-A0YT',\n",
       " 'TCGA-BH-A0HF',\n",
       " 'TCGA-AC-A2FF',\n",
       " 'TCGA-A2-A0CW',\n",
       " 'TCGA-A2-A25C',\n",
       " 'TCGA-Z7-A8R5',\n",
       " 'TCGA-E2-A1L6',\n",
       " 'TCGA-BH-A0B6',\n",
       " 'TCGA-E2-A154',\n",
       " 'TCGA-C8-A12Y',\n",
       " 'TCGA-A2-A04P',\n",
       " 'TCGA-A2-A4S2',\n",
       " 'TCGA-A8-A096',\n",
       " 'TCGA-EW-A1PE',\n",
       " 'TCGA-BH-A1FE',\n",
       " 'TCGA-EW-A1J5',\n",
       " 'TCGA-5L-AAT1',\n",
       " 'TCGA-D8-A27P',\n",
       " 'TCGA-5L-AAT0',\n",
       " 'TCGA-AR-A1AW',\n",
       " 'TCGA-AR-A1AV',\n",
       " 'TCGA-BH-A0H9',\n",
       " 'TCGA-C8-A3M8',\n",
       " 'TCGA-A2-A0SY',\n",
       " 'TCGA-C8-A12L',\n",
       " 'TCGA-C8-A12T',\n",
       " 'TCGA-BH-A1F8',\n",
       " 'TCGA-GM-A2DD',\n",
       " 'TCGA-OL-A6VQ',\n",
       " 'TCGA-A8-A08R',\n",
       " 'TCGA-BH-A208',\n",
       " 'TCGA-A2-A04N',\n",
       " 'TCGA-AN-A04C',\n",
       " 'TCGA-AR-A0TZ',\n",
       " 'TCGA-E2-A1BC',\n",
       " 'TCGA-BH-A0BF',\n",
       " 'TCGA-BH-A0DL',\n",
       " 'TCGA-D8-A1JD',\n",
       " 'TCGA-E2-A156',\n",
       " 'TCGA-BH-A0BD',\n",
       " 'TCGA-AO-A0JC',\n",
       " 'TCGA-EW-A1IZ',\n",
       " 'TCGA-AO-A0JE',\n",
       " 'TCGA-E9-A1R4',\n",
       " 'TCGA-A2-A25A',\n",
       " 'TCGA-AR-A2LO',\n",
       " 'TCGA-C8-A1HF',\n",
       " 'TCGA-B6-A0WW',\n",
       " 'TCGA-C8-A274',\n",
       " 'TCGA-AN-A03Y',\n",
       " 'TCGA-EW-A1P0',\n",
       " 'TCGA-AR-A24O',\n",
       " 'TCGA-AR-A255',\n",
       " 'TCGA-A8-A0A1',\n",
       " 'TCGA-3C-AALK',\n",
       " 'TCGA-BH-A42V',\n",
       " 'TCGA-A2-A0D1',\n",
       " 'TCGA-AC-A23C',\n",
       " 'TCGA-WT-AB41',\n",
       " 'TCGA-BH-A0DX',\n",
       " 'TCGA-E9-A3X8',\n",
       " 'TCGA-B6-A0RG',\n",
       " 'TCGA-B6-A0X5',\n",
       " 'TCGA-B6-A40B',\n",
       " 'TCGA-BH-A0BQ',\n",
       " 'TCGA-AR-A1AS',\n",
       " 'TCGA-AR-A24S',\n",
       " 'TCGA-A8-A06P',\n",
       " 'TCGA-AC-A23H',\n",
       " 'TCGA-A2-A0EN',\n",
       " 'TCGA-D8-A1XL',\n",
       " 'TCGA-XX-A89A',\n",
       " 'TCGA-EW-A1J2',\n",
       " 'TCGA-AQ-A0Y5',\n",
       " 'TCGA-B6-A0RO',\n",
       " 'TCGA-BH-A0W7',\n",
       " 'TCGA-EW-A1IX',\n",
       " 'TCGA-A1-A0SI',\n",
       " 'TCGA-AN-A046',\n",
       " 'TCGA-A8-A08T',\n",
       " 'TCGA-D8-A1JE',\n",
       " 'TCGA-A2-A0EY',\n",
       " 'TCGA-D8-A73X',\n",
       " 'TCGA-B6-A0IK',\n",
       " 'TCGA-C8-A130',\n",
       " 'TCGA-E9-A229',\n",
       " 'TCGA-E9-A227',\n",
       " 'TCGA-E2-A153',\n",
       " 'TCGA-E9-A1RC',\n",
       " 'TCGA-E9-A1R5',\n",
       " 'TCGA-B6-A0RN',\n",
       " 'TCGA-E9-A295',\n",
       " 'TCGA-E2-A15G',\n",
       " 'TCGA-A8-A0A9',\n",
       " 'TCGA-AC-A2FO',\n",
       " 'TCGA-BH-A0EB',\n",
       " 'TCGA-BH-A0HI',\n",
       " 'TCGA-A8-A07Z',\n",
       " 'TCGA-E2-A15L',\n",
       " 'TCGA-BH-A18H',\n",
       " 'TCGA-D8-A146',\n",
       " 'TCGA-C8-A3M7',\n",
       " 'TCGA-E9-A1RE',\n",
       " 'TCGA-BH-A0BA',\n",
       " 'TCGA-AN-A0XS',\n",
       " 'TCGA-D8-A1JH',\n",
       " 'TCGA-BH-A1EU',\n",
       " 'TCGA-AR-A1AO',\n",
       " 'TCGA-OK-A5Q2',\n",
       " 'TCGA-AR-A1AL',\n",
       " 'TCGA-BH-A202',\n",
       " 'TCGA-C8-A12U',\n",
       " 'TCGA-A2-A0EM',\n",
       " 'TCGA-BH-A0BC',\n",
       " 'TCGA-BH-A0BO',\n",
       " 'TCGA-A8-A06Q',\n",
       " 'TCGA-AQ-A7U7',\n",
       " 'TCGA-BH-A0EA',\n",
       " 'TCGA-A7-A13G',\n",
       " 'TCGA-OL-A66L',\n",
       " 'TCGA-A2-A0CR',\n",
       " 'TCGA-A8-A09D',\n",
       " 'TCGA-A2-A1G0',\n",
       " 'TCGA-D8-A1JS',\n",
       " 'TCGA-EW-A1J1',\n",
       " 'TCGA-OL-A5D6',\n",
       " 'TCGA-D8-A27L',\n",
       " 'TCGA-OL-A5RX',\n",
       " 'TCGA-A7-A0CJ',\n",
       " 'TCGA-E2-A15P',\n",
       " 'TCGA-A8-A08P',\n",
       " 'TCGA-A8-A08B',\n",
       " 'TCGA-D8-A1XO',\n",
       " 'TCGA-E2-A14Y',\n",
       " 'TCGA-AN-A03X',\n",
       " 'TCGA-OL-A5DA',\n",
       " 'TCGA-E9-A1N5',\n",
       " 'TCGA-E9-A1RI',\n",
       " 'TCGA-D8-A1JJ',\n",
       " 'TCGA-D8-A1JU',\n",
       " 'TCGA-BH-A0H3',\n",
       " 'TCGA-AR-A5QQ',\n",
       " 'TCGA-GM-A2D9',\n",
       " 'TCGA-B6-A1KI',\n",
       " 'TCGA-AN-A0AK',\n",
       " 'TCGA-PE-A5DE',\n",
       " 'TCGA-A2-A04V',\n",
       " 'TCGA-E9-A1NI']"
      ]
     },
     "execution_count": 49,
     "metadata": {},
     "output_type": "execute_result"
    }
   ],
   "source": [
    "brca_mutex.get_patients_with(\"P42336\", identifier_type=\"protein\")"
   ]
  },
  {
   "cell_type": "code",
   "execution_count": 42,
   "id": "13c150ea-395a-4596-a2ad-5c06122b9fd4",
   "metadata": {},
   "outputs": [
    {
     "data": {
      "text/plain": [
       "60251"
      ]
     },
     "execution_count": 42,
     "metadata": {},
     "output_type": "execute_result"
    }
   ],
   "source": [
    "len(brca_mutex.snv_data)"
   ]
  },
  {
   "cell_type": "code",
   "execution_count": 43,
   "id": "590fe775-3f04-409f-b835-deef06d81a24",
   "metadata": {},
   "outputs": [
    {
     "data": {
      "text/html": [
       "<div>\n",
       "<style scoped>\n",
       "    .dataframe tbody tr th:only-of-type {\n",
       "        vertical-align: middle;\n",
       "    }\n",
       "\n",
       "    .dataframe tbody tr th {\n",
       "        vertical-align: top;\n",
       "    }\n",
       "\n",
       "    .dataframe thead th {\n",
       "        text-align: right;\n",
       "    }\n",
       "</style>\n",
       "<table border=\"1\" class=\"dataframe\">\n",
       "  <thead>\n",
       "    <tr style=\"text-align: right;\">\n",
       "      <th></th>\n",
       "      <th>Hugo_Symbol</th>\n",
       "      <th>SWISSPROT</th>\n",
       "      <th>HGVSp_Short</th>\n",
       "      <th>Tumor_Sample_Barcode</th>\n",
       "    </tr>\n",
       "  </thead>\n",
       "  <tbody>\n",
       "    <tr>\n",
       "      <th>0</th>\n",
       "      <td>USP24</td>\n",
       "      <td>Q9UPU5</td>\n",
       "      <td>I342V</td>\n",
       "      <td>TCGA-D8-A1XY</td>\n",
       "    </tr>\n",
       "    <tr>\n",
       "      <th>1</th>\n",
       "      <td>ERICH3</td>\n",
       "      <td>Q5RHP9</td>\n",
       "      <td>E1406K</td>\n",
       "      <td>TCGA-D8-A1XY</td>\n",
       "    </tr>\n",
       "    <tr>\n",
       "      <th>2</th>\n",
       "      <td>SPHKAP</td>\n",
       "      <td>Q2M3C7</td>\n",
       "      <td>R1372S</td>\n",
       "      <td>TCGA-D8-A1XY</td>\n",
       "    </tr>\n",
       "    <tr>\n",
       "      <th>3</th>\n",
       "      <td>HRH1</td>\n",
       "      <td>P35367</td>\n",
       "      <td>M206V</td>\n",
       "      <td>TCGA-D8-A1XY</td>\n",
       "    </tr>\n",
       "    <tr>\n",
       "      <th>4</th>\n",
       "      <td>LRRC2</td>\n",
       "      <td>Q9BYS8</td>\n",
       "      <td>P359L</td>\n",
       "      <td>TCGA-D8-A1XY</td>\n",
       "    </tr>\n",
       "    <tr>\n",
       "      <th>...</th>\n",
       "      <td>...</td>\n",
       "      <td>...</td>\n",
       "      <td>...</td>\n",
       "      <td>...</td>\n",
       "    </tr>\n",
       "    <tr>\n",
       "      <th>60246</th>\n",
       "      <td>PCDH19</td>\n",
       "      <td>Q8TAB3</td>\n",
       "      <td>R284C</td>\n",
       "      <td>TCGA-E9-A1NI</td>\n",
       "    </tr>\n",
       "    <tr>\n",
       "      <th>60247</th>\n",
       "      <td>ARMCX3</td>\n",
       "      <td>Q9UH62</td>\n",
       "      <td>E310V</td>\n",
       "      <td>TCGA-E9-A1NI</td>\n",
       "    </tr>\n",
       "    <tr>\n",
       "      <th>60248</th>\n",
       "      <td>MUM1L1</td>\n",
       "      <td>Q5H9M0</td>\n",
       "      <td>V610L</td>\n",
       "      <td>TCGA-E9-A1NI</td>\n",
       "    </tr>\n",
       "    <tr>\n",
       "      <th>60249</th>\n",
       "      <td>L1CAM</td>\n",
       "      <td>P32004</td>\n",
       "      <td>V871L</td>\n",
       "      <td>TCGA-E9-A1NI</td>\n",
       "    </tr>\n",
       "    <tr>\n",
       "      <th>60250</th>\n",
       "      <td>ARHGAP4</td>\n",
       "      <td>P98171</td>\n",
       "      <td>L158R</td>\n",
       "      <td>TCGA-E9-A1NI</td>\n",
       "    </tr>\n",
       "  </tbody>\n",
       "</table>\n",
       "<p>60251 rows × 4 columns</p>\n",
       "</div>"
      ],
      "text/plain": [
       "      Hugo_Symbol SWISSPROT HGVSp_Short Tumor_Sample_Barcode\n",
       "0           USP24    Q9UPU5       I342V         TCGA-D8-A1XY\n",
       "1          ERICH3    Q5RHP9      E1406K         TCGA-D8-A1XY\n",
       "2          SPHKAP    Q2M3C7      R1372S         TCGA-D8-A1XY\n",
       "3            HRH1    P35367       M206V         TCGA-D8-A1XY\n",
       "4           LRRC2    Q9BYS8       P359L         TCGA-D8-A1XY\n",
       "...           ...       ...         ...                  ...\n",
       "60246      PCDH19    Q8TAB3       R284C         TCGA-E9-A1NI\n",
       "60247      ARMCX3    Q9UH62       E310V         TCGA-E9-A1NI\n",
       "60248      MUM1L1    Q5H9M0       V610L         TCGA-E9-A1NI\n",
       "60249       L1CAM    P32004       V871L         TCGA-E9-A1NI\n",
       "60250     ARHGAP4    P98171       L158R         TCGA-E9-A1NI\n",
       "\n",
       "[60251 rows x 4 columns]"
      ]
     },
     "execution_count": 43,
     "metadata": {},
     "output_type": "execute_result"
    }
   ],
   "source": [
    "brca_mutex.snv_data"
   ]
  }
 ],
 "metadata": {
  "kernelspec": {
   "display_name": "Predicting-Mutation-Effects",
   "language": "python",
   "name": "predicting-mutation-effects"
  },
  "language_info": {
   "codemirror_mode": {
    "name": "ipython",
    "version": 3
   },
   "file_extension": ".py",
   "mimetype": "text/x-python",
   "name": "python",
   "nbconvert_exporter": "python",
   "pygments_lexer": "ipython3",
   "version": "3.8.10"
  }
 },
 "nbformat": 4,
 "nbformat_minor": 5
}
