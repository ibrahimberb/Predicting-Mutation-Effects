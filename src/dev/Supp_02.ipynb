{
 "cells": [
  {
   "cell_type": "markdown",
   "id": "c00a008e-cbe6-4e93-af1f-356ec034c1a3",
   "metadata": {},
   "source": [
    "# Supplementary Table 02"
   ]
  },
  {
   "cell_type": "markdown",
   "id": "948a0b0c-95bd-4d70-9713-8f32931bcc26",
   "metadata": {},
   "source": [
    "\n",
    "<b><i class=\"fa fa-folder-o\" area-hidden=\"true\" style=\"color:#1976D2\"> </i>&nbsp; File Location</b><br>\n",
    "<p style=\"background:#F5F5F5; text-indent: 1em;\">\n",
    "<code style=\"background:#F5F5F5; color:#404040; font-weight:bold; font-size:12px\">C:\\Users\\ibrah\\Documents\\GitHub\\Predicting-Mutation-Effects\\src\\dev</code>\n",
    "</p>\n",
    "\n",
    "<b><i class=\"far fa-file\" area-hidden=\"true\" style=\"color:#1976D2\"> </i>&nbsp; File Name</b>\n",
    "<p style=\"background:#F5F5F5; text-indent: 1em;\">\n",
    "<code style=\"background:#F5F5F5; color:#404040; font-weight:bold; font-size:12px\">Supp_02.ipynb</code>\n",
    "</p>\n",
    "\n",
    "<b><i class=\"far fa-calendar-alt\" area-hidden=\"true\" style=\"color:#1976D2\"> </i>&nbsp; Last Edited</b>\n",
    "<p style=\"background:#F5F5F5; text-indent: 1em;\">\n",
    "<code style=\"background:#F5F5F5; color:#404040; font-weight:bold; font-size:12px\">October 24th, 2021</code>\n",
    "</p>\n"
   ]
  },
  {
   "cell_type": "code",
   "execution_count": 1,
   "id": "30768b78-2dd6-4ca4-abb0-4971827efd3e",
   "metadata": {},
   "outputs": [],
   "source": [
    "import os\n",
    "\n",
    "os.chdir('../')"
   ]
  },
  {
   "cell_type": "code",
   "execution_count": 2,
   "id": "f3b0235e-8539-47c5-b78d-453a5d4f844b",
   "metadata": {},
   "outputs": [],
   "source": [
    "from pathlib import Path\n",
    "from helpers.helpers_supplementary.supp_02_utils import Supp02Helper, merge_tcga_supp_02_datasets\n",
    "\n",
    "SNV_COMMON_PATH = \"C:/Users/ibrah/Desktop/TUSEB_Study/Data_Collection_and_Filtering/SNV/\"\n",
    "\n",
    "# BRCA\n",
    "BRCA_SNV_PATH = os.path.join(SNV_COMMON_PATH, \"SNV_BRCA_hg38.csv\")\n",
    "BRCA_ELASPIC_CORE_PATH = Path(r\"../../My-ELASPIC-Web-API/Elaspic_Results/Merged_Results/BRCA_Core_2021-09-28.txt\")\n",
    "BRCA_ELASPIC_INTERFACE_PATH = Path(r\"../../My-ELASPIC-Web-API/Elaspic_Results/Merged_Results/BRCA_Interface_2021-09-28.txt\")\n",
    "\n",
    "# OV\n",
    "OV_SNV_PATH = os.path.join(SNV_COMMON_PATH, \"SNV_OV_hg38.csv\")\n",
    "OV_ELASPIC_CORE_PATH = Path(r\"../../My-ELASPIC-Web-API/Elaspic_Results/Merged_Results/OV_Core_2021-09-28.txt\")\n",
    "OV_ELASPIC_INTERFACE_PATH = Path(r\"../../My-ELASPIC-Web-API/Elaspic_Results/Merged_Results/OV_Interface_2021-09-28.txt\")\n",
    "\n",
    "# Reflect changes in the modules immediately.\n",
    "%load_ext autoreload\n",
    "%autoreload 2"
   ]
  },
  {
   "cell_type": "code",
   "execution_count": null,
   "id": "7a463515-39eb-4099-983d-85a9bc93e3b8",
   "metadata": {},
   "outputs": [],
   "source": []
  },
  {
   "cell_type": "markdown",
   "id": "19a9bf3d-9bd2-4e65-b24a-05f51b28db83",
   "metadata": {},
   "source": [
    "## BRCA"
   ]
  },
  {
   "cell_type": "code",
   "execution_count": 3,
   "id": "61e9e8c3-9779-4dc5-a6ef-ec41972b02a2",
   "metadata": {
    "scrolled": true,
    "tags": []
   },
   "outputs": [
    {
     "name": "stdout",
     "output_type": "stream",
     "text": [
      "2021-10-24 14:49:24 |\u001b[32m INFO     \u001b[0m| helpers.helpers_supplementary.supp_02_utils | Loading materials ..\n",
      "2021-10-24 14:49:24 |\u001b[36m DEBUG    \u001b[0m| helpers.helpers_supplementary.supp_02_utils | Loading SNV data simplified ..\n",
      "2021-10-24 14:49:24 |\u001b[32m INFO     \u001b[0m| helpers.helpers_analysis.loaders | Loading BRCA SNV datasets ..\n",
      "2021-10-24 14:49:31 |\u001b[36m DEBUG    \u001b[0m| helpers.helpers_analysis.loaders | BRCA SNV data size: (120988, 121)\n",
      "2021-10-24 14:49:32 |\u001b[36m DEBUG    \u001b[0m| helpers.helpers_analysis.loaders | BRCA SNV data processed size: (60251, 121)\n",
      "2021-10-24 14:49:32 |\u001b[32m INFO     \u001b[0m| helpers.helpers_analysis.loaders | BRCA SNV datasets are loaded.\n",
      "2021-10-24 14:49:32 |\u001b[36m DEBUG    \u001b[0m| helpers.helpers_supplementary.supp_02_utils | Loading patient ids ..\n",
      "2021-10-24 14:49:32 |\u001b[36m DEBUG    \u001b[0m| helpers.helpers_supplementary.supp_02_utils | Loading patient to snv_data ..\n"
     ]
    },
    {
     "data": {
      "application/vnd.jupyter.widget-view+json": {
       "model_id": "10e52ad4bcc44b58a1fa98640e594e2f",
       "version_major": 2,
       "version_minor": 0
      },
      "text/plain": [
       "  0%|          | 0/985 [00:00<?, ?it/s]"
      ]
     },
     "metadata": {},
     "output_type": "display_data"
    },
    {
     "name": "stdout",
     "output_type": "stream",
     "text": [
      "2021-10-24 14:49:42 |\u001b[32m INFO     \u001b[0m| helpers.helpers_analysis.loaders | Loading BRCA ELASPIC datasets ..\n",
      "2021-10-24 14:49:42 |\u001b[36m DEBUG    \u001b[0m| helpers.helpers_analysis.loaders | Loading ELASPIC CORE data materials ..\n",
      "2021-10-24 14:49:43 |\u001b[36m DEBUG    \u001b[0m| helpers.helpers_analysis.loaders | BRCA ELASPIC CORE data size: (19345, 103)\n",
      "2021-10-24 14:49:43 |\u001b[36m DEBUG    \u001b[0m| helpers.helpers_analysis.loaders | Loading ELASPIC INTERFACE data materials ..\n",
      "2021-10-24 14:49:43 |\u001b[36m DEBUG    \u001b[0m| helpers.helpers_analysis.loaders | BRCA ELASPIC INTERFACE data size: (7453, 103)\n",
      "2021-10-24 14:49:43 |\u001b[36m DEBUG    \u001b[0m| helpers.helpers_analysis.preprocessing | 3468 duplicated entries are removed.\n",
      "2021-10-24 14:49:43 |\u001b[36m DEBUG    \u001b[0m| helpers.helpers_analysis.loaders | Loading BRCA ELASPIC CORE & INTERFACE COMBINED data ..\n",
      "2021-10-24 14:49:43 |\u001b[36m DEBUG    \u001b[0m| helpers.helpers_analysis.loaders | \n",
      "ELASPIC CORE DATA\n",
      "(19336, 3)\n",
      "  UniProt_ID Mutation Interactor_UniProt_ID\n",
      "0     P35367    M206V                     -\n",
      "1     Q96RQ3     R66H                     -\n",
      "2     O00203    R227H                     -\n",
      "2021-10-24 14:49:43 |\u001b[36m DEBUG    \u001b[0m| helpers.helpers_analysis.loaders | \n",
      "ELASPIC INTERFACE DATA\n",
      "(3985, 3)\n",
      "  UniProt_ID Mutation Interactor_UniProt_ID\n",
      "0     P28062    R216W                P40306\n",
      "1     Q15842    E237K                Q14654\n",
      "2     Q15842    E237K                P63252\n",
      "2021-10-24 14:49:43 |\u001b[36m DEBUG    \u001b[0m| helpers.helpers_analysis.loaders | Combined data shape: (23321, 3)\n",
      "2021-10-24 14:49:43 |\u001b[32m INFO     \u001b[0m| helpers.helpers_analysis.loaders | BRCA ELASPIC datasets are loaded.\n",
      "2021-10-24 14:49:43 |\u001b[32m INFO     \u001b[0m| helpers.helpers_supplementary.supp_02_utils | Materials loaded.\n",
      "2021-10-24 14:49:43 |\u001b[32m INFO     \u001b[0m| helpers.helpers_supplementary.supp_02_utils | Number of BRCA patients: 985.\n",
      "2021-10-24 14:49:44 |\u001b[32m INFO     \u001b[0m| helpers.helpers_supplementary.supp_02_utils | Analysis table prepared for BRCA.\n"
     ]
    }
   ],
   "source": [
    "supp_02_brca = Supp02Helper(\n",
    "    tcga=\"BRCA\",\n",
    "    tcga_snv_path=BRCA_SNV_PATH,\n",
    "    elaspic_core_path=BRCA_ELASPIC_CORE_PATH,\n",
    "    elaspic_interface_path=BRCA_ELASPIC_INTERFACE_PATH,\n",
    ")"
   ]
  },
  {
   "cell_type": "code",
   "execution_count": 4,
   "id": "a62c126f-1120-46be-86b3-5faf7a0d64ca",
   "metadata": {},
   "outputs": [
    {
     "data": {
      "text/html": [
       "<div>\n",
       "<style scoped>\n",
       "    .dataframe tbody tr th:only-of-type {\n",
       "        vertical-align: middle;\n",
       "    }\n",
       "\n",
       "    .dataframe tbody tr th {\n",
       "        vertical-align: top;\n",
       "    }\n",
       "\n",
       "    .dataframe thead th {\n",
       "        text-align: right;\n",
       "    }\n",
       "</style>\n",
       "<table border=\"1\" class=\"dataframe\">\n",
       "  <thead>\n",
       "    <tr style=\"text-align: right;\">\n",
       "      <th></th>\n",
       "      <th>num_patients</th>\n",
       "      <th>num_original_snv_entries</th>\n",
       "      <th>num_original_snv_mutations</th>\n",
       "      <th>num_snv_data_simplified_entries</th>\n",
       "      <th>num_snv_data_simplified_mutations</th>\n",
       "      <th>num_elaspic_core_entries</th>\n",
       "      <th>num_elaspic_core_mutations</th>\n",
       "      <th>num_elaspic_core_processed_entries</th>\n",
       "      <th>num_elaspic_core_processed_mutations</th>\n",
       "      <th>num_elaspic_interface_entries</th>\n",
       "      <th>num_elaspic_interface_mutations</th>\n",
       "      <th>num_elaspic_interface_processed_entries</th>\n",
       "      <th>num_elaspic_interface_processed_mutations</th>\n",
       "      <th>num_elaspic_core_processed_and_interface_processed_entries</th>\n",
       "      <th>num_elaspic_core_processed_and_interface_processed_mutations</th>\n",
       "    </tr>\n",
       "  </thead>\n",
       "  <tbody>\n",
       "    <tr>\n",
       "      <th>BRCA</th>\n",
       "      <td>985</td>\n",
       "      <td>120988</td>\n",
       "      <td>107352</td>\n",
       "      <td>60251</td>\n",
       "      <td>59537</td>\n",
       "      <td>19345</td>\n",
       "      <td>19336</td>\n",
       "      <td>19336</td>\n",
       "      <td>19336</td>\n",
       "      <td>7453</td>\n",
       "      <td>1683</td>\n",
       "      <td>3985</td>\n",
       "      <td>1683</td>\n",
       "      <td>23321</td>\n",
       "      <td>21019</td>\n",
       "    </tr>\n",
       "  </tbody>\n",
       "</table>\n",
       "</div>"
      ],
      "text/plain": [
       "      num_patients  num_original_snv_entries  num_original_snv_mutations  \\\n",
       "BRCA           985                    120988                      107352   \n",
       "\n",
       "      num_snv_data_simplified_entries  num_snv_data_simplified_mutations  \\\n",
       "BRCA                            60251                              59537   \n",
       "\n",
       "      num_elaspic_core_entries  num_elaspic_core_mutations  \\\n",
       "BRCA                     19345                       19336   \n",
       "\n",
       "      num_elaspic_core_processed_entries  \\\n",
       "BRCA                               19336   \n",
       "\n",
       "      num_elaspic_core_processed_mutations  num_elaspic_interface_entries  \\\n",
       "BRCA                                 19336                           7453   \n",
       "\n",
       "      num_elaspic_interface_mutations  \\\n",
       "BRCA                             1683   \n",
       "\n",
       "      num_elaspic_interface_processed_entries  \\\n",
       "BRCA                                     3985   \n",
       "\n",
       "      num_elaspic_interface_processed_mutations  \\\n",
       "BRCA                                       1683   \n",
       "\n",
       "      num_elaspic_core_processed_and_interface_processed_entries  \\\n",
       "BRCA                                              23321            \n",
       "\n",
       "      num_elaspic_core_processed_and_interface_processed_mutations  \n",
       "BRCA                                              21019             "
      ]
     },
     "execution_count": 4,
     "metadata": {},
     "output_type": "execute_result"
    }
   ],
   "source": [
    "supp_02_brca.analysis_table"
   ]
  },
  {
   "cell_type": "markdown",
   "id": "17da0325-2627-4333-bdec-e40b7494bd5e",
   "metadata": {},
   "source": [
    "## OV"
   ]
  },
  {
   "cell_type": "code",
   "execution_count": 5,
   "id": "572a1ac2-600a-4a81-89ac-477fd8acaf86",
   "metadata": {
    "scrolled": true,
    "tags": []
   },
   "outputs": [
    {
     "name": "stdout",
     "output_type": "stream",
     "text": [
      "2021-10-24 14:49:44 |\u001b[32m INFO     \u001b[0m| helpers.helpers_supplementary.supp_02_utils | Loading materials ..\n",
      "2021-10-24 14:49:44 |\u001b[36m DEBUG    \u001b[0m| helpers.helpers_supplementary.supp_02_utils | Loading SNV data simplified ..\n",
      "2021-10-24 14:49:44 |\u001b[32m INFO     \u001b[0m| helpers.helpers_analysis.loaders | Loading OV SNV datasets ..\n",
      "2021-10-24 14:49:48 |\u001b[36m DEBUG    \u001b[0m| helpers.helpers_analysis.loaders | OV SNV data size: (75168, 121)\n",
      "2021-10-24 14:49:49 |\u001b[36m DEBUG    \u001b[0m| helpers.helpers_analysis.loaders | OV SNV data processed size: (38486, 121)\n",
      "2021-10-24 14:49:49 |\u001b[32m INFO     \u001b[0m| helpers.helpers_analysis.loaders | OV SNV datasets are loaded.\n",
      "2021-10-24 14:49:49 |\u001b[36m DEBUG    \u001b[0m| helpers.helpers_supplementary.supp_02_utils | Loading patient ids ..\n",
      "2021-10-24 14:49:49 |\u001b[36m DEBUG    \u001b[0m| helpers.helpers_supplementary.supp_02_utils | Loading patient to snv_data ..\n"
     ]
    },
    {
     "data": {
      "application/vnd.jupyter.widget-view+json": {
       "model_id": "769c000596c640868aee0957a24e7b04",
       "version_major": 2,
       "version_minor": 0
      },
      "text/plain": [
       "  0%|          | 0/436 [00:00<?, ?it/s]"
      ]
     },
     "metadata": {},
     "output_type": "display_data"
    },
    {
     "name": "stdout",
     "output_type": "stream",
     "text": [
      "2021-10-24 14:49:52 |\u001b[32m INFO     \u001b[0m| helpers.helpers_analysis.loaders | Loading OV ELASPIC datasets ..\n",
      "2021-10-24 14:49:52 |\u001b[36m DEBUG    \u001b[0m| helpers.helpers_analysis.loaders | Loading ELASPIC CORE data materials ..\n",
      "2021-10-24 14:49:53 |\u001b[36m DEBUG    \u001b[0m| helpers.helpers_analysis.loaders | OV ELASPIC CORE data size: (12607, 103)\n",
      "2021-10-24 14:49:53 |\u001b[36m DEBUG    \u001b[0m| helpers.helpers_analysis.loaders | Loading ELASPIC INTERFACE data materials ..\n",
      "2021-10-24 14:49:53 |\u001b[36m DEBUG    \u001b[0m| helpers.helpers_analysis.loaders | OV ELASPIC INTERFACE data size: (5045, 103)\n",
      "2021-10-24 14:49:53 |\u001b[36m DEBUG    \u001b[0m| helpers.helpers_analysis.preprocessing | 2467 duplicated entries are removed.\n",
      "2021-10-24 14:49:53 |\u001b[36m DEBUG    \u001b[0m| helpers.helpers_analysis.loaders | Loading OV ELASPIC CORE & INTERFACE COMBINED data ..\n",
      "2021-10-24 14:49:53 |\u001b[36m DEBUG    \u001b[0m| helpers.helpers_analysis.loaders | \n",
      "ELASPIC CORE DATA\n",
      "(12571, 3)\n",
      "  UniProt_ID Mutation Interactor_UniProt_ID\n",
      "0     O95155   I1201L                     -\n",
      "1     O95154    Y209H                     -\n",
      "2     O75578    N927Y                     -\n",
      "2021-10-24 14:49:53 |\u001b[36m DEBUG    \u001b[0m| helpers.helpers_analysis.loaders | \n",
      "ELASPIC INTERFACE DATA\n",
      "(2578, 3)\n",
      "  UniProt_ID Mutation Interactor_UniProt_ID\n",
      "0     P08134     D59E                P52565\n",
      "1     P62993      A3V                Q9H8V3\n",
      "2     P62993      A3V                Q14155\n",
      "2021-10-24 14:49:53 |\u001b[36m DEBUG    \u001b[0m| helpers.helpers_analysis.loaders | Combined data shape: (15149, 3)\n",
      "2021-10-24 14:49:53 |\u001b[32m INFO     \u001b[0m| helpers.helpers_analysis.loaders | OV ELASPIC datasets are loaded.\n",
      "2021-10-24 14:49:53 |\u001b[32m INFO     \u001b[0m| helpers.helpers_supplementary.supp_02_utils | Materials loaded.\n",
      "2021-10-24 14:49:53 |\u001b[32m INFO     \u001b[0m| helpers.helpers_supplementary.supp_02_utils | Number of OV patients: 436.\n",
      "2021-10-24 14:49:53 |\u001b[32m INFO     \u001b[0m| helpers.helpers_supplementary.supp_02_utils | Analysis table prepared for OV.\n"
     ]
    }
   ],
   "source": [
    "supp_02_ov = Supp02Helper(\n",
    "    tcga=\"OV\",\n",
    "    tcga_snv_path=OV_SNV_PATH,\n",
    "    elaspic_core_path=OV_ELASPIC_CORE_PATH,\n",
    "    elaspic_interface_path=OV_ELASPIC_INTERFACE_PATH,\n",
    ")"
   ]
  },
  {
   "cell_type": "code",
   "execution_count": 6,
   "id": "dbee76f3-2b20-49e9-9a4c-cb32f5dfb4d1",
   "metadata": {},
   "outputs": [
    {
     "data": {
      "text/html": [
       "<div>\n",
       "<style scoped>\n",
       "    .dataframe tbody tr th:only-of-type {\n",
       "        vertical-align: middle;\n",
       "    }\n",
       "\n",
       "    .dataframe tbody tr th {\n",
       "        vertical-align: top;\n",
       "    }\n",
       "\n",
       "    .dataframe thead th {\n",
       "        text-align: right;\n",
       "    }\n",
       "</style>\n",
       "<table border=\"1\" class=\"dataframe\">\n",
       "  <thead>\n",
       "    <tr style=\"text-align: right;\">\n",
       "      <th></th>\n",
       "      <th>num_patients</th>\n",
       "      <th>num_original_snv_entries</th>\n",
       "      <th>num_original_snv_mutations</th>\n",
       "      <th>num_snv_data_simplified_entries</th>\n",
       "      <th>num_snv_data_simplified_mutations</th>\n",
       "      <th>num_elaspic_core_entries</th>\n",
       "      <th>num_elaspic_core_mutations</th>\n",
       "      <th>num_elaspic_core_processed_entries</th>\n",
       "      <th>num_elaspic_core_processed_mutations</th>\n",
       "      <th>num_elaspic_interface_entries</th>\n",
       "      <th>num_elaspic_interface_mutations</th>\n",
       "      <th>num_elaspic_interface_processed_entries</th>\n",
       "      <th>num_elaspic_interface_processed_mutations</th>\n",
       "      <th>num_elaspic_core_processed_and_interface_processed_entries</th>\n",
       "      <th>num_elaspic_core_processed_and_interface_processed_mutations</th>\n",
       "    </tr>\n",
       "  </thead>\n",
       "  <tbody>\n",
       "    <tr>\n",
       "      <th>OV</th>\n",
       "      <td>436</td>\n",
       "      <td>75168</td>\n",
       "      <td>69132</td>\n",
       "      <td>38486</td>\n",
       "      <td>38210</td>\n",
       "      <td>12607</td>\n",
       "      <td>12571</td>\n",
       "      <td>12571</td>\n",
       "      <td>12571</td>\n",
       "      <td>5045</td>\n",
       "      <td>1092</td>\n",
       "      <td>2578</td>\n",
       "      <td>1092</td>\n",
       "      <td>15149</td>\n",
       "      <td>13663</td>\n",
       "    </tr>\n",
       "  </tbody>\n",
       "</table>\n",
       "</div>"
      ],
      "text/plain": [
       "    num_patients  num_original_snv_entries  num_original_snv_mutations  \\\n",
       "OV           436                     75168                       69132   \n",
       "\n",
       "    num_snv_data_simplified_entries  num_snv_data_simplified_mutations  \\\n",
       "OV                            38486                              38210   \n",
       "\n",
       "    num_elaspic_core_entries  num_elaspic_core_mutations  \\\n",
       "OV                     12607                       12571   \n",
       "\n",
       "    num_elaspic_core_processed_entries  num_elaspic_core_processed_mutations  \\\n",
       "OV                               12571                                 12571   \n",
       "\n",
       "    num_elaspic_interface_entries  num_elaspic_interface_mutations  \\\n",
       "OV                           5045                             1092   \n",
       "\n",
       "    num_elaspic_interface_processed_entries  \\\n",
       "OV                                     2578   \n",
       "\n",
       "    num_elaspic_interface_processed_mutations  \\\n",
       "OV                                       1092   \n",
       "\n",
       "    num_elaspic_core_processed_and_interface_processed_entries  \\\n",
       "OV                                              15149            \n",
       "\n",
       "    num_elaspic_core_processed_and_interface_processed_mutations  \n",
       "OV                                              13663             "
      ]
     },
     "execution_count": 6,
     "metadata": {},
     "output_type": "execute_result"
    }
   ],
   "source": [
    "supp_02_ov.analysis_table"
   ]
  },
  {
   "cell_type": "code",
   "execution_count": null,
   "id": "8d17382e-41b3-4ca3-86f4-9139347b9122",
   "metadata": {},
   "outputs": [],
   "source": []
  },
  {
   "cell_type": "code",
   "execution_count": null,
   "id": "fa7c618a-529c-499c-aa9e-0508e405988e",
   "metadata": {},
   "outputs": [],
   "source": []
  },
  {
   "cell_type": "code",
   "execution_count": 14,
   "id": "44c3d38e-f95d-40a8-bae5-d21a8fdc6b14",
   "metadata": {},
   "outputs": [
    {
     "data": {
      "text/html": [
       "<div>\n",
       "<style scoped>\n",
       "    .dataframe tbody tr th:only-of-type {\n",
       "        vertical-align: middle;\n",
       "    }\n",
       "\n",
       "    .dataframe tbody tr th {\n",
       "        vertical-align: top;\n",
       "    }\n",
       "\n",
       "    .dataframe thead th {\n",
       "        text-align: right;\n",
       "    }\n",
       "</style>\n",
       "<table border=\"1\" class=\"dataframe\">\n",
       "  <thead>\n",
       "    <tr style=\"text-align: right;\">\n",
       "      <th></th>\n",
       "      <th>num_patients</th>\n",
       "      <th>num_original_snv_entries</th>\n",
       "      <th>num_original_snv_mutations</th>\n",
       "      <th>num_snv_data_simplified_entries</th>\n",
       "      <th>num_snv_data_simplified_mutations</th>\n",
       "      <th>num_elaspic_core_entries</th>\n",
       "      <th>num_elaspic_core_mutations</th>\n",
       "      <th>num_elaspic_core_processed_entries</th>\n",
       "      <th>num_elaspic_core_processed_mutations</th>\n",
       "      <th>num_elaspic_interface_entries</th>\n",
       "      <th>num_elaspic_interface_mutations</th>\n",
       "      <th>num_elaspic_interface_processed_entries</th>\n",
       "      <th>num_elaspic_interface_processed_mutations</th>\n",
       "      <th>num_elaspic_core_processed_and_interface_processed_entries</th>\n",
       "      <th>num_elaspic_core_processed_and_interface_processed_mutations</th>\n",
       "    </tr>\n",
       "    <tr>\n",
       "      <th>TCGA</th>\n",
       "      <th></th>\n",
       "      <th></th>\n",
       "      <th></th>\n",
       "      <th></th>\n",
       "      <th></th>\n",
       "      <th></th>\n",
       "      <th></th>\n",
       "      <th></th>\n",
       "      <th></th>\n",
       "      <th></th>\n",
       "      <th></th>\n",
       "      <th></th>\n",
       "      <th></th>\n",
       "      <th></th>\n",
       "      <th></th>\n",
       "    </tr>\n",
       "  </thead>\n",
       "  <tbody>\n",
       "    <tr>\n",
       "      <th>BRCA</th>\n",
       "      <td>985</td>\n",
       "      <td>120988</td>\n",
       "      <td>107352</td>\n",
       "      <td>60251</td>\n",
       "      <td>59537</td>\n",
       "      <td>19345</td>\n",
       "      <td>19336</td>\n",
       "      <td>19336</td>\n",
       "      <td>19336</td>\n",
       "      <td>7453</td>\n",
       "      <td>1683</td>\n",
       "      <td>3985</td>\n",
       "      <td>1683</td>\n",
       "      <td>23321</td>\n",
       "      <td>21019</td>\n",
       "    </tr>\n",
       "    <tr>\n",
       "      <th>OV</th>\n",
       "      <td>436</td>\n",
       "      <td>75168</td>\n",
       "      <td>69132</td>\n",
       "      <td>38486</td>\n",
       "      <td>38210</td>\n",
       "      <td>12607</td>\n",
       "      <td>12571</td>\n",
       "      <td>12571</td>\n",
       "      <td>12571</td>\n",
       "      <td>5045</td>\n",
       "      <td>1092</td>\n",
       "      <td>2578</td>\n",
       "      <td>1092</td>\n",
       "      <td>15149</td>\n",
       "      <td>13663</td>\n",
       "    </tr>\n",
       "  </tbody>\n",
       "</table>\n",
       "</div>"
      ],
      "text/plain": [
       "      num_patients  num_original_snv_entries  num_original_snv_mutations  \\\n",
       "TCGA                                                                       \n",
       "BRCA           985                    120988                      107352   \n",
       "OV             436                     75168                       69132   \n",
       "\n",
       "      num_snv_data_simplified_entries  num_snv_data_simplified_mutations  \\\n",
       "TCGA                                                                       \n",
       "BRCA                            60251                              59537   \n",
       "OV                              38486                              38210   \n",
       "\n",
       "      num_elaspic_core_entries  num_elaspic_core_mutations  \\\n",
       "TCGA                                                         \n",
       "BRCA                     19345                       19336   \n",
       "OV                       12607                       12571   \n",
       "\n",
       "      num_elaspic_core_processed_entries  \\\n",
       "TCGA                                       \n",
       "BRCA                               19336   \n",
       "OV                                 12571   \n",
       "\n",
       "      num_elaspic_core_processed_mutations  num_elaspic_interface_entries  \\\n",
       "TCGA                                                                        \n",
       "BRCA                                 19336                           7453   \n",
       "OV                                   12571                           5045   \n",
       "\n",
       "      num_elaspic_interface_mutations  \\\n",
       "TCGA                                    \n",
       "BRCA                             1683   \n",
       "OV                               1092   \n",
       "\n",
       "      num_elaspic_interface_processed_entries  \\\n",
       "TCGA                                            \n",
       "BRCA                                     3985   \n",
       "OV                                       2578   \n",
       "\n",
       "      num_elaspic_interface_processed_mutations  \\\n",
       "TCGA                                              \n",
       "BRCA                                       1683   \n",
       "OV                                         1092   \n",
       "\n",
       "      num_elaspic_core_processed_and_interface_processed_entries  \\\n",
       "TCGA                                                               \n",
       "BRCA                                              23321            \n",
       "OV                                                15149            \n",
       "\n",
       "      num_elaspic_core_processed_and_interface_processed_mutations  \n",
       "TCGA                                                                \n",
       "BRCA                                              21019             \n",
       "OV                                                13663             "
      ]
     },
     "execution_count": 14,
     "metadata": {},
     "output_type": "execute_result"
    }
   ],
   "source": [
    "supplementary_table_02 = merge_tcga_supp_02_datasets(\n",
    "    supp_02_brca.analysis_table,\n",
    "    supp_02_ov.analysis_table,\n",
    ")\n",
    "supplementary_table_02"
   ]
  },
  {
   "cell_type": "code",
   "execution_count": 15,
   "id": "5e95b695-1367-4ed8-806b-60793ce6126f",
   "metadata": {},
   "outputs": [],
   "source": [
    "supplementary_table_02.to_csv(\"Supplementary/Supp_02.csv\")"
   ]
  },
  {
   "cell_type": "code",
   "execution_count": null,
   "id": "250c31f2-a203-48df-899c-323bcad9cd89",
   "metadata": {},
   "outputs": [],
   "source": []
  },
  {
   "cell_type": "code",
   "execution_count": null,
   "id": "ad12ebd3-173b-4e11-9878-3fcdfb44f935",
   "metadata": {},
   "outputs": [],
   "source": []
  },
  {
   "cell_type": "code",
   "execution_count": null,
   "id": "addb0dbc-dab5-4dd8-bd87-348612267253",
   "metadata": {},
   "outputs": [],
   "source": []
  },
  {
   "cell_type": "code",
   "execution_count": null,
   "id": "f34c22d5-53a1-42d8-b845-50ecb7b48e16",
   "metadata": {},
   "outputs": [],
   "source": []
  },
  {
   "cell_type": "code",
   "execution_count": null,
   "id": "18a4de0c-2638-4d26-96b7-819e9be00727",
   "metadata": {},
   "outputs": [],
   "source": []
  },
  {
   "cell_type": "code",
   "execution_count": null,
   "id": "28c9c866-3d07-4d94-9edf-73dec1ed5655",
   "metadata": {},
   "outputs": [],
   "source": []
  },
  {
   "cell_type": "code",
   "execution_count": 5,
   "id": "94d3d0a8-a611-416b-b00a-8f47bd18a3b1",
   "metadata": {},
   "outputs": [
    {
     "data": {
      "text/plain": [
       "['BRCA_elaspic_core_data',\n",
       " 'BRCA_elaspic_core_data_simplified',\n",
       " 'BRCA_elaspic_interface_data',\n",
       " 'BRCA_elaspic_interface_processed_data',\n",
       " 'BRCA_elaspic_core_and_interface_data']"
      ]
     },
     "execution_count": 5,
     "metadata": {},
     "output_type": "execute_result"
    }
   ],
   "source": [
    "list(supp_02.elaspic_data_materials.keys())"
   ]
  },
  {
   "cell_type": "code",
   "execution_count": 6,
   "id": "cfcc478c-5db0-43e1-9abf-5475776ee33c",
   "metadata": {},
   "outputs": [
    {
     "data": {
      "text/plain": [
       "(19336, 3)"
      ]
     },
     "execution_count": 6,
     "metadata": {},
     "output_type": "execute_result"
    }
   ],
   "source": [
    "supp_02.elaspic_data_materials[\"BRCA_elaspic_core_data_simplified\"].shape"
   ]
  },
  {
   "cell_type": "code",
   "execution_count": 7,
   "id": "89105961-130e-48f2-b16b-69f078815a1e",
   "metadata": {},
   "outputs": [
    {
     "data": {
      "text/plain": [
       "(3985, 3)"
      ]
     },
     "execution_count": 7,
     "metadata": {},
     "output_type": "execute_result"
    }
   ],
   "source": [
    "supp_02.elaspic_data_materials[\"BRCA_elaspic_interface_processed_data\"].shape"
   ]
  },
  {
   "cell_type": "code",
   "execution_count": 8,
   "id": "3e464eb3-fa95-4626-a05d-e137ae11a6d1",
   "metadata": {},
   "outputs": [
    {
     "data": {
      "text/plain": [
       "(23321, 3)"
      ]
     },
     "execution_count": 8,
     "metadata": {},
     "output_type": "execute_result"
    }
   ],
   "source": [
    "supp_02.elaspic_data_materials[\"BRCA_elaspic_core_and_interface_data\"].shape"
   ]
  },
  {
   "cell_type": "code",
   "execution_count": 9,
   "id": "b35b4881-7de1-4e74-b5d6-84f2ab2c6022",
   "metadata": {},
   "outputs": [
    {
     "data": {
      "text/html": [
       "<div>\n",
       "<style scoped>\n",
       "    .dataframe tbody tr th:only-of-type {\n",
       "        vertical-align: middle;\n",
       "    }\n",
       "\n",
       "    .dataframe tbody tr th {\n",
       "        vertical-align: top;\n",
       "    }\n",
       "\n",
       "    .dataframe thead th {\n",
       "        text-align: right;\n",
       "    }\n",
       "</style>\n",
       "<table border=\"1\" class=\"dataframe\">\n",
       "  <thead>\n",
       "    <tr style=\"text-align: right;\">\n",
       "      <th></th>\n",
       "      <th>num_patients</th>\n",
       "      <th>num_original_snv_entries</th>\n",
       "      <th>num_snv_data_simplified_entries</th>\n",
       "      <th>num_elaspic_core_data</th>\n",
       "      <th>num_elaspic_core_processed_data</th>\n",
       "      <th>num_elaspic_interface_data</th>\n",
       "      <th>num_elaspic_interface_processed_data</th>\n",
       "      <th>num_elaspic_core_processed_and_interface_processed_data</th>\n",
       "    </tr>\n",
       "  </thead>\n",
       "  <tbody>\n",
       "    <tr>\n",
       "      <th>BRCA</th>\n",
       "      <td>985</td>\n",
       "      <td>120988</td>\n",
       "      <td>60251</td>\n",
       "      <td>19345</td>\n",
       "      <td>19336</td>\n",
       "      <td>7453</td>\n",
       "      <td>3985</td>\n",
       "      <td>23321</td>\n",
       "    </tr>\n",
       "  </tbody>\n",
       "</table>\n",
       "</div>"
      ],
      "text/plain": [
       "      num_patients  num_original_snv_entries  num_snv_data_simplified_entries  \\\n",
       "BRCA           985                    120988                            60251   \n",
       "\n",
       "      num_elaspic_core_data  num_elaspic_core_processed_data  \\\n",
       "BRCA                  19345                            19336   \n",
       "\n",
       "      num_elaspic_interface_data  num_elaspic_interface_processed_data  \\\n",
       "BRCA                        7453                                  3985   \n",
       "\n",
       "      num_elaspic_core_processed_and_interface_processed_data  \n",
       "BRCA                                              23321        "
      ]
     },
     "execution_count": 9,
     "metadata": {},
     "output_type": "execute_result"
    }
   ],
   "source": [
    "supp_02.analysis_table"
   ]
  },
  {
   "cell_type": "code",
   "execution_count": 9,
   "id": "7233f15e-df6c-4e93-a163-35fd48fad577",
   "metadata": {},
   "outputs": [
    {
     "data": {
      "text/html": [
       "<div>\n",
       "<style scoped>\n",
       "    .dataframe tbody tr th:only-of-type {\n",
       "        vertical-align: middle;\n",
       "    }\n",
       "\n",
       "    .dataframe tbody tr th {\n",
       "        vertical-align: top;\n",
       "    }\n",
       "\n",
       "    .dataframe thead th {\n",
       "        text-align: right;\n",
       "    }\n",
       "</style>\n",
       "<table border=\"1\" class=\"dataframe\">\n",
       "  <thead>\n",
       "    <tr style=\"text-align: right;\">\n",
       "      <th></th>\n",
       "      <th>num_patients</th>\n",
       "      <th>num_original_snv_entries</th>\n",
       "      <th>num_original_snv_mutations</th>\n",
       "      <th>num_snv_data_simplified_entries</th>\n",
       "      <th>num_snv_data_simplified_mutations</th>\n",
       "      <th>num_elaspic_core_entries</th>\n",
       "      <th>num_elaspic_core_mutations</th>\n",
       "      <th>num_elaspic_core_processed_entries</th>\n",
       "      <th>num_elaspic_core_processed_mutations</th>\n",
       "      <th>num_elaspic_interface_entries</th>\n",
       "      <th>num_elaspic_interface_mutations</th>\n",
       "      <th>num_elaspic_interface_processed_entries</th>\n",
       "      <th>num_elaspic_interface_processed_mutations</th>\n",
       "      <th>num_elaspic_core_processed_and_interface_processed_entries</th>\n",
       "      <th>num_elaspic_core_processed_and_interface_processed_mutations</th>\n",
       "    </tr>\n",
       "  </thead>\n",
       "  <tbody>\n",
       "    <tr>\n",
       "      <th>BRCA</th>\n",
       "      <td>985</td>\n",
       "      <td>120988</td>\n",
       "      <td>107352</td>\n",
       "      <td>60251</td>\n",
       "      <td>59537</td>\n",
       "      <td>19345</td>\n",
       "      <td>19336</td>\n",
       "      <td>19336</td>\n",
       "      <td>19336</td>\n",
       "      <td>7453</td>\n",
       "      <td>1683</td>\n",
       "      <td>3985</td>\n",
       "      <td>1683</td>\n",
       "      <td>23321</td>\n",
       "      <td>21019</td>\n",
       "    </tr>\n",
       "  </tbody>\n",
       "</table>\n",
       "</div>"
      ],
      "text/plain": [
       "      num_patients  num_original_snv_entries  num_original_snv_mutations  \\\n",
       "BRCA           985                    120988                      107352   \n",
       "\n",
       "      num_snv_data_simplified_entries  num_snv_data_simplified_mutations  \\\n",
       "BRCA                            60251                              59537   \n",
       "\n",
       "      num_elaspic_core_entries  num_elaspic_core_mutations  \\\n",
       "BRCA                     19345                       19336   \n",
       "\n",
       "      num_elaspic_core_processed_entries  \\\n",
       "BRCA                               19336   \n",
       "\n",
       "      num_elaspic_core_processed_mutations  num_elaspic_interface_entries  \\\n",
       "BRCA                                 19336                           7453   \n",
       "\n",
       "      num_elaspic_interface_mutations  \\\n",
       "BRCA                             1683   \n",
       "\n",
       "      num_elaspic_interface_processed_entries  \\\n",
       "BRCA                                     3985   \n",
       "\n",
       "      num_elaspic_interface_processed_mutations  \\\n",
       "BRCA                                       1683   \n",
       "\n",
       "      num_elaspic_core_processed_and_interface_processed_entries  \\\n",
       "BRCA                                              23321            \n",
       "\n",
       "      num_elaspic_core_processed_and_interface_processed_mutations  \n",
       "BRCA                                              21019             "
      ]
     },
     "execution_count": 9,
     "metadata": {},
     "output_type": "execute_result"
    }
   ],
   "source": [
    "supp_02.analysis_table"
   ]
  },
  {
   "cell_type": "code",
   "execution_count": null,
   "id": "36ec0f67-c6d2-4540-ad26-ba74a8beec50",
   "metadata": {},
   "outputs": [],
   "source": []
  },
  {
   "cell_type": "code",
   "execution_count": 29,
   "id": "b33a349b-8789-4fcb-af55-107cbfba82a4",
   "metadata": {},
   "outputs": [
    {
     "data": {
      "text/plain": [
       "['Hugo_Symbol',\n",
       " 'HGVSc',\n",
       " 'HGVSp',\n",
       " 'HGVSp_Short',\n",
       " 'HGNC_ID',\n",
       " 'HIGH_INF_POS',\n",
       " 'HGVS_OFFSET']"
      ]
     },
     "execution_count": 29,
     "metadata": {},
     "output_type": "execute_result"
    }
   ],
   "source": [
    "[col for col in supp_02.snv_data.columns if col.startswith(\"H\")]"
   ]
  },
  {
   "cell_type": "code",
   "execution_count": 36,
   "id": "b85e6c36-8c38-40a6-aeb2-ec1d86f57cfb",
   "metadata": {},
   "outputs": [
    {
     "data": {
      "text/html": [
       "<div>\n",
       "<style scoped>\n",
       "    .dataframe tbody tr th:only-of-type {\n",
       "        vertical-align: middle;\n",
       "    }\n",
       "\n",
       "    .dataframe tbody tr th {\n",
       "        vertical-align: top;\n",
       "    }\n",
       "\n",
       "    .dataframe thead th {\n",
       "        text-align: right;\n",
       "    }\n",
       "</style>\n",
       "<table border=\"1\" class=\"dataframe\">\n",
       "  <thead>\n",
       "    <tr style=\"text-align: right;\">\n",
       "      <th></th>\n",
       "      <th>SWISSPROT</th>\n",
       "      <th>HGVSp_Short</th>\n",
       "    </tr>\n",
       "  </thead>\n",
       "  <tbody>\n",
       "    <tr>\n",
       "      <th>0</th>\n",
       "      <td>Q9UPU5</td>\n",
       "      <td>p.I342V</td>\n",
       "    </tr>\n",
       "    <tr>\n",
       "      <th>1</th>\n",
       "      <td>Q5RHP9</td>\n",
       "      <td>p.E1406K</td>\n",
       "    </tr>\n",
       "    <tr>\n",
       "      <th>2</th>\n",
       "      <td>Q2KJY2</td>\n",
       "      <td>p.S367S</td>\n",
       "    </tr>\n",
       "    <tr>\n",
       "      <th>3</th>\n",
       "      <td>Q70CQ2</td>\n",
       "      <td>p.L3296L</td>\n",
       "    </tr>\n",
       "    <tr>\n",
       "      <th>4</th>\n",
       "      <td>Q9H6X2</td>\n",
       "      <td>p.S505S</td>\n",
       "    </tr>\n",
       "    <tr>\n",
       "      <th>...</th>\n",
       "      <td>...</td>\n",
       "      <td>...</td>\n",
       "    </tr>\n",
       "    <tr>\n",
       "      <th>120983</th>\n",
       "      <td>Q9UH62</td>\n",
       "      <td>p.E310V</td>\n",
       "    </tr>\n",
       "    <tr>\n",
       "      <th>120984</th>\n",
       "      <td>Q5H9M0</td>\n",
       "      <td>p.V610L</td>\n",
       "    </tr>\n",
       "    <tr>\n",
       "      <th>120985</th>\n",
       "      <td>Q8IW52</td>\n",
       "      <td>p.R251R</td>\n",
       "    </tr>\n",
       "    <tr>\n",
       "      <th>120986</th>\n",
       "      <td>P32004</td>\n",
       "      <td>p.V871L</td>\n",
       "    </tr>\n",
       "    <tr>\n",
       "      <th>120987</th>\n",
       "      <td>P98171</td>\n",
       "      <td>p.L158R</td>\n",
       "    </tr>\n",
       "  </tbody>\n",
       "</table>\n",
       "<p>107352 rows × 2 columns</p>\n",
       "</div>"
      ],
      "text/plain": [
       "       SWISSPROT HGVSp_Short\n",
       "0         Q9UPU5     p.I342V\n",
       "1         Q5RHP9    p.E1406K\n",
       "2         Q2KJY2     p.S367S\n",
       "3         Q70CQ2    p.L3296L\n",
       "4         Q9H6X2     p.S505S\n",
       "...          ...         ...\n",
       "120983    Q9UH62     p.E310V\n",
       "120984    Q5H9M0     p.V610L\n",
       "120985    Q8IW52     p.R251R\n",
       "120986    P32004     p.V871L\n",
       "120987    P98171     p.L158R\n",
       "\n",
       "[107352 rows x 2 columns]"
      ]
     },
     "execution_count": 36,
     "metadata": {},
     "output_type": "execute_result"
    }
   ],
   "source": [
    "supp_02.snv_data[~supp_02.snv_data.duplicated(subset=[\"SWISSPROT\", \"HGVSp_Short\"])][[\"SWISSPROT\", \"HGVSp_Short\"]]"
   ]
  },
  {
   "cell_type": "code",
   "execution_count": null,
   "id": "6b108526-5505-4af8-8656-8476aad67834",
   "metadata": {},
   "outputs": [],
   "source": []
  },
  {
   "cell_type": "code",
   "execution_count": null,
   "id": "0fdd9c5b-c231-48fa-92e7-86b965619364",
   "metadata": {},
   "outputs": [],
   "source": []
  },
  {
   "cell_type": "code",
   "execution_count": 16,
   "id": "5e8354f6-d2c3-4e4d-b75c-59c1a6231300",
   "metadata": {},
   "outputs": [
    {
     "data": {
      "text/plain": [
       "dict_keys(['BRCA_elaspic_core_data', 'BRCA_elaspic_core_data_simplified', 'BRCA_elaspic_interface_data', 'BRCA_elaspic_interface_processed_data', 'BRCA_elaspic_core_and_interface_data'])"
      ]
     },
     "execution_count": 16,
     "metadata": {},
     "output_type": "execute_result"
    }
   ],
   "source": [
    "supp_02.elaspic_data_materials.keys()"
   ]
  },
  {
   "cell_type": "code",
   "execution_count": 18,
   "id": "774956b7-50de-485d-a09a-1c585ae763a1",
   "metadata": {},
   "outputs": [
    {
     "data": {
      "text/plain": [
       "9"
      ]
     },
     "execution_count": 18,
     "metadata": {},
     "output_type": "execute_result"
    }
   ],
   "source": [
    "supp_02.elaspic_data_materials[\"BRCA_elaspic_core_data\"][[\"UniProt_ID\", \"Mutation\"]].duplicated().sum()"
   ]
  },
  {
   "cell_type": "code",
   "execution_count": 38,
   "id": "169c21a6-dbd7-4e40-8815-9a54ca6cc684",
   "metadata": {},
   "outputs": [
    {
     "data": {
      "text/plain": [
       "(19336, 103)"
      ]
     },
     "execution_count": 38,
     "metadata": {},
     "output_type": "execute_result"
    }
   ],
   "source": [
    "supp_02.elaspic_data_materials[\"BRCA_elaspic_core_data\"][\n",
    "    ~supp_02.elaspic_data_materials[\"BRCA_elaspic_core_data\"].duplicated(subset=[\"UniProt_ID\", \"Mutation\"])\n",
    "].shape"
   ]
  },
  {
   "cell_type": "code",
   "execution_count": 19,
   "id": "6f093759-23cf-47fc-8353-a164950e0ffd",
   "metadata": {},
   "outputs": [
    {
     "data": {
      "text/plain": [
       "0"
      ]
     },
     "execution_count": 19,
     "metadata": {},
     "output_type": "execute_result"
    }
   ],
   "source": [
    "supp_02.elaspic_data_materials[\"BRCA_elaspic_core_data\"].duplicated().sum()"
   ]
  },
  {
   "cell_type": "code",
   "execution_count": null,
   "id": "782927a3-5441-48d9-8eb0-58ac648a5079",
   "metadata": {},
   "outputs": [],
   "source": []
  },
  {
   "cell_type": "code",
   "execution_count": null,
   "id": "f5520d27-dcbc-4fdf-b95c-ff4be8f2defd",
   "metadata": {},
   "outputs": [],
   "source": []
  },
  {
   "cell_type": "code",
   "execution_count": 22,
   "id": "4c8de9da-4d75-41de-9130-a028db6c995e",
   "metadata": {},
   "outputs": [
    {
     "data": {
      "text/plain": [
       "7453"
      ]
     },
     "execution_count": 22,
     "metadata": {},
     "output_type": "execute_result"
    }
   ],
   "source": [
    "len(supp_02.elaspic_data_materials[\"BRCA_elaspic_interface_data\"][[\"UniProt_ID\", \"Mutation\"]])"
   ]
  },
  {
   "cell_type": "code",
   "execution_count": 20,
   "id": "3f520861-f931-4638-97b1-999a526d3f23",
   "metadata": {},
   "outputs": [
    {
     "data": {
      "text/plain": [
       "5770"
      ]
     },
     "execution_count": 20,
     "metadata": {},
     "output_type": "execute_result"
    }
   ],
   "source": [
    "supp_02.elaspic_data_materials[\"BRCA_elaspic_interface_data\"][[\"UniProt_ID\", \"Mutation\"]].duplicated().sum()"
   ]
  },
  {
   "cell_type": "code",
   "execution_count": 21,
   "id": "960939cd-40b0-4658-9c2f-2610a2000813",
   "metadata": {},
   "outputs": [
    {
     "data": {
      "text/plain": [
       "0"
      ]
     },
     "execution_count": 21,
     "metadata": {},
     "output_type": "execute_result"
    }
   ],
   "source": [
    "supp_02.elaspic_data_materials[\"BRCA_elaspic_interface_data\"].duplicated().sum()"
   ]
  },
  {
   "cell_type": "code",
   "execution_count": null,
   "id": "38bfaf29-6ba2-40f7-9b43-41be275fa428",
   "metadata": {},
   "outputs": [],
   "source": []
  },
  {
   "cell_type": "code",
   "execution_count": 23,
   "id": "17241b4d-cf27-468f-8ba1-cf6495ec03de",
   "metadata": {},
   "outputs": [
    {
     "data": {
      "text/plain": [
       "2302"
      ]
     },
     "execution_count": 23,
     "metadata": {},
     "output_type": "execute_result"
    }
   ],
   "source": [
    "supp_02.elaspic_data_materials[\"BRCA_elaspic_interface_processed_data\"][[\"UniProt_ID\", \"Mutation\"]].duplicated().sum()"
   ]
  },
  {
   "cell_type": "code",
   "execution_count": 24,
   "id": "2d1671b9-5fc7-4bc1-889d-a6fd0cfe0c3d",
   "metadata": {},
   "outputs": [
    {
     "data": {
      "text/plain": [
       "3985"
      ]
     },
     "execution_count": 24,
     "metadata": {},
     "output_type": "execute_result"
    }
   ],
   "source": [
    "len(supp_02.elaspic_data_materials[\"BRCA_elaspic_interface_processed_data\"])"
   ]
  },
  {
   "cell_type": "code",
   "execution_count": null,
   "id": "3023b186-a726-4097-9147-eac79a85b560",
   "metadata": {},
   "outputs": [],
   "source": []
  },
  {
   "cell_type": "code",
   "execution_count": null,
   "id": "a73cce69-417b-4d4d-a8c9-f615c734fcc2",
   "metadata": {},
   "outputs": [],
   "source": []
  },
  {
   "cell_type": "code",
   "execution_count": null,
   "id": "05b30b9d-8466-44fa-9031-6e323664d7e1",
   "metadata": {},
   "outputs": [],
   "source": []
  },
  {
   "cell_type": "code",
   "execution_count": null,
   "id": "98116ceb-0b51-410e-a841-ed1efa88dba3",
   "metadata": {},
   "outputs": [],
   "source": []
  }
 ],
 "metadata": {
  "kernelspec": {
   "display_name": "Predicting-Mutation-Effects",
   "language": "python",
   "name": "predicting-mutation-effects"
  },
  "language_info": {
   "codemirror_mode": {
    "name": "ipython",
    "version": 3
   },
   "file_extension": ".py",
   "mimetype": "text/x-python",
   "name": "python",
   "nbconvert_exporter": "python",
   "pygments_lexer": "ipython3",
   "version": "3.8.10"
  }
 },
 "nbformat": 4,
 "nbformat_minor": 5
}
