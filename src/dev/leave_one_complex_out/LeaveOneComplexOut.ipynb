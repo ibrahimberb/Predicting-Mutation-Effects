{
 "cells": [
  {
   "cell_type": "markdown",
   "metadata": {
    "collapsed": true,
    "pycharm": {
     "name": "#%% md\n"
    }
   },
   "source": [
    "# Leave One Complex Out\n",
    "\n",
    "February 11th, 2022\n"
   ]
  },
  {
   "cell_type": "markdown",
   "source": [
    "Now, we are using only one random forest classifier in leave one out scheme."
   ],
   "metadata": {
    "collapsed": false,
    "pycharm": {
     "name": "#%% md\n"
    }
   }
  },
  {
   "cell_type": "code",
   "execution_count": 1,
   "outputs": [],
   "source": [
    "from utils import (\n",
    "    load_protein_dataframes,\n",
    "    get_top_n_features,\n",
    "    get_randomized_search,\n",
    "    get_train_and_test_data,\n",
    "    get_predictions,\n",
    "    get_scoring_metrics\n",
    ")\n",
    "\n",
    "from tqdm.notebook import tqdm\n",
    "\n",
    "HIDDEN_ENTRIES_FOLDER_PATH = \"hidden-entries_2022-02-11\"\n",
    "\n",
    "TOP_N = 10\n",
    "\n",
    "# Reflect changes in the modules immediately.\n",
    "%load_ext autoreload\n",
    "%autoreload 2"
   ],
   "metadata": {
    "collapsed": false,
    "pycharm": {
     "name": "#%%\n"
    }
   }
  },
  {
   "cell_type": "code",
   "execution_count": 2,
   "outputs": [
    {
     "data": {
      "text/plain": "164"
     },
     "execution_count": 2,
     "metadata": {},
     "output_type": "execute_result"
    }
   ],
   "source": [
    "protein_dataframes = load_protein_dataframes(HIDDEN_ENTRIES_FOLDER_PATH)\n",
    "len(protein_dataframes)"
   ],
   "metadata": {
    "collapsed": false,
    "pycharm": {
     "name": "#%%\n"
    }
   }
  },
  {
   "cell_type": "code",
   "execution_count": 3,
   "outputs": [
    {
     "data": {
      "text/plain": "   Mutation_Effect_Label UniProt_ID Mutation Interactor_UniProt_ID  \\\n0                      1     P40692    V213M              P54278-2   \n1                      1     P40692     F80V                P54278   \n2                      1     P40692     F80V              P54278-3   \n3                      1     P40692     C77R                P54278   \n4                      1     P40692     C77R              P54278-3   \n\n   Template_sequence_identity  Alignment_score  \\\n0                      0.3333         0.288192   \n1                      0.3333         0.288192   \n2                      0.3333         0.288192   \n3                      0.3333         0.288192   \n4                      0.3333         0.288192   \n\n   Interactor_template_sequence_identity  Interactor_alignment_score  \\\n0                                 0.9505                    0.943632   \n1                                 0.9507                    0.943866   \n2                                 0.9507                    0.943866   \n3                                 0.9507                    0.943866   \n4                                 0.9507                    0.943866   \n\n   Final_ddG  ProtBert_score  ...  number_of_residues_mut  \\\n0    1.08167        0.045422  ...                   408.0   \n1    1.10465        0.881422  ...                   409.0   \n2    1.10465        0.881422  ...                   409.0   \n3    1.76213        0.982242  ...                   409.0   \n4    1.76213        0.982242  ...                   409.0   \n\n   IntraclashesEnergy1_wt  IntraclashesEnergy1_mut  IntraclashesEnergy2_wt  \\\n0                 284.603                  285.042                 39.5219   \n1                 400.704                  400.864                 50.5247   \n2                 400.704                  400.864                 50.5247   \n3                 399.477                  399.615                 49.6587   \n4                 399.477                  399.615                 49.6587   \n\n   IntraclashesEnergy2_mut  Interface_hydrophobic_area  \\\n0                  39.5219                     263.325   \n1                  50.5247                       0.000   \n2                  50.5247                       0.000   \n3                  49.6587                       0.000   \n4                  49.6587                       0.000   \n\n   Interface_hydrophilic_area  Interface_total_area  \\\n0                      218.09                481.41   \n1                        0.00                  0.00   \n2                        0.00                  0.00   \n3                        0.00                  0.00   \n4                        0.00                  0.00   \n\n   Interface_contact_distance_wt  Interface_contact_distance_mut  \n0                        4.63532                         4.63532  \n1                        3.29591                         4.01617  \n2                        3.29591                         4.01617  \n3                        3.39677                         3.57761  \n4                        3.39677                         3.57761  \n\n[5 rows x 62 columns]",
      "text/html": "<div>\n<style scoped>\n    .dataframe tbody tr th:only-of-type {\n        vertical-align: middle;\n    }\n\n    .dataframe tbody tr th {\n        vertical-align: top;\n    }\n\n    .dataframe thead th {\n        text-align: right;\n    }\n</style>\n<table border=\"1\" class=\"dataframe\">\n  <thead>\n    <tr style=\"text-align: right;\">\n      <th></th>\n      <th>Mutation_Effect_Label</th>\n      <th>UniProt_ID</th>\n      <th>Mutation</th>\n      <th>Interactor_UniProt_ID</th>\n      <th>Template_sequence_identity</th>\n      <th>Alignment_score</th>\n      <th>Interactor_template_sequence_identity</th>\n      <th>Interactor_alignment_score</th>\n      <th>Final_ddG</th>\n      <th>ProtBert_score</th>\n      <th>...</th>\n      <th>number_of_residues_mut</th>\n      <th>IntraclashesEnergy1_wt</th>\n      <th>IntraclashesEnergy1_mut</th>\n      <th>IntraclashesEnergy2_wt</th>\n      <th>IntraclashesEnergy2_mut</th>\n      <th>Interface_hydrophobic_area</th>\n      <th>Interface_hydrophilic_area</th>\n      <th>Interface_total_area</th>\n      <th>Interface_contact_distance_wt</th>\n      <th>Interface_contact_distance_mut</th>\n    </tr>\n  </thead>\n  <tbody>\n    <tr>\n      <th>0</th>\n      <td>1</td>\n      <td>P40692</td>\n      <td>V213M</td>\n      <td>P54278-2</td>\n      <td>0.3333</td>\n      <td>0.288192</td>\n      <td>0.9505</td>\n      <td>0.943632</td>\n      <td>1.08167</td>\n      <td>0.045422</td>\n      <td>...</td>\n      <td>408.0</td>\n      <td>284.603</td>\n      <td>285.042</td>\n      <td>39.5219</td>\n      <td>39.5219</td>\n      <td>263.325</td>\n      <td>218.09</td>\n      <td>481.41</td>\n      <td>4.63532</td>\n      <td>4.63532</td>\n    </tr>\n    <tr>\n      <th>1</th>\n      <td>1</td>\n      <td>P40692</td>\n      <td>F80V</td>\n      <td>P54278</td>\n      <td>0.3333</td>\n      <td>0.288192</td>\n      <td>0.9507</td>\n      <td>0.943866</td>\n      <td>1.10465</td>\n      <td>0.881422</td>\n      <td>...</td>\n      <td>409.0</td>\n      <td>400.704</td>\n      <td>400.864</td>\n      <td>50.5247</td>\n      <td>50.5247</td>\n      <td>0.000</td>\n      <td>0.00</td>\n      <td>0.00</td>\n      <td>3.29591</td>\n      <td>4.01617</td>\n    </tr>\n    <tr>\n      <th>2</th>\n      <td>1</td>\n      <td>P40692</td>\n      <td>F80V</td>\n      <td>P54278-3</td>\n      <td>0.3333</td>\n      <td>0.288192</td>\n      <td>0.9507</td>\n      <td>0.943866</td>\n      <td>1.10465</td>\n      <td>0.881422</td>\n      <td>...</td>\n      <td>409.0</td>\n      <td>400.704</td>\n      <td>400.864</td>\n      <td>50.5247</td>\n      <td>50.5247</td>\n      <td>0.000</td>\n      <td>0.00</td>\n      <td>0.00</td>\n      <td>3.29591</td>\n      <td>4.01617</td>\n    </tr>\n    <tr>\n      <th>3</th>\n      <td>1</td>\n      <td>P40692</td>\n      <td>C77R</td>\n      <td>P54278</td>\n      <td>0.3333</td>\n      <td>0.288192</td>\n      <td>0.9507</td>\n      <td>0.943866</td>\n      <td>1.76213</td>\n      <td>0.982242</td>\n      <td>...</td>\n      <td>409.0</td>\n      <td>399.477</td>\n      <td>399.615</td>\n      <td>49.6587</td>\n      <td>49.6587</td>\n      <td>0.000</td>\n      <td>0.00</td>\n      <td>0.00</td>\n      <td>3.39677</td>\n      <td>3.57761</td>\n    </tr>\n    <tr>\n      <th>4</th>\n      <td>1</td>\n      <td>P40692</td>\n      <td>C77R</td>\n      <td>P54278-3</td>\n      <td>0.3333</td>\n      <td>0.288192</td>\n      <td>0.9507</td>\n      <td>0.943866</td>\n      <td>1.76213</td>\n      <td>0.982242</td>\n      <td>...</td>\n      <td>409.0</td>\n      <td>399.477</td>\n      <td>399.615</td>\n      <td>49.6587</td>\n      <td>49.6587</td>\n      <td>0.000</td>\n      <td>0.00</td>\n      <td>0.00</td>\n      <td>3.39677</td>\n      <td>3.57761</td>\n    </tr>\n  </tbody>\n</table>\n<p>5 rows × 62 columns</p>\n</div>"
     },
     "execution_count": 3,
     "metadata": {},
     "output_type": "execute_result"
    }
   ],
   "source": [
    "protein_dataframes[56]"
   ],
   "metadata": {
    "collapsed": false,
    "pycharm": {
     "name": "#%%\n"
    }
   }
  },
  {
   "cell_type": "code",
   "execution_count": 4,
   "outputs": [
    {
     "data": {
      "text/plain": "58"
     },
     "execution_count": 4,
     "metadata": {},
     "output_type": "execute_result"
    }
   ],
   "source": [
    "features = list(protein_dataframes[56].columns[4:])\n",
    "len(features)"
   ],
   "metadata": {
    "collapsed": false,
    "pycharm": {
     "name": "#%%\n"
    }
   }
  },
  {
   "cell_type": "code",
   "execution_count": 5,
   "outputs": [
    {
     "data": {
      "text/plain": "  0%|          | 0/164 [00:00<?, ?it/s]",
      "application/vnd.jupyter.widget-view+json": {
       "version_major": 2,
       "version_minor": 0,
       "model_id": "7705f46cbdd947949ec73b410a8991b5"
      }
     },
     "metadata": {},
     "output_type": "display_data"
    },
    {
     "name": "stdout",
     "output_type": "stream",
     "text": [
      "Training RF model with 739 entries.\n",
      "Predicting 1 entries.\n",
      "selected_features=['EL2_score', 'Provean_score', 'Model/DOPE_score', 'Final_ddG', 'entropy_mainchain_wt', 'Matrix_score', 'Solvent_accessibility_mut', 'entropy_mainchain_mut', 'ProtBert_score', 'ProteinSolver_score']\n",
      "=======================================\n",
      "Training RF model with 739 entries.\n",
      "Predicting 1 entries.\n",
      "selected_features=['EL2_score', 'Provean_score', 'Model/DOPE_score', 'Final_ddG', 'entropy_mainchain_wt', 'Matrix_score', 'Solvent_accessibility_mut', 'ProtBert_score', 'entropy_mainchain_mut', 'sidechain_hbond_mut']\n",
      "=======================================\n",
      "Training RF model with 736 entries.\n",
      "Predicting 4 entries.\n",
      "selected_features=['Provean_score', 'EL2_score', 'Model/DOPE_score', 'Matrix_score', 'Final_ddG', 'Solvent_accessibility_mut', 'entropy_mainchain_wt', 'entropy_mainchain_mut', 'Interactor_template_sequence_identity', 'ProtBert_score']\n",
      "=======================================\n",
      "Training RF model with 738 entries.\n",
      "Predicting 2 entries.\n",
      "selected_features=['Provean_score', 'EL2_score', 'Model/DOPE_score', 'Matrix_score', 'Final_ddG', 'entropy_mainchain_wt', 'entropy_mainchain_mut', 'ProtBert_score', 'Interactor_template_sequence_identity', 'Solvent_accessibility_mut']\n",
      "=======================================\n",
      "Training RF model with 738 entries.\n",
      "Predicting 2 entries.\n",
      "selected_features=['Provean_score', 'EL2_score', 'Model/DOPE_score', 'Matrix_score', 'Final_ddG', 'entropy_mainchain_wt', 'entropy_mainchain_mut', 'ProtBert_score', 'Solvent_accessibility_mut', 'Interactor_template_sequence_identity']\n",
      "=======================================\n",
      "Training RF model with 739 entries.\n",
      "Predicting 1 entries.\n",
      "selected_features=['EL2_score', 'Provean_score', 'Model/DOPE_score', 'Final_ddG', 'Matrix_score', 'entropy_mainchain_wt', 'Solvent_accessibility_mut', 'ProtBert_score', 'entropy_mainchain_mut', 'ProteinSolver_score']\n",
      "=======================================\n",
      "Training RF model with 736 entries.\n",
      "Predicting 4 entries.\n",
      "selected_features=['EL2_score', 'Provean_score', 'Model/DOPE_score', 'Matrix_score', 'Final_ddG', 'Solvent_accessibility_mut', 'entropy_mainchain_wt', 'entropy_mainchain_mut', 'ProtBert_score', 'Interactor_alignment_score']\n",
      "=======================================\n",
      "Training RF model with 736 entries.\n",
      "Predicting 4 entries.\n",
      "selected_features=['EL2_score', 'Provean_score', 'Model/DOPE_score', 'Matrix_score', 'Final_ddG', 'entropy_mainchain_wt', 'Solvent_accessibility_mut', 'entropy_mainchain_mut', 'ProtBert_score', 'Interactor_template_sequence_identity']\n",
      "=======================================\n",
      "Training RF model with 736 entries.\n",
      "Predicting 4 entries.\n",
      "selected_features=['Provean_score', 'EL2_score', 'Model/DOPE_score', 'Matrix_score', 'Final_ddG', 'entropy_mainchain_wt', 'entropy_mainchain_mut', 'Solvent_accessibility_mut', 'ProtBert_score', 'Interactor_template_sequence_identity']\n",
      "=======================================\n",
      "Training RF model with 735 entries.\n",
      "Predicting 5 entries.\n",
      "selected_features=['Provean_score', 'EL2_score', 'Model/DOPE_score', 'Matrix_score', 'entropy_mainchain_wt', 'Final_ddG', 'ProtBert_score', 'Solvent_accessibility_mut', 'entropy_mainchain_mut', 'Interactor_template_sequence_identity']\n",
      "=======================================\n",
      "Training RF model with 737 entries.\n",
      "Predicting 3 entries.\n",
      "selected_features=['Provean_score', 'EL2_score', 'Final_ddG', 'Model/DOPE_score', 'Matrix_score', 'entropy_mainchain_wt', 'Solvent_accessibility_mut', 'entropy_mainchain_mut', 'ProtBert_score', 'Interactor_alignment_score']\n",
      "=======================================\n",
      "Training RF model with 714 entries.\n",
      "Predicting 26 entries.\n",
      "selected_features=['EL2_score', 'Provean_score', 'Model/DOPE_score', 'Matrix_score', 'Final_ddG', 'ProtBert_score', 'Interactor_template_sequence_identity', 'entropy_mainchain_wt', 'entropy_mainchain_mut', 'Solvent_accessibility_mut']\n",
      "=======================================\n",
      "Training RF model with 739 entries.\n",
      "Predicting 1 entries.\n",
      "selected_features=['EL2_score', 'Provean_score', 'Model/DOPE_score', 'Final_ddG', 'Matrix_score', 'entropy_mainchain_wt', 'Solvent_accessibility_mut', 'entropy_mainchain_mut', 'ProtBert_score', 'Interactor_template_sequence_identity']\n",
      "=======================================\n",
      "Training RF model with 738 entries.\n",
      "Predicting 2 entries.\n",
      "selected_features=['Provean_score', 'EL2_score', 'Final_ddG', 'Matrix_score', 'Model/DOPE_score', 'entropy_mainchain_wt', 'Solvent_accessibility_mut', 'ProtBert_score', 'entropy_mainchain_mut', 'Interactor_template_sequence_identity']\n",
      "=======================================\n",
      "Training RF model with 738 entries.\n",
      "Predicting 2 entries.\n",
      "selected_features=['Provean_score', 'EL2_score', 'Matrix_score', 'Model/DOPE_score', 'Final_ddG', 'entropy_mainchain_wt', 'Solvent_accessibility_mut', 'ProtBert_score', 'entropy_mainchain_mut', 'Interactor_template_sequence_identity']\n",
      "=======================================\n",
      "Training RF model with 734 entries.\n",
      "Predicting 6 entries.\n",
      "selected_features=['EL2_score', 'Provean_score', 'Model/DOPE_score', 'Final_ddG', 'Matrix_score', 'entropy_mainchain_mut', 'entropy_mainchain_wt', 'Solvent_accessibility_mut', 'ProtBert_score', 'Solvent_accessibility_wt']\n",
      "=======================================\n",
      "Training RF model with 739 entries.\n",
      "Predicting 1 entries.\n",
      "selected_features=['EL2_score', 'Provean_score', 'Model/DOPE_score', 'Final_ddG', 'entropy_mainchain_wt', 'Matrix_score', 'Solvent_accessibility_mut', 'entropy_mainchain_mut', 'ProtBert_score', 'ProteinSolver_score']\n",
      "=======================================\n",
      "Training RF model with 735 entries.\n",
      "Predicting 5 entries.\n",
      "selected_features=['EL2_score', 'Provean_score', 'Model/DOPE_score', 'Final_ddG', 'entropy_mainchain_wt', 'Matrix_score', 'ProtBert_score', 'Solvent_accessibility_mut', 'entropy_mainchain_mut', 'ProteinSolver_score']\n",
      "=======================================\n",
      "Training RF model with 736 entries.\n",
      "Predicting 4 entries.\n",
      "selected_features=['Provean_score', 'EL2_score', 'Model/DOPE_score', 'Matrix_score', 'Final_ddG', 'Solvent_accessibility_mut', 'entropy_mainchain_wt', 'entropy_mainchain_mut', 'ProtBert_score', 'Interactor_template_sequence_identity']\n",
      "=======================================\n",
      "Training RF model with 738 entries.\n",
      "Predicting 2 entries.\n",
      "selected_features=['Provean_score', 'EL2_score', 'Matrix_score', 'Model/DOPE_score', 'Final_ddG', 'entropy_mainchain_wt', 'Solvent_accessibility_mut', 'entropy_mainchain_mut', 'ProtBert_score', 'sidechain_hbond_mut']\n",
      "=======================================\n",
      "Training RF model with 739 entries.\n",
      "Predicting 1 entries.\n",
      "selected_features=['Provean_score', 'EL2_score', 'Model/DOPE_score', 'Final_ddG', 'Matrix_score', 'entropy_mainchain_wt', 'Solvent_accessibility_mut', 'entropy_mainchain_mut', 'ProtBert_score', 'Interactor_template_sequence_identity']\n",
      "=======================================\n",
      "Training RF model with 739 entries.\n",
      "Predicting 1 entries.\n",
      "selected_features=['EL2_score', 'Provean_score', 'Model/DOPE_score', 'Final_ddG', 'entropy_mainchain_wt', 'Matrix_score', 'Solvent_accessibility_mut', 'entropy_mainchain_mut', 'ProtBert_score', 'Interactor_template_sequence_identity']\n",
      "=======================================\n",
      "Training RF model with 732 entries.\n",
      "Predicting 8 entries.\n",
      "selected_features=['Provean_score', 'EL2_score', 'Model/DOPE_score', 'Matrix_score', 'Final_ddG', 'entropy_mainchain_wt', 'entropy_mainchain_mut', 'Solvent_accessibility_mut', 'Interactor_alignment_score', 'Solvent_accessibility_wt']\n",
      "=======================================\n",
      "Training RF model with 739 entries.\n",
      "Predicting 1 entries.\n",
      "selected_features=['EL2_score', 'Provean_score', 'Model/DOPE_score', 'entropy_mainchain_wt', 'Final_ddG', 'Matrix_score', 'Solvent_accessibility_mut', 'entropy_mainchain_mut', 'ProtBert_score', 'Interactor_template_sequence_identity']\n",
      "=======================================\n",
      "Training RF model with 738 entries.\n",
      "Predicting 2 entries.\n",
      "selected_features=['EL2_score', 'Provean_score', 'Final_ddG', 'Matrix_score', 'Model/DOPE_score', 'entropy_mainchain_wt', 'ProtBert_score', 'Solvent_accessibility_mut', 'Interactor_template_sequence_identity', 'entropy_mainchain_mut']\n",
      "=======================================\n",
      "Training RF model with 726 entries.\n",
      "Predicting 14 entries.\n",
      "selected_features=['EL2_score', 'Provean_score', 'Model/DOPE_score', 'Matrix_score', 'Final_ddG', 'entropy_mainchain_mut', 'entropy_mainchain_wt', 'Solvent_accessibility_mut', 'ProtBert_score', 'Interactor_template_sequence_identity']\n",
      "=======================================\n",
      "Training RF model with 737 entries.\n",
      "Predicting 3 entries.\n",
      "selected_features=['EL2_score', 'Provean_score', 'Model/DOPE_score', 'Final_ddG', 'Matrix_score', 'entropy_mainchain_wt', 'entropy_mainchain_mut', 'ProtBert_score', 'Interactor_template_sequence_identity', 'Solvent_accessibility_mut']\n",
      "=======================================\n",
      "Training RF model with 731 entries.\n",
      "Predicting 9 entries.\n",
      "selected_features=['EL2_score', 'Provean_score', 'Model/DOPE_score', 'Matrix_score', 'Final_ddG', 'entropy_mainchain_wt', 'Solvent_accessibility_mut', 'ProtBert_score', 'entropy_mainchain_mut', 'sidechain_hbond_mut']\n",
      "=======================================\n",
      "Training RF model with 739 entries.\n",
      "Predicting 1 entries.\n",
      "selected_features=['EL2_score', 'Provean_score', 'Final_ddG', 'Model/DOPE_score', 'Matrix_score', 'entropy_mainchain_wt', 'entropy_mainchain_mut', 'Solvent_accessibility_mut', 'ProtBert_score', 'Interactor_template_sequence_identity']\n",
      "=======================================\n",
      "Training RF model with 736 entries.\n",
      "Predicting 4 entries.\n",
      "selected_features=['Provean_score', 'EL2_score', 'Model/DOPE_score', 'Matrix_score', 'Final_ddG', 'entropy_mainchain_wt', 'ProtBert_score', 'Solvent_accessibility_mut', 'entropy_mainchain_mut', 'Interactor_template_sequence_identity']\n",
      "=======================================\n",
      "Training RF model with 737 entries.\n",
      "Predicting 3 entries.\n",
      "selected_features=['Provean_score', 'EL2_score', 'Model/DOPE_score', 'Matrix_score', 'Final_ddG', 'entropy_mainchain_wt', 'Solvent_accessibility_mut', 'ProtBert_score', 'entropy_mainchain_mut', 'ProteinSolver_score']\n",
      "=======================================\n",
      "Training RF model with 739 entries.\n",
      "Predicting 1 entries.\n",
      "selected_features=['Provean_score', 'EL2_score', 'Model/DOPE_score', 'Final_ddG', 'entropy_mainchain_wt', 'Matrix_score', 'entropy_mainchain_mut', 'Solvent_accessibility_mut', 'ProtBert_score', 'ProteinSolver_score']\n",
      "=======================================\n",
      "Training RF model with 737 entries.\n",
      "Predicting 3 entries.\n",
      "selected_features=['EL2_score', 'Provean_score', 'Model/DOPE_score', 'Matrix_score', 'Final_ddG', 'entropy_mainchain_wt', 'ProtBert_score', 'entropy_mainchain_mut', 'Solvent_accessibility_mut', 'Interactor_template_sequence_identity']\n",
      "=======================================\n",
      "Training RF model with 734 entries.\n",
      "Predicting 6 entries.\n",
      "selected_features=['EL2_score', 'Provean_score', 'Model/DOPE_score', 'entropy_mainchain_wt', 'Final_ddG', 'Matrix_score', 'entropy_mainchain_mut', 'ProtBert_score', 'Interactor_template_sequence_identity', 'Solvent_accessibility_wt']\n",
      "=======================================\n",
      "Training RF model with 737 entries.\n",
      "Predicting 3 entries.\n",
      "selected_features=['Provean_score', 'EL2_score', 'Model/DOPE_score', 'Matrix_score', 'Final_ddG', 'entropy_mainchain_wt', 'ProtBert_score', 'entropy_mainchain_mut', 'Solvent_accessibility_mut', 'Interactor_template_sequence_identity']\n",
      "=======================================\n",
      "Training RF model with 733 entries.\n",
      "Predicting 7 entries.\n",
      "selected_features=['Provean_score', 'EL2_score', 'Model/DOPE_score', 'Matrix_score', 'Final_ddG', 'entropy_mainchain_wt', 'ProtBert_score', 'entropy_mainchain_mut', 'Solvent_accessibility_mut', 'Interactor_template_sequence_identity']\n",
      "=======================================\n",
      "Training RF model with 733 entries.\n",
      "Predicting 7 entries.\n",
      "selected_features=['EL2_score', 'Provean_score', 'Model/DOPE_score', 'Final_ddG', 'Matrix_score', 'entropy_mainchain_wt', 'entropy_mainchain_mut', 'ProtBert_score', 'Solvent_accessibility_mut', 'Interactor_template_sequence_identity']\n",
      "=======================================\n",
      "Training RF model with 738 entries.\n",
      "Predicting 2 entries.\n",
      "selected_features=['Provean_score', 'EL2_score', 'Final_ddG', 'Model/DOPE_score', 'Matrix_score', 'entropy_mainchain_wt', 'Solvent_accessibility_mut', 'entropy_mainchain_mut', 'ProtBert_score', 'sidechain_hbond_mut']\n",
      "=======================================\n",
      "Training RF model with 738 entries.\n",
      "Predicting 2 entries.\n",
      "selected_features=['Provean_score', 'EL2_score', 'Final_ddG', 'Model/DOPE_score', 'Matrix_score', 'entropy_mainchain_wt', 'Solvent_accessibility_mut', 'entropy_mainchain_mut', 'ProtBert_score', 'Interactor_template_sequence_identity']\n",
      "=======================================\n",
      "Training RF model with 738 entries.\n",
      "Predicting 2 entries.\n",
      "selected_features=['EL2_score', 'Provean_score', 'Model/DOPE_score', 'Final_ddG', 'Matrix_score', 'entropy_mainchain_wt', 'Solvent_accessibility_mut', 'ProtBert_score', 'entropy_mainchain_mut', 'sidechain_hbond_mut']\n",
      "=======================================\n",
      "Training RF model with 739 entries.\n",
      "Predicting 1 entries.\n",
      "selected_features=['Provean_score', 'EL2_score', 'Model/DOPE_score', 'entropy_mainchain_wt', 'Matrix_score', 'entropy_mainchain_mut', 'Final_ddG', 'Solvent_accessibility_mut', 'ProtBert_score', 'Interactor_template_sequence_identity']\n",
      "=======================================\n",
      "Training RF model with 738 entries.\n",
      "Predicting 2 entries.\n",
      "selected_features=['EL2_score', 'Provean_score', 'Model/DOPE_score', 'Final_ddG', 'Matrix_score', 'entropy_mainchain_wt', 'entropy_mainchain_mut', 'Solvent_accessibility_mut', 'ProtBert_score', 'Interactor_template_sequence_identity']\n",
      "=======================================\n",
      "Training RF model with 733 entries.\n",
      "Predicting 7 entries.\n",
      "selected_features=['EL2_score', 'Provean_score', 'Model/DOPE_score', 'Final_ddG', 'Matrix_score', 'entropy_mainchain_mut', 'ProtBert_score', 'entropy_mainchain_wt', 'Solvent_accessibility_mut', 'Interactor_template_sequence_identity']\n",
      "=======================================\n",
      "Training RF model with 733 entries.\n",
      "Predicting 7 entries.\n",
      "selected_features=['EL2_score', 'Provean_score', 'Model/DOPE_score', 'Matrix_score', 'Final_ddG', 'entropy_mainchain_wt', 'entropy_mainchain_mut', 'Solvent_accessibility_mut', 'ProtBert_score', 'Solvent_accessibility_wt']\n",
      "=======================================\n",
      "Training RF model with 726 entries.\n",
      "Predicting 14 entries.\n",
      "selected_features=['EL2_score', 'Provean_score', 'Model/DOPE_score', 'Matrix_score', 'Final_ddG', 'entropy_mainchain_wt', 'ProtBert_score', 'entropy_mainchain_mut', 'Solvent_accessibility_mut', 'Solvent_accessibility_wt']\n",
      "=======================================\n",
      "Training RF model with 737 entries.\n",
      "Predicting 3 entries.\n",
      "selected_features=['Provean_score', 'EL2_score', 'Final_ddG', 'Matrix_score', 'Model/DOPE_score', 'entropy_mainchain_wt', 'entropy_mainchain_mut', 'ProtBert_score', 'Solvent_accessibility_mut', 'Interactor_alignment_score']\n",
      "=======================================\n",
      "Training RF model with 738 entries.\n",
      "Predicting 2 entries.\n",
      "selected_features=['EL2_score', 'Provean_score', 'Final_ddG', 'Model/DOPE_score', 'Matrix_score', 'entropy_mainchain_wt', 'entropy_mainchain_mut', 'Solvent_accessibility_mut', 'ProtBert_score', 'sidechain_hbond_mut']\n",
      "=======================================\n",
      "Training RF model with 738 entries.\n",
      "Predicting 2 entries.\n",
      "selected_features=['EL2_score', 'Provean_score', 'Final_ddG', 'Model/DOPE_score', 'Matrix_score', 'entropy_mainchain_wt', 'Solvent_accessibility_mut', 'sidechain_hbond_mut', 'ProtBert_score', 'entropy_mainchain_mut']\n",
      "=======================================\n",
      "Training RF model with 739 entries.\n",
      "Predicting 1 entries.\n",
      "selected_features=['EL2_score', 'Provean_score', 'Model/DOPE_score', 'entropy_mainchain_wt', 'Matrix_score', 'Final_ddG', 'entropy_mainchain_mut', 'ProtBert_score', 'Solvent_accessibility_mut', 'Interactor_template_sequence_identity']\n",
      "=======================================\n",
      "Training RF model with 737 entries.\n",
      "Predicting 3 entries.\n",
      "selected_features=['EL2_score', 'Provean_score', 'Final_ddG', 'Model/DOPE_score', 'Matrix_score', 'entropy_mainchain_wt', 'ProtBert_score', 'entropy_mainchain_mut', 'Solvent_accessibility_mut', 'Interactor_alignment_score']\n",
      "=======================================\n",
      "Training RF model with 734 entries.\n",
      "Predicting 6 entries.\n",
      "selected_features=['Provean_score', 'EL2_score', 'Final_ddG', 'Model/DOPE_score', 'Matrix_score', 'entropy_mainchain_wt', 'entropy_mainchain_mut', 'ProtBert_score', 'sidechain_hbond_mut', 'Solvent_accessibility_mut']\n",
      "=======================================\n",
      "Training RF model with 736 entries.\n",
      "Predicting 4 entries.\n",
      "selected_features=['Provean_score', 'EL2_score', 'Model/DOPE_score', 'Final_ddG', 'Matrix_score', 'entropy_mainchain_wt', 'entropy_mainchain_mut', 'ProtBert_score', 'Interactor_template_sequence_identity', 'Solvent_accessibility_mut']\n",
      "=======================================\n",
      "Training RF model with 739 entries.\n",
      "Predicting 1 entries.\n",
      "selected_features=['EL2_score', 'Provean_score', 'Model/DOPE_score', 'Final_ddG', 'entropy_mainchain_wt', 'Matrix_score', 'entropy_mainchain_mut', 'ProtBert_score', 'Solvent_accessibility_mut', 'Interactor_template_sequence_identity']\n",
      "=======================================\n",
      "Training RF model with 736 entries.\n",
      "Predicting 4 entries.\n",
      "selected_features=['Provean_score', 'EL2_score', 'Model/DOPE_score', 'Matrix_score', 'entropy_mainchain_wt', 'Final_ddG', 'entropy_mainchain_mut', 'ProtBert_score', 'Solvent_accessibility_mut', 'Interactor_template_sequence_identity']\n",
      "=======================================\n",
      "Training RF model with 733 entries.\n",
      "Predicting 7 entries.\n",
      "selected_features=['EL2_score', 'Provean_score', 'Model/DOPE_score', 'Final_ddG', 'Matrix_score', 'Solvent_accessibility_mut', 'entropy_mainchain_wt', 'ProtBert_score', 'entropy_mainchain_mut', 'Template_sequence_identity']\n",
      "=======================================\n",
      "Training RF model with 738 entries.\n",
      "Predicting 2 entries.\n",
      "selected_features=['EL2_score', 'Provean_score', 'Model/DOPE_score', 'Matrix_score', 'Final_ddG', 'entropy_mainchain_wt', 'Solvent_accessibility_mut', 'ProtBert_score', 'sidechain_hbond_mut', 'Interactor_template_sequence_identity']\n",
      "=======================================\n",
      "Training RF model with 735 entries.\n",
      "Predicting 5 entries.\n",
      "selected_features=['EL2_score', 'Provean_score', 'Final_ddG', 'Model/DOPE_score', 'entropy_mainchain_wt', 'Matrix_score', 'entropy_mainchain_mut', 'Solvent_accessibility_mut', 'ProtBert_score', 'Interactor_template_sequence_identity']\n",
      "=======================================\n",
      "Training RF model with 737 entries.\n",
      "Predicting 3 entries.\n",
      "selected_features=['EL2_score', 'Provean_score', 'Model/DOPE_score', 'Final_ddG', 'Matrix_score', 'entropy_mainchain_wt', 'Solvent_accessibility_mut', 'ProtBert_score', 'entropy_mainchain_mut', 'Interactor_alignment_score']\n",
      "=======================================\n",
      "Training RF model with 738 entries.\n",
      "Predicting 2 entries.\n",
      "selected_features=['EL2_score', 'Provean_score', 'Model/DOPE_score', 'Final_ddG', 'Matrix_score', 'entropy_mainchain_wt', 'Solvent_accessibility_mut', 'entropy_mainchain_mut', 'ProtBert_score', 'sidechain_hbond_mut']\n",
      "=======================================\n",
      "Training RF model with 734 entries.\n",
      "Predicting 6 entries.\n",
      "selected_features=['EL2_score', 'Provean_score', 'Final_ddG', 'Matrix_score', 'Model/DOPE_score', 'entropy_mainchain_wt', 'Solvent_accessibility_mut', 'ProtBert_score', 'entropy_mainchain_mut', 'Alignment_score']\n",
      "=======================================\n",
      "Training RF model with 737 entries.\n",
      "Predicting 3 entries.\n",
      "selected_features=['Provean_score', 'EL2_score', 'Model/DOPE_score', 'Final_ddG', 'Matrix_score', 'entropy_mainchain_wt', 'ProtBert_score', 'Solvent_accessibility_mut', 'entropy_mainchain_mut', 'ProteinSolver_score']\n",
      "=======================================\n",
      "Training RF model with 739 entries.\n",
      "Predicting 1 entries.\n",
      "selected_features=['Provean_score', 'EL2_score', 'Final_ddG', 'Model/DOPE_score', 'Matrix_score', 'entropy_mainchain_wt', 'Solvent_accessibility_mut', 'ProtBert_score', 'Interactor_template_sequence_identity', 'entropy_mainchain_mut']\n",
      "=======================================\n",
      "Training RF model with 738 entries.\n",
      "Predicting 2 entries.\n",
      "selected_features=['EL2_score', 'Provean_score', 'Model/DOPE_score', 'Final_ddG', 'Matrix_score', 'entropy_mainchain_wt', 'Solvent_accessibility_mut', 'entropy_mainchain_mut', 'ProtBert_score', 'Interactor_template_sequence_identity']\n",
      "=======================================\n",
      "Training RF model with 732 entries.\n",
      "Predicting 8 entries.\n",
      "selected_features=['EL2_score', 'Provean_score', 'Model/DOPE_score', 'Matrix_score', 'Final_ddG', 'entropy_mainchain_wt', 'Solvent_accessibility_mut', 'entropy_mainchain_mut', 'Interactor_template_sequence_identity', 'ProtBert_score']\n",
      "=======================================\n",
      "Training RF model with 728 entries.\n",
      "Predicting 12 entries.\n",
      "selected_features=['EL2_score', 'Provean_score', 'Model/DOPE_score', 'Matrix_score', 'Final_ddG', 'entropy_mainchain_wt', 'Solvent_accessibility_mut', 'ProtBert_score', 'ProteinSolver_score', 'Interactor_template_sequence_identity']\n",
      "=======================================\n",
      "Training RF model with 739 entries.\n",
      "Predicting 1 entries.\n",
      "selected_features=['EL2_score', 'Provean_score', 'Model/DOPE_score', 'Final_ddG', 'Matrix_score', 'entropy_mainchain_wt', 'ProtBert_score', 'Interactor_template_sequence_identity', 'Solvent_accessibility_mut', 'entropy_mainchain_mut']\n",
      "=======================================\n",
      "Training RF model with 739 entries.\n",
      "Predicting 1 entries.\n",
      "selected_features=['EL2_score', 'Provean_score', 'Model/DOPE_score', 'Final_ddG', 'Matrix_score', 'entropy_mainchain_wt', 'ProtBert_score', 'Solvent_accessibility_mut', 'Interactor_template_sequence_identity', 'entropy_mainchain_mut']\n",
      "=======================================\n",
      "Training RF model with 738 entries.\n",
      "Predicting 2 entries.\n",
      "selected_features=['EL2_score', 'Provean_score', 'Model/DOPE_score', 'Matrix_score', 'Final_ddG', 'entropy_mainchain_wt', 'Solvent_accessibility_mut', 'ProtBert_score', 'entropy_mainchain_mut', 'Interactor_alignment_score']\n",
      "=======================================\n",
      "Training RF model with 739 entries.\n",
      "Predicting 1 entries.\n",
      "selected_features=['EL2_score', 'Provean_score', 'Model/DOPE_score', 'Final_ddG', 'Matrix_score', 'entropy_mainchain_wt', 'ProtBert_score', 'Solvent_accessibility_mut', 'Interactor_template_sequence_identity', 'entropy_mainchain_mut']\n",
      "=======================================\n",
      "Training RF model with 738 entries.\n",
      "Predicting 2 entries.\n",
      "selected_features=['Provean_score', 'EL2_score', 'Model/DOPE_score', 'Matrix_score', 'Final_ddG', 'entropy_mainchain_wt', 'entropy_mainchain_mut', 'Solvent_accessibility_mut', 'ProtBert_score', 'sidechain_hbond_mut']\n",
      "=======================================\n",
      "Training RF model with 736 entries.\n",
      "Predicting 4 entries.\n",
      "selected_features=['Provean_score', 'EL2_score', 'Model/DOPE_score', 'Matrix_score', 'Final_ddG', 'entropy_mainchain_wt', 'entropy_mainchain_mut', 'Interactor_template_sequence_identity', 'ProtBert_score', 'Solvent_accessibility_mut']\n",
      "=======================================\n",
      "Training RF model with 726 entries.\n",
      "Predicting 14 entries.\n",
      "selected_features=['EL2_score', 'Provean_score', 'Model/DOPE_score', 'Final_ddG', 'Matrix_score', 'entropy_mainchain_wt', 'entropy_mainchain_mut', 'ProtBert_score', 'Solvent_accessibility_mut', 'Interactor_template_sequence_identity']\n",
      "=======================================\n",
      "Training RF model with 736 entries.\n",
      "Predicting 4 entries.\n",
      "selected_features=['Provean_score', 'EL2_score', 'Model/DOPE_score', 'Matrix_score', 'Final_ddG', 'entropy_mainchain_wt', 'Solvent_accessibility_mut', 'entropy_mainchain_mut', 'ProtBert_score', 'Interactor_template_sequence_identity']\n",
      "=======================================\n",
      "Training RF model with 739 entries.\n",
      "Predicting 1 entries.\n",
      "selected_features=['EL2_score', 'Provean_score', 'Model/DOPE_score', 'Final_ddG', 'Matrix_score', 'entropy_mainchain_wt', 'Solvent_accessibility_mut', 'ProtBert_score', 'entropy_mainchain_mut', 'Interactor_template_sequence_identity']\n",
      "=======================================\n",
      "Training RF model with 732 entries.\n",
      "Predicting 8 entries.\n",
      "selected_features=['Provean_score', 'EL2_score', 'Model/DOPE_score', 'Matrix_score', 'Final_ddG', 'entropy_mainchain_wt', 'Solvent_accessibility_mut', 'entropy_mainchain_mut', 'Solvent_accessibility_wt', 'ProteinSolver_score']\n",
      "=======================================\n",
      "Training RF model with 727 entries.\n",
      "Predicting 13 entries.\n",
      "selected_features=['Provean_score', 'EL2_score', 'Model/DOPE_score', 'Matrix_score', 'Final_ddG', 'entropy_mainchain_wt', 'Solvent_accessibility_mut', 'ProtBert_score', 'entropy_mainchain_mut', 'ProteinSolver_score']\n",
      "=======================================\n",
      "Training RF model with 731 entries.\n",
      "Predicting 9 entries.\n",
      "selected_features=['Provean_score', 'EL2_score', 'Model/DOPE_score', 'Matrix_score', 'Final_ddG', 'entropy_mainchain_wt', 'Solvent_accessibility_mut', 'entropy_mainchain_mut', 'ProtBert_score', 'Interactor_alignment_score']\n",
      "=======================================\n",
      "Training RF model with 738 entries.\n",
      "Predicting 2 entries.\n",
      "selected_features=['EL2_score', 'Provean_score', 'Model/DOPE_score', 'Matrix_score', 'Final_ddG', 'entropy_mainchain_wt', 'Solvent_accessibility_mut', 'sidechain_hbond_mut', 'ProtBert_score', 'entropy_mainchain_mut']\n",
      "=======================================\n",
      "Training RF model with 738 entries.\n",
      "Predicting 2 entries.\n",
      "selected_features=['EL2_score', 'Provean_score', 'Model/DOPE_score', 'Matrix_score', 'Final_ddG', 'entropy_mainchain_wt', 'Solvent_accessibility_mut', 'sidechain_hbond_mut', 'entropy_mainchain_mut', 'ProtBert_score']\n",
      "=======================================\n",
      "Training RF model with 736 entries.\n",
      "Predicting 4 entries.\n",
      "selected_features=['EL2_score', 'Provean_score', 'Model/DOPE_score', 'Matrix_score', 'Final_ddG', 'entropy_mainchain_wt', 'entropy_mainchain_mut', 'Solvent_accessibility_mut', 'ProtBert_score', 'backbone_clash_mut']\n",
      "=======================================\n",
      "Training RF model with 736 entries.\n",
      "Predicting 4 entries.\n",
      "selected_features=['EL2_score', 'Provean_score', 'Model/DOPE_score', 'Final_ddG', 'Matrix_score', 'entropy_mainchain_wt', 'entropy_mainchain_mut', 'Solvent_accessibility_mut', 'ProtBert_score', 'sidechain_hbond_mut']\n",
      "=======================================\n",
      "Training RF model with 733 entries.\n",
      "Predicting 7 entries.\n",
      "selected_features=['EL2_score', 'Provean_score', 'Model/DOPE_score', 'Matrix_score', 'Final_ddG', 'entropy_mainchain_wt', 'Solvent_accessibility_mut', 'ProtBert_score', 'entropy_mainchain_mut', 'Interactor_template_sequence_identity']\n",
      "=======================================\n",
      "Training RF model with 739 entries.\n",
      "Predicting 1 entries.\n",
      "selected_features=['EL2_score', 'Provean_score', 'Model/DOPE_score', 'Final_ddG', 'entropy_mainchain_wt', 'Matrix_score', 'Solvent_accessibility_mut', 'ProtBert_score', 'sidechain_hbond_mut', 'entropy_mainchain_mut']\n",
      "=======================================\n",
      "Training RF model with 739 entries.\n",
      "Predicting 1 entries.\n",
      "selected_features=['EL2_score', 'Provean_score', 'Model/DOPE_score', 'Final_ddG', 'Matrix_score', 'entropy_mainchain_wt', 'Solvent_accessibility_mut', 'ProtBert_score', 'entropy_mainchain_mut', 'sidechain_hbond_mut']\n",
      "=======================================\n",
      "Training RF model with 728 entries.\n",
      "Predicting 12 entries.\n",
      "selected_features=['EL2_score', 'Provean_score', 'Final_ddG', 'Model/DOPE_score', 'entropy_mainchain_wt', 'Matrix_score', 'Solvent_accessibility_mut', 'entropy_mainchain_mut', 'Interactor_alignment_score', 'ProtBert_score']\n",
      "=======================================\n",
      "Training RF model with 729 entries.\n",
      "Predicting 11 entries.\n",
      "selected_features=['Provean_score', 'EL2_score', 'Model/DOPE_score', 'Final_ddG', 'entropy_mainchain_wt', 'Matrix_score', 'Solvent_accessibility_mut', 'entropy_mainchain_mut', 'ProtBert_score', 'Interactor_alignment_score']\n",
      "=======================================\n",
      "Training RF model with 739 entries.\n",
      "Predicting 1 entries.\n",
      "selected_features=['EL2_score', 'Provean_score', 'Model/DOPE_score', 'Final_ddG', 'Matrix_score', 'entropy_mainchain_wt', 'Solvent_accessibility_mut', 'entropy_mainchain_mut', 'sidechain_hbond_mut', 'ProtBert_score']\n",
      "=======================================\n",
      "Training RF model with 737 entries.\n",
      "Predicting 3 entries.\n",
      "selected_features=['EL2_score', 'Provean_score', 'Model/DOPE_score', 'Final_ddG', 'Matrix_score', 'Solvent_accessibility_mut', 'entropy_mainchain_mut', 'entropy_mainchain_wt', 'ProtBert_score', 'sidechain_hbond_mut']\n",
      "=======================================\n",
      "Training RF model with 733 entries.\n",
      "Predicting 7 entries.\n",
      "selected_features=['EL2_score', 'Provean_score', 'Model/DOPE_score', 'Final_ddG', 'Matrix_score', 'entropy_mainchain_wt', 'Solvent_accessibility_mut', 'ProtBert_score', 'entropy_mainchain_mut', 'Solvent_accessibility_wt']\n",
      "=======================================\n",
      "Training RF model with 736 entries.\n",
      "Predicting 4 entries.\n",
      "selected_features=['EL2_score', 'Provean_score', 'Model/DOPE_score', 'Final_ddG', 'Matrix_score', 'entropy_mainchain_wt', 'Solvent_accessibility_mut', 'ProtBert_score', 'entropy_mainchain_mut', 'Interactor_template_sequence_identity']\n",
      "=======================================\n",
      "Training RF model with 739 entries.\n",
      "Predicting 1 entries.\n",
      "selected_features=['EL2_score', 'Provean_score', 'Model/DOPE_score', 'Final_ddG', 'Matrix_score', 'entropy_mainchain_wt', 'Solvent_accessibility_mut', 'ProtBert_score', 'sidechain_hbond_mut', 'entropy_mainchain_mut']\n",
      "=======================================\n",
      "Training RF model with 738 entries.\n",
      "Predicting 2 entries.\n",
      "selected_features=['Provean_score', 'EL2_score', 'Model/DOPE_score', 'Matrix_score', 'Final_ddG', 'entropy_mainchain_wt', 'Solvent_accessibility_mut', 'ProtBert_score', 'entropy_mainchain_mut', 'Interactor_template_sequence_identity']\n",
      "=======================================\n",
      "Training RF model with 725 entries.\n",
      "Predicting 15 entries.\n",
      "selected_features=['Provean_score', 'EL2_score', 'Model/DOPE_score', 'Matrix_score', 'Final_ddG', 'entropy_mainchain_wt', 'Solvent_accessibility_mut', 'ProtBert_score', 'entropy_mainchain_mut', 'Interactor_template_sequence_identity']\n",
      "=======================================\n",
      "Training RF model with 733 entries.\n",
      "Predicting 7 entries.\n",
      "selected_features=['Provean_score', 'EL2_score', 'Model/DOPE_score', 'Matrix_score', 'Final_ddG', 'entropy_mainchain_wt', 'ProtBert_score', 'Solvent_accessibility_mut', 'entropy_mainchain_mut', 'Interactor_alignment_score']\n",
      "=======================================\n",
      "Training RF model with 724 entries.\n",
      "Predicting 16 entries.\n",
      "selected_features=['EL2_score', 'Provean_score', 'Model/DOPE_score', 'Final_ddG', 'Matrix_score', 'entropy_mainchain_wt', 'entropy_mainchain_mut', 'Solvent_accessibility_mut', 'Interactor_template_sequence_identity', 'ProtBert_score']\n",
      "=======================================\n",
      "Training RF model with 737 entries.\n",
      "Predicting 3 entries.\n",
      "selected_features=['EL2_score', 'Provean_score', 'Model/DOPE_score', 'Final_ddG', 'Matrix_score', 'entropy_mainchain_wt', 'entropy_mainchain_mut', 'Solvent_accessibility_mut', 'sidechain_hbond_mut', 'ProtBert_score']\n",
      "=======================================\n",
      "Training RF model with 738 entries.\n",
      "Predicting 2 entries.\n",
      "selected_features=['Provean_score', 'EL2_score', 'Model/DOPE_score', 'Final_ddG', 'Matrix_score', 'entropy_mainchain_wt', 'ProtBert_score', 'entropy_mainchain_mut', 'Solvent_accessibility_mut', 'Interactor_template_sequence_identity']\n",
      "=======================================\n",
      "Training RF model with 732 entries.\n",
      "Predicting 8 entries.\n",
      "selected_features=['EL2_score', 'Provean_score', 'Model/DOPE_score', 'Matrix_score', 'Final_ddG', 'entropy_mainchain_wt', 'ProtBert_score', 'Solvent_accessibility_mut', 'entropy_mainchain_mut', 'Interactor_alignment_score']\n",
      "=======================================\n",
      "Training RF model with 735 entries.\n",
      "Predicting 5 entries.\n",
      "selected_features=['EL2_score', 'Provean_score', 'Model/DOPE_score', 'Final_ddG', 'Matrix_score', 'entropy_mainchain_wt', 'Solvent_accessibility_mut', 'entropy_mainchain_mut', 'sidechain_hbond_mut', 'ProtBert_score']\n",
      "=======================================\n",
      "Training RF model with 728 entries.\n",
      "Predicting 12 entries.\n",
      "selected_features=['Provean_score', 'EL2_score', 'Model/DOPE_score', 'Matrix_score', 'entropy_mainchain_wt', 'Final_ddG', 'Interactor_alignment_score', 'Solvent_accessibility_mut', 'entropy_mainchain_mut', 'ProteinSolver_score']\n",
      "=======================================\n",
      "Training RF model with 734 entries.\n",
      "Predicting 6 entries.\n",
      "selected_features=['EL2_score', 'Provean_score', 'Model/DOPE_score', 'Matrix_score', 'Final_ddG', 'entropy_mainchain_wt', 'sidechain_hbond_mut', 'entropy_mainchain_mut', 'Solvent_accessibility_mut', 'ProtBert_score']\n",
      "=======================================\n",
      "Training RF model with 738 entries.\n",
      "Predicting 2 entries.\n",
      "selected_features=['EL2_score', 'Provean_score', 'Model/DOPE_score', 'Matrix_score', 'Final_ddG', 'entropy_mainchain_wt', 'Solvent_accessibility_mut', 'entropy_mainchain_mut', 'sidechain_hbond_mut', 'Interactor_alignment_score']\n",
      "=======================================\n",
      "Training RF model with 737 entries.\n",
      "Predicting 3 entries.\n",
      "selected_features=['EL2_score', 'Provean_score', 'Model/DOPE_score', 'Matrix_score', 'Final_ddG', 'entropy_mainchain_wt', 'ProtBert_score', 'sidechain_hbond_mut', 'entropy_mainchain_mut', 'Solvent_accessibility_mut']\n",
      "=======================================\n",
      "Training RF model with 738 entries.\n",
      "Predicting 2 entries.\n",
      "selected_features=['Provean_score', 'EL2_score', 'Model/DOPE_score', 'Matrix_score', 'Final_ddG', 'entropy_mainchain_wt', 'Solvent_accessibility_mut', 'entropy_mainchain_mut', 'ProtBert_score', 'Interactor_template_sequence_identity']\n",
      "=======================================\n",
      "Training RF model with 736 entries.\n",
      "Predicting 4 entries.\n",
      "selected_features=['Provean_score', 'EL2_score', 'Model/DOPE_score', 'Matrix_score', 'Final_ddG', 'entropy_mainchain_wt', 'Solvent_accessibility_mut', 'ProtBert_score', 'entropy_mainchain_mut', 'sidechain_hbond_mut']\n",
      "=======================================\n",
      "Training RF model with 724 entries.\n",
      "Predicting 16 entries.\n",
      "selected_features=['Provean_score', 'EL2_score', 'Model/DOPE_score', 'Final_ddG', 'Matrix_score', 'entropy_mainchain_wt', 'ProtBert_score', 'Solvent_accessibility_mut', 'sidechain_hbond_mut', 'Interactor_template_sequence_identity']\n",
      "=======================================\n",
      "Training RF model with 739 entries.\n",
      "Predicting 1 entries.\n",
      "selected_features=['Provean_score', 'EL2_score', 'Model/DOPE_score', 'Matrix_score', 'Final_ddG', 'entropy_mainchain_wt', 'ProtBert_score', 'entropy_mainchain_mut', 'sidechain_hbond_mut', 'Solvent_accessibility_mut']\n",
      "=======================================\n",
      "Training RF model with 736 entries.\n",
      "Predicting 4 entries.\n",
      "selected_features=['Provean_score', 'EL2_score', 'Matrix_score', 'Model/DOPE_score', 'Final_ddG', 'entropy_mainchain_wt', 'ProtBert_score', 'Solvent_accessibility_mut', 'entropy_mainchain_mut', 'Interactor_template_sequence_identity']\n",
      "=======================================\n",
      "Training RF model with 736 entries.\n",
      "Predicting 4 entries.\n",
      "selected_features=['Provean_score', 'EL2_score', 'Model/DOPE_score', 'Matrix_score', 'Final_ddG', 'entropy_mainchain_wt', 'entropy_mainchain_mut', 'ProteinSolver_score', 'sidechain_hbond_mut', 'Interactor_template_sequence_identity']\n",
      "=======================================\n",
      "Training RF model with 725 entries.\n",
      "Predicting 15 entries.\n",
      "selected_features=['EL2_score', 'Provean_score', 'Model/DOPE_score', 'Matrix_score', 'Final_ddG', 'entropy_mainchain_wt', 'Solvent_accessibility_mut', 'entropy_mainchain_mut', 'ProtBert_score', 'Interactor_alignment_score']\n",
      "=======================================\n",
      "Training RF model with 736 entries.\n",
      "Predicting 4 entries.\n",
      "selected_features=['EL2_score', 'Provean_score', 'Model/DOPE_score', 'Matrix_score', 'Final_ddG', 'entropy_mainchain_wt', 'entropy_mainchain_mut', 'Solvent_accessibility_mut', 'Solvent_accessibility_wt', 'ProtBert_score']\n",
      "=======================================\n",
      "Training RF model with 737 entries.\n",
      "Predicting 3 entries.\n",
      "selected_features=['EL2_score', 'Provean_score', 'Model/DOPE_score', 'Final_ddG', 'Matrix_score', 'entropy_mainchain_wt', 'ProtBert_score', 'Solvent_accessibility_mut', 'entropy_mainchain_mut', 'sidechain_hbond_mut']\n",
      "=======================================\n",
      "Training RF model with 738 entries.\n",
      "Predicting 2 entries.\n",
      "selected_features=['EL2_score', 'Provean_score', 'Model/DOPE_score', 'Matrix_score', 'Final_ddG', 'entropy_mainchain_wt', 'Solvent_accessibility_mut', 'entropy_mainchain_mut', 'ProtBert_score', 'Interactor_template_sequence_identity']\n",
      "=======================================\n",
      "Training RF model with 739 entries.\n",
      "Predicting 1 entries.\n",
      "selected_features=['EL2_score', 'Provean_score', 'Model/DOPE_score', 'Matrix_score', 'Final_ddG', 'entropy_mainchain_wt', 'entropy_mainchain_mut', 'ProtBert_score', 'Solvent_accessibility_mut', 'Interactor_template_sequence_identity']\n",
      "=======================================\n",
      "Training RF model with 733 entries.\n",
      "Predicting 7 entries.\n",
      "selected_features=['EL2_score', 'Provean_score', 'Model/DOPE_score', 'Matrix_score', 'Final_ddG', 'ProtBert_score', 'entropy_mainchain_wt', 'Solvent_accessibility_mut', 'entropy_mainchain_mut', 'Interactor_alignment_score']\n",
      "=======================================\n",
      "Training RF model with 739 entries.\n",
      "Predicting 1 entries.\n",
      "selected_features=['EL2_score', 'Provean_score', 'Model/DOPE_score', 'Matrix_score', 'Final_ddG', 'entropy_mainchain_wt', 'entropy_mainchain_mut', 'Solvent_accessibility_mut', 'ProtBert_score', 'sidechain_hbond_mut']\n",
      "=======================================\n",
      "Training RF model with 734 entries.\n",
      "Predicting 6 entries.\n",
      "selected_features=['Provean_score', 'EL2_score', 'Model/DOPE_score', 'Matrix_score', 'Final_ddG', 'entropy_mainchain_wt', 'entropy_mainchain_mut', 'sidechain_hbond_mut', 'ProtBert_score', 'Solvent_accessibility_mut']\n",
      "=======================================\n",
      "Training RF model with 739 entries.\n",
      "Predicting 1 entries.\n",
      "selected_features=['EL2_score', 'Provean_score', 'Model/DOPE_score', 'Matrix_score', 'Final_ddG', 'entropy_mainchain_wt', 'entropy_mainchain_mut', 'Solvent_accessibility_mut', 'ProtBert_score', 'ProteinSolver_score']\n",
      "=======================================\n",
      "Training RF model with 732 entries.\n",
      "Predicting 8 entries.\n",
      "selected_features=['EL2_score', 'Provean_score', 'Model/DOPE_score', 'Final_ddG', 'Matrix_score', 'entropy_mainchain_wt', 'ProtBert_score', 'entropy_mainchain_mut', 'backbone_clash_mut', 'Interactor_template_sequence_identity']\n",
      "=======================================\n",
      "Training RF model with 738 entries.\n",
      "Predicting 2 entries.\n",
      "selected_features=['EL2_score', 'Provean_score', 'Model/DOPE_score', 'Matrix_score', 'Final_ddG', 'entropy_mainchain_wt', 'Solvent_accessibility_mut', 'entropy_mainchain_mut', 'ProtBert_score', 'Interactor_template_sequence_identity']\n",
      "=======================================\n",
      "Training RF model with 738 entries.\n",
      "Predicting 2 entries.\n",
      "selected_features=['Provean_score', 'EL2_score', 'Model/DOPE_score', 'Matrix_score', 'Final_ddG', 'entropy_mainchain_wt', 'Solvent_accessibility_mut', 'ProtBert_score', 'sidechain_hbond_mut', 'Interactor_template_sequence_identity']\n",
      "=======================================\n",
      "Training RF model with 731 entries.\n",
      "Predicting 9 entries.\n",
      "selected_features=['EL2_score', 'Provean_score', 'Model/DOPE_score', 'Final_ddG', 'Matrix_score', 'entropy_mainchain_wt', 'entropy_mainchain_mut', 'ProtBert_score', 'Solvent_accessibility_mut', 'Interactor_template_sequence_identity']\n",
      "=======================================\n",
      "Training RF model with 738 entries.\n",
      "Predicting 2 entries.\n",
      "selected_features=['EL2_score', 'Provean_score', 'Model/DOPE_score', 'Matrix_score', 'Final_ddG', 'entropy_mainchain_wt', 'ProtBert_score', 'entropy_mainchain_mut', 'Interactor_template_sequence_identity', 'Solvent_accessibility_mut']\n",
      "=======================================\n",
      "Training RF model with 738 entries.\n",
      "Predicting 2 entries.\n",
      "selected_features=['EL2_score', 'Provean_score', 'Model/DOPE_score', 'Matrix_score', 'Final_ddG', 'entropy_mainchain_wt', 'entropy_mainchain_mut', 'ProtBert_score', 'Interactor_template_sequence_identity', 'Solvent_accessibility_mut']\n",
      "=======================================\n",
      "Training RF model with 738 entries.\n",
      "Predicting 2 entries.\n",
      "selected_features=['EL2_score', 'Provean_score', 'Model/DOPE_score', 'Matrix_score', 'Final_ddG', 'entropy_mainchain_wt', 'ProtBert_score', 'entropy_mainchain_mut', 'Interactor_template_sequence_identity', 'Solvent_accessibility_mut']\n",
      "=======================================\n",
      "Training RF model with 736 entries.\n",
      "Predicting 4 entries.\n",
      "selected_features=['EL2_score', 'Provean_score', 'Model/DOPE_score', 'Matrix_score', 'Final_ddG', 'entropy_mainchain_wt', 'entropy_mainchain_mut', 'ProtBert_score', 'sidechain_hbond_mut', 'Interactor_template_sequence_identity']\n",
      "=======================================\n",
      "Training RF model with 739 entries.\n",
      "Predicting 1 entries.\n",
      "selected_features=['EL2_score', 'Provean_score', 'Model/DOPE_score', 'Final_ddG', 'Matrix_score', 'entropy_mainchain_wt', 'entropy_mainchain_mut', 'Solvent_accessibility_mut', 'ProtBert_score', 'Interactor_template_sequence_identity']\n",
      "=======================================\n",
      "Training RF model with 732 entries.\n",
      "Predicting 8 entries.\n",
      "selected_features=['EL2_score', 'Provean_score', 'Model/DOPE_score', 'Final_ddG', 'Matrix_score', 'entropy_mainchain_wt', 'ProtBert_score', 'Solvent_accessibility_mut', 'entropy_mainchain_mut', 'Interactor_template_sequence_identity']\n",
      "=======================================\n",
      "Training RF model with 739 entries.\n",
      "Predicting 1 entries.\n",
      "selected_features=['EL2_score', 'Provean_score', 'Final_ddG', 'Model/DOPE_score', 'Matrix_score', 'entropy_mainchain_wt', 'Solvent_accessibility_mut', 'ProtBert_score', 'entropy_mainchain_mut', 'sidechain_hbond_mut']\n",
      "=======================================\n",
      "Training RF model with 737 entries.\n",
      "Predicting 3 entries.\n",
      "selected_features=['EL2_score', 'Provean_score', 'Model/DOPE_score', 'Final_ddG', 'Matrix_score', 'entropy_mainchain_wt', 'Solvent_accessibility_mut', 'entropy_mainchain_mut', 'sidechain_hbond_mut', 'Interactor_template_sequence_identity']\n",
      "=======================================\n",
      "Training RF model with 739 entries.\n",
      "Predicting 1 entries.\n",
      "selected_features=['Provean_score', 'EL2_score', 'Model/DOPE_score', 'Final_ddG', 'Matrix_score', 'entropy_mainchain_wt', 'ProtBert_score', 'sidechain_hbond_mut', 'Solvent_accessibility_mut', 'entropy_mainchain_mut']\n",
      "=======================================\n",
      "Training RF model with 736 entries.\n",
      "Predicting 4 entries.\n",
      "selected_features=['Provean_score', 'EL2_score', 'Model/DOPE_score', 'Final_ddG', 'Matrix_score', 'entropy_mainchain_wt', 'Solvent_accessibility_mut', 'ProtBert_score', 'entropy_mainchain_mut', 'Interactor_template_sequence_identity']\n",
      "=======================================\n",
      "Training RF model with 739 entries.\n",
      "Predicting 1 entries.\n",
      "selected_features=['Provean_score', 'EL2_score', 'Model/DOPE_score', 'Final_ddG', 'Matrix_score', 'entropy_mainchain_wt', 'ProtBert_score', 'sidechain_hbond_mut', 'entropy_mainchain_mut', 'Solvent_accessibility_mut']\n",
      "=======================================\n",
      "Training RF model with 739 entries.\n",
      "Predicting 1 entries.\n",
      "selected_features=['Provean_score', 'EL2_score', 'Model/DOPE_score', 'Final_ddG', 'Matrix_score', 'entropy_mainchain_wt', 'ProtBert_score', 'Solvent_accessibility_mut', 'sidechain_hbond_mut', 'entropy_mainchain_mut']\n",
      "=======================================\n",
      "Training RF model with 720 entries.\n",
      "Predicting 20 entries.\n",
      "selected_features=['EL2_score', 'Provean_score', 'Model/DOPE_score', 'Matrix_score', 'Final_ddG', 'entropy_mainchain_wt', 'entropy_mainchain_mut', 'Solvent_accessibility_mut', 'solvation_polar_wt', 'ProtBert_score']\n",
      "=======================================\n",
      "Training RF model with 738 entries.\n",
      "Predicting 2 entries.\n",
      "selected_features=['EL2_score', 'Provean_score', 'Model/DOPE_score', 'Final_ddG', 'Matrix_score', 'entropy_mainchain_wt', 'Solvent_accessibility_mut', 'entropy_mainchain_mut', 'ProtBert_score', 'Interactor_template_sequence_identity']\n",
      "=======================================\n",
      "Training RF model with 738 entries.\n",
      "Predicting 2 entries.\n",
      "selected_features=['EL2_score', 'Provean_score', 'Model/DOPE_score', 'Final_ddG', 'Matrix_score', 'entropy_mainchain_wt', 'entropy_mainchain_mut', 'Solvent_accessibility_mut', 'Interactor_template_sequence_identity', 'ProtBert_score']\n",
      "=======================================\n",
      "Training RF model with 731 entries.\n",
      "Predicting 9 entries.\n",
      "selected_features=['EL2_score', 'Provean_score', 'Model/DOPE_score', 'Final_ddG', 'Matrix_score', 'entropy_mainchain_wt', 'Solvent_accessibility_mut', 'ProtBert_score', 'Interactor_template_sequence_identity', 'sidechain_hbond_mut']\n",
      "=======================================\n",
      "Training RF model with 739 entries.\n",
      "Predicting 1 entries.\n",
      "selected_features=['EL2_score', 'Provean_score', 'Final_ddG', 'Model/DOPE_score', 'Matrix_score', 'entropy_mainchain_wt', 'Solvent_accessibility_mut', 'ProtBert_score', 'entropy_mainchain_mut', 'sidechain_hbond_mut']\n",
      "=======================================\n",
      "Training RF model with 732 entries.\n",
      "Predicting 8 entries.\n",
      "selected_features=['EL2_score', 'Provean_score', 'Model/DOPE_score', 'Final_ddG', 'Matrix_score', 'entropy_mainchain_wt', 'Solvent_accessibility_mut', 'entropy_mainchain_mut', 'ProtBert_score', 'Interactor_template_sequence_identity']\n",
      "=======================================\n",
      "Training RF model with 724 entries.\n",
      "Predicting 16 entries.\n",
      "selected_features=['EL2_score', 'Provean_score', 'Model/DOPE_score', 'Final_ddG', 'Matrix_score', 'entropy_mainchain_wt', 'ProtBert_score', 'Solvent_accessibility_mut', 'entropy_mainchain_mut', 'ProteinSolver_score']\n",
      "=======================================\n",
      "Training RF model with 738 entries.\n",
      "Predicting 2 entries.\n",
      "selected_features=['EL2_score', 'Provean_score', 'Model/DOPE_score', 'Final_ddG', 'Matrix_score', 'entropy_mainchain_wt', 'entropy_mainchain_mut', 'Solvent_accessibility_mut', 'ProtBert_score', 'Interactor_template_sequence_identity']\n",
      "=======================================\n",
      "Training RF model with 739 entries.\n",
      "Predicting 1 entries.\n",
      "selected_features=['EL2_score', 'Provean_score', 'Model/DOPE_score', 'Matrix_score', 'Final_ddG', 'entropy_mainchain_wt', 'entropy_mainchain_mut', 'ProtBert_score', 'Solvent_accessibility_mut', 'Interactor_alignment_score']\n",
      "=======================================\n",
      "Training RF model with 736 entries.\n",
      "Predicting 4 entries.\n",
      "selected_features=['EL2_score', 'Provean_score', 'Model/DOPE_score', 'Matrix_score', 'Final_ddG', 'entropy_mainchain_wt', 'ProtBert_score', 'entropy_mainchain_mut', 'ProteinSolver_score', 'Solvent_accessibility_mut']\n",
      "=======================================\n",
      "Training RF model with 736 entries.\n",
      "Predicting 4 entries.\n",
      "selected_features=['Provean_score', 'EL2_score', 'Model/DOPE_score', 'Matrix_score', 'Final_ddG', 'entropy_mainchain_wt', 'entropy_mainchain_mut', 'ProtBert_score', 'Solvent_accessibility_mut', 'Interactor_alignment_score']\n",
      "=======================================\n",
      "Training RF model with 739 entries.\n",
      "Predicting 1 entries.\n",
      "selected_features=['EL2_score', 'Provean_score', 'Model/DOPE_score', 'Matrix_score', 'Final_ddG', 'entropy_mainchain_wt', 'ProtBert_score', 'Solvent_accessibility_mut', 'entropy_mainchain_mut', 'sidechain_hbond_mut']\n",
      "=======================================\n",
      "Training RF model with 738 entries.\n",
      "Predicting 2 entries.\n",
      "selected_features=['EL2_score', 'Provean_score', 'Model/DOPE_score', 'Final_ddG', 'Matrix_score', 'entropy_mainchain_wt', 'Solvent_accessibility_mut', 'ProtBert_score', 'entropy_mainchain_mut', 'Interactor_template_sequence_identity']\n",
      "=======================================\n",
      "Training RF model with 732 entries.\n",
      "Predicting 8 entries.\n",
      "selected_features=['EL2_score', 'Provean_score', 'Model/DOPE_score', 'Final_ddG', 'Matrix_score', 'entropy_mainchain_wt', 'entropy_mainchain_mut', 'Solvent_accessibility_mut', 'ProtBert_score', 'Interactor_alignment_score']\n",
      "=======================================\n",
      "Training RF model with 737 entries.\n",
      "Predicting 3 entries.\n",
      "selected_features=['Provean_score', 'EL2_score', 'Model/DOPE_score', 'Matrix_score', 'Final_ddG', 'entropy_mainchain_wt', 'entropy_mainchain_mut', 'Solvent_accessibility_mut', 'ProtBert_score', 'ProteinSolver_score']\n",
      "=======================================\n",
      "Training RF model with 738 entries.\n",
      "Predicting 2 entries.\n",
      "selected_features=['EL2_score', 'Provean_score', 'Model/DOPE_score', 'Final_ddG', 'Matrix_score', 'entropy_mainchain_wt', 'ProtBert_score', 'Solvent_accessibility_mut', 'entropy_mainchain_mut', 'Interactor_template_sequence_identity']\n",
      "=======================================\n",
      "Training RF model with 739 entries.\n",
      "Predicting 1 entries.\n",
      "selected_features=['EL2_score', 'Provean_score', 'Model/DOPE_score', 'Final_ddG', 'Matrix_score', 'entropy_mainchain_wt', 'ProtBert_score', 'entropy_mainchain_mut', 'Solvent_accessibility_mut', 'Interactor_template_sequence_identity']\n",
      "=======================================\n",
      "Training RF model with 731 entries.\n",
      "Predicting 9 entries.\n",
      "selected_features=['EL2_score', 'Provean_score', 'Model/DOPE_score', 'Matrix_score', 'Final_ddG', 'entropy_mainchain_wt', 'Solvent_accessibility_mut', 'ProtBert_score', 'entropy_mainchain_mut', 'Interactor_alignment_score']\n",
      "=======================================\n",
      "Training RF model with 739 entries.\n",
      "Predicting 1 entries.\n",
      "selected_features=['Provean_score', 'EL2_score', 'Model/DOPE_score', 'Final_ddG', 'Matrix_score', 'entropy_mainchain_wt', 'ProtBert_score', 'entropy_mainchain_mut', 'sidechain_hbond_mut', 'Solvent_accessibility_mut']\n",
      "=======================================\n",
      "Training RF model with 739 entries.\n",
      "Predicting 1 entries.\n",
      "selected_features=['Provean_score', 'EL2_score', 'Model/DOPE_score', 'Final_ddG', 'Matrix_score', 'entropy_mainchain_wt', 'ProtBert_score', 'entropy_mainchain_mut', 'Solvent_accessibility_mut', 'sidechain_hbond_mut']\n",
      "=======================================\n",
      "Training RF model with 726 entries.\n",
      "Predicting 14 entries.\n",
      "selected_features=['Provean_score', 'EL2_score', 'Model/DOPE_score', 'Matrix_score', 'Final_ddG', 'entropy_mainchain_wt', 'Solvent_accessibility_mut', 'entropy_mainchain_mut', 'ProtBert_score', 'ProteinSolver_score']\n",
      "=======================================\n",
      "Training RF model with 737 entries.\n",
      "Predicting 3 entries.\n",
      "selected_features=['EL2_score', 'Provean_score', 'Model/DOPE_score', 'Matrix_score', 'Final_ddG', 'entropy_mainchain_wt', 'entropy_mainchain_mut', 'Solvent_accessibility_mut', 'ProtBert_score', 'backbone_clash_mut']\n",
      "=======================================\n",
      "Training RF model with 739 entries.\n",
      "Predicting 1 entries.\n",
      "selected_features=['Provean_score', 'EL2_score', 'Model/DOPE_score', 'Final_ddG', 'Matrix_score', 'entropy_mainchain_wt', 'entropy_mainchain_mut', 'Solvent_accessibility_mut', 'ProtBert_score', 'sidechain_hbond_mut']\n",
      "=======================================\n",
      "Training RF model with 737 entries.\n",
      "Predicting 3 entries.\n",
      "selected_features=['Provean_score', 'EL2_score', 'Model/DOPE_score', 'Matrix_score', 'Final_ddG', 'entropy_mainchain_wt', 'Solvent_accessibility_mut', 'entropy_mainchain_mut', 'ProtBert_score', 'Interactor_template_sequence_identity']\n",
      "=======================================\n",
      "Training RF model with 738 entries.\n",
      "Predicting 2 entries.\n",
      "selected_features=['EL2_score', 'Provean_score', 'Model/DOPE_score', 'Matrix_score', 'Final_ddG', 'entropy_mainchain_wt', 'Solvent_accessibility_mut', 'entropy_mainchain_mut', 'ProtBert_score', 'Interactor_template_sequence_identity']\n",
      "=======================================\n",
      "Training RF model with 735 entries.\n",
      "Predicting 5 entries.\n",
      "selected_features=['EL2_score', 'Provean_score', 'Model/DOPE_score', 'Matrix_score', 'Final_ddG', 'entropy_mainchain_wt', 'entropy_mainchain_mut', 'ProtBert_score', 'Solvent_accessibility_mut', 'sidechain_hbond_mut']\n",
      "=======================================\n",
      "Training RF model with 730 entries.\n",
      "Predicting 10 entries.\n",
      "selected_features=['EL2_score', 'Provean_score', 'Model/DOPE_score', 'Matrix_score', 'Final_ddG', 'entropy_mainchain_wt', 'entropy_mainchain_mut', 'Solvent_accessibility_mut', 'Interactor_template_sequence_identity', 'ProtBert_score']\n",
      "=======================================\n",
      "Training RF model with 739 entries.\n",
      "Predicting 1 entries.\n",
      "selected_features=['EL2_score', 'Provean_score', 'Model/DOPE_score', 'Matrix_score', 'Final_ddG', 'entropy_mainchain_wt', 'entropy_mainchain_mut', 'Solvent_accessibility_mut', 'ProtBert_score', 'sidechain_hbond_mut']\n",
      "=======================================\n",
      "Training RF model with 732 entries.\n",
      "Predicting 8 entries.\n",
      "selected_features=['EL2_score', 'Provean_score', 'Model/DOPE_score', 'Matrix_score', 'Final_ddG', 'entropy_mainchain_wt', 'Solvent_accessibility_mut', 'ProtBert_score', 'sidechain_hbond_mut', 'entropy_mainchain_mut']\n",
      "=======================================\n",
      "Training RF model with 735 entries.\n",
      "Predicting 5 entries.\n",
      "selected_features=['EL2_score', 'Provean_score', 'Model/DOPE_score', 'Final_ddG', 'Matrix_score', 'entropy_mainchain_wt', 'entropy_mainchain_mut', 'Solvent_accessibility_mut', 'ProtBert_score', 'sidechain_hbond_mut']\n",
      "=======================================\n"
     ]
    }
   ],
   "source": [
    "actuals = []\n",
    "predictions_default = []  # all features and no feature selection\n",
    "predictions_fs = []\n",
    "predictions_fs_hypertuned = []\n",
    "\n",
    "selected_features_list = []\n",
    "\n",
    "for i in tqdm(range(len(protein_dataframes))):\n",
    "\n",
    "    # excluding test data\n",
    "    train_data, test_data = get_train_and_test_data(protein_dataframes, index=i)\n",
    "\n",
    "    X_train = train_data[features]\n",
    "    y_train = train_data[\"Mutation_Effect_Label\"]\n",
    "\n",
    "    X_test = test_data[features]\n",
    "    y_test = test_data[\"Mutation_Effect_Label\"]\n",
    "\n",
    "    # True labels\n",
    "    actuals.append(list(y_test))\n",
    "\n",
    "    n_train = len(X_train)\n",
    "    n_test = len(X_test)\n",
    "    print(f\"Training RF model with {n_train} entries.\")\n",
    "    print(f\"Predicting {n_test} entries.\")\n",
    "\n",
    "    # Predictions with all features and no hyper tuning\n",
    "    predictions_default.append(\n",
    "        get_predictions(X_train, y_train, X_test, tuning=False)\n",
    "    )\n",
    "\n",
    "    # Feature selection\n",
    "    selected_features = get_top_n_features(X_train, y_train, top_n=TOP_N)\n",
    "    selected_features_list.append(selected_features)\n",
    "\n",
    "    # Update X_train and X_test with selected features\n",
    "    X_train_fs = X_train[selected_features]\n",
    "    X_test_fs = X_test[selected_features]\n",
    "\n",
    "    # Predictions with selected features and no hyper tuning\n",
    "    predictions_fs.append(\n",
    "        get_predictions(X_train_fs, y_train, X_test_fs, tuning=False)\n",
    "    )\n",
    "\n",
    "    # Predictions with selected features and hyper tuning\n",
    "    predictions_fs_hypertuned.append(\n",
    "        get_predictions(X_train_fs, y_train, X_test_fs, tuning=True)\n",
    "    )\n",
    "\n",
    "    print(\"=======================================\")"
   ],
   "metadata": {
    "collapsed": false,
    "pycharm": {
     "name": "#%%\n"
    }
   }
  },
  {
   "cell_type": "code",
   "execution_count": 8,
   "outputs": [],
   "source": [
    "y_true = sum(actuals, [])\n",
    "y_pred_default = sum(predictions_default, [])\n",
    "y_pred_fs = sum(predictions_fs, [])\n",
    "y_pred_fs_hypertuned = sum(predictions_fs_hypertuned, [])"
   ],
   "metadata": {
    "collapsed": false,
    "pycharm": {
     "name": "#%%\n"
    }
   }
  },
  {
   "cell_type": "code",
   "execution_count": 9,
   "outputs": [
    {
     "data": {
      "text/plain": "                    Default  Feature selected  Feature selected + hypertuned\nACCURACY           0.778378          0.766216                       0.762162\nBALANCED_ACCURACY  0.651389          0.644630                       0.643426\nF1                 0.477707          0.467692                       0.466667\nMATTEWS_COR        0.372474          0.342852                       0.334760\nPRECISION          0.657895          0.608000                       0.592308\nRECALL             0.375000          0.380000                       0.385000",
      "text/html": "<div>\n<style scoped>\n    .dataframe tbody tr th:only-of-type {\n        vertical-align: middle;\n    }\n\n    .dataframe tbody tr th {\n        vertical-align: top;\n    }\n\n    .dataframe thead th {\n        text-align: right;\n    }\n</style>\n<table border=\"1\" class=\"dataframe\">\n  <thead>\n    <tr style=\"text-align: right;\">\n      <th></th>\n      <th>Default</th>\n      <th>Feature selected</th>\n      <th>Feature selected + hypertuned</th>\n    </tr>\n  </thead>\n  <tbody>\n    <tr>\n      <th>ACCURACY</th>\n      <td>0.778378</td>\n      <td>0.766216</td>\n      <td>0.762162</td>\n    </tr>\n    <tr>\n      <th>BALANCED_ACCURACY</th>\n      <td>0.651389</td>\n      <td>0.644630</td>\n      <td>0.643426</td>\n    </tr>\n    <tr>\n      <th>F1</th>\n      <td>0.477707</td>\n      <td>0.467692</td>\n      <td>0.466667</td>\n    </tr>\n    <tr>\n      <th>MATTEWS_COR</th>\n      <td>0.372474</td>\n      <td>0.342852</td>\n      <td>0.334760</td>\n    </tr>\n    <tr>\n      <th>PRECISION</th>\n      <td>0.657895</td>\n      <td>0.608000</td>\n      <td>0.592308</td>\n    </tr>\n    <tr>\n      <th>RECALL</th>\n      <td>0.375000</td>\n      <td>0.380000</td>\n      <td>0.385000</td>\n    </tr>\n  </tbody>\n</table>\n</div>"
     },
     "execution_count": 9,
     "metadata": {},
     "output_type": "execute_result"
    }
   ],
   "source": [
    "import pandas as pd\n",
    "\n",
    "metrics_comparison_data = pd.concat(\n",
    "    [\n",
    "        get_scoring_metrics(y_true, y_pred_default),\n",
    "        get_scoring_metrics(y_true, y_pred_fs),\n",
    "        get_scoring_metrics(y_true, y_pred_fs_hypertuned)\n",
    "    ], axis=\"columns\"\n",
    ")\n",
    "metrics_comparison_data.columns = [\"Default\", \"Feature selected\", \"Feature selected + hypertuned\"]\n",
    "metrics_comparison_data"
   ],
   "metadata": {
    "collapsed": false,
    "pycharm": {
     "name": "#%%\n"
    }
   }
  },
  {
   "cell_type": "code",
   "execution_count": null,
   "outputs": [],
   "source": [
    "# waiting for above cells ....."
   ],
   "metadata": {
    "collapsed": false,
    "pycharm": {
     "name": "#%%\n"
    }
   }
  },
  {
   "cell_type": "code",
   "execution_count": null,
   "outputs": [],
   "source": [
    "# todo: obtain our predictions and export it as a dataframe"
   ],
   "metadata": {
    "collapsed": false,
    "pycharm": {
     "name": "#%%\n"
    }
   }
  },
  {
   "cell_type": "code",
   "execution_count": 23,
   "outputs": [
    {
     "name": "stdout",
     "output_type": "stream",
     "text": [
      "[1, 0, 0, 0, 0, 1, 0, 0, 0, 0, 0, 0, 0, 0, 0, 0, 0, 0, 0, 0, 1, 0, 0, 0, 0, 0]\n",
      "[1, 1, 1, 0, 1, 1, 1, 1, 0, 0, 0, 0, 0, 0, 0, 0, 0, 0, 0, 0, 1, 0, 0, 0, 0, 0]\n",
      "[1, 0, 1, 0, 1, 1, 1, 1, 0, 0, 0, 0, 0, 0, 0, 0, 0, 0, 0, 0, 1, 1, 0, 0, 0, 0]\n",
      "[0, 0, 0, 0, 0, 0, 0, 0, 0, 0, 0, 0, 0, 0, 0, 0, 0, 0, 0, 0, 0, 0, 0, 0, 0, 0]\n",
      "26\n"
     ]
    }
   ],
   "source": [
    "print(predictions_default[11])\n",
    "print(predictions_fs[11])\n",
    "print(predictions_fs_hypertuned[11])\n",
    "print(actuals[11])\n",
    "print(len(actuals[11]))"
   ],
   "metadata": {
    "collapsed": false,
    "pycharm": {
     "name": "#%%\n"
    }
   }
  },
  {
   "cell_type": "code",
   "execution_count": 27,
   "outputs": [],
   "source": [
    "train_data_740 = pd.read_csv(\"../../processed_data_740.csv\")\n",
    "train_data_740_predictions_added = train_data_740.copy()"
   ],
   "metadata": {
    "collapsed": false,
    "pycharm": {
     "name": "#%%\n"
    }
   }
  },
  {
   "cell_type": "code",
   "execution_count": 29,
   "outputs": [],
   "source": [
    "train_data_740_predictions_added.insert(0, \"PREDICTIONS_DEFAULT\", y_pred_default)\n",
    "train_data_740_predictions_added.insert(1, \"PREDICTIONS_FS\", y_pred_fs)\n",
    "train_data_740_predictions_added.insert(2, \"PREDICTIONS_FS_HYPERTUNED\", y_pred_fs_hypertuned)"
   ],
   "metadata": {
    "collapsed": false,
    "pycharm": {
     "name": "#%%\n"
    }
   }
  },
  {
   "cell_type": "code",
   "execution_count": 30,
   "outputs": [
    {
     "data": {
      "text/plain": "     PREDICTIONS_DEFAULT  PREDICTIONS_FS  PREDICTIONS_FS_HYPERTUNED  \\\n0                      0               0                          0   \n1                      1               1                          1   \n2                      1               1                          1   \n3                      1               1                          1   \n4                      0               0                          0   \n..                   ...             ...                        ...   \n735                    0               0                          0   \n736                    0               0                          0   \n737                    0               0                          0   \n738                    0               0                          0   \n739                    0               0                          0   \n\n     Mutation_Effect_Label UniProt_ID Mutation Interactor_UniProt_ID  \\\n0                        0     Q9BPZ3    F118A                P11940   \n1                        0     P01116     Y40C                P50749   \n2                        0     Q96QK1    F534D                Q9UBQ0   \n3                        0     Q96QK1    F534D              Q9UBQ0-2   \n4                        0   O43521-3     G66A                Q07812   \n..                     ...        ...      ...                   ...   \n735                      0     P84243     Q94A              Q9UER7-3   \n736                      0     Q96QK1    L589D                Q9UBQ0   \n737                      0     Q96QK1    L589D              Q9UBQ0-2   \n738                      0     P23297     F72L                P25815   \n739                      0     Q15836     L46P                O43752   \n\n     Template_sequence_identity  Alignment_score  \\\n0                        1.0000         1.000000   \n1                        0.9277         0.931315   \n2                        1.0000         0.360743   \n3                        1.0000         0.360743   \n4                        1.0000         0.714286   \n..                          ...              ...   \n735                      1.0000         0.948980   \n736                      1.0000         0.360743   \n737                      1.0000         0.360743   \n738                      0.6778         0.664382   \n739                      0.4194         0.278027   \n\n     Interactor_template_sequence_identity  ...  number_of_residues_mut  \\\n0                                   1.0000  ...                   118.0   \n1                                   0.3553  ...                   329.0   \n2                                   1.0000  ...                   453.0   \n3                                   1.0000  ...                   453.0   \n4                                   0.3007  ...                   202.0   \n..                                     ...  ...                     ...   \n735                                 1.0000  ...                   309.0   \n736                                 1.0000  ...                   453.0   \n737                                 1.0000  ...                   453.0   \n738                                 0.5222  ...                   188.0   \n739                                 1.0000  ...                   143.0   \n\n     IntraclashesEnergy1_wt  IntraclashesEnergy1_mut  IntraclashesEnergy2_wt  \\\n0                   5.30636                  3.79101                 52.4675   \n1                  47.61770                 47.21160                 70.2902   \n2                  68.21080                 68.19710                 59.2321   \n3                  68.21080                 68.19710                 59.2321   \n4                   3.74828                  3.76142                 41.5937   \n..                      ...                      ...                     ...   \n735                21.27130                 20.85060                 32.4886   \n736                68.13080                 68.12330                 59.2629   \n737                68.13080                 68.12330                 59.2629   \n738                26.74010                 27.29430                 17.1488   \n739                15.39100                 20.42630                  6.4110   \n\n     IntraclashesEnergy2_mut  Interface_hydrophobic_area  \\\n0                    52.4675                     427.775   \n1                    70.2461                     464.470   \n2                    59.1774                     510.690   \n3                    59.1774                     510.690   \n4                    41.5937                     405.510   \n..                       ...                         ...   \n735                  32.4886                    1159.700   \n736                  59.2629                     510.690   \n737                  59.2629                     510.690   \n738                  16.8699                     667.920   \n739                   6.4110                     765.775   \n\n     Interface_hydrophilic_area  Interface_total_area  \\\n0                       194.715               622.495   \n1                       400.030               864.505   \n2                       298.820               809.510   \n3                       298.820               809.510   \n4                       273.740               679.245   \n..                          ...                   ...   \n735                     952.745              2112.450   \n736                     298.820               809.510   \n737                     298.820               809.510   \n738                     288.795               956.720   \n739                     286.970              1052.740   \n\n     Interface_contact_distance_wt  Interface_contact_distance_mut  \n0                          3.35293                         3.35293  \n1                          3.07827                         3.59123  \n2                          3.03938                         3.24435  \n3                          3.03938                         3.24435  \n4                          3.37301                         3.22505  \n..                             ...                             ...  \n735                        3.00752                         4.27950  \n736                        3.45879                         3.26826  \n737                        3.45879                         3.26826  \n738                        3.26388                         3.30643  \n739                        3.45835                         3.68360  \n\n[740 rows x 65 columns]",
      "text/html": "<div>\n<style scoped>\n    .dataframe tbody tr th:only-of-type {\n        vertical-align: middle;\n    }\n\n    .dataframe tbody tr th {\n        vertical-align: top;\n    }\n\n    .dataframe thead th {\n        text-align: right;\n    }\n</style>\n<table border=\"1\" class=\"dataframe\">\n  <thead>\n    <tr style=\"text-align: right;\">\n      <th></th>\n      <th>PREDICTIONS_DEFAULT</th>\n      <th>PREDICTIONS_FS</th>\n      <th>PREDICTIONS_FS_HYPERTUNED</th>\n      <th>Mutation_Effect_Label</th>\n      <th>UniProt_ID</th>\n      <th>Mutation</th>\n      <th>Interactor_UniProt_ID</th>\n      <th>Template_sequence_identity</th>\n      <th>Alignment_score</th>\n      <th>Interactor_template_sequence_identity</th>\n      <th>...</th>\n      <th>number_of_residues_mut</th>\n      <th>IntraclashesEnergy1_wt</th>\n      <th>IntraclashesEnergy1_mut</th>\n      <th>IntraclashesEnergy2_wt</th>\n      <th>IntraclashesEnergy2_mut</th>\n      <th>Interface_hydrophobic_area</th>\n      <th>Interface_hydrophilic_area</th>\n      <th>Interface_total_area</th>\n      <th>Interface_contact_distance_wt</th>\n      <th>Interface_contact_distance_mut</th>\n    </tr>\n  </thead>\n  <tbody>\n    <tr>\n      <th>0</th>\n      <td>0</td>\n      <td>0</td>\n      <td>0</td>\n      <td>0</td>\n      <td>Q9BPZ3</td>\n      <td>F118A</td>\n      <td>P11940</td>\n      <td>1.0000</td>\n      <td>1.000000</td>\n      <td>1.0000</td>\n      <td>...</td>\n      <td>118.0</td>\n      <td>5.30636</td>\n      <td>3.79101</td>\n      <td>52.4675</td>\n      <td>52.4675</td>\n      <td>427.775</td>\n      <td>194.715</td>\n      <td>622.495</td>\n      <td>3.35293</td>\n      <td>3.35293</td>\n    </tr>\n    <tr>\n      <th>1</th>\n      <td>1</td>\n      <td>1</td>\n      <td>1</td>\n      <td>0</td>\n      <td>P01116</td>\n      <td>Y40C</td>\n      <td>P50749</td>\n      <td>0.9277</td>\n      <td>0.931315</td>\n      <td>0.3553</td>\n      <td>...</td>\n      <td>329.0</td>\n      <td>47.61770</td>\n      <td>47.21160</td>\n      <td>70.2902</td>\n      <td>70.2461</td>\n      <td>464.470</td>\n      <td>400.030</td>\n      <td>864.505</td>\n      <td>3.07827</td>\n      <td>3.59123</td>\n    </tr>\n    <tr>\n      <th>2</th>\n      <td>1</td>\n      <td>1</td>\n      <td>1</td>\n      <td>0</td>\n      <td>Q96QK1</td>\n      <td>F534D</td>\n      <td>Q9UBQ0</td>\n      <td>1.0000</td>\n      <td>0.360743</td>\n      <td>1.0000</td>\n      <td>...</td>\n      <td>453.0</td>\n      <td>68.21080</td>\n      <td>68.19710</td>\n      <td>59.2321</td>\n      <td>59.1774</td>\n      <td>510.690</td>\n      <td>298.820</td>\n      <td>809.510</td>\n      <td>3.03938</td>\n      <td>3.24435</td>\n    </tr>\n    <tr>\n      <th>3</th>\n      <td>1</td>\n      <td>1</td>\n      <td>1</td>\n      <td>0</td>\n      <td>Q96QK1</td>\n      <td>F534D</td>\n      <td>Q9UBQ0-2</td>\n      <td>1.0000</td>\n      <td>0.360743</td>\n      <td>1.0000</td>\n      <td>...</td>\n      <td>453.0</td>\n      <td>68.21080</td>\n      <td>68.19710</td>\n      <td>59.2321</td>\n      <td>59.1774</td>\n      <td>510.690</td>\n      <td>298.820</td>\n      <td>809.510</td>\n      <td>3.03938</td>\n      <td>3.24435</td>\n    </tr>\n    <tr>\n      <th>4</th>\n      <td>0</td>\n      <td>0</td>\n      <td>0</td>\n      <td>0</td>\n      <td>O43521-3</td>\n      <td>G66A</td>\n      <td>Q07812</td>\n      <td>1.0000</td>\n      <td>0.714286</td>\n      <td>0.3007</td>\n      <td>...</td>\n      <td>202.0</td>\n      <td>3.74828</td>\n      <td>3.76142</td>\n      <td>41.5937</td>\n      <td>41.5937</td>\n      <td>405.510</td>\n      <td>273.740</td>\n      <td>679.245</td>\n      <td>3.37301</td>\n      <td>3.22505</td>\n    </tr>\n    <tr>\n      <th>...</th>\n      <td>...</td>\n      <td>...</td>\n      <td>...</td>\n      <td>...</td>\n      <td>...</td>\n      <td>...</td>\n      <td>...</td>\n      <td>...</td>\n      <td>...</td>\n      <td>...</td>\n      <td>...</td>\n      <td>...</td>\n      <td>...</td>\n      <td>...</td>\n      <td>...</td>\n      <td>...</td>\n      <td>...</td>\n      <td>...</td>\n      <td>...</td>\n      <td>...</td>\n      <td>...</td>\n    </tr>\n    <tr>\n      <th>735</th>\n      <td>0</td>\n      <td>0</td>\n      <td>0</td>\n      <td>0</td>\n      <td>P84243</td>\n      <td>Q94A</td>\n      <td>Q9UER7-3</td>\n      <td>1.0000</td>\n      <td>0.948980</td>\n      <td>1.0000</td>\n      <td>...</td>\n      <td>309.0</td>\n      <td>21.27130</td>\n      <td>20.85060</td>\n      <td>32.4886</td>\n      <td>32.4886</td>\n      <td>1159.700</td>\n      <td>952.745</td>\n      <td>2112.450</td>\n      <td>3.00752</td>\n      <td>4.27950</td>\n    </tr>\n    <tr>\n      <th>736</th>\n      <td>0</td>\n      <td>0</td>\n      <td>0</td>\n      <td>0</td>\n      <td>Q96QK1</td>\n      <td>L589D</td>\n      <td>Q9UBQ0</td>\n      <td>1.0000</td>\n      <td>0.360743</td>\n      <td>1.0000</td>\n      <td>...</td>\n      <td>453.0</td>\n      <td>68.13080</td>\n      <td>68.12330</td>\n      <td>59.2629</td>\n      <td>59.2629</td>\n      <td>510.690</td>\n      <td>298.820</td>\n      <td>809.510</td>\n      <td>3.45879</td>\n      <td>3.26826</td>\n    </tr>\n    <tr>\n      <th>737</th>\n      <td>0</td>\n      <td>0</td>\n      <td>0</td>\n      <td>0</td>\n      <td>Q96QK1</td>\n      <td>L589D</td>\n      <td>Q9UBQ0-2</td>\n      <td>1.0000</td>\n      <td>0.360743</td>\n      <td>1.0000</td>\n      <td>...</td>\n      <td>453.0</td>\n      <td>68.13080</td>\n      <td>68.12330</td>\n      <td>59.2629</td>\n      <td>59.2629</td>\n      <td>510.690</td>\n      <td>298.820</td>\n      <td>809.510</td>\n      <td>3.45879</td>\n      <td>3.26826</td>\n    </tr>\n    <tr>\n      <th>738</th>\n      <td>0</td>\n      <td>0</td>\n      <td>0</td>\n      <td>0</td>\n      <td>P23297</td>\n      <td>F72L</td>\n      <td>P25815</td>\n      <td>0.6778</td>\n      <td>0.664382</td>\n      <td>0.5222</td>\n      <td>...</td>\n      <td>188.0</td>\n      <td>26.74010</td>\n      <td>27.29430</td>\n      <td>17.1488</td>\n      <td>16.8699</td>\n      <td>667.920</td>\n      <td>288.795</td>\n      <td>956.720</td>\n      <td>3.26388</td>\n      <td>3.30643</td>\n    </tr>\n    <tr>\n      <th>739</th>\n      <td>0</td>\n      <td>0</td>\n      <td>0</td>\n      <td>0</td>\n      <td>Q15836</td>\n      <td>L46P</td>\n      <td>O43752</td>\n      <td>0.4194</td>\n      <td>0.278027</td>\n      <td>1.0000</td>\n      <td>...</td>\n      <td>143.0</td>\n      <td>15.39100</td>\n      <td>20.42630</td>\n      <td>6.4110</td>\n      <td>6.4110</td>\n      <td>765.775</td>\n      <td>286.970</td>\n      <td>1052.740</td>\n      <td>3.45835</td>\n      <td>3.68360</td>\n    </tr>\n  </tbody>\n</table>\n<p>740 rows × 65 columns</p>\n</div>"
     },
     "execution_count": 30,
     "metadata": {},
     "output_type": "execute_result"
    }
   ],
   "source": [
    "train_data_740_predictions_added"
   ],
   "metadata": {
    "collapsed": false,
    "pycharm": {
     "name": "#%%\n"
    }
   }
  },
  {
   "cell_type": "code",
   "execution_count": 31,
   "outputs": [],
   "source": [
    "from datetime import datetime"
   ],
   "metadata": {
    "collapsed": false,
    "pycharm": {
     "name": "#%%\n"
    }
   }
  },
  {
   "cell_type": "code",
   "execution_count": 32,
   "outputs": [],
   "source": [
    "file_date = datetime.today().strftime('%Y-%m-%d')\n",
    "file_name = \"train_data_740_predictions_added\"\n",
    "file_name = f\"{file_name}_{file_date}.csv\"\n",
    "train_data_740_predictions_added.to_csv(file_name, index=False)"
   ],
   "metadata": {
    "collapsed": false,
    "pycharm": {
     "name": "#%%\n"
    }
   }
  },
  {
   "cell_type": "markdown",
   "source": [
    "# ---------------------------------------------------------------"
   ],
   "metadata": {
    "collapsed": false,
    "pycharm": {
     "name": "#%% md\n"
    }
   }
  },
  {
   "cell_type": "code",
   "execution_count": null,
   "outputs": [],
   "source": [
    "# The end."
   ],
   "metadata": {
    "collapsed": false,
    "pycharm": {
     "name": "#%%\n"
    }
   }
  },
  {
   "cell_type": "code",
   "execution_count": null,
   "outputs": [],
   "source": [],
   "metadata": {
    "collapsed": false,
    "pycharm": {
     "name": "#%%\n"
    }
   }
  },
  {
   "cell_type": "code",
   "execution_count": null,
   "outputs": [],
   "source": [],
   "metadata": {
    "collapsed": false,
    "pycharm": {
     "name": "#%%\n"
    }
   }
  },
  {
   "cell_type": "code",
   "execution_count": null,
   "outputs": [],
   "source": [],
   "metadata": {
    "collapsed": false,
    "pycharm": {
     "name": "#%%\n"
    }
   }
  },
  {
   "cell_type": "code",
   "execution_count": null,
   "outputs": [],
   "source": [],
   "metadata": {
    "collapsed": false,
    "pycharm": {
     "name": "#%%\n"
    }
   }
  },
  {
   "cell_type": "code",
   "execution_count": null,
   "outputs": [],
   "source": [],
   "metadata": {
    "collapsed": false,
    "pycharm": {
     "name": "#%%\n"
    }
   }
  },
  {
   "cell_type": "code",
   "execution_count": null,
   "outputs": [],
   "source": [],
   "metadata": {
    "collapsed": false,
    "pycharm": {
     "name": "#%%\n"
    }
   }
  },
  {
   "cell_type": "code",
   "execution_count": null,
   "outputs": [],
   "source": [],
   "metadata": {
    "collapsed": false,
    "pycharm": {
     "name": "#%%\n"
    }
   }
  },
  {
   "cell_type": "code",
   "execution_count": null,
   "outputs": [],
   "source": [],
   "metadata": {
    "collapsed": false,
    "pycharm": {
     "name": "#%%\n"
    }
   }
  },
  {
   "cell_type": "code",
   "execution_count": null,
   "outputs": [],
   "source": [],
   "metadata": {
    "collapsed": false,
    "pycharm": {
     "name": "#%%\n"
    }
   }
  },
  {
   "cell_type": "code",
   "execution_count": 16,
   "outputs": [
    {
     "name": "stdout",
     "output_type": "stream",
     "text": [
      "Default\n"
     ]
    },
    {
     "data": {
      "text/plain": "                      SCORE\nACCURACY           0.778378\nBALANCED_ACCURACY  0.651389\nF1                 0.477707\nMATTEWS_COR        0.372474\nPRECISION          0.657895\nRECALL             0.375000",
      "text/html": "<div>\n<style scoped>\n    .dataframe tbody tr th:only-of-type {\n        vertical-align: middle;\n    }\n\n    .dataframe tbody tr th {\n        vertical-align: top;\n    }\n\n    .dataframe thead th {\n        text-align: right;\n    }\n</style>\n<table border=\"1\" class=\"dataframe\">\n  <thead>\n    <tr style=\"text-align: right;\">\n      <th></th>\n      <th>SCORE</th>\n    </tr>\n  </thead>\n  <tbody>\n    <tr>\n      <th>ACCURACY</th>\n      <td>0.778378</td>\n    </tr>\n    <tr>\n      <th>BALANCED_ACCURACY</th>\n      <td>0.651389</td>\n    </tr>\n    <tr>\n      <th>F1</th>\n      <td>0.477707</td>\n    </tr>\n    <tr>\n      <th>MATTEWS_COR</th>\n      <td>0.372474</td>\n    </tr>\n    <tr>\n      <th>PRECISION</th>\n      <td>0.657895</td>\n    </tr>\n    <tr>\n      <th>RECALL</th>\n      <td>0.375000</td>\n    </tr>\n  </tbody>\n</table>\n</div>"
     },
     "execution_count": 16,
     "metadata": {},
     "output_type": "execute_result"
    }
   ],
   "source": [
    "print(\"Default\")\n",
    "get_scoring_metrics(y_true, y_pred_default)"
   ],
   "metadata": {
    "collapsed": false,
    "pycharm": {
     "name": "#%%\n"
    }
   }
  },
  {
   "cell_type": "code",
   "execution_count": 17,
   "outputs": [
    {
     "name": "stdout",
     "output_type": "stream",
     "text": [
      "Feature selected\n"
     ]
    },
    {
     "data": {
      "text/plain": "                      SCORE\nACCURACY           0.766216\nBALANCED_ACCURACY  0.644630\nF1                 0.467692\nMATTEWS_COR        0.342852\nPRECISION          0.608000\nRECALL             0.380000",
      "text/html": "<div>\n<style scoped>\n    .dataframe tbody tr th:only-of-type {\n        vertical-align: middle;\n    }\n\n    .dataframe tbody tr th {\n        vertical-align: top;\n    }\n\n    .dataframe thead th {\n        text-align: right;\n    }\n</style>\n<table border=\"1\" class=\"dataframe\">\n  <thead>\n    <tr style=\"text-align: right;\">\n      <th></th>\n      <th>SCORE</th>\n    </tr>\n  </thead>\n  <tbody>\n    <tr>\n      <th>ACCURACY</th>\n      <td>0.766216</td>\n    </tr>\n    <tr>\n      <th>BALANCED_ACCURACY</th>\n      <td>0.644630</td>\n    </tr>\n    <tr>\n      <th>F1</th>\n      <td>0.467692</td>\n    </tr>\n    <tr>\n      <th>MATTEWS_COR</th>\n      <td>0.342852</td>\n    </tr>\n    <tr>\n      <th>PRECISION</th>\n      <td>0.608000</td>\n    </tr>\n    <tr>\n      <th>RECALL</th>\n      <td>0.380000</td>\n    </tr>\n  </tbody>\n</table>\n</div>"
     },
     "execution_count": 17,
     "metadata": {},
     "output_type": "execute_result"
    }
   ],
   "source": [
    "print(\"Feature selected\")\n",
    "get_scoring_metrics(y_true, y_pred_fs)"
   ],
   "metadata": {
    "collapsed": false,
    "pycharm": {
     "name": "#%%\n"
    }
   }
  },
  {
   "cell_type": "code",
   "execution_count": 18,
   "outputs": [
    {
     "name": "stdout",
     "output_type": "stream",
     "text": [
      "Feature selected + hypertuned\n"
     ]
    },
    {
     "data": {
      "text/plain": "                      SCORE\nACCURACY           0.755405\nBALANCED_ACCURACY  0.645093\nF1                 0.472303\nMATTEWS_COR        0.326386\nPRECISION          0.566434\nRECALL             0.405000",
      "text/html": "<div>\n<style scoped>\n    .dataframe tbody tr th:only-of-type {\n        vertical-align: middle;\n    }\n\n    .dataframe tbody tr th {\n        vertical-align: top;\n    }\n\n    .dataframe thead th {\n        text-align: right;\n    }\n</style>\n<table border=\"1\" class=\"dataframe\">\n  <thead>\n    <tr style=\"text-align: right;\">\n      <th></th>\n      <th>SCORE</th>\n    </tr>\n  </thead>\n  <tbody>\n    <tr>\n      <th>ACCURACY</th>\n      <td>0.755405</td>\n    </tr>\n    <tr>\n      <th>BALANCED_ACCURACY</th>\n      <td>0.645093</td>\n    </tr>\n    <tr>\n      <th>F1</th>\n      <td>0.472303</td>\n    </tr>\n    <tr>\n      <th>MATTEWS_COR</th>\n      <td>0.326386</td>\n    </tr>\n    <tr>\n      <th>PRECISION</th>\n      <td>0.566434</td>\n    </tr>\n    <tr>\n      <th>RECALL</th>\n      <td>0.405000</td>\n    </tr>\n  </tbody>\n</table>\n</div>"
     },
     "execution_count": 18,
     "metadata": {},
     "output_type": "execute_result"
    }
   ],
   "source": [
    "print(\"Feature selected + hypertuned\")\n",
    "get_scoring_metrics(y_true, y_pred_fs_hypertuned)"
   ],
   "metadata": {
    "collapsed": false,
    "pycharm": {
     "name": "#%%\n"
    }
   }
  },
  {
   "cell_type": "code",
   "execution_count": null,
   "outputs": [],
   "source": [],
   "metadata": {
    "collapsed": false,
    "pycharm": {
     "name": "#%%\n"
    }
   }
  },
  {
   "cell_type": "code",
   "execution_count": null,
   "outputs": [],
   "source": [],
   "metadata": {
    "collapsed": false,
    "pycharm": {
     "name": "#%%\n"
    }
   }
  },
  {
   "cell_type": "code",
   "execution_count": 20,
   "outputs": [
    {
     "name": "stdout",
     "output_type": "stream",
     "text": [
      "actuals=[[0]]\n",
      "predictions_default=[array([0], dtype=int64)]\n",
      "predictions_fs=[array([0], dtype=int64)]\n",
      "predictions_fs_hypertuned=[array([0], dtype=int64)]\n"
     ]
    }
   ],
   "source": [
    "# print(f\"{actuals=}\")\n",
    "# print(f\"{predictions_default=}\")\n",
    "# print(f\"{predictions_fs=}\")\n",
    "# print(f\"{predictions_fs_hypertuned=}\")"
   ],
   "metadata": {
    "collapsed": false,
    "pycharm": {
     "name": "#%%\n"
    }
   }
  },
  {
   "cell_type": "code",
   "execution_count": null,
   "outputs": [],
   "source": [],
   "metadata": {
    "collapsed": false,
    "pycharm": {
     "name": "#%%\n"
    }
   }
  },
  {
   "cell_type": "code",
   "execution_count": 31,
   "outputs": [
    {
     "ename": "NameError",
     "evalue": "name 'predictions_fs_hypertuned' is not defined",
     "output_type": "error",
     "traceback": [
      "\u001B[1;31m---------------------------------------------------------------------------\u001B[0m",
      "\u001B[1;31mNameError\u001B[0m                                 Traceback (most recent call last)",
      "\u001B[1;32m~\\AppData\\Local\\Temp/ipykernel_34256/1778953338.py\u001B[0m in \u001B[0;36m<module>\u001B[1;34m\u001B[0m\n\u001B[0;32m      1\u001B[0m \u001B[0my_true\u001B[0m \u001B[1;33m=\u001B[0m \u001B[0msum\u001B[0m\u001B[1;33m(\u001B[0m\u001B[0mactuals\u001B[0m\u001B[1;33m,\u001B[0m \u001B[1;33m[\u001B[0m\u001B[1;33m]\u001B[0m\u001B[1;33m)\u001B[0m\u001B[1;33m\u001B[0m\u001B[1;33m\u001B[0m\u001B[0m\n\u001B[0;32m      2\u001B[0m \u001B[0my_pred\u001B[0m \u001B[1;33m=\u001B[0m \u001B[0msum\u001B[0m\u001B[1;33m(\u001B[0m\u001B[0mpredictions\u001B[0m\u001B[1;33m,\u001B[0m \u001B[1;33m[\u001B[0m\u001B[1;33m]\u001B[0m\u001B[1;33m)\u001B[0m\u001B[1;33m\u001B[0m\u001B[1;33m\u001B[0m\u001B[0m\n\u001B[1;32m----> 3\u001B[1;33m \u001B[0my_pred_hypertuned\u001B[0m \u001B[1;33m=\u001B[0m \u001B[0msum\u001B[0m\u001B[1;33m(\u001B[0m\u001B[0mpredictions_fs_hypertuned\u001B[0m\u001B[1;33m,\u001B[0m \u001B[1;33m[\u001B[0m\u001B[1;33m]\u001B[0m\u001B[1;33m)\u001B[0m\u001B[1;33m\u001B[0m\u001B[1;33m\u001B[0m\u001B[0m\n\u001B[0m",
      "\u001B[1;31mNameError\u001B[0m: name 'predictions_fs_hypertuned' is not defined"
     ]
    }
   ],
   "source": [],
   "metadata": {
    "collapsed": false,
    "pycharm": {
     "name": "#%%\n"
    }
   }
  },
  {
   "cell_type": "code",
   "execution_count": null,
   "outputs": [],
   "source": [
    "## run the cells above."
   ],
   "metadata": {
    "collapsed": false,
    "pycharm": {
     "name": "#%%\n"
    }
   }
  },
  {
   "cell_type": "code",
   "execution_count": null,
   "outputs": [],
   "source": [],
   "metadata": {
    "collapsed": false,
    "pycharm": {
     "name": "#%%\n"
    }
   }
  },
  {
   "cell_type": "code",
   "execution_count": null,
   "outputs": [],
   "source": [],
   "metadata": {
    "collapsed": false,
    "pycharm": {
     "name": "#%%\n"
    }
   }
  },
  {
   "cell_type": "code",
   "execution_count": null,
   "outputs": [],
   "source": [],
   "metadata": {
    "collapsed": false,
    "pycharm": {
     "name": "#%%\n"
    }
   }
  },
  {
   "cell_type": "code",
   "execution_count": null,
   "outputs": [],
   "source": [],
   "metadata": {
    "collapsed": false,
    "pycharm": {
     "name": "#%%\n"
    }
   }
  },
  {
   "cell_type": "code",
   "execution_count": null,
   "outputs": [],
   "source": [],
   "metadata": {
    "collapsed": false,
    "pycharm": {
     "name": "#%%\n"
    }
   }
  },
  {
   "cell_type": "code",
   "execution_count": null,
   "outputs": [],
   "source": [],
   "metadata": {
    "collapsed": false,
    "pycharm": {
     "name": "#%%\n"
    }
   }
  },
  {
   "cell_type": "code",
   "execution_count": null,
   "outputs": [],
   "source": [],
   "metadata": {
    "collapsed": false,
    "pycharm": {
     "name": "#%%\n"
    }
   }
  },
  {
   "cell_type": "code",
   "execution_count": null,
   "outputs": [],
   "source": [],
   "metadata": {
    "collapsed": false,
    "pycharm": {
     "name": "#%%\n"
    }
   }
  },
  {
   "cell_type": "code",
   "execution_count": null,
   "outputs": [],
   "source": [],
   "metadata": {
    "collapsed": false,
    "pycharm": {
     "name": "#%%\n"
    }
   }
  },
  {
   "cell_type": "code",
   "execution_count": null,
   "outputs": [],
   "source": [],
   "metadata": {
    "collapsed": false,
    "pycharm": {
     "name": "#%%\n"
    }
   }
  },
  {
   "cell_type": "markdown",
   "source": [
    "# ------------------------------"
   ],
   "metadata": {
    "collapsed": false,
    "pycharm": {
     "name": "#%% md\n"
    }
   }
  },
  {
   "cell_type": "code",
   "execution_count": null,
   "outputs": [],
   "source": [],
   "metadata": {
    "collapsed": false,
    "pycharm": {
     "name": "#%%\n"
    }
   }
  },
  {
   "cell_type": "code",
   "execution_count": null,
   "outputs": [],
   "source": [],
   "metadata": {
    "collapsed": false,
    "pycharm": {
     "name": "#%%\n"
    }
   }
  },
  {
   "cell_type": "code",
   "execution_count": null,
   "outputs": [],
   "source": [],
   "metadata": {
    "collapsed": false,
    "pycharm": {
     "name": "#%%\n"
    }
   }
  },
  {
   "cell_type": "code",
   "execution_count": null,
   "outputs": [],
   "source": [],
   "metadata": {
    "collapsed": false,
    "pycharm": {
     "name": "#%%\n"
    }
   }
  },
  {
   "cell_type": "code",
   "execution_count": null,
   "outputs": [],
   "source": [],
   "metadata": {
    "collapsed": false,
    "pycharm": {
     "name": "#%%\n"
    }
   }
  },
  {
   "cell_type": "code",
   "execution_count": 11,
   "outputs": [],
   "source": [
    "# randomized_search = get_randomized_search()"
   ],
   "metadata": {
    "collapsed": false,
    "pycharm": {
     "name": "#%%\n"
    }
   }
  },
  {
   "cell_type": "code",
   "execution_count": 12,
   "outputs": [],
   "source": [
    "# from timeit import default_timer as timer"
   ],
   "metadata": {
    "collapsed": false,
    "pycharm": {
     "name": "#%%\n"
    }
   }
  },
  {
   "cell_type": "code",
   "execution_count": 13,
   "outputs": [
    {
     "name": "stdout",
     "output_type": "stream",
     "text": [
      "45.3238145\n"
     ]
    }
   ],
   "source": [
    "# start_time = timer()\n",
    "# randomized_search.fit(X_train, y_train)\n",
    "# print(timer() - start_time)"
   ],
   "metadata": {
    "collapsed": false,
    "pycharm": {
     "name": "#%%\n"
    }
   }
  },
  {
   "cell_type": "code",
   "execution_count": null,
   "outputs": [],
   "source": [],
   "metadata": {
    "collapsed": false,
    "pycharm": {
     "name": "#%%\n"
    }
   }
  },
  {
   "cell_type": "code",
   "execution_count": null,
   "outputs": [],
   "source": [],
   "metadata": {
    "collapsed": false,
    "pycharm": {
     "name": "#%%\n"
    }
   }
  },
  {
   "cell_type": "code",
   "execution_count": null,
   "outputs": [],
   "source": [],
   "metadata": {
    "collapsed": false,
    "pycharm": {
     "name": "#%%\n"
    }
   }
  },
  {
   "cell_type": "code",
   "execution_count": null,
   "outputs": [],
   "source": [],
   "metadata": {
    "collapsed": false,
    "pycharm": {
     "name": "#%%\n"
    }
   }
  },
  {
   "cell_type": "code",
   "execution_count": null,
   "outputs": [],
   "source": [],
   "metadata": {
    "collapsed": false,
    "pycharm": {
     "name": "#%%\n"
    }
   }
  },
  {
   "cell_type": "code",
   "execution_count": 40,
   "outputs": [
    {
     "name": "stdout",
     "output_type": "stream",
     "text": [
      "Feature selected (Top 10)\n"
     ]
    },
    {
     "data": {
      "text/plain": "                      SCORE\nACCURACY           0.766216\nBALANCED_ACCURACY  0.644630\nF1                 0.467692\nMATTEWS_COR        0.342852\nPRECISION          0.608000\nRECALL             0.380000",
      "text/html": "<div>\n<style scoped>\n    .dataframe tbody tr th:only-of-type {\n        vertical-align: middle;\n    }\n\n    .dataframe tbody tr th {\n        vertical-align: top;\n    }\n\n    .dataframe thead th {\n        text-align: right;\n    }\n</style>\n<table border=\"1\" class=\"dataframe\">\n  <thead>\n    <tr style=\"text-align: right;\">\n      <th></th>\n      <th>SCORE</th>\n    </tr>\n  </thead>\n  <tbody>\n    <tr>\n      <th>ACCURACY</th>\n      <td>0.766216</td>\n    </tr>\n    <tr>\n      <th>BALANCED_ACCURACY</th>\n      <td>0.644630</td>\n    </tr>\n    <tr>\n      <th>F1</th>\n      <td>0.467692</td>\n    </tr>\n    <tr>\n      <th>MATTEWS_COR</th>\n      <td>0.342852</td>\n    </tr>\n    <tr>\n      <th>PRECISION</th>\n      <td>0.608000</td>\n    </tr>\n    <tr>\n      <th>RECALL</th>\n      <td>0.380000</td>\n    </tr>\n  </tbody>\n</table>\n</div>"
     },
     "execution_count": 40,
     "metadata": {},
     "output_type": "execute_result"
    }
   ],
   "source": [
    "print(\"Feature selected (Top 10)\")\n",
    "get_scoring_metrics(y_true, y_pred)"
   ],
   "metadata": {
    "collapsed": false,
    "pycharm": {
     "name": "#%%\n"
    }
   }
  },
  {
   "cell_type": "code",
   "execution_count": 39,
   "outputs": [
    {
     "name": "stdout",
     "output_type": "stream",
     "text": [
      "Feature selected (Top 10) + HyperTuned\n"
     ]
    },
    {
     "data": {
      "text/plain": "                      SCORE\nACCURACY           0.751351\nBALANCED_ACCURACY  0.626574\nF1                 0.435583\nMATTEWS_COR        0.299101\nPRECISION          0.563492\nRECALL             0.355000",
      "text/html": "<div>\n<style scoped>\n    .dataframe tbody tr th:only-of-type {\n        vertical-align: middle;\n    }\n\n    .dataframe tbody tr th {\n        vertical-align: top;\n    }\n\n    .dataframe thead th {\n        text-align: right;\n    }\n</style>\n<table border=\"1\" class=\"dataframe\">\n  <thead>\n    <tr style=\"text-align: right;\">\n      <th></th>\n      <th>SCORE</th>\n    </tr>\n  </thead>\n  <tbody>\n    <tr>\n      <th>ACCURACY</th>\n      <td>0.751351</td>\n    </tr>\n    <tr>\n      <th>BALANCED_ACCURACY</th>\n      <td>0.626574</td>\n    </tr>\n    <tr>\n      <th>F1</th>\n      <td>0.435583</td>\n    </tr>\n    <tr>\n      <th>MATTEWS_COR</th>\n      <td>0.299101</td>\n    </tr>\n    <tr>\n      <th>PRECISION</th>\n      <td>0.563492</td>\n    </tr>\n    <tr>\n      <th>RECALL</th>\n      <td>0.355000</td>\n    </tr>\n  </tbody>\n</table>\n</div>"
     },
     "execution_count": 39,
     "metadata": {},
     "output_type": "execute_result"
    }
   ],
   "source": [
    "print(\"Feature selected (Top 10) + HyperTuned\")\n",
    "get_scoring_metrics(y_true, y_pred_hypertuned)"
   ],
   "metadata": {
    "collapsed": false,
    "pycharm": {
     "name": "#%%\n"
    }
   }
  },
  {
   "cell_type": "code",
   "execution_count": null,
   "outputs": [],
   "source": [],
   "metadata": {
    "collapsed": false,
    "pycharm": {
     "name": "#%%\n"
    }
   }
  },
  {
   "cell_type": "code",
   "execution_count": null,
   "outputs": [],
   "source": [],
   "metadata": {
    "collapsed": false,
    "pycharm": {
     "name": "#%%\n"
    }
   }
  },
  {
   "cell_type": "code",
   "execution_count": null,
   "outputs": [],
   "source": [],
   "metadata": {
    "collapsed": false,
    "pycharm": {
     "name": "#%%\n"
    }
   }
  },
  {
   "cell_type": "code",
   "execution_count": null,
   "outputs": [],
   "source": [],
   "metadata": {
    "collapsed": false,
    "pycharm": {
     "name": "#%%\n"
    }
   }
  },
  {
   "cell_type": "code",
   "execution_count": null,
   "outputs": [],
   "source": [],
   "metadata": {
    "collapsed": false,
    "pycharm": {
     "name": "#%%\n"
    }
   }
  },
  {
   "cell_type": "code",
   "execution_count": null,
   "outputs": [],
   "source": [],
   "metadata": {
    "collapsed": false,
    "pycharm": {
     "name": "#%%\n"
    }
   }
  },
  {
   "cell_type": "markdown",
   "source": [
    "# ------------"
   ],
   "metadata": {
    "collapsed": false,
    "pycharm": {
     "name": "#%% md\n"
    }
   }
  },
  {
   "cell_type": "code",
   "execution_count": null,
   "outputs": [],
   "source": [],
   "metadata": {
    "collapsed": false,
    "pycharm": {
     "name": "#%%\n"
    }
   }
  },
  {
   "cell_type": "code",
   "execution_count": null,
   "outputs": [],
   "source": [],
   "metadata": {
    "collapsed": false,
    "pycharm": {
     "name": "#%%\n"
    }
   }
  },
  {
   "cell_type": "code",
   "execution_count": null,
   "outputs": [],
   "source": [],
   "metadata": {
    "collapsed": false,
    "pycharm": {
     "name": "#%%\n"
    }
   }
  },
  {
   "cell_type": "code",
   "execution_count": 50,
   "outputs": [
    {
     "name": "stdout",
     "output_type": "stream",
     "text": [
      "accuracy_score: 0.77\n",
      "\n",
      "balanced_accuracy_score: 0.64\n",
      "\n",
      "f1_score: 0.47\n",
      "\n",
      "matthews_corrcoef: 0.34\n",
      "\n",
      "precision_score: 0.61\n",
      "\n",
      "recall_score: 0.38\n",
      "\n"
     ]
    }
   ],
   "source": [
    "print(\"accuracy_score: {:.4}\\n\".format( accuracy_score(y_true, y_pred)) )\n",
    "print(\"balanced_accuracy_score: {:.4}\\n\".format( balanced_accuracy_score(y_true, y_pred)) )\n",
    "print(\"f1_score: {:.4}\\n\".format( f1_score(y_true, y_pred)) )\n",
    "print(\"matthews_corrcoef: {:.4}\\n\".format( matthews_corrcoef(y_true, y_pred)) )\n",
    "print(\"precision_score: {:.4}\\n\".format( precision_score(y_true, y_pred)) )\n",
    "print(\"recall_score: {:.4}\\n\".format( recall_score(y_true, y_pred)) )"
   ],
   "metadata": {
    "collapsed": false,
    "pycharm": {
     "name": "#%%\n"
    }
   }
  },
  {
   "cell_type": "code",
   "execution_count": 55,
   "outputs": [
    {
     "name": "stdout",
     "output_type": "stream",
     "text": [
      "accuracy_score: 0.62\n",
      "\n",
      "balanced_accuracy_score: 0.52\n",
      "\n",
      "f1_score: 0.31\n",
      "\n",
      "matthews_corrcoef: 0.049\n",
      "\n",
      "precision_score: 0.31\n",
      "\n",
      "recall_score: 0.31\n",
      "\n"
     ]
    }
   ],
   "source": [
    "print(\"accuracy_score: {:.2}\\n\".format( accuracy_score(y_true, y_pred)) )\n",
    "print(\"balanced_accuracy_score: {:.2}\\n\".format( balanced_accuracy_score(y_true, y_pred)) )\n",
    "print(\"f1_score: {:.2}\\n\".format( f1_score(y_true, y_pred)) )\n",
    "print(\"matthews_corrcoef: {:.2}\\n\".format( matthews_corrcoef(y_true, y_pred)) )\n",
    "print(\"precision_score: {:.2}\\n\".format( precision_score(y_true, y_pred)) )\n",
    "print(\"recall_score: {:.2}\\n\".format( recall_score(y_true, y_pred)) )"
   ],
   "metadata": {
    "collapsed": false,
    "pycharm": {
     "name": "#%%\n"
    }
   }
  },
  {
   "cell_type": "code",
   "execution_count": null,
   "outputs": [],
   "source": [],
   "metadata": {
    "collapsed": false,
    "pycharm": {
     "name": "#%%\n"
    }
   }
  },
  {
   "cell_type": "markdown",
   "source": [
    "---"
   ],
   "metadata": {
    "collapsed": false,
    "pycharm": {
     "name": "#%% md\n"
    }
   }
  },
  {
   "cell_type": "code",
   "execution_count": null,
   "outputs": [],
   "source": [
    "# garbage"
   ],
   "metadata": {
    "collapsed": false,
    "pycharm": {
     "name": "#%%\n"
    }
   }
  },
  {
   "cell_type": "code",
   "execution_count": null,
   "outputs": [],
   "source": [],
   "metadata": {
    "collapsed": false,
    "pycharm": {
     "name": "#%%\n"
    }
   }
  },
  {
   "cell_type": "code",
   "source": [
    "randomized_search = get_randomized_search()\n",
    "randomized_search.fit(X_train, y_train)\n",
    "clf_tuned = randomized_search.best_estimator_\n",
    "# get_tuned_model(X_train, y_train)\n",
    "\n",
    "print(f\"Training RF model with {len(X_train)} entries.\")\n",
    "clf.fit(X_train, y_train)\n",
    "print(f\"Predicting {len(X_test)} entries.\")\n",
    "current_preds_fs = clf.predict(X_test)\n",
    "current_preds_fs_hypertuned = clf_tuned.predict(X_test)\n",
    "\n",
    "actuals.append(list(y_test))\n",
    "predictions_fs.append(list(current_preds_fs))\n",
    "predictions_fs_hypertuned.append(list(current_preds_fs_hypertuned))"
   ],
   "metadata": {
    "collapsed": false,
    "pycharm": {
     "name": "#%%\n"
    }
   },
   "execution_count": null,
   "outputs": []
  }
 ],
 "metadata": {
  "kernelspec": {
   "name": "predicting-mutation-effects",
   "language": "python",
   "display_name": "Predicting-Mutation-Effects"
  },
  "language_info": {
   "codemirror_mode": {
    "name": "ipython",
    "version": 2
   },
   "file_extension": ".py",
   "mimetype": "text/x-python",
   "name": "python",
   "nbconvert_exporter": "python",
   "pygments_lexer": "ipython2",
   "version": "2.7.6"
  }
 },
 "nbformat": 4,
 "nbformat_minor": 0
}