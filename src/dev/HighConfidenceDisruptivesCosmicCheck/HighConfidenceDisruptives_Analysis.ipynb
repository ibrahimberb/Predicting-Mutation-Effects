{
 "cells": [
  {
   "cell_type": "markdown",
   "source": [
    "# High Confidence Disruptive Mutations"
   ],
   "metadata": {
    "collapsed": false
   }
  },
  {
   "cell_type": "code",
   "execution_count": 1,
   "outputs": [
    {
     "name": "stdout",
     "output_type": "stream",
     "text": [
      "\u001B[32mMarch 11, 2022 14:36:52\u001B[0m\n"
     ]
    }
   ],
   "source": [
    "from datetime import datetime\n",
    "\n",
    "print(\"\\033[32m{}\\033[0m\".format(datetime.now().strftime(\"%B %d, %Y %H:%M:%S\")))"
   ],
   "metadata": {
    "collapsed": false,
    "pycharm": {
     "name": "#%%\n"
    }
   }
  },
  {
   "cell_type": "markdown",
   "source": [
    "**Setup**"
   ],
   "metadata": {
    "collapsed": false
   }
  },
  {
   "cell_type": "code",
   "execution_count": 2,
   "outputs": [],
   "source": [
    "import pandas as pd\n",
    "from utils import CosmicResultsAttaching\n",
    "\n",
    "COSMIC_RESULTS_RECORD_DATA_PATH = r\"CosmicAPI\\Record\\record_data.csv\"\n",
    "HIGH_CONFIDENCE_DISRUPTIVE_DATA_FOLDER_PATH = r\"HighConfidenceDisruptiveData\"\n",
    "\n",
    "# Confidence 0.80s\n",
    "BRCA_DISRUPTIVES_CONFIDENCE_80_PATH = r\"HighConfidenceDisruptiveData\\confidence_0.80\\BRCA_confidence_0.80_2022-03-10.csv\"\n",
    "COAD_DISRUPTIVES_CONFIDENCE_80_PATH = r\"HighConfidenceDisruptiveData\\confidence_0.80\\COAD_confidence_0.80_2022-03-10.csv\"\n",
    "ESCA_DISRUPTIVES_CONFIDENCE_80_PATH = r\"HighConfidenceDisruptiveData\\confidence_0.80\\ESCA_confidence_0.80_2022-03-10.csv\"\n",
    "GBM_DISRUPTIVES_CONFIDENCE_80_PATH = r\"HighConfidenceDisruptiveData\\confidence_0.80\\GBM_confidence_0.80_2022-03-10.csv\"\n",
    "HNSC_DISRUPTIVES_CONFIDENCE_80_PATH = r\"HighConfidenceDisruptiveData\\confidence_0.80\\HNSC_confidence_0.80_2022-03-10.csv\"\n",
    "OV_DISRUPTIVES_CONFIDENCE_80_PATH = r\"HighConfidenceDisruptiveData\\confidence_0.80\\OV_confidence_0.80_2022-03-10.csv\"\n",
    "\n",
    "# Reflect changes in the modules immediately.\n",
    "%load_ext autoreload\n",
    "%autoreload 2"
   ],
   "metadata": {
    "collapsed": false,
    "pycharm": {
     "name": "#%%\n"
    }
   }
  },
  {
   "cell_type": "code",
   "execution_count": 3,
   "outputs": [],
   "source": [
    "brca_disruptive_confidence_80 = pd.read_csv(BRCA_DISRUPTIVES_CONFIDENCE_80_PATH)\n",
    "coad_disruptive_confidence_80 = pd.read_csv(COAD_DISRUPTIVES_CONFIDENCE_80_PATH)\n",
    "esca_disruptive_confidence_80 = pd.read_csv(ESCA_DISRUPTIVES_CONFIDENCE_80_PATH)\n",
    "gbm_disruptive_confidence_80 = pd.read_csv(GBM_DISRUPTIVES_CONFIDENCE_80_PATH)\n",
    "hnsc_disruptive_confidence_80 = pd.read_csv(HNSC_DISRUPTIVES_CONFIDENCE_80_PATH)\n",
    "ov_disruptive_confidence_80 = pd.read_csv(OV_DISRUPTIVES_CONFIDENCE_80_PATH)"
   ],
   "metadata": {
    "collapsed": false,
    "pycharm": {
     "name": "#%%\n"
    }
   }
  },
  {
   "cell_type": "code",
   "execution_count": 4,
   "outputs": [
    {
     "name": "stdout",
     "output_type": "stream",
     "text": [
      "(246, 9)\n",
      "(520, 9)\n",
      "(109, 9)\n",
      "(205, 9)\n",
      "(267, 9)\n",
      "(193, 9)\n"
     ]
    }
   ],
   "source": [
    "print(brca_disruptive_confidence_80.shape)\n",
    "print(coad_disruptive_confidence_80.shape)\n",
    "print(esca_disruptive_confidence_80.shape)\n",
    "print(gbm_disruptive_confidence_80.shape)\n",
    "print(hnsc_disruptive_confidence_80.shape)\n",
    "print(ov_disruptive_confidence_80.shape)"
   ],
   "metadata": {
    "collapsed": false,
    "pycharm": {
     "name": "#%%\n"
    }
   }
  },
  {
   "cell_type": "code",
   "execution_count": 5,
   "outputs": [
    {
     "data": {
      "text/plain": "      GENE  RESIDUE_POSITION  \\\n0    LIN7B               115   \n1     E2F1               168   \n2     ESR1               222   \n3     TP53               273   \n4    SUGT1               241   \n..     ...               ...   \n802   RCC1               323   \n803  MEX3B               542   \n804  FGFR2               252   \n805  ESYT3               487   \n806   FGF1               109   \n\n                                     ERROR_ENCOUNTERED  SUBMITTED  DOWNLOADED  \\\n0                                                  NaN          1           1   \n1                                                  NaN          1           1   \n2                                                  NaN          1           1   \n3                                                  NaN          1           1   \n4                                                  NaN          1           1   \n..                                                 ...        ...         ...   \n802                                                NaN          1           1   \n803                                                NaN          1           1   \n804                                                NaN          1           1   \n805  We don’t recognise that codon in our database!...          1           0   \n806  We don’t recognise that codon in our database!...          1           0   \n\n    CGC_STATUS MOST_SIGNIFICANT_CODON_TIER  \\\n0         None              OTHER_MUTATION   \n1         None              OTHER_MUTATION   \n2       Tier 1              OTHER_MUTATION   \n3       Tier 1                      TIER_1   \n4         None              OTHER_MUTATION   \n..         ...                         ...   \n802       None              OTHER_MUTATION   \n803       None              OTHER_MUTATION   \n804     Tier 1                      TIER_1   \n805        NaN                         NaN   \n806        NaN                         NaN   \n\n                                                   URL  \n0    https://cancer.sanger.ac.uk/cmc/gene/LIN7B/cod...  \n1    https://cancer.sanger.ac.uk/cmc/gene/E2F1/codo...  \n2    https://cancer.sanger.ac.uk/cmc/gene/ESR1/codo...  \n3    https://cancer.sanger.ac.uk/cmc/gene/TP53/codo...  \n4    https://cancer.sanger.ac.uk/cmc/gene/SUGT1/cod...  \n..                                                 ...  \n802  https://cancer.sanger.ac.uk/cmc/gene/RCC1/codo...  \n803  https://cancer.sanger.ac.uk/cmc/gene/MEX3B/cod...  \n804  https://cancer.sanger.ac.uk/cmc/gene/FGFR2/cod...  \n805  https://cancer.sanger.ac.uk/cmc/gene/ESYT3/cod...  \n806  https://cancer.sanger.ac.uk/cmc/gene/FGF1/codo...  \n\n[807 rows x 8 columns]",
      "text/html": "<div>\n<style scoped>\n    .dataframe tbody tr th:only-of-type {\n        vertical-align: middle;\n    }\n\n    .dataframe tbody tr th {\n        vertical-align: top;\n    }\n\n    .dataframe thead th {\n        text-align: right;\n    }\n</style>\n<table border=\"1\" class=\"dataframe\">\n  <thead>\n    <tr style=\"text-align: right;\">\n      <th></th>\n      <th>GENE</th>\n      <th>RESIDUE_POSITION</th>\n      <th>ERROR_ENCOUNTERED</th>\n      <th>SUBMITTED</th>\n      <th>DOWNLOADED</th>\n      <th>CGC_STATUS</th>\n      <th>MOST_SIGNIFICANT_CODON_TIER</th>\n      <th>URL</th>\n    </tr>\n  </thead>\n  <tbody>\n    <tr>\n      <th>0</th>\n      <td>LIN7B</td>\n      <td>115</td>\n      <td>NaN</td>\n      <td>1</td>\n      <td>1</td>\n      <td>None</td>\n      <td>OTHER_MUTATION</td>\n      <td>https://cancer.sanger.ac.uk/cmc/gene/LIN7B/cod...</td>\n    </tr>\n    <tr>\n      <th>1</th>\n      <td>E2F1</td>\n      <td>168</td>\n      <td>NaN</td>\n      <td>1</td>\n      <td>1</td>\n      <td>None</td>\n      <td>OTHER_MUTATION</td>\n      <td>https://cancer.sanger.ac.uk/cmc/gene/E2F1/codo...</td>\n    </tr>\n    <tr>\n      <th>2</th>\n      <td>ESR1</td>\n      <td>222</td>\n      <td>NaN</td>\n      <td>1</td>\n      <td>1</td>\n      <td>Tier 1</td>\n      <td>OTHER_MUTATION</td>\n      <td>https://cancer.sanger.ac.uk/cmc/gene/ESR1/codo...</td>\n    </tr>\n    <tr>\n      <th>3</th>\n      <td>TP53</td>\n      <td>273</td>\n      <td>NaN</td>\n      <td>1</td>\n      <td>1</td>\n      <td>Tier 1</td>\n      <td>TIER_1</td>\n      <td>https://cancer.sanger.ac.uk/cmc/gene/TP53/codo...</td>\n    </tr>\n    <tr>\n      <th>4</th>\n      <td>SUGT1</td>\n      <td>241</td>\n      <td>NaN</td>\n      <td>1</td>\n      <td>1</td>\n      <td>None</td>\n      <td>OTHER_MUTATION</td>\n      <td>https://cancer.sanger.ac.uk/cmc/gene/SUGT1/cod...</td>\n    </tr>\n    <tr>\n      <th>...</th>\n      <td>...</td>\n      <td>...</td>\n      <td>...</td>\n      <td>...</td>\n      <td>...</td>\n      <td>...</td>\n      <td>...</td>\n      <td>...</td>\n    </tr>\n    <tr>\n      <th>802</th>\n      <td>RCC1</td>\n      <td>323</td>\n      <td>NaN</td>\n      <td>1</td>\n      <td>1</td>\n      <td>None</td>\n      <td>OTHER_MUTATION</td>\n      <td>https://cancer.sanger.ac.uk/cmc/gene/RCC1/codo...</td>\n    </tr>\n    <tr>\n      <th>803</th>\n      <td>MEX3B</td>\n      <td>542</td>\n      <td>NaN</td>\n      <td>1</td>\n      <td>1</td>\n      <td>None</td>\n      <td>OTHER_MUTATION</td>\n      <td>https://cancer.sanger.ac.uk/cmc/gene/MEX3B/cod...</td>\n    </tr>\n    <tr>\n      <th>804</th>\n      <td>FGFR2</td>\n      <td>252</td>\n      <td>NaN</td>\n      <td>1</td>\n      <td>1</td>\n      <td>Tier 1</td>\n      <td>TIER_1</td>\n      <td>https://cancer.sanger.ac.uk/cmc/gene/FGFR2/cod...</td>\n    </tr>\n    <tr>\n      <th>805</th>\n      <td>ESYT3</td>\n      <td>487</td>\n      <td>We don’t recognise that codon in our database!...</td>\n      <td>1</td>\n      <td>0</td>\n      <td>NaN</td>\n      <td>NaN</td>\n      <td>https://cancer.sanger.ac.uk/cmc/gene/ESYT3/cod...</td>\n    </tr>\n    <tr>\n      <th>806</th>\n      <td>FGF1</td>\n      <td>109</td>\n      <td>We don’t recognise that codon in our database!...</td>\n      <td>1</td>\n      <td>0</td>\n      <td>NaN</td>\n      <td>NaN</td>\n      <td>https://cancer.sanger.ac.uk/cmc/gene/FGF1/codo...</td>\n    </tr>\n  </tbody>\n</table>\n<p>807 rows × 8 columns</p>\n</div>"
     },
     "execution_count": 5,
     "metadata": {},
     "output_type": "execute_result"
    }
   ],
   "source": [
    "cosmic_results_record_data = pd.read_csv(COSMIC_RESULTS_RECORD_DATA_PATH)\n",
    "cosmic_results_record_data"
   ],
   "metadata": {
    "collapsed": false,
    "pycharm": {
     "name": "#%%\n"
    }
   }
  },
  {
   "cell_type": "markdown",
   "source": [
    "### CosmicResultsAttaching"
   ],
   "metadata": {
    "collapsed": false,
    "pycharm": {
     "name": "#%% md\n"
    }
   }
  },
  {
   "cell_type": "code",
   "execution_count": 6,
   "outputs": [],
   "source": [
    "cra = CosmicResultsAttaching(cosmic_results_data=cosmic_results_record_data)"
   ],
   "metadata": {
    "collapsed": false,
    "pycharm": {
     "name": "#%%\n"
    }
   }
  },
  {
   "cell_type": "code",
   "execution_count": 7,
   "outputs": [],
   "source": [
    "brca_disruptive_confidence_80_cosmic_results = cra.attach_results(brca_disruptive_confidence_80)\n",
    "coad_disruptive_confidence_80_cosmic_results = cra.attach_results(coad_disruptive_confidence_80)\n",
    "esca_disruptive_confidence_80_cosmic_results = cra.attach_results(esca_disruptive_confidence_80)\n",
    "gbm_disruptive_confidence_80_cosmic_results = cra.attach_results(gbm_disruptive_confidence_80)\n",
    "hnsc_disruptive_confidence_80_cosmic_results = cra.attach_results(hnsc_disruptive_confidence_80)\n",
    "ov_disruptive_confidence_80_cosmic_results = cra.attach_results(ov_disruptive_confidence_80)"
   ],
   "metadata": {
    "collapsed": false,
    "pycharm": {
     "name": "#%%\n"
    }
   }
  },
  {
   "cell_type": "code",
   "execution_count": 8,
   "outputs": [
    {
     "data": {
      "text/plain": "     TCGA   GENE UniProt_ID Mutation INTERACTOR_GENE Interactor_UniProt_ID  \\\n0    COAD  MYL6B     P14649     G97D            MYL6                P60660   \n1    COAD  MYL6B     P14649     G97D           MYO5A                Q9Y4I1   \n2    COAD  MYL6B     P14649     G97D             NaN                A8CDT9   \n3    COAD  MYL6B     P14649     G97D           MYO5A                F8WE88   \n4    COAD  MYL6B     P14649     G97D           MYO5A                G3V394   \n..    ...    ...        ...      ...             ...                   ...   \n515  COAD   TFEC     O14948    I155T            MITF                O75030   \n516  COAD   TFEC     O14948    I155T            TFE3                P19532   \n517  COAD   TFEC     O14948    I155T            TFEB                P19484   \n518  COAD   RHEB     Q15382     T42I            RAF1                P04049   \n519  COAD   RHEB     Q15382     T42I            RAF1                L7RRS6   \n\n     Prediction  Median_Probability  Disruptive_probability CGC_status  \\\n0             0             0.19948                 0.80052       None   \n1             0             0.18356                 0.81644       None   \n2             0             0.19000                 0.81000       None   \n3             0             0.19000                 0.81000       None   \n4             0             0.19000                 0.81000       None   \n..          ...                 ...                     ...        ...   \n515           0             0.14489                 0.85511       None   \n516           0             0.15884                 0.84116       None   \n517           0             0.15884                 0.84116       None   \n518           0             0.18732                 0.81268       None   \n519           0             0.03475                 0.96525       None   \n\n    MOST_SIGNIFICANT_CODON_TIER  \n0                OTHER_MUTATION  \n1                OTHER_MUTATION  \n2                OTHER_MUTATION  \n3                OTHER_MUTATION  \n4                OTHER_MUTATION  \n..                          ...  \n515              OTHER_MUTATION  \n516              OTHER_MUTATION  \n517              OTHER_MUTATION  \n518              OTHER_MUTATION  \n519              OTHER_MUTATION  \n\n[520 rows x 11 columns]",
      "text/html": "<div>\n<style scoped>\n    .dataframe tbody tr th:only-of-type {\n        vertical-align: middle;\n    }\n\n    .dataframe tbody tr th {\n        vertical-align: top;\n    }\n\n    .dataframe thead th {\n        text-align: right;\n    }\n</style>\n<table border=\"1\" class=\"dataframe\">\n  <thead>\n    <tr style=\"text-align: right;\">\n      <th></th>\n      <th>TCGA</th>\n      <th>GENE</th>\n      <th>UniProt_ID</th>\n      <th>Mutation</th>\n      <th>INTERACTOR_GENE</th>\n      <th>Interactor_UniProt_ID</th>\n      <th>Prediction</th>\n      <th>Median_Probability</th>\n      <th>Disruptive_probability</th>\n      <th>CGC_status</th>\n      <th>MOST_SIGNIFICANT_CODON_TIER</th>\n    </tr>\n  </thead>\n  <tbody>\n    <tr>\n      <th>0</th>\n      <td>COAD</td>\n      <td>MYL6B</td>\n      <td>P14649</td>\n      <td>G97D</td>\n      <td>MYL6</td>\n      <td>P60660</td>\n      <td>0</td>\n      <td>0.19948</td>\n      <td>0.80052</td>\n      <td>None</td>\n      <td>OTHER_MUTATION</td>\n    </tr>\n    <tr>\n      <th>1</th>\n      <td>COAD</td>\n      <td>MYL6B</td>\n      <td>P14649</td>\n      <td>G97D</td>\n      <td>MYO5A</td>\n      <td>Q9Y4I1</td>\n      <td>0</td>\n      <td>0.18356</td>\n      <td>0.81644</td>\n      <td>None</td>\n      <td>OTHER_MUTATION</td>\n    </tr>\n    <tr>\n      <th>2</th>\n      <td>COAD</td>\n      <td>MYL6B</td>\n      <td>P14649</td>\n      <td>G97D</td>\n      <td>NaN</td>\n      <td>A8CDT9</td>\n      <td>0</td>\n      <td>0.19000</td>\n      <td>0.81000</td>\n      <td>None</td>\n      <td>OTHER_MUTATION</td>\n    </tr>\n    <tr>\n      <th>3</th>\n      <td>COAD</td>\n      <td>MYL6B</td>\n      <td>P14649</td>\n      <td>G97D</td>\n      <td>MYO5A</td>\n      <td>F8WE88</td>\n      <td>0</td>\n      <td>0.19000</td>\n      <td>0.81000</td>\n      <td>None</td>\n      <td>OTHER_MUTATION</td>\n    </tr>\n    <tr>\n      <th>4</th>\n      <td>COAD</td>\n      <td>MYL6B</td>\n      <td>P14649</td>\n      <td>G97D</td>\n      <td>MYO5A</td>\n      <td>G3V394</td>\n      <td>0</td>\n      <td>0.19000</td>\n      <td>0.81000</td>\n      <td>None</td>\n      <td>OTHER_MUTATION</td>\n    </tr>\n    <tr>\n      <th>...</th>\n      <td>...</td>\n      <td>...</td>\n      <td>...</td>\n      <td>...</td>\n      <td>...</td>\n      <td>...</td>\n      <td>...</td>\n      <td>...</td>\n      <td>...</td>\n      <td>...</td>\n      <td>...</td>\n    </tr>\n    <tr>\n      <th>515</th>\n      <td>COAD</td>\n      <td>TFEC</td>\n      <td>O14948</td>\n      <td>I155T</td>\n      <td>MITF</td>\n      <td>O75030</td>\n      <td>0</td>\n      <td>0.14489</td>\n      <td>0.85511</td>\n      <td>None</td>\n      <td>OTHER_MUTATION</td>\n    </tr>\n    <tr>\n      <th>516</th>\n      <td>COAD</td>\n      <td>TFEC</td>\n      <td>O14948</td>\n      <td>I155T</td>\n      <td>TFE3</td>\n      <td>P19532</td>\n      <td>0</td>\n      <td>0.15884</td>\n      <td>0.84116</td>\n      <td>None</td>\n      <td>OTHER_MUTATION</td>\n    </tr>\n    <tr>\n      <th>517</th>\n      <td>COAD</td>\n      <td>TFEC</td>\n      <td>O14948</td>\n      <td>I155T</td>\n      <td>TFEB</td>\n      <td>P19484</td>\n      <td>0</td>\n      <td>0.15884</td>\n      <td>0.84116</td>\n      <td>None</td>\n      <td>OTHER_MUTATION</td>\n    </tr>\n    <tr>\n      <th>518</th>\n      <td>COAD</td>\n      <td>RHEB</td>\n      <td>Q15382</td>\n      <td>T42I</td>\n      <td>RAF1</td>\n      <td>P04049</td>\n      <td>0</td>\n      <td>0.18732</td>\n      <td>0.81268</td>\n      <td>None</td>\n      <td>OTHER_MUTATION</td>\n    </tr>\n    <tr>\n      <th>519</th>\n      <td>COAD</td>\n      <td>RHEB</td>\n      <td>Q15382</td>\n      <td>T42I</td>\n      <td>RAF1</td>\n      <td>L7RRS6</td>\n      <td>0</td>\n      <td>0.03475</td>\n      <td>0.96525</td>\n      <td>None</td>\n      <td>OTHER_MUTATION</td>\n    </tr>\n  </tbody>\n</table>\n<p>520 rows × 11 columns</p>\n</div>"
     },
     "execution_count": 8,
     "metadata": {},
     "output_type": "execute_result"
    }
   ],
   "source": [
    "coad_disruptive_confidence_80_cosmic_results"
   ],
   "metadata": {
    "collapsed": false,
    "pycharm": {
     "name": "#%%\n"
    }
   }
  },
  {
   "cell_type": "code",
   "execution_count": 9,
   "outputs": [
    {
     "data": {
      "text/plain": "       GENE  RESIDUE_POSITION ERROR_ENCOUNTERED  SUBMITTED  DOWNLOADED  \\\n568  PDGFRA               842               NaN          1           1   \n\n    CGC_STATUS MOST_SIGNIFICANT_CODON_TIER  \\\n568     Tier 1                      TIER_1   \n\n                                                   URL  \n568  https://cancer.sanger.ac.uk/cmc/gene/PDGFRA/co...  ",
      "text/html": "<div>\n<style scoped>\n    .dataframe tbody tr th:only-of-type {\n        vertical-align: middle;\n    }\n\n    .dataframe tbody tr th {\n        vertical-align: top;\n    }\n\n    .dataframe thead th {\n        text-align: right;\n    }\n</style>\n<table border=\"1\" class=\"dataframe\">\n  <thead>\n    <tr style=\"text-align: right;\">\n      <th></th>\n      <th>GENE</th>\n      <th>RESIDUE_POSITION</th>\n      <th>ERROR_ENCOUNTERED</th>\n      <th>SUBMITTED</th>\n      <th>DOWNLOADED</th>\n      <th>CGC_STATUS</th>\n      <th>MOST_SIGNIFICANT_CODON_TIER</th>\n      <th>URL</th>\n    </tr>\n  </thead>\n  <tbody>\n    <tr>\n      <th>568</th>\n      <td>PDGFRA</td>\n      <td>842</td>\n      <td>NaN</td>\n      <td>1</td>\n      <td>1</td>\n      <td>Tier 1</td>\n      <td>TIER_1</td>\n      <td>https://cancer.sanger.ac.uk/cmc/gene/PDGFRA/co...</td>\n    </tr>\n  </tbody>\n</table>\n</div>"
     },
     "execution_count": 9,
     "metadata": {},
     "output_type": "execute_result"
    }
   ],
   "source": [
    "cosmic_results_record_data[\n",
    "    (cosmic_results_record_data[\"GENE\"] == \"PDGFRA\") &\n",
    "    (cosmic_results_record_data[\"RESIDUE_POSITION\"] == 842)\n",
    "]"
   ],
   "metadata": {
    "collapsed": false,
    "pycharm": {
     "name": "#%%\n"
    }
   }
  },
  {
   "cell_type": "markdown",
   "source": [
    "### PROVEAN Score Attaching"
   ],
   "metadata": {
    "collapsed": false
   }
  },
  {
   "cell_type": "code",
   "execution_count": 10,
   "outputs": [],
   "source": [
    "from pathlib import Path\n",
    "from utils import ProveanScoreAttaching\n",
    "\n",
    "BRCA_INTERFACE_DATA_PATH = Path(r\"../../../../My-ELASPIC-Web-API/Elaspic_Results/Merged_Results/BRCA_Interface_2021-11-17.txt\")\n",
    "COAD_INTERFACE_DATA_PATH = Path(r\"../../../../My-ELASPIC-Web-API/Elaspic_Results/Merged_Results/COAD_Interface_2022-01-06.txt\")\n",
    "ESCA_INTERFACE_DATA_PATH = Path(r\"../../../../My-ELASPIC-Web-API/Elaspic_Results/Merged_Results/ESCA_Interface_2021-11-17.txt\")\n",
    "GBM_INTERFACE_DATA_PATH = Path(r\"../../../../My-ELASPIC-Web-API/Elaspic_Results/Merged_Results/GBM_Interface_2021-11-17.txt\")\n",
    "HNSC_INTERFACE_DATA_PATH = Path(r\"../../../../My-ELASPIC-Web-API/Elaspic_Results/Merged_Results/HNSC_Interface_2021-11-17.txt\")\n",
    "OV_INTERFACE_DATA_PATH = Path(r\"../../../../My-ELASPIC-Web-API/Elaspic_Results/Merged_Results/OV_Interface_2021-11-17.txt\")"
   ],
   "metadata": {
    "collapsed": false,
    "pycharm": {
     "name": "#%%\n"
    }
   }
  },
  {
   "cell_type": "code",
   "execution_count": 11,
   "outputs": [
    {
     "name": "stdout",
     "output_type": "stream",
     "text": [
      "2022-03-11 14:36:57 |\u001B[33m WARNING  \u001B[0m| utils | protein='Q16288'\n"
     ]
    },
    {
     "name": "stderr",
     "output_type": "stream",
     "text": [
      "protein='Q16288'\n"
     ]
    },
    {
     "name": "stdout",
     "output_type": "stream",
     "text": [
      "2022-03-11 14:36:57 |\u001B[33m WARNING  \u001B[0m| utils | mutation='R582W'\n"
     ]
    },
    {
     "name": "stderr",
     "output_type": "stream",
     "text": [
      "mutation='R582W'\n"
     ]
    },
    {
     "name": "stdout",
     "output_type": "stream",
     "text": [
      "2022-03-11 14:36:57 |\u001B[33m WARNING  \u001B[0m| utils | interactor='Q07912'\n"
     ]
    },
    {
     "name": "stderr",
     "output_type": "stream",
     "text": [
      "interactor='Q07912'\n"
     ]
    },
    {
     "name": "stdout",
     "output_type": "stream",
     "text": [
      "2022-03-11 14:36:57 |\u001B[33m WARNING  \u001B[0m| utils | Took average of [-6.814 -6.819 -6.803]\n"
     ]
    },
    {
     "name": "stderr",
     "output_type": "stream",
     "text": [
      "Took average of [-6.814 -6.819 -6.803]\n"
     ]
    },
    {
     "name": "stdout",
     "output_type": "stream",
     "text": [
      "2022-03-11 14:36:58 |\u001B[33m WARNING  \u001B[0m| utils | protein='P14649'\n"
     ]
    },
    {
     "name": "stderr",
     "output_type": "stream",
     "text": [
      "protein='P14649'\n"
     ]
    },
    {
     "name": "stdout",
     "output_type": "stream",
     "text": [
      "2022-03-11 14:36:58 |\u001B[33m WARNING  \u001B[0m| utils | mutation='G97D'\n"
     ]
    },
    {
     "name": "stderr",
     "output_type": "stream",
     "text": [
      "mutation='G97D'\n"
     ]
    },
    {
     "name": "stdout",
     "output_type": "stream",
     "text": [
      "2022-03-11 14:36:58 |\u001B[33m WARNING  \u001B[0m| utils | interactor='Q9Y4I1'\n"
     ]
    },
    {
     "name": "stderr",
     "output_type": "stream",
     "text": [
      "interactor='Q9Y4I1'\n"
     ]
    },
    {
     "name": "stdout",
     "output_type": "stream",
     "text": [
      "2022-03-11 14:36:58 |\u001B[33m WARNING  \u001B[0m| utils | Took average of [-6.679 -6.418]\n"
     ]
    },
    {
     "name": "stderr",
     "output_type": "stream",
     "text": [
      "Took average of [-6.679 -6.418]\n"
     ]
    },
    {
     "name": "stdout",
     "output_type": "stream",
     "text": [
      "2022-03-11 14:36:58 |\u001B[33m WARNING  \u001B[0m| utils | protein='P29322'\n"
     ]
    },
    {
     "name": "stderr",
     "output_type": "stream",
     "text": [
      "protein='P29322'\n"
     ]
    },
    {
     "name": "stdout",
     "output_type": "stream",
     "text": [
      "2022-03-11 14:36:58 |\u001B[33m WARNING  \u001B[0m| utils | mutation='R106C'\n"
     ]
    },
    {
     "name": "stderr",
     "output_type": "stream",
     "text": [
      "mutation='R106C'\n"
     ]
    },
    {
     "name": "stdout",
     "output_type": "stream",
     "text": [
      "2022-03-11 14:36:58 |\u001B[33m WARNING  \u001B[0m| utils | interactor='P20827'\n"
     ]
    },
    {
     "name": "stderr",
     "output_type": "stream",
     "text": [
      "interactor='P20827'\n"
     ]
    },
    {
     "name": "stdout",
     "output_type": "stream",
     "text": [
      "2022-03-11 14:36:58 |\u001B[33m WARNING  \u001B[0m| utils | Took average of [-7.107 -7.135]\n"
     ]
    },
    {
     "name": "stderr",
     "output_type": "stream",
     "text": [
      "Took average of [-7.107 -7.135]\n"
     ]
    },
    {
     "name": "stdout",
     "output_type": "stream",
     "text": [
      "2022-03-11 14:36:58 |\u001B[33m WARNING  \u001B[0m| utils | protein='P12034'\n"
     ]
    },
    {
     "name": "stderr",
     "output_type": "stream",
     "text": [
      "protein='P12034'\n"
     ]
    },
    {
     "name": "stdout",
     "output_type": "stream",
     "text": [
      "2022-03-11 14:36:58 |\u001B[33m WARNING  \u001B[0m| utils | mutation='G98D'\n"
     ]
    },
    {
     "name": "stderr",
     "output_type": "stream",
     "text": [
      "mutation='G98D'\n"
     ]
    },
    {
     "name": "stdout",
     "output_type": "stream",
     "text": [
      "2022-03-11 14:36:58 |\u001B[33m WARNING  \u001B[0m| utils | interactor='P22607'\n"
     ]
    },
    {
     "name": "stderr",
     "output_type": "stream",
     "text": [
      "interactor='P22607'\n"
     ]
    },
    {
     "name": "stdout",
     "output_type": "stream",
     "text": [
      "2022-03-11 14:36:58 |\u001B[33m WARNING  \u001B[0m| utils | Took average of [-5.377 -5.31 ]\n"
     ]
    },
    {
     "name": "stderr",
     "output_type": "stream",
     "text": [
      "Took average of [-5.377 -5.31 ]\n"
     ]
    },
    {
     "name": "stdout",
     "output_type": "stream",
     "text": [
      "2022-03-11 14:36:58 |\u001B[33m WARNING  \u001B[0m| utils | protein='P12034'\n"
     ]
    },
    {
     "name": "stderr",
     "output_type": "stream",
     "text": [
      "protein='P12034'\n"
     ]
    },
    {
     "name": "stdout",
     "output_type": "stream",
     "text": [
      "2022-03-11 14:36:58 |\u001B[33m WARNING  \u001B[0m| utils | mutation='G98D'\n"
     ]
    },
    {
     "name": "stderr",
     "output_type": "stream",
     "text": [
      "mutation='G98D'\n"
     ]
    },
    {
     "name": "stdout",
     "output_type": "stream",
     "text": [
      "2022-03-11 14:36:58 |\u001B[33m WARNING  \u001B[0m| utils | interactor='P22455'\n"
     ]
    },
    {
     "name": "stderr",
     "output_type": "stream",
     "text": [
      "interactor='P22455'\n"
     ]
    },
    {
     "name": "stdout",
     "output_type": "stream",
     "text": [
      "2022-03-11 14:36:58 |\u001B[33m WARNING  \u001B[0m| utils | Took average of [-5.377 -5.31 ]\n"
     ]
    },
    {
     "name": "stderr",
     "output_type": "stream",
     "text": [
      "Took average of [-5.377 -5.31 ]\n"
     ]
    },
    {
     "name": "stdout",
     "output_type": "stream",
     "text": [
      "2022-03-11 14:36:58 |\u001B[33m WARNING  \u001B[0m| utils | protein='P12034'\n"
     ]
    },
    {
     "name": "stderr",
     "output_type": "stream",
     "text": [
      "protein='P12034'\n"
     ]
    },
    {
     "name": "stdout",
     "output_type": "stream",
     "text": [
      "2022-03-11 14:36:58 |\u001B[33m WARNING  \u001B[0m| utils | mutation='G98D'\n"
     ]
    },
    {
     "name": "stderr",
     "output_type": "stream",
     "text": [
      "mutation='G98D'\n"
     ]
    },
    {
     "name": "stdout",
     "output_type": "stream",
     "text": [
      "2022-03-11 14:36:58 |\u001B[33m WARNING  \u001B[0m| utils | interactor='P11362'\n"
     ]
    },
    {
     "name": "stderr",
     "output_type": "stream",
     "text": [
      "interactor='P11362'\n"
     ]
    },
    {
     "name": "stdout",
     "output_type": "stream",
     "text": [
      "2022-03-11 14:36:58 |\u001B[33m WARNING  \u001B[0m| utils | Took average of [-5.435 -5.31 ]\n"
     ]
    },
    {
     "name": "stderr",
     "output_type": "stream",
     "text": [
      "Took average of [-5.435 -5.31 ]\n"
     ]
    },
    {
     "name": "stdout",
     "output_type": "stream",
     "text": [
      "2022-03-11 14:36:59 |\u001B[33m WARNING  \u001B[0m| utils | protein='P01024'\n"
     ]
    },
    {
     "name": "stderr",
     "output_type": "stream",
     "text": [
      "protein='P01024'\n"
     ]
    },
    {
     "name": "stdout",
     "output_type": "stream",
     "text": [
      "2022-03-11 14:36:59 |\u001B[33m WARNING  \u001B[0m| utils | mutation='R148W'\n"
     ]
    },
    {
     "name": "stderr",
     "output_type": "stream",
     "text": [
      "mutation='R148W'\n"
     ]
    },
    {
     "name": "stdout",
     "output_type": "stream",
     "text": [
      "2022-03-11 14:36:59 |\u001B[33m WARNING  \u001B[0m| utils | interactor='P00751'\n"
     ]
    },
    {
     "name": "stderr",
     "output_type": "stream",
     "text": [
      "interactor='P00751'\n"
     ]
    },
    {
     "name": "stdout",
     "output_type": "stream",
     "text": [
      "2022-03-11 14:36:59 |\u001B[33m WARNING  \u001B[0m| utils | Took average of [-6.97  -6.499]\n"
     ]
    },
    {
     "name": "stderr",
     "output_type": "stream",
     "text": [
      "Took average of [-6.97  -6.499]\n"
     ]
    },
    {
     "name": "stdout",
     "output_type": "stream",
     "text": [
      "2022-03-11 14:37:00 |\u001B[33m WARNING  \u001B[0m| utils | protein='Q9UPN9'\n"
     ]
    },
    {
     "name": "stderr",
     "output_type": "stream",
     "text": [
      "protein='Q9UPN9'\n"
     ]
    },
    {
     "name": "stdout",
     "output_type": "stream",
     "text": [
      "2022-03-11 14:37:00 |\u001B[33m WARNING  \u001B[0m| utils | mutation='Y994C'\n"
     ]
    },
    {
     "name": "stderr",
     "output_type": "stream",
     "text": [
      "mutation='Y994C'\n"
     ]
    },
    {
     "name": "stdout",
     "output_type": "stream",
     "text": [
      "2022-03-11 14:37:00 |\u001B[33m WARNING  \u001B[0m| utils | interactor='Q86U86'\n"
     ]
    },
    {
     "name": "stderr",
     "output_type": "stream",
     "text": [
      "interactor='Q86U86'\n"
     ]
    },
    {
     "name": "stdout",
     "output_type": "stream",
     "text": [
      "2022-03-11 14:37:00 |\u001B[33m WARNING  \u001B[0m| utils | Took average of [-8.011 -8.098]\n"
     ]
    },
    {
     "name": "stderr",
     "output_type": "stream",
     "text": [
      "Took average of [-8.011 -8.098]\n"
     ]
    },
    {
     "name": "stdout",
     "output_type": "stream",
     "text": [
      "2022-03-11 14:37:00 |\u001B[33m WARNING  \u001B[0m| utils | protein='P51965'\n"
     ]
    },
    {
     "name": "stderr",
     "output_type": "stream",
     "text": [
      "protein='P51965'\n"
     ]
    },
    {
     "name": "stdout",
     "output_type": "stream",
     "text": [
      "2022-03-11 14:37:00 |\u001B[33m WARNING  \u001B[0m| utils | mutation='E55G'\n"
     ]
    },
    {
     "name": "stderr",
     "output_type": "stream",
     "text": [
      "mutation='E55G'\n"
     ]
    },
    {
     "name": "stdout",
     "output_type": "stream",
     "text": [
      "2022-03-11 14:37:00 |\u001B[33m WARNING  \u001B[0m| utils | interactor='P38398'\n"
     ]
    },
    {
     "name": "stderr",
     "output_type": "stream",
     "text": [
      "interactor='P38398'\n"
     ]
    },
    {
     "name": "stdout",
     "output_type": "stream",
     "text": [
      "2022-03-11 14:37:00 |\u001B[33m WARNING  \u001B[0m| utils | Took average of [-6.063 -6.027]\n"
     ]
    },
    {
     "name": "stderr",
     "output_type": "stream",
     "text": [
      "Took average of [-6.063 -6.027]\n"
     ]
    },
    {
     "name": "stdout",
     "output_type": "stream",
     "text": [
      "2022-03-11 14:37:01 |\u001B[33m WARNING  \u001B[0m| utils | protein='P42261'\n"
     ]
    },
    {
     "name": "stderr",
     "output_type": "stream",
     "text": [
      "protein='P42261'\n"
     ]
    },
    {
     "name": "stdout",
     "output_type": "stream",
     "text": [
      "2022-03-11 14:37:01 |\u001B[33m WARNING  \u001B[0m| utils | mutation='F505L'\n"
     ]
    },
    {
     "name": "stderr",
     "output_type": "stream",
     "text": [
      "mutation='F505L'\n"
     ]
    },
    {
     "name": "stdout",
     "output_type": "stream",
     "text": [
      "2022-03-11 14:37:01 |\u001B[33m WARNING  \u001B[0m| utils | interactor='P48058'\n"
     ]
    },
    {
     "name": "stderr",
     "output_type": "stream",
     "text": [
      "interactor='P48058'\n"
     ]
    },
    {
     "name": "stdout",
     "output_type": "stream",
     "text": [
      "2022-03-11 14:37:01 |\u001B[33m WARNING  \u001B[0m| utils | Took average of [-5.283 -5.284]\n"
     ]
    },
    {
     "name": "stderr",
     "output_type": "stream",
     "text": [
      "Took average of [-5.283 -5.284]\n"
     ]
    },
    {
     "name": "stdout",
     "output_type": "stream",
     "text": [
      "2022-03-11 14:37:01 |\u001B[33m WARNING  \u001B[0m| utils | protein='Q9BZY9'\n"
     ]
    },
    {
     "name": "stderr",
     "output_type": "stream",
     "text": [
      "protein='Q9BZY9'\n"
     ]
    },
    {
     "name": "stdout",
     "output_type": "stream",
     "text": [
      "2022-03-11 14:37:01 |\u001B[33m WARNING  \u001B[0m| utils | mutation='P17L'\n"
     ]
    },
    {
     "name": "stderr",
     "output_type": "stream",
     "text": [
      "mutation='P17L'\n"
     ]
    },
    {
     "name": "stdout",
     "output_type": "stream",
     "text": [
      "2022-03-11 14:37:01 |\u001B[33m WARNING  \u001B[0m| utils | interactor='P61086'\n"
     ]
    },
    {
     "name": "stderr",
     "output_type": "stream",
     "text": [
      "interactor='P61086'\n"
     ]
    },
    {
     "name": "stdout",
     "output_type": "stream",
     "text": [
      "2022-03-11 14:37:01 |\u001B[33m WARNING  \u001B[0m| utils | Took average of [-8.601 -8.538]\n"
     ]
    },
    {
     "name": "stderr",
     "output_type": "stream",
     "text": [
      "Took average of [-8.601 -8.538]\n"
     ]
    },
    {
     "name": "stdout",
     "output_type": "stream",
     "text": [
      "2022-03-11 14:37:01 |\u001B[33m WARNING  \u001B[0m| utils | protein='O14948'\n"
     ]
    },
    {
     "name": "stderr",
     "output_type": "stream",
     "text": [
      "protein='O14948'\n"
     ]
    },
    {
     "name": "stdout",
     "output_type": "stream",
     "text": [
      "2022-03-11 14:37:01 |\u001B[33m WARNING  \u001B[0m| utils | mutation='I155T'\n"
     ]
    },
    {
     "name": "stderr",
     "output_type": "stream",
     "text": [
      "mutation='I155T'\n"
     ]
    },
    {
     "name": "stdout",
     "output_type": "stream",
     "text": [
      "2022-03-11 14:37:01 |\u001B[33m WARNING  \u001B[0m| utils | interactor='O75030'\n"
     ]
    },
    {
     "name": "stderr",
     "output_type": "stream",
     "text": [
      "interactor='O75030'\n"
     ]
    },
    {
     "name": "stdout",
     "output_type": "stream",
     "text": [
      "2022-03-11 14:37:01 |\u001B[33m WARNING  \u001B[0m| utils | Took average of [-4.6   -4.581]\n"
     ]
    },
    {
     "name": "stderr",
     "output_type": "stream",
     "text": [
      "Took average of [-4.6   -4.581]\n"
     ]
    },
    {
     "name": "stdout",
     "output_type": "stream",
     "text": [
      "2022-03-11 14:37:02 |\u001B[33m WARNING  \u001B[0m| utils | protein='O14745'\n"
     ]
    },
    {
     "name": "stderr",
     "output_type": "stream",
     "text": [
      "protein='O14745'\n"
     ]
    },
    {
     "name": "stdout",
     "output_type": "stream",
     "text": [
      "2022-03-11 14:37:02 |\u001B[33m WARNING  \u001B[0m| utils | mutation='G176A'\n"
     ]
    },
    {
     "name": "stderr",
     "output_type": "stream",
     "text": [
      "mutation='G176A'\n"
     ]
    },
    {
     "name": "stdout",
     "output_type": "stream",
     "text": [
      "2022-03-11 14:37:02 |\u001B[33m WARNING  \u001B[0m| utils | interactor='Q5T2W1'\n"
     ]
    },
    {
     "name": "stderr",
     "output_type": "stream",
     "text": [
      "interactor='Q5T2W1'\n"
     ]
    },
    {
     "name": "stdout",
     "output_type": "stream",
     "text": [
      "2022-03-11 14:37:02 |\u001B[33m WARNING  \u001B[0m| utils | Took average of [-5.66 -5.15]\n"
     ]
    },
    {
     "name": "stderr",
     "output_type": "stream",
     "text": [
      "Took average of [-5.66 -5.15]\n"
     ]
    },
    {
     "name": "stdout",
     "output_type": "stream",
     "text": [
      "2022-03-11 14:37:03 |\u001B[33m WARNING  \u001B[0m| utils | protein='P42261'\n"
     ]
    },
    {
     "name": "stderr",
     "output_type": "stream",
     "text": [
      "protein='P42261'\n"
     ]
    },
    {
     "name": "stdout",
     "output_type": "stream",
     "text": [
      "2022-03-11 14:37:03 |\u001B[33m WARNING  \u001B[0m| utils | mutation='F505L'\n"
     ]
    },
    {
     "name": "stderr",
     "output_type": "stream",
     "text": [
      "mutation='F505L'\n"
     ]
    },
    {
     "name": "stdout",
     "output_type": "stream",
     "text": [
      "2022-03-11 14:37:03 |\u001B[33m WARNING  \u001B[0m| utils | interactor='P48058'\n"
     ]
    },
    {
     "name": "stderr",
     "output_type": "stream",
     "text": [
      "interactor='P48058'\n"
     ]
    },
    {
     "name": "stdout",
     "output_type": "stream",
     "text": [
      "2022-03-11 14:37:03 |\u001B[33m WARNING  \u001B[0m| utils | Took average of [-5.283 -5.284]\n"
     ]
    },
    {
     "name": "stderr",
     "output_type": "stream",
     "text": [
      "Took average of [-5.283 -5.284]\n"
     ]
    },
    {
     "name": "stdout",
     "output_type": "stream",
     "text": [
      "2022-03-11 14:37:05 |\u001B[33m WARNING  \u001B[0m| utils | protein='Q13554'\n"
     ]
    },
    {
     "name": "stderr",
     "output_type": "stream",
     "text": [
      "protein='Q13554'\n"
     ]
    },
    {
     "name": "stdout",
     "output_type": "stream",
     "text": [
      "2022-03-11 14:37:05 |\u001B[33m WARNING  \u001B[0m| utils | mutation='R275H'\n"
     ]
    },
    {
     "name": "stderr",
     "output_type": "stream",
     "text": [
      "mutation='R275H'\n"
     ]
    },
    {
     "name": "stdout",
     "output_type": "stream",
     "text": [
      "2022-03-11 14:37:05 |\u001B[33m WARNING  \u001B[0m| utils | interactor='Q13557'\n"
     ]
    },
    {
     "name": "stderr",
     "output_type": "stream",
     "text": [
      "interactor='Q13557'\n"
     ]
    },
    {
     "name": "stdout",
     "output_type": "stream",
     "text": [
      "2022-03-11 14:37:05 |\u001B[33m WARNING  \u001B[0m| utils | Took average of [-4.968 -4.973]\n"
     ]
    },
    {
     "name": "stderr",
     "output_type": "stream",
     "text": [
      "Took average of [-4.968 -4.973]\n"
     ]
    }
   ],
   "source": [
    "brca_disruptive_confidence_80_provean_added = ProveanScoreAttaching(\n",
    "    tcga_cosmic_results_data=brca_disruptive_confidence_80_cosmic_results,\n",
    "    tcga=\"BRCA\",\n",
    "    tcga_elaspic_results_data_path=BRCA_INTERFACE_DATA_PATH\n",
    ").attach_provean_scores()\n",
    "\n",
    "coad_disruptive_confidence_80_provean_added = ProveanScoreAttaching(\n",
    "    tcga_cosmic_results_data=coad_disruptive_confidence_80_cosmic_results,\n",
    "    tcga=\"COAD\",\n",
    "    tcga_elaspic_results_data_path=COAD_INTERFACE_DATA_PATH\n",
    ").attach_provean_scores()\n",
    "\n",
    "esca_disruptive_confidence_80_provean_added = ProveanScoreAttaching(\n",
    "    tcga_cosmic_results_data=esca_disruptive_confidence_80_cosmic_results,\n",
    "    tcga=\"ESCA\",\n",
    "    tcga_elaspic_results_data_path=ESCA_INTERFACE_DATA_PATH\n",
    ").attach_provean_scores()\n",
    "\n",
    "gbm_disruptive_confidence_80_provean_added = ProveanScoreAttaching(\n",
    "    tcga_cosmic_results_data=gbm_disruptive_confidence_80_cosmic_results,\n",
    "    tcga=\"GBM\",\n",
    "    tcga_elaspic_results_data_path=GBM_INTERFACE_DATA_PATH\n",
    ").attach_provean_scores()\n",
    "\n",
    "hnsc_disruptive_confidence_80_provean_added = ProveanScoreAttaching(\n",
    "    tcga_cosmic_results_data=hnsc_disruptive_confidence_80_cosmic_results,\n",
    "    tcga=\"HNSC\",\n",
    "    tcga_elaspic_results_data_path=HNSC_INTERFACE_DATA_PATH\n",
    ").attach_provean_scores()\n",
    "\n",
    "ov_disruptive_confidence_80_provean_added = ProveanScoreAttaching(\n",
    "    tcga_cosmic_results_data=ov_disruptive_confidence_80_cosmic_results,\n",
    "    tcga=\"OV\",\n",
    "    tcga_elaspic_results_data_path=OV_INTERFACE_DATA_PATH\n",
    ").attach_provean_scores()"
   ],
   "metadata": {
    "collapsed": false,
    "pycharm": {
     "name": "#%%\n"
    }
   }
  },
  {
   "cell_type": "code",
   "execution_count": 11,
   "outputs": [],
   "source": [],
   "metadata": {
    "collapsed": false,
    "pycharm": {
     "name": "#%%\n"
    }
   }
  },
  {
   "cell_type": "markdown",
   "source": [
    "## Export the results"
   ],
   "metadata": {
    "collapsed": false
   }
  },
  {
   "cell_type": "markdown",
   "source": [
    "For now, I just extracted with confidence 0.80 or above."
   ],
   "metadata": {
    "collapsed": false,
    "pycharm": {
     "name": "#%% md\n"
    }
   }
  },
  {
   "cell_type": "code",
   "execution_count": 12,
   "outputs": [],
   "source": [
    "import os.path as op\n",
    "\n",
    "\n",
    "file_date = datetime.today().strftime('%Y-%m-%d')\n",
    "confidence = \"0.80\"\n",
    "export_results_folder_path = op.join(\"Results\", confidence)"
   ],
   "metadata": {
    "collapsed": false,
    "pycharm": {
     "name": "#%%\n"
    }
   }
  },
  {
   "cell_type": "code",
   "execution_count": 13,
   "outputs": [],
   "source": [
    "brca_disruptive_confidence_80_provean_added.to_csv(\n",
    "    op.join(export_results_folder_path, f\"BRCA_high_confidence_disruptive_{confidence}_cosmic_{file_date}.csv\"), index=False\n",
    ")\n",
    "coad_disruptive_confidence_80_provean_added.to_csv(\n",
    "    op.join(export_results_folder_path, f\"COAD_high_confidence_disruptive_{confidence}_cosmic_{file_date}.csv\"), index=False\n",
    ")\n",
    "esca_disruptive_confidence_80_provean_added.to_csv(\n",
    "    op.join(export_results_folder_path, f\"ESCA_high_confidence_disruptive_{confidence}_cosmic_{file_date}.csv\"), index=False\n",
    ")\n",
    "gbm_disruptive_confidence_80_provean_added.to_csv(\n",
    "    op.join(export_results_folder_path, f\"GBM_high_confidence_disruptive_{confidence}_cosmic_{file_date}.csv\"), index=False\n",
    ")\n",
    "hnsc_disruptive_confidence_80_provean_added.to_csv(\n",
    "    op.join(export_results_folder_path, f\"HNSC_high_confidence_disruptive_{confidence}_cosmic_{file_date}.csv\"), index=False\n",
    ")\n",
    "ov_disruptive_confidence_80_provean_added.to_csv(\n",
    "    op.join(export_results_folder_path, f\"OV_high_confidence_disruptive_{confidence}_cosmic_{file_date}.csv\"), index=False\n",
    ")"
   ],
   "metadata": {
    "collapsed": false,
    "pycharm": {
     "name": "#%%\n"
    }
   }
  },
  {
   "cell_type": "code",
   "execution_count": 11,
   "outputs": [],
   "source": [],
   "metadata": {
    "collapsed": false,
    "pycharm": {
     "name": "#%%\n"
    }
   }
  },
  {
   "cell_type": "markdown",
   "source": [
    "# ---"
   ],
   "metadata": {
    "collapsed": false,
    "pycharm": {
     "name": "#%% md\n"
    }
   }
  },
  {
   "cell_type": "code",
   "execution_count": null,
   "outputs": [],
   "source": [],
   "metadata": {
    "collapsed": false,
    "pycharm": {
     "name": "#%%\n"
    }
   }
  }
 ],
 "metadata": {
  "kernelspec": {
   "display_name": "Python 3",
   "language": "python",
   "name": "python3"
  },
  "language_info": {
   "codemirror_mode": {
    "name": "ipython",
    "version": 2
   },
   "file_extension": ".py",
   "mimetype": "text/x-python",
   "name": "python",
   "nbconvert_exporter": "python",
   "pygments_lexer": "ipython2",
   "version": "2.7.6"
  }
 },
 "nbformat": 4,
 "nbformat_minor": 0
}