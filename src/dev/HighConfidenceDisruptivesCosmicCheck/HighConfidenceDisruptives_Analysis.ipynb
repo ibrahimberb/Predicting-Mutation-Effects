{
 "cells": [
  {
   "cell_type": "markdown",
   "source": [
    "# High Confidence Disruptive Mutations"
   ],
   "metadata": {
    "collapsed": false
   }
  },
  {
   "cell_type": "code",
   "execution_count": null,
   "outputs": [],
   "source": [
    "from datetime import datetime\n",
    "\n",
    "print(\"\\033[32m{}\\033[0m\".format(datetime.now().strftime(\"%B %d, %Y %H:%M:%S\")))"
   ],
   "metadata": {
    "collapsed": false,
    "pycharm": {
     "name": "#%%\n"
    }
   }
  },
  {
   "cell_type": "markdown",
   "source": [
    "**Setup**"
   ],
   "metadata": {
    "collapsed": false
   }
  },
  {
   "cell_type": "code",
   "execution_count": null,
   "outputs": [],
   "source": [
    "import pandas as pd\n",
    "from utils import CosmicResultsAttaching\n",
    "\n",
    "COSMIC_RESULTS_RECORD_DATA_PATH = r\"CosmicAPI\\Record\\record_data.csv\"\n",
    "HIGH_CONFIDENCE_DISRUPTIVE_DATA_FOLDER_PATH = r\"HighConfidenceDisruptiveData\"\n",
    "\n",
    "# Confidence 0.80s\n",
    "BRCA_DISRUPTIVES_CONFIDENCE_80_PATH = r\"HighConfidenceDisruptiveData\\confidence_0.80\\BRCA_confidence_0.80_2022-03-06.csv\"\n",
    "COAD_DISRUPTIVES_CONFIDENCE_80_PATH = r\"HighConfidenceDisruptiveData\\confidence_0.80\\COAD_confidence_0.80_2022-03-06.csv\"\n",
    "ESCA_DISRUPTIVES_CONFIDENCE_80_PATH = r\"HighConfidenceDisruptiveData\\confidence_0.80\\ESCA_confidence_0.80_2022-03-06.csv\"\n",
    "GBM_DISRUPTIVES_CONFIDENCE_80_PATH = r\"HighConfidenceDisruptiveData\\confidence_0.80\\GBM_confidence_0.80_2022-03-06.csv\"\n",
    "HNSC_DISRUPTIVES_CONFIDENCE_80_PATH = r\"HighConfidenceDisruptiveData\\confidence_0.80\\HNSC_confidence_0.80_2022-03-06.csv\"\n",
    "OV_DISRUPTIVES_CONFIDENCE_80_PATH = r\"HighConfidenceDisruptiveData\\confidence_0.80\\OV_confidence_0.80_2022-03-06.csv\"\n",
    "\n",
    "# Reflect changes in the modules immediately.\n",
    "%load_ext autoreload\n",
    "%autoreload 2"
   ],
   "metadata": {
    "collapsed": false,
    "pycharm": {
     "name": "#%%\n"
    }
   }
  },
  {
   "cell_type": "code",
   "execution_count": null,
   "outputs": [],
   "source": [
    "brca_disruptive_confidence_80 = pd.read_csv(BRCA_DISRUPTIVES_CONFIDENCE_80_PATH)\n",
    "coad_disruptive_confidence_80 = pd.read_csv(COAD_DISRUPTIVES_CONFIDENCE_80_PATH)\n",
    "esca_disruptive_confidence_80 = pd.read_csv(ESCA_DISRUPTIVES_CONFIDENCE_80_PATH)\n",
    "gbm_disruptive_confidence_80 = pd.read_csv(GBM_DISRUPTIVES_CONFIDENCE_80_PATH)\n",
    "hnsc_disruptive_confidence_80 = pd.read_csv(HNSC_DISRUPTIVES_CONFIDENCE_80_PATH)\n",
    "ov_disruptive_confidence_80 = pd.read_csv(OV_DISRUPTIVES_CONFIDENCE_80_PATH)"
   ],
   "metadata": {
    "collapsed": false,
    "pycharm": {
     "name": "#%%\n"
    }
   }
  },
  {
   "cell_type": "code",
   "execution_count": null,
   "outputs": [],
   "source": [
    "print(brca_disruptive_confidence_80.shape)\n",
    "print(coad_disruptive_confidence_80.shape)\n",
    "print(esca_disruptive_confidence_80.shape)\n",
    "print(gbm_disruptive_confidence_80.shape)\n",
    "print(hnsc_disruptive_confidence_80.shape)\n",
    "print(ov_disruptive_confidence_80.shape)"
   ],
   "metadata": {
    "collapsed": false,
    "pycharm": {
     "name": "#%%\n"
    }
   }
  },
  {
   "cell_type": "code",
   "execution_count": null,
   "outputs": [],
   "source": [
    "cosmic_results_record_data = pd.read_csv(COSMIC_RESULTS_RECORD_DATA_PATH)\n",
    "cosmic_results_record_data"
   ],
   "metadata": {
    "collapsed": false,
    "pycharm": {
     "name": "#%%\n"
    }
   }
  },
  {
   "cell_type": "code",
   "execution_count": null,
   "outputs": [],
   "source": [
    "cra = CosmicResultsAttaching(cosmic_results_data=cosmic_results_record_data)"
   ],
   "metadata": {
    "collapsed": false,
    "pycharm": {
     "name": "#%%\n"
    }
   }
  },
  {
   "cell_type": "code",
   "execution_count": null,
   "outputs": [],
   "source": [
    "brca_disruptive_confidence_80_cosmic_results = cra.attach_results(brca_disruptive_confidence_80)\n",
    "coad_disruptive_confidence_80_cosmic_results = cra.attach_results(coad_disruptive_confidence_80)\n",
    "esca_disruptive_confidence_80_cosmic_results = cra.attach_results(esca_disruptive_confidence_80)\n",
    "gbm_disruptive_confidence_80_cosmic_results = cra.attach_results(gbm_disruptive_confidence_80)\n",
    "hnsc_disruptive_confidence_80_cosmic_results = cra.attach_results(hnsc_disruptive_confidence_80)\n",
    "ov_disruptive_confidence_80_cosmic_results = cra.attach_results(ov_disruptive_confidence_80)"
   ],
   "metadata": {
    "collapsed": false,
    "pycharm": {
     "name": "#%%\n"
    }
   }
  },
  {
   "cell_type": "code",
   "execution_count": null,
   "outputs": [],
   "source": [
    "coad_disruptive_confidence_80_cosmic_results"
   ],
   "metadata": {
    "collapsed": false,
    "pycharm": {
     "name": "#%%\n"
    }
   }
  },
  {
   "cell_type": "code",
   "execution_count": null,
   "outputs": [],
   "source": [
    "cosmic_results_record_data[\n",
    "    (cosmic_results_record_data[\"GENE\"] == \"PDGFRA\") &\n",
    "    (cosmic_results_record_data[\"RESIDUE_POSITION\"] == 842)\n",
    "]"
   ],
   "metadata": {
    "collapsed": false,
    "pycharm": {
     "name": "#%%\n"
    }
   }
  },
  {
   "cell_type": "code",
   "execution_count": null,
   "outputs": [],
   "source": [],
   "metadata": {
    "collapsed": false,
    "pycharm": {
     "name": "#%%\n"
    }
   }
  },
  {
   "cell_type": "markdown",
   "source": [
    "## Export the results"
   ],
   "metadata": {
    "collapsed": false
   }
  },
  {
   "cell_type": "markdown",
   "source": [
    "For now, I just extracted with confidence 0.80 or above."
   ],
   "metadata": {
    "collapsed": false,
    "pycharm": {
     "name": "#%% md\n"
    }
   }
  },
  {
   "cell_type": "code",
   "execution_count": null,
   "outputs": [],
   "source": [
    "import os.path as op\n",
    "\n",
    "\n",
    "file_date = datetime.today().strftime('%Y-%m-%d')\n",
    "confidence = \"0.80\"\n",
    "export_results_folder_path = op.join(\"Results\", confidence)"
   ],
   "metadata": {
    "collapsed": false,
    "pycharm": {
     "name": "#%%\n"
    }
   }
  },
  {
   "cell_type": "code",
   "execution_count": null,
   "outputs": [],
   "source": [
    "brca_disruptive_confidence_80_cosmic_results.to_csv(\n",
    "    op.join(export_results_folder_path, f\"BRCA_high_confidence_disruptive_{confidence}_cosmic_{file_date}.csv\")\n",
    ")\n",
    "coad_disruptive_confidence_80_cosmic_results.to_csv(\n",
    "    op.join(export_results_folder_path, f\"COAD_high_confidence_disruptive_{confidence}_cosmic_{file_date}.csv\")\n",
    ")\n",
    "esca_disruptive_confidence_80_cosmic_results.to_csv(\n",
    "    op.join(export_results_folder_path, f\"ESCA_high_confidence_disruptive_{confidence}_cosmic_{file_date}.csv\")\n",
    ")\n",
    "gbm_disruptive_confidence_80_cosmic_results.to_csv(\n",
    "    op.join(export_results_folder_path, f\"GBM_high_confidence_disruptive_{confidence}_cosmic_{file_date}.csv\")\n",
    ")\n",
    "hnsc_disruptive_confidence_80_cosmic_results.to_csv(\n",
    "    op.join(export_results_folder_path, f\"HNSC_high_confidence_disruptive_{confidence}_cosmic_{file_date}.csv\")\n",
    ")\n",
    "ov_disruptive_confidence_80_cosmic_results.to_csv(\n",
    "    op.join(export_results_folder_path, f\"OV_high_confidence_disruptive_{confidence}_cosmic_{file_date}.csv\")\n",
    ")"
   ],
   "metadata": {
    "collapsed": false,
    "pycharm": {
     "name": "#%%\n"
    }
   }
  },
  {
   "cell_type": "code",
   "execution_count": null,
   "outputs": [],
   "source": [],
   "metadata": {
    "collapsed": false,
    "pycharm": {
     "name": "#%%\n"
    }
   }
  },
  {
   "cell_type": "markdown",
   "source": [
    "# ---"
   ],
   "metadata": {
    "collapsed": false,
    "pycharm": {
     "name": "#%% md\n"
    }
   }
  },
  {
   "cell_type": "code",
   "execution_count": null,
   "outputs": [],
   "source": [],
   "metadata": {
    "collapsed": false,
    "pycharm": {
     "name": "#%%\n"
    }
   }
  }
 ],
 "metadata": {
  "kernelspec": {
   "display_name": "Python 3",
   "language": "python",
   "name": "python3"
  },
  "language_info": {
   "codemirror_mode": {
    "name": "ipython",
    "version": 2
   },
   "file_extension": ".py",
   "mimetype": "text/x-python",
   "name": "python",
   "nbconvert_exporter": "python",
   "pygments_lexer": "ipython2",
   "version": "2.7.6"
  }
 },
 "nbformat": 4,
 "nbformat_minor": 0
}