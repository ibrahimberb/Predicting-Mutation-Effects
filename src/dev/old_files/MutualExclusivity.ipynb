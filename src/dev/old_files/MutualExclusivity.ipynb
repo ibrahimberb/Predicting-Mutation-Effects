{
 "cells": [
  {
   "cell_type": "markdown",
   "id": "a507755d-7d6d-42e6-8c83-44ed01e1fe5c",
   "metadata": {},
   "source": [
    "# Mutual Exclusivity"
   ]
  },
  {
   "cell_type": "markdown",
   "id": "99eecd39-7d33-47a3-9d96-5a29089fd337",
   "metadata": {},
   "source": [
    "## Setup"
   ]
  },
  {
   "cell_type": "code",
   "execution_count": 1,
   "id": "a9942580-be24-4b17-b45b-918d3b3f153a",
   "metadata": {},
   "outputs": [],
   "source": [
    "import os\n",
    "import os.path as op\n",
    "\n",
    "os.chdir('../')\n",
    "\n",
    "# os.listdir()\n",
    "# Reflect changes in the modules immediately.\n",
    "%load_ext autoreload\n",
    "%autoreload 2"
   ]
  },
  {
   "cell_type": "code",
   "execution_count": 2,
   "id": "91c19c2c-491d-4b6e-bdfb-248f2bb0f7ce",
   "metadata": {},
   "outputs": [
    {
     "name": "stdout",
     "output_type": "stream",
     "text": [
      "The autoreload extension is already loaded. To reload it, use:\n",
      "  %reload_ext autoreload\n"
     ]
    }
   ],
   "source": [
    "# SNV_PATHS\n",
    "SNV_COMMON_PATH = \"C:/Users/ibrah/Desktop/SNV_data/SNV_datasets/\"\n",
    "BRCA_SNV_PATH = op.join(SNV_COMMON_PATH, \"SNV_BRCA_hg38_2021-09-22.csv\")\n",
    "ESCA_SNV_PATH = op.join(SNV_COMMON_PATH, \"SNV_ESCA_hg38_2021-09-22.csv\")\n",
    "GBM_SNV_PATH = op.join(SNV_COMMON_PATH, \"SNV_GBM_hg38_2021-09-22.csv\")\n",
    "HNSC_SNV_PATH = op.join(SNV_COMMON_PATH, \"SNV_HNSC_hg38_2021-09-22.csv\")\n",
    "OV_SNV_PATH = op.join(SNV_COMMON_PATH, \"SNV_OV_hg38_2021-09-22.csv\")\n",
    "\n",
    "BRCA_PRELIMINARY_DATA_PATH = r\"../data/predictions_datasets/brca_prediction_2021-11-17/558297b6/brca_preliminary_data_cgc_2021-11-17.xlsx\"\n",
    "ESCA_PRELIMINARY_DATA_PATH = r\"../data/predictions_datasets/esca_prediction_2021-11-17/59544312/esca_preliminary_data_cgc_2021-11-17.xlsx\"\n",
    "GBM_PRELIMINARY_DATA_PATH = r\"../data/predictions_datasets/gbm_prediction_2021-11-17/b9cfc7ea/gbm_preliminary_data_cgc_2021-11-17.xlsx\"\n",
    "HNSC_PRELIMINARY_DATA_PATH = r\"../data/predictions_datasets/hnsc_prediction_2021-11-17/53930f30/hnsc_preliminary_data_cgc_2021-11-17.xlsx\"\n",
    "OV_PRELIMINARY_DATA_PATH = r\"../data/predictions_datasets/ov_prediction_2021-11-17/37bf1637/ov_preliminary_data_cgc_2021-11-17.xlsx\"\n",
    "\n",
    "# PATIENT INTERACTION DATA PATHS\n",
    "BRCA_PATIENT_INTERACTION_DATA_PATH = \"../data/patient_interaction_datasets/BRCA_patient_interactions_analysis_table_2021-11-17.xlsx\"\n",
    "ESCA_PATIENT_INTERACTION_DATA_PATH = \"../data/patient_interaction_datasets/ESCA_patient_interactions_analysis_table_2021-11-17.xlsx\"\n",
    "GBM_PATIENT_INTERACTION_DATA_PATH = \"../data/patient_interaction_datasets/GBM_patient_interactions_analysis_table_2021-11-17.xlsx\"\n",
    "HNSC_PATIENT_INTERACTION_DATA_PATH = \"../data/patient_interaction_datasets/HNSC_patient_interactions_analysis_table_2021-11-17.xlsx\"\n",
    "OV_PATIENT_INTERACTION_DATA_PATH = \"../data/patient_interaction_datasets/OV_patient_interactions_analysis_table_2021-11-17.xlsx\"\n",
    "\n",
    "# Reflect changes in the modules immediately.\n",
    "%load_ext autoreload\n",
    "%autoreload 2"
   ]
  },
  {
   "cell_type": "code",
   "execution_count": 3,
   "id": "81c5a0ce-994d-493f-ae88-fd931f04f869",
   "metadata": {},
   "outputs": [],
   "source": [
    "def get_protein_gene_pairs(preliminary_data):\n",
    "    \"\"\"\n",
    "    Applies the following filtering conditions to given preliminary data and return protein and gene pairs.\n",
    "    \"\"\"\n",
    "    data_filtered = preliminary_data[\n",
    "        (preliminary_data[\"NUM_ELASPIC_INTERFACE_ENTRIES\"] >= 10) &\n",
    "        (preliminary_data[\"PATIENT_INTERFACE_COUNT\"] > 5)\n",
    "    ]\n",
    "    \n",
    "    protein_gene_pairs = list(zip(data_filtered[\"PROTEIN\"], data_filtered[\"GENE\"]))\n",
    "    return protein_gene_pairs"
   ]
  },
  {
   "cell_type": "code",
   "execution_count": 4,
   "id": "8b4bb5d5-7339-4c1d-9311-7fd0400a8cf3",
   "metadata": {},
   "outputs": [],
   "source": [
    "import pandas as pd\n",
    "from helpers.helpers_analysis.mutual_exclusivity import MutualExclusivity\n",
    "from helpers.helpers_analysis.protein_id_retrieval import ProteinIDFetcher"
   ]
  },
  {
   "cell_type": "markdown",
   "id": "86f3e34f-6244-4223-a368-b0cb18927d38",
   "metadata": {
    "tags": []
   },
   "source": [
    "## Instantiate `MutualExclusivity` Objects for Each Cohort"
   ]
  },
  {
   "cell_type": "markdown",
   "id": "75ebb8b0-805c-4087-9899-541ab0472af6",
   "metadata": {},
   "source": [
    "### BRCA"
   ]
  },
  {
   "cell_type": "code",
   "execution_count": 5,
   "id": "4564f2f4-948b-4ce9-bc8d-d23c3a0b35b0",
   "metadata": {},
   "outputs": [
    {
     "name": "stdout",
     "output_type": "stream",
     "text": [
      "2021-11-20 02:49:45 |\u001b[36m DEBUG    \u001b[0m| helpers.helpers_analysis.mutual_exclusivity | Loading SNV data simplified ..\n",
      "2021-11-20 02:49:45 |\u001b[32m INFO     \u001b[0m| helpers.helpers_analysis.loaders | Loading BRCA SNV datasets ..\n",
      "2021-11-20 02:49:50 |\u001b[36m DEBUG    \u001b[0m| helpers.helpers_analysis.loaders | BRCA SNV data size: (120988, 121)\n",
      "2021-11-20 02:49:51 |\u001b[36m DEBUG    \u001b[0m| helpers.helpers_analysis.loaders | BRCA SNV data processed size: (60251, 121)\n",
      "2021-11-20 02:49:51 |\u001b[32m INFO     \u001b[0m| helpers.helpers_analysis.loaders | BRCA SNV datasets are loaded.\n",
      "2021-11-20 02:49:51 |\u001b[36m DEBUG    \u001b[0m| helpers.helpers_analysis.mutual_exclusivity | Loading patient ids ..\n",
      "2021-11-20 02:49:51 |\u001b[36m DEBUG    \u001b[0m| helpers.helpers_analysis.mutual_exclusivity | Loading patient to snv_data ..\n"
     ]
    },
    {
     "data": {
      "application/vnd.jupyter.widget-view+json": {
       "model_id": "c69554cf445d4f139c1254e9ad15068f",
       "version_major": 2,
       "version_minor": 0
      },
      "text/plain": [
       "  0%|          | 0/985 [00:00<?, ?it/s]"
      ]
     },
     "metadata": {},
     "output_type": "display_data"
    },
    {
     "name": "stdout",
     "output_type": "stream",
     "text": [
      "2021-11-20 02:49:59 |\u001b[36m DEBUG    \u001b[0m| helpers.helpers_analysis.mutual_exclusivity | patient interaction data patient data ..\n"
     ]
    }
   ],
   "source": [
    "brca_mutex = MutualExclusivity(\n",
    "    tcga=\"BRCA\", \n",
    "    tcga_snv_path=BRCA_SNV_PATH, \n",
    "    patient_interaction_data_path=BRCA_PATIENT_INTERACTION_DATA_PATH\n",
    ")"
   ]
  },
  {
   "cell_type": "code",
   "execution_count": 6,
   "id": "5268b0f6-9528-4337-84c0-a099971aa754",
   "metadata": {},
   "outputs": [
    {
     "data": {
      "text/plain": [
       "985"
      ]
     },
     "execution_count": 6,
     "metadata": {},
     "output_type": "execute_result"
    }
   ],
   "source": [
    "len(brca_mutex.patients)"
   ]
  },
  {
   "cell_type": "markdown",
   "id": "aae0e0bf-57b5-4c2d-9b60-982a2c169b64",
   "metadata": {},
   "source": [
    "### ESCA"
   ]
  },
  {
   "cell_type": "code",
   "execution_count": 7,
   "id": "54d839f0-46f2-42c2-a652-c54f61dcb3d9",
   "metadata": {},
   "outputs": [
    {
     "name": "stdout",
     "output_type": "stream",
     "text": [
      "2021-11-20 02:50:00 |\u001b[36m DEBUG    \u001b[0m| helpers.helpers_analysis.mutual_exclusivity | Loading SNV data simplified ..\n",
      "2021-11-20 02:50:00 |\u001b[32m INFO     \u001b[0m| helpers.helpers_analysis.loaders | Loading ESCA SNV datasets ..\n",
      "2021-11-20 02:50:02 |\u001b[36m DEBUG    \u001b[0m| helpers.helpers_analysis.loaders | ESCA SNV data size: (45313, 121)\n",
      "2021-11-20 02:50:02 |\u001b[36m DEBUG    \u001b[0m| helpers.helpers_analysis.loaders | ESCA SNV data processed size: (19497, 121)\n",
      "2021-11-20 02:50:02 |\u001b[32m INFO     \u001b[0m| helpers.helpers_analysis.loaders | ESCA SNV datasets are loaded.\n",
      "2021-11-20 02:50:02 |\u001b[36m DEBUG    \u001b[0m| helpers.helpers_analysis.mutual_exclusivity | Loading patient ids ..\n",
      "2021-11-20 02:50:02 |\u001b[36m DEBUG    \u001b[0m| helpers.helpers_analysis.mutual_exclusivity | Loading patient to snv_data ..\n"
     ]
    },
    {
     "data": {
      "application/vnd.jupyter.widget-view+json": {
       "model_id": "36c9670b1ea44e78aa62b1f776d44683",
       "version_major": 2,
       "version_minor": 0
      },
      "text/plain": [
       "  0%|          | 0/184 [00:00<?, ?it/s]"
      ]
     },
     "metadata": {},
     "output_type": "display_data"
    },
    {
     "name": "stdout",
     "output_type": "stream",
     "text": [
      "2021-11-20 02:50:03 |\u001b[36m DEBUG    \u001b[0m| helpers.helpers_analysis.mutual_exclusivity | patient interaction data patient data ..\n"
     ]
    }
   ],
   "source": [
    "esca_mutex = MutualExclusivity(\n",
    "    tcga=\"ESCA\", \n",
    "    tcga_snv_path=ESCA_SNV_PATH, \n",
    "    patient_interaction_data_path=ESCA_PATIENT_INTERACTION_DATA_PATH\n",
    ")"
   ]
  },
  {
   "cell_type": "code",
   "execution_count": 8,
   "id": "980d1c89-456e-4cb7-8ba4-7126e657c80f",
   "metadata": {},
   "outputs": [
    {
     "data": {
      "text/plain": [
       "184"
      ]
     },
     "execution_count": 8,
     "metadata": {},
     "output_type": "execute_result"
    }
   ],
   "source": [
    "len(esca_mutex.patients)"
   ]
  },
  {
   "cell_type": "markdown",
   "id": "209f34d8-d2b4-4ac8-984a-0b7d164ca3ef",
   "metadata": {},
   "source": [
    "### GBM"
   ]
  },
  {
   "cell_type": "code",
   "execution_count": 9,
   "id": "1f3f5835-e389-4d73-a139-22492af5abfb",
   "metadata": {},
   "outputs": [
    {
     "name": "stdout",
     "output_type": "stream",
     "text": [
      "2021-11-20 02:50:04 |\u001b[36m DEBUG    \u001b[0m| helpers.helpers_analysis.mutual_exclusivity | Loading SNV data simplified ..\n",
      "2021-11-20 02:50:04 |\u001b[32m INFO     \u001b[0m| helpers.helpers_analysis.loaders | Loading GBM SNV datasets ..\n",
      "2021-11-20 02:50:07 |\u001b[36m DEBUG    \u001b[0m| helpers.helpers_analysis.loaders | GBM SNV data size: (82765, 121)\n",
      "2021-11-20 02:50:08 |\u001b[36m DEBUG    \u001b[0m| helpers.helpers_analysis.loaders | GBM SNV data processed size: (46847, 121)\n",
      "2021-11-20 02:50:08 |\u001b[32m INFO     \u001b[0m| helpers.helpers_analysis.loaders | GBM SNV datasets are loaded.\n",
      "2021-11-20 02:50:08 |\u001b[36m DEBUG    \u001b[0m| helpers.helpers_analysis.mutual_exclusivity | Loading patient ids ..\n",
      "2021-11-20 02:50:08 |\u001b[36m DEBUG    \u001b[0m| helpers.helpers_analysis.mutual_exclusivity | Loading patient to snv_data ..\n"
     ]
    },
    {
     "data": {
      "application/vnd.jupyter.widget-view+json": {
       "model_id": "6d96e3638a1d46efb77a29138f8c6a62",
       "version_major": 2,
       "version_minor": 0
      },
      "text/plain": [
       "  0%|          | 0/392 [00:00<?, ?it/s]"
      ]
     },
     "metadata": {},
     "output_type": "display_data"
    },
    {
     "name": "stdout",
     "output_type": "stream",
     "text": [
      "2021-11-20 02:50:09 |\u001b[36m DEBUG    \u001b[0m| helpers.helpers_analysis.mutual_exclusivity | patient interaction data patient data ..\n"
     ]
    }
   ],
   "source": [
    "gbm_mutex = MutualExclusivity(\n",
    "    tcga=\"GBM\", \n",
    "    tcga_snv_path=GBM_SNV_PATH, \n",
    "    patient_interaction_data_path=GBM_PATIENT_INTERACTION_DATA_PATH\n",
    ")"
   ]
  },
  {
   "cell_type": "code",
   "execution_count": 10,
   "id": "57acbc84-8dae-4b06-9c79-48e4763aab1e",
   "metadata": {},
   "outputs": [
    {
     "data": {
      "text/plain": [
       "392"
      ]
     },
     "execution_count": 10,
     "metadata": {},
     "output_type": "execute_result"
    }
   ],
   "source": [
    "len(gbm_mutex.patients)"
   ]
  },
  {
   "cell_type": "markdown",
   "id": "6884085e-1eaf-491d-8884-6aacd166092d",
   "metadata": {},
   "source": [
    "### HNSC"
   ]
  },
  {
   "cell_type": "code",
   "execution_count": 11,
   "id": "0bf8bff3-128c-42ea-b383-db157a9ef044",
   "metadata": {},
   "outputs": [
    {
     "name": "stdout",
     "output_type": "stream",
     "text": [
      "2021-11-20 02:50:10 |\u001b[36m DEBUG    \u001b[0m| helpers.helpers_analysis.mutual_exclusivity | Loading SNV data simplified ..\n",
      "2021-11-20 02:50:10 |\u001b[32m INFO     \u001b[0m| helpers.helpers_analysis.loaders | Loading HNSC SNV datasets ..\n",
      "2021-11-20 02:50:14 |\u001b[36m DEBUG    \u001b[0m| helpers.helpers_analysis.loaders | HNSC SNV data size: (102309, 121)\n",
      "2021-11-20 02:50:15 |\u001b[36m DEBUG    \u001b[0m| helpers.helpers_analysis.loaders | HNSC SNV data processed size: (54883, 121)\n",
      "2021-11-20 02:50:15 |\u001b[32m INFO     \u001b[0m| helpers.helpers_analysis.loaders | HNSC SNV datasets are loaded.\n",
      "2021-11-20 02:50:15 |\u001b[36m DEBUG    \u001b[0m| helpers.helpers_analysis.mutual_exclusivity | Loading patient ids ..\n",
      "2021-11-20 02:50:15 |\u001b[36m DEBUG    \u001b[0m| helpers.helpers_analysis.mutual_exclusivity | Loading patient to snv_data ..\n"
     ]
    },
    {
     "data": {
      "application/vnd.jupyter.widget-view+json": {
       "model_id": "9544a88db54844a6a20250676fe87305",
       "version_major": 2,
       "version_minor": 0
      },
      "text/plain": [
       "  0%|          | 0/507 [00:00<?, ?it/s]"
      ]
     },
     "metadata": {},
     "output_type": "display_data"
    },
    {
     "name": "stdout",
     "output_type": "stream",
     "text": [
      "2021-11-20 02:50:17 |\u001b[36m DEBUG    \u001b[0m| helpers.helpers_analysis.mutual_exclusivity | patient interaction data patient data ..\n"
     ]
    }
   ],
   "source": [
    "hnsc_mutex = MutualExclusivity(\n",
    "    tcga=\"HNSC\", \n",
    "    tcga_snv_path=HNSC_SNV_PATH, \n",
    "    patient_interaction_data_path=HNSC_PATIENT_INTERACTION_DATA_PATH\n",
    ")"
   ]
  },
  {
   "cell_type": "code",
   "execution_count": 12,
   "id": "6ad406c6-acd7-4623-aadd-2b582f48b7e1",
   "metadata": {},
   "outputs": [
    {
     "data": {
      "text/plain": [
       "507"
      ]
     },
     "execution_count": 12,
     "metadata": {},
     "output_type": "execute_result"
    }
   ],
   "source": [
    "len(hnsc_mutex.patients)"
   ]
  },
  {
   "cell_type": "markdown",
   "id": "44e61f4b-b09b-452a-ab8a-38c336a8f2aa",
   "metadata": {},
   "source": [
    "### OV"
   ]
  },
  {
   "cell_type": "code",
   "execution_count": 13,
   "id": "b2df7e1c-71f1-4d31-a286-a0832df9f4db",
   "metadata": {},
   "outputs": [
    {
     "name": "stdout",
     "output_type": "stream",
     "text": [
      "2021-11-20 02:50:18 |\u001b[36m DEBUG    \u001b[0m| helpers.helpers_analysis.mutual_exclusivity | Loading SNV data simplified ..\n",
      "2021-11-20 02:50:18 |\u001b[32m INFO     \u001b[0m| helpers.helpers_analysis.loaders | Loading OV SNV datasets ..\n",
      "2021-11-20 02:50:21 |\u001b[36m DEBUG    \u001b[0m| helpers.helpers_analysis.loaders | OV SNV data size: (75168, 121)\n",
      "2021-11-20 02:50:21 |\u001b[36m DEBUG    \u001b[0m| helpers.helpers_analysis.loaders | OV SNV data processed size: (38486, 121)\n",
      "2021-11-20 02:50:21 |\u001b[32m INFO     \u001b[0m| helpers.helpers_analysis.loaders | OV SNV datasets are loaded.\n",
      "2021-11-20 02:50:21 |\u001b[36m DEBUG    \u001b[0m| helpers.helpers_analysis.mutual_exclusivity | Loading patient ids ..\n",
      "2021-11-20 02:50:21 |\u001b[36m DEBUG    \u001b[0m| helpers.helpers_analysis.mutual_exclusivity | Loading patient to snv_data ..\n"
     ]
    },
    {
     "data": {
      "application/vnd.jupyter.widget-view+json": {
       "model_id": "7e68f28eed594ad9bb41314aa812b9c1",
       "version_major": 2,
       "version_minor": 0
      },
      "text/plain": [
       "  0%|          | 0/436 [00:00<?, ?it/s]"
      ]
     },
     "metadata": {},
     "output_type": "display_data"
    },
    {
     "name": "stdout",
     "output_type": "stream",
     "text": [
      "2021-11-20 02:50:23 |\u001b[36m DEBUG    \u001b[0m| helpers.helpers_analysis.mutual_exclusivity | patient interaction data patient data ..\n"
     ]
    }
   ],
   "source": [
    "ov_mutex = MutualExclusivity(\n",
    "    tcga=\"OV\", \n",
    "    tcga_snv_path=OV_SNV_PATH, \n",
    "    patient_interaction_data_path=OV_PATIENT_INTERACTION_DATA_PATH\n",
    ")"
   ]
  },
  {
   "cell_type": "code",
   "execution_count": 14,
   "id": "b724d1be-2fce-4ea4-ad6d-62dc4874d022",
   "metadata": {},
   "outputs": [
    {
     "data": {
      "text/plain": [
       "436"
      ]
     },
     "execution_count": 14,
     "metadata": {},
     "output_type": "execute_result"
    }
   ],
   "source": [
    "len(ov_mutex.patients)"
   ]
  },
  {
   "cell_type": "markdown",
   "id": "ef9dda60-e717-4800-9a9f-aba4728bd2d2",
   "metadata": {
    "tags": []
   },
   "source": [
    "## Instantiate `MutualExclusivity` Objects for Each Cohort"
   ]
  },
  {
   "cell_type": "code",
   "execution_count": 15,
   "id": "6a737c84-74b5-403b-972f-892303ef7135",
   "metadata": {},
   "outputs": [],
   "source": [
    "def export_mutex_data_for_selected_genes(preliminary_data_path, mutex_obj):\n",
    "    preliminary_data = pd.read_excel(preliminary_data_path)\n",
    "\n",
    "    protein_gene_list = get_protein_gene_pairs(preliminary_data)\n",
    "\n",
    "    for protein_gene in protein_gene_list:\n",
    "        protein, gene = protein_gene\n",
    "        print(f\"PROTEIN_GENE: {protein}_{gene}\")\n",
    "        mutex_obj.get_disruptive_mutual_exclusivity_data(protein)\n",
    "        mutex_obj.export_disruptive_mutual_exclusivity_data(\"dev\\mutex_counts_and_probs\", protein)\n",
    "        mutex_obj.export_disruptive_mutual_exclusivity_data(\"dev\\mutex_counts_and_probs\", protein, prob=True)\n",
    "    \n",
    "    print(\"Completed.\")"
   ]
  },
  {
   "cell_type": "code",
   "execution_count": 16,
   "id": "3ded33c3-92bc-4fe8-9c0a-4b40e6264812",
   "metadata": {
    "scrolled": true,
    "tags": []
   },
   "outputs": [
    {
     "name": "stdout",
     "output_type": "stream",
     "text": [
      "PROTEIN_GENE: O75582_RPS6KA5\n",
      "2021-11-20 02:50:27 |\u001b[32m INFO     \u001b[0m| helpers.helpers_analysis.mutual_exclusivity | Calculating Mutual Exclusivity over O75582's interactors ..\n",
      "2021-11-20 02:50:27 |\u001b[36m DEBUG    \u001b[0m| helpers.helpers_analysis.mutual_exclusivity | O75582 have 6 interactors:\n",
      "Counter({'Q15759:MAPK11': 2, 'Q15418:RPS6KA1': 2, 'Q16539:MAPK14': 1, 'L7RSM2:MAPK14': 1, 'Q9UK32:RPS6KA6': 1, 'P67870:CSNK2B': 1})\n",
      "2021-11-20 02:50:27 |\u001b[32m INFO     \u001b[0m| helpers.helpers_analysis.mutual_exclusivity | Calculating Mutual Exclusivity over O75582's interactors ..\n",
      "2021-11-20 02:50:27 |\u001b[36m DEBUG    \u001b[0m| helpers.helpers_analysis.mutual_exclusivity | O75582 have 6 interactors:\n",
      "Counter({'Q15759:MAPK11': 2, 'Q15418:RPS6KA1': 2, 'Q16539:MAPK14': 1, 'L7RSM2:MAPK14': 1, 'Q9UK32:RPS6KA6': 1, 'P67870:CSNK2B': 1})\n",
      "2021-11-20 02:50:27 |\u001b[36m DEBUG    \u001b[0m| helpers.helpers_analysis.mutual_exclusivity | Exporting Mutual Exclusivity BRCA O75582 ..\n",
      "2021-11-20 02:50:27 |\u001b[32m INFO     \u001b[0m| helpers.helpers_analysis.mutual_exclusivity | dev\\mutex_counts_and_probs\\BRCA_O75582_RPS6KA5_2021-11-20.csv is exported successfully.\n",
      "2021-11-20 02:50:27 |\u001b[32m INFO     \u001b[0m| helpers.helpers_analysis.mutual_exclusivity | Calculating Mutual Exclusivity over O75582's interactors ..\n",
      "2021-11-20 02:50:27 |\u001b[36m DEBUG    \u001b[0m| helpers.helpers_analysis.mutual_exclusivity | O75582 have 6 interactors:\n",
      "{'L7RSM2:MAPK14': 0.59, 'P67870:CSNK2B': 0.72, 'Q15418:RPS6KA1': 1.3199999999999998, 'Q15759:MAPK11': 1.1, 'Q16539:MAPK14': 0.62, 'Q9UK32:RPS6KA6': 0.62}\n",
      "2021-11-20 02:50:27 |\u001b[36m DEBUG    \u001b[0m| helpers.helpers_analysis.mutual_exclusivity | Exporting Mutual Exclusivity BRCA O75582 ..\n",
      "2021-11-20 02:50:27 |\u001b[32m INFO     \u001b[0m| helpers.helpers_analysis.mutual_exclusivity | dev\\mutex_counts_and_probs\\BRCA_O75582_RPS6KA5_PROBA_2021-11-20.csv is exported successfully.\n",
      "PROTEIN_GENE: P04626_ERBB2\n",
      "2021-11-20 02:50:27 |\u001b[32m INFO     \u001b[0m| helpers.helpers_analysis.mutual_exclusivity | Calculating Mutual Exclusivity over P04626's interactors ..\n",
      "2021-11-20 02:50:27 |\u001b[36m DEBUG    \u001b[0m| helpers.helpers_analysis.mutual_exclusivity | P04626 have 15 interactors:\n",
      "Counter({'Q96SB4:SRPK1': 7, 'P00533:EGFR': 2, 'P51813:BMX': 2, 'Q14289:PTK2B': 2, 'P16591:FER': 2, 'P06241:FYN': 2, 'P08069:IGF1R': 2, 'Q13153:PAK1': 2, 'P42680:TEC': 2, 'P21860:ERBB3': 1, 'O60674:JAK2': 1, 'P15153:RAC2': 1, 'Q9UJM3:ERRFI1': 1, 'Q92625:ANKS1A': 1, 'P23458:JAK1': 1})\n",
      "2021-11-20 02:50:27 |\u001b[32m INFO     \u001b[0m| helpers.helpers_analysis.mutual_exclusivity | Calculating Mutual Exclusivity over P04626's interactors ..\n",
      "2021-11-20 02:50:27 |\u001b[36m DEBUG    \u001b[0m| helpers.helpers_analysis.mutual_exclusivity | P04626 have 15 interactors:\n",
      "Counter({'Q96SB4:SRPK1': 7, 'P00533:EGFR': 2, 'P51813:BMX': 2, 'Q14289:PTK2B': 2, 'P16591:FER': 2, 'P06241:FYN': 2, 'P08069:IGF1R': 2, 'Q13153:PAK1': 2, 'P42680:TEC': 2, 'P21860:ERBB3': 1, 'O60674:JAK2': 1, 'P15153:RAC2': 1, 'Q9UJM3:ERRFI1': 1, 'Q92625:ANKS1A': 1, 'P23458:JAK1': 1})\n",
      "2021-11-20 02:50:28 |\u001b[36m DEBUG    \u001b[0m| helpers.helpers_analysis.mutual_exclusivity | Exporting Mutual Exclusivity BRCA P04626 ..\n",
      "2021-11-20 02:50:28 |\u001b[32m INFO     \u001b[0m| helpers.helpers_analysis.mutual_exclusivity | dev\\mutex_counts_and_probs\\BRCA_P04626_ERBB2_2021-11-20.csv is exported successfully.\n",
      "2021-11-20 02:50:28 |\u001b[32m INFO     \u001b[0m| helpers.helpers_analysis.mutual_exclusivity | Calculating Mutual Exclusivity over P04626's interactors ..\n",
      "2021-11-20 02:50:28 |\u001b[36m DEBUG    \u001b[0m| helpers.helpers_analysis.mutual_exclusivity | P04626 have 15 interactors:\n",
      "{'O60674:JAK2': 0.63, 'P00533:EGFR': 1.49, 'P06241:FYN': 1.3, 'P08069:IGF1R': 1.82, 'P15153:RAC2': 0.75, 'P16591:FER': 1.52, 'P21860:ERBB3': 0.84, 'P23458:JAK1': 0.66, 'P42680:TEC': 1.4, 'P51813:BMX': 1.38, 'Q13153:PAK1': 1.4, 'Q14289:PTK2B': 1.62, 'Q92625:ANKS1A': 0.55, 'Q96SB4:SRPK1': 4.79, 'Q9UJM3:ERRFI1': 0.8}\n",
      "2021-11-20 02:50:28 |\u001b[36m DEBUG    \u001b[0m| helpers.helpers_analysis.mutual_exclusivity | Exporting Mutual Exclusivity BRCA P04626 ..\n",
      "2021-11-20 02:50:28 |\u001b[32m INFO     \u001b[0m| helpers.helpers_analysis.mutual_exclusivity | dev\\mutex_counts_and_probs\\BRCA_P04626_ERBB2_PROBA_2021-11-20.csv is exported successfully.\n",
      "PROTEIN_GENE: P04637_TP53\n",
      "2021-11-20 02:50:28 |\u001b[32m INFO     \u001b[0m| helpers.helpers_analysis.mutual_exclusivity | Calculating Mutual Exclusivity over P04637's interactors ..\n",
      "2021-11-20 02:50:28 |\u001b[36m DEBUG    \u001b[0m| helpers.helpers_analysis.mutual_exclusivity | P04637 have 15 interactors:\n",
      "Counter({'Q13625:TP53BP2': 42, 'Q96KQ4:PPP1R13B': 42, 'P62993:GRB2': 33, 'Q06187:BTK': 31, 'Q8WUF5:PPP1R13L': 30, 'Q9H3D4:TP63': 18, 'H2EHT1:TP53': 16, 'K7PPA8:TP53': 16, 'Q96KQ7:EHMT2': 14, 'O15350:TP73': 13, 'P07948:LYN': 12, 'Q9H9B1:EHMT1': 9, 'Q99728:BARD1': 8, 'O75832:PSMD10': 8, 'Q9ULT8:HECTD1': 8})\n",
      "2021-11-20 02:50:28 |\u001b[32m INFO     \u001b[0m| helpers.helpers_analysis.mutual_exclusivity | Calculating Mutual Exclusivity over P04637's interactors ..\n",
      "2021-11-20 02:50:28 |\u001b[36m DEBUG    \u001b[0m| helpers.helpers_analysis.mutual_exclusivity | P04637 have 15 interactors:\n",
      "Counter({'Q13625:TP53BP2': 42, 'Q96KQ4:PPP1R13B': 42, 'P62993:GRB2': 33, 'Q06187:BTK': 31, 'Q8WUF5:PPP1R13L': 30, 'Q9H3D4:TP63': 18, 'H2EHT1:TP53': 16, 'K7PPA8:TP53': 16, 'Q96KQ7:EHMT2': 14, 'O15350:TP73': 13, 'P07948:LYN': 12, 'Q9H9B1:EHMT1': 9, 'Q99728:BARD1': 8, 'O75832:PSMD10': 8, 'Q9ULT8:HECTD1': 8})\n",
      "2021-11-20 02:50:28 |\u001b[36m DEBUG    \u001b[0m| helpers.helpers_analysis.mutual_exclusivity | Exporting Mutual Exclusivity BRCA P04637 ..\n",
      "2021-11-20 02:50:28 |\u001b[32m INFO     \u001b[0m| helpers.helpers_analysis.mutual_exclusivity | dev\\mutex_counts_and_probs\\BRCA_P04637_TP53_2021-11-20.csv is exported successfully.\n",
      "2021-11-20 02:50:28 |\u001b[32m INFO     \u001b[0m| helpers.helpers_analysis.mutual_exclusivity | Calculating Mutual Exclusivity over P04637's interactors ..\n",
      "2021-11-20 02:50:28 |\u001b[36m DEBUG    \u001b[0m| helpers.helpers_analysis.mutual_exclusivity | P04637 have 15 interactors:\n",
      "{'H2EHT1:TP53': 12.37, 'K7PPA8:TP53': 12.190000000000001, 'O15350:TP73': 10.41, 'O75832:PSMD10': 5.9, 'P07948:LYN': 8.69, 'P62993:GRB2': 24.14, 'Q06187:BTK': 24.39, 'Q13625:TP53BP2': 35.9, 'Q8WUF5:PPP1R13L': 21.68, 'Q96KQ4:PPP1R13B': 34.07, 'Q96KQ7:EHMT2': 9.3, 'Q99728:BARD1': 5.79, 'Q9H3D4:TP63': 13.65, 'Q9H9B1:EHMT1': 5.97, 'Q9ULT8:HECTD1': 5.78}\n",
      "2021-11-20 02:50:28 |\u001b[36m DEBUG    \u001b[0m| helpers.helpers_analysis.mutual_exclusivity | Exporting Mutual Exclusivity BRCA P04637 ..\n",
      "2021-11-20 02:50:28 |\u001b[32m INFO     \u001b[0m| helpers.helpers_analysis.mutual_exclusivity | dev\\mutex_counts_and_probs\\BRCA_P04637_TP53_PROBA_2021-11-20.csv is exported successfully.\n",
      "PROTEIN_GENE: P0CG48_UBC\n",
      "2021-11-20 02:50:28 |\u001b[32m INFO     \u001b[0m| helpers.helpers_analysis.mutual_exclusivity | Calculating Mutual Exclusivity over P0CG48's interactors ..\n",
      "2021-11-20 02:50:28 |\u001b[36m DEBUG    \u001b[0m| helpers.helpers_analysis.mutual_exclusivity | P0CG48 have 5 interactors:\n",
      "Counter({'P21734:UBC1': 4, 'P61077:UBE2D3': 2, 'Q9UMX0:UBQLN1': 1, 'A8K3R3:nan': 1, 'Q99816:TSG101': 1})\n",
      "2021-11-20 02:50:29 |\u001b[32m INFO     \u001b[0m| helpers.helpers_analysis.mutual_exclusivity | Calculating Mutual Exclusivity over P0CG48's interactors ..\n",
      "2021-11-20 02:50:29 |\u001b[36m DEBUG    \u001b[0m| helpers.helpers_analysis.mutual_exclusivity | P0CG48 have 5 interactors:\n",
      "Counter({'P21734:UBC1': 4, 'P61077:UBE2D3': 2, 'Q9UMX0:UBQLN1': 1, 'A8K3R3:nan': 1, 'Q99816:TSG101': 1})\n",
      "2021-11-20 02:50:29 |\u001b[36m DEBUG    \u001b[0m| helpers.helpers_analysis.mutual_exclusivity | Exporting Mutual Exclusivity BRCA P0CG48 ..\n",
      "2021-11-20 02:50:29 |\u001b[32m INFO     \u001b[0m| helpers.helpers_analysis.mutual_exclusivity | dev\\mutex_counts_and_probs\\BRCA_P0CG48_UBC_2021-11-20.csv is exported successfully.\n",
      "2021-11-20 02:50:29 |\u001b[32m INFO     \u001b[0m| helpers.helpers_analysis.mutual_exclusivity | Calculating Mutual Exclusivity over P0CG48's interactors ..\n",
      "2021-11-20 02:50:29 |\u001b[36m DEBUG    \u001b[0m| helpers.helpers_analysis.mutual_exclusivity | P0CG48 have 5 interactors:\n",
      "{'A8K3R3:nan': 0.56, 'P21734:UBC1': 2.42, 'P61077:UBE2D3': 1.2, 'Q99816:TSG101': 0.81, 'Q9UMX0:UBQLN1': 0.7}\n",
      "2021-11-20 02:50:29 |\u001b[36m DEBUG    \u001b[0m| helpers.helpers_analysis.mutual_exclusivity | Exporting Mutual Exclusivity BRCA P0CG48 ..\n",
      "2021-11-20 02:50:29 |\u001b[32m INFO     \u001b[0m| helpers.helpers_analysis.mutual_exclusivity | dev\\mutex_counts_and_probs\\BRCA_P0CG48_UBC_PROBA_2021-11-20.csv is exported successfully.\n",
      "PROTEIN_GENE: P21860_ERBB3\n",
      "2021-11-20 02:50:29 |\u001b[32m INFO     \u001b[0m| helpers.helpers_analysis.mutual_exclusivity | Calculating Mutual Exclusivity over P21860's interactors ..\n",
      "2021-11-20 02:50:29 |\u001b[36m DEBUG    \u001b[0m| helpers.helpers_analysis.mutual_exclusivity | P21860 have 8 interactors:\n",
      "Counter({'Q00535:CDK5': 3, 'P04626:ERBB2': 3, 'Q15303:ERBB4': 3, 'Q05397:PTK2': 3, 'O60674:JAK2': 3, 'P43403:ZAP70': 3, 'P42681:TXK': 3, 'P00533:EGFR': 1})\n",
      "2021-11-20 02:50:29 |\u001b[32m INFO     \u001b[0m| helpers.helpers_analysis.mutual_exclusivity | Calculating Mutual Exclusivity over P21860's interactors ..\n",
      "2021-11-20 02:50:29 |\u001b[36m DEBUG    \u001b[0m| helpers.helpers_analysis.mutual_exclusivity | P21860 have 8 interactors:\n",
      "Counter({'Q00535:CDK5': 3, 'P04626:ERBB2': 3, 'Q15303:ERBB4': 3, 'Q05397:PTK2': 3, 'O60674:JAK2': 3, 'P43403:ZAP70': 3, 'P42681:TXK': 3, 'P00533:EGFR': 1})\n",
      "2021-11-20 02:50:29 |\u001b[36m DEBUG    \u001b[0m| helpers.helpers_analysis.mutual_exclusivity | Exporting Mutual Exclusivity BRCA P21860 ..\n",
      "2021-11-20 02:50:29 |\u001b[32m INFO     \u001b[0m| helpers.helpers_analysis.mutual_exclusivity | dev\\mutex_counts_and_probs\\BRCA_P21860_ERBB3_2021-11-20.csv is exported successfully.\n",
      "2021-11-20 02:50:29 |\u001b[32m INFO     \u001b[0m| helpers.helpers_analysis.mutual_exclusivity | Calculating Mutual Exclusivity over P21860's interactors ..\n",
      "2021-11-20 02:50:29 |\u001b[36m DEBUG    \u001b[0m| helpers.helpers_analysis.mutual_exclusivity | P21860 have 8 interactors:\n",
      "{'O60674:JAK2': 1.8599999999999999, 'P00533:EGFR': 0.6, 'P04626:ERBB2': 1.98, 'P42681:TXK': 2.0100000000000002, 'P43403:ZAP70': 1.7999999999999998, 'Q00535:CDK5': 1.7399999999999998, 'Q05397:PTK2': 2.04, 'Q15303:ERBB4': 1.6800000000000002}\n",
      "2021-11-20 02:50:29 |\u001b[36m DEBUG    \u001b[0m| helpers.helpers_analysis.mutual_exclusivity | Exporting Mutual Exclusivity BRCA P21860 ..\n",
      "2021-11-20 02:50:29 |\u001b[32m INFO     \u001b[0m| helpers.helpers_analysis.mutual_exclusivity | dev\\mutex_counts_and_probs\\BRCA_P21860_ERBB3_PROBA_2021-11-20.csv is exported successfully.\n",
      "PROTEIN_GENE: P42336_PIK3CA\n",
      "2021-11-20 02:50:29 |\u001b[32m INFO     \u001b[0m| helpers.helpers_analysis.mutual_exclusivity | Calculating Mutual Exclusivity over P42336's interactors ..\n",
      "2021-11-20 02:50:29 |\u001b[36m DEBUG    \u001b[0m| helpers.helpers_analysis.mutual_exclusivity | P42336 have 4 interactors:\n",
      "Counter({'P27986:PIK3R1': 124, 'O00459:PIK3R2': 124, 'P43403:ZAP70': 119, 'Q92569:PIK3R3': 5})\n",
      "2021-11-20 02:50:29 |\u001b[32m INFO     \u001b[0m| helpers.helpers_analysis.mutual_exclusivity | Calculating Mutual Exclusivity over P42336's interactors ..\n",
      "2021-11-20 02:50:29 |\u001b[36m DEBUG    \u001b[0m| helpers.helpers_analysis.mutual_exclusivity | P42336 have 4 interactors:\n",
      "Counter({'P27986:PIK3R1': 124, 'O00459:PIK3R2': 124, 'P43403:ZAP70': 119, 'Q92569:PIK3R3': 5})\n",
      "2021-11-20 02:50:30 |\u001b[36m DEBUG    \u001b[0m| helpers.helpers_analysis.mutual_exclusivity | Exporting Mutual Exclusivity BRCA P42336 ..\n",
      "2021-11-20 02:50:30 |\u001b[32m INFO     \u001b[0m| helpers.helpers_analysis.mutual_exclusivity | dev\\mutex_counts_and_probs\\BRCA_P42336_PIK3CA_2021-11-20.csv is exported successfully.\n",
      "2021-11-20 02:50:30 |\u001b[32m INFO     \u001b[0m| helpers.helpers_analysis.mutual_exclusivity | Calculating Mutual Exclusivity over P42336's interactors ..\n",
      "2021-11-20 02:50:30 |\u001b[36m DEBUG    \u001b[0m| helpers.helpers_analysis.mutual_exclusivity | P42336 have 4 interactors:\n",
      "{'O00459:PIK3R2': 74.36, 'P27986:PIK3R1': 75.5, 'P43403:ZAP70': 65.45, 'Q92569:PIK3R3': 3.15}\n",
      "2021-11-20 02:50:30 |\u001b[36m DEBUG    \u001b[0m| helpers.helpers_analysis.mutual_exclusivity | Exporting Mutual Exclusivity BRCA P42336 ..\n",
      "2021-11-20 02:50:30 |\u001b[32m INFO     \u001b[0m| helpers.helpers_analysis.mutual_exclusivity | dev\\mutex_counts_and_probs\\BRCA_P42336_PIK3CA_PROBA_2021-11-20.csv is exported successfully.\n",
      "PROTEIN_GENE: P45985_MAP2K4\n",
      "2021-11-20 02:50:30 |\u001b[32m INFO     \u001b[0m| helpers.helpers_analysis.mutual_exclusivity | Calculating Mutual Exclusivity over P45985's interactors ..\n",
      "2021-11-20 02:50:30 |\u001b[36m DEBUG    \u001b[0m| helpers.helpers_analysis.mutual_exclusivity | P45985 have 7 interactors:\n",
      "Counter({'Q5S007:LRRK2': 6, 'P52564:MAP2K6': 6, 'Q16539:MAPK14': 2, 'P00533:EGFR': 1, 'P35916:FLT4': 1, 'Q99558:MAP3K14': 1, 'P45984:MAPK9': 1})\n",
      "2021-11-20 02:50:30 |\u001b[32m INFO     \u001b[0m| helpers.helpers_analysis.mutual_exclusivity | Calculating Mutual Exclusivity over P45985's interactors ..\n",
      "2021-11-20 02:50:30 |\u001b[36m DEBUG    \u001b[0m| helpers.helpers_analysis.mutual_exclusivity | P45985 have 7 interactors:\n",
      "Counter({'Q5S007:LRRK2': 6, 'P52564:MAP2K6': 6, 'Q16539:MAPK14': 2, 'P00533:EGFR': 1, 'P35916:FLT4': 1, 'Q99558:MAP3K14': 1, 'P45984:MAPK9': 1})\n",
      "2021-11-20 02:50:30 |\u001b[36m DEBUG    \u001b[0m| helpers.helpers_analysis.mutual_exclusivity | Exporting Mutual Exclusivity BRCA P45985 ..\n",
      "2021-11-20 02:50:30 |\u001b[32m INFO     \u001b[0m| helpers.helpers_analysis.mutual_exclusivity | dev\\mutex_counts_and_probs\\BRCA_P45985_MAP2K4_2021-11-20.csv is exported successfully.\n",
      "2021-11-20 02:50:30 |\u001b[32m INFO     \u001b[0m| helpers.helpers_analysis.mutual_exclusivity | Calculating Mutual Exclusivity over P45985's interactors ..\n",
      "2021-11-20 02:50:30 |\u001b[36m DEBUG    \u001b[0m| helpers.helpers_analysis.mutual_exclusivity | P45985 have 7 interactors:\n",
      "{'P00533:EGFR': 0.88, 'P35916:FLT4': 0.66, 'P45984:MAPK9': 0.66, 'P52564:MAP2K6': 4.35, 'Q16539:MAPK14': 1.4500000000000002, 'Q5S007:LRRK2': 3.46, 'Q99558:MAP3K14': 0.81}\n",
      "2021-11-20 02:50:30 |\u001b[36m DEBUG    \u001b[0m| helpers.helpers_analysis.mutual_exclusivity | Exporting Mutual Exclusivity BRCA P45985 ..\n",
      "2021-11-20 02:50:30 |\u001b[32m INFO     \u001b[0m| helpers.helpers_analysis.mutual_exclusivity | dev\\mutex_counts_and_probs\\BRCA_P45985_MAP2K4_PROBA_2021-11-20.csv is exported successfully.\n",
      "PROTEIN_GENE: P62805_H4C1\n",
      "2021-11-20 02:50:30 |\u001b[32m INFO     \u001b[0m| helpers.helpers_analysis.mutual_exclusivity | Calculating Mutual Exclusivity over P62805's interactors ..\n",
      "2021-11-20 02:50:30 |\u001b[36m DEBUG    \u001b[0m| helpers.helpers_analysis.mutual_exclusivity | P62805 have 16 interactors:\n",
      "Counter({'P68431:H3C1': 8, 'P84243:H3-3A': 7, 'Q71DI3:H3C15': 7, 'Q16695:H3-4': 5, 'P49450:CENPA': 5, 'B4E1C1:nan': 4, 'Q9UER7:DAXX': 3, 'Q53F85:nan': 3, 'Q16514:TAF12': 2, 'P04908:H2AC4': 2, 'P0C0S5:H2AZ1': 2, 'Q16777:H2AC20': 2, 'P06899:H2BC11': 1, 'Q16778:H2BC21': 1, 'P16104:H2AX': 1, 'Q9Y294:ASF1A': 1})\n",
      "2021-11-20 02:50:30 |\u001b[32m INFO     \u001b[0m| helpers.helpers_analysis.mutual_exclusivity | Calculating Mutual Exclusivity over P62805's interactors ..\n",
      "2021-11-20 02:50:30 |\u001b[36m DEBUG    \u001b[0m| helpers.helpers_analysis.mutual_exclusivity | P62805 have 16 interactors:\n",
      "Counter({'P68431:H3C1': 8, 'P84243:H3-3A': 7, 'Q71DI3:H3C15': 7, 'Q16695:H3-4': 5, 'P49450:CENPA': 5, 'B4E1C1:nan': 4, 'Q9UER7:DAXX': 3, 'Q53F85:nan': 3, 'Q16514:TAF12': 2, 'P04908:H2AC4': 2, 'P0C0S5:H2AZ1': 2, 'Q16777:H2AC20': 2, 'P06899:H2BC11': 1, 'Q16778:H2BC21': 1, 'P16104:H2AX': 1, 'Q9Y294:ASF1A': 1})\n",
      "2021-11-20 02:50:30 |\u001b[36m DEBUG    \u001b[0m| helpers.helpers_analysis.mutual_exclusivity | Exporting Mutual Exclusivity BRCA P62805 ..\n",
      "2021-11-20 02:50:30 |\u001b[32m INFO     \u001b[0m| helpers.helpers_analysis.mutual_exclusivity | dev\\mutex_counts_and_probs\\BRCA_P62805_H4C1_2021-11-20.csv is exported successfully.\n",
      "2021-11-20 02:50:30 |\u001b[32m INFO     \u001b[0m| helpers.helpers_analysis.mutual_exclusivity | Calculating Mutual Exclusivity over P62805's interactors ..\n",
      "2021-11-20 02:50:30 |\u001b[36m DEBUG    \u001b[0m| helpers.helpers_analysis.mutual_exclusivity | P62805 have 16 interactors:\n",
      "{'B4E1C1:nan': 2.3899999999999997, 'P04908:H2AC4': 1.57, 'P06899:H2BC11': 0.86, 'P0C0S5:H2AZ1': 1.48, 'P16104:H2AX': 0.79, 'P49450:CENPA': 3.1, 'P68431:H3C1': 5.74, 'P84243:H3-3A': 4.29, 'Q16514:TAF12': 1.42, 'Q16695:H3-4': 3.14, 'Q16777:H2AC20': 1.6, 'Q16778:H2BC21': 0.95, 'Q53F85:nan': 1.6800000000000002, 'Q71DI3:H3C15': 4.34, 'Q9UER7:DAXX': 2.02, 'Q9Y294:ASF1A': 0.67}\n",
      "2021-11-20 02:50:31 |\u001b[36m DEBUG    \u001b[0m| helpers.helpers_analysis.mutual_exclusivity | Exporting Mutual Exclusivity BRCA P62805 ..\n",
      "2021-11-20 02:50:31 |\u001b[32m INFO     \u001b[0m| helpers.helpers_analysis.mutual_exclusivity | dev\\mutex_counts_and_probs\\BRCA_P62805_H4C1_PROBA_2021-11-20.csv is exported successfully.\n",
      "PROTEIN_GENE: P62807_H2BC4\n",
      "2021-11-20 02:50:31 |\u001b[32m INFO     \u001b[0m| helpers.helpers_analysis.mutual_exclusivity | Calculating Mutual Exclusivity over P62807's interactors ..\n",
      "2021-11-20 02:50:31 |\u001b[36m DEBUG    \u001b[0m| helpers.helpers_analysis.mutual_exclusivity | P62807 have 1 interactors:\n",
      "Counter({'P16104:H2AX': 4})\n",
      "2021-11-20 02:50:31 |\u001b[32m INFO     \u001b[0m| helpers.helpers_analysis.mutual_exclusivity | Calculating Mutual Exclusivity over P62807's interactors ..\n",
      "2021-11-20 02:50:31 |\u001b[36m DEBUG    \u001b[0m| helpers.helpers_analysis.mutual_exclusivity | P62807 have 1 interactors:\n",
      "Counter({'P16104:H2AX': 4})\n",
      "2021-11-20 02:50:31 |\u001b[36m DEBUG    \u001b[0m| helpers.helpers_analysis.mutual_exclusivity | Exporting Mutual Exclusivity BRCA P62807 ..\n",
      "2021-11-20 02:50:31 |\u001b[32m INFO     \u001b[0m| helpers.helpers_analysis.mutual_exclusivity | dev\\mutex_counts_and_probs\\BRCA_P62807_H2BC4_2021-11-20.csv is exported successfully.\n",
      "2021-11-20 02:50:31 |\u001b[32m INFO     \u001b[0m| helpers.helpers_analysis.mutual_exclusivity | Calculating Mutual Exclusivity over P62807's interactors ..\n",
      "2021-11-20 02:50:31 |\u001b[36m DEBUG    \u001b[0m| helpers.helpers_analysis.mutual_exclusivity | P62807 have 1 interactors:\n",
      "{'P16104:H2AX': 2.28}\n",
      "2021-11-20 02:50:31 |\u001b[36m DEBUG    \u001b[0m| helpers.helpers_analysis.mutual_exclusivity | Exporting Mutual Exclusivity BRCA P62807 ..\n",
      "2021-11-20 02:50:31 |\u001b[32m INFO     \u001b[0m| helpers.helpers_analysis.mutual_exclusivity | dev\\mutex_counts_and_probs\\BRCA_P62807_H2BC4_PROBA_2021-11-20.csv is exported successfully.\n",
      "PROTEIN_GENE: P68431_H3C1\n",
      "2021-11-20 02:50:31 |\u001b[32m INFO     \u001b[0m| helpers.helpers_analysis.mutual_exclusivity | Calculating Mutual Exclusivity over P68431's interactors ..\n",
      "2021-11-20 02:50:31 |\u001b[36m DEBUG    \u001b[0m| helpers.helpers_analysis.mutual_exclusivity | P68431 have 11 interactors:\n",
      "Counter({'P62805:H4C1': 6, 'Q9UER7:DAXX': 6, 'P04908:H2AC4': 4, 'P16104:H2AX': 4, 'P0C0S8:H2AC11': 4, 'O75367:MACROH2A1': 4, 'P0C0S5:H2AZ1': 4, 'Q16777:H2AC20': 3, 'Q9Y294:ASF1A': 3, 'Q9NVP2:ASF1B': 3, 'P49450:CENPA': 3})\n",
      "2021-11-20 02:50:31 |\u001b[32m INFO     \u001b[0m| helpers.helpers_analysis.mutual_exclusivity | Calculating Mutual Exclusivity over P68431's interactors ..\n",
      "2021-11-20 02:50:31 |\u001b[36m DEBUG    \u001b[0m| helpers.helpers_analysis.mutual_exclusivity | P68431 have 11 interactors:\n",
      "Counter({'P62805:H4C1': 6, 'Q9UER7:DAXX': 6, 'P04908:H2AC4': 4, 'P16104:H2AX': 4, 'P0C0S8:H2AC11': 4, 'O75367:MACROH2A1': 4, 'P0C0S5:H2AZ1': 4, 'Q16777:H2AC20': 3, 'Q9Y294:ASF1A': 3, 'Q9NVP2:ASF1B': 3, 'P49450:CENPA': 3})\n",
      "2021-11-20 02:50:31 |\u001b[36m DEBUG    \u001b[0m| helpers.helpers_analysis.mutual_exclusivity | Exporting Mutual Exclusivity BRCA P68431 ..\n",
      "2021-11-20 02:50:31 |\u001b[32m INFO     \u001b[0m| helpers.helpers_analysis.mutual_exclusivity | dev\\mutex_counts_and_probs\\BRCA_P68431_H3C1_2021-11-20.csv is exported successfully.\n",
      "2021-11-20 02:50:31 |\u001b[32m INFO     \u001b[0m| helpers.helpers_analysis.mutual_exclusivity | Calculating Mutual Exclusivity over P68431's interactors ..\n",
      "2021-11-20 02:50:31 |\u001b[36m DEBUG    \u001b[0m| helpers.helpers_analysis.mutual_exclusivity | P68431 have 11 interactors:\n",
      "{'O75367:MACROH2A1': 2.4699999999999998, 'P04908:H2AC4': 2.5100000000000002, 'P0C0S5:H2AZ1': 2.58, 'P0C0S8:H2AC11': 2.58, 'P16104:H2AX': 2.58, 'P49450:CENPA': 2.5700000000000003, 'P62805:H4C1': 3.6, 'Q16777:H2AC20': 1.96, 'Q9NVP2:ASF1B': 2.22, 'Q9UER7:DAXX': 3.87, 'Q9Y294:ASF1A': 2.04}\n",
      "2021-11-20 02:50:31 |\u001b[36m DEBUG    \u001b[0m| helpers.helpers_analysis.mutual_exclusivity | Exporting Mutual Exclusivity BRCA P68431 ..\n",
      "2021-11-20 02:50:31 |\u001b[32m INFO     \u001b[0m| helpers.helpers_analysis.mutual_exclusivity | dev\\mutex_counts_and_probs\\BRCA_P68431_H3C1_PROBA_2021-11-20.csv is exported successfully.\n",
      "PROTEIN_GENE: Q13951_CBFB\n",
      "2021-11-20 02:50:31 |\u001b[32m INFO     \u001b[0m| helpers.helpers_analysis.mutual_exclusivity | Calculating Mutual Exclusivity over Q13951's interactors ..\n",
      "2021-11-20 02:50:31 |\u001b[36m DEBUG    \u001b[0m| helpers.helpers_analysis.mutual_exclusivity | Q13951 have 2 interactors:\n",
      "Counter({'Q13950:RUNX2': 4, 'Q13761:RUNX3': 4})\n",
      "2021-11-20 02:50:31 |\u001b[32m INFO     \u001b[0m| helpers.helpers_analysis.mutual_exclusivity | Calculating Mutual Exclusivity over Q13951's interactors ..\n",
      "2021-11-20 02:50:31 |\u001b[36m DEBUG    \u001b[0m| helpers.helpers_analysis.mutual_exclusivity | Q13951 have 2 interactors:\n",
      "Counter({'Q13950:RUNX2': 4, 'Q13761:RUNX3': 4})\n",
      "2021-11-20 02:50:31 |\u001b[36m DEBUG    \u001b[0m| helpers.helpers_analysis.mutual_exclusivity | Exporting Mutual Exclusivity BRCA Q13951 ..\n",
      "2021-11-20 02:50:31 |\u001b[32m INFO     \u001b[0m| helpers.helpers_analysis.mutual_exclusivity | dev\\mutex_counts_and_probs\\BRCA_Q13951_CBFB_2021-11-20.csv is exported successfully.\n",
      "2021-11-20 02:50:31 |\u001b[32m INFO     \u001b[0m| helpers.helpers_analysis.mutual_exclusivity | Calculating Mutual Exclusivity over Q13951's interactors ..\n",
      "2021-11-20 02:50:31 |\u001b[36m DEBUG    \u001b[0m| helpers.helpers_analysis.mutual_exclusivity | Q13951 have 2 interactors:\n",
      "{'Q13761:RUNX3': 2.5300000000000002, 'Q13950:RUNX2': 2.6}\n",
      "2021-11-20 02:50:31 |\u001b[36m DEBUG    \u001b[0m| helpers.helpers_analysis.mutual_exclusivity | Exporting Mutual Exclusivity BRCA Q13951 ..\n",
      "2021-11-20 02:50:31 |\u001b[32m INFO     \u001b[0m| helpers.helpers_analysis.mutual_exclusivity | dev\\mutex_counts_and_probs\\BRCA_Q13951_CBFB_PROBA_2021-11-20.csv is exported successfully.\n",
      "PROTEIN_GENE: Q14790_CASP8\n",
      "2021-11-20 02:50:31 |\u001b[32m INFO     \u001b[0m| helpers.helpers_analysis.mutual_exclusivity | Calculating Mutual Exclusivity over Q14790's interactors ..\n",
      "2021-11-20 02:50:31 |\u001b[36m DEBUG    \u001b[0m| helpers.helpers_analysis.mutual_exclusivity | Q14790 have 5 interactors:\n",
      "Counter({'P42575:CASP2': 2, 'P49662:CASP4': 1, 'P55211:CASP9': 1, 'P55210:CASP7': 1, 'B4DWA2:nan': 1})\n",
      "2021-11-20 02:50:32 |\u001b[32m INFO     \u001b[0m| helpers.helpers_analysis.mutual_exclusivity | Calculating Mutual Exclusivity over Q14790's interactors ..\n",
      "2021-11-20 02:50:32 |\u001b[36m DEBUG    \u001b[0m| helpers.helpers_analysis.mutual_exclusivity | Q14790 have 5 interactors:\n",
      "Counter({'P42575:CASP2': 2, 'P49662:CASP4': 1, 'P55211:CASP9': 1, 'P55210:CASP7': 1, 'B4DWA2:nan': 1})\n",
      "2021-11-20 02:50:32 |\u001b[36m DEBUG    \u001b[0m| helpers.helpers_analysis.mutual_exclusivity | Exporting Mutual Exclusivity BRCA Q14790 ..\n",
      "2021-11-20 02:50:32 |\u001b[32m INFO     \u001b[0m| helpers.helpers_analysis.mutual_exclusivity | dev\\mutex_counts_and_probs\\BRCA_Q14790_CASP8_2021-11-20.csv is exported successfully.\n",
      "2021-11-20 02:50:32 |\u001b[32m INFO     \u001b[0m| helpers.helpers_analysis.mutual_exclusivity | Calculating Mutual Exclusivity over Q14790's interactors ..\n",
      "2021-11-20 02:50:32 |\u001b[36m DEBUG    \u001b[0m| helpers.helpers_analysis.mutual_exclusivity | Q14790 have 5 interactors:\n",
      "{'B4DWA2:nan': 0.75, 'P42575:CASP2': 1.1099999999999999, 'P49662:CASP4': 0.53, 'P55210:CASP7': 0.8, 'P55211:CASP9': 0.61}\n",
      "2021-11-20 02:50:32 |\u001b[36m DEBUG    \u001b[0m| helpers.helpers_analysis.mutual_exclusivity | Exporting Mutual Exclusivity BRCA Q14790 ..\n",
      "2021-11-20 02:50:32 |\u001b[32m INFO     \u001b[0m| helpers.helpers_analysis.mutual_exclusivity | dev\\mutex_counts_and_probs\\BRCA_Q14790_CASP8_PROBA_2021-11-20.csv is exported successfully.\n",
      "Completed.\n"
     ]
    }
   ],
   "source": [
    "# BRCA\n",
    "export_mutex_data_for_selected_genes(BRCA_PRELIMINARY_DATA_PATH, brca_mutex)"
   ]
  },
  {
   "cell_type": "code",
   "execution_count": 17,
   "id": "6253fdc6-7f81-4fd5-ae71-0ef5db4a7652",
   "metadata": {
    "scrolled": true,
    "tags": []
   },
   "outputs": [
    {
     "name": "stdout",
     "output_type": "stream",
     "text": [
      "PROTEIN_GENE: P04637_TP53\n",
      "2021-11-20 02:50:33 |\u001b[32m INFO     \u001b[0m| helpers.helpers_analysis.mutual_exclusivity | Calculating Mutual Exclusivity over P04637's interactors ..\n",
      "2021-11-20 02:50:33 |\u001b[36m DEBUG    \u001b[0m| helpers.helpers_analysis.mutual_exclusivity | P04637 have 17 interactors:\n",
      "Counter({'Q13625:TP53BP2': 30, 'Q96KQ4:PPP1R13B': 30, 'P62993:GRB2': 19, 'Q06187:BTK': 18, 'P07948:LYN': 18, 'Q8WUF5:PPP1R13L': 17, 'Q9H3D4:TP63': 13, 'H2EHT1:TP53': 11, 'K7PPA8:TP53': 11, 'Q96KQ7:EHMT2': 8, 'O15350:TP73': 6, 'O75832:PSMD10': 3, 'Q99466:NOTCH4': 2, 'Q9H9B1:EHMT1': 2, 'Q99728:BARD1': 2, 'Q9ULT8:HECTD1': 2, 'Q53GA5:nan': 1})\n",
      "2021-11-20 02:50:33 |\u001b[32m INFO     \u001b[0m| helpers.helpers_analysis.mutual_exclusivity | Calculating Mutual Exclusivity over P04637's interactors ..\n",
      "2021-11-20 02:50:33 |\u001b[36m DEBUG    \u001b[0m| helpers.helpers_analysis.mutual_exclusivity | P04637 have 17 interactors:\n",
      "Counter({'Q13625:TP53BP2': 30, 'Q96KQ4:PPP1R13B': 30, 'P62993:GRB2': 19, 'Q06187:BTK': 18, 'P07948:LYN': 18, 'Q8WUF5:PPP1R13L': 17, 'Q9H3D4:TP63': 13, 'H2EHT1:TP53': 11, 'K7PPA8:TP53': 11, 'Q96KQ7:EHMT2': 8, 'O15350:TP73': 6, 'O75832:PSMD10': 3, 'Q99466:NOTCH4': 2, 'Q9H9B1:EHMT1': 2, 'Q99728:BARD1': 2, 'Q9ULT8:HECTD1': 2, 'Q53GA5:nan': 1})\n",
      "2021-11-20 02:50:33 |\u001b[36m DEBUG    \u001b[0m| helpers.helpers_analysis.mutual_exclusivity | Exporting Mutual Exclusivity ESCA P04637 ..\n",
      "2021-11-20 02:50:33 |\u001b[32m INFO     \u001b[0m| helpers.helpers_analysis.mutual_exclusivity | dev\\mutex_counts_and_probs\\ESCA_P04637_TP53_2021-11-20.csv is exported successfully.\n",
      "2021-11-20 02:50:33 |\u001b[32m INFO     \u001b[0m| helpers.helpers_analysis.mutual_exclusivity | Calculating Mutual Exclusivity over P04637's interactors ..\n",
      "2021-11-20 02:50:33 |\u001b[36m DEBUG    \u001b[0m| helpers.helpers_analysis.mutual_exclusivity | P04637 have 17 interactors:\n",
      "{'H2EHT1:TP53': 8.55, 'K7PPA8:TP53': 8.56, 'O15350:TP73': 4.65, 'O75832:PSMD10': 2.1, 'P07948:LYN': 11.69, 'P62993:GRB2': 14.02, 'Q06187:BTK': 14.02, 'Q13625:TP53BP2': 24.0, 'Q53GA5:nan': 0.65, 'Q8WUF5:PPP1R13L': 11.969999999999999, 'Q96KQ4:PPP1R13B': 22.84, 'Q96KQ7:EHMT2': 5.21, 'Q99466:NOTCH4': 1.2, 'Q99728:BARD1': 1.38, 'Q9H3D4:TP63': 10.27, 'Q9H9B1:EHMT1': 1.37, 'Q9ULT8:HECTD1': 1.46}\n",
      "2021-11-20 02:50:33 |\u001b[36m DEBUG    \u001b[0m| helpers.helpers_analysis.mutual_exclusivity | Exporting Mutual Exclusivity ESCA P04637 ..\n",
      "2021-11-20 02:50:33 |\u001b[32m INFO     \u001b[0m| helpers.helpers_analysis.mutual_exclusivity | dev\\mutex_counts_and_probs\\ESCA_P04637_TP53_PROBA_2021-11-20.csv is exported successfully.\n",
      "PROTEIN_GENE: P62805_H4C1\n",
      "2021-11-20 02:50:33 |\u001b[32m INFO     \u001b[0m| helpers.helpers_analysis.mutual_exclusivity | Calculating Mutual Exclusivity over P62805's interactors ..\n",
      "2021-11-20 02:50:33 |\u001b[36m DEBUG    \u001b[0m| helpers.helpers_analysis.mutual_exclusivity | P62805 have 11 interactors:\n",
      "Counter({'P68431:H3C1': 3, 'Q9UER7:DAXX': 3, 'Q53F85:nan': 3, 'Q16514:TAF12': 2, 'P06899:H2BC11': 2, 'Q16778:H2BC21': 2, 'P84243:H3-3A': 2, 'Q16695:H3-4': 2, 'Q71DI3:H3C15': 2, 'P49450:CENPA': 2, 'B4E1C1:nan': 2})\n",
      "2021-11-20 02:50:33 |\u001b[32m INFO     \u001b[0m| helpers.helpers_analysis.mutual_exclusivity | Calculating Mutual Exclusivity over P62805's interactors ..\n",
      "2021-11-20 02:50:33 |\u001b[36m DEBUG    \u001b[0m| helpers.helpers_analysis.mutual_exclusivity | P62805 have 11 interactors:\n",
      "Counter({'P68431:H3C1': 3, 'Q9UER7:DAXX': 3, 'Q53F85:nan': 3, 'Q16514:TAF12': 2, 'P06899:H2BC11': 2, 'Q16778:H2BC21': 2, 'P84243:H3-3A': 2, 'Q16695:H3-4': 2, 'Q71DI3:H3C15': 2, 'P49450:CENPA': 2, 'B4E1C1:nan': 2})\n",
      "2021-11-20 02:50:34 |\u001b[36m DEBUG    \u001b[0m| helpers.helpers_analysis.mutual_exclusivity | Exporting Mutual Exclusivity ESCA P62805 ..\n",
      "2021-11-20 02:50:34 |\u001b[32m INFO     \u001b[0m| helpers.helpers_analysis.mutual_exclusivity | dev\\mutex_counts_and_probs\\ESCA_P62805_H4C1_2021-11-20.csv is exported successfully.\n",
      "2021-11-20 02:50:34 |\u001b[32m INFO     \u001b[0m| helpers.helpers_analysis.mutual_exclusivity | Calculating Mutual Exclusivity over P62805's interactors ..\n",
      "2021-11-20 02:50:34 |\u001b[36m DEBUG    \u001b[0m| helpers.helpers_analysis.mutual_exclusivity | P62805 have 11 interactors:\n",
      "{'B4E1C1:nan': 1.1, 'P06899:H2BC11': 1.79, 'P49450:CENPA': 1.37, 'P68431:H3C1': 2.17, 'P84243:H3-3A': 1.45, 'Q16514:TAF12': 1.4100000000000001, 'Q16695:H3-4': 1.45, 'Q16778:H2BC21': 1.83, 'Q53F85:nan': 1.78, 'Q71DI3:H3C15': 1.3900000000000001, 'Q9UER7:DAXX': 1.75}\n",
      "2021-11-20 02:50:34 |\u001b[36m DEBUG    \u001b[0m| helpers.helpers_analysis.mutual_exclusivity | Exporting Mutual Exclusivity ESCA P62805 ..\n",
      "2021-11-20 02:50:34 |\u001b[32m INFO     \u001b[0m| helpers.helpers_analysis.mutual_exclusivity | dev\\mutex_counts_and_probs\\ESCA_P62805_H4C1_PROBA_2021-11-20.csv is exported successfully.\n",
      "Completed.\n"
     ]
    }
   ],
   "source": [
    "# ESCA\n",
    "export_mutex_data_for_selected_genes(ESCA_PRELIMINARY_DATA_PATH, esca_mutex)"
   ]
  },
  {
   "cell_type": "code",
   "execution_count": 18,
   "id": "b68b7247-d2eb-40d3-8628-9e3a1a3617d6",
   "metadata": {
    "scrolled": true,
    "tags": []
   },
   "outputs": [
    {
     "name": "stdout",
     "output_type": "stream",
     "text": [
      "PROTEIN_GENE: P04637_TP53\n",
      "2021-11-20 02:50:37 |\u001b[32m INFO     \u001b[0m| helpers.helpers_analysis.mutual_exclusivity | Calculating Mutual Exclusivity over P04637's interactors ..\n",
      "2021-11-20 02:50:37 |\u001b[36m DEBUG    \u001b[0m| helpers.helpers_analysis.mutual_exclusivity | P04637 have 19 interactors:\n",
      "Counter({'Q13625:TP53BP2': 30, 'Q96KQ4:PPP1R13B': 30, 'P62993:GRB2': 22, 'P07948:LYN': 19, 'Q9H3D4:TP63': 18, 'Q8WUF5:PPP1R13L': 18, 'Q06187:BTK': 18, 'H2EHT1:TP53': 14, 'K7PPA8:TP53': 14, 'O15350:TP73': 7, 'Q96KQ7:EHMT2': 6, 'Q9H9B1:EHMT1': 5, 'Q99728:BARD1': 5, 'O75832:PSMD10': 5, 'Q9ULT8:HECTD1': 5, 'Q99466:NOTCH4': 2, 'Q9GZV1:ANKRD2': 1, 'P25963:NFKBIA': 1, 'Q53GA5:nan': 1})\n",
      "2021-11-20 02:50:37 |\u001b[32m INFO     \u001b[0m| helpers.helpers_analysis.mutual_exclusivity | Calculating Mutual Exclusivity over P04637's interactors ..\n",
      "2021-11-20 02:50:37 |\u001b[36m DEBUG    \u001b[0m| helpers.helpers_analysis.mutual_exclusivity | P04637 have 19 interactors:\n",
      "Counter({'Q13625:TP53BP2': 30, 'Q96KQ4:PPP1R13B': 30, 'P62993:GRB2': 22, 'P07948:LYN': 19, 'Q9H3D4:TP63': 18, 'Q8WUF5:PPP1R13L': 18, 'Q06187:BTK': 18, 'H2EHT1:TP53': 14, 'K7PPA8:TP53': 14, 'O15350:TP73': 7, 'Q96KQ7:EHMT2': 6, 'Q9H9B1:EHMT1': 5, 'Q99728:BARD1': 5, 'O75832:PSMD10': 5, 'Q9ULT8:HECTD1': 5, 'Q99466:NOTCH4': 2, 'Q9GZV1:ANKRD2': 1, 'P25963:NFKBIA': 1, 'Q53GA5:nan': 1})\n",
      "2021-11-20 02:50:37 |\u001b[36m DEBUG    \u001b[0m| helpers.helpers_analysis.mutual_exclusivity | Exporting Mutual Exclusivity GBM P04637 ..\n",
      "2021-11-20 02:50:37 |\u001b[32m INFO     \u001b[0m| helpers.helpers_analysis.mutual_exclusivity | dev\\mutex_counts_and_probs\\GBM_P04637_TP53_2021-11-20.csv is exported successfully.\n",
      "2021-11-20 02:50:37 |\u001b[32m INFO     \u001b[0m| helpers.helpers_analysis.mutual_exclusivity | Calculating Mutual Exclusivity over P04637's interactors ..\n",
      "2021-11-20 02:50:37 |\u001b[36m DEBUG    \u001b[0m| helpers.helpers_analysis.mutual_exclusivity | P04637 have 19 interactors:\n",
      "{'H2EHT1:TP53': 11.06, 'K7PPA8:TP53': 11.120000000000001, 'O15350:TP73': 5.34, 'O75832:PSMD10': 3.68, 'P07948:LYN': 13.03, 'P25963:NFKBIA': 0.63, 'P62993:GRB2': 16.43, 'Q06187:BTK': 13.98, 'Q13625:TP53BP2': 24.52, 'Q53GA5:nan': 0.64, 'Q8WUF5:PPP1R13L': 12.94, 'Q96KQ4:PPP1R13B': 23.21, 'Q96KQ7:EHMT2': 3.9000000000000004, 'Q99466:NOTCH4': 1.4100000000000001, 'Q99728:BARD1': 3.5700000000000003, 'Q9GZV1:ANKRD2': 0.62, 'Q9H3D4:TP63': 13.91, 'Q9H9B1:EHMT1': 3.37, 'Q9ULT8:HECTD1': 3.45}\n",
      "2021-11-20 02:50:37 |\u001b[36m DEBUG    \u001b[0m| helpers.helpers_analysis.mutual_exclusivity | Exporting Mutual Exclusivity GBM P04637 ..\n",
      "2021-11-20 02:50:37 |\u001b[32m INFO     \u001b[0m| helpers.helpers_analysis.mutual_exclusivity | dev\\mutex_counts_and_probs\\GBM_P04637_TP53_PROBA_2021-11-20.csv is exported successfully.\n",
      "Completed.\n"
     ]
    }
   ],
   "source": [
    "# GBM\n",
    "export_mutex_data_for_selected_genes(GBM_PRELIMINARY_DATA_PATH, gbm_mutex)"
   ]
  },
  {
   "cell_type": "code",
   "execution_count": 19,
   "id": "5e185aa5-f22c-403e-8e95-a12d197c2f04",
   "metadata": {
    "scrolled": true,
    "tags": []
   },
   "outputs": [
    {
     "name": "stdout",
     "output_type": "stream",
     "text": [
      "PROTEIN_GENE: P01112_HRAS\n",
      "2021-11-20 02:50:40 |\u001b[32m INFO     \u001b[0m| helpers.helpers_analysis.mutual_exclusivity | Calculating Mutual Exclusivity over P01112's interactors ..\n",
      "2021-11-20 02:50:40 |\u001b[36m DEBUG    \u001b[0m| helpers.helpers_analysis.mutual_exclusivity | P01112 have 18 interactors:\n",
      "Counter({'Q07889:SOS1': 25, 'Q07890:SOS2': 25, 'G5E9C8:SOS1': 21, 'Q13972:RASGRF1': 16, 'Q9UJ41:RABGEF1': 15, 'Q13671:RIN1': 12, 'Q8IV61:RASGRP3': 11, 'Q9NZL6:RGL1': 9, 'Q12967:RALGDS': 3, 'Q15811:ITSN1': 3, 'P15498:VAV1': 3, 'Q13905:RAPGEF1': 3, 'Q13009:TIAM1': 3, 'Q9P212:PLCE1': 3, 'P10398:ARAF': 1, 'P08069:IGF1R': 1, 'P06239:LCK': 1, 'O95267:RASGRP1': 1})\n",
      "2021-11-20 02:50:41 |\u001b[32m INFO     \u001b[0m| helpers.helpers_analysis.mutual_exclusivity | Calculating Mutual Exclusivity over P01112's interactors ..\n",
      "2021-11-20 02:50:41 |\u001b[36m DEBUG    \u001b[0m| helpers.helpers_analysis.mutual_exclusivity | P01112 have 18 interactors:\n",
      "Counter({'Q07889:SOS1': 25, 'Q07890:SOS2': 25, 'G5E9C8:SOS1': 21, 'Q13972:RASGRF1': 16, 'Q9UJ41:RABGEF1': 15, 'Q13671:RIN1': 12, 'Q8IV61:RASGRP3': 11, 'Q9NZL6:RGL1': 9, 'Q12967:RALGDS': 3, 'Q15811:ITSN1': 3, 'P15498:VAV1': 3, 'Q13905:RAPGEF1': 3, 'Q13009:TIAM1': 3, 'Q9P212:PLCE1': 3, 'P10398:ARAF': 1, 'P08069:IGF1R': 1, 'P06239:LCK': 1, 'O95267:RASGRP1': 1})\n",
      "2021-11-20 02:50:41 |\u001b[36m DEBUG    \u001b[0m| helpers.helpers_analysis.mutual_exclusivity | Exporting Mutual Exclusivity HNSC P01112 ..\n",
      "2021-11-20 02:50:41 |\u001b[32m INFO     \u001b[0m| helpers.helpers_analysis.mutual_exclusivity | dev\\mutex_counts_and_probs\\HNSC_P01112_HRAS_2021-11-20.csv is exported successfully.\n",
      "2021-11-20 02:50:41 |\u001b[32m INFO     \u001b[0m| helpers.helpers_analysis.mutual_exclusivity | Calculating Mutual Exclusivity over P01112's interactors ..\n",
      "2021-11-20 02:50:41 |\u001b[36m DEBUG    \u001b[0m| helpers.helpers_analysis.mutual_exclusivity | P01112 have 18 interactors:\n",
      "{'G5E9C8:SOS1': 14.9, 'O95267:RASGRP1': 0.52, 'P06239:LCK': 0.76, 'P08069:IGF1R': 0.72, 'P10398:ARAF': 0.65, 'P15498:VAV1': 2.16, 'Q07889:SOS1': 16.84, 'Q07890:SOS2': 15.36, 'Q12967:RALGDS': 1.56, 'Q13009:TIAM1': 1.8900000000000001, 'Q13671:RIN1': 6.84, 'Q13905:RAPGEF1': 1.71, 'Q13972:RASGRF1': 8.63, 'Q15811:ITSN1': 1.83, 'Q8IV61:RASGRP3': 5.87, 'Q9NZL6:RGL1': 4.82, 'Q9P212:PLCE1': 1.6500000000000001, 'Q9UJ41:RABGEF1': 10.01}\n",
      "2021-11-20 02:50:41 |\u001b[36m DEBUG    \u001b[0m| helpers.helpers_analysis.mutual_exclusivity | Exporting Mutual Exclusivity HNSC P01112 ..\n",
      "2021-11-20 02:50:41 |\u001b[32m INFO     \u001b[0m| helpers.helpers_analysis.mutual_exclusivity | dev\\mutex_counts_and_probs\\HNSC_P01112_HRAS_PROBA_2021-11-20.csv is exported successfully.\n",
      "PROTEIN_GENE: P04637_TP53\n",
      "2021-11-20 02:50:41 |\u001b[32m INFO     \u001b[0m| helpers.helpers_analysis.mutual_exclusivity | Calculating Mutual Exclusivity over P04637's interactors ..\n",
      "2021-11-20 02:50:41 |\u001b[36m DEBUG    \u001b[0m| helpers.helpers_analysis.mutual_exclusivity | P04637 have 16 interactors:\n",
      "Counter({'Q96KQ4:PPP1R13B': 49, 'Q13625:TP53BP2': 48, 'P62993:GRB2': 36, 'Q06187:BTK': 32, 'Q8WUF5:PPP1R13L': 28, 'Q9H3D4:TP63': 26, 'P07948:LYN': 23, 'H2EHT1:TP53': 22, 'K7PPA8:TP53': 22, 'Q96KQ7:EHMT2': 18, 'O15350:TP73': 15, 'Q9H9B1:EHMT1': 9, 'Q99728:BARD1': 9, 'O75832:PSMD10': 9, 'Q9ULT8:HECTD1': 9, 'Q99466:NOTCH4': 1})\n",
      "2021-11-20 02:50:41 |\u001b[32m INFO     \u001b[0m| helpers.helpers_analysis.mutual_exclusivity | Calculating Mutual Exclusivity over P04637's interactors ..\n",
      "2021-11-20 02:50:41 |\u001b[36m DEBUG    \u001b[0m| helpers.helpers_analysis.mutual_exclusivity | P04637 have 16 interactors:\n",
      "Counter({'Q96KQ4:PPP1R13B': 49, 'Q13625:TP53BP2': 48, 'P62993:GRB2': 36, 'Q06187:BTK': 32, 'Q8WUF5:PPP1R13L': 28, 'Q9H3D4:TP63': 26, 'P07948:LYN': 23, 'H2EHT1:TP53': 22, 'K7PPA8:TP53': 22, 'Q96KQ7:EHMT2': 18, 'O15350:TP73': 15, 'Q9H9B1:EHMT1': 9, 'Q99728:BARD1': 9, 'O75832:PSMD10': 9, 'Q9ULT8:HECTD1': 9, 'Q99466:NOTCH4': 1})\n",
      "2021-11-20 02:50:42 |\u001b[36m DEBUG    \u001b[0m| helpers.helpers_analysis.mutual_exclusivity | Exporting Mutual Exclusivity HNSC P04637 ..\n",
      "2021-11-20 02:50:42 |\u001b[32m INFO     \u001b[0m| helpers.helpers_analysis.mutual_exclusivity | dev\\mutex_counts_and_probs\\HNSC_P04637_TP53_2021-11-20.csv is exported successfully.\n",
      "2021-11-20 02:50:42 |\u001b[32m INFO     \u001b[0m| helpers.helpers_analysis.mutual_exclusivity | Calculating Mutual Exclusivity over P04637's interactors ..\n",
      "2021-11-20 02:50:42 |\u001b[36m DEBUG    \u001b[0m| helpers.helpers_analysis.mutual_exclusivity | P04637 have 16 interactors:\n",
      "{'H2EHT1:TP53': 16.68, 'K7PPA8:TP53': 16.54, 'O15350:TP73': 11.72, 'O75832:PSMD10': 6.54, 'P07948:LYN': 16.15, 'P62993:GRB2': 26.22, 'Q06187:BTK': 24.8, 'Q13625:TP53BP2': 38.95, 'Q8WUF5:PPP1R13L': 20.93, 'Q96KQ4:PPP1R13B': 38.51, 'Q96KQ7:EHMT2': 11.85, 'Q99466:NOTCH4': 0.57, 'Q99728:BARD1': 6.34, 'Q9H3D4:TP63': 19.78, 'Q9H9B1:EHMT1': 6.22, 'Q9ULT8:HECTD1': 6.38}\n",
      "2021-11-20 02:50:42 |\u001b[36m DEBUG    \u001b[0m| helpers.helpers_analysis.mutual_exclusivity | Exporting Mutual Exclusivity HNSC P04637 ..\n",
      "2021-11-20 02:50:42 |\u001b[32m INFO     \u001b[0m| helpers.helpers_analysis.mutual_exclusivity | dev\\mutex_counts_and_probs\\HNSC_P04637_TP53_PROBA_2021-11-20.csv is exported successfully.\n",
      "PROTEIN_GENE: P05129_PRKCG\n",
      "2021-11-20 02:50:42 |\u001b[32m INFO     \u001b[0m| helpers.helpers_analysis.mutual_exclusivity | Calculating Mutual Exclusivity over P05129's interactors ..\n",
      "2021-11-20 02:50:42 |\u001b[36m DEBUG    \u001b[0m| helpers.helpers_analysis.mutual_exclusivity | P05129 have 11 interactors:\n",
      "Counter({'P10398:ARAF': 1, 'P22694:PRKACB': 1, 'P49840:GSK3A': 1, 'P60953:CDC42': 1, 'Q9P2D0:IBTK': 1, 'P04049:RAF1': 1, 'Q05397:PTK2': 1, 'Q14289:PTK2B': 1, 'P51817:PRKX': 1, 'P51178:PLCD1': 1, 'Q9BRC7:PLCD4': 1})\n",
      "2021-11-20 02:50:42 |\u001b[32m INFO     \u001b[0m| helpers.helpers_analysis.mutual_exclusivity | Calculating Mutual Exclusivity over P05129's interactors ..\n",
      "2021-11-20 02:50:42 |\u001b[36m DEBUG    \u001b[0m| helpers.helpers_analysis.mutual_exclusivity | P05129 have 11 interactors:\n",
      "Counter({'P10398:ARAF': 1, 'P22694:PRKACB': 1, 'P49840:GSK3A': 1, 'P60953:CDC42': 1, 'Q9P2D0:IBTK': 1, 'P04049:RAF1': 1, 'Q05397:PTK2': 1, 'Q14289:PTK2B': 1, 'P51817:PRKX': 1, 'P51178:PLCD1': 1, 'Q9BRC7:PLCD4': 1})\n",
      "2021-11-20 02:50:42 |\u001b[36m DEBUG    \u001b[0m| helpers.helpers_analysis.mutual_exclusivity | Exporting Mutual Exclusivity HNSC P05129 ..\n",
      "2021-11-20 02:50:42 |\u001b[32m INFO     \u001b[0m| helpers.helpers_analysis.mutual_exclusivity | dev\\mutex_counts_and_probs\\HNSC_P05129_PRKCG_2021-11-20.csv is exported successfully.\n",
      "2021-11-20 02:50:42 |\u001b[32m INFO     \u001b[0m| helpers.helpers_analysis.mutual_exclusivity | Calculating Mutual Exclusivity over P05129's interactors ..\n",
      "2021-11-20 02:50:42 |\u001b[36m DEBUG    \u001b[0m| helpers.helpers_analysis.mutual_exclusivity | P05129 have 11 interactors:\n",
      "{'P04049:RAF1': 0.55, 'P10398:ARAF': 0.58, 'P22694:PRKACB': 0.71, 'P49840:GSK3A': 0.7, 'P51178:PLCD1': 0.71, 'P51817:PRKX': 0.71, 'P60953:CDC42': 0.56, 'Q05397:PTK2': 0.57, 'Q14289:PTK2B': 0.57, 'Q9BRC7:PLCD4': 0.62, 'Q9P2D0:IBTK': 0.53}\n",
      "2021-11-20 02:50:42 |\u001b[36m DEBUG    \u001b[0m| helpers.helpers_analysis.mutual_exclusivity | Exporting Mutual Exclusivity HNSC P05129 ..\n",
      "2021-11-20 02:50:42 |\u001b[32m INFO     \u001b[0m| helpers.helpers_analysis.mutual_exclusivity | dev\\mutex_counts_and_probs\\HNSC_P05129_PRKCG_PROBA_2021-11-20.csv is exported successfully.\n",
      "PROTEIN_GENE: P15056_BRAF\n",
      "2021-11-20 02:50:42 |\u001b[32m INFO     \u001b[0m| helpers.helpers_analysis.mutual_exclusivity | Calculating Mutual Exclusivity over P15056's interactors ..\n",
      "2021-11-20 02:50:42 |\u001b[36m DEBUG    \u001b[0m| helpers.helpers_analysis.mutual_exclusivity | P15056 have 5 interactors:\n",
      "Counter({'Q13177:PAK2': 3, 'P17252:PRKCA': 2, 'P53667:LIMK1': 2, 'P36507:MAP2K2': 1, 'A4QPA9:MAP2K1': 1})\n",
      "2021-11-20 02:50:42 |\u001b[32m INFO     \u001b[0m| helpers.helpers_analysis.mutual_exclusivity | Calculating Mutual Exclusivity over P15056's interactors ..\n",
      "2021-11-20 02:50:42 |\u001b[36m DEBUG    \u001b[0m| helpers.helpers_analysis.mutual_exclusivity | P15056 have 5 interactors:\n",
      "Counter({'Q13177:PAK2': 3, 'P17252:PRKCA': 2, 'P53667:LIMK1': 2, 'P36507:MAP2K2': 1, 'A4QPA9:MAP2K1': 1})\n",
      "2021-11-20 02:50:42 |\u001b[36m DEBUG    \u001b[0m| helpers.helpers_analysis.mutual_exclusivity | Exporting Mutual Exclusivity HNSC P15056 ..\n",
      "2021-11-20 02:50:42 |\u001b[32m INFO     \u001b[0m| helpers.helpers_analysis.mutual_exclusivity | dev\\mutex_counts_and_probs\\HNSC_P15056_BRAF_2021-11-20.csv is exported successfully.\n",
      "2021-11-20 02:50:42 |\u001b[32m INFO     \u001b[0m| helpers.helpers_analysis.mutual_exclusivity | Calculating Mutual Exclusivity over P15056's interactors ..\n",
      "2021-11-20 02:50:42 |\u001b[36m DEBUG    \u001b[0m| helpers.helpers_analysis.mutual_exclusivity | P15056 have 5 interactors:\n",
      "{'A4QPA9:MAP2K1': 0.61, 'P17252:PRKCA': 1.4300000000000002, 'P36507:MAP2K2': 0.61, 'P53667:LIMK1': 1.07, 'Q13177:PAK2': 2.08}\n",
      "2021-11-20 02:50:43 |\u001b[36m DEBUG    \u001b[0m| helpers.helpers_analysis.mutual_exclusivity | Exporting Mutual Exclusivity HNSC P15056 ..\n",
      "2021-11-20 02:50:43 |\u001b[32m INFO     \u001b[0m| helpers.helpers_analysis.mutual_exclusivity | dev\\mutex_counts_and_probs\\HNSC_P15056_BRAF_PROBA_2021-11-20.csv is exported successfully.\n",
      "PROTEIN_GENE: P22607_FGFR3\n",
      "2021-11-20 02:50:43 |\u001b[32m INFO     \u001b[0m| helpers.helpers_analysis.mutual_exclusivity | Calculating Mutual Exclusivity over P22607's interactors ..\n",
      "2021-11-20 02:50:43 |\u001b[36m DEBUG    \u001b[0m| helpers.helpers_analysis.mutual_exclusivity | P22607 have 12 interactors:\n",
      "Counter({'P09038:FGF2': 4, 'P10767:FGF6': 4, 'P05230:FGF1': 4, 'P61328:FGF12': 4, 'A1A515:FGF8': 4, 'P55075:FGF8': 3, 'P08620:FGF4': 3, 'A8K147:nan': 3, 'Q9GZV9:FGF23': 1, 'O95750:FGF19': 1, 'P11487:FGF3': 1, 'O15524:SOCS1': 1})\n",
      "2021-11-20 02:50:43 |\u001b[32m INFO     \u001b[0m| helpers.helpers_analysis.mutual_exclusivity | Calculating Mutual Exclusivity over P22607's interactors ..\n",
      "2021-11-20 02:50:43 |\u001b[36m DEBUG    \u001b[0m| helpers.helpers_analysis.mutual_exclusivity | P22607 have 12 interactors:\n",
      "Counter({'P09038:FGF2': 4, 'P10767:FGF6': 4, 'P05230:FGF1': 4, 'P61328:FGF12': 4, 'A1A515:FGF8': 4, 'P55075:FGF8': 3, 'P08620:FGF4': 3, 'A8K147:nan': 3, 'Q9GZV9:FGF23': 1, 'O95750:FGF19': 1, 'P11487:FGF3': 1, 'O15524:SOCS1': 1})\n",
      "2021-11-20 02:50:43 |\u001b[36m DEBUG    \u001b[0m| helpers.helpers_analysis.mutual_exclusivity | Exporting Mutual Exclusivity HNSC P22607 ..\n",
      "2021-11-20 02:50:43 |\u001b[32m INFO     \u001b[0m| helpers.helpers_analysis.mutual_exclusivity | dev\\mutex_counts_and_probs\\HNSC_P22607_FGFR3_2021-11-20.csv is exported successfully.\n",
      "2021-11-20 02:50:43 |\u001b[32m INFO     \u001b[0m| helpers.helpers_analysis.mutual_exclusivity | Calculating Mutual Exclusivity over P22607's interactors ..\n",
      "2021-11-20 02:50:43 |\u001b[36m DEBUG    \u001b[0m| helpers.helpers_analysis.mutual_exclusivity | P22607 have 12 interactors:\n",
      "{'A1A515:FGF8': 2.12, 'A8K147:nan': 1.62, 'O15524:SOCS1': 0.59, 'O95750:FGF19': 0.52, 'P05230:FGF1': 2.45, 'P08620:FGF4': 1.77, 'P09038:FGF2': 2.85, 'P10767:FGF6': 2.16, 'P11487:FGF3': 0.59, 'P55075:FGF8': 1.62, 'P61328:FGF12': 2.16, 'Q9GZV9:FGF23': 0.58}\n",
      "2021-11-20 02:50:43 |\u001b[36m DEBUG    \u001b[0m| helpers.helpers_analysis.mutual_exclusivity | Exporting Mutual Exclusivity HNSC P22607 ..\n",
      "2021-11-20 02:50:43 |\u001b[32m INFO     \u001b[0m| helpers.helpers_analysis.mutual_exclusivity | dev\\mutex_counts_and_probs\\HNSC_P22607_FGFR3_PROBA_2021-11-20.csv is exported successfully.\n",
      "PROTEIN_GENE: P42771_CDKN2A\n",
      "2021-11-20 02:50:43 |\u001b[32m INFO     \u001b[0m| helpers.helpers_analysis.mutual_exclusivity | Calculating Mutual Exclusivity over P42771's interactors ..\n",
      "2021-11-20 02:50:43 |\u001b[36m DEBUG    \u001b[0m| helpers.helpers_analysis.mutual_exclusivity | P42771 have 23 interactors:\n",
      "Counter({'P11802:CDK4': 15, 'P29320:EPHA3': 11, 'O14920:IKBKB': 11, 'P17252:PRKCA': 11, 'A4D1G0:CDK6': 9, 'Q00534:CDK6': 8, 'A1L4K2:MAPK8': 8, 'Q9UQ88:CDK11A': 7, 'P45983:MAPK8': 7, 'O14965:AURKA': 7, 'B2R6V2:nan': 7, 'P49760:CLK2': 6, 'P53779:MAPK10': 6, 'O00311:CDC7': 4, 'Q8NE63:HIPK4': 4, 'A8MWW6:nan': 3, 'Q14164:IKBKE': 3, 'Q9Y463:DYRK1B': 3, 'P07437:TUBB': 2, 'Q499Y8:MAPK10': 2, 'Q71U36:TUBA1A': 1, 'Q9BQE3:TUBA1C': 1, 'P68371:TUBB4B': 1})\n",
      "2021-11-20 02:50:43 |\u001b[32m INFO     \u001b[0m| helpers.helpers_analysis.mutual_exclusivity | Calculating Mutual Exclusivity over P42771's interactors ..\n",
      "2021-11-20 02:50:43 |\u001b[36m DEBUG    \u001b[0m| helpers.helpers_analysis.mutual_exclusivity | P42771 have 23 interactors:\n",
      "Counter({'P11802:CDK4': 15, 'P29320:EPHA3': 11, 'O14920:IKBKB': 11, 'P17252:PRKCA': 11, 'A4D1G0:CDK6': 9, 'Q00534:CDK6': 8, 'A1L4K2:MAPK8': 8, 'Q9UQ88:CDK11A': 7, 'P45983:MAPK8': 7, 'O14965:AURKA': 7, 'B2R6V2:nan': 7, 'P49760:CLK2': 6, 'P53779:MAPK10': 6, 'O00311:CDC7': 4, 'Q8NE63:HIPK4': 4, 'A8MWW6:nan': 3, 'Q14164:IKBKE': 3, 'Q9Y463:DYRK1B': 3, 'P07437:TUBB': 2, 'Q499Y8:MAPK10': 2, 'Q71U36:TUBA1A': 1, 'Q9BQE3:TUBA1C': 1, 'P68371:TUBB4B': 1})\n",
      "2021-11-20 02:50:44 |\u001b[36m DEBUG    \u001b[0m| helpers.helpers_analysis.mutual_exclusivity | Exporting Mutual Exclusivity HNSC P42771 ..\n",
      "2021-11-20 02:50:44 |\u001b[32m INFO     \u001b[0m| helpers.helpers_analysis.mutual_exclusivity | dev\\mutex_counts_and_probs\\HNSC_P42771_CDKN2A_2021-11-20.csv is exported successfully.\n",
      "2021-11-20 02:50:44 |\u001b[32m INFO     \u001b[0m| helpers.helpers_analysis.mutual_exclusivity | Calculating Mutual Exclusivity over P42771's interactors ..\n",
      "2021-11-20 02:50:44 |\u001b[36m DEBUG    \u001b[0m| helpers.helpers_analysis.mutual_exclusivity | P42771 have 23 interactors:\n",
      "{'A1L4K2:MAPK8': 5.22, 'A4D1G0:CDK6': 6.0, 'A8MWW6:nan': 1.85, 'B2R6V2:nan': 5.140000000000001, 'O00311:CDC7': 2.5, 'O14920:IKBKB': 6.5, 'O14965:AURKA': 4.05, 'P07437:TUBB': 1.4, 'P11802:CDK4': 10.09, 'P17252:PRKCA': 6.12, 'P29320:EPHA3': 6.46, 'P45983:MAPK8': 4.53, 'P49760:CLK2': 3.52, 'P53779:MAPK10': 3.46, 'P68371:TUBB4B': 0.85, 'Q00534:CDK6': 5.44, 'Q14164:IKBKE': 1.83, 'Q499Y8:MAPK10': 1.24, 'Q71U36:TUBA1A': 0.86, 'Q8NE63:HIPK4': 2.1100000000000003, 'Q9BQE3:TUBA1C': 0.86, 'Q9UQ88:CDK11A': 4.51, 'Q9Y463:DYRK1B': 1.75}\n",
      "2021-11-20 02:50:44 |\u001b[36m DEBUG    \u001b[0m| helpers.helpers_analysis.mutual_exclusivity | Exporting Mutual Exclusivity HNSC P42771 ..\n",
      "2021-11-20 02:50:44 |\u001b[32m INFO     \u001b[0m| helpers.helpers_analysis.mutual_exclusivity | dev\\mutex_counts_and_probs\\HNSC_P42771_CDKN2A_PROBA_2021-11-20.csv is exported successfully.\n",
      "PROTEIN_GENE: P61586_RHOA\n",
      "2021-11-20 02:50:44 |\u001b[32m INFO     \u001b[0m| helpers.helpers_analysis.mutual_exclusivity | Calculating Mutual Exclusivity over P61586's interactors ..\n",
      "2021-11-20 02:50:44 |\u001b[36m DEBUG    \u001b[0m| helpers.helpers_analysis.mutual_exclusivity | P61586 have 15 interactors:\n",
      "Counter({'Q16513:PKN2': 2, 'O14578:CIT': 1, 'O75962:TRIO': 1, 'P17612:PRKACA': 1, 'Q9Y4D1:DAAM1': 1, 'Q9NSV4:DIAPH3': 1, 'P52565:ARHGDIA': 1, 'P52566:ARHGDIB': 1, 'Q99819:ARHGDIG': 1, 'O15068:MCF2L': 1, 'O43157:PLXNB1': 1, 'Q7Z628:NET1': 1, 'O60610:DIAPH1': 1, 'Q5S007:LRRK2': 1, 'Q07960:ARHGAP1': 1})\n",
      "2021-11-20 02:50:44 |\u001b[32m INFO     \u001b[0m| helpers.helpers_analysis.mutual_exclusivity | Calculating Mutual Exclusivity over P61586's interactors ..\n",
      "2021-11-20 02:50:44 |\u001b[36m DEBUG    \u001b[0m| helpers.helpers_analysis.mutual_exclusivity | P61586 have 15 interactors:\n",
      "Counter({'Q16513:PKN2': 2, 'O14578:CIT': 1, 'O75962:TRIO': 1, 'P17612:PRKACA': 1, 'Q9Y4D1:DAAM1': 1, 'Q9NSV4:DIAPH3': 1, 'P52565:ARHGDIA': 1, 'P52566:ARHGDIB': 1, 'Q99819:ARHGDIG': 1, 'O15068:MCF2L': 1, 'O43157:PLXNB1': 1, 'Q7Z628:NET1': 1, 'O60610:DIAPH1': 1, 'Q5S007:LRRK2': 1, 'Q07960:ARHGAP1': 1})\n",
      "2021-11-20 02:50:44 |\u001b[36m DEBUG    \u001b[0m| helpers.helpers_analysis.mutual_exclusivity | Exporting Mutual Exclusivity HNSC P61586 ..\n",
      "2021-11-20 02:50:44 |\u001b[32m INFO     \u001b[0m| helpers.helpers_analysis.mutual_exclusivity | dev\\mutex_counts_and_probs\\HNSC_P61586_RHOA_2021-11-20.csv is exported successfully.\n",
      "2021-11-20 02:50:44 |\u001b[32m INFO     \u001b[0m| helpers.helpers_analysis.mutual_exclusivity | Calculating Mutual Exclusivity over P61586's interactors ..\n",
      "2021-11-20 02:50:44 |\u001b[36m DEBUG    \u001b[0m| helpers.helpers_analysis.mutual_exclusivity | P61586 have 15 interactors:\n",
      "{'O14578:CIT': 0.68, 'O15068:MCF2L': 0.63, 'O43157:PLXNB1': 0.6, 'O60610:DIAPH1': 0.54, 'O75962:TRIO': 0.56, 'P17612:PRKACA': 0.66, 'P52565:ARHGDIA': 0.68, 'P52566:ARHGDIB': 0.64, 'Q07960:ARHGAP1': 0.69, 'Q16513:PKN2': 1.09, 'Q5S007:LRRK2': 0.56, 'Q7Z628:NET1': 0.54, 'Q99819:ARHGDIG': 0.62, 'Q9NSV4:DIAPH3': 0.73, 'Q9Y4D1:DAAM1': 0.61}\n",
      "2021-11-20 02:50:45 |\u001b[36m DEBUG    \u001b[0m| helpers.helpers_analysis.mutual_exclusivity | Exporting Mutual Exclusivity HNSC P61586 ..\n",
      "2021-11-20 02:50:45 |\u001b[32m INFO     \u001b[0m| helpers.helpers_analysis.mutual_exclusivity | dev\\mutex_counts_and_probs\\HNSC_P61586_RHOA_PROBA_2021-11-20.csv is exported successfully.\n",
      "PROTEIN_GENE: P62805_H4C1\n",
      "2021-11-20 02:50:45 |\u001b[32m INFO     \u001b[0m| helpers.helpers_analysis.mutual_exclusivity | Calculating Mutual Exclusivity over P62805's interactors ..\n",
      "2021-11-20 02:50:45 |\u001b[36m DEBUG    \u001b[0m| helpers.helpers_analysis.mutual_exclusivity | P62805 have 17 interactors:\n",
      "Counter({'P84243:H3-3A': 11, 'P68431:H3C1': 11, 'Q9UER7:DAXX': 11, 'Q53F85:nan': 10, 'Q16695:H3-4': 9, 'Q71DI3:H3C15': 9, 'P49450:CENPA': 9, 'B4E1C1:nan': 8, 'Q16514:TAF12': 5, 'P06899:H2BC11': 5, 'Q16778:H2BC21': 5, 'P04908:H2AC4': 2, 'P16104:H2AX': 2, 'P0C0S5:H2AZ1': 2, 'Q9Y294:ASF1A': 2, 'Q16777:H2AC20': 2, 'Q9NVP2:ASF1B': 2})\n",
      "2021-11-20 02:50:45 |\u001b[32m INFO     \u001b[0m| helpers.helpers_analysis.mutual_exclusivity | Calculating Mutual Exclusivity over P62805's interactors ..\n",
      "2021-11-20 02:50:45 |\u001b[36m DEBUG    \u001b[0m| helpers.helpers_analysis.mutual_exclusivity | P62805 have 17 interactors:\n",
      "Counter({'P84243:H3-3A': 11, 'P68431:H3C1': 11, 'Q9UER7:DAXX': 11, 'Q53F85:nan': 10, 'Q16695:H3-4': 9, 'Q71DI3:H3C15': 9, 'P49450:CENPA': 9, 'B4E1C1:nan': 8, 'Q16514:TAF12': 5, 'P06899:H2BC11': 5, 'Q16778:H2BC21': 5, 'P04908:H2AC4': 2, 'P16104:H2AX': 2, 'P0C0S5:H2AZ1': 2, 'Q9Y294:ASF1A': 2, 'Q16777:H2AC20': 2, 'Q9NVP2:ASF1B': 2})\n",
      "2021-11-20 02:50:45 |\u001b[36m DEBUG    \u001b[0m| helpers.helpers_analysis.mutual_exclusivity | Exporting Mutual Exclusivity HNSC P62805 ..\n",
      "2021-11-20 02:50:45 |\u001b[32m INFO     \u001b[0m| helpers.helpers_analysis.mutual_exclusivity | dev\\mutex_counts_and_probs\\HNSC_P62805_H4C1_2021-11-20.csv is exported successfully.\n",
      "2021-11-20 02:50:45 |\u001b[32m INFO     \u001b[0m| helpers.helpers_analysis.mutual_exclusivity | Calculating Mutual Exclusivity over P62805's interactors ..\n",
      "2021-11-20 02:50:45 |\u001b[36m DEBUG    \u001b[0m| helpers.helpers_analysis.mutual_exclusivity | P62805 have 17 interactors:\n",
      "{'B4E1C1:nan': 4.64, 'P04908:H2AC4': 1.6400000000000001, 'P06899:H2BC11': 4.43, 'P0C0S5:H2AZ1': 1.5899999999999999, 'P16104:H2AX': 1.6600000000000001, 'P49450:CENPA': 5.32, 'P68431:H3C1': 8.2, 'P84243:H3-3A': 7.09, 'Q16514:TAF12': 3.4899999999999998, 'Q16695:H3-4': 6.13, 'Q16777:H2AC20': 1.6600000000000001, 'Q16778:H2BC21': 4.59, 'Q53F85:nan': 5.85, 'Q71DI3:H3C15': 6.14, 'Q9NVP2:ASF1B': 1.58, 'Q9UER7:DAXX': 6.77, 'Q9Y294:ASF1A': 1.58}\n",
      "2021-11-20 02:50:45 |\u001b[36m DEBUG    \u001b[0m| helpers.helpers_analysis.mutual_exclusivity | Exporting Mutual Exclusivity HNSC P62805 ..\n",
      "2021-11-20 02:50:45 |\u001b[32m INFO     \u001b[0m| helpers.helpers_analysis.mutual_exclusivity | dev\\mutex_counts_and_probs\\HNSC_P62805_H4C1_PROBA_2021-11-20.csv is exported successfully.\n",
      "PROTEIN_GENE: P63000_RAC1\n",
      "2021-11-20 02:50:45 |\u001b[32m INFO     \u001b[0m| helpers.helpers_analysis.mutual_exclusivity | Calculating Mutual Exclusivity over P63000's interactors ..\n",
      "2021-11-20 02:50:45 |\u001b[36m DEBUG    \u001b[0m| helpers.helpers_analysis.mutual_exclusivity | P63000 have 7 interactors:\n",
      "Counter({'Q17R89:ARHGAP44': 8, 'Q8NF50:DOCK8': 2, 'Q13972:RASGRF1': 2, 'Q14185:DOCK1': 1, 'Q92608:DOCK2': 1, 'Q15286:RAB35': 1, 'O14559:ARHGAP33': 1})\n",
      "2021-11-20 02:50:45 |\u001b[32m INFO     \u001b[0m| helpers.helpers_analysis.mutual_exclusivity | Calculating Mutual Exclusivity over P63000's interactors ..\n",
      "2021-11-20 02:50:45 |\u001b[36m DEBUG    \u001b[0m| helpers.helpers_analysis.mutual_exclusivity | P63000 have 7 interactors:\n",
      "Counter({'Q17R89:ARHGAP44': 8, 'Q8NF50:DOCK8': 2, 'Q13972:RASGRF1': 2, 'Q14185:DOCK1': 1, 'Q92608:DOCK2': 1, 'Q15286:RAB35': 1, 'O14559:ARHGAP33': 1})\n",
      "2021-11-20 02:50:45 |\u001b[36m DEBUG    \u001b[0m| helpers.helpers_analysis.mutual_exclusivity | Exporting Mutual Exclusivity HNSC P63000 ..\n",
      "2021-11-20 02:50:45 |\u001b[32m INFO     \u001b[0m| helpers.helpers_analysis.mutual_exclusivity | dev\\mutex_counts_and_probs\\HNSC_P63000_RAC1_2021-11-20.csv is exported successfully.\n",
      "2021-11-20 02:50:46 |\u001b[32m INFO     \u001b[0m| helpers.helpers_analysis.mutual_exclusivity | Calculating Mutual Exclusivity over P63000's interactors ..\n",
      "2021-11-20 02:50:46 |\u001b[36m DEBUG    \u001b[0m| helpers.helpers_analysis.mutual_exclusivity | P63000 have 7 interactors:\n",
      "{'O14559:ARHGAP33': 0.64, 'Q13972:RASGRF1': 1.25, 'Q14185:DOCK1': 0.65, 'Q15286:RAB35': 0.76, 'Q17R89:ARHGAP44': 4.88, 'Q8NF50:DOCK8': 1.58, 'Q92608:DOCK2': 0.79}\n",
      "2021-11-20 02:50:46 |\u001b[36m DEBUG    \u001b[0m| helpers.helpers_analysis.mutual_exclusivity | Exporting Mutual Exclusivity HNSC P63000 ..\n",
      "2021-11-20 02:50:46 |\u001b[32m INFO     \u001b[0m| helpers.helpers_analysis.mutual_exclusivity | dev\\mutex_counts_and_probs\\HNSC_P63000_RAC1_PROBA_2021-11-20.csv is exported successfully.\n",
      "PROTEIN_GENE: Q16288_NTRK3\n",
      "2021-11-20 02:50:46 |\u001b[32m INFO     \u001b[0m| helpers.helpers_analysis.mutual_exclusivity | Calculating Mutual Exclusivity over Q16288's interactors ..\n",
      "2021-11-20 02:50:46 |\u001b[36m DEBUG    \u001b[0m| helpers.helpers_analysis.mutual_exclusivity | Q16288 have 1 interactors:\n",
      "Counter({'P27361:MAPK3': 1})\n",
      "2021-11-20 02:50:46 |\u001b[32m INFO     \u001b[0m| helpers.helpers_analysis.mutual_exclusivity | Calculating Mutual Exclusivity over Q16288's interactors ..\n",
      "2021-11-20 02:50:46 |\u001b[36m DEBUG    \u001b[0m| helpers.helpers_analysis.mutual_exclusivity | Q16288 have 1 interactors:\n",
      "Counter({'P27361:MAPK3': 1})\n",
      "2021-11-20 02:50:46 |\u001b[36m DEBUG    \u001b[0m| helpers.helpers_analysis.mutual_exclusivity | Exporting Mutual Exclusivity HNSC Q16288 ..\n",
      "2021-11-20 02:50:46 |\u001b[32m INFO     \u001b[0m| helpers.helpers_analysis.mutual_exclusivity | dev\\mutex_counts_and_probs\\HNSC_Q16288_NTRK3_2021-11-20.csv is exported successfully.\n",
      "2021-11-20 02:50:46 |\u001b[32m INFO     \u001b[0m| helpers.helpers_analysis.mutual_exclusivity | Calculating Mutual Exclusivity over Q16288's interactors ..\n",
      "2021-11-20 02:50:46 |\u001b[36m DEBUG    \u001b[0m| helpers.helpers_analysis.mutual_exclusivity | Q16288 have 1 interactors:\n",
      "{'P27361:MAPK3': 0.78}\n",
      "2021-11-20 02:50:46 |\u001b[36m DEBUG    \u001b[0m| helpers.helpers_analysis.mutual_exclusivity | Exporting Mutual Exclusivity HNSC Q16288 ..\n",
      "2021-11-20 02:50:46 |\u001b[32m INFO     \u001b[0m| helpers.helpers_analysis.mutual_exclusivity | dev\\mutex_counts_and_probs\\HNSC_Q16288_NTRK3_PROBA_2021-11-20.csv is exported successfully.\n",
      "PROTEIN_GENE: Q7Z6Z7_HUWE1\n",
      "2021-11-20 02:50:46 |\u001b[32m INFO     \u001b[0m| helpers.helpers_analysis.mutual_exclusivity | Calculating Mutual Exclusivity over Q7Z6Z7's interactors ..\n",
      "2021-11-20 02:50:46 |\u001b[36m DEBUG    \u001b[0m| helpers.helpers_analysis.mutual_exclusivity | Q7Z6Z7 have 8 interactors:\n",
      "Counter({'P62837:UBE2D2': 4, 'P61077:UBE2D3': 4, 'P54725:RAD23A': 4, 'P11441:UBL4A': 4, 'Q969T4:UBE2E3': 3, 'P51668:UBE2D1': 3, 'P62253:UBE2G1': 3, 'P68036:UBE2L3': 2})\n",
      "2021-11-20 02:50:46 |\u001b[32m INFO     \u001b[0m| helpers.helpers_analysis.mutual_exclusivity | Calculating Mutual Exclusivity over Q7Z6Z7's interactors ..\n",
      "2021-11-20 02:50:46 |\u001b[36m DEBUG    \u001b[0m| helpers.helpers_analysis.mutual_exclusivity | Q7Z6Z7 have 8 interactors:\n",
      "Counter({'P62837:UBE2D2': 4, 'P61077:UBE2D3': 4, 'P54725:RAD23A': 4, 'P11441:UBL4A': 4, 'Q969T4:UBE2E3': 3, 'P51668:UBE2D1': 3, 'P62253:UBE2G1': 3, 'P68036:UBE2L3': 2})\n",
      "2021-11-20 02:50:46 |\u001b[36m DEBUG    \u001b[0m| helpers.helpers_analysis.mutual_exclusivity | Exporting Mutual Exclusivity HNSC Q7Z6Z7 ..\n",
      "2021-11-20 02:50:46 |\u001b[32m INFO     \u001b[0m| helpers.helpers_analysis.mutual_exclusivity | dev\\mutex_counts_and_probs\\HNSC_Q7Z6Z7_HUWE1_2021-11-20.csv is exported successfully.\n",
      "2021-11-20 02:50:46 |\u001b[32m INFO     \u001b[0m| helpers.helpers_analysis.mutual_exclusivity | Calculating Mutual Exclusivity over Q7Z6Z7's interactors ..\n",
      "2021-11-20 02:50:46 |\u001b[36m DEBUG    \u001b[0m| helpers.helpers_analysis.mutual_exclusivity | Q7Z6Z7 have 8 interactors:\n",
      "{'P11441:UBL4A': 3.26, 'P51668:UBE2D1': 2.21, 'P54725:RAD23A': 2.5, 'P61077:UBE2D3': 2.52, 'P62253:UBE2G1': 1.87, 'P62837:UBE2D2': 3.05, 'P68036:UBE2L3': 1.2799999999999998, 'Q969T4:UBE2E3': 1.94}\n",
      "2021-11-20 02:50:46 |\u001b[36m DEBUG    \u001b[0m| helpers.helpers_analysis.mutual_exclusivity | Exporting Mutual Exclusivity HNSC Q7Z6Z7 ..\n",
      "2021-11-20 02:50:46 |\u001b[32m INFO     \u001b[0m| helpers.helpers_analysis.mutual_exclusivity | dev\\mutex_counts_and_probs\\HNSC_Q7Z6Z7_HUWE1_PROBA_2021-11-20.csv is exported successfully.\n",
      "PROTEIN_GENE: Q969H0_FBXW7\n",
      "2021-11-20 02:50:46 |\u001b[32m INFO     \u001b[0m| helpers.helpers_analysis.mutual_exclusivity | Calculating Mutual Exclusivity over Q969H0's interactors ..\n",
      "2021-11-20 02:50:46 |\u001b[36m DEBUG    \u001b[0m| helpers.helpers_analysis.mutual_exclusivity | Q969H0 have 3 interactors:\n",
      "Counter({'P42345:MTOR': 11, 'A6NE52:WDR97': 10, 'P63244:RACK1': 5})\n",
      "2021-11-20 02:50:46 |\u001b[32m INFO     \u001b[0m| helpers.helpers_analysis.mutual_exclusivity | Calculating Mutual Exclusivity over Q969H0's interactors ..\n",
      "2021-11-20 02:50:46 |\u001b[36m DEBUG    \u001b[0m| helpers.helpers_analysis.mutual_exclusivity | Q969H0 have 3 interactors:\n",
      "Counter({'P42345:MTOR': 11, 'A6NE52:WDR97': 10, 'P63244:RACK1': 5})\n",
      "2021-11-20 02:50:46 |\u001b[36m DEBUG    \u001b[0m| helpers.helpers_analysis.mutual_exclusivity | Exporting Mutual Exclusivity HNSC Q969H0 ..\n",
      "2021-11-20 02:50:46 |\u001b[32m INFO     \u001b[0m| helpers.helpers_analysis.mutual_exclusivity | dev\\mutex_counts_and_probs\\HNSC_Q969H0_FBXW7_2021-11-20.csv is exported successfully.\n",
      "2021-11-20 02:50:46 |\u001b[32m INFO     \u001b[0m| helpers.helpers_analysis.mutual_exclusivity | Calculating Mutual Exclusivity over Q969H0's interactors ..\n",
      "2021-11-20 02:50:46 |\u001b[36m DEBUG    \u001b[0m| helpers.helpers_analysis.mutual_exclusivity | Q969H0 have 3 interactors:\n",
      "{'A6NE52:WDR97': 5.38, 'P42345:MTOR': 9.09, 'P63244:RACK1': 4.08}\n",
      "2021-11-20 02:50:46 |\u001b[36m DEBUG    \u001b[0m| helpers.helpers_analysis.mutual_exclusivity | Exporting Mutual Exclusivity HNSC Q969H0 ..\n",
      "2021-11-20 02:50:46 |\u001b[32m INFO     \u001b[0m| helpers.helpers_analysis.mutual_exclusivity | dev\\mutex_counts_and_probs\\HNSC_Q969H0_FBXW7_PROBA_2021-11-20.csv is exported successfully.\n",
      "Completed.\n"
     ]
    }
   ],
   "source": [
    "# HNSC\n",
    "export_mutex_data_for_selected_genes(HNSC_PRELIMINARY_DATA_PATH, hnsc_mutex)"
   ]
  },
  {
   "cell_type": "code",
   "execution_count": 20,
   "id": "40cef0af-6e1f-44bd-a71f-c579cb03d0a5",
   "metadata": {
    "scrolled": true,
    "tags": []
   },
   "outputs": [
    {
     "name": "stdout",
     "output_type": "stream",
     "text": [
      "PROTEIN_GENE: P04637_TP53\n",
      "2021-11-20 02:50:48 |\u001b[32m INFO     \u001b[0m| helpers.helpers_analysis.mutual_exclusivity | Calculating Mutual Exclusivity over P04637's interactors ..\n",
      "2021-11-20 02:50:48 |\u001b[36m DEBUG    \u001b[0m| helpers.helpers_analysis.mutual_exclusivity | P04637 have 19 interactors:\n",
      "Counter({'Q13625:TP53BP2': 61, 'Q96KQ4:PPP1R13B': 61, 'P62993:GRB2': 46, 'Q8WUF5:PPP1R13L': 40, 'Q06187:BTK': 40, 'P07948:LYN': 33, 'Q9H3D4:TP63': 31, 'H2EHT1:TP53': 27, 'K7PPA8:TP53': 27, 'O15350:TP73': 21, 'Q96KQ7:EHMT2': 18, 'O75832:PSMD10': 8, 'Q9H9B1:EHMT1': 6, 'Q99728:BARD1': 6, 'Q9ULT8:HECTD1': 6, 'Q99466:NOTCH4': 3, 'Q53GA5:nan': 3, 'Q9GZV1:ANKRD2': 1, 'P25963:NFKBIA': 1})\n",
      "2021-11-20 02:50:48 |\u001b[32m INFO     \u001b[0m| helpers.helpers_analysis.mutual_exclusivity | Calculating Mutual Exclusivity over P04637's interactors ..\n",
      "2021-11-20 02:50:48 |\u001b[36m DEBUG    \u001b[0m| helpers.helpers_analysis.mutual_exclusivity | P04637 have 19 interactors:\n",
      "Counter({'Q13625:TP53BP2': 61, 'Q96KQ4:PPP1R13B': 61, 'P62993:GRB2': 46, 'Q8WUF5:PPP1R13L': 40, 'Q06187:BTK': 40, 'P07948:LYN': 33, 'Q9H3D4:TP63': 31, 'H2EHT1:TP53': 27, 'K7PPA8:TP53': 27, 'O15350:TP73': 21, 'Q96KQ7:EHMT2': 18, 'O75832:PSMD10': 8, 'Q9H9B1:EHMT1': 6, 'Q99728:BARD1': 6, 'Q9ULT8:HECTD1': 6, 'Q99466:NOTCH4': 3, 'Q53GA5:nan': 3, 'Q9GZV1:ANKRD2': 1, 'P25963:NFKBIA': 1})\n",
      "2021-11-20 02:50:49 |\u001b[36m DEBUG    \u001b[0m| helpers.helpers_analysis.mutual_exclusivity | Exporting Mutual Exclusivity OV P04637 ..\n",
      "2021-11-20 02:50:49 |\u001b[32m INFO     \u001b[0m| helpers.helpers_analysis.mutual_exclusivity | dev\\mutex_counts_and_probs\\OV_P04637_TP53_2021-11-20.csv is exported successfully.\n",
      "2021-11-20 02:50:49 |\u001b[32m INFO     \u001b[0m| helpers.helpers_analysis.mutual_exclusivity | Calculating Mutual Exclusivity over P04637's interactors ..\n",
      "2021-11-20 02:50:49 |\u001b[36m DEBUG    \u001b[0m| helpers.helpers_analysis.mutual_exclusivity | P04637 have 19 interactors:\n",
      "{'H2EHT1:TP53': 21.19, 'K7PPA8:TP53': 21.39, 'O15350:TP73': 16.11, 'O75832:PSMD10': 5.79, 'P07948:LYN': 22.740000000000002, 'P25963:NFKBIA': 0.73, 'P62993:GRB2': 34.0, 'Q06187:BTK': 31.310000000000002, 'Q13625:TP53BP2': 50.43, 'Q53GA5:nan': 2.12, 'Q8WUF5:PPP1R13L': 28.7, 'Q96KQ4:PPP1R13B': 47.660000000000004, 'Q96KQ7:EHMT2': 11.75, 'Q99466:NOTCH4': 1.97, 'Q99728:BARD1': 4.25, 'Q9GZV1:ANKRD2': 0.72, 'Q9H3D4:TP63': 23.99, 'Q9H9B1:EHMT1': 4.07, 'Q9ULT8:HECTD1': 4.28}\n",
      "2021-11-20 02:50:49 |\u001b[36m DEBUG    \u001b[0m| helpers.helpers_analysis.mutual_exclusivity | Exporting Mutual Exclusivity OV P04637 ..\n",
      "2021-11-20 02:50:49 |\u001b[32m INFO     \u001b[0m| helpers.helpers_analysis.mutual_exclusivity | dev\\mutex_counts_and_probs\\OV_P04637_TP53_PROBA_2021-11-20.csv is exported successfully.\n",
      "PROTEIN_GENE: P35609_ACTN2\n",
      "2021-11-20 02:50:49 |\u001b[32m INFO     \u001b[0m| helpers.helpers_analysis.mutual_exclusivity | Calculating Mutual Exclusivity over P35609's interactors ..\n",
      "2021-11-20 02:50:49 |\u001b[36m DEBUG    \u001b[0m| helpers.helpers_analysis.mutual_exclusivity | P35609 have 4 interactors:\n",
      "Counter({'Q9UQM7:CAMK2A': 1, 'Q13557:CAMK2D': 1, 'P12814:ACTN1': 1, 'Q08043:ACTN3': 1})\n",
      "2021-11-20 02:50:49 |\u001b[32m INFO     \u001b[0m| helpers.helpers_analysis.mutual_exclusivity | Calculating Mutual Exclusivity over P35609's interactors ..\n",
      "2021-11-20 02:50:49 |\u001b[36m DEBUG    \u001b[0m| helpers.helpers_analysis.mutual_exclusivity | P35609 have 4 interactors:\n",
      "Counter({'Q9UQM7:CAMK2A': 1, 'Q13557:CAMK2D': 1, 'P12814:ACTN1': 1, 'Q08043:ACTN3': 1})\n",
      "2021-11-20 02:50:49 |\u001b[36m DEBUG    \u001b[0m| helpers.helpers_analysis.mutual_exclusivity | Exporting Mutual Exclusivity OV P35609 ..\n",
      "2021-11-20 02:50:49 |\u001b[32m INFO     \u001b[0m| helpers.helpers_analysis.mutual_exclusivity | dev\\mutex_counts_and_probs\\OV_P35609_ACTN2_2021-11-20.csv is exported successfully.\n",
      "2021-11-20 02:50:49 |\u001b[32m INFO     \u001b[0m| helpers.helpers_analysis.mutual_exclusivity | Calculating Mutual Exclusivity over P35609's interactors ..\n",
      "2021-11-20 02:50:49 |\u001b[36m DEBUG    \u001b[0m| helpers.helpers_analysis.mutual_exclusivity | P35609 have 4 interactors:\n",
      "{'P12814:ACTN1': 0.69, 'Q08043:ACTN3': 0.69, 'Q13557:CAMK2D': 0.62, 'Q9UQM7:CAMK2A': 0.52}\n",
      "2021-11-20 02:50:49 |\u001b[36m DEBUG    \u001b[0m| helpers.helpers_analysis.mutual_exclusivity | Exporting Mutual Exclusivity OV P35609 ..\n",
      "2021-11-20 02:50:49 |\u001b[32m INFO     \u001b[0m| helpers.helpers_analysis.mutual_exclusivity | dev\\mutex_counts_and_probs\\OV_P35609_ACTN2_PROBA_2021-11-20.csv is exported successfully.\n",
      "PROTEIN_GENE: P62805_H4C1\n",
      "2021-11-20 02:50:49 |\u001b[32m INFO     \u001b[0m| helpers.helpers_analysis.mutual_exclusivity | Calculating Mutual Exclusivity over P62805's interactors ..\n",
      "2021-11-20 02:50:49 |\u001b[36m DEBUG    \u001b[0m| helpers.helpers_analysis.mutual_exclusivity | P62805 have 18 interactors:\n",
      "Counter({'P84243:H3-3A': 4, 'P68431:H3C1': 3, 'P04908:H2AC4': 2, 'Q16695:H3-4': 2, 'Q71DI3:H3C15': 2, 'P49450:CENPA': 2, 'P0C0S5:H2AZ1': 2, 'Q16777:H2AC20': 2, 'Q9UER7:DAXX': 1, 'B4E1C1:nan': 1, 'Q53F85:nan': 1, 'Q8NCD3:HJURP': 1, 'Q16514:TAF12': 1, 'P06899:H2BC11': 1, 'Q16778:H2BC21': 1, 'P16104:H2AX': 1, 'Q9Y294:ASF1A': 1, 'Q9NVP2:ASF1B': 1})\n",
      "2021-11-20 02:50:49 |\u001b[32m INFO     \u001b[0m| helpers.helpers_analysis.mutual_exclusivity | Calculating Mutual Exclusivity over P62805's interactors ..\n",
      "2021-11-20 02:50:49 |\u001b[36m DEBUG    \u001b[0m| helpers.helpers_analysis.mutual_exclusivity | P62805 have 18 interactors:\n",
      "Counter({'P84243:H3-3A': 4, 'P68431:H3C1': 3, 'P04908:H2AC4': 2, 'Q16695:H3-4': 2, 'Q71DI3:H3C15': 2, 'P49450:CENPA': 2, 'P0C0S5:H2AZ1': 2, 'Q16777:H2AC20': 2, 'Q9UER7:DAXX': 1, 'B4E1C1:nan': 1, 'Q53F85:nan': 1, 'Q8NCD3:HJURP': 1, 'Q16514:TAF12': 1, 'P06899:H2BC11': 1, 'Q16778:H2BC21': 1, 'P16104:H2AX': 1, 'Q9Y294:ASF1A': 1, 'Q9NVP2:ASF1B': 1})\n",
      "2021-11-20 02:50:50 |\u001b[36m DEBUG    \u001b[0m| helpers.helpers_analysis.mutual_exclusivity | Exporting Mutual Exclusivity OV P62805 ..\n",
      "2021-11-20 02:50:50 |\u001b[32m INFO     \u001b[0m| helpers.helpers_analysis.mutual_exclusivity | dev\\mutex_counts_and_probs\\OV_P62805_H4C1_2021-11-20.csv is exported successfully.\n",
      "2021-11-20 02:50:50 |\u001b[32m INFO     \u001b[0m| helpers.helpers_analysis.mutual_exclusivity | Calculating Mutual Exclusivity over P62805's interactors ..\n",
      "2021-11-20 02:50:50 |\u001b[36m DEBUG    \u001b[0m| helpers.helpers_analysis.mutual_exclusivity | P62805 have 18 interactors:\n",
      "{'B4E1C1:nan': 0.54, 'P04908:H2AC4': 1.63, 'P06899:H2BC11': 0.81, 'P0C0S5:H2AZ1': 1.6099999999999999, 'P16104:H2AX': 0.86, 'P49450:CENPA': 1.22, 'P68431:H3C1': 2.01, 'P84243:H3-3A': 2.3600000000000003, 'Q16514:TAF12': 0.66, 'Q16695:H3-4': 1.2799999999999998, 'Q16777:H2AC20': 1.65, 'Q16778:H2BC21': 0.79, 'Q53F85:nan': 0.6, 'Q71DI3:H3C15': 1.27, 'Q8NCD3:HJURP': 0.7, 'Q9NVP2:ASF1B': 0.8, 'Q9UER7:DAXX': 0.67, 'Q9Y294:ASF1A': 0.79}\n",
      "2021-11-20 02:50:50 |\u001b[36m DEBUG    \u001b[0m| helpers.helpers_analysis.mutual_exclusivity | Exporting Mutual Exclusivity OV P62805 ..\n",
      "2021-11-20 02:50:50 |\u001b[32m INFO     \u001b[0m| helpers.helpers_analysis.mutual_exclusivity | dev\\mutex_counts_and_probs\\OV_P62805_H4C1_PROBA_2021-11-20.csv is exported successfully.\n",
      "Completed.\n"
     ]
    }
   ],
   "source": [
    "# OV\n",
    "export_mutex_data_for_selected_genes(OV_PRELIMINARY_DATA_PATH, ov_mutex)"
   ]
  },
  {
   "cell_type": "code",
   "execution_count": null,
   "id": "0cb741c7-af25-45e5-86f1-f896811c7c52",
   "metadata": {},
   "outputs": [],
   "source": []
  },
  {
   "cell_type": "code",
   "execution_count": null,
   "id": "f21683a4-224d-4d58-9095-d8eaaf419a1a",
   "metadata": {},
   "outputs": [],
   "source": []
  },
  {
   "cell_type": "code",
   "execution_count": null,
   "id": "650a20c5-0f41-4651-a09b-ce986e56cd93",
   "metadata": {},
   "outputs": [],
   "source": []
  },
  {
   "cell_type": "markdown",
   "id": "79d53416-687e-41b1-9b3d-360b8516cba1",
   "metadata": {},
   "source": [
    "======================================="
   ]
  },
  {
   "cell_type": "markdown",
   "id": "5abf2fc2-0099-4533-985b-e84c4470cb0f",
   "metadata": {},
   "source": [
    "# Codes for Analsis.docx"
   ]
  },
  {
   "cell_type": "markdown",
   "id": "13b5bfb7-826e-40f4-ba31-4ccd6a6740cf",
   "metadata": {},
   "source": [
    "## BRCA"
   ]
  },
  {
   "cell_type": "markdown",
   "id": "f86e5d02-b451-44dd-b22b-309fc67d441e",
   "metadata": {
    "tags": []
   },
   "source": [
    "### `ERBB2`"
   ]
  },
  {
   "cell_type": "code",
   "execution_count": 177,
   "id": "f6ba4144-7c02-40d3-a9ea-2d029431a700",
   "metadata": {},
   "outputs": [
    {
     "name": "stdout",
     "output_type": "stream",
     "text": [
      "2021-12-07 21:49:52 |\u001b[36m DEBUG    \u001b[0m| helpers.helpers_analysis.mutual_exclusivity | interactors: ['Q96SB4:SRPK1', 'P00533:EGFR', 'P51813:BMX', 'Q14289:PTK2B', 'P16591:FER', 'P06241:FYN', 'P08069:IGF1R', 'Q13153:PAK1', 'P42680:TEC', 'P21860:ERBB3', 'O60674:JAK2', 'P15153:RAC2', 'Q9UJM3:ERRFI1', 'Q92625:ANKS1A', 'P23458:JAK1']\n"
     ]
    },
    {
     "ename": "ValueError",
     "evalue": "too many values to unpack (expected 2)",
     "output_type": "error",
     "traceback": [
      "\u001b[1;31m---------------------------------------------------------------------------\u001b[0m",
      "\u001b[1;31mValueError\u001b[0m                                Traceback (most recent call last)",
      "\u001b[1;32m~\\AppData\\Local\\Temp/ipykernel_56628/1904918727.py\u001b[0m in \u001b[0;36m<module>\u001b[1;34m\u001b[0m\n\u001b[1;32m----> 1\u001b[1;33m \u001b[0mbrca_mutex\u001b[0m\u001b[1;33m.\u001b[0m\u001b[0mget_counts_summary_table\u001b[0m\u001b[1;33m(\u001b[0m\u001b[1;34m\"ERBB2\"\u001b[0m\u001b[1;33m)\u001b[0m\u001b[1;33m\u001b[0m\u001b[1;33m\u001b[0m\u001b[0m\n\u001b[0m",
      "\u001b[1;32m~\\Documents\\GitHub\\Predicting-Mutation-Effects\\src\\helpers\\helpers_analysis\\mutual_exclusivity.py\u001b[0m in \u001b[0;36mget_counts_summary_table\u001b[1;34m(self, gene_A)\u001b[0m\n",
      "\u001b[1;31mValueError\u001b[0m: too many values to unpack (expected 2)"
     ]
    }
   ],
   "source": [
    "brca_mutex.get_counts_summary_table(\"ERBB2\")"
   ]
  },
  {
   "cell_type": "code",
   "execution_count": 169,
   "id": "9748f4ed-7fb2-437e-a852-4497c968792b",
   "metadata": {},
   "outputs": [
    {
     "data": {
      "text/plain": [
       "[('Q96SB4:SRPK1', 7),\n",
       " ('P00533:EGFR', 2),\n",
       " ('P51813:BMX', 2),\n",
       " ('Q14289:PTK2B', 2),\n",
       " ('P16591:FER', 2),\n",
       " ('P06241:FYN', 2),\n",
       " ('P08069:IGF1R', 2),\n",
       " ('Q13153:PAK1', 2),\n",
       " ('P42680:TEC', 2),\n",
       " ('P21860:ERBB3', 1),\n",
       " ('O60674:JAK2', 1),\n",
       " ('P15153:RAC2', 1),\n",
       " ('Q9UJM3:ERRFI1', 1),\n",
       " ('Q92625:ANKS1A', 1),\n",
       " ('P23458:JAK1', 1)]"
      ]
     },
     "execution_count": 169,
     "metadata": {},
     "output_type": "execute_result"
    }
   ],
   "source": [
    "interactor_count_pairs = brca_mutex.get_disrupted_interactors(\n",
    "    \"ERBB2\", identifier_type=\"gene\", return_counter=True, most_common=True\n",
    ")\n",
    "interactor_count_pairs"
   ]
  },
  {
   "cell_type": "code",
   "execution_count": 170,
   "id": "46130d89-734f-4147-8e42-5c9c3ed9e6ba",
   "metadata": {},
   "outputs": [
    {
     "name": "stdout",
     "output_type": "stream",
     "text": [
      "GENE_A: ERBB2\n",
      "GENE_B: SRPK1\n",
      "patients_gene_A_disrupts_B (7): \n",
      " {'TCGA-A8-A0AB', 'TCGA-LL-A740', 'TCGA-D8-A1XM', 'TCGA-A8-A0A6', 'TCGA-A2-A0T6', 'TCGA-AC-A3YI', 'TCGA-BH-A18P'}\n",
      "patients_gene_B_disrupts_A (0): \n",
      " set()\n",
      "Intersection (0): \n",
      "set()\n",
      "- - - - - - - - - - - - - - - - - - - - - -\n",
      "GENE_A: ERBB2\n",
      "GENE_B: EGFR\n",
      "patients_gene_A_disrupts_B (2): \n",
      " {'TCGA-AN-A046', 'TCGA-A2-A3XV'}\n",
      "patients_gene_B_disrupts_A (0): \n",
      " set()\n",
      "Intersection (0): \n",
      "set()\n",
      "- - - - - - - - - - - - - - - - - - - - - -\n",
      "GENE_A: ERBB2\n",
      "GENE_B: BMX\n",
      "patients_gene_A_disrupts_B (2): \n",
      " {'TCGA-E9-A1R5', 'TCGA-BH-A1FE'}\n",
      "patients_gene_B_disrupts_A (1): \n",
      " {'TCGA-B6-A0RU'}\n",
      "Intersection (0): \n",
      "set()\n",
      "- - - - - - - - - - - - - - - - - - - - - -\n",
      "GENE_A: ERBB2\n",
      "GENE_B: PTK2B\n",
      "patients_gene_A_disrupts_B (2): \n",
      " {'TCGA-E9-A1R5', 'TCGA-BH-A1FE'}\n",
      "patients_gene_B_disrupts_A (0): \n",
      " set()\n",
      "Intersection (0): \n",
      "set()\n",
      "- - - - - - - - - - - - - - - - - - - - - -\n",
      "GENE_A: ERBB2\n",
      "GENE_B: FER\n",
      "patients_gene_A_disrupts_B (2): \n",
      " {'TCGA-E9-A1R5', 'TCGA-BH-A1FE'}\n",
      "patients_gene_B_disrupts_A (0): \n",
      " set()\n",
      "Intersection (0): \n",
      "set()\n",
      "- - - - - - - - - - - - - - - - - - - - - -\n",
      "GENE_A: ERBB2\n",
      "GENE_B: FYN\n",
      "patients_gene_A_disrupts_B (2): \n",
      " {'TCGA-E9-A1R5', 'TCGA-BH-A1FE'}\n",
      "patients_gene_B_disrupts_A (0): \n",
      " set()\n",
      "Intersection (0): \n",
      "set()\n",
      "- - - - - - - - - - - - - - - - - - - - - -\n",
      "GENE_A: ERBB2\n",
      "GENE_B: IGF1R\n",
      "patients_gene_A_disrupts_B (2): \n",
      " {'TCGA-E9-A1R5', 'TCGA-BH-A1FE'}\n",
      "patients_gene_B_disrupts_A (0): \n",
      " set()\n",
      "Intersection (0): \n",
      "set()\n",
      "- - - - - - - - - - - - - - - - - - - - - -\n",
      "GENE_A: ERBB2\n",
      "GENE_B: PAK1\n",
      "patients_gene_A_disrupts_B (2): \n",
      " {'TCGA-E9-A1R5', 'TCGA-BH-A1FE'}\n",
      "patients_gene_B_disrupts_A (0): \n",
      " set()\n",
      "Intersection (0): \n",
      "set()\n",
      "- - - - - - - - - - - - - - - - - - - - - -\n",
      "GENE_A: ERBB2\n",
      "GENE_B: TEC\n",
      "patients_gene_A_disrupts_B (2): \n",
      " {'TCGA-E9-A1R5', 'TCGA-BH-A1FE'}\n",
      "patients_gene_B_disrupts_A (0): \n",
      " set()\n",
      "Intersection (0): \n",
      "set()\n",
      "- - - - - - - - - - - - - - - - - - - - - -\n",
      "GENE_A: ERBB2\n",
      "GENE_B: ERBB3\n",
      "patients_gene_A_disrupts_B (1): \n",
      " {'TCGA-LL-A740'}\n",
      "patients_gene_B_disrupts_A (3): \n",
      " {'TCGA-A1-A0SF', 'TCGA-A8-A09G', 'TCGA-EW-A1IZ'}\n",
      "Intersection (0): \n",
      "set()\n",
      "- - - - - - - - - - - - - - - - - - - - - -\n",
      "GENE_A: ERBB2\n",
      "GENE_B: JAK2\n",
      "patients_gene_A_disrupts_B (1): \n",
      " {'TCGA-LL-A740'}\n",
      "patients_gene_B_disrupts_A (0): \n",
      " set()\n",
      "Intersection (0): \n",
      "set()\n",
      "- - - - - - - - - - - - - - - - - - - - - -\n",
      "GENE_A: ERBB2\n",
      "GENE_B: RAC2\n",
      "patients_gene_A_disrupts_B (1): \n",
      " {'TCGA-LL-A740'}\n",
      "patients_gene_B_disrupts_A (0): \n",
      " set()\n",
      "Intersection (0): \n",
      "set()\n",
      "- - - - - - - - - - - - - - - - - - - - - -\n",
      "GENE_A: ERBB2\n",
      "GENE_B: ERRFI1\n",
      "patients_gene_A_disrupts_B (1): \n",
      " {'TCGA-LL-A740'}\n",
      "patients_gene_B_disrupts_A (0): \n",
      " set()\n",
      "Intersection (0): \n",
      "set()\n",
      "- - - - - - - - - - - - - - - - - - - - - -\n",
      "GENE_A: ERBB2\n",
      "GENE_B: ANKS1A\n",
      "patients_gene_A_disrupts_B (1): \n",
      " {'TCGA-AO-A128'}\n",
      "patients_gene_B_disrupts_A (0): \n",
      " set()\n",
      "Intersection (0): \n",
      "set()\n",
      "- - - - - - - - - - - - - - - - - - - - - -\n",
      "GENE_A: ERBB2\n",
      "GENE_B: JAK1\n",
      "patients_gene_A_disrupts_B (1): \n",
      " {'TCGA-AO-A128'}\n",
      "patients_gene_B_disrupts_A (0): \n",
      " set()\n",
      "Intersection (0): \n",
      "set()\n",
      "- - - - - - - - - - - - - - - - - - - - - -\n"
     ]
    }
   ],
   "source": [
    "for interactor_protein_gene, count in interactor_count_pairs:\n",
    "    _, interactor_gene = interactor_protein_gene.split(':')\n",
    "    brca_mutex.get_patients_with_disruptive_interaction(gene_A=\"ERBB2\", gene_B=interactor_gene)"
   ]
  },
  {
   "cell_type": "code",
   "execution_count": null,
   "id": "9ed58c03-f6f8-4a36-8850-0e549f6d8e03",
   "metadata": {},
   "outputs": [],
   "source": []
  },
  {
   "cell_type": "code",
   "execution_count": null,
   "id": "41584f32-84ee-4956-b2a1-9bd6c1ed9dce",
   "metadata": {},
   "outputs": [],
   "source": []
  },
  {
   "cell_type": "code",
   "execution_count": 139,
   "id": "d6a18ce6-5126-4e4e-9928-21caef888d27",
   "metadata": {},
   "outputs": [
    {
     "data": {
      "text/plain": [
       "['P04626', 'J3QLU9']"
      ]
     },
     "execution_count": 139,
     "metadata": {},
     "output_type": "execute_result"
    }
   ],
   "source": [
    "ProteinIDFetcher().fetch(\"ERBB2\")"
   ]
  },
  {
   "cell_type": "code",
   "execution_count": 147,
   "id": "f5cc5059-a65b-4cec-90b2-05f26e0450da",
   "metadata": {},
   "outputs": [
    {
     "name": "stdout",
     "output_type": "stream",
     "text": [
      "2021-12-07 20:01:55 |\u001b[32m INFO     \u001b[0m| helpers.helpers_analysis.mutual_exclusivity | patients_gene_A_disrupts_B (5): \n",
      " {'TCGA-5L-AAT1', 'TCGA-AC-A62X', 'TCGA-A2-A0EQ', 'TCGA-E9-A226', 'TCGA-A8-A09I'}\n",
      "2021-12-07 20:01:55 |\u001b[32m INFO     \u001b[0m| helpers.helpers_analysis.mutual_exclusivity | patients_gene_B_disrupts_A (8): \n",
      " {'TCGA-LL-A73Y', 'TCGA-AR-A0TY', 'TCGA-A8-A06Y', 'TCGA-BH-A1F0', 'TCGA-A2-A0YM', 'TCGA-BH-A0H7', 'TCGA-D8-A1JA', 'TCGA-AN-A0AT'}\n",
      "2021-12-07 20:01:55 |\u001b[32m INFO     \u001b[0m| helpers.helpers_analysis.mutual_exclusivity | Intersection (0): \n",
      "set()\n",
      "2021-12-07 20:01:55 |\u001b[32m INFO     \u001b[0m| helpers.helpers_analysis.mutual_exclusivity | done.\n"
     ]
    }
   ],
   "source": [
    "brca_mutex.get_patients_with_disruptive_interaction(gene_A=\"H3C1\", gene_B=\"H4C1\")"
   ]
  },
  {
   "cell_type": "code",
   "execution_count": 160,
   "id": "ff91c3c5-3c3c-4dce-9171-483c270b6b95",
   "metadata": {},
   "outputs": [
    {
     "name": "stdout",
     "output_type": "stream",
     "text": [
      "GENE_A: TP53\n",
      "GENE_B: TP53BP2\n",
      "patients_gene_A_disrupts_B (42): \n",
      " {'TCGA-A7-A6VW', 'TCGA-A2-A0SW', 'TCGA-C8-A12O', 'TCGA-BH-A203', 'TCGA-C8-A1HF', 'TCGA-A8-A09X', 'TCGA-LL-A6FR', 'TCGA-A2-A04T', 'TCGA-OL-A5RY', 'TCGA-AR-A2LH', 'TCGA-AN-A0FX', 'TCGA-BH-A1FE', 'TCGA-EW-A1P4', 'TCGA-E2-A574', 'TCGA-BH-A0BC', 'TCGA-BH-A0AV', 'TCGA-AR-A1AW', 'TCGA-AR-A24T', 'TCGA-B6-A0WX', 'TCGA-BH-A0WA', 'TCGA-C8-A134', 'TCGA-B6-A0RS', 'TCGA-EW-A1P1', 'TCGA-C8-A26W', 'TCGA-D8-A1JM', 'TCGA-D8-A1XL', 'TCGA-BH-A1FN', 'TCGA-A8-A07W', 'TCGA-C8-A12P', 'TCGA-B6-A0I1', 'TCGA-A2-A0T1', 'TCGA-A2-A0CL', 'TCGA-LL-A8F5', 'TCGA-D8-A1JF', 'TCGA-EW-A6S9', 'TCGA-A2-A4S1', 'TCGA-BH-A5IZ', 'TCGA-AN-A04C', 'TCGA-C8-A278', 'TCGA-E9-A1NC', 'TCGA-AR-A1AJ', 'TCGA-AR-A0TP'}\n",
      "patients_gene_B_disrupts_A (0): \n",
      " set()\n",
      "Intersection (0): \n",
      "set()\n",
      "\n"
     ]
    }
   ],
   "source": [
    "brca_mutex.get_patients_with_disruptive_interaction(gene_A=\"TP53\", gene_B=\"TP53BP2\")"
   ]
  },
  {
   "cell_type": "markdown",
   "id": "22993f95-1201-48e9-8c63-a0dcbaaeb12a",
   "metadata": {},
   "source": [
    " "
   ]
  },
  {
   "cell_type": "code",
   "execution_count": null,
   "id": "65a95ee8-066a-4ea3-a703-a09d3f8f7c5b",
   "metadata": {},
   "outputs": [],
   "source": []
  },
  {
   "cell_type": "code",
   "execution_count": null,
   "id": "0e730d47-7eb7-49e9-9d02-8acca6742723",
   "metadata": {},
   "outputs": [],
   "source": []
  },
  {
   "cell_type": "code",
   "execution_count": 132,
   "id": "e8a5cda6-299c-4665-92d0-77f89f6db04a",
   "metadata": {},
   "outputs": [
    {
     "ename": "AttributeError",
     "evalue": "'MutualExclusivity' object has no attribute 'get_disrupted_interactors_unique_patients'",
     "output_type": "error",
     "traceback": [
      "\u001b[1;31m---------------------------------------------------------------------------\u001b[0m",
      "\u001b[1;31mAttributeError\u001b[0m                            Traceback (most recent call last)",
      "\u001b[1;32m~\\AppData\\Local\\Temp/ipykernel_56628/171701676.py\u001b[0m in \u001b[0;36m<module>\u001b[1;34m\u001b[0m\n\u001b[1;32m----> 1\u001b[1;33m brca_mutex.get_disrupted_interactors_unique_patients(\n\u001b[0m\u001b[0;32m      2\u001b[0m     \u001b[1;34m\"ERBB2\"\u001b[0m\u001b[1;33m,\u001b[0m \u001b[0midentifier_type\u001b[0m\u001b[1;33m=\u001b[0m\u001b[1;34m\"gene\"\u001b[0m\u001b[1;33m\u001b[0m\u001b[1;33m\u001b[0m\u001b[0m\n\u001b[0;32m      3\u001b[0m )\n",
      "\u001b[1;31mAttributeError\u001b[0m: 'MutualExclusivity' object has no attribute 'get_disrupted_interactors_unique_patients'"
     ]
    }
   ],
   "source": [
    "# brca_mutex.get_disrupted_interactors_unique_patients(\n",
    "#     \"ERBB2\", identifier_type=\"gene\"\n",
    "# )"
   ]
  },
  {
   "cell_type": "code",
   "execution_count": 44,
   "id": "4e81318f-3b6f-4f69-b231-f3c0dc02b3ce",
   "metadata": {},
   "outputs": [
    {
     "data": {
      "text/plain": [
       "{'Q96SB4:SRPK1': 4.79,\n",
       " 'P08069:IGF1R': 1.82,\n",
       " 'Q14289:PTK2B': 1.62,\n",
       " 'P16591:FER': 1.52,\n",
       " 'P00533:EGFR': 1.49,\n",
       " 'P42680:TEC': 1.4,\n",
       " 'Q13153:PAK1': 1.4,\n",
       " 'P51813:BMX': 1.38,\n",
       " 'P06241:FYN': 1.3,\n",
       " 'P21860:ERBB3': 0.84,\n",
       " 'Q9UJM3:ERRFI1': 0.8,\n",
       " 'P15153:RAC2': 0.75,\n",
       " 'P23458:JAK1': 0.66,\n",
       " 'O60674:JAK2': 0.63,\n",
       " 'Q92625:ANKS1A': 0.55}"
      ]
     },
     "execution_count": 44,
     "metadata": {},
     "output_type": "execute_result"
    }
   ],
   "source": [
    "brca_mutex.get_disrupted_interactors_probabilities(\"ERBB2\", identifier_type=\"gene\")"
   ]
  },
  {
   "cell_type": "code",
   "execution_count": null,
   "id": "50b6e265-3c92-4a86-bb3c-ed1a2e91646c",
   "metadata": {},
   "outputs": [
    {
     "data": {
      "text/html": [
       "<div>\n",
       "<style scoped>\n",
       "    .dataframe tbody tr th:only-of-type {\n",
       "        vertical-align: middle;\n",
       "    }\n",
       "\n",
       "    .dataframe tbody tr th {\n",
       "        vertical-align: top;\n",
       "    }\n",
       "\n",
       "    .dataframe thead th {\n",
       "        text-align: right;\n",
       "    }\n",
       "</style>\n",
       "<table border=\"1\" class=\"dataframe\">\n",
       "  <thead>\n",
       "    <tr style=\"text-align: right;\">\n",
       "      <th></th>\n",
       "      <th>PROTEIN</th>\n",
       "      <th>GENE</th>\n",
       "      <th>NUM_ELASPIC_INTERFACE_ENTRIES</th>\n",
       "      <th>NUM_DISRUPTIVE_ENTRIES</th>\n",
       "      <th>NUM_INCR_NOEFF_ENTRIES</th>\n",
       "      <th>NUM_UNIQUE_INTERACTORS</th>\n",
       "      <th>PATIENT_CORE_COUNT</th>\n",
       "      <th>PATIENT_INTERFACE_COUNT</th>\n",
       "      <th>NUM_INTERFACE_PATIENTS_DISRUPTIVE_INTERACTOR</th>\n",
       "      <th>BASELINE</th>\n",
       "      <th>OUR_METHOD</th>\n",
       "      <th>OUR_METHOD/BASELINE</th>\n",
       "      <th>ELASPIC_COVERAGE</th>\n",
       "      <th>CGC_STATUS</th>\n",
       "      <th>CGC_STATUS (BRCA)</th>\n",
       "    </tr>\n",
       "  </thead>\n",
       "  <tbody>\n",
       "    <tr>\n",
       "      <th>6533</th>\n",
       "      <td>Q96SB4</td>\n",
       "      <td>SRPK1</td>\n",
       "      <td>3</td>\n",
       "      <td>2</td>\n",
       "      <td>0</td>\n",
       "      <td>3</td>\n",
       "      <td>2</td>\n",
       "      <td>1</td>\n",
       "      <td>1</td>\n",
       "      <td>2</td>\n",
       "      <td>2</td>\n",
       "      <td>1.0</td>\n",
       "      <td>3</td>\n",
       "      <td>-</td>\n",
       "      <td>-</td>\n",
       "    </tr>\n",
       "  </tbody>\n",
       "</table>\n",
       "</div>"
      ],
      "text/plain": [
       "     PROTEIN   GENE  NUM_ELASPIC_INTERFACE_ENTRIES  NUM_DISRUPTIVE_ENTRIES  \\\n",
       "6533  Q96SB4  SRPK1                              3                       2   \n",
       "\n",
       "      NUM_INCR_NOEFF_ENTRIES  NUM_UNIQUE_INTERACTORS  PATIENT_CORE_COUNT  \\\n",
       "6533                       0                       3                   2   \n",
       "\n",
       "      PATIENT_INTERFACE_COUNT  NUM_INTERFACE_PATIENTS_DISRUPTIVE_INTERACTOR  \\\n",
       "6533                        1                                             1   \n",
       "\n",
       "      BASELINE  OUR_METHOD  OUR_METHOD/BASELINE  ELASPIC_COVERAGE CGC_STATUS  \\\n",
       "6533         2           2                  1.0                 3          -   \n",
       "\n",
       "     CGC_STATUS (BRCA)  \n",
       "6533                 -  "
      ]
     },
     "execution_count": 26,
     "metadata": {},
     "output_type": "execute_result"
    }
   ],
   "source": [
    "brca_preliminary_data = pd.read_excel(BRCA_PRELIMINARY_DATA_PATH)\n",
    "brca_preliminary_data[\n",
    "    brca_preliminary_data[\"GENE\"] == \"SRPK1\"\n",
    "]"
   ]
  },
  {
   "cell_type": "markdown",
   "id": "6be12522-e0d0-4c23-8fb9-348eda4ff359",
   "metadata": {
    "jp-MarkdownHeadingCollapsed": true,
    "tags": []
   },
   "source": [
    "### `TP53`"
   ]
  },
  {
   "cell_type": "code",
   "execution_count": 49,
   "id": "2815e96c-11bf-40f7-a90f-7e7cd8db418c",
   "metadata": {},
   "outputs": [
    {
     "data": {
      "text/plain": [
       "[('Q13625:TP53BP2', 42),\n",
       " ('Q96KQ4:PPP1R13B', 42),\n",
       " ('P62993:GRB2', 33),\n",
       " ('Q06187:BTK', 31),\n",
       " ('Q8WUF5:PPP1R13L', 30),\n",
       " ('Q9H3D4:TP63', 18),\n",
       " ('H2EHT1:TP53', 16),\n",
       " ('K7PPA8:TP53', 16),\n",
       " ('Q96KQ7:EHMT2', 14),\n",
       " ('O15350:TP73', 13),\n",
       " ('P07948:LYN', 12),\n",
       " ('Q9H9B1:EHMT1', 9),\n",
       " ('Q99728:BARD1', 8),\n",
       " ('O75832:PSMD10', 8),\n",
       " ('Q9ULT8:HECTD1', 8)]"
      ]
     },
     "execution_count": 49,
     "metadata": {},
     "output_type": "execute_result"
    }
   ],
   "source": [
    "brca_mutex.get_disrupted_interactors(\n",
    "    \"TP53\", identifier_type=\"gene\", return_counter=True, most_common=True\n",
    ")"
   ]
  },
  {
   "cell_type": "code",
   "execution_count": 50,
   "id": "1ee32c98-aa1e-4101-9dba-4a43d48305e5",
   "metadata": {},
   "outputs": [
    {
     "data": {
      "text/plain": [
       "{'Q13625:TP53BP2': 35.9,\n",
       " 'Q96KQ4:PPP1R13B': 34.07,\n",
       " 'Q06187:BTK': 24.39,\n",
       " 'P62993:GRB2': 24.14,\n",
       " 'Q8WUF5:PPP1R13L': 21.68,\n",
       " 'Q9H3D4:TP63': 13.65,\n",
       " 'H2EHT1:TP53': 12.37,\n",
       " 'K7PPA8:TP53': 12.190000000000001,\n",
       " 'O15350:TP73': 10.41,\n",
       " 'Q96KQ7:EHMT2': 9.3,\n",
       " 'P07948:LYN': 8.69,\n",
       " 'Q9H9B1:EHMT1': 5.97,\n",
       " 'O75832:PSMD10': 5.9,\n",
       " 'Q99728:BARD1': 5.79,\n",
       " 'Q9ULT8:HECTD1': 5.78}"
      ]
     },
     "execution_count": 50,
     "metadata": {},
     "output_type": "execute_result"
    }
   ],
   "source": [
    "brca_mutex.get_disrupted_interactors_probabilities(\"TP53\", identifier_type=\"gene\")"
   ]
  },
  {
   "cell_type": "code",
   "execution_count": null,
   "id": "4032b1b8-1d84-406a-9ee9-df32fbdc469d",
   "metadata": {},
   "outputs": [],
   "source": []
  },
  {
   "cell_type": "markdown",
   "id": "68d37076-d632-4eec-b66e-5b7bcd1abd55",
   "metadata": {
    "jp-MarkdownHeadingCollapsed": true,
    "tags": []
   },
   "source": [
    "### `H3C1`"
   ]
  },
  {
   "cell_type": "code",
   "execution_count": 68,
   "id": "9f7b1be9-8f6f-4a8c-9907-0e8590bd7b68",
   "metadata": {},
   "outputs": [
    {
     "data": {
      "text/plain": [
       "[('P62805:H4C1', 6),\n",
       " ('Q9UER7:DAXX', 6),\n",
       " ('P04908:H2AC4', 4),\n",
       " ('P16104:H2AX', 4),\n",
       " ('P0C0S8:H2AC11', 4),\n",
       " ('O75367:MACROH2A1', 4),\n",
       " ('P0C0S5:H2AZ1', 4),\n",
       " ('Q16777:H2AC20', 3),\n",
       " ('Q9Y294:ASF1A', 3),\n",
       " ('Q9NVP2:ASF1B', 3),\n",
       " ('P49450:CENPA', 3)]"
      ]
     },
     "execution_count": 68,
     "metadata": {},
     "output_type": "execute_result"
    }
   ],
   "source": [
    "brca_mutex.get_disrupted_interactors(\n",
    "    \"H3C1\", identifier_type=\"gene\", return_counter=True, most_common=True\n",
    ")"
   ]
  },
  {
   "cell_type": "code",
   "execution_count": 69,
   "id": "47f76a4c-fb4a-44b8-85e9-73c953abaa84",
   "metadata": {},
   "outputs": [
    {
     "data": {
      "text/plain": [
       "{'Q9UER7:DAXX': 3.87,\n",
       " 'P62805:H4C1': 3.6,\n",
       " 'P0C0S5:H2AZ1': 2.58,\n",
       " 'P0C0S8:H2AC11': 2.58,\n",
       " 'P16104:H2AX': 2.58,\n",
       " 'P49450:CENPA': 2.5700000000000003,\n",
       " 'P04908:H2AC4': 2.5100000000000002,\n",
       " 'O75367:MACROH2A1': 2.4699999999999998,\n",
       " 'Q9NVP2:ASF1B': 2.22,\n",
       " 'Q9Y294:ASF1A': 2.04,\n",
       " 'Q16777:H2AC20': 1.96}"
      ]
     },
     "execution_count": 69,
     "metadata": {},
     "output_type": "execute_result"
    }
   ],
   "source": [
    "brca_mutex.get_disrupted_interactors_probabilities(\"H3C1\", identifier_type=\"gene\")"
   ]
  },
  {
   "cell_type": "code",
   "execution_count": null,
   "id": "01dbe262-799b-4458-b102-b062615176cc",
   "metadata": {},
   "outputs": [],
   "source": []
  },
  {
   "cell_type": "code",
   "execution_count": null,
   "id": "2f2bc9b9-5f4b-45ba-9011-a6a789f56134",
   "metadata": {},
   "outputs": [],
   "source": []
  },
  {
   "cell_type": "markdown",
   "id": "e0f24584-9678-480f-b826-6adeea8af01a",
   "metadata": {
    "tags": []
   },
   "source": [
    "### `H4C1`"
   ]
  },
  {
   "cell_type": "code",
   "execution_count": 72,
   "id": "76ab0c5d-1a66-4569-b3eb-07a1d22692ff",
   "metadata": {},
   "outputs": [
    {
     "data": {
      "text/plain": [
       "[('P68431:H3C1', 8),\n",
       " ('P84243:H3-3A', 7),\n",
       " ('Q71DI3:H3C15', 7),\n",
       " ('Q16695:H3-4', 5),\n",
       " ('P49450:CENPA', 5),\n",
       " ('B4E1C1:nan', 4),\n",
       " ('Q9UER7:DAXX', 3),\n",
       " ('Q53F85:nan', 3),\n",
       " ('Q16514:TAF12', 2),\n",
       " ('P04908:H2AC4', 2),\n",
       " ('P0C0S5:H2AZ1', 2),\n",
       " ('Q16777:H2AC20', 2),\n",
       " ('P06899:H2BC11', 1),\n",
       " ('Q16778:H2BC21', 1),\n",
       " ('P16104:H2AX', 1),\n",
       " ('Q9Y294:ASF1A', 1)]"
      ]
     },
     "execution_count": 72,
     "metadata": {},
     "output_type": "execute_result"
    }
   ],
   "source": [
    "brca_mutex.get_disrupted_interactors(\n",
    "    \"H4C1\", identifier_type=\"gene\", return_counter=True, most_common=True\n",
    ")"
   ]
  },
  {
   "cell_type": "code",
   "execution_count": 73,
   "id": "43f340f4-1ede-4bc7-95ad-7faac771343c",
   "metadata": {},
   "outputs": [
    {
     "data": {
      "text/plain": [
       "{'P68431:H3C1': 5.74,\n",
       " 'Q71DI3:H3C15': 4.34,\n",
       " 'P84243:H3-3A': 4.29,\n",
       " 'Q16695:H3-4': 3.14,\n",
       " 'P49450:CENPA': 3.1,\n",
       " 'B4E1C1:nan': 2.3899999999999997,\n",
       " 'Q9UER7:DAXX': 2.02,\n",
       " 'Q53F85:nan': 1.6800000000000002,\n",
       " 'Q16777:H2AC20': 1.6,\n",
       " 'P04908:H2AC4': 1.57,\n",
       " 'P0C0S5:H2AZ1': 1.48,\n",
       " 'Q16514:TAF12': 1.42,\n",
       " 'Q16778:H2BC21': 0.95,\n",
       " 'P06899:H2BC11': 0.86,\n",
       " 'P16104:H2AX': 0.79,\n",
       " 'Q9Y294:ASF1A': 0.67}"
      ]
     },
     "execution_count": 73,
     "metadata": {},
     "output_type": "execute_result"
    }
   ],
   "source": [
    "brca_mutex.get_disrupted_interactors_probabilities(\"H4C1\", identifier_type=\"gene\")"
   ]
  },
  {
   "cell_type": "code",
   "execution_count": null,
   "id": "45cc813e-8fbd-4faf-a340-fa9ab7fa246e",
   "metadata": {},
   "outputs": [],
   "source": []
  },
  {
   "cell_type": "markdown",
   "id": "c744c39c-ccab-4fd4-97f3-92613a0f4f83",
   "metadata": {
    "tags": []
   },
   "source": [
    "### `MAP2K4`"
   ]
  },
  {
   "cell_type": "code",
   "execution_count": 76,
   "id": "1c78b518-fb36-4f67-b1a3-529eb0be7c82",
   "metadata": {},
   "outputs": [
    {
     "data": {
      "text/plain": [
       "[('Q5S007:LRRK2', 6),\n",
       " ('P52564:MAP2K6', 6),\n",
       " ('Q16539:MAPK14', 2),\n",
       " ('P00533:EGFR', 1),\n",
       " ('P35916:FLT4', 1),\n",
       " ('Q99558:MAP3K14', 1),\n",
       " ('P45984:MAPK9', 1)]"
      ]
     },
     "execution_count": 76,
     "metadata": {},
     "output_type": "execute_result"
    }
   ],
   "source": [
    "brca_mutex.get_disrupted_interactors(\n",
    "    \"MAP2K4\", identifier_type=\"gene\", return_counter=True, most_common=True\n",
    ")"
   ]
  },
  {
   "cell_type": "code",
   "execution_count": 77,
   "id": "93a186ce-c02a-4151-a5bb-9426cca22304",
   "metadata": {},
   "outputs": [
    {
     "data": {
      "text/plain": [
       "{'P52564:MAP2K6': 4.35,\n",
       " 'Q5S007:LRRK2': 3.46,\n",
       " 'Q16539:MAPK14': 1.4500000000000002,\n",
       " 'P00533:EGFR': 0.88,\n",
       " 'Q99558:MAP3K14': 0.81,\n",
       " 'P35916:FLT4': 0.66,\n",
       " 'P45984:MAPK9': 0.66}"
      ]
     },
     "execution_count": 77,
     "metadata": {},
     "output_type": "execute_result"
    }
   ],
   "source": [
    "brca_mutex.get_disrupted_interactors_probabilities(\"MAP2K4\", identifier_type=\"gene\")"
   ]
  },
  {
   "cell_type": "markdown",
   "id": "2449c78f-0c65-45f5-8bd6-bfb1b6a5c64d",
   "metadata": {},
   "source": [
    "### `UBC`"
   ]
  },
  {
   "cell_type": "code",
   "execution_count": 85,
   "id": "94ae22a2-5b37-4816-8b75-4491d0616f28",
   "metadata": {},
   "outputs": [
    {
     "data": {
      "text/plain": [
       "[('P21734:UBC1', 4),\n",
       " ('P61077:UBE2D3', 2),\n",
       " ('Q9UMX0:UBQLN1', 1),\n",
       " ('A8K3R3:nan', 1),\n",
       " ('Q99816:TSG101', 1)]"
      ]
     },
     "execution_count": 85,
     "metadata": {},
     "output_type": "execute_result"
    }
   ],
   "source": [
    "brca_mutex.get_disrupted_interactors(\n",
    "    \"UBC\", identifier_type=\"gene\", return_counter=True, most_common=True\n",
    ")"
   ]
  },
  {
   "cell_type": "code",
   "execution_count": 86,
   "id": "9259f576-3387-460b-9c0c-56411d1d8302",
   "metadata": {},
   "outputs": [
    {
     "data": {
      "text/plain": [
       "{'P21734:UBC1': 2.42,\n",
       " 'P61077:UBE2D3': 1.2,\n",
       " 'Q99816:TSG101': 0.81,\n",
       " 'Q9UMX0:UBQLN1': 0.7,\n",
       " 'A8K3R3:nan': 0.56}"
      ]
     },
     "execution_count": 86,
     "metadata": {},
     "output_type": "execute_result"
    }
   ],
   "source": [
    "brca_mutex.get_disrupted_interactors_probabilities(\"UBC\", identifier_type=\"gene\")"
   ]
  },
  {
   "cell_type": "code",
   "execution_count": null,
   "id": "18688638-f00b-4c5c-922f-8b94bfd9bc2b",
   "metadata": {},
   "outputs": [],
   "source": []
  },
  {
   "cell_type": "markdown",
   "id": "3a02fdb8-3a80-4367-bdef-71c34d93ee0d",
   "metadata": {},
   "source": [
    "### `PIK3CA`"
   ]
  },
  {
   "cell_type": "code",
   "execution_count": 87,
   "id": "e215002d-b613-4d12-b174-8753ec9c25f0",
   "metadata": {},
   "outputs": [
    {
     "data": {
      "text/plain": [
       "[('P27986:PIK3R1', 124),\n",
       " ('O00459:PIK3R2', 124),\n",
       " ('P43403:ZAP70', 119),\n",
       " ('Q92569:PIK3R3', 5)]"
      ]
     },
     "execution_count": 87,
     "metadata": {},
     "output_type": "execute_result"
    }
   ],
   "source": [
    "brca_mutex.get_disrupted_interactors(\n",
    "    \"PIK3CA\", identifier_type=\"gene\", return_counter=True, most_common=True\n",
    ")"
   ]
  },
  {
   "cell_type": "code",
   "execution_count": 88,
   "id": "bf264969-a529-472a-8d3c-1fddb3dc8a9c",
   "metadata": {},
   "outputs": [
    {
     "data": {
      "text/plain": [
       "{'P27986:PIK3R1': 75.5,\n",
       " 'O00459:PIK3R2': 74.36,\n",
       " 'P43403:ZAP70': 65.45,\n",
       " 'Q92569:PIK3R3': 3.15}"
      ]
     },
     "execution_count": 88,
     "metadata": {},
     "output_type": "execute_result"
    }
   ],
   "source": [
    "brca_mutex.get_disrupted_interactors_probabilities(\"PIK3CA\", identifier_type=\"gene\")"
   ]
  },
  {
   "cell_type": "code",
   "execution_count": null,
   "id": "73a814e2-8343-45e9-bfc9-72129ee0c66b",
   "metadata": {},
   "outputs": [],
   "source": []
  },
  {
   "cell_type": "markdown",
   "id": "5f05ec13-bc7c-4a7b-b9f5-0d8df89611d4",
   "metadata": {
    "tags": []
   },
   "source": [
    "## OV"
   ]
  },
  {
   "cell_type": "markdown",
   "id": "32a3978f-09ff-4c40-8603-291490e6ef3a",
   "metadata": {
    "jp-MarkdownHeadingCollapsed": true,
    "tags": []
   },
   "source": [
    "### `H4C1`"
   ]
  },
  {
   "cell_type": "code",
   "execution_count": 78,
   "id": "6ef3fd38-ded2-4e90-bbae-6c7dc8e78bda",
   "metadata": {},
   "outputs": [
    {
     "data": {
      "text/plain": [
       "[('P84243:H3-3A', 4),\n",
       " ('P68431:H3C1', 3),\n",
       " ('P04908:H2AC4', 2),\n",
       " ('Q16695:H3-4', 2),\n",
       " ('Q71DI3:H3C15', 2),\n",
       " ('P49450:CENPA', 2),\n",
       " ('P0C0S5:H2AZ1', 2),\n",
       " ('Q16777:H2AC20', 2),\n",
       " ('Q9UER7:DAXX', 1),\n",
       " ('B4E1C1:nan', 1),\n",
       " ('Q53F85:nan', 1),\n",
       " ('Q8NCD3:HJURP', 1),\n",
       " ('Q16514:TAF12', 1),\n",
       " ('P06899:H2BC11', 1),\n",
       " ('Q16778:H2BC21', 1),\n",
       " ('P16104:H2AX', 1),\n",
       " ('Q9Y294:ASF1A', 1),\n",
       " ('Q9NVP2:ASF1B', 1)]"
      ]
     },
     "execution_count": 78,
     "metadata": {},
     "output_type": "execute_result"
    }
   ],
   "source": [
    "ov_mutex.get_disrupted_interactors(\n",
    "    \"H4C1\", identifier_type=\"gene\", return_counter=True, most_common=True\n",
    ")"
   ]
  },
  {
   "cell_type": "code",
   "execution_count": 80,
   "id": "6e0e342f-703e-41ef-b508-7ba9e68f0e9c",
   "metadata": {},
   "outputs": [
    {
     "data": {
      "text/plain": [
       "{'P84243:H3-3A': 2.3600000000000003,\n",
       " 'P68431:H3C1': 2.01,\n",
       " 'Q16777:H2AC20': 1.65,\n",
       " 'P04908:H2AC4': 1.63,\n",
       " 'P0C0S5:H2AZ1': 1.6099999999999999,\n",
       " 'Q16695:H3-4': 1.2799999999999998,\n",
       " 'Q71DI3:H3C15': 1.27,\n",
       " 'P49450:CENPA': 1.22,\n",
       " 'P16104:H2AX': 0.86,\n",
       " 'P06899:H2BC11': 0.81,\n",
       " 'Q9NVP2:ASF1B': 0.8,\n",
       " 'Q16778:H2BC21': 0.79,\n",
       " 'Q9Y294:ASF1A': 0.79,\n",
       " 'Q8NCD3:HJURP': 0.7,\n",
       " 'Q9UER7:DAXX': 0.67,\n",
       " 'Q16514:TAF12': 0.66,\n",
       " 'Q53F85:nan': 0.6,\n",
       " 'B4E1C1:nan': 0.54}"
      ]
     },
     "execution_count": 80,
     "metadata": {},
     "output_type": "execute_result"
    }
   ],
   "source": [
    "ov_mutex.get_disrupted_interactors_probabilities(\"H4C1\", identifier_type=\"gene\")"
   ]
  },
  {
   "cell_type": "code",
   "execution_count": null,
   "id": "c8464814-978b-451e-970d-5f887e7848fb",
   "metadata": {},
   "outputs": [],
   "source": []
  },
  {
   "cell_type": "markdown",
   "id": "8f262100-4c30-4938-ae12-ce68ccf39109",
   "metadata": {
    "jp-MarkdownHeadingCollapsed": true,
    "tags": []
   },
   "source": [
    "### `TP53`"
   ]
  },
  {
   "cell_type": "code",
   "execution_count": 81,
   "id": "cc07f104-05cd-4466-a7f6-b8020e1fcbf7",
   "metadata": {},
   "outputs": [
    {
     "data": {
      "text/plain": [
       "[('Q13625:TP53BP2', 61),\n",
       " ('Q96KQ4:PPP1R13B', 61),\n",
       " ('P62993:GRB2', 46),\n",
       " ('Q8WUF5:PPP1R13L', 40),\n",
       " ('Q06187:BTK', 40),\n",
       " ('P07948:LYN', 33),\n",
       " ('Q9H3D4:TP63', 31),\n",
       " ('H2EHT1:TP53', 27),\n",
       " ('K7PPA8:TP53', 27),\n",
       " ('O15350:TP73', 21),\n",
       " ('Q96KQ7:EHMT2', 18),\n",
       " ('O75832:PSMD10', 8),\n",
       " ('Q9H9B1:EHMT1', 6),\n",
       " ('Q99728:BARD1', 6),\n",
       " ('Q9ULT8:HECTD1', 6),\n",
       " ('Q99466:NOTCH4', 3),\n",
       " ('Q53GA5:nan', 3),\n",
       " ('Q9GZV1:ANKRD2', 1),\n",
       " ('P25963:NFKBIA', 1)]"
      ]
     },
     "execution_count": 81,
     "metadata": {},
     "output_type": "execute_result"
    }
   ],
   "source": [
    "ov_mutex.get_disrupted_interactors(\n",
    "    \"TP53\", identifier_type=\"gene\", return_counter=True, most_common=True\n",
    ")"
   ]
  },
  {
   "cell_type": "code",
   "execution_count": 82,
   "id": "ad3ee912-b650-46f5-9280-9cd4d1e40137",
   "metadata": {},
   "outputs": [
    {
     "data": {
      "text/plain": [
       "{'Q13625:TP53BP2': 50.43,\n",
       " 'Q96KQ4:PPP1R13B': 47.660000000000004,\n",
       " 'P62993:GRB2': 34.0,\n",
       " 'Q06187:BTK': 31.310000000000002,\n",
       " 'Q8WUF5:PPP1R13L': 28.7,\n",
       " 'Q9H3D4:TP63': 23.99,\n",
       " 'P07948:LYN': 22.740000000000002,\n",
       " 'K7PPA8:TP53': 21.39,\n",
       " 'H2EHT1:TP53': 21.19,\n",
       " 'O15350:TP73': 16.11,\n",
       " 'Q96KQ7:EHMT2': 11.75,\n",
       " 'O75832:PSMD10': 5.79,\n",
       " 'Q9ULT8:HECTD1': 4.28,\n",
       " 'Q99728:BARD1': 4.25,\n",
       " 'Q9H9B1:EHMT1': 4.07,\n",
       " 'Q53GA5:nan': 2.12,\n",
       " 'Q99466:NOTCH4': 1.97,\n",
       " 'P25963:NFKBIA': 0.73,\n",
       " 'Q9GZV1:ANKRD2': 0.72}"
      ]
     },
     "execution_count": 82,
     "metadata": {},
     "output_type": "execute_result"
    }
   ],
   "source": [
    "ov_mutex.get_disrupted_interactors_probabilities(\"TP53\", identifier_type=\"gene\")"
   ]
  },
  {
   "cell_type": "code",
   "execution_count": null,
   "id": "17d03bf5-f61b-40f3-babd-2a34c762baac",
   "metadata": {},
   "outputs": [],
   "source": []
  },
  {
   "cell_type": "markdown",
   "id": "b3d5502d-f092-4ce5-a0a2-3aa7521e0cab",
   "metadata": {
    "tags": []
   },
   "source": [
    "### `ACTN2`"
   ]
  },
  {
   "cell_type": "code",
   "execution_count": 83,
   "id": "ed56c16d-c8f2-45c1-b69a-f0dcdf2fc0d0",
   "metadata": {},
   "outputs": [
    {
     "data": {
      "text/plain": [
       "[('Q9UQM7:CAMK2A', 1),\n",
       " ('Q13557:CAMK2D', 1),\n",
       " ('P12814:ACTN1', 1),\n",
       " ('Q08043:ACTN3', 1)]"
      ]
     },
     "execution_count": 83,
     "metadata": {},
     "output_type": "execute_result"
    }
   ],
   "source": [
    "ov_mutex.get_disrupted_interactors(\n",
    "    \"ACTN2\", identifier_type=\"gene\", return_counter=True, most_common=True\n",
    ")"
   ]
  },
  {
   "cell_type": "code",
   "execution_count": 84,
   "id": "f344cf12-c3f8-43e9-9bbe-49c26ce35375",
   "metadata": {},
   "outputs": [
    {
     "data": {
      "text/plain": [
       "{'P12814:ACTN1': 0.69,\n",
       " 'Q08043:ACTN3': 0.69,\n",
       " 'Q13557:CAMK2D': 0.62,\n",
       " 'Q9UQM7:CAMK2A': 0.52}"
      ]
     },
     "execution_count": 84,
     "metadata": {},
     "output_type": "execute_result"
    }
   ],
   "source": [
    "ov_mutex.get_disrupted_interactors_probabilities(\"ACTN2\", identifier_type=\"gene\")"
   ]
  },
  {
   "cell_type": "code",
   "execution_count": null,
   "id": "c7970a04-3bf6-4b35-9233-bd48f55d7c7a",
   "metadata": {},
   "outputs": [],
   "source": []
  },
  {
   "cell_type": "code",
   "execution_count": null,
   "id": "d9259ee5-5dfd-4263-8ea0-41479cbb7aa5",
   "metadata": {},
   "outputs": [],
   "source": []
  },
  {
   "cell_type": "markdown",
   "id": "86df1548-87db-426a-afe8-550544daeec9",
   "metadata": {},
   "source": [
    "## HNSC"
   ]
  },
  {
   "cell_type": "code",
   "execution_count": 95,
   "id": "9eb74d48-e7e5-41ac-801d-ec87022fedf2",
   "metadata": {},
   "outputs": [],
   "source": [
    "hnsc_protein_gene_pairs = get_protein_gene_pairs(pd.read_excel(HNSC_PRELIMINARY_DATA_PATH))"
   ]
  },
  {
   "cell_type": "code",
   "execution_count": 99,
   "id": "64ee90e0-6c5c-47e8-95c0-0134d99180f8",
   "metadata": {},
   "outputs": [
    {
     "data": {
      "text/plain": [
       "[('P01112', 'HRAS'),\n",
       " ('P04637', 'TP53'),\n",
       " ('P05129', 'PRKCG'),\n",
       " ('P15056', 'BRAF'),\n",
       " ('P22607', 'FGFR3'),\n",
       " ('P42771', 'CDKN2A'),\n",
       " ('P61586', 'RHOA'),\n",
       " ('P62805', 'H4C1'),\n",
       " ('P63000', 'RAC1'),\n",
       " ('Q16288', 'NTRK3'),\n",
       " ('Q7Z6Z7', 'HUWE1'),\n",
       " ('Q969H0', 'FBXW7')]"
      ]
     },
     "execution_count": 99,
     "metadata": {},
     "output_type": "execute_result"
    }
   ],
   "source": [
    "hnsc_protein_gene_pairs"
   ]
  },
  {
   "cell_type": "markdown",
   "id": "4731f5d9-e8ab-49f9-94cb-d6c2e5feca02",
   "metadata": {
    "jp-MarkdownHeadingCollapsed": true,
    "tags": []
   },
   "source": [
    "### `FBXW7`"
   ]
  },
  {
   "cell_type": "code",
   "execution_count": 100,
   "id": "193ad298-bda3-4dba-a113-eb4acfa8016c",
   "metadata": {},
   "outputs": [
    {
     "data": {
      "text/plain": [
       "[('P42345:MTOR', 11), ('A6NE52:WDR97', 10), ('P63244:RACK1', 5)]"
      ]
     },
     "execution_count": 100,
     "metadata": {},
     "output_type": "execute_result"
    }
   ],
   "source": [
    "hnsc_mutex.get_disrupted_interactors(\n",
    "    \"FBXW7\", identifier_type=\"gene\", return_counter=True, most_common=True\n",
    ")"
   ]
  },
  {
   "cell_type": "code",
   "execution_count": 101,
   "id": "7dcbbe36-0dab-4f26-b4ba-980b6ee3ddbd",
   "metadata": {},
   "outputs": [
    {
     "data": {
      "text/plain": [
       "{'P42345:MTOR': 9.09, 'A6NE52:WDR97': 5.38, 'P63244:RACK1': 4.08}"
      ]
     },
     "execution_count": 101,
     "metadata": {},
     "output_type": "execute_result"
    }
   ],
   "source": [
    "hnsc_mutex.get_disrupted_interactors_probabilities(\"FBXW7\", identifier_type=\"gene\")"
   ]
  },
  {
   "cell_type": "code",
   "execution_count": null,
   "id": "0c1946b2-3824-4559-bc19-c5ee3dc67ace",
   "metadata": {},
   "outputs": [],
   "source": []
  },
  {
   "cell_type": "markdown",
   "id": "a47618e1-c9be-420b-be6e-048a0bd70625",
   "metadata": {
    "jp-MarkdownHeadingCollapsed": true,
    "tags": []
   },
   "source": [
    "### `TP53`"
   ]
  },
  {
   "cell_type": "code",
   "execution_count": 102,
   "id": "6e92dc48-72e6-49d7-90a7-37d97474a2d4",
   "metadata": {},
   "outputs": [
    {
     "data": {
      "text/plain": [
       "[('Q96KQ4:PPP1R13B', 49),\n",
       " ('Q13625:TP53BP2', 48),\n",
       " ('P62993:GRB2', 36),\n",
       " ('Q06187:BTK', 32),\n",
       " ('Q8WUF5:PPP1R13L', 28),\n",
       " ('Q9H3D4:TP63', 26),\n",
       " ('P07948:LYN', 23),\n",
       " ('H2EHT1:TP53', 22),\n",
       " ('K7PPA8:TP53', 22),\n",
       " ('Q96KQ7:EHMT2', 18),\n",
       " ('O15350:TP73', 15),\n",
       " ('Q9H9B1:EHMT1', 9),\n",
       " ('Q99728:BARD1', 9),\n",
       " ('O75832:PSMD10', 9),\n",
       " ('Q9ULT8:HECTD1', 9),\n",
       " ('Q99466:NOTCH4', 1)]"
      ]
     },
     "execution_count": 102,
     "metadata": {},
     "output_type": "execute_result"
    }
   ],
   "source": [
    "hnsc_mutex.get_disrupted_interactors(\n",
    "    \"TP53\", identifier_type=\"gene\", return_counter=True, most_common=True\n",
    ")"
   ]
  },
  {
   "cell_type": "code",
   "execution_count": 103,
   "id": "b7afafff-3384-4532-8906-d180ffa5369f",
   "metadata": {},
   "outputs": [
    {
     "data": {
      "text/plain": [
       "{'Q13625:TP53BP2': 38.95,\n",
       " 'Q96KQ4:PPP1R13B': 38.51,\n",
       " 'P62993:GRB2': 26.22,\n",
       " 'Q06187:BTK': 24.8,\n",
       " 'Q8WUF5:PPP1R13L': 20.93,\n",
       " 'Q9H3D4:TP63': 19.78,\n",
       " 'H2EHT1:TP53': 16.68,\n",
       " 'K7PPA8:TP53': 16.54,\n",
       " 'P07948:LYN': 16.15,\n",
       " 'Q96KQ7:EHMT2': 11.85,\n",
       " 'O15350:TP73': 11.72,\n",
       " 'O75832:PSMD10': 6.54,\n",
       " 'Q9ULT8:HECTD1': 6.38,\n",
       " 'Q99728:BARD1': 6.34,\n",
       " 'Q9H9B1:EHMT1': 6.22,\n",
       " 'Q99466:NOTCH4': 0.57}"
      ]
     },
     "execution_count": 103,
     "metadata": {},
     "output_type": "execute_result"
    }
   ],
   "source": [
    "hnsc_mutex.get_disrupted_interactors_probabilities(\"TP53\", identifier_type=\"gene\")"
   ]
  },
  {
   "cell_type": "code",
   "execution_count": null,
   "id": "79d27a65-1bc1-484a-9e94-6cf2f6c7fea4",
   "metadata": {},
   "outputs": [],
   "source": []
  },
  {
   "cell_type": "markdown",
   "id": "732160a0-4cfc-40ef-8fee-4c16e7be9a53",
   "metadata": {
    "jp-MarkdownHeadingCollapsed": true,
    "tags": []
   },
   "source": [
    "### `BRAF`"
   ]
  },
  {
   "cell_type": "code",
   "execution_count": 104,
   "id": "d339906c-af33-4906-bc0b-7901bab8bed5",
   "metadata": {},
   "outputs": [
    {
     "data": {
      "text/plain": [
       "[('Q13177:PAK2', 3),\n",
       " ('P17252:PRKCA', 2),\n",
       " ('P53667:LIMK1', 2),\n",
       " ('P36507:MAP2K2', 1),\n",
       " ('A4QPA9:MAP2K1', 1)]"
      ]
     },
     "execution_count": 104,
     "metadata": {},
     "output_type": "execute_result"
    }
   ],
   "source": [
    "hnsc_mutex.get_disrupted_interactors(\n",
    "    \"BRAF\", identifier_type=\"gene\", return_counter=True, most_common=True\n",
    ")"
   ]
  },
  {
   "cell_type": "code",
   "execution_count": 105,
   "id": "c2bef8e3-953c-454a-b7b6-b3aab8916a0b",
   "metadata": {},
   "outputs": [
    {
     "data": {
      "text/plain": [
       "{'Q13177:PAK2': 2.08,\n",
       " 'P17252:PRKCA': 1.4300000000000002,\n",
       " 'P53667:LIMK1': 1.07,\n",
       " 'A4QPA9:MAP2K1': 0.61,\n",
       " 'P36507:MAP2K2': 0.61}"
      ]
     },
     "execution_count": 105,
     "metadata": {},
     "output_type": "execute_result"
    }
   ],
   "source": [
    "hnsc_mutex.get_disrupted_interactors_probabilities(\"BRAF\", identifier_type=\"gene\")"
   ]
  },
  {
   "cell_type": "code",
   "execution_count": null,
   "id": "df2a85d8-4d1b-437a-bf1f-f83d271b6462",
   "metadata": {},
   "outputs": [],
   "source": []
  },
  {
   "cell_type": "markdown",
   "id": "7c210220-83ff-41e2-be43-385371868840",
   "metadata": {
    "jp-MarkdownHeadingCollapsed": true,
    "tags": []
   },
   "source": [
    "### `RAC1`"
   ]
  },
  {
   "cell_type": "code",
   "execution_count": 106,
   "id": "55595346-b7ce-4a81-a712-b3b3cfe38daf",
   "metadata": {},
   "outputs": [
    {
     "data": {
      "text/plain": [
       "[('Q17R89:ARHGAP44', 8),\n",
       " ('Q8NF50:DOCK8', 2),\n",
       " ('Q13972:RASGRF1', 2),\n",
       " ('Q14185:DOCK1', 1),\n",
       " ('Q92608:DOCK2', 1),\n",
       " ('Q15286:RAB35', 1),\n",
       " ('O14559:ARHGAP33', 1)]"
      ]
     },
     "execution_count": 106,
     "metadata": {},
     "output_type": "execute_result"
    }
   ],
   "source": [
    "hnsc_mutex.get_disrupted_interactors(\n",
    "    \"RAC1\", identifier_type=\"gene\", return_counter=True, most_common=True\n",
    ")"
   ]
  },
  {
   "cell_type": "code",
   "execution_count": 107,
   "id": "a66f1a35-8db2-42cc-8a13-744d7af89efd",
   "metadata": {},
   "outputs": [
    {
     "data": {
      "text/plain": [
       "{'Q17R89:ARHGAP44': 4.88,\n",
       " 'Q8NF50:DOCK8': 1.58,\n",
       " 'Q13972:RASGRF1': 1.25,\n",
       " 'Q92608:DOCK2': 0.79,\n",
       " 'Q15286:RAB35': 0.76,\n",
       " 'Q14185:DOCK1': 0.65,\n",
       " 'O14559:ARHGAP33': 0.64}"
      ]
     },
     "execution_count": 107,
     "metadata": {},
     "output_type": "execute_result"
    }
   ],
   "source": [
    "hnsc_mutex.get_disrupted_interactors_probabilities(\"RAC1\", identifier_type=\"gene\")"
   ]
  },
  {
   "cell_type": "code",
   "execution_count": null,
   "id": "cd5bfcc9-119b-4675-b977-cf3b141aa687",
   "metadata": {},
   "outputs": [],
   "source": []
  },
  {
   "cell_type": "markdown",
   "id": "a301532f-b353-43df-9e1b-d686e11ba7b0",
   "metadata": {},
   "source": [
    "### `HUWE1`"
   ]
  },
  {
   "cell_type": "code",
   "execution_count": 108,
   "id": "744d43cd-a5bd-42d3-8e8c-933d576fd3dc",
   "metadata": {},
   "outputs": [
    {
     "data": {
      "text/plain": [
       "[('P62837:UBE2D2', 4),\n",
       " ('P61077:UBE2D3', 4),\n",
       " ('P54725:RAD23A', 4),\n",
       " ('P11441:UBL4A', 4),\n",
       " ('Q969T4:UBE2E3', 3),\n",
       " ('P51668:UBE2D1', 3),\n",
       " ('P62253:UBE2G1', 3),\n",
       " ('P68036:UBE2L3', 2)]"
      ]
     },
     "execution_count": 108,
     "metadata": {},
     "output_type": "execute_result"
    }
   ],
   "source": [
    "hnsc_mutex.get_disrupted_interactors(\n",
    "    \"HUWE1\", identifier_type=\"gene\", return_counter=True, most_common=True\n",
    ")"
   ]
  },
  {
   "cell_type": "code",
   "execution_count": 109,
   "id": "d63522cf-6543-4b2a-86f8-039d34b567b2",
   "metadata": {},
   "outputs": [
    {
     "data": {
      "text/plain": [
       "{'P11441:UBL4A': 3.26,\n",
       " 'P62837:UBE2D2': 3.05,\n",
       " 'P61077:UBE2D3': 2.52,\n",
       " 'P54725:RAD23A': 2.5,\n",
       " 'P51668:UBE2D1': 2.21,\n",
       " 'Q969T4:UBE2E3': 1.94,\n",
       " 'P62253:UBE2G1': 1.87,\n",
       " 'P68036:UBE2L3': 1.2799999999999998}"
      ]
     },
     "execution_count": 109,
     "metadata": {},
     "output_type": "execute_result"
    }
   ],
   "source": [
    "hnsc_mutex.get_disrupted_interactors_probabilities(\"HUWE1\", identifier_type=\"gene\")"
   ]
  },
  {
   "cell_type": "code",
   "execution_count": null,
   "id": "94ce3dcc-6205-4a2d-bf02-41095baced71",
   "metadata": {},
   "outputs": [],
   "source": []
  },
  {
   "cell_type": "markdown",
   "id": "a59824f7-376d-4ae7-a3c3-ac394743be5e",
   "metadata": {},
   "source": [
    "### `H4C1`"
   ]
  },
  {
   "cell_type": "code",
   "execution_count": 111,
   "id": "f14dff26-121b-4e42-b9eb-2b44492c83c0",
   "metadata": {},
   "outputs": [
    {
     "data": {
      "text/plain": [
       "[('P84243:H3-3A', 11),\n",
       " ('P68431:H3C1', 11),\n",
       " ('Q9UER7:DAXX', 11),\n",
       " ('Q53F85:nan', 10),\n",
       " ('Q16695:H3-4', 9),\n",
       " ('Q71DI3:H3C15', 9),\n",
       " ('P49450:CENPA', 9),\n",
       " ('B4E1C1:nan', 8),\n",
       " ('Q16514:TAF12', 5),\n",
       " ('P06899:H2BC11', 5),\n",
       " ('Q16778:H2BC21', 5),\n",
       " ('P04908:H2AC4', 2),\n",
       " ('P16104:H2AX', 2),\n",
       " ('P0C0S5:H2AZ1', 2),\n",
       " ('Q9Y294:ASF1A', 2),\n",
       " ('Q16777:H2AC20', 2),\n",
       " ('Q9NVP2:ASF1B', 2)]"
      ]
     },
     "execution_count": 111,
     "metadata": {},
     "output_type": "execute_result"
    }
   ],
   "source": [
    "hnsc_mutex.get_disrupted_interactors(\n",
    "    \"H4C1\", identifier_type=\"gene\", return_counter=True, most_common=True\n",
    ")"
   ]
  },
  {
   "cell_type": "code",
   "execution_count": 112,
   "id": "961ad6a1-69cc-44be-9545-4857e661c769",
   "metadata": {},
   "outputs": [
    {
     "data": {
      "text/plain": [
       "{'P68431:H3C1': 8.2,\n",
       " 'P84243:H3-3A': 7.09,\n",
       " 'Q9UER7:DAXX': 6.77,\n",
       " 'Q71DI3:H3C15': 6.14,\n",
       " 'Q16695:H3-4': 6.13,\n",
       " 'Q53F85:nan': 5.85,\n",
       " 'P49450:CENPA': 5.32,\n",
       " 'B4E1C1:nan': 4.64,\n",
       " 'Q16778:H2BC21': 4.59,\n",
       " 'P06899:H2BC11': 4.43,\n",
       " 'Q16514:TAF12': 3.4899999999999998,\n",
       " 'P16104:H2AX': 1.6600000000000001,\n",
       " 'Q16777:H2AC20': 1.6600000000000001,\n",
       " 'P04908:H2AC4': 1.6400000000000001,\n",
       " 'P0C0S5:H2AZ1': 1.5899999999999999,\n",
       " 'Q9NVP2:ASF1B': 1.58,\n",
       " 'Q9Y294:ASF1A': 1.58}"
      ]
     },
     "execution_count": 112,
     "metadata": {},
     "output_type": "execute_result"
    }
   ],
   "source": [
    "hnsc_mutex.get_disrupted_interactors_probabilities(\"H4C1\", identifier_type=\"gene\")"
   ]
  },
  {
   "cell_type": "code",
   "execution_count": null,
   "id": "67cd072e-e96a-42a9-9587-ef3365e424b5",
   "metadata": {},
   "outputs": [],
   "source": []
  },
  {
   "cell_type": "markdown",
   "id": "b06e03a1-9661-4e25-9acf-5165ad62b9e2",
   "metadata": {},
   "source": [
    "### `CDKN2A`"
   ]
  },
  {
   "cell_type": "code",
   "execution_count": 113,
   "id": "643fdec4-0ee5-4bcd-84aa-721417aa1ca8",
   "metadata": {},
   "outputs": [
    {
     "data": {
      "text/plain": [
       "[('P11802:CDK4', 15),\n",
       " ('P29320:EPHA3', 11),\n",
       " ('O14920:IKBKB', 11),\n",
       " ('P17252:PRKCA', 11),\n",
       " ('A4D1G0:CDK6', 9),\n",
       " ('Q00534:CDK6', 8),\n",
       " ('A1L4K2:MAPK8', 8),\n",
       " ('Q9UQ88:CDK11A', 7),\n",
       " ('P45983:MAPK8', 7),\n",
       " ('O14965:AURKA', 7),\n",
       " ('B2R6V2:nan', 7),\n",
       " ('P49760:CLK2', 6),\n",
       " ('P53779:MAPK10', 6),\n",
       " ('O00311:CDC7', 4),\n",
       " ('Q8NE63:HIPK4', 4),\n",
       " ('A8MWW6:nan', 3),\n",
       " ('Q14164:IKBKE', 3),\n",
       " ('Q9Y463:DYRK1B', 3),\n",
       " ('P07437:TUBB', 2),\n",
       " ('Q499Y8:MAPK10', 2),\n",
       " ('Q71U36:TUBA1A', 1),\n",
       " ('Q9BQE3:TUBA1C', 1),\n",
       " ('P68371:TUBB4B', 1)]"
      ]
     },
     "execution_count": 113,
     "metadata": {},
     "output_type": "execute_result"
    }
   ],
   "source": [
    "hnsc_mutex.get_disrupted_interactors(\n",
    "    \"CDKN2A\", identifier_type=\"gene\", return_counter=True, most_common=True\n",
    ")"
   ]
  },
  {
   "cell_type": "code",
   "execution_count": 114,
   "id": "5f792520-5ce9-4272-8dab-90fb6f1c266a",
   "metadata": {},
   "outputs": [
    {
     "data": {
      "text/plain": [
       "{'P11802:CDK4': 10.09,\n",
       " 'O14920:IKBKB': 6.5,\n",
       " 'P29320:EPHA3': 6.46,\n",
       " 'P17252:PRKCA': 6.12,\n",
       " 'A4D1G0:CDK6': 6.0,\n",
       " 'Q00534:CDK6': 5.44,\n",
       " 'A1L4K2:MAPK8': 5.22,\n",
       " 'B2R6V2:nan': 5.140000000000001,\n",
       " 'P45983:MAPK8': 4.53,\n",
       " 'Q9UQ88:CDK11A': 4.51,\n",
       " 'O14965:AURKA': 4.05,\n",
       " 'P49760:CLK2': 3.52,\n",
       " 'P53779:MAPK10': 3.46,\n",
       " 'O00311:CDC7': 2.5,\n",
       " 'Q8NE63:HIPK4': 2.1100000000000003,\n",
       " 'A8MWW6:nan': 1.85,\n",
       " 'Q14164:IKBKE': 1.83,\n",
       " 'Q9Y463:DYRK1B': 1.75,\n",
       " 'P07437:TUBB': 1.4,\n",
       " 'Q499Y8:MAPK10': 1.24,\n",
       " 'Q71U36:TUBA1A': 0.86,\n",
       " 'Q9BQE3:TUBA1C': 0.86,\n",
       " 'P68371:TUBB4B': 0.85}"
      ]
     },
     "execution_count": 114,
     "metadata": {},
     "output_type": "execute_result"
    }
   ],
   "source": [
    "hnsc_mutex.get_disrupted_interactors_probabilities(\"CDKN2A\", identifier_type=\"gene\")"
   ]
  },
  {
   "cell_type": "code",
   "execution_count": null,
   "id": "33f08848-e35a-478f-a336-dcad7d95507d",
   "metadata": {},
   "outputs": [],
   "source": []
  },
  {
   "cell_type": "markdown",
   "id": "864ed8db-82d8-416f-a641-7ddb3eac4f28",
   "metadata": {},
   "source": [
    "### `HRAS`"
   ]
  },
  {
   "cell_type": "code",
   "execution_count": 121,
   "id": "80362c55-dfb6-4975-b267-96e791f59658",
   "metadata": {},
   "outputs": [
    {
     "data": {
      "text/plain": [
       "[('Q07889:SOS1', 25),\n",
       " ('Q07890:SOS2', 25),\n",
       " ('G5E9C8:SOS1', 21),\n",
       " ('Q13972:RASGRF1', 16),\n",
       " ('Q9UJ41:RABGEF1', 15),\n",
       " ('Q13671:RIN1', 12),\n",
       " ('Q8IV61:RASGRP3', 11),\n",
       " ('Q9NZL6:RGL1', 9),\n",
       " ('Q12967:RALGDS', 3),\n",
       " ('Q15811:ITSN1', 3),\n",
       " ('P15498:VAV1', 3),\n",
       " ('Q13905:RAPGEF1', 3),\n",
       " ('Q13009:TIAM1', 3),\n",
       " ('Q9P212:PLCE1', 3),\n",
       " ('P10398:ARAF', 1),\n",
       " ('P08069:IGF1R', 1),\n",
       " ('P06239:LCK', 1),\n",
       " ('O95267:RASGRP1', 1)]"
      ]
     },
     "execution_count": 121,
     "metadata": {},
     "output_type": "execute_result"
    }
   ],
   "source": [
    "hnsc_mutex.get_disrupted_interactors(\n",
    "    \"HRAS\", identifier_type=\"gene\", return_counter=True, most_common=True\n",
    ")"
   ]
  },
  {
   "cell_type": "code",
   "execution_count": 119,
   "id": "bcf6d950-3d76-452b-b6e4-5774967b4d3e",
   "metadata": {},
   "outputs": [
    {
     "data": {
      "text/plain": [
       "{'Q07889:SOS1': 16.84,\n",
       " 'Q07890:SOS2': 15.36,\n",
       " 'G5E9C8:SOS1': 14.9,\n",
       " 'Q9UJ41:RABGEF1': 10.01,\n",
       " 'Q13972:RASGRF1': 8.63,\n",
       " 'Q13671:RIN1': 6.84,\n",
       " 'Q8IV61:RASGRP3': 5.87,\n",
       " 'Q9NZL6:RGL1': 4.82,\n",
       " 'P15498:VAV1': 2.16,\n",
       " 'Q13009:TIAM1': 1.8900000000000001,\n",
       " 'Q15811:ITSN1': 1.83,\n",
       " 'Q13905:RAPGEF1': 1.71,\n",
       " 'Q9P212:PLCE1': 1.6500000000000001,\n",
       " 'Q12967:RALGDS': 1.56,\n",
       " 'P06239:LCK': 0.76,\n",
       " 'P08069:IGF1R': 0.72,\n",
       " 'P10398:ARAF': 0.65,\n",
       " 'O95267:RASGRP1': 0.52}"
      ]
     },
     "execution_count": 119,
     "metadata": {},
     "output_type": "execute_result"
    }
   ],
   "source": [
    "hnsc_mutex.get_disrupted_interactors_probabilities(\"HRAS\", identifier_type=\"gene\")"
   ]
  },
  {
   "cell_type": "code",
   "execution_count": null,
   "id": "09cfe90f-8748-4076-a0f6-0873fd86cb17",
   "metadata": {},
   "outputs": [],
   "source": []
  },
  {
   "cell_type": "markdown",
   "id": "e3e34efb-8d1b-4be6-96d5-a3b00d506c47",
   "metadata": {},
   "source": [
    "## GBM"
   ]
  },
  {
   "cell_type": "markdown",
   "id": "7640af00-5f2d-4be5-9919-203c65cf13f0",
   "metadata": {},
   "source": [
    "### `TP53`"
   ]
  },
  {
   "cell_type": "code",
   "execution_count": 123,
   "id": "759bfbdc-d721-46ab-9076-79c20dceb2da",
   "metadata": {},
   "outputs": [
    {
     "data": {
      "text/plain": [
       "[('Q13625:TP53BP2', 30),\n",
       " ('Q96KQ4:PPP1R13B', 30),\n",
       " ('P62993:GRB2', 22),\n",
       " ('P07948:LYN', 19),\n",
       " ('Q9H3D4:TP63', 18),\n",
       " ('Q8WUF5:PPP1R13L', 18),\n",
       " ('Q06187:BTK', 18),\n",
       " ('H2EHT1:TP53', 14),\n",
       " ('K7PPA8:TP53', 14),\n",
       " ('O15350:TP73', 7),\n",
       " ('Q96KQ7:EHMT2', 6),\n",
       " ('Q9H9B1:EHMT1', 5),\n",
       " ('Q99728:BARD1', 5),\n",
       " ('O75832:PSMD10', 5),\n",
       " ('Q9ULT8:HECTD1', 5),\n",
       " ('Q99466:NOTCH4', 2),\n",
       " ('Q9GZV1:ANKRD2', 1),\n",
       " ('P25963:NFKBIA', 1),\n",
       " ('Q53GA5:nan', 1)]"
      ]
     },
     "execution_count": 123,
     "metadata": {},
     "output_type": "execute_result"
    }
   ],
   "source": [
    "gbm_mutex.get_disrupted_interactors(\n",
    "    \"TP53\", identifier_type=\"gene\", return_counter=True, most_common=True\n",
    ")"
   ]
  },
  {
   "cell_type": "code",
   "execution_count": 124,
   "id": "9e54ee48-09ef-42ca-be71-0ca61f26e52a",
   "metadata": {},
   "outputs": [
    {
     "data": {
      "text/plain": [
       "{'Q13625:TP53BP2': 24.52,\n",
       " 'Q96KQ4:PPP1R13B': 23.21,\n",
       " 'P62993:GRB2': 16.43,\n",
       " 'Q06187:BTK': 13.98,\n",
       " 'Q9H3D4:TP63': 13.91,\n",
       " 'P07948:LYN': 13.03,\n",
       " 'Q8WUF5:PPP1R13L': 12.94,\n",
       " 'K7PPA8:TP53': 11.120000000000001,\n",
       " 'H2EHT1:TP53': 11.06,\n",
       " 'O15350:TP73': 5.34,\n",
       " 'Q96KQ7:EHMT2': 3.9000000000000004,\n",
       " 'O75832:PSMD10': 3.68,\n",
       " 'Q99728:BARD1': 3.5700000000000003,\n",
       " 'Q9ULT8:HECTD1': 3.45,\n",
       " 'Q9H9B1:EHMT1': 3.37,\n",
       " 'Q99466:NOTCH4': 1.4100000000000001,\n",
       " 'Q53GA5:nan': 0.64,\n",
       " 'P25963:NFKBIA': 0.63,\n",
       " 'Q9GZV1:ANKRD2': 0.62}"
      ]
     },
     "execution_count": 124,
     "metadata": {},
     "output_type": "execute_result"
    }
   ],
   "source": [
    "gbm_mutex.get_disrupted_interactors_probabilities(\"TP53\", identifier_type=\"gene\")"
   ]
  },
  {
   "cell_type": "code",
   "execution_count": null,
   "id": "33898271-4c76-4fcc-a961-53cf2b57b2cd",
   "metadata": {},
   "outputs": [],
   "source": []
  },
  {
   "cell_type": "code",
   "execution_count": null,
   "id": "8abb47ef-4128-42c4-bcac-c2d49160afa3",
   "metadata": {},
   "outputs": [],
   "source": []
  },
  {
   "cell_type": "markdown",
   "id": "0af558c0-4a84-45b3-8b6e-00b8a27bc112",
   "metadata": {},
   "source": [
    "## ESCA"
   ]
  },
  {
   "cell_type": "markdown",
   "id": "43703a9a-3777-4e1e-a0fb-626dd1ee3847",
   "metadata": {},
   "source": [
    "### `TP53`"
   ]
  },
  {
   "cell_type": "code",
   "execution_count": 125,
   "id": "25018aa9-d44a-43a0-abad-152b4ea8c092",
   "metadata": {},
   "outputs": [
    {
     "data": {
      "text/plain": [
       "[('Q13625:TP53BP2', 30),\n",
       " ('Q96KQ4:PPP1R13B', 30),\n",
       " ('P62993:GRB2', 19),\n",
       " ('Q06187:BTK', 18),\n",
       " ('P07948:LYN', 18),\n",
       " ('Q8WUF5:PPP1R13L', 17),\n",
       " ('Q9H3D4:TP63', 13),\n",
       " ('H2EHT1:TP53', 11),\n",
       " ('K7PPA8:TP53', 11),\n",
       " ('Q96KQ7:EHMT2', 8),\n",
       " ('O15350:TP73', 6),\n",
       " ('O75832:PSMD10', 3),\n",
       " ('Q99466:NOTCH4', 2),\n",
       " ('Q9H9B1:EHMT1', 2),\n",
       " ('Q99728:BARD1', 2),\n",
       " ('Q9ULT8:HECTD1', 2),\n",
       " ('Q53GA5:nan', 1)]"
      ]
     },
     "execution_count": 125,
     "metadata": {},
     "output_type": "execute_result"
    }
   ],
   "source": [
    "esca_mutex.get_disrupted_interactors(\n",
    "    \"TP53\", identifier_type=\"gene\", return_counter=True, most_common=True\n",
    ")"
   ]
  },
  {
   "cell_type": "code",
   "execution_count": 126,
   "id": "f9e0e9eb-f3c7-4e65-bc78-c41ba616c344",
   "metadata": {},
   "outputs": [
    {
     "data": {
      "text/plain": [
       "{'Q13625:TP53BP2': 24.0,\n",
       " 'Q96KQ4:PPP1R13B': 22.84,\n",
       " 'P62993:GRB2': 14.02,\n",
       " 'Q06187:BTK': 14.02,\n",
       " 'Q8WUF5:PPP1R13L': 11.969999999999999,\n",
       " 'P07948:LYN': 11.69,\n",
       " 'Q9H3D4:TP63': 10.27,\n",
       " 'K7PPA8:TP53': 8.56,\n",
       " 'H2EHT1:TP53': 8.55,\n",
       " 'Q96KQ7:EHMT2': 5.21,\n",
       " 'O15350:TP73': 4.65,\n",
       " 'O75832:PSMD10': 2.1,\n",
       " 'Q9ULT8:HECTD1': 1.46,\n",
       " 'Q99728:BARD1': 1.38,\n",
       " 'Q9H9B1:EHMT1': 1.37,\n",
       " 'Q99466:NOTCH4': 1.2,\n",
       " 'Q53GA5:nan': 0.65}"
      ]
     },
     "execution_count": 126,
     "metadata": {},
     "output_type": "execute_result"
    }
   ],
   "source": [
    "esca_mutex.get_disrupted_interactors_probabilities(\"TP53\", identifier_type=\"gene\")"
   ]
  },
  {
   "cell_type": "markdown",
   "id": "32040ab2-b9fb-47c6-ab47-72adc47f1d07",
   "metadata": {},
   "source": [
    "### `H4C1`"
   ]
  },
  {
   "cell_type": "code",
   "execution_count": 127,
   "id": "b4b28d9f-24b8-4246-b38e-c0eca0d059e4",
   "metadata": {},
   "outputs": [
    {
     "data": {
      "text/plain": [
       "[('P68431:H3C1', 3),\n",
       " ('Q9UER7:DAXX', 3),\n",
       " ('Q53F85:nan', 3),\n",
       " ('Q16514:TAF12', 2),\n",
       " ('P06899:H2BC11', 2),\n",
       " ('Q16778:H2BC21', 2),\n",
       " ('P84243:H3-3A', 2),\n",
       " ('Q16695:H3-4', 2),\n",
       " ('Q71DI3:H3C15', 2),\n",
       " ('P49450:CENPA', 2),\n",
       " ('B4E1C1:nan', 2)]"
      ]
     },
     "execution_count": 127,
     "metadata": {},
     "output_type": "execute_result"
    }
   ],
   "source": [
    "esca_mutex.get_disrupted_interactors(\n",
    "    \"H4C1\", identifier_type=\"gene\", return_counter=True, most_common=True\n",
    ")"
   ]
  },
  {
   "cell_type": "code",
   "execution_count": 128,
   "id": "12455c1c-f6b2-4796-a699-64d8a0ca3362",
   "metadata": {},
   "outputs": [
    {
     "data": {
      "text/plain": [
       "{'P68431:H3C1': 2.17,\n",
       " 'Q16778:H2BC21': 1.83,\n",
       " 'P06899:H2BC11': 1.79,\n",
       " 'Q53F85:nan': 1.78,\n",
       " 'Q9UER7:DAXX': 1.75,\n",
       " 'P84243:H3-3A': 1.45,\n",
       " 'Q16695:H3-4': 1.45,\n",
       " 'Q16514:TAF12': 1.4100000000000001,\n",
       " 'Q71DI3:H3C15': 1.3900000000000001,\n",
       " 'P49450:CENPA': 1.37,\n",
       " 'B4E1C1:nan': 1.1}"
      ]
     },
     "execution_count": 128,
     "metadata": {},
     "output_type": "execute_result"
    }
   ],
   "source": [
    "esca_mutex.get_disrupted_interactors_probabilities(\"H4C1\", identifier_type=\"gene\")"
   ]
  },
  {
   "cell_type": "code",
   "execution_count": null,
   "id": "00e11972-8c89-4734-a2df-d62aad3e0eac",
   "metadata": {},
   "outputs": [],
   "source": []
  },
  {
   "cell_type": "code",
   "execution_count": null,
   "id": "4bb13b4d-57da-41df-a655-d13269273b5d",
   "metadata": {},
   "outputs": [],
   "source": []
  },
  {
   "cell_type": "code",
   "execution_count": null,
   "id": "66368ff7-c9eb-41ec-91e4-5d0d07df0f3c",
   "metadata": {},
   "outputs": [],
   "source": []
  },
  {
   "cell_type": "code",
   "execution_count": null,
   "id": "cbe45ff9-b9c3-4772-8f98-34dd5eeb462e",
   "metadata": {},
   "outputs": [],
   "source": []
  }
 ],
 "metadata": {
  "kernelspec": {
   "display_name": "Predicting-Mutation-Effects",
   "language": "python",
   "name": "predicting-mutation-effects"
  },
  "language_info": {
   "codemirror_mode": {
    "name": "ipython",
    "version": 3
   },
   "file_extension": ".py",
   "mimetype": "text/x-python",
   "name": "python",
   "nbconvert_exporter": "python",
   "pygments_lexer": "ipython3",
   "version": "3.8.10"
  }
 },
 "nbformat": 4,
 "nbformat_minor": 5
}
