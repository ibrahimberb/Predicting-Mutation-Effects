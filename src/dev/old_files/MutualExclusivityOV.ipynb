{
 "cells": [
  {
   "cell_type": "markdown",
   "id": "a507755d-7d6d-42e6-8c83-44ed01e1fe5c",
   "metadata": {},
   "source": [
    "# Mutual Exclusivity: OV"
   ]
  },
  {
   "cell_type": "code",
   "execution_count": 1,
   "id": "a9942580-be24-4b17-b45b-918d3b3f153a",
   "metadata": {},
   "outputs": [],
   "source": [
    "import os\n",
    "import os.path as op\n",
    "\n",
    "os.chdir('../')\n",
    "\n",
    "# os.listdir()"
   ]
  },
  {
   "cell_type": "code",
   "execution_count": 2,
   "id": "91c19c2c-491d-4b6e-bdfb-248f2bb0f7ce",
   "metadata": {},
   "outputs": [],
   "source": [
    "# SNV_PATHS\n",
    "SNV_COMMON_PATH = \"C:/Users/ibrah/Desktop/SNV_data/SNV_datasets/\"\n",
    "OV_SNV_PATH = op.join(SNV_COMMON_PATH, \"SNV_OV_hg38_2021-09-22.csv\")\n",
    "\n",
    "# PATIENT INTERACTION DATA PATHS\n",
    "OV_PATIENT_INTERACTION_DATA_PATH = \"dev/OV_patient_interactions_analysis_table_2021-11-12.xlsx\"\n",
    "\n",
    "# Reflect changes in the modules immediately.\n",
    "%load_ext autoreload\n",
    "%autoreload 2"
   ]
  },
  {
   "cell_type": "code",
   "execution_count": 3,
   "id": "8b4bb5d5-7339-4c1d-9311-7fd0400a8cf3",
   "metadata": {},
   "outputs": [],
   "source": [
    "from helpers.helpers_analysis.mutual_exclusivity import MutualExclusivity\n",
    "from helpers.helpers_analysis.protein_id_retrieval import ProteinIDFetcher"
   ]
  },
  {
   "cell_type": "code",
   "execution_count": 4,
   "id": "4564f2f4-948b-4ce9-bc8d-d23c3a0b35b0",
   "metadata": {},
   "outputs": [
    {
     "name": "stdout",
     "output_type": "stream",
     "text": [
      "2021-11-13 21:32:51 |\u001b[36m DEBUG    \u001b[0m| helpers.helpers_analysis.mutual_exclusivity | Loading SNV data simplified ..\n",
      "2021-11-13 21:32:51 |\u001b[32m INFO     \u001b[0m| helpers.helpers_analysis.loaders | Loading OV SNV datasets ..\n",
      "2021-11-13 21:32:56 |\u001b[36m DEBUG    \u001b[0m| helpers.helpers_analysis.loaders | OV SNV data size: (75168, 121)\n",
      "2021-11-13 21:32:56 |\u001b[36m DEBUG    \u001b[0m| helpers.helpers_analysis.loaders | OV SNV data processed size: (38486, 121)\n",
      "2021-11-13 21:32:56 |\u001b[32m INFO     \u001b[0m| helpers.helpers_analysis.loaders | OV SNV datasets are loaded.\n",
      "2021-11-13 21:32:56 |\u001b[36m DEBUG    \u001b[0m| helpers.helpers_analysis.mutual_exclusivity | Loading patient ids ..\n",
      "2021-11-13 21:32:56 |\u001b[36m DEBUG    \u001b[0m| helpers.helpers_analysis.mutual_exclusivity | Loading patient to snv_data ..\n"
     ]
    },
    {
     "data": {
      "application/vnd.jupyter.widget-view+json": {
       "model_id": "b4ffb2dfb1614753a593b9062db2c8d9",
       "version_major": 2,
       "version_minor": 0
      },
      "text/plain": [
       "  0%|          | 0/436 [00:00<?, ?it/s]"
      ]
     },
     "metadata": {},
     "output_type": "display_data"
    },
    {
     "name": "stdout",
     "output_type": "stream",
     "text": [
      "2021-11-13 21:32:58 |\u001b[36m DEBUG    \u001b[0m| helpers.helpers_analysis.mutual_exclusivity | patient interaction data patient data ..\n"
     ]
    }
   ],
   "source": [
    "ov_mutex = MutualExclusivity(\n",
    "    tcga=\"OV\", \n",
    "    tcga_snv_path=OV_SNV_PATH, \n",
    "    patient_interaction_data_path=OV_PATIENT_INTERACTION_DATA_PATH\n",
    ")"
   ]
  },
  {
   "cell_type": "code",
   "execution_count": 5,
   "id": "5268b0f6-9528-4337-84c0-a099971aa754",
   "metadata": {},
   "outputs": [
    {
     "data": {
      "text/plain": [
       "436"
      ]
     },
     "execution_count": 5,
     "metadata": {},
     "output_type": "execute_result"
    }
   ],
   "source": [
    "len(ov_mutex.patients)"
   ]
  },
  {
   "cell_type": "code",
   "execution_count": 6,
   "id": "a1adf927-6abf-4712-92cb-778bd92a1f31",
   "metadata": {},
   "outputs": [
    {
     "data": {
      "text/plain": [
       "237"
      ]
     },
     "execution_count": 6,
     "metadata": {},
     "output_type": "execute_result"
    }
   ],
   "source": [
    "len(ov_mutex.get_patients_with(\"P04637\", identifier_type=\"protein\"))"
   ]
  },
  {
   "cell_type": "code",
   "execution_count": 7,
   "id": "75b28d84-8d81-484e-b9cd-e046eb3cbb8d",
   "metadata": {},
   "outputs": [
    {
     "data": {
      "text/plain": [
       "5"
      ]
     },
     "execution_count": 7,
     "metadata": {},
     "output_type": "execute_result"
    }
   ],
   "source": [
    "len(ov_mutex.get_patients_with(\"P04626\", identifier_type=\"protein\"))"
   ]
  },
  {
   "cell_type": "code",
   "execution_count": 8,
   "id": "533c31a0-2ae1-4ad8-a0e0-5e321a1bb8f0",
   "metadata": {},
   "outputs": [
    {
     "data": {
      "text/plain": [
       "['P04626', 'J3QLU9']"
      ]
     },
     "execution_count": 8,
     "metadata": {},
     "output_type": "execute_result"
    }
   ],
   "source": [
    "ProteinIDFetcher().fetch(\"ERBB2\")"
   ]
  },
  {
   "cell_type": "code",
   "execution_count": 9,
   "id": "841d5383-eb26-4ec0-903c-7f39723b72e3",
   "metadata": {},
   "outputs": [
    {
     "data": {
      "text/plain": [
       "5"
      ]
     },
     "execution_count": 9,
     "metadata": {},
     "output_type": "execute_result"
    }
   ],
   "source": [
    "len(ov_mutex.get_patients_with(\"P04626\", identifier_type=\"protein\"))"
   ]
  },
  {
   "cell_type": "code",
   "execution_count": 10,
   "id": "5dc65bc7-ee86-43e0-aba4-b4b5ea63aaa5",
   "metadata": {},
   "outputs": [
    {
     "data": {
      "text/plain": [
       "0"
      ]
     },
     "execution_count": 10,
     "metadata": {},
     "output_type": "execute_result"
    }
   ],
   "source": [
    "len(ov_mutex.get_patients_with(\"J3QLU9\", identifier_type=\"protein\"))"
   ]
  },
  {
   "cell_type": "code",
   "execution_count": 11,
   "id": "5a72c03b-fcfc-44c3-b569-35c5568cc9a9",
   "metadata": {},
   "outputs": [
    {
     "data": {
      "text/plain": [
       "1.0"
      ]
     },
     "execution_count": 11,
     "metadata": {},
     "output_type": "execute_result"
    }
   ],
   "source": [
    "ov_mutex.calculate_mutual_exclusivity(\"P04626\", \"Q96SB4\")"
   ]
  },
  {
   "cell_type": "code",
   "execution_count": null,
   "id": "7e8247ed-0502-40d3-944a-f71d9648390b",
   "metadata": {},
   "outputs": [],
   "source": []
  },
  {
   "cell_type": "markdown",
   "id": "7347b64d-353d-4efa-8b48-cd1fa161dae7",
   "metadata": {
    "tags": []
   },
   "source": [
    "## Patient Interaction Data"
   ]
  },
  {
   "cell_type": "code",
   "execution_count": 12,
   "id": "d0f59552-1633-40f7-8753-5c1dfd8be97a",
   "metadata": {},
   "outputs": [
    {
     "data": {
      "text/html": [
       "<div>\n",
       "<style scoped>\n",
       "    .dataframe tbody tr th:only-of-type {\n",
       "        vertical-align: middle;\n",
       "    }\n",
       "\n",
       "    .dataframe tbody tr th {\n",
       "        vertical-align: top;\n",
       "    }\n",
       "\n",
       "    .dataframe thead th {\n",
       "        text-align: right;\n",
       "    }\n",
       "</style>\n",
       "<table border=\"1\" class=\"dataframe\">\n",
       "  <thead>\n",
       "    <tr style=\"text-align: right;\">\n",
       "      <th></th>\n",
       "      <th>PATIENT</th>\n",
       "      <th>PROTEIN_GENE</th>\n",
       "      <th>MUTATION</th>\n",
       "      <th>INTERACTORS</th>\n",
       "      <th>NUM_INTERACTORS</th>\n",
       "      <th>DISRUPTIVE_INTERACTORS</th>\n",
       "      <th>NUM_DISRUPTIVE_INTERACTORS</th>\n",
       "      <th>NON_DISRUPTIVE_INTERACTORS</th>\n",
       "      <th>NUM_NON_DISRUPTIVE_INTERACTORS</th>\n",
       "      <th>CORE_INTERFACE_VS_INTERFACE_STATUS</th>\n",
       "    </tr>\n",
       "  </thead>\n",
       "  <tbody>\n",
       "    <tr>\n",
       "      <th>0</th>\n",
       "      <td>TCGA-61-2092</td>\n",
       "      <td>Q9NRM7:LATS2</td>\n",
       "      <td>K672I</td>\n",
       "      <td>O96017:CHEK2,Q96GD4:AURKB</td>\n",
       "      <td>2</td>\n",
       "      <td>O96017:CHEK2:0.91,Q96GD4:AURKB:0.76</td>\n",
       "      <td>2</td>\n",
       "      <td>NaN</td>\n",
       "      <td>0</td>\n",
       "      <td>I</td>\n",
       "    </tr>\n",
       "    <tr>\n",
       "      <th>1</th>\n",
       "      <td>TCGA-61-2092</td>\n",
       "      <td>Q13619:CUL4A</td>\n",
       "      <td>D750N</td>\n",
       "      <td>Q6PH85:DCUN1D2,Q92564:DCUN1D4,Q8IWE4:DCUN1D3,Q...</td>\n",
       "      <td>5</td>\n",
       "      <td>Q8IWE4:DCUN1D3:0.61,Q96GG9:DCUN1D1:0.53</td>\n",
       "      <td>2</td>\n",
       "      <td>Q6PH85:DCUN1D2,Q92564:DCUN1D4,Q9BTE7:DCUN1D5</td>\n",
       "      <td>3</td>\n",
       "      <td>I</td>\n",
       "    </tr>\n",
       "    <tr>\n",
       "      <th>2</th>\n",
       "      <td>TCGA-24-1467</td>\n",
       "      <td>P34897:SHMT2</td>\n",
       "      <td>F501V</td>\n",
       "      <td>P34896:SHMT1</td>\n",
       "      <td>1</td>\n",
       "      <td>P34896:SHMT1:0.7</td>\n",
       "      <td>1</td>\n",
       "      <td>NaN</td>\n",
       "      <td>0</td>\n",
       "      <td>I</td>\n",
       "    </tr>\n",
       "    <tr>\n",
       "      <th>3</th>\n",
       "      <td>TCGA-13-0923</td>\n",
       "      <td>P08134:RHOC</td>\n",
       "      <td>D59E</td>\n",
       "      <td>P52565:ARHGDIA</td>\n",
       "      <td>1</td>\n",
       "      <td>P52565:ARHGDIA:0.71</td>\n",
       "      <td>1</td>\n",
       "      <td>NaN</td>\n",
       "      <td>0</td>\n",
       "      <td>I</td>\n",
       "    </tr>\n",
       "    <tr>\n",
       "      <th>4</th>\n",
       "      <td>TCGA-13-0923</td>\n",
       "      <td>P62993:GRB2</td>\n",
       "      <td>A3V</td>\n",
       "      <td>Q9H8V3:ECT2,Q14155:ARHGEF7</td>\n",
       "      <td>2</td>\n",
       "      <td>Q9H8V3:ECT2:0.56</td>\n",
       "      <td>1</td>\n",
       "      <td>Q14155:ARHGEF7</td>\n",
       "      <td>1</td>\n",
       "      <td>I</td>\n",
       "    </tr>\n",
       "  </tbody>\n",
       "</table>\n",
       "</div>"
      ],
      "text/plain": [
       "        PATIENT  PROTEIN_GENE MUTATION  \\\n",
       "0  TCGA-61-2092  Q9NRM7:LATS2    K672I   \n",
       "1  TCGA-61-2092  Q13619:CUL4A    D750N   \n",
       "2  TCGA-24-1467  P34897:SHMT2    F501V   \n",
       "3  TCGA-13-0923   P08134:RHOC     D59E   \n",
       "4  TCGA-13-0923   P62993:GRB2      A3V   \n",
       "\n",
       "                                         INTERACTORS  NUM_INTERACTORS  \\\n",
       "0                          O96017:CHEK2,Q96GD4:AURKB                2   \n",
       "1  Q6PH85:DCUN1D2,Q92564:DCUN1D4,Q8IWE4:DCUN1D3,Q...                5   \n",
       "2                                       P34896:SHMT1                1   \n",
       "3                                     P52565:ARHGDIA                1   \n",
       "4                         Q9H8V3:ECT2,Q14155:ARHGEF7                2   \n",
       "\n",
       "                    DISRUPTIVE_INTERACTORS  NUM_DISRUPTIVE_INTERACTORS  \\\n",
       "0      O96017:CHEK2:0.91,Q96GD4:AURKB:0.76                           2   \n",
       "1  Q8IWE4:DCUN1D3:0.61,Q96GG9:DCUN1D1:0.53                           2   \n",
       "2                         P34896:SHMT1:0.7                           1   \n",
       "3                      P52565:ARHGDIA:0.71                           1   \n",
       "4                         Q9H8V3:ECT2:0.56                           1   \n",
       "\n",
       "                     NON_DISRUPTIVE_INTERACTORS  \\\n",
       "0                                           NaN   \n",
       "1  Q6PH85:DCUN1D2,Q92564:DCUN1D4,Q9BTE7:DCUN1D5   \n",
       "2                                           NaN   \n",
       "3                                           NaN   \n",
       "4                                Q14155:ARHGEF7   \n",
       "\n",
       "   NUM_NON_DISRUPTIVE_INTERACTORS CORE_INTERFACE_VS_INTERFACE_STATUS  \n",
       "0                               0                                  I  \n",
       "1                               3                                  I  \n",
       "2                               0                                  I  \n",
       "3                               0                                  I  \n",
       "4                               1                                  I  "
      ]
     },
     "execution_count": 12,
     "metadata": {},
     "output_type": "execute_result"
    }
   ],
   "source": [
    "ov_mutex.patient_interaction_data.head()"
   ]
  },
  {
   "cell_type": "code",
   "execution_count": null,
   "id": "195a2d4c-8c28-4def-881c-bc461f9cf628",
   "metadata": {},
   "outputs": [],
   "source": []
  },
  {
   "cell_type": "code",
   "execution_count": 13,
   "id": "f143a106-6390-44df-ab90-0ab1a376b27c",
   "metadata": {},
   "outputs": [
    {
     "data": {
      "text/plain": [
       "Counter({'Q13625:TP53BP2': 61,\n",
       "         'P62993:GRB2': 46,\n",
       "         'Q9H3D4:TP63': 31,\n",
       "         'Q96KQ4:PPP1R13B': 61,\n",
       "         'Q8WUF5:PPP1R13L': 40,\n",
       "         'P07948:LYN': 33,\n",
       "         'Q06187:BTK': 40,\n",
       "         'H2EHT1:TP53': 27,\n",
       "         'K7PPA8:TP53': 27,\n",
       "         'O15350:TP73': 21,\n",
       "         'Q96KQ7:EHMT2': 18,\n",
       "         'Q9H9B1:EHMT1': 6,\n",
       "         'Q99728:BARD1': 6,\n",
       "         'O75832:PSMD10': 8,\n",
       "         'Q9ULT8:HECTD1': 6,\n",
       "         'Q99466:NOTCH4': 3,\n",
       "         'Q53GA5:nan': 3,\n",
       "         'Q9GZV1:ANKRD2': 1,\n",
       "         'P25963:NFKBIA': 1})"
      ]
     },
     "execution_count": 13,
     "metadata": {},
     "output_type": "execute_result"
    }
   ],
   "source": [
    "ov_mutex.get_disrupted_interactors(\"TP53\", identifier_type=\"gene\", return_counter=True)"
   ]
  },
  {
   "cell_type": "code",
   "execution_count": 14,
   "id": "2f445447-6a8d-4ad3-9ddd-f0f460500b87",
   "metadata": {},
   "outputs": [
    {
     "data": {
      "text/plain": [
       "Counter({'Q13625:TP53BP2': 61,\n",
       "         'P62993:GRB2': 46,\n",
       "         'Q9H3D4:TP63': 31,\n",
       "         'Q96KQ4:PPP1R13B': 61,\n",
       "         'Q8WUF5:PPP1R13L': 40,\n",
       "         'P07948:LYN': 33,\n",
       "         'Q06187:BTK': 40,\n",
       "         'H2EHT1:TP53': 27,\n",
       "         'K7PPA8:TP53': 27,\n",
       "         'O15350:TP73': 21,\n",
       "         'Q96KQ7:EHMT2': 18,\n",
       "         'Q9H9B1:EHMT1': 6,\n",
       "         'Q99728:BARD1': 6,\n",
       "         'O75832:PSMD10': 8,\n",
       "         'Q9ULT8:HECTD1': 6,\n",
       "         'Q99466:NOTCH4': 3,\n",
       "         'Q53GA5:nan': 3,\n",
       "         'Q9GZV1:ANKRD2': 1,\n",
       "         'P25963:NFKBIA': 1})"
      ]
     },
     "execution_count": 14,
     "metadata": {},
     "output_type": "execute_result"
    }
   ],
   "source": [
    "ov_mutex.get_disrupted_interactors(\"TP53\", identifier_type=\"gene\", return_counter=True)"
   ]
  },
  {
   "cell_type": "code",
   "execution_count": 15,
   "id": "bca305ff-a250-4316-b569-d69df2e95ef9",
   "metadata": {},
   "outputs": [
    {
     "data": {
      "text/plain": [
       "['Q13625:TP53BP2',\n",
       " 'Q96KQ4:PPP1R13B',\n",
       " 'P62993:GRB2',\n",
       " 'Q8WUF5:PPP1R13L',\n",
       " 'Q06187:BTK',\n",
       " 'P07948:LYN',\n",
       " 'Q9H3D4:TP63',\n",
       " 'H2EHT1:TP53',\n",
       " 'K7PPA8:TP53',\n",
       " 'O15350:TP73',\n",
       " 'Q96KQ7:EHMT2',\n",
       " 'O75832:PSMD10',\n",
       " 'Q9H9B1:EHMT1',\n",
       " 'Q99728:BARD1',\n",
       " 'Q9ULT8:HECTD1',\n",
       " 'Q99466:NOTCH4',\n",
       " 'Q53GA5:nan',\n",
       " 'Q9GZV1:ANKRD2',\n",
       " 'P25963:NFKBIA']"
      ]
     },
     "execution_count": 15,
     "metadata": {},
     "output_type": "execute_result"
    }
   ],
   "source": [
    "ov_mutex.get_disrupted_interactors(\"TP53\", identifier_type=\"gene\")"
   ]
  },
  {
   "cell_type": "code",
   "execution_count": 16,
   "id": "7e4818ba-f6ed-4d93-9e29-ff2381924936",
   "metadata": {},
   "outputs": [
    {
     "data": {
      "text/plain": [
       "Counter({'Q13625:TP53BP2': 61,\n",
       "         'P62993:GRB2': 46,\n",
       "         'Q9H3D4:TP63': 31,\n",
       "         'Q96KQ4:PPP1R13B': 61,\n",
       "         'Q8WUF5:PPP1R13L': 40,\n",
       "         'P07948:LYN': 33,\n",
       "         'Q06187:BTK': 40,\n",
       "         'H2EHT1:TP53': 27,\n",
       "         'K7PPA8:TP53': 27,\n",
       "         'O15350:TP73': 21,\n",
       "         'Q96KQ7:EHMT2': 18,\n",
       "         'Q9H9B1:EHMT1': 6,\n",
       "         'Q99728:BARD1': 6,\n",
       "         'O75832:PSMD10': 8,\n",
       "         'Q9ULT8:HECTD1': 6,\n",
       "         'Q99466:NOTCH4': 3,\n",
       "         'Q53GA5:nan': 3,\n",
       "         'Q9GZV1:ANKRD2': 1,\n",
       "         'P25963:NFKBIA': 1})"
      ]
     },
     "execution_count": 16,
     "metadata": {},
     "output_type": "execute_result"
    }
   ],
   "source": [
    "ov_mutex.get_disrupted_interactors(\"TP53\", identifier_type=\"gene\", return_counter=True)"
   ]
  },
  {
   "cell_type": "code",
   "execution_count": 17,
   "id": "faeb8d67-d861-4b20-9ec3-e6c8e185c453",
   "metadata": {},
   "outputs": [
    {
     "data": {
      "text/plain": [
       "Counter({'P49450:CENPA': 1,\n",
       "         'O75367:MACROH2A1': 1,\n",
       "         'P62805:H4C1': 1,\n",
       "         'Q9UER7:DAXX': 1})"
      ]
     },
     "execution_count": 17,
     "metadata": {},
     "output_type": "execute_result"
    }
   ],
   "source": [
    "ov_mutex.get_disrupted_interactors(\"H3C1\", identifier_type=\"gene\", return_counter=True)"
   ]
  },
  {
   "cell_type": "code",
   "execution_count": 18,
   "id": "e11c1399-74ee-40be-8e9d-ca8abcd56479",
   "metadata": {},
   "outputs": [
    {
     "data": {
      "text/plain": [
       "Counter({'P04908:H2AC4': 2,\n",
       "         'P84243:H3-3A': 4,\n",
       "         'Q16695:H3-4': 2,\n",
       "         'Q71DI3:H3C15': 2,\n",
       "         'P49450:CENPA': 2,\n",
       "         'Q9UER7:DAXX': 1,\n",
       "         'P0C0S5:H2AZ1': 2,\n",
       "         'Q16777:H2AC20': 2,\n",
       "         'P68431:H3C1': 3,\n",
       "         'B4E1C1:nan': 1,\n",
       "         'Q53F85:nan': 1,\n",
       "         'Q8NCD3:HJURP': 1,\n",
       "         'Q16514:TAF12': 1,\n",
       "         'P06899:H2BC11': 1,\n",
       "         'Q16778:H2BC21': 1,\n",
       "         'P16104:H2AX': 1,\n",
       "         'Q9Y294:ASF1A': 1,\n",
       "         'Q9NVP2:ASF1B': 1})"
      ]
     },
     "execution_count": 18,
     "metadata": {},
     "output_type": "execute_result"
    }
   ],
   "source": [
    "ov_mutex.get_disrupted_interactors(\"H4C1\", identifier_type=\"gene\", return_counter=True)"
   ]
  },
  {
   "cell_type": "code",
   "execution_count": 19,
   "id": "4b6411d8-0e9b-450b-89b2-fa648e649a4b",
   "metadata": {},
   "outputs": [
    {
     "data": {
      "text/plain": [
       "Counter()"
      ]
     },
     "execution_count": 19,
     "metadata": {},
     "output_type": "execute_result"
    }
   ],
   "source": [
    "ov_mutex.get_disrupted_interactors(\"MAP2K4\", identifier_type=\"gene\", return_counter=True)"
   ]
  },
  {
   "cell_type": "code",
   "execution_count": null,
   "id": "72a4ea13-e318-49ce-9b8d-e6006797c855",
   "metadata": {},
   "outputs": [],
   "source": []
  },
  {
   "cell_type": "code",
   "execution_count": null,
   "id": "57467be9-0927-4721-a9dc-9c90c05f55fe",
   "metadata": {},
   "outputs": [],
   "source": []
  },
  {
   "cell_type": "code",
   "execution_count": 20,
   "id": "bd19254b-9083-4e98-8d5f-263c2ca647ad",
   "metadata": {},
   "outputs": [
    {
     "data": {
      "text/plain": [
       "['H2EHT1', 'K7PPA8', 'P04637']"
      ]
     },
     "execution_count": 20,
     "metadata": {},
     "output_type": "execute_result"
    }
   ],
   "source": [
    "ProteinIDFetcher().fetch(\"TP53\")"
   ]
  },
  {
   "cell_type": "code",
   "execution_count": 21,
   "id": "f9ece295-6c4a-4054-b680-28cf721c5c26",
   "metadata": {},
   "outputs": [
    {
     "data": {
      "text/plain": [
       "['P45985']"
      ]
     },
     "execution_count": 21,
     "metadata": {},
     "output_type": "execute_result"
    }
   ],
   "source": [
    "ProteinIDFetcher().fetch(\"MAP2K4\")"
   ]
  },
  {
   "cell_type": "code",
   "execution_count": 22,
   "id": "6a5b8352-e0bd-4038-9f1b-c6e53474f1a3",
   "metadata": {},
   "outputs": [
    {
     "data": {
      "text/plain": [
       "['P04626', 'J3QLU9']"
      ]
     },
     "execution_count": 22,
     "metadata": {},
     "output_type": "execute_result"
    }
   ],
   "source": [
    "ProteinIDFetcher().fetch(\"ERBB2\")"
   ]
  },
  {
   "cell_type": "code",
   "execution_count": 23,
   "id": "28d7227c-a167-42fa-9184-22caae499836",
   "metadata": {},
   "outputs": [
    {
     "data": {
      "text/plain": [
       "1.0"
      ]
     },
     "execution_count": 23,
     "metadata": {},
     "output_type": "execute_result"
    }
   ],
   "source": [
    "ov_mutex.calculate_mutual_exclusivity(\"Q96SB4\", \"P04626\")"
   ]
  },
  {
   "cell_type": "code",
   "execution_count": 24,
   "id": "8c257c26-5139-47e1-a1d8-405a58504820",
   "metadata": {},
   "outputs": [
    {
     "data": {
      "text/plain": [
       "1.0"
      ]
     },
     "execution_count": 24,
     "metadata": {},
     "output_type": "execute_result"
    }
   ],
   "source": [
    "ov_mutex.calculate_mutual_exclusivity(\"P08069\", \"Q96SB4\")"
   ]
  },
  {
   "cell_type": "code",
   "execution_count": 25,
   "id": "c9f79da3-c53e-48e7-94c0-69f6551d969d",
   "metadata": {},
   "outputs": [
    {
     "data": {
      "text/plain": [
       "0.9166666666666666"
      ]
     },
     "execution_count": 25,
     "metadata": {},
     "output_type": "execute_result"
    }
   ],
   "source": [
    "ov_mutex.calculate_mutual_exclusivity(\"P08069\", \"P23458\")"
   ]
  },
  {
   "cell_type": "code",
   "execution_count": 26,
   "id": "c40d7a54-3f24-419e-84d3-e2fa3daaebf4",
   "metadata": {},
   "outputs": [
    {
     "data": {
      "text/plain": [
       "0.9166666666666666"
      ]
     },
     "execution_count": 26,
     "metadata": {},
     "output_type": "execute_result"
    }
   ],
   "source": [
    "ov_mutex.calculate_mutual_exclusivity(\"P23458\", \"P08069\")"
   ]
  },
  {
   "cell_type": "code",
   "execution_count": null,
   "id": "f9b71cab-55ec-49e5-83a0-2bae18479736",
   "metadata": {},
   "outputs": [],
   "source": []
  },
  {
   "cell_type": "markdown",
   "id": "c635be50-ae11-4fa9-b396-8679eec7d593",
   "metadata": {},
   "source": [
    "## Analysis Genes"
   ]
  },
  {
   "cell_type": "markdown",
   "id": "568162e8-dcf1-4baf-9df8-14c4fd37aaaf",
   "metadata": {},
   "source": [
    "### H4C1"
   ]
  },
  {
   "cell_type": "code",
   "execution_count": 27,
   "id": "a9f58db1-90e5-42f7-a2fd-4c0dc44b1b9d",
   "metadata": {},
   "outputs": [
    {
     "data": {
      "text/plain": [
       "['P62805']"
      ]
     },
     "execution_count": 27,
     "metadata": {},
     "output_type": "execute_result"
    }
   ],
   "source": [
    "ProteinIDFetcher().fetch(\"H4C1\")"
   ]
  },
  {
   "cell_type": "code",
   "execution_count": 28,
   "id": "e0804201-1aab-43f0-92d5-0fc40cfee9aa",
   "metadata": {},
   "outputs": [
    {
     "name": "stdout",
     "output_type": "stream",
     "text": [
      "2021-11-13 21:33:01 |\u001b[32m INFO     \u001b[0m| helpers.helpers_analysis.mutual_exclusivity | Calculating Mutual Exclusivity over P62805's interactors ..\n",
      "2021-11-13 21:33:01 |\u001b[36m DEBUG    \u001b[0m| helpers.helpers_analysis.mutual_exclusivity | P62805 have 18 interactors:\n",
      "['P84243:H3-3A', 'P68431:H3C1', 'P04908:H2AC4', 'Q16695:H3-4', 'Q71DI3:H3C15', 'P49450:CENPA', 'P0C0S5:H2AZ1', 'Q16777:H2AC20', 'Q9UER7:DAXX', 'B4E1C1:nan', 'Q53F85:nan', 'Q8NCD3:HJURP', 'Q16514:TAF12', 'P06899:H2BC11', 'Q16778:H2BC21', 'P16104:H2AX', 'Q9Y294:ASF1A', 'Q9NVP2:ASF1B']\n"
     ]
    },
    {
     "data": {
      "text/html": [
       "<div>\n",
       "<style scoped>\n",
       "    .dataframe tbody tr th:only-of-type {\n",
       "        vertical-align: middle;\n",
       "    }\n",
       "\n",
       "    .dataframe tbody tr th {\n",
       "        vertical-align: top;\n",
       "    }\n",
       "\n",
       "    .dataframe thead th {\n",
       "        text-align: right;\n",
       "    }\n",
       "</style>\n",
       "<table border=\"1\" class=\"dataframe\">\n",
       "  <thead>\n",
       "    <tr style=\"text-align: right;\">\n",
       "      <th></th>\n",
       "      <th>PROTEIN:GENE</th>\n",
       "      <th>NUM_PATIENTS</th>\n",
       "      <th>INTERACTOR</th>\n",
       "      <th>NUM_PATIENTS_INTERACTOR</th>\n",
       "      <th>MUTUAL_EXCLUSIVITY</th>\n",
       "    </tr>\n",
       "  </thead>\n",
       "  <tbody>\n",
       "    <tr>\n",
       "      <th>0</th>\n",
       "      <td>P62805:H4C1</td>\n",
       "      <td>16</td>\n",
       "      <td>P84243:H3-3A</td>\n",
       "      <td>0</td>\n",
       "      <td>1.000</td>\n",
       "    </tr>\n",
       "    <tr>\n",
       "      <th>1</th>\n",
       "      <td>P62805:H4C1</td>\n",
       "      <td>16</td>\n",
       "      <td>P68431:H3C1</td>\n",
       "      <td>11</td>\n",
       "      <td>0.963</td>\n",
       "    </tr>\n",
       "    <tr>\n",
       "      <th>2</th>\n",
       "      <td>P62805:H4C1</td>\n",
       "      <td>16</td>\n",
       "      <td>P04908:H2AC4</td>\n",
       "      <td>4</td>\n",
       "      <td>1.000</td>\n",
       "    </tr>\n",
       "    <tr>\n",
       "      <th>3</th>\n",
       "      <td>P62805:H4C1</td>\n",
       "      <td>16</td>\n",
       "      <td>Q16695:H3-4</td>\n",
       "      <td>0</td>\n",
       "      <td>1.000</td>\n",
       "    </tr>\n",
       "    <tr>\n",
       "      <th>4</th>\n",
       "      <td>P62805:H4C1</td>\n",
       "      <td>16</td>\n",
       "      <td>Q71DI3:H3C15</td>\n",
       "      <td>1</td>\n",
       "      <td>1.000</td>\n",
       "    </tr>\n",
       "    <tr>\n",
       "      <th>5</th>\n",
       "      <td>P62805:H4C1</td>\n",
       "      <td>16</td>\n",
       "      <td>P49450:CENPA</td>\n",
       "      <td>1</td>\n",
       "      <td>1.000</td>\n",
       "    </tr>\n",
       "    <tr>\n",
       "      <th>6</th>\n",
       "      <td>P62805:H4C1</td>\n",
       "      <td>16</td>\n",
       "      <td>P0C0S5:H2AZ1</td>\n",
       "      <td>0</td>\n",
       "      <td>1.000</td>\n",
       "    </tr>\n",
       "    <tr>\n",
       "      <th>7</th>\n",
       "      <td>P62805:H4C1</td>\n",
       "      <td>16</td>\n",
       "      <td>Q16777:H2AC20</td>\n",
       "      <td>2</td>\n",
       "      <td>1.000</td>\n",
       "    </tr>\n",
       "    <tr>\n",
       "      <th>8</th>\n",
       "      <td>P62805:H4C1</td>\n",
       "      <td>16</td>\n",
       "      <td>Q9UER7:DAXX</td>\n",
       "      <td>2</td>\n",
       "      <td>1.000</td>\n",
       "    </tr>\n",
       "    <tr>\n",
       "      <th>9</th>\n",
       "      <td>P62805:H4C1</td>\n",
       "      <td>16</td>\n",
       "      <td>B4E1C1:nan</td>\n",
       "      <td>0</td>\n",
       "      <td>1.000</td>\n",
       "    </tr>\n",
       "    <tr>\n",
       "      <th>10</th>\n",
       "      <td>P62805:H4C1</td>\n",
       "      <td>16</td>\n",
       "      <td>Q53F85:nan</td>\n",
       "      <td>0</td>\n",
       "      <td>1.000</td>\n",
       "    </tr>\n",
       "    <tr>\n",
       "      <th>11</th>\n",
       "      <td>P62805:H4C1</td>\n",
       "      <td>16</td>\n",
       "      <td>Q8NCD3:HJURP</td>\n",
       "      <td>6</td>\n",
       "      <td>1.000</td>\n",
       "    </tr>\n",
       "    <tr>\n",
       "      <th>12</th>\n",
       "      <td>P62805:H4C1</td>\n",
       "      <td>16</td>\n",
       "      <td>Q16514:TAF12</td>\n",
       "      <td>1</td>\n",
       "      <td>1.000</td>\n",
       "    </tr>\n",
       "    <tr>\n",
       "      <th>13</th>\n",
       "      <td>P62805:H4C1</td>\n",
       "      <td>16</td>\n",
       "      <td>P06899:H2BC11</td>\n",
       "      <td>2</td>\n",
       "      <td>1.000</td>\n",
       "    </tr>\n",
       "    <tr>\n",
       "      <th>14</th>\n",
       "      <td>P62805:H4C1</td>\n",
       "      <td>16</td>\n",
       "      <td>Q16778:H2BC21</td>\n",
       "      <td>3</td>\n",
       "      <td>1.000</td>\n",
       "    </tr>\n",
       "    <tr>\n",
       "      <th>15</th>\n",
       "      <td>P62805:H4C1</td>\n",
       "      <td>16</td>\n",
       "      <td>P16104:H2AX</td>\n",
       "      <td>3</td>\n",
       "      <td>1.000</td>\n",
       "    </tr>\n",
       "    <tr>\n",
       "      <th>16</th>\n",
       "      <td>P62805:H4C1</td>\n",
       "      <td>16</td>\n",
       "      <td>Q9Y294:ASF1A</td>\n",
       "      <td>1</td>\n",
       "      <td>1.000</td>\n",
       "    </tr>\n",
       "    <tr>\n",
       "      <th>17</th>\n",
       "      <td>P62805:H4C1</td>\n",
       "      <td>16</td>\n",
       "      <td>Q9NVP2:ASF1B</td>\n",
       "      <td>1</td>\n",
       "      <td>1.000</td>\n",
       "    </tr>\n",
       "  </tbody>\n",
       "</table>\n",
       "</div>"
      ],
      "text/plain": [
       "   PROTEIN:GENE  NUM_PATIENTS     INTERACTOR  NUM_PATIENTS_INTERACTOR  \\\n",
       "0   P62805:H4C1            16   P84243:H3-3A                        0   \n",
       "1   P62805:H4C1            16    P68431:H3C1                       11   \n",
       "2   P62805:H4C1            16   P04908:H2AC4                        4   \n",
       "3   P62805:H4C1            16    Q16695:H3-4                        0   \n",
       "4   P62805:H4C1            16   Q71DI3:H3C15                        1   \n",
       "5   P62805:H4C1            16   P49450:CENPA                        1   \n",
       "6   P62805:H4C1            16   P0C0S5:H2AZ1                        0   \n",
       "7   P62805:H4C1            16  Q16777:H2AC20                        2   \n",
       "8   P62805:H4C1            16    Q9UER7:DAXX                        2   \n",
       "9   P62805:H4C1            16     B4E1C1:nan                        0   \n",
       "10  P62805:H4C1            16     Q53F85:nan                        0   \n",
       "11  P62805:H4C1            16   Q8NCD3:HJURP                        6   \n",
       "12  P62805:H4C1            16   Q16514:TAF12                        1   \n",
       "13  P62805:H4C1            16  P06899:H2BC11                        2   \n",
       "14  P62805:H4C1            16  Q16778:H2BC21                        3   \n",
       "15  P62805:H4C1            16    P16104:H2AX                        3   \n",
       "16  P62805:H4C1            16   Q9Y294:ASF1A                        1   \n",
       "17  P62805:H4C1            16   Q9NVP2:ASF1B                        1   \n",
       "\n",
       "    MUTUAL_EXCLUSIVITY  \n",
       "0                1.000  \n",
       "1                0.963  \n",
       "2                1.000  \n",
       "3                1.000  \n",
       "4                1.000  \n",
       "5                1.000  \n",
       "6                1.000  \n",
       "7                1.000  \n",
       "8                1.000  \n",
       "9                1.000  \n",
       "10               1.000  \n",
       "11               1.000  \n",
       "12               1.000  \n",
       "13               1.000  \n",
       "14               1.000  \n",
       "15               1.000  \n",
       "16               1.000  \n",
       "17               1.000  "
      ]
     },
     "execution_count": 28,
     "metadata": {},
     "output_type": "execute_result"
    }
   ],
   "source": [
    "ov_mutex.get_disruptive_mutual_exclusivity_data(\"P62805\")"
   ]
  },
  {
   "cell_type": "code",
   "execution_count": 29,
   "id": "ede038b5-6a36-4a7e-91be-7914c664dc2c",
   "metadata": {},
   "outputs": [
    {
     "name": "stdout",
     "output_type": "stream",
     "text": [
      "2021-11-13 21:33:01 |\u001b[32m INFO     \u001b[0m| helpers.helpers_analysis.mutual_exclusivity | Calculating Mutual Exclusivity over P62805's interactors ..\n",
      "2021-11-13 21:33:01 |\u001b[36m DEBUG    \u001b[0m| helpers.helpers_analysis.mutual_exclusivity | P62805 have 18 interactors:\n",
      "['P84243:H3-3A', 'P68431:H3C1', 'P04908:H2AC4', 'Q16695:H3-4', 'Q71DI3:H3C15', 'P49450:CENPA', 'P0C0S5:H2AZ1', 'Q16777:H2AC20', 'Q9UER7:DAXX', 'B4E1C1:nan', 'Q53F85:nan', 'Q8NCD3:HJURP', 'Q16514:TAF12', 'P06899:H2BC11', 'Q16778:H2BC21', 'P16104:H2AX', 'Q9Y294:ASF1A', 'Q9NVP2:ASF1B']\n",
      "2021-11-13 21:33:01 |\u001b[36m DEBUG    \u001b[0m| helpers.helpers_analysis.mutual_exclusivity | Exporting Mutual Exclusivity OV P62805 ..\n",
      "2021-11-13 21:33:01 |\u001b[32m INFO     \u001b[0m| helpers.helpers_analysis.mutual_exclusivity | dev/mutex\\OV_P62805_H4C1_2021-11-13.csv is exported successfully.\n"
     ]
    }
   ],
   "source": [
    "ov_mutex.export_disruptive_mutual_exclusivity_data(\"dev/mutex\", \"P62805\")"
   ]
  },
  {
   "cell_type": "code",
   "execution_count": null,
   "id": "dd325c5e-9542-49c1-a334-17ef5f02de32",
   "metadata": {},
   "outputs": [],
   "source": []
  },
  {
   "cell_type": "code",
   "execution_count": null,
   "id": "6d7c5ad7-64cf-4ec0-afe1-0c9985434a20",
   "metadata": {},
   "outputs": [],
   "source": []
  },
  {
   "cell_type": "code",
   "execution_count": null,
   "id": "5ef8b072-25b9-4b60-aecf-62482e2b8efd",
   "metadata": {},
   "outputs": [],
   "source": []
  },
  {
   "cell_type": "markdown",
   "id": "ed8c35b0-90ee-421a-9bb4-bbbec0faf4a5",
   "metadata": {},
   "source": [
    "---"
   ]
  },
  {
   "cell_type": "code",
   "execution_count": null,
   "id": "8b9ea2ad-ad37-4f18-be66-c8cd34815939",
   "metadata": {},
   "outputs": [],
   "source": []
  }
 ],
 "metadata": {
  "kernelspec": {
   "display_name": "Predicting-Mutation-Effects",
   "language": "python",
   "name": "predicting-mutation-effects"
  },
  "language_info": {
   "codemirror_mode": {
    "name": "ipython",
    "version": 3
   },
   "file_extension": ".py",
   "mimetype": "text/x-python",
   "name": "python",
   "nbconvert_exporter": "python",
   "pygments_lexer": "ipython3",
   "version": "3.8.10"
  }
 },
 "nbformat": 4,
 "nbformat_minor": 5
}
