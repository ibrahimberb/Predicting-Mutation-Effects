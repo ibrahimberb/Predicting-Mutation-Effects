{
 "cells": [
  {
   "cell_type": "markdown",
   "id": "a507755d-7d6d-42e6-8c83-44ed01e1fe5c",
   "metadata": {},
   "source": [
    "# Mutual Exclusivity"
   ]
  },
  {
   "cell_type": "code",
   "execution_count": 1,
   "id": "a9942580-be24-4b17-b45b-918d3b3f153a",
   "metadata": {},
   "outputs": [],
   "source": [
    "import os\n",
    "import os.path as op\n",
    "\n",
    "os.chdir('../')\n",
    "\n",
    "# os.listdir()"
   ]
  },
  {
   "cell_type": "code",
   "execution_count": 2,
   "id": "91c19c2c-491d-4b6e-bdfb-248f2bb0f7ce",
   "metadata": {},
   "outputs": [],
   "source": [
    "# SNV_PATHS\n",
    "SNV_COMMON_PATH = \"C:/Users/ibrah/Desktop/SNV_data/SNV_datasets/\"\n",
    "BRCA_SNV_PATH = op.join(SNV_COMMON_PATH, \"SNV_BRCA_hg38_2021-09-22.csv\")\n",
    "\n",
    "# PATIENT INTERACTION DATA PATHS\n",
    "BRCA_PATIENT_INTERACTION_DATA_PATH = \"dev/BRCA_patient_interactions_analysis_table_2021-11-12.xlsx\"\n",
    "\n",
    "# Reflect changes in the modules immediately.\n",
    "%load_ext autoreload\n",
    "%autoreload 2"
   ]
  },
  {
   "cell_type": "markdown",
   "id": "09752b52-1d52-4f88-9ea7-493f1ae51404",
   "metadata": {
    "tags": []
   },
   "source": [
    "## BRCA"
   ]
  },
  {
   "cell_type": "code",
   "execution_count": 3,
   "id": "8b4bb5d5-7339-4c1d-9311-7fd0400a8cf3",
   "metadata": {},
   "outputs": [],
   "source": [
    "from helpers.helpers_analysis.mutual_exclusivity import MutualExclusivity\n",
    "from helpers.helpers_analysis.protein_id_retrieval import ProteinIDFetcher"
   ]
  },
  {
   "cell_type": "code",
   "execution_count": 4,
   "id": "4564f2f4-948b-4ce9-bc8d-d23c3a0b35b0",
   "metadata": {},
   "outputs": [
    {
     "name": "stdout",
     "output_type": "stream",
     "text": [
      "2021-11-13 20:57:29 |\u001b[36m DEBUG    \u001b[0m| helpers.helpers_analysis.mutual_exclusivity | Loading SNV data simplified ..\n",
      "2021-11-13 20:57:29 |\u001b[32m INFO     \u001b[0m| helpers.helpers_analysis.loaders | Loading BRCA SNV datasets ..\n",
      "2021-11-13 20:57:33 |\u001b[36m DEBUG    \u001b[0m| helpers.helpers_analysis.loaders | BRCA SNV data size: (120988, 121)\n",
      "2021-11-13 20:57:34 |\u001b[36m DEBUG    \u001b[0m| helpers.helpers_analysis.loaders | BRCA SNV data processed size: (60251, 121)\n",
      "2021-11-13 20:57:34 |\u001b[32m INFO     \u001b[0m| helpers.helpers_analysis.loaders | BRCA SNV datasets are loaded.\n",
      "2021-11-13 20:57:34 |\u001b[36m DEBUG    \u001b[0m| helpers.helpers_analysis.mutual_exclusivity | Loading patient ids ..\n",
      "2021-11-13 20:57:34 |\u001b[36m DEBUG    \u001b[0m| helpers.helpers_analysis.mutual_exclusivity | Loading patient to snv_data ..\n"
     ]
    },
    {
     "data": {
      "application/vnd.jupyter.widget-view+json": {
       "model_id": "3bda7447b3c94122a137113dba1c81ac",
       "version_major": 2,
       "version_minor": 0
      },
      "text/plain": [
       "  0%|          | 0/985 [00:00<?, ?it/s]"
      ]
     },
     "metadata": {},
     "output_type": "display_data"
    },
    {
     "name": "stdout",
     "output_type": "stream",
     "text": [
      "2021-11-13 20:57:38 |\u001b[36m DEBUG    \u001b[0m| helpers.helpers_analysis.mutual_exclusivity | patient interaction data patient data ..\n"
     ]
    }
   ],
   "source": [
    "brca_mutex = MutualExclusivity(\n",
    "    tcga=\"BRCA\", \n",
    "    tcga_snv_path=BRCA_SNV_PATH, \n",
    "    patient_interaction_data_path=BRCA_PATIENT_INTERACTION_DATA_PATH\n",
    ")"
   ]
  },
  {
   "cell_type": "code",
   "execution_count": 5,
   "id": "5268b0f6-9528-4337-84c0-a099971aa754",
   "metadata": {},
   "outputs": [
    {
     "data": {
      "text/plain": [
       "985"
      ]
     },
     "execution_count": 5,
     "metadata": {},
     "output_type": "execute_result"
    }
   ],
   "source": [
    "len(brca_mutex.patients)"
   ]
  },
  {
   "cell_type": "code",
   "execution_count": 6,
   "id": "a1adf927-6abf-4712-92cb-778bd92a1f31",
   "metadata": {},
   "outputs": [
    {
     "data": {
      "text/plain": [
       "204"
      ]
     },
     "execution_count": 6,
     "metadata": {},
     "output_type": "execute_result"
    }
   ],
   "source": [
    "len(brca_mutex.get_patients_with(\"P04637\", identifier_type=\"protein\"))"
   ]
  },
  {
   "cell_type": "code",
   "execution_count": 7,
   "id": "75b28d84-8d81-484e-b9cd-e046eb3cbb8d",
   "metadata": {},
   "outputs": [
    {
     "data": {
      "text/plain": [
       "27"
      ]
     },
     "execution_count": 7,
     "metadata": {},
     "output_type": "execute_result"
    }
   ],
   "source": [
    "len(brca_mutex.get_patients_with(\"P04626\", identifier_type=\"protein\"))"
   ]
  },
  {
   "cell_type": "code",
   "execution_count": 10,
   "id": "533c31a0-2ae1-4ad8-a0e0-5e321a1bb8f0",
   "metadata": {},
   "outputs": [
    {
     "data": {
      "text/plain": [
       "['P04626', 'J3QLU9']"
      ]
     },
     "execution_count": 10,
     "metadata": {},
     "output_type": "execute_result"
    }
   ],
   "source": [
    "ProteinIDFetcher().fetch(\"ERBB2\")"
   ]
  },
  {
   "cell_type": "code",
   "execution_count": 11,
   "id": "841d5383-eb26-4ec0-903c-7f39723b72e3",
   "metadata": {},
   "outputs": [
    {
     "data": {
      "text/plain": [
       "27"
      ]
     },
     "execution_count": 11,
     "metadata": {},
     "output_type": "execute_result"
    }
   ],
   "source": [
    "len(brca_mutex.get_patients_with(\"P04626\", identifier_type=\"protein\"))"
   ]
  },
  {
   "cell_type": "code",
   "execution_count": 12,
   "id": "5dc65bc7-ee86-43e0-aba4-b4b5ea63aaa5",
   "metadata": {},
   "outputs": [
    {
     "data": {
      "text/plain": [
       "0"
      ]
     },
     "execution_count": 12,
     "metadata": {},
     "output_type": "execute_result"
    }
   ],
   "source": [
    "len(brca_mutex.get_patients_with(\"J3QLU9\", identifier_type=\"protein\"))"
   ]
  },
  {
   "cell_type": "code",
   "execution_count": null,
   "id": "c94099b3-fbb9-46d6-968d-30a65dc4e755",
   "metadata": {},
   "outputs": [],
   "source": []
  },
  {
   "cell_type": "markdown",
   "id": "583000c6-abc4-4883-a906-4a7a18c44afd",
   "metadata": {},
   "source": [
    "Örneğin ERBB2 geni için en sık disrupt olan interactor SRPK1, ERBB2 ile SRPK1 arasındaki mutual exclusivity'yi hesaplayalım. \n",
    "\n",
    "S1 ERBB'nun mutasyona uğradığı hasta seti olsun. \n",
    "S2 SRPK1'nın mutasyona uğradığı hasta seti olsun. \n",
    "\n",
    "P04626 - ERBBR\n",
    "Q96SB4 - SRPK1\n",
    "\n",
    "|S1 union S2| / |S1| + |S2| değerini hesaplayalım. \n",
    "\n",
    "mutasyona uğradığı derken direk snv datasına bakabiliriz elaspic'i karıştırmadan. \n",
    "\n",
    "Aynı hesaplamayı ERBB2'nun bütün interactorları için tekrarlayalım. SRPK1 ile olan mutual exclusivity değeri daha mı iyi görelim.\n",
    "\n",
    "Bunu analysis.docx'deki tablolarda bulunan genler için tekrarlayalım."
   ]
  },
  {
   "cell_type": "code",
   "execution_count": 13,
   "id": "5a72c03b-fcfc-44c3-b569-35c5568cc9a9",
   "metadata": {},
   "outputs": [
    {
     "data": {
      "text/plain": [
       "1.0"
      ]
     },
     "execution_count": 13,
     "metadata": {},
     "output_type": "execute_result"
    }
   ],
   "source": [
    "brca_mutex.calculate_mutual_exclusivity(\"P04626\", \"Q96SB4\")"
   ]
  },
  {
   "cell_type": "code",
   "execution_count": null,
   "id": "7e8247ed-0502-40d3-944a-f71d9648390b",
   "metadata": {},
   "outputs": [],
   "source": []
  },
  {
   "cell_type": "markdown",
   "id": "7347b64d-353d-4efa-8b48-cd1fa161dae7",
   "metadata": {
    "tags": []
   },
   "source": [
    "## Patient Interaction Data"
   ]
  },
  {
   "cell_type": "code",
   "execution_count": 15,
   "id": "d0f59552-1633-40f7-8753-5c1dfd8be97a",
   "metadata": {},
   "outputs": [
    {
     "data": {
      "text/html": [
       "<div>\n",
       "<style scoped>\n",
       "    .dataframe tbody tr th:only-of-type {\n",
       "        vertical-align: middle;\n",
       "    }\n",
       "\n",
       "    .dataframe tbody tr th {\n",
       "        vertical-align: top;\n",
       "    }\n",
       "\n",
       "    .dataframe thead th {\n",
       "        text-align: right;\n",
       "    }\n",
       "</style>\n",
       "<table border=\"1\" class=\"dataframe\">\n",
       "  <thead>\n",
       "    <tr style=\"text-align: right;\">\n",
       "      <th></th>\n",
       "      <th>PATIENT</th>\n",
       "      <th>PROTEIN_GENE</th>\n",
       "      <th>MUTATION</th>\n",
       "      <th>INTERACTORS</th>\n",
       "      <th>NUM_INTERACTORS</th>\n",
       "      <th>DISRUPTIVE_INTERACTORS</th>\n",
       "      <th>NUM_DISRUPTIVE_INTERACTORS</th>\n",
       "      <th>NON_DISRUPTIVE_INTERACTORS</th>\n",
       "      <th>NUM_NON_DISRUPTIVE_INTERACTORS</th>\n",
       "      <th>CORE_INTERFACE_VS_INTERFACE_STATUS</th>\n",
       "    </tr>\n",
       "  </thead>\n",
       "  <tbody>\n",
       "    <tr>\n",
       "      <th>0</th>\n",
       "      <td>TCGA-D8-A1XY</td>\n",
       "      <td>Q9UKS6:PACSIN3</td>\n",
       "      <td>R24H</td>\n",
       "      <td>Q9BY11:PACSIN1,Q9UNF0:PACSIN2,Q5TZC3:PACSIN1,Q...</td>\n",
       "      <td>4</td>\n",
       "      <td>Q9BY11:PACSIN1:0.5,Q9UNF0:PACSIN2:0.59,Q6FIA3:...</td>\n",
       "      <td>3</td>\n",
       "      <td>Q5TZC3:PACSIN1</td>\n",
       "      <td>1</td>\n",
       "      <td>I</td>\n",
       "    </tr>\n",
       "    <tr>\n",
       "      <th>1</th>\n",
       "      <td>TCGA-AO-A0J5</td>\n",
       "      <td>Q9UBN7:HDAC6</td>\n",
       "      <td>D567Y</td>\n",
       "      <td>Q96DB2:HDAC11</td>\n",
       "      <td>1</td>\n",
       "      <td>Q96DB2:HDAC11:0.55</td>\n",
       "      <td>1</td>\n",
       "      <td>NaN</td>\n",
       "      <td>0</td>\n",
       "      <td>I</td>\n",
       "    </tr>\n",
       "    <tr>\n",
       "      <th>2</th>\n",
       "      <td>TCGA-A8-A093</td>\n",
       "      <td>P28062:PSMB8</td>\n",
       "      <td>R216W</td>\n",
       "      <td>P40306:PSMB10</td>\n",
       "      <td>1</td>\n",
       "      <td>NaN</td>\n",
       "      <td>0</td>\n",
       "      <td>P40306:PSMB10</td>\n",
       "      <td>1</td>\n",
       "      <td>I</td>\n",
       "    </tr>\n",
       "    <tr>\n",
       "      <th>3</th>\n",
       "      <td>TCGA-A8-A093</td>\n",
       "      <td>Q15842:KCNJ8</td>\n",
       "      <td>E237K</td>\n",
       "      <td>Q14654:KCNJ11,P63252:KCNJ2</td>\n",
       "      <td>2</td>\n",
       "      <td>Q14654:KCNJ11:0.52,P63252:KCNJ2:0.53</td>\n",
       "      <td>2</td>\n",
       "      <td>NaN</td>\n",
       "      <td>0</td>\n",
       "      <td>I</td>\n",
       "    </tr>\n",
       "    <tr>\n",
       "      <th>4</th>\n",
       "      <td>TCGA-LD-A74U</td>\n",
       "      <td>O15041:SEMA3E</td>\n",
       "      <td>E364K</td>\n",
       "      <td>Q9Y4D7:PLXND1</td>\n",
       "      <td>1</td>\n",
       "      <td>NaN</td>\n",
       "      <td>0</td>\n",
       "      <td>Q9Y4D7:PLXND1</td>\n",
       "      <td>1</td>\n",
       "      <td>I</td>\n",
       "    </tr>\n",
       "  </tbody>\n",
       "</table>\n",
       "</div>"
      ],
      "text/plain": [
       "        PATIENT    PROTEIN_GENE MUTATION                                        INTERACTORS  ...  NUM_DISRUPTIVE_INTERACTORS NON_DISRUPTIVE_INTERACTORS  NUM_NON_DISRUPTIVE_INTERACTORS CORE_INTERFACE_VS_INTERFACE_STATUS\n",
       "0  TCGA-D8-A1XY  Q9UKS6:PACSIN3     R24H  Q9BY11:PACSIN1,Q9UNF0:PACSIN2,Q5TZC3:PACSIN1,Q...  ...                           3             Q5TZC3:PACSIN1                               1                                  I\n",
       "1  TCGA-AO-A0J5    Q9UBN7:HDAC6    D567Y                                      Q96DB2:HDAC11  ...                           1                        NaN                               0                                  I\n",
       "2  TCGA-A8-A093    P28062:PSMB8    R216W                                      P40306:PSMB10  ...                           0              P40306:PSMB10                               1                                  I\n",
       "3  TCGA-A8-A093    Q15842:KCNJ8    E237K                         Q14654:KCNJ11,P63252:KCNJ2  ...                           2                        NaN                               0                                  I\n",
       "4  TCGA-LD-A74U   O15041:SEMA3E    E364K                                      Q9Y4D7:PLXND1  ...                           0              Q9Y4D7:PLXND1                               1                                  I\n",
       "\n",
       "[5 rows x 10 columns]"
      ]
     },
     "execution_count": 15,
     "metadata": {},
     "output_type": "execute_result"
    }
   ],
   "source": [
    "brca_mutex.patient_interaction_data.head()"
   ]
  },
  {
   "cell_type": "code",
   "execution_count": null,
   "id": "195a2d4c-8c28-4def-881c-bc461f9cf628",
   "metadata": {},
   "outputs": [],
   "source": []
  },
  {
   "cell_type": "code",
   "execution_count": 16,
   "id": "f143a106-6390-44df-ab90-0ab1a376b27c",
   "metadata": {},
   "outputs": [
    {
     "data": {
      "text/plain": [
       "Counter({'O15350:TP73': 13,\n",
       "         'Q96KQ7:EHMT2': 14,\n",
       "         'Q13625:TP53BP2': 42,\n",
       "         'Q9H9B1:EHMT1': 9,\n",
       "         'Q9H3D4:TP63': 18,\n",
       "         'Q96KQ4:PPP1R13B': 42,\n",
       "         'Q99728:BARD1': 8,\n",
       "         'O75832:PSMD10': 8,\n",
       "         'Q9ULT8:HECTD1': 8,\n",
       "         'H2EHT1:TP53': 16,\n",
       "         'K7PPA8:TP53': 16,\n",
       "         'P62993:GRB2': 33,\n",
       "         'P07948:LYN': 12,\n",
       "         'Q8WUF5:PPP1R13L': 30,\n",
       "         'Q06187:BTK': 31})"
      ]
     },
     "execution_count": 16,
     "metadata": {},
     "output_type": "execute_result"
    }
   ],
   "source": [
    "brca_mutex.get_disrupted_interactors(\"TP53\", identifier_type=\"gene\", return_counter=True)"
   ]
  },
  {
   "cell_type": "code",
   "execution_count": 17,
   "id": "2f445447-6a8d-4ad3-9ddd-f0f460500b87",
   "metadata": {},
   "outputs": [
    {
     "data": {
      "text/plain": [
       "Counter({'O15350:TP73': 13,\n",
       "         'Q96KQ7:EHMT2': 14,\n",
       "         'Q13625:TP53BP2': 42,\n",
       "         'Q9H9B1:EHMT1': 9,\n",
       "         'Q9H3D4:TP63': 18,\n",
       "         'Q96KQ4:PPP1R13B': 42,\n",
       "         'Q99728:BARD1': 8,\n",
       "         'O75832:PSMD10': 8,\n",
       "         'Q9ULT8:HECTD1': 8,\n",
       "         'H2EHT1:TP53': 16,\n",
       "         'K7PPA8:TP53': 16,\n",
       "         'P62993:GRB2': 33,\n",
       "         'P07948:LYN': 12,\n",
       "         'Q8WUF5:PPP1R13L': 30,\n",
       "         'Q06187:BTK': 31})"
      ]
     },
     "execution_count": 17,
     "metadata": {},
     "output_type": "execute_result"
    }
   ],
   "source": [
    "brca_mutex.get_disrupted_interactors(\"TP53\", identifier_type=\"gene\", return_counter=True)"
   ]
  },
  {
   "cell_type": "code",
   "execution_count": 18,
   "id": "bca305ff-a250-4316-b569-d69df2e95ef9",
   "metadata": {},
   "outputs": [
    {
     "data": {
      "text/plain": [
       "['Q13625:TP53BP2',\n",
       " 'Q96KQ4:PPP1R13B',\n",
       " 'P62993:GRB2',\n",
       " 'Q06187:BTK',\n",
       " 'Q8WUF5:PPP1R13L',\n",
       " 'Q9H3D4:TP63',\n",
       " 'H2EHT1:TP53',\n",
       " 'K7PPA8:TP53',\n",
       " 'Q96KQ7:EHMT2',\n",
       " 'O15350:TP73',\n",
       " 'P07948:LYN',\n",
       " 'Q9H9B1:EHMT1',\n",
       " 'Q99728:BARD1',\n",
       " 'O75832:PSMD10',\n",
       " 'Q9ULT8:HECTD1']"
      ]
     },
     "execution_count": 18,
     "metadata": {},
     "output_type": "execute_result"
    }
   ],
   "source": [
    "brca_mutex.get_disrupted_interactors(\"TP53\", identifier_type=\"gene\")"
   ]
  },
  {
   "cell_type": "code",
   "execution_count": 19,
   "id": "7e4818ba-f6ed-4d93-9e29-ff2381924936",
   "metadata": {},
   "outputs": [
    {
     "data": {
      "text/plain": [
       "Counter({'O15350:TP73': 13,\n",
       "         'Q96KQ7:EHMT2': 14,\n",
       "         'Q13625:TP53BP2': 42,\n",
       "         'Q9H9B1:EHMT1': 9,\n",
       "         'Q9H3D4:TP63': 18,\n",
       "         'Q96KQ4:PPP1R13B': 42,\n",
       "         'Q99728:BARD1': 8,\n",
       "         'O75832:PSMD10': 8,\n",
       "         'Q9ULT8:HECTD1': 8,\n",
       "         'H2EHT1:TP53': 16,\n",
       "         'K7PPA8:TP53': 16,\n",
       "         'P62993:GRB2': 33,\n",
       "         'P07948:LYN': 12,\n",
       "         'Q8WUF5:PPP1R13L': 30,\n",
       "         'Q06187:BTK': 31})"
      ]
     },
     "execution_count": 19,
     "metadata": {},
     "output_type": "execute_result"
    }
   ],
   "source": [
    "brca_mutex.get_disrupted_interactors(\"TP53\", identifier_type=\"gene\", return_counter=True)"
   ]
  },
  {
   "cell_type": "code",
   "execution_count": 20,
   "id": "faeb8d67-d861-4b20-9ec3-e6c8e185c453",
   "metadata": {},
   "outputs": [
    {
     "data": {
      "text/plain": [
       "Counter({'P62805:H4C1': 6,\n",
       "         'Q9UER7:DAXX': 4,\n",
       "         'P04908:H2AC4': 4,\n",
       "         'Q16777:H2AC20': 3,\n",
       "         'P16104:H2AX': 4,\n",
       "         'P0C0S8:H2AC11': 4,\n",
       "         'O75367:MACROH2A1': 4,\n",
       "         'P0C0S5:H2AZ1': 4,\n",
       "         'Q9Y294:ASF1A': 1,\n",
       "         'Q9NVP2:ASF1B': 1,\n",
       "         'P49450:CENPA': 1})"
      ]
     },
     "execution_count": 20,
     "metadata": {},
     "output_type": "execute_result"
    }
   ],
   "source": [
    "brca_mutex.get_disrupted_interactors(\"H3C1\", identifier_type=\"gene\", return_counter=True)"
   ]
  },
  {
   "cell_type": "code",
   "execution_count": 21,
   "id": "e11c1399-74ee-40be-8e9d-ca8abcd56479",
   "metadata": {},
   "outputs": [
    {
     "data": {
      "text/plain": [
       "Counter({'P84243:H3-3A': 7,\n",
       "         'Q16695:H3-4': 5,\n",
       "         'Q71DI3:H3C15': 7,\n",
       "         'P49450:CENPA': 5,\n",
       "         'P68431:H3C1': 8,\n",
       "         'Q16514:TAF12': 2,\n",
       "         'Q9UER7:DAXX': 3,\n",
       "         'P06899:H2BC11': 1,\n",
       "         'Q16778:H2BC21': 1,\n",
       "         'B4E1C1:nan': 4,\n",
       "         'Q53F85:nan': 3,\n",
       "         'P04908:H2AC4': 2,\n",
       "         'P16104:H2AX': 1,\n",
       "         'P0C0S5:H2AZ1': 2,\n",
       "         'Q16777:H2AC20': 2,\n",
       "         'Q9Y294:ASF1A': 1})"
      ]
     },
     "execution_count": 21,
     "metadata": {},
     "output_type": "execute_result"
    }
   ],
   "source": [
    "brca_mutex.get_disrupted_interactors(\"H4C1\", identifier_type=\"gene\", return_counter=True)"
   ]
  },
  {
   "cell_type": "code",
   "execution_count": 22,
   "id": "4b6411d8-0e9b-450b-89b2-fa648e649a4b",
   "metadata": {},
   "outputs": [
    {
     "data": {
      "text/plain": [
       "Counter({'Q5S007:LRRK2': 6,\n",
       "         'P52564:MAP2K6': 6,\n",
       "         'P00533:EGFR': 1,\n",
       "         'P35916:FLT4': 1,\n",
       "         'Q99558:MAP3K14': 1,\n",
       "         'P45984:MAPK9': 1,\n",
       "         'Q16539:MAPK14': 2})"
      ]
     },
     "execution_count": 22,
     "metadata": {},
     "output_type": "execute_result"
    }
   ],
   "source": [
    "brca_mutex.get_disrupted_interactors(\"MAP2K4\", identifier_type=\"gene\", return_counter=True)"
   ]
  },
  {
   "cell_type": "code",
   "execution_count": null,
   "id": "72a4ea13-e318-49ce-9b8d-e6006797c855",
   "metadata": {},
   "outputs": [],
   "source": []
  },
  {
   "cell_type": "code",
   "execution_count": null,
   "id": "57467be9-0927-4721-a9dc-9c90c05f55fe",
   "metadata": {},
   "outputs": [],
   "source": []
  },
  {
   "cell_type": "code",
   "execution_count": 24,
   "id": "bd19254b-9083-4e98-8d5f-263c2ca647ad",
   "metadata": {},
   "outputs": [
    {
     "data": {
      "text/plain": [
       "['H2EHT1', 'K7PPA8', 'P04637']"
      ]
     },
     "execution_count": 24,
     "metadata": {},
     "output_type": "execute_result"
    }
   ],
   "source": [
    "ProteinIDFetcher().fetch(\"TP53\")"
   ]
  },
  {
   "cell_type": "code",
   "execution_count": 25,
   "id": "f9ece295-6c4a-4054-b680-28cf721c5c26",
   "metadata": {},
   "outputs": [
    {
     "data": {
      "text/plain": [
       "['P45985']"
      ]
     },
     "execution_count": 25,
     "metadata": {},
     "output_type": "execute_result"
    }
   ],
   "source": [
    "ProteinIDFetcher().fetch(\"MAP2K4\")"
   ]
  },
  {
   "cell_type": "code",
   "execution_count": 26,
   "id": "6a5b8352-e0bd-4038-9f1b-c6e53474f1a3",
   "metadata": {},
   "outputs": [
    {
     "data": {
      "text/plain": [
       "['P04626', 'J3QLU9']"
      ]
     },
     "execution_count": 26,
     "metadata": {},
     "output_type": "execute_result"
    }
   ],
   "source": [
    "ProteinIDFetcher().fetch(\"ERBB2\")"
   ]
  },
  {
   "cell_type": "code",
   "execution_count": 27,
   "id": "28d7227c-a167-42fa-9184-22caae499836",
   "metadata": {},
   "outputs": [
    {
     "data": {
      "text/plain": [
       "1.0"
      ]
     },
     "execution_count": 27,
     "metadata": {},
     "output_type": "execute_result"
    }
   ],
   "source": [
    "brca_mutex.calculate_mutual_exclusivity(\"Q96SB4\", \"P04626\")"
   ]
  },
  {
   "cell_type": "code",
   "execution_count": 28,
   "id": "8c257c26-5139-47e1-a1d8-405a58504820",
   "metadata": {},
   "outputs": [
    {
     "data": {
      "text/plain": [
       "0.9285714285714286"
      ]
     },
     "execution_count": 28,
     "metadata": {},
     "output_type": "execute_result"
    }
   ],
   "source": [
    "brca_mutex.calculate_mutual_exclusivity(\"P08069\", \"Q96SB4\")"
   ]
  },
  {
   "cell_type": "code",
   "execution_count": 29,
   "id": "c9f79da3-c53e-48e7-94c0-69f6551d969d",
   "metadata": {},
   "outputs": [
    {
     "data": {
      "text/plain": [
       "0.9375"
      ]
     },
     "execution_count": 29,
     "metadata": {},
     "output_type": "execute_result"
    }
   ],
   "source": [
    "brca_mutex.calculate_mutual_exclusivity(\"P08069\", \"P23458\")"
   ]
  },
  {
   "cell_type": "code",
   "execution_count": 30,
   "id": "c40d7a54-3f24-419e-84d3-e2fa3daaebf4",
   "metadata": {},
   "outputs": [
    {
     "data": {
      "text/plain": [
       "0.9375"
      ]
     },
     "execution_count": 30,
     "metadata": {},
     "output_type": "execute_result"
    }
   ],
   "source": [
    "brca_mutex.calculate_mutual_exclusivity(\"P23458\", \"P08069\")"
   ]
  },
  {
   "cell_type": "code",
   "execution_count": null,
   "id": "f9b71cab-55ec-49e5-83a0-2bae18479736",
   "metadata": {},
   "outputs": [],
   "source": []
  },
  {
   "cell_type": "markdown",
   "id": "c635be50-ae11-4fa9-b396-8679eec7d593",
   "metadata": {},
   "source": [
    "## Analysis Genes"
   ]
  },
  {
   "cell_type": "markdown",
   "id": "568162e8-dcf1-4baf-9df8-14c4fd37aaaf",
   "metadata": {},
   "source": [
    "### ERBB2"
   ]
  },
  {
   "cell_type": "code",
   "execution_count": 32,
   "id": "a9f58db1-90e5-42f7-a2fd-4c0dc44b1b9d",
   "metadata": {},
   "outputs": [
    {
     "data": {
      "text/plain": [
       "['P04626', 'J3QLU9']"
      ]
     },
     "execution_count": 32,
     "metadata": {},
     "output_type": "execute_result"
    }
   ],
   "source": [
    "ProteinIDFetcher().fetch(\"ERBB2\")"
   ]
  },
  {
   "cell_type": "code",
   "execution_count": 34,
   "id": "e0804201-1aab-43f0-92d5-0fc40cfee9aa",
   "metadata": {},
   "outputs": [
    {
     "name": "stdout",
     "output_type": "stream",
     "text": [
      "2021-11-13 21:11:57 |\u001b[32m INFO     \u001b[0m| helpers.helpers_analysis.mutual_exclusivity | Calculating Mutual Exclusivity over P04626's interactors ..\n",
      "2021-11-13 21:11:57 |\u001b[36m DEBUG    \u001b[0m| helpers.helpers_analysis.mutual_exclusivity | P04626 have 15 interactors:\n",
      "['Q96SB4:SRPK1', 'P00533:EGFR', 'P51813:BMX', 'Q14289:PTK2B', 'P16591:FER', 'P06241:FYN', 'P08069:IGF1R', 'Q13153:PAK1', 'P42680:TEC', 'P21860:ERBB3', 'O60674:JAK2', 'P15153:RAC2', 'Q9UJM3:ERRFI1', 'Q92625:ANKS1A', 'P23458:JAK1']\n"
     ]
    },
    {
     "data": {
      "text/html": [
       "<div>\n",
       "<style scoped>\n",
       "    .dataframe tbody tr th:only-of-type {\n",
       "        vertical-align: middle;\n",
       "    }\n",
       "\n",
       "    .dataframe tbody tr th {\n",
       "        vertical-align: top;\n",
       "    }\n",
       "\n",
       "    .dataframe thead th {\n",
       "        text-align: right;\n",
       "    }\n",
       "</style>\n",
       "<table border=\"1\" class=\"dataframe\">\n",
       "  <thead>\n",
       "    <tr style=\"text-align: right;\">\n",
       "      <th></th>\n",
       "      <th>PROTEIN:GENE</th>\n",
       "      <th>INTERACTOR</th>\n",
       "      <th>MUTUAL_EXCLUSIVITY</th>\n",
       "    </tr>\n",
       "  </thead>\n",
       "  <tbody>\n",
       "    <tr>\n",
       "      <th>0</th>\n",
       "      <td>P04626:ERBB2</td>\n",
       "      <td>Q96SB4:SRPK1</td>\n",
       "      <td>1.00000</td>\n",
       "    </tr>\n",
       "    <tr>\n",
       "      <th>1</th>\n",
       "      <td>P04626:ERBB2</td>\n",
       "      <td>P00533:EGFR</td>\n",
       "      <td>1.00000</td>\n",
       "    </tr>\n",
       "    <tr>\n",
       "      <th>2</th>\n",
       "      <td>P04626:ERBB2</td>\n",
       "      <td>P51813:BMX</td>\n",
       "      <td>0.96970</td>\n",
       "    </tr>\n",
       "    <tr>\n",
       "      <th>3</th>\n",
       "      <td>P04626:ERBB2</td>\n",
       "      <td>Q14289:PTK2B</td>\n",
       "      <td>1.00000</td>\n",
       "    </tr>\n",
       "    <tr>\n",
       "      <th>4</th>\n",
       "      <td>P04626:ERBB2</td>\n",
       "      <td>P16591:FER</td>\n",
       "      <td>0.96970</td>\n",
       "    </tr>\n",
       "    <tr>\n",
       "      <th>5</th>\n",
       "      <td>P04626:ERBB2</td>\n",
       "      <td>P06241:FYN</td>\n",
       "      <td>1.00000</td>\n",
       "    </tr>\n",
       "    <tr>\n",
       "      <th>6</th>\n",
       "      <td>P04626:ERBB2</td>\n",
       "      <td>P08069:IGF1R</td>\n",
       "      <td>0.97222</td>\n",
       "    </tr>\n",
       "    <tr>\n",
       "      <th>7</th>\n",
       "      <td>P04626:ERBB2</td>\n",
       "      <td>Q13153:PAK1</td>\n",
       "      <td>0.96774</td>\n",
       "    </tr>\n",
       "    <tr>\n",
       "      <th>8</th>\n",
       "      <td>P04626:ERBB2</td>\n",
       "      <td>P42680:TEC</td>\n",
       "      <td>1.00000</td>\n",
       "    </tr>\n",
       "    <tr>\n",
       "      <th>9</th>\n",
       "      <td>P04626:ERBB2</td>\n",
       "      <td>P21860:ERBB3</td>\n",
       "      <td>0.95652</td>\n",
       "    </tr>\n",
       "    <tr>\n",
       "      <th>10</th>\n",
       "      <td>P04626:ERBB2</td>\n",
       "      <td>O60674:JAK2</td>\n",
       "      <td>1.00000</td>\n",
       "    </tr>\n",
       "    <tr>\n",
       "      <th>11</th>\n",
       "      <td>P04626:ERBB2</td>\n",
       "      <td>P15153:RAC2</td>\n",
       "      <td>1.00000</td>\n",
       "    </tr>\n",
       "    <tr>\n",
       "      <th>12</th>\n",
       "      <td>P04626:ERBB2</td>\n",
       "      <td>Q9UJM3:ERRFI1</td>\n",
       "      <td>1.00000</td>\n",
       "    </tr>\n",
       "    <tr>\n",
       "      <th>13</th>\n",
       "      <td>P04626:ERBB2</td>\n",
       "      <td>Q92625:ANKS1A</td>\n",
       "      <td>1.00000</td>\n",
       "    </tr>\n",
       "    <tr>\n",
       "      <th>14</th>\n",
       "      <td>P04626:ERBB2</td>\n",
       "      <td>P23458:JAK1</td>\n",
       "      <td>0.97059</td>\n",
       "    </tr>\n",
       "  </tbody>\n",
       "</table>\n",
       "</div>"
      ],
      "text/plain": [
       "    PROTEIN:GENE     INTERACTOR  MUTUAL_EXCLUSIVITY\n",
       "0   P04626:ERBB2   Q96SB4:SRPK1             1.00000\n",
       "1   P04626:ERBB2    P00533:EGFR             1.00000\n",
       "2   P04626:ERBB2     P51813:BMX             0.96970\n",
       "3   P04626:ERBB2   Q14289:PTK2B             1.00000\n",
       "4   P04626:ERBB2     P16591:FER             0.96970\n",
       "5   P04626:ERBB2     P06241:FYN             1.00000\n",
       "6   P04626:ERBB2   P08069:IGF1R             0.97222\n",
       "7   P04626:ERBB2    Q13153:PAK1             0.96774\n",
       "8   P04626:ERBB2     P42680:TEC             1.00000\n",
       "9   P04626:ERBB2   P21860:ERBB3             0.95652\n",
       "10  P04626:ERBB2    O60674:JAK2             1.00000\n",
       "11  P04626:ERBB2    P15153:RAC2             1.00000\n",
       "12  P04626:ERBB2  Q9UJM3:ERRFI1             1.00000\n",
       "13  P04626:ERBB2  Q92625:ANKS1A             1.00000\n",
       "14  P04626:ERBB2    P23458:JAK1             0.97059"
      ]
     },
     "execution_count": 34,
     "metadata": {},
     "output_type": "execute_result"
    }
   ],
   "source": [
    "brca_mutex.get_disruptive_mutual_exclusivity_data(\"P04626\")"
   ]
  },
  {
   "cell_type": "code",
   "execution_count": 35,
   "id": "ede038b5-6a36-4a7e-91be-7914c664dc2c",
   "metadata": {},
   "outputs": [
    {
     "name": "stdout",
     "output_type": "stream",
     "text": [
      "2021-11-13 21:12:44 |\u001b[32m INFO     \u001b[0m| helpers.helpers_analysis.mutual_exclusivity | Calculating Mutual Exclusivity over P04626's interactors ..\n",
      "2021-11-13 21:12:44 |\u001b[36m DEBUG    \u001b[0m| helpers.helpers_analysis.mutual_exclusivity | P04626 have 15 interactors:\n",
      "['Q96SB4:SRPK1', 'P00533:EGFR', 'P51813:BMX', 'Q14289:PTK2B', 'P16591:FER', 'P06241:FYN', 'P08069:IGF1R', 'Q13153:PAK1', 'P42680:TEC', 'P21860:ERBB3', 'O60674:JAK2', 'P15153:RAC2', 'Q9UJM3:ERRFI1', 'Q92625:ANKS1A', 'P23458:JAK1']\n",
      "2021-11-13 21:12:45 |\u001b[36m DEBUG    \u001b[0m| helpers.helpers_analysis.mutual_exclusivity | Exporting Mutual Exclusivity BRCA P04626 ..\n",
      "2021-11-13 21:12:45 |\u001b[32m INFO     \u001b[0m| helpers.helpers_analysis.mutual_exclusivity | dev/mutex\\BRCA_P04626_ERBB2_2021-11-13.csv is exported successfully.\n"
     ]
    }
   ],
   "source": [
    "brca_mutex.export_disruptive_mutual_exclusivity_data(\"dev/mutex\", \"P04626\")"
   ]
  },
  {
   "cell_type": "markdown",
   "id": "2cc165a1-0b00-4ef9-968f-2c9dbca4d06d",
   "metadata": {},
   "source": [
    "### TP53"
   ]
  },
  {
   "cell_type": "code",
   "execution_count": 37,
   "id": "151b0278-d523-40cf-a733-e1c7c13c6d1b",
   "metadata": {},
   "outputs": [
    {
     "data": {
      "text/plain": [
       "['H2EHT1', 'K7PPA8', 'P04637']"
      ]
     },
     "execution_count": 37,
     "metadata": {},
     "output_type": "execute_result"
    }
   ],
   "source": [
    "ProteinIDFetcher().fetch(\"TP53\")"
   ]
  },
  {
   "cell_type": "code",
   "execution_count": 38,
   "id": "3b679b93-985c-4080-89d6-abb803b69d4a",
   "metadata": {},
   "outputs": [
    {
     "name": "stdout",
     "output_type": "stream",
     "text": [
      "2021-11-13 21:13:12 |\u001b[32m INFO     \u001b[0m| helpers.helpers_analysis.mutual_exclusivity | Calculating Mutual Exclusivity over P04637's interactors ..\n",
      "2021-11-13 21:13:12 |\u001b[36m DEBUG    \u001b[0m| helpers.helpers_analysis.mutual_exclusivity | P04637 have 15 interactors:\n",
      "['Q13625:TP53BP2', 'Q96KQ4:PPP1R13B', 'P62993:GRB2', 'Q06187:BTK', 'Q8WUF5:PPP1R13L', 'Q9H3D4:TP63', 'H2EHT1:TP53', 'K7PPA8:TP53', 'Q96KQ7:EHMT2', 'O15350:TP73', 'P07948:LYN', 'Q9H9B1:EHMT1', 'Q99728:BARD1', 'O75832:PSMD10', 'Q9ULT8:HECTD1']\n"
     ]
    },
    {
     "data": {
      "text/html": [
       "<div>\n",
       "<style scoped>\n",
       "    .dataframe tbody tr th:only-of-type {\n",
       "        vertical-align: middle;\n",
       "    }\n",
       "\n",
       "    .dataframe tbody tr th {\n",
       "        vertical-align: top;\n",
       "    }\n",
       "\n",
       "    .dataframe thead th {\n",
       "        text-align: right;\n",
       "    }\n",
       "</style>\n",
       "<table border=\"1\" class=\"dataframe\">\n",
       "  <thead>\n",
       "    <tr style=\"text-align: right;\">\n",
       "      <th></th>\n",
       "      <th>PROTEIN:GENE</th>\n",
       "      <th>INTERACTOR</th>\n",
       "      <th>MUTUAL_EXCLUSIVITY</th>\n",
       "    </tr>\n",
       "  </thead>\n",
       "  <tbody>\n",
       "    <tr>\n",
       "      <th>0</th>\n",
       "      <td>P04637:TP53</td>\n",
       "      <td>Q13625:TP53BP2</td>\n",
       "      <td>0.99528</td>\n",
       "    </tr>\n",
       "    <tr>\n",
       "      <th>1</th>\n",
       "      <td>P04637:TP53</td>\n",
       "      <td>Q96KQ4:PPP1R13B</td>\n",
       "      <td>1.00000</td>\n",
       "    </tr>\n",
       "    <tr>\n",
       "      <th>2</th>\n",
       "      <td>P04637:TP53</td>\n",
       "      <td>P62993:GRB2</td>\n",
       "      <td>1.00000</td>\n",
       "    </tr>\n",
       "    <tr>\n",
       "      <th>3</th>\n",
       "      <td>P04637:TP53</td>\n",
       "      <td>Q06187:BTK</td>\n",
       "      <td>0.99526</td>\n",
       "    </tr>\n",
       "    <tr>\n",
       "      <th>4</th>\n",
       "      <td>P04637:TP53</td>\n",
       "      <td>Q8WUF5:PPP1R13L</td>\n",
       "      <td>1.00000</td>\n",
       "    </tr>\n",
       "    <tr>\n",
       "      <th>5</th>\n",
       "      <td>P04637:TP53</td>\n",
       "      <td>Q9H3D4:TP63</td>\n",
       "      <td>0.99515</td>\n",
       "    </tr>\n",
       "    <tr>\n",
       "      <th>6</th>\n",
       "      <td>P04637:TP53</td>\n",
       "      <td>H2EHT1:TP53</td>\n",
       "      <td>1.00000</td>\n",
       "    </tr>\n",
       "    <tr>\n",
       "      <th>7</th>\n",
       "      <td>P04637:TP53</td>\n",
       "      <td>K7PPA8:TP53</td>\n",
       "      <td>1.00000</td>\n",
       "    </tr>\n",
       "    <tr>\n",
       "      <th>8</th>\n",
       "      <td>P04637:TP53</td>\n",
       "      <td>Q96KQ7:EHMT2</td>\n",
       "      <td>1.00000</td>\n",
       "    </tr>\n",
       "    <tr>\n",
       "      <th>9</th>\n",
       "      <td>P04637:TP53</td>\n",
       "      <td>O15350:TP73</td>\n",
       "      <td>1.00000</td>\n",
       "    </tr>\n",
       "    <tr>\n",
       "      <th>10</th>\n",
       "      <td>P04637:TP53</td>\n",
       "      <td>P07948:LYN</td>\n",
       "      <td>0.98571</td>\n",
       "    </tr>\n",
       "    <tr>\n",
       "      <th>11</th>\n",
       "      <td>P04637:TP53</td>\n",
       "      <td>Q9H9B1:EHMT1</td>\n",
       "      <td>1.00000</td>\n",
       "    </tr>\n",
       "    <tr>\n",
       "      <th>12</th>\n",
       "      <td>P04637:TP53</td>\n",
       "      <td>Q99728:BARD1</td>\n",
       "      <td>1.00000</td>\n",
       "    </tr>\n",
       "    <tr>\n",
       "      <th>13</th>\n",
       "      <td>P04637:TP53</td>\n",
       "      <td>O75832:PSMD10</td>\n",
       "      <td>0.99512</td>\n",
       "    </tr>\n",
       "    <tr>\n",
       "      <th>14</th>\n",
       "      <td>P04637:TP53</td>\n",
       "      <td>Q9ULT8:HECTD1</td>\n",
       "      <td>0.98624</td>\n",
       "    </tr>\n",
       "  </tbody>\n",
       "</table>\n",
       "</div>"
      ],
      "text/plain": [
       "   PROTEIN:GENE       INTERACTOR  MUTUAL_EXCLUSIVITY\n",
       "0   P04637:TP53   Q13625:TP53BP2             0.99528\n",
       "1   P04637:TP53  Q96KQ4:PPP1R13B             1.00000\n",
       "2   P04637:TP53      P62993:GRB2             1.00000\n",
       "3   P04637:TP53       Q06187:BTK             0.99526\n",
       "4   P04637:TP53  Q8WUF5:PPP1R13L             1.00000\n",
       "5   P04637:TP53      Q9H3D4:TP63             0.99515\n",
       "6   P04637:TP53      H2EHT1:TP53             1.00000\n",
       "7   P04637:TP53      K7PPA8:TP53             1.00000\n",
       "8   P04637:TP53     Q96KQ7:EHMT2             1.00000\n",
       "9   P04637:TP53      O15350:TP73             1.00000\n",
       "10  P04637:TP53       P07948:LYN             0.98571\n",
       "11  P04637:TP53     Q9H9B1:EHMT1             1.00000\n",
       "12  P04637:TP53     Q99728:BARD1             1.00000\n",
       "13  P04637:TP53    O75832:PSMD10             0.99512\n",
       "14  P04637:TP53    Q9ULT8:HECTD1             0.98624"
      ]
     },
     "execution_count": 38,
     "metadata": {},
     "output_type": "execute_result"
    }
   ],
   "source": [
    "brca_mutex.get_disruptive_mutual_exclusivity_data(\"P04637\")"
   ]
  },
  {
   "cell_type": "code",
   "execution_count": 40,
   "id": "d9f67ebd-15e5-44a6-9c98-a8a232f0a08d",
   "metadata": {},
   "outputs": [
    {
     "name": "stdout",
     "output_type": "stream",
     "text": [
      "2021-11-13 21:13:20 |\u001b[32m INFO     \u001b[0m| helpers.helpers_analysis.mutual_exclusivity | Calculating Mutual Exclusivity over P04637's interactors ..\n",
      "2021-11-13 21:13:20 |\u001b[36m DEBUG    \u001b[0m| helpers.helpers_analysis.mutual_exclusivity | P04637 have 15 interactors:\n",
      "['Q13625:TP53BP2', 'Q96KQ4:PPP1R13B', 'P62993:GRB2', 'Q06187:BTK', 'Q8WUF5:PPP1R13L', 'Q9H3D4:TP63', 'H2EHT1:TP53', 'K7PPA8:TP53', 'Q96KQ7:EHMT2', 'O15350:TP73', 'P07948:LYN', 'Q9H9B1:EHMT1', 'Q99728:BARD1', 'O75832:PSMD10', 'Q9ULT8:HECTD1']\n",
      "2021-11-13 21:13:20 |\u001b[36m DEBUG    \u001b[0m| helpers.helpers_analysis.mutual_exclusivity | Exporting Mutual Exclusivity BRCA P04637 ..\n",
      "2021-11-13 21:13:20 |\u001b[33m WARNING  \u001b[0m| helpers.helpers_analysis.mutual_exclusivity | File dev/mutex\\BRCA_P04637_TP53_2021-11-13.csv is already exist.\n",
      "To overwrite existing file, use `overwrite=True`.\n"
     ]
    }
   ],
   "source": [
    "brca_mutex.export_disruptive_mutual_exclusivity_data(\"dev/mutex\", \"P04637\")"
   ]
  },
  {
   "cell_type": "code",
   "execution_count": null,
   "id": "e5e79df1-6ef6-41be-9c20-e867620a887c",
   "metadata": {},
   "outputs": [],
   "source": []
  },
  {
   "cell_type": "markdown",
   "id": "a90cc3d4-c529-4571-ad7d-cd7340e945db",
   "metadata": {},
   "source": [
    "### H3C1"
   ]
  },
  {
   "cell_type": "code",
   "execution_count": 43,
   "id": "4eb3089a-f701-4a6a-ab46-ca8baefc61b8",
   "metadata": {},
   "outputs": [
    {
     "data": {
      "text/plain": [
       "['P68431']"
      ]
     },
     "execution_count": 43,
     "metadata": {},
     "output_type": "execute_result"
    }
   ],
   "source": [
    "ProteinIDFetcher().fetch(\"H3C1\")"
   ]
  },
  {
   "cell_type": "code",
   "execution_count": 44,
   "id": "35254abe-b808-4399-b95b-26778fe9793e",
   "metadata": {},
   "outputs": [
    {
     "name": "stdout",
     "output_type": "stream",
     "text": [
      "2021-11-13 21:14:43 |\u001b[32m INFO     \u001b[0m| helpers.helpers_analysis.mutual_exclusivity | Calculating Mutual Exclusivity over P68431's interactors ..\n",
      "2021-11-13 21:14:43 |\u001b[36m DEBUG    \u001b[0m| helpers.helpers_analysis.mutual_exclusivity | P68431 have 11 interactors:\n",
      "['P62805:H4C1', 'Q9UER7:DAXX', 'P04908:H2AC4', 'P16104:H2AX', 'P0C0S8:H2AC11', 'O75367:MACROH2A1', 'P0C0S5:H2AZ1', 'Q16777:H2AC20', 'Q9Y294:ASF1A', 'Q9NVP2:ASF1B', 'P49450:CENPA']\n"
     ]
    },
    {
     "data": {
      "text/html": [
       "<div>\n",
       "<style scoped>\n",
       "    .dataframe tbody tr th:only-of-type {\n",
       "        vertical-align: middle;\n",
       "    }\n",
       "\n",
       "    .dataframe tbody tr th {\n",
       "        vertical-align: top;\n",
       "    }\n",
       "\n",
       "    .dataframe thead th {\n",
       "        text-align: right;\n",
       "    }\n",
       "</style>\n",
       "<table border=\"1\" class=\"dataframe\">\n",
       "  <thead>\n",
       "    <tr style=\"text-align: right;\">\n",
       "      <th></th>\n",
       "      <th>PROTEIN:GENE</th>\n",
       "      <th>INTERACTOR</th>\n",
       "      <th>MUTUAL_EXCLUSIVITY</th>\n",
       "    </tr>\n",
       "  </thead>\n",
       "  <tbody>\n",
       "    <tr>\n",
       "      <th>0</th>\n",
       "      <td>P68431:H3C1</td>\n",
       "      <td>P62805:H4C1</td>\n",
       "      <td>0.97872</td>\n",
       "    </tr>\n",
       "    <tr>\n",
       "      <th>1</th>\n",
       "      <td>P68431:H3C1</td>\n",
       "      <td>Q9UER7:DAXX</td>\n",
       "      <td>1.00000</td>\n",
       "    </tr>\n",
       "    <tr>\n",
       "      <th>2</th>\n",
       "      <td>P68431:H3C1</td>\n",
       "      <td>P04908:H2AC4</td>\n",
       "      <td>0.97674</td>\n",
       "    </tr>\n",
       "    <tr>\n",
       "      <th>3</th>\n",
       "      <td>P68431:H3C1</td>\n",
       "      <td>P16104:H2AX</td>\n",
       "      <td>1.00000</td>\n",
       "    </tr>\n",
       "    <tr>\n",
       "      <th>4</th>\n",
       "      <td>P68431:H3C1</td>\n",
       "      <td>P0C0S8:H2AC11</td>\n",
       "      <td>0.97619</td>\n",
       "    </tr>\n",
       "    <tr>\n",
       "      <th>5</th>\n",
       "      <td>P68431:H3C1</td>\n",
       "      <td>O75367:MACROH2A1</td>\n",
       "      <td>1.00000</td>\n",
       "    </tr>\n",
       "    <tr>\n",
       "      <th>6</th>\n",
       "      <td>P68431:H3C1</td>\n",
       "      <td>P0C0S5:H2AZ1</td>\n",
       "      <td>0.96875</td>\n",
       "    </tr>\n",
       "    <tr>\n",
       "      <th>7</th>\n",
       "      <td>P68431:H3C1</td>\n",
       "      <td>Q16777:H2AC20</td>\n",
       "      <td>1.00000</td>\n",
       "    </tr>\n",
       "    <tr>\n",
       "      <th>8</th>\n",
       "      <td>P68431:H3C1</td>\n",
       "      <td>Q9Y294:ASF1A</td>\n",
       "      <td>1.00000</td>\n",
       "    </tr>\n",
       "    <tr>\n",
       "      <th>9</th>\n",
       "      <td>P68431:H3C1</td>\n",
       "      <td>Q9NVP2:ASF1B</td>\n",
       "      <td>1.00000</td>\n",
       "    </tr>\n",
       "    <tr>\n",
       "      <th>10</th>\n",
       "      <td>P68431:H3C1</td>\n",
       "      <td>P49450:CENPA</td>\n",
       "      <td>1.00000</td>\n",
       "    </tr>\n",
       "  </tbody>\n",
       "</table>\n",
       "</div>"
      ],
      "text/plain": [
       "   PROTEIN:GENE        INTERACTOR  MUTUAL_EXCLUSIVITY\n",
       "0   P68431:H3C1       P62805:H4C1             0.97872\n",
       "1   P68431:H3C1       Q9UER7:DAXX             1.00000\n",
       "2   P68431:H3C1      P04908:H2AC4             0.97674\n",
       "3   P68431:H3C1       P16104:H2AX             1.00000\n",
       "4   P68431:H3C1     P0C0S8:H2AC11             0.97619\n",
       "5   P68431:H3C1  O75367:MACROH2A1             1.00000\n",
       "6   P68431:H3C1      P0C0S5:H2AZ1             0.96875\n",
       "7   P68431:H3C1     Q16777:H2AC20             1.00000\n",
       "8   P68431:H3C1      Q9Y294:ASF1A             1.00000\n",
       "9   P68431:H3C1      Q9NVP2:ASF1B             1.00000\n",
       "10  P68431:H3C1      P49450:CENPA             1.00000"
      ]
     },
     "execution_count": 44,
     "metadata": {},
     "output_type": "execute_result"
    }
   ],
   "source": [
    "brca_mutex.get_disruptive_mutual_exclusivity_data(\"P68431\")"
   ]
  },
  {
   "cell_type": "code",
   "execution_count": 40,
   "id": "f8dbca4b-64b9-4216-99a5-14ca5c3cd844",
   "metadata": {},
   "outputs": [
    {
     "name": "stdout",
     "output_type": "stream",
     "text": [
      "2021-11-13 21:13:20 |\u001b[32m INFO     \u001b[0m| helpers.helpers_analysis.mutual_exclusivity | Calculating Mutual Exclusivity over P04637's interactors ..\n",
      "2021-11-13 21:13:20 |\u001b[36m DEBUG    \u001b[0m| helpers.helpers_analysis.mutual_exclusivity | P04637 have 15 interactors:\n",
      "['Q13625:TP53BP2', 'Q96KQ4:PPP1R13B', 'P62993:GRB2', 'Q06187:BTK', 'Q8WUF5:PPP1R13L', 'Q9H3D4:TP63', 'H2EHT1:TP53', 'K7PPA8:TP53', 'Q96KQ7:EHMT2', 'O15350:TP73', 'P07948:LYN', 'Q9H9B1:EHMT1', 'Q99728:BARD1', 'O75832:PSMD10', 'Q9ULT8:HECTD1']\n",
      "2021-11-13 21:13:20 |\u001b[36m DEBUG    \u001b[0m| helpers.helpers_analysis.mutual_exclusivity | Exporting Mutual Exclusivity BRCA P04637 ..\n",
      "2021-11-13 21:13:20 |\u001b[33m WARNING  \u001b[0m| helpers.helpers_analysis.mutual_exclusivity | File dev/mutex\\BRCA_P04637_TP53_2021-11-13.csv is already exist.\n",
      "To overwrite existing file, use `overwrite=True`.\n"
     ]
    }
   ],
   "source": [
    "brca_mutex.export_disruptive_mutual_exclusivity_data(\"dev/mutex\", \"P68431\")"
   ]
  },
  {
   "cell_type": "code",
   "execution_count": null,
   "id": "cf728f79-170a-4769-8a1f-14117cf89200",
   "metadata": {},
   "outputs": [],
   "source": []
  },
  {
   "cell_type": "markdown",
   "id": "ede167b0-d639-41a5-91ee-b10fb4765f35",
   "metadata": {},
   "source": [
    "### H4C1"
   ]
  },
  {
   "cell_type": "code",
   "execution_count": 45,
   "id": "35f2a097-a161-414b-b0c8-ea9ad6154138",
   "metadata": {},
   "outputs": [
    {
     "data": {
      "text/plain": [
       "['P62805']"
      ]
     },
     "execution_count": 45,
     "metadata": {},
     "output_type": "execute_result"
    }
   ],
   "source": [
    "ProteinIDFetcher().fetch(\"H4C1\")"
   ]
  },
  {
   "cell_type": "code",
   "execution_count": 46,
   "id": "1c7d2fe6-1c50-4ffe-a4b6-d47fdeacf527",
   "metadata": {},
   "outputs": [
    {
     "name": "stdout",
     "output_type": "stream",
     "text": [
      "2021-11-13 21:16:26 |\u001b[32m INFO     \u001b[0m| helpers.helpers_analysis.mutual_exclusivity | Calculating Mutual Exclusivity over P62805's interactors ..\n",
      "2021-11-13 21:16:26 |\u001b[36m DEBUG    \u001b[0m| helpers.helpers_analysis.mutual_exclusivity | P62805 have 16 interactors:\n",
      "['P68431:H3C1', 'P84243:H3-3A', 'Q71DI3:H3C15', 'Q16695:H3-4', 'P49450:CENPA', 'B4E1C1:nan', 'Q9UER7:DAXX', 'Q53F85:nan', 'Q16514:TAF12', 'P04908:H2AC4', 'P0C0S5:H2AZ1', 'Q16777:H2AC20', 'P06899:H2BC11', 'Q16778:H2BC21', 'P16104:H2AX', 'Q9Y294:ASF1A']\n"
     ]
    },
    {
     "data": {
      "text/html": [
       "<div>\n",
       "<style scoped>\n",
       "    .dataframe tbody tr th:only-of-type {\n",
       "        vertical-align: middle;\n",
       "    }\n",
       "\n",
       "    .dataframe tbody tr th {\n",
       "        vertical-align: top;\n",
       "    }\n",
       "\n",
       "    .dataframe thead th {\n",
       "        text-align: right;\n",
       "    }\n",
       "</style>\n",
       "<table border=\"1\" class=\"dataframe\">\n",
       "  <thead>\n",
       "    <tr style=\"text-align: right;\">\n",
       "      <th></th>\n",
       "      <th>PROTEIN:GENE</th>\n",
       "      <th>INTERACTOR</th>\n",
       "      <th>MUTUAL_EXCLUSIVITY</th>\n",
       "    </tr>\n",
       "  </thead>\n",
       "  <tbody>\n",
       "    <tr>\n",
       "      <th>0</th>\n",
       "      <td>P62805:H4C1</td>\n",
       "      <td>P68431:H3C1</td>\n",
       "      <td>0.97872</td>\n",
       "    </tr>\n",
       "    <tr>\n",
       "      <th>1</th>\n",
       "      <td>P62805:H4C1</td>\n",
       "      <td>P84243:H3-3A</td>\n",
       "      <td>1.00000</td>\n",
       "    </tr>\n",
       "    <tr>\n",
       "      <th>2</th>\n",
       "      <td>P62805:H4C1</td>\n",
       "      <td>Q71DI3:H3C15</td>\n",
       "      <td>1.00000</td>\n",
       "    </tr>\n",
       "    <tr>\n",
       "      <th>3</th>\n",
       "      <td>P62805:H4C1</td>\n",
       "      <td>Q16695:H3-4</td>\n",
       "      <td>1.00000</td>\n",
       "    </tr>\n",
       "    <tr>\n",
       "      <th>4</th>\n",
       "      <td>P62805:H4C1</td>\n",
       "      <td>P49450:CENPA</td>\n",
       "      <td>1.00000</td>\n",
       "    </tr>\n",
       "    <tr>\n",
       "      <th>5</th>\n",
       "      <td>P62805:H4C1</td>\n",
       "      <td>B4E1C1:nan</td>\n",
       "      <td>1.00000</td>\n",
       "    </tr>\n",
       "    <tr>\n",
       "      <th>6</th>\n",
       "      <td>P62805:H4C1</td>\n",
       "      <td>Q9UER7:DAXX</td>\n",
       "      <td>0.95455</td>\n",
       "    </tr>\n",
       "    <tr>\n",
       "      <th>7</th>\n",
       "      <td>P62805:H4C1</td>\n",
       "      <td>Q53F85:nan</td>\n",
       "      <td>1.00000</td>\n",
       "    </tr>\n",
       "    <tr>\n",
       "      <th>8</th>\n",
       "      <td>P62805:H4C1</td>\n",
       "      <td>Q16514:TAF12</td>\n",
       "      <td>1.00000</td>\n",
       "    </tr>\n",
       "    <tr>\n",
       "      <th>9</th>\n",
       "      <td>P62805:H4C1</td>\n",
       "      <td>P04908:H2AC4</td>\n",
       "      <td>0.96875</td>\n",
       "    </tr>\n",
       "    <tr>\n",
       "      <th>10</th>\n",
       "      <td>P62805:H4C1</td>\n",
       "      <td>P0C0S5:H2AZ1</td>\n",
       "      <td>1.00000</td>\n",
       "    </tr>\n",
       "    <tr>\n",
       "      <th>11</th>\n",
       "      <td>P62805:H4C1</td>\n",
       "      <td>Q16777:H2AC20</td>\n",
       "      <td>1.00000</td>\n",
       "    </tr>\n",
       "    <tr>\n",
       "      <th>12</th>\n",
       "      <td>P62805:H4C1</td>\n",
       "      <td>P06899:H2BC11</td>\n",
       "      <td>1.00000</td>\n",
       "    </tr>\n",
       "    <tr>\n",
       "      <th>13</th>\n",
       "      <td>P62805:H4C1</td>\n",
       "      <td>Q16778:H2BC21</td>\n",
       "      <td>1.00000</td>\n",
       "    </tr>\n",
       "    <tr>\n",
       "      <th>14</th>\n",
       "      <td>P62805:H4C1</td>\n",
       "      <td>P16104:H2AX</td>\n",
       "      <td>1.00000</td>\n",
       "    </tr>\n",
       "    <tr>\n",
       "      <th>15</th>\n",
       "      <td>P62805:H4C1</td>\n",
       "      <td>Q9Y294:ASF1A</td>\n",
       "      <td>1.00000</td>\n",
       "    </tr>\n",
       "  </tbody>\n",
       "</table>\n",
       "</div>"
      ],
      "text/plain": [
       "   PROTEIN:GENE     INTERACTOR  MUTUAL_EXCLUSIVITY\n",
       "0   P62805:H4C1    P68431:H3C1             0.97872\n",
       "1   P62805:H4C1   P84243:H3-3A             1.00000\n",
       "2   P62805:H4C1   Q71DI3:H3C15             1.00000\n",
       "3   P62805:H4C1    Q16695:H3-4             1.00000\n",
       "4   P62805:H4C1   P49450:CENPA             1.00000\n",
       "5   P62805:H4C1     B4E1C1:nan             1.00000\n",
       "6   P62805:H4C1    Q9UER7:DAXX             0.95455\n",
       "7   P62805:H4C1     Q53F85:nan             1.00000\n",
       "8   P62805:H4C1   Q16514:TAF12             1.00000\n",
       "9   P62805:H4C1   P04908:H2AC4             0.96875\n",
       "10  P62805:H4C1   P0C0S5:H2AZ1             1.00000\n",
       "11  P62805:H4C1  Q16777:H2AC20             1.00000\n",
       "12  P62805:H4C1  P06899:H2BC11             1.00000\n",
       "13  P62805:H4C1  Q16778:H2BC21             1.00000\n",
       "14  P62805:H4C1    P16104:H2AX             1.00000\n",
       "15  P62805:H4C1   Q9Y294:ASF1A             1.00000"
      ]
     },
     "execution_count": 46,
     "metadata": {},
     "output_type": "execute_result"
    }
   ],
   "source": [
    "brca_mutex.get_disruptive_mutual_exclusivity_data(\"P62805\")"
   ]
  },
  {
   "cell_type": "code",
   "execution_count": 40,
   "id": "300a6929-eead-4372-89a8-7d99cb456d53",
   "metadata": {},
   "outputs": [
    {
     "name": "stdout",
     "output_type": "stream",
     "text": [
      "2021-11-13 21:13:20 |\u001b[32m INFO     \u001b[0m| helpers.helpers_analysis.mutual_exclusivity | Calculating Mutual Exclusivity over P04637's interactors ..\n",
      "2021-11-13 21:13:20 |\u001b[36m DEBUG    \u001b[0m| helpers.helpers_analysis.mutual_exclusivity | P04637 have 15 interactors:\n",
      "['Q13625:TP53BP2', 'Q96KQ4:PPP1R13B', 'P62993:GRB2', 'Q06187:BTK', 'Q8WUF5:PPP1R13L', 'Q9H3D4:TP63', 'H2EHT1:TP53', 'K7PPA8:TP53', 'Q96KQ7:EHMT2', 'O15350:TP73', 'P07948:LYN', 'Q9H9B1:EHMT1', 'Q99728:BARD1', 'O75832:PSMD10', 'Q9ULT8:HECTD1']\n",
      "2021-11-13 21:13:20 |\u001b[36m DEBUG    \u001b[0m| helpers.helpers_analysis.mutual_exclusivity | Exporting Mutual Exclusivity BRCA P04637 ..\n",
      "2021-11-13 21:13:20 |\u001b[33m WARNING  \u001b[0m| helpers.helpers_analysis.mutual_exclusivity | File dev/mutex\\BRCA_P04637_TP53_2021-11-13.csv is already exist.\n",
      "To overwrite existing file, use `overwrite=True`.\n"
     ]
    }
   ],
   "source": [
    "brca_mutex.export_disruptive_mutual_exclusivity_data(\"dev/mutex\", \"P62805\")"
   ]
  },
  {
   "cell_type": "code",
   "execution_count": null,
   "id": "ce4e675c-ff0d-45d5-b5f9-59b6168733d4",
   "metadata": {},
   "outputs": [],
   "source": []
  },
  {
   "cell_type": "code",
   "execution_count": null,
   "id": "bf1f2e10-893a-43ea-98f5-13c0d6688591",
   "metadata": {},
   "outputs": [],
   "source": []
  },
  {
   "cell_type": "markdown",
   "id": "31524a85-6883-4999-828f-5b15645b13ae",
   "metadata": {},
   "source": [
    "### MAP2K4"
   ]
  },
  {
   "cell_type": "code",
   "execution_count": 47,
   "id": "d61a5cef-6c87-47ea-94aa-f3c45e9d646e",
   "metadata": {},
   "outputs": [
    {
     "data": {
      "text/plain": [
       "['P45985']"
      ]
     },
     "execution_count": 47,
     "metadata": {},
     "output_type": "execute_result"
    }
   ],
   "source": [
    "ProteinIDFetcher().fetch(\"MAP2K4\")"
   ]
  },
  {
   "cell_type": "code",
   "execution_count": 46,
   "id": "137b0e65-955e-4c7e-b609-b37431812032",
   "metadata": {},
   "outputs": [
    {
     "name": "stdout",
     "output_type": "stream",
     "text": [
      "2021-11-13 21:16:26 |\u001b[32m INFO     \u001b[0m| helpers.helpers_analysis.mutual_exclusivity | Calculating Mutual Exclusivity over P62805's interactors ..\n",
      "2021-11-13 21:16:26 |\u001b[36m DEBUG    \u001b[0m| helpers.helpers_analysis.mutual_exclusivity | P62805 have 16 interactors:\n",
      "['P68431:H3C1', 'P84243:H3-3A', 'Q71DI3:H3C15', 'Q16695:H3-4', 'P49450:CENPA', 'B4E1C1:nan', 'Q9UER7:DAXX', 'Q53F85:nan', 'Q16514:TAF12', 'P04908:H2AC4', 'P0C0S5:H2AZ1', 'Q16777:H2AC20', 'P06899:H2BC11', 'Q16778:H2BC21', 'P16104:H2AX', 'Q9Y294:ASF1A']\n"
     ]
    },
    {
     "data": {
      "text/html": [
       "<div>\n",
       "<style scoped>\n",
       "    .dataframe tbody tr th:only-of-type {\n",
       "        vertical-align: middle;\n",
       "    }\n",
       "\n",
       "    .dataframe tbody tr th {\n",
       "        vertical-align: top;\n",
       "    }\n",
       "\n",
       "    .dataframe thead th {\n",
       "        text-align: right;\n",
       "    }\n",
       "</style>\n",
       "<table border=\"1\" class=\"dataframe\">\n",
       "  <thead>\n",
       "    <tr style=\"text-align: right;\">\n",
       "      <th></th>\n",
       "      <th>PROTEIN:GENE</th>\n",
       "      <th>INTERACTOR</th>\n",
       "      <th>MUTUAL_EXCLUSIVITY</th>\n",
       "    </tr>\n",
       "  </thead>\n",
       "  <tbody>\n",
       "    <tr>\n",
       "      <th>0</th>\n",
       "      <td>P62805:H4C1</td>\n",
       "      <td>P68431:H3C1</td>\n",
       "      <td>0.97872</td>\n",
       "    </tr>\n",
       "    <tr>\n",
       "      <th>1</th>\n",
       "      <td>P62805:H4C1</td>\n",
       "      <td>P84243:H3-3A</td>\n",
       "      <td>1.00000</td>\n",
       "    </tr>\n",
       "    <tr>\n",
       "      <th>2</th>\n",
       "      <td>P62805:H4C1</td>\n",
       "      <td>Q71DI3:H3C15</td>\n",
       "      <td>1.00000</td>\n",
       "    </tr>\n",
       "    <tr>\n",
       "      <th>3</th>\n",
       "      <td>P62805:H4C1</td>\n",
       "      <td>Q16695:H3-4</td>\n",
       "      <td>1.00000</td>\n",
       "    </tr>\n",
       "    <tr>\n",
       "      <th>4</th>\n",
       "      <td>P62805:H4C1</td>\n",
       "      <td>P49450:CENPA</td>\n",
       "      <td>1.00000</td>\n",
       "    </tr>\n",
       "    <tr>\n",
       "      <th>5</th>\n",
       "      <td>P62805:H4C1</td>\n",
       "      <td>B4E1C1:nan</td>\n",
       "      <td>1.00000</td>\n",
       "    </tr>\n",
       "    <tr>\n",
       "      <th>6</th>\n",
       "      <td>P62805:H4C1</td>\n",
       "      <td>Q9UER7:DAXX</td>\n",
       "      <td>0.95455</td>\n",
       "    </tr>\n",
       "    <tr>\n",
       "      <th>7</th>\n",
       "      <td>P62805:H4C1</td>\n",
       "      <td>Q53F85:nan</td>\n",
       "      <td>1.00000</td>\n",
       "    </tr>\n",
       "    <tr>\n",
       "      <th>8</th>\n",
       "      <td>P62805:H4C1</td>\n",
       "      <td>Q16514:TAF12</td>\n",
       "      <td>1.00000</td>\n",
       "    </tr>\n",
       "    <tr>\n",
       "      <th>9</th>\n",
       "      <td>P62805:H4C1</td>\n",
       "      <td>P04908:H2AC4</td>\n",
       "      <td>0.96875</td>\n",
       "    </tr>\n",
       "    <tr>\n",
       "      <th>10</th>\n",
       "      <td>P62805:H4C1</td>\n",
       "      <td>P0C0S5:H2AZ1</td>\n",
       "      <td>1.00000</td>\n",
       "    </tr>\n",
       "    <tr>\n",
       "      <th>11</th>\n",
       "      <td>P62805:H4C1</td>\n",
       "      <td>Q16777:H2AC20</td>\n",
       "      <td>1.00000</td>\n",
       "    </tr>\n",
       "    <tr>\n",
       "      <th>12</th>\n",
       "      <td>P62805:H4C1</td>\n",
       "      <td>P06899:H2BC11</td>\n",
       "      <td>1.00000</td>\n",
       "    </tr>\n",
       "    <tr>\n",
       "      <th>13</th>\n",
       "      <td>P62805:H4C1</td>\n",
       "      <td>Q16778:H2BC21</td>\n",
       "      <td>1.00000</td>\n",
       "    </tr>\n",
       "    <tr>\n",
       "      <th>14</th>\n",
       "      <td>P62805:H4C1</td>\n",
       "      <td>P16104:H2AX</td>\n",
       "      <td>1.00000</td>\n",
       "    </tr>\n",
       "    <tr>\n",
       "      <th>15</th>\n",
       "      <td>P62805:H4C1</td>\n",
       "      <td>Q9Y294:ASF1A</td>\n",
       "      <td>1.00000</td>\n",
       "    </tr>\n",
       "  </tbody>\n",
       "</table>\n",
       "</div>"
      ],
      "text/plain": [
       "   PROTEIN:GENE     INTERACTOR  MUTUAL_EXCLUSIVITY\n",
       "0   P62805:H4C1    P68431:H3C1             0.97872\n",
       "1   P62805:H4C1   P84243:H3-3A             1.00000\n",
       "2   P62805:H4C1   Q71DI3:H3C15             1.00000\n",
       "3   P62805:H4C1    Q16695:H3-4             1.00000\n",
       "4   P62805:H4C1   P49450:CENPA             1.00000\n",
       "5   P62805:H4C1     B4E1C1:nan             1.00000\n",
       "6   P62805:H4C1    Q9UER7:DAXX             0.95455\n",
       "7   P62805:H4C1     Q53F85:nan             1.00000\n",
       "8   P62805:H4C1   Q16514:TAF12             1.00000\n",
       "9   P62805:H4C1   P04908:H2AC4             0.96875\n",
       "10  P62805:H4C1   P0C0S5:H2AZ1             1.00000\n",
       "11  P62805:H4C1  Q16777:H2AC20             1.00000\n",
       "12  P62805:H4C1  P06899:H2BC11             1.00000\n",
       "13  P62805:H4C1  Q16778:H2BC21             1.00000\n",
       "14  P62805:H4C1    P16104:H2AX             1.00000\n",
       "15  P62805:H4C1   Q9Y294:ASF1A             1.00000"
      ]
     },
     "execution_count": 46,
     "metadata": {},
     "output_type": "execute_result"
    }
   ],
   "source": [
    "brca_mutex.get_disruptive_mutual_exclusivity_data(\"P45985\")"
   ]
  },
  {
   "cell_type": "code",
   "execution_count": 48,
   "id": "f97bef5d-9d89-4cfb-82de-bf9367641f69",
   "metadata": {},
   "outputs": [
    {
     "name": "stdout",
     "output_type": "stream",
     "text": [
      "2021-11-13 21:16:47 |\u001b[32m INFO     \u001b[0m| helpers.helpers_analysis.mutual_exclusivity | Calculating Mutual Exclusivity over P45985's interactors ..\n",
      "2021-11-13 21:16:47 |\u001b[36m DEBUG    \u001b[0m| helpers.helpers_analysis.mutual_exclusivity | P45985 have 7 interactors:\n",
      "['Q5S007:LRRK2', 'P52564:MAP2K6', 'Q16539:MAPK14', 'P00533:EGFR', 'P35916:FLT4', 'Q99558:MAP3K14', 'P45984:MAPK9']\n",
      "2021-11-13 21:16:47 |\u001b[36m DEBUG    \u001b[0m| helpers.helpers_analysis.mutual_exclusivity | Exporting Mutual Exclusivity BRCA P45985 ..\n",
      "2021-11-13 21:16:47 |\u001b[32m INFO     \u001b[0m| helpers.helpers_analysis.mutual_exclusivity | dev/mutex\\BRCA_P45985_MAP2K4_2021-11-13.csv is exported successfully.\n"
     ]
    }
   ],
   "source": [
    "brca_mutex.export_disruptive_mutual_exclusivity_data(\"dev/mutex\", \"P45985\")"
   ]
  },
  {
   "cell_type": "code",
   "execution_count": null,
   "id": "43febe92-408f-4ac2-afd5-0064a3b9d7cb",
   "metadata": {},
   "outputs": [],
   "source": []
  },
  {
   "cell_type": "code",
   "execution_count": null,
   "id": "5ef8b072-25b9-4b60-aecf-62482e2b8efd",
   "metadata": {},
   "outputs": [],
   "source": []
  },
  {
   "cell_type": "code",
   "execution_count": null,
   "id": "693affd8-d2bc-48a4-9ee0-07e1a4a5938c",
   "metadata": {},
   "outputs": [],
   "source": []
  },
  {
   "cell_type": "code",
   "execution_count": null,
   "id": "84ecbefe-7a74-485a-b533-2b48a9a21482",
   "metadata": {},
   "outputs": [],
   "source": []
  },
  {
   "cell_type": "code",
   "execution_count": null,
   "id": "7e7d097b-528e-4f7d-80f6-177beae45231",
   "metadata": {},
   "outputs": [],
   "source": []
  },
  {
   "cell_type": "code",
   "execution_count": null,
   "id": "1f2cd1cf-9fb2-45fc-9ddc-eb85266d28fe",
   "metadata": {},
   "outputs": [],
   "source": []
  },
  {
   "cell_type": "markdown",
   "id": "99093162-066f-4ab7-b0c3-8728dddfafb3",
   "metadata": {
    "tags": []
   },
   "source": [
    "## OV"
   ]
  },
  {
   "cell_type": "code",
   "execution_count": null,
   "id": "a79b7c21-e11d-4a18-8270-3a44a1b86027",
   "metadata": {},
   "outputs": [],
   "source": []
  },
  {
   "cell_type": "code",
   "execution_count": null,
   "id": "a79e67bf-8e5b-4bf9-85f8-a4c86c3363d6",
   "metadata": {},
   "outputs": [],
   "source": []
  },
  {
   "cell_type": "code",
   "execution_count": null,
   "id": "95baf9ad-fae2-453e-af6d-6a2db9b848fe",
   "metadata": {},
   "outputs": [],
   "source": []
  },
  {
   "cell_type": "code",
   "execution_count": null,
   "id": "0143169e-9d19-4fc2-84f4-f28478dec5df",
   "metadata": {},
   "outputs": [],
   "source": []
  },
  {
   "cell_type": "code",
   "execution_count": null,
   "id": "86b0a102-bfee-447a-aa2b-eb9f030aed25",
   "metadata": {},
   "outputs": [],
   "source": []
  },
  {
   "cell_type": "code",
   "execution_count": null,
   "id": "aac7bed7-4aac-474f-a17b-2bf14a1b8160",
   "metadata": {},
   "outputs": [],
   "source": []
  },
  {
   "cell_type": "code",
   "execution_count": null,
   "id": "8fe3a696-0c7c-4130-b9ec-b5aabf93bc1c",
   "metadata": {},
   "outputs": [],
   "source": []
  },
  {
   "cell_type": "code",
   "execution_count": null,
   "id": "f801a711-0d67-41f3-a428-a1e9478dcd59",
   "metadata": {},
   "outputs": [],
   "source": []
  },
  {
   "cell_type": "code",
   "execution_count": null,
   "id": "0ca8fe47-c44b-4a79-9eb8-1b34b1db36c6",
   "metadata": {},
   "outputs": [],
   "source": []
  },
  {
   "cell_type": "code",
   "execution_count": null,
   "id": "99c16d3c-199f-4fc9-92eb-2de8605ee3f5",
   "metadata": {},
   "outputs": [],
   "source": []
  },
  {
   "cell_type": "markdown",
   "id": "0fa8f3ba-a8a8-4cf6-9e48-63e4a32ff2ae",
   "metadata": {},
   "source": [
    "---"
   ]
  },
  {
   "cell_type": "code",
   "execution_count": null,
   "id": "ae899461-6582-4f85-ac4e-456ebb163a07",
   "metadata": {},
   "outputs": [],
   "source": []
  },
  {
   "cell_type": "code",
   "execution_count": null,
   "id": "fbb174d4-abac-42d1-8e02-47e28ed28d8d",
   "metadata": {},
   "outputs": [],
   "source": []
  },
  {
   "cell_type": "code",
   "execution_count": null,
   "id": "047163a2-83b9-4397-bbe6-6bd43bd239ac",
   "metadata": {},
   "outputs": [],
   "source": []
  },
  {
   "cell_type": "code",
   "execution_count": null,
   "id": "4ba5c65c-ba44-4c85-b0bd-20930adac0b1",
   "metadata": {},
   "outputs": [],
   "source": []
  },
  {
   "cell_type": "code",
   "execution_count": null,
   "id": "44549d6a-1fea-46b6-bc4e-18c131f49f05",
   "metadata": {},
   "outputs": [],
   "source": []
  },
  {
   "cell_type": "code",
   "execution_count": null,
   "id": "cd4f0948-b68f-470d-9d7f-16a022d9945e",
   "metadata": {},
   "outputs": [],
   "source": []
  },
  {
   "cell_type": "code",
   "execution_count": null,
   "id": "3138587e-03cd-4a7b-a19c-35ba5aaf0ce7",
   "metadata": {},
   "outputs": [],
   "source": []
  },
  {
   "cell_type": "code",
   "execution_count": null,
   "id": "d85e4d0d-ef48-42b2-a8fb-1ebb61dc08af",
   "metadata": {},
   "outputs": [],
   "source": []
  },
  {
   "cell_type": "code",
   "execution_count": null,
   "id": "a4bd2aae-699b-42d2-8f92-a672e12434cb",
   "metadata": {},
   "outputs": [],
   "source": []
  },
  {
   "cell_type": "code",
   "execution_count": null,
   "id": "d0a7b1df-25c1-46f9-81ac-0041975b563f",
   "metadata": {},
   "outputs": [],
   "source": []
  },
  {
   "cell_type": "code",
   "execution_count": null,
   "id": "f8bcb903-8c3f-4839-a6b3-4830af3a6d57",
   "metadata": {},
   "outputs": [],
   "source": []
  },
  {
   "cell_type": "code",
   "execution_count": null,
   "id": "5e1dce97-912c-490e-be7c-2243c4423f43",
   "metadata": {},
   "outputs": [],
   "source": []
  },
  {
   "cell_type": "code",
   "execution_count": null,
   "id": "be1990c5-2a99-4860-a441-4277fa57ec04",
   "metadata": {},
   "outputs": [],
   "source": []
  },
  {
   "cell_type": "code",
   "execution_count": null,
   "id": "0d9ddb1d-032f-4251-b047-f6caebf8b84f",
   "metadata": {},
   "outputs": [],
   "source": []
  },
  {
   "cell_type": "code",
   "execution_count": null,
   "id": "6f7b6685-a07a-4adf-94ec-2f2f79683084",
   "metadata": {},
   "outputs": [],
   "source": []
  },
  {
   "cell_type": "code",
   "execution_count": null,
   "id": "89eef876-0807-4d0a-920b-f7e89ecec23f",
   "metadata": {},
   "outputs": [],
   "source": []
  },
  {
   "cell_type": "code",
   "execution_count": null,
   "id": "083aef21-1653-416c-bdef-1548fe27cfae",
   "metadata": {},
   "outputs": [],
   "source": []
  },
  {
   "cell_type": "code",
   "execution_count": 21,
   "id": "5a2f91d5-52f9-4841-9362-3c026557fe67",
   "metadata": {},
   "outputs": [],
   "source": [
    "tp53_disruptive_interactions_series = brca_mutex.patient_interaction_data[\n",
    "    brca_mutex.patient_interaction_data[\"PROTEIN_GENE\"].apply(lambda x: x.split(\":\")[1] == \"TP53\")\n",
    "][\"DISRUPTIVE_INTERACTORS\"]"
   ]
  },
  {
   "cell_type": "code",
   "execution_count": 25,
   "id": "b712f736-ff14-4244-81e0-6a01fa7b8372",
   "metadata": {},
   "outputs": [],
   "source": [
    "tp53_disruptive_interactions_series = tp53_disruptive_interactions_series.dropna()\n",
    "tp53_disruptive_interactions_series = tp53_disruptive_interactions_series.apply(lambda x: x.split(\",\")).explode()\n",
    "tp53_disruptive_interactions_series = tp53_disruptive_interactions_series.apply(lambda x: \":\".join(x.split(\":\")[:-1]))"
   ]
  },
  {
   "cell_type": "code",
   "execution_count": 35,
   "id": "875f6fc3-2b92-4239-80f4-73a37aeeb8d5",
   "metadata": {},
   "outputs": [
    {
     "data": {
      "text/plain": [
       "[('Q13625:TP53BP2', 42),\n",
       " ('Q96KQ4:PPP1R13B', 42),\n",
       " ('P62993:GRB2', 33),\n",
       " ('Q06187:BTK', 31),\n",
       " ('Q8WUF5:PPP1R13L', 30),\n",
       " ('Q9H3D4:TP63', 18),\n",
       " ('H2EHT1:TP53', 16),\n",
       " ('K7PPA8:TP53', 16),\n",
       " ('Q96KQ7:EHMT2', 14),\n",
       " ('O15350:TP73', 13),\n",
       " ('P07948:LYN', 12),\n",
       " ('Q9H9B1:EHMT1', 9),\n",
       " ('Q99728:BARD1', 8),\n",
       " ('O75832:PSMD10', 8),\n",
       " ('Q9ULT8:HECTD1', 8)]"
      ]
     },
     "execution_count": 35,
     "metadata": {},
     "output_type": "execute_result"
    }
   ],
   "source": [
    "Counter(tp53_disruptive_interactions_series).most_common()"
   ]
  },
  {
   "cell_type": "code",
   "execution_count": null,
   "id": "320c524c-d139-457b-a444-4fb8a6d5d3f5",
   "metadata": {},
   "outputs": [],
   "source": []
  },
  {
   "cell_type": "code",
   "execution_count": null,
   "id": "ce1182db-bb5c-4b3e-bde2-5c69587bfe5d",
   "metadata": {},
   "outputs": [],
   "source": []
  },
  {
   "cell_type": "code",
   "execution_count": null,
   "id": "a61bcf3d-2c3b-4fe1-a8e1-f0f2b1306988",
   "metadata": {},
   "outputs": [],
   "source": []
  },
  {
   "cell_type": "code",
   "execution_count": 29,
   "id": "185adbe5-8bc3-4993-9977-26cc166eb793",
   "metadata": {},
   "outputs": [
    {
     "data": {
      "text/plain": [
       "'O15350:TP73'"
      ]
     },
     "execution_count": 29,
     "metadata": {},
     "output_type": "execute_result"
    }
   ],
   "source": [
    "\":\".join(\"O15350:TP73:0.77\".split(\":\")[:-1])"
   ]
  },
  {
   "cell_type": "code",
   "execution_count": null,
   "id": "6aa389c4-75a2-4edc-8343-27d9abf7099e",
   "metadata": {},
   "outputs": [],
   "source": []
  },
  {
   "cell_type": "code",
   "execution_count": null,
   "id": "4a4e8e2c-cb39-4baa-96aa-0ac5c35423a7",
   "metadata": {},
   "outputs": [],
   "source": []
  },
  {
   "cell_type": "code",
   "execution_count": 13,
   "id": "3c7caa8b-2d26-4b6d-844b-e89a4b6ba282",
   "metadata": {},
   "outputs": [
    {
     "data": {
      "text/plain": [
       "Counter({'Q5S007:LRRK2': 5, 'P00533:EGFR': 1, 'Q16539:MAPK14': 1})"
      ]
     },
     "execution_count": 13,
     "metadata": {},
     "output_type": "execute_result"
    }
   ],
   "source": [
    "brca_mutex.get_disrupted_interactors(\"MAP2K4\", identifier_type=\"gene\", return_counter=True)"
   ]
  },
  {
   "cell_type": "code",
   "execution_count": 14,
   "id": "f839af4c-1117-4bea-9e76-9722e5514f5d",
   "metadata": {},
   "outputs": [
    {
     "data": {
      "text/plain": [
       "Counter({'Q5S007:LRRK2': 7,\n",
       "         'P52564:MAP2K6': 7,\n",
       "         'P00533:EGFR': 1,\n",
       "         'P35916:FLT4': 1,\n",
       "         'Q99558:MAP3K14': 1,\n",
       "         'P45984:MAPK9': 1,\n",
       "         'Q16539:MAPK14': 2})"
      ]
     },
     "execution_count": 14,
     "metadata": {},
     "output_type": "execute_result"
    }
   ],
   "source": [
    "brca_mutex.get_disrupted_interactors(\"MAP2K4\", identifier_type=\"gene\", return_counter=True)"
   ]
  },
  {
   "cell_type": "code",
   "execution_count": 16,
   "id": "c8e6f009-8266-4f90-b008-908612f8f539",
   "metadata": {},
   "outputs": [
    {
     "data": {
      "text/plain": [
       "Counter({'Q5S007:LRRK2': 7,\n",
       "         'P52564:MAP2K6': 7,\n",
       "         'P00533:EGFR': 1,\n",
       "         'P35916:FLT4': 1,\n",
       "         'Q99558:MAP3K14': 1,\n",
       "         'P45984:MAPK9': 1,\n",
       "         'Q16539:MAPK14': 2})"
      ]
     },
     "execution_count": 16,
     "metadata": {},
     "output_type": "execute_result"
    }
   ],
   "source": [
    "brca_mutex.get_disrupted_interactors(\"MAP2K4\", identifier_type=\"gene\", return_counter=True)"
   ]
  },
  {
   "cell_type": "code",
   "execution_count": null,
   "id": "9dc5ccd4-226e-477e-8816-d7e41b2b777a",
   "metadata": {},
   "outputs": [],
   "source": []
  },
  {
   "cell_type": "code",
   "execution_count": null,
   "id": "59a8922f-5dfb-479c-8fca-046e08f266da",
   "metadata": {},
   "outputs": [],
   "source": []
  },
  {
   "cell_type": "code",
   "execution_count": 34,
   "id": "ace9c748-72d0-4163-b4d9-ecf8000d1f4c",
   "metadata": {
    "collapsed": true,
    "jupyter": {
     "outputs_hidden": true
    },
    "tags": []
   },
   "outputs": [
    {
     "data": {
      "text/plain": [
       "['Q13625:TP53BP2:0.89',\n",
       " 'Q06187:BTK:0.79',\n",
       " 'P62993:GRB2:0.71',\n",
       " 'Q96KQ4:PPP1R13B:0.87',\n",
       " 'Q8WUF5:PPP1R13L:0.59',\n",
       " 'Q96KQ4:PPP1R13B:0.78',\n",
       " 'Q96KQ4:PPP1R13B:0.81',\n",
       " 'Q96KQ7:EHMT2:0.66',\n",
       " 'Q9ULT8:HECTD1:0.73',\n",
       " 'Q13625:TP53BP2:0.94',\n",
       " 'P62993:GRB2:0.73',\n",
       " 'O15350:TP73:0.77',\n",
       " 'Q13625:TP53BP2:0.83',\n",
       " 'Q9H9B1:EHMT1:0.69',\n",
       " 'Q9H3D4:TP63:0.76',\n",
       " 'O15350:TP73:0.83',\n",
       " 'Q99728:BARD1:0.76',\n",
       " 'O75832:PSMD10:0.76',\n",
       " 'Q96KQ7:EHMT2:0.68',\n",
       " 'H2EHT1:TP53:0.83',\n",
       " 'K7PPA8:TP53:0.79',\n",
       " 'Q9H3D4:TP63:0.77',\n",
       " 'P07948:LYN:0.77',\n",
       " 'Q8WUF5:PPP1R13L:0.85',\n",
       " 'P62993:GRB2:0.75',\n",
       " 'Q8WUF5:PPP1R13L:0.73',\n",
       " 'Q06187:BTK:0.8',\n",
       " 'H2EHT1:TP53:0.8',\n",
       " 'K7PPA8:TP53:0.8',\n",
       " 'Q8WUF5:PPP1R13L:0.86',\n",
       " 'Q96KQ4:PPP1R13B:0.85',\n",
       " 'Q06187:BTK:0.73',\n",
       " 'Q13625:TP53BP2:0.65',\n",
       " 'Q96KQ4:PPP1R13B:0.61',\n",
       " 'P07948:LYN:0.51',\n",
       " 'P62993:GRB2:0.79',\n",
       " 'Q06187:BTK:0.81',\n",
       " 'Q13625:TP53BP2:0.88',\n",
       " 'Q06187:BTK:0.77',\n",
       " 'K7PPA8:TP53:0.83',\n",
       " 'P07948:LYN:0.85',\n",
       " 'P62993:GRB2:0.64',\n",
       " 'P62993:GRB2:0.78',\n",
       " 'Q96KQ4:PPP1R13B:0.79',\n",
       " 'Q13625:TP53BP2:0.66',\n",
       " 'Q9H9B1:EHMT1:0.63',\n",
       " 'Q9H3D4:TP63:0.69',\n",
       " 'Q96KQ4:PPP1R13B:0.62',\n",
       " 'Q99728:BARD1:0.61',\n",
       " 'O75832:PSMD10:0.6',\n",
       " 'Q9ULT8:HECTD1:0.67',\n",
       " 'Q96KQ7:EHMT2:0.6',\n",
       " 'H2EHT1:TP53:0.62',\n",
       " 'K7PPA8:TP53:0.62',\n",
       " 'Q13625:TP53BP2:0.52',\n",
       " 'P62993:GRB2:0.55',\n",
       " 'Q13625:TP53BP2:0.86',\n",
       " 'Q9H3D4:TP63:0.8',\n",
       " 'Q96KQ4:PPP1R13B:0.89',\n",
       " 'Q8WUF5:PPP1R13L:0.77',\n",
       " 'P07948:LYN:0.84',\n",
       " 'H2EHT1:TP53:0.74',\n",
       " 'Q8WUF5:PPP1R13L:0.84',\n",
       " 'Q06187:BTK:0.75',\n",
       " 'Q9H3D4:TP63:0.73',\n",
       " 'Q13625:TP53BP2:0.95',\n",
       " 'P62993:GRB2:0.82',\n",
       " 'Q96KQ4:PPP1R13B:0.91',\n",
       " 'Q8WUF5:PPP1R13L:0.87',\n",
       " 'Q06187:BTK:0.88',\n",
       " 'Q9H3D4:TP63:0.85',\n",
       " 'Q13625:TP53BP2:0.74',\n",
       " 'Q9H9B1:EHMT1:0.68',\n",
       " 'O15350:TP73:0.81',\n",
       " 'Q96KQ4:PPP1R13B:0.75',\n",
       " 'Q99728:BARD1:0.62',\n",
       " 'O75832:PSMD10:0.74',\n",
       " 'H2EHT1:TP53:0.65',\n",
       " 'K7PPA8:TP53:0.64',\n",
       " 'Q13625:TP53BP2:0.9',\n",
       " 'P62993:GRB2:0.76',\n",
       " 'Q96KQ4:PPP1R13B:0.82',\n",
       " 'Q8WUF5:PPP1R13L:0.78',\n",
       " 'Q13625:TP53BP2:0.87',\n",
       " 'Q06187:BTK:0.76',\n",
       " 'Q9H9B1:EHMT1:0.52',\n",
       " 'P62993:GRB2:0.84',\n",
       " 'Q9H3D4:TP63:0.84',\n",
       " 'Q96KQ4:PPP1R13B:0.9',\n",
       " 'Q06187:BTK:0.84',\n",
       " 'H2EHT1:TP53:0.85',\n",
       " 'Q9H3D4:TP63:0.56',\n",
       " 'H2EHT1:TP53:0.53',\n",
       " 'K7PPA8:TP53:0.53']"
      ]
     },
     "execution_count": 34,
     "metadata": {},
     "output_type": "execute_result"
    }
   ],
   "source": [
    "brca_mutex.get_disrupted_interactors(\"P04637\", identifier_type=\"protein\")"
   ]
  },
  {
   "cell_type": "code",
   "execution_count": 35,
   "id": "1b63ac59-be2c-4cbf-8d8d-1d7118ac42c3",
   "metadata": {
    "collapsed": true,
    "jupyter": {
     "outputs_hidden": true
    },
    "tags": []
   },
   "outputs": [
    {
     "data": {
      "text/plain": [
       "Counter({'O15350:TP73:0.77': 6,\n",
       "         'Q96KQ7:EHMT2:0.66': 7,\n",
       "         'Q13625:TP53BP2:0.83': 6,\n",
       "         'Q9H9B1:EHMT1:0.69': 6,\n",
       "         'Q9H3D4:TP63:0.76': 6,\n",
       "         'O15350:TP73:0.83': 6,\n",
       "         'Q96KQ4:PPP1R13B:0.78': 8,\n",
       "         'Q99728:BARD1:0.76': 6,\n",
       "         'O75832:PSMD10:0.76': 6,\n",
       "         'Q9ULT8:HECTD1:0.73': 7,\n",
       "         'Q96KQ7:EHMT2:0.68': 6,\n",
       "         'H2EHT1:TP53:0.83': 6,\n",
       "         'K7PPA8:TP53:0.79': 6,\n",
       "         'P62993:GRB2:0.64': 1,\n",
       "         'Q13625:TP53BP2:0.65': 3,\n",
       "         'Q96KQ4:PPP1R13B:0.61': 3,\n",
       "         'P07948:LYN:0.51': 3,\n",
       "         'Q13625:TP53BP2:0.88': 2,\n",
       "         'P62993:GRB2:0.78': 1,\n",
       "         'Q96KQ4:PPP1R13B:0.79': 1,\n",
       "         'Q8WUF5:PPP1R13L:0.86': 4,\n",
       "         'Q06187:BTK:0.79': 13,\n",
       "         'Q13625:TP53BP2:0.89': 17,\n",
       "         'P62993:GRB2:0.71': 12,\n",
       "         'Q96KQ4:PPP1R13B:0.87': 12,\n",
       "         'Q8WUF5:PPP1R13L:0.59': 12,\n",
       "         'Q13625:TP53BP2:0.94': 7,\n",
       "         'P62993:GRB2:0.79': 3,\n",
       "         'Q96KQ4:PPP1R13B:0.81': 8,\n",
       "         'Q06187:BTK:0.81': 3,\n",
       "         'P62993:GRB2:0.73': 7,\n",
       "         'Q96KQ4:PPP1R13B:0.85': 4,\n",
       "         'Q8WUF5:PPP1R13L:0.85': 5,\n",
       "         'Q06187:BTK:0.73': 4,\n",
       "         'P62993:GRB2:0.75': 5,\n",
       "         'Q9H3D4:TP63:0.77': 6,\n",
       "         'Q8WUF5:PPP1R13L:0.73': 5,\n",
       "         'P07948:LYN:0.77': 6,\n",
       "         'Q06187:BTK:0.8': 5,\n",
       "         'H2EHT1:TP53:0.8': 5,\n",
       "         'K7PPA8:TP53:0.8': 5,\n",
       "         'Q13625:TP53BP2:0.66': 1,\n",
       "         'Q9H9B1:EHMT1:0.63': 1,\n",
       "         'Q9H3D4:TP63:0.69': 1,\n",
       "         'Q96KQ4:PPP1R13B:0.62': 1,\n",
       "         'Q99728:BARD1:0.61': 1,\n",
       "         'O75832:PSMD10:0.6': 1,\n",
       "         'Q9ULT8:HECTD1:0.67': 1,\n",
       "         'Q96KQ7:EHMT2:0.6': 1,\n",
       "         'H2EHT1:TP53:0.62': 1,\n",
       "         'K7PPA8:TP53:0.62': 1,\n",
       "         'Q13625:TP53BP2:0.52': 1,\n",
       "         'P62993:GRB2:0.55': 1,\n",
       "         'Q13625:TP53BP2:0.86': 1,\n",
       "         'Q9H3D4:TP63:0.8': 1,\n",
       "         'Q96KQ4:PPP1R13B:0.89': 1,\n",
       "         'Q8WUF5:PPP1R13L:0.77': 1,\n",
       "         'P07948:LYN:0.84': 1,\n",
       "         'Q06187:BTK:0.77': 2,\n",
       "         'H2EHT1:TP53:0.74': 1,\n",
       "         'K7PPA8:TP53:0.83': 2,\n",
       "         'Q8WUF5:PPP1R13L:0.84': 1,\n",
       "         'Q06187:BTK:0.75': 1,\n",
       "         'Q9H3D4:TP63:0.73': 1,\n",
       "         'Q13625:TP53BP2:0.95': 1,\n",
       "         'P62993:GRB2:0.82': 1,\n",
       "         'Q96KQ4:PPP1R13B:0.91': 1,\n",
       "         'Q8WUF5:PPP1R13L:0.87': 1,\n",
       "         'P07948:LYN:0.85': 2,\n",
       "         'Q06187:BTK:0.88': 1,\n",
       "         'Q9H3D4:TP63:0.85': 1,\n",
       "         'Q13625:TP53BP2:0.74': 1,\n",
       "         'Q9H9B1:EHMT1:0.68': 1,\n",
       "         'O15350:TP73:0.81': 1,\n",
       "         'Q96KQ4:PPP1R13B:0.75': 1,\n",
       "         'Q99728:BARD1:0.62': 1,\n",
       "         'O75832:PSMD10:0.74': 1,\n",
       "         'H2EHT1:TP53:0.65': 1,\n",
       "         'K7PPA8:TP53:0.64': 1,\n",
       "         'Q13625:TP53BP2:0.9': 1,\n",
       "         'P62993:GRB2:0.76': 1,\n",
       "         'Q96KQ4:PPP1R13B:0.82': 1,\n",
       "         'Q8WUF5:PPP1R13L:0.78': 1,\n",
       "         'Q13625:TP53BP2:0.87': 1,\n",
       "         'Q06187:BTK:0.76': 1,\n",
       "         'Q9H9B1:EHMT1:0.52': 1,\n",
       "         'P62993:GRB2:0.84': 1,\n",
       "         'Q9H3D4:TP63:0.84': 1,\n",
       "         'Q96KQ4:PPP1R13B:0.9': 1,\n",
       "         'Q06187:BTK:0.84': 1,\n",
       "         'H2EHT1:TP53:0.85': 1,\n",
       "         'Q9H3D4:TP63:0.56': 1,\n",
       "         'H2EHT1:TP53:0.53': 1,\n",
       "         'K7PPA8:TP53:0.53': 1})"
      ]
     },
     "execution_count": 35,
     "metadata": {},
     "output_type": "execute_result"
    }
   ],
   "source": [
    "brca_mutex.get_disrupted_interactors(\"P04637\", identifier_type=\"protein\", return_counter=True)"
   ]
  },
  {
   "cell_type": "code",
   "execution_count": null,
   "id": "030cd9e9-73d5-4d4c-b415-8e0b89146a1d",
   "metadata": {},
   "outputs": [],
   "source": []
  },
  {
   "cell_type": "code",
   "execution_count": null,
   "id": "71c39286-61f4-494e-a7f8-67efa0f4f9d0",
   "metadata": {},
   "outputs": [],
   "source": []
  },
  {
   "cell_type": "code",
   "execution_count": null,
   "id": "3b48d768-1780-4e39-8e6c-fab826ffda03",
   "metadata": {},
   "outputs": [],
   "source": []
  },
  {
   "cell_type": "code",
   "execution_count": 21,
   "id": "4051bdd3-1149-4249-8396-571e84a0f875",
   "metadata": {},
   "outputs": [
    {
     "data": {
      "text/plain": [
       "0       Q9BY11:PACSIN1:0.5,Q9UNF0:PACSIN2:0.59,Q6FIA3:...\n",
       "1                                      Q96DB2:HDAC11:0.55\n",
       "2                                                     NaN\n",
       "3                    Q14654:KCNJ11:0.52,P63252:KCNJ2:0.53\n",
       "4                                                     NaN\n",
       "                              ...                        \n",
       "1707    P61088:UBE2N:0.5,P51668:UBE2D1:0.51,P62837:UBE...\n",
       "1708                                                  NaN\n",
       "1709                                                  NaN\n",
       "1710                                                  NaN\n",
       "1711                                                  NaN\n",
       "Name: DISRUPTIVE_INTERACTORS, Length: 1712, dtype: object"
      ]
     },
     "execution_count": 21,
     "metadata": {},
     "output_type": "execute_result"
    }
   ],
   "source": [
    "brca_mutex.patient_interaction_data[\"DISRUPTIVE_INTERACTORS\"]"
   ]
  },
  {
   "cell_type": "code",
   "execution_count": null,
   "id": "976bf3f5-9788-4f08-b9e7-f25234710ea1",
   "metadata": {},
   "outputs": [],
   "source": []
  },
  {
   "cell_type": "code",
   "execution_count": null,
   "id": "9f6420b7-bed3-49d6-9677-1d02387ef265",
   "metadata": {},
   "outputs": [],
   "source": []
  },
  {
   "cell_type": "code",
   "execution_count": null,
   "id": "f635bae0-cb2b-43d1-8b7a-2c084229ccbf",
   "metadata": {},
   "outputs": [],
   "source": []
  },
  {
   "cell_type": "code",
   "execution_count": 22,
   "id": "cabe5e04-0828-45bd-8ade-5e7ebc90ec63",
   "metadata": {},
   "outputs": [],
   "source": [
    "P04626_ERBB2_interactors_series = brca_patient_data[\n",
    "    brca_patient_data[\"PROTEIN_GENE\"] == \"P04626:ERBB2\"\n",
    "][\"INTERACTORS\"]"
   ]
  },
  {
   "cell_type": "code",
   "execution_count": 28,
   "id": "e2697876-2463-4a4c-80ad-7e2f8c43e961",
   "metadata": {},
   "outputs": [],
   "source": [
    "P04626_ERBB2_interactors = list(P04626_ERBB2_interactors_series.apply(lambda x: x.split(',')).explode())"
   ]
  },
  {
   "cell_type": "code",
   "execution_count": 39,
   "id": "fac00d5a-6bca-4cc6-9a46-0b22046e7175",
   "metadata": {},
   "outputs": [
    {
     "data": {
      "text/plain": [
       "[('Q96SB4:SRPK1', 8),\n",
       " ('Q13153:PAK1', 3),\n",
       " ('P21860:ERBB3', 2),\n",
       " ('P00533:EGFR', 2),\n",
       " ('P51813:BMX', 2),\n",
       " ('Q14289:PTK2B', 2),\n",
       " ('P16591:FER', 2),\n",
       " ('P06241:FYN', 2),\n",
       " ('P08069:IGF1R', 2),\n",
       " ('P42680:TEC', 2),\n",
       " ('P36897:TGFBR1', 2),\n",
       " ('O60674:JAK2', 1),\n",
       " ('P15153:RAC2', 1),\n",
       " ('Q9UJM3:ERRFI1', 1),\n",
       " ('Q92625:ANKS1A', 1),\n",
       " ('P23458:JAK1', 1)]"
      ]
     },
     "execution_count": 39,
     "metadata": {},
     "output_type": "execute_result"
    }
   ],
   "source": [
    "P04626_ERBB2_interactors_counter = Counter(P04626_ERBB2_interactors)\n",
    "P04626_ERBB2_interactors_counter.most_common()"
   ]
  },
  {
   "cell_type": "code",
   "execution_count": 45,
   "id": "600db6d6-6063-4798-88c7-2cb07001f566",
   "metadata": {},
   "outputs": [
    {
     "data": {
      "text/plain": [
       "['Q96SB4', 'Q13153', 'P21860', 'P00533', 'P51813']"
      ]
     },
     "execution_count": 45,
     "metadata": {},
     "output_type": "execute_result"
    }
   ],
   "source": [
    "P04626_ERBB2_interactors_unique = [e.split(':')[0] for e, _ in P04626_ERBB2_interactors_counter.most_common()]\n",
    "P04626_ERBB2_interactors_unique[:5]"
   ]
  },
  {
   "cell_type": "code",
   "execution_count": 46,
   "id": "97a5d8bc-77f3-43a4-bdf9-0be5fe8165d9",
   "metadata": {},
   "outputs": [
    {
     "name": "stdout",
     "output_type": "stream",
     "text": [
      "1.0\n",
      "0.967741935483871\n",
      "0.9565217391304348\n",
      "1.0\n",
      "0.9696969696969697\n",
      "1.0\n",
      "0.9696969696969697\n",
      "1.0\n",
      "0.9722222222222222\n",
      "1.0\n",
      "1.0\n",
      "1.0\n",
      "1.0\n",
      "1.0\n",
      "1.0\n",
      "0.9705882352941176\n"
     ]
    }
   ],
   "source": [
    "for interactor in P04626_ERBB2_interactors_unique:\n",
    "    print(brca_mutex.calculate_mutual_exclusivity(\"P04626\", interactor))"
   ]
  },
  {
   "cell_type": "code",
   "execution_count": null,
   "id": "10ec3be3-aefc-48bf-96bb-31ee773939a9",
   "metadata": {},
   "outputs": [],
   "source": []
  },
  {
   "cell_type": "code",
   "execution_count": null,
   "id": "d52bdd54-9a1e-4f03-909d-61a8be35c1eb",
   "metadata": {},
   "outputs": [],
   "source": []
  },
  {
   "cell_type": "code",
   "execution_count": null,
   "id": "2e3c7b28-17a9-43e6-acdb-95f1f499209b",
   "metadata": {},
   "outputs": [],
   "source": []
  },
  {
   "cell_type": "code",
   "execution_count": null,
   "id": "f323adc5-cd56-42a2-bc15-99eac1d0d9b9",
   "metadata": {},
   "outputs": [],
   "source": [
    "P04626_ERBB2_interactors_unique = set(P04626_ERBB2_interactors)"
   ]
  },
  {
   "cell_type": "code",
   "execution_count": 38,
   "id": "73facfac-1abf-4e15-9eb5-2aec1a92ccd2",
   "metadata": {},
   "outputs": [
    {
     "data": {
      "text/plain": [
       "['O60674:JAK2',\n",
       " 'P00533:EGFR',\n",
       " 'P06241:FYN',\n",
       " 'P08069:IGF1R',\n",
       " 'P15153:RAC2',\n",
       " 'P16591:FER',\n",
       " 'P21860:ERBB3',\n",
       " 'P23458:JAK1',\n",
       " 'P36897:TGFBR1',\n",
       " 'P42680:TEC',\n",
       " 'P51813:BMX',\n",
       " 'Q13153:PAK1',\n",
       " 'Q14289:PTK2B',\n",
       " 'Q92625:ANKS1A',\n",
       " 'Q96SB4:SRPK1',\n",
       " 'Q9UJM3:ERRFI1']"
      ]
     },
     "execution_count": 38,
     "metadata": {},
     "output_type": "execute_result"
    }
   ],
   "source": [
    "sorted(P04626_ERBB2_interactors_counter.keys())"
   ]
  },
  {
   "cell_type": "code",
   "execution_count": 29,
   "id": "3a86b6c1-b997-4a03-9e96-a829bb9b5f96",
   "metadata": {},
   "outputs": [
    {
     "data": {
      "text/plain": [
       "['P21860:ERBB3',\n",
       " 'O60674:JAK2',\n",
       " 'P15153:RAC2',\n",
       " 'Q96SB4:SRPK1',\n",
       " 'Q9UJM3:ERRFI1',\n",
       " 'Q92625:ANKS1A',\n",
       " 'P23458:JAK1',\n",
       " 'Q96SB4:SRPK1',\n",
       " 'Q96SB4:SRPK1',\n",
       " 'Q13153:PAK1',\n",
       " 'P21860:ERBB3',\n",
       " 'Q96SB4:SRPK1',\n",
       " 'Q96SB4:SRPK1',\n",
       " 'Q96SB4:SRPK1',\n",
       " 'Q96SB4:SRPK1',\n",
       " 'P00533:EGFR',\n",
       " 'Q96SB4:SRPK1',\n",
       " 'P51813:BMX',\n",
       " 'Q14289:PTK2B',\n",
       " 'P16591:FER',\n",
       " 'P06241:FYN',\n",
       " 'P08069:IGF1R',\n",
       " 'Q13153:PAK1',\n",
       " 'P42680:TEC',\n",
       " 'P36897:TGFBR1',\n",
       " 'P00533:EGFR',\n",
       " 'P51813:BMX',\n",
       " 'Q14289:PTK2B',\n",
       " 'P16591:FER',\n",
       " 'P06241:FYN',\n",
       " 'P08069:IGF1R',\n",
       " 'Q13153:PAK1',\n",
       " 'P42680:TEC',\n",
       " 'P36897:TGFBR1']"
      ]
     },
     "execution_count": 29,
     "metadata": {},
     "output_type": "execute_result"
    }
   ],
   "source": [
    "P04626_ERBB2_interactors"
   ]
  },
  {
   "cell_type": "code",
   "execution_count": null,
   "id": "c31960e6-5f90-422d-a34c-549a3173ac9c",
   "metadata": {},
   "outputs": [],
   "source": []
  },
  {
   "cell_type": "code",
   "execution_count": null,
   "id": "cc082851-24bb-46d7-a7e3-99a1c7f95d30",
   "metadata": {},
   "outputs": [],
   "source": []
  },
  {
   "cell_type": "code",
   "execution_count": 18,
   "id": "f2076804-e782-431f-8625-0281e9c9e0c0",
   "metadata": {},
   "outputs": [
    {
     "data": {
      "text/plain": [
       "14"
      ]
     },
     "execution_count": 18,
     "metadata": {},
     "output_type": "execute_result"
    }
   ],
   "source": [
    "brca_patient_data[\n",
    "    (brca_patient_data[\"PROTEIN_GENE\"] == \"P04626:ERBB2\")\n",
    "][\"PATIENT\"].nunique()"
   ]
  },
  {
   "cell_type": "code",
   "execution_count": null,
   "id": "a8d2cb20-455c-4a49-944b-edfa77263a87",
   "metadata": {},
   "outputs": [],
   "source": []
  },
  {
   "cell_type": "code",
   "execution_count": null,
   "id": "8a58982d-921f-4d3f-9d9f-611bdcdbee07",
   "metadata": {},
   "outputs": [],
   "source": []
  },
  {
   "cell_type": "code",
   "execution_count": null,
   "id": "ad1bbcb2-1549-4d1f-b0c9-2491ffc23612",
   "metadata": {},
   "outputs": [],
   "source": []
  },
  {
   "cell_type": "code",
   "execution_count": null,
   "id": "d836b0d4-1e3a-4b81-9e76-c152f8be54fc",
   "metadata": {},
   "outputs": [],
   "source": []
  },
  {
   "cell_type": "code",
   "execution_count": null,
   "id": "422084b0-2825-4f78-9687-c6ba7bf4b5e7",
   "metadata": {},
   "outputs": [],
   "source": []
  },
  {
   "cell_type": "code",
   "execution_count": null,
   "id": "8ce150b7-90b8-4f50-aa11-048eed657fd9",
   "metadata": {},
   "outputs": [],
   "source": []
  },
  {
   "cell_type": "code",
   "execution_count": null,
   "id": "6b313436-085a-4871-9bac-03d36b80fc9d",
   "metadata": {},
   "outputs": [],
   "source": []
  },
  {
   "cell_type": "code",
   "execution_count": null,
   "id": "d30a0283-3493-42db-af15-e1f9e151e3ec",
   "metadata": {},
   "outputs": [],
   "source": []
  },
  {
   "cell_type": "code",
   "execution_count": null,
   "id": "8e3fb20d-832d-4b3c-8b92-464545d02d7c",
   "metadata": {},
   "outputs": [],
   "source": []
  },
  {
   "cell_type": "code",
   "execution_count": null,
   "id": "c9685bf9-69ef-497e-84b9-b8cba4b2de5b",
   "metadata": {},
   "outputs": [],
   "source": []
  },
  {
   "cell_type": "code",
   "execution_count": null,
   "id": "e0afd94d-44f7-4d21-ab8a-07027dd3ff31",
   "metadata": {},
   "outputs": [],
   "source": []
  },
  {
   "cell_type": "code",
   "execution_count": null,
   "id": "92878e2e-9079-48ac-9ab3-8d9d7ab20dc9",
   "metadata": {},
   "outputs": [],
   "source": []
  },
  {
   "cell_type": "code",
   "execution_count": 42,
   "id": "35bdbfde-7606-4b7a-ac31-cfbb732c3e90",
   "metadata": {
    "tags": []
   },
   "outputs": [
    {
     "data": {
      "text/html": [
       "<div>\n",
       "<style scoped>\n",
       "    .dataframe tbody tr th:only-of-type {\n",
       "        vertical-align: middle;\n",
       "    }\n",
       "\n",
       "    .dataframe tbody tr th {\n",
       "        vertical-align: top;\n",
       "    }\n",
       "\n",
       "    .dataframe thead th {\n",
       "        text-align: right;\n",
       "    }\n",
       "</style>\n",
       "<table border=\"1\" class=\"dataframe\">\n",
       "  <thead>\n",
       "    <tr style=\"text-align: right;\">\n",
       "      <th></th>\n",
       "      <th>Hugo_Symbol</th>\n",
       "      <th>SWISSPROT</th>\n",
       "      <th>HGVSp_Short</th>\n",
       "      <th>Tumor_Sample_Barcode</th>\n",
       "    </tr>\n",
       "  </thead>\n",
       "  <tbody>\n",
       "    <tr>\n",
       "      <th>34918</th>\n",
       "      <td>ERBB2</td>\n",
       "      <td>P04626</td>\n",
       "      <td>H470Q</td>\n",
       "      <td>TCGA-EW-A1PD</td>\n",
       "    </tr>\n",
       "  </tbody>\n",
       "</table>\n",
       "</div>"
      ],
      "text/plain": [
       "      Hugo_Symbol SWISSPROT HGVSp_Short Tumor_Sample_Barcode\n",
       "34918       ERBB2    P04626       H470Q         TCGA-EW-A1PD"
      ]
     },
     "execution_count": 42,
     "metadata": {},
     "output_type": "execute_result"
    }
   ],
   "source": [
    "brca_mutex.snv_data[\n",
    "    (brca_mutex.snv_data[\"Tumor_Sample_Barcode\"] == 'TCGA-EW-A1PD') &\n",
    "    (brca_mutex.snv_data[\"SWISSPROT\"] == \"P04626\")\n",
    "]"
   ]
  },
  {
   "cell_type": "code",
   "execution_count": null,
   "id": "86b0df90-4205-4eb5-8ffb-d31bacd7465a",
   "metadata": {},
   "outputs": [],
   "source": [
    "'TCGA-EW-A1PD'"
   ]
  },
  {
   "cell_type": "code",
   "execution_count": 31,
   "id": "c8cce766-4a5e-4b45-9a34-d269702c3afb",
   "metadata": {},
   "outputs": [
    {
     "data": {
      "text/plain": [
       "612"
      ]
     },
     "execution_count": 31,
     "metadata": {},
     "output_type": "execute_result"
    }
   ],
   "source": [
    "brca_patient_data[\"PATIENT\"].nunique()"
   ]
  },
  {
   "cell_type": "code",
   "execution_count": null,
   "id": "19d2fee8-f7f4-4b87-8889-045372257636",
   "metadata": {},
   "outputs": [],
   "source": []
  },
  {
   "cell_type": "code",
   "execution_count": 45,
   "id": "7ce1bb1e-de55-4808-a313-146694314d02",
   "metadata": {},
   "outputs": [
    {
     "data": {
      "text/html": [
       "<div>\n",
       "<style scoped>\n",
       "    .dataframe tbody tr th:only-of-type {\n",
       "        vertical-align: middle;\n",
       "    }\n",
       "\n",
       "    .dataframe tbody tr th {\n",
       "        vertical-align: top;\n",
       "    }\n",
       "\n",
       "    .dataframe thead th {\n",
       "        text-align: right;\n",
       "    }\n",
       "</style>\n",
       "<table border=\"1\" class=\"dataframe\">\n",
       "  <thead>\n",
       "    <tr style=\"text-align: right;\">\n",
       "      <th></th>\n",
       "      <th>UniProt_ID</th>\n",
       "      <th>Mutation</th>\n",
       "      <th>Interactor_UniProt_ID</th>\n",
       "      <th>Prediction</th>\n",
       "      <th>Median_Probability</th>\n",
       "    </tr>\n",
       "  </thead>\n",
       "  <tbody>\n",
       "  </tbody>\n",
       "</table>\n",
       "</div>"
      ],
      "text/plain": [
       "Empty DataFrame\n",
       "Columns: [UniProt_ID, Mutation, Interactor_UniProt_ID, Prediction, Median_Probability]\n",
       "Index: []"
      ]
     },
     "execution_count": 45,
     "metadata": {},
     "output_type": "execute_result"
    }
   ],
   "source": [
    "brca_prediction = pd.read_csv(\"../data/predictions_datasets/brca_prediction_2021-11-11/8859d2cb/predictions_soft_2021-11-11.csv\")\n",
    "brca_prediction[\n",
    "    (brca_prediction[\"UniProt_ID\"] == \"P04626\") &\n",
    "    (brca_prediction[\"Mutation\"] == \"H470Q\")\n",
    "]"
   ]
  },
  {
   "cell_type": "code",
   "execution_count": null,
   "id": "d3ad6979-01d8-48ea-9a9b-d45457626bdc",
   "metadata": {},
   "outputs": [],
   "source": []
  },
  {
   "cell_type": "code",
   "execution_count": null,
   "id": "f051eb27-42f5-4f70-a778-c6b3ac054b6c",
   "metadata": {},
   "outputs": [],
   "source": []
  },
  {
   "cell_type": "code",
   "execution_count": null,
   "id": "8b9ea2ad-ad37-4f18-be66-c8cd34815939",
   "metadata": {},
   "outputs": [],
   "source": []
  }
 ],
 "metadata": {
  "kernelspec": {
   "display_name": "Predicting-Mutation-Effects",
   "language": "python",
   "name": "predicting-mutation-effects"
  },
  "language_info": {
   "codemirror_mode": {
    "name": "ipython",
    "version": 3
   },
   "file_extension": ".py",
   "mimetype": "text/x-python",
   "name": "python",
   "nbconvert_exporter": "python",
   "pygments_lexer": "ipython3",
   "version": "3.8.10"
  }
 },
 "nbformat": 4,
 "nbformat_minor": 5
}
