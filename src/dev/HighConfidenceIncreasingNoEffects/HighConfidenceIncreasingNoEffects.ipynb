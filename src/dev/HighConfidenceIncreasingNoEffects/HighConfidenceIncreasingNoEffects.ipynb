{
 "cells": [
  {
   "cell_type": "markdown",
   "metadata": {
    "collapsed": true,
    "pycharm": {
     "name": "#%% md\n"
    }
   },
   "source": [
    "# High Confidence Increasing No Effect Mutations"
   ]
  },
  {
   "cell_type": "code",
   "execution_count": 2,
   "outputs": [
    {
     "name": "stdout",
     "output_type": "stream",
     "text": [
      "\u001B[32mMarch 14, 2022 15:42:01\u001B[0m\n"
     ]
    }
   ],
   "source": [
    "from datetime import datetime\n",
    "\n",
    "print(\"\\033[32m{}\\033[0m\".format(datetime.now().strftime(\"%B %d, %Y %H:%M:%S\")))"
   ],
   "metadata": {
    "collapsed": false,
    "pycharm": {
     "name": "#%%\n"
    }
   }
  },
  {
   "cell_type": "markdown",
   "source": [
    "**Setup**"
   ],
   "metadata": {
    "collapsed": false,
    "pycharm": {
     "name": "#%% md\n"
    }
   }
  },
  {
   "cell_type": "code",
   "execution_count": 3,
   "outputs": [],
   "source": [
    "from pandas import read_csv\n",
    "from utils import HighConfidenceIncreasingNoEffectMutationsHelper\n",
    "from tqdm.notebook import tqdm\n",
    "\n",
    "BRCA_PREDICTION_PATH = \"../../../data/predictions_datasets/brca_prediction_2021-11-17/558297b6/predictions_soft_2021-11-17.csv\"\n",
    "COAD_PREDICTION_PATH = \"../../../data/predictions_datasets/coad_prediction_2022-01-06/9789393f/predictions_soft_2022-01-06.csv\"\n",
    "ESCA_PREDICTION_PATH = \"../../../data/predictions_datasets/esca_prediction_2021-11-17/59544312/predictions_soft_2021-11-17.csv\"\n",
    "GBM_PREDICTION_PATH = \"../../../data/predictions_datasets/gbm_prediction_2021-11-17/b9cfc7ea/predictions_soft_2021-11-17.csv\"\n",
    "HNSC_PREDICTION_PATH = \"../../../data/predictions_datasets/hnsc_prediction_2021-11-17/53930f30/predictions_soft_2021-11-17.csv\"\n",
    "OV_PREDICTION_PATH = \"../../../data/predictions_datasets/ov_prediction_2021-11-17/37bf1637/predictions_soft_2021-11-17.csv\"\n",
    "\n",
    "# Reflect changes in the modules immediately.\n",
    "%load_ext autoreload\n",
    "%autoreload 2"
   ],
   "metadata": {
    "collapsed": false,
    "pycharm": {
     "name": "#%%\n"
    }
   }
  },
  {
   "cell_type": "code",
   "execution_count": 9,
   "outputs": [],
   "source": [
    "brca_prediction_data = read_csv(BRCA_PREDICTION_PATH)\n",
    "coad_prediction_data = read_csv(COAD_PREDICTION_PATH)\n",
    "esca_prediction_data = read_csv(ESCA_PREDICTION_PATH)\n",
    "gbm_prediction_data = read_csv(GBM_PREDICTION_PATH)\n",
    "hnsc_prediction_data = read_csv(HNSC_PREDICTION_PATH)\n",
    "ov_prediction_data = read_csv(OV_PREDICTION_PATH)\n",
    "\n",
    "TCGA_TO_PREDICTION_DATA = {\n",
    "    \"BRCA\": brca_prediction_data,\n",
    "    \"COAD\": coad_prediction_data,\n",
    "    \"ESCA\": esca_prediction_data,\n",
    "    \"GBM\": gbm_prediction_data,\n",
    "    \"HNSC\": hnsc_prediction_data,\n",
    "    \"OV\": ov_prediction_data,\n",
    "}\n",
    "\n",
    "CONFIDENCES = [0.80]"
   ],
   "metadata": {
    "collapsed": false,
    "pycharm": {
     "name": "#%%\n"
    }
   }
  },
  {
   "cell_type": "code",
   "execution_count": 10,
   "outputs": [],
   "source": [
    "def run(confidences, tcga_to_prediction_data):\n",
    "    for confidence in tqdm(confidences):\n",
    "        for tcga, tcga_prediction_data in tcga_to_prediction_data.items():\n",
    "            print(f\"tcga : {tcga}\")\n",
    "            print(f\"tcga_prediction_data : {tcga_prediction_data.shape}\")\n",
    "            HighConfidenceIncreasingNoEffectMutationsHelper(\n",
    "                tcga=tcga,\n",
    "                data=tcga_prediction_data,\n",
    "                confidence=confidence\n",
    "            ).extract_high_confidence_increasing_no_effect_mutations(view=False)"
   ],
   "metadata": {
    "collapsed": false,
    "pycharm": {
     "name": "#%%\n"
    }
   }
  },
  {
   "cell_type": "code",
   "execution_count": 10,
   "outputs": [],
   "source": [],
   "metadata": {
    "collapsed": false,
    "pycharm": {
     "name": "#%%\n"
    }
   }
  },
  {
   "cell_type": "code",
   "execution_count": 11,
   "outputs": [
    {
     "data": {
      "text/plain": "  0%|          | 0/1 [00:00<?, ?it/s]",
      "application/vnd.jupyter.widget-view+json": {
       "version_major": 2,
       "version_minor": 0,
       "model_id": "ed365a2825134ce7bb1d39114cae18bb"
      }
     },
     "metadata": {},
     "output_type": "display_data"
    },
    {
     "name": "stdout",
     "output_type": "stream",
     "text": [
      "tcga : BRCA\n",
      "tcga_prediction_data : (3997, 5)\n",
      "BRCA data is extracted to HighConfidenceIncreasingNoEffectData\\confidence_0.80\\BRCA_confidence_0.80_2022-03-14.csv successfully.\n",
      "tcga : COAD\n",
      "tcga_prediction_data : (7517, 5)\n",
      "COAD data is extracted to HighConfidenceIncreasingNoEffectData\\confidence_0.80\\COAD_confidence_0.80_2022-03-14.csv successfully.\n",
      "tcga : ESCA\n",
      "tcga_prediction_data : (1194, 5)\n",
      "ESCA data is extracted to HighConfidenceIncreasingNoEffectData\\confidence_0.80\\ESCA_confidence_0.80_2022-03-14.csv successfully.\n",
      "tcga : GBM\n",
      "tcga_prediction_data : (2945, 5)\n",
      "GBM data is extracted to HighConfidenceIncreasingNoEffectData\\confidence_0.80\\GBM_confidence_0.80_2022-03-14.csv successfully.\n",
      "tcga : HNSC\n",
      "tcga_prediction_data : (4003, 5)\n",
      "HNSC data is extracted to HighConfidenceIncreasingNoEffectData\\confidence_0.80\\HNSC_confidence_0.80_2022-03-14.csv successfully.\n",
      "tcga : OV\n",
      "tcga_prediction_data : (2513, 5)\n",
      "OV data is extracted to HighConfidenceIncreasingNoEffectData\\confidence_0.80\\OV_confidence_0.80_2022-03-14.csv successfully.\n"
     ]
    }
   ],
   "source": [
    "run(confidences=CONFIDENCES, tcga_to_prediction_data=TCGA_TO_PREDICTION_DATA)"
   ],
   "metadata": {
    "collapsed": false,
    "pycharm": {
     "name": "#%%\n"
    }
   }
  },
  {
   "cell_type": "code",
   "execution_count": null,
   "outputs": [],
   "source": [],
   "metadata": {
    "collapsed": false,
    "pycharm": {
     "name": "#%%\n"
    }
   }
  },
  {
   "cell_type": "code",
   "execution_count": null,
   "outputs": [],
   "source": [],
   "metadata": {
    "collapsed": false,
    "pycharm": {
     "name": "#%%\n"
    }
   }
  },
  {
   "cell_type": "code",
   "execution_count": null,
   "outputs": [],
   "source": [],
   "metadata": {
    "collapsed": false,
    "pycharm": {
     "name": "#%%\n"
    }
   }
  }
 ],
 "metadata": {
  "kernelspec": {
   "display_name": "Python 3",
   "language": "python",
   "name": "python3"
  },
  "language_info": {
   "codemirror_mode": {
    "name": "ipython",
    "version": 2
   },
   "file_extension": ".py",
   "mimetype": "text/x-python",
   "name": "python",
   "nbconvert_exporter": "python",
   "pygments_lexer": "ipython2",
   "version": "2.7.6"
  }
 },
 "nbformat": 4,
 "nbformat_minor": 0
}