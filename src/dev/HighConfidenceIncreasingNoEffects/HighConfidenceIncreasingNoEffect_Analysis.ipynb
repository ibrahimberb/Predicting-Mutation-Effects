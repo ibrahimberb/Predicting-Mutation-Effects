{
 "cells": [
  {
   "cell_type": "markdown",
   "source": [
    "# High Confidence Increasing NoEffect Mutations"
   ],
   "metadata": {
    "collapsed": false
   }
  },
  {
   "cell_type": "code",
   "execution_count": 1,
   "outputs": [
    {
     "name": "stdout",
     "output_type": "stream",
     "text": [
      "\u001B[32mMarch 14, 2022 15:53:06\u001B[0m\n"
     ]
    }
   ],
   "source": [
    "from datetime import datetime\n",
    "\n",
    "print(\"\\033[32m{}\\033[0m\".format(datetime.now().strftime(\"%B %d, %Y %H:%M:%S\")))"
   ],
   "metadata": {
    "collapsed": false,
    "pycharm": {
     "name": "#%%\n"
    }
   }
  },
  {
   "cell_type": "markdown",
   "source": [
    "**Setup**"
   ],
   "metadata": {
    "collapsed": false
   }
  },
  {
   "cell_type": "code",
   "execution_count": 2,
   "outputs": [],
   "source": [
    "import pandas as pd\n",
    "\n",
    "HIGH_CONFIDENCE_DISRUPTIVE_DATA_FOLDER_PATH = r\"HighConfidenceDisruptiveData\"\n",
    "\n",
    "# Confidence 0.80s\n",
    "BRCA_CLASS_1_CONFIDENCE_80_PATH = r\"HighConfidenceIncreasingNoEffectData\\confidence_0.80\\BRCA_confidence_0.80_2022-03-14.csv\"\n",
    "COAD_CLASS_1_CONFIDENCE_80_PATH = r\"HighConfidenceIncreasingNoEffectData\\confidence_0.80\\COAD_confidence_0.80_2022-03-14.csv\"\n",
    "ESCA_CLASS_1_CONFIDENCE_80_PATH = r\"HighConfidenceIncreasingNoEffectData\\confidence_0.80\\ESCA_confidence_0.80_2022-03-14.csv\"\n",
    "GBM_CLASS_1_CONFIDENCE_80_PATH = r\"HighConfidenceIncreasingNoEffectData\\confidence_0.80\\GBM_confidence_0.80_2022-03-14.csv\"\n",
    "HNSC_CLASS_1_CONFIDENCE_80_PATH = r\"HighConfidenceIncreasingNoEffectData\\confidence_0.80\\HNSC_confidence_0.80_2022-03-14.csv\"\n",
    "OV_CLASS_1_CONFIDENCE_80_PATH = r\"HighConfidenceIncreasingNoEffectData\\confidence_0.80\\OV_confidence_0.80_2022-03-14.csv\"\n",
    "\n",
    "# Reflect changes in the modules immediately.\n",
    "%load_ext autoreload\n",
    "%autoreload 2"
   ],
   "metadata": {
    "collapsed": false,
    "pycharm": {
     "name": "#%%\n"
    }
   }
  },
  {
   "cell_type": "code",
   "execution_count": 3,
   "outputs": [],
   "source": [
    "brca_class_1_confidence_80 = pd.read_csv(BRCA_CLASS_1_CONFIDENCE_80_PATH)\n",
    "coad_class_1_confidence_80 = pd.read_csv(COAD_CLASS_1_CONFIDENCE_80_PATH)\n",
    "esca_class_1_confidence_80 = pd.read_csv(ESCA_CLASS_1_CONFIDENCE_80_PATH)\n",
    "gbm_class_1_confidence_80 = pd.read_csv(GBM_CLASS_1_CONFIDENCE_80_PATH)\n",
    "hnsc_class_1_confidence_80 = pd.read_csv(HNSC_CLASS_1_CONFIDENCE_80_PATH)\n",
    "ov_class_1_confidence_80 = pd.read_csv(OV_CLASS_1_CONFIDENCE_80_PATH)"
   ],
   "metadata": {
    "collapsed": false,
    "pycharm": {
     "name": "#%%\n"
    }
   }
  },
  {
   "cell_type": "code",
   "execution_count": 4,
   "outputs": [
    {
     "name": "stdout",
     "output_type": "stream",
     "text": [
      "(385, 8)\n",
      "(665, 8)\n",
      "(102, 8)\n",
      "(333, 8)\n",
      "(338, 8)\n",
      "(199, 8)\n"
     ]
    }
   ],
   "source": [
    "print(brca_class_1_confidence_80.shape)\n",
    "print(coad_class_1_confidence_80.shape)\n",
    "print(esca_class_1_confidence_80.shape)\n",
    "print(gbm_class_1_confidence_80.shape)\n",
    "print(hnsc_class_1_confidence_80.shape)\n",
    "print(ov_class_1_confidence_80.shape)"
   ],
   "metadata": {
    "collapsed": false,
    "pycharm": {
     "name": "#%%\n"
    }
   }
  },
  {
   "cell_type": "code",
   "execution_count": 5,
   "outputs": [
    {
     "data": {
      "text/plain": "     TCGA      GENE UniProt_ID Mutation INTERACTOR_GENE Interactor_UniProt_ID  \\\n0    BRCA    SEMA3E     O15041    E364K          PLXND1                Q9Y4D7   \n1    BRCA  SERPINA3     P01011    R255Q            MST1                P26927   \n2    BRCA    PPP2CA     P67775    E297K         PPP2R5E                Q16537   \n3    BRCA     USP25     Q9UHP3    S507L           NEDD8                Q15843   \n4    BRCA     RUFY1     Q96T51    V277I           RAB5A                P20339   \n..    ...       ...        ...      ...             ...                   ...   \n380  BRCA    PIK3CA     P42336   H1047Y             ATR                Q13535   \n381  BRCA      PAK2     Q13177    R417Q             DST                Q03001   \n382  BRCA     PSMB6     P28072    M150V          PSMB10                P40306   \n383  BRCA     PSMB6     P28072    M150V           PSMB7                Q99436   \n384  BRCA     PSMB6     P28072    M150V             NaN                E9KL30   \n\n     Prediction  Median_Probability  \n0             1             0.88655  \n1             1             0.88276  \n2             1             0.80771  \n3             1             0.80130  \n4             1             0.83653  \n..          ...                 ...  \n380           1             0.84433  \n381           1             0.80500  \n382           1             0.85182  \n383           1             0.80615  \n384           1             0.84248  \n\n[385 rows x 8 columns]",
      "text/html": "<div>\n<style scoped>\n    .dataframe tbody tr th:only-of-type {\n        vertical-align: middle;\n    }\n\n    .dataframe tbody tr th {\n        vertical-align: top;\n    }\n\n    .dataframe thead th {\n        text-align: right;\n    }\n</style>\n<table border=\"1\" class=\"dataframe\">\n  <thead>\n    <tr style=\"text-align: right;\">\n      <th></th>\n      <th>TCGA</th>\n      <th>GENE</th>\n      <th>UniProt_ID</th>\n      <th>Mutation</th>\n      <th>INTERACTOR_GENE</th>\n      <th>Interactor_UniProt_ID</th>\n      <th>Prediction</th>\n      <th>Median_Probability</th>\n    </tr>\n  </thead>\n  <tbody>\n    <tr>\n      <th>0</th>\n      <td>BRCA</td>\n      <td>SEMA3E</td>\n      <td>O15041</td>\n      <td>E364K</td>\n      <td>PLXND1</td>\n      <td>Q9Y4D7</td>\n      <td>1</td>\n      <td>0.88655</td>\n    </tr>\n    <tr>\n      <th>1</th>\n      <td>BRCA</td>\n      <td>SERPINA3</td>\n      <td>P01011</td>\n      <td>R255Q</td>\n      <td>MST1</td>\n      <td>P26927</td>\n      <td>1</td>\n      <td>0.88276</td>\n    </tr>\n    <tr>\n      <th>2</th>\n      <td>BRCA</td>\n      <td>PPP2CA</td>\n      <td>P67775</td>\n      <td>E297K</td>\n      <td>PPP2R5E</td>\n      <td>Q16537</td>\n      <td>1</td>\n      <td>0.80771</td>\n    </tr>\n    <tr>\n      <th>3</th>\n      <td>BRCA</td>\n      <td>USP25</td>\n      <td>Q9UHP3</td>\n      <td>S507L</td>\n      <td>NEDD8</td>\n      <td>Q15843</td>\n      <td>1</td>\n      <td>0.80130</td>\n    </tr>\n    <tr>\n      <th>4</th>\n      <td>BRCA</td>\n      <td>RUFY1</td>\n      <td>Q96T51</td>\n      <td>V277I</td>\n      <td>RAB5A</td>\n      <td>P20339</td>\n      <td>1</td>\n      <td>0.83653</td>\n    </tr>\n    <tr>\n      <th>...</th>\n      <td>...</td>\n      <td>...</td>\n      <td>...</td>\n      <td>...</td>\n      <td>...</td>\n      <td>...</td>\n      <td>...</td>\n      <td>...</td>\n    </tr>\n    <tr>\n      <th>380</th>\n      <td>BRCA</td>\n      <td>PIK3CA</td>\n      <td>P42336</td>\n      <td>H1047Y</td>\n      <td>ATR</td>\n      <td>Q13535</td>\n      <td>1</td>\n      <td>0.84433</td>\n    </tr>\n    <tr>\n      <th>381</th>\n      <td>BRCA</td>\n      <td>PAK2</td>\n      <td>Q13177</td>\n      <td>R417Q</td>\n      <td>DST</td>\n      <td>Q03001</td>\n      <td>1</td>\n      <td>0.80500</td>\n    </tr>\n    <tr>\n      <th>382</th>\n      <td>BRCA</td>\n      <td>PSMB6</td>\n      <td>P28072</td>\n      <td>M150V</td>\n      <td>PSMB10</td>\n      <td>P40306</td>\n      <td>1</td>\n      <td>0.85182</td>\n    </tr>\n    <tr>\n      <th>383</th>\n      <td>BRCA</td>\n      <td>PSMB6</td>\n      <td>P28072</td>\n      <td>M150V</td>\n      <td>PSMB7</td>\n      <td>Q99436</td>\n      <td>1</td>\n      <td>0.80615</td>\n    </tr>\n    <tr>\n      <th>384</th>\n      <td>BRCA</td>\n      <td>PSMB6</td>\n      <td>P28072</td>\n      <td>M150V</td>\n      <td>NaN</td>\n      <td>E9KL30</td>\n      <td>1</td>\n      <td>0.84248</td>\n    </tr>\n  </tbody>\n</table>\n<p>385 rows × 8 columns</p>\n</div>"
     },
     "execution_count": 5,
     "metadata": {},
     "output_type": "execute_result"
    }
   ],
   "source": [
    "brca_class_1_confidence_80"
   ],
   "metadata": {
    "collapsed": false,
    "pycharm": {
     "name": "#%%\n"
    }
   }
  },
  {
   "cell_type": "markdown",
   "source": [
    "### PROVEAN Score Attaching"
   ],
   "metadata": {
    "collapsed": false
   }
  },
  {
   "cell_type": "code",
   "execution_count": 6,
   "outputs": [],
   "source": [
    "from pathlib import Path\n",
    "from utils import ProveanScoreAttaching\n",
    "\n",
    "BRCA_INTERFACE_DATA_PATH = Path(r\"../../../../My-ELASPIC-Web-API/Elaspic_Results/Merged_Results/BRCA_Interface_2021-11-17.txt\")\n",
    "COAD_INTERFACE_DATA_PATH = Path(r\"../../../../My-ELASPIC-Web-API/Elaspic_Results/Merged_Results/COAD_Interface_2022-01-06.txt\")\n",
    "ESCA_INTERFACE_DATA_PATH = Path(r\"../../../../My-ELASPIC-Web-API/Elaspic_Results/Merged_Results/ESCA_Interface_2021-11-17.txt\")\n",
    "GBM_INTERFACE_DATA_PATH = Path(r\"../../../../My-ELASPIC-Web-API/Elaspic_Results/Merged_Results/GBM_Interface_2021-11-17.txt\")\n",
    "HNSC_INTERFACE_DATA_PATH = Path(r\"../../../../My-ELASPIC-Web-API/Elaspic_Results/Merged_Results/HNSC_Interface_2021-11-17.txt\")\n",
    "OV_INTERFACE_DATA_PATH = Path(r\"../../../../My-ELASPIC-Web-API/Elaspic_Results/Merged_Results/OV_Interface_2021-11-17.txt\")"
   ],
   "metadata": {
    "collapsed": false,
    "pycharm": {
     "name": "#%%\n"
    }
   }
  },
  {
   "cell_type": "code",
   "execution_count": 7,
   "outputs": [
    {
     "name": "stdout",
     "output_type": "stream",
     "text": [
      "2022-03-14 15:53:12 |\u001B[33m WARNING  \u001B[0m| utils | protein='Q8NBB4'\n"
     ]
    },
    {
     "name": "stderr",
     "output_type": "stream",
     "text": [
      "protein='Q8NBB4'\n"
     ]
    },
    {
     "name": "stdout",
     "output_type": "stream",
     "text": [
      "2022-03-14 15:53:12 |\u001B[33m WARNING  \u001B[0m| utils | mutation='A89T'\n"
     ]
    },
    {
     "name": "stderr",
     "output_type": "stream",
     "text": [
      "mutation='A89T'\n"
     ]
    },
    {
     "name": "stdout",
     "output_type": "stream",
     "text": [
      "2022-03-14 15:53:12 |\u001B[33m WARNING  \u001B[0m| utils | interactor='Q96N95'\n"
     ]
    },
    {
     "name": "stderr",
     "output_type": "stream",
     "text": [
      "interactor='Q96N95'\n"
     ]
    },
    {
     "name": "stdout",
     "output_type": "stream",
     "text": [
      "2022-03-14 15:53:12 |\u001B[33m WARNING  \u001B[0m| utils | Took average of [-1.552 -1.514]\n"
     ]
    },
    {
     "name": "stderr",
     "output_type": "stream",
     "text": [
      "Took average of [-1.552 -1.514]\n"
     ]
    },
    {
     "name": "stdout",
     "output_type": "stream",
     "text": [
      "2022-03-14 15:53:12 |\u001B[33m WARNING  \u001B[0m| utils | protein='Q9Y2U5'\n"
     ]
    },
    {
     "name": "stderr",
     "output_type": "stream",
     "text": [
      "protein='Q9Y2U5'\n"
     ]
    },
    {
     "name": "stdout",
     "output_type": "stream",
     "text": [
      "2022-03-14 15:53:12 |\u001B[33m WARNING  \u001B[0m| utils | mutation='V340I'\n"
     ]
    },
    {
     "name": "stderr",
     "output_type": "stream",
     "text": [
      "mutation='V340I'\n"
     ]
    },
    {
     "name": "stdout",
     "output_type": "stream",
     "text": [
      "2022-03-14 15:53:12 |\u001B[33m WARNING  \u001B[0m| utils | interactor='Q13163'\n"
     ]
    },
    {
     "name": "stderr",
     "output_type": "stream",
     "text": [
      "interactor='Q13163'\n"
     ]
    },
    {
     "name": "stdout",
     "output_type": "stream",
     "text": [
      "2022-03-14 15:53:12 |\u001B[33m WARNING  \u001B[0m| utils | Took average of [-0.635 -0.589]\n"
     ]
    },
    {
     "name": "stderr",
     "output_type": "stream",
     "text": [
      "Took average of [-0.635 -0.589]\n"
     ]
    },
    {
     "name": "stdout",
     "output_type": "stream",
     "text": [
      "2022-03-14 15:53:13 |\u001B[33m WARNING  \u001B[0m| utils | protein='O94776'\n"
     ]
    },
    {
     "name": "stderr",
     "output_type": "stream",
     "text": [
      "protein='O94776'\n"
     ]
    },
    {
     "name": "stdout",
     "output_type": "stream",
     "text": [
      "2022-03-14 15:53:13 |\u001B[33m WARNING  \u001B[0m| utils | mutation='R160H'\n"
     ]
    },
    {
     "name": "stderr",
     "output_type": "stream",
     "text": [
      "mutation='R160H'\n"
     ]
    },
    {
     "name": "stdout",
     "output_type": "stream",
     "text": [
      "2022-03-14 15:53:13 |\u001B[33m WARNING  \u001B[0m| utils | interactor='Q9UQL6'\n"
     ]
    },
    {
     "name": "stderr",
     "output_type": "stream",
     "text": [
      "interactor='Q9UQL6'\n"
     ]
    },
    {
     "name": "stdout",
     "output_type": "stream",
     "text": [
      "2022-03-14 15:53:13 |\u001B[33m WARNING  \u001B[0m| utils | Took average of [-2.005 -2.04 ]\n"
     ]
    },
    {
     "name": "stderr",
     "output_type": "stream",
     "text": [
      "Took average of [-2.005 -2.04 ]\n"
     ]
    },
    {
     "name": "stdout",
     "output_type": "stream",
     "text": [
      "2022-03-14 15:53:13 |\u001B[33m WARNING  \u001B[0m| utils | protein='P21860'\n"
     ]
    },
    {
     "name": "stderr",
     "output_type": "stream",
     "text": [
      "protein='P21860'\n"
     ]
    },
    {
     "name": "stdout",
     "output_type": "stream",
     "text": [
      "2022-03-14 15:53:13 |\u001B[33m WARNING  \u001B[0m| utils | mutation='A931T'\n"
     ]
    },
    {
     "name": "stderr",
     "output_type": "stream",
     "text": [
      "mutation='A931T'\n"
     ]
    },
    {
     "name": "stdout",
     "output_type": "stream",
     "text": [
      "2022-03-14 15:53:13 |\u001B[33m WARNING  \u001B[0m| utils | interactor='P04626'\n"
     ]
    },
    {
     "name": "stderr",
     "output_type": "stream",
     "text": [
      "interactor='P04626'\n"
     ]
    },
    {
     "name": "stdout",
     "output_type": "stream",
     "text": [
      "2022-03-14 15:53:13 |\u001B[33m WARNING  \u001B[0m| utils | Took average of [-1.64  -1.573]\n"
     ]
    },
    {
     "name": "stderr",
     "output_type": "stream",
     "text": [
      "Took average of [-1.64  -1.573]\n"
     ]
    },
    {
     "name": "stdout",
     "output_type": "stream",
     "text": [
      "2022-03-14 15:53:13 |\u001B[33m WARNING  \u001B[0m| utils | protein='P21860'\n"
     ]
    },
    {
     "name": "stderr",
     "output_type": "stream",
     "text": [
      "protein='P21860'\n"
     ]
    },
    {
     "name": "stdout",
     "output_type": "stream",
     "text": [
      "2022-03-14 15:53:13 |\u001B[33m WARNING  \u001B[0m| utils | mutation='A931T'\n"
     ]
    },
    {
     "name": "stderr",
     "output_type": "stream",
     "text": [
      "mutation='A931T'\n"
     ]
    },
    {
     "name": "stdout",
     "output_type": "stream",
     "text": [
      "2022-03-14 15:53:13 |\u001B[33m WARNING  \u001B[0m| utils | interactor='P16591'\n"
     ]
    },
    {
     "name": "stderr",
     "output_type": "stream",
     "text": [
      "interactor='P16591'\n"
     ]
    },
    {
     "name": "stdout",
     "output_type": "stream",
     "text": [
      "2022-03-14 15:53:13 |\u001B[33m WARNING  \u001B[0m| utils | Took average of [-1.64  -1.573]\n"
     ]
    },
    {
     "name": "stderr",
     "output_type": "stream",
     "text": [
      "Took average of [-1.64  -1.573]\n"
     ]
    },
    {
     "name": "stdout",
     "output_type": "stream",
     "text": [
      "2022-03-14 15:53:13 |\u001B[33m WARNING  \u001B[0m| utils | protein='Q9UKW4'\n"
     ]
    },
    {
     "name": "stderr",
     "output_type": "stream",
     "text": [
      "protein='Q9UKW4'\n"
     ]
    },
    {
     "name": "stdout",
     "output_type": "stream",
     "text": [
      "2022-03-14 15:53:13 |\u001B[33m WARNING  \u001B[0m| utils | mutation='E685K'\n"
     ]
    },
    {
     "name": "stderr",
     "output_type": "stream",
     "text": [
      "mutation='E685K'\n"
     ]
    },
    {
     "name": "stdout",
     "output_type": "stream",
     "text": [
      "2022-03-14 15:53:13 |\u001B[33m WARNING  \u001B[0m| utils | interactor='P27986'\n"
     ]
    },
    {
     "name": "stderr",
     "output_type": "stream",
     "text": [
      "interactor='P27986'\n"
     ]
    },
    {
     "name": "stdout",
     "output_type": "stream",
     "text": [
      "2022-03-14 15:53:13 |\u001B[33m WARNING  \u001B[0m| utils | Took average of [-1.926 -1.931]\n"
     ]
    },
    {
     "name": "stderr",
     "output_type": "stream",
     "text": [
      "Took average of [-1.926 -1.931]\n"
     ]
    },
    {
     "name": "stdout",
     "output_type": "stream",
     "text": [
      "2022-03-14 15:53:13 |\u001B[33m WARNING  \u001B[0m| utils | protein='P42262'\n"
     ]
    },
    {
     "name": "stderr",
     "output_type": "stream",
     "text": [
      "protein='P42262'\n"
     ]
    },
    {
     "name": "stdout",
     "output_type": "stream",
     "text": [
      "2022-03-14 15:53:13 |\u001B[33m WARNING  \u001B[0m| utils | mutation='G120A'\n"
     ]
    },
    {
     "name": "stderr",
     "output_type": "stream",
     "text": [
      "mutation='G120A'\n"
     ]
    },
    {
     "name": "stdout",
     "output_type": "stream",
     "text": [
      "2022-03-14 15:53:13 |\u001B[33m WARNING  \u001B[0m| utils | interactor='Q13002'\n"
     ]
    },
    {
     "name": "stderr",
     "output_type": "stream",
     "text": [
      "interactor='Q13002'\n"
     ]
    },
    {
     "name": "stdout",
     "output_type": "stream",
     "text": [
      "2022-03-14 15:53:13 |\u001B[33m WARNING  \u001B[0m| utils | Took average of [-1.786 -1.777]\n"
     ]
    },
    {
     "name": "stderr",
     "output_type": "stream",
     "text": [
      "Took average of [-1.786 -1.777]\n"
     ]
    },
    {
     "name": "stdout",
     "output_type": "stream",
     "text": [
      "2022-03-14 15:53:14 |\u001B[33m WARNING  \u001B[0m| utils | protein='Q8TDW5'\n"
     ]
    },
    {
     "name": "stderr",
     "output_type": "stream",
     "text": [
      "protein='Q8TDW5'\n"
     ]
    },
    {
     "name": "stdout",
     "output_type": "stream",
     "text": [
      "2022-03-14 15:53:14 |\u001B[33m WARNING  \u001B[0m| utils | mutation='M20I'\n"
     ]
    },
    {
     "name": "stderr",
     "output_type": "stream",
     "text": [
      "mutation='M20I'\n"
     ]
    },
    {
     "name": "stdout",
     "output_type": "stream",
     "text": [
      "2022-03-14 15:53:14 |\u001B[33m WARNING  \u001B[0m| utils | interactor='P51159'\n"
     ]
    },
    {
     "name": "stderr",
     "output_type": "stream",
     "text": [
      "interactor='P51159'\n"
     ]
    },
    {
     "name": "stdout",
     "output_type": "stream",
     "text": [
      "2022-03-14 15:53:14 |\u001B[33m WARNING  \u001B[0m| utils | Took average of [-2.332 -2.335]\n"
     ]
    },
    {
     "name": "stderr",
     "output_type": "stream",
     "text": [
      "Took average of [-2.332 -2.335]\n"
     ]
    },
    {
     "name": "stdout",
     "output_type": "stream",
     "text": [
      "2022-03-14 15:53:14 |\u001B[33m WARNING  \u001B[0m| utils | protein='P43146'\n"
     ]
    },
    {
     "name": "stderr",
     "output_type": "stream",
     "text": [
      "protein='P43146'\n"
     ]
    },
    {
     "name": "stdout",
     "output_type": "stream",
     "text": [
      "2022-03-14 15:53:14 |\u001B[33m WARNING  \u001B[0m| utils | mutation='T856A'\n"
     ]
    },
    {
     "name": "stderr",
     "output_type": "stream",
     "text": [
      "mutation='T856A'\n"
     ]
    },
    {
     "name": "stdout",
     "output_type": "stream",
     "text": [
      "2022-03-14 15:53:14 |\u001B[33m WARNING  \u001B[0m| utils | interactor='Q9Y6N7'\n"
     ]
    },
    {
     "name": "stderr",
     "output_type": "stream",
     "text": [
      "interactor='Q9Y6N7'\n"
     ]
    },
    {
     "name": "stdout",
     "output_type": "stream",
     "text": [
      "2022-03-14 15:53:14 |\u001B[33m WARNING  \u001B[0m| utils | Took average of [-1.423 -1.445]\n"
     ]
    },
    {
     "name": "stderr",
     "output_type": "stream",
     "text": [
      "Took average of [-1.423 -1.445]\n"
     ]
    },
    {
     "name": "stdout",
     "output_type": "stream",
     "text": [
      "2022-03-14 15:53:15 |\u001B[33m WARNING  \u001B[0m| utils | protein='Q9Y371'\n"
     ]
    },
    {
     "name": "stderr",
     "output_type": "stream",
     "text": [
      "protein='Q9Y371'\n"
     ]
    },
    {
     "name": "stdout",
     "output_type": "stream",
     "text": [
      "2022-03-14 15:53:15 |\u001B[33m WARNING  \u001B[0m| utils | mutation='N365S'\n"
     ]
    },
    {
     "name": "stderr",
     "output_type": "stream",
     "text": [
      "mutation='N365S'\n"
     ]
    },
    {
     "name": "stdout",
     "output_type": "stream",
     "text": [
      "2022-03-14 15:53:15 |\u001B[33m WARNING  \u001B[0m| utils | interactor='Q96B97'\n"
     ]
    },
    {
     "name": "stderr",
     "output_type": "stream",
     "text": [
      "interactor='Q96B97'\n"
     ]
    },
    {
     "name": "stdout",
     "output_type": "stream",
     "text": [
      "2022-03-14 15:53:15 |\u001B[33m WARNING  \u001B[0m| utils | Took average of [-0.385 -0.404]\n"
     ]
    },
    {
     "name": "stderr",
     "output_type": "stream",
     "text": [
      "Took average of [-0.385 -0.404]\n"
     ]
    },
    {
     "name": "stdout",
     "output_type": "stream",
     "text": [
      "2022-03-14 15:53:16 |\u001B[33m WARNING  \u001B[0m| utils | protein='Q16288'\n"
     ]
    },
    {
     "name": "stderr",
     "output_type": "stream",
     "text": [
      "protein='Q16288'\n"
     ]
    },
    {
     "name": "stdout",
     "output_type": "stream",
     "text": [
      "2022-03-14 15:53:16 |\u001B[33m WARNING  \u001B[0m| utils | mutation='R316H'\n"
     ]
    },
    {
     "name": "stderr",
     "output_type": "stream",
     "text": [
      "mutation='R316H'\n"
     ]
    },
    {
     "name": "stdout",
     "output_type": "stream",
     "text": [
      "2022-03-14 15:53:16 |\u001B[33m WARNING  \u001B[0m| utils | interactor='P20783'\n"
     ]
    },
    {
     "name": "stderr",
     "output_type": "stream",
     "text": [
      "interactor='P20783'\n"
     ]
    },
    {
     "name": "stdout",
     "output_type": "stream",
     "text": [
      "2022-03-14 15:53:16 |\u001B[33m WARNING  \u001B[0m| utils | Took average of [-1.42  -1.551]\n"
     ]
    },
    {
     "name": "stderr",
     "output_type": "stream",
     "text": [
      "Took average of [-1.42  -1.551]\n"
     ]
    },
    {
     "name": "stdout",
     "output_type": "stream",
     "text": [
      "2022-03-14 15:53:16 |\u001B[33m WARNING  \u001B[0m| utils | protein='P52735'\n"
     ]
    },
    {
     "name": "stderr",
     "output_type": "stream",
     "text": [
      "protein='P52735'\n"
     ]
    },
    {
     "name": "stdout",
     "output_type": "stream",
     "text": [
      "2022-03-14 15:53:16 |\u001B[33m WARNING  \u001B[0m| utils | mutation='R700Q'\n"
     ]
    },
    {
     "name": "stderr",
     "output_type": "stream",
     "text": [
      "mutation='R700Q'\n"
     ]
    },
    {
     "name": "stdout",
     "output_type": "stream",
     "text": [
      "2022-03-14 15:53:16 |\u001B[33m WARNING  \u001B[0m| utils | interactor='P15498'\n"
     ]
    },
    {
     "name": "stderr",
     "output_type": "stream",
     "text": [
      "interactor='P15498'\n"
     ]
    },
    {
     "name": "stdout",
     "output_type": "stream",
     "text": [
      "2022-03-14 15:53:16 |\u001B[33m WARNING  \u001B[0m| utils | Took average of [-3.378 -3.414]\n"
     ]
    },
    {
     "name": "stderr",
     "output_type": "stream",
     "text": [
      "Took average of [-3.378 -3.414]\n"
     ]
    },
    {
     "name": "stdout",
     "output_type": "stream",
     "text": [
      "2022-03-14 15:53:16 |\u001B[33m WARNING  \u001B[0m| utils | protein='P20936'\n"
     ]
    },
    {
     "name": "stderr",
     "output_type": "stream",
     "text": [
      "protein='P20936'\n"
     ]
    },
    {
     "name": "stdout",
     "output_type": "stream",
     "text": [
      "2022-03-14 15:53:16 |\u001B[33m WARNING  \u001B[0m| utils | mutation='R427Q'\n"
     ]
    },
    {
     "name": "stderr",
     "output_type": "stream",
     "text": [
      "mutation='R427Q'\n"
     ]
    },
    {
     "name": "stdout",
     "output_type": "stream",
     "text": [
      "2022-03-14 15:53:16 |\u001B[33m WARNING  \u001B[0m| utils | interactor='P16333'\n"
     ]
    },
    {
     "name": "stderr",
     "output_type": "stream",
     "text": [
      "interactor='P16333'\n"
     ]
    },
    {
     "name": "stdout",
     "output_type": "stream",
     "text": [
      "2022-03-14 15:53:16 |\u001B[33m WARNING  \u001B[0m| utils | Took average of [-2.116 -2.232]\n"
     ]
    },
    {
     "name": "stderr",
     "output_type": "stream",
     "text": [
      "Took average of [-2.116 -2.232]\n"
     ]
    },
    {
     "name": "stdout",
     "output_type": "stream",
     "text": [
      "2022-03-14 15:53:17 |\u001B[33m WARNING  \u001B[0m| utils | protein='Q8NBB4'\n"
     ]
    },
    {
     "name": "stderr",
     "output_type": "stream",
     "text": [
      "protein='Q8NBB4'\n"
     ]
    },
    {
     "name": "stdout",
     "output_type": "stream",
     "text": [
      "2022-03-14 15:53:17 |\u001B[33m WARNING  \u001B[0m| utils | mutation='A89T'\n"
     ]
    },
    {
     "name": "stderr",
     "output_type": "stream",
     "text": [
      "mutation='A89T'\n"
     ]
    },
    {
     "name": "stdout",
     "output_type": "stream",
     "text": [
      "2022-03-14 15:53:17 |\u001B[33m WARNING  \u001B[0m| utils | interactor='Q96N95'\n"
     ]
    },
    {
     "name": "stderr",
     "output_type": "stream",
     "text": [
      "interactor='Q96N95'\n"
     ]
    },
    {
     "name": "stdout",
     "output_type": "stream",
     "text": [
      "2022-03-14 15:53:17 |\u001B[33m WARNING  \u001B[0m| utils | Took average of [-1.552 -1.514]\n"
     ]
    },
    {
     "name": "stderr",
     "output_type": "stream",
     "text": [
      "Took average of [-1.552 -1.514]\n"
     ]
    },
    {
     "name": "stdout",
     "output_type": "stream",
     "text": [
      "2022-03-14 15:53:18 |\u001B[33m WARNING  \u001B[0m| utils | protein='Q9UKW4'\n"
     ]
    },
    {
     "name": "stderr",
     "output_type": "stream",
     "text": [
      "protein='Q9UKW4'\n"
     ]
    },
    {
     "name": "stdout",
     "output_type": "stream",
     "text": [
      "2022-03-14 15:53:18 |\u001B[33m WARNING  \u001B[0m| utils | mutation='E685K'\n"
     ]
    },
    {
     "name": "stderr",
     "output_type": "stream",
     "text": [
      "mutation='E685K'\n"
     ]
    },
    {
     "name": "stdout",
     "output_type": "stream",
     "text": [
      "2022-03-14 15:53:18 |\u001B[33m WARNING  \u001B[0m| utils | interactor='P27986'\n"
     ]
    },
    {
     "name": "stderr",
     "output_type": "stream",
     "text": [
      "interactor='P27986'\n"
     ]
    },
    {
     "name": "stdout",
     "output_type": "stream",
     "text": [
      "2022-03-14 15:53:18 |\u001B[33m WARNING  \u001B[0m| utils | Took average of [-1.926 -1.931]\n"
     ]
    },
    {
     "name": "stderr",
     "output_type": "stream",
     "text": [
      "Took average of [-1.926 -1.931]\n"
     ]
    },
    {
     "name": "stdout",
     "output_type": "stream",
     "text": [
      "2022-03-14 15:53:19 |\u001B[33m WARNING  \u001B[0m| utils | protein='P42771'\n"
     ]
    },
    {
     "name": "stderr",
     "output_type": "stream",
     "text": [
      "protein='P42771'\n"
     ]
    },
    {
     "name": "stdout",
     "output_type": "stream",
     "text": [
      "2022-03-14 15:53:19 |\u001B[33m WARNING  \u001B[0m| utils | mutation='E88K'\n"
     ]
    },
    {
     "name": "stderr",
     "output_type": "stream",
     "text": [
      "mutation='E88K'\n"
     ]
    },
    {
     "name": "stdout",
     "output_type": "stream",
     "text": [
      "2022-03-14 15:53:19 |\u001B[33m WARNING  \u001B[0m| utils | interactor='Q9UQ88'\n"
     ]
    },
    {
     "name": "stderr",
     "output_type": "stream",
     "text": [
      "interactor='Q9UQ88'\n"
     ]
    },
    {
     "name": "stdout",
     "output_type": "stream",
     "text": [
      "2022-03-14 15:53:19 |\u001B[33m WARNING  \u001B[0m| utils | Took average of [-3.473 -3.484]\n"
     ]
    },
    {
     "name": "stderr",
     "output_type": "stream",
     "text": [
      "Took average of [-3.473 -3.484]\n"
     ]
    },
    {
     "name": "stdout",
     "output_type": "stream",
     "text": [
      "2022-03-14 15:53:20 |\u001B[33m WARNING  \u001B[0m| utils | protein='P46527'\n"
     ]
    },
    {
     "name": "stderr",
     "output_type": "stream",
     "text": [
      "protein='P46527'\n"
     ]
    },
    {
     "name": "stdout",
     "output_type": "stream",
     "text": [
      "2022-03-14 15:53:20 |\u001B[33m WARNING  \u001B[0m| utils | mutation='E78K'\n"
     ]
    },
    {
     "name": "stderr",
     "output_type": "stream",
     "text": [
      "mutation='E78K'\n"
     ]
    },
    {
     "name": "stdout",
     "output_type": "stream",
     "text": [
      "2022-03-14 15:53:20 |\u001B[33m WARNING  \u001B[0m| utils | interactor='Q9Y243'\n"
     ]
    },
    {
     "name": "stderr",
     "output_type": "stream",
     "text": [
      "interactor='Q9Y243'\n"
     ]
    },
    {
     "name": "stdout",
     "output_type": "stream",
     "text": [
      "2022-03-14 15:53:20 |\u001B[33m WARNING  \u001B[0m| utils | Took average of [-0.52  -0.587]\n"
     ]
    },
    {
     "name": "stderr",
     "output_type": "stream",
     "text": [
      "Took average of [-0.52  -0.587]\n"
     ]
    },
    {
     "name": "stdout",
     "output_type": "stream",
     "text": [
      "2022-03-14 15:53:21 |\u001B[33m WARNING  \u001B[0m| utils | protein='P13612'\n"
     ]
    },
    {
     "name": "stderr",
     "output_type": "stream",
     "text": [
      "protein='P13612'\n"
     ]
    },
    {
     "name": "stdout",
     "output_type": "stream",
     "text": [
      "2022-03-14 15:53:21 |\u001B[33m WARNING  \u001B[0m| utils | mutation='K363N'\n"
     ]
    },
    {
     "name": "stderr",
     "output_type": "stream",
     "text": [
      "mutation='K363N'\n"
     ]
    },
    {
     "name": "stdout",
     "output_type": "stream",
     "text": [
      "2022-03-14 15:53:21 |\u001B[33m WARNING  \u001B[0m| utils | interactor='P16144'\n"
     ]
    },
    {
     "name": "stderr",
     "output_type": "stream",
     "text": [
      "interactor='P16144'\n"
     ]
    },
    {
     "name": "stdout",
     "output_type": "stream",
     "text": [
      "2022-03-14 15:53:21 |\u001B[33m WARNING  \u001B[0m| utils | Took average of [-1.07  -1.059]\n"
     ]
    },
    {
     "name": "stderr",
     "output_type": "stream",
     "text": [
      "Took average of [-1.07  -1.059]\n"
     ]
    }
   ],
   "source": [
    "brca_class_1_confidence_80_provean_added = ProveanScoreAttaching(\n",
    "    tcga_high_increasing_noeffect_data=brca_class_1_confidence_80,\n",
    "    tcga=\"BRCA\",\n",
    "    tcga_elaspic_results_data_path=BRCA_INTERFACE_DATA_PATH\n",
    ").attach_provean_scores()\n",
    "\n",
    "coad_class_1_confidence_80_provean_added = ProveanScoreAttaching(\n",
    "    tcga_high_increasing_noeffect_data=coad_class_1_confidence_80,\n",
    "    tcga=\"COAD\",\n",
    "    tcga_elaspic_results_data_path=COAD_INTERFACE_DATA_PATH\n",
    ").attach_provean_scores()\n",
    "\n",
    "esca_class_1_confidence_80_provean_added = ProveanScoreAttaching(\n",
    "    tcga_high_increasing_noeffect_data=esca_class_1_confidence_80,\n",
    "    tcga=\"ESCA\",\n",
    "    tcga_elaspic_results_data_path=ESCA_INTERFACE_DATA_PATH\n",
    ").attach_provean_scores()\n",
    "\n",
    "gbm_class_1_confidence_80_provean_added = ProveanScoreAttaching(\n",
    "    tcga_high_increasing_noeffect_data=gbm_class_1_confidence_80,\n",
    "    tcga=\"GBM\",\n",
    "    tcga_elaspic_results_data_path=GBM_INTERFACE_DATA_PATH\n",
    ").attach_provean_scores()\n",
    "\n",
    "hnsc_class_1_confidence_80_provean_added = ProveanScoreAttaching(\n",
    "    tcga_high_increasing_noeffect_data=hnsc_class_1_confidence_80,\n",
    "    tcga=\"HNSC\",\n",
    "    tcga_elaspic_results_data_path=HNSC_INTERFACE_DATA_PATH\n",
    ").attach_provean_scores()\n",
    "\n",
    "ov_class_1_confidence_80_provean_added = ProveanScoreAttaching(\n",
    "    tcga_high_increasing_noeffect_data=ov_class_1_confidence_80,\n",
    "    tcga=\"OV\",\n",
    "    tcga_elaspic_results_data_path=OV_INTERFACE_DATA_PATH\n",
    ").attach_provean_scores()"
   ],
   "metadata": {
    "collapsed": false,
    "pycharm": {
     "name": "#%%\n"
    }
   }
  },
  {
   "cell_type": "code",
   "execution_count": 7,
   "outputs": [],
   "source": [],
   "metadata": {
    "collapsed": false,
    "pycharm": {
     "name": "#%%\n"
    }
   }
  },
  {
   "cell_type": "markdown",
   "source": [
    "## Export the results"
   ],
   "metadata": {
    "collapsed": false
   }
  },
  {
   "cell_type": "markdown",
   "source": [
    "For now, I just extracted with confidence 0.80 or above."
   ],
   "metadata": {
    "collapsed": false,
    "pycharm": {
     "name": "#%% md\n"
    }
   }
  },
  {
   "cell_type": "code",
   "execution_count": 9,
   "outputs": [],
   "source": [
    "import os.path as op\n",
    "\n",
    "\n",
    "file_date = datetime.today().strftime('%Y-%m-%d')\n",
    "confidence = \"0.80\"\n",
    "export_results_folder_path = op.join(\"Results\", confidence)"
   ],
   "metadata": {
    "collapsed": false,
    "pycharm": {
     "name": "#%%\n"
    }
   }
  },
  {
   "cell_type": "code",
   "execution_count": 11,
   "outputs": [],
   "source": [
    "brca_class_1_confidence_80_provean_added.to_csv(\n",
    "    op.join(export_results_folder_path, f\"BRCA_high_confidence_class_1_{confidence}_{file_date}.csv\"), index=False\n",
    ")\n",
    "coad_class_1_confidence_80_provean_added.to_csv(\n",
    "    op.join(export_results_folder_path, f\"COAD_high_confidence_class_1_{confidence}_{file_date}.csv\"), index=False\n",
    ")\n",
    "esca_class_1_confidence_80_provean_added.to_csv(\n",
    "    op.join(export_results_folder_path, f\"ESCA_high_confidence_class_1_{confidence}_{file_date}.csv\"), index=False\n",
    ")\n",
    "gbm_class_1_confidence_80_provean_added.to_csv(\n",
    "    op.join(export_results_folder_path, f\"GBM_high_confidence_class_1_{confidence}_{file_date}.csv\"), index=False\n",
    ")\n",
    "hnsc_class_1_confidence_80_provean_added.to_csv(\n",
    "    op.join(export_results_folder_path, f\"HNSC_high_confidence_class_1_{confidence}_{file_date}.csv\"), index=False\n",
    ")\n",
    "ov_class_1_confidence_80_provean_added.to_csv(\n",
    "    op.join(export_results_folder_path, f\"OV_high_confidence_class_1_{confidence}_{file_date}.csv\"), index=False\n",
    ")"
   ],
   "metadata": {
    "collapsed": false,
    "pycharm": {
     "name": "#%%\n"
    }
   }
  },
  {
   "cell_type": "code",
   "execution_count": 11,
   "outputs": [],
   "source": [],
   "metadata": {
    "collapsed": false,
    "pycharm": {
     "name": "#%%\n"
    }
   }
  },
  {
   "cell_type": "markdown",
   "source": [
    "# ---"
   ],
   "metadata": {
    "collapsed": false,
    "pycharm": {
     "name": "#%% md\n"
    }
   }
  },
  {
   "cell_type": "code",
   "execution_count": null,
   "outputs": [],
   "source": [],
   "metadata": {
    "collapsed": false,
    "pycharm": {
     "name": "#%%\n"
    }
   }
  }
 ],
 "metadata": {
  "kernelspec": {
   "display_name": "Python 3",
   "language": "python",
   "name": "python3"
  },
  "language_info": {
   "codemirror_mode": {
    "name": "ipython",
    "version": 2
   },
   "file_extension": ".py",
   "mimetype": "text/x-python",
   "name": "python",
   "nbconvert_exporter": "python",
   "pygments_lexer": "ipython2",
   "version": "2.7.6"
  }
 },
 "nbformat": 4,
 "nbformat_minor": 0
}