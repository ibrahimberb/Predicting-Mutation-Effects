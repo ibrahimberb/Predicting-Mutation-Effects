{
 "cells": [
  {
   "cell_type": "markdown",
   "id": "a507755d-7d6d-42e6-8c83-44ed01e1fe5c",
   "metadata": {},
   "source": [
    "# Mutual Exclusivity: BRCA"
   ]
  },
  {
   "cell_type": "code",
   "execution_count": 1,
   "id": "a9942580-be24-4b17-b45b-918d3b3f153a",
   "metadata": {},
   "outputs": [],
   "source": [
    "import os\n",
    "import os.path as op\n",
    "\n",
    "os.chdir('../')\n",
    "\n",
    "# os.listdir()"
   ]
  },
  {
   "cell_type": "code",
   "execution_count": 2,
   "id": "91c19c2c-491d-4b6e-bdfb-248f2bb0f7ce",
   "metadata": {},
   "outputs": [],
   "source": [
    "# SNV_PATHS\n",
    "SNV_COMMON_PATH = \"C:/Users/ibrah/Desktop/SNV_data/SNV_datasets/\"\n",
    "BRCA_SNV_PATH = op.join(SNV_COMMON_PATH, \"SNV_BRCA_hg38_2021-09-22.csv\")\n",
    "\n",
    "BRCA_PRELIMINARY_DATA_PATH = r\"../data/predictions_datasets/brca_prediction_2021-11-17/558297b6/brca_preliminary_data_cgc_2021-11-17.xlsx\"\n",
    "\n",
    "# PATIENT INTERACTION DATA PATHS\n",
    "BRCA_PATIENT_INTERACTION_DATA_PATH = \"../data/patient_interaction_datasets/BRCA_patient_interactions_analysis_table_2021-11-17.xlsx\"\n",
    "\n",
    "# Reflect changes in the modules immediately.\n",
    "%load_ext autoreload\n",
    "%autoreload 2"
   ]
  },
  {
   "cell_type": "code",
   "execution_count": 3,
   "id": "8b4bb5d5-7339-4c1d-9311-7fd0400a8cf3",
   "metadata": {},
   "outputs": [],
   "source": [
    "from helpers.helpers_analysis.mutual_exclusivity import MutualExclusivity\n",
    "from helpers.helpers_analysis.protein_id_retrieval import ProteinIDFetcher"
   ]
  },
  {
   "cell_type": "code",
   "execution_count": 4,
   "id": "4564f2f4-948b-4ce9-bc8d-d23c3a0b35b0",
   "metadata": {},
   "outputs": [
    {
     "name": "stdout",
     "output_type": "stream",
     "text": [
      "2021-11-20 01:49:29 |\u001b[36m DEBUG    \u001b[0m| helpers.helpers_analysis.mutual_exclusivity | Loading SNV data simplified ..\n",
      "2021-11-20 01:49:29 |\u001b[32m INFO     \u001b[0m| helpers.helpers_analysis.loaders | Loading BRCA SNV datasets ..\n",
      "2021-11-20 01:49:34 |\u001b[36m DEBUG    \u001b[0m| helpers.helpers_analysis.loaders | BRCA SNV data size: (120988, 121)\n",
      "2021-11-20 01:49:34 |\u001b[36m DEBUG    \u001b[0m| helpers.helpers_analysis.loaders | BRCA SNV data processed size: (60251, 121)\n",
      "2021-11-20 01:49:34 |\u001b[32m INFO     \u001b[0m| helpers.helpers_analysis.loaders | BRCA SNV datasets are loaded.\n",
      "2021-11-20 01:49:34 |\u001b[36m DEBUG    \u001b[0m| helpers.helpers_analysis.mutual_exclusivity | Loading patient ids ..\n",
      "2021-11-20 01:49:34 |\u001b[36m DEBUG    \u001b[0m| helpers.helpers_analysis.mutual_exclusivity | Loading patient to snv_data ..\n"
     ]
    },
    {
     "data": {
      "application/vnd.jupyter.widget-view+json": {
       "model_id": "237323e459af410d96b7c1ed86911dc4",
       "version_major": 2,
       "version_minor": 0
      },
      "text/plain": [
       "  0%|          | 0/985 [00:00<?, ?it/s]"
      ]
     },
     "metadata": {},
     "output_type": "display_data"
    },
    {
     "name": "stdout",
     "output_type": "stream",
     "text": [
      "2021-11-20 01:49:39 |\u001b[36m DEBUG    \u001b[0m| helpers.helpers_analysis.mutual_exclusivity | patient interaction data patient data ..\n"
     ]
    }
   ],
   "source": [
    "brca_mutex = MutualExclusivity(\n",
    "    tcga=\"BRCA\", \n",
    "    tcga_snv_path=BRCA_SNV_PATH, \n",
    "    patient_interaction_data_path=BRCA_PATIENT_INTERACTION_DATA_PATH\n",
    ")"
   ]
  },
  {
   "cell_type": "code",
   "execution_count": 5,
   "id": "5268b0f6-9528-4337-84c0-a099971aa754",
   "metadata": {},
   "outputs": [
    {
     "data": {
      "text/plain": [
       "985"
      ]
     },
     "execution_count": 5,
     "metadata": {},
     "output_type": "execute_result"
    }
   ],
   "source": [
    "len(brca_mutex.patients)"
   ]
  },
  {
   "cell_type": "code",
   "execution_count": 6,
   "id": "a1adf927-6abf-4712-92cb-778bd92a1f31",
   "metadata": {},
   "outputs": [
    {
     "data": {
      "text/plain": [
       "204"
      ]
     },
     "execution_count": 6,
     "metadata": {},
     "output_type": "execute_result"
    }
   ],
   "source": [
    "len(brca_mutex.get_patients_with(\"P04637\", identifier_type=\"protein\"))"
   ]
  },
  {
   "cell_type": "code",
   "execution_count": 7,
   "id": "75b28d84-8d81-484e-b9cd-e046eb3cbb8d",
   "metadata": {},
   "outputs": [
    {
     "data": {
      "text/plain": [
       "27"
      ]
     },
     "execution_count": 7,
     "metadata": {},
     "output_type": "execute_result"
    }
   ],
   "source": [
    "len(brca_mutex.get_patients_with(\"P04626\", identifier_type=\"protein\"))"
   ]
  },
  {
   "cell_type": "code",
   "execution_count": 8,
   "id": "533c31a0-2ae1-4ad8-a0e0-5e321a1bb8f0",
   "metadata": {},
   "outputs": [
    {
     "data": {
      "text/plain": [
       "['P04626', 'J3QLU9']"
      ]
     },
     "execution_count": 8,
     "metadata": {},
     "output_type": "execute_result"
    }
   ],
   "source": [
    "ProteinIDFetcher().fetch(\"ERBB2\")"
   ]
  },
  {
   "cell_type": "code",
   "execution_count": 9,
   "id": "841d5383-eb26-4ec0-903c-7f39723b72e3",
   "metadata": {},
   "outputs": [
    {
     "data": {
      "text/plain": [
       "27"
      ]
     },
     "execution_count": 9,
     "metadata": {},
     "output_type": "execute_result"
    }
   ],
   "source": [
    "len(brca_mutex.get_patients_with(\"P04626\", identifier_type=\"protein\"))"
   ]
  },
  {
   "cell_type": "code",
   "execution_count": 10,
   "id": "5dc65bc7-ee86-43e0-aba4-b4b5ea63aaa5",
   "metadata": {},
   "outputs": [
    {
     "data": {
      "text/plain": [
       "0"
      ]
     },
     "execution_count": 10,
     "metadata": {},
     "output_type": "execute_result"
    }
   ],
   "source": [
    "len(brca_mutex.get_patients_with(\"J3QLU9\", identifier_type=\"protein\"))"
   ]
  },
  {
   "cell_type": "code",
   "execution_count": null,
   "id": "b43e2f8d-e1cb-4bca-9f97-70bbcff048d5",
   "metadata": {},
   "outputs": [],
   "source": []
  },
  {
   "cell_type": "code",
   "execution_count": 11,
   "id": "c97d9e04-c989-4eb6-b605-87ac331bf478",
   "metadata": {},
   "outputs": [],
   "source": [
    "import pandas as pd"
   ]
  },
  {
   "cell_type": "code",
   "execution_count": 12,
   "id": "0ac0658e-9d7d-4422-8385-0e91401f889b",
   "metadata": {},
   "outputs": [
    {
     "data": {
      "text/html": [
       "<div>\n",
       "<style scoped>\n",
       "    .dataframe tbody tr th:only-of-type {\n",
       "        vertical-align: middle;\n",
       "    }\n",
       "\n",
       "    .dataframe tbody tr th {\n",
       "        vertical-align: top;\n",
       "    }\n",
       "\n",
       "    .dataframe thead th {\n",
       "        text-align: right;\n",
       "    }\n",
       "</style>\n",
       "<table border=\"1\" class=\"dataframe\">\n",
       "  <thead>\n",
       "    <tr style=\"text-align: right;\">\n",
       "      <th></th>\n",
       "      <th>PROTEIN</th>\n",
       "      <th>GENE</th>\n",
       "      <th>NUM_ELASPIC_INTERFACE_ENTRIES</th>\n",
       "      <th>NUM_DISRUPTIVE_ENTRIES</th>\n",
       "      <th>NUM_INCR_NOEFF_ENTRIES</th>\n",
       "      <th>NUM_UNIQUE_INTERACTORS</th>\n",
       "      <th>PATIENT_CORE_COUNT</th>\n",
       "      <th>PATIENT_INTERFACE_COUNT</th>\n",
       "      <th>NUM_INTERFACE_PATIENTS_DISRUPTIVE_INTERACTOR</th>\n",
       "      <th>BASELINE</th>\n",
       "      <th>OUR_METHOD</th>\n",
       "      <th>OUR_METHOD/BASELINE</th>\n",
       "      <th>ELASPIC_COVERAGE</th>\n",
       "      <th>CGC_STATUS</th>\n",
       "      <th>CGC_STATUS (BRCA)</th>\n",
       "    </tr>\n",
       "  </thead>\n",
       "  <tbody>\n",
       "    <tr>\n",
       "      <th>0</th>\n",
       "      <td>A0AV96</td>\n",
       "      <td>RBM47</td>\n",
       "      <td>0</td>\n",
       "      <td>0</td>\n",
       "      <td>0</td>\n",
       "      <td>0</td>\n",
       "      <td>2</td>\n",
       "      <td>0</td>\n",
       "      <td>0</td>\n",
       "      <td>0</td>\n",
       "      <td>0</td>\n",
       "      <td>NaN</td>\n",
       "      <td>2</td>\n",
       "      <td>-</td>\n",
       "      <td>-</td>\n",
       "    </tr>\n",
       "    <tr>\n",
       "      <th>1</th>\n",
       "      <td>A0AVF1</td>\n",
       "      <td>TTC26</td>\n",
       "      <td>0</td>\n",
       "      <td>0</td>\n",
       "      <td>0</td>\n",
       "      <td>0</td>\n",
       "      <td>1</td>\n",
       "      <td>0</td>\n",
       "      <td>0</td>\n",
       "      <td>0</td>\n",
       "      <td>0</td>\n",
       "      <td>NaN</td>\n",
       "      <td>1</td>\n",
       "      <td>-</td>\n",
       "      <td>-</td>\n",
       "    </tr>\n",
       "    <tr>\n",
       "      <th>2</th>\n",
       "      <td>A0AVI2</td>\n",
       "      <td>FER1L5</td>\n",
       "      <td>0</td>\n",
       "      <td>0</td>\n",
       "      <td>0</td>\n",
       "      <td>0</td>\n",
       "      <td>6</td>\n",
       "      <td>0</td>\n",
       "      <td>0</td>\n",
       "      <td>0</td>\n",
       "      <td>0</td>\n",
       "      <td>NaN</td>\n",
       "      <td>6</td>\n",
       "      <td>-</td>\n",
       "      <td>-</td>\n",
       "    </tr>\n",
       "  </tbody>\n",
       "</table>\n",
       "</div>"
      ],
      "text/plain": [
       "  PROTEIN    GENE  NUM_ELASPIC_INTERFACE_ENTRIES  NUM_DISRUPTIVE_ENTRIES  \\\n",
       "0  A0AV96   RBM47                              0                       0   \n",
       "1  A0AVF1   TTC26                              0                       0   \n",
       "2  A0AVI2  FER1L5                              0                       0   \n",
       "\n",
       "   NUM_INCR_NOEFF_ENTRIES  NUM_UNIQUE_INTERACTORS  PATIENT_CORE_COUNT  \\\n",
       "0                       0                       0                   2   \n",
       "1                       0                       0                   1   \n",
       "2                       0                       0                   6   \n",
       "\n",
       "   PATIENT_INTERFACE_COUNT  NUM_INTERFACE_PATIENTS_DISRUPTIVE_INTERACTOR  \\\n",
       "0                        0                                             0   \n",
       "1                        0                                             0   \n",
       "2                        0                                             0   \n",
       "\n",
       "   BASELINE  OUR_METHOD  OUR_METHOD/BASELINE  ELASPIC_COVERAGE CGC_STATUS  \\\n",
       "0         0           0                  NaN                 2          -   \n",
       "1         0           0                  NaN                 1          -   \n",
       "2         0           0                  NaN                 6          -   \n",
       "\n",
       "  CGC_STATUS (BRCA)  \n",
       "0                 -  \n",
       "1                 -  \n",
       "2                 -  "
      ]
     },
     "execution_count": 12,
     "metadata": {},
     "output_type": "execute_result"
    }
   ],
   "source": [
    "brca_preliminary_data = pd.read_excel(BRCA_PRELIMINARY_DATA_PATH)\n",
    "brca_preliminary_data.head(3)"
   ]
  },
  {
   "cell_type": "code",
   "execution_count": 13,
   "id": "41f49f27-cdf4-4fa8-bc5d-6070e45b6d3a",
   "metadata": {},
   "outputs": [],
   "source": [
    "def apply_filtering_conditions(data):\n",
    "    data_filtered = data[\n",
    "        (data[\"NUM_ELASPIC_INTERFACE_ENTRIES\"] >= 10) &\n",
    "        (data[\"PATIENT_INTERFACE_COUNT\"] > 5)\n",
    "    ]\n",
    "    \n",
    "    protein_gene_pairs = list(zip(data_filtered[\"PROTEIN\"], data_filtered[\"GENE\"]))\n",
    "    return protein_gene_pairs"
   ]
  },
  {
   "cell_type": "code",
   "execution_count": 14,
   "id": "238c1cb6-a548-4ba2-8ecf-4313967d1541",
   "metadata": {},
   "outputs": [
    {
     "data": {
      "text/plain": [
       "[('O75582', 'RPS6KA5'),\n",
       " ('P04626', 'ERBB2'),\n",
       " ('P04637', 'TP53'),\n",
       " ('P0CG48', 'UBC'),\n",
       " ('P21860', 'ERBB3'),\n",
       " ('P42336', 'PIK3CA'),\n",
       " ('P45985', 'MAP2K4'),\n",
       " ('P62805', 'H4C1'),\n",
       " ('P62807', 'H2BC4'),\n",
       " ('P68431', 'H3C1'),\n",
       " ('Q13951', 'CBFB'),\n",
       " ('Q14790', 'CASP8')]"
      ]
     },
     "execution_count": 14,
     "metadata": {},
     "output_type": "execute_result"
    }
   ],
   "source": [
    "protein_gene_list = apply_filtering_conditions(brca_preliminary_data)\n",
    "protein_gene_list"
   ]
  },
  {
   "cell_type": "code",
   "execution_count": null,
   "id": "83b5d662-d4aa-47d4-8021-c6df5d20c25e",
   "metadata": {},
   "outputs": [],
   "source": []
  },
  {
   "cell_type": "code",
   "execution_count": 17,
   "id": "17c64dce-c72c-4613-ba99-6c53172f76fc",
   "metadata": {
    "scrolled": true,
    "tags": []
   },
   "outputs": [
    {
     "name": "stdout",
     "output_type": "stream",
     "text": [
      "PROTEIN_GENE: O75582_RPS6KA5\n",
      "2021-11-20 01:52:33 |\u001b[32m INFO     \u001b[0m| helpers.helpers_analysis.mutual_exclusivity | Calculating Mutual Exclusivity over O75582's interactors ..\n",
      "2021-11-20 01:52:33 |\u001b[36m DEBUG    \u001b[0m| helpers.helpers_analysis.mutual_exclusivity | O75582 have 6 interactors:\n",
      "['Q15759:MAPK11', 'Q15418:RPS6KA1', 'Q16539:MAPK14', 'L7RSM2:MAPK14', 'Q9UK32:RPS6KA6', 'P67870:CSNK2B']\n",
      "2021-11-20 01:52:33 |\u001b[36m DEBUG    \u001b[0m| helpers.helpers_analysis.mutual_exclusivity | Exporting Mutual Exclusivity BRCA O75582 ..\n",
      "2021-11-20 01:52:33 |\u001b[33m WARNING  \u001b[0m| helpers.helpers_analysis.mutual_exclusivity | File dev\\mutex_testing\\BRCA_O75582_RPS6KA5_2021-11-20.csv is already exist.\n",
      "To overwrite existing file, use `overwrite=True`.\n",
      "PROTEIN_GENE: P04626_ERBB2\n",
      "2021-11-20 01:52:33 |\u001b[32m INFO     \u001b[0m| helpers.helpers_analysis.mutual_exclusivity | Calculating Mutual Exclusivity over P04626's interactors ..\n",
      "2021-11-20 01:52:33 |\u001b[36m DEBUG    \u001b[0m| helpers.helpers_analysis.mutual_exclusivity | P04626 have 15 interactors:\n",
      "['Q96SB4:SRPK1', 'P00533:EGFR', 'P51813:BMX', 'Q14289:PTK2B', 'P16591:FER', 'P06241:FYN', 'P08069:IGF1R', 'Q13153:PAK1', 'P42680:TEC', 'P21860:ERBB3', 'O60674:JAK2', 'P15153:RAC2', 'Q9UJM3:ERRFI1', 'Q92625:ANKS1A', 'P23458:JAK1']\n",
      "2021-11-20 01:52:33 |\u001b[36m DEBUG    \u001b[0m| helpers.helpers_analysis.mutual_exclusivity | Exporting Mutual Exclusivity BRCA P04626 ..\n",
      "2021-11-20 01:52:33 |\u001b[33m WARNING  \u001b[0m| helpers.helpers_analysis.mutual_exclusivity | File dev\\mutex_testing\\BRCA_P04626_ERBB2_2021-11-20.csv is already exist.\n",
      "To overwrite existing file, use `overwrite=True`.\n",
      "PROTEIN_GENE: P04637_TP53\n",
      "2021-11-20 01:52:33 |\u001b[32m INFO     \u001b[0m| helpers.helpers_analysis.mutual_exclusivity | Calculating Mutual Exclusivity over P04637's interactors ..\n",
      "2021-11-20 01:52:33 |\u001b[36m DEBUG    \u001b[0m| helpers.helpers_analysis.mutual_exclusivity | P04637 have 15 interactors:\n",
      "['Q13625:TP53BP2', 'Q96KQ4:PPP1R13B', 'P62993:GRB2', 'Q06187:BTK', 'Q8WUF5:PPP1R13L', 'Q9H3D4:TP63', 'H2EHT1:TP53', 'K7PPA8:TP53', 'Q96KQ7:EHMT2', 'O15350:TP73', 'P07948:LYN', 'Q9H9B1:EHMT1', 'Q99728:BARD1', 'O75832:PSMD10', 'Q9ULT8:HECTD1']\n",
      "2021-11-20 01:52:33 |\u001b[36m DEBUG    \u001b[0m| helpers.helpers_analysis.mutual_exclusivity | Exporting Mutual Exclusivity BRCA P04637 ..\n",
      "2021-11-20 01:52:33 |\u001b[33m WARNING  \u001b[0m| helpers.helpers_analysis.mutual_exclusivity | File dev\\mutex_testing\\BRCA_P04637_TP53_2021-11-20.csv is already exist.\n",
      "To overwrite existing file, use `overwrite=True`.\n",
      "PROTEIN_GENE: P0CG48_UBC\n",
      "2021-11-20 01:52:33 |\u001b[32m INFO     \u001b[0m| helpers.helpers_analysis.mutual_exclusivity | Calculating Mutual Exclusivity over P0CG48's interactors ..\n",
      "2021-11-20 01:52:33 |\u001b[36m DEBUG    \u001b[0m| helpers.helpers_analysis.mutual_exclusivity | P0CG48 have 5 interactors:\n",
      "['P21734:UBC1', 'P61077:UBE2D3', 'Q9UMX0:UBQLN1', 'A8K3R3:nan', 'Q99816:TSG101']\n",
      "2021-11-20 01:52:33 |\u001b[36m DEBUG    \u001b[0m| helpers.helpers_analysis.mutual_exclusivity | Exporting Mutual Exclusivity BRCA P0CG48 ..\n",
      "2021-11-20 01:52:33 |\u001b[33m WARNING  \u001b[0m| helpers.helpers_analysis.mutual_exclusivity | File dev\\mutex_testing\\BRCA_P0CG48_UBC_2021-11-20.csv is already exist.\n",
      "To overwrite existing file, use `overwrite=True`.\n",
      "PROTEIN_GENE: P21860_ERBB3\n",
      "2021-11-20 01:52:33 |\u001b[32m INFO     \u001b[0m| helpers.helpers_analysis.mutual_exclusivity | Calculating Mutual Exclusivity over P21860's interactors ..\n",
      "2021-11-20 01:52:33 |\u001b[36m DEBUG    \u001b[0m| helpers.helpers_analysis.mutual_exclusivity | P21860 have 8 interactors:\n",
      "['Q00535:CDK5', 'P04626:ERBB2', 'Q15303:ERBB4', 'Q05397:PTK2', 'O60674:JAK2', 'P43403:ZAP70', 'P42681:TXK', 'P00533:EGFR']\n",
      "2021-11-20 01:52:33 |\u001b[36m DEBUG    \u001b[0m| helpers.helpers_analysis.mutual_exclusivity | Exporting Mutual Exclusivity BRCA P21860 ..\n",
      "2021-11-20 01:52:33 |\u001b[33m WARNING  \u001b[0m| helpers.helpers_analysis.mutual_exclusivity | File dev\\mutex_testing\\BRCA_P21860_ERBB3_2021-11-20.csv is already exist.\n",
      "To overwrite existing file, use `overwrite=True`.\n",
      "PROTEIN_GENE: P42336_PIK3CA\n",
      "2021-11-20 01:52:33 |\u001b[32m INFO     \u001b[0m| helpers.helpers_analysis.mutual_exclusivity | Calculating Mutual Exclusivity over P42336's interactors ..\n",
      "2021-11-20 01:52:33 |\u001b[36m DEBUG    \u001b[0m| helpers.helpers_analysis.mutual_exclusivity | P42336 have 4 interactors:\n",
      "['P27986:PIK3R1', 'O00459:PIK3R2', 'P43403:ZAP70', 'Q92569:PIK3R3']\n",
      "2021-11-20 01:52:34 |\u001b[36m DEBUG    \u001b[0m| helpers.helpers_analysis.mutual_exclusivity | Exporting Mutual Exclusivity BRCA P42336 ..\n",
      "2021-11-20 01:52:34 |\u001b[33m WARNING  \u001b[0m| helpers.helpers_analysis.mutual_exclusivity | File dev\\mutex_testing\\BRCA_P42336_PIK3CA_2021-11-20.csv is already exist.\n",
      "To overwrite existing file, use `overwrite=True`.\n",
      "PROTEIN_GENE: P45985_MAP2K4\n",
      "2021-11-20 01:52:34 |\u001b[32m INFO     \u001b[0m| helpers.helpers_analysis.mutual_exclusivity | Calculating Mutual Exclusivity over P45985's interactors ..\n",
      "2021-11-20 01:52:34 |\u001b[36m DEBUG    \u001b[0m| helpers.helpers_analysis.mutual_exclusivity | P45985 have 7 interactors:\n",
      "['Q5S007:LRRK2', 'P52564:MAP2K6', 'Q16539:MAPK14', 'P00533:EGFR', 'P35916:FLT4', 'Q99558:MAP3K14', 'P45984:MAPK9']\n",
      "2021-11-20 01:52:34 |\u001b[36m DEBUG    \u001b[0m| helpers.helpers_analysis.mutual_exclusivity | Exporting Mutual Exclusivity BRCA P45985 ..\n",
      "2021-11-20 01:52:34 |\u001b[33m WARNING  \u001b[0m| helpers.helpers_analysis.mutual_exclusivity | File dev\\mutex_testing\\BRCA_P45985_MAP2K4_2021-11-20.csv is already exist.\n",
      "To overwrite existing file, use `overwrite=True`.\n",
      "PROTEIN_GENE: P62805_H4C1\n",
      "2021-11-20 01:52:34 |\u001b[32m INFO     \u001b[0m| helpers.helpers_analysis.mutual_exclusivity | Calculating Mutual Exclusivity over P62805's interactors ..\n",
      "2021-11-20 01:52:34 |\u001b[36m DEBUG    \u001b[0m| helpers.helpers_analysis.mutual_exclusivity | P62805 have 16 interactors:\n",
      "['P68431:H3C1', 'P84243:H3-3A', 'Q71DI3:H3C15', 'Q16695:H3-4', 'P49450:CENPA', 'B4E1C1:nan', 'Q9UER7:DAXX', 'Q53F85:nan', 'Q16514:TAF12', 'P04908:H2AC4', 'P0C0S5:H2AZ1', 'Q16777:H2AC20', 'P06899:H2BC11', 'Q16778:H2BC21', 'P16104:H2AX', 'Q9Y294:ASF1A']\n",
      "2021-11-20 01:52:34 |\u001b[36m DEBUG    \u001b[0m| helpers.helpers_analysis.mutual_exclusivity | Exporting Mutual Exclusivity BRCA P62805 ..\n",
      "2021-11-20 01:52:34 |\u001b[33m WARNING  \u001b[0m| helpers.helpers_analysis.mutual_exclusivity | File dev\\mutex_testing\\BRCA_P62805_H4C1_2021-11-20.csv is already exist.\n",
      "To overwrite existing file, use `overwrite=True`.\n",
      "PROTEIN_GENE: P62807_H2BC4\n",
      "2021-11-20 01:52:34 |\u001b[32m INFO     \u001b[0m| helpers.helpers_analysis.mutual_exclusivity | Calculating Mutual Exclusivity over P62807's interactors ..\n",
      "2021-11-20 01:52:34 |\u001b[36m DEBUG    \u001b[0m| helpers.helpers_analysis.mutual_exclusivity | P62807 have 1 interactors:\n",
      "['P16104:H2AX']\n",
      "2021-11-20 01:52:34 |\u001b[36m DEBUG    \u001b[0m| helpers.helpers_analysis.mutual_exclusivity | Exporting Mutual Exclusivity BRCA P62807 ..\n",
      "2021-11-20 01:52:34 |\u001b[33m WARNING  \u001b[0m| helpers.helpers_analysis.mutual_exclusivity | File dev\\mutex_testing\\BRCA_P62807_H2BC4_2021-11-20.csv is already exist.\n",
      "To overwrite existing file, use `overwrite=True`.\n",
      "PROTEIN_GENE: P68431_H3C1\n",
      "2021-11-20 01:52:34 |\u001b[32m INFO     \u001b[0m| helpers.helpers_analysis.mutual_exclusivity | Calculating Mutual Exclusivity over P68431's interactors ..\n",
      "2021-11-20 01:52:34 |\u001b[36m DEBUG    \u001b[0m| helpers.helpers_analysis.mutual_exclusivity | P68431 have 11 interactors:\n",
      "['P62805:H4C1', 'Q9UER7:DAXX', 'P04908:H2AC4', 'P16104:H2AX', 'P0C0S8:H2AC11', 'O75367:MACROH2A1', 'P0C0S5:H2AZ1', 'Q16777:H2AC20', 'Q9Y294:ASF1A', 'Q9NVP2:ASF1B', 'P49450:CENPA']\n",
      "2021-11-20 01:52:34 |\u001b[36m DEBUG    \u001b[0m| helpers.helpers_analysis.mutual_exclusivity | Exporting Mutual Exclusivity BRCA P68431 ..\n",
      "2021-11-20 01:52:34 |\u001b[33m WARNING  \u001b[0m| helpers.helpers_analysis.mutual_exclusivity | File dev\\mutex_testing\\BRCA_P68431_H3C1_2021-11-20.csv is already exist.\n",
      "To overwrite existing file, use `overwrite=True`.\n",
      "PROTEIN_GENE: Q13951_CBFB\n",
      "2021-11-20 01:52:34 |\u001b[32m INFO     \u001b[0m| helpers.helpers_analysis.mutual_exclusivity | Calculating Mutual Exclusivity over Q13951's interactors ..\n",
      "2021-11-20 01:52:34 |\u001b[36m DEBUG    \u001b[0m| helpers.helpers_analysis.mutual_exclusivity | Q13951 have 2 interactors:\n",
      "['Q13950:RUNX2', 'Q13761:RUNX3']\n",
      "2021-11-20 01:52:34 |\u001b[36m DEBUG    \u001b[0m| helpers.helpers_analysis.mutual_exclusivity | Exporting Mutual Exclusivity BRCA Q13951 ..\n",
      "2021-11-20 01:52:34 |\u001b[33m WARNING  \u001b[0m| helpers.helpers_analysis.mutual_exclusivity | File dev\\mutex_testing\\BRCA_Q13951_CBFB_2021-11-20.csv is already exist.\n",
      "To overwrite existing file, use `overwrite=True`.\n",
      "PROTEIN_GENE: Q14790_CASP8\n",
      "2021-11-20 01:52:34 |\u001b[32m INFO     \u001b[0m| helpers.helpers_analysis.mutual_exclusivity | Calculating Mutual Exclusivity over Q14790's interactors ..\n",
      "2021-11-20 01:52:34 |\u001b[36m DEBUG    \u001b[0m| helpers.helpers_analysis.mutual_exclusivity | Q14790 have 5 interactors:\n",
      "['P42575:CASP2', 'P49662:CASP4', 'P55211:CASP9', 'P55210:CASP7', 'B4DWA2:nan']\n",
      "2021-11-20 01:52:34 |\u001b[36m DEBUG    \u001b[0m| helpers.helpers_analysis.mutual_exclusivity | Exporting Mutual Exclusivity BRCA Q14790 ..\n",
      "2021-11-20 01:52:34 |\u001b[33m WARNING  \u001b[0m| helpers.helpers_analysis.mutual_exclusivity | File dev\\mutex_testing\\BRCA_Q14790_CASP8_2021-11-20.csv is already exist.\n",
      "To overwrite existing file, use `overwrite=True`.\n"
     ]
    }
   ],
   "source": [
    "for protein_gene in protein_gene_list:\n",
    "    protein, gene = protein_gene\n",
    "    print(f\"PROTEIN_GENE: {protein}_{gene}\")\n",
    "    brca_mutex.export_disruptive_mutual_exclusivity_data(\"dev\\mutex_testing\", protein)"
   ]
  },
  {
   "cell_type": "code",
   "execution_count": null,
   "id": "5129b96a-5ac3-405c-81e3-d95011276212",
   "metadata": {},
   "outputs": [],
   "source": []
  },
  {
   "cell_type": "code",
   "execution_count": null,
   "id": "2f2bc9b9-5f4b-45ba-9011-a6a789f56134",
   "metadata": {},
   "outputs": [],
   "source": []
  },
  {
   "cell_type": "markdown",
   "id": "9215171c-b0c6-4ffa-9221-01f94cf8d276",
   "metadata": {
    "tags": []
   },
   "source": [
    "### RPS6KA5"
   ]
  },
  {
   "cell_type": "code",
   "execution_count": 22,
   "id": "77d235d1-f043-4491-a0f6-746e08c2cc41",
   "metadata": {},
   "outputs": [
    {
     "data": {
      "text/plain": [
       "['O75582']"
      ]
     },
     "execution_count": 22,
     "metadata": {},
     "output_type": "execute_result"
    }
   ],
   "source": [
    "ProteinIDFetcher().fetch(\"RPS6KA5\")"
   ]
  },
  {
   "cell_type": "code",
   "execution_count": 82,
   "id": "035917ba-979d-46cc-a56a-f7ae4c7abca7",
   "metadata": {},
   "outputs": [
    {
     "name": "stdout",
     "output_type": "stream",
     "text": [
      "2021-11-20 02:36:42 |\u001b[32m INFO     \u001b[0m| helpers.helpers_analysis.mutual_exclusivity | Calculating Mutual Exclusivity over P04637's interactors ..\n",
      "2021-11-20 02:36:42 |\u001b[36m DEBUG    \u001b[0m| helpers.helpers_analysis.mutual_exclusivity | P04637 have 15 interactors:\n",
      "Counter({'Q13625:TP53BP2': 42, 'Q96KQ4:PPP1R13B': 42, 'P62993:GRB2': 33, 'Q06187:BTK': 31, 'Q8WUF5:PPP1R13L': 30, 'Q9H3D4:TP63': 18, 'H2EHT1:TP53': 16, 'K7PPA8:TP53': 16, 'Q96KQ7:EHMT2': 14, 'O15350:TP73': 13, 'P07948:LYN': 12, 'Q9H9B1:EHMT1': 9, 'Q99728:BARD1': 8, 'O75832:PSMD10': 8, 'Q9ULT8:HECTD1': 8})\n"
     ]
    },
    {
     "data": {
      "text/html": [
       "<div>\n",
       "<style scoped>\n",
       "    .dataframe tbody tr th:only-of-type {\n",
       "        vertical-align: middle;\n",
       "    }\n",
       "\n",
       "    .dataframe tbody tr th {\n",
       "        vertical-align: top;\n",
       "    }\n",
       "\n",
       "    .dataframe thead th {\n",
       "        text-align: right;\n",
       "    }\n",
       "</style>\n",
       "<table border=\"1\" class=\"dataframe\">\n",
       "  <thead>\n",
       "    <tr style=\"text-align: right;\">\n",
       "      <th></th>\n",
       "      <th>PROTEIN:GENE</th>\n",
       "      <th>NUM_PATIENTS</th>\n",
       "      <th>INTERACTOR</th>\n",
       "      <th>NUM_PATIENTS_INTERACTOR</th>\n",
       "      <th>DISRUPTIVE_INTERACTOR_COUNT</th>\n",
       "      <th>MUTUAL_EXCLUSIVITY</th>\n",
       "    </tr>\n",
       "  </thead>\n",
       "  <tbody>\n",
       "    <tr>\n",
       "      <th>2</th>\n",
       "      <td>P04637:TP53</td>\n",
       "      <td>204</td>\n",
       "      <td>Q13625:TP53BP2</td>\n",
       "      <td>8</td>\n",
       "      <td>42</td>\n",
       "      <td>0.9953</td>\n",
       "    </tr>\n",
       "    <tr>\n",
       "      <th>5</th>\n",
       "      <td>P04637:TP53</td>\n",
       "      <td>204</td>\n",
       "      <td>Q96KQ4:PPP1R13B</td>\n",
       "      <td>5</td>\n",
       "      <td>42</td>\n",
       "      <td>1.0000</td>\n",
       "    </tr>\n",
       "    <tr>\n",
       "      <th>11</th>\n",
       "      <td>P04637:TP53</td>\n",
       "      <td>204</td>\n",
       "      <td>P62993:GRB2</td>\n",
       "      <td>2</td>\n",
       "      <td>33</td>\n",
       "      <td>1.0000</td>\n",
       "    </tr>\n",
       "    <tr>\n",
       "      <th>14</th>\n",
       "      <td>P04637:TP53</td>\n",
       "      <td>204</td>\n",
       "      <td>Q06187:BTK</td>\n",
       "      <td>7</td>\n",
       "      <td>31</td>\n",
       "      <td>0.9953</td>\n",
       "    </tr>\n",
       "    <tr>\n",
       "      <th>13</th>\n",
       "      <td>P04637:TP53</td>\n",
       "      <td>204</td>\n",
       "      <td>Q8WUF5:PPP1R13L</td>\n",
       "      <td>2</td>\n",
       "      <td>30</td>\n",
       "      <td>1.0000</td>\n",
       "    </tr>\n",
       "    <tr>\n",
       "      <th>4</th>\n",
       "      <td>P04637:TP53</td>\n",
       "      <td>204</td>\n",
       "      <td>Q9H3D4:TP63</td>\n",
       "      <td>2</td>\n",
       "      <td>18</td>\n",
       "      <td>0.9951</td>\n",
       "    </tr>\n",
       "    <tr>\n",
       "      <th>9</th>\n",
       "      <td>P04637:TP53</td>\n",
       "      <td>204</td>\n",
       "      <td>H2EHT1:TP53</td>\n",
       "      <td>0</td>\n",
       "      <td>16</td>\n",
       "      <td>1.0000</td>\n",
       "    </tr>\n",
       "    <tr>\n",
       "      <th>10</th>\n",
       "      <td>P04637:TP53</td>\n",
       "      <td>204</td>\n",
       "      <td>K7PPA8:TP53</td>\n",
       "      <td>0</td>\n",
       "      <td>16</td>\n",
       "      <td>1.0000</td>\n",
       "    </tr>\n",
       "    <tr>\n",
       "      <th>1</th>\n",
       "      <td>P04637:TP53</td>\n",
       "      <td>204</td>\n",
       "      <td>Q96KQ7:EHMT2</td>\n",
       "      <td>2</td>\n",
       "      <td>14</td>\n",
       "      <td>1.0000</td>\n",
       "    </tr>\n",
       "    <tr>\n",
       "      <th>0</th>\n",
       "      <td>P04637:TP53</td>\n",
       "      <td>204</td>\n",
       "      <td>O15350:TP73</td>\n",
       "      <td>3</td>\n",
       "      <td>13</td>\n",
       "      <td>1.0000</td>\n",
       "    </tr>\n",
       "    <tr>\n",
       "      <th>12</th>\n",
       "      <td>P04637:TP53</td>\n",
       "      <td>204</td>\n",
       "      <td>P07948:LYN</td>\n",
       "      <td>6</td>\n",
       "      <td>12</td>\n",
       "      <td>0.9857</td>\n",
       "    </tr>\n",
       "    <tr>\n",
       "      <th>3</th>\n",
       "      <td>P04637:TP53</td>\n",
       "      <td>204</td>\n",
       "      <td>Q9H9B1:EHMT1</td>\n",
       "      <td>9</td>\n",
       "      <td>9</td>\n",
       "      <td>1.0000</td>\n",
       "    </tr>\n",
       "    <tr>\n",
       "      <th>6</th>\n",
       "      <td>P04637:TP53</td>\n",
       "      <td>204</td>\n",
       "      <td>Q99728:BARD1</td>\n",
       "      <td>0</td>\n",
       "      <td>8</td>\n",
       "      <td>1.0000</td>\n",
       "    </tr>\n",
       "    <tr>\n",
       "      <th>7</th>\n",
       "      <td>P04637:TP53</td>\n",
       "      <td>204</td>\n",
       "      <td>O75832:PSMD10</td>\n",
       "      <td>1</td>\n",
       "      <td>8</td>\n",
       "      <td>0.9951</td>\n",
       "    </tr>\n",
       "    <tr>\n",
       "      <th>8</th>\n",
       "      <td>P04637:TP53</td>\n",
       "      <td>204</td>\n",
       "      <td>Q9ULT8:HECTD1</td>\n",
       "      <td>14</td>\n",
       "      <td>8</td>\n",
       "      <td>0.9862</td>\n",
       "    </tr>\n",
       "  </tbody>\n",
       "</table>\n",
       "</div>"
      ],
      "text/plain": [
       "   PROTEIN:GENE  NUM_PATIENTS       INTERACTOR  NUM_PATIENTS_INTERACTOR  \\\n",
       "2   P04637:TP53           204   Q13625:TP53BP2                        8   \n",
       "5   P04637:TP53           204  Q96KQ4:PPP1R13B                        5   \n",
       "11  P04637:TP53           204      P62993:GRB2                        2   \n",
       "14  P04637:TP53           204       Q06187:BTK                        7   \n",
       "13  P04637:TP53           204  Q8WUF5:PPP1R13L                        2   \n",
       "4   P04637:TP53           204      Q9H3D4:TP63                        2   \n",
       "9   P04637:TP53           204      H2EHT1:TP53                        0   \n",
       "10  P04637:TP53           204      K7PPA8:TP53                        0   \n",
       "1   P04637:TP53           204     Q96KQ7:EHMT2                        2   \n",
       "0   P04637:TP53           204      O15350:TP73                        3   \n",
       "12  P04637:TP53           204       P07948:LYN                        6   \n",
       "3   P04637:TP53           204     Q9H9B1:EHMT1                        9   \n",
       "6   P04637:TP53           204     Q99728:BARD1                        0   \n",
       "7   P04637:TP53           204    O75832:PSMD10                        1   \n",
       "8   P04637:TP53           204    Q9ULT8:HECTD1                       14   \n",
       "\n",
       "    DISRUPTIVE_INTERACTOR_COUNT  MUTUAL_EXCLUSIVITY  \n",
       "2                            42              0.9953  \n",
       "5                            42              1.0000  \n",
       "11                           33              1.0000  \n",
       "14                           31              0.9953  \n",
       "13                           30              1.0000  \n",
       "4                            18              0.9951  \n",
       "9                            16              1.0000  \n",
       "10                           16              1.0000  \n",
       "1                            14              1.0000  \n",
       "0                            13              1.0000  \n",
       "12                           12              0.9857  \n",
       "3                             9              1.0000  \n",
       "6                             8              1.0000  \n",
       "7                             8              0.9951  \n",
       "8                             8              0.9862  "
      ]
     },
     "execution_count": 82,
     "metadata": {},
     "output_type": "execute_result"
    }
   ],
   "source": [
    "brca_mutex.get_disruptive_mutual_exclusivity_data(\"P04637\")"
   ]
  },
  {
   "cell_type": "code",
   "execution_count": 83,
   "id": "637b8c30-dc9f-4017-92c7-6a86c6dce715",
   "metadata": {},
   "outputs": [
    {
     "name": "stdout",
     "output_type": "stream",
     "text": [
      "2021-11-20 02:36:54 |\u001b[32m INFO     \u001b[0m| helpers.helpers_analysis.mutual_exclusivity | Calculating Mutual Exclusivity over P04637's interactors ..\n",
      "2021-11-20 02:36:54 |\u001b[36m DEBUG    \u001b[0m| helpers.helpers_analysis.mutual_exclusivity | P04637 have 15 interactors:\n",
      "{'H2EHT1:TP53': 12.37, 'K7PPA8:TP53': 12.190000000000001, 'O15350:TP73': 10.41, 'O75832:PSMD10': 5.9, 'P07948:LYN': 8.69, 'P62993:GRB2': 24.14, 'Q06187:BTK': 24.39, 'Q13625:TP53BP2': 35.9, 'Q8WUF5:PPP1R13L': 21.68, 'Q96KQ4:PPP1R13B': 34.07, 'Q96KQ7:EHMT2': 9.3, 'Q99728:BARD1': 5.79, 'Q9H3D4:TP63': 13.65, 'Q9H9B1:EHMT1': 5.97, 'Q9ULT8:HECTD1': 5.78}\n"
     ]
    },
    {
     "data": {
      "text/html": [
       "<div>\n",
       "<style scoped>\n",
       "    .dataframe tbody tr th:only-of-type {\n",
       "        vertical-align: middle;\n",
       "    }\n",
       "\n",
       "    .dataframe tbody tr th {\n",
       "        vertical-align: top;\n",
       "    }\n",
       "\n",
       "    .dataframe thead th {\n",
       "        text-align: right;\n",
       "    }\n",
       "</style>\n",
       "<table border=\"1\" class=\"dataframe\">\n",
       "  <thead>\n",
       "    <tr style=\"text-align: right;\">\n",
       "      <th></th>\n",
       "      <th>PROTEIN:GENE</th>\n",
       "      <th>NUM_PATIENTS</th>\n",
       "      <th>INTERACTOR</th>\n",
       "      <th>NUM_PATIENTS_INTERACTOR</th>\n",
       "      <th>DISRUPTIVE_INTERACTOR_PROBA_SUM</th>\n",
       "      <th>MUTUAL_EXCLUSIVITY</th>\n",
       "    </tr>\n",
       "  </thead>\n",
       "  <tbody>\n",
       "    <tr>\n",
       "      <th>7</th>\n",
       "      <td>P04637:TP53</td>\n",
       "      <td>204</td>\n",
       "      <td>Q13625:TP53BP2</td>\n",
       "      <td>8</td>\n",
       "      <td>35.90</td>\n",
       "      <td>0.9953</td>\n",
       "    </tr>\n",
       "    <tr>\n",
       "      <th>9</th>\n",
       "      <td>P04637:TP53</td>\n",
       "      <td>204</td>\n",
       "      <td>Q96KQ4:PPP1R13B</td>\n",
       "      <td>5</td>\n",
       "      <td>34.07</td>\n",
       "      <td>1.0000</td>\n",
       "    </tr>\n",
       "    <tr>\n",
       "      <th>6</th>\n",
       "      <td>P04637:TP53</td>\n",
       "      <td>204</td>\n",
       "      <td>Q06187:BTK</td>\n",
       "      <td>7</td>\n",
       "      <td>24.39</td>\n",
       "      <td>0.9953</td>\n",
       "    </tr>\n",
       "    <tr>\n",
       "      <th>5</th>\n",
       "      <td>P04637:TP53</td>\n",
       "      <td>204</td>\n",
       "      <td>P62993:GRB2</td>\n",
       "      <td>2</td>\n",
       "      <td>24.14</td>\n",
       "      <td>1.0000</td>\n",
       "    </tr>\n",
       "    <tr>\n",
       "      <th>8</th>\n",
       "      <td>P04637:TP53</td>\n",
       "      <td>204</td>\n",
       "      <td>Q8WUF5:PPP1R13L</td>\n",
       "      <td>2</td>\n",
       "      <td>21.68</td>\n",
       "      <td>1.0000</td>\n",
       "    </tr>\n",
       "    <tr>\n",
       "      <th>12</th>\n",
       "      <td>P04637:TP53</td>\n",
       "      <td>204</td>\n",
       "      <td>Q9H3D4:TP63</td>\n",
       "      <td>2</td>\n",
       "      <td>13.65</td>\n",
       "      <td>0.9951</td>\n",
       "    </tr>\n",
       "    <tr>\n",
       "      <th>0</th>\n",
       "      <td>P04637:TP53</td>\n",
       "      <td>204</td>\n",
       "      <td>H2EHT1:TP53</td>\n",
       "      <td>0</td>\n",
       "      <td>12.37</td>\n",
       "      <td>1.0000</td>\n",
       "    </tr>\n",
       "    <tr>\n",
       "      <th>1</th>\n",
       "      <td>P04637:TP53</td>\n",
       "      <td>204</td>\n",
       "      <td>K7PPA8:TP53</td>\n",
       "      <td>0</td>\n",
       "      <td>12.19</td>\n",
       "      <td>1.0000</td>\n",
       "    </tr>\n",
       "    <tr>\n",
       "      <th>2</th>\n",
       "      <td>P04637:TP53</td>\n",
       "      <td>204</td>\n",
       "      <td>O15350:TP73</td>\n",
       "      <td>3</td>\n",
       "      <td>10.41</td>\n",
       "      <td>1.0000</td>\n",
       "    </tr>\n",
       "    <tr>\n",
       "      <th>10</th>\n",
       "      <td>P04637:TP53</td>\n",
       "      <td>204</td>\n",
       "      <td>Q96KQ7:EHMT2</td>\n",
       "      <td>2</td>\n",
       "      <td>9.30</td>\n",
       "      <td>1.0000</td>\n",
       "    </tr>\n",
       "    <tr>\n",
       "      <th>4</th>\n",
       "      <td>P04637:TP53</td>\n",
       "      <td>204</td>\n",
       "      <td>P07948:LYN</td>\n",
       "      <td>6</td>\n",
       "      <td>8.69</td>\n",
       "      <td>0.9857</td>\n",
       "    </tr>\n",
       "    <tr>\n",
       "      <th>13</th>\n",
       "      <td>P04637:TP53</td>\n",
       "      <td>204</td>\n",
       "      <td>Q9H9B1:EHMT1</td>\n",
       "      <td>9</td>\n",
       "      <td>5.97</td>\n",
       "      <td>1.0000</td>\n",
       "    </tr>\n",
       "    <tr>\n",
       "      <th>3</th>\n",
       "      <td>P04637:TP53</td>\n",
       "      <td>204</td>\n",
       "      <td>O75832:PSMD10</td>\n",
       "      <td>1</td>\n",
       "      <td>5.90</td>\n",
       "      <td>0.9951</td>\n",
       "    </tr>\n",
       "    <tr>\n",
       "      <th>11</th>\n",
       "      <td>P04637:TP53</td>\n",
       "      <td>204</td>\n",
       "      <td>Q99728:BARD1</td>\n",
       "      <td>0</td>\n",
       "      <td>5.79</td>\n",
       "      <td>1.0000</td>\n",
       "    </tr>\n",
       "    <tr>\n",
       "      <th>14</th>\n",
       "      <td>P04637:TP53</td>\n",
       "      <td>204</td>\n",
       "      <td>Q9ULT8:HECTD1</td>\n",
       "      <td>14</td>\n",
       "      <td>5.78</td>\n",
       "      <td>0.9862</td>\n",
       "    </tr>\n",
       "  </tbody>\n",
       "</table>\n",
       "</div>"
      ],
      "text/plain": [
       "   PROTEIN:GENE  NUM_PATIENTS       INTERACTOR  NUM_PATIENTS_INTERACTOR  \\\n",
       "7   P04637:TP53           204   Q13625:TP53BP2                        8   \n",
       "9   P04637:TP53           204  Q96KQ4:PPP1R13B                        5   \n",
       "6   P04637:TP53           204       Q06187:BTK                        7   \n",
       "5   P04637:TP53           204      P62993:GRB2                        2   \n",
       "8   P04637:TP53           204  Q8WUF5:PPP1R13L                        2   \n",
       "12  P04637:TP53           204      Q9H3D4:TP63                        2   \n",
       "0   P04637:TP53           204      H2EHT1:TP53                        0   \n",
       "1   P04637:TP53           204      K7PPA8:TP53                        0   \n",
       "2   P04637:TP53           204      O15350:TP73                        3   \n",
       "10  P04637:TP53           204     Q96KQ7:EHMT2                        2   \n",
       "4   P04637:TP53           204       P07948:LYN                        6   \n",
       "13  P04637:TP53           204     Q9H9B1:EHMT1                        9   \n",
       "3   P04637:TP53           204    O75832:PSMD10                        1   \n",
       "11  P04637:TP53           204     Q99728:BARD1                        0   \n",
       "14  P04637:TP53           204    Q9ULT8:HECTD1                       14   \n",
       "\n",
       "    DISRUPTIVE_INTERACTOR_PROBA_SUM  MUTUAL_EXCLUSIVITY  \n",
       "7                             35.90              0.9953  \n",
       "9                             34.07              1.0000  \n",
       "6                             24.39              0.9953  \n",
       "5                             24.14              1.0000  \n",
       "8                             21.68              1.0000  \n",
       "12                            13.65              0.9951  \n",
       "0                             12.37              1.0000  \n",
       "1                             12.19              1.0000  \n",
       "2                             10.41              1.0000  \n",
       "10                             9.30              1.0000  \n",
       "4                              8.69              0.9857  \n",
       "13                             5.97              1.0000  \n",
       "3                              5.90              0.9951  \n",
       "11                             5.79              1.0000  \n",
       "14                             5.78              0.9862  "
      ]
     },
     "execution_count": 83,
     "metadata": {},
     "output_type": "execute_result"
    }
   ],
   "source": [
    "brca_mutex.get_disruptive_mutual_exclusivity_proba_data(\"P04637\")"
   ]
  },
  {
   "cell_type": "code",
   "execution_count": 86,
   "id": "f6674159-626d-4d4d-9a97-1a5941afa1a9",
   "metadata": {},
   "outputs": [
    {
     "name": "stdout",
     "output_type": "stream",
     "text": [
      "2021-11-20 02:41:02 |\u001b[32m INFO     \u001b[0m| helpers.helpers_analysis.mutual_exclusivity | Calculating Mutual Exclusivity over P04626's interactors ..\n",
      "2021-11-20 02:41:02 |\u001b[36m DEBUG    \u001b[0m| helpers.helpers_analysis.mutual_exclusivity | P04626 have 15 interactors:\n",
      "Counter({'Q96SB4:SRPK1': 7, 'P00533:EGFR': 2, 'P51813:BMX': 2, 'Q14289:PTK2B': 2, 'P16591:FER': 2, 'P06241:FYN': 2, 'P08069:IGF1R': 2, 'Q13153:PAK1': 2, 'P42680:TEC': 2, 'P21860:ERBB3': 1, 'O60674:JAK2': 1, 'P15153:RAC2': 1, 'Q9UJM3:ERRFI1': 1, 'Q92625:ANKS1A': 1, 'P23458:JAK1': 1})\n",
      "2021-11-20 02:41:02 |\u001b[36m DEBUG    \u001b[0m| helpers.helpers_analysis.mutual_exclusivity | Exporting Mutual Exclusivity BRCA P04626 ..\n",
      "2021-11-20 02:41:02 |\u001b[33m WARNING  \u001b[0m| helpers.helpers_analysis.mutual_exclusivity | File dev/mutex\\BRCA_P04626_ERBB2_2021-11-20.csv is already exist.\n",
      "To overwrite existing file, use `overwrite=True`.\n"
     ]
    }
   ],
   "source": [
    "brca_mutex.export_disruptive_mutual_exclusivity_data(\"dev/mutex\", \"P04626\")"
   ]
  },
  {
   "cell_type": "code",
   "execution_count": null,
   "id": "c2b94861-e91f-4533-bd4e-7912ab160846",
   "metadata": {},
   "outputs": [
    {
     "name": "stdout",
     "output_type": "stream",
     "text": [
      "2021-11-20 02:42:39 |\u001b[32m INFO     \u001b[0m| helpers.helpers_analysis.mutual_exclusivity | Calculating Mutual Exclusivity over P04626's interactors ..\n",
      "2021-11-20 02:42:39 |\u001b[36m DEBUG    \u001b[0m| helpers.helpers_analysis.mutual_exclusivity | P04626 have 15 interactors:\n",
      "{'O60674:JAK2': 0.63, 'P00533:EGFR': 1.49, 'P06241:FYN': 1.3, 'P08069:IGF1R': 1.82, 'P15153:RAC2': 0.75, 'P16591:FER': 1.52, 'P21860:ERBB3': 0.84, 'P23458:JAK1': 0.66, 'P42680:TEC': 1.4, 'P51813:BMX': 1.38, 'Q13153:PAK1': 1.4, 'Q14289:PTK2B': 1.62, 'Q92625:ANKS1A': 0.55, 'Q96SB4:SRPK1': 4.79, 'Q9UJM3:ERRFI1': 0.8}\n",
      "2021-11-20 02:42:40 |\u001b[36m DEBUG    \u001b[0m| helpers.helpers_analysis.mutual_exclusivity | Exporting Mutual Exclusivity BRCA P04626 ..\n"
     ]
    }
   ],
   "source": [
    "brca_mutex.export_disruptive_mutual_exclusivity_data(\"dev/mutex\", \"P04626\", prob=True)"
   ]
  },
  {
   "cell_type": "code",
   "execution_count": null,
   "id": "1f27a6ec-9e81-40bb-83f3-f96d4a34dbaf",
   "metadata": {},
   "outputs": [],
   "source": []
  },
  {
   "cell_type": "code",
   "execution_count": null,
   "id": "703a3043-74a5-49a4-9ba5-12a9989d6bf5",
   "metadata": {},
   "outputs": [],
   "source": []
  },
  {
   "cell_type": "markdown",
   "id": "1a16be72-bfd3-4d96-9593-f1c3ae5a746f",
   "metadata": {},
   "source": [
    "---"
   ]
  },
  {
   "cell_type": "code",
   "execution_count": 19,
   "id": "740d52d8-bd2a-41e1-a00d-d72c68fe4b0d",
   "metadata": {},
   "outputs": [
    {
     "data": {
      "text/plain": [
       "['P42336']"
      ]
     },
     "execution_count": 19,
     "metadata": {},
     "output_type": "execute_result"
    }
   ],
   "source": [
    "ProteinIDFetcher().fetch(\"PIK3CA\")"
   ]
  },
  {
   "cell_type": "code",
   "execution_count": 77,
   "id": "29b7f67f-65b6-4072-ada0-c0fecfb02df7",
   "metadata": {},
   "outputs": [
    {
     "data": {
      "text/plain": [
       "['H2EHT1', 'K7PPA8', 'P04637']"
      ]
     },
     "execution_count": 77,
     "metadata": {},
     "output_type": "execute_result"
    }
   ],
   "source": [
    "ProteinIDFetcher().fetch(\"TP53\")"
   ]
  },
  {
   "cell_type": "code",
   "execution_count": 25,
   "id": "f418881e-8f54-4a53-a754-a84bbc8bd65d",
   "metadata": {},
   "outputs": [
    {
     "name": "stdout",
     "output_type": "stream",
     "text": [
      "P27986:PIK3R1 124\n",
      "O00459:PIK3R2 124\n",
      "P43403:ZAP70 119\n",
      "Q92569:PIK3R3 5\n"
     ]
    }
   ],
   "source": [
    "x = brca_mutex.get_disrupted_interactors(\"PIK3CA\", identifier_type=\"gene\", return_counter=True)\n",
    "for k, v in x.items():\n",
    "    print(k, v)"
   ]
  },
  {
   "cell_type": "code",
   "execution_count": null,
   "id": "3d6f99dd-ccaa-4749-bf39-88e43db35efe",
   "metadata": {},
   "outputs": [],
   "source": []
  },
  {
   "cell_type": "code",
   "execution_count": null,
   "id": "a0cc3ef2-a65d-44c6-b3c6-9a26fdf1aac0",
   "metadata": {},
   "outputs": [],
   "source": []
  },
  {
   "cell_type": "code",
   "execution_count": 21,
   "id": "d55f9928-7c9a-4ff3-9c80-d97c564f615a",
   "metadata": {},
   "outputs": [
    {
     "data": {
      "text/plain": [
       "Counter({'P27986:PIK3R1': 124,\n",
       "         'O00459:PIK3R2': 124,\n",
       "         'P43403:ZAP70': 119,\n",
       "         'Q92569:PIK3R3': 5})"
      ]
     },
     "execution_count": 21,
     "metadata": {},
     "output_type": "execute_result"
    }
   ],
   "source": [
    "brca_mutex.get_disrupted_interactors(\"P42336\", identifier_type=\"protein\", return_counter=True)"
   ]
  },
  {
   "cell_type": "code",
   "execution_count": null,
   "id": "50ccf3bb-4f22-4986-9a81-ff1fd14df60d",
   "metadata": {},
   "outputs": [],
   "source": []
  },
  {
   "cell_type": "code",
   "execution_count": null,
   "id": "42d988f7-0662-48e5-80e3-a618e124d11a",
   "metadata": {},
   "outputs": [],
   "source": [
    "get_disrupted_interactors_probabilities"
   ]
  },
  {
   "cell_type": "code",
   "execution_count": 71,
   "id": "84dca130-42dc-4575-b234-54eb61e4be5f",
   "metadata": {},
   "outputs": [
    {
     "data": {
      "text/plain": [
       "{'O00459:PIK3R2': 74.36,\n",
       " 'P27986:PIK3R1': 75.5,\n",
       " 'P43403:ZAP70': 65.45,\n",
       " 'Q92569:PIK3R3': 3.15}"
      ]
     },
     "execution_count": 71,
     "metadata": {},
     "output_type": "execute_result"
    }
   ],
   "source": [
    "brca_mutex.get_disrupted_interactors_probabilities(\"PIK3CA\", identifier_type=\"gene\")"
   ]
  },
  {
   "cell_type": "code",
   "execution_count": 69,
   "id": "45a41296-a3ea-4d65-bc3d-5fbd938989d7",
   "metadata": {},
   "outputs": [
    {
     "data": {
      "text/plain": [
       "Counter({'P27986:PIK3R1': 124,\n",
       "         'O00459:PIK3R2': 124,\n",
       "         'P43403:ZAP70': 119,\n",
       "         'Q92569:PIK3R3': 5})"
      ]
     },
     "execution_count": 69,
     "metadata": {},
     "output_type": "execute_result"
    }
   ],
   "source": [
    "brca_mutex.get_disrupted_interactors(\"PIK3CA\", identifier_type=\"gene\", return_counter=True)"
   ]
  },
  {
   "cell_type": "code",
   "execution_count": 28,
   "id": "c6174fd8-f76f-4ded-bc28-2e176c5df334",
   "metadata": {
    "tags": []
   },
   "outputs": [
    {
     "data": {
      "text/plain": [
       "1        P27986:PIK3R1:0.6\n",
       "1       O00459:PIK3R2:0.59\n",
       "1        P43403:ZAP70:0.55\n",
       "5        P27986:PIK3R1:0.6\n",
       "5       O00459:PIK3R2:0.59\n",
       "               ...        \n",
       "1830    O00459:PIK3R2:0.59\n",
       "1830     P43403:ZAP70:0.55\n",
       "1833     P27986:PIK3R1:0.6\n",
       "1833    O00459:PIK3R2:0.59\n",
       "1833     P43403:ZAP70:0.55\n",
       "Name: DISRUPTIVE_INTERACTORS, Length: 372, dtype: object"
      ]
     },
     "execution_count": 28,
     "metadata": {},
     "output_type": "execute_result"
    }
   ],
   "source": [
    "x = brca_mutex.get_disrupted_interactors_probabilities(\"PIK3CA\", identifier_type=\"gene\")\n",
    "x"
   ]
  },
  {
   "cell_type": "code",
   "execution_count": 59,
   "id": "2678c04b-d93d-4d92-afaa-ca20ed636e12",
   "metadata": {},
   "outputs": [],
   "source": [
    "def split_prob(x):\n",
    "    protein_gene, probability = x.rsplit(\":\", 1)\n",
    "    probability = float(probability)\n",
    "    return protein_gene, probability"
   ]
  },
  {
   "cell_type": "code",
   "execution_count": 60,
   "id": "06419859-4b0c-450e-8c9e-3e16a45b4ad2",
   "metadata": {},
   "outputs": [
    {
     "data": {
      "text/plain": [
       "[('P27986:PIK3R1', 0.6), ('O00459:PIK3R2', 0.59), ('P43403:ZAP70', 0.55)]"
      ]
     },
     "execution_count": 60,
     "metadata": {},
     "output_type": "execute_result"
    }
   ],
   "source": [
    "x_list = list(x.apply(lambda x: split_prob(x)))\n",
    "x_list[:3]"
   ]
  },
  {
   "cell_type": "code",
   "execution_count": 61,
   "id": "e46e1ffb-1347-46e2-8d0f-7538cbdab376",
   "metadata": {},
   "outputs": [
    {
     "data": {
      "text/html": [
       "<div>\n",
       "<style scoped>\n",
       "    .dataframe tbody tr th:only-of-type {\n",
       "        vertical-align: middle;\n",
       "    }\n",
       "\n",
       "    .dataframe tbody tr th {\n",
       "        vertical-align: top;\n",
       "    }\n",
       "\n",
       "    .dataframe thead th {\n",
       "        text-align: right;\n",
       "    }\n",
       "</style>\n",
       "<table border=\"1\" class=\"dataframe\">\n",
       "  <thead>\n",
       "    <tr style=\"text-align: right;\">\n",
       "      <th></th>\n",
       "      <th>PROTEIN:GENE</th>\n",
       "      <th>PROBABILITY</th>\n",
       "    </tr>\n",
       "  </thead>\n",
       "  <tbody>\n",
       "    <tr>\n",
       "      <th>0</th>\n",
       "      <td>P27986:PIK3R1</td>\n",
       "      <td>0.60</td>\n",
       "    </tr>\n",
       "    <tr>\n",
       "      <th>1</th>\n",
       "      <td>O00459:PIK3R2</td>\n",
       "      <td>0.59</td>\n",
       "    </tr>\n",
       "    <tr>\n",
       "      <th>2</th>\n",
       "      <td>P43403:ZAP70</td>\n",
       "      <td>0.55</td>\n",
       "    </tr>\n",
       "    <tr>\n",
       "      <th>3</th>\n",
       "      <td>P27986:PIK3R1</td>\n",
       "      <td>0.60</td>\n",
       "    </tr>\n",
       "    <tr>\n",
       "      <th>4</th>\n",
       "      <td>O00459:PIK3R2</td>\n",
       "      <td>0.59</td>\n",
       "    </tr>\n",
       "  </tbody>\n",
       "</table>\n",
       "</div>"
      ],
      "text/plain": [
       "    PROTEIN:GENE  PROBABILITY\n",
       "0  P27986:PIK3R1         0.60\n",
       "1  O00459:PIK3R2         0.59\n",
       "2   P43403:ZAP70         0.55\n",
       "3  P27986:PIK3R1         0.60\n",
       "4  O00459:PIK3R2         0.59"
      ]
     },
     "execution_count": 61,
     "metadata": {},
     "output_type": "execute_result"
    }
   ],
   "source": [
    "x_df = pd.DataFrame(x_list, columns=[\"PROTEIN:GENE\", \"PROBABILITY\"])\n",
    "x_df.head()"
   ]
  },
  {
   "cell_type": "code",
   "execution_count": 63,
   "id": "4e4b7926-4dc1-453e-bdcd-9a15710e5d1e",
   "metadata": {},
   "outputs": [
    {
     "data": {
      "text/plain": [
       "PROTEIN:GENE\n",
       "O00459:PIK3R2    74.36\n",
       "P27986:PIK3R1    75.50\n",
       "P43403:ZAP70     65.45\n",
       "Q92569:PIK3R3     3.15\n",
       "Name: PROBABILITY, dtype: float64"
      ]
     },
     "execution_count": 63,
     "metadata": {},
     "output_type": "execute_result"
    }
   ],
   "source": [
    "x_df.groupby(\"PROTEIN:GENE\")[\"PROBABILITY\"].sum()"
   ]
  },
  {
   "cell_type": "code",
   "execution_count": null,
   "id": "1fcbcd03-f870-4adf-8a2a-2ba77a66ed3a",
   "metadata": {},
   "outputs": [],
   "source": []
  },
  {
   "cell_type": "code",
   "execution_count": null,
   "id": "1b441ed0-6709-4f42-a365-2c1fe0ec47c4",
   "metadata": {},
   "outputs": [],
   "source": []
  },
  {
   "cell_type": "code",
   "execution_count": null,
   "id": "3a1741cf-fae7-4189-ae7e-d53eb24fa91f",
   "metadata": {},
   "outputs": [],
   "source": []
  },
  {
   "cell_type": "code",
   "execution_count": null,
   "id": "832ccc35-fb62-4f5e-8fb0-e90ffb671cbb",
   "metadata": {},
   "outputs": [],
   "source": []
  },
  {
   "cell_type": "code",
   "execution_count": null,
   "id": "8534510a-76ec-4d2d-b80a-c65f24cbec5b",
   "metadata": {},
   "outputs": [],
   "source": []
  },
  {
   "cell_type": "code",
   "execution_count": 72,
   "id": "853759fc-2d6a-4f33-b7ac-c326b508680c",
   "metadata": {},
   "outputs": [
    {
     "data": {
      "text/plain": [
       "Counter({'P27986:PIK3R1': 124,\n",
       "         'O00459:PIK3R2': 124,\n",
       "         'P43403:ZAP70': 119,\n",
       "         'Q92569:PIK3R3': 5})"
      ]
     },
     "execution_count": 72,
     "metadata": {},
     "output_type": "execute_result"
    }
   ],
   "source": [
    "brca_mutex.get_disrupted_interactors(\"PIK3CA\", identifier_type=\"gene\", return_counter=True)"
   ]
  },
  {
   "cell_type": "code",
   "execution_count": 74,
   "id": "0d4b7521-c021-4d6b-87c9-a7ed145d8c94",
   "metadata": {},
   "outputs": [
    {
     "data": {
      "text/plain": [
       "{'O00459:PIK3R2': 74.36,\n",
       " 'P27986:PIK3R1': 75.5,\n",
       " 'P43403:ZAP70': 65.45,\n",
       " 'Q92569:PIK3R3': 3.15}"
      ]
     },
     "execution_count": 74,
     "metadata": {},
     "output_type": "execute_result"
    }
   ],
   "source": [
    "brca_mutex.get_disrupted_interactors_probabilities(\"PIK3CA\", identifier_type=\"gene\")"
   ]
  },
  {
   "cell_type": "code",
   "execution_count": null,
   "id": "ee4fff33-caa0-44f5-ba63-b0e20361e67b",
   "metadata": {},
   "outputs": [],
   "source": []
  },
  {
   "cell_type": "code",
   "execution_count": null,
   "id": "c72456c8-9a92-498b-ae1f-5a4d1068aa82",
   "metadata": {},
   "outputs": [],
   "source": []
  },
  {
   "cell_type": "code",
   "execution_count": null,
   "id": "351a2470-f71d-45f4-bd99-2f323d5267ec",
   "metadata": {},
   "outputs": [],
   "source": []
  },
  {
   "cell_type": "code",
   "execution_count": null,
   "id": "948359d9-2c4d-48ed-a749-5e88c5c75443",
   "metadata": {},
   "outputs": [],
   "source": []
  },
  {
   "cell_type": "code",
   "execution_count": null,
   "id": "3000b55b-66c9-4889-9040-79ce5e281c10",
   "metadata": {},
   "outputs": [],
   "source": []
  },
  {
   "cell_type": "code",
   "execution_count": null,
   "id": "96713197-1eff-48ee-a988-2d794843bbb6",
   "metadata": {},
   "outputs": [],
   "source": []
  },
  {
   "cell_type": "code",
   "execution_count": null,
   "id": "893ebf03-6233-415f-933a-ab65c19ea637",
   "metadata": {},
   "outputs": [],
   "source": []
  },
  {
   "cell_type": "code",
   "execution_count": null,
   "id": "0bdffd0b-0c2c-4754-a2ca-914f18db0e69",
   "metadata": {},
   "outputs": [],
   "source": []
  },
  {
   "cell_type": "markdown",
   "id": "583000c6-abc4-4883-a906-4a7a18c44afd",
   "metadata": {},
   "source": [
    "Örneğin ERBB2 geni için en sık disrupt olan interactor SRPK1, ERBB2 ile SRPK1 arasındaki mutual exclusivity'yi hesaplayalım. \n",
    "\n",
    "S1 ERBB'nun mutasyona uğradığı hasta seti olsun. \n",
    "S2 SRPK1'nın mutasyona uğradığı hasta seti olsun. \n",
    "\n",
    "P04626 - ERBBR\n",
    "Q96SB4 - SRPK1\n",
    "\n",
    "|S1 union S2| / |S1| + |S2| değerini hesaplayalım. \n",
    "\n",
    "mutasyona uğradığı derken direk snv datasına bakabiliriz elaspic'i karıştırmadan. \n",
    "\n",
    "Aynı hesaplamayı ERBB2'nun bütün interactorları için tekrarlayalım. SRPK1 ile olan mutual exclusivity değeri daha mı iyi görelim.\n",
    "\n",
    "Bunu analysis.docx'deki tablolarda bulunan genler için tekrarlayalım."
   ]
  },
  {
   "cell_type": "code",
   "execution_count": 11,
   "id": "5a72c03b-fcfc-44c3-b569-35c5568cc9a9",
   "metadata": {},
   "outputs": [
    {
     "data": {
      "text/plain": [
       "1.0"
      ]
     },
     "execution_count": 11,
     "metadata": {},
     "output_type": "execute_result"
    }
   ],
   "source": [
    "brca_mutex.calculate_mutual_exclusivity(\"P04626\", \"Q96SB4\")"
   ]
  },
  {
   "cell_type": "code",
   "execution_count": null,
   "id": "7e8247ed-0502-40d3-944a-f71d9648390b",
   "metadata": {},
   "outputs": [],
   "source": []
  },
  {
   "cell_type": "markdown",
   "id": "7347b64d-353d-4efa-8b48-cd1fa161dae7",
   "metadata": {
    "tags": []
   },
   "source": [
    "## Patient Interaction Data"
   ]
  },
  {
   "cell_type": "code",
   "execution_count": 12,
   "id": "d0f59552-1633-40f7-8753-5c1dfd8be97a",
   "metadata": {},
   "outputs": [
    {
     "data": {
      "text/html": [
       "<div>\n",
       "<style scoped>\n",
       "    .dataframe tbody tr th:only-of-type {\n",
       "        vertical-align: middle;\n",
       "    }\n",
       "\n",
       "    .dataframe tbody tr th {\n",
       "        vertical-align: top;\n",
       "    }\n",
       "\n",
       "    .dataframe thead th {\n",
       "        text-align: right;\n",
       "    }\n",
       "</style>\n",
       "<table border=\"1\" class=\"dataframe\">\n",
       "  <thead>\n",
       "    <tr style=\"text-align: right;\">\n",
       "      <th></th>\n",
       "      <th>PATIENT</th>\n",
       "      <th>PROTEIN_GENE</th>\n",
       "      <th>MUTATION</th>\n",
       "      <th>INTERACTORS</th>\n",
       "      <th>NUM_INTERACTORS</th>\n",
       "      <th>DISRUPTIVE_INTERACTORS</th>\n",
       "      <th>NUM_DISRUPTIVE_INTERACTORS</th>\n",
       "      <th>NON_DISRUPTIVE_INTERACTORS</th>\n",
       "      <th>NUM_NON_DISRUPTIVE_INTERACTORS</th>\n",
       "      <th>CORE_INTERFACE_VS_INTERFACE_STATUS</th>\n",
       "    </tr>\n",
       "  </thead>\n",
       "  <tbody>\n",
       "    <tr>\n",
       "      <th>0</th>\n",
       "      <td>TCGA-D8-A1XY</td>\n",
       "      <td>Q9UKS6:PACSIN3</td>\n",
       "      <td>R24H</td>\n",
       "      <td>Q9BY11:PACSIN1,Q9UNF0:PACSIN2,Q5TZC3:PACSIN1,Q...</td>\n",
       "      <td>4</td>\n",
       "      <td>Q9BY11:PACSIN1:0.5,Q9UNF0:PACSIN2:0.59,Q6FIA3:...</td>\n",
       "      <td>3</td>\n",
       "      <td>Q5TZC3:PACSIN1</td>\n",
       "      <td>1</td>\n",
       "      <td>I</td>\n",
       "    </tr>\n",
       "    <tr>\n",
       "      <th>1</th>\n",
       "      <td>TCGA-AO-A0J5</td>\n",
       "      <td>Q9UBN7:HDAC6</td>\n",
       "      <td>D567Y</td>\n",
       "      <td>Q96DB2:HDAC11</td>\n",
       "      <td>1</td>\n",
       "      <td>Q96DB2:HDAC11:0.55</td>\n",
       "      <td>1</td>\n",
       "      <td>NaN</td>\n",
       "      <td>0</td>\n",
       "      <td>I</td>\n",
       "    </tr>\n",
       "    <tr>\n",
       "      <th>2</th>\n",
       "      <td>TCGA-A8-A093</td>\n",
       "      <td>P28062:PSMB8</td>\n",
       "      <td>R216W</td>\n",
       "      <td>P40306:PSMB10</td>\n",
       "      <td>1</td>\n",
       "      <td>NaN</td>\n",
       "      <td>0</td>\n",
       "      <td>P40306:PSMB10</td>\n",
       "      <td>1</td>\n",
       "      <td>I</td>\n",
       "    </tr>\n",
       "    <tr>\n",
       "      <th>3</th>\n",
       "      <td>TCGA-A8-A093</td>\n",
       "      <td>Q15842:KCNJ8</td>\n",
       "      <td>E237K</td>\n",
       "      <td>Q14654:KCNJ11,P63252:KCNJ2</td>\n",
       "      <td>2</td>\n",
       "      <td>Q14654:KCNJ11:0.52,P63252:KCNJ2:0.53</td>\n",
       "      <td>2</td>\n",
       "      <td>NaN</td>\n",
       "      <td>0</td>\n",
       "      <td>I</td>\n",
       "    </tr>\n",
       "    <tr>\n",
       "      <th>4</th>\n",
       "      <td>TCGA-LD-A74U</td>\n",
       "      <td>O15041:SEMA3E</td>\n",
       "      <td>E364K</td>\n",
       "      <td>Q9Y4D7:PLXND1</td>\n",
       "      <td>1</td>\n",
       "      <td>NaN</td>\n",
       "      <td>0</td>\n",
       "      <td>Q9Y4D7:PLXND1</td>\n",
       "      <td>1</td>\n",
       "      <td>I</td>\n",
       "    </tr>\n",
       "  </tbody>\n",
       "</table>\n",
       "</div>"
      ],
      "text/plain": [
       "        PATIENT    PROTEIN_GENE MUTATION  \\\n",
       "0  TCGA-D8-A1XY  Q9UKS6:PACSIN3     R24H   \n",
       "1  TCGA-AO-A0J5    Q9UBN7:HDAC6    D567Y   \n",
       "2  TCGA-A8-A093    P28062:PSMB8    R216W   \n",
       "3  TCGA-A8-A093    Q15842:KCNJ8    E237K   \n",
       "4  TCGA-LD-A74U   O15041:SEMA3E    E364K   \n",
       "\n",
       "                                         INTERACTORS  NUM_INTERACTORS  \\\n",
       "0  Q9BY11:PACSIN1,Q9UNF0:PACSIN2,Q5TZC3:PACSIN1,Q...                4   \n",
       "1                                      Q96DB2:HDAC11                1   \n",
       "2                                      P40306:PSMB10                1   \n",
       "3                         Q14654:KCNJ11,P63252:KCNJ2                2   \n",
       "4                                      Q9Y4D7:PLXND1                1   \n",
       "\n",
       "                              DISRUPTIVE_INTERACTORS  \\\n",
       "0  Q9BY11:PACSIN1:0.5,Q9UNF0:PACSIN2:0.59,Q6FIA3:...   \n",
       "1                                 Q96DB2:HDAC11:0.55   \n",
       "2                                                NaN   \n",
       "3               Q14654:KCNJ11:0.52,P63252:KCNJ2:0.53   \n",
       "4                                                NaN   \n",
       "\n",
       "   NUM_DISRUPTIVE_INTERACTORS NON_DISRUPTIVE_INTERACTORS  \\\n",
       "0                           3             Q5TZC3:PACSIN1   \n",
       "1                           1                        NaN   \n",
       "2                           0              P40306:PSMB10   \n",
       "3                           2                        NaN   \n",
       "4                           0              Q9Y4D7:PLXND1   \n",
       "\n",
       "   NUM_NON_DISRUPTIVE_INTERACTORS CORE_INTERFACE_VS_INTERFACE_STATUS  \n",
       "0                               1                                  I  \n",
       "1                               0                                  I  \n",
       "2                               1                                  I  \n",
       "3                               0                                  I  \n",
       "4                               1                                  I  "
      ]
     },
     "execution_count": 12,
     "metadata": {},
     "output_type": "execute_result"
    }
   ],
   "source": [
    "brca_mutex.patient_interaction_data.head()"
   ]
  },
  {
   "cell_type": "code",
   "execution_count": null,
   "id": "195a2d4c-8c28-4def-881c-bc461f9cf628",
   "metadata": {},
   "outputs": [],
   "source": [
    "    SRPK1"
   ]
  },
  {
   "cell_type": "code",
   "execution_count": 15,
   "id": "cc9b6d0e-7fda-4a85-9c0f-1cbee20ff7e8",
   "metadata": {},
   "outputs": [
    {
     "data": {
      "text/plain": [
       "Counter({'P21860:ERBB3': 1,\n",
       "         'O60674:JAK2': 1,\n",
       "         'P15153:RAC2': 1,\n",
       "         'Q96SB4:SRPK1': 7,\n",
       "         'Q9UJM3:ERRFI1': 1,\n",
       "         'Q92625:ANKS1A': 1,\n",
       "         'P23458:JAK1': 1,\n",
       "         'P00533:EGFR': 2,\n",
       "         'P51813:BMX': 2,\n",
       "         'Q14289:PTK2B': 2,\n",
       "         'P16591:FER': 2,\n",
       "         'P06241:FYN': 2,\n",
       "         'P08069:IGF1R': 2,\n",
       "         'Q13153:PAK1': 2,\n",
       "         'P42680:TEC': 2})"
      ]
     },
     "execution_count": 15,
     "metadata": {},
     "output_type": "execute_result"
    }
   ],
   "source": [
    "brca_mutex.get_disrupted_interactors(\n",
    "    \"ERBB2\", identifier_type=\"gene\", return_counter=True\n",
    ")"
   ]
  },
  {
   "cell_type": "code",
   "execution_count": 14,
   "id": "f143a106-6390-44df-ab90-0ab1a376b27c",
   "metadata": {},
   "outputs": [
    {
     "data": {
      "text/plain": [
       "Counter({'O15350:TP73': 13,\n",
       "         'Q96KQ7:EHMT2': 14,\n",
       "         'Q13625:TP53BP2': 42,\n",
       "         'Q9H9B1:EHMT1': 9,\n",
       "         'Q9H3D4:TP63': 18,\n",
       "         'Q96KQ4:PPP1R13B': 42,\n",
       "         'Q99728:BARD1': 8,\n",
       "         'O75832:PSMD10': 8,\n",
       "         'Q9ULT8:HECTD1': 8,\n",
       "         'H2EHT1:TP53': 16,\n",
       "         'K7PPA8:TP53': 16,\n",
       "         'P62993:GRB2': 33,\n",
       "         'P07948:LYN': 12,\n",
       "         'Q8WUF5:PPP1R13L': 30,\n",
       "         'Q06187:BTK': 31})"
      ]
     },
     "execution_count": 14,
     "metadata": {},
     "output_type": "execute_result"
    }
   ],
   "source": [
    "brca_mutex.get_disrupted_interactors(\"TP53\", identifier_type=\"gene\", return_counter=True)"
   ]
  },
  {
   "cell_type": "code",
   "execution_count": 14,
   "id": "2f445447-6a8d-4ad3-9ddd-f0f460500b87",
   "metadata": {},
   "outputs": [
    {
     "data": {
      "text/plain": [
       "Counter({'O15350:TP73': 13,\n",
       "         'Q96KQ7:EHMT2': 14,\n",
       "         'Q13625:TP53BP2': 42,\n",
       "         'Q9H9B1:EHMT1': 9,\n",
       "         'Q9H3D4:TP63': 18,\n",
       "         'Q96KQ4:PPP1R13B': 42,\n",
       "         'Q99728:BARD1': 8,\n",
       "         'O75832:PSMD10': 8,\n",
       "         'Q9ULT8:HECTD1': 8,\n",
       "         'H2EHT1:TP53': 16,\n",
       "         'K7PPA8:TP53': 16,\n",
       "         'P62993:GRB2': 33,\n",
       "         'P07948:LYN': 12,\n",
       "         'Q8WUF5:PPP1R13L': 30,\n",
       "         'Q06187:BTK': 31})"
      ]
     },
     "execution_count": 14,
     "metadata": {},
     "output_type": "execute_result"
    }
   ],
   "source": [
    "brca_mutex.get_disrupted_interactors(\"TP53\", identifier_type=\"gene\", return_counter=True)"
   ]
  },
  {
   "cell_type": "code",
   "execution_count": 15,
   "id": "bca305ff-a250-4316-b569-d69df2e95ef9",
   "metadata": {},
   "outputs": [
    {
     "data": {
      "text/plain": [
       "['Q13625:TP53BP2',\n",
       " 'Q96KQ4:PPP1R13B',\n",
       " 'P62993:GRB2',\n",
       " 'Q06187:BTK',\n",
       " 'Q8WUF5:PPP1R13L',\n",
       " 'Q9H3D4:TP63',\n",
       " 'H2EHT1:TP53',\n",
       " 'K7PPA8:TP53',\n",
       " 'Q96KQ7:EHMT2',\n",
       " 'O15350:TP73',\n",
       " 'P07948:LYN',\n",
       " 'Q9H9B1:EHMT1',\n",
       " 'Q99728:BARD1',\n",
       " 'O75832:PSMD10',\n",
       " 'Q9ULT8:HECTD1']"
      ]
     },
     "execution_count": 15,
     "metadata": {},
     "output_type": "execute_result"
    }
   ],
   "source": [
    "brca_mutex.get_disrupted_interactors(\"TP53\", identifier_type=\"gene\")"
   ]
  },
  {
   "cell_type": "code",
   "execution_count": 16,
   "id": "7e4818ba-f6ed-4d93-9e29-ff2381924936",
   "metadata": {},
   "outputs": [
    {
     "data": {
      "text/plain": [
       "Counter({'O15350:TP73': 13,\n",
       "         'Q96KQ7:EHMT2': 14,\n",
       "         'Q13625:TP53BP2': 42,\n",
       "         'Q9H9B1:EHMT1': 9,\n",
       "         'Q9H3D4:TP63': 18,\n",
       "         'Q96KQ4:PPP1R13B': 42,\n",
       "         'Q99728:BARD1': 8,\n",
       "         'O75832:PSMD10': 8,\n",
       "         'Q9ULT8:HECTD1': 8,\n",
       "         'H2EHT1:TP53': 16,\n",
       "         'K7PPA8:TP53': 16,\n",
       "         'P62993:GRB2': 33,\n",
       "         'P07948:LYN': 12,\n",
       "         'Q8WUF5:PPP1R13L': 30,\n",
       "         'Q06187:BTK': 31})"
      ]
     },
     "execution_count": 16,
     "metadata": {},
     "output_type": "execute_result"
    }
   ],
   "source": [
    "brca_mutex.get_disrupted_interactors(\"TP53\", identifier_type=\"gene\", return_counter=True)"
   ]
  },
  {
   "cell_type": "code",
   "execution_count": 17,
   "id": "faeb8d67-d861-4b20-9ec3-e6c8e185c453",
   "metadata": {},
   "outputs": [
    {
     "data": {
      "text/plain": [
       "Counter({'P62805:H4C1': 6,\n",
       "         'Q9UER7:DAXX': 4,\n",
       "         'P04908:H2AC4': 4,\n",
       "         'Q16777:H2AC20': 3,\n",
       "         'P16104:H2AX': 4,\n",
       "         'P0C0S8:H2AC11': 4,\n",
       "         'O75367:MACROH2A1': 4,\n",
       "         'P0C0S5:H2AZ1': 4,\n",
       "         'Q9Y294:ASF1A': 1,\n",
       "         'Q9NVP2:ASF1B': 1,\n",
       "         'P49450:CENPA': 1})"
      ]
     },
     "execution_count": 17,
     "metadata": {},
     "output_type": "execute_result"
    }
   ],
   "source": [
    "brca_mutex.get_disrupted_interactors(\"H3C1\", identifier_type=\"gene\", return_counter=True)"
   ]
  },
  {
   "cell_type": "code",
   "execution_count": 18,
   "id": "e11c1399-74ee-40be-8e9d-ca8abcd56479",
   "metadata": {},
   "outputs": [
    {
     "data": {
      "text/plain": [
       "Counter({'P84243:H3-3A': 7,\n",
       "         'Q16695:H3-4': 5,\n",
       "         'Q71DI3:H3C15': 7,\n",
       "         'P49450:CENPA': 5,\n",
       "         'P68431:H3C1': 8,\n",
       "         'Q16514:TAF12': 2,\n",
       "         'Q9UER7:DAXX': 3,\n",
       "         'P06899:H2BC11': 1,\n",
       "         'Q16778:H2BC21': 1,\n",
       "         'B4E1C1:nan': 4,\n",
       "         'Q53F85:nan': 3,\n",
       "         'P04908:H2AC4': 2,\n",
       "         'P16104:H2AX': 1,\n",
       "         'P0C0S5:H2AZ1': 2,\n",
       "         'Q16777:H2AC20': 2,\n",
       "         'Q9Y294:ASF1A': 1})"
      ]
     },
     "execution_count": 18,
     "metadata": {},
     "output_type": "execute_result"
    }
   ],
   "source": [
    "brca_mutex.get_disrupted_interactors(\"H4C1\", identifier_type=\"gene\", return_counter=True)"
   ]
  },
  {
   "cell_type": "code",
   "execution_count": 19,
   "id": "4b6411d8-0e9b-450b-89b2-fa648e649a4b",
   "metadata": {},
   "outputs": [
    {
     "data": {
      "text/plain": [
       "Counter({'Q5S007:LRRK2': 6,\n",
       "         'P52564:MAP2K6': 6,\n",
       "         'P00533:EGFR': 1,\n",
       "         'P35916:FLT4': 1,\n",
       "         'Q99558:MAP3K14': 1,\n",
       "         'P45984:MAPK9': 1,\n",
       "         'Q16539:MAPK14': 2})"
      ]
     },
     "execution_count": 19,
     "metadata": {},
     "output_type": "execute_result"
    }
   ],
   "source": [
    "brca_mutex.get_disrupted_interactors(\"MAP2K4\", identifier_type=\"gene\", return_counter=True)"
   ]
  },
  {
   "cell_type": "code",
   "execution_count": null,
   "id": "72a4ea13-e318-49ce-9b8d-e6006797c855",
   "metadata": {},
   "outputs": [],
   "source": []
  },
  {
   "cell_type": "code",
   "execution_count": null,
   "id": "57467be9-0927-4721-a9dc-9c90c05f55fe",
   "metadata": {},
   "outputs": [],
   "source": []
  },
  {
   "cell_type": "code",
   "execution_count": 20,
   "id": "bd19254b-9083-4e98-8d5f-263c2ca647ad",
   "metadata": {},
   "outputs": [
    {
     "data": {
      "text/plain": [
       "['H2EHT1', 'K7PPA8', 'P04637']"
      ]
     },
     "execution_count": 20,
     "metadata": {},
     "output_type": "execute_result"
    }
   ],
   "source": [
    "ProteinIDFetcher().fetch(\"TP53\")"
   ]
  },
  {
   "cell_type": "code",
   "execution_count": 21,
   "id": "f9ece295-6c4a-4054-b680-28cf721c5c26",
   "metadata": {},
   "outputs": [
    {
     "data": {
      "text/plain": [
       "['P45985']"
      ]
     },
     "execution_count": 21,
     "metadata": {},
     "output_type": "execute_result"
    }
   ],
   "source": [
    "ProteinIDFetcher().fetch(\"MAP2K4\")"
   ]
  },
  {
   "cell_type": "code",
   "execution_count": 22,
   "id": "6a5b8352-e0bd-4038-9f1b-c6e53474f1a3",
   "metadata": {},
   "outputs": [
    {
     "data": {
      "text/plain": [
       "['P04626', 'J3QLU9']"
      ]
     },
     "execution_count": 22,
     "metadata": {},
     "output_type": "execute_result"
    }
   ],
   "source": [
    "ProteinIDFetcher().fetch(\"ERBB2\")"
   ]
  },
  {
   "cell_type": "code",
   "execution_count": 23,
   "id": "28d7227c-a167-42fa-9184-22caae499836",
   "metadata": {},
   "outputs": [
    {
     "data": {
      "text/plain": [
       "1.0"
      ]
     },
     "execution_count": 23,
     "metadata": {},
     "output_type": "execute_result"
    }
   ],
   "source": [
    "brca_mutex.calculate_mutual_exclusivity(\"Q96SB4\", \"P04626\")"
   ]
  },
  {
   "cell_type": "code",
   "execution_count": 24,
   "id": "8c257c26-5139-47e1-a1d8-405a58504820",
   "metadata": {},
   "outputs": [
    {
     "data": {
      "text/plain": [
       "0.9285714285714286"
      ]
     },
     "execution_count": 24,
     "metadata": {},
     "output_type": "execute_result"
    }
   ],
   "source": [
    "brca_mutex.calculate_mutual_exclusivity(\"P08069\", \"Q96SB4\")"
   ]
  },
  {
   "cell_type": "code",
   "execution_count": 25,
   "id": "c9f79da3-c53e-48e7-94c0-69f6551d969d",
   "metadata": {},
   "outputs": [
    {
     "data": {
      "text/plain": [
       "0.9375"
      ]
     },
     "execution_count": 25,
     "metadata": {},
     "output_type": "execute_result"
    }
   ],
   "source": [
    "brca_mutex.calculate_mutual_exclusivity(\"P08069\", \"P23458\")"
   ]
  },
  {
   "cell_type": "code",
   "execution_count": 26,
   "id": "c40d7a54-3f24-419e-84d3-e2fa3daaebf4",
   "metadata": {},
   "outputs": [
    {
     "data": {
      "text/plain": [
       "0.9375"
      ]
     },
     "execution_count": 26,
     "metadata": {},
     "output_type": "execute_result"
    }
   ],
   "source": [
    "brca_mutex.calculate_mutual_exclusivity(\"P23458\", \"P08069\")"
   ]
  },
  {
   "cell_type": "code",
   "execution_count": null,
   "id": "f9b71cab-55ec-49e5-83a0-2bae18479736",
   "metadata": {},
   "outputs": [],
   "source": []
  }
 ],
 "metadata": {
  "kernelspec": {
   "display_name": "Predicting-Mutation-Effects",
   "language": "python",
   "name": "predicting-mutation-effects"
  },
  "language_info": {
   "codemirror_mode": {
    "name": "ipython",
    "version": 3
   },
   "file_extension": ".py",
   "mimetype": "text/x-python",
   "name": "python",
   "nbconvert_exporter": "python",
   "pygments_lexer": "ipython3",
   "version": "3.8.10"
  }
 },
 "nbformat": 4,
 "nbformat_minor": 5
}
