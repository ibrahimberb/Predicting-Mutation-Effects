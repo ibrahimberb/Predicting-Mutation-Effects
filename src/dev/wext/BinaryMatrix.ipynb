{
 "cells": [
  {
   "cell_type": "markdown",
   "id": "32ec010a-5a39-466a-abbe-4354f51fd849",
   "metadata": {},
   "source": [
    "# Construction of Binary Matrix for All TCGA to run WExT Method"
   ]
  },
  {
   "cell_type": "code",
   "execution_count": 1,
   "outputs": [
    {
     "name": "stdout",
     "output_type": "stream",
     "text": [
      "\u001B[32mMarch 07, 2022 16:19:57\u001B[0m\n"
     ]
    }
   ],
   "source": [
    "from datetime import datetime\n",
    "\n",
    "print(\"\\033[32m{}\\033[0m\".format(datetime.now().strftime(\"%B %d, %Y %H:%M:%S\")))"
   ],
   "metadata": {
    "collapsed": false,
    "pycharm": {
     "name": "#%%\n"
    }
   }
  },
  {
   "cell_type": "code",
   "execution_count": 2,
   "id": "e066ad8e-6730-49de-b02a-3d30a90ba29b",
   "metadata": {},
   "outputs": [],
   "source": [
    "from src.helpers.helpers_analysis.binary_matrix_mutations_vs_samples import BinaryMatrix\n",
    "import os.path as op\n",
    "\n",
    "# SNV_PATHS\n",
    "SNV_COMMON_PATH = \"C:/Users/ibrah/Desktop/SNV_data/SNV_datasets/\"\n",
    "BRCA_SNV_PATH = op.join(SNV_COMMON_PATH, \"SNV_BRCA_hg38_2021-09-22.csv\")\n",
    "ESCA_SNV_PATH = op.join(SNV_COMMON_PATH, \"SNV_ESCA_hg38_2021-09-22.csv\")\n",
    "GBM_SNV_PATH = op.join(SNV_COMMON_PATH, \"SNV_GBM_hg38_2021-09-22.csv\")\n",
    "OV_SNV_PATH = op.join(SNV_COMMON_PATH, \"SNV_OV_hg38_2021-09-22.csv\")\n",
    "HNSC_SNV_PATH = op.join(SNV_COMMON_PATH, \"SNV_HNSC_hg38_2021-09-22.csv\")\n",
    "COAD_SNV_PATH = op.join(SNV_COMMON_PATH, \"SNV_COAD_hg38_2021-09-22.csv\")\n",
    "\n",
    "# Reflect changes in the modules immediately.\n",
    "%load_ext autoreload\n",
    "%autoreload 2"
   ]
  },
  {
   "cell_type": "code",
   "execution_count": 3,
   "outputs": [
    {
     "name": "stdout",
     "output_type": "stream",
     "text": [
      "2022-03-07 16:20:00 |\u001B[36m DEBUG    \u001B[0m| src.helpers.helpers_analysis.binary_matrix_mutations_vs_samples | Loading SNV data simplified ..\n",
      "2022-03-07 16:20:00 |\u001B[32m INFO     \u001B[0m| src.helpers.helpers_analysis.loaders | Loading BRCA SNV datasets ..\n",
      "2022-03-07 16:20:09 |\u001B[36m DEBUG    \u001B[0m| src.helpers.helpers_analysis.loaders | BRCA SNV data size: (120988, 121)\n",
      "2022-03-07 16:20:10 |\u001B[36m DEBUG    \u001B[0m| src.helpers.helpers_analysis.loaders | BRCA SNV data processed size: (60251, 121)\n",
      "2022-03-07 16:20:10 |\u001B[32m INFO     \u001B[0m| src.helpers.helpers_analysis.loaders | BRCA SNV datasets are loaded.\n",
      "2022-03-07 16:20:10 |\u001B[36m DEBUG    \u001B[0m| src.helpers.helpers_analysis.binary_matrix_mutations_vs_samples | Loading patient ids ..\n",
      "2022-03-07 16:20:10 |\u001B[36m DEBUG    \u001B[0m| src.helpers.helpers_analysis.binary_matrix_mutations_vs_samples | Loading proteins ..\n",
      "2022-03-07 16:20:10 |\u001B[36m DEBUG    \u001B[0m| src.helpers.helpers_analysis.binary_matrix_mutations_vs_samples | Loading patient to snv_data ..\n"
     ]
    },
    {
     "data": {
      "text/plain": "  0%|          | 0/985 [00:00<?, ?it/s]",
      "application/vnd.jupyter.widget-view+json": {
       "version_major": 2,
       "version_minor": 0,
       "model_id": "ff4834117e274e1f887c81a861e3b75d"
      }
     },
     "metadata": {},
     "output_type": "display_data"
    },
    {
     "name": "stdout",
     "output_type": "stream",
     "text": [
      "2022-03-07 16:20:16 |\u001B[36m DEBUG    \u001B[0m| src.helpers.helpers_analysis.binary_matrix_mutations_vs_samples | Constructing binary matrix ..\n"
     ]
    },
    {
     "data": {
      "text/plain": "  0%|          | 0/985 [00:00<?, ?it/s]",
      "application/vnd.jupyter.widget-view+json": {
       "version_major": 2,
       "version_minor": 0,
       "model_id": "729f353e759f44ab9aa62f74be684de9"
      }
     },
     "metadata": {},
     "output_type": "display_data"
    },
    {
     "name": "stdout",
     "output_type": "stream",
     "text": [
      "2022-03-07 16:20:54 |\u001B[32m INFO     \u001B[0m| src.helpers.helpers_analysis.binary_matrix_mutations_vs_samples | Constructing binary matrix completed.\n"
     ]
    },
    {
     "data": {
      "text/plain": "Running the test ..:   0%|          | 0/985 [00:00<?, ?it/s]",
      "application/vnd.jupyter.widget-view+json": {
       "version_major": 2,
       "version_minor": 0,
       "model_id": "e4ecc85fefa3474b8c765f23045cf6f5"
      }
     },
     "metadata": {},
     "output_type": "display_data"
    },
    {
     "name": "stdout",
     "output_type": "stream",
     "text": [
      "2022-03-07 16:20:55 |\u001B[32m INFO     \u001B[0m| src.helpers.helpers_analysis.binary_matrix_mutations_vs_samples | All tests pass.\n",
      "(15006, 985)\n",
      "2022-03-07 16:20:59 |\u001B[32m INFO     \u001B[0m| src.helpers.helpers_analysis.binary_matrix_mutations_vs_samples | BRCA_binary_matrix_2022-03-07.csv.gz is exported (compressed).\n"
     ]
    }
   ],
   "source": [
    "brca_binary_matrix = BinaryMatrix(\"BRCA\", BRCA_SNV_PATH)\n",
    "print(brca_binary_matrix.binary_matrix.shape)\n",
    "brca_binary_matrix.extract(compress=True)\n",
    "del brca_binary_matrix"
   ],
   "metadata": {
    "collapsed": false,
    "pycharm": {
     "name": "#%%\n"
    }
   }
  },
  {
   "cell_type": "code",
   "execution_count": 4,
   "outputs": [
    {
     "name": "stdout",
     "output_type": "stream",
     "text": [
      "2022-03-07 16:20:59 |\u001B[36m DEBUG    \u001B[0m| src.helpers.helpers_analysis.binary_matrix_mutations_vs_samples | Loading SNV data simplified ..\n",
      "2022-03-07 16:20:59 |\u001B[32m INFO     \u001B[0m| src.helpers.helpers_analysis.loaders | Loading COAD SNV datasets ..\n",
      "2022-03-07 16:21:11 |\u001B[36m DEBUG    \u001B[0m| src.helpers.helpers_analysis.loaders | COAD SNV data size: (264786, 121)\n",
      "2022-03-07 16:21:12 |\u001B[36m DEBUG    \u001B[0m| src.helpers.helpers_analysis.loaders | COAD SNV data processed size: (126470, 121)\n",
      "2022-03-07 16:21:12 |\u001B[32m INFO     \u001B[0m| src.helpers.helpers_analysis.loaders | COAD SNV datasets are loaded.\n",
      "2022-03-07 16:21:12 |\u001B[36m DEBUG    \u001B[0m| src.helpers.helpers_analysis.binary_matrix_mutations_vs_samples | Loading patient ids ..\n",
      "2022-03-07 16:21:12 |\u001B[36m DEBUG    \u001B[0m| src.helpers.helpers_analysis.binary_matrix_mutations_vs_samples | Loading proteins ..\n",
      "2022-03-07 16:21:12 |\u001B[36m DEBUG    \u001B[0m| src.helpers.helpers_analysis.binary_matrix_mutations_vs_samples | Loading patient to snv_data ..\n"
     ]
    },
    {
     "data": {
      "text/plain": "  0%|          | 0/399 [00:00<?, ?it/s]",
      "application/vnd.jupyter.widget-view+json": {
       "version_major": 2,
       "version_minor": 0,
       "model_id": "535bb36050e5403fa589bf11f604c70d"
      }
     },
     "metadata": {},
     "output_type": "display_data"
    },
    {
     "name": "stdout",
     "output_type": "stream",
     "text": [
      "2022-03-07 16:21:17 |\u001B[36m DEBUG    \u001B[0m| src.helpers.helpers_analysis.binary_matrix_mutations_vs_samples | Constructing binary matrix ..\n"
     ]
    },
    {
     "data": {
      "text/plain": "  0%|          | 0/399 [00:00<?, ?it/s]",
      "application/vnd.jupyter.widget-view+json": {
       "version_major": 2,
       "version_minor": 0,
       "model_id": "30f5f6888fcb492eaa6cf1aace06d953"
      }
     },
     "metadata": {},
     "output_type": "display_data"
    },
    {
     "name": "stdout",
     "output_type": "stream",
     "text": [
      "2022-03-07 16:22:13 |\u001B[32m INFO     \u001B[0m| src.helpers.helpers_analysis.binary_matrix_mutations_vs_samples | Constructing binary matrix completed.\n"
     ]
    },
    {
     "data": {
      "text/plain": "Running the test ..:   0%|          | 0/399 [00:00<?, ?it/s]",
      "application/vnd.jupyter.widget-view+json": {
       "version_major": 2,
       "version_minor": 0,
       "model_id": "fa74742ae3434c3aa21a4110ccac29ad"
      }
     },
     "metadata": {},
     "output_type": "display_data"
    },
    {
     "name": "stdout",
     "output_type": "stream",
     "text": [
      "2022-03-07 16:22:14 |\u001B[32m INFO     \u001B[0m| src.helpers.helpers_analysis.binary_matrix_mutations_vs_samples | All tests pass.\n",
      "(17094, 399)\n",
      "2022-03-07 16:22:16 |\u001B[32m INFO     \u001B[0m| src.helpers.helpers_analysis.binary_matrix_mutations_vs_samples | COAD_binary_matrix_2022-03-07.csv.gz is exported (compressed).\n"
     ]
    }
   ],
   "source": [
    "coad_binary_matrix = BinaryMatrix(\"COAD\", COAD_SNV_PATH)\n",
    "print(coad_binary_matrix.binary_matrix.shape)\n",
    "coad_binary_matrix.extract(compress=True)\n",
    "del coad_binary_matrix"
   ],
   "metadata": {
    "collapsed": false,
    "pycharm": {
     "name": "#%%\n"
    }
   }
  },
  {
   "cell_type": "code",
   "execution_count": 5,
   "outputs": [
    {
     "name": "stdout",
     "output_type": "stream",
     "text": [
      "2022-03-07 16:22:16 |\u001B[36m DEBUG    \u001B[0m| src.helpers.helpers_analysis.binary_matrix_mutations_vs_samples | Loading SNV data simplified ..\n",
      "2022-03-07 16:22:16 |\u001B[32m INFO     \u001B[0m| src.helpers.helpers_analysis.loaders | Loading ESCA SNV datasets ..\n",
      "2022-03-07 16:22:18 |\u001B[36m DEBUG    \u001B[0m| src.helpers.helpers_analysis.loaders | ESCA SNV data size: (45313, 121)\n",
      "2022-03-07 16:22:18 |\u001B[36m DEBUG    \u001B[0m| src.helpers.helpers_analysis.loaders | ESCA SNV data processed size: (19497, 121)\n",
      "2022-03-07 16:22:18 |\u001B[32m INFO     \u001B[0m| src.helpers.helpers_analysis.loaders | ESCA SNV datasets are loaded.\n",
      "2022-03-07 16:22:19 |\u001B[36m DEBUG    \u001B[0m| src.helpers.helpers_analysis.binary_matrix_mutations_vs_samples | Loading patient ids ..\n",
      "2022-03-07 16:22:19 |\u001B[36m DEBUG    \u001B[0m| src.helpers.helpers_analysis.binary_matrix_mutations_vs_samples | Loading proteins ..\n",
      "2022-03-07 16:22:19 |\u001B[36m DEBUG    \u001B[0m| src.helpers.helpers_analysis.binary_matrix_mutations_vs_samples | Loading patient to snv_data ..\n"
     ]
    },
    {
     "data": {
      "text/plain": "  0%|          | 0/184 [00:00<?, ?it/s]",
      "application/vnd.jupyter.widget-view+json": {
       "version_major": 2,
       "version_minor": 0,
       "model_id": "01b0bf9a7c14449abbab2d6f4b2e7a2c"
      }
     },
     "metadata": {},
     "output_type": "display_data"
    },
    {
     "name": "stdout",
     "output_type": "stream",
     "text": [
      "2022-03-07 16:22:19 |\u001B[36m DEBUG    \u001B[0m| src.helpers.helpers_analysis.binary_matrix_mutations_vs_samples | Constructing binary matrix ..\n"
     ]
    },
    {
     "data": {
      "text/plain": "  0%|          | 0/184 [00:00<?, ?it/s]",
      "application/vnd.jupyter.widget-view+json": {
       "version_major": 2,
       "version_minor": 0,
       "model_id": "eb7bc07f3b7c47d7b6ada6792d0e1980"
      }
     },
     "metadata": {},
     "output_type": "display_data"
    },
    {
     "name": "stdout",
     "output_type": "stream",
     "text": [
      "2022-03-07 16:22:25 |\u001B[32m INFO     \u001B[0m| src.helpers.helpers_analysis.binary_matrix_mutations_vs_samples | Constructing binary matrix completed.\n"
     ]
    },
    {
     "data": {
      "text/plain": "Running the test ..:   0%|          | 0/184 [00:00<?, ?it/s]",
      "application/vnd.jupyter.widget-view+json": {
       "version_major": 2,
       "version_minor": 0,
       "model_id": "784eb7dd476f4b598cfc6cfa752ec456"
      }
     },
     "metadata": {},
     "output_type": "display_data"
    },
    {
     "name": "stdout",
     "output_type": "stream",
     "text": [
      "2022-03-07 16:22:25 |\u001B[32m INFO     \u001B[0m| src.helpers.helpers_analysis.binary_matrix_mutations_vs_samples | All tests pass.\n",
      "(9413, 184)\n",
      "2022-03-07 16:22:26 |\u001B[32m INFO     \u001B[0m| src.helpers.helpers_analysis.binary_matrix_mutations_vs_samples | ESCA_binary_matrix_2022-03-07.csv.gz is exported (compressed).\n"
     ]
    }
   ],
   "source": [
    "esca_binary_matrix = BinaryMatrix(\"ESCA\", ESCA_SNV_PATH)\n",
    "print(esca_binary_matrix.binary_matrix.shape)\n",
    "esca_binary_matrix.extract(compress=True)\n",
    "del esca_binary_matrix"
   ],
   "metadata": {
    "collapsed": false,
    "pycharm": {
     "name": "#%%\n"
    }
   }
  },
  {
   "cell_type": "code",
   "execution_count": 6,
   "outputs": [
    {
     "name": "stdout",
     "output_type": "stream",
     "text": [
      "2022-03-07 16:22:26 |\u001B[36m DEBUG    \u001B[0m| src.helpers.helpers_analysis.binary_matrix_mutations_vs_samples | Loading SNV data simplified ..\n",
      "2022-03-07 16:22:26 |\u001B[32m INFO     \u001B[0m| src.helpers.helpers_analysis.loaders | Loading GBM SNV datasets ..\n",
      "2022-03-07 16:22:29 |\u001B[36m DEBUG    \u001B[0m| src.helpers.helpers_analysis.loaders | GBM SNV data size: (82765, 121)\n",
      "2022-03-07 16:22:29 |\u001B[36m DEBUG    \u001B[0m| src.helpers.helpers_analysis.loaders | GBM SNV data processed size: (46847, 121)\n",
      "2022-03-07 16:22:29 |\u001B[32m INFO     \u001B[0m| src.helpers.helpers_analysis.loaders | GBM SNV datasets are loaded.\n",
      "2022-03-07 16:22:30 |\u001B[36m DEBUG    \u001B[0m| src.helpers.helpers_analysis.binary_matrix_mutations_vs_samples | Loading patient ids ..\n",
      "2022-03-07 16:22:30 |\u001B[36m DEBUG    \u001B[0m| src.helpers.helpers_analysis.binary_matrix_mutations_vs_samples | Loading proteins ..\n",
      "2022-03-07 16:22:30 |\u001B[36m DEBUG    \u001B[0m| src.helpers.helpers_analysis.binary_matrix_mutations_vs_samples | Loading patient to snv_data ..\n"
     ]
    },
    {
     "data": {
      "text/plain": "  0%|          | 0/392 [00:00<?, ?it/s]",
      "application/vnd.jupyter.widget-view+json": {
       "version_major": 2,
       "version_minor": 0,
       "model_id": "0d088f36e6844895a42496280347961e"
      }
     },
     "metadata": {},
     "output_type": "display_data"
    },
    {
     "name": "stdout",
     "output_type": "stream",
     "text": [
      "2022-03-07 16:22:32 |\u001B[36m DEBUG    \u001B[0m| src.helpers.helpers_analysis.binary_matrix_mutations_vs_samples | Constructing binary matrix ..\n"
     ]
    },
    {
     "data": {
      "text/plain": "  0%|          | 0/392 [00:00<?, ?it/s]",
      "application/vnd.jupyter.widget-view+json": {
       "version_major": 2,
       "version_minor": 0,
       "model_id": "7a950e6b7c514ec7b2a91d66cd1d4b0d"
      }
     },
     "metadata": {},
     "output_type": "display_data"
    },
    {
     "name": "stdout",
     "output_type": "stream",
     "text": [
      "2022-03-07 16:22:52 |\u001B[32m INFO     \u001B[0m| src.helpers.helpers_analysis.binary_matrix_mutations_vs_samples | Constructing binary matrix completed.\n"
     ]
    },
    {
     "data": {
      "text/plain": "Running the test ..:   0%|          | 0/392 [00:00<?, ?it/s]",
      "application/vnd.jupyter.widget-view+json": {
       "version_major": 2,
       "version_minor": 0,
       "model_id": "f0f2b420bd46488c8f58e5e57b399e86"
      }
     },
     "metadata": {},
     "output_type": "display_data"
    },
    {
     "name": "stdout",
     "output_type": "stream",
     "text": [
      "2022-03-07 16:22:52 |\u001B[32m INFO     \u001B[0m| src.helpers.helpers_analysis.binary_matrix_mutations_vs_samples | All tests pass.\n",
      "(13755, 392)\n",
      "2022-03-07 16:22:56 |\u001B[32m INFO     \u001B[0m| src.helpers.helpers_analysis.binary_matrix_mutations_vs_samples | GBM_binary_matrix_2022-03-07.csv.gz is exported (compressed).\n"
     ]
    }
   ],
   "source": [
    "gbm_binary_matrix = BinaryMatrix(\"GBM\", GBM_SNV_PATH)\n",
    "print(gbm_binary_matrix.binary_matrix.shape)\n",
    "gbm_binary_matrix.extract(compress=True)\n",
    "del gbm_binary_matrix"
   ],
   "metadata": {
    "collapsed": false,
    "pycharm": {
     "name": "#%%\n"
    }
   }
  },
  {
   "cell_type": "code",
   "execution_count": 7,
   "outputs": [
    {
     "name": "stdout",
     "output_type": "stream",
     "text": [
      "2022-03-07 16:22:56 |\u001B[36m DEBUG    \u001B[0m| src.helpers.helpers_analysis.binary_matrix_mutations_vs_samples | Loading SNV data simplified ..\n",
      "2022-03-07 16:22:56 |\u001B[32m INFO     \u001B[0m| src.helpers.helpers_analysis.loaders | Loading HNSC SNV datasets ..\n",
      "2022-03-07 16:23:03 |\u001B[36m DEBUG    \u001B[0m| src.helpers.helpers_analysis.loaders | HNSC SNV data size: (102309, 121)\n",
      "2022-03-07 16:23:04 |\u001B[36m DEBUG    \u001B[0m| src.helpers.helpers_analysis.loaders | HNSC SNV data processed size: (54883, 121)\n",
      "2022-03-07 16:23:04 |\u001B[32m INFO     \u001B[0m| src.helpers.helpers_analysis.loaders | HNSC SNV datasets are loaded.\n",
      "2022-03-07 16:23:04 |\u001B[36m DEBUG    \u001B[0m| src.helpers.helpers_analysis.binary_matrix_mutations_vs_samples | Loading patient ids ..\n",
      "2022-03-07 16:23:04 |\u001B[36m DEBUG    \u001B[0m| src.helpers.helpers_analysis.binary_matrix_mutations_vs_samples | Loading proteins ..\n",
      "2022-03-07 16:23:04 |\u001B[36m DEBUG    \u001B[0m| src.helpers.helpers_analysis.binary_matrix_mutations_vs_samples | Loading patient to snv_data ..\n"
     ]
    },
    {
     "data": {
      "text/plain": "  0%|          | 0/507 [00:00<?, ?it/s]",
      "application/vnd.jupyter.widget-view+json": {
       "version_major": 2,
       "version_minor": 0,
       "model_id": "8916558c73994868bebda5d9e0c00157"
      }
     },
     "metadata": {},
     "output_type": "display_data"
    },
    {
     "name": "stdout",
     "output_type": "stream",
     "text": [
      "2022-03-07 16:23:07 |\u001B[36m DEBUG    \u001B[0m| src.helpers.helpers_analysis.binary_matrix_mutations_vs_samples | Constructing binary matrix ..\n"
     ]
    },
    {
     "data": {
      "text/plain": "  0%|          | 0/507 [00:00<?, ?it/s]",
      "application/vnd.jupyter.widget-view+json": {
       "version_major": 2,
       "version_minor": 0,
       "model_id": "b4deb75c731e49bf92c642cd723024af"
      }
     },
     "metadata": {},
     "output_type": "display_data"
    },
    {
     "name": "stdout",
     "output_type": "stream",
     "text": [
      "2022-03-07 16:23:36 |\u001B[32m INFO     \u001B[0m| src.helpers.helpers_analysis.binary_matrix_mutations_vs_samples | Constructing binary matrix completed.\n"
     ]
    },
    {
     "data": {
      "text/plain": "Running the test ..:   0%|          | 0/507 [00:00<?, ?it/s]",
      "application/vnd.jupyter.widget-view+json": {
       "version_major": 2,
       "version_minor": 0,
       "model_id": "16e92cb114534f84ad7fb8e69ad313f4"
      }
     },
     "metadata": {},
     "output_type": "display_data"
    },
    {
     "name": "stdout",
     "output_type": "stream",
     "text": [
      "2022-03-07 16:23:36 |\u001B[32m INFO     \u001B[0m| src.helpers.helpers_analysis.binary_matrix_mutations_vs_samples | All tests pass.\n",
      "(14306, 507)\n",
      "2022-03-07 16:23:39 |\u001B[32m INFO     \u001B[0m| src.helpers.helpers_analysis.binary_matrix_mutations_vs_samples | HNSC_binary_matrix_2022-03-07.csv.gz is exported (compressed).\n"
     ]
    }
   ],
   "source": [
    "hnsc_binary_matrix = BinaryMatrix(\"HNSC\", HNSC_SNV_PATH)\n",
    "print(hnsc_binary_matrix.binary_matrix.shape)\n",
    "hnsc_binary_matrix.extract(compress=True)\n",
    "del hnsc_binary_matrix"
   ],
   "metadata": {
    "collapsed": false,
    "pycharm": {
     "name": "#%%\n"
    }
   }
  },
  {
   "cell_type": "code",
   "execution_count": 8,
   "outputs": [
    {
     "name": "stdout",
     "output_type": "stream",
     "text": [
      "2022-03-07 16:23:39 |\u001B[36m DEBUG    \u001B[0m| src.helpers.helpers_analysis.binary_matrix_mutations_vs_samples | Loading SNV data simplified ..\n",
      "2022-03-07 16:23:39 |\u001B[32m INFO     \u001B[0m| src.helpers.helpers_analysis.loaders | Loading OV SNV datasets ..\n",
      "2022-03-07 16:23:43 |\u001B[36m DEBUG    \u001B[0m| src.helpers.helpers_analysis.loaders | OV SNV data size: (75168, 121)\n",
      "2022-03-07 16:23:44 |\u001B[36m DEBUG    \u001B[0m| src.helpers.helpers_analysis.loaders | OV SNV data processed size: (38486, 121)\n",
      "2022-03-07 16:23:44 |\u001B[32m INFO     \u001B[0m| src.helpers.helpers_analysis.loaders | OV SNV datasets are loaded.\n",
      "2022-03-07 16:23:44 |\u001B[36m DEBUG    \u001B[0m| src.helpers.helpers_analysis.binary_matrix_mutations_vs_samples | Loading patient ids ..\n",
      "2022-03-07 16:23:44 |\u001B[36m DEBUG    \u001B[0m| src.helpers.helpers_analysis.binary_matrix_mutations_vs_samples | Loading proteins ..\n",
      "2022-03-07 16:23:44 |\u001B[36m DEBUG    \u001B[0m| src.helpers.helpers_analysis.binary_matrix_mutations_vs_samples | Loading patient to snv_data ..\n"
     ]
    },
    {
     "data": {
      "text/plain": "  0%|          | 0/436 [00:00<?, ?it/s]",
      "application/vnd.jupyter.widget-view+json": {
       "version_major": 2,
       "version_minor": 0,
       "model_id": "cb05a340d2ed48d4a61bbc4e30f64371"
      }
     },
     "metadata": {},
     "output_type": "display_data"
    },
    {
     "name": "stdout",
     "output_type": "stream",
     "text": [
      "2022-03-07 16:23:46 |\u001B[36m DEBUG    \u001B[0m| src.helpers.helpers_analysis.binary_matrix_mutations_vs_samples | Constructing binary matrix ..\n"
     ]
    },
    {
     "data": {
      "text/plain": "  0%|          | 0/436 [00:00<?, ?it/s]",
      "application/vnd.jupyter.widget-view+json": {
       "version_major": 2,
       "version_minor": 0,
       "model_id": "382dd235262448529c769f7099ca5913"
      }
     },
     "metadata": {},
     "output_type": "display_data"
    },
    {
     "name": "stdout",
     "output_type": "stream",
     "text": [
      "2022-03-07 16:24:03 |\u001B[32m INFO     \u001B[0m| src.helpers.helpers_analysis.binary_matrix_mutations_vs_samples | Constructing binary matrix completed.\n"
     ]
    },
    {
     "data": {
      "text/plain": "Running the test ..:   0%|          | 0/436 [00:00<?, ?it/s]",
      "application/vnd.jupyter.widget-view+json": {
       "version_major": 2,
       "version_minor": 0,
       "model_id": "8285a30566c14e06a45fb74d3b549a18"
      }
     },
     "metadata": {},
     "output_type": "display_data"
    },
    {
     "name": "stdout",
     "output_type": "stream",
     "text": [
      "2022-03-07 16:24:04 |\u001B[32m INFO     \u001B[0m| src.helpers.helpers_analysis.binary_matrix_mutations_vs_samples | All tests pass.\n",
      "(12785, 436)\n",
      "2022-03-07 16:24:05 |\u001B[32m INFO     \u001B[0m| src.helpers.helpers_analysis.binary_matrix_mutations_vs_samples | OV_binary_matrix_2022-03-07.csv.gz is exported (compressed).\n"
     ]
    }
   ],
   "source": [
    "ov_binary_matrix = BinaryMatrix(\"OV\", OV_SNV_PATH)\n",
    "print(ov_binary_matrix.binary_matrix.shape)\n",
    "ov_binary_matrix.extract(compress=True)\n",
    "del ov_binary_matrix"
   ],
   "metadata": {
    "collapsed": false,
    "pycharm": {
     "name": "#%%\n"
    }
   }
  },
  {
   "cell_type": "code",
   "execution_count": 8,
   "id": "7b1bcf06-9178-4947-8442-14dfd36a485b",
   "metadata": {},
   "outputs": [],
   "source": []
  },
  {
   "cell_type": "code",
   "execution_count": 9,
   "outputs": [
    {
     "name": "stdout",
     "output_type": "stream",
     "text": [
      "end\n"
     ]
    }
   ],
   "source": [
    "print(\"end\")"
   ],
   "metadata": {
    "collapsed": false,
    "pycharm": {
     "name": "#%%\n"
    }
   }
  },
  {
   "cell_type": "markdown",
   "id": "3bfde126-3e5d-40dd-9918-7a39863a4301",
   "metadata": {
    "pycharm": {
     "name": "#%% md\n"
    }
   },
   "source": [
    "---"
   ]
  },
  {
   "cell_type": "code",
   "execution_count": null,
   "outputs": [],
   "source": [],
   "metadata": {
    "collapsed": false,
    "pycharm": {
     "name": "#%%\n"
    }
   }
  },
  {
   "cell_type": "code",
   "execution_count": null,
   "outputs": [],
   "source": [],
   "metadata": {
    "collapsed": false,
    "pycharm": {
     "name": "#%%\n"
    }
   }
  }
 ],
 "metadata": {
  "kernelspec": {
   "display_name": "Predicting-Mutation-Effects",
   "language": "python",
   "name": "predicting-mutation-effects"
  },
  "language_info": {
   "codemirror_mode": {
    "name": "ipython",
    "version": 3
   },
   "file_extension": ".py",
   "mimetype": "text/x-python",
   "name": "python",
   "nbconvert_exporter": "python",
   "pygments_lexer": "ipython3",
   "version": "3.8.10"
  }
 },
 "nbformat": 4,
 "nbformat_minor": 5
}