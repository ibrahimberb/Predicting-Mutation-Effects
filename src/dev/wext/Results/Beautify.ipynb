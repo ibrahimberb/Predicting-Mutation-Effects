{
 "cells": [
  {
   "cell_type": "markdown",
   "source": [
    "# Beautify the Wext Results (Add gene ID, etc.)"
   ],
   "metadata": {
    "collapsed": false
   }
  },
  {
   "cell_type": "code",
   "execution_count": 1,
   "outputs": [
    {
     "name": "stdout",
     "output_type": "stream",
     "text": [
      "\u001B[32mMarch 09, 2022 12:22:26\u001B[0m\n"
     ]
    }
   ],
   "source": [
    "from datetime import datetime\n",
    "\n",
    "print(\"\\033[32m{}\\033[0m\".format(datetime.now().strftime(\"%B %d, %Y %H:%M:%S\")))"
   ],
   "metadata": {
    "collapsed": false,
    "pycharm": {
     "name": "#%%\n"
    }
   }
  },
  {
   "cell_type": "code",
   "execution_count": 2,
   "outputs": [],
   "source": [
    "import pandas as pd\n",
    "import os.path as op\n",
    "\n",
    "from src.helpers.helpers_analysis.gene_id_retrieval import GeneIDFetcher\n",
    "\n",
    "UNIPROT_GENE_MAPPING_PATH = \"../../../helpers/helpers_analysis/gene_retrieval/UNIPROT_GENE_MAPPING.csv\"\n",
    "\n",
    "BRCA_WEXT_OUTPUT_PATH = \"BRCA_wext_raw_output_t0_k2.tsv\"\n",
    "COAD_WEXT_OUTPUT_PATH = \"COAD_wext_raw_output_t0_k2.tsv\"\n",
    "ESCA_WEXT_OUTPUT_PATH = \"ESCA_wext_raw_output_t0_k2.tsv\"\n",
    "GBM_WEXT_OUTPUT_PATH = \"GBM_wext_raw_output_t0_k2.tsv\"\n",
    "HNSC_WEXT_OUTPUT_PATH = \"HNSC_wext_raw_output_t0_k2.tsv\"\n",
    "OV_WEXT_OUTPUT_PATH = \"OV_wext_raw_output_t0_k2.tsv\"\n",
    "\n",
    "# Reflect changes in the modules immediately.\n",
    "%load_ext autoreload\n",
    "%autoreload 2"
   ],
   "metadata": {
    "collapsed": false,
    "pycharm": {
     "name": "#%%\n"
    }
   }
  },
  {
   "cell_type": "code",
   "execution_count": 3,
   "outputs": [],
   "source": [
    "gene_id_fetcher = GeneIDFetcher(UNIPROT_GENE_MAPPING_PATH)"
   ],
   "metadata": {
    "collapsed": false,
    "pycharm": {
     "name": "#%%\n"
    }
   }
  },
  {
   "cell_type": "code",
   "execution_count": 7,
   "outputs": [
    {
     "data": {
      "text/plain": "'USF1'"
     },
     "execution_count": 7,
     "metadata": {},
     "output_type": "execute_result"
    }
   ],
   "source": [
    "gene_id_fetcher.fetch(\"P22415\")"
   ],
   "metadata": {
    "collapsed": false,
    "pycharm": {
     "name": "#%%\n"
    }
   }
  },
  {
   "cell_type": "code",
   "execution_count": 6,
   "outputs": [
    {
     "name": "stdout",
     "output_type": "stream",
     "text": [
      "2022-03-09 12:25:23 |\u001B[33m WARNING  \u001B[0m| src.helpers.helpers_analysis.gene_id_retrieval | Manual mapping used: Q13748 : TUBA3C \n"
     ]
    },
    {
     "data": {
      "text/plain": "'TUBA3C'"
     },
     "execution_count": 6,
     "metadata": {},
     "output_type": "execute_result"
    }
   ],
   "source": [
    "gene_id_fetcher.fetch(\"Q13748\")"
   ],
   "metadata": {
    "collapsed": false,
    "pycharm": {
     "name": "#%%\n"
    }
   }
  },
  {
   "cell_type": "code",
   "execution_count": null,
   "outputs": [],
   "source": [],
   "metadata": {
    "collapsed": false,
    "pycharm": {
     "name": "#%%\n"
    }
   }
  },
  {
   "cell_type": "code",
   "execution_count": 8,
   "outputs": [],
   "source": [
    "def read_wext_datasets(data_path):\n",
    "    data = pd.read_csv(data_path, sep=\"\\t\")\n",
    "    data.rename({\"#Gene set\": \"UNIPROT_PAIRS\"}, axis=\"columns\", inplace=True)\n",
    "    return data\n",
    "\n",
    "def _get_gene_id_pairs(protein_pairs):\n",
    "    p1, p2 = protein_pairs.split(\",\")\n",
    "    p1 = p1.strip()\n",
    "    p2 = p2.strip()\n",
    "\n",
    "    g1 = gene_id_fetcher.fetch(p1)\n",
    "    g2 = gene_id_fetcher.fetch(p2)\n",
    "\n",
    "    return f\"{g1}, {g2}\"\n",
    "\n",
    "\n",
    "def add_gene_id_column(data: pd.DataFrame):\n",
    "    converted_pairs = data[\"UNIPROT_PAIRS\"].apply(lambda x: _get_gene_id_pairs(x))\n",
    "    data.insert(\n",
    "        loc=1,\n",
    "        column=\"GENE_ID_PAIRS\",\n",
    "        value=converted_pairs\n",
    "    )\n",
    "    return data\n",
    "\n",
    "\n",
    "def export_data(tcga: str, data: pd.DataFrame):\n",
    "    file_date = datetime.today().strftime('%Y-%m-%d')\n",
    "    file_name = f\"{tcga}_wext_output_gene_added_{file_date}.tsv\"\n",
    "    if op.isfile(file_name):\n",
    "        raise FileExistsError\n",
    "\n",
    "    else:\n",
    "        data.to_csv(file_name, sep=\"\\t\", index=False)\n",
    "        print(f\"Data is exported to {file_name} successfully.\")\n"
   ],
   "metadata": {
    "collapsed": false,
    "pycharm": {
     "name": "#%%\n"
    }
   }
  },
  {
   "cell_type": "code",
   "execution_count": 9,
   "outputs": [],
   "source": [
    "brca_wext_data = read_wext_datasets(BRCA_WEXT_OUTPUT_PATH)\n",
    "coad_wext_data = read_wext_datasets(COAD_WEXT_OUTPUT_PATH)\n",
    "esca_wext_data = read_wext_datasets(ESCA_WEXT_OUTPUT_PATH)\n",
    "gbm_wext_data = read_wext_datasets(GBM_WEXT_OUTPUT_PATH)\n",
    "hnsc_wext_data = read_wext_datasets(HNSC_WEXT_OUTPUT_PATH)\n",
    "ov_wext_data = read_wext_datasets(OV_WEXT_OUTPUT_PATH)\n",
    "\n",
    "TCGA_TO_WEXT_DATASETS = {\n",
    "    \"BRCA\": brca_wext_data,\n",
    "    \"COAD\": coad_wext_data,\n",
    "    \"ESCA\": esca_wext_data,\n",
    "    \"GBM\": gbm_wext_data,\n",
    "    \"HNSC\": hnsc_wext_data,\n",
    "    \"OV\": ov_wext_data,\n",
    "}"
   ],
   "metadata": {
    "collapsed": false,
    "pycharm": {
     "name": "#%%\n"
    }
   }
  },
  {
   "cell_type": "code",
   "execution_count": 10,
   "outputs": [
    {
     "name": "stdout",
     "output_type": "stream",
     "text": [
      "Data is exported to BRCA_wext_output_gene_added_2022-03-09.tsv successfully.\n",
      "2022-03-09 12:25:53 |\u001B[33m WARNING  \u001B[0m| src.helpers.helpers_analysis.gene_id_retrieval | Manual mapping used: Q13748 : TUBA3C \n",
      "2022-03-09 12:25:53 |\u001B[33m WARNING  \u001B[0m| src.helpers.helpers_analysis.gene_id_retrieval | Manual mapping used: Q13748 : TUBA3C \n",
      "2022-03-09 12:25:54 |\u001B[33m WARNING  \u001B[0m| src.helpers.helpers_analysis.gene_id_retrieval | Manual mapping used: Q13748 : TUBA3C \n",
      "2022-03-09 12:25:54 |\u001B[33m WARNING  \u001B[0m| src.helpers.helpers_analysis.gene_id_retrieval | Manual mapping used: Q13748 : TUBA3C \n",
      "2022-03-09 12:25:54 |\u001B[33m WARNING  \u001B[0m| src.helpers.helpers_analysis.gene_id_retrieval | Manual mapping used: Q13748 : TUBA3C \n",
      "2022-03-09 12:25:54 |\u001B[33m WARNING  \u001B[0m| src.helpers.helpers_analysis.gene_id_retrieval | Manual mapping used: Q13748 : TUBA3C \n",
      "2022-03-09 12:25:54 |\u001B[33m WARNING  \u001B[0m| src.helpers.helpers_analysis.gene_id_retrieval | Manual mapping used: Q13748 : TUBA3C \n",
      "2022-03-09 12:25:54 |\u001B[33m WARNING  \u001B[0m| src.helpers.helpers_analysis.gene_id_retrieval | Manual mapping used: Q13748 : TUBA3C \n",
      "2022-03-09 12:25:54 |\u001B[33m WARNING  \u001B[0m| src.helpers.helpers_analysis.gene_id_retrieval | Manual mapping used: Q13748 : TUBA3C \n",
      "2022-03-09 12:25:54 |\u001B[33m WARNING  \u001B[0m| src.helpers.helpers_analysis.gene_id_retrieval | Manual mapping used: Q13748 : TUBA3C \n",
      "2022-03-09 12:25:54 |\u001B[33m WARNING  \u001B[0m| src.helpers.helpers_analysis.gene_id_retrieval | Manual mapping used: Q13748 : TUBA3C \n",
      "2022-03-09 12:25:54 |\u001B[33m WARNING  \u001B[0m| src.helpers.helpers_analysis.gene_id_retrieval | Manual mapping used: Q13748 : TUBA3C \n",
      "2022-03-09 12:25:54 |\u001B[33m WARNING  \u001B[0m| src.helpers.helpers_analysis.gene_id_retrieval | Manual mapping used: Q13748 : TUBA3C \n",
      "2022-03-09 12:25:54 |\u001B[33m WARNING  \u001B[0m| src.helpers.helpers_analysis.gene_id_retrieval | Manual mapping used: Q13748 : TUBA3C \n",
      "2022-03-09 12:25:54 |\u001B[33m WARNING  \u001B[0m| src.helpers.helpers_analysis.gene_id_retrieval | Manual mapping used: Q13748 : TUBA3C \n",
      "2022-03-09 12:25:54 |\u001B[33m WARNING  \u001B[0m| src.helpers.helpers_analysis.gene_id_retrieval | Manual mapping used: Q13748 : TUBA3C \n",
      "2022-03-09 12:25:54 |\u001B[33m WARNING  \u001B[0m| src.helpers.helpers_analysis.gene_id_retrieval | Manual mapping used: Q13748 : TUBA3C \n",
      "2022-03-09 12:25:54 |\u001B[33m WARNING  \u001B[0m| src.helpers.helpers_analysis.gene_id_retrieval | Manual mapping used: Q13748 : TUBA3C \n",
      "2022-03-09 12:25:54 |\u001B[33m WARNING  \u001B[0m| src.helpers.helpers_analysis.gene_id_retrieval | Manual mapping used: Q13748 : TUBA3C \n",
      "2022-03-09 12:25:54 |\u001B[33m WARNING  \u001B[0m| src.helpers.helpers_analysis.gene_id_retrieval | Manual mapping used: Q13748 : TUBA3C \n",
      "2022-03-09 12:25:54 |\u001B[33m WARNING  \u001B[0m| src.helpers.helpers_analysis.gene_id_retrieval | Manual mapping used: Q13748 : TUBA3C \n",
      "2022-03-09 12:25:54 |\u001B[33m WARNING  \u001B[0m| src.helpers.helpers_analysis.gene_id_retrieval | Manual mapping used: Q13748 : TUBA3C \n",
      "2022-03-09 12:25:54 |\u001B[33m WARNING  \u001B[0m| src.helpers.helpers_analysis.gene_id_retrieval | Manual mapping used: Q13748 : TUBA3C \n",
      "2022-03-09 12:25:54 |\u001B[33m WARNING  \u001B[0m| src.helpers.helpers_analysis.gene_id_retrieval | Manual mapping used: Q13748 : TUBA3C \n",
      "2022-03-09 12:25:54 |\u001B[33m WARNING  \u001B[0m| src.helpers.helpers_analysis.gene_id_retrieval | Manual mapping used: Q13748 : TUBA3C \n",
      "2022-03-09 12:25:54 |\u001B[33m WARNING  \u001B[0m| src.helpers.helpers_analysis.gene_id_retrieval | Manual mapping used: Q13748 : TUBA3C \n",
      "2022-03-09 12:25:54 |\u001B[33m WARNING  \u001B[0m| src.helpers.helpers_analysis.gene_id_retrieval | Manual mapping used: Q13748 : TUBA3C \n",
      "2022-03-09 12:25:54 |\u001B[33m WARNING  \u001B[0m| src.helpers.helpers_analysis.gene_id_retrieval | Manual mapping used: Q13748 : TUBA3C \n",
      "2022-03-09 12:25:54 |\u001B[33m WARNING  \u001B[0m| src.helpers.helpers_analysis.gene_id_retrieval | Manual mapping used: Q13748 : TUBA3C \n",
      "2022-03-09 12:25:54 |\u001B[33m WARNING  \u001B[0m| src.helpers.helpers_analysis.gene_id_retrieval | Manual mapping used: Q13748 : TUBA3C \n",
      "2022-03-09 12:25:54 |\u001B[33m WARNING  \u001B[0m| src.helpers.helpers_analysis.gene_id_retrieval | Manual mapping used: Q13748 : TUBA3C \n",
      "2022-03-09 12:25:54 |\u001B[33m WARNING  \u001B[0m| src.helpers.helpers_analysis.gene_id_retrieval | Manual mapping used: Q13748 : TUBA3C \n",
      "2022-03-09 12:25:54 |\u001B[33m WARNING  \u001B[0m| src.helpers.helpers_analysis.gene_id_retrieval | Manual mapping used: Q13748 : TUBA3C \n",
      "2022-03-09 12:25:54 |\u001B[33m WARNING  \u001B[0m| src.helpers.helpers_analysis.gene_id_retrieval | Manual mapping used: Q13748 : TUBA3C \n",
      "2022-03-09 12:25:54 |\u001B[33m WARNING  \u001B[0m| src.helpers.helpers_analysis.gene_id_retrieval | Manual mapping used: Q13748 : TUBA3C \n",
      "2022-03-09 12:25:54 |\u001B[33m WARNING  \u001B[0m| src.helpers.helpers_analysis.gene_id_retrieval | Manual mapping used: Q13748 : TUBA3C \n",
      "2022-03-09 12:25:54 |\u001B[33m WARNING  \u001B[0m| src.helpers.helpers_analysis.gene_id_retrieval | Manual mapping used: Q13748 : TUBA3C \n",
      "2022-03-09 12:25:55 |\u001B[33m WARNING  \u001B[0m| src.helpers.helpers_analysis.gene_id_retrieval | Manual mapping used: Q13748 : TUBA3C \n",
      "2022-03-09 12:25:55 |\u001B[33m WARNING  \u001B[0m| src.helpers.helpers_analysis.gene_id_retrieval | Manual mapping used: Q13748 : TUBA3C \n",
      "2022-03-09 12:25:55 |\u001B[33m WARNING  \u001B[0m| src.helpers.helpers_analysis.gene_id_retrieval | Manual mapping used: Q13748 : TUBA3C \n",
      "2022-03-09 12:25:55 |\u001B[33m WARNING  \u001B[0m| src.helpers.helpers_analysis.gene_id_retrieval | Manual mapping used: Q13748 : TUBA3C \n",
      "2022-03-09 12:25:55 |\u001B[33m WARNING  \u001B[0m| src.helpers.helpers_analysis.gene_id_retrieval | Manual mapping used: Q13748 : TUBA3C \n",
      "2022-03-09 12:25:55 |\u001B[33m WARNING  \u001B[0m| src.helpers.helpers_analysis.gene_id_retrieval | Manual mapping used: Q13748 : TUBA3C \n",
      "2022-03-09 12:25:55 |\u001B[33m WARNING  \u001B[0m| src.helpers.helpers_analysis.gene_id_retrieval | Manual mapping used: Q13748 : TUBA3C \n",
      "2022-03-09 12:25:55 |\u001B[33m WARNING  \u001B[0m| src.helpers.helpers_analysis.gene_id_retrieval | Manual mapping used: Q13748 : TUBA3C \n",
      "2022-03-09 12:25:55 |\u001B[33m WARNING  \u001B[0m| src.helpers.helpers_analysis.gene_id_retrieval | Manual mapping used: Q13748 : TUBA3C \n",
      "2022-03-09 12:25:55 |\u001B[33m WARNING  \u001B[0m| src.helpers.helpers_analysis.gene_id_retrieval | Manual mapping used: Q13748 : TUBA3C \n",
      "2022-03-09 12:25:55 |\u001B[33m WARNING  \u001B[0m| src.helpers.helpers_analysis.gene_id_retrieval | Manual mapping used: Q13748 : TUBA3C \n",
      "2022-03-09 12:25:55 |\u001B[33m WARNING  \u001B[0m| src.helpers.helpers_analysis.gene_id_retrieval | Manual mapping used: Q13748 : TUBA3C \n",
      "2022-03-09 12:25:55 |\u001B[33m WARNING  \u001B[0m| src.helpers.helpers_analysis.gene_id_retrieval | Manual mapping used: Q13748 : TUBA3C \n",
      "2022-03-09 12:25:55 |\u001B[33m WARNING  \u001B[0m| src.helpers.helpers_analysis.gene_id_retrieval | Manual mapping used: Q13748 : TUBA3C \n",
      "2022-03-09 12:25:55 |\u001B[33m WARNING  \u001B[0m| src.helpers.helpers_analysis.gene_id_retrieval | Manual mapping used: Q13748 : TUBA3C \n",
      "2022-03-09 12:25:55 |\u001B[33m WARNING  \u001B[0m| src.helpers.helpers_analysis.gene_id_retrieval | Manual mapping used: Q13748 : TUBA3C \n",
      "2022-03-09 12:25:55 |\u001B[33m WARNING  \u001B[0m| src.helpers.helpers_analysis.gene_id_retrieval | Manual mapping used: Q13748 : TUBA3C \n",
      "2022-03-09 12:25:55 |\u001B[33m WARNING  \u001B[0m| src.helpers.helpers_analysis.gene_id_retrieval | Manual mapping used: Q13748 : TUBA3C \n",
      "2022-03-09 12:25:55 |\u001B[33m WARNING  \u001B[0m| src.helpers.helpers_analysis.gene_id_retrieval | Manual mapping used: Q13748 : TUBA3C \n",
      "2022-03-09 12:25:55 |\u001B[33m WARNING  \u001B[0m| src.helpers.helpers_analysis.gene_id_retrieval | Manual mapping used: Q13748 : TUBA3C \n",
      "2022-03-09 12:25:55 |\u001B[33m WARNING  \u001B[0m| src.helpers.helpers_analysis.gene_id_retrieval | Manual mapping used: Q13748 : TUBA3C \n",
      "2022-03-09 12:25:55 |\u001B[33m WARNING  \u001B[0m| src.helpers.helpers_analysis.gene_id_retrieval | Manual mapping used: Q13748 : TUBA3C \n",
      "2022-03-09 12:25:55 |\u001B[33m WARNING  \u001B[0m| src.helpers.helpers_analysis.gene_id_retrieval | Manual mapping used: Q13748 : TUBA3C \n",
      "2022-03-09 12:25:55 |\u001B[33m WARNING  \u001B[0m| src.helpers.helpers_analysis.gene_id_retrieval | Manual mapping used: Q13748 : TUBA3C \n",
      "2022-03-09 12:25:55 |\u001B[33m WARNING  \u001B[0m| src.helpers.helpers_analysis.gene_id_retrieval | Manual mapping used: Q13748 : TUBA3C \n",
      "2022-03-09 12:25:55 |\u001B[33m WARNING  \u001B[0m| src.helpers.helpers_analysis.gene_id_retrieval | Manual mapping used: Q13748 : TUBA3C \n",
      "2022-03-09 12:25:55 |\u001B[33m WARNING  \u001B[0m| src.helpers.helpers_analysis.gene_id_retrieval | Manual mapping used: Q13748 : TUBA3C \n",
      "2022-03-09 12:25:55 |\u001B[33m WARNING  \u001B[0m| src.helpers.helpers_analysis.gene_id_retrieval | Manual mapping used: Q13748 : TUBA3C \n",
      "2022-03-09 12:25:55 |\u001B[33m WARNING  \u001B[0m| src.helpers.helpers_analysis.gene_id_retrieval | Manual mapping used: Q13748 : TUBA3C \n",
      "2022-03-09 12:25:55 |\u001B[33m WARNING  \u001B[0m| src.helpers.helpers_analysis.gene_id_retrieval | Manual mapping used: Q13748 : TUBA3C \n",
      "2022-03-09 12:25:55 |\u001B[33m WARNING  \u001B[0m| src.helpers.helpers_analysis.gene_id_retrieval | Manual mapping used: Q13748 : TUBA3C \n",
      "2022-03-09 12:25:55 |\u001B[33m WARNING  \u001B[0m| src.helpers.helpers_analysis.gene_id_retrieval | Manual mapping used: Q13748 : TUBA3C \n",
      "2022-03-09 12:25:55 |\u001B[33m WARNING  \u001B[0m| src.helpers.helpers_analysis.gene_id_retrieval | Manual mapping used: Q13748 : TUBA3C \n",
      "2022-03-09 12:25:55 |\u001B[33m WARNING  \u001B[0m| src.helpers.helpers_analysis.gene_id_retrieval | Manual mapping used: Q13748 : TUBA3C \n",
      "2022-03-09 12:25:55 |\u001B[33m WARNING  \u001B[0m| src.helpers.helpers_analysis.gene_id_retrieval | Manual mapping used: Q13748 : TUBA3C \n",
      "2022-03-09 12:25:55 |\u001B[33m WARNING  \u001B[0m| src.helpers.helpers_analysis.gene_id_retrieval | Manual mapping used: Q13748 : TUBA3C \n",
      "2022-03-09 12:25:55 |\u001B[33m WARNING  \u001B[0m| src.helpers.helpers_analysis.gene_id_retrieval | Manual mapping used: Q13748 : TUBA3C \n",
      "2022-03-09 12:25:55 |\u001B[33m WARNING  \u001B[0m| src.helpers.helpers_analysis.gene_id_retrieval | Manual mapping used: Q13748 : TUBA3C \n",
      "2022-03-09 12:25:55 |\u001B[33m WARNING  \u001B[0m| src.helpers.helpers_analysis.gene_id_retrieval | Manual mapping used: Q13748 : TUBA3C \n",
      "2022-03-09 12:25:55 |\u001B[33m WARNING  \u001B[0m| src.helpers.helpers_analysis.gene_id_retrieval | Manual mapping used: Q13748 : TUBA3C \n",
      "2022-03-09 12:25:55 |\u001B[33m WARNING  \u001B[0m| src.helpers.helpers_analysis.gene_id_retrieval | Manual mapping used: Q13748 : TUBA3C \n",
      "2022-03-09 12:25:55 |\u001B[33m WARNING  \u001B[0m| src.helpers.helpers_analysis.gene_id_retrieval | Manual mapping used: Q13748 : TUBA3C \n",
      "2022-03-09 12:25:55 |\u001B[33m WARNING  \u001B[0m| src.helpers.helpers_analysis.gene_id_retrieval | Manual mapping used: Q13748 : TUBA3C \n",
      "2022-03-09 12:25:55 |\u001B[33m WARNING  \u001B[0m| src.helpers.helpers_analysis.gene_id_retrieval | Manual mapping used: Q13748 : TUBA3C \n",
      "2022-03-09 12:25:55 |\u001B[33m WARNING  \u001B[0m| src.helpers.helpers_analysis.gene_id_retrieval | Manual mapping used: Q13748 : TUBA3C \n",
      "2022-03-09 12:25:55 |\u001B[33m WARNING  \u001B[0m| src.helpers.helpers_analysis.gene_id_retrieval | Manual mapping used: Q13748 : TUBA3C \n",
      "2022-03-09 12:25:55 |\u001B[33m WARNING  \u001B[0m| src.helpers.helpers_analysis.gene_id_retrieval | Manual mapping used: Q13748 : TUBA3C \n",
      "2022-03-09 12:25:55 |\u001B[33m WARNING  \u001B[0m| src.helpers.helpers_analysis.gene_id_retrieval | Manual mapping used: Q13748 : TUBA3C \n",
      "2022-03-09 12:25:55 |\u001B[33m WARNING  \u001B[0m| src.helpers.helpers_analysis.gene_id_retrieval | Manual mapping used: Q13748 : TUBA3C \n",
      "2022-03-09 12:25:55 |\u001B[33m WARNING  \u001B[0m| src.helpers.helpers_analysis.gene_id_retrieval | Manual mapping used: Q13748 : TUBA3C \n",
      "2022-03-09 12:25:55 |\u001B[33m WARNING  \u001B[0m| src.helpers.helpers_analysis.gene_id_retrieval | Manual mapping used: Q13748 : TUBA3C \n",
      "2022-03-09 12:25:55 |\u001B[33m WARNING  \u001B[0m| src.helpers.helpers_analysis.gene_id_retrieval | Manual mapping used: Q13748 : TUBA3C \n",
      "2022-03-09 12:25:55 |\u001B[33m WARNING  \u001B[0m| src.helpers.helpers_analysis.gene_id_retrieval | Manual mapping used: Q13748 : TUBA3C \n",
      "2022-03-09 12:25:55 |\u001B[33m WARNING  \u001B[0m| src.helpers.helpers_analysis.gene_id_retrieval | Manual mapping used: Q13748 : TUBA3C \n",
      "2022-03-09 12:25:56 |\u001B[33m WARNING  \u001B[0m| src.helpers.helpers_analysis.gene_id_retrieval | Manual mapping used: Q13748 : TUBA3C \n",
      "2022-03-09 12:25:56 |\u001B[33m WARNING  \u001B[0m| src.helpers.helpers_analysis.gene_id_retrieval | Manual mapping used: Q13748 : TUBA3C \n",
      "2022-03-09 12:25:56 |\u001B[33m WARNING  \u001B[0m| src.helpers.helpers_analysis.gene_id_retrieval | Manual mapping used: Q13748 : TUBA3C \n",
      "2022-03-09 12:25:56 |\u001B[33m WARNING  \u001B[0m| src.helpers.helpers_analysis.gene_id_retrieval | Manual mapping used: Q13748 : TUBA3C \n",
      "2022-03-09 12:25:56 |\u001B[33m WARNING  \u001B[0m| src.helpers.helpers_analysis.gene_id_retrieval | Manual mapping used: Q13748 : TUBA3C \n",
      "2022-03-09 12:25:56 |\u001B[33m WARNING  \u001B[0m| src.helpers.helpers_analysis.gene_id_retrieval | Manual mapping used: Q13748 : TUBA3C \n",
      "2022-03-09 12:25:56 |\u001B[33m WARNING  \u001B[0m| src.helpers.helpers_analysis.gene_id_retrieval | Manual mapping used: Q13748 : TUBA3C \n",
      "2022-03-09 12:25:56 |\u001B[33m WARNING  \u001B[0m| src.helpers.helpers_analysis.gene_id_retrieval | Manual mapping used: Q13748 : TUBA3C \n",
      "2022-03-09 12:25:56 |\u001B[33m WARNING  \u001B[0m| src.helpers.helpers_analysis.gene_id_retrieval | Manual mapping used: Q13748 : TUBA3C \n",
      "2022-03-09 12:25:56 |\u001B[33m WARNING  \u001B[0m| src.helpers.helpers_analysis.gene_id_retrieval | Manual mapping used: Q13748 : TUBA3C \n",
      "2022-03-09 12:25:56 |\u001B[33m WARNING  \u001B[0m| src.helpers.helpers_analysis.gene_id_retrieval | Manual mapping used: Q13748 : TUBA3C \n",
      "2022-03-09 12:25:56 |\u001B[33m WARNING  \u001B[0m| src.helpers.helpers_analysis.gene_id_retrieval | Manual mapping used: Q13748 : TUBA3C \n",
      "2022-03-09 12:25:56 |\u001B[33m WARNING  \u001B[0m| src.helpers.helpers_analysis.gene_id_retrieval | Manual mapping used: Q13748 : TUBA3C \n",
      "2022-03-09 12:25:56 |\u001B[33m WARNING  \u001B[0m| src.helpers.helpers_analysis.gene_id_retrieval | Manual mapping used: Q13748 : TUBA3C \n",
      "2022-03-09 12:25:56 |\u001B[33m WARNING  \u001B[0m| src.helpers.helpers_analysis.gene_id_retrieval | Manual mapping used: Q13748 : TUBA3C \n",
      "2022-03-09 12:25:56 |\u001B[33m WARNING  \u001B[0m| src.helpers.helpers_analysis.gene_id_retrieval | Manual mapping used: Q13748 : TUBA3C \n",
      "2022-03-09 12:25:56 |\u001B[33m WARNING  \u001B[0m| src.helpers.helpers_analysis.gene_id_retrieval | Manual mapping used: Q13748 : TUBA3C \n",
      "2022-03-09 12:25:56 |\u001B[33m WARNING  \u001B[0m| src.helpers.helpers_analysis.gene_id_retrieval | Manual mapping used: Q13748 : TUBA3C \n",
      "2022-03-09 12:25:56 |\u001B[33m WARNING  \u001B[0m| src.helpers.helpers_analysis.gene_id_retrieval | Manual mapping used: Q13748 : TUBA3C \n",
      "2022-03-09 12:25:56 |\u001B[33m WARNING  \u001B[0m| src.helpers.helpers_analysis.gene_id_retrieval | Manual mapping used: Q13748 : TUBA3C \n",
      "2022-03-09 12:25:57 |\u001B[33m WARNING  \u001B[0m| src.helpers.helpers_analysis.gene_id_retrieval | Manual mapping used: Q13748 : TUBA3C \n",
      "2022-03-09 12:25:57 |\u001B[33m WARNING  \u001B[0m| src.helpers.helpers_analysis.gene_id_retrieval | Manual mapping used: Q13748 : TUBA3C \n",
      "2022-03-09 12:25:57 |\u001B[33m WARNING  \u001B[0m| src.helpers.helpers_analysis.gene_id_retrieval | Manual mapping used: Q13748 : TUBA3C \n",
      "2022-03-09 12:25:57 |\u001B[33m WARNING  \u001B[0m| src.helpers.helpers_analysis.gene_id_retrieval | Manual mapping used: Q13748 : TUBA3C \n",
      "2022-03-09 12:25:57 |\u001B[33m WARNING  \u001B[0m| src.helpers.helpers_analysis.gene_id_retrieval | Manual mapping used: Q13748 : TUBA3C \n",
      "2022-03-09 12:25:57 |\u001B[33m WARNING  \u001B[0m| src.helpers.helpers_analysis.gene_id_retrieval | Manual mapping used: Q13748 : TUBA3C \n",
      "2022-03-09 12:25:57 |\u001B[33m WARNING  \u001B[0m| src.helpers.helpers_analysis.gene_id_retrieval | Manual mapping used: Q13748 : TUBA3C \n",
      "2022-03-09 12:25:57 |\u001B[33m WARNING  \u001B[0m| src.helpers.helpers_analysis.gene_id_retrieval | Manual mapping used: Q13748 : TUBA3C \n",
      "2022-03-09 12:25:57 |\u001B[33m WARNING  \u001B[0m| src.helpers.helpers_analysis.gene_id_retrieval | Manual mapping used: Q13748 : TUBA3C \n",
      "2022-03-09 12:25:57 |\u001B[33m WARNING  \u001B[0m| src.helpers.helpers_analysis.gene_id_retrieval | Manual mapping used: Q13748 : TUBA3C \n",
      "2022-03-09 12:25:57 |\u001B[33m WARNING  \u001B[0m| src.helpers.helpers_analysis.gene_id_retrieval | Manual mapping used: Q13748 : TUBA3C \n",
      "2022-03-09 12:25:57 |\u001B[33m WARNING  \u001B[0m| src.helpers.helpers_analysis.gene_id_retrieval | Manual mapping used: Q13748 : TUBA3C \n",
      "2022-03-09 12:25:57 |\u001B[33m WARNING  \u001B[0m| src.helpers.helpers_analysis.gene_id_retrieval | Manual mapping used: Q13748 : TUBA3C \n",
      "2022-03-09 12:25:57 |\u001B[33m WARNING  \u001B[0m| src.helpers.helpers_analysis.gene_id_retrieval | Manual mapping used: Q13748 : TUBA3C \n",
      "2022-03-09 12:25:57 |\u001B[33m WARNING  \u001B[0m| src.helpers.helpers_analysis.gene_id_retrieval | Manual mapping used: Q13748 : TUBA3C \n",
      "2022-03-09 12:25:57 |\u001B[33m WARNING  \u001B[0m| src.helpers.helpers_analysis.gene_id_retrieval | Manual mapping used: Q13748 : TUBA3C \n",
      "2022-03-09 12:25:57 |\u001B[33m WARNING  \u001B[0m| src.helpers.helpers_analysis.gene_id_retrieval | Manual mapping used: Q13748 : TUBA3C \n",
      "2022-03-09 12:25:57 |\u001B[33m WARNING  \u001B[0m| src.helpers.helpers_analysis.gene_id_retrieval | Manual mapping used: Q13748 : TUBA3C \n",
      "2022-03-09 12:25:57 |\u001B[33m WARNING  \u001B[0m| src.helpers.helpers_analysis.gene_id_retrieval | Manual mapping used: Q13748 : TUBA3C \n",
      "2022-03-09 12:25:57 |\u001B[33m WARNING  \u001B[0m| src.helpers.helpers_analysis.gene_id_retrieval | Manual mapping used: Q13748 : TUBA3C \n",
      "2022-03-09 12:25:57 |\u001B[33m WARNING  \u001B[0m| src.helpers.helpers_analysis.gene_id_retrieval | Manual mapping used: Q13748 : TUBA3C \n",
      "2022-03-09 12:25:57 |\u001B[33m WARNING  \u001B[0m| src.helpers.helpers_analysis.gene_id_retrieval | Manual mapping used: Q13748 : TUBA3C \n",
      "2022-03-09 12:25:57 |\u001B[33m WARNING  \u001B[0m| src.helpers.helpers_analysis.gene_id_retrieval | Manual mapping used: Q13748 : TUBA3C \n",
      "2022-03-09 12:25:57 |\u001B[33m WARNING  \u001B[0m| src.helpers.helpers_analysis.gene_id_retrieval | Manual mapping used: Q13748 : TUBA3C \n",
      "2022-03-09 12:25:57 |\u001B[33m WARNING  \u001B[0m| src.helpers.helpers_analysis.gene_id_retrieval | Manual mapping used: Q13748 : TUBA3C \n",
      "2022-03-09 12:25:57 |\u001B[33m WARNING  \u001B[0m| src.helpers.helpers_analysis.gene_id_retrieval | Manual mapping used: Q13748 : TUBA3C \n",
      "2022-03-09 12:25:57 |\u001B[33m WARNING  \u001B[0m| src.helpers.helpers_analysis.gene_id_retrieval | Manual mapping used: Q13748 : TUBA3C \n",
      "2022-03-09 12:25:57 |\u001B[33m WARNING  \u001B[0m| src.helpers.helpers_analysis.gene_id_retrieval | Manual mapping used: Q13748 : TUBA3C \n",
      "2022-03-09 12:25:57 |\u001B[33m WARNING  \u001B[0m| src.helpers.helpers_analysis.gene_id_retrieval | Manual mapping used: Q13748 : TUBA3C \n",
      "2022-03-09 12:25:57 |\u001B[33m WARNING  \u001B[0m| src.helpers.helpers_analysis.gene_id_retrieval | Manual mapping used: Q13748 : TUBA3C \n",
      "2022-03-09 12:25:57 |\u001B[33m WARNING  \u001B[0m| src.helpers.helpers_analysis.gene_id_retrieval | Manual mapping used: Q13748 : TUBA3C \n",
      "2022-03-09 12:25:57 |\u001B[33m WARNING  \u001B[0m| src.helpers.helpers_analysis.gene_id_retrieval | Manual mapping used: Q13748 : TUBA3C \n",
      "2022-03-09 12:25:57 |\u001B[33m WARNING  \u001B[0m| src.helpers.helpers_analysis.gene_id_retrieval | Manual mapping used: Q13748 : TUBA3C \n",
      "2022-03-09 12:25:57 |\u001B[33m WARNING  \u001B[0m| src.helpers.helpers_analysis.gene_id_retrieval | Manual mapping used: Q13748 : TUBA3C \n",
      "2022-03-09 12:25:57 |\u001B[33m WARNING  \u001B[0m| src.helpers.helpers_analysis.gene_id_retrieval | Manual mapping used: Q13748 : TUBA3C \n",
      "2022-03-09 12:25:58 |\u001B[33m WARNING  \u001B[0m| src.helpers.helpers_analysis.gene_id_retrieval | Manual mapping used: Q13748 : TUBA3C \n",
      "2022-03-09 12:25:58 |\u001B[33m WARNING  \u001B[0m| src.helpers.helpers_analysis.gene_id_retrieval | Manual mapping used: Q13748 : TUBA3C \n",
      "2022-03-09 12:25:58 |\u001B[33m WARNING  \u001B[0m| src.helpers.helpers_analysis.gene_id_retrieval | Manual mapping used: Q13748 : TUBA3C \n",
      "2022-03-09 12:25:58 |\u001B[33m WARNING  \u001B[0m| src.helpers.helpers_analysis.gene_id_retrieval | Manual mapping used: Q13748 : TUBA3C \n",
      "2022-03-09 12:25:58 |\u001B[33m WARNING  \u001B[0m| src.helpers.helpers_analysis.gene_id_retrieval | Manual mapping used: Q13748 : TUBA3C \n",
      "2022-03-09 12:25:58 |\u001B[33m WARNING  \u001B[0m| src.helpers.helpers_analysis.gene_id_retrieval | Manual mapping used: Q13748 : TUBA3C \n",
      "2022-03-09 12:25:58 |\u001B[33m WARNING  \u001B[0m| src.helpers.helpers_analysis.gene_id_retrieval | Manual mapping used: Q13748 : TUBA3C \n",
      "2022-03-09 12:25:58 |\u001B[33m WARNING  \u001B[0m| src.helpers.helpers_analysis.gene_id_retrieval | Manual mapping used: Q13748 : TUBA3C \n",
      "2022-03-09 12:25:58 |\u001B[33m WARNING  \u001B[0m| src.helpers.helpers_analysis.gene_id_retrieval | Manual mapping used: Q13748 : TUBA3C \n",
      "2022-03-09 12:25:58 |\u001B[33m WARNING  \u001B[0m| src.helpers.helpers_analysis.gene_id_retrieval | Manual mapping used: Q13748 : TUBA3C \n",
      "2022-03-09 12:25:59 |\u001B[33m WARNING  \u001B[0m| src.helpers.helpers_analysis.gene_id_retrieval | Manual mapping used: Q13748 : TUBA3C \n",
      "2022-03-09 12:25:59 |\u001B[33m WARNING  \u001B[0m| src.helpers.helpers_analysis.gene_id_retrieval | Manual mapping used: Q13748 : TUBA3C \n",
      "2022-03-09 12:25:59 |\u001B[33m WARNING  \u001B[0m| src.helpers.helpers_analysis.gene_id_retrieval | Manual mapping used: Q13748 : TUBA3C \n",
      "2022-03-09 12:25:59 |\u001B[33m WARNING  \u001B[0m| src.helpers.helpers_analysis.gene_id_retrieval | Manual mapping used: Q13748 : TUBA3C \n",
      "2022-03-09 12:25:59 |\u001B[33m WARNING  \u001B[0m| src.helpers.helpers_analysis.gene_id_retrieval | Manual mapping used: Q13748 : TUBA3C \n",
      "2022-03-09 12:25:59 |\u001B[33m WARNING  \u001B[0m| src.helpers.helpers_analysis.gene_id_retrieval | Manual mapping used: Q13748 : TUBA3C \n",
      "2022-03-09 12:25:59 |\u001B[33m WARNING  \u001B[0m| src.helpers.helpers_analysis.gene_id_retrieval | Manual mapping used: Q13748 : TUBA3C \n",
      "2022-03-09 12:25:59 |\u001B[33m WARNING  \u001B[0m| src.helpers.helpers_analysis.gene_id_retrieval | Manual mapping used: Q13748 : TUBA3C \n",
      "2022-03-09 12:25:59 |\u001B[33m WARNING  \u001B[0m| src.helpers.helpers_analysis.gene_id_retrieval | Manual mapping used: Q13748 : TUBA3C \n",
      "2022-03-09 12:25:59 |\u001B[33m WARNING  \u001B[0m| src.helpers.helpers_analysis.gene_id_retrieval | Manual mapping used: Q13748 : TUBA3C \n",
      "2022-03-09 12:25:59 |\u001B[33m WARNING  \u001B[0m| src.helpers.helpers_analysis.gene_id_retrieval | Manual mapping used: Q13748 : TUBA3C \n",
      "2022-03-09 12:25:59 |\u001B[33m WARNING  \u001B[0m| src.helpers.helpers_analysis.gene_id_retrieval | Manual mapping used: Q13748 : TUBA3C \n",
      "2022-03-09 12:25:59 |\u001B[33m WARNING  \u001B[0m| src.helpers.helpers_analysis.gene_id_retrieval | Manual mapping used: Q13748 : TUBA3C \n",
      "2022-03-09 12:25:59 |\u001B[33m WARNING  \u001B[0m| src.helpers.helpers_analysis.gene_id_retrieval | Manual mapping used: Q13748 : TUBA3C \n",
      "2022-03-09 12:25:59 |\u001B[33m WARNING  \u001B[0m| src.helpers.helpers_analysis.gene_id_retrieval | Manual mapping used: Q13748 : TUBA3C \n",
      "2022-03-09 12:25:59 |\u001B[33m WARNING  \u001B[0m| src.helpers.helpers_analysis.gene_id_retrieval | Manual mapping used: Q13748 : TUBA3C \n",
      "2022-03-09 12:25:59 |\u001B[33m WARNING  \u001B[0m| src.helpers.helpers_analysis.gene_id_retrieval | Manual mapping used: Q13748 : TUBA3C \n",
      "2022-03-09 12:25:59 |\u001B[33m WARNING  \u001B[0m| src.helpers.helpers_analysis.gene_id_retrieval | Manual mapping used: Q13748 : TUBA3C \n",
      "2022-03-09 12:25:59 |\u001B[33m WARNING  \u001B[0m| src.helpers.helpers_analysis.gene_id_retrieval | Manual mapping used: Q13748 : TUBA3C \n",
      "2022-03-09 12:25:59 |\u001B[33m WARNING  \u001B[0m| src.helpers.helpers_analysis.gene_id_retrieval | Manual mapping used: Q13748 : TUBA3C \n",
      "2022-03-09 12:25:59 |\u001B[33m WARNING  \u001B[0m| src.helpers.helpers_analysis.gene_id_retrieval | Manual mapping used: Q13748 : TUBA3C \n",
      "2022-03-09 12:26:00 |\u001B[33m WARNING  \u001B[0m| src.helpers.helpers_analysis.gene_id_retrieval | Manual mapping used: Q13748 : TUBA3C \n",
      "2022-03-09 12:26:00 |\u001B[33m WARNING  \u001B[0m| src.helpers.helpers_analysis.gene_id_retrieval | Manual mapping used: Q13748 : TUBA3C \n",
      "2022-03-09 12:26:00 |\u001B[33m WARNING  \u001B[0m| src.helpers.helpers_analysis.gene_id_retrieval | Manual mapping used: Q13748 : TUBA3C \n",
      "2022-03-09 12:26:00 |\u001B[33m WARNING  \u001B[0m| src.helpers.helpers_analysis.gene_id_retrieval | Manual mapping used: Q13748 : TUBA3C \n",
      "2022-03-09 12:26:00 |\u001B[33m WARNING  \u001B[0m| src.helpers.helpers_analysis.gene_id_retrieval | Manual mapping used: Q13748 : TUBA3C \n",
      "2022-03-09 12:26:00 |\u001B[33m WARNING  \u001B[0m| src.helpers.helpers_analysis.gene_id_retrieval | Manual mapping used: Q13748 : TUBA3C \n",
      "2022-03-09 12:26:00 |\u001B[33m WARNING  \u001B[0m| src.helpers.helpers_analysis.gene_id_retrieval | Manual mapping used: Q13748 : TUBA3C \n",
      "2022-03-09 12:26:00 |\u001B[33m WARNING  \u001B[0m| src.helpers.helpers_analysis.gene_id_retrieval | Manual mapping used: Q13748 : TUBA3C \n",
      "2022-03-09 12:26:00 |\u001B[33m WARNING  \u001B[0m| src.helpers.helpers_analysis.gene_id_retrieval | Manual mapping used: Q13748 : TUBA3C \n",
      "2022-03-09 12:26:00 |\u001B[33m WARNING  \u001B[0m| src.helpers.helpers_analysis.gene_id_retrieval | Manual mapping used: Q13748 : TUBA3C \n",
      "2022-03-09 12:26:00 |\u001B[33m WARNING  \u001B[0m| src.helpers.helpers_analysis.gene_id_retrieval | Manual mapping used: Q13748 : TUBA3C \n",
      "2022-03-09 12:26:00 |\u001B[33m WARNING  \u001B[0m| src.helpers.helpers_analysis.gene_id_retrieval | Manual mapping used: Q13748 : TUBA3C \n",
      "2022-03-09 12:26:00 |\u001B[33m WARNING  \u001B[0m| src.helpers.helpers_analysis.gene_id_retrieval | Manual mapping used: Q13748 : TUBA3C \n",
      "2022-03-09 12:26:00 |\u001B[33m WARNING  \u001B[0m| src.helpers.helpers_analysis.gene_id_retrieval | Manual mapping used: Q13748 : TUBA3C \n",
      "2022-03-09 12:26:00 |\u001B[33m WARNING  \u001B[0m| src.helpers.helpers_analysis.gene_id_retrieval | Manual mapping used: Q13748 : TUBA3C \n",
      "2022-03-09 12:26:00 |\u001B[33m WARNING  \u001B[0m| src.helpers.helpers_analysis.gene_id_retrieval | Manual mapping used: Q13748 : TUBA3C \n",
      "2022-03-09 12:26:00 |\u001B[33m WARNING  \u001B[0m| src.helpers.helpers_analysis.gene_id_retrieval | Manual mapping used: Q13748 : TUBA3C \n",
      "2022-03-09 12:26:00 |\u001B[33m WARNING  \u001B[0m| src.helpers.helpers_analysis.gene_id_retrieval | Manual mapping used: Q13748 : TUBA3C \n",
      "2022-03-09 12:26:00 |\u001B[33m WARNING  \u001B[0m| src.helpers.helpers_analysis.gene_id_retrieval | Manual mapping used: Q13748 : TUBA3C \n",
      "2022-03-09 12:26:00 |\u001B[33m WARNING  \u001B[0m| src.helpers.helpers_analysis.gene_id_retrieval | Manual mapping used: Q13748 : TUBA3C \n",
      "2022-03-09 12:26:00 |\u001B[33m WARNING  \u001B[0m| src.helpers.helpers_analysis.gene_id_retrieval | Manual mapping used: Q13748 : TUBA3C \n",
      "2022-03-09 12:26:00 |\u001B[33m WARNING  \u001B[0m| src.helpers.helpers_analysis.gene_id_retrieval | Manual mapping used: Q13748 : TUBA3C \n",
      "2022-03-09 12:26:00 |\u001B[33m WARNING  \u001B[0m| src.helpers.helpers_analysis.gene_id_retrieval | Manual mapping used: Q13748 : TUBA3C \n",
      "2022-03-09 12:26:01 |\u001B[33m WARNING  \u001B[0m| src.helpers.helpers_analysis.gene_id_retrieval | Manual mapping used: Q13748 : TUBA3C \n",
      "2022-03-09 12:26:01 |\u001B[33m WARNING  \u001B[0m| src.helpers.helpers_analysis.gene_id_retrieval | Manual mapping used: Q13748 : TUBA3C \n",
      "2022-03-09 12:26:01 |\u001B[33m WARNING  \u001B[0m| src.helpers.helpers_analysis.gene_id_retrieval | Manual mapping used: Q13748 : TUBA3C \n",
      "2022-03-09 12:26:01 |\u001B[33m WARNING  \u001B[0m| src.helpers.helpers_analysis.gene_id_retrieval | Manual mapping used: Q13748 : TUBA3C \n",
      "2022-03-09 12:26:01 |\u001B[33m WARNING  \u001B[0m| src.helpers.helpers_analysis.gene_id_retrieval | Manual mapping used: Q13748 : TUBA3C \n",
      "2022-03-09 12:26:01 |\u001B[33m WARNING  \u001B[0m| src.helpers.helpers_analysis.gene_id_retrieval | Manual mapping used: Q13748 : TUBA3C \n",
      "2022-03-09 12:26:01 |\u001B[33m WARNING  \u001B[0m| src.helpers.helpers_analysis.gene_id_retrieval | Manual mapping used: Q13748 : TUBA3C \n",
      "2022-03-09 12:26:01 |\u001B[33m WARNING  \u001B[0m| src.helpers.helpers_analysis.gene_id_retrieval | Manual mapping used: Q13748 : TUBA3C \n",
      "2022-03-09 12:26:01 |\u001B[33m WARNING  \u001B[0m| src.helpers.helpers_analysis.gene_id_retrieval | Manual mapping used: Q13748 : TUBA3C \n",
      "2022-03-09 12:26:01 |\u001B[33m WARNING  \u001B[0m| src.helpers.helpers_analysis.gene_id_retrieval | Manual mapping used: Q13748 : TUBA3C \n",
      "Data is exported to COAD_wext_output_gene_added_2022-03-09.tsv successfully.\n",
      "Data is exported to ESCA_wext_output_gene_added_2022-03-09.tsv successfully.\n",
      "Data is exported to GBM_wext_output_gene_added_2022-03-09.tsv successfully.\n",
      "Data is exported to HNSC_wext_output_gene_added_2022-03-09.tsv successfully.\n",
      "Data is exported to OV_wext_output_gene_added_2022-03-09.tsv successfully.\n"
     ]
    }
   ],
   "source": [
    "for tcga, tcga_wext_data in TCGA_TO_WEXT_DATASETS.items():\n",
    "    add_gene_id_column(tcga_wext_data)\n",
    "    export_data(tcga=tcga, data=tcga_wext_data)"
   ],
   "metadata": {
    "collapsed": false,
    "pycharm": {
     "name": "#%%\n"
    }
   }
  },
  {
   "cell_type": "code",
   "execution_count": null,
   "outputs": [],
   "source": [],
   "metadata": {
    "collapsed": false,
    "pycharm": {
     "name": "#%%\n"
    }
   }
  },
  {
   "cell_type": "markdown",
   "source": [
    "---"
   ],
   "metadata": {
    "collapsed": false,
    "pycharm": {
     "name": "#%% md\n"
    }
   }
  },
  {
   "cell_type": "code",
   "execution_count": 5,
   "outputs": [],
   "source": [],
   "metadata": {
    "collapsed": false,
    "pycharm": {
     "name": "#%%\n"
    }
   }
  },
  {
   "cell_type": "code",
   "execution_count": 6,
   "outputs": [],
   "source": [
    "test_data = pd.read_csv(\"BRCA_wext_raw_output_t0_k2.tsv\", sep=\"\\t\")\n",
    "test_data.rename({\"#Gene set\": \"UNIPROT_PAIRS\"}, axis=\"columns\", inplace=True)"
   ],
   "metadata": {
    "collapsed": false,
    "pycharm": {
     "name": "#%%\n"
    }
   }
  },
  {
   "cell_type": "code",
   "execution_count": null,
   "outputs": [],
   "source": [],
   "metadata": {
    "collapsed": false,
    "pycharm": {
     "name": "#%%\n"
    }
   }
  },
  {
   "cell_type": "code",
   "execution_count": null,
   "outputs": [],
   "source": [],
   "metadata": {
    "collapsed": false,
    "pycharm": {
     "name": "#%%\n"
    }
   }
  },
  {
   "cell_type": "code",
   "execution_count": 7,
   "outputs": [
    {
     "data": {
      "text/plain": "       UNIPROT_PAIRS  WRE (Saddlepoint) P-value  WRE (Saddlepoint) FDR  \\\n0     O75367, Q71DI3                   0.000000                    0.0   \n1     Q16514, Q9Y294                   0.000000                    0.0   \n2     O75367, Q9UER7                   0.000000                    0.0   \n3     P84243, Q9Y294                   0.000000                    0.0   \n4     O75367, P61077                   0.000000                    0.0   \n...              ...                        ...                    ...   \n1706  Q14289, Q9H9B1                   0.998271                    1.0   \n1707  O00459, P0C0S8                   0.998446                    1.0   \n1708  P61077, Q9H3D4                   0.998625                    1.0   \n1709  P21860, Q96SB4                   0.999060                    1.0   \n1710  P21860, Q14289                   0.999697                    1.0   \n\n      WRE (Saddlepoint) Runtime   T   Z  t00  t01  t10  t11  \n0                           NaN NaN NaN  NaN  NaN  NaN  NaN  \n1                           NaN NaN NaN  NaN  NaN  NaN  NaN  \n2                           NaN NaN NaN  NaN  NaN  NaN  NaN  \n3                           NaN NaN NaN  NaN  NaN  NaN  NaN  \n4                           NaN NaN NaN  NaN  NaN  NaN  NaN  \n...                         ...  ..  ..  ...  ...  ...  ...  \n1706                        NaN NaN NaN  NaN  NaN  NaN  NaN  \n1707                        NaN NaN NaN  NaN  NaN  NaN  NaN  \n1708                        NaN NaN NaN  NaN  NaN  NaN  NaN  \n1709                        NaN NaN NaN  NaN  NaN  NaN  NaN  \n1710                        NaN NaN NaN  NaN  NaN  NaN  NaN  \n\n[1711 rows x 10 columns]",
      "text/html": "<div>\n<style scoped>\n    .dataframe tbody tr th:only-of-type {\n        vertical-align: middle;\n    }\n\n    .dataframe tbody tr th {\n        vertical-align: top;\n    }\n\n    .dataframe thead th {\n        text-align: right;\n    }\n</style>\n<table border=\"1\" class=\"dataframe\">\n  <thead>\n    <tr style=\"text-align: right;\">\n      <th></th>\n      <th>UNIPROT_PAIRS</th>\n      <th>WRE (Saddlepoint) P-value</th>\n      <th>WRE (Saddlepoint) FDR</th>\n      <th>WRE (Saddlepoint) Runtime</th>\n      <th>T</th>\n      <th>Z</th>\n      <th>t00</th>\n      <th>t01</th>\n      <th>t10</th>\n      <th>t11</th>\n    </tr>\n  </thead>\n  <tbody>\n    <tr>\n      <th>0</th>\n      <td>O75367, Q71DI3</td>\n      <td>0.000000</td>\n      <td>0.0</td>\n      <td>NaN</td>\n      <td>NaN</td>\n      <td>NaN</td>\n      <td>NaN</td>\n      <td>NaN</td>\n      <td>NaN</td>\n      <td>NaN</td>\n    </tr>\n    <tr>\n      <th>1</th>\n      <td>Q16514, Q9Y294</td>\n      <td>0.000000</td>\n      <td>0.0</td>\n      <td>NaN</td>\n      <td>NaN</td>\n      <td>NaN</td>\n      <td>NaN</td>\n      <td>NaN</td>\n      <td>NaN</td>\n      <td>NaN</td>\n    </tr>\n    <tr>\n      <th>2</th>\n      <td>O75367, Q9UER7</td>\n      <td>0.000000</td>\n      <td>0.0</td>\n      <td>NaN</td>\n      <td>NaN</td>\n      <td>NaN</td>\n      <td>NaN</td>\n      <td>NaN</td>\n      <td>NaN</td>\n      <td>NaN</td>\n    </tr>\n    <tr>\n      <th>3</th>\n      <td>P84243, Q9Y294</td>\n      <td>0.000000</td>\n      <td>0.0</td>\n      <td>NaN</td>\n      <td>NaN</td>\n      <td>NaN</td>\n      <td>NaN</td>\n      <td>NaN</td>\n      <td>NaN</td>\n      <td>NaN</td>\n    </tr>\n    <tr>\n      <th>4</th>\n      <td>O75367, P61077</td>\n      <td>0.000000</td>\n      <td>0.0</td>\n      <td>NaN</td>\n      <td>NaN</td>\n      <td>NaN</td>\n      <td>NaN</td>\n      <td>NaN</td>\n      <td>NaN</td>\n      <td>NaN</td>\n    </tr>\n    <tr>\n      <th>...</th>\n      <td>...</td>\n      <td>...</td>\n      <td>...</td>\n      <td>...</td>\n      <td>...</td>\n      <td>...</td>\n      <td>...</td>\n      <td>...</td>\n      <td>...</td>\n      <td>...</td>\n    </tr>\n    <tr>\n      <th>1706</th>\n      <td>Q14289, Q9H9B1</td>\n      <td>0.998271</td>\n      <td>1.0</td>\n      <td>NaN</td>\n      <td>NaN</td>\n      <td>NaN</td>\n      <td>NaN</td>\n      <td>NaN</td>\n      <td>NaN</td>\n      <td>NaN</td>\n    </tr>\n    <tr>\n      <th>1707</th>\n      <td>O00459, P0C0S8</td>\n      <td>0.998446</td>\n      <td>1.0</td>\n      <td>NaN</td>\n      <td>NaN</td>\n      <td>NaN</td>\n      <td>NaN</td>\n      <td>NaN</td>\n      <td>NaN</td>\n      <td>NaN</td>\n    </tr>\n    <tr>\n      <th>1708</th>\n      <td>P61077, Q9H3D4</td>\n      <td>0.998625</td>\n      <td>1.0</td>\n      <td>NaN</td>\n      <td>NaN</td>\n      <td>NaN</td>\n      <td>NaN</td>\n      <td>NaN</td>\n      <td>NaN</td>\n      <td>NaN</td>\n    </tr>\n    <tr>\n      <th>1709</th>\n      <td>P21860, Q96SB4</td>\n      <td>0.999060</td>\n      <td>1.0</td>\n      <td>NaN</td>\n      <td>NaN</td>\n      <td>NaN</td>\n      <td>NaN</td>\n      <td>NaN</td>\n      <td>NaN</td>\n      <td>NaN</td>\n    </tr>\n    <tr>\n      <th>1710</th>\n      <td>P21860, Q14289</td>\n      <td>0.999697</td>\n      <td>1.0</td>\n      <td>NaN</td>\n      <td>NaN</td>\n      <td>NaN</td>\n      <td>NaN</td>\n      <td>NaN</td>\n      <td>NaN</td>\n      <td>NaN</td>\n    </tr>\n  </tbody>\n</table>\n<p>1711 rows × 10 columns</p>\n</div>"
     },
     "execution_count": 7,
     "metadata": {},
     "output_type": "execute_result"
    }
   ],
   "source": [
    "test_data"
   ],
   "metadata": {
    "collapsed": false,
    "pycharm": {
     "name": "#%%\n"
    }
   }
  },
  {
   "cell_type": "code",
   "execution_count": 8,
   "outputs": [],
   "source": [
    "bar = add_gene_id_column(test_data)"
   ],
   "metadata": {
    "collapsed": false,
    "pycharm": {
     "name": "#%%\n"
    }
   }
  },
  {
   "cell_type": "code",
   "execution_count": 9,
   "outputs": [
    {
     "data": {
      "text/plain": "       UNIPROT_PAIRS      GENE_ID_PAIRS  WRE (Saddlepoint) P-value  \\\n0     O75367, Q71DI3   MACROH2A1, H3C15                   0.000000   \n1     Q16514, Q9Y294       TAF12, ASF1A                   0.000000   \n2     O75367, Q9UER7    MACROH2A1, DAXX                   0.000000   \n3     P84243, Q9Y294       H3-3A, ASF1A                   0.000000   \n4     O75367, P61077  MACROH2A1, UBE2D3                   0.000000   \n...              ...                ...                        ...   \n1706  Q14289, Q9H9B1       PTK2B, EHMT1                   0.998271   \n1707  O00459, P0C0S8     PIK3R2, H2AC11                   0.998446   \n1708  P61077, Q9H3D4       UBE2D3, TP63                   0.998625   \n1709  P21860, Q96SB4       ERBB3, SRPK1                   0.999060   \n1710  P21860, Q14289       ERBB3, PTK2B                   0.999697   \n\n      WRE (Saddlepoint) FDR  WRE (Saddlepoint) Runtime   T   Z  t00  t01  t10  \\\n0                       0.0                        NaN NaN NaN  NaN  NaN  NaN   \n1                       0.0                        NaN NaN NaN  NaN  NaN  NaN   \n2                       0.0                        NaN NaN NaN  NaN  NaN  NaN   \n3                       0.0                        NaN NaN NaN  NaN  NaN  NaN   \n4                       0.0                        NaN NaN NaN  NaN  NaN  NaN   \n...                     ...                        ...  ..  ..  ...  ...  ...   \n1706                    1.0                        NaN NaN NaN  NaN  NaN  NaN   \n1707                    1.0                        NaN NaN NaN  NaN  NaN  NaN   \n1708                    1.0                        NaN NaN NaN  NaN  NaN  NaN   \n1709                    1.0                        NaN NaN NaN  NaN  NaN  NaN   \n1710                    1.0                        NaN NaN NaN  NaN  NaN  NaN   \n\n      t11  \n0     NaN  \n1     NaN  \n2     NaN  \n3     NaN  \n4     NaN  \n...   ...  \n1706  NaN  \n1707  NaN  \n1708  NaN  \n1709  NaN  \n1710  NaN  \n\n[1711 rows x 11 columns]",
      "text/html": "<div>\n<style scoped>\n    .dataframe tbody tr th:only-of-type {\n        vertical-align: middle;\n    }\n\n    .dataframe tbody tr th {\n        vertical-align: top;\n    }\n\n    .dataframe thead th {\n        text-align: right;\n    }\n</style>\n<table border=\"1\" class=\"dataframe\">\n  <thead>\n    <tr style=\"text-align: right;\">\n      <th></th>\n      <th>UNIPROT_PAIRS</th>\n      <th>GENE_ID_PAIRS</th>\n      <th>WRE (Saddlepoint) P-value</th>\n      <th>WRE (Saddlepoint) FDR</th>\n      <th>WRE (Saddlepoint) Runtime</th>\n      <th>T</th>\n      <th>Z</th>\n      <th>t00</th>\n      <th>t01</th>\n      <th>t10</th>\n      <th>t11</th>\n    </tr>\n  </thead>\n  <tbody>\n    <tr>\n      <th>0</th>\n      <td>O75367, Q71DI3</td>\n      <td>MACROH2A1, H3C15</td>\n      <td>0.000000</td>\n      <td>0.0</td>\n      <td>NaN</td>\n      <td>NaN</td>\n      <td>NaN</td>\n      <td>NaN</td>\n      <td>NaN</td>\n      <td>NaN</td>\n      <td>NaN</td>\n    </tr>\n    <tr>\n      <th>1</th>\n      <td>Q16514, Q9Y294</td>\n      <td>TAF12, ASF1A</td>\n      <td>0.000000</td>\n      <td>0.0</td>\n      <td>NaN</td>\n      <td>NaN</td>\n      <td>NaN</td>\n      <td>NaN</td>\n      <td>NaN</td>\n      <td>NaN</td>\n      <td>NaN</td>\n    </tr>\n    <tr>\n      <th>2</th>\n      <td>O75367, Q9UER7</td>\n      <td>MACROH2A1, DAXX</td>\n      <td>0.000000</td>\n      <td>0.0</td>\n      <td>NaN</td>\n      <td>NaN</td>\n      <td>NaN</td>\n      <td>NaN</td>\n      <td>NaN</td>\n      <td>NaN</td>\n      <td>NaN</td>\n    </tr>\n    <tr>\n      <th>3</th>\n      <td>P84243, Q9Y294</td>\n      <td>H3-3A, ASF1A</td>\n      <td>0.000000</td>\n      <td>0.0</td>\n      <td>NaN</td>\n      <td>NaN</td>\n      <td>NaN</td>\n      <td>NaN</td>\n      <td>NaN</td>\n      <td>NaN</td>\n      <td>NaN</td>\n    </tr>\n    <tr>\n      <th>4</th>\n      <td>O75367, P61077</td>\n      <td>MACROH2A1, UBE2D3</td>\n      <td>0.000000</td>\n      <td>0.0</td>\n      <td>NaN</td>\n      <td>NaN</td>\n      <td>NaN</td>\n      <td>NaN</td>\n      <td>NaN</td>\n      <td>NaN</td>\n      <td>NaN</td>\n    </tr>\n    <tr>\n      <th>...</th>\n      <td>...</td>\n      <td>...</td>\n      <td>...</td>\n      <td>...</td>\n      <td>...</td>\n      <td>...</td>\n      <td>...</td>\n      <td>...</td>\n      <td>...</td>\n      <td>...</td>\n      <td>...</td>\n    </tr>\n    <tr>\n      <th>1706</th>\n      <td>Q14289, Q9H9B1</td>\n      <td>PTK2B, EHMT1</td>\n      <td>0.998271</td>\n      <td>1.0</td>\n      <td>NaN</td>\n      <td>NaN</td>\n      <td>NaN</td>\n      <td>NaN</td>\n      <td>NaN</td>\n      <td>NaN</td>\n      <td>NaN</td>\n    </tr>\n    <tr>\n      <th>1707</th>\n      <td>O00459, P0C0S8</td>\n      <td>PIK3R2, H2AC11</td>\n      <td>0.998446</td>\n      <td>1.0</td>\n      <td>NaN</td>\n      <td>NaN</td>\n      <td>NaN</td>\n      <td>NaN</td>\n      <td>NaN</td>\n      <td>NaN</td>\n      <td>NaN</td>\n    </tr>\n    <tr>\n      <th>1708</th>\n      <td>P61077, Q9H3D4</td>\n      <td>UBE2D3, TP63</td>\n      <td>0.998625</td>\n      <td>1.0</td>\n      <td>NaN</td>\n      <td>NaN</td>\n      <td>NaN</td>\n      <td>NaN</td>\n      <td>NaN</td>\n      <td>NaN</td>\n      <td>NaN</td>\n    </tr>\n    <tr>\n      <th>1709</th>\n      <td>P21860, Q96SB4</td>\n      <td>ERBB3, SRPK1</td>\n      <td>0.999060</td>\n      <td>1.0</td>\n      <td>NaN</td>\n      <td>NaN</td>\n      <td>NaN</td>\n      <td>NaN</td>\n      <td>NaN</td>\n      <td>NaN</td>\n      <td>NaN</td>\n    </tr>\n    <tr>\n      <th>1710</th>\n      <td>P21860, Q14289</td>\n      <td>ERBB3, PTK2B</td>\n      <td>0.999697</td>\n      <td>1.0</td>\n      <td>NaN</td>\n      <td>NaN</td>\n      <td>NaN</td>\n      <td>NaN</td>\n      <td>NaN</td>\n      <td>NaN</td>\n      <td>NaN</td>\n    </tr>\n  </tbody>\n</table>\n<p>1711 rows × 11 columns</p>\n</div>"
     },
     "execution_count": 9,
     "metadata": {},
     "output_type": "execute_result"
    }
   ],
   "source": [
    "test_data"
   ],
   "metadata": {
    "collapsed": false,
    "pycharm": {
     "name": "#%%\n"
    }
   }
  },
  {
   "cell_type": "code",
   "execution_count": 10,
   "outputs": [
    {
     "name": "stdout",
     "output_type": "stream",
     "text": [
      "Data is exported to TEST_wext_output_gene_added_2022-03-09.tsv successfully.\n"
     ]
    }
   ],
   "source": [
    "export_data(tcga=\"TEST\", data=test_data)"
   ],
   "metadata": {
    "collapsed": false,
    "pycharm": {
     "name": "#%%\n"
    }
   }
  },
  {
   "cell_type": "code",
   "execution_count": null,
   "outputs": [],
   "source": [],
   "metadata": {
    "collapsed": false,
    "pycharm": {
     "name": "#%%\n"
    }
   }
  },
  {
   "cell_type": "code",
   "execution_count": null,
   "outputs": [],
   "source": [],
   "metadata": {
    "collapsed": false,
    "pycharm": {
     "name": "#%%\n"
    }
   }
  },
  {
   "cell_type": "code",
   "execution_count": null,
   "outputs": [],
   "source": [],
   "metadata": {
    "collapsed": false,
    "pycharm": {
     "name": "#%%\n"
    }
   }
  },
  {
   "cell_type": "code",
   "execution_count": null,
   "outputs": [],
   "source": [],
   "metadata": {
    "collapsed": false,
    "pycharm": {
     "name": "#%%\n"
    }
   }
  },
  {
   "cell_type": "code",
   "execution_count": null,
   "outputs": [],
   "source": [],
   "metadata": {
    "collapsed": false,
    "pycharm": {
     "name": "#%%\n"
    }
   }
  },
  {
   "cell_type": "code",
   "execution_count": null,
   "outputs": [],
   "source": [],
   "metadata": {
    "collapsed": false,
    "pycharm": {
     "name": "#%%\n"
    }
   }
  },
  {
   "cell_type": "code",
   "execution_count": null,
   "outputs": [],
   "source": [],
   "metadata": {
    "collapsed": false,
    "pycharm": {
     "name": "#%%\n"
    }
   }
  },
  {
   "cell_type": "code",
   "execution_count": 18,
   "outputs": [
    {
     "data": {
      "text/plain": "'P22415, P84022'"
     },
     "execution_count": 18,
     "metadata": {},
     "output_type": "execute_result"
    }
   ],
   "source": [
    "test_data[\"UNIPROT_PAIRS\"][0]"
   ],
   "metadata": {
    "collapsed": false,
    "pycharm": {
     "name": "#%%\n"
    }
   }
  },
  {
   "cell_type": "code",
   "execution_count": 24,
   "outputs": [
    {
     "name": "stdout",
     "output_type": "stream",
     "text": [
      "`P22415`\n",
      "`P84022`\n"
     ]
    }
   ],
   "source": [
    "_get_gene_id_pairs(test_data[\"UNIPROT_PAIRS\"][0])"
   ],
   "metadata": {
    "collapsed": false,
    "pycharm": {
     "name": "#%%\n"
    }
   }
  },
  {
   "cell_type": "code",
   "execution_count": 11,
   "outputs": [
    {
     "data": {
      "text/plain": "        UNIPROT_PAIRS  WRE (Saddlepoint) P-value  WRE (Saddlepoint) FDR  \\\n0      P22415, P84022                   0.000000                    0.0   \n1      P59998, Q16478                   0.000000                    0.0   \n2      P16885, P22415                   0.000000                    0.0   \n3      P19838, P22415                   0.000000                    0.0   \n4      P16234, P61019                   0.000000                    0.0   \n...               ...                        ...                    ...   \n22150  O14757, Q16539                   0.999925                    1.0   \n22151  Q13625, Q9Y3L3                   0.999928                    1.0   \n22152  P24941, Q8WUF5                   0.999945                    1.0   \n22153  O43683, Q99466                   0.999954                    1.0   \n22154  Q5T5U3, Q9NR81                   0.999954                    1.0   \n\n       WRE (Saddlepoint) Runtime   T   Z  t00  t01  t10  t11  \n0                            NaN NaN NaN  NaN  NaN  NaN  NaN  \n1                            NaN NaN NaN  NaN  NaN  NaN  NaN  \n2                            NaN NaN NaN  NaN  NaN  NaN  NaN  \n3                            NaN NaN NaN  NaN  NaN  NaN  NaN  \n4                            NaN NaN NaN  NaN  NaN  NaN  NaN  \n...                          ...  ..  ..  ...  ...  ...  ...  \n22150                        NaN NaN NaN  NaN  NaN  NaN  NaN  \n22151                        NaN NaN NaN  NaN  NaN  NaN  NaN  \n22152                        NaN NaN NaN  NaN  NaN  NaN  NaN  \n22153                        NaN NaN NaN  NaN  NaN  NaN  NaN  \n22154                        NaN NaN NaN  NaN  NaN  NaN  NaN  \n\n[22155 rows x 10 columns]",
      "text/html": "<div>\n<style scoped>\n    .dataframe tbody tr th:only-of-type {\n        vertical-align: middle;\n    }\n\n    .dataframe tbody tr th {\n        vertical-align: top;\n    }\n\n    .dataframe thead th {\n        text-align: right;\n    }\n</style>\n<table border=\"1\" class=\"dataframe\">\n  <thead>\n    <tr style=\"text-align: right;\">\n      <th></th>\n      <th>UNIPROT_PAIRS</th>\n      <th>WRE (Saddlepoint) P-value</th>\n      <th>WRE (Saddlepoint) FDR</th>\n      <th>WRE (Saddlepoint) Runtime</th>\n      <th>T</th>\n      <th>Z</th>\n      <th>t00</th>\n      <th>t01</th>\n      <th>t10</th>\n      <th>t11</th>\n    </tr>\n  </thead>\n  <tbody>\n    <tr>\n      <th>0</th>\n      <td>P22415, P84022</td>\n      <td>0.000000</td>\n      <td>0.0</td>\n      <td>NaN</td>\n      <td>NaN</td>\n      <td>NaN</td>\n      <td>NaN</td>\n      <td>NaN</td>\n      <td>NaN</td>\n      <td>NaN</td>\n    </tr>\n    <tr>\n      <th>1</th>\n      <td>P59998, Q16478</td>\n      <td>0.000000</td>\n      <td>0.0</td>\n      <td>NaN</td>\n      <td>NaN</td>\n      <td>NaN</td>\n      <td>NaN</td>\n      <td>NaN</td>\n      <td>NaN</td>\n      <td>NaN</td>\n    </tr>\n    <tr>\n      <th>2</th>\n      <td>P16885, P22415</td>\n      <td>0.000000</td>\n      <td>0.0</td>\n      <td>NaN</td>\n      <td>NaN</td>\n      <td>NaN</td>\n      <td>NaN</td>\n      <td>NaN</td>\n      <td>NaN</td>\n      <td>NaN</td>\n    </tr>\n    <tr>\n      <th>3</th>\n      <td>P19838, P22415</td>\n      <td>0.000000</td>\n      <td>0.0</td>\n      <td>NaN</td>\n      <td>NaN</td>\n      <td>NaN</td>\n      <td>NaN</td>\n      <td>NaN</td>\n      <td>NaN</td>\n      <td>NaN</td>\n    </tr>\n    <tr>\n      <th>4</th>\n      <td>P16234, P61019</td>\n      <td>0.000000</td>\n      <td>0.0</td>\n      <td>NaN</td>\n      <td>NaN</td>\n      <td>NaN</td>\n      <td>NaN</td>\n      <td>NaN</td>\n      <td>NaN</td>\n      <td>NaN</td>\n    </tr>\n    <tr>\n      <th>...</th>\n      <td>...</td>\n      <td>...</td>\n      <td>...</td>\n      <td>...</td>\n      <td>...</td>\n      <td>...</td>\n      <td>...</td>\n      <td>...</td>\n      <td>...</td>\n      <td>...</td>\n    </tr>\n    <tr>\n      <th>22150</th>\n      <td>O14757, Q16539</td>\n      <td>0.999925</td>\n      <td>1.0</td>\n      <td>NaN</td>\n      <td>NaN</td>\n      <td>NaN</td>\n      <td>NaN</td>\n      <td>NaN</td>\n      <td>NaN</td>\n      <td>NaN</td>\n    </tr>\n    <tr>\n      <th>22151</th>\n      <td>Q13625, Q9Y3L3</td>\n      <td>0.999928</td>\n      <td>1.0</td>\n      <td>NaN</td>\n      <td>NaN</td>\n      <td>NaN</td>\n      <td>NaN</td>\n      <td>NaN</td>\n      <td>NaN</td>\n      <td>NaN</td>\n    </tr>\n    <tr>\n      <th>22152</th>\n      <td>P24941, Q8WUF5</td>\n      <td>0.999945</td>\n      <td>1.0</td>\n      <td>NaN</td>\n      <td>NaN</td>\n      <td>NaN</td>\n      <td>NaN</td>\n      <td>NaN</td>\n      <td>NaN</td>\n      <td>NaN</td>\n    </tr>\n    <tr>\n      <th>22153</th>\n      <td>O43683, Q99466</td>\n      <td>0.999954</td>\n      <td>1.0</td>\n      <td>NaN</td>\n      <td>NaN</td>\n      <td>NaN</td>\n      <td>NaN</td>\n      <td>NaN</td>\n      <td>NaN</td>\n      <td>NaN</td>\n    </tr>\n    <tr>\n      <th>22154</th>\n      <td>Q5T5U3, Q9NR81</td>\n      <td>0.999954</td>\n      <td>1.0</td>\n      <td>NaN</td>\n      <td>NaN</td>\n      <td>NaN</td>\n      <td>NaN</td>\n      <td>NaN</td>\n      <td>NaN</td>\n      <td>NaN</td>\n    </tr>\n  </tbody>\n</table>\n<p>22155 rows × 10 columns</p>\n</div>"
     },
     "execution_count": 11,
     "metadata": {},
     "output_type": "execute_result"
    }
   ],
   "source": [
    "test_data"
   ],
   "metadata": {
    "collapsed": false,
    "pycharm": {
     "name": "#%%\n"
    }
   }
  },
  {
   "cell_type": "code",
   "execution_count": null,
   "outputs": [],
   "source": [],
   "metadata": {
    "collapsed": false,
    "pycharm": {
     "name": "#%%\n"
    }
   }
  },
  {
   "cell_type": "code",
   "execution_count": null,
   "outputs": [],
   "source": [],
   "metadata": {
    "collapsed": false,
    "pycharm": {
     "name": "#%%\n"
    }
   }
  },
  {
   "cell_type": "code",
   "execution_count": null,
   "outputs": [],
   "source": [],
   "metadata": {
    "collapsed": false,
    "pycharm": {
     "name": "#%%\n"
    }
   }
  }
 ],
 "metadata": {
  "kernelspec": {
   "display_name": "Python 3",
   "language": "python",
   "name": "python3"
  },
  "language_info": {
   "codemirror_mode": {
    "name": "ipython",
    "version": 2
   },
   "file_extension": ".py",
   "mimetype": "text/x-python",
   "name": "python",
   "nbconvert_exporter": "python",
   "pygments_lexer": "ipython2",
   "version": "2.7.6"
  }
 },
 "nbformat": 4,
 "nbformat_minor": 0
}