{
 "cells": [
  {
   "cell_type": "markdown",
   "source": [
    "# To CSV"
   ],
   "metadata": {
    "collapsed": false,
    "pycharm": {
     "name": "#%% md\n"
    }
   }
  },
  {
   "cell_type": "markdown",
   "source": [
    "## Swaney Science 2021"
   ],
   "metadata": {
    "collapsed": false
   }
  },
  {
   "cell_type": "code",
   "execution_count": 1,
   "metadata": {
    "collapsed": true
   },
   "outputs": [],
   "source": [
    "import os.path as op\n",
    "from utils import get_sheet_names\n",
    "from tqdm.notebook import tqdm\n",
    "from utils import excel_to_csv_cell_line\n",
    "\n",
    "SWANEY_SCIENCE_2021_PATH = r\"..\\..\\benchmark\\Swaney_Science2021\""
   ]
  },
  {
   "cell_type": "markdown",
   "source": [
    "## Swaney Science 2021"
   ],
   "metadata": {
    "collapsed": false
   }
  },
  {
   "cell_type": "code",
   "execution_count": 2,
   "outputs": [],
   "source": [
    "SWANEY_SCIENCE_2021_SUPP_PATH = op.join(SWANEY_SCIENCE_2021_PATH, \"science.abf2911_tables_s1_to_s8\")\n",
    "Swaney_Science_2021_Supp_02_Path = op.join(SWANEY_SCIENCE_2021_SUPP_PATH, \"science.abf2911_Table_S2.xlsx\")\n",
    "Swaney_Science_2021_Supp_03_Path = op.join(SWANEY_SCIENCE_2021_SUPP_PATH, \"science.abf2911_Table_S3.xlsx\")\n",
    "Swaney_Science_2021_Supp_04_Path = op.join(SWANEY_SCIENCE_2021_SUPP_PATH, \"science.abf2911_Table_S4.xlsx\")\n",
    "Swaney_Science_2021_Supp_05_Path = op.join(SWANEY_SCIENCE_2021_SUPP_PATH, \"science.abf2911_Table_S5.xlsx\")\n",
    "# Supp_06 skipped.\n",
    "# Supp_07 skipped."
   ],
   "metadata": {
    "collapsed": false,
    "pycharm": {
     "name": "#%%\n"
    }
   }
  },
  {
   "cell_type": "code",
   "execution_count": 3,
   "outputs": [
    {
     "data": {
      "text/plain": "['README',\n 'All data except PIK3CA',\n 'PIK3CA SCC25',\n 'PIK3CA CAL33',\n 'PIK3CA HET1A']"
     },
     "execution_count": 3,
     "metadata": {},
     "output_type": "execute_result"
    }
   ],
   "source": [
    "get_sheet_names(Swaney_Science_2021_Supp_02_Path)\n",
    "get_sheet_names(Swaney_Science_2021_Supp_03_Path)\n",
    "get_sheet_names(Swaney_Science_2021_Supp_04_Path)\n",
    "get_sheet_names(Swaney_Science_2021_Supp_05_Path)"
   ],
   "metadata": {
    "collapsed": false,
    "pycharm": {
     "name": "#%%\n"
    }
   }
  },
  {
   "cell_type": "code",
   "execution_count": 4,
   "outputs": [
    {
     "data": {
      "text/plain": "['README',\n 'All data except PIK3CA',\n 'PIK3CA SCC25',\n 'PIK3CA CAL33',\n 'PIK3CA HET1A']"
     },
     "execution_count": 4,
     "metadata": {},
     "output_type": "execute_result"
    }
   ],
   "source": [
    "get_sheet_names(Swaney_Science_2021_Supp_05_Path)"
   ],
   "metadata": {
    "collapsed": false,
    "pycharm": {
     "name": "#%%\n"
    }
   }
  },
  {
   "cell_type": "code",
   "execution_count": 5,
   "outputs": [
    {
     "name": "stdout",
     "output_type": "stream",
     "text": [
      "Swaney_Science_2021_Supp_02_CAL-33.csv Exported successfully.\n",
      "Swaney_Science_2021_Supp_02_HET-1A.csv Exported successfully.\n",
      "Swaney_Science_2021_Supp_02_SCC-25.csv Exported successfully.\n"
     ]
    }
   ],
   "source": [
    "# Exporting sheets in Supp 02\n",
    "excel_to_csv_cell_line(\"Swaney_Science_2021_Supp_02\", Swaney_Science_2021_Supp_02_Path, \"CAL-33\")\n",
    "excel_to_csv_cell_line(\"Swaney_Science_2021_Supp_02\", Swaney_Science_2021_Supp_02_Path, \"HET-1A\")\n",
    "excel_to_csv_cell_line(\"Swaney_Science_2021_Supp_02\", Swaney_Science_2021_Supp_02_Path, \"SCC-25\")"
   ],
   "metadata": {
    "collapsed": false,
    "pycharm": {
     "name": "#%%\n"
    }
   }
  },
  {
   "cell_type": "code",
   "execution_count": 6,
   "outputs": [
    {
     "name": "stdout",
     "output_type": "stream",
     "text": [
      "Swaney_Science_2021_Supp_03_CAL-33.csv Exported successfully.\n",
      "Swaney_Science_2021_Supp_03_HET-1A.csv Exported successfully.\n",
      "Swaney_Science_2021_Supp_03_HC-PPIs compared across lines.csv Exported successfully.\n"
     ]
    }
   ],
   "source": [
    "# Exporting sheets in Supp 03\n",
    "excel_to_csv_cell_line(\"Swaney_Science_2021_Supp_03\", Swaney_Science_2021_Supp_03_Path, \"CAL-33\")\n",
    "excel_to_csv_cell_line(\"Swaney_Science_2021_Supp_03\", Swaney_Science_2021_Supp_03_Path, \"HET-1A\")\n",
    "excel_to_csv_cell_line(\"Swaney_Science_2021_Supp_03\", Swaney_Science_2021_Supp_03_Path, \"HC-PPIs compared across lines\")"
   ],
   "metadata": {
    "collapsed": false,
    "pycharm": {
     "name": "#%%\n"
    }
   }
  },
  {
   "cell_type": "code",
   "execution_count": 7,
   "outputs": [
    {
     "name": "stdout",
     "output_type": "stream",
     "text": [
      "Swaney_Science_2021_Supp_04_diff-hnc_het1a-filtered.csv Exported successfully.\n"
     ]
    }
   ],
   "source": [
    "# Exporting sheets in Supp 04\n",
    "excel_to_csv_cell_line(\"Swaney_Science_2021_Supp_04\", Swaney_Science_2021_Supp_04_Path, \"diff-hnc_het1a-filtered\")"
   ],
   "metadata": {
    "collapsed": false,
    "pycharm": {
     "name": "#%%\n"
    }
   }
  },
  {
   "cell_type": "code",
   "execution_count": 8,
   "outputs": [
    {
     "name": "stdout",
     "output_type": "stream",
     "text": [
      "Swaney_Science_2021_Supp_05_All data except PIK3CA.csv Exported successfully.\n",
      "Swaney_Science_2021_Supp_05_PIK3CA SCC25.csv Exported successfully.\n",
      "Swaney_Science_2021_Supp_05_PIK3CA CAL33.csv Exported successfully.\n",
      "Swaney_Science_2021_Supp_05_PIK3CA HET1A.csv Exported successfully.\n"
     ]
    }
   ],
   "source": [
    "# Exporting sheets in Supp 05\n",
    "excel_to_csv_cell_line(\"Swaney_Science_2021_Supp_05\", Swaney_Science_2021_Supp_05_Path, 'All data except PIK3CA')\n",
    "excel_to_csv_cell_line(\"Swaney_Science_2021_Supp_05\", Swaney_Science_2021_Supp_05_Path, 'PIK3CA SCC25')\n",
    "excel_to_csv_cell_line(\"Swaney_Science_2021_Supp_05\", Swaney_Science_2021_Supp_05_Path, 'PIK3CA CAL33')\n",
    "excel_to_csv_cell_line(\"Swaney_Science_2021_Supp_05\", Swaney_Science_2021_Supp_05_Path, 'PIK3CA HET1A')"
   ],
   "metadata": {
    "collapsed": false,
    "pycharm": {
     "name": "#%%\n"
    }
   }
  },
  {
   "cell_type": "code",
   "execution_count": 9,
   "outputs": [],
   "source": [],
   "metadata": {
    "collapsed": false,
    "pycharm": {
     "name": "#%%\n"
    }
   }
  },
  {
   "cell_type": "markdown",
   "source": [
    "done."
   ],
   "metadata": {
    "collapsed": false,
    "pycharm": {
     "name": "#%% md\n"
    }
   }
  }
 ],
 "metadata": {
  "kernelspec": {
   "display_name": "Python 3",
   "language": "python",
   "name": "python3"
  },
  "language_info": {
   "codemirror_mode": {
    "name": "ipython",
    "version": 2
   },
   "file_extension": ".py",
   "mimetype": "text/x-python",
   "name": "python",
   "nbconvert_exporter": "python",
   "pygments_lexer": "ipython2",
   "version": "2.7.6"
  }
 },
 "nbformat": 4,
 "nbformat_minor": 0
}