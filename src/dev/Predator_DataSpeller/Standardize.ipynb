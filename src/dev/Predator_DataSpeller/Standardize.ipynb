{
 "cells": [
  {
   "cell_type": "markdown",
   "metadata": {
    "collapsed": true,
    "pycharm": {
     "name": "#%% md\n"
    }
   },
   "source": [
    "# Standardized"
   ]
  },
  {
   "cell_type": "code",
   "execution_count": 1,
   "outputs": [
    {
     "data": {
      "text/plain": "['Kim_Science_2021_Supp_03_MCF10A.csv',\n 'Kim_Science_2021_Supp_03_MCF7.csv',\n 'Kim_Science_2021_Supp_03_MDA231.csv',\n 'Kim_Science_2021_Supp_03_README.csv',\n 'Kim_Science_2021_Supp_04_MCF10A_All_PPI_0.9.csv',\n 'Kim_Science_2021_Supp_04_MCF10A_specific_PPI_0.9.csv',\n 'Kim_Science_2021_Supp_04_MCF7_All_PPI_0.9.csv',\n 'Kim_Science_2021_Supp_04_MCF7_specific_PPI_0.9.csv',\n 'Kim_Science_2021_Supp_04_MDA231_All_PPI_0.9.csv',\n 'Kim_Science_2021_Supp_04_MDA231_BRCA1_PPI_0.65.csv',\n 'Kim_Science_2021_Supp_04_MDA231_specific_PPI_0.9.csv',\n 'Kim_Science_2021_Supp_04_README.csv',\n 'Kim_Science_2021_Supp_06_Differential Interaction Score.csv',\n 'Kim_Science_2021_Supp_06_README.csv',\n 'Kim_Science_2021_Supp_08_log2FC(Mutant-WT)_P0.9.csv',\n 'Kim_Science_2021_Supp_11_breast_public_ppi.csv',\n 'Swaney_Science_2021_Supp_02_CAL-33.csv',\n 'Swaney_Science_2021_Supp_02_HET-1A.csv',\n 'Swaney_Science_2021_Supp_02_SCC-25.csv',\n 'Swaney_Science_2021_Supp_03_CAL-33.csv',\n 'Swaney_Science_2021_Supp_03_HC-PPIs compared across lines.csv',\n 'Swaney_Science_2021_Supp_03_HET-1A.csv',\n 'Swaney_Science_2021_Supp_04_diff-hnc_het1a-filtered.csv',\n 'Swaney_Science_2021_Supp_05_All data except PIK3CA.csv',\n 'Swaney_Science_2021_Supp_05_PIK3CA CAL33.csv',\n 'Swaney_Science_2021_Supp_05_PIK3CA HET1A.csv',\n 'Swaney_Science_2021_Supp_05_PIK3CA SCC25.csv']"
     },
     "execution_count": 1,
     "metadata": {},
     "output_type": "execute_result"
    }
   ],
   "source": [
    "import os\n",
    "import pandas as pd\n",
    "from utils import standardize_file\n",
    "from IPython.display import display\n",
    "\n",
    "os.listdir(\"Parsed\")"
   ],
   "metadata": {
    "collapsed": false,
    "pycharm": {
     "name": "#%%\n"
    }
   }
  },
  {
   "cell_type": "code",
   "execution_count": 2,
   "outputs": [],
   "source": [
    "def look_data(data_path, parsed_path=\"Parsed\"):\n",
    "    data = pd.read_csv(fr\"{parsed_path}\\{data_path}\", index_col=0)\n",
    "    display(data.head())"
   ],
   "metadata": {
    "collapsed": false,
    "pycharm": {
     "name": "#%%\n"
    }
   }
  },
  {
   "cell_type": "code",
   "execution_count": 3,
   "outputs": [
    {
     "data": {
      "text/plain": "  Cell Line           Bait BaitGene Bait Uniprot ID    Prey Prey Gene Entry  \\\n0     SCC25   PIK3CA_K111N   PIK3CA          P42336  O00159     MYO1C_HUMAN   \n1     SCC25   PIK3CA_E453K   PIK3CA          P42336  O00159     MYO1C_HUMAN   \n2     SCC25   PIK3CA_E545G   PIK3CA          P42336  O00159     MYO1C_HUMAN   \n3     SCC25   PIK3CA_E726K   PIK3CA          P42336  O00159     MYO1C_HUMAN   \n4     SCC25  PIK3CA_G1007R   PIK3CA          P42336  O00159     MYO1C_HUMAN   \n\n  Prey Gene Name               PPIcode PPIcode Uniprot  Mutant  \\\n0          MYO1C   PIK3CA_K111N_O00159   P42336_O00159   K111N   \n1          MYO1C   PIK3CA_E453K_O00159   P42336_O00159   E453K   \n2          MYO1C   PIK3CA_E545G_O00159   P42336_O00159   E545G   \n3          MYO1C   PIK3CA_E726K_O00159   P42336_O00159   E726K   \n4          MYO1C  PIK3CA_G1007R_O00159   P42336_O00159  G1007R   \n\n  Log2 fold change (mutant/WT)    pvalue  adjpvalue  \\\n0            -1.54316359029438  0.000476   0.002827   \n1           -0.881725748693139  0.034072   0.110168   \n2           -0.688184185485121  0.093878   0.325412   \n3           -0.675554848232737  0.099814   0.262767   \n4           -0.655655404294159  0.109798   0.364323   \n\n  Is HC-PPI in this cell line IS HC-PPI for PIK3CA in any cell line  \n0                          NO                                   YES  \n1                          NO                                   YES  \n2                          NO                                   YES  \n3                          NO                                   YES  \n4                          NO                                   YES  ",
      "text/html": "<div>\n<style scoped>\n    .dataframe tbody tr th:only-of-type {\n        vertical-align: middle;\n    }\n\n    .dataframe tbody tr th {\n        vertical-align: top;\n    }\n\n    .dataframe thead th {\n        text-align: right;\n    }\n</style>\n<table border=\"1\" class=\"dataframe\">\n  <thead>\n    <tr style=\"text-align: right;\">\n      <th></th>\n      <th>Cell Line</th>\n      <th>Bait</th>\n      <th>BaitGene</th>\n      <th>Bait Uniprot ID</th>\n      <th>Prey</th>\n      <th>Prey Gene Entry</th>\n      <th>Prey Gene Name</th>\n      <th>PPIcode</th>\n      <th>PPIcode Uniprot</th>\n      <th>Mutant</th>\n      <th>Log2 fold change (mutant/WT)</th>\n      <th>pvalue</th>\n      <th>adjpvalue</th>\n      <th>Is HC-PPI in this cell line</th>\n      <th>IS HC-PPI for PIK3CA in any cell line</th>\n    </tr>\n  </thead>\n  <tbody>\n    <tr>\n      <th>0</th>\n      <td>SCC25</td>\n      <td>PIK3CA_K111N</td>\n      <td>PIK3CA</td>\n      <td>P42336</td>\n      <td>O00159</td>\n      <td>MYO1C_HUMAN</td>\n      <td>MYO1C</td>\n      <td>PIK3CA_K111N_O00159</td>\n      <td>P42336_O00159</td>\n      <td>K111N</td>\n      <td>-1.54316359029438</td>\n      <td>0.000476</td>\n      <td>0.002827</td>\n      <td>NO</td>\n      <td>YES</td>\n    </tr>\n    <tr>\n      <th>1</th>\n      <td>SCC25</td>\n      <td>PIK3CA_E453K</td>\n      <td>PIK3CA</td>\n      <td>P42336</td>\n      <td>O00159</td>\n      <td>MYO1C_HUMAN</td>\n      <td>MYO1C</td>\n      <td>PIK3CA_E453K_O00159</td>\n      <td>P42336_O00159</td>\n      <td>E453K</td>\n      <td>-0.881725748693139</td>\n      <td>0.034072</td>\n      <td>0.110168</td>\n      <td>NO</td>\n      <td>YES</td>\n    </tr>\n    <tr>\n      <th>2</th>\n      <td>SCC25</td>\n      <td>PIK3CA_E545G</td>\n      <td>PIK3CA</td>\n      <td>P42336</td>\n      <td>O00159</td>\n      <td>MYO1C_HUMAN</td>\n      <td>MYO1C</td>\n      <td>PIK3CA_E545G_O00159</td>\n      <td>P42336_O00159</td>\n      <td>E545G</td>\n      <td>-0.688184185485121</td>\n      <td>0.093878</td>\n      <td>0.325412</td>\n      <td>NO</td>\n      <td>YES</td>\n    </tr>\n    <tr>\n      <th>3</th>\n      <td>SCC25</td>\n      <td>PIK3CA_E726K</td>\n      <td>PIK3CA</td>\n      <td>P42336</td>\n      <td>O00159</td>\n      <td>MYO1C_HUMAN</td>\n      <td>MYO1C</td>\n      <td>PIK3CA_E726K_O00159</td>\n      <td>P42336_O00159</td>\n      <td>E726K</td>\n      <td>-0.675554848232737</td>\n      <td>0.099814</td>\n      <td>0.262767</td>\n      <td>NO</td>\n      <td>YES</td>\n    </tr>\n    <tr>\n      <th>4</th>\n      <td>SCC25</td>\n      <td>PIK3CA_G1007R</td>\n      <td>PIK3CA</td>\n      <td>P42336</td>\n      <td>O00159</td>\n      <td>MYO1C_HUMAN</td>\n      <td>MYO1C</td>\n      <td>PIK3CA_G1007R_O00159</td>\n      <td>P42336_O00159</td>\n      <td>G1007R</td>\n      <td>-0.655655404294159</td>\n      <td>0.109798</td>\n      <td>0.364323</td>\n      <td>NO</td>\n      <td>YES</td>\n    </tr>\n  </tbody>\n</table>\n</div>"
     },
     "metadata": {},
     "output_type": "display_data"
    }
   ],
   "source": [
    "look_data(\"Swaney_Science_2021_Supp_05_PIK3CA SCC25.csv\")"
   ],
   "metadata": {
    "collapsed": false,
    "pycharm": {
     "name": "#%%\n"
    }
   }
  },
  {
   "cell_type": "code",
   "execution_count": 3,
   "outputs": [],
   "source": [],
   "metadata": {
    "collapsed": false,
    "pycharm": {
     "name": "#%%\n"
    }
   }
  },
  {
   "cell_type": "code",
   "execution_count": 4,
   "outputs": [
    {
     "name": "stdout",
     "output_type": "stream",
     "text": [
      "Kim_Science_2021_Supp_03_MCF10A.csv is exported successfully.\n",
      "Kim_Science_2021_Supp_03_MCF7.csv is exported successfully.\n",
      "Kim_Science_2021_Supp_03_MDA231.csv is exported successfully.\n",
      "Kim_Science_2021_Supp_04_MCF10A_All_PPI_0.9.csv is exported successfully.\n",
      "Kim_Science_2021_Supp_04_MCF10A_specific_PPI_0.9.csv is exported successfully.\n",
      "Kim_Science_2021_Supp_04_MCF7_All_PPI_0.9.csv is exported successfully.\n",
      "Kim_Science_2021_Supp_04_MCF7_specific_PPI_0.9.csv is exported successfully.\n",
      "Kim_Science_2021_Supp_04_MDA231_All_PPI_0.9.csv is exported successfully.\n",
      "Kim_Science_2021_Supp_04_MDA231_BRCA1_PPI_0.65.csv is exported successfully.\n",
      "Kim_Science_2021_Supp_04_MDA231_specific_PPI_0.9.csv is exported successfully.\n",
      "Kim_Science_2021_Supp_06_Differential Interaction Score.csv is exported successfully.\n",
      "Kim_Science_2021_Supp_11_breast_public_ppi.csv is exported successfully.\n",
      "Swaney_Science_2021_Supp_02_CAL-33.csv is exported successfully.\n",
      "Swaney_Science_2021_Supp_02_HET-1A.csv is exported successfully.\n",
      "Swaney_Science_2021_Supp_02_SCC-25.csv is exported successfully.\n",
      "Swaney_Science_2021_Supp_03_CAL-33.csv is exported successfully.\n",
      "Swaney_Science_2021_Supp_03_HC-PPIs compared across lines.csv is exported successfully.\n",
      "Swaney_Science_2021_Supp_03_HET-1A.csv is exported successfully.\n",
      "Swaney_Science_2021_Supp_04_diff-hnc_het1a-filtered.csv is exported successfully.\n",
      "Swaney_Science_2021_Supp_05_All data except PIK3CA.csv is exported successfully.\n",
      "Swaney_Science_2021_Supp_05_PIK3CA CAL33.csv is exported successfully.\n",
      "Swaney_Science_2021_Supp_05_PIK3CA HET1A.csv is exported successfully.\n",
      "Swaney_Science_2021_Supp_05_PIK3CA SCC25.csv is exported successfully.\n"
     ]
    }
   ],
   "source": [
    "standardize_file('Kim_Science_2021_Supp_03_MCF10A.csv', self_protein_col_name=\"Bait ID\",\n",
    "                 interactor_protein_col_name=\"Prey ID\")\n",
    "standardize_file('Kim_Science_2021_Supp_03_MCF7.csv', self_protein_col_name=\"Bait ID\",\n",
    "                 interactor_protein_col_name=\"Prey ID\")\n",
    "standardize_file('Kim_Science_2021_Supp_03_MDA231.csv', self_protein_col_name=\"Bait ID\",\n",
    "                 interactor_protein_col_name=\"Prey ID\")\n",
    "standardize_file('Kim_Science_2021_Supp_04_MCF10A_All_PPI_0.9.csv', self_protein_col_name=\"Bait ID\",\n",
    "                 interactor_protein_col_name=\"Prey ID\")\n",
    "standardize_file('Kim_Science_2021_Supp_04_MCF10A_specific_PPI_0.9.csv', self_protein_col_name=\"Bait ID\",\n",
    "                 interactor_protein_col_name=\"Prey ID\")\n",
    "standardize_file('Kim_Science_2021_Supp_04_MCF7_All_PPI_0.9.csv', self_protein_col_name=\"Bait ID\",\n",
    "                 interactor_protein_col_name=\"Prey ID\")\n",
    "standardize_file('Kim_Science_2021_Supp_04_MCF7_specific_PPI_0.9.csv', self_protein_col_name=\"Bait ID\",\n",
    "                 interactor_protein_col_name=\"Prey ID\")\n",
    "standardize_file('Kim_Science_2021_Supp_04_MDA231_All_PPI_0.9.csv', self_protein_col_name=\"Bait ID\",\n",
    "                 interactor_protein_col_name=\"Prey ID\")\n",
    "standardize_file('Kim_Science_2021_Supp_04_MDA231_BRCA1_PPI_0.65.csv', self_protein_col_name=\"Bait ID\",\n",
    "                 interactor_protein_col_name=\"Prey ID\")\n",
    "standardize_file('Kim_Science_2021_Supp_04_MDA231_specific_PPI_0.9.csv', self_protein_col_name=\"Bait ID\",\n",
    "                 interactor_protein_col_name=\"Prey ID\")\n",
    "standardize_file('Kim_Science_2021_Supp_06_Differential Interaction Score.csv', self_protein_col_name=\"BaitUniprot\",\n",
    "                 interactor_protein_col_name=\"PreyUniprot\")\n",
    "# standardize_file('Kim_Science_2021_Supp_08_log2FC(Mutant-WT)_P0.9.csv', self_protein_col_name=None, interactor_protein_col_name=None)\n",
    "standardize_file('Kim_Science_2021_Supp_11_breast_public_ppi.csv', self_protein_col_name=\"BaitUniprot\",\n",
    "                 interactor_protein_col_name=\"Prey\")\n",
    "standardize_file('Swaney_Science_2021_Supp_02_CAL-33.csv', self_protein_col_name=\"BaitUniprot\",\n",
    "                 interactor_protein_col_name=\"Prey\")\n",
    "standardize_file('Swaney_Science_2021_Supp_02_HET-1A.csv', self_protein_col_name=\"BaitUniprot\",\n",
    "                 interactor_protein_col_name=\"Prey\")\n",
    "standardize_file('Swaney_Science_2021_Supp_02_SCC-25.csv', self_protein_col_name=\"BaitUniprot\",\n",
    "                 interactor_protein_col_name=\"Prey\")\n",
    "standardize_file('Swaney_Science_2021_Supp_03_CAL-33.csv', self_protein_col_name=\"BaitUniprot\",\n",
    "                 interactor_protein_col_name=\"Prey\")\n",
    "standardize_file('Swaney_Science_2021_Supp_03_HC-PPIs compared across lines.csv', self_protein_col_name=\"BaitUniprot\",\n",
    "                 interactor_protein_col_name=\"Prey\")\n",
    "standardize_file('Swaney_Science_2021_Supp_03_HET-1A.csv', self_protein_col_name=\"BaitUniprot\",\n",
    "                 interactor_protein_col_name=\"Prey\")\n",
    "standardize_file('Swaney_Science_2021_Supp_04_diff-hnc_het1a-filtered.csv', self_protein_col_name=\"Bait Uniprot\",\n",
    "                 interactor_protein_col_name=\"Prey\")\n",
    "standardize_file('Swaney_Science_2021_Supp_05_All data except PIK3CA.csv', self_protein_col_name=\"Bait Uniprot ID\",\n",
    "                 interactor_protein_col_name=\"Prey\")\n",
    "standardize_file('Swaney_Science_2021_Supp_05_PIK3CA CAL33.csv', self_protein_col_name=\"Bait Uniprot ID\",\n",
    "                 interactor_protein_col_name=\"Prey\")\n",
    "standardize_file('Swaney_Science_2021_Supp_05_PIK3CA HET1A.csv', self_protein_col_name=\"Bait Uniprot ID\",\n",
    "                 interactor_protein_col_name=\"Prey\")\n",
    "standardize_file('Swaney_Science_2021_Supp_05_PIK3CA SCC25.csv', self_protein_col_name=\"Bait Uniprot ID\",\n",
    "                 interactor_protein_col_name=\"Prey\")"
   ],
   "metadata": {
    "collapsed": false,
    "pycharm": {
     "name": "#%%\n"
    }
   }
  },
  {
   "cell_type": "code",
   "execution_count": null,
   "outputs": [],
   "source": [],
   "metadata": {
    "collapsed": false,
    "pycharm": {
     "name": "#%%\n"
    }
   }
  },
  {
   "cell_type": "code",
   "execution_count": 13,
   "outputs": [
    {
     "data": {
      "text/plain": "    BaitUniprot    Prey Bait Gene Prey Gene\n0        P31749  P31751      AKT1      AKT2\n1        P31749  Q9Y243      AKT1      AKT3\n2        P31749  Q9UKG1      AKT1     APPL1\n3        P31749  P10275      AKT1        AR\n4        P31749  Q14247      AKT1      CTTN\n..          ...     ...       ...       ...\n994      Q9H0D6  O95453      XRN2      PARN\n995      Q9H0D6  Q92900      XRN2      UPF1\n996      Q9H0D6  Q9HAU5      XRN2      UPF2\n997      Q9H0D6  Q9BZI7      XRN2     UPF3B\n998      Q9H0D6  Q8IZH2      XRN2      XRN1\n\n[999 rows x 4 columns]",
      "text/html": "<div>\n<style scoped>\n    .dataframe tbody tr th:only-of-type {\n        vertical-align: middle;\n    }\n\n    .dataframe tbody tr th {\n        vertical-align: top;\n    }\n\n    .dataframe thead th {\n        text-align: right;\n    }\n</style>\n<table border=\"1\" class=\"dataframe\">\n  <thead>\n    <tr style=\"text-align: right;\">\n      <th></th>\n      <th>BaitUniprot</th>\n      <th>Prey</th>\n      <th>Bait Gene</th>\n      <th>Prey Gene</th>\n    </tr>\n  </thead>\n  <tbody>\n    <tr>\n      <th>0</th>\n      <td>P31749</td>\n      <td>P31751</td>\n      <td>AKT1</td>\n      <td>AKT2</td>\n    </tr>\n    <tr>\n      <th>1</th>\n      <td>P31749</td>\n      <td>Q9Y243</td>\n      <td>AKT1</td>\n      <td>AKT3</td>\n    </tr>\n    <tr>\n      <th>2</th>\n      <td>P31749</td>\n      <td>Q9UKG1</td>\n      <td>AKT1</td>\n      <td>APPL1</td>\n    </tr>\n    <tr>\n      <th>3</th>\n      <td>P31749</td>\n      <td>P10275</td>\n      <td>AKT1</td>\n      <td>AR</td>\n    </tr>\n    <tr>\n      <th>4</th>\n      <td>P31749</td>\n      <td>Q14247</td>\n      <td>AKT1</td>\n      <td>CTTN</td>\n    </tr>\n    <tr>\n      <th>...</th>\n      <td>...</td>\n      <td>...</td>\n      <td>...</td>\n      <td>...</td>\n    </tr>\n    <tr>\n      <th>994</th>\n      <td>Q9H0D6</td>\n      <td>O95453</td>\n      <td>XRN2</td>\n      <td>PARN</td>\n    </tr>\n    <tr>\n      <th>995</th>\n      <td>Q9H0D6</td>\n      <td>Q92900</td>\n      <td>XRN2</td>\n      <td>UPF1</td>\n    </tr>\n    <tr>\n      <th>996</th>\n      <td>Q9H0D6</td>\n      <td>Q9HAU5</td>\n      <td>XRN2</td>\n      <td>UPF2</td>\n    </tr>\n    <tr>\n      <th>997</th>\n      <td>Q9H0D6</td>\n      <td>Q9BZI7</td>\n      <td>XRN2</td>\n      <td>UPF3B</td>\n    </tr>\n    <tr>\n      <th>998</th>\n      <td>Q9H0D6</td>\n      <td>Q8IZH2</td>\n      <td>XRN2</td>\n      <td>XRN1</td>\n    </tr>\n  </tbody>\n</table>\n<p>999 rows × 4 columns</p>\n</div>"
     },
     "execution_count": 13,
     "metadata": {},
     "output_type": "execute_result"
    }
   ],
   "source": [
    "pd.read_csv(\"Parsed/Kim_Science_2021_Supp_11_breast_public_ppi.csv\", index_col=0)"
   ],
   "metadata": {
    "collapsed": false,
    "pycharm": {
     "name": "#%%\n"
    }
   }
  },
  {
   "cell_type": "code",
   "execution_count": 8,
   "outputs": [
    {
     "data": {
      "text/plain": "    SELF_PROTEIN INTERACTOR_PROTEIN\n0         O14497             Q969G3\n1         Q96GM5             Q969G3\n2         P43246             O75223\n3         Q9Y243             P46459\n4         Q15831             Q99569\n..           ...                ...\n584       Q12824             Q92925\n585       P04637             Q9UL15\n586       P46527             P24385\n587       O14497             Q92925\n588       Q86UE4             P36578\n\n[589 rows x 2 columns]",
      "text/html": "<div>\n<style scoped>\n    .dataframe tbody tr th:only-of-type {\n        vertical-align: middle;\n    }\n\n    .dataframe tbody tr th {\n        vertical-align: top;\n    }\n\n    .dataframe thead th {\n        text-align: right;\n    }\n</style>\n<table border=\"1\" class=\"dataframe\">\n  <thead>\n    <tr style=\"text-align: right;\">\n      <th></th>\n      <th>SELF_PROTEIN</th>\n      <th>INTERACTOR_PROTEIN</th>\n    </tr>\n  </thead>\n  <tbody>\n    <tr>\n      <th>0</th>\n      <td>O14497</td>\n      <td>Q969G3</td>\n    </tr>\n    <tr>\n      <th>1</th>\n      <td>Q96GM5</td>\n      <td>Q969G3</td>\n    </tr>\n    <tr>\n      <th>2</th>\n      <td>P43246</td>\n      <td>O75223</td>\n    </tr>\n    <tr>\n      <th>3</th>\n      <td>Q9Y243</td>\n      <td>P46459</td>\n    </tr>\n    <tr>\n      <th>4</th>\n      <td>Q15831</td>\n      <td>Q99569</td>\n    </tr>\n    <tr>\n      <th>...</th>\n      <td>...</td>\n      <td>...</td>\n    </tr>\n    <tr>\n      <th>584</th>\n      <td>Q12824</td>\n      <td>Q92925</td>\n    </tr>\n    <tr>\n      <th>585</th>\n      <td>P04637</td>\n      <td>Q9UL15</td>\n    </tr>\n    <tr>\n      <th>586</th>\n      <td>P46527</td>\n      <td>P24385</td>\n    </tr>\n    <tr>\n      <th>587</th>\n      <td>O14497</td>\n      <td>Q92925</td>\n    </tr>\n    <tr>\n      <th>588</th>\n      <td>Q86UE4</td>\n      <td>P36578</td>\n    </tr>\n  </tbody>\n</table>\n<p>589 rows × 2 columns</p>\n</div>"
     },
     "execution_count": 8,
     "metadata": {},
     "output_type": "execute_result"
    }
   ],
   "source": [
    "pd.read_csv(\"ParsedStandardized/Kim_Science_2021_Supp_06_Differential Interaction Score.csv\")"
   ],
   "metadata": {
    "collapsed": false,
    "pycharm": {
     "name": "#%%\n"
    }
   }
  },
  {
   "cell_type": "code",
   "execution_count": 24,
   "outputs": [],
   "source": [],
   "metadata": {
    "collapsed": false,
    "pycharm": {
     "name": "#%%\n"
    }
   }
  },
  {
   "cell_type": "code",
   "execution_count": 25,
   "outputs": [],
   "source": [],
   "metadata": {
    "collapsed": false,
    "pycharm": {
     "name": "#%%\n"
    }
   }
  },
  {
   "cell_type": "code",
   "execution_count": 26,
   "outputs": [
    {
     "data": {
      "text/plain": "['Kim_Science_2021_Supp_03_MCF10A.csv',\n 'Kim_Science_2021_Supp_04_MCF10A_All_PPI_0.9.csv',\n 'Kim_Science_2021_Supp_04_MCF10A_specific_PPI_0.9.csv',\n 'Kim_Science_2021_Supp_06_Differential Interaction Score.csv']"
     },
     "execution_count": 26,
     "metadata": {},
     "output_type": "execute_result"
    }
   ],
   "source": [
    "search_in_parsed_standardized(\"P31749\", \"Q9UBC9\")"
   ],
   "metadata": {
    "collapsed": false,
    "pycharm": {
     "name": "#%%\n"
    }
   }
  },
  {
   "cell_type": "code",
   "execution_count": 44,
   "outputs": [],
   "source": [],
   "metadata": {
    "collapsed": false,
    "pycharm": {
     "name": "#%%\n"
    }
   }
  },
  {
   "cell_type": "code",
   "execution_count": null,
   "outputs": [],
   "source": [],
   "metadata": {
    "collapsed": false,
    "pycharm": {
     "name": "#%%\n"
    }
   }
  },
  {
   "cell_type": "code",
   "execution_count": null,
   "outputs": [],
   "source": [],
   "metadata": {
    "collapsed": false,
    "pycharm": {
     "name": "#%%\n"
    }
   }
  },
  {
   "cell_type": "code",
   "execution_count": null,
   "outputs": [],
   "source": [],
   "metadata": {
    "collapsed": false,
    "pycharm": {
     "name": "#%%\n"
    }
   }
  },
  {
   "cell_type": "code",
   "execution_count": 45,
   "outputs": [],
   "source": [
    "L = [('Q96SB4:SRPK1', 7),\n",
    "     ('P00533:EGFR', 2),\n",
    "     ('P51813:BMX', 2),\n",
    "     ('Q14289:PTK2B', 2),\n",
    "     ('P16591:FER', 2),\n",
    "     ('P06241:FYN', 2),\n",
    "     ('P08069:IGF1R', 2),\n",
    "     ('Q13153:PAK1', 2),\n",
    "     ('P42680:TEC', 2),\n",
    "     ('P21860:ERBB3', 1),\n",
    "     ('O60674:JAK2', 1),\n",
    "     ('P15153:RAC2', 1),\n",
    "     ('Q9UJM3:ERRFI1', 1),\n",
    "     ('Q92625:ANKS1A', 1),\n",
    "     ('P23458:JAK1', 1)]"
   ],
   "metadata": {
    "collapsed": false,
    "pycharm": {
     "name": "#%%\n"
    }
   }
  },
  {
   "cell_type": "code",
   "execution_count": 50,
   "outputs": [],
   "source": [
    "fica_brca = FindInScienceArticles(\"BRCA\")\n",
    "for pair, _ in L:\n",
    "    protein = \"P04626\"\n",
    "    interactor = pair.split(':')[0]\n",
    "    fica_brca.look_up(protein, interactor)"
   ],
   "metadata": {
    "collapsed": false,
    "pycharm": {
     "name": "#%%\n"
    }
   }
  },
  {
   "cell_type": "code",
   "execution_count": 51,
   "outputs": [
    {
     "name": "stdout",
     "output_type": "stream",
     "text": [
      "Table constucted.\n"
     ]
    },
    {
     "data": {
      "text/plain": "    TCGA PROTEIN INTERACTOR  FOUND_FLAG  \\\n0   BRCA  P04626     Q96SB4        True   \n1   BRCA  P04626     P00533        True   \n2   BRCA  P04626     P51813       False   \n3   BRCA  P04626     Q14289        True   \n4   BRCA  P04626     P16591       False   \n5   BRCA  P04626     P06241       False   \n6   BRCA  P04626     P08069        True   \n7   BRCA  P04626     Q13153       False   \n8   BRCA  P04626     P42680       False   \n9   BRCA  P04626     P21860        True   \n10  BRCA  P04626     O60674       False   \n11  BRCA  P04626     P15153        True   \n12  BRCA  P04626     Q9UJM3       False   \n13  BRCA  P04626     Q92625        True   \n14  BRCA  P04626     P23458        True   \n\n                                          FOUND_FILES  \n0               [Kim_Science_2021_Supp_03_MDA231.csv]  \n1   [Kim_Science_2021_Supp_03_MCF10A.csv, Kim_Scie...  \n2                                                  []  \n3            [Swaney_Science_2021_Supp_02_SCC-25.csv]  \n4                                                  []  \n5                                                  []  \n6   [Swaney_Science_2021_Supp_02_CAL-33.csv, Swane...  \n7                                                  []  \n8                                                  []  \n9            [Swaney_Science_2021_Supp_02_CAL-33.csv]  \n10                                                 []  \n11  [Kim_Science_2021_Supp_03_MDA231.csv, Swaney_S...  \n12                                                 []  \n13                [Kim_Science_2021_Supp_03_MCF7.csv]  \n14  [Kim_Science_2021_Supp_03_MCF10A.csv, Kim_Scie...  ",
      "text/html": "<div>\n<style scoped>\n    .dataframe tbody tr th:only-of-type {\n        vertical-align: middle;\n    }\n\n    .dataframe tbody tr th {\n        vertical-align: top;\n    }\n\n    .dataframe thead th {\n        text-align: right;\n    }\n</style>\n<table border=\"1\" class=\"dataframe\">\n  <thead>\n    <tr style=\"text-align: right;\">\n      <th></th>\n      <th>TCGA</th>\n      <th>PROTEIN</th>\n      <th>INTERACTOR</th>\n      <th>FOUND_FLAG</th>\n      <th>FOUND_FILES</th>\n    </tr>\n  </thead>\n  <tbody>\n    <tr>\n      <th>0</th>\n      <td>BRCA</td>\n      <td>P04626</td>\n      <td>Q96SB4</td>\n      <td>True</td>\n      <td>[Kim_Science_2021_Supp_03_MDA231.csv]</td>\n    </tr>\n    <tr>\n      <th>1</th>\n      <td>BRCA</td>\n      <td>P04626</td>\n      <td>P00533</td>\n      <td>True</td>\n      <td>[Kim_Science_2021_Supp_03_MCF10A.csv, Kim_Scie...</td>\n    </tr>\n    <tr>\n      <th>2</th>\n      <td>BRCA</td>\n      <td>P04626</td>\n      <td>P51813</td>\n      <td>False</td>\n      <td>[]</td>\n    </tr>\n    <tr>\n      <th>3</th>\n      <td>BRCA</td>\n      <td>P04626</td>\n      <td>Q14289</td>\n      <td>True</td>\n      <td>[Swaney_Science_2021_Supp_02_SCC-25.csv]</td>\n    </tr>\n    <tr>\n      <th>4</th>\n      <td>BRCA</td>\n      <td>P04626</td>\n      <td>P16591</td>\n      <td>False</td>\n      <td>[]</td>\n    </tr>\n    <tr>\n      <th>5</th>\n      <td>BRCA</td>\n      <td>P04626</td>\n      <td>P06241</td>\n      <td>False</td>\n      <td>[]</td>\n    </tr>\n    <tr>\n      <th>6</th>\n      <td>BRCA</td>\n      <td>P04626</td>\n      <td>P08069</td>\n      <td>True</td>\n      <td>[Swaney_Science_2021_Supp_02_CAL-33.csv, Swane...</td>\n    </tr>\n    <tr>\n      <th>7</th>\n      <td>BRCA</td>\n      <td>P04626</td>\n      <td>Q13153</td>\n      <td>False</td>\n      <td>[]</td>\n    </tr>\n    <tr>\n      <th>8</th>\n      <td>BRCA</td>\n      <td>P04626</td>\n      <td>P42680</td>\n      <td>False</td>\n      <td>[]</td>\n    </tr>\n    <tr>\n      <th>9</th>\n      <td>BRCA</td>\n      <td>P04626</td>\n      <td>P21860</td>\n      <td>True</td>\n      <td>[Swaney_Science_2021_Supp_02_CAL-33.csv]</td>\n    </tr>\n    <tr>\n      <th>10</th>\n      <td>BRCA</td>\n      <td>P04626</td>\n      <td>O60674</td>\n      <td>False</td>\n      <td>[]</td>\n    </tr>\n    <tr>\n      <th>11</th>\n      <td>BRCA</td>\n      <td>P04626</td>\n      <td>P15153</td>\n      <td>True</td>\n      <td>[Kim_Science_2021_Supp_03_MDA231.csv, Swaney_S...</td>\n    </tr>\n    <tr>\n      <th>12</th>\n      <td>BRCA</td>\n      <td>P04626</td>\n      <td>Q9UJM3</td>\n      <td>False</td>\n      <td>[]</td>\n    </tr>\n    <tr>\n      <th>13</th>\n      <td>BRCA</td>\n      <td>P04626</td>\n      <td>Q92625</td>\n      <td>True</td>\n      <td>[Kim_Science_2021_Supp_03_MCF7.csv]</td>\n    </tr>\n    <tr>\n      <th>14</th>\n      <td>BRCA</td>\n      <td>P04626</td>\n      <td>P23458</td>\n      <td>True</td>\n      <td>[Kim_Science_2021_Supp_03_MCF10A.csv, Kim_Scie...</td>\n    </tr>\n  </tbody>\n</table>\n</div>"
     },
     "execution_count": 51,
     "metadata": {},
     "output_type": "execute_result"
    }
   ],
   "source": [
    "fica_brca.construct_table()\n",
    "fica_brca.data"
   ],
   "metadata": {
    "collapsed": false,
    "pycharm": {
     "name": "#%%\n"
    }
   }
  },
  {
   "cell_type": "code",
   "execution_count": null,
   "outputs": [],
   "source": [],
   "metadata": {
    "collapsed": false,
    "pycharm": {
     "name": "#%%\n"
    }
   }
  },
  {
   "cell_type": "code",
   "execution_count": null,
   "outputs": [],
   "source": [],
   "metadata": {
    "collapsed": false,
    "pycharm": {
     "name": "#%%\n"
    }
   }
  },
  {
   "cell_type": "code",
   "execution_count": 17,
   "outputs": [],
   "source": [],
   "metadata": {
    "collapsed": false,
    "pycharm": {
     "name": "#%%\n"
    }
   }
  }
 ],
 "metadata": {
  "kernelspec": {
   "display_name": "Python 3",
   "language": "python",
   "name": "python3"
  },
  "language_info": {
   "codemirror_mode": {
    "name": "ipython",
    "version": 2
   },
   "file_extension": ".py",
   "mimetype": "text/x-python",
   "name": "python",
   "nbconvert_exporter": "python",
   "pygments_lexer": "ipython2",
   "version": "2.7.6"
  }
 },
 "nbformat": 4,
 "nbformat_minor": 0
}