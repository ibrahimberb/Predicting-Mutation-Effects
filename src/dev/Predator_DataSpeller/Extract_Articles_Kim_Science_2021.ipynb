{
 "cells": [
  {
   "cell_type": "markdown",
   "source": [
    "# To CSV"
   ],
   "metadata": {
    "collapsed": false,
    "pycharm": {
     "name": "#%% md\n"
    }
   }
  },
  {
   "cell_type": "markdown",
   "source": [
    "## Kim Science 2021"
   ],
   "metadata": {
    "collapsed": false
   }
  },
  {
   "cell_type": "code",
   "execution_count": 1,
   "metadata": {
    "collapsed": true
   },
   "outputs": [],
   "source": [
    "import os.path as op\n",
    "from utils import get_sheet_names\n",
    "from tqdm.notebook import tqdm\n",
    "from utils import excel_to_csv_cell_line\n",
    "\n",
    "KIM_SCIENCE_2021_PATH = r\"..\\..\\benchmark\\Kim_Breast_Science_2021\""
   ]
  },
  {
   "cell_type": "code",
   "execution_count": 2,
   "outputs": [],
   "source": [
    "KIM_SCIENCE_2021_SUPP_PATH = op.join(KIM_SCIENCE_2021_PATH, \"science.abf3066_tables_s2_to_s12\")\n",
    "Kim_Science_2021_Supp_03_Path = op.join(KIM_SCIENCE_2021_SUPP_PATH, \"science.abf3066_Table_S3.xlsx\")\n",
    "Kim_Science_2021_Supp_04_Path = op.join(KIM_SCIENCE_2021_SUPP_PATH, \"science.abf3066_Table_S4.xlsx\")\n",
    "# Supp_05 skipped.\n",
    "Kim_Science_2021_Supp_06_Path = op.join(KIM_SCIENCE_2021_SUPP_PATH, \"science.abf3066_Table_S6.xlsx\")\n",
    "# Supp_07 skipped.\n",
    "Kim_Science_2021_Supp_08_Path = op.join(KIM_SCIENCE_2021_SUPP_PATH, \"science.abf3066_Table_S8.xlsx\")\n",
    "# Supp_09 skipped.\n",
    "# Supp_10 skipped.\n",
    "Kim_Science_2021_Supp_11_Path = op.join(KIM_SCIENCE_2021_SUPP_PATH, \"science.abf3066_Table_S11.xlsx\")\n",
    "# Supp_12 skipped."
   ],
   "metadata": {
    "collapsed": false,
    "pycharm": {
     "name": "#%%\n"
    }
   }
  },
  {
   "cell_type": "code",
   "execution_count": 3,
   "outputs": [
    {
     "data": {
      "text/plain": "['README', 'MDA231', 'MCF7', 'MCF10A']"
     },
     "execution_count": 3,
     "metadata": {},
     "output_type": "execute_result"
    }
   ],
   "source": [
    "get_sheet_names(Kim_Science_2021_Supp_03_Path)"
   ],
   "metadata": {
    "collapsed": false,
    "pycharm": {
     "name": "#%%\n"
    }
   }
  },
  {
   "cell_type": "code",
   "execution_count": 4,
   "outputs": [
    {
     "data": {
      "text/plain": "['README',\n 'MDA231_All_PPI>=0.9',\n 'MDA231_BRCA1_PPI>=0.65',\n 'MCF7_All_PPI>=0.9',\n 'MCF10A_All_PPI>=0.9',\n 'MDA231_specific_PPI>=0.9',\n 'MCF7_specific_PPI>=0.9',\n 'MCF10A_specific_PPI>=0.9']"
     },
     "execution_count": 4,
     "metadata": {},
     "output_type": "execute_result"
    }
   ],
   "source": [
    "get_sheet_names(Kim_Science_2021_Supp_04_Path)"
   ],
   "metadata": {
    "collapsed": false,
    "pycharm": {
     "name": "#%%\n"
    }
   }
  },
  {
   "cell_type": "code",
   "execution_count": 5,
   "outputs": [
    {
     "data": {
      "text/plain": "['README', 'Differential Interaction Score']"
     },
     "execution_count": 5,
     "metadata": {},
     "output_type": "execute_result"
    }
   ],
   "source": [
    "get_sheet_names(Kim_Science_2021_Supp_06_Path)"
   ],
   "metadata": {
    "collapsed": false,
    "pycharm": {
     "name": "#%%\n"
    }
   }
  },
  {
   "cell_type": "code",
   "execution_count": 6,
   "outputs": [
    {
     "data": {
      "text/plain": "['README',\n 'log2FC(Mutant-WT)_P0.9',\n 'BRCA1_log2FC(Mut-WT)_P0.65',\n 'BRCA1 PPIs affected (IMEx)']"
     },
     "execution_count": 6,
     "metadata": {},
     "output_type": "execute_result"
    }
   ],
   "source": [
    "get_sheet_names(Kim_Science_2021_Supp_08_Path)"
   ],
   "metadata": {
    "collapsed": false,
    "pycharm": {
     "name": "#%%\n"
    }
   }
  },
  {
   "cell_type": "code",
   "execution_count": 7,
   "outputs": [
    {
     "data": {
      "text/plain": "['breast_public_ppi']"
     },
     "execution_count": 7,
     "metadata": {},
     "output_type": "execute_result"
    }
   ],
   "source": [
    "get_sheet_names(Kim_Science_2021_Supp_11_Path)"
   ],
   "metadata": {
    "collapsed": false,
    "pycharm": {
     "name": "#%%\n"
    }
   }
  },
  {
   "cell_type": "code",
   "execution_count": 8,
   "outputs": [
    {
     "data": {
      "text/plain": "  0%|          | 0/4 [00:00<?, ?it/s]",
      "application/vnd.jupyter.widget-view+json": {
       "version_major": 2,
       "version_minor": 0,
       "model_id": "830565e319a94d85ade474536e5cf0ff"
      }
     },
     "metadata": {},
     "output_type": "display_data"
    },
    {
     "name": "stdout",
     "output_type": "stream",
     "text": [
      "Kim_Science_2021_Supp_03_README.csv Exported successfully.\n",
      "Kim_Science_2021_Supp_03_MDA231.csv Exported successfully.\n",
      "Kim_Science_2021_Supp_03_MCF7.csv Exported successfully.\n",
      "Kim_Science_2021_Supp_03_MCF10A.csv Exported successfully.\n"
     ]
    }
   ],
   "source": [
    "# Exporting sheets in Supp 03\n",
    "for sheet_name in tqdm(get_sheet_names(Kim_Science_2021_Supp_03_Path)):\n",
    "    excel_to_csv_cell_line(\"Kim_Science_2021_Supp_03\", Kim_Science_2021_Supp_03_Path, sheet_name)"
   ],
   "metadata": {
    "collapsed": false,
    "pycharm": {
     "name": "#%%\n"
    }
   }
  },
  {
   "cell_type": "code",
   "execution_count": 9,
   "outputs": [
    {
     "name": "stdout",
     "output_type": "stream",
     "text": [
      "Kim_Science_2021_Supp_04_README.csv Exported successfully.\n",
      "Kim_Science_2021_Supp_04_MDA231_All_PPI_0.9.csv Exported successfully.\n",
      "Kim_Science_2021_Supp_04_MDA231_BRCA1_PPI_0.65.csv Exported successfully.\n",
      "Kim_Science_2021_Supp_04_MCF7_All_PPI_0.9.csv Exported successfully.\n",
      "Kim_Science_2021_Supp_04_MCF10A_All_PPI_0.9.csv Exported successfully.\n",
      "Kim_Science_2021_Supp_04_MDA231_specific_PPI_0.9.csv Exported successfully.\n",
      "Kim_Science_2021_Supp_04_MCF7_specific_PPI_0.9.csv Exported successfully.\n",
      "Kim_Science_2021_Supp_04_MCF10A_specific_PPI_0.9.csv Exported successfully.\n"
     ]
    }
   ],
   "source": [
    "# Exporting sheets in Supp 04\n",
    "excel_to_csv_cell_line(\"Kim_Science_2021_Supp_04\", Kim_Science_2021_Supp_04_Path, 0, use_different_name=\"README\")\n",
    "excel_to_csv_cell_line(\"Kim_Science_2021_Supp_04\", Kim_Science_2021_Supp_04_Path, 1, use_different_name=\"MDA231_All_PPI_0.9\")\n",
    "excel_to_csv_cell_line(\"Kim_Science_2021_Supp_04\", Kim_Science_2021_Supp_04_Path, 2, use_different_name=\"MDA231_BRCA1_PPI_0.65\")\n",
    "excel_to_csv_cell_line(\"Kim_Science_2021_Supp_04\", Kim_Science_2021_Supp_04_Path, 3, use_different_name='MCF7_All_PPI_0.9')\n",
    "excel_to_csv_cell_line(\"Kim_Science_2021_Supp_04\", Kim_Science_2021_Supp_04_Path, 4, use_different_name='MCF10A_All_PPI_0.9')\n",
    "excel_to_csv_cell_line(\"Kim_Science_2021_Supp_04\", Kim_Science_2021_Supp_04_Path, 5, use_different_name='MDA231_specific_PPI_0.9')\n",
    "excel_to_csv_cell_line(\"Kim_Science_2021_Supp_04\", Kim_Science_2021_Supp_04_Path, 6, use_different_name='MCF7_specific_PPI_0.9')\n",
    "excel_to_csv_cell_line(\"Kim_Science_2021_Supp_04\", Kim_Science_2021_Supp_04_Path, 7, use_different_name='MCF10A_specific_PPI_0.9')"
   ],
   "metadata": {
    "collapsed": false,
    "pycharm": {
     "name": "#%%\n"
    }
   }
  },
  {
   "cell_type": "code",
   "execution_count": 10,
   "outputs": [
    {
     "name": "stdout",
     "output_type": "stream",
     "text": [
      "Kim_Science_2021_Supp_06_README.csv Exported successfully.\n",
      "Kim_Science_2021_Supp_06_Differential Interaction Score.csv Exported successfully.\n"
     ]
    }
   ],
   "source": [
    "# Exporting sheets in Supp 06\n",
    "excel_to_csv_cell_line(\"Kim_Science_2021_Supp_06\", Kim_Science_2021_Supp_06_Path, 0, use_different_name=\"README\")\n",
    "excel_to_csv_cell_line(\"Kim_Science_2021_Supp_06\", Kim_Science_2021_Supp_06_Path, 1, use_different_name=\"Differential Interaction Score\")"
   ],
   "metadata": {
    "collapsed": false,
    "pycharm": {
     "name": "#%%\n"
    }
   }
  },
  {
   "cell_type": "code",
   "execution_count": 11,
   "outputs": [
    {
     "name": "stdout",
     "output_type": "stream",
     "text": [
      "Kim_Science_2021_Supp_08_log2FC(Mutant-WT)_P0.9.csv Exported successfully.\n"
     ]
    }
   ],
   "source": [
    "# Exporting sheets in Supp 08\n",
    "excel_to_csv_cell_line(\"Kim_Science_2021_Supp_08\", Kim_Science_2021_Supp_08_Path, 1, use_different_name=\"log2FC(Mutant-WT)_P0.9\")"
   ],
   "metadata": {
    "collapsed": false,
    "pycharm": {
     "name": "#%%\n"
    }
   }
  },
  {
   "cell_type": "code",
   "execution_count": 12,
   "outputs": [
    {
     "name": "stdout",
     "output_type": "stream",
     "text": [
      "Kim_Science_2021_Supp_11_breast_public_ppi.csv Exported successfully.\n"
     ]
    }
   ],
   "source": [
    "# Exporting sheets in Supp 11\n",
    "excel_to_csv_cell_line(\"Kim_Science_2021_Supp_11\", Kim_Science_2021_Supp_11_Path, 0, use_different_name=\"breast_public_ppi\")"
   ],
   "metadata": {
    "collapsed": false,
    "pycharm": {
     "name": "#%%\n"
    }
   }
  },
  {
   "cell_type": "code",
   "execution_count": 12,
   "outputs": [],
   "source": [],
   "metadata": {
    "collapsed": false,
    "pycharm": {
     "name": "#%%\n"
    }
   }
  },
  {
   "cell_type": "markdown",
   "source": [
    "done."
   ],
   "metadata": {
    "collapsed": false,
    "pycharm": {
     "name": "#%% md\n"
    }
   }
  }
 ],
 "metadata": {
  "kernelspec": {
   "display_name": "Python 3",
   "language": "python",
   "name": "python3"
  },
  "language_info": {
   "codemirror_mode": {
    "name": "ipython",
    "version": 2
   },
   "file_extension": ".py",
   "mimetype": "text/x-python",
   "name": "python",
   "nbconvert_exporter": "python",
   "pygments_lexer": "ipython2",
   "version": "2.7.6"
  }
 },
 "nbformat": 4,
 "nbformat_minor": 0
}